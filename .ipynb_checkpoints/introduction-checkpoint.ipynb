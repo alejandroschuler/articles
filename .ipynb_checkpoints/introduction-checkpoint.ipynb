{
 "cells": [
  {
   "cell_type": "markdown",
   "metadata": {},
   "source": [
    "# READ THIS FIRST"
   ]
  },
  {
   "cell_type": "markdown",
   "metadata": {},
   "source": [
    "This book will give you a foundational intuition for machine learning. Armed with that intuition, you will know when and how to use machine learning methods and how to correctly interpret the results. \n",
    "\n",
    "To gain that foundational intuition, we need to cover the basics of abstract concepts like probabilities, conditional expectations, model classes, and optimization. But that's not as much work as it sounds. And, actually, knowing the basics will *save you time* in the long run. If you're like many of the people I've met, you've already spent months or years wading through blog posts, struggling to stay engaged with online lectures, or confusedly foraying into scientific papers- you can run some models, but you have a nagging feeling that you still don't really know what you're doing. \n",
    "\n",
    "This book will help you slow down and be more deliberate. If you take the time now to understand basic concepts, they will pay dividends far into the future. Learning to use a new method will be like learning to drive a new car. All you'll have to do is adjust the mirrors and figure out what side the gas is on- at worst you need to learn how to drive stick shift!\n",
    "\n",
    "Fortunately, developing a rigorous understanding doesn't require a PhD in statistics, computer science, or math. This isn't a book that's filled with theorems and proofs. I do use symbols and mathematical language throughout the book, but only after carefully explaining their meaning using words, metaphor, and code. And I write in informal, accessible, and direct language, so I hope reading this book feels more like a conversation than a lecture. \n",
    "\n",
    "Even so, this book will give you a good scaffold if you do go on to read more thorough theory books. Anyone can learn this stuff! You just need to be patient and have a good roadmap to figure out what order things should be learned in. Hopefully this book is the latter, and you can provide the former.\n",
    "\n",
    "That brings me to what *you* can do to be successful with this book. First off, I encourage you to *do every exercise*. I include a small number of exercises throughout each chapter. There aren't very many, and most are simple. In sticking with the philosophy of this book, which is to slow down a bit, the exercises are there to be speedbumps in part. If you're going too fast you'll be stumped by an exercise, which is an indication to take more time on that section. I also encourage you to not skip or skim any chapters unless you are completely confident that you understand the material. This book is meant to be read in order, cover-to-cover. Lastly, if you don't understand a bit of code that I present, stop and see if you can figure it out. Play with it yourself, read the documention, or google it- but don't move on until you get the gist of it. \n",
    "\n",
    "Although I present and build intuition for a lot of background material within the book, there are some things that I expect you to know before starting. First off, you should be comfortable with calculus: derivatives, the chain rule, the relationship between derivatives and integrals, etc. You don't need to be able to derive the fundamental theorem of calculus from scratch, explain what a limit is, or do complex integration by parts, but if you see something like $\\int_1^b \\frac{1}{x}dx = \\log(b)$, you should either immediately get it or be able to get it after a quick wikipedia search for "
   ]
  },
  {
   "cell_type": "markdown",
   "metadata": {},
   "source": []
  },
  {
   "cell_type": "markdown",
   "metadata": {},
   "source": [
    "## Who are you\n",
    "- you want to actually be good at ML.\n",
    "- you've read some blog posts- you feel like you learn, but you have so many unanswered questions\n",
    "- maybe you're intimidated by the math in some advanced texts or\n",
    "- maybe you're working, maybe you want to change careers, maybe you're in the first few years of grad school, maybe you're an undergrad- all great. \n",
    "- you've done calculus\n",
    "- you've programmed a bit in python. You know what lists, dictionaries, loops, classes, and numpy arrays are. You've maybe used pandas a little bit. "
   ]
  },
  {
   "cell_type": "markdown",
   "metadata": {},
   "source": [
    "### Why python?\n",
    "- I don't have a dog in the python vs. R fight. Python is a more sensible programming language overall and easier for beginners to learn, but R has great tools like the tidyverse. I use them both and in your work I encourage you to use whatever you're most comfortable with. For the material in this course, python makes more sense. If it were a course on manipulating tabluar data, R would be better."
   ]
  },
  {
   "cell_type": "markdown",
   "metadata": {},
   "source": [
    "## Why this material?"
   ]
  },
  {
   "cell_type": "markdown",
   "metadata": {},
   "source": [
    "- The material presented here is what you need to be able to comfortably understand and apply supervised learning/predictive models, know when it is appropriate to do so, and know when it is not. \n",
    "- Applied, but the only way to really apply right is to understand a bit\n",
    "- unlike other books, it is *not* an enumeration of the inner workings of different methods. We will go through a few specific machine learning methods, but it will be to demonstrate how the concepts shared between them are expressed in each of them, not to give a tour of the zoo. \n",
    "- Other books are often zoos. Here is the lion, here is the eagle, here is the orangutan. Some of these books spend a great amount of time at each exhibit, detailing the precise qualities of each animal, while others give a whirlwind tour or only discuss how to identify each animal in the wild. This book takes a different approach: I put the evolutionary biology and physiology first- only giving lions and orangutans as examples to demonstrate \n",
    "- Once you understand the core concepts, picking up these different methods is almost trivial. You will be able to read and understand research ML papers. You may not recognize or know of every concept, but you will know of a similar concept or be able to at least understand what role it is supposed to play.\n",
    "- no unsupervised learning, no reinforcement learning, very little causal inference, no non-tabular data, little discussion of feature engineering. But we do explain when and why you want to use each of these and point to good resources for each."
   ]
  },
  {
   "cell_type": "markdown",
   "metadata": {},
   "source": [
    "## How can you be successful with this book?"
   ]
  },
  {
   "cell_type": "markdown",
   "metadata": {},
   "source": [
    "### A note about math\n",
    "- math is just ideas expressed very clearly\n",
    "- it's unnantural because that's not how we understand things. We think in metaphors and stories, not abstractions. The abstractions are more widely applicable, though, they are very useful! \n",
    "- example of a non-mathematical abstraction, like a map\n",
    "- symbols are weird, they are just shorthand. History of math notation\n",
    "- go slow when reading math. Since it's shorthand, a big idea can be expressed with very little notation- that's the point of it. But you should read it as slowly as it would have taken you to read the whole paragraph that otherwise would have to be dedicated to express that idea. "
   ]
  },
  {
   "cell_type": "code",
   "execution_count": null,
   "metadata": {},
   "outputs": [],
   "source": []
  }
 ],
 "metadata": {
  "kernelspec": {
   "display_name": "Python 3",
   "language": "python",
   "name": "python3"
  },
  "language_info": {
   "codemirror_mode": {
    "name": "ipython",
    "version": 3
   },
   "file_extension": ".py",
   "mimetype": "text/x-python",
   "name": "python",
   "nbconvert_exporter": "python",
   "pygments_lexer": "ipython3",
   "version": "3.7.3"
  }
 },
 "nbformat": 4,
 "nbformat_minor": 4
}
