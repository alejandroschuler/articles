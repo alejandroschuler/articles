{
 "cells": [
  {
   "cell_type": "markdown",
   "metadata": {},
   "source": [
    "# Introduction"
   ]
  },
  {
   "cell_type": "markdown",
   "metadata": {},
   "source": [
    "## Why This Book?\n",
    "\n",
    "I wrote this book because existing resources for machine learning are, in broad strokes, either math-heavy tomes that assume you're comfortable with graduate-level statistics, or recipe books that give you some code to copy without really understanding why. \n",
    "\n",
    "While it's true that you need some theory to be able to competently use machine learning, you certainly don't need a PhD in statistics. Unfortunately, all the decent books tend to assume you have one because they are written by people who do! In reality, though, there are only a small number of core concepts that you need to understand to build a foundational intuition for machine learning. Once you have that intuition built up, learning how to use new methods or tweak old ones is a breeze.\n",
    "\n",
    "Understanding those core concepts, like probability and optimization, is not as much work as it sounds. And, actually, knowing the basics will *save you time* in the long run. If you're like many of the people I've met, you've already spent months or years wading through blog posts, struggling to stay engaged with online lectures, or confusedly foraying into scientific papers- you can run some models, but you have a nagging feeling that you still don't really know what you're doing. This book will help you slow down and be more deliberate. If you take the time now, it will pay dividends far into the future.\n",
    "\n",
    "And don't worry- this isn't a book that's filled with theorems and proofs. I do use symbols and mathematical language throughout the book, but only after carefully explaining their meaning using words, metaphor, and code. And I write in informal, accessible, and direct language, so I hope reading this book feels more like a conversation than a lecture. \n",
    "\n",
    "Even so, this book will give you a good scaffold if you do go on to read more detailed theory books (which I hope you do). Anyone can learn this stuff! You just need to be patient and have a good roadmap to figure out what order things should be learned in. Hopefully this book is the latter, and you can provide the former."
   ]
  },
  {
   "cell_type": "markdown",
   "metadata": {},
   "source": [
    "## About You\n",
    "\n",
    "That brings me to what *you* can do to be successful with this book. First off, I encourage you to *do every exercise*. I include a small number of exercises throughout each chapter. There aren't very many, and most are simple. In sticking with the philosophy of this book, which is to slow down a bit, the exercises are there to be speedbumps in part. If you're going too fast you'll be stumped by an exercise, which is an indication to take more time on that section. I also encourage you to not skip or skim any chapters unless you are completely confident that you understand the material. This book is meant to be read in order, cover-to-cover. Lastly, if you don't understand a bit of code that I present, stop and see if you can figure it out. Play with it yourself, read the documention, or google it- but don't move on until you get the gist of it. \n",
    "\n",
    "Although I present and build intuition for a lot of background material within the book, there are some things that I expect you to know before starting. First off, you should be comfortable with calculus: derivatives, the chain rule, the relationship between derivatives and integrals, etc. You don't need to be able to derive the fundamental theorem of calculus from scratch, explain what a limit is, or do complex integration by parts, but if you see something like $\\int_1^b \\frac{1}{x}dx = \\log(b)$, you should either immediately get it or be able to get it after a quick wikipedia search for something like \"antiderivative 1/x\".\n",
    "\n",
    "The other thing you will need is some experience with python. Although R has some amazing tools for tabular data manipulation, it's not a great language to write machine learning algorithms in, and in my experience it's harder for beginners to learn. You don't need to be an expert software engineer to read this book, but if you can't understand code like `{x:x**2 for x in range(10)}` then you may have some trouble. At a minimum, you should be familiar with variables, lists, dictionaries, numpy arrays, comprehensions, functions, and classes. Thankfully, all of this is well-covered in hundreds of high-quality online courses and resources. And if you're feeling a little rusty, just dive in and give it a shot- reading code is one of the best ways to get better at coding."
   ]
  },
  {
   "cell_type": "markdown",
   "metadata": {},
   "source": [
    "## What's in the book?\n",
    "\n",
    "As implied by the title, this book is about the foundations of supervised learning. \n",
    "\n",
    "There are plenty of other interesting topics, like unsupervised learning, causal inference, and reinforcement learning, that we will not discuss extensively. However, we will discuss when supervised learning is appropriate and when one of these other frameworks is better for the problem at hand.\n",
    "\n",
    "Many other books showcase a huge zoo of machine learning methods- this book does not. We will discuss a number of these methods, but only in the context of demonstrating a foundational principle, or showing how things work in practice. Instead of a zoo, I hope to provide a physiology lesson. Don't be turned off if you don't see your favorite method in the table of contents. There are plenty of good sources to learn about gradient boosting or deep learning, but they will be much more useful to you after you've understood what all of these methods are trying to do and what they have in common."
   ]
  },
  {
   "cell_type": "markdown",
   "metadata": {},
   "source": [
    "## A note about math"
   ]
  },
  {
   "cell_type": "markdown",
   "metadata": {},
   "source": [
    "As I said, part of the reason I wrote this book is because I think that many of the existing theory texts assume too much mathematical fluency on the part of the reader. On the other hand, I also think that claims of being able to teach machine learning \"without math\" are nonsense. You need some math. \n",
    "\n",
    "The good news is that math isn't something that should scare you. Millions of people are terrified of numbers and symbols because of the traumas of primary school education. Lots of us think that we simply aren't good at math, that we weren't born with the brain for it. It's simply not true. Studies have shown time and time again that there is no such thing as a \"math person\". Anyone can learn complex math. It's comforting to take solace in a perceived destiny, but I'm here to tell you that your destiny can be whatever you want it to be.\n",
    "\n",
    "Math is just a way of expressing regular ideas in a very precise way- it's a language for thinking. In a way it's unnantural. Whether we're aware of it or not, most of us are used to thinking in terms of squishy metaphors, stories, intentions, and relationships because the real world is not black and white. It takes some time to adapt to the crystaline palace of abstractions that is expressed by math. \n",
    "\n",
    "Ultimately, that imposed clarity can help disambiguate the complexities of the real world, even if it cannot eliminate them. Mathematical language is like a map of a city. The map is not any given city- it's just a way of talking about it. Nobody is born able to read maps, and there is nothing inherent to the symbols on the page that relate them to the landmarks they can signify. But after a little practice, maps are incredibly useful tools! Once you can read a map, you can use maps to talk about any city in the world, not just your own.\n",
    "\n",
    "Just like maps, math has a lot of weird symbols. It's important to realize that the symbols are not the math, they're just the language that math is expressed in. You could change the color of rivers from blue to yellow on a map and it would still be as useful. In fact, math used to be expressed entirely verbally. What we write as \"2+2=4\" used to be written as \"two and two make four\". Ancient indian mathematicians used to write their proofs as long rhyming poems so that they would be easy to memorize and pass down from teacher to student. The symbols are relatively new. They're just a shorthand so that we don't have to write everything out or memorize long poems anymore.\n",
    "\n",
    "Since they're a shorthand, it's easy to express long and complicated ideas compactly. So don't read over math as quickly as you would read over natural language. If an equation expresses something that would otherwise take a paragraph to write out, give yourself a paragraph's worth of time to read it and parse it out. If you try to read it quickly, you will just skim over it and quickly become frustrated or disengaged. This happens to everyone, even mathematicians and statisticians. Remember to slow down and you'll be just fine."
   ]
  },
  {
   "cell_type": "code",
   "execution_count": null,
   "metadata": {},
   "outputs": [],
   "source": []
  }
 ],
 "metadata": {
  "kernelspec": {
   "display_name": "Python 3",
   "language": "python",
   "name": "python3"
  },
  "language_info": {
   "codemirror_mode": {
    "name": "ipython",
    "version": 3
   },
   "file_extension": ".py",
   "mimetype": "text/x-python",
   "name": "python",
   "nbconvert_exporter": "python",
   "pygments_lexer": "ipython3",
   "version": "3.7.3"
  }
 },
 "nbformat": 4,
 "nbformat_minor": 4
}
