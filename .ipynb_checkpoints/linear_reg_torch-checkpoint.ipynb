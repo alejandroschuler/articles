{
 "cells": [
  {
   "cell_type": "markdown",
   "metadata": {},
   "source": [
    "# From Linear Regression to Deep Learning in Pytorch"
   ]
  },
  {
   "cell_type": "markdown",
   "metadata": {},
   "source": [
    "---\n",
    "---"
   ]
  },
  {
   "cell_type": "markdown",
   "metadata": {},
   "source": [
    "# Linear Regression"
   ]
  },
  {
   "cell_type": "markdown",
   "metadata": {},
   "source": [
    "Let's implement a simple linear regression using torch"
   ]
  },
  {
   "cell_type": "code",
   "execution_count": 1,
   "metadata": {},
   "outputs": [],
   "source": [
    "import torch"
   ]
  },
  {
   "cell_type": "markdown",
   "metadata": {},
   "source": [
    "To start with, we'll create some random data and store it as torch tensors. "
   ]
  },
  {
   "cell_type": "code",
   "execution_count": 2,
   "metadata": {},
   "outputs": [],
   "source": [
    "n = 100\n",
    "p = 5\n",
    "x = torch.randn(n, p) # predictors (100 observations, 5 features)\n",
    "y = torch.randn(n, 1) # outcomes (100 observations)"
   ]
  },
  {
   "cell_type": "markdown",
   "metadata": {},
   "source": [
    "We're looking for coefficients $\\beta$ so that $y_i \\approx x_i\\beta = \\beta_0 + x_{i1}\\beta_1 +x_{i2}\\beta_2 \\dots$. To quantify what we mean by a \"good\" approximation, we'll use the mean-squared-error loss. So for a given guess $\\beta$ we'll give it the \"grade\" $\\frac{1}{n}\\sum_i (y_i - \\hat y_i)^2$ where $\\hat y_i  = x_i\\beta_{1:p} + \\beta_0$ and $n$ is the number of observations (rows) in the data. We're looking for the $\\beta$ that gives us the best (lowest) grade. This combination of model (linear) and loss (mean-squared-error) is called linear regression."
   ]
  },
  {
   "cell_type": "markdown",
   "metadata": {},
   "source": [
    "To start, we'll initialize the coefficients $\\beta$ with random numbers. That's our first guess. We'll update these random numbers using gradient descent to iteratively find better values that make the loss smaller."
   ]
  },
  {
   "cell_type": "code",
   "execution_count": 3,
   "metadata": {},
   "outputs": [
    {
     "data": {
      "text/plain": [
       "tensor([[ 2.0870],\n",
       "        [-1.7771],\n",
       "        [ 1.4453],\n",
       "        [-0.1499],\n",
       "        [ 0.8427],\n",
       "        [ 0.0444]], requires_grad=True)"
      ]
     },
     "execution_count": 3,
     "metadata": {},
     "output_type": "execute_result"
    }
   ],
   "source": [
    "β = torch.randn(p+1, 1) # 5 coefficients (one per feature) plus one intercept\n",
    "β.requires_grad_() # tell torch that β is going to have to save the gradient of something with respect to itself at some point"
   ]
  },
  {
   "cell_type": "markdown",
   "metadata": {},
   "source": [
    "### Autograd"
   ]
  },
  {
   "cell_type": "markdown",
   "metadata": {},
   "source": [
    "Using our current (random) coefficients we'll compute the current predictions and use those to compute the loss. That will be a relatively high number because our predictions won't be very good at this point. Once have the loss, we can use the torch autodifferentiation features to compute each of $\\frac{\\delta L}{\\delta \\beta_j}$, the gradients of the loss with respect to each coefficient, and use those to update the coefficients with gradient descent."
   ]
  },
  {
   "cell_type": "code",
   "execution_count": 4,
   "metadata": {},
   "outputs": [],
   "source": [
    "ŷ = torch.matmul(x, β[1:]) + β[0] # ŷ = xβ + β0"
   ]
  },
  {
   "cell_type": "code",
   "execution_count": 5,
   "metadata": {},
   "outputs": [],
   "source": [
    "L = torch.sum((y-ŷ)**2)/n # L = Σ(yᵢ-ŷᵢ)²/n"
   ]
  },
  {
   "cell_type": "code",
   "execution_count": 6,
   "metadata": {},
   "outputs": [
    {
     "data": {
      "text/plain": [
       "tensor(11.0571, grad_fn=<DivBackward0>)"
      ]
     },
     "execution_count": 6,
     "metadata": {},
     "output_type": "execute_result"
    }
   ],
   "source": [
    "L"
   ]
  },
  {
   "cell_type": "code",
   "execution_count": 7,
   "metadata": {},
   "outputs": [],
   "source": [
    "L.backward() # compute the gradients of the loss with respect to any tensors that went into the loss with requires_grad=true"
   ]
  },
  {
   "cell_type": "code",
   "execution_count": 8,
   "metadata": {},
   "outputs": [
    {
     "data": {
      "text/plain": [
       "tensor([[ 3.6744],\n",
       "        [-3.1260],\n",
       "        [ 3.3656],\n",
       "        [ 0.5311],\n",
       "        [ 1.6031],\n",
       "        [ 0.9760]])"
      ]
     },
     "execution_count": 8,
     "metadata": {},
     "output_type": "execute_result"
    }
   ],
   "source": [
    "β.grad"
   ]
  },
  {
   "cell_type": "markdown",
   "metadata": {},
   "source": [
    "what we see here is a vector containing all of the derivatives we want. The first element is $\\frac{\\delta L}{\\delta \\beta_0}$, the second element is $\\frac{\\delta L}{\\delta \\beta_1}$, and so on. Note that this object is part of $\\beta$ and not $L$."
   ]
  },
  {
   "cell_type": "markdown",
   "metadata": {},
   "source": [
    "Let's calculate the gradient manually and make sure it matches up. We have:\n",
    "\n",
    "$$\n",
    "\\begin{array}{rcl}\n",
    "\\hat y_i &=& x_i\\beta + \\beta_0 \\\\\n",
    "L(y,\\hat y) &=& \\frac{1}{n}\\sum_i (y_i - \\hat y_i)^2\n",
    "\\end{array}\n",
    "$$"
   ]
  },
  {
   "cell_type": "markdown",
   "metadata": {},
   "source": [
    "So the derivative for $\\beta_j$ with $j\\ne 0$ is\n",
    "\n",
    "$$\n",
    "\\begin{array}{rcl}\n",
    "\\frac{\\partial L}{\\partial \\beta_j} &=& \n",
    "\\frac{1}{n}\n",
    "\\sum_i \n",
    "\\frac{\\partial L}{\\partial y_i} \n",
    "\\frac{\\partial y_i}{\\partial \\beta_j}\n",
    "\\\\\n",
    "&=&\n",
    "\\frac{1}{n}\n",
    "\\sum_i\n",
    "-2(y_i-\\hat y_i)\n",
    "x_{ij}\n",
    "\\\\\n",
    "&=&\n",
    "-\\frac{2}{n}\n",
    "x_j^T(y-\\hat y)\n",
    "\\end{array}\n",
    "$$\n",
    "\n",
    "and for $\\beta_0$ is \n",
    "$$\n",
    "\\begin{array}{rcl}\n",
    "\\frac{\\partial L}{\\partial \\beta_0}\n",
    "&=&\n",
    "\\frac{1}{n}\n",
    "\\sum_i\n",
    "-2(y_i-\\hat y_i) \\\\\n",
    "&=&\n",
    "-\\frac{2}{n}\n",
    "1^T(y-\\hat y)\n",
    "\\end{array}\n",
    "$$\n",
    "\n",
    "which means we can calculate the whole gradient as $-\\frac{2}{n}[1,x]^T(y-[1,x]\\beta)$"
   ]
  },
  {
   "cell_type": "code",
   "execution_count": 9,
   "metadata": {},
   "outputs": [],
   "source": [
    "import numpy as np\n",
    "def beta_grad(β):\n",
    "    x_with_1s = torch.Tensor(np.hstack((np.ones((n,1)), x)))\n",
    "    return -2*torch.matmul(x_with_1s.transpose(0,1), y-torch.matmul(x_with_1s,β))/n"
   ]
  },
  {
   "cell_type": "code",
   "execution_count": 10,
   "metadata": {},
   "outputs": [
    {
     "data": {
      "text/plain": [
       "tensor([[ 3.6744],\n",
       "        [-3.1260],\n",
       "        [ 3.3656],\n",
       "        [ 0.5311],\n",
       "        [ 1.6031],\n",
       "        [ 0.9760]], grad_fn=<DivBackward0>)"
      ]
     },
     "execution_count": 10,
     "metadata": {},
     "output_type": "execute_result"
    }
   ],
   "source": [
    "beta_grad(β)"
   ]
  },
  {
   "cell_type": "markdown",
   "metadata": {},
   "source": [
    "which is exactly the same as the result in `β.grad`!"
   ]
  },
  {
   "cell_type": "markdown",
   "metadata": {},
   "source": [
    "How does pytorch do this? It turns out that every pytorch tensor records not only its own value, but also what functions were called to produce it and which tensors went into those functions. The `torchvis` package lets us see this:"
   ]
  },
  {
   "cell_type": "code",
   "execution_count": 11,
   "metadata": {},
   "outputs": [
    {
     "data": {
      "image/svg+xml": [
       "<?xml version=\"1.0\" encoding=\"UTF-8\" standalone=\"no\"?>\n",
       "<!DOCTYPE svg PUBLIC \"-//W3C//DTD SVG 1.1//EN\"\n",
       " \"http://www.w3.org/Graphics/SVG/1.1/DTD/svg11.dtd\">\n",
       "<!-- Generated by graphviz version 2.43.0 (0)\n",
       " -->\n",
       "<!-- Title: %3 Pages: 1 -->\n",
       "<svg width=\"204pt\" height=\"432pt\"\n",
       " viewBox=\"0.00 0.00 204.31 432.00\" xmlns=\"http://www.w3.org/2000/svg\" xmlns:xlink=\"http://www.w3.org/1999/xlink\">\n",
       "<g id=\"graph0\" class=\"graph\" transform=\"scale(1 1) rotate(0) translate(4 428)\">\n",
       "<title>%3</title>\n",
       "<polygon fill=\"white\" stroke=\"transparent\" points=\"-4,4 -4,-428 200.31,-428 200.31,4 -4,4\"/>\n",
       "<!-- 4928192848 -->\n",
       "<g id=\"node1\" class=\"node\">\n",
       "<title>4928192848</title>\n",
       "<polygon fill=\"#caff70\" stroke=\"black\" points=\"139.47,-20 51.18,-20 51.18,0 139.47,0 139.47,-20\"/>\n",
       "<text text-anchor=\"middle\" x=\"95.32\" y=\"-6.4\" font-family=\"Times,serif\" font-size=\"12.00\">DivBackward0</text>\n",
       "</g>\n",
       "<!-- 4928192784 -->\n",
       "<g id=\"node2\" class=\"node\">\n",
       "<title>4928192784</title>\n",
       "<polygon fill=\"lightgrey\" stroke=\"black\" points=\"141.48,-76 49.17,-76 49.17,-56 141.48,-56 141.48,-76\"/>\n",
       "<text text-anchor=\"middle\" x=\"95.32\" y=\"-62.4\" font-family=\"Times,serif\" font-size=\"12.00\">SumBackward0</text>\n",
       "</g>\n",
       "<!-- 4928192784&#45;&gt;4928192848 -->\n",
       "<g id=\"edge1\" class=\"edge\">\n",
       "<title>4928192784&#45;&gt;4928192848</title>\n",
       "<path fill=\"none\" stroke=\"black\" d=\"M95.32,-55.59C95.32,-48.7 95.32,-39.1 95.32,-30.57\"/>\n",
       "<polygon fill=\"black\" stroke=\"black\" points=\"98.82,-30.3 95.32,-20.3 91.82,-30.3 98.82,-30.3\"/>\n",
       "</g>\n",
       "<!-- 4928228112 -->\n",
       "<g id=\"node3\" class=\"node\">\n",
       "<title>4928228112</title>\n",
       "<polygon fill=\"lightgrey\" stroke=\"black\" points=\"141.31,-132 49.34,-132 49.34,-112 141.31,-112 141.31,-132\"/>\n",
       "<text text-anchor=\"middle\" x=\"95.32\" y=\"-118.4\" font-family=\"Times,serif\" font-size=\"12.00\">PowBackward0</text>\n",
       "</g>\n",
       "<!-- 4928228112&#45;&gt;4928192784 -->\n",
       "<g id=\"edge2\" class=\"edge\">\n",
       "<title>4928228112&#45;&gt;4928192784</title>\n",
       "<path fill=\"none\" stroke=\"black\" d=\"M95.32,-111.59C95.32,-104.7 95.32,-95.1 95.32,-86.57\"/>\n",
       "<polygon fill=\"black\" stroke=\"black\" points=\"98.82,-86.3 95.32,-76.3 91.82,-86.3 98.82,-86.3\"/>\n",
       "</g>\n",
       "<!-- 4928299792 -->\n",
       "<g id=\"node4\" class=\"node\">\n",
       "<title>4928299792</title>\n",
       "<polygon fill=\"lightgrey\" stroke=\"black\" points=\"140.14,-188 50.51,-188 50.51,-168 140.14,-168 140.14,-188\"/>\n",
       "<text text-anchor=\"middle\" x=\"95.32\" y=\"-174.4\" font-family=\"Times,serif\" font-size=\"12.00\">SubBackward0</text>\n",
       "</g>\n",
       "<!-- 4928299792&#45;&gt;4928228112 -->\n",
       "<g id=\"edge3\" class=\"edge\">\n",
       "<title>4928299792&#45;&gt;4928228112</title>\n",
       "<path fill=\"none\" stroke=\"black\" d=\"M95.32,-167.59C95.32,-160.7 95.32,-151.1 95.32,-142.57\"/>\n",
       "<polygon fill=\"black\" stroke=\"black\" points=\"98.82,-142.3 95.32,-132.3 91.82,-142.3 98.82,-142.3\"/>\n",
       "</g>\n",
       "<!-- 4928299984 -->\n",
       "<g id=\"node5\" class=\"node\">\n",
       "<title>4928299984</title>\n",
       "<polygon fill=\"lightgrey\" stroke=\"black\" points=\"141.14,-244 49.51,-244 49.51,-224 141.14,-224 141.14,-244\"/>\n",
       "<text text-anchor=\"middle\" x=\"95.32\" y=\"-230.4\" font-family=\"Times,serif\" font-size=\"12.00\">AddBackward0</text>\n",
       "</g>\n",
       "<!-- 4928299984&#45;&gt;4928299792 -->\n",
       "<g id=\"edge4\" class=\"edge\">\n",
       "<title>4928299984&#45;&gt;4928299792</title>\n",
       "<path fill=\"none\" stroke=\"black\" d=\"M95.32,-223.59C95.32,-216.7 95.32,-207.1 95.32,-198.57\"/>\n",
       "<polygon fill=\"black\" stroke=\"black\" points=\"98.82,-198.3 95.32,-188.3 91.82,-198.3 98.82,-198.3\"/>\n",
       "</g>\n",
       "<!-- 4928300112 -->\n",
       "<g id=\"node6\" class=\"node\">\n",
       "<title>4928300112</title>\n",
       "<polygon fill=\"lightgrey\" stroke=\"black\" points=\"84.47,-300 0.18,-300 0.18,-280 84.47,-280 84.47,-300\"/>\n",
       "<text text-anchor=\"middle\" x=\"42.32\" y=\"-286.4\" font-family=\"Times,serif\" font-size=\"12.00\">MmBackward</text>\n",
       "</g>\n",
       "<!-- 4928300112&#45;&gt;4928299984 -->\n",
       "<g id=\"edge5\" class=\"edge\">\n",
       "<title>4928300112&#45;&gt;4928299984</title>\n",
       "<path fill=\"none\" stroke=\"black\" d=\"M51.56,-279.59C59.16,-271.85 70.11,-260.69 79.16,-251.47\"/>\n",
       "<polygon fill=\"black\" stroke=\"black\" points=\"81.69,-253.89 86.2,-244.3 76.7,-248.98 81.69,-253.89\"/>\n",
       "</g>\n",
       "<!-- 4928300240 -->\n",
       "<g id=\"node7\" class=\"node\">\n",
       "<title>4928300240</title>\n",
       "<polygon fill=\"lightgrey\" stroke=\"black\" points=\"103.46,-356 15.18,-356 15.18,-336 103.46,-336 103.46,-356\"/>\n",
       "<text text-anchor=\"middle\" x=\"59.32\" y=\"-342.4\" font-family=\"Times,serif\" font-size=\"12.00\">SliceBackward</text>\n",
       "</g>\n",
       "<!-- 4928300240&#45;&gt;4928300112 -->\n",
       "<g id=\"edge6\" class=\"edge\">\n",
       "<title>4928300240&#45;&gt;4928300112</title>\n",
       "<path fill=\"none\" stroke=\"black\" d=\"M56.36,-335.59C54.14,-328.55 51.04,-318.67 48.31,-310\"/>\n",
       "<polygon fill=\"black\" stroke=\"black\" points=\"51.59,-308.79 45.25,-300.3 44.92,-310.89 51.59,-308.79\"/>\n",
       "</g>\n",
       "<!-- 4928300368 -->\n",
       "<g id=\"node8\" class=\"node\">\n",
       "<title>4928300368</title>\n",
       "<polygon fill=\"lightblue\" stroke=\"black\" points=\"122.32,-424 68.32,-424 68.32,-392 122.32,-392 122.32,-424\"/>\n",
       "<text text-anchor=\"middle\" x=\"95.32\" y=\"-410.4\" font-family=\"Times,serif\" font-size=\"12.00\">β</text>\n",
       "<text text-anchor=\"middle\" x=\"95.32\" y=\"-398.4\" font-family=\"Times,serif\" font-size=\"12.00\"> (6, 1)</text>\n",
       "</g>\n",
       "<!-- 4928300368&#45;&gt;4928300240 -->\n",
       "<g id=\"edge7\" class=\"edge\">\n",
       "<title>4928300368&#45;&gt;4928300240</title>\n",
       "<path fill=\"none\" stroke=\"black\" d=\"M86.24,-391.86C81.34,-383.69 75.25,-373.55 70.11,-364.98\"/>\n",
       "<polygon fill=\"black\" stroke=\"black\" points=\"72.96,-362.93 64.82,-356.15 66.96,-366.53 72.96,-362.93\"/>\n",
       "</g>\n",
       "<!-- 4928300176 -->\n",
       "<g id=\"node9\" class=\"node\">\n",
       "<title>4928300176</title>\n",
       "<polygon fill=\"lightgrey\" stroke=\"black\" points=\"196.29,-300 102.36,-300 102.36,-280 196.29,-280 196.29,-300\"/>\n",
       "<text text-anchor=\"middle\" x=\"149.32\" y=\"-286.4\" font-family=\"Times,serif\" font-size=\"12.00\">SelectBackward</text>\n",
       "</g>\n",
       "<!-- 4928300368&#45;&gt;4928300176 -->\n",
       "<g id=\"edge9\" class=\"edge\">\n",
       "<title>4928300368&#45;&gt;4928300176</title>\n",
       "<path fill=\"none\" stroke=\"black\" d=\"M102.38,-391.84C112.25,-370.64 130.15,-332.2 140.76,-309.39\"/>\n",
       "<polygon fill=\"black\" stroke=\"black\" points=\"144.02,-310.68 145.07,-300.14 137.68,-307.72 144.02,-310.68\"/>\n",
       "</g>\n",
       "<!-- 4928300176&#45;&gt;4928299984 -->\n",
       "<g id=\"edge8\" class=\"edge\">\n",
       "<title>4928300176&#45;&gt;4928299984</title>\n",
       "<path fill=\"none\" stroke=\"black\" d=\"M139.92,-279.59C132.17,-271.85 121.01,-260.69 111.79,-251.47\"/>\n",
       "<polygon fill=\"black\" stroke=\"black\" points=\"114.17,-248.89 104.62,-244.3 109.22,-253.84 114.17,-248.89\"/>\n",
       "</g>\n",
       "</g>\n",
       "</svg>\n"
      ],
      "text/plain": [
       "<graphviz.dot.Digraph at 0x125bdc910>"
      ]
     },
     "execution_count": 11,
     "metadata": {},
     "output_type": "execute_result"
    }
   ],
   "source": [
    "from torchviz import make_dot\n",
    "make_dot(L, {'β':β})"
   ]
  },
  {
   "cell_type": "markdown",
   "metadata": {},
   "source": [
    "To calculate the gradient of $L$ with respect to $\\beta$, pytorch takes the gradients of each of these functions in turn (which are simple and built-in to pytorch), evaluates them at their current value using the input tensors, and multiplies them together to arrive at the answer you would get via the chain rule. You can learn more about this process [here](https://towardsdatascience.com/pytorch-autograd-understanding-the-heart-of-pytorchs-magic-2686cd94ec95) and elsewhere."
   ]
  },
  {
   "cell_type": "markdown",
   "metadata": {},
   "source": [
    "### Doing Gradient Descent"
   ]
  },
  {
   "cell_type": "markdown",
   "metadata": {},
   "source": [
    "To update the weights, we need to subtract the gradient (times a small learning rate) from the current value of the weights. \n",
    "\n",
    "We do this from inside a `no_grad():` \"context\" so that $\\beta$ doesn't store the history of the update (try the update without the `with torch.no_grad():` and see what happens). We also clear out `β.grad`. "
   ]
  },
  {
   "cell_type": "code",
   "execution_count": 12,
   "metadata": {},
   "outputs": [],
   "source": [
    "with torch.no_grad():\n",
    "    β -= 10e-5 * β.grad # β = β - 10e-5 * β.grad\n",
    "    β.grad.zero_()"
   ]
  },
  {
   "cell_type": "code",
   "execution_count": 13,
   "metadata": {},
   "outputs": [
    {
     "data": {
      "text/plain": [
       "tensor([[ 2.0867],\n",
       "        [-1.7768],\n",
       "        [ 1.4450],\n",
       "        [-0.1499],\n",
       "        [ 0.8425],\n",
       "        [ 0.0443]], requires_grad=True)"
      ]
     },
     "execution_count": 13,
     "metadata": {},
     "output_type": "execute_result"
    }
   ],
   "source": [
    "β"
   ]
  },
  {
   "cell_type": "markdown",
   "metadata": {},
   "source": [
    "As you can see, our new value of $\\beta$ is slightly different than what we started with because we've taken a single gradient step."
   ]
  },
  {
   "cell_type": "markdown",
   "metadata": {},
   "source": [
    "----"
   ]
  },
  {
   "cell_type": "markdown",
   "metadata": {},
   "source": [
    "#### Zeroing Gradients"
   ]
  },
  {
   "cell_type": "markdown",
   "metadata": {},
   "source": [
    "Let's take a quick second to diverge from our main story to explain why we need to zero the gradient. If we don't zero the gradient, the next time we calculate the gradient of something with respect to $\\beta$, the new gradient will be added to whatever was stored there instead of overwriting it. That's just the way torch was made to work. To demonstrate:"
   ]
  },
  {
   "cell_type": "code",
   "execution_count": 14,
   "metadata": {},
   "outputs": [
    {
     "data": {
      "text/plain": [
       "tensor(10.)"
      ]
     },
     "execution_count": 14,
     "metadata": {},
     "output_type": "execute_result"
    }
   ],
   "source": [
    "t = torch.tensor(5., requires_grad=True)\n",
    "z = t**2 # z = t^2\n",
    "z.backward() # dz/dt = 2t, and t =5 right now\n",
    "t.grad # so dz/dt = 2*5 = 10"
   ]
  },
  {
   "cell_type": "markdown",
   "metadata": {},
   "source": [
    "all good so far... Now let's make another variable based on $t$"
   ]
  },
  {
   "cell_type": "code",
   "execution_count": 15,
   "metadata": {},
   "outputs": [
    {
     "data": {
      "text/plain": [
       "tensor(85.)"
      ]
     },
     "execution_count": 15,
     "metadata": {},
     "output_type": "execute_result"
    }
   ],
   "source": [
    "q = t**3 # q = t^3\n",
    "q.backward() # dq/dt = 3t^2, and t=5 right now\n",
    "t.grad # so dq/dt = 3*5^2 = 75"
   ]
  },
  {
   "cell_type": "markdown",
   "metadata": {},
   "source": [
    "Here we should have gotten 75, but we got 85, which is 75 + 10. What happened was that 10 was previously stored in `t.grad`, so it got added to the new number that came in when we called `q.backward()`."
   ]
  },
  {
   "cell_type": "markdown",
   "metadata": {},
   "source": [
    "----"
   ]
  },
  {
   "cell_type": "markdown",
   "metadata": {},
   "source": [
    "Ok, back to our main story. Let's repeat what we have so far but now add a little loop to train our model for 500 gradient descent iterations instead of going slowly though a single iteration:"
   ]
  },
  {
   "cell_type": "code",
   "execution_count": 16,
   "metadata": {},
   "outputs": [
    {
     "data": {
      "text/plain": [
       "tensor([[-0.8058],\n",
       "        [ 1.0363],\n",
       "        [ 2.2299],\n",
       "        [-0.7262],\n",
       "        [-0.7330],\n",
       "        [ 0.9752]], requires_grad=True)"
      ]
     },
     "execution_count": 16,
     "metadata": {},
     "output_type": "execute_result"
    }
   ],
   "source": [
    "x = torch.randn(n, p) # predictors (10 observations, 5 features)\n",
    "y = torch.randn(n, 1) # outcomes (10 observations)\n",
    "\n",
    "loss_record = [] # to kep track of the loss over the iterations\n",
    "β = torch.randn(p+1,1) # 5 coefficients (one per feature) plus one intercept\n",
    "β.requires_grad_() # tell torch that β is going to have to save the gradient of something with respect to itself at some point"
   ]
  },
  {
   "cell_type": "code",
   "execution_count": 17,
   "metadata": {},
   "outputs": [],
   "source": [
    "for e in range(500):\n",
    "    ŷ = torch.matmul(x, β[1:]) + β[0] # ŷ = xβ + β0 (calculate predictions)\n",
    "    L = torch.sum((y-ŷ)**2)/n # L = Σ(yᵢ-ŷᵢ)²/n (use predictions to calculate loss)\n",
    "    \n",
    "    L.backward() # compute gradients (in this case δL/δβ, δL/δW)\n",
    "    loss_record.append(L.item())\n",
    "    \n",
    "    with torch.no_grad(): # take the gradient descent step \n",
    "        β -= 10e-3 * β.grad\n",
    "        β.grad.zero_()"
   ]
  },
  {
   "cell_type": "markdown",
   "metadata": {},
   "source": [
    "And we can see how the loss changes over the iterations:"
   ]
  },
  {
   "cell_type": "code",
   "execution_count": 18,
   "metadata": {},
   "outputs": [
    {
     "data": {
      "application/vnd.vegalite.v3+json": {
       "$schema": "https://vega.github.io/schema/vega-lite/v3.4.0.json",
       "config": {
        "mark": {
         "tooltip": null
        },
        "view": {
         "height": 300,
         "width": 400
        }
       },
       "data": {
        "name": "data-b926759685f834bff6d105364dfe349e"
       },
       "datasets": {
        "data-b926759685f834bff6d105364dfe349e": [
         {
          "i": 0,
          "loss": 10.355965614318848
         },
         {
          "i": 1,
          "loss": 9.983244895935059
         },
         {
          "i": 2,
          "loss": 9.625823974609375
         },
         {
          "i": 3,
          "loss": 9.283047676086426
         },
         {
          "i": 4,
          "loss": 8.954294204711914
         },
         {
          "i": 5,
          "loss": 8.638965606689453
         },
         {
          "i": 6,
          "loss": 8.33649730682373
         },
         {
          "i": 7,
          "loss": 8.046339988708496
         },
         {
          "i": 8,
          "loss": 7.7679762840271
         },
         {
          "i": 9,
          "loss": 7.5009074211120605
         },
         {
          "i": 10,
          "loss": 7.24465799331665
         },
         {
          "i": 11,
          "loss": 6.998774528503418
         },
         {
          "i": 12,
          "loss": 6.762818813323975
         },
         {
          "i": 13,
          "loss": 6.536378383636475
         },
         {
          "i": 14,
          "loss": 6.319050312042236
         },
         {
          "i": 15,
          "loss": 6.1104607582092285
         },
         {
          "i": 16,
          "loss": 5.910238742828369
         },
         {
          "i": 17,
          "loss": 5.718038558959961
         },
         {
          "i": 18,
          "loss": 5.5335283279418945
         },
         {
          "i": 19,
          "loss": 5.356387138366699
         },
         {
          "i": 20,
          "loss": 5.186310291290283
         },
         {
          "i": 21,
          "loss": 5.023006916046143
         },
         {
          "i": 22,
          "loss": 4.866195201873779
         },
         {
          "i": 23,
          "loss": 4.715608596801758
         },
         {
          "i": 24,
          "loss": 4.570991039276123
         },
         {
          "i": 25,
          "loss": 4.432097911834717
         },
         {
          "i": 26,
          "loss": 4.298693656921387
         },
         {
          "i": 27,
          "loss": 4.170553684234619
         },
         {
          "i": 28,
          "loss": 4.047462463378906
         },
         {
          "i": 29,
          "loss": 3.929213762283325
         },
         {
          "i": 30,
          "loss": 3.8156118392944336
         },
         {
          "i": 31,
          "loss": 3.70646595954895
         },
         {
          "i": 32,
          "loss": 3.6015961170196533
         },
         {
          "i": 33,
          "loss": 3.500828742980957
         },
         {
          "i": 34,
          "loss": 3.4039978981018066
         },
         {
          "i": 35,
          "loss": 3.310943603515625
         },
         {
          "i": 36,
          "loss": 3.2215147018432617
         },
         {
          "i": 37,
          "loss": 3.135563373565674
         },
         {
          "i": 38,
          "loss": 3.0529520511627197
         },
         {
          "i": 39,
          "loss": 2.9735443592071533
         },
         {
          "i": 40,
          "loss": 2.8972127437591553
         },
         {
          "i": 41,
          "loss": 2.8238344192504883
         },
         {
          "i": 42,
          "loss": 2.7532904148101807
         },
         {
          "i": 43,
          "loss": 2.6854684352874756
         },
         {
          "i": 44,
          "loss": 2.6202592849731445
         },
         {
          "i": 45,
          "loss": 2.5575597286224365
         },
         {
          "i": 46,
          "loss": 2.49726939201355
         },
         {
          "i": 47,
          "loss": 2.4392926692962646
         },
         {
          "i": 48,
          "loss": 2.3835387229919434
         },
         {
          "i": 49,
          "loss": 2.329918384552002
         },
         {
          "i": 50,
          "loss": 2.278347969055176
         },
         {
          "i": 51,
          "loss": 2.2287468910217285
         },
         {
          "i": 52,
          "loss": 2.181036949157715
         },
         {
          "i": 53,
          "loss": 2.1351442337036133
         },
         {
          "i": 54,
          "loss": 2.0909974575042725
         },
         {
          "i": 55,
          "loss": 2.048527479171753
         },
         {
          "i": 56,
          "loss": 2.007669448852539
         },
         {
          "i": 57,
          "loss": 1.9683599472045898
         },
         {
          "i": 58,
          "loss": 1.930538296699524
         },
         {
          "i": 59,
          "loss": 1.8941469192504883
         },
         {
          "i": 60,
          "loss": 1.8591293096542358
         },
         {
          "i": 61,
          "loss": 1.8254330158233643
         },
         {
          "i": 62,
          "loss": 1.793006420135498
         },
         {
          "i": 63,
          "loss": 1.7617995738983154
         },
         {
          "i": 64,
          "loss": 1.7317663431167603
         },
         {
          "i": 65,
          "loss": 1.702860713005066
         },
         {
          "i": 66,
          "loss": 1.6750388145446777
         },
         {
          "i": 67,
          "loss": 1.6482596397399902
         },
         {
          "i": 68,
          "loss": 1.6224822998046875
         },
         {
          "i": 69,
          "loss": 1.5976686477661133
         },
         {
          "i": 70,
          "loss": 1.5737816095352173
         },
         {
          "i": 71,
          "loss": 1.5507855415344238
         },
         {
          "i": 72,
          "loss": 1.5286462306976318
         },
         {
          "i": 73,
          "loss": 1.5073307752609253
         },
         {
          "i": 74,
          "loss": 1.4868083000183105
         },
         {
          "i": 75,
          "loss": 1.4670475721359253
         },
         {
          "i": 76,
          "loss": 1.4480202198028564
         },
         {
          "i": 77,
          "loss": 1.4296983480453491
         },
         {
          "i": 78,
          "loss": 1.4120545387268066
         },
         {
          "i": 79,
          "loss": 1.3950636386871338
         },
         {
          "i": 80,
          "loss": 1.378700613975525
         },
         {
          "i": 81,
          "loss": 1.3629413843154907
         },
         {
          "i": 82,
          "loss": 1.3477636575698853
         },
         {
          "i": 83,
          "loss": 1.3331447839736938
         },
         {
          "i": 84,
          "loss": 1.3190643787384033
         },
         {
          "i": 85,
          "loss": 1.3055015802383423
         },
         {
          "i": 86,
          "loss": 1.292436957359314
         },
         {
          "i": 87,
          "loss": 1.2798519134521484
         },
         {
          "i": 88,
          "loss": 1.267728567123413
         },
         {
          "i": 89,
          "loss": 1.2560491561889648
         },
         {
          "i": 90,
          "loss": 1.2447972297668457
         },
         {
          "i": 91,
          "loss": 1.2339565753936768
         },
         {
          "i": 92,
          "loss": 1.2235122919082642
         },
         {
          "i": 93,
          "loss": 1.2134490013122559
         },
         {
          "i": 94,
          "loss": 1.2037527561187744
         },
         {
          "i": 95,
          "loss": 1.194409966468811
         },
         {
          "i": 96,
          "loss": 1.185407280921936
         },
         {
          "i": 97,
          "loss": 1.1767319440841675
         },
         {
          "i": 98,
          "loss": 1.1683719158172607
         },
         {
          "i": 99,
          "loss": 1.1603153944015503
         },
         {
          "i": 100,
          "loss": 1.152551293373108
         },
         {
          "i": 101,
          "loss": 1.1450684070587158
         },
         {
          "i": 102,
          "loss": 1.1378567218780518
         },
         {
          "i": 103,
          "loss": 1.130906105041504
         },
         {
          "i": 104,
          "loss": 1.1242066621780396
         },
         {
          "i": 105,
          "loss": 1.1177490949630737
         },
         {
          "i": 106,
          "loss": 1.1115249395370483
         },
         {
          "i": 107,
          "loss": 1.105525255203247
         },
         {
          "i": 108,
          "loss": 1.0997416973114014
         },
         {
          "i": 109,
          "loss": 1.0941665172576904
         },
         {
          "i": 110,
          "loss": 1.0887919664382935
         },
         {
          "i": 111,
          "loss": 1.0836105346679688
         },
         {
          "i": 112,
          "loss": 1.0786155462265015
         },
         {
          "i": 113,
          "loss": 1.0737996101379395
         },
         {
          "i": 114,
          "loss": 1.0691566467285156
         },
         {
          "i": 115,
          "loss": 1.0646800994873047
         },
         {
          "i": 116,
          "loss": 1.060364007949829
         },
         {
          "i": 117,
          "loss": 1.0562021732330322
         },
         {
          "i": 118,
          "loss": 1.0521892309188843
         },
         {
          "i": 119,
          "loss": 1.048319935798645
         },
         {
          "i": 120,
          "loss": 1.044588565826416
         },
         {
          "i": 121,
          "loss": 1.0409907102584839
         },
         {
          "i": 122,
          "loss": 1.0375208854675293
         },
         {
          "i": 123,
          "loss": 1.0341747999191284
         },
         {
          "i": 124,
          "loss": 1.0309479236602783
         },
         {
          "i": 125,
          "loss": 1.0278358459472656
         },
         {
          "i": 126,
          "loss": 1.0248346328735352
         },
         {
          "i": 127,
          "loss": 1.021939754486084
         },
         {
          "i": 128,
          "loss": 1.0191478729248047
         },
         {
          "i": 129,
          "loss": 1.0164549350738525
         },
         {
          "i": 130,
          "loss": 1.0138577222824097
         },
         {
          "i": 131,
          "loss": 1.0113525390625
         },
         {
          "i": 132,
          "loss": 1.008935809135437
         },
         {
          "i": 133,
          "loss": 1.0066049098968506
         },
         {
          "i": 134,
          "loss": 1.0043562650680542
         },
         {
          "i": 135,
          "loss": 1.0021872520446777
         },
         {
          "i": 136,
          "loss": 1.0000948905944824
         },
         {
          "i": 137,
          "loss": 0.9980763792991638
         },
         {
          "i": 138,
          "loss": 0.9961289167404175
         },
         {
          "i": 139,
          "loss": 0.9942502379417419
         },
         {
          "i": 140,
          "loss": 0.9924377202987671
         },
         {
          "i": 141,
          "loss": 0.9906890392303467
         },
         {
          "i": 142,
          "loss": 0.9890019297599792
         },
         {
          "i": 143,
          "loss": 0.9873740673065186
         },
         {
          "i": 144,
          "loss": 0.9858035445213318
         },
         {
          "i": 145,
          "loss": 0.9842880368232727
         },
         {
          "i": 146,
          "loss": 0.982825756072998
         },
         {
          "i": 147,
          "loss": 0.981414794921875
         },
         {
          "i": 148,
          "loss": 0.980053186416626
         },
         {
          "i": 149,
          "loss": 0.9787395000457764
         },
         {
          "i": 150,
          "loss": 0.9774717688560486
         },
         {
          "i": 151,
          "loss": 0.9762482643127441
         },
         {
          "i": 152,
          "loss": 0.9750676155090332
         },
         {
          "i": 153,
          "loss": 0.9739282727241516
         },
         {
          "i": 154,
          "loss": 0.9728286862373352
         },
         {
          "i": 155,
          "loss": 0.9717674255371094
         },
         {
          "i": 156,
          "loss": 0.9707432389259338
         },
         {
          "i": 157,
          "loss": 0.9697548151016235
         },
         {
          "i": 158,
          "loss": 0.9688007831573486
         },
         {
          "i": 159,
          "loss": 0.9678800702095032
         },
         {
          "i": 160,
          "loss": 0.9669911861419678
         },
         {
          "i": 161,
          "loss": 0.9661334753036499
         },
         {
          "i": 162,
          "loss": 0.9653053879737854
         },
         {
          "i": 163,
          "loss": 0.9645061492919922
         },
         {
          "i": 164,
          "loss": 0.9637346863746643
         },
         {
          "i": 165,
          "loss": 0.962989866733551
         },
         {
          "i": 166,
          "loss": 0.962270975112915
         },
         {
          "i": 167,
          "loss": 0.9615770578384399
         },
         {
          "i": 168,
          "loss": 0.9609071612358093
         },
         {
          "i": 169,
          "loss": 0.9602603912353516
         },
         {
          "i": 170,
          "loss": 0.9596359729766846
         },
         {
          "i": 171,
          "loss": 0.9590332508087158
         },
         {
          "i": 172,
          "loss": 0.9584512114524841
         },
         {
          "i": 173,
          "loss": 0.9578894972801208
         },
         {
          "i": 174,
          "loss": 0.9573471546173096
         },
         {
          "i": 175,
          "loss": 0.9568234086036682
         },
         {
          "i": 176,
          "loss": 0.956317663192749
         },
         {
          "i": 177,
          "loss": 0.9558295607566833
         },
         {
          "i": 178,
          "loss": 0.9553582072257996
         },
         {
          "i": 179,
          "loss": 0.9549028873443604
         },
         {
          "i": 180,
          "loss": 0.9544634819030762
         },
         {
          "i": 181,
          "loss": 0.9540390968322754
         },
         {
          "i": 182,
          "loss": 0.9536292552947998
         },
         {
          "i": 183,
          "loss": 0.9532334208488464
         },
         {
          "i": 184,
          "loss": 0.9528513550758362
         },
         {
          "i": 185,
          "loss": 0.9524822235107422
         },
         {
          "i": 186,
          "loss": 0.9521257877349854
         },
         {
          "i": 187,
          "loss": 0.951781690120697
         },
         {
          "i": 188,
          "loss": 0.9514492154121399
         },
         {
          "i": 189,
          "loss": 0.9511283040046692
         },
         {
          "i": 190,
          "loss": 0.9508181810379028
         },
         {
          "i": 191,
          "loss": 0.9505188465118408
         },
         {
          "i": 192,
          "loss": 0.9502297043800354
         },
         {
          "i": 193,
          "loss": 0.9499503374099731
         },
         {
          "i": 194,
          "loss": 0.9496806263923645
         },
         {
          "i": 195,
          "loss": 0.9494200944900513
         },
         {
          "i": 196,
          "loss": 0.9491682648658752
         },
         {
          "i": 197,
          "loss": 0.9489251971244812
         },
         {
          "i": 198,
          "loss": 0.9486902356147766
         },
         {
          "i": 199,
          "loss": 0.948463499546051
         },
         {
          "i": 200,
          "loss": 0.9482443332672119
         },
         {
          "i": 201,
          "loss": 0.9480326175689697
         },
         {
          "i": 202,
          "loss": 0.9478282332420349
         },
         {
          "i": 203,
          "loss": 0.9476306438446045
         },
         {
          "i": 204,
          "loss": 0.9474397897720337
         },
         {
          "i": 205,
          "loss": 0.9472554922103882
         },
         {
          "i": 206,
          "loss": 0.9470773935317993
         },
         {
          "i": 207,
          "loss": 0.9469053745269775
         },
         {
          "i": 208,
          "loss": 0.9467389583587646
         },
         {
          "i": 209,
          "loss": 0.9465784430503845
         },
         {
          "i": 210,
          "loss": 0.9464231729507446
         },
         {
          "i": 211,
          "loss": 0.9462734460830688
         },
         {
          "i": 212,
          "loss": 0.9461284875869751
         },
         {
          "i": 213,
          "loss": 0.9459884166717529
         },
         {
          "i": 214,
          "loss": 0.9458531737327576
         },
         {
          "i": 215,
          "loss": 0.9457225203514099
         },
         {
          "i": 216,
          "loss": 0.9455963373184204
         },
         {
          "i": 217,
          "loss": 0.9454742670059204
         },
         {
          "i": 218,
          "loss": 0.9453563690185547
         },
         {
          "i": 219,
          "loss": 0.9452422261238098
         },
         {
          "i": 220,
          "loss": 0.9451321959495544
         },
         {
          "i": 221,
          "loss": 0.9450256824493408
         },
         {
          "i": 222,
          "loss": 0.9449228644371033
         },
         {
          "i": 223,
          "loss": 0.9448235034942627
         },
         {
          "i": 224,
          "loss": 0.9447275400161743
         },
         {
          "i": 225,
          "loss": 0.9446344971656799
         },
         {
          "i": 226,
          "loss": 0.9445449113845825
         },
         {
          "i": 227,
          "loss": 0.9444581866264343
         },
         {
          "i": 228,
          "loss": 0.9443743824958801
         },
         {
          "i": 229,
          "loss": 0.944293200969696
         },
         {
          "i": 230,
          "loss": 0.944214940071106
         },
         {
          "i": 231,
          "loss": 0.944139301776886
         },
         {
          "i": 232,
          "loss": 0.9440661072731018
         },
         {
          "i": 233,
          "loss": 0.9439953565597534
         },
         {
          "i": 234,
          "loss": 0.9439269304275513
         },
         {
          "i": 235,
          "loss": 0.9438607692718506
         },
         {
          "i": 236,
          "loss": 0.9437970519065857
         },
         {
          "i": 237,
          "loss": 0.9437353014945984
         },
         {
          "i": 238,
          "loss": 0.9436755180358887
         },
         {
          "i": 239,
          "loss": 0.9436180591583252
         },
         {
          "i": 240,
          "loss": 0.9435620307922363
         },
         {
          "i": 241,
          "loss": 0.9435082077980042
         },
         {
          "i": 242,
          "loss": 0.9434558749198914
         },
         {
          "i": 243,
          "loss": 0.9434055089950562
         },
         {
          "i": 244,
          "loss": 0.9433568716049194
         },
         {
          "i": 245,
          "loss": 0.9433096051216125
         },
         {
          "i": 246,
          "loss": 0.9432640671730042
         },
         {
          "i": 247,
          "loss": 0.9432199597358704
         },
         {
          "i": 248,
          "loss": 0.9431774020195007
         },
         {
          "i": 249,
          "loss": 0.9431362152099609
         },
         {
          "i": 250,
          "loss": 0.9430962204933167
         },
         {
          "i": 251,
          "loss": 0.9430577754974365
         },
         {
          "i": 252,
          "loss": 0.9430205821990967
         },
         {
          "i": 253,
          "loss": 0.9429844617843628
         },
         {
          "i": 254,
          "loss": 0.9429495930671692
         },
         {
          "i": 255,
          "loss": 0.9429159760475159
         },
         {
          "i": 256,
          "loss": 0.942883312702179
         },
         {
          "i": 257,
          "loss": 0.9428517818450928
         },
         {
          "i": 258,
          "loss": 0.9428212642669678
         },
         {
          "i": 259,
          "loss": 0.942791759967804
         },
         {
          "i": 260,
          "loss": 0.9427634477615356
         },
         {
          "i": 261,
          "loss": 0.9427356123924255
         },
         {
          "i": 262,
          "loss": 0.9427090287208557
         },
         {
          "i": 263,
          "loss": 0.9426833391189575
         },
         {
          "i": 264,
          "loss": 0.9426582455635071
         },
         {
          "i": 265,
          "loss": 0.9426339864730835
         },
         {
          "i": 266,
          "loss": 0.9426108598709106
         },
         {
          "i": 267,
          "loss": 0.9425880908966064
         },
         {
          "i": 268,
          "loss": 0.9425662159919739
         },
         {
          "i": 269,
          "loss": 0.9425451159477234
         },
         {
          "i": 270,
          "loss": 0.9425245523452759
         },
         {
          "i": 271,
          "loss": 0.9425047039985657
         },
         {
          "i": 272,
          "loss": 0.9424855709075928
         },
         {
          "i": 273,
          "loss": 0.942467212677002
         },
         {
          "i": 274,
          "loss": 0.9424492120742798
         },
         {
          "i": 275,
          "loss": 0.9424318075180054
         },
         {
          "i": 276,
          "loss": 0.9424150586128235
         },
         {
          "i": 277,
          "loss": 0.9423989057540894
         },
         {
          "i": 278,
          "loss": 0.9423831105232239
         },
         {
          "i": 279,
          "loss": 0.9423678517341614
         },
         {
          "i": 280,
          "loss": 0.9423531889915466
         },
         {
          "i": 281,
          "loss": 0.9423390030860901
         },
         {
          "i": 282,
          "loss": 0.942325234413147
         },
         {
          "i": 283,
          "loss": 0.9423118829727173
         },
         {
          "i": 284,
          "loss": 0.942298948764801
         },
         {
          "i": 285,
          "loss": 0.9422865509986877
         },
         {
          "i": 286,
          "loss": 0.942274272441864
         },
         {
          "i": 287,
          "loss": 0.942262589931488
         },
         {
          "i": 288,
          "loss": 0.9422512650489807
         },
         {
          "i": 289,
          "loss": 0.9422403573989868
         },
         {
          "i": 290,
          "loss": 0.9422297477722168
         },
         {
          "i": 291,
          "loss": 0.9422194957733154
         },
         {
          "i": 292,
          "loss": 0.9422096014022827
         },
         {
          "i": 293,
          "loss": 0.9422000050544739
         },
         {
          "i": 294,
          "loss": 0.9421907067298889
         },
         {
          "i": 295,
          "loss": 0.9421815276145935
         },
         {
          "i": 296,
          "loss": 0.9421727657318115
         },
         {
          "i": 297,
          "loss": 0.9421643614768982
         },
         {
          "i": 298,
          "loss": 0.9421563148498535
         },
         {
          "i": 299,
          "loss": 0.9421482682228088
         },
         {
          "i": 300,
          "loss": 0.9421406388282776
         },
         {
          "i": 301,
          "loss": 0.9421333074569702
         },
         {
          "i": 302,
          "loss": 0.9421260952949524
         },
         {
          "i": 303,
          "loss": 0.9421191215515137
         },
         {
          "i": 304,
          "loss": 0.9421123266220093
         },
         {
          "i": 305,
          "loss": 0.9421059489250183
         },
         {
          "i": 306,
          "loss": 0.9420994520187378
         },
         {
          "i": 307,
          "loss": 0.9420933723449707
         },
         {
          "i": 308,
          "loss": 0.9420874118804932
         },
         {
          "i": 309,
          "loss": 0.9420816898345947
         },
         {
          "i": 310,
          "loss": 0.9420762658119202
         },
         {
          "i": 311,
          "loss": 0.942070722579956
         },
         {
          "i": 312,
          "loss": 0.9420656561851501
         },
         {
          "i": 313,
          "loss": 0.9420605301856995
         },
         {
          "i": 314,
          "loss": 0.9420556426048279
         },
         {
          "i": 315,
          "loss": 0.9420507550239563
         },
         {
          "i": 316,
          "loss": 0.9420463442802429
         },
         {
          "i": 317,
          "loss": 0.9420419335365295
         },
         {
          "i": 318,
          "loss": 0.9420376420021057
         },
         {
          "i": 319,
          "loss": 0.9420334696769714
         },
         {
          "i": 320,
          "loss": 0.9420294165611267
         },
         {
          "i": 321,
          "loss": 0.9420255422592163
         },
         {
          "i": 322,
          "loss": 0.9420216083526611
         },
         {
          "i": 323,
          "loss": 0.9420180320739746
         },
         {
          "i": 324,
          "loss": 0.9420145153999329
         },
         {
          "i": 325,
          "loss": 0.9420110583305359
         },
         {
          "i": 326,
          "loss": 0.9420077800750732
         },
         {
          "i": 327,
          "loss": 0.9420044422149658
         },
         {
          "i": 328,
          "loss": 0.9420012831687927
         },
         {
          "i": 329,
          "loss": 0.941998302936554
         },
         {
          "i": 330,
          "loss": 0.94199538230896
         },
         {
          "i": 331,
          "loss": 0.9419924020767212
         },
         {
          "i": 332,
          "loss": 0.9419896602630615
         },
         {
          "i": 333,
          "loss": 0.9419869780540466
         },
         {
          "i": 334,
          "loss": 0.9419844746589661
         },
         {
          "i": 335,
          "loss": 0.9419819712638855
         },
         {
          "i": 336,
          "loss": 0.9419794678688049
         },
         {
          "i": 337,
          "loss": 0.9419772624969482
         },
         {
          "i": 338,
          "loss": 0.941974937915802
         },
         {
          "i": 339,
          "loss": 0.9419727325439453
         },
         {
          "i": 340,
          "loss": 0.9419705271720886
         },
         {
          "i": 341,
          "loss": 0.9419684410095215
         },
         {
          "i": 342,
          "loss": 0.9419664144515991
         },
         {
          "i": 343,
          "loss": 0.9419645071029663
         },
         {
          "i": 344,
          "loss": 0.941962480545044
         },
         {
          "i": 345,
          "loss": 0.9419605731964111
         },
         {
          "i": 346,
          "loss": 0.9419588446617126
         },
         {
          "i": 347,
          "loss": 0.9419571757316589
         },
         {
          "i": 348,
          "loss": 0.9419555068016052
         },
         {
          "i": 349,
          "loss": 0.9419540166854858
         },
         {
          "i": 350,
          "loss": 0.9419522881507874
         },
         {
          "i": 351,
          "loss": 0.9419507384300232
         },
         {
          "i": 352,
          "loss": 0.9419493675231934
         },
         {
          "i": 353,
          "loss": 0.941947877407074
         },
         {
          "i": 354,
          "loss": 0.9419465661048889
         },
         {
          "i": 355,
          "loss": 0.9419451355934143
         },
         {
          "i": 356,
          "loss": 0.941943883895874
         },
         {
          "i": 357,
          "loss": 0.9419425129890442
         },
         {
          "i": 358,
          "loss": 0.9419413208961487
         },
         {
          "i": 359,
          "loss": 0.9419401288032532
         },
         {
          "i": 360,
          "loss": 0.9419389367103577
         },
         {
          "i": 361,
          "loss": 0.9419378042221069
         },
         {
          "i": 362,
          "loss": 0.9419368505477905
         },
         {
          "i": 363,
          "loss": 0.941935658454895
         },
         {
          "i": 364,
          "loss": 0.9419347643852234
         },
         {
          "i": 365,
          "loss": 0.9419337511062622
         },
         {
          "i": 366,
          "loss": 0.941932737827301
         },
         {
          "i": 367,
          "loss": 0.9419318437576294
         },
         {
          "i": 368,
          "loss": 0.9419309496879578
         },
         {
          "i": 369,
          "loss": 0.9419299364089966
         },
         {
          "i": 370,
          "loss": 0.9419291615486145
         },
         {
          "i": 371,
          "loss": 0.9419283270835876
         },
         {
          "i": 372,
          "loss": 0.9419275522232056
         },
         {
          "i": 373,
          "loss": 0.9419267177581787
         },
         {
          "i": 374,
          "loss": 0.9419259428977966
         },
         {
          "i": 375,
          "loss": 0.9419251084327698
         },
         {
          "i": 376,
          "loss": 0.9419245719909668
         },
         {
          "i": 377,
          "loss": 0.9419238567352295
         },
         {
          "i": 378,
          "loss": 0.941923201084137
         },
         {
          "i": 379,
          "loss": 0.9419224262237549
         },
         {
          "i": 380,
          "loss": 0.9419219493865967
         },
         {
          "i": 381,
          "loss": 0.9419211745262146
         },
         {
          "i": 382,
          "loss": 0.9419206976890564
         },
         {
          "i": 383,
          "loss": 0.9419201016426086
         },
         {
          "i": 384,
          "loss": 0.9419196248054504
         },
         {
          "i": 385,
          "loss": 0.9419189691543579
         },
         {
          "i": 386,
          "loss": 0.9419183135032654
         },
         {
          "i": 387,
          "loss": 0.9419179558753967
         },
         {
          "i": 388,
          "loss": 0.9419174790382385
         },
         {
          "i": 389,
          "loss": 0.9419170618057251
         },
         {
          "i": 390,
          "loss": 0.9419165253639221
         },
         {
          "i": 391,
          "loss": 0.9419159889221191
         },
         {
          "i": 392,
          "loss": 0.9419155716896057
         },
         {
          "i": 393,
          "loss": 0.9419152140617371
         },
         {
          "i": 394,
          "loss": 0.9419147968292236
         },
         {
          "i": 395,
          "loss": 0.9419143795967102
         },
         {
          "i": 396,
          "loss": 0.941913902759552
         },
         {
          "i": 397,
          "loss": 0.9419136047363281
         },
         {
          "i": 398,
          "loss": 0.9419132471084595
         },
         {
          "i": 399,
          "loss": 0.941912829875946
         },
         {
          "i": 400,
          "loss": 0.9419125318527222
         },
         {
          "i": 401,
          "loss": 0.9419121742248535
         },
         {
          "i": 402,
          "loss": 0.9419119358062744
         },
         {
          "i": 403,
          "loss": 0.941911518573761
         },
         {
          "i": 404,
          "loss": 0.9419113397598267
         },
         {
          "i": 405,
          "loss": 0.9419109225273132
         },
         {
          "i": 406,
          "loss": 0.9419105052947998
         },
         {
          "i": 407,
          "loss": 0.9419102668762207
         },
         {
          "i": 408,
          "loss": 0.9419100880622864
         },
         {
          "i": 409,
          "loss": 0.9419097900390625
         },
         {
          "i": 410,
          "loss": 0.9419094920158386
         },
         {
          "i": 411,
          "loss": 0.9419092535972595
         },
         {
          "i": 412,
          "loss": 0.9419090747833252
         },
         {
          "i": 413,
          "loss": 0.9419088959693909
         },
         {
          "i": 414,
          "loss": 0.9419084787368774
         },
         {
          "i": 415,
          "loss": 0.9419083595275879
         },
         {
          "i": 416,
          "loss": 0.9419081211090088
         },
         {
          "i": 417,
          "loss": 0.9419078826904297
         },
         {
          "i": 418,
          "loss": 0.9419076442718506
         },
         {
          "i": 419,
          "loss": 0.941907525062561
         },
         {
          "i": 420,
          "loss": 0.9419071674346924
         },
         {
          "i": 421,
          "loss": 0.9419071078300476
         },
         {
          "i": 422,
          "loss": 0.9419068694114685
         },
         {
          "i": 423,
          "loss": 0.9419068098068237
         },
         {
          "i": 424,
          "loss": 0.9419065713882446
         },
         {
          "i": 425,
          "loss": 0.9419063329696655
         },
         {
          "i": 426,
          "loss": 0.9419062733650208
         },
         {
          "i": 427,
          "loss": 0.9419059753417969
         },
         {
          "i": 428,
          "loss": 0.9419059157371521
         },
         {
          "i": 429,
          "loss": 0.9419059157371521
         },
         {
          "i": 430,
          "loss": 0.941905677318573
         },
         {
          "i": 431,
          "loss": 0.9419054388999939
         },
         {
          "i": 432,
          "loss": 0.9419052600860596
         },
         {
          "i": 433,
          "loss": 0.9419052004814148
         },
         {
          "i": 434,
          "loss": 0.9419050812721252
         },
         {
          "i": 435,
          "loss": 0.9419049024581909
         },
         {
          "i": 436,
          "loss": 0.9419047832489014
         },
         {
          "i": 437,
          "loss": 0.9419047832489014
         },
         {
          "i": 438,
          "loss": 0.941904604434967
         },
         {
          "i": 439,
          "loss": 0.9419045448303223
         },
         {
          "i": 440,
          "loss": 0.9419043064117432
         },
         {
          "i": 441,
          "loss": 0.9419043064117432
         },
         {
          "i": 442,
          "loss": 0.9419041275978088
         },
         {
          "i": 443,
          "loss": 0.9419041275978088
         },
         {
          "i": 444,
          "loss": 0.941903829574585
         },
         {
          "i": 445,
          "loss": 0.9419038891792297
         },
         {
          "i": 446,
          "loss": 0.9419037699699402
         },
         {
          "i": 447,
          "loss": 0.9419037103652954
         },
         {
          "i": 448,
          "loss": 0.9419037103652954
         },
         {
          "i": 449,
          "loss": 0.9419035911560059
         },
         {
          "i": 450,
          "loss": 0.9419032335281372
         },
         {
          "i": 451,
          "loss": 0.9419033527374268
         },
         {
          "i": 452,
          "loss": 0.9419032335281372
         },
         {
          "i": 453,
          "loss": 0.9419031739234924
         },
         {
          "i": 454,
          "loss": 0.9419031739234924
         },
         {
          "i": 455,
          "loss": 0.9419031739234924
         },
         {
          "i": 456,
          "loss": 0.9419029951095581
         },
         {
          "i": 457,
          "loss": 0.9419029355049133
         },
         {
          "i": 458,
          "loss": 0.9419029355049133
         },
         {
          "i": 459,
          "loss": 0.941902756690979
         },
         {
          "i": 460,
          "loss": 0.941902756690979
         },
         {
          "i": 461,
          "loss": 0.9419026374816895
         },
         {
          "i": 462,
          "loss": 0.9419025182723999
         },
         {
          "i": 463,
          "loss": 0.9419023990631104
         },
         {
          "i": 464,
          "loss": 0.9419024586677551
         },
         {
          "i": 465,
          "loss": 0.9419025182723999
         },
         {
          "i": 466,
          "loss": 0.9419023990631104
         },
         {
          "i": 467,
          "loss": 0.9419023990631104
         },
         {
          "i": 468,
          "loss": 0.9419023394584656
         },
         {
          "i": 469,
          "loss": 0.9419023394584656
         },
         {
          "i": 470,
          "loss": 0.9419021606445312
         },
         {
          "i": 471,
          "loss": 0.9419019818305969
         },
         {
          "i": 472,
          "loss": 0.9419021010398865
         },
         {
          "i": 473,
          "loss": 0.9419019818305969
         },
         {
          "i": 474,
          "loss": 0.9419019818305969
         },
         {
          "i": 475,
          "loss": 0.9419019818305969
         },
         {
          "i": 476,
          "loss": 0.9419018626213074
         },
         {
          "i": 477,
          "loss": 0.9419018626213074
         },
         {
          "i": 478,
          "loss": 0.9419018030166626
         },
         {
          "i": 479,
          "loss": 0.9419018626213074
         },
         {
          "i": 480,
          "loss": 0.9419018030166626
         },
         {
          "i": 481,
          "loss": 0.941901683807373
         },
         {
          "i": 482,
          "loss": 0.9419016242027283
         },
         {
          "i": 483,
          "loss": 0.9419016242027283
         },
         {
          "i": 484,
          "loss": 0.941901683807373
         },
         {
          "i": 485,
          "loss": 0.9419015645980835
         },
         {
          "i": 486,
          "loss": 0.9419016242027283
         },
         {
          "i": 487,
          "loss": 0.9419015645980835
         },
         {
          "i": 488,
          "loss": 0.9419015645980835
         },
         {
          "i": 489,
          "loss": 0.9419015645980835
         },
         {
          "i": 490,
          "loss": 0.9419013857841492
         },
         {
          "i": 491,
          "loss": 0.9419013261795044
         },
         {
          "i": 492,
          "loss": 0.9419013857841492
         },
         {
          "i": 493,
          "loss": 0.9419013261795044
         },
         {
          "i": 494,
          "loss": 0.9419013857841492
         },
         {
          "i": 495,
          "loss": 0.9419013261795044
         },
         {
          "i": 496,
          "loss": 0.9419012665748596
         },
         {
          "i": 497,
          "loss": 0.9419012665748596
         },
         {
          "i": 498,
          "loss": 0.9419013261795044
         },
         {
          "i": 499,
          "loss": 0.9419012665748596
         }
        ]
       },
       "encoding": {
        "x": {
         "field": "i",
         "type": "quantitative"
        },
        "y": {
         "field": "loss",
         "type": "quantitative"
        }
       },
       "height": 100,
       "mark": "line"
      },
      "image/png": "[encoded data removed]",
      "text/plain": [
       "<VegaLite 3 object>\n",
       "\n",
       "If you see this message, it means the renderer has not been properly enabled\n",
       "for the frontend that you are using. For more information, see\n",
       "https://altair-viz.github.io/user_guide/troubleshooting.html\n"
      ]
     },
     "execution_count": 18,
     "metadata": {},
     "output_type": "execute_result"
    }
   ],
   "source": [
    "import altair as alt\n",
    "import pandas as pd\n",
    "\n",
    "loss_df = pd.DataFrame({'i':range(500), 'loss':loss_record})\n",
    "alt.Chart(loss_df, height=100).mark_line().encode(x='i', y='loss')"
   ]
  },
  {
   "cell_type": "markdown",
   "metadata": {},
   "source": [
    "We see training loss goes down."
   ]
  },
  {
   "cell_type": "markdown",
   "metadata": {},
   "source": [
    "And here's the value of $\\beta$ after 500 iterations:"
   ]
  },
  {
   "cell_type": "code",
   "execution_count": 19,
   "metadata": {},
   "outputs": [
    {
     "data": {
      "text/plain": [
       "tensor([[-0.0629],\n",
       "        [-0.1810],\n",
       "        [-0.1554],\n",
       "        [-0.0293],\n",
       "        [-0.0817],\n",
       "        [-0.0722]], requires_grad=True)"
      ]
     },
     "execution_count": 19,
     "metadata": {},
     "output_type": "execute_result"
    }
   ],
   "source": [
    "β"
   ]
  },
  {
   "cell_type": "markdown",
   "metadata": {},
   "source": [
    "Remember our original data is totally random and there is no relationship between the predictors and outcomes. So the \"right\" answer for what $\\beta$ should be in this case is $\\beta=0$. As we see above, all the values are near 0, so our algorithm appears to be converging to the right answer."
   ]
  },
  {
   "cell_type": "markdown",
   "metadata": {},
   "source": [
    "To predict for a new observation, all we have to do is multiply by $\\beta$ and add the intercept:"
   ]
  },
  {
   "cell_type": "code",
   "execution_count": 20,
   "metadata": {},
   "outputs": [
    {
     "data": {
      "text/plain": [
       "tensor([[ 0.1136],\n",
       "        [ 0.2162],\n",
       "        [-0.4801],\n",
       "        [ 0.1490],\n",
       "        [-0.0227],\n",
       "        [ 0.2622],\n",
       "        [-0.1533],\n",
       "        [-0.0588],\n",
       "        [ 0.1143],\n",
       "        [-0.3064]], grad_fn=<AddBackward0>)"
      ]
     },
     "execution_count": 20,
     "metadata": {},
     "output_type": "execute_result"
    }
   ],
   "source": [
    "new_x = torch.randn(10, 5) # 10 new observations\n",
    "torch.matmul(new_x, β[1:]) + β[0] # predictions"
   ]
  },
  {
   "cell_type": "markdown",
   "metadata": {},
   "source": [
    "### Conclusion"
   ]
  },
  {
   "cell_type": "markdown",
   "metadata": {},
   "source": [
    "We just developed a machine learning method out of these three components:\n",
    "* linear model (model)\n",
    "* MSE loss (loss)\n",
    "* gradient descent (search algorithm)\n",
    "\n",
    "These components are like interchangable parts. We're going to see how we can use a different model and loss to fit data of a different kind without fundamentally changing our search strategy."
   ]
  },
  {
   "cell_type": "markdown",
   "metadata": {},
   "source": [
    "# Logistic Regression"
   ]
  },
  {
   "cell_type": "markdown",
   "metadata": {},
   "source": [
    "Now that we've seen how this works for linear regression, we can try and implement a model that predicts probabilities for a two-class outcome instead of a prediction for a continuous outcome. Now our data look like this:"
   ]
  },
  {
   "cell_type": "code",
   "execution_count": 21,
   "metadata": {},
   "outputs": [],
   "source": [
    "n,p = 100,5\n",
    "x = torch.randn(n,5) # predictors (10 observations, 5 features)\n",
    "y = torch.randint(0,2,(n,), dtype=torch.float) # outcomes (10 observations)"
   ]
  },
  {
   "cell_type": "code",
   "execution_count": 22,
   "metadata": {},
   "outputs": [
    {
     "data": {
      "text/plain": [
       "tensor([0., 1., 0., 1., 1.])"
      ]
     },
     "execution_count": 22,
     "metadata": {},
     "output_type": "execute_result"
    }
   ],
   "source": [
    "y[0:5]"
   ]
  },
  {
   "cell_type": "markdown",
   "metadata": {},
   "source": [
    "## Changing the model"
   ]
  },
  {
   "cell_type": "markdown",
   "metadata": {},
   "source": [
    "To do this, we have to change two things: firstly, our model can't be $\\hat y_i  = x_i\\beta_{1:p} + \\beta_0$ anymore because $\\hat y_i$ will come out as a number between plus and minus infinity, wheras we now want it to be a number between 0 and 1 (a probability). To fix this, we'll apply a function that takes $x_i\\beta_{1:p} + \\beta_0$ and squishes it down to a number between 0 and 1. The function we'll use is $\\sigma(z) = \\frac{1}{1+e^{-z}}$, which is called the *sigmoid* or *logistic* function. "
   ]
  },
  {
   "cell_type": "markdown",
   "metadata": {},
   "source": [
    "![](https://upload.wikimedia.org/wikipedia/commons/thumb/8/88/Logistic-curve.svg/600px-Logistic-curve.svg.png)"
   ]
  },
  {
   "cell_type": "markdown",
   "metadata": {},
   "source": [
    "So our model will be $\\hat p_i  = \\sigma(x_i\\beta_{1:p} + \\beta_0)$. The parameters are still $\\beta$, but now there is an additional (fixed) squishing function that makes sure the output is a probability. In accordance, I've called the output $\\hat p_i$ instead of $\\hat y_i$."
   ]
  },
  {
   "cell_type": "markdown",
   "metadata": {},
   "source": [
    "## Changing the loss"
   ]
  },
  {
   "cell_type": "markdown",
   "metadata": {},
   "source": [
    "Our loss function from before was MSE: $\\sum (\\hat y_i - y_i)^2$, which compares a predicted outcome to the true outcome. One option is to replace the predicted outcome with a predicted probability to get $\\sum (\\hat p_i - y_i)^2$ (the _Brier Score_). Here's what that looks like (for a single observation $i$):"
   ]
  },
  {
   "cell_type": "markdown",
   "metadata": {},
   "source": [
    "![](http://journal.sjdm.org/16/16218/jdm16218001.png)"
   ]
  },
  {
   "cell_type": "markdown",
   "metadata": {},
   "source": [
    "This is ok, but many people don't like that there is a maximum penalty under this loss: if the true outcome was $y_i =0$ but the model predicts $p_j = P(Y_i=1) = 1$ (i.e. $y_i =1$ with absolute certainty), then the penalty should be infinitely high to strongly discrourage this kind of overconfident (wrong) prediction. Under the Brier score, however, you can see that this kind of prediction only incurrs a loss of 1, not infinity. Furthermore, when the outcome is 1 and the prediction gets closer and closer to 1, we see that the loss \"flattens out\", which means that we're not encouraged to be more and more confident when we're right."
   ]
  },
  {
   "cell_type": "markdown",
   "metadata": {},
   "source": [
    "What we want is a loss function that looks like this:"
   ]
  },
  {
   "cell_type": "markdown",
   "metadata": {},
   "source": [
    "![](https://conorsdatablog.files.wordpress.com/2018/03/log_loss.png?w=615&h=597)"
   ]
  },
  {
   "cell_type": "markdown",
   "metadata": {},
   "source": [
    "This is called the _log-loss_ (or _cross-entropy loss_ or _binomial deviance_). It is expressed as \n",
    "\n",
    "$$\n",
    "L(\\hat p, y) = \n",
    "\\frac{1}{n}\n",
    "\\sum_i \n",
    "\\begin{cases}\n",
    "-\\log(P(Y_i = 1)) & \\text{if}\\ y_i=1 \\\\\n",
    "-\\log(P(Y_i = 0)) & \\text{if}\\ y_i=0\n",
    "\\end{cases}\n",
    "$$"
   ]
  },
  {
   "cell_type": "markdown",
   "metadata": {},
   "source": [
    "which is the same as "
   ]
  },
  {
   "cell_type": "markdown",
   "metadata": {},
   "source": [
    "$$\n",
    "=\n",
    "\\frac{1}{n}\n",
    "\\sum_i \n",
    "\\begin{cases}\n",
    "-\\log(\\hat p_i) & \\text{if}\\ y_i=1 \\\\\n",
    "-\\log(1-\\hat p_i) & \\text{if}\\ y_i=0\n",
    "\\end{cases}\n",
    "\\\\\n",
    "= \n",
    "-\\frac{1}{n}\n",
    "\\sum_i \n",
    "y_i \\log(\\hat p_i) + (1-y_i) \\log (1-\\hat p_i)\n",
    "$$"
   ]
  },
  {
   "cell_type": "markdown",
   "metadata": {},
   "source": [
    "## Search strategy is still gradient descent"
   ]
  },
  {
   "cell_type": "markdown",
   "metadata": {},
   "source": [
    "This combination of logistic-linear model and log-loss is called _logistic regression_ (although this is a misnomer because we're actually doing classification, not regression). The amazing thing about gradient descent is that, as long as you can differentiate through the loss and to the model parameters, it just works. Compare this code to what we did to fit our linear regression model."
   ]
  },
  {
   "cell_type": "code",
   "execution_count": 23,
   "metadata": {},
   "outputs": [
    {
     "data": {
      "text/plain": [
       "tensor([[-0.2442],\n",
       "        [ 0.0197],\n",
       "        [-1.0949],\n",
       "        [-1.3113],\n",
       "        [ 1.9008],\n",
       "        [-1.9174]], requires_grad=True)"
      ]
     },
     "execution_count": 23,
     "metadata": {},
     "output_type": "execute_result"
    }
   ],
   "source": [
    "x = torch.randn(n, p) # predictors (10 observations, 5 features)\n",
    "y = torch.randint(0,2,(n,), dtype=torch.float) # outcomes (10 observations)\n",
    "\n",
    "loss_record = [] # to kep track of the loss over the iterations\n",
    "β = torch.randn(p+1,1) # 5 coefficients (one per feature)\n",
    "β.requires_grad_() # tell torch that β is going to have to save the gradient of something with respect to itself at some point"
   ]
  },
  {
   "cell_type": "code",
   "execution_count": 24,
   "metadata": {},
   "outputs": [],
   "source": [
    "for e in range(500):\n",
    "    z = torch.matmul(x, β[1:]) + β[0]  \n",
    "    p̂ = torch.exp(-z)/(1+torch.exp(-z))\n",
    "    L = -torch.sum(torch.log(p̂)*y + torch.log(1-p̂)*(1-y))/n # log loss\n",
    "    \n",
    "    L.backward() # compute gradients (in this case δL/δβ, δL/δW)\n",
    "    loss_record.append(L.item())\n",
    "    \n",
    "    with torch.no_grad(): # take the gradient descent step \n",
    "        β -= 10e-4 * β.grad\n",
    "        β.grad.zero_()"
   ]
  },
  {
   "cell_type": "code",
   "execution_count": 25,
   "metadata": {},
   "outputs": [
    {
     "data": {
      "application/vnd.vegalite.v3+json": {
       "$schema": "https://vega.github.io/schema/vega-lite/v3.4.0.json",
       "config": {
        "mark": {
         "tooltip": null
        },
        "view": {
         "height": 300,
         "width": 400
        }
       },
       "data": {
        "name": "data-0f98c24d77c11eb723fd136170b858ad"
       },
       "datasets": {
        "data-0f98c24d77c11eb723fd136170b858ad": [
         {
          "i": 0,
          "loss": 139.4264678955078
         },
         {
          "i": 1,
          "loss": 138.3276824951172
         },
         {
          "i": 2,
          "loss": 137.2354278564453
         },
         {
          "i": 3,
          "loss": 136.14988708496094
         },
         {
          "i": 4,
          "loss": 135.0712890625
         },
         {
          "i": 5,
          "loss": 133.99957275390625
         },
         {
          "i": 6,
          "loss": 132.9348602294922
         },
         {
          "i": 7,
          "loss": 131.8773956298828
         },
         {
          "i": 8,
          "loss": 130.8271026611328
         },
         {
          "i": 9,
          "loss": 129.78402709960938
         },
         {
          "i": 10,
          "loss": 128.7484588623047
         },
         {
          "i": 11,
          "loss": 127.72039031982422
         },
         {
          "i": 12,
          "loss": 126.69994354248047
         },
         {
          "i": 13,
          "loss": 125.687255859375
         },
         {
          "i": 14,
          "loss": 124.6823959350586
         },
         {
          "i": 15,
          "loss": 123.68537902832031
         },
         {
          "i": 16,
          "loss": 122.69646453857422
         },
         {
          "i": 17,
          "loss": 121.71568298339844
         },
         {
          "i": 18,
          "loss": 120.74310302734375
         },
         {
          "i": 19,
          "loss": 119.77891540527344
         },
         {
          "i": 20,
          "loss": 118.8232421875
         },
         {
          "i": 21,
          "loss": 117.87605285644531
         },
         {
          "i": 22,
          "loss": 116.93754577636719
         },
         {
          "i": 23,
          "loss": 116.00794219970703
         },
         {
          "i": 24,
          "loss": 115.08702850341797
         },
         {
          "i": 25,
          "loss": 114.17509460449219
         },
         {
          "i": 26,
          "loss": 113.27220916748047
         },
         {
          "i": 27,
          "loss": 112.37852478027344
         },
         {
          "i": 28,
          "loss": 111.49421691894531
         },
         {
          "i": 29,
          "loss": 110.61907958984375
         },
         {
          "i": 30,
          "loss": 109.75357055664062
         },
         {
          "i": 31,
          "loss": 108.89750671386719
         },
         {
          "i": 32,
          "loss": 108.05110168457031
         },
         {
          "i": 33,
          "loss": 107.21446990966797
         },
         {
          "i": 34,
          "loss": 106.3875961303711
         },
         {
          "i": 35,
          "loss": 105.57059478759766
         },
         {
          "i": 36,
          "loss": 104.76370239257812
         },
         {
          "i": 37,
          "loss": 103.9667739868164
         },
         {
          "i": 38,
          "loss": 103.18016815185547
         },
         {
          "i": 39,
          "loss": 102.40363311767578
         },
         {
          "i": 40,
          "loss": 101.6374282836914
         },
         {
          "i": 41,
          "loss": 100.881591796875
         },
         {
          "i": 42,
          "loss": 100.13611602783203
         },
         {
          "i": 43,
          "loss": 99.40125274658203
         },
         {
          "i": 44,
          "loss": 98.6767807006836
         },
         {
          "i": 45,
          "loss": 97.9629898071289
         },
         {
          "i": 46,
          "loss": 97.25981140136719
         },
         {
          "i": 47,
          "loss": 96.5674057006836
         },
         {
          "i": 48,
          "loss": 95.88563537597656
         },
         {
          "i": 49,
          "loss": 95.21467590332031
         },
         {
          "i": 50,
          "loss": 94.55448150634766
         },
         {
          "i": 51,
          "loss": 93.90512084960938
         },
         {
          "i": 52,
          "loss": 93.26660919189453
         },
         {
          "i": 53,
          "loss": 92.63900756835938
         },
         {
          "i": 54,
          "loss": 92.02217864990234
         },
         {
          "i": 55,
          "loss": 91.41621398925781
         },
         {
          "i": 56,
          "loss": 90.82128143310547
         },
         {
          "i": 57,
          "loss": 90.2370376586914
         },
         {
          "i": 58,
          "loss": 89.66378784179688
         },
         {
          "i": 59,
          "loss": 89.10142517089844
         },
         {
          "i": 60,
          "loss": 88.54974365234375
         },
         {
          "i": 61,
          "loss": 88.00892639160156
         },
         {
          "i": 62,
          "loss": 87.4789047241211
         },
         {
          "i": 63,
          "loss": 86.9594955444336
         },
         {
          "i": 64,
          "loss": 86.45086669921875
         },
         {
          "i": 65,
          "loss": 85.95294952392578
         },
         {
          "i": 66,
          "loss": 85.46546173095703
         },
         {
          "i": 67,
          "loss": 84.98860168457031
         },
         {
          "i": 68,
          "loss": 84.52210235595703
         },
         {
          "i": 69,
          "loss": 84.06607055664062
         },
         {
          "i": 70,
          "loss": 83.62029266357422
         },
         {
          "i": 71,
          "loss": 83.18480682373047
         },
         {
          "i": 72,
          "loss": 82.75940704345703
         },
         {
          "i": 73,
          "loss": 82.34403228759766
         },
         {
          "i": 74,
          "loss": 81.93858337402344
         },
         {
          "i": 75,
          "loss": 81.54304504394531
         },
         {
          "i": 76,
          "loss": 81.15721893310547
         },
         {
          "i": 77,
          "loss": 80.78108215332031
         },
         {
          "i": 78,
          "loss": 80.4144287109375
         },
         {
          "i": 79,
          "loss": 80.05709075927734
         },
         {
          "i": 80,
          "loss": 79.70909881591797
         },
         {
          "i": 81,
          "loss": 79.3702392578125
         },
         {
          "i": 82,
          "loss": 79.04043579101562
         },
         {
          "i": 83,
          "loss": 78.71940612792969
         },
         {
          "i": 84,
          "loss": 78.40718078613281
         },
         {
          "i": 85,
          "loss": 78.10354614257812
         },
         {
          "i": 86,
          "loss": 77.8083724975586
         },
         {
          "i": 87,
          "loss": 77.52142333984375
         },
         {
          "i": 88,
          "loss": 77.24273681640625
         },
         {
          "i": 89,
          "loss": 76.97207641601562
         },
         {
          "i": 90,
          "loss": 76.70919799804688
         },
         {
          "i": 91,
          "loss": 76.45410919189453
         },
         {
          "i": 92,
          "loss": 76.20652770996094
         },
         {
          "i": 93,
          "loss": 75.9662857055664
         },
         {
          "i": 94,
          "loss": 75.73333740234375
         },
         {
          "i": 95,
          "loss": 75.50755310058594
         },
         {
          "i": 96,
          "loss": 75.28858184814453
         },
         {
          "i": 97,
          "loss": 75.0764389038086
         },
         {
          "i": 98,
          "loss": 74.8708724975586
         },
         {
          "i": 99,
          "loss": 74.67181396484375
         },
         {
          "i": 100,
          "loss": 74.47906494140625
         },
         {
          "i": 101,
          "loss": 74.29244995117188
         },
         {
          "i": 102,
          "loss": 74.1118392944336
         },
         {
          "i": 103,
          "loss": 73.9370346069336
         },
         {
          "i": 104,
          "loss": 73.76790618896484
         },
         {
          "i": 105,
          "loss": 73.60435485839844
         },
         {
          "i": 106,
          "loss": 73.44615936279297
         },
         {
          "i": 107,
          "loss": 73.29327392578125
         },
         {
          "i": 108,
          "loss": 73.14546966552734
         },
         {
          "i": 109,
          "loss": 73.00257110595703
         },
         {
          "i": 110,
          "loss": 72.864501953125
         },
         {
          "i": 111,
          "loss": 72.73115539550781
         },
         {
          "i": 112,
          "loss": 72.60226440429688
         },
         {
          "i": 113,
          "loss": 72.47782135009766
         },
         {
          "i": 114,
          "loss": 72.3576889038086
         },
         {
          "i": 115,
          "loss": 72.24172973632812
         },
         {
          "i": 116,
          "loss": 72.12973022460938
         },
         {
          "i": 117,
          "loss": 72.0215835571289
         },
         {
          "i": 118,
          "loss": 71.91726684570312
         },
         {
          "i": 119,
          "loss": 71.81651306152344
         },
         {
          "i": 120,
          "loss": 71.71945190429688
         },
         {
          "i": 121,
          "loss": 71.62572479248047
         },
         {
          "i": 122,
          "loss": 71.53536987304688
         },
         {
          "i": 123,
          "loss": 71.44818115234375
         },
         {
          "i": 124,
          "loss": 71.36405181884766
         },
         {
          "i": 125,
          "loss": 71.28296661376953
         },
         {
          "i": 126,
          "loss": 71.20477294921875
         },
         {
          "i": 127,
          "loss": 71.12942504882812
         },
         {
          "i": 128,
          "loss": 71.05672454833984
         },
         {
          "i": 129,
          "loss": 70.9866714477539
         },
         {
          "i": 130,
          "loss": 70.91911315917969
         },
         {
          "i": 131,
          "loss": 70.85398864746094
         },
         {
          "i": 132,
          "loss": 70.7912368774414
         },
         {
          "i": 133,
          "loss": 70.73074340820312
         },
         {
          "i": 134,
          "loss": 70.67257690429688
         },
         {
          "i": 135,
          "loss": 70.61642456054688
         },
         {
          "i": 136,
          "loss": 70.5622787475586
         },
         {
          "i": 137,
          "loss": 70.51017761230469
         },
         {
          "i": 138,
          "loss": 70.45993041992188
         },
         {
          "i": 139,
          "loss": 70.41153717041016
         },
         {
          "i": 140,
          "loss": 70.36494445800781
         },
         {
          "i": 141,
          "loss": 70.3200454711914
         },
         {
          "i": 142,
          "loss": 70.27671813964844
         },
         {
          "i": 143,
          "loss": 70.23504638671875
         },
         {
          "i": 144,
          "loss": 70.19490814208984
         },
         {
          "i": 145,
          "loss": 70.15621185302734
         },
         {
          "i": 146,
          "loss": 70.11903381347656
         },
         {
          "i": 147,
          "loss": 70.0830307006836
         },
         {
          "i": 148,
          "loss": 70.04850769042969
         },
         {
          "i": 149,
          "loss": 70.01517486572266
         },
         {
          "i": 150,
          "loss": 69.98312377929688
         },
         {
          "i": 151,
          "loss": 69.95223999023438
         },
         {
          "i": 152,
          "loss": 69.92251586914062
         },
         {
          "i": 153,
          "loss": 69.89382934570312
         },
         {
          "i": 154,
          "loss": 69.86624145507812
         },
         {
          "i": 155,
          "loss": 69.83963775634766
         },
         {
          "i": 156,
          "loss": 69.81402587890625
         },
         {
          "i": 157,
          "loss": 69.78938293457031
         },
         {
          "i": 158,
          "loss": 69.76563262939453
         },
         {
          "i": 159,
          "loss": 69.74271392822266
         },
         {
          "i": 160,
          "loss": 69.72066497802734
         },
         {
          "i": 161,
          "loss": 69.699462890625
         },
         {
          "i": 162,
          "loss": 69.67898559570312
         },
         {
          "i": 163,
          "loss": 69.65933227539062
         },
         {
          "i": 164,
          "loss": 69.64034271240234
         },
         {
          "i": 165,
          "loss": 69.62206268310547
         },
         {
          "i": 166,
          "loss": 69.6044692993164
         },
         {
          "i": 167,
          "loss": 69.58751678466797
         },
         {
          "i": 168,
          "loss": 69.57115173339844
         },
         {
          "i": 169,
          "loss": 69.555419921875
         },
         {
          "i": 170,
          "loss": 69.54027557373047
         },
         {
          "i": 171,
          "loss": 69.52569580078125
         },
         {
          "i": 172,
          "loss": 69.51160430908203
         },
         {
          "i": 173,
          "loss": 69.49805450439453
         },
         {
          "i": 174,
          "loss": 69.4850082397461
         },
         {
          "i": 175,
          "loss": 69.47241973876953
         },
         {
          "i": 176,
          "loss": 69.46028900146484
         },
         {
          "i": 177,
          "loss": 69.44860076904297
         },
         {
          "i": 178,
          "loss": 69.43737030029297
         },
         {
          "i": 179,
          "loss": 69.42658996582031
         },
         {
          "i": 180,
          "loss": 69.41610717773438
         },
         {
          "i": 181,
          "loss": 69.4060287475586
         },
         {
          "i": 182,
          "loss": 69.39631652832031
         },
         {
          "i": 183,
          "loss": 69.38697814941406
         },
         {
          "i": 184,
          "loss": 69.37799072265625
         },
         {
          "i": 185,
          "loss": 69.36933898925781
         },
         {
          "i": 186,
          "loss": 69.36097717285156
         },
         {
          "i": 187,
          "loss": 69.35291290283203
         },
         {
          "i": 188,
          "loss": 69.34515380859375
         },
         {
          "i": 189,
          "loss": 69.33765411376953
         },
         {
          "i": 190,
          "loss": 69.33045196533203
         },
         {
          "i": 191,
          "loss": 69.32347869873047
         },
         {
          "i": 192,
          "loss": 69.31680297851562
         },
         {
          "i": 193,
          "loss": 69.31035614013672
         },
         {
          "i": 194,
          "loss": 69.30409240722656
         },
         {
          "i": 195,
          "loss": 69.29805755615234
         },
         {
          "i": 196,
          "loss": 69.29226684570312
         },
         {
          "i": 197,
          "loss": 69.2867660522461
         },
         {
          "i": 198,
          "loss": 69.2813949584961
         },
         {
          "i": 199,
          "loss": 69.27623748779297
         },
         {
          "i": 200,
          "loss": 69.27116394042969
         },
         {
          "i": 201,
          "loss": 69.2663803100586
         },
         {
          "i": 202,
          "loss": 69.26179504394531
         },
         {
          "i": 203,
          "loss": 69.25723266601562
         },
         {
          "i": 204,
          "loss": 69.25289916992188
         },
         {
          "i": 205,
          "loss": 69.2488021850586
         },
         {
          "i": 206,
          "loss": 69.24478149414062
         },
         {
          "i": 207,
          "loss": 69.24087524414062
         },
         {
          "i": 208,
          "loss": 69.23719787597656
         },
         {
          "i": 209,
          "loss": 69.23359680175781
         },
         {
          "i": 210,
          "loss": 69.23008728027344
         },
         {
          "i": 211,
          "loss": 69.22676086425781
         },
         {
          "i": 212,
          "loss": 69.2235107421875
         },
         {
          "i": 213,
          "loss": 69.22036743164062
         },
         {
          "i": 214,
          "loss": 69.21745300292969
         },
         {
          "i": 215,
          "loss": 69.2145004272461
         },
         {
          "i": 216,
          "loss": 69.21176147460938
         },
         {
          "i": 217,
          "loss": 69.20899200439453
         },
         {
          "i": 218,
          "loss": 69.20650482177734
         },
         {
          "i": 219,
          "loss": 69.20392608642578
         },
         {
          "i": 220,
          "loss": 69.20159149169922
         },
         {
          "i": 221,
          "loss": 69.19918060302734
         },
         {
          "i": 222,
          "loss": 69.19692993164062
         },
         {
          "i": 223,
          "loss": 69.19477081298828
         },
         {
          "i": 224,
          "loss": 69.19267272949219
         },
         {
          "i": 225,
          "loss": 69.19064331054688
         },
         {
          "i": 226,
          "loss": 69.18875885009766
         },
         {
          "i": 227,
          "loss": 69.18684387207031
         },
         {
          "i": 228,
          "loss": 69.18505859375
         },
         {
          "i": 229,
          "loss": 69.18331146240234
         },
         {
          "i": 230,
          "loss": 69.18160247802734
         },
         {
          "i": 231,
          "loss": 69.1799545288086
         },
         {
          "i": 232,
          "loss": 69.17840576171875
         },
         {
          "i": 233,
          "loss": 69.1768569946289
         },
         {
          "i": 234,
          "loss": 69.17544555664062
         },
         {
          "i": 235,
          "loss": 69.17404174804688
         },
         {
          "i": 236,
          "loss": 69.17268371582031
         },
         {
          "i": 237,
          "loss": 69.17134857177734
         },
         {
          "i": 238,
          "loss": 69.17015075683594
         },
         {
          "i": 239,
          "loss": 69.16886901855469
         },
         {
          "i": 240,
          "loss": 69.16773223876953
         },
         {
          "i": 241,
          "loss": 69.16653442382812
         },
         {
          "i": 242,
          "loss": 69.16542053222656
         },
         {
          "i": 243,
          "loss": 69.1644287109375
         },
         {
          "i": 244,
          "loss": 69.16339111328125
         },
         {
          "i": 245,
          "loss": 69.16236114501953
         },
         {
          "i": 246,
          "loss": 69.16145324707031
         },
         {
          "i": 247,
          "loss": 69.16047668457031
         },
         {
          "i": 248,
          "loss": 69.15957641601562
         },
         {
          "i": 249,
          "loss": 69.15876770019531
         },
         {
          "i": 250,
          "loss": 69.15789031982422
         },
         {
          "i": 251,
          "loss": 69.15713500976562
         },
         {
          "i": 252,
          "loss": 69.1563491821289
         },
         {
          "i": 253,
          "loss": 69.1556396484375
         },
         {
          "i": 254,
          "loss": 69.15486907958984
         },
         {
          "i": 255,
          "loss": 69.15423583984375
         },
         {
          "i": 256,
          "loss": 69.15351867675781
         },
         {
          "i": 257,
          "loss": 69.15283203125
         },
         {
          "i": 258,
          "loss": 69.15220642089844
         },
         {
          "i": 259,
          "loss": 69.15165710449219
         },
         {
          "i": 260,
          "loss": 69.15106201171875
         },
         {
          "i": 261,
          "loss": 69.1505126953125
         },
         {
          "i": 262,
          "loss": 69.14999389648438
         },
         {
          "i": 263,
          "loss": 69.14944458007812
         },
         {
          "i": 264,
          "loss": 69.14895629882812
         },
         {
          "i": 265,
          "loss": 69.14847564697266
         },
         {
          "i": 266,
          "loss": 69.14802551269531
         },
         {
          "i": 267,
          "loss": 69.14753723144531
         },
         {
          "i": 268,
          "loss": 69.14704895019531
         },
         {
          "i": 269,
          "loss": 69.14666748046875
         },
         {
          "i": 270,
          "loss": 69.14625549316406
         },
         {
          "i": 271,
          "loss": 69.14585876464844
         },
         {
          "i": 272,
          "loss": 69.14546966552734
         },
         {
          "i": 273,
          "loss": 69.14509582519531
         },
         {
          "i": 274,
          "loss": 69.14476013183594
         },
         {
          "i": 275,
          "loss": 69.1444320678711
         },
         {
          "i": 276,
          "loss": 69.14407348632812
         },
         {
          "i": 277,
          "loss": 69.14373016357422
         },
         {
          "i": 278,
          "loss": 69.14340209960938
         },
         {
          "i": 279,
          "loss": 69.14319610595703
         },
         {
          "i": 280,
          "loss": 69.14285278320312
         },
         {
          "i": 281,
          "loss": 69.1425552368164
         },
         {
          "i": 282,
          "loss": 69.1423110961914
         },
         {
          "i": 283,
          "loss": 69.14201354980469
         },
         {
          "i": 284,
          "loss": 69.14181518554688
         },
         {
          "i": 285,
          "loss": 69.14152526855469
         },
         {
          "i": 286,
          "loss": 69.1413345336914
         },
         {
          "i": 287,
          "loss": 69.14106750488281
         },
         {
          "i": 288,
          "loss": 69.14083862304688
         },
         {
          "i": 289,
          "loss": 69.1406478881836
         },
         {
          "i": 290,
          "loss": 69.14049530029297
         },
         {
          "i": 291,
          "loss": 69.14030456542969
         },
         {
          "i": 292,
          "loss": 69.14009857177734
         },
         {
          "i": 293,
          "loss": 69.13986206054688
         },
         {
          "i": 294,
          "loss": 69.13965606689453
         },
         {
          "i": 295,
          "loss": 69.1395034790039
         },
         {
          "i": 296,
          "loss": 69.1393814086914
         },
         {
          "i": 297,
          "loss": 69.13922119140625
         },
         {
          "i": 298,
          "loss": 69.1390609741211
         },
         {
          "i": 299,
          "loss": 69.1389389038086
         },
         {
          "i": 300,
          "loss": 69.13876342773438
         },
         {
          "i": 301,
          "loss": 69.13860321044922
         },
         {
          "i": 302,
          "loss": 69.13845825195312
         },
         {
          "i": 303,
          "loss": 69.13833618164062
         },
         {
          "i": 304,
          "loss": 69.13821411132812
         },
         {
          "i": 305,
          "loss": 69.13814544677734
         },
         {
          "i": 306,
          "loss": 69.1379623413086
         },
         {
          "i": 307,
          "loss": 69.13784790039062
         },
         {
          "i": 308,
          "loss": 69.13777923583984
         },
         {
          "i": 309,
          "loss": 69.13761901855469
         },
         {
          "i": 310,
          "loss": 69.13751983642578
         },
         {
          "i": 311,
          "loss": 69.13742065429688
         },
         {
          "i": 312,
          "loss": 69.13735961914062
         },
         {
          "i": 313,
          "loss": 69.13732147216797
         },
         {
          "i": 314,
          "loss": 69.13714599609375
         },
         {
          "i": 315,
          "loss": 69.13704681396484
         },
         {
          "i": 316,
          "loss": 69.13702392578125
         },
         {
          "i": 317,
          "loss": 69.13695526123047
         },
         {
          "i": 318,
          "loss": 69.13687133789062
         },
         {
          "i": 319,
          "loss": 69.13678741455078
         },
         {
          "i": 320,
          "loss": 69.13668060302734
         },
         {
          "i": 321,
          "loss": 69.13662719726562
         },
         {
          "i": 322,
          "loss": 69.13654327392578
         },
         {
          "i": 323,
          "loss": 69.13650512695312
         },
         {
          "i": 324,
          "loss": 69.13640594482422
         },
         {
          "i": 325,
          "loss": 69.1363296508789
         },
         {
          "i": 326,
          "loss": 69.13630676269531
         },
         {
          "i": 327,
          "loss": 69.13626098632812
         },
         {
          "i": 328,
          "loss": 69.1362075805664
         },
         {
          "i": 329,
          "loss": 69.13615417480469
         },
         {
          "i": 330,
          "loss": 69.13613891601562
         },
         {
          "i": 331,
          "loss": 69.1360855102539
         },
         {
          "i": 332,
          "loss": 69.13599395751953
         },
         {
          "i": 333,
          "loss": 69.13594818115234
         },
         {
          "i": 334,
          "loss": 69.13587188720703
         },
         {
          "i": 335,
          "loss": 69.13585662841797
         },
         {
          "i": 336,
          "loss": 69.1358413696289
         },
         {
          "i": 337,
          "loss": 69.13573455810547
         },
         {
          "i": 338,
          "loss": 69.13572692871094
         },
         {
          "i": 339,
          "loss": 69.13569641113281
         },
         {
          "i": 340,
          "loss": 69.13565063476562
         },
         {
          "i": 341,
          "loss": 69.13561248779297
         },
         {
          "i": 342,
          "loss": 69.1356201171875
         },
         {
          "i": 343,
          "loss": 69.13554382324219
         },
         {
          "i": 344,
          "loss": 69.13552856445312
         },
         {
          "i": 345,
          "loss": 69.13551330566406
         },
         {
          "i": 346,
          "loss": 69.13552856445312
         },
         {
          "i": 347,
          "loss": 69.135498046875
         },
         {
          "i": 348,
          "loss": 69.13541412353516
         },
         {
          "i": 349,
          "loss": 69.13536071777344
         },
         {
          "i": 350,
          "loss": 69.13538360595703
         },
         {
          "i": 351,
          "loss": 69.13532257080078
         },
         {
          "i": 352,
          "loss": 69.13533782958984
         },
         {
          "i": 353,
          "loss": 69.13528442382812
         },
         {
          "i": 354,
          "loss": 69.13526916503906
         },
         {
          "i": 355,
          "loss": 69.13522338867188
         },
         {
          "i": 356,
          "loss": 69.1352310180664
         },
         {
          "i": 357,
          "loss": 69.13516998291016
         },
         {
          "i": 358,
          "loss": 69.13520050048828
         },
         {
          "i": 359,
          "loss": 69.13512420654297
         },
         {
          "i": 360,
          "loss": 69.13513946533203
         },
         {
          "i": 361,
          "loss": 69.13512420654297
         },
         {
          "i": 362,
          "loss": 69.13513946533203
         },
         {
          "i": 363,
          "loss": 69.13510131835938
         },
         {
          "i": 364,
          "loss": 69.1351089477539
         },
         {
          "i": 365,
          "loss": 69.1351089477539
         },
         {
          "i": 366,
          "loss": 69.13505554199219
         },
         {
          "i": 367,
          "loss": 69.13507843017578
         },
         {
          "i": 368,
          "loss": 69.1350326538086
         },
         {
          "i": 369,
          "loss": 69.13504028320312
         },
         {
          "i": 370,
          "loss": 69.13499450683594
         },
         {
          "i": 371,
          "loss": 69.1349105834961
         },
         {
          "i": 372,
          "loss": 69.13497161865234
         },
         {
          "i": 373,
          "loss": 69.13489532470703
         },
         {
          "i": 374,
          "loss": 69.13495635986328
         },
         {
          "i": 375,
          "loss": 69.13491821289062
         },
         {
          "i": 376,
          "loss": 69.13493347167969
         },
         {
          "i": 377,
          "loss": 69.13490295410156
         },
         {
          "i": 378,
          "loss": 69.13487243652344
         },
         {
          "i": 379,
          "loss": 69.13483428955078
         },
         {
          "i": 380,
          "loss": 69.13484191894531
         },
         {
          "i": 381,
          "loss": 69.13484954833984
         },
         {
          "i": 382,
          "loss": 69.1348648071289
         },
         {
          "i": 383,
          "loss": 69.1348648071289
         },
         {
          "i": 384,
          "loss": 69.13480377197266
         },
         {
          "i": 385,
          "loss": 69.13485717773438
         },
         {
          "i": 386,
          "loss": 69.13482666015625
         },
         {
          "i": 387,
          "loss": 69.13485717773438
         },
         {
          "i": 388,
          "loss": 69.1347885131836
         },
         {
          "i": 389,
          "loss": 69.13479614257812
         },
         {
          "i": 390,
          "loss": 69.13477325439453
         },
         {
          "i": 391,
          "loss": 69.13481140136719
         },
         {
          "i": 392,
          "loss": 69.13480377197266
         },
         {
          "i": 393,
          "loss": 69.13482666015625
         },
         {
          "i": 394,
          "loss": 69.13481140136719
         },
         {
          "i": 395,
          "loss": 69.13475799560547
         },
         {
          "i": 396,
          "loss": 69.13480377197266
         },
         {
          "i": 397,
          "loss": 69.13473510742188
         },
         {
          "i": 398,
          "loss": 69.13481140136719
         },
         {
          "i": 399,
          "loss": 69.1347427368164
         },
         {
          "i": 400,
          "loss": 69.13477325439453
         },
         {
          "i": 401,
          "loss": 69.13477325439453
         },
         {
          "i": 402,
          "loss": 69.1347885131836
         },
         {
          "i": 403,
          "loss": 69.13473510742188
         },
         {
          "i": 404,
          "loss": 69.1347427368164
         },
         {
          "i": 405,
          "loss": 69.13468933105469
         },
         {
          "i": 406,
          "loss": 69.13470458984375
         },
         {
          "i": 407,
          "loss": 69.13468933105469
         },
         {
          "i": 408,
          "loss": 69.13469696044922
         },
         {
          "i": 409,
          "loss": 69.13468933105469
         },
         {
          "i": 410,
          "loss": 69.13467407226562
         },
         {
          "i": 411,
          "loss": 69.1346664428711
         },
         {
          "i": 412,
          "loss": 69.13467407226562
         },
         {
          "i": 413,
          "loss": 69.13470458984375
         },
         {
          "i": 414,
          "loss": 69.13473510742188
         },
         {
          "i": 415,
          "loss": 69.13465881347656
         },
         {
          "i": 416,
          "loss": 69.1346664428711
         },
         {
          "i": 417,
          "loss": 69.13465881347656
         },
         {
          "i": 418,
          "loss": 69.13465118408203
         },
         {
          "i": 419,
          "loss": 69.13465881347656
         },
         {
          "i": 420,
          "loss": 69.13465118408203
         },
         {
          "i": 421,
          "loss": 69.13465118408203
         },
         {
          "i": 422,
          "loss": 69.13467407226562
         },
         {
          "i": 423,
          "loss": 69.13467407226562
         },
         {
          "i": 424,
          "loss": 69.13465881347656
         },
         {
          "i": 425,
          "loss": 69.1346664428711
         },
         {
          "i": 426,
          "loss": 69.13465118408203
         },
         {
          "i": 427,
          "loss": 69.13465118408203
         },
         {
          "i": 428,
          "loss": 69.13467407226562
         },
         {
          "i": 429,
          "loss": 69.13465881347656
         },
         {
          "i": 430,
          "loss": 69.13463592529297
         },
         {
          "i": 431,
          "loss": 69.1346206665039
         },
         {
          "i": 432,
          "loss": 69.13465118408203
         },
         {
          "i": 433,
          "loss": 69.13463592529297
         },
         {
          "i": 434,
          "loss": 69.13465881347656
         },
         {
          "i": 435,
          "loss": 69.1346664428711
         },
         {
          "i": 436,
          "loss": 69.13465881347656
         },
         {
          "i": 437,
          "loss": 69.13460540771484
         },
         {
          "i": 438,
          "loss": 69.13465881347656
         },
         {
          "i": 439,
          "loss": 69.13459777832031
         },
         {
          "i": 440,
          "loss": 69.1346206665039
         },
         {
          "i": 441,
          "loss": 69.13468933105469
         },
         {
          "i": 442,
          "loss": 69.13467407226562
         },
         {
          "i": 443,
          "loss": 69.1346435546875
         },
         {
          "i": 444,
          "loss": 69.13467407226562
         },
         {
          "i": 445,
          "loss": 69.1346435546875
         },
         {
          "i": 446,
          "loss": 69.13465881347656
         },
         {
          "i": 447,
          "loss": 69.13467407226562
         },
         {
          "i": 448,
          "loss": 69.13467407226562
         },
         {
          "i": 449,
          "loss": 69.13463592529297
         },
         {
          "i": 450,
          "loss": 69.13467407226562
         },
         {
          "i": 451,
          "loss": 69.13465881347656
         },
         {
          "i": 452,
          "loss": 69.13465118408203
         },
         {
          "i": 453,
          "loss": 69.13465118408203
         },
         {
          "i": 454,
          "loss": 69.13463592529297
         },
         {
          "i": 455,
          "loss": 69.13465118408203
         },
         {
          "i": 456,
          "loss": 69.1346206665039
         },
         {
          "i": 457,
          "loss": 69.13465118408203
         },
         {
          "i": 458,
          "loss": 69.13465881347656
         },
         {
          "i": 459,
          "loss": 69.1346664428711
         },
         {
          "i": 460,
          "loss": 69.1346664428711
         },
         {
          "i": 461,
          "loss": 69.13463592529297
         },
         {
          "i": 462,
          "loss": 69.13462829589844
         },
         {
          "i": 463,
          "loss": 69.13463592529297
         },
         {
          "i": 464,
          "loss": 69.13462829589844
         },
         {
          "i": 465,
          "loss": 69.13461303710938
         },
         {
          "i": 466,
          "loss": 69.13465118408203
         },
         {
          "i": 467,
          "loss": 69.13463592529297
         },
         {
          "i": 468,
          "loss": 69.1346435546875
         },
         {
          "i": 469,
          "loss": 69.1346664428711
         },
         {
          "i": 470,
          "loss": 69.13468933105469
         },
         {
          "i": 471,
          "loss": 69.13467407226562
         },
         {
          "i": 472,
          "loss": 69.1346664428711
         },
         {
          "i": 473,
          "loss": 69.1346206665039
         },
         {
          "i": 474,
          "loss": 69.13465881347656
         },
         {
          "i": 475,
          "loss": 69.1346435546875
         },
         {
          "i": 476,
          "loss": 69.13463592529297
         },
         {
          "i": 477,
          "loss": 69.13467407226562
         },
         {
          "i": 478,
          "loss": 69.13467407226562
         },
         {
          "i": 479,
          "loss": 69.13467407226562
         },
         {
          "i": 480,
          "loss": 69.13465118408203
         },
         {
          "i": 481,
          "loss": 69.1346435546875
         },
         {
          "i": 482,
          "loss": 69.13462829589844
         },
         {
          "i": 483,
          "loss": 69.13463592529297
         },
         {
          "i": 484,
          "loss": 69.13465881347656
         },
         {
          "i": 485,
          "loss": 69.13463592529297
         },
         {
          "i": 486,
          "loss": 69.13465118408203
         },
         {
          "i": 487,
          "loss": 69.13465881347656
         },
         {
          "i": 488,
          "loss": 69.13465118408203
         },
         {
          "i": 489,
          "loss": 69.1346664428711
         },
         {
          "i": 490,
          "loss": 69.13463592529297
         },
         {
          "i": 491,
          "loss": 69.13465118408203
         },
         {
          "i": 492,
          "loss": 69.13465118408203
         },
         {
          "i": 493,
          "loss": 69.1346206665039
         },
         {
          "i": 494,
          "loss": 69.13463592529297
         },
         {
          "i": 495,
          "loss": 69.13465118408203
         },
         {
          "i": 496,
          "loss": 69.13465881347656
         },
         {
          "i": 497,
          "loss": 69.13458251953125
         },
         {
          "i": 498,
          "loss": 69.13465881347656
         },
         {
          "i": 499,
          "loss": 69.13460540771484
         }
        ]
       },
       "encoding": {
        "x": {
         "field": "i",
         "type": "quantitative"
        },
        "y": {
         "field": "loss",
         "type": "quantitative"
        }
       },
       "height": 100,
       "mark": "line"
      },
      "image/png": "[encoded data removed]",
      "text/plain": [
       "<VegaLite 3 object>\n",
       "\n",
       "If you see this message, it means the renderer has not been properly enabled\n",
       "for the frontend that you are using. For more information, see\n",
       "https://altair-viz.github.io/user_guide/troubleshooting.html\n"
      ]
     },
     "execution_count": 25,
     "metadata": {},
     "output_type": "execute_result"
    }
   ],
   "source": [
    "loss_df = pd.DataFrame({'i':range(500), 'loss':loss_record})\n",
    "alt.Chart(loss_df, height=100).mark_line().encode(x='i', y='loss')"
   ]
  },
  {
   "cell_type": "markdown",
   "metadata": {},
   "source": [
    "Although the code looks pretty much the same, save the changes to the model and loss, the computation that pytorch needs to do to compute the gradient of $L$ with respect to each $\\beta$ is now much more involved, which you too will see if you try to compute it by hand:"
   ]
  },
  {
   "cell_type": "code",
   "execution_count": 26,
   "metadata": {},
   "outputs": [
    {
     "data": {
      "image/svg+xml": [
       "<?xml version=\"1.0\" encoding=\"UTF-8\" standalone=\"no\"?>\n",
       "<!DOCTYPE svg PUBLIC \"-//W3C//DTD SVG 1.1//EN\"\n",
       " \"http://www.w3.org/Graphics/SVG/1.1/DTD/svg11.dtd\">\n",
       "<!-- Generated by graphviz version 2.43.0 (0)\n",
       " -->\n",
       "<!-- Title: %3 Pages: 1 -->\n",
       "<svg width=\"209pt\" height=\"824pt\"\n",
       " viewBox=\"0.00 0.00 208.98 824.00\" xmlns=\"http://www.w3.org/2000/svg\" xmlns:xlink=\"http://www.w3.org/1999/xlink\">\n",
       "<g id=\"graph0\" class=\"graph\" transform=\"scale(1 1) rotate(0) translate(4 820)\">\n",
       "<title>%3</title>\n",
       "<polygon fill=\"white\" stroke=\"transparent\" points=\"-4,4 -4,-820 204.98,-820 204.98,4 -4,4\"/>\n",
       "<!-- 4975403792 -->\n",
       "<g id=\"node1\" class=\"node\">\n",
       "<title>4975403792</title>\n",
       "<polygon fill=\"#caff70\" stroke=\"black\" points=\"143.47,-20 55.18,-20 55.18,0 143.47,0 143.47,-20\"/>\n",
       "<text text-anchor=\"middle\" x=\"99.32\" y=\"-6.4\" font-family=\"Times,serif\" font-size=\"12.00\">DivBackward0</text>\n",
       "</g>\n",
       "<!-- 4930752464 -->\n",
       "<g id=\"node2\" class=\"node\">\n",
       "<title>4930752464</title>\n",
       "<polygon fill=\"lightgrey\" stroke=\"black\" points=\"141.46,-76 57.19,-76 57.19,-56 141.46,-56 141.46,-76\"/>\n",
       "<text text-anchor=\"middle\" x=\"99.32\" y=\"-62.4\" font-family=\"Times,serif\" font-size=\"12.00\">NegBackward</text>\n",
       "</g>\n",
       "<!-- 4930752464&#45;&gt;4975403792 -->\n",
       "<g id=\"edge1\" class=\"edge\">\n",
       "<title>4930752464&#45;&gt;4975403792</title>\n",
       "<path fill=\"none\" stroke=\"black\" d=\"M99.32,-55.59C99.32,-48.7 99.32,-39.1 99.32,-30.57\"/>\n",
       "<polygon fill=\"black\" stroke=\"black\" points=\"102.82,-30.3 99.32,-20.3 95.82,-30.3 102.82,-30.3\"/>\n",
       "</g>\n",
       "<!-- 4971723984 -->\n",
       "<g id=\"node3\" class=\"node\">\n",
       "<title>4971723984</title>\n",
       "<polygon fill=\"lightgrey\" stroke=\"black\" points=\"145.48,-132 53.17,-132 53.17,-112 145.48,-112 145.48,-132\"/>\n",
       "<text text-anchor=\"middle\" x=\"99.32\" y=\"-118.4\" font-family=\"Times,serif\" font-size=\"12.00\">SumBackward0</text>\n",
       "</g>\n",
       "<!-- 4971723984&#45;&gt;4930752464 -->\n",
       "<g id=\"edge2\" class=\"edge\">\n",
       "<title>4971723984&#45;&gt;4930752464</title>\n",
       "<path fill=\"none\" stroke=\"black\" d=\"M99.32,-111.59C99.32,-104.7 99.32,-95.1 99.32,-86.57\"/>\n",
       "<polygon fill=\"black\" stroke=\"black\" points=\"102.82,-86.3 99.32,-76.3 95.82,-86.3 102.82,-86.3\"/>\n",
       "</g>\n",
       "<!-- 4928352656 -->\n",
       "<g id=\"node4\" class=\"node\">\n",
       "<title>4928352656</title>\n",
       "<polygon fill=\"lightgrey\" stroke=\"black\" points=\"145.14,-188 53.51,-188 53.51,-168 145.14,-168 145.14,-188\"/>\n",
       "<text text-anchor=\"middle\" x=\"99.32\" y=\"-174.4\" font-family=\"Times,serif\" font-size=\"12.00\">AddBackward0</text>\n",
       "</g>\n",
       "<!-- 4928352656&#45;&gt;4971723984 -->\n",
       "<g id=\"edge3\" class=\"edge\">\n",
       "<title>4928352656&#45;&gt;4971723984</title>\n",
       "<path fill=\"none\" stroke=\"black\" d=\"M99.32,-167.59C99.32,-160.7 99.32,-151.1 99.32,-142.57\"/>\n",
       "<polygon fill=\"black\" stroke=\"black\" points=\"102.82,-142.3 99.32,-132.3 95.82,-142.3 102.82,-142.3\"/>\n",
       "</g>\n",
       "<!-- 4928301776 -->\n",
       "<g id=\"node5\" class=\"node\">\n",
       "<title>4928301776</title>\n",
       "<polygon fill=\"lightgrey\" stroke=\"black\" points=\"90.47,-244 0.18,-244 0.18,-224 90.47,-224 90.47,-244\"/>\n",
       "<text text-anchor=\"middle\" x=\"45.32\" y=\"-230.4\" font-family=\"Times,serif\" font-size=\"12.00\">MulBackward0</text>\n",
       "</g>\n",
       "<!-- 4928301776&#45;&gt;4928352656 -->\n",
       "<g id=\"edge4\" class=\"edge\">\n",
       "<title>4928301776&#45;&gt;4928352656</title>\n",
       "<path fill=\"none\" stroke=\"black\" d=\"M54.73,-223.59C62.47,-215.85 73.64,-204.69 82.86,-195.47\"/>\n",
       "<polygon fill=\"black\" stroke=\"black\" points=\"85.43,-197.84 90.03,-188.3 80.48,-192.89 85.43,-197.84\"/>\n",
       "</g>\n",
       "<!-- 4928300368 -->\n",
       "<g id=\"node6\" class=\"node\">\n",
       "<title>4928300368</title>\n",
       "<polygon fill=\"lightgrey\" stroke=\"black\" points=\"87.3,-356 3.35,-356 3.35,-336 87.3,-336 87.3,-356\"/>\n",
       "<text text-anchor=\"middle\" x=\"45.32\" y=\"-342.4\" font-family=\"Times,serif\" font-size=\"12.00\">LogBackward</text>\n",
       "</g>\n",
       "<!-- 4928300368&#45;&gt;4928301776 -->\n",
       "<g id=\"edge5\" class=\"edge\">\n",
       "<title>4928300368&#45;&gt;4928301776</title>\n",
       "<path fill=\"none\" stroke=\"black\" d=\"M45.32,-336C45.32,-318.19 45.32,-278.12 45.32,-254.15\"/>\n",
       "<polygon fill=\"black\" stroke=\"black\" points=\"48.82,-254.13 45.32,-244.13 41.82,-254.13 48.82,-254.13\"/>\n",
       "</g>\n",
       "<!-- 4928301328 -->\n",
       "<g id=\"node7\" class=\"node\">\n",
       "<title>4928301328</title>\n",
       "<polygon fill=\"lightgrey\" stroke=\"black\" points=\"143.47,-412 55.18,-412 55.18,-392 143.47,-392 143.47,-412\"/>\n",
       "<text text-anchor=\"middle\" x=\"99.32\" y=\"-398.4\" font-family=\"Times,serif\" font-size=\"12.00\">DivBackward0</text>\n",
       "</g>\n",
       "<!-- 4928301328&#45;&gt;4928300368 -->\n",
       "<g id=\"edge6\" class=\"edge\">\n",
       "<title>4928301328&#45;&gt;4928300368</title>\n",
       "<path fill=\"none\" stroke=\"black\" d=\"M89.92,-391.59C82.17,-383.85 71.01,-372.69 61.79,-363.47\"/>\n",
       "<polygon fill=\"black\" stroke=\"black\" points=\"64.17,-360.89 54.62,-356.3 59.22,-365.84 64.17,-360.89\"/>\n",
       "</g>\n",
       "<!-- 4928301968 -->\n",
       "<g id=\"node20\" class=\"node\">\n",
       "<title>4928301968</title>\n",
       "<polygon fill=\"lightgrey\" stroke=\"black\" points=\"201.14,-356 105.51,-356 105.51,-336 201.14,-336 201.14,-356\"/>\n",
       "<text text-anchor=\"middle\" x=\"153.32\" y=\"-342.4\" font-family=\"Times,serif\" font-size=\"12.00\">RsubBackward1</text>\n",
       "</g>\n",
       "<!-- 4928301328&#45;&gt;4928301968 -->\n",
       "<g id=\"edge22\" class=\"edge\">\n",
       "<title>4928301328&#45;&gt;4928301968</title>\n",
       "<path fill=\"none\" stroke=\"black\" d=\"M108.73,-391.59C116.47,-383.85 127.64,-372.69 136.86,-363.47\"/>\n",
       "<polygon fill=\"black\" stroke=\"black\" points=\"139.43,-365.84 144.03,-356.3 134.48,-360.89 139.43,-365.84\"/>\n",
       "</g>\n",
       "<!-- 4928301264 -->\n",
       "<g id=\"node8\" class=\"node\">\n",
       "<title>4928301264</title>\n",
       "<polygon fill=\"lightgrey\" stroke=\"black\" points=\"88.3,-468 4.35,-468 4.35,-448 88.3,-448 88.3,-468\"/>\n",
       "<text text-anchor=\"middle\" x=\"46.32\" y=\"-454.4\" font-family=\"Times,serif\" font-size=\"12.00\">ExpBackward</text>\n",
       "</g>\n",
       "<!-- 4928301264&#45;&gt;4928301328 -->\n",
       "<g id=\"edge7\" class=\"edge\">\n",
       "<title>4928301264&#45;&gt;4928301328</title>\n",
       "<path fill=\"none\" stroke=\"black\" d=\"M55.56,-447.59C63.16,-439.85 74.11,-428.69 83.16,-419.47\"/>\n",
       "<polygon fill=\"black\" stroke=\"black\" points=\"85.69,-421.89 90.2,-412.3 80.7,-416.98 85.69,-421.89\"/>\n",
       "</g>\n",
       "<!-- 4928302992 -->\n",
       "<g id=\"node9\" class=\"node\">\n",
       "<title>4928302992</title>\n",
       "<polygon fill=\"lightgrey\" stroke=\"black\" points=\"90.46,-580 6.19,-580 6.19,-560 90.46,-560 90.46,-580\"/>\n",
       "<text text-anchor=\"middle\" x=\"48.32\" y=\"-566.4\" font-family=\"Times,serif\" font-size=\"12.00\">NegBackward</text>\n",
       "</g>\n",
       "<!-- 4928302992&#45;&gt;4928301264 -->\n",
       "<g id=\"edge8\" class=\"edge\">\n",
       "<title>4928302992&#45;&gt;4928301264</title>\n",
       "<path fill=\"none\" stroke=\"black\" d=\"M48.16,-560C47.84,-542.19 47.11,-502.12 46.67,-478.15\"/>\n",
       "<polygon fill=\"black\" stroke=\"black\" points=\"50.17,-478.06 46.49,-468.13 43.17,-478.19 50.17,-478.06\"/>\n",
       "</g>\n",
       "<!-- 4928160784 -->\n",
       "<g id=\"node10\" class=\"node\">\n",
       "<title>4928160784</title>\n",
       "<polygon fill=\"lightgrey\" stroke=\"black\" points=\"145.14,-636 53.51,-636 53.51,-616 145.14,-616 145.14,-636\"/>\n",
       "<text text-anchor=\"middle\" x=\"99.32\" y=\"-622.4\" font-family=\"Times,serif\" font-size=\"12.00\">AddBackward0</text>\n",
       "</g>\n",
       "<!-- 4928160784&#45;&gt;4928302992 -->\n",
       "<g id=\"edge9\" class=\"edge\">\n",
       "<title>4928160784&#45;&gt;4928302992</title>\n",
       "<path fill=\"none\" stroke=\"black\" d=\"M90.44,-615.59C83.2,-607.93 72.8,-596.91 64.14,-587.75\"/>\n",
       "<polygon fill=\"black\" stroke=\"black\" points=\"66.52,-585.17 57.11,-580.3 61.43,-589.97 66.52,-585.17\"/>\n",
       "</g>\n",
       "<!-- 4928409808 -->\n",
       "<g id=\"node17\" class=\"node\">\n",
       "<title>4928409808</title>\n",
       "<polygon fill=\"lightgrey\" stroke=\"black\" points=\"193.46,-580 109.19,-580 109.19,-560 193.46,-560 193.46,-580\"/>\n",
       "<text text-anchor=\"middle\" x=\"151.32\" y=\"-566.4\" font-family=\"Times,serif\" font-size=\"12.00\">NegBackward</text>\n",
       "</g>\n",
       "<!-- 4928160784&#45;&gt;4928409808 -->\n",
       "<g id=\"edge18\" class=\"edge\">\n",
       "<title>4928160784&#45;&gt;4928409808</title>\n",
       "<path fill=\"none\" stroke=\"black\" d=\"M108.38,-615.59C115.76,-607.93 126.37,-596.91 135.2,-587.75\"/>\n",
       "<polygon fill=\"black\" stroke=\"black\" points=\"137.95,-589.93 142.37,-580.3 132.91,-585.07 137.95,-589.93\"/>\n",
       "</g>\n",
       "<!-- 4928410064 -->\n",
       "<g id=\"node11\" class=\"node\">\n",
       "<title>4928410064</title>\n",
       "<polygon fill=\"lightgrey\" stroke=\"black\" points=\"88.47,-692 4.18,-692 4.18,-672 88.47,-672 88.47,-692\"/>\n",
       "<text text-anchor=\"middle\" x=\"46.32\" y=\"-678.4\" font-family=\"Times,serif\" font-size=\"12.00\">MmBackward</text>\n",
       "</g>\n",
       "<!-- 4928410064&#45;&gt;4928160784 -->\n",
       "<g id=\"edge10\" class=\"edge\">\n",
       "<title>4928410064&#45;&gt;4928160784</title>\n",
       "<path fill=\"none\" stroke=\"black\" d=\"M55.56,-671.59C63.16,-663.85 74.11,-652.69 83.16,-643.47\"/>\n",
       "<polygon fill=\"black\" stroke=\"black\" points=\"85.69,-645.89 90.2,-636.3 80.7,-640.98 85.69,-645.89\"/>\n",
       "</g>\n",
       "<!-- 4928410128 -->\n",
       "<g id=\"node12\" class=\"node\">\n",
       "<title>4928410128</title>\n",
       "<polygon fill=\"lightgrey\" stroke=\"black\" points=\"107.46,-748 19.18,-748 19.18,-728 107.46,-728 107.46,-748\"/>\n",
       "<text text-anchor=\"middle\" x=\"63.32\" y=\"-734.4\" font-family=\"Times,serif\" font-size=\"12.00\">SliceBackward</text>\n",
       "</g>\n",
       "<!-- 4928410128&#45;&gt;4928410064 -->\n",
       "<g id=\"edge11\" class=\"edge\">\n",
       "<title>4928410128&#45;&gt;4928410064</title>\n",
       "<path fill=\"none\" stroke=\"black\" d=\"M60.36,-727.59C58.14,-720.55 55.04,-710.67 52.31,-702\"/>\n",
       "<polygon fill=\"black\" stroke=\"black\" points=\"55.59,-700.79 49.25,-692.3 48.92,-702.89 55.59,-700.79\"/>\n",
       "</g>\n",
       "<!-- 4928410256 -->\n",
       "<g id=\"node13\" class=\"node\">\n",
       "<title>4928410256</title>\n",
       "<polygon fill=\"lightblue\" stroke=\"black\" points=\"126.32,-816 72.32,-816 72.32,-784 126.32,-784 126.32,-816\"/>\n",
       "<text text-anchor=\"middle\" x=\"99.32\" y=\"-802.4\" font-family=\"Times,serif\" font-size=\"12.00\">β</text>\n",
       "<text text-anchor=\"middle\" x=\"99.32\" y=\"-790.4\" font-family=\"Times,serif\" font-size=\"12.00\"> (6, 1)</text>\n",
       "</g>\n",
       "<!-- 4928410256&#45;&gt;4928410128 -->\n",
       "<g id=\"edge12\" class=\"edge\">\n",
       "<title>4928410256&#45;&gt;4928410128</title>\n",
       "<path fill=\"none\" stroke=\"black\" d=\"M90.24,-783.86C85.34,-775.69 79.25,-765.55 74.11,-756.98\"/>\n",
       "<polygon fill=\"black\" stroke=\"black\" points=\"76.96,-754.93 68.82,-748.15 70.96,-758.53 76.96,-754.93\"/>\n",
       "</g>\n",
       "<!-- 4928409936 -->\n",
       "<g id=\"node14\" class=\"node\">\n",
       "<title>4928409936</title>\n",
       "<polygon fill=\"lightgrey\" stroke=\"black\" points=\"200.29,-692 106.36,-692 106.36,-672 200.29,-672 200.29,-692\"/>\n",
       "<text text-anchor=\"middle\" x=\"153.32\" y=\"-678.4\" font-family=\"Times,serif\" font-size=\"12.00\">SelectBackward</text>\n",
       "</g>\n",
       "<!-- 4928410256&#45;&gt;4928409936 -->\n",
       "<g id=\"edge14\" class=\"edge\">\n",
       "<title>4928410256&#45;&gt;4928409936</title>\n",
       "<path fill=\"none\" stroke=\"black\" d=\"M106.38,-783.84C116.25,-762.64 134.15,-724.2 144.76,-701.39\"/>\n",
       "<polygon fill=\"black\" stroke=\"black\" points=\"148.02,-702.68 149.07,-692.14 141.68,-699.72 148.02,-702.68\"/>\n",
       "</g>\n",
       "<!-- 4928409936&#45;&gt;4928160784 -->\n",
       "<g id=\"edge13\" class=\"edge\">\n",
       "<title>4928409936&#45;&gt;4928160784</title>\n",
       "<path fill=\"none\" stroke=\"black\" d=\"M143.92,-671.59C136.17,-663.85 125.01,-652.69 115.79,-643.47\"/>\n",
       "<polygon fill=\"black\" stroke=\"black\" points=\"118.17,-640.89 108.62,-636.3 113.22,-645.84 118.17,-640.89\"/>\n",
       "</g>\n",
       "<!-- 4928303056 -->\n",
       "<g id=\"node15\" class=\"node\">\n",
       "<title>4928303056</title>\n",
       "<polygon fill=\"lightgrey\" stroke=\"black\" points=\"198.14,-468 106.51,-468 106.51,-448 198.14,-448 198.14,-468\"/>\n",
       "<text text-anchor=\"middle\" x=\"152.32\" y=\"-454.4\" font-family=\"Times,serif\" font-size=\"12.00\">AddBackward0</text>\n",
       "</g>\n",
       "<!-- 4928303056&#45;&gt;4928301328 -->\n",
       "<g id=\"edge15\" class=\"edge\">\n",
       "<title>4928303056&#45;&gt;4928301328</title>\n",
       "<path fill=\"none\" stroke=\"black\" d=\"M143.09,-447.59C135.49,-439.85 124.54,-428.69 115.49,-419.47\"/>\n",
       "<polygon fill=\"black\" stroke=\"black\" points=\"117.95,-416.98 108.45,-412.3 112.96,-421.89 117.95,-416.98\"/>\n",
       "</g>\n",
       "<!-- 4928299856 -->\n",
       "<g id=\"node16\" class=\"node\">\n",
       "<title>4928299856</title>\n",
       "<polygon fill=\"lightgrey\" stroke=\"black\" points=\"193.3,-524 109.35,-524 109.35,-504 193.3,-504 193.3,-524\"/>\n",
       "<text text-anchor=\"middle\" x=\"151.32\" y=\"-510.4\" font-family=\"Times,serif\" font-size=\"12.00\">ExpBackward</text>\n",
       "</g>\n",
       "<!-- 4928299856&#45;&gt;4928303056 -->\n",
       "<g id=\"edge16\" class=\"edge\">\n",
       "<title>4928299856&#45;&gt;4928303056</title>\n",
       "<path fill=\"none\" stroke=\"black\" d=\"M151.5,-503.59C151.63,-496.7 151.8,-487.1 151.96,-478.57\"/>\n",
       "<polygon fill=\"black\" stroke=\"black\" points=\"155.47,-478.36 152.15,-468.3 148.47,-478.23 155.47,-478.36\"/>\n",
       "</g>\n",
       "<!-- 4928409808&#45;&gt;4928299856 -->\n",
       "<g id=\"edge17\" class=\"edge\">\n",
       "<title>4928409808&#45;&gt;4928299856</title>\n",
       "<path fill=\"none\" stroke=\"black\" d=\"M151.32,-559.59C151.32,-552.7 151.32,-543.1 151.32,-534.57\"/>\n",
       "<polygon fill=\"black\" stroke=\"black\" points=\"154.82,-534.3 151.32,-524.3 147.82,-534.3 154.82,-534.3\"/>\n",
       "</g>\n",
       "<!-- 4928302736 -->\n",
       "<g id=\"node18\" class=\"node\">\n",
       "<title>4928302736</title>\n",
       "<polygon fill=\"lightgrey\" stroke=\"black\" points=\"199.47,-244 109.18,-244 109.18,-224 199.47,-224 199.47,-244\"/>\n",
       "<text text-anchor=\"middle\" x=\"154.32\" y=\"-230.4\" font-family=\"Times,serif\" font-size=\"12.00\">MulBackward0</text>\n",
       "</g>\n",
       "<!-- 4928302736&#45;&gt;4928352656 -->\n",
       "<g id=\"edge19\" class=\"edge\">\n",
       "<title>4928302736&#45;&gt;4928352656</title>\n",
       "<path fill=\"none\" stroke=\"black\" d=\"M144.74,-223.59C136.86,-215.85 125.49,-204.69 116.1,-195.47\"/>\n",
       "<polygon fill=\"black\" stroke=\"black\" points=\"118.38,-192.81 108.79,-188.3 113.48,-197.8 118.38,-192.81\"/>\n",
       "</g>\n",
       "<!-- 4928299984 -->\n",
       "<g id=\"node19\" class=\"node\">\n",
       "<title>4928299984</title>\n",
       "<polygon fill=\"lightgrey\" stroke=\"black\" points=\"195.3,-300 111.35,-300 111.35,-280 195.3,-280 195.3,-300\"/>\n",
       "<text text-anchor=\"middle\" x=\"153.32\" y=\"-286.4\" font-family=\"Times,serif\" font-size=\"12.00\">LogBackward</text>\n",
       "</g>\n",
       "<!-- 4928299984&#45;&gt;4928302736 -->\n",
       "<g id=\"edge20\" class=\"edge\">\n",
       "<title>4928299984&#45;&gt;4928302736</title>\n",
       "<path fill=\"none\" stroke=\"black\" d=\"M153.5,-279.59C153.63,-272.7 153.8,-263.1 153.96,-254.57\"/>\n",
       "<polygon fill=\"black\" stroke=\"black\" points=\"157.47,-254.36 154.15,-244.3 150.47,-254.23 157.47,-254.36\"/>\n",
       "</g>\n",
       "<!-- 4928301968&#45;&gt;4928299984 -->\n",
       "<g id=\"edge21\" class=\"edge\">\n",
       "<title>4928301968&#45;&gt;4928299984</title>\n",
       "<path fill=\"none\" stroke=\"black\" d=\"M153.32,-335.59C153.32,-328.7 153.32,-319.1 153.32,-310.57\"/>\n",
       "<polygon fill=\"black\" stroke=\"black\" points=\"156.82,-310.3 153.32,-300.3 149.82,-310.3 156.82,-310.3\"/>\n",
       "</g>\n",
       "</g>\n",
       "</svg>\n"
      ],
      "text/plain": [
       "<graphviz.dot.Digraph at 0x1288eac50>"
      ]
     },
     "execution_count": 26,
     "metadata": {},
     "output_type": "execute_result"
    }
   ],
   "source": [
    "make_dot(L, {'β':β})"
   ]
  },
  {
   "cell_type": "markdown",
   "metadata": {},
   "source": [
    "The amazing thing is that pytorch just handles it and you don't have to."
   ]
  },
  {
   "cell_type": "markdown",
   "metadata": {},
   "source": [
    "<div class=\"alert alert-block alert-info\">\n",
    "<b>Exercise:</b> \n",
    "\n",
    "Why don't we use *accuracy* as a loss? In other words,\n",
    "    \n",
    "$$\n",
    "L(y, \\hat p) = \\sum_i\n",
    "\\begin{cases}\n",
    "1 & \\text{if}\\ y_i = 1 \\ \\text{and} \\ \\hat p_i > 0.5 \\\\\n",
    "1 & \\text{if}\\ y_i = 0 \\ \\text{and} \\ \\hat p_i \\le 0.5 \\\\\n",
    "0 & \\text{else}\n",
    "\\end{cases}\n",
    "$$\n",
    "    \n",
    "*Hint*: what is the derivative of this loss with respect to any prediction $\\hat p_i$?\n",
    "</div>"
   ]
  },
  {
   "cell_type": "markdown",
   "metadata": {},
   "source": [
    "To predict for a new observation, all we have to do is multiply by $\\beta_{1:p}$, add the intercept $\\beta_0$, and pass through $\\sigma$:"
   ]
  },
  {
   "cell_type": "code",
   "execution_count": 27,
   "metadata": {},
   "outputs": [
    {
     "data": {
      "text/plain": [
       "tensor([[0.5300],\n",
       "        [0.5298],\n",
       "        [0.5301],\n",
       "        [0.5299],\n",
       "        [0.5299],\n",
       "        [0.5299],\n",
       "        [0.5301],\n",
       "        [0.5301],\n",
       "        [0.5299],\n",
       "        [0.5298]], grad_fn=<DivBackward0>)"
      ]
     },
     "execution_count": 27,
     "metadata": {},
     "output_type": "execute_result"
    }
   ],
   "source": [
    "new_x = torch.randn(10, 5) # 10 new observations\n",
    "z = torch.matmul(new_x, β[1:]) + β[0]\n",
    "torch.exp(-z)/(1+torch.exp(-z)) # probability predictions"
   ]
  },
  {
   "cell_type": "markdown",
   "metadata": {},
   "source": [
    "### Conclusion"
   ]
  },
  {
   "cell_type": "markdown",
   "metadata": {},
   "source": [
    "We just developed a machine learning method out of these three components:\n",
    "* linear-logistic model (model)\n",
    "* log loss (loss)\n",
    "* gradient descent (search algorithm)\n",
    "\n",
    "This should make it clear to you that gradient descent is a widely-applicable strategy that will work with any loss or model, as long as you can define derivatives of the loss with respect to the model parameters. We will now go back to our linear regression example, but augment the model with more parameters and a more complex structure in order to capture nonlinear relationships. "
   ]
  },
  {
   "cell_type": "markdown",
   "metadata": {},
   "source": [
    "# Adding complexity to our linear model"
   ]
  },
  {
   "cell_type": "markdown",
   "metadata": {},
   "source": [
    "Let's go back to our regression example."
   ]
  },
  {
   "cell_type": "code",
   "execution_count": 28,
   "metadata": {},
   "outputs": [],
   "source": [
    "p = 5 \n",
    "n = 100\n",
    "\n",
    "x = torch.randn(n, p) # predictors (n observations, p features)\n",
    "y = torch.randn(n, 1) # outcomes (n observations)"
   ]
  },
  {
   "cell_type": "code",
   "execution_count": 29,
   "metadata": {},
   "outputs": [],
   "source": [
    "loss_record = [] \n",
    "β = torch.randn(p+1,1) \n",
    "β.requires_grad_() \n",
    "\n",
    "for e in range(500):\n",
    "    ŷ = torch.matmul(x, β[1:]) + β[0]\n",
    "    L = torch.sum((y-ŷ)**2)/n \n",
    "    \n",
    "    L.backward() # compute gradients \n",
    "    loss_record.append(L.item())\n",
    "    \n",
    "    with torch.no_grad(): # take the gradient descent step \n",
    "        β -= 10e-5 * β.grad\n",
    "        β.grad.zero_()"
   ]
  },
  {
   "cell_type": "markdown",
   "metadata": {},
   "source": [
    "Remember that the linear model is $\\hat y =x\\beta_{1:p} + \\beta_0$. Let's say we want to add some complexity to this model by figuring out if there are some other predictors we can build (call them $z$) that are a transformation of the predictors $x$ that are better for predicting $y$ in a linear model than $x$ is. To do that, we'll first let $z = g(xW + b)$ with $W$ being a $p \\times h$ matrix and $b$ a $1 \\times h$ matrix so each row of $z$ ends up with $h$ columns and $g$ is an element-wise ReLU function. The purpose of $W$ and $b$ is to make $h$ predictors out of our original $p$ using a linear transformation. The purpose of $g$ is to add complexity to the model.\n",
    "\n",
    "Now our final model is a linear model done on the new predictors $z$. That model is $\\hat y =z\\alpha_{1:h} + \\alpha_0$. I'm calling the coefficient vector $\\alpha$ because now this needs $h$ coefficients (plus 1 intercept) for each of the $h$ new features, whereas $\\beta$ was a $p$-length vector. So, in full, our model is now $\\hat y = g(xW+b)\\alpha_{1:h} + \\alpha_0$. We decided that $g$ should be the ReLU function, but instead of us deciding what the values of $W$ should be to create our new predictors $z$, we'll use gradient descent so that the model can build the predictors that it finds the most useful at the same time that it is using gradient descent to find the coefficients $\\alpha$ that maximize the utility of these predictors. Thus this model has $h\\times (p+1) + h+1$ total parameters (the values of $W_{ij}$, $b_j$, and $alpha_j$) to be fit, whereas our original linear model only had $p+1$ parameters.  \n",
    "\n",
    "Without the ReLU (or some nonlinear function), there is always a vector $\\beta$ such that $x\\beta_{1:p} + \\beta_0 = (xW+b)\\alpha_{1:h} + \\alpha_0$ for every $W$, $b$, and $\\alpha$. In effect, adding the transformation $W$ doesn't actually add anything to the model- we're expanding the number of parameters to fit without actually expanding the expressivity of the model because there is always a model  with fewer parameters that perfectly captures the predictions of the over-parametrized model. That is why the nonlinearity $g$ is necessary."
   ]
  },
  {
   "cell_type": "markdown",
   "metadata": {},
   "source": [
    "<div class=\"alert alert-block alert-info\">\n",
    "<b>Exercise:</b> \n",
    "\n",
    "Let's say we have\n",
    "    \n",
    "$$\n",
    "W = \n",
    "\\left[\n",
    "\\begin{array}{ccc}\n",
    "1 & 1 & 1 \\\\\n",
    "1 & 2 & 3\n",
    "\\end{array}\n",
    "\\right]    \n",
    "\\quad\n",
    "b = \n",
    "\\left[\n",
    "\\begin{array}{ccc}\n",
    "0 & 0 & 0\n",
    "\\end{array}\n",
    "\\right]\n",
    "\\quad\n",
    "\\alpha_{1:3} = \n",
    "\\left[\n",
    "\\begin{array}{c}\n",
    "1 \\\\ -1 \\\\ 0\n",
    "\\end{array}\n",
    "\\right]\n",
    "\\quad\n",
    "\\alpha_0 = 0\n",
    "$$\n",
    "    \n",
    "Find $\\beta$ so that $x\\beta_{1:2} + \\beta_0 = (xW+b)\\alpha_{1:3} + \\alpha_0$ no matter what $x$ is.\n",
    "\n",
    "</div>"
   ]
  },
  {
   "cell_type": "markdown",
   "metadata": {},
   "source": [
    "Let's dig into this, one step at a time. First we'll investigate the transformation $xW$. As we said, we're trying to build new features from our old features, so let's look at just one of these new features, $z_1$:"
   ]
  },
  {
   "cell_type": "markdown",
   "metadata": {},
   "source": [
    "$$ \n",
    "z_1 \n",
    "=\n",
    "\\left[\n",
    "\\begin{array}{c}\n",
    "z_{11} \\\\ z_{12} \\\\ \\vdots \\\\ z_{1n}\n",
    "\\end{array}\n",
    "\\right]\n",
    "=\n",
    "g\\left(\n",
    "\\left[\n",
    "\\begin{array}{c}\n",
    "x_{11} & x_{21} & \\cdots & x_{p1} \\\\\n",
    "x_{12} & x_{22} & \\cdots & x_{p2} \\\\\n",
    "\\vdots & \\vdots & \\ddots & \\vdots \\\\\n",
    "x_{1n} & x_{2n} & \\cdots & x_{pn}\n",
    "\\end{array}\n",
    "\\right]\n",
    "\\left[\n",
    "\\begin{array}{c}\n",
    "w_{11} \\\\ w_{12} \\\\ \\vdots \\\\ w_{1p}\n",
    "\\end{array}\n",
    "\\right]\n",
    "+\n",
    "b_1\n",
    "\\right)\n",
    "$$"
   ]
  },
  {
   "cell_type": "markdown",
   "metadata": {},
   "source": [
    "Or, concisely, $z_1 = g(xw_1 + b_1)$. Without $g$, this looks just like a linear model of $z_1$ based on predictors $x$ and coefficients $w_1$ with intercept $b_1$. The other transformed features will be the same: $z_j = g(xw_j + b_j)$. So one way to look at this is that we're doing $h$ \"$g$-linear\" regressions (assuming we have $W$ and $b$) and getting their predictions. The matrix equation $z = g(xW+b)$ expresses all of these \"regressions\" simultaneously."
   ]
  },
  {
   "cell_type": "code",
   "execution_count": 30,
   "metadata": {},
   "outputs": [],
   "source": [
    "from torch.nn.functional import relu as g\n",
    "h = 10\n",
    "W = torch.randn(5, h).requires_grad_()\n",
    "b = torch.randn(1, h).requires_grad_()"
   ]
  },
  {
   "cell_type": "code",
   "execution_count": 31,
   "metadata": {},
   "outputs": [
    {
     "data": {
      "text/plain": [
       "torch.Size([100, 10])"
      ]
     },
     "execution_count": 31,
     "metadata": {},
     "output_type": "execute_result"
    }
   ],
   "source": [
    "z = g(torch.matmul(x,W) + b)\n",
    "z.shape"
   ]
  },
  {
   "cell_type": "markdown",
   "metadata": {},
   "source": [
    "As you see, we're getting 100 observations of 10 \"features\". Let's look at one of them:"
   ]
  },
  {
   "cell_type": "code",
   "execution_count": 32,
   "metadata": {},
   "outputs": [
    {
     "data": {
      "text/plain": [
       "tensor([2.3253, 0.0000, 0.0000, 2.0553, 0.0000, 1.4406, 0.0000, 0.0000, 2.5893,\n",
       "        1.0620], grad_fn=<SelectBackward>)"
      ]
     },
     "execution_count": 32,
     "metadata": {},
     "output_type": "execute_result"
    }
   ],
   "source": [
    "z[0:10,1]"
   ]
  },
  {
   "cell_type": "markdown",
   "metadata": {},
   "source": [
    "We could also have done them one-at-a-time:"
   ]
  },
  {
   "cell_type": "code",
   "execution_count": 33,
   "metadata": {},
   "outputs": [],
   "source": [
    "w1 = W[:,1]\n",
    "b1 = b[:,1]\n",
    "z1 = g(torch.matmul(x,w1) + b1)"
   ]
  },
  {
   "cell_type": "code",
   "execution_count": 34,
   "metadata": {},
   "outputs": [
    {
     "data": {
      "text/plain": [
       "tensor([2.3253, 0.0000, 0.0000, 2.0553, 0.0000, 1.4406, 0.0000, 0.0000, 2.5893,\n",
       "        1.0620], grad_fn=<SliceBackward>)"
      ]
     },
     "execution_count": 34,
     "metadata": {},
     "output_type": "execute_result"
    }
   ],
   "source": [
    "z1[0:10]"
   ]
  },
  {
   "cell_type": "markdown",
   "metadata": {},
   "source": [
    "Same thing. "
   ]
  },
  {
   "cell_type": "markdown",
   "metadata": {},
   "source": [
    "The outputs of those regressions ($z$) are our new predictors in the next stage of the model, which is a single linear regression $\\hat y = z\\alpha$."
   ]
  },
  {
   "cell_type": "code",
   "execution_count": 35,
   "metadata": {},
   "outputs": [],
   "source": [
    "α = torch.randn(h+1,1).requires_grad_()\n",
    "ŷ = torch.matmul(z,α[1:]) + α[0]"
   ]
  },
  {
   "cell_type": "markdown",
   "metadata": {},
   "source": [
    "And, finally, we can compute our MSE loss:"
   ]
  },
  {
   "cell_type": "code",
   "execution_count": 36,
   "metadata": {},
   "outputs": [
    {
     "data": {
      "text/plain": [
       "tensor(15.9505, grad_fn=<DivBackward0>)"
      ]
     },
     "execution_count": 36,
     "metadata": {},
     "output_type": "execute_result"
    }
   ],
   "source": [
    "L = torch.sum((y-ŷ)**2)/n\n",
    "L"
   ]
  },
  {
   "cell_type": "markdown",
   "metadata": {},
   "source": [
    "Let's look at the compuational graph we've built:"
   ]
  },
  {
   "cell_type": "code",
   "execution_count": 37,
   "metadata": {},
   "outputs": [
    {
     "data": {
      "image/svg+xml": [
       "<?xml version=\"1.0\" encoding=\"UTF-8\" standalone=\"no\"?>\n",
       "<!DOCTYPE svg PUBLIC \"-//W3C//DTD SVG 1.1//EN\"\n",
       " \"http://www.w3.org/Graphics/SVG/1.1/DTD/svg11.dtd\">\n",
       "<!-- Generated by graphviz version 2.43.0 (0)\n",
       " -->\n",
       "<!-- Title: %3 Pages: 1 -->\n",
       "<svg width=\"321pt\" height=\"568pt\"\n",
       " viewBox=\"0.00 0.00 321.31 568.00\" xmlns=\"http://www.w3.org/2000/svg\" xmlns:xlink=\"http://www.w3.org/1999/xlink\">\n",
       "<g id=\"graph0\" class=\"graph\" transform=\"scale(1 1) rotate(0) translate(4 564)\">\n",
       "<title>%3</title>\n",
       "<polygon fill=\"white\" stroke=\"transparent\" points=\"-4,4 -4,-564 317.31,-564 317.31,4 -4,4\"/>\n",
       "<!-- 4928410896 -->\n",
       "<g id=\"node1\" class=\"node\">\n",
       "<title>4928410896</title>\n",
       "<polygon fill=\"#caff70\" stroke=\"black\" points=\"256.47,-20 168.18,-20 168.18,0 256.47,0 256.47,-20\"/>\n",
       "<text text-anchor=\"middle\" x=\"212.32\" y=\"-6.4\" font-family=\"Times,serif\" font-size=\"12.00\">DivBackward0</text>\n",
       "</g>\n",
       "<!-- 4928412752 -->\n",
       "<g id=\"node2\" class=\"node\">\n",
       "<title>4928412752</title>\n",
       "<polygon fill=\"lightgrey\" stroke=\"black\" points=\"258.48,-76 166.17,-76 166.17,-56 258.48,-56 258.48,-76\"/>\n",
       "<text text-anchor=\"middle\" x=\"212.32\" y=\"-62.4\" font-family=\"Times,serif\" font-size=\"12.00\">SumBackward0</text>\n",
       "</g>\n",
       "<!-- 4928412752&#45;&gt;4928410896 -->\n",
       "<g id=\"edge1\" class=\"edge\">\n",
       "<title>4928412752&#45;&gt;4928410896</title>\n",
       "<path fill=\"none\" stroke=\"black\" d=\"M212.32,-55.59C212.32,-48.7 212.32,-39.1 212.32,-30.57\"/>\n",
       "<polygon fill=\"black\" stroke=\"black\" points=\"215.82,-30.3 212.32,-20.3 208.82,-30.3 215.82,-30.3\"/>\n",
       "</g>\n",
       "<!-- 4928412688 -->\n",
       "<g id=\"node3\" class=\"node\">\n",
       "<title>4928412688</title>\n",
       "<polygon fill=\"lightgrey\" stroke=\"black\" points=\"258.31,-132 166.34,-132 166.34,-112 258.31,-112 258.31,-132\"/>\n",
       "<text text-anchor=\"middle\" x=\"212.32\" y=\"-118.4\" font-family=\"Times,serif\" font-size=\"12.00\">PowBackward0</text>\n",
       "</g>\n",
       "<!-- 4928412688&#45;&gt;4928412752 -->\n",
       "<g id=\"edge2\" class=\"edge\">\n",
       "<title>4928412688&#45;&gt;4928412752</title>\n",
       "<path fill=\"none\" stroke=\"black\" d=\"M212.32,-111.59C212.32,-104.7 212.32,-95.1 212.32,-86.57\"/>\n",
       "<polygon fill=\"black\" stroke=\"black\" points=\"215.82,-86.3 212.32,-76.3 208.82,-86.3 215.82,-86.3\"/>\n",
       "</g>\n",
       "<!-- 4928412240 -->\n",
       "<g id=\"node4\" class=\"node\">\n",
       "<title>4928412240</title>\n",
       "<polygon fill=\"lightgrey\" stroke=\"black\" points=\"257.14,-188 167.51,-188 167.51,-168 257.14,-168 257.14,-188\"/>\n",
       "<text text-anchor=\"middle\" x=\"212.32\" y=\"-174.4\" font-family=\"Times,serif\" font-size=\"12.00\">SubBackward0</text>\n",
       "</g>\n",
       "<!-- 4928412240&#45;&gt;4928412688 -->\n",
       "<g id=\"edge3\" class=\"edge\">\n",
       "<title>4928412240&#45;&gt;4928412688</title>\n",
       "<path fill=\"none\" stroke=\"black\" d=\"M212.32,-167.59C212.32,-160.7 212.32,-151.1 212.32,-142.57\"/>\n",
       "<polygon fill=\"black\" stroke=\"black\" points=\"215.82,-142.3 212.32,-132.3 208.82,-142.3 215.82,-142.3\"/>\n",
       "</g>\n",
       "<!-- 4928411152 -->\n",
       "<g id=\"node5\" class=\"node\">\n",
       "<title>4928411152</title>\n",
       "<polygon fill=\"lightgrey\" stroke=\"black\" points=\"258.14,-244 166.51,-244 166.51,-224 258.14,-224 258.14,-244\"/>\n",
       "<text text-anchor=\"middle\" x=\"212.32\" y=\"-230.4\" font-family=\"Times,serif\" font-size=\"12.00\">AddBackward0</text>\n",
       "</g>\n",
       "<!-- 4928411152&#45;&gt;4928412240 -->\n",
       "<g id=\"edge4\" class=\"edge\">\n",
       "<title>4928411152&#45;&gt;4928412240</title>\n",
       "<path fill=\"none\" stroke=\"black\" d=\"M212.32,-223.59C212.32,-216.7 212.32,-207.1 212.32,-198.57\"/>\n",
       "<polygon fill=\"black\" stroke=\"black\" points=\"215.82,-198.3 212.32,-188.3 208.82,-198.3 215.82,-198.3\"/>\n",
       "</g>\n",
       "<!-- 4928410192 -->\n",
       "<g id=\"node6\" class=\"node\">\n",
       "<title>4928410192</title>\n",
       "<polygon fill=\"lightgrey\" stroke=\"black\" points=\"201.47,-300 117.18,-300 117.18,-280 201.47,-280 201.47,-300\"/>\n",
       "<text text-anchor=\"middle\" x=\"159.32\" y=\"-286.4\" font-family=\"Times,serif\" font-size=\"12.00\">MmBackward</text>\n",
       "</g>\n",
       "<!-- 4928410192&#45;&gt;4928411152 -->\n",
       "<g id=\"edge5\" class=\"edge\">\n",
       "<title>4928410192&#45;&gt;4928411152</title>\n",
       "<path fill=\"none\" stroke=\"black\" d=\"M168.56,-279.59C176.16,-271.85 187.11,-260.69 196.16,-251.47\"/>\n",
       "<polygon fill=\"black\" stroke=\"black\" points=\"198.69,-253.89 203.2,-244.3 193.7,-248.98 198.69,-253.89\"/>\n",
       "</g>\n",
       "<!-- 4928410256 -->\n",
       "<g id=\"node7\" class=\"node\">\n",
       "<title>4928410256</title>\n",
       "<polygon fill=\"lightgrey\" stroke=\"black\" points=\"132.13,-356 38.52,-356 38.52,-336 132.13,-336 132.13,-356\"/>\n",
       "<text text-anchor=\"middle\" x=\"85.32\" y=\"-342.4\" font-family=\"Times,serif\" font-size=\"12.00\">ReluBackward0</text>\n",
       "</g>\n",
       "<!-- 4928410256&#45;&gt;4928410192 -->\n",
       "<g id=\"edge6\" class=\"edge\">\n",
       "<title>4928410256&#45;&gt;4928410192</title>\n",
       "<path fill=\"none\" stroke=\"black\" d=\"M97.88,-335.84C109,-327.72 125.46,-315.71 138.54,-306.16\"/>\n",
       "<polygon fill=\"black\" stroke=\"black\" points=\"140.94,-308.75 146.96,-300.03 136.82,-303.09 140.94,-308.75\"/>\n",
       "</g>\n",
       "<!-- 4928409936 -->\n",
       "<g id=\"node8\" class=\"node\">\n",
       "<title>4928409936</title>\n",
       "<polygon fill=\"lightgrey\" stroke=\"black\" points=\"131.14,-418 39.51,-418 39.51,-398 131.14,-398 131.14,-418\"/>\n",
       "<text text-anchor=\"middle\" x=\"85.32\" y=\"-404.4\" font-family=\"Times,serif\" font-size=\"12.00\">AddBackward0</text>\n",
       "</g>\n",
       "<!-- 4928409936&#45;&gt;4928410256 -->\n",
       "<g id=\"edge7\" class=\"edge\">\n",
       "<title>4928409936&#45;&gt;4928410256</title>\n",
       "<path fill=\"none\" stroke=\"black\" d=\"M85.32,-397.89C85.32,-389.52 85.32,-376.84 85.32,-366.23\"/>\n",
       "<polygon fill=\"black\" stroke=\"black\" points=\"88.82,-366.2 85.32,-356.2 81.82,-366.2 88.82,-366.2\"/>\n",
       "</g>\n",
       "<!-- 4928300112 -->\n",
       "<g id=\"node9\" class=\"node\">\n",
       "<title>4928300112</title>\n",
       "<polygon fill=\"lightgrey\" stroke=\"black\" points=\"84.47,-486 0.18,-486 0.18,-466 84.47,-466 84.47,-486\"/>\n",
       "<text text-anchor=\"middle\" x=\"42.32\" y=\"-472.4\" font-family=\"Times,serif\" font-size=\"12.00\">MmBackward</text>\n",
       "</g>\n",
       "<!-- 4928300112&#45;&gt;4928409936 -->\n",
       "<g id=\"edge8\" class=\"edge\">\n",
       "<title>4928300112&#45;&gt;4928409936</title>\n",
       "<path fill=\"none\" stroke=\"black\" d=\"M48.3,-465.82C54.85,-455.77 65.51,-439.42 73.71,-426.83\"/>\n",
       "<polygon fill=\"black\" stroke=\"black\" points=\"76.87,-428.39 79.4,-418.1 71,-424.57 76.87,-428.39\"/>\n",
       "</g>\n",
       "<!-- 4928302736 -->\n",
       "<g id=\"node10\" class=\"node\">\n",
       "<title>4928302736</title>\n",
       "<polygon fill=\"lightblue\" stroke=\"black\" points=\"69.32,-560 15.32,-560 15.32,-528 69.32,-528 69.32,-560\"/>\n",
       "<text text-anchor=\"middle\" x=\"42.32\" y=\"-546.4\" font-family=\"Times,serif\" font-size=\"12.00\">W</text>\n",
       "<text text-anchor=\"middle\" x=\"42.32\" y=\"-534.4\" font-family=\"Times,serif\" font-size=\"12.00\"> (5, 10)</text>\n",
       "</g>\n",
       "<!-- 4928302736&#45;&gt;4928300112 -->\n",
       "<g id=\"edge9\" class=\"edge\">\n",
       "<title>4928302736&#45;&gt;4928300112</title>\n",
       "<path fill=\"none\" stroke=\"black\" d=\"M42.32,-527.69C42.32,-518.4 42.32,-506.44 42.32,-496.47\"/>\n",
       "<polygon fill=\"black\" stroke=\"black\" points=\"45.82,-496.32 42.32,-486.32 38.82,-496.32 45.82,-496.32\"/>\n",
       "</g>\n",
       "<!-- 4928303056 -->\n",
       "<g id=\"node11\" class=\"node\">\n",
       "<title>4928303056</title>\n",
       "<polygon fill=\"lightblue\" stroke=\"black\" points=\"156.32,-492 102.32,-492 102.32,-460 156.32,-460 156.32,-492\"/>\n",
       "<text text-anchor=\"middle\" x=\"129.32\" y=\"-478.4\" font-family=\"Times,serif\" font-size=\"12.00\">b</text>\n",
       "<text text-anchor=\"middle\" x=\"129.32\" y=\"-466.4\" font-family=\"Times,serif\" font-size=\"12.00\"> (1, 10)</text>\n",
       "</g>\n",
       "<!-- 4928303056&#45;&gt;4928409936 -->\n",
       "<g id=\"edge10\" class=\"edge\">\n",
       "<title>4928303056&#45;&gt;4928409936</title>\n",
       "<path fill=\"none\" stroke=\"black\" d=\"M119.12,-459.69C112.59,-449.9 104.09,-437.15 97.25,-426.89\"/>\n",
       "<polygon fill=\"black\" stroke=\"black\" points=\"99.99,-424.7 91.54,-418.32 94.17,-428.58 99.99,-424.7\"/>\n",
       "</g>\n",
       "<!-- 4928410128 -->\n",
       "<g id=\"node12\" class=\"node\">\n",
       "<title>4928410128</title>\n",
       "<polygon fill=\"lightgrey\" stroke=\"black\" points=\"238.46,-356 150.18,-356 150.18,-336 238.46,-336 238.46,-356\"/>\n",
       "<text text-anchor=\"middle\" x=\"194.32\" y=\"-342.4\" font-family=\"Times,serif\" font-size=\"12.00\">SliceBackward</text>\n",
       "</g>\n",
       "<!-- 4928410128&#45;&gt;4928410192 -->\n",
       "<g id=\"edge11\" class=\"edge\">\n",
       "<title>4928410128&#45;&gt;4928410192</title>\n",
       "<path fill=\"none\" stroke=\"black\" d=\"M188.23,-335.59C183.46,-328.24 176.69,-317.8 170.9,-308.87\"/>\n",
       "<polygon fill=\"black\" stroke=\"black\" points=\"173.73,-306.79 165.35,-300.3 167.85,-310.59 173.73,-306.79\"/>\n",
       "</g>\n",
       "<!-- 4928409808 -->\n",
       "<g id=\"node13\" class=\"node\">\n",
       "<title>4928409808</title>\n",
       "<polygon fill=\"lightblue\" stroke=\"black\" points=\"257.32,-424 203.32,-424 203.32,-392 257.32,-392 257.32,-424\"/>\n",
       "<text text-anchor=\"middle\" x=\"230.32\" y=\"-410.4\" font-family=\"Times,serif\" font-size=\"12.00\">α</text>\n",
       "<text text-anchor=\"middle\" x=\"230.32\" y=\"-398.4\" font-family=\"Times,serif\" font-size=\"12.00\"> (11, 1)</text>\n",
       "</g>\n",
       "<!-- 4928409808&#45;&gt;4928410128 -->\n",
       "<g id=\"edge12\" class=\"edge\">\n",
       "<title>4928409808&#45;&gt;4928410128</title>\n",
       "<path fill=\"none\" stroke=\"black\" d=\"M221.24,-391.86C216.34,-383.69 210.25,-373.55 205.11,-364.98\"/>\n",
       "<polygon fill=\"black\" stroke=\"black\" points=\"207.96,-362.93 199.82,-356.15 201.96,-366.53 207.96,-362.93\"/>\n",
       "</g>\n",
       "<!-- 4928411344 -->\n",
       "<g id=\"node14\" class=\"node\">\n",
       "<title>4928411344</title>\n",
       "<polygon fill=\"lightgrey\" stroke=\"black\" points=\"313.29,-300 219.36,-300 219.36,-280 313.29,-280 313.29,-300\"/>\n",
       "<text text-anchor=\"middle\" x=\"266.32\" y=\"-286.4\" font-family=\"Times,serif\" font-size=\"12.00\">SelectBackward</text>\n",
       "</g>\n",
       "<!-- 4928409808&#45;&gt;4928411344 -->\n",
       "<g id=\"edge14\" class=\"edge\">\n",
       "<title>4928409808&#45;&gt;4928411344</title>\n",
       "<path fill=\"none\" stroke=\"black\" d=\"M235.53,-391.87C238.97,-381.75 243.54,-368.11 247.32,-356 252.15,-340.57 257.27,-322.96 260.98,-309.97\"/>\n",
       "<polygon fill=\"black\" stroke=\"black\" points=\"264.37,-310.87 263.73,-300.29 257.63,-308.96 264.37,-310.87\"/>\n",
       "</g>\n",
       "<!-- 4928411344&#45;&gt;4928411152 -->\n",
       "<g id=\"edge13\" class=\"edge\">\n",
       "<title>4928411344&#45;&gt;4928411152</title>\n",
       "<path fill=\"none\" stroke=\"black\" d=\"M256.92,-279.59C249.17,-271.85 238.01,-260.69 228.79,-251.47\"/>\n",
       "<polygon fill=\"black\" stroke=\"black\" points=\"231.17,-248.89 221.62,-244.3 226.22,-253.84 231.17,-248.89\"/>\n",
       "</g>\n",
       "</g>\n",
       "</svg>\n"
      ],
      "text/plain": [
       "<graphviz.dot.Digraph at 0x125c19b90>"
      ]
     },
     "execution_count": 37,
     "metadata": {},
     "output_type": "execute_result"
    }
   ],
   "source": [
    "make_dot(L, {'W':W, 'b':b, 'α':α})"
   ]
  },
  {
   "cell_type": "markdown",
   "metadata": {},
   "source": [
    "Now $L$ depends both on what $W$ is and on what $\\alpha$ is. In other words, both of these sets of coefficients are parameters of the model that we can tweak and optimize. $W$ determines what kinds of \"new predictors\" we get out $x$, while $\\alpha$ puts those new features together into the final prediction. What's amazing is that we can fit all of these parameters simultaneously using gradient descent: just update both sets of parameters using the negative gradient at each step. \n",
    "\n",
    "Furthermore, this poses no problem for pytorch:"
   ]
  },
  {
   "cell_type": "code",
   "execution_count": 38,
   "metadata": {},
   "outputs": [],
   "source": [
    "L.backward()"
   ]
  },
  {
   "cell_type": "code",
   "execution_count": 39,
   "metadata": {},
   "outputs": [
    {
     "data": {
      "text/plain": [
       "tensor([[ 0.2260],\n",
       "        [-3.1719],\n",
       "        [ 8.4330],\n",
       "        [-0.2303],\n",
       "        [ 1.9722],\n",
       "        [-4.7966],\n",
       "        [ 2.0422],\n",
       "        [ 4.1408],\n",
       "        [-4.8572],\n",
       "        [ 0.3111],\n",
       "        [-0.9229]])"
      ]
     },
     "execution_count": 39,
     "metadata": {},
     "output_type": "execute_result"
    }
   ],
   "source": [
    "α.grad"
   ]
  },
  {
   "cell_type": "code",
   "execution_count": 40,
   "metadata": {},
   "outputs": [
    {
     "data": {
      "text/plain": [
       "tensor([[ 0.8313, -1.1841,  0.1119, -2.4373,  1.2339,  0.0773, -1.0777,  1.0493,\n",
       "          0.5100,  0.4956],\n",
       "        [-0.5002,  2.1195, -0.1379,  2.7052, -0.7600, -1.9467,  1.1213, -0.4520,\n",
       "         -0.5826, -0.5007],\n",
       "        [-2.1179,  3.9519, -0.2851,  5.4326, -1.9802, -2.9406,  2.0384, -2.2682,\n",
       "         -1.0258, -0.6016],\n",
       "        [ 0.9723, -2.2106,  0.2906, -4.0483,  3.4322,  2.0677, -1.3783,  2.3136,\n",
       "          0.6455,  0.8649],\n",
       "        [-0.6100,  1.8779, -0.0246,  1.8429, -1.1485, -1.3074,  0.8374, -0.3776,\n",
       "         -0.4668, -0.6067]])"
      ]
     },
     "execution_count": 40,
     "metadata": {},
     "output_type": "execute_result"
    }
   ],
   "source": [
    "W.grad"
   ]
  },
  {
   "cell_type": "code",
   "execution_count": 41,
   "metadata": {},
   "outputs": [
    {
     "data": {
      "text/plain": [
       "tensor([[ 1.1209,  3.2627,  0.0589,  0.2727,  1.8547, -2.1095,  1.7122,  2.1621,\n",
       "         -0.1848, -0.0081]])"
      ]
     },
     "execution_count": 41,
     "metadata": {},
     "output_type": "execute_result"
    }
   ],
   "source": [
    "b.grad"
   ]
  },
  {
   "cell_type": "markdown",
   "metadata": {},
   "source": [
    "### Looping"
   ]
  },
  {
   "cell_type": "markdown",
   "metadata": {},
   "source": [
    "As before, now that we have gone through this once, we can put it all together into a loop:"
   ]
  },
  {
   "cell_type": "code",
   "execution_count": 42,
   "metadata": {},
   "outputs": [],
   "source": [
    "p = 5 \n",
    "n = 100\n",
    "\n",
    "x = torch.randn(n, p) # predictors (n observations, p features)\n",
    "y = torch.randn(n, 1) # outcomes (n observations)"
   ]
  },
  {
   "cell_type": "code",
   "execution_count": 43,
   "metadata": {},
   "outputs": [],
   "source": [
    "h = 10\n",
    "W = torch.randn(5, h).requires_grad_()\n",
    "b = torch.randn(1, h).requires_grad_()\n",
    "α = torch.randn(h+1, 1).requires_grad_()\n",
    "loss_record = []\n",
    "\n",
    "for e in range(500):\n",
    "    z = g(torch.matmul(x,W)+b)\n",
    "    ŷ = torch.matmul(z,α[1:]) + α[0]\n",
    "    L = torch.sum((y-ŷ)**2)/n\n",
    "    \n",
    "    L.backward() # compute gradients (in this case δL/δα, δL/δW)\n",
    "    loss_record.append(L.item())\n",
    "    \n",
    "    with torch.no_grad(): # take the gradient descent step \n",
    "        α -= 10e-3 * α.grad\n",
    "        α.grad.zero_()\n",
    "        W -= 10e-3 * W.grad\n",
    "        W.grad.zero_()\n",
    "        b -= 10e-3 * b.grad\n",
    "        b.grad.zero_()"
   ]
  },
  {
   "cell_type": "code",
   "execution_count": 45,
   "metadata": {},
   "outputs": [
    {
     "data": {
      "application/vnd.vegalite.v3+json": {
       "$schema": "https://vega.github.io/schema/vega-lite/v3.4.0.json",
       "config": {
        "mark": {
         "tooltip": null
        },
        "view": {
         "height": 300,
         "width": 400
        }
       },
       "data": {
        "name": "data-73ad1da45bd361e848949589571a665f"
       },
       "datasets": {
        "data-73ad1da45bd361e848949589571a665f": [
         {
          "i": 0,
          "loss": 94.58198547363281
         },
         {
          "i": 1,
          "loss": 30.007335662841797
         },
         {
          "i": 2,
          "loss": 14.959634780883789
         },
         {
          "i": 3,
          "loss": 9.150354385375977
         },
         {
          "i": 4,
          "loss": 6.400444507598877
         },
         {
          "i": 5,
          "loss": 4.907147407531738
         },
         {
          "i": 6,
          "loss": 4.015772819519043
         },
         {
          "i": 7,
          "loss": 3.427762985229492
         },
         {
          "i": 8,
          "loss": 3.0090863704681396
         },
         {
          "i": 9,
          "loss": 2.694154739379883
         },
         {
          "i": 10,
          "loss": 2.449594020843506
         },
         {
          "i": 11,
          "loss": 2.2549638748168945
         },
         {
          "i": 12,
          "loss": 2.096853256225586
         },
         {
          "i": 13,
          "loss": 1.9664896726608276
         },
         {
          "i": 14,
          "loss": 1.857743263244629
         },
         {
          "i": 15,
          "loss": 1.7664289474487305
         },
         {
          "i": 16,
          "loss": 1.6890941858291626
         },
         {
          "i": 17,
          "loss": 1.621671199798584
         },
         {
          "i": 18,
          "loss": 1.5641177892684937
         },
         {
          "i": 19,
          "loss": 1.5147085189819336
         },
         {
          "i": 20,
          "loss": 1.4721680879592896
         },
         {
          "i": 21,
          "loss": 1.4353244304656982
         },
         {
          "i": 22,
          "loss": 1.4033653736114502
         },
         {
          "i": 23,
          "loss": 1.375514268875122
         },
         {
          "i": 24,
          "loss": 1.3511252403259277
         },
         {
          "i": 25,
          "loss": 1.329696774482727
         },
         {
          "i": 26,
          "loss": 1.310815691947937
         },
         {
          "i": 27,
          "loss": 1.294034719467163
         },
         {
          "i": 28,
          "loss": 1.2791153192520142
         },
         {
          "i": 29,
          "loss": 1.2657583951950073
         },
         {
          "i": 30,
          "loss": 1.2541589736938477
         },
         {
          "i": 31,
          "loss": 1.2436232566833496
         },
         {
          "i": 32,
          "loss": 1.2340002059936523
         },
         {
          "i": 33,
          "loss": 1.225162148475647
         },
         {
          "i": 34,
          "loss": 1.2170010805130005
         },
         {
          "i": 35,
          "loss": 1.2094253301620483
         },
         {
          "i": 36,
          "loss": 1.202357292175293
         },
         {
          "i": 37,
          "loss": 1.1957305669784546
         },
         {
          "i": 38,
          "loss": 1.189489483833313
         },
         {
          "i": 39,
          "loss": 1.1835858821868896
         },
         {
          "i": 40,
          "loss": 1.1779786348342896
         },
         {
          "i": 41,
          "loss": 1.172633171081543
         },
         {
          "i": 42,
          "loss": 1.1675193309783936
         },
         {
          "i": 43,
          "loss": 1.1626111268997192
         },
         {
          "i": 44,
          "loss": 1.1578869819641113
         },
         {
          "i": 45,
          "loss": 1.1533275842666626
         },
         {
          "i": 46,
          "loss": 1.1489166021347046
         },
         {
          "i": 47,
          "loss": 1.1446510553359985
         },
         {
          "i": 48,
          "loss": 1.140509009361267
         },
         {
          "i": 49,
          "loss": 1.1365145444869995
         },
         {
          "i": 50,
          "loss": 1.13261878490448
         },
         {
          "i": 51,
          "loss": 1.1288169622421265
         },
         {
          "i": 52,
          "loss": 1.1251047849655151
         },
         {
          "i": 53,
          "loss": 1.1214767694473267
         },
         {
          "i": 54,
          "loss": 1.1179203987121582
         },
         {
          "i": 55,
          "loss": 1.1144356727600098
         },
         {
          "i": 56,
          "loss": 1.1110177040100098
         },
         {
          "i": 57,
          "loss": 1.1076624393463135
         },
         {
          "i": 58,
          "loss": 1.1043673753738403
         },
         {
          "i": 59,
          "loss": 1.1011290550231934
         },
         {
          "i": 60,
          "loss": 1.097993016242981
         },
         {
          "i": 61,
          "loss": 1.0949214696884155
         },
         {
          "i": 62,
          "loss": 1.091892957687378
         },
         {
          "i": 63,
          "loss": 1.0889204740524292
         },
         {
          "i": 64,
          "loss": 1.0859827995300293
         },
         {
          "i": 65,
          "loss": 1.0830893516540527
         },
         {
          "i": 66,
          "loss": 1.080275535583496
         },
         {
          "i": 67,
          "loss": 1.0775537490844727
         },
         {
          "i": 68,
          "loss": 1.0748738050460815
         },
         {
          "i": 69,
          "loss": 1.0722302198410034
         },
         {
          "i": 70,
          "loss": 1.0696214437484741
         },
         {
          "i": 71,
          "loss": 1.0670461654663086
         },
         {
          "i": 72,
          "loss": 1.0645016431808472
         },
         {
          "i": 73,
          "loss": 1.0619858503341675
         },
         {
          "i": 74,
          "loss": 1.0595009326934814
         },
         {
          "i": 75,
          "loss": 1.0570472478866577
         },
         {
          "i": 76,
          "loss": 1.0546252727508545
         },
         {
          "i": 77,
          "loss": 1.0522315502166748
         },
         {
          "i": 78,
          "loss": 1.049865484237671
         },
         {
          "i": 79,
          "loss": 1.0475350618362427
         },
         {
          "i": 80,
          "loss": 1.045241117477417
         },
         {
          "i": 81,
          "loss": 1.042972445487976
         },
         {
          "i": 82,
          "loss": 1.0407288074493408
         },
         {
          "i": 83,
          "loss": 1.038509726524353
         },
         {
          "i": 84,
          "loss": 1.036314606666565
         },
         {
          "i": 85,
          "loss": 1.0341428518295288
         },
         {
          "i": 86,
          "loss": 1.0319942235946655
         },
         {
          "i": 87,
          "loss": 1.0298802852630615
         },
         {
          "i": 88,
          "loss": 1.0278222560882568
         },
         {
          "i": 89,
          "loss": 1.0257850885391235
         },
         {
          "i": 90,
          "loss": 1.023768424987793
         },
         {
          "i": 91,
          "loss": 1.0217370986938477
         },
         {
          "i": 92,
          "loss": 1.0195797681808472
         },
         {
          "i": 93,
          "loss": 1.017444372177124
         },
         {
          "i": 94,
          "loss": 1.0153383016586304
         },
         {
          "i": 95,
          "loss": 1.0133354663848877
         },
         {
          "i": 96,
          "loss": 1.0112290382385254
         },
         {
          "i": 97,
          "loss": 1.0091480016708374
         },
         {
          "i": 98,
          "loss": 1.0070880651474
         },
         {
          "i": 99,
          "loss": 1.005051612854004
         },
         {
          "i": 100,
          "loss": 1.0030351877212524
         },
         {
          "i": 101,
          "loss": 1.0010433197021484
         },
         {
          "i": 102,
          "loss": 0.9990847706794739
         },
         {
          "i": 103,
          "loss": 0.9971438050270081
         },
         {
          "i": 104,
          "loss": 0.9952220320701599
         },
         {
          "i": 105,
          "loss": 0.9933213591575623
         },
         {
          "i": 106,
          "loss": 0.991437554359436
         },
         {
          "i": 107,
          "loss": 0.989572286605835
         },
         {
          "i": 108,
          "loss": 0.9877268075942993
         },
         {
          "i": 109,
          "loss": 0.9858972430229187
         },
         {
          "i": 110,
          "loss": 0.9840861558914185
         },
         {
          "i": 111,
          "loss": 0.9822927117347717
         },
         {
          "i": 112,
          "loss": 0.9805151224136353
         },
         {
          "i": 113,
          "loss": 0.9787556529045105
         },
         {
          "i": 114,
          "loss": 0.9770123362541199
         },
         {
          "i": 115,
          "loss": 0.9752845168113708
         },
         {
          "i": 116,
          "loss": 0.9735747575759888
         },
         {
          "i": 117,
          "loss": 0.9718789458274841
         },
         {
          "i": 118,
          "loss": 0.9702188372612
         },
         {
          "i": 119,
          "loss": 0.9686099290847778
         },
         {
          "i": 120,
          "loss": 0.967013955116272
         },
         {
          "i": 121,
          "loss": 0.9654337167739868
         },
         {
          "i": 122,
          "loss": 0.9639020562171936
         },
         {
          "i": 123,
          "loss": 0.9623901844024658
         },
         {
          "i": 124,
          "loss": 0.9608949422836304
         },
         {
          "i": 125,
          "loss": 0.9594119191169739
         },
         {
          "i": 126,
          "loss": 0.957943320274353
         },
         {
          "i": 127,
          "loss": 0.9564882516860962
         },
         {
          "i": 128,
          "loss": 0.9550309777259827
         },
         {
          "i": 129,
          "loss": 0.9535425305366516
         },
         {
          "i": 130,
          "loss": 0.9520647525787354
         },
         {
          "i": 131,
          "loss": 0.950602114200592
         },
         {
          "i": 132,
          "loss": 0.9491516351699829
         },
         {
          "i": 133,
          "loss": 0.9477429389953613
         },
         {
          "i": 134,
          "loss": 0.9463816285133362
         },
         {
          "i": 135,
          "loss": 0.945030152797699
         },
         {
          "i": 136,
          "loss": 0.9436925649642944
         },
         {
          "i": 137,
          "loss": 0.9423642158508301
         },
         {
          "i": 138,
          "loss": 0.9410487413406372
         },
         {
          "i": 139,
          "loss": 0.9397433400154114
         },
         {
          "i": 140,
          "loss": 0.9384491443634033
         },
         {
          "i": 141,
          "loss": 0.9371664524078369
         },
         {
          "i": 142,
          "loss": 0.9358932375907898
         },
         {
          "i": 143,
          "loss": 0.9346321821212769
         },
         {
          "i": 144,
          "loss": 0.9333792328834534
         },
         {
          "i": 145,
          "loss": 0.9321394562721252
         },
         {
          "i": 146,
          "loss": 0.9309068918228149
         },
         {
          "i": 147,
          "loss": 0.9296869039535522
         },
         {
          "i": 148,
          "loss": 0.9284746050834656
         },
         {
          "i": 149,
          "loss": 0.9272739887237549
         },
         {
          "i": 150,
          "loss": 0.9260811805725098
         },
         {
          "i": 151,
          "loss": 0.9248997569084167
         },
         {
          "i": 152,
          "loss": 0.9237260222434998
         },
         {
          "i": 153,
          "loss": 0.9225630164146423
         },
         {
          "i": 154,
          "loss": 0.9214080572128296
         },
         {
          "i": 155,
          "loss": 0.9202632308006287
         },
         {
          "i": 156,
          "loss": 0.9191336631774902
         },
         {
          "i": 157,
          "loss": 0.9180629849433899
         },
         {
          "i": 158,
          "loss": 0.9170180559158325
         },
         {
          "i": 159,
          "loss": 0.9159852862358093
         },
         {
          "i": 160,
          "loss": 0.91495680809021
         },
         {
          "i": 161,
          "loss": 0.9139382243156433
         },
         {
          "i": 162,
          "loss": 0.9129246473312378
         },
         {
          "i": 163,
          "loss": 0.9119214415550232
         },
         {
          "i": 164,
          "loss": 0.9109235405921936
         },
         {
          "i": 165,
          "loss": 0.9099352955818176
         },
         {
          "i": 166,
          "loss": 0.9089527130126953
         },
         {
          "i": 167,
          "loss": 0.9079660773277283
         },
         {
          "i": 168,
          "loss": 0.906968891620636
         },
         {
          "i": 169,
          "loss": 0.9059802889823914
         },
         {
          "i": 170,
          "loss": 0.9049988389015198
         },
         {
          "i": 171,
          "loss": 0.904025137424469
         },
         {
          "i": 172,
          "loss": 0.9030593633651733
         },
         {
          "i": 173,
          "loss": 0.902100145816803
         },
         {
          "i": 174,
          "loss": 0.9011519551277161
         },
         {
          "i": 175,
          "loss": 0.9002074599266052
         },
         {
          "i": 176,
          "loss": 0.8992719054222107
         },
         {
          "i": 177,
          "loss": 0.8983411192893982
         },
         {
          "i": 178,
          "loss": 0.897419273853302
         },
         {
          "i": 179,
          "loss": 0.8965031504631042
         },
         {
          "i": 180,
          "loss": 0.8955943584442139
         },
         {
          "i": 181,
          "loss": 0.8946927785873413
         },
         {
          "i": 182,
          "loss": 0.8937969207763672
         },
         {
          "i": 183,
          "loss": 0.8929091095924377
         },
         {
          "i": 184,
          "loss": 0.8920261263847351
         },
         {
          "i": 185,
          "loss": 0.891151487827301
         },
         {
          "i": 186,
          "loss": 0.8902818560600281
         },
         {
          "i": 187,
          "loss": 0.8894192576408386
         },
         {
          "i": 188,
          "loss": 0.8885654211044312
         },
         {
          "i": 189,
          "loss": 0.8877151608467102
         },
         {
          "i": 190,
          "loss": 0.8868720531463623
         },
         {
          "i": 191,
          "loss": 0.8860352039337158
         },
         {
          "i": 192,
          "loss": 0.8852088451385498
         },
         {
          "i": 193,
          "loss": 0.8843877911567688
         },
         {
          "i": 194,
          "loss": 0.8835723400115967
         },
         {
          "i": 195,
          "loss": 0.882763683795929
         },
         {
          "i": 196,
          "loss": 0.8819591999053955
         },
         {
          "i": 197,
          "loss": 0.8811620473861694
         },
         {
          "i": 198,
          "loss": 0.880369246006012
         },
         {
          "i": 199,
          "loss": 0.8795822262763977
         },
         {
          "i": 200,
          "loss": 0.878801703453064
         },
         {
          "i": 201,
          "loss": 0.8780266046524048
         },
         {
          "i": 202,
          "loss": 0.8772579431533813
         },
         {
          "i": 203,
          "loss": 0.8764926195144653
         },
         {
          "i": 204,
          "loss": 0.875735878944397
         },
         {
          "i": 205,
          "loss": 0.8750102519989014
         },
         {
          "i": 206,
          "loss": 0.8742883205413818
         },
         {
          "i": 207,
          "loss": 0.8735729455947876
         },
         {
          "i": 208,
          "loss": 0.872862696647644
         },
         {
          "i": 209,
          "loss": 0.8721567392349243
         },
         {
          "i": 210,
          "loss": 0.8714575171470642
         },
         {
          "i": 211,
          "loss": 0.870762050151825
         },
         {
          "i": 212,
          "loss": 0.8700714707374573
         },
         {
          "i": 213,
          "loss": 0.8693870306015015
         },
         {
          "i": 214,
          "loss": 0.8687061071395874
         },
         {
          "i": 215,
          "loss": 0.8680306077003479
         },
         {
          "i": 216,
          "loss": 0.8673602938652039
         },
         {
          "i": 217,
          "loss": 0.8666951060295105
         },
         {
          "i": 218,
          "loss": 0.8660337924957275
         },
         {
          "i": 219,
          "loss": 0.8653766512870789
         },
         {
          "i": 220,
          "loss": 0.8647235035896301
         },
         {
          "i": 221,
          "loss": 0.8640763163566589
         },
         {
          "i": 222,
          "loss": 0.8634322285652161
         },
         {
          "i": 223,
          "loss": 0.8627922534942627
         },
         {
          "i": 224,
          "loss": 0.8621582984924316
         },
         {
          "i": 225,
          "loss": 0.8615270256996155
         },
         {
          "i": 226,
          "loss": 0.8608998656272888
         },
         {
          "i": 227,
          "loss": 0.8602785468101501
         },
         {
          "i": 228,
          "loss": 0.8596596717834473
         },
         {
          "i": 229,
          "loss": 0.8590452075004578
         },
         {
          "i": 230,
          "loss": 0.858435869216919
         },
         {
          "i": 231,
          "loss": 0.8578292727470398
         },
         {
          "i": 232,
          "loss": 0.8572267889976501
         },
         {
          "i": 233,
          "loss": 0.8566294312477112
         },
         {
          "i": 234,
          "loss": 0.8560346961021423
         },
         {
          "i": 235,
          "loss": 0.8554436564445496
         },
         {
          "i": 236,
          "loss": 0.8548575043678284
         },
         {
          "i": 237,
          "loss": 0.8542745113372803
         },
         {
          "i": 238,
          "loss": 0.8536949753761292
         },
         {
          "i": 239,
          "loss": 0.8531193733215332
         },
         {
          "i": 240,
          "loss": 0.852547824382782
         },
         {
          "i": 241,
          "loss": 0.8519790768623352
         },
         {
          "i": 242,
          "loss": 0.8514142036437988
         },
         {
          "i": 243,
          "loss": 0.8508538007736206
         },
         {
          "i": 244,
          "loss": 0.8502955436706543
         },
         {
          "i": 245,
          "loss": 0.8497410416603088
         },
         {
          "i": 246,
          "loss": 0.8491905927658081
         },
         {
          "i": 247,
          "loss": 0.84864342212677
         },
         {
          "i": 248,
          "loss": 0.8480991125106812
         },
         {
          "i": 249,
          "loss": 0.8475586771965027
         },
         {
          "i": 250,
          "loss": 0.8470224738121033
         },
         {
          "i": 251,
          "loss": 0.8464881181716919
         },
         {
          "i": 252,
          "loss": 0.8459567427635193
         },
         {
          "i": 253,
          "loss": 0.845429003238678
         },
         {
          "i": 254,
          "loss": 0.8449052572250366
         },
         {
          "i": 255,
          "loss": 0.8443835973739624
         },
         {
          "i": 256,
          "loss": 0.8438652753829956
         },
         {
          "i": 257,
          "loss": 0.8433502316474915
         },
         {
          "i": 258,
          "loss": 0.8428385853767395
         },
         {
          "i": 259,
          "loss": 0.8423293828964233
         },
         {
          "i": 260,
          "loss": 0.8418232798576355
         },
         {
          "i": 261,
          "loss": 0.8413203358650208
         },
         {
          "i": 262,
          "loss": 0.840820848941803
         },
         {
          "i": 263,
          "loss": 0.8403233885765076
         },
         {
          "i": 264,
          "loss": 0.8398290872573853
         },
         {
          "i": 265,
          "loss": 0.839337944984436
         },
         {
          "i": 266,
          "loss": 0.8388499617576599
         },
         {
          "i": 267,
          "loss": 0.8383641242980957
         },
         {
          "i": 268,
          "loss": 0.8378810882568359
         },
         {
          "i": 269,
          "loss": 0.8374007344245911
         },
         {
          "i": 270,
          "loss": 0.8369243144989014
         },
         {
          "i": 271,
          "loss": 0.8364497423171997
         },
         {
          "i": 272,
          "loss": 0.8359776139259338
         },
         {
          "i": 273,
          "loss": 0.835507333278656
         },
         {
          "i": 274,
          "loss": 0.8350342512130737
         },
         {
          "i": 275,
          "loss": 0.8345630764961243
         },
         {
          "i": 276,
          "loss": 0.8340957164764404
         },
         {
          "i": 277,
          "loss": 0.833629846572876
         },
         {
          "i": 278,
          "loss": 0.8331678509712219
         },
         {
          "i": 279,
          "loss": 0.8327072858810425
         },
         {
          "i": 280,
          "loss": 0.8322503566741943
         },
         {
          "i": 281,
          "loss": 0.8317947387695312
         },
         {
          "i": 282,
          "loss": 0.8313431739807129
         },
         {
          "i": 283,
          "loss": 0.8308925032615662
         },
         {
          "i": 284,
          "loss": 0.8304460048675537
         },
         {
          "i": 285,
          "loss": 0.8300002813339233
         },
         {
          "i": 286,
          "loss": 0.8295585513114929
         },
         {
          "i": 287,
          "loss": 0.829119086265564
         },
         {
          "i": 288,
          "loss": 0.8286822438240051
         },
         {
          "i": 289,
          "loss": 0.8282462954521179
         },
         {
          "i": 290,
          "loss": 0.8278141021728516
         },
         {
          "i": 291,
          "loss": 0.8273830413818359
         },
         {
          "i": 292,
          "loss": 0.8269551992416382
         },
         {
          "i": 293,
          "loss": 0.8265290856361389
         },
         {
          "i": 294,
          "loss": 0.8261057138442993
         },
         {
          "i": 295,
          "loss": 0.8256843686103821
         },
         {
          "i": 296,
          "loss": 0.8252652883529663
         },
         {
          "i": 297,
          "loss": 0.8248485326766968
         },
         {
          "i": 298,
          "loss": 0.8244335055351257
         },
         {
          "i": 299,
          "loss": 0.8240216970443726
         },
         {
          "i": 300,
          "loss": 0.8236106038093567
         },
         {
          "i": 301,
          "loss": 0.823203444480896
         },
         {
          "i": 302,
          "loss": 0.8227965831756592
         },
         {
          "i": 303,
          "loss": 0.8223935961723328
         },
         {
          "i": 304,
          "loss": 0.8219912052154541
         },
         {
          "i": 305,
          "loss": 0.8215919733047485
         },
         {
          "i": 306,
          "loss": 0.821194052696228
         },
         {
          "i": 307,
          "loss": 0.8207986354827881
         },
         {
          "i": 308,
          "loss": 0.8204052448272705
         },
         {
          "i": 309,
          "loss": 0.8200133442878723
         },
         {
          "i": 310,
          "loss": 0.8196245431900024
         },
         {
          "i": 311,
          "loss": 0.8192362189292908
         },
         {
          "i": 312,
          "loss": 0.8188527822494507
         },
         {
          "i": 313,
          "loss": 0.8184689879417419
         },
         {
          "i": 314,
          "loss": 0.8180941939353943
         },
         {
          "i": 315,
          "loss": 0.8177571296691895
         },
         {
          "i": 316,
          "loss": 0.8174019455909729
         },
         {
          "i": 317,
          "loss": 0.8170521259307861
         },
         {
          "i": 318,
          "loss": 0.8167163729667664
         },
         {
          "i": 319,
          "loss": 0.8163617849349976
         },
         {
          "i": 320,
          "loss": 0.8160321712493896
         },
         {
          "i": 321,
          "loss": 0.8156890869140625
         },
         {
          "i": 322,
          "loss": 0.8153440952301025
         },
         {
          "i": 323,
          "loss": 0.8150135278701782
         },
         {
          "i": 324,
          "loss": 0.8146328926086426
         },
         {
          "i": 325,
          "loss": 0.8142679333686829
         },
         {
          "i": 326,
          "loss": 0.813906192779541
         },
         {
          "i": 327,
          "loss": 0.8135302066802979
         },
         {
          "i": 328,
          "loss": 0.8131816983222961
         },
         {
          "i": 329,
          "loss": 0.8128142356872559
         },
         {
          "i": 330,
          "loss": 0.8124498724937439
         },
         {
          "i": 331,
          "loss": 0.8121042847633362
         },
         {
          "i": 332,
          "loss": 0.8117376565933228
         },
         {
          "i": 333,
          "loss": 0.8113887310028076
         },
         {
          "i": 334,
          "loss": 0.8110376000404358
         },
         {
          "i": 335,
          "loss": 0.8106757998466492
         },
         {
          "i": 336,
          "loss": 0.8103429675102234
         },
         {
          "i": 337,
          "loss": 0.8099860548973083
         },
         {
          "i": 338,
          "loss": 0.8096370697021484
         },
         {
          "i": 339,
          "loss": 0.8093014359474182
         },
         {
          "i": 340,
          "loss": 0.8089444041252136
         },
         {
          "i": 341,
          "loss": 0.8085833787918091
         },
         {
          "i": 342,
          "loss": 0.8082154989242554
         },
         {
          "i": 343,
          "loss": 0.8078387975692749
         },
         {
          "i": 344,
          "loss": 0.807492733001709
         },
         {
          "i": 345,
          "loss": 0.8071199655532837
         },
         {
          "i": 346,
          "loss": 0.8067577481269836
         },
         {
          "i": 347,
          "loss": 0.806406557559967
         },
         {
          "i": 348,
          "loss": 0.8060386776924133
         },
         {
          "i": 349,
          "loss": 0.8056907653808594
         },
         {
          "i": 350,
          "loss": 0.8053342700004578
         },
         {
          "i": 351,
          "loss": 0.8049713373184204
         },
         {
          "i": 352,
          "loss": 0.8046363592147827
         },
         {
          "i": 353,
          "loss": 0.8042755722999573
         },
         {
          "i": 354,
          "loss": 0.8039262294769287
         },
         {
          "i": 355,
          "loss": 0.8035858273506165
         },
         {
          "i": 356,
          "loss": 0.8032302260398865
         },
         {
          "i": 357,
          "loss": 0.8028944134712219
         },
         {
          "i": 358,
          "loss": 0.8025487661361694
         },
         {
          "i": 359,
          "loss": 0.8021981120109558
         },
         {
          "i": 360,
          "loss": 0.8018732666969299
         },
         {
          "i": 361,
          "loss": 0.8015242218971252
         },
         {
          "i": 362,
          "loss": 0.8011871576309204
         },
         {
          "i": 363,
          "loss": 0.8008566498756409
         },
         {
          "i": 364,
          "loss": 0.8005114197731018
         },
         {
          "i": 365,
          "loss": 0.8001877665519714
         },
         {
          "i": 366,
          "loss": 0.7998523116111755
         },
         {
          "i": 367,
          "loss": 0.799513578414917
         },
         {
          "i": 368,
          "loss": 0.7991975545883179
         },
         {
          "i": 369,
          "loss": 0.7988589406013489
         },
         {
          "i": 370,
          "loss": 0.7985332608222961
         },
         {
          "i": 371,
          "loss": 0.7982124090194702
         },
         {
          "i": 372,
          "loss": 0.7978779673576355
         },
         {
          "i": 373,
          "loss": 0.7975649833679199
         },
         {
          "i": 374,
          "loss": 0.7972381114959717
         },
         {
          "i": 375,
          "loss": 0.7969111800193787
         },
         {
          "i": 376,
          "loss": 0.7966033220291138
         },
         {
          "i": 377,
          "loss": 0.7962751984596252
         },
         {
          "i": 378,
          "loss": 0.795961320400238
         },
         {
          "i": 379,
          "loss": 0.7956477403640747
         },
         {
          "i": 380,
          "loss": 0.7953227758407593
         },
         {
          "i": 381,
          "loss": 0.7950215935707092
         },
         {
          "i": 382,
          "loss": 0.7947021722793579
         },
         {
          "i": 383,
          "loss": 0.7943869829177856
         },
         {
          "i": 384,
          "loss": 0.7940859794616699
         },
         {
          "i": 385,
          "loss": 0.7937673926353455
         },
         {
          "i": 386,
          "loss": 0.7934649586677551
         },
         {
          "i": 387,
          "loss": 0.7931581139564514
         },
         {
          "i": 388,
          "loss": 0.7928425073623657
         },
         {
          "i": 389,
          "loss": 0.7925524711608887
         },
         {
          "i": 390,
          "loss": 0.7922401428222656
         },
         {
          "i": 391,
          "loss": 0.7919369339942932
         },
         {
          "i": 392,
          "loss": 0.7916418313980103
         },
         {
          "i": 393,
          "loss": 0.7913317680358887
         },
         {
          "i": 394,
          "loss": 0.7910414338111877
         },
         {
          "i": 395,
          "loss": 0.790739893913269
         },
         {
          "i": 396,
          "loss": 0.7904362678527832
         },
         {
          "i": 397,
          "loss": 0.7901518940925598
         },
         {
          "i": 398,
          "loss": 0.789847195148468
         },
         {
          "i": 399,
          "loss": 0.7895561456680298
         },
         {
          "i": 400,
          "loss": 0.7892652750015259
         },
         {
          "i": 401,
          "loss": 0.7889636754989624
         },
         {
          "i": 402,
          "loss": 0.78868567943573
         },
         {
          "i": 403,
          "loss": 0.788390040397644
         },
         {
          "i": 404,
          "loss": 0.7881009578704834
         },
         {
          "i": 405,
          "loss": 0.7878216505050659
         },
         {
          "i": 406,
          "loss": 0.7875269055366516
         },
         {
          "i": 407,
          "loss": 0.787250280380249
         },
         {
          "i": 408,
          "loss": 0.7869644165039062
         },
         {
          "i": 409,
          "loss": 0.7866755723953247
         },
         {
          "i": 410,
          "loss": 0.7864058017730713
         },
         {
          "i": 411,
          "loss": 0.7861159443855286
         },
         {
          "i": 412,
          "loss": 0.7858395576477051
         },
         {
          "i": 413,
          "loss": 0.7855625748634338
         },
         {
          "i": 414,
          "loss": 0.7852758169174194
         },
         {
          "i": 415,
          "loss": 0.7850118279457092
         },
         {
          "i": 416,
          "loss": 0.7847281694412231
         },
         {
          "i": 417,
          "loss": 0.7844521999359131
         },
         {
          "i": 418,
          "loss": 0.784187376499176
         },
         {
          "i": 419,
          "loss": 0.7839173078536987
         },
         {
          "i": 420,
          "loss": 0.7836692929267883
         },
         {
          "i": 421,
          "loss": 0.7834091186523438
         },
         {
          "i": 422,
          "loss": 0.7831496596336365
         },
         {
          "i": 423,
          "loss": 0.7829043865203857
         },
         {
          "i": 424,
          "loss": 0.7826418876647949
         },
         {
          "i": 425,
          "loss": 0.7823944687843323
         },
         {
          "i": 426,
          "loss": 0.7821418642997742
         },
         {
          "i": 427,
          "loss": 0.7818834185600281
         },
         {
          "i": 428,
          "loss": 0.7816458344459534
         },
         {
          "i": 429,
          "loss": 0.7813878655433655
         },
         {
          "i": 430,
          "loss": 0.7811416387557983
         },
         {
          "i": 431,
          "loss": 0.7808957099914551
         },
         {
          "i": 432,
          "loss": 0.7806395888328552
         },
         {
          "i": 433,
          "loss": 0.7804056406021118
         },
         {
          "i": 434,
          "loss": 0.7801522612571716
         },
         {
          "i": 435,
          "loss": 0.7799112796783447
         },
         {
          "i": 436,
          "loss": 0.7796761393547058
         },
         {
          "i": 437,
          "loss": 0.7794239521026611
         },
         {
          "i": 438,
          "loss": 0.7791916131973267
         },
         {
          "i": 439,
          "loss": 0.7789439558982849
         },
         {
          "i": 440,
          "loss": 0.7787013053894043
         },
         {
          "i": 441,
          "loss": 0.7784750461578369
         },
         {
          "i": 442,
          "loss": 0.778226912021637
         },
         {
          "i": 443,
          "loss": 0.7779966592788696
         },
         {
          "i": 444,
          "loss": 0.7777538895606995
         },
         {
          "i": 445,
          "loss": 0.7775136828422546
         },
         {
          "i": 446,
          "loss": 0.7772899866104126
         },
         {
          "i": 447,
          "loss": 0.7770479321479797
         },
         {
          "i": 448,
          "loss": 0.7768200039863586
         },
         {
          "i": 449,
          "loss": 0.776583194732666
         },
         {
          "i": 450,
          "loss": 0.7763464450836182
         },
         {
          "i": 451,
          "loss": 0.7761255502700806
         },
         {
          "i": 452,
          "loss": 0.7758884429931641
         },
         {
          "i": 453,
          "loss": 0.7756635546684265
         },
         {
          "i": 454,
          "loss": 0.7754331231117249
         },
         {
          "i": 455,
          "loss": 0.7752082347869873
         },
         {
          "i": 456,
          "loss": 0.7750004529953003
         },
         {
          "i": 457,
          "loss": 0.7747761607170105
         },
         {
          "i": 458,
          "loss": 0.7745667099952698
         },
         {
          "i": 459,
          "loss": 0.7743475437164307
         },
         {
          "i": 460,
          "loss": 0.7741293907165527
         },
         {
          "i": 461,
          "loss": 0.7739295363426208
         },
         {
          "i": 462,
          "loss": 0.7737095355987549
         },
         {
          "i": 463,
          "loss": 0.7735040783882141
         },
         {
          "i": 464,
          "loss": 0.7732878923416138
         },
         {
          "i": 465,
          "loss": 0.7730739116668701
         },
         {
          "i": 466,
          "loss": 0.7728784680366516
         },
         {
          "i": 467,
          "loss": 0.7726591229438782
         },
         {
          "i": 468,
          "loss": 0.772457480430603
         },
         {
          "i": 469,
          "loss": 0.7722434997558594
         },
         {
          "i": 470,
          "loss": 0.7720374464988708
         },
         {
          "i": 471,
          "loss": 0.7718402743339539
         },
         {
          "i": 472,
          "loss": 0.7716241478919983
         },
         {
          "i": 473,
          "loss": 0.7714266180992126
         },
         {
          "i": 474,
          "loss": 0.7712143063545227
         },
         {
          "i": 475,
          "loss": 0.7710168361663818
         },
         {
          "i": 476,
          "loss": 0.7708170413970947
         },
         {
          "i": 477,
          "loss": 0.7706037759780884
         },
         {
          "i": 478,
          "loss": 0.7704102993011475
         },
         {
          "i": 479,
          "loss": 0.7702025771141052
         },
         {
          "i": 480,
          "loss": 0.7700082659721375
         },
         {
          "i": 481,
          "loss": 0.7698068022727966
         },
         {
          "i": 482,
          "loss": 0.7695940136909485
         },
         {
          "i": 483,
          "loss": 0.7693983316421509
         },
         {
          "i": 484,
          "loss": 0.7691967487335205
         },
         {
          "i": 485,
          "loss": 0.7689906358718872
         },
         {
          "i": 486,
          "loss": 0.7687946557998657
         },
         {
          "i": 487,
          "loss": 0.768584668636322
         },
         {
          "i": 488,
          "loss": 0.7683870196342468
         },
         {
          "i": 489,
          "loss": 0.7681943774223328
         },
         {
          "i": 490,
          "loss": 0.7679858207702637
         },
         {
          "i": 491,
          "loss": 0.767789900302887
         },
         {
          "i": 492,
          "loss": 0.7675880193710327
         },
         {
          "i": 493,
          "loss": 0.767391562461853
         },
         {
          "i": 494,
          "loss": 0.767201840877533
         },
         {
          "i": 495,
          "loss": 0.7669970989227295
         },
         {
          "i": 496,
          "loss": 0.7667949795722961
         },
         {
          "i": 497,
          "loss": 0.7666105031967163
         },
         {
          "i": 498,
          "loss": 0.7664105892181396
         },
         {
          "i": 499,
          "loss": 0.7662143111228943
         }
        ]
       },
       "encoding": {
        "x": {
         "field": "i",
         "type": "quantitative"
        },
        "y": {
         "field": "loss",
         "type": "quantitative"
        }
       },
       "height": 100,
       "mark": "line"
      },
      "image/png": "[encoded data removed]",
      "text/plain": [
       "<VegaLite 3 object>\n",
       "\n",
       "If you see this message, it means the renderer has not been properly enabled\n",
       "for the frontend that you are using. For more information, see\n",
       "https://altair-viz.github.io/user_guide/troubleshooting.html\n"
      ]
     },
     "execution_count": 45,
     "metadata": {},
     "output_type": "execute_result"
    }
   ],
   "source": [
    "loss_df = pd.DataFrame({'i':range(500), 'loss':loss_record})\n",
    "alt.Chart(loss_df, height=100).mark_line().encode(x='i', y='loss')"
   ]
  },
  {
   "cell_type": "markdown",
   "metadata": {},
   "source": [
    "And here are our predictions for a new $x$:"
   ]
  },
  {
   "cell_type": "code",
   "execution_count": 46,
   "metadata": {},
   "outputs": [
    {
     "data": {
      "text/plain": [
       "tensor([[-0.1980],\n",
       "        [ 0.1613],\n",
       "        [ 0.1508],\n",
       "        [-0.2933],\n",
       "        [ 0.0587],\n",
       "        [ 0.4354],\n",
       "        [ 0.0224],\n",
       "        [ 0.4167],\n",
       "        [-0.4802],\n",
       "        [ 0.0614]], grad_fn=<AddBackward0>)"
      ]
     },
     "execution_count": 46,
     "metadata": {},
     "output_type": "execute_result"
    }
   ],
   "source": [
    "new_x = torch.randn(10, 5) # 10 new observations\n",
    "z = g(torch.matmul(new_x,W)+b)\n",
    "torch.matmul(z,α[1:])+α[0]"
   ]
  },
  {
   "cell_type": "markdown",
   "metadata": {},
   "source": [
    "<div class=\"alert alert-block alert-info\">\n",
    "<b>Exercise:</b> \n",
    "\n",
    "Apply this strategy to our logistic regression to make a more complex **classification** model. In other words, implement the machine learning algorithm with these characteristics:\n",
    "* Model: $\\hat p_i = \\sigma(g(x_i W+b))\\alpha_{1:h} + \\alpha_0)$, with $\\sigma$, $g$, $W$, $b$, and $\\alpha$ as previously described\n",
    "* Loss: log-loss\n",
    "* Search Algorithm: gradient descent\n",
    "</div>"
   ]
  },
  {
   "cell_type": "markdown",
   "metadata": {},
   "source": [
    "### Conclusion"
   ]
  },
  {
   "cell_type": "markdown",
   "metadata": {},
   "source": [
    "We just developed a machine learning method out of these three components:\n",
    "* \"linear-relu\" $\\times$ 10 + linear model (model)\n",
    "* MSE loss (loss)\n",
    "* gradient descent (search algorithm)\n",
    "\n",
    "This is a neural network. The 10 \"new predictors\" are together a _hidden layer_ (hidden because we don't see them at the end of the day, just the output $\\hat y$) and each of them individually is called a _hidden unit_. The function $g$ is called an _activation function_, so in total what we've built is a neural network with a single size-10 hidden layer and a ReLU activation function. We then fit that model using gradient descent and an MSE loss."
   ]
  },
  {
   "cell_type": "markdown",
   "metadata": {},
   "source": [
    "## How does this help?"
   ]
  },
  {
   "cell_type": "markdown",
   "metadata": {},
   "source": [
    "While we could define ever-more complex interactions of parameters and data, it turns out that simply stacking linear regressions with nonlinear activation functions on top of each other (e.g. \"linear-relu\" regressions) gets us enough complexity to model practically any relationship we want. Let's have a look at an example where $y = x^2$ in reality:"
   ]
  },
  {
   "cell_type": "code",
   "execution_count": 47,
   "metadata": {},
   "outputs": [],
   "source": [
    "p = 1\n",
    "n = 100\n",
    "\n",
    "x = torch.randn(n, p) # predictors (n observations, p features)\n",
    "y = (x[:,0]**2).unsqueeze(dim=1) # outcomes (n observations)"
   ]
  },
  {
   "cell_type": "code",
   "execution_count": 48,
   "metadata": {},
   "outputs": [
    {
     "data": {
      "application/vnd.vegalite.v3+json": {
       "$schema": "https://vega.github.io/schema/vega-lite/v3.4.0.json",
       "config": {
        "mark": {
         "tooltip": null
        },
        "view": {
         "height": 300,
         "width": 400
        }
       },
       "data": {
        "name": "data-a8653e0c444efed82986dc79d448f6c0"
       },
       "datasets": {
        "data-a8653e0c444efed82986dc79d448f6c0": [
         {
          "x1": -0.21044759452342987,
          "y": 0.044288188219070435
         },
         {
          "x1": -0.6604733467102051,
          "y": 0.436225026845932
         },
         {
          "x1": 0.8716042637825012,
          "y": 0.75969398021698
         },
         {
          "x1": -1.7523144483566284,
          "y": 3.070605993270874
         },
         {
          "x1": -0.8665099143981934,
          "y": 0.7508394122123718
         },
         {
          "x1": -0.5512767434120178,
          "y": 0.30390605330467224
         },
         {
          "x1": -0.10737483203411102,
          "y": 0.011529354378581047
         },
         {
          "x1": -0.400863915681839,
          "y": 0.16069187223911285
         },
         {
          "x1": -0.29436373710632324,
          "y": 0.08665000647306442
         },
         {
          "x1": 1.343360185623169,
          "y": 1.8046165704727173
         },
         {
          "x1": 0.8282321691513062,
          "y": 0.6859685182571411
         },
         {
          "x1": -0.1615026295185089,
          "y": 0.026083098724484444
         },
         {
          "x1": 1.4111882448196411,
          "y": 1.9914522171020508
         },
         {
          "x1": -1.073236346244812,
          "y": 1.1518362760543823
         },
         {
          "x1": 0.5100848078727722,
          "y": 0.2601865231990814
         },
         {
          "x1": -0.8726041913032532,
          "y": 0.7614380717277527
         },
         {
          "x1": -1.1918479204177856,
          "y": 1.420501470565796
         },
         {
          "x1": 1.7876886129379272,
          "y": 3.1958305835723877
         },
         {
          "x1": 0.08728577196598053,
          "y": 0.007618805859237909
         },
         {
          "x1": -1.7302792072296143,
          "y": 2.993866205215454
         },
         {
          "x1": 1.25747811794281,
          "y": 1.5812512636184692
         },
         {
          "x1": 0.38858428597450256,
          "y": 0.15099774301052094
         },
         {
          "x1": -0.047662217170000076,
          "y": 0.002271686913445592
         },
         {
          "x1": 1.358357310295105,
          "y": 1.8451346158981323
         },
         {
          "x1": 0.14193095266819,
          "y": 0.020144395530223846
         },
         {
          "x1": 1.4028066396713257,
          "y": 1.9678664207458496
         },
         {
          "x1": 1.1711505651474,
          "y": 1.3715935945510864
         },
         {
          "x1": 0.08994642645120621,
          "y": 0.008090360090136528
         },
         {
          "x1": -0.09079627692699432,
          "y": 0.008243964053690434
         },
         {
          "x1": -0.3054927587509155,
          "y": 0.09332582354545593
         },
         {
          "x1": -0.3891339898109436,
          "y": 0.15142525732517242
         },
         {
          "x1": 0.39224809408187866,
          "y": 0.15385857224464417
         },
         {
          "x1": -0.9921566843986511,
          "y": 0.9843748807907104
         },
         {
          "x1": 0.2673608958721161,
          "y": 0.0714818462729454
         },
         {
          "x1": -0.7316256165504456,
          "y": 0.5352760553359985
         },
         {
          "x1": -0.45698708295822144,
          "y": 0.20883719623088837
         },
         {
          "x1": 0.6343969106674194,
          "y": 0.40245944261550903
         },
         {
          "x1": -1.690049648284912,
          "y": 2.8562679290771484
         },
         {
          "x1": 1.0443217754364014,
          "y": 1.09060800075531
         },
         {
          "x1": 0.05444309115409851,
          "y": 0.0029640502762049437
         },
         {
          "x1": 0.03205037862062454,
          "y": 0.0010272267973050475
         },
         {
          "x1": -0.6575558185577393,
          "y": 0.43237966299057007
         },
         {
          "x1": 0.20803049206733704,
          "y": 0.04327668622136116
         },
         {
          "x1": -0.2391589879989624,
          "y": 0.057197023183107376
         },
         {
          "x1": 0.06740854680538177,
          "y": 0.004543912131339312
         },
         {
          "x1": -0.8231052756309509,
          "y": 0.6775022745132446
         },
         {
          "x1": -0.43921300768852234,
          "y": 0.19290806353092194
         },
         {
          "x1": 1.0508776903152466,
          "y": 1.1043438911437988
         },
         {
          "x1": -2.1738815307617188,
          "y": 4.7257609367370605
         },
         {
          "x1": -0.23070865869522095,
          "y": 0.05322648584842682
         },
         {
          "x1": -0.5818177461624146,
          "y": 0.3385118842124939
         },
         {
          "x1": 0.5139430165290833,
          "y": 0.2641374170780182
         },
         {
          "x1": 0.49028947949409485,
          "y": 0.24038377404212952
         },
         {
          "x1": -1.1138015985488892,
          "y": 1.2405539751052856
         },
         {
          "x1": 0.12339023500680923,
          "y": 0.015225149691104889
         },
         {
          "x1": 2.173647403717041,
          "y": 4.724742889404297
         },
         {
          "x1": 0.11898857355117798,
          "y": 0.014158280566334724
         },
         {
          "x1": 1.0466665029525757,
          "y": 1.095510721206665
         },
         {
          "x1": -1.946780800819397,
          "y": 3.7899553775787354
         },
         {
          "x1": 0.40191012620925903,
          "y": 0.1615317463874817
         },
         {
          "x1": -1.6342791318893433,
          "y": 2.670868396759033
         },
         {
          "x1": 1.5164802074432373,
          "y": 2.2997121810913086
         },
         {
          "x1": -0.029035750776529312,
          "y": 0.0008430748130194843
         },
         {
          "x1": -1.1237037181854248,
          "y": 1.2627100944519043
         },
         {
          "x1": -1.160097599029541,
          "y": 1.3458263874053955
         },
         {
          "x1": -1.1003212928771973,
          "y": 1.2107069492340088
         },
         {
          "x1": 1.8463060855865479,
          "y": 3.408846139907837
         },
         {
          "x1": -1.0422722101211548,
          "y": 1.0863313674926758
         },
         {
          "x1": -1.144771695137024,
          "y": 1.310502290725708
         },
         {
          "x1": 1.0619876384735107,
          "y": 1.1278177499771118
         },
         {
          "x1": 1.7964468002319336,
          "y": 3.2272210121154785
         },
         {
          "x1": -1.6481693983078003,
          "y": 2.7164623737335205
         },
         {
          "x1": 0.526267945766449,
          "y": 0.2769579589366913
         },
         {
          "x1": 0.11293739080429077,
          "y": 0.012754853814840317
         },
         {
          "x1": -0.32976317405700684,
          "y": 0.10874374955892563
         },
         {
          "x1": -1.1838622093200684,
          "y": 1.4015297889709473
         },
         {
          "x1": -1.0334559679031372,
          "y": 1.0680311918258667
         },
         {
          "x1": -1.444472074508667,
          "y": 2.0864996910095215
         },
         {
          "x1": 0.721885621547699,
          "y": 0.5211188793182373
         },
         {
          "x1": 0.7912628650665283,
          "y": 0.6260969042778015
         },
         {
          "x1": -0.5104517340660095,
          "y": 0.2605609595775604
         },
         {
          "x1": -0.1222904697060585,
          "y": 0.01495495904237032
         },
         {
          "x1": -1.0066747665405273,
          "y": 1.0133941173553467
         },
         {
          "x1": 0.6246020197868347,
          "y": 0.39012768864631653
         },
         {
          "x1": -1.106722354888916,
          "y": 1.2248343229293823
         },
         {
          "x1": -0.7013996839523315,
          "y": 0.4919615089893341
         },
         {
          "x1": 1.1268812417984009,
          "y": 1.2698613405227661
         },
         {
          "x1": 0.31357699632644653,
          "y": 0.0983305349946022
         },
         {
          "x1": -1.401705026626587,
          "y": 1.9647769927978516
         },
         {
          "x1": -0.5690528750419617,
          "y": 0.32382118701934814
         },
         {
          "x1": -0.804800271987915,
          "y": 0.6477034687995911
         },
         {
          "x1": 0.5765618085861206,
          "y": 0.33242350816726685
         },
         {
          "x1": 2.1572165489196777,
          "y": 4.65358304977417
         },
         {
          "x1": -0.40914252400398254,
          "y": 0.167397603392601
         },
         {
          "x1": -0.8148020505905151,
          "y": 0.6639024019241333
         },
         {
          "x1": -0.2723713517189026,
          "y": 0.07418615370988846
         },
         {
          "x1": -0.7064719796180725,
          "y": 0.4991026520729065
         },
         {
          "x1": 1.0492830276489258,
          "y": 1.1009948253631592
         },
         {
          "x1": 0.005054289475083351,
          "y": 2.554584170866292e-05
         },
         {
          "x1": 0.2229662388563156,
          "y": 0.049713943153619766
         }
        ]
       },
       "encoding": {
        "x": {
         "field": "x1",
         "type": "quantitative"
        },
        "y": {
         "field": "y",
         "type": "quantitative"
        }
       },
       "mark": "point"
      },
      "image/png": "[encoded data removed]",
      "text/plain": [
       "<VegaLite 3 object>\n",
       "\n",
       "If you see this message, it means the renderer has not been properly enabled\n",
       "for the frontend that you are using. For more information, see\n",
       "https://altair-viz.github.io/user_guide/troubleshooting.html\n"
      ]
     },
     "execution_count": 48,
     "metadata": {},
     "output_type": "execute_result"
    }
   ],
   "source": [
    "data = pd.DataFrame({'y':y[:,0], 'x1':x[:,0]})\n",
    "alt.Chart(data).mark_point().encode(x='x1', y='y')"
   ]
  },
  {
   "cell_type": "markdown",
   "metadata": {},
   "source": [
    "If we fit a linear model, we don't do very well:"
   ]
  },
  {
   "cell_type": "code",
   "execution_count": 49,
   "metadata": {},
   "outputs": [],
   "source": [
    "loss_record = [] \n",
    "β = torch.randn(p+1,1).requires_grad_()\n",
    "b = torch.randn(1).requires_grad_()\n",
    "\n",
    "for e in range(500):\n",
    "    ŷ = torch.matmul(x, β[1:]) + β[0] # ŷ = xβ + b(calculate predictions)\n",
    "    L = torch.sum((y-ŷ)**2)/n # L = Σ(yᵢ-ŷᵢ)² (use predictions to calculate loss)\n",
    "    \n",
    "    L.backward() # compute gradients (in this case δL/δβ, δL/δW)\n",
    "    loss_record.append(L.item())\n",
    "\n",
    "    with torch.no_grad(): # take the gradient descent step \n",
    "        β -= 10e-2 * β.grad\n",
    "        β.grad.zero_()"
   ]
  },
  {
   "cell_type": "markdown",
   "metadata": {},
   "source": [
    "The loss does go down, but overall it's still really high:"
   ]
  },
  {
   "cell_type": "code",
   "execution_count": 51,
   "metadata": {},
   "outputs": [
    {
     "data": {
      "application/vnd.vegalite.v3+json": {
       "$schema": "https://vega.github.io/schema/vega-lite/v3.4.0.json",
       "config": {
        "mark": {
         "tooltip": null
        },
        "view": {
         "height": 300,
         "width": 400
        }
       },
       "data": {
        "name": "data-ebcedc3a750416a409ae57db691856d5"
       },
       "datasets": {
        "data-ebcedc3a750416a409ae57db691856d5": [
         {
          "i": 0,
          "loss": 5.750225067138672
         },
         {
          "i": 1,
          "loss": 4.252367973327637
         },
         {
          "i": 2,
          "loss": 3.2590441703796387
         },
         {
          "i": 3,
          "loss": 2.5995235443115234
         },
         {
          "i": 4,
          "loss": 2.1611390113830566
         },
         {
          "i": 5,
          "loss": 1.8694329261779785
         },
         {
          "i": 6,
          "loss": 1.675132393836975
         },
         {
          "i": 7,
          "loss": 1.5455888509750366
         },
         {
          "i": 8,
          "loss": 1.4591424465179443
         },
         {
          "i": 9,
          "loss": 1.4014074802398682
         },
         {
          "i": 10,
          "loss": 1.3628169298171997
         },
         {
          "i": 11,
          "loss": 1.3370040655136108
         },
         {
          "i": 12,
          "loss": 1.3197259902954102
         },
         {
          "i": 13,
          "loss": 1.308153510093689
         },
         {
          "i": 14,
          "loss": 1.300397515296936
         },
         {
          "i": 15,
          "loss": 1.2951966524124146
         },
         {
          "i": 16,
          "loss": 1.2917075157165527
         },
         {
          "i": 17,
          "loss": 1.289365291595459
         },
         {
          "i": 18,
          "loss": 1.2877925634384155
         },
         {
          "i": 19,
          "loss": 1.2867356538772583
         },
         {
          "i": 20,
          "loss": 1.2860255241394043
         },
         {
          "i": 21,
          "loss": 1.2855479717254639
         },
         {
          "i": 22,
          "loss": 1.2852270603179932
         },
         {
          "i": 23,
          "loss": 1.2850109338760376
         },
         {
          "i": 24,
          "loss": 1.2848657369613647
         },
         {
          "i": 25,
          "loss": 1.284767746925354
         },
         {
          "i": 26,
          "loss": 1.2847018241882324
         },
         {
          "i": 27,
          "loss": 1.284657597541809
         },
         {
          "i": 28,
          "loss": 1.2846276760101318
         },
         {
          "i": 29,
          "loss": 1.2846075296401978
         },
         {
          "i": 30,
          "loss": 1.2845940589904785
         },
         {
          "i": 31,
          "loss": 1.284584641456604
         },
         {
          "i": 32,
          "loss": 1.284578561782837
         },
         {
          "i": 33,
          "loss": 1.2845746278762817
         },
         {
          "i": 34,
          "loss": 1.284571647644043
         },
         {
          "i": 35,
          "loss": 1.2845698595046997
         },
         {
          "i": 36,
          "loss": 1.284568428993225
         },
         {
          "i": 37,
          "loss": 1.2845677137374878
         },
         {
          "i": 38,
          "loss": 1.28456711769104
         },
         {
          "i": 39,
          "loss": 1.2845667600631714
         },
         {
          "i": 40,
          "loss": 1.2845665216445923
         },
         {
          "i": 41,
          "loss": 1.2845661640167236
         },
         {
          "i": 42,
          "loss": 1.284566044807434
         },
         {
          "i": 43,
          "loss": 1.2845661640167236
         },
         {
          "i": 44,
          "loss": 1.284566044807434
         },
         {
          "i": 45,
          "loss": 1.284566044807434
         },
         {
          "i": 46,
          "loss": 1.2845659255981445
         },
         {
          "i": 47,
          "loss": 1.284566044807434
         },
         {
          "i": 48,
          "loss": 1.284566044807434
         },
         {
          "i": 49,
          "loss": 1.2845659255981445
         },
         {
          "i": 50,
          "loss": 1.2845659255981445
         },
         {
          "i": 51,
          "loss": 1.2845659255981445
         },
         {
          "i": 52,
          "loss": 1.2845659255981445
         },
         {
          "i": 53,
          "loss": 1.284566044807434
         },
         {
          "i": 54,
          "loss": 1.2845659255981445
         },
         {
          "i": 55,
          "loss": 1.2845659255981445
         },
         {
          "i": 56,
          "loss": 1.2845659255981445
         },
         {
          "i": 57,
          "loss": 1.284566044807434
         },
         {
          "i": 58,
          "loss": 1.2845659255981445
         },
         {
          "i": 59,
          "loss": 1.2845659255981445
         },
         {
          "i": 60,
          "loss": 1.2845659255981445
         },
         {
          "i": 61,
          "loss": 1.2845659255981445
         },
         {
          "i": 62,
          "loss": 1.2845659255981445
         },
         {
          "i": 63,
          "loss": 1.2845659255981445
         },
         {
          "i": 64,
          "loss": 1.2845659255981445
         },
         {
          "i": 65,
          "loss": 1.2845659255981445
         },
         {
          "i": 66,
          "loss": 1.2845659255981445
         },
         {
          "i": 67,
          "loss": 1.2845659255981445
         },
         {
          "i": 68,
          "loss": 1.2845659255981445
         },
         {
          "i": 69,
          "loss": 1.2845659255981445
         },
         {
          "i": 70,
          "loss": 1.2845659255981445
         },
         {
          "i": 71,
          "loss": 1.284566044807434
         },
         {
          "i": 72,
          "loss": 1.284566044807434
         },
         {
          "i": 73,
          "loss": 1.2845659255981445
         },
         {
          "i": 74,
          "loss": 1.2845659255981445
         },
         {
          "i": 75,
          "loss": 1.2845659255981445
         },
         {
          "i": 76,
          "loss": 1.284566044807434
         },
         {
          "i": 77,
          "loss": 1.2845656871795654
         },
         {
          "i": 78,
          "loss": 1.2845659255981445
         },
         {
          "i": 79,
          "loss": 1.2845659255981445
         },
         {
          "i": 80,
          "loss": 1.2845659255981445
         },
         {
          "i": 81,
          "loss": 1.284566044807434
         },
         {
          "i": 82,
          "loss": 1.2845659255981445
         },
         {
          "i": 83,
          "loss": 1.2845659255981445
         },
         {
          "i": 84,
          "loss": 1.2845659255981445
         },
         {
          "i": 85,
          "loss": 1.2845659255981445
         },
         {
          "i": 86,
          "loss": 1.2845659255981445
         },
         {
          "i": 87,
          "loss": 1.2845659255981445
         },
         {
          "i": 88,
          "loss": 1.2845659255981445
         },
         {
          "i": 89,
          "loss": 1.2845659255981445
         },
         {
          "i": 90,
          "loss": 1.2845659255981445
         },
         {
          "i": 91,
          "loss": 1.2845659255981445
         },
         {
          "i": 92,
          "loss": 1.2845659255981445
         },
         {
          "i": 93,
          "loss": 1.2845659255981445
         },
         {
          "i": 94,
          "loss": 1.2845659255981445
         },
         {
          "i": 95,
          "loss": 1.2845659255981445
         },
         {
          "i": 96,
          "loss": 1.2845659255981445
         },
         {
          "i": 97,
          "loss": 1.2845659255981445
         },
         {
          "i": 98,
          "loss": 1.2845659255981445
         },
         {
          "i": 99,
          "loss": 1.2845659255981445
         },
         {
          "i": 100,
          "loss": 1.2845659255981445
         },
         {
          "i": 101,
          "loss": 1.2845659255981445
         },
         {
          "i": 102,
          "loss": 1.2845659255981445
         },
         {
          "i": 103,
          "loss": 1.2845659255981445
         },
         {
          "i": 104,
          "loss": 1.2845659255981445
         },
         {
          "i": 105,
          "loss": 1.2845659255981445
         },
         {
          "i": 106,
          "loss": 1.2845659255981445
         },
         {
          "i": 107,
          "loss": 1.2845659255981445
         },
         {
          "i": 108,
          "loss": 1.2845659255981445
         },
         {
          "i": 109,
          "loss": 1.2845659255981445
         },
         {
          "i": 110,
          "loss": 1.2845659255981445
         },
         {
          "i": 111,
          "loss": 1.2845659255981445
         },
         {
          "i": 112,
          "loss": 1.2845659255981445
         },
         {
          "i": 113,
          "loss": 1.2845659255981445
         },
         {
          "i": 114,
          "loss": 1.2845659255981445
         },
         {
          "i": 115,
          "loss": 1.2845659255981445
         },
         {
          "i": 116,
          "loss": 1.2845659255981445
         },
         {
          "i": 117,
          "loss": 1.2845659255981445
         },
         {
          "i": 118,
          "loss": 1.2845659255981445
         },
         {
          "i": 119,
          "loss": 1.2845659255981445
         },
         {
          "i": 120,
          "loss": 1.2845659255981445
         },
         {
          "i": 121,
          "loss": 1.2845659255981445
         },
         {
          "i": 122,
          "loss": 1.2845659255981445
         },
         {
          "i": 123,
          "loss": 1.2845659255981445
         },
         {
          "i": 124,
          "loss": 1.2845659255981445
         },
         {
          "i": 125,
          "loss": 1.2845659255981445
         },
         {
          "i": 126,
          "loss": 1.2845659255981445
         },
         {
          "i": 127,
          "loss": 1.2845659255981445
         },
         {
          "i": 128,
          "loss": 1.2845659255981445
         },
         {
          "i": 129,
          "loss": 1.2845659255981445
         },
         {
          "i": 130,
          "loss": 1.2845659255981445
         },
         {
          "i": 131,
          "loss": 1.2845659255981445
         },
         {
          "i": 132,
          "loss": 1.2845659255981445
         },
         {
          "i": 133,
          "loss": 1.2845659255981445
         },
         {
          "i": 134,
          "loss": 1.2845659255981445
         },
         {
          "i": 135,
          "loss": 1.2845659255981445
         },
         {
          "i": 136,
          "loss": 1.2845659255981445
         },
         {
          "i": 137,
          "loss": 1.2845659255981445
         },
         {
          "i": 138,
          "loss": 1.2845659255981445
         },
         {
          "i": 139,
          "loss": 1.2845659255981445
         },
         {
          "i": 140,
          "loss": 1.2845659255981445
         },
         {
          "i": 141,
          "loss": 1.2845659255981445
         },
         {
          "i": 142,
          "loss": 1.2845659255981445
         },
         {
          "i": 143,
          "loss": 1.2845659255981445
         },
         {
          "i": 144,
          "loss": 1.2845659255981445
         },
         {
          "i": 145,
          "loss": 1.2845659255981445
         },
         {
          "i": 146,
          "loss": 1.2845659255981445
         },
         {
          "i": 147,
          "loss": 1.2845659255981445
         },
         {
          "i": 148,
          "loss": 1.2845659255981445
         },
         {
          "i": 149,
          "loss": 1.2845659255981445
         },
         {
          "i": 150,
          "loss": 1.2845659255981445
         },
         {
          "i": 151,
          "loss": 1.2845659255981445
         },
         {
          "i": 152,
          "loss": 1.2845659255981445
         },
         {
          "i": 153,
          "loss": 1.2845659255981445
         },
         {
          "i": 154,
          "loss": 1.2845659255981445
         },
         {
          "i": 155,
          "loss": 1.2845659255981445
         },
         {
          "i": 156,
          "loss": 1.2845659255981445
         },
         {
          "i": 157,
          "loss": 1.2845659255981445
         },
         {
          "i": 158,
          "loss": 1.2845659255981445
         },
         {
          "i": 159,
          "loss": 1.2845659255981445
         },
         {
          "i": 160,
          "loss": 1.2845659255981445
         },
         {
          "i": 161,
          "loss": 1.2845659255981445
         },
         {
          "i": 162,
          "loss": 1.2845659255981445
         },
         {
          "i": 163,
          "loss": 1.2845659255981445
         },
         {
          "i": 164,
          "loss": 1.2845659255981445
         },
         {
          "i": 165,
          "loss": 1.2845659255981445
         },
         {
          "i": 166,
          "loss": 1.2845659255981445
         },
         {
          "i": 167,
          "loss": 1.2845659255981445
         },
         {
          "i": 168,
          "loss": 1.2845659255981445
         },
         {
          "i": 169,
          "loss": 1.2845659255981445
         },
         {
          "i": 170,
          "loss": 1.2845659255981445
         },
         {
          "i": 171,
          "loss": 1.2845659255981445
         },
         {
          "i": 172,
          "loss": 1.2845659255981445
         },
         {
          "i": 173,
          "loss": 1.2845659255981445
         },
         {
          "i": 174,
          "loss": 1.2845659255981445
         },
         {
          "i": 175,
          "loss": 1.2845659255981445
         },
         {
          "i": 176,
          "loss": 1.2845659255981445
         },
         {
          "i": 177,
          "loss": 1.2845659255981445
         },
         {
          "i": 178,
          "loss": 1.2845659255981445
         },
         {
          "i": 179,
          "loss": 1.2845659255981445
         },
         {
          "i": 180,
          "loss": 1.2845659255981445
         },
         {
          "i": 181,
          "loss": 1.2845659255981445
         },
         {
          "i": 182,
          "loss": 1.2845659255981445
         },
         {
          "i": 183,
          "loss": 1.2845659255981445
         },
         {
          "i": 184,
          "loss": 1.2845659255981445
         },
         {
          "i": 185,
          "loss": 1.2845659255981445
         },
         {
          "i": 186,
          "loss": 1.2845659255981445
         },
         {
          "i": 187,
          "loss": 1.2845659255981445
         },
         {
          "i": 188,
          "loss": 1.2845659255981445
         },
         {
          "i": 189,
          "loss": 1.2845659255981445
         },
         {
          "i": 190,
          "loss": 1.2845659255981445
         },
         {
          "i": 191,
          "loss": 1.2845659255981445
         },
         {
          "i": 192,
          "loss": 1.2845659255981445
         },
         {
          "i": 193,
          "loss": 1.2845659255981445
         },
         {
          "i": 194,
          "loss": 1.2845659255981445
         },
         {
          "i": 195,
          "loss": 1.2845659255981445
         },
         {
          "i": 196,
          "loss": 1.2845659255981445
         },
         {
          "i": 197,
          "loss": 1.2845659255981445
         },
         {
          "i": 198,
          "loss": 1.2845659255981445
         },
         {
          "i": 199,
          "loss": 1.2845659255981445
         },
         {
          "i": 200,
          "loss": 1.2845659255981445
         },
         {
          "i": 201,
          "loss": 1.2845659255981445
         },
         {
          "i": 202,
          "loss": 1.2845659255981445
         },
         {
          "i": 203,
          "loss": 1.2845659255981445
         },
         {
          "i": 204,
          "loss": 1.2845659255981445
         },
         {
          "i": 205,
          "loss": 1.2845659255981445
         },
         {
          "i": 206,
          "loss": 1.2845659255981445
         },
         {
          "i": 207,
          "loss": 1.2845659255981445
         },
         {
          "i": 208,
          "loss": 1.2845659255981445
         },
         {
          "i": 209,
          "loss": 1.2845659255981445
         },
         {
          "i": 210,
          "loss": 1.2845659255981445
         },
         {
          "i": 211,
          "loss": 1.2845659255981445
         },
         {
          "i": 212,
          "loss": 1.2845659255981445
         },
         {
          "i": 213,
          "loss": 1.2845659255981445
         },
         {
          "i": 214,
          "loss": 1.2845659255981445
         },
         {
          "i": 215,
          "loss": 1.2845659255981445
         },
         {
          "i": 216,
          "loss": 1.2845659255981445
         },
         {
          "i": 217,
          "loss": 1.2845659255981445
         },
         {
          "i": 218,
          "loss": 1.2845659255981445
         },
         {
          "i": 219,
          "loss": 1.2845659255981445
         },
         {
          "i": 220,
          "loss": 1.2845659255981445
         },
         {
          "i": 221,
          "loss": 1.2845659255981445
         },
         {
          "i": 222,
          "loss": 1.2845659255981445
         },
         {
          "i": 223,
          "loss": 1.2845659255981445
         },
         {
          "i": 224,
          "loss": 1.2845659255981445
         },
         {
          "i": 225,
          "loss": 1.2845659255981445
         },
         {
          "i": 226,
          "loss": 1.2845659255981445
         },
         {
          "i": 227,
          "loss": 1.2845659255981445
         },
         {
          "i": 228,
          "loss": 1.2845659255981445
         },
         {
          "i": 229,
          "loss": 1.2845659255981445
         },
         {
          "i": 230,
          "loss": 1.2845659255981445
         },
         {
          "i": 231,
          "loss": 1.2845659255981445
         },
         {
          "i": 232,
          "loss": 1.2845659255981445
         },
         {
          "i": 233,
          "loss": 1.2845659255981445
         },
         {
          "i": 234,
          "loss": 1.2845659255981445
         },
         {
          "i": 235,
          "loss": 1.2845659255981445
         },
         {
          "i": 236,
          "loss": 1.2845659255981445
         },
         {
          "i": 237,
          "loss": 1.2845659255981445
         },
         {
          "i": 238,
          "loss": 1.2845659255981445
         },
         {
          "i": 239,
          "loss": 1.2845659255981445
         },
         {
          "i": 240,
          "loss": 1.2845659255981445
         },
         {
          "i": 241,
          "loss": 1.2845659255981445
         },
         {
          "i": 242,
          "loss": 1.2845659255981445
         },
         {
          "i": 243,
          "loss": 1.2845659255981445
         },
         {
          "i": 244,
          "loss": 1.2845659255981445
         },
         {
          "i": 245,
          "loss": 1.2845659255981445
         },
         {
          "i": 246,
          "loss": 1.2845659255981445
         },
         {
          "i": 247,
          "loss": 1.2845659255981445
         },
         {
          "i": 248,
          "loss": 1.2845659255981445
         },
         {
          "i": 249,
          "loss": 1.2845659255981445
         },
         {
          "i": 250,
          "loss": 1.2845659255981445
         },
         {
          "i": 251,
          "loss": 1.2845659255981445
         },
         {
          "i": 252,
          "loss": 1.2845659255981445
         },
         {
          "i": 253,
          "loss": 1.2845659255981445
         },
         {
          "i": 254,
          "loss": 1.2845659255981445
         },
         {
          "i": 255,
          "loss": 1.2845659255981445
         },
         {
          "i": 256,
          "loss": 1.2845659255981445
         },
         {
          "i": 257,
          "loss": 1.2845659255981445
         },
         {
          "i": 258,
          "loss": 1.2845659255981445
         },
         {
          "i": 259,
          "loss": 1.2845659255981445
         },
         {
          "i": 260,
          "loss": 1.2845659255981445
         },
         {
          "i": 261,
          "loss": 1.2845659255981445
         },
         {
          "i": 262,
          "loss": 1.2845659255981445
         },
         {
          "i": 263,
          "loss": 1.2845659255981445
         },
         {
          "i": 264,
          "loss": 1.2845659255981445
         },
         {
          "i": 265,
          "loss": 1.2845659255981445
         },
         {
          "i": 266,
          "loss": 1.2845659255981445
         },
         {
          "i": 267,
          "loss": 1.2845659255981445
         },
         {
          "i": 268,
          "loss": 1.2845659255981445
         },
         {
          "i": 269,
          "loss": 1.2845659255981445
         },
         {
          "i": 270,
          "loss": 1.2845659255981445
         },
         {
          "i": 271,
          "loss": 1.2845659255981445
         },
         {
          "i": 272,
          "loss": 1.2845659255981445
         },
         {
          "i": 273,
          "loss": 1.2845659255981445
         },
         {
          "i": 274,
          "loss": 1.2845659255981445
         },
         {
          "i": 275,
          "loss": 1.2845659255981445
         },
         {
          "i": 276,
          "loss": 1.2845659255981445
         },
         {
          "i": 277,
          "loss": 1.2845659255981445
         },
         {
          "i": 278,
          "loss": 1.2845659255981445
         },
         {
          "i": 279,
          "loss": 1.2845659255981445
         },
         {
          "i": 280,
          "loss": 1.2845659255981445
         },
         {
          "i": 281,
          "loss": 1.2845659255981445
         },
         {
          "i": 282,
          "loss": 1.2845659255981445
         },
         {
          "i": 283,
          "loss": 1.2845659255981445
         },
         {
          "i": 284,
          "loss": 1.2845659255981445
         },
         {
          "i": 285,
          "loss": 1.2845659255981445
         },
         {
          "i": 286,
          "loss": 1.2845659255981445
         },
         {
          "i": 287,
          "loss": 1.2845659255981445
         },
         {
          "i": 288,
          "loss": 1.2845659255981445
         },
         {
          "i": 289,
          "loss": 1.2845659255981445
         },
         {
          "i": 290,
          "loss": 1.2845659255981445
         },
         {
          "i": 291,
          "loss": 1.2845659255981445
         },
         {
          "i": 292,
          "loss": 1.2845659255981445
         },
         {
          "i": 293,
          "loss": 1.2845659255981445
         },
         {
          "i": 294,
          "loss": 1.2845659255981445
         },
         {
          "i": 295,
          "loss": 1.2845659255981445
         },
         {
          "i": 296,
          "loss": 1.2845659255981445
         },
         {
          "i": 297,
          "loss": 1.2845659255981445
         },
         {
          "i": 298,
          "loss": 1.2845659255981445
         },
         {
          "i": 299,
          "loss": 1.2845659255981445
         },
         {
          "i": 300,
          "loss": 1.2845659255981445
         },
         {
          "i": 301,
          "loss": 1.2845659255981445
         },
         {
          "i": 302,
          "loss": 1.2845659255981445
         },
         {
          "i": 303,
          "loss": 1.2845659255981445
         },
         {
          "i": 304,
          "loss": 1.2845659255981445
         },
         {
          "i": 305,
          "loss": 1.2845659255981445
         },
         {
          "i": 306,
          "loss": 1.2845659255981445
         },
         {
          "i": 307,
          "loss": 1.2845659255981445
         },
         {
          "i": 308,
          "loss": 1.2845659255981445
         },
         {
          "i": 309,
          "loss": 1.2845659255981445
         },
         {
          "i": 310,
          "loss": 1.2845659255981445
         },
         {
          "i": 311,
          "loss": 1.2845659255981445
         },
         {
          "i": 312,
          "loss": 1.2845659255981445
         },
         {
          "i": 313,
          "loss": 1.2845659255981445
         },
         {
          "i": 314,
          "loss": 1.2845659255981445
         },
         {
          "i": 315,
          "loss": 1.2845659255981445
         },
         {
          "i": 316,
          "loss": 1.2845659255981445
         },
         {
          "i": 317,
          "loss": 1.2845659255981445
         },
         {
          "i": 318,
          "loss": 1.2845659255981445
         },
         {
          "i": 319,
          "loss": 1.2845659255981445
         },
         {
          "i": 320,
          "loss": 1.2845659255981445
         },
         {
          "i": 321,
          "loss": 1.2845659255981445
         },
         {
          "i": 322,
          "loss": 1.2845659255981445
         },
         {
          "i": 323,
          "loss": 1.2845659255981445
         },
         {
          "i": 324,
          "loss": 1.2845659255981445
         },
         {
          "i": 325,
          "loss": 1.2845659255981445
         },
         {
          "i": 326,
          "loss": 1.2845659255981445
         },
         {
          "i": 327,
          "loss": 1.2845659255981445
         },
         {
          "i": 328,
          "loss": 1.2845659255981445
         },
         {
          "i": 329,
          "loss": 1.2845659255981445
         },
         {
          "i": 330,
          "loss": 1.2845659255981445
         },
         {
          "i": 331,
          "loss": 1.2845659255981445
         },
         {
          "i": 332,
          "loss": 1.2845659255981445
         },
         {
          "i": 333,
          "loss": 1.2845659255981445
         },
         {
          "i": 334,
          "loss": 1.2845659255981445
         },
         {
          "i": 335,
          "loss": 1.2845659255981445
         },
         {
          "i": 336,
          "loss": 1.2845659255981445
         },
         {
          "i": 337,
          "loss": 1.2845659255981445
         },
         {
          "i": 338,
          "loss": 1.2845659255981445
         },
         {
          "i": 339,
          "loss": 1.2845659255981445
         },
         {
          "i": 340,
          "loss": 1.2845659255981445
         },
         {
          "i": 341,
          "loss": 1.2845659255981445
         },
         {
          "i": 342,
          "loss": 1.2845659255981445
         },
         {
          "i": 343,
          "loss": 1.2845659255981445
         },
         {
          "i": 344,
          "loss": 1.2845659255981445
         },
         {
          "i": 345,
          "loss": 1.2845659255981445
         },
         {
          "i": 346,
          "loss": 1.2845659255981445
         },
         {
          "i": 347,
          "loss": 1.2845659255981445
         },
         {
          "i": 348,
          "loss": 1.2845659255981445
         },
         {
          "i": 349,
          "loss": 1.2845659255981445
         },
         {
          "i": 350,
          "loss": 1.2845659255981445
         },
         {
          "i": 351,
          "loss": 1.2845659255981445
         },
         {
          "i": 352,
          "loss": 1.2845659255981445
         },
         {
          "i": 353,
          "loss": 1.2845659255981445
         },
         {
          "i": 354,
          "loss": 1.2845659255981445
         },
         {
          "i": 355,
          "loss": 1.2845659255981445
         },
         {
          "i": 356,
          "loss": 1.2845659255981445
         },
         {
          "i": 357,
          "loss": 1.2845659255981445
         },
         {
          "i": 358,
          "loss": 1.2845659255981445
         },
         {
          "i": 359,
          "loss": 1.2845659255981445
         },
         {
          "i": 360,
          "loss": 1.2845659255981445
         },
         {
          "i": 361,
          "loss": 1.2845659255981445
         },
         {
          "i": 362,
          "loss": 1.2845659255981445
         },
         {
          "i": 363,
          "loss": 1.2845659255981445
         },
         {
          "i": 364,
          "loss": 1.2845659255981445
         },
         {
          "i": 365,
          "loss": 1.2845659255981445
         },
         {
          "i": 366,
          "loss": 1.2845659255981445
         },
         {
          "i": 367,
          "loss": 1.2845659255981445
         },
         {
          "i": 368,
          "loss": 1.2845659255981445
         },
         {
          "i": 369,
          "loss": 1.2845659255981445
         },
         {
          "i": 370,
          "loss": 1.2845659255981445
         },
         {
          "i": 371,
          "loss": 1.2845659255981445
         },
         {
          "i": 372,
          "loss": 1.2845659255981445
         },
         {
          "i": 373,
          "loss": 1.2845659255981445
         },
         {
          "i": 374,
          "loss": 1.2845659255981445
         },
         {
          "i": 375,
          "loss": 1.2845659255981445
         },
         {
          "i": 376,
          "loss": 1.2845659255981445
         },
         {
          "i": 377,
          "loss": 1.2845659255981445
         },
         {
          "i": 378,
          "loss": 1.2845659255981445
         },
         {
          "i": 379,
          "loss": 1.2845659255981445
         },
         {
          "i": 380,
          "loss": 1.2845659255981445
         },
         {
          "i": 381,
          "loss": 1.2845659255981445
         },
         {
          "i": 382,
          "loss": 1.2845659255981445
         },
         {
          "i": 383,
          "loss": 1.2845659255981445
         },
         {
          "i": 384,
          "loss": 1.2845659255981445
         },
         {
          "i": 385,
          "loss": 1.2845659255981445
         },
         {
          "i": 386,
          "loss": 1.2845659255981445
         },
         {
          "i": 387,
          "loss": 1.2845659255981445
         },
         {
          "i": 388,
          "loss": 1.2845659255981445
         },
         {
          "i": 389,
          "loss": 1.2845659255981445
         },
         {
          "i": 390,
          "loss": 1.2845659255981445
         },
         {
          "i": 391,
          "loss": 1.2845659255981445
         },
         {
          "i": 392,
          "loss": 1.2845659255981445
         },
         {
          "i": 393,
          "loss": 1.2845659255981445
         },
         {
          "i": 394,
          "loss": 1.2845659255981445
         },
         {
          "i": 395,
          "loss": 1.2845659255981445
         },
         {
          "i": 396,
          "loss": 1.2845659255981445
         },
         {
          "i": 397,
          "loss": 1.2845659255981445
         },
         {
          "i": 398,
          "loss": 1.2845659255981445
         },
         {
          "i": 399,
          "loss": 1.2845659255981445
         },
         {
          "i": 400,
          "loss": 1.2845659255981445
         },
         {
          "i": 401,
          "loss": 1.2845659255981445
         },
         {
          "i": 402,
          "loss": 1.2845659255981445
         },
         {
          "i": 403,
          "loss": 1.2845659255981445
         },
         {
          "i": 404,
          "loss": 1.2845659255981445
         },
         {
          "i": 405,
          "loss": 1.2845659255981445
         },
         {
          "i": 406,
          "loss": 1.2845659255981445
         },
         {
          "i": 407,
          "loss": 1.2845659255981445
         },
         {
          "i": 408,
          "loss": 1.2845659255981445
         },
         {
          "i": 409,
          "loss": 1.2845659255981445
         },
         {
          "i": 410,
          "loss": 1.2845659255981445
         },
         {
          "i": 411,
          "loss": 1.2845659255981445
         },
         {
          "i": 412,
          "loss": 1.2845659255981445
         },
         {
          "i": 413,
          "loss": 1.2845659255981445
         },
         {
          "i": 414,
          "loss": 1.2845659255981445
         },
         {
          "i": 415,
          "loss": 1.2845659255981445
         },
         {
          "i": 416,
          "loss": 1.2845659255981445
         },
         {
          "i": 417,
          "loss": 1.2845659255981445
         },
         {
          "i": 418,
          "loss": 1.2845659255981445
         },
         {
          "i": 419,
          "loss": 1.2845659255981445
         },
         {
          "i": 420,
          "loss": 1.2845659255981445
         },
         {
          "i": 421,
          "loss": 1.2845659255981445
         },
         {
          "i": 422,
          "loss": 1.2845659255981445
         },
         {
          "i": 423,
          "loss": 1.2845659255981445
         },
         {
          "i": 424,
          "loss": 1.2845659255981445
         },
         {
          "i": 425,
          "loss": 1.2845659255981445
         },
         {
          "i": 426,
          "loss": 1.2845659255981445
         },
         {
          "i": 427,
          "loss": 1.2845659255981445
         },
         {
          "i": 428,
          "loss": 1.2845659255981445
         },
         {
          "i": 429,
          "loss": 1.2845659255981445
         },
         {
          "i": 430,
          "loss": 1.2845659255981445
         },
         {
          "i": 431,
          "loss": 1.2845659255981445
         },
         {
          "i": 432,
          "loss": 1.2845659255981445
         },
         {
          "i": 433,
          "loss": 1.2845659255981445
         },
         {
          "i": 434,
          "loss": 1.2845659255981445
         },
         {
          "i": 435,
          "loss": 1.2845659255981445
         },
         {
          "i": 436,
          "loss": 1.2845659255981445
         },
         {
          "i": 437,
          "loss": 1.2845659255981445
         },
         {
          "i": 438,
          "loss": 1.2845659255981445
         },
         {
          "i": 439,
          "loss": 1.2845659255981445
         },
         {
          "i": 440,
          "loss": 1.2845659255981445
         },
         {
          "i": 441,
          "loss": 1.2845659255981445
         },
         {
          "i": 442,
          "loss": 1.2845659255981445
         },
         {
          "i": 443,
          "loss": 1.2845659255981445
         },
         {
          "i": 444,
          "loss": 1.2845659255981445
         },
         {
          "i": 445,
          "loss": 1.2845659255981445
         },
         {
          "i": 446,
          "loss": 1.2845659255981445
         },
         {
          "i": 447,
          "loss": 1.2845659255981445
         },
         {
          "i": 448,
          "loss": 1.2845659255981445
         },
         {
          "i": 449,
          "loss": 1.2845659255981445
         },
         {
          "i": 450,
          "loss": 1.2845659255981445
         },
         {
          "i": 451,
          "loss": 1.2845659255981445
         },
         {
          "i": 452,
          "loss": 1.2845659255981445
         },
         {
          "i": 453,
          "loss": 1.2845659255981445
         },
         {
          "i": 454,
          "loss": 1.2845659255981445
         },
         {
          "i": 455,
          "loss": 1.2845659255981445
         },
         {
          "i": 456,
          "loss": 1.2845659255981445
         },
         {
          "i": 457,
          "loss": 1.2845659255981445
         },
         {
          "i": 458,
          "loss": 1.2845659255981445
         },
         {
          "i": 459,
          "loss": 1.2845659255981445
         },
         {
          "i": 460,
          "loss": 1.2845659255981445
         },
         {
          "i": 461,
          "loss": 1.2845659255981445
         },
         {
          "i": 462,
          "loss": 1.2845659255981445
         },
         {
          "i": 463,
          "loss": 1.2845659255981445
         },
         {
          "i": 464,
          "loss": 1.2845659255981445
         },
         {
          "i": 465,
          "loss": 1.2845659255981445
         },
         {
          "i": 466,
          "loss": 1.2845659255981445
         },
         {
          "i": 467,
          "loss": 1.2845659255981445
         },
         {
          "i": 468,
          "loss": 1.2845659255981445
         },
         {
          "i": 469,
          "loss": 1.2845659255981445
         },
         {
          "i": 470,
          "loss": 1.2845659255981445
         },
         {
          "i": 471,
          "loss": 1.2845659255981445
         },
         {
          "i": 472,
          "loss": 1.2845659255981445
         },
         {
          "i": 473,
          "loss": 1.2845659255981445
         },
         {
          "i": 474,
          "loss": 1.2845659255981445
         },
         {
          "i": 475,
          "loss": 1.2845659255981445
         },
         {
          "i": 476,
          "loss": 1.2845659255981445
         },
         {
          "i": 477,
          "loss": 1.2845659255981445
         },
         {
          "i": 478,
          "loss": 1.2845659255981445
         },
         {
          "i": 479,
          "loss": 1.2845659255981445
         },
         {
          "i": 480,
          "loss": 1.2845659255981445
         },
         {
          "i": 481,
          "loss": 1.2845659255981445
         },
         {
          "i": 482,
          "loss": 1.2845659255981445
         },
         {
          "i": 483,
          "loss": 1.2845659255981445
         },
         {
          "i": 484,
          "loss": 1.2845659255981445
         },
         {
          "i": 485,
          "loss": 1.2845659255981445
         },
         {
          "i": 486,
          "loss": 1.2845659255981445
         },
         {
          "i": 487,
          "loss": 1.2845659255981445
         },
         {
          "i": 488,
          "loss": 1.2845659255981445
         },
         {
          "i": 489,
          "loss": 1.2845659255981445
         },
         {
          "i": 490,
          "loss": 1.2845659255981445
         },
         {
          "i": 491,
          "loss": 1.2845659255981445
         },
         {
          "i": 492,
          "loss": 1.2845659255981445
         },
         {
          "i": 493,
          "loss": 1.2845659255981445
         },
         {
          "i": 494,
          "loss": 1.2845659255981445
         },
         {
          "i": 495,
          "loss": 1.2845659255981445
         },
         {
          "i": 496,
          "loss": 1.2845659255981445
         },
         {
          "i": 497,
          "loss": 1.2845659255981445
         },
         {
          "i": 498,
          "loss": 1.2845659255981445
         },
         {
          "i": 499,
          "loss": 1.2845659255981445
         }
        ]
       },
       "encoding": {
        "x": {
         "field": "i",
         "type": "quantitative"
        },
        "y": {
         "field": "loss",
         "type": "quantitative"
        }
       },
       "height": 100,
       "mark": "line"
      },
      "image/png": "[encoded data removed]",
      "text/plain": [
       "<VegaLite 3 object>\n",
       "\n",
       "If you see this message, it means the renderer has not been properly enabled\n",
       "for the frontend that you are using. For more information, see\n",
       "https://altair-viz.github.io/user_guide/troubleshooting.html\n"
      ]
     },
     "execution_count": 51,
     "metadata": {},
     "output_type": "execute_result"
    }
   ],
   "source": [
    "loss_df = pd.DataFrame({'i':range(500), 'loss':loss_record})\n",
    "alt.Chart(loss_df, height=100).mark_line().encode(x='i', y='loss')"
   ]
  },
  {
   "cell_type": "markdown",
   "metadata": {},
   "source": [
    "And when we plot the model predictions against reality we see how bad it is:"
   ]
  },
  {
   "cell_type": "code",
   "execution_count": 52,
   "metadata": {},
   "outputs": [
    {
     "data": {
      "application/vnd.vegalite.v3+json": {
       "$schema": "https://vega.github.io/schema/vega-lite/v3.4.0.json",
       "config": {
        "mark": {
         "tooltip": null
        },
        "view": {
         "height": 300,
         "width": 400
        }
       },
       "data": {
        "name": "data-f46b88592234a67fec1b958eea28cf67"
       },
       "datasets": {
        "data-f46b88592234a67fec1b958eea28cf67": [
         {
          "x1": -0.21044759452342987,
          "y": 0.044288188219070435,
          "ŷ": 0.9512571692466736
         },
         {
          "x1": -0.6604733467102051,
          "y": 0.436225026845932,
          "ŷ": 0.9337726831436157
         },
         {
          "x1": 0.8716042637825012,
          "y": 0.75969398021698,
          "ŷ": 0.9932973980903625
         },
         {
          "x1": -1.7523144483566284,
          "y": 3.070605993270874,
          "ŷ": 0.891352117061615
         },
         {
          "x1": -0.8665099143981934,
          "y": 0.7508394122123718,
          "ŷ": 0.9257676601409912
         },
         {
          "x1": -0.5512767434120178,
          "y": 0.30390605330467224,
          "ŷ": 0.9380152225494385
         },
         {
          "x1": -0.10737483203411102,
          "y": 0.011529354378581047,
          "ŷ": 0.9552618265151978
         },
         {
          "x1": -0.400863915681839,
          "y": 0.16069187223911285,
          "ŷ": 0.9438591003417969
         },
         {
          "x1": -0.29436373710632324,
          "y": 0.08665000647306442,
          "ŷ": 0.9479968547821045
         },
         {
          "x1": 1.343360185623169,
          "y": 1.8046165704727173,
          "ŷ": 1.011626124382019
         },
         {
          "x1": 0.8282321691513062,
          "y": 0.6859685182571411,
          "ŷ": 0.9916122555732727
         },
         {
          "x1": -0.1615026295185089,
          "y": 0.026083098724484444,
          "ŷ": 0.9531587958335876
         },
         {
          "x1": 1.4111882448196411,
          "y": 1.9914522171020508,
          "ŷ": 1.0142614841461182
         },
         {
          "x1": -1.073236346244812,
          "y": 1.1518362760543823,
          "ŷ": 0.9177358746528625
         },
         {
          "x1": 0.5100848078727722,
          "y": 0.2601865231990814,
          "ŷ": 0.979251503944397
         },
         {
          "x1": -0.8726041913032532,
          "y": 0.7614380717277527,
          "ŷ": 0.9255309104919434
         },
         {
          "x1": -1.1918479204177856,
          "y": 1.420501470565796,
          "ŷ": 0.9131275415420532
         },
         {
          "x1": 1.7876886129379272,
          "y": 3.1958305835723877,
          "ŷ": 1.0288892984390259
         },
         {
          "x1": 0.08728577196598053,
          "y": 0.007618805859237909,
          "ŷ": 0.962824821472168
         },
         {
          "x1": -1.7302792072296143,
          "y": 2.993866205215454,
          "ŷ": 0.8922082185745239
         },
         {
          "x1": 1.25747811794281,
          "y": 1.5812512636184692,
          "ŷ": 1.0082894563674927
         },
         {
          "x1": 0.38858428597450256,
          "y": 0.15099774301052094,
          "ŷ": 0.9745309352874756
         },
         {
          "x1": -0.047662217170000076,
          "y": 0.002271686913445592,
          "ŷ": 0.9575817584991455
         },
         {
          "x1": 1.358357310295105,
          "y": 1.8451346158981323,
          "ŷ": 1.0122088193893433
         },
         {
          "x1": 0.14193095266819,
          "y": 0.020144395530223846,
          "ŷ": 0.9649478793144226
         },
         {
          "x1": 1.4028066396713257,
          "y": 1.9678664207458496,
          "ŷ": 1.0139358043670654
         },
         {
          "x1": 1.1711505651474,
          "y": 1.3715935945510864,
          "ŷ": 1.004935383796692
         },
         {
          "x1": 0.08994642645120621,
          "y": 0.008090360090136528,
          "ŷ": 0.9629281759262085
         },
         {
          "x1": -0.09079627692699432,
          "y": 0.008243964053690434,
          "ŷ": 0.9559059143066406
         },
         {
          "x1": -0.3054927587509155,
          "y": 0.09332582354545593,
          "ŷ": 0.9475644826889038
         },
         {
          "x1": -0.3891339898109436,
          "y": 0.15142525732517242,
          "ŷ": 0.9443148374557495
         },
         {
          "x1": 0.39224809408187866,
          "y": 0.15385857224464417,
          "ŷ": 0.9746732711791992
         },
         {
          "x1": -0.9921566843986511,
          "y": 0.9843748807907104,
          "ŷ": 0.9208859801292419
         },
         {
          "x1": 0.2673608958721161,
          "y": 0.0714818462729454,
          "ŷ": 0.9698211550712585
         },
         {
          "x1": -0.7316256165504456,
          "y": 0.5352760553359985,
          "ŷ": 0.9310082197189331
         },
         {
          "x1": -0.45698708295822144,
          "y": 0.20883719623088837,
          "ŷ": 0.9416785836219788
         },
         {
          "x1": 0.6343969106674194,
          "y": 0.40245944261550903,
          "ŷ": 0.9840813279151917
         },
         {
          "x1": -1.690049648284912,
          "y": 2.8562679290771484,
          "ŷ": 0.8937712907791138
         },
         {
          "x1": 1.0443217754364014,
          "y": 1.09060800075531,
          "ŷ": 1.0000078678131104
         },
         {
          "x1": 0.05444309115409851,
          "y": 0.0029640502762049437,
          "ŷ": 0.9615488052368164
         },
         {
          "x1": 0.03205037862062454,
          "y": 0.0010272267973050475,
          "ŷ": 0.9606788158416748
         },
         {
          "x1": -0.6575558185577393,
          "y": 0.43237966299057007,
          "ŷ": 0.9338859915733337
         },
         {
          "x1": 0.20803049206733704,
          "y": 0.04327668622136116,
          "ŷ": 0.9675160050392151
         },
         {
          "x1": -0.2391589879989624,
          "y": 0.057197023183107376,
          "ŷ": 0.9501416683197021
         },
         {
          "x1": 0.06740854680538177,
          "y": 0.004543912131339312,
          "ŷ": 0.9620525240898132
         },
         {
          "x1": -0.8231052756309509,
          "y": 0.6775022745132446,
          "ŷ": 0.9274540543556213
         },
         {
          "x1": -0.43921300768852234,
          "y": 0.19290806353092194,
          "ŷ": 0.9423691034317017
         },
         {
          "x1": 1.0508776903152466,
          "y": 1.1043438911437988,
          "ŷ": 1.0002624988555908
         },
         {
          "x1": -2.1738815307617188,
          "y": 4.7257609367370605,
          "ŷ": 0.8749732971191406
         },
         {
          "x1": -0.23070865869522095,
          "y": 0.05322648584842682,
          "ŷ": 0.950469970703125
         },
         {
          "x1": -0.5818177461624146,
          "y": 0.3385118842124939,
          "ŷ": 0.93682861328125
         },
         {
          "x1": 0.5139430165290833,
          "y": 0.2641374170780182,
          "ŷ": 0.9794014096260071
         },
         {
          "x1": 0.49028947949409485,
          "y": 0.24038377404212952,
          "ŷ": 0.9784824252128601
         },
         {
          "x1": -1.1138015985488892,
          "y": 1.2405539751052856,
          "ŷ": 0.9161598086357117
         },
         {
          "x1": 0.12339023500680923,
          "y": 0.015225149691104889,
          "ŷ": 0.964227557182312
         },
         {
          "x1": 2.173647403717041,
          "y": 4.724742889404297,
          "ŷ": 1.0438847541809082
         },
         {
          "x1": 0.11898857355117798,
          "y": 0.014158280566334724,
          "ŷ": 0.9640565514564514
         },
         {
          "x1": 1.0466665029525757,
          "y": 1.095510721206665,
          "ŷ": 1.0000989437103271
         },
         {
          "x1": -1.946780800819397,
          "y": 3.7899553775787354,
          "ŷ": 0.8837966918945312
         },
         {
          "x1": 0.40191012620925903,
          "y": 0.1615317463874817,
          "ŷ": 0.9750486612319946
         },
         {
          "x1": -1.6342791318893433,
          "y": 2.670868396759033,
          "ŷ": 0.8959380388259888
         },
         {
          "x1": 1.5164802074432373,
          "y": 2.2997121810913086,
          "ŷ": 1.0183522701263428
         },
         {
          "x1": -0.029035750776529312,
          "y": 0.0008430748130194843,
          "ŷ": 0.9583054780960083
         },
         {
          "x1": -1.1237037181854248,
          "y": 1.2627100944519043,
          "ŷ": 0.9157751202583313
         },
         {
          "x1": -1.160097599029541,
          "y": 1.3458263874053955,
          "ŷ": 0.9143611192703247
         },
         {
          "x1": -1.1003212928771973,
          "y": 1.2107069492340088,
          "ŷ": 0.916683554649353
         },
         {
          "x1": 1.8463060855865479,
          "y": 3.408846139907837,
          "ŷ": 1.0311667919158936
         },
         {
          "x1": -1.0422722101211548,
          "y": 1.0863313674926758,
          "ŷ": 0.9189388751983643
         },
         {
          "x1": -1.144771695137024,
          "y": 1.310502290725708,
          "ŷ": 0.9149565696716309
         },
         {
          "x1": 1.0619876384735107,
          "y": 1.1278177499771118,
          "ŷ": 1.0006941556930542
         },
         {
          "x1": 1.7964468002319336,
          "y": 3.2272210121154785,
          "ŷ": 1.0292296409606934
         },
         {
          "x1": -1.6481693983078003,
          "y": 2.7164623737335205,
          "ŷ": 0.8953983783721924
         },
         {
          "x1": 0.526267945766449,
          "y": 0.2769579589366913,
          "ŷ": 0.9798802733421326
         },
         {
          "x1": 0.11293739080429077,
          "y": 0.012754853814840317,
          "ŷ": 0.9638214111328125
         },
         {
          "x1": -0.32976317405700684,
          "y": 0.10874374955892563,
          "ŷ": 0.9466214776039124
         },
         {
          "x1": -1.1838622093200684,
          "y": 1.4015297889709473,
          "ŷ": 0.9134377837181091
         },
         {
          "x1": -1.0334559679031372,
          "y": 1.0680311918258667,
          "ŷ": 0.9192814230918884
         },
         {
          "x1": -1.444472074508667,
          "y": 2.0864996910095215,
          "ŷ": 0.9033125042915344
         },
         {
          "x1": 0.721885621547699,
          "y": 0.5211188793182373,
          "ŷ": 0.9874804615974426
         },
         {
          "x1": 0.7912628650665283,
          "y": 0.6260969042778015,
          "ŷ": 0.9901759028434753
         },
         {
          "x1": -0.5104517340660095,
          "y": 0.2605609595775604,
          "ŷ": 0.9396013617515564
         },
         {
          "x1": -0.1222904697060585,
          "y": 0.01495495904237032,
          "ŷ": 0.9546822905540466
         },
         {
          "x1": -1.0066747665405273,
          "y": 1.0133941173553467,
          "ŷ": 0.9203219413757324
         },
         {
          "x1": 0.6246020197868347,
          "y": 0.39012768864631653,
          "ŷ": 0.9837007522583008
         },
         {
          "x1": -1.106722354888916,
          "y": 1.2248343229293823,
          "ŷ": 0.9164348840713501
         },
         {
          "x1": -0.7013996839523315,
          "y": 0.4919615089893341,
          "ŷ": 0.9321825504302979
         },
         {
          "x1": 1.1268812417984009,
          "y": 1.2698613405227661,
          "ŷ": 1.0032154321670532
         },
         {
          "x1": 0.31357699632644653,
          "y": 0.0983305349946022,
          "ŷ": 0.9716167449951172
         },
         {
          "x1": -1.401705026626587,
          "y": 1.9647769927978516,
          "ŷ": 0.904974102973938
         },
         {
          "x1": -0.5690528750419617,
          "y": 0.32382118701934814,
          "ŷ": 0.9373245239257812
         },
         {
          "x1": -0.804800271987915,
          "y": 0.6477034687995911,
          "ŷ": 0.9281651973724365
         },
         {
          "x1": 0.5765618085861206,
          "y": 0.33242350816726685,
          "ŷ": 0.9818342924118042
         },
         {
          "x1": 2.1572165489196777,
          "y": 4.65358304977417,
          "ŷ": 1.0432463884353638
         },
         {
          "x1": -0.40914252400398254,
          "y": 0.167397603392601,
          "ŷ": 0.9435374140739441
         },
         {
          "x1": -0.8148020505905151,
          "y": 0.6639024019241333,
          "ŷ": 0.9277766346931458
         },
         {
          "x1": -0.2723713517189026,
          "y": 0.07418615370988846,
          "ŷ": 0.9488512873649597
         },
         {
          "x1": -0.7064719796180725,
          "y": 0.4991026520729065,
          "ŷ": 0.9319854974746704
         },
         {
          "x1": 1.0492830276489258,
          "y": 1.1009948253631592,
          "ŷ": 1.000200629234314
         },
         {
          "x1": 0.005054289475083351,
          "y": 2.554584170866292e-05,
          "ŷ": 0.9596299529075623
         },
         {
          "x1": 0.2229662388563156,
          "y": 0.049713943153619766,
          "ŷ": 0.9680963158607483
         }
        ]
       },
       "layer": [
        {
         "encoding": {
          "x": {
           "field": "x1",
           "type": "quantitative"
          },
          "y": {
           "field": "ŷ",
           "type": "quantitative"
          }
         },
         "mark": "line"
        },
        {
         "encoding": {
          "x": {
           "field": "x1",
           "type": "quantitative"
          },
          "y": {
           "field": "y",
           "type": "quantitative"
          }
         },
         "mark": "point"
        }
       ]
      },
      "image/png": "[encoded data removed]",
      "text/plain": [
       "<VegaLite 3 object>\n",
       "\n",
       "If you see this message, it means the renderer has not been properly enabled\n",
       "for the frontend that you are using. For more information, see\n",
       "https://altair-viz.github.io/user_guide/troubleshooting.html\n"
      ]
     },
     "execution_count": 52,
     "metadata": {},
     "output_type": "execute_result"
    }
   ],
   "source": [
    "preds = pd.DataFrame({'ŷ':ŷ.detach().numpy()[:,0], 'y':y[:,0], 'x1':x[:,0]})\n",
    "(alt.Chart(preds).mark_line().encode(x='x1', y='ŷ') + \n",
    "alt.Chart(preds).mark_point().encode(x='x1', y='y'))"
   ]
  },
  {
   "cell_type": "markdown",
   "metadata": {},
   "source": [
    "However, we can introduce a hidden layer (of size 10):"
   ]
  },
  {
   "cell_type": "code",
   "execution_count": 53,
   "metadata": {},
   "outputs": [],
   "source": [
    "h = 10\n",
    "W = torch.randn(p, h).requires_grad_()\n",
    "b = torch.randn(1, h).requires_grad_()\n",
    "α = torch.randn(h+1, 1).requires_grad_()\n",
    "loss_record = []\n",
    "ϵ = 10e-3\n",
    "\n",
    "for e in range(500):\n",
    "    z = g(torch.matmul(x,W) + b)\n",
    "    ŷ = torch.matmul(z,α[1:]) + α[0]\n",
    "    L = torch.sum((y-ŷ)**2)/n # L = Σ(yᵢ-ŷᵢ)² (use predictions to calculate loss)\n",
    "    \n",
    "    L.backward() # compute gradients (in this case δL/δα, δL/δW)\n",
    "    loss_record.append(L.item())\n",
    "    \n",
    "    with torch.no_grad(): # take the gradient descent step \n",
    "        α -= ϵ * α.grad\n",
    "        α.grad.zero_()\n",
    "        W -= ϵ * W.grad\n",
    "        W.grad.zero_()\n",
    "        b -= ϵ * b.grad\n",
    "        b.grad.zero_()"
   ]
  },
  {
   "cell_type": "code",
   "execution_count": 54,
   "metadata": {},
   "outputs": [
    {
     "data": {
      "application/vnd.vegalite.v3+json": {
       "$schema": "https://vega.github.io/schema/vega-lite/v3.4.0.json",
       "config": {
        "mark": {
         "tooltip": null
        },
        "view": {
         "height": 300,
         "width": 400
        }
       },
       "data": {
        "name": "data-654488cc2fe05723f6e7dffe3eec127d"
       },
       "datasets": {
        "data-654488cc2fe05723f6e7dffe3eec127d": [
         {
          "i": 0,
          "loss": 4.109536170959473
         },
         {
          "i": 1,
          "loss": 3.7565460205078125
         },
         {
          "i": 2,
          "loss": 3.4747955799102783
         },
         {
          "i": 3,
          "loss": 3.2471566200256348
         },
         {
          "i": 4,
          "loss": 3.060011625289917
         },
         {
          "i": 5,
          "loss": 2.9034929275512695
         },
         {
          "i": 6,
          "loss": 2.7705678939819336
         },
         {
          "i": 7,
          "loss": 2.656292676925659
         },
         {
          "i": 8,
          "loss": 2.5568044185638428
         },
         {
          "i": 9,
          "loss": 2.4689998626708984
         },
         {
          "i": 10,
          "loss": 2.3910562992095947
         },
         {
          "i": 11,
          "loss": 2.321086883544922
         },
         {
          "i": 12,
          "loss": 2.2576022148132324
         },
         {
          "i": 13,
          "loss": 2.1997878551483154
         },
         {
          "i": 14,
          "loss": 2.146592617034912
         },
         {
          "i": 15,
          "loss": 2.097543954849243
         },
         {
          "i": 16,
          "loss": 2.052025556564331
         },
         {
          "i": 17,
          "loss": 2.0095055103302
         },
         {
          "i": 18,
          "loss": 1.9696406126022339
         },
         {
          "i": 19,
          "loss": 1.9319450855255127
         },
         {
          "i": 20,
          "loss": 1.8961520195007324
         },
         {
          "i": 21,
          "loss": 1.8620593547821045
         },
         {
          "i": 22,
          "loss": 1.8296654224395752
         },
         {
          "i": 23,
          "loss": 1.7987844944000244
         },
         {
          "i": 24,
          "loss": 1.7693116664886475
         },
         {
          "i": 25,
          "loss": 1.7411268949508667
         },
         {
          "i": 26,
          "loss": 1.7140672206878662
         },
         {
          "i": 27,
          "loss": 1.6879241466522217
         },
         {
          "i": 28,
          "loss": 1.6627302169799805
         },
         {
          "i": 29,
          "loss": 1.6385061740875244
         },
         {
          "i": 30,
          "loss": 1.6151719093322754
         },
         {
          "i": 31,
          "loss": 1.5926682949066162
         },
         {
          "i": 32,
          "loss": 1.5709325075149536
         },
         {
          "i": 33,
          "loss": 1.549916386604309
         },
         {
          "i": 34,
          "loss": 1.52955961227417
         },
         {
          "i": 35,
          "loss": 1.5098439455032349
         },
         {
          "i": 36,
          "loss": 1.4907406568527222
         },
         {
          "i": 37,
          "loss": 1.4722219705581665
         },
         {
          "i": 38,
          "loss": 1.4542579650878906
         },
         {
          "i": 39,
          "loss": 1.4368104934692383
         },
         {
          "i": 40,
          "loss": 1.4198613166809082
         },
         {
          "i": 41,
          "loss": 1.4033732414245605
         },
         {
          "i": 42,
          "loss": 1.3873236179351807
         },
         {
          "i": 43,
          "loss": 1.3716903924942017
         },
         {
          "i": 44,
          "loss": 1.356447458267212
         },
         {
          "i": 45,
          "loss": 1.3415138721466064
         },
         {
          "i": 46,
          "loss": 1.3269420862197876
         },
         {
          "i": 47,
          "loss": 1.3126842975616455
         },
         {
          "i": 48,
          "loss": 1.2986505031585693
         },
         {
          "i": 49,
          "loss": 1.2849338054656982
         },
         {
          "i": 50,
          "loss": 1.2715193033218384
         },
         {
          "i": 51,
          "loss": 1.2583810091018677
         },
         {
          "i": 52,
          "loss": 1.2454720735549927
         },
         {
          "i": 53,
          "loss": 1.2328002452850342
         },
         {
          "i": 54,
          "loss": 1.2203590869903564
         },
         {
          "i": 55,
          "loss": 1.2081753015518188
         },
         {
          "i": 56,
          "loss": 1.1962260007858276
         },
         {
          "i": 57,
          "loss": 1.1845039129257202
         },
         {
          "i": 58,
          "loss": 1.172980546951294
         },
         {
          "i": 59,
          "loss": 1.1616370677947998
         },
         {
          "i": 60,
          "loss": 1.1505000591278076
         },
         {
          "i": 61,
          "loss": 1.1395686864852905
         },
         {
          "i": 62,
          "loss": 1.1288188695907593
         },
         {
          "i": 63,
          "loss": 1.1181927919387817
         },
         {
          "i": 64,
          "loss": 1.1076408624649048
         },
         {
          "i": 65,
          "loss": 1.097221851348877
         },
         {
          "i": 66,
          "loss": 1.0869529247283936
         },
         {
          "i": 67,
          "loss": 1.0767861604690552
         },
         {
          "i": 68,
          "loss": 1.0667251348495483
         },
         {
          "i": 69,
          "loss": 1.0568008422851562
         },
         {
          "i": 70,
          "loss": 1.0469902753829956
         },
         {
          "i": 71,
          "loss": 1.0373234748840332
         },
         {
          "i": 72,
          "loss": 1.027785301208496
         },
         {
          "i": 73,
          "loss": 1.0183712244033813
         },
         {
          "i": 74,
          "loss": 1.009063482284546
         },
         {
          "i": 75,
          "loss": 0.9998162984848022
         },
         {
          "i": 76,
          "loss": 0.9906632900238037
         },
         {
          "i": 77,
          "loss": 0.9816003441810608
         },
         {
          "i": 78,
          "loss": 0.9726428985595703
         },
         {
          "i": 79,
          "loss": 0.963787317276001
         },
         {
          "i": 80,
          "loss": 0.9550301432609558
         },
         {
          "i": 81,
          "loss": 0.9463680982589722
         },
         {
          "i": 82,
          "loss": 0.9377981424331665
         },
         {
          "i": 83,
          "loss": 0.9293169379234314
         },
         {
          "i": 84,
          "loss": 0.9209242463111877
         },
         {
          "i": 85,
          "loss": 0.9126176238059998
         },
         {
          "i": 86,
          "loss": 0.9043922424316406
         },
         {
          "i": 87,
          "loss": 0.8962454795837402
         },
         {
          "i": 88,
          "loss": 0.8881750702857971
         },
         {
          "i": 89,
          "loss": 0.8801786303520203
         },
         {
          "i": 90,
          "loss": 0.8722541928291321
         },
         {
          "i": 91,
          "loss": 0.8643924593925476
         },
         {
          "i": 92,
          "loss": 0.8565499186515808
         },
         {
          "i": 93,
          "loss": 0.8487859964370728
         },
         {
          "i": 94,
          "loss": 0.8410894870758057
         },
         {
          "i": 95,
          "loss": 0.8334698677062988
         },
         {
          "i": 96,
          "loss": 0.8259347677230835
         },
         {
          "i": 97,
          "loss": 0.8184617757797241
         },
         {
          "i": 98,
          "loss": 0.8110494017601013
         },
         {
          "i": 99,
          "loss": 0.8036962151527405
         },
         {
          "i": 100,
          "loss": 0.7964012622833252
         },
         {
          "i": 101,
          "loss": 0.7891724109649658
         },
         {
          "i": 102,
          "loss": 0.7820084095001221
         },
         {
          "i": 103,
          "loss": 0.7748992443084717
         },
         {
          "i": 104,
          "loss": 0.7678438425064087
         },
         {
          "i": 105,
          "loss": 0.7608238458633423
         },
         {
          "i": 106,
          "loss": 0.7538141012191772
         },
         {
          "i": 107,
          "loss": 0.7468572854995728
         },
         {
          "i": 108,
          "loss": 0.7399526238441467
         },
         {
          "i": 109,
          "loss": 0.7330992817878723
         },
         {
          "i": 110,
          "loss": 0.7262908220291138
         },
         {
          "i": 111,
          "loss": 0.7194962501525879
         },
         {
          "i": 112,
          "loss": 0.7127519845962524
         },
         {
          "i": 113,
          "loss": 0.7060582637786865
         },
         {
          "i": 114,
          "loss": 0.699431836605072
         },
         {
          "i": 115,
          "loss": 0.6928667426109314
         },
         {
          "i": 116,
          "loss": 0.6863012909889221
         },
         {
          "i": 117,
          "loss": 0.6797965168952942
         },
         {
          "i": 118,
          "loss": 0.6733531355857849
         },
         {
          "i": 119,
          "loss": 0.6669575572013855
         },
         {
          "i": 120,
          "loss": 0.6606091856956482
         },
         {
          "i": 121,
          "loss": 0.6543080806732178
         },
         {
          "i": 122,
          "loss": 0.6480534076690674
         },
         {
          "i": 123,
          "loss": 0.641845166683197
         },
         {
          "i": 124,
          "loss": 0.635683000087738
         },
         {
          "i": 125,
          "loss": 0.6295666694641113
         },
         {
          "i": 126,
          "loss": 0.623495876789093
         },
         {
          "i": 127,
          "loss": 0.6174705624580383
         },
         {
          "i": 128,
          "loss": 0.6114904880523682
         },
         {
          "i": 129,
          "loss": 0.6055551767349243
         },
         {
          "i": 130,
          "loss": 0.5996408462524414
         },
         {
          "i": 131,
          "loss": 0.5937429666519165
         },
         {
          "i": 132,
          "loss": 0.5878957509994507
         },
         {
          "i": 133,
          "loss": 0.5821066498756409
         },
         {
          "i": 134,
          "loss": 0.5763634443283081
         },
         {
          "i": 135,
          "loss": 0.5706663131713867
         },
         {
          "i": 136,
          "loss": 0.564996063709259
         },
         {
          "i": 137,
          "loss": 0.5593400001525879
         },
         {
          "i": 138,
          "loss": 0.5537335872650146
         },
         {
          "i": 139,
          "loss": 0.548180341720581
         },
         {
          "i": 140,
          "loss": 0.5426825881004333
         },
         {
          "i": 141,
          "loss": 0.5372316241264343
         },
         {
          "i": 142,
          "loss": 0.5318353772163391
         },
         {
          "i": 143,
          "loss": 0.5264948010444641
         },
         {
          "i": 144,
          "loss": 0.5212028622627258
         },
         {
          "i": 145,
          "loss": 0.5159640312194824
         },
         {
          "i": 146,
          "loss": 0.5107842087745667
         },
         {
          "i": 147,
          "loss": 0.5056411027908325
         },
         {
          "i": 148,
          "loss": 0.5005059242248535
         },
         {
          "i": 149,
          "loss": 0.4954245090484619
         },
         {
          "i": 150,
          "loss": 0.49042826890945435
         },
         {
          "i": 151,
          "loss": 0.4854826331138611
         },
         {
          "i": 152,
          "loss": 0.4806063175201416
         },
         {
          "i": 153,
          "loss": 0.47580277919769287
         },
         {
          "i": 154,
          "loss": 0.47104454040527344
         },
         {
          "i": 155,
          "loss": 0.4663427472114563
         },
         {
          "i": 156,
          "loss": 0.46167927980422974
         },
         {
          "i": 157,
          "loss": 0.4570208787918091
         },
         {
          "i": 158,
          "loss": 0.4524082839488983
         },
         {
          "i": 159,
          "loss": 0.4478413760662079
         },
         {
          "i": 160,
          "loss": 0.44332635402679443
         },
         {
          "i": 161,
          "loss": 0.43890151381492615
         },
         {
          "i": 162,
          "loss": 0.4345208406448364
         },
         {
          "i": 163,
          "loss": 0.43018773198127747
         },
         {
          "i": 164,
          "loss": 0.42590001225471497
         },
         {
          "i": 165,
          "loss": 0.4216262400150299
         },
         {
          "i": 166,
          "loss": 0.41739732027053833
         },
         {
          "i": 167,
          "loss": 0.41321301460266113
         },
         {
          "i": 168,
          "loss": 0.40906864404678345
         },
         {
          "i": 169,
          "loss": 0.4049294590950012
         },
         {
          "i": 170,
          "loss": 0.40085139870643616
         },
         {
          "i": 171,
          "loss": 0.3968403935432434
         },
         {
          "i": 172,
          "loss": 0.39287349581718445
         },
         {
          "i": 173,
          "loss": 0.38895073533058167
         },
         {
          "i": 174,
          "loss": 0.3850714862346649
         },
         {
          "i": 175,
          "loss": 0.3812240958213806
         },
         {
          "i": 176,
          "loss": 0.37739184498786926
         },
         {
          "i": 177,
          "loss": 0.3735904395580292
         },
         {
          "i": 178,
          "loss": 0.36983394622802734
         },
         {
          "i": 179,
          "loss": 0.36612197756767273
         },
         {
          "i": 180,
          "loss": 0.36245429515838623
         },
         {
          "i": 181,
          "loss": 0.3588305711746216
         },
         {
          "i": 182,
          "loss": 0.3552502393722534
         },
         {
          "i": 183,
          "loss": 0.3517076075077057
         },
         {
          "i": 184,
          "loss": 0.34817150235176086
         },
         {
          "i": 185,
          "loss": 0.3446720242500305
         },
         {
          "i": 186,
          "loss": 0.3411804437637329
         },
         {
          "i": 187,
          "loss": 0.3377189636230469
         },
         {
          "i": 188,
          "loss": 0.3342902660369873
         },
         {
          "i": 189,
          "loss": 0.3309073746204376
         },
         {
          "i": 190,
          "loss": 0.32757386565208435
         },
         {
          "i": 191,
          "loss": 0.3242849111557007
         },
         {
          "i": 192,
          "loss": 0.3210318684577942
         },
         {
          "i": 193,
          "loss": 0.3177875578403473
         },
         {
          "i": 194,
          "loss": 0.31459322571754456
         },
         {
          "i": 195,
          "loss": 0.31145331263542175
         },
         {
          "i": 196,
          "loss": 0.3083583414554596
         },
         {
          "i": 197,
          "loss": 0.3053194582462311
         },
         {
          "i": 198,
          "loss": 0.3023225665092468
         },
         {
          "i": 199,
          "loss": 0.29936733841896057
         },
         {
          "i": 200,
          "loss": 0.2964538633823395
         },
         {
          "i": 201,
          "loss": 0.29358088970184326
         },
         {
          "i": 202,
          "loss": 0.2907480299472809
         },
         {
          "i": 203,
          "loss": 0.28795507550239563
         },
         {
          "i": 204,
          "loss": 0.28520289063453674
         },
         {
          "i": 205,
          "loss": 0.2824891209602356
         },
         {
          "i": 206,
          "loss": 0.27981334924697876
         },
         {
          "i": 207,
          "loss": 0.27717503905296326
         },
         {
          "i": 208,
          "loss": 0.27457383275032043
         },
         {
          "i": 209,
          "loss": 0.2720092833042145
         },
         {
          "i": 210,
          "loss": 0.26948127150535583
         },
         {
          "i": 211,
          "loss": 0.26699110865592957
         },
         {
          "i": 212,
          "loss": 0.2645469009876251
         },
         {
          "i": 213,
          "loss": 0.2621327340602875
         },
         {
          "i": 214,
          "loss": 0.25972267985343933
         },
         {
          "i": 215,
          "loss": 0.2573472857475281
         },
         {
          "i": 216,
          "loss": 0.25500619411468506
         },
         {
          "i": 217,
          "loss": 0.2526988089084625
         },
         {
          "i": 218,
          "loss": 0.25042250752449036
         },
         {
          "i": 219,
          "loss": 0.2481478750705719
         },
         {
          "i": 220,
          "loss": 0.24590684473514557
         },
         {
          "i": 221,
          "loss": 0.2436990588903427
         },
         {
          "i": 222,
          "loss": 0.24152401089668274
         },
         {
          "i": 223,
          "loss": 0.23938123881816864
         },
         {
          "i": 224,
          "loss": 0.23727034032344818
         },
         {
          "i": 225,
          "loss": 0.235190749168396
         },
         {
          "i": 226,
          "loss": 0.23314185440540314
         },
         {
          "i": 227,
          "loss": 0.23112335801124573
         },
         {
          "i": 228,
          "loss": 0.22913478314876556
         },
         {
          "i": 229,
          "loss": 0.22717559337615967
         },
         {
          "i": 230,
          "loss": 0.22524556517601013
         },
         {
          "i": 231,
          "loss": 0.22334414720535278
         },
         {
          "i": 232,
          "loss": 0.22147111594676971
         },
         {
          "i": 233,
          "loss": 0.2196258306503296
         },
         {
          "i": 234,
          "loss": 0.2178039699792862
         },
         {
          "i": 235,
          "loss": 0.2159852236509323
         },
         {
          "i": 236,
          "loss": 0.21419407427310944
         },
         {
          "i": 237,
          "loss": 0.2124302089214325
         },
         {
          "i": 238,
          "loss": 0.21069318056106567
         },
         {
          "i": 239,
          "loss": 0.20898260176181793
         },
         {
          "i": 240,
          "loss": 0.20729808509349823
         },
         {
          "i": 241,
          "loss": 0.20563927292823792
         },
         {
          "i": 242,
          "loss": 0.20400747656822205
         },
         {
          "i": 243,
          "loss": 0.20242345333099365
         },
         {
          "i": 244,
          "loss": 0.20086351037025452
         },
         {
          "i": 245,
          "loss": 0.199327290058136
         },
         {
          "i": 246,
          "loss": 0.19781453907489777
         },
         {
          "i": 247,
          "loss": 0.19632481038570404
         },
         {
          "i": 248,
          "loss": 0.19485723972320557
         },
         {
          "i": 249,
          "loss": 0.1934109926223755
         },
         {
          "i": 250,
          "loss": 0.1919865757226944
         },
         {
          "i": 251,
          "loss": 0.19058369100093842
         },
         {
          "i": 252,
          "loss": 0.18920187652111053
         },
         {
          "i": 253,
          "loss": 0.18783196806907654
         },
         {
          "i": 254,
          "loss": 0.1864691972732544
         },
         {
          "i": 255,
          "loss": 0.1851259171962738
         },
         {
          "i": 256,
          "loss": 0.18380309641361237
         },
         {
          "i": 257,
          "loss": 0.182500422000885
         },
         {
          "i": 258,
          "loss": 0.18121759593486786
         },
         {
          "i": 259,
          "loss": 0.17995420098304749
         },
         {
          "i": 260,
          "loss": 0.17871013283729553
         },
         {
          "i": 261,
          "loss": 0.1774848997592926
         },
         {
          "i": 262,
          "loss": 0.17627830803394318
         },
         {
          "i": 263,
          "loss": 0.1750899702310562
         },
         {
          "i": 264,
          "loss": 0.17391963303089142
         },
         {
          "i": 265,
          "loss": 0.17276708781719208
         },
         {
          "i": 266,
          "loss": 0.17163190245628357
         },
         {
          "i": 267,
          "loss": 0.1705138385295868
         },
         {
          "i": 268,
          "loss": 0.1694127917289734
         },
         {
          "i": 269,
          "loss": 0.16832834482192993
         },
         {
          "i": 270,
          "loss": 0.16726016998291016
         },
         {
          "i": 271,
          "loss": 0.16620732843875885
         },
         {
          "i": 272,
          "loss": 0.16516871750354767
         },
         {
          "i": 273,
          "loss": 0.16414551436901093
         },
         {
          "i": 274,
          "loss": 0.16313745081424713
         },
         {
          "i": 275,
          "loss": 0.162144273519516
         },
         {
          "i": 276,
          "loss": 0.16116583347320557
         },
         {
          "i": 277,
          "loss": 0.16020184755325317
         },
         {
          "i": 278,
          "loss": 0.15925201773643494
         },
         {
          "i": 279,
          "loss": 0.15831618010997772
         },
         {
          "i": 280,
          "loss": 0.15739409625530243
         },
         {
          "i": 281,
          "loss": 0.15648551285266876
         },
         {
          "i": 282,
          "loss": 0.15559028089046478
         },
         {
          "i": 283,
          "loss": 0.15470802783966064
         },
         {
          "i": 284,
          "loss": 0.15383872389793396
         },
         {
          "i": 285,
          "loss": 0.15298207104206085
         },
         {
          "i": 286,
          "loss": 0.15213781595230103
         },
         {
          "i": 287,
          "loss": 0.15130582451820374
         },
         {
          "i": 288,
          "loss": 0.1504858285188675
         },
         {
          "i": 289,
          "loss": 0.14967770874500275
         },
         {
          "i": 290,
          "loss": 0.14888118207454681
         },
         {
          "i": 291,
          "loss": 0.14809231460094452
         },
         {
          "i": 292,
          "loss": 0.14730603992938995
         },
         {
          "i": 293,
          "loss": 0.14652884006500244
         },
         {
          "i": 294,
          "loss": 0.14575238525867462
         },
         {
          "i": 295,
          "loss": 0.14498752355575562
         },
         {
          "i": 296,
          "loss": 0.14423419535160065
         },
         {
          "i": 297,
          "loss": 0.14349202811717987
         },
         {
          "i": 298,
          "loss": 0.1427609920501709
         },
         {
          "i": 299,
          "loss": 0.14203624427318573
         },
         {
          "i": 300,
          "loss": 0.14131401479244232
         },
         {
          "i": 301,
          "loss": 0.14060281217098236
         },
         {
          "i": 302,
          "loss": 0.139902263879776
         },
         {
          "i": 303,
          "loss": 0.13921239972114563
         },
         {
          "i": 304,
          "loss": 0.1385328769683838
         },
         {
          "i": 305,
          "loss": 0.13786354660987854
         },
         {
          "i": 306,
          "loss": 0.13720424473285675
         },
         {
          "i": 307,
          "loss": 0.1365547776222229
         },
         {
          "i": 308,
          "loss": 0.13591505587100983
         },
         {
          "i": 309,
          "loss": 0.13528476655483246
         },
         {
          "i": 310,
          "loss": 0.13466380536556244
         },
         {
          "i": 311,
          "loss": 0.13405194878578186
         },
         {
          "i": 312,
          "loss": 0.13344912230968475
         },
         {
          "i": 313,
          "loss": 0.1328551322221756
         },
         {
          "i": 314,
          "loss": 0.13226982951164246
         },
         {
          "i": 315,
          "loss": 0.13169294595718384
         },
         {
          "i": 316,
          "loss": 0.13112451136112213
         },
         {
          "i": 317,
          "loss": 0.13056418299674988
         },
         {
          "i": 318,
          "loss": 0.13001146912574768
         },
         {
          "i": 319,
          "loss": 0.12946392595767975
         },
         {
          "i": 320,
          "loss": 0.12892413139343262
         },
         {
          "i": 321,
          "loss": 0.12839186191558838
         },
         {
          "i": 322,
          "loss": 0.12786704301834106
         },
         {
          "i": 323,
          "loss": 0.12734952569007874
         },
         {
          "i": 324,
          "loss": 0.12683917582035065
         },
         {
          "i": 325,
          "loss": 0.12633579969406128
         },
         {
          "i": 326,
          "loss": 0.12583915889263153
         },
         {
          "i": 327,
          "loss": 0.1253473162651062
         },
         {
          "i": 328,
          "loss": 0.12486213445663452
         },
         {
          "i": 329,
          "loss": 0.12438351660966873
         },
         {
          "i": 330,
          "loss": 0.12391144782304764
         },
         {
          "i": 331,
          "loss": 0.12344563752412796
         },
         {
          "i": 332,
          "loss": 0.12298598140478134
         },
         {
          "i": 333,
          "loss": 0.12253237515687943
         },
         {
          "i": 334,
          "loss": 0.12208475917577744
         },
         {
          "i": 335,
          "loss": 0.12164288759231567
         },
         {
          "i": 336,
          "loss": 0.12120680510997772
         },
         {
          "i": 337,
          "loss": 0.12077630311250687
         },
         {
          "i": 338,
          "loss": 0.12035132199525833
         },
         {
          "i": 339,
          "loss": 0.11993177235126495
         },
         {
          "i": 340,
          "loss": 0.11951752007007599
         },
         {
          "i": 341,
          "loss": 0.11910851299762726
         },
         {
          "i": 342,
          "loss": 0.11870461702346802
         },
         {
          "i": 343,
          "loss": 0.11830570548772812
         },
         {
          "i": 344,
          "loss": 0.11791182309389114
         },
         {
          "i": 345,
          "loss": 0.11752275377511978
         },
         {
          "i": 346,
          "loss": 0.11713847517967224
         },
         {
          "i": 347,
          "loss": 0.1167588010430336
         },
         {
          "i": 348,
          "loss": 0.11638379842042923
         },
         {
          "i": 349,
          "loss": 0.11601325869560242
         },
         {
          "i": 350,
          "loss": 0.11564715206623077
         },
         {
          "i": 351,
          "loss": 0.11528543382883072
         },
         {
          "i": 352,
          "loss": 0.11492794007062912
         },
         {
          "i": 353,
          "loss": 0.11457464843988419
         },
         {
          "i": 354,
          "loss": 0.11422552168369293
         },
         {
          "i": 355,
          "loss": 0.11388035863637924
         },
         {
          "i": 356,
          "loss": 0.11353917419910431
         },
         {
          "i": 357,
          "loss": 0.11320190131664276
         },
         {
          "i": 358,
          "loss": 0.11286847293376923
         },
         {
          "i": 359,
          "loss": 0.11253879219293594
         },
         {
          "i": 360,
          "loss": 0.11221279203891754
         },
         {
          "i": 361,
          "loss": 0.11189042031764984
         },
         {
          "i": 362,
          "loss": 0.11157155781984329
         },
         {
          "i": 363,
          "loss": 0.11125626415014267
         },
         {
          "i": 364,
          "loss": 0.11094433069229126
         },
         {
          "i": 365,
          "loss": 0.11063580214977264
         },
         {
          "i": 366,
          "loss": 0.11033054441213608
         },
         {
          "i": 367,
          "loss": 0.11002703011035919
         },
         {
          "i": 368,
          "loss": 0.10972496122121811
         },
         {
          "i": 369,
          "loss": 0.10942597687244415
         },
         {
          "i": 370,
          "loss": 0.10913003236055374
         },
         {
          "i": 371,
          "loss": 0.10883712768554688
         },
         {
          "i": 372,
          "loss": 0.10854718089103699
         },
         {
          "i": 373,
          "loss": 0.10826008766889572
         },
         {
          "i": 374,
          "loss": 0.10797585546970367
         },
         {
          "i": 375,
          "loss": 0.10769444704055786
         },
         {
          "i": 376,
          "loss": 0.10741575062274933
         },
         {
          "i": 377,
          "loss": 0.10713979601860046
         },
         {
          "i": 378,
          "loss": 0.10686647146940231
         },
         {
          "i": 379,
          "loss": 0.10659575462341309
         },
         {
          "i": 380,
          "loss": 0.10632763803005219
         },
         {
          "i": 381,
          "loss": 0.10606197267770767
         },
         {
          "i": 382,
          "loss": 0.10579879581928253
         },
         {
          "i": 383,
          "loss": 0.10553810745477676
         },
         {
          "i": 384,
          "loss": 0.10527972877025604
         },
         {
          "i": 385,
          "loss": 0.10502373427152634
         },
         {
          "i": 386,
          "loss": 0.10477001965045929
         },
         {
          "i": 387,
          "loss": 0.10452252626419067
         },
         {
          "i": 388,
          "loss": 0.10427971184253693
         },
         {
          "i": 389,
          "loss": 0.10403558611869812
         },
         {
          "i": 390,
          "loss": 0.10379371792078018
         },
         {
          "i": 391,
          "loss": 0.10355404019355774
         },
         {
          "i": 392,
          "loss": 0.10331651568412781
         },
         {
          "i": 393,
          "loss": 0.1030811220407486
         },
         {
          "i": 394,
          "loss": 0.10284775495529175
         },
         {
          "i": 395,
          "loss": 0.10261648893356323
         },
         {
          "i": 396,
          "loss": 0.1023871973156929
         },
         {
          "i": 397,
          "loss": 0.10215988010168076
         },
         {
          "i": 398,
          "loss": 0.1019345074892044
         },
         {
          "i": 399,
          "loss": 0.10171103477478027
         },
         {
          "i": 400,
          "loss": 0.10148943960666656
         },
         {
          "i": 401,
          "loss": 0.1012696623802185
         },
         {
          "i": 402,
          "loss": 0.10105174779891968
         },
         {
          "i": 403,
          "loss": 0.10083556920289993
         },
         {
          "i": 404,
          "loss": 0.10062114894390106
         },
         {
          "i": 405,
          "loss": 0.10040844231843948
         },
         {
          "i": 406,
          "loss": 0.10019741207361221
         },
         {
          "i": 407,
          "loss": 0.09998808801174164
         },
         {
          "i": 408,
          "loss": 0.0997803583741188
         },
         {
          "i": 409,
          "loss": 0.0995742529630661
         },
         {
          "i": 410,
          "loss": 0.09936972707509995
         },
         {
          "i": 411,
          "loss": 0.09916672855615616
         },
         {
          "i": 412,
          "loss": 0.09896526485681534
         },
         {
          "i": 413,
          "loss": 0.09876461327075958
         },
         {
          "i": 414,
          "loss": 0.09856296330690384
         },
         {
          "i": 415,
          "loss": 0.09836285561323166
         },
         {
          "i": 416,
          "loss": 0.09816405922174454
         },
         {
          "i": 417,
          "loss": 0.0979667454957962
         },
         {
          "i": 418,
          "loss": 0.0977708026766777
         },
         {
          "i": 419,
          "loss": 0.09757617861032486
         },
         {
          "i": 420,
          "loss": 0.09738291054964066
         },
         {
          "i": 421,
          "loss": 0.09719095379114151
         },
         {
          "i": 422,
          "loss": 0.09700032323598862
         },
         {
          "i": 423,
          "loss": 0.09681092947721481
         },
         {
          "i": 424,
          "loss": 0.09662283211946487
         },
         {
          "i": 425,
          "loss": 0.09643588215112686
         },
         {
          "i": 426,
          "loss": 0.0962502509355545
         },
         {
          "i": 427,
          "loss": 0.09606576710939407
         },
         {
          "i": 428,
          "loss": 0.09588247537612915
         },
         {
          "i": 429,
          "loss": 0.09570036828517914
         },
         {
          "i": 430,
          "loss": 0.09551937133073807
         },
         {
          "i": 431,
          "loss": 0.09533951431512833
         },
         {
          "i": 432,
          "loss": 0.09516075253486633
         },
         {
          "i": 433,
          "loss": 0.09498313069343567
         },
         {
          "i": 434,
          "loss": 0.09480654448270798
         },
         {
          "i": 435,
          "loss": 0.09463101625442505
         },
         {
          "i": 436,
          "loss": 0.09445654600858688
         },
         {
          "i": 437,
          "loss": 0.09428306668996811
         },
         {
          "i": 438,
          "loss": 0.09411066770553589
         },
         {
          "i": 439,
          "loss": 0.09393920004367828
         },
         {
          "i": 440,
          "loss": 0.09376874566078186
         },
         {
          "i": 441,
          "loss": 0.09359927475452423
         },
         {
          "i": 442,
          "loss": 0.09343072026968002
         },
         {
          "i": 443,
          "loss": 0.09326319396495819
         },
         {
          "i": 444,
          "loss": 0.093096524477005
         },
         {
          "i": 445,
          "loss": 0.09293081611394882
         },
         {
          "i": 446,
          "loss": 0.09276597201824188
         },
         {
          "i": 447,
          "loss": 0.09260202199220657
         },
         {
          "i": 448,
          "loss": 0.0924389436841011
         },
         {
          "i": 449,
          "loss": 0.09227678179740906
         },
         {
          "i": 450,
          "loss": 0.09211543947458267
         },
         {
          "i": 451,
          "loss": 0.09195493906736374
         },
         {
          "i": 452,
          "loss": 0.09179529547691345
         },
         {
          "i": 453,
          "loss": 0.09163641929626465
         },
         {
          "i": 454,
          "loss": 0.0914783701300621
         },
         {
          "i": 455,
          "loss": 0.09132113307714462
         },
         {
          "i": 456,
          "loss": 0.09116467833518982
         },
         {
          "i": 457,
          "loss": 0.09100903570652008
         },
         {
          "i": 458,
          "loss": 0.09085413068532944
         },
         {
          "i": 459,
          "loss": 0.09069995582103729
         },
         {
          "i": 460,
          "loss": 0.09054657071828842
         },
         {
          "i": 461,
          "loss": 0.09039390832185745
         },
         {
          "i": 462,
          "loss": 0.0902419462800026
         },
         {
          "i": 463,
          "loss": 0.09009072184562683
         },
         {
          "i": 464,
          "loss": 0.08994021266698837
         },
         {
          "i": 465,
          "loss": 0.08979037404060364
         },
         {
          "i": 466,
          "loss": 0.08964130282402039
         },
         {
          "i": 467,
          "loss": 0.08949287235736847
         },
         {
          "i": 468,
          "loss": 0.08934508264064789
         },
         {
          "i": 469,
          "loss": 0.0891980230808258
         },
         {
          "i": 470,
          "loss": 0.08905158936977386
         },
         {
          "i": 471,
          "loss": 0.08890578150749207
         },
         {
          "i": 472,
          "loss": 0.08876065909862518
         },
         {
          "i": 473,
          "loss": 0.08861616998910904
         },
         {
          "i": 474,
          "loss": 0.08847230672836304
         },
         {
          "i": 475,
          "loss": 0.08832904696464539
         },
         {
          "i": 476,
          "loss": 0.08818639069795609
         },
         {
          "i": 477,
          "loss": 0.08804433047771454
         },
         {
          "i": 478,
          "loss": 0.08790293335914612
         },
         {
          "i": 479,
          "loss": 0.08776208013296127
         },
         {
          "i": 480,
          "loss": 0.08762186765670776
         },
         {
          "i": 481,
          "loss": 0.08748216927051544
         },
         {
          "i": 482,
          "loss": 0.08734308928251266
         },
         {
          "i": 483,
          "loss": 0.08720450103282928
         },
         {
          "i": 484,
          "loss": 0.08706655353307724
         },
         {
          "i": 485,
          "loss": 0.08692912012338638
         },
         {
          "i": 486,
          "loss": 0.08679229021072388
         },
         {
          "i": 487,
          "loss": 0.08665592968463898
         },
         {
          "i": 488,
          "loss": 0.08652013540267944
         },
         {
          "i": 489,
          "loss": 0.0863846018910408
         },
         {
          "i": 490,
          "loss": 0.08624733984470367
         },
         {
          "i": 491,
          "loss": 0.08611059933900833
         },
         {
          "i": 492,
          "loss": 0.08597439527511597
         },
         {
          "i": 493,
          "loss": 0.085838682949543
         },
         {
          "i": 494,
          "loss": 0.08570350706577301
         },
         {
          "i": 495,
          "loss": 0.08556884527206421
         },
         {
          "i": 496,
          "loss": 0.0854346752166748
         },
         {
          "i": 497,
          "loss": 0.08530101180076599
         },
         {
          "i": 498,
          "loss": 0.08516786247491837
         },
         {
          "i": 499,
          "loss": 0.08503510802984238
         }
        ]
       },
       "encoding": {
        "x": {
         "field": "i",
         "type": "quantitative"
        },
        "y": {
         "field": "loss",
         "type": "quantitative"
        }
       },
       "height": 100,
       "mark": "line"
      },
      "image/png": "[encoded data removed]",
      "text/plain": [
       "<VegaLite 3 object>\n",
       "\n",
       "If you see this message, it means the renderer has not been properly enabled\n",
       "for the frontend that you are using. For more information, see\n",
       "https://altair-viz.github.io/user_guide/troubleshooting.html\n"
      ]
     },
     "execution_count": 54,
     "metadata": {},
     "output_type": "execute_result"
    }
   ],
   "source": [
    "loss_df = pd.DataFrame({'i':range(500), 'loss':loss_record})\n",
    "alt.Chart(loss_df, height=100).mark_line().encode(x='i', y='loss')"
   ]
  },
  {
   "cell_type": "code",
   "execution_count": 55,
   "metadata": {},
   "outputs": [
    {
     "data": {
      "application/vnd.vegalite.v3+json": {
       "$schema": "https://vega.github.io/schema/vega-lite/v3.4.0.json",
       "config": {
        "mark": {
         "tooltip": null
        },
        "view": {
         "height": 300,
         "width": 400
        }
       },
       "data": {
        "name": "data-87aa9a5e3a1fd62566484211c8e573a6"
       },
       "datasets": {
        "data-87aa9a5e3a1fd62566484211c8e573a6": [
         {
          "x1": -0.21044759452342987,
          "y": 0.044288188219070435,
          "ŷ": -0.2137705683708191
         },
         {
          "x1": -0.6604733467102051,
          "y": 0.436225026845932,
          "ŷ": 0.48819220066070557
         },
         {
          "x1": 0.8716042637825012,
          "y": 0.75969398021698,
          "ŷ": 1.1282635927200317
         },
         {
          "x1": -1.7523144483566284,
          "y": 3.070605993270874,
          "ŷ": 2.887709379196167
         },
         {
          "x1": -0.8665099143981934,
          "y": 0.7508394122123718,
          "ŷ": 0.9409946799278259
         },
         {
          "x1": -0.5512767434120178,
          "y": 0.30390605330467224,
          "ŷ": 0.248212993144989
         },
         {
          "x1": -0.10737483203411102,
          "y": 0.011529354378581047,
          "ŷ": -0.18059775233268738
         },
         {
          "x1": -0.400863915681839,
          "y": 0.16069187223911285,
          "ŷ": -0.0823463425040245
         },
         {
          "x1": -0.29436373710632324,
          "y": 0.08665000647306442,
          "ŷ": -0.24077802896499634
         },
         {
          "x1": 1.343360185623169,
          "y": 1.8046165704727173,
          "ŷ": 2.0019264221191406
         },
         {
          "x1": 0.8282321691513062,
          "y": 0.6859685182571411,
          "ŷ": 1.0479410886764526
         },
         {
          "x1": -0.1615026295185089,
          "y": 0.026083098724484444,
          "ŷ": -0.1980181783437729
         },
         {
          "x1": 1.4111882448196411,
          "y": 1.9914522171020508,
          "ŷ": 2.127539873123169
         },
         {
          "x1": -1.073236346244812,
          "y": 1.1518362760543823,
          "ŷ": 1.395313024520874
         },
         {
          "x1": 0.5100848078727722,
          "y": 0.2601865231990814,
          "ŷ": 0.459670752286911
         },
         {
          "x1": -0.8726041913032532,
          "y": 0.7614380717277527,
          "ŷ": 0.9543878436088562
         },
         {
          "x1": -1.1918479204177856,
          "y": 1.420501470565796,
          "ŷ": 1.6559830904006958
         },
         {
          "x1": 1.7876886129379272,
          "y": 3.1958305835723877,
          "ŷ": 2.8247950077056885
         },
         {
          "x1": 0.08728577196598053,
          "y": 0.007618805859237909,
          "ŷ": -0.018470603972673416
         },
         {
          "x1": -1.7302792072296143,
          "y": 2.993866205215454,
          "ŷ": 2.839282989501953
         },
         {
          "x1": 1.25747811794281,
          "y": 1.5812512636184692,
          "ŷ": 1.842877984046936
         },
         {
          "x1": 0.38858428597450256,
          "y": 0.15099774301052094,
          "ŷ": 0.3095812201499939
         },
         {
          "x1": -0.047662217170000076,
          "y": 0.002271686913445592,
          "ŷ": -0.16137993335723877
         },
         {
          "x1": 1.358357310295105,
          "y": 1.8451346158981323,
          "ŷ": 2.02970027923584
         },
         {
          "x1": 0.14193095266819,
          "y": 0.020144395530223846,
          "ŷ": 0.04102668538689613
         },
         {
          "x1": 1.4028066396713257,
          "y": 1.9678664207458496,
          "ŷ": 2.1120176315307617
         },
         {
          "x1": 1.1711505651474,
          "y": 1.3715935945510864,
          "ŷ": 1.6830047369003296
         },
         {
          "x1": 0.08994642645120621,
          "y": 0.008090360090136528,
          "ŷ": -0.015573722310364246
         },
         {
          "x1": -0.09079627692699432,
          "y": 0.008243964053690434,
          "ŷ": -0.17526215314865112
         },
         {
          "x1": -0.3054927587509155,
          "y": 0.09332582354545593,
          "ŷ": -0.24435973167419434
         },
         {
          "x1": -0.3891339898109436,
          "y": 0.15142525732517242,
          "ŷ": -0.10812488943338394
         },
         {
          "x1": 0.39224809408187866,
          "y": 0.15385857224464417,
          "ŷ": 0.3135703206062317
         },
         {
          "x1": -0.9921566843986511,
          "y": 0.9843748807907104,
          "ŷ": 1.2171260118484497
         },
         {
          "x1": 0.2673608958721161,
          "y": 0.0714818462729454,
          "ŷ": 0.17759399116039276
         },
         {
          "x1": -0.7316256165504456,
          "y": 0.5352760553359985,
          "ŷ": 0.6445621252059937
         },
         {
          "x1": -0.45698708295822144,
          "y": 0.20883719623088837,
          "ŷ": 0.04099446162581444
         },
         {
          "x1": 0.6343969106674194,
          "y": 0.40245944261550903,
          "ŷ": 0.6889702677726746
         },
         {
          "x1": -1.690049648284912,
          "y": 2.8562679290771484,
          "ŷ": 2.7508718967437744
         },
         {
          "x1": 1.0443217754364014,
          "y": 1.09060800075531,
          "ŷ": 1.4481257200241089
         },
         {
          "x1": 0.05444309115409851,
          "y": 0.0029640502762049437,
          "ŷ": -0.054229509085416794
         },
         {
          "x1": 0.03205037862062454,
          "y": 0.0010272267973050475,
          "ŷ": -0.07861056178808212
         },
         {
          "x1": -0.6575558185577393,
          "y": 0.43237966299057007,
          "ŷ": 0.48178040981292725
         },
         {
          "x1": 0.20803049206733704,
          "y": 0.04327668622136116,
          "ŷ": 0.1129954382777214
         },
         {
          "x1": -0.2391589879989624,
          "y": 0.057197023183107376,
          "ŷ": -0.22301098704338074
         },
         {
          "x1": 0.06740854680538177,
          "y": 0.004543912131339312,
          "ŷ": -0.04011281952261925
         },
         {
          "x1": -0.8231052756309509,
          "y": 0.6775022745132446,
          "ŷ": 0.8456050753593445
         },
         {
          "x1": -0.43921300768852234,
          "y": 0.19290806353092194,
          "ŷ": 0.001932765357196331
         },
         {
          "x1": 1.0508776903152466,
          "y": 1.1043438911437988,
          "ŷ": 1.4602668285369873
         },
         {
          "x1": -2.1738815307617188,
          "y": 4.7257609367370605,
          "ŷ": 3.8141791820526123
         },
         {
          "x1": -0.23070865869522095,
          "y": 0.05322648584842682,
          "ŷ": -0.22029133141040802
         },
         {
          "x1": -0.5818177461624146,
          "y": 0.3385118842124939,
          "ŷ": 0.315332293510437
         },
         {
          "x1": 0.5139430165290833,
          "y": 0.2641374170780182,
          "ŷ": 0.46632716059684753
         },
         {
          "x1": 0.49028947949409485,
          "y": 0.24038377404212952,
          "ŷ": 0.423103004693985
         },
         {
          "x1": -1.1138015985488892,
          "y": 1.2405539751052856,
          "ŷ": 1.4844623804092407
         },
         {
          "x1": 0.12339023500680923,
          "y": 0.015225149691104889,
          "ŷ": 0.020839672535657883
         },
         {
          "x1": 2.173647403717041,
          "y": 4.724742889404297,
          "ŷ": 3.539567232131958
         },
         {
          "x1": 0.11898857355117798,
          "y": 0.014158280566334724,
          "ŷ": 0.016047175973653793
         },
         {
          "x1": 1.0466665029525757,
          "y": 1.095510721206665,
          "ŷ": 1.452467918395996
         },
         {
          "x1": -1.946780800819397,
          "y": 3.7899553775787354,
          "ŷ": 3.31508469581604
         },
         {
          "x1": 0.40191012620925903,
          "y": 0.1615317463874817,
          "ŷ": 0.32409030199050903
         },
         {
          "x1": -1.6342791318893433,
          "y": 2.670868396759033,
          "ŷ": 2.6283061504364014
         },
         {
          "x1": 1.5164802074432373,
          "y": 2.2997121810913086,
          "ŷ": 2.3225338459014893
         },
         {
          "x1": -0.029035750776529312,
          "y": 0.0008430748130194843,
          "ŷ": -0.14512072503566742
         },
         {
          "x1": -1.1237037181854248,
          "y": 1.2627100944519043,
          "ŷ": 1.5062243938446045
         },
         {
          "x1": -1.160097599029541,
          "y": 1.3458263874053955,
          "ŷ": 1.5862061977386475
         },
         {
          "x1": -1.1003212928771973,
          "y": 1.2107069492340088,
          "ŷ": 1.4548369646072388
         },
         {
          "x1": 1.8463060855865479,
          "y": 3.408846139907837,
          "ŷ": 2.9333510398864746
         },
         {
          "x1": -1.0422722101211548,
          "y": 1.0863313674926758,
          "ŷ": 1.3272639513015747
         },
         {
          "x1": -1.144771695137024,
          "y": 1.310502290725708,
          "ŷ": 1.5525249242782593
         },
         {
          "x1": 1.0619876384735107,
          "y": 1.1278177499771118,
          "ŷ": 1.4808417558670044
         },
         {
          "x1": 1.7964468002319336,
          "y": 3.2272210121154785,
          "ŷ": 2.841014862060547
         },
         {
          "x1": -1.6481693983078003,
          "y": 2.7164623737335205,
          "ŷ": 2.65883207321167
         },
         {
          "x1": 0.526267945766449,
          "y": 0.2769579589366913,
          "ŷ": 0.4887220859527588
         },
         {
          "x1": 0.11293739080429077,
          "y": 0.012754853814840317,
          "ŷ": 0.009458701126277447
         },
         {
          "x1": -0.32976317405700684,
          "y": 0.10874374955892563,
          "ŷ": -0.23860295116901398
         },
         {
          "x1": -1.1838622093200684,
          "y": 1.4015297889709473,
          "ŷ": 1.6384333372116089
         },
         {
          "x1": -1.0334559679031372,
          "y": 1.0680311918258667,
          "ŷ": 1.3078885078430176
         },
         {
          "x1": -1.444472074508667,
          "y": 2.0864996910095215,
          "ŷ": 2.2111709117889404
         },
         {
          "x1": 0.721885621547699,
          "y": 0.5211188793182373,
          "ŷ": 0.8509939908981323
         },
         {
          "x1": 0.7912628650665283,
          "y": 0.6260969042778015,
          "ŷ": 0.979476273059845
         },
         {
          "x1": -0.5104517340660095,
          "y": 0.2605609595775604,
          "ŷ": 0.15849259495735168
         },
         {
          "x1": -0.1222904697060585,
          "y": 0.01495495904237032,
          "ŷ": -0.1853981912136078
         },
         {
          "x1": -1.0066747665405273,
          "y": 1.0133941173553467,
          "ŷ": 1.249031901359558
         },
         {
          "x1": 0.6246020197868347,
          "y": 0.39012768864631653,
          "ŷ": 0.6708307266235352
         },
         {
          "x1": -1.106722354888916,
          "y": 1.2248343229293823,
          "ŷ": 1.4689044952392578
         },
         {
          "x1": -0.7013996839523315,
          "y": 0.4919615089893341,
          "ŷ": 0.578135073184967
         },
         {
          "x1": 1.1268812417984009,
          "y": 1.2698613405227661,
          "ŷ": 1.6010206937789917
         },
         {
          "x1": 0.31357699632644653,
          "y": 0.0983305349946022,
          "ŷ": 0.2279137372970581
         },
         {
          "x1": -1.401705026626587,
          "y": 1.9647769927978516,
          "ŷ": 2.117182493209839
         },
         {
          "x1": -0.5690528750419617,
          "y": 0.32382118701934814,
          "ŷ": 0.2872791290283203
         },
         {
          "x1": -0.804800271987915,
          "y": 0.6477034687995911,
          "ŷ": 0.8053765296936035
         },
         {
          "x1": 0.5765618085861206,
          "y": 0.33242350816726685,
          "ŷ": 0.5818631649017334
         },
         {
          "x1": 2.1572165489196777,
          "y": 4.65358304977417,
          "ŷ": 3.5091381072998047
         },
         {
          "x1": -0.40914252400398254,
          "y": 0.167397603392601,
          "ŷ": -0.06415260583162308
         },
         {
          "x1": -0.8148020505905151,
          "y": 0.6639024019241333,
          "ŷ": 0.8273573517799377
         },
         {
          "x1": -0.2723713517189026,
          "y": 0.07418615370988846,
          "ŷ": -0.2337000072002411
         },
         {
          "x1": -0.7064719796180725,
          "y": 0.4991026520729065,
          "ŷ": 0.5892825126647949
         },
         {
          "x1": 1.0492830276489258,
          "y": 1.1009948253631592,
          "ŷ": 1.4573135375976562
         },
         {
          "x1": 0.005054289475083351,
          "y": 2.554584170866292e-05,
          "ŷ": -0.10800370573997498
         },
         {
          "x1": 0.2229662388563156,
          "y": 0.049713943153619766,
          "ŷ": 0.12925735116004944
         }
        ]
       },
       "layer": [
        {
         "encoding": {
          "x": {
           "field": "x1",
           "type": "quantitative"
          },
          "y": {
           "field": "ŷ",
           "type": "quantitative"
          }
         },
         "mark": "line"
        },
        {
         "encoding": {
          "x": {
           "field": "x1",
           "type": "quantitative"
          },
          "y": {
           "field": "y",
           "type": "quantitative"
          }
         },
         "mark": "point"
        }
       ]
      },
      "image/png": "[encoded data removed]",
      "text/plain": [
       "<VegaLite 3 object>\n",
       "\n",
       "If you see this message, it means the renderer has not been properly enabled\n",
       "for the frontend that you are using. For more information, see\n",
       "https://altair-viz.github.io/user_guide/troubleshooting.html\n"
      ]
     },
     "execution_count": 55,
     "metadata": {},
     "output_type": "execute_result"
    }
   ],
   "source": [
    "preds = pd.DataFrame({'ŷ':ŷ.detach().numpy()[:,0], 'y':y[:,0], 'x1':x[:,0]})\n",
    "(alt.Chart(preds).mark_line().encode(x='x1', y='ŷ') + \n",
    "alt.Chart(preds).mark_point().encode(x='x1', y='y'))"
   ]
  },
  {
   "cell_type": "markdown",
   "metadata": {},
   "source": [
    "And now the loss is lower and the fit is clearly much improved. "
   ]
  },
  {
   "cell_type": "markdown",
   "metadata": {},
   "source": [
    "### Conclusion"
   ]
  },
  {
   "cell_type": "markdown",
   "metadata": {},
   "source": [
    "We saw how we can get a nonlinear fit out of stacking linear models and nonlinear activation functions together."
   ]
  },
  {
   "cell_type": "markdown",
   "metadata": {},
   "source": [
    "# Abstracting the \"Layer\""
   ]
  },
  {
   "cell_type": "markdown",
   "metadata": {},
   "source": [
    "Since we'll be stacking layers of arbitrary size arbitrarily deep, we might as well abstract away some of the code we need so we don't have to keep track of all the parameters in the model."
   ]
  },
  {
   "cell_type": "markdown",
   "metadata": {},
   "source": [
    "We'll first define a `LinearLayer` class that transforms a representation of size `h1` to one of size `h2`."
   ]
  },
  {
   "cell_type": "code",
   "execution_count": 56,
   "metadata": {},
   "outputs": [],
   "source": [
    "class LinearLayer():\n",
    "    def __init__(self, h1, h2):\n",
    "        self.W = torch.randn(h1,h2).requires_grad_()\n",
    "        self.b = torch.randn(1,h2).requires_grad_()\n",
    "    \n",
    "    def __call__(self, x):\n",
    "        return torch.matmul(x, self.W) + self.b\n",
    "    \n",
    "    def step(self, ϵ):\n",
    "        with torch.no_grad():\n",
    "            self.W -= ϵ * self.W.grad\n",
    "            self.b -= ϵ * self.b.grad\n",
    "            self.W.grad.zero_()        \n",
    "            self.b.grad.zero_()"
   ]
  },
  {
   "cell_type": "markdown",
   "metadata": {},
   "source": [
    "And now we can stack up as many of these as we want, of whatever sizes we want"
   ]
  },
  {
   "cell_type": "code",
   "execution_count": 57,
   "metadata": {},
   "outputs": [],
   "source": [
    "from torch.nn.functional import relu\n",
    "\n",
    "class Model():\n",
    "    def __init__(self, sizes):\n",
    "        sizes_shifted = sizes[1:] + [1]\n",
    "        self.layers = [LinearLayer(h1,h2) for h1, h2 in zip(sizes, sizes_shifted)]\n",
    "        self.activation = relu\n",
    "    \n",
    "    def __call__(self,x):\n",
    "        for layer in self.layers[:-1]:\n",
    "            x = self.activation(layer(x))\n",
    "        return self.layers[-1](x)\n",
    "    \n",
    "    def step(self,ϵ):\n",
    "        for layer in self.layers:\n",
    "            layer.step(ϵ)"
   ]
  },
  {
   "cell_type": "markdown",
   "metadata": {},
   "source": [
    "check it out:"
   ]
  },
  {
   "cell_type": "code",
   "execution_count": 58,
   "metadata": {},
   "outputs": [],
   "source": [
    "n= 100\n",
    "p = 1\n",
    "\n",
    "x = torch.randn(n, p) # predictors (n observations, p features)\n",
    "y = (x[:,0]**2).unsqueeze(dim=1) # outcomes (n observations)\n",
    "\n",
    "my_model = Model([1,10,10])\n",
    "L = torch.sum((y - my_model(x))**2)/n"
   ]
  },
  {
   "cell_type": "code",
   "execution_count": 59,
   "metadata": {},
   "outputs": [
    {
     "data": {
      "image/svg+xml": [
       "<?xml version=\"1.0\" encoding=\"UTF-8\" standalone=\"no\"?>\n",
       "<!DOCTYPE svg PUBLIC \"-//W3C//DTD SVG 1.1//EN\"\n",
       " \"http://www.w3.org/Graphics/SVG/1.1/DTD/svg11.dtd\">\n",
       "<!-- Generated by graphviz version 2.43.0 (0)\n",
       " -->\n",
       "<!-- Title: %3 Pages: 1 -->\n",
       "<svg width=\"342pt\" height=\"772pt\"\n",
       " viewBox=\"0.00 0.00 342.32 772.00\" xmlns=\"http://www.w3.org/2000/svg\" xmlns:xlink=\"http://www.w3.org/1999/xlink\">\n",
       "<g id=\"graph0\" class=\"graph\" transform=\"scale(1 1) rotate(0) translate(4 768)\">\n",
       "<title>%3</title>\n",
       "<polygon fill=\"white\" stroke=\"transparent\" points=\"-4,4 -4,-768 338.32,-768 338.32,4 -4,4\"/>\n",
       "<!-- 4928354960 -->\n",
       "<g id=\"node1\" class=\"node\">\n",
       "<title>4928354960</title>\n",
       "<polygon fill=\"#caff70\" stroke=\"black\" points=\"307.47,-20 219.18,-20 219.18,0 307.47,0 307.47,-20\"/>\n",
       "<text text-anchor=\"middle\" x=\"263.32\" y=\"-6.4\" font-family=\"Times,serif\" font-size=\"12.00\">DivBackward0</text>\n",
       "</g>\n",
       "<!-- 4975657744 -->\n",
       "<g id=\"node2\" class=\"node\">\n",
       "<title>4975657744</title>\n",
       "<polygon fill=\"lightgrey\" stroke=\"black\" points=\"309.48,-76 217.17,-76 217.17,-56 309.48,-56 309.48,-76\"/>\n",
       "<text text-anchor=\"middle\" x=\"263.32\" y=\"-62.4\" font-family=\"Times,serif\" font-size=\"12.00\">SumBackward0</text>\n",
       "</g>\n",
       "<!-- 4975657744&#45;&gt;4928354960 -->\n",
       "<g id=\"edge1\" class=\"edge\">\n",
       "<title>4975657744&#45;&gt;4928354960</title>\n",
       "<path fill=\"none\" stroke=\"black\" d=\"M263.32,-55.59C263.32,-48.7 263.32,-39.1 263.32,-30.57\"/>\n",
       "<polygon fill=\"black\" stroke=\"black\" points=\"266.82,-30.3 263.32,-20.3 259.82,-30.3 266.82,-30.3\"/>\n",
       "</g>\n",
       "<!-- 4975659408 -->\n",
       "<g id=\"node3\" class=\"node\">\n",
       "<title>4975659408</title>\n",
       "<polygon fill=\"lightgrey\" stroke=\"black\" points=\"309.31,-132 217.34,-132 217.34,-112 309.31,-112 309.31,-132\"/>\n",
       "<text text-anchor=\"middle\" x=\"263.32\" y=\"-118.4\" font-family=\"Times,serif\" font-size=\"12.00\">PowBackward0</text>\n",
       "</g>\n",
       "<!-- 4975659408&#45;&gt;4975657744 -->\n",
       "<g id=\"edge2\" class=\"edge\">\n",
       "<title>4975659408&#45;&gt;4975657744</title>\n",
       "<path fill=\"none\" stroke=\"black\" d=\"M263.32,-111.59C263.32,-104.7 263.32,-95.1 263.32,-86.57\"/>\n",
       "<polygon fill=\"black\" stroke=\"black\" points=\"266.82,-86.3 263.32,-76.3 259.82,-86.3 266.82,-86.3\"/>\n",
       "</g>\n",
       "<!-- 4975658128 -->\n",
       "<g id=\"node4\" class=\"node\">\n",
       "<title>4975658128</title>\n",
       "<polygon fill=\"lightgrey\" stroke=\"black\" points=\"308.14,-188 218.51,-188 218.51,-168 308.14,-168 308.14,-188\"/>\n",
       "<text text-anchor=\"middle\" x=\"263.32\" y=\"-174.4\" font-family=\"Times,serif\" font-size=\"12.00\">SubBackward0</text>\n",
       "</g>\n",
       "<!-- 4975658128&#45;&gt;4975659408 -->\n",
       "<g id=\"edge3\" class=\"edge\">\n",
       "<title>4975658128&#45;&gt;4975659408</title>\n",
       "<path fill=\"none\" stroke=\"black\" d=\"M263.32,-167.59C263.32,-160.7 263.32,-151.1 263.32,-142.57\"/>\n",
       "<polygon fill=\"black\" stroke=\"black\" points=\"266.82,-142.3 263.32,-132.3 259.82,-142.3 266.82,-142.3\"/>\n",
       "</g>\n",
       "<!-- 4975659088 -->\n",
       "<g id=\"node5\" class=\"node\">\n",
       "<title>4975659088</title>\n",
       "<polygon fill=\"lightgrey\" stroke=\"black\" points=\"309.14,-244 217.51,-244 217.51,-224 309.14,-224 309.14,-244\"/>\n",
       "<text text-anchor=\"middle\" x=\"263.32\" y=\"-230.4\" font-family=\"Times,serif\" font-size=\"12.00\">AddBackward0</text>\n",
       "</g>\n",
       "<!-- 4975659088&#45;&gt;4975658128 -->\n",
       "<g id=\"edge4\" class=\"edge\">\n",
       "<title>4975659088&#45;&gt;4975658128</title>\n",
       "<path fill=\"none\" stroke=\"black\" d=\"M263.32,-223.59C263.32,-216.7 263.32,-207.1 263.32,-198.57\"/>\n",
       "<polygon fill=\"black\" stroke=\"black\" points=\"266.82,-198.3 263.32,-188.3 259.82,-198.3 266.82,-198.3\"/>\n",
       "</g>\n",
       "<!-- 4975659536 -->\n",
       "<g id=\"node6\" class=\"node\">\n",
       "<title>4975659536</title>\n",
       "<polygon fill=\"lightgrey\" stroke=\"black\" points=\"262.47,-306 178.18,-306 178.18,-286 262.47,-286 262.47,-306\"/>\n",
       "<text text-anchor=\"middle\" x=\"220.32\" y=\"-292.4\" font-family=\"Times,serif\" font-size=\"12.00\">MmBackward</text>\n",
       "</g>\n",
       "<!-- 4975659536&#45;&gt;4975659088 -->\n",
       "<g id=\"edge5\" class=\"edge\">\n",
       "<title>4975659536&#45;&gt;4975659088</title>\n",
       "<path fill=\"none\" stroke=\"black\" d=\"M226.85,-285.89C233.17,-277.08 242.9,-263.5 250.73,-252.58\"/>\n",
       "<polygon fill=\"black\" stroke=\"black\" points=\"253.75,-254.37 256.73,-244.2 248.06,-250.29 253.75,-254.37\"/>\n",
       "</g>\n",
       "<!-- 4975658768 -->\n",
       "<g id=\"node7\" class=\"node\">\n",
       "<title>4975658768</title>\n",
       "<polygon fill=\"lightgrey\" stroke=\"black\" points=\"221.13,-374 127.52,-374 127.52,-354 221.13,-354 221.13,-374\"/>\n",
       "<text text-anchor=\"middle\" x=\"174.32\" y=\"-360.4\" font-family=\"Times,serif\" font-size=\"12.00\">ReluBackward0</text>\n",
       "</g>\n",
       "<!-- 4975658768&#45;&gt;4975659536 -->\n",
       "<g id=\"edge6\" class=\"edge\">\n",
       "<title>4975658768&#45;&gt;4975659536</title>\n",
       "<path fill=\"none\" stroke=\"black\" d=\"M180.72,-353.82C187.79,-343.68 199.35,-327.1 208.16,-314.46\"/>\n",
       "<polygon fill=\"black\" stroke=\"black\" points=\"211.14,-316.3 213.98,-306.1 205.39,-312.3 211.14,-316.3\"/>\n",
       "</g>\n",
       "<!-- 4975660368 -->\n",
       "<g id=\"node8\" class=\"node\">\n",
       "<title>4975660368</title>\n",
       "<polygon fill=\"lightgrey\" stroke=\"black\" points=\"220.14,-436 128.51,-436 128.51,-416 220.14,-416 220.14,-436\"/>\n",
       "<text text-anchor=\"middle\" x=\"174.32\" y=\"-422.4\" font-family=\"Times,serif\" font-size=\"12.00\">AddBackward0</text>\n",
       "</g>\n",
       "<!-- 4975660368&#45;&gt;4975658768 -->\n",
       "<g id=\"edge7\" class=\"edge\">\n",
       "<title>4975660368&#45;&gt;4975658768</title>\n",
       "<path fill=\"none\" stroke=\"black\" d=\"M174.32,-415.89C174.32,-407.52 174.32,-394.84 174.32,-384.23\"/>\n",
       "<polygon fill=\"black\" stroke=\"black\" points=\"177.82,-384.2 174.32,-374.2 170.82,-384.2 177.82,-384.2\"/>\n",
       "</g>\n",
       "<!-- 4975657232 -->\n",
       "<g id=\"node9\" class=\"node\">\n",
       "<title>4975657232</title>\n",
       "<polygon fill=\"lightgrey\" stroke=\"black\" points=\"173.47,-498 89.18,-498 89.18,-478 173.47,-478 173.47,-498\"/>\n",
       "<text text-anchor=\"middle\" x=\"131.32\" y=\"-484.4\" font-family=\"Times,serif\" font-size=\"12.00\">MmBackward</text>\n",
       "</g>\n",
       "<!-- 4975657232&#45;&gt;4975660368 -->\n",
       "<g id=\"edge8\" class=\"edge\">\n",
       "<title>4975657232&#45;&gt;4975660368</title>\n",
       "<path fill=\"none\" stroke=\"black\" d=\"M137.85,-477.89C144.17,-469.08 153.9,-455.5 161.73,-444.58\"/>\n",
       "<polygon fill=\"black\" stroke=\"black\" points=\"164.75,-446.37 167.73,-436.2 159.06,-442.29 164.75,-446.37\"/>\n",
       "</g>\n",
       "<!-- 4975660240 -->\n",
       "<g id=\"node10\" class=\"node\">\n",
       "<title>4975660240</title>\n",
       "<polygon fill=\"lightgrey\" stroke=\"black\" points=\"132.13,-566 38.52,-566 38.52,-546 132.13,-546 132.13,-566\"/>\n",
       "<text text-anchor=\"middle\" x=\"85.32\" y=\"-552.4\" font-family=\"Times,serif\" font-size=\"12.00\">ReluBackward0</text>\n",
       "</g>\n",
       "<!-- 4975660240&#45;&gt;4975657232 -->\n",
       "<g id=\"edge9\" class=\"edge\">\n",
       "<title>4975660240&#45;&gt;4975657232</title>\n",
       "<path fill=\"none\" stroke=\"black\" d=\"M91.72,-545.82C98.79,-535.68 110.35,-519.1 119.16,-506.46\"/>\n",
       "<polygon fill=\"black\" stroke=\"black\" points=\"122.14,-508.3 124.98,-498.1 116.39,-504.3 122.14,-508.3\"/>\n",
       "</g>\n",
       "<!-- 4975660752 -->\n",
       "<g id=\"node11\" class=\"node\">\n",
       "<title>4975660752</title>\n",
       "<polygon fill=\"lightgrey\" stroke=\"black\" points=\"131.14,-628 39.51,-628 39.51,-608 131.14,-608 131.14,-628\"/>\n",
       "<text text-anchor=\"middle\" x=\"85.32\" y=\"-614.4\" font-family=\"Times,serif\" font-size=\"12.00\">AddBackward0</text>\n",
       "</g>\n",
       "<!-- 4975660752&#45;&gt;4975660240 -->\n",
       "<g id=\"edge10\" class=\"edge\">\n",
       "<title>4975660752&#45;&gt;4975660240</title>\n",
       "<path fill=\"none\" stroke=\"black\" d=\"M85.32,-607.89C85.32,-599.52 85.32,-586.84 85.32,-576.23\"/>\n",
       "<polygon fill=\"black\" stroke=\"black\" points=\"88.82,-576.2 85.32,-566.2 81.82,-576.2 88.82,-576.2\"/>\n",
       "</g>\n",
       "<!-- 4975658320 -->\n",
       "<g id=\"node12\" class=\"node\">\n",
       "<title>4975658320</title>\n",
       "<polygon fill=\"lightgrey\" stroke=\"black\" points=\"84.47,-690 0.18,-690 0.18,-670 84.47,-670 84.47,-690\"/>\n",
       "<text text-anchor=\"middle\" x=\"42.32\" y=\"-676.4\" font-family=\"Times,serif\" font-size=\"12.00\">MmBackward</text>\n",
       "</g>\n",
       "<!-- 4975658320&#45;&gt;4975660752 -->\n",
       "<g id=\"edge11\" class=\"edge\">\n",
       "<title>4975658320&#45;&gt;4975660752</title>\n",
       "<path fill=\"none\" stroke=\"black\" d=\"M48.85,-669.89C55.17,-661.08 64.9,-647.5 72.73,-636.58\"/>\n",
       "<polygon fill=\"black\" stroke=\"black\" points=\"75.75,-638.37 78.73,-628.2 70.06,-634.29 75.75,-638.37\"/>\n",
       "</g>\n",
       "<!-- 4975659344 -->\n",
       "<g id=\"node13\" class=\"node\">\n",
       "<title>4975659344</title>\n",
       "<polygon fill=\"lightblue\" stroke=\"black\" points=\"69.32,-764 15.32,-764 15.32,-732 69.32,-732 69.32,-764\"/>\n",
       "<text text-anchor=\"middle\" x=\"42.32\" y=\"-750.4\" font-family=\"Times,serif\" font-size=\"12.00\">W0</text>\n",
       "<text text-anchor=\"middle\" x=\"42.32\" y=\"-738.4\" font-family=\"Times,serif\" font-size=\"12.00\"> (1, 10)</text>\n",
       "</g>\n",
       "<!-- 4975659344&#45;&gt;4975658320 -->\n",
       "<g id=\"edge12\" class=\"edge\">\n",
       "<title>4975659344&#45;&gt;4975658320</title>\n",
       "<path fill=\"none\" stroke=\"black\" d=\"M42.32,-731.69C42.32,-722.4 42.32,-710.44 42.32,-700.47\"/>\n",
       "<polygon fill=\"black\" stroke=\"black\" points=\"45.82,-700.32 42.32,-690.32 38.82,-700.32 45.82,-700.32\"/>\n",
       "</g>\n",
       "<!-- 4975658576 -->\n",
       "<g id=\"node14\" class=\"node\">\n",
       "<title>4975658576</title>\n",
       "<polygon fill=\"lightblue\" stroke=\"black\" points=\"156.32,-696 102.32,-696 102.32,-664 156.32,-664 156.32,-696\"/>\n",
       "<text text-anchor=\"middle\" x=\"129.32\" y=\"-682.4\" font-family=\"Times,serif\" font-size=\"12.00\">b0</text>\n",
       "<text text-anchor=\"middle\" x=\"129.32\" y=\"-670.4\" font-family=\"Times,serif\" font-size=\"12.00\"> (1, 10)</text>\n",
       "</g>\n",
       "<!-- 4975658576&#45;&gt;4975660752 -->\n",
       "<g id=\"edge13\" class=\"edge\">\n",
       "<title>4975658576&#45;&gt;4975660752</title>\n",
       "<path fill=\"none\" stroke=\"black\" d=\"M118.22,-663.86C112.1,-655.51 104.47,-645.11 98.1,-636.42\"/>\n",
       "<polygon fill=\"black\" stroke=\"black\" points=\"100.77,-634.15 92.04,-628.15 95.13,-638.29 100.77,-634.15\"/>\n",
       "</g>\n",
       "<!-- 4975658704 -->\n",
       "<g id=\"node15\" class=\"node\">\n",
       "<title>4975658704</title>\n",
       "<polygon fill=\"lightblue\" stroke=\"black\" points=\"206.82,-572 149.83,-572 149.83,-540 206.82,-540 206.82,-572\"/>\n",
       "<text text-anchor=\"middle\" x=\"178.32\" y=\"-558.4\" font-family=\"Times,serif\" font-size=\"12.00\">W1</text>\n",
       "<text text-anchor=\"middle\" x=\"178.32\" y=\"-546.4\" font-family=\"Times,serif\" font-size=\"12.00\"> (10, 10)</text>\n",
       "</g>\n",
       "<!-- 4975658704&#45;&gt;4975657232 -->\n",
       "<g id=\"edge14\" class=\"edge\">\n",
       "<title>4975658704&#45;&gt;4975657232</title>\n",
       "<path fill=\"none\" stroke=\"black\" d=\"M167.42,-539.69C160.38,-529.8 151.18,-516.89 143.84,-506.57\"/>\n",
       "<polygon fill=\"black\" stroke=\"black\" points=\"146.61,-504.43 137.96,-498.32 140.91,-508.49 146.61,-504.43\"/>\n",
       "</g>\n",
       "<!-- 4975657680 -->\n",
       "<g id=\"node16\" class=\"node\">\n",
       "<title>4975657680</title>\n",
       "<polygon fill=\"lightblue\" stroke=\"black\" points=\"245.32,-504 191.32,-504 191.32,-472 245.32,-472 245.32,-504\"/>\n",
       "<text text-anchor=\"middle\" x=\"218.32\" y=\"-490.4\" font-family=\"Times,serif\" font-size=\"12.00\">b1</text>\n",
       "<text text-anchor=\"middle\" x=\"218.32\" y=\"-478.4\" font-family=\"Times,serif\" font-size=\"12.00\"> (1, 10)</text>\n",
       "</g>\n",
       "<!-- 4975657680&#45;&gt;4975660368 -->\n",
       "<g id=\"edge15\" class=\"edge\">\n",
       "<title>4975657680&#45;&gt;4975660368</title>\n",
       "<path fill=\"none\" stroke=\"black\" d=\"M207.22,-471.86C201.1,-463.51 193.47,-453.11 187.1,-444.42\"/>\n",
       "<polygon fill=\"black\" stroke=\"black\" points=\"189.77,-442.15 181.04,-436.15 184.13,-446.29 189.77,-442.15\"/>\n",
       "</g>\n",
       "<!-- 4975658512 -->\n",
       "<g id=\"node17\" class=\"node\">\n",
       "<title>4975658512</title>\n",
       "<polygon fill=\"lightblue\" stroke=\"black\" points=\"293.32,-380 239.32,-380 239.32,-348 293.32,-348 293.32,-380\"/>\n",
       "<text text-anchor=\"middle\" x=\"266.32\" y=\"-366.4\" font-family=\"Times,serif\" font-size=\"12.00\">W2</text>\n",
       "<text text-anchor=\"middle\" x=\"266.32\" y=\"-354.4\" font-family=\"Times,serif\" font-size=\"12.00\"> (10, 1)</text>\n",
       "</g>\n",
       "<!-- 4975658512&#45;&gt;4975659536 -->\n",
       "<g id=\"edge16\" class=\"edge\">\n",
       "<title>4975658512&#45;&gt;4975659536</title>\n",
       "<path fill=\"none\" stroke=\"black\" d=\"M255.66,-347.69C248.76,-337.8 239.76,-324.89 232.57,-314.57\"/>\n",
       "<polygon fill=\"black\" stroke=\"black\" points=\"235.41,-312.52 226.82,-306.32 229.66,-316.52 235.41,-312.52\"/>\n",
       "</g>\n",
       "<!-- 4975658192 -->\n",
       "<g id=\"node18\" class=\"node\">\n",
       "<title>4975658192</title>\n",
       "<polygon fill=\"lightblue\" stroke=\"black\" points=\"334.32,-312 280.32,-312 280.32,-280 334.32,-280 334.32,-312\"/>\n",
       "<text text-anchor=\"middle\" x=\"307.32\" y=\"-298.4\" font-family=\"Times,serif\" font-size=\"12.00\">b2</text>\n",
       "<text text-anchor=\"middle\" x=\"307.32\" y=\"-286.4\" font-family=\"Times,serif\" font-size=\"12.00\"> (1, 1)</text>\n",
       "</g>\n",
       "<!-- 4975658192&#45;&gt;4975659088 -->\n",
       "<g id=\"edge17\" class=\"edge\">\n",
       "<title>4975658192&#45;&gt;4975659088</title>\n",
       "<path fill=\"none\" stroke=\"black\" d=\"M296.22,-279.86C290.1,-271.51 282.47,-261.11 276.1,-252.42\"/>\n",
       "<polygon fill=\"black\" stroke=\"black\" points=\"278.77,-250.15 270.04,-244.15 273.13,-254.29 278.77,-250.15\"/>\n",
       "</g>\n",
       "</g>\n",
       "</svg>\n"
      ],
      "text/plain": [
       "<graphviz.dot.Digraph at 0x10ee73b90>"
      ]
     },
     "execution_count": 59,
     "metadata": {},
     "output_type": "execute_result"
    }
   ],
   "source": [
    "Ws = {f'W{k}':layer.W for k,layer in enumerate(my_model.layers)}\n",
    "bs = {f'b{k}':layer.b for k,layer in enumerate(my_model.layers)}\n",
    "make_dot(L, {**Ws, **bs})"
   ]
  },
  {
   "cell_type": "code",
   "execution_count": 60,
   "metadata": {},
   "outputs": [],
   "source": [
    "n_steps = 1000\n",
    "ϵ = 1*10e-4\n",
    "loss_record = []\n",
    "\n",
    "for e in range(n_steps):\n",
    "    ŷ = my_model(x) \n",
    "    L = torch.sum((y-ŷ)**2)/len(ŷ)\n",
    "    \n",
    "    loss_record.append(L.item())\n",
    "    L.backward()\n",
    "    \n",
    "    my_model.step(ϵ)"
   ]
  },
  {
   "cell_type": "code",
   "execution_count": 61,
   "metadata": {},
   "outputs": [
    {
     "data": {
      "application/vnd.vegalite.v3+json": {
       "$schema": "https://vega.github.io/schema/vega-lite/v3.4.0.json",
       "config": {
        "mark": {
         "tooltip": null
        },
        "view": {
         "height": 300,
         "width": 400
        }
       },
       "data": {
        "name": "data-939a1b3ef1188416d860bc77ea1e3695"
       },
       "datasets": {
        "data-939a1b3ef1188416d860bc77ea1e3695": [
         {
          "i": 0,
          "loss": 2.926680564880371
         },
         {
          "i": 1,
          "loss": 2.6781954765319824
         },
         {
          "i": 2,
          "loss": 2.474212646484375
         },
         {
          "i": 3,
          "loss": 2.3044965267181396
         },
         {
          "i": 4,
          "loss": 2.1614606380462646
         },
         {
          "i": 5,
          "loss": 2.0391249656677246
         },
         {
          "i": 6,
          "loss": 1.9332548379898071
         },
         {
          "i": 7,
          "loss": 1.8396155834197998
         },
         {
          "i": 8,
          "loss": 1.7569077014923096
         },
         {
          "i": 9,
          "loss": 1.6830400228500366
         },
         {
          "i": 10,
          "loss": 1.6166164875030518
         },
         {
          "i": 11,
          "loss": 1.5564383268356323
         },
         {
          "i": 12,
          "loss": 1.501555323600769
         },
         {
          "i": 13,
          "loss": 1.4512073993682861
         },
         {
          "i": 14,
          "loss": 1.4046921730041504
         },
         {
          "i": 15,
          "loss": 1.3614367246627808
         },
         {
          "i": 16,
          "loss": 1.3212252855300903
         },
         {
          "i": 17,
          "loss": 1.2836326360702515
         },
         {
          "i": 18,
          "loss": 1.2482722997665405
         },
         {
          "i": 19,
          "loss": 1.2150694131851196
         },
         {
          "i": 20,
          "loss": 1.1836897134780884
         },
         {
          "i": 21,
          "loss": 1.1541252136230469
         },
         {
          "i": 22,
          "loss": 1.1262106895446777
         },
         {
          "i": 23,
          "loss": 1.0997921228408813
         },
         {
          "i": 24,
          "loss": 1.0747318267822266
         },
         {
          "i": 25,
          "loss": 1.0509722232818604
         },
         {
          "i": 26,
          "loss": 1.0284391641616821
         },
         {
          "i": 27,
          "loss": 1.0069576501846313
         },
         {
          "i": 28,
          "loss": 0.9864920973777771
         },
         {
          "i": 29,
          "loss": 0.9669716358184814
         },
         {
          "i": 30,
          "loss": 0.9482683539390564
         },
         {
          "i": 31,
          "loss": 0.9303226470947266
         },
         {
          "i": 32,
          "loss": 0.9131165146827698
         },
         {
          "i": 33,
          "loss": 0.8966186046600342
         },
         {
          "i": 34,
          "loss": 0.8807199597358704
         },
         {
          "i": 35,
          "loss": 0.8652844429016113
         },
         {
          "i": 36,
          "loss": 0.850268542766571
         },
         {
          "i": 37,
          "loss": 0.8357584476470947
         },
         {
          "i": 38,
          "loss": 0.8217227458953857
         },
         {
          "i": 39,
          "loss": 0.8081719279289246
         },
         {
          "i": 40,
          "loss": 0.7951147556304932
         },
         {
          "i": 41,
          "loss": 0.782514214515686
         },
         {
          "i": 42,
          "loss": 0.7702914476394653
         },
         {
          "i": 43,
          "loss": 0.7585532665252686
         },
         {
          "i": 44,
          "loss": 0.7471293807029724
         },
         {
          "i": 45,
          "loss": 0.7360022068023682
         },
         {
          "i": 46,
          "loss": 0.7251567244529724
         },
         {
          "i": 47,
          "loss": 0.7145783305168152
         },
         {
          "i": 48,
          "loss": 0.7042531371116638
         },
         {
          "i": 49,
          "loss": 0.6941694021224976
         },
         {
          "i": 50,
          "loss": 0.6843153238296509
         },
         {
          "i": 51,
          "loss": 0.6746807098388672
         },
         {
          "i": 52,
          "loss": 0.665250301361084
         },
         {
          "i": 53,
          "loss": 0.6560462117195129
         },
         {
          "i": 54,
          "loss": 0.6470671892166138
         },
         {
          "i": 55,
          "loss": 0.6382691860198975
         },
         {
          "i": 56,
          "loss": 0.6296401023864746
         },
         {
          "i": 57,
          "loss": 0.6212149262428284
         },
         {
          "i": 58,
          "loss": 0.6130762100219727
         },
         {
          "i": 59,
          "loss": 0.6051465272903442
         },
         {
          "i": 60,
          "loss": 0.5974667072296143
         },
         {
          "i": 61,
          "loss": 0.5899134874343872
         },
         {
          "i": 62,
          "loss": 0.582481861114502
         },
         {
          "i": 63,
          "loss": 0.5751564502716064
         },
         {
          "i": 64,
          "loss": 0.5679472088813782
         },
         {
          "i": 65,
          "loss": 0.5608550310134888
         },
         {
          "i": 66,
          "loss": 0.553867518901825
         },
         {
          "i": 67,
          "loss": 0.5469920635223389
         },
         {
          "i": 68,
          "loss": 0.5402252674102783
         },
         {
          "i": 69,
          "loss": 0.5335649251937866
         },
         {
          "i": 70,
          "loss": 0.527015745639801
         },
         {
          "i": 71,
          "loss": 0.5205801725387573
         },
         {
          "i": 72,
          "loss": 0.5142427682876587
         },
         {
          "i": 73,
          "loss": 0.5080009698867798
         },
         {
          "i": 74,
          "loss": 0.5018530488014221
         },
         {
          "i": 75,
          "loss": 0.49582016468048096
         },
         {
          "i": 76,
          "loss": 0.4899124503135681
         },
         {
          "i": 77,
          "loss": 0.48409080505371094
         },
         {
          "i": 78,
          "loss": 0.4783538579940796
         },
         {
          "i": 79,
          "loss": 0.4726998209953308
         },
         {
          "i": 80,
          "loss": 0.4671187996864319
         },
         {
          "i": 81,
          "loss": 0.46160659193992615
         },
         {
          "i": 82,
          "loss": 0.4561733305454254
         },
         {
          "i": 83,
          "loss": 0.4508172273635864
         },
         {
          "i": 84,
          "loss": 0.4455364942550659
         },
         {
          "i": 85,
          "loss": 0.4403303861618042
         },
         {
          "i": 86,
          "loss": 0.4351975619792938
         },
         {
          "i": 87,
          "loss": 0.43013691902160645
         },
         {
          "i": 88,
          "loss": 0.4251469075679779
         },
         {
          "i": 89,
          "loss": 0.42022666335105896
         },
         {
          "i": 90,
          "loss": 0.4153751730918884
         },
         {
          "i": 91,
          "loss": 0.4105913043022156
         },
         {
          "i": 92,
          "loss": 0.40587374567985535
         },
         {
          "i": 93,
          "loss": 0.40122196078300476
         },
         {
          "i": 94,
          "loss": 0.3966344892978668
         },
         {
          "i": 95,
          "loss": 0.39211082458496094
         },
         {
          "i": 96,
          "loss": 0.3876497149467468
         },
         {
          "i": 97,
          "loss": 0.3832505941390991
         },
         {
          "i": 98,
          "loss": 0.3789118528366089
         },
         {
          "i": 99,
          "loss": 0.3746336102485657
         },
         {
          "i": 100,
          "loss": 0.37041401863098145
         },
         {
          "i": 101,
          "loss": 0.3662530779838562
         },
         {
          "i": 102,
          "loss": 0.36214959621429443
         },
         {
          "i": 103,
          "loss": 0.3581025004386902
         },
         {
          "i": 104,
          "loss": 0.3541114330291748
         },
         {
          "i": 105,
          "loss": 0.3501754701137543
         },
         {
          "i": 106,
          "loss": 0.3462938070297241
         },
         {
          "i": 107,
          "loss": 0.34246569871902466
         },
         {
          "i": 108,
          "loss": 0.33869898319244385
         },
         {
          "i": 109,
          "loss": 0.33502015471458435
         },
         {
          "i": 110,
          "loss": 0.3313915729522705
         },
         {
          "i": 111,
          "loss": 0.3278122842311859
         },
         {
          "i": 112,
          "loss": 0.32428210973739624
         },
         {
          "i": 113,
          "loss": 0.3208002746105194
         },
         {
          "i": 114,
          "loss": 0.3173659145832062
         },
         {
          "i": 115,
          "loss": 0.31397876143455505
         },
         {
          "i": 116,
          "loss": 0.3106377422809601
         },
         {
          "i": 117,
          "loss": 0.30734264850616455
         },
         {
          "i": 118,
          "loss": 0.3040924668312073
         },
         {
          "i": 119,
          "loss": 0.3008868396282196
         },
         {
          "i": 120,
          "loss": 0.2977253794670105
         },
         {
          "i": 121,
          "loss": 0.2946070432662964
         },
         {
          "i": 122,
          "loss": 0.29153159260749817
         },
         {
          "i": 123,
          "loss": 0.2884983718395233
         },
         {
          "i": 124,
          "loss": 0.28551214933395386
         },
         {
          "i": 125,
          "loss": 0.28259730339050293
         },
         {
          "i": 126,
          "loss": 0.2797376215457916
         },
         {
          "i": 127,
          "loss": 0.2769339680671692
         },
         {
          "i": 128,
          "loss": 0.2741679847240448
         },
         {
          "i": 129,
          "loss": 0.2714393734931946
         },
         {
          "i": 130,
          "loss": 0.2687474489212036
         },
         {
          "i": 131,
          "loss": 0.2660946547985077
         },
         {
          "i": 132,
          "loss": 0.2635042071342468
         },
         {
          "i": 133,
          "loss": 0.2609480023384094
         },
         {
          "i": 134,
          "loss": 0.25842615962028503
         },
         {
          "i": 135,
          "loss": 0.25593671202659607
         },
         {
          "i": 136,
          "loss": 0.25347286462783813
         },
         {
          "i": 137,
          "loss": 0.25104162096977234
         },
         {
          "i": 138,
          "loss": 0.2486429214477539
         },
         {
          "i": 139,
          "loss": 0.2462761253118515
         },
         {
          "i": 140,
          "loss": 0.24393993616104126
         },
         {
          "i": 141,
          "loss": 0.24162399768829346
         },
         {
          "i": 142,
          "loss": 0.23933245241641998
         },
         {
          "i": 143,
          "loss": 0.23707091808319092
         },
         {
          "i": 144,
          "loss": 0.23483939468860626
         },
         {
          "i": 145,
          "loss": 0.23263710737228394
         },
         {
          "i": 146,
          "loss": 0.2304743379354477
         },
         {
          "i": 147,
          "loss": 0.22835180163383484
         },
         {
          "i": 148,
          "loss": 0.2262563705444336
         },
         {
          "i": 149,
          "loss": 0.22418798506259918
         },
         {
          "i": 150,
          "loss": 0.22214893996715546
         },
         {
          "i": 151,
          "loss": 0.22013598680496216
         },
         {
          "i": 152,
          "loss": 0.21814866364002228
         },
         {
          "i": 153,
          "loss": 0.21618686616420746
         },
         {
          "i": 154,
          "loss": 0.2142503559589386
         },
         {
          "i": 155,
          "loss": 0.21233844757080078
         },
         {
          "i": 156,
          "loss": 0.2104509472846985
         },
         {
          "i": 157,
          "loss": 0.2085878551006317
         },
         {
          "i": 158,
          "loss": 0.2067485749721527
         },
         {
          "i": 159,
          "loss": 0.20493631064891815
         },
         {
          "i": 160,
          "loss": 0.20315803587436676
         },
         {
          "i": 161,
          "loss": 0.20140233635902405
         },
         {
          "i": 162,
          "loss": 0.19966906309127808
         },
         {
          "i": 163,
          "loss": 0.1979578137397766
         },
         {
          "i": 164,
          "loss": 0.19626830518245697
         },
         {
          "i": 165,
          "loss": 0.19460056722164154
         },
         {
          "i": 166,
          "loss": 0.19295381009578705
         },
         {
          "i": 167,
          "loss": 0.19132813811302185
         },
         {
          "i": 168,
          "loss": 0.18972329795360565
         },
         {
          "i": 169,
          "loss": 0.1881389021873474
         },
         {
          "i": 170,
          "loss": 0.18657471239566803
         },
         {
          "i": 171,
          "loss": 0.1850307434797287
         },
         {
          "i": 172,
          "loss": 0.1835062950849533
         },
         {
          "i": 173,
          "loss": 0.18200147151947021
         },
         {
          "i": 174,
          "loss": 0.18051588535308838
         },
         {
          "i": 175,
          "loss": 0.17904935777187347
         },
         {
          "i": 176,
          "loss": 0.1776016801595688
         },
         {
          "i": 177,
          "loss": 0.17617245018482208
         },
         {
          "i": 178,
          "loss": 0.17476163804531097
         },
         {
          "i": 179,
          "loss": 0.17336881160736084
         },
         {
          "i": 180,
          "loss": 0.17199403047561646
         },
         {
          "i": 181,
          "loss": 0.1706368774175644
         },
         {
          "i": 182,
          "loss": 0.16929712891578674
         },
         {
          "i": 183,
          "loss": 0.16797465085983276
         },
         {
          "i": 184,
          "loss": 0.1666691154241562
         },
         {
          "i": 185,
          "loss": 0.16538073122501373
         },
         {
          "i": 186,
          "loss": 0.16410917043685913
         },
         {
          "i": 187,
          "loss": 0.1628539264202118
         },
         {
          "i": 188,
          "loss": 0.1616147756576538
         },
         {
          "i": 189,
          "loss": 0.1603916585445404
         },
         {
          "i": 190,
          "loss": 0.15918408334255219
         },
         {
          "i": 191,
          "loss": 0.15799203515052795
         },
         {
          "i": 192,
          "loss": 0.1568155437707901
         },
         {
          "i": 193,
          "loss": 0.15565389394760132
         },
         {
          "i": 194,
          "loss": 0.15450730919837952
         },
         {
          "i": 195,
          "loss": 0.15337564051151276
         },
         {
          "i": 196,
          "loss": 0.15225835144519806
         },
         {
          "i": 197,
          "loss": 0.15115565061569214
         },
         {
          "i": 198,
          "loss": 0.15006691217422485
         },
         {
          "i": 199,
          "loss": 0.14899234473705292
         },
         {
          "i": 200,
          "loss": 0.14793165028095245
         },
         {
          "i": 201,
          "loss": 0.14688464999198914
         },
         {
          "i": 202,
          "loss": 0.14585112035274506
         },
         {
          "i": 203,
          "loss": 0.1448308825492859
         },
         {
          "i": 204,
          "loss": 0.14382390677928925
         },
         {
          "i": 205,
          "loss": 0.14282992482185364
         },
         {
          "i": 206,
          "loss": 0.1418488323688507
         },
         {
          "i": 207,
          "loss": 0.140880286693573
         },
         {
          "i": 208,
          "loss": 0.13992439210414886
         },
         {
          "i": 209,
          "loss": 0.13898088037967682
         },
         {
          "i": 210,
          "loss": 0.13804954290390015
         },
         {
          "i": 211,
          "loss": 0.13713017106056213
         },
         {
          "i": 212,
          "loss": 0.13622282445430756
         },
         {
          "i": 213,
          "loss": 0.13532716035842896
         },
         {
          "i": 214,
          "loss": 0.13444310426712036
         },
         {
          "i": 215,
          "loss": 0.13357073068618774
         },
         {
          "i": 216,
          "loss": 0.1327105313539505
         },
         {
          "i": 217,
          "loss": 0.13186150789260864
         },
         {
          "i": 218,
          "loss": 0.13102318346500397
         },
         {
          "i": 219,
          "loss": 0.13019581139087677
         },
         {
          "i": 220,
          "loss": 0.1293790191411972
         },
         {
          "i": 221,
          "loss": 0.1285727471113205
         },
         {
          "i": 222,
          "loss": 0.1277768313884735
         },
         {
          "i": 223,
          "loss": 0.1269911527633667
         },
         {
          "i": 224,
          "loss": 0.12621544301509857
         },
         {
          "i": 225,
          "loss": 0.12544989585876465
         },
         {
          "i": 226,
          "loss": 0.12469401210546494
         },
         {
          "i": 227,
          "loss": 0.12394799292087555
         },
         {
          "i": 228,
          "loss": 0.12321151793003082
         },
         {
          "i": 229,
          "loss": 0.1224844679236412
         },
         {
          "i": 230,
          "loss": 0.1217668280005455
         },
         {
          "i": 231,
          "loss": 0.12105828523635864
         },
         {
          "i": 232,
          "loss": 0.12035907059907913
         },
         {
          "i": 233,
          "loss": 0.11966884881258011
         },
         {
          "i": 234,
          "loss": 0.11898736655712128
         },
         {
          "i": 235,
          "loss": 0.11831467598676682
         },
         {
          "i": 236,
          "loss": 0.11765068024396896
         },
         {
          "i": 237,
          "loss": 0.11699529737234116
         },
         {
          "i": 238,
          "loss": 0.1163482740521431
         },
         {
          "i": 239,
          "loss": 0.11570951342582703
         },
         {
          "i": 240,
          "loss": 0.11507668346166611
         },
         {
          "i": 241,
          "loss": 0.11444711685180664
         },
         {
          "i": 242,
          "loss": 0.11382504552602768
         },
         {
          "i": 243,
          "loss": 0.11321000754833221
         },
         {
          "i": 244,
          "loss": 0.11260285973548889
         },
         {
          "i": 245,
          "loss": 0.11200333386659622
         },
         {
          "i": 246,
          "loss": 0.1114114299416542
         },
         {
          "i": 247,
          "loss": 0.11082687228918076
         },
         {
          "i": 248,
          "loss": 0.11024980247020721
         },
         {
          "i": 249,
          "loss": 0.10967953503131866
         },
         {
          "i": 250,
          "loss": 0.1091151311993599
         },
         {
          "i": 251,
          "loss": 0.10855787992477417
         },
         {
          "i": 252,
          "loss": 0.10800767689943314
         },
         {
          "i": 253,
          "loss": 0.10746423900127411
         },
         {
          "i": 254,
          "loss": 0.10692756623029709
         },
         {
          "i": 255,
          "loss": 0.10639766603708267
         },
         {
          "i": 256,
          "loss": 0.10587449371814728
         },
         {
          "i": 257,
          "loss": 0.10535784810781479
         },
         {
          "i": 258,
          "loss": 0.10484760999679565
         },
         {
          "i": 259,
          "loss": 0.10434375703334808
         },
         {
          "i": 260,
          "loss": 0.10384634137153625
         },
         {
          "i": 261,
          "loss": 0.1033550351858139
         },
         {
          "i": 262,
          "loss": 0.10286998003721237
         },
         {
          "i": 263,
          "loss": 0.10238970071077347
         },
         {
          "i": 264,
          "loss": 0.10191410779953003
         },
         {
          "i": 265,
          "loss": 0.10144442319869995
         },
         {
          "i": 266,
          "loss": 0.10098052024841309
         },
         {
          "i": 267,
          "loss": 0.10052230954170227
         },
         {
          "i": 268,
          "loss": 0.10006975382566452
         },
         {
          "i": 269,
          "loss": 0.09962292015552521
         },
         {
          "i": 270,
          "loss": 0.09918155521154404
         },
         {
          "i": 271,
          "loss": 0.0987456887960434
         },
         {
          "i": 272,
          "loss": 0.09831520915031433
         },
         {
          "i": 273,
          "loss": 0.09789002686738968
         },
         {
          "i": 274,
          "loss": 0.09747017174959183
         },
         {
          "i": 275,
          "loss": 0.09705544263124466
         },
         {
          "i": 276,
          "loss": 0.09664595872163773
         },
         {
          "i": 277,
          "loss": 0.09624142944812775
         },
         {
          "i": 278,
          "loss": 0.09584187716245651
         },
         {
          "i": 279,
          "loss": 0.09544727951288223
         },
         {
          "i": 280,
          "loss": 0.09505762904882431
         },
         {
          "i": 281,
          "loss": 0.09467275440692902
         },
         {
          "i": 282,
          "loss": 0.09429257363080978
         },
         {
          "i": 283,
          "loss": 0.0939171239733696
         },
         {
          "i": 284,
          "loss": 0.09354624897241592
         },
         {
          "i": 285,
          "loss": 0.09318003058433533
         },
         {
          "i": 286,
          "loss": 0.09281819313764572
         },
         {
          "i": 287,
          "loss": 0.09246087819337845
         },
         {
          "i": 288,
          "loss": 0.09210792183876038
         },
         {
          "i": 289,
          "loss": 0.09175936877727509
         },
         {
          "i": 290,
          "loss": 0.09141501784324646
         },
         {
          "i": 291,
          "loss": 0.09107498079538345
         },
         {
          "i": 292,
          "loss": 0.09073910862207413
         },
         {
          "i": 293,
          "loss": 0.09040728211402893
         },
         {
          "i": 294,
          "loss": 0.09007958322763443
         },
         {
          "i": 295,
          "loss": 0.08975579589605331
         },
         {
          "i": 296,
          "loss": 0.08943615853786469
         },
         {
          "i": 297,
          "loss": 0.0891202911734581
         },
         {
          "i": 298,
          "loss": 0.08880826085805893
         },
         {
          "i": 299,
          "loss": 0.08850006014108658
         },
         {
          "i": 300,
          "loss": 0.08819566667079926
         },
         {
          "i": 301,
          "loss": 0.08789491653442383
         },
         {
          "i": 302,
          "loss": 0.08759782463312149
         },
         {
          "i": 303,
          "loss": 0.08730446547269821
         },
         {
          "i": 304,
          "loss": 0.0870145857334137
         },
         {
          "i": 305,
          "loss": 0.08672823756933212
         },
         {
          "i": 306,
          "loss": 0.08644530922174454
         },
         {
          "i": 307,
          "loss": 0.08616580814123154
         },
         {
          "i": 308,
          "loss": 0.08588987588882446
         },
         {
          "i": 309,
          "loss": 0.08561716228723526
         },
         {
          "i": 310,
          "loss": 0.0853477418422699
         },
         {
          "i": 311,
          "loss": 0.08508157730102539
         },
         {
          "i": 312,
          "loss": 0.08481857925653458
         },
         {
          "i": 313,
          "loss": 0.08455885201692581
         },
         {
          "i": 314,
          "loss": 0.08430222421884537
         },
         {
          "i": 315,
          "loss": 0.08404867351055145
         },
         {
          "i": 316,
          "loss": 0.08379825949668884
         },
         {
          "i": 317,
          "loss": 0.08355069160461426
         },
         {
          "i": 318,
          "loss": 0.08330611884593964
         },
         {
          "i": 319,
          "loss": 0.08306459337472916
         },
         {
          "i": 320,
          "loss": 0.08282593637704849
         },
         {
          "i": 321,
          "loss": 0.08258999139070511
         },
         {
          "i": 322,
          "loss": 0.0823569968342781
         },
         {
          "i": 323,
          "loss": 0.08212678879499435
         },
         {
          "i": 324,
          "loss": 0.0818992555141449
         },
         {
          "i": 325,
          "loss": 0.08167438209056854
         },
         {
          "i": 326,
          "loss": 0.08145228028297424
         },
         {
          "i": 327,
          "loss": 0.08123282343149185
         },
         {
          "i": 328,
          "loss": 0.0810159221291542
         },
         {
          "i": 329,
          "loss": 0.08080166578292847
         },
         {
          "i": 330,
          "loss": 0.08058980852365494
         },
         {
          "i": 331,
          "loss": 0.0803806409239769
         },
         {
          "i": 332,
          "loss": 0.08017364144325256
         },
         {
          "i": 333,
          "loss": 0.0799686461687088
         },
         {
          "i": 334,
          "loss": 0.07976606488227844
         },
         {
          "i": 335,
          "loss": 0.07956581562757492
         },
         {
          "i": 336,
          "loss": 0.07936808466911316
         },
         {
          "i": 337,
          "loss": 0.07917255163192749
         },
         {
          "i": 338,
          "loss": 0.0789792612195015
         },
         {
          "i": 339,
          "loss": 0.0787883773446083
         },
         {
          "i": 340,
          "loss": 0.07859966158866882
         },
         {
          "i": 341,
          "loss": 0.07841312140226364
         },
         {
          "i": 342,
          "loss": 0.07822877913713455
         },
         {
          "i": 343,
          "loss": 0.07804655283689499
         },
         {
          "i": 344,
          "loss": 0.07786647975444794
         },
         {
          "i": 345,
          "loss": 0.07768847048282623
         },
         {
          "i": 346,
          "loss": 0.07751252502202988
         },
         {
          "i": 347,
          "loss": 0.07733868807554245
         },
         {
          "i": 348,
          "loss": 0.07716673612594604
         },
         {
          "i": 349,
          "loss": 0.0769968256354332
         },
         {
          "i": 350,
          "loss": 0.07682886719703674
         },
         {
          "i": 351,
          "loss": 0.0766628310084343
         },
         {
          "i": 352,
          "loss": 0.07649869471788406
         },
         {
          "i": 353,
          "loss": 0.07633639127016068
         },
         {
          "i": 354,
          "loss": 0.0761759951710701
         },
         {
          "i": 355,
          "loss": 0.07601740211248398
         },
         {
          "i": 356,
          "loss": 0.0758606418967247
         },
         {
          "i": 357,
          "loss": 0.07570555061101913
         },
         {
          "i": 358,
          "loss": 0.07555234432220459
         },
         {
          "i": 359,
          "loss": 0.0754009336233139
         },
         {
          "i": 360,
          "loss": 0.07525104284286499
         },
         {
          "i": 361,
          "loss": 0.07510298490524292
         },
         {
          "i": 362,
          "loss": 0.07495661079883575
         },
         {
          "i": 363,
          "loss": 0.07481177151203156
         },
         {
          "i": 364,
          "loss": 0.07466854155063629
         },
         {
          "i": 365,
          "loss": 0.07452698796987534
         },
         {
          "i": 366,
          "loss": 0.07438693195581436
         },
         {
          "i": 367,
          "loss": 0.07424848526716232
         },
         {
          "i": 368,
          "loss": 0.07411153614521027
         },
         {
          "i": 369,
          "loss": 0.07397621870040894
         },
         {
          "i": 370,
          "loss": 0.0738423615694046
         },
         {
          "i": 371,
          "loss": 0.07370993494987488
         },
         {
          "i": 372,
          "loss": 0.07357901334762573
         },
         {
          "i": 373,
          "loss": 0.07344938069581985
         },
         {
          "i": 374,
          "loss": 0.07332133501768112
         },
         {
          "i": 375,
          "loss": 0.07319466024637222
         },
         {
          "i": 376,
          "loss": 0.07306934148073196
         },
         {
          "i": 377,
          "loss": 0.07294528186321259
         },
         {
          "i": 378,
          "loss": 0.07282272726297379
         },
         {
          "i": 379,
          "loss": 0.0727013573050499
         },
         {
          "i": 380,
          "loss": 0.07258138060569763
         },
         {
          "i": 381,
          "loss": 0.07246273010969162
         },
         {
          "i": 382,
          "loss": 0.07234534621238708
         },
         {
          "i": 383,
          "loss": 0.07222916930913925
         },
         {
          "i": 384,
          "loss": 0.07211367040872574
         },
         {
          "i": 385,
          "loss": 0.07199584692716599
         },
         {
          "i": 386,
          "loss": 0.07187921553850174
         },
         {
          "i": 387,
          "loss": 0.07176374644041061
         },
         {
          "i": 388,
          "loss": 0.07164954394102097
         },
         {
          "i": 389,
          "loss": 0.07153650373220444
         },
         {
          "i": 390,
          "loss": 0.07142471522092819
         },
         {
          "i": 391,
          "loss": 0.07131402939558029
         },
         {
          "i": 392,
          "loss": 0.07120446115732193
         },
         {
          "i": 393,
          "loss": 0.07109595090150833
         },
         {
          "i": 394,
          "loss": 0.07098869979381561
         },
         {
          "i": 395,
          "loss": 0.07088249176740646
         },
         {
          "i": 396,
          "loss": 0.07077743858098984
         },
         {
          "i": 397,
          "loss": 0.070673368871212
         },
         {
          "i": 398,
          "loss": 0.0705704614520073
         },
         {
          "i": 399,
          "loss": 0.070468470454216
         },
         {
          "i": 400,
          "loss": 0.07036759704351425
         },
         {
          "i": 401,
          "loss": 0.07026763260364532
         },
         {
          "i": 402,
          "loss": 0.07016880065202713
         },
         {
          "i": 403,
          "loss": 0.07007084041833878
         },
         {
          "i": 404,
          "loss": 0.06997395306825638
         },
         {
          "i": 405,
          "loss": 0.06987801939249039
         },
         {
          "i": 406,
          "loss": 0.06978307664394379
         },
         {
          "i": 407,
          "loss": 0.06968894600868225
         },
         {
          "i": 408,
          "loss": 0.06959585845470428
         },
         {
          "i": 409,
          "loss": 0.06950366497039795
         },
         {
          "i": 410,
          "loss": 0.06941232830286026
         },
         {
          "i": 411,
          "loss": 0.06932184845209122
         },
         {
          "i": 412,
          "loss": 0.06923231482505798
         },
         {
          "i": 413,
          "loss": 0.0691436156630516
         },
         {
          "i": 414,
          "loss": 0.069055937230587
         },
         {
          "i": 415,
          "loss": 0.06896882504224777
         },
         {
          "i": 416,
          "loss": 0.06888271123170853
         },
         {
          "i": 417,
          "loss": 0.06879740208387375
         },
         {
          "i": 418,
          "loss": 0.06871289759874344
         },
         {
          "i": 419,
          "loss": 0.06862916797399521
         },
         {
          "i": 420,
          "loss": 0.06854631006717682
         },
         {
          "i": 421,
          "loss": 0.06846414506435394
         },
         {
          "i": 422,
          "loss": 0.06838282942771912
         },
         {
          "i": 423,
          "loss": 0.06830215454101562
         },
         {
          "i": 424,
          "loss": 0.06822226941585541
         },
         {
          "i": 425,
          "loss": 0.06814323365688324
         },
         {
          "i": 426,
          "loss": 0.06806473433971405
         },
         {
          "i": 427,
          "loss": 0.06798714399337769
         },
         {
          "i": 428,
          "loss": 0.06791018694639206
         },
         {
          "i": 429,
          "loss": 0.06783392280340195
         },
         {
          "i": 430,
          "loss": 0.06775839626789093
         },
         {
          "i": 431,
          "loss": 0.06768351793289185
         },
         {
          "i": 432,
          "loss": 0.0676092803478241
         },
         {
          "i": 433,
          "loss": 0.06753578782081604
         },
         {
          "i": 434,
          "loss": 0.06746286153793335
         },
         {
          "i": 435,
          "loss": 0.06739068776369095
         },
         {
          "i": 436,
          "loss": 0.06731908023357391
         },
         {
          "i": 437,
          "loss": 0.06724813580513
         },
         {
          "i": 438,
          "loss": 0.06717783212661743
         },
         {
          "i": 439,
          "loss": 0.06710809469223022
         },
         {
          "i": 440,
          "loss": 0.06703899800777435
         },
         {
          "i": 441,
          "loss": 0.06697044521570206
         },
         {
          "i": 442,
          "loss": 0.06690255552530289
         },
         {
          "i": 443,
          "loss": 0.06683520972728729
         },
         {
          "i": 444,
          "loss": 0.06676846742630005
         },
         {
          "i": 445,
          "loss": 0.06670233607292175
         },
         {
          "i": 446,
          "loss": 0.06663671880960464
         },
         {
          "i": 447,
          "loss": 0.06657154113054276
         },
         {
          "i": 448,
          "loss": 0.0665069967508316
         },
         {
          "i": 449,
          "loss": 0.06644304096698761
         },
         {
          "i": 450,
          "loss": 0.0663796216249466
         },
         {
          "i": 451,
          "loss": 0.06631666421890259
         },
         {
          "i": 452,
          "loss": 0.06625431030988693
         },
         {
          "i": 453,
          "loss": 0.06619241833686829
         },
         {
          "i": 454,
          "loss": 0.06613097339868546
         },
         {
          "i": 455,
          "loss": 0.0660700872540474
         },
         {
          "i": 456,
          "loss": 0.06600972265005112
         },
         {
          "i": 457,
          "loss": 0.06594981253147125
         },
         {
          "i": 458,
          "loss": 0.06589041650295258
         },
         {
          "i": 459,
          "loss": 0.06583140045404434
         },
         {
          "i": 460,
          "loss": 0.06577295809984207
         },
         {
          "i": 461,
          "loss": 0.06571488082408905
         },
         {
          "i": 462,
          "loss": 0.06565731763839722
         },
         {
          "i": 463,
          "loss": 0.0656001940369606
         },
         {
          "i": 464,
          "loss": 0.0655435249209404
         },
         {
          "i": 465,
          "loss": 0.0654873177409172
         },
         {
          "i": 466,
          "loss": 0.06543142348527908
         },
         {
          "i": 467,
          "loss": 0.0653761625289917
         },
         {
          "i": 468,
          "loss": 0.06532105803489685
         },
         {
          "i": 469,
          "loss": 0.06526658684015274
         },
         {
          "i": 470,
          "loss": 0.0652124285697937
         },
         {
          "i": 471,
          "loss": 0.06515871733427048
         },
         {
          "i": 472,
          "loss": 0.06510534882545471
         },
         {
          "i": 473,
          "loss": 0.06505239754915237
         },
         {
          "i": 474,
          "loss": 0.0650000125169754
         },
         {
          "i": 475,
          "loss": 0.06494777649641037
         },
         {
          "i": 476,
          "loss": 0.06489597260951996
         },
         {
          "i": 477,
          "loss": 0.06484456360340118
         },
         {
          "i": 478,
          "loss": 0.06479359418153763
         },
         {
          "i": 479,
          "loss": 0.06474286317825317
         },
         {
          "i": 480,
          "loss": 0.06469253450632095
         },
         {
          "i": 481,
          "loss": 0.06464266031980515
         },
         {
          "i": 482,
          "loss": 0.06459298729896545
         },
         {
          "i": 483,
          "loss": 0.06454375386238098
         },
         {
          "i": 484,
          "loss": 0.0644947960972786
         },
         {
          "i": 485,
          "loss": 0.06444619596004486
         },
         {
          "i": 486,
          "loss": 0.06439793854951859
         },
         {
          "i": 487,
          "loss": 0.06435011327266693
         },
         {
          "i": 488,
          "loss": 0.0643024668097496
         },
         {
          "i": 489,
          "loss": 0.0642552375793457
         },
         {
          "i": 490,
          "loss": 0.06420830637216568
         },
         {
          "i": 491,
          "loss": 0.06416171789169312
         },
         {
          "i": 492,
          "loss": 0.06411527842283249
         },
         {
          "i": 493,
          "loss": 0.0640692338347435
         },
         {
          "i": 494,
          "loss": 0.06402355432510376
         },
         {
          "i": 495,
          "loss": 0.06397814303636551
         },
         {
          "i": 496,
          "loss": 0.06393298506736755
         },
         {
          "i": 497,
          "loss": 0.06388822197914124
         },
         {
          "i": 498,
          "loss": 0.06384363025426865
         },
         {
          "i": 499,
          "loss": 0.06379933655261993
         },
         {
          "i": 500,
          "loss": 0.06375545263290405
         },
         {
          "i": 501,
          "loss": 0.06371165066957474
         },
         {
          "i": 502,
          "loss": 0.06366819888353348
         },
         {
          "i": 503,
          "loss": 0.06362506747245789
         },
         {
          "i": 504,
          "loss": 0.06358210742473602
         },
         {
          "i": 505,
          "loss": 0.0635395273566246
         },
         {
          "i": 506,
          "loss": 0.06349711865186691
         },
         {
          "i": 507,
          "loss": 0.06345506012439728
         },
         {
          "i": 508,
          "loss": 0.063413105905056
         },
         {
          "i": 509,
          "loss": 0.0633714497089386
         },
         {
          "i": 510,
          "loss": 0.06333009898662567
         },
         {
          "i": 511,
          "loss": 0.06328897923231125
         },
         {
          "i": 512,
          "loss": 0.06324805319309235
         },
         {
          "i": 513,
          "loss": 0.06320739537477493
         },
         {
          "i": 514,
          "loss": 0.06316697597503662
         },
         {
          "i": 515,
          "loss": 0.06312675774097443
         },
         {
          "i": 516,
          "loss": 0.06308682262897491
         },
         {
          "i": 517,
          "loss": 0.06304708123207092
         },
         {
          "i": 518,
          "loss": 0.06300750374794006
         },
         {
          "i": 519,
          "loss": 0.06296826899051666
         },
         {
          "i": 520,
          "loss": 0.0629291832447052
         },
         {
          "i": 521,
          "loss": 0.06289033591747284
         },
         {
          "i": 522,
          "loss": 0.06285162270069122
         },
         {
          "i": 523,
          "loss": 0.06281322240829468
         },
         {
          "i": 524,
          "loss": 0.06277496367692947
         },
         {
          "i": 525,
          "loss": 0.062736876308918
         },
         {
          "i": 526,
          "loss": 0.06269912421703339
         },
         {
          "i": 527,
          "loss": 0.06266149878501892
         },
         {
          "i": 528,
          "loss": 0.06262397021055222
         },
         {
          "i": 529,
          "loss": 0.06258680671453476
         },
         {
          "i": 530,
          "loss": 0.06254976987838745
         },
         {
          "i": 531,
          "loss": 0.0625128448009491
         },
         {
          "i": 532,
          "loss": 0.06247619539499283
         },
         {
          "i": 533,
          "loss": 0.06243973597884178
         },
         {
          "i": 534,
          "loss": 0.06240342557430267
         },
         {
          "i": 535,
          "loss": 0.062367308884859085
         },
         {
          "i": 536,
          "loss": 0.06233140081167221
         },
         {
          "i": 537,
          "loss": 0.06229562312364578
         },
         {
          "i": 538,
          "loss": 0.062260013073682785
         },
         {
          "i": 539,
          "loss": 0.0622246228158474
         },
         {
          "i": 540,
          "loss": 0.062189359217882156
         },
         {
          "i": 541,
          "loss": 0.06215425580739975
         },
         {
          "i": 542,
          "loss": 0.06211934611201286
         },
         {
          "i": 543,
          "loss": 0.06208459287881851
         },
         {
          "i": 544,
          "loss": 0.06205000355839729
         },
         {
          "i": 545,
          "loss": 0.06201562285423279
         },
         {
          "i": 546,
          "loss": 0.06198136508464813
         },
         {
          "i": 547,
          "loss": 0.061947256326675415
         },
         {
          "i": 548,
          "loss": 0.06191323325037956
         },
         {
          "i": 549,
          "loss": 0.061879415065050125
         },
         {
          "i": 550,
          "loss": 0.061845794320106506
         },
         {
          "i": 551,
          "loss": 0.061812326312065125
         },
         {
          "i": 552,
          "loss": 0.06177894026041031
         },
         {
          "i": 553,
          "loss": 0.06174572929739952
         },
         {
          "i": 554,
          "loss": 0.061712656170129776
         },
         {
          "i": 555,
          "loss": 0.06167973205447197
         },
         {
          "i": 556,
          "loss": 0.061646968126297
         },
         {
          "i": 557,
          "loss": 0.06161430850625038
         },
         {
          "i": 558,
          "loss": 0.06158186122775078
         },
         {
          "i": 559,
          "loss": 0.06154947727918625
         },
         {
          "i": 560,
          "loss": 0.06151725724339485
         },
         {
          "i": 561,
          "loss": 0.06148510426282883
         },
         {
          "i": 562,
          "loss": 0.061453066766262054
         },
         {
          "i": 563,
          "loss": 0.06142129749059677
         },
         {
          "i": 564,
          "loss": 0.06138954684138298
         },
         {
          "i": 565,
          "loss": 0.06135798990726471
         },
         {
          "i": 566,
          "loss": 0.0613265335559845
         },
         {
          "i": 567,
          "loss": 0.06129522621631622
         },
         {
          "i": 568,
          "loss": 0.061263974756002426
         },
         {
          "i": 569,
          "loss": 0.06123565137386322
         },
         {
          "i": 570,
          "loss": 0.06120717525482178
         },
         {
          "i": 571,
          "loss": 0.06117977201938629
         },
         {
          "i": 572,
          "loss": 0.06115259975194931
         },
         {
          "i": 573,
          "loss": 0.06112459674477577
         },
         {
          "i": 574,
          "loss": 0.06109676882624626
         },
         {
          "i": 575,
          "loss": 0.06107059493660927
         },
         {
          "i": 576,
          "loss": 0.06104318052530289
         },
         {
          "i": 577,
          "loss": 0.061015721410512924
         },
         {
          "i": 578,
          "loss": 0.06098880246281624
         },
         {
          "i": 579,
          "loss": 0.060962777584791183
         },
         {
          "i": 580,
          "loss": 0.06093570217490196
         },
         {
          "i": 581,
          "loss": 0.06090874224901199
         },
         {
          "i": 582,
          "loss": 0.06088269129395485
         },
         {
          "i": 583,
          "loss": 0.06085674464702606
         },
         {
          "i": 584,
          "loss": 0.06083008274435997
         },
         {
          "i": 585,
          "loss": 0.06080356612801552
         },
         {
          "i": 586,
          "loss": 0.06077808514237404
         },
         {
          "i": 587,
          "loss": 0.06075244024395943
         },
         {
          "i": 588,
          "loss": 0.06072621047496796
         },
         {
          "i": 589,
          "loss": 0.060700155794620514
         },
         {
          "i": 590,
          "loss": 0.06067502126097679
         },
         {
          "i": 591,
          "loss": 0.06064974144101143
         },
         {
          "i": 592,
          "loss": 0.06062391400337219
         },
         {
          "i": 593,
          "loss": 0.06059823930263519
         },
         {
          "i": 594,
          "loss": 0.060573384165763855
         },
         {
          "i": 595,
          "loss": 0.0605485774576664
         },
         {
          "i": 596,
          "loss": 0.060523174703121185
         },
         {
          "i": 597,
          "loss": 0.060497913509607315
         },
         {
          "i": 598,
          "loss": 0.060473185032606125
         },
         {
          "i": 599,
          "loss": 0.06044897437095642
         },
         {
          "i": 600,
          "loss": 0.06042381748557091
         },
         {
          "i": 601,
          "loss": 0.06039893254637718
         },
         {
          "i": 602,
          "loss": 0.06037423759698868
         },
         {
          "i": 603,
          "loss": 0.060350582003593445
         },
         {
          "i": 604,
          "loss": 0.060325879603624344
         },
         {
          "i": 605,
          "loss": 0.060301274061203
         },
         {
          "i": 606,
          "loss": 0.06027679145336151
         },
         {
          "i": 607,
          "loss": 0.06025349721312523
         },
         {
          "i": 608,
          "loss": 0.060229331254959106
         },
         {
          "i": 609,
          "loss": 0.060204993933439255
         },
         {
          "i": 610,
          "loss": 0.060180749744176865
         },
         {
          "i": 611,
          "loss": 0.06015729531645775
         },
         {
          "i": 612,
          "loss": 0.060133934020996094
         },
         {
          "i": 613,
          "loss": 0.06011001765727997
         },
         {
          "i": 614,
          "loss": 0.06008607894182205
         },
         {
          "i": 615,
          "loss": 0.06006231904029846
         },
         {
          "i": 616,
          "loss": 0.06003982946276665
         },
         {
          "i": 617,
          "loss": 0.060016099363565445
         },
         {
          "i": 618,
          "loss": 0.0599924772977829
         },
         {
          "i": 619,
          "loss": 0.059968966990709305
         },
         {
          "i": 620,
          "loss": 0.059946201741695404
         },
         {
          "i": 621,
          "loss": 0.059923380613327026
         },
         {
          "i": 622,
          "loss": 0.05990002304315567
         },
         {
          "i": 623,
          "loss": 0.05987687036395073
         },
         {
          "i": 624,
          "loss": 0.059853654354810715
         },
         {
          "i": 625,
          "loss": 0.05983183532953262
         },
         {
          "i": 626,
          "loss": 0.059808675199747086
         },
         {
          "i": 627,
          "loss": 0.05978573486208916
         },
         {
          "i": 628,
          "loss": 0.059762753546237946
         },
         {
          "i": 629,
          "loss": 0.05974049121141434
         },
         {
          "i": 630,
          "loss": 0.05971841886639595
         },
         {
          "i": 631,
          "loss": 0.059695709496736526
         },
         {
          "i": 632,
          "loss": 0.059673018753528595
         },
         {
          "i": 633,
          "loss": 0.05965037643909454
         },
         {
          "i": 634,
          "loss": 0.05962885916233063
         },
         {
          "i": 635,
          "loss": 0.059606604278087616
         },
         {
          "i": 636,
          "loss": 0.05958419293165207
         },
         {
          "i": 637,
          "loss": 0.059561796486377716
         },
         {
          "i": 638,
          "loss": 0.05953959375619888
         },
         {
          "i": 639,
          "loss": 0.05951850861310959
         },
         {
          "i": 640,
          "loss": 0.05949629470705986
         },
         {
          "i": 641,
          "loss": 0.05947417393326759
         },
         {
          "i": 642,
          "loss": 0.0594521090388298
         },
         {
          "i": 643,
          "loss": 0.059430476278066635
         },
         {
          "i": 644,
          "loss": 0.059409379959106445
         },
         {
          "i": 645,
          "loss": 0.05938749387860298
         },
         {
          "i": 646,
          "loss": 0.059365563094615936
         },
         {
          "i": 647,
          "loss": 0.059343792498111725
         },
         {
          "i": 648,
          "loss": 0.059322699904441833
         },
         {
          "i": 649,
          "loss": 0.05930158123373985
         },
         {
          "i": 650,
          "loss": 0.059279873967170715
         },
         {
          "i": 651,
          "loss": 0.05925827845931053
         },
         {
          "i": 652,
          "loss": 0.05923677608370781
         },
         {
          "i": 653,
          "loss": 0.059216175228357315
         },
         {
          "i": 654,
          "loss": 0.05919508635997772
         },
         {
          "i": 655,
          "loss": 0.059173740446567535
         },
         {
          "i": 656,
          "loss": 0.05915241688489914
         },
         {
          "i": 657,
          "loss": 0.05913112312555313
         },
         {
          "i": 658,
          "loss": 0.05911081284284592
         },
         {
          "i": 659,
          "loss": 0.05908991023898125
         },
         {
          "i": 660,
          "loss": 0.059068694710731506
         },
         {
          "i": 661,
          "loss": 0.05904771015048027
         },
         {
          "i": 662,
          "loss": 0.05902666598558426
         },
         {
          "i": 663,
          "loss": 0.05900666117668152
         },
         {
          "i": 664,
          "loss": 0.058985911309719086
         },
         {
          "i": 665,
          "loss": 0.05896497145295143
         },
         {
          "i": 666,
          "loss": 0.05894413962960243
         },
         {
          "i": 667,
          "loss": 0.058923348784446716
         },
         {
          "i": 668,
          "loss": 0.058903612196445465
         },
         {
          "i": 669,
          "loss": 0.058882974088191986
         },
         {
          "i": 670,
          "loss": 0.058862317353487015
         },
         {
          "i": 671,
          "loss": 0.0588417574763298
         },
         {
          "i": 672,
          "loss": 0.0588211789727211
         },
         {
          "i": 673,
          "loss": 0.058801598846912384
         },
         {
          "i": 674,
          "loss": 0.05878123641014099
         },
         {
          "i": 675,
          "loss": 0.05876077711582184
         },
         {
          "i": 676,
          "loss": 0.05874042212963104
         },
         {
          "i": 677,
          "loss": 0.05872008949518204
         },
         {
          "i": 678,
          "loss": 0.058700643479824066
         },
         {
          "i": 679,
          "loss": 0.05868053436279297
         },
         {
          "i": 680,
          "loss": 0.0586603581905365
         },
         {
          "i": 681,
          "loss": 0.058640092611312866
         },
         {
          "i": 682,
          "loss": 0.05861999839544296
         },
         {
          "i": 683,
          "loss": 0.05860070884227753
         },
         {
          "i": 684,
          "loss": 0.05858088657259941
         },
         {
          "i": 685,
          "loss": 0.05856090039014816
         },
         {
          "i": 686,
          "loss": 0.05854090303182602
         },
         {
          "i": 687,
          "loss": 0.058520909398794174
         },
         {
          "i": 688,
          "loss": 0.058501653373241425
         },
         {
          "i": 689,
          "loss": 0.05848223343491554
         },
         {
          "i": 690,
          "loss": 0.058462418615818024
         },
         {
          "i": 691,
          "loss": 0.0584426075220108
         },
         {
          "i": 692,
          "loss": 0.058422837406396866
         },
         {
          "i": 693,
          "loss": 0.05840356647968292
         },
         {
          "i": 694,
          "loss": 0.058384574949741364
         },
         {
          "i": 695,
          "loss": 0.0583648644387722
         },
         {
          "i": 696,
          "loss": 0.058345288038253784
         },
         {
          "i": 697,
          "loss": 0.05832569673657417
         },
         {
          "i": 698,
          "loss": 0.05830639228224754
         },
         {
          "i": 699,
          "loss": 0.058287717401981354
         },
         {
          "i": 700,
          "loss": 0.05826824530959129
         },
         {
          "i": 701,
          "loss": 0.058248795568943024
         },
         {
          "i": 702,
          "loss": 0.05822940170764923
         },
         {
          "i": 703,
          "loss": 0.0582100972533226
         },
         {
          "i": 704,
          "loss": 0.05819174274802208
         },
         {
          "i": 705,
          "loss": 0.05817246064543724
         },
         {
          "i": 706,
          "loss": 0.05815327167510986
         },
         {
          "i": 707,
          "loss": 0.0581340491771698
         },
         {
          "i": 708,
          "loss": 0.05811481550335884
         },
         {
          "i": 709,
          "loss": 0.058096326887607574
         },
         {
          "i": 710,
          "loss": 0.058077629655599594
         },
         {
          "i": 711,
          "loss": 0.0580584779381752
         },
         {
          "i": 712,
          "loss": 0.05803942307829857
         },
         {
          "i": 713,
          "loss": 0.0580204501748085
         },
         {
          "i": 714,
          "loss": 0.058001741766929626
         },
         {
          "i": 715,
          "loss": 0.057983480393886566
         },
         {
          "i": 716,
          "loss": 0.05796456336975098
         },
         {
          "i": 717,
          "loss": 0.057945653796195984
         },
         {
          "i": 718,
          "loss": 0.05792677402496338
         },
         {
          "i": 719,
          "loss": 0.05790792405605316
         },
         {
          "i": 720,
          "loss": 0.05789017304778099
         },
         {
          "i": 721,
          "loss": 0.057871412485837936
         },
         {
          "i": 722,
          "loss": 0.05785270780324936
         },
         {
          "i": 723,
          "loss": 0.057833973318338394
         },
         {
          "i": 724,
          "loss": 0.0578153133392334
         },
         {
          "i": 725,
          "loss": 0.057797182351350784
         },
         {
          "i": 726,
          "loss": 0.05777905136346817
         },
         {
          "i": 727,
          "loss": 0.05776047334074974
         },
         {
          "i": 728,
          "loss": 0.0577419176697731
         },
         {
          "i": 729,
          "loss": 0.057723380625247955
         },
         {
          "i": 730,
          "loss": 0.05770497769117355
         },
         {
          "i": 731,
          "loss": 0.05768745020031929
         },
         {
          "i": 732,
          "loss": 0.0576690137386322
         },
         {
          "i": 733,
          "loss": 0.05765064060688019
         },
         {
          "i": 734,
          "loss": 0.05763226002454758
         },
         {
          "i": 735,
          "loss": 0.057613812386989594
         },
         {
          "i": 736,
          "loss": 0.057596102356910706
         },
         {
          "i": 737,
          "loss": 0.05757823586463928
         },
         {
          "i": 738,
          "loss": 0.05755993351340294
         },
         {
          "i": 739,
          "loss": 0.05754164606332779
         },
         {
          "i": 740,
          "loss": 0.057523541152477264
         },
         {
          "i": 741,
          "loss": 0.05750526487827301
         },
         {
          "i": 742,
          "loss": 0.05748814716935158
         },
         {
          "i": 743,
          "loss": 0.05747003108263016
         },
         {
          "i": 744,
          "loss": 0.05745192989706993
         },
         {
          "i": 745,
          "loss": 0.05743379518389702
         },
         {
          "i": 746,
          "loss": 0.05741577595472336
         },
         {
          "i": 747,
          "loss": 0.057398196309804916
         },
         {
          "i": 748,
          "loss": 0.057380761951208115
         },
         {
          "i": 749,
          "loss": 0.057362791150808334
         },
         {
          "i": 750,
          "loss": 0.05734487995505333
         },
         {
          "i": 751,
          "loss": 0.057326849550008774
         },
         {
          "i": 752,
          "loss": 0.05730901658535004
         },
         {
          "i": 753,
          "loss": 0.057291947305202484
         },
         {
          "i": 754,
          "loss": 0.05727435275912285
         },
         {
          "i": 755,
          "loss": 0.05725645646452904
         },
         {
          "i": 756,
          "loss": 0.057238731533288956
         },
         {
          "i": 757,
          "loss": 0.057220883667469025
         },
         {
          "i": 758,
          "loss": 0.057203326374292374
         },
         {
          "i": 759,
          "loss": 0.057186469435691833
         },
         {
          "i": 760,
          "loss": 0.05716875568032265
         },
         {
          "i": 761,
          "loss": 0.05715111643075943
         },
         {
          "i": 762,
          "loss": 0.0571335107088089
         },
         {
          "i": 763,
          "loss": 0.05711585655808449
         },
         {
          "i": 764,
          "loss": 0.05709864944219589
         },
         {
          "i": 765,
          "loss": 0.05708171799778938
         },
         {
          "i": 766,
          "loss": 0.05706411972641945
         },
         {
          "i": 767,
          "loss": 0.05704662948846817
         },
         {
          "i": 768,
          "loss": 0.05702918395400047
         },
         {
          "i": 769,
          "loss": 0.05701171234250069
         },
         {
          "i": 770,
          "loss": 0.05699485167860985
         },
         {
          "i": 771,
          "loss": 0.056977782398462296
         },
         {
          "i": 772,
          "loss": 0.05696037784218788
         },
         {
          "i": 773,
          "loss": 0.05694299563765526
         },
         {
          "i": 774,
          "loss": 0.056925639510154724
         },
         {
          "i": 775,
          "loss": 0.05690838396549225
         },
         {
          "i": 776,
          "loss": 0.05689183622598648
         },
         {
          "i": 777,
          "loss": 0.056874729692935944
         },
         {
          "i": 778,
          "loss": 0.05685745179653168
         },
         {
          "i": 779,
          "loss": 0.05684022605419159
         },
         {
          "i": 780,
          "loss": 0.056823015213012695
         },
         {
          "i": 781,
          "loss": 0.05680588632822037
         },
         {
          "i": 782,
          "loss": 0.056789565831422806
         },
         {
          "i": 783,
          "loss": 0.05677250772714615
         },
         {
          "i": 784,
          "loss": 0.056755367666482925
         },
         {
          "i": 785,
          "loss": 0.0567382387816906
         },
         {
          "i": 786,
          "loss": 0.05672116577625275
         },
         {
          "i": 787,
          "loss": 0.05670422688126564
         },
         {
          "i": 788,
          "loss": 0.056688081473112106
         },
         {
          "i": 789,
          "loss": 0.05667104572057724
         },
         {
          "i": 790,
          "loss": 0.05665406212210655
         },
         {
          "i": 791,
          "loss": 0.05663703382015228
         },
         {
          "i": 792,
          "loss": 0.05662017688155174
         },
         {
          "i": 793,
          "loss": 0.05660329386591911
         },
         {
          "i": 794,
          "loss": 0.05658723786473274
         },
         {
          "i": 795,
          "loss": 0.056570328772068024
         },
         {
          "i": 796,
          "loss": 0.05655347928404808
         },
         {
          "i": 797,
          "loss": 0.05653660371899605
         },
         {
          "i": 798,
          "loss": 0.05651979148387909
         },
         {
          "i": 799,
          "loss": 0.05650320649147034
         },
         {
          "i": 800,
          "loss": 0.05648720636963844
         },
         {
          "i": 801,
          "loss": 0.05647046118974686
         },
         {
          "i": 802,
          "loss": 0.05645370110869408
         },
         {
          "i": 803,
          "loss": 0.05643704533576965
         },
         {
          "i": 804,
          "loss": 0.056420259177684784
         },
         {
          "i": 805,
          "loss": 0.056403759866952896
         },
         {
          "i": 806,
          "loss": 0.05638795718550682
         },
         {
          "i": 807,
          "loss": 0.05637126415967941
         },
         {
          "i": 808,
          "loss": 0.056354645639657974
         },
         {
          "i": 809,
          "loss": 0.05633807182312012
         },
         {
          "i": 810,
          "loss": 0.05632151663303375
         },
         {
          "i": 811,
          "loss": 0.05630497634410858
         },
         {
          "i": 812,
          "loss": 0.05628937855362892
         },
         {
          "i": 813,
          "loss": 0.056272853165864944
         },
         {
          "i": 814,
          "loss": 0.056256428360939026
         },
         {
          "i": 815,
          "loss": 0.056239932775497437
         },
         {
          "i": 816,
          "loss": 0.05622345581650734
         },
         {
          "i": 817,
          "loss": 0.05620703101158142
         },
         {
          "i": 818,
          "loss": 0.056191474199295044
         },
         {
          "i": 819,
          "loss": 0.0561751127243042
         },
         {
          "i": 820,
          "loss": 0.056158795952796936
         },
         {
          "i": 821,
          "loss": 0.056142400950193405
         },
         {
          "i": 822,
          "loss": 0.05612608417868614
         },
         {
          "i": 823,
          "loss": 0.056109800934791565
         },
         {
          "i": 824,
          "loss": 0.056094150990247726
         },
         {
          "i": 825,
          "loss": 0.056078147143125534
         },
         {
          "i": 826,
          "loss": 0.05606187880039215
         },
         {
          "i": 827,
          "loss": 0.05604565516114235
         },
         {
          "i": 828,
          "loss": 0.056029390543699265
         },
         {
          "i": 829,
          "loss": 0.056013260036706924
         },
         {
          "i": 830,
          "loss": 0.05599750950932503
         },
         {
          "i": 831,
          "loss": 0.05598175525665283
         },
         {
          "i": 832,
          "loss": 0.05596563220024109
         },
         {
          "i": 833,
          "loss": 0.055949531495571136
         },
         {
          "i": 834,
          "loss": 0.05593333765864372
         },
         {
          "i": 835,
          "loss": 0.055917296558618546
         },
         {
          "i": 836,
          "loss": 0.055901363492012024
         },
         {
          "i": 837,
          "loss": 0.05588606372475624
         },
         {
          "i": 838,
          "loss": 0.05587007850408554
         },
         {
          "i": 839,
          "loss": 0.05585401877760887
         },
         {
          "i": 840,
          "loss": 0.05583805963397026
         },
         {
          "i": 841,
          "loss": 0.05582203343510628
         },
         {
          "i": 842,
          "loss": 0.055806126445531845
         },
         {
          "i": 843,
          "loss": 0.05579090118408203
         },
         {
          "i": 844,
          "loss": 0.05577511712908745
         },
         {
          "i": 845,
          "loss": 0.05575922876596451
         },
         {
          "i": 846,
          "loss": 0.055743299424648285
         },
         {
          "i": 847,
          "loss": 0.05572746694087982
         },
         {
          "i": 848,
          "loss": 0.055711377412080765
         },
         {
          "i": 849,
          "loss": 0.05569462850689888
         },
         {
          "i": 850,
          "loss": 0.055677980184555054
         },
         {
          "i": 851,
          "loss": 0.055660925805568695
         },
         {
          "i": 852,
          "loss": 0.05564384534955025
         },
         {
          "i": 853,
          "loss": 0.05562689155340195
         },
         {
          "i": 854,
          "loss": 0.05560987815260887
         },
         {
          "i": 855,
          "loss": 0.05559295788407326
         },
         {
          "i": 856,
          "loss": 0.055576786398887634
         },
         {
          "i": 857,
          "loss": 0.0555599108338356
         },
         {
          "i": 858,
          "loss": 0.055542927235364914
         },
         {
          "i": 859,
          "loss": 0.055526088923215866
         },
         {
          "i": 860,
          "loss": 0.05550917610526085
         },
         {
          "i": 861,
          "loss": 0.05549241602420807
         },
         {
          "i": 862,
          "loss": 0.05547603219747543
         },
         {
          "i": 863,
          "loss": 0.05545955151319504
         },
         {
          "i": 864,
          "loss": 0.05544288083910942
         },
         {
          "i": 865,
          "loss": 0.05542606860399246
         },
         {
          "i": 866,
          "loss": 0.05540942773222923
         },
         {
          "i": 867,
          "loss": 0.055392660200595856
         },
         {
          "i": 868,
          "loss": 0.05537597835063934
         },
         {
          "i": 869,
          "loss": 0.055360112339258194
         },
         {
          "i": 870,
          "loss": 0.05534350499510765
         },
         {
          "i": 871,
          "loss": 0.055326856672763824
         },
         {
          "i": 872,
          "loss": 0.05531028285622597
         },
         {
          "i": 873,
          "loss": 0.05529366061091423
         },
         {
          "i": 874,
          "loss": 0.055277060717344284
         },
         {
          "i": 875,
          "loss": 0.05526081472635269
         },
         {
          "i": 876,
          "loss": 0.05524490401148796
         },
         {
          "i": 877,
          "loss": 0.05522838234901428
         },
         {
          "i": 878,
          "loss": 0.05521184951066971
         },
         {
          "i": 879,
          "loss": 0.055195316672325134
         },
         {
          "i": 880,
          "loss": 0.05517888441681862
         },
         {
          "i": 881,
          "loss": 0.055162463337183
         },
         {
          "i": 882,
          "loss": 0.05514654144644737
         },
         {
          "i": 883,
          "loss": 0.05513046681880951
         },
         {
          "i": 884,
          "loss": 0.05511406809091568
         },
         {
          "i": 885,
          "loss": 0.05509777367115021
         },
         {
          "i": 886,
          "loss": 0.05508141592144966
         },
         {
          "i": 887,
          "loss": 0.05506516993045807
         },
         {
          "i": 888,
          "loss": 0.05504884570837021
         },
         {
          "i": 889,
          "loss": 0.05503327026963234
         },
         {
          "i": 890,
          "loss": 0.055017076432704926
         },
         {
          "i": 891,
          "loss": 0.055000871419906616
         },
         {
          "i": 892,
          "loss": 0.054984670132398605
         },
         {
          "i": 893,
          "loss": 0.054968494921922684
         },
         {
          "i": 894,
          "loss": 0.05495236814022064
         },
         {
          "i": 895,
          "loss": 0.054936155676841736
         },
         {
          "i": 896,
          "loss": 0.05492083728313446
         },
         {
          "i": 897,
          "loss": 0.05490470305085182
         },
         {
          "i": 898,
          "loss": 0.05488860234618187
         },
         {
          "i": 899,
          "loss": 0.05487256869673729
         },
         {
          "i": 900,
          "loss": 0.05485643818974495
         },
         {
          "i": 901,
          "loss": 0.054840363562107086
         },
         {
          "i": 902,
          "loss": 0.05482444912195206
         },
         {
          "i": 903,
          "loss": 0.05480913817882538
         },
         {
          "i": 904,
          "loss": 0.05479314178228378
         },
         {
          "i": 905,
          "loss": 0.05477719008922577
         },
         {
          "i": 906,
          "loss": 0.05476125702261925
         },
         {
          "i": 907,
          "loss": 0.05474533513188362
         },
         {
          "i": 908,
          "loss": 0.0547293946146965
         },
         {
          "i": 909,
          "loss": 0.054713692516088486
         },
         {
          "i": 910,
          "loss": 0.05469844862818718
         },
         {
          "i": 911,
          "loss": 0.05468254163861275
         },
         {
          "i": 912,
          "loss": 0.05466672033071518
         },
         {
          "i": 913,
          "loss": 0.054650839418172836
         },
         {
          "i": 914,
          "loss": 0.054635100066661835
         },
         {
          "i": 915,
          "loss": 0.05461928993463516
         },
         {
          "i": 916,
          "loss": 0.05460364371538162
         },
         {
          "i": 917,
          "loss": 0.05458853766322136
         },
         {
          "i": 918,
          "loss": 0.054572805762290955
         },
         {
          "i": 919,
          "loss": 0.054557085037231445
         },
         {
          "i": 920,
          "loss": 0.054541416466236115
         },
         {
          "i": 921,
          "loss": 0.054525744169950485
         },
         {
          "i": 922,
          "loss": 0.05451004207134247
         },
         {
          "i": 923,
          "loss": 0.05449449643492699
         },
         {
          "i": 924,
          "loss": 0.054479602724313736
         },
         {
          "i": 925,
          "loss": 0.05446399375796318
         },
         {
          "i": 926,
          "loss": 0.05444835498929024
         },
         {
          "i": 927,
          "loss": 0.054432760924100876
         },
         {
          "i": 928,
          "loss": 0.05441723391413689
         },
         {
          "i": 929,
          "loss": 0.0544017031788826
         },
         {
          "i": 930,
          "loss": 0.054386187344789505
         },
         {
          "i": 931,
          "loss": 0.05437132716178894
         },
         {
          "i": 932,
          "loss": 0.054355934262275696
         },
         {
          "i": 933,
          "loss": 0.054340463131666183
         },
         {
          "i": 934,
          "loss": 0.054325006902217865
         },
         {
          "i": 935,
          "loss": 0.05430926755070686
         },
         {
          "i": 936,
          "loss": 0.0542924627661705
         },
         {
          "i": 937,
          "loss": 0.054275643080472946
         },
         {
          "i": 938,
          "loss": 0.05425933003425598
         },
         {
          "i": 939,
          "loss": 0.05424286797642708
         },
         {
          "i": 940,
          "loss": 0.0542260967195034
         },
         {
          "i": 941,
          "loss": 0.0542093887925148
         },
         {
          "i": 942,
          "loss": 0.05419269949197769
         },
         {
          "i": 943,
          "loss": 0.05417602136731148
         },
         {
          "i": 944,
          "loss": 0.05415938422083855
         },
         {
          "i": 945,
          "loss": 0.054142922163009644
         },
         {
          "i": 946,
          "loss": 0.054126836359500885
         },
         {
          "i": 947,
          "loss": 0.05411020293831825
         },
         {
          "i": 948,
          "loss": 0.05409371480345726
         },
         {
          "i": 949,
          "loss": 0.054077111184597015
         },
         {
          "i": 950,
          "loss": 0.05406062304973602
         },
         {
          "i": 951,
          "loss": 0.054044075310230255
         },
         {
          "i": 952,
          "loss": 0.05402757227420807
         },
         {
          "i": 953,
          "loss": 0.05401179939508438
         },
         {
          "i": 954,
          "loss": 0.053995441645383835
         },
         {
          "i": 955,
          "loss": 0.053978972136974335
         },
         {
          "i": 956,
          "loss": 0.05396263301372528
         },
         {
          "i": 957,
          "loss": 0.053946152329444885
         },
         {
          "i": 958,
          "loss": 0.05392985790967941
         },
         {
          "i": 959,
          "loss": 0.05391349643468857
         },
         {
          "i": 960,
          "loss": 0.05389738455414772
         },
         {
          "i": 961,
          "loss": 0.05388157069683075
         },
         {
          "i": 962,
          "loss": 0.05386529490351677
         },
         {
          "i": 963,
          "loss": 0.053848996758461
         },
         {
          "i": 964,
          "loss": 0.05383273586630821
         },
         {
          "i": 965,
          "loss": 0.053816553205251694
         },
         {
          "i": 966,
          "loss": 0.053800322115421295
         },
         {
          "i": 967,
          "loss": 0.053784146904945374
         },
         {
          "i": 968,
          "loss": 0.053768519312143326
         },
         {
          "i": 969,
          "loss": 0.05375254526734352
         },
         {
          "i": 970,
          "loss": 0.05373638495802879
         },
         {
          "i": 971,
          "loss": 0.05372031033039093
         },
         {
          "i": 972,
          "loss": 0.053704190999269485
         },
         {
          "i": 973,
          "loss": 0.053688112646341324
         },
         {
          "i": 974,
          "loss": 0.05367209389805794
         },
         {
          "i": 975,
          "loss": 0.05365610495209694
         },
         {
          "i": 976,
          "loss": 0.05364079400897026
         },
         {
          "i": 977,
          "loss": 0.05362476408481598
         },
         {
          "i": 978,
          "loss": 0.05360879376530647
         },
         {
          "i": 979,
          "loss": 0.053592782467603683
         },
         {
          "i": 980,
          "loss": 0.05357687175273895
         },
         {
          "i": 981,
          "loss": 0.053560882806777954
         },
         {
          "i": 982,
          "loss": 0.05354505404829979
         },
         {
          "i": 983,
          "loss": 0.05352933704853058
         },
         {
          "i": 984,
          "loss": 0.0535140223801136
         },
         {
          "i": 985,
          "loss": 0.05349811166524887
         },
         {
          "i": 986,
          "loss": 0.0534822978079319
         },
         {
          "i": 987,
          "loss": 0.05346652865409851
         },
         {
          "i": 988,
          "loss": 0.05345067381858826
         },
         {
          "i": 989,
          "loss": 0.05343493074178696
         },
         {
          "i": 990,
          "loss": 0.05341919884085655
         },
         {
          "i": 991,
          "loss": 0.05340373143553734
         },
         {
          "i": 992,
          "loss": 0.05338842794299126
         },
         {
          "i": 993,
          "loss": 0.053372737020254135
         },
         {
          "i": 994,
          "loss": 0.05335704982280731
         },
         {
          "i": 995,
          "loss": 0.05334138497710228
         },
         {
          "i": 996,
          "loss": 0.05332572013139725
         },
         {
          "i": 997,
          "loss": 0.0533100850880146
         },
         {
          "i": 998,
          "loss": 0.05329447612166405
         },
         {
          "i": 999,
          "loss": 0.05327920615673065
         }
        ]
       },
       "encoding": {
        "x": {
         "field": "i",
         "type": "quantitative"
        },
        "y": {
         "field": "loss",
         "type": "quantitative"
        }
       },
       "height": 100,
       "mark": "line"
      },
      "image/png": "[encoded data removed]",
      "text/plain": [
       "<VegaLite 3 object>\n",
       "\n",
       "If you see this message, it means the renderer has not been properly enabled\n",
       "for the frontend that you are using. For more information, see\n",
       "https://altair-viz.github.io/user_guide/troubleshooting.html\n"
      ]
     },
     "execution_count": 61,
     "metadata": {},
     "output_type": "execute_result"
    }
   ],
   "source": [
    "loss_df = pd.DataFrame({'i':range(n_steps), 'loss':loss_record})\n",
    "alt.Chart(loss_df, height=100).mark_line().encode(x='i', y='loss')"
   ]
  },
  {
   "cell_type": "code",
   "execution_count": 62,
   "metadata": {},
   "outputs": [
    {
     "data": {
      "application/vnd.vegalite.v3+json": {
       "$schema": "https://vega.github.io/schema/vega-lite/v3.4.0.json",
       "config": {
        "mark": {
         "tooltip": null
        },
        "view": {
         "height": 300,
         "width": 400
        }
       },
       "data": {
        "name": "data-12dc17414ffadc4e1673461157c2967b"
       },
       "datasets": {
        "data-12dc17414ffadc4e1673461157c2967b": [
         {
          "x1": -2.145827531814575,
          "y": 4.6045756340026855,
          "ŷ": 4.15474271774292
         },
         {
          "x1": 0.8515135049819946,
          "y": 0.7250752449035645,
          "ŷ": 0.5159803032875061
         },
         {
          "x1": -1.5393481254577637,
          "y": 2.3695926666259766,
          "ŷ": 2.641920566558838
         },
         {
          "x1": -0.3531803488731384,
          "y": 0.12473636120557785,
          "ŷ": 0.0799829363822937
         },
         {
          "x1": -0.10731004178524017,
          "y": 0.011515445075929165,
          "ŷ": 0.21562927961349487
         },
         {
          "x1": -0.3237784504890442,
          "y": 0.1048324853181839,
          "ŷ": 0.09620392322540283
         },
         {
          "x1": -0.13115233182907104,
          "y": 0.017200933769345284,
          "ŷ": 0.20247560739517212
         },
         {
          "x1": 1.4117845296859741,
          "y": 1.9931355714797974,
          "ŷ": 2.165393829345703
         },
         {
          "x1": 0.43303051590919495,
          "y": 0.18751542270183563,
          "ŷ": 0.14478808641433716
         },
         {
          "x1": -0.7359145879745483,
          "y": 0.5415703058242798,
          "ŷ": 0.5335633158683777
         },
         {
          "x1": 1.3827660083770752,
          "y": 1.9120417833328247,
          "ŷ": 2.069622039794922
         },
         {
          "x1": 0.48778486251831055,
          "y": 0.23793406784534454,
          "ŷ": 0.13099557161331177
         },
         {
          "x1": 1.2440061569213867,
          "y": 1.5475512742996216,
          "ŷ": 1.611670970916748
         },
         {
          "x1": -0.6383095979690552,
          "y": 0.40743914246559143,
          "ŷ": 0.11295676231384277
         },
         {
          "x1": -1.3455580472946167,
          "y": 1.8105264902114868,
          "ŷ": 2.1585235595703125
         },
         {
          "x1": 1.366991400718689,
          "y": 1.8686654567718506,
          "ŷ": 2.0175623893737793
         },
         {
          "x1": -0.39715129137039185,
          "y": 0.1577291488647461,
          "ŷ": 0.05572432279586792
         },
         {
          "x1": 0.8554654717445374,
          "y": 0.7318211793899536,
          "ŷ": 0.5224738717079163
         },
         {
          "x1": 2.1885807514190674,
          "y": 4.789885520935059,
          "ŷ": 4.729067802429199
         },
         {
          "x1": 1.3997128009796143,
          "y": 1.9591959714889526,
          "ŷ": 2.1255531311035156
         },
         {
          "x1": -0.19627578556537628,
          "y": 0.03852418437600136,
          "ŷ": 0.1665467619895935
         },
         {
          "x1": 0.14182914793491364,
          "y": 0.020115507766604424,
          "ŷ": 0.2170141339302063
         },
         {
          "x1": -1.8905378580093384,
          "y": 3.5741333961486816,
          "ŷ": 3.5179409980773926
         },
         {
          "x1": -0.5376077890396118,
          "y": 0.28902214765548706,
          "ŷ": -0.3407188057899475
         },
         {
          "x1": -0.8085576891899109,
          "y": 0.6537655591964722,
          "ŷ": 0.8190097212791443
         },
         {
          "x1": 0.25463640689849854,
          "y": 0.06483969837427139,
          "ŷ": 0.18972617387771606
         },
         {
          "x1": -1.3234580755233765,
          "y": 1.751541256904602,
          "ŷ": 2.103395938873291
         },
         {
          "x1": 0.2628934383392334,
          "y": 0.06911295652389526,
          "ŷ": 0.18764597177505493
         },
         {
          "x1": 1.5142133235931396,
          "y": 2.292841911315918,
          "ŷ": 2.5034403800964355
         },
         {
          "x1": 1.3063167333602905,
          "y": 1.7064634561538696,
          "ŷ": 1.8173155784606934
         },
         {
          "x1": 0.8249920606613159,
          "y": 0.6806119084358215,
          "ŷ": 0.47240692377090454
         },
         {
          "x1": -0.8978439569473267,
          "y": 0.8061237931251526,
          "ŷ": 1.0417280197143555
         },
         {
          "x1": 0.5939967632293701,
          "y": 0.352832168340683,
          "ŷ": 0.10424119234085083
         },
         {
          "x1": -2.296210527420044,
          "y": 5.2725830078125,
          "ŷ": 4.529866695404053
         },
         {
          "x1": 0.0756196454167366,
          "y": 0.005718330852687359,
          "ŷ": 0.2270098328590393
         },
         {
          "x1": -1.2327375411987305,
          "y": 1.5196418762207031,
          "ŷ": 1.877098560333252
         },
         {
          "x1": -0.2782452702522278,
          "y": 0.0774204283952713,
          "ŷ": 0.12132447957992554
         },
         {
          "x1": -1.3208692073822021,
          "y": 1.7446954250335693,
          "ŷ": 2.0969386100769043
         },
         {
          "x1": 2.105039596557617,
          "y": 4.431191921234131,
          "ŷ": 4.453354358673096
         },
         {
          "x1": 0.120696060359478,
          "y": 0.014567539095878601,
          "ŷ": 0.2202046513557434
         },
         {
          "x1": 2.158449649810791,
          "y": 4.658905029296875,
          "ŷ": 4.629624366760254
         },
         {
          "x1": -0.3352876901626587,
          "y": 0.11241783201694489,
          "ŷ": 0.0898544192314148
         },
         {
          "x1": 0.04271180182695389,
          "y": 0.0018242980586364865,
          "ŷ": 0.23197823762893677
         },
         {
          "x1": -0.7678594589233398,
          "y": 0.5896081328392029,
          "ŷ": 0.6712223887443542
         },
         {
          "x1": 0.16031508147716522,
          "y": 0.025700924918055534,
          "ŷ": 0.21348577737808228
         },
         {
          "x1": -0.0359356552362442,
          "y": 0.0012913712998852134,
          "ŷ": 0.24385148286819458
         },
         {
          "x1": -0.5017808079719543,
          "y": 0.25178396701812744,
          "ŷ": -0.24921339750289917
         },
         {
          "x1": 0.2995201051235199,
          "y": 0.08971229195594788,
          "ŷ": 0.17841988801956177
         },
         {
          "x1": 1.122291922569275,
          "y": 1.2595391273498535,
          "ŷ": 1.2099766731262207
         },
         {
          "x1": -1.07473623752594,
          "y": 1.1550580263137817,
          "ŷ": 1.4829754829406738
         },
         {
          "x1": 0.2427663952112198,
          "y": 0.05893552303314209,
          "ŷ": 0.19271594285964966
         },
         {
          "x1": 0.7595889568328857,
          "y": 0.576975405216217,
          "ŷ": 0.3649492859840393
         },
         {
          "x1": 1.5121599435806274,
          "y": 2.286627769470215,
          "ŷ": 2.496664047241211
         },
         {
          "x1": 1.5855568647384644,
          "y": 2.513990640640259,
          "ŷ": 2.7388968467712402
         },
         {
          "x1": -0.002611742587760091,
          "y": 6.8211993493605405e-06,
          "ŷ": 0.23882073163986206
         },
         {
          "x1": 0.42401862144470215,
          "y": 0.17979179322719574,
          "ŷ": 0.14705854654312134
         },
         {
          "x1": 0.061668761074543,
          "y": 0.0038030361756682396,
          "ŷ": 0.2291162610054016
         },
         {
          "x1": 1.4607912302017212,
          "y": 2.1339111328125,
          "ŷ": 2.3271307945251465
         },
         {
          "x1": 0.567679762840271,
          "y": 0.322260320186615,
          "ŷ": 0.11086946725845337
         },
         {
          "x1": 1.5045700073242188,
          "y": 2.263731002807617,
          "ŷ": 2.4716148376464844
         },
         {
          "x1": 0.8463513255119324,
          "y": 0.7163105607032776,
          "ŷ": 0.5074997544288635
         },
         {
          "x1": 0.49764928221702576,
          "y": 0.24765481054782867,
          "ŷ": 0.12851029634475708
         },
         {
          "x1": 0.7638953924179077,
          "y": 0.5835361480712891,
          "ŷ": 0.3720250725746155
         },
         {
          "x1": 0.6049056053161621,
          "y": 0.3659107983112335,
          "ŷ": 0.11080461740493774
         },
         {
          "x1": 0.6565972566604614,
          "y": 0.4311199486255646,
          "ŷ": 0.19573408365249634
         },
         {
          "x1": 2.28867244720459,
          "y": 5.238021373748779,
          "ŷ": 5.05940055847168
         },
         {
          "x1": 0.5497448444366455,
          "y": 0.3022193908691406,
          "ŷ": 0.11538726091384888
         },
         {
          "x1": 1.3071454763412476,
          "y": 1.7086292505264282,
          "ŷ": 1.8200511932373047
         },
         {
          "x1": 0.5625442862510681,
          "y": 0.3164560794830322,
          "ŷ": 0.11216312646865845
         },
         {
          "x1": 1.308899998664856,
          "y": 1.713219165802002,
          "ŷ": 1.8258419036865234
         },
         {
          "x1": 0.1995021104812622,
          "y": 0.03980109095573425,
          "ŷ": 0.20361429452896118
         },
         {
          "x1": -0.1692361831665039,
          "y": 0.028640884906053543,
          "ŷ": 0.18146449327468872
         },
         {
          "x1": 0.6987470984458923,
          "y": 0.48824751377105713,
          "ŷ": 0.2649851441383362
         },
         {
          "x1": -0.1077064797282219,
          "y": 0.011600686237215996,
          "ŷ": 0.2154107689857483
         },
         {
          "x1": -0.8274309635162354,
          "y": 0.6846420168876648,
          "ŷ": 0.8660871386528015
         },
         {
          "x1": -1.4414702653884888,
          "y": 2.077836513519287,
          "ŷ": 2.3977699279785156
         },
         {
          "x1": 1.5343605279922485,
          "y": 2.354262113571167,
          "ŷ": 2.569932460784912
         },
         {
          "x1": -0.3002919554710388,
          "y": 0.09017525613307953,
          "ŷ": 0.1091611385345459
         },
         {
          "x1": 1.1435267925262451,
          "y": 1.307653546333313,
          "ŷ": 1.2800579071044922
         },
         {
          "x1": 1.1200519800186157,
          "y": 1.2545164823532104,
          "ŷ": 1.2025837898254395
         },
         {
          "x1": 2.45469069480896,
          "y": 6.025506496429443,
          "ŷ": 5.607312202453613
         },
         {
          "x1": -0.2614957392215729,
          "y": 0.06838002055883408,
          "ŷ": 0.130565345287323
         },
         {
          "x1": 0.7590078115463257,
          "y": 0.5760928392410278,
          "ŷ": 0.36399370431900024
         },
         {
          "x1": 1.087658166885376,
          "y": 1.1830003261566162,
          "ŷ": 1.0956740379333496
         },
         {
          "x1": 0.2518618702888489,
          "y": 0.06343439966440201,
          "ŷ": 0.19042450189590454
         },
         {
          "x1": 0.13138757646083832,
          "y": 0.017262695357203484,
          "ŷ": 0.21859079599380493
         },
         {
          "x1": 0.07657207548618317,
          "y": 0.0058632828295230865,
          "ŷ": 0.22686654329299927
         },
         {
          "x1": 0.5454772114753723,
          "y": 0.2975453734397888,
          "ŷ": 0.11646300554275513
         },
         {
          "x1": 2.162827730178833,
          "y": 4.677824020385742,
          "ŷ": 4.644073963165283
         },
         {
          "x1": -0.17029282450675964,
          "y": 0.02899964526295662,
          "ŷ": 0.1808820366859436
         },
         {
          "x1": -0.8324225544929504,
          "y": 0.6929273009300232,
          "ŷ": 0.8785386681556702
         },
         {
          "x1": -0.6054279804229736,
          "y": 0.3665430247783661,
          "ŷ": -0.028738796710968018
         },
         {
          "x1": 0.8622176051139832,
          "y": 0.7434191703796387,
          "ŷ": 0.533567488193512
         },
         {
          "x1": 0.6106464862823486,
          "y": 0.37288913130760193,
          "ŷ": 0.12023669481277466
         },
         {
          "x1": -0.5831924080848694,
          "y": 0.3401133716106415,
          "ŷ": -0.12455838918685913
         },
         {
          "x1": 1.2222892045974731,
          "y": 1.4939908981323242,
          "ŷ": 1.5399985313415527
         },
         {
          "x1": -1.4974786043167114,
          "y": 2.2424421310424805,
          "ŷ": 2.5374789237976074
         },
         {
          "x1": -0.3242218494415283,
          "y": 0.10511980950832367,
          "ŷ": 0.09595924615859985
         },
         {
          "x1": 0.24697332084178925,
          "y": 0.06099582090973854,
          "ŷ": 0.1916561722755432
         },
         {
          "x1": -0.5974962711334229,
          "y": 0.35700178146362305,
          "ŷ": -0.06291884183883667
         }
        ]
       },
       "layer": [
        {
         "encoding": {
          "x": {
           "field": "x1",
           "type": "quantitative"
          },
          "y": {
           "field": "ŷ",
           "type": "quantitative"
          }
         },
         "mark": "line"
        },
        {
         "encoding": {
          "x": {
           "field": "x1",
           "type": "quantitative"
          },
          "y": {
           "field": "y",
           "type": "quantitative"
          }
         },
         "mark": "point"
        }
       ]
      },
      "image/png": "[encoded data removed]",
      "text/plain": [
       "<VegaLite 3 object>\n",
       "\n",
       "If you see this message, it means the renderer has not been properly enabled\n",
       "for the frontend that you are using. For more information, see\n",
       "https://altair-viz.github.io/user_guide/troubleshooting.html\n"
      ]
     },
     "execution_count": 62,
     "metadata": {},
     "output_type": "execute_result"
    }
   ],
   "source": [
    "preds = pd.DataFrame({'ŷ':my_model(x).detach().numpy()[:,0], 'y':y[:,0], 'x1':x[:,0]})\n",
    "(alt.Chart(preds).mark_line().encode(x='x1', y='ŷ') + \n",
    "alt.Chart(preds).mark_point().encode(x='x1', y='y'))"
   ]
  },
  {
   "cell_type": "markdown",
   "metadata": {},
   "source": [
    "Now it's trivial to add more layers or change their sizes. Let's also a new dataset with a different relationship between $x$ and $y$ to see we can fit pretty arbitrary nonlinearities."
   ]
  },
  {
   "cell_type": "code",
   "execution_count": 63,
   "metadata": {},
   "outputs": [],
   "source": [
    "x = torch.randn(n, p) # predictors (n observations, p features)\n",
    "y = (x[:,0]**3 + torch.sin(4*x[:,0])).unsqueeze(dim=1) # outcomes (n observations)"
   ]
  },
  {
   "cell_type": "code",
   "execution_count": 64,
   "metadata": {},
   "outputs": [],
   "source": [
    "my_model = Model([1,10,50,5,5])\n",
    "\n",
    "n_steps = 2000\n",
    "ϵ = 0.5*10e-4\n",
    "loss_record = []\n",
    "\n",
    "for e in range(n_steps):\n",
    "    ŷ = my_model(x) \n",
    "    L = torch.sum((y-ŷ)**2)/len(ŷ)\n",
    "    \n",
    "    loss_record.append(L.item())\n",
    "    L.backward()\n",
    "    \n",
    "    my_model.step(ϵ)"
   ]
  },
  {
   "cell_type": "code",
   "execution_count": 65,
   "metadata": {},
   "outputs": [
    {
     "data": {
      "application/vnd.vegalite.v3+json": {
       "$schema": "https://vega.github.io/schema/vega-lite/v3.4.0.json",
       "config": {
        "mark": {
         "tooltip": null
        },
        "view": {
         "height": 300,
         "width": 400
        }
       },
       "data": {
        "name": "data-95e83ffc430be650f52a0c5d8f0da7e6"
       },
       "datasets": {
        "data-95e83ffc430be650f52a0c5d8f0da7e6": [
         {
          "i": 0,
          "loss": 63.134056091308594
         },
         {
          "i": 1,
          "loss": 41.44011306762695
         },
         {
          "i": 2,
          "loss": 32.95066452026367
         },
         {
          "i": 3,
          "loss": 28.528514862060547
         },
         {
          "i": 4,
          "loss": 25.861234664916992
         },
         {
          "i": 5,
          "loss": 24.180187225341797
         },
         {
          "i": 6,
          "loss": 23.016733169555664
         },
         {
          "i": 7,
          "loss": 22.14989471435547
         },
         {
          "i": 8,
          "loss": 21.484434127807617
         },
         {
          "i": 9,
          "loss": 20.959375381469727
         },
         {
          "i": 10,
          "loss": 20.535825729370117
         },
         {
          "i": 11,
          "loss": 20.190492630004883
         },
         {
          "i": 12,
          "loss": 19.900798797607422
         },
         {
          "i": 13,
          "loss": 19.654739379882812
         },
         {
          "i": 14,
          "loss": 19.443117141723633
         },
         {
          "i": 15,
          "loss": 19.258956909179688
         },
         {
          "i": 16,
          "loss": 19.09720802307129
         },
         {
          "i": 17,
          "loss": 18.953813552856445
         },
         {
          "i": 18,
          "loss": 18.825355529785156
         },
         {
          "i": 19,
          "loss": 18.706457138061523
         },
         {
          "i": 20,
          "loss": 18.597383499145508
         },
         {
          "i": 21,
          "loss": 18.49742317199707
         },
         {
          "i": 22,
          "loss": 18.405275344848633
         },
         {
          "i": 23,
          "loss": 18.320903778076172
         },
         {
          "i": 24,
          "loss": 18.24526023864746
         },
         {
          "i": 25,
          "loss": 18.174484252929688
         },
         {
          "i": 26,
          "loss": 18.108427047729492
         },
         {
          "i": 27,
          "loss": 18.046159744262695
         },
         {
          "i": 28,
          "loss": 17.987327575683594
         },
         {
          "i": 29,
          "loss": 17.931671142578125
         },
         {
          "i": 30,
          "loss": 17.879173278808594
         },
         {
          "i": 31,
          "loss": 17.828767776489258
         },
         {
          "i": 32,
          "loss": 17.780698776245117
         },
         {
          "i": 33,
          "loss": 17.73430633544922
         },
         {
          "i": 34,
          "loss": 17.689407348632812
         },
         {
          "i": 35,
          "loss": 17.646133422851562
         },
         {
          "i": 36,
          "loss": 17.60405158996582
         },
         {
          "i": 37,
          "loss": 17.562931060791016
         },
         {
          "i": 38,
          "loss": 17.523073196411133
         },
         {
          "i": 39,
          "loss": 17.48405647277832
         },
         {
          "i": 40,
          "loss": 17.4456787109375
         },
         {
          "i": 41,
          "loss": 17.408252716064453
         },
         {
          "i": 42,
          "loss": 17.371461868286133
         },
         {
          "i": 43,
          "loss": 17.335071563720703
         },
         {
          "i": 44,
          "loss": 17.299421310424805
         },
         {
          "i": 45,
          "loss": 17.264293670654297
         },
         {
          "i": 46,
          "loss": 17.22937774658203
         },
         {
          "i": 47,
          "loss": 17.1949462890625
         },
         {
          "i": 48,
          "loss": 17.161043167114258
         },
         {
          "i": 49,
          "loss": 17.127172470092773
         },
         {
          "i": 50,
          "loss": 17.093610763549805
         },
         {
          "i": 51,
          "loss": 17.0605411529541
         },
         {
          "i": 52,
          "loss": 17.027490615844727
         },
         {
          "i": 53,
          "loss": 16.994609832763672
         },
         {
          "i": 54,
          "loss": 16.962688446044922
         },
         {
          "i": 55,
          "loss": 16.93116569519043
         },
         {
          "i": 56,
          "loss": 16.899887084960938
         },
         {
          "i": 57,
          "loss": 16.86872673034668
         },
         {
          "i": 58,
          "loss": 16.837738037109375
         },
         {
          "i": 59,
          "loss": 16.806875228881836
         },
         {
          "i": 60,
          "loss": 16.775890350341797
         },
         {
          "i": 61,
          "loss": 16.74504852294922
         },
         {
          "i": 62,
          "loss": 16.7143611907959
         },
         {
          "i": 63,
          "loss": 16.683996200561523
         },
         {
          "i": 64,
          "loss": 16.653406143188477
         },
         {
          "i": 65,
          "loss": 16.622840881347656
         },
         {
          "i": 66,
          "loss": 16.592287063598633
         },
         {
          "i": 67,
          "loss": 16.561737060546875
         },
         {
          "i": 68,
          "loss": 16.531261444091797
         },
         {
          "i": 69,
          "loss": 16.500720977783203
         },
         {
          "i": 70,
          "loss": 16.4700984954834
         },
         {
          "i": 71,
          "loss": 16.439485549926758
         },
         {
          "i": 72,
          "loss": 16.408918380737305
         },
         {
          "i": 73,
          "loss": 16.378328323364258
         },
         {
          "i": 74,
          "loss": 16.347681045532227
         },
         {
          "i": 75,
          "loss": 16.317007064819336
         },
         {
          "i": 76,
          "loss": 16.28629493713379
         },
         {
          "i": 77,
          "loss": 16.255542755126953
         },
         {
          "i": 78,
          "loss": 16.22474479675293
         },
         {
          "i": 79,
          "loss": 16.19390106201172
         },
         {
          "i": 80,
          "loss": 16.163005828857422
         },
         {
          "i": 81,
          "loss": 16.132062911987305
         },
         {
          "i": 82,
          "loss": 16.1010684967041
         },
         {
          "i": 83,
          "loss": 16.07004165649414
         },
         {
          "i": 84,
          "loss": 16.038963317871094
         },
         {
          "i": 85,
          "loss": 16.007823944091797
         },
         {
          "i": 86,
          "loss": 15.977081298828125
         },
         {
          "i": 87,
          "loss": 15.946566581726074
         },
         {
          "i": 88,
          "loss": 15.917252540588379
         },
         {
          "i": 89,
          "loss": 15.894832611083984
         },
         {
          "i": 90,
          "loss": 15.869488716125488
         },
         {
          "i": 91,
          "loss": 15.842965126037598
         },
         {
          "i": 92,
          "loss": 15.822525978088379
         },
         {
          "i": 93,
          "loss": 15.7983980178833
         },
         {
          "i": 94,
          "loss": 15.771456718444824
         },
         {
          "i": 95,
          "loss": 15.746243476867676
         },
         {
          "i": 96,
          "loss": 15.725607872009277
         },
         {
          "i": 97,
          "loss": 15.70195198059082
         },
         {
          "i": 98,
          "loss": 15.677193641662598
         },
         {
          "i": 99,
          "loss": 15.654465675354004
         },
         {
          "i": 100,
          "loss": 15.633894920349121
         },
         {
          "i": 101,
          "loss": 15.611529350280762
         },
         {
          "i": 102,
          "loss": 15.586681365966797
         },
         {
          "i": 103,
          "loss": 15.563468933105469
         },
         {
          "i": 104,
          "loss": 15.540397644042969
         },
         {
          "i": 105,
          "loss": 15.519976615905762
         },
         {
          "i": 106,
          "loss": 15.498098373413086
         },
         {
          "i": 107,
          "loss": 15.4750394821167
         },
         {
          "i": 108,
          "loss": 15.452471733093262
         },
         {
          "i": 109,
          "loss": 15.430200576782227
         },
         {
          "i": 110,
          "loss": 15.40998649597168
         },
         {
          "i": 111,
          "loss": 15.39001750946045
         },
         {
          "i": 112,
          "loss": 15.367796897888184
         },
         {
          "i": 113,
          "loss": 15.346053123474121
         },
         {
          "i": 114,
          "loss": 15.325634002685547
         },
         {
          "i": 115,
          "loss": 15.303139686584473
         },
         {
          "i": 116,
          "loss": 15.283476829528809
         },
         {
          "i": 117,
          "loss": 15.260960578918457
         },
         {
          "i": 118,
          "loss": 15.24130630493164
         },
         {
          "i": 119,
          "loss": 15.219752311706543
         },
         {
          "i": 120,
          "loss": 15.198934555053711
         },
         {
          "i": 121,
          "loss": 15.179825782775879
         },
         {
          "i": 122,
          "loss": 15.156185150146484
         },
         {
          "i": 123,
          "loss": 15.139281272888184
         },
         {
          "i": 124,
          "loss": 15.114978790283203
         },
         {
          "i": 125,
          "loss": 15.094805717468262
         },
         {
          "i": 126,
          "loss": 15.074895858764648
         },
         {
          "i": 127,
          "loss": 15.05868148803711
         },
         {
          "i": 128,
          "loss": 15.034431457519531
         },
         {
          "i": 129,
          "loss": 15.014351844787598
         },
         {
          "i": 130,
          "loss": 14.994524002075195
         },
         {
          "i": 131,
          "loss": 14.9745512008667
         },
         {
          "i": 132,
          "loss": 14.954790115356445
         },
         {
          "i": 133,
          "loss": 14.93506145477295
         },
         {
          "i": 134,
          "loss": 14.91942024230957
         },
         {
          "i": 135,
          "loss": 14.895587921142578
         },
         {
          "i": 136,
          "loss": 14.875870704650879
         },
         {
          "i": 137,
          "loss": 14.856379508972168
         },
         {
          "i": 138,
          "loss": 14.836782455444336
         },
         {
          "i": 139,
          "loss": 14.81728744506836
         },
         {
          "i": 140,
          "loss": 14.797868728637695
         },
         {
          "i": 141,
          "loss": 14.778389930725098
         },
         {
          "i": 142,
          "loss": 14.759115219116211
         },
         {
          "i": 143,
          "loss": 14.739692687988281
         },
         {
          "i": 144,
          "loss": 14.720441818237305
         },
         {
          "i": 145,
          "loss": 14.701167106628418
         },
         {
          "i": 146,
          "loss": 14.681914329528809
         },
         {
          "i": 147,
          "loss": 14.662808418273926
         },
         {
          "i": 148,
          "loss": 14.643607139587402
         },
         {
          "i": 149,
          "loss": 14.624600410461426
         },
         {
          "i": 150,
          "loss": 14.605594635009766
         },
         {
          "i": 151,
          "loss": 14.586629867553711
         },
         {
          "i": 152,
          "loss": 14.567770957946777
         },
         {
          "i": 153,
          "loss": 14.548827171325684
         },
         {
          "i": 154,
          "loss": 14.53003215789795
         },
         {
          "i": 155,
          "loss": 14.511183738708496
         },
         {
          "i": 156,
          "loss": 14.492369651794434
         },
         {
          "i": 157,
          "loss": 14.473655700683594
         },
         {
          "i": 158,
          "loss": 14.454870223999023
         },
         {
          "i": 159,
          "loss": 14.436217308044434
         },
         {
          "i": 160,
          "loss": 14.417530059814453
         },
         {
          "i": 161,
          "loss": 14.398842811584473
         },
         {
          "i": 162,
          "loss": 14.380270004272461
         },
         {
          "i": 163,
          "loss": 14.361615180969238
         },
         {
          "i": 164,
          "loss": 14.343055725097656
         },
         {
          "i": 165,
          "loss": 14.324494361877441
         },
         {
          "i": 166,
          "loss": 14.305891036987305
         },
         {
          "i": 167,
          "loss": 14.287378311157227
         },
         {
          "i": 168,
          "loss": 14.268909454345703
         },
         {
          "i": 169,
          "loss": 14.250557899475098
         },
         {
          "i": 170,
          "loss": 14.232364654541016
         },
         {
          "i": 171,
          "loss": 14.21402359008789
         },
         {
          "i": 172,
          "loss": 14.19582748413086
         },
         {
          "i": 173,
          "loss": 14.177647590637207
         },
         {
          "i": 174,
          "loss": 14.1594820022583
         },
         {
          "i": 175,
          "loss": 14.141369819641113
         },
         {
          "i": 176,
          "loss": 14.123246192932129
         },
         {
          "i": 177,
          "loss": 14.105212211608887
         },
         {
          "i": 178,
          "loss": 14.087170600891113
         },
         {
          "i": 179,
          "loss": 14.069114685058594
         },
         {
          "i": 180,
          "loss": 14.051142692565918
         },
         {
          "i": 181,
          "loss": 14.033206939697266
         },
         {
          "i": 182,
          "loss": 14.015240669250488
         },
         {
          "i": 183,
          "loss": 13.99732780456543
         },
         {
          "i": 184,
          "loss": 13.979501724243164
         },
         {
          "i": 185,
          "loss": 13.961638450622559
         },
         {
          "i": 186,
          "loss": 13.943760871887207
         },
         {
          "i": 187,
          "loss": 13.925943374633789
         },
         {
          "i": 188,
          "loss": 13.908164978027344
         },
         {
          "i": 189,
          "loss": 13.890359878540039
         },
         {
          "i": 190,
          "loss": 13.872553825378418
         },
         {
          "i": 191,
          "loss": 13.854833602905273
         },
         {
          "i": 192,
          "loss": 13.837163925170898
         },
         {
          "i": 193,
          "loss": 13.819501876831055
         },
         {
          "i": 194,
          "loss": 13.801867485046387
         },
         {
          "i": 195,
          "loss": 13.784337997436523
         },
         {
          "i": 196,
          "loss": 13.766907691955566
         },
         {
          "i": 197,
          "loss": 13.74937629699707
         },
         {
          "i": 198,
          "loss": 13.73194694519043
         },
         {
          "i": 199,
          "loss": 13.714476585388184
         },
         {
          "i": 200,
          "loss": 13.697037696838379
         },
         {
          "i": 201,
          "loss": 13.680069923400879
         },
         {
          "i": 202,
          "loss": 13.664558410644531
         },
         {
          "i": 203,
          "loss": 13.645241737365723
         },
         {
          "i": 204,
          "loss": 13.627999305725098
         },
         {
          "i": 205,
          "loss": 13.610783576965332
         },
         {
          "i": 206,
          "loss": 13.593990325927734
         },
         {
          "i": 207,
          "loss": 13.578241348266602
         },
         {
          "i": 208,
          "loss": 13.559660911560059
         },
         {
          "i": 209,
          "loss": 13.542552947998047
         },
         {
          "i": 210,
          "loss": 13.525757789611816
         },
         {
          "i": 211,
          "loss": 13.509695053100586
         },
         {
          "i": 212,
          "loss": 13.491616249084473
         },
         {
          "i": 213,
          "loss": 13.474590301513672
         },
         {
          "i": 214,
          "loss": 13.458459854125977
         },
         {
          "i": 215,
          "loss": 13.442030906677246
         },
         {
          "i": 216,
          "loss": 13.425057411193848
         },
         {
          "i": 217,
          "loss": 13.408117294311523
         },
         {
          "i": 218,
          "loss": 13.39120864868164
         },
         {
          "i": 219,
          "loss": 13.374329566955566
         },
         {
          "i": 220,
          "loss": 13.3574800491333
         },
         {
          "i": 221,
          "loss": 13.340659141540527
         },
         {
          "i": 222,
          "loss": 13.323904037475586
         },
         {
          "i": 223,
          "loss": 13.307160377502441
         },
         {
          "i": 224,
          "loss": 13.290397644042969
         },
         {
          "i": 225,
          "loss": 13.274372100830078
         },
         {
          "i": 226,
          "loss": 13.2587890625
         },
         {
          "i": 227,
          "loss": 13.242018699645996
         },
         {
          "i": 228,
          "loss": 13.22532844543457
         },
         {
          "i": 229,
          "loss": 13.208664894104004
         },
         {
          "i": 230,
          "loss": 13.192008018493652
         },
         {
          "i": 231,
          "loss": 13.175379753112793
         },
         {
          "i": 232,
          "loss": 13.158768653869629
         },
         {
          "i": 233,
          "loss": 13.14216423034668
         },
         {
          "i": 234,
          "loss": 13.126609802246094
         },
         {
          "i": 235,
          "loss": 13.111272811889648
         },
         {
          "i": 236,
          "loss": 13.094647407531738
         },
         {
          "i": 237,
          "loss": 13.078073501586914
         },
         {
          "i": 238,
          "loss": 13.06155014038086
         },
         {
          "i": 239,
          "loss": 13.045058250427246
         },
         {
          "i": 240,
          "loss": 13.028602600097656
         },
         {
          "i": 241,
          "loss": 13.012229919433594
         },
         {
          "i": 242,
          "loss": 12.998425483703613
         },
         {
          "i": 243,
          "loss": 12.981858253479004
         },
         {
          "i": 244,
          "loss": 12.965363502502441
         },
         {
          "i": 245,
          "loss": 12.948944091796875
         },
         {
          "i": 246,
          "loss": 12.9325590133667
         },
         {
          "i": 247,
          "loss": 12.916208267211914
         },
         {
          "i": 248,
          "loss": 12.900362968444824
         },
         {
          "i": 249,
          "loss": 12.886469841003418
         },
         {
          "i": 250,
          "loss": 12.870043754577637
         },
         {
          "i": 251,
          "loss": 12.853671073913574
         },
         {
          "i": 252,
          "loss": 12.837340354919434
         },
         {
          "i": 253,
          "loss": 12.821054458618164
         },
         {
          "i": 254,
          "loss": 12.804801940917969
         },
         {
          "i": 255,
          "loss": 12.791155815124512
         },
         {
          "i": 256,
          "loss": 12.77541732788086
         },
         {
          "i": 257,
          "loss": 12.759049415588379
         },
         {
          "i": 258,
          "loss": 12.742761611938477
         },
         {
          "i": 259,
          "loss": 12.72654914855957
         },
         {
          "i": 260,
          "loss": 12.71053695678711
         },
         {
          "i": 261,
          "loss": 12.697513580322266
         },
         {
          "i": 262,
          "loss": 12.681161880493164
         },
         {
          "i": 263,
          "loss": 12.664881706237793
         },
         {
          "i": 264,
          "loss": 12.648659706115723
         },
         {
          "i": 265,
          "loss": 12.632463455200195
         },
         {
          "i": 266,
          "loss": 12.618659973144531
         },
         {
          "i": 267,
          "loss": 12.603630065917969
         },
         {
          "i": 268,
          "loss": 12.587303161621094
         },
         {
          "i": 269,
          "loss": 12.571063041687012
         },
         {
          "i": 270,
          "loss": 12.554889678955078
         },
         {
          "i": 271,
          "loss": 12.540837287902832
         },
         {
          "i": 272,
          "loss": 12.526329040527344
         },
         {
          "i": 273,
          "loss": 12.510027885437012
         },
         {
          "i": 274,
          "loss": 12.493821144104004
         },
         {
          "i": 275,
          "loss": 12.477688789367676
         },
         {
          "i": 276,
          "loss": 12.464217185974121
         },
         {
          "i": 277,
          "loss": 12.44933795928955
         },
         {
          "i": 278,
          "loss": 12.433086395263672
         },
         {
          "i": 279,
          "loss": 12.416930198669434
         },
         {
          "i": 280,
          "loss": 12.401078224182129
         },
         {
          "i": 281,
          "loss": 12.38879680633545
         },
         {
          "i": 282,
          "loss": 12.372516632080078
         },
         {
          "i": 283,
          "loss": 12.356361389160156
         },
         {
          "i": 284,
          "loss": 12.340293884277344
         },
         {
          "i": 285,
          "loss": 12.326857566833496
         },
         {
          "i": 286,
          "loss": 12.312335968017578
         },
         {
          "i": 287,
          "loss": 12.296141624450684
         },
         {
          "i": 288,
          "loss": 12.28005599975586
         },
         {
          "i": 289,
          "loss": 12.265475273132324
         },
         {
          "i": 290,
          "loss": 12.252673149108887
         },
         {
          "i": 291,
          "loss": 12.236649513244629
         },
         {
          "i": 292,
          "loss": 12.220681190490723
         },
         {
          "i": 293,
          "loss": 12.207134246826172
         },
         {
          "i": 294,
          "loss": 12.193758964538574
         },
         {
          "i": 295,
          "loss": 12.177207946777344
         },
         {
          "i": 296,
          "loss": 12.161253929138184
         },
         {
          "i": 297,
          "loss": 12.149885177612305
         },
         {
          "i": 298,
          "loss": 12.134299278259277
         },
         {
          "i": 299,
          "loss": 12.11807632446289
         },
         {
          "i": 300,
          "loss": 12.103862762451172
         },
         {
          "i": 301,
          "loss": 12.091631889343262
         },
         {
          "i": 302,
          "loss": 12.074850082397461
         },
         {
          "i": 303,
          "loss": 12.05978012084961
         },
         {
          "i": 304,
          "loss": 12.048212051391602
         },
         {
          "i": 305,
          "loss": 12.031760215759277
         },
         {
          "i": 306,
          "loss": 12.015569686889648
         },
         {
          "i": 307,
          "loss": 12.005261421203613
         },
         {
          "i": 308,
          "loss": 11.989096641540527
         },
         {
          "i": 309,
          "loss": 11.972804069519043
         },
         {
          "i": 310,
          "loss": 11.961028099060059
         },
         {
          "i": 311,
          "loss": 11.946113586425781
         },
         {
          "i": 312,
          "loss": 11.93006706237793
         },
         {
          "i": 313,
          "loss": 11.918375015258789
         },
         {
          "i": 314,
          "loss": 11.903791427612305
         },
         {
          "i": 315,
          "loss": 11.88707160949707
         },
         {
          "i": 316,
          "loss": 11.876299858093262
         },
         {
          "i": 317,
          "loss": 11.860909461975098
         },
         {
          "i": 318,
          "loss": 11.844427108764648
         },
         {
          "i": 319,
          "loss": 11.833824157714844
         },
         {
          "i": 320,
          "loss": 11.818160057067871
         },
         {
          "i": 321,
          "loss": 11.802996635437012
         },
         {
          "i": 322,
          "loss": 11.792045593261719
         },
         {
          "i": 323,
          "loss": 11.775208473205566
         },
         {
          "i": 324,
          "loss": 11.762537002563477
         },
         {
          "i": 325,
          "loss": 11.749251365661621
         },
         {
          "i": 326,
          "loss": 11.732587814331055
         },
         {
          "i": 327,
          "loss": 11.721492767333984
         },
         {
          "i": 328,
          "loss": 11.706705093383789
         },
         {
          "i": 329,
          "loss": 11.691344261169434
         },
         {
          "i": 330,
          "loss": 11.680809020996094
         },
         {
          "i": 331,
          "loss": 11.664023399353027
         },
         {
          "i": 332,
          "loss": 11.651788711547852
         },
         {
          "i": 333,
          "loss": 11.638304710388184
         },
         {
          "i": 334,
          "loss": 11.621879577636719
         },
         {
          "i": 335,
          "loss": 11.611966133117676
         },
         {
          "i": 336,
          "loss": 11.595285415649414
         },
         {
          "i": 337,
          "loss": 11.583061218261719
         },
         {
          "i": 338,
          "loss": 11.56959342956543
         },
         {
          "i": 339,
          "loss": 11.553959846496582
         },
         {
          "i": 340,
          "loss": 11.543941497802734
         },
         {
          "i": 341,
          "loss": 11.527209281921387
         },
         {
          "i": 342,
          "loss": 11.515536308288574
         },
         {
          "i": 343,
          "loss": 11.501226425170898
         },
         {
          "i": 344,
          "loss": 11.487265586853027
         },
         {
          "i": 345,
          "loss": 11.475664138793945
         },
         {
          "i": 346,
          "loss": 11.458965301513672
         },
         {
          "i": 347,
          "loss": 11.449265480041504
         },
         {
          "i": 348,
          "loss": 11.433673858642578
         },
         {
          "i": 349,
          "loss": 11.420536994934082
         },
         {
          "i": 350,
          "loss": 11.407824516296387
         },
         {
          "i": 351,
          "loss": 11.392616271972656
         },
         {
          "i": 352,
          "loss": 11.381908416748047
         },
         {
          "i": 353,
          "loss": 11.365456581115723
         },
         {
          "i": 354,
          "loss": 11.355729103088379
         },
         {
          "i": 355,
          "loss": 11.340003967285156
         },
         {
          "i": 356,
          "loss": 11.328001976013184
         },
         {
          "i": 357,
          "loss": 11.314762115478516
         },
         {
          "i": 358,
          "loss": 11.300442695617676
         },
         {
          "i": 359,
          "loss": 11.289057731628418
         },
         {
          "i": 360,
          "loss": 11.273380279541016
         },
         {
          "i": 361,
          "loss": 11.263554573059082
         },
         {
          "i": 362,
          "loss": 11.246926307678223
         },
         {
          "i": 363,
          "loss": 11.237750053405762
         },
         {
          "i": 364,
          "loss": 11.220963478088379
         },
         {
          "i": 365,
          "loss": 11.212370872497559
         },
         {
          "i": 366,
          "loss": 11.196264266967773
         },
         {
          "i": 367,
          "loss": 11.185067176818848
         },
         {
          "i": 368,
          "loss": 11.171125411987305
         },
         {
          "i": 369,
          "loss": 11.158756256103516
         },
         {
          "i": 370,
          "loss": 11.145910263061523
         },
         {
          "i": 371,
          "loss": 11.132770538330078
         },
         {
          "i": 372,
          "loss": 11.120654106140137
         },
         {
          "i": 373,
          "loss": 11.107100486755371
         },
         {
          "i": 374,
          "loss": 11.095120429992676
         },
         {
          "i": 375,
          "loss": 11.08187484741211
         },
         {
          "i": 376,
          "loss": 11.069866180419922
         },
         {
          "i": 377,
          "loss": 11.05650520324707
         },
         {
          "i": 378,
          "loss": 11.044621467590332
         },
         {
          "i": 379,
          "loss": 11.03132438659668
         },
         {
          "i": 380,
          "loss": 11.019372940063477
         },
         {
          "i": 381,
          "loss": 11.006296157836914
         },
         {
          "i": 382,
          "loss": 10.99416732788086
         },
         {
          "i": 383,
          "loss": 10.981396675109863
         },
         {
          "i": 384,
          "loss": 10.968986511230469
         },
         {
          "i": 385,
          "loss": 10.956639289855957
         },
         {
          "i": 386,
          "loss": 10.943604469299316
         },
         {
          "i": 387,
          "loss": 10.932316780090332
         },
         {
          "i": 388,
          "loss": 10.918598175048828
         },
         {
          "i": 389,
          "loss": 10.9077787399292
         },
         {
          "i": 390,
          "loss": 10.89367961883545
         },
         {
          "i": 391,
          "loss": 10.883376121520996
         },
         {
          "i": 392,
          "loss": 10.8688383102417
         },
         {
          "i": 393,
          "loss": 10.85910415649414
         },
         {
          "i": 394,
          "loss": 10.844047546386719
         },
         {
          "i": 395,
          "loss": 10.83493423461914
         },
         {
          "i": 396,
          "loss": 10.819295883178711
         },
         {
          "i": 397,
          "loss": 10.810856819152832
         },
         {
          "i": 398,
          "loss": 10.795296669006348
         },
         {
          "i": 399,
          "loss": 10.786067962646484
         },
         {
          "i": 400,
          "loss": 10.771964073181152
         },
         {
          "i": 401,
          "loss": 10.760958671569824
         },
         {
          "i": 402,
          "loss": 10.74848747253418
         },
         {
          "i": 403,
          "loss": 10.736087799072266
         },
         {
          "i": 404,
          "loss": 10.72500228881836
         },
         {
          "i": 405,
          "loss": 10.711353302001953
         },
         {
          "i": 406,
          "loss": 10.701525688171387
         },
         {
          "i": 407,
          "loss": 10.686732292175293
         },
         {
          "i": 408,
          "loss": 10.678079605102539
         },
         {
          "i": 409,
          "loss": 10.662985801696777
         },
         {
          "i": 410,
          "loss": 10.653790473937988
         },
         {
          "i": 411,
          "loss": 10.640168190002441
         },
         {
          "i": 412,
          "loss": 10.628875732421875
         },
         {
          "i": 413,
          "loss": 10.61718463897705
         },
         {
          "i": 414,
          "loss": 10.60420036315918
         },
         {
          "i": 415,
          "loss": 10.594172477722168
         },
         {
          "i": 416,
          "loss": 10.579693794250488
         },
         {
          "i": 417,
          "loss": 10.571162223815918
         },
         {
          "i": 418,
          "loss": 10.556310653686523
         },
         {
          "i": 419,
          "loss": 10.546984672546387
         },
         {
          "i": 420,
          "loss": 10.533956527709961
         },
         {
          "i": 421,
          "loss": 10.522255897521973
         },
         {
          "i": 422,
          "loss": 10.511348724365234
         },
         {
          "i": 423,
          "loss": 10.497791290283203
         },
         {
          "i": 424,
          "loss": 10.488694190979004
         },
         {
          "i": 425,
          "loss": 10.473974227905273
         },
         {
          "i": 426,
          "loss": 10.465222358703613
         },
         {
          "i": 427,
          "loss": 10.452048301696777
         },
         {
          "i": 428,
          "loss": 10.440591812133789
         },
         {
          "i": 429,
          "loss": 10.429722785949707
         },
         {
          "i": 430,
          "loss": 10.416241645812988
         },
         {
          "i": 431,
          "loss": 10.407331466674805
         },
         {
          "i": 432,
          "loss": 10.392775535583496
         },
         {
          "i": 433,
          "loss": 10.384129524230957
         },
         {
          "i": 434,
          "loss": 10.370845794677734
         },
         {
          "i": 435,
          "loss": 10.359626770019531
         },
         {
          "i": 436,
          "loss": 10.348819732666016
         },
         {
          "i": 437,
          "loss": 10.33543586730957
         },
         {
          "i": 438,
          "loss": 10.326722145080566
         },
         {
          "i": 439,
          "loss": 10.312684059143066
         },
         {
          "i": 440,
          "loss": 10.30327033996582
         },
         {
          "i": 441,
          "loss": 10.290993690490723
         },
         {
          "i": 442,
          "loss": 10.278979301452637
         },
         {
          "i": 443,
          "loss": 10.269200325012207
         },
         {
          "i": 444,
          "loss": 10.255122184753418
         },
         {
          "i": 445,
          "loss": 10.246844291687012
         },
         {
          "i": 446,
          "loss": 10.233914375305176
         },
         {
          "i": 447,
          "loss": 10.222593307495117
         },
         {
          "i": 448,
          "loss": 10.212312698364258
         },
         {
          "i": 449,
          "loss": 10.198665618896484
         },
         {
          "i": 450,
          "loss": 10.190629005432129
         },
         {
          "i": 451,
          "loss": 10.176594734191895
         },
         {
          "i": 452,
          "loss": 10.167137145996094
         },
         {
          "i": 453,
          "loss": 10.155237197875977
         },
         {
          "i": 454,
          "loss": 10.143071174621582
         },
         {
          "i": 455,
          "loss": 10.133753776550293
         },
         {
          "i": 456,
          "loss": 10.120100975036621
         },
         {
          "i": 457,
          "loss": 10.111235618591309
         },
         {
          "i": 458,
          "loss": 10.098984718322754
         },
         {
          "i": 459,
          "loss": 10.086774826049805
         },
         {
          "i": 460,
          "loss": 10.07905387878418
         },
         {
          "i": 461,
          "loss": 10.064886093139648
         },
         {
          "i": 462,
          "loss": 10.055818557739258
         },
         {
          "i": 463,
          "loss": 10.044631004333496
         },
         {
          "i": 464,
          "loss": 10.031159400939941
         },
         {
          "i": 465,
          "loss": 10.024153709411621
         },
         {
          "i": 466,
          "loss": 10.010344505310059
         },
         {
          "i": 467,
          "loss": 9.999958038330078
         },
         {
          "i": 468,
          "loss": 9.990221977233887
         },
         {
          "i": 469,
          "loss": 9.976754188537598
         },
         {
          "i": 470,
          "loss": 9.96816635131836
         },
         {
          "i": 471,
          "loss": 9.956158638000488
         },
         {
          "i": 472,
          "loss": 9.943523406982422
         },
         {
          "i": 473,
          "loss": 9.936057090759277
         },
         {
          "i": 474,
          "loss": 9.92314338684082
         },
         {
          "i": 475,
          "loss": 9.911138534545898
         },
         {
          "i": 476,
          "loss": 9.903846740722656
         },
         {
          "i": 477,
          "loss": 9.8903169631958
         },
         {
          "i": 478,
          "loss": 9.879942893981934
         },
         {
          "i": 479,
          "loss": 9.87060832977295
         },
         {
          "i": 480,
          "loss": 9.857462882995605
         },
         {
          "i": 481,
          "loss": 9.848179817199707
         },
         {
          "i": 482,
          "loss": 9.837174415588379
         },
         {
          "i": 483,
          "loss": 9.825105667114258
         },
         {
          "i": 484,
          "loss": 9.815987586975098
         },
         {
          "i": 485,
          "loss": 9.805761337280273
         },
         {
          "i": 486,
          "loss": 9.792830467224121
         },
         {
          "i": 487,
          "loss": 9.784144401550293
         },
         {
          "i": 488,
          "loss": 9.773577690124512
         },
         {
          "i": 489,
          "loss": 9.760787010192871
         },
         {
          "i": 490,
          "loss": 9.752288818359375
         },
         {
          "i": 491,
          "loss": 9.741650581359863
         },
         {
          "i": 492,
          "loss": 9.728951454162598
         },
         {
          "i": 493,
          "loss": 9.720407485961914
         },
         {
          "i": 494,
          "loss": 9.709898948669434
         },
         {
          "i": 495,
          "loss": 9.697295188903809
         },
         {
          "i": 496,
          "loss": 9.68844985961914
         },
         {
          "i": 497,
          "loss": 9.67764949798584
         },
         {
          "i": 498,
          "loss": 9.66598892211914
         },
         {
          "i": 499,
          "loss": 9.656493186950684
         },
         {
          "i": 500,
          "loss": 9.647144317626953
         },
         {
          "i": 501,
          "loss": 9.634605407714844
         },
         {
          "i": 502,
          "loss": 9.624918937683105
         },
         {
          "i": 503,
          "loss": 9.615723609924316
         },
         {
          "i": 504,
          "loss": 9.60324478149414
         },
         {
          "i": 505,
          "loss": 9.593074798583984
         },
         {
          "i": 506,
          "loss": 9.584173202514648
         },
         {
          "i": 507,
          "loss": 9.571447372436523
         },
         {
          "i": 508,
          "loss": 9.561399459838867
         },
         {
          "i": 509,
          "loss": 9.552177429199219
         },
         {
          "i": 510,
          "loss": 9.539555549621582
         },
         {
          "i": 511,
          "loss": 9.529533386230469
         },
         {
          "i": 512,
          "loss": 9.52038860321045
         },
         {
          "i": 513,
          "loss": 9.50778579711914
         },
         {
          "i": 514,
          "loss": 9.497559547424316
         },
         {
          "i": 515,
          "loss": 9.488712310791016
         },
         {
          "i": 516,
          "loss": 9.476241111755371
         },
         {
          "i": 517,
          "loss": 9.465486526489258
         },
         {
          "i": 518,
          "loss": 9.457354545593262
         },
         {
          "i": 519,
          "loss": 9.444907188415527
         },
         {
          "i": 520,
          "loss": 9.433530807495117
         },
         {
          "i": 521,
          "loss": 9.426017761230469
         },
         {
          "i": 522,
          "loss": 9.413656234741211
         },
         {
          "i": 523,
          "loss": 9.401817321777344
         },
         {
          "i": 524,
          "loss": 9.394220352172852
         },
         {
          "i": 525,
          "loss": 9.383271217346191
         },
         {
          "i": 526,
          "loss": 9.371203422546387
         },
         {
          "i": 527,
          "loss": 9.361640930175781
         },
         {
          "i": 528,
          "loss": 9.35254192352295
         },
         {
          "i": 529,
          "loss": 9.34040641784668
         },
         {
          "i": 530,
          "loss": 9.329442024230957
         },
         {
          "i": 531,
          "loss": 9.321785926818848
         },
         {
          "i": 532,
          "loss": 9.309721946716309
         },
         {
          "i": 533,
          "loss": 9.298174858093262
         },
         {
          "i": 534,
          "loss": 9.29031753540039
         },
         {
          "i": 535,
          "loss": 9.279829978942871
         },
         {
          "i": 536,
          "loss": 9.268003463745117
         },
         {
          "i": 537,
          "loss": 9.258035659790039
         },
         {
          "i": 538,
          "loss": 9.2496919631958
         },
         {
          "i": 539,
          "loss": 9.237798690795898
         },
         {
          "i": 540,
          "loss": 9.22641372680664
         },
         {
          "i": 541,
          "loss": 9.218807220458984
         },
         {
          "i": 542,
          "loss": 9.208285331726074
         },
         {
          "i": 543,
          "loss": 9.196552276611328
         },
         {
          "i": 544,
          "loss": 9.186354637145996
         },
         {
          "i": 545,
          "loss": 9.17823314666748
         },
         {
          "i": 546,
          "loss": 9.166400909423828
         },
         {
          "i": 547,
          "loss": 9.155033111572266
         },
         {
          "i": 548,
          "loss": 9.146856307983398
         },
         {
          "i": 549,
          "loss": 9.136894226074219
         },
         {
          "i": 550,
          "loss": 9.125387191772461
         },
         {
          "i": 551,
          "loss": 9.11434555053711
         },
         {
          "i": 552,
          "loss": 9.107232093811035
         },
         {
          "i": 553,
          "loss": 9.09548568725586
         },
         {
          "i": 554,
          "loss": 9.084217071533203
         },
         {
          "i": 555,
          "loss": 9.075151443481445
         },
         {
          "i": 556,
          "loss": 9.06619930267334
         },
         {
          "i": 557,
          "loss": 9.05470085144043
         },
         {
          "i": 558,
          "loss": 9.043684959411621
         },
         {
          "i": 559,
          "loss": 9.035360336303711
         },
         {
          "i": 560,
          "loss": 9.025747299194336
         },
         {
          "i": 561,
          "loss": 9.014351844787598
         },
         {
          "i": 562,
          "loss": 9.003375053405762
         },
         {
          "i": 563,
          "loss": 8.995491981506348
         },
         {
          "i": 564,
          "loss": 8.985608100891113
         },
         {
          "i": 565,
          "loss": 8.974352836608887
         },
         {
          "i": 566,
          "loss": 8.963558197021484
         },
         {
          "i": 567,
          "loss": 8.955721855163574
         },
         {
          "i": 568,
          "loss": 8.945905685424805
         },
         {
          "i": 569,
          "loss": 8.934691429138184
         },
         {
          "i": 570,
          "loss": 8.923866271972656
         },
         {
          "i": 571,
          "loss": 8.916112899780273
         },
         {
          "i": 572,
          "loss": 8.906303405761719
         },
         {
          "i": 573,
          "loss": 8.89517593383789
         },
         {
          "i": 574,
          "loss": 8.884354591369629
         },
         {
          "i": 575,
          "loss": 8.876527786254883
         },
         {
          "i": 576,
          "loss": 8.866690635681152
         },
         {
          "i": 577,
          "loss": 8.85513973236084
         },
         {
          "i": 578,
          "loss": 8.844043731689453
         },
         {
          "i": 579,
          "loss": 8.836224555969238
         },
         {
          "i": 580,
          "loss": 8.826081275939941
         },
         {
          "i": 581,
          "loss": 8.814754486083984
         },
         {
          "i": 582,
          "loss": 8.803940773010254
         },
         {
          "i": 583,
          "loss": 8.796131134033203
         },
         {
          "i": 584,
          "loss": 8.786176681518555
         },
         {
          "i": 585,
          "loss": 8.774965286254883
         },
         {
          "i": 586,
          "loss": 8.764158248901367
         },
         {
          "i": 587,
          "loss": 8.756532669067383
         },
         {
          "i": 588,
          "loss": 8.74657154083252
         },
         {
          "i": 589,
          "loss": 8.73552417755127
         },
         {
          "i": 590,
          "loss": 8.724828720092773
         },
         {
          "i": 591,
          "loss": 8.717087745666504
         },
         {
          "i": 592,
          "loss": 8.70736312866211
         },
         {
          "i": 593,
          "loss": 8.696304321289062
         },
         {
          "i": 594,
          "loss": 8.685641288757324
         },
         {
          "i": 595,
          "loss": 8.677892684936523
         },
         {
          "i": 596,
          "loss": 8.668301582336426
         },
         {
          "i": 597,
          "loss": 8.65733528137207
         },
         {
          "i": 598,
          "loss": 8.646513938903809
         },
         {
          "i": 599,
          "loss": 8.638635635375977
         },
         {
          "i": 600,
          "loss": 8.628905296325684
         },
         {
          "i": 601,
          "loss": 8.617715835571289
         },
         {
          "i": 602,
          "loss": 8.60696792602539
         },
         {
          "i": 603,
          "loss": 8.599349021911621
         },
         {
          "i": 604,
          "loss": 8.58951473236084
         },
         {
          "i": 605,
          "loss": 8.57831859588623
         },
         {
          "i": 606,
          "loss": 8.567534446716309
         },
         {
          "i": 607,
          "loss": 8.559523582458496
         },
         {
          "i": 608,
          "loss": 8.549539566040039
         },
         {
          "i": 609,
          "loss": 8.538325309753418
         },
         {
          "i": 610,
          "loss": 8.527496337890625
         },
         {
          "i": 611,
          "loss": 8.518817901611328
         },
         {
          "i": 612,
          "loss": 8.509570121765137
         },
         {
          "i": 613,
          "loss": 8.498388290405273
         },
         {
          "i": 614,
          "loss": 8.487566947937012
         },
         {
          "i": 615,
          "loss": 8.478460311889648
         },
         {
          "i": 616,
          "loss": 8.469758987426758
         },
         {
          "i": 617,
          "loss": 8.458427429199219
         },
         {
          "i": 618,
          "loss": 8.447281837463379
         },
         {
          "i": 619,
          "loss": 8.437566757202148
         },
         {
          "i": 620,
          "loss": 8.428733825683594
         },
         {
          "i": 621,
          "loss": 8.417336463928223
         },
         {
          "i": 622,
          "loss": 8.40625286102295
         },
         {
          "i": 623,
          "loss": 8.396068572998047
         },
         {
          "i": 624,
          "loss": 8.387903213500977
         },
         {
          "i": 625,
          "loss": 8.376547813415527
         },
         {
          "i": 626,
          "loss": 8.365743637084961
         },
         {
          "i": 627,
          "loss": 8.355097770690918
         },
         {
          "i": 628,
          "loss": 8.347709655761719
         },
         {
          "i": 629,
          "loss": 8.336453437805176
         },
         {
          "i": 630,
          "loss": 8.325650215148926
         },
         {
          "i": 631,
          "loss": 8.315218925476074
         },
         {
          "i": 632,
          "loss": 8.306744575500488
         },
         {
          "i": 633,
          "loss": 8.297347068786621
         },
         {
          "i": 634,
          "loss": 8.286311149597168
         },
         {
          "i": 635,
          "loss": 8.275662422180176
         },
         {
          "i": 636,
          "loss": 8.266053199768066
         },
         {
          "i": 637,
          "loss": 8.258119583129883
         },
         {
          "i": 638,
          "loss": 8.247261047363281
         },
         {
          "i": 639,
          "loss": 8.236671447753906
         },
         {
          "i": 640,
          "loss": 8.226360321044922
         },
         {
          "i": 641,
          "loss": 8.219230651855469
         },
         {
          "i": 642,
          "loss": 8.208285331726074
         },
         {
          "i": 643,
          "loss": 8.197842597961426
         },
         {
          "i": 644,
          "loss": 8.187591552734375
         },
         {
          "i": 645,
          "loss": 8.179194450378418
         },
         {
          "i": 646,
          "loss": 8.170332908630371
         },
         {
          "i": 647,
          "loss": 8.159618377685547
         },
         {
          "i": 648,
          "loss": 8.149284362792969
         },
         {
          "i": 649,
          "loss": 8.139678955078125
         },
         {
          "i": 650,
          "loss": 8.132284164428711
         },
         {
          "i": 651,
          "loss": 8.121692657470703
         },
         {
          "i": 652,
          "loss": 8.1113920211792
         },
         {
          "i": 653,
          "loss": 8.101336479187012
         },
         {
          "i": 654,
          "loss": 8.093576431274414
         },
         {
          "i": 655,
          "loss": 8.084510803222656
         },
         {
          "i": 656,
          "loss": 8.074028015136719
         },
         {
          "i": 657,
          "loss": 8.064011573791504
         },
         {
          "i": 658,
          "loss": 8.054823875427246
         },
         {
          "i": 659,
          "loss": 8.04738998413086
         },
         {
          "i": 660,
          "loss": 8.036876678466797
         },
         {
          "i": 661,
          "loss": 8.026796340942383
         },
         {
          "i": 662,
          "loss": 8.016953468322754
         },
         {
          "i": 663,
          "loss": 8.009638786315918
         },
         {
          "i": 664,
          "loss": 8.000515937805176
         },
         {
          "i": 665,
          "loss": 7.990325927734375
         },
         {
          "i": 666,
          "loss": 7.980388641357422
         },
         {
          "i": 667,
          "loss": 7.971651554107666
         },
         {
          "i": 668,
          "loss": 7.964139461517334
         },
         {
          "i": 669,
          "loss": 7.953818321228027
         },
         {
          "i": 670,
          "loss": 7.943943500518799
         },
         {
          "i": 671,
          "loss": 7.93454122543335
         },
         {
          "i": 672,
          "loss": 7.92789363861084
         },
         {
          "i": 673,
          "loss": 7.917722702026367
         },
         {
          "i": 674,
          "loss": 7.907869338989258
         },
         {
          "i": 675,
          "loss": 7.8982696533203125
         },
         {
          "i": 676,
          "loss": 7.890793323516846
         },
         {
          "i": 677,
          "loss": 7.882310390472412
         },
         {
          "i": 678,
          "loss": 7.872251033782959
         },
         {
          "i": 679,
          "loss": 7.8626298904418945
         },
         {
          "i": 680,
          "loss": 7.853765487670898
         },
         {
          "i": 681,
          "loss": 7.846919536590576
         },
         {
          "i": 682,
          "loss": 7.836820602416992
         },
         {
          "i": 683,
          "loss": 7.82717227935791
         },
         {
          "i": 684,
          "loss": 7.8177642822265625
         },
         {
          "i": 685,
          "loss": 7.810581684112549
         },
         {
          "i": 686,
          "loss": 7.8021159172058105
         },
         {
          "i": 687,
          "loss": 7.792233467102051
         },
         {
          "i": 688,
          "loss": 7.782838344573975
         },
         {
          "i": 689,
          "loss": 7.774118423461914
         },
         {
          "i": 690,
          "loss": 7.7673420906066895
         },
         {
          "i": 691,
          "loss": 7.757378101348877
         },
         {
          "i": 692,
          "loss": 7.747861862182617
         },
         {
          "i": 693,
          "loss": 7.738583564758301
         },
         {
          "i": 694,
          "loss": 7.731231212615967
         },
         {
          "i": 695,
          "loss": 7.723054885864258
         },
         {
          "i": 696,
          "loss": 7.713247776031494
         },
         {
          "i": 697,
          "loss": 7.703917026519775
         },
         {
          "i": 698,
          "loss": 7.694700717926025
         },
         {
          "i": 699,
          "loss": 7.687735557556152
         },
         {
          "i": 700,
          "loss": 7.679281234741211
         },
         {
          "i": 701,
          "loss": 7.669577121734619
         },
         {
          "i": 702,
          "loss": 7.660269260406494
         },
         {
          "i": 703,
          "loss": 7.65144157409668
         },
         {
          "i": 704,
          "loss": 7.645022392272949
         },
         {
          "i": 705,
          "loss": 7.635286808013916
         },
         {
          "i": 706,
          "loss": 7.626065254211426
         },
         {
          "i": 707,
          "loss": 7.6169962882995605
         },
         {
          "i": 708,
          "loss": 7.6090803146362305
         },
         {
          "i": 709,
          "loss": 7.601771831512451
         },
         {
          "i": 710,
          "loss": 7.592148303985596
         },
         {
          "i": 711,
          "loss": 7.582944869995117
         },
         {
          "i": 712,
          "loss": 7.573953151702881
         },
         {
          "i": 713,
          "loss": 7.56648063659668
         },
         {
          "i": 714,
          "loss": 7.558628082275391
         },
         {
          "i": 715,
          "loss": 7.542135715484619
         },
         {
          "i": 716,
          "loss": 7.528537750244141
         },
         {
          "i": 717,
          "loss": 7.502480506896973
         },
         {
          "i": 718,
          "loss": 7.465898513793945
         },
         {
          "i": 719,
          "loss": 7.445291042327881
         },
         {
          "i": 720,
          "loss": 7.429401874542236
         },
         {
          "i": 721,
          "loss": 7.416645526885986
         },
         {
          "i": 722,
          "loss": 7.406886577606201
         },
         {
          "i": 723,
          "loss": 7.3956403732299805
         },
         {
          "i": 724,
          "loss": 7.384355545043945
         },
         {
          "i": 725,
          "loss": 7.366490364074707
         },
         {
          "i": 726,
          "loss": 7.354263782501221
         },
         {
          "i": 727,
          "loss": 7.344000816345215
         },
         {
          "i": 728,
          "loss": 7.3340535163879395
         },
         {
          "i": 729,
          "loss": 7.325297832489014
         },
         {
          "i": 730,
          "loss": 7.31651496887207
         },
         {
          "i": 731,
          "loss": 7.306207656860352
         },
         {
          "i": 732,
          "loss": 7.296334743499756
         },
         {
          "i": 733,
          "loss": 7.286533832550049
         },
         {
          "i": 734,
          "loss": 7.276806831359863
         },
         {
          "i": 735,
          "loss": 7.2671427726745605
         },
         {
          "i": 736,
          "loss": 7.258358001708984
         },
         {
          "i": 737,
          "loss": 7.249875068664551
         },
         {
          "i": 738,
          "loss": 7.239675521850586
         },
         {
          "i": 739,
          "loss": 7.229832172393799
         },
         {
          "i": 740,
          "loss": 7.220162391662598
         },
         {
          "i": 741,
          "loss": 7.210593223571777
         },
         {
          "i": 742,
          "loss": 7.201104640960693
         },
         {
          "i": 743,
          "loss": 7.192198276519775
         },
         {
          "i": 744,
          "loss": 7.1841044425964355
         },
         {
          "i": 745,
          "loss": 7.174018383026123
         },
         {
          "i": 746,
          "loss": 7.164295196533203
         },
         {
          "i": 747,
          "loss": 7.154746055603027
         },
         {
          "i": 748,
          "loss": 7.145289897918701
         },
         {
          "i": 749,
          "loss": 7.135885715484619
         },
         {
          "i": 750,
          "loss": 7.127194404602051
         },
         {
          "i": 751,
          "loss": 7.119152069091797
         },
         {
          "i": 752,
          "loss": 7.109200954437256
         },
         {
          "i": 753,
          "loss": 7.0995893478393555
         },
         {
          "i": 754,
          "loss": 7.090167999267578
         },
         {
          "i": 755,
          "loss": 7.0807695388793945
         },
         {
          "i": 756,
          "loss": 7.071423530578613
         },
         {
          "i": 757,
          "loss": 7.062868118286133
         },
         {
          "i": 758,
          "loss": 7.054765224456787
         },
         {
          "i": 759,
          "loss": 7.044855117797852
         },
         {
          "i": 760,
          "loss": 7.035311698913574
         },
         {
          "i": 761,
          "loss": 7.025941371917725
         },
         {
          "i": 762,
          "loss": 7.0166544914245605
         },
         {
          "i": 763,
          "loss": 7.0074286460876465
         },
         {
          "i": 764,
          "loss": 6.99919319152832
         },
         {
          "i": 765,
          "loss": 6.9912028312683105
         },
         {
          "i": 766,
          "loss": 6.981467247009277
         },
         {
          "i": 767,
          "loss": 6.972105503082275
         },
         {
          "i": 768,
          "loss": 6.962924003601074
         },
         {
          "i": 769,
          "loss": 6.953835487365723
         },
         {
          "i": 770,
          "loss": 6.94480037689209
         },
         {
          "i": 771,
          "loss": 6.936874866485596
         },
         {
          "i": 772,
          "loss": 6.928767204284668
         },
         {
          "i": 773,
          "loss": 6.919168472290039
         },
         {
          "i": 774,
          "loss": 6.909979820251465
         },
         {
          "i": 775,
          "loss": 6.900993824005127
         },
         {
          "i": 776,
          "loss": 6.892044544219971
         },
         {
          "i": 777,
          "loss": 6.883276462554932
         },
         {
          "i": 778,
          "loss": 6.8763346672058105
         },
         {
          "i": 779,
          "loss": 6.866818428039551
         },
         {
          "i": 780,
          "loss": 6.857701301574707
         },
         {
          "i": 781,
          "loss": 6.848760604858398
         },
         {
          "i": 782,
          "loss": 6.839990615844727
         },
         {
          "i": 783,
          "loss": 6.8314385414123535
         },
         {
          "i": 784,
          "loss": 6.82357120513916
         },
         {
          "i": 785,
          "loss": 6.8163251876831055
         },
         {
          "i": 786,
          "loss": 6.807146072387695
         },
         {
          "i": 787,
          "loss": 6.798359394073486
         },
         {
          "i": 788,
          "loss": 6.789761543273926
         },
         {
          "i": 789,
          "loss": 6.781229019165039
         },
         {
          "i": 790,
          "loss": 6.772838592529297
         },
         {
          "i": 791,
          "loss": 6.766298294067383
         },
         {
          "i": 792,
          "loss": 6.757199287414551
         },
         {
          "i": 793,
          "loss": 6.74857234954834
         },
         {
          "i": 794,
          "loss": 6.739990234375
         },
         {
          "i": 795,
          "loss": 6.731378078460693
         },
         {
          "i": 796,
          "loss": 6.7228102684021
         },
         {
          "i": 797,
          "loss": 6.71492862701416
         },
         {
          "i": 798,
          "loss": 6.707559585571289
         },
         {
          "i": 799,
          "loss": 6.698354721069336
         },
         {
          "i": 800,
          "loss": 6.689561367034912
         },
         {
          "i": 801,
          "loss": 6.680976390838623
         },
         {
          "i": 802,
          "loss": 6.672529220581055
         },
         {
          "i": 803,
          "loss": 6.664071559906006
         },
         {
          "i": 804,
          "loss": 6.656576633453369
         },
         {
          "i": 805,
          "loss": 6.649160861968994
         },
         {
          "i": 806,
          "loss": 6.640383243560791
         },
         {
          "i": 807,
          "loss": 6.632007598876953
         },
         {
          "i": 808,
          "loss": 6.623794078826904
         },
         {
          "i": 809,
          "loss": 6.615679740905762
         },
         {
          "i": 810,
          "loss": 6.607637882232666
         },
         {
          "i": 811,
          "loss": 6.6004133224487305
         },
         {
          "i": 812,
          "loss": 6.593379974365234
         },
         {
          "i": 813,
          "loss": 6.58469295501709
         },
         {
          "i": 814,
          "loss": 6.5764055252075195
         },
         {
          "i": 815,
          "loss": 6.568253993988037
         },
         {
          "i": 816,
          "loss": 6.5601067543029785
         },
         {
          "i": 817,
          "loss": 6.552069187164307
         },
         {
          "i": 818,
          "loss": 6.544938564300537
         },
         {
          "i": 819,
          "loss": 6.5378313064575195
         },
         {
          "i": 820,
          "loss": 6.529116153717041
         },
         {
          "i": 821,
          "loss": 6.520803928375244
         },
         {
          "i": 822,
          "loss": 6.512669086456299
         },
         {
          "i": 823,
          "loss": 6.5046305656433105
         },
         {
          "i": 824,
          "loss": 6.497072219848633
         },
         {
          "i": 825,
          "loss": 6.490607738494873
         },
         {
          "i": 826,
          "loss": 6.4819231033325195
         },
         {
          "i": 827,
          "loss": 6.4736647605896
         },
         {
          "i": 828,
          "loss": 6.465590000152588
         },
         {
          "i": 829,
          "loss": 6.4576029777526855
         },
         {
          "i": 830,
          "loss": 6.4496989250183105
         },
         {
          "i": 831,
          "loss": 6.442630767822266
         },
         {
          "i": 832,
          "loss": 6.435779571533203
         },
         {
          "i": 833,
          "loss": 6.427238941192627
         },
         {
          "i": 834,
          "loss": 6.4191107749938965
         },
         {
          "i": 835,
          "loss": 6.411151885986328
         },
         {
          "i": 836,
          "loss": 6.40330696105957
         },
         {
          "i": 837,
          "loss": 6.395594596862793
         },
         {
          "i": 838,
          "loss": 6.389564037322998
         },
         {
          "i": 839,
          "loss": 6.381214141845703
         },
         {
          "i": 840,
          "loss": 6.3732008934021
         },
         {
          "i": 841,
          "loss": 6.365349769592285
         },
         {
          "i": 842,
          "loss": 6.357598304748535
         },
         {
          "i": 843,
          "loss": 6.349897861480713
         },
         {
          "i": 844,
          "loss": 6.342503070831299
         },
         {
          "i": 845,
          "loss": 6.336319446563721
         },
         {
          "i": 846,
          "loss": 6.328070640563965
         },
         {
          "i": 847,
          "loss": 6.32021427154541
         },
         {
          "i": 848,
          "loss": 6.312476634979248
         },
         {
          "i": 849,
          "loss": 6.304828643798828
         },
         {
          "i": 850,
          "loss": 6.29722785949707
         },
         {
          "i": 851,
          "loss": 6.289928436279297
         },
         {
          "i": 852,
          "loss": 6.283817768096924
         },
         {
          "i": 853,
          "loss": 6.275665283203125
         },
         {
          "i": 854,
          "loss": 6.267920017242432
         },
         {
          "i": 855,
          "loss": 6.260284900665283
         },
         {
          "i": 856,
          "loss": 6.252739429473877
         },
         {
          "i": 857,
          "loss": 6.245230197906494
         },
         {
          "i": 858,
          "loss": 6.2379069328308105
         },
         {
          "i": 859,
          "loss": 6.231998920440674
         },
         {
          "i": 860,
          "loss": 6.223938465118408
         },
         {
          "i": 861,
          "loss": 6.216302871704102
         },
         {
          "i": 862,
          "loss": 6.208771228790283
         },
         {
          "i": 863,
          "loss": 6.201324462890625
         },
         {
          "i": 864,
          "loss": 6.193922519683838
         },
         {
          "i": 865,
          "loss": 6.186601638793945
         },
         {
          "i": 866,
          "loss": 6.180884838104248
         },
         {
          "i": 867,
          "loss": 6.172916889190674
         },
         {
          "i": 868,
          "loss": 6.165408134460449
         },
         {
          "i": 869,
          "loss": 6.157994270324707
         },
         {
          "i": 870,
          "loss": 6.150655746459961
         },
         {
          "i": 871,
          "loss": 6.1433610916137695
         },
         {
          "i": 872,
          "loss": 6.136094570159912
         },
         {
          "i": 873,
          "loss": 6.129579067230225
         },
         {
          "i": 874,
          "loss": 6.123394966125488
         },
         {
          "i": 875,
          "loss": 6.1155595779418945
         },
         {
          "i": 876,
          "loss": 6.1081013679504395
         },
         {
          "i": 877,
          "loss": 6.10079288482666
         },
         {
          "i": 878,
          "loss": 6.093565464019775
         },
         {
          "i": 879,
          "loss": 6.086379528045654
         },
         {
          "i": 880,
          "loss": 6.079635143280029
         },
         {
          "i": 881,
          "loss": 6.073726177215576
         },
         {
          "i": 882,
          "loss": 6.066011905670166
         },
         {
          "i": 883,
          "loss": 6.05869197845459
         },
         {
          "i": 884,
          "loss": 6.051485061645508
         },
         {
          "i": 885,
          "loss": 6.044394016265869
         },
         {
          "i": 886,
          "loss": 6.037386894226074
         },
         {
          "i": 887,
          "loss": 6.030580997467041
         },
         {
          "i": 888,
          "loss": 6.024920463562012
         },
         {
          "i": 889,
          "loss": 6.017270565032959
         },
         {
          "i": 890,
          "loss": 6.010073184967041
         },
         {
          "i": 891,
          "loss": 6.00297737121582
         },
         {
          "i": 892,
          "loss": 5.995960235595703
         },
         {
          "i": 893,
          "loss": 5.988991737365723
         },
         {
          "i": 894,
          "loss": 5.982172966003418
         },
         {
          "i": 895,
          "loss": 5.976738452911377
         },
         {
          "i": 896,
          "loss": 5.969182968139648
         },
         {
          "i": 897,
          "loss": 5.962129592895508
         },
         {
          "i": 898,
          "loss": 5.955142021179199
         },
         {
          "i": 899,
          "loss": 5.948290824890137
         },
         {
          "i": 900,
          "loss": 5.941481113433838
         },
         {
          "i": 901,
          "loss": 5.934631824493408
         },
         {
          "i": 902,
          "loss": 5.928478240966797
         },
         {
          "i": 903,
          "loss": 5.922561168670654
         },
         {
          "i": 904,
          "loss": 5.9151692390441895
         },
         {
          "i": 905,
          "loss": 5.9082183837890625
         },
         {
          "i": 906,
          "loss": 5.901374340057373
         },
         {
          "i": 907,
          "loss": 5.894588470458984
         },
         {
          "i": 908,
          "loss": 5.8878374099731445
         },
         {
          "i": 909,
          "loss": 5.881547927856445
         },
         {
          "i": 910,
          "loss": 5.875977993011475
         },
         {
          "i": 911,
          "loss": 5.868649959564209
         },
         {
          "i": 912,
          "loss": 5.8618035316467285
         },
         {
          "i": 913,
          "loss": 5.855177402496338
         },
         {
          "i": 914,
          "loss": 5.848486423492432
         },
         {
          "i": 915,
          "loss": 5.841825485229492
         },
         {
          "i": 916,
          "loss": 5.835533618927002
         },
         {
          "i": 917,
          "loss": 5.830153942108154
         },
         {
          "i": 918,
          "loss": 5.8229265213012695
         },
         {
          "i": 919,
          "loss": 5.816131114959717
         },
         {
          "i": 920,
          "loss": 5.809504985809326
         },
         {
          "i": 921,
          "loss": 5.802875518798828
         },
         {
          "i": 922,
          "loss": 5.785982131958008
         },
         {
          "i": 923,
          "loss": 5.7746076583862305
         },
         {
          "i": 924,
          "loss": 5.7515106201171875
         },
         {
          "i": 925,
          "loss": 5.7390456199646
         },
         {
          "i": 926,
          "loss": 5.725573539733887
         },
         {
          "i": 927,
          "loss": 5.698155403137207
         },
         {
          "i": 928,
          "loss": 5.674067497253418
         },
         {
          "i": 929,
          "loss": 5.663687705993652
         },
         {
          "i": 930,
          "loss": 5.655096530914307
         },
         {
          "i": 931,
          "loss": 5.646833896636963
         },
         {
          "i": 932,
          "loss": 5.638716220855713
         },
         {
          "i": 933,
          "loss": 5.630624771118164
         },
         {
          "i": 934,
          "loss": 5.622736930847168
         },
         {
          "i": 935,
          "loss": 5.615678787231445
         },
         {
          "i": 936,
          "loss": 5.607089996337891
         },
         {
          "i": 937,
          "loss": 5.598929405212402
         },
         {
          "i": 938,
          "loss": 5.59096622467041
         },
         {
          "i": 939,
          "loss": 5.583094596862793
         },
         {
          "i": 940,
          "loss": 5.5752272605896
         },
         {
          "i": 941,
          "loss": 5.567403793334961
         },
         {
          "i": 942,
          "loss": 5.559614658355713
         },
         {
          "i": 943,
          "loss": 5.551857948303223
         },
         {
          "i": 944,
          "loss": 5.544116020202637
         },
         {
          "i": 945,
          "loss": 5.5363898277282715
         },
         {
          "i": 946,
          "loss": 5.5286865234375
         },
         {
          "i": 947,
          "loss": 5.521022796630859
         },
         {
          "i": 948,
          "loss": 5.513339042663574
         },
         {
          "i": 949,
          "loss": 5.505670547485352
         },
         {
          "i": 950,
          "loss": 5.498114109039307
         },
         {
          "i": 951,
          "loss": 5.4915595054626465
         },
         {
          "i": 952,
          "loss": 5.4833292961120605
         },
         {
          "i": 953,
          "loss": 5.4754862785339355
         },
         {
          "i": 954,
          "loss": 5.4677886962890625
         },
         {
          "i": 955,
          "loss": 5.460146903991699
         },
         {
          "i": 956,
          "loss": 5.4525675773620605
         },
         {
          "i": 957,
          "loss": 5.445034027099609
         },
         {
          "i": 958,
          "loss": 5.4374847412109375
         },
         {
          "i": 959,
          "loss": 5.429950714111328
         },
         {
          "i": 960,
          "loss": 5.422430038452148
         },
         {
          "i": 961,
          "loss": 5.414923667907715
         },
         {
          "i": 962,
          "loss": 5.407428741455078
         },
         {
          "i": 963,
          "loss": 5.400229454040527
         },
         {
          "i": 964,
          "loss": 5.393681526184082
         },
         {
          "i": 965,
          "loss": 5.385648727416992
         },
         {
          "i": 966,
          "loss": 5.378011703491211
         },
         {
          "i": 967,
          "loss": 5.370507717132568
         },
         {
          "i": 968,
          "loss": 5.363105297088623
         },
         {
          "i": 969,
          "loss": 5.355679988861084
         },
         {
          "i": 970,
          "loss": 5.348275184631348
         },
         {
          "i": 971,
          "loss": 5.340886116027832
         },
         {
          "i": 972,
          "loss": 5.333512783050537
         },
         {
          "i": 973,
          "loss": 5.326150894165039
         },
         {
          "i": 974,
          "loss": 5.319064140319824
         },
         {
          "i": 975,
          "loss": 5.312685966491699
         },
         {
          "i": 976,
          "loss": 5.304767608642578
         },
         {
          "i": 977,
          "loss": 5.297263145446777
         },
         {
          "i": 978,
          "loss": 5.289901256561279
         },
         {
          "i": 979,
          "loss": 5.282620429992676
         },
         {
          "i": 980,
          "loss": 5.275343418121338
         },
         {
          "i": 981,
          "loss": 5.268071174621582
         },
         {
          "i": 982,
          "loss": 5.260815620422363
         },
         {
          "i": 983,
          "loss": 5.253584384918213
         },
         {
          "i": 984,
          "loss": 5.246579170227051
         },
         {
          "i": 985,
          "loss": 5.240420341491699
         },
         {
          "i": 986,
          "loss": 5.232632637023926
         },
         {
          "i": 987,
          "loss": 5.225261688232422
         },
         {
          "i": 988,
          "loss": 5.218023777008057
         },
         {
          "i": 989,
          "loss": 5.210841655731201
         },
         {
          "i": 990,
          "loss": 5.203705310821533
         },
         {
          "i": 991,
          "loss": 5.196587562561035
         },
         {
          "i": 992,
          "loss": 5.1894659996032715
         },
         {
          "i": 993,
          "loss": 5.182560443878174
         },
         {
          "i": 994,
          "loss": 5.1763434410095215
         },
         {
          "i": 995,
          "loss": 5.164714336395264
         },
         {
          "i": 996,
          "loss": 5.155280590057373
         },
         {
          "i": 997,
          "loss": 5.147641658782959
         },
         {
          "i": 998,
          "loss": 5.140115737915039
         },
         {
          "i": 999,
          "loss": 5.132659435272217
         },
         {
          "i": 1000,
          "loss": 5.1252055168151855
         },
         {
          "i": 1001,
          "loss": 5.117761135101318
         },
         {
          "i": 1002,
          "loss": 5.110332489013672
         },
         {
          "i": 1003,
          "loss": 5.103004455566406
         },
         {
          "i": 1004,
          "loss": 5.096790313720703
         },
         {
          "i": 1005,
          "loss": 5.088934898376465
         },
         {
          "i": 1006,
          "loss": 5.0814361572265625
         },
         {
          "i": 1007,
          "loss": 5.0740275382995605
         },
         {
          "i": 1008,
          "loss": 5.0667195320129395
         },
         {
          "i": 1009,
          "loss": 5.05942440032959
         },
         {
          "i": 1010,
          "loss": 5.0522050857543945
         },
         {
          "i": 1011,
          "loss": 5.044960975646973
         },
         {
          "i": 1012,
          "loss": 5.037728786468506
         },
         {
          "i": 1013,
          "loss": 5.030799388885498
         },
         {
          "i": 1014,
          "loss": 5.02452278137207
         },
         {
          "i": 1015,
          "loss": 5.016724109649658
         },
         {
          "i": 1016,
          "loss": 5.009363174438477
         },
         {
          "i": 1017,
          "loss": 5.002131938934326
         },
         {
          "i": 1018,
          "loss": 4.994950771331787
         },
         {
          "i": 1019,
          "loss": 4.987814426422119
         },
         {
          "i": 1020,
          "loss": 4.980693340301514
         },
         {
          "i": 1021,
          "loss": 4.973564624786377
         },
         {
          "i": 1022,
          "loss": 4.966859340667725
         },
         {
          "i": 1023,
          "loss": 4.960577011108398
         },
         {
          "i": 1024,
          "loss": 4.952879428863525
         },
         {
          "i": 1025,
          "loss": 4.945615768432617
         },
         {
          "i": 1026,
          "loss": 4.938478469848633
         },
         {
          "i": 1027,
          "loss": 4.931391716003418
         },
         {
          "i": 1028,
          "loss": 4.924344062805176
         },
         {
          "i": 1029,
          "loss": 4.917320728302002
         },
         {
          "i": 1030,
          "loss": 4.910478591918945
         },
         {
          "i": 1031,
          "loss": 4.904486179351807
         },
         {
          "i": 1032,
          "loss": 4.8968682289123535
         },
         {
          "i": 1033,
          "loss": 4.8896870613098145
         },
         {
          "i": 1034,
          "loss": 4.882633209228516
         },
         {
          "i": 1035,
          "loss": 4.875629425048828
         },
         {
          "i": 1036,
          "loss": 4.868649482727051
         },
         {
          "i": 1037,
          "loss": 4.861694812774658
         },
         {
          "i": 1038,
          "loss": 4.854859828948975
         },
         {
          "i": 1039,
          "loss": 4.8490777015686035
         },
         {
          "i": 1040,
          "loss": 4.841540336608887
         },
         {
          "i": 1041,
          "loss": 4.83444356918335
         },
         {
          "i": 1042,
          "loss": 4.8274712562561035
         },
         {
          "i": 1043,
          "loss": 4.820550918579102
         },
         {
          "i": 1044,
          "loss": 4.813640117645264
         },
         {
          "i": 1045,
          "loss": 4.806746006011963
         },
         {
          "i": 1046,
          "loss": 4.799867630004883
         },
         {
          "i": 1047,
          "loss": 4.793206691741943
         },
         {
          "i": 1048,
          "loss": 4.787333965301514
         },
         {
          "i": 1049,
          "loss": 4.779888153076172
         },
         {
          "i": 1050,
          "loss": 4.772875785827637
         },
         {
          "i": 1051,
          "loss": 4.765987396240234
         },
         {
          "i": 1052,
          "loss": 4.759146213531494
         },
         {
          "i": 1053,
          "loss": 4.7523322105407715
         },
         {
          "i": 1054,
          "loss": 4.7455339431762695
         },
         {
          "i": 1055,
          "loss": 4.738752841949463
         },
         {
          "i": 1056,
          "loss": 4.732248306274414
         },
         {
          "i": 1057,
          "loss": 4.726428985595703
         },
         {
          "i": 1058,
          "loss": 4.71909761428833
         },
         {
          "i": 1059,
          "loss": 4.7121992111206055
         },
         {
          "i": 1060,
          "loss": 4.705423355102539
         },
         {
          "i": 1061,
          "loss": 4.698695659637451
         },
         {
          "i": 1062,
          "loss": 4.691980361938477
         },
         {
          "i": 1063,
          "loss": 4.685279846191406
         },
         {
          "i": 1064,
          "loss": 4.678625106811523
         },
         {
          "i": 1065,
          "loss": 4.673037528991699
         },
         {
          "i": 1066,
          "loss": 4.665805816650391
         },
         {
          "i": 1067,
          "loss": 4.659030437469482
         },
         {
          "i": 1068,
          "loss": 4.652318954467773
         },
         {
          "i": 1069,
          "loss": 4.645667552947998
         },
         {
          "i": 1070,
          "loss": 4.639035701751709
         },
         {
          "i": 1071,
          "loss": 4.632417678833008
         },
         {
          "i": 1072,
          "loss": 4.6258134841918945
         },
         {
          "i": 1073,
          "loss": 4.619335651397705
         },
         {
          "i": 1074,
          "loss": 4.613726615905762
         },
         {
          "i": 1075,
          "loss": 4.606591701507568
         },
         {
          "i": 1076,
          "loss": 4.5999274253845215
         },
         {
          "i": 1077,
          "loss": 4.593301773071289
         },
         {
          "i": 1078,
          "loss": 4.586731433868408
         },
         {
          "i": 1079,
          "loss": 4.5801873207092285
         },
         {
          "i": 1080,
          "loss": 4.5736589431762695
         },
         {
          "i": 1081,
          "loss": 4.567141532897949
         },
         {
          "i": 1082,
          "loss": 4.5608086585998535
         },
         {
          "i": 1083,
          "loss": 4.555110454559326
         },
         {
          "i": 1084,
          "loss": 4.548097133636475
         },
         {
          "i": 1085,
          "loss": 4.541496753692627
         },
         {
          "i": 1086,
          "loss": 4.534962177276611
         },
         {
          "i": 1087,
          "loss": 4.528475761413574
         },
         {
          "i": 1088,
          "loss": 4.522014141082764
         },
         {
          "i": 1089,
          "loss": 4.515570163726807
         },
         {
          "i": 1090,
          "loss": 4.509138584136963
         },
         {
          "i": 1091,
          "loss": 4.502891540527344
         },
         {
          "i": 1092,
          "loss": 4.497389316558838
         },
         {
          "i": 1093,
          "loss": 4.490429878234863
         },
         {
          "i": 1094,
          "loss": 4.48390531539917
         },
         {
          "i": 1095,
          "loss": 4.477487087249756
         },
         {
          "i": 1096,
          "loss": 4.471094131469727
         },
         {
          "i": 1097,
          "loss": 4.464734077453613
         },
         {
          "i": 1098,
          "loss": 4.458400249481201
         },
         {
          "i": 1099,
          "loss": 4.4520697593688965
         },
         {
          "i": 1100,
          "loss": 4.445952892303467
         },
         {
          "i": 1101,
          "loss": 4.440520286560059
         },
         {
          "i": 1102,
          "loss": 4.433669090270996
         },
         {
          "i": 1103,
          "loss": 4.427247524261475
         },
         {
          "i": 1104,
          "loss": 4.420942306518555
         },
         {
          "i": 1105,
          "loss": 4.414664268493652
         },
         {
          "i": 1106,
          "loss": 4.408396244049072
         },
         {
          "i": 1107,
          "loss": 4.402156829833984
         },
         {
          "i": 1108,
          "loss": 4.395929336547852
         },
         {
          "i": 1109,
          "loss": 4.389868259429932
         },
         {
          "i": 1110,
          "loss": 4.384504795074463
         },
         {
          "i": 1111,
          "loss": 4.377769947052002
         },
         {
          "i": 1112,
          "loss": 4.371447563171387
         },
         {
          "i": 1113,
          "loss": 4.365262985229492
         },
         {
          "i": 1114,
          "loss": 4.359067916870117
         },
         {
          "i": 1115,
          "loss": 4.352901935577393
         },
         {
          "i": 1116,
          "loss": 4.3467631340026855
         },
         {
          "i": 1117,
          "loss": 4.3406081199646
         },
         {
          "i": 1118,
          "loss": 4.334530830383301
         },
         {
          "i": 1119,
          "loss": 4.329357624053955
         },
         {
          "i": 1120,
          "loss": 4.32267951965332
         },
         {
          "i": 1121,
          "loss": 4.316446781158447
         },
         {
          "i": 1122,
          "loss": 4.310342311859131
         },
         {
          "i": 1123,
          "loss": 4.30422830581665
         },
         {
          "i": 1124,
          "loss": 4.298144817352295
         },
         {
          "i": 1125,
          "loss": 4.292105674743652
         },
         {
          "i": 1126,
          "loss": 4.2860541343688965
         },
         {
          "i": 1127,
          "loss": 4.280009746551514
         },
         {
          "i": 1128,
          "loss": 4.274114608764648
         },
         {
          "i": 1129,
          "loss": 4.268973350524902
         },
         {
          "i": 1130,
          "loss": 4.262404441833496
         },
         {
          "i": 1131,
          "loss": 4.256304740905762
         },
         {
          "i": 1132,
          "loss": 4.2502946853637695
         },
         {
          "i": 1133,
          "loss": 4.244291305541992
         },
         {
          "i": 1134,
          "loss": 4.238311767578125
         },
         {
          "i": 1135,
          "loss": 4.23236608505249
         },
         {
          "i": 1136,
          "loss": 4.226436138153076
         },
         {
          "i": 1137,
          "loss": 4.220491409301758
         },
         {
          "i": 1138,
          "loss": 4.214681625366211
         },
         {
          "i": 1139,
          "loss": 4.209570407867432
         },
         {
          "i": 1140,
          "loss": 4.203207492828369
         },
         {
          "i": 1141,
          "loss": 4.197220325469971
         },
         {
          "i": 1142,
          "loss": 4.191267013549805
         },
         {
          "i": 1143,
          "loss": 4.185398101806641
         },
         {
          "i": 1144,
          "loss": 4.179492950439453
         },
         {
          "i": 1145,
          "loss": 4.17362117767334
         },
         {
          "i": 1146,
          "loss": 4.1677632331848145
         },
         {
          "i": 1147,
          "loss": 4.161931037902832
         },
         {
          "i": 1148,
          "loss": 4.156134128570557
         },
         {
          "i": 1149,
          "loss": 4.150491237640381
         },
         {
          "i": 1150,
          "loss": 4.145394802093506
         },
         {
          "i": 1151,
          "loss": 4.139125347137451
         },
         {
          "i": 1152,
          "loss": 4.133245944976807
         },
         {
          "i": 1153,
          "loss": 4.127419948577881
         },
         {
          "i": 1154,
          "loss": 4.121636390686035
         },
         {
          "i": 1155,
          "loss": 4.115893363952637
         },
         {
          "i": 1156,
          "loss": 4.110175609588623
         },
         {
          "i": 1157,
          "loss": 4.104428291320801
         },
         {
          "i": 1158,
          "loss": 4.098699569702148
         },
         {
          "i": 1159,
          "loss": 4.0931077003479
         },
         {
          "i": 1160,
          "loss": 4.0882463455200195
         },
         {
          "i": 1161,
          "loss": 4.082010269165039
         },
         {
          "i": 1162,
          "loss": 4.076206207275391
         },
         {
          "i": 1163,
          "loss": 4.070532321929932
         },
         {
          "i": 1164,
          "loss": 4.064906120300293
         },
         {
          "i": 1165,
          "loss": 4.059241771697998
         },
         {
          "i": 1166,
          "loss": 4.053605556488037
         },
         {
          "i": 1167,
          "loss": 4.047978401184082
         },
         {
          "i": 1168,
          "loss": 4.042404651641846
         },
         {
          "i": 1169,
          "loss": 4.0368242263793945
         },
         {
          "i": 1170,
          "loss": 4.031339645385742
         },
         {
          "i": 1171,
          "loss": 4.026462554931641
         },
         {
          "i": 1172,
          "loss": 4.020440578460693
         },
         {
          "i": 1173,
          "loss": 4.0148186683654785
         },
         {
          "i": 1174,
          "loss": 4.009208679199219
         },
         {
          "i": 1175,
          "loss": 4.0036444664001465
         },
         {
          "i": 1176,
          "loss": 3.9981026649475098
         },
         {
          "i": 1177,
          "loss": 3.992624521255493
         },
         {
          "i": 1178,
          "loss": 3.9871411323547363
         },
         {
          "i": 1179,
          "loss": 3.981633186340332
         },
         {
          "i": 1180,
          "loss": 3.976138114929199
         },
         {
          "i": 1181,
          "loss": 3.9706554412841797
         },
         {
          "i": 1182,
          "loss": 3.9653749465942383
         },
         {
          "i": 1183,
          "loss": 3.960650682449341
         },
         {
          "i": 1184,
          "loss": 3.9546875953674316
         },
         {
          "i": 1185,
          "loss": 3.9491336345672607
         },
         {
          "i": 1186,
          "loss": 3.9436755180358887
         },
         {
          "i": 1187,
          "loss": 3.9383058547973633
         },
         {
          "i": 1188,
          "loss": 3.9328763484954834
         },
         {
          "i": 1189,
          "loss": 3.927471399307251
         },
         {
          "i": 1190,
          "loss": 3.922076940536499
         },
         {
          "i": 1191,
          "loss": 3.916722297668457
         },
         {
          "i": 1192,
          "loss": 3.9114391803741455
         },
         {
          "i": 1193,
          "loss": 3.9060773849487305
         },
         {
          "i": 1194,
          "loss": 3.9007272720336914
         },
         {
          "i": 1195,
          "loss": 3.896160364151001
         },
         {
          "i": 1196,
          "loss": 3.8904061317443848
         },
         {
          "i": 1197,
          "loss": 3.8850512504577637
         },
         {
          "i": 1198,
          "loss": 3.879646062850952
         },
         {
          "i": 1199,
          "loss": 3.874333143234253
         },
         {
          "i": 1200,
          "loss": 3.8690378665924072
         },
         {
          "i": 1201,
          "loss": 3.8638195991516113
         },
         {
          "i": 1202,
          "loss": 3.858640193939209
         },
         {
          "i": 1203,
          "loss": 3.8533263206481934
         },
         {
          "i": 1204,
          "loss": 3.8480234146118164
         },
         {
          "i": 1205,
          "loss": 3.842733144760132
         },
         {
          "i": 1206,
          "loss": 3.837534189224243
         },
         {
          "i": 1207,
          "loss": 3.832320213317871
         },
         {
          "i": 1208,
          "loss": 3.8270082473754883
         },
         {
          "i": 1209,
          "loss": 3.8218469619750977
         },
         {
          "i": 1210,
          "loss": 3.8167171478271484
         },
         {
          "i": 1211,
          "loss": 3.8098268508911133
         },
         {
          "i": 1212,
          "loss": 3.8041164875030518
         },
         {
          "i": 1213,
          "loss": 3.798590898513794
         },
         {
          "i": 1214,
          "loss": 3.7931301593780518
         },
         {
          "i": 1215,
          "loss": 3.7876760959625244
         },
         {
          "i": 1216,
          "loss": 3.7822351455688477
         },
         {
          "i": 1217,
          "loss": 3.7768068313598633
         },
         {
          "i": 1218,
          "loss": 3.7713897228240967
         },
         {
          "i": 1219,
          "loss": 3.7659924030303955
         },
         {
          "i": 1220,
          "loss": 3.760678768157959
         },
         {
          "i": 1221,
          "loss": 3.7553415298461914
         },
         {
          "i": 1222,
          "loss": 3.750011920928955
         },
         {
          "i": 1223,
          "loss": 3.7447280883789062
         },
         {
          "i": 1224,
          "loss": 3.7394049167633057
         },
         {
          "i": 1225,
          "loss": 3.7341361045837402
         },
         {
          "i": 1226,
          "loss": 3.7288546562194824
         },
         {
          "i": 1227,
          "loss": 3.723576307296753
         },
         {
          "i": 1228,
          "loss": 3.7184391021728516
         },
         {
          "i": 1229,
          "loss": 3.713791847229004
         },
         {
          "i": 1230,
          "loss": 3.7081682682037354
         },
         {
          "i": 1231,
          "loss": 3.7027480602264404
         },
         {
          "i": 1232,
          "loss": 3.6974806785583496
         },
         {
          "i": 1233,
          "loss": 3.6922554969787598
         },
         {
          "i": 1234,
          "loss": 3.687040090560913
         },
         {
          "i": 1235,
          "loss": 3.6818716526031494
         },
         {
          "i": 1236,
          "loss": 3.6766655445098877
         },
         {
          "i": 1237,
          "loss": 3.6715128421783447
         },
         {
          "i": 1238,
          "loss": 3.666311740875244
         },
         {
          "i": 1239,
          "loss": 3.6611902713775635
         },
         {
          "i": 1240,
          "loss": 3.656020402908325
         },
         {
          "i": 1241,
          "loss": 3.6509265899658203
         },
         {
          "i": 1242,
          "loss": 3.6457204818725586
         },
         {
          "i": 1243,
          "loss": 3.6406726837158203
         },
         {
          "i": 1244,
          "loss": 3.6362667083740234
         },
         {
          "i": 1245,
          "loss": 3.63096284866333
         },
         {
          "i": 1246,
          "loss": 3.625649929046631
         },
         {
          "i": 1247,
          "loss": 3.6206858158111572
         },
         {
          "i": 1248,
          "loss": 3.615513324737549
         },
         {
          "i": 1249,
          "loss": 3.610507011413574
         },
         {
          "i": 1250,
          "loss": 3.6054251194000244
         },
         {
          "i": 1251,
          "loss": 3.6003973484039307
         },
         {
          "i": 1252,
          "loss": 3.5953927040100098
         },
         {
          "i": 1253,
          "loss": 3.590318202972412
         },
         {
          "i": 1254,
          "loss": 3.585395097732544
         },
         {
          "i": 1255,
          "loss": 3.580268144607544
         },
         {
          "i": 1256,
          "loss": 3.5752811431884766
         },
         {
          "i": 1257,
          "loss": 3.5702273845672607
         },
         {
          "i": 1258,
          "loss": 3.5652554035186768
         },
         {
          "i": 1259,
          "loss": 3.560462236404419
         },
         {
          "i": 1260,
          "loss": 3.5560719966888428
         },
         {
          "i": 1261,
          "loss": 3.5505990982055664
         },
         {
          "i": 1262,
          "loss": 3.5456748008728027
         },
         {
          "i": 1263,
          "loss": 3.540649175643921
         },
         {
          "i": 1264,
          "loss": 3.535695791244507
         },
         {
          "i": 1265,
          "loss": 3.5307886600494385
         },
         {
          "i": 1266,
          "loss": 3.5259897708892822
         },
         {
          "i": 1267,
          "loss": 3.5210626125335693
         },
         {
          "i": 1268,
          "loss": 3.5161664485931396
         },
         {
          "i": 1269,
          "loss": 3.5112831592559814
         },
         {
          "i": 1270,
          "loss": 3.506476402282715
         },
         {
          "i": 1271,
          "loss": 3.501687526702881
         },
         {
          "i": 1272,
          "loss": 3.496788740158081
         },
         {
          "i": 1273,
          "loss": 3.491929054260254
         },
         {
          "i": 1274,
          "loss": 3.4872214794158936
         },
         {
          "i": 1275,
          "loss": 3.4824118614196777
         },
         {
          "i": 1276,
          "loss": 3.478156805038452
         },
         {
          "i": 1277,
          "loss": 3.4730064868927
         },
         {
          "i": 1278,
          "loss": 3.468231201171875
         },
         {
          "i": 1279,
          "loss": 3.463348627090454
         },
         {
          "i": 1280,
          "loss": 3.45853328704834
         },
         {
          "i": 1281,
          "loss": 3.4537885189056396
         },
         {
          "i": 1282,
          "loss": 3.449134111404419
         },
         {
          "i": 1283,
          "loss": 3.4443297386169434
         },
         {
          "i": 1284,
          "loss": 3.4395675659179688
         },
         {
          "i": 1285,
          "loss": 3.434845209121704
         },
         {
          "i": 1286,
          "loss": 3.430259943008423
         },
         {
          "i": 1287,
          "loss": 3.425508975982666
         },
         {
          "i": 1288,
          "loss": 3.420795202255249
         },
         {
          "i": 1289,
          "loss": 3.4161040782928467
         },
         {
          "i": 1290,
          "loss": 3.4113640785217285
         },
         {
          "i": 1291,
          "loss": 3.4062464237213135
         },
         {
          "i": 1292,
          "loss": 3.4012765884399414
         },
         {
          "i": 1293,
          "loss": 3.3970654010772705
         },
         {
          "i": 1294,
          "loss": 3.3916127681732178
         },
         {
          "i": 1295,
          "loss": 3.3865020275115967
         },
         {
          "i": 1296,
          "loss": 3.3815207481384277
         },
         {
          "i": 1297,
          "loss": 3.37654972076416
         },
         {
          "i": 1298,
          "loss": 3.3716137409210205
         },
         {
          "i": 1299,
          "loss": 3.3667047023773193
         },
         {
          "i": 1300,
          "loss": 3.361818552017212
         },
         {
          "i": 1301,
          "loss": 3.3569507598876953
         },
         {
          "i": 1302,
          "loss": 3.352091073989868
         },
         {
          "i": 1303,
          "loss": 3.3472518920898438
         },
         {
          "i": 1304,
          "loss": 3.342451810836792
         },
         {
          "i": 1305,
          "loss": 3.3376333713531494
         },
         {
          "i": 1306,
          "loss": 3.332827091217041
         },
         {
          "i": 1307,
          "loss": 3.3280341625213623
         },
         {
          "i": 1308,
          "loss": 3.3232526779174805
         },
         {
          "i": 1309,
          "loss": 3.3184821605682373
         },
         {
          "i": 1310,
          "loss": 3.3137216567993164
         },
         {
          "i": 1311,
          "loss": 3.30897855758667
         },
         {
          "i": 1312,
          "loss": 3.304243803024292
         },
         {
          "i": 1313,
          "loss": 3.299496650695801
         },
         {
          "i": 1314,
          "loss": 3.2948966026306152
         },
         {
          "i": 1315,
          "loss": 3.290681838989258
         },
         {
          "i": 1316,
          "loss": 3.285475969314575
         },
         {
          "i": 1317,
          "loss": 3.2808260917663574
         },
         {
          "i": 1318,
          "loss": 3.2759487628936768
         },
         {
          "i": 1319,
          "loss": 3.2711944580078125
         },
         {
          "i": 1320,
          "loss": 3.2665183544158936
         },
         {
          "i": 1321,
          "loss": 3.261924982070923
         },
         {
          "i": 1322,
          "loss": 3.257328510284424
         },
         {
          "i": 1323,
          "loss": 3.252758264541626
         },
         {
          "i": 1324,
          "loss": 3.2482104301452637
         },
         {
          "i": 1325,
          "loss": 3.243690252304077
         },
         {
          "i": 1326,
          "loss": 3.2391767501831055
         },
         {
          "i": 1327,
          "loss": 3.2346746921539307
         },
         {
          "i": 1328,
          "loss": 3.2301852703094482
         },
         {
          "i": 1329,
          "loss": 3.2257273197174072
         },
         {
          "i": 1330,
          "loss": 3.2212612628936768
         },
         {
          "i": 1331,
          "loss": 3.2167999744415283
         },
         {
          "i": 1332,
          "loss": 3.21235990524292
         },
         {
          "i": 1333,
          "loss": 3.208487033843994
         },
         {
          "i": 1334,
          "loss": 3.2036876678466797
         },
         {
          "i": 1335,
          "loss": 3.1991631984710693
         },
         {
          "i": 1336,
          "loss": 3.1947133541107178
         },
         {
          "i": 1337,
          "loss": 3.1903207302093506
         },
         {
          "i": 1338,
          "loss": 3.1859183311462402
         },
         {
          "i": 1339,
          "loss": 3.1815295219421387
         },
         {
          "i": 1340,
          "loss": 3.1771392822265625
         },
         {
          "i": 1341,
          "loss": 3.17277193069458
         },
         {
          "i": 1342,
          "loss": 3.168405771255493
         },
         {
          "i": 1343,
          "loss": 3.164046049118042
         },
         {
          "i": 1344,
          "loss": 3.159719944000244
         },
         {
          "i": 1345,
          "loss": 3.1553831100463867
         },
         {
          "i": 1346,
          "loss": 3.151045799255371
         },
         {
          "i": 1347,
          "loss": 3.1467220783233643
         },
         {
          "i": 1348,
          "loss": 3.1424431800842285
         },
         {
          "i": 1349,
          "loss": 3.138653039932251
         },
         {
          "i": 1350,
          "loss": 3.1340019702911377
         },
         {
          "i": 1351,
          "loss": 3.1296191215515137
         },
         {
          "i": 1352,
          "loss": 3.1253206729888916
         },
         {
          "i": 1353,
          "loss": 3.1210215091705322
         },
         {
          "i": 1354,
          "loss": 3.1167397499084473
         },
         {
          "i": 1355,
          "loss": 3.112461805343628
         },
         {
          "i": 1356,
          "loss": 3.108201026916504
         },
         {
          "i": 1357,
          "loss": 3.1039581298828125
         },
         {
          "i": 1358,
          "loss": 3.0997252464294434
         },
         {
          "i": 1359,
          "loss": 3.095515251159668
         },
         {
          "i": 1360,
          "loss": 3.0913028717041016
         },
         {
          "i": 1361,
          "loss": 3.0870907306671143
         },
         {
          "i": 1362,
          "loss": 3.0829198360443115
         },
         {
          "i": 1363,
          "loss": 3.079258680343628
         },
         {
          "i": 1364,
          "loss": 3.0747270584106445
         },
         {
          "i": 1365,
          "loss": 3.0704526901245117
         },
         {
          "i": 1366,
          "loss": 3.066249370574951
         },
         {
          "i": 1367,
          "loss": 3.062077522277832
         },
         {
          "i": 1368,
          "loss": 3.057900905609131
         },
         {
          "i": 1369,
          "loss": 3.053732395172119
         },
         {
          "i": 1370,
          "loss": 3.049570322036743
         },
         {
          "i": 1371,
          "loss": 3.045414924621582
         },
         {
          "i": 1372,
          "loss": 3.041268825531006
         },
         {
          "i": 1373,
          "loss": 3.0371344089508057
         },
         {
          "i": 1374,
          "loss": 3.0330264568328857
         },
         {
          "i": 1375,
          "loss": 3.028897762298584
         },
         {
          "i": 1376,
          "loss": 3.0248043537139893
         },
         {
          "i": 1377,
          "loss": 3.0211803913116455
         },
         {
          "i": 1378,
          "loss": 3.0167343616485596
         },
         {
          "i": 1379,
          "loss": 3.0125315189361572
         },
         {
          "i": 1380,
          "loss": 3.008390426635742
         },
         {
          "i": 1381,
          "loss": 3.004281520843506
         },
         {
          "i": 1382,
          "loss": 3.0001816749572754
         },
         {
          "i": 1383,
          "loss": 2.9960777759552
         },
         {
          "i": 1384,
          "loss": 2.991987705230713
         },
         {
          "i": 1385,
          "loss": 2.9879016876220703
         },
         {
          "i": 1386,
          "loss": 2.983820915222168
         },
         {
          "i": 1387,
          "loss": 2.9797539710998535
         },
         {
          "i": 1388,
          "loss": 2.975696086883545
         },
         {
          "i": 1389,
          "loss": 2.9716501235961914
         },
         {
          "i": 1390,
          "loss": 2.9676270484924316
         },
         {
          "i": 1391,
          "loss": 2.9635932445526123
         },
         {
          "i": 1392,
          "loss": 2.959566116333008
         },
         {
          "i": 1393,
          "loss": 2.9555554389953613
         },
         {
          "i": 1394,
          "loss": 2.951542854309082
         },
         {
          "i": 1395,
          "loss": 2.947572708129883
         },
         {
          "i": 1396,
          "loss": 2.944032669067383
         },
         {
          "i": 1397,
          "loss": 2.939739465713501
         },
         {
          "i": 1398,
          "loss": 2.9357190132141113
         },
         {
          "i": 1399,
          "loss": 2.9317705631256104
         },
         {
          "i": 1400,
          "loss": 2.9278323650360107
         },
         {
          "i": 1401,
          "loss": 2.9238474369049072
         },
         {
          "i": 1402,
          "loss": 2.919875383377075
         },
         {
          "i": 1403,
          "loss": 2.915915012359619
         },
         {
          "i": 1404,
          "loss": 2.911970853805542
         },
         {
          "i": 1405,
          "loss": 2.908118963241577
         },
         {
          "i": 1406,
          "loss": 2.9042165279388428
         },
         {
          "i": 1407,
          "loss": 2.900308132171631
         },
         {
          "i": 1408,
          "loss": 2.896496295928955
         },
         {
          "i": 1409,
          "loss": 2.892543315887451
         },
         {
          "i": 1410,
          "loss": 2.888659954071045
         },
         {
          "i": 1411,
          "loss": 2.8848202228546143
         },
         {
          "i": 1412,
          "loss": 2.8810107707977295
         },
         {
          "i": 1413,
          "loss": 2.877072334289551
         },
         {
          "i": 1414,
          "loss": 2.873225688934326
         },
         {
          "i": 1415,
          "loss": 2.869445562362671
         },
         {
          "i": 1416,
          "loss": 2.8656911849975586
         },
         {
          "i": 1417,
          "loss": 2.8618838787078857
         },
         {
          "i": 1418,
          "loss": 2.858614206314087
         },
         {
          "i": 1419,
          "loss": 2.8544888496398926
         },
         {
          "i": 1420,
          "loss": 2.850764751434326
         },
         {
          "i": 1421,
          "loss": 2.8467867374420166
         },
         {
          "i": 1422,
          "loss": 2.8430471420288086
         },
         {
          "i": 1423,
          "loss": 2.8392038345336914
         },
         {
          "i": 1424,
          "loss": 2.835456132888794
         },
         {
          "i": 1425,
          "loss": 2.831603765487671
         },
         {
          "i": 1426,
          "loss": 2.827848434448242
         },
         {
          "i": 1427,
          "loss": 2.8241071701049805
         },
         {
          "i": 1428,
          "loss": 2.8205442428588867
         },
         {
          "i": 1429,
          "loss": 2.8166370391845703
         },
         {
          "i": 1430,
          "loss": 2.8127923011779785
         },
         {
          "i": 1431,
          "loss": 2.809169292449951
         },
         {
          "i": 1432,
          "loss": 2.8055779933929443
         },
         {
          "i": 1433,
          "loss": 2.8017423152923584
         },
         {
          "i": 1434,
          "loss": 2.7981319427490234
         },
         {
          "i": 1435,
          "loss": 2.794309377670288
         },
         {
          "i": 1436,
          "loss": 2.7906928062438965
         },
         {
          "i": 1437,
          "loss": 2.7869462966918945
         },
         {
          "i": 1438,
          "loss": 2.7833828926086426
         },
         {
          "i": 1439,
          "loss": 2.779634952545166
         },
         {
          "i": 1440,
          "loss": 2.776766061782837
         },
         {
          "i": 1441,
          "loss": 2.7727861404418945
         },
         {
          "i": 1442,
          "loss": 2.769437789916992
         },
         {
          "i": 1443,
          "loss": 2.765566349029541
         },
         {
          "i": 1444,
          "loss": 2.7617523670196533
         },
         {
          "i": 1445,
          "loss": 2.7581517696380615
         },
         {
          "i": 1446,
          "loss": 2.754910469055176
         },
         {
          "i": 1447,
          "loss": 2.7510876655578613
         },
         {
          "i": 1448,
          "loss": 2.747300386428833
         },
         {
          "i": 1449,
          "loss": 2.7436959743499756
         },
         {
          "i": 1450,
          "loss": 2.74053955078125
         },
         {
          "i": 1451,
          "loss": 2.7367501258850098
         },
         {
          "i": 1452,
          "loss": 2.7330145835876465
         },
         {
          "i": 1453,
          "loss": 2.7294225692749023
         },
         {
          "i": 1454,
          "loss": 2.7263903617858887
         },
         {
          "i": 1455,
          "loss": 2.7226288318634033
         },
         {
          "i": 1456,
          "loss": 2.7188892364501953
         },
         {
          "i": 1457,
          "loss": 2.7152743339538574
         },
         {
          "i": 1458,
          "loss": 2.711942195892334
         },
         {
          "i": 1459,
          "loss": 2.708319902420044
         },
         {
          "i": 1460,
          "loss": 2.705043315887451
         },
         {
          "i": 1461,
          "loss": 2.7013766765594482
         },
         {
          "i": 1462,
          "loss": 2.6981594562530518
         },
         {
          "i": 1463,
          "loss": 2.694467544555664
         },
         {
          "i": 1464,
          "loss": 2.690803289413452
         },
         {
          "i": 1465,
          "loss": 2.6874544620513916
         },
         {
          "i": 1466,
          "loss": 2.685386896133423
         },
         {
          "i": 1467,
          "loss": 2.6814305782318115
         },
         {
          "i": 1468,
          "loss": 2.677703857421875
         },
         {
          "i": 1469,
          "loss": 2.672553777694702
         },
         {
          "i": 1470,
          "loss": 2.6686511039733887
         },
         {
          "i": 1471,
          "loss": 2.665109634399414
         },
         {
          "i": 1472,
          "loss": 2.6616528034210205
         },
         {
          "i": 1473,
          "loss": 2.658207654953003
         },
         {
          "i": 1474,
          "loss": 2.6546967029571533
         },
         {
          "i": 1475,
          "loss": 2.651397943496704
         },
         {
          "i": 1476,
          "loss": 2.6482038497924805
         },
         {
          "i": 1477,
          "loss": 2.644702196121216
         },
         {
          "i": 1478,
          "loss": 2.6412062644958496
         },
         {
          "i": 1479,
          "loss": 2.6377744674682617
         },
         {
          "i": 1480,
          "loss": 2.6345832347869873
         },
         {
          "i": 1481,
          "loss": 2.6310906410217285
         },
         {
          "i": 1482,
          "loss": 2.6276378631591797
         },
         {
          "i": 1483,
          "loss": 2.624530553817749
         },
         {
          "i": 1484,
          "loss": 2.621608018875122
         },
         {
          "i": 1485,
          "loss": 2.618123769760132
         },
         {
          "i": 1486,
          "loss": 2.614250421524048
         },
         {
          "i": 1487,
          "loss": 2.6099612712860107
         },
         {
          "i": 1488,
          "loss": 2.60786509513855
         },
         {
          "i": 1489,
          "loss": 2.6068475246429443
         },
         {
          "i": 1490,
          "loss": 2.5990445613861084
         },
         {
          "i": 1491,
          "loss": 2.5944766998291016
         },
         {
          "i": 1492,
          "loss": 2.5908091068267822
         },
         {
          "i": 1493,
          "loss": 2.5875229835510254
         },
         {
          "i": 1494,
          "loss": 2.585623264312744
         },
         {
          "i": 1495,
          "loss": 2.5886166095733643
         },
         {
          "i": 1496,
          "loss": 2.5873513221740723
         },
         {
          "i": 1497,
          "loss": 2.5977590084075928
         },
         {
          "i": 1498,
          "loss": 2.584024667739868
         },
         {
          "i": 1499,
          "loss": 2.5944504737854004
         },
         {
          "i": 1500,
          "loss": 2.583395481109619
         },
         {
          "i": 1501,
          "loss": 2.5931549072265625
         },
         {
          "i": 1502,
          "loss": 2.5866968631744385
         },
         {
          "i": 1503,
          "loss": 2.5969455242156982
         },
         {
          "i": 1504,
          "loss": 2.5890517234802246
         },
         {
          "i": 1505,
          "loss": 2.5747756958007812
         },
         {
          "i": 1506,
          "loss": 2.5629875659942627
         },
         {
          "i": 1507,
          "loss": 2.5649499893188477
         },
         {
          "i": 1508,
          "loss": 2.5528206825256348
         },
         {
          "i": 1509,
          "loss": 2.5573012828826904
         },
         {
          "i": 1510,
          "loss": 2.5484399795532227
         },
         {
          "i": 1511,
          "loss": 2.5510263442993164
         },
         {
          "i": 1512,
          "loss": 2.538611650466919
         },
         {
          "i": 1513,
          "loss": 2.5443673133850098
         },
         {
          "i": 1514,
          "loss": 2.535316228866577
         },
         {
          "i": 1515,
          "loss": 2.53882098197937
         },
         {
          "i": 1516,
          "loss": 2.526115655899048
         },
         {
          "i": 1517,
          "loss": 2.532755136489868
         },
         {
          "i": 1518,
          "loss": 2.523846387863159
         },
         {
          "i": 1519,
          "loss": 2.529553174972534
         },
         {
          "i": 1520,
          "loss": 2.5167510509490967
         },
         {
          "i": 1521,
          "loss": 2.5259900093078613
         },
         {
          "i": 1522,
          "loss": 2.520306348800659
         },
         {
          "i": 1523,
          "loss": 2.531365156173706
         },
         {
          "i": 1524,
          "loss": 2.518805503845215
         },
         {
          "i": 1525,
          "loss": 2.5095555782318115
         },
         {
          "i": 1526,
          "loss": 2.4961931705474854
         },
         {
          "i": 1527,
          "loss": 2.505462169647217
         },
         {
          "i": 1528,
          "loss": 2.4947187900543213
         },
         {
          "i": 1529,
          "loss": 2.5064029693603516
         },
         {
          "i": 1530,
          "loss": 2.493849277496338
         },
         {
          "i": 1531,
          "loss": 2.5120291709899902
         },
         {
          "i": 1532,
          "loss": 2.492910623550415
         },
         {
          "i": 1533,
          "loss": 2.4837701320648193
         },
         {
          "i": 1534,
          "loss": 2.4697694778442383
         },
         {
          "i": 1535,
          "loss": 2.4785070419311523
         },
         {
          "i": 1536,
          "loss": 2.4643900394439697
         },
         {
          "i": 1537,
          "loss": 2.4766218662261963
         },
         {
          "i": 1538,
          "loss": 2.4657256603240967
         },
         {
          "i": 1539,
          "loss": 2.481649160385132
         },
         {
          "i": 1540,
          "loss": 2.46824049949646
         },
         {
          "i": 1541,
          "loss": 2.464158535003662
         },
         {
          "i": 1542,
          "loss": 2.4499332904815674
         },
         {
          "i": 1543,
          "loss": 2.467907667160034
         },
         {
          "i": 1544,
          "loss": 2.4593520164489746
         },
         {
          "i": 1545,
          "loss": 2.45409893989563
         },
         {
          "i": 1546,
          "loss": 2.441955089569092
         },
         {
          "i": 1547,
          "loss": 2.4591808319091797
         },
         {
          "i": 1548,
          "loss": 2.4451396465301514
         },
         {
          "i": 1549,
          "loss": 2.4427294731140137
         },
         {
          "i": 1550,
          "loss": 2.4283034801483154
         },
         {
          "i": 1551,
          "loss": 2.4491405487060547
         },
         {
          "i": 1552,
          "loss": 2.4380578994750977
         },
         {
          "i": 1553,
          "loss": 2.4373302459716797
         },
         {
          "i": 1554,
          "loss": 2.422755479812622
         },
         {
          "i": 1555,
          "loss": 2.4203765392303467
         },
         {
          "i": 1556,
          "loss": 2.4046854972839355
         },
         {
          "i": 1557,
          "loss": 2.4230449199676514
         },
         {
          "i": 1558,
          "loss": 2.4084997177124023
         },
         {
          "i": 1559,
          "loss": 2.408710241317749
         },
         {
          "i": 1560,
          "loss": 2.3927643299102783
         },
         {
          "i": 1561,
          "loss": 2.415978193283081
         },
         {
          "i": 1562,
          "loss": 2.406520128250122
         },
         {
          "i": 1563,
          "loss": 2.406872034072876
         },
         {
          "i": 1564,
          "loss": 2.3913559913635254
         },
         {
          "i": 1565,
          "loss": 2.3905248641967773
         },
         {
          "i": 1566,
          "loss": 2.3737761974334717
         },
         {
          "i": 1567,
          "loss": 2.3935065269470215
         },
         {
          "i": 1568,
          "loss": 2.377941370010376
         },
         {
          "i": 1569,
          "loss": 2.379978656768799
         },
         {
          "i": 1570,
          "loss": 2.363149642944336
         },
         {
          "i": 1571,
          "loss": 2.3888373374938965
         },
         {
          "i": 1572,
          "loss": 2.379563808441162
         },
         {
          "i": 1573,
          "loss": 2.3833370208740234
         },
         {
          "i": 1574,
          "loss": 2.367042064666748
         },
         {
          "i": 1575,
          "loss": 2.3697402477264404
         },
         {
          "i": 1576,
          "loss": 2.353024959564209
         },
         {
          "i": 1577,
          "loss": 2.35469651222229
         },
         {
          "i": 1578,
          "loss": 2.3364131450653076
         },
         {
          "i": 1579,
          "loss": 2.358856439590454
         },
         {
          "i": 1580,
          "loss": 2.3421578407287598
         },
         {
          "i": 1581,
          "loss": 2.347719669342041
         },
         {
          "i": 1582,
          "loss": 2.3302016258239746
         },
         {
          "i": 1583,
          "loss": 2.3615026473999023
         },
         {
          "i": 1584,
          "loss": 2.34122371673584
         },
         {
          "i": 1585,
          "loss": 2.3473801612854004
         },
         {
          "i": 1586,
          "loss": 2.329882860183716
         },
         {
          "i": 1587,
          "loss": 2.335430383682251
         },
         {
          "i": 1588,
          "loss": 2.317444324493408
         },
         {
          "i": 1589,
          "loss": 2.3223586082458496
         },
         {
          "i": 1590,
          "loss": 2.303074598312378
         },
         {
          "i": 1591,
          "loss": 2.330430269241333
         },
         {
          "i": 1592,
          "loss": 2.3130674362182617
         },
         {
          "i": 1593,
          "loss": 2.3244428634643555
         },
         {
          "i": 1594,
          "loss": 2.3068032264709473
         },
         {
          "i": 1595,
          "loss": 2.3185338973999023
         },
         {
          "i": 1596,
          "loss": 2.3007192611694336
         },
         {
          "i": 1597,
          "loss": 2.313253879547119
         },
         {
          "i": 1598,
          "loss": 2.2953381538391113
         },
         {
          "i": 1599,
          "loss": 2.3090381622314453
         },
         {
          "i": 1600,
          "loss": 2.2910993099212646
         },
         {
          "i": 1601,
          "loss": 2.3062753677368164
         },
         {
          "i": 1602,
          "loss": 2.292562961578369
         },
         {
          "i": 1603,
          "loss": 2.307769775390625
         },
         {
          "i": 1604,
          "loss": 2.281442642211914
         },
         {
          "i": 1605,
          "loss": 2.2953310012817383
         },
         {
          "i": 1606,
          "loss": 2.2766504287719727
         },
         {
          "i": 1607,
          "loss": 2.2925052642822266
         },
         {
          "i": 1608,
          "loss": 2.2741992473602295
         },
         {
          "i": 1609,
          "loss": 2.2924387454986572
         },
         {
          "i": 1610,
          "loss": 2.263721466064453
         },
         {
          "i": 1611,
          "loss": 2.2807233333587646
         },
         {
          "i": 1612,
          "loss": 2.261932373046875
         },
         {
          "i": 1613,
          "loss": 2.2814693450927734
         },
         {
          "i": 1614,
          "loss": 2.252413511276245
         },
         {
          "i": 1615,
          "loss": 2.2712104320526123
         },
         {
          "i": 1616,
          "loss": 2.2523961067199707
         },
         {
          "i": 1617,
          "loss": 2.2745532989501953
         },
         {
          "i": 1618,
          "loss": 2.246225357055664
         },
         {
          "i": 1619,
          "loss": 2.2686965465545654
         },
         {
          "i": 1620,
          "loss": 2.240015745162964
         },
         {
          "i": 1621,
          "loss": 2.2629594802856445
         },
         {
          "i": 1622,
          "loss": 2.2339398860931396
         },
         {
          "i": 1623,
          "loss": 2.257408857345581
         },
         {
          "i": 1624,
          "loss": 2.2281301021575928
         },
         {
          "i": 1625,
          "loss": 2.2524025440216064
         },
         {
          "i": 1626,
          "loss": 2.222998857498169
         },
         {
          "i": 1627,
          "loss": 2.248049259185791
         },
         {
          "i": 1628,
          "loss": 2.218754529953003
         },
         {
          "i": 1629,
          "loss": 2.245145559310913
         },
         {
          "i": 1630,
          "loss": 2.2164926528930664
         },
         {
          "i": 1631,
          "loss": 2.2451682090759277
         },
         {
          "i": 1632,
          "loss": 2.2183420658111572
         },
         {
          "i": 1633,
          "loss": 2.25160813331604
         },
         {
          "i": 1634,
          "loss": 2.2277705669403076
         },
         {
          "i": 1635,
          "loss": 2.224654197692871
         },
         {
          "i": 1636,
          "loss": 2.1929056644439697
         },
         {
          "i": 1637,
          "loss": 2.2181131839752197
         },
         {
          "i": 1638,
          "loss": 2.185762405395508
         },
         {
          "i": 1639,
          "loss": 2.2114901542663574
         },
         {
          "i": 1640,
          "loss": 2.1784753799438477
         },
         {
          "i": 1641,
          "loss": 2.204216957092285
         },
         {
          "i": 1642,
          "loss": 2.182412624359131
         },
         {
          "i": 1643,
          "loss": 2.2133285999298096
         },
         {
          "i": 1644,
          "loss": 2.184593915939331
         },
         {
          "i": 1645,
          "loss": 2.2201755046844482
         },
         {
          "i": 1646,
          "loss": 2.1948020458221436
         },
         {
          "i": 1647,
          "loss": 2.1942756175994873
         },
         {
          "i": 1648,
          "loss": 2.160849094390869
         },
         {
          "i": 1649,
          "loss": 2.188467025756836
         },
         {
          "i": 1650,
          "loss": 2.1546061038970947
         },
         {
          "i": 1651,
          "loss": 2.182950973510742
         },
         {
          "i": 1652,
          "loss": 2.148733377456665
         },
         {
          "i": 1653,
          "loss": 2.1777334213256836
         },
         {
          "i": 1654,
          "loss": 2.1432085037231445
         },
         {
          "i": 1655,
          "loss": 2.1729183197021484
         },
         {
          "i": 1656,
          "loss": 2.13826322555542
         },
         {
          "i": 1657,
          "loss": 2.1690547466278076
         },
         {
          "i": 1658,
          "loss": 2.1345717906951904
         },
         {
          "i": 1659,
          "loss": 2.166825294494629
         },
         {
          "i": 1660,
          "loss": 2.138301134109497
         },
         {
          "i": 1661,
          "loss": 2.170919895172119
         },
         {
          "i": 1662,
          "loss": 2.139793634414673
         },
         {
          "i": 1663,
          "loss": 2.17659068107605
         },
         {
          "i": 1664,
          "loss": 2.1480913162231445
         },
         {
          "i": 1665,
          "loss": 2.1502861976623535
         },
         {
          "i": 1666,
          "loss": 2.1138668060302734
         },
         {
          "i": 1667,
          "loss": 2.143467903137207
         },
         {
          "i": 1668,
          "loss": 2.118086576461792
         },
         {
          "i": 1669,
          "loss": 2.153470039367676
         },
         {
          "i": 1670,
          "loss": 2.1221261024475098
         },
         {
          "i": 1671,
          "loss": 2.1233386993408203
         },
         {
          "i": 1672,
          "loss": 2.1584672927856445
         },
         {
          "i": 1673,
          "loss": 2.1626334190368652
         },
         {
          "i": 1674,
          "loss": 2.1466362476348877
         },
         {
          "i": 1675,
          "loss": 2.144920587539673
         },
         {
          "i": 1676,
          "loss": 2.1110410690307617
         },
         {
          "i": 1677,
          "loss": 2.1055045127868652
         },
         {
          "i": 1678,
          "loss": 2.074507236480713
         },
         {
          "i": 1679,
          "loss": 2.088484525680542
         },
         {
          "i": 1680,
          "loss": 2.1715734004974365
         },
         {
          "i": 1681,
          "loss": 2.1322593688964844
         },
         {
          "i": 1682,
          "loss": 2.1010642051696777
         },
         {
          "i": 1683,
          "loss": 2.108751058578491
         },
         {
          "i": 1684,
          "loss": 2.069974899291992
         },
         {
          "i": 1685,
          "loss": 2.1056699752807617
         },
         {
          "i": 1686,
          "loss": 2.139322280883789
         },
         {
          "i": 1687,
          "loss": 2.162550449371338
         },
         {
          "i": 1688,
          "loss": 2.1548149585723877
         },
         {
          "i": 1689,
          "loss": 2.0480661392211914
         },
         {
          "i": 1690,
          "loss": 2.1006569862365723
         },
         {
          "i": 1691,
          "loss": 2.114412784576416
         },
         {
          "i": 1692,
          "loss": 2.0829765796661377
         },
         {
          "i": 1693,
          "loss": 2.0935020446777344
         },
         {
          "i": 1694,
          "loss": 2.0563371181488037
         },
         {
          "i": 1695,
          "loss": 2.0991454124450684
         },
         {
          "i": 1696,
          "loss": 2.065157890319824
         },
         {
          "i": 1697,
          "loss": 2.074415922164917
         },
         {
          "i": 1698,
          "loss": 2.1199257373809814
         },
         {
          "i": 1699,
          "loss": 2.0835461616516113
         },
         {
          "i": 1700,
          "loss": 2.0474276542663574
         },
         {
          "i": 1701,
          "loss": 2.050710916519165
         },
         {
          "i": 1702,
          "loss": 2.164094924926758
         },
         {
          "i": 1703,
          "loss": 2.0119998455047607
         },
         {
          "i": 1704,
          "loss": 2.0819172859191895
         },
         {
          "i": 1705,
          "loss": 2.128457546234131
         },
         {
          "i": 1706,
          "loss": 2.119946241378784
         },
         {
          "i": 1707,
          "loss": 2.020500898361206
         },
         {
          "i": 1708,
          "loss": 2.109232187271118
         },
         {
          "i": 1709,
          "loss": 2.0867981910705566
         },
         {
          "i": 1710,
          "loss": 2.0579307079315186
         },
         {
          "i": 1711,
          "loss": 2.063610076904297
         },
         {
          "i": 1712,
          "loss": 2.115163803100586
         },
         {
          "i": 1713,
          "loss": 2.0306262969970703
         },
         {
          "i": 1714,
          "loss": 2.1528334617614746
         },
         {
          "i": 1715,
          "loss": 1.9986238479614258
         },
         {
          "i": 1716,
          "loss": 2.095571517944336
         },
         {
          "i": 1717,
          "loss": 2.0951788425445557
         },
         {
          "i": 1718,
          "loss": 2.0822913646698
         },
         {
          "i": 1719,
          "loss": 1.9820151329040527
         },
         {
          "i": 1720,
          "loss": 2.0497241020202637
         },
         {
          "i": 1721,
          "loss": 2.0735902786254883
         },
         {
          "i": 1722,
          "loss": 2.0478129386901855
         },
         {
          "i": 1723,
          "loss": 2.0693793296813965
         },
         {
          "i": 1724,
          "loss": 2.0427567958831787
         },
         {
          "i": 1725,
          "loss": 2.060946464538574
         },
         {
          "i": 1726,
          "loss": 2.031900644302368
         },
         {
          "i": 1727,
          "loss": 2.0445611476898193
         },
         {
          "i": 1728,
          "loss": 2.0105581283569336
         },
         {
          "i": 1729,
          "loss": 2.008212089538574
         },
         {
          "i": 1730,
          "loss": 2.1305434703826904
         },
         {
          "i": 1731,
          "loss": 1.9776965379714966
         },
         {
          "i": 1732,
          "loss": 2.0922904014587402
         },
         {
          "i": 1733,
          "loss": 1.9455955028533936
         },
         {
          "i": 1734,
          "loss": 2.0274770259857178
         },
         {
          "i": 1735,
          "loss": 2.1089329719543457
         },
         {
          "i": 1736,
          "loss": 2.0934441089630127
         },
         {
          "i": 1737,
          "loss": 1.9438668489456177
         },
         {
          "i": 1738,
          "loss": 2.007314682006836
         },
         {
          "i": 1739,
          "loss": 2.036439895629883
         },
         {
          "i": 1740,
          "loss": 2.007464647293091
         },
         {
          "i": 1741,
          "loss": 1.968226671218872
         },
         {
          "i": 1742,
          "loss": 2.091714859008789
         },
         {
          "i": 1743,
          "loss": 1.9425691366195679
         },
         {
          "i": 1744,
          "loss": 2.0530319213867188
         },
         {
          "i": 1745,
          "loss": 1.910368800163269
         },
         {
          "i": 1746,
          "loss": 1.9777119159698486
         },
         {
          "i": 1747,
          "loss": 2.0430965423583984
         },
         {
          "i": 1748,
          "loss": 2.143263339996338
         },
         {
          "i": 1749,
          "loss": 1.9801139831542969
         },
         {
          "i": 1750,
          "loss": 1.9329876899719238
         },
         {
          "i": 1751,
          "loss": 1.9408330917358398
         },
         {
          "i": 1752,
          "loss": 2.0493454933166504
         },
         {
          "i": 1753,
          "loss": 1.9041857719421387
         },
         {
          "i": 1754,
          "loss": 1.9864811897277832
         },
         {
          "i": 1755,
          "loss": 1.981201171875
         },
         {
          "i": 1756,
          "loss": 2.170257091522217
         },
         {
          "i": 1757,
          "loss": 2.0073728561401367
         },
         {
          "i": 1758,
          "loss": 1.9765669107437134
         },
         {
          "i": 1759,
          "loss": 1.9490360021591187
         },
         {
          "i": 1760,
          "loss": 2.0801079273223877
         },
         {
          "i": 1761,
          "loss": 1.9306819438934326
         },
         {
          "i": 1762,
          "loss": 2.050187826156616
         },
         {
          "i": 1763,
          "loss": 1.9042601585388184
         },
         {
          "i": 1764,
          "loss": 2.0204155445098877
         },
         {
          "i": 1765,
          "loss": 1.878847360610962
         },
         {
          "i": 1766,
          "loss": 1.9794176816940308
         },
         {
          "i": 1767,
          "loss": 1.9027035236358643
         },
         {
          "i": 1768,
          "loss": 2.0260207653045654
         },
         {
          "i": 1769,
          "loss": 1.883599042892456
         },
         {
          "i": 1770,
          "loss": 1.994118094444275
         },
         {
          "i": 1771,
          "loss": 1.8563933372497559
         },
         {
          "i": 1772,
          "loss": 1.9236137866973877
         },
         {
          "i": 1773,
          "loss": 2.0142884254455566
         },
         {
          "i": 1774,
          "loss": 2.1368870735168457
         },
         {
          "i": 1775,
          "loss": 1.9650813341140747
         },
         {
          "i": 1776,
          "loss": 1.9232538938522339
         },
         {
          "i": 1777,
          "loss": 1.8685836791992188
         },
         {
          "i": 1778,
          "loss": 1.960147738456726
         },
         {
          "i": 1779,
          "loss": 1.8263736963272095
         },
         {
          "i": 1780,
          "loss": 1.8556735515594482
         },
         {
          "i": 1781,
          "loss": 1.8325425386428833
         },
         {
          "i": 1782,
          "loss": 1.8896106481552124
         },
         {
          "i": 1783,
          "loss": 1.9549059867858887
         },
         {
          "i": 1784,
          "loss": 2.1967670917510986
         },
         {
          "i": 1785,
          "loss": 1.816748023033142
         },
         {
          "i": 1786,
          "loss": 1.8494306802749634
         },
         {
          "i": 1787,
          "loss": 1.822892665863037
         },
         {
          "i": 1788,
          "loss": 1.8903717994689941
         },
         {
          "i": 1789,
          "loss": 1.9837394952774048
         },
         {
          "i": 1790,
          "loss": 2.266864061355591
         },
         {
          "i": 1791,
          "loss": 1.8340606689453125
         },
         {
          "i": 1792,
          "loss": 1.9069092273712158
         },
         {
          "i": 1793,
          "loss": 1.822160005569458
         },
         {
          "i": 1794,
          "loss": 1.9135431051254272
         },
         {
          "i": 1795,
          "loss": 1.841422438621521
         },
         {
          "i": 1796,
          "loss": 1.966243028640747
         },
         {
          "i": 1797,
          "loss": 1.830245852470398
         },
         {
          "i": 1798,
          "loss": 1.9504963159561157
         },
         {
          "i": 1799,
          "loss": 1.8149102926254272
         },
         {
          "i": 1800,
          "loss": 1.9196350574493408
         },
         {
          "i": 1801,
          "loss": 1.789505124092102
         },
         {
          "i": 1802,
          "loss": 1.840275526046753
         },
         {
          "i": 1803,
          "loss": 1.9045518636703491
         },
         {
          "i": 1804,
          "loss": 2.1347033977508545
         },
         {
          "i": 1805,
          "loss": 1.7706022262573242
         },
         {
          "i": 1806,
          "loss": 1.791996955871582
         },
         {
          "i": 1807,
          "loss": 1.787692904472351
         },
         {
          "i": 1808,
          "loss": 1.8560655117034912
         },
         {
          "i": 1809,
          "loss": 1.9762393236160278
         },
         {
          "i": 1810,
          "loss": 2.106391668319702
         },
         {
          "i": 1811,
          "loss": 1.7634505033493042
         },
         {
          "i": 1812,
          "loss": 1.7556617259979248
         },
         {
          "i": 1813,
          "loss": 1.769046664237976
         },
         {
          "i": 1814,
          "loss": 1.8239659070968628
         },
         {
          "i": 1815,
          "loss": 1.875748872756958
         },
         {
          "i": 1816,
          "loss": 2.1018171310424805
         },
         {
          "i": 1817,
          "loss": 1.7446719408035278
         },
         {
          "i": 1818,
          "loss": 1.7645149230957031
         },
         {
          "i": 1819,
          "loss": 1.7600739002227783
         },
         {
          "i": 1820,
          "loss": 1.829127550125122
         },
         {
          "i": 1821,
          "loss": 1.941359281539917
         },
         {
          "i": 1822,
          "loss": 2.246487617492676
         },
         {
          "i": 1823,
          "loss": 1.7998117208480835
         },
         {
          "i": 1824,
          "loss": 1.9003806114196777
         },
         {
          "i": 1825,
          "loss": 1.7667105197906494
         },
         {
          "i": 1826,
          "loss": 1.854311227798462
         },
         {
          "i": 1827,
          "loss": 1.729476809501648
         },
         {
          "i": 1828,
          "loss": 1.7593754529953003
         },
         {
          "i": 1829,
          "loss": 1.7544025182724
         },
         {
          "i": 1830,
          "loss": 1.8397793769836426
         },
         {
          "i": 1831,
          "loss": 1.7840803861618042
         },
         {
          "i": 1832,
          "loss": 1.9285775423049927
         },
         {
          "i": 1833,
          "loss": 1.8025059700012207
         },
         {
          "i": 1834,
          "loss": 1.961417555809021
         },
         {
          "i": 1835,
          "loss": 1.8407483100891113
         },
         {
          "i": 1836,
          "loss": 2.0594284534454346
         },
         {
          "i": 1837,
          "loss": 1.706862211227417
         },
         {
          "i": 1838,
          "loss": 1.727078914642334
         },
         {
          "i": 1839,
          "loss": 1.7321465015411377
         },
         {
          "i": 1840,
          "loss": 1.8132257461547852
         },
         {
          "i": 1841,
          "loss": 1.7557770013809204
         },
         {
          "i": 1842,
          "loss": 1.8682174682617188
         },
         {
          "i": 1843,
          "loss": 1.7449934482574463
         },
         {
          "i": 1844,
          "loss": 1.8562315702438354
         },
         {
          "i": 1845,
          "loss": 1.7338149547576904
         },
         {
          "i": 1846,
          "loss": 1.8234193325042725
         },
         {
          "i": 1847,
          "loss": 1.7039804458618164
         },
         {
          "i": 1848,
          "loss": 1.76597261428833
         },
         {
          "i": 1849,
          "loss": 1.882365107536316
         },
         {
          "i": 1850,
          "loss": 2.2050938606262207
         },
         {
          "i": 1851,
          "loss": 1.8086389303207397
         },
         {
          "i": 1852,
          "loss": 1.7335532903671265
         },
         {
          "i": 1853,
          "loss": 1.7510615587234497
         },
         {
          "i": 1854,
          "loss": 1.8621010780334473
         },
         {
          "i": 1855,
          "loss": 1.7336140871047974
         },
         {
          "i": 1856,
          "loss": 1.8460196256637573
         },
         {
          "i": 1857,
          "loss": 1.7193838357925415
         },
         {
          "i": 1858,
          "loss": 1.8334449529647827
         },
         {
          "i": 1859,
          "loss": 1.7100632190704346
         },
         {
          "i": 1860,
          "loss": 1.8085092306137085
         },
         {
          "i": 1861,
          "loss": 1.6886045932769775
         },
         {
          "i": 1862,
          "loss": 1.7610713243484497
         },
         {
          "i": 1863,
          "loss": 1.7923862934112549
         },
         {
          "i": 1864,
          "loss": 2.0203516483306885
         },
         {
          "i": 1865,
          "loss": 1.6647740602493286
         },
         {
          "i": 1866,
          "loss": 1.686936378479004
         },
         {
          "i": 1867,
          "loss": 1.6778078079223633
         },
         {
          "i": 1868,
          "loss": 1.7527060508728027
         },
         {
          "i": 1869,
          "loss": 1.6984374523162842
         },
         {
          "i": 1870,
          "loss": 1.7854043245315552
         },
         {
          "i": 1871,
          "loss": 1.6719666719436646
         },
         {
          "i": 1872,
          "loss": 1.7526341676712036
         },
         {
          "i": 1873,
          "loss": 1.7047979831695557
         },
         {
          "i": 1874,
          "loss": 1.8091442584991455
         },
         {
          "i": 1875,
          "loss": 1.6968469619750977
         },
         {
          "i": 1876,
          "loss": 1.792091727256775
         },
         {
          "i": 1877,
          "loss": 1.6790223121643066
         },
         {
          "i": 1878,
          "loss": 1.773352861404419
         },
         {
          "i": 1879,
          "loss": 1.6607104539871216
         },
         {
          "i": 1880,
          "loss": 1.7431178092956543
         },
         {
          "i": 1881,
          "loss": 1.6331431865692139
         },
         {
          "i": 1882,
          "loss": 1.6828640699386597
         },
         {
          "i": 1883,
          "loss": 1.776395559310913
         },
         {
          "i": 1884,
          "loss": 2.0513432025909424
         },
         {
          "i": 1885,
          "loss": 1.6582835912704468
         },
         {
          "i": 1886,
          "loss": 1.7445340156555176
         },
         {
          "i": 1887,
          "loss": 1.6301074028015137
         },
         {
          "i": 1888,
          "loss": 1.6791688203811646
         },
         {
          "i": 1889,
          "loss": 1.762842059135437
         },
         {
          "i": 1890,
          "loss": 2.014202117919922
         },
         {
          "i": 1891,
          "loss": 1.6372674703598022
         },
         {
          "i": 1892,
          "loss": 1.687688946723938
         },
         {
          "i": 1893,
          "loss": 1.6916794776916504
         },
         {
          "i": 1894,
          "loss": 1.8597644567489624
         },
         {
          "i": 1895,
          "loss": 1.7752389907836914
         },
         {
          "i": 1896,
          "loss": 2.0417065620422363
         },
         {
          "i": 1897,
          "loss": 1.6485891342163086
         },
         {
          "i": 1898,
          "loss": 1.7528082132339478
         },
         {
          "i": 1899,
          "loss": 1.6376137733459473
         },
         {
          "i": 1900,
          "loss": 1.7127882242202759
         },
         {
          "i": 1901,
          "loss": 1.60300612449646
         },
         {
          "i": 1902,
          "loss": 1.6502569913864136
         },
         {
          "i": 1903,
          "loss": 1.7372015714645386
         },
         {
          "i": 1904,
          "loss": 1.9874309301376343
         },
         {
          "i": 1905,
          "loss": 1.6138732433319092
         },
         {
          "i": 1906,
          "loss": 1.658990740776062
         },
         {
          "i": 1907,
          "loss": 1.6569044589996338
         },
         {
          "i": 1908,
          "loss": 1.797236680984497
         },
         {
          "i": 1909,
          "loss": 1.6976927518844604
         },
         {
          "i": 1910,
          "loss": 1.9029896259307861
         },
         {
          "i": 1911,
          "loss": 1.5768089294433594
         },
         {
          "i": 1912,
          "loss": 1.5955445766448975
         },
         {
          "i": 1913,
          "loss": 1.5938421487808228
         },
         {
          "i": 1914,
          "loss": 1.6669960021972656
         },
         {
          "i": 1915,
          "loss": 1.6270031929016113
         },
         {
          "i": 1916,
          "loss": 1.7302193641662598
         },
         {
          "i": 1917,
          "loss": 1.6305170059204102
         },
         {
          "i": 1918,
          "loss": 1.7323096990585327
         },
         {
          "i": 1919,
          "loss": 1.632086992263794
         },
         {
          "i": 1920,
          "loss": 1.737766146659851
         },
         {
          "i": 1921,
          "loss": 1.6383073329925537
         },
         {
          "i": 1922,
          "loss": 1.7534759044647217
         },
         {
          "i": 1923,
          "loss": 1.6354936361312866
         },
         {
          "i": 1924,
          "loss": 1.7511470317840576
         },
         {
          "i": 1925,
          "loss": 1.6343361139297485
         },
         {
          "i": 1926,
          "loss": 1.752180576324463
         },
         {
          "i": 1927,
          "loss": 1.6384159326553345
         },
         {
          "i": 1928,
          "loss": 1.7643516063690186
         },
         {
          "i": 1929,
          "loss": 1.6619486808776855
         },
         {
          "i": 1930,
          "loss": 1.873449444770813
         },
         {
          "i": 1931,
          "loss": 1.5453855991363525
         },
         {
          "i": 1932,
          "loss": 1.5671366453170776
         },
         {
          "i": 1933,
          "loss": 1.5912784337997437
         },
         {
          "i": 1934,
          "loss": 1.6926671266555786
         },
         {
          "i": 1935,
          "loss": 1.5959086418151855
         },
         {
          "i": 1936,
          "loss": 1.6903800964355469
         },
         {
          "i": 1937,
          "loss": 1.594118356704712
         },
         {
          "i": 1938,
          "loss": 1.6898176670074463
         },
         {
          "i": 1939,
          "loss": 1.5942208766937256
         },
         {
          "i": 1940,
          "loss": 1.6933461427688599
         },
         {
          "i": 1941,
          "loss": 1.598982334136963
         },
         {
          "i": 1942,
          "loss": 1.7069696187973022
         },
         {
          "i": 1943,
          "loss": 1.5899896621704102
         },
         {
          "i": 1944,
          "loss": 1.6922056674957275
         },
         {
          "i": 1945,
          "loss": 1.5996595621109009
         },
         {
          "i": 1946,
          "loss": 1.7157613039016724
         },
         {
          "i": 1947,
          "loss": 1.609359622001648
         },
         {
          "i": 1948,
          "loss": 1.740912914276123
         },
         {
          "i": 1949,
          "loss": 1.657088279724121
         },
         {
          "i": 1950,
          "loss": 1.8978309631347656
         },
         {
          "i": 1951,
          "loss": 1.5439200401306152
         },
         {
          "i": 1952,
          "loss": 1.6015549898147583
         },
         {
          "i": 1953,
          "loss": 1.5038946866989136
         },
         {
          "i": 1954,
          "loss": 1.519881248474121
         },
         {
          "i": 1955,
          "loss": 1.5415644645690918
         },
         {
          "i": 1956,
          "loss": 1.6362168788909912
         },
         {
          "i": 1957,
          "loss": 1.5413779020309448
         },
         {
          "i": 1958,
          "loss": 1.6245416402816772
         },
         {
          "i": 1959,
          "loss": 1.5307297706604004
         },
         {
          "i": 1960,
          "loss": 1.6094458103179932
         },
         {
          "i": 1961,
          "loss": 1.5164437294006348
         },
         {
          "i": 1962,
          "loss": 1.5870169401168823
         },
         {
          "i": 1963,
          "loss": 1.561435580253601
         },
         {
          "i": 1964,
          "loss": 1.679094672203064
         },
         {
          "i": 1965,
          "loss": 1.5655895471572876
         },
         {
          "i": 1966,
          "loss": 1.6709121465682983
         },
         {
          "i": 1967,
          "loss": 1.5602079629898071
         },
         {
          "i": 1968,
          "loss": 1.6661304235458374
         },
         {
          "i": 1969,
          "loss": 1.5587421655654907
         },
         {
          "i": 1970,
          "loss": 1.6687642335891724
         },
         {
          "i": 1971,
          "loss": 1.56818425655365
         },
         {
          "i": 1972,
          "loss": 1.6949076652526855
         },
         {
          "i": 1973,
          "loss": 1.6182985305786133
         },
         {
          "i": 1974,
          "loss": 1.8258317708969116
         },
         {
          "i": 1975,
          "loss": 1.4946377277374268
         },
         {
          "i": 1976,
          "loss": 1.5379666090011597
         },
         {
          "i": 1977,
          "loss": 1.554876685142517
         },
         {
          "i": 1978,
          "loss": 1.6704636812210083
         },
         {
          "i": 1979,
          "loss": 1.5781025886535645
         },
         {
          "i": 1980,
          "loss": 1.7305494546890259
         },
         {
          "i": 1981,
          "loss": 1.7026463747024536
         },
         {
          "i": 1982,
          "loss": 2.0518763065338135
         },
         {
          "i": 1983,
          "loss": 1.5041260719299316
         },
         {
          "i": 1984,
          "loss": 1.5292338132858276
         },
         {
          "i": 1985,
          "loss": 1.4701875448226929
         },
         {
          "i": 1986,
          "loss": 1.492409348487854
         },
         {
          "i": 1987,
          "loss": 1.5399855375289917
         },
         {
          "i": 1988,
          "loss": 1.6578726768493652
         },
         {
          "i": 1989,
          "loss": 1.574373722076416
         },
         {
          "i": 1990,
          "loss": 1.7367162704467773
         },
         {
          "i": 1991,
          "loss": 1.446471095085144
         },
         {
          "i": 1992,
          "loss": 1.4502679109573364
         },
         {
          "i": 1993,
          "loss": 1.4944044351577759
         },
         {
          "i": 1994,
          "loss": 1.5965560674667358
         },
         {
          "i": 1995,
          "loss": 1.5139045715332031
         },
         {
          "i": 1996,
          "loss": 1.6075059175491333
         },
         {
          "i": 1997,
          "loss": 1.4964032173156738
         },
         {
          "i": 1998,
          "loss": 1.5942909717559814
         },
         {
          "i": 1999,
          "loss": 1.4833601713180542
         }
        ]
       },
       "encoding": {
        "x": {
         "field": "i",
         "type": "quantitative"
        },
        "y": {
         "field": "loss",
         "type": "quantitative"
        }
       },
       "height": 100,
       "mark": "line"
      },
      "image/png": "[encoded data removed]",
      "text/plain": [
       "<VegaLite 3 object>\n",
       "\n",
       "If you see this message, it means the renderer has not been properly enabled\n",
       "for the frontend that you are using. For more information, see\n",
       "https://altair-viz.github.io/user_guide/troubleshooting.html\n"
      ]
     },
     "execution_count": 65,
     "metadata": {},
     "output_type": "execute_result"
    }
   ],
   "source": [
    "loss_df = pd.DataFrame({'i':range(n_steps), 'loss':loss_record})\n",
    "alt.Chart(loss_df, height=100).mark_line().encode(x='i', y='loss')"
   ]
  },
  {
   "cell_type": "code",
   "execution_count": 66,
   "metadata": {},
   "outputs": [
    {
     "data": {
      "application/vnd.vegalite.v3+json": {
       "$schema": "https://vega.github.io/schema/vega-lite/v3.4.0.json",
       "config": {
        "mark": {
         "tooltip": null
        },
        "view": {
         "height": 300,
         "width": 400
        }
       },
       "data": {
        "name": "data-b8763c92836f9fdb2c981d88b192e8f9"
       },
       "datasets": {
        "data-b8763c92836f9fdb2c981d88b192e8f9": [
         {
          "x1": -0.20185190439224243,
          "y": -0.7307215929031372,
          "ŷ": -0.5470066666603088
         },
         {
          "x1": 0.8807306289672852,
          "y": 0.31101566553115845,
          "ŷ": 0.19443456828594208
         },
         {
          "x1": -1.3197976350784302,
          "y": -1.4552876949310303,
          "ŷ": -0.7374059557914734
         },
         {
          "x1": -0.22431010007858276,
          "y": -0.7928946614265442,
          "ŷ": -0.7370162606239319
         },
         {
          "x1": -0.6123457551002502,
          "y": -0.8678494691848755,
          "ŷ": -1.2479573488235474
         },
         {
          "x1": 0.6508437395095825,
          "y": 0.7883023023605347,
          "ŷ": 0.7943796515464783
         },
         {
          "x1": 0.46952733397483826,
          "y": 1.0566598176956177,
          "ŷ": 1.1507142782211304
         },
         {
          "x1": -0.019108060747385025,
          "y": -0.07636482268571854,
          "ŷ": -0.17141874134540558
         },
         {
          "x1": 0.6522709727287292,
          "y": 0.7852098941802979,
          "ŷ": 0.7915739417076111
         },
         {
          "x1": -0.12496938556432724,
          "y": -0.4812697768211365,
          "ŷ": -0.15127475559711456
         },
         {
          "x1": -1.3778188228607178,
          "y": -1.9181249141693115,
          "ŷ": -0.702777087688446
         },
         {
          "x1": -2.1001973152160645,
          "y": -10.117799758911133,
          "ŷ": -8.080697059631348
         },
         {
          "x1": -0.5464093685150146,
          "y": -0.9800028204917908,
          "ŷ": -1.3162709474563599
         },
         {
          "x1": -0.004058339633047581,
          "y": -0.01623271219432354,
          "ŷ": -0.2339063435792923
         },
         {
          "x1": 0.4128830134868622,
          "y": 1.0671278238296509,
          "ŷ": 1.0839580297470093
         },
         {
          "x1": -0.90806645154953,
          "y": -0.27755796909332275,
          "ŷ": -0.9831538796424866
         },
         {
          "x1": -0.5367798209190369,
          "y": -0.9931358695030212,
          "ŷ": -1.3285843133926392
         },
         {
          "x1": -0.10255300998687744,
          "y": -0.39988234639167786,
          "ŷ": -0.07421024143695831
         },
         {
          "x1": 0.6804536581039429,
          "y": 0.7226195335388184,
          "ŷ": 0.618224561214447
         },
         {
          "x1": 0.17415544390678406,
          "y": 0.6469123959541321,
          "ŷ": 0.5720714926719666
         },
         {
          "x1": 2.444481134414673,
          "y": 14.261116027832031,
          "ŷ": 13.348986625671387
         },
         {
          "x1": 0.06737025827169418,
          "y": 0.26653701066970825,
          "ŷ": 0.39766305685043335
         },
         {
          "x1": -0.5461364388465881,
          "y": -0.9803876876831055,
          "ŷ": -1.3166195154190063
         },
         {
          "x1": 0.2858559489250183,
          "y": 0.9334162473678589,
          "ŷ": 0.8407430052757263
         },
         {
          "x1": 0.24696673452854156,
          "y": 0.8499168157577515,
          "ŷ": 0.7553057074546814
         },
         {
          "x1": -0.13957275450229645,
          "y": -0.5324563980102539,
          "ŷ": -0.21852977573871613
         },
         {
          "x1": 1.0155616998672485,
          "y": 0.25141751766204834,
          "ŷ": 0.35026973485946655
         },
         {
          "x1": 1.9675378799438477,
          "y": 8.616612434387207,
          "ŷ": 8.714991569519043
         },
         {
          "x1": -0.2549932301044464,
          "y": -0.8686739206314087,
          "ŷ": -0.9262400269508362
         },
         {
          "x1": -0.17540685832500458,
          "y": -0.6508584022521973,
          "ŷ": -0.39243465662002563
         },
         {
          "x1": -1.145980715751648,
          "y": -0.5132245421409607,
          "ŷ": -0.8411536812782288
         },
         {
          "x1": -0.43582212924957275,
          "y": -1.0679404735565186,
          "ŷ": -1.316015362739563
         },
         {
          "x1": -0.42029327154159546,
          "y": -1.0681579113006592,
          "ŷ": -1.2698918581008911
         },
         {
          "x1": 0.732116162776947,
          "y": 0.6039280891418457,
          "ŷ": 0.4037861227989197
         },
         {
          "x1": -1.343305230140686,
          "y": -1.6344707012176514,
          "ŷ": -0.7233769297599792
         },
         {
          "x1": 1.1487985849380493,
          "y": 0.5229727029800415,
          "ŷ": 0.7649721503257751
         },
         {
          "x1": -1.3885846138000488,
          "y": -2.011413335800171,
          "ŷ": -0.6963505148887634
         },
         {
          "x1": 0.9795128107070923,
          "y": 0.2390316128730774,
          "ŷ": 0.2842373251914978
         },
         {
          "x1": -0.6744974255561829,
          "y": -0.736056923866272,
          "ŷ": -1.2257791757583618
         },
         {
          "x1": 0.7154965996742249,
          "y": 0.642265260219574,
          "ŷ": 0.4266151785850525
         },
         {
          "x1": -1.4774484634399414,
          "y": -2.860279083251953,
          "ŷ": -1.3342622518539429
         },
         {
          "x1": -1.7869163751602173,
          "y": -6.466507434844971,
          "ŷ": -6.040153980255127
         },
         {
          "x1": -0.2155131995677948,
          "y": -0.7691900134086609,
          "ŷ": -0.6765781044960022
         },
         {
          "x1": -0.32499897480010986,
          "y": -0.9978848695755005,
          "ŷ": -1.3779655694961548
         },
         {
          "x1": 0.5613775849342346,
          "y": 0.9578008651733398,
          "ŷ": 0.9702038168907166
         },
         {
          "x1": -2.1318345069885254,
          "y": -10.470319747924805,
          "ŷ": -8.080697059631348
         },
         {
          "x1": 0.01711215451359749,
          "y": 0.06840019673109055,
          "ŷ": -0.23832710087299347
         },
         {
          "x1": -1.221574306488037,
          "y": -0.8379705548286438,
          "ŷ": -0.7960336804389954
         },
         {
          "x1": -1.6139318943023682,
          "y": -4.375618934631348,
          "ŷ": -2.8926291465759277
         },
         {
          "x1": -2.6253557205200195,
          "y": -17.214874267578125,
          "ŷ": -8.080697059631348
         },
         {
          "x1": 0.46883171796798706,
          "y": 1.0570385456085205,
          "ŷ": 1.1520808935165405
         },
         {
          "x1": 0.7932972311973572,
          "y": 0.4676471948623657,
          "ŷ": 0.31760066747665405
         },
         {
          "x1": -0.43435245752334595,
          "y": -1.0680978298187256,
          "ŷ": -1.31397545337677
         },
         {
          "x1": 1.0733273029327393,
          "y": 0.32304316759109497,
          "ŷ": 0.45609134435653687
         },
         {
          "x1": 0.13748900592327118,
          "y": 0.5252487659454346,
          "ŷ": 0.5544275641441345
         },
         {
          "x1": -0.5449739694595337,
          "y": -0.9820189476013184,
          "ŷ": -1.3181065320968628
         },
         {
          "x1": -2.377779722213745,
          "y": -13.357342720031738,
          "ŷ": -8.080697059631348
         },
         {
          "x1": 0.6591272950172424,
          "y": 0.7702375650405884,
          "ŷ": 0.773000180721283
         },
         {
          "x1": 1.2143046855926514,
          "y": 0.8010053038597107,
          "ŷ": 1.396558165550232
         },
         {
          "x1": 0.02226066216826439,
          "y": 0.08893606811761856,
          "ŷ": -0.15059812366962433
         },
         {
          "x1": 0.8447573781013489,
          "y": 0.3676193654537201,
          "ŷ": 0.2451118677854538
         },
         {
          "x1": 0.4044327735900879,
          "y": 1.0650501251220703,
          "ŷ": 1.0677803754806519
         },
         {
          "x1": -2.2081570625305176,
          "y": -11.32502555847168,
          "ŷ": -8.080697059631348
         },
         {
          "x1": -1.1317697763442993,
          "y": -0.46680790185928345,
          "ŷ": -0.8496327996253967
         },
         {
          "x1": -0.011817606166005135,
          "y": -0.047254472970962524,
          "ŷ": -0.18961580097675323
         },
         {
          "x1": -0.2545228600502014,
          "y": -0.8675960898399353,
          "ŷ": -0.9235425591468811
         },
         {
          "x1": 1.19022798538208,
          "y": 0.6873047947883606,
          "ŷ": 1.1635230779647827
         },
         {
          "x1": -0.4100184142589569,
          "y": -1.0665315389633179,
          "ŷ": -1.272816777229309
         },
         {
          "x1": 0.016914743930101395,
          "y": 0.06761220842599869,
          "ŷ": -0.24169309437274933
         },
         {
          "x1": -0.16213805973529816,
          "y": -0.6082956194877625,
          "ŷ": -0.3224545121192932
         },
         {
          "x1": -0.5737457275390625,
          "y": -0.9379066228866577,
          "ŷ": -1.2813130617141724
         },
         {
          "x1": 0.10142895579338074,
          "y": 0.39572006464004517,
          "ŷ": 0.5148925185203552
         },
         {
          "x1": 1.9067378044128418,
          "y": 7.90656852722168,
          "ŷ": 8.124258041381836
         },
         {
          "x1": 1.0941091775894165,
          "y": 0.36563384532928467,
          "ŷ": 0.49415916204452515
         },
         {
          "x1": -1.575088381767273,
          "y": -3.924809455871582,
          "ŷ": -2.449117422103882
         },
         {
          "x1": 1.1256250143051147,
          "y": 0.4481484889984131,
          "ŷ": 0.5518898367881775
         },
         {
          "x1": 0.21849161386489868,
          "y": 0.7773110270500183,
          "ŷ": 0.5102147459983826
         },
         {
          "x1": -1.1541502475738525,
          "y": -0.5419847369194031,
          "ŷ": -0.836276113986969
         },
         {
          "x1": 0.3756222128868103,
          "y": 1.050665259361267,
          "ŷ": 1.0126169919967651
         },
         {
          "x1": -1.7031896114349365,
          "y": -5.445870876312256,
          "ŷ": -4.284377574920654
         },
         {
          "x1": -1.0293965339660645,
          "y": -0.26254844665527344,
          "ŷ": -0.9107373356819153
         },
         {
          "x1": -0.06400348246097565,
          "y": -0.2534886300563812,
          "ŷ": -0.10532625019550323
         },
         {
          "x1": 0.3871513903141022,
          "y": 1.0577824115753174,
          "ŷ": 1.0346916913986206
         },
         {
          "x1": -0.12772847712039948,
          "y": -0.49105849862098694,
          "ŷ": -0.16398103535175323
         },
         {
          "x1": 0.4303341209888458,
          "y": 1.068382740020752,
          "ŷ": 1.1173714399337769
         },
         {
          "x1": 0.13789714872837067,
          "y": 0.526663064956665,
          "ŷ": 0.5548743605613708
         },
         {
          "x1": -0.11050447076559067,
          "y": -0.4291136562824249,
          "ŷ": -0.08465631306171417
         },
         {
          "x1": -1.8772343397140503,
          "y": -7.556450843811035,
          "ŷ": -8.080697059631348
         },
         {
          "x1": -1.0383789539337158,
          "y": -0.2717590928077698,
          "ŷ": -0.9053767323493958
         },
         {
          "x1": -0.5213568210601807,
          "y": -1.012186050415039,
          "ŷ": -1.3497883081436157
         },
         {
          "x1": -0.9932206869125366,
          "y": -0.24099820852279663,
          "ŷ": -0.9323294758796692
         },
         {
          "x1": -1.7001540660858154,
          "y": -5.408985137939453,
          "ŷ": -4.220726490020752
         },
         {
          "x1": -1.4761942625045776,
          "y": -2.8474061489105225,
          "ŷ": -1.3199372291564941
         },
         {
          "x1": 2.2630691528320312,
          "y": 11.954214096069336,
          "ŷ": 11.586381912231445
         },
         {
          "x1": -1.0403045415878296,
          "y": -0.2739405035972595,
          "ŷ": -0.9042261242866516
         },
         {
          "x1": 0.8311509490013123,
          "y": 0.39217767119407654,
          "ŷ": 0.2642778754234314
         },
         {
          "x1": 1.119686245918274,
          "y": 0.4309183955192566,
          "ŷ": 0.5410122275352478
         },
         {
          "x1": -1.9286953210830688,
          "y": -8.164813995361328,
          "ŷ": -8.080697059631348
         },
         {
          "x1": -1.393598198890686,
          "y": -2.0556116104125977,
          "ŷ": -0.6933584809303284
         },
         {
          "x1": 0.7535904049873352,
          "y": 0.5548509359359741,
          "ŷ": 0.37353700399398804
         }
        ]
       },
       "layer": [
        {
         "encoding": {
          "x": {
           "field": "x1",
           "type": "quantitative"
          },
          "y": {
           "field": "ŷ",
           "type": "quantitative"
          }
         },
         "mark": "line"
        },
        {
         "encoding": {
          "x": {
           "field": "x1",
           "type": "quantitative"
          },
          "y": {
           "field": "y",
           "type": "quantitative"
          }
         },
         "mark": "point"
        }
       ]
      },
      "image/png": "[encoded data removed]",
      "text/plain": [
       "<VegaLite 3 object>\n",
       "\n",
       "If you see this message, it means the renderer has not been properly enabled\n",
       "for the frontend that you are using. For more information, see\n",
       "https://altair-viz.github.io/user_guide/troubleshooting.html\n"
      ]
     },
     "execution_count": 66,
     "metadata": {},
     "output_type": "execute_result"
    }
   ],
   "source": [
    "preds = pd.DataFrame({'ŷ':my_model(x).detach().numpy()[:,0], 'y':y[:,0], 'x1':x[:,0]})\n",
    "(alt.Chart(preds).mark_line().encode(x='x1', y='ŷ') + \n",
    "alt.Chart(preds).mark_point().encode(x='x1', y='y'))"
   ]
  },
  {
   "cell_type": "code",
   "execution_count": null,
   "metadata": {},
   "outputs": [],
   "source": []
  }
 ],
 "metadata": {
  "kernelspec": {
   "display_name": "Python 3",
   "language": "python",
   "name": "python3"
  },
  "language_info": {
   "codemirror_mode": {
    "name": "ipython",
    "version": 3
   },
   "file_extension": ".py",
   "mimetype": "text/x-python",
   "name": "python",
   "nbconvert_exporter": "python",
   "pygments_lexer": "ipython3",
   "version": "3.7.6"
  }
 },
 "nbformat": 4,
 "nbformat_minor": 4
}
