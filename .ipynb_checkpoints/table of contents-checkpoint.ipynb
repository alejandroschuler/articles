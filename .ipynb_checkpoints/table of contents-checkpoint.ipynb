{
 "cells": [
  {
   "cell_type": "markdown",
   "metadata": {},
   "source": [
    "# TOC\n",
    "1. intro\n",
    "    - different kinds of questions\n",
    "    - examples of supervised learning problems\n",
    "2. probability theory (data factories)\n",
    "    - ...\n",
    "    - parameters of the distribution are \"knobs\" of the factory\n",
    "3. fitting models\n",
    "    - general strategy: pick a space to search in, pick a way to judge, and find a way to search\n",
    "        - \"generative\" models\n",
    "        - \"conditional\" models\n",
    "    - details of actually fitting the model- gradient descent and friends\n",
    "    - p > n is not a problem (multiple models in a class may be equally good)\n",
    "        - lookforward to why this is a problem in inference\n",
    "    - regression and classification approaches? different losses?\n",
    "    - nonparametric models (trees)\n",
    "4. evaluating models\n",
    "    - generalization error\n",
    "    - bias/variance tradeoff\n",
    "    - why using a test set (or cv) solves the problem\n",
    "        - data leaks are bad\n",
    "        - assumes no covariate shift\n",
    "            - Mistake in Anand's paper\n",
    "            - natural drift\n",
    "            - drift caused by application of the model!\n",
    "    - picking between models: use a validation set or CV\n",
    "        - seeing it as a search over searches\n",
    "        - model selection bias and why it happens (tuning on test set = leak)\n",
    "        - preprocessing/filtering leaks\n",
    "5. good ideas in supervised learning\n",
    "    - regularization (how does this relate to bias/var)\n",
    "    - ensembles (how does this relate to bias/var)\n",
    "    - stacking -> (as intro to...)\n",
    "    - representation (deep) learning\n",
    "6. Beyond supervised learning\n",
    "    - causal inference\n",
    "        - QB example, or Berkeley admissions example\n",
    "    - \"interpreting\" models is usually a waste of time\n",
    "    - looking for patterns with unsupervised learning is usually a waste of time\n",
    "    "
   ]
  },
  {
   "cell_type": "code",
   "execution_count": null,
   "metadata": {},
   "outputs": [],
   "source": []
  }
 ],
 "metadata": {
  "kernelspec": {
   "display_name": "Python 3",
   "language": "python",
   "name": "python3"
  },
  "language_info": {
   "codemirror_mode": {
    "name": "ipython",
    "version": 3
   },
   "file_extension": ".py",
   "mimetype": "text/x-python",
   "name": "python",
   "nbconvert_exporter": "python",
   "pygments_lexer": "ipython3",
   "version": "3.7.3"
  }
 },
 "nbformat": 4,
 "nbformat_minor": 4
}
