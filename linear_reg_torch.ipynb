{
 "cells": [
  {
   "cell_type": "markdown",
   "metadata": {},
   "source": [
    "# From Linear Regression to Deep Learning in Pytorch"
   ]
  },
  {
   "cell_type": "markdown",
   "metadata": {},
   "source": [
    "---\n",
    "---"
   ]
  },
  {
   "cell_type": "markdown",
   "metadata": {},
   "source": [
    "# Linear Regression"
   ]
  },
  {
   "cell_type": "markdown",
   "metadata": {},
   "source": [
    "Let's implement a simple linear regression using torch"
   ]
  },
  {
   "cell_type": "code",
   "execution_count": 73,
   "metadata": {},
   "outputs": [],
   "source": [
    "import torch"
   ]
  },
  {
   "cell_type": "markdown",
   "metadata": {},
   "source": [
    "To start with, we'll create some random data and store it as torch tensors. "
   ]
  },
  {
   "cell_type": "code",
   "execution_count": 74,
   "metadata": {},
   "outputs": [],
   "source": [
    "n = 100\n",
    "p = 5\n",
    "x = torch.randn(n, p) # predictors (100 observations, 5 features)\n",
    "y = torch.randn(n, 1) # outcomes (100 observations)"
   ]
  },
  {
   "cell_type": "markdown",
   "metadata": {},
   "source": [
    "We're looking for coefficients $\\beta$ so that \n",
    "\n",
    "$$\n",
    "\\begin{array}{rcl}\n",
    "y_i & \\approx & \\beta_0 + x_i\\beta_{1:p}  \\\\\n",
    "&= &\\beta_0 + x_{i1}\\beta_1 +x_{i2}\\beta_2 \\dots x_{ip}\\beta_p\n",
    "\\end{array}\n",
    "$$\n",
    "\n",
    "To quantify what we mean by a \"good\" approximation, we'll use the mean-squared-error loss. So for a given guess $\\beta$ we'll give it the \"grade\" \n",
    "\n",
    "$$L(y,\\hat y) = \\frac{1}{n}\\sum_i (y_i - \\hat y_i)^2$$\n",
    "\n",
    "where $\\hat y_i  = x_i\\beta_{1:p} + \\beta_0$ and $n$ is the number of observations (rows) in the data. We're looking for the $\\beta$ that gives us the best (lowest) grade. This combination of model (linear) and loss (mean-squared-error) is called linear regression."
   ]
  },
  {
   "cell_type": "markdown",
   "metadata": {},
   "source": [
    "To start, we'll initialize the coefficients $\\beta$ with random numbers. That's our first guess. We'll update these random numbers using gradient descent to iteratively find better values that make the loss smaller."
   ]
  },
  {
   "cell_type": "code",
   "execution_count": 75,
   "metadata": {},
   "outputs": [
    {
     "data": {
      "text/plain": [
       "tensor([[-0.2731],\n",
       "        [-0.1205],\n",
       "        [-0.1281],\n",
       "        [ 1.1380],\n",
       "        [ 1.7139],\n",
       "        [ 1.7325]], requires_grad=True)"
      ]
     },
     "execution_count": 75,
     "metadata": {},
     "output_type": "execute_result"
    }
   ],
   "source": [
    "β = torch.randn(p+1, 1) # 5 coefficients (one per feature) plus one intercept\n",
    "β.requires_grad_() # tell torch that β is going to have to save the gradient of something with respect to itself at some point"
   ]
  },
  {
   "cell_type": "markdown",
   "metadata": {},
   "source": [
    "### Autograd"
   ]
  },
  {
   "cell_type": "markdown",
   "metadata": {},
   "source": [
    "Using our current (random) coefficients we'll compute the current predictions and use those to compute the loss. That will be a relatively high number because our predictions won't be very good at this point. Once have the loss, we can use the torch autodifferentiation features to compute each of $\\frac{\\delta L}{\\delta \\beta_j}$, the gradients of the loss with respect to each coefficient, and use those to update the coefficients with gradient descent."
   ]
  },
  {
   "cell_type": "code",
   "execution_count": 76,
   "metadata": {},
   "outputs": [],
   "source": [
    "ŷ = torch.matmul(x, β[1:]) + β[0] # ŷ = xβ + β0"
   ]
  },
  {
   "cell_type": "code",
   "execution_count": 77,
   "metadata": {},
   "outputs": [],
   "source": [
    "L = torch.sum((y-ŷ)**2)/n # L = Σ(yᵢ-ŷᵢ)²/n"
   ]
  },
  {
   "cell_type": "code",
   "execution_count": 78,
   "metadata": {},
   "outputs": [
    {
     "data": {
      "text/plain": [
       "tensor(8.5604, grad_fn=<DivBackward0>)"
      ]
     },
     "execution_count": 78,
     "metadata": {},
     "output_type": "execute_result"
    }
   ],
   "source": [
    "L"
   ]
  },
  {
   "cell_type": "code",
   "execution_count": 79,
   "metadata": {},
   "outputs": [],
   "source": [
    "L.backward() # compute the gradients of the loss with respect to any tensors that went into the loss with requires_grad=true"
   ]
  },
  {
   "cell_type": "code",
   "execution_count": 80,
   "metadata": {},
   "outputs": [
    {
     "data": {
      "text/plain": [
       "tensor([[-0.4644],\n",
       "        [-0.3877],\n",
       "        [ 0.4751],\n",
       "        [ 1.6801],\n",
       "        [ 3.0645],\n",
       "        [ 5.0251]])"
      ]
     },
     "execution_count": 80,
     "metadata": {},
     "output_type": "execute_result"
    }
   ],
   "source": [
    "β.grad"
   ]
  },
  {
   "cell_type": "markdown",
   "metadata": {},
   "source": [
    "what we see here is a vector containing all of the derivatives we want. The first element is $\\frac{\\delta L}{\\delta \\beta_0}$, the second element is $\\frac{\\delta L}{\\delta \\beta_1}$, and so on. Note that this object is part of $\\beta$ and not $L$."
   ]
  },
  {
   "cell_type": "markdown",
   "metadata": {},
   "source": [
    "Let's calculate the gradient manually and make sure it matches up. We have:\n",
    "\n",
    "$$\n",
    "\\begin{array}{rcl}\n",
    "\\hat y_i &=& x_i\\beta + \\beta_0 \\\\\n",
    "L(y,\\hat y) &=& \\frac{1}{n}\\sum_i (y_i - \\hat y_i)^2\n",
    "\\end{array}\n",
    "$$"
   ]
  },
  {
   "cell_type": "markdown",
   "metadata": {},
   "source": [
    "So the derivative for $\\beta_j$ with $j\\ne 0$ is\n",
    "\n",
    "$$\n",
    "\\begin{array}{rcl}\n",
    "\\frac{\\partial L}{\\partial \\beta_j} &=& \n",
    "\\frac{1}{n}\n",
    "\\sum_i \n",
    "\\frac{\\partial L}{\\partial y_i} \n",
    "\\frac{\\partial y_i}{\\partial \\beta_j}\n",
    "\\\\\n",
    "&=&\n",
    "\\frac{1}{n}\n",
    "\\sum_i\n",
    "-2(y_i-\\hat y_i)\n",
    "x_{ij}\n",
    "\\\\\n",
    "&=&\n",
    "-\\frac{2}{n}\n",
    "x_j^T(y-\\hat y)\n",
    "\\end{array}\n",
    "$$\n",
    "\n",
    "and for $\\beta_0$ is \n",
    "$$\n",
    "\\begin{array}{rcl}\n",
    "\\frac{\\partial L}{\\partial \\beta_0}\n",
    "&=&\n",
    "\\frac{1}{n}\n",
    "\\sum_i\n",
    "-2(y_i-\\hat y_i) \\\\\n",
    "&=&\n",
    "-\\frac{2}{n}\n",
    "1^T(y-\\hat y)\n",
    "\\end{array}\n",
    "$$\n",
    "\n",
    "which means we can calculate the whole gradient as $-\\frac{2}{n}[1,x]^T(y-[1,x]\\beta)$"
   ]
  },
  {
   "cell_type": "code",
   "execution_count": 81,
   "metadata": {},
   "outputs": [],
   "source": [
    "import numpy as np\n",
    "def beta_grad(β):\n",
    "    x_with_1s = torch.Tensor(np.hstack((np.ones((n,1)), x)))\n",
    "    return -2*torch.matmul(x_with_1s.transpose(0,1), y-torch.matmul(x_with_1s,β))/n"
   ]
  },
  {
   "cell_type": "code",
   "execution_count": 82,
   "metadata": {},
   "outputs": [
    {
     "data": {
      "text/plain": [
       "tensor([[-0.4644],\n",
       "        [-0.3877],\n",
       "        [ 0.4751],\n",
       "        [ 1.6801],\n",
       "        [ 3.0645],\n",
       "        [ 5.0251]], grad_fn=<DivBackward0>)"
      ]
     },
     "execution_count": 82,
     "metadata": {},
     "output_type": "execute_result"
    }
   ],
   "source": [
    "beta_grad(β)"
   ]
  },
  {
   "cell_type": "markdown",
   "metadata": {},
   "source": [
    "which is exactly the same as the result in `β.grad`!"
   ]
  },
  {
   "cell_type": "markdown",
   "metadata": {},
   "source": [
    "How does pytorch do this? It turns out that every pytorch tensor records not only its own value, but also what functions were called to produce it and which tensors went into those functions. The `torchvis` package lets us see this:"
   ]
  },
  {
   "cell_type": "code",
   "execution_count": 83,
   "metadata": {},
   "outputs": [
    {
     "data": {
      "image/svg+xml": [
       "<?xml version=\"1.0\" encoding=\"UTF-8\" standalone=\"no\"?>\n",
       "<!DOCTYPE svg PUBLIC \"-//W3C//DTD SVG 1.1//EN\"\n",
       " \"http://www.w3.org/Graphics/SVG/1.1/DTD/svg11.dtd\">\n",
       "<!-- Generated by graphviz version 2.43.0 (0)\n",
       " -->\n",
       "<!-- Title: %3 Pages: 1 -->\n",
       "<svg width=\"204pt\" height=\"432pt\"\n",
       " viewBox=\"0.00 0.00 204.31 432.00\" xmlns=\"http://www.w3.org/2000/svg\" xmlns:xlink=\"http://www.w3.org/1999/xlink\">\n",
       "<g id=\"graph0\" class=\"graph\" transform=\"scale(1 1) rotate(0) translate(4 428)\">\n",
       "<title>%3</title>\n",
       "<polygon fill=\"white\" stroke=\"transparent\" points=\"-4,4 -4,-428 200.31,-428 200.31,4 -4,4\"/>\n",
       "<!-- 4928321744 -->\n",
       "<g id=\"node1\" class=\"node\">\n",
       "<title>4928321744</title>\n",
       "<polygon fill=\"#caff70\" stroke=\"black\" points=\"139.47,-20 51.18,-20 51.18,0 139.47,0 139.47,-20\"/>\n",
       "<text text-anchor=\"middle\" x=\"95.32\" y=\"-6.4\" font-family=\"Times,serif\" font-size=\"12.00\">DivBackward0</text>\n",
       "</g>\n",
       "<!-- 4928321424 -->\n",
       "<g id=\"node2\" class=\"node\">\n",
       "<title>4928321424</title>\n",
       "<polygon fill=\"lightgrey\" stroke=\"black\" points=\"141.48,-76 49.17,-76 49.17,-56 141.48,-56 141.48,-76\"/>\n",
       "<text text-anchor=\"middle\" x=\"95.32\" y=\"-62.4\" font-family=\"Times,serif\" font-size=\"12.00\">SumBackward0</text>\n",
       "</g>\n",
       "<!-- 4928321424&#45;&gt;4928321744 -->\n",
       "<g id=\"edge1\" class=\"edge\">\n",
       "<title>4928321424&#45;&gt;4928321744</title>\n",
       "<path fill=\"none\" stroke=\"black\" d=\"M95.32,-55.59C95.32,-48.7 95.32,-39.1 95.32,-30.57\"/>\n",
       "<polygon fill=\"black\" stroke=\"black\" points=\"98.82,-30.3 95.32,-20.3 91.82,-30.3 98.82,-30.3\"/>\n",
       "</g>\n",
       "<!-- 4928321168 -->\n",
       "<g id=\"node3\" class=\"node\">\n",
       "<title>4928321168</title>\n",
       "<polygon fill=\"lightgrey\" stroke=\"black\" points=\"141.31,-132 49.34,-132 49.34,-112 141.31,-112 141.31,-132\"/>\n",
       "<text text-anchor=\"middle\" x=\"95.32\" y=\"-118.4\" font-family=\"Times,serif\" font-size=\"12.00\">PowBackward0</text>\n",
       "</g>\n",
       "<!-- 4928321168&#45;&gt;4928321424 -->\n",
       "<g id=\"edge2\" class=\"edge\">\n",
       "<title>4928321168&#45;&gt;4928321424</title>\n",
       "<path fill=\"none\" stroke=\"black\" d=\"M95.32,-111.59C95.32,-104.7 95.32,-95.1 95.32,-86.57\"/>\n",
       "<polygon fill=\"black\" stroke=\"black\" points=\"98.82,-86.3 95.32,-76.3 91.82,-86.3 98.82,-86.3\"/>\n",
       "</g>\n",
       "<!-- 4928320272 -->\n",
       "<g id=\"node4\" class=\"node\">\n",
       "<title>4928320272</title>\n",
       "<polygon fill=\"lightgrey\" stroke=\"black\" points=\"140.14,-188 50.51,-188 50.51,-168 140.14,-168 140.14,-188\"/>\n",
       "<text text-anchor=\"middle\" x=\"95.32\" y=\"-174.4\" font-family=\"Times,serif\" font-size=\"12.00\">SubBackward0</text>\n",
       "</g>\n",
       "<!-- 4928320272&#45;&gt;4928321168 -->\n",
       "<g id=\"edge3\" class=\"edge\">\n",
       "<title>4928320272&#45;&gt;4928321168</title>\n",
       "<path fill=\"none\" stroke=\"black\" d=\"M95.32,-167.59C95.32,-160.7 95.32,-151.1 95.32,-142.57\"/>\n",
       "<polygon fill=\"black\" stroke=\"black\" points=\"98.82,-142.3 95.32,-132.3 91.82,-142.3 98.82,-142.3\"/>\n",
       "</g>\n",
       "<!-- 4928321296 -->\n",
       "<g id=\"node5\" class=\"node\">\n",
       "<title>4928321296</title>\n",
       "<polygon fill=\"lightgrey\" stroke=\"black\" points=\"141.14,-244 49.51,-244 49.51,-224 141.14,-224 141.14,-244\"/>\n",
       "<text text-anchor=\"middle\" x=\"95.32\" y=\"-230.4\" font-family=\"Times,serif\" font-size=\"12.00\">AddBackward0</text>\n",
       "</g>\n",
       "<!-- 4928321296&#45;&gt;4928320272 -->\n",
       "<g id=\"edge4\" class=\"edge\">\n",
       "<title>4928321296&#45;&gt;4928320272</title>\n",
       "<path fill=\"none\" stroke=\"black\" d=\"M95.32,-223.59C95.32,-216.7 95.32,-207.1 95.32,-198.57\"/>\n",
       "<polygon fill=\"black\" stroke=\"black\" points=\"98.82,-198.3 95.32,-188.3 91.82,-198.3 98.82,-198.3\"/>\n",
       "</g>\n",
       "<!-- 4928319888 -->\n",
       "<g id=\"node6\" class=\"node\">\n",
       "<title>4928319888</title>\n",
       "<polygon fill=\"lightgrey\" stroke=\"black\" points=\"84.47,-300 0.18,-300 0.18,-280 84.47,-280 84.47,-300\"/>\n",
       "<text text-anchor=\"middle\" x=\"42.32\" y=\"-286.4\" font-family=\"Times,serif\" font-size=\"12.00\">MmBackward</text>\n",
       "</g>\n",
       "<!-- 4928319888&#45;&gt;4928321296 -->\n",
       "<g id=\"edge5\" class=\"edge\">\n",
       "<title>4928319888&#45;&gt;4928321296</title>\n",
       "<path fill=\"none\" stroke=\"black\" d=\"M51.56,-279.59C59.16,-271.85 70.11,-260.69 79.16,-251.47\"/>\n",
       "<polygon fill=\"black\" stroke=\"black\" points=\"81.69,-253.89 86.2,-244.3 76.7,-248.98 81.69,-253.89\"/>\n",
       "</g>\n",
       "<!-- 4928323472 -->\n",
       "<g id=\"node7\" class=\"node\">\n",
       "<title>4928323472</title>\n",
       "<polygon fill=\"lightgrey\" stroke=\"black\" points=\"103.46,-356 15.18,-356 15.18,-336 103.46,-336 103.46,-356\"/>\n",
       "<text text-anchor=\"middle\" x=\"59.32\" y=\"-342.4\" font-family=\"Times,serif\" font-size=\"12.00\">SliceBackward</text>\n",
       "</g>\n",
       "<!-- 4928323472&#45;&gt;4928319888 -->\n",
       "<g id=\"edge6\" class=\"edge\">\n",
       "<title>4928323472&#45;&gt;4928319888</title>\n",
       "<path fill=\"none\" stroke=\"black\" d=\"M56.36,-335.59C54.14,-328.55 51.04,-318.67 48.31,-310\"/>\n",
       "<polygon fill=\"black\" stroke=\"black\" points=\"51.59,-308.79 45.25,-300.3 44.92,-310.89 51.59,-308.79\"/>\n",
       "</g>\n",
       "<!-- 4928322064 -->\n",
       "<g id=\"node8\" class=\"node\">\n",
       "<title>4928322064</title>\n",
       "<polygon fill=\"lightblue\" stroke=\"black\" points=\"122.32,-424 68.32,-424 68.32,-392 122.32,-392 122.32,-424\"/>\n",
       "<text text-anchor=\"middle\" x=\"95.32\" y=\"-410.4\" font-family=\"Times,serif\" font-size=\"12.00\">β</text>\n",
       "<text text-anchor=\"middle\" x=\"95.32\" y=\"-398.4\" font-family=\"Times,serif\" font-size=\"12.00\"> (6, 1)</text>\n",
       "</g>\n",
       "<!-- 4928322064&#45;&gt;4928323472 -->\n",
       "<g id=\"edge7\" class=\"edge\">\n",
       "<title>4928322064&#45;&gt;4928323472</title>\n",
       "<path fill=\"none\" stroke=\"black\" d=\"M86.24,-391.86C81.34,-383.69 75.25,-373.55 70.11,-364.98\"/>\n",
       "<polygon fill=\"black\" stroke=\"black\" points=\"72.96,-362.93 64.82,-356.15 66.96,-366.53 72.96,-362.93\"/>\n",
       "</g>\n",
       "<!-- 4928320720 -->\n",
       "<g id=\"node9\" class=\"node\">\n",
       "<title>4928320720</title>\n",
       "<polygon fill=\"lightgrey\" stroke=\"black\" points=\"196.29,-300 102.36,-300 102.36,-280 196.29,-280 196.29,-300\"/>\n",
       "<text text-anchor=\"middle\" x=\"149.32\" y=\"-286.4\" font-family=\"Times,serif\" font-size=\"12.00\">SelectBackward</text>\n",
       "</g>\n",
       "<!-- 4928322064&#45;&gt;4928320720 -->\n",
       "<g id=\"edge9\" class=\"edge\">\n",
       "<title>4928322064&#45;&gt;4928320720</title>\n",
       "<path fill=\"none\" stroke=\"black\" d=\"M102.38,-391.84C112.25,-370.64 130.15,-332.2 140.76,-309.39\"/>\n",
       "<polygon fill=\"black\" stroke=\"black\" points=\"144.02,-310.68 145.07,-300.14 137.68,-307.72 144.02,-310.68\"/>\n",
       "</g>\n",
       "<!-- 4928320720&#45;&gt;4928321296 -->\n",
       "<g id=\"edge8\" class=\"edge\">\n",
       "<title>4928320720&#45;&gt;4928321296</title>\n",
       "<path fill=\"none\" stroke=\"black\" d=\"M139.92,-279.59C132.17,-271.85 121.01,-260.69 111.79,-251.47\"/>\n",
       "<polygon fill=\"black\" stroke=\"black\" points=\"114.17,-248.89 104.62,-244.3 109.22,-253.84 114.17,-248.89\"/>\n",
       "</g>\n",
       "</g>\n",
       "</svg>\n"
      ],
      "text/plain": [
       "<graphviz.dot.Digraph at 0x125c03090>"
      ]
     },
     "execution_count": 83,
     "metadata": {},
     "output_type": "execute_result"
    }
   ],
   "source": [
    "from torchviz import make_dot\n",
    "make_dot(L, {'β':β})"
   ]
  },
  {
   "cell_type": "markdown",
   "metadata": {},
   "source": [
    "To calculate the gradient of $L$ with respect to $\\beta$, pytorch takes the gradients of each of these functions in turn (which are simple and built-in to pytorch), evaluates them at their current value using the input tensors, and multiplies them together to arrive at the answer you would get via the chain rule. You can learn more about this process [here](https://towardsdatascience.com/pytorch-autograd-understanding-the-heart-of-pytorchs-magic-2686cd94ec95) and elsewhere."
   ]
  },
  {
   "cell_type": "markdown",
   "metadata": {},
   "source": [
    "### Doing Gradient Descent"
   ]
  },
  {
   "cell_type": "markdown",
   "metadata": {},
   "source": [
    "To update the weights, we need to subtract the gradient (times a small learning rate) from the current value of the weights. \n",
    "\n",
    "We do this from inside a `no_grad():` \"context\" so that $\\beta$ doesn't store the history of the update (try the update without the `with torch.no_grad():` and see what happens). We also clear out `β.grad`. "
   ]
  },
  {
   "cell_type": "code",
   "execution_count": 84,
   "metadata": {},
   "outputs": [],
   "source": [
    "with torch.no_grad():\n",
    "    β -= 10e-5 * β.grad # β = β - 10e-5 * β.grad\n",
    "    β.grad.zero_()"
   ]
  },
  {
   "cell_type": "code",
   "execution_count": 85,
   "metadata": {},
   "outputs": [
    {
     "data": {
      "text/plain": [
       "tensor([[-0.2731],\n",
       "        [-0.1204],\n",
       "        [-0.1282],\n",
       "        [ 1.1378],\n",
       "        [ 1.7136],\n",
       "        [ 1.7320]], requires_grad=True)"
      ]
     },
     "execution_count": 85,
     "metadata": {},
     "output_type": "execute_result"
    }
   ],
   "source": [
    "β"
   ]
  },
  {
   "cell_type": "markdown",
   "metadata": {},
   "source": [
    "As you can see, our new value of $\\beta$ is slightly different than what we started with because we've taken a single gradient step."
   ]
  },
  {
   "cell_type": "markdown",
   "metadata": {},
   "source": [
    "----"
   ]
  },
  {
   "cell_type": "markdown",
   "metadata": {},
   "source": [
    "#### Zeroing Gradients"
   ]
  },
  {
   "cell_type": "markdown",
   "metadata": {},
   "source": [
    "Let's take a quick second to diverge from our main story to explain why we need to zero the gradient. If we don't zero the gradient, the next time we calculate the gradient of something with respect to $\\beta$, the new gradient will be added to whatever was stored there instead of overwriting it. That's just the way torch was made to work. To demonstrate:"
   ]
  },
  {
   "cell_type": "code",
   "execution_count": 86,
   "metadata": {},
   "outputs": [
    {
     "data": {
      "text/plain": [
       "tensor(10.)"
      ]
     },
     "execution_count": 86,
     "metadata": {},
     "output_type": "execute_result"
    }
   ],
   "source": [
    "t = torch.tensor(5., requires_grad=True)\n",
    "z = t**2 # z = t^2\n",
    "z.backward() # dz/dt = 2t, and t =5 right now\n",
    "t.grad # so dz/dt = 2*5 = 10"
   ]
  },
  {
   "cell_type": "markdown",
   "metadata": {},
   "source": [
    "all good so far... Now let's make another variable based on $t$"
   ]
  },
  {
   "cell_type": "code",
   "execution_count": 87,
   "metadata": {},
   "outputs": [
    {
     "data": {
      "text/plain": [
       "tensor(85.)"
      ]
     },
     "execution_count": 87,
     "metadata": {},
     "output_type": "execute_result"
    }
   ],
   "source": [
    "q = t**3 # q = t^3\n",
    "q.backward() # dq/dt = 3t^2, and t=5 right now\n",
    "t.grad # so dq/dt = 3*5^2 = 75"
   ]
  },
  {
   "cell_type": "markdown",
   "metadata": {},
   "source": [
    "Here we should have gotten 75, but we got 85, which is 75 + 10. What happened was that 10 was previously stored in `t.grad`, so it got added to the new number that came in when we called `q.backward()`."
   ]
  },
  {
   "cell_type": "markdown",
   "metadata": {},
   "source": [
    "----"
   ]
  },
  {
   "cell_type": "markdown",
   "metadata": {},
   "source": [
    "Ok, back to our main story. Let's repeat what we have so far but now add a little loop to train our model for 500 gradient descent iterations instead of going slowly though a single iteration:"
   ]
  },
  {
   "cell_type": "code",
   "execution_count": 88,
   "metadata": {},
   "outputs": [
    {
     "data": {
      "text/plain": [
       "tensor([[-0.1092],\n",
       "        [-1.3379],\n",
       "        [ 0.2449],\n",
       "        [-0.8324],\n",
       "        [-0.3387],\n",
       "        [ 0.4786]], requires_grad=True)"
      ]
     },
     "execution_count": 88,
     "metadata": {},
     "output_type": "execute_result"
    }
   ],
   "source": [
    "x = torch.randn(n, p) # predictors (10 observations, 5 features)\n",
    "y = torch.randn(n, 1) # outcomes (10 observations)\n",
    "\n",
    "loss_record = [] # to kep track of the loss over the iterations\n",
    "β = torch.randn(p+1,1) # 5 coefficients (one per feature) plus one intercept\n",
    "β.requires_grad_() # tell torch that β is going to have to save the gradient of something with respect to itself at some point"
   ]
  },
  {
   "cell_type": "code",
   "execution_count": 89,
   "metadata": {},
   "outputs": [],
   "source": [
    "for e in range(500):\n",
    "    ŷ = torch.matmul(x, β[1:]) + β[0] # ŷ = xβ + β0 (calculate predictions)\n",
    "    L = torch.sum((y-ŷ)**2)/n # L = Σ(yᵢ-ŷᵢ)²/n (use predictions to calculate loss)\n",
    "    \n",
    "    L.backward() # compute gradients (in this case δL/δβ, δL/δW)\n",
    "    loss_record.append(L.item())\n",
    "    \n",
    "    with torch.no_grad(): # take the gradient descent step \n",
    "        β -= 10e-3 * β.grad\n",
    "        β.grad.zero_()"
   ]
  },
  {
   "cell_type": "markdown",
   "metadata": {},
   "source": [
    "And we can see how the loss changes over the iterations:"
   ]
  },
  {
   "cell_type": "code",
   "execution_count": 90,
   "metadata": {},
   "outputs": [
    {
     "data": {
      "application/vnd.vegalite.v3+json": {
       "$schema": "https://vega.github.io/schema/vega-lite/v3.4.0.json",
       "config": {
        "mark": {
         "tooltip": null
        },
        "view": {
         "height": 300,
         "width": 400
        }
       },
       "data": {
        "name": "data-8bbf64d689001292b93509c84ba11f81"
       },
       "datasets": {
        "data-8bbf64d689001292b93509c84ba11f81": [
         {
          "i": 0,
          "loss": 3.0417187213897705
         },
         {
          "i": 1,
          "loss": 2.9595117568969727
         },
         {
          "i": 2,
          "loss": 2.8805413246154785
         },
         {
          "i": 3,
          "loss": 2.804675579071045
         },
         {
          "i": 4,
          "loss": 2.731790065765381
         },
         {
          "i": 5,
          "loss": 2.6617631912231445
         },
         {
          "i": 6,
          "loss": 2.5944814682006836
         },
         {
          "i": 7,
          "loss": 2.5298328399658203
         },
         {
          "i": 8,
          "loss": 2.467712163925171
         },
         {
          "i": 9,
          "loss": 2.408017158508301
         },
         {
          "i": 10,
          "loss": 2.350651741027832
         },
         {
          "i": 11,
          "loss": 2.295520305633545
         },
         {
          "i": 12,
          "loss": 2.242534637451172
         },
         {
          "i": 13,
          "loss": 2.191608428955078
         },
         {
          "i": 14,
          "loss": 2.1426589488983154
         },
         {
          "i": 15,
          "loss": 2.095607280731201
         },
         {
          "i": 16,
          "loss": 2.050377607345581
         },
         {
          "i": 17,
          "loss": 2.0068962574005127
         },
         {
          "i": 18,
          "loss": 1.965095043182373
         },
         {
          "i": 19,
          "loss": 1.9249058961868286
         },
         {
          "i": 20,
          "loss": 1.8862648010253906
         },
         {
          "i": 21,
          "loss": 1.8491101264953613
         },
         {
          "i": 22,
          "loss": 1.8133829832077026
         },
         {
          "i": 23,
          "loss": 1.7790263891220093
         },
         {
          "i": 24,
          "loss": 1.745985984802246
         },
         {
          "i": 25,
          "loss": 1.7142095565795898
         },
         {
          "i": 26,
          "loss": 1.6836471557617188
         },
         {
          "i": 27,
          "loss": 1.654250979423523
         },
         {
          "i": 28,
          "loss": 1.6259747743606567
         },
         {
          "i": 29,
          "loss": 1.5987738370895386
         },
         {
          "i": 30,
          "loss": 1.5726062059402466
         },
         {
          "i": 31,
          "loss": 1.5474308729171753
         },
         {
          "i": 32,
          "loss": 1.5232092142105103
         },
         {
          "i": 33,
          "loss": 1.4999034404754639
         },
         {
          "i": 34,
          "loss": 1.4774775505065918
         },
         {
          "i": 35,
          "loss": 1.4558968544006348
         },
         {
          "i": 36,
          "loss": 1.4351284503936768
         },
         {
          "i": 37,
          "loss": 1.4151408672332764
         },
         {
          "i": 38,
          "loss": 1.3959029912948608
         },
         {
          "i": 39,
          "loss": 1.3773856163024902
         },
         {
          "i": 40,
          "loss": 1.3595608472824097
         },
         {
          "i": 41,
          "loss": 1.3424017429351807
         },
         {
          "i": 42,
          "loss": 1.3258819580078125
         },
         {
          "i": 43,
          "loss": 1.3099772930145264
         },
         {
          "i": 44,
          "loss": 1.294663429260254
         },
         {
          "i": 45,
          "loss": 1.2799171209335327
         },
         {
          "i": 46,
          "loss": 1.2657170295715332
         },
         {
          "i": 47,
          "loss": 1.2520418167114258
         },
         {
          "i": 48,
          "loss": 1.2388710975646973
         },
         {
          "i": 49,
          "loss": 1.2261853218078613
         },
         {
          "i": 50,
          "loss": 1.213965892791748
         },
         {
          "i": 51,
          "loss": 1.2021952867507935
         },
         {
          "i": 52,
          "loss": 1.1908555030822754
         },
         {
          "i": 53,
          "loss": 1.1799304485321045
         },
         {
          "i": 54,
          "loss": 1.1694037914276123
         },
         {
          "i": 55,
          "loss": 1.1592609882354736
         },
         {
          "i": 56,
          "loss": 1.1494868993759155
         },
         {
          "i": 57,
          "loss": 1.140067458152771
         },
         {
          "i": 58,
          "loss": 1.1309889554977417
         },
         {
          "i": 59,
          "loss": 1.122239112854004
         },
         {
          "i": 60,
          "loss": 1.113804817199707
         },
         {
          "i": 61,
          "loss": 1.1056742668151855
         },
         {
          "i": 62,
          "loss": 1.0978360176086426
         },
         {
          "i": 63,
          "loss": 1.0902787446975708
         },
         {
          "i": 64,
          "loss": 1.0829918384552002
         },
         {
          "i": 65,
          "loss": 1.0759657621383667
         },
         {
          "i": 66,
          "loss": 1.0691896677017212
         },
         {
          "i": 67,
          "loss": 1.062654972076416
         },
         {
          "i": 68,
          "loss": 1.056352138519287
         },
         {
          "i": 69,
          "loss": 1.0502727031707764
         },
         {
          "i": 70,
          "loss": 1.0444084405899048
         },
         {
          "i": 71,
          "loss": 1.0387506484985352
         },
         {
          "i": 72,
          "loss": 1.0332924127578735
         },
         {
          "i": 73,
          "loss": 1.0280258655548096
         },
         {
          "i": 74,
          "loss": 1.0229439735412598
         },
         {
          "i": 75,
          "loss": 1.0180398225784302
         },
         {
          "i": 76,
          "loss": 1.0133068561553955
         },
         {
          "i": 77,
          "loss": 1.0087387561798096
         },
         {
          "i": 78,
          "loss": 1.0043294429779053
         },
         {
          "i": 79,
          "loss": 1.000072956085205
         },
         {
          "i": 80,
          "loss": 0.9959638118743896
         },
         {
          "i": 81,
          "loss": 0.9919965267181396
         },
         {
          "i": 82,
          "loss": 0.9881659746170044
         },
         {
          "i": 83,
          "loss": 0.9844669103622437
         },
         {
          "i": 84,
          "loss": 0.980894923210144
         },
         {
          "i": 85,
          "loss": 0.9774448871612549
         },
         {
          "i": 86,
          "loss": 0.9741126298904419
         },
         {
          "i": 87,
          "loss": 0.970893919467926
         },
         {
          "i": 88,
          "loss": 0.9677846431732178
         },
         {
          "i": 89,
          "loss": 0.9647808074951172
         },
         {
          "i": 90,
          "loss": 0.9618783593177795
         },
         {
          "i": 91,
          "loss": 0.9590737819671631
         },
         {
          "i": 92,
          "loss": 0.9563637375831604
         },
         {
          "i": 93,
          "loss": 0.9537445902824402
         },
         {
          "i": 94,
          "loss": 0.9512133598327637
         },
         {
          "i": 95,
          "loss": 0.9487664699554443
         },
         {
          "i": 96,
          "loss": 0.9464013576507568
         },
         {
          "i": 97,
          "loss": 0.9441148638725281
         },
         {
          "i": 98,
          "loss": 0.9419043660163879
         },
         {
          "i": 99,
          "loss": 0.9397667050361633
         },
         {
          "i": 100,
          "loss": 0.9376997947692871
         },
         {
          "i": 101,
          "loss": 0.9357007741928101
         },
         {
          "i": 102,
          "loss": 0.9337676167488098
         },
         {
          "i": 103,
          "loss": 0.9318979382514954
         },
         {
          "i": 104,
          "loss": 0.9300892353057861
         },
         {
          "i": 105,
          "loss": 0.9283394813537598
         },
         {
          "i": 106,
          "loss": 0.9266467094421387
         },
         {
          "i": 107,
          "loss": 0.9250089526176453
         },
         {
          "i": 108,
          "loss": 0.9234241247177124
         },
         {
          "i": 109,
          "loss": 0.9218904972076416
         },
         {
          "i": 110,
          "loss": 0.9204061031341553
         },
         {
          "i": 111,
          "loss": 0.9189696311950684
         },
         {
          "i": 112,
          "loss": 0.917579174041748
         },
         {
          "i": 113,
          "loss": 0.9162331223487854
         },
         {
          "i": 114,
          "loss": 0.9149301052093506
         },
         {
          "i": 115,
          "loss": 0.9136683940887451
         },
         {
          "i": 116,
          "loss": 0.9124466776847839
         },
         {
          "i": 117,
          "loss": 0.911263644695282
         },
         {
          "i": 118,
          "loss": 0.9101179242134094
         },
         {
          "i": 119,
          "loss": 0.9090085625648499
         },
         {
          "i": 120,
          "loss": 0.9079338908195496
         },
         {
          "i": 121,
          "loss": 0.9068927764892578
         },
         {
          "i": 122,
          "loss": 0.9058845043182373
         },
         {
          "i": 123,
          "loss": 0.9049074053764343
         },
         {
          "i": 124,
          "loss": 0.9039608240127563
         },
         {
          "i": 125,
          "loss": 0.9030434489250183
         },
         {
          "i": 126,
          "loss": 0.9021544456481934
         },
         {
          "i": 127,
          "loss": 0.901293158531189
         },
         {
          "i": 128,
          "loss": 0.9004581570625305
         },
         {
          "i": 129,
          "loss": 0.899648904800415
         },
         {
          "i": 130,
          "loss": 0.8988644480705261
         },
         {
          "i": 131,
          "loss": 0.8981040120124817
         },
         {
          "i": 132,
          "loss": 0.8973665833473206
         },
         {
          "i": 133,
          "loss": 0.8966516852378845
         },
         {
          "i": 134,
          "loss": 0.8959584832191467
         },
         {
          "i": 135,
          "loss": 0.8952862024307251
         },
         {
          "i": 136,
          "loss": 0.8946341872215271
         },
         {
          "i": 137,
          "loss": 0.8940019011497498
         },
         {
          "i": 138,
          "loss": 0.8933884501457214
         },
         {
          "i": 139,
          "loss": 0.8927934765815735
         },
         {
          "i": 140,
          "loss": 0.8922163248062134
         },
         {
          "i": 141,
          "loss": 0.8916565179824829
         },
         {
          "i": 142,
          "loss": 0.8911129832267761
         },
         {
          "i": 143,
          "loss": 0.8905858397483826
         },
         {
          "i": 144,
          "loss": 0.8900741338729858
         },
         {
          "i": 145,
          "loss": 0.8895778656005859
         },
         {
          "i": 146,
          "loss": 0.8890959024429321
         },
         {
          "i": 147,
          "loss": 0.8886282444000244
         },
         {
          "i": 148,
          "loss": 0.8881742358207703
         },
         {
          "i": 149,
          "loss": 0.887733519077301
         },
         {
          "i": 150,
          "loss": 0.8873056173324585
         },
         {
          "i": 151,
          "loss": 0.8868902325630188
         },
         {
          "i": 152,
          "loss": 0.8864868879318237
         },
         {
          "i": 153,
          "loss": 0.8860952258110046
         },
         {
          "i": 154,
          "loss": 0.8857149481773376
         },
         {
          "i": 155,
          "loss": 0.8853455185890198
         },
         {
          "i": 156,
          "loss": 0.8849868774414062
         },
         {
          "i": 157,
          "loss": 0.8846383690834045
         },
         {
          "i": 158,
          "loss": 0.8842998743057251
         },
         {
          "i": 159,
          "loss": 0.8839711546897888
         },
         {
          "i": 160,
          "loss": 0.8836517333984375
         },
         {
          "i": 161,
          "loss": 0.883341372013092
         },
         {
          "i": 162,
          "loss": 0.8830399513244629
         },
         {
          "i": 163,
          "loss": 0.8827468752861023
         },
         {
          "i": 164,
          "loss": 0.8824621438980103
         },
         {
          "i": 165,
          "loss": 0.8821855187416077
         },
         {
          "i": 166,
          "loss": 0.8819166421890259
         },
         {
          "i": 167,
          "loss": 0.8816553354263306
         },
         {
          "i": 168,
          "loss": 0.8814013004302979
         },
         {
          "i": 169,
          "loss": 0.8811544179916382
         },
         {
          "i": 170,
          "loss": 0.8809143900871277
         },
         {
          "i": 171,
          "loss": 0.8806809782981873
         },
         {
          "i": 172,
          "loss": 0.8804542422294617
         },
         {
          "i": 173,
          "loss": 0.8802337050437927
         },
         {
          "i": 174,
          "loss": 0.8800192475318909
         },
         {
          "i": 175,
          "loss": 0.8798105716705322
         },
         {
          "i": 176,
          "loss": 0.8796076774597168
         },
         {
          "i": 177,
          "loss": 0.8794105052947998
         },
         {
          "i": 178,
          "loss": 0.8792187571525574
         },
         {
          "i": 179,
          "loss": 0.8790320754051208
         },
         {
          "i": 180,
          "loss": 0.8788506388664246
         },
         {
          "i": 181,
          "loss": 0.8786742687225342
         },
         {
          "i": 182,
          "loss": 0.8785024285316467
         },
         {
          "i": 183,
          "loss": 0.8783354163169861
         },
         {
          "i": 184,
          "loss": 0.8781729340553284
         },
         {
          "i": 185,
          "loss": 0.8780148029327393
         },
         {
          "i": 186,
          "loss": 0.8778610229492188
         },
         {
          "i": 187,
          "loss": 0.8777113556861877
         },
         {
          "i": 188,
          "loss": 0.8775656819343567
         },
         {
          "i": 189,
          "loss": 0.877423882484436
         },
         {
          "i": 190,
          "loss": 0.8772860169410706
         },
         {
          "i": 191,
          "loss": 0.8771517872810364
         },
         {
          "i": 192,
          "loss": 0.8770210146903992
         },
         {
          "i": 193,
          "loss": 0.876893937587738
         },
         {
          "i": 194,
          "loss": 0.8767700791358948
         },
         {
          "i": 195,
          "loss": 0.8766496777534485
         },
         {
          "i": 196,
          "loss": 0.8765321969985962
         },
         {
          "i": 197,
          "loss": 0.8764181733131409
         },
         {
          "i": 198,
          "loss": 0.8763068914413452
         },
         {
          "i": 199,
          "loss": 0.8761987090110779
         },
         {
          "i": 200,
          "loss": 0.8760933876037598
         },
         {
          "i": 201,
          "loss": 0.8759906888008118
         },
         {
          "i": 202,
          "loss": 0.8758907914161682
         },
         {
          "i": 203,
          "loss": 0.8757935166358948
         },
         {
          "i": 204,
          "loss": 0.8756988644599915
         },
         {
          "i": 205,
          "loss": 0.8756065368652344
         },
         {
          "i": 206,
          "loss": 0.8755165934562683
         },
         {
          "i": 207,
          "loss": 0.8754292130470276
         },
         {
          "i": 208,
          "loss": 0.8753440380096436
         },
         {
          "i": 209,
          "loss": 0.8752608299255371
         },
         {
          "i": 210,
          "loss": 0.8751801252365112
         },
         {
          "i": 211,
          "loss": 0.8751013875007629
         },
         {
          "i": 212,
          "loss": 0.8750246167182922
         },
         {
          "i": 213,
          "loss": 0.8749498724937439
         },
         {
          "i": 214,
          "loss": 0.8748770952224731
         },
         {
          "i": 215,
          "loss": 0.8748061656951904
         },
         {
          "i": 216,
          "loss": 0.874737024307251
         },
         {
          "i": 217,
          "loss": 0.8746697306632996
         },
         {
          "i": 218,
          "loss": 0.8746041059494019
         },
         {
          "i": 219,
          "loss": 0.8745401501655579
         },
         {
          "i": 220,
          "loss": 0.8744778633117676
         },
         {
          "i": 221,
          "loss": 0.874417245388031
         },
         {
          "i": 222,
          "loss": 0.874358057975769
         },
         {
          "i": 223,
          "loss": 0.8743003606796265
         },
         {
          "i": 224,
          "loss": 0.874244213104248
         },
         {
          "i": 225,
          "loss": 0.874189555644989
         },
         {
          "i": 226,
          "loss": 0.8741362690925598
         },
         {
          "i": 227,
          "loss": 0.8740841746330261
         },
         {
          "i": 228,
          "loss": 0.8740335702896118
         },
         {
          "i": 229,
          "loss": 0.873984158039093
         },
         {
          "i": 230,
          "loss": 0.8739359974861145
         },
         {
          "i": 231,
          "loss": 0.8738890290260315
         },
         {
          "i": 232,
          "loss": 0.8738433718681335
         },
         {
          "i": 233,
          "loss": 0.8737987279891968
         },
         {
          "i": 234,
          "loss": 0.8737552165985107
         },
         {
          "i": 235,
          "loss": 0.8737128973007202
         },
         {
          "i": 236,
          "loss": 0.8736716508865356
         },
         {
          "i": 237,
          "loss": 0.8736313581466675
         },
         {
          "i": 238,
          "loss": 0.8735920786857605
         },
         {
          "i": 239,
          "loss": 0.8735538721084595
         },
         {
          "i": 240,
          "loss": 0.8735165596008301
         },
         {
          "i": 241,
          "loss": 0.8734800815582275
         },
         {
          "i": 242,
          "loss": 0.8734446167945862
         },
         {
          "i": 243,
          "loss": 0.8734100461006165
         },
         {
          "i": 244,
          "loss": 0.8733763098716736
         },
         {
          "i": 245,
          "loss": 0.8733433485031128
         },
         {
          "i": 246,
          "loss": 0.8733112812042236
         },
         {
          "i": 247,
          "loss": 0.8732800483703613
         },
         {
          "i": 248,
          "loss": 0.8732495307922363
         },
         {
          "i": 249,
          "loss": 0.8732197284698486
         },
         {
          "i": 250,
          "loss": 0.873190701007843
         },
         {
          "i": 251,
          "loss": 0.8731625080108643
         },
         {
          "i": 252,
          "loss": 0.8731348514556885
         },
         {
          "i": 253,
          "loss": 0.8731079697608948
         },
         {
          "i": 254,
          "loss": 0.8730815649032593
         },
         {
          "i": 255,
          "loss": 0.8730561137199402
         },
         {
          "i": 256,
          "loss": 0.8730310201644897
         },
         {
          "i": 257,
          "loss": 0.8730068206787109
         },
         {
          "i": 258,
          "loss": 0.8729830980300903
         },
         {
          "i": 259,
          "loss": 0.8729599118232727
         },
         {
          "i": 260,
          "loss": 0.8729372620582581
         },
         {
          "i": 261,
          "loss": 0.8729150891304016
         },
         {
          "i": 262,
          "loss": 0.8728936910629272
         },
         {
          "i": 263,
          "loss": 0.8728728294372559
         },
         {
          "i": 264,
          "loss": 0.8728521466255188
         },
         {
          "i": 265,
          "loss": 0.8728322386741638
         },
         {
          "i": 266,
          "loss": 0.872812807559967
         },
         {
          "i": 267,
          "loss": 0.8727939128875732
         },
         {
          "i": 268,
          "loss": 0.8727754354476929
         },
         {
          "i": 269,
          "loss": 0.8727572560310364
         },
         {
          "i": 270,
          "loss": 0.8727394938468933
         },
         {
          "i": 271,
          "loss": 0.8727223873138428
         },
         {
          "i": 272,
          "loss": 0.8727054595947266
         },
         {
          "i": 273,
          "loss": 0.8726891279220581
         },
         {
          "i": 274,
          "loss": 0.8726732134819031
         },
         {
          "i": 275,
          "loss": 0.8726577162742615
         },
         {
          "i": 276,
          "loss": 0.8726423382759094
         },
         {
          "i": 277,
          "loss": 0.8726274967193604
         },
         {
          "i": 278,
          "loss": 0.8726130723953247
         },
         {
          "i": 279,
          "loss": 0.8725988268852234
         },
         {
          "i": 280,
          "loss": 0.8725852370262146
         },
         {
          "i": 281,
          "loss": 0.872571587562561
         },
         {
          "i": 282,
          "loss": 0.8725585341453552
         },
         {
          "i": 283,
          "loss": 0.8725457787513733
         },
         {
          "i": 284,
          "loss": 0.8725330829620361
         },
         {
          "i": 285,
          "loss": 0.8725210428237915
         },
         {
          "i": 286,
          "loss": 0.8725090622901917
         },
         {
          "i": 287,
          "loss": 0.8724973797798157
         },
         {
          "i": 288,
          "loss": 0.8724861145019531
         },
         {
          "i": 289,
          "loss": 0.8724750280380249
         },
         {
          "i": 290,
          "loss": 0.8724642992019653
         },
         {
          "i": 291,
          "loss": 0.8724536299705505
         },
         {
          "i": 292,
          "loss": 0.8724433779716492
         },
         {
          "i": 293,
          "loss": 0.8724333047866821
         },
         {
          "i": 294,
          "loss": 0.8724236488342285
         },
         {
          "i": 295,
          "loss": 0.8724139332771301
         },
         {
          "i": 296,
          "loss": 0.8724046945571899
         },
         {
          "i": 297,
          "loss": 0.8723956346511841
         },
         {
          "i": 298,
          "loss": 0.872386634349823
         },
         {
          "i": 299,
          "loss": 0.8723779320716858
         },
         {
          "i": 300,
          "loss": 0.8723695874214172
         },
         {
          "i": 301,
          "loss": 0.8723613023757935
         },
         {
          "i": 302,
          "loss": 0.8723531365394592
         },
         {
          "i": 303,
          "loss": 0.8723452687263489
         },
         {
          "i": 304,
          "loss": 0.8723375797271729
         },
         {
          "i": 305,
          "loss": 0.8723300695419312
         },
         {
          "i": 306,
          "loss": 0.8723227977752686
         },
         {
          "i": 307,
          "loss": 0.8723155856132507
         },
         {
          "i": 308,
          "loss": 0.8723085522651672
         },
         {
          "i": 309,
          "loss": 0.8723019361495972
         },
         {
          "i": 310,
          "loss": 0.8722952008247375
         },
         {
          "i": 311,
          "loss": 0.8722886443138123
         },
         {
          "i": 312,
          "loss": 0.8722823262214661
         },
         {
          "i": 313,
          "loss": 0.872276246547699
         },
         {
          "i": 314,
          "loss": 0.8722702264785767
         },
         {
          "i": 315,
          "loss": 0.8722643256187439
         },
         {
          "i": 316,
          "loss": 0.8722584247589111
         },
         {
          "i": 317,
          "loss": 0.872252881526947
         },
         {
          "i": 318,
          "loss": 0.8722473978996277
         },
         {
          "i": 319,
          "loss": 0.8722421526908875
         },
         {
          "i": 320,
          "loss": 0.8722368478775024
         },
         {
          "i": 321,
          "loss": 0.8722318410873413
         },
         {
          "i": 322,
          "loss": 0.8722267746925354
         },
         {
          "i": 323,
          "loss": 0.8722220063209534
         },
         {
          "i": 324,
          "loss": 0.8722172379493713
         },
         {
          "i": 325,
          "loss": 0.8722125291824341
         },
         {
          "i": 326,
          "loss": 0.8722079992294312
         },
         {
          "i": 327,
          "loss": 0.8722035884857178
         },
         {
          "i": 328,
          "loss": 0.872199296951294
         },
         {
          "i": 329,
          "loss": 0.8721950650215149
         },
         {
          "i": 330,
          "loss": 0.8721909523010254
         },
         {
          "i": 331,
          "loss": 0.8721869587898254
         },
         {
          "i": 332,
          "loss": 0.8721831440925598
         },
         {
          "i": 333,
          "loss": 0.8721792697906494
         },
         {
          "i": 334,
          "loss": 0.8721754550933838
         },
         {
          "i": 335,
          "loss": 0.8721718788146973
         },
         {
          "i": 336,
          "loss": 0.8721683621406555
         },
         {
          "i": 337,
          "loss": 0.8721648454666138
         },
         {
          "i": 338,
          "loss": 0.8721613883972168
         },
         {
          "i": 339,
          "loss": 0.8721580505371094
         },
         {
          "i": 340,
          "loss": 0.872154951095581
         },
         {
          "i": 341,
          "loss": 0.8721518516540527
         },
         {
          "i": 342,
          "loss": 0.8721485733985901
         },
         {
          "i": 343,
          "loss": 0.8721455931663513
         },
         {
          "i": 344,
          "loss": 0.8721427321434021
         },
         {
          "i": 345,
          "loss": 0.8721397519111633
         },
         {
          "i": 346,
          "loss": 0.8721370697021484
         },
         {
          "i": 347,
          "loss": 0.8721343874931335
         },
         {
          "i": 348,
          "loss": 0.8721316456794739
         },
         {
          "i": 349,
          "loss": 0.8721290826797485
         },
         {
          "i": 350,
          "loss": 0.8721264600753784
         },
         {
          "i": 351,
          "loss": 0.8721240162849426
         },
         {
          "i": 352,
          "loss": 0.8721215724945068
         },
         {
          "i": 353,
          "loss": 0.8721193075180054
         },
         {
          "i": 354,
          "loss": 0.8721169233322144
         },
         {
          "i": 355,
          "loss": 0.8721147775650024
         },
         {
          "i": 356,
          "loss": 0.872112512588501
         },
         {
          "i": 357,
          "loss": 0.8721103668212891
         },
         {
          "i": 358,
          "loss": 0.8721082210540771
         },
         {
          "i": 359,
          "loss": 0.8721063137054443
         },
         {
          "i": 360,
          "loss": 0.8721041679382324
         },
         {
          "i": 361,
          "loss": 0.8721020221710205
         },
         {
          "i": 362,
          "loss": 0.872100293636322
         },
         {
          "i": 363,
          "loss": 0.8720985651016235
         },
         {
          "i": 364,
          "loss": 0.8720965385437012
         },
         {
          "i": 365,
          "loss": 0.8720948100090027
         },
         {
          "i": 366,
          "loss": 0.8720930218696594
         },
         {
          "i": 367,
          "loss": 0.8720913529396057
         },
         {
          "i": 368,
          "loss": 0.872089684009552
         },
         {
          "i": 369,
          "loss": 0.8720880746841431
         },
         {
          "i": 370,
          "loss": 0.8720865845680237
         },
         {
          "i": 371,
          "loss": 0.8720850348472595
         },
         {
          "i": 372,
          "loss": 0.8720836043357849
         },
         {
          "i": 373,
          "loss": 0.8720820546150208
         },
         {
          "i": 374,
          "loss": 0.8720807433128357
         },
         {
          "i": 375,
          "loss": 0.8720792531967163
         },
         {
          "i": 376,
          "loss": 0.8720777630805969
         },
         {
          "i": 377,
          "loss": 0.8720765709877014
         },
         {
          "i": 378,
          "loss": 0.8720751404762268
         },
         {
          "i": 379,
          "loss": 0.8720738887786865
         },
         {
          "i": 380,
          "loss": 0.872072696685791
         },
         {
          "i": 381,
          "loss": 0.8720713257789612
         },
         {
          "i": 382,
          "loss": 0.8720703125
         },
         {
          "i": 383,
          "loss": 0.8720691800117493
         },
         {
          "i": 384,
          "loss": 0.8720681667327881
         },
         {
          "i": 385,
          "loss": 0.872066855430603
         },
         {
          "i": 386,
          "loss": 0.8720657825469971
         },
         {
          "i": 387,
          "loss": 0.8720647692680359
         },
         {
          "i": 388,
          "loss": 0.8720635771751404
         },
         {
          "i": 389,
          "loss": 0.872062623500824
         },
         {
          "i": 390,
          "loss": 0.8720617890357971
         },
         {
          "i": 391,
          "loss": 0.8720607161521912
         },
         {
          "i": 392,
          "loss": 0.8720599412918091
         },
         {
          "i": 393,
          "loss": 0.8720589280128479
         },
         {
          "i": 394,
          "loss": 0.8720578551292419
         },
         {
          "i": 395,
          "loss": 0.8720571994781494
         },
         {
          "i": 396,
          "loss": 0.872056245803833
         },
         {
          "i": 397,
          "loss": 0.8720554113388062
         },
         {
          "i": 398,
          "loss": 0.8720546960830688
         },
         {
          "i": 399,
          "loss": 0.8720539212226868
         },
         {
          "i": 400,
          "loss": 0.8720531463623047
         },
         {
          "i": 401,
          "loss": 0.8720522522926331
         },
         {
          "i": 402,
          "loss": 0.8720515966415405
         },
         {
          "i": 403,
          "loss": 0.8720508813858032
         },
         {
          "i": 404,
          "loss": 0.8720501065254211
         },
         {
          "i": 405,
          "loss": 0.8720495104789734
         },
         {
          "i": 406,
          "loss": 0.8720489740371704
         },
         {
          "i": 407,
          "loss": 0.8720481991767883
         },
         {
          "i": 408,
          "loss": 0.872047483921051
         },
         {
          "i": 409,
          "loss": 0.8720468878746033
         },
         {
          "i": 410,
          "loss": 0.8720462918281555
         },
         {
          "i": 411,
          "loss": 0.8720457553863525
         },
         {
          "i": 412,
          "loss": 0.8720450401306152
         },
         {
          "i": 413,
          "loss": 0.8720446228981018
         },
         {
          "i": 414,
          "loss": 0.8720439672470093
         },
         {
          "i": 415,
          "loss": 0.8720433115959167
         },
         {
          "i": 416,
          "loss": 0.8720428943634033
         },
         {
          "i": 417,
          "loss": 0.8720424175262451
         },
         {
          "i": 418,
          "loss": 0.8720417618751526
         },
         {
          "i": 419,
          "loss": 0.8720414042472839
         },
         {
          "i": 420,
          "loss": 0.8720409274101257
         },
         {
          "i": 421,
          "loss": 0.8720403909683228
         },
         {
          "i": 422,
          "loss": 0.8720399737358093
         },
         {
          "i": 423,
          "loss": 0.8720394968986511
         },
         {
          "i": 424,
          "loss": 0.8720390796661377
         },
         {
          "i": 425,
          "loss": 0.8720386624336243
         },
         {
          "i": 426,
          "loss": 0.8720382452011108
         },
         {
          "i": 427,
          "loss": 0.8720378875732422
         },
         {
          "i": 428,
          "loss": 0.872037410736084
         },
         {
          "i": 429,
          "loss": 0.8720370531082153
         },
         {
          "i": 430,
          "loss": 0.8720366954803467
         },
         {
          "i": 431,
          "loss": 0.8720362782478333
         },
         {
          "i": 432,
          "loss": 0.872035801410675
         },
         {
          "i": 433,
          "loss": 0.8720355033874512
         },
         {
          "i": 434,
          "loss": 0.8720352053642273
         },
         {
          "i": 435,
          "loss": 0.8720349073410034
         },
         {
          "i": 436,
          "loss": 0.8720346093177795
         },
         {
          "i": 437,
          "loss": 0.8720341324806213
         },
         {
          "i": 438,
          "loss": 0.8720338940620422
         },
         {
          "i": 439,
          "loss": 0.8720335960388184
         },
         {
          "i": 440,
          "loss": 0.8720332384109497
         },
         {
          "i": 441,
          "loss": 0.8720329999923706
         },
         {
          "i": 442,
          "loss": 0.872032642364502
         },
         {
          "i": 443,
          "loss": 0.8720324039459229
         },
         {
          "i": 444,
          "loss": 0.8720321655273438
         },
         {
          "i": 445,
          "loss": 0.8720319271087646
         },
         {
          "i": 446,
          "loss": 0.8720316290855408
         },
         {
          "i": 447,
          "loss": 0.8720314502716064
         },
         {
          "i": 448,
          "loss": 0.8720311522483826
         },
         {
          "i": 449,
          "loss": 0.8720309734344482
         },
         {
          "i": 450,
          "loss": 0.8720306158065796
         },
         {
          "i": 451,
          "loss": 0.8720304369926453
         },
         {
          "i": 452,
          "loss": 0.8720301985740662
         },
         {
          "i": 453,
          "loss": 0.8720299601554871
         },
         {
          "i": 454,
          "loss": 0.872029721736908
         },
         {
          "i": 455,
          "loss": 0.8720295429229736
         },
         {
          "i": 456,
          "loss": 0.8720294237136841
         },
         {
          "i": 457,
          "loss": 0.872029185295105
         },
         {
          "i": 458,
          "loss": 0.8720288872718811
         },
         {
          "i": 459,
          "loss": 0.8720288276672363
         },
         {
          "i": 460,
          "loss": 0.8720285892486572
         },
         {
          "i": 461,
          "loss": 0.8720284104347229
         },
         {
          "i": 462,
          "loss": 0.8720281720161438
         },
         {
          "i": 463,
          "loss": 0.8720280528068542
         },
         {
          "i": 464,
          "loss": 0.8720278739929199
         },
         {
          "i": 465,
          "loss": 0.872027575969696
         },
         {
          "i": 466,
          "loss": 0.8720275163650513
         },
         {
          "i": 467,
          "loss": 0.8720274567604065
         },
         {
          "i": 468,
          "loss": 0.8720270395278931
         },
         {
          "i": 469,
          "loss": 0.8720271587371826
         },
         {
          "i": 470,
          "loss": 0.8720269203186035
         },
         {
          "i": 471,
          "loss": 0.8720267415046692
         },
         {
          "i": 472,
          "loss": 0.8720266819000244
         },
         {
          "i": 473,
          "loss": 0.8720264434814453
         },
         {
          "i": 474,
          "loss": 0.8720263838768005
         },
         {
          "i": 475,
          "loss": 0.8720262050628662
         },
         {
          "i": 476,
          "loss": 0.8720261454582214
         },
         {
          "i": 477,
          "loss": 0.8720259070396423
         },
         {
          "i": 478,
          "loss": 0.8720258474349976
         },
         {
          "i": 479,
          "loss": 0.872025728225708
         },
         {
          "i": 480,
          "loss": 0.872025728225708
         },
         {
          "i": 481,
          "loss": 0.8720256090164185
         },
         {
          "i": 482,
          "loss": 0.8720254302024841
         },
         {
          "i": 483,
          "loss": 0.8720253109931946
         },
         {
          "i": 484,
          "loss": 0.8720250725746155
         },
         {
          "i": 485,
          "loss": 0.8720251321792603
         },
         {
          "i": 486,
          "loss": 0.8720250129699707
         },
         {
          "i": 487,
          "loss": 0.8720248341560364
         },
         {
          "i": 488,
          "loss": 0.8720248341560364
         },
         {
          "i": 489,
          "loss": 0.8720247745513916
         },
         {
          "i": 490,
          "loss": 0.8720245361328125
         },
         {
          "i": 491,
          "loss": 0.8720245361328125
         },
         {
          "i": 492,
          "loss": 0.8720244765281677
         },
         {
          "i": 493,
          "loss": 0.8720242977142334
         },
         {
          "i": 494,
          "loss": 0.8720242381095886
         },
         {
          "i": 495,
          "loss": 0.8720240592956543
         },
         {
          "i": 496,
          "loss": 0.8720240592956543
         },
         {
          "i": 497,
          "loss": 0.8720239996910095
         },
         {
          "i": 498,
          "loss": 0.8720239400863647
         },
         {
          "i": 499,
          "loss": 0.8720238208770752
         }
        ]
       },
       "encoding": {
        "x": {
         "field": "i",
         "type": "quantitative"
        },
        "y": {
         "field": "loss",
         "type": "quantitative"
        }
       },
       "height": 100,
       "mark": "line"
      },
      "image/png": "[encoded data removed]",
      "text/plain": [
       "<VegaLite 3 object>\n",
       "\n",
       "If you see this message, it means the renderer has not been properly enabled\n",
       "for the frontend that you are using. For more information, see\n",
       "https://altair-viz.github.io/user_guide/troubleshooting.html\n"
      ]
     },
     "execution_count": 90,
     "metadata": {},
     "output_type": "execute_result"
    }
   ],
   "source": [
    "import altair as alt\n",
    "import pandas as pd\n",
    "\n",
    "loss_df = pd.DataFrame({'i':range(500), 'loss':loss_record})\n",
    "alt.Chart(loss_df, height=100).mark_line().encode(x='i', y='loss')"
   ]
  },
  {
   "cell_type": "markdown",
   "metadata": {},
   "source": [
    "We see training loss goes down."
   ]
  },
  {
   "cell_type": "markdown",
   "metadata": {},
   "source": [
    "And here's the value of $\\beta$ after 500 iterations:"
   ]
  },
  {
   "cell_type": "code",
   "execution_count": 91,
   "metadata": {},
   "outputs": [
    {
     "data": {
      "text/plain": [
       "tensor([[ 0.0952],\n",
       "        [-0.1218],\n",
       "        [-0.1502],\n",
       "        [-0.1120],\n",
       "        [-0.0219],\n",
       "        [ 0.1727]], requires_grad=True)"
      ]
     },
     "execution_count": 91,
     "metadata": {},
     "output_type": "execute_result"
    }
   ],
   "source": [
    "β"
   ]
  },
  {
   "cell_type": "markdown",
   "metadata": {},
   "source": [
    "Remember our original data is totally random and there is no relationship between the predictors and outcomes. So the \"right\" answer for what $\\beta$ should be in this case is $\\beta=0$. As we see above, all the values are near 0, so our algorithm appears to be converging to the right answer."
   ]
  },
  {
   "cell_type": "markdown",
   "metadata": {},
   "source": [
    "To predict for a new observation, all we have to do is multiply by $\\beta$ and add the intercept:"
   ]
  },
  {
   "cell_type": "code",
   "execution_count": 92,
   "metadata": {},
   "outputs": [
    {
     "data": {
      "text/plain": [
       "tensor([[-0.1722],\n",
       "        [ 0.3556],\n",
       "        [-0.0930],\n",
       "        [-0.0107],\n",
       "        [-0.1134],\n",
       "        [ 0.1378],\n",
       "        [ 0.4761],\n",
       "        [-0.3901],\n",
       "        [ 0.2622],\n",
       "        [-0.6157]], grad_fn=<AddBackward0>)"
      ]
     },
     "execution_count": 92,
     "metadata": {},
     "output_type": "execute_result"
    }
   ],
   "source": [
    "new_x = torch.randn(10, 5) # 10 new observations\n",
    "torch.matmul(new_x, β[1:]) + β[0] # predictions"
   ]
  },
  {
   "cell_type": "markdown",
   "metadata": {},
   "source": [
    "### Conclusion"
   ]
  },
  {
   "cell_type": "markdown",
   "metadata": {},
   "source": [
    "We just developed a machine learning method out of these three components:\n",
    "* linear model (model)\n",
    "* MSE loss (loss)\n",
    "* gradient descent (search algorithm)\n",
    "\n",
    "These components are like interchangable parts. We're going to see how we can use a different model and loss to fit data of a different kind without fundamentally changing our search strategy."
   ]
  },
  {
   "cell_type": "markdown",
   "metadata": {},
   "source": [
    "# Logistic Regression"
   ]
  },
  {
   "cell_type": "markdown",
   "metadata": {},
   "source": [
    "Now that we've seen how this works for linear regression, we can try and implement a model that predicts probabilities for a two-class outcome instead of a prediction for a continuous outcome. Now our data look like this:"
   ]
  },
  {
   "cell_type": "code",
   "execution_count": 93,
   "metadata": {},
   "outputs": [],
   "source": [
    "n,p = 100,5\n",
    "x = torch.randn(n,5) # predictors (10 observations, 5 features)\n",
    "y = torch.randint(0,2,(n,), dtype=torch.float) # outcomes (10 observations)"
   ]
  },
  {
   "cell_type": "code",
   "execution_count": 94,
   "metadata": {},
   "outputs": [
    {
     "data": {
      "text/plain": [
       "tensor([0., 0., 1., 0., 1.])"
      ]
     },
     "execution_count": 94,
     "metadata": {},
     "output_type": "execute_result"
    }
   ],
   "source": [
    "y[0:5]"
   ]
  },
  {
   "cell_type": "markdown",
   "metadata": {},
   "source": [
    "## Changing the model"
   ]
  },
  {
   "cell_type": "markdown",
   "metadata": {},
   "source": [
    "To do this, we have to change two things: firstly, our model can't be $\\hat y_i  = x_i\\beta_{1:p} + \\beta_0$ anymore because $\\hat y_i$ will come out as a number between plus and minus infinity, wheras we now want it to be a number between 0 and 1 (a probability). To fix this, we'll apply a function that takes $x_i\\beta_{1:p} + \\beta_0$ and squishes it down to a number between 0 and 1. The function we'll use is $\\sigma(z) = \\frac{1}{1+e^{-z}}$, which is called the *sigmoid* or *logistic* function. "
   ]
  },
  {
   "cell_type": "markdown",
   "metadata": {},
   "source": [
    "![](https://upload.wikimedia.org/wikipedia/commons/thumb/8/88/Logistic-curve.svg/600px-Logistic-curve.svg.png)"
   ]
  },
  {
   "cell_type": "markdown",
   "metadata": {},
   "source": [
    "So our model will be $\\hat p_i  = \\sigma(x_i\\beta_{1:p} + \\beta_0)$. The parameters are still $\\beta$, but now there is an additional (fixed) squishing function that makes sure the output is a probability. In accordance, I've called the output $\\hat p_i$ instead of $\\hat y_i$."
   ]
  },
  {
   "cell_type": "markdown",
   "metadata": {},
   "source": [
    "## Changing the loss"
   ]
  },
  {
   "cell_type": "markdown",
   "metadata": {},
   "source": [
    "Our loss function from before was MSE: $\\sum (\\hat y_i - y_i)^2$, which compares a predicted outcome to the true outcome. One option is to replace the predicted outcome with a predicted probability to get $\\sum (\\hat p_i - y_i)^2$ (the _Brier Score_). Here's what that looks like (for a single observation $i$):"
   ]
  },
  {
   "cell_type": "markdown",
   "metadata": {},
   "source": [
    "![](http://journal.sjdm.org/16/16218/jdm16218001.png)"
   ]
  },
  {
   "cell_type": "markdown",
   "metadata": {},
   "source": [
    "This is ok, but many people don't like that there is a maximum penalty under this loss: if the true outcome was $y_i =0$ but the model predicts $p_j = P(Y_i=1) = 1$ (i.e. $y_i =1$ with absolute certainty), then the penalty should be infinitely high to strongly discrourage this kind of overconfident (wrong) prediction. Under the Brier score, however, you can see that this kind of prediction only incurrs a loss of 1, not infinity. Furthermore, when the outcome is 1 and the prediction gets closer and closer to 1, we see that the loss \"flattens out\", which means that we're not encouraged to be more and more confident when we're right."
   ]
  },
  {
   "cell_type": "markdown",
   "metadata": {},
   "source": [
    "What we want is a loss function that looks like this:"
   ]
  },
  {
   "cell_type": "markdown",
   "metadata": {},
   "source": [
    "![](https://conorsdatablog.files.wordpress.com/2018/03/log_loss.png?w=615&h=597)"
   ]
  },
  {
   "cell_type": "markdown",
   "metadata": {},
   "source": [
    "This is called the _log-loss_ (or _cross-entropy loss_ or _binomial deviance_). It is expressed as \n",
    "\n",
    "$$\n",
    "L(\\hat p, y) = \n",
    "\\frac{1}{n}\n",
    "\\sum_i \n",
    "\\begin{cases}\n",
    "-\\log(P(Y_i = 1)) & \\text{if}\\ y_i=1 \\\\\n",
    "-\\log(P(Y_i = 0)) & \\text{if}\\ y_i=0\n",
    "\\end{cases}\n",
    "$$"
   ]
  },
  {
   "cell_type": "markdown",
   "metadata": {},
   "source": [
    "which is the same as "
   ]
  },
  {
   "cell_type": "markdown",
   "metadata": {},
   "source": [
    "$$\n",
    "=\n",
    "\\frac{1}{n}\n",
    "\\sum_i \n",
    "\\begin{cases}\n",
    "-\\log(\\hat p_i) & \\text{if}\\ y_i=1 \\\\\n",
    "-\\log(1-\\hat p_i) & \\text{if}\\ y_i=0\n",
    "\\end{cases}\n",
    "\\\\\n",
    "= \n",
    "-\\frac{1}{n}\n",
    "\\sum_i \n",
    "y_i \\log(\\hat p_i) + (1-y_i) \\log (1-\\hat p_i)\n",
    "$$"
   ]
  },
  {
   "cell_type": "markdown",
   "metadata": {},
   "source": [
    "## Search strategy is still gradient descent"
   ]
  },
  {
   "cell_type": "markdown",
   "metadata": {},
   "source": [
    "This combination of logistic-linear model and log-loss is called _logistic regression_ (although this is a misnomer because we're actually doing classification, not regression). The amazing thing about gradient descent is that, as long as you can differentiate through the loss and to the model parameters, it just works. Compare this code to what we did to fit our linear regression model."
   ]
  },
  {
   "cell_type": "code",
   "execution_count": 95,
   "metadata": {},
   "outputs": [
    {
     "data": {
      "text/plain": [
       "tensor([[-1.6644],\n",
       "        [-1.8794],\n",
       "        [ 1.4279],\n",
       "        [-1.1967],\n",
       "        [-0.1365],\n",
       "        [ 0.8001]], requires_grad=True)"
      ]
     },
     "execution_count": 95,
     "metadata": {},
     "output_type": "execute_result"
    }
   ],
   "source": [
    "x = torch.randn(n, p) # predictors (10 observations, 5 features)\n",
    "y = torch.randint(0,2,(n,), dtype=torch.float) # outcomes (10 observations)\n",
    "\n",
    "loss_record = [] # to kep track of the loss over the iterations\n",
    "β = torch.randn(p+1,1) # 5 coefficients (one per feature)\n",
    "β.requires_grad_() # tell torch that β is going to have to save the gradient of something with respect to itself at some point"
   ]
  },
  {
   "cell_type": "code",
   "execution_count": 96,
   "metadata": {},
   "outputs": [],
   "source": [
    "for e in range(500):\n",
    "    z = torch.matmul(x, β[1:]) + β[0]  \n",
    "    p̂ = torch.exp(-z)/(1+torch.exp(-z))\n",
    "    L = -torch.sum(torch.log(p̂)*y + torch.log(1-p̂)*(1-y))/n # log loss\n",
    "    \n",
    "    L.backward() # compute gradients (in this case δL/δβ, δL/δW)\n",
    "    loss_record.append(L.item())\n",
    "    \n",
    "    with torch.no_grad(): # take the gradient descent step \n",
    "        β -= 10e-4 * β.grad\n",
    "        β.grad.zero_()"
   ]
  },
  {
   "cell_type": "code",
   "execution_count": 97,
   "metadata": {},
   "outputs": [
    {
     "data": {
      "application/vnd.vegalite.v3+json": {
       "$schema": "https://vega.github.io/schema/vega-lite/v3.4.0.json",
       "config": {
        "mark": {
         "tooltip": null
        },
        "view": {
         "height": 300,
         "width": 400
        }
       },
       "data": {
        "name": "data-ce50873edebab536f015586d98a7de98"
       },
       "datasets": {
        "data-ce50873edebab536f015586d98a7de98": [
         {
          "i": 0,
          "loss": 151.46730041503906
         },
         {
          "i": 1,
          "loss": 150.10211181640625
         },
         {
          "i": 2,
          "loss": 148.7447509765625
         },
         {
          "i": 3,
          "loss": 147.39532470703125
         },
         {
          "i": 4,
          "loss": 146.05404663085938
         },
         {
          "i": 5,
          "loss": 144.7208709716797
         },
         {
          "i": 6,
          "loss": 143.3961181640625
         },
         {
          "i": 7,
          "loss": 142.0798797607422
         },
         {
          "i": 8,
          "loss": 140.77220153808594
         },
         {
          "i": 9,
          "loss": 139.47332763671875
         },
         {
          "i": 10,
          "loss": 138.1833953857422
         },
         {
          "i": 11,
          "loss": 136.90257263183594
         },
         {
          "i": 12,
          "loss": 135.63082885742188
         },
         {
          "i": 13,
          "loss": 134.36856079101562
         },
         {
          "i": 14,
          "loss": 133.11581420898438
         },
         {
          "i": 15,
          "loss": 131.8726348876953
         },
         {
          "i": 16,
          "loss": 130.6395263671875
         },
         {
          "i": 17,
          "loss": 129.41632080078125
         },
         {
          "i": 18,
          "loss": 128.20318603515625
         },
         {
          "i": 19,
          "loss": 127.00033569335938
         },
         {
          "i": 20,
          "loss": 125.80817413330078
         },
         {
          "i": 21,
          "loss": 124.62639617919922
         },
         {
          "i": 22,
          "loss": 123.45561218261719
         },
         {
          "i": 23,
          "loss": 122.29582214355469
         },
         {
          "i": 24,
          "loss": 121.14714813232422
         },
         {
          "i": 25,
          "loss": 120.00985717773438
         },
         {
          "i": 26,
          "loss": 118.884033203125
         },
         {
          "i": 27,
          "loss": 117.76981353759766
         },
         {
          "i": 28,
          "loss": 116.66744232177734
         },
         {
          "i": 29,
          "loss": 115.57726287841797
         },
         {
          "i": 30,
          "loss": 114.49919128417969
         },
         {
          "i": 31,
          "loss": 113.43335723876953
         },
         {
          "i": 32,
          "loss": 112.38021850585938
         },
         {
          "i": 33,
          "loss": 111.33967590332031
         },
         {
          "i": 34,
          "loss": 110.3120346069336
         },
         {
          "i": 35,
          "loss": 109.29736328125
         },
         {
          "i": 36,
          "loss": 108.2959976196289
         },
         {
          "i": 37,
          "loss": 107.30783081054688
         },
         {
          "i": 38,
          "loss": 106.33319091796875
         },
         {
          "i": 39,
          "loss": 105.3722152709961
         },
         {
          "i": 40,
          "loss": 104.4250717163086
         },
         {
          "i": 41,
          "loss": 103.491943359375
         },
         {
          "i": 42,
          "loss": 102.57266235351562
         },
         {
          "i": 43,
          "loss": 101.66783142089844
         },
         {
          "i": 44,
          "loss": 100.7772445678711
         },
         {
          "i": 45,
          "loss": 99.9010238647461
         },
         {
          "i": 46,
          "loss": 99.03961181640625
         },
         {
          "i": 47,
          "loss": 98.19265747070312
         },
         {
          "i": 48,
          "loss": 97.36062622070312
         },
         {
          "i": 49,
          "loss": 96.54334259033203
         },
         {
          "i": 50,
          "loss": 95.74102783203125
         },
         {
          "i": 51,
          "loss": 94.95374298095703
         },
         {
          "i": 52,
          "loss": 94.18151092529297
         },
         {
          "i": 53,
          "loss": 93.42442321777344
         },
         {
          "i": 54,
          "loss": 92.68255615234375
         },
         {
          "i": 55,
          "loss": 91.9557876586914
         },
         {
          "i": 56,
          "loss": 91.24414825439453
         },
         {
          "i": 57,
          "loss": 90.54795837402344
         },
         {
          "i": 58,
          "loss": 89.8668441772461
         },
         {
          "i": 59,
          "loss": 89.2009506225586
         },
         {
          "i": 60,
          "loss": 88.55017852783203
         },
         {
          "i": 61,
          "loss": 87.91466522216797
         },
         {
          "i": 62,
          "loss": 87.2941665649414
         },
         {
          "i": 63,
          "loss": 86.68865966796875
         },
         {
          "i": 64,
          "loss": 86.09807586669922
         },
         {
          "i": 65,
          "loss": 85.52241516113281
         },
         {
          "i": 66,
          "loss": 84.96147155761719
         },
         {
          "i": 67,
          "loss": 84.41517639160156
         },
         {
          "i": 68,
          "loss": 83.88327026367188
         },
         {
          "i": 69,
          "loss": 83.3658218383789
         },
         {
          "i": 70,
          "loss": 82.8625717163086
         },
         {
          "i": 71,
          "loss": 82.37342071533203
         },
         {
          "i": 72,
          "loss": 81.89815521240234
         },
         {
          "i": 73,
          "loss": 81.43661499023438
         },
         {
          "i": 74,
          "loss": 80.98855590820312
         },
         {
          "i": 75,
          "loss": 80.55387878417969
         },
         {
          "i": 76,
          "loss": 80.13233947753906
         },
         {
          "i": 77,
          "loss": 79.72367858886719
         },
         {
          "i": 78,
          "loss": 79.32771301269531
         },
         {
          "i": 79,
          "loss": 78.94424438476562
         },
         {
          "i": 80,
          "loss": 78.5730209350586
         },
         {
          "i": 81,
          "loss": 78.21382141113281
         },
         {
          "i": 82,
          "loss": 77.86624145507812
         },
         {
          "i": 83,
          "loss": 77.53028869628906
         },
         {
          "i": 84,
          "loss": 77.20553588867188
         },
         {
          "i": 85,
          "loss": 76.89178466796875
         },
         {
          "i": 86,
          "loss": 76.58881378173828
         },
         {
          "i": 87,
          "loss": 76.29634094238281
         },
         {
          "i": 88,
          "loss": 76.01408386230469
         },
         {
          "i": 89,
          "loss": 75.74169158935547
         },
         {
          "i": 90,
          "loss": 75.4791259765625
         },
         {
          "i": 91,
          "loss": 75.22590637207031
         },
         {
          "i": 92,
          "loss": 74.98193359375
         },
         {
          "i": 93,
          "loss": 74.7469253540039
         },
         {
          "i": 94,
          "loss": 74.52050018310547
         },
         {
          "i": 95,
          "loss": 74.30248260498047
         },
         {
          "i": 96,
          "loss": 74.0926513671875
         },
         {
          "i": 97,
          "loss": 73.89073944091797
         },
         {
          "i": 98,
          "loss": 73.69640350341797
         },
         {
          "i": 99,
          "loss": 73.50959777832031
         },
         {
          "i": 100,
          "loss": 73.33002471923828
         },
         {
          "i": 101,
          "loss": 73.15733337402344
         },
         {
          "i": 102,
          "loss": 72.9913101196289
         },
         {
          "i": 103,
          "loss": 72.83184051513672
         },
         {
          "i": 104,
          "loss": 72.67857360839844
         },
         {
          "i": 105,
          "loss": 72.53144836425781
         },
         {
          "i": 106,
          "loss": 72.3901138305664
         },
         {
          "i": 107,
          "loss": 72.25444030761719
         },
         {
          "i": 108,
          "loss": 72.12413787841797
         },
         {
          "i": 109,
          "loss": 71.99919128417969
         },
         {
          "i": 110,
          "loss": 71.87921142578125
         },
         {
          "i": 111,
          "loss": 71.76415252685547
         },
         {
          "i": 112,
          "loss": 71.65374755859375
         },
         {
          "i": 113,
          "loss": 71.54785919189453
         },
         {
          "i": 114,
          "loss": 71.44622802734375
         },
         {
          "i": 115,
          "loss": 71.34883117675781
         },
         {
          "i": 116,
          "loss": 71.2555160522461
         },
         {
          "i": 117,
          "loss": 71.16593170166016
         },
         {
          "i": 118,
          "loss": 71.08019256591797
         },
         {
          "i": 119,
          "loss": 70.99790954589844
         },
         {
          "i": 120,
          "loss": 70.91902160644531
         },
         {
          "i": 121,
          "loss": 70.84347534179688
         },
         {
          "i": 122,
          "loss": 70.77110290527344
         },
         {
          "i": 123,
          "loss": 70.70172119140625
         },
         {
          "i": 124,
          "loss": 70.63526916503906
         },
         {
          "i": 125,
          "loss": 70.57166290283203
         },
         {
          "i": 126,
          "loss": 70.51062774658203
         },
         {
          "i": 127,
          "loss": 70.45223999023438
         },
         {
          "i": 128,
          "loss": 70.39627075195312
         },
         {
          "i": 129,
          "loss": 70.34263610839844
         },
         {
          "i": 130,
          "loss": 70.29129028320312
         },
         {
          "i": 131,
          "loss": 70.24217987060547
         },
         {
          "i": 132,
          "loss": 70.19511413574219
         },
         {
          "i": 133,
          "loss": 70.1500244140625
         },
         {
          "i": 134,
          "loss": 70.10688781738281
         },
         {
          "i": 135,
          "loss": 70.0655746459961
         },
         {
          "i": 136,
          "loss": 70.02590942382812
         },
         {
          "i": 137,
          "loss": 69.98808288574219
         },
         {
          "i": 138,
          "loss": 69.95181274414062
         },
         {
          "i": 139,
          "loss": 69.91705322265625
         },
         {
          "i": 140,
          "loss": 69.88386535644531
         },
         {
          "i": 141,
          "loss": 69.85193634033203
         },
         {
          "i": 142,
          "loss": 69.8215103149414
         },
         {
          "i": 143,
          "loss": 69.79230499267578
         },
         {
          "i": 144,
          "loss": 69.76441192626953
         },
         {
          "i": 145,
          "loss": 69.73763275146484
         },
         {
          "i": 146,
          "loss": 69.71200561523438
         },
         {
          "i": 147,
          "loss": 69.68753051757812
         },
         {
          "i": 148,
          "loss": 69.66403198242188
         },
         {
          "i": 149,
          "loss": 69.64158630371094
         },
         {
          "i": 150,
          "loss": 69.62005615234375
         },
         {
          "i": 151,
          "loss": 69.59944915771484
         },
         {
          "i": 152,
          "loss": 69.5798110961914
         },
         {
          "i": 153,
          "loss": 69.56090545654297
         },
         {
          "i": 154,
          "loss": 69.54281616210938
         },
         {
          "i": 155,
          "loss": 69.52557373046875
         },
         {
          "i": 156,
          "loss": 69.5090103149414
         },
         {
          "i": 157,
          "loss": 69.49317169189453
         },
         {
          "i": 158,
          "loss": 69.47799682617188
         },
         {
          "i": 159,
          "loss": 69.46349334716797
         },
         {
          "i": 160,
          "loss": 69.44953918457031
         },
         {
          "i": 161,
          "loss": 69.43620300292969
         },
         {
          "i": 162,
          "loss": 69.42349243164062
         },
         {
          "i": 163,
          "loss": 69.41131591796875
         },
         {
          "i": 164,
          "loss": 69.39961242675781
         },
         {
          "i": 165,
          "loss": 69.38841247558594
         },
         {
          "i": 166,
          "loss": 69.37772369384766
         },
         {
          "i": 167,
          "loss": 69.36747741699219
         },
         {
          "i": 168,
          "loss": 69.35767364501953
         },
         {
          "i": 169,
          "loss": 69.34822082519531
         },
         {
          "i": 170,
          "loss": 69.33920288085938
         },
         {
          "i": 171,
          "loss": 69.33058166503906
         },
         {
          "i": 172,
          "loss": 69.32234191894531
         },
         {
          "i": 173,
          "loss": 69.31451416015625
         },
         {
          "i": 174,
          "loss": 69.30691528320312
         },
         {
          "i": 175,
          "loss": 69.29969024658203
         },
         {
          "i": 176,
          "loss": 69.29264831542969
         },
         {
          "i": 177,
          "loss": 69.28607177734375
         },
         {
          "i": 178,
          "loss": 69.27972412109375
         },
         {
          "i": 179,
          "loss": 69.27360534667969
         },
         {
          "i": 180,
          "loss": 69.26776885986328
         },
         {
          "i": 181,
          "loss": 69.26221466064453
         },
         {
          "i": 182,
          "loss": 69.25682067871094
         },
         {
          "i": 183,
          "loss": 69.25177001953125
         },
         {
          "i": 184,
          "loss": 69.2468032836914
         },
         {
          "i": 185,
          "loss": 69.24207305908203
         },
         {
          "i": 186,
          "loss": 69.23757934570312
         },
         {
          "i": 187,
          "loss": 69.23329162597656
         },
         {
          "i": 188,
          "loss": 69.22919464111328
         },
         {
          "i": 189,
          "loss": 69.22517395019531
         },
         {
          "i": 190,
          "loss": 69.2214126586914
         },
         {
          "i": 191,
          "loss": 69.2177734375
         },
         {
          "i": 192,
          "loss": 69.21432495117188
         },
         {
          "i": 193,
          "loss": 69.2109603881836
         },
         {
          "i": 194,
          "loss": 69.20781707763672
         },
         {
          "i": 195,
          "loss": 69.20469665527344
         },
         {
          "i": 196,
          "loss": 69.20183563232422
         },
         {
          "i": 197,
          "loss": 69.19902038574219
         },
         {
          "i": 198,
          "loss": 69.19633483886719
         },
         {
          "i": 199,
          "loss": 69.1937484741211
         },
         {
          "i": 200,
          "loss": 69.19125366210938
         },
         {
          "i": 201,
          "loss": 69.18893432617188
         },
         {
          "i": 202,
          "loss": 69.18669891357422
         },
         {
          "i": 203,
          "loss": 69.18448638916016
         },
         {
          "i": 204,
          "loss": 69.18241119384766
         },
         {
          "i": 205,
          "loss": 69.18041229248047
         },
         {
          "i": 206,
          "loss": 69.17847442626953
         },
         {
          "i": 207,
          "loss": 69.17671203613281
         },
         {
          "i": 208,
          "loss": 69.17497253417969
         },
         {
          "i": 209,
          "loss": 69.17326354980469
         },
         {
          "i": 210,
          "loss": 69.17166137695312
         },
         {
          "i": 211,
          "loss": 69.17008209228516
         },
         {
          "i": 212,
          "loss": 69.16870880126953
         },
         {
          "i": 213,
          "loss": 69.16726684570312
         },
         {
          "i": 214,
          "loss": 69.16586303710938
         },
         {
          "i": 215,
          "loss": 69.16464233398438
         },
         {
          "i": 216,
          "loss": 69.16340637207031
         },
         {
          "i": 217,
          "loss": 69.16212463378906
         },
         {
          "i": 218,
          "loss": 69.1610336303711
         },
         {
          "i": 219,
          "loss": 69.15992736816406
         },
         {
          "i": 220,
          "loss": 69.15885925292969
         },
         {
          "i": 221,
          "loss": 69.15787506103516
         },
         {
          "i": 222,
          "loss": 69.1568832397461
         },
         {
          "i": 223,
          "loss": 69.1559829711914
         },
         {
          "i": 224,
          "loss": 69.15510559082031
         },
         {
          "i": 225,
          "loss": 69.15423583984375
         },
         {
          "i": 226,
          "loss": 69.15343475341797
         },
         {
          "i": 227,
          "loss": 69.15266418457031
         },
         {
          "i": 228,
          "loss": 69.15192413330078
         },
         {
          "i": 229,
          "loss": 69.15119934082031
         },
         {
          "i": 230,
          "loss": 69.1505126953125
         },
         {
          "i": 231,
          "loss": 69.14987182617188
         },
         {
          "i": 232,
          "loss": 69.14923095703125
         },
         {
          "i": 233,
          "loss": 69.14862060546875
         },
         {
          "i": 234,
          "loss": 69.14801788330078
         },
         {
          "i": 235,
          "loss": 69.14745330810547
         },
         {
          "i": 236,
          "loss": 69.14694213867188
         },
         {
          "i": 237,
          "loss": 69.14646911621094
         },
         {
          "i": 238,
          "loss": 69.14594268798828
         },
         {
          "i": 239,
          "loss": 69.14550018310547
         },
         {
          "i": 240,
          "loss": 69.1450424194336
         },
         {
          "i": 241,
          "loss": 69.14462280273438
         },
         {
          "i": 242,
          "loss": 69.14418029785156
         },
         {
          "i": 243,
          "loss": 69.14380645751953
         },
         {
          "i": 244,
          "loss": 69.1434326171875
         },
         {
          "i": 245,
          "loss": 69.14306640625
         },
         {
          "i": 246,
          "loss": 69.1427001953125
         },
         {
          "i": 247,
          "loss": 69.14236450195312
         },
         {
          "i": 248,
          "loss": 69.14202880859375
         },
         {
          "i": 249,
          "loss": 69.14175415039062
         },
         {
          "i": 250,
          "loss": 69.1414566040039
         },
         {
          "i": 251,
          "loss": 69.14125061035156
         },
         {
          "i": 252,
          "loss": 69.14094543457031
         },
         {
          "i": 253,
          "loss": 69.14066314697266
         },
         {
          "i": 254,
          "loss": 69.14043426513672
         },
         {
          "i": 255,
          "loss": 69.14017486572266
         },
         {
          "i": 256,
          "loss": 69.13996124267578
         },
         {
          "i": 257,
          "loss": 69.13969421386719
         },
         {
          "i": 258,
          "loss": 69.13951873779297
         },
         {
          "i": 259,
          "loss": 69.1392593383789
         },
         {
          "i": 260,
          "loss": 69.13909912109375
         },
         {
          "i": 261,
          "loss": 69.13888549804688
         },
         {
          "i": 262,
          "loss": 69.13878631591797
         },
         {
          "i": 263,
          "loss": 69.13855743408203
         },
         {
          "i": 264,
          "loss": 69.1384506225586
         },
         {
          "i": 265,
          "loss": 69.13831329345703
         },
         {
          "i": 266,
          "loss": 69.13815307617188
         },
         {
          "i": 267,
          "loss": 69.13802337646484
         },
         {
          "i": 268,
          "loss": 69.13786315917969
         },
         {
          "i": 269,
          "loss": 69.13770294189453
         },
         {
          "i": 270,
          "loss": 69.1375503540039
         },
         {
          "i": 271,
          "loss": 69.13745880126953
         },
         {
          "i": 272,
          "loss": 69.1373062133789
         },
         {
          "i": 273,
          "loss": 69.1371841430664
         },
         {
          "i": 274,
          "loss": 69.13710021972656
         },
         {
          "i": 275,
          "loss": 69.13700103759766
         },
         {
          "i": 276,
          "loss": 69.13691711425781
         },
         {
          "i": 277,
          "loss": 69.13677978515625
         },
         {
          "i": 278,
          "loss": 69.13672637939453
         },
         {
          "i": 279,
          "loss": 69.13663482666016
         },
         {
          "i": 280,
          "loss": 69.13652801513672
         },
         {
          "i": 281,
          "loss": 69.13652038574219
         },
         {
          "i": 282,
          "loss": 69.13641357421875
         },
         {
          "i": 283,
          "loss": 69.1363525390625
         },
         {
          "i": 284,
          "loss": 69.13622283935547
         },
         {
          "i": 285,
          "loss": 69.13616180419922
         },
         {
          "i": 286,
          "loss": 69.1361312866211
         },
         {
          "i": 287,
          "loss": 69.13610076904297
         },
         {
          "i": 288,
          "loss": 69.13599395751953
         },
         {
          "i": 289,
          "loss": 69.13594055175781
         },
         {
          "i": 290,
          "loss": 69.13589477539062
         },
         {
          "i": 291,
          "loss": 69.13587188720703
         },
         {
          "i": 292,
          "loss": 69.13578796386719
         },
         {
          "i": 293,
          "loss": 69.13574981689453
         },
         {
          "i": 294,
          "loss": 69.13569641113281
         },
         {
          "i": 295,
          "loss": 69.13568115234375
         },
         {
          "i": 296,
          "loss": 69.13561248779297
         },
         {
          "i": 297,
          "loss": 69.13555145263672
         },
         {
          "i": 298,
          "loss": 69.13555908203125
         },
         {
          "i": 299,
          "loss": 69.1355209350586
         },
         {
          "i": 300,
          "loss": 69.1354751586914
         },
         {
          "i": 301,
          "loss": 69.13541412353516
         },
         {
          "i": 302,
          "loss": 69.13544464111328
         },
         {
          "i": 303,
          "loss": 69.13540649414062
         },
         {
          "i": 304,
          "loss": 69.13533020019531
         },
         {
          "i": 305,
          "loss": 69.13534545898438
         },
         {
          "i": 306,
          "loss": 69.13529205322266
         },
         {
          "i": 307,
          "loss": 69.13520050048828
         },
         {
          "i": 308,
          "loss": 69.1352310180664
         },
         {
          "i": 309,
          "loss": 69.13516235351562
         },
         {
          "i": 310,
          "loss": 69.13516998291016
         },
         {
          "i": 311,
          "loss": 69.13506317138672
         },
         {
          "i": 312,
          "loss": 69.13511657714844
         },
         {
          "i": 313,
          "loss": 69.13510131835938
         },
         {
          "i": 314,
          "loss": 69.13505554199219
         },
         {
          "i": 315,
          "loss": 69.13504028320312
         },
         {
          "i": 316,
          "loss": 69.13501739501953
         },
         {
          "i": 317,
          "loss": 69.1350326538086
         },
         {
          "i": 318,
          "loss": 69.13497924804688
         },
         {
          "i": 319,
          "loss": 69.13496398925781
         },
         {
          "i": 320,
          "loss": 69.13497161865234
         },
         {
          "i": 321,
          "loss": 69.13493347167969
         },
         {
          "i": 322,
          "loss": 69.13493347167969
         },
         {
          "i": 323,
          "loss": 69.1348876953125
         },
         {
          "i": 324,
          "loss": 69.13491821289062
         },
         {
          "i": 325,
          "loss": 69.13490295410156
         },
         {
          "i": 326,
          "loss": 69.13485717773438
         },
         {
          "i": 327,
          "loss": 69.13488006591797
         },
         {
          "i": 328,
          "loss": 69.13488006591797
         },
         {
          "i": 329,
          "loss": 69.1348648071289
         },
         {
          "i": 330,
          "loss": 69.13480377197266
         },
         {
          "i": 331,
          "loss": 69.13483428955078
         },
         {
          "i": 332,
          "loss": 69.13484191894531
         },
         {
          "i": 333,
          "loss": 69.13475799560547
         },
         {
          "i": 334,
          "loss": 69.13484191894531
         },
         {
          "i": 335,
          "loss": 69.1347885131836
         },
         {
          "i": 336,
          "loss": 69.13479614257812
         },
         {
          "i": 337,
          "loss": 69.13473510742188
         },
         {
          "i": 338,
          "loss": 69.13475799560547
         },
         {
          "i": 339,
          "loss": 69.13475036621094
         },
         {
          "i": 340,
          "loss": 69.1347427368164
         },
         {
          "i": 341,
          "loss": 69.134765625
         },
         {
          "i": 342,
          "loss": 69.13475799560547
         },
         {
          "i": 343,
          "loss": 69.13470458984375
         },
         {
          "i": 344,
          "loss": 69.13473510742188
         },
         {
          "i": 345,
          "loss": 69.13471984863281
         },
         {
          "i": 346,
          "loss": 69.13468933105469
         },
         {
          "i": 347,
          "loss": 69.13473510742188
         },
         {
          "i": 348,
          "loss": 69.13470458984375
         },
         {
          "i": 349,
          "loss": 69.13467407226562
         },
         {
          "i": 350,
          "loss": 69.13468933105469
         },
         {
          "i": 351,
          "loss": 69.13470458984375
         },
         {
          "i": 352,
          "loss": 69.13468933105469
         },
         {
          "i": 353,
          "loss": 69.13469696044922
         },
         {
          "i": 354,
          "loss": 69.13470458984375
         },
         {
          "i": 355,
          "loss": 69.13465118408203
         },
         {
          "i": 356,
          "loss": 69.13467407226562
         },
         {
          "i": 357,
          "loss": 69.13461303710938
         },
         {
          "i": 358,
          "loss": 69.13465118408203
         },
         {
          "i": 359,
          "loss": 69.1346664428711
         },
         {
          "i": 360,
          "loss": 69.13470458984375
         },
         {
          "i": 361,
          "loss": 69.13465118408203
         },
         {
          "i": 362,
          "loss": 69.13468170166016
         },
         {
          "i": 363,
          "loss": 69.13463592529297
         },
         {
          "i": 364,
          "loss": 69.13461303710938
         },
         {
          "i": 365,
          "loss": 69.1346206665039
         },
         {
          "i": 366,
          "loss": 69.1346206665039
         },
         {
          "i": 367,
          "loss": 69.13463592529297
         },
         {
          "i": 368,
          "loss": 69.13465118408203
         },
         {
          "i": 369,
          "loss": 69.1346206665039
         },
         {
          "i": 370,
          "loss": 69.13468933105469
         },
         {
          "i": 371,
          "loss": 69.13463592529297
         },
         {
          "i": 372,
          "loss": 69.13463592529297
         },
         {
          "i": 373,
          "loss": 69.13465881347656
         },
         {
          "i": 374,
          "loss": 69.1346664428711
         },
         {
          "i": 375,
          "loss": 69.13468170166016
         },
         {
          "i": 376,
          "loss": 69.13460540771484
         },
         {
          "i": 377,
          "loss": 69.1346206665039
         },
         {
          "i": 378,
          "loss": 69.13463592529297
         },
         {
          "i": 379,
          "loss": 69.13461303710938
         },
         {
          "i": 380,
          "loss": 69.13459777832031
         },
         {
          "i": 381,
          "loss": 69.13463592529297
         },
         {
          "i": 382,
          "loss": 69.1346435546875
         },
         {
          "i": 383,
          "loss": 69.13461303710938
         },
         {
          "i": 384,
          "loss": 69.13461303710938
         },
         {
          "i": 385,
          "loss": 69.13463592529297
         },
         {
          "i": 386,
          "loss": 69.13463592529297
         },
         {
          "i": 387,
          "loss": 69.13459014892578
         },
         {
          "i": 388,
          "loss": 69.1346206665039
         },
         {
          "i": 389,
          "loss": 69.13461303710938
         },
         {
          "i": 390,
          "loss": 69.13463592529297
         },
         {
          "i": 391,
          "loss": 69.13460540771484
         },
         {
          "i": 392,
          "loss": 69.13461303710938
         },
         {
          "i": 393,
          "loss": 69.13458251953125
         },
         {
          "i": 394,
          "loss": 69.13461303710938
         },
         {
          "i": 395,
          "loss": 69.13459777832031
         },
         {
          "i": 396,
          "loss": 69.13459777832031
         },
         {
          "i": 397,
          "loss": 69.13460540771484
         },
         {
          "i": 398,
          "loss": 69.13461303710938
         },
         {
          "i": 399,
          "loss": 69.13465118408203
         },
         {
          "i": 400,
          "loss": 69.13459014892578
         },
         {
          "i": 401,
          "loss": 69.1346206665039
         },
         {
          "i": 402,
          "loss": 69.13461303710938
         },
         {
          "i": 403,
          "loss": 69.13460540771484
         },
         {
          "i": 404,
          "loss": 69.13459777832031
         },
         {
          "i": 405,
          "loss": 69.13461303710938
         },
         {
          "i": 406,
          "loss": 69.13457489013672
         },
         {
          "i": 407,
          "loss": 69.13459777832031
         },
         {
          "i": 408,
          "loss": 69.13462829589844
         },
         {
          "i": 409,
          "loss": 69.13461303710938
         },
         {
          "i": 410,
          "loss": 69.13459777832031
         },
         {
          "i": 411,
          "loss": 69.1346206665039
         },
         {
          "i": 412,
          "loss": 69.13458251953125
         },
         {
          "i": 413,
          "loss": 69.13461303710938
         },
         {
          "i": 414,
          "loss": 69.1346435546875
         },
         {
          "i": 415,
          "loss": 69.13459014892578
         },
         {
          "i": 416,
          "loss": 69.13459777832031
         },
         {
          "i": 417,
          "loss": 69.1346435546875
         },
         {
          "i": 418,
          "loss": 69.13459777832031
         },
         {
          "i": 419,
          "loss": 69.13458251953125
         },
         {
          "i": 420,
          "loss": 69.13461303710938
         },
         {
          "i": 421,
          "loss": 69.13459777832031
         },
         {
          "i": 422,
          "loss": 69.13457489013672
         },
         {
          "i": 423,
          "loss": 69.13459777832031
         },
         {
          "i": 424,
          "loss": 69.13459777832031
         },
         {
          "i": 425,
          "loss": 69.13465118408203
         },
         {
          "i": 426,
          "loss": 69.13458251953125
         },
         {
          "i": 427,
          "loss": 69.1346206665039
         },
         {
          "i": 428,
          "loss": 69.13461303710938
         },
         {
          "i": 429,
          "loss": 69.13458251953125
         },
         {
          "i": 430,
          "loss": 69.13461303710938
         },
         {
          "i": 431,
          "loss": 69.13461303710938
         },
         {
          "i": 432,
          "loss": 69.13459014892578
         },
         {
          "i": 433,
          "loss": 69.13456726074219
         },
         {
          "i": 434,
          "loss": 69.13458251953125
         },
         {
          "i": 435,
          "loss": 69.13458251953125
         },
         {
          "i": 436,
          "loss": 69.13456726074219
         },
         {
          "i": 437,
          "loss": 69.13456726074219
         },
         {
          "i": 438,
          "loss": 69.13458251953125
         },
         {
          "i": 439,
          "loss": 69.13461303710938
         },
         {
          "i": 440,
          "loss": 69.13455200195312
         },
         {
          "i": 441,
          "loss": 69.13459777832031
         },
         {
          "i": 442,
          "loss": 69.13458251953125
         },
         {
          "i": 443,
          "loss": 69.13461303710938
         },
         {
          "i": 444,
          "loss": 69.13459777832031
         },
         {
          "i": 445,
          "loss": 69.13459777832031
         },
         {
          "i": 446,
          "loss": 69.13459777832031
         },
         {
          "i": 447,
          "loss": 69.13456726074219
         },
         {
          "i": 448,
          "loss": 69.13459777832031
         },
         {
          "i": 449,
          "loss": 69.13459014892578
         },
         {
          "i": 450,
          "loss": 69.13458251953125
         },
         {
          "i": 451,
          "loss": 69.13459014892578
         },
         {
          "i": 452,
          "loss": 69.13459014892578
         },
         {
          "i": 453,
          "loss": 69.13461303710938
         },
         {
          "i": 454,
          "loss": 69.13457489013672
         },
         {
          "i": 455,
          "loss": 69.13459777832031
         },
         {
          "i": 456,
          "loss": 69.13460540771484
         },
         {
          "i": 457,
          "loss": 69.13455963134766
         },
         {
          "i": 458,
          "loss": 69.13461303710938
         },
         {
          "i": 459,
          "loss": 69.13461303710938
         },
         {
          "i": 460,
          "loss": 69.13463592529297
         },
         {
          "i": 461,
          "loss": 69.1346206665039
         },
         {
          "i": 462,
          "loss": 69.13459777832031
         },
         {
          "i": 463,
          "loss": 69.13459014892578
         },
         {
          "i": 464,
          "loss": 69.13455963134766
         },
         {
          "i": 465,
          "loss": 69.13458251953125
         },
         {
          "i": 466,
          "loss": 69.13457489013672
         },
         {
          "i": 467,
          "loss": 69.13457489013672
         },
         {
          "i": 468,
          "loss": 69.13458251953125
         },
         {
          "i": 469,
          "loss": 69.13458251953125
         },
         {
          "i": 470,
          "loss": 69.13459777832031
         },
         {
          "i": 471,
          "loss": 69.13458251953125
         },
         {
          "i": 472,
          "loss": 69.13458251953125
         },
         {
          "i": 473,
          "loss": 69.13455963134766
         },
         {
          "i": 474,
          "loss": 69.13455963134766
         },
         {
          "i": 475,
          "loss": 69.13458251953125
         },
         {
          "i": 476,
          "loss": 69.1346206665039
         },
         {
          "i": 477,
          "loss": 69.13459777832031
         },
         {
          "i": 478,
          "loss": 69.13457489013672
         },
         {
          "i": 479,
          "loss": 69.13456726074219
         },
         {
          "i": 480,
          "loss": 69.13459014892578
         },
         {
          "i": 481,
          "loss": 69.13459777832031
         },
         {
          "i": 482,
          "loss": 69.13459777832031
         },
         {
          "i": 483,
          "loss": 69.1346206665039
         },
         {
          "i": 484,
          "loss": 69.13458251953125
         },
         {
          "i": 485,
          "loss": 69.13458251953125
         },
         {
          "i": 486,
          "loss": 69.13459014892578
         },
         {
          "i": 487,
          "loss": 69.13461303710938
         },
         {
          "i": 488,
          "loss": 69.13462829589844
         },
         {
          "i": 489,
          "loss": 69.13461303710938
         },
         {
          "i": 490,
          "loss": 69.13455200195312
         },
         {
          "i": 491,
          "loss": 69.13459777832031
         },
         {
          "i": 492,
          "loss": 69.1346206665039
         },
         {
          "i": 493,
          "loss": 69.13460540771484
         },
         {
          "i": 494,
          "loss": 69.13459014892578
         },
         {
          "i": 495,
          "loss": 69.13458251953125
         },
         {
          "i": 496,
          "loss": 69.13459777832031
         },
         {
          "i": 497,
          "loss": 69.13461303710938
         },
         {
          "i": 498,
          "loss": 69.13458251953125
         },
         {
          "i": 499,
          "loss": 69.13460540771484
         }
        ]
       },
       "encoding": {
        "x": {
         "field": "i",
         "type": "quantitative"
        },
        "y": {
         "field": "loss",
         "type": "quantitative"
        }
       },
       "height": 100,
       "mark": "line"
      },
      "image/png": "[encoded data removed]",
      "text/plain": [
       "<VegaLite 3 object>\n",
       "\n",
       "If you see this message, it means the renderer has not been properly enabled\n",
       "for the frontend that you are using. For more information, see\n",
       "https://altair-viz.github.io/user_guide/troubleshooting.html\n"
      ]
     },
     "execution_count": 97,
     "metadata": {},
     "output_type": "execute_result"
    }
   ],
   "source": [
    "loss_df = pd.DataFrame({'i':range(500), 'loss':loss_record})\n",
    "alt.Chart(loss_df, height=100).mark_line().encode(x='i', y='loss')"
   ]
  },
  {
   "cell_type": "markdown",
   "metadata": {},
   "source": [
    "Although the code looks pretty much the same, save the changes to the model and loss, the computation that pytorch needs to do to compute the gradient of $L$ with respect to each $\\beta$ is now much more involved, which you too will see if you try to compute it by hand:"
   ]
  },
  {
   "cell_type": "code",
   "execution_count": 98,
   "metadata": {},
   "outputs": [
    {
     "data": {
      "image/svg+xml": [
       "<?xml version=\"1.0\" encoding=\"UTF-8\" standalone=\"no\"?>\n",
       "<!DOCTYPE svg PUBLIC \"-//W3C//DTD SVG 1.1//EN\"\n",
       " \"http://www.w3.org/Graphics/SVG/1.1/DTD/svg11.dtd\">\n",
       "<!-- Generated by graphviz version 2.43.0 (0)\n",
       " -->\n",
       "<!-- Title: %3 Pages: 1 -->\n",
       "<svg width=\"209pt\" height=\"824pt\"\n",
       " viewBox=\"0.00 0.00 208.98 824.00\" xmlns=\"http://www.w3.org/2000/svg\" xmlns:xlink=\"http://www.w3.org/1999/xlink\">\n",
       "<g id=\"graph0\" class=\"graph\" transform=\"scale(1 1) rotate(0) translate(4 820)\">\n",
       "<title>%3</title>\n",
       "<polygon fill=\"white\" stroke=\"transparent\" points=\"-4,4 -4,-820 204.98,-820 204.98,4 -4,4\"/>\n",
       "<!-- 4928378832 -->\n",
       "<g id=\"node1\" class=\"node\">\n",
       "<title>4928378832</title>\n",
       "<polygon fill=\"#caff70\" stroke=\"black\" points=\"143.47,-20 55.18,-20 55.18,0 143.47,0 143.47,-20\"/>\n",
       "<text text-anchor=\"middle\" x=\"99.32\" y=\"-6.4\" font-family=\"Times,serif\" font-size=\"12.00\">DivBackward0</text>\n",
       "</g>\n",
       "<!-- 4928377936 -->\n",
       "<g id=\"node2\" class=\"node\">\n",
       "<title>4928377936</title>\n",
       "<polygon fill=\"lightgrey\" stroke=\"black\" points=\"141.46,-76 57.19,-76 57.19,-56 141.46,-56 141.46,-76\"/>\n",
       "<text text-anchor=\"middle\" x=\"99.32\" y=\"-62.4\" font-family=\"Times,serif\" font-size=\"12.00\">NegBackward</text>\n",
       "</g>\n",
       "<!-- 4928377936&#45;&gt;4928378832 -->\n",
       "<g id=\"edge1\" class=\"edge\">\n",
       "<title>4928377936&#45;&gt;4928378832</title>\n",
       "<path fill=\"none\" stroke=\"black\" d=\"M99.32,-55.59C99.32,-48.7 99.32,-39.1 99.32,-30.57\"/>\n",
       "<polygon fill=\"black\" stroke=\"black\" points=\"102.82,-30.3 99.32,-20.3 95.82,-30.3 102.82,-30.3\"/>\n",
       "</g>\n",
       "<!-- 4927980624 -->\n",
       "<g id=\"node3\" class=\"node\">\n",
       "<title>4927980624</title>\n",
       "<polygon fill=\"lightgrey\" stroke=\"black\" points=\"145.48,-132 53.17,-132 53.17,-112 145.48,-112 145.48,-132\"/>\n",
       "<text text-anchor=\"middle\" x=\"99.32\" y=\"-118.4\" font-family=\"Times,serif\" font-size=\"12.00\">SumBackward0</text>\n",
       "</g>\n",
       "<!-- 4927980624&#45;&gt;4928377936 -->\n",
       "<g id=\"edge2\" class=\"edge\">\n",
       "<title>4927980624&#45;&gt;4928377936</title>\n",
       "<path fill=\"none\" stroke=\"black\" d=\"M99.32,-111.59C99.32,-104.7 99.32,-95.1 99.32,-86.57\"/>\n",
       "<polygon fill=\"black\" stroke=\"black\" points=\"102.82,-86.3 99.32,-76.3 95.82,-86.3 102.82,-86.3\"/>\n",
       "</g>\n",
       "<!-- 4927979792 -->\n",
       "<g id=\"node4\" class=\"node\">\n",
       "<title>4927979792</title>\n",
       "<polygon fill=\"lightgrey\" stroke=\"black\" points=\"145.14,-188 53.51,-188 53.51,-168 145.14,-168 145.14,-188\"/>\n",
       "<text text-anchor=\"middle\" x=\"99.32\" y=\"-174.4\" font-family=\"Times,serif\" font-size=\"12.00\">AddBackward0</text>\n",
       "</g>\n",
       "<!-- 4927979792&#45;&gt;4927980624 -->\n",
       "<g id=\"edge3\" class=\"edge\">\n",
       "<title>4927979792&#45;&gt;4927980624</title>\n",
       "<path fill=\"none\" stroke=\"black\" d=\"M99.32,-167.59C99.32,-160.7 99.32,-151.1 99.32,-142.57\"/>\n",
       "<polygon fill=\"black\" stroke=\"black\" points=\"102.82,-142.3 99.32,-132.3 95.82,-142.3 102.82,-142.3\"/>\n",
       "</g>\n",
       "<!-- 4927980112 -->\n",
       "<g id=\"node5\" class=\"node\">\n",
       "<title>4927980112</title>\n",
       "<polygon fill=\"lightgrey\" stroke=\"black\" points=\"90.47,-244 0.18,-244 0.18,-224 90.47,-224 90.47,-244\"/>\n",
       "<text text-anchor=\"middle\" x=\"45.32\" y=\"-230.4\" font-family=\"Times,serif\" font-size=\"12.00\">MulBackward0</text>\n",
       "</g>\n",
       "<!-- 4927980112&#45;&gt;4927979792 -->\n",
       "<g id=\"edge4\" class=\"edge\">\n",
       "<title>4927980112&#45;&gt;4927979792</title>\n",
       "<path fill=\"none\" stroke=\"black\" d=\"M54.73,-223.59C62.47,-215.85 73.64,-204.69 82.86,-195.47\"/>\n",
       "<polygon fill=\"black\" stroke=\"black\" points=\"85.43,-197.84 90.03,-188.3 80.48,-192.89 85.43,-197.84\"/>\n",
       "</g>\n",
       "<!-- 4927982800 -->\n",
       "<g id=\"node6\" class=\"node\">\n",
       "<title>4927982800</title>\n",
       "<polygon fill=\"lightgrey\" stroke=\"black\" points=\"87.3,-356 3.35,-356 3.35,-336 87.3,-336 87.3,-356\"/>\n",
       "<text text-anchor=\"middle\" x=\"45.32\" y=\"-342.4\" font-family=\"Times,serif\" font-size=\"12.00\">LogBackward</text>\n",
       "</g>\n",
       "<!-- 4927982800&#45;&gt;4927980112 -->\n",
       "<g id=\"edge5\" class=\"edge\">\n",
       "<title>4927982800&#45;&gt;4927980112</title>\n",
       "<path fill=\"none\" stroke=\"black\" d=\"M45.32,-336C45.32,-318.19 45.32,-278.12 45.32,-254.15\"/>\n",
       "<polygon fill=\"black\" stroke=\"black\" points=\"48.82,-254.13 45.32,-244.13 41.82,-254.13 48.82,-254.13\"/>\n",
       "</g>\n",
       "<!-- 4927981840 -->\n",
       "<g id=\"node7\" class=\"node\">\n",
       "<title>4927981840</title>\n",
       "<polygon fill=\"lightgrey\" stroke=\"black\" points=\"143.47,-412 55.18,-412 55.18,-392 143.47,-392 143.47,-412\"/>\n",
       "<text text-anchor=\"middle\" x=\"99.32\" y=\"-398.4\" font-family=\"Times,serif\" font-size=\"12.00\">DivBackward0</text>\n",
       "</g>\n",
       "<!-- 4927981840&#45;&gt;4927982800 -->\n",
       "<g id=\"edge6\" class=\"edge\">\n",
       "<title>4927981840&#45;&gt;4927982800</title>\n",
       "<path fill=\"none\" stroke=\"black\" d=\"M89.92,-391.59C82.17,-383.85 71.01,-372.69 61.79,-363.47\"/>\n",
       "<polygon fill=\"black\" stroke=\"black\" points=\"64.17,-360.89 54.62,-356.3 59.22,-365.84 64.17,-360.89\"/>\n",
       "</g>\n",
       "<!-- 4928161616 -->\n",
       "<g id=\"node20\" class=\"node\">\n",
       "<title>4928161616</title>\n",
       "<polygon fill=\"lightgrey\" stroke=\"black\" points=\"201.14,-356 105.51,-356 105.51,-336 201.14,-336 201.14,-356\"/>\n",
       "<text text-anchor=\"middle\" x=\"153.32\" y=\"-342.4\" font-family=\"Times,serif\" font-size=\"12.00\">RsubBackward1</text>\n",
       "</g>\n",
       "<!-- 4927981840&#45;&gt;4928161616 -->\n",
       "<g id=\"edge22\" class=\"edge\">\n",
       "<title>4927981840&#45;&gt;4928161616</title>\n",
       "<path fill=\"none\" stroke=\"black\" d=\"M108.73,-391.59C116.47,-383.85 127.64,-372.69 136.86,-363.47\"/>\n",
       "<polygon fill=\"black\" stroke=\"black\" points=\"139.43,-365.84 144.03,-356.3 134.48,-360.89 139.43,-365.84\"/>\n",
       "</g>\n",
       "<!-- 4927980496 -->\n",
       "<g id=\"node8\" class=\"node\">\n",
       "<title>4927980496</title>\n",
       "<polygon fill=\"lightgrey\" stroke=\"black\" points=\"88.3,-468 4.35,-468 4.35,-448 88.3,-448 88.3,-468\"/>\n",
       "<text text-anchor=\"middle\" x=\"46.32\" y=\"-454.4\" font-family=\"Times,serif\" font-size=\"12.00\">ExpBackward</text>\n",
       "</g>\n",
       "<!-- 4927980496&#45;&gt;4927981840 -->\n",
       "<g id=\"edge7\" class=\"edge\">\n",
       "<title>4927980496&#45;&gt;4927981840</title>\n",
       "<path fill=\"none\" stroke=\"black\" d=\"M55.56,-447.59C63.16,-439.85 74.11,-428.69 83.16,-419.47\"/>\n",
       "<polygon fill=\"black\" stroke=\"black\" points=\"85.69,-421.89 90.2,-412.3 80.7,-416.98 85.69,-421.89\"/>\n",
       "</g>\n",
       "<!-- 4928160144 -->\n",
       "<g id=\"node9\" class=\"node\">\n",
       "<title>4928160144</title>\n",
       "<polygon fill=\"lightgrey\" stroke=\"black\" points=\"90.46,-580 6.19,-580 6.19,-560 90.46,-560 90.46,-580\"/>\n",
       "<text text-anchor=\"middle\" x=\"48.32\" y=\"-566.4\" font-family=\"Times,serif\" font-size=\"12.00\">NegBackward</text>\n",
       "</g>\n",
       "<!-- 4928160144&#45;&gt;4927980496 -->\n",
       "<g id=\"edge8\" class=\"edge\">\n",
       "<title>4928160144&#45;&gt;4927980496</title>\n",
       "<path fill=\"none\" stroke=\"black\" d=\"M48.16,-560C47.84,-542.19 47.11,-502.12 46.67,-478.15\"/>\n",
       "<polygon fill=\"black\" stroke=\"black\" points=\"50.17,-478.06 46.49,-468.13 43.17,-478.19 50.17,-478.06\"/>\n",
       "</g>\n",
       "<!-- 4928162896 -->\n",
       "<g id=\"node10\" class=\"node\">\n",
       "<title>4928162896</title>\n",
       "<polygon fill=\"lightgrey\" stroke=\"black\" points=\"145.14,-636 53.51,-636 53.51,-616 145.14,-616 145.14,-636\"/>\n",
       "<text text-anchor=\"middle\" x=\"99.32\" y=\"-622.4\" font-family=\"Times,serif\" font-size=\"12.00\">AddBackward0</text>\n",
       "</g>\n",
       "<!-- 4928162896&#45;&gt;4928160144 -->\n",
       "<g id=\"edge9\" class=\"edge\">\n",
       "<title>4928162896&#45;&gt;4928160144</title>\n",
       "<path fill=\"none\" stroke=\"black\" d=\"M90.44,-615.59C83.2,-607.93 72.8,-596.91 64.14,-587.75\"/>\n",
       "<polygon fill=\"black\" stroke=\"black\" points=\"66.52,-585.17 57.11,-580.3 61.43,-589.97 66.52,-585.17\"/>\n",
       "</g>\n",
       "<!-- 4928162000 -->\n",
       "<g id=\"node17\" class=\"node\">\n",
       "<title>4928162000</title>\n",
       "<polygon fill=\"lightgrey\" stroke=\"black\" points=\"193.46,-580 109.19,-580 109.19,-560 193.46,-560 193.46,-580\"/>\n",
       "<text text-anchor=\"middle\" x=\"151.32\" y=\"-566.4\" font-family=\"Times,serif\" font-size=\"12.00\">NegBackward</text>\n",
       "</g>\n",
       "<!-- 4928162896&#45;&gt;4928162000 -->\n",
       "<g id=\"edge18\" class=\"edge\">\n",
       "<title>4928162896&#45;&gt;4928162000</title>\n",
       "<path fill=\"none\" stroke=\"black\" d=\"M108.38,-615.59C115.76,-607.93 126.37,-596.91 135.2,-587.75\"/>\n",
       "<polygon fill=\"black\" stroke=\"black\" points=\"137.95,-589.93 142.37,-580.3 132.91,-585.07 137.95,-589.93\"/>\n",
       "</g>\n",
       "<!-- 4928160336 -->\n",
       "<g id=\"node11\" class=\"node\">\n",
       "<title>4928160336</title>\n",
       "<polygon fill=\"lightgrey\" stroke=\"black\" points=\"88.47,-692 4.18,-692 4.18,-672 88.47,-672 88.47,-692\"/>\n",
       "<text text-anchor=\"middle\" x=\"46.32\" y=\"-678.4\" font-family=\"Times,serif\" font-size=\"12.00\">MmBackward</text>\n",
       "</g>\n",
       "<!-- 4928160336&#45;&gt;4928162896 -->\n",
       "<g id=\"edge10\" class=\"edge\">\n",
       "<title>4928160336&#45;&gt;4928162896</title>\n",
       "<path fill=\"none\" stroke=\"black\" d=\"M55.56,-671.59C63.16,-663.85 74.11,-652.69 83.16,-643.47\"/>\n",
       "<polygon fill=\"black\" stroke=\"black\" points=\"85.69,-645.89 90.2,-636.3 80.7,-640.98 85.69,-645.89\"/>\n",
       "</g>\n",
       "<!-- 4928162448 -->\n",
       "<g id=\"node12\" class=\"node\">\n",
       "<title>4928162448</title>\n",
       "<polygon fill=\"lightgrey\" stroke=\"black\" points=\"107.46,-748 19.18,-748 19.18,-728 107.46,-728 107.46,-748\"/>\n",
       "<text text-anchor=\"middle\" x=\"63.32\" y=\"-734.4\" font-family=\"Times,serif\" font-size=\"12.00\">SliceBackward</text>\n",
       "</g>\n",
       "<!-- 4928162448&#45;&gt;4928160336 -->\n",
       "<g id=\"edge11\" class=\"edge\">\n",
       "<title>4928162448&#45;&gt;4928160336</title>\n",
       "<path fill=\"none\" stroke=\"black\" d=\"M60.36,-727.59C58.14,-720.55 55.04,-710.67 52.31,-702\"/>\n",
       "<polygon fill=\"black\" stroke=\"black\" points=\"55.59,-700.79 49.25,-692.3 48.92,-702.89 55.59,-700.79\"/>\n",
       "</g>\n",
       "<!-- 4928161424 -->\n",
       "<g id=\"node13\" class=\"node\">\n",
       "<title>4928161424</title>\n",
       "<polygon fill=\"lightblue\" stroke=\"black\" points=\"126.32,-816 72.32,-816 72.32,-784 126.32,-784 126.32,-816\"/>\n",
       "<text text-anchor=\"middle\" x=\"99.32\" y=\"-802.4\" font-family=\"Times,serif\" font-size=\"12.00\">β</text>\n",
       "<text text-anchor=\"middle\" x=\"99.32\" y=\"-790.4\" font-family=\"Times,serif\" font-size=\"12.00\"> (6, 1)</text>\n",
       "</g>\n",
       "<!-- 4928161424&#45;&gt;4928162448 -->\n",
       "<g id=\"edge12\" class=\"edge\">\n",
       "<title>4928161424&#45;&gt;4928162448</title>\n",
       "<path fill=\"none\" stroke=\"black\" d=\"M90.24,-783.86C85.34,-775.69 79.25,-765.55 74.11,-756.98\"/>\n",
       "<polygon fill=\"black\" stroke=\"black\" points=\"76.96,-754.93 68.82,-748.15 70.96,-758.53 76.96,-754.93\"/>\n",
       "</g>\n",
       "<!-- 4928163600 -->\n",
       "<g id=\"node14\" class=\"node\">\n",
       "<title>4928163600</title>\n",
       "<polygon fill=\"lightgrey\" stroke=\"black\" points=\"200.29,-692 106.36,-692 106.36,-672 200.29,-672 200.29,-692\"/>\n",
       "<text text-anchor=\"middle\" x=\"153.32\" y=\"-678.4\" font-family=\"Times,serif\" font-size=\"12.00\">SelectBackward</text>\n",
       "</g>\n",
       "<!-- 4928161424&#45;&gt;4928163600 -->\n",
       "<g id=\"edge14\" class=\"edge\">\n",
       "<title>4928161424&#45;&gt;4928163600</title>\n",
       "<path fill=\"none\" stroke=\"black\" d=\"M106.38,-783.84C116.25,-762.64 134.15,-724.2 144.76,-701.39\"/>\n",
       "<polygon fill=\"black\" stroke=\"black\" points=\"148.02,-702.68 149.07,-692.14 141.68,-699.72 148.02,-702.68\"/>\n",
       "</g>\n",
       "<!-- 4928163600&#45;&gt;4928162896 -->\n",
       "<g id=\"edge13\" class=\"edge\">\n",
       "<title>4928163600&#45;&gt;4928162896</title>\n",
       "<path fill=\"none\" stroke=\"black\" d=\"M143.92,-671.59C136.17,-663.85 125.01,-652.69 115.79,-643.47\"/>\n",
       "<polygon fill=\"black\" stroke=\"black\" points=\"118.17,-640.89 108.62,-636.3 113.22,-645.84 118.17,-640.89\"/>\n",
       "</g>\n",
       "<!-- 4928193744 -->\n",
       "<g id=\"node15\" class=\"node\">\n",
       "<title>4928193744</title>\n",
       "<polygon fill=\"lightgrey\" stroke=\"black\" points=\"198.14,-468 106.51,-468 106.51,-448 198.14,-448 198.14,-468\"/>\n",
       "<text text-anchor=\"middle\" x=\"152.32\" y=\"-454.4\" font-family=\"Times,serif\" font-size=\"12.00\">AddBackward0</text>\n",
       "</g>\n",
       "<!-- 4928193744&#45;&gt;4927981840 -->\n",
       "<g id=\"edge15\" class=\"edge\">\n",
       "<title>4928193744&#45;&gt;4927981840</title>\n",
       "<path fill=\"none\" stroke=\"black\" d=\"M143.09,-447.59C135.49,-439.85 124.54,-428.69 115.49,-419.47\"/>\n",
       "<polygon fill=\"black\" stroke=\"black\" points=\"117.95,-416.98 108.45,-412.3 112.96,-421.89 117.95,-416.98\"/>\n",
       "</g>\n",
       "<!-- 4928161168 -->\n",
       "<g id=\"node16\" class=\"node\">\n",
       "<title>4928161168</title>\n",
       "<polygon fill=\"lightgrey\" stroke=\"black\" points=\"193.3,-524 109.35,-524 109.35,-504 193.3,-504 193.3,-524\"/>\n",
       "<text text-anchor=\"middle\" x=\"151.32\" y=\"-510.4\" font-family=\"Times,serif\" font-size=\"12.00\">ExpBackward</text>\n",
       "</g>\n",
       "<!-- 4928161168&#45;&gt;4928193744 -->\n",
       "<g id=\"edge16\" class=\"edge\">\n",
       "<title>4928161168&#45;&gt;4928193744</title>\n",
       "<path fill=\"none\" stroke=\"black\" d=\"M151.5,-503.59C151.63,-496.7 151.8,-487.1 151.96,-478.57\"/>\n",
       "<polygon fill=\"black\" stroke=\"black\" points=\"155.47,-478.36 152.15,-468.3 148.47,-478.23 155.47,-478.36\"/>\n",
       "</g>\n",
       "<!-- 4928162000&#45;&gt;4928161168 -->\n",
       "<g id=\"edge17\" class=\"edge\">\n",
       "<title>4928162000&#45;&gt;4928161168</title>\n",
       "<path fill=\"none\" stroke=\"black\" d=\"M151.32,-559.59C151.32,-552.7 151.32,-543.1 151.32,-534.57\"/>\n",
       "<polygon fill=\"black\" stroke=\"black\" points=\"154.82,-534.3 151.32,-524.3 147.82,-534.3 154.82,-534.3\"/>\n",
       "</g>\n",
       "<!-- 4927980816 -->\n",
       "<g id=\"node18\" class=\"node\">\n",
       "<title>4927980816</title>\n",
       "<polygon fill=\"lightgrey\" stroke=\"black\" points=\"199.47,-244 109.18,-244 109.18,-224 199.47,-224 199.47,-244\"/>\n",
       "<text text-anchor=\"middle\" x=\"154.32\" y=\"-230.4\" font-family=\"Times,serif\" font-size=\"12.00\">MulBackward0</text>\n",
       "</g>\n",
       "<!-- 4927980816&#45;&gt;4927979792 -->\n",
       "<g id=\"edge19\" class=\"edge\">\n",
       "<title>4927980816&#45;&gt;4927979792</title>\n",
       "<path fill=\"none\" stroke=\"black\" d=\"M144.74,-223.59C136.86,-215.85 125.49,-204.69 116.1,-195.47\"/>\n",
       "<polygon fill=\"black\" stroke=\"black\" points=\"118.38,-192.81 108.79,-188.3 113.48,-197.8 118.38,-192.81\"/>\n",
       "</g>\n",
       "<!-- 4927981072 -->\n",
       "<g id=\"node19\" class=\"node\">\n",
       "<title>4927981072</title>\n",
       "<polygon fill=\"lightgrey\" stroke=\"black\" points=\"195.3,-300 111.35,-300 111.35,-280 195.3,-280 195.3,-300\"/>\n",
       "<text text-anchor=\"middle\" x=\"153.32\" y=\"-286.4\" font-family=\"Times,serif\" font-size=\"12.00\">LogBackward</text>\n",
       "</g>\n",
       "<!-- 4927981072&#45;&gt;4927980816 -->\n",
       "<g id=\"edge20\" class=\"edge\">\n",
       "<title>4927981072&#45;&gt;4927980816</title>\n",
       "<path fill=\"none\" stroke=\"black\" d=\"M153.5,-279.59C153.63,-272.7 153.8,-263.1 153.96,-254.57\"/>\n",
       "<polygon fill=\"black\" stroke=\"black\" points=\"157.47,-254.36 154.15,-244.3 150.47,-254.23 157.47,-254.36\"/>\n",
       "</g>\n",
       "<!-- 4928161616&#45;&gt;4927981072 -->\n",
       "<g id=\"edge21\" class=\"edge\">\n",
       "<title>4928161616&#45;&gt;4927981072</title>\n",
       "<path fill=\"none\" stroke=\"black\" d=\"M153.32,-335.59C153.32,-328.7 153.32,-319.1 153.32,-310.57\"/>\n",
       "<polygon fill=\"black\" stroke=\"black\" points=\"156.82,-310.3 153.32,-300.3 149.82,-310.3 156.82,-310.3\"/>\n",
       "</g>\n",
       "</g>\n",
       "</svg>\n"
      ],
      "text/plain": [
       "<graphviz.dot.Digraph at 0x125c116d0>"
      ]
     },
     "execution_count": 98,
     "metadata": {},
     "output_type": "execute_result"
    }
   ],
   "source": [
    "make_dot(L, {'β':β})"
   ]
  },
  {
   "cell_type": "markdown",
   "metadata": {},
   "source": [
    "The amazing thing is that pytorch just handles it and you don't have to."
   ]
  },
  {
   "cell_type": "markdown",
   "metadata": {},
   "source": [
    "<div class=\"alert alert-block alert-info\">\n",
    "<b>Exercise:</b> \n",
    "\n",
    "Why don't we use *accuracy* as a loss? In other words,\n",
    "    \n",
    "$$\n",
    "L(y, \\hat p) = \\sum_i\n",
    "\\begin{cases}\n",
    "1 & \\text{if}\\ y_i = 1 \\ \\text{and} \\ \\hat p_i > 0.5 \\\\\n",
    "1 & \\text{if}\\ y_i = 0 \\ \\text{and} \\ \\hat p_i \\le 0.5 \\\\\n",
    "0 & \\text{else}\n",
    "\\end{cases}\n",
    "$$\n",
    "    \n",
    "*Hint*: what is the derivative of this loss with respect to any prediction $\\hat p_i$?\n",
    "</div>"
   ]
  },
  {
   "cell_type": "markdown",
   "metadata": {},
   "source": [
    "To predict for a new observation, all we have to do is multiply by $\\beta_{1:p}$, add the intercept $\\beta_0$, and pass through $\\sigma$:"
   ]
  },
  {
   "cell_type": "code",
   "execution_count": 99,
   "metadata": {},
   "outputs": [
    {
     "data": {
      "text/plain": [
       "tensor([[0.4700],\n",
       "        [0.4699],\n",
       "        [0.4700],\n",
       "        [0.4701],\n",
       "        [0.4700],\n",
       "        [0.4700],\n",
       "        [0.4700],\n",
       "        [0.4701],\n",
       "        [0.4700],\n",
       "        [0.4700]], grad_fn=<DivBackward0>)"
      ]
     },
     "execution_count": 99,
     "metadata": {},
     "output_type": "execute_result"
    }
   ],
   "source": [
    "new_x = torch.randn(10, 5) # 10 new observations\n",
    "z = torch.matmul(new_x, β[1:]) + β[0]\n",
    "torch.exp(-z)/(1+torch.exp(-z)) # probability predictions"
   ]
  },
  {
   "cell_type": "markdown",
   "metadata": {},
   "source": [
    "### Conclusion"
   ]
  },
  {
   "cell_type": "markdown",
   "metadata": {},
   "source": [
    "We just developed a machine learning method out of these three components:\n",
    "* linear-logistic model (model)\n",
    "* log loss (loss)\n",
    "* gradient descent (search algorithm)\n",
    "\n",
    "This should make it clear to you that gradient descent is a widely-applicable strategy that will work with any loss or model, as long as you can define derivatives of the loss with respect to the model parameters. We will now go back to our linear regression example, but augment the model with more parameters and a more complex structure in order to capture nonlinear relationships. "
   ]
  },
  {
   "cell_type": "markdown",
   "metadata": {},
   "source": [
    "# Adding complexity to our linear model"
   ]
  },
  {
   "cell_type": "markdown",
   "metadata": {},
   "source": [
    "Let's go back to our regression example."
   ]
  },
  {
   "cell_type": "code",
   "execution_count": 100,
   "metadata": {},
   "outputs": [],
   "source": [
    "p = 5 \n",
    "n = 100\n",
    "\n",
    "x = torch.randn(n, p) # predictors (n observations, p features)\n",
    "y = torch.randn(n, 1) # outcomes (n observations)"
   ]
  },
  {
   "cell_type": "code",
   "execution_count": 101,
   "metadata": {},
   "outputs": [],
   "source": [
    "loss_record = [] \n",
    "β = torch.randn(p+1,1) \n",
    "β.requires_grad_() \n",
    "\n",
    "for e in range(500):\n",
    "    ŷ = torch.matmul(x, β[1:]) + β[0]\n",
    "    L = torch.sum((y-ŷ)**2)/n \n",
    "    \n",
    "    L.backward() # compute gradients \n",
    "    loss_record.append(L.item())\n",
    "    \n",
    "    with torch.no_grad(): # take the gradient descent step \n",
    "        β -= 10e-5 * β.grad\n",
    "        β.grad.zero_()"
   ]
  },
  {
   "cell_type": "markdown",
   "metadata": {},
   "source": [
    "Remember that the linear model is $\\hat y =x\\beta_{1:p} + \\beta_0$. Let's say we want to add some complexity to this model by figuring out if there are some other predictors we can build (call them $z$) that are a transformation of the predictors $x$ that are better for predicting $y$ in a linear model than $x$ is. To do that, we'll first let $z = g(xW + b)$ with $W$ being a $p \\times h$ matrix and $b$ a $1 \\times h$ matrix so each row of $z$ ends up with $h$ columns and $g$ is an element-wise ReLU function. The purpose of $W$ and $b$ is to make $h$ predictors out of our original $p$ using a linear transformation. The purpose of $g$ is to add complexity to the model."
   ]
  },
  {
   "cell_type": "markdown",
   "metadata": {},
   "source": [
    "Let's dig into this, one step at a time. First we'll investigate the transformation $xW$. As we said, we're trying to build new features from our old features, so let's look at just one of these new features, $z_1$:"
   ]
  },
  {
   "cell_type": "markdown",
   "metadata": {},
   "source": [
    "$$ \n",
    "z_1 \n",
    "=\n",
    "\\left[\n",
    "\\begin{array}{c}\n",
    "z_{11} \\\\ z_{12} \\\\ \\vdots \\\\ z_{1n}\n",
    "\\end{array}\n",
    "\\right]\n",
    "=\n",
    "g\\left(\n",
    "\\left[\n",
    "\\begin{array}{c}\n",
    "x_{11} & x_{21} & \\cdots & x_{p1} \\\\\n",
    "x_{12} & x_{22} & \\cdots & x_{p2} \\\\\n",
    "\\vdots & \\vdots & \\ddots & \\vdots \\\\\n",
    "x_{1n} & x_{2n} & \\cdots & x_{pn}\n",
    "\\end{array}\n",
    "\\right]\n",
    "\\left[\n",
    "\\begin{array}{c}\n",
    "w_{11} \\\\ w_{12} \\\\ \\vdots \\\\ w_{1p}\n",
    "\\end{array}\n",
    "\\right]\n",
    "+\n",
    "b_1\n",
    "\\right)\n",
    "$$"
   ]
  },
  {
   "cell_type": "markdown",
   "metadata": {},
   "source": [
    "Or, concisely, $z_1 = g(xw_1 + b_1)$. Without $g$, this looks just like a linear model of $z_1$ based on predictors $x$ and coefficients $w_1$ with intercept $b_1$. The other transformed features will be the same: $z_j = g(xw_j + b_j)$. So one way to look at this is that we're doing $h$ \"$g$-linear\" regressions (assuming we have $W$ and $b$) and getting their predictions. The matrix equation $z = g(xW+b)$ expresses all of these \"regressions\" simultaneously."
   ]
  },
  {
   "cell_type": "code",
   "execution_count": 102,
   "metadata": {},
   "outputs": [],
   "source": [
    "from torch.nn.functional import relu as g\n",
    "h = 10\n",
    "W = torch.randn(5, h).requires_grad_()\n",
    "b = torch.randn(1, h).requires_grad_()"
   ]
  },
  {
   "cell_type": "code",
   "execution_count": 103,
   "metadata": {},
   "outputs": [
    {
     "data": {
      "text/plain": [
       "torch.Size([100, 10])"
      ]
     },
     "execution_count": 103,
     "metadata": {},
     "output_type": "execute_result"
    }
   ],
   "source": [
    "z = g(torch.matmul(x,W) + b)\n",
    "z.shape"
   ]
  },
  {
   "cell_type": "markdown",
   "metadata": {},
   "source": [
    "As you see, we're getting 100 observations of 10 \"features\". Let's look at one of them:"
   ]
  },
  {
   "cell_type": "code",
   "execution_count": 104,
   "metadata": {},
   "outputs": [
    {
     "data": {
      "text/plain": [
       "tensor([0.0000, 0.0000, 5.0925, 2.2966, 1.3944, 0.0000, 5.4351, 3.0747, 0.7186,\n",
       "        0.3656], grad_fn=<SelectBackward>)"
      ]
     },
     "execution_count": 104,
     "metadata": {},
     "output_type": "execute_result"
    }
   ],
   "source": [
    "z[0:10,1]"
   ]
  },
  {
   "cell_type": "markdown",
   "metadata": {},
   "source": [
    "We could also have done them one-at-a-time:"
   ]
  },
  {
   "cell_type": "code",
   "execution_count": 105,
   "metadata": {},
   "outputs": [],
   "source": [
    "w1 = W[:,1]\n",
    "b1 = b[:,1]\n",
    "z1 = g(torch.matmul(x,w1) + b1)"
   ]
  },
  {
   "cell_type": "code",
   "execution_count": 106,
   "metadata": {},
   "outputs": [
    {
     "data": {
      "text/plain": [
       "tensor([0.0000, 0.0000, 5.0925, 2.2966, 1.3944, 0.0000, 5.4351, 3.0747, 0.7186,\n",
       "        0.3656], grad_fn=<SliceBackward>)"
      ]
     },
     "execution_count": 106,
     "metadata": {},
     "output_type": "execute_result"
    }
   ],
   "source": [
    "z1[0:10]"
   ]
  },
  {
   "cell_type": "markdown",
   "metadata": {},
   "source": [
    "Same thing. "
   ]
  },
  {
   "cell_type": "markdown",
   "metadata": {},
   "source": [
    "Now our final model is a linear model done on the new predictors $z$. That model is $\\hat y =z\\alpha_{1:h} + \\alpha_0$. I'm calling the coefficient vector $\\alpha$ because now this needs $h$ coefficients (plus 1 intercept) for each of the $h$ new features, whereas $\\beta$ was a $p$-length vector. So, in full, our model is now $\\hat y = g(xW+b)\\alpha_{1:h} + \\alpha_0$. We decided that $g$ should be the ReLU function, but instead of us deciding what the values of $W$ should be to create our new predictors $z$, we'll use gradient descent so that the model can build the predictors that it finds the most useful at the same time that it is using gradient descent to find the coefficients $\\alpha$ that maximize the utility of these predictors. Thus this model has $h\\times (p+1) + h+1$ total parameters (the values of $W_{ij}$, $b_j$, and $alpha_j$) to be fit, whereas our original linear model only had $p+1$ parameters.  "
   ]
  },
  {
   "cell_type": "code",
   "execution_count": 107,
   "metadata": {},
   "outputs": [],
   "source": [
    "α = torch.randn(h+1,1).requires_grad_()\n",
    "ŷ = torch.matmul(z,α[1:]) + α[0]"
   ]
  },
  {
   "cell_type": "markdown",
   "metadata": {},
   "source": [
    "Without the ReLU (or some nonlinear function), there is always a vector $\\beta$ such that $x\\beta_{1:p} + \\beta_0 = (xW+b)\\alpha_{1:h} + \\alpha_0$ for every $W$, $b$, and $\\alpha$. In effect, adding the transformation $W$ doesn't actually add anything to the model- we're expanding the number of parameters to fit without actually expanding the expressivity of the model because there is always a model  with fewer parameters that perfectly captures the predictions of the over-parametrized model. That is why the nonlinearity $g$ is necessary."
   ]
  },
  {
   "cell_type": "markdown",
   "metadata": {},
   "source": [
    "<div class=\"alert alert-block alert-info\">\n",
    "<b>Exercise:</b> \n",
    "\n",
    "Let's say we have\n",
    "    \n",
    "$$\n",
    "W = \n",
    "\\left[\n",
    "\\begin{array}{ccc}\n",
    "1 & 1 & 1 \\\\\n",
    "1 & 2 & 3\n",
    "\\end{array}\n",
    "\\right]    \n",
    "\\quad\n",
    "b = \n",
    "\\left[\n",
    "\\begin{array}{ccc}\n",
    "0 & 0 & 0\n",
    "\\end{array}\n",
    "\\right]\n",
    "\\quad\n",
    "\\alpha_{1:3} = \n",
    "\\left[\n",
    "\\begin{array}{c}\n",
    "1 \\\\ -1 \\\\ 0\n",
    "\\end{array}\n",
    "\\right]\n",
    "\\quad\n",
    "\\alpha_0 = 0\n",
    "$$\n",
    "    \n",
    "Find $\\beta$ so that $x\\beta_{1:2} + \\beta_0 = (xW+b)\\alpha_{1:3} + \\alpha_0$ no matter what $x$ is.\n",
    "\n",
    "</div>"
   ]
  },
  {
   "cell_type": "markdown",
   "metadata": {},
   "source": [
    "And, finally, we can compute our MSE loss:"
   ]
  },
  {
   "cell_type": "code",
   "execution_count": 108,
   "metadata": {},
   "outputs": [
    {
     "data": {
      "text/plain": [
       "tensor(28.0840, grad_fn=<DivBackward0>)"
      ]
     },
     "execution_count": 108,
     "metadata": {},
     "output_type": "execute_result"
    }
   ],
   "source": [
    "L = torch.sum((y-ŷ)**2)/n\n",
    "L"
   ]
  },
  {
   "cell_type": "markdown",
   "metadata": {},
   "source": [
    "Let's look at the compuational graph we've built:"
   ]
  },
  {
   "cell_type": "code",
   "execution_count": 109,
   "metadata": {},
   "outputs": [
    {
     "data": {
      "image/svg+xml": [
       "<?xml version=\"1.0\" encoding=\"UTF-8\" standalone=\"no\"?>\n",
       "<!DOCTYPE svg PUBLIC \"-//W3C//DTD SVG 1.1//EN\"\n",
       " \"http://www.w3.org/Graphics/SVG/1.1/DTD/svg11.dtd\">\n",
       "<!-- Generated by graphviz version 2.43.0 (0)\n",
       " -->\n",
       "<!-- Title: %3 Pages: 1 -->\n",
       "<svg width=\"321pt\" height=\"568pt\"\n",
       " viewBox=\"0.00 0.00 321.31 568.00\" xmlns=\"http://www.w3.org/2000/svg\" xmlns:xlink=\"http://www.w3.org/1999/xlink\">\n",
       "<g id=\"graph0\" class=\"graph\" transform=\"scale(1 1) rotate(0) translate(4 564)\">\n",
       "<title>%3</title>\n",
       "<polygon fill=\"white\" stroke=\"transparent\" points=\"-4,4 -4,-564 317.31,-564 317.31,4 -4,4\"/>\n",
       "<!-- 4928161552 -->\n",
       "<g id=\"node1\" class=\"node\">\n",
       "<title>4928161552</title>\n",
       "<polygon fill=\"#caff70\" stroke=\"black\" points=\"256.47,-20 168.18,-20 168.18,0 256.47,0 256.47,-20\"/>\n",
       "<text text-anchor=\"middle\" x=\"212.32\" y=\"-6.4\" font-family=\"Times,serif\" font-size=\"12.00\">DivBackward0</text>\n",
       "</g>\n",
       "<!-- 4928161936 -->\n",
       "<g id=\"node2\" class=\"node\">\n",
       "<title>4928161936</title>\n",
       "<polygon fill=\"lightgrey\" stroke=\"black\" points=\"258.48,-76 166.17,-76 166.17,-56 258.48,-56 258.48,-76\"/>\n",
       "<text text-anchor=\"middle\" x=\"212.32\" y=\"-62.4\" font-family=\"Times,serif\" font-size=\"12.00\">SumBackward0</text>\n",
       "</g>\n",
       "<!-- 4928161936&#45;&gt;4928161552 -->\n",
       "<g id=\"edge1\" class=\"edge\">\n",
       "<title>4928161936&#45;&gt;4928161552</title>\n",
       "<path fill=\"none\" stroke=\"black\" d=\"M212.32,-55.59C212.32,-48.7 212.32,-39.1 212.32,-30.57\"/>\n",
       "<polygon fill=\"black\" stroke=\"black\" points=\"215.82,-30.3 212.32,-20.3 208.82,-30.3 215.82,-30.3\"/>\n",
       "</g>\n",
       "<!-- 4975658768 -->\n",
       "<g id=\"node3\" class=\"node\">\n",
       "<title>4975658768</title>\n",
       "<polygon fill=\"lightgrey\" stroke=\"black\" points=\"258.31,-132 166.34,-132 166.34,-112 258.31,-112 258.31,-132\"/>\n",
       "<text text-anchor=\"middle\" x=\"212.32\" y=\"-118.4\" font-family=\"Times,serif\" font-size=\"12.00\">PowBackward0</text>\n",
       "</g>\n",
       "<!-- 4975658768&#45;&gt;4928161936 -->\n",
       "<g id=\"edge2\" class=\"edge\">\n",
       "<title>4975658768&#45;&gt;4928161936</title>\n",
       "<path fill=\"none\" stroke=\"black\" d=\"M212.32,-111.59C212.32,-104.7 212.32,-95.1 212.32,-86.57\"/>\n",
       "<polygon fill=\"black\" stroke=\"black\" points=\"215.82,-86.3 212.32,-76.3 208.82,-86.3 215.82,-86.3\"/>\n",
       "</g>\n",
       "<!-- 4975657808 -->\n",
       "<g id=\"node4\" class=\"node\">\n",
       "<title>4975657808</title>\n",
       "<polygon fill=\"lightgrey\" stroke=\"black\" points=\"257.14,-188 167.51,-188 167.51,-168 257.14,-168 257.14,-188\"/>\n",
       "<text text-anchor=\"middle\" x=\"212.32\" y=\"-174.4\" font-family=\"Times,serif\" font-size=\"12.00\">SubBackward0</text>\n",
       "</g>\n",
       "<!-- 4975657808&#45;&gt;4975658768 -->\n",
       "<g id=\"edge3\" class=\"edge\">\n",
       "<title>4975657808&#45;&gt;4975658768</title>\n",
       "<path fill=\"none\" stroke=\"black\" d=\"M212.32,-167.59C212.32,-160.7 212.32,-151.1 212.32,-142.57\"/>\n",
       "<polygon fill=\"black\" stroke=\"black\" points=\"215.82,-142.3 212.32,-132.3 208.82,-142.3 215.82,-142.3\"/>\n",
       "</g>\n",
       "<!-- 4975658192 -->\n",
       "<g id=\"node5\" class=\"node\">\n",
       "<title>4975658192</title>\n",
       "<polygon fill=\"lightgrey\" stroke=\"black\" points=\"258.14,-244 166.51,-244 166.51,-224 258.14,-224 258.14,-244\"/>\n",
       "<text text-anchor=\"middle\" x=\"212.32\" y=\"-230.4\" font-family=\"Times,serif\" font-size=\"12.00\">AddBackward0</text>\n",
       "</g>\n",
       "<!-- 4975658192&#45;&gt;4975657808 -->\n",
       "<g id=\"edge4\" class=\"edge\">\n",
       "<title>4975658192&#45;&gt;4975657808</title>\n",
       "<path fill=\"none\" stroke=\"black\" d=\"M212.32,-223.59C212.32,-216.7 212.32,-207.1 212.32,-198.57\"/>\n",
       "<polygon fill=\"black\" stroke=\"black\" points=\"215.82,-198.3 212.32,-188.3 208.82,-198.3 215.82,-198.3\"/>\n",
       "</g>\n",
       "<!-- 4975660880 -->\n",
       "<g id=\"node6\" class=\"node\">\n",
       "<title>4975660880</title>\n",
       "<polygon fill=\"lightgrey\" stroke=\"black\" points=\"201.47,-300 117.18,-300 117.18,-280 201.47,-280 201.47,-300\"/>\n",
       "<text text-anchor=\"middle\" x=\"159.32\" y=\"-286.4\" font-family=\"Times,serif\" font-size=\"12.00\">MmBackward</text>\n",
       "</g>\n",
       "<!-- 4975660880&#45;&gt;4975658192 -->\n",
       "<g id=\"edge5\" class=\"edge\">\n",
       "<title>4975660880&#45;&gt;4975658192</title>\n",
       "<path fill=\"none\" stroke=\"black\" d=\"M168.56,-279.59C176.16,-271.85 187.11,-260.69 196.16,-251.47\"/>\n",
       "<polygon fill=\"black\" stroke=\"black\" points=\"198.69,-253.89 203.2,-244.3 193.7,-248.98 198.69,-253.89\"/>\n",
       "</g>\n",
       "<!-- 4975711760 -->\n",
       "<g id=\"node7\" class=\"node\">\n",
       "<title>4975711760</title>\n",
       "<polygon fill=\"lightgrey\" stroke=\"black\" points=\"132.13,-356 38.52,-356 38.52,-336 132.13,-336 132.13,-356\"/>\n",
       "<text text-anchor=\"middle\" x=\"85.32\" y=\"-342.4\" font-family=\"Times,serif\" font-size=\"12.00\">ReluBackward0</text>\n",
       "</g>\n",
       "<!-- 4975711760&#45;&gt;4975660880 -->\n",
       "<g id=\"edge6\" class=\"edge\">\n",
       "<title>4975711760&#45;&gt;4975660880</title>\n",
       "<path fill=\"none\" stroke=\"black\" d=\"M97.88,-335.84C109,-327.72 125.46,-315.71 138.54,-306.16\"/>\n",
       "<polygon fill=\"black\" stroke=\"black\" points=\"140.94,-308.75 146.96,-300.03 136.82,-303.09 140.94,-308.75\"/>\n",
       "</g>\n",
       "<!-- 4975712208 -->\n",
       "<g id=\"node8\" class=\"node\">\n",
       "<title>4975712208</title>\n",
       "<polygon fill=\"lightgrey\" stroke=\"black\" points=\"131.14,-418 39.51,-418 39.51,-398 131.14,-398 131.14,-418\"/>\n",
       "<text text-anchor=\"middle\" x=\"85.32\" y=\"-404.4\" font-family=\"Times,serif\" font-size=\"12.00\">AddBackward0</text>\n",
       "</g>\n",
       "<!-- 4975712208&#45;&gt;4975711760 -->\n",
       "<g id=\"edge7\" class=\"edge\">\n",
       "<title>4975712208&#45;&gt;4975711760</title>\n",
       "<path fill=\"none\" stroke=\"black\" d=\"M85.32,-397.89C85.32,-389.52 85.32,-376.84 85.32,-366.23\"/>\n",
       "<polygon fill=\"black\" stroke=\"black\" points=\"88.82,-366.2 85.32,-356.2 81.82,-366.2 88.82,-366.2\"/>\n",
       "</g>\n",
       "<!-- 4975711376 -->\n",
       "<g id=\"node9\" class=\"node\">\n",
       "<title>4975711376</title>\n",
       "<polygon fill=\"lightgrey\" stroke=\"black\" points=\"84.47,-486 0.18,-486 0.18,-466 84.47,-466 84.47,-486\"/>\n",
       "<text text-anchor=\"middle\" x=\"42.32\" y=\"-472.4\" font-family=\"Times,serif\" font-size=\"12.00\">MmBackward</text>\n",
       "</g>\n",
       "<!-- 4975711376&#45;&gt;4975712208 -->\n",
       "<g id=\"edge8\" class=\"edge\">\n",
       "<title>4975711376&#45;&gt;4975712208</title>\n",
       "<path fill=\"none\" stroke=\"black\" d=\"M48.3,-465.82C54.85,-455.77 65.51,-439.42 73.71,-426.83\"/>\n",
       "<polygon fill=\"black\" stroke=\"black\" points=\"76.87,-428.39 79.4,-418.1 71,-424.57 76.87,-428.39\"/>\n",
       "</g>\n",
       "<!-- 4975714128 -->\n",
       "<g id=\"node10\" class=\"node\">\n",
       "<title>4975714128</title>\n",
       "<polygon fill=\"lightblue\" stroke=\"black\" points=\"69.32,-560 15.32,-560 15.32,-528 69.32,-528 69.32,-560\"/>\n",
       "<text text-anchor=\"middle\" x=\"42.32\" y=\"-546.4\" font-family=\"Times,serif\" font-size=\"12.00\">W</text>\n",
       "<text text-anchor=\"middle\" x=\"42.32\" y=\"-534.4\" font-family=\"Times,serif\" font-size=\"12.00\"> (5, 10)</text>\n",
       "</g>\n",
       "<!-- 4975714128&#45;&gt;4975711376 -->\n",
       "<g id=\"edge9\" class=\"edge\">\n",
       "<title>4975714128&#45;&gt;4975711376</title>\n",
       "<path fill=\"none\" stroke=\"black\" d=\"M42.32,-527.69C42.32,-518.4 42.32,-506.44 42.32,-496.47\"/>\n",
       "<polygon fill=\"black\" stroke=\"black\" points=\"45.82,-496.32 42.32,-486.32 38.82,-496.32 45.82,-496.32\"/>\n",
       "</g>\n",
       "<!-- 4975711504 -->\n",
       "<g id=\"node11\" class=\"node\">\n",
       "<title>4975711504</title>\n",
       "<polygon fill=\"lightblue\" stroke=\"black\" points=\"156.32,-492 102.32,-492 102.32,-460 156.32,-460 156.32,-492\"/>\n",
       "<text text-anchor=\"middle\" x=\"129.32\" y=\"-478.4\" font-family=\"Times,serif\" font-size=\"12.00\">b</text>\n",
       "<text text-anchor=\"middle\" x=\"129.32\" y=\"-466.4\" font-family=\"Times,serif\" font-size=\"12.00\"> (1, 10)</text>\n",
       "</g>\n",
       "<!-- 4975711504&#45;&gt;4975712208 -->\n",
       "<g id=\"edge10\" class=\"edge\">\n",
       "<title>4975711504&#45;&gt;4975712208</title>\n",
       "<path fill=\"none\" stroke=\"black\" d=\"M119.12,-459.69C112.59,-449.9 104.09,-437.15 97.25,-426.89\"/>\n",
       "<polygon fill=\"black\" stroke=\"black\" points=\"99.99,-424.7 91.54,-418.32 94.17,-428.58 99.99,-424.7\"/>\n",
       "</g>\n",
       "<!-- 4975710672 -->\n",
       "<g id=\"node12\" class=\"node\">\n",
       "<title>4975710672</title>\n",
       "<polygon fill=\"lightgrey\" stroke=\"black\" points=\"238.46,-356 150.18,-356 150.18,-336 238.46,-336 238.46,-356\"/>\n",
       "<text text-anchor=\"middle\" x=\"194.32\" y=\"-342.4\" font-family=\"Times,serif\" font-size=\"12.00\">SliceBackward</text>\n",
       "</g>\n",
       "<!-- 4975710672&#45;&gt;4975660880 -->\n",
       "<g id=\"edge11\" class=\"edge\">\n",
       "<title>4975710672&#45;&gt;4975660880</title>\n",
       "<path fill=\"none\" stroke=\"black\" d=\"M188.23,-335.59C183.46,-328.24 176.69,-317.8 170.9,-308.87\"/>\n",
       "<polygon fill=\"black\" stroke=\"black\" points=\"173.73,-306.79 165.35,-300.3 167.85,-310.59 173.73,-306.79\"/>\n",
       "</g>\n",
       "<!-- 4975711120 -->\n",
       "<g id=\"node13\" class=\"node\">\n",
       "<title>4975711120</title>\n",
       "<polygon fill=\"lightblue\" stroke=\"black\" points=\"257.32,-424 203.32,-424 203.32,-392 257.32,-392 257.32,-424\"/>\n",
       "<text text-anchor=\"middle\" x=\"230.32\" y=\"-410.4\" font-family=\"Times,serif\" font-size=\"12.00\">α</text>\n",
       "<text text-anchor=\"middle\" x=\"230.32\" y=\"-398.4\" font-family=\"Times,serif\" font-size=\"12.00\"> (11, 1)</text>\n",
       "</g>\n",
       "<!-- 4975711120&#45;&gt;4975710672 -->\n",
       "<g id=\"edge12\" class=\"edge\">\n",
       "<title>4975711120&#45;&gt;4975710672</title>\n",
       "<path fill=\"none\" stroke=\"black\" d=\"M221.24,-391.86C216.34,-383.69 210.25,-373.55 205.11,-364.98\"/>\n",
       "<polygon fill=\"black\" stroke=\"black\" points=\"207.96,-362.93 199.82,-356.15 201.96,-366.53 207.96,-362.93\"/>\n",
       "</g>\n",
       "<!-- 4975660368 -->\n",
       "<g id=\"node14\" class=\"node\">\n",
       "<title>4975660368</title>\n",
       "<polygon fill=\"lightgrey\" stroke=\"black\" points=\"313.29,-300 219.36,-300 219.36,-280 313.29,-280 313.29,-300\"/>\n",
       "<text text-anchor=\"middle\" x=\"266.32\" y=\"-286.4\" font-family=\"Times,serif\" font-size=\"12.00\">SelectBackward</text>\n",
       "</g>\n",
       "<!-- 4975711120&#45;&gt;4975660368 -->\n",
       "<g id=\"edge14\" class=\"edge\">\n",
       "<title>4975711120&#45;&gt;4975660368</title>\n",
       "<path fill=\"none\" stroke=\"black\" d=\"M235.53,-391.87C238.97,-381.75 243.54,-368.11 247.32,-356 252.15,-340.57 257.27,-322.96 260.98,-309.97\"/>\n",
       "<polygon fill=\"black\" stroke=\"black\" points=\"264.37,-310.87 263.73,-300.29 257.63,-308.96 264.37,-310.87\"/>\n",
       "</g>\n",
       "<!-- 4975660368&#45;&gt;4975658192 -->\n",
       "<g id=\"edge13\" class=\"edge\">\n",
       "<title>4975660368&#45;&gt;4975658192</title>\n",
       "<path fill=\"none\" stroke=\"black\" d=\"M256.92,-279.59C249.17,-271.85 238.01,-260.69 228.79,-251.47\"/>\n",
       "<polygon fill=\"black\" stroke=\"black\" points=\"231.17,-248.89 221.62,-244.3 226.22,-253.84 231.17,-248.89\"/>\n",
       "</g>\n",
       "</g>\n",
       "</svg>\n"
      ],
      "text/plain": [
       "<graphviz.dot.Digraph at 0x128928ed0>"
      ]
     },
     "execution_count": 109,
     "metadata": {},
     "output_type": "execute_result"
    }
   ],
   "source": [
    "make_dot(L, {'W':W, 'b':b, 'α':α})"
   ]
  },
  {
   "cell_type": "markdown",
   "metadata": {},
   "source": [
    "Now $L$ depends both on what $W$ is and on what $\\alpha$ is. In other words, both of these sets of coefficients are parameters of the model that we can tweak and optimize. $W$ determines what kinds of \"new predictors\" we get out $x$, while $\\alpha$ puts those new features together into the final prediction. What's amazing is that we can fit all of these parameters simultaneously using gradient descent: just update both sets of parameters using the negative gradient at each step. \n",
    "\n",
    "Furthermore, this poses no problem for pytorch:"
   ]
  },
  {
   "cell_type": "code",
   "execution_count": 110,
   "metadata": {},
   "outputs": [],
   "source": [
    "L.backward()"
   ]
  },
  {
   "cell_type": "code",
   "execution_count": 111,
   "metadata": {},
   "outputs": [
    {
     "data": {
      "text/plain": [
       "tensor([[ -6.6449],\n",
       "        [ -6.8241],\n",
       "        [-12.2024],\n",
       "        [ -9.9064],\n",
       "        [ -6.9516],\n",
       "        [ -3.6036],\n",
       "        [-20.2889],\n",
       "        [-12.0027],\n",
       "        [ -2.1520],\n",
       "        [-13.9219],\n",
       "        [-21.4951]])"
      ]
     },
     "execution_count": 111,
     "metadata": {},
     "output_type": "execute_result"
    }
   ],
   "source": [
    "α.grad"
   ]
  },
  {
   "cell_type": "code",
   "execution_count": 112,
   "metadata": {},
   "outputs": [
    {
     "data": {
      "text/plain": [
       "tensor([[-3.0923,  1.5987, -3.7242, -3.4357, -0.5628,  3.9108,  4.4897,  0.7864,\n",
       "          2.4087,  6.8900],\n",
       "        [-1.9493,  0.4581, -0.2307,  0.3863, -0.5116, -0.9701,  1.3576,  0.4748,\n",
       "          0.8030,  2.4588],\n",
       "        [-0.6393,  0.1410, -3.1890, -0.8218, -2.4884,  2.6136,  2.0194,  0.7845,\n",
       "          2.1102,  6.1789],\n",
       "        [ 0.4988, -0.7695,  1.0725, -0.2269,  1.2005, -2.5940, -2.8195,  0.7122,\n",
       "          0.4712, -0.0551],\n",
       "        [ 2.1704, -0.9893,  0.6358,  2.2685,  1.1096, -3.3306, -4.4946,  0.4656,\n",
       "         -0.0313,  0.0125]])"
      ]
     },
     "execution_count": 112,
     "metadata": {},
     "output_type": "execute_result"
    }
   ],
   "source": [
    "W.grad"
   ]
  },
  {
   "cell_type": "code",
   "execution_count": 113,
   "metadata": {},
   "outputs": [
    {
     "data": {
      "text/plain": [
       "tensor([[-2.3978,  1.5757, -4.6751, -2.9751, -2.2472,  5.1332,  5.5919,  0.7547,\n",
       "          2.2165,  7.1073]])"
      ]
     },
     "execution_count": 113,
     "metadata": {},
     "output_type": "execute_result"
    }
   ],
   "source": [
    "b.grad"
   ]
  },
  {
   "cell_type": "markdown",
   "metadata": {},
   "source": [
    "### Looping"
   ]
  },
  {
   "cell_type": "markdown",
   "metadata": {},
   "source": [
    "As before, now that we have gone through this once, we can put it all together into a loop:"
   ]
  },
  {
   "cell_type": "code",
   "execution_count": 114,
   "metadata": {},
   "outputs": [],
   "source": [
    "p = 5 \n",
    "n = 100\n",
    "\n",
    "x = torch.randn(n, p) # predictors (n observations, p features)\n",
    "y = torch.randn(n, 1) # outcomes (n observations)"
   ]
  },
  {
   "cell_type": "code",
   "execution_count": 115,
   "metadata": {},
   "outputs": [],
   "source": [
    "h = 10\n",
    "W = torch.randn(5, h).requires_grad_()\n",
    "b = torch.randn(1, h).requires_grad_()\n",
    "α = torch.randn(h+1, 1).requires_grad_()\n",
    "loss_record = []\n",
    "\n",
    "for e in range(500):\n",
    "    z = g(torch.matmul(x,W)+b)\n",
    "    ŷ = torch.matmul(z,α[1:]) + α[0]\n",
    "    L = torch.sum((y-ŷ)**2)/n\n",
    "    \n",
    "    L.backward() # compute gradients (in this case δL/δα, δL/δW)\n",
    "    loss_record.append(L.item())\n",
    "    \n",
    "    with torch.no_grad(): # take the gradient descent step \n",
    "        α -= 10e-3 * α.grad\n",
    "        α.grad.zero_()\n",
    "        W -= 10e-3 * W.grad\n",
    "        W.grad.zero_()\n",
    "        b -= 10e-3 * b.grad\n",
    "        b.grad.zero_()"
   ]
  },
  {
   "cell_type": "code",
   "execution_count": 116,
   "metadata": {},
   "outputs": [
    {
     "data": {
      "application/vnd.vegalite.v3+json": {
       "$schema": "https://vega.github.io/schema/vega-lite/v3.4.0.json",
       "config": {
        "mark": {
         "tooltip": null
        },
        "view": {
         "height": 300,
         "width": 400
        }
       },
       "data": {
        "name": "data-e2d62da62312962d4b80259579c9c1d9"
       },
       "datasets": {
        "data-e2d62da62312962d4b80259579c9c1d9": [
         {
          "i": 0,
          "loss": 25.168621063232422
         },
         {
          "i": 1,
          "loss": 16.762731552124023
         },
         {
          "i": 2,
          "loss": 12.386529922485352
         },
         {
          "i": 3,
          "loss": 9.679777145385742
         },
         {
          "i": 4,
          "loss": 7.859225273132324
         },
         {
          "i": 5,
          "loss": 6.571166515350342
         },
         {
          "i": 6,
          "loss": 5.615258693695068
         },
         {
          "i": 7,
          "loss": 4.895125389099121
         },
         {
          "i": 8,
          "loss": 4.34323263168335
         },
         {
          "i": 9,
          "loss": 3.9138500690460205
         },
         {
          "i": 10,
          "loss": 3.5757224559783936
         },
         {
          "i": 11,
          "loss": 3.30698823928833
         },
         {
          "i": 12,
          "loss": 3.0910608768463135
         },
         {
          "i": 13,
          "loss": 2.914785146713257
         },
         {
          "i": 14,
          "loss": 2.769814968109131
         },
         {
          "i": 15,
          "loss": 2.6494827270507812
         },
         {
          "i": 16,
          "loss": 2.5490524768829346
         },
         {
          "i": 17,
          "loss": 2.4637563228607178
         },
         {
          "i": 18,
          "loss": 2.3909666538238525
         },
         {
          "i": 19,
          "loss": 2.3281164169311523
         },
         {
          "i": 20,
          "loss": 2.2729179859161377
         },
         {
          "i": 21,
          "loss": 2.223811149597168
         },
         {
          "i": 22,
          "loss": 2.1798715591430664
         },
         {
          "i": 23,
          "loss": 2.140212297439575
         },
         {
          "i": 24,
          "loss": 2.104123592376709
         },
         {
          "i": 25,
          "loss": 2.0710031986236572
         },
         {
          "i": 26,
          "loss": 2.0402026176452637
         },
         {
          "i": 27,
          "loss": 2.011608362197876
         },
         {
          "i": 28,
          "loss": 1.984904170036316
         },
         {
          "i": 29,
          "loss": 1.959839940071106
         },
         {
          "i": 30,
          "loss": 1.9362086057662964
         },
         {
          "i": 31,
          "loss": 1.9138696193695068
         },
         {
          "i": 32,
          "loss": 1.892665982246399
         },
         {
          "i": 33,
          "loss": 1.8724250793457031
         },
         {
          "i": 34,
          "loss": 1.8530126810073853
         },
         {
          "i": 35,
          "loss": 1.8343925476074219
         },
         {
          "i": 36,
          "loss": 1.8164341449737549
         },
         {
          "i": 37,
          "loss": 1.7991654872894287
         },
         {
          "i": 38,
          "loss": 1.7825318574905396
         },
         {
          "i": 39,
          "loss": 1.7664850950241089
         },
         {
          "i": 40,
          "loss": 1.7510080337524414
         },
         {
          "i": 41,
          "loss": 1.7360334396362305
         },
         {
          "i": 42,
          "loss": 1.7215384244918823
         },
         {
          "i": 43,
          "loss": 1.7075031995773315
         },
         {
          "i": 44,
          "loss": 1.693901777267456
         },
         {
          "i": 45,
          "loss": 1.6806966066360474
         },
         {
          "i": 46,
          "loss": 1.6678637266159058
         },
         {
          "i": 47,
          "loss": 1.6553874015808105
         },
         {
          "i": 48,
          "loss": 1.6432502269744873
         },
         {
          "i": 49,
          "loss": 1.6314352750778198
         },
         {
          "i": 50,
          "loss": 1.6199380159378052
         },
         {
          "i": 51,
          "loss": 1.6087849140167236
         },
         {
          "i": 52,
          "loss": 1.5979187488555908
         },
         {
          "i": 53,
          "loss": 1.5873156785964966
         },
         {
          "i": 54,
          "loss": 1.5769715309143066
         },
         {
          "i": 55,
          "loss": 1.5668764114379883
         },
         {
          "i": 56,
          "loss": 1.5570241212844849
         },
         {
          "i": 57,
          "loss": 1.5472157001495361
         },
         {
          "i": 58,
          "loss": 1.5372834205627441
         },
         {
          "i": 59,
          "loss": 1.5275799036026
         },
         {
          "i": 60,
          "loss": 1.518100619316101
         },
         {
          "i": 61,
          "loss": 1.5088332891464233
         },
         {
          "i": 62,
          "loss": 1.4997700452804565
         },
         {
          "i": 63,
          "loss": 1.4909058809280396
         },
         {
          "i": 64,
          "loss": 1.4822337627410889
         },
         {
          "i": 65,
          "loss": 1.4737550020217896
         },
         {
          "i": 66,
          "loss": 1.4657806158065796
         },
         {
          "i": 67,
          "loss": 1.4579718112945557
         },
         {
          "i": 68,
          "loss": 1.4503250122070312
         },
         {
          "i": 69,
          "loss": 1.442834496498108
         },
         {
          "i": 70,
          "loss": 1.4354963302612305
         },
         {
          "i": 71,
          "loss": 1.4283016920089722
         },
         {
          "i": 72,
          "loss": 1.4212472438812256
         },
         {
          "i": 73,
          "loss": 1.4143309593200684
         },
         {
          "i": 74,
          "loss": 1.4075480699539185
         },
         {
          "i": 75,
          "loss": 1.400895357131958
         },
         {
          "i": 76,
          "loss": 1.39436936378479
         },
         {
          "i": 77,
          "loss": 1.3879704475402832
         },
         {
          "i": 78,
          "loss": 1.381729006767273
         },
         {
          "i": 79,
          "loss": 1.3755494356155396
         },
         {
          "i": 80,
          "loss": 1.3695259094238281
         },
         {
          "i": 81,
          "loss": 1.363600730895996
         },
         {
          "i": 82,
          "loss": 1.3577780723571777
         },
         {
          "i": 83,
          "loss": 1.3520500659942627
         },
         {
          "i": 84,
          "loss": 1.346449375152588
         },
         {
          "i": 85,
          "loss": 1.3409152030944824
         },
         {
          "i": 86,
          "loss": 1.335495114326477
         },
         {
          "i": 87,
          "loss": 1.3301644325256348
         },
         {
          "i": 88,
          "loss": 1.3249084949493408
         },
         {
          "i": 89,
          "loss": 1.3197720050811768
         },
         {
          "i": 90,
          "loss": 1.3146958351135254
         },
         {
          "i": 91,
          "loss": 1.309695839881897
         },
         {
          "i": 92,
          "loss": 1.304803490638733
         },
         {
          "i": 93,
          "loss": 1.2999625205993652
         },
         {
          "i": 94,
          "loss": 1.295202612876892
         },
         {
          "i": 95,
          "loss": 1.2905386686325073
         },
         {
          "i": 96,
          "loss": 1.2859240770339966
         },
         {
          "i": 97,
          "loss": 1.2813841104507446
         },
         {
          "i": 98,
          "loss": 1.2769348621368408
         },
         {
          "i": 99,
          "loss": 1.2725303173065186
         },
         {
          "i": 100,
          "loss": 1.268193006515503
         },
         {
          "i": 101,
          "loss": 1.263944149017334
         },
         {
          "i": 102,
          "loss": 1.25973641872406
         },
         {
          "i": 103,
          "loss": 1.2555902004241943
         },
         {
          "i": 104,
          "loss": 1.2515209913253784
         },
         {
          "i": 105,
          "loss": 1.247501254081726
         },
         {
          "i": 106,
          "loss": 1.2435333728790283
         },
         {
          "i": 107,
          "loss": 1.2396293878555298
         },
         {
          "i": 108,
          "loss": 1.2357877492904663
         },
         {
          "i": 109,
          "loss": 1.231986403465271
         },
         {
          "i": 110,
          "loss": 1.2282387018203735
         },
         {
          "i": 111,
          "loss": 1.2245584726333618
         },
         {
          "i": 112,
          "loss": 1.2209171056747437
         },
         {
          "i": 113,
          "loss": 1.2173221111297607
         },
         {
          "i": 114,
          "loss": 1.2137712240219116
         },
         {
          "i": 115,
          "loss": 1.2102760076522827
         },
         {
          "i": 116,
          "loss": 1.2069090604782104
         },
         {
          "i": 117,
          "loss": 1.2035874128341675
         },
         {
          "i": 118,
          "loss": 1.2003133296966553
         },
         {
          "i": 119,
          "loss": 1.1970902681350708
         },
         {
          "i": 120,
          "loss": 1.1939129829406738
         },
         {
          "i": 121,
          "loss": 1.1908326148986816
         },
         {
          "i": 122,
          "loss": 1.187832236289978
         },
         {
          "i": 123,
          "loss": 1.184877872467041
         },
         {
          "i": 124,
          "loss": 1.1819484233856201
         },
         {
          "i": 125,
          "loss": 1.1790562868118286
         },
         {
          "i": 126,
          "loss": 1.1762009859085083
         },
         {
          "i": 127,
          "loss": 1.1733918190002441
         },
         {
          "i": 128,
          "loss": 1.1706035137176514
         },
         {
          "i": 129,
          "loss": 1.167849063873291
         },
         {
          "i": 130,
          "loss": 1.1651279926300049
         },
         {
          "i": 131,
          "loss": 1.1624484062194824
         },
         {
          "i": 132,
          "loss": 1.1597965955734253
         },
         {
          "i": 133,
          "loss": 1.1571741104125977
         },
         {
          "i": 134,
          "loss": 1.1545822620391846
         },
         {
          "i": 135,
          "loss": 1.1520227193832397
         },
         {
          "i": 136,
          "loss": 1.1495003700256348
         },
         {
          "i": 137,
          "loss": 1.146998643875122
         },
         {
          "i": 138,
          "loss": 1.144524097442627
         },
         {
          "i": 139,
          "loss": 1.1420776844024658
         },
         {
          "i": 140,
          "loss": 1.139663577079773
         },
         {
          "i": 141,
          "loss": 1.1372778415679932
         },
         {
          "i": 142,
          "loss": 1.1349126100540161
         },
         {
          "i": 143,
          "loss": 1.1325738430023193
         },
         {
          "i": 144,
          "loss": 1.130260944366455
         },
         {
          "i": 145,
          "loss": 1.1279752254486084
         },
         {
          "i": 146,
          "loss": 1.1257107257843018
         },
         {
          "i": 147,
          "loss": 1.12346613407135
         },
         {
          "i": 148,
          "loss": 1.1212358474731445
         },
         {
          "i": 149,
          "loss": 1.1190143823623657
         },
         {
          "i": 150,
          "loss": 1.116816759109497
         },
         {
          "i": 151,
          "loss": 1.114650845527649
         },
         {
          "i": 152,
          "loss": 1.112504243850708
         },
         {
          "i": 153,
          "loss": 1.1104004383087158
         },
         {
          "i": 154,
          "loss": 1.108320951461792
         },
         {
          "i": 155,
          "loss": 1.1062607765197754
         },
         {
          "i": 156,
          "loss": 1.1042231321334839
         },
         {
          "i": 157,
          "loss": 1.1022112369537354
         },
         {
          "i": 158,
          "loss": 1.100213646888733
         },
         {
          "i": 159,
          "loss": 1.0982365608215332
         },
         {
          "i": 160,
          "loss": 1.0962820053100586
         },
         {
          "i": 161,
          "loss": 1.0943443775177002
         },
         {
          "i": 162,
          "loss": 1.0924264192581177
         },
         {
          "i": 163,
          "loss": 1.0905330181121826
         },
         {
          "i": 164,
          "loss": 1.088653564453125
         },
         {
          "i": 165,
          "loss": 1.0867928266525269
         },
         {
          "i": 166,
          "loss": 1.0849518775939941
         },
         {
          "i": 167,
          "loss": 1.0831269025802612
         },
         {
          "i": 168,
          "loss": 1.0813196897506714
         },
         {
          "i": 169,
          "loss": 1.0795307159423828
         },
         {
          "i": 170,
          "loss": 1.0777759552001953
         },
         {
          "i": 171,
          "loss": 1.076063871383667
         },
         {
          "i": 172,
          "loss": 1.074366569519043
         },
         {
          "i": 173,
          "loss": 1.072684645652771
         },
         {
          "i": 174,
          "loss": 1.071018934249878
         },
         {
          "i": 175,
          "loss": 1.0693690776824951
         },
         {
          "i": 176,
          "loss": 1.0677132606506348
         },
         {
          "i": 177,
          "loss": 1.0660195350646973
         },
         {
          "i": 178,
          "loss": 1.064344048500061
         },
         {
          "i": 179,
          "loss": 1.0626808404922485
         },
         {
          "i": 180,
          "loss": 1.0610337257385254
         },
         {
          "i": 181,
          "loss": 1.0594024658203125
         },
         {
          "i": 182,
          "loss": 1.057788610458374
         },
         {
          "i": 183,
          "loss": 1.056190013885498
         },
         {
          "i": 184,
          "loss": 1.054605484008789
         },
         {
          "i": 185,
          "loss": 1.0530359745025635
         },
         {
          "i": 186,
          "loss": 1.0514813661575317
         },
         {
          "i": 187,
          "loss": 1.0499446392059326
         },
         {
          "i": 188,
          "loss": 1.0484225749969482
         },
         {
          "i": 189,
          "loss": 1.0469119548797607
         },
         {
          "i": 190,
          "loss": 1.0454148054122925
         },
         {
          "i": 191,
          "loss": 1.0439326763153076
         },
         {
          "i": 192,
          "loss": 1.0424689054489136
         },
         {
          "i": 193,
          "loss": 1.0410197973251343
         },
         {
          "i": 194,
          "loss": 1.0395866632461548
         },
         {
          "i": 195,
          "loss": 1.0381847620010376
         },
         {
          "i": 196,
          "loss": 1.0367950201034546
         },
         {
          "i": 197,
          "loss": 1.0354180335998535
         },
         {
          "i": 198,
          "loss": 1.0340558290481567
         },
         {
          "i": 199,
          "loss": 1.0327051877975464
         },
         {
          "i": 200,
          "loss": 1.0313640832901
         },
         {
          "i": 201,
          "loss": 1.0300346612930298
         },
         {
          "i": 202,
          "loss": 1.0287166833877563
         },
         {
          "i": 203,
          "loss": 1.0274101495742798
         },
         {
          "i": 204,
          "loss": 1.0261168479919434
         },
         {
          "i": 205,
          "loss": 1.0248335599899292
         },
         {
          "i": 206,
          "loss": 1.0235605239868164
         },
         {
          "i": 207,
          "loss": 1.0222986936569214
         },
         {
          "i": 208,
          "loss": 1.0210474729537964
         },
         {
          "i": 209,
          "loss": 1.0198075771331787
         },
         {
          "i": 210,
          "loss": 1.018579363822937
         },
         {
          "i": 211,
          "loss": 1.0173596143722534
         },
         {
          "i": 212,
          "loss": 1.0161501169204712
         },
         {
          "i": 213,
          "loss": 1.0149505138397217
         },
         {
          "i": 214,
          "loss": 1.0137609243392944
         },
         {
          "i": 215,
          "loss": 1.0125837326049805
         },
         {
          "i": 216,
          "loss": 1.011414647102356
         },
         {
          "i": 217,
          "loss": 1.010254144668579
         },
         {
          "i": 218,
          "loss": 1.0091028213500977
         },
         {
          "i": 219,
          "loss": 1.0079610347747803
         },
         {
          "i": 220,
          "loss": 1.0068295001983643
         },
         {
          "i": 221,
          "loss": 1.0057073831558228
         },
         {
          "i": 222,
          "loss": 1.0045912265777588
         },
         {
          "i": 223,
          "loss": 1.003477692604065
         },
         {
          "i": 224,
          "loss": 1.0023728609085083
         },
         {
          "i": 225,
          "loss": 1.0012767314910889
         },
         {
          "i": 226,
          "loss": 1.0001916885375977
         },
         {
          "i": 227,
          "loss": 0.9991133213043213
         },
         {
          "i": 228,
          "loss": 0.9980430603027344
         },
         {
          "i": 229,
          "loss": 0.9969812035560608
         },
         {
          "i": 230,
          "loss": 0.995927631855011
         },
         {
          "i": 231,
          "loss": 0.9948831796646118
         },
         {
          "i": 232,
          "loss": 0.9938473701477051
         },
         {
          "i": 233,
          "loss": 0.9928166270256042
         },
         {
          "i": 234,
          "loss": 0.9917809963226318
         },
         {
          "i": 235,
          "loss": 0.9907535314559937
         },
         {
          "i": 236,
          "loss": 0.9897341132164001
         },
         {
          "i": 237,
          "loss": 0.9887242913246155
         },
         {
          "i": 238,
          "loss": 0.9877209663391113
         },
         {
          "i": 239,
          "loss": 0.9867246150970459
         },
         {
          "i": 240,
          "loss": 0.9857360124588013
         },
         {
          "i": 241,
          "loss": 0.984754741191864
         },
         {
          "i": 242,
          "loss": 0.9837989211082458
         },
         {
          "i": 243,
          "loss": 0.9829071164131165
         },
         {
          "i": 244,
          "loss": 0.9820114374160767
         },
         {
          "i": 245,
          "loss": 0.9811208844184875
         },
         {
          "i": 246,
          "loss": 0.980191707611084
         },
         {
          "i": 247,
          "loss": 0.979269802570343
         },
         {
          "i": 248,
          "loss": 0.978355884552002
         },
         {
          "i": 249,
          "loss": 0.9774488806724548
         },
         {
          "i": 250,
          "loss": 0.9765477776527405
         },
         {
          "i": 251,
          "loss": 0.9756538271903992
         },
         {
          "i": 252,
          "loss": 0.974765956401825
         },
         {
          "i": 253,
          "loss": 0.9738845825195312
         },
         {
          "i": 254,
          "loss": 0.9730112552642822
         },
         {
          "i": 255,
          "loss": 0.9721433520317078
         },
         {
          "i": 256,
          "loss": 0.9712813496589661
         },
         {
          "i": 257,
          "loss": 0.9704254269599915
         },
         {
          "i": 258,
          "loss": 0.969575822353363
         },
         {
          "i": 259,
          "loss": 0.9687321186065674
         },
         {
          "i": 260,
          "loss": 0.9678962826728821
         },
         {
          "i": 261,
          "loss": 0.9670649170875549
         },
         {
          "i": 262,
          "loss": 0.9662088751792908
         },
         {
          "i": 263,
          "loss": 0.9653642177581787
         },
         {
          "i": 264,
          "loss": 0.9645273685455322
         },
         {
          "i": 265,
          "loss": 0.9637195467948914
         },
         {
          "i": 266,
          "loss": 0.9629127979278564
         },
         {
          "i": 267,
          "loss": 0.9621140956878662
         },
         {
          "i": 268,
          "loss": 0.9613198637962341
         },
         {
          "i": 269,
          "loss": 0.960529625415802
         },
         {
          "i": 270,
          "loss": 0.9597481489181519
         },
         {
          "i": 271,
          "loss": 0.9589675068855286
         },
         {
          "i": 272,
          "loss": 0.9581955075263977
         },
         {
          "i": 273,
          "loss": 0.9574262499809265
         },
         {
          "i": 274,
          "loss": 0.956662118434906
         },
         {
          "i": 275,
          "loss": 0.9559051394462585
         },
         {
          "i": 276,
          "loss": 0.9551494121551514
         },
         {
          "i": 277,
          "loss": 0.95440274477005
         },
         {
          "i": 278,
          "loss": 0.9536573886871338
         },
         {
          "i": 279,
          "loss": 0.9529178738594055
         },
         {
          "i": 280,
          "loss": 0.9521839618682861
         },
         {
          "i": 281,
          "loss": 0.9514517784118652
         },
         {
          "i": 282,
          "loss": 0.9507288932800293
         },
         {
          "i": 283,
          "loss": 0.9500061273574829
         },
         {
          "i": 284,
          "loss": 0.9492887258529663
         },
         {
          "i": 285,
          "loss": 0.9485725164413452
         },
         {
          "i": 286,
          "loss": 0.9478579759597778
         },
         {
          "i": 287,
          "loss": 0.9471526145935059
         },
         {
          "i": 288,
          "loss": 0.946458637714386
         },
         {
          "i": 289,
          "loss": 0.9457964897155762
         },
         {
          "i": 290,
          "loss": 0.9451388716697693
         },
         {
          "i": 291,
          "loss": 0.9444825053215027
         },
         {
          "i": 292,
          "loss": 0.943834662437439
         },
         {
          "i": 293,
          "loss": 0.943186342716217
         },
         {
          "i": 294,
          "loss": 0.9425438642501831
         },
         {
          "i": 295,
          "loss": 0.9419059753417969
         },
         {
          "i": 296,
          "loss": 0.9412690997123718
         },
         {
          "i": 297,
          "loss": 0.940639853477478
         },
         {
          "i": 298,
          "loss": 0.9400113821029663
         },
         {
          "i": 299,
          "loss": 0.9393869042396545
         },
         {
          "i": 300,
          "loss": 0.9387683272361755
         },
         {
          "i": 301,
          "loss": 0.9381498694419861
         },
         {
          "i": 302,
          "loss": 0.9375383257865906
         },
         {
          "i": 303,
          "loss": 0.9369285106658936
         },
         {
          "i": 304,
          "loss": 0.9363210797309875
         },
         {
          "i": 305,
          "loss": 0.9357207417488098
         },
         {
          "i": 306,
          "loss": 0.935120165348053
         },
         {
          "i": 307,
          "loss": 0.9345255494117737
         },
         {
          "i": 308,
          "loss": 0.9339340329170227
         },
         {
          "i": 309,
          "loss": 0.9333437085151672
         },
         {
          "i": 310,
          "loss": 0.9327600598335266
         },
         {
          "i": 311,
          "loss": 0.9321771860122681
         },
         {
          "i": 312,
          "loss": 0.9315976500511169
         },
         {
          "i": 313,
          "loss": 0.9310237765312195
         },
         {
          "i": 314,
          "loss": 0.9304499626159668
         },
         {
          "i": 315,
          "loss": 0.9298807382583618
         },
         {
          "i": 316,
          "loss": 0.9293155074119568
         },
         {
          "i": 317,
          "loss": 0.9287509322166443
         },
         {
          "i": 318,
          "loss": 0.928192138671875
         },
         {
          "i": 319,
          "loss": 0.9276349544525146
         },
         {
          "i": 320,
          "loss": 0.9270791411399841
         },
         {
          "i": 321,
          "loss": 0.9265310764312744
         },
         {
          "i": 322,
          "loss": 0.9259811639785767
         },
         {
          "i": 323,
          "loss": 0.9254358410835266
         },
         {
          "i": 324,
          "loss": 0.9248948097229004
         },
         {
          "i": 325,
          "loss": 0.924354076385498
         },
         {
          "i": 326,
          "loss": 0.923818051815033
         },
         {
          "i": 327,
          "loss": 0.9232848286628723
         },
         {
          "i": 328,
          "loss": 0.9227523803710938
         },
         {
          "i": 329,
          "loss": 0.9222254753112793
         },
         {
          "i": 330,
          "loss": 0.9217000007629395
         },
         {
          "i": 331,
          "loss": 0.9211755990982056
         },
         {
          "i": 332,
          "loss": 0.9206579327583313
         },
         {
          "i": 333,
          "loss": 0.9201417565345764
         },
         {
          "i": 334,
          "loss": 0.9196369647979736
         },
         {
          "i": 335,
          "loss": 0.9191371202468872
         },
         {
          "i": 336,
          "loss": 0.9186367988586426
         },
         {
          "i": 337,
          "loss": 0.9181395769119263
         },
         {
          "i": 338,
          "loss": 0.9176470041275024
         },
         {
          "i": 339,
          "loss": 0.9171486496925354
         },
         {
          "i": 340,
          "loss": 0.916648805141449
         },
         {
          "i": 341,
          "loss": 0.916151225566864
         },
         {
          "i": 342,
          "loss": 0.9156545400619507
         },
         {
          "i": 343,
          "loss": 0.9151619672775269
         },
         {
          "i": 344,
          "loss": 0.9146714210510254
         },
         {
          "i": 345,
          "loss": 0.9141818881034851
         },
         {
          "i": 346,
          "loss": 0.9136971831321716
         },
         {
          "i": 347,
          "loss": 0.9132133722305298
         },
         {
          "i": 348,
          "loss": 0.9127306342124939
         },
         {
          "i": 349,
          "loss": 0.912253737449646
         },
         {
          "i": 350,
          "loss": 0.9117761254310608
         },
         {
          "i": 351,
          "loss": 0.9113004207611084
         },
         {
          "i": 352,
          "loss": 0.9108306169509888
         },
         {
          "i": 353,
          "loss": 0.910359263420105
         },
         {
          "i": 354,
          "loss": 0.9098909497261047
         },
         {
          "i": 355,
          "loss": 0.9094271063804626
         },
         {
          "i": 356,
          "loss": 0.9089627265930176
         },
         {
          "i": 357,
          "loss": 0.908501148223877
         },
         {
          "i": 358,
          "loss": 0.9080435037612915
         },
         {
          "i": 359,
          "loss": 0.9075854420661926
         },
         {
          "i": 360,
          "loss": 0.9071379899978638
         },
         {
          "i": 361,
          "loss": 0.9066976308822632
         },
         {
          "i": 362,
          "loss": 0.9062641263008118
         },
         {
          "i": 363,
          "loss": 0.9058270454406738
         },
         {
          "i": 364,
          "loss": 0.9053919315338135
         },
         {
          "i": 365,
          "loss": 0.9049616456031799
         },
         {
          "i": 366,
          "loss": 0.9045337438583374
         },
         {
          "i": 367,
          "loss": 0.9041042923927307
         },
         {
          "i": 368,
          "loss": 0.9036759734153748
         },
         {
          "i": 369,
          "loss": 0.9032577276229858
         },
         {
          "i": 370,
          "loss": 0.9028339385986328
         },
         {
          "i": 371,
          "loss": 0.9024106860160828
         },
         {
          "i": 372,
          "loss": 0.9019955992698669
         },
         {
          "i": 373,
          "loss": 0.9015804529190063
         },
         {
          "i": 374,
          "loss": 0.9011628031730652
         },
         {
          "i": 375,
          "loss": 0.9007489681243896
         },
         {
          "i": 376,
          "loss": 0.9003432989120483
         },
         {
          "i": 377,
          "loss": 0.8999309539794922
         },
         {
          "i": 378,
          "loss": 0.8995223045349121
         },
         {
          "i": 379,
          "loss": 0.8991162776947021
         },
         {
          "i": 380,
          "loss": 0.8987066149711609
         },
         {
          "i": 381,
          "loss": 0.8982961177825928
         },
         {
          "i": 382,
          "loss": 0.8978875875473022
         },
         {
          "i": 383,
          "loss": 0.8974846005439758
         },
         {
          "i": 384,
          "loss": 0.8970805406570435
         },
         {
          "i": 385,
          "loss": 0.8966799974441528
         },
         {
          "i": 386,
          "loss": 0.8962817192077637
         },
         {
          "i": 387,
          "loss": 0.8958860039710999
         },
         {
          "i": 388,
          "loss": 0.8954910039901733
         },
         {
          "i": 389,
          "loss": 0.8951011896133423
         },
         {
          "i": 390,
          "loss": 0.8947107195854187
         },
         {
          "i": 391,
          "loss": 0.894318163394928
         },
         {
          "i": 392,
          "loss": 0.8939314484596252
         },
         {
          "i": 393,
          "loss": 0.893541157245636
         },
         {
          "i": 394,
          "loss": 0.8931601643562317
         },
         {
          "i": 395,
          "loss": 0.8927744030952454
         },
         {
          "i": 396,
          "loss": 0.892391562461853
         },
         {
          "i": 397,
          "loss": 0.8920129537582397
         },
         {
          "i": 398,
          "loss": 0.8916320204734802
         },
         {
          "i": 399,
          "loss": 0.891255795955658
         },
         {
          "i": 400,
          "loss": 0.8908778429031372
         },
         {
          "i": 401,
          "loss": 0.8905059099197388
         },
         {
          "i": 402,
          "loss": 0.8901299834251404
         },
         {
          "i": 403,
          "loss": 0.8897587656974792
         },
         {
          "i": 404,
          "loss": 0.8893895149230957
         },
         {
          "i": 405,
          "loss": 0.8890188336372375
         },
         {
          "i": 406,
          "loss": 0.888653039932251
         },
         {
          "i": 407,
          "loss": 0.8882914185523987
         },
         {
          "i": 408,
          "loss": 0.8879217505455017
         },
         {
          "i": 409,
          "loss": 0.8875581622123718
         },
         {
          "i": 410,
          "loss": 0.8871955275535583
         },
         {
          "i": 411,
          "loss": 0.8868370652198792
         },
         {
          "i": 412,
          "loss": 0.8864727020263672
         },
         {
          "i": 413,
          "loss": 0.8861027359962463
         },
         {
          "i": 414,
          "loss": 0.8857306838035583
         },
         {
          "i": 415,
          "loss": 0.8853613138198853
         },
         {
          "i": 416,
          "loss": 0.8849912881851196
         },
         {
          "i": 417,
          "loss": 0.8846261501312256
         },
         {
          "i": 418,
          "loss": 0.8842601180076599
         },
         {
          "i": 419,
          "loss": 0.8838937878608704
         },
         {
          "i": 420,
          "loss": 0.8835328817367554
         },
         {
          "i": 421,
          "loss": 0.8831691741943359
         },
         {
          "i": 422,
          "loss": 0.8828113079071045
         },
         {
          "i": 423,
          "loss": 0.8824531435966492
         },
         {
          "i": 424,
          "loss": 0.8820931911468506
         },
         {
          "i": 425,
          "loss": 0.8817369937896729
         },
         {
          "i": 426,
          "loss": 0.8813703656196594
         },
         {
          "i": 427,
          "loss": 0.8809993863105774
         },
         {
          "i": 428,
          "loss": 0.8806238770484924
         },
         {
          "i": 429,
          "loss": 0.8802542090415955
         },
         {
          "i": 430,
          "loss": 0.8798810839653015
         },
         {
          "i": 431,
          "loss": 0.8795162439346313
         },
         {
          "i": 432,
          "loss": 0.879157304763794
         },
         {
          "i": 433,
          "loss": 0.8787906169891357
         },
         {
          "i": 434,
          "loss": 0.8784253597259521
         },
         {
          "i": 435,
          "loss": 0.8780571818351746
         },
         {
          "i": 436,
          "loss": 0.8776934742927551
         },
         {
          "i": 437,
          "loss": 0.8773305416107178
         },
         {
          "i": 438,
          "loss": 0.8769699335098267
         },
         {
          "i": 439,
          "loss": 0.8766084909439087
         },
         {
          "i": 440,
          "loss": 0.8762520551681519
         },
         {
          "i": 441,
          "loss": 0.8758981227874756
         },
         {
          "i": 442,
          "loss": 0.8755390048027039
         },
         {
          "i": 443,
          "loss": 0.8751832842826843
         },
         {
          "i": 444,
          "loss": 0.8748289346694946
         },
         {
          "i": 445,
          "loss": 0.8744760751724243
         },
         {
          "i": 446,
          "loss": 0.8741235136985779
         },
         {
          "i": 447,
          "loss": 0.8737733364105225
         },
         {
          "i": 448,
          "loss": 0.8734226226806641
         },
         {
          "i": 449,
          "loss": 0.8730735182762146
         },
         {
          "i": 450,
          "loss": 0.8727192878723145
         },
         {
          "i": 451,
          "loss": 0.8723679184913635
         },
         {
          "i": 452,
          "loss": 0.8720141649246216
         },
         {
          "i": 453,
          "loss": 0.8716652393341064
         },
         {
          "i": 454,
          "loss": 0.8713130950927734
         },
         {
          "i": 455,
          "loss": 0.8709666728973389
         },
         {
          "i": 456,
          "loss": 0.8706161379814148
         },
         {
          "i": 457,
          "loss": 0.870271623134613
         },
         {
          "i": 458,
          "loss": 0.8699145317077637
         },
         {
          "i": 459,
          "loss": 0.8695550560951233
         },
         {
          "i": 460,
          "loss": 0.8691999912261963
         },
         {
          "i": 461,
          "loss": 0.8688464164733887
         },
         {
          "i": 462,
          "loss": 0.8685016632080078
         },
         {
          "i": 463,
          "loss": 0.8681566119194031
         },
         {
          "i": 464,
          "loss": 0.8678141236305237
         },
         {
          "i": 465,
          "loss": 0.8674706816673279
         },
         {
          "i": 466,
          "loss": 0.8671302795410156
         },
         {
          "i": 467,
          "loss": 0.8667886257171631
         },
         {
          "i": 468,
          "loss": 0.8664506673812866
         },
         {
          "i": 469,
          "loss": 0.8661107420921326
         },
         {
          "i": 470,
          "loss": 0.8657743334770203
         },
         {
          "i": 471,
          "loss": 0.8654360175132751
         },
         {
          "i": 472,
          "loss": 0.8651013374328613
         },
         {
          "i": 473,
          "loss": 0.8647646307945251
         },
         {
          "i": 474,
          "loss": 0.8644336462020874
         },
         {
          "i": 475,
          "loss": 0.864101767539978
         },
         {
          "i": 476,
          "loss": 0.8637663125991821
         },
         {
          "i": 477,
          "loss": 0.8634335994720459
         },
         {
          "i": 478,
          "loss": 0.8631035685539246
         },
         {
          "i": 479,
          "loss": 0.862772524356842
         },
         {
          "i": 480,
          "loss": 0.8624441623687744
         },
         {
          "i": 481,
          "loss": 0.8621147871017456
         },
         {
          "i": 482,
          "loss": 0.8617881536483765
         },
         {
          "i": 483,
          "loss": 0.8614602088928223
         },
         {
          "i": 484,
          "loss": 0.8611353039741516
         },
         {
          "i": 485,
          "loss": 0.8608090877532959
         },
         {
          "i": 486,
          "loss": 0.860485851764679
         },
         {
          "i": 487,
          "loss": 0.8601610064506531
         },
         {
          "i": 488,
          "loss": 0.8598393797874451
         },
         {
          "i": 489,
          "loss": 0.859515905380249
         },
         {
          "i": 490,
          "loss": 0.8591961860656738
         },
         {
          "i": 491,
          "loss": 0.8588801026344299
         },
         {
          "i": 492,
          "loss": 0.8585756421089172
         },
         {
          "i": 493,
          "loss": 0.8582637310028076
         },
         {
          "i": 494,
          "loss": 0.857952356338501
         },
         {
          "i": 495,
          "loss": 0.8576420545578003
         },
         {
          "i": 496,
          "loss": 0.8573144674301147
         },
         {
          "i": 497,
          "loss": 0.8569889068603516
         },
         {
          "i": 498,
          "loss": 0.8566630482673645
         },
         {
          "i": 499,
          "loss": 0.8563389778137207
         }
        ]
       },
       "encoding": {
        "x": {
         "field": "i",
         "type": "quantitative"
        },
        "y": {
         "field": "loss",
         "type": "quantitative"
        }
       },
       "height": 100,
       "mark": "line"
      },
      "image/png": "[encoded data removed]",
      "text/plain": [
       "<VegaLite 3 object>\n",
       "\n",
       "If you see this message, it means the renderer has not been properly enabled\n",
       "for the frontend that you are using. For more information, see\n",
       "https://altair-viz.github.io/user_guide/troubleshooting.html\n"
      ]
     },
     "execution_count": 116,
     "metadata": {},
     "output_type": "execute_result"
    }
   ],
   "source": [
    "loss_df = pd.DataFrame({'i':range(500), 'loss':loss_record})\n",
    "alt.Chart(loss_df, height=100).mark_line().encode(x='i', y='loss')"
   ]
  },
  {
   "cell_type": "markdown",
   "metadata": {},
   "source": [
    "And here are our predictions for a new $x$:"
   ]
  },
  {
   "cell_type": "code",
   "execution_count": 117,
   "metadata": {},
   "outputs": [
    {
     "data": {
      "text/plain": [
       "tensor([[-0.2449],\n",
       "        [-0.3287],\n",
       "        [ 0.6254],\n",
       "        [-0.1357],\n",
       "        [-0.2929],\n",
       "        [-0.3676],\n",
       "        [ 0.2192],\n",
       "        [ 0.3494],\n",
       "        [-0.6368],\n",
       "        [-0.0381]], grad_fn=<AddBackward0>)"
      ]
     },
     "execution_count": 117,
     "metadata": {},
     "output_type": "execute_result"
    }
   ],
   "source": [
    "new_x = torch.randn(10, 5) # 10 new observations\n",
    "z = g(torch.matmul(new_x,W)+b)\n",
    "torch.matmul(z,α[1:])+α[0]"
   ]
  },
  {
   "cell_type": "markdown",
   "metadata": {},
   "source": [
    "<div class=\"alert alert-block alert-info\">\n",
    "<b>Exercise:</b> \n",
    "\n",
    "Apply this strategy to our logistic regression to make a more complex **classification** model. In other words, implement the machine learning algorithm with these characteristics:\n",
    "* Model: $\\hat p_i = \\sigma(g(x_i W+b))\\alpha_{1:h} + \\alpha_0)$, with $\\sigma$, $g$, $W$, $b$, and $\\alpha$ as previously described\n",
    "* Loss: log-loss\n",
    "* Search Algorithm: gradient descent\n",
    "</div>"
   ]
  },
  {
   "cell_type": "markdown",
   "metadata": {},
   "source": [
    "### Conclusion"
   ]
  },
  {
   "cell_type": "markdown",
   "metadata": {},
   "source": [
    "We just developed a machine learning method out of these three components:\n",
    "* \"linear-relu\" $\\times$ 10 + linear model (model)\n",
    "* MSE loss (loss)\n",
    "* gradient descent (search algorithm)\n",
    "\n",
    "This is a neural network. The 10 \"new predictors\" are together a _hidden layer_ (hidden because we don't see them at the end of the day, just the output $\\hat y$) and each of them individually is called a _hidden unit_. The function $g$ is called an _activation function_, so in total what we've built is a neural network with a single size-10 hidden layer and a ReLU activation function. We then fit that model using gradient descent and an MSE loss."
   ]
  },
  {
   "cell_type": "markdown",
   "metadata": {},
   "source": [
    "## How does this help?"
   ]
  },
  {
   "cell_type": "markdown",
   "metadata": {},
   "source": [
    "While we could define ever-more complex interactions of parameters and data, it turns out that simply stacking linear regressions with nonlinear activation functions on top of each other (e.g. \"linear-relu\" regressions) gets us enough complexity to model practically any relationship we want. Let's have a look at an example where $y = x^2$ in reality:"
   ]
  },
  {
   "cell_type": "code",
   "execution_count": 376,
   "metadata": {},
   "outputs": [],
   "source": [
    "p = 1\n",
    "n = 100\n",
    "\n",
    "x = torch.randn(n, p) # predictors (n observations, p features)\n",
    "y = (x[:,0]**2).unsqueeze(dim=1) # outcomes (n observations)"
   ]
  },
  {
   "cell_type": "code",
   "execution_count": 377,
   "metadata": {},
   "outputs": [
    {
     "data": {
      "application/vnd.vegalite.v3+json": {
       "$schema": "https://vega.github.io/schema/vega-lite/v3.4.0.json",
       "config": {
        "mark": {
         "tooltip": null
        },
        "view": {
         "height": 300,
         "width": 400
        }
       },
       "data": {
        "name": "data-c4b138837176dad450f65914f6df4365"
       },
       "datasets": {
        "data-c4b138837176dad450f65914f6df4365": [
         {
          "x1": 0.8385455012321472,
          "y": 0.7031585574150085
         },
         {
          "x1": -0.49665752053260803,
          "y": 0.24666869640350342
         },
         {
          "x1": -0.8446605205535889,
          "y": 0.7134513854980469
         },
         {
          "x1": -0.42163780331611633,
          "y": 0.1777784377336502
         },
         {
          "x1": 0.1565307378768921,
          "y": 0.024501871317625046
         },
         {
          "x1": -0.30727648735046387,
          "y": 0.09441883862018585
         },
         {
          "x1": 0.30222129821777344,
          "y": 0.09133771061897278
         },
         {
          "x1": -0.08980663120746613,
          "y": 0.008065231144428253
         },
         {
          "x1": -0.842332124710083,
          "y": 0.7095233798027039
         },
         {
          "x1": -0.8345144987106323,
          "y": 0.6964144706726074
         },
         {
          "x1": 0.2783096134662628,
          "y": 0.07745624333620071
         },
         {
          "x1": -1.6186836957931519,
          "y": 2.6201369762420654
         },
         {
          "x1": -0.9328137636184692,
          "y": 0.8701415061950684
         },
         {
          "x1": -1.6493779420852661,
          "y": 2.720447540283203
         },
         {
          "x1": 0.3906685411930084,
          "y": 0.15262190997600555
         },
         {
          "x1": 0.3538188934326172,
          "y": 0.12518781423568726
         },
         {
          "x1": -0.46842026710510254,
          "y": 0.219417542219162
         },
         {
          "x1": -0.8511542677879333,
          "y": 0.7244635820388794
         },
         {
          "x1": -0.707750141620636,
          "y": 0.5009102821350098
         },
         {
          "x1": -1.315176010131836,
          "y": 1.7296879291534424
         },
         {
          "x1": -0.10163570940494537,
          "y": 0.010329817421734333
         },
         {
          "x1": 0.1665923297405243,
          "y": 0.027753004804253578
         },
         {
          "x1": -0.7193951606750488,
          "y": 0.5175293684005737
         },
         {
          "x1": 0.6013686060905457,
          "y": 0.3616442084312439
         },
         {
          "x1": -1.1538795232772827,
          "y": 1.3314379453659058
         },
         {
          "x1": 0.030839035287499428,
          "y": 0.0009510461241006851
         },
         {
          "x1": 0.18931491672992706,
          "y": 0.03584013879299164
         },
         {
          "x1": -0.09791752696037292,
          "y": 0.009587842039763927
         },
         {
          "x1": 0.27008092403411865,
          "y": 0.07294370234012604
         },
         {
          "x1": -1.633970022201538,
          "y": 2.669857978820801
         },
         {
          "x1": 1.0276837348937988,
          "y": 1.0561338663101196
         },
         {
          "x1": 0.1692667454481125,
          "y": 0.02865123189985752
         },
         {
          "x1": 1.0028891563415527,
          "y": 1.005786657333374
         },
         {
          "x1": 0.0670328363776207,
          "y": 0.0044934009201824665
         },
         {
          "x1": -0.7625962495803833,
          "y": 0.581553041934967
         },
         {
          "x1": -0.12922878563404083,
          "y": 0.016700079664587975
         },
         {
          "x1": -1.612038493156433,
          "y": 2.598668098449707
         },
         {
          "x1": -0.683637261390686,
          "y": 0.46735990047454834
         },
         {
          "x1": -0.05152073875069618,
          "y": 0.0026543864514678717
         },
         {
          "x1": 0.4880196452140808,
          "y": 0.23816317319869995
         },
         {
          "x1": 0.48911991715431213,
          "y": 0.23923829197883606
         },
         {
          "x1": -0.1346949189901352,
          "y": 0.01814272068440914
         },
         {
          "x1": -0.09128694981336594,
          "y": 0.008333306759595871
         },
         {
          "x1": -1.986048936843872,
          "y": 3.944390296936035
         },
         {
          "x1": 0.6307474970817566,
          "y": 0.3978424072265625
         },
         {
          "x1": 0.23694516718387604,
          "y": 0.05614301189780235
         },
         {
          "x1": 0.858505129814148,
          "y": 0.7370310425758362
         },
         {
          "x1": 0.018415724858641624,
          "y": 0.00033913893275894225
         },
         {
          "x1": 1.3745160102844238,
          "y": 1.8892942667007446
         },
         {
          "x1": -0.08792936056852341,
          "y": 0.007731572259217501
         },
         {
          "x1": -0.09041056036949158,
          "y": 0.008174069225788116
         },
         {
          "x1": -0.24510541558265686,
          "y": 0.06007666513323784
         },
         {
          "x1": -0.1481253057718277,
          "y": 0.021941106766462326
         },
         {
          "x1": 1.3836276531219482,
          "y": 1.9144254922866821
         },
         {
          "x1": -0.3371792137622833,
          "y": 0.11368982493877411
         },
         {
          "x1": -1.0437960624694824,
          "y": 1.089510202407837
         },
         {
          "x1": -0.03915335610508919,
          "y": 0.0015329852467402816
         },
         {
          "x1": -1.002817988395691,
          "y": 1.0056439638137817
         },
         {
          "x1": 0.5299388766288757,
          "y": 0.28083521127700806
         },
         {
          "x1": -0.7239068746566772,
          "y": 0.5240411758422852
         },
         {
          "x1": 1.0551128387451172,
          "y": 1.1132631301879883
         },
         {
          "x1": -1.01012122631073,
          "y": 1.020344853401184
         },
         {
          "x1": 0.7951121926307678,
          "y": 0.6322034001350403
         },
         {
          "x1": -0.9547920227050781,
          "y": 0.9116278290748596
         },
         {
          "x1": 0.5478885769844055,
          "y": 0.30018189549446106
         },
         {
          "x1": -0.9505205154418945,
          "y": 0.9034892320632935
         },
         {
          "x1": 0.3754342496395111,
          "y": 0.14095087349414825
         },
         {
          "x1": 1.2450982332229614,
          "y": 1.550269603729248
         },
         {
          "x1": -2.227614402770996,
          "y": 4.962265968322754
         },
         {
          "x1": -0.0045912559144198895,
          "y": 2.107963155140169e-05
         },
         {
          "x1": -0.04098954051733017,
          "y": 0.001680142479017377
         },
         {
          "x1": 0.49783796072006226,
          "y": 0.24784263968467712
         },
         {
          "x1": 0.2822411358356476,
          "y": 0.07966005802154541
         },
         {
          "x1": -0.05127144977450371,
          "y": 0.002628761576488614
         },
         {
          "x1": 2.238039016723633,
          "y": 5.008818626403809
         },
         {
          "x1": -1.0808724164962769,
          "y": 1.1682851314544678
         },
         {
          "x1": 2.219867467880249,
          "y": 4.927811622619629
         },
         {
          "x1": 0.6742897033691406,
          "y": 0.4546666145324707
         },
         {
          "x1": 0.464852511882782,
          "y": 0.21608786284923553
         },
         {
          "x1": -0.5342574119567871,
          "y": 0.2854309678077698
         },
         {
          "x1": -1.4661026000976562,
          "y": 2.149456739425659
         },
         {
          "x1": -0.26652398705482483,
          "y": 0.07103503495454788
         },
         {
          "x1": 1.2981946468353271,
          "y": 1.6853092908859253
         },
         {
          "x1": -0.2165496051311493,
          "y": 0.046893730759620667
         },
         {
          "x1": 0.4534211754798889,
          "y": 0.20559076964855194
         },
         {
          "x1": -0.9095655679702759,
          "y": 0.8273095488548279
         },
         {
          "x1": -0.7528094053268433,
          "y": 0.5667219758033752
         },
         {
          "x1": 0.5806728601455688,
          "y": 0.3371809720993042
         },
         {
          "x1": -0.5865963101387024,
          "y": 0.34409523010253906
         },
         {
          "x1": 1.4879064559936523,
          "y": 2.2138655185699463
         },
         {
          "x1": -1.504737138748169,
          "y": 2.2642338275909424
         },
         {
          "x1": -1.2561002969741821,
          "y": 1.57778799533844
         },
         {
          "x1": 0.46809354424476624,
          "y": 0.21911156177520752
         },
         {
          "x1": -1.6293408870697021,
          "y": 2.654751777648926
         },
         {
          "x1": -1.8111705780029297,
          "y": 3.280338764190674
         },
         {
          "x1": -1.0287038087844849,
          "y": 1.0582314729690552
         },
         {
          "x1": 0.9584910273551941,
          "y": 0.9187050461769104
         },
         {
          "x1": 0.24389412999153137,
          "y": 0.05948434770107269
         },
         {
          "x1": 0.5317782163619995,
          "y": 0.28278806805610657
         },
         {
          "x1": -0.6158742904663086,
          "y": 0.37930113077163696
         }
        ]
       },
       "encoding": {
        "x": {
         "field": "x1",
         "type": "quantitative"
        },
        "y": {
         "field": "y",
         "type": "quantitative"
        }
       },
       "mark": "point"
      },
      "image/png": "[encoded data removed]",
      "text/plain": [
       "<VegaLite 3 object>\n",
       "\n",
       "If you see this message, it means the renderer has not been properly enabled\n",
       "for the frontend that you are using. For more information, see\n",
       "https://altair-viz.github.io/user_guide/troubleshooting.html\n"
      ]
     },
     "execution_count": 377,
     "metadata": {},
     "output_type": "execute_result"
    }
   ],
   "source": [
    "data = pd.DataFrame({'y':y[:,0], 'x1':x[:,0]})\n",
    "alt.Chart(data).mark_point().encode(x='x1', y='y')"
   ]
  },
  {
   "cell_type": "markdown",
   "metadata": {},
   "source": [
    "If we fit a linear model, we don't do very well:"
   ]
  },
  {
   "cell_type": "code",
   "execution_count": 378,
   "metadata": {},
   "outputs": [],
   "source": [
    "loss_record = [] \n",
    "β = torch.randn(p+1,1).requires_grad_()\n",
    "b = torch.randn(1).requires_grad_()\n",
    "\n",
    "for e in range(500):\n",
    "    ŷ = torch.matmul(x, β[1:]) + β[0] # ŷ = xβ + b(calculate predictions)\n",
    "    L = torch.sum((y-ŷ)**2)/n # L = Σ(yᵢ-ŷᵢ)² (use predictions to calculate loss)\n",
    "    \n",
    "    L.backward() # compute gradients (in this case δL/δβ, δL/δW)\n",
    "    loss_record.append(L.item())\n",
    "\n",
    "    with torch.no_grad(): # take the gradient descent step \n",
    "        β -= 10e-2 * β.grad\n",
    "        β.grad.zero_()"
   ]
  },
  {
   "cell_type": "markdown",
   "metadata": {},
   "source": [
    "The loss does go down, but overall it's still really high:"
   ]
  },
  {
   "cell_type": "code",
   "execution_count": 379,
   "metadata": {},
   "outputs": [
    {
     "data": {
      "application/vnd.vegalite.v3+json": {
       "$schema": "https://vega.github.io/schema/vega-lite/v3.4.0.json",
       "config": {
        "mark": {
         "tooltip": null
        },
        "view": {
         "height": 300,
         "width": 400
        }
       },
       "data": {
        "name": "data-af3ffb755fc23795c9fa65b5dfa5031c"
       },
       "datasets": {
        "data-af3ffb755fc23795c9fa65b5dfa5031c": [
         {
          "i": 0,
          "loss": 1.3233888149261475
         },
         {
          "i": 1,
          "loss": 1.2749359607696533
         },
         {
          "i": 2,
          "loss": 1.2444332838058472
         },
         {
          "i": 3,
          "loss": 1.2251553535461426
         },
         {
          "i": 4,
          "loss": 1.2129179239273071
         },
         {
          "i": 5,
          "loss": 1.2051113843917847
         },
         {
          "i": 6,
          "loss": 1.20010507106781
         },
         {
          "i": 7,
          "loss": 1.1968754529953003
         },
         {
          "i": 8,
          "loss": 1.1947791576385498
         },
         {
          "i": 9,
          "loss": 1.1934094429016113
         },
         {
          "i": 10,
          "loss": 1.1925081014633179
         },
         {
          "i": 11,
          "loss": 1.191910982131958
         },
         {
          "i": 12,
          "loss": 1.1915122270584106
         },
         {
          "i": 13,
          "loss": 1.1912440061569214
         },
         {
          "i": 14,
          "loss": 1.1910624504089355
         },
         {
          "i": 15,
          "loss": 1.1909388303756714
         },
         {
          "i": 16,
          "loss": 1.1908535957336426
         },
         {
          "i": 17,
          "loss": 1.1907947063446045
         },
         {
          "i": 18,
          "loss": 1.1907540559768677
         },
         {
          "i": 19,
          "loss": 1.1907252073287964
         },
         {
          "i": 20,
          "loss": 1.1907052993774414
         },
         {
          "i": 21,
          "loss": 1.1906911134719849
         },
         {
          "i": 22,
          "loss": 1.1906810998916626
         },
         {
          "i": 23,
          "loss": 1.1906739473342896
         },
         {
          "i": 24,
          "loss": 1.1906688213348389
         },
         {
          "i": 25,
          "loss": 1.1906651258468628
         },
         {
          "i": 26,
          "loss": 1.1906627416610718
         },
         {
          "i": 27,
          "loss": 1.190660834312439
         },
         {
          "i": 28,
          "loss": 1.1906592845916748
         },
         {
          "i": 29,
          "loss": 1.190658450126648
         },
         {
          "i": 30,
          "loss": 1.190657615661621
         },
         {
          "i": 31,
          "loss": 1.190657138824463
         },
         {
          "i": 32,
          "loss": 1.1906567811965942
         },
         {
          "i": 33,
          "loss": 1.1906565427780151
         },
         {
          "i": 34,
          "loss": 1.190656304359436
         },
         {
          "i": 35,
          "loss": 1.1906561851501465
         },
         {
          "i": 36,
          "loss": 1.190656065940857
         },
         {
          "i": 37,
          "loss": 1.1906559467315674
         },
         {
          "i": 38,
          "loss": 1.190656065940857
         },
         {
          "i": 39,
          "loss": 1.1906557083129883
         },
         {
          "i": 40,
          "loss": 1.1906559467315674
         },
         {
          "i": 41,
          "loss": 1.1906558275222778
         },
         {
          "i": 42,
          "loss": 1.1906559467315674
         },
         {
          "i": 43,
          "loss": 1.1906557083129883
         },
         {
          "i": 44,
          "loss": 1.1906558275222778
         },
         {
          "i": 45,
          "loss": 1.1906557083129883
         },
         {
          "i": 46,
          "loss": 1.1906558275222778
         },
         {
          "i": 47,
          "loss": 1.1906557083129883
         },
         {
          "i": 48,
          "loss": 1.1906557083129883
         },
         {
          "i": 49,
          "loss": 1.1906557083129883
         },
         {
          "i": 50,
          "loss": 1.1906557083129883
         },
         {
          "i": 51,
          "loss": 1.1906558275222778
         },
         {
          "i": 52,
          "loss": 1.1906559467315674
         },
         {
          "i": 53,
          "loss": 1.1906558275222778
         },
         {
          "i": 54,
          "loss": 1.1906559467315674
         },
         {
          "i": 55,
          "loss": 1.1906558275222778
         },
         {
          "i": 56,
          "loss": 1.1906557083129883
         },
         {
          "i": 57,
          "loss": 1.1906557083129883
         },
         {
          "i": 58,
          "loss": 1.1906557083129883
         },
         {
          "i": 59,
          "loss": 1.1906557083129883
         },
         {
          "i": 60,
          "loss": 1.1906557083129883
         },
         {
          "i": 61,
          "loss": 1.1906557083129883
         },
         {
          "i": 62,
          "loss": 1.1906557083129883
         },
         {
          "i": 63,
          "loss": 1.1906559467315674
         },
         {
          "i": 64,
          "loss": 1.1906558275222778
         },
         {
          "i": 65,
          "loss": 1.1906559467315674
         },
         {
          "i": 66,
          "loss": 1.1906559467315674
         },
         {
          "i": 67,
          "loss": 1.1906558275222778
         },
         {
          "i": 68,
          "loss": 1.1906558275222778
         },
         {
          "i": 69,
          "loss": 1.1906557083129883
         },
         {
          "i": 70,
          "loss": 1.1906557083129883
         },
         {
          "i": 71,
          "loss": 1.1906557083129883
         },
         {
          "i": 72,
          "loss": 1.1906557083129883
         },
         {
          "i": 73,
          "loss": 1.1906558275222778
         },
         {
          "i": 74,
          "loss": 1.1906557083129883
         },
         {
          "i": 75,
          "loss": 1.1906557083129883
         },
         {
          "i": 76,
          "loss": 1.1906557083129883
         },
         {
          "i": 77,
          "loss": 1.1906557083129883
         },
         {
          "i": 78,
          "loss": 1.1906557083129883
         },
         {
          "i": 79,
          "loss": 1.1906557083129883
         },
         {
          "i": 80,
          "loss": 1.1906558275222778
         },
         {
          "i": 81,
          "loss": 1.1906558275222778
         },
         {
          "i": 82,
          "loss": 1.1906559467315674
         },
         {
          "i": 83,
          "loss": 1.1906558275222778
         },
         {
          "i": 84,
          "loss": 1.1906559467315674
         },
         {
          "i": 85,
          "loss": 1.1906559467315674
         },
         {
          "i": 86,
          "loss": 1.1906559467315674
         },
         {
          "i": 87,
          "loss": 1.1906559467315674
         },
         {
          "i": 88,
          "loss": 1.1906558275222778
         },
         {
          "i": 89,
          "loss": 1.1906558275222778
         },
         {
          "i": 90,
          "loss": 1.1906558275222778
         },
         {
          "i": 91,
          "loss": 1.1906558275222778
         },
         {
          "i": 92,
          "loss": 1.1906558275222778
         },
         {
          "i": 93,
          "loss": 1.1906558275222778
         },
         {
          "i": 94,
          "loss": 1.1906558275222778
         },
         {
          "i": 95,
          "loss": 1.1906558275222778
         },
         {
          "i": 96,
          "loss": 1.1906558275222778
         },
         {
          "i": 97,
          "loss": 1.1906558275222778
         },
         {
          "i": 98,
          "loss": 1.1906558275222778
         },
         {
          "i": 99,
          "loss": 1.1906558275222778
         },
         {
          "i": 100,
          "loss": 1.1906558275222778
         },
         {
          "i": 101,
          "loss": 1.1906558275222778
         },
         {
          "i": 102,
          "loss": 1.1906558275222778
         },
         {
          "i": 103,
          "loss": 1.1906558275222778
         },
         {
          "i": 104,
          "loss": 1.1906558275222778
         },
         {
          "i": 105,
          "loss": 1.1906558275222778
         },
         {
          "i": 106,
          "loss": 1.1906558275222778
         },
         {
          "i": 107,
          "loss": 1.1906558275222778
         },
         {
          "i": 108,
          "loss": 1.1906558275222778
         },
         {
          "i": 109,
          "loss": 1.1906558275222778
         },
         {
          "i": 110,
          "loss": 1.1906558275222778
         },
         {
          "i": 111,
          "loss": 1.1906558275222778
         },
         {
          "i": 112,
          "loss": 1.1906558275222778
         },
         {
          "i": 113,
          "loss": 1.1906558275222778
         },
         {
          "i": 114,
          "loss": 1.1906558275222778
         },
         {
          "i": 115,
          "loss": 1.1906558275222778
         },
         {
          "i": 116,
          "loss": 1.1906558275222778
         },
         {
          "i": 117,
          "loss": 1.1906558275222778
         },
         {
          "i": 118,
          "loss": 1.1906558275222778
         },
         {
          "i": 119,
          "loss": 1.1906558275222778
         },
         {
          "i": 120,
          "loss": 1.1906558275222778
         },
         {
          "i": 121,
          "loss": 1.1906558275222778
         },
         {
          "i": 122,
          "loss": 1.1906558275222778
         },
         {
          "i": 123,
          "loss": 1.1906558275222778
         },
         {
          "i": 124,
          "loss": 1.1906558275222778
         },
         {
          "i": 125,
          "loss": 1.1906558275222778
         },
         {
          "i": 126,
          "loss": 1.1906558275222778
         },
         {
          "i": 127,
          "loss": 1.1906558275222778
         },
         {
          "i": 128,
          "loss": 1.1906558275222778
         },
         {
          "i": 129,
          "loss": 1.1906558275222778
         },
         {
          "i": 130,
          "loss": 1.1906558275222778
         },
         {
          "i": 131,
          "loss": 1.1906558275222778
         },
         {
          "i": 132,
          "loss": 1.1906558275222778
         },
         {
          "i": 133,
          "loss": 1.1906558275222778
         },
         {
          "i": 134,
          "loss": 1.1906558275222778
         },
         {
          "i": 135,
          "loss": 1.1906558275222778
         },
         {
          "i": 136,
          "loss": 1.1906558275222778
         },
         {
          "i": 137,
          "loss": 1.1906558275222778
         },
         {
          "i": 138,
          "loss": 1.1906558275222778
         },
         {
          "i": 139,
          "loss": 1.1906558275222778
         },
         {
          "i": 140,
          "loss": 1.1906558275222778
         },
         {
          "i": 141,
          "loss": 1.1906558275222778
         },
         {
          "i": 142,
          "loss": 1.1906558275222778
         },
         {
          "i": 143,
          "loss": 1.1906558275222778
         },
         {
          "i": 144,
          "loss": 1.1906558275222778
         },
         {
          "i": 145,
          "loss": 1.1906558275222778
         },
         {
          "i": 146,
          "loss": 1.1906558275222778
         },
         {
          "i": 147,
          "loss": 1.1906558275222778
         },
         {
          "i": 148,
          "loss": 1.1906558275222778
         },
         {
          "i": 149,
          "loss": 1.1906558275222778
         },
         {
          "i": 150,
          "loss": 1.1906558275222778
         },
         {
          "i": 151,
          "loss": 1.1906558275222778
         },
         {
          "i": 152,
          "loss": 1.1906558275222778
         },
         {
          "i": 153,
          "loss": 1.1906558275222778
         },
         {
          "i": 154,
          "loss": 1.1906558275222778
         },
         {
          "i": 155,
          "loss": 1.1906558275222778
         },
         {
          "i": 156,
          "loss": 1.1906558275222778
         },
         {
          "i": 157,
          "loss": 1.1906558275222778
         },
         {
          "i": 158,
          "loss": 1.1906558275222778
         },
         {
          "i": 159,
          "loss": 1.1906558275222778
         },
         {
          "i": 160,
          "loss": 1.1906558275222778
         },
         {
          "i": 161,
          "loss": 1.1906558275222778
         },
         {
          "i": 162,
          "loss": 1.1906558275222778
         },
         {
          "i": 163,
          "loss": 1.1906558275222778
         },
         {
          "i": 164,
          "loss": 1.1906558275222778
         },
         {
          "i": 165,
          "loss": 1.1906558275222778
         },
         {
          "i": 166,
          "loss": 1.1906558275222778
         },
         {
          "i": 167,
          "loss": 1.1906558275222778
         },
         {
          "i": 168,
          "loss": 1.1906558275222778
         },
         {
          "i": 169,
          "loss": 1.1906558275222778
         },
         {
          "i": 170,
          "loss": 1.1906558275222778
         },
         {
          "i": 171,
          "loss": 1.1906558275222778
         },
         {
          "i": 172,
          "loss": 1.1906558275222778
         },
         {
          "i": 173,
          "loss": 1.1906558275222778
         },
         {
          "i": 174,
          "loss": 1.1906558275222778
         },
         {
          "i": 175,
          "loss": 1.1906558275222778
         },
         {
          "i": 176,
          "loss": 1.1906558275222778
         },
         {
          "i": 177,
          "loss": 1.1906558275222778
         },
         {
          "i": 178,
          "loss": 1.1906558275222778
         },
         {
          "i": 179,
          "loss": 1.1906558275222778
         },
         {
          "i": 180,
          "loss": 1.1906558275222778
         },
         {
          "i": 181,
          "loss": 1.1906558275222778
         },
         {
          "i": 182,
          "loss": 1.1906558275222778
         },
         {
          "i": 183,
          "loss": 1.1906558275222778
         },
         {
          "i": 184,
          "loss": 1.1906558275222778
         },
         {
          "i": 185,
          "loss": 1.1906558275222778
         },
         {
          "i": 186,
          "loss": 1.1906558275222778
         },
         {
          "i": 187,
          "loss": 1.1906558275222778
         },
         {
          "i": 188,
          "loss": 1.1906558275222778
         },
         {
          "i": 189,
          "loss": 1.1906558275222778
         },
         {
          "i": 190,
          "loss": 1.1906558275222778
         },
         {
          "i": 191,
          "loss": 1.1906558275222778
         },
         {
          "i": 192,
          "loss": 1.1906558275222778
         },
         {
          "i": 193,
          "loss": 1.1906558275222778
         },
         {
          "i": 194,
          "loss": 1.1906558275222778
         },
         {
          "i": 195,
          "loss": 1.1906558275222778
         },
         {
          "i": 196,
          "loss": 1.1906558275222778
         },
         {
          "i": 197,
          "loss": 1.1906558275222778
         },
         {
          "i": 198,
          "loss": 1.1906558275222778
         },
         {
          "i": 199,
          "loss": 1.1906558275222778
         },
         {
          "i": 200,
          "loss": 1.1906558275222778
         },
         {
          "i": 201,
          "loss": 1.1906558275222778
         },
         {
          "i": 202,
          "loss": 1.1906558275222778
         },
         {
          "i": 203,
          "loss": 1.1906558275222778
         },
         {
          "i": 204,
          "loss": 1.1906558275222778
         },
         {
          "i": 205,
          "loss": 1.1906558275222778
         },
         {
          "i": 206,
          "loss": 1.1906558275222778
         },
         {
          "i": 207,
          "loss": 1.1906558275222778
         },
         {
          "i": 208,
          "loss": 1.1906558275222778
         },
         {
          "i": 209,
          "loss": 1.1906558275222778
         },
         {
          "i": 210,
          "loss": 1.1906558275222778
         },
         {
          "i": 211,
          "loss": 1.1906558275222778
         },
         {
          "i": 212,
          "loss": 1.1906558275222778
         },
         {
          "i": 213,
          "loss": 1.1906558275222778
         },
         {
          "i": 214,
          "loss": 1.1906558275222778
         },
         {
          "i": 215,
          "loss": 1.1906558275222778
         },
         {
          "i": 216,
          "loss": 1.1906558275222778
         },
         {
          "i": 217,
          "loss": 1.1906558275222778
         },
         {
          "i": 218,
          "loss": 1.1906558275222778
         },
         {
          "i": 219,
          "loss": 1.1906558275222778
         },
         {
          "i": 220,
          "loss": 1.1906558275222778
         },
         {
          "i": 221,
          "loss": 1.1906558275222778
         },
         {
          "i": 222,
          "loss": 1.1906558275222778
         },
         {
          "i": 223,
          "loss": 1.1906558275222778
         },
         {
          "i": 224,
          "loss": 1.1906558275222778
         },
         {
          "i": 225,
          "loss": 1.1906558275222778
         },
         {
          "i": 226,
          "loss": 1.1906558275222778
         },
         {
          "i": 227,
          "loss": 1.1906558275222778
         },
         {
          "i": 228,
          "loss": 1.1906558275222778
         },
         {
          "i": 229,
          "loss": 1.1906558275222778
         },
         {
          "i": 230,
          "loss": 1.1906558275222778
         },
         {
          "i": 231,
          "loss": 1.1906558275222778
         },
         {
          "i": 232,
          "loss": 1.1906558275222778
         },
         {
          "i": 233,
          "loss": 1.1906558275222778
         },
         {
          "i": 234,
          "loss": 1.1906558275222778
         },
         {
          "i": 235,
          "loss": 1.1906558275222778
         },
         {
          "i": 236,
          "loss": 1.1906558275222778
         },
         {
          "i": 237,
          "loss": 1.1906558275222778
         },
         {
          "i": 238,
          "loss": 1.1906558275222778
         },
         {
          "i": 239,
          "loss": 1.1906558275222778
         },
         {
          "i": 240,
          "loss": 1.1906558275222778
         },
         {
          "i": 241,
          "loss": 1.1906558275222778
         },
         {
          "i": 242,
          "loss": 1.1906558275222778
         },
         {
          "i": 243,
          "loss": 1.1906558275222778
         },
         {
          "i": 244,
          "loss": 1.1906558275222778
         },
         {
          "i": 245,
          "loss": 1.1906558275222778
         },
         {
          "i": 246,
          "loss": 1.1906558275222778
         },
         {
          "i": 247,
          "loss": 1.1906558275222778
         },
         {
          "i": 248,
          "loss": 1.1906558275222778
         },
         {
          "i": 249,
          "loss": 1.1906558275222778
         },
         {
          "i": 250,
          "loss": 1.1906558275222778
         },
         {
          "i": 251,
          "loss": 1.1906558275222778
         },
         {
          "i": 252,
          "loss": 1.1906558275222778
         },
         {
          "i": 253,
          "loss": 1.1906558275222778
         },
         {
          "i": 254,
          "loss": 1.1906558275222778
         },
         {
          "i": 255,
          "loss": 1.1906558275222778
         },
         {
          "i": 256,
          "loss": 1.1906558275222778
         },
         {
          "i": 257,
          "loss": 1.1906558275222778
         },
         {
          "i": 258,
          "loss": 1.1906558275222778
         },
         {
          "i": 259,
          "loss": 1.1906558275222778
         },
         {
          "i": 260,
          "loss": 1.1906558275222778
         },
         {
          "i": 261,
          "loss": 1.1906558275222778
         },
         {
          "i": 262,
          "loss": 1.1906558275222778
         },
         {
          "i": 263,
          "loss": 1.1906558275222778
         },
         {
          "i": 264,
          "loss": 1.1906558275222778
         },
         {
          "i": 265,
          "loss": 1.1906558275222778
         },
         {
          "i": 266,
          "loss": 1.1906558275222778
         },
         {
          "i": 267,
          "loss": 1.1906558275222778
         },
         {
          "i": 268,
          "loss": 1.1906558275222778
         },
         {
          "i": 269,
          "loss": 1.1906558275222778
         },
         {
          "i": 270,
          "loss": 1.1906558275222778
         },
         {
          "i": 271,
          "loss": 1.1906558275222778
         },
         {
          "i": 272,
          "loss": 1.1906558275222778
         },
         {
          "i": 273,
          "loss": 1.1906558275222778
         },
         {
          "i": 274,
          "loss": 1.1906558275222778
         },
         {
          "i": 275,
          "loss": 1.1906558275222778
         },
         {
          "i": 276,
          "loss": 1.1906558275222778
         },
         {
          "i": 277,
          "loss": 1.1906558275222778
         },
         {
          "i": 278,
          "loss": 1.1906558275222778
         },
         {
          "i": 279,
          "loss": 1.1906558275222778
         },
         {
          "i": 280,
          "loss": 1.1906558275222778
         },
         {
          "i": 281,
          "loss": 1.1906558275222778
         },
         {
          "i": 282,
          "loss": 1.1906558275222778
         },
         {
          "i": 283,
          "loss": 1.1906558275222778
         },
         {
          "i": 284,
          "loss": 1.1906558275222778
         },
         {
          "i": 285,
          "loss": 1.1906558275222778
         },
         {
          "i": 286,
          "loss": 1.1906558275222778
         },
         {
          "i": 287,
          "loss": 1.1906558275222778
         },
         {
          "i": 288,
          "loss": 1.1906558275222778
         },
         {
          "i": 289,
          "loss": 1.1906558275222778
         },
         {
          "i": 290,
          "loss": 1.1906558275222778
         },
         {
          "i": 291,
          "loss": 1.1906558275222778
         },
         {
          "i": 292,
          "loss": 1.1906558275222778
         },
         {
          "i": 293,
          "loss": 1.1906558275222778
         },
         {
          "i": 294,
          "loss": 1.1906558275222778
         },
         {
          "i": 295,
          "loss": 1.1906558275222778
         },
         {
          "i": 296,
          "loss": 1.1906558275222778
         },
         {
          "i": 297,
          "loss": 1.1906558275222778
         },
         {
          "i": 298,
          "loss": 1.1906558275222778
         },
         {
          "i": 299,
          "loss": 1.1906558275222778
         },
         {
          "i": 300,
          "loss": 1.1906558275222778
         },
         {
          "i": 301,
          "loss": 1.1906558275222778
         },
         {
          "i": 302,
          "loss": 1.1906558275222778
         },
         {
          "i": 303,
          "loss": 1.1906558275222778
         },
         {
          "i": 304,
          "loss": 1.1906558275222778
         },
         {
          "i": 305,
          "loss": 1.1906558275222778
         },
         {
          "i": 306,
          "loss": 1.1906558275222778
         },
         {
          "i": 307,
          "loss": 1.1906558275222778
         },
         {
          "i": 308,
          "loss": 1.1906558275222778
         },
         {
          "i": 309,
          "loss": 1.1906558275222778
         },
         {
          "i": 310,
          "loss": 1.1906558275222778
         },
         {
          "i": 311,
          "loss": 1.1906558275222778
         },
         {
          "i": 312,
          "loss": 1.1906558275222778
         },
         {
          "i": 313,
          "loss": 1.1906558275222778
         },
         {
          "i": 314,
          "loss": 1.1906558275222778
         },
         {
          "i": 315,
          "loss": 1.1906558275222778
         },
         {
          "i": 316,
          "loss": 1.1906558275222778
         },
         {
          "i": 317,
          "loss": 1.1906558275222778
         },
         {
          "i": 318,
          "loss": 1.1906558275222778
         },
         {
          "i": 319,
          "loss": 1.1906558275222778
         },
         {
          "i": 320,
          "loss": 1.1906558275222778
         },
         {
          "i": 321,
          "loss": 1.1906558275222778
         },
         {
          "i": 322,
          "loss": 1.1906558275222778
         },
         {
          "i": 323,
          "loss": 1.1906558275222778
         },
         {
          "i": 324,
          "loss": 1.1906558275222778
         },
         {
          "i": 325,
          "loss": 1.1906558275222778
         },
         {
          "i": 326,
          "loss": 1.1906558275222778
         },
         {
          "i": 327,
          "loss": 1.1906558275222778
         },
         {
          "i": 328,
          "loss": 1.1906558275222778
         },
         {
          "i": 329,
          "loss": 1.1906558275222778
         },
         {
          "i": 330,
          "loss": 1.1906558275222778
         },
         {
          "i": 331,
          "loss": 1.1906558275222778
         },
         {
          "i": 332,
          "loss": 1.1906558275222778
         },
         {
          "i": 333,
          "loss": 1.1906558275222778
         },
         {
          "i": 334,
          "loss": 1.1906558275222778
         },
         {
          "i": 335,
          "loss": 1.1906558275222778
         },
         {
          "i": 336,
          "loss": 1.1906558275222778
         },
         {
          "i": 337,
          "loss": 1.1906558275222778
         },
         {
          "i": 338,
          "loss": 1.1906558275222778
         },
         {
          "i": 339,
          "loss": 1.1906558275222778
         },
         {
          "i": 340,
          "loss": 1.1906558275222778
         },
         {
          "i": 341,
          "loss": 1.1906558275222778
         },
         {
          "i": 342,
          "loss": 1.1906558275222778
         },
         {
          "i": 343,
          "loss": 1.1906558275222778
         },
         {
          "i": 344,
          "loss": 1.1906558275222778
         },
         {
          "i": 345,
          "loss": 1.1906558275222778
         },
         {
          "i": 346,
          "loss": 1.1906558275222778
         },
         {
          "i": 347,
          "loss": 1.1906558275222778
         },
         {
          "i": 348,
          "loss": 1.1906558275222778
         },
         {
          "i": 349,
          "loss": 1.1906558275222778
         },
         {
          "i": 350,
          "loss": 1.1906558275222778
         },
         {
          "i": 351,
          "loss": 1.1906558275222778
         },
         {
          "i": 352,
          "loss": 1.1906558275222778
         },
         {
          "i": 353,
          "loss": 1.1906558275222778
         },
         {
          "i": 354,
          "loss": 1.1906558275222778
         },
         {
          "i": 355,
          "loss": 1.1906558275222778
         },
         {
          "i": 356,
          "loss": 1.1906558275222778
         },
         {
          "i": 357,
          "loss": 1.1906558275222778
         },
         {
          "i": 358,
          "loss": 1.1906558275222778
         },
         {
          "i": 359,
          "loss": 1.1906558275222778
         },
         {
          "i": 360,
          "loss": 1.1906558275222778
         },
         {
          "i": 361,
          "loss": 1.1906558275222778
         },
         {
          "i": 362,
          "loss": 1.1906558275222778
         },
         {
          "i": 363,
          "loss": 1.1906558275222778
         },
         {
          "i": 364,
          "loss": 1.1906558275222778
         },
         {
          "i": 365,
          "loss": 1.1906558275222778
         },
         {
          "i": 366,
          "loss": 1.1906558275222778
         },
         {
          "i": 367,
          "loss": 1.1906558275222778
         },
         {
          "i": 368,
          "loss": 1.1906558275222778
         },
         {
          "i": 369,
          "loss": 1.1906558275222778
         },
         {
          "i": 370,
          "loss": 1.1906558275222778
         },
         {
          "i": 371,
          "loss": 1.1906558275222778
         },
         {
          "i": 372,
          "loss": 1.1906558275222778
         },
         {
          "i": 373,
          "loss": 1.1906558275222778
         },
         {
          "i": 374,
          "loss": 1.1906558275222778
         },
         {
          "i": 375,
          "loss": 1.1906558275222778
         },
         {
          "i": 376,
          "loss": 1.1906558275222778
         },
         {
          "i": 377,
          "loss": 1.1906558275222778
         },
         {
          "i": 378,
          "loss": 1.1906558275222778
         },
         {
          "i": 379,
          "loss": 1.1906558275222778
         },
         {
          "i": 380,
          "loss": 1.1906558275222778
         },
         {
          "i": 381,
          "loss": 1.1906558275222778
         },
         {
          "i": 382,
          "loss": 1.1906558275222778
         },
         {
          "i": 383,
          "loss": 1.1906558275222778
         },
         {
          "i": 384,
          "loss": 1.1906558275222778
         },
         {
          "i": 385,
          "loss": 1.1906558275222778
         },
         {
          "i": 386,
          "loss": 1.1906558275222778
         },
         {
          "i": 387,
          "loss": 1.1906558275222778
         },
         {
          "i": 388,
          "loss": 1.1906558275222778
         },
         {
          "i": 389,
          "loss": 1.1906558275222778
         },
         {
          "i": 390,
          "loss": 1.1906558275222778
         },
         {
          "i": 391,
          "loss": 1.1906558275222778
         },
         {
          "i": 392,
          "loss": 1.1906558275222778
         },
         {
          "i": 393,
          "loss": 1.1906558275222778
         },
         {
          "i": 394,
          "loss": 1.1906558275222778
         },
         {
          "i": 395,
          "loss": 1.1906558275222778
         },
         {
          "i": 396,
          "loss": 1.1906558275222778
         },
         {
          "i": 397,
          "loss": 1.1906558275222778
         },
         {
          "i": 398,
          "loss": 1.1906558275222778
         },
         {
          "i": 399,
          "loss": 1.1906558275222778
         },
         {
          "i": 400,
          "loss": 1.1906558275222778
         },
         {
          "i": 401,
          "loss": 1.1906558275222778
         },
         {
          "i": 402,
          "loss": 1.1906558275222778
         },
         {
          "i": 403,
          "loss": 1.1906558275222778
         },
         {
          "i": 404,
          "loss": 1.1906558275222778
         },
         {
          "i": 405,
          "loss": 1.1906558275222778
         },
         {
          "i": 406,
          "loss": 1.1906558275222778
         },
         {
          "i": 407,
          "loss": 1.1906558275222778
         },
         {
          "i": 408,
          "loss": 1.1906558275222778
         },
         {
          "i": 409,
          "loss": 1.1906558275222778
         },
         {
          "i": 410,
          "loss": 1.1906558275222778
         },
         {
          "i": 411,
          "loss": 1.1906558275222778
         },
         {
          "i": 412,
          "loss": 1.1906558275222778
         },
         {
          "i": 413,
          "loss": 1.1906558275222778
         },
         {
          "i": 414,
          "loss": 1.1906558275222778
         },
         {
          "i": 415,
          "loss": 1.1906558275222778
         },
         {
          "i": 416,
          "loss": 1.1906558275222778
         },
         {
          "i": 417,
          "loss": 1.1906558275222778
         },
         {
          "i": 418,
          "loss": 1.1906558275222778
         },
         {
          "i": 419,
          "loss": 1.1906558275222778
         },
         {
          "i": 420,
          "loss": 1.1906558275222778
         },
         {
          "i": 421,
          "loss": 1.1906558275222778
         },
         {
          "i": 422,
          "loss": 1.1906558275222778
         },
         {
          "i": 423,
          "loss": 1.1906558275222778
         },
         {
          "i": 424,
          "loss": 1.1906558275222778
         },
         {
          "i": 425,
          "loss": 1.1906558275222778
         },
         {
          "i": 426,
          "loss": 1.1906558275222778
         },
         {
          "i": 427,
          "loss": 1.1906558275222778
         },
         {
          "i": 428,
          "loss": 1.1906558275222778
         },
         {
          "i": 429,
          "loss": 1.1906558275222778
         },
         {
          "i": 430,
          "loss": 1.1906558275222778
         },
         {
          "i": 431,
          "loss": 1.1906558275222778
         },
         {
          "i": 432,
          "loss": 1.1906558275222778
         },
         {
          "i": 433,
          "loss": 1.1906558275222778
         },
         {
          "i": 434,
          "loss": 1.1906558275222778
         },
         {
          "i": 435,
          "loss": 1.1906558275222778
         },
         {
          "i": 436,
          "loss": 1.1906558275222778
         },
         {
          "i": 437,
          "loss": 1.1906558275222778
         },
         {
          "i": 438,
          "loss": 1.1906558275222778
         },
         {
          "i": 439,
          "loss": 1.1906558275222778
         },
         {
          "i": 440,
          "loss": 1.1906558275222778
         },
         {
          "i": 441,
          "loss": 1.1906558275222778
         },
         {
          "i": 442,
          "loss": 1.1906558275222778
         },
         {
          "i": 443,
          "loss": 1.1906558275222778
         },
         {
          "i": 444,
          "loss": 1.1906558275222778
         },
         {
          "i": 445,
          "loss": 1.1906558275222778
         },
         {
          "i": 446,
          "loss": 1.1906558275222778
         },
         {
          "i": 447,
          "loss": 1.1906558275222778
         },
         {
          "i": 448,
          "loss": 1.1906558275222778
         },
         {
          "i": 449,
          "loss": 1.1906558275222778
         },
         {
          "i": 450,
          "loss": 1.1906558275222778
         },
         {
          "i": 451,
          "loss": 1.1906558275222778
         },
         {
          "i": 452,
          "loss": 1.1906558275222778
         },
         {
          "i": 453,
          "loss": 1.1906558275222778
         },
         {
          "i": 454,
          "loss": 1.1906558275222778
         },
         {
          "i": 455,
          "loss": 1.1906558275222778
         },
         {
          "i": 456,
          "loss": 1.1906558275222778
         },
         {
          "i": 457,
          "loss": 1.1906558275222778
         },
         {
          "i": 458,
          "loss": 1.1906558275222778
         },
         {
          "i": 459,
          "loss": 1.1906558275222778
         },
         {
          "i": 460,
          "loss": 1.1906558275222778
         },
         {
          "i": 461,
          "loss": 1.1906558275222778
         },
         {
          "i": 462,
          "loss": 1.1906558275222778
         },
         {
          "i": 463,
          "loss": 1.1906558275222778
         },
         {
          "i": 464,
          "loss": 1.1906558275222778
         },
         {
          "i": 465,
          "loss": 1.1906558275222778
         },
         {
          "i": 466,
          "loss": 1.1906558275222778
         },
         {
          "i": 467,
          "loss": 1.1906558275222778
         },
         {
          "i": 468,
          "loss": 1.1906558275222778
         },
         {
          "i": 469,
          "loss": 1.1906558275222778
         },
         {
          "i": 470,
          "loss": 1.1906558275222778
         },
         {
          "i": 471,
          "loss": 1.1906558275222778
         },
         {
          "i": 472,
          "loss": 1.1906558275222778
         },
         {
          "i": 473,
          "loss": 1.1906558275222778
         },
         {
          "i": 474,
          "loss": 1.1906558275222778
         },
         {
          "i": 475,
          "loss": 1.1906558275222778
         },
         {
          "i": 476,
          "loss": 1.1906558275222778
         },
         {
          "i": 477,
          "loss": 1.1906558275222778
         },
         {
          "i": 478,
          "loss": 1.1906558275222778
         },
         {
          "i": 479,
          "loss": 1.1906558275222778
         },
         {
          "i": 480,
          "loss": 1.1906558275222778
         },
         {
          "i": 481,
          "loss": 1.1906558275222778
         },
         {
          "i": 482,
          "loss": 1.1906558275222778
         },
         {
          "i": 483,
          "loss": 1.1906558275222778
         },
         {
          "i": 484,
          "loss": 1.1906558275222778
         },
         {
          "i": 485,
          "loss": 1.1906558275222778
         },
         {
          "i": 486,
          "loss": 1.1906558275222778
         },
         {
          "i": 487,
          "loss": 1.1906558275222778
         },
         {
          "i": 488,
          "loss": 1.1906558275222778
         },
         {
          "i": 489,
          "loss": 1.1906558275222778
         },
         {
          "i": 490,
          "loss": 1.1906558275222778
         },
         {
          "i": 491,
          "loss": 1.1906558275222778
         },
         {
          "i": 492,
          "loss": 1.1906558275222778
         },
         {
          "i": 493,
          "loss": 1.1906558275222778
         },
         {
          "i": 494,
          "loss": 1.1906558275222778
         },
         {
          "i": 495,
          "loss": 1.1906558275222778
         },
         {
          "i": 496,
          "loss": 1.1906558275222778
         },
         {
          "i": 497,
          "loss": 1.1906558275222778
         },
         {
          "i": 498,
          "loss": 1.1906558275222778
         },
         {
          "i": 499,
          "loss": 1.1906558275222778
         }
        ]
       },
       "encoding": {
        "x": {
         "field": "i",
         "type": "quantitative"
        },
        "y": {
         "field": "loss",
         "type": "quantitative"
        }
       },
       "height": 100,
       "mark": "line"
      },
      "image/png": "[encoded data removed]",
      "text/plain": [
       "<VegaLite 3 object>\n",
       "\n",
       "If you see this message, it means the renderer has not been properly enabled\n",
       "for the frontend that you are using. For more information, see\n",
       "https://altair-viz.github.io/user_guide/troubleshooting.html\n"
      ]
     },
     "execution_count": 379,
     "metadata": {},
     "output_type": "execute_result"
    }
   ],
   "source": [
    "loss_df = pd.DataFrame({'i':range(500), 'loss':loss_record})\n",
    "alt.Chart(loss_df, height=100).mark_line().encode(x='i', y='loss')"
   ]
  },
  {
   "cell_type": "markdown",
   "metadata": {},
   "source": [
    "And when we plot the model predictions against reality we see how bad it is:"
   ]
  },
  {
   "cell_type": "code",
   "execution_count": 380,
   "metadata": {},
   "outputs": [
    {
     "data": {
      "application/vnd.vegalite.v3+json": {
       "$schema": "https://vega.github.io/schema/vega-lite/v3.4.0.json",
       "config": {
        "mark": {
         "tooltip": null
        },
        "view": {
         "height": 300,
         "width": 400
        }
       },
       "data": {
        "name": "data-274a855171aa455cfdefb387bc0e35ab"
       },
       "datasets": {
        "data-274a855171aa455cfdefb387bc0e35ab": [
         {
          "x1": 0.8385455012321472,
          "y": 0.7031585574150085,
          "ŷ": 0.5912920236587524
         },
         {
          "x1": -0.49665752053260803,
          "y": 0.24666869640350342,
          "ŷ": 0.8955921530723572
         },
         {
          "x1": -0.8446605205535889,
          "y": 0.7134513854980469,
          "ŷ": 0.97490394115448
         },
         {
          "x1": -0.42163780331611633,
          "y": 0.1777784377336502,
          "ŷ": 0.8784947395324707
         },
         {
          "x1": 0.1565307378768921,
          "y": 0.024501871317625046,
          "ŷ": 0.746726930141449
         },
         {
          "x1": -0.30727648735046387,
          "y": 0.09441883862018585,
          "ŷ": 0.8524311780929565
         },
         {
          "x1": 0.30222129821777344,
          "y": 0.09133771061897278,
          "ŷ": 0.713523268699646
         },
         {
          "x1": -0.08980663120746613,
          "y": 0.008065231144428253,
          "ŷ": 0.8028685450553894
         },
         {
          "x1": -0.842332124710083,
          "y": 0.7095233798027039,
          "ŷ": 0.9743732810020447
         },
         {
          "x1": -0.8345144987106323,
          "y": 0.6964144706726074,
          "ŷ": 0.9725915789604187
         },
         {
          "x1": 0.2783096134662628,
          "y": 0.07745624333620071,
          "ŷ": 0.7189728617668152
         },
         {
          "x1": -1.6186836957931519,
          "y": 2.6201369762420654,
          "ŷ": 1.1513080596923828
         },
         {
          "x1": -0.9328137636184692,
          "y": 0.8701415061950684,
          "ŷ": 0.9949945211410522
         },
         {
          "x1": -1.6493779420852661,
          "y": 2.720447540283203,
          "ŷ": 1.1583034992218018
         },
         {
          "x1": 0.3906685411930084,
          "y": 0.15262190997600555,
          "ŷ": 0.6933656334877014
         },
         {
          "x1": 0.3538188934326172,
          "y": 0.12518781423568726,
          "ŷ": 0.7017638683319092
         },
         {
          "x1": -0.46842026710510254,
          "y": 0.219417542219162,
          "ŷ": 0.889156699180603
         },
         {
          "x1": -0.8511542677879333,
          "y": 0.7244635820388794,
          "ŷ": 0.9763839244842529
         },
         {
          "x1": -0.707750141620636,
          "y": 0.5009102821350098,
          "ŷ": 0.9437012672424316
         },
         {
          "x1": -1.315176010131836,
          "y": 1.7296879291534424,
          "ŷ": 1.0821369886398315
         },
         {
          "x1": -0.10163570940494537,
          "y": 0.010329817421734333,
          "ŷ": 0.8055644631385803
         },
         {
          "x1": 0.1665923297405243,
          "y": 0.027753004804253578,
          "ŷ": 0.7444338202476501
         },
         {
          "x1": -0.7193951606750488,
          "y": 0.5175293684005737,
          "ŷ": 0.9463552832603455
         },
         {
          "x1": 0.6013686060905457,
          "y": 0.3616442084312439,
          "ŷ": 0.64534592628479
         },
         {
          "x1": -1.1538795232772827,
          "y": 1.3314379453659058,
          "ŷ": 1.0453766584396362
         },
         {
          "x1": 0.030839035287499428,
          "y": 0.0009510461241006851,
          "ŷ": 0.7753727436065674
         },
         {
          "x1": 0.18931491672992706,
          "y": 0.03584013879299164,
          "ŷ": 0.7392552495002747
         },
         {
          "x1": -0.09791752696037292,
          "y": 0.009587842039763927,
          "ŷ": 0.8047170639038086
         },
         {
          "x1": 0.27008092403411865,
          "y": 0.07294370234012604,
          "ŷ": 0.7208482027053833
         },
         {
          "x1": -1.633970022201538,
          "y": 2.669857978820801,
          "ŷ": 1.1547919511795044
         },
         {
          "x1": 1.0276837348937988,
          "y": 1.0561338663101196,
          "ŷ": 0.5481863617897034
         },
         {
          "x1": 0.1692667454481125,
          "y": 0.02865123189985752,
          "ŷ": 0.743824303150177
         },
         {
          "x1": 1.0028891563415527,
          "y": 1.005786657333374,
          "ŷ": 0.5538371801376343
         },
         {
          "x1": 0.0670328363776207,
          "y": 0.0044934009201824665,
          "ŷ": 0.7671239972114563
         },
         {
          "x1": -0.7625962495803833,
          "y": 0.581553041934967,
          "ŷ": 0.9562010169029236
         },
         {
          "x1": -0.12922878563404083,
          "y": 0.016700079664587975,
          "ŷ": 0.8118531107902527
         },
         {
          "x1": -1.612038493156433,
          "y": 2.598668098449707,
          "ŷ": 1.1497936248779297
         },
         {
          "x1": -0.683637261390686,
          "y": 0.46735990047454834,
          "ŷ": 0.9382058382034302
         },
         {
          "x1": -0.05152073875069618,
          "y": 0.0026543864514678717,
          "ŷ": 0.79414302110672
         },
         {
          "x1": 0.4880196452140808,
          "y": 0.23816317319869995,
          "ŷ": 0.6711787581443787
         },
         {
          "x1": 0.48911991715431213,
          "y": 0.23923829197883606,
          "ŷ": 0.6709280014038086
         },
         {
          "x1": -0.1346949189901352,
          "y": 0.01814272068440914,
          "ŷ": 0.8130988478660583
         },
         {
          "x1": -0.09128694981336594,
          "y": 0.008333306759595871,
          "ŷ": 0.8032059669494629
         },
         {
          "x1": -1.986048936843872,
          "y": 3.944390296936035,
          "ŷ": 1.2350326776504517
         },
         {
          "x1": 0.6307474970817566,
          "y": 0.3978424072265625,
          "ŷ": 0.6386502981185913
         },
         {
          "x1": 0.23694516718387604,
          "y": 0.05614301189780235,
          "ŷ": 0.7284000515937805
         },
         {
          "x1": 0.858505129814148,
          "y": 0.7370310425758362,
          "ŷ": 0.5867431163787842
         },
         {
          "x1": 0.018415724858641624,
          "y": 0.00033913893275894225,
          "ŷ": 0.778204083442688
         },
         {
          "x1": 1.3745160102844238,
          "y": 1.8892942667007446,
          "ŷ": 0.4691413640975952
         },
         {
          "x1": -0.08792936056852341,
          "y": 0.007731572259217501,
          "ŷ": 0.8024407029151917
         },
         {
          "x1": -0.09041056036949158,
          "y": 0.008174069225788116,
          "ŷ": 0.8030062317848206
         },
         {
          "x1": -0.24510541558265686,
          "y": 0.06007666513323784,
          "ŷ": 0.8382620215415955
         },
         {
          "x1": -0.1481253057718277,
          "y": 0.021941106766462326,
          "ŷ": 0.816159725189209
         },
         {
          "x1": 1.3836276531219482,
          "y": 1.9144254922866821,
          "ŷ": 0.467064768075943
         },
         {
          "x1": -0.3371792137622833,
          "y": 0.11368982493877411,
          "ŷ": 0.8592461347579956
         },
         {
          "x1": -1.0437960624694824,
          "y": 1.089510202407837,
          "ŷ": 1.0202879905700684
         },
         {
          "x1": -0.03915335610508919,
          "y": 0.0015329852467402816,
          "ŷ": 0.7913244366645813
         },
         {
          "x1": -1.002817988395691,
          "y": 1.0056439638137817,
          "ŷ": 1.010948896408081
         },
         {
          "x1": 0.5299388766288757,
          "y": 0.28083521127700806,
          "ŷ": 0.6616251468658447
         },
         {
          "x1": -0.7239068746566772,
          "y": 0.5240411758422852,
          "ŷ": 0.9473835229873657
         },
         {
          "x1": 1.0551128387451172,
          "y": 1.1132631301879883,
          "ŷ": 0.5419350862503052
         },
         {
          "x1": -1.01012122631073,
          "y": 1.020344853401184,
          "ŷ": 1.012613296508789
         },
         {
          "x1": 0.7951121926307678,
          "y": 0.6322034001350403,
          "ŷ": 0.6011906862258911
         },
         {
          "x1": -0.9547920227050781,
          "y": 0.9116278290748596,
          "ŷ": 1.000003457069397
         },
         {
          "x1": 0.5478885769844055,
          "y": 0.30018189549446106,
          "ŷ": 0.6575343012809753
         },
         {
          "x1": -0.9505205154418945,
          "y": 0.9034892320632935,
          "ŷ": 0.9990299940109253
         },
         {
          "x1": 0.3754342496395111,
          "y": 0.14095087349414825,
          "ŷ": 0.6968376040458679
         },
         {
          "x1": 1.2450982332229614,
          "y": 1.550269603729248,
          "ŷ": 0.498636394739151
         },
         {
          "x1": -2.227614402770996,
          "y": 4.962265968322754,
          "ŷ": 1.2900867462158203
         },
         {
          "x1": -0.0045912559144198895,
          "y": 2.107963155140169e-05,
          "ŷ": 0.7834475040435791
         },
         {
          "x1": -0.04098954051733017,
          "y": 0.001680142479017377,
          "ŷ": 0.7917428612709045
         },
         {
          "x1": 0.49783796072006226,
          "y": 0.24784263968467712,
          "ŷ": 0.6689411401748657
         },
         {
          "x1": 0.2822411358356476,
          "y": 0.07966005802154541,
          "ŷ": 0.7180768251419067
         },
         {
          "x1": -0.05127144977450371,
          "y": 0.002628761576488614,
          "ŷ": 0.794086217880249
         },
         {
          "x1": 2.238039016723633,
          "y": 5.008818626403809,
          "ŷ": 0.27233970165252686
         },
         {
          "x1": -1.0808724164962769,
          "y": 1.1682851314544678,
          "ŷ": 1.0287379026412964
         },
         {
          "x1": 2.219867467880249,
          "y": 4.927811622619629,
          "ŷ": 0.27648109197616577
         },
         {
          "x1": 0.6742897033691406,
          "y": 0.4546666145324707,
          "ŷ": 0.6287268400192261
         },
         {
          "x1": 0.464852511882782,
          "y": 0.21608786284923553,
          "ŷ": 0.6764587163925171
         },
         {
          "x1": -0.5342574119567871,
          "y": 0.2854309678077698,
          "ŷ": 0.9041613340377808
         },
         {
          "x1": -1.4661026000976562,
          "y": 2.149456739425659,
          "ŷ": 1.1165339946746826
         },
         {
          "x1": -0.26652398705482483,
          "y": 0.07103503495454788,
          "ŷ": 0.8431434035301208
         },
         {
          "x1": 1.2981946468353271,
          "y": 1.6853092908859253,
          "ŷ": 0.4865354299545288
         },
         {
          "x1": -0.2165496051311493,
          "y": 0.046893730759620667,
          "ŷ": 0.8317539691925049
         },
         {
          "x1": 0.4534211754798889,
          "y": 0.20559076964855194,
          "ŷ": 0.6790639758110046
         },
         {
          "x1": -0.9095655679702759,
          "y": 0.8273095488548279,
          "ŷ": 0.9896961450576782
         },
         {
          "x1": -0.7528094053268433,
          "y": 0.5667219758033752,
          "ŷ": 0.9539705514907837
         },
         {
          "x1": 0.5806728601455688,
          "y": 0.3371809720993042,
          "ŷ": 0.650062620639801
         },
         {
          "x1": -0.5865963101387024,
          "y": 0.34409523010253906,
          "ŷ": 0.916089653968811
         },
         {
          "x1": 1.4879064559936523,
          "y": 2.2138655185699463,
          "ŷ": 0.4432990550994873
         },
         {
          "x1": -1.504737138748169,
          "y": 2.2642338275909424,
          "ŷ": 1.1253390312194824
         },
         {
          "x1": -1.2561002969741821,
          "y": 1.57778799533844,
          "ŷ": 1.0686733722686768
         },
         {
          "x1": 0.46809354424476624,
          "y": 0.21911156177520752,
          "ŷ": 0.6757200360298157
         },
         {
          "x1": -1.6293408870697021,
          "y": 2.654751777648926,
          "ŷ": 1.15373694896698
         },
         {
          "x1": -1.8111705780029297,
          "y": 3.280338764190674,
          "ŷ": 1.1951768398284912
         },
         {
          "x1": -1.0287038087844849,
          "y": 1.0582314729690552,
          "ŷ": 1.0168484449386597
         },
         {
          "x1": 0.9584910273551941,
          "y": 0.9187050461769104,
          "ŷ": 0.5639557838439941
         },
         {
          "x1": 0.24389412999153137,
          "y": 0.05948434770107269,
          "ŷ": 0.7268162965774536
         },
         {
          "x1": 0.5317782163619995,
          "y": 0.28278806805610657,
          "ŷ": 0.6612059473991394
         },
         {
          "x1": -0.6158742904663086,
          "y": 0.37930113077163696,
          "ŷ": 0.9227622747421265
         }
        ]
       },
       "layer": [
        {
         "encoding": {
          "x": {
           "field": "x1",
           "type": "quantitative"
          },
          "y": {
           "field": "ŷ",
           "type": "quantitative"
          }
         },
         "mark": "line"
        },
        {
         "encoding": {
          "x": {
           "field": "x1",
           "type": "quantitative"
          },
          "y": {
           "field": "y",
           "type": "quantitative"
          }
         },
         "mark": "point"
        }
       ]
      },
      "image/png": "[encoded data removed]",
      "text/plain": [
       "<VegaLite 3 object>\n",
       "\n",
       "If you see this message, it means the renderer has not been properly enabled\n",
       "for the frontend that you are using. For more information, see\n",
       "https://altair-viz.github.io/user_guide/troubleshooting.html\n"
      ]
     },
     "execution_count": 380,
     "metadata": {},
     "output_type": "execute_result"
    }
   ],
   "source": [
    "preds = pd.DataFrame({'ŷ':ŷ.detach().numpy()[:,0], 'y':y[:,0], 'x1':x[:,0]})\n",
    "(alt.Chart(preds).mark_line().encode(x='x1', y='ŷ') + \n",
    "alt.Chart(preds).mark_point().encode(x='x1', y='y'))"
   ]
  },
  {
   "cell_type": "markdown",
   "metadata": {},
   "source": [
    "However, we can introduce a hidden layer (of size 10):"
   ]
  },
  {
   "cell_type": "code",
   "execution_count": 381,
   "metadata": {},
   "outputs": [],
   "source": [
    "h = 20\n",
    "W = torch.randn(p, h).requires_grad_()\n",
    "b = torch.randn(1, h).requires_grad_()\n",
    "α = torch.randn(h+1, 1).requires_grad_()\n",
    "loss_record = []\n",
    "ϵ = 10e-3\n",
    "\n",
    "for e in range(500):\n",
    "    z = g(torch.matmul(x,W) + b)\n",
    "    ŷ = torch.matmul(z,α[1:]) + α[0]\n",
    "    L = torch.sum((y-ŷ)**2)/n # L = Σ(yᵢ-ŷᵢ)² (use predictions to calculate loss)\n",
    "    \n",
    "    L.backward() # compute gradients (in this case δL/δα, δL/δW)\n",
    "    loss_record.append(L.item())\n",
    "    \n",
    "    with torch.no_grad(): # take the gradient descent step \n",
    "        α -= ϵ * α.grad\n",
    "        α.grad.zero_()\n",
    "        W -= ϵ * W.grad\n",
    "        W.grad.zero_()\n",
    "        b -= ϵ * b.grad\n",
    "        b.grad.zero_()"
   ]
  },
  {
   "cell_type": "code",
   "execution_count": 382,
   "metadata": {},
   "outputs": [
    {
     "data": {
      "application/vnd.vegalite.v3+json": {
       "$schema": "https://vega.github.io/schema/vega-lite/v3.4.0.json",
       "config": {
        "mark": {
         "tooltip": null
        },
        "view": {
         "height": 300,
         "width": 400
        }
       },
       "data": {
        "name": "data-1121ac65823d18b3531ca03b33e1ce47"
       },
       "datasets": {
        "data-1121ac65823d18b3531ca03b33e1ce47": [
         {
          "i": 0,
          "loss": 37.66716766357422
         },
         {
          "i": 1,
          "loss": 13.834647178649902
         },
         {
          "i": 2,
          "loss": 6.4813232421875
         },
         {
          "i": 3,
          "loss": 3.715704917907715
         },
         {
          "i": 4,
          "loss": 2.554342269897461
         },
         {
          "i": 5,
          "loss": 2.012948989868164
         },
         {
          "i": 6,
          "loss": 1.725897192955017
         },
         {
          "i": 7,
          "loss": 1.549561619758606
         },
         {
          "i": 8,
          "loss": 1.426108956336975
         },
         {
          "i": 9,
          "loss": 1.3304082155227661
         },
         {
          "i": 10,
          "loss": 1.2511564493179321
         },
         {
          "i": 11,
          "loss": 1.18256413936615
         },
         {
          "i": 12,
          "loss": 1.1220510005950928
         },
         {
          "i": 13,
          "loss": 1.0681276321411133
         },
         {
          "i": 14,
          "loss": 1.018736481666565
         },
         {
          "i": 15,
          "loss": 0.9740133881568909
         },
         {
          "i": 16,
          "loss": 0.9324708580970764
         },
         {
          "i": 17,
          "loss": 0.8936625719070435
         },
         {
          "i": 18,
          "loss": 0.8574385643005371
         },
         {
          "i": 19,
          "loss": 0.8249620795249939
         },
         {
          "i": 20,
          "loss": 0.7944825887680054
         },
         {
          "i": 21,
          "loss": 0.7663727402687073
         },
         {
          "i": 22,
          "loss": 0.7397943139076233
         },
         {
          "i": 23,
          "loss": 0.7144301533699036
         },
         {
          "i": 24,
          "loss": 0.6901233792304993
         },
         {
          "i": 25,
          "loss": 0.6672328114509583
         },
         {
          "i": 26,
          "loss": 0.6457304954528809
         },
         {
          "i": 27,
          "loss": 0.6251844167709351
         },
         {
          "i": 28,
          "loss": 0.6057214140892029
         },
         {
          "i": 29,
          "loss": 0.5869930982589722
         },
         {
          "i": 30,
          "loss": 0.5689287185668945
         },
         {
          "i": 31,
          "loss": 0.551537275314331
         },
         {
          "i": 32,
          "loss": 0.5347877740859985
         },
         {
          "i": 33,
          "loss": 0.5186641812324524
         },
         {
          "i": 34,
          "loss": 0.5031247138977051
         },
         {
          "i": 35,
          "loss": 0.4883648157119751
         },
         {
          "i": 36,
          "loss": 0.4743739366531372
         },
         {
          "i": 37,
          "loss": 0.4609159529209137
         },
         {
          "i": 38,
          "loss": 0.44798365235328674
         },
         {
          "i": 39,
          "loss": 0.4355543851852417
         },
         {
          "i": 40,
          "loss": 0.4236055612564087
         },
         {
          "i": 41,
          "loss": 0.41211605072021484
         },
         {
          "i": 42,
          "loss": 0.4010566473007202
         },
         {
          "i": 43,
          "loss": 0.39040660858154297
         },
         {
          "i": 44,
          "loss": 0.38016197085380554
         },
         {
          "i": 45,
          "loss": 0.3703196346759796
         },
         {
          "i": 46,
          "loss": 0.36083897948265076
         },
         {
          "i": 47,
          "loss": 0.35173413157463074
         },
         {
          "i": 48,
          "loss": 0.3429814577102661
         },
         {
          "i": 49,
          "loss": 0.33455246686935425
         },
         {
          "i": 50,
          "loss": 0.32642993330955505
         },
         {
          "i": 51,
          "loss": 0.3186308741569519
         },
         {
          "i": 52,
          "loss": 0.31128114461898804
         },
         {
          "i": 53,
          "loss": 0.3041974902153015
         },
         {
          "i": 54,
          "loss": 0.2973652184009552
         },
         {
          "i": 55,
          "loss": 0.2907675504684448
         },
         {
          "i": 56,
          "loss": 0.28440234065055847
         },
         {
          "i": 57,
          "loss": 0.2782590985298157
         },
         {
          "i": 58,
          "loss": 0.2723199725151062
         },
         {
          "i": 59,
          "loss": 0.266583651304245
         },
         {
          "i": 60,
          "loss": 0.26103445887565613
         },
         {
          "i": 61,
          "loss": 0.2556717097759247
         },
         {
          "i": 62,
          "loss": 0.25048041343688965
         },
         {
          "i": 63,
          "loss": 0.24545997381210327
         },
         {
          "i": 64,
          "loss": 0.24060378968715668
         },
         {
          "i": 65,
          "loss": 0.23590528964996338
         },
         {
          "i": 66,
          "loss": 0.23135823011398315
         },
         {
          "i": 67,
          "loss": 0.2269551157951355
         },
         {
          "i": 68,
          "loss": 0.22268684208393097
         },
         {
          "i": 69,
          "loss": 0.21855856478214264
         },
         {
          "i": 70,
          "loss": 0.21457815170288086
         },
         {
          "i": 71,
          "loss": 0.21072058379650116
         },
         {
          "i": 72,
          "loss": 0.20698140561580658
         },
         {
          "i": 73,
          "loss": 0.20353350043296814
         },
         {
          "i": 74,
          "loss": 0.20086872577667236
         },
         {
          "i": 75,
          "loss": 0.1983327865600586
         },
         {
          "i": 76,
          "loss": 0.19610147178173065
         },
         {
          "i": 77,
          "loss": 0.19393087923526764
         },
         {
          "i": 78,
          "loss": 0.19181863963603973
         },
         {
          "i": 79,
          "loss": 0.1897677779197693
         },
         {
          "i": 80,
          "loss": 0.1877809315919876
         },
         {
          "i": 81,
          "loss": 0.18584440648555756
         },
         {
          "i": 82,
          "loss": 0.18395942449569702
         },
         {
          "i": 83,
          "loss": 0.18211881816387177
         },
         {
          "i": 84,
          "loss": 0.18032115697860718
         },
         {
          "i": 85,
          "loss": 0.17856472730636597
         },
         {
          "i": 86,
          "loss": 0.17684827744960785
         },
         {
          "i": 87,
          "loss": 0.1751715987920761
         },
         {
          "i": 88,
          "loss": 0.17355285584926605
         },
         {
          "i": 89,
          "loss": 0.17198222875595093
         },
         {
          "i": 90,
          "loss": 0.17044362425804138
         },
         {
          "i": 91,
          "loss": 0.16893576085567474
         },
         {
          "i": 92,
          "loss": 0.16745775938034058
         },
         {
          "i": 93,
          "loss": 0.16600865125656128
         },
         {
          "i": 94,
          "loss": 0.16458745300769806
         },
         {
          "i": 95,
          "loss": 0.1631956547498703
         },
         {
          "i": 96,
          "loss": 0.16183790564537048
         },
         {
          "i": 97,
          "loss": 0.16050678491592407
         },
         {
          "i": 98,
          "loss": 0.15921446681022644
         },
         {
          "i": 99,
          "loss": 0.1579444855451584
         },
         {
          "i": 100,
          "loss": 0.15669618546962738
         },
         {
          "i": 101,
          "loss": 0.15546882152557373
         },
         {
          "i": 102,
          "loss": 0.1542617827653885
         },
         {
          "i": 103,
          "loss": 0.1530744880437851
         },
         {
          "i": 104,
          "loss": 0.15190638601779938
         },
         {
          "i": 105,
          "loss": 0.15074782073497772
         },
         {
          "i": 106,
          "loss": 0.1495942622423172
         },
         {
          "i": 107,
          "loss": 0.14845818281173706
         },
         {
          "i": 108,
          "loss": 0.14733825623989105
         },
         {
          "i": 109,
          "loss": 0.14623399078845978
         },
         {
          "i": 110,
          "loss": 0.14514584839344025
         },
         {
          "i": 111,
          "loss": 0.14407329261302948
         },
         {
          "i": 112,
          "loss": 0.14301754534244537
         },
         {
          "i": 113,
          "loss": 0.14198270440101624
         },
         {
          "i": 114,
          "loss": 0.1409616768360138
         },
         {
          "i": 115,
          "loss": 0.13995330035686493
         },
         {
          "i": 116,
          "loss": 0.13895684480667114
         },
         {
          "i": 117,
          "loss": 0.13796624541282654
         },
         {
          "i": 118,
          "loss": 0.13698819279670715
         },
         {
          "i": 119,
          "loss": 0.1360214501619339
         },
         {
          "i": 120,
          "loss": 0.1350669115781784
         },
         {
          "i": 121,
          "loss": 0.13412417471408844
         },
         {
          "i": 122,
          "loss": 0.13319307565689087
         },
         {
          "i": 123,
          "loss": 0.13227331638336182
         },
         {
          "i": 124,
          "loss": 0.13136452436447144
         },
         {
          "i": 125,
          "loss": 0.13046719133853912
         },
         {
          "i": 126,
          "loss": 0.12958459556102753
         },
         {
          "i": 127,
          "loss": 0.12871240079402924
         },
         {
          "i": 128,
          "loss": 0.1278536170721054
         },
         {
          "i": 129,
          "loss": 0.12700426578521729
         },
         {
          "i": 130,
          "loss": 0.12616421282291412
         },
         {
          "i": 131,
          "loss": 0.12533318996429443
         },
         {
          "i": 132,
          "loss": 0.12451107054948807
         },
         {
          "i": 133,
          "loss": 0.12369771301746368
         },
         {
          "i": 134,
          "loss": 0.12289292365312576
         },
         {
          "i": 135,
          "loss": 0.12209656089544296
         },
         {
          "i": 136,
          "loss": 0.12130846828222275
         },
         {
          "i": 137,
          "loss": 0.12052853405475616
         },
         {
          "i": 138,
          "loss": 0.1197565495967865
         },
         {
          "i": 139,
          "loss": 0.11899235099554062
         },
         {
          "i": 140,
          "loss": 0.11823587119579315
         },
         {
          "i": 141,
          "loss": 0.11748732626438141
         },
         {
          "i": 142,
          "loss": 0.11674696952104568
         },
         {
          "i": 143,
          "loss": 0.11601407825946808
         },
         {
          "i": 144,
          "loss": 0.11528859287500381
         },
         {
          "i": 145,
          "loss": 0.11457027494907379
         },
         {
          "i": 146,
          "loss": 0.11385911703109741
         },
         {
          "i": 147,
          "loss": 0.11315491795539856
         },
         {
          "i": 148,
          "loss": 0.11245764791965485
         },
         {
          "i": 149,
          "loss": 0.11176711320877075
         },
         {
          "i": 150,
          "loss": 0.11108327656984329
         },
         {
          "i": 151,
          "loss": 0.1104060485959053
         },
         {
          "i": 152,
          "loss": 0.1097903847694397
         },
         {
          "i": 153,
          "loss": 0.10922186821699142
         },
         {
          "i": 154,
          "loss": 0.10867998003959656
         },
         {
          "i": 155,
          "loss": 0.10812857747077942
         },
         {
          "i": 156,
          "loss": 0.10759514570236206
         },
         {
          "i": 157,
          "loss": 0.10705994814634323
         },
         {
          "i": 158,
          "loss": 0.10653438419103622
         },
         {
          "i": 159,
          "loss": 0.10600405931472778
         },
         {
          "i": 160,
          "loss": 0.10548466444015503
         },
         {
          "i": 161,
          "loss": 0.10496348142623901
         },
         {
          "i": 162,
          "loss": 0.10445649176836014
         },
         {
          "i": 163,
          "loss": 0.10394243896007538
         },
         {
          "i": 164,
          "loss": 0.10344869643449783
         },
         {
          "i": 165,
          "loss": 0.10294068604707718
         },
         {
          "i": 166,
          "loss": 0.10246013849973679
         },
         {
          "i": 167,
          "loss": 0.10196252167224884
         },
         {
          "i": 168,
          "loss": 0.10148508846759796
         },
         {
          "i": 169,
          "loss": 0.10100263357162476
         },
         {
          "i": 170,
          "loss": 0.10052765905857086
         },
         {
          "i": 171,
          "loss": 0.10006053000688553
         },
         {
          "i": 172,
          "loss": 0.09958736598491669
         },
         {
          "i": 173,
          "loss": 0.09913580119609833
         },
         {
          "i": 174,
          "loss": 0.09866957366466522
         },
         {
          "i": 175,
          "loss": 0.09822232276201248
         },
         {
          "i": 176,
          "loss": 0.09777040779590607
         },
         {
          "i": 177,
          "loss": 0.09732293337583542
         },
         {
          "i": 178,
          "loss": 0.09688710421323776
         },
         {
          "i": 179,
          "loss": 0.09644168615341187
         },
         {
          "i": 180,
          "loss": 0.09601697325706482
         },
         {
          "i": 181,
          "loss": 0.09558048844337463
         },
         {
          "i": 182,
          "loss": 0.09515806287527084
         },
         {
          "i": 183,
          "loss": 0.09474387764930725
         },
         {
          "i": 184,
          "loss": 0.09432186931371689
         },
         {
          "i": 185,
          "loss": 0.09391990303993225
         },
         {
          "i": 186,
          "loss": 0.09350760281085968
         },
         {
          "i": 187,
          "loss": 0.09310311079025269
         },
         {
          "i": 188,
          "loss": 0.0927075445652008
         },
         {
          "i": 189,
          "loss": 0.09230386465787888
         },
         {
          "i": 190,
          "loss": 0.091917984187603
         },
         {
          "i": 191,
          "loss": 0.09152452647686005
         },
         {
          "i": 192,
          "loss": 0.09113512188196182
         },
         {
          "i": 193,
          "loss": 0.09075841307640076
         },
         {
          "i": 194,
          "loss": 0.0903717502951622
         },
         {
          "i": 195,
          "loss": 0.08999930322170258
         },
         {
          "i": 196,
          "loss": 0.08962549269199371
         },
         {
          "i": 197,
          "loss": 0.0892505943775177
         },
         {
          "i": 198,
          "loss": 0.08889948576688766
         },
         {
          "i": 199,
          "loss": 0.08853521943092346
         },
         {
          "i": 200,
          "loss": 0.08818048238754272
         },
         {
          "i": 201,
          "loss": 0.08783324062824249
         },
         {
          "i": 202,
          "loss": 0.08747874200344086
         },
         {
          "i": 203,
          "loss": 0.0871378481388092
         },
         {
          "i": 204,
          "loss": 0.08679451793432236
         },
         {
          "i": 205,
          "loss": 0.08644891530275345
         },
         {
          "i": 206,
          "loss": 0.08612081408500671
         },
         {
          "i": 207,
          "loss": 0.08578191697597504
         },
         {
          "i": 208,
          "loss": 0.0854477807879448
         },
         {
          "i": 209,
          "loss": 0.08512574434280396
         },
         {
          "i": 210,
          "loss": 0.08479425311088562
         },
         {
          "i": 211,
          "loss": 0.08447184413671494
         },
         {
          "i": 212,
          "loss": 0.08415433019399643
         },
         {
          "i": 213,
          "loss": 0.08383104205131531
         },
         {
          "i": 214,
          "loss": 0.0835193544626236
         },
         {
          "i": 215,
          "loss": 0.08320695161819458
         },
         {
          "i": 216,
          "loss": 0.0828915536403656
         },
         {
          "i": 217,
          "loss": 0.08258963376283646
         },
         {
          "i": 218,
          "loss": 0.082282654941082
         },
         {
          "i": 219,
          "loss": 0.08197494596242905
         },
         {
          "i": 220,
          "loss": 0.081681989133358
         },
         {
          "i": 221,
          "loss": 0.08138080686330795
         },
         {
          "i": 222,
          "loss": 0.08108054846525192
         },
         {
          "i": 223,
          "loss": 0.08079579472541809
         },
         {
          "i": 224,
          "loss": 0.08050070703029633
         },
         {
          "i": 225,
          "loss": 0.08020815253257751
         },
         {
          "i": 226,
          "loss": 0.07992993295192719
         },
         {
          "i": 227,
          "loss": 0.07964105904102325
         },
         {
          "i": 228,
          "loss": 0.07935590296983719
         },
         {
          "i": 229,
          "loss": 0.0790834128856659
         },
         {
          "i": 230,
          "loss": 0.07880140841007233
         },
         {
          "i": 231,
          "loss": 0.0785236656665802
         },
         {
          "i": 232,
          "loss": 0.07826163619756699
         },
         {
          "i": 233,
          "loss": 0.07799042761325836
         },
         {
          "i": 234,
          "loss": 0.07772242277860641
         },
         {
          "i": 235,
          "loss": 0.07746676355600357
         },
         {
          "i": 236,
          "loss": 0.07720181345939636
         },
         {
          "i": 237,
          "loss": 0.07693926990032196
         },
         {
          "i": 238,
          "loss": 0.07669111341238022
         },
         {
          "i": 239,
          "loss": 0.07643354684114456
         },
         {
          "i": 240,
          "loss": 0.07617901265621185
         },
         {
          "i": 241,
          "loss": 0.07593688368797302
         },
         {
          "i": 242,
          "loss": 0.07568750530481339
         },
         {
          "i": 243,
          "loss": 0.07543869316577911
         },
         {
          "i": 244,
          "loss": 0.07520019263029099
         },
         {
          "i": 245,
          "loss": 0.07495824247598648
         },
         {
          "i": 246,
          "loss": 0.07471498847007751
         },
         {
          "i": 247,
          "loss": 0.07447978854179382
         },
         {
          "i": 248,
          "loss": 0.07424529641866684
         },
         {
          "i": 249,
          "loss": 0.07400748878717422
         },
         {
          "i": 250,
          "loss": 0.07377520203590393
         },
         {
          "i": 251,
          "loss": 0.07354825735092163
         },
         {
          "i": 252,
          "loss": 0.07331570237874985
         },
         {
          "i": 253,
          "loss": 0.07308483868837357
         },
         {
          "i": 254,
          "loss": 0.07285115867853165
         },
         {
          "i": 255,
          "loss": 0.0726098045706749
         },
         {
          "i": 256,
          "loss": 0.0723714604973793
         },
         {
          "i": 257,
          "loss": 0.07214318960905075
         },
         {
          "i": 258,
          "loss": 0.07191041111946106
         },
         {
          "i": 259,
          "loss": 0.07167420536279678
         },
         {
          "i": 260,
          "loss": 0.07144031673669815
         },
         {
          "i": 261,
          "loss": 0.07121093571186066
         },
         {
          "i": 262,
          "loss": 0.07097721844911575
         },
         {
          "i": 263,
          "loss": 0.07074537128210068
         },
         {
          "i": 264,
          "loss": 0.07052479684352875
         },
         {
          "i": 265,
          "loss": 0.07029649615287781
         },
         {
          "i": 266,
          "loss": 0.07006959617137909
         },
         {
          "i": 267,
          "loss": 0.06984928995370865
         },
         {
          "i": 268,
          "loss": 0.06963038444519043
         },
         {
          "i": 269,
          "loss": 0.06940831243991852
         },
         {
          "i": 270,
          "loss": 0.06918824464082718
         },
         {
          "i": 271,
          "loss": 0.06897857785224915
         },
         {
          "i": 272,
          "loss": 0.06876121461391449
         },
         {
          "i": 273,
          "loss": 0.06854557245969772
         },
         {
          "i": 274,
          "loss": 0.06833627074956894
         },
         {
          "i": 275,
          "loss": 0.06812804937362671
         },
         {
          "i": 276,
          "loss": 0.06791692972183228
         },
         {
          "i": 277,
          "loss": 0.067707359790802
         },
         {
          "i": 278,
          "loss": 0.06750793755054474
         },
         {
          "i": 279,
          "loss": 0.06730176508426666
         },
         {
          "i": 280,
          "loss": 0.06709656119346619
         },
         {
          "i": 281,
          "loss": 0.06689602881669998
         },
         {
          "i": 282,
          "loss": 0.06669952720403671
         },
         {
          "i": 283,
          "loss": 0.06649862974882126
         },
         {
          "i": 284,
          "loss": 0.06629925221204758
         },
         {
          "i": 285,
          "loss": 0.06610752642154694
         },
         {
          "i": 286,
          "loss": 0.06591330468654633
         },
         {
          "i": 287,
          "loss": 0.06571802496910095
         },
         {
          "i": 288,
          "loss": 0.06552467495203018
         },
         {
          "i": 289,
          "loss": 0.06534016877412796
         },
         {
          "i": 290,
          "loss": 0.06514894217252731
         },
         {
          "i": 291,
          "loss": 0.0649591013789177
         },
         {
          "i": 292,
          "loss": 0.06477359682321548
         },
         {
          "i": 293,
          "loss": 0.06459175795316696
         },
         {
          "i": 294,
          "loss": 0.06440578401088715
         },
         {
          "i": 295,
          "loss": 0.06422119587659836
         },
         {
          "i": 296,
          "loss": 0.06404278427362442
         },
         {
          "i": 297,
          "loss": 0.06386397778987885
         },
         {
          "i": 298,
          "loss": 0.06368311494588852
         },
         {
          "i": 299,
          "loss": 0.06350360065698624
         },
         {
          "i": 300,
          "loss": 0.06333162635564804
         },
         {
          "i": 301,
          "loss": 0.06315615028142929
         },
         {
          "i": 302,
          "loss": 0.06298018991947174
         },
         {
          "i": 303,
          "loss": 0.06280592083930969
         },
         {
          "i": 304,
          "loss": 0.06264152377843857
         },
         {
          "i": 305,
          "loss": 0.06247126683592796
         },
         {
          "i": 306,
          "loss": 0.06230173259973526
         },
         {
          "i": 307,
          "loss": 0.062134336680173874
         },
         {
          "i": 308,
          "loss": 0.061975348740816116
         },
         {
          "i": 309,
          "loss": 0.06181173399090767
         },
         {
          "i": 310,
          "loss": 0.061649199575185776
         },
         {
          "i": 311,
          "loss": 0.061489082872867584
         },
         {
          "i": 312,
          "loss": 0.06133483350276947
         },
         {
          "i": 313,
          "loss": 0.061175402253866196
         },
         {
          "i": 314,
          "loss": 0.06101708486676216
         },
         {
          "i": 315,
          "loss": 0.06086132675409317
         },
         {
          "i": 316,
          "loss": 0.06071077287197113
         },
         {
          "i": 317,
          "loss": 0.060555439442396164
         },
         {
          "i": 318,
          "loss": 0.06040116399526596
         },
         {
          "i": 319,
          "loss": 0.060249119997024536
         },
         {
          "i": 320,
          "loss": 0.060102615505456924
         },
         {
          "i": 321,
          "loss": 0.059951189905405045
         },
         {
          "i": 322,
          "loss": 0.05980077385902405
         },
         {
          "i": 323,
          "loss": 0.05965208634734154
         },
         {
          "i": 324,
          "loss": 0.05950978770852089
         },
         {
          "i": 325,
          "loss": 0.05936214327812195
         },
         {
          "i": 326,
          "loss": 0.05921551585197449
         },
         {
          "i": 327,
          "loss": 0.05906984955072403
         },
         {
          "i": 328,
          "loss": 0.05893148481845856
         },
         {
          "i": 329,
          "loss": 0.058787886053323746
         },
         {
          "i": 330,
          "loss": 0.058644868433475494
         },
         {
          "i": 331,
          "loss": 0.058502793312072754
         },
         {
          "i": 332,
          "loss": 0.058366551995277405
         },
         {
          "i": 333,
          "loss": 0.05822779983282089
         },
         {
          "i": 334,
          "loss": 0.058088287711143494
         },
         {
          "i": 335,
          "loss": 0.05794968456029892
         },
         {
          "i": 336,
          "loss": 0.0578153096139431
         },
         {
          "i": 337,
          "loss": 0.057681478559970856
         },
         {
          "i": 338,
          "loss": 0.05754535272717476
         },
         {
          "i": 339,
          "loss": 0.0574101097881794
         },
         {
          "i": 340,
          "loss": 0.05727730691432953
         },
         {
          "i": 341,
          "loss": 0.05714842677116394
         },
         {
          "i": 342,
          "loss": 0.05701557174324989
         },
         {
          "i": 343,
          "loss": 0.05688377842307091
         },
         {
          "i": 344,
          "loss": 0.05675368383526802
         },
         {
          "i": 345,
          "loss": 0.05663060024380684
         },
         {
          "i": 346,
          "loss": 0.056503113359212875
         },
         {
          "i": 347,
          "loss": 0.05637583136558533
         },
         {
          "i": 348,
          "loss": 0.05624937638640404
         },
         {
          "i": 349,
          "loss": 0.056126732379198074
         },
         {
          "i": 350,
          "loss": 0.056004542857408524
         },
         {
          "i": 351,
          "loss": 0.05588015913963318
         },
         {
          "i": 352,
          "loss": 0.05575653910636902
         },
         {
          "i": 353,
          "loss": 0.055634092539548874
         },
         {
          "i": 354,
          "loss": 0.05551726743578911
         },
         {
          "i": 355,
          "loss": 0.055395666509866714
         },
         {
          "i": 356,
          "loss": 0.05527479201555252
         },
         {
          "i": 357,
          "loss": 0.055154699832201004
         },
         {
          "i": 358,
          "loss": 0.05503803864121437
         },
         {
          "i": 359,
          "loss": 0.054910894483327866
         },
         {
          "i": 360,
          "loss": 0.05478200316429138
         },
         {
          "i": 361,
          "loss": 0.05465397238731384
         },
         {
          "i": 362,
          "loss": 0.05452673137187958
         },
         {
          "i": 363,
          "loss": 0.05440516769886017
         },
         {
          "i": 364,
          "loss": 0.054279766976833344
         },
         {
          "i": 365,
          "loss": 0.054154668003320694
         },
         {
          "i": 366,
          "loss": 0.05403032898902893
         },
         {
          "i": 367,
          "loss": 0.05390726029872894
         },
         {
          "i": 368,
          "loss": 0.0537889339029789
         },
         {
          "i": 369,
          "loss": 0.05366659164428711
         },
         {
          "i": 370,
          "loss": 0.05354505032300949
         },
         {
          "i": 371,
          "loss": 0.053424201905727386
         },
         {
          "i": 372,
          "loss": 0.05330510064959526
         },
         {
          "i": 373,
          "loss": 0.053189750760793686
         },
         {
          "i": 374,
          "loss": 0.05307089909911156
         },
         {
          "i": 375,
          "loss": 0.05295281857252121
         },
         {
          "i": 376,
          "loss": 0.05283522233366966
         },
         {
          "i": 377,
          "loss": 0.052718572318553925
         },
         {
          "i": 378,
          "loss": 0.05260583385825157
         },
         {
          "i": 379,
          "loss": 0.052489638328552246
         },
         {
          "i": 380,
          "loss": 0.052374158054590225
         },
         {
          "i": 381,
          "loss": 0.05225938931107521
         },
         {
          "i": 382,
          "loss": 0.05214540660381317
         },
         {
          "i": 383,
          "loss": 0.05203660577535629
         },
         {
          "i": 384,
          "loss": 0.05192437767982483
         },
         {
          "i": 385,
          "loss": 0.051813755184412
         },
         {
          "i": 386,
          "loss": 0.05170377716422081
         },
         {
          "i": 387,
          "loss": 0.05159444734454155
         },
         {
          "i": 388,
          "loss": 0.051489222794771194
         },
         {
          "i": 389,
          "loss": 0.051382169127464294
         },
         {
          "i": 390,
          "loss": 0.05127459019422531
         },
         {
          "i": 391,
          "loss": 0.05116764083504677
         },
         {
          "i": 392,
          "loss": 0.05106136202812195
         },
         {
          "i": 393,
          "loss": 0.05095759779214859
         },
         {
          "i": 394,
          "loss": 0.050854966044425964
         },
         {
          "i": 395,
          "loss": 0.05075032636523247
         },
         {
          "i": 396,
          "loss": 0.0506463348865509
         },
         {
          "i": 397,
          "loss": 0.05054294690489769
         },
         {
          "i": 398,
          "loss": 0.05044059827923775
         },
         {
          "i": 399,
          "loss": 0.05034228414297104
         },
         {
          "i": 400,
          "loss": 0.05024053156375885
         },
         {
          "i": 401,
          "loss": 0.050139330327510834
         },
         {
          "i": 402,
          "loss": 0.05003878101706505
         },
         {
          "i": 403,
          "loss": 0.04993879422545433
         },
         {
          "i": 404,
          "loss": 0.049842290580272675
         },
         {
          "i": 405,
          "loss": 0.04974467679858208
         },
         {
          "i": 406,
          "loss": 0.049646247178316116
         },
         {
          "i": 407,
          "loss": 0.049548398703336716
         },
         {
          "i": 408,
          "loss": 0.04945110157132149
         },
         {
          "i": 409,
          "loss": 0.049355268478393555
         },
         {
          "i": 410,
          "loss": 0.049262288957834244
         },
         {
          "i": 411,
          "loss": 0.049166493117809296
         },
         {
          "i": 412,
          "loss": 0.04907124862074852
         },
         {
          "i": 413,
          "loss": 0.04897652938961983
         },
         {
          "i": 414,
          "loss": 0.048882413655519485
         },
         {
          "i": 415,
          "loss": 0.04879161715507507
         },
         {
          "i": 416,
          "loss": 0.048699673265218735
         },
         {
          "i": 417,
          "loss": 0.04860694333910942
         },
         {
          "i": 418,
          "loss": 0.048514753580093384
         },
         {
          "i": 419,
          "loss": 0.04842307046055794
         },
         {
          "i": 420,
          "loss": 0.048332467675209045
         },
         {
          "i": 421,
          "loss": 0.04824524000287056
         },
         {
          "i": 422,
          "loss": 0.048154979944229126
         },
         {
          "i": 423,
          "loss": 0.04806520789861679
         },
         {
          "i": 424,
          "loss": 0.04797596484422684
         },
         {
          "i": 425,
          "loss": 0.04788722097873688
         },
         {
          "i": 426,
          "loss": 0.04780096560716629
         },
         {
          "i": 427,
          "loss": 0.04771503433585167
         },
         {
          "i": 428,
          "loss": 0.047627583146095276
         },
         {
          "i": 429,
          "loss": 0.04754065349698067
         },
         {
          "i": 430,
          "loss": 0.047450706362724304
         },
         {
          "i": 431,
          "loss": 0.04735531285405159
         },
         {
          "i": 432,
          "loss": 0.047264665365219116
         },
         {
          "i": 433,
          "loss": 0.047172073274850845
         },
         {
          "i": 434,
          "loss": 0.04707922786474228
         },
         {
          "i": 435,
          "loss": 0.046987008303403854
         },
         {
          "i": 436,
          "loss": 0.046895310282707214
         },
         {
          "i": 437,
          "loss": 0.04680415242910385
         },
         {
          "i": 438,
          "loss": 0.046716704964637756
         },
         {
          "i": 439,
          "loss": 0.04662686958909035
         },
         {
          "i": 440,
          "loss": 0.046537112444639206
         },
         {
          "i": 441,
          "loss": 0.04644790664315224
         },
         {
          "i": 442,
          "loss": 0.04635915160179138
         },
         {
          "i": 443,
          "loss": 0.0462709479033947
         },
         {
          "i": 444,
          "loss": 0.04618579521775246
         },
         {
          "i": 445,
          "loss": 0.04609934985637665
         },
         {
          "i": 446,
          "loss": 0.046012453734874725
         },
         {
          "i": 447,
          "loss": 0.04592607542872429
         },
         {
          "i": 448,
          "loss": 0.045840196311473846
         },
         {
          "i": 449,
          "loss": 0.04575476795434952
         },
         {
          "i": 450,
          "loss": 0.045671477913856506
         },
         {
          "i": 451,
          "loss": 0.04558863490819931
         },
         {
          "i": 452,
          "loss": 0.04550451412796974
         },
         {
          "i": 453,
          "loss": 0.04542088136076927
         },
         {
          "i": 454,
          "loss": 0.045337677001953125
         },
         {
          "i": 455,
          "loss": 0.04525496065616608
         },
         {
          "i": 456,
          "loss": 0.04517313092947006
         },
         {
          "i": 457,
          "loss": 0.04509406536817551
         },
         {
          "i": 458,
          "loss": 0.04501257836818695
         },
         {
          "i": 459,
          "loss": 0.04493153095245361
         },
         {
          "i": 460,
          "loss": 0.04485093429684639
         },
         {
          "i": 461,
          "loss": 0.044770751148462296
         },
         {
          "i": 462,
          "loss": 0.04469101503491402
         },
         {
          "i": 463,
          "loss": 0.04461398720741272
         },
         {
          "i": 464,
          "loss": 0.04453596472740173
         },
         {
          "i": 465,
          "loss": 0.04445742070674896
         },
         {
          "i": 466,
          "loss": 0.04437929019331932
         },
         {
          "i": 467,
          "loss": 0.0443015992641449
         },
         {
          "i": 468,
          "loss": 0.04422429949045181
         },
         {
          "i": 469,
          "loss": 0.044148124754428864
         },
         {
          "i": 470,
          "loss": 0.044074077159166336
         },
         {
          "i": 471,
          "loss": 0.04399792104959488
         },
         {
          "i": 472,
          "loss": 0.04392237961292267
         },
         {
          "i": 473,
          "loss": 0.04384773224592209
         },
         {
          "i": 474,
          "loss": 0.04377352073788643
         },
         {
          "i": 475,
          "loss": 0.04369974136352539
         },
         {
          "i": 476,
          "loss": 0.0436282716691494
         },
         {
          "i": 477,
          "loss": 0.043556250631809235
         },
         {
          "i": 478,
          "loss": 0.04348345845937729
         },
         {
          "i": 479,
          "loss": 0.04341106861829758
         },
         {
          "i": 480,
          "loss": 0.04333909973502159
         },
         {
          "i": 481,
          "loss": 0.04326748847961426
         },
         {
          "i": 482,
          "loss": 0.04319633170962334
         },
         {
          "i": 483,
          "loss": 0.043128348886966705
         },
         {
          "i": 484,
          "loss": 0.04305776581168175
         },
         {
          "i": 485,
          "loss": 0.04298753663897514
         },
         {
          "i": 486,
          "loss": 0.04291767627000809
         },
         {
          "i": 487,
          "loss": 0.04284819960594177
         },
         {
          "i": 488,
          "loss": 0.042779065668582916
         },
         {
          "i": 489,
          "loss": 0.04271132871508598
         },
         {
          "i": 490,
          "loss": 0.042644768953323364
         },
         {
          "i": 491,
          "loss": 0.04257660731673241
         },
         {
          "i": 492,
          "loss": 0.042508792132139206
         },
         {
          "i": 493,
          "loss": 0.042441368103027344
         },
         {
          "i": 494,
          "loss": 0.042374249547719955
         },
         {
          "i": 495,
          "loss": 0.042307496070861816
         },
         {
          "i": 496,
          "loss": 0.04224275425076485
         },
         {
          "i": 497,
          "loss": 0.04217782989144325
         },
         {
          "i": 498,
          "loss": 0.04211196303367615
         },
         {
          "i": 499,
          "loss": 0.042046476155519485
         }
        ]
       },
       "encoding": {
        "x": {
         "field": "i",
         "type": "quantitative"
        },
        "y": {
         "field": "loss",
         "type": "quantitative"
        }
       },
       "height": 100,
       "mark": "line"
      },
      "image/png": "[encoded data removed]",
      "text/plain": [
       "<VegaLite 3 object>\n",
       "\n",
       "If you see this message, it means the renderer has not been properly enabled\n",
       "for the frontend that you are using. For more information, see\n",
       "https://altair-viz.github.io/user_guide/troubleshooting.html\n"
      ]
     },
     "execution_count": 382,
     "metadata": {},
     "output_type": "execute_result"
    }
   ],
   "source": [
    "loss_df = pd.DataFrame({'i':range(500), 'loss':loss_record})\n",
    "alt.Chart(loss_df, height=100).mark_line().encode(x='i', y='loss')"
   ]
  },
  {
   "cell_type": "code",
   "execution_count": 383,
   "metadata": {},
   "outputs": [
    {
     "data": {
      "application/vnd.vegalite.v3+json": {
       "$schema": "https://vega.github.io/schema/vega-lite/v3.4.0.json",
       "config": {
        "mark": {
         "tooltip": null
        },
        "view": {
         "height": 300,
         "width": 400
        }
       },
       "data": {
        "name": "data-d43e10d4e8965c59d26ca87246cb519f"
       },
       "datasets": {
        "data-d43e10d4e8965c59d26ca87246cb519f": [
         {
          "x1": 0.8385455012321472,
          "y": 0.7031585574150085,
          "ŷ": 0.9375433921813965
         },
         {
          "x1": -0.49665752053260803,
          "y": 0.24666869640350342,
          "ŷ": 0.011037454009056091
         },
         {
          "x1": -0.8446605205535889,
          "y": 0.7134513854980469,
          "ŷ": 0.8158531188964844
         },
         {
          "x1": -0.42163780331611633,
          "y": 0.1777784377336502,
          "ŷ": -0.011086121201515198
         },
         {
          "x1": 0.1565307378768921,
          "y": 0.024501871317625046,
          "ŷ": -0.172074094414711
         },
         {
          "x1": -0.30727648735046387,
          "y": 0.09441883862018585,
          "ŷ": -0.04481162130832672
         },
         {
          "x1": 0.30222129821777344,
          "y": 0.09133771061897278,
          "ŷ": 0.03674440085887909
         },
         {
          "x1": -0.08980663120746613,
          "y": 0.008065231144428253,
          "ŷ": 0.005439862608909607
         },
         {
          "x1": -0.842332124710083,
          "y": 0.7095233798027039,
          "ŷ": 0.8105124831199646
         },
         {
          "x1": -0.8345144987106323,
          "y": 0.6964144706726074,
          "ŷ": 0.7925804853439331
         },
         {
          "x1": 0.2783096134662628,
          "y": 0.07745624333620071,
          "ŷ": 0.0024717897176742554
         },
         {
          "x1": -1.6186836957931519,
          "y": 2.6201369762420654,
          "ŷ": 2.6743459701538086
         },
         {
          "x1": -0.9328137636184692,
          "y": 0.8701415061950684,
          "ŷ": 1.0180569887161255
         },
         {
          "x1": -1.6493779420852661,
          "y": 2.720447540283203,
          "ŷ": 2.752882480621338
         },
         {
          "x1": 0.3906685411930084,
          "y": 0.15262190997600555,
          "ŷ": 0.1635158509016037
         },
         {
          "x1": 0.3538188934326172,
          "y": 0.12518781423568726,
          "ŷ": 0.11069928109645844
         },
         {
          "x1": -0.46842026710510254,
          "y": 0.219417542219162,
          "ŷ": 0.002710089087486267
         },
         {
          "x1": -0.8511542677879333,
          "y": 0.7244635820388794,
          "ŷ": 0.8307484984397888
         },
         {
          "x1": -0.707750141620636,
          "y": 0.5009102821350098,
          "ŷ": 0.4871929883956909
         },
         {
          "x1": -1.315176010131836,
          "y": 1.7296879291534424,
          "ŷ": 1.8977676630020142
         },
         {
          "x1": -0.10163570940494537,
          "y": 0.010329817421734333,
          "ŷ": -0.0020945221185684204
         },
         {
          "x1": 0.1665923297405243,
          "y": 0.027753004804253578,
          "ŷ": -0.15765275061130524
         },
         {
          "x1": -0.7193951606750488,
          "y": 0.5175293684005737,
          "ŷ": 0.5167364478111267
         },
         {
          "x1": 0.6013686060905457,
          "y": 0.3616442084312439,
          "ŷ": 0.46551263332366943
         },
         {
          "x1": -1.1538795232772827,
          "y": 1.3314379453659058,
          "ŷ": 1.5251322984695435
         },
         {
          "x1": 0.030839035287499428,
          "y": 0.0009510461241006851,
          "ŷ": -0.09877397119998932
         },
         {
          "x1": 0.18931491672992706,
          "y": 0.03584013879299164,
          "ŷ": -0.12508459389209747
         },
         {
          "x1": -0.09791752696037292,
          "y": 0.009587842039763927,
          "ŷ": 0.0002738088369369507
         },
         {
          "x1": 0.27008092403411865,
          "y": 0.07294370234012604,
          "ŷ": -0.009322479367256165
         },
         {
          "x1": -1.633970022201538,
          "y": 2.669857978820801,
          "ŷ": 2.713459014892578
         },
         {
          "x1": 1.0276837348937988,
          "y": 1.0561338663101196,
          "ŷ": 1.3280433416366577
         },
         {
          "x1": 0.1692667454481125,
          "y": 0.02865123189985752,
          "ŷ": -0.15381969511508942
         },
         {
          "x1": 1.0028891563415527,
          "y": 1.005786657333374,
          "ŷ": 1.2768518924713135
         },
         {
          "x1": 0.0670328363776207,
          "y": 0.0044934009201824665,
          "ŷ": -0.13756443560123444
         },
         {
          "x1": -0.7625962495803833,
          "y": 0.581553041934967,
          "ŷ": 0.626337468624115
         },
         {
          "x1": -0.12922878563404083,
          "y": 0.016700079664587975,
          "ŷ": -0.019669309258461
         },
         {
          "x1": -1.612038493156433,
          "y": 2.598668098449707,
          "ŷ": 2.6573429107666016
         },
         {
          "x1": -0.683637261390686,
          "y": 0.46735990047454834,
          "ŷ": 0.4260183572769165
         },
         {
          "x1": -0.05152073875069618,
          "y": 0.0026543864514678717,
          "ŷ": -0.010505571961402893
         },
         {
          "x1": 0.4880196452140808,
          "y": 0.23816317319869995,
          "ŷ": 0.30304932594299316
         },
         {
          "x1": 0.48911991715431213,
          "y": 0.23923829197883606,
          "ŷ": 0.3046264052391052
         },
         {
          "x1": -0.1346949189901352,
          "y": 0.01814272068440914,
          "ŷ": -0.023150935769081116
         },
         {
          "x1": -0.09128694981336594,
          "y": 0.008333306759595871,
          "ŷ": 0.0044967979192733765
         },
         {
          "x1": -1.986048936843872,
          "y": 3.944390296936035,
          "ŷ": 3.612478733062744
         },
         {
          "x1": 0.6307474970817566,
          "y": 0.3978424072265625,
          "ŷ": 0.508517861366272
         },
         {
          "x1": 0.23694516718387604,
          "y": 0.05614301189780235,
          "ŷ": -0.05681599676609039
         },
         {
          "x1": 0.858505129814148,
          "y": 0.7370310425758362,
          "ŷ": 0.978752613067627
         },
         {
          "x1": 0.018415724858641624,
          "y": 0.00033913893275894225,
          "ŷ": -0.08545948565006256
         },
         {
          "x1": 1.3745160102844238,
          "y": 1.8892942667007446,
          "ŷ": 2.127906084060669
         },
         {
          "x1": -0.08792936056852341,
          "y": 0.007731572259217501,
          "ŷ": 0.006635412573814392
         },
         {
          "x1": -0.09041056036949158,
          "y": 0.008174069225788116,
          "ŷ": 0.005055055022239685
         },
         {
          "x1": -0.24510541558265686,
          "y": 0.06007666513323784,
          "ŷ": -0.06657852232456207
         },
         {
          "x1": -0.1481253057718277,
          "y": 0.021941106766462326,
          "ŷ": -0.031705036759376526
         },
         {
          "x1": 1.3836276531219482,
          "y": 1.9144254922866821,
          "ŷ": 2.1493349075317383
         },
         {
          "x1": -0.3371792137622833,
          "y": 0.11368982493877411,
          "ŷ": -0.03599335253238678
         },
         {
          "x1": -1.0437960624694824,
          "y": 1.089510202407837,
          "ŷ": 1.2726259231567383
         },
         {
          "x1": -0.03915335610508919,
          "y": 0.0015329852467402816,
          "ŷ": -0.02376021444797516
         },
         {
          "x1": -1.002817988395691,
          "y": 1.0056439638137817,
          "ŷ": 1.1786309480667114
         },
         {
          "x1": 0.5299388766288757,
          "y": 0.28083521127700806,
          "ŷ": 0.3631322383880615
         },
         {
          "x1": -0.7239068746566772,
          "y": 0.5240411758422852,
          "ŷ": 0.5281826257705688
         },
         {
          "x1": 1.0551128387451172,
          "y": 1.1132631301879883,
          "ŷ": 1.384674310684204
         },
         {
          "x1": -1.01012122631073,
          "y": 1.020344853401184,
          "ŷ": 1.1953827142715454
         },
         {
          "x1": 0.7951121926307678,
          "y": 0.6322034001350403,
          "ŷ": 0.8478697538375854
         },
         {
          "x1": -0.9547920227050781,
          "y": 0.9116278290748596,
          "ŷ": 1.0684700012207031
         },
         {
          "x1": 0.5478885769844055,
          "y": 0.30018189549446106,
          "ŷ": 0.3888595700263977
         },
         {
          "x1": -0.9505205154418945,
          "y": 0.9034892320632935,
          "ŷ": 1.058672308921814
         },
         {
          "x1": 0.3754342496395111,
          "y": 0.14095087349414825,
          "ŷ": 0.14168046414852142
         },
         {
          "x1": 1.2450982332229614,
          "y": 1.550269603729248,
          "ŷ": 1.8235427141189575
         },
         {
          "x1": -2.227614402770996,
          "y": 4.962265968322754,
          "ŷ": 4.224925994873047
         },
         {
          "x1": -0.0045912559144198895,
          "y": 2.107963155140169e-05,
          "ŷ": -0.060801878571510315
         },
         {
          "x1": -0.04098954051733017,
          "y": 0.001680142479017377,
          "ŷ": -0.021792307496070862
         },
         {
          "x1": 0.49783796072006226,
          "y": 0.24784263968467712,
          "ŷ": 0.3171219229698181
         },
         {
          "x1": 0.2822411358356476,
          "y": 0.07966005802154541,
          "ŷ": 0.008106634020805359
         },
         {
          "x1": -0.05127144977450371,
          "y": 0.002628761576488614,
          "ŷ": -0.010772600769996643
         },
         {
          "x1": 2.238039016723633,
          "y": 5.008818626403809,
          "ŷ": 4.064036846160889
         },
         {
          "x1": -1.0808724164962769,
          "y": 1.1682851314544678,
          "ŷ": 1.3576701879501343
         },
         {
          "x1": 2.219867467880249,
          "y": 4.927811622619629,
          "ŷ": 4.0251240730285645
         },
         {
          "x1": 0.6742897033691406,
          "y": 0.4546666145324707,
          "ŷ": 0.598416268825531
         },
         {
          "x1": 0.464852511882782,
          "y": 0.21608786284923553,
          "ŷ": 0.2698438763618469
         },
         {
          "x1": -0.5342574119567871,
          "y": 0.2854309678077698,
          "ŷ": 0.04704152047634125
         },
         {
          "x1": -1.4661026000976562,
          "y": 2.149456739425659,
          "ŷ": 2.2839407920837402
         },
         {
          "x1": -0.26652398705482483,
          "y": 0.07103503495454788,
          "ŷ": -0.05682958662509918
         },
         {
          "x1": 1.2981946468353271,
          "y": 1.6853092908859253,
          "ŷ": 1.9484143257141113
         },
         {
          "x1": -0.2165496051311493,
          "y": 0.046893730759620667,
          "ŷ": -0.07528652250766754
         },
         {
          "x1": 0.4534211754798889,
          "y": 0.20559076964855194,
          "ŷ": 0.2534593939781189
         },
         {
          "x1": -0.9095655679702759,
          "y": 0.8273095488548279,
          "ŷ": 0.9647310376167297
         },
         {
          "x1": -0.7528094053268433,
          "y": 0.5667219758033752,
          "ŷ": 0.6015082597732544
         },
         {
          "x1": 0.5806728601455688,
          "y": 0.3371809720993042,
          "ŷ": 0.43584924936294556
         },
         {
          "x1": -0.5865963101387024,
          "y": 0.34409523010253906,
          "ŷ": 0.17982541024684906
         },
         {
          "x1": 1.4879064559936523,
          "y": 2.2138655185699463,
          "ŷ": 2.3945767879486084
         },
         {
          "x1": -1.504737138748169,
          "y": 2.2642338275909424,
          "ŷ": 2.382793426513672
         },
         {
          "x1": -1.2561002969741821,
          "y": 1.57778799533844,
          "ŷ": 1.7596039772033691
         },
         {
          "x1": 0.46809354424476624,
          "y": 0.21911156177520752,
          "ŷ": 0.27448922395706177
         },
         {
          "x1": -1.6293408870697021,
          "y": 2.654751777648926,
          "ŷ": 2.7016139030456543
         },
         {
          "x1": -1.8111705780029297,
          "y": 3.280338764190674,
          "ŷ": 3.1668572425842285
         },
         {
          "x1": -1.0287038087844849,
          "y": 1.0582314729690552,
          "ŷ": 1.2380075454711914
         },
         {
          "x1": 0.9584910273551941,
          "y": 0.9187050461769104,
          "ŷ": 1.1851860284805298
         },
         {
          "x1": 0.24389412999153137,
          "y": 0.05948434770107269,
          "ŷ": -0.04685606062412262
         },
         {
          "x1": 0.5317782163619995,
          "y": 0.28278806805610657,
          "ŷ": 0.3657686114311218
         },
         {
          "x1": -0.6158742904663086,
          "y": 0.37930113077163696,
          "ŷ": 0.25410377979278564
         }
        ]
       },
       "layer": [
        {
         "encoding": {
          "x": {
           "field": "x1",
           "type": "quantitative"
          },
          "y": {
           "field": "ŷ",
           "type": "quantitative"
          }
         },
         "mark": "line"
        },
        {
         "encoding": {
          "x": {
           "field": "x1",
           "type": "quantitative"
          },
          "y": {
           "field": "y",
           "type": "quantitative"
          }
         },
         "mark": "point"
        }
       ]
      },
      "image/png": "[encoded data removed]",
      "text/plain": [
       "<VegaLite 3 object>\n",
       "\n",
       "If you see this message, it means the renderer has not been properly enabled\n",
       "for the frontend that you are using. For more information, see\n",
       "https://altair-viz.github.io/user_guide/troubleshooting.html\n"
      ]
     },
     "execution_count": 383,
     "metadata": {},
     "output_type": "execute_result"
    }
   ],
   "source": [
    "preds = pd.DataFrame({'ŷ':ŷ.detach().numpy()[:,0], 'y':y[:,0], 'x1':x[:,0]})\n",
    "(alt.Chart(preds).mark_line().encode(x='x1', y='ŷ') + \n",
    "alt.Chart(preds).mark_point().encode(x='x1', y='y'))"
   ]
  },
  {
   "cell_type": "markdown",
   "metadata": {},
   "source": [
    "And now the loss is lower and the fit is clearly much improved. "
   ]
  },
  {
   "cell_type": "markdown",
   "metadata": {},
   "source": [
    "<div class=\"alert alert-block alert-info\">\n",
    "<b>Exercise:</b> \n",
    "    \n",
    "Plot $z_1$ vs $x$. Repeat for each $z_j$. What do you see? \n",
    "    \n",
    "Now make plots of each $z_j$ vs. $y$. Is the relationship between each $z_j$ and $y$ closer to linear than the relationship between $x$ and $y$? Does this explain why the linear regression $\\hat y = \\alpha_{1:h} z + \\alpha_0$ produces a better fit than the linear regression $\\hat y = \\beta_{1:p} x + \\beta_0$?\n",
    "</div>"
   ]
  },
  {
   "cell_type": "markdown",
   "metadata": {},
   "source": [
    "<div class=\"alert alert-block alert-info\">\n",
    "<b>Exercise:</b> \n",
    "    \n",
    "When fitting linear models, it's a common practice to break continuous variables up into categories. For instance, let's say we're predicting someone's weight based on their age. Instead of modeling $\\text{weight} = \\beta \\times \\text{age} + \\beta_0$\n",
    "</div>"
   ]
  },
  {
   "cell_type": "markdown",
   "metadata": {},
   "source": [
    "### Conclusion"
   ]
  },
  {
   "cell_type": "markdown",
   "metadata": {},
   "source": [
    "We saw how we can get a nonlinear fit out of stacking linear models and nonlinear activation functions together."
   ]
  },
  {
   "cell_type": "markdown",
   "metadata": {},
   "source": [
    "# Abstracting the \"Layer\""
   ]
  },
  {
   "cell_type": "markdown",
   "metadata": {},
   "source": [
    "Since we'll be stacking layers of arbitrary size arbitrarily deep, we might as well abstract away some of the code we need so we don't have to keep track of all the parameters in the model."
   ]
  },
  {
   "cell_type": "markdown",
   "metadata": {},
   "source": [
    "We'll first define a `LinearLayer` class that transforms a representation of size `h1` to one of size `h2`."
   ]
  },
  {
   "cell_type": "code",
   "execution_count": 56,
   "metadata": {},
   "outputs": [],
   "source": [
    "class LinearLayer():\n",
    "    def __init__(self, h1, h2):\n",
    "        self.W = torch.randn(h1,h2).requires_grad_()\n",
    "        self.b = torch.randn(1,h2).requires_grad_()\n",
    "    \n",
    "    def __call__(self, x):\n",
    "        return torch.matmul(x, self.W) + self.b\n",
    "    \n",
    "    def step(self, ϵ):\n",
    "        with torch.no_grad():\n",
    "            self.W -= ϵ * self.W.grad\n",
    "            self.b -= ϵ * self.b.grad\n",
    "            self.W.grad.zero_()        \n",
    "            self.b.grad.zero_()"
   ]
  },
  {
   "cell_type": "markdown",
   "metadata": {},
   "source": [
    "And now we can stack up as many of these as we want, of whatever sizes we want"
   ]
  },
  {
   "cell_type": "code",
   "execution_count": 211,
   "metadata": {},
   "outputs": [],
   "source": [
    "from torch.nn.functional import relu\n",
    "\n",
    "class Model():\n",
    "    def __init__(self, sizes):\n",
    "        self.layers = [LinearLayer(h1,h2) for h1, h2 in zip(sizes[:-1], sizes[1:])]\n",
    "        self.activation = relu\n",
    "    \n",
    "    def __call__(self,x):\n",
    "        for layer in self.layers[:-1]:\n",
    "            x = self.activation(layer(x))\n",
    "        return self.layers[-1](x)\n",
    "    \n",
    "    def step(self,ϵ):\n",
    "        for layer in self.layers:\n",
    "            layer.step(ϵ)"
   ]
  },
  {
   "cell_type": "markdown",
   "metadata": {},
   "source": [
    "check it out:"
   ]
  },
  {
   "cell_type": "code",
   "execution_count": 212,
   "metadata": {},
   "outputs": [],
   "source": [
    "n= 100\n",
    "p = 1\n",
    "\n",
    "x = torch.randn(n, p) # predictors (n observations, p features)\n",
    "y = (x[:,0]**2).unsqueeze(dim=1) # outcomes (n observations)\n",
    "\n",
    "my_model = Model([1,10,10,1])\n",
    "L = torch.sum((y - my_model(x))**2)/n"
   ]
  },
  {
   "cell_type": "code",
   "execution_count": 213,
   "metadata": {},
   "outputs": [
    {
     "data": {
      "image/svg+xml": [
       "<?xml version=\"1.0\" encoding=\"UTF-8\" standalone=\"no\"?>\n",
       "<!DOCTYPE svg PUBLIC \"-//W3C//DTD SVG 1.1//EN\"\n",
       " \"http://www.w3.org/Graphics/SVG/1.1/DTD/svg11.dtd\">\n",
       "<!-- Generated by graphviz version 2.43.0 (0)\n",
       " -->\n",
       "<!-- Title: %3 Pages: 1 -->\n",
       "<svg width=\"342pt\" height=\"772pt\"\n",
       " viewBox=\"0.00 0.00 342.32 772.00\" xmlns=\"http://www.w3.org/2000/svg\" xmlns:xlink=\"http://www.w3.org/1999/xlink\">\n",
       "<g id=\"graph0\" class=\"graph\" transform=\"scale(1 1) rotate(0) translate(4 768)\">\n",
       "<title>%3</title>\n",
       "<polygon fill=\"white\" stroke=\"transparent\" points=\"-4,4 -4,-768 338.32,-768 338.32,4 -4,4\"/>\n",
       "<!-- 4999750160 -->\n",
       "<g id=\"node1\" class=\"node\">\n",
       "<title>4999750160</title>\n",
       "<polygon fill=\"#caff70\" stroke=\"black\" points=\"307.47,-20 219.18,-20 219.18,0 307.47,0 307.47,-20\"/>\n",
       "<text text-anchor=\"middle\" x=\"263.32\" y=\"-6.4\" font-family=\"Times,serif\" font-size=\"12.00\">DivBackward0</text>\n",
       "</g>\n",
       "<!-- 4999751824 -->\n",
       "<g id=\"node2\" class=\"node\">\n",
       "<title>4999751824</title>\n",
       "<polygon fill=\"lightgrey\" stroke=\"black\" points=\"309.48,-76 217.17,-76 217.17,-56 309.48,-56 309.48,-76\"/>\n",
       "<text text-anchor=\"middle\" x=\"263.32\" y=\"-62.4\" font-family=\"Times,serif\" font-size=\"12.00\">SumBackward0</text>\n",
       "</g>\n",
       "<!-- 4999751824&#45;&gt;4999750160 -->\n",
       "<g id=\"edge1\" class=\"edge\">\n",
       "<title>4999751824&#45;&gt;4999750160</title>\n",
       "<path fill=\"none\" stroke=\"black\" d=\"M263.32,-55.59C263.32,-48.7 263.32,-39.1 263.32,-30.57\"/>\n",
       "<polygon fill=\"black\" stroke=\"black\" points=\"266.82,-30.3 263.32,-20.3 259.82,-30.3 266.82,-30.3\"/>\n",
       "</g>\n",
       "<!-- 4999749968 -->\n",
       "<g id=\"node3\" class=\"node\">\n",
       "<title>4999749968</title>\n",
       "<polygon fill=\"lightgrey\" stroke=\"black\" points=\"309.31,-132 217.34,-132 217.34,-112 309.31,-112 309.31,-132\"/>\n",
       "<text text-anchor=\"middle\" x=\"263.32\" y=\"-118.4\" font-family=\"Times,serif\" font-size=\"12.00\">PowBackward0</text>\n",
       "</g>\n",
       "<!-- 4999749968&#45;&gt;4999751824 -->\n",
       "<g id=\"edge2\" class=\"edge\">\n",
       "<title>4999749968&#45;&gt;4999751824</title>\n",
       "<path fill=\"none\" stroke=\"black\" d=\"M263.32,-111.59C263.32,-104.7 263.32,-95.1 263.32,-86.57\"/>\n",
       "<polygon fill=\"black\" stroke=\"black\" points=\"266.82,-86.3 263.32,-76.3 259.82,-86.3 266.82,-86.3\"/>\n",
       "</g>\n",
       "<!-- 4999751120 -->\n",
       "<g id=\"node4\" class=\"node\">\n",
       "<title>4999751120</title>\n",
       "<polygon fill=\"lightgrey\" stroke=\"black\" points=\"308.14,-188 218.51,-188 218.51,-168 308.14,-168 308.14,-188\"/>\n",
       "<text text-anchor=\"middle\" x=\"263.32\" y=\"-174.4\" font-family=\"Times,serif\" font-size=\"12.00\">SubBackward0</text>\n",
       "</g>\n",
       "<!-- 4999751120&#45;&gt;4999749968 -->\n",
       "<g id=\"edge3\" class=\"edge\">\n",
       "<title>4999751120&#45;&gt;4999749968</title>\n",
       "<path fill=\"none\" stroke=\"black\" d=\"M263.32,-167.59C263.32,-160.7 263.32,-151.1 263.32,-142.57\"/>\n",
       "<polygon fill=\"black\" stroke=\"black\" points=\"266.82,-142.3 263.32,-132.3 259.82,-142.3 266.82,-142.3\"/>\n",
       "</g>\n",
       "<!-- 4999751632 -->\n",
       "<g id=\"node5\" class=\"node\">\n",
       "<title>4999751632</title>\n",
       "<polygon fill=\"lightgrey\" stroke=\"black\" points=\"309.14,-244 217.51,-244 217.51,-224 309.14,-224 309.14,-244\"/>\n",
       "<text text-anchor=\"middle\" x=\"263.32\" y=\"-230.4\" font-family=\"Times,serif\" font-size=\"12.00\">AddBackward0</text>\n",
       "</g>\n",
       "<!-- 4999751632&#45;&gt;4999751120 -->\n",
       "<g id=\"edge4\" class=\"edge\">\n",
       "<title>4999751632&#45;&gt;4999751120</title>\n",
       "<path fill=\"none\" stroke=\"black\" d=\"M263.32,-223.59C263.32,-216.7 263.32,-207.1 263.32,-198.57\"/>\n",
       "<polygon fill=\"black\" stroke=\"black\" points=\"266.82,-198.3 263.32,-188.3 259.82,-198.3 266.82,-198.3\"/>\n",
       "</g>\n",
       "<!-- 4999749776 -->\n",
       "<g id=\"node6\" class=\"node\">\n",
       "<title>4999749776</title>\n",
       "<polygon fill=\"lightgrey\" stroke=\"black\" points=\"262.47,-306 178.18,-306 178.18,-286 262.47,-286 262.47,-306\"/>\n",
       "<text text-anchor=\"middle\" x=\"220.32\" y=\"-292.4\" font-family=\"Times,serif\" font-size=\"12.00\">MmBackward</text>\n",
       "</g>\n",
       "<!-- 4999749776&#45;&gt;4999751632 -->\n",
       "<g id=\"edge5\" class=\"edge\">\n",
       "<title>4999749776&#45;&gt;4999751632</title>\n",
       "<path fill=\"none\" stroke=\"black\" d=\"M226.85,-285.89C233.17,-277.08 242.9,-263.5 250.73,-252.58\"/>\n",
       "<polygon fill=\"black\" stroke=\"black\" points=\"253.75,-254.37 256.73,-244.2 248.06,-250.29 253.75,-254.37\"/>\n",
       "</g>\n",
       "<!-- 4999817296 -->\n",
       "<g id=\"node7\" class=\"node\">\n",
       "<title>4999817296</title>\n",
       "<polygon fill=\"lightgrey\" stroke=\"black\" points=\"221.13,-374 127.52,-374 127.52,-354 221.13,-354 221.13,-374\"/>\n",
       "<text text-anchor=\"middle\" x=\"174.32\" y=\"-360.4\" font-family=\"Times,serif\" font-size=\"12.00\">ReluBackward0</text>\n",
       "</g>\n",
       "<!-- 4999817296&#45;&gt;4999749776 -->\n",
       "<g id=\"edge6\" class=\"edge\">\n",
       "<title>4999817296&#45;&gt;4999749776</title>\n",
       "<path fill=\"none\" stroke=\"black\" d=\"M180.72,-353.82C187.79,-343.68 199.35,-327.1 208.16,-314.46\"/>\n",
       "<polygon fill=\"black\" stroke=\"black\" points=\"211.14,-316.3 213.98,-306.1 205.39,-312.3 211.14,-316.3\"/>\n",
       "</g>\n",
       "<!-- 4999816720 -->\n",
       "<g id=\"node8\" class=\"node\">\n",
       "<title>4999816720</title>\n",
       "<polygon fill=\"lightgrey\" stroke=\"black\" points=\"220.14,-436 128.51,-436 128.51,-416 220.14,-416 220.14,-436\"/>\n",
       "<text text-anchor=\"middle\" x=\"174.32\" y=\"-422.4\" font-family=\"Times,serif\" font-size=\"12.00\">AddBackward0</text>\n",
       "</g>\n",
       "<!-- 4999816720&#45;&gt;4999817296 -->\n",
       "<g id=\"edge7\" class=\"edge\">\n",
       "<title>4999816720&#45;&gt;4999817296</title>\n",
       "<path fill=\"none\" stroke=\"black\" d=\"M174.32,-415.89C174.32,-407.52 174.32,-394.84 174.32,-384.23\"/>\n",
       "<polygon fill=\"black\" stroke=\"black\" points=\"177.82,-384.2 174.32,-374.2 170.82,-384.2 177.82,-384.2\"/>\n",
       "</g>\n",
       "<!-- 4999819088 -->\n",
       "<g id=\"node9\" class=\"node\">\n",
       "<title>4999819088</title>\n",
       "<polygon fill=\"lightgrey\" stroke=\"black\" points=\"173.47,-498 89.18,-498 89.18,-478 173.47,-478 173.47,-498\"/>\n",
       "<text text-anchor=\"middle\" x=\"131.32\" y=\"-484.4\" font-family=\"Times,serif\" font-size=\"12.00\">MmBackward</text>\n",
       "</g>\n",
       "<!-- 4999819088&#45;&gt;4999816720 -->\n",
       "<g id=\"edge8\" class=\"edge\">\n",
       "<title>4999819088&#45;&gt;4999816720</title>\n",
       "<path fill=\"none\" stroke=\"black\" d=\"M137.85,-477.89C144.17,-469.08 153.9,-455.5 161.73,-444.58\"/>\n",
       "<polygon fill=\"black\" stroke=\"black\" points=\"164.75,-446.37 167.73,-436.2 159.06,-442.29 164.75,-446.37\"/>\n",
       "</g>\n",
       "<!-- 4999815504 -->\n",
       "<g id=\"node10\" class=\"node\">\n",
       "<title>4999815504</title>\n",
       "<polygon fill=\"lightgrey\" stroke=\"black\" points=\"132.13,-566 38.52,-566 38.52,-546 132.13,-546 132.13,-566\"/>\n",
       "<text text-anchor=\"middle\" x=\"85.32\" y=\"-552.4\" font-family=\"Times,serif\" font-size=\"12.00\">ReluBackward0</text>\n",
       "</g>\n",
       "<!-- 4999815504&#45;&gt;4999819088 -->\n",
       "<g id=\"edge9\" class=\"edge\">\n",
       "<title>4999815504&#45;&gt;4999819088</title>\n",
       "<path fill=\"none\" stroke=\"black\" d=\"M91.72,-545.82C98.79,-535.68 110.35,-519.1 119.16,-506.46\"/>\n",
       "<polygon fill=\"black\" stroke=\"black\" points=\"122.14,-508.3 124.98,-498.1 116.39,-504.3 122.14,-508.3\"/>\n",
       "</g>\n",
       "<!-- 4999819216 -->\n",
       "<g id=\"node11\" class=\"node\">\n",
       "<title>4999819216</title>\n",
       "<polygon fill=\"lightgrey\" stroke=\"black\" points=\"131.14,-628 39.51,-628 39.51,-608 131.14,-608 131.14,-628\"/>\n",
       "<text text-anchor=\"middle\" x=\"85.32\" y=\"-614.4\" font-family=\"Times,serif\" font-size=\"12.00\">AddBackward0</text>\n",
       "</g>\n",
       "<!-- 4999819216&#45;&gt;4999815504 -->\n",
       "<g id=\"edge10\" class=\"edge\">\n",
       "<title>4999819216&#45;&gt;4999815504</title>\n",
       "<path fill=\"none\" stroke=\"black\" d=\"M85.32,-607.89C85.32,-599.52 85.32,-586.84 85.32,-576.23\"/>\n",
       "<polygon fill=\"black\" stroke=\"black\" points=\"88.82,-576.2 85.32,-566.2 81.82,-576.2 88.82,-576.2\"/>\n",
       "</g>\n",
       "<!-- 4999817360 -->\n",
       "<g id=\"node12\" class=\"node\">\n",
       "<title>4999817360</title>\n",
       "<polygon fill=\"lightgrey\" stroke=\"black\" points=\"84.47,-690 0.18,-690 0.18,-670 84.47,-670 84.47,-690\"/>\n",
       "<text text-anchor=\"middle\" x=\"42.32\" y=\"-676.4\" font-family=\"Times,serif\" font-size=\"12.00\">MmBackward</text>\n",
       "</g>\n",
       "<!-- 4999817360&#45;&gt;4999819216 -->\n",
       "<g id=\"edge11\" class=\"edge\">\n",
       "<title>4999817360&#45;&gt;4999819216</title>\n",
       "<path fill=\"none\" stroke=\"black\" d=\"M48.85,-669.89C55.17,-661.08 64.9,-647.5 72.73,-636.58\"/>\n",
       "<polygon fill=\"black\" stroke=\"black\" points=\"75.75,-638.37 78.73,-628.2 70.06,-634.29 75.75,-638.37\"/>\n",
       "</g>\n",
       "<!-- 4999816208 -->\n",
       "<g id=\"node13\" class=\"node\">\n",
       "<title>4999816208</title>\n",
       "<polygon fill=\"lightblue\" stroke=\"black\" points=\"69.32,-764 15.32,-764 15.32,-732 69.32,-732 69.32,-764\"/>\n",
       "<text text-anchor=\"middle\" x=\"42.32\" y=\"-750.4\" font-family=\"Times,serif\" font-size=\"12.00\">W0</text>\n",
       "<text text-anchor=\"middle\" x=\"42.32\" y=\"-738.4\" font-family=\"Times,serif\" font-size=\"12.00\"> (1, 10)</text>\n",
       "</g>\n",
       "<!-- 4999816208&#45;&gt;4999817360 -->\n",
       "<g id=\"edge12\" class=\"edge\">\n",
       "<title>4999816208&#45;&gt;4999817360</title>\n",
       "<path fill=\"none\" stroke=\"black\" d=\"M42.32,-731.69C42.32,-722.4 42.32,-710.44 42.32,-700.47\"/>\n",
       "<polygon fill=\"black\" stroke=\"black\" points=\"45.82,-700.32 42.32,-690.32 38.82,-700.32 45.82,-700.32\"/>\n",
       "</g>\n",
       "<!-- 4999816848 -->\n",
       "<g id=\"node14\" class=\"node\">\n",
       "<title>4999816848</title>\n",
       "<polygon fill=\"lightblue\" stroke=\"black\" points=\"156.32,-696 102.32,-696 102.32,-664 156.32,-664 156.32,-696\"/>\n",
       "<text text-anchor=\"middle\" x=\"129.32\" y=\"-682.4\" font-family=\"Times,serif\" font-size=\"12.00\">b0</text>\n",
       "<text text-anchor=\"middle\" x=\"129.32\" y=\"-670.4\" font-family=\"Times,serif\" font-size=\"12.00\"> (1, 10)</text>\n",
       "</g>\n",
       "<!-- 4999816848&#45;&gt;4999819216 -->\n",
       "<g id=\"edge13\" class=\"edge\">\n",
       "<title>4999816848&#45;&gt;4999819216</title>\n",
       "<path fill=\"none\" stroke=\"black\" d=\"M118.22,-663.86C112.1,-655.51 104.47,-645.11 98.1,-636.42\"/>\n",
       "<polygon fill=\"black\" stroke=\"black\" points=\"100.77,-634.15 92.04,-628.15 95.13,-638.29 100.77,-634.15\"/>\n",
       "</g>\n",
       "<!-- 4999815888 -->\n",
       "<g id=\"node15\" class=\"node\">\n",
       "<title>4999815888</title>\n",
       "<polygon fill=\"lightblue\" stroke=\"black\" points=\"206.82,-572 149.83,-572 149.83,-540 206.82,-540 206.82,-572\"/>\n",
       "<text text-anchor=\"middle\" x=\"178.32\" y=\"-558.4\" font-family=\"Times,serif\" font-size=\"12.00\">W1</text>\n",
       "<text text-anchor=\"middle\" x=\"178.32\" y=\"-546.4\" font-family=\"Times,serif\" font-size=\"12.00\"> (10, 10)</text>\n",
       "</g>\n",
       "<!-- 4999815888&#45;&gt;4999819088 -->\n",
       "<g id=\"edge14\" class=\"edge\">\n",
       "<title>4999815888&#45;&gt;4999819088</title>\n",
       "<path fill=\"none\" stroke=\"black\" d=\"M167.42,-539.69C160.38,-529.8 151.18,-516.89 143.84,-506.57\"/>\n",
       "<polygon fill=\"black\" stroke=\"black\" points=\"146.61,-504.43 137.96,-498.32 140.91,-508.49 146.61,-504.43\"/>\n",
       "</g>\n",
       "<!-- 4999818832 -->\n",
       "<g id=\"node16\" class=\"node\">\n",
       "<title>4999818832</title>\n",
       "<polygon fill=\"lightblue\" stroke=\"black\" points=\"245.32,-504 191.32,-504 191.32,-472 245.32,-472 245.32,-504\"/>\n",
       "<text text-anchor=\"middle\" x=\"218.32\" y=\"-490.4\" font-family=\"Times,serif\" font-size=\"12.00\">b1</text>\n",
       "<text text-anchor=\"middle\" x=\"218.32\" y=\"-478.4\" font-family=\"Times,serif\" font-size=\"12.00\"> (1, 10)</text>\n",
       "</g>\n",
       "<!-- 4999818832&#45;&gt;4999816720 -->\n",
       "<g id=\"edge15\" class=\"edge\">\n",
       "<title>4999818832&#45;&gt;4999816720</title>\n",
       "<path fill=\"none\" stroke=\"black\" d=\"M207.22,-471.86C201.1,-463.51 193.47,-453.11 187.1,-444.42\"/>\n",
       "<polygon fill=\"black\" stroke=\"black\" points=\"189.77,-442.15 181.04,-436.15 184.13,-446.29 189.77,-442.15\"/>\n",
       "</g>\n",
       "<!-- 4999818960 -->\n",
       "<g id=\"node17\" class=\"node\">\n",
       "<title>4999818960</title>\n",
       "<polygon fill=\"lightblue\" stroke=\"black\" points=\"293.32,-380 239.32,-380 239.32,-348 293.32,-348 293.32,-380\"/>\n",
       "<text text-anchor=\"middle\" x=\"266.32\" y=\"-366.4\" font-family=\"Times,serif\" font-size=\"12.00\">W2</text>\n",
       "<text text-anchor=\"middle\" x=\"266.32\" y=\"-354.4\" font-family=\"Times,serif\" font-size=\"12.00\"> (10, 1)</text>\n",
       "</g>\n",
       "<!-- 4999818960&#45;&gt;4999749776 -->\n",
       "<g id=\"edge16\" class=\"edge\">\n",
       "<title>4999818960&#45;&gt;4999749776</title>\n",
       "<path fill=\"none\" stroke=\"black\" d=\"M255.66,-347.69C248.76,-337.8 239.76,-324.89 232.57,-314.57\"/>\n",
       "<polygon fill=\"black\" stroke=\"black\" points=\"235.41,-312.52 226.82,-306.32 229.66,-316.52 235.41,-312.52\"/>\n",
       "</g>\n",
       "<!-- 4999752208 -->\n",
       "<g id=\"node18\" class=\"node\">\n",
       "<title>4999752208</title>\n",
       "<polygon fill=\"lightblue\" stroke=\"black\" points=\"334.32,-312 280.32,-312 280.32,-280 334.32,-280 334.32,-312\"/>\n",
       "<text text-anchor=\"middle\" x=\"307.32\" y=\"-298.4\" font-family=\"Times,serif\" font-size=\"12.00\">b2</text>\n",
       "<text text-anchor=\"middle\" x=\"307.32\" y=\"-286.4\" font-family=\"Times,serif\" font-size=\"12.00\"> (1, 1)</text>\n",
       "</g>\n",
       "<!-- 4999752208&#45;&gt;4999751632 -->\n",
       "<g id=\"edge17\" class=\"edge\">\n",
       "<title>4999752208&#45;&gt;4999751632</title>\n",
       "<path fill=\"none\" stroke=\"black\" d=\"M296.22,-279.86C290.1,-271.51 282.47,-261.11 276.1,-252.42\"/>\n",
       "<polygon fill=\"black\" stroke=\"black\" points=\"278.77,-250.15 270.04,-244.15 273.13,-254.29 278.77,-250.15\"/>\n",
       "</g>\n",
       "</g>\n",
       "</svg>\n"
      ],
      "text/plain": [
       "<graphviz.dot.Digraph at 0x12a0c2790>"
      ]
     },
     "execution_count": 213,
     "metadata": {},
     "output_type": "execute_result"
    }
   ],
   "source": [
    "Ws = {f'W{k}':layer.W for k,layer in enumerate(my_model.layers)}\n",
    "bs = {f'b{k}':layer.b for k,layer in enumerate(my_model.layers)}\n",
    "make_dot(L, {**Ws, **bs})"
   ]
  },
  {
   "cell_type": "code",
   "execution_count": 214,
   "metadata": {},
   "outputs": [],
   "source": [
    "n_steps = 1000\n",
    "ϵ = 1*10e-4\n",
    "loss_record = []\n",
    "\n",
    "for e in range(n_steps):\n",
    "    ŷ = my_model(x) \n",
    "    L = torch.sum((y-ŷ)**2)/len(ŷ)\n",
    "    \n",
    "    loss_record.append(L.item())\n",
    "    L.backward()\n",
    "    \n",
    "    my_model.step(ϵ)"
   ]
  },
  {
   "cell_type": "code",
   "execution_count": 215,
   "metadata": {},
   "outputs": [
    {
     "data": {
      "application/vnd.vegalite.v3+json": {
       "$schema": "https://vega.github.io/schema/vega-lite/v3.4.0.json",
       "config": {
        "mark": {
         "tooltip": null
        },
        "view": {
         "height": 300,
         "width": 400
        }
       },
       "data": {
        "name": "data-f49aa8223adaeef92c547eef9b44a550"
       },
       "datasets": {
        "data-f49aa8223adaeef92c547eef9b44a550": [
         {
          "i": 0,
          "loss": 73.34538269042969
         },
         {
          "i": 1,
          "loss": 57.20185852050781
         },
         {
          "i": 2,
          "loss": 46.92869567871094
         },
         {
          "i": 3,
          "loss": 39.48272705078125
         },
         {
          "i": 4,
          "loss": 33.63010787963867
         },
         {
          "i": 5,
          "loss": 28.919530868530273
         },
         {
          "i": 6,
          "loss": 25.052656173706055
         },
         {
          "i": 7,
          "loss": 21.833984375
         },
         {
          "i": 8,
          "loss": 19.108671188354492
         },
         {
          "i": 9,
          "loss": 16.807811737060547
         },
         {
          "i": 10,
          "loss": 14.8348388671875
         },
         {
          "i": 11,
          "loss": 13.153839111328125
         },
         {
          "i": 12,
          "loss": 11.710877418518066
         },
         {
          "i": 13,
          "loss": 10.461830139160156
         },
         {
          "i": 14,
          "loss": 9.385766983032227
         },
         {
          "i": 15,
          "loss": 8.445134162902832
         },
         {
          "i": 16,
          "loss": 7.619648456573486
         },
         {
          "i": 17,
          "loss": 6.907296180725098
         },
         {
          "i": 18,
          "loss": 6.291022300720215
         },
         {
          "i": 19,
          "loss": 5.756737232208252
         },
         {
          "i": 20,
          "loss": 5.291948318481445
         },
         {
          "i": 21,
          "loss": 4.889581203460693
         },
         {
          "i": 22,
          "loss": 4.541044235229492
         },
         {
          "i": 23,
          "loss": 4.238323211669922
         },
         {
          "i": 24,
          "loss": 3.9754326343536377
         },
         {
          "i": 25,
          "loss": 3.746844530105591
         },
         {
          "i": 26,
          "loss": 3.547506093978882
         },
         {
          "i": 27,
          "loss": 3.3724846839904785
         },
         {
          "i": 28,
          "loss": 3.2196593284606934
         },
         {
          "i": 29,
          "loss": 3.085932970046997
         },
         {
          "i": 30,
          "loss": 2.968632698059082
         },
         {
          "i": 31,
          "loss": 2.865485191345215
         },
         {
          "i": 32,
          "loss": 2.774847984313965
         },
         {
          "i": 33,
          "loss": 2.695596218109131
         },
         {
          "i": 34,
          "loss": 2.6253650188446045
         },
         {
          "i": 35,
          "loss": 2.563032627105713
         },
         {
          "i": 36,
          "loss": 2.5073599815368652
         },
         {
          "i": 37,
          "loss": 2.457376003265381
         },
         {
          "i": 38,
          "loss": 2.4121780395507812
         },
         {
          "i": 39,
          "loss": 2.371542453765869
         },
         {
          "i": 40,
          "loss": 2.3358964920043945
         },
         {
          "i": 41,
          "loss": 2.304259777069092
         },
         {
          "i": 42,
          "loss": 2.275193691253662
         },
         {
          "i": 43,
          "loss": 2.248121976852417
         },
         {
          "i": 44,
          "loss": 2.2228119373321533
         },
         {
          "i": 45,
          "loss": 2.199176788330078
         },
         {
          "i": 46,
          "loss": 2.176955461502075
         },
         {
          "i": 47,
          "loss": 2.1559510231018066
         },
         {
          "i": 48,
          "loss": 2.1360814571380615
         },
         {
          "i": 49,
          "loss": 2.117215871810913
         },
         {
          "i": 50,
          "loss": 2.0992417335510254
         },
         {
          "i": 51,
          "loss": 2.082061767578125
         },
         {
          "i": 52,
          "loss": 2.065535545349121
         },
         {
          "i": 53,
          "loss": 2.049546718597412
         },
         {
          "i": 54,
          "loss": 2.034135341644287
         },
         {
          "i": 55,
          "loss": 2.0192770957946777
         },
         {
          "i": 56,
          "loss": 2.004948616027832
         },
         {
          "i": 57,
          "loss": 1.9910194873809814
         },
         {
          "i": 58,
          "loss": 1.9774583578109741
         },
         {
          "i": 59,
          "loss": 1.9642378091812134
         },
         {
          "i": 60,
          "loss": 1.951332449913025
         },
         {
          "i": 61,
          "loss": 1.938629150390625
         },
         {
          "i": 62,
          "loss": 1.9262075424194336
         },
         {
          "i": 63,
          "loss": 1.9140524864196777
         },
         {
          "i": 64,
          "loss": 1.9021490812301636
         },
         {
          "i": 65,
          "loss": 1.8904811143875122
         },
         {
          "i": 66,
          "loss": 1.879040241241455
         },
         {
          "i": 67,
          "loss": 1.867815375328064
         },
         {
          "i": 68,
          "loss": 1.8567930459976196
         },
         {
          "i": 69,
          "loss": 1.8459666967391968
         },
         {
          "i": 70,
          "loss": 1.8353267908096313
         },
         {
          "i": 71,
          "loss": 1.8248629570007324
         },
         {
          "i": 72,
          "loss": 1.8143783807754517
         },
         {
          "i": 73,
          "loss": 1.8038372993469238
         },
         {
          "i": 74,
          "loss": 1.7934650182724
         },
         {
          "i": 75,
          "loss": 1.7832551002502441
         },
         {
          "i": 76,
          "loss": 1.7730480432510376
         },
         {
          "i": 77,
          "loss": 1.7628450393676758
         },
         {
          "i": 78,
          "loss": 1.7527905702590942
         },
         {
          "i": 79,
          "loss": 1.7428568601608276
         },
         {
          "i": 80,
          "loss": 1.7330656051635742
         },
         {
          "i": 81,
          "loss": 1.7233515977859497
         },
         {
          "i": 82,
          "loss": 1.7137739658355713
         },
         {
          "i": 83,
          "loss": 1.7043297290802002
         },
         {
          "i": 84,
          "loss": 1.6950145959854126
         },
         {
          "i": 85,
          "loss": 1.6857578754425049
         },
         {
          "i": 86,
          "loss": 1.6764991283416748
         },
         {
          "i": 87,
          "loss": 1.6670851707458496
         },
         {
          "i": 88,
          "loss": 1.6577926874160767
         },
         {
          "i": 89,
          "loss": 1.6486202478408813
         },
         {
          "i": 90,
          "loss": 1.6395783424377441
         },
         {
          "i": 91,
          "loss": 1.6306517124176025
         },
         {
          "i": 92,
          "loss": 1.6218396425247192
         },
         {
          "i": 93,
          "loss": 1.61313796043396
         },
         {
          "i": 94,
          "loss": 1.604546070098877
         },
         {
          "i": 95,
          "loss": 1.5960613489151
         },
         {
          "i": 96,
          "loss": 1.587681770324707
         },
         {
          "i": 97,
          "loss": 1.5793914794921875
         },
         {
          "i": 98,
          "loss": 1.5711760520935059
         },
         {
          "i": 99,
          "loss": 1.5630611181259155
         },
         {
          "i": 100,
          "loss": 1.5550448894500732
         },
         {
          "i": 101,
          "loss": 1.547096610069275
         },
         {
          "i": 102,
          "loss": 1.5391697883605957
         },
         {
          "i": 103,
          "loss": 1.5312340259552002
         },
         {
          "i": 104,
          "loss": 1.523321270942688
         },
         {
          "i": 105,
          "loss": 1.5155013799667358
         },
         {
          "i": 106,
          "loss": 1.5077780485153198
         },
         {
          "i": 107,
          "loss": 1.5001353025436401
         },
         {
          "i": 108,
          "loss": 1.4925349950790405
         },
         {
          "i": 109,
          "loss": 1.4850189685821533
         },
         {
          "i": 110,
          "loss": 1.4775879383087158
         },
         {
          "i": 111,
          "loss": 1.470248818397522
         },
         {
          "i": 112,
          "loss": 1.4629896879196167
         },
         {
          "i": 113,
          "loss": 1.4557855129241943
         },
         {
          "i": 114,
          "loss": 1.448580265045166
         },
         {
          "i": 115,
          "loss": 1.4414150714874268
         },
         {
          "i": 116,
          "loss": 1.4343265295028687
         },
         {
          "i": 117,
          "loss": 1.427313208580017
         },
         {
          "i": 118,
          "loss": 1.4203742742538452
         },
         {
          "i": 119,
          "loss": 1.4134833812713623
         },
         {
          "i": 120,
          "loss": 1.406623363494873
         },
         {
          "i": 121,
          "loss": 1.3998340368270874
         },
         {
          "i": 122,
          "loss": 1.393115520477295
         },
         {
          "i": 123,
          "loss": 1.38642156124115
         },
         {
          "i": 124,
          "loss": 1.3794974088668823
         },
         {
          "i": 125,
          "loss": 1.372630000114441
         },
         {
          "i": 126,
          "loss": 1.3657718896865845
         },
         {
          "i": 127,
          "loss": 1.3588703870773315
         },
         {
          "i": 128,
          "loss": 1.352042555809021
         },
         {
          "i": 129,
          "loss": 1.345290184020996
         },
         {
          "i": 130,
          "loss": 1.3386168479919434
         },
         {
          "i": 131,
          "loss": 1.332013726234436
         },
         {
          "i": 132,
          "loss": 1.3254238367080688
         },
         {
          "i": 133,
          "loss": 1.3189033269882202
         },
         {
          "i": 134,
          "loss": 1.3124518394470215
         },
         {
          "i": 135,
          "loss": 1.306067705154419
         },
         {
          "i": 136,
          "loss": 1.299750566482544
         },
         {
          "i": 137,
          "loss": 1.2934985160827637
         },
         {
          "i": 138,
          "loss": 1.2873120307922363
         },
         {
          "i": 139,
          "loss": 1.28118896484375
         },
         {
          "i": 140,
          "loss": 1.2751290798187256
         },
         {
          "i": 141,
          "loss": 1.2691307067871094
         },
         {
          "i": 142,
          "loss": 1.26319420337677
         },
         {
          "i": 143,
          "loss": 1.2573179006576538
         },
         {
          "i": 144,
          "loss": 1.2515003681182861
         },
         {
          "i": 145,
          "loss": 1.2457435131072998
         },
         {
          "i": 146,
          "loss": 1.2400466203689575
         },
         {
          "i": 147,
          "loss": 1.23440682888031
         },
         {
          "i": 148,
          "loss": 1.2288072109222412
         },
         {
          "i": 149,
          "loss": 1.2231918573379517
         },
         {
          "i": 150,
          "loss": 1.2176321744918823
         },
         {
          "i": 151,
          "loss": 1.2121262550354004
         },
         {
          "i": 152,
          "loss": 1.2066738605499268
         },
         {
          "i": 153,
          "loss": 1.2011864185333252
         },
         {
          "i": 154,
          "loss": 1.1957088708877563
         },
         {
          "i": 155,
          "loss": 1.1902350187301636
         },
         {
          "i": 156,
          "loss": 1.1848148107528687
         },
         {
          "i": 157,
          "loss": 1.1793955564498901
         },
         {
          "i": 158,
          "loss": 1.1738479137420654
         },
         {
          "i": 159,
          "loss": 1.1683605909347534
         },
         {
          "i": 160,
          "loss": 1.1629735231399536
         },
         {
          "i": 161,
          "loss": 1.1577507257461548
         },
         {
          "i": 162,
          "loss": 1.1525071859359741
         },
         {
          "i": 163,
          "loss": 1.1471006870269775
         },
         {
          "i": 164,
          "loss": 1.1416877508163452
         },
         {
          "i": 165,
          "loss": 1.1362944841384888
         },
         {
          "i": 166,
          "loss": 1.1308107376098633
         },
         {
          "i": 167,
          "loss": 1.1253809928894043
         },
         {
          "i": 168,
          "loss": 1.1199960708618164
         },
         {
          "i": 169,
          "loss": 1.114661693572998
         },
         {
          "i": 170,
          "loss": 1.1093764305114746
         },
         {
          "i": 171,
          "loss": 1.104138970375061
         },
         {
          "i": 172,
          "loss": 1.0989484786987305
         },
         {
          "i": 173,
          "loss": 1.0938037633895874
         },
         {
          "i": 174,
          "loss": 1.088703989982605
         },
         {
          "i": 175,
          "loss": 1.083648681640625
         },
         {
          "i": 176,
          "loss": 1.0786360502243042
         },
         {
          "i": 177,
          "loss": 1.073667049407959
         },
         {
          "i": 178,
          "loss": 1.0687406063079834
         },
         {
          "i": 179,
          "loss": 1.0638548135757446
         },
         {
          "i": 180,
          "loss": 1.0590101480484009
         },
         {
          "i": 181,
          "loss": 1.0542062520980835
         },
         {
          "i": 182,
          "loss": 1.0494422912597656
         },
         {
          "i": 183,
          "loss": 1.0447170734405518
         },
         {
          "i": 184,
          "loss": 1.0400307178497314
         },
         {
          "i": 185,
          "loss": 1.0353792905807495
         },
         {
          "i": 186,
          "loss": 1.030766248703003
         },
         {
          "i": 187,
          "loss": 1.026190161705017
         },
         {
          "i": 188,
          "loss": 1.021650791168213
         },
         {
          "i": 189,
          "loss": 1.017148733139038
         },
         {
          "i": 190,
          "loss": 1.0126820802688599
         },
         {
          "i": 191,
          "loss": 1.0082509517669678
         },
         {
          "i": 192,
          "loss": 1.0038548707962036
         },
         {
          "i": 193,
          "loss": 0.9994937181472778
         },
         {
          "i": 194,
          "loss": 0.9951674938201904
         },
         {
          "i": 195,
          "loss": 0.9908589124679565
         },
         {
          "i": 196,
          "loss": 0.9865350127220154
         },
         {
          "i": 197,
          "loss": 0.9822449684143066
         },
         {
          "i": 198,
          "loss": 0.977988600730896
         },
         {
          "i": 199,
          "loss": 0.9737652540206909
         },
         {
          "i": 200,
          "loss": 0.9695746898651123
         },
         {
          "i": 201,
          "loss": 0.965416669845581
         },
         {
          "i": 202,
          "loss": 0.961290717124939
         },
         {
          "i": 203,
          "loss": 0.9571969509124756
         },
         {
          "i": 204,
          "loss": 0.9531307220458984
         },
         {
          "i": 205,
          "loss": 0.9490697979927063
         },
         {
          "i": 206,
          "loss": 0.9450094699859619
         },
         {
          "i": 207,
          "loss": 0.940972089767456
         },
         {
          "i": 208,
          "loss": 0.9369656443595886
         },
         {
          "i": 209,
          "loss": 0.9331772327423096
         },
         {
          "i": 210,
          "loss": 0.9297398924827576
         },
         {
          "i": 211,
          "loss": 0.9263280630111694
         },
         {
          "i": 212,
          "loss": 0.922942042350769
         },
         {
          "i": 213,
          "loss": 0.9195806980133057
         },
         {
          "i": 214,
          "loss": 0.9162439703941345
         },
         {
          "i": 215,
          "loss": 0.9129324555397034
         },
         {
          "i": 216,
          "loss": 0.9096445441246033
         },
         {
          "i": 217,
          "loss": 0.9063805937767029
         },
         {
          "i": 218,
          "loss": 0.9031404852867126
         },
         {
          "i": 219,
          "loss": 0.8999243974685669
         },
         {
          "i": 220,
          "loss": 0.8967309594154358
         },
         {
          "i": 221,
          "loss": 0.8935602307319641
         },
         {
          "i": 222,
          "loss": 0.8904125690460205
         },
         {
          "i": 223,
          "loss": 0.8872914910316467
         },
         {
          "i": 224,
          "loss": 0.884196400642395
         },
         {
          "i": 225,
          "loss": 0.8811234831809998
         },
         {
          "i": 226,
          "loss": 0.8780723810195923
         },
         {
          "i": 227,
          "loss": 0.8750423192977905
         },
         {
          "i": 228,
          "loss": 0.8720337748527527
         },
         {
          "i": 229,
          "loss": 0.8690463900566101
         },
         {
          "i": 230,
          "loss": 0.8660793900489807
         },
         {
          "i": 231,
          "loss": 0.8630800843238831
         },
         {
          "i": 232,
          "loss": 0.8599147200584412
         },
         {
          "i": 233,
          "loss": 0.8567894101142883
         },
         {
          "i": 234,
          "loss": 0.853697657585144
         },
         {
          "i": 235,
          "loss": 0.8508747816085815
         },
         {
          "i": 236,
          "loss": 0.848106324672699
         },
         {
          "i": 237,
          "loss": 0.8453608751296997
         },
         {
          "i": 238,
          "loss": 0.8426367044448853
         },
         {
          "i": 239,
          "loss": 0.8399330973625183
         },
         {
          "i": 240,
          "loss": 0.837249219417572
         },
         {
          "i": 241,
          "loss": 0.8345850110054016
         },
         {
          "i": 242,
          "loss": 0.8319399356842041
         },
         {
          "i": 243,
          "loss": 0.8293029069900513
         },
         {
          "i": 244,
          "loss": 0.8266729116439819
         },
         {
          "i": 245,
          "loss": 0.8240609169006348
         },
         {
          "i": 246,
          "loss": 0.8214672803878784
         },
         {
          "i": 247,
          "loss": 0.8188905119895935
         },
         {
          "i": 248,
          "loss": 0.8163099884986877
         },
         {
          "i": 249,
          "loss": 0.8137468099594116
         },
         {
          "i": 250,
          "loss": 0.8112011551856995
         },
         {
          "i": 251,
          "loss": 0.8086893558502197
         },
         {
          "i": 252,
          "loss": 0.8062137365341187
         },
         {
          "i": 253,
          "loss": 0.8037545680999756
         },
         {
          "i": 254,
          "loss": 0.8013114333152771
         },
         {
          "i": 255,
          "loss": 0.7988840341567993
         },
         {
          "i": 256,
          "loss": 0.796482264995575
         },
         {
          "i": 257,
          "loss": 0.7941620349884033
         },
         {
          "i": 258,
          "loss": 0.7918565273284912
         },
         {
          "i": 259,
          "loss": 0.7895660400390625
         },
         {
          "i": 260,
          "loss": 0.7872900366783142
         },
         {
          "i": 261,
          "loss": 0.7850279211997986
         },
         {
          "i": 262,
          "loss": 0.7827802300453186
         },
         {
          "i": 263,
          "loss": 0.780546247959137
         },
         {
          "i": 264,
          "loss": 0.7783262729644775
         },
         {
          "i": 265,
          "loss": 0.7761199474334717
         },
         {
          "i": 266,
          "loss": 0.7739273309707642
         },
         {
          "i": 267,
          "loss": 0.7717479467391968
         },
         {
          "i": 268,
          "loss": 0.7695865631103516
         },
         {
          "i": 269,
          "loss": 0.767441987991333
         },
         {
          "i": 270,
          "loss": 0.7653111219406128
         },
         {
          "i": 271,
          "loss": 0.7631933093070984
         },
         {
          "i": 272,
          "loss": 0.7610880136489868
         },
         {
          "i": 273,
          "loss": 0.7589952349662781
         },
         {
          "i": 274,
          "loss": 0.7569150328636169
         },
         {
          "i": 275,
          "loss": 0.7548471689224243
         },
         {
          "i": 276,
          "loss": 0.7527915239334106
         },
         {
          "i": 277,
          "loss": 0.7507476806640625
         },
         {
          "i": 278,
          "loss": 0.7487162947654724
         },
         {
          "i": 279,
          "loss": 0.7466967701911926
         },
         {
          "i": 280,
          "loss": 0.7446886301040649
         },
         {
          "i": 281,
          "loss": 0.7426929473876953
         },
         {
          "i": 282,
          "loss": 0.7407036423683167
         },
         {
          "i": 283,
          "loss": 0.7387126088142395
         },
         {
          "i": 284,
          "loss": 0.7367333769798279
         },
         {
          "i": 285,
          "loss": 0.7347654104232788
         },
         {
          "i": 286,
          "loss": 0.7328087687492371
         },
         {
          "i": 287,
          "loss": 0.7308633327484131
         },
         {
          "i": 288,
          "loss": 0.7289292216300964
         },
         {
          "i": 289,
          "loss": 0.7270060777664185
         },
         {
          "i": 290,
          "loss": 0.7250934839248657
         },
         {
          "i": 291,
          "loss": 0.7231921553611755
         },
         {
          "i": 292,
          "loss": 0.7213014960289001
         },
         {
          "i": 293,
          "loss": 0.71942138671875
         },
         {
          "i": 294,
          "loss": 0.717552125453949
         },
         {
          "i": 295,
          "loss": 0.7156887054443359
         },
         {
          "i": 296,
          "loss": 0.7138293385505676
         },
         {
          "i": 297,
          "loss": 0.7119878530502319
         },
         {
          "i": 298,
          "loss": 0.7101568579673767
         },
         {
          "i": 299,
          "loss": 0.7083355188369751
         },
         {
          "i": 300,
          "loss": 0.7065247297286987
         },
         {
          "i": 301,
          "loss": 0.7047247886657715
         },
         {
          "i": 302,
          "loss": 0.7029485106468201
         },
         {
          "i": 303,
          "loss": 0.7011821866035461
         },
         {
          "i": 304,
          "loss": 0.6994252800941467
         },
         {
          "i": 305,
          "loss": 0.6976783871650696
         },
         {
          "i": 306,
          "loss": 0.6959407925605774
         },
         {
          "i": 307,
          "loss": 0.6942130923271179
         },
         {
          "i": 308,
          "loss": 0.6924944519996643
         },
         {
          "i": 309,
          "loss": 0.6907854676246643
         },
         {
          "i": 310,
          "loss": 0.6890854835510254
         },
         {
          "i": 311,
          "loss": 0.6873950362205505
         },
         {
          "i": 312,
          "loss": 0.6857134103775024
         },
         {
          "i": 313,
          "loss": 0.6840411424636841
         },
         {
          "i": 314,
          "loss": 0.6823776960372925
         },
         {
          "i": 315,
          "loss": 0.680726945400238
         },
         {
          "i": 316,
          "loss": 0.6790966987609863
         },
         {
          "i": 317,
          "loss": 0.6774757504463196
         },
         {
          "i": 318,
          "loss": 0.6758633255958557
         },
         {
          "i": 319,
          "loss": 0.6742810010910034
         },
         {
          "i": 320,
          "loss": 0.6729857921600342
         },
         {
          "i": 321,
          "loss": 0.6716979146003723
         },
         {
          "i": 322,
          "loss": 0.6704174876213074
         },
         {
          "i": 323,
          "loss": 0.6691440343856812
         },
         {
          "i": 324,
          "loss": 0.6678775548934937
         },
         {
          "i": 325,
          "loss": 0.6666181683540344
         },
         {
          "i": 326,
          "loss": 0.665365993976593
         },
         {
          "i": 327,
          "loss": 0.664120614528656
         },
         {
          "i": 328,
          "loss": 0.6628817915916443
         },
         {
          "i": 329,
          "loss": 0.6616527438163757
         },
         {
          "i": 330,
          "loss": 0.6604399681091309
         },
         {
          "i": 331,
          "loss": 0.6592341065406799
         },
         {
          "i": 332,
          "loss": 0.6580372452735901
         },
         {
          "i": 333,
          "loss": 0.6568563580513
         },
         {
          "i": 334,
          "loss": 0.6556824445724487
         },
         {
          "i": 335,
          "loss": 0.6545142531394958
         },
         {
          "i": 336,
          "loss": 0.6533442139625549
         },
         {
          "i": 337,
          "loss": 0.6521556973457336
         },
         {
          "i": 338,
          "loss": 0.6509735584259033
         },
         {
          "i": 339,
          "loss": 0.6497976183891296
         },
         {
          "i": 340,
          "loss": 0.6486278772354126
         },
         {
          "i": 341,
          "loss": 0.6474642157554626
         },
         {
          "i": 342,
          "loss": 0.6463072896003723
         },
         {
          "i": 343,
          "loss": 0.6451557278633118
         },
         {
          "i": 344,
          "loss": 0.6440101861953735
         },
         {
          "i": 345,
          "loss": 0.6428707838058472
         },
         {
          "i": 346,
          "loss": 0.6417284607887268
         },
         {
          "i": 347,
          "loss": 0.640560507774353
         },
         {
          "i": 348,
          "loss": 0.6393992900848389
         },
         {
          "i": 349,
          "loss": 0.6383160948753357
         },
         {
          "i": 350,
          "loss": 0.6374271512031555
         },
         {
          "i": 351,
          "loss": 0.6365436911582947
         },
         {
          "i": 352,
          "loss": 0.6356651186943054
         },
         {
          "i": 353,
          "loss": 0.6347918510437012
         },
         {
          "i": 354,
          "loss": 0.6339232325553894
         },
         {
          "i": 355,
          "loss": 0.633059561252594
         },
         {
          "i": 356,
          "loss": 0.6322007179260254
         },
         {
          "i": 357,
          "loss": 0.6313466429710388
         },
         {
          "i": 358,
          "loss": 0.6304975748062134
         },
         {
          "i": 359,
          "loss": 0.6296528577804565
         },
         {
          "i": 360,
          "loss": 0.6288130283355713
         },
         {
          "i": 361,
          "loss": 0.6279775500297546
         },
         {
          "i": 362,
          "loss": 0.6271467804908752
         },
         {
          "i": 363,
          "loss": 0.6263201236724854
         },
         {
          "i": 364,
          "loss": 0.6254985332489014
         },
         {
          "i": 365,
          "loss": 0.6246808767318726
         },
         {
          "i": 366,
          "loss": 0.6238675713539124
         },
         {
          "i": 367,
          "loss": 0.6230588555335999
         },
         {
          "i": 368,
          "loss": 0.6222544312477112
         },
         {
          "i": 369,
          "loss": 0.6214540004730225
         },
         {
          "i": 370,
          "loss": 0.6206580400466919
         },
         {
          "i": 371,
          "loss": 0.619866132736206
         },
         {
          "i": 372,
          "loss": 0.6190781593322754
         },
         {
          "i": 373,
          "loss": 0.6182945370674133
         },
         {
          "i": 374,
          "loss": 0.6175147294998169
         },
         {
          "i": 375,
          "loss": 0.6167392730712891
         },
         {
          "i": 376,
          "loss": 0.6159675717353821
         },
         {
          "i": 377,
          "loss": 0.6152000427246094
         },
         {
          "i": 378,
          "loss": 0.6144362092018127
         },
         {
          "i": 379,
          "loss": 0.6136762499809265
         },
         {
          "i": 380,
          "loss": 0.6129205822944641
         },
         {
          "i": 381,
          "loss": 0.6121681332588196
         },
         {
          "i": 382,
          "loss": 0.6114195585250854
         },
         {
          "i": 383,
          "loss": 0.6106750965118408
         },
         {
          "i": 384,
          "loss": 0.6099340915679932
         },
         {
          "i": 385,
          "loss": 0.6091967821121216
         },
         {
          "i": 386,
          "loss": 0.6084630489349365
         },
         {
          "i": 387,
          "loss": 0.6077333092689514
         },
         {
          "i": 388,
          "loss": 0.6070067882537842
         },
         {
          "i": 389,
          "loss": 0.6062840819358826
         },
         {
          "i": 390,
          "loss": 0.6055648326873779
         },
         {
          "i": 391,
          "loss": 0.6048486232757568
         },
         {
          "i": 392,
          "loss": 0.6041358709335327
         },
         {
          "i": 393,
          "loss": 0.6034271121025085
         },
         {
          "i": 394,
          "loss": 0.6027214527130127
         },
         {
          "i": 395,
          "loss": 0.6020191311836243
         },
         {
          "i": 396,
          "loss": 0.6013204455375671
         },
         {
          "i": 397,
          "loss": 0.600624680519104
         },
         {
          "i": 398,
          "loss": 0.599932849407196
         },
         {
          "i": 399,
          "loss": 0.5992437601089478
         },
         {
          "i": 400,
          "loss": 0.5985580682754517
         },
         {
          "i": 401,
          "loss": 0.5978755354881287
         },
         {
          "i": 402,
          "loss": 0.5971962213516235
         },
         {
          "i": 403,
          "loss": 0.5965203046798706
         },
         {
          "i": 404,
          "loss": 0.5958476066589355
         },
         {
          "i": 405,
          "loss": 0.5951775312423706
         },
         {
          "i": 406,
          "loss": 0.5945110321044922
         },
         {
          "i": 407,
          "loss": 0.5938475131988525
         },
         {
          "i": 408,
          "loss": 0.5931766629219055
         },
         {
          "i": 409,
          "loss": 0.5924878120422363
         },
         {
          "i": 410,
          "loss": 0.5917959809303284
         },
         {
          "i": 411,
          "loss": 0.5911073088645935
         },
         {
          "i": 412,
          "loss": 0.5904219150543213
         },
         {
          "i": 413,
          "loss": 0.5897394418716431
         },
         {
          "i": 414,
          "loss": 0.5890619158744812
         },
         {
          "i": 415,
          "loss": 0.5883920788764954
         },
         {
          "i": 416,
          "loss": 0.5877257585525513
         },
         {
          "i": 417,
          "loss": 0.5870622396469116
         },
         {
          "i": 418,
          "loss": 0.5864018201828003
         },
         {
          "i": 419,
          "loss": 0.585744321346283
         },
         {
          "i": 420,
          "loss": 0.5850898623466492
         },
         {
          "i": 421,
          "loss": 0.5844383835792542
         },
         {
          "i": 422,
          "loss": 0.583789587020874
         },
         {
          "i": 423,
          "loss": 0.5831438899040222
         },
         {
          "i": 424,
          "loss": 0.5825015306472778
         },
         {
          "i": 425,
          "loss": 0.5818614959716797
         },
         {
          "i": 426,
          "loss": 0.5812243819236755
         },
         {
          "i": 427,
          "loss": 0.5805901885032654
         },
         {
          "i": 428,
          "loss": 0.5799602270126343
         },
         {
          "i": 429,
          "loss": 0.5793351531028748
         },
         {
          "i": 430,
          "loss": 0.5787131190299988
         },
         {
          "i": 431,
          "loss": 0.5780937075614929
         },
         {
          "i": 432,
          "loss": 0.5774768590927124
         },
         {
          "i": 433,
          "loss": 0.5768630504608154
         },
         {
          "i": 434,
          "loss": 0.5762515068054199
         },
         {
          "i": 435,
          "loss": 0.5756428241729736
         },
         {
          "i": 436,
          "loss": 0.5750365853309631
         },
         {
          "i": 437,
          "loss": 0.5744292736053467
         },
         {
          "i": 438,
          "loss": 0.5738193392753601
         },
         {
          "i": 439,
          "loss": 0.5732116103172302
         },
         {
          "i": 440,
          "loss": 0.5726068615913391
         },
         {
          "i": 441,
          "loss": 0.572004497051239
         },
         {
          "i": 442,
          "loss": 0.5714046955108643
         },
         {
          "i": 443,
          "loss": 0.5708075761795044
         },
         {
          "i": 444,
          "loss": 0.5702129602432251
         },
         {
          "i": 445,
          "loss": 0.5696208477020264
         },
         {
          "i": 446,
          "loss": 0.569031298160553
         },
         {
          "i": 447,
          "loss": 0.5684443712234497
         },
         {
          "i": 448,
          "loss": 0.567859411239624
         },
         {
          "i": 449,
          "loss": 0.567277193069458
         },
         {
          "i": 450,
          "loss": 0.5666975378990173
         },
         {
          "i": 451,
          "loss": 0.5661200284957886
         },
         {
          "i": 452,
          "loss": 0.5655451416969299
         },
         {
          "i": 453,
          "loss": 0.5649721622467041
         },
         {
          "i": 454,
          "loss": 0.5644019246101379
         },
         {
          "i": 455,
          "loss": 0.5638338923454285
         },
         {
          "i": 456,
          "loss": 0.5632683634757996
         },
         {
          "i": 457,
          "loss": 0.5627051591873169
         },
         {
          "i": 458,
          "loss": 0.5621439814567566
         },
         {
          "i": 459,
          "loss": 0.5615850687026978
         },
         {
          "i": 460,
          "loss": 0.5610315203666687
         },
         {
          "i": 461,
          "loss": 0.560482919216156
         },
         {
          "i": 462,
          "loss": 0.5599368810653687
         },
         {
          "i": 463,
          "loss": 0.5593932271003723
         },
         {
          "i": 464,
          "loss": 0.5588512420654297
         },
         {
          "i": 465,
          "loss": 0.5583118200302124
         },
         {
          "i": 466,
          "loss": 0.5577744841575623
         },
         {
          "i": 467,
          "loss": 0.5572389364242554
         },
         {
          "i": 468,
          "loss": 0.5567057728767395
         },
         {
          "i": 469,
          "loss": 0.5561745166778564
         },
         {
          "i": 470,
          "loss": 0.5556457042694092
         },
         {
          "i": 471,
          "loss": 0.5551186203956604
         },
         {
          "i": 472,
          "loss": 0.5545938611030579
         },
         {
          "i": 473,
          "loss": 0.5540709495544434
         },
         {
          "i": 474,
          "loss": 0.5535501837730408
         },
         {
          "i": 475,
          "loss": 0.5530314445495605
         },
         {
          "i": 476,
          "loss": 0.5525142550468445
         },
         {
          "i": 477,
          "loss": 0.551999568939209
         },
         {
          "i": 478,
          "loss": 0.551486611366272
         },
         {
          "i": 479,
          "loss": 0.5509757399559021
         },
         {
          "i": 480,
          "loss": 0.5504665970802307
         },
         {
          "i": 481,
          "loss": 0.5499597787857056
         },
         {
          "i": 482,
          "loss": 0.5494545102119446
         },
         {
          "i": 483,
          "loss": 0.5489512085914612
         },
         {
          "i": 484,
          "loss": 0.5484498739242554
         },
         {
          "i": 485,
          "loss": 0.5479503273963928
         },
         {
          "i": 486,
          "loss": 0.5474525690078735
         },
         {
          "i": 487,
          "loss": 0.5469567775726318
         },
         {
          "i": 488,
          "loss": 0.5464625954627991
         },
         {
          "i": 489,
          "loss": 0.5459703207015991
         },
         {
          "i": 490,
          "loss": 0.545479953289032
         },
         {
          "i": 491,
          "loss": 0.5449914336204529
         },
         {
          "i": 492,
          "loss": 0.5444941520690918
         },
         {
          "i": 493,
          "loss": 0.543983519077301
         },
         {
          "i": 494,
          "loss": 0.5434746742248535
         },
         {
          "i": 495,
          "loss": 0.5429679155349731
         },
         {
          "i": 496,
          "loss": 0.542458176612854
         },
         {
          "i": 497,
          "loss": 0.5419288873672485
         },
         {
          "i": 498,
          "loss": 0.5414012670516968
         },
         {
          "i": 499,
          "loss": 0.5408763885498047
         },
         {
          "i": 500,
          "loss": 0.5403537154197693
         },
         {
          "i": 501,
          "loss": 0.539833128452301
         },
         {
          "i": 502,
          "loss": 0.5393149256706238
         },
         {
          "i": 503,
          "loss": 0.5387988090515137
         },
         {
          "i": 504,
          "loss": 0.5382847785949707
         },
         {
          "i": 505,
          "loss": 0.5377733111381531
         },
         {
          "i": 506,
          "loss": 0.5372633934020996
         },
         {
          "i": 507,
          "loss": 0.5367559194564819
         },
         {
          "i": 508,
          "loss": 0.5362502932548523
         },
         {
          "i": 509,
          "loss": 0.5357469320297241
         },
         {
          "i": 510,
          "loss": 0.5352456569671631
         },
         {
          "i": 511,
          "loss": 0.5347461104393005
         },
         {
          "i": 512,
          "loss": 0.5342554450035095
         },
         {
          "i": 513,
          "loss": 0.5337666273117065
         },
         {
          "i": 514,
          "loss": 0.5332801342010498
         },
         {
          "i": 515,
          "loss": 0.5327953100204468
         },
         {
          "i": 516,
          "loss": 0.5323123335838318
         },
         {
          "i": 517,
          "loss": 0.5318312644958496
         },
         {
          "i": 518,
          "loss": 0.531352162361145
         },
         {
          "i": 519,
          "loss": 0.5308747887611389
         },
         {
          "i": 520,
          "loss": 0.5303993225097656
         },
         {
          "i": 521,
          "loss": 0.529925525188446
         },
         {
          "i": 522,
          "loss": 0.5294540524482727
         },
         {
          "i": 523,
          "loss": 0.5289843082427979
         },
         {
          "i": 524,
          "loss": 0.5285149216651917
         },
         {
          "i": 525,
          "loss": 0.5280445218086243
         },
         {
          "i": 526,
          "loss": 0.527576208114624
         },
         {
          "i": 527,
          "loss": 0.5271096229553223
         },
         {
          "i": 528,
          "loss": 0.5266448855400085
         },
         {
          "i": 529,
          "loss": 0.5261784195899963
         },
         {
          "i": 530,
          "loss": 0.5257085561752319
         },
         {
          "i": 531,
          "loss": 0.5252408385276794
         },
         {
          "i": 532,
          "loss": 0.5247745513916016
         },
         {
          "i": 533,
          "loss": 0.5243098735809326
         },
         {
          "i": 534,
          "loss": 0.5238469839096069
         },
         {
          "i": 535,
          "loss": 0.523386538028717
         },
         {
          "i": 536,
          "loss": 0.5229270458221436
         },
         {
          "i": 537,
          "loss": 0.5224694609642029
         },
         {
          "i": 538,
          "loss": 0.5220136046409607
         },
         {
          "i": 539,
          "loss": 0.5215593576431274
         },
         {
          "i": 540,
          "loss": 0.5211069583892822
         },
         {
          "i": 541,
          "loss": 0.5206559300422668
         },
         {
          "i": 542,
          "loss": 0.5202068090438843
         },
         {
          "i": 543,
          "loss": 0.5197592973709106
         },
         {
          "i": 544,
          "loss": 0.5193133354187012
         },
         {
          "i": 545,
          "loss": 0.5188687443733215
         },
         {
          "i": 546,
          "loss": 0.5184261202812195
         },
         {
          "i": 547,
          "loss": 0.5179852843284607
         },
         {
          "i": 548,
          "loss": 0.5175455808639526
         },
         {
          "i": 549,
          "loss": 0.5170983672142029
         },
         {
          "i": 550,
          "loss": 0.5166280269622803
         },
         {
          "i": 551,
          "loss": 0.5161601305007935
         },
         {
          "i": 552,
          "loss": 0.5156940221786499
         },
         {
          "i": 553,
          "loss": 0.5152350068092346
         },
         {
          "i": 554,
          "loss": 0.5147772431373596
         },
         {
          "i": 555,
          "loss": 0.5143219232559204
         },
         {
          "i": 556,
          "loss": 0.5138682126998901
         },
         {
          "i": 557,
          "loss": 0.5134165287017822
         },
         {
          "i": 558,
          "loss": 0.5129668116569519
         },
         {
          "i": 559,
          "loss": 0.5125188231468201
         },
         {
          "i": 560,
          "loss": 0.5120725631713867
         },
         {
          "i": 561,
          "loss": 0.5116283297538757
         },
         {
          "i": 562,
          "loss": 0.511185884475708
         },
         {
          "i": 563,
          "loss": 0.5107452869415283
         },
         {
          "i": 564,
          "loss": 0.5103064179420471
         },
         {
          "i": 565,
          "loss": 0.5098659992218018
         },
         {
          "i": 566,
          "loss": 0.5094207525253296
         },
         {
          "i": 567,
          "loss": 0.5089795589447021
         },
         {
          "i": 568,
          "loss": 0.5085431933403015
         },
         {
          "i": 569,
          "loss": 0.5081086158752441
         },
         {
          "i": 570,
          "loss": 0.5076757669448853
         },
         {
          "i": 571,
          "loss": 0.5072448253631592
         },
         {
          "i": 572,
          "loss": 0.5068152546882629
         },
         {
          "i": 573,
          "loss": 0.50638747215271
         },
         {
          "i": 574,
          "loss": 0.5059616565704346
         },
         {
          "i": 575,
          "loss": 0.505537211894989
         },
         {
          "i": 576,
          "loss": 0.5051145553588867
         },
         {
          "i": 577,
          "loss": 0.5046932697296143
         },
         {
          "i": 578,
          "loss": 0.5042741894721985
         },
         {
          "i": 579,
          "loss": 0.503856360912323
         },
         {
          "i": 580,
          "loss": 0.5034400820732117
         },
         {
          "i": 581,
          "loss": 0.5030255317687988
         },
         {
          "i": 582,
          "loss": 0.5026126503944397
         },
         {
          "i": 583,
          "loss": 0.5022014379501343
         },
         {
          "i": 584,
          "loss": 0.5017914772033691
         },
         {
          "i": 585,
          "loss": 0.5013828873634338
         },
         {
          "i": 586,
          "loss": 0.5009760856628418
         },
         {
          "i": 587,
          "loss": 0.5005709528923035
         },
         {
          "i": 588,
          "loss": 0.5001671314239502
         },
         {
          "i": 589,
          "loss": 0.4997650980949402
         },
         {
          "i": 590,
          "loss": 0.49936431646347046
         },
         {
          "i": 591,
          "loss": 0.4989650845527649
         },
         {
          "i": 592,
          "loss": 0.4985659122467041
         },
         {
          "i": 593,
          "loss": 0.49816375970840454
         },
         {
          "i": 594,
          "loss": 0.49776312708854675
         },
         {
          "i": 595,
          "loss": 0.49736419320106506
         },
         {
          "i": 596,
          "loss": 0.4969663918018341
         },
         {
          "i": 597,
          "loss": 0.4965655207633972
         },
         {
          "i": 598,
          "loss": 0.49591973423957825
         },
         {
          "i": 599,
          "loss": 0.4953216314315796
         },
         {
          "i": 600,
          "loss": 0.4947546720504761
         },
         {
          "i": 601,
          "loss": 0.49420782923698425
         },
         {
          "i": 602,
          "loss": 0.49367618560791016
         },
         {
          "i": 603,
          "loss": 0.4931567311286926
         },
         {
          "i": 604,
          "loss": 0.4926483631134033
         },
         {
          "i": 605,
          "loss": 0.4921477138996124
         },
         {
          "i": 606,
          "loss": 0.49165380001068115
         },
         {
          "i": 607,
          "loss": 0.49116629362106323
         },
         {
          "i": 608,
          "loss": 0.4906844198703766
         },
         {
          "i": 609,
          "loss": 0.49020713567733765
         },
         {
          "i": 610,
          "loss": 0.48973533511161804
         },
         {
          "i": 611,
          "loss": 0.4892679452896118
         },
         {
          "i": 612,
          "loss": 0.48880499601364136
         },
         {
          "i": 613,
          "loss": 0.4883463382720947
         },
         {
          "i": 614,
          "loss": 0.4878917336463928
         },
         {
          "i": 615,
          "loss": 0.487440824508667
         },
         {
          "i": 616,
          "loss": 0.4869934916496277
         },
         {
          "i": 617,
          "loss": 0.4865494966506958
         },
         {
          "i": 618,
          "loss": 0.4861086905002594
         },
         {
          "i": 619,
          "loss": 0.4856712222099304
         },
         {
          "i": 620,
          "loss": 0.4852364659309387
         },
         {
          "i": 621,
          "loss": 0.48480501770973206
         },
         {
          "i": 622,
          "loss": 0.4843762218952179
         },
         {
          "i": 623,
          "loss": 0.4839498996734619
         },
         {
          "i": 624,
          "loss": 0.4835260808467865
         },
         {
          "i": 625,
          "loss": 0.48310500383377075
         },
         {
          "i": 626,
          "loss": 0.4826856851577759
         },
         {
          "i": 627,
          "loss": 0.48226889967918396
         },
         {
          "i": 628,
          "loss": 0.48185431957244873
         },
         {
          "i": 629,
          "loss": 0.48144200444221497
         },
         {
          "i": 630,
          "loss": 0.4810321033000946
         },
         {
          "i": 631,
          "loss": 0.4806237816810608
         },
         {
          "i": 632,
          "loss": 0.48021766543388367
         },
         {
          "i": 633,
          "loss": 0.4798095226287842
         },
         {
          "i": 634,
          "loss": 0.479399174451828
         },
         {
          "i": 635,
          "loss": 0.4789910614490509
         },
         {
          "i": 636,
          "loss": 0.4785844385623932
         },
         {
          "i": 637,
          "loss": 0.47817978262901306
         },
         {
          "i": 638,
          "loss": 0.47777679562568665
         },
         {
          "i": 639,
          "loss": 0.47737571597099304
         },
         {
          "i": 640,
          "loss": 0.4769727289676666
         },
         {
          "i": 641,
          "loss": 0.4765665531158447
         },
         {
          "i": 642,
          "loss": 0.47615718841552734
         },
         {
          "i": 643,
          "loss": 0.47574278712272644
         },
         {
          "i": 644,
          "loss": 0.47533008456230164
         },
         {
          "i": 645,
          "loss": 0.4749194085597992
         },
         {
          "i": 646,
          "loss": 0.4745101034641266
         },
         {
          "i": 647,
          "loss": 0.47410255670547485
         },
         {
          "i": 648,
          "loss": 0.47369685769081116
         },
         {
          "i": 649,
          "loss": 0.47329244017601013
         },
         {
          "i": 650,
          "loss": 0.47288981080055237
         },
         {
          "i": 651,
          "loss": 0.47248899936676025
         },
         {
          "i": 652,
          "loss": 0.4720896780490875
         },
         {
          "i": 653,
          "loss": 0.4716918170452118
         },
         {
          "i": 654,
          "loss": 0.47129562497138977
         },
         {
          "i": 655,
          "loss": 0.47090089321136475
         },
         {
          "i": 656,
          "loss": 0.4705079197883606
         },
         {
          "i": 657,
          "loss": 0.47011616826057434
         },
         {
          "i": 658,
          "loss": 0.4697261154651642
         },
         {
          "i": 659,
          "loss": 0.46933743357658386
         },
         {
          "i": 660,
          "loss": 0.4689502716064453
         },
         {
          "i": 661,
          "loss": 0.4685647189617157
         },
         {
          "i": 662,
          "loss": 0.4681805372238159
         },
         {
          "i": 663,
          "loss": 0.46779781579971313
         },
         {
          "i": 664,
          "loss": 0.4674164950847626
         },
         {
          "i": 665,
          "loss": 0.46703627705574036
         },
         {
          "i": 666,
          "loss": 0.466657817363739
         },
         {
          "i": 667,
          "loss": 0.4662807583808899
         },
         {
          "i": 668,
          "loss": 0.4659048318862915
         },
         {
          "i": 669,
          "loss": 0.4655306935310364
         },
         {
          "i": 670,
          "loss": 0.46515747904777527
         },
         {
          "i": 671,
          "loss": 0.4647855758666992
         },
         {
          "i": 672,
          "loss": 0.464402973651886
         },
         {
          "i": 673,
          "loss": 0.4640216529369354
         },
         {
          "i": 674,
          "loss": 0.46364182233810425
         },
         {
          "i": 675,
          "loss": 0.46326348185539246
         },
         {
          "i": 676,
          "loss": 0.46288612484931946
         },
         {
          "i": 677,
          "loss": 0.4625106453895569
         },
         {
          "i": 678,
          "loss": 0.4621356725692749
         },
         {
          "i": 679,
          "loss": 0.46174919605255127
         },
         {
          "i": 680,
          "loss": 0.4613634943962097
         },
         {
          "i": 681,
          "loss": 0.46097180247306824
         },
         {
          "i": 682,
          "loss": 0.46058204770088196
         },
         {
          "i": 683,
          "loss": 0.46019360423088074
         },
         {
          "i": 684,
          "loss": 0.45980605483055115
         },
         {
          "i": 685,
          "loss": 0.459420382976532
         },
         {
          "i": 686,
          "loss": 0.4590360224246979
         },
         {
          "i": 687,
          "loss": 0.4586530029773712
         },
         {
          "i": 688,
          "loss": 0.4582710564136505
         },
         {
          "i": 689,
          "loss": 0.45789074897766113
         },
         {
          "i": 690,
          "loss": 0.4575117230415344
         },
         {
          "i": 691,
          "loss": 0.4571340084075928
         },
         {
          "i": 692,
          "loss": 0.456757515668869
         },
         {
          "i": 693,
          "loss": 0.4563824534416199
         },
         {
          "i": 694,
          "loss": 0.4560086131095886
         },
         {
          "i": 695,
          "loss": 0.45563632249832153
         },
         {
          "i": 696,
          "loss": 0.4552651345729828
         },
         {
          "i": 697,
          "loss": 0.4548952579498291
         },
         {
          "i": 698,
          "loss": 0.4545266032218933
         },
         {
          "i": 699,
          "loss": 0.4541592299938202
         },
         {
          "i": 700,
          "loss": 0.45379307866096497
         },
         {
          "i": 701,
          "loss": 0.4534280300140381
         },
         {
          "i": 702,
          "loss": 0.4530646502971649
         },
         {
          "i": 703,
          "loss": 0.45270222425460815
         },
         {
          "i": 704,
          "loss": 0.4523409605026245
         },
         {
          "i": 705,
          "loss": 0.45198124647140503
         },
         {
          "i": 706,
          "loss": 0.45162251591682434
         },
         {
          "i": 707,
          "loss": 0.4512646496295929
         },
         {
          "i": 708,
          "loss": 0.45090869069099426
         },
         {
          "i": 709,
          "loss": 0.45055335760116577
         },
         {
          "i": 710,
          "loss": 0.45019930601119995
         },
         {
          "i": 711,
          "loss": 0.44984665513038635
         },
         {
          "i": 712,
          "loss": 0.44949501752853394
         },
         {
          "i": 713,
          "loss": 0.4491446018218994
         },
         {
          "i": 714,
          "loss": 0.4487951993942261
         },
         {
          "i": 715,
          "loss": 0.44844695925712585
         },
         {
          "i": 716,
          "loss": 0.4481000006198883
         },
         {
          "i": 717,
          "loss": 0.44775447249412537
         },
         {
          "i": 718,
          "loss": 0.447409451007843
         },
         {
          "i": 719,
          "loss": 0.44706591963768005
         },
         {
          "i": 720,
          "loss": 0.4467233419418335
         },
         {
          "i": 721,
          "loss": 0.44638171792030334
         },
         {
          "i": 722,
          "loss": 0.4460415244102478
         },
         {
          "i": 723,
          "loss": 0.44570231437683105
         },
         {
          "i": 724,
          "loss": 0.4453642964363098
         },
         {
          "i": 725,
          "loss": 0.4450271725654602
         },
         {
          "i": 726,
          "loss": 0.44469112157821655
         },
         {
          "i": 727,
          "loss": 0.4443562626838684
         },
         {
          "i": 728,
          "loss": 0.4440222978591919
         },
         {
          "i": 729,
          "loss": 0.4436894357204437
         },
         {
          "i": 730,
          "loss": 0.4433577060699463
         },
         {
          "i": 731,
          "loss": 0.4430270791053772
         },
         {
          "i": 732,
          "loss": 0.44269728660583496
         },
         {
          "i": 733,
          "loss": 0.44236889481544495
         },
         {
          "i": 734,
          "loss": 0.4420411288738251
         },
         {
          "i": 735,
          "loss": 0.44171464443206787
         },
         {
          "i": 736,
          "loss": 0.44138896465301514
         },
         {
          "i": 737,
          "loss": 0.4410647451877594
         },
         {
          "i": 738,
          "loss": 0.44074109196662903
         },
         {
          "i": 739,
          "loss": 0.4404188096523285
         },
         {
          "i": 740,
          "loss": 0.44009724259376526
         },
         {
          "i": 741,
          "loss": 0.43977686762809753
         },
         {
          "i": 742,
          "loss": 0.4394574761390686
         },
         {
          "i": 743,
          "loss": 0.4391346275806427
         },
         {
          "i": 744,
          "loss": 0.43880438804626465
         },
         {
          "i": 745,
          "loss": 0.4384753704071045
         },
         {
          "i": 746,
          "loss": 0.43814754486083984
         },
         {
          "i": 747,
          "loss": 0.4378201961517334
         },
         {
          "i": 748,
          "loss": 0.437494158744812
         },
         {
          "i": 749,
          "loss": 0.4371693730354309
         },
         {
          "i": 750,
          "loss": 0.436845064163208
         },
         {
          "i": 751,
          "loss": 0.4365219473838806
         },
         {
          "i": 752,
          "loss": 0.4361998736858368
         },
         {
          "i": 753,
          "loss": 0.4358788728713989
         },
         {
          "i": 754,
          "loss": 0.4355570077896118
         },
         {
          "i": 755,
          "loss": 0.435224711894989
         },
         {
          "i": 756,
          "loss": 0.43489280343055725
         },
         {
          "i": 757,
          "loss": 0.4345383942127228
         },
         {
          "i": 758,
          "loss": 0.4341624081134796
         },
         {
          "i": 759,
          "loss": 0.43378281593322754
         },
         {
          "i": 760,
          "loss": 0.43340447545051575
         },
         {
          "i": 761,
          "loss": 0.4330276846885681
         },
         {
          "i": 762,
          "loss": 0.4326520562171936
         },
         {
          "i": 763,
          "loss": 0.43227794766426086
         },
         {
          "i": 764,
          "loss": 0.43190521001815796
         },
         {
          "i": 765,
          "loss": 0.4315335154533386
         },
         {
          "i": 766,
          "loss": 0.4311635494232178
         },
         {
          "i": 767,
          "loss": 0.4307946264743805
         },
         {
          "i": 768,
          "loss": 0.4304273724555969
         },
         {
          "i": 769,
          "loss": 0.4300612509250641
         },
         {
          "i": 770,
          "loss": 0.42969653010368347
         },
         {
          "i": 771,
          "loss": 0.4293327331542969
         },
         {
          "i": 772,
          "loss": 0.4289699196815491
         },
         {
          "i": 773,
          "loss": 0.4286082088947296
         },
         {
          "i": 774,
          "loss": 0.4282483756542206
         },
         {
          "i": 775,
          "loss": 0.42788931727409363
         },
         {
          "i": 776,
          "loss": 0.42753133177757263
         },
         {
          "i": 777,
          "loss": 0.42717480659484863
         },
         {
          "i": 778,
          "loss": 0.4268193542957306
         },
         {
          "i": 779,
          "loss": 0.4264650344848633
         },
         {
          "i": 780,
          "loss": 0.42611217498779297
         },
         {
          "i": 781,
          "loss": 0.42576026916503906
         },
         {
          "i": 782,
          "loss": 0.4254096746444702
         },
         {
          "i": 783,
          "loss": 0.4250603914260864
         },
         {
          "i": 784,
          "loss": 0.42471200227737427
         },
         {
          "i": 785,
          "loss": 0.42436477541923523
         },
         {
          "i": 786,
          "loss": 0.4240186810493469
         },
         {
          "i": 787,
          "loss": 0.4236738979816437
         },
         {
          "i": 788,
          "loss": 0.4233301281929016
         },
         {
          "i": 789,
          "loss": 0.4229873716831207
         },
         {
          "i": 790,
          "loss": 0.4226457476615906
         },
         {
          "i": 791,
          "loss": 0.42230546474456787
         },
         {
          "i": 792,
          "loss": 0.421966016292572
         },
         {
          "i": 793,
          "loss": 0.4216277301311493
         },
         {
          "i": 794,
          "loss": 0.42129048705101013
         },
         {
          "i": 795,
          "loss": 0.42095309495925903
         },
         {
          "i": 796,
          "loss": 0.42061081528663635
         },
         {
          "i": 797,
          "loss": 0.4202699363231659
         },
         {
          "i": 798,
          "loss": 0.4199300706386566
         },
         {
          "i": 799,
          "loss": 0.41959112882614136
         },
         {
          "i": 800,
          "loss": 0.41925331950187683
         },
         {
          "i": 801,
          "loss": 0.4189165532588959
         },
         {
          "i": 802,
          "loss": 0.4185809791088104
         },
         {
          "i": 803,
          "loss": 0.4182465374469757
         },
         {
          "i": 804,
          "loss": 0.41791248321533203
         },
         {
          "i": 805,
          "loss": 0.41758018732070923
         },
         {
          "i": 806,
          "loss": 0.41724884510040283
         },
         {
          "i": 807,
          "loss": 0.4169180989265442
         },
         {
          "i": 808,
          "loss": 0.41658878326416016
         },
         {
          "i": 809,
          "loss": 0.4162605404853821
         },
         {
          "i": 810,
          "loss": 0.41593310236930847
         },
         {
          "i": 811,
          "loss": 0.41560688614845276
         },
         {
          "i": 812,
          "loss": 0.4152814745903015
         },
         {
          "i": 813,
          "loss": 0.41495704650878906
         },
         {
          "i": 814,
          "loss": 0.4146338999271393
         },
         {
          "i": 815,
          "loss": 0.4143114387989044
         },
         {
          "i": 816,
          "loss": 0.4139900207519531
         },
         {
          "i": 817,
          "loss": 0.41366997361183167
         },
         {
          "i": 818,
          "loss": 0.41335034370422363
         },
         {
          "i": 819,
          "loss": 0.41303175687789917
         },
         {
          "i": 820,
          "loss": 0.4127143919467926
         },
         {
          "i": 821,
          "loss": 0.4123978912830353
         },
         {
          "i": 822,
          "loss": 0.4120822846889496
         },
         {
          "i": 823,
          "loss": 0.41176754236221313
         },
         {
          "i": 824,
          "loss": 0.4114539623260498
         },
         {
          "i": 825,
          "loss": 0.41114121675491333
         },
         {
          "i": 826,
          "loss": 0.4108293652534485
         },
         {
          "i": 827,
          "loss": 0.41051825881004333
         },
         {
          "i": 828,
          "loss": 0.41020867228507996
         },
         {
          "i": 829,
          "loss": 0.40989959239959717
         },
         {
          "i": 830,
          "loss": 0.4095914363861084
         },
         {
          "i": 831,
          "loss": 0.40928414463996887
         },
         {
          "i": 832,
          "loss": 0.4089779257774353
         },
         {
          "i": 833,
          "loss": 0.4086725115776062
         },
         {
          "i": 834,
          "loss": 0.40836793184280396
         },
         {
          "i": 835,
          "loss": 0.40806296467781067
         },
         {
          "i": 836,
          "loss": 0.40775370597839355
         },
         {
          "i": 837,
          "loss": 0.4074448049068451
         },
         {
          "i": 838,
          "loss": 0.4071372151374817
         },
         {
          "i": 839,
          "loss": 0.4068303406238556
         },
         {
          "i": 840,
          "loss": 0.40652453899383545
         },
         {
          "i": 841,
          "loss": 0.4062193036079407
         },
         {
          "i": 842,
          "loss": 0.4059152603149414
         },
         {
          "i": 843,
          "loss": 0.4056117534637451
         },
         {
          "i": 844,
          "loss": 0.40530943870544434
         },
         {
          "i": 845,
          "loss": 0.405007928609848
         },
         {
          "i": 846,
          "loss": 0.4047073423862457
         },
         {
          "i": 847,
          "loss": 0.40440741181373596
         },
         {
          "i": 848,
          "loss": 0.4041084051132202
         },
         {
          "i": 849,
          "loss": 0.40381067991256714
         },
         {
          "i": 850,
          "loss": 0.4035131335258484
         },
         {
          "i": 851,
          "loss": 0.40321674942970276
         },
         {
          "i": 852,
          "loss": 0.40292125940322876
         },
         {
          "i": 853,
          "loss": 0.4026266038417816
         },
         {
          "i": 854,
          "loss": 0.402332603931427
         },
         {
          "i": 855,
          "loss": 0.40203943848609924
         },
         {
          "i": 856,
          "loss": 0.4017472565174103
         },
         {
          "i": 857,
          "loss": 0.4014556109905243
         },
         {
          "i": 858,
          "loss": 0.4011651277542114
         },
         {
          "i": 859,
          "loss": 0.4008752405643463
         },
         {
          "i": 860,
          "loss": 0.4005862772464752
         },
         {
          "i": 861,
          "loss": 0.4002981185913086
         },
         {
          "i": 862,
          "loss": 0.4000109136104584
         },
         {
          "i": 863,
          "loss": 0.39971715211868286
         },
         {
          "i": 864,
          "loss": 0.3993980288505554
         },
         {
          "i": 865,
          "loss": 0.399079829454422
         },
         {
          "i": 866,
          "loss": 0.3987630605697632
         },
         {
          "i": 867,
          "loss": 0.39844703674316406
         },
         {
          "i": 868,
          "loss": 0.3981322944164276
         },
         {
          "i": 869,
          "loss": 0.3978184461593628
         },
         {
          "i": 870,
          "loss": 0.3975057303905487
         },
         {
          "i": 871,
          "loss": 0.39719417691230774
         },
         {
          "i": 872,
          "loss": 0.3968832492828369
         },
         {
          "i": 873,
          "loss": 0.3965737521648407
         },
         {
          "i": 874,
          "loss": 0.3962647318840027
         },
         {
          "i": 875,
          "loss": 0.395957350730896
         },
         {
          "i": 876,
          "loss": 0.39565035700798035
         },
         {
          "i": 877,
          "loss": 0.39534470438957214
         },
         {
          "i": 878,
          "loss": 0.395039826631546
         },
         {
          "i": 879,
          "loss": 0.3947358727455139
         },
         {
          "i": 880,
          "loss": 0.39443302154541016
         },
         {
          "i": 881,
          "loss": 0.3941308259963989
         },
         {
          "i": 882,
          "loss": 0.39383000135421753
         },
         {
          "i": 883,
          "loss": 0.3935299813747406
         },
         {
          "i": 884,
          "loss": 0.3932307958602905
         },
         {
          "i": 885,
          "loss": 0.3929324448108673
         },
         {
          "i": 886,
          "loss": 0.39263495802879333
         },
         {
          "i": 887,
          "loss": 0.3923383355140686
         },
         {
          "i": 888,
          "loss": 0.39204296469688416
         },
         {
          "i": 889,
          "loss": 0.3917482793331146
         },
         {
          "i": 890,
          "loss": 0.3914542496204376
         },
         {
          "i": 891,
          "loss": 0.3911614716053009
         },
         {
          "i": 892,
          "loss": 0.39086928963661194
         },
         {
          "i": 893,
          "loss": 0.39057818055152893
         },
         {
          "i": 894,
          "loss": 0.390287846326828
         },
         {
          "i": 895,
          "loss": 0.3899981677532196
         },
         {
          "i": 896,
          "loss": 0.3897097408771515
         },
         {
          "i": 897,
          "loss": 0.38942191004753113
         },
         {
          "i": 898,
          "loss": 0.38913485407829285
         },
         {
          "i": 899,
          "loss": 0.38884875178337097
         },
         {
          "i": 900,
          "loss": 0.3885636627674103
         },
         {
          "i": 901,
          "loss": 0.3882790803909302
         },
         {
          "i": 902,
          "loss": 0.3879954516887665
         },
         {
          "i": 903,
          "loss": 0.3877125680446625
         },
         {
          "i": 904,
          "loss": 0.38743042945861816
         },
         {
          "i": 905,
          "loss": 0.38714924454689026
         },
         {
          "i": 906,
          "loss": 0.3868687152862549
         },
         {
          "i": 907,
          "loss": 0.38658908009529114
         },
         {
          "i": 908,
          "loss": 0.3863102197647095
         },
         {
          "i": 909,
          "loss": 0.3860323429107666
         },
         {
          "i": 910,
          "loss": 0.3857550024986267
         },
         {
          "i": 911,
          "loss": 0.3854784667491913
         },
         {
          "i": 912,
          "loss": 0.3852027654647827
         },
         {
          "i": 913,
          "loss": 0.3849276304244995
         },
         {
          "i": 914,
          "loss": 0.3846534788608551
         },
         {
          "i": 915,
          "loss": 0.3843801021575928
         },
         {
          "i": 916,
          "loss": 0.38410747051239014
         },
         {
          "i": 917,
          "loss": 0.3838353455066681
         },
         {
          "i": 918,
          "loss": 0.383564293384552
         },
         {
          "i": 919,
          "loss": 0.383294016122818
         },
         {
          "i": 920,
          "loss": 0.38302481174468994
         },
         {
          "i": 921,
          "loss": 0.3827563524246216
         },
         {
          "i": 922,
          "loss": 0.38248878717422485
         },
         {
          "i": 923,
          "loss": 0.38222163915634155
         },
         {
          "i": 924,
          "loss": 0.38195574283599854
         },
         {
          "i": 925,
          "loss": 0.38169026374816895
         },
         {
          "i": 926,
          "loss": 0.38142532110214233
         },
         {
          "i": 927,
          "loss": 0.38116124272346497
         },
         {
          "i": 928,
          "loss": 0.3808979094028473
         },
         {
          "i": 929,
          "loss": 0.38063523173332214
         },
         {
          "i": 930,
          "loss": 0.3803732395172119
         },
         {
          "i": 931,
          "loss": 0.3801122009754181
         },
         {
          "i": 932,
          "loss": 0.3798515200614929
         },
         {
          "i": 933,
          "loss": 0.37959176301956177
         },
         {
          "i": 934,
          "loss": 0.37933242321014404
         },
         {
          "i": 935,
          "loss": 0.3790742754936218
         },
         {
          "i": 936,
          "loss": 0.37881457805633545
         },
         {
          "i": 937,
          "loss": 0.3785494863986969
         },
         {
          "i": 938,
          "loss": 0.3782796859741211
         },
         {
          "i": 939,
          "loss": 0.3780103623867035
         },
         {
          "i": 940,
          "loss": 0.3777419626712799
         },
         {
          "i": 941,
          "loss": 0.3774740695953369
         },
         {
          "i": 942,
          "loss": 0.37720704078674316
         },
         {
          "i": 943,
          "loss": 0.37694090604782104
         },
         {
          "i": 944,
          "loss": 0.3766753673553467
         },
         {
          "i": 945,
          "loss": 0.37641093134880066
         },
         {
          "i": 946,
          "loss": 0.37614738941192627
         },
         {
          "i": 947,
          "loss": 0.3758843243122101
         },
         {
          "i": 948,
          "loss": 0.3756219744682312
         },
         {
          "i": 949,
          "loss": 0.3753606677055359
         },
         {
          "i": 950,
          "loss": 0.37509971857070923
         },
         {
          "i": 951,
          "loss": 0.3748384416103363
         },
         {
          "i": 952,
          "loss": 0.3745718002319336
         },
         {
          "i": 953,
          "loss": 0.37430623173713684
         },
         {
          "i": 954,
          "loss": 0.3740411400794983
         },
         {
          "i": 955,
          "loss": 0.37377673387527466
         },
         {
          "i": 956,
          "loss": 0.3735130727291107
         },
         {
          "i": 957,
          "loss": 0.3732500374317169
         },
         {
          "i": 958,
          "loss": 0.37298816442489624
         },
         {
          "i": 959,
          "loss": 0.3727264702320099
         },
         {
          "i": 960,
          "loss": 0.372465580701828
         },
         {
          "i": 961,
          "loss": 0.37220531702041626
         },
         {
          "i": 962,
          "loss": 0.37194567918777466
         },
         {
          "i": 963,
          "loss": 0.3716869652271271
         },
         {
          "i": 964,
          "loss": 0.3714287579059601
         },
         {
          "i": 965,
          "loss": 0.3711712658405304
         },
         {
          "i": 966,
          "loss": 0.3709144592285156
         },
         {
          "i": 967,
          "loss": 0.3706582188606262
         },
         {
          "i": 968,
          "loss": 0.3704027533531189
         },
         {
          "i": 969,
          "loss": 0.3701479434967041
         },
         {
          "i": 970,
          "loss": 0.3698936104774475
         },
         {
          "i": 971,
          "loss": 0.36964017152786255
         },
         {
          "i": 972,
          "loss": 0.3693872094154358
         },
         {
          "i": 973,
          "loss": 0.3691348731517792
         },
         {
          "i": 974,
          "loss": 0.3688831627368927
         },
         {
          "i": 975,
          "loss": 0.36863216757774353
         },
         {
          "i": 976,
          "loss": 0.3683816194534302
         },
         {
          "i": 977,
          "loss": 0.368132084608078
         },
         {
          "i": 978,
          "loss": 0.3678831160068512
         },
         {
          "i": 979,
          "loss": 0.36763453483581543
         },
         {
          "i": 980,
          "loss": 0.3673866391181946
         },
         {
          "i": 981,
          "loss": 0.36713922023773193
         },
         {
          "i": 982,
          "loss": 0.3668927848339081
         },
         {
          "i": 983,
          "loss": 0.3666466772556305
         },
         {
          "i": 984,
          "loss": 0.3664012849330902
         },
         {
          "i": 985,
          "loss": 0.3661564886569977
         },
         {
          "i": 986,
          "loss": 0.36591243743896484
         },
         {
          "i": 987,
          "loss": 0.3656686544418335
         },
         {
          "i": 988,
          "loss": 0.365425705909729
         },
         {
          "i": 989,
          "loss": 0.36518311500549316
         },
         {
          "i": 990,
          "loss": 0.36494141817092896
         },
         {
          "i": 991,
          "loss": 0.36470019817352295
         },
         {
          "i": 992,
          "loss": 0.3644593358039856
         },
         {
          "i": 993,
          "loss": 0.36421921849250793
         },
         {
          "i": 994,
          "loss": 0.36397990584373474
         },
         {
          "i": 995,
          "loss": 0.3637407720088959
         },
         {
          "i": 996,
          "loss": 0.3635023832321167
         },
         {
          "i": 997,
          "loss": 0.36326488852500916
         },
         {
          "i": 998,
          "loss": 0.3630277216434479
         },
         {
          "i": 999,
          "loss": 0.36279091238975525
         }
        ]
       },
       "encoding": {
        "x": {
         "field": "i",
         "type": "quantitative"
        },
        "y": {
         "field": "loss",
         "type": "quantitative"
        }
       },
       "height": 100,
       "mark": "line"
      },
      "image/png": "[encoded data removed]",
      "text/plain": [
       "<VegaLite 3 object>\n",
       "\n",
       "If you see this message, it means the renderer has not been properly enabled\n",
       "for the frontend that you are using. For more information, see\n",
       "https://altair-viz.github.io/user_guide/troubleshooting.html\n"
      ]
     },
     "execution_count": 215,
     "metadata": {},
     "output_type": "execute_result"
    }
   ],
   "source": [
    "loss_df = pd.DataFrame({'i':range(n_steps), 'loss':loss_record})\n",
    "alt.Chart(loss_df, height=100).mark_line().encode(x='i', y='loss')"
   ]
  },
  {
   "cell_type": "code",
   "execution_count": 216,
   "metadata": {},
   "outputs": [
    {
     "data": {
      "application/vnd.vegalite.v3+json": {
       "$schema": "https://vega.github.io/schema/vega-lite/v3.4.0.json",
       "config": {
        "mark": {
         "tooltip": null
        },
        "view": {
         "height": 300,
         "width": 400
        }
       },
       "data": {
        "name": "data-21c6a1d2482522614f6fc5aec8e972af"
       },
       "datasets": {
        "data-21c6a1d2482522614f6fc5aec8e972af": [
         {
          "x1": 0.6065436601638794,
          "y": 0.3678952157497406,
          "ŷ": 0.48698994517326355
         },
         {
          "x1": -2.071277379989624,
          "y": 4.29019021987915,
          "ŷ": 4.08121919631958
         },
         {
          "x1": -1.343355417251587,
          "y": 1.8046038150787354,
          "ŷ": 1.342451810836792
         },
         {
          "x1": 1.2851636409759521,
          "y": 1.651645541191101,
          "ŷ": 2.402147054672241
         },
         {
          "x1": -1.5231828689575195,
          "y": 2.3200860023498535,
          "ŷ": 1.5211366415023804
         },
         {
          "x1": -0.13572253286838531,
          "y": 0.01842060685157776,
          "ŷ": -0.1858123242855072
         },
         {
          "x1": 0.06941957026720047,
          "y": 0.004819076508283615,
          "ŷ": -0.5930321216583252
         },
         {
          "x1": -0.13766597211360931,
          "y": 0.01895192079246044,
          "ŷ": -0.1809234917163849
         },
         {
          "x1": -0.3383306562900543,
          "y": 0.11446763575077057,
          "ŷ": 0.32384535670280457
         },
         {
          "x1": 0.3065153956413269,
          "y": 0.09395168721675873,
          "ŷ": -0.5305864810943604
         },
         {
          "x1": -1.3347868919372559,
          "y": 1.78165602684021,
          "ŷ": 1.333937406539917
         },
         {
          "x1": -1.7613401412963867,
          "y": 3.1023190021514893,
          "ŷ": 2.3564019203186035
         },
         {
          "x1": 2.929220199584961,
          "y": 8.580330848693848,
          "ŷ": 6.357558250427246
         },
         {
          "x1": -0.6100371479988098,
          "y": 0.37214532494544983,
          "ŷ": 0.6540377140045166
         },
         {
          "x1": 0.3881254494190216,
          "y": 0.15064136683940887,
          "ŷ": -0.2537977993488312
         },
         {
          "x1": -2.2820279598236084,
          "y": 5.207651615142822,
          "ŷ": 5.254056453704834
         },
         {
          "x1": -0.2743033766746521,
          "y": 0.07524234056472778,
          "ŷ": 0.16278573870658875
         },
         {
          "x1": -0.16560162603855133,
          "y": 0.02742389775812626,
          "ŷ": -0.11065170168876648
         },
         {
          "x1": -2.6441919803619385,
          "y": 6.991751194000244,
          "ŷ": 7.2695159912109375
         },
         {
          "x1": -0.1115645319223404,
          "y": 0.012446644715964794,
          "ŷ": -0.2565585672855377
         },
         {
          "x1": -0.4616478979587555,
          "y": 0.213118776679039,
          "ŷ": 0.5824387073516846
         },
         {
          "x1": 0.3470226526260376,
          "y": 0.12042472511529922,
          "ŷ": -0.3932022154331207
         },
         {
          "x1": 0.879301130771637,
          "y": 0.7731704711914062,
          "ŷ": 1.3682198524475098
         },
         {
          "x1": 0.24856817722320557,
          "y": 0.06178613752126694,
          "ŷ": -0.7271206378936768
         },
         {
          "x1": 1.0188597440719604,
          "y": 1.0380752086639404,
          "ŷ": 1.7169606685638428
         },
         {
          "x1": -0.22122398018836975,
          "y": 0.04894004762172699,
          "ŷ": 0.02926543354988098
         },
         {
          "x1": -1.2969019412994385,
          "y": 1.6819546222686768,
          "ŷ": 1.296293020248413
         },
         {
          "x1": -0.4196550250053406,
          "y": 0.17611034214496613,
          "ŷ": 0.5132485628128052
         },
         {
          "x1": -0.28099533915519714,
          "y": 0.07895837724208832,
          "ŷ": 0.17961928248405457
         },
         {
          "x1": -0.3267921209335327,
          "y": 0.10679309070110321,
          "ŷ": 0.2948203384876251
         },
         {
          "x1": 0.500802218914032,
          "y": 0.2508028745651245,
          "ŷ": 0.12835702300071716
         },
         {
          "x1": -0.6982672810554504,
          "y": 0.4875771999359131,
          "ŷ": 0.7014596462249756
         },
         {
          "x1": -0.695195198059082,
          "y": 0.48329636454582214,
          "ŷ": 0.6984072923660278
         },
         {
          "x1": -2.522653818130493,
          "y": 6.3637824058532715,
          "ŷ": 6.593150615692139
         },
         {
          "x1": -0.3090170621871948,
          "y": 0.09549154341220856,
          "ŷ": 0.25010737776756287
         },
         {
          "x1": -0.4936157464981079,
          "y": 0.24365650117397308,
          "ŷ": 0.5978631973266602
         },
         {
          "x1": 2.2460098266601562,
          "y": 5.044559955596924,
          "ŷ": 4.787163734436035
         },
         {
          "x1": -0.583500325679779,
          "y": 0.34047263860702515,
          "ŷ": 0.6412334442138672
         },
         {
          "x1": -0.8016225099563599,
          "y": 0.6425986289978027,
          "ŷ": 0.8041586875915527
         },
         {
          "x1": 0.46751561760902405,
          "y": 0.21857085824012756,
          "ŷ": 0.015462487936019897
         },
         {
          "x1": 1.1407225131988525,
          "y": 1.3012478351593018,
          "ŷ": 2.021481990814209
         },
         {
          "x1": 1.3341424465179443,
          "y": 1.7799360752105713,
          "ŷ": 2.5326430797576904
         },
         {
          "x1": 0.07595160603523254,
          "y": 0.005768646486103535,
          "ŷ": -0.6209969520568848
         },
         {
          "x1": -0.21639582514762878,
          "y": 0.046827152371406555,
          "ŷ": 0.01712009310722351
         },
         {
          "x1": -0.465791791677475,
          "y": 0.21696199476718903,
          "ŷ": 0.5844377279281616
         },
         {
          "x1": -2.439896821975708,
          "y": 5.953096389770508,
          "ŷ": 6.132606029510498
         },
         {
          "x1": -0.16719089448451996,
          "y": 0.02795279584825039,
          "ŷ": -0.10665377974510193
         },
         {
          "x1": -0.7953051328659058,
          "y": 0.632510244846344,
          "ŷ": 0.7978814840316772
         },
         {
          "x1": 0.8062114715576172,
          "y": 0.649976909160614,
          "ŷ": 1.185577154159546
         },
         {
          "x1": 0.2640729546546936,
          "y": 0.06973452866077423,
          "ŷ": -0.6745344400405884
         },
         {
          "x1": 3.2090137004852295,
          "y": 10.297768592834473,
          "ŷ": 7.000677585601807
         },
         {
          "x1": 0.6711274981498718,
          "y": 0.4504121243953705,
          "ŷ": 0.7060328722000122
         },
         {
          "x1": -0.5724613666534424,
          "y": 0.3277120292186737,
          "ŷ": 0.6359070539474487
         },
         {
          "x1": -0.5488533973693848,
          "y": 0.30124005675315857,
          "ŷ": 0.6245160102844238
         },
         {
          "x1": -0.16719572246074677,
          "y": 0.027954408898949623,
          "ŷ": -0.10664185881614685
         },
         {
          "x1": 1.5100362300872803,
          "y": 2.2802093029022217,
          "ŷ": 3.001283645629883
         },
         {
          "x1": 1.2456016540527344,
          "y": 1.5515234470367432,
          "ŷ": 2.296740770339966
         },
         {
          "x1": 1.522056221961975,
          "y": 2.316655158996582,
          "ŷ": 3.033308744430542
         },
         {
          "x1": 0.9445263743400574,
          "y": 0.8921300768852234,
          "ŷ": 1.5312104225158691
         },
         {
          "x1": -0.8775290250778198,
          "y": 0.770057201385498,
          "ŷ": 0.879583477973938
         },
         {
          "x1": -0.02307775616645813,
          "y": 0.0005325828096829355,
          "ŷ": -0.3747936189174652
         },
         {
          "x1": -0.6673217415809631,
          "y": 0.4453183114528656,
          "ŷ": 0.6816781759262085
         },
         {
          "x1": 0.6910316944122314,
          "y": 0.4775248169898987,
          "ŷ": 0.7735393047332764
         },
         {
          "x1": -0.53642737865448,
          "y": 0.2877543270587921,
          "ŷ": 0.6185203790664673
         },
         {
          "x1": 0.5048156380653381,
          "y": 0.25483882427215576,
          "ŷ": 0.14196917414665222
         },
         {
          "x1": 0.30386918783187866,
          "y": 0.09233648329973221,
          "ŷ": -0.5395611524581909
         },
         {
          "x1": 0.8567352890968323,
          "y": 0.7339953780174255,
          "ŷ": 1.3118302822113037
         },
         {
          "x1": 0.3210444748401642,
          "y": 0.10306955128908157,
          "ŷ": -0.48131003975868225
         },
         {
          "x1": 1.4319461584091187,
          "y": 2.0504698753356934,
          "ŷ": 2.793224811553955
         },
         {
          "x1": 1.5200153589248657,
          "y": 2.3104467391967773,
          "ŷ": 3.0278711318969727
         },
         {
          "x1": -1.003981113433838,
          "y": 1.007978081703186,
          "ŷ": 1.0052320957183838
         },
         {
          "x1": -0.2578076720237732,
          "y": 0.06646479666233063,
          "ŷ": 0.12129101157188416
         },
         {
          "x1": -1.1856756210327148,
          "y": 1.4058266878128052,
          "ŷ": 1.1857731342315674
         },
         {
          "x1": 1.7965853214263916,
          "y": 3.2277188301086426,
          "ŷ": 3.754138708114624
         },
         {
          "x1": -0.46550828218460083,
          "y": 0.21669796109199524,
          "ŷ": 0.584301233291626
         },
         {
          "x1": 0.7027471661567688,
          "y": 0.4938535690307617,
          "ŷ": 0.8185386657714844
         },
         {
          "x1": -2.2622175216674805,
          "y": 5.11762809753418,
          "ŷ": 5.143810272216797
         },
         {
          "x1": -0.5510239601135254,
          "y": 0.3036274015903473,
          "ŷ": 0.6255631446838379
         },
         {
          "x1": 0.3389585316181183,
          "y": 0.1148928850889206,
          "ŷ": -0.4205522835254669
         },
         {
          "x1": -1.078605055809021,
          "y": 1.1633888483047485,
          "ŷ": 1.0793821811676025
         },
         {
          "x1": 1.4524227380752563,
          "y": 2.109531879425049,
          "ŷ": 2.8477816581726074
         },
         {
          "x1": -0.6745330691337585,
          "y": 0.4549948573112488,
          "ŷ": 0.6851577758789062
         },
         {
          "x1": 1.0600388050079346,
          "y": 1.1236822605133057,
          "ŷ": 1.8198626041412354
         },
         {
          "x1": -0.37745073437690735,
          "y": 0.14246906340122223,
          "ŷ": 0.41658690571784973
         },
         {
          "x1": 1.4577245712280273,
          "y": 2.1249608993530273,
          "ŷ": 2.861908197402954
         },
         {
          "x1": -0.5156015753746033,
          "y": 0.2658449709415436,
          "ŷ": 0.6084716320037842
         },
         {
          "x1": 0.7185109257698059,
          "y": 0.5162579417228699,
          "ŷ": 0.8815946578979492
         },
         {
          "x1": -0.5046128630638123,
          "y": 0.25463414192199707,
          "ŷ": 0.6031694412231445
         },
         {
          "x1": 1.2522183656692505,
          "y": 1.5680508613586426,
          "ŷ": 2.3143701553344727
         },
         {
          "x1": -0.12112443149089813,
          "y": 0.014671128243207932,
          "ŷ": -0.2276889979839325
         },
         {
          "x1": 0.21871869266033173,
          "y": 0.047837868332862854,
          "ŷ": -0.8283580541610718
         },
         {
          "x1": 0.11201020330190659,
          "y": 0.01254628598690033,
          "ŷ": -0.7386759519577026
         },
         {
          "x1": -0.6189083456993103,
          "y": 0.38304755091667175,
          "ŷ": 0.6583181619644165
         },
         {
          "x1": 0.1311444789171219,
          "y": 0.017198873683810234,
          "ŷ": -0.79921555519104
         },
         {
          "x1": -0.44023391604423523,
          "y": 0.19380590319633484,
          "ŷ": 0.5582784414291382
         },
         {
          "x1": -0.12337478995323181,
          "y": 0.015221338719129562,
          "ŷ": -0.2208932340145111
         },
         {
          "x1": 0.9816119074821472,
          "y": 0.9635619521141052,
          "ŷ": 1.623882532119751
         },
         {
          "x1": -0.5636504292488098,
          "y": 0.3177018165588379,
          "ŷ": 0.6316558122634888
         },
         {
          "x1": 0.9207955002784729,
          "y": 0.8478643298149109,
          "ŷ": 1.4719092845916748
         },
         {
          "x1": -0.805651843547821,
          "y": 0.649074912071228,
          "ŷ": 0.8081626892089844
         }
        ]
       },
       "layer": [
        {
         "encoding": {
          "x": {
           "field": "x1",
           "type": "quantitative"
          },
          "y": {
           "field": "ŷ",
           "type": "quantitative"
          }
         },
         "mark": "line"
        },
        {
         "encoding": {
          "x": {
           "field": "x1",
           "type": "quantitative"
          },
          "y": {
           "field": "y",
           "type": "quantitative"
          }
         },
         "mark": "point"
        }
       ]
      },
      "image/png": "[encoded data removed]",
      "text/plain": [
       "<VegaLite 3 object>\n",
       "\n",
       "If you see this message, it means the renderer has not been properly enabled\n",
       "for the frontend that you are using. For more information, see\n",
       "https://altair-viz.github.io/user_guide/troubleshooting.html\n"
      ]
     },
     "execution_count": 216,
     "metadata": {},
     "output_type": "execute_result"
    }
   ],
   "source": [
    "preds = pd.DataFrame({'ŷ':my_model(x).detach().numpy()[:,0], 'y':y[:,0], 'x1':x[:,0]})\n",
    "(alt.Chart(preds).mark_line().encode(x='x1', y='ŷ') + \n",
    "alt.Chart(preds).mark_point().encode(x='x1', y='y'))"
   ]
  },
  {
   "cell_type": "markdown",
   "metadata": {},
   "source": [
    "Now it's trivial to add more layers or change their sizes. Let's also a new dataset with a different relationship between $x$ and $y$ to see we can fit pretty arbitrary nonlinearities."
   ]
  },
  {
   "cell_type": "code",
   "execution_count": 221,
   "metadata": {},
   "outputs": [],
   "source": [
    "x = torch.randn(n, p) # predictors (n observations, p features)\n",
    "y = (x[:,0]**3 + torch.sin(4*x[:,0])).unsqueeze(dim=1) # outcomes (n observations)"
   ]
  },
  {
   "cell_type": "code",
   "execution_count": 222,
   "metadata": {},
   "outputs": [],
   "source": [
    "my_model = Model([1,10,50,5,5,1])\n",
    "\n",
    "n_steps = 2000\n",
    "ϵ = 0.5*10e-4\n",
    "loss_record = []\n",
    "\n",
    "for e in range(n_steps):\n",
    "    ŷ = my_model(x) \n",
    "    L = torch.sum((y-ŷ)**2)/len(ŷ)\n",
    "    \n",
    "    loss_record.append(L.item())\n",
    "    L.backward()\n",
    "    \n",
    "    my_model.step(ϵ)"
   ]
  },
  {
   "cell_type": "code",
   "execution_count": 223,
   "metadata": {},
   "outputs": [
    {
     "data": {
      "application/vnd.vegalite.v3+json": {
       "$schema": "https://vega.github.io/schema/vega-lite/v3.4.0.json",
       "config": {
        "mark": {
         "tooltip": null
        },
        "view": {
         "height": 300,
         "width": 400
        }
       },
       "data": {
        "name": "data-50b25217710712059c27206ebd7ffe17"
       },
       "datasets": {
        "data-50b25217710712059c27206ebd7ffe17": [
         {
          "i": 0,
          "loss": 230.18185424804688
         },
         {
          "i": 1,
          "loss": 32.696720123291016
         },
         {
          "i": 2,
          "loss": 19.996156692504883
         },
         {
          "i": 3,
          "loss": 15.048674583435059
         },
         {
          "i": 4,
          "loss": 12.068487167358398
         },
         {
          "i": 5,
          "loss": 10.162900924682617
         },
         {
          "i": 6,
          "loss": 8.896197319030762
         },
         {
          "i": 7,
          "loss": 8.020445823669434
         },
         {
          "i": 8,
          "loss": 7.395337104797363
         },
         {
          "i": 9,
          "loss": 6.937153339385986
         },
         {
          "i": 10,
          "loss": 6.590630054473877
         },
         {
          "i": 11,
          "loss": 6.320368766784668
         },
         {
          "i": 12,
          "loss": 6.10361385345459
         },
         {
          "i": 13,
          "loss": 5.923748970031738
         },
         {
          "i": 14,
          "loss": 5.772703647613525
         },
         {
          "i": 15,
          "loss": 5.641734600067139
         },
         {
          "i": 16,
          "loss": 5.527736186981201
         },
         {
          "i": 17,
          "loss": 5.4257283210754395
         },
         {
          "i": 18,
          "loss": 5.337217807769775
         },
         {
          "i": 19,
          "loss": 5.2588324546813965
         },
         {
          "i": 20,
          "loss": 5.189538478851318
         },
         {
          "i": 21,
          "loss": 5.1271071434021
         },
         {
          "i": 22,
          "loss": 5.070810317993164
         },
         {
          "i": 23,
          "loss": 5.020606517791748
         },
         {
          "i": 24,
          "loss": 4.973949432373047
         },
         {
          "i": 25,
          "loss": 4.921597480773926
         },
         {
          "i": 26,
          "loss": 4.866537094116211
         },
         {
          "i": 27,
          "loss": 4.821237087249756
         },
         {
          "i": 28,
          "loss": 4.779578685760498
         },
         {
          "i": 29,
          "loss": 4.746551036834717
         },
         {
          "i": 30,
          "loss": 4.716432094573975
         },
         {
          "i": 31,
          "loss": 4.68973445892334
         },
         {
          "i": 32,
          "loss": 4.664742946624756
         },
         {
          "i": 33,
          "loss": 4.641019821166992
         },
         {
          "i": 34,
          "loss": 4.618592739105225
         },
         {
          "i": 35,
          "loss": 4.596833229064941
         },
         {
          "i": 36,
          "loss": 4.575617790222168
         },
         {
          "i": 37,
          "loss": 4.554504871368408
         },
         {
          "i": 38,
          "loss": 4.533667087554932
         },
         {
          "i": 39,
          "loss": 4.51343297958374
         },
         {
          "i": 40,
          "loss": 4.493239879608154
         },
         {
          "i": 41,
          "loss": 4.473698616027832
         },
         {
          "i": 42,
          "loss": 4.454898834228516
         },
         {
          "i": 43,
          "loss": 4.436547756195068
         },
         {
          "i": 44,
          "loss": 4.418603420257568
         },
         {
          "i": 45,
          "loss": 4.40153169631958
         },
         {
          "i": 46,
          "loss": 4.384329795837402
         },
         {
          "i": 47,
          "loss": 4.367281436920166
         },
         {
          "i": 48,
          "loss": 4.350551605224609
         },
         {
          "i": 49,
          "loss": 4.334114074707031
         },
         {
          "i": 50,
          "loss": 4.317953586578369
         },
         {
          "i": 51,
          "loss": 4.302067756652832
         },
         {
          "i": 52,
          "loss": 4.286447048187256
         },
         {
          "i": 53,
          "loss": 4.271080493927002
         },
         {
          "i": 54,
          "loss": 4.255957126617432
         },
         {
          "i": 55,
          "loss": 4.24133825302124
         },
         {
          "i": 56,
          "loss": 4.226974010467529
         },
         {
          "i": 57,
          "loss": 4.2125091552734375
         },
         {
          "i": 58,
          "loss": 4.198666572570801
         },
         {
          "i": 59,
          "loss": 4.185033798217773
         },
         {
          "i": 60,
          "loss": 4.17160177230835
         },
         {
          "i": 61,
          "loss": 4.158092498779297
         },
         {
          "i": 62,
          "loss": 4.144460678100586
         },
         {
          "i": 63,
          "loss": 4.131120681762695
         },
         {
          "i": 64,
          "loss": 4.118196487426758
         },
         {
          "i": 65,
          "loss": 4.105494976043701
         },
         {
          "i": 66,
          "loss": 4.093041896820068
         },
         {
          "i": 67,
          "loss": 4.080829620361328
         },
         {
          "i": 68,
          "loss": 4.069128036499023
         },
         {
          "i": 69,
          "loss": 4.057075023651123
         },
         {
          "i": 70,
          "loss": 4.0446600914001465
         },
         {
          "i": 71,
          "loss": 4.03239107131958
         },
         {
          "i": 72,
          "loss": 4.020297050476074
         },
         {
          "i": 73,
          "loss": 4.008426189422607
         },
         {
          "i": 74,
          "loss": 3.996939182281494
         },
         {
          "i": 75,
          "loss": 3.9855926036834717
         },
         {
          "i": 76,
          "loss": 3.97438907623291
         },
         {
          "i": 77,
          "loss": 3.9633262157440186
         },
         {
          "i": 78,
          "loss": 3.952395439147949
         },
         {
          "i": 79,
          "loss": 3.9415981769561768
         },
         {
          "i": 80,
          "loss": 3.9308884143829346
         },
         {
          "i": 81,
          "loss": 3.9204893112182617
         },
         {
          "i": 82,
          "loss": 3.910288095474243
         },
         {
          "i": 83,
          "loss": 3.8999173641204834
         },
         {
          "i": 84,
          "loss": 3.8896944522857666
         },
         {
          "i": 85,
          "loss": 3.8796024322509766
         },
         {
          "i": 86,
          "loss": 3.8696372509002686
         },
         {
          "i": 87,
          "loss": 3.8598196506500244
         },
         {
          "i": 88,
          "loss": 3.8501322269439697
         },
         {
          "i": 89,
          "loss": 3.8405632972717285
         },
         {
          "i": 90,
          "loss": 3.8311071395874023
         },
         {
          "i": 91,
          "loss": 3.821765184402466
         },
         {
          "i": 92,
          "loss": 3.812540292739868
         },
         {
          "i": 93,
          "loss": 3.8034284114837646
         },
         {
          "i": 94,
          "loss": 3.7944300174713135
         },
         {
          "i": 95,
          "loss": 3.7855453491210938
         },
         {
          "i": 96,
          "loss": 3.7767562866210938
         },
         {
          "i": 97,
          "loss": 3.7682712078094482
         },
         {
          "i": 98,
          "loss": 3.7599375247955322
         },
         {
          "i": 99,
          "loss": 3.751397132873535
         },
         {
          "i": 100,
          "loss": 3.7429986000061035
         },
         {
          "i": 101,
          "loss": 3.734736680984497
         },
         {
          "i": 102,
          "loss": 3.726572036743164
         },
         {
          "i": 103,
          "loss": 3.7185065746307373
         },
         {
          "i": 104,
          "loss": 3.7105557918548584
         },
         {
          "i": 105,
          "loss": 3.7026848793029785
         },
         {
          "i": 106,
          "loss": 3.694901704788208
         },
         {
          "i": 107,
          "loss": 3.6872246265411377
         },
         {
          "i": 108,
          "loss": 3.6795897483825684
         },
         {
          "i": 109,
          "loss": 3.672055721282959
         },
         {
          "i": 110,
          "loss": 3.6646065711975098
         },
         {
          "i": 111,
          "loss": 3.657238245010376
         },
         {
          "i": 112,
          "loss": 3.6499602794647217
         },
         {
          "i": 113,
          "loss": 3.6427676677703857
         },
         {
          "i": 114,
          "loss": 3.63584041595459
         },
         {
          "i": 115,
          "loss": 3.6290369033813477
         },
         {
          "i": 116,
          "loss": 3.6220548152923584
         },
         {
          "i": 117,
          "loss": 3.6151981353759766
         },
         {
          "i": 118,
          "loss": 3.6084296703338623
         },
         {
          "i": 119,
          "loss": 3.6017422676086426
         },
         {
          "i": 120,
          "loss": 3.5951342582702637
         },
         {
          "i": 121,
          "loss": 3.588543176651001
         },
         {
          "i": 122,
          "loss": 3.582040309906006
         },
         {
          "i": 123,
          "loss": 3.5756163597106934
         },
         {
          "i": 124,
          "loss": 3.569277286529541
         },
         {
          "i": 125,
          "loss": 3.5630180835723877
         },
         {
          "i": 126,
          "loss": 3.5568344593048096
         },
         {
          "i": 127,
          "loss": 3.550814628601074
         },
         {
          "i": 128,
          "loss": 3.545106887817383
         },
         {
          "i": 129,
          "loss": 3.539459466934204
         },
         {
          "i": 130,
          "loss": 3.533878803253174
         },
         {
          "i": 131,
          "loss": 3.528371572494507
         },
         {
          "i": 132,
          "loss": 3.5231101512908936
         },
         {
          "i": 133,
          "loss": 3.5179028511047363
         },
         {
          "i": 134,
          "loss": 3.5125174522399902
         },
         {
          "i": 135,
          "loss": 3.5072402954101562
         },
         {
          "i": 136,
          "loss": 3.502030372619629
         },
         {
          "i": 137,
          "loss": 3.4968793392181396
         },
         {
          "i": 138,
          "loss": 3.4917876720428467
         },
         {
          "i": 139,
          "loss": 3.4867513179779053
         },
         {
          "i": 140,
          "loss": 3.481759548187256
         },
         {
          "i": 141,
          "loss": 3.476522207260132
         },
         {
          "i": 142,
          "loss": 3.471344232559204
         },
         {
          "i": 143,
          "loss": 3.4662322998046875
         },
         {
          "i": 144,
          "loss": 3.461256742477417
         },
         {
          "i": 145,
          "loss": 3.456434726715088
         },
         {
          "i": 146,
          "loss": 3.4516689777374268
         },
         {
          "i": 147,
          "loss": 3.446962356567383
         },
         {
          "i": 148,
          "loss": 3.442314863204956
         },
         {
          "i": 149,
          "loss": 3.4377169609069824
         },
         {
          "i": 150,
          "loss": 3.4331705570220947
         },
         {
          "i": 151,
          "loss": 3.4286811351776123
         },
         {
          "i": 152,
          "loss": 3.4242565631866455
         },
         {
          "i": 153,
          "loss": 3.4202027320861816
         },
         {
          "i": 154,
          "loss": 3.4158191680908203
         },
         {
          "i": 155,
          "loss": 3.411541223526001
         },
         {
          "i": 156,
          "loss": 3.4073169231414795
         },
         {
          "i": 157,
          "loss": 3.403129816055298
         },
         {
          "i": 158,
          "loss": 3.39898681640625
         },
         {
          "i": 159,
          "loss": 3.3948843479156494
         },
         {
          "i": 160,
          "loss": 3.3908233642578125
         },
         {
          "i": 161,
          "loss": 3.3868014812469482
         },
         {
          "i": 162,
          "loss": 3.3828225135803223
         },
         {
          "i": 163,
          "loss": 3.3788857460021973
         },
         {
          "i": 164,
          "loss": 3.3749890327453613
         },
         {
          "i": 165,
          "loss": 3.3711304664611816
         },
         {
          "i": 166,
          "loss": 3.3673157691955566
         },
         {
          "i": 167,
          "loss": 3.363537073135376
         },
         {
          "i": 168,
          "loss": 3.3597939014434814
         },
         {
          "i": 169,
          "loss": 3.356079339981079
         },
         {
          "i": 170,
          "loss": 3.3524010181427
         },
         {
          "i": 171,
          "loss": 3.348757266998291
         },
         {
          "i": 172,
          "loss": 3.3451483249664307
         },
         {
          "i": 173,
          "loss": 3.3417627811431885
         },
         {
          "i": 174,
          "loss": 3.3383450508117676
         },
         {
          "i": 175,
          "loss": 3.3347887992858887
         },
         {
          "i": 176,
          "loss": 3.3312954902648926
         },
         {
          "i": 177,
          "loss": 3.3278307914733887
         },
         {
          "i": 178,
          "loss": 3.3244006633758545
         },
         {
          "i": 179,
          "loss": 3.3210015296936035
         },
         {
          "i": 180,
          "loss": 3.3176331520080566
         },
         {
          "i": 181,
          "loss": 3.3142893314361572
         },
         {
          "i": 182,
          "loss": 3.3109781742095947
         },
         {
          "i": 183,
          "loss": 3.3076953887939453
         },
         {
          "i": 184,
          "loss": 3.3044426441192627
         },
         {
          "i": 185,
          "loss": 3.3012194633483887
         },
         {
          "i": 186,
          "loss": 3.2980258464813232
         },
         {
          "i": 187,
          "loss": 3.2949042320251465
         },
         {
          "i": 188,
          "loss": 3.2918686866760254
         },
         {
          "i": 189,
          "loss": 3.288856267929077
         },
         {
          "i": 190,
          "loss": 3.2858691215515137
         },
         {
          "i": 191,
          "loss": 3.282905340194702
         },
         {
          "i": 192,
          "loss": 3.279963731765747
         },
         {
          "i": 193,
          "loss": 3.277045488357544
         },
         {
          "i": 194,
          "loss": 3.274233102798462
         },
         {
          "i": 195,
          "loss": 3.2715790271759033
         },
         {
          "i": 196,
          "loss": 3.2686820030212402
         },
         {
          "i": 197,
          "loss": 3.2658321857452393
         },
         {
          "i": 198,
          "loss": 3.2629992961883545
         },
         {
          "i": 199,
          "loss": 3.2601888179779053
         },
         {
          "i": 200,
          "loss": 3.257387399673462
         },
         {
          "i": 201,
          "loss": 3.2546048164367676
         },
         {
          "i": 202,
          "loss": 3.251840591430664
         },
         {
          "i": 203,
          "loss": 3.249126672744751
         },
         {
          "i": 204,
          "loss": 3.246462106704712
         },
         {
          "i": 205,
          "loss": 3.2438161373138428
         },
         {
          "i": 206,
          "loss": 3.2411530017852783
         },
         {
          "i": 207,
          "loss": 3.2385599613189697
         },
         {
          "i": 208,
          "loss": 3.2359304428100586
         },
         {
          "i": 209,
          "loss": 3.233335256576538
         },
         {
          "i": 210,
          "loss": 3.230766534805298
         },
         {
          "i": 211,
          "loss": 3.2281923294067383
         },
         {
          "i": 212,
          "loss": 3.2257165908813477
         },
         {
          "i": 213,
          "loss": 3.2231862545013428
         },
         {
          "i": 214,
          "loss": 3.2207391262054443
         },
         {
          "i": 215,
          "loss": 3.2182364463806152
         },
         {
          "i": 216,
          "loss": 3.215806245803833
         },
         {
          "i": 217,
          "loss": 3.2135653495788574
         },
         {
          "i": 218,
          "loss": 3.2112197875976562
         },
         {
          "i": 219,
          "loss": 3.208742618560791
         },
         {
          "i": 220,
          "loss": 3.2063286304473877
         },
         {
          "i": 221,
          "loss": 3.203911066055298
         },
         {
          "i": 222,
          "loss": 3.2015132904052734
         },
         {
          "i": 223,
          "loss": 3.199124336242676
         },
         {
          "i": 224,
          "loss": 3.196737289428711
         },
         {
          "i": 225,
          "loss": 3.1943771839141846
         },
         {
          "i": 226,
          "loss": 3.1920011043548584
         },
         {
          "i": 227,
          "loss": 3.1896729469299316
         },
         {
          "i": 228,
          "loss": 3.1873044967651367
         },
         {
          "i": 229,
          "loss": 3.1850059032440186
         },
         {
          "i": 230,
          "loss": 3.1826555728912354
         },
         {
          "i": 231,
          "loss": 3.1803672313690186
         },
         {
          "i": 232,
          "loss": 3.178046464920044
         },
         {
          "i": 233,
          "loss": 3.1757593154907227
         },
         {
          "i": 234,
          "loss": 3.1734731197357178
         },
         {
          "i": 235,
          "loss": 3.1711928844451904
         },
         {
          "i": 236,
          "loss": 3.1689395904541016
         },
         {
          "i": 237,
          "loss": 3.166661262512207
         },
         {
          "i": 238,
          "loss": 3.164440870285034
         },
         {
          "i": 239,
          "loss": 3.1621761322021484
         },
         {
          "i": 240,
          "loss": 3.1601181030273438
         },
         {
          "i": 241,
          "loss": 3.1580095291137695
         },
         {
          "i": 242,
          "loss": 3.155749559402466
         },
         {
          "i": 243,
          "loss": 3.153538703918457
         },
         {
          "i": 244,
          "loss": 3.1513047218322754
         },
         {
          "i": 245,
          "loss": 3.1491315364837646
         },
         {
          "i": 246,
          "loss": 3.146916151046753
         },
         {
          "i": 247,
          "loss": 3.144737958908081
         },
         {
          "i": 248,
          "loss": 3.1425583362579346
         },
         {
          "i": 249,
          "loss": 3.1403720378875732
         },
         {
          "i": 250,
          "loss": 3.138230800628662
         },
         {
          "i": 251,
          "loss": 3.136051893234253
         },
         {
          "i": 252,
          "loss": 3.133913040161133
         },
         {
          "i": 253,
          "loss": 3.131765842437744
         },
         {
          "i": 254,
          "loss": 3.129612445831299
         },
         {
          "i": 255,
          "loss": 3.127497673034668
         },
         {
          "i": 256,
          "loss": 3.125347852706909
         },
         {
          "i": 257,
          "loss": 3.123227834701538
         },
         {
          "i": 258,
          "loss": 3.1211113929748535
         },
         {
          "i": 259,
          "loss": 3.1189801692962646
         },
         {
          "i": 260,
          "loss": 3.116894483566284
         },
         {
          "i": 261,
          "loss": 3.1147775650024414
         },
         {
          "i": 262,
          "loss": 3.1126668453216553
         },
         {
          "i": 263,
          "loss": 3.1105856895446777
         },
         {
          "i": 264,
          "loss": 3.108638286590576
         },
         {
          "i": 265,
          "loss": 3.1066722869873047
         },
         {
          "i": 266,
          "loss": 3.104555368423462
         },
         {
          "i": 267,
          "loss": 3.1024508476257324
         },
         {
          "i": 268,
          "loss": 3.10038423538208
         },
         {
          "i": 269,
          "loss": 3.0983095169067383
         },
         {
          "i": 270,
          "loss": 3.096230983734131
         },
         {
          "i": 271,
          "loss": 3.0941882133483887
         },
         {
          "i": 272,
          "loss": 3.0921106338500977
         },
         {
          "i": 273,
          "loss": 3.0900347232818604
         },
         {
          "i": 274,
          "loss": 3.0879971981048584
         },
         {
          "i": 275,
          "loss": 3.0859320163726807
         },
         {
          "i": 276,
          "loss": 3.0838699340820312
         },
         {
          "i": 277,
          "loss": 3.0818440914154053
         },
         {
          "i": 278,
          "loss": 3.0797934532165527
         },
         {
          "i": 279,
          "loss": 3.0777437686920166
         },
         {
          "i": 280,
          "loss": 3.0757250785827637
         },
         {
          "i": 281,
          "loss": 3.073690176010132
         },
         {
          "i": 282,
          "loss": 3.071653127670288
         },
         {
          "i": 283,
          "loss": 3.069639205932617
         },
         {
          "i": 284,
          "loss": 3.0676205158233643
         },
         {
          "i": 285,
          "loss": 3.0655789375305176
         },
         {
          "i": 286,
          "loss": 3.0635509490966797
         },
         {
          "i": 287,
          "loss": 3.0615386962890625
         },
         {
          "i": 288,
          "loss": 3.059678316116333
         },
         {
          "i": 289,
          "loss": 3.057765007019043
         },
         {
          "i": 290,
          "loss": 3.0557379722595215
         },
         {
          "i": 291,
          "loss": 3.053708791732788
         },
         {
          "i": 292,
          "loss": 3.0516881942749023
         },
         {
          "i": 293,
          "loss": 3.0496976375579834
         },
         {
          "i": 294,
          "loss": 3.047696113586426
         },
         {
          "i": 295,
          "loss": 3.0456888675689697
         },
         {
          "i": 296,
          "loss": 3.043696403503418
         },
         {
          "i": 297,
          "loss": 3.0417120456695557
         },
         {
          "i": 298,
          "loss": 3.03971791267395
         },
         {
          "i": 299,
          "loss": 3.0377309322357178
         },
         {
          "i": 300,
          "loss": 3.0357580184936523
         },
         {
          "i": 301,
          "loss": 3.0337743759155273
         },
         {
          "i": 302,
          "loss": 3.0317914485931396
         },
         {
          "i": 303,
          "loss": 3.0298357009887695
         },
         {
          "i": 304,
          "loss": 3.0278615951538086
         },
         {
          "i": 305,
          "loss": 3.0258851051330566
         },
         {
          "i": 306,
          "loss": 3.0239362716674805
         },
         {
          "i": 307,
          "loss": 3.02197265625
         },
         {
          "i": 308,
          "loss": 3.020010471343994
         },
         {
          "i": 309,
          "loss": 3.018059730529785
         },
         {
          "i": 310,
          "loss": 3.0161144733428955
         },
         {
          "i": 311,
          "loss": 3.0141654014587402
         },
         {
          "i": 312,
          "loss": 3.012490749359131
         },
         {
          "i": 313,
          "loss": 3.010525703430176
         },
         {
          "i": 314,
          "loss": 3.008561134338379
         },
         {
          "i": 315,
          "loss": 3.006610631942749
         },
         {
          "i": 316,
          "loss": 3.0046584606170654
         },
         {
          "i": 317,
          "loss": 3.0027353763580322
         },
         {
          "i": 318,
          "loss": 3.0007927417755127
         },
         {
          "i": 319,
          "loss": 2.998849868774414
         },
         {
          "i": 320,
          "loss": 2.9969260692596436
         },
         {
          "i": 321,
          "loss": 2.995002508163452
         },
         {
          "i": 322,
          "loss": 2.993065595626831
         },
         {
          "i": 323,
          "loss": 2.991135597229004
         },
         {
          "i": 324,
          "loss": 2.989213466644287
         },
         {
          "i": 325,
          "loss": 2.9872968196868896
         },
         {
          "i": 326,
          "loss": 2.9853687286376953
         },
         {
          "i": 327,
          "loss": 2.9834461212158203
         },
         {
          "i": 328,
          "loss": 2.9815304279327393
         },
         {
          "i": 329,
          "loss": 2.9796242713928223
         },
         {
          "i": 330,
          "loss": 2.9777002334594727
         },
         {
          "i": 331,
          "loss": 2.9757800102233887
         },
         {
          "i": 332,
          "loss": 2.9738757610321045
         },
         {
          "i": 333,
          "loss": 2.9719719886779785
         },
         {
          "i": 334,
          "loss": 2.97005558013916
         },
         {
          "i": 335,
          "loss": 2.9683423042297363
         },
         {
          "i": 336,
          "loss": 2.9665234088897705
         },
         {
          "i": 337,
          "loss": 2.9645919799804688
         },
         {
          "i": 338,
          "loss": 2.9626758098602295
         },
         {
          "i": 339,
          "loss": 2.960764169692993
         },
         {
          "i": 340,
          "loss": 2.958859920501709
         },
         {
          "i": 341,
          "loss": 2.9569520950317383
         },
         {
          "i": 342,
          "loss": 2.955064058303833
         },
         {
          "i": 343,
          "loss": 2.9531638622283936
         },
         {
          "i": 344,
          "loss": 2.951268196105957
         },
         {
          "i": 345,
          "loss": 2.949368953704834
         },
         {
          "i": 346,
          "loss": 2.9474856853485107
         },
         {
          "i": 347,
          "loss": 2.945601463317871
         },
         {
          "i": 348,
          "loss": 2.9437079429626465
         },
         {
          "i": 349,
          "loss": 2.9418158531188965
         },
         {
          "i": 350,
          "loss": 2.939927577972412
         },
         {
          "i": 351,
          "loss": 2.938049077987671
         },
         {
          "i": 352,
          "loss": 2.936168909072876
         },
         {
          "i": 353,
          "loss": 2.934283494949341
         },
         {
          "i": 354,
          "loss": 2.932400703430176
         },
         {
          "i": 355,
          "loss": 2.9305202960968018
         },
         {
          "i": 356,
          "loss": 2.928642511367798
         },
         {
          "i": 357,
          "loss": 2.926823139190674
         },
         {
          "i": 358,
          "loss": 2.925166368484497
         },
         {
          "i": 359,
          "loss": 2.923259973526001
         },
         {
          "i": 360,
          "loss": 2.921376943588257
         },
         {
          "i": 361,
          "loss": 2.9194934368133545
         },
         {
          "i": 362,
          "loss": 2.9176218509674072
         },
         {
          "i": 363,
          "loss": 2.915753126144409
         },
         {
          "i": 364,
          "loss": 2.9138760566711426
         },
         {
          "i": 365,
          "loss": 2.912001609802246
         },
         {
          "i": 366,
          "loss": 2.910128593444824
         },
         {
          "i": 367,
          "loss": 2.9082536697387695
         },
         {
          "i": 368,
          "loss": 2.9063870906829834
         },
         {
          "i": 369,
          "loss": 2.9045119285583496
         },
         {
          "i": 370,
          "loss": 2.9026334285736084
         },
         {
          "i": 371,
          "loss": 2.9007558822631836
         },
         {
          "i": 372,
          "loss": 2.8988802433013916
         },
         {
          "i": 373,
          "loss": 2.8970067501068115
         },
         {
          "i": 374,
          "loss": 2.8951358795166016
         },
         {
          "i": 375,
          "loss": 2.8932671546936035
         },
         {
          "i": 376,
          "loss": 2.8913793563842773
         },
         {
          "i": 377,
          "loss": 2.8894824981689453
         },
         {
          "i": 378,
          "loss": 2.8875815868377686
         },
         {
          "i": 379,
          "loss": 2.885685920715332
         },
         {
          "i": 380,
          "loss": 2.8840606212615967
         },
         {
          "i": 381,
          "loss": 2.8821325302124023
         },
         {
          "i": 382,
          "loss": 2.880228042602539
         },
         {
          "i": 383,
          "loss": 2.8783211708068848
         },
         {
          "i": 384,
          "loss": 2.8764171600341797
         },
         {
          "i": 385,
          "loss": 2.8745224475860596
         },
         {
          "i": 386,
          "loss": 2.8726308345794678
         },
         {
          "i": 387,
          "loss": 2.8707361221313477
         },
         {
          "i": 388,
          "loss": 2.8688418865203857
         },
         {
          "i": 389,
          "loss": 2.866947889328003
         },
         {
          "i": 390,
          "loss": 2.8650548458099365
         },
         {
          "i": 391,
          "loss": 2.8631603717803955
         },
         {
          "i": 392,
          "loss": 2.8612592220306396
         },
         {
          "i": 393,
          "loss": 2.8593578338623047
         },
         {
          "i": 394,
          "loss": 2.8574535846710205
         },
         {
          "i": 395,
          "loss": 2.8555550575256348
         },
         {
          "i": 396,
          "loss": 2.853663444519043
         },
         {
          "i": 397,
          "loss": 2.8517720699310303
         },
         {
          "i": 398,
          "loss": 2.8498833179473877
         },
         {
          "i": 399,
          "loss": 2.847996234893799
         },
         {
          "i": 400,
          "loss": 2.8461122512817383
         },
         {
          "i": 401,
          "loss": 2.844362258911133
         },
         {
          "i": 402,
          "loss": 2.8426215648651123
         },
         {
          "i": 403,
          "loss": 2.8407113552093506
         },
         {
          "i": 404,
          "loss": 2.838815689086914
         },
         {
          "i": 405,
          "loss": 2.8369252681732178
         },
         {
          "i": 406,
          "loss": 2.8350396156311035
         },
         {
          "i": 407,
          "loss": 2.833155632019043
         },
         {
          "i": 408,
          "loss": 2.831273078918457
         },
         {
          "i": 409,
          "loss": 2.8293890953063965
         },
         {
          "i": 410,
          "loss": 2.8275063037872314
         },
         {
          "i": 411,
          "loss": 2.8256261348724365
         },
         {
          "i": 412,
          "loss": 2.823746919631958
         },
         {
          "i": 413,
          "loss": 2.8218653202056885
         },
         {
          "i": 414,
          "loss": 2.81998348236084
         },
         {
          "i": 415,
          "loss": 2.818101406097412
         },
         {
          "i": 416,
          "loss": 2.816220760345459
         },
         {
          "i": 417,
          "loss": 2.8143389225006104
         },
         {
          "i": 418,
          "loss": 2.8124594688415527
         },
         {
          "i": 419,
          "loss": 2.810580253601074
         },
         {
          "i": 420,
          "loss": 2.808696985244751
         },
         {
          "i": 421,
          "loss": 2.806816339492798
         },
         {
          "i": 422,
          "loss": 2.8050875663757324
         },
         {
          "i": 423,
          "loss": 2.8033385276794434
         },
         {
          "i": 424,
          "loss": 2.801434278488159
         },
         {
          "i": 425,
          "loss": 2.7995409965515137
         },
         {
          "i": 426,
          "loss": 2.7976534366607666
         },
         {
          "i": 427,
          "loss": 2.7957699298858643
         },
         {
          "i": 428,
          "loss": 2.793888568878174
         },
         {
          "i": 429,
          "loss": 2.7920031547546387
         },
         {
          "i": 430,
          "loss": 2.7901198863983154
         },
         {
          "i": 431,
          "loss": 2.7882399559020996
         },
         {
          "i": 432,
          "loss": 2.786360263824463
         },
         {
          "i": 433,
          "loss": 2.784480571746826
         },
         {
          "i": 434,
          "loss": 2.7826015949249268
         },
         {
          "i": 435,
          "loss": 2.780717372894287
         },
         {
          "i": 436,
          "loss": 2.778815507888794
         },
         {
          "i": 437,
          "loss": 2.7769153118133545
         },
         {
          "i": 438,
          "loss": 2.775014877319336
         },
         {
          "i": 439,
          "loss": 2.7731142044067383
         },
         {
          "i": 440,
          "loss": 2.7712132930755615
         },
         {
          "i": 441,
          "loss": 2.769314765930176
         },
         {
          "i": 442,
          "loss": 2.7674636840820312
         },
         {
          "i": 443,
          "loss": 2.765812397003174
         },
         {
          "i": 444,
          "loss": 2.7638959884643555
         },
         {
          "i": 445,
          "loss": 2.7619876861572266
         },
         {
          "i": 446,
          "loss": 2.760087013244629
         },
         {
          "i": 447,
          "loss": 2.758190393447876
         },
         {
          "i": 448,
          "loss": 2.7562930583953857
         },
         {
          "i": 449,
          "loss": 2.7543959617614746
         },
         {
          "i": 450,
          "loss": 2.752498149871826
         },
         {
          "i": 451,
          "loss": 2.750600576400757
         },
         {
          "i": 452,
          "loss": 2.7487032413482666
         },
         {
          "i": 453,
          "loss": 2.746805191040039
         },
         {
          "i": 454,
          "loss": 2.744908094406128
         },
         {
          "i": 455,
          "loss": 2.7430102825164795
         },
         {
          "i": 456,
          "loss": 2.7411131858825684
         },
         {
          "i": 457,
          "loss": 2.739215612411499
         },
         {
          "i": 458,
          "loss": 2.7373175621032715
         },
         {
          "i": 459,
          "loss": 2.735419988632202
         },
         {
          "i": 460,
          "loss": 2.733520746231079
         },
         {
          "i": 461,
          "loss": 2.731621026992798
         },
         {
          "i": 462,
          "loss": 2.7297792434692383
         },
         {
          "i": 463,
          "loss": 2.7281084060668945
         },
         {
          "i": 464,
          "loss": 2.726180076599121
         },
         {
          "i": 465,
          "loss": 2.724269151687622
         },
         {
          "i": 466,
          "loss": 2.722364902496338
         },
         {
          "i": 467,
          "loss": 2.7204666137695312
         },
         {
          "i": 468,
          "loss": 2.7185678482055664
         },
         {
          "i": 469,
          "loss": 2.7166662216186523
         },
         {
          "i": 470,
          "loss": 2.714754581451416
         },
         {
          "i": 471,
          "loss": 2.712843418121338
         },
         {
          "i": 472,
          "loss": 2.7109322547912598
         },
         {
          "i": 473,
          "loss": 2.7090206146240234
         },
         {
          "i": 474,
          "loss": 2.707108974456787
         },
         {
          "i": 475,
          "loss": 2.705197334289551
         },
         {
          "i": 476,
          "loss": 2.703284502029419
         },
         {
          "i": 477,
          "loss": 2.7013723850250244
         },
         {
          "i": 478,
          "loss": 2.699458599090576
         },
         {
          "i": 479,
          "loss": 2.6975455284118652
         },
         {
          "i": 480,
          "loss": 2.6956305503845215
         },
         {
          "i": 481,
          "loss": 2.693716526031494
         },
         {
          "i": 482,
          "loss": 2.691985845565796
         },
         {
          "i": 483,
          "loss": 2.6901700496673584
         },
         {
          "i": 484,
          "loss": 2.688225507736206
         },
         {
          "i": 485,
          "loss": 2.686305522918701
         },
         {
          "i": 486,
          "loss": 2.684399366378784
         },
         {
          "i": 487,
          "loss": 2.6824917793273926
         },
         {
          "i": 488,
          "loss": 2.68058705329895
         },
         {
          "i": 489,
          "loss": 2.6786813735961914
         },
         {
          "i": 490,
          "loss": 2.6767752170562744
         },
         {
          "i": 491,
          "loss": 2.6748714447021484
         },
         {
          "i": 492,
          "loss": 2.6729648113250732
         },
         {
          "i": 493,
          "loss": 2.6710596084594727
         },
         {
          "i": 494,
          "loss": 2.66915225982666
         },
         {
          "i": 495,
          "loss": 2.6672582626342773
         },
         {
          "i": 496,
          "loss": 2.6655402183532715
         },
         {
          "i": 497,
          "loss": 2.6636312007904053
         },
         {
          "i": 498,
          "loss": 2.661722183227539
         },
         {
          "i": 499,
          "loss": 2.6598129272460938
         },
         {
          "i": 500,
          "loss": 2.6579020023345947
         },
         {
          "i": 501,
          "loss": 2.656162977218628
         },
         {
          "i": 502,
          "loss": 2.6543657779693604
         },
         {
          "i": 503,
          "loss": 2.6524269580841064
         },
         {
          "i": 504,
          "loss": 2.650510549545288
         },
         {
          "i": 505,
          "loss": 2.6486010551452637
         },
         {
          "i": 506,
          "loss": 2.6467244625091553
         },
         {
          "i": 507,
          "loss": 2.6449484825134277
         },
         {
          "i": 508,
          "loss": 2.642970561981201
         },
         {
          "i": 509,
          "loss": 2.6409945487976074
         },
         {
          "i": 510,
          "loss": 2.639017343521118
         },
         {
          "i": 511,
          "loss": 2.637042284011841
         },
         {
          "i": 512,
          "loss": 2.6350650787353516
         },
         {
          "i": 513,
          "loss": 2.633089303970337
         },
         {
          "i": 514,
          "loss": 2.6311120986938477
         },
         {
          "i": 515,
          "loss": 2.629136562347412
         },
         {
          "i": 516,
          "loss": 2.6271605491638184
         },
         {
          "i": 517,
          "loss": 2.625185489654541
         },
         {
          "i": 518,
          "loss": 2.6232104301452637
         },
         {
          "i": 519,
          "loss": 2.6216394901275635
         },
         {
          "i": 520,
          "loss": 2.620168447494507
         },
         {
          "i": 521,
          "loss": 2.618126153945923
         },
         {
          "i": 522,
          "loss": 2.6161386966705322
         },
         {
          "i": 523,
          "loss": 2.614149808883667
         },
         {
          "i": 524,
          "loss": 2.612163782119751
         },
         {
          "i": 525,
          "loss": 2.6101784706115723
         },
         {
          "i": 526,
          "loss": 2.6081924438476562
         },
         {
          "i": 527,
          "loss": 2.6062073707580566
         },
         {
          "i": 528,
          "loss": 2.6042237281799316
         },
         {
          "i": 529,
          "loss": 2.6022391319274902
         },
         {
          "i": 530,
          "loss": 2.6002559661865234
         },
         {
          "i": 531,
          "loss": 2.5982706546783447
         },
         {
          "i": 532,
          "loss": 2.5962817668914795
         },
         {
          "i": 533,
          "loss": 2.594292402267456
         },
         {
          "i": 534,
          "loss": 2.5923032760620117
         },
         {
          "i": 535,
          "loss": 2.590313196182251
         },
         {
          "i": 536,
          "loss": 2.5884554386138916
         },
         {
          "i": 537,
          "loss": 2.5866317749023438
         },
         {
          "i": 538,
          "loss": 2.584616184234619
         },
         {
          "i": 539,
          "loss": 2.5826256275177
         },
         {
          "i": 540,
          "loss": 2.5806374549865723
         },
         {
          "i": 541,
          "loss": 2.57865047454834
         },
         {
          "i": 542,
          "loss": 2.5766589641571045
         },
         {
          "i": 543,
          "loss": 2.5746679306030273
         },
         {
          "i": 544,
          "loss": 2.572679042816162
         },
         {
          "i": 545,
          "loss": 2.570690870285034
         },
         {
          "i": 546,
          "loss": 2.568701982498169
         },
         {
          "i": 547,
          "loss": 2.566713333129883
         },
         {
          "i": 548,
          "loss": 2.5647246837615967
         },
         {
          "i": 549,
          "loss": 2.562734365463257
         },
         {
          "i": 550,
          "loss": 2.560748338699341
         },
         {
          "i": 551,
          "loss": 2.558770179748535
         },
         {
          "i": 552,
          "loss": 2.556792974472046
         },
         {
          "i": 553,
          "loss": 2.55497670173645
         },
         {
          "i": 554,
          "loss": 2.5531461238861084
         },
         {
          "i": 555,
          "loss": 2.5511507987976074
         },
         {
          "i": 556,
          "loss": 2.5491745471954346
         },
         {
          "i": 557,
          "loss": 2.54720139503479
         },
         {
          "i": 558,
          "loss": 2.5452284812927246
         },
         {
          "i": 559,
          "loss": 2.5432586669921875
         },
         {
          "i": 560,
          "loss": 2.5412936210632324
         },
         {
          "i": 561,
          "loss": 2.5393285751342773
         },
         {
          "i": 562,
          "loss": 2.5373635292053223
         },
         {
          "i": 563,
          "loss": 2.535397529602051
         },
         {
          "i": 564,
          "loss": 2.53346586227417
         },
         {
          "i": 565,
          "loss": 2.531559944152832
         },
         {
          "i": 566,
          "loss": 2.5295631885528564
         },
         {
          "i": 567,
          "loss": 2.5275661945343018
         },
         {
          "i": 568,
          "loss": 2.5255699157714844
         },
         {
          "i": 569,
          "loss": 2.523573398590088
         },
         {
          "i": 570,
          "loss": 2.521780014038086
         },
         {
          "i": 571,
          "loss": 2.5198662281036377
         },
         {
          "i": 572,
          "loss": 2.5178062915802
         },
         {
          "i": 573,
          "loss": 2.515763759613037
         },
         {
          "i": 574,
          "loss": 2.513723373413086
         },
         {
          "i": 575,
          "loss": 2.511683702468872
         },
         {
          "i": 576,
          "loss": 2.5096349716186523
         },
         {
          "i": 577,
          "loss": 2.507652759552002
         },
         {
          "i": 578,
          "loss": 2.5056183338165283
         },
         {
          "i": 579,
          "loss": 2.5035412311553955
         },
         {
          "i": 580,
          "loss": 2.501465320587158
         },
         {
          "i": 581,
          "loss": 2.499392509460449
         },
         {
          "i": 582,
          "loss": 2.497328758239746
         },
         {
          "i": 583,
          "loss": 2.4952657222747803
         },
         {
          "i": 584,
          "loss": 2.4932026863098145
         },
         {
          "i": 585,
          "loss": 2.4911417961120605
         },
         {
          "i": 586,
          "loss": 2.48923659324646
         },
         {
          "i": 587,
          "loss": 2.4873223304748535
         },
         {
          "i": 588,
          "loss": 2.4852402210235596
         },
         {
          "i": 589,
          "loss": 2.483175277709961
         },
         {
          "i": 590,
          "loss": 2.4811112880706787
         },
         {
          "i": 591,
          "loss": 2.479170799255371
         },
         {
          "i": 592,
          "loss": 2.477114677429199
         },
         {
          "i": 593,
          "loss": 2.4750521183013916
         },
         {
          "i": 594,
          "loss": 2.472990036010742
         },
         {
          "i": 595,
          "loss": 2.470928907394409
         },
         {
          "i": 596,
          "loss": 2.4688684940338135
         },
         {
          "i": 597,
          "loss": 2.4668080806732178
         },
         {
          "i": 598,
          "loss": 2.4647469520568848
         },
         {
          "i": 599,
          "loss": 2.462686061859131
         },
         {
          "i": 600,
          "loss": 2.4606258869171143
         },
         {
          "i": 601,
          "loss": 2.4585654735565186
         },
         {
          "i": 602,
          "loss": 2.4567441940307617
         },
         {
          "i": 603,
          "loss": 2.4547412395477295
         },
         {
          "i": 604,
          "loss": 2.4526712894439697
         },
         {
          "i": 605,
          "loss": 2.4507153034210205
         },
         {
          "i": 606,
          "loss": 2.4486472606658936
         },
         {
          "i": 607,
          "loss": 2.4465811252593994
         },
         {
          "i": 608,
          "loss": 2.4445152282714844
         },
         {
          "i": 609,
          "loss": 2.4424517154693604
         },
         {
          "i": 610,
          "loss": 2.4403886795043945
         },
         {
          "i": 611,
          "loss": 2.4383232593536377
         },
         {
          "i": 612,
          "loss": 2.43624210357666
         },
         {
          "i": 613,
          "loss": 2.4341609477996826
         },
         {
          "i": 614,
          "loss": 2.4320802688598633
         },
         {
          "i": 615,
          "loss": 2.4299979209899902
         },
         {
          "i": 616,
          "loss": 2.427917957305908
         },
         {
          "i": 617,
          "loss": 2.425983428955078
         },
         {
          "i": 618,
          "loss": 2.424107313156128
         },
         {
          "i": 619,
          "loss": 2.4220049381256104
         },
         {
          "i": 620,
          "loss": 2.4198386669158936
         },
         {
          "i": 621,
          "loss": 2.4176762104034424
         },
         {
          "i": 622,
          "loss": 2.4155147075653076
         },
         {
          "i": 623,
          "loss": 2.4133529663085938
         },
         {
          "i": 624,
          "loss": 2.411182165145874
         },
         {
          "i": 625,
          "loss": 2.4089934825897217
         },
         {
          "i": 626,
          "loss": 2.406796932220459
         },
         {
          "i": 627,
          "loss": 2.404601812362671
         },
         {
          "i": 628,
          "loss": 2.402405261993408
         },
         {
          "i": 629,
          "loss": 2.4002089500427246
         },
         {
          "i": 630,
          "loss": 2.398016929626465
         },
         {
          "i": 631,
          "loss": 2.395824670791626
         },
         {
          "i": 632,
          "loss": 2.393857479095459
         },
         {
          "i": 633,
          "loss": 2.3917415142059326
         },
         {
          "i": 634,
          "loss": 2.389584541320801
         },
         {
          "i": 635,
          "loss": 2.38742733001709
         },
         {
          "i": 636,
          "loss": 2.3852272033691406
         },
         {
          "i": 637,
          "loss": 2.3830323219299316
         },
         {
          "i": 638,
          "loss": 2.3808460235595703
         },
         {
          "i": 639,
          "loss": 2.3786582946777344
         },
         {
          "i": 640,
          "loss": 2.3764705657958984
         },
         {
          "i": 641,
          "loss": 2.3742830753326416
         },
         {
          "i": 642,
          "loss": 2.37209415435791
         },
         {
          "i": 643,
          "loss": 2.369905471801758
         },
         {
          "i": 644,
          "loss": 2.367713212966919
         },
         {
          "i": 645,
          "loss": 2.3655202388763428
         },
         {
          "i": 646,
          "loss": 2.3635168075561523
         },
         {
          "i": 647,
          "loss": 2.3614397048950195
         },
         {
          "i": 648,
          "loss": 2.3592262268066406
         },
         {
          "i": 649,
          "loss": 2.3570287227630615
         },
         {
          "i": 650,
          "loss": 2.3548853397369385
         },
         {
          "i": 651,
          "loss": 2.3527283668518066
         },
         {
          "i": 652,
          "loss": 2.35050630569458
         },
         {
          "i": 653,
          "loss": 2.3482825756073
         },
         {
          "i": 654,
          "loss": 2.3460583686828613
         },
         {
          "i": 655,
          "loss": 2.343834400177002
         },
         {
          "i": 656,
          "loss": 2.3416101932525635
         },
         {
          "i": 657,
          "loss": 2.3393852710723877
         },
         {
          "i": 658,
          "loss": 2.3371617794036865
         },
         {
          "i": 659,
          "loss": 2.334937334060669
         },
         {
          "i": 660,
          "loss": 2.3329527378082275
         },
         {
          "i": 661,
          "loss": 2.3307883739471436
         },
         {
          "i": 662,
          "loss": 2.3285388946533203
         },
         {
          "i": 663,
          "loss": 2.3263063430786133
         },
         {
          "i": 664,
          "loss": 2.324073076248169
         },
         {
          "i": 665,
          "loss": 2.3218472003936768
         },
         {
          "i": 666,
          "loss": 2.319706916809082
         },
         {
          "i": 667,
          "loss": 2.3174726963043213
         },
         {
          "i": 668,
          "loss": 2.3152389526367188
         },
         {
          "i": 669,
          "loss": 2.3130109310150146
         },
         {
          "i": 670,
          "loss": 2.3107824325561523
         },
         {
          "i": 671,
          "loss": 2.3085498809814453
         },
         {
          "i": 672,
          "loss": 2.30631685256958
         },
         {
          "i": 673,
          "loss": 2.304208517074585
         },
         {
          "i": 674,
          "loss": 2.3021538257598877
         },
         {
          "i": 675,
          "loss": 2.299901247024536
         },
         {
          "i": 676,
          "loss": 2.2976598739624023
         },
         {
          "i": 677,
          "loss": 2.2954213619232178
         },
         {
          "i": 678,
          "loss": 2.293182611465454
         },
         {
          "i": 679,
          "loss": 2.2909204959869385
         },
         {
          "i": 680,
          "loss": 2.2886574268341064
         },
         {
          "i": 681,
          "loss": 2.2863965034484863
         },
         {
          "i": 682,
          "loss": 2.2841761112213135
         },
         {
          "i": 683,
          "loss": 2.2819342613220215
         },
         {
          "i": 684,
          "loss": 2.279658555984497
         },
         {
          "i": 685,
          "loss": 2.2773845195770264
         },
         {
          "i": 686,
          "loss": 2.2751617431640625
         },
         {
          "i": 687,
          "loss": 2.2731306552886963
         },
         {
          "i": 688,
          "loss": 2.270838499069214
         },
         {
          "i": 689,
          "loss": 2.2685539722442627
         },
         {
          "i": 690,
          "loss": 2.2662482261657715
         },
         {
          "i": 691,
          "loss": 2.2638885974884033
         },
         {
          "i": 692,
          "loss": 2.261528968811035
         },
         {
          "i": 693,
          "loss": 2.259169340133667
         },
         {
          "i": 694,
          "loss": 2.2568135261535645
         },
         {
          "i": 695,
          "loss": 2.2544541358947754
         },
         {
          "i": 696,
          "loss": 2.2520995140075684
         },
         {
          "i": 697,
          "loss": 2.2497429847717285
         },
         {
          "i": 698,
          "loss": 2.247389554977417
         },
         {
          "i": 699,
          "loss": 2.245196580886841
         },
         {
          "i": 700,
          "loss": 2.2429871559143066
         },
         {
          "i": 701,
          "loss": 2.2406198978424072
         },
         {
          "i": 702,
          "loss": 2.2383170127868652
         },
         {
          "i": 703,
          "loss": 2.2359700202941895
         },
         {
          "i": 704,
          "loss": 2.2336103916168213
         },
         {
          "i": 705,
          "loss": 2.231250524520874
         },
         {
          "i": 706,
          "loss": 2.2288966178894043
         },
         {
          "i": 707,
          "loss": 2.22653865814209
         },
         {
          "i": 708,
          "loss": 2.224184513092041
         },
         {
          "i": 709,
          "loss": 2.2218282222747803
         },
         {
          "i": 710,
          "loss": 2.2194766998291016
         },
         {
          "i": 711,
          "loss": 2.2172532081604004
         },
         {
          "i": 712,
          "loss": 2.2150814533233643
         },
         {
          "i": 713,
          "loss": 2.212717056274414
         },
         {
          "i": 714,
          "loss": 2.210358142852783
         },
         {
          "i": 715,
          "loss": 2.2080066204071045
         },
         {
          "i": 716,
          "loss": 2.2056548595428467
         },
         {
          "i": 717,
          "loss": 2.2032768726348877
         },
         {
          "i": 718,
          "loss": 2.200869083404541
         },
         {
          "i": 719,
          "loss": 2.198450803756714
         },
         {
          "i": 720,
          "loss": 2.1960346698760986
         },
         {
          "i": 721,
          "loss": 2.193638563156128
         },
         {
          "i": 722,
          "loss": 2.1912758350372314
         },
         {
          "i": 723,
          "loss": 2.1890883445739746
         },
         {
          "i": 724,
          "loss": 2.1868605613708496
         },
         {
          "i": 725,
          "loss": 2.1844675540924072
         },
         {
          "i": 726,
          "loss": 2.1820807456970215
         },
         {
          "i": 727,
          "loss": 2.1797091960906982
         },
         {
          "i": 728,
          "loss": 2.1773407459259033
         },
         {
          "i": 729,
          "loss": 2.174971342086792
         },
         {
          "i": 730,
          "loss": 2.172605276107788
         },
         {
          "i": 731,
          "loss": 2.170236587524414
         },
         {
          "i": 732,
          "loss": 2.1678860187530518
         },
         {
          "i": 733,
          "loss": 2.165531635284424
         },
         {
          "i": 734,
          "loss": 2.1631903648376465
         },
         {
          "i": 735,
          "loss": 2.161129951477051
         },
         {
          "i": 736,
          "loss": 2.1587631702423096
         },
         {
          "i": 737,
          "loss": 2.1564040184020996
         },
         {
          "i": 738,
          "loss": 2.1540491580963135
         },
         {
          "i": 739,
          "loss": 2.1516506671905518
         },
         {
          "i": 740,
          "loss": 2.1491944789886475
         },
         {
          "i": 741,
          "loss": 2.146759271621704
         },
         {
          "i": 742,
          "loss": 2.1443397998809814
         },
         {
          "i": 743,
          "loss": 2.141880989074707
         },
         {
          "i": 744,
          "loss": 2.1394171714782715
         },
         {
          "i": 745,
          "loss": 2.1369571685791016
         },
         {
          "i": 746,
          "loss": 2.134676694869995
         },
         {
          "i": 747,
          "loss": 2.132345676422119
         },
         {
          "i": 748,
          "loss": 2.129863739013672
         },
         {
          "i": 749,
          "loss": 2.1273748874664307
         },
         {
          "i": 750,
          "loss": 2.124850034713745
         },
         {
          "i": 751,
          "loss": 2.1223223209381104
         },
         {
          "i": 752,
          "loss": 2.119795560836792
         },
         {
          "i": 753,
          "loss": 2.1172683238983154
         },
         {
          "i": 754,
          "loss": 2.1147475242614746
         },
         {
          "i": 755,
          "loss": 2.112226724624634
         },
         {
          "i": 756,
          "loss": 2.1097054481506348
         },
         {
          "i": 757,
          "loss": 2.107357978820801
         },
         {
          "i": 758,
          "loss": 2.1049702167510986
         },
         {
          "i": 759,
          "loss": 2.1024348735809326
         },
         {
          "i": 760,
          "loss": 2.099909782409668
         },
         {
          "i": 761,
          "loss": 2.0973830223083496
         },
         {
          "i": 762,
          "loss": 2.0948593616485596
         },
         {
          "i": 763,
          "loss": 2.0923352241516113
         },
         {
          "i": 764,
          "loss": 2.089810848236084
         },
         {
          "i": 765,
          "loss": 2.0872864723205566
         },
         {
          "i": 766,
          "loss": 2.0847628116607666
         },
         {
          "i": 767,
          "loss": 2.0822384357452393
         },
         {
          "i": 768,
          "loss": 2.0800745487213135
         },
         {
          "i": 769,
          "loss": 2.077660322189331
         },
         {
          "i": 770,
          "loss": 2.075100898742676
         },
         {
          "i": 771,
          "loss": 2.07258677482605
         },
         {
          "i": 772,
          "loss": 2.07007098197937
         },
         {
          "i": 773,
          "loss": 2.067556619644165
         },
         {
          "i": 774,
          "loss": 2.0650436878204346
         },
         {
          "i": 775,
          "loss": 2.0625498294830322
         },
         {
          "i": 776,
          "loss": 2.0600571632385254
         },
         {
          "i": 777,
          "loss": 2.0575711727142334
         },
         {
          "i": 778,
          "loss": 2.055271863937378
         },
         {
          "i": 779,
          "loss": 2.0529329776763916
         },
         {
          "i": 780,
          "loss": 2.0504403114318848
         },
         {
          "i": 781,
          "loss": 2.0479588508605957
         },
         {
          "i": 782,
          "loss": 2.0454790592193604
         },
         {
          "i": 783,
          "loss": 2.043001651763916
         },
         {
          "i": 784,
          "loss": 2.0405240058898926
         },
         {
          "i": 785,
          "loss": 2.0380475521087646
         },
         {
          "i": 786,
          "loss": 2.0355706214904785
         },
         {
          "i": 787,
          "loss": 2.0330944061279297
         },
         {
          "i": 788,
          "loss": 2.0307512283325195
         },
         {
          "i": 789,
          "loss": 2.0284523963928223
         },
         {
          "i": 790,
          "loss": 2.0259554386138916
         },
         {
          "i": 791,
          "loss": 2.023428201675415
         },
         {
          "i": 792,
          "loss": 2.0209038257598877
         },
         {
          "i": 793,
          "loss": 2.0184102058410645
         },
         {
          "i": 794,
          "loss": 2.0159153938293457
         },
         {
          "i": 795,
          "loss": 2.013420820236206
         },
         {
          "i": 796,
          "loss": 2.010925769805908
         },
         {
          "i": 797,
          "loss": 2.008429527282715
         },
         {
          "i": 798,
          "loss": 2.006037950515747
         },
         {
          "i": 799,
          "loss": 2.003737688064575
         },
         {
          "i": 800,
          "loss": 2.0012245178222656
         },
         {
          "i": 801,
          "loss": 1.9987208843231201
         },
         {
          "i": 802,
          "loss": 1.9962176084518433
         },
         {
          "i": 803,
          "loss": 1.993714451789856
         },
         {
          "i": 804,
          "loss": 1.9912184476852417
         },
         {
          "i": 805,
          "loss": 1.9887199401855469
         },
         {
          "i": 806,
          "loss": 1.9862219095230103
         },
         {
          "i": 807,
          "loss": 1.983733057975769
         },
         {
          "i": 808,
          "loss": 1.9813803434371948
         },
         {
          "i": 809,
          "loss": 1.9791290760040283
         },
         {
          "i": 810,
          "loss": 1.9766720533370972
         },
         {
          "i": 811,
          "loss": 1.9742250442504883
         },
         {
          "i": 812,
          "loss": 1.9717798233032227
         },
         {
          "i": 813,
          "loss": 1.969352126121521
         },
         {
          "i": 814,
          "loss": 1.9669005870819092
         },
         {
          "i": 815,
          "loss": 1.964440107345581
         },
         {
          "i": 816,
          "loss": 1.9619896411895752
         },
         {
          "i": 817,
          "loss": 1.9595131874084473
         },
         {
          "i": 818,
          "loss": 1.957093358039856
         },
         {
          "i": 819,
          "loss": 1.9546998739242554
         },
         {
          "i": 820,
          "loss": 1.9521442651748657
         },
         {
          "i": 821,
          "loss": 1.949622631072998
         },
         {
          "i": 822,
          "loss": 1.947115182876587
         },
         {
          "i": 823,
          "loss": 1.9446159601211548
         },
         {
          "i": 824,
          "loss": 1.9421310424804688
         },
         {
          "i": 825,
          "loss": 1.9396469593048096
         },
         {
          "i": 826,
          "loss": 1.9371644258499146
         },
         {
          "i": 827,
          "loss": 1.9346810579299927
         },
         {
          "i": 828,
          "loss": 1.9324191808700562
         },
         {
          "i": 829,
          "loss": 1.9299821853637695
         },
         {
          "i": 830,
          "loss": 1.9274383783340454
         },
         {
          "i": 831,
          "loss": 1.9248522520065308
         },
         {
          "i": 832,
          "loss": 1.9222674369812012
         },
         {
          "i": 833,
          "loss": 1.9196836948394775
         },
         {
          "i": 834,
          "loss": 1.9171050786972046
         },
         {
          "i": 835,
          "loss": 1.9145525693893433
         },
         {
          "i": 836,
          "loss": 1.9120045900344849
         },
         {
          "i": 837,
          "loss": 1.909550428390503
         },
         {
          "i": 838,
          "loss": 1.9072792530059814
         },
         {
          "i": 839,
          "loss": 1.9047740697860718
         },
         {
          "i": 840,
          "loss": 1.9022798538208008
         },
         {
          "i": 841,
          "loss": 1.8997262716293335
         },
         {
          "i": 842,
          "loss": 1.8971912860870361
         },
         {
          "i": 843,
          "loss": 1.8946572542190552
         },
         {
          "i": 844,
          "loss": 1.8921246528625488
         },
         {
          "i": 845,
          "loss": 1.8895957469940186
         },
         {
          "i": 846,
          "loss": 1.8870941400527954
         },
         {
          "i": 847,
          "loss": 1.8848148584365845
         },
         {
          "i": 848,
          "loss": 1.8823785781860352
         },
         {
          "i": 849,
          "loss": 1.879866600036621
         },
         {
          "i": 850,
          "loss": 1.8773674964904785
         },
         {
          "i": 851,
          "loss": 1.8748764991760254
         },
         {
          "i": 852,
          "loss": 1.872408151626587
         },
         {
          "i": 853,
          "loss": 1.869957685470581
         },
         {
          "i": 854,
          "loss": 1.867507815361023
         },
         {
          "i": 855,
          "loss": 1.8650588989257812
         },
         {
          "i": 856,
          "loss": 1.8627214431762695
         },
         {
          "i": 857,
          "loss": 1.8604419231414795
         },
         {
          "i": 858,
          "loss": 1.8579810857772827
         },
         {
          "i": 859,
          "loss": 1.8555291891098022
         },
         {
          "i": 860,
          "loss": 1.8530795574188232
         },
         {
          "i": 861,
          "loss": 1.8506321907043457
         },
         {
          "i": 862,
          "loss": 1.8481955528259277
         },
         {
          "i": 863,
          "loss": 1.8457309007644653
         },
         {
          "i": 864,
          "loss": 1.8432155847549438
         },
         {
          "i": 865,
          "loss": 1.8407235145568848
         },
         {
          "i": 866,
          "loss": 1.838463306427002
         },
         {
          "i": 867,
          "loss": 1.8358691930770874
         },
         {
          "i": 868,
          "loss": 1.833306074142456
         },
         {
          "i": 869,
          "loss": 1.8307466506958008
         },
         {
          "i": 870,
          "loss": 1.8281989097595215
         },
         {
          "i": 871,
          "loss": 1.8256738185882568
         },
         {
          "i": 872,
          "loss": 1.8231619596481323
         },
         {
          "i": 873,
          "loss": 1.8206722736358643
         },
         {
          "i": 874,
          "loss": 1.8181873559951782
         },
         {
          "i": 875,
          "loss": 1.8159263134002686
         },
         {
          "i": 876,
          "loss": 1.8135145902633667
         },
         {
          "i": 877,
          "loss": 1.811066746711731
         },
         {
          "i": 878,
          "loss": 1.8086514472961426
         },
         {
          "i": 879,
          "loss": 1.8061963319778442
         },
         {
          "i": 880,
          "loss": 1.8037421703338623
         },
         {
          "i": 881,
          "loss": 1.8012908697128296
         },
         {
          "i": 882,
          "loss": 1.7988409996032715
         },
         {
          "i": 883,
          "loss": 1.7964074611663818
         },
         {
          "i": 884,
          "loss": 1.794163465499878
         },
         {
          "i": 885,
          "loss": 1.7918776273727417
         },
         {
          "i": 886,
          "loss": 1.7894692420959473
         },
         {
          "i": 887,
          "loss": 1.7870689630508423
         },
         {
          "i": 888,
          "loss": 1.7846710681915283
         },
         {
          "i": 889,
          "loss": 1.7822750806808472
         },
         {
          "i": 890,
          "loss": 1.7798810005187988
         },
         {
          "i": 891,
          "loss": 1.777490258216858
         },
         {
          "i": 892,
          "loss": 1.7751296758651733
         },
         {
          "i": 893,
          "loss": 1.772872805595398
         },
         {
          "i": 894,
          "loss": 1.7706817388534546
         },
         {
          "i": 895,
          "loss": 1.7682565450668335
         },
         {
          "i": 896,
          "loss": 1.7658404111862183
         },
         {
          "i": 897,
          "loss": 1.7634450197219849
         },
         {
          "i": 898,
          "loss": 1.7610903978347778
         },
         {
          "i": 899,
          "loss": 1.7587014436721802
         },
         {
          "i": 900,
          "loss": 1.756339430809021
         },
         {
          "i": 901,
          "loss": 1.7539786100387573
         },
         {
          "i": 902,
          "loss": 1.7516688108444214
         },
         {
          "i": 903,
          "loss": 1.749516248703003
         },
         {
          "i": 904,
          "loss": 1.747146725654602
         },
         {
          "i": 905,
          "loss": 1.7447867393493652
         },
         {
          "i": 906,
          "loss": 1.7423994541168213
         },
         {
          "i": 907,
          "loss": 1.7399591207504272
         },
         {
          "i": 908,
          "loss": 1.7375357151031494
         },
         {
          "i": 909,
          "loss": 1.735112190246582
         },
         {
          "i": 910,
          "loss": 1.7326892614364624
         },
         {
          "i": 911,
          "loss": 1.7302725315093994
         },
         {
          "i": 912,
          "loss": 1.7280960083007812
         },
         {
          "i": 913,
          "loss": 1.725664496421814
         },
         {
          "i": 914,
          "loss": 1.7232383489608765
         },
         {
          "i": 915,
          "loss": 1.720800757408142
         },
         {
          "i": 916,
          "loss": 1.718318223953247
         },
         {
          "i": 917,
          "loss": 1.7158340215682983
         },
         {
          "i": 918,
          "loss": 1.7133514881134033
         },
         {
          "i": 919,
          "loss": 1.7108688354492188
         },
         {
          "i": 920,
          "loss": 1.7083779573440552
         },
         {
          "i": 921,
          "loss": 1.7060586214065552
         },
         {
          "i": 922,
          "loss": 1.7035313844680786
         },
         {
          "i": 923,
          "loss": 1.7009756565093994
         },
         {
          "i": 924,
          "loss": 1.6984225511550903
         },
         {
          "i": 925,
          "loss": 1.6958718299865723
         },
         {
          "i": 926,
          "loss": 1.6933232545852661
         },
         {
          "i": 927,
          "loss": 1.6907740831375122
         },
         {
          "i": 928,
          "loss": 1.6882246732711792
         },
         {
          "i": 929,
          "loss": 1.6857130527496338
         },
         {
          "i": 930,
          "loss": 1.6833821535110474
         },
         {
          "i": 931,
          "loss": 1.6808230876922607
         },
         {
          "i": 932,
          "loss": 1.6782708168029785
         },
         {
          "i": 933,
          "loss": 1.6757186651229858
         },
         {
          "i": 934,
          "loss": 1.6731672286987305
         },
         {
          "i": 935,
          "loss": 1.6706160306930542
         },
         {
          "i": 936,
          "loss": 1.6680656671524048
         },
         {
          "i": 937,
          "loss": 1.6655160188674927
         },
         {
          "i": 938,
          "loss": 1.663131833076477
         },
         {
          "i": 939,
          "loss": 1.6606762409210205
         },
         {
          "i": 940,
          "loss": 1.6581180095672607
         },
         {
          "i": 941,
          "loss": 1.6555681228637695
         },
         {
          "i": 942,
          "loss": 1.6530190706253052
         },
         {
          "i": 943,
          "loss": 1.6504642963409424
         },
         {
          "i": 944,
          "loss": 1.647760272026062
         },
         {
          "i": 945,
          "loss": 1.6450603008270264
         },
         {
          "i": 946,
          "loss": 1.6424643993377686
         },
         {
          "i": 947,
          "loss": 1.6399327516555786
         },
         {
          "i": 948,
          "loss": 1.6372326612472534
         },
         {
          "i": 949,
          "loss": 1.634587049484253
         },
         {
          "i": 950,
          "loss": 1.6319392919540405
         },
         {
          "i": 951,
          "loss": 1.6291711330413818
         },
         {
          "i": 952,
          "loss": 1.6264100074768066
         },
         {
          "i": 953,
          "loss": 1.6236556768417358
         },
         {
          "i": 954,
          "loss": 1.6210485696792603
         },
         {
          "i": 955,
          "loss": 1.6184364557266235
         },
         {
          "i": 956,
          "loss": 1.615693211555481
         },
         {
          "i": 957,
          "loss": 1.6129614114761353
         },
         {
          "i": 958,
          "loss": 1.6102361679077148
         },
         {
          "i": 959,
          "loss": 1.6075167655944824
         },
         {
          "i": 960,
          "loss": 1.6048040390014648
         },
         {
          "i": 961,
          "loss": 1.6020455360412598
         },
         {
          "i": 962,
          "loss": 1.5994868278503418
         },
         {
          "i": 963,
          "loss": 1.5966624021530151
         },
         {
          "i": 964,
          "loss": 1.5938705205917358
         },
         {
          "i": 965,
          "loss": 1.5911096334457397
         },
         {
          "i": 966,
          "loss": 1.5883523225784302
         },
         {
          "i": 967,
          "loss": 1.5856056213378906
         },
         {
          "i": 968,
          "loss": 1.582872748374939
         },
         {
          "i": 969,
          "loss": 1.5803810358047485
         },
         {
          "i": 970,
          "loss": 1.577799677848816
         },
         {
          "i": 971,
          "loss": 1.5751469135284424
         },
         {
          "i": 972,
          "loss": 1.572524070739746
         },
         {
          "i": 973,
          "loss": 1.569956660270691
         },
         {
          "i": 974,
          "loss": 1.5673928260803223
         },
         {
          "i": 975,
          "loss": 1.5648313760757446
         },
         {
          "i": 976,
          "loss": 1.5624123811721802
         },
         {
          "i": 977,
          "loss": 1.559975028038025
         },
         {
          "i": 978,
          "loss": 1.5573279857635498
         },
         {
          "i": 979,
          "loss": 1.554627537727356
         },
         {
          "i": 980,
          "loss": 1.5518101453781128
         },
         {
          "i": 981,
          "loss": 1.5489819049835205
         },
         {
          "i": 982,
          "loss": 1.54607355594635
         },
         {
          "i": 983,
          "loss": 1.5432716608047485
         },
         {
          "i": 984,
          "loss": 1.5405491590499878
         },
         {
          "i": 985,
          "loss": 1.537654995918274
         },
         {
          "i": 986,
          "loss": 1.5347992181777954
         },
         {
          "i": 987,
          "loss": 1.5319781303405762
         },
         {
          "i": 988,
          "loss": 1.5291632413864136
         },
         {
          "i": 989,
          "loss": 1.5263667106628418
         },
         {
          "i": 990,
          "loss": 1.5237544775009155
         },
         {
          "i": 991,
          "loss": 1.5211454629898071
         },
         {
          "i": 992,
          "loss": 1.5184102058410645
         },
         {
          "i": 993,
          "loss": 1.5156854391098022
         },
         {
          "i": 994,
          "loss": 1.5129826068878174
         },
         {
          "i": 995,
          "loss": 1.510310173034668
         },
         {
          "i": 996,
          "loss": 1.5076394081115723
         },
         {
          "i": 997,
          "loss": 1.5051883459091187
         },
         {
          "i": 998,
          "loss": 1.502565622329712
         },
         {
          "i": 999,
          "loss": 1.4998886585235596
         },
         {
          "i": 1000,
          "loss": 1.4972299337387085
         },
         {
          "i": 1001,
          "loss": 1.494575023651123
         },
         {
          "i": 1002,
          "loss": 1.491923213005066
         },
         {
          "i": 1003,
          "loss": 1.4893217086791992
         },
         {
          "i": 1004,
          "loss": 1.4868143796920776
         },
         {
          "i": 1005,
          "loss": 1.484095573425293
         },
         {
          "i": 1006,
          "loss": 1.4813876152038574
         },
         {
          "i": 1007,
          "loss": 1.478684663772583
         },
         {
          "i": 1008,
          "loss": 1.4759857654571533
         },
         {
          "i": 1009,
          "loss": 1.4732882976531982
         },
         {
          "i": 1010,
          "loss": 1.470776081085205
         },
         {
          "i": 1011,
          "loss": 1.4681673049926758
         },
         {
          "i": 1012,
          "loss": 1.4654741287231445
         },
         {
          "i": 1013,
          "loss": 1.4627989530563354
         },
         {
          "i": 1014,
          "loss": 1.4601261615753174
         },
         {
          "i": 1015,
          "loss": 1.457464337348938
         },
         {
          "i": 1016,
          "loss": 1.454910159111023
         },
         {
          "i": 1017,
          "loss": 1.4524847269058228
         },
         {
          "i": 1018,
          "loss": 1.4498565196990967
         },
         {
          "i": 1019,
          "loss": 1.4472475051879883
         },
         {
          "i": 1020,
          "loss": 1.4446723461151123
         },
         {
          "i": 1021,
          "loss": 1.4421000480651855
         },
         {
          "i": 1022,
          "loss": 1.4395155906677246
         },
         {
          "i": 1023,
          "loss": 1.4370925426483154
         },
         {
          "i": 1024,
          "loss": 1.4344714879989624
         },
         {
          "i": 1025,
          "loss": 1.4318150281906128
         },
         {
          "i": 1026,
          "loss": 1.4291534423828125
         },
         {
          "i": 1027,
          "loss": 1.4263538122177124
         },
         {
          "i": 1028,
          "loss": 1.4235566854476929
         },
         {
          "i": 1029,
          "loss": 1.4209076166152954
         },
         {
          "i": 1030,
          "loss": 1.41823410987854
         },
         {
          "i": 1031,
          "loss": 1.4154386520385742
         },
         {
          "i": 1032,
          "loss": 1.4126505851745605
         },
         {
          "i": 1033,
          "loss": 1.409865379333496
         },
         {
          "i": 1034,
          "loss": 1.407082200050354
         },
         {
          "i": 1035,
          "loss": 1.4044002294540405
         },
         {
          "i": 1036,
          "loss": 1.4017831087112427
         },
         {
          "i": 1037,
          "loss": 1.3989986181259155
         },
         {
          "i": 1038,
          "loss": 1.3962208032608032
         },
         {
          "i": 1039,
          "loss": 1.393426537513733
         },
         {
          "i": 1040,
          "loss": 1.3905487060546875
         },
         {
          "i": 1041,
          "loss": 1.387762188911438
         },
         {
          "i": 1042,
          "loss": 1.3850630521774292
         },
         {
          "i": 1043,
          "loss": 1.3821858167648315
         },
         {
          "i": 1044,
          "loss": 1.3793147802352905
         },
         {
          "i": 1045,
          "loss": 1.3764522075653076
         },
         {
          "i": 1046,
          "loss": 1.373633861541748
         },
         {
          "i": 1047,
          "loss": 1.370880126953125
         },
         {
          "i": 1048,
          "loss": 1.3680206537246704
         },
         {
          "i": 1049,
          "loss": 1.3650352954864502
         },
         {
          "i": 1050,
          "loss": 1.362098217010498
         },
         {
          "i": 1051,
          "loss": 1.3591805696487427
         },
         {
          "i": 1052,
          "loss": 1.3563127517700195
         },
         {
          "i": 1053,
          "loss": 1.3536057472229004
         },
         {
          "i": 1054,
          "loss": 1.3505970239639282
         },
         {
          "i": 1055,
          "loss": 1.3475193977355957
         },
         {
          "i": 1056,
          "loss": 1.3444632291793823
         },
         {
          "i": 1057,
          "loss": 1.3414722681045532
         },
         {
          "i": 1058,
          "loss": 1.3385652303695679
         },
         {
          "i": 1059,
          "loss": 1.3358515501022339
         },
         {
          "i": 1060,
          "loss": 1.3329254388809204
         },
         {
          "i": 1061,
          "loss": 1.330006718635559
         },
         {
          "i": 1062,
          "loss": 1.3270752429962158
         },
         {
          "i": 1063,
          "loss": 1.3240516185760498
         },
         {
          "i": 1064,
          "loss": 1.3213261365890503
         },
         {
          "i": 1065,
          "loss": 1.3184187412261963
         },
         {
          "i": 1066,
          "loss": 1.315559983253479
         },
         {
          "i": 1067,
          "loss": 1.3127115964889526
         },
         {
          "i": 1068,
          "loss": 1.309869647026062
         },
         {
          "i": 1069,
          "loss": 1.30720853805542
         },
         {
          "i": 1070,
          "loss": 1.3045161962509155
         },
         {
          "i": 1071,
          "loss": 1.3017621040344238
         },
         {
          "i": 1072,
          "loss": 1.2990177869796753
         },
         {
          "i": 1073,
          "loss": 1.2962791919708252
         },
         {
          "i": 1074,
          "loss": 1.293656826019287
         },
         {
          "i": 1075,
          "loss": 1.2910795211791992
         },
         {
          "i": 1076,
          "loss": 1.2883468866348267
         },
         {
          "i": 1077,
          "loss": 1.2856237888336182
         },
         {
          "i": 1078,
          "loss": 1.2828675508499146
         },
         {
          "i": 1079,
          "loss": 1.2800874710083008
         },
         {
          "i": 1080,
          "loss": 1.2774848937988281
         },
         {
          "i": 1081,
          "loss": 1.274612545967102
         },
         {
          "i": 1082,
          "loss": 1.271682858467102
         },
         {
          "i": 1083,
          "loss": 1.2687593698501587
         },
         {
          "i": 1084,
          "loss": 1.2659395933151245
         },
         {
          "i": 1085,
          "loss": 1.263352394104004
         },
         {
          "i": 1086,
          "loss": 1.2605676651000977
         },
         {
          "i": 1087,
          "loss": 1.2578253746032715
         },
         {
          "i": 1088,
          "loss": 1.2551872730255127
         },
         {
          "i": 1089,
          "loss": 1.2525544166564941
         },
         {
          "i": 1090,
          "loss": 1.250137448310852
         },
         {
          "i": 1091,
          "loss": 1.2476648092269897
         },
         {
          "i": 1092,
          "loss": 1.245190143585205
         },
         {
          "i": 1093,
          "loss": 1.2428258657455444
         },
         {
          "i": 1094,
          "loss": 1.2404671907424927
         },
         {
          "i": 1095,
          "loss": 1.2382512092590332
         },
         {
          "i": 1096,
          "loss": 1.2360014915466309
         },
         {
          "i": 1097,
          "loss": 1.2335354089736938
         },
         {
          "i": 1098,
          "loss": 1.231067180633545
         },
         {
          "i": 1099,
          "loss": 1.228599190711975
         },
         {
          "i": 1100,
          "loss": 1.2262035608291626
         },
         {
          "i": 1101,
          "loss": 1.2239124774932861
         },
         {
          "i": 1102,
          "loss": 1.2214504480361938
         },
         {
          "i": 1103,
          "loss": 1.2189898490905762
         },
         {
          "i": 1104,
          "loss": 1.2165311574935913
         },
         {
          "i": 1105,
          "loss": 1.2139480113983154
         },
         {
          "i": 1106,
          "loss": 1.211580753326416
         },
         {
          "i": 1107,
          "loss": 1.2090303897857666
         },
         {
          "i": 1108,
          "loss": 1.2064881324768066
         },
         {
          "i": 1109,
          "loss": 1.2040493488311768
         },
         {
          "i": 1110,
          "loss": 1.201607584953308
         },
         {
          "i": 1111,
          "loss": 1.1992526054382324
         },
         {
          "i": 1112,
          "loss": 1.1968941688537598
         },
         {
          "i": 1113,
          "loss": 1.1944472789764404
         },
         {
          "i": 1114,
          "loss": 1.1919742822647095
         },
         {
          "i": 1115,
          "loss": 1.1892764568328857
         },
         {
          "i": 1116,
          "loss": 1.1866648197174072
         },
         {
          "i": 1117,
          "loss": 1.184134840965271
         },
         {
          "i": 1118,
          "loss": 1.181459903717041
         },
         {
          "i": 1119,
          "loss": 1.1787993907928467
         },
         {
          "i": 1120,
          "loss": 1.1761515140533447
         },
         {
          "i": 1121,
          "loss": 1.173545479774475
         },
         {
          "i": 1122,
          "loss": 1.1711070537567139
         },
         {
          "i": 1123,
          "loss": 1.1684776544570923
         },
         {
          "i": 1124,
          "loss": 1.1658596992492676
         },
         {
          "i": 1125,
          "loss": 1.1632487773895264
         },
         {
          "i": 1126,
          "loss": 1.1606533527374268
         },
         {
          "i": 1127,
          "loss": 1.1582732200622559
         },
         {
          "i": 1128,
          "loss": 1.155663013458252
         },
         {
          "i": 1129,
          "loss": 1.153066635131836
         },
         {
          "i": 1130,
          "loss": 1.1505630016326904
         },
         {
          "i": 1131,
          "loss": 1.1480659246444702
         },
         {
          "i": 1132,
          "loss": 1.1457889080047607
         },
         {
          "i": 1133,
          "loss": 1.1433109045028687
         },
         {
          "i": 1134,
          "loss": 1.1407724618911743
         },
         {
          "i": 1135,
          "loss": 1.1381721496582031
         },
         {
          "i": 1136,
          "loss": 1.1355549097061157
         },
         {
          "i": 1137,
          "loss": 1.1330441236495972
         },
         {
          "i": 1138,
          "loss": 1.130369782447815
         },
         {
          "i": 1139,
          "loss": 1.1276799440383911
         },
         {
          "i": 1140,
          "loss": 1.124988079071045
         },
         {
          "i": 1141,
          "loss": 1.1222813129425049
         },
         {
          "i": 1142,
          "loss": 1.1197987794876099
         },
         {
          "i": 1143,
          "loss": 1.1172113418579102
         },
         {
          "i": 1144,
          "loss": 1.1146537065505981
         },
         {
          "i": 1145,
          "loss": 1.1121152639389038
         },
         {
          "i": 1146,
          "loss": 1.1096031665802002
         },
         {
          "i": 1147,
          "loss": 1.1072473526000977
         },
         {
          "i": 1148,
          "loss": 1.1046844720840454
         },
         {
          "i": 1149,
          "loss": 1.1021697521209717
         },
         {
          "i": 1150,
          "loss": 1.0997052192687988
         },
         {
          "i": 1151,
          "loss": 1.097261667251587
         },
         {
          "i": 1152,
          "loss": 1.0949974060058594
         },
         {
          "i": 1153,
          "loss": 1.0925370454788208
         },
         {
          "i": 1154,
          "loss": 1.0900845527648926
         },
         {
          "i": 1155,
          "loss": 1.0876343250274658
         },
         {
          "i": 1156,
          "loss": 1.0852164030075073
         },
         {
          "i": 1157,
          "loss": 1.0829503536224365
         },
         {
          "i": 1158,
          "loss": 1.0805021524429321
         },
         {
          "i": 1159,
          "loss": 1.0780574083328247
         },
         {
          "i": 1160,
          "loss": 1.075603723526001
         },
         {
          "i": 1161,
          "loss": 1.07318913936615
         },
         {
          "i": 1162,
          "loss": 1.0709593296051025
         },
         {
          "i": 1163,
          "loss": 1.068568468093872
         },
         {
          "i": 1164,
          "loss": 1.0662609338760376
         },
         {
          "i": 1165,
          "loss": 1.0639605522155762
         },
         {
          "i": 1166,
          "loss": 1.0616979598999023
         },
         {
          "i": 1167,
          "loss": 1.0595663785934448
         },
         {
          "i": 1168,
          "loss": 1.0572707653045654
         },
         {
          "i": 1169,
          "loss": 1.0549815893173218
         },
         {
          "i": 1170,
          "loss": 1.0526961088180542
         },
         {
          "i": 1171,
          "loss": 1.050429105758667
         },
         {
          "i": 1172,
          "loss": 1.0483064651489258
         },
         {
          "i": 1173,
          "loss": 1.0460078716278076
         },
         {
          "i": 1174,
          "loss": 1.043715000152588
         },
         {
          "i": 1175,
          "loss": 1.0414246320724487
         },
         {
          "i": 1176,
          "loss": 1.0391327142715454
         },
         {
          "i": 1177,
          "loss": 1.0370135307312012
         },
         {
          "i": 1178,
          "loss": 1.0347245931625366
         },
         {
          "i": 1179,
          "loss": 1.0324259996414185
         },
         {
          "i": 1180,
          "loss": 1.030128836631775
         },
         {
          "i": 1181,
          "loss": 1.027833104133606
         },
         {
          "i": 1182,
          "loss": 1.0256847143173218
         },
         {
          "i": 1183,
          "loss": 1.0234458446502686
         },
         {
          "i": 1184,
          "loss": 1.0212336778640747
         },
         {
          "i": 1185,
          "loss": 1.0190261602401733
         },
         {
          "i": 1186,
          "loss": 1.0168213844299316
         },
         {
          "i": 1187,
          "loss": 1.014699935913086
         },
         {
          "i": 1188,
          "loss": 1.0123953819274902
         },
         {
          "i": 1189,
          "loss": 1.0100306272506714
         },
         {
          "i": 1190,
          "loss": 1.0076712369918823
         },
         {
          "i": 1191,
          "loss": 1.0052813291549683
         },
         {
          "i": 1192,
          "loss": 1.0028729438781738
         },
         {
          "i": 1193,
          "loss": 1.0004268884658813
         },
         {
          "i": 1194,
          "loss": 0.9979128837585449
         },
         {
          "i": 1195,
          "loss": 0.9954038262367249
         },
         {
          "i": 1196,
          "loss": 0.9928793907165527
         },
         {
          "i": 1197,
          "loss": 0.9903566241264343
         },
         {
          "i": 1198,
          "loss": 0.9878785610198975
         },
         {
          "i": 1199,
          "loss": 0.9853570461273193
         },
         {
          "i": 1200,
          "loss": 0.9828240275382996
         },
         {
          "i": 1201,
          "loss": 0.9802738428115845
         },
         {
          "i": 1202,
          "loss": 0.9780457019805908
         },
         {
          "i": 1203,
          "loss": 0.975780725479126
         },
         {
          "i": 1204,
          "loss": 0.973293125629425
         },
         {
          "i": 1205,
          "loss": 0.9708112478256226
         },
         {
          "i": 1206,
          "loss": 0.9683314561843872
         },
         {
          "i": 1207,
          "loss": 0.9659559726715088
         },
         {
          "i": 1208,
          "loss": 0.9635535478591919
         },
         {
          "i": 1209,
          "loss": 0.961068332195282
         },
         {
          "i": 1210,
          "loss": 0.9585863351821899
         },
         {
          "i": 1211,
          "loss": 0.9561054110527039
         },
         {
          "i": 1212,
          "loss": 0.9537848830223083
         },
         {
          "i": 1213,
          "loss": 0.9513252973556519
         },
         {
          "i": 1214,
          "loss": 0.9488787055015564
         },
         {
          "i": 1215,
          "loss": 0.9464353322982788
         },
         {
          "i": 1216,
          "loss": 0.9440812468528748
         },
         {
          "i": 1217,
          "loss": 0.942181408405304
         },
         {
          "i": 1218,
          "loss": 0.9396886229515076
         },
         {
          "i": 1219,
          "loss": 0.9372231364250183
         },
         {
          "i": 1220,
          "loss": 0.9347744584083557
         },
         {
          "i": 1221,
          "loss": 0.9324390888214111
         },
         {
          "i": 1222,
          "loss": 0.9300613403320312
         },
         {
          "i": 1223,
          "loss": 0.9276134967803955
         },
         {
          "i": 1224,
          "loss": 0.9251695871353149
         },
         {
          "i": 1225,
          "loss": 0.9227645993232727
         },
         {
          "i": 1226,
          "loss": 0.9204666018486023
         },
         {
          "i": 1227,
          "loss": 0.9180267453193665
         },
         {
          "i": 1228,
          "loss": 0.915590763092041
         },
         {
          "i": 1229,
          "loss": 0.9131553173065186
         },
         {
          "i": 1230,
          "loss": 0.9108685255050659
         },
         {
          "i": 1231,
          "loss": 0.9084955453872681
         },
         {
          "i": 1232,
          "loss": 0.9061150550842285
         },
         {
          "i": 1233,
          "loss": 0.9036816358566284
         },
         {
          "i": 1234,
          "loss": 0.9014370441436768
         },
         {
          "i": 1235,
          "loss": 0.8993937969207764
         },
         {
          "i": 1236,
          "loss": 0.8969454765319824
         },
         {
          "i": 1237,
          "loss": 0.8945059776306152
         },
         {
          "i": 1238,
          "loss": 0.8920934200286865
         },
         {
          "i": 1239,
          "loss": 0.889777660369873
         },
         {
          "i": 1240,
          "loss": 0.8872697949409485
         },
         {
          "i": 1241,
          "loss": 0.8847135305404663
         },
         {
          "i": 1242,
          "loss": 0.8821912407875061
         },
         {
          "i": 1243,
          "loss": 0.8798330426216125
         },
         {
          "i": 1244,
          "loss": 0.8773068189620972
         },
         {
          "i": 1245,
          "loss": 0.8747844696044922
         },
         {
          "i": 1246,
          "loss": 0.8722730875015259
         },
         {
          "i": 1247,
          "loss": 0.8699215650558472
         },
         {
          "i": 1248,
          "loss": 0.8675186038017273
         },
         {
          "i": 1249,
          "loss": 0.8655949234962463
         },
         {
          "i": 1250,
          "loss": 0.8630788922309875
         },
         {
          "i": 1251,
          "loss": 0.8605727553367615
         },
         {
          "i": 1252,
          "loss": 0.8580678701400757
         },
         {
          "i": 1253,
          "loss": 0.8555625081062317
         },
         {
          "i": 1254,
          "loss": 0.8530741930007935
         },
         {
          "i": 1255,
          "loss": 0.8507379293441772
         },
         {
          "i": 1256,
          "loss": 0.8482305407524109
         },
         {
          "i": 1257,
          "loss": 0.8457269072532654
         },
         {
          "i": 1258,
          "loss": 0.8432653546333313
         },
         {
          "i": 1259,
          "loss": 0.8409345149993896
         },
         {
          "i": 1260,
          "loss": 0.8384952545166016
         },
         {
          "i": 1261,
          "loss": 0.8359835147857666
         },
         {
          "i": 1262,
          "loss": 0.8335745334625244
         },
         {
          "i": 1263,
          "loss": 0.8311398029327393
         },
         {
          "i": 1264,
          "loss": 0.8286303877830505
         },
         {
          "i": 1265,
          "loss": 0.8261045217514038
         },
         {
          "i": 1266,
          "loss": 0.8237438797950745
         },
         {
          "i": 1267,
          "loss": 0.8216049075126648
         },
         {
          "i": 1268,
          "loss": 0.8190343976020813
         },
         {
          "i": 1269,
          "loss": 0.8164751529693604
         },
         {
          "i": 1270,
          "loss": 0.8140438199043274
         },
         {
          "i": 1271,
          "loss": 0.8115460276603699
         },
         {
          "i": 1272,
          "loss": 0.8089916706085205
         },
         {
          "i": 1273,
          "loss": 0.8064610362052917
         },
         {
          "i": 1274,
          "loss": 0.8040790557861328
         },
         {
          "i": 1275,
          "loss": 0.8015367984771729
         },
         {
          "i": 1276,
          "loss": 0.798999547958374
         },
         {
          "i": 1277,
          "loss": 0.7965593934059143
         },
         {
          "i": 1278,
          "loss": 0.7941203117370605
         },
         {
          "i": 1279,
          "loss": 0.791653573513031
         },
         {
          "i": 1280,
          "loss": 0.7891218662261963
         },
         {
          "i": 1281,
          "loss": 0.7870651483535767
         },
         {
          "i": 1282,
          "loss": 0.7846420407295227
         },
         {
          "i": 1283,
          "loss": 0.7820992469787598
         },
         {
          "i": 1284,
          "loss": 0.779632568359375
         },
         {
          "i": 1285,
          "loss": 0.7772164940834045
         },
         {
          "i": 1286,
          "loss": 0.7746849060058594
         },
         {
          "i": 1287,
          "loss": 0.7721567749977112
         },
         {
          "i": 1288,
          "loss": 0.7698072791099548
         },
         {
          "i": 1289,
          "loss": 0.7672863006591797
         },
         {
          "i": 1290,
          "loss": 0.7647621631622314
         },
         {
          "i": 1291,
          "loss": 0.7623502612113953
         },
         {
          "i": 1292,
          "loss": 0.7598999738693237
         },
         {
          "i": 1293,
          "loss": 0.7574060559272766
         },
         {
          "i": 1294,
          "loss": 0.7549743056297302
         },
         {
          "i": 1295,
          "loss": 0.7525678277015686
         },
         {
          "i": 1296,
          "loss": 0.7501670718193054
         },
         {
          "i": 1297,
          "loss": 0.7480765581130981
         },
         {
          "i": 1298,
          "loss": 0.7455717325210571
         },
         {
          "i": 1299,
          "loss": 0.7430776357650757
         },
         {
          "i": 1300,
          "loss": 0.7405866384506226
         },
         {
          "i": 1301,
          "loss": 0.7381945848464966
         },
         {
          "i": 1302,
          "loss": 0.7358042001724243
         },
         {
          "i": 1303,
          "loss": 0.7334433794021606
         },
         {
          "i": 1304,
          "loss": 0.731147289276123
         },
         {
          "i": 1305,
          "loss": 0.7289349436759949
         },
         {
          "i": 1306,
          "loss": 0.7266107797622681
         },
         {
          "i": 1307,
          "loss": 0.7242999076843262
         },
         {
          "i": 1308,
          "loss": 0.7221537828445435
         },
         {
          "i": 1309,
          "loss": 0.7198611497879028
         },
         {
          "i": 1310,
          "loss": 0.7175518870353699
         },
         {
          "i": 1311,
          "loss": 0.7155135273933411
         },
         {
          "i": 1312,
          "loss": 0.7133737802505493
         },
         {
          "i": 1313,
          "loss": 0.7110442519187927
         },
         {
          "i": 1314,
          "loss": 0.7087660431861877
         },
         {
          "i": 1315,
          "loss": 0.7065821290016174
         },
         {
          "i": 1316,
          "loss": 0.7042615413665771
         },
         {
          "i": 1317,
          "loss": 0.7019525170326233
         },
         {
          "i": 1318,
          "loss": 0.6997935771942139
         },
         {
          "i": 1319,
          "loss": 0.6975054740905762
         },
         {
          "i": 1320,
          "loss": 0.6951977610588074
         },
         {
          "i": 1321,
          "loss": 0.6929704546928406
         },
         {
          "i": 1322,
          "loss": 0.6907104253768921
         },
         {
          "i": 1323,
          "loss": 0.6884039044380188
         },
         {
          "i": 1324,
          "loss": 0.686134397983551
         },
         {
          "i": 1325,
          "loss": 0.6839416027069092
         },
         {
          "i": 1326,
          "loss": 0.6816303730010986
         },
         {
          "i": 1327,
          "loss": 0.6793280243873596
         },
         {
          "i": 1328,
          "loss": 0.6771721839904785
         },
         {
          "i": 1329,
          "loss": 0.6749148368835449
         },
         {
          "i": 1330,
          "loss": 0.6726488471031189
         },
         {
          "i": 1331,
          "loss": 0.6704865097999573
         },
         {
          "i": 1332,
          "loss": 0.6682919859886169
         },
         {
          "i": 1333,
          "loss": 0.6660219430923462
         },
         {
          "i": 1334,
          "loss": 0.6638054847717285
         },
         {
          "i": 1335,
          "loss": 0.6616706252098083
         },
         {
          "i": 1336,
          "loss": 0.6593846082687378
         },
         {
          "i": 1337,
          "loss": 0.6570861339569092
         },
         {
          "i": 1338,
          "loss": 0.6548812389373779
         },
         {
          "i": 1339,
          "loss": 0.6525701284408569
         },
         {
          "i": 1340,
          "loss": 0.6503560543060303
         },
         {
          "i": 1341,
          "loss": 0.6482235789299011
         },
         {
          "i": 1342,
          "loss": 0.6460239291191101
         },
         {
          "i": 1343,
          "loss": 0.6438634395599365
         },
         {
          "i": 1344,
          "loss": 0.6419197916984558
         },
         {
          "i": 1345,
          "loss": 0.6397668123245239
         },
         {
          "i": 1346,
          "loss": 0.6377003192901611
         },
         {
          "i": 1347,
          "loss": 0.6356946229934692
         },
         {
          "i": 1348,
          "loss": 0.6337496638298035
         },
         {
          "i": 1349,
          "loss": 0.6317159533500671
         },
         {
          "i": 1350,
          "loss": 0.6297135949134827
         },
         {
          "i": 1351,
          "loss": 0.6277737617492676
         },
         {
          "i": 1352,
          "loss": 0.6257275938987732
         },
         {
          "i": 1353,
          "loss": 0.623704195022583
         },
         {
          "i": 1354,
          "loss": 0.6218812465667725
         },
         {
          "i": 1355,
          "loss": 0.6199324727058411
         },
         {
          "i": 1356,
          "loss": 0.6180823445320129
         },
         {
          "i": 1357,
          "loss": 0.6163852214813232
         },
         {
          "i": 1358,
          "loss": 0.6143510937690735
         },
         {
          "i": 1359,
          "loss": 0.6123393774032593
         },
         {
          "i": 1360,
          "loss": 0.6103906035423279
         },
         {
          "i": 1361,
          "loss": 0.6084761023521423
         },
         {
          "i": 1362,
          "loss": 0.6064806580543518
         },
         {
          "i": 1363,
          "loss": 0.6045056581497192
         },
         {
          "i": 1364,
          "loss": 0.6026352047920227
         },
         {
          "i": 1365,
          "loss": 0.6006507873535156
         },
         {
          "i": 1366,
          "loss": 0.5986793637275696
         },
         {
          "i": 1367,
          "loss": 0.5968058109283447
         },
         {
          "i": 1368,
          "loss": 0.5948789715766907
         },
         {
          "i": 1369,
          "loss": 0.5929767489433289
         },
         {
          "i": 1370,
          "loss": 0.5913426280021667
         },
         {
          "i": 1371,
          "loss": 0.5893762707710266
         },
         {
          "i": 1372,
          "loss": 0.5874218940734863
         },
         {
          "i": 1373,
          "loss": 0.585458517074585
         },
         {
          "i": 1374,
          "loss": 0.5836236476898193
         },
         {
          "i": 1375,
          "loss": 0.5816687941551208
         },
         {
          "i": 1376,
          "loss": 0.5797218084335327
         },
         {
          "i": 1377,
          "loss": 0.5778622627258301
         },
         {
          "i": 1378,
          "loss": 0.5759633779525757
         },
         {
          "i": 1379,
          "loss": 0.5740283131599426
         },
         {
          "i": 1380,
          "loss": 0.5721472501754761
         },
         {
          "i": 1381,
          "loss": 0.5702987909317017
         },
         {
          "i": 1382,
          "loss": 0.5683764815330505
         },
         {
          "i": 1383,
          "loss": 0.5664698481559753
         },
         {
          "i": 1384,
          "loss": 0.564680814743042
         },
         {
          "i": 1385,
          "loss": 0.5628005266189575
         },
         {
          "i": 1386,
          "loss": 0.560901403427124
         },
         {
          "i": 1387,
          "loss": 0.5591683983802795
         },
         {
          "i": 1388,
          "loss": 0.5574058294296265
         },
         {
          "i": 1389,
          "loss": 0.5554704070091248
         },
         {
          "i": 1390,
          "loss": 0.5535836815834045
         },
         {
          "i": 1391,
          "loss": 0.5517512559890747
         },
         {
          "i": 1392,
          "loss": 0.549839198589325
         },
         {
          "i": 1393,
          "loss": 0.547944962978363
         },
         {
          "i": 1394,
          "loss": 0.5461471080780029
         },
         {
          "i": 1395,
          "loss": 0.5442484021186829
         },
         {
          "i": 1396,
          "loss": 0.5423555970191956
         },
         {
          "i": 1397,
          "loss": 0.5405700206756592
         },
         {
          "i": 1398,
          "loss": 0.5386965870857239
         },
         {
          "i": 1399,
          "loss": 0.5368190407752991
         },
         {
          "i": 1400,
          "loss": 0.5350289344787598
         },
         {
          "i": 1401,
          "loss": 0.5332054495811462
         },
         {
          "i": 1402,
          "loss": 0.5313522815704346
         },
         {
          "i": 1403,
          "loss": 0.5295624136924744
         },
         {
          "i": 1404,
          "loss": 0.5277758836746216
         },
         {
          "i": 1405,
          "loss": 0.5259409546852112
         },
         {
          "i": 1406,
          "loss": 0.5241541862487793
         },
         {
          "i": 1407,
          "loss": 0.5223979949951172
         },
         {
          "i": 1408,
          "loss": 0.5205680727958679
         },
         {
          "i": 1409,
          "loss": 0.5187904834747314
         },
         {
          "i": 1410,
          "loss": 0.5171613097190857
         },
         {
          "i": 1411,
          "loss": 0.5153383612632751
         },
         {
          "i": 1412,
          "loss": 0.5135332345962524
         },
         {
          "i": 1413,
          "loss": 0.5118415355682373
         },
         {
          "i": 1414,
          "loss": 0.5100502967834473
         },
         {
          "i": 1415,
          "loss": 0.5082576274871826
         },
         {
          "i": 1416,
          "loss": 0.5065774321556091
         },
         {
          "i": 1417,
          "loss": 0.5047978758811951
         },
         {
          "i": 1418,
          "loss": 0.5030177235603333
         },
         {
          "i": 1419,
          "loss": 0.5013509392738342
         },
         {
          "i": 1420,
          "loss": 0.4995855391025543
         },
         {
          "i": 1421,
          "loss": 0.4978155791759491
         },
         {
          "i": 1422,
          "loss": 0.4961543679237366
         },
         {
          "i": 1423,
          "loss": 0.49440112709999084
         },
         {
          "i": 1424,
          "loss": 0.49264487624168396
         },
         {
          "i": 1425,
          "loss": 0.49099400639533997
         },
         {
          "i": 1426,
          "loss": 0.48925545811653137
         },
         {
          "i": 1427,
          "loss": 0.4875102937221527
         },
         {
          "i": 1428,
          "loss": 0.48587167263031006
         },
         {
          "i": 1429,
          "loss": 0.4841446578502655
         },
         {
          "i": 1430,
          "loss": 0.48240920901298523
         },
         {
          "i": 1431,
          "loss": 0.4807807207107544
         },
         {
          "i": 1432,
          "loss": 0.47905686497688293
         },
         {
          "i": 1433,
          "loss": 0.47730404138565063
         },
         {
          "i": 1434,
          "loss": 0.4756579101085663
         },
         {
          "i": 1435,
          "loss": 0.47390928864479065
         },
         {
          "i": 1436,
          "loss": 0.472253680229187
         },
         {
          "i": 1437,
          "loss": 0.4706302881240845
         },
         {
          "i": 1438,
          "loss": 0.46887707710266113
         },
         {
          "i": 1439,
          "loss": 0.4671424925327301
         },
         {
          "i": 1440,
          "loss": 0.46550452709198
         },
         {
          "i": 1441,
          "loss": 0.4637875258922577
         },
         {
          "i": 1442,
          "loss": 0.4621674418449402
         },
         {
          "i": 1443,
          "loss": 0.46059393882751465
         },
         {
          "i": 1444,
          "loss": 0.4589475393295288
         },
         {
          "i": 1445,
          "loss": 0.45736920833587646
         },
         {
          "i": 1446,
          "loss": 0.45581942796707153
         },
         {
          "i": 1447,
          "loss": 0.45426568388938904
         },
         {
          "i": 1448,
          "loss": 0.4528130292892456
         },
         {
          "i": 1449,
          "loss": 0.45132941007614136
         },
         {
          "i": 1450,
          "loss": 0.44985881447792053
         },
         {
          "i": 1451,
          "loss": 0.4484966993331909
         },
         {
          "i": 1452,
          "loss": 0.44703805446624756
         },
         {
          "i": 1453,
          "loss": 0.44568026065826416
         },
         {
          "i": 1454,
          "loss": 0.444426953792572
         },
         {
          "i": 1455,
          "loss": 0.44296833872795105
         },
         {
          "i": 1456,
          "loss": 0.44160109758377075
         },
         {
          "i": 1457,
          "loss": 0.4402773380279541
         },
         {
          "i": 1458,
          "loss": 0.43889206647872925
         },
         {
          "i": 1459,
          "loss": 0.43757006525993347
         },
         {
          "i": 1460,
          "loss": 0.43624451756477356
         },
         {
          "i": 1461,
          "loss": 0.43487632274627686
         },
         {
          "i": 1462,
          "loss": 0.4335823953151703
         },
         {
          "i": 1463,
          "loss": 0.4322596788406372
         },
         {
          "i": 1464,
          "loss": 0.4309210181236267
         },
         {
          "i": 1465,
          "loss": 0.4298335909843445
         },
         {
          "i": 1466,
          "loss": 0.42848095297813416
         },
         {
          "i": 1467,
          "loss": 0.4271402657032013
         },
         {
          "i": 1468,
          "loss": 0.42587220668792725
         },
         {
          "i": 1469,
          "loss": 0.424569308757782
         },
         {
          "i": 1470,
          "loss": 0.42324212193489075
         },
         {
          "i": 1471,
          "loss": 0.42199215292930603
         },
         {
          "i": 1472,
          "loss": 0.42069804668426514
         },
         {
          "i": 1473,
          "loss": 0.4193849563598633
         },
         {
          "i": 1474,
          "loss": 0.41814833879470825
         },
         {
          "i": 1475,
          "loss": 0.41686558723449707
         },
         {
          "i": 1476,
          "loss": 0.4155658781528473
         },
         {
          "i": 1477,
          "loss": 0.41439345479011536
         },
         {
          "i": 1478,
          "loss": 0.4132113754749298
         },
         {
          "i": 1479,
          "loss": 0.41191208362579346
         },
         {
          "i": 1480,
          "loss": 0.4106731414794922
         },
         {
          "i": 1481,
          "loss": 0.4094216525554657
         },
         {
          "i": 1482,
          "loss": 0.4081408381462097
         },
         {
          "i": 1483,
          "loss": 0.4069191813468933
         },
         {
          "i": 1484,
          "loss": 0.40567752718925476
         },
         {
          "i": 1485,
          "loss": 0.40440523624420166
         },
         {
          "i": 1486,
          "loss": 0.403186559677124
         },
         {
          "i": 1487,
          "loss": 0.4019576907157898
         },
         {
          "i": 1488,
          "loss": 0.4006996154785156
         },
         {
          "i": 1489,
          "loss": 0.39948567748069763
         },
         {
          "i": 1490,
          "loss": 0.39827075600624084
         },
         {
          "i": 1491,
          "loss": 0.39702433347702026
         },
         {
          "i": 1492,
          "loss": 0.3958303928375244
         },
         {
          "i": 1493,
          "loss": 0.3947272002696991
         },
         {
          "i": 1494,
          "loss": 0.3934803307056427
         },
         {
          "i": 1495,
          "loss": 0.3922658860683441
         },
         {
          "i": 1496,
          "loss": 0.3910849392414093
         },
         {
          "i": 1497,
          "loss": 0.38984957337379456
         },
         {
          "i": 1498,
          "loss": 0.38864314556121826
         },
         {
          "i": 1499,
          "loss": 0.38747233152389526
         },
         {
          "i": 1500,
          "loss": 0.3862503468990326
         },
         {
          "i": 1501,
          "loss": 0.3850516378879547
         },
         {
          "i": 1502,
          "loss": 0.38389015197753906
         },
         {
          "i": 1503,
          "loss": 0.38267984986305237
         },
         {
          "i": 1504,
          "loss": 0.38148820400238037
         },
         {
          "i": 1505,
          "loss": 0.3803424537181854
         },
         {
          "i": 1506,
          "loss": 0.3791373074054718
         },
         {
          "i": 1507,
          "loss": 0.37795695662498474
         },
         {
          "i": 1508,
          "loss": 0.3768180012702942
         },
         {
          "i": 1509,
          "loss": 0.3756253123283386
         },
         {
          "i": 1510,
          "loss": 0.3744567930698395
         },
         {
          "i": 1511,
          "loss": 0.37341517210006714
         },
         {
          "i": 1512,
          "loss": 0.37222564220428467
         },
         {
          "i": 1513,
          "loss": 0.3710476756095886
         },
         {
          "i": 1514,
          "loss": 0.3699394464492798
         },
         {
          "i": 1515,
          "loss": 0.3687613010406494
         },
         {
          "i": 1516,
          "loss": 0.3676002025604248
         },
         {
          "i": 1517,
          "loss": 0.3664960563182831
         },
         {
          "i": 1518,
          "loss": 0.36532893776893616
         },
         {
          "i": 1519,
          "loss": 0.3641831874847412
         },
         {
          "i": 1520,
          "loss": 0.36308297514915466
         },
         {
          "i": 1521,
          "loss": 0.3619263470172882
         },
         {
          "i": 1522,
          "loss": 0.36078912019729614
         },
         {
          "i": 1523,
          "loss": 0.35969609022140503
         },
         {
          "i": 1524,
          "loss": 0.35855212807655334
         },
         {
          "i": 1525,
          "loss": 0.35742583870887756
         },
         {
          "i": 1526,
          "loss": 0.35633841156959534
         },
         {
          "i": 1527,
          "loss": 0.35520511865615845
         },
         {
          "i": 1528,
          "loss": 0.35409051179885864
         },
         {
          "i": 1529,
          "loss": 0.3530133366584778
         },
         {
          "i": 1530,
          "loss": 0.35188528895378113
         },
         {
          "i": 1531,
          "loss": 0.35076749324798584
         },
         {
          "i": 1532,
          "loss": 0.3496682643890381
         },
         {
          "i": 1533,
          "loss": 0.3485165536403656
         },
         {
          "i": 1534,
          "loss": 0.3473987281322479
         },
         {
          "i": 1535,
          "loss": 0.34628939628601074
         },
         {
          "i": 1536,
          "loss": 0.3451399505138397
         },
         {
          "i": 1537,
          "loss": 0.34408867359161377
         },
         {
          "i": 1538,
          "loss": 0.3430233299732208
         },
         {
          "i": 1539,
          "loss": 0.34186190366744995
         },
         {
          "i": 1540,
          "loss": 0.3407366871833801
         },
         {
          "i": 1541,
          "loss": 0.33962520956993103
         },
         {
          "i": 1542,
          "loss": 0.3384740948677063
         },
         {
          "i": 1543,
          "loss": 0.3373775780200958
         },
         {
          "i": 1544,
          "loss": 0.3363124132156372
         },
         {
          "i": 1545,
          "loss": 0.33522987365722656
         },
         {
          "i": 1546,
          "loss": 0.33421066403388977
         },
         {
          "i": 1547,
          "loss": 0.3331544101238251
         },
         {
          "i": 1548,
          "loss": 0.3321096897125244
         },
         {
          "i": 1549,
          "loss": 0.3312457799911499
         },
         {
          "i": 1550,
          "loss": 0.3301718533039093
         },
         {
          "i": 1551,
          "loss": 0.32911673188209534
         },
         {
          "i": 1552,
          "loss": 0.32812368869781494
         },
         {
          "i": 1553,
          "loss": 0.32709357142448425
         },
         {
          "i": 1554,
          "loss": 0.3260909914970398
         },
         {
          "i": 1555,
          "loss": 0.32511085271835327
         },
         {
          "i": 1556,
          "loss": 0.3241068720817566
         },
         {
          "i": 1557,
          "loss": 0.32315149903297424
         },
         {
          "i": 1558,
          "loss": 0.3221909701824188
         },
         {
          "i": 1559,
          "loss": 0.321206659078598
         },
         {
          "i": 1560,
          "loss": 0.3202744424343109
         },
         {
          "i": 1561,
          "loss": 0.3193182945251465
         },
         {
          "i": 1562,
          "loss": 0.31835219264030457
         },
         {
          "i": 1563,
          "loss": 0.31743741035461426
         },
         {
          "i": 1564,
          "loss": 0.3164840340614319
         },
         {
          "i": 1565,
          "loss": 0.31557026505470276
         },
         {
          "i": 1566,
          "loss": 0.3147639334201813
         },
         {
          "i": 1567,
          "loss": 0.3138390779495239
         },
         {
          "i": 1568,
          "loss": 0.3129276931285858
         },
         {
          "i": 1569,
          "loss": 0.31207671761512756
         },
         {
          "i": 1570,
          "loss": 0.31117382645606995
         },
         {
          "i": 1571,
          "loss": 0.3102951943874359
         },
         {
          "i": 1572,
          "loss": 0.3094441294670105
         },
         {
          "i": 1573,
          "loss": 0.30855369567871094
         },
         {
          "i": 1574,
          "loss": 0.30768993496894836
         },
         {
          "i": 1575,
          "loss": 0.30684033036231995
         },
         {
          "i": 1576,
          "loss": 0.30596286058425903
         },
         {
          "i": 1577,
          "loss": 0.305117130279541
         },
         {
          "i": 1578,
          "loss": 0.3042721450328827
         },
         {
          "i": 1579,
          "loss": 0.30340442061424255
         },
         {
          "i": 1580,
          "loss": 0.302566796541214
         },
         {
          "i": 1581,
          "loss": 0.3017319440841675
         },
         {
          "i": 1582,
          "loss": 0.30087199807167053
         },
         {
          "i": 1583,
          "loss": 0.3000487983226776
         },
         {
          "i": 1584,
          "loss": 0.29923030734062195
         },
         {
          "i": 1585,
          "loss": 0.29838505387306213
         },
         {
          "i": 1586,
          "loss": 0.29759281873703003
         },
         {
          "i": 1587,
          "loss": 0.2968044579029083
         },
         {
          "i": 1588,
          "loss": 0.2959625720977783
         },
         {
          "i": 1589,
          "loss": 0.2951408922672272
         },
         {
          "i": 1590,
          "loss": 0.294342041015625
         },
         {
          "i": 1591,
          "loss": 0.2935123145580292
         },
         {
          "i": 1592,
          "loss": 0.2927020490169525
         },
         {
          "i": 1593,
          "loss": 0.29191237688064575
         },
         {
          "i": 1594,
          "loss": 0.2911234498023987
         },
         {
          "i": 1595,
          "loss": 0.29035305976867676
         },
         {
          "i": 1596,
          "loss": 0.2896038293838501
         },
         {
          "i": 1597,
          "loss": 0.28882378339767456
         },
         {
          "i": 1598,
          "loss": 0.2880599796772003
         },
         {
          "i": 1599,
          "loss": 0.2873205840587616
         },
         {
          "i": 1600,
          "loss": 0.2865486443042755
         },
         {
          "i": 1601,
          "loss": 0.28578799962997437
         },
         {
          "i": 1602,
          "loss": 0.28506019711494446
         },
         {
          "i": 1603,
          "loss": 0.2842962145805359
         },
         {
          "i": 1604,
          "loss": 0.2835361957550049
         },
         {
          "i": 1605,
          "loss": 0.2828195095062256
         },
         {
          "i": 1606,
          "loss": 0.28206929564476013
         },
         {
          "i": 1607,
          "loss": 0.2813156247138977
         },
         {
          "i": 1608,
          "loss": 0.2805999517440796
         },
         {
          "i": 1609,
          "loss": 0.2799118757247925
         },
         {
          "i": 1610,
          "loss": 0.27915358543395996
         },
         {
          "i": 1611,
          "loss": 0.2784216105937958
         },
         {
          "i": 1612,
          "loss": 0.27769967913627625
         },
         {
          "i": 1613,
          "loss": 0.27695518732070923
         },
         {
          "i": 1614,
          "loss": 0.2762225270271301
         },
         {
          "i": 1615,
          "loss": 0.275514155626297
         },
         {
          "i": 1616,
          "loss": 0.2747765779495239
         },
         {
          "i": 1617,
          "loss": 0.2740430533885956
         },
         {
          "i": 1618,
          "loss": 0.2733480930328369
         },
         {
          "i": 1619,
          "loss": 0.27261707186698914
         },
         {
          "i": 1620,
          "loss": 0.27188876271247864
         },
         {
          "i": 1621,
          "loss": 0.2711917757987976
         },
         {
          "i": 1622,
          "loss": 0.27047935128211975
         },
         {
          "i": 1623,
          "loss": 0.269755482673645
         },
         {
          "i": 1624,
          "loss": 0.2690536379814148
         },
         {
          "i": 1625,
          "loss": 0.26835620403289795
         },
         {
          "i": 1626,
          "loss": 0.26763930916786194
         },
         {
          "i": 1627,
          "loss": 0.2669326066970825
         },
         {
          "i": 1628,
          "loss": 0.26625093817710876
         },
         {
          "i": 1629,
          "loss": 0.2655407786369324
         },
         {
          "i": 1630,
          "loss": 0.26483288407325745
         },
         {
          "i": 1631,
          "loss": 0.2641584277153015
         },
         {
          "i": 1632,
          "loss": 0.26345938444137573
         },
         {
          "i": 1633,
          "loss": 0.26276758313179016
         },
         {
          "i": 1634,
          "loss": 0.2621174156665802
         },
         {
          "i": 1635,
          "loss": 0.2614701986312866
         },
         {
          "i": 1636,
          "loss": 0.2608039379119873
         },
         {
          "i": 1637,
          "loss": 0.2601756453514099
         },
         {
          "i": 1638,
          "loss": 0.2595726251602173
         },
         {
          "i": 1639,
          "loss": 0.2588997781276703
         },
         {
          "i": 1640,
          "loss": 0.25823643803596497
         },
         {
          "i": 1641,
          "loss": 0.25760212540626526
         },
         {
          "i": 1642,
          "loss": 0.2569519877433777
         },
         {
          "i": 1643,
          "loss": 0.25629475712776184
         },
         {
          "i": 1644,
          "loss": 0.25565779209136963
         },
         {
          "i": 1645,
          "loss": 0.25502321124076843
         },
         {
          "i": 1646,
          "loss": 0.2543755769729614
         },
         {
          "i": 1647,
          "loss": 0.25373589992523193
         },
         {
          "i": 1648,
          "loss": 0.25311973690986633
         },
         {
          "i": 1649,
          "loss": 0.2524782121181488
         },
         {
          "i": 1650,
          "loss": 0.25183913111686707
         },
         {
          "i": 1651,
          "loss": 0.2512255012989044
         },
         {
          "i": 1652,
          "loss": 0.2506002187728882
         },
         {
          "i": 1653,
          "loss": 0.24996621906757355
         },
         {
          "i": 1654,
          "loss": 0.24937398731708527
         },
         {
          "i": 1655,
          "loss": 0.24878542125225067
         },
         {
          "i": 1656,
          "loss": 0.2481505572795868
         },
         {
          "i": 1657,
          "loss": 0.24752271175384521
         },
         {
          "i": 1658,
          "loss": 0.2469196766614914
         },
         {
          "i": 1659,
          "loss": 0.2463110387325287
         },
         {
          "i": 1660,
          "loss": 0.2456907331943512
         },
         {
          "i": 1661,
          "loss": 0.2450810670852661
         },
         {
          "i": 1662,
          "loss": 0.24448856711387634
         },
         {
          "i": 1663,
          "loss": 0.24387474358081818
         },
         {
          "i": 1664,
          "loss": 0.24326331913471222
         },
         {
          "i": 1665,
          "loss": 0.24267341196537018
         },
         {
          "i": 1666,
          "loss": 0.24206046760082245
         },
         {
          "i": 1667,
          "loss": 0.24144193530082703
         },
         {
          "i": 1668,
          "loss": 0.24083329737186432
         },
         {
          "i": 1669,
          "loss": 0.24024039506912231
         },
         {
          "i": 1670,
          "loss": 0.23962779343128204
         },
         {
          "i": 1671,
          "loss": 0.2390173077583313
         },
         {
          "i": 1672,
          "loss": 0.2384386658668518
         },
         {
          "i": 1673,
          "loss": 0.23787496984004974
         },
         {
          "i": 1674,
          "loss": 0.23726285994052887
         },
         {
          "i": 1675,
          "loss": 0.23665624856948853
         },
         {
          "i": 1676,
          "loss": 0.23607677221298218
         },
         {
          "i": 1677,
          "loss": 0.23547804355621338
         },
         {
          "i": 1678,
          "loss": 0.23487773537635803
         },
         {
          "i": 1679,
          "loss": 0.23429055511951447
         },
         {
          "i": 1680,
          "loss": 0.2337096929550171
         },
         {
          "i": 1681,
          "loss": 0.23310138285160065
         },
         {
          "i": 1682,
          "loss": 0.23249563574790955
         },
         {
          "i": 1683,
          "loss": 0.23191231489181519
         },
         {
          "i": 1684,
          "loss": 0.2313196212053299
         },
         {
          "i": 1685,
          "loss": 0.2307257503271103
         },
         {
          "i": 1686,
          "loss": 0.2301357090473175
         },
         {
          "i": 1687,
          "loss": 0.22957053780555725
         },
         {
          "i": 1688,
          "loss": 0.22898243367671967
         },
         {
          "i": 1689,
          "loss": 0.22839844226837158
         },
         {
          "i": 1690,
          "loss": 0.22782494127750397
         },
         {
          "i": 1691,
          "loss": 0.22726210951805115
         },
         {
          "i": 1692,
          "loss": 0.22668388485908508
         },
         {
          "i": 1693,
          "loss": 0.22610978782176971
         },
         {
          "i": 1694,
          "loss": 0.2255481332540512
         },
         {
          "i": 1695,
          "loss": 0.22498680651187897
         },
         {
          "i": 1696,
          "loss": 0.22441719472408295
         },
         {
          "i": 1697,
          "loss": 0.22384801506996155
         },
         {
          "i": 1698,
          "loss": 0.2232978194952011
         },
         {
          "i": 1699,
          "loss": 0.22273902595043182
         },
         {
          "i": 1700,
          "loss": 0.2221759557723999
         },
         {
          "i": 1701,
          "loss": 0.22161275148391724
         },
         {
          "i": 1702,
          "loss": 0.2210789918899536
         },
         {
          "i": 1703,
          "loss": 0.22054311633110046
         },
         {
          "i": 1704,
          "loss": 0.219981849193573
         },
         {
          "i": 1705,
          "loss": 0.21942520141601562
         },
         {
          "i": 1706,
          "loss": 0.218892902135849
         },
         {
          "i": 1707,
          "loss": 0.21833810210227966
         },
         {
          "i": 1708,
          "loss": 0.21778544783592224
         },
         {
          "i": 1709,
          "loss": 0.2172454595565796
         },
         {
          "i": 1710,
          "loss": 0.21670836210250854
         },
         {
          "i": 1711,
          "loss": 0.216158926486969
         },
         {
          "i": 1712,
          "loss": 0.21561117470264435
         },
         {
          "i": 1713,
          "loss": 0.21508485078811646
         },
         {
          "i": 1714,
          "loss": 0.21454647183418274
         },
         {
          "i": 1715,
          "loss": 0.214006707072258
         },
         {
          "i": 1716,
          "loss": 0.21347074210643768
         },
         {
          "i": 1717,
          "loss": 0.21295569837093353
         },
         {
          "i": 1718,
          "loss": 0.21242038905620575
         },
         {
          "i": 1719,
          "loss": 0.21188688278198242
         },
         {
          "i": 1720,
          "loss": 0.21136349439620972
         },
         {
          "i": 1721,
          "loss": 0.21084783971309662
         },
         {
          "i": 1722,
          "loss": 0.21031884849071503
         },
         {
          "i": 1723,
          "loss": 0.20979151129722595
         },
         {
          "i": 1724,
          "loss": 0.20928050577640533
         },
         {
          "i": 1725,
          "loss": 0.20876464247703552
         },
         {
          "i": 1726,
          "loss": 0.20824171602725983
         },
         {
          "i": 1727,
          "loss": 0.2077205330133438
         },
         {
          "i": 1728,
          "loss": 0.2072211652994156
         },
         {
          "i": 1729,
          "loss": 0.20670542120933533
         },
         {
          "i": 1730,
          "loss": 0.20618847012519836
         },
         {
          "i": 1731,
          "loss": 0.20567680895328522
         },
         {
          "i": 1732,
          "loss": 0.20518220961093903
         },
         {
          "i": 1733,
          "loss": 0.2046700119972229
         },
         {
          "i": 1734,
          "loss": 0.20415927469730377
         },
         {
          "i": 1735,
          "loss": 0.2036597579717636
         },
         {
          "i": 1736,
          "loss": 0.20316505432128906
         },
         {
          "i": 1737,
          "loss": 0.20265859365463257
         },
         {
          "i": 1738,
          "loss": 0.20215396583080292
         },
         {
          "i": 1739,
          "loss": 0.2016659379005432
         },
         {
          "i": 1740,
          "loss": 0.2011713832616806
         },
         {
          "i": 1741,
          "loss": 0.20067112147808075
         },
         {
          "i": 1742,
          "loss": 0.20017236471176147
         },
         {
          "i": 1743,
          "loss": 0.1996953785419464
         },
         {
          "i": 1744,
          "loss": 0.1992005854845047
         },
         {
          "i": 1745,
          "loss": 0.19870580732822418
         },
         {
          "i": 1746,
          "loss": 0.1982170045375824
         },
         {
          "i": 1747,
          "loss": 0.19774803519248962
         },
         {
          "i": 1748,
          "loss": 0.1972537785768509
         },
         {
          "i": 1749,
          "loss": 0.1967640370130539
         },
         {
          "i": 1750,
          "loss": 0.19628354907035828
         },
         {
          "i": 1751,
          "loss": 0.19581067562103271
         },
         {
          "i": 1752,
          "loss": 0.1953270137310028
         },
         {
          "i": 1753,
          "loss": 0.194846972823143
         },
         {
          "i": 1754,
          "loss": 0.19437265396118164
         },
         {
          "i": 1755,
          "loss": 0.19390219449996948
         },
         {
          "i": 1756,
          "loss": 0.19342273473739624
         },
         {
          "i": 1757,
          "loss": 0.19294971227645874
         },
         {
          "i": 1758,
          "loss": 0.19248397648334503
         },
         {
          "i": 1759,
          "loss": 0.1920153647661209
         },
         {
          "i": 1760,
          "loss": 0.19154106080532074
         },
         {
          "i": 1761,
          "loss": 0.19107390940189362
         },
         {
          "i": 1762,
          "loss": 0.19061686098575592
         },
         {
          "i": 1763,
          "loss": 0.19015011191368103
         },
         {
          "i": 1764,
          "loss": 0.18968181312084198
         },
         {
          "i": 1765,
          "loss": 0.18922103941440582
         },
         {
          "i": 1766,
          "loss": 0.18877439200878143
         },
         {
          "i": 1767,
          "loss": 0.18831612169742584
         },
         {
          "i": 1768,
          "loss": 0.18784473836421967
         },
         {
          "i": 1769,
          "loss": 0.18739433586597443
         },
         {
          "i": 1770,
          "loss": 0.18694354593753815
         },
         {
          "i": 1771,
          "loss": 0.18648558855056763
         },
         {
          "i": 1772,
          "loss": 0.18603576719760895
         },
         {
          "i": 1773,
          "loss": 0.1855848729610443
         },
         {
          "i": 1774,
          "loss": 0.18514777719974518
         },
         {
          "i": 1775,
          "loss": 0.1846846342086792
         },
         {
          "i": 1776,
          "loss": 0.18424087762832642
         },
         {
          "i": 1777,
          "loss": 0.18379680812358856
         },
         {
          "i": 1778,
          "loss": 0.18335634469985962
         },
         {
          "i": 1779,
          "loss": 0.18290701508522034
         },
         {
          "i": 1780,
          "loss": 0.18246188759803772
         },
         {
          "i": 1781,
          "loss": 0.18203260004520416
         },
         {
          "i": 1782,
          "loss": 0.18158812820911407
         },
         {
          "i": 1783,
          "loss": 0.18114539980888367
         },
         {
          "i": 1784,
          "loss": 0.18070393800735474
         },
         {
          "i": 1785,
          "loss": 0.18028277158737183
         },
         {
          "i": 1786,
          "loss": 0.17984195053577423
         },
         {
          "i": 1787,
          "loss": 0.1794031858444214
         },
         {
          "i": 1788,
          "loss": 0.17897403240203857
         },
         {
          "i": 1789,
          "loss": 0.17854942381381989
         },
         {
          "i": 1790,
          "loss": 0.1781148761510849
         },
         {
          "i": 1791,
          "loss": 0.1776818335056305
         },
         {
          "i": 1792,
          "loss": 0.17726190388202667
         },
         {
          "i": 1793,
          "loss": 0.17683783173561096
         },
         {
          "i": 1794,
          "loss": 0.1764051467180252
         },
         {
          "i": 1795,
          "loss": 0.17596696317195892
         },
         {
          "i": 1796,
          "loss": 0.17554603517055511
         },
         {
          "i": 1797,
          "loss": 0.17511264979839325
         },
         {
          "i": 1798,
          "loss": 0.17467834055423737
         },
         {
          "i": 1799,
          "loss": 0.17424720525741577
         },
         {
          "i": 1800,
          "loss": 0.17383193969726562
         },
         {
          "i": 1801,
          "loss": 0.17340153455734253
         },
         {
          "i": 1802,
          "loss": 0.17297601699829102
         },
         {
          "i": 1803,
          "loss": 0.1725633442401886
         },
         {
          "i": 1804,
          "loss": 0.17214909195899963
         },
         {
          "i": 1805,
          "loss": 0.1717238426208496
         },
         {
          "i": 1806,
          "loss": 0.17130042612552643
         },
         {
          "i": 1807,
          "loss": 0.17088793218135834
         },
         {
          "i": 1808,
          "loss": 0.17047472298145294
         },
         {
          "i": 1809,
          "loss": 0.17005504667758942
         },
         {
          "i": 1810,
          "loss": 0.16963663697242737
         },
         {
          "i": 1811,
          "loss": 0.16923171281814575
         },
         {
          "i": 1812,
          "loss": 0.16882073879241943
         },
         {
          "i": 1813,
          "loss": 0.168406143784523
         },
         {
          "i": 1814,
          "loss": 0.16799291968345642
         },
         {
          "i": 1815,
          "loss": 0.16759465634822845
         },
         {
          "i": 1816,
          "loss": 0.16718681156635284
         },
         {
          "i": 1817,
          "loss": 0.16677726805210114
         },
         {
          "i": 1818,
          "loss": 0.1663694530725479
         },
         {
          "i": 1819,
          "loss": 0.16597864031791687
         },
         {
          "i": 1820,
          "loss": 0.16557638347148895
         },
         {
          "i": 1821,
          "loss": 0.16517366468906403
         },
         {
          "i": 1822,
          "loss": 0.16477225720882416
         },
         {
          "i": 1823,
          "loss": 0.1643868237733841
         },
         {
          "i": 1824,
          "loss": 0.1639886349439621
         },
         {
          "i": 1825,
          "loss": 0.1635906994342804
         },
         {
          "i": 1826,
          "loss": 0.16319601237773895
         },
         {
          "i": 1827,
          "loss": 0.16282294690608978
         },
         {
          "i": 1828,
          "loss": 0.16243652999401093
         },
         {
          "i": 1829,
          "loss": 0.16205081343650818
         },
         {
          "i": 1830,
          "loss": 0.1616666465997696
         },
         {
          "i": 1831,
          "loss": 0.1612982153892517
         },
         {
          "i": 1832,
          "loss": 0.16091617941856384
         },
         {
          "i": 1833,
          "loss": 0.16053533554077148
         },
         {
          "i": 1834,
          "loss": 0.16015595197677612
         },
         {
          "i": 1835,
          "loss": 0.1597912609577179
         },
         {
          "i": 1836,
          "loss": 0.15941478312015533
         },
         {
          "i": 1837,
          "loss": 0.15903866291046143
         },
         {
          "i": 1838,
          "loss": 0.15866465866565704
         },
         {
          "i": 1839,
          "loss": 0.15830177068710327
         },
         {
          "i": 1840,
          "loss": 0.1579320877790451
         },
         {
          "i": 1841,
          "loss": 0.1575610190629959
         },
         {
          "i": 1842,
          "loss": 0.15719081461429596
         },
         {
          "i": 1843,
          "loss": 0.1568288654088974
         },
         {
          "i": 1844,
          "loss": 0.15646661818027496
         },
         {
          "i": 1845,
          "loss": 0.15609987080097198
         },
         {
          "i": 1846,
          "loss": 0.15573352575302124
         },
         {
          "i": 1847,
          "loss": 0.1553722620010376
         },
         {
          "i": 1848,
          "loss": 0.1550179123878479
         },
         {
          "i": 1849,
          "loss": 0.15465503931045532
         },
         {
          "i": 1850,
          "loss": 0.1542929708957672
         },
         {
          "i": 1851,
          "loss": 0.1539342701435089
         },
         {
          "i": 1852,
          "loss": 0.15359754860401154
         },
         {
          "i": 1853,
          "loss": 0.1532367467880249
         },
         {
          "i": 1854,
          "loss": 0.1528777778148651
         },
         {
          "i": 1855,
          "loss": 0.15251995623111725
         },
         {
          "i": 1856,
          "loss": 0.1521717607975006
         },
         {
          "i": 1857,
          "loss": 0.15182118117809296
         },
         {
          "i": 1858,
          "loss": 0.15146642923355103
         },
         {
          "i": 1859,
          "loss": 0.15111294388771057
         },
         {
          "i": 1860,
          "loss": 0.15076714754104614
         },
         {
          "i": 1861,
          "loss": 0.15042246878147125
         },
         {
          "i": 1862,
          "loss": 0.1500718742609024
         },
         {
          "i": 1863,
          "loss": 0.1497226506471634
         },
         {
          "i": 1864,
          "loss": 0.1493782103061676
         },
         {
          "i": 1865,
          "loss": 0.14903992414474487
         },
         {
          "i": 1866,
          "loss": 0.1486935317516327
         },
         {
          "i": 1867,
          "loss": 0.14834833145141602
         },
         {
          "i": 1868,
          "loss": 0.1480046510696411
         },
         {
          "i": 1869,
          "loss": 0.14767341315746307
         },
         {
          "i": 1870,
          "loss": 0.14733104407787323
         },
         {
          "i": 1871,
          "loss": 0.1469898670911789
         },
         {
          "i": 1872,
          "loss": 0.1466495841741562
         },
         {
          "i": 1873,
          "loss": 0.14631931483745575
         },
         {
          "i": 1874,
          "loss": 0.14598433673381805
         },
         {
          "i": 1875,
          "loss": 0.1456468552350998
         },
         {
          "i": 1876,
          "loss": 0.14531062543392181
         },
         {
          "i": 1877,
          "loss": 0.1449795961380005
         },
         {
          "i": 1878,
          "loss": 0.1446526050567627
         },
         {
          "i": 1879,
          "loss": 0.14431901276111603
         },
         {
          "i": 1880,
          "loss": 0.14398647844791412
         },
         {
          "i": 1881,
          "loss": 0.1436549425125122
         },
         {
          "i": 1882,
          "loss": 0.1433357149362564
         },
         {
          "i": 1883,
          "loss": 0.14300639927387238
         },
         {
          "i": 1884,
          "loss": 0.14267760515213013
         },
         {
          "i": 1885,
          "loss": 0.14234976470470428
         },
         {
          "i": 1886,
          "loss": 0.14202934503555298
         },
         {
          "i": 1887,
          "loss": 0.14170844852924347
         },
         {
          "i": 1888,
          "loss": 0.14138318598270416
         },
         {
          "i": 1889,
          "loss": 0.14105916023254395
         },
         {
          "i": 1890,
          "loss": 0.1407374143600464
         },
         {
          "i": 1891,
          "loss": 0.14042502641677856
         },
         {
          "i": 1892,
          "loss": 0.1401035189628601
         },
         {
          "i": 1893,
          "loss": 0.13978299498558044
         },
         {
          "i": 1894,
          "loss": 0.1394621878862381
         },
         {
          "i": 1895,
          "loss": 0.13914543390274048
         },
         {
          "i": 1896,
          "loss": 0.13882586359977722
         },
         {
          "i": 1897,
          "loss": 0.13850340247154236
         },
         {
          "i": 1898,
          "loss": 0.13818207383155823
         },
         {
          "i": 1899,
          "loss": 0.13786351680755615
         },
         {
          "i": 1900,
          "loss": 0.13755303621292114
         },
         {
          "i": 1901,
          "loss": 0.13723425567150116
         },
         {
          "i": 1902,
          "loss": 0.1369163542985916
         },
         {
          "i": 1903,
          "loss": 0.13659945130348206
         },
         {
          "i": 1904,
          "loss": 0.13629040122032166
         },
         {
          "i": 1905,
          "loss": 0.1359788477420807
         },
         {
          "i": 1906,
          "loss": 0.1356639564037323
         },
         {
          "i": 1907,
          "loss": 0.1353503167629242
         },
         {
          "i": 1908,
          "loss": 0.1350383311510086
         },
         {
          "i": 1909,
          "loss": 0.1347360759973526
         },
         {
          "i": 1910,
          "loss": 0.1344248354434967
         },
         {
          "i": 1911,
          "loss": 0.13411451876163483
         },
         {
          "i": 1912,
          "loss": 0.13380523025989532
         },
         {
          "i": 1913,
          "loss": 0.13350479304790497
         },
         {
          "i": 1914,
          "loss": 0.13320624828338623
         },
         {
          "i": 1915,
          "loss": 0.13289836049079895
         },
         {
          "i": 1916,
          "loss": 0.13259199261665344
         },
         {
          "i": 1917,
          "loss": 0.13228964805603027
         },
         {
          "i": 1918,
          "loss": 0.132001593708992
         },
         {
          "i": 1919,
          "loss": 0.13170455396175385
         },
         {
          "i": 1920,
          "loss": 0.13140785694122314
         },
         {
          "i": 1921,
          "loss": 0.13111241161823273
         },
         {
          "i": 1922,
          "loss": 0.1308259516954422
         },
         {
          "i": 1923,
          "loss": 0.13053524494171143
         },
         {
          "i": 1924,
          "loss": 0.1302427053451538
         },
         {
          "i": 1925,
          "loss": 0.12995117902755737
         },
         {
          "i": 1926,
          "loss": 0.1296646147966385
         },
         {
          "i": 1927,
          "loss": 0.12938150763511658
         },
         {
          "i": 1928,
          "loss": 0.12909284234046936
         },
         {
          "i": 1929,
          "loss": 0.12880514562129974
         },
         {
          "i": 1930,
          "loss": 0.12851852178573608
         },
         {
          "i": 1931,
          "loss": 0.12824031710624695
         },
         {
          "i": 1932,
          "loss": 0.12795735895633698
         },
         {
          "i": 1933,
          "loss": 0.12767329812049866
         },
         {
          "i": 1934,
          "loss": 0.12739020586013794
         },
         {
          "i": 1935,
          "loss": 0.12710846960544586
         },
         {
          "i": 1936,
          "loss": 0.12683551013469696
         },
         {
          "i": 1937,
          "loss": 0.12655086815357208
         },
         {
          "i": 1938,
          "loss": 0.12626731395721436
         },
         {
          "i": 1939,
          "loss": 0.12598499655723572
         },
         {
          "i": 1940,
          "loss": 0.12570489943027496
         },
         {
          "i": 1941,
          "loss": 0.12543123960494995
         },
         {
          "i": 1942,
          "loss": 0.12515148520469666
         },
         {
          "i": 1943,
          "loss": 0.12487196922302246
         },
         {
          "i": 1944,
          "loss": 0.12459371238946915
         },
         {
          "i": 1945,
          "loss": 0.12431687116622925
         },
         {
          "i": 1946,
          "loss": 0.12404707819223404
         },
         {
          "i": 1947,
          "loss": 0.12377133220434189
         },
         {
          "i": 1948,
          "loss": 0.12349562346935272
         },
         {
          "i": 1949,
          "loss": 0.1232200637459755
         },
         {
          "i": 1950,
          "loss": 0.12294276058673859
         },
         {
          "i": 1951,
          "loss": 0.1226741150021553
         },
         {
          "i": 1952,
          "loss": 0.12239865213632584
         },
         {
          "i": 1953,
          "loss": 0.12212342023849487
         },
         {
          "i": 1954,
          "loss": 0.12184973061084747
         },
         {
          "i": 1955,
          "loss": 0.12157640606164932
         },
         {
          "i": 1956,
          "loss": 0.12131434679031372
         },
         {
          "i": 1957,
          "loss": 0.12105002999305725
         },
         {
          "i": 1958,
          "loss": 0.12077783793210983
         },
         {
          "i": 1959,
          "loss": 0.12050702422857285
         },
         {
          "i": 1960,
          "loss": 0.12023703753948212
         },
         {
          "i": 1961,
          "loss": 0.11997274309396744
         },
         {
          "i": 1962,
          "loss": 0.1197080984711647
         },
         {
          "i": 1963,
          "loss": 0.11944090574979782
         },
         {
          "i": 1964,
          "loss": 0.11917714774608612
         },
         {
          "i": 1965,
          "loss": 0.11891460418701172
         },
         {
          "i": 1966,
          "loss": 0.11865895986557007
         },
         {
          "i": 1967,
          "loss": 0.11840040236711502
         },
         {
          "i": 1968,
          "loss": 0.11814063042402267
         },
         {
          "i": 1969,
          "loss": 0.1178818866610527
         },
         {
          "i": 1970,
          "loss": 0.11762402206659317
         },
         {
          "i": 1971,
          "loss": 0.11737213283777237
         },
         {
          "i": 1972,
          "loss": 0.11711855232715607
         },
         {
          "i": 1973,
          "loss": 0.11686324328184128
         },
         {
          "i": 1974,
          "loss": 0.11660900712013245
         },
         {
          "i": 1975,
          "loss": 0.11635555326938629
         },
         {
          "i": 1976,
          "loss": 0.1161147877573967
         },
         {
          "i": 1977,
          "loss": 0.11587324738502502
         },
         {
          "i": 1978,
          "loss": 0.11562084406614304
         },
         {
          "i": 1979,
          "loss": 0.11536969989538193
         },
         {
          "i": 1980,
          "loss": 0.11511942744255066
         },
         {
          "i": 1981,
          "loss": 0.11486999690532684
         },
         {
          "i": 1982,
          "loss": 0.1146252453327179
         },
         {
          "i": 1983,
          "loss": 0.1143808662891388
         },
         {
          "i": 1984,
          "loss": 0.1141338124871254
         },
         {
          "i": 1985,
          "loss": 0.1138877123594284
         },
         {
          "i": 1986,
          "loss": 0.11364241689443588
         },
         {
          "i": 1987,
          "loss": 0.11339794844388962
         },
         {
          "i": 1988,
          "loss": 0.11316019296646118
         },
         {
          "i": 1989,
          "loss": 0.1129176989197731
         },
         {
          "i": 1990,
          "loss": 0.11267540603876114
         },
         {
          "i": 1991,
          "loss": 0.1124337688088417
         },
         {
          "i": 1992,
          "loss": 0.11219310760498047
         },
         {
          "i": 1993,
          "loss": 0.11195338517427444
         },
         {
          "i": 1994,
          "loss": 0.11172006279230118
         },
         {
          "i": 1995,
          "loss": 0.11148139834403992
         },
         {
          "i": 1996,
          "loss": 0.11124370247125626
         },
         {
          "i": 1997,
          "loss": 0.11100704222917557
         },
         {
          "i": 1998,
          "loss": 0.11077236384153366
         },
         {
          "i": 1999,
          "loss": 0.11055241525173187
         }
        ]
       },
       "encoding": {
        "x": {
         "field": "i",
         "type": "quantitative"
        },
        "y": {
         "field": "loss",
         "type": "quantitative"
        }
       },
       "height": 100,
       "mark": "line"
      },
      "image/png": "[encoded data removed]",
      "text/plain": [
       "<VegaLite 3 object>\n",
       "\n",
       "If you see this message, it means the renderer has not been properly enabled\n",
       "for the frontend that you are using. For more information, see\n",
       "https://altair-viz.github.io/user_guide/troubleshooting.html\n"
      ]
     },
     "execution_count": 223,
     "metadata": {},
     "output_type": "execute_result"
    }
   ],
   "source": [
    "loss_df = pd.DataFrame({'i':range(n_steps), 'loss':loss_record})\n",
    "alt.Chart(loss_df, height=100).mark_line().encode(x='i', y='loss')"
   ]
  },
  {
   "cell_type": "code",
   "execution_count": 224,
   "metadata": {},
   "outputs": [
    {
     "data": {
      "application/vnd.vegalite.v3+json": {
       "$schema": "https://vega.github.io/schema/vega-lite/v3.4.0.json",
       "config": {
        "mark": {
         "tooltip": null
        },
        "view": {
         "height": 300,
         "width": 400
        }
       },
       "data": {
        "name": "data-93781128f1b2be49fff2d47e9e7c9491"
       },
       "datasets": {
        "data-93781128f1b2be49fff2d47e9e7c9491": [
         {
          "x1": 1.3925105333328247,
          "y": 2.045983076095581,
          "ŷ": 2.3185582160949707
         },
         {
          "x1": -0.83494633436203,
          "y": -0.38517293334007263,
          "ŷ": -1.0983102321624756
         },
         {
          "x1": -1.3506728410720825,
          "y": -1.6930019855499268,
          "ŷ": -2.2000443935394287
         },
         {
          "x1": 0.34250175952911377,
          "y": 1.020087480545044,
          "ŷ": 1.0234923362731934
         },
         {
          "x1": 1.6934736967086792,
          "y": 5.327885627746582,
          "ŷ": 5.294925212860107
         },
         {
          "x1": -0.2501945495605469,
          "y": -0.8575526475906372,
          "ŷ": -0.6700896620750427
         },
         {
          "x1": 0.20255796611309052,
          "y": 0.7327579259872437,
          "ŷ": 0.7706223130226135
         },
         {
          "x1": 0.04228057712316513,
          "y": 0.1683928221464157,
          "ŷ": 0.04517275094985962
         },
         {
          "x1": -0.009086072444915771,
          "y": -0.03633703663945198,
          "ŷ": -0.23890942335128784
         },
         {
          "x1": -0.798854410648346,
          "y": -0.45600464940071106,
          "ŷ": -1.0983102321624756
         },
         {
          "x1": 0.3972577154636383,
          "y": 1.0625264644622803,
          "ŷ": 1.077784776687622
         },
         {
          "x1": 1.0628230571746826,
          "y": 0.30499231815338135,
          "ŷ": 0.38805776834487915
         },
         {
          "x1": -1.2112994194030762,
          "y": -0.7860807180404663,
          "ŷ": -1.205212116241455
         },
         {
          "x1": 1.856379508972168,
          "y": 7.306957721710205,
          "ŷ": 7.203892707824707
         },
         {
          "x1": -1.3579192161560059,
          "y": -1.7516525983810425,
          "ŷ": -2.2587687969207764
         },
         {
          "x1": 0.2741929292678833,
          "y": 0.9103527069091797,
          "ŷ": 0.9152122139930725
         },
         {
          "x1": -0.8186396360397339,
          "y": -0.4160539507865906,
          "ŷ": -1.0983102321624756
         },
         {
          "x1": 0.15097445249557495,
          "y": 0.5712963938713074,
          "ŷ": 0.6274986863136292
         },
         {
          "x1": -0.46315106749534607,
          "y": -1.0599042177200317,
          "ŷ": -1.0132544040679932
         },
         {
          "x1": -1.158079981803894,
          "y": -0.5563618540763855,
          "ŷ": -1.183227777481079
         },
         {
          "x1": -0.44949597120285034,
          "y": -1.0651228427886963,
          "ŷ": -0.9378038048744202
         },
         {
          "x1": -0.10324347764253616,
          "y": -0.4024354815483093,
          "ŷ": -0.6152593493461609
         },
         {
          "x1": -0.41546371579170227,
          "y": -1.0675703287124634,
          "ŷ": -0.7497596144676208
         },
         {
          "x1": -0.2692573368549347,
          "y": -0.9000747799873352,
          "ŷ": -0.6688478589057922
         },
         {
          "x1": 0.21172472834587097,
          "y": 0.7587212324142456,
          "ŷ": 0.7960548996925354
         },
         {
          "x1": 1.6373955011367798,
          "y": 4.653219223022461,
          "ŷ": 4.726390361785889
         },
         {
          "x1": 1.1845717430114746,
          "y": 0.6625384092330933,
          "ŷ": 0.596649706363678
         },
         {
          "x1": 0.11129733920097351,
          "y": 0.43200743198394775,
          "ŷ": 0.4268692135810852
         },
         {
          "x1": 1.8715521097183228,
          "y": 7.488629341125488,
          "ŷ": 7.3817901611328125
         },
         {
          "x1": -1.086632251739502,
          "y": -0.3492460250854492,
          "ŷ": -1.1537134647369385
         },
         {
          "x1": -0.5343459248542786,
          "y": -0.9963070750236511,
          "ŷ": -1.0983102321624756
         },
         {
          "x1": 0.7554900050163269,
          "y": 0.5505548119544983,
          "ŷ": 0.5642967820167542
         },
         {
          "x1": -0.17758269608020782,
          "y": -0.6576847434043884,
          "ŷ": -0.5783261656761169
         },
         {
          "x1": 0.8096725940704346,
          "y": 0.43385159969329834,
          "ŷ": 0.459783136844635
         },
         {
          "x1": 0.24827183783054352,
          "y": 0.8530191779136658,
          "ŷ": 0.8741238713264465
         },
         {
          "x1": 0.5893934369087219,
          "y": 0.910876989364624,
          "ŷ": 0.88467937707901
         },
         {
          "x1": 0.3195939064025879,
          "y": 0.9901922345161438,
          "ŷ": 0.9871798157691956
         },
         {
          "x1": 0.30526021122932434,
          "y": 0.9679018259048462,
          "ŷ": 0.9644594788551331
         },
         {
          "x1": 0.4627739191055298,
          "y": 1.0600801706314087,
          "ŷ": 1.0884513854980469
         },
         {
          "x1": -0.4927133023738861,
          "y": -1.040653109550476,
          "ŷ": -1.0983102321624756
         },
         {
          "x1": 0.7644363045692444,
          "y": 0.5304574370384216,
          "ŷ": 0.5470409989356995
         },
         {
          "x1": -1.0203443765640259,
          "y": -0.2548521161079407,
          "ŷ": -1.1263309717178345
         },
         {
          "x1": -0.8026761412620544,
          "y": -0.4480985105037689,
          "ŷ": -1.0983102321624756
         },
         {
          "x1": 0.020535273477435112,
          "y": 0.0820574164390564,
          "ŷ": -0.07508939504623413
         },
         {
          "x1": 0.5764201879501343,
          "y": 0.9334297180175781,
          "ŷ": 0.9097009301185608
         },
         {
          "x1": -0.09847068786621094,
          "y": -0.3847315311431885,
          "ŷ": -0.6018275618553162
         },
         {
          "x1": 0.7524592876434326,
          "y": 0.5574132800102234,
          "ŷ": 0.5701432824134827
         },
         {
          "x1": -1.2530494928359985,
          "y": -1.012061595916748,
          "ŷ": -1.4480721950531006
         },
         {
          "x1": 0.5924749374389648,
          "y": 0.9053240418434143,
          "ŷ": 0.8787367939949036
         },
         {
          "x1": -0.6919986009597778,
          "y": -0.6963397264480591,
          "ŷ": -1.0983102321624756
         },
         {
          "x1": -1.2076612710952759,
          "y": -0.7682926654815674,
          "ŷ": -1.203709363937378
         },
         {
          "x1": 0.2402234822511673,
          "y": 0.8335666060447693,
          "ŷ": 0.8613658547401428
         },
         {
          "x1": 1.0410804748535156,
          "y": 0.2748403549194336,
          "ŷ": 0.36031395196914673
         },
         {
          "x1": 0.7104135155677795,
          "y": 0.6539982557296753,
          "ŷ": 0.6512437462806702
         },
         {
          "x1": -1.8736597299575806,
          "y": -7.513799667358398,
          "ŷ": -7.664149761199951
         },
         {
          "x1": -0.5373747944831848,
          "y": -0.9923514127731323,
          "ŷ": -1.0983102321624756
         },
         {
          "x1": -0.03882388025522232,
          "y": -0.15473058819770813,
          "ŷ": -0.4033746123313904
         },
         {
          "x1": -0.21901866793632507,
          "y": -0.7787380814552307,
          "ŷ": -0.638563334941864
         },
         {
          "x1": 0.38245075941085815,
          "y": 1.055100440979004,
          "ŷ": 1.0855436325073242
         },
         {
          "x1": -0.8630659580230713,
          "y": -0.337185263633728,
          "ŷ": -1.0983102321624756
         },
         {
          "x1": -0.5630043745040894,
          "y": -0.9552619457244873,
          "ŷ": -1.0983102321624756
         },
         {
          "x1": -0.3801742196083069,
          "y": -1.0536928176879883,
          "ŷ": -0.5505911707878113
         },
         {
          "x1": 0.15698041021823883,
          "y": 0.5913325548171997,
          "ŷ": 0.6441634297370911
         },
         {
          "x1": -0.320796400308609,
          "y": -0.9919376373291016,
          "ŷ": -0.578694760799408
         },
         {
          "x1": 2.235424757003784,
          "y": 11.635202407836914,
          "ŷ": 11.740920066833496
         },
         {
          "x1": -0.5994179844856262,
          "y": -0.8925500512123108,
          "ŷ": -1.0983102321624756
         },
         {
          "x1": 0.19765405356884003,
          "y": 0.7185086607933044,
          "ŷ": 0.7570152878761292
         },
         {
          "x1": -0.8776180148124695,
          "y": -0.315382719039917,
          "ŷ": -1.0983102321624756
         },
         {
          "x1": 0.2662218511104584,
          "y": 0.8936025500297546,
          "ŷ": 0.9025781750679016
         },
         {
          "x1": -1.0251837968826294,
          "y": -0.2587704658508301,
          "ŷ": -1.1283299922943115
         },
         {
          "x1": 1.1430366039276123,
          "y": 0.5032325387001038,
          "ŷ": 0.49042755365371704
         },
         {
          "x1": 0.7346861958503723,
          "y": 0.598016619682312,
          "ŷ": 0.6044245362281799
         },
         {
          "x1": -1.1383748054504395,
          "y": -0.48781317472457886,
          "ŷ": -1.1750879287719727
         },
         {
          "x1": -0.5607560276985168,
          "y": -0.9587645530700684,
          "ŷ": -1.0983102321624756
         },
         {
          "x1": -0.1656535565853119,
          "y": -0.6197256445884705,
          "ŷ": -0.5609835982322693
         },
         {
          "x1": 0.16387377679347992,
          "y": 0.6139525771141052,
          "ŷ": 0.6632893681526184
         },
         {
          "x1": -0.7958952188491821,
          "y": -0.4621833264827728,
          "ŷ": -1.0983102321624756
         },
         {
          "x1": 1.1720647811889648,
          "y": 0.610398530960083,
          "ŷ": 0.5334520936012268
         },
         {
          "x1": -0.6148321032524109,
          "y": -0.8629699349403381,
          "ŷ": -1.0983102321624756
         },
         {
          "x1": 0.3956202268600464,
          "y": 1.0618524551391602,
          "ŷ": 1.0786418914794922
         },
         {
          "x1": -0.276877760887146,
          "y": -0.915814995765686,
          "ŷ": -0.6628245711326599
         },
         {
          "x1": -1.643491506576538,
          "y": -4.725876331329346,
          "ŷ": -5.036414623260498
         },
         {
          "x1": 2.2890119552612305,
          "y": 12.258959770202637,
          "ŷ": 12.235989570617676
         },
         {
          "x1": 0.2724230885505676,
          "y": 0.9067022800445557,
          "ŷ": 0.9124060273170471
         },
         {
          "x1": -0.23465032875537872,
          "y": -0.8196523785591125,
          "ŷ": -0.6612876057624817
         },
         {
          "x1": -0.013054408133029938,
          "y": -0.05219613015651703,
          "ŷ": -0.26085585355758667
         },
         {
          "x1": 1.7968612909317017,
          "y": 6.587512493133545,
          "ŷ": 6.506043434143066
         },
         {
          "x1": 1.1384493112564087,
          "y": 0.4880557656288147,
          "ŷ": 0.4845734238624573
         },
         {
          "x1": -0.5049304962158203,
          "y": -1.0296483039855957,
          "ŷ": -1.0983102321624756
         },
         {
          "x1": 0.6691762208938599,
          "y": 0.7479774951934814,
          "ŷ": 0.7307873368263245
         },
         {
          "x1": 0.9116887450218201,
          "y": 0.2738246023654938,
          "ŷ": 0.2919626832008362
         },
         {
          "x1": -0.055505964905023575,
          "y": -0.22037525475025177,
          "ŷ": -0.48092836141586304
         },
         {
          "x1": 0.6589833498001099,
          "y": 0.7705538272857666,
          "ŷ": 0.7504482865333557
         },
         {
          "x1": 0.7806106209754944,
          "y": 0.494816392660141,
          "ŷ": 0.5158377289772034
         },
         {
          "x1": -1.0911896228790283,
          "y": -0.35909128189086914,
          "ŷ": -1.1555962562561035
         },
         {
          "x1": -0.608892560005188,
          "y": -0.8745591640472412,
          "ŷ": -1.0983102321624756
         },
         {
          "x1": -2.222240686416626,
          "y": -11.48475170135498,
          "ŷ": -11.40713119506836
         },
         {
          "x1": -2.5488834381103516,
          "y": -15.86292552947998,
          "ŷ": -14.803559303283691
         },
         {
          "x1": 0.7104703187942505,
          "y": 0.6538671851158142,
          "ŷ": 0.651133120059967
         },
         {
          "x1": -0.4897781312465668,
          "y": -1.0430371761322021,
          "ŷ": -1.0983102321624756
         }
        ]
       },
       "layer": [
        {
         "encoding": {
          "x": {
           "field": "x1",
           "type": "quantitative"
          },
          "y": {
           "field": "ŷ",
           "type": "quantitative"
          }
         },
         "mark": "line"
        },
        {
         "encoding": {
          "x": {
           "field": "x1",
           "type": "quantitative"
          },
          "y": {
           "field": "y",
           "type": "quantitative"
          }
         },
         "mark": "point"
        }
       ]
      },
      "image/png": "[encoded data removed]",
      "text/plain": [
       "<VegaLite 3 object>\n",
       "\n",
       "If you see this message, it means the renderer has not been properly enabled\n",
       "for the frontend that you are using. For more information, see\n",
       "https://altair-viz.github.io/user_guide/troubleshooting.html\n"
      ]
     },
     "execution_count": 224,
     "metadata": {},
     "output_type": "execute_result"
    }
   ],
   "source": [
    "preds = pd.DataFrame({'ŷ':my_model(x).detach().numpy()[:,0], 'y':y[:,0], 'x1':x[:,0]})\n",
    "(alt.Chart(preds).mark_line().encode(x='x1', y='ŷ') + \n",
    "alt.Chart(preds).mark_point().encode(x='x1', y='y'))"
   ]
  },
  {
   "cell_type": "markdown",
   "metadata": {},
   "source": [
    "# Using pytorch's modules"
   ]
  },
  {
   "cell_type": "markdown",
   "metadata": {},
   "source": [
    "Instead of implementing our own linear layer class, we can use the one that pytorch provides. We can also subclass `nn.Module` to make a model without having to define our own `step()` methods. All we need to do is define a `forward()` method that, given the input to the model, produces the output:"
   ]
  },
  {
   "cell_type": "code",
   "execution_count": 350,
   "metadata": {},
   "outputs": [],
   "source": [
    "import torch.nn as nn\n",
    "import torch.nn.functional as F\n",
    "import torch.optim as optim\n",
    "\n",
    "class Model(nn.Module): # subclass nn.Module\n",
    "\n",
    "    def __init__(self, sizes):\n",
    "        super().__init__() # we need to initialize the nn.Module superclass for things to work\n",
    "        self.layers = nn.ModuleList([nn.Linear(h1,h2) for h1, h2 in zip(sizes[:-1], sizes[1:])])\n",
    "        self.activation = F.relu\n",
    "    \n",
    "    def forward(self,x):\n",
    "        for layer in self.layers[:-1]:\n",
    "            x = self.activation(layer(x))\n",
    "        return self.layers[-1](x)"
   ]
  },
  {
   "cell_type": "code",
   "execution_count": 351,
   "metadata": {},
   "outputs": [],
   "source": [
    "my_model = Model([1,100,10,1]) # creates a model object with input size 1, two hidden layers of size 10, and an output of size 1\n",
    "criterion = nn.MSELoss() # the loss function in torch is often named \"criterion\"\n",
    "optimizer = optim.SGD(my_model.parameters(), lr=1*10e-4)"
   ]
  },
  {
   "cell_type": "code",
   "execution_count": 352,
   "metadata": {},
   "outputs": [],
   "source": [
    "n_steps = 1000\n",
    "loss_record = []\n",
    "\n",
    "for e in range(n_steps):\n",
    "    ŷ = my_model(x) \n",
    "    L = criterion(y,ŷ)\n",
    "    \n",
    "    loss_record.append(L.item())\n",
    "    L.backward()\n",
    "    \n",
    "    optimizer.step()"
   ]
  },
  {
   "cell_type": "code",
   "execution_count": 353,
   "metadata": {},
   "outputs": [
    {
     "data": {
      "application/vnd.vegalite.v3+json": {
       "$schema": "https://vega.github.io/schema/vega-lite/v3.4.0.json",
       "config": {
        "mark": {
         "tooltip": null
        },
        "view": {
         "height": 300,
         "width": 400
        }
       },
       "data": {
        "name": "data-f20bd68a42708b15ab3470c8b2fc6c5c"
       },
       "datasets": {
        "data-f20bd68a42708b15ab3470c8b2fc6c5c": [
         {
          "x1": 1.3925105333328247,
          "y": 2.045983076095581,
          "ŷ": 2.1275954246520996
         },
         {
          "x1": -0.83494633436203,
          "y": -0.38517293334007263,
          "ŷ": -0.8178788423538208
         },
         {
          "x1": -1.3506728410720825,
          "y": -1.6930019855499268,
          "ŷ": -1.8722636699676514
         },
         {
          "x1": 0.34250175952911377,
          "y": 1.020087480545044,
          "ŷ": 0.6641995906829834
         },
         {
          "x1": 1.6934736967086792,
          "y": 5.327885627746582,
          "ŷ": 5.814047813415527
         },
         {
          "x1": -0.2501945495605469,
          "y": -0.8575526475906372,
          "ŷ": -0.38287365436553955
         },
         {
          "x1": 0.20255796611309052,
          "y": 0.7327579259872437,
          "ŷ": 0.6641995906829834
         },
         {
          "x1": 0.04228057712316513,
          "y": 0.1683928221464157,
          "ŷ": 0.6641995906829834
         },
         {
          "x1": -0.009086072444915771,
          "y": -0.03633703663945198,
          "ŷ": 0.6641995906829834
         },
         {
          "x1": -0.798854410648346,
          "y": -0.45600464940071106,
          "ŷ": -0.7910295724868774
         },
         {
          "x1": 0.3972577154636383,
          "y": 1.0625264644622803,
          "ŷ": 0.6641995906829834
         },
         {
          "x1": 1.0628230571746826,
          "y": 0.30499231815338135,
          "ŷ": 0.5479636192321777
         },
         {
          "x1": -1.2112994194030762,
          "y": -0.7860807180404663,
          "ŷ": -1.097853422164917
         },
         {
          "x1": 1.856379508972168,
          "y": 7.306957721710205,
          "ŷ": 7.863995552062988
         },
         {
          "x1": -1.3579192161560059,
          "y": -1.7516525983810425,
          "ŷ": -1.9265267848968506
         },
         {
          "x1": 0.2741929292678833,
          "y": 0.9103527069091797,
          "ŷ": 0.6641995906829834
         },
         {
          "x1": -0.8186396360397339,
          "y": -0.4160539507865906,
          "ŷ": -0.8057481050491333
         },
         {
          "x1": 0.15097445249557495,
          "y": 0.5712963938713074,
          "ŷ": 0.6641995906829834
         },
         {
          "x1": -0.46315106749534607,
          "y": -1.0599042177200317,
          "ŷ": -0.541295051574707
         },
         {
          "x1": -1.158079981803894,
          "y": -0.5563618540763855,
          "ŷ": -1.058262586593628
         },
         {
          "x1": -0.44949597120285034,
          "y": -1.0651228427886963,
          "ŷ": -0.5311368703842163
         },
         {
          "x1": -0.10324347764253616,
          "y": -0.4024354815483093,
          "ŷ": 0.22228765487670898
         },
         {
          "x1": -0.41546371579170227,
          "y": -1.0675703287124634,
          "ŷ": -0.50581955909729
         },
         {
          "x1": -0.2692573368549347,
          "y": -0.9000747799873352,
          "ŷ": -0.39705467224121094
         },
         {
          "x1": 0.21172472834587097,
          "y": 0.7587212324142456,
          "ŷ": 0.6641995906829834
         },
         {
          "x1": 1.6373955011367798,
          "y": 4.653219223022461,
          "ŷ": 5.127154350280762
         },
         {
          "x1": 1.1845717430114746,
          "y": 0.6625384092330933,
          "ŷ": 0.48832690715789795
         },
         {
          "x1": 0.11129733920097351,
          "y": 0.43200743198394775,
          "ŷ": 0.6641995906829834
         },
         {
          "x1": 1.8715521097183228,
          "y": 7.488629341125488,
          "ŷ": 8.059212684631348
         },
         {
          "x1": -1.086632251739502,
          "y": -0.3492460250854492,
          "ŷ": -1.005111575126648
         },
         {
          "x1": -0.5343459248542786,
          "y": -0.9963070750236511,
          "ŷ": -0.5942578315734863
         },
         {
          "x1": 0.7554900050163269,
          "y": 0.5505548119544983,
          "ŷ": 0.6641995906829834
         },
         {
          "x1": -0.17758269608020782,
          "y": -0.6576847434043884,
          "ŷ": -0.20706498622894287
         },
         {
          "x1": 0.8096725940704346,
          "y": 0.43385159969329834,
          "ŷ": 0.6641995906829834
         },
         {
          "x1": 0.24827183783054352,
          "y": 0.8530191779136658,
          "ŷ": 0.6641995906829834
         },
         {
          "x1": 0.5893934369087219,
          "y": 0.910876989364624,
          "ŷ": 0.6641995906829834
         },
         {
          "x1": 0.3195939064025879,
          "y": 0.9901922345161438,
          "ŷ": 0.6641995906829834
         },
         {
          "x1": 0.30526021122932434,
          "y": 0.9679018259048462,
          "ŷ": 0.6641995906829834
         },
         {
          "x1": 0.4627739191055298,
          "y": 1.0600801706314087,
          "ŷ": 0.6641995906829834
         },
         {
          "x1": -0.4927133023738861,
          "y": -1.040653109550476,
          "ŷ": -0.5632867813110352
         },
         {
          "x1": 0.7644363045692444,
          "y": 0.5304574370384216,
          "ŷ": 0.6641995906829834
         },
         {
          "x1": -1.0203443765640259,
          "y": -0.2548521161079407,
          "ŷ": -0.9557989835739136
         },
         {
          "x1": -0.8026761412620544,
          "y": -0.4480985105037689,
          "ŷ": -0.793872594833374
         },
         {
          "x1": 0.020535273477435112,
          "y": 0.0820574164390564,
          "ŷ": 0.6641995906829834
         },
         {
          "x1": 0.5764201879501343,
          "y": 0.9334297180175781,
          "ŷ": 0.6641995906829834
         },
         {
          "x1": -0.09847068786621094,
          "y": -0.3847315311431885,
          "ŷ": 0.24985337257385254
         },
         {
          "x1": 0.7524592876434326,
          "y": 0.5574132800102234,
          "ŷ": 0.6641995906829834
         },
         {
          "x1": -1.2530494928359985,
          "y": -1.012061595916748,
          "ŷ": -1.1412297487258911
         },
         {
          "x1": 0.5924749374389648,
          "y": 0.9053240418434143,
          "ŷ": 0.6641995906829834
         },
         {
          "x1": -0.6919986009597778,
          "y": -0.6963397264480591,
          "ŷ": -0.7115379571914673
         },
         {
          "x1": -1.2076612710952759,
          "y": -0.7682926654815674,
          "ŷ": -1.095146894454956
         },
         {
          "x1": 0.2402234822511673,
          "y": 0.8335666060447693,
          "ŷ": 0.6641995906829834
         },
         {
          "x1": 1.0410804748535156,
          "y": 0.2748403549194336,
          "ŷ": 0.5586137771606445
         },
         {
          "x1": 0.7104135155677795,
          "y": 0.6539982557296753,
          "ŷ": 0.6641995906829834
         },
         {
          "x1": -1.8736597299575806,
          "y": -7.513799667358398,
          "ŷ": -7.7214789390563965
         },
         {
          "x1": -0.5373747944831848,
          "y": -0.9923514127731323,
          "ŷ": -0.5965111255645752
         },
         {
          "x1": -0.03882388025522232,
          "y": -0.15473058819770813,
          "ŷ": 0.5943489074707031
         },
         {
          "x1": -0.21901866793632507,
          "y": -0.7787380814552307,
          "ŷ": -0.35968130826950073
         },
         {
          "x1": 0.38245075941085815,
          "y": 1.055100440979004,
          "ŷ": 0.6641995906829834
         },
         {
          "x1": -0.8630659580230713,
          "y": -0.337185263633728,
          "ŷ": -0.8387975692749023
         },
         {
          "x1": -0.5630043745040894,
          "y": -0.9552619457244873,
          "ŷ": -0.6155773401260376
         },
         {
          "x1": -0.3801742196083069,
          "y": -1.0536928176879883,
          "ŷ": -0.47956740856170654
         },
         {
          "x1": 0.15698041021823883,
          "y": 0.5913325548171997,
          "ŷ": 0.6641995906829834
         },
         {
          "x1": -0.320796400308609,
          "y": -0.9919376373291016,
          "ŷ": -0.43539535999298096
         },
         {
          "x1": 2.235424757003784,
          "y": 11.635202407836914,
          "ŷ": 12.351923942565918
         },
         {
          "x1": -0.5994179844856262,
          "y": -0.8925500512123108,
          "ŷ": -0.6426659822463989
         },
         {
          "x1": 0.19765405356884003,
          "y": 0.7185086607933044,
          "ŷ": 0.6641995906829834
         },
         {
          "x1": -0.8776180148124695,
          "y": -0.315382719039917,
          "ŷ": -0.8496229648590088
         },
         {
          "x1": 0.2662218511104584,
          "y": 0.8936025500297546,
          "ŷ": 0.6641995906829834
         },
         {
          "x1": -1.0251837968826294,
          "y": -0.2587704658508301,
          "ŷ": -0.9593992233276367
         },
         {
          "x1": 1.1430366039276123,
          "y": 0.5032325387001038,
          "ŷ": 0.5086722373962402
         },
         {
          "x1": 0.7346861958503723,
          "y": 0.598016619682312,
          "ŷ": 0.6641995906829834
         },
         {
          "x1": -1.1383748054504395,
          "y": -0.48781317472457886,
          "ŷ": -1.043603777885437
         },
         {
          "x1": -0.5607560276985168,
          "y": -0.9587645530700684,
          "ŷ": -0.6139048337936401
         },
         {
          "x1": -0.1656535565853119,
          "y": -0.6197256445884705,
          "ŷ": -0.13816726207733154
         },
         {
          "x1": 0.16387377679347992,
          "y": 0.6139525771141052,
          "ŷ": 0.6641995906829834
         },
         {
          "x1": -0.7958952188491821,
          "y": -0.4621833264827728,
          "ŷ": -0.7888282537460327
         },
         {
          "x1": 1.1720647811889648,
          "y": 0.610398530960083,
          "ŷ": 0.49445319175720215
         },
         {
          "x1": -0.6148321032524109,
          "y": -0.8629699349403381,
          "ŷ": -0.6541328430175781
         },
         {
          "x1": 0.3956202268600464,
          "y": 1.0618524551391602,
          "ŷ": 0.6641995906829834
         },
         {
          "x1": -0.276877760887146,
          "y": -0.915814995765686,
          "ŷ": -0.40272361040115356
         },
         {
          "x1": -1.643491506576538,
          "y": -4.725876331329346,
          "ŷ": -4.262938976287842
         },
         {
          "x1": 2.2890119552612305,
          "y": 12.258959770202637,
          "ŷ": 12.956275939941406
         },
         {
          "x1": 0.2724230885505676,
          "y": 0.9067022800445557,
          "ŷ": 0.6641995906829834
         },
         {
          "x1": -0.23465032875537872,
          "y": -0.8196523785591125,
          "ŷ": -0.3713099956512451
         },
         {
          "x1": -0.013054408133029938,
          "y": -0.05219613015651703,
          "ŷ": 0.6641995906829834
         },
         {
          "x1": 1.7968612909317017,
          "y": 6.587512493133545,
          "ŷ": 7.098212718963623
         },
         {
          "x1": 1.1384493112564087,
          "y": 0.4880557656288147,
          "ŷ": 0.5109193325042725
         },
         {
          "x1": -0.5049304962158203,
          "y": -1.0296483039855957,
          "ŷ": -0.5723752975463867
         },
         {
          "x1": 0.6691762208938599,
          "y": 0.7479774951934814,
          "ŷ": 0.6641995906829834
         },
         {
          "x1": 0.9116887450218201,
          "y": 0.2738246023654938,
          "ŷ": 0.6219942569732666
         },
         {
          "x1": -0.055505964905023575,
          "y": -0.22037525475025177,
          "ŷ": 0.497999906539917
         },
         {
          "x1": 0.6589833498001099,
          "y": 0.7705538272857666,
          "ŷ": 0.6641995906829834
         },
         {
          "x1": 0.7806106209754944,
          "y": 0.494816392660141,
          "ŷ": 0.6641995906829834
         },
         {
          "x1": -1.0911896228790283,
          "y": -0.35909128189086914,
          "ŷ": -1.0085021257400513
         },
         {
          "x1": -0.608892560005188,
          "y": -0.8745591640472412,
          "ŷ": -0.6497139930725098
         },
         {
          "x1": -2.222240686416626,
          "y": -11.48475170135498,
          "ŷ": -14.329675674438477
         },
         {
          "x1": -2.5488834381103516,
          "y": -15.86292552947998,
          "ŷ": -18.433570861816406
         },
         {
          "x1": 0.7104703187942505,
          "y": 0.6538671851158142,
          "ŷ": 0.6641995906829834
         },
         {
          "x1": -0.4897781312465668,
          "y": -1.0430371761322021,
          "ŷ": -0.561103343963623
         }
        ]
       },
       "layer": [
        {
         "encoding": {
          "x": {
           "field": "x1",
           "type": "quantitative"
          },
          "y": {
           "field": "ŷ",
           "type": "quantitative"
          }
         },
         "height": 100,
         "mark": "line"
        },
        {
         "encoding": {
          "x": {
           "field": "x1",
           "type": "quantitative"
          },
          "y": {
           "field": "y",
           "type": "quantitative"
          }
         },
         "mark": "point"
        }
       ]
      },
      "image/png": "[encoded data removed]",
      "text/plain": [
       "<VegaLite 3 object>\n",
       "\n",
       "If you see this message, it means the renderer has not been properly enabled\n",
       "for the frontend that you are using. For more information, see\n",
       "https://altair-viz.github.io/user_guide/troubleshooting.html\n"
      ]
     },
     "execution_count": 353,
     "metadata": {},
     "output_type": "execute_result"
    }
   ],
   "source": [
    "preds = pd.DataFrame({'ŷ':my_model(x).detach().numpy()[:,0], 'y':y[:,0], 'x1':x[:,0]})\n",
    "(alt.Chart(preds, height=100).mark_line().encode(x='x1', y='ŷ') + \n",
    "alt.Chart(preds).mark_point().encode(x='x1', y='y'))"
   ]
  },
  {
   "cell_type": "markdown",
   "metadata": {},
   "source": [
    "\n",
    "Pytorch has already implementing things like the ReLU and sigmoid functions, MSE, cross-entropy loss, linear layers, etc. So you don't have to worry about making errors implementing them yourself. Just figure out how to use their implementations and you're good to go. Don't worry too much about why you need to do specific things like `super().__init__()` when initializing a subclass of `nn.Module()`. As long as you understand *what* is happening under the hood, it doesn't really matter if you don't know exactly *how*. If you run into a problem where you need to figure it out, you will easily be able to if you need to do so."
   ]
  },
  {
   "cell_type": "markdown",
   "metadata": {},
   "source": [
    "We've been using pytorch so far to automate gradients, but now we've also seen that the `optim` module can be used to even automate the process of taking the gradient descent step. Basically, when you create an optimizer object like `optimizer = optim.SGD(my_model.parameters(), lr=1*10e-4)`, it associates with itself all of the model parameters that are accessible through `my_model.parameters()`. `parameters()` is a method that is available to `my_model` because you subclassed `nn.Module`, which ran through the internals of `my_model` to find all of the parameters associated with all of the layers. Now when you call `optimizer.step()` after populating all of the `param.grad` (which happens when you do `L.backward()`), the optimizer applies some algorithm to take all the gradients and change the values of the parameters accordingly. The simplest algorithm is the standard gradient descent we've been using, but many other enhancements are also available (see the [gradient descent primer](https://github.com/alejandroschuler/articles/blob/master/grad_descent/Gradient%20Descent.ipynb) to understand the details). For instance, adding momentum is easy:"
   ]
  },
  {
   "cell_type": "code",
   "execution_count": 340,
   "metadata": {},
   "outputs": [],
   "source": [
    "my_model = Model([1,100,1]) \n",
    "criterion = nn.MSELoss() # the loss function in torch is often named \"criterion\"\n",
    "optimizer = optim.SGD(my_model.parameters(), lr=1*10e-5, momentum=0.1)"
   ]
  },
  {
   "cell_type": "code",
   "execution_count": 341,
   "metadata": {},
   "outputs": [],
   "source": [
    "n_steps = 5000\n",
    "loss_record = []\n",
    "\n",
    "for e in range(n_steps):\n",
    "    ŷ = my_model(x) \n",
    "    L = criterion(y,ŷ)\n",
    "    \n",
    "    loss_record.append(L.item())\n",
    "    L.backward()\n",
    "    \n",
    "    optimizer.step()"
   ]
  },
  {
   "cell_type": "code",
   "execution_count": 343,
   "metadata": {},
   "outputs": [
    {
     "data": {
      "application/vnd.vegalite.v3+json": {
       "$schema": "https://vega.github.io/schema/vega-lite/v3.4.0.json",
       "config": {
        "mark": {
         "tooltip": null
        },
        "view": {
         "height": 300,
         "width": 400
        }
       },
       "data": {
        "name": "data-47a0eb8b74a8053e7c12455442e435dd"
       },
       "datasets": {
        "data-47a0eb8b74a8053e7c12455442e435dd": [
         {
          "x1": 1.3925105333328247,
          "y": 2.045983076095581,
          "ŷ": -0.01841069757938385
         },
         {
          "x1": -0.83494633436203,
          "y": -0.38517293334007263,
          "ŷ": -0.01841069757938385
         },
         {
          "x1": -1.3506728410720825,
          "y": -1.6930019855499268,
          "ŷ": -0.01841069757938385
         },
         {
          "x1": 0.34250175952911377,
          "y": 1.020087480545044,
          "ŷ": -0.01841069757938385
         },
         {
          "x1": 1.6934736967086792,
          "y": 5.327885627746582,
          "ŷ": 3.637190580368042
         },
         {
          "x1": -0.2501945495605469,
          "y": -0.8575526475906372,
          "ŷ": -0.01841069757938385
         },
         {
          "x1": 0.20255796611309052,
          "y": 0.7327579259872437,
          "ŷ": -0.01841069757938385
         },
         {
          "x1": 0.04228057712316513,
          "y": 0.1683928221464157,
          "ŷ": -0.01841069757938385
         },
         {
          "x1": -0.009086072444915771,
          "y": -0.03633703663945198,
          "ŷ": -0.01841069757938385
         },
         {
          "x1": -0.798854410648346,
          "y": -0.45600464940071106,
          "ŷ": -0.01841069757938385
         },
         {
          "x1": 0.3972577154636383,
          "y": 1.0625264644622803,
          "ŷ": -0.01841069757938385
         },
         {
          "x1": 1.0628230571746826,
          "y": 0.30499231815338135,
          "ŷ": -0.01841069757938385
         },
         {
          "x1": -1.2112994194030762,
          "y": -0.7860807180404663,
          "ŷ": -0.01841069757938385
         },
         {
          "x1": 1.856379508972168,
          "y": 7.306957721710205,
          "ŷ": 5.751436233520508
         },
         {
          "x1": -1.3579192161560059,
          "y": -1.7516525983810425,
          "ŷ": -0.01841069757938385
         },
         {
          "x1": 0.2741929292678833,
          "y": 0.9103527069091797,
          "ŷ": -0.01841069757938385
         },
         {
          "x1": -0.8186396360397339,
          "y": -0.4160539507865906,
          "ŷ": -0.01841069757938385
         },
         {
          "x1": 0.15097445249557495,
          "y": 0.5712963938713074,
          "ŷ": -0.01841069757938385
         },
         {
          "x1": -0.46315106749534607,
          "y": -1.0599042177200317,
          "ŷ": -0.01841069757938385
         },
         {
          "x1": -1.158079981803894,
          "y": -0.5563618540763855,
          "ŷ": -0.01841069757938385
         },
         {
          "x1": -0.44949597120285034,
          "y": -1.0651228427886963,
          "ŷ": -0.01841069757938385
         },
         {
          "x1": -0.10324347764253616,
          "y": -0.4024354815483093,
          "ŷ": -0.01841069757938385
         },
         {
          "x1": -0.41546371579170227,
          "y": -1.0675703287124634,
          "ŷ": -0.01841069757938385
         },
         {
          "x1": -0.2692573368549347,
          "y": -0.9000747799873352,
          "ŷ": -0.01841069757938385
         },
         {
          "x1": 0.21172472834587097,
          "y": 0.7587212324142456,
          "ŷ": -0.01841069757938385
         },
         {
          "x1": 1.6373955011367798,
          "y": 4.653219223022461,
          "ŷ": 2.9093894958496094
         },
         {
          "x1": 1.1845717430114746,
          "y": 0.6625384092330933,
          "ŷ": -0.01841069757938385
         },
         {
          "x1": 0.11129733920097351,
          "y": 0.43200743198394775,
          "ŷ": -0.01841069757938385
         },
         {
          "x1": 1.8715521097183228,
          "y": 7.488629341125488,
          "ŷ": 5.94835090637207
         },
         {
          "x1": -1.086632251739502,
          "y": -0.3492460250854492,
          "ŷ": -0.01841069757938385
         },
         {
          "x1": -0.5343459248542786,
          "y": -0.9963070750236511,
          "ŷ": -0.01841069757938385
         },
         {
          "x1": 0.7554900050163269,
          "y": 0.5505548119544983,
          "ŷ": -0.01841069757938385
         },
         {
          "x1": -0.17758269608020782,
          "y": -0.6576847434043884,
          "ŷ": -0.01841069757938385
         },
         {
          "x1": 0.8096725940704346,
          "y": 0.43385159969329834,
          "ŷ": -0.01841069757938385
         },
         {
          "x1": 0.24827183783054352,
          "y": 0.8530191779136658,
          "ŷ": -0.01841069757938385
         },
         {
          "x1": 0.5893934369087219,
          "y": 0.910876989364624,
          "ŷ": -0.01841069757938385
         },
         {
          "x1": 0.3195939064025879,
          "y": 0.9901922345161438,
          "ŷ": -0.01841069757938385
         },
         {
          "x1": 0.30526021122932434,
          "y": 0.9679018259048462,
          "ŷ": -0.01841069757938385
         },
         {
          "x1": 0.4627739191055298,
          "y": 1.0600801706314087,
          "ŷ": -0.01841069757938385
         },
         {
          "x1": -0.4927133023738861,
          "y": -1.040653109550476,
          "ŷ": -0.01841069757938385
         },
         {
          "x1": 0.7644363045692444,
          "y": 0.5304574370384216,
          "ŷ": -0.01841069757938385
         },
         {
          "x1": -1.0203443765640259,
          "y": -0.2548521161079407,
          "ŷ": -0.01841069757938385
         },
         {
          "x1": -0.8026761412620544,
          "y": -0.4480985105037689,
          "ŷ": -0.01841069757938385
         },
         {
          "x1": 0.020535273477435112,
          "y": 0.0820574164390564,
          "ŷ": -0.01841069757938385
         },
         {
          "x1": 0.5764201879501343,
          "y": 0.9334297180175781,
          "ŷ": -0.01841069757938385
         },
         {
          "x1": -0.09847068786621094,
          "y": -0.3847315311431885,
          "ŷ": -0.01841069757938385
         },
         {
          "x1": 0.7524592876434326,
          "y": 0.5574132800102234,
          "ŷ": -0.01841069757938385
         },
         {
          "x1": -1.2530494928359985,
          "y": -1.012061595916748,
          "ŷ": -0.01841069757938385
         },
         {
          "x1": 0.5924749374389648,
          "y": 0.9053240418434143,
          "ŷ": -0.01841069757938385
         },
         {
          "x1": -0.6919986009597778,
          "y": -0.6963397264480591,
          "ŷ": -0.01841069757938385
         },
         {
          "x1": -1.2076612710952759,
          "y": -0.7682926654815674,
          "ŷ": -0.01841069757938385
         },
         {
          "x1": 0.2402234822511673,
          "y": 0.8335666060447693,
          "ŷ": -0.01841069757938385
         },
         {
          "x1": 1.0410804748535156,
          "y": 0.2748403549194336,
          "ŷ": -0.01841069757938385
         },
         {
          "x1": 0.7104135155677795,
          "y": 0.6539982557296753,
          "ŷ": -0.01841069757938385
         },
         {
          "x1": -1.8736597299575806,
          "y": -7.513799667358398,
          "ŷ": -10.726798057556152
         },
         {
          "x1": -0.5373747944831848,
          "y": -0.9923514127731323,
          "ŷ": -0.01841069757938385
         },
         {
          "x1": -0.03882388025522232,
          "y": -0.15473058819770813,
          "ŷ": -0.01841069757938385
         },
         {
          "x1": -0.21901866793632507,
          "y": -0.7787380814552307,
          "ŷ": -0.01841069757938385
         },
         {
          "x1": 0.38245075941085815,
          "y": 1.055100440979004,
          "ŷ": -0.01841069757938385
         },
         {
          "x1": -0.8630659580230713,
          "y": -0.337185263633728,
          "ŷ": -0.01841069757938385
         },
         {
          "x1": -0.5630043745040894,
          "y": -0.9552619457244873,
          "ŷ": -0.01841069757938385
         },
         {
          "x1": -0.3801742196083069,
          "y": -1.0536928176879883,
          "ŷ": -0.01841069757938385
         },
         {
          "x1": 0.15698041021823883,
          "y": 0.5913325548171997,
          "ŷ": -0.01841069757938385
         },
         {
          "x1": -0.320796400308609,
          "y": -0.9919376373291016,
          "ŷ": -0.01841069757938385
         },
         {
          "x1": 2.235424757003784,
          "y": 11.635202407836914,
          "ŷ": 10.670809745788574
         },
         {
          "x1": -0.5994179844856262,
          "y": -0.8925500512123108,
          "ŷ": -0.01841069757938385
         },
         {
          "x1": 0.19765405356884003,
          "y": 0.7185086607933044,
          "ŷ": -0.01841069757938385
         },
         {
          "x1": -0.8776180148124695,
          "y": -0.315382719039917,
          "ŷ": -0.01841069757938385
         },
         {
          "x1": 0.2662218511104584,
          "y": 0.8936025500297546,
          "ŷ": -0.01841069757938385
         },
         {
          "x1": -1.0251837968826294,
          "y": -0.2587704658508301,
          "ŷ": -0.01841069757938385
         },
         {
          "x1": 1.1430366039276123,
          "y": 0.5032325387001038,
          "ŷ": -0.01841069757938385
         },
         {
          "x1": 0.7346861958503723,
          "y": 0.598016619682312,
          "ŷ": -0.01841069757938385
         },
         {
          "x1": -1.1383748054504395,
          "y": -0.48781317472457886,
          "ŷ": -0.01841069757938385
         },
         {
          "x1": -0.5607560276985168,
          "y": -0.9587645530700684,
          "ŷ": -0.01841069757938385
         },
         {
          "x1": -0.1656535565853119,
          "y": -0.6197256445884705,
          "ŷ": -0.01841069757938385
         },
         {
          "x1": 0.16387377679347992,
          "y": 0.6139525771141052,
          "ŷ": -0.01841069757938385
         },
         {
          "x1": -0.7958952188491821,
          "y": -0.4621833264827728,
          "ŷ": -0.01841069757938385
         },
         {
          "x1": 1.1720647811889648,
          "y": 0.610398530960083,
          "ŷ": -0.01841069757938385
         },
         {
          "x1": -0.6148321032524109,
          "y": -0.8629699349403381,
          "ŷ": -0.01841069757938385
         },
         {
          "x1": 0.3956202268600464,
          "y": 1.0618524551391602,
          "ŷ": -0.01841069757938385
         },
         {
          "x1": -0.276877760887146,
          "y": -0.915814995765686,
          "ŷ": -0.01841069757938385
         },
         {
          "x1": -1.643491506576538,
          "y": -4.725876331329346,
          "ŷ": -1.7070097923278809
         },
         {
          "x1": 2.2890119552612305,
          "y": 12.258959770202637,
          "ŷ": 11.36628246307373
         },
         {
          "x1": 0.2724230885505676,
          "y": 0.9067022800445557,
          "ŷ": -0.01841069757938385
         },
         {
          "x1": -0.23465032875537872,
          "y": -0.8196523785591125,
          "ŷ": -0.01841069757938385
         },
         {
          "x1": -0.013054408133029938,
          "y": -0.05219613015651703,
          "ŷ": -0.01841069757938385
         },
         {
          "x1": 1.7968612909317017,
          "y": 6.587512493133545,
          "ŷ": 4.978989124298096
         },
         {
          "x1": 1.1384493112564087,
          "y": 0.4880557656288147,
          "ŷ": -0.01841069757938385
         },
         {
          "x1": -0.5049304962158203,
          "y": -1.0296483039855957,
          "ŷ": -0.01841069757938385
         },
         {
          "x1": 0.6691762208938599,
          "y": 0.7479774951934814,
          "ŷ": -0.01841069757938385
         },
         {
          "x1": 0.9116887450218201,
          "y": 0.2738246023654938,
          "ŷ": -0.01841069757938385
         },
         {
          "x1": -0.055505964905023575,
          "y": -0.22037525475025177,
          "ŷ": -0.01841069757938385
         },
         {
          "x1": 0.6589833498001099,
          "y": 0.7705538272857666,
          "ŷ": -0.01841069757938385
         },
         {
          "x1": 0.7806106209754944,
          "y": 0.494816392660141,
          "ŷ": -0.01841069757938385
         },
         {
          "x1": -1.0911896228790283,
          "y": -0.35909128189086914,
          "ŷ": -0.01841069757938385
         },
         {
          "x1": -0.608892560005188,
          "y": -0.8745591640472412,
          "ŷ": -0.01841069757938385
         },
         {
          "x1": -2.222240686416626,
          "y": -11.48475170135498,
          "ŷ": -14.080268859863281
         },
         {
          "x1": -2.5488834381103516,
          "y": -15.86292552947998,
          "ŷ": -14.4868745803833
         },
         {
          "x1": 0.7104703187942505,
          "y": 0.6538671851158142,
          "ŷ": -0.01841069757938385
         },
         {
          "x1": -0.4897781312465668,
          "y": -1.0430371761322021,
          "ŷ": -0.01841069757938385
         }
        ]
       },
       "layer": [
        {
         "encoding": {
          "x": {
           "field": "x1",
           "type": "quantitative"
          },
          "y": {
           "field": "ŷ",
           "type": "quantitative"
          }
         },
         "height": 100,
         "mark": "line"
        },
        {
         "encoding": {
          "x": {
           "field": "x1",
           "type": "quantitative"
          },
          "y": {
           "field": "y",
           "type": "quantitative"
          }
         },
         "mark": "point"
        }
       ]
      },
      "image/png": "[encoded data removed]",
      "text/plain": [
       "<VegaLite 3 object>\n",
       "\n",
       "If you see this message, it means the renderer has not been properly enabled\n",
       "for the frontend that you are using. For more information, see\n",
       "https://altair-viz.github.io/user_guide/troubleshooting.html\n"
      ]
     },
     "execution_count": 343,
     "metadata": {},
     "output_type": "execute_result"
    }
   ],
   "source": [
    "preds = pd.DataFrame({'ŷ':my_model(x).detach().numpy()[:,0], 'y':y[:,0], 'x1':x[:,0]})\n",
    "(alt.Chart(preds, height=100).mark_line().encode(x='x1', y='ŷ') + \n",
    "alt.Chart(preds).mark_point().encode(x='x1', y='y'))"
   ]
  },
  {
   "cell_type": "markdown",
   "metadata": {},
   "source": [
    "Or we can make more radical changes to the optimizer (in this case we'll use the [ADAM algorithm](https://ruder.io/optimizing-gradient-descent/index.html#adam), another form of gradient descent):"
   ]
  },
  {
   "cell_type": "code",
   "execution_count": 345,
   "metadata": {},
   "outputs": [],
   "source": [
    "my_model = Model([1,100,1]) \n",
    "criterion = nn.MSELoss() # the loss function in torch is often named \"criterion\"\n",
    "optimizer = optim.Adam(my_model.parameters(), lr=1*10e-5)"
   ]
  },
  {
   "cell_type": "code",
   "execution_count": 346,
   "metadata": {},
   "outputs": [],
   "source": [
    "n_steps = 5000\n",
    "loss_record = []\n",
    "\n",
    "for e in range(n_steps):\n",
    "    ŷ = my_model(x) \n",
    "    L = criterion(y,ŷ)\n",
    "    \n",
    "    loss_record.append(L.item())\n",
    "    L.backward()\n",
    "    \n",
    "    optimizer.step()"
   ]
  },
  {
   "cell_type": "code",
   "execution_count": 347,
   "metadata": {},
   "outputs": [
    {
     "data": {
      "application/vnd.vegalite.v3+json": {
       "$schema": "https://vega.github.io/schema/vega-lite/v3.4.0.json",
       "config": {
        "mark": {
         "tooltip": null
        },
        "view": {
         "height": 300,
         "width": 400
        }
       },
       "data": {
        "name": "data-dd53de7fd95c6c8ea4a8f3e45eb813f3"
       },
       "datasets": {
        "data-dd53de7fd95c6c8ea4a8f3e45eb813f3": [
         {
          "x1": 1.3925105333328247,
          "y": 2.045983076095581,
          "ŷ": 3.001185417175293
         },
         {
          "x1": -0.83494633436203,
          "y": -0.38517293334007263,
          "ŷ": -0.5453683137893677
         },
         {
          "x1": -1.3506728410720825,
          "y": -1.6930019855499268,
          "ŷ": -2.7416772842407227
         },
         {
          "x1": 0.34250175952911377,
          "y": 1.020087480545044,
          "ŷ": 0.024505168199539185
         },
         {
          "x1": 1.6934736967086792,
          "y": 5.327885627746582,
          "ŷ": 5.832844257354736
         },
         {
          "x1": -0.2501945495605469,
          "y": -0.8575526475906372,
          "ŷ": 0.05925402045249939
         },
         {
          "x1": 0.20255796611309052,
          "y": 0.7327579259872437,
          "ŷ": 0.037872135639190674
         },
         {
          "x1": 0.04228057712316513,
          "y": 0.1683928221464157,
          "ŷ": 0.05651107430458069
         },
         {
          "x1": -0.009086072444915771,
          "y": -0.03633703663945198,
          "ŷ": 0.06248462200164795
         },
         {
          "x1": -0.798854410648346,
          "y": -0.45600464940071106,
          "ŷ": -0.4952317178249359
         },
         {
          "x1": 0.3972577154636383,
          "y": 1.0625264644622803,
          "ŷ": 0.019978314638137817
         },
         {
          "x1": 1.0628230571746826,
          "y": 0.30499231815338135,
          "ŷ": 0.7382733225822449
         },
         {
          "x1": -1.2112994194030762,
          "y": -0.7860807180404663,
          "ŷ": -1.549433708190918
         },
         {
          "x1": 1.856379508972168,
          "y": 7.306957721710205,
          "ŷ": 7.447558403015137
         },
         {
          "x1": -1.3579192161560059,
          "y": -1.7516525983810425,
          "ŷ": -2.80755615234375
         },
         {
          "x1": 0.2741929292678833,
          "y": 0.9103527069091797,
          "ŷ": 0.030152589082717896
         },
         {
          "x1": -0.8186396360397339,
          "y": -0.4160539507865906,
          "ŷ": -0.5228450298309326
         },
         {
          "x1": 0.15097445249557495,
          "y": 0.5712963938713074,
          "ŷ": 0.0438707172870636
         },
         {
          "x1": -0.46315106749534607,
          "y": -1.0599042177200317,
          "ŷ": -0.09259757399559021
         },
         {
          "x1": -1.158079981803894,
          "y": -0.5563618540763855,
          "ŷ": -1.1994819641113281
         },
         {
          "x1": -0.44949597120285034,
          "y": -1.0651228427886963,
          "ŷ": -0.07868614792823792
         },
         {
          "x1": -0.10324347764253616,
          "y": -0.4024354815483093,
          "ŷ": 0.07343441247940063
         },
         {
          "x1": -0.41546371579170227,
          "y": -1.0675703287124634,
          "ŷ": -0.045264989137649536
         },
         {
          "x1": -0.2692573368549347,
          "y": -0.9000747799873352,
          "ŷ": 0.04894933104515076
         },
         {
          "x1": 0.21172472834587097,
          "y": 0.7587212324142456,
          "ŷ": 0.03680601716041565
         },
         {
          "x1": 1.6373955011367798,
          "y": 4.653219223022461,
          "ŷ": 5.28573751449585
         },
         {
          "x1": 1.1845717430114746,
          "y": 0.6625384092330933,
          "ŷ": 1.276302695274353
         },
         {
          "x1": 0.11129733920097351,
          "y": 0.43200743198394775,
          "ŷ": 0.04848495125770569
         },
         {
          "x1": 1.8715521097183228,
          "y": 7.488629341125488,
          "ŷ": 7.59918212890625
         },
         {
          "x1": -1.086632251739502,
          "y": -0.3492460250854492,
          "ŷ": -0.9684184789657593
         },
         {
          "x1": -0.5343459248542786,
          "y": -0.9963070750236511,
          "ŷ": -0.16874107718467712
         },
         {
          "x1": 0.7554900050163269,
          "y": 0.5505548119544983,
          "ŷ": 0.21306854486465454
         },
         {
          "x1": -0.17758269608020782,
          "y": -0.6576847434043884,
          "ŷ": 0.080079585313797
         },
         {
          "x1": 0.8096725940704346,
          "y": 0.43385159969329834,
          "ŷ": 0.2722645103931427
         },
         {
          "x1": 0.24827183783054352,
          "y": 0.8530191779136658,
          "ŷ": 0.03255587816238403
         },
         {
          "x1": 0.5893934369087219,
          "y": 0.910876989364624,
          "ŷ": 0.03524261713027954
         },
         {
          "x1": 0.3195939064025879,
          "y": 0.9901922345161438,
          "ŷ": 0.026399165391921997
         },
         {
          "x1": 0.30526021122932434,
          "y": 0.9679018259048462,
          "ŷ": 0.027584046125411987
         },
         {
          "x1": 0.4627739191055298,
          "y": 1.0600801706314087,
          "ŷ": 0.014561861753463745
         },
         {
          "x1": -0.4927133023738861,
          "y": -1.040653109550476,
          "ŷ": -0.12271484732627869
         },
         {
          "x1": 0.7644363045692444,
          "y": 0.5304574370384216,
          "ŷ": 0.22284263372421265
         },
         {
          "x1": -1.0203443765640259,
          "y": -0.2548521161079407,
          "ŷ": -0.8532788753509521
         },
         {
          "x1": -0.8026761412620544,
          "y": -0.4480985105037689,
          "ŷ": -0.500569224357605
         },
         {
          "x1": 0.020535273477435112,
          "y": 0.0820574164390564,
          "ŷ": 0.05903983116149902
         },
         {
          "x1": 0.5764201879501343,
          "y": 0.9334297180175781,
          "ŷ": 0.02187487483024597
         },
         {
          "x1": -0.09847068786621094,
          "y": -0.3847315311431885,
          "ŷ": 0.07287931442260742
         },
         {
          "x1": 0.7524592876434326,
          "y": 0.5574132800102234,
          "ŷ": 0.20975738763809204
         },
         {
          "x1": -1.2530494928359985,
          "y": -1.012061595916748,
          "ŷ": -1.8961045742034912
         },
         {
          "x1": 0.5924749374389648,
          "y": 0.9053240418434143,
          "ŷ": 0.03841772675514221
         },
         {
          "x1": -0.6919986009597778,
          "y": -0.6963397264480591,
          "ŷ": -0.34713247418403625
         },
         {
          "x1": -1.2076612710952759,
          "y": -0.7682926654815674,
          "ŷ": -1.5209521055221558
         },
         {
          "x1": 0.2402234822511673,
          "y": 0.8335666060447693,
          "ŷ": 0.03349187970161438
         },
         {
          "x1": 1.0410804748535156,
          "y": 0.2748403549194336,
          "ŷ": 0.6732950210571289
         },
         {
          "x1": 0.7104135155677795,
          "y": 0.6539982557296753,
          "ŷ": 0.16382122039794922
         },
         {
          "x1": -1.8736597299575806,
          "y": -7.513799667358398,
          "ŷ": -7.585971832275391
         },
         {
          "x1": -0.5373747944831848,
          "y": -0.9923514127731323,
          "ŷ": -0.1719667613506317
         },
         {
          "x1": -0.03882388025522232,
          "y": -0.15473058819770813,
          "ŷ": 0.06594285368919373
         },
         {
          "x1": -0.21901866793632507,
          "y": -0.7787380814552307,
          "ŷ": 0.07454150915145874
         },
         {
          "x1": 0.38245075941085815,
          "y": 1.055100440979004,
          "ŷ": 0.02120247483253479
         },
         {
          "x1": -0.8630659580230713,
          "y": -0.337185263633728,
          "ŷ": -0.5842076539993286
         },
         {
          "x1": -0.5630043745040894,
          "y": -0.9552619457244873,
          "ŷ": -0.19926193356513977
         },
         {
          "x1": -0.3801742196083069,
          "y": -1.0536928176879883,
          "ŷ": -0.011388152837753296
         },
         {
          "x1": 0.15698041021823883,
          "y": 0.5913325548171997,
          "ŷ": 0.04317229986190796
         },
         {
          "x1": -0.320796400308609,
          "y": -0.9919376373291016,
          "ŷ": 0.01981249451637268
         },
         {
          "x1": 2.235424757003784,
          "y": 11.635202407836914,
          "ŷ": 11.224117279052734
         },
         {
          "x1": -0.5994179844856262,
          "y": -0.8925500512123108,
          "ŷ": -0.2380422055721283
         },
         {
          "x1": 0.19765405356884003,
          "y": 0.7185086607933044,
          "ŷ": 0.03844231367111206
         },
         {
          "x1": -0.8776180148124695,
          "y": -0.315382719039917,
          "ŷ": -0.6053683757781982
         },
         {
          "x1": 0.2662218511104584,
          "y": 0.8936025500297546,
          "ŷ": 0.030811578035354614
         },
         {
          "x1": -1.0251837968826294,
          "y": -0.2587704658508301,
          "ŷ": -0.8616847991943359
         },
         {
          "x1": 1.1430366039276123,
          "y": 0.5032325387001038,
          "ŷ": 1.0195220708847046
         },
         {
          "x1": 0.7346861958503723,
          "y": 0.598016619682312,
          "ŷ": 0.1903398036956787
         },
         {
          "x1": -1.1383748054504395,
          "y": -0.48781317472457886,
          "ŷ": -1.1141554117202759
         },
         {
          "x1": -0.5607560276985168,
          "y": -0.9587645530700684,
          "ŷ": -0.19686749577522278
         },
         {
          "x1": -0.1656535565853119,
          "y": -0.6197256445884705,
          "ŷ": 0.07921889424324036
         },
         {
          "x1": 0.16387377679347992,
          "y": 0.6139525771141052,
          "ŷ": 0.042370736598968506
         },
         {
          "x1": -0.7958952188491821,
          "y": -0.4621833264827728,
          "ŷ": -0.4910987913608551
         },
         {
          "x1": 1.1720647811889648,
          "y": 0.610398530960083,
          "ŷ": 1.1885714530944824
         },
         {
          "x1": -0.6148321032524109,
          "y": -0.8629699349403381,
          "ŷ": -0.25445809960365295
         },
         {
          "x1": 0.3956202268600464,
          "y": 1.0618524551391602,
          "ŷ": 0.02011367678642273
         },
         {
          "x1": -0.276877760887146,
          "y": -0.915814995765686,
          "ŷ": 0.04464122653007507
         },
         {
          "x1": -1.643491506576538,
          "y": -4.725876331329346,
          "ŷ": -5.447143077850342
         },
         {
          "x1": 2.2890119552612305,
          "y": 12.258959770202637,
          "ŷ": 11.755115509033203
         },
         {
          "x1": 0.2724230885505676,
          "y": 0.9067022800445557,
          "ŷ": 0.030298739671707153
         },
         {
          "x1": -0.23465032875537872,
          "y": -0.8196523785591125,
          "ŷ": 0.0668763518333435
         },
         {
          "x1": -0.013054408133029938,
          "y": -0.05219613015651703,
          "ŷ": 0.06294611096382141
         },
         {
          "x1": 1.7968612909317017,
          "y": 6.587512493133545,
          "ŷ": 6.853445053100586
         },
         {
          "x1": 1.1384493112564087,
          "y": 0.4880557656288147,
          "ŷ": 0.9992434978485107
         },
         {
          "x1": -0.5049304962158203,
          "y": -1.0296483039855957,
          "ŷ": -0.1364031732082367
         },
         {
          "x1": 0.6691762208938599,
          "y": 0.7479774951934814,
          "ŷ": 0.11876824498176575
         },
         {
          "x1": 0.9116887450218201,
          "y": 0.2738246023654938,
          "ŷ": 0.39948615431785583
         },
         {
          "x1": -0.055505964905023575,
          "y": -0.22037525475025177,
          "ŷ": 0.06788286566734314
         },
         {
          "x1": 0.6589833498001099,
          "y": 0.7705538272857666,
          "ŷ": 0.10763230919837952
         },
         {
          "x1": 0.7806106209754944,
          "y": 0.494816392660141,
          "ŷ": 0.24051356315612793
         },
         {
          "x1": -1.0911896228790283,
          "y": -0.35909128189086914,
          "ŷ": -0.9763345718383789
         },
         {
          "x1": -0.608892560005188,
          "y": -0.8745591640472412,
          "ŷ": -0.24813243746757507
         },
         {
          "x1": -2.222240686416626,
          "y": -11.48475170135498,
          "ŷ": -10.826666831970215
         },
         {
          "x1": -2.5488834381103516,
          "y": -15.86292552947998,
          "ŷ": -13.870329856872559
         },
         {
          "x1": 0.7104703187942505,
          "y": 0.6538671851158142,
          "ŷ": 0.163883239030838
         },
         {
          "x1": -0.4897781312465668,
          "y": -1.0430371761322021,
          "ŷ": -0.11972472071647644
         }
        ]
       },
       "layer": [
        {
         "encoding": {
          "x": {
           "field": "x1",
           "type": "quantitative"
          },
          "y": {
           "field": "ŷ",
           "type": "quantitative"
          }
         },
         "height": 100,
         "mark": "line"
        },
        {
         "encoding": {
          "x": {
           "field": "x1",
           "type": "quantitative"
          },
          "y": {
           "field": "y",
           "type": "quantitative"
          }
         },
         "mark": "point"
        }
       ]
      },
      "image/png": "[encoded data removed]",
      "text/plain": [
       "<VegaLite 3 object>\n",
       "\n",
       "If you see this message, it means the renderer has not been properly enabled\n",
       "for the frontend that you are using. For more information, see\n",
       "https://altair-viz.github.io/user_guide/troubleshooting.html\n"
      ]
     },
     "execution_count": 347,
     "metadata": {},
     "output_type": "execute_result"
    }
   ],
   "source": [
    "preds = pd.DataFrame({'ŷ':my_model(x).detach().numpy()[:,0], 'y':y[:,0], 'x1':x[:,0]})\n",
    "(alt.Chart(preds, height=100).mark_line().encode(x='x1', y='ŷ') + \n",
    "alt.Chart(preds).mark_point().encode(x='x1', y='y'))"
   ]
  },
  {
   "cell_type": "markdown",
   "metadata": {},
   "source": [
    "## Minibatching and Dataloaders"
   ]
  },
  {
   "cell_type": "markdown",
   "metadata": {},
   "source": [
    "So far we've been using all of the data to calculate the gradients in each gradient descent step. However, doing that requires us to have all of the data in-memory at each step to look at $y_i$ and calculate $\\hat y_i$ for every single $i$. Mini-batch stochastic gradient descent avoids this problem: in each iteration, we only use a subset of the data (a *batch* or *minibatch*) to calculate the loss, and consequently the gradients. It turns out that doing this also helps the optimization algorithm get out of local minima, so it's a win-win (more details in the [gradient descent primer](https://github.com/alejandroschuler/articles/blob/master/grad_descent/Gradient%20Descent.ipynb) and [overview of gradient descent methods](https://ruder.io/optimizing-gradient-descent/index.html#minibatchgradientdescent))."
   ]
  },
  {
   "cell_type": "markdown",
   "metadata": {},
   "source": [
    "In practice, people *always* use batching when training neural networks, so pytorch makes it easy to do so:"
   ]
  },
  {
   "cell_type": "code",
   "execution_count": 370,
   "metadata": {},
   "outputs": [],
   "source": [
    "from torch.utils.data import DataLoader\n",
    "trainloader = DataLoader(list(zip(x,y)), batch_size=20, shuffle=True)"
   ]
  },
  {
   "cell_type": "code",
   "execution_count": 371,
   "metadata": {},
   "outputs": [],
   "source": [
    "my_model = Model([1,100,10,1]) \n",
    "criterion = nn.MSELoss() # the loss function in torch is often named \"criterion\"\n",
    "optimizer = optim.Adam(my_model.parameters(), lr=1*10e-5)"
   ]
  },
  {
   "cell_type": "code",
   "execution_count": 372,
   "metadata": {},
   "outputs": [],
   "source": [
    "n_epochs = 1000\n",
    "loss_record = []\n",
    "\n",
    "for e in range(n_epochs):\n",
    "    for x_batch, y_batch in trainloader:\n",
    "        ŷ_batch = my_model(x_batch) \n",
    "        L = criterion(y_batch, ŷ_batch)\n",
    "        L.backward()\n",
    "        optimizer.step()\n",
    "    full_loss = criterion(y, my_model(x))\n",
    "    loss_record.append(full_loss.item())"
   ]
  },
  {
   "cell_type": "code",
   "execution_count": 373,
   "metadata": {},
   "outputs": [
    {
     "data": {
      "application/vnd.vegalite.v3+json": {
       "$schema": "https://vega.github.io/schema/vega-lite/v3.4.0.json",
       "config": {
        "mark": {
         "tooltip": null
        },
        "view": {
         "height": 300,
         "width": 400
        }
       },
       "data": {
        "name": "data-0b40d0e66c06e6330f69a63aa76100e4"
       },
       "datasets": {
        "data-0b40d0e66c06e6330f69a63aa76100e4": [
         {
          "x1": 1.3925105333328247,
          "y": 2.045983076095581,
          "ŷ": 1.3954477310180664
         },
         {
          "x1": -0.83494633436203,
          "y": -0.38517293334007263,
          "ŷ": 0.06248101219534874
         },
         {
          "x1": -1.3506728410720825,
          "y": -1.6930019855499268,
          "ŷ": -2.071470022201538
         },
         {
          "x1": 0.34250175952911377,
          "y": 1.020087480545044,
          "ŷ": 0.3120473027229309
         },
         {
          "x1": 1.6934736967086792,
          "y": 5.327885627746582,
          "ŷ": 4.554337024688721
         },
         {
          "x1": -0.2501945495605469,
          "y": -0.8575526475906372,
          "ŷ": 0.1703086793422699
         },
         {
          "x1": 0.20255796611309052,
          "y": 0.7327579259872437,
          "ŷ": 0.24087315797805786
         },
         {
          "x1": 0.04228057712316513,
          "y": 0.1683928221464157,
          "ŷ": 0.18369092047214508
         },
         {
          "x1": -0.009086072444915771,
          "y": -0.03633703663945198,
          "ŷ": 0.1723329722881317
         },
         {
          "x1": -0.798854410648346,
          "y": -0.45600464940071106,
          "ŷ": 0.06248101219534874
         },
         {
          "x1": 0.3972577154636383,
          "y": 1.0625264644622803,
          "ŷ": 0.3457217514514923
         },
         {
          "x1": 1.0628230571746826,
          "y": 0.30499231815338135,
          "ŷ": 0.32789120078086853
         },
         {
          "x1": -1.2112994194030762,
          "y": -0.7860807180404663,
          "ŷ": -1.2878063917160034
         },
         {
          "x1": 1.856379508972168,
          "y": 7.306957721710205,
          "ŷ": 7.130682945251465
         },
         {
          "x1": -1.3579192161560059,
          "y": -1.7516525983810425,
          "ŷ": -2.1127965450286865
         },
         {
          "x1": 0.2741929292678833,
          "y": 0.9103527069091797,
          "ŷ": 0.2746240198612213
         },
         {
          "x1": -0.8186396360397339,
          "y": -0.4160539507865906,
          "ŷ": 0.06248101219534874
         },
         {
          "x1": 0.15097445249557495,
          "y": 0.5712963938713074,
          "ŷ": 0.22019530832767487
         },
         {
          "x1": -0.46315106749534607,
          "y": -1.0599042177200317,
          "ŷ": 0.11935354769229889
         },
         {
          "x1": -1.158079981803894,
          "y": -0.5563618540763855,
          "ŷ": -0.9910517334938049
         },
         {
          "x1": -0.44949597120285034,
          "y": -1.0651228427886963,
          "ŷ": 0.1230606734752655
         },
         {
          "x1": -0.10324347764253616,
          "y": -0.4024354815483093,
          "ŷ": 0.16763757169246674
         },
         {
          "x1": -0.41546371579170227,
          "y": -1.0675703287124634,
          "ŷ": 0.13284175097942352
         },
         {
          "x1": -0.2692573368549347,
          "y": -0.9000747799873352,
          "ŷ": 0.16937056183815002
         },
         {
          "x1": 0.21172472834587097,
          "y": 0.7587212324142456,
          "ŷ": 0.244594007730484
         },
         {
          "x1": 1.6373955011367798,
          "y": 4.653219223022461,
          "ŷ": 3.6881706714630127
         },
         {
          "x1": 1.1845717430114746,
          "y": 0.6625384092330933,
          "ŷ": 0.4348700940608978
         },
         {
          "x1": 0.11129733920097351,
          "y": 0.43200743198394775,
          "ŷ": 0.20483477413654327
         },
         {
          "x1": 1.8715521097183228,
          "y": 7.488629341125488,
          "ŷ": 7.373802185058594
         },
         {
          "x1": -1.086632251739502,
          "y": -0.3492460250854492,
          "ŷ": -0.5944685339927673
         },
         {
          "x1": -0.5343459248542786,
          "y": -0.9963070750236511,
          "ŷ": 0.10002554953098297
         },
         {
          "x1": 0.7554900050163269,
          "y": 0.5505548119544983,
          "ŷ": 0.6284841895103455
         },
         {
          "x1": -0.17758269608020782,
          "y": -0.6576847434043884,
          "ŷ": 0.1709306389093399
         },
         {
          "x1": 0.8096725940704346,
          "y": 0.43385159969329834,
          "ŷ": 0.6774750351905823
         },
         {
          "x1": 0.24827183783054352,
          "y": 0.8530191779136658,
          "ŷ": 0.26216310262680054
         },
         {
          "x1": 0.5893934369087219,
          "y": 0.910876989364624,
          "ŷ": 0.4894172251224518
         },
         {
          "x1": 0.3195939064025879,
          "y": 0.9901922345161438,
          "ŷ": 0.29891619086265564
         },
         {
          "x1": 0.30526021122932434,
          "y": 0.9679018259048462,
          "ŷ": 0.29069989919662476
         },
         {
          "x1": 0.4627739191055298,
          "y": 1.0600801706314087,
          "ŷ": 0.3928459882736206
         },
         {
          "x1": -0.4927133023738861,
          "y": -1.040653109550476,
          "ŷ": 0.11132799088954926
         },
         {
          "x1": 0.7644363045692444,
          "y": 0.5304574370384216,
          "ŷ": 0.6365332007408142
         },
         {
          "x1": -1.0203443765640259,
          "y": -0.2548521161079407,
          "ŷ": -0.25311166048049927
         },
         {
          "x1": -0.8026761412620544,
          "y": -0.4480985105037689,
          "ŷ": 0.06248101219534874
         },
         {
          "x1": 0.020535273477435112,
          "y": 0.0820574164390564,
          "ŷ": 0.17781555652618408
         },
         {
          "x1": 0.5764201879501343,
          "y": 0.9334297180175781,
          "ŷ": 0.479522705078125
         },
         {
          "x1": -0.09847068786621094,
          "y": -0.3847315311431885,
          "ŷ": 0.16735795140266418
         },
         {
          "x1": 0.7524592876434326,
          "y": 0.5574132800102234,
          "ŷ": 0.6257575154304504
         },
         {
          "x1": -1.2530494928359985,
          "y": -1.012061595916748,
          "ŷ": -1.5206074714660645
         },
         {
          "x1": 0.5924749374389648,
          "y": 0.9053240418434143,
          "ŷ": 0.4917674958705902
         },
         {
          "x1": -0.6919986009597778,
          "y": -0.6963397264480591,
          "ŷ": 0.06248101219534874
         },
         {
          "x1": -1.2076612710952759,
          "y": -0.7682926654815674,
          "ŷ": -1.2675198316574097
         },
         {
          "x1": 0.2402234822511673,
          "y": 0.8335666060447693,
          "ŷ": 0.25829407572746277
         },
         {
          "x1": 1.0410804748535156,
          "y": 0.2748403549194336,
          "ŷ": 0.34779009222984314
         },
         {
          "x1": 0.7104135155677795,
          "y": 0.6539982557296753,
          "ŷ": 0.588263213634491
         },
         {
          "x1": -1.8736597299575806,
          "y": -7.513799667358398,
          "ŷ": -7.206753730773926
         },
         {
          "x1": -0.5373747944831848,
          "y": -0.9923514127731323,
          "ŷ": 0.09920324385166168
         },
         {
          "x1": -0.03882388025522232,
          "y": -0.15473058819770813,
          "ŷ": 0.16801975667476654
         },
         {
          "x1": -0.21901866793632507,
          "y": -0.7787380814552307,
          "ŷ": 0.17152798175811768
         },
         {
          "x1": 0.38245075941085815,
          "y": 1.055100440979004,
          "ŷ": 0.3361020088195801
         },
         {
          "x1": -0.8630659580230713,
          "y": -0.337185263633728,
          "ŷ": 0.06248101219534874
         },
         {
          "x1": -0.5630043745040894,
          "y": -0.9552619457244873,
          "ŷ": 0.09224531054496765
         },
         {
          "x1": -0.3801742196083069,
          "y": -1.0536928176879883,
          "ŷ": 0.14340367913246155
         },
         {
          "x1": 0.15698041021823883,
          "y": 0.5913325548171997,
          "ŷ": 0.22260284423828125
         },
         {
          "x1": -0.320796400308609,
          "y": -0.9919376373291016,
          "ŷ": 0.16156892478466034
         },
         {
          "x1": 2.235424757003784,
          "y": 11.635202407836914,
          "ŷ": 13.244314193725586
         },
         {
          "x1": -0.5994179844856262,
          "y": -0.8925500512123108,
          "ŷ": 0.08111557364463806
         },
         {
          "x1": 0.19765405356884003,
          "y": 0.7185086607933044,
          "ŷ": 0.23890738189220428
         },
         {
          "x1": -0.8776180148124695,
          "y": -0.315382719039917,
          "ŷ": 0.06248101219534874
         },
         {
          "x1": 0.2662218511104584,
          "y": 0.8936025500297546,
          "ŷ": 0.2707921266555786
         },
         {
          "x1": -1.0251837968826294,
          "y": -0.2587704658508301,
          "ŷ": -0.2778254449367523
         },
         {
          "x1": 1.1430366039276123,
          "y": 0.5032325387001038,
          "ŷ": 0.3816196024417877
         },
         {
          "x1": 0.7346861958503723,
          "y": 0.598016619682312,
          "ŷ": 0.6098040342330933
         },
         {
          "x1": -1.1383748054504395,
          "y": -0.48781317472457886,
          "ŷ": -0.881134033203125
         },
         {
          "x1": -0.5607560276985168,
          "y": -0.9587645530700684,
          "ŷ": 0.09285567700862885
         },
         {
          "x1": -0.1656535565853119,
          "y": -0.6197256445884705,
          "ŷ": 0.1704806238412857
         },
         {
          "x1": 0.16387377679347992,
          "y": 0.6139525771141052,
          "ŷ": 0.22536613047122955
         },
         {
          "x1": -0.7958952188491821,
          "y": -0.4621833264827728,
          "ŷ": 0.06248101219534874
         },
         {
          "x1": 1.1720647811889648,
          "y": 0.610398530960083,
          "ŷ": 0.418835312128067
         },
         {
          "x1": -0.6148321032524109,
          "y": -0.8629699349403381,
          "ŷ": 0.0741906687617302
         },
         {
          "x1": 0.3956202268600464,
          "y": 1.0618524551391602,
          "ŷ": 0.3446394205093384
         },
         {
          "x1": -0.276877760887146,
          "y": -0.915814995765686,
          "ŷ": 0.1689811497926712
         },
         {
          "x1": -1.643491506576538,
          "y": -4.725876331329346,
          "ŷ": -3.9436545372009277
         },
         {
          "x1": 2.2890119552612305,
          "y": 12.258959770202637,
          "ŷ": 14.114710807800293
         },
         {
          "x1": 0.2724230885505676,
          "y": 0.9067022800445557,
          "ŷ": 0.2737732231616974
         },
         {
          "x1": -0.23465032875537872,
          "y": -0.8196523785591125,
          "ŷ": 0.17091664671897888
         },
         {
          "x1": -0.013054408133029938,
          "y": -0.05219613015651703,
          "ŷ": 0.1716070920228958
         },
         {
          "x1": 1.7968612909317017,
          "y": 6.587512493133545,
          "ŷ": 6.1769890785217285
         },
         {
          "x1": 1.1384493112564087,
          "y": 0.4880557656288147,
          "ŷ": 0.37573835253715515
         },
         {
          "x1": -0.5049304962158203,
          "y": -1.0296483039855957,
          "ŷ": 0.10801124572753906
         },
         {
          "x1": 0.6691762208938599,
          "y": 0.7479774951934814,
          "ŷ": 0.5516670346260071
         },
         {
          "x1": 0.9116887450218201,
          "y": 0.2738246023654938,
          "ŷ": 0.5435354709625244
         },
         {
          "x1": -0.055505964905023575,
          "y": -0.22037525475025177,
          "ŷ": 0.1669473797082901
         },
         {
          "x1": 0.6589833498001099,
          "y": 0.7705538272857666,
          "ŷ": 0.543247640132904
         },
         {
          "x1": 0.7806106209754944,
          "y": 0.494816392660141,
          "ŷ": 0.6510852575302124
         },
         {
          "x1": -1.0911896228790283,
          "y": -0.35909128189086914,
          "ŷ": -0.6187014579772949
         },
         {
          "x1": -0.608892560005188,
          "y": -0.8745591640472412,
          "ŷ": 0.0768590196967125
         },
         {
          "x1": -2.222240686416626,
          "y": -11.48475170135498,
          "ŷ": -12.111568450927734
         },
         {
          "x1": -2.5488834381103516,
          "y": -15.86292552947998,
          "ŷ": -16.70565414428711
         },
         {
          "x1": 0.7104703187942505,
          "y": 0.6538671851158142,
          "ŷ": 0.5883135795593262
         },
         {
          "x1": -0.4897781312465668,
          "y": -1.0430371761322021,
          "ŷ": 0.11212486028671265
         }
        ]
       },
       "layer": [
        {
         "encoding": {
          "x": {
           "field": "x1",
           "type": "quantitative"
          },
          "y": {
           "field": "ŷ",
           "type": "quantitative"
          }
         },
         "height": 100,
         "mark": "line"
        },
        {
         "encoding": {
          "x": {
           "field": "x1",
           "type": "quantitative"
          },
          "y": {
           "field": "y",
           "type": "quantitative"
          }
         },
         "mark": "point"
        }
       ]
      },
      "image/png": "[encoded data removed]",
      "text/plain": [
       "<VegaLite 3 object>\n",
       "\n",
       "If you see this message, it means the renderer has not been properly enabled\n",
       "for the frontend that you are using. For more information, see\n",
       "https://altair-viz.github.io/user_guide/troubleshooting.html\n"
      ]
     },
     "execution_count": 373,
     "metadata": {},
     "output_type": "execute_result"
    }
   ],
   "source": [
    "preds = pd.DataFrame({'ŷ':my_model(x).detach().numpy()[:,0], 'y':y[:,0], 'x1':x[:,0]})\n",
    "(alt.Chart(preds, height=100).mark_line().encode(x='x1', y='ŷ') + \n",
    "alt.Chart(preds).mark_point().encode(x='x1', y='y'))"
   ]
  },
  {
   "cell_type": "markdown",
   "metadata": {},
   "source": [
    "<div class=\"alert alert-block alert-info\">\n",
    "<b>Exercise:</b> \n",
    "\n",
    "FIT THE WINE DATA\n",
    "</div>"
   ]
  },
  {
   "cell_type": "markdown",
   "metadata": {},
   "source": [
    "<div class=\"alert alert-block alert-info\">\n",
    "<b>Exercise:</b> \n",
    "\n",
    "FIT THE BOSTON DATA\n",
    "</div>"
   ]
  },
  {
   "cell_type": "code",
   "execution_count": null,
   "metadata": {},
   "outputs": [],
   "source": []
  }
 ],
 "metadata": {
  "kernelspec": {
   "display_name": "Python 3",
   "language": "python",
   "name": "python3"
  },
  "language_info": {
   "codemirror_mode": {
    "name": "ipython",
    "version": 3
   },
   "file_extension": ".py",
   "mimetype": "text/x-python",
   "name": "python",
   "nbconvert_exporter": "python",
   "pygments_lexer": "ipython3",
   "version": "3.7.6"
  }
 },
 "nbformat": 4,
 "nbformat_minor": 4
}
