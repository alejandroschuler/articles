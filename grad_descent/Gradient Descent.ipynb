{
 "cells": [
  {
   "cell_type": "markdown",
   "metadata": {},
   "source": [
    "# Fitting Models with Gradient Descent"
   ]
  },
  {
   "cell_type": "markdown",
   "metadata": {},
   "source": [
    "Gradient descent and related methods are at the core of many optimization problems and machine learning algorithms."
   ]
  },
  {
   "cell_type": "markdown",
   "metadata": {},
   "source": [
    "## Motivation: Linear Regression"
   ]
  },
  {
   "cell_type": "markdown",
   "metadata": {},
   "source": [
    "### Data and setup"
   ]
  },
  {
   "cell_type": "markdown",
   "metadata": {},
   "source": [
    "Let's say we observe $n$ patients in a hospital, each of whom has measurements of their pre-treatment blood pressure, heart rate, etc. and also their corresponding blood pressure after taking a drug. For a new patient who walks in the door, given their current vital signs, can we predict their post-treatment blood pressure? \n",
    "\n",
    "The data for this kind of problem is most often formulated as vectors and matrices. We usually say that the $i$th patient's pre-treatment values are $x_i = [x_{i1}, x_{i2} \\dots x_{ip}]$, so $x_{i1}$ is patient $i$'s pre-treatment blood pressure, $x_{i2}$ is their heart rate, etc. We also usually call the post-treatment blood pressure measurement for each patient $y_i$. So our goal is to predict $y_i$ from $x_i$ for a new patient who walks in the door.\n",
    "\n",
    "Now we can stack up all the measurements for all the patients like this:"
   ]
  },
  {
   "cell_type": "markdown",
   "metadata": {},
   "source": [
    "$$\n",
    "X = \\left[\n",
    "\\begin{array}{cccc}\n",
    "x_{11} & x_{12} & \\cdots & x_{1p} \\\\\n",
    "x_{21} & x_{22} & \\cdots & x_{2p} \\\\\n",
    "\\vdots & & \\ddots & \\vdots \\\\\n",
    "x_{n1} & x_{n2} & \\cdots & x_{np} \n",
    "\\end{array}\n",
    "\\right] = \n",
    "\\left[\n",
    "\\begin{array}{cccc}\n",
    "-3.2 & 28 & \\cdots & 66 \\\\\n",
    "8 & 22 & \\cdots & 6.8 \\\\\n",
    "\\vdots & & \\ddots & \\vdots \\\\\n",
    "0.54 & 10 & \\cdots & 13 \n",
    "\\end{array}\n",
    "\\right]\n",
    "\\quad\\quad\n",
    "y = \n",
    "\\left[\n",
    "\\begin{array}{c}\n",
    "y_1 \\\\ y_2 \\\\ \\vdots \\\\ y_n\n",
    "\\end{array}\n",
    "\\right] \n",
    "= \n",
    "\\left[\n",
    "\\begin{array}{c}\n",
    "3.3 \\\\ 21.2 \\\\ \\vdots \\\\ -9.97\n",
    "\\end{array}\n",
    "\\right] \n",
    "$$"
   ]
  },
  {
   "cell_type": "markdown",
   "metadata": {},
   "source": [
    "We used pre-treatment vitals and post-treatment blood pressure as the predictors (or features) and outcome (or target) in our example, but this is the way we usually think of the data, no matter what the predictors and outcome are."
   ]
  },
  {
   "cell_type": "markdown",
   "metadata": {},
   "source": [
    "### Predicting"
   ]
  },
  {
   "cell_type": "markdown",
   "metadata": {},
   "source": [
    "There are an infinite number of strategies we could use to try and guess what the relationship between $y_i$ and $x_i$ might be. We're going to presume that there is some relationship $y_i = f(x_i)$, and we want to figure out what $f$ is. You can think of the \"real\" $f$ as the function that the gods use to decide what a patient's blood pressure will be after treatment, given that the pre-treatment vitals were $x_i$. "
   ]
  },
  {
   "cell_type": "markdown",
   "metadata": {},
   "source": [
    "Since we don't know what $f$ is, we're going to try and guess. To make our job easier, we'll assume $f$ is a linear function of the form $x_i \\beta + \\alpha$. Our problem now reduces to guessing what the right $\\alpha$ and $\\beta$ are. "
   ]
  },
  {
   "cell_type": "markdown",
   "metadata": {},
   "source": [
    "<div class=\"alert alert-block alert-danger\">\n",
    "<b>WARNING:</b> Saying $f$ is linear (or of some other form) when it's really not is called <i>model misspecification</i>. We never know for sure the form that $f$ has, so in reality our models are almost always misspecified. If we only use the model for <i>prediction</i>, misspecification  doesn't invalidate the approach, it just means that the predictions won't be as accurate as they otherwise could be. On the other hand, if the model is used for <i>inference</i> (i.e. to estimate the effect of a variable on the outcome, with p-values, confidence intervals, etc.), then misspecification often invalidates the result. Be aware of this distinction.\n",
    "</div>"
   ]
  },
  {
   "cell_type": "markdown",
   "metadata": {},
   "source": [
    "Let's play god and simulate some data where a linear relationship actually does hold between $x_i$ and $y_i$ (and let's [use neat unicode symbols](https://github.com/jupyter/jupyter/issues/327) in our code!).:"
   ]
  },
  {
   "cell_type": "code",
   "execution_count": 335,
   "metadata": {},
   "outputs": [],
   "source": [
    "import numpy as np\n",
    "\n",
    "def to_array(β):\n",
    "    if type(β) in (float, int, np.float64):\n",
    "        return np.array([β]) # handle the case where user passes in a single number\n",
    "    if type(β) is list:\n",
    "        return np.array(β) # handle the case where user passes in a list\n",
    "    return β\n",
    "\n",
    "def simulate_linear(n, β=1, α=0, σ=1):\n",
    "    β = to_array(β)\n",
    "    p = len(β) # number of predictors we want\n",
    "    X = np.random.rand(n,p)\n",
    "    ϵ = np.random.normal(scale=σ, size=n) # random noise\n",
    "    y = α + X@β + ϵ\n",
    "    return X, y"
   ]
  },
  {
   "cell_type": "code",
   "execution_count": 4,
   "metadata": {},
   "outputs": [],
   "source": [
    "X,y = simulate_linear(100, α=1, β=[1,-3,12])"
   ]
  },
  {
   "cell_type": "markdown",
   "metadata": {},
   "source": [
    "Ok, now let's go back to being mere mortals. All we can see are these data $X$ and $y$. We don't even know for sure that the relationship is linear, much less what $\\alpha$ and $\\beta$ were. But we're going to take a leap of faith and pretend it's linear. The worst that happens is our predictions won't be very good."
   ]
  },
  {
   "cell_type": "markdown",
   "metadata": {},
   "source": [
    "Now all we need to do is find some values $\\beta = [\\beta_1, \\dots \\beta_p]^T$ and $\\alpha$ so that $y_i \\approx  x_i \\beta + \\alpha$ for all observed $y_i$ and $x_i$ in the data. That is, we need to find the values that make the model best \"fit\" the data. Once we have those best values, we can feed the vitals of a new patient $x_i$ into the formula $x_i \\beta + \\alpha$ to guess what their blood pressure $y_i$ will be. We often call the estimate $\\hat y_i = x_i \\beta + \\alpha$. This whole process is called linear regression, which many of you are likely familiar with."
   ]
  },
  {
   "cell_type": "markdown",
   "metadata": {},
   "source": [
    "We can set up a little `LinearModel` class in python that encapsulates what we've said so far."
   ]
  },
  {
   "cell_type": "code",
   "execution_count": 5,
   "metadata": {},
   "outputs": [],
   "source": [
    "import numpy as np\n",
    "\n",
    "class LinearModel():\n",
    "    def __init__(self, α=None, β=None): \n",
    "        self.α = α # these are the \"parameters\" of the model\n",
    "        self.β = to_array(β)\n",
    "        \n",
    "    def predict(self, X):\n",
    "        return self.α + X @ self.β # returns ŷ"
   ]
  },
  {
   "cell_type": "markdown",
   "metadata": {},
   "source": [
    "And we can test it out:"
   ]
  },
  {
   "cell_type": "code",
   "execution_count": 6,
   "metadata": {},
   "outputs": [
    {
     "name": "stdout",
     "output_type": "stream",
     "text": [
      "ŷ = [-13.16301189  -9.76725628 -10.93047664 -24.68828898   6.56525583]\n",
      "y = [10.96199259  9.91667858  2.5389317  -0.79802221 13.06470167]\n"
     ]
    }
   ],
   "source": [
    "model = LinearModel(α=1, β=[1.1,-33,9]) # make a model with these coefficients\n",
    "print(f'ŷ = {model.predict(X[0:5,:])}')\n",
    "print(f'y = {y[0:5]}')"
   ]
  },
  {
   "cell_type": "markdown",
   "metadata": {},
   "source": [
    "Obviously the predictions look very far off since we picked the values of $\\alpha$ and $\\beta$ at random"
   ]
  },
  {
   "cell_type": "markdown",
   "metadata": {},
   "source": [
    "The question is: how do we find $\\beta$ and $\\alpha$ so that $y_i \\approx  x_i \\beta + \\alpha$? "
   ]
  },
  {
   "cell_type": "markdown",
   "metadata": {},
   "source": [
    "### Defining a Loss"
   ]
  },
  {
   "cell_type": "markdown",
   "metadata": {},
   "source": [
    "The first thing to do is quantitatively define what we mean by \"$\\approx$\". We need a rule that tells us how good our approximation $\\hat y_i$ is if the real blood pressure is $y_i$. We call that rule a *loss function* (sometimes also *cost* or *objective*). The loss tells us how much we \"lose\" by approximating $y_i$ with whatever value $\\hat y_i$ is. Ultimately, that's a question that depends on what's important in the problem at hand, but often we default to using the squared-error loss function: $(y_i -  \\hat y_i)^2$ The intuition is simple: subtract the estimate from the real value and square the result to make positive and negative deviations equal in penalty. To calculate the loss over the whole dataset (instead of just one individual $i$), we average the losses across each individual: $\\frac{1}{n}\\sum_i (y_i -  \\hat y_i)^2$. This is called *mean-squared error* (MSE). In python:"
   ]
  },
  {
   "cell_type": "code",
   "execution_count": 7,
   "metadata": {},
   "outputs": [],
   "source": [
    "def mse(y, ŷ):\n",
    "    return np.mean(np.square(y-ŷ))"
   ]
  },
  {
   "cell_type": "markdown",
   "metadata": {},
   "source": [
    "If we plug in $\\hat y_i = x_i \\beta + \\alpha$, what we're looking for are values of $\\alpha$ and $\\beta$ that minimize the loss $\\frac{1}{n} \\sum_i(y_i - (x_i\\beta + \\alpha))^2$. So although we introduced the loss as a function of the truth $y_i$ and the estimate $\\hat y_i$, we can look at it instead as a function of the parameters $\\alpha$ and $\\beta$: $L(\\alpha, \\beta) = \\frac{1}{n} \\sum_i(y_i - (x_i\\beta + \\alpha))^2$. The parameters are the only thing we can actually control to change the loss since $x_i$ and $y_i$ are just constants that are determined by the observed data.\n",
    "\n",
    "So how do we find the $\\alpha$ and $\\beta$ that minimize the loss?"
   ]
  },
  {
   "cell_type": "markdown",
   "metadata": {},
   "source": [
    "## Intuition: Turning the knobs"
   ]
  },
  {
   "cell_type": "markdown",
   "metadata": {},
   "source": [
    "I find it useful to think about optimization problems in the following way: we have a complicated machine that makes an obnixous racket when it runs. However, there are a number of knobs we can turn that together might increase or decrease the horrible noise."
   ]
  },
  {
   "cell_type": "markdown",
   "metadata": {},
   "source": [
    "![](https://upload.wikimedia.org/wikipedia/commons/6/6a/TASCAM_M-520_knobs.jpg)"
   ]
  },
  {
   "cell_type": "markdown",
   "metadata": {},
   "source": [
    "We don't know what position of the knobs produces the quietest running conditions, but by twisting them to a particular configuration, we can hear how noisy the machine is."
   ]
  },
  {
   "cell_type": "markdown",
   "metadata": {},
   "source": [
    "In our analogy, the knobs are the *parameters* of our model ($\\alpha$ and $\\beta$ in our example above), the machine is the loss function itself, and the volume of the noise is the value of the loss function at a particular setting of the parameters $L(\\alpha, \\beta)$. "
   ]
  },
  {
   "cell_type": "markdown",
   "metadata": {},
   "source": [
    "We can also visualize the loss as a surface. The horizontal axes correspond to the values of the parameters, while the vertical axis corresponds to the value of the loss at that set of parameter values.\n",
    "\n",
    "![](https://algorithmia2.onpressidium.com/wp-content/uploads/2018/04/word-image-4.png)"
   ]
  },
  {
   "cell_type": "markdown",
   "metadata": {},
   "source": [
    "The optimum point that we're looking for is the value of the parameters that minimizes the loss- so the lowest point on the surface. If there are more than two parameters ($p>2$), it is no longer possible to visualize this surface, but you can still think about it the same way. There is some \"lowest point\" on a surface in $p+1$-dimensional space, which is the configuration of the $p$ knobs that makes the machine run the quietest."
   ]
  },
  {
   "cell_type": "markdown",
   "metadata": {},
   "source": [
    "In general, we'll call the set of $p$ parameters $\\theta = [\\theta_1, \\dots \\theta_p]^T$ (these are our \"knobs\") and we'll call the loss function $L$. "
   ]
  },
  {
   "cell_type": "markdown",
   "metadata": {},
   "source": [
    "Don't confuse the surface of the loss function $L(\\alpha, \\beta)$ with the \"surface\" of the regression function $f_{\\alpha, \\beta}(x) = \\alpha + x\\beta$. When most people think about linear regression, the first thing that comes to mind is a line going through some points on a scatterplot (or a \"plane\" going through a \"cloud\" of points in higher dimensions)- that's $f_{\\alpha, \\beta}(x)$, for some particular values of $\\alpha$ and $\\beta$. But it's actually much more useful to think about the loss surface, which tells us how good each potential model is:"
   ]
  },
  {
   "cell_type": "markdown",
   "metadata": {},
   "source": [
    "![](loss_didactic.png)"
   ]
  },
  {
   "cell_type": "markdown",
   "metadata": {},
   "source": [
    "In this figure we see three different lines fit through the same set of points. Each of those is a different regression function $f_{\\alpha, \\beta}$, which is uniqely identified by the values of $\\alpha$, $\\beta$ used to draw the line. In higher dimensions, these would be \"surfaces\" that map a value of $x$ to a prediction $\\hat y$. What the loss function does is assign a value $L$ to *each* of those surfaces (regression functions). Since each regression function is uniquely identified by its parameters, we can thus think of the loss as assigning a value $L$ to each set of parameters."
   ]
  },
  {
   "cell_type": "markdown",
   "metadata": {},
   "source": [
    "## Optimization by Random Search"
   ]
  },
  {
   "cell_type": "markdown",
   "metadata": {},
   "source": [
    "One way to try and find a \"good-enough\" value of $\\theta$ is to try lots of different values at random and pick whichever happens to produce the lowest loss. Let's try it out. "
   ]
  },
  {
   "cell_type": "markdown",
   "metadata": {},
   "source": [
    "First, for purposes of this demonstration, let's simplify the problem. We'll work in a setting where $X$ has only one column, meaning that $\\beta$ is a scalar value and not a vector. That means our linear model has only two parameters, $\\alpha$, and $\\beta$."
   ]
  },
  {
   "cell_type": "code",
   "execution_count": 25,
   "metadata": {},
   "outputs": [],
   "source": [
    "X,y = simulate_linear(100, α=0, β=1, σ=0.25) # remember, in reality we don't know what these numbers actually are"
   ]
  },
  {
   "cell_type": "code",
   "execution_count": 26,
   "metadata": {},
   "outputs": [],
   "source": [
    "αs = []\n",
    "βs = []\n",
    "losses = []\n",
    "\n",
    "for guess in range(100):\n",
    "    α = 200*np.random.rand(1)-100 # guess α is a number between -100 and 100\n",
    "    β = 200*np.random.rand(1)-100 # guess β is a number between -100 and 100\n",
    "    \n",
    "    model = LinearModel(α, β)\n",
    "    loss = mse(y, model.predict(X))\n",
    "    \n",
    "    losses.append(loss.item()) # .item() extracts the value out of the 1x1 array into a float\n",
    "    αs.append(α.item())\n",
    "    βs.append(β.item())"
   ]
  },
  {
   "cell_type": "code",
   "execution_count": 27,
   "metadata": {},
   "outputs": [],
   "source": [
    "import pandas as pd\n",
    "import altair as alt\n",
    "random_guess_data = pd.DataFrame({'α':αs, 'β':βs, 'loss':losses})"
   ]
  },
  {
   "cell_type": "code",
   "execution_count": 28,
   "metadata": {},
   "outputs": [
    {
     "data": {
      "application/vnd.vegalite.v3+json": {
       "$schema": "https://vega.github.io/schema/vega-lite/v3.4.0.json",
       "config": {
        "mark": {
         "tooltip": null
        },
        "view": {
         "height": 300,
         "width": 400
        }
       },
       "data": {
        "name": "data-d525a3a5de177978e7fd998da45889b4"
       },
       "datasets": {
        "data-d525a3a5de177978e7fd998da45889b4": [
         {
          "loss": 7606.453353623599,
          "α": -92.81142435669956,
          "β": 11.713027364640354
         },
         {
          "loss": 689.724521890453,
          "α": -41.98274432195204,
          "β": 34.580805881846146
         },
         {
          "loss": 13294.716443889203,
          "α": -93.73653719488206,
          "β": -38.65887093489153
         },
         {
          "loss": 644.3592436506125,
          "α": -4.255818400876294,
          "β": 48.725955254761914
         },
         {
          "loss": 818.603601050982,
          "α": -49.15688382761356,
          "β": 46.471761628318774
         },
         {
          "loss": 3519.7752741422605,
          "α": 57.918007627863574,
          "β": 3.661954840396845
         },
         {
          "loss": 689.2255150199089,
          "α": -52.49053395013825,
          "β": 69.49557495765333
         },
         {
          "loss": 366.9809147869393,
          "α": 38.613891178634475,
          "β": -57.0544947813749
         },
         {
          "loss": 7098.013814898195,
          "α": 59.1437665095267,
          "β": 46.43077009864231
         },
         {
          "loss": 22939.587277560524,
          "α": 99.56040002174086,
          "β": 94.31114226242053
         },
         {
          "loss": 2023.3237422298296,
          "α": 7.899570364021358,
          "β": -84.05808582029914
         },
         {
          "loss": 16221.214154483836,
          "α": -95.621417394283,
          "β": -56.838172125781774
         },
         {
          "loss": 2374.11423931483,
          "α": 90.02107767513749,
          "β": -95.08670643517169
         },
         {
          "loss": 5765.480369497391,
          "α": -52.153934976089936,
          "β": -41.925420718268434
         },
         {
          "loss": 3629.466802534381,
          "α": 42.798270498133235,
          "β": 32.60989444797724
         },
         {
          "loss": 11237.837504707792,
          "α": 74.80693611050538,
          "β": 57.49077856442912
         },
         {
          "loss": 303.1801986851159,
          "α": -2.541761140281068,
          "β": -23.94232992021375
         },
         {
          "loss": 1298.5525071836162,
          "α": 58.503451306864974,
          "β": -47.30269951087873
         },
         {
          "loss": 13406.973928724035,
          "α": -73.9688001257872,
          "β": -73.98754793237545
         },
         {
          "loss": 2215.368055188525,
          "α": 65.0990411869879,
          "β": -35.59637210622087
         },
         {
          "loss": 12087.612278472447,
          "α": -59.378522112336185,
          "β": -88.42678907026347
         },
         {
          "loss": 12344.717064817563,
          "α": -87.51797214463511,
          "β": -42.216093025668
         },
         {
          "loss": 822.6454957343684,
          "α": 39.41414121604828,
          "β": -90.05177832118476
         },
         {
          "loss": 3491.149010233546,
          "α": 26.265897479579465,
          "β": 58.29344400723522
         },
         {
          "loss": 7368.913659891447,
          "α": 76.98765677506583,
          "β": 17.496952921732657
         },
         {
          "loss": 4932.413894871723,
          "α": 34.86224476138494,
          "β": 63.181072987486544
         },
         {
          "loss": 6579.489661308558,
          "α": 35.71414361837887,
          "β": 80.207880900638
         },
         {
          "loss": 1338.0957889646784,
          "α": 73.43743743067958,
          "β": -96.50208273070567
         },
         {
          "loss": 1584.4886153544198,
          "α": -19.995354834377466,
          "β": -33.85083465853458
         },
         {
          "loss": 17708.500908340495,
          "α": 82.18228007697576,
          "β": 91.98732563056524
         },
         {
          "loss": 3161.4234032000913,
          "α": 83.58692073727966,
          "β": -55.81289214793064
         },
         {
          "loss": 4110.122345972485,
          "α": 8.165971443250172,
          "β": 94.62820219005826
         },
         {
          "loss": 11328.021006539242,
          "α": -61.9591385531997,
          "β": -78.11465513640867
         },
         {
          "loss": 671.8151026033321,
          "α": 36.740386002473144,
          "β": -21.122774888503756
         },
         {
          "loss": 11924.516297057744,
          "α": -71.4727609891682,
          "β": -66.7985838142406
         },
         {
          "loss": 320.2574897935583,
          "α": 32.77741251901662,
          "β": -58.425899693703556
         },
         {
          "loss": 10845.134668300841,
          "α": 79.51202643249283,
          "β": 45.966588607452366
         },
         {
          "loss": 4531.994601449766,
          "α": 42.678159669860406,
          "β": 45.1599730660557
         },
         {
          "loss": 18.153661616948565,
          "α": 3.718060209734702,
          "β": 1.9971295894440715
         },
         {
          "loss": 926.2906682721333,
          "α": -61.00963169765079,
          "β": 81.50177611744905
         },
         {
          "loss": 4211.93581695791,
          "α": 18.823979116111644,
          "β": 79.78313457011365
         },
         {
          "loss": 2851.952966068364,
          "α": 49.02627848274341,
          "β": 9.183510911272336
         },
         {
          "loss": 12639.629844191968,
          "α": 89.82911500090472,
          "β": 42.47571457578266
         },
         {
          "loss": 336.57915122585837,
          "α": -21.392572941836335,
          "β": 6.940336885863218
         },
         {
          "loss": 4487.69048291055,
          "α": -65.51635329963955,
          "β": -1.7754371880399447
         },
         {
          "loss": 10443.781984089634,
          "α": -44.47692467350488,
          "β": -99.6236239695707
         },
         {
          "loss": 1892.7323822769542,
          "α": -53.95288485485861,
          "β": 21.624448853807593
         },
         {
          "loss": 4516.215015673341,
          "α": 78.6555746107548,
          "β": -21.31314699043638
         },
         {
          "loss": 429.2090033288925,
          "α": -26.78358163078856,
          "β": 65.55240312404189
         },
         {
          "loss": 10104.685721653253,
          "α": -83.5923894199814,
          "β": -30.218622207409766
         },
         {
          "loss": 857.5353409351187,
          "α": -32.00298764457206,
          "β": 87.35535081626762
         },
         {
          "loss": 3750.2196779162205,
          "α": -37.24627195636862,
          "β": -41.8345739605587
         },
         {
          "loss": 1675.7983743723078,
          "α": -57.10841606935415,
          "β": 33.91702144785543
         },
         {
          "loss": 1810.005902112362,
          "α": 57.86851291979002,
          "β": -29.954772334097157
         },
         {
          "loss": 9064.64027737549,
          "α": -79.40469796862965,
          "β": -28.152629977507402
         },
         {
          "loss": 3919.847102724627,
          "α": 98.30421555176648,
          "β": -74.65201871018452
         },
         {
          "loss": 452.93533379613376,
          "α": -21.709413619710745,
          "β": 62.313213655318776
         },
         {
          "loss": 396.4148386525171,
          "α": -14.340838839694285,
          "β": -9.097789872837964
         },
         {
          "loss": 11336.298221821213,
          "α": 69.66439835767656,
          "β": 67.1513784606243
         },
         {
          "loss": 492.57532865982176,
          "α": -42.43955209270507,
          "β": 73.65961404500206
         },
         {
          "loss": 6094.577733632784,
          "α": -46.73366017317384,
          "β": -54.8674868230207
         },
         {
          "loss": 5030.685084618833,
          "α": 99.93277205282212,
          "β": -58.19463676629981
         },
         {
          "loss": 715.1695821425859,
          "α": 37.44446875376727,
          "β": -20.798044348325533
         },
         {
          "loss": 3562.3191571634907,
          "α": -9.699050600985387,
          "β": -83.03905064475336
         },
         {
          "loss": 2765.605419686223,
          "α": 46.373398915623966,
          "β": 12.553881355610244
         },
         {
          "loss": 5347.081102679117,
          "α": 64.21473503213605,
          "β": 17.550305480472517
         },
         {
          "loss": 785.7840230755912,
          "α": 13.808657360575566,
          "β": -63.50706302639135
         },
         {
          "loss": 518.6408251620109,
          "α": 32.083591777930906,
          "β": -71.81633909983356
         },
         {
          "loss": 549.5188973389313,
          "α": 1.1966334514522714,
          "β": 37.85860843127719
         },
         {
          "loss": 5173.641298225941,
          "α": -89.72630777766656,
          "β": 36.17876599777128
         },
         {
          "loss": 362.048664265782,
          "α": 4.7120955193931735,
          "β": 25.339531111861106
         },
         {
          "loss": 3614.9564773435372,
          "α": 50.78015959165964,
          "β": 18.27019298427777
         },
         {
          "loss": 3401.594933031877,
          "α": 46.398015069953004,
          "β": 22.877817712869188
         },
         {
          "loss": 4760.7003708527,
          "α": -67.45723690570955,
          "β": -1.9011825302462313
         },
         {
          "loss": 1617.7513377382866,
          "α": 17.347030692133615,
          "β": -88.50046569076613
         },
         {
          "loss": 17646.637755845546,
          "α": -90.5506228406842,
          "β": -75.29465546113585
         },
         {
          "loss": 2763.510948405139,
          "α": -33.181897052194415,
          "β": -33.72352169955329
         },
         {
          "loss": 1229.7689574381793,
          "α": 31.77481821479455,
          "β": -96.0759512707664
         },
         {
          "loss": 525.8255299983059,
          "α": -7.041070455407365,
          "β": 48.379394173981126
         },
         {
          "loss": 828.9526203735024,
          "α": -43.58297151850128,
          "β": 31.92400954418605
         },
         {
          "loss": 14211.370816358472,
          "α": 67.427214641783,
          "β": 92.9135936606271
         },
         {
          "loss": 218.5910626250566,
          "α": 21.93685672361579,
          "β": -46.93502806218448
         },
         {
          "loss": 2220.8636704038827,
          "α": 78.89627393542455,
          "β": -68.31636608931365
         },
         {
          "loss": 7041.775128532315,
          "α": 83.54571612147618,
          "β": 1.7027710189921663
         },
         {
          "loss": 686.6670445663394,
          "α": 50.626442038220176,
          "β": -84.27713678678012
         },
         {
          "loss": 7812.443145045711,
          "α": -65.28611893434038,
          "β": -41.02009317998287
         },
         {
          "loss": 724.4004077999365,
          "α": 17.2687720983145,
          "β": -65.72189468073955
         },
         {
          "loss": 3336.7090109062638,
          "α": -3.4592827762463827,
          "β": -89.08175455626903
         },
         {
          "loss": 3851.111106092112,
          "α": -38.387229123726385,
          "β": -41.32008099020863
         },
         {
          "loss": 3977.3893961347158,
          "α": -25.215034899837136,
          "β": -64.67303803289077
         },
         {
          "loss": 606.444012302796,
          "α": 45.1375053812977,
          "β": -46.40560228957056
         },
         {
          "loss": 6499.203201591525,
          "α": -23.519261128851923,
          "β": -96.64794861170469
         },
         {
          "loss": 2508.5657047241034,
          "α": -8.641991083620098,
          "β": -68.76820008198064
         },
         {
          "loss": 2723.2865271974915,
          "α": -34.17177853608344,
          "β": -31.370622138912438
         },
         {
          "loss": 3894.6409666949303,
          "α": -82.43866575407552,
          "β": 41.15715838210389
         },
         {
          "loss": 851.3846959848603,
          "α": -31.20890362604331,
          "β": 4.8950425865745615
         },
         {
          "loss": 937.9258640146946,
          "α": 42.3713329909431,
          "β": -22.840586496090182
         },
         {
          "loss": 8774.617156664202,
          "α": 96.11597802043619,
          "β": -3.6412452052813364
         },
         {
          "loss": 394.36446880128807,
          "α": -40.13724650964934,
          "β": 56.99362605942096
         },
         {
          "loss": 1151.468272042346,
          "α": 21.303063244067715,
          "β": -82.57707936646904
         }
        ]
       },
       "encoding": {
        "color": {
         "field": "loss",
         "scale": {
          "scheme": "viridis"
         },
         "type": "quantitative"
        },
        "x": {
         "field": "α",
         "type": "quantitative"
        },
        "y": {
         "field": "β",
         "type": "quantitative"
        }
       },
       "mark": "point"
      },
      "image/png": "[encoded data removed]",
      "text/plain": [
       "<VegaLite 3 object>\n",
       "\n",
       "If you see this message, it means the renderer has not been properly enabled\n",
       "for the frontend that you are using. For more information, see\n",
       "https://altair-viz.github.io/user_guide/troubleshooting.html\n"
      ]
     },
     "execution_count": 28,
     "metadata": {},
     "output_type": "execute_result"
    }
   ],
   "source": [
    "alt.Chart(random_guess_data).mark_point().encode(\n",
    "    x = 'α',\n",
    "    y = 'β',\n",
    "    color = alt.Color('loss', scale=alt.Scale(scheme='viridis'))\n",
    ")"
   ]
  },
  {
   "cell_type": "markdown",
   "metadata": {},
   "source": [
    "Ok... let's pick the best parameters out of the ones we tried and see how good the resulting model is."
   ]
  },
  {
   "cell_type": "code",
   "execution_count": 29,
   "metadata": {},
   "outputs": [
    {
     "name": "stdout",
     "output_type": "stream",
     "text": [
      "The rpy2.ipython extension is already loaded. To reload it, use:\n",
      "  %reload_ext rpy2.ipython\n"
     ]
    }
   ],
   "source": [
    "import rpy2\n",
    "%load_ext rpy2.ipython"
   ]
  },
  {
   "cell_type": "code",
   "execution_count": 30,
   "metadata": {},
   "outputs": [],
   "source": [
    "%%R -i random_guess_data -o best_guess # it's easier to do this part in R\n",
    "library(tidyverse)\n",
    "best_guess = filter(random_guess_data, loss == min(loss))"
   ]
  },
  {
   "cell_type": "code",
   "execution_count": 31,
   "metadata": {},
   "outputs": [],
   "source": [
    "best_model = LinearModel(α=best_guess['α'].to_numpy(), \n",
    "                         β=best_guess['β'].to_numpy())\n",
    "ŷ = best_model.predict(X)"
   ]
  },
  {
   "cell_type": "code",
   "execution_count": 32,
   "metadata": {},
   "outputs": [
    {
     "data": {
      "application/vnd.vegalite.v3+json": {
       "$schema": "https://vega.github.io/schema/vega-lite/v3.4.0.json",
       "config": {
        "mark": {
         "tooltip": null
        },
        "view": {
         "height": 300,
         "width": 400
        }
       },
       "data": {
        "name": "data-44bef8c5e82b24bfc4a9b2800ccfe052"
       },
       "datasets": {
        "data-44bef8c5e82b24bfc4a9b2800ccfe052": [
         {
          "x": 0.3929819977401521,
          "y": -0.11026970644742518,
          "ŷ": 4.502896185540403
         },
         {
          "x": 0.5828086670003257,
          "y": 0.09068302453116495,
          "ŷ": 4.882004643585509
         },
         {
          "x": 0.06936371995676227,
          "y": -0.39333227435347373,
          "ŷ": 3.856588547294264
         },
         {
          "x": 0.015740526076109096,
          "y": -0.2911485674850939,
          "ŷ": 3.7494960801147155
         },
         {
          "x": 0.10286289030497453,
          "y": 0.2427867581657844,
          "ŷ": 3.9234907316185064
         },
         {
          "x": 0.488875798544412,
          "y": 0.3974498169532981,
          "ŷ": 4.694408532570846
         },
         {
          "x": 0.3298105579192653,
          "y": 0.19545025717368336,
          "ŷ": 4.376734633866325
         },
         {
          "x": 0.88286237660027,
          "y": 0.9478426596059759,
          "ŷ": 5.481250785450016
         },
         {
          "x": 0.45082189028282105,
          "y": 0.9169572020017531,
          "ŷ": 4.618409946387633
         },
         {
          "x": 0.03184004792093509,
          "y": -0.1018829885774448,
          "ŷ": 3.7816489115669185
         },
         {
          "x": 0.6663455329055149,
          "y": 0.5947918229053033,
          "ŷ": 5.048838590294184
         },
         {
          "x": 0.5254659386924047,
          "y": 0.3003669890571734,
          "ŷ": 4.767483784142308
         },
         {
          "x": 0.34873628299987736,
          "y": 0.5876012189246191,
          "ŷ": 4.414531759426499
         },
         {
          "x": 0.977043364935704,
          "y": 0.7143159720295451,
          "ŷ": 5.669342424017799
         },
         {
          "x": 0.25931806554002446,
          "y": -0.08361873808393738,
          "ŷ": 4.235951991502082
         },
         {
          "x": 0.4783415128498042,
          "y": 0.5589363237369609,
          "ŷ": 4.673370198906487
         },
         {
          "x": 0.10963364553578259,
          "y": 0.1322843221675707,
          "ŷ": 3.9370128072328363
         },
         {
          "x": 0.661917250719852,
          "y": 0.46423611288995137,
          "ŷ": 5.0399947369107885
         },
         {
          "x": 0.9612571586605079,
          "y": 0.8897489226892493,
          "ŷ": 5.6378153243605365
         },
         {
          "x": 0.24356207639368532,
          "y": 0.3405846267564147,
          "ŷ": 4.204485239366968
         },
         {
          "x": 0.7604595186455115,
          "y": 0.7536807330491188,
          "ŷ": 5.236796415996048
         },
         {
          "x": 0.8303843212649255,
          "y": 0.940287919206342,
          "ŷ": 5.376445308343317
         },
         {
          "x": 0.842724677177087,
          "y": 0.7818037048068261,
          "ŷ": 5.401090598279765
         },
         {
          "x": 0.023837617186002413,
          "y": 0.19425390521749009,
          "ŷ": 3.7656670203587077
         },
         {
          "x": 0.9064608682641552,
          "y": 1.3447315465205338,
          "ŷ": 5.5283800314182105
         },
         {
          "x": 0.5682144411785375,
          "y": 0.7646794911223687,
          "ŷ": 4.852858083361787
         },
         {
          "x": 0.9251523324659073,
          "y": 0.6673869162219142,
          "ŷ": 5.565709307645564
         },
         {
          "x": 0.07915441181602356,
          "y": 0.6748057468443538,
          "ŷ": 3.876141827707524
         },
         {
          "x": 0.12280086343391472,
          "y": 0.4094680689534666,
          "ŷ": 3.9633094477078536
         },
         {
          "x": 0.09942014120880405,
          "y": 0.5388635053257538,
          "ŷ": 3.9166151155295124
         },
         {
          "x": 0.49327442346141204,
          "y": 0.7105327008602462,
          "ŷ": 4.703193156545453
         },
         {
          "x": 0.8573907018771258,
          "y": 0.7711872895912324,
          "ŷ": 5.4303805501677305
         },
         {
          "x": 0.6470089686703012,
          "y": 0.649388361905347,
          "ŷ": 5.010220965701853
         },
         {
          "x": 0.7224007698130323,
          "y": 0.8643953736512688,
          "ŷ": 5.160788162565485
         },
         {
          "x": 0.7643227601893178,
          "y": 0.8789193659789829,
          "ŷ": 5.2445118099943535
         },
         {
          "x": 0.4416129563923623,
          "y": 0.49706502029669686,
          "ŷ": 4.600018512027763
         },
         {
          "x": 0.1444274655779848,
          "y": -0.09458221146648457,
          "ŷ": 4.006500574768911
         },
         {
          "x": 0.08541186278260082,
          "y": -0.4209862225401061,
          "ŷ": 3.888638768187371
         },
         {
          "x": 0.8817077198135435,
          "y": 1.0201209266812652,
          "ŷ": 5.478944786215592
         },
         {
          "x": 0.6376817192806716,
          "y": 0.7054826750773036,
          "ŷ": 4.9915932399577
         },
         {
          "x": 0.011374672502896033,
          "y": 0.06537125788689149,
          "ŷ": 3.7407769047604713
         },
         {
          "x": 0.06189641823444958,
          "y": 0.03085118785005548,
          "ŷ": 3.8416753780713266
         },
         {
          "x": 0.9180921737198798,
          "y": 0.7653507861412581,
          "ŷ": 5.551609255707701
         },
         {
          "x": 0.8553694504075325,
          "y": 0.9176142269173904,
          "ŷ": 5.426343849050099
         },
         {
          "x": 0.9142637172209732,
          "y": 0.6082313831384882,
          "ŷ": 5.543963331951835
         },
         {
          "x": 0.9299049764489016,
          "y": 0.9493767347578824,
          "ŷ": 5.575200953572096
         },
         {
          "x": 0.7171220895671574,
          "y": 0.7228381296723715,
          "ŷ": 5.150245954053234
         },
         {
          "x": 0.4555636487257999,
          "y": 0.3575134005324177,
          "ŷ": 4.627879852480102
         },
         {
          "x": 0.7684261373819145,
          "y": 0.39155902242134516,
          "ŷ": 5.252706786002339
         },
         {
          "x": 0.5473263877510878,
          "y": 0.5090039611202268,
          "ŷ": 4.8111419337959385
         },
         {
          "x": 0.9533674602222812,
          "y": 0.8960253225006,
          "ŷ": 5.622058574157764
         },
         {
          "x": 0.31936413023323473,
          "y": 0.11404837601577691,
          "ŷ": 4.3558717640305655
         },
         {
          "x": 0.48391196543678594,
          "y": 0.5737964758625359,
          "ŷ": 4.684495114594544
         },
         {
          "x": 0.7740973756268444,
          "y": 0.7288087435750201,
          "ŷ": 5.264032983710075
         },
         {
          "x": 0.6098797328797477,
          "y": 0.8596876491004326,
          "ŷ": 4.936069070271093
         },
         {
          "x": 0.1660489482302302,
          "y": 0.05262958654624299,
          "ŷ": 4.049681477541362
         },
         {
          "x": 0.6520743514294127,
          "y": 0.6957835274841897,
          "ŷ": 5.020337191491934
         },
         {
          "x": 0.10261611339485488,
          "y": 0.484093028345689,
          "ŷ": 3.922997886149315
         },
         {
          "x": 0.5081562195434034,
          "y": 0.6020023158709537,
          "ŷ": 4.732914031844871
         },
         {
          "x": 0.967056388448636,
          "y": 1.2354519789214344,
          "ŷ": 5.6493971377663925
         },
         {
          "x": 0.9741063383958798,
          "y": 0.45905651234035594,
          "ŷ": 5.663476801410133
         },
         {
          "x": 0.4974500915805814,
          "y": 0.6657243976752427,
          "ŷ": 4.7115325069019445
         },
         {
          "x": 0.1253175072699626,
          "y": 0.6006136744068227,
          "ŷ": 3.9683355115789167
         },
         {
          "x": 0.0988901661742454,
          "y": 0.3216742669064375,
          "ŷ": 3.9155566867063287
         },
         {
          "x": 0.4609854761022959,
          "y": 0.7792724523694253,
          "ŷ": 4.63870794436256
         },
         {
          "x": 0.3331849454315905,
          "y": 0.18434024765748858,
          "ŷ": 4.38347372301344
         },
         {
          "x": 0.5535369578994818,
          "y": 0.6909432717777549,
          "ŷ": 4.8235452472066145
         },
         {
          "x": 0.3351824357419322,
          "y": 0.5724473972923055,
          "ŷ": 4.387462970016851
         },
         {
          "x": 0.8686348303280667,
          "y": 0.752992603724941,
          "ŷ": 5.452836531804614
         },
         {
          "x": 0.6911265189230862,
          "y": 0.3421057017617045,
          "ŷ": 5.098329430725475
         },
         {
          "x": 0.49190726569446963,
          "y": 0.46673531523054584,
          "ŷ": 4.700462765315654
         },
         {
          "x": 0.21355652543527048,
          "y": -0.2551077565541679,
          "ŷ": 4.144560265700346
         },
         {
          "x": 0.7287903494137904,
          "y": 0.8265947294977224,
          "ŷ": 5.173548981050267
         },
         {
          "x": 0.3349316320046142,
          "y": 0.10631029163268296,
          "ŷ": 4.38696208245191
         },
         {
          "x": 0.36773877757886386,
          "y": -0.09001960414591714,
          "ŷ": 4.452482203623443
         },
         {
          "x": 0.9615013384584025,
          "y": 1.1451447017687104,
          "ŷ": 5.638302983060057
         },
         {
          "x": 0.6908749849352255,
          "y": 0.6022947534579737,
          "ŷ": 5.0978270847555684
         },
         {
          "x": 0.2266905521946555,
          "y": 0.29556856496935413,
          "ŷ": 4.170790619170064
         },
         {
          "x": 0.29422588187486287,
          "y": -0.013273862036733197,
          "ŷ": 4.305667424407266
         },
         {
          "x": 0.7610816217930303,
          "y": 0.7354566991077862,
          "ŷ": 5.238038836599644
         },
         {
          "x": 0.769880734655049,
          "y": 1.3655237837438041,
          "ŷ": 5.2556118052572405
         },
         {
          "x": 0.9793016385419516,
          "y": 1.0482771111232028,
          "ŷ": 5.6738524890578965
         },
         {
          "x": 0.6592178418394391,
          "y": 0.9891096373900068,
          "ŷ": 5.034603667561708
         },
         {
          "x": 0.5478403348602462,
          "y": 0.4677842052312603,
          "ŷ": 4.812168352775048
         },
         {
          "x": 0.90699466114963,
          "y": 1.007049526986649,
          "ŷ": 5.529446084984428
         },
         {
          "x": 0.07223821983554424,
          "y": 0.05920334361311512,
          "ŷ": 3.862329296057033
         },
         {
          "x": 0.4339130849696644,
          "y": 0.2698563168329937,
          "ŷ": 4.584640870974578
         },
         {
          "x": 0.2616094182583093,
          "y": 0.6856718941573516,
          "ŷ": 4.240528119815622
         },
         {
          "x": 0.06646778640450612,
          "y": 0.39885062783482195,
          "ŷ": 3.8508049927079897
         },
         {
          "x": 0.8821822396951984,
          "y": 0.8988069842479255,
          "ŷ": 5.479892463912025
         },
         {
          "x": 0.3807686816382093,
          "y": 0.38224945947161443,
          "ŷ": 4.478504610567979
         },
         {
          "x": 0.594087633992754,
          "y": 0.2876092786121213,
          "ŷ": 4.904530202304451
         },
         {
          "x": 0.6951714015258554,
          "y": 1.1276702335969657,
          "ŷ": 5.106407585457293
         },
         {
          "x": 0.9265438184482226,
          "y": 1.2144487333009868,
          "ŷ": 5.568488285474143
         },
         {
          "x": 0.2764290267226195,
          "y": -0.07467884934386193,
          "ŷ": 4.270124798383671
         },
         {
          "x": 0.21618701395719908,
          "y": 0.11660452879507396,
          "ŷ": 4.149813692162183
         },
         {
          "x": 0.6944169590188181,
          "y": 0.4194642308771005,
          "ŷ": 5.1049008660029545
         },
         {
          "x": 0.998028653272564,
          "y": 1.1139553623429932,
          "ŷ": 5.711252764298357
         },
         {
          "x": 0.7477848804409853,
          "y": 0.9317803890855836,
          "ŷ": 5.211483521002291
         },
         {
          "x": 0.5707013265557815,
          "y": 0.5434536235922147,
          "ŷ": 4.857824715734237
         }
        ]
       },
       "layer": [
        {
         "encoding": {
          "x": {
           "field": "x",
           "type": "quantitative"
          },
          "y": {
           "field": "y",
           "type": "quantitative"
          }
         },
         "mark": "point"
        },
        {
         "encoding": {
          "x": {
           "field": "x",
           "type": "quantitative"
          },
          "y": {
           "field": "ŷ",
           "type": "quantitative"
          }
         },
         "mark": "line"
        }
       ]
      },
      "image/png": "[encoded data removed]",
      "text/plain": [
       "<VegaLite 3 object>\n",
       "\n",
       "If you see this message, it means the renderer has not been properly enabled\n",
       "for the frontend that you are using. For more information, see\n",
       "https://altair-viz.github.io/user_guide/troubleshooting.html\n"
      ]
     },
     "execution_count": 32,
     "metadata": {},
     "output_type": "execute_result"
    }
   ],
   "source": [
    "data_df = pd.DataFrame({'y':y, 'ŷ':ŷ, 'x':X[:,0]})\n",
    "alt.Chart(data_df).mark_point().encode(x='x', y='y') + \\\n",
    "alt.Chart(data_df).mark_line().encode(x='x', y='ŷ')"
   ]
  },
  {
   "cell_type": "markdown",
   "metadata": {},
   "source": [
    "Wow. Our best guess totally sucks."
   ]
  },
  {
   "cell_type": "markdown",
   "metadata": {},
   "source": [
    "Unfortunately there is no guarentee that we will hit any point that's close to the optimum. We could increase the number of guesses we make, but the more guesses, the longer it takes. The problem is exacerbated in higher-dimensional spaces because a fixed number of guesses covers less \"volume\" the more dimensions there are, so it's even harder to find points near the optimum. And even if a guess is very near the optimal value, the loss function may be very sensitive so that even a small distance away in terms of parameters translates to a big difference in terms of the loss. We also had to pre-specify a range of values to search over, but what if the optimal values aren't in that range? In problems with a single feature, we can easily plot the data to see what a range of plausible $\\beta$s or $\\alpha$s might be, but in higher dimensions this is impossible."
   ]
  },
  {
   "cell_type": "markdown",
   "metadata": {},
   "source": [
    "## Gradient Descent"
   ]
  },
  {
   "cell_type": "markdown",
   "metadata": {},
   "source": [
    "Let's go back to our knobs. What if we try this strategy:\n",
    "0. start with the knobs in a random configuration\n",
    "1. fiddle each knob a tiny amount in both directions and record which direction decreases the output and by how much\n",
    "2. turn each knob in the direction that decreased the output by an amount proportional to how much the output decreased during the fiddling\n",
    "3. Repeat 1 and 2"
   ]
  },
  {
   "cell_type": "markdown",
   "metadata": {},
   "source": [
    "Mathematically, that translates to this:\n",
    "0. initialize $\\theta$ to some random value $\\theta_0$\n",
    "1. calculate $\\frac{\\partial L}{\\partial \\theta}$\n",
    "2. set $\\theta$ to $\\theta - \\epsilon \\frac{\\partial L}{\\partial \\theta}$\n",
    "3. repeat 1 and 2"
   ]
  },
  {
   "cell_type": "markdown",
   "metadata": {},
   "source": [
    "Let's break down the math a little bit. \n",
    "\n",
    "First off, why does $\\frac{\\partial L}{\\partial \\theta}$ represent how much the loss changes when fiddling the knob a tiny amount? Well, because that's actually the definition of the derivative is: $\\frac{\\partial L}{\\partial \\theta} = \\underset{\\delta \\rightarrow 0}{\\lim} \\frac{L(\\theta + \\delta) - L(\\theta)}{\\delta}$. That is precisely how much the loss increases ($L(\\theta + \\delta) - L(\\theta)$) as we fiddle the $\\theta$ knob an tiny amount $\\delta$ to the right. \n",
    "\n",
    "If the derivative is positive, then the loss is increasing as $\\theta$ is increasing, so we want to decrease $\\theta$ in order to lower the loss. By the same logic, if the derivative is negative, then we want to increase theta. That's why there's a minus sign in the update that sets $\\theta$ to $\\theta - \\epsilon \\frac{\\partial L}{\\partial \\theta}$.\n",
    "\n",
    "As for the $\\epsilon$, that's just a constant called the *learning rate* that mediates how big of a step we take. We'll experiment with this later."
   ]
  },
  {
   "cell_type": "markdown",
   "metadata": {},
   "source": [
    "The great thing about using the derivative instead of manually \"fiddling the knobs\" is that we don't even have to touch the knobs to know which direction we need to twist them in! If we have analytically derived the function $L_\\theta'(\\theta) = \\frac{\\partial L}{\\partial \\theta}$, all we need to do is plug in the current value of $\\theta$ to get back how much we need to twist that \"knob\" and in what direction. \n",
    "\n",
    "### An example\n",
    "Let's demonstrate by going back to our example. Our model is $\\hat y_i = \\alpha + x_i\\beta$ and our loss is $L(y,\\hat y) = \\frac{1}{n}\\sum_i (y_i - \\hat y_i)^2$, so plugging in $\\hat y$ we end up with this optimization problem:\n",
    "\n",
    "$$\\rightarrow \\text{ Find } \\alpha, \\beta \\text{ to minimize }\\frac{1}{n} \\sum_i (y_i - (\\alpha + x_i\\beta))^2 = L(\\alpha, \\beta)$$"
   ]
  },
  {
   "cell_type": "markdown",
   "metadata": {},
   "source": [
    "The first step is to analytically calculate the derivatives with respect to each parameter. To get these, we can use the [chain rule and sum rule](https://en.wikipedia.org/wiki/Differentiation_rules).\n",
    "\n",
    "$$\\frac{\\partial L}{\\partial \\alpha} = \\frac{1}{n} \\sum_i -2 (y_i - (\\alpha + x_i\\beta))$$\n",
    "\n",
    "$$\\frac{\\partial L}{\\partial \\beta} = \\frac{1}{n} \\sum_i -2 (y_i - (\\alpha + x_i\\beta))x_i$$\n",
    "\n",
    "<div class=\"alert alert-block alert-warning\">\n",
    "<b>STOP:</b> \n",
    "Review the rules of differentiation and try to calculate these derivatives for yourself if it's not obvious to you how we got here. <a href=\"https://www.khanacademy.org/math/ap-calculus-ab/ab-differentiation-2-new/ab-3-1a/v/chain-rule-introduction\">These videos give a helpful overview</a>.\n",
    "</div>\n"
   ]
  },
  {
   "cell_type": "markdown",
   "metadata": {},
   "source": [
    "Now we have something we can code up in python:"
   ]
  },
  {
   "cell_type": "code",
   "execution_count": 33,
   "metadata": {},
   "outputs": [],
   "source": [
    "def dL_dα(α, β): # derivative of the MSE loss with respect to alpha, evaluated at (alpha, beta)\n",
    "    β = to_array(β)\n",
    "    return np.sum(-2*(y - (α + X@β)))/len(y)\n",
    "\n",
    "def dL_dβ(α, β): # derivative of the MSE loss with respect to , evaluated at (alpha, beta)\n",
    "    β = to_array(β)\n",
    "    return np.sum(-2*(y - (α + X@β))*X[:,0])/len(y)"
   ]
  },
  {
   "cell_type": "markdown",
   "metadata": {},
   "source": [
    "And now let's implement our gradient descent algorithm:"
   ]
  },
  {
   "cell_type": "code",
   "execution_count": 34,
   "metadata": {},
   "outputs": [],
   "source": [
    "ϵ = 0.01 # learning rate\n",
    "α, β = np.random.rand(2)\n",
    "for i in range(1000):\n",
    "    α = α - ϵ*dL_dα(α, β)\n",
    "    β = β - ϵ*dL_dβ(α, β)"
   ]
  },
  {
   "cell_type": "code",
   "execution_count": 35,
   "metadata": {},
   "outputs": [
    {
     "data": {
      "text/plain": [
       "(0.05774348695997735, 0.9018532079612082)"
      ]
     },
     "execution_count": 35,
     "metadata": {},
     "output_type": "execute_result"
    }
   ],
   "source": [
    "α, β"
   ]
  },
  {
   "cell_type": "code",
   "execution_count": 36,
   "metadata": {},
   "outputs": [
    {
     "data": {
      "application/vnd.vegalite.v3+json": {
       "$schema": "https://vega.github.io/schema/vega-lite/v3.4.0.json",
       "config": {
        "mark": {
         "tooltip": null
        },
        "view": {
         "height": 300,
         "width": 400
        }
       },
       "data": {
        "name": "data-bef15b3e5187f55eea51762002a3be5e"
       },
       "datasets": {
        "data-bef15b3e5187f55eea51762002a3be5e": [
         {
          "x": 0.3929819977401521,
          "y": -0.11026970644742518,
          "ŷ": 0.41215556229293776
         },
         {
          "x": 0.5828086670003257,
          "y": 0.09068302453116495,
          "ŷ": 0.5833513529218166
         },
         {
          "x": 0.06936371995676227,
          "y": -0.39333227435347373,
          "ŷ": 0.12029938031910628
         },
         {
          "x": 0.015740526076109096,
          "y": -0.2911485674850939,
          "ŷ": 0.07193913089671339
         },
         {
          "x": 0.10286289030497453,
          "y": 0.2427867581657844,
          "ŷ": 0.1505107145616805
         },
         {
          "x": 0.488875798544412,
          "y": 0.3974498169532981,
          "ŷ": 0.4986376941718526
         },
         {
          "x": 0.3298105579192653,
          "y": 0.19545025717368336,
          "ŷ": 0.3551841966389426
         },
         {
          "x": 0.88286237660027,
          "y": 0.9478426596059759,
          "ŷ": 0.8539557534851872
         },
         {
          "x": 0.45082189028282105,
          "y": 0.9169572020017531,
          "ŷ": 0.4643186549306753
         },
         {
          "x": 0.03184004792093509,
          "y": -0.1018829885774448,
          "ŷ": 0.08645853631911125
         },
         {
          "x": 0.6663455329055149,
          "y": 0.5947918229053033,
          "ŷ": 0.6586893434214367
         },
         {
          "x": 0.5254659386924047,
          "y": 0.3003669890571734,
          "ŷ": 0.53163662944407
         },
         {
          "x": 0.34873628299987736,
          "y": 0.5876012189246191,
          "ŷ": 0.3722524225158845
         },
         {
          "x": 0.977043364935704,
          "y": 0.7143159720295451,
          "ŷ": 0.9388931799444554
         },
         {
          "x": 0.25931806554002446,
          "y": -0.08361873808393738,
          "ŷ": 0.2916103162495432
         },
         {
          "x": 0.4783415128498042,
          "y": 0.5589363237369609,
          "ŷ": 0.4891373148245907
         },
         {
          "x": 0.10963364553578259,
          "y": 0.1322843221675707,
          "ŷ": 0.15661694188690486
         },
         {
          "x": 0.661917250719852,
          "y": 0.46423611288995137,
          "ŷ": 0.6546956829265391
         },
         {
          "x": 0.9612571586605079,
          "y": 0.8897489226892493,
          "ŷ": 0.9246563391736324
         },
         {
          "x": 0.24356207639368532,
          "y": 0.3405846267564147,
          "ŷ": 0.2774007268933153
         },
         {
          "x": 0.7604595186455115,
          "y": 0.7536807330491188,
          "ŷ": 0.7435663433750681
         },
         {
          "x": 0.8303843212649255,
          "y": 0.940287919206342,
          "ŷ": 0.8066282509334408
         },
         {
          "x": 0.842724677177087,
          "y": 0.7818037048068261,
          "ŷ": 0.8177574405002068
         },
         {
          "x": 0.023837617186002413,
          "y": 0.19425390521749009,
          "ŷ": 0.07924151848932486
         },
         {
          "x": 0.9064608682641552,
          "y": 1.3447315465205338,
          "ŷ": 0.8752381288953078
         },
         {
          "x": 0.5682144411785375,
          "y": 0.7646794911223687,
          "ŷ": 0.5701895035467266
         },
         {
          "x": 0.9251523324659073,
          "y": 0.6673869162219142,
          "ŷ": 0.89209508584715
         },
         {
          "x": 0.07915441181602356,
          "y": 0.6748057468443538,
          "ŷ": 0.12912914718054075
         },
         {
          "x": 0.12280086343391472,
          "y": 0.4094680689534666,
          "ŷ": 0.16849183958825956
         },
         {
          "x": 0.09942014120880405,
          "y": 0.5388635053257538,
          "ŷ": 0.14740586024509358
         },
         {
          "x": 0.49327442346141204,
          "y": 0.7105327008602462,
          "ŷ": 0.5026046081638672
         },
         {
          "x": 0.8573907018771258,
          "y": 0.7711872895912324,
          "ŷ": 0.8309840419239751
         },
         {
          "x": 0.6470089686703012,
          "y": 0.649388361905347,
          "ŷ": 0.6412506009349613
         },
         {
          "x": 0.7224007698130323,
          "y": 0.8643953736512688,
          "ŷ": 0.7092429386495067
         },
         {
          "x": 0.7643227601893178,
          "y": 0.8789193659789829,
          "ŷ": 0.7470504201544788
         },
         {
          "x": 0.4416129563923623,
          "y": 0.49706502029669686,
          "ŷ": 0.4560135483596624
         },
         {
          "x": 0.1444274655779848,
          "y": -0.09458221146648457,
          "ŷ": 0.18799586010918992
         },
         {
          "x": 0.08541186278260082,
          "y": -0.4209862225401061,
          "ŷ": 0.13477244940840843
         },
         {
          "x": 0.8817077198135435,
          "y": 1.0201209266812652,
          "ŷ": 0.8529144225579836
         },
         {
          "x": 0.6376817192806716,
          "y": 0.7054826750773036,
          "ŷ": 0.6328387911514697
         },
         {
          "x": 0.011374672502896033,
          "y": 0.06537125788689149,
          "ŷ": 0.06800177184622228
         },
         {
          "x": 0.06189641823444958,
          "y": 0.03085118785005548,
          "ŷ": 0.11356497030602433
         },
         {
          "x": 0.9180921737198798,
          "y": 0.7653507861412581,
          "ŷ": 0.8857278590333297
         },
         {
          "x": 0.8553694504075325,
          "y": 0.9176142269173904,
          "ŷ": 0.8291611698020261
         },
         {
          "x": 0.9142637172209732,
          "y": 0.6082313831384882,
          "ŷ": 0.8822751532582509
         },
         {
          "x": 0.9299049764489016,
          "y": 0.9493767347578824,
          "ŷ": 0.896381273069511
         },
         {
          "x": 0.7171220895671574,
          "y": 0.7228381296723715,
          "ŷ": 0.7044823439359631
         },
         {
          "x": 0.4555636487257999,
          "y": 0.3575134005324177,
          "ŷ": 0.4685950249938529
         },
         {
          "x": 0.7684261373819145,
          "y": 0.39155902242134516,
          "ŷ": 0.750751064039097
         },
         {
          "x": 0.5473263877510878,
          "y": 0.5090039611202268,
          "ŷ": 0.551351545555116
         },
         {
          "x": 0.9533674602222812,
          "y": 0.8960253225006,
          "ŷ": 0.9175409893272712
         },
         {
          "x": 0.31936413023323473,
          "y": 0.11404837601577691,
          "ŷ": 0.34576305231856114
         },
         {
          "x": 0.48391196543678594,
          "y": 0.5737964758625359,
          "ŷ": 0.49416104535995603
         },
         {
          "x": 0.7740973756268444,
          "y": 0.7288087435750201,
          "ŷ": 0.7558656884433993
         },
         {
          "x": 0.6098797328797477,
          "y": 0.8596876491004326,
          "ŷ": 0.6077654805281025
         },
         {
          "x": 0.1660489482302302,
          "y": 0.05262958654624299,
          "ŷ": 0.20749526359999504
         },
         {
          "x": 0.6520743514294127,
          "y": 0.6957835274841897,
          "ŷ": 0.6458188326258174
         },
         {
          "x": 0.10261611339485488,
          "y": 0.484093028345689,
          "ŷ": 0.15028815801363832
         },
         {
          "x": 0.5081562195434034,
          "y": 0.6020023158709537,
          "ŷ": 0.5160258037006357
         },
         {
          "x": 0.967056388448636,
          "y": 1.2354519789214344,
          "ŷ": 0.9298863931617599
         },
         {
          "x": 0.9741063383958798,
          "y": 0.45905651234035594,
          "ŷ": 0.9362444131376477
         },
         {
          "x": 0.4974500915805814,
          "y": 0.6657243976752427,
          "ŷ": 0.5063704478525215
         },
         {
          "x": 0.1253175072699626,
          "y": 0.6006136744068227,
          "ŷ": 0.17076148290509516
         },
         {
          "x": 0.0988901661742454,
          "y": 0.3216742669064375,
          "ŷ": 0.14692790056003752
         },
         {
          "x": 0.4609854761022959,
          "y": 0.7792724523694253,
          "ŷ": 0.4734847174063577
         },
         {
          "x": 0.3331849454315905,
          "y": 0.18434024765748858,
          "ŷ": 0.3582273988418373
         },
         {
          "x": 0.5535369578994818,
          "y": 0.6909432717777549,
          "ŷ": 0.5569525681667132
         },
         {
          "x": 0.3351824357419322,
          "y": 0.5724473972923055,
          "ŷ": 0.3600288418860904
         },
         {
          "x": 0.8686348303280667,
          "y": 0.752992603724941,
          "ŷ": 0.841124595238184
         },
         {
          "x": 0.6911265189230862,
          "y": 0.3421057017617045,
          "ŷ": 0.6810381551578253
         },
         {
          "x": 0.49190726569446963,
          "y": 0.46673531523054584,
          "ŷ": 0.5013716325459612
         },
         {
          "x": 0.21355652543527048,
          "y": -0.2551077565541679,
          "ŷ": 0.2503401245048254
         },
         {
          "x": 0.7287903494137904,
          "y": 0.8265947294977224,
          "ŷ": 0.715005401509974
         },
         {
          "x": 0.3349316320046142,
          "y": 0.10631029163268296,
          "ŷ": 0.3598026537310215
         },
         {
          "x": 0.36773877757886386,
          "y": -0.09001960414591714,
          "ŷ": 0.38938988321120893
         },
         {
          "x": 0.9615013384584025,
          "y": 1.1451447017687104,
          "ŷ": 0.9248765535076829
         },
         {
          "x": 0.6908749849352255,
          "y": 0.6022947534579737,
          "ŷ": 0.6808113084239618
         },
         {
          "x": 0.2266905521946555,
          "y": 0.29556856496935413,
          "ŷ": 0.2621850886712251
         },
         {
          "x": 0.29422588187486287,
          "y": -0.013273862036733197,
          "ŷ": 0.3230920423940379
         },
         {
          "x": 0.7610816217930303,
          "y": 0.7354566991077862,
          "ŷ": 0.7441273890943406
         },
         {
          "x": 0.769880734655049,
          "y": 1.3655237837438041,
          "ŷ": 0.7520628972561649
         },
         {
          "x": 0.9793016385419516,
          "y": 1.0482771111232028,
          "ŷ": 0.940929811240704
         },
         {
          "x": 0.6592178418394391,
          "y": 0.9891096373900068,
          "ŷ": 0.6522612123681398
         },
         {
          "x": 0.5478403348602462,
          "y": 0.4677842052312603,
          "ŷ": 0.5518150504042328
         },
         {
          "x": 0.90699466114963,
          "y": 1.007049526986649,
          "ŷ": 0.8757195317214601
         },
         {
          "x": 0.07223821983554424,
          "y": 0.05920334361311512,
          "ŷ": 0.1228917572560699
         },
         {
          "x": 0.4339130849696644,
          "y": 0.2698563168329937,
          "ŷ": 0.4490693946162135
         },
         {
          "x": 0.2616094182583093,
          "y": 0.6856718941573516,
          "ŷ": 0.29367678004909903
         },
         {
          "x": 0.06646778640450612,
          "y": 0.39885062783482195,
          "ŷ": 0.11768767335496158
         },
         {
          "x": 0.8821822396951984,
          "y": 0.8988069842479255,
          "ŷ": 0.8533423698354955
         },
         {
          "x": 0.3807686816382093,
          "y": 0.38224945947161443,
          "ŷ": 0.40114094398655636
         },
         {
          "x": 0.594087633992754,
          "y": 0.2876092786121213,
          "ŷ": 0.5935233254864266
         },
         {
          "x": 0.6951714015258554,
          "y": 1.1276702335969657,
          "ŷ": 0.6846860455089592
         },
         {
          "x": 0.9265438184482226,
          "y": 1.2144487333009868,
          "ŷ": 0.8933500019441342
         },
         {
          "x": 0.2764290267226195,
          "y": -0.07467884934386193,
          "ŷ": 0.30704189148336625
         },
         {
          "x": 0.21618701395719908,
          "y": 0.11660452879507396,
          "ŷ": 0.2527124390168318
         },
         {
          "x": 0.6944169590188181,
          "y": 0.4194642308771005,
          "ŷ": 0.6840056491137653
         },
         {
          "x": 0.998028653272564,
          "y": 1.1139553623429932,
          "ŷ": 0.9578188295510435
         },
         {
          "x": 0.7477848804409853,
          "y": 0.9317803890855836,
          "ŷ": 0.7321356802505684
         },
         {
          "x": 0.5707013265557815,
          "y": 0.5434536235922147,
          "ŷ": 0.5724323091020259
         }
        ]
       },
       "layer": [
        {
         "encoding": {
          "x": {
           "field": "x",
           "type": "quantitative"
          },
          "y": {
           "field": "y",
           "type": "quantitative"
          }
         },
         "mark": "point"
        },
        {
         "encoding": {
          "x": {
           "field": "x",
           "type": "quantitative"
          },
          "y": {
           "field": "ŷ",
           "type": "quantitative"
          }
         },
         "mark": "line"
        }
       ]
      },
      "image/png": "[encoded data removed]",
      "text/plain": [
       "<VegaLite 3 object>\n",
       "\n",
       "If you see this message, it means the renderer has not been properly enabled\n",
       "for the frontend that you are using. For more information, see\n",
       "https://altair-viz.github.io/user_guide/troubleshooting.html\n"
      ]
     },
     "execution_count": 36,
     "metadata": {},
     "output_type": "execute_result"
    }
   ],
   "source": [
    "model = LinearModel(α, β)\n",
    "ŷ = model.predict(X)\n",
    "data_df = pd.DataFrame({'y':y, 'ŷ':ŷ, 'x':X[:,0]})\n",
    "alt.Chart(data_df).mark_point().encode(x='x', y='y') + \\\n",
    "alt.Chart(data_df).mark_line().encode(x='x', y='ŷ')"
   ]
  },
  {
   "cell_type": "markdown",
   "metadata": {},
   "source": [
    "Nailed it."
   ]
  },
  {
   "cell_type": "markdown",
   "metadata": {},
   "source": [
    "We can also improve it a little bit by repeating the loop until the loss is no longer quickly decreasing, instead of just looping 1000 times. Let's also record all of the parameter values and losses through the iterations."
   ]
  },
  {
   "cell_type": "code",
   "execution_count": 37,
   "metadata": {},
   "outputs": [],
   "source": [
    "α, β = np.random.rand(2)"
   ]
  },
  {
   "cell_type": "code",
   "execution_count": 38,
   "metadata": {},
   "outputs": [],
   "source": [
    "ϵ = 0.01 # learning rate\n",
    "tol = 0.00001 # tolerance\n",
    "α, β = np.random.rand(2)\n",
    "old_loss, loss = np.inf, mse(y, LinearModel(α,β).predict(X))\n",
    "losses, βs, αs = [], [], []\n",
    "while old_loss - loss > tol:\n",
    "    α = α - ϵ*dL_dα(α, β)\n",
    "    β = β - ϵ*dL_dβ(α, β)\n",
    "    old_loss, loss = loss, mse(y, LinearModel(α,β).predict(X))\n",
    "    βs.append(β.item())\n",
    "    αs.append(α.item())\n",
    "    losses.append(loss.item())\n",
    "loss_params_trajectory = pd.DataFrame({'a':αs, 'b':βs, 'L':losses})"
   ]
  },
  {
   "cell_type": "code",
   "execution_count": 39,
   "metadata": {},
   "outputs": [
    {
     "data": {
      "text/plain": [
       "(0.11791543755564839, 0.7958687046287168)"
      ]
     },
     "execution_count": 39,
     "metadata": {},
     "output_type": "execute_result"
    }
   ],
   "source": [
    "α, β"
   ]
  },
  {
   "cell_type": "markdown",
   "metadata": {},
   "source": [
    "Let's plot the trajectory of the parameters. To put it into context, we'll also brute-force calculate the value of the loss function for a grid of values around the trajectory so we can overlay the trajectory on the loss surface. Don't worry about this code- focus on the picture."
   ]
  },
  {
   "cell_type": "code",
   "execution_count": 40,
   "metadata": {},
   "outputs": [],
   "source": [
    "from itertools import product\n",
    "αs = np.arange(np.min(αs)-np.ptp(αs)/4, np.max(αs)+np.ptp(αs)/4, np.ptp(αs)/50)\n",
    "βs = np.arange(np.min(βs)-np.ptp(βs)/4, np.max(βs)+np.ptp(βs)/4, np.ptp(βs)/50)\n",
    "params = list(product(αs, βs))\n",
    "L = [None for i in range(len(params))]\n",
    "for i, (α, β) in enumerate(params):\n",
    "    m = LinearModel(α, β) \n",
    "    ŷ = m.predict(X)\n",
    "    L[i] = mse(y,ŷ)\n",
    "a,b = zip(*params)\n",
    "loss_df = pd.DataFrame({'a':a, 'b':b, 'L':L})"
   ]
  },
  {
   "cell_type": "code",
   "execution_count": 41,
   "metadata": {},
   "outputs": [
    {
     "data": {
      "image/png": "[encoded data removed]"
     },
     "metadata": {},
     "output_type": "display_data"
    }
   ],
   "source": [
    "%%R -i loss_df,loss_params_trajectory\n",
    "library(tidyverse)\n",
    "library(viridis)\n",
    "\n",
    "plot = loss_df %>%\n",
    "ggplot(aes(x=a,y=b)) +\n",
    "    geom_raster(aes(fill=L)) + \n",
    "    geom_contour(aes(z=L), color='grey') +\n",
    "    scale_fill_viridis() +\n",
    "    geom_segment(data=loss_params_trajectory, \n",
    "                 aes(x=a,y=b,xend=lead(a),yend=lead(b)),\n",
    "                 color = 'white',\n",
    "                 arrow = arrow(length=unit(0.10,\"cm\"), \n",
    "                             type = \"closed\")) + \n",
    "    labs(x = expression(alpha), y=expression(beta)) +\n",
    "    theme_bw() + coord_fixed()\n",
    "plot"
   ]
  },
  {
   "cell_type": "markdown",
   "metadata": {},
   "source": [
    "Interesting! We see that the algorithm traverses the parameter space $(\\alpha, \\beta)$ by \"going downhill\" relative to the loss."
   ]
  },
  {
   "cell_type": "markdown",
   "metadata": {},
   "source": [
    "### Gradients: Vector-Valued Derivatives"
   ]
  },
  {
   "cell_type": "markdown",
   "metadata": {},
   "source": [
    "Up to this point we've been talking about the derivatives of the loss with respect to each individual parameter. But now we're going to define taking the derivative with respect to a vector of parameters $\\theta = [\\theta_1, \\theta_2, \\dots \\theta_p]^T$. How? It's pretty simple, we just stack the derivatives with respect to each parameter in the vector into a vector of its own:\n",
    "\n",
    "$$\n",
    "\\frac{dL}{d\\theta} = \n",
    "\\left[\n",
    "\\begin{array}{c}\n",
    "\\frac{\\partial L}{\\partial \\theta_1} \\\\\n",
    "\\frac{\\partial L}{\\partial \\theta_2} \\\\\n",
    "\\vdots \\\\\n",
    "\\frac{\\partial L}{\\partial \\theta_p}\n",
    "\\end{array}\n",
    "\\right]\n",
    "= \\nabla_\\theta L\n",
    "$$"
   ]
  },
  {
   "cell_type": "markdown",
   "metadata": {},
   "source": [
    "And, instead of writing $\\frac{dL}{d\\theta}$, which might confuse someone into thinking $\\theta$ is a single parameter, we usually write $\\nabla_\\theta L$. This is the *gradient* of $L$ with respect to the vector $\\theta$. $\\nabla_\\theta L$ is a function that, when evaluated at a point $\\theta^*$, returns a *vector*. The elements of that vector are the derivatives of the loss with respect to each individual parameter, evaluated at the value of that parameter. Check it out:"
   ]
  },
  {
   "cell_type": "markdown",
   "metadata": {},
   "source": [
    "![](gradient.png)"
   ]
  },
  {
   "cell_type": "markdown",
   "metadata": {},
   "source": [
    "The figure illustrates the contours of the loss function in grey (think of it as looking down into a \"bowl\"). The gradient evaluated at a single point returns a vector, which we draw as an arrow. The arrow points in the steepest direction \"uphill\" at that point. The steepest direction \"downhill\" is the direction corresponding to $-\\nabla_\\theta L$, the negative gradient. That's why we go in that direction in the gradient descent step, and it also explains why gradient descent works: at each step, we're moving the parameters in the direction that most decrease the loss."
   ]
  },
  {
   "cell_type": "markdown",
   "metadata": {},
   "source": [
    "Using the gradient, we can update all of the parameters in one equation: $\\theta \\leftarrow \\theta - \\epsilon \\nabla_\\theta L$. If you write out the components of each vector you will see that this is exactly the same as we had before when we were updating each parameter individually."
   ]
  },
  {
   "cell_type": "markdown",
   "metadata": {},
   "source": [
    "Let's rewrite our code to work generally in the multi-parameter case:"
   ]
  },
  {
   "cell_type": "code",
   "execution_count": 312,
   "metadata": {},
   "outputs": [],
   "source": [
    "def grad_descent(L, grad_L, θ, ϵ=0.00001, tol=0.000001): # apparently ∇ can't be used in a variable name in python... so no ∇L\n",
    "    old_loss, loss = np.inf, L(θ)\n",
    "    while old_loss - loss > tol:\n",
    "        θ -= ϵ*grad_L(θ)\n",
    "        old_loss, loss = loss, L(θ)\n",
    "    return θ"
   ]
  },
  {
   "cell_type": "markdown",
   "metadata": {},
   "source": [
    "#### Example"
   ]
  },
  {
   "cell_type": "markdown",
   "metadata": {},
   "source": [
    "Let's try it out with our linear regression problem using multiple predictors. Now we have $x_i = [x_{i1}, \\dots x_{ip}]$ so $\\beta = [\\beta_1, \\dots \\beta_p]$. Our minimization problem is again\n",
    "\n",
    "$$\\underset{\\alpha,\\beta}{\\text{argmin}}\\frac{1}{n} \\sum_i (y_i - (\\alpha + x_i\\beta))^2$$\n",
    "\n",
    "You can read \"$\\underset{\\theta}{\\text{argmin}} L(\\theta)$\" as \"the value of $\\theta$ that minimizes $L(\\theta)$\", so this is just a little bit of shorthand for what we had written out in words before. This problem looks the same as what we had in the single-variable case, but actually now $x_i \\beta$ is a dot product of two vectors instead of multiplication between two numbers. \n",
    "\n",
    "To calculate $\\nabla_{\\alpha, \\beta} L(\\alpha, \\beta)$ we have to find the deriviatives with respect to each of the parameters $\\alpha$, $\\beta_1$, $\\beta_2$, ... $\\beta_p$. But even though now we have $p+1$ parameters, finding the derivatives is just as easy as in the 2-parameter case. If we expand out the dot product:\n",
    "\n",
    "$$\\frac{1}{n} \\sum_i (y_i - (\\alpha + x_i\\beta))^2 = \\frac{1}{n} \\sum_i (y_i - (\\alpha + x_{i1}\\beta_1 + x_{i2}\\beta_2 + \\cdots x_{ip}\\beta_p))^2$$"
   ]
  },
  {
   "cell_type": "markdown",
   "metadata": {},
   "source": [
    "Now we can take our derivatives just as we had before. But we don't have to do all of the $\\beta$s individually- if you do two of them you'll notice a pattern and see that the derivatives are:\n",
    "\n",
    "$$\\frac{\\partial L}{\\partial \\alpha} = \\frac{1}{n} \\sum_i -2 (y_i - (\\alpha + x_i\\beta))$$\n",
    "\n",
    "$$\\frac{\\partial L}{\\partial \\beta_j} = \\frac{1}{n} \\sum_i -2 (y_i - (\\alpha + x_i\\beta))x_{ij}$$"
   ]
  },
  {
   "cell_type": "markdown",
   "metadata": {},
   "source": [
    "And, in fact, there's a quick way to write this out using matrix notation\n",
    "\n",
    "$$\n",
    "\\left[\n",
    "\\begin{array}{c}\n",
    "\\frac{\\partial L}{\\partial \\beta_1} \\\\\n",
    "\\frac{\\partial L}{\\partial \\beta_2} \\\\\n",
    "\\vdots \\\\\n",
    "\\frac{\\partial L}{\\partial \\beta_p}\n",
    "\\end{array}\n",
    "\\right]\n",
    "= \n",
    "\\nabla_\\beta L(\\alpha, \\beta)\n",
    "= \n",
    "-2X^T(y-(\\alpha + X\\beta))\n",
    "$$"
   ]
  },
  {
   "cell_type": "markdown",
   "metadata": {},
   "source": [
    "<div class=\"alert alert-block alert-warning\">\n",
    "<b>STOP:</b> \n",
    "Do the matrix multiplications yourself to verify that the equation for each partial derivative comes out the same. Feel free to review the <a href=\"https://www.khanacademy.org/math/precalculus/x9e81a4f98389efdf:matrices/x9e81a4f98389efdf:multiplying-matrices-by-matrices/a/multiplying-matrices\">definition of matrix multiplication</a> if you're a little rusty.\n",
    "</div>"
   ]
  },
  {
   "cell_type": "markdown",
   "metadata": {},
   "source": [
    "Let's code it up!"
   ]
  },
  {
   "cell_type": "code",
   "execution_count": 313,
   "metadata": {},
   "outputs": [],
   "source": [
    "X,y = simulate_linear(1000, α=0, β=[1,1,1], σ=0.25) # remember, in reality we don't know what these numbers actually are"
   ]
  },
  {
   "cell_type": "code",
   "execution_count": 314,
   "metadata": {},
   "outputs": [],
   "source": [
    "# θ=[α, β1 ... βp]\n",
    "def lin_reg_mse_loss(θ): # L(θ)\n",
    "    m = LinearModel(α=θ[0], β=θ[1:])\n",
    "    ŷ = m.predict(X)\n",
    "    return mse(y,ŷ)\n",
    "\n",
    "def grad_lin_reg_mse_loss(θ): # ∇L(θ) \n",
    "    Z = np.insert(X,0,1,axis=1) # adds a column of ones to the front of X. See ?np.insert\n",
    "    return -2*Z.T @ (y-Z@θ) "
   ]
  },
  {
   "cell_type": "markdown",
   "metadata": {},
   "source": [
    "I used a little trick in the gradient function- if you pretend $\\alpha$ is the coefficient for a dummy predictor that is always 1, the derivative for $\\alpha$ takes the same form as the derivatives for $\\beta_j$, so they can all be calculated in the same expression. That is, \n",
    "\n",
    "$$\n",
    "\\alpha + x_i \\beta \n",
    "= \n",
    "\\underbrace{[1, x_i]}_{z_i}\n",
    "\\underbrace{\n",
    "\\left[\n",
    "\\begin{array}{c}\n",
    "\\alpha \\\\ \\beta\n",
    "\\end{array}\n",
    "\\right]\n",
    "}_\\theta\n",
    "= z_i\\theta\n",
    "\\quad \\quad\n",
    "\\rightarrow\n",
    "\\quad \\quad\n",
    "\\nabla_\\beta L(\\theta)\n",
    "= \n",
    "-2Z^T(y-Z\\theta)\n",
    "$$\n",
    "\n",
    "This isn't conceptually important- I could also have coded out the derivaties for $\\alpha$ and $\\beta$ separately and concatenated them together to get the gradient."
   ]
  },
  {
   "cell_type": "markdown",
   "metadata": {},
   "source": [
    "Finally, we can test out our generic gradient descent code:"
   ]
  },
  {
   "cell_type": "code",
   "execution_count": 315,
   "metadata": {},
   "outputs": [
    {
     "data": {
      "application/vnd.vegalite.v3+json": {
       "$schema": "https://vega.github.io/schema/vega-lite/v3.4.0.json",
       "config": {
        "mark": {
         "tooltip": null
        },
        "view": {
         "height": 300,
         "width": 400
        }
       },
       "data": {
        "name": "data-53f69a14acc59f09beb0ab054972f58f"
       },
       "datasets": {
        "data-53f69a14acc59f09beb0ab054972f58f": [
         {
          "y": 1.0091169360651997,
          "ŷ": 0.930629010387459
         },
         {
          "y": 1.9682818275378096,
          "ŷ": 2.108969469602929
         },
         {
          "y": 0.8808855946945382,
          "ŷ": 1.32520098860218
         },
         {
          "y": 1.2175836570506111,
          "ŷ": 1.1751958916612406
         },
         {
          "y": 1.1232991373834882,
          "ŷ": 0.9114464557770903
         },
         {
          "y": 1.792853500941357,
          "ŷ": 1.6316771688583165
         },
         {
          "y": 1.0695141397248173,
          "ŷ": 0.8832745357894474
         },
         {
          "y": 1.1384379015709714,
          "ŷ": 1.32946520250395
         },
         {
          "y": 1.6016367991864384,
          "ŷ": 1.6013288816261386
         },
         {
          "y": 1.6484987150876338,
          "ŷ": 1.5893663231051638
         },
         {
          "y": 1.814501125610033,
          "ŷ": 2.172691219868708
         },
         {
          "y": 2.0255636024465886,
          "ŷ": 1.8630230196864448
         },
         {
          "y": 2.0951555886646225,
          "ŷ": 2.0179202903127935
         },
         {
          "y": 1.8244910289833551,
          "ŷ": 1.7214434347014633
         },
         {
          "y": 1.9071934486156,
          "ŷ": 1.8258453894836004
         },
         {
          "y": 2.0402970651212513,
          "ŷ": 1.8092542792887758
         },
         {
          "y": 1.0122409814371702,
          "ŷ": 1.0730380163626954
         },
         {
          "y": 1.7177308126395658,
          "ŷ": 1.466202652605034
         },
         {
          "y": 1.2340686809266543,
          "ŷ": 1.3638347903043255
         },
         {
          "y": 2.20529413701763,
          "ŷ": 2.0357780032508943
         },
         {
          "y": 1.8820574941089967,
          "ŷ": 1.993182062516164
         },
         {
          "y": 1.2449855654264887,
          "ŷ": 1.375378065985752
         },
         {
          "y": 1.2147898419414342,
          "ŷ": 1.3653737797733818
         },
         {
          "y": 0.23993053462539904,
          "ŷ": 0.6443559516625801
         },
         {
          "y": 1.0976095948908204,
          "ŷ": 1.2582362221577261
         },
         {
          "y": 0.2866489072621577,
          "ŷ": 0.36861073096331604
         },
         {
          "y": 0.9245769687468862,
          "ŷ": 1.2816604956292996
         },
         {
          "y": 1.8906371494206633,
          "ŷ": 1.8613268274337484
         },
         {
          "y": 2.169660867307135,
          "ŷ": 1.7122279775864169
         },
         {
          "y": 1.461313007373508,
          "ŷ": 1.338660103714986
         },
         {
          "y": 1.6790286727538855,
          "ŷ": 1.2329176888982942
         },
         {
          "y": 2.1581612388497033,
          "ŷ": 2.054273794227552
         },
         {
          "y": 1.7738168979276132,
          "ŷ": 2.1206793708750524
         },
         {
          "y": 2.456598981906434,
          "ŷ": 2.197029730451185
         },
         {
          "y": 1.4462339173831245,
          "ŷ": 1.6461167982794012
         },
         {
          "y": 1.7065554094428041,
          "ŷ": 1.5569510908270305
         },
         {
          "y": 0.9372174137552108,
          "ŷ": 1.139476582485296
         },
         {
          "y": 1.564669288735647,
          "ŷ": 1.8304472706533057
         },
         {
          "y": 0.7303934881669597,
          "ŷ": 1.0206603250121975
         },
         {
          "y": 2.531794867248204,
          "ŷ": 2.1731563128780285
         },
         {
          "y": 2.1683908284789495,
          "ŷ": 2.210191924632964
         },
         {
          "y": 1.5454136607579247,
          "ŷ": 1.5860004799210603
         },
         {
          "y": 1.465341849966268,
          "ŷ": 1.1811258861647287
         },
         {
          "y": 0.7002756668944397,
          "ŷ": 1.019256568923464
         },
         {
          "y": 1.4016530862134362,
          "ŷ": 1.4663218025357982
         },
         {
          "y": 2.3385615689716133,
          "ŷ": 2.1324048067103596
         },
         {
          "y": 2.1617738219208307,
          "ŷ": 2.067453979180236
         },
         {
          "y": 1.7585051984130171,
          "ŷ": 1.682500314952166
         },
         {
          "y": 2.5526633303400743,
          "ŷ": 1.9723942634951166
         },
         {
          "y": 1.9499154000148462,
          "ŷ": 1.8326044366172691
         },
         {
          "y": 2.0116966235171763,
          "ŷ": 2.1772811705869572
         },
         {
          "y": 0.961259077665976,
          "ŷ": 1.2991500093426627
         },
         {
          "y": 0.728885975875584,
          "ŷ": 0.6631644586134711
         },
         {
          "y": 1.0063100856387797,
          "ŷ": 0.9606287655810923
         },
         {
          "y": 2.495789634598303,
          "ŷ": 2.143828977035798
         },
         {
          "y": 1.82257360545406,
          "ŷ": 1.763016337259368
         },
         {
          "y": 1.0909583057739198,
          "ŷ": 1.3246015045550026
         },
         {
          "y": 1.9319770817262405,
          "ŷ": 1.9528887001746102
         },
         {
          "y": 2.0298093719422274,
          "ŷ": 2.2968413495236053
         },
         {
          "y": 1.0711070296750838,
          "ŷ": 1.6657836794263203
         },
         {
          "y": 0.8508618777316094,
          "ŷ": 0.2934074709155606
         },
         {
          "y": 1.7474854452906556,
          "ŷ": 1.8432822141243446
         },
         {
          "y": 1.5834307759558894,
          "ŷ": 1.5669486888303215
         },
         {
          "y": 2.457584738781822,
          "ŷ": 2.474269012873312
         },
         {
          "y": 1.8730252601418451,
          "ŷ": 2.002035043088884
         },
         {
          "y": 1.586095830369296,
          "ŷ": 1.5320549432846262
         },
         {
          "y": 2.1482278622474045,
          "ŷ": 2.158946644161449
         },
         {
          "y": 0.800503316561112,
          "ŷ": 0.9742715514182845
         },
         {
          "y": 1.3191283892665806,
          "ŷ": 1.193921168928554
         },
         {
          "y": 1.3855214259589879,
          "ŷ": 1.152070191891226
         },
         {
          "y": 0.833077392590184,
          "ŷ": 1.1053570089060019
         },
         {
          "y": 1.9420228210202224,
          "ŷ": 2.1305049473287205
         },
         {
          "y": 2.2244117361772493,
          "ŷ": 2.1282791809807007
         },
         {
          "y": 1.6321035899687406,
          "ŷ": 1.5002587504219689
         },
         {
          "y": 2.105116846956647,
          "ŷ": 1.9769285842176816
         },
         {
          "y": 2.030530377476717,
          "ŷ": 2.0257564694370447
         },
         {
          "y": 1.2756437836813235,
          "ŷ": 1.1047172585459677
         },
         {
          "y": 2.119694302636357,
          "ŷ": 1.7763725631005671
         },
         {
          "y": 1.8911195357750152,
          "ŷ": 2.2932637024112275
         },
         {
          "y": 2.570775230486926,
          "ŷ": 2.2618397237627956
         },
         {
          "y": 1.1308421230936916,
          "ŷ": 1.549243569404766
         },
         {
          "y": 1.6700421529208225,
          "ŷ": 1.5547443237955185
         },
         {
          "y": 1.5927720503854417,
          "ŷ": 1.3928727014526772
         },
         {
          "y": 1.3614373145530074,
          "ŷ": 1.3397763604549924
         },
         {
          "y": 1.4765228891875364,
          "ŷ": 1.5919078973145593
         },
         {
          "y": 0.5843037148984902,
          "ŷ": 0.5677867786721946
         },
         {
          "y": 2.1513018322036688,
          "ŷ": 2.2500207598813953
         },
         {
          "y": 1.203879558690802,
          "ŷ": 0.8811851210673896
         },
         {
          "y": 0.5351734262996111,
          "ŷ": 0.2785759695375638
         },
         {
          "y": 1.61688106894381,
          "ŷ": 1.7121354212818385
         },
         {
          "y": 2.4923301836018417,
          "ŷ": 2.1545680754744048
         },
         {
          "y": 1.1685779917979517,
          "ŷ": 1.467531648822233
         },
         {
          "y": 1.7368186686568305,
          "ŷ": 1.691267448019415
         },
         {
          "y": 0.9446285005162308,
          "ŷ": 1.2082509270096873
         },
         {
          "y": 1.1306666569406574,
          "ŷ": 1.074884353923709
         },
         {
          "y": 1.0419753810979704,
          "ŷ": 1.2136774872396539
         },
         {
          "y": 1.6185585623453118,
          "ŷ": 1.3946639413688617
         },
         {
          "y": 0.9615926460304288,
          "ŷ": 1.020702767041317
         },
         {
          "y": 1.238123584774278,
          "ŷ": 1.26802449520729
         },
         {
          "y": 2.687823285004118,
          "ŷ": 2.7446543181977585
         },
         {
          "y": 0.671469649022963,
          "ŷ": 0.9926307340804681
         },
         {
          "y": 2.8370416774682554,
          "ŷ": 2.3750133851120867
         },
         {
          "y": 1.5464909670239284,
          "ŷ": 1.6350176238057659
         },
         {
          "y": 0.9216732724190098,
          "ŷ": 1.0694154795060902
         },
         {
          "y": 1.6825481083513203,
          "ŷ": 1.8598191289047772
         },
         {
          "y": 2.1033092389752204,
          "ŷ": 1.979973694924973
         },
         {
          "y": 0.4119931628858129,
          "ŷ": 0.807213730442726
         },
         {
          "y": 1.7467296319665948,
          "ŷ": 1.9616912903422923
         },
         {
          "y": 1.8371652992742076,
          "ŷ": 2.1306261700641986
         },
         {
          "y": 0.9183676026502665,
          "ŷ": 0.9685708412266112
         },
         {
          "y": 1.6657481205649518,
          "ŷ": 1.0326377719021889
         },
         {
          "y": 0.9296011849975594,
          "ŷ": 1.3353569920319732
         },
         {
          "y": 1.9025044713406931,
          "ŷ": 1.641140074326479
         },
         {
          "y": 2.8077483233534855,
          "ŷ": 2.579548606362403
         },
         {
          "y": 0.20958351549184273,
          "ŷ": 0.2589666712211792
         },
         {
          "y": 1.9640133419191157,
          "ŷ": 2.0933109674999097
         },
         {
          "y": 1.5359816208288128,
          "ŷ": 0.8646434719888849
         },
         {
          "y": 1.1346664611176658,
          "ŷ": 1.2274974109257182
         },
         {
          "y": 0.7728177858508392,
          "ŷ": 0.9225931473667721
         },
         {
          "y": 1.7480820755173487,
          "ŷ": 1.7796762903155086
         },
         {
          "y": 1.73850878174253,
          "ŷ": 1.778087279355496
         },
         {
          "y": 2.2491520423657145,
          "ŷ": 2.14846851995855
         },
         {
          "y": 1.404117011661532,
          "ŷ": 1.4714297681799304
         },
         {
          "y": 2.0978435824622967,
          "ŷ": 1.9991905178510836
         },
         {
          "y": 1.3100011305379926,
          "ŷ": 1.1768125211745244
         },
         {
          "y": 1.6926873782694294,
          "ŷ": 2.073775071180557
         },
         {
          "y": 1.2095152110160134,
          "ŷ": 1.4587955845352576
         },
         {
          "y": 1.3846216127560331,
          "ŷ": 1.574892699390227
         },
         {
          "y": 2.458863708919883,
          "ŷ": 1.9554106321226148
         },
         {
          "y": 0.9754409258013391,
          "ŷ": 0.6950119217544184
         },
         {
          "y": 1.9786812530810192,
          "ŷ": 2.0791872322577998
         },
         {
          "y": 1.1385442157389343,
          "ŷ": 1.5167217749527968
         },
         {
          "y": 1.5470190635056313,
          "ŷ": 1.521858697319517
         },
         {
          "y": 0.45897320365500227,
          "ŷ": 1.2439949416240057
         },
         {
          "y": 1.7420134928558095,
          "ŷ": 1.7230681752470904
         },
         {
          "y": 2.4503945088052186,
          "ŷ": 2.220541291965042
         },
         {
          "y": 1.9424962174510283,
          "ŷ": 1.9414848261150455
         },
         {
          "y": 1.7998349535724758,
          "ŷ": 1.3976388357566252
         },
         {
          "y": 1.5559764934490279,
          "ŷ": 1.466624868482156
         },
         {
          "y": 0.9428098537672043,
          "ŷ": 0.8092520165139745
         },
         {
          "y": 0.8363652045726937,
          "ŷ": 0.7436154272205777
         },
         {
          "y": 1.2543086881253993,
          "ŷ": 1.5481602673346078
         },
         {
          "y": 1.5839552071490202,
          "ŷ": 1.7837223523745969
         },
         {
          "y": 0.6829557188019547,
          "ŷ": 0.7500018960977102
         },
         {
          "y": 1.0576412986391648,
          "ŷ": 0.9371205746397038
         },
         {
          "y": 1.0556550520536985,
          "ŷ": 1.2258664918236983
         },
         {
          "y": 0.7960133343460882,
          "ŷ": 1.196585045834421
         },
         {
          "y": 1.8730476386109487,
          "ŷ": 1.8325546121954612
         },
         {
          "y": 1.9329286611417524,
          "ŷ": 2.2808041393637586
         },
         {
          "y": 0.26133037634081957,
          "ŷ": 0.468226819995929
         },
         {
          "y": 2.4941676950821074,
          "ŷ": 2.0029903102622497
         },
         {
          "y": 1.4221296312876914,
          "ŷ": 1.5733756118712636
         },
         {
          "y": 1.3334569747225322,
          "ŷ": 1.5860057874398172
         },
         {
          "y": 1.4042502055990493,
          "ŷ": 1.2429560873588303
         },
         {
          "y": 2.0153421594689545,
          "ŷ": 2.2780634948145484
         },
         {
          "y": 1.4891726807478916,
          "ŷ": 1.2730284029685124
         },
         {
          "y": 1.8116083090852881,
          "ŷ": 1.8236713099348838
         },
         {
          "y": 1.1445047310549468,
          "ŷ": 1.350135687475291
         },
         {
          "y": 1.1898789701511752,
          "ŷ": 0.7995161810540743
         },
         {
          "y": 0.5906537235373978,
          "ŷ": 1.0387553584188143
         },
         {
          "y": 0.47721295716849965,
          "ŷ": 0.8180127769205605
         },
         {
          "y": 1.1088115139896244,
          "ŷ": 1.3819987622039702
         },
         {
          "y": 2.1986465540981035,
          "ŷ": 2.0647287749889545
         },
         {
          "y": 2.3223502880469424,
          "ŷ": 1.9452992251913683
         },
         {
          "y": 1.4184648848721386,
          "ŷ": 1.6092458540022525
         },
         {
          "y": 1.4008667456597963,
          "ŷ": 1.691282210530206
         },
         {
          "y": 1.7728633714294155,
          "ŷ": 1.6309774872349123
         },
         {
          "y": 0.31685545392169795,
          "ŷ": 0.8093651717275674
         },
         {
          "y": 1.370553650158695,
          "ŷ": 1.3747266691884599
         },
         {
          "y": 1.9082461557183352,
          "ŷ": 1.8785792594728823
         },
         {
          "y": 2.201447649378025,
          "ŷ": 1.8819784441539402
         },
         {
          "y": 1.672437449903834,
          "ŷ": 1.7211459011115415
         },
         {
          "y": 1.6245701208384542,
          "ŷ": 1.6677815372333853
         },
         {
          "y": 1.0914688990090655,
          "ŷ": 1.3721416054790168
         },
         {
          "y": 1.313646567475986,
          "ŷ": 1.2576774162017543
         },
         {
          "y": 1.954375438022026,
          "ŷ": 1.5202158059445745
         },
         {
          "y": 0.8098824577072549,
          "ŷ": 1.3662852841908244
         },
         {
          "y": 1.6652711904085553,
          "ŷ": 1.4059453005267915
         },
         {
          "y": 0.7676753436796551,
          "ŷ": 1.2525320669860407
         },
         {
          "y": 1.702199381686201,
          "ŷ": 1.692307131693379
         },
         {
          "y": 1.4884960807226597,
          "ŷ": 1.1441378343633815
         },
         {
          "y": 1.2912942663223979,
          "ŷ": 1.195781134800116
         },
         {
          "y": 0.3763225142949497,
          "ŷ": 0.3048586750576063
         },
         {
          "y": 1.7229301325494422,
          "ŷ": 1.6661743877804647
         },
         {
          "y": 1.0076857244425215,
          "ŷ": 1.4577769375493927
         },
         {
          "y": 1.6413739170824924,
          "ŷ": 1.0117695466465573
         },
         {
          "y": 1.6647023497341973,
          "ŷ": 1.3505890866625052
         },
         {
          "y": 2.5462268352136106,
          "ŷ": 2.12856909166245
         },
         {
          "y": 1.126161106118893,
          "ŷ": 1.3048423147517831
         },
         {
          "y": 0.8083158117851826,
          "ŷ": 0.955524602752118
         },
         {
          "y": 1.436077703714194,
          "ŷ": 1.284433651020042
         },
         {
          "y": 1.6238548117896667,
          "ŷ": 1.046652832047087
         },
         {
          "y": 1.3569386789910003,
          "ŷ": 1.5664107591483363
         },
         {
          "y": 1.4640218236812284,
          "ŷ": 1.541722844609944
         },
         {
          "y": 1.298061627470061,
          "ŷ": 1.2956041904440079
         },
         {
          "y": 0.9028712346445013,
          "ŷ": 1.1705740129932807
         },
         {
          "y": 1.1133289973415914,
          "ŷ": 1.5885218746665501
         },
         {
          "y": 2.5265581753086503,
          "ŷ": 2.2718725884136575
         },
         {
          "y": 0.8087005820237078,
          "ŷ": 0.8241676940433917
         },
         {
          "y": 1.7098722626953886,
          "ŷ": 1.6970433645169836
         },
         {
          "y": 0.2791382274661124,
          "ŷ": 0.5458988094399903
         },
         {
          "y": 1.3576723111627853,
          "ŷ": 1.3579908804317447
         },
         {
          "y": 1.8957961700499906,
          "ŷ": 2.122969987649832
         },
         {
          "y": 1.4414939482107183,
          "ŷ": 1.5292734646092956
         },
         {
          "y": 0.8276257606923456,
          "ŷ": 1.434380574007507
         },
         {
          "y": 0.6559163918533011,
          "ŷ": 0.3542561285038901
         },
         {
          "y": 1.6497043900070412,
          "ŷ": 1.5291082031943153
         },
         {
          "y": 0.6548880431887558,
          "ŷ": 0.9384549978389793
         },
         {
          "y": 2.4411467911437095,
          "ŷ": 2.05436162861982
         },
         {
          "y": 0.7804630188387808,
          "ŷ": 0.982287110906183
         },
         {
          "y": 2.64950882716875,
          "ŷ": 2.2366769660884245
         },
         {
          "y": 2.1157467533165075,
          "ŷ": 2.1695991657384437
         },
         {
          "y": 2.5654981566276023,
          "ŷ": 2.290721934862616
         },
         {
          "y": 2.49476607221515,
          "ŷ": 2.30791896721049
         },
         {
          "y": 1.8346653565412585,
          "ŷ": 1.682797621695921
         },
         {
          "y": 1.1195484859193243,
          "ŷ": 1.7698053807327951
         },
         {
          "y": 0.33787803200060207,
          "ŷ": 0.5831794857728496
         },
         {
          "y": 1.1272567785060688,
          "ŷ": 1.1279593512691324
         },
         {
          "y": 1.4474318245388786,
          "ŷ": 1.5455972716448716
         },
         {
          "y": 2.25898509282073,
          "ŷ": 2.038504860454841
         },
         {
          "y": 1.0912999609769027,
          "ŷ": 0.8536003804155003
         },
         {
          "y": 0.2174599873841062,
          "ŷ": 0.9325211505263298
         },
         {
          "y": 2.7294425793797794,
          "ŷ": 2.5910676686639857
         },
         {
          "y": 1.2046447935238003,
          "ŷ": 1.5944523674064428
         },
         {
          "y": 1.4833576174697383,
          "ŷ": 1.6180624295847392
         },
         {
          "y": 1.8769445483613407,
          "ŷ": 1.8305414170769139
         },
         {
          "y": 1.1026767536996886,
          "ŷ": 1.355131874754823
         },
         {
          "y": 1.8950174424576913,
          "ŷ": 1.9967107949507812
         },
         {
          "y": 1.154112899295678,
          "ŷ": 1.4028730230755684
         },
         {
          "y": 1.445100211540599,
          "ŷ": 1.60439024177479
         },
         {
          "y": 0.7884645153889338,
          "ŷ": 0.8988581367804924
         },
         {
          "y": 1.8718003560484573,
          "ŷ": 2.1531419341842186
         },
         {
          "y": 1.4921025105683299,
          "ŷ": 1.162431706922455
         },
         {
          "y": 0.9801319649395633,
          "ŷ": 0.7906487175663421
         },
         {
          "y": 0.3515557386933104,
          "ŷ": 0.7269180789381104
         },
         {
          "y": 1.5638976959719872,
          "ŷ": 1.6904564882014836
         },
         {
          "y": 2.011828385446391,
          "ŷ": 1.9854341036210184
         },
         {
          "y": 1.5118290614264294,
          "ŷ": 1.1209474021973065
         },
         {
          "y": 0.38191356637020063,
          "ŷ": 0.7968767937803098
         },
         {
          "y": 1.9555874986315565,
          "ŷ": 2.3047835888410146
         },
         {
          "y": 0.3807485845185741,
          "ŷ": 0.5456758217095503
         },
         {
          "y": 1.2230829653050281,
          "ŷ": 0.8485020854827146
         },
         {
          "y": 2.628893583959056,
          "ŷ": 2.3988787113990804
         },
         {
          "y": 2.4906822246744484,
          "ŷ": 2.268932979776914
         },
         {
          "y": 2.669463320408767,
          "ŷ": 2.5892202933115254
         },
         {
          "y": 2.580850880833736,
          "ŷ": 2.5758722602486666
         },
         {
          "y": 0.959500327244583,
          "ŷ": 1.279656289157275
         },
         {
          "y": 2.428748336527103,
          "ŷ": 2.458079385970402
         },
         {
          "y": 1.120578944245589,
          "ŷ": 1.0040002157702848
         },
         {
          "y": 0.9757066284141673,
          "ŷ": 0.9129890668494944
         },
         {
          "y": 2.396017524325987,
          "ŷ": 2.0725673028859712
         },
         {
          "y": 2.009547778705588,
          "ŷ": 2.009329272917399
         },
         {
          "y": 1.6655778563961339,
          "ŷ": 1.920094624506184
         },
         {
          "y": 1.9683613886321185,
          "ŷ": 1.6439105817555903
         },
         {
          "y": 0.8345734569881582,
          "ŷ": 1.036464785418938
         },
         {
          "y": 1.673737010985472,
          "ŷ": 2.1078095132953583
         },
         {
          "y": 1.7299078304778126,
          "ŷ": 1.9575405763062255
         },
         {
          "y": 2.5866007181500046,
          "ŷ": 2.522077586890041
         },
         {
          "y": 1.4092153475295999,
          "ŷ": 1.4079881728417707
         },
         {
          "y": 2.002212535685918,
          "ŷ": 1.4589566418143893
         },
         {
          "y": 2.127735738843791,
          "ŷ": 1.9386333208874869
         },
         {
          "y": 1.9261833210687613,
          "ŷ": 1.773080764665712
         },
         {
          "y": 1.0206727021100583,
          "ŷ": 0.7991944399923252
         },
         {
          "y": 1.622972607569903,
          "ŷ": 1.79171352111242
         },
         {
          "y": 2.285850010285398,
          "ŷ": 2.084189590115405
         },
         {
          "y": 1.9200508743956766,
          "ŷ": 1.6935561825533298
         },
         {
          "y": 2.259795817368526,
          "ŷ": 2.0768424478671883
         },
         {
          "y": 1.4839620047767512,
          "ŷ": 1.5822155222324301
         },
         {
          "y": 1.7977842462761868,
          "ŷ": 1.8495011433680897
         },
         {
          "y": 2.425923982204961,
          "ŷ": 1.7706054956798363
         },
         {
          "y": 1.9960204570882183,
          "ŷ": 2.2999638932027437
         },
         {
          "y": 1.5474046631633571,
          "ŷ": 1.41881719672718
         },
         {
          "y": 1.0883884033609665,
          "ŷ": 1.1738583518328969
         },
         {
          "y": 2.482265289317487,
          "ŷ": 2.4797586007400447
         },
         {
          "y": 0.5442274105258108,
          "ŷ": 0.9928737962401784
         },
         {
          "y": 2.7143166995063353,
          "ŷ": 2.3941044868816763
         },
         {
          "y": 1.0883252684480507,
          "ŷ": 1.027727328522723
         },
         {
          "y": 2.4825112325956282,
          "ŷ": 2.497980816104488
         },
         {
          "y": 1.8321351363990686,
          "ŷ": 1.7269116700691043
         },
         {
          "y": 0.7665673037124248,
          "ŷ": 0.9170994646928874
         },
         {
          "y": 2.0885185213165243,
          "ŷ": 2.1111859799851813
         },
         {
          "y": 2.3375323502167937,
          "ŷ": 2.2169886835584967
         },
         {
          "y": 2.1270905742248307,
          "ŷ": 2.3775642367919163
         },
         {
          "y": 0.8438520358194717,
          "ŷ": 0.6745745000138432
         },
         {
          "y": 0.906365391919346,
          "ŷ": 0.43623039012594295
         },
         {
          "y": 1.7087243367655383,
          "ŷ": 1.344433401345476
         },
         {
          "y": 1.2082283738610782,
          "ŷ": 1.3974043291741165
         },
         {
          "y": 1.9264002312075506,
          "ŷ": 2.1646339491985485
         },
         {
          "y": 1.25206193549624,
          "ŷ": 1.0481393163532882
         },
         {
          "y": 1.0439868403562487,
          "ŷ": 1.2533001416124463
         },
         {
          "y": 1.1174857684682666,
          "ŷ": 1.2714380072367741
         },
         {
          "y": 0.5368978888744247,
          "ŷ": 0.4797379795215913
         },
         {
          "y": 1.6551734831618286,
          "ŷ": 1.7966294671070686
         },
         {
          "y": 1.2180297473587698,
          "ŷ": 1.8194058008330898
         },
         {
          "y": 1.1335433044854821,
          "ŷ": 0.8259106320629057
         },
         {
          "y": 1.028348181699407,
          "ŷ": 1.2455327603933402
         },
         {
          "y": 2.155545397390876,
          "ŷ": 2.166326731520818
         },
         {
          "y": 2.0115314735438834,
          "ŷ": 2.1392234427382775
         },
         {
          "y": 1.4554999793294772,
          "ŷ": 1.3439727972110174
         },
         {
          "y": 1.8401327682666417,
          "ŷ": 1.704083363467953
         },
         {
          "y": 0.984156495822861,
          "ŷ": 1.176473283254529
         },
         {
          "y": 0.5729905720689991,
          "ŷ": 0.8671150164187142
         },
         {
          "y": 2.2358876529230534,
          "ŷ": 2.3428852544951098
         },
         {
          "y": 1.187808214191753,
          "ŷ": 0.7869742773950479
         },
         {
          "y": 2.1028691594779936,
          "ŷ": 2.2862600315647046
         },
         {
          "y": 1.4238568585980222,
          "ŷ": 1.5024077689149198
         },
         {
          "y": 1.307194127811037,
          "ŷ": 1.341762421115169
         },
         {
          "y": 1.814624904079121,
          "ŷ": 1.556633318766974
         },
         {
          "y": 0.6635344198548188,
          "ŷ": 0.5552214506173445
         },
         {
          "y": 0.602270998834084,
          "ŷ": 1.1352139348672765
         },
         {
          "y": 1.5458654981703772,
          "ŷ": 1.3133358040757916
         },
         {
          "y": 1.5509816942277774,
          "ŷ": 1.7345995768487734
         },
         {
          "y": 0.3143778685094498,
          "ŷ": 0.45820312217494424
         },
         {
          "y": 1.2883925900686608,
          "ŷ": 1.3936647328114071
         },
         {
          "y": 1.2079710542033668,
          "ŷ": 0.7540988897169543
         },
         {
          "y": 1.5046421718927534,
          "ŷ": 1.1473865565802068
         },
         {
          "y": 1.9800981758191178,
          "ŷ": 2.0782008599371644
         },
         {
          "y": 0.9388547811622079,
          "ŷ": 0.78381971860717
         },
         {
          "y": 2.197656078524531,
          "ŷ": 2.128544066333983
         },
         {
          "y": 1.2958358405772468,
          "ŷ": 1.4149867700677092
         },
         {
          "y": 0.2919312782184871,
          "ŷ": 0.359131973785502
         },
         {
          "y": 1.8425971719793182,
          "ŷ": 1.5856303287131468
         },
         {
          "y": 1.8905444797866169,
          "ŷ": 1.7370569227359252
         },
         {
          "y": 1.6581362655043408,
          "ŷ": 1.6115310950039565
         },
         {
          "y": 1.8703724887031412,
          "ŷ": 1.7097808615053038
         },
         {
          "y": 2.0488603083218484,
          "ŷ": 1.8175771732531998
         },
         {
          "y": 1.8927346594327643,
          "ŷ": 1.628487903070212
         },
         {
          "y": 2.3087833607846533,
          "ŷ": 2.2753021083229035
         },
         {
          "y": 2.024134564000774,
          "ŷ": 2.1577617857817417
         },
         {
          "y": 0.7006610223060461,
          "ŷ": 0.641034179432576
         },
         {
          "y": 0.741263830220668,
          "ŷ": 0.8733161574946886
         },
         {
          "y": 1.6685797502594206,
          "ŷ": 1.812272947028714
         },
         {
          "y": 1.4151930186291697,
          "ŷ": 1.497687835112058
         },
         {
          "y": 1.5161201266695428,
          "ŷ": 1.3704080827270697
         },
         {
          "y": 0.5464469550168146,
          "ŷ": 0.74931842329462
         },
         {
          "y": 1.8185240071298443,
          "ŷ": 1.6414996640826924
         },
         {
          "y": 2.1698207545870396,
          "ŷ": 1.9710212535740335
         },
         {
          "y": 2.67192677606095,
          "ŷ": 2.47073035975697
         },
         {
          "y": 1.2939496006814746,
          "ŷ": 1.2537145671768088
         },
         {
          "y": 2.4293505972939027,
          "ŷ": 2.732971342059642
         },
         {
          "y": 1.3457172147718452,
          "ŷ": 1.7955234616889417
         },
         {
          "y": 0.6270489271763935,
          "ŷ": 0.4367089829089974
         },
         {
          "y": 2.0113803286094645,
          "ŷ": 2.0185569462485082
         },
         {
          "y": 1.738694354848571,
          "ŷ": 1.3181845849660518
         },
         {
          "y": 2.7618712655329043,
          "ŷ": 2.4913230273308997
         },
         {
          "y": 1.34150605489388,
          "ŷ": 1.543660067888896
         },
         {
          "y": 2.132041385139693,
          "ŷ": 2.051488430661304
         },
         {
          "y": 1.8123529954710822,
          "ŷ": 1.6496027596117393
         },
         {
          "y": 1.2844406669636665,
          "ŷ": 1.7006699075557834
         },
         {
          "y": 1.197536205669428,
          "ŷ": 1.1218961050094804
         },
         {
          "y": 1.1897873054978474,
          "ŷ": 0.9407880862433073
         },
         {
          "y": 1.9832474913689961,
          "ŷ": 2.178855900288387
         },
         {
          "y": 1.210021949440475,
          "ŷ": 1.1475823205723124
         },
         {
          "y": 0.29931092842966234,
          "ŷ": 0.6611605433270351
         },
         {
          "y": 1.487632675055237,
          "ŷ": 1.2314014240438607
         },
         {
          "y": 2.057524392421381,
          "ŷ": 1.5522295322853457
         },
         {
          "y": 0.8630465305170151,
          "ŷ": 1.4927179241478397
         },
         {
          "y": 1.1669916877775017,
          "ŷ": 1.4107713535409958
         },
         {
          "y": 1.106509764046479,
          "ŷ": 0.8882042712051248
         },
         {
          "y": 1.0703437835502083,
          "ŷ": 1.1210011251648808
         },
         {
          "y": 1.2891835281117476,
          "ŷ": 1.551957980361501
         },
         {
          "y": 1.5674527988697948,
          "ŷ": 1.705352393142687
         },
         {
          "y": 1.9194194598936112,
          "ŷ": 1.8242291795722623
         },
         {
          "y": 0.7018228535303647,
          "ŷ": 0.9183388799505892
         },
         {
          "y": 0.4723540631087493,
          "ŷ": 0.7038345954413119
         },
         {
          "y": 1.111565464950702,
          "ŷ": 1.6167597761336638
         },
         {
          "y": 1.1539062078650468,
          "ŷ": 1.049677016868441
         },
         {
          "y": 0.7168055395419136,
          "ŷ": 0.8038407205079632
         },
         {
          "y": 1.36542035417254,
          "ŷ": 1.0734933544934726
         },
         {
          "y": 1.8993328726142251,
          "ŷ": 1.7791093197226804
         },
         {
          "y": 1.03968159866916,
          "ŷ": 1.3743931942628984
         },
         {
          "y": 1.336614287220662,
          "ŷ": 1.0312808049599722
         },
         {
          "y": 1.4073853590998657,
          "ŷ": 1.8075265067615636
         },
         {
          "y": 1.0570851329453477,
          "ŷ": 1.4745409130115645
         },
         {
          "y": 2.077304155551379,
          "ŷ": 2.091064369181155
         },
         {
          "y": 1.666650768969756,
          "ŷ": 1.521075537230418
         },
         {
          "y": 1.4185218189301971,
          "ŷ": 1.6039176560744266
         },
         {
          "y": 1.042775212283511,
          "ŷ": 1.3376758357498189
         },
         {
          "y": 1.7068995629924608,
          "ŷ": 1.603096680366763
         },
         {
          "y": 1.6882350393221006,
          "ŷ": 1.5475134296709536
         },
         {
          "y": 0.9966447598479233,
          "ŷ": 1.0236614121052587
         },
         {
          "y": 1.6714734794119024,
          "ŷ": 1.9025062817207092
         },
         {
          "y": 0.5809981103079556,
          "ŷ": 0.8732650413477172
         },
         {
          "y": 0.5875733920689951,
          "ŷ": 0.9277795458335296
         },
         {
          "y": 1.6521044213787084,
          "ŷ": 1.5214821093769129
         },
         {
          "y": 1.0437682523742908,
          "ŷ": 1.1915875419491044
         },
         {
          "y": 0.5923520626736571,
          "ŷ": 0.8824525243098376
         },
         {
          "y": 0.7257350072584998,
          "ŷ": 0.848373143935476
         },
         {
          "y": 2.18626611015656,
          "ŷ": 2.102878346023892
         },
         {
          "y": 1.6739114293459663,
          "ŷ": 1.2743030070168324
         },
         {
          "y": 0.4019963218199677,
          "ŷ": 0.4507633721698049
         },
         {
          "y": 0.5587420721471641,
          "ŷ": 0.8949817536627998
         },
         {
          "y": 1.2705276079841834,
          "ŷ": 1.3293135954303879
         },
         {
          "y": 1.7591077280146767,
          "ŷ": 1.890745519620477
         },
         {
          "y": 1.2605069883606974,
          "ŷ": 1.4246253608492503
         },
         {
          "y": 2.357016316047842,
          "ŷ": 2.329797412171696
         },
         {
          "y": 0.6765164727602277,
          "ŷ": 0.696604957568264
         },
         {
          "y": 1.7501170975189762,
          "ŷ": 1.8152950506220422
         },
         {
          "y": 0.42130946650530243,
          "ŷ": 0.8683668588832643
         },
         {
          "y": 0.13744222878648577,
          "ŷ": 0.24448255850466477
         },
         {
          "y": 0.33698100347125876,
          "ŷ": 0.6502108896661589
         },
         {
          "y": 1.1984278553243468,
          "ŷ": 1.8467488213175243
         },
         {
          "y": 2.231093920565533,
          "ŷ": 2.280433900777831
         },
         {
          "y": 0.4223169089553728,
          "ŷ": 0.5765064962657249
         },
         {
          "y": 1.0412911715331337,
          "ŷ": 1.1402746262234877
         },
         {
          "y": 1.690973152673115,
          "ŷ": 1.6180785610094481
         },
         {
          "y": 0.5164170747763801,
          "ŷ": 0.6541165458972709
         },
         {
          "y": 1.2098401322637629,
          "ŷ": 0.8928449983417908
         },
         {
          "y": 2.0101685177895137,
          "ŷ": 1.7551805436267196
         },
         {
          "y": 1.0350938636578997,
          "ŷ": 0.8752754202643969
         },
         {
          "y": 1.4339203242921759,
          "ŷ": 1.8947870781739538
         },
         {
          "y": 1.5153428848347472,
          "ŷ": 0.9692040273130447
         },
         {
          "y": 0.35159722413521854,
          "ŷ": 0.9017079827461949
         },
         {
          "y": 1.3249267911698335,
          "ŷ": 1.5536482478730291
         },
         {
          "y": 1.9773549502314347,
          "ŷ": 1.623701364713593
         },
         {
          "y": 1.1968739699369806,
          "ŷ": 1.3991171727885525
         },
         {
          "y": 0.776724072486793,
          "ŷ": 0.6737090015079157
         },
         {
          "y": 2.892020291813725,
          "ŷ": 2.5521111357604607
         },
         {
          "y": 0.6898708402144741,
          "ŷ": 0.8943498873495606
         },
         {
          "y": 1.847868828043045,
          "ŷ": 1.912529723084445
         },
         {
          "y": 1.7218139457377397,
          "ŷ": 1.7103257323228735
         },
         {
          "y": 2.010086687720275,
          "ŷ": 1.7050529529512488
         },
         {
          "y": 1.9780328584848808,
          "ŷ": 1.6568721108898532
         },
         {
          "y": 1.2624484825697102,
          "ŷ": 1.2092123014430165
         },
         {
          "y": 1.6250257817447797,
          "ŷ": 1.6965483189493753
         },
         {
          "y": 2.95844638049811,
          "ŷ": 2.619197327614709
         },
         {
          "y": 2.1329831505264036,
          "ŷ": 2.1134849480842126
         },
         {
          "y": 1.753685429171064,
          "ŷ": 1.443595495200744
         },
         {
          "y": 1.8804881944176333,
          "ŷ": 1.8943850492024066
         },
         {
          "y": 1.0835804071557869,
          "ŷ": 0.5548661533181241
         },
         {
          "y": 1.6858039626578696,
          "ŷ": 1.2102625856975213
         },
         {
          "y": 0.47659221960543985,
          "ŷ": 1.0264934541065052
         },
         {
          "y": 0.9799326661001108,
          "ŷ": 1.407387185489575
         },
         {
          "y": 1.3832171489112288,
          "ŷ": 1.3065467010719682
         },
         {
          "y": 1.6161664614228204,
          "ŷ": 1.5426458712063467
         },
         {
          "y": 2.3813210500561848,
          "ŷ": 2.1930722862567675
         },
         {
          "y": 1.3352450625128889,
          "ŷ": 1.6990077186316686
         },
         {
          "y": 0.48968552715262315,
          "ŷ": 0.6565845005120918
         },
         {
          "y": 1.6041914489561113,
          "ŷ": 1.8863981020745348
         },
         {
          "y": 2.19276173821573,
          "ŷ": 2.3923978916946247
         },
         {
          "y": 1.6424513330404589,
          "ŷ": 1.4985971549825547
         },
         {
          "y": 1.213202685667457,
          "ŷ": 1.1963204331555397
         },
         {
          "y": 1.5183353463666147,
          "ŷ": 1.8087953139566022
         },
         {
          "y": 3.1989649439807617,
          "ŷ": 2.7514027148073823
         },
         {
          "y": 1.2704336680956447,
          "ŷ": 1.5055224413784896
         },
         {
          "y": 1.1638549199148358,
          "ŷ": 1.6670197987933035
         },
         {
          "y": 1.5990389949879107,
          "ŷ": 2.0247969406146185
         },
         {
          "y": 2.2801296336401777,
          "ŷ": 1.7929960068028878
         },
         {
          "y": 2.354122484217297,
          "ŷ": 2.0297349907106668
         },
         {
          "y": 1.6691545686369706,
          "ŷ": 1.3146009376287415
         },
         {
          "y": 2.103743724098652,
          "ŷ": 1.7088736855433861
         },
         {
          "y": 1.640163449932062,
          "ŷ": 1.4708795536287886
         },
         {
          "y": 1.147046455152827,
          "ŷ": 1.1345588563264617
         },
         {
          "y": 0.22427651752790345,
          "ŷ": 0.8822668145957819
         },
         {
          "y": 1.187704423774819,
          "ŷ": 1.3213632907708248
         },
         {
          "y": 1.615987223350043,
          "ŷ": 2.059549437007226
         },
         {
          "y": 2.2034296497272337,
          "ŷ": 2.0791093970961017
         },
         {
          "y": 2.363416856382931,
          "ŷ": 2.366028277077892
         },
         {
          "y": 1.8922445626549096,
          "ŷ": 1.9078723128214767
         },
         {
          "y": 2.2089855670042384,
          "ŷ": 2.0509984573121893
         },
         {
          "y": 0.9461453585033992,
          "ŷ": 0.7628975142338994
         },
         {
          "y": 1.4322202784198523,
          "ŷ": 1.3712321661641722
         },
         {
          "y": 1.2121016684611634,
          "ŷ": 1.3262420591820865
         },
         {
          "y": 1.5077567446829396,
          "ŷ": 1.5416073387369396
         },
         {
          "y": 0.9243280724512413,
          "ŷ": 1.2965822154920195
         },
         {
          "y": 1.430981433652201,
          "ŷ": 1.2878733623415533
         },
         {
          "y": 1.6867245861034819,
          "ŷ": 1.6752239822537145
         },
         {
          "y": 1.1222006745017339,
          "ŷ": 0.955979947686405
         },
         {
          "y": 1.7766281936449904,
          "ŷ": 1.6980135740123545
         },
         {
          "y": 1.5875708068578356,
          "ŷ": 1.7889682471293025
         },
         {
          "y": 1.1586315315338882,
          "ŷ": 1.2636931843967538
         },
         {
          "y": 0.7874080712816884,
          "ŷ": 0.7998491123450784
         },
         {
          "y": 2.379674434633777,
          "ŷ": 1.7169750817055278
         },
         {
          "y": 0.7001004991227271,
          "ŷ": 0.6889084625602615
         },
         {
          "y": 1.3414105109611998,
          "ŷ": 1.3895976651419457
         },
         {
          "y": 0.9565164510543791,
          "ŷ": 0.9261439378737695
         },
         {
          "y": 0.6665169584778274,
          "ŷ": 0.7514430588343117
         },
         {
          "y": 1.3378724263305153,
          "ŷ": 1.7809222453268088
         },
         {
          "y": 1.570862135053428,
          "ŷ": 1.3440989922670332
         },
         {
          "y": 2.3464920561980573,
          "ŷ": 2.116686119923755
         },
         {
          "y": 1.8533441658836856,
          "ŷ": 2.030672892860656
         },
         {
          "y": 0.6365299879605341,
          "ŷ": 0.7012143705715557
         },
         {
          "y": 1.7837433713575341,
          "ŷ": 2.016755203900114
         },
         {
          "y": 1.1813022089876846,
          "ŷ": 1.5743725641092257
         },
         {
          "y": 1.7063515794811734,
          "ŷ": 1.6134622316781666
         },
         {
          "y": 0.9615787073192575,
          "ŷ": 1.1678705238044782
         },
         {
          "y": 0.6624429974804589,
          "ŷ": 0.7848633278255237
         },
         {
          "y": 1.5476212447165865,
          "ŷ": 1.940101775607222
         },
         {
          "y": 1.1235471759183362,
          "ŷ": 1.4229591228676863
         },
         {
          "y": 1.2365117110037318,
          "ŷ": 1.0739261075639601
         },
         {
          "y": 2.7055858806997004,
          "ŷ": 2.1922423270609595
         },
         {
          "y": 1.6403899312890753,
          "ŷ": 1.4254573019043015
         },
         {
          "y": 1.3197702657913224,
          "ŷ": 1.252314640206789
         },
         {
          "y": 1.9920592820260306,
          "ŷ": 1.86352662586076
         },
         {
          "y": 0.7532834935103666,
          "ŷ": 0.7524400248207272
         },
         {
          "y": 2.6034914293005085,
          "ŷ": 1.9703183148750745
         },
         {
          "y": 1.4757710485884568,
          "ŷ": 1.5139191437276143
         },
         {
          "y": 1.4791673651116208,
          "ŷ": 1.7342488439655261
         },
         {
          "y": 1.7169409122414592,
          "ŷ": 1.7588791443349385
         },
         {
          "y": 2.0081330537890656,
          "ŷ": 2.009475123063211
         },
         {
          "y": 1.6219918580286037,
          "ŷ": 1.7465369976927498
         },
         {
          "y": -0.0011374379727755457,
          "ŷ": 0.5059695568198108
         },
         {
          "y": 1.2055242429886286,
          "ŷ": 1.3861540002450414
         },
         {
          "y": 1.5455637006888114,
          "ŷ": 1.8021083374315436
         },
         {
          "y": 0.9436715142558447,
          "ŷ": 1.116754187406354
         },
         {
          "y": 2.6716445437103102,
          "ŷ": 2.4829691181810327
         },
         {
          "y": 0.9320623648883326,
          "ŷ": 0.7106652483793043
         },
         {
          "y": 1.7571432986694708,
          "ŷ": 1.9376998634123546
         },
         {
          "y": 1.5072145848452565,
          "ŷ": 1.3282835140996776
         },
         {
          "y": 1.4056214965178124,
          "ŷ": 1.149373466186315
         },
         {
          "y": 1.9808805417905115,
          "ŷ": 1.8027206882456146
         },
         {
          "y": 1.2916934214256792,
          "ŷ": 1.2796475522367505
         },
         {
          "y": 1.7545249578208615,
          "ŷ": 1.598873631911797
         },
         {
          "y": 1.456802100441584,
          "ŷ": 1.436518476149605
         },
         {
          "y": 2.759599400903116,
          "ŷ": 2.287721011394893
         },
         {
          "y": 0.9825430393954996,
          "ŷ": 0.9419203486826622
         },
         {
          "y": 0.972191328424347,
          "ŷ": 1.089787431068171
         },
         {
          "y": 1.9582639553991814,
          "ŷ": 1.9641200394908032
         },
         {
          "y": 1.5671121222761255,
          "ŷ": 1.5172595414834613
         },
         {
          "y": 1.4694382021483254,
          "ŷ": 1.506251898731505
         },
         {
          "y": 1.8127593606068795,
          "ŷ": 1.806571107473161
         },
         {
          "y": 2.146184495990912,
          "ŷ": 1.600484824984425
         },
         {
          "y": 2.231543950950133,
          "ŷ": 1.9343148106403476
         },
         {
          "y": 1.3243019898083093,
          "ŷ": 1.0371765555943304
         },
         {
          "y": 0.8947503750617042,
          "ŷ": 0.9165742392159877
         },
         {
          "y": 1.3561439373412352,
          "ŷ": 1.1860031865142842
         },
         {
          "y": 1.7322948765362118,
          "ŷ": 1.5556494129790857
         },
         {
          "y": 1.9158902473467319,
          "ŷ": 1.8408598031937913
         },
         {
          "y": 1.9535423543749961,
          "ŷ": 1.8827012850846185
         },
         {
          "y": 1.9849420477583715,
          "ŷ": 1.7194723130115557
         },
         {
          "y": 1.5921223690266437,
          "ŷ": 1.6942424199011605
         },
         {
          "y": 1.1809649383735803,
          "ŷ": 1.3190002621818606
         },
         {
          "y": 1.5234543145661865,
          "ŷ": 1.8172224472473737
         },
         {
          "y": 1.934541120602332,
          "ŷ": 2.117563595561753
         },
         {
          "y": 0.6765153301882884,
          "ŷ": 1.2561796941192558
         },
         {
          "y": 2.0823949792500605,
          "ŷ": 1.8964093838215246
         },
         {
          "y": 1.0093732677455671,
          "ŷ": 0.9497559498393084
         },
         {
          "y": 1.623144172222749,
          "ŷ": 1.3771026072853327
         },
         {
          "y": 1.1007676621507092,
          "ŷ": 1.213292467738751
         },
         {
          "y": 1.1421122448105483,
          "ŷ": 1.1215167332129152
         },
         {
          "y": 1.4678341786575184,
          "ŷ": 1.7288020338742458
         },
         {
          "y": 1.7769588575503126,
          "ŷ": 1.7411821576453403
         },
         {
          "y": 2.338699842343999,
          "ŷ": 2.273492715307361
         },
         {
          "y": 1.2922998874276448,
          "ŷ": 1.6774821194073135
         },
         {
          "y": 2.050553841655484,
          "ŷ": 2.2062811080954057
         },
         {
          "y": 2.1688694265220265,
          "ŷ": 2.092660129275122
         },
         {
          "y": 2.08830086247273,
          "ŷ": 1.8518847182137057
         },
         {
          "y": 0.5132427847881084,
          "ŷ": 0.7371427953906917
         },
         {
          "y": 2.04913729843971,
          "ŷ": 1.9871389860652258
         },
         {
          "y": 1.918904856485414,
          "ŷ": 2.076021818512494
         },
         {
          "y": 2.1420993130425177,
          "ŷ": 2.2130772647823918
         },
         {
          "y": 2.33210632452239,
          "ŷ": 2.177802597640341
         },
         {
          "y": 1.6059089561411986,
          "ŷ": 1.8019969370259066
         },
         {
          "y": 0.23768619923518589,
          "ŷ": 0.1985310740727359
         },
         {
          "y": 1.318481298769529,
          "ŷ": 1.4956122797111788
         },
         {
          "y": 1.125808288273298,
          "ŷ": 1.269647752014683
         },
         {
          "y": 0.7626841143547143,
          "ŷ": 1.1149540337938775
         },
         {
          "y": 1.127580009215624,
          "ŷ": 1.275901752788377
         },
         {
          "y": 1.8320126914936328,
          "ŷ": 1.8527781151849274
         },
         {
          "y": 1.531797090542556,
          "ŷ": 1.5025820685551248
         },
         {
          "y": 0.7456864878056482,
          "ŷ": 1.0901332836009714
         },
         {
          "y": 0.2403734017574994,
          "ŷ": 0.5182389364740911
         },
         {
          "y": 1.8723189525467625,
          "ŷ": 1.5120375456973052
         },
         {
          "y": 1.645921098230044,
          "ŷ": 1.7932274067594836
         },
         {
          "y": 0.18313616531873234,
          "ŷ": 0.858560268164833
         },
         {
          "y": 2.440603393568455,
          "ŷ": 2.3101328729277277
         },
         {
          "y": 0.468502838280287,
          "ŷ": 0.8023153970784216
         },
         {
          "y": 1.427739311060142,
          "ŷ": 1.5192111106856667
         },
         {
          "y": 1.6872092912642755,
          "ŷ": 1.7878438033738628
         },
         {
          "y": 0.3164768252912135,
          "ŷ": 0.556102826078601
         },
         {
          "y": 1.6703871607942433,
          "ŷ": 1.922561578973467
         },
         {
          "y": 1.647578393284407,
          "ŷ": 1.7045412962949105
         },
         {
          "y": 1.319685361615929,
          "ŷ": 1.307815858933434
         },
         {
          "y": 1.1475325284546665,
          "ŷ": 1.1659055750544987
         },
         {
          "y": 1.7411371575878174,
          "ŷ": 1.522987355085874
         },
         {
          "y": 2.0630122748320616,
          "ŷ": 1.8203538376804749
         },
         {
          "y": 1.6404320197909374,
          "ŷ": 1.4566030214535328
         },
         {
          "y": 1.8800634095314719,
          "ŷ": 1.628641314857825
         },
         {
          "y": 1.8521057640195895,
          "ŷ": 1.514435510750928
         },
         {
          "y": 1.0006877387906608,
          "ŷ": 1.073995016131378
         },
         {
          "y": 2.0593499335081,
          "ŷ": 2.195447974957142
         },
         {
          "y": 1.6863502395248073,
          "ŷ": 1.6770242523975825
         },
         {
          "y": 1.796288149383666,
          "ŷ": 1.622478987570647
         },
         {
          "y": 1.021984057399982,
          "ŷ": 0.9764775628794342
         },
         {
          "y": 1.0325368136159985,
          "ŷ": 1.52745260426836
         },
         {
          "y": 1.5673230948187005,
          "ŷ": 1.5052037161992418
         },
         {
          "y": 1.2883636757748498,
          "ŷ": 1.0873520948453665
         },
         {
          "y": 1.4391437133883975,
          "ŷ": 1.5341371808014277
         },
         {
          "y": 0.9447401876607286,
          "ŷ": 0.8961194432642763
         },
         {
          "y": 1.2960984176509316,
          "ŷ": 1.465097465308314
         },
         {
          "y": 1.8724320449942422,
          "ŷ": 1.7505242317405474
         },
         {
          "y": 1.7543110683265692,
          "ŷ": 1.8716700363234515
         },
         {
          "y": 1.8374670098693822,
          "ŷ": 1.9049803442237032
         },
         {
          "y": 1.6410977456692302,
          "ŷ": 1.2168542462448761
         },
         {
          "y": 0.9601149884679855,
          "ŷ": 1.3602955416980154
         },
         {
          "y": 1.0652532093046099,
          "ŷ": 1.2424609085631662
         },
         {
          "y": 0.9992501196636061,
          "ŷ": 1.2501887109091798
         },
         {
          "y": 2.0297315544359886,
          "ŷ": 2.3520049140620123
         },
         {
          "y": 1.6017879719678834,
          "ŷ": 1.4843242959809408
         },
         {
          "y": 1.7918126420056155,
          "ŷ": 1.5908823004878117
         },
         {
          "y": 1.847813691832564,
          "ŷ": 1.7574925096857266
         },
         {
          "y": 0.5391026075210326,
          "ŷ": 0.9285535715405797
         },
         {
          "y": 1.4921262181567996,
          "ŷ": 1.3553400134688636
         },
         {
          "y": 0.5679564944270069,
          "ŷ": 0.607541131243015
         },
         {
          "y": 2.4387263454973,
          "ŷ": 1.9225396353504738
         },
         {
          "y": 0.5497580889606308,
          "ŷ": 0.7529458398447242
         },
         {
          "y": 2.7672830932109242,
          "ŷ": 2.2952036057441823
         },
         {
          "y": 1.4967148832924364,
          "ŷ": 1.3210681427219948
         },
         {
          "y": 2.427205194019256,
          "ŷ": 2.0439000578086506
         },
         {
          "y": 1.106694214847306,
          "ŷ": 0.9620954701599613
         },
         {
          "y": 1.052327041959955,
          "ŷ": 1.3156552880010548
         },
         {
          "y": 1.119946681639431,
          "ŷ": 1.1006960084508246
         },
         {
          "y": 1.185619651160995,
          "ŷ": 0.9895014316161683
         },
         {
          "y": 0.8147803855005205,
          "ŷ": 0.7670821870266187
         },
         {
          "y": 0.7948181915719964,
          "ŷ": 1.3122316283923734
         },
         {
          "y": 1.543381708352126,
          "ŷ": 1.3012791310255158
         },
         {
          "y": 2.0036324056130796,
          "ŷ": 1.737765648906661
         },
         {
          "y": 1.6176643859280762,
          "ŷ": 1.5859344484042448
         },
         {
          "y": 1.280001583927854,
          "ŷ": 1.397516565599164
         },
         {
          "y": 1.305409614002298,
          "ŷ": 1.3754640158153417
         },
         {
          "y": 2.452147625974847,
          "ŷ": 2.0229130414766687
         },
         {
          "y": 1.221767758585341,
          "ŷ": 1.2638988514328298
         },
         {
          "y": 1.0728424008172723,
          "ŷ": 0.975337298653487
         },
         {
          "y": 1.595707504684487,
          "ŷ": 1.69641196928295
         },
         {
          "y": 0.3372620575315192,
          "ŷ": 0.4168323247102479
         },
         {
          "y": 2.765045060320719,
          "ŷ": 2.2740339394245956
         },
         {
          "y": 1.6912108247815971,
          "ŷ": 1.52121827289207
         },
         {
          "y": 1.1788340478836703,
          "ŷ": 0.8606800092032378
         },
         {
          "y": 1.365602576218949,
          "ŷ": 1.2643658911197073
         },
         {
          "y": 1.587689814024759,
          "ŷ": 1.689175352877678
         },
         {
          "y": 0.9861057826471062,
          "ŷ": 1.2164896084994405
         },
         {
          "y": 0.4320600315972266,
          "ŷ": 0.5510398326047998
         },
         {
          "y": 0.9654265963227039,
          "ŷ": 1.0747744145783862
         },
         {
          "y": 1.4145780589729269,
          "ŷ": 1.2693323515503903
         },
         {
          "y": 1.0164700577816557,
          "ŷ": 1.3151582846035665
         },
         {
          "y": 2.073418453403284,
          "ŷ": 2.1267820119451333
         },
         {
          "y": 2.321394595673287,
          "ŷ": 2.2453318298001705
         },
         {
          "y": 1.8232674897504217,
          "ŷ": 1.7731043741054844
         },
         {
          "y": 2.545072051018691,
          "ŷ": 2.375305145537339
         },
         {
          "y": 1.547092839791784,
          "ŷ": 1.4443323175686666
         },
         {
          "y": 0.8896748050124603,
          "ŷ": 1.271161664789175
         },
         {
          "y": 2.139867503710093,
          "ŷ": 1.9424076612863854
         },
         {
          "y": 1.175784621814458,
          "ŷ": 1.5272697434421425
         },
         {
          "y": 0.6769452121310032,
          "ŷ": 1.0364605146202794
         },
         {
          "y": 1.0626669798632746,
          "ŷ": 1.2844365516187575
         },
         {
          "y": 1.5430780877303008,
          "ŷ": 1.19494885604548
         },
         {
          "y": 1.572059584843279,
          "ŷ": 1.8314262547031055
         },
         {
          "y": 1.2552893289271412,
          "ŷ": 1.3499083006654031
         },
         {
          "y": 1.5203511158443934,
          "ŷ": 1.6267949719032608
         },
         {
          "y": 2.28013903877563,
          "ŷ": 2.097486107645845
         },
         {
          "y": 2.2188666790020277,
          "ŷ": 1.848935954799775
         },
         {
          "y": 1.0408112595524883,
          "ŷ": 1.181893915009406
         },
         {
          "y": 1.160852806866063,
          "ŷ": 0.708626950418463
         },
         {
          "y": 1.0543673642087203,
          "ŷ": 1.096348455145581
         },
         {
          "y": 2.152571236488255,
          "ŷ": 1.721309011628566
         },
         {
          "y": 1.1624567923583384,
          "ŷ": 1.3617227522527962
         },
         {
          "y": 1.8682349906600688,
          "ŷ": 1.5941219039832382
         },
         {
          "y": 0.8593143523650066,
          "ŷ": 1.1015999166888146
         },
         {
          "y": 1.7493062282946847,
          "ŷ": 1.184439188494436
         },
         {
          "y": 1.7987652111052932,
          "ŷ": 1.6813950101289132
         },
         {
          "y": 1.3573834019994095,
          "ŷ": 1.1803397805523315
         },
         {
          "y": 2.1529826356674033,
          "ŷ": 1.673100537137638
         },
         {
          "y": 1.717767964277657,
          "ŷ": 1.9249616035998176
         },
         {
          "y": 2.3973966624416367,
          "ŷ": 2.022787092617747
         },
         {
          "y": 1.059743319204544,
          "ŷ": 1.133860776136036
         },
         {
          "y": 1.1218294701795726,
          "ŷ": 1.1631410037103718
         },
         {
          "y": 1.1950378033083373,
          "ŷ": 1.0493454692655317
         },
         {
          "y": 1.4010450818458973,
          "ŷ": 1.4380374855209284
         },
         {
          "y": 0.6104982991209664,
          "ŷ": 1.0684760092167271
         },
         {
          "y": 1.702621051754607,
          "ŷ": 1.4861838091325321
         },
         {
          "y": 0.9200182867874505,
          "ŷ": 0.8187313566991778
         },
         {
          "y": 1.021637214309413,
          "ŷ": 0.8844617405992852
         },
         {
          "y": 0.8210803566886593,
          "ŷ": 1.0076280728548235
         },
         {
          "y": 2.0523677555460544,
          "ŷ": 2.3024258829775586
         },
         {
          "y": -0.33851889535969,
          "ŷ": 0.1406605043798503
         },
         {
          "y": 1.9161475062116593,
          "ŷ": 1.9377217871735992
         },
         {
          "y": 1.3537192591082803,
          "ŷ": 1.5152576953077184
         },
         {
          "y": 1.2232982985264549,
          "ŷ": 1.3793206956973976
         },
         {
          "y": 0.7232445556839021,
          "ŷ": 0.7639164286278952
         },
         {
          "y": 2.801296437576136,
          "ŷ": 2.645902992554867
         },
         {
          "y": 2.3845248416234988,
          "ŷ": 2.1386362388001086
         },
         {
          "y": 2.3203985753079093,
          "ŷ": 2.15190393391599
         },
         {
          "y": 1.509821857027851,
          "ŷ": 1.4996206433658998
         },
         {
          "y": 2.1485847959947586,
          "ŷ": 2.067064229133638
         },
         {
          "y": 1.4762942991158623,
          "ŷ": 1.597379251735528
         },
         {
          "y": 0.5726344189927446,
          "ŷ": 0.4524868296565699
         },
         {
          "y": 1.7111609314420813,
          "ŷ": 1.534576196573351
         },
         {
          "y": 1.1193876496406319,
          "ŷ": 1.1172035158081335
         },
         {
          "y": 1.2040163380187923,
          "ŷ": 0.9964859875129852
         },
         {
          "y": 1.398198704165973,
          "ŷ": 1.6293787294682773
         },
         {
          "y": 1.826095316772987,
          "ŷ": 1.954412795613006
         },
         {
          "y": 0.40385435355581517,
          "ŷ": 0.7577822368980385
         },
         {
          "y": 1.6601599128653803,
          "ŷ": 1.194008661846005
         },
         {
          "y": 1.327605753454282,
          "ŷ": 1.3841111088483367
         },
         {
          "y": 2.121148727465801,
          "ŷ": 1.8867669688940591
         },
         {
          "y": 2.505731727295501,
          "ŷ": 2.51736665704106
         },
         {
          "y": 1.3587275115017428,
          "ŷ": 1.018004530716321
         },
         {
          "y": 1.7348553216065652,
          "ŷ": 1.8074174352700618
         },
         {
          "y": 2.0597316621715764,
          "ŷ": 1.6870167355413954
         },
         {
          "y": 1.2118364753771869,
          "ŷ": 1.1344405060166152
         },
         {
          "y": 1.3793821103174322,
          "ŷ": 1.1401750412269724
         },
         {
          "y": 1.3656438066642158,
          "ŷ": 1.4436249951647588
         },
         {
          "y": 2.0041423871899857,
          "ŷ": 1.7194839982222794
         },
         {
          "y": 0.5643311468300375,
          "ŷ": 0.6188885041129484
         },
         {
          "y": 1.749933250611271,
          "ŷ": 1.539676868797833
         },
         {
          "y": 2.3237278585542476,
          "ŷ": 2.0259506529350566
         },
         {
          "y": 1.1612770252808438,
          "ŷ": 1.5087064531200234
         },
         {
          "y": 2.5984850652292986,
          "ŷ": 2.148563082681208
         },
         {
          "y": 1.3508087647747162,
          "ŷ": 1.6471816775066095
         },
         {
          "y": 1.640831813891213,
          "ŷ": 2.033658821208264
         },
         {
          "y": 1.7309632781523006,
          "ŷ": 1.5473888989627116
         },
         {
          "y": 0.728485773215159,
          "ŷ": 0.8801214023079202
         },
         {
          "y": 2.1417904014531066,
          "ŷ": 1.4354490293039406
         },
         {
          "y": 0.5493049495078103,
          "ŷ": 0.645037623344594
         },
         {
          "y": 1.7979873502917858,
          "ŷ": 1.951019885364124
         },
         {
          "y": 1.2168337876095017,
          "ŷ": 1.4473906088971311
         },
         {
          "y": 1.3972365237775137,
          "ŷ": 1.1556327376771147
         },
         {
          "y": 2.22652225704613,
          "ŷ": 2.192960563413387
         },
         {
          "y": 1.0268596140560744,
          "ŷ": 1.2098736254449483
         },
         {
          "y": 1.0636560586482235,
          "ŷ": 1.4320018421182616
         },
         {
          "y": 0.7851103799034509,
          "ŷ": 0.5487709776706642
         },
         {
          "y": 1.4691262176538373,
          "ŷ": 1.162620034938182
         },
         {
          "y": 1.6649636910882837,
          "ŷ": 1.6188076892977932
         },
         {
          "y": 1.9602280913066485,
          "ŷ": 2.135896619799682
         },
         {
          "y": 1.985250375763339,
          "ŷ": 1.8559119363935939
         },
         {
          "y": 1.8639158197465215,
          "ŷ": 1.6582378503840964
         },
         {
          "y": 2.101538948621167,
          "ŷ": 2.063885661023732
         },
         {
          "y": 0.8473471563338528,
          "ŷ": 1.2049933102976518
         },
         {
          "y": 1.0243195555364375,
          "ŷ": 1.6434542896645583
         },
         {
          "y": 1.3331278862220364,
          "ŷ": 1.7044612413174176
         },
         {
          "y": 1.2775449799197705,
          "ŷ": 1.0364800530868132
         },
         {
          "y": 2.271626059455152,
          "ŷ": 2.209879325167305
         },
         {
          "y": 1.8491729059207058,
          "ŷ": 1.7301103312528079
         },
         {
          "y": 1.173632694360837,
          "ŷ": 1.0114987079692004
         },
         {
          "y": 1.8706020722698917,
          "ŷ": 1.853801144586759
         },
         {
          "y": 0.8411116340420828,
          "ŷ": 1.1479063597838843
         },
         {
          "y": 1.2572081453671808,
          "ŷ": 1.4024722961329779
         },
         {
          "y": 1.786596926498536,
          "ŷ": 2.0516609240985395
         },
         {
          "y": 1.26722310226929,
          "ŷ": 1.201887394874501
         },
         {
          "y": 1.4163437219811665,
          "ŷ": 1.7038098657437895
         },
         {
          "y": 1.6766003842392412,
          "ŷ": 1.6162913816822984
         },
         {
          "y": 1.4829814693055483,
          "ŷ": 1.032105599895368
         },
         {
          "y": 1.2311438494058033,
          "ŷ": 1.0433164956507721
         },
         {
          "y": 1.0872469319211906,
          "ŷ": 1.2795201671671272
         },
         {
          "y": 2.0048717974372963,
          "ŷ": 1.7953097100116413
         },
         {
          "y": 0.76462174624719,
          "ŷ": 0.8252669101670771
         },
         {
          "y": 0.8456368941633887,
          "ŷ": 0.679384210817298
         },
         {
          "y": 1.6275466094788444,
          "ŷ": 1.6605735426774308
         },
         {
          "y": 0.8132434080679478,
          "ŷ": 0.44427997367764727
         },
         {
          "y": 2.030314411748159,
          "ŷ": 2.040124412629909
         },
         {
          "y": 1.0889422155803372,
          "ŷ": 0.9091013030123409
         },
         {
          "y": 1.3366322900060574,
          "ŷ": 1.3601057299536654
         },
         {
          "y": 2.204271258430209,
          "ŷ": 2.056263998450597
         },
         {
          "y": 1.8104349306434802,
          "ŷ": 1.776977590091093
         },
         {
          "y": 2.420018538708923,
          "ŷ": 2.420401442154021
         },
         {
          "y": 1.648558457646515,
          "ŷ": 1.5472965538286938
         },
         {
          "y": 3.0561146249512015,
          "ŷ": 2.501906133297892
         },
         {
          "y": 1.68791376083914,
          "ŷ": 1.7690358856796502
         },
         {
          "y": 0.9928407368093818,
          "ŷ": 1.1321644041309284
         },
         {
          "y": 1.0303479517370255,
          "ŷ": 1.314019004869786
         },
         {
          "y": 0.4679745483930174,
          "ŷ": 0.5895631250344275
         },
         {
          "y": 1.570847950874548,
          "ŷ": 1.88305865840953
         },
         {
          "y": 1.2136885143026381,
          "ŷ": 1.2576713819221401
         },
         {
          "y": 2.3480337774794173,
          "ŷ": 1.6613378349816748
         },
         {
          "y": 0.46116599166140154,
          "ŷ": 0.6150586490121075
         },
         {
          "y": 1.026750310208421,
          "ŷ": 1.2852419646390643
         },
         {
          "y": 1.3834174837121864,
          "ŷ": 1.4049735974741688
         },
         {
          "y": 1.8385470002369773,
          "ŷ": 1.5492662051604709
         },
         {
          "y": 1.753972239010246,
          "ŷ": 1.3291740449573741
         },
         {
          "y": 1.474106998934631,
          "ŷ": 1.6316308887599213
         },
         {
          "y": 1.0855746874961738,
          "ŷ": 1.1590543811875924
         },
         {
          "y": 0.7191502838161192,
          "ŷ": 0.5125824396105138
         },
         {
          "y": 0.8588726026596333,
          "ŷ": 1.2191377489055544
         },
         {
          "y": 1.3914585460927646,
          "ŷ": 1.0775575398298491
         },
         {
          "y": 0.23050395821546588,
          "ŷ": 1.13315512668663
         },
         {
          "y": 2.089681627911639,
          "ŷ": 2.1246214494211664
         },
         {
          "y": 0.8559718756375544,
          "ŷ": 1.0720532066831199
         },
         {
          "y": 1.7759277259274748,
          "ŷ": 1.8363541931026706
         },
         {
          "y": 1.4310812072721857,
          "ŷ": 1.4672796026939703
         },
         {
          "y": 2.111248377256621,
          "ŷ": 1.517857139907696
         },
         {
          "y": 0.7362113096933307,
          "ŷ": 1.0327733459052033
         },
         {
          "y": 1.4875939740374682,
          "ŷ": 1.5252581111471792
         },
         {
          "y": 2.302355103715977,
          "ŷ": 2.3635548266500455
         },
         {
          "y": 1.4652805242054492,
          "ŷ": 1.7427299740008217
         },
         {
          "y": 1.1994363468239562,
          "ŷ": 1.485484883498666
         },
         {
          "y": 2.6252735162229444,
          "ŷ": 2.283287477493068
         },
         {
          "y": 1.604926442546393,
          "ŷ": 1.6220118284988188
         },
         {
          "y": 1.3107737861827675,
          "ŷ": 1.0895180192641976
         },
         {
          "y": 2.0079016075243064,
          "ŷ": 2.095443712906744
         },
         {
          "y": 0.8310914764659098,
          "ŷ": 0.839396810072645
         },
         {
          "y": 1.7814847975851722,
          "ŷ": 1.8483309544673394
         },
         {
          "y": 2.0698417960424513,
          "ŷ": 1.6977947572628629
         },
         {
          "y": 1.4259975316796716,
          "ŷ": 1.7792815467595822
         },
         {
          "y": 1.3968924258517967,
          "ŷ": 1.0431543678658017
         },
         {
          "y": 1.7738020523335178,
          "ŷ": 2.2032751200705327
         },
         {
          "y": 2.238403885739646,
          "ŷ": 2.2380236792509427
         },
         {
          "y": 1.8969711083024046,
          "ŷ": 1.5838660316619133
         },
         {
          "y": 1.2412439858133775,
          "ŷ": 1.651709806184084
         },
         {
          "y": 1.5701061138697128,
          "ŷ": 1.719505653423318
         },
         {
          "y": 0.1267061873463467,
          "ŷ": 0.28930951010377715
         },
         {
          "y": 1.0921782244722962,
          "ŷ": 1.2744949476230236
         },
         {
          "y": 0.883566090641165,
          "ŷ": 1.2090510001841073
         },
         {
          "y": 1.9649768744718061,
          "ŷ": 1.7980375534067152
         },
         {
          "y": 2.2297824936262867,
          "ŷ": 1.814216576115818
         },
         {
          "y": 2.09214525176326,
          "ŷ": 2.1521756681811293
         },
         {
          "y": 2.326364399473723,
          "ŷ": 1.9659462391907765
         },
         {
          "y": 1.2648605417462473,
          "ŷ": 1.4532435369635885
         },
         {
          "y": 1.473039144053068,
          "ŷ": 1.3607324373016751
         },
         {
          "y": 2.0558017457816025,
          "ŷ": 1.581641444333673
         },
         {
          "y": 1.5621800203072904,
          "ŷ": 1.4409007506641454
         },
         {
          "y": 1.891183179182337,
          "ŷ": 1.7774121776981455
         },
         {
          "y": 2.3375465288227897,
          "ŷ": 2.27557649554336
         },
         {
          "y": 2.6338128379922936,
          "ŷ": 2.6849283802373547
         },
         {
          "y": 1.991565548237064,
          "ŷ": 2.0400475972324634
         },
         {
          "y": 2.223264817594218,
          "ŷ": 2.0553301588940793
         },
         {
          "y": 0.672581828371827,
          "ŷ": 0.5527100449966988
         },
         {
          "y": 0.9614353696091678,
          "ŷ": 1.02548285768527
         },
         {
          "y": 1.1516759087918853,
          "ŷ": 1.1289454300598152
         },
         {
          "y": 1.333598438263958,
          "ŷ": 1.5308771294658041
         },
         {
          "y": 1.5329814731825508,
          "ŷ": 1.7050208397960869
         },
         {
          "y": 1.7441633576268976,
          "ŷ": 1.8769310378227797
         },
         {
          "y": 1.5986404103152294,
          "ŷ": 1.3500511123810781
         },
         {
          "y": 0.961627468353555,
          "ŷ": 0.9857988386487639
         },
         {
          "y": 0.6898123219624652,
          "ŷ": 0.5096522530391909
         },
         {
          "y": 2.8894856416281187,
          "ŷ": 2.2085006023212737
         },
         {
          "y": 1.9118749744425307,
          "ŷ": 1.3258817383854282
         },
         {
          "y": 0.7988044868236778,
          "ŷ": 1.0349881771112628
         },
         {
          "y": 1.210964551164049,
          "ŷ": 1.4555744671581878
         },
         {
          "y": 1.645994795996854,
          "ŷ": 1.8689808521035827
         },
         {
          "y": 1.6992107744834428,
          "ŷ": 1.8248267653285686
         },
         {
          "y": 0.27164809340432555,
          "ŷ": 0.8075494627160338
         },
         {
          "y": 1.5061265037449543,
          "ŷ": 1.1141246978154435
         },
         {
          "y": 1.596687734650204,
          "ŷ": 1.359688296656866
         },
         {
          "y": 1.018078335522271,
          "ŷ": 0.7196012045910554
         },
         {
          "y": 0.6008264517713119,
          "ŷ": 0.9127425444478436
         },
         {
          "y": 1.0531301655350447,
          "ŷ": 0.8578766309101149
         },
         {
          "y": 1.030104717013257,
          "ŷ": 0.8101921983565892
         },
         {
          "y": 0.7147106784393094,
          "ŷ": 0.8562599926952281
         },
         {
          "y": 1.2273148124361974,
          "ŷ": 1.0523662959102866
         },
         {
          "y": 1.739169040430646,
          "ŷ": 1.7048818550161144
         },
         {
          "y": 1.0092712313697876,
          "ŷ": 1.0433432622334542
         },
         {
          "y": 2.0827309866963173,
          "ŷ": 2.037292758145242
         },
         {
          "y": 1.665271588611047,
          "ŷ": 1.2578530016148177
         },
         {
          "y": 0.804030013006555,
          "ŷ": 0.8721762469608696
         },
         {
          "y": 1.766208128795439,
          "ŷ": 1.7928369718262476
         },
         {
          "y": 2.3363430696940806,
          "ŷ": 2.0561589194879533
         },
         {
          "y": 1.9523308551616512,
          "ŷ": 2.1669692163209664
         },
         {
          "y": 2.184228477801312,
          "ŷ": 1.9697250906611958
         },
         {
          "y": 1.7509226623740888,
          "ŷ": 1.8776138891696277
         },
         {
          "y": 2.5680770610927697,
          "ŷ": 2.258383925577361
         },
         {
          "y": 1.3404133348902638,
          "ŷ": 1.3040574905780833
         },
         {
          "y": 1.5991298789255082,
          "ŷ": 1.4343255855378743
         },
         {
          "y": 0.8410077341398681,
          "ŷ": 1.0198051418973684
         },
         {
          "y": 1.0392538170226058,
          "ŷ": 1.1425372815699224
         },
         {
          "y": 2.1737204410745727,
          "ŷ": 2.3849746002262107
         },
         {
          "y": 0.7954096768816294,
          "ŷ": 0.9417096932350313
         },
         {
          "y": 1.7845197625809797,
          "ŷ": 1.4055521948244993
         },
         {
          "y": 1.7188123063845762,
          "ŷ": 1.7780505012265382
         },
         {
          "y": 1.4979160282761221,
          "ŷ": 1.322023442486761
         },
         {
          "y": 1.7679228660399602,
          "ŷ": 1.561259448886174
         },
         {
          "y": 2.000992584048063,
          "ŷ": 1.6269429735611707
         },
         {
          "y": 1.002666737547404,
          "ŷ": 0.8271959509216151
         },
         {
          "y": 1.8055876659485504,
          "ŷ": 1.8237785216297946
         },
         {
          "y": 2.4170832963480615,
          "ŷ": 2.1096658094488188
         },
         {
          "y": 2.1692659915620034,
          "ŷ": 1.9648785438702225
         },
         {
          "y": 1.2906489721408398,
          "ŷ": 1.5747919755958155
         },
         {
          "y": 0.8412571526447843,
          "ŷ": 0.4607901043061267
         },
         {
          "y": 1.6798403452734216,
          "ŷ": 1.5764148527101909
         },
         {
          "y": 1.9867296892212922,
          "ŷ": 1.9075244200389823
         },
         {
          "y": 0.6592130249838968,
          "ŷ": 1.0871575561184617
         },
         {
          "y": 0.49838183522315094,
          "ŷ": 0.5650023439431826
         },
         {
          "y": 1.4126427883311243,
          "ŷ": 1.8407907454425585
         },
         {
          "y": 1.3445465585896563,
          "ŷ": 1.3604660298246765
         },
         {
          "y": 2.020553812085716,
          "ŷ": 2.0499921981544715
         },
         {
          "y": 0.8043428925171958,
          "ŷ": 0.7242271035975181
         },
         {
          "y": 1.221909579095662,
          "ŷ": 1.0891286657820756
         },
         {
          "y": 2.527329027557676,
          "ŷ": 2.4948076271203212
         },
         {
          "y": 1.4220347667926114,
          "ŷ": 1.7243351994671443
         },
         {
          "y": 1.0070899958683879,
          "ŷ": 1.3357218436977467
         },
         {
          "y": 1.7766809845849625,
          "ŷ": 1.5018103862535053
         },
         {
          "y": 1.4531912867858365,
          "ŷ": 1.7595217171017263
         },
         {
          "y": 1.5497570880685385,
          "ŷ": 1.9622509212105295
         },
         {
          "y": 2.3196009310543424,
          "ŷ": 2.198569895013428
         },
         {
          "y": 0.8346789303951875,
          "ŷ": 0.9629665394698552
         },
         {
          "y": 2.486878896057857,
          "ŷ": 2.3166478834903144
         },
         {
          "y": 1.7902416274772623,
          "ŷ": 1.4158151298817925
         },
         {
          "y": 2.071550215551934,
          "ŷ": 1.3211561272874828
         },
         {
          "y": 0.8016597570589346,
          "ŷ": 1.1295165084414758
         },
         {
          "y": 2.0671803948681378,
          "ŷ": 2.6136995020165776
         },
         {
          "y": 0.8254257602551772,
          "ŷ": 0.8649117981356298
         },
         {
          "y": 1.4355167837291276,
          "ŷ": 1.7886425596430204
         },
         {
          "y": 2.594374151633406,
          "ŷ": 1.960073118889811
         },
         {
          "y": 1.773356719769653,
          "ŷ": 2.0125408625505457
         },
         {
          "y": 1.8020450255590235,
          "ŷ": 1.604427539436925
         },
         {
          "y": 1.9299014779625583,
          "ŷ": 2.064936979155742
         },
         {
          "y": 1.3214536007490718,
          "ŷ": 1.5198180915202504
         },
         {
          "y": 1.289912607954408,
          "ŷ": 1.145835279714539
         },
         {
          "y": 2.392061358362936,
          "ŷ": 2.017785351124148
         },
         {
          "y": 1.7074140923552534,
          "ŷ": 1.8834461295901084
         },
         {
          "y": 1.1095435147653498,
          "ŷ": 1.2621420676653587
         },
         {
          "y": 1.1576057816649514,
          "ŷ": 1.4130387941520006
         },
         {
          "y": 2.1052835343111553,
          "ŷ": 2.036599352770886
         },
         {
          "y": 0.7018918147086733,
          "ŷ": 0.7888615665403933
         },
         {
          "y": 1.5241471988740802,
          "ŷ": 1.4624339470656589
         },
         {
          "y": 2.0382233553270623,
          "ŷ": 1.9247235876075623
         },
         {
          "y": 0.8736023723321804,
          "ŷ": 1.0030606979429708
         },
         {
          "y": 1.8200416024172383,
          "ŷ": 1.710473961437401
         },
         {
          "y": 2.6947263216418262,
          "ŷ": 2.1451378435633037
         },
         {
          "y": 2.029038651856239,
          "ŷ": 2.249029522908247
         },
         {
          "y": 1.6136112179419957,
          "ŷ": 1.11057244585394
         },
         {
          "y": 0.8128421684550078,
          "ŷ": 0.6349514982050533
         },
         {
          "y": 1.7305803700332696,
          "ŷ": 2.027161937565008
         },
         {
          "y": 1.661323523247984,
          "ŷ": 1.642910754937888
         },
         {
          "y": 2.3984916020976095,
          "ŷ": 1.9170216530790085
         },
         {
          "y": 0.23581123125627745,
          "ŷ": 0.7516641137130673
         },
         {
          "y": 1.6517626283242315,
          "ŷ": 1.617383173797874
         },
         {
          "y": 0.6500591223699539,
          "ŷ": 0.8108291152344282
         },
         {
          "y": 1.825336777268931,
          "ŷ": 1.8976931702158257
         },
         {
          "y": 1.635989533940757,
          "ŷ": 1.5979618227886827
         },
         {
          "y": 2.5269106761978533,
          "ŷ": 2.066268561722667
         },
         {
          "y": 1.7400632969771967,
          "ŷ": 1.338308589767641
         },
         {
          "y": 1.5451205204384506,
          "ŷ": 1.6345347768513476
         },
         {
          "y": 2.2366045591710044,
          "ŷ": 2.3140237383875126
         },
         {
          "y": 0.9516767849483657,
          "ŷ": 1.228142183672204
         },
         {
          "y": 1.2743345531348254,
          "ŷ": 1.4015938964968269
         },
         {
          "y": 1.9258090536858248,
          "ŷ": 1.9350688059501158
         },
         {
          "y": 1.470705768306364,
          "ŷ": 1.3221721712060384
         },
         {
          "y": 0.7193575267354746,
          "ŷ": 1.0444567863330425
         },
         {
          "y": 1.7380100476101688,
          "ŷ": 2.0261465006319272
         },
         {
          "y": 1.1249673366473756,
          "ŷ": 1.287356022863013
         },
         {
          "y": 2.4222444488063473,
          "ŷ": 2.4337233390687754
         },
         {
          "y": 0.7608610223320834,
          "ŷ": 0.6205938564689577
         },
         {
          "y": 0.7005682272353758,
          "ŷ": 0.8889662097312927
         },
         {
          "y": 1.693476952194473,
          "ŷ": 1.938653079782647
         },
         {
          "y": 0.8282525734067351,
          "ŷ": 1.1260132374816092
         },
         {
          "y": 0.7865018348552328,
          "ŷ": 0.67658126390831
         },
         {
          "y": 0.8345510469633668,
          "ŷ": 0.6680907074464117
         },
         {
          "y": 1.1458562684859237,
          "ŷ": 1.2565374652078833
         },
         {
          "y": 1.7597033228927532,
          "ŷ": 1.9995105884324502
         },
         {
          "y": 1.6426590972414767,
          "ŷ": 1.6937630327500524
         },
         {
          "y": 1.895323679261361,
          "ŷ": 1.8841994565567448
         },
         {
          "y": 1.780646196682774,
          "ŷ": 1.9799306933942369
         },
         {
          "y": 0.9870799405362541,
          "ŷ": 1.004607519312993
         },
         {
          "y": 0.7100481782588326,
          "ŷ": 0.7636856037561466
         },
         {
          "y": 1.6966291635170334,
          "ŷ": 1.6345175380446921
         },
         {
          "y": 2.068347625346927,
          "ŷ": 2.0166162930914266
         },
         {
          "y": 2.455523278900912,
          "ŷ": 2.471977488401278
         },
         {
          "y": 1.9629514276763538,
          "ŷ": 1.8875619326474504
         },
         {
          "y": 1.4252594362609432,
          "ŷ": 1.3808944962716752
         },
         {
          "y": 1.8308050202250548,
          "ŷ": 1.5508568983279056
         },
         {
          "y": 1.8481753308963378,
          "ŷ": 1.789836821750103
         },
         {
          "y": 1.944505053388415,
          "ŷ": 1.8948619870445107
         },
         {
          "y": 1.7096569762762401,
          "ŷ": 1.7799316353732977
         },
         {
          "y": 2.3543857717194765,
          "ŷ": 2.083969737401917
         },
         {
          "y": 1.812939310051107,
          "ŷ": 1.5831213996832583
         },
         {
          "y": 2.0750103040459895,
          "ŷ": 2.0620065843493918
         },
         {
          "y": 2.0684885444648695,
          "ŷ": 1.6536049354916742
         },
         {
          "y": 1.1648826140291297,
          "ŷ": 1.3019566792088373
         },
         {
          "y": 1.0018943033625707,
          "ŷ": 1.0074508178121935
         },
         {
          "y": 1.5383456362301529,
          "ŷ": 1.3829779237861413
         },
         {
          "y": 2.3438318478242017,
          "ŷ": 2.236552021169635
         },
         {
          "y": 1.1032293130148645,
          "ŷ": 1.4524779060418807
         },
         {
          "y": 0.21826197493411603,
          "ŷ": 0.7865896489421431
         },
         {
          "y": 2.7287685960728627,
          "ŷ": 2.5986426905629334
         },
         {
          "y": 2.9060205316684766,
          "ŷ": 2.496586851959716
         },
         {
          "y": 1.090929511460701,
          "ŷ": 1.2314728885992687
         },
         {
          "y": 0.9907674101822536,
          "ŷ": 1.1298831257367221
         },
         {
          "y": 1.2418397803524375,
          "ŷ": 1.2125748519382247
         },
         {
          "y": 1.8656013007525802,
          "ŷ": 1.622207534652703
         },
         {
          "y": 0.21630449692280093,
          "ŷ": 0.519110390320876
         },
         {
          "y": 1.330614471659032,
          "ŷ": 1.6756405968905408
         },
         {
          "y": 0.8970491784863674,
          "ŷ": 1.1997955205343425
         },
         {
          "y": 1.8843616460242074,
          "ŷ": 1.919763928752857
         },
         {
          "y": 1.4095235161324988,
          "ŷ": 1.6815394692787407
         },
         {
          "y": 1.1245953681380327,
          "ŷ": 1.3803558764886206
         },
         {
          "y": 1.2933901930518128,
          "ŷ": 1.5309163366683323
         },
         {
          "y": 2.0250878260060095,
          "ŷ": 1.7275455757013352
         },
         {
          "y": 1.2302941678644164,
          "ŷ": 1.3894287855771832
         },
         {
          "y": 2.5987311692024972,
          "ŷ": 2.161951973141515
         },
         {
          "y": 0.5304476548747078,
          "ŷ": 0.9183289005694468
         },
         {
          "y": 1.3773551133242024,
          "ŷ": 1.1706285834717611
         },
         {
          "y": 1.1447395752186216,
          "ŷ": 1.0650122164431877
         },
         {
          "y": 0.7241241356981531,
          "ŷ": 0.7819161831017156
         },
         {
          "y": 2.2799734811749643,
          "ŷ": 2.2263256690178785
         },
         {
          "y": 2.017349178823818,
          "ŷ": 2.322182870249926
         },
         {
          "y": 1.2550968141227723,
          "ŷ": 1.0210098924716087
         },
         {
          "y": 1.7488698904853142,
          "ŷ": 1.8500470142376555
         },
         {
          "y": 1.963911459772207,
          "ŷ": 1.8322779298138483
         },
         {
          "y": 1.5233432823197322,
          "ŷ": 1.784589534173149
         },
         {
          "y": 1.981070703703661,
          "ŷ": 2.3691155938796062
         },
         {
          "y": 1.2891240332413842,
          "ŷ": 1.3446418370597775
         },
         {
          "y": 1.4876515739666634,
          "ŷ": 1.1970655463068705
         },
         {
          "y": 1.4943749633514858,
          "ŷ": 1.6554395383833278
         },
         {
          "y": 2.1688760898545483,
          "ŷ": 1.8746537421501737
         },
         {
          "y": 2.2153827137303983,
          "ŷ": 2.322208791812729
         },
         {
          "y": 2.0326814398975905,
          "ŷ": 1.6136906188663975
         },
         {
          "y": 1.4567428880540978,
          "ŷ": 1.6744561578880193
         },
         {
          "y": 0.732633350034577,
          "ŷ": 0.8663254668417122
         },
         {
          "y": 1.816227509007688,
          "ŷ": 1.6048424247538438
         },
         {
          "y": 1.26633556995987,
          "ŷ": 1.515999069904152
         }
        ]
       },
       "encoding": {
        "x": {
         "field": "y",
         "type": "quantitative"
        },
        "y": {
         "field": "ŷ",
         "type": "quantitative"
        }
       },
       "mark": "point"
      },
      "image/png": "[encoded data removed]",
      "text/plain": [
       "<VegaLite 3 object>\n",
       "\n",
       "If you see this message, it means the renderer has not been properly enabled\n",
       "for the frontend that you are using. For more information, see\n",
       "https://altair-viz.github.io/user_guide/troubleshooting.html\n"
      ]
     },
     "execution_count": 315,
     "metadata": {},
     "output_type": "execute_result"
    }
   ],
   "source": [
    "θ = grad_descent(lin_reg_mse_loss, grad_lin_reg_mse_loss, np.random.rand(X.shape[1]+1))\n",
    "m = LinearModel(α=θ[0], β=θ[1:])\n",
    "ŷ = m.predict(X)\n",
    "\n",
    "print\n",
    "preds = pd.DataFrame({'y':y,'ŷ':ŷ})\n",
    "alt.Chart(preds).mark_point().encode(x='y',y='ŷ')"
   ]
  },
  {
   "cell_type": "code",
   "execution_count": 316,
   "metadata": {},
   "outputs": [
    {
     "data": {
      "text/plain": [
       "array([0.07256887, 0.93959958, 0.94593482, 1.00041717])"
      ]
     },
     "execution_count": 316,
     "metadata": {},
     "output_type": "execute_result"
    }
   ],
   "source": [
    "θ"
   ]
  },
  {
   "cell_type": "markdown",
   "metadata": {},
   "source": [
    "Our predictions track very well with the observed values and the estimated parameters are close to what we put in the simulation, which means our algorithm works as intended."
   ]
  },
  {
   "cell_type": "markdown",
   "metadata": {},
   "source": [
    "#### Beyond Linear Regression"
   ]
  },
  {
   "cell_type": "markdown",
   "metadata": {},
   "source": [
    "We've been working with our linear model and MSE loss, but there's no reason not to try gradient descent on other problems. For instance, what if we want to fit a model like $\\hat y_i = \\alpha\\sin(x_i\\beta)$? And what if we want to judge the predictions not with MSE, but with mean absolute error (MAE) $L(y,\\hat y) = |y-\\hat y|$? From the point of view of gradient descent, that's all just a different machine with different knobs, totally doable! For simplicity, we'll tackle the case where there is only a single feature (i.e. $\\beta$ is a scalar, not a vector)."
   ]
  },
  {
   "cell_type": "markdown",
   "metadata": {},
   "source": [
    "First, we compose the loss with the model to get the loss as a function of the parameters: $L(\\alpha,\\beta) = \\frac{1}{n}\\sum_i|y_i-\\alpha\\sin(x_i\\beta)|$. Now we take derivatives:"
   ]
  },
  {
   "cell_type": "markdown",
   "metadata": {},
   "source": [
    "$$\n",
    "\\nabla_{\\alpha, \\beta}L \n",
    "=\n",
    "\\left[\n",
    "\\begin{array}{c}\n",
    "\\frac{\\partial L}{\\partial \\alpha} \\\\\n",
    "\\frac{\\partial L}{\\partial \\beta}\n",
    "\\end{array}\n",
    "\\right]\n",
    "= \n",
    "\\left[\n",
    "\\begin{array}{c}\n",
    "\\sum_i-\\text{sign}(y-\\alpha\\sin(x_i\\beta)) \\sin(x_i\\beta) \\\\\n",
    "\\sum_i -\\alpha \\text{sign}(y-\\alpha\\sin(x_i\\beta))(\\cos(x_i\\beta)) x_i\n",
    "\\end{array}\n",
    "\\right]\n",
    "$$"
   ]
  },
  {
   "cell_type": "markdown",
   "metadata": {},
   "source": [
    "And we code them up:"
   ]
  },
  {
   "cell_type": "code",
   "execution_count": 318,
   "metadata": {},
   "outputs": [],
   "source": [
    "X = np.random.rand(100)\n",
    "y = 5*np.sin(3*X) + np.random.rand(100)"
   ]
  },
  {
   "cell_type": "code",
   "execution_count": 319,
   "metadata": {},
   "outputs": [],
   "source": [
    "# θ=[α, β1 ... βp]\n",
    "def sin_reg_mae_loss(θ): # L(θ)\n",
    "    ŷ = θ[0]*np.sin(X*θ[1])\n",
    "    return np.mean(np.abs(y-ŷ))\n",
    "\n",
    "def grad_sin_reg_mae_loss(θ): # ∇L(θ) \n",
    "    ŷ = θ[0]*np.sin(X*θ[1])\n",
    "    dl_dα = np.mean(-np.sign(y-ŷ) * np.sin(X*θ[1]))\n",
    "    dl_dβ = np.mean(-θ[0] * np.sign(y-ŷ) * np.cos(X*θ[1]) * X)\n",
    "    return np.array([dl_dα, dl_dβ])"
   ]
  },
  {
   "cell_type": "code",
   "execution_count": 321,
   "metadata": {},
   "outputs": [
    {
     "name": "stdout",
     "output_type": "stream",
     "text": [
      "[5.48060352 2.97098603]\n"
     ]
    },
    {
     "data": {
      "application/vnd.vegalite.v3+json": {
       "$schema": "https://vega.github.io/schema/vega-lite/v3.4.0.json",
       "config": {
        "mark": {
         "tooltip": null
        },
        "view": {
         "height": 300,
         "width": 400
        }
       },
       "data": {
        "name": "data-043e140746d7e0c21686e6f8aefccd08"
       },
       "datasets": {
        "data-043e140746d7e0c21686e6f8aefccd08": [
         {
          "x": 0.5145182979594548,
          "y": 5.398556889847096,
          "ŷ": 5.475731219056062
         },
         {
          "x": 0.19055405226292832,
          "y": 3.6074599558222458,
          "ŷ": 2.9396463869096037
         },
         {
          "x": 0.819967728515988,
          "y": 4.064918174637652,
          "ŷ": 3.553619601632101
         },
         {
          "x": 0.8897108302781177,
          "y": 3.1143402512686427,
          "ŷ": 2.619236882875717
         },
         {
          "x": 0.9228449191900217,
          "y": 2.7664599470190874,
          "ŷ": 2.1334059837297374
         },
         {
          "x": 0.9484298673361974,
          "y": 1.6616411959013029,
          "ŷ": 1.743879081803403
         },
         {
          "x": 0.12481327304345324,
          "y": 2.542037044078126,
          "ŷ": 1.986052397179464
         },
         {
          "x": 0.09050841670366971,
          "y": 2.2806242039663656,
          "ŷ": 1.4560341078268555
         },
         {
          "x": 0.4092669145621204,
          "y": 5.137923731091031,
          "ŷ": 5.139116172860341
         },
         {
          "x": 0.9980471240825328,
          "y": 1.6881094654790216,
          "ŷ": 0.9618187612059143
         },
         {
          "x": 0.548562677367099,
          "y": 5.1859575407437735,
          "ŷ": 5.4710751404874705
         },
         {
          "x": 0.419695183666557,
          "y": 5.337017472161095,
          "ŷ": 5.195641047867392
         },
         {
          "x": 0.30380574079985834,
          "y": 4.84188780762901,
          "ŷ": 4.30195623603531
         },
         {
          "x": 0.696959603238514,
          "y": 4.5297946099625515,
          "ŷ": 4.8100474825019255
         },
         {
          "x": 0.47074037254282786,
          "y": 5.229088427391799,
          "ŷ": 5.399515149649118
         },
         {
          "x": 0.37601835008160656,
          "y": 4.678008058532187,
          "ŷ": 4.926257012317105
         },
         {
          "x": 0.725060759495908,
          "y": 4.440502879263777,
          "ŷ": 4.5742355518473685
         },
         {
          "x": 0.6648225039741856,
          "y": 4.599299971535641,
          "ŷ": 5.038569326555245
         },
         {
          "x": 0.496186954196702,
          "y": 5.414342268500919,
          "ŷ": 5.455035285697265
         },
         {
          "x": 0.11816043039996016,
          "y": 2.0684289368243105,
          "ŷ": 1.884707014347776
         },
         {
          "x": 0.5777523651899285,
          "y": 5.647101800017105,
          "ŷ": 5.422535577590041
         },
         {
          "x": 0.1530071837369693,
          "y": 2.347292372275586,
          "ŷ": 2.4064616825185263
         },
         {
          "x": 0.1887770329552575,
          "y": 2.6947679812983085,
          "ŷ": 2.9151850676765867
         },
         {
          "x": 0.5690762284858439,
          "y": 5.103269005255034,
          "ŷ": 5.441242190421527
         },
         {
          "x": 0.4297675366257916,
          "y": 5.36903191435786,
          "ŷ": 5.245502786019379
         },
         {
          "x": 0.09594018856929121,
          "y": 1.6394902453384508,
          "ŷ": 1.541106905931222
         },
         {
          "x": 0.583531198578047,
          "y": 5.276245927962952,
          "ŷ": 5.408075999209006
         },
         {
          "x": 0.5621741364237232,
          "y": 5.251128581244493,
          "ŷ": 5.453542382493687
         },
         {
          "x": 0.24832799043269171,
          "y": 4.278803213493433,
          "ŷ": 3.686506601989502
         },
         {
          "x": 0.19575591357473532,
          "y": 2.927570269622466,
          "ŷ": 3.010778410709113
         },
         {
          "x": 0.31570192497906957,
          "y": 4.623836901124779,
          "ŷ": 4.419257122312703
         },
         {
          "x": 0.7005214580058654,
          "y": 4.376664040106424,
          "ŷ": 4.78198053841676
         },
         {
          "x": 0.84101336194206,
          "y": 3.8923685622933295,
          "ŷ": 3.285961548278704
         },
         {
          "x": 0.9621168328055949,
          "y": 1.756811065467672,
          "ŷ": 1.5312165378169666
         },
         {
          "x": 0.7047212821849687,
          "y": 4.468724280094584,
          "ŷ": 4.74819876681321
         },
         {
          "x": 0.05521099344338931,
          "y": 1.2810755738117607,
          "ŷ": 0.8949633914967885
         },
         {
          "x": 0.3009718167156815,
          "y": 4.829604139063886,
          "ŷ": 4.2732145651109805
         },
         {
          "x": 0.2153234175189631,
          "y": 3.8054816115865426,
          "ŷ": 3.271773033348644
         },
         {
          "x": 0.24308722846446695,
          "y": 3.588536034994617,
          "ŷ": 3.6229179891666874
         },
         {
          "x": 0.4850857416927924,
          "y": 5.557168402788917,
          "ŷ": 5.434631891248311
         },
         {
          "x": 0.026623063968911342,
          "y": 0.8035531522447622,
          "ŷ": 0.43304605819664754
         },
         {
          "x": 0.057262630039648155,
          "y": 1.2805825330470095,
          "ŷ": 0.9279045304087616
         },
         {
          "x": 0.07626103056522404,
          "y": 1.3371835055051042,
          "ŷ": 1.231146101402246
         },
         {
          "x": 0.6777013385430438,
          "y": 5.337413970091819,
          "ŷ": 4.952393592155553
         },
         {
          "x": 0.9401517477755357,
          "y": 2.3673122867159204,
          "ŷ": 1.8711242067535276
         },
         {
          "x": 0.4821352765276581,
          "y": 5.780800405297273,
          "ŷ": 5.42821373368539
         },
         {
          "x": 0.9816220638479004,
          "y": 1.1622526761815655,
          "ŷ": 1.2238645471842027
         },
         {
          "x": 0.9361720494705345,
          "y": 1.7356474802019801,
          "ŷ": 1.9318990745060147
         },
         {
          "x": 0.5089694854587584,
          "y": 5.978848621522803,
          "ŷ": 5.471178432172709
         },
         {
          "x": 0.3720389096121306,
          "y": 5.082909683914358,
          "ŷ": 4.8975163368241175
         },
         {
          "x": 0.6785862953765854,
          "y": 5.062970989377591,
          "ŷ": 4.946204416756681
         },
         {
          "x": 0.4634610673097791,
          "y": 5.135172928967518,
          "ŷ": 5.377940477765574
         },
         {
          "x": 0.3797662017880168,
          "y": 4.711552521043225,
          "ŷ": 4.952695515524932
         },
         {
          "x": 0.9660967118929584,
          "y": 1.2810174946446768,
          "ŷ": 1.4688879819452023
         },
         {
          "x": 0.27614230691543085,
          "y": 4.197792189894751,
          "ŷ": 4.008671498344956
         },
         {
          "x": 0.8265918071391597,
          "y": 3.9538202845366914,
          "ŷ": 3.470824019325621
         },
         {
          "x": 0.9578989783904812,
          "y": 1.559613737081988,
          "ŷ": 1.5970381544184715
         },
         {
          "x": 0.46063033033776457,
          "y": 5.445158594476235,
          "ŷ": 5.3688708026503
         },
         {
          "x": 0.557876671408579,
          "y": 5.815606867998471,
          "ŷ": 5.460042795502515
         },
         {
          "x": 0.1959330404628684,
          "y": 3.5150342883278265,
          "ŷ": 3.013187940147983
         },
         {
          "x": 0.10480854114607985,
          "y": 1.6083905772898575,
          "ŷ": 1.6791311412089622
         },
         {
          "x": 0.343465412822229,
          "y": 4.612224289640142,
          "ŷ": 4.671301887788308
         },
         {
          "x": 0.7053489574929354,
          "y": 4.378160660101531,
          "ŷ": 4.7430863614877845
         },
         {
          "x": 0.7256092270977083,
          "y": 4.271963825270361,
          "ŷ": 4.5693103158002
         },
         {
          "x": 0.0877444273812582,
          "y": 1.8318922302276035,
          "ŷ": 1.4125973480089478
         },
         {
          "x": 0.5820694483274812,
          "y": 5.403642293251528,
          "ŷ": 5.411884326256681
         },
         {
          "x": 0.6865402686435609,
          "y": 5.219548039275864,
          "ŷ": 4.889046718310957
         },
         {
          "x": 0.6955647132390873,
          "y": 4.572673343130792,
          "ŷ": 4.820892427423426
         },
         {
          "x": 0.7262677622247705,
          "y": 4.197472411458521,
          "ŷ": 4.563380646045625
         },
         {
          "x": 0.4783042160931511,
          "y": 5.921587370738347,
          "ŷ": 5.419257688019112
         },
         {
          "x": 0.45468528021783927,
          "y": 5.413753525518469,
          "ŷ": 5.3485874609453505
         },
         {
          "x": 0.682000310231897,
          "y": 5.372623857119735,
          "ŷ": 4.922007616760625
         },
         {
          "x": 0.9038014185050974,
          "y": 2.6564581290677847,
          "ŷ": 2.4154639979026125
         },
         {
          "x": 0.8041765959595149,
          "y": 3.648480825277234,
          "ŷ": 3.745386143918772
         },
         {
          "x": 0.591494884130923,
          "y": 5.026019787662429,
          "ŷ": 5.38553846463883
         },
         {
          "x": 0.758189529291094,
          "y": 4.254923657458841,
          "ŷ": 4.25544699332751
         },
         {
          "x": 0.5834418733900372,
          "y": 5.703310574619236,
          "ŷ": 5.408311646649726
         },
         {
          "x": 0.08614882348424835,
          "y": 2.2545994205182343,
          "ŷ": 1.3874784923118881
         },
         {
          "x": 0.3972008520653675,
          "y": 4.780773980082789,
          "ŷ": 5.067562168909233
         },
         {
          "x": 0.7028602192494083,
          "y": 4.749730300710812,
          "ŷ": 4.7632599664288735
         },
         {
          "x": 0.49096661780651063,
          "y": 5.45966178523496,
          "ŷ": 5.44617844471757
         },
         {
          "x": 0.3707191374152816,
          "y": 5.337694325307362,
          "ŷ": 4.88783319271786
         },
         {
          "x": 0.0808589064577524,
          "y": 1.3801403261366394,
          "ŷ": 1.3039818517964819
         },
         {
          "x": 0.4847793453572914,
          "y": 5.618794070489109,
          "ŷ": 5.433984808995086
         },
         {
          "x": 0.8008188612326631,
          "y": 4.222362129018299,
          "ŷ": 3.785113594687638
         },
         {
          "x": 0.547482703156732,
          "y": 5.320652435872221,
          "ŷ": 5.472083463270794
         },
         {
          "x": 0.20035507657860874,
          "y": 2.915163325319232,
          "ŷ": 3.073070523582514
         },
         {
          "x": 0.3778270699837597,
          "y": 4.945278310965458,
          "ŷ": 4.9390927390016985
         },
         {
          "x": 0.49043617984083177,
          "y": 5.288236136024608,
          "ŷ": 5.445205144532615
         },
         {
          "x": 0.9713330747437334,
          "y": 1.6642616424726389,
          "ŷ": 1.386570287415811
         },
         {
          "x": 0.4242710372508324,
          "y": 5.024953305995903,
          "ŷ": 5.21887261636682
         },
         {
          "x": 0.4080743586094824,
          "y": 5.524703116506362,
          "ŷ": 5.1323367363391
         },
         {
          "x": 0.5993834280560205,
          "y": 5.3268574361667795,
          "ŷ": 5.360241414188646
         },
         {
          "x": 0.36289219230323544,
          "y": 4.661649778916112,
          "ŷ": 4.828867801305702
         },
         {
          "x": 0.05518254891630647,
          "y": 0.9984279451863993,
          "ŷ": 0.8945064487877085
         },
         {
          "x": 0.8105794241554932,
          "y": 3.767131549365735,
          "ŷ": 3.6686006132943962
         },
         {
          "x": 0.5205294701350326,
          "y": 5.0130974290836505,
          "ŷ": 5.478984074192595
         },
         {
          "x": 0.05609943548012519,
          "y": 1.074520016109643,
          "ŷ": 0.909232397209179
         },
         {
          "x": 0.5791675799780651,
          "y": 5.067917665741794,
          "ŷ": 5.41914211065101
         },
         {
          "x": 0.4162939737798499,
          "y": 5.456903539243354,
          "ŷ": 5.177750761747927
         }
        ]
       },
       "layer": [
        {
         "encoding": {
          "x": {
           "field": "x",
           "type": "quantitative"
          },
          "y": {
           "field": "y",
           "type": "quantitative"
          }
         },
         "mark": "point"
        },
        {
         "encoding": {
          "x": {
           "field": "x",
           "type": "quantitative"
          },
          "y": {
           "field": "ŷ",
           "type": "quantitative"
          }
         },
         "mark": "line"
        }
       ]
      },
      "image/png": "[encoded data removed]",
      "text/plain": [
       "<VegaLite 3 object>\n",
       "\n",
       "If you see this message, it means the renderer has not been properly enabled\n",
       "for the frontend that you are using. For more information, see\n",
       "https://altair-viz.github.io/user_guide/troubleshooting.html\n"
      ]
     },
     "execution_count": 321,
     "metadata": {},
     "output_type": "execute_result"
    }
   ],
   "source": [
    "θ = grad_descent(sin_reg_mae_loss, grad_sin_reg_mae_loss, θ=np.array([0.1,0.1]), ϵ=0.1)\n",
    "ŷ = θ[0]*np.sin(X*θ[1])\n",
    "\n",
    "print(θ)\n",
    "plot_df = pd.DataFrame({'y':y, 'x':X, 'ŷ':ŷ})\n",
    "alt.Chart(plot_df).mark_point().encode(x='x',y='y') + \\\n",
    "alt.Chart(plot_df).mark_line().encode(x='x',y='ŷ')"
   ]
  },
  {
   "cell_type": "markdown",
   "metadata": {},
   "source": [
    "You should now begin to grasp the power you have at your fingertips... "
   ]
  },
  {
   "cell_type": "markdown",
   "metadata": {},
   "source": [
    "![](https://steamuserimages-a.akamaihd.net/ugc/159157279551261206/BFA4AEC73F3B1165A1DA9EACDED6FBE9DE9213C1/)"
   ]
  },
  {
   "cell_type": "markdown",
   "metadata": {},
   "source": [
    "<div class=\"alert alert-block alert-info\">\n",
    "<b>Exercise:</b> \n",
    "\n",
    "We've only considered regression problems (continuous $y$) thus far, but we can apply gradient descent to probabilistic classification (binary $y$) too. Instead of estimating $\\hat y$, the expected value of $y$, we'll estimate $\\hat p =P(y=1)$, the probability that the outcome occurs.\n",
    "\n",
    "Using the \"cross-entropy\" loss $L(y,\\hat p) = -y \\log(\\hat p) -(1-y)\\log(1-\\hat p)$, write code that fits the following model using gradient descent: $\\hat p_i = \\sigma(X\\beta + \\alpha)$, where $\\sigma(z) = \\frac{1}{1+e^{-z}}$ is the sigmoid function. \n",
    "    \n",
    "You can either use the `grad_descent` function we've written or use your own. It may be easier to start with the univariate case where $X$ is a single column (and $\\beta$ is a scalar), then rewrite the code allowing for $X$ to have an aribrary number of columns.\n",
    "    \n",
    "What you've just done is called logistic regression!\n",
    "</div>"
   ]
  },
  {
   "cell_type": "markdown",
   "metadata": {},
   "source": [
    "## Issues with Gradient Descent"
   ]
  },
  {
   "cell_type": "markdown",
   "metadata": {},
   "source": [
    "It may seem like we can solve practically any optimization problem with gradient descent at this point, but there are a few small wrinkles. Don't worry, though, we can mostly iron them out.\n",
    "\n",
    "Let's start by looking at the sinusoidal regression problem we were just working on. We had set $\\theta=[0.1,0.1]$ to start, but what happens if we set the initial $\\theta$ to be something else?"
   ]
  },
  {
   "cell_type": "code",
   "execution_count": 324,
   "metadata": {},
   "outputs": [
    {
     "name": "stdout",
     "output_type": "stream",
     "text": [
      "[ 4.38829074 -6.89623011]\n"
     ]
    },
    {
     "data": {
      "application/vnd.vegalite.v3+json": {
       "$schema": "https://vega.github.io/schema/vega-lite/v3.4.0.json",
       "config": {
        "mark": {
         "tooltip": null
        },
        "view": {
         "height": 300,
         "width": 400
        }
       },
       "data": {
        "name": "data-7277f5a9b5b228713dce64c013205f2e"
       },
       "datasets": {
        "data-7277f5a9b5b228713dce64c013205f2e": [
         {
          "x": 0.5145182979594548,
          "y": 5.398556889847096,
          "ŷ": 1.735696958355171
         },
         {
          "x": 0.19055405226292832,
          "y": 3.6074599558222458,
          "ŷ": -4.244509179912317
         },
         {
          "x": 0.819967728515988,
          "y": 4.064918174637652,
          "ŷ": 2.580013844027095
         },
         {
          "x": 0.8897108302781177,
          "y": 3.1143402512686427,
          "ŷ": 0.645078981901312
         },
         {
          "x": 0.9228449191900217,
          "y": 2.7664599470190874,
          "ŷ": -0.3549125714212039
         },
         {
          "x": 0.9484298673361974,
          "y": 1.6616411959013029,
          "ŷ": -1.1171368137600355
         },
         {
          "x": 0.12481327304345324,
          "y": 2.542037044078126,
          "ŷ": -3.3277542818712207
         },
         {
          "x": 0.09050841670366971,
          "y": 2.2806242039663656,
          "ŷ": -2.5646111538373537
         },
         {
          "x": 0.4092669145621204,
          "y": 5.137923731091031,
          "ŷ": -1.3770509802123638
         },
         {
          "x": 0.9980471240825328,
          "y": 1.6881094654790216,
          "ŷ": -2.4762842463468533
         },
         {
          "x": 0.548562677367099,
          "y": 5.1859575407437735,
          "ŷ": 2.625669062662346
         },
         {
          "x": 0.419695183666557,
          "y": 5.337017472161095,
          "ŷ": -1.0741032975349367
         },
         {
          "x": 0.30380574079985834,
          "y": 4.84188780762901,
          "ŷ": -3.7987922609295923
         },
         {
          "x": 0.696959603238514,
          "y": 4.5297946099625515,
          "ŷ": 4.3689155583866235
         },
         {
          "x": 0.47074037254282786,
          "y": 5.229088427391799,
          "ŷ": 0.45879521294965336
         },
         {
          "x": 0.37601835008160656,
          "y": 4.678008058532187,
          "ŷ": -2.288027798856867
         },
         {
          "x": 0.725060759495908,
          "y": 4.440502879263777,
          "ŷ": 4.207807110778926
         },
         {
          "x": 0.6648225039741856,
          "y": 4.599299971535641,
          "ŷ": 4.352603461557679
         },
         {
          "x": 0.496186954196702,
          "y": 5.414342268500919,
          "ŷ": 1.2136852348794647
         },
         {
          "x": 0.11816043039996016,
          "y": 2.0684289368243105,
          "ŷ": -3.1930546729157623
         },
         {
          "x": 0.5777523651899285,
          "y": 5.647101800017105,
          "ŷ": 3.2756671065747165
         },
         {
          "x": 0.1530071837369693,
          "y": 2.347292372275586,
          "ŷ": -3.8177489563532943
         },
         {
          "x": 0.1887770329552575,
          "y": 2.6947679812983085,
          "ŷ": -4.230537706902395
         },
         {
          "x": 0.5690762284858439,
          "y": 5.103269005255034,
          "ŷ": 3.0951912584827883
         },
         {
          "x": 0.4297675366257916,
          "y": 5.36903191435786,
          "ŷ": -0.776206344802759
         },
         {
          "x": 0.09594018856929121,
          "y": 1.6394902453384508,
          "ŷ": -2.696166998749925
         },
         {
          "x": 0.583531198578047,
          "y": 5.276245927962952,
          "ŷ": 3.389408552514926
         },
         {
          "x": 0.5621741364237232,
          "y": 5.251128581244493,
          "ŷ": 2.9436738814004872
         },
         {
          "x": 0.24832799043269171,
          "y": 4.278803213493433,
          "ŷ": -4.344289414723056
         },
         {
          "x": 0.19575591357473532,
          "y": 2.927570269622466,
          "ŷ": -4.2817364640037745
         },
         {
          "x": 0.31570192497906957,
          "y": 4.623836901124779,
          "ŷ": -3.605988606240768
         },
         {
          "x": 0.7005214580058654,
          "y": 4.376664040106424,
          "ŷ": 4.357480653595237
         },
         {
          "x": 0.84101336194206,
          "y": 3.8923685622933295,
          "ŷ": 2.039502392811134
         },
         {
          "x": 0.9621168328055949,
          "y": 1.756811065467672,
          "ŷ": -1.5121271706505492
         },
         {
          "x": 0.7047212821849687,
          "y": 4.468724280094584,
          "ŷ": 4.340620762196149
         },
         {
          "x": 0.05521099344338931,
          "y": 1.2810755738117607,
          "ŷ": -1.630753533210174
         },
         {
          "x": 0.3009718167156815,
          "y": 4.829604139063886,
          "ŷ": -3.8409985370492503
         },
         {
          "x": 0.2153234175189631,
          "y": 3.8054816115865426,
          "ŷ": -4.3721193611673375
         },
         {
          "x": 0.24308722846446695,
          "y": 3.588536034994617,
          "ŷ": -4.363850788978913
         },
         {
          "x": 0.4850857416927924,
          "y": 5.557168402788917,
          "ŷ": 0.887597922632473
         },
         {
          "x": 0.026623063968911342,
          "y": 0.8035531522447622,
          "ŷ": -0.8011660227558317
         },
         {
          "x": 0.057262630039648155,
          "y": 1.2805825330470095,
          "ŷ": -1.6882300707580735
         },
         {
          "x": 0.07626103056522404,
          "y": 1.3371835055051042,
          "ŷ": -2.2029367332364918
         },
         {
          "x": 0.6777013385430438,
          "y": 5.337413970091819,
          "ŷ": 4.384987216900369
         },
         {
          "x": 0.9401517477755357,
          "y": 2.3673122867159204,
          "ŷ": -0.8731841733772429
         },
         {
          "x": 0.4821352765276581,
          "y": 5.780800405297273,
          "ŷ": 0.7999768253751954
         },
         {
          "x": 0.9816220638479004,
          "y": 1.1622526761815655,
          "ŷ": -2.05092750683602
         },
         {
          "x": 0.9361720494705345,
          "y": 1.7356474802019801,
          "ŷ": -0.7548422007345909
         },
         {
          "x": 0.5089694854587584,
          "y": 5.978848621522803,
          "ŷ": 1.580235588784387
         },
         {
          "x": 0.3720389096121306,
          "y": 5.082909683914358,
          "ŷ": -2.389916922176258
         },
         {
          "x": 0.6785862953765854,
          "y": 5.062970989377591,
          "ŷ": 4.385944522505002
         },
         {
          "x": 0.4634610673097791,
          "y": 5.135172928967518,
          "ŷ": 0.23922536733291533
         },
         {
          "x": 0.3797662017880168,
          "y": 4.711552521043225,
          "ŷ": -2.190491300284845
         },
         {
          "x": 0.9660967118929584,
          "y": 1.2810174946446768,
          "ŷ": -1.6246088949175843
         },
         {
          "x": 0.27614230691543085,
          "y": 4.197792189894751,
          "ŷ": -4.146442434536891
         },
         {
          "x": 0.8265918071391597,
          "y": 3.9538202845366914,
          "ŷ": 2.4152226706976934
         },
         {
          "x": 0.9578989783904812,
          "y": 1.559613737081988,
          "ŷ": -1.3916783060277471
         },
         {
          "x": 0.46063033033776457,
          "y": 5.445158594476235,
          "ŷ": 0.15364696713152676
         },
         {
          "x": 0.557876671408579,
          "y": 5.815606867998471,
          "ŷ": 2.845943502805594
         },
         {
          "x": 0.1959330404628684,
          "y": 3.5150342883278265,
          "ŷ": -4.282907333736417
         },
         {
          "x": 0.10480854114607985,
          "y": 1.6083905772898575,
          "ŷ": -2.9027446347250296
         },
         {
          "x": 0.343465412822229,
          "y": 4.612224289640142,
          "ŷ": -3.0642062893765827
         },
         {
          "x": 0.7053489574929354,
          "y": 4.378160660101531,
          "ŷ": 4.337787888548594
         },
         {
          "x": 0.7256092270977083,
          "y": 4.271963825270361,
          "ŷ": 4.203065814799787
         },
         {
          "x": 0.0877444273812582,
          "y": 1.8318922302276035,
          "ŷ": -2.4962750737769484
         },
         {
          "x": 0.5820694483274812,
          "y": 5.403642293251528,
          "ŷ": 3.361139320938911
         },
         {
          "x": 0.6865402686435609,
          "y": 5.219548039275864,
          "ŷ": 4.38721422047254
         },
         {
          "x": 0.6955647132390873,
          "y": 4.572673343130792,
          "ŷ": 4.372675752851756
         },
         {
          "x": 0.7262677622247705,
          "y": 4.197472411458521,
          "ŷ": 4.197293591244889
         },
         {
          "x": 0.4783042160931511,
          "y": 5.921587370738347,
          "ŷ": 0.6857155548469326
         },
         {
          "x": 0.45468528021783927,
          "y": 5.413753525518469,
          "ŷ": -0.02623451316242627
         },
         {
          "x": 0.682000310231897,
          "y": 5.372623857119735,
          "ŷ": 4.388106725001905
         },
         {
          "x": 0.9038014185050974,
          "y": 2.6564581290677847,
          "ŷ": 0.22091298762938213
         },
         {
          "x": 0.8041765959595149,
          "y": 3.648480825277234,
          "ŷ": 2.9505307864793338
         },
         {
          "x": 0.591494884130923,
          "y": 5.026019787662429,
          "ŷ": 3.537297942437884
         },
         {
          "x": 0.758189529291094,
          "y": 4.254923657458841,
          "ŷ": 3.816370079408576
         },
         {
          "x": 0.5834418733900372,
          "y": 5.703310574619236,
          "ŷ": 3.387690917068138
         },
         {
          "x": 0.08614882348424835,
          "y": 2.2545994205182343,
          "ŷ": -2.456411314784019
         },
         {
          "x": 0.3972008520653675,
          "y": 4.780773980082789,
          "ŷ": -1.7185933672292206
         },
         {
          "x": 0.7028602192494083,
          "y": 4.749730300710812,
          "ŷ": 4.348541998181741
         },
         {
          "x": 0.49096661780651063,
          "y": 5.45966178523496,
          "ŷ": 1.0611127518630608
         },
         {
          "x": 0.3707191374152816,
          "y": 5.337694325307362,
          "ŷ": -2.423314521084077
         },
         {
          "x": 0.0808589064577524,
          "y": 1.3801403261366394,
          "ŷ": -2.3221500878402854
         },
         {
          "x": 0.4847793453572914,
          "y": 5.618794070489109,
          "ŷ": 0.8785152313281617
         },
         {
          "x": 0.8008188612326631,
          "y": 4.222362129018299,
          "ŷ": 3.024949817838079
         },
         {
          "x": 0.547482703156732,
          "y": 5.320652435872221,
          "ŷ": 2.599409449079217
         },
         {
          "x": 0.20035507657860874,
          "y": 2.915163325319232,
          "ŷ": -4.310062905370563
         },
         {
          "x": 0.3778270699837597,
          "y": 4.945278310965458,
          "ŷ": -2.241143328132244
         },
         {
          "x": 0.49043617984083177,
          "y": 5.288236136024608,
          "ŷ": 1.0455295829221718
         },
         {
          "x": 0.9713330747437334,
          "y": 1.6642616424726389,
          "ŷ": -1.7707244270389584
         },
         {
          "x": 0.4242710372508324,
          "y": 5.024953305995903,
          "ŷ": -0.9393254952323753
         },
         {
          "x": 0.4080743586094824,
          "y": 5.524703116506362,
          "ŷ": -1.4112709947035778
         },
         {
          "x": 0.5993834280560205,
          "y": 5.3268574361667795,
          "ŷ": 3.6732774050770742
         },
         {
          "x": 0.36289219230323544,
          "y": 4.661649778916112,
          "ŷ": -2.617162258072742
         },
         {
          "x": 0.05518254891630647,
          "y": 0.9984279451863993,
          "ŷ": -1.6299543396634957
         },
         {
          "x": 0.8105794241554932,
          "y": 3.767131549365735,
          "ŷ": 2.804271552571698
         },
         {
          "x": 0.5205294701350326,
          "y": 5.0130974290836505,
          "ŷ": 1.9012375565118993
         },
         {
          "x": 0.05609943548012519,
          "y": 1.074520016109643,
          "ŷ": -1.6556839597414936
         },
         {
          "x": 0.5791675799780651,
          "y": 5.067917665741794,
          "ŷ": 3.304009990182457
         },
         {
          "x": 0.4162939737798499,
          "y": 5.456903539243354,
          "ŷ": -1.1735974731795913
         }
        ]
       },
       "layer": [
        {
         "encoding": {
          "x": {
           "field": "x",
           "type": "quantitative"
          },
          "y": {
           "field": "y",
           "type": "quantitative"
          }
         },
         "mark": "point"
        },
        {
         "encoding": {
          "x": {
           "field": "x",
           "type": "quantitative"
          },
          "y": {
           "field": "ŷ",
           "type": "quantitative"
          }
         },
         "mark": "line"
        }
       ]
      },
      "image/png": "[encoded data removed]",
      "text/plain": [
       "<VegaLite 3 object>\n",
       "\n",
       "If you see this message, it means the renderer has not been properly enabled\n",
       "for the frontend that you are using. For more information, see\n",
       "https://altair-viz.github.io/user_guide/troubleshooting.html\n"
      ]
     },
     "execution_count": 324,
     "metadata": {},
     "output_type": "execute_result"
    }
   ],
   "source": [
    "θ = grad_descent(sin_reg_mae_loss, grad_sin_reg_mae_loss, θ=np.array([10.0,-6.0]), ϵ=0.1)\n",
    "ŷ = θ[0]*np.sin(X*θ[1])\n",
    "\n",
    "print(θ)\n",
    "plot_df = pd.DataFrame({'y':y, 'x':X, 'ŷ':ŷ})\n",
    "alt.Chart(plot_df).mark_point().encode(x='x',y='y') + \\\n",
    "alt.Chart(plot_df).mark_line().encode(x='x',y='ŷ')"
   ]
  },
  {
   "cell_type": "markdown",
   "metadata": {},
   "source": [
    "Wow. What the heck is going on?!"
   ]
  },
  {
   "cell_type": "markdown",
   "metadata": {},
   "source": [
    "### Local Minima and Flats"
   ]
  },
  {
   "cell_type": "markdown",
   "metadata": {},
   "source": [
    "I'm going to brute-force calculate the value of the loss function and gradient over a grid of parameters and plot it, so we can \n",
    "get an idea about what that loss surface looks like. Again, the code here is less important than the picture:"
   ]
  },
  {
   "cell_type": "code",
   "execution_count": 331,
   "metadata": {},
   "outputs": [],
   "source": [
    "from itertools import product\n",
    "αs = np.arange(0,10,0.5)\n",
    "βs = np.arange(-10,10,0.5)\n",
    "params = list(product(αs, βs))\n",
    "L = [None for i in range(len(params))]\n",
    "grads = [None for i in range(len(params))]\n",
    "for i, (α, β) in enumerate(params):\n",
    "    L[i] = sin_reg_mae_loss([α, β])\n",
    "    grads[i] = 0.5*grad_sin_reg_mae_loss(np.array([α, β]))\n",
    "a,b = zip(*params)\n",
    "dL_da, dL_db = zip(*grads)\n",
    "loss_df = pd.DataFrame({'a':a, 'b':b, 'dL_da':dL_da, 'dL_db':dL_db, 'L':L})"
   ]
  },
  {
   "cell_type": "code",
   "execution_count": 332,
   "metadata": {},
   "outputs": [
    {
     "data": {
      "image/png": "[encoded data removed]"
     },
     "metadata": {},
     "output_type": "display_data"
    }
   ],
   "source": [
    "%%R -i loss_df,loss_params_trajectory\n",
    "library(tidyverse)\n",
    "library(viridis)\n",
    "\n",
    "plot = loss_df %>%\n",
    "ggplot(aes(x=a,y=b)) +\n",
    "    geom_raster(aes(fill=L)) + \n",
    "    geom_contour(aes(z=L), color='grey') +\n",
    "    scale_fill_viridis() +\n",
    "    geom_segment(aes(x=a,y=b,xend=a-dL_da,yend=b-dL_db),\n",
    "                 color = 'white',\n",
    "                 arrow = arrow(length=unit(0.05,\"cm\"), \n",
    "                             type = \"closed\")) + \n",
    "    labs(x = expression(alpha), y=expression(beta)) +\n",
    "    theme_bw() + coord_fixed()\n",
    "plot"
   ]
  },
  {
   "cell_type": "markdown",
   "metadata": {},
   "source": [
    "What's happening is that when we start at $[0.1, 0.1]$, gradient descent follows the arrows up and to the right into the pit that's centered around the $[5,3]$ minimum. But when we start at $[10,-6]$, we go left and get stuck in the trough roughly corresponding to $[4,-7]$. Either there is a small dip there that we're getting stuck in, or the surface is so near flat that the algorithm stops because the loss isn't changing enough with each step."
   ]
  },
  {
   "cell_type": "markdown",
   "metadata": {},
   "source": [
    "This is a very common problem with gradient descent methods for optimization. You are never guarenteed to find the global minimum of the loss. Greedily moving down in the steepest direction will cause the algorithm to find the bottom of a bowl, but it might not be the deepest bowl in the landscape. It's also easy to get stuck in wide plateaus or \"saddles\" since the loss can get very flat."
   ]
  },
  {
   "cell_type": "markdown",
   "metadata": {},
   "source": [
    "Before moving on to the tweaks we can make to fix this problem, I should note that there *are* optimization methods that don't rely on gradients and so are not succeptible to these problems. [Evolutionary algorithms](https://en.wikipedia.org/wiki/Evolutionary_algorithm) like [differential evolution](https://en.wikipedia.org/wiki/Differential_evolution) and [CMA-ES](https://en.wikipedia.org/wiki/CMA-ES) are good examples. But there's no free lunch: no gradients also often means a lot of \"guessing\" and slow convergence (many iterations to get to a minimum)."
   ]
  },
  {
   "cell_type": "markdown",
   "metadata": {},
   "source": [
    "### Momentum \n",
    "\n",
    "One way to fix this problem without totally giving up on gradient descent is to introduce \"momentum\". Instead of taking a step proportional to the current gradient, the idea is to average the current gradient together with the steps taken in the previous few iterations. The effect is that we retain the \"momentum\" from previous steps. Compare these animations:"
   ]
  },
  {
   "cell_type": "markdown",
   "metadata": {},
   "source": [
    "<table><tr><td><img src='http://www.eleven-lab.co.jp/blog/wp-content/uploads/2019/08/nomomentum1d.gif'></td><td><img src='http://www.eleven-lab.co.jp/blog/wp-content/uploads/2019/08/momentum1d.gif'></td></tr></table>"
   ]
  },
  {
   "cell_type": "markdown",
   "metadata": {},
   "source": [
    "On the left, standard gradient descent slows down and stop as it approaches the local minimum around $\\theta=4$. The reason is that the loss surface is flat there, so the gradient is $0$ and the parameters are unchanged. On the right, when the \"ball\" reaches the local minimum, the \"momentum\" from it's previous leftward \"motion\" carries it through the trough and into the more desirable global minimum. One downside is that convergence at the global minimum is a bit slower, since the parameters rock back and forth around the minimum due to the momentum."
   ]
  },
  {
   "cell_type": "markdown",
   "metadata": {},
   "source": [
    "Implementing momentum is not difficult- you just need to keep around the calculated values from previous iterations and apply the update something like this:"
   ]
  },
  {
   "cell_type": "markdown",
   "metadata": {},
   "source": [
    "$$\\theta \\leftarrow \\theta-\\epsilon \\nabla_\\theta L -\\frac{1}{2}\\epsilon\\nabla_\\theta L ^{(-1)}- \\frac{1}{4}\\epsilon\\nabla_\\theta L ^{(-2)}$$"
   ]
  },
  {
   "cell_type": "markdown",
   "metadata": {},
   "source": [
    "where $\\nabla_\\theta L ^{(-j)}$ is the value of gradient calculated at what the parameter was $j$ iterations ago. The exact number of terms you use and what numbers you scale them by are not terribly important, as long as the current gradient gets the most weight."
   ]
  },
  {
   "cell_type": "markdown",
   "metadata": {},
   "source": [
    "### Stochastic Gradient Descent"
   ]
  },
  {
   "cell_type": "markdown",
   "metadata": {},
   "source": [
    "The value of the gradient at a particular point depends on the data we have. The data we have is really just a sample of the data we could have. Depending on the context, you could always run another experiment or measure more times than you did, which would generate more data. That data would also be helpful in building a predictive model. So, ideally, if we had infinite data, and using a model $\\hat y_i = \\hat f_\\theta(x_i)$ we would want to minimize something like $\\frac{1}{\\infty}\\sum_i^\\infty L(y_i, \\hat f_\\theta(x_i))$. Another way of saying the same thing is that we want to minimize the *expected* loss, where the expectation is taken with respect to the full population (or distribution) of data that we could have measured: $E[L(y, \\hat f_\\theta(x))]$."
   ]
  },
  {
   "cell_type": "markdown",
   "metadata": {},
   "source": [
    "The key intuition here is that $E[L(y, \\hat f_\\theta(x))]$ is the *true* loss surface that we wish we could minimize, but all we've got to work with is $\\frac{1}{n}\\sum_i L(y_i, \\hat f_\\theta(x_i))$. So, in a sense, when we calculate the loss over our sample, it's really just a sample from a distribution of losses we could have gotten, had we had other data. In the same vein, the gradient we calculate is really just a sample from a distribution of gradients, which on average point in the direction of lowest expected loss."
   ]
  },
  {
   "cell_type": "markdown",
   "metadata": {},
   "source": [
    "The idea behind stochastic gradient is to calculate the gradient at each iteration using a random subsample of the available data instead of all of it. The full data are just one sample from the population, and we've been fine using the gradient calculated on that sample, so what's stopping us from calculating the gradient based on a sample of that sample? The effect is to introduce a little randomness to the direction we move in, which might get us \"unstuck\" from spots that might be minima or flats of $\\frac{1}{n}\\sum_i L(y_i, \\hat f_\\theta(x_i))$, but not of $E[L(y, \\hat f_\\theta(x))]$."
   ]
  },
  {
   "cell_type": "markdown",
   "metadata": {},
   "source": [
    "<div class=\"alert alert-block alert-info\">\n",
    "<b>Exercise:</b> \n",
    "\n",
    "This one is a little open-ended. See if you can implement stochastic gradient descent for the linear regression problem. You'll need to rewrite the loss and gradient functions to take (subsets of) $X$ and $y$ as inputs and the `grad_descent` function to create those random subsets at each iteration.\n",
    "</div>"
   ]
  },
  {
   "cell_type": "markdown",
   "metadata": {},
   "source": [
    "### Learning Rates and Line Searches"
   ]
  },
  {
   "cell_type": "markdown",
   "metadata": {},
   "source": [
    "I've been conspicuously silent about the learning rate $\\epsilon$ until now, but all good things must come to an end. If you go back to any of the examples and crank up $\\epsilon$, you will notice that the algorithm stops producing sensible results at some point. What happens is that the loss increases from one iteration to the next, so the condition in the `while` loop is not satisfied and the algorithm stops. Why does this happen? Aren't we guarenteed to be going in a direction that shrinks the loss? Well, yes, the direction we're going in is gaurenteed to shrink the loss, but we may be taking too big of a step in that direction. Consider the following figure (they call the learning rate $\\alpha$ instead of $\\epsilon$):\n",
    "\n",
    "![](https://miro.medium.com/max/800/0*00BrbBeDrFOjocpK.)"
   ]
  },
  {
   "cell_type": "markdown",
   "metadata": {},
   "source": [
    "That should give you pretty much all the intuition you need about learning rates."
   ]
  },
  {
   "cell_type": "markdown",
   "metadata": {},
   "source": [
    "So what can be done about it? Do we have to re-run the model with decreasing learning rate until it converges? \n",
    "\n",
    "That's certainly one option, but most optimizers that are based on gradient descent employ some kind of *line search* to dynamically pick the step size at each iteration. It's called a line search because we know which direction to go in (the negative gradient), but we want to search along that line to find the step size that will decrease the loss and not badly overshoot the minimum. One way to do that is to start with a big learning rate and calculate the loss we would attain if we applied the gradient update- if it's bigger than the current loss, halve the learning rate and try again. That's called a [*backtracking line search*](https://www.cs.cmu.edu/~ggordon/10725-F12/scribes/10725_Lecture5.pdf), but there are other alternatives as well. "
   ]
  },
  {
   "cell_type": "markdown",
   "metadata": {},
   "source": [
    "## Don't Try This at Home (or do?)"
   ]
  },
  {
   "cell_type": "markdown",
   "metadata": {},
   "source": [
    "To conclude, gradient descent is an extremely powerful method that in its many variations gets used under the hood of an enormous number of machine learning methods, ranging from the smallest linear regression to the mightiest neural network. Understanding how it works gives you a deeper insight for how machine learning models are fit- it all boils down to jiggling the knobs on a big complex machine until the noise you don't like goes away. \n",
    "\n",
    "Understanding how models are fit also gives you better insight for how to interpret them, which is to say, it's usually better not to. You never know \"why\" the particular configuration of the knobs made the noise go away. And it doesn't even matter if you assumed the correct model or if you assumed something totally ridiculous. The optimizer (e.g. gradient descent) looks for parameters that make the model \"fit\". It doesn't care whether or not that model reflects reality or not.\n",
    "\n",
    "Unless you're researching a new kind of machine learning method or solving a different optimization problem, you will probably never have to use gradient descent algorithms directly. But if you do, the good news is that you don't need to re-implement gradient descent or any of its relatives if you want to use them- there are hundreds of high-quality \"solvers\" (e.g. [IPOPT](https://en.wikipedia.org/wiki/IPOPT)) available for different kinds of optimization problems. These can be a little tricky to figure out, but it's better than trying to implement and debug your own custom software. These solvers and [other methods you might hear about like Adam or RMSprop](https://ruder.io/optimizing-gradient-descent/) often have lots of bells and whistles. But now that you understand gradient descent, you will be well-positioned to understand the differences between those methods, whether or not those difference actually matter, and how to set reasonable values for any hyperparameters they might throw at you."
   ]
  },
  {
   "cell_type": "code",
   "execution_count": null,
   "metadata": {},
   "outputs": [],
   "source": []
  }
 ],
 "metadata": {
  "kernelspec": {
   "display_name": "Python 3",
   "language": "python",
   "name": "python3"
  },
  "language_info": {
   "codemirror_mode": {
    "name": "ipython",
    "version": 3
   },
   "file_extension": ".py",
   "mimetype": "text/x-python",
   "name": "python",
   "nbconvert_exporter": "python",
   "pygments_lexer": "ipython3",
   "version": "3.7.3"
  }
 },
 "nbformat": 4,
 "nbformat_minor": 4
}
