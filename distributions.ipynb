{
 "cells": [
  {
   "cell_type": "markdown",
   "metadata": {},
   "source": [
    "# Peeling back the curtain"
   ]
  },
  {
   "cell_type": "markdown",
   "metadata": {},
   "source": [
    "Statistics (of which machine learning is one part) is all about being able to make inferences about how the world works, given some data. In essence, trying to peel back the curtain on what is unknown. To be able to do that, we need a way to talk about what data are, and a way to talk about what could be behind that curtain."
   ]
  },
  {
   "cell_type": "markdown",
   "metadata": {},
   "source": [
    "## Talking about data"
   ]
  },
  {
   "cell_type": "markdown",
   "metadata": {},
   "source": [
    "Let's say we observe 1000 patients in a hospital, each of whom has measurements of their pre-treatment blood pressure, heart rate, etc. and also their corresponding blood pressure after taking a drug. For a new patient who walks in the door, given their current vital signs, can we predict their post-treatment blood pressure? \n",
    "\n",
    "We need a way to talk abstractly about the data in these kinds of problems so that we can apply the same methods to different problems without having to completely rethink our approach every time.\n",
    "\n",
    "We're going to use a subscript $i$ to refer to data about the $i$th patient. So, for example, if $z$ were some measurement we made on all patients, $z_i$ would be the value of that measurement for the $i$th patient. The patient in our example is what we call the *unit of observation*. But if we were talking about classifying pictures as having cats or not having cats in them, the unit of observation would be the picture. So, in general, the subscript $i$ refers to the $i$th observation in the dataset, which could be a patient, a photograph, a credit card transaction, etc. \n",
    "\n",
    "The total number of observations is usually called $n$, so $i$ could stand for any number between 1 and $n$. A shorter way to write that is $i \\in \\{1, 2, \\dots n\\}$. You can read $\\in$ as \"in\", so this says \"$i$ is a number in the set of numbers that includes 1, 2, ... all the way up to $n$\". We'll use that notation for other things as well.\n",
    "\n",
    "We usually use the variable $y$ to refer to the measurement we are trying to predict, which is in this case the patient's post-treatment blood pressure. You'll most often see $y$ called the *target*, *label*, or *outcome*. Using our observation subscripts, $y_1$ would be the first patient's post-treatment blood pressure, $y_2$ would be the second patient's blood pressure, etc. \n",
    "\n",
    "We can do the same thing for the other measurements, which are called *predictors*, *features*, or *covariates*. We could use different letters for each predictor, e.g. pre-treatment blood pressure would be $z$, pre-treatment heart rate would be $x$, but the standard practice is to call them all \"$x$\", but subscript them with an index $j$ (different than the index $i$ that refers to the unit of observation). So, in our example, we'll say $x_{i1}$ is patient $i$'s pre-treatment blood pressure, $x_{i2}$ is their pre-treatment heart rate, etc. We will use $p$ to refer to the number of predictors we have for each observation, so $j \\in \\{1 \\dots p\\}$. We'll use $x_i$ to refer to a list of all of the features for observation $i$:\n",
    "\n",
    "$$\n",
    "x_i = \n",
    "\\left[\n",
    "\\begin{array}{cccc}\n",
    "x_{i1} & x_{i2} & \\cdots & x_{ip}\n",
    "\\end{array}\n",
    "\\right] \n",
    "$$\n",
    "\n",
    "\n",
    "Now each observation is decribed by its target $y_i$ and its vector of predictors $x_i$. We stack these measurements together into lists of outcomes and predictors so we can refer to all of them at once:\n",
    "\n",
    "$$\n",
    "X = \n",
    "\\left[\n",
    "\\begin{array}{c}\n",
    "x_1 \\\\ x_2 \\\\ \\vdots \\\\ x_n\n",
    "\\end{array}\n",
    "\\right] \n",
    "=\n",
    "\\left[\n",
    "\\begin{array}{cccc}\n",
    "x_{11} & x_{12} & \\cdots & x_{1p} \\\\\n",
    "x_{21} & x_{22} & \\cdots & x_{2p} \\\\\n",
    "\\vdots & & \\ddots & \\vdots \\\\\n",
    "x_{n1} & x_{n2} & \\cdots & x_{np} \n",
    "\\end{array}\n",
    "\\right]\n",
    "\\quad\n",
    "Y = \n",
    "\\left[\n",
    "\\begin{array}{c}\n",
    "y_1 \\\\ y_2 \\\\ \\vdots \\\\ y_n\n",
    "\\end{array}\n",
    "\\right] \n",
    "$$\n",
    "\n",
    "You may recall that ordered lists of numbers are also called *vectors*, and a list of lists of numbers (like $X$) can be written as a *matrix*. These are the terms we'll use going forward. \n",
    "\n",
    "Note that each column of $X$ (which we'll call $x_{:j}$) is a vector that contains every measurement of the $j$th feature."
   ]
  },
  {
   "cell_type": "markdown",
   "metadata": {},
   "source": [
    "Now we can formalize our learning problem in the abstract. All the measurements for the existing patients are contained in the matrix of predictors $X$ and the vector of targets $Y$. A new patient walks in the door (patient #$n+1$), and we measure all their predictors $x_{n+1}$. What we don't observe, but want to estimate, is the value of their target, $y_{n+1}$."
   ]
  },
  {
   "cell_type": "markdown",
   "metadata": {},
   "source": [
    "### Example in Code"
   ]
  },
  {
   "cell_type": "markdown",
   "metadata": {},
   "source": [
    "We'll make some fake data in python to demonstrate. The `numpy` library is used to represent vectors and matrices in python."
   ]
  },
  {
   "cell_type": "markdown",
   "metadata": {},
   "source": [
    "Here are all the predictors and outcomes for $n$ observations (e.g. pre-treatment measurements and post-treatment blood pressure for $n$ patients):"
   ]
  },
  {
   "cell_type": "code",
   "execution_count": 2,
   "metadata": {},
   "outputs": [
    {
     "data": {
      "text/plain": [
       "(array([[0.47153749, 0.86663385],\n",
       "        [0.89570609, 0.73965225],\n",
       "        [0.93524577, 0.15338903],\n",
       "        [0.41001398, 0.72286359],\n",
       "        [0.95299513, 0.23544187]]),\n",
       " array([0.10518195, 0.60146196, 0.09063815, 0.54558473, 0.42226354]))"
      ]
     },
     "execution_count": 2,
     "metadata": {},
     "output_type": "execute_result"
    }
   ],
   "source": [
    "import numpy as np\n",
    "n = 5 # 5 observations\n",
    "p = 2 # 2 features\n",
    "X = np.random.rand(n,p) # a random matrix of numbers between 0 and 1. \n",
    "Y = np.random.rand(n)\n",
    "X, Y"
   ]
  },
  {
   "cell_type": "markdown",
   "metadata": {},
   "source": [
    "And here are the predictors for a new observation (e.g. the pre-treatment measurements for a new patient)"
   ]
  },
  {
   "cell_type": "code",
   "execution_count": 3,
   "metadata": {},
   "outputs": [
    {
     "data": {
      "text/plain": [
       "array([[0.81766611, 0.8542249 ]])"
      ]
     },
     "execution_count": 3,
     "metadata": {},
     "output_type": "execute_result"
    }
   ],
   "source": [
    "x_new = np.random.rand(1,p)\n",
    "x_new"
   ]
  },
  {
   "cell_type": "markdown",
   "metadata": {},
   "source": [
    "What we want is an algorithm that takes any values of `x_new` and uses all the data in `X` and `Y` to output an prediction for what `y_new` should be:"
   ]
  },
  {
   "cell_type": "code",
   "execution_count": 4,
   "metadata": {},
   "outputs": [],
   "source": [
    "def fancy_machine_learning_prediction(x_new):\n",
    "    # ... do some stuff with X and Y\n",
    "    return y_new_estimated"
   ]
  },
  {
   "cell_type": "code",
   "execution_count": 5,
   "metadata": {},
   "outputs": [],
   "source": [
    "### Aside about non-tabular data, feature engineering, and methods for nontabular data"
   ]
  },
  {
   "cell_type": "markdown",
   "metadata": {},
   "source": [
    "## What's behind the curtain?"
   ]
  },
  {
   "cell_type": "markdown",
   "metadata": {},
   "source": [
    "In the example above, we demonstrated some code that generates fake data $X$ and $Y$. On the other hand, real data comes from the real world, not from some python code. For every dataset, there is an immensely complex network of causal interactions that ultimately \"produces\" the data. \n",
    "\n",
    "For example, in our blood pressure example, a patient's pre-treatment vital signs are caused by their physiological state: their genetics, life history, what they ate for breakfast that morning, whether or not they just ran up a flight of stairs, and so on and so forth. Taking a drug influences the levels of certain chemicals in the blood, which are taken up at particular rates in certain organs by certain enzymes, the levels of which are impacted by the patient's genetics and prior physiological state, which was influenced by their life history, etc. Thus the impact of the drug on cellular processes is mediated by these factors. The cells respond by increasing or decreasing their production of some proteins or metabolites, which, in combination with the immediate condition of the patient when the measurement is taken, determines the post-treatment blood pressure. \n",
    "\n",
    "Or, let's say we're trying to determine whether or not there is a cat in a photograph. The cat being in front of the camera when the photo was taken ($y_i$) could be caused by a huge number of factors, and the values of the pixels in the photograph ($x_i$) are caused by the reflection of photons emitted from sources of light off the cat (and other objects) and the mechanics of the detection of light inside the camera.\n",
    "\n",
    "In a nutshell, the world is complicated. There is no way that mere mortals could ever write code accurate enough to perfectly simulate the exact processes that produce data about complex real-world phenomena.\n",
    "\n",
    "But, despite the complexity, you should start thinking about that complex web of causality as \"code\" that's being run in some cosmic simulation. Maybe you can imagine that there are \"data gods\" that write and are running this code. We'll never see their code, and we'll never be able to understand it, but somewhere, out there, that metaphysical code is running, and it's generating the observations that we see in our data."
   ]
  },
  {
   "cell_type": "markdown",
   "metadata": {},
   "source": [
    "You can think of that code as a little \"factory\" that pumps out observations of $x_i$ and $y_i$, one at a time. The factory is behind a curtain that we can't ever look behind, but we can see the pile of $x_i$s and $y_i$s that come out of it, which are our $X$ and $Y$."
   ]
  },
  {
   "cell_type": "code",
   "execution_count": 6,
   "metadata": {},
   "outputs": [],
   "source": [
    "### Figure of factory and curtain and boxes 🏭 📦 📦 "
   ]
  },
  {
   "cell_type": "markdown",
   "metadata": {},
   "source": [
    "If we had that code, we'd be able to reverse engineer it to predict $y_i$ given $x_i$ as accurately as would be \n",
    "possible with those predictors. In practice, however, we can only build a *model* of that code. Our model will never capture the complexities of reality, the same way that a model plane doesn't even begin to approach the complexity of a real aircraft. But, ideally, it will be similar enough in ways that are important for the task at hand: if we're using a model plane just to demonstrate what an aircraft migth look like, we don't need the model to have functioning jet engines. And if all we need to do is predict $y_i$ for a new $x_i$, we don't exactly need to understand the complex web of causality linking the two together."
   ]
  },
  {
   "cell_type": "markdown",
   "metadata": {},
   "source": [
    "We do, however, need a way to talk about the relationship that $x_i$ and $y_i$ might have. And to do that, we need a way to talk abstractly about the \"code\" or \"data factory\" that's behind the curtain, the same way we developed abstract terms to describe our data. Thankfully, the language of probability works perfectly for that."
   ]
  },
  {
   "cell_type": "markdown",
   "metadata": {},
   "source": [
    "## Random variables are factories that generate data"
   ]
  },
  {
   "cell_type": "markdown",
   "metadata": {},
   "source": [
    "The data factories we're interested in are the kind that output $x_i$s and $y_i$s, but to understand how these factories work it's better to consider a simpler factory that produces one number at a time, instead of one vector $x_i$ and one number $y_i$. \n",
    "\n",
    "We'll call our factory $\\mathbf z$. This factory pushes out one value $z_i$ at a time. Furthermore, let's say that half the time you get a $1$ and half the time you get a $0$; those are the only values that the $\\mathbf z$ factory can produce. And the factory is built to reset itself between producing each value, so whatever $z_i$ is has no impact on $z_{i+1}$."
   ]
  },
  {
   "cell_type": "markdown",
   "metadata": {},
   "source": [
    "In the language of probability theory, $z_i$ are *realizations* from the *random variable* $\\mathbf Z$, which has a *distribution*:\n",
    "\n",
    "$$\n",
    "\\begin{array}{rcl}\n",
    "P(\\mathbf Z = 0) &=& 1/2 \\\\ \n",
    "P(\\mathbf Z = 1) &=& 1/2\n",
    "\\end{array}\n",
    "\\quad \\quad \\text{or} \\quad \\quad\n",
    "P(\\mathbf Z=z) =\n",
    "\\begin{cases}\n",
    "1/2 & \\text{for }z=0 \\\\\n",
    "1/2 & \\text{for }z=1\n",
    "\\end{cases}\n",
    "$$"
   ]
  },
  {
   "cell_type": "markdown",
   "metadata": {},
   "source": [
    "What we've been loosely calling a \"factory\" is a *random variable* in the language of probability theory. But that's just a name. You can keep thinking of them as factories, or code, that generate data."
   ]
  },
  {
   "cell_type": "markdown",
   "metadata": {},
   "source": [
    "<div class=\"alert alert-block alert-warning\">\n",
    "<b>Note:</b> \n",
    "Random variables are often written in uppercase, (e.g. Z) and their realizations in lowercase (z). We're going to be using uppercase for matrices (and sets), so I'm going to use boldface in conjunction with uppercase ($\\mathbf Z$) to denote random variables.\n",
    "</div>"
   ]
  },
  {
   "cell_type": "markdown",
   "metadata": {},
   "source": [
    "Ok, so if the random variable is a factory, and the realizations of the random variable are the output of that factory (the data we get to see), then how do we read a statement like $P(\\mathbf Z = 0) = 1/2$? Well, that just means that the value $z$ that $\\mathbf Z$ produces is $0$ half of the time. But what exactly do we mean by \"half the time\"? While we usually don't have to think deeper than this, you'll see later that it is sometimes necessary to have a more rigorous definition of probability."
   ]
  },
  {
   "cell_type": "markdown",
   "metadata": {},
   "source": [
    "<div class=\"alert alert-block alert-info\">\n",
    "<b>Exercise:</b> \n",
    "\n",
    "Remember that the entire purpose of talking about these factories is so that we can imagine what's behind the curtain, producing the data that we observe. Think of a real-world scenario where we collect data that we could imagine that our random variable $\\bf Z$ is producing. In other words, what's something we could measure in the real world that we might model using $\\bf Z$?\n",
    "    \n",
    "</div>"
   ]
  },
  {
   "cell_type": "markdown",
   "metadata": {},
   "source": [
    "Let's build that definition. We'll start with some raw materials. All factories have raw materials that go into them, which end up being turned into the finished product. In a similar way, random variables have inputs which get mapped to realized values. We'll call them \"data ore\": the unrefined precursor that gets transformed by our factory (random variable $\\mathbf Z$)into the data product $z$. The data ore exists in units (data ore nuggets). The factory takes one nugget at a time and transforms it into a value.\n",
    "\n",
    "The nuggets are kept in an big silo called $\\Omega$ before they go to $\\mathbf Z$. This silo is filled to the brim with *all* of the possible nuggets that could be fed into the factory, one of each of them. It's also a magic silo, so when you take out a nugget, another one exactly like it is mined out of the depths of the cosmos to take its place in the silo."
   ]
  },
  {
   "cell_type": "markdown",
   "metadata": {},
   "source": [
    "Each nugget is gets transformed into a value of $z$, but the process isn't random. For instance, if a nugget named \"Karl\" turned into a 1 when fed through $\\mathbf Z$, then we would *always* get a 1 when Karl goes into $\\mathbf Z$. But we know that sometimes $\\mathbf Z$ produces 0s, so there must be other nuggets whose destiny is to become 0s, just like Karl's destiny is to be a 1. The \"randomness\" in $\\mathbf Z$ isn't caused by what's in the factory, it's caused by randomly picking a nugget to throw into it."
   ]
  },
  {
   "cell_type": "markdown",
   "metadata": {},
   "source": [
    "We can even code up our little example, imagining that we have 10 nuggets, boringly named \"0\", \"1\", \"2\"... \"9\":"
   ]
  },
  {
   "cell_type": "code",
   "execution_count": 178,
   "metadata": {},
   "outputs": [],
   "source": [
    "def Z(ω): # factory (random variable)\n",
    "    if ω in set([1,4,5,8,9]): # these are the outcomes (nuggets) that map to the value 1 \n",
    "        return 1\n",
    "    if ω in set([0,2,3,6,7]): # these are the outcomes (nuggets) that map to the value 0 \n",
    "        return 0\n",
    "Z.Ω = set([0,1,2,3,4,5,6,7,8,9]) # sample space (silo) of outcomes (ore nuggets) attached to Z\n",
    "    \n",
    "import random\n",
    "def realize(rand_var): # run the assembly line!\n",
    "    ω = random.sample(rand_var.Ω, 1).pop() # grab a single nugget out of the silo at random\n",
    "    return rand_var(ω) # push it through the factory"
   ]
  },
  {
   "cell_type": "markdown",
   "metadata": {},
   "source": [
    "Here are 20 observations $z=[z_1, z_2, \\dots z_{20}]$, fresh off the assembly line of the $\\mathbf Z$ factory:"
   ]
  },
  {
   "cell_type": "code",
   "execution_count": 179,
   "metadata": {},
   "outputs": [
    {
     "data": {
      "text/plain": [
       "[0, 1, 0, 1, 1, 1, 1, 1, 0, 1, 1, 0, 1, 0, 1, 0, 0, 1, 1, 0]"
      ]
     },
     "execution_count": 179,
     "metadata": {},
     "output_type": "execute_result"
    }
   ],
   "source": [
    "z = [realize(Z) for i in range(20)] \n",
    "z"
   ]
  },
  {
   "cell_type": "markdown",
   "metadata": {},
   "source": [
    "<div class=\"alert alert-block alert-warning\">\n",
    "<b>Note:</b> \n",
    "\n",
    "You may sometimes also see notation like $\\mathbf Z_i \\overset{IID}{\\sim} \\mathbf Z$. This means that $\\mathbf Z_i$ is basically a copy of the factory $\\mathbf Z$ (we say $\\mathbf z_i$ are <i>independent and identically distributed</i>, or IID). \n",
    "    \n",
    "$z_i$ is now the single product of the $i$th factory $\\mathbf Z_i$ instead of the $i$th product of the one factory $\\mathbf Z$. To get our data $z = [z_1, z_2, \\dots z_n]$, we run each factory once, instead of running the prototype factory $\\mathbf Z$ $n$ times. As far as the data you get are concerned, there's no difference between doing it one way or the other, but you should be familiar with the $\\mathbf Z_i \\overset{IID}{\\sim} \\mathbf Z$ notation.\n",
    "   \n",
    "Here's the equivalent code:\n",
    "```\n",
    "Zs = [Z for i in range(5)] # Z_i ~IID~ Z\n",
    "z = [realize(Zi, Ω) for Zi in Zs] # sample once from each Z_i\n",
    "```\n",
    "</div>"
   ]
  },
  {
   "cell_type": "code",
   "execution_count": 180,
   "metadata": {},
   "outputs": [],
   "source": [
    "# another picture of the factory, the silo, data nuggets, z, etc."
   ]
  },
  {
   "cell_type": "markdown",
   "metadata": {},
   "source": [
    "Now we're ready to define probability: the probability of an *event* (a value $z$) is just the proportion of the silo that's taken up by nuggets that are destined to become that value $z$ when fed through $\\mathbf Z$. That's it. We denote that proportion with the notation $P(\\mathbf Z = z)$. In our example above, saying $P(\\mathbf Z = 1) = 1/2$ means that half of all the possible nuggets that could go into $\\mathbf Z$ would produce a 1."
   ]
  },
  {
   "cell_type": "markdown",
   "metadata": {},
   "source": [
    "That's a definition we can code up:"
   ]
  },
  {
   "cell_type": "code",
   "execution_count": 181,
   "metadata": {},
   "outputs": [],
   "source": [
    "def P(rand_var, realization):\n",
    "    A = set(ω for ω in rand_var.Ω if rand_var(ω) in realization) # what are all the nuggets that map to the value(s) in question?\n",
    "    return len(A)/len(rand_var.Ω) # what is the \"volume\" of those nuggets relative to the volume of the silo Ω?"
   ]
  },
  {
   "cell_type": "code",
   "execution_count": 182,
   "metadata": {},
   "outputs": [
    {
     "data": {
      "text/plain": [
       "(0.5, 0.5)"
      ]
     },
     "execution_count": 182,
     "metadata": {},
     "output_type": "execute_result"
    }
   ],
   "source": [
    "P(Z,[0]), P(Z,[1]) # P(z=0), P(z=1)"
   ]
  },
  {
   "cell_type": "markdown",
   "metadata": {},
   "source": [
    "So to build a factory that makes 0s and 1s in even proportions, all I had to do was evenly split up the number of nuggets that are destined to produce each value. It also doesn't matter what I call the nuggets. For example, here is equally good code to implement $\\mathbf Z$:"
   ]
  },
  {
   "cell_type": "code",
   "execution_count": 183,
   "metadata": {},
   "outputs": [
    {
     "data": {
      "text/plain": [
       "[0, 0, 1, 0, 1, 1, 0, 0, 1, 0, 1, 1, 0, 1, 0, 0, 1, 1, 0, 0]"
      ]
     },
     "execution_count": 183,
     "metadata": {},
     "output_type": "execute_result"
    }
   ],
   "source": [
    "def Z(ω): # factory (random variable)\n",
    "    if ω in set([-1234]): # these are the outcomes (nuggets) that map to the value 1 \n",
    "        return 1\n",
    "    if ω in set([980123]): # these are the outcomes (nuggets) that map to the value 0 \n",
    "        return 0\n",
    "Z.Ω = set([980123, -1234]) # sample space (silo) of outcomes (ore nuggets) attached to Z\n",
    "\n",
    "[realize(Z) for i in range(20)] "
   ]
  },
  {
   "cell_type": "markdown",
   "metadata": {},
   "source": [
    "<div class=\"alert alert-block alert-info\">\n",
    "<b>Exercise:</b> \n",
    "\n",
    "Write code for a new random variable $\\mathbf W$ that behaves like this:\n",
    "    \n",
    "$$\n",
    "P(\\mathbf W=w) =\n",
    "\\begin{cases}\n",
    "0.1 \\dots  & \\text{for }w=-1 \\\\\n",
    "0.4 \\dots & \\text{for }w=0 \\\\\n",
    "0.2 & \\text{for }w=1 \\\\\n",
    "0.3 & \\text{for }w=2\n",
    "\\end{cases}\n",
    "$$\n",
    "    \n",
    "You'll need to make your own nugget silo `Ω` and define the function `W(ω)`. Test it out using the `realize()` and `P()` functions we wrote. Use `P()` to calculate $P(\\mathbf W \\in \\{-1,0\\})$.\n",
    "    \n",
    "</div>"
   ]
  },
  {
   "cell_type": "markdown",
   "metadata": {},
   "source": [
    "![](https://encrypted-tbn0.gstatic.com/images?q=tbn:ANd9GcRTCXQ098kIFldwWw8VEPSR_q9Tbk1BFjuhFH8V8NVPskxrtVj7&s)"
   ]
  },
  {
   "cell_type": "markdown",
   "metadata": {},
   "source": [
    "If you're looking at this and thinking that I can't possibly be serious, that the foundations of statistics and machine learning can't possibly be built up from imagining data factories and magical silos... well, you're wrong. Sure, I've concocted a somewhat elaborate metaphor, but it's a metaphor that accurately describes how these otherwise very abstract concepts relate to each other. If you can look at something like $P(\\mathbf Z = z) := P(\\{\\omega \\in \\Omega \\vert \\mathbf Z(w)=z\\})$ and immediately come away with an understanding of what that means, all the more power to you. But I don't. At least not without first building up an intuition for each of the components."
   ]
  },
  {
   "cell_type": "markdown",
   "metadata": {},
   "source": [
    "In probability theory, the silo $\\Omega$ is called a *sample space* and the data ore nuggets are called *outcomes* (not to be confused with what we call the variable we want to predict in machine learning). A random variable $\\mathbf Z$ is defined as a function that maps an element of $\\Omega$ to a realization $z$. The probability of an event $z$ is the *measure* (volume, or proportion of total volume) of the set of outcomes (data ore nuggets) that map to $z$ (are destined to be transformed to $z$ by $\\mathbf Z$). "
   ]
  },
  {
   "cell_type": "markdown",
   "metadata": {},
   "source": [
    "When I talk about these things outside of the context of explaining them, I do call them by their real names (e.g. random variable, sample space, etc.) because that's what people have called them for nearly a century. But when I close my eyes and *reason* about these concepts, I'm thinking about something tangible, like a factory. As we go on I'm going to introduce more mathematical notation as we need it, and I'm going to wean off the factory metaphor, but I encourage you to keep building your intuition about these concepts instead of thinking about them as abstract symbols on a page. The symbols are just a convenient shorthand for the ideas. The only reason to know the standard names and symbols is to be able to read and understand what others have written. If you find yourself skimming over an equation- stop. Read it slowly and think about what each part means.\n",
    "\n",
    "So now that we're here, let's demystify the notation in that equation I dropped up above! Here it is again:\n",
    "\n",
    "$$P(\\mathbf Z = z) := P(\\{\\omega \\in \\Omega \\vert \\mathbf Z(w)=z\\})$$\n",
    "\n",
    "To start, the $:=$ means \"the thing on the left is defined as the thing on the right\". So we're saying that when we write \"$P(\\mathbf Z = z)$\", we really mean whatever \"$P(\\{\\omega \\in \\Omega \\vert \\mathbf Z(w)=z\\})$\" is. Ok, next up is [set-builder notation](https://www.mathsisfun.com/sets/set-builder-notation.html): you can read $\\{a\\in A | f(a) = 1\\}$ as \"the collection of all the elements $a$ in the set $A$ *such that* $f(a)=1$\". So $\\{\\omega \\in \\Omega \\vert \\mathbf Z(w)=z\\}$ is the set of outcomes $\\omega$ that become $z$ when passed through the random variable $\\mathbf Z$. Finally, we have $P()$, which is the [probability measure](https://en.wikipedia.org/wiki/Probability_measure). We won't define this super rigorously, but it is basically defined as the measurement of the proportion of all of the outcomes in $\\Omega$ that are contained in the subset $\\{\\omega \\in \\Omega \\vert \\mathbf Z(w)=z\\}$. If you put all of that together, you'll see that it's exactly the same as the definition we put together using our factory analogy. \n",
    "\n",
    "When we say \"the proportion of all outcomes in $\\Omega$ that are in a subset $A$\", what we mean is that we're literally going to measure the volume of space that the nuggets in $A$ take up in the silo $\\Omega$. By convention, we say that $\\Omega$ has volume 1 so that the volume of $A$ is also the proportion of $A$ in $\\Omega$. "
   ]
  },
  {
   "cell_type": "markdown",
   "metadata": {},
   "source": [
    "<div class=\"alert alert-block alert-warning\">\n",
    "<b>REMEMBER:</b> \n",
    "\n",
    "If your eyes glaze over every time you see mathematical notation, don't worry. Remember, that's normal. Just slow down and read it again. Try and think about what it <i>means</i>.\n",
    "</div>"
   ]
  },
  {
   "cell_type": "markdown",
   "metadata": {},
   "source": [
    "Ok- I promised that it would be useful to define probability in a more rigorous way than \"$z$ happens $x$% of the time\". Now we're going to see why. \n",
    "\n",
    "To start with, let's \"derive\" a relatively simple fact: for a subset $F \\subset \\Omega$, $P(F) \\in [0,1]$. This is a compact way of writing that for any subset of outcomes, the proportion of outcomes in that subset relative to how many are in the whole sample space is a number between 0 and 1 ($A \\subset B$ means that $A$ is a subset of $B$). At this point, that should be obvious to you. If the volume of our silo $\\Omega$ is 1, the volume of any subset of that has to be less than 1."
   ]
  },
  {
   "cell_type": "markdown",
   "metadata": {},
   "source": [
    "Here's a trickier one: for $A,B \\subset \\Omega$, if $A \\cap B = 0$, then $P(A \\cup B) = P(A) + P(B)$. This one has more symbols, but it's also really obvious when you know what they mean. $A \\cap B$ is read as \"the intersection of the sets $A$ and $B$\", which is the set of elements that are in both sets. It's the middle part of a Venn diagram. $A \\cup B$ is read  as \"the union of $A$ and $B$\", which is all of the elements in either set- that's the entirety of the Venn diagram. So what we're saying here is that if A and B don't share any outcomes between them, the probability of the union of the two is the same as the sum of the probabilities of each of them. \n",
    "\n",
    "That also seems cryptic until you think about it in terms of quantities of ore nuggets that produce certain values when fed through the factory. If you take all the ore nuggets that end up becoming the value $a$ (call that set of nuggets $A$), and all the nuggets that end up becoming the value $b$ (call that $B$), then the total volume that end up becoming either $a$ or $b$ (that's $P(A \\cup B)$) is the sum of the volumes that become $a$ (that's $P(A)$) and those that become $b$ (that's $P(B)$). \n",
    "\n",
    "Note that this only holds for sets $A$ and $B$ that don't overlap ($A\\cap B = 0$). For instance, if $A= \\{\\omega \\vert \\mathbf Z(\\omega) \\in \\{0,1\\}\\}$ (all the outcomes that map to either 0 or 1) and $B = \\{\\omega \\vert \\mathbf Z(\\omega) = 0\\}$ (all the outcomes that map to 0), every element of $B$ is also an element of $A$, so the volume of the union $A \\cup B$ is the volume of $A$, which is not the volume of $A$ plus the volume of $B$."
   ]
  },
  {
   "cell_type": "markdown",
   "metadata": {},
   "source": [
    "We can even use our code from before to demonstrate this:"
   ]
  },
  {
   "cell_type": "code",
   "execution_count": 184,
   "metadata": {},
   "outputs": [
    {
     "data": {
      "text/plain": [
       "True"
      ]
     },
     "execution_count": 184,
     "metadata": {},
     "output_type": "execute_result"
    }
   ],
   "source": [
    "A = set([0])\n",
    "B = set([1])\n",
    "P(Z,A) + P(Z,B) == P(Z,A|B) # in python, set union ∪ is written | because an element is in A∪B if it is in A OR B (A|B)"
   ]
  },
  {
   "cell_type": "code",
   "execution_count": 185,
   "metadata": {},
   "outputs": [
    {
     "data": {
      "text/plain": [
       "False"
      ]
     },
     "execution_count": 185,
     "metadata": {},
     "output_type": "execute_result"
    }
   ],
   "source": [
    "A = set([0,1])\n",
    "B = set([0])\n",
    "P(Z,A) + P(Z,B) == P(Z,A|B)"
   ]
  },
  {
   "cell_type": "markdown",
   "metadata": {},
   "source": [
    "This last point brings up the fact that we can also talk about quantities like $P(\\mathbf Z \\in F)$, where $F$ is some set of possible realizations, like $\\{0,1\\}$. That's more general than the probability at a single value $z$: $P(\\mathbf Z = z)$. All we need to do is count up the volume of all the nugets that produce any of the values that's in $F$, instead of just the nuggets that produce $z$. Our code is already set up to do that- we used it to calculate `P(Z, set([0,1]))`."
   ]
  },
  {
   "cell_type": "markdown",
   "metadata": {},
   "source": [
    "<div class=\"alert alert-block alert-warning\">\n",
    "<b>Note:</b> \n",
    "\n",
    "This is as pretty much as rigorous as probability theory gets. The only other wrinkle is that when we start talking about random variables that can produce things like continuous values (of which there are an infinite number), technically we need to consider silos that are filled with infinite numbers of nuggets (that still all together occupy a volume of 1!). And, fun fact, it turns out that in this case there are some sets of nuggets that are distributed in such a messed up way within the silo that it is impossible to measure their volume. But they are of no practical importance and probabilists just ignore these sets and say that their probability is not defined (no joke)!\n",
    "</div>"
   ]
  },
  {
   "cell_type": "markdown",
   "metadata": {},
   "source": [
    "<div class=\"alert alert-block alert-info\">\n",
    "<b>Exercise:</b> \n",
    "\n",
    "We showed already that for $A,B \\subset \\Omega$, if $A \\cap B = 0$, then $P(A \\cup B) = P(A) + P(B)$. The sets $A$ and $B$ here are subsets of the *silo* of ore nuggets. Let $W_A$ be all of the values that get generated when pushing nuggets from $A$ through the factory $\\mathbf W$ and $W_B$ be the same for the set $B$. If $W_A$ and $W_B$ have no values in common, what can we say about $A$ and $B$? \n",
    "    \n",
    "What in turn does this mean about $P(A \\cup B)$?\n",
    "    \n",
    "Finally, what can we say about $P(\\mathbf W \\in W_A \\cup W_B)$ given $P(\\mathbf W \\in W_A)$ and $P(\\mathbf W \\in W_B)$?\n",
    "\n",
    "</div>"
   ]
  },
  {
   "cell_type": "markdown",
   "metadata": {},
   "source": [
    "<div class=\"alert alert-block alert-info\">\n",
    "<b>Exercise:</b> \n",
    "\n",
    "Let $\\mathbf W$ be as it is above. Let $W_A = \\{-1,0\\}$ and $W_B = \\{0, 1\\}$. The union of these two sets is $W_A \\cup W_B = \\{-1,0,1\\}$, but $P(\\mathbf W \\in W_A \\cup W_B) \\ne P(\\mathbf W \\in W_A) + P(\\mathbf W \\in W_B)$. Verify this is the case. Why is this the case? \n",
    "    \n",
    "Can you come up with a formula to calculate $P(\\mathbf W \\in W_A \\cup W_B)$ given $P(\\mathbf W \\in W_A)$, $P(\\mathbf W \\in  W_B)$, and $P(\\mathbf W \\in W_A \\cap W_B)$?\n",
    "\n",
    "</div>"
   ]
  },
  {
   "cell_type": "markdown",
   "metadata": {},
   "source": [
    "## Random variables are described by their probability distributions"
   ]
  },
  {
   "cell_type": "markdown",
   "metadata": {},
   "source": [
    "As perhaps you've noticed, the exact nature of what is in the silo and which of its elements map to which values of the random variable doesn't change the patterns of observable output of the random variable as long as the proportions of outcomes mapping to each value are the same. For example, we looked at two equivalent ways to implement our random variable $\\mathbf Z$:"
   ]
  },
  {
   "cell_type": "code",
   "execution_count": 186,
   "metadata": {},
   "outputs": [],
   "source": [
    "def Z(ω): \n",
    "    if ω in set([1,4,5,8,9]): \n",
    "        return 1\n",
    "    if ω in set([0,2,3,6,7]): \n",
    "        return 0\n",
    "Z.Ω = set([0,1,2,3,4,5,6,7,8,9]) "
   ]
  },
  {
   "cell_type": "code",
   "execution_count": 187,
   "metadata": {},
   "outputs": [],
   "source": [
    "def Z(ω): \n",
    "    if ω in set([-1234]): \n",
    "        return 1\n",
    "    if ω in set([980123]): \n",
    "        return 0\n",
    "Z.Ω = set([980123, -1234]) "
   ]
  },
  {
   "cell_type": "markdown",
   "metadata": {},
   "source": [
    "These are technically two different random variables because they have different sample spaces, but they behave exactly the same, which is the say they have the same *probability distribution*. The distribution of the random variable is nothing more than $P(\\mathbf Z=z)$ as a function of the realization $z$:\n",
    "\n",
    "$$\n",
    "P(\\mathbf Z=z) =\n",
    "\\begin{cases}\n",
    "1/2 & \\text{for }z=0 \\\\\n",
    "1/2 & \\text{for }z=1\n",
    "\\end{cases}\n",
    "$$\n",
    "\n",
    "The probability distribution describes how the factory should *behave* from the perspective of someone who can only see its products $z_i$: half the time you get a 0, half the time you get a 1. There is no need to mention the silo of ore nuggets, give them names, and specify which nuggets are destined to be 0s and which are destined to be 1s. We know they're back there, and we know what *proportion* are destined to be 0s and 1s (since that's what the probability means), but we don't need the details. In fact, unless you're a probability theorist, you will never need to think about $\\Omega$ to solve a problem. The only reason you need to know about it is so that you can understand useful identities, which we will continue to derive as we go along."
   ]
  },
  {
   "cell_type": "markdown",
   "metadata": {},
   "source": [
    "The probability distribution can be thought of as a function of the factory product $z$. For each value of $z$, it tells us the total volume of the nuggets in the silo that map to that outcome. We can visualize that by taking sorting out all the nuggets in the silo into piles according to which value they are destined to become. The relative heights of each pile are proportional to the volume of space that each group of nuggets take up in the silo. Let's demonstrate with a new random variable $\\bf V$:"
   ]
  },
  {
   "cell_type": "code",
   "execution_count": 188,
   "metadata": {},
   "outputs": [],
   "source": [
    "def V(ω): \n",
    "    if ω in set([1]): \n",
    "        return 2\n",
    "    if ω in set([2,3]): \n",
    "        return 0\n",
    "    if ω in set([4,5,6]): \n",
    "        return -1\n",
    "    if ω in set([7,8,9,0]):\n",
    "        return 1\n",
    "V.Ω = set(range(10)) "
   ]
  },
  {
   "cell_type": "code",
   "execution_count": 189,
   "metadata": {},
   "outputs": [
    {
     "data": {
      "application/vnd.vegalite.v3+json": {
       "$schema": "https://vega.github.io/schema/vega-lite/v3.4.0.json",
       "config": {
        "mark": {
         "tooltip": null
        },
        "view": {
         "height": 300,
         "width": 400
        }
       },
       "data": {
        "name": "data-a7992e4d8081495d7eb4705b16985ea6"
       },
       "datasets": {
        "data-a7992e4d8081495d7eb4705b16985ea6": [
         {
          "p": 0.3,
          "v": -1
         },
         {
          "p": 0.2,
          "v": 0
         },
         {
          "p": 0.4,
          "v": 1
         },
         {
          "p": 0.1,
          "v": 2
         }
        ]
       },
       "encoding": {
        "x": {
         "field": "v",
         "type": "ordinal"
        },
        "y": {
         "field": "p",
         "type": "quantitative"
        }
       },
       "height": 100,
       "mark": "bar",
       "width": 400
      },
      "image/png": "[encoded data removed]",
      "text/plain": [
       "<VegaLite 3 object>\n",
       "\n",
       "If you see this message, it means the renderer has not been properly enabled\n",
       "for the frontend that you are using. For more information, see\n",
       "https://altair-viz.github.io/user_guide/troubleshooting.html\n"
      ]
     },
     "execution_count": 189,
     "metadata": {},
     "output_type": "execute_result"
    }
   ],
   "source": [
    "vs = [-1,0,1,2] # all the values v can take\n",
    "ps = [P(V,[v]) for v in vs] # calculate the probability of each\n",
    "import altair as alt # for plotting\n",
    "import pandas as pd # to make dataframes\n",
    "\n",
    "distribution = pd.DataFrame({'v':vs, 'p':ps})\n",
    "alt.Chart(distribution, height=100, width=400).mark_bar().encode(x='v:O', y='p')"
   ]
  },
  {
   "cell_type": "markdown",
   "metadata": {},
   "source": [
    "This is the graphical representation of the probability distribution\n",
    "\n",
    "$$\n",
    "P(\\mathbf V=v) \n",
    "= \n",
    "\\phi(v) \n",
    "= \n",
    "\\begin{cases}\n",
    "0.3 & \\text{for }v=-1 \\\\\n",
    "0.2 & \\text{for }v=0 \\\\\n",
    "0.4 & \\text{for }v=1 \\\\\n",
    "0.1 & \\text{for }v=2\n",
    "\\end{cases}\n",
    "$$"
   ]
  },
  {
   "cell_type": "markdown",
   "metadata": {},
   "source": [
    "$\\phi(v)$ is called a *probability mass function*. If we have multiple random variables floating around and we want to distinguish their mass functions, we'll sometimes write $\\phi_{\\mathbf V}(v)$."
   ]
  },
  {
   "cell_type": "markdown",
   "metadata": {},
   "source": [
    "### Continuous random variables and densities"
   ]
  },
  {
   "cell_type": "markdown",
   "metadata": {},
   "source": [
    "So far, all the random variables we've talked about have produced outputs from a finite, discrete set (e.g. $\\{0,1\\}$ or $\\{-1,0,1,2\\}$). If we're imagining a the factory that might produce the data we observe when flipping a coin, a binary output is all we need. Similarly, if we want to imagine the factory that assigns an \"apple\", \"orange\", or \"banana\" label to a photograph of a fruit, it just needs to output a discrete set of three values. But if we want to imagine the kind of factory that could produce the prices of different appartments in New York, we need something that can output a continuous range of values."
   ]
  },
  {
   "cell_type": "markdown",
   "metadata": {},
   "source": [
    "Let's think up a random variable (call it $\\bf Z$ again) that can take any value between 0 and 10. How many numbers are there between 0 and 10? Well, an infinite number: for any two numbers in that interval, you can find a number that's right between them. Since one nugget from the silo always makes the same value when pushed through the factory, there need to be an infinite number of nuggets in the silo to be able to produce an infinite number of values. That means our old code, where we manually enumerated all of the values in $\\Omega$, is not going to work anymore. What we can do instead is imagine that $\\Omega$ is itself an interval, like all the numbers between 0 and 1. So, to pick a random nugget to throw into the factory, we just pick a random number between 0 and 1. Here's an example:"
   ]
  },
  {
   "cell_type": "code",
   "execution_count": 190,
   "metadata": {},
   "outputs": [],
   "source": [
    "def Z(ω): \n",
    "    return 10*(ω**2) # when ω goes into the factory, the factory makes ω^2\n",
    "Z.Ω = random.random # returns a single number between 0 and 1 when called\n",
    "\n",
    "def realize_cont(rand_var): # run the assembly line!\n",
    "    ω = Z.Ω() # returns a single number between 0 and 1\n",
    "    return rand_var(ω) # push it through the factory"
   ]
  },
  {
   "cell_type": "code",
   "execution_count": 191,
   "metadata": {},
   "outputs": [
    {
     "data": {
      "text/plain": [
       "[0.17327756986741422,\n",
       " 2.31010255212107,\n",
       " 0.4078774566666605,\n",
       " 2.011548890327026,\n",
       " 4.959805767245383]"
      ]
     },
     "execution_count": 191,
     "metadata": {},
     "output_type": "execute_result"
    }
   ],
   "source": [
    "[realize_cont(Z) for i in range(5)]"
   ]
  },
  {
   "cell_type": "markdown",
   "metadata": {},
   "source": [
    "So $\\mathbf Z$ is defined by $\\mathbf Z(\\omega) = 10\\omega^2$ with $\\omega \\in [0,1]$. Great. But now what does $P(\\mathbf Z = z)$ mean? We just apply the same old definition of probability: it's the proportion of nuggets in the silo that are destined to become the value $z$. For the random variable $\\bf z$ we've defined above, how many nuggets become the value $2.5$? $\\mathbf Z$ transforms outcomes $\\omega$ into realizations $z$ by applying the function $z=10\\omega^2$, so the answer is just one: $\\omega = \\sqrt{2.5/10} = 0.5$. Thus to know $P(\\mathbf Z = 0.75)$ what we need to know is how much \"volume\" a single point ($\\omega = 0.5$) takes up within the interval $[0,1]$. The answer, which may not surprise you, is 0. If you want a rigorous argument for why that's the case, you have to pick up a real analysis or measure theory textbook. The implication is that for any (strictly) continuously-valued random variable, the probability of it taking any given value in particular is zero: $P(\\mathbf Z = z) = 0$, no matter what $z$ is. "
   ]
  },
  {
   "cell_type": "markdown",
   "metadata": {},
   "source": [
    "<div class=\"alert alert-block alert-warning\">\n",
    "<b>Note:</b> \n",
    "\n",
    "Notation like $[a,b]$ is often used to concisely write intervals- this just means \"all the numbers between $a$ and $b$, including those endpoints\". We use parentheses like $(a,b)$ to indicate that the endpoints should not be included. $(a,b]$ and $[a,b)$ have one of the two endpoints included, with the bracket indicating the endpoint that's included and the parenthesis indicating which isn't.\n",
    "</div>"
   ]
  },
  {
   "cell_type": "markdown",
   "metadata": {},
   "source": [
    "What we're trying to get to is some nice picture that contains all of the information about the random variable that we need in order to make inferences about its output. It was easy to do that for discrete random variables, but if we plot $P(\\mathbf z = z)$ as a function of $z$ for a continuous random variable, we'd just get a flat line at 0.\n"
   ]
  },
  {
   "cell_type": "markdown",
   "metadata": {},
   "source": [
    "But check this out: what if we instead ask the probability that the output value is between two values $a$ and $b$? For instance, what's $P(\\mathbf Z \\in [2.5,9])$? Again looking at the transformation $z = 10\\omega^2$, you can see that only values of $\\omega$ between $0.5$ and $0.3$ produce values between $2.5$ and $9$. The proportion of volume that the interval $[0.3, 0.5]$ takes up within the interval $[0,1]$ is is the length of the interval $[0.3, 0.5]$ (which is $0.2$) as a proportion of the length of the interval $[0,1]$ (which is 1). So $P(\\mathbf Z \\in [2.5,9]) = 0.2$!"
   ]
  },
  {
   "cell_type": "markdown",
   "metadata": {},
   "source": [
    "<div class=\"alert alert-block alert-info\">\n",
    "<b>Exercise:</b> \n",
    "\n",
    "Let $\\mathbf Z$ be as it is above. Find a formula for $P(\\mathbf Z \\in [a,b])$ for any values $a \\le b$ and $a,b \\in [0,10]$.\n",
    "\n",
    "</div>"
   ]
  },
  {
   "cell_type": "markdown",
   "metadata": {},
   "source": [
    "So here's an idea: let's bin $z$ into 10 non-overlapping buckets, like $[0,1)$, $[1,2)$ ... $[9,10]$ and calculate the probability within each of those buckets. This is just like what we did in the discrete case. We're sorting all of the nuggets in the silo into different piles depending which set of values they are destined to become, and then measuring the volume of each pile. Here's what we get when we do that for the example random variable $\\bf z$ defined in the code above:"
   ]
  },
  {
   "cell_type": "code",
   "execution_count": 192,
   "metadata": {},
   "outputs": [
    {
     "data": {
      "application/vnd.vegalite.v3+json": {
       "$schema": "https://vega.github.io/schema/vega-lite/v3.4.0.json",
       "config": {
        "mark": {
         "tooltip": null
        },
        "view": {
         "height": 300,
         "width": 400
        }
       },
       "data": {
        "name": "data-238a944884c03662f4513bfe54e08e54"
       },
       "datasets": {
        "data-238a944884c03662f4513bfe54e08e54": [
         {
          "p": 0.31622776601683794,
          "z": "[0,1)"
         },
         {
          "p": 0.13098582948312,
          "z": "[1,2)"
         },
         {
          "p": 0.10050896200520815,
          "z": "[2,3)"
         },
         {
          "p": 0.08473297452850981,
          "z": "[3,4)"
         },
         {
          "p": 0.07465124915287169,
          "z": "[4,5)"
         },
         {
          "p": 0.06748988805493583,
          "z": "[5,6)"
         },
         {
          "p": 0.06206335729259216,
          "z": "[6,7)"
         },
         {
          "p": 0.05776716446584029,
          "z": "[7,8)"
         },
         {
          "p": 0.05425610705059791,
          "z": "[8,9)"
         },
         {
          "p": 0.05131670194948623,
          "z": "[9,10)"
         }
        ]
       },
       "encoding": {
        "x": {
         "field": "z",
         "type": "ordinal"
        },
        "y": {
         "field": "p",
         "type": "quantitative"
        }
       },
       "height": 100,
       "mark": "bar",
       "width": 400
      },
      "image/png": "[encoded data removed]",
      "text/plain": [
       "<VegaLite 3 object>\n",
       "\n",
       "If you see this message, it means the renderer has not been properly enabled\n",
       "for the frontend that you are using. For more information, see\n",
       "https://altair-viz.github.io/user_guide/troubleshooting.html\n"
      ]
     },
     "execution_count": 192,
     "metadata": {},
     "output_type": "execute_result"
    }
   ],
   "source": [
    "from math import sqrt\n",
    "\n",
    "def Pz(a,b):\n",
    "    return sqrt(b/10) - sqrt(a/10)\n",
    "\n",
    "zs = range(10)\n",
    "ps = [Pz(z,z+1) for z in zs]\n",
    "zs_labels = [f'[{z},{z+1})' for z in zs]\n",
    "\n",
    "distribution = pd.DataFrame({'z':zs_labels, 'p':ps})\n",
    "alt.Chart(distribution, height=100, width=400).mark_bar().encode(x='z:O', y='p')"
   ]
  },
  {
   "cell_type": "markdown",
   "metadata": {},
   "source": [
    "And why stop at 10 buckets? Let's split it up into 100."
   ]
  },
  {
   "cell_type": "code",
   "execution_count": 193,
   "metadata": {},
   "outputs": [
    {
     "data": {
      "application/vnd.vegalite.v3+json": {
       "$schema": "https://vega.github.io/schema/vega-lite/v3.4.0.json",
       "config": {
        "mark": {
         "tooltip": null
        },
        "view": {
         "height": 300,
         "width": 400
        }
       },
       "data": {
        "name": "data-87b4328471ec72ce0c0a7b12465363e4"
       },
       "datasets": {
        "data-87b4328471ec72ce0c0a7b12465363e4": [
         {
          "p": 0.1,
          "z": "[0.0,0.1)"
         },
         {
          "p": 0.0414213562373095,
          "z": "[0.1,0.2)"
         },
         {
          "p": 0.031783724519578255,
          "z": "[0.2,0.30000000000000004)"
         },
         {
          "p": 0.026794919243112253,
          "z": "[0.30000000000000004,0.4)"
         },
         {
          "p": 0.023606797749978953,
          "z": "[0.4,0.5)"
         },
         {
          "p": 0.021342176528338835,
          "z": "[0.5,0.6)"
         },
         {
          "p": 0.019626156828141256,
          "z": "[0.6000000000000001,0.7000000000000001)"
         },
         {
          "p": 0.018267581368159924,
          "z": "[0.7000000000000001,0.8)"
         },
         {
          "p": 0.017157287525380982,
          "z": "[0.8,0.9)"
         },
         {
          "p": 0.016227766016837952,
          "z": "[0.9,1.0)"
         },
         {
          "p": 0.015434713018702084,
          "z": "[1.0,1.1)"
         },
         {
          "p": 0.014747682478235491,
          "z": "[1.1,1.2000000000000002)"
         },
         {
          "p": 0.01414496603262344,
          "z": "[1.2000000000000002,1.3000000000000003)"
         },
         {
          "p": 0.01361061113099521,
          "z": "[1.3,1.4000000000000001)"
         },
         {
          "p": 0.013132595943347536,
          "z": "[1.4000000000000001,1.5000000000000002)"
         },
         {
          "p": 0.01270166537925832,
          "z": "[1.5,1.6)"
         },
         {
          "p": 0.012310562561766047,
          "z": "[1.6,1.7000000000000002)"
         },
         {
          "p": 0.011953506150162496,
          "z": "[1.7000000000000002,1.8000000000000003)"
         },
         {
          "p": 0.01162582564213882,
          "z": "[1.8,1.9000000000000001)"
         },
         {
          "p": 0.011323701145890597,
          "z": "[1.9000000000000001,2.0)"
         },
         {
          "p": 0.011043973995626122,
          "z": "[2.0,2.1)"
         },
         {
          "p": 0.010784006486758924,
          "z": "[2.1,2.2)"
         },
         {
          "p": 0.010541576348928994,
          "z": "[2.2,2.3000000000000003)"
         },
         {
          "p": 0.010314796225363687,
          "z": "[2.3000000000000003,2.4000000000000004)"
         },
         {
          "p": 0.010102051443364346,
          "z": "[2.4000000000000004,2.5000000000000004)"
         },
         {
          "p": 0.009901951359278516,
          "z": "[2.5,2.6)"
         },
         {
          "p": 0.009713290911384731,
          "z": "[2.6,2.7)"
         },
         {
          "p": 0.009535019942254919,
          "z": "[2.7,2.8000000000000003)"
         },
         {
          "p": 0.00936621850053232,
          "z": "[2.8000000000000003,2.9000000000000004)"
         },
         {
          "p": 0.0092060767917157,
          "z": "[2.9000000000000004,3.0000000000000004)"
         },
         {
          "p": 0.009053878777836144,
          "z": "[3.0,3.1)"
         },
         {
          "p": 0.008908988666235795,
          "z": "[3.1,3.2)"
         },
         {
          "p": 0.008770839704564826,
          "z": "[3.2,3.3000000000000003)"
         },
         {
          "p": 0.008638924830727257,
          "z": "[3.3000000000000003,3.4000000000000004)"
         },
         {
          "p": 0.008512788825431494,
          "z": "[3.4000000000000004,3.5000000000000004)"
         },
         {
          "p": 0.008392021690038387,
          "z": "[3.5,3.6)"
         },
         {
          "p": 0.008276253029821934,
          "z": "[3.6,3.7)"
         },
         {
          "p": 0.008165147267075734,
          "z": "[3.7,3.8000000000000003)"
         },
         {
          "p": 0.008058399542942185,
          "z": "[3.8000000000000003,3.9000000000000004)"
         },
         {
          "p": 0.007955732193836051,
          "z": "[3.9000000000000004,4.0)"
         },
         {
          "p": 0.007856891709609015,
          "z": "[4.0,4.1)"
         },
         {
          "p": 0.007761646097501185,
          "z": "[4.1000000000000005,4.2)"
         },
         {
          "p": 0.007669782589413976,
          "z": "[4.2,4.3)"
         },
         {
          "p": 0.007581105640879882,
          "z": "[4.3,4.3999999999999995)"
         },
         {
          "p": 0.0074954351788568685,
          "z": "[4.4,4.5)"
         },
         {
          "p": 0.007412605062589894,
          "z": "[4.5,4.6)"
         },
         {
          "p": 0.007332461727577511,
          "z": "[4.6000000000000005,4.7)"
         },
         {
          "p": 0.0072548629874464865,
          "z": "[4.7,4.8)"
         },
         {
          "p": 0.007179676972449034,
          "z": "[4.800000000000001,4.9)"
         },
         {
          "p": 0.007106781186547506,
          "z": "[4.9,5.0)"
         },
         {
          "p": 0.007036061667737403,
          "z": "[5.0,5.1)"
         },
         {
          "p": 0.006967412238512938,
          "z": "[5.1000000000000005,5.2)"
         },
         {
          "p": 0.006900733835253914,
          "z": "[5.2,5.3)"
         },
         {
          "p": 0.006835933906901626,
          "z": "[5.300000000000001,5.4)"
         },
         {
          "p": 0.006772925874612867,
          "z": "[5.4,5.5)"
         },
         {
          "p": 0.006711628645221901,
          "z": "[5.5,5.6)"
         },
         {
          "p": 0.006651966172286694,
          "z": "[5.6000000000000005,5.7)"
         },
         {
          "p": 0.00659386705931575,
          "z": "[5.7,5.8)"
         },
         {
          "p": 0.006537264200469961,
          "z": "[5.800000000000001,5.9)"
         },
         {
          "p": 0.006482094454622556,
          "z": "[5.9,6.0)"
         },
         {
          "p": 0.006428298349182016,
          "z": "[6.0,6.1)"
         },
         {
          "p": 0.006375819810515604,
          "z": "[6.1000000000000005,6.2)"
         },
         {
          "p": 0.006324605918196058,
          "z": "[6.2,6.3)"
         },
         {
          "p": 0.006274606680622741,
          "z": "[6.300000000000001,6.4)"
         },
         {
          "p": 0.00622577482985498,
          "z": "[6.4,6.5)"
         },
         {
          "p": 0.0061780656337410145,
          "z": "[6.5,6.6)"
         },
         {
          "p": 0.00613143672364902,
          "z": "[6.6000000000000005,6.7)"
         },
         {
          "p": 0.00608584793628697,
          "z": "[6.7,6.8)"
         },
         {
          "p": 0.006041261168275414,
          "z": "[6.800000000000001,6.9)"
         },
         {
          "p": 0.00599764024226801,
          "z": "[6.9,7.0)"
         },
         {
          "p": 0.005954950783560231,
          "z": "[7.0,7.1)"
         },
         {
          "p": 0.005913160106221116,
          "z": "[7.1000000000000005,7.2)"
         },
         {
          "p": 0.005872237107896083,
          "z": "[7.2,7.3)"
         },
         {
          "p": 0.0058321521725094305,
          "z": "[7.300000000000001,7.4)"
         },
         {
          "p": 0.005792877080175951,
          "z": "[7.4,7.5)"
         },
         {
          "p": 0.005754384923696065,
          "z": "[7.5,7.6)"
         },
         {
          "p": 0.005716650031077575,
          "z": "[7.6000000000000005,7.7)"
         },
         {
          "p": 0.005679647893572448,
          "z": "[7.7,7.8)"
         },
         {
          "p": 0.005643355098774228,
          "z": "[7.800000000000001,7.9)"
         },
         {
          "p": 0.005607749268356943,
          "z": "[7.9,8.0)"
         },
         {
          "p": 0.005572809000084167,
          "z": "[8.0,8.1)"
         },
         {
          "p": 0.005538513813741597,
          "z": "[8.1,8.2)"
         },
         {
          "p": 0.005504844100688189,
          "z": "[8.200000000000001,8.3)"
         },
         {
          "p": 0.00547178107673818,
          "z": "[8.3,8.4)"
         },
         {
          "p": 0.005439306738120653,
          "z": "[8.4,8.5)"
         },
         {
          "p": 0.005407403820281598,
          "z": "[8.5,8.6)"
         },
         {
          "p": 0.005376055759311105,
          "z": "[8.6,8.7)"
         },
         {
          "p": 0.005345246655804381,
          "z": "[8.700000000000001,8.8)"
         },
         {
          "p": 0.005314961240974414,
          "z": "[8.8,8.9)"
         },
         {
          "p": 0.005285184844853408,
          "z": "[8.9,9.0)"
         },
         {
          "p": 0.005255903366431891,
          "z": "[9.0,9.1)"
         },
         {
          "p": 0.005227103245598164,
          "z": "[9.1,9.2)"
         },
         {
          "p": 0.005198771436751626,
          "z": "[9.200000000000001,9.3)"
         },
         {
          "p": 0.005170895383970309,
          "z": "[9.3,9.4)"
         },
         {
          "p": 0.005143462997630466,
          "z": "[9.4,9.5)"
         },
         {
          "p": 0.005116462632374863,
          "z": "[9.5,9.6)"
         },
         {
          "p": 0.005089883066339174,
          "z": "[9.600000000000001,9.700000000000001)"
         },
         {
          "p": 0.005063713481556098,
          "z": "[9.700000000000001,9.8)"
         },
         {
          "p": 0.005037943445453386,
          "z": "[9.8,9.9)"
         },
         {
          "p": 0.005012562893380035,
          "z": "[9.9,10.0)"
         }
        ]
       },
       "encoding": {
        "x": {
         "axis": null,
         "field": "z",
         "type": "ordinal"
        },
        "y": {
         "field": "p",
         "type": "quantitative"
        }
       },
       "height": 100,
       "mark": "bar",
       "width": 400
      },
      "image/png": "[encoded data removed]",
      "text/plain": [
       "<VegaLite 3 object>\n",
       "\n",
       "If you see this message, it means the renderer has not been properly enabled\n",
       "for the frontend that you are using. For more information, see\n",
       "https://altair-viz.github.io/user_guide/troubleshooting.html\n"
      ]
     },
     "execution_count": 193,
     "metadata": {},
     "output_type": "execute_result"
    }
   ],
   "source": [
    "zs = np.arange(0,10,0.1)\n",
    "ps = [Pz(z,z+0.1) for z in zs]\n",
    "zs_labels = [f'[{z},{z+0.1})' for z in zs]\n",
    "\n",
    "distribution = pd.DataFrame({'z':zs_labels, 'p':ps})\n",
    "alt.Chart(distribution, height=100, width=400).mark_bar().encode(alt.X('z:O',axis=None), y='p')"
   ]
  },
  {
   "cell_type": "markdown",
   "metadata": {},
   "source": [
    "More buckets gives us more information. If we want to know $P(\\mathbf Z \\in [0,0.5))$, for instance, we can sum up the probabilities for the buckets $[0,0.1)$, $[0.1,0.2)$, ... $[0.4,0.5)$. But we can't get *any* probability. The graph doesn't have enough information to let us calculate probabilities over intervals whose ends are between two cutpoints of the buckets. It only has resolution up to increments of $0.1$ in terms of $z$. It would be nice to have a graph that lets us read off arbitrary probabilities like $P(\\mathbf Z \\in [a,b])$ just by looking at how much \"stuff\" there is between $a$ and $b$. Something like this:"
   ]
  },
  {
   "cell_type": "code",
   "execution_count": 194,
   "metadata": {},
   "outputs": [
    {
     "data": {
      "application/vnd.vegalite.v3+json": {
       "$schema": "https://vega.github.io/schema/vega-lite/v3.4.0.json",
       "config": {
        "mark": {
         "tooltip": null
        },
        "view": {
         "height": 300,
         "width": 400
        }
       },
       "data": {
        "name": "data-c101341a031f7d31f56b8b1aa832611d"
       },
       "datasets": {
        "data-c101341a031f7d31f56b8b1aa832611d": [
         {
          "p": 0.5,
          "z": 0.1
         },
         {
          "p": 0.35355339059327373,
          "z": 0.2
         },
         {
          "p": 0.28867513459481287,
          "z": 0.30000000000000004
         },
         {
          "p": 0.25,
          "z": 0.4
         },
         {
          "p": 0.22360679774997896,
          "z": 0.5
         },
         {
          "p": 0.20412414523193154,
          "z": 0.6
         },
         {
          "p": 0.1889822365046136,
          "z": 0.7000000000000001
         },
         {
          "p": 0.17677669529663687,
          "z": 0.8
         },
         {
          "p": 0.16666666666666666,
          "z": 0.9
         },
         {
          "p": 0.15811388300841897,
          "z": 1
         },
         {
          "p": 0.15075567228888181,
          "z": 1.1
         },
         {
          "p": 0.14433756729740643,
          "z": 1.2000000000000002
         },
         {
          "p": 0.13867504905630726,
          "z": 1.3000000000000003
         },
         {
          "p": 0.13363062095621217,
          "z": 1.4000000000000001
         },
         {
          "p": 0.12909944487358055,
          "z": 1.5000000000000002
         },
         {
          "p": 0.125,
          "z": 1.6
         },
         {
          "p": 0.12126781251816648,
          "z": 1.7000000000000002
         },
         {
          "p": 0.1178511301977579,
          "z": 1.8000000000000003
         },
         {
          "p": 0.11470786693528087,
          "z": 1.9000000000000001
         },
         {
          "p": 0.11180339887498948,
          "z": 2
         },
         {
          "p": 0.1091089451179962,
          "z": 2.1
         },
         {
          "p": 0.10660035817780521,
          "z": 2.2
         },
         {
          "p": 0.10425720702853737,
          "z": 2.3000000000000003
         },
         {
          "p": 0.10206207261596574,
          "z": 2.4000000000000004
         },
         {
          "p": 0.1,
          "z": 2.5000000000000004
         },
         {
          "p": 0.09805806756909202,
          "z": 2.6
         },
         {
          "p": 0.09622504486493763,
          "z": 2.7
         },
         {
          "p": 0.0944911182523068,
          "z": 2.8000000000000003
         },
         {
          "p": 0.09284766908852592,
          "z": 2.9000000000000004
         },
         {
          "p": 0.09128709291752768,
          "z": 3.0000000000000004
         },
         {
          "p": 0.08980265101338746,
          "z": 3.1
         },
         {
          "p": 0.08838834764831843,
          "z": 3.2
         },
         {
          "p": 0.08703882797784893,
          "z": 3.3000000000000003
         },
         {
          "p": 0.08574929257125441,
          "z": 3.4000000000000004
         },
         {
          "p": 0.08451542547285164,
          "z": 3.5000000000000004
         },
         {
          "p": 0.08333333333333333,
          "z": 3.6
         },
         {
          "p": 0.08219949365267865,
          "z": 3.7
         },
         {
          "p": 0.08111071056538127,
          "z": 3.8000000000000003
         },
         {
          "p": 0.08006407690254357,
          "z": 3.9000000000000004
         },
         {
          "p": 0.07905694150420949,
          "z": 4
         },
         {
          "p": 0.07808688094430304,
          "z": 4.1
         },
         {
          "p": 0.07715167498104596,
          "z": 4.2
         },
         {
          "p": 0.07624928516630233,
          "z": 4.3
         },
         {
          "p": 0.07537783614444092,
          "z": 4.3999999999999995
         },
         {
          "p": 0.07453559924999299,
          "z": 4.5
         },
         {
          "p": 0.07372097807744857,
          "z": 4.6
         },
         {
          "p": 0.07293249574894728,
          "z": 4.7
         },
         {
          "p": 0.07216878364870323,
          "z": 4.8
         },
         {
          "p": 0.07142857142857142,
          "z": 4.9
         },
         {
          "p": 0.07071067811865475,
          "z": 5
         },
         {
          "p": 0.07001400420140048,
          "z": 5.1
         },
         {
          "p": 0.06933752452815364,
          "z": 5.2
         },
         {
          "p": 0.06868028197434452,
          "z": 5.3
         },
         {
          "p": 0.06804138174397717,
          "z": 5.4
         },
         {
          "p": 0.06741998624632421,
          "z": 5.5
         },
         {
          "p": 0.0668153104781061,
          "z": 5.6
         },
         {
          "p": 0.06622661785325219,
          "z": 5.7
         },
         {
          "p": 0.06565321642986127,
          "z": 5.8
         },
         {
          "p": 0.06509445549041194,
          "z": 5.9
         },
         {
          "p": 0.06454972243679027,
          "z": 6
         },
         {
          "p": 0.06401843996644799,
          "z": 6.1
         },
         {
          "p": 0.06350006350009525,
          "z": 6.2
         },
         {
          "p": 0.0629940788348712,
          "z": 6.3
         },
         {
          "p": 0.0625,
          "z": 6.4
         },
         {
          "p": 0.062017367294604234,
          "z": 6.5
         },
         {
          "p": 0.06154574548966636,
          "z": 6.6
         },
         {
          "p": 0.06108472217815261,
          "z": 6.7
         },
         {
          "p": 0.06063390625908324,
          "z": 6.8
         },
         {
          "p": 0.0601929265428846,
          "z": 6.9
         },
         {
          "p": 0.05976143046671968,
          "z": 7
         },
         {
          "p": 0.05933908290969266,
          "z": 7.1
         },
         {
          "p": 0.05892556509887897,
          "z": 7.2
         },
         {
          "p": 0.058520573598065284,
          "z": 7.3
         },
         {
          "p": 0.05812381937190964,
          "z": 7.4
         },
         {
          "p": 0.05773502691896257,
          "z": 7.5
         },
         {
          "p": 0.057353933467640436,
          "z": 7.6
         },
         {
          "p": 0.05698028822981897,
          "z": 7.7
         },
         {
          "p": 0.05661385170722978,
          "z": 7.8
         },
         {
          "p": 0.0562543950463012,
          "z": 7.9
         },
         {
          "p": 0.05590169943749474,
          "z": 8
         },
         {
          "p": 0.05555555555555555,
          "z": 8.1
         },
         {
          "p": 0.05521576303742327,
          "z": 8.2
         },
         {
          "p": 0.05488212999484517,
          "z": 8.3
         },
         {
          "p": 0.0545544725589981,
          "z": 8.4
         },
         {
          "p": 0.05423261445466404,
          "z": 8.5
         },
         {
          "p": 0.053916386601719206,
          "z": 8.6
         },
         {
          "p": 0.05360562674188974,
          "z": 8.7
         },
         {
          "p": 0.053300179088902604,
          "z": 8.8
         },
         {
          "p": 0.052999894000318,
          "z": 8.9
         },
         {
          "p": 0.05270462766947299,
          "z": 9
         },
         {
          "p": 0.052414241836095915,
          "z": 9.1
         },
         {
          "p": 0.05212860351426869,
          "z": 9.2
         },
         {
          "p": 0.05184758473652126,
          "z": 9.3
         },
         {
          "p": 0.05157106231293967,
          "z": 9.4
         },
         {
          "p": 0.051298917604257706,
          "z": 9.5
         },
         {
          "p": 0.051031036307982884,
          "z": 9.6
         },
         {
          "p": 0.050767308256680944,
          "z": 9.700000000000001
         },
         {
          "p": 0.050507627227610534,
          "z": 9.8
         },
         {
          "p": 0.050251890762960605,
          "z": 9.9
         }
        ]
       },
       "encoding": {
        "x": {
         "field": "z",
         "type": "quantitative"
        },
        "y": {
         "field": "p",
         "type": "quantitative"
        }
       },
       "height": 100,
       "mark": "area",
       "width": 400
      },
      "image/png": "[encoded data removed]",
      "text/plain": [
       "<VegaLite 3 object>\n",
       "\n",
       "If you see this message, it means the renderer has not been properly enabled\n",
       "for the frontend that you are using. For more information, see\n",
       "https://altair-viz.github.io/user_guide/troubleshooting.html\n"
      ]
     },
     "execution_count": 194,
     "metadata": {},
     "output_type": "execute_result"
    }
   ],
   "source": [
    "zs = np.arange(0.1,10,0.1)\n",
    "ps = [1/(2*sqrt(10*z)) for z in zs] # magic, for now\n",
    "\n",
    "distribution = pd.DataFrame({'z':zs, 'p':ps})\n",
    "alt.Chart(distribution, height=100, width=400).mark_area().encode(x='z', y='p')"
   ]
  },
  {
   "cell_type": "markdown",
   "metadata": {},
   "source": [
    "Before I explain how I managed to make this graph, which is called a *density plot*, I want to establish an intuition for what it means. We've gone from 10 buckets, to 100 buckets, to \"infinite\" buckets. I like to think of these pictures literally: all the outcomes $\\omega$ neatly piled up on top of the labels $z$ for the values they will become. So to get $P(\\mathbf Z \\in [a,b])$ from this picture, which is just the volume of outcomes that map to values between $a$ and $b$, all we need to do is see how much stuff there is piled up between $a$ and $b$ in the picture. "
   ]
  },
  {
   "cell_type": "markdown",
   "metadata": {},
   "source": [
    "To do this, we turn to a useful tool from calculus: the integral. To make the picture above, we need a curve $\\phi(z)$ such that the area under $f$ between $a$ and $b$ is $P(\\mathbf Z \\in [a,b])$ for all values $a$ and $b$. In the previous exercise you should have figured out that $P(\\mathbf Z \\in [a,b]) = \\sqrt{\\frac{b}{10}} - \\sqrt{\\frac{a}{10}}$. So what we need is the curve $\\phi(z)$ that satisfies this equation:\n",
    "\n",
    "$$\\int_a^b \\phi(z) dz = P(\\mathbf Z \\in [a,b]) = \\sqrt{\\frac{b}{10}} - \\sqrt{\\frac{a}{10}}$$"
   ]
  },
  {
   "cell_type": "markdown",
   "metadata": {},
   "source": [
    "Looking at the integral equation, it's clear that $\\Phi(z) = \\sqrt{\\frac{z}{10}}$ is the antiderivative of $\\phi(z)$, so all we need to do to get $\\phi$ is differentiate $\\Phi$:\n",
    "\n",
    "$$\\phi(z) = \\frac{d\\Phi(z)}{dz} = \\frac{d}{dz} \\sqrt{\\frac{z}{10}} = \\frac{1}{2\\sqrt{10z}}$$"
   ]
  },
  {
   "cell_type": "markdown",
   "metadata": {},
   "source": [
    "<div class=\"alert alert-block alert-warning\">\n",
    "<b>Note:</b> \n",
    "\n",
    "If this doesn't make any sense to you, you should stop and go review a friendly calculus book or any of the great online resources on the topic.\n",
    "</div>"
   ]
  },
  {
   "cell_type": "markdown",
   "metadata": {},
   "source": [
    "Now the line `ps = [1/(2*sqrt(10*z)) for z in zs]` in the code above should make sense to you."
   ]
  },
  {
   "cell_type": "markdown",
   "metadata": {},
   "source": [
    "The function $\\phi(z)$ is called a *probability density function*, which is the continuous equivalent of the probability mass function. Its integral $\\Phi(z) = \\int_{-\\infty}^z \\phi(t)dt = P(\\mathbf Z \\le z)$ is called a *cumulative density function*. Either of these functions tell you everything you need to know about probabilities of the random variable $\\mathbf Z$. The probability that $\\mathbf Z$ takes any of the values in an arbitrary set $A$ is \n",
    "\n",
    "$$P(\\mathbf Z \\in A) = \\int_{A} \\phi(z) dz$$"
   ]
  },
  {
   "cell_type": "markdown",
   "metadata": {},
   "source": [
    "<div class=\"alert alert-block alert-info\">\n",
    "<b>Exercise:</b> \n",
    "\n",
    "For our random variable $\\mathbf Z$, what is $P(\\mathbf Z \\in (0, 10))$? Calculate the probability by integrating the density function or using the cumulative density function. Does your answer line up with what you expect based on our original definition of $\\mathbf Z$? \n",
    "    \n",
    "Here is another random variable that, like $\\mathbf Z$, maps outcomes in $\\Omega = [0,1]$ to values in $[0,10]$: $\\mathbf W(\\omega) = 10\\omega$. Calculate $P(\\mathbf W \\in [a,b])$ for some interval $[a,b]$. What is the probability density function for $\\mathbf W$? What is $P(\\mathbf W \\in (0, 10))$?\n",
    "    \n",
    "For <i>any</i> continuous random variable $\\mathbf X$, what is $\\int_{-\\infty}^{\\infty} \\phi(x) dx$? Hint: what probability does this represent?\n",
    "    \n",
    "What is $\\Phi(-\\infty)$? $\\Phi(\\infty)$? \n",
    "    \n",
    "Is it possible to have a random variable $\\mathbf Q$ with $\\phi_{\\mathbf Q}(q) < 0$ for some $q$ that is a possible output value of $\\mathbf Q$? Why does this not make sense?\n",
    "    \n",
    "</div>"
   ]
  },
  {
   "cell_type": "markdown",
   "metadata": {},
   "source": [
    "At this point, talking about the outcomes $\\omega$ is kind of silly. If two random variables have the same probability mass function or the same probability density function, then, for all intents and purposes, they are the same random variable. It doens't matter exactly which outcomes map to which values, as long as the proportions are the same. We already demonstrated this in the discrete case.\n",
    "\n",
    "We can also invent a new continuous random variable $\\mathbf Z'$ whose sample space $\\Omega$ is $[-100, 100]$ instead of $[0,1]$, but which has the same probability density function as $\\mathbf Z$: \n",
    "\n",
    "$$\n",
    "\\mathbf Z'(\\omega) = 10\\left(\\frac{\\omega+100}{200}\\right)^2\n",
    "$$"
   ]
  },
  {
   "cell_type": "markdown",
   "metadata": {},
   "source": [
    "For this we use the notation $\\mathbf Z \\sim \\mathbf Z'$. Technically they are not the same, since the sample spaces are different, but as far as an observer who is outside the curtain is concerned, there is no way to tell them apart. The *distribution* of the random variable is what really matters. "
   ]
  },
  {
   "cell_type": "markdown",
   "metadata": {},
   "source": [
    "### Histograms vs. mass and density functions"
   ]
  },
  {
   "cell_type": "markdown",
   "metadata": {},
   "source": [
    "Many of you are probably already familiar with histograms. Histograms are a way of visualizing observed data. Each observed value is stacked up on top of its approximate label (e.g. any $z$ between 0.5 and 1.5 is labeled \"1\") and the counts are plotted:"
   ]
  },
  {
   "cell_type": "code",
   "execution_count": 196,
   "metadata": {},
   "outputs": [
    {
     "data": {
      "application/vnd.vegalite.v3+json": {
       "$schema": "https://vega.github.io/schema/vega-lite/v3.4.0.json",
       "config": {
        "mark": {
         "tooltip": null
        },
        "view": {
         "height": 300,
         "width": 400
        }
       },
       "data": {
        "name": "data-28fb01d306e8553840e3c9d4aff53c12"
       },
       "datasets": {
        "data-28fb01d306e8553840e3c9d4aff53c12": [
         {
          "z": 0.7806737763951642
         },
         {
          "z": 8.762932941592183
         },
         {
          "z": 2.938393338893077
         },
         {
          "z": 0.011023590277950121
         },
         {
          "z": 9.26234751800705
         },
         {
          "z": 2.021155652292904
         },
         {
          "z": 1.9868476649016111
         },
         {
          "z": 1.8490890668264715
         },
         {
          "z": 9.691610599331263
         },
         {
          "z": 8.12603658264061
         },
         {
          "z": 0.03736844210234837
         },
         {
          "z": 0.5497291885263546
         },
         {
          "z": 6.269963898381873
         },
         {
          "z": 5.547755285691542
         },
         {
          "z": 5.911064853658483
         },
         {
          "z": 1.1565776477675895
         },
         {
          "z": 0.5478940199753575
         },
         {
          "z": 2.8065714538982
         },
         {
          "z": 0.014278285156725358
         },
         {
          "z": 0.04510503053997825
         },
         {
          "z": 0.8337817907427858
         },
         {
          "z": 2.4505617745657986
         },
         {
          "z": 0.5290678881915499
         },
         {
          "z": 9.774232313997528
         },
         {
          "z": 9.534048760477456
         },
         {
          "z": 8.04241197513808
         },
         {
          "z": 0.2951144354443941
         },
         {
          "z": 0.709378514345329
         },
         {
          "z": 7.335207805118566
         },
         {
          "z": 2.248277069038839
         },
         {
          "z": 0.46958660952116227
         },
         {
          "z": 0.32325027472611906
         },
         {
          "z": 1.4761910907008762
         },
         {
          "z": 0.42619752013519724
         },
         {
          "z": 5.040633558204415
         },
         {
          "z": 2.6602508891248897
         },
         {
          "z": 0.6090442294685227
         },
         {
          "z": 1.7254492143458142e-05
         },
         {
          "z": 3.0987774548810183
         },
         {
          "z": 2.8717885963253047
         },
         {
          "z": 0.8569544759876133
         },
         {
          "z": 2.1438162457373853
         },
         {
          "z": 3.746737982447072
         },
         {
          "z": 7.166540130711306
         },
         {
          "z": 2.2031581573305834
         },
         {
          "z": 7.668100918452564
         },
         {
          "z": 1.0546610412546804
         },
         {
          "z": 1.2026941556027086
         },
         {
          "z": 2.284750321495155
         },
         {
          "z": 3.39389600702719
         },
         {
          "z": 3.8919728896183092
         },
         {
          "z": 1.6192162309738143
         },
         {
          "z": 0.44865556451043953
         },
         {
          "z": 2.2377598819709057
         },
         {
          "z": 0.09131596534103992
         },
         {
          "z": 0.19275793837255725
         },
         {
          "z": 4.347484717308106
         },
         {
          "z": 0.18865657389254642
         },
         {
          "z": 0.4399125143377868
         },
         {
          "z": 9.434312273988143
         },
         {
          "z": 0.20571573236863033
         },
         {
          "z": 0.02905864578223006
         },
         {
          "z": 0.02097459355819278
         },
         {
          "z": 2.066009263765423
         },
         {
          "z": 0.6654078587385802
         },
         {
          "z": 1.4598438692214586
         },
         {
          "z": 0.17256031444933984
         },
         {
          "z": 0.2473404657412109
         },
         {
          "z": 4.893463065443173
         },
         {
          "z": 5.740087121430691
         },
         {
          "z": 7.935436750932761
         },
         {
          "z": 8.396003152895764
         },
         {
          "z": 0.7198653028428003
         },
         {
          "z": 1.3098345176690187
         },
         {
          "z": 0.03404602680516392
         },
         {
          "z": 6.625703403242499
         },
         {
          "z": 9.402488384420474
         },
         {
          "z": 5.342806901710287
         },
         {
          "z": 2.212524892389366
         },
         {
          "z": 3.8079703930167947
         },
         {
          "z": 3.704008128793302
         },
         {
          "z": 6.983583511044658
         },
         {
          "z": 7.077635025211792
         },
         {
          "z": 9.094379457377462
         },
         {
          "z": 7.663919960677098
         },
         {
          "z": 0.015562803161167848
         },
         {
          "z": 0.1665122424485946
         },
         {
          "z": 3.3452666298684597
         },
         {
          "z": 0.46308283172235065
         },
         {
          "z": 0.012900509676287548
         },
         {
          "z": 9.452900926863785
         },
         {
          "z": 0.03551417759496445
         },
         {
          "z": 9.764622133913479
         },
         {
          "z": 0.16906485623771433
         },
         {
          "z": 0.17949338840112106
         },
         {
          "z": 3.8479951389836065
         },
         {
          "z": 6.581417052878899
         },
         {
          "z": 0.5883132404677184
         },
         {
          "z": 5.154999165985523
         },
         {
          "z": 1.0450033201539473
         },
         {
          "z": 2.9762382869549624
         },
         {
          "z": 0.5506971407805832
         },
         {
          "z": 2.0542621242489654
         },
         {
          "z": 1.4786926824573767
         },
         {
          "z": 0.2778470552903143
         },
         {
          "z": 0.31830171511951877
         },
         {
          "z": 9.859048842147148
         },
         {
          "z": 4.1499725004845285
         },
         {
          "z": 5.767126334982814
         },
         {
          "z": 0.4202813195743562
         },
         {
          "z": 7.045148930303498
         },
         {
          "z": 7.78850722519444
         },
         {
          "z": 6.068834321405962
         },
         {
          "z": 0.032765504682115025
         },
         {
          "z": 5.470402774321611
         },
         {
          "z": 0.10383475235907795
         },
         {
          "z": 3.958831381185444
         },
         {
          "z": 2.2660948586637755
         },
         {
          "z": 0.8598072547222634
         },
         {
          "z": 3.214365751313071
         },
         {
          "z": 4.331208270791481
         },
         {
          "z": 1.0081636877987055
         },
         {
          "z": 0.3895960571440851
         },
         {
          "z": 7.057439254026587
         },
         {
          "z": 0.008004749172769056
         },
         {
          "z": 4.45036360070814
         },
         {
          "z": 3.452519144446714
         },
         {
          "z": 6.143543452333681
         },
         {
          "z": 6.215985968877397
         },
         {
          "z": 8.678978603416745
         },
         {
          "z": 0.004797053893542335
         },
         {
          "z": 0.12268034053867241
         },
         {
          "z": 0.09076421310341376
         },
         {
          "z": 0.747280053679761
         },
         {
          "z": 8.757279103104226
         },
         {
          "z": 5.583125342777223
         },
         {
          "z": 8.319940228001732
         },
         {
          "z": 1.1417873855386815
         },
         {
          "z": 3.3257686397338566
         },
         {
          "z": 2.3007014478105465
         },
         {
          "z": 4.344006114368175
         },
         {
          "z": 4.041756913683372
         },
         {
          "z": 0.5299741157826185
         },
         {
          "z": 5.399219887392288
         },
         {
          "z": 8.760960395939817
         },
         {
          "z": 8.571084522560769
         },
         {
          "z": 2.4479243569030467
         },
         {
          "z": 0.0007033586138707176
         },
         {
          "z": 0.1932671907427175
         },
         {
          "z": 0.7180562100944211
         },
         {
          "z": 0.41710604060371187
         },
         {
          "z": 1.1135251631271752
         },
         {
          "z": 0.7295607274414012
         },
         {
          "z": 1.5699362281283813
         },
         {
          "z": 7.741239753912797
         },
         {
          "z": 1.8059637727039437
         },
         {
          "z": 1.8172367155394435
         },
         {
          "z": 2.4419062065794073
         },
         {
          "z": 5.337793363064632
         },
         {
          "z": 0.32314881372725207
         },
         {
          "z": 0.8117593686349273
         },
         {
          "z": 2.184561831245725
         },
         {
          "z": 1.1585180928855467
         },
         {
          "z": 0.009492739010351048
         },
         {
          "z": 7.161559808997158
         },
         {
          "z": 3.2251199268890445
         },
         {
          "z": 0.4753895459810694
         },
         {
          "z": 1.2371274610314174
         },
         {
          "z": 5.9666573748470935
         },
         {
          "z": 0.010577625793057087
         },
         {
          "z": 9.845919911219822
         },
         {
          "z": 1.5738365547587376
         },
         {
          "z": 3.1263607164040987
         },
         {
          "z": 1.9011070291240586
         },
         {
          "z": 0.6790028868519088
         },
         {
          "z": 5.671526201695864
         },
         {
          "z": 4.6241687204884165
         },
         {
          "z": 2.2508081114192207
         },
         {
          "z": 8.495067461289576
         },
         {
          "z": 6.196347618273606
         },
         {
          "z": 0.005488884249793602
         },
         {
          "z": 8.736193635216473
         },
         {
          "z": 7.532720733197404
         },
         {
          "z": 7.456064257724897
         },
         {
          "z": 0.3778948384993075
         },
         {
          "z": 0.5040345958512399
         },
         {
          "z": 0.021586407816203558
         },
         {
          "z": 0.9930518234325468
         },
         {
          "z": 9.572237498611079
         },
         {
          "z": 1.077781353506229
         },
         {
          "z": 2.390777474555886
         },
         {
          "z": 4.531735872952375
         },
         {
          "z": 1.0582370894360735
         },
         {
          "z": 0.7854805155973166
         },
         {
          "z": 7.192806620608957
         },
         {
          "z": 4.909634416748053e-06
         },
         {
          "z": 2.907123681168813
         },
         {
          "z": 3.98694395529894
         },
         {
          "z": 1.826438868396766
         },
         {
          "z": 5.2723882687990296
         },
         {
          "z": 9.227237340944223
         },
         {
          "z": 0.5040913333857663
         },
         {
          "z": 2.2274001524868523
         },
         {
          "z": 1.7476552716200822
         },
         {
          "z": 0.12485326391884377
         },
         {
          "z": 9.630320367997882
         },
         {
          "z": 1.8417028297313616
         },
         {
          "z": 0.08662880639813161
         },
         {
          "z": 3.4323766248880485
         },
         {
          "z": 2.910182735915189
         },
         {
          "z": 3.5139665188299576
         },
         {
          "z": 8.790909232996926
         },
         {
          "z": 0.766717093717822
         },
         {
          "z": 0.791484524472299
         },
         {
          "z": 2.0925380920531103
         },
         {
          "z": 0.3951100828449689
         },
         {
          "z": 0.6781625830881742
         },
         {
          "z": 0.4332719045369211
         },
         {
          "z": 0.24472590988340331
         },
         {
          "z": 3.91773437748335
         },
         {
          "z": 0.9751543493564776
         },
         {
          "z": 0.3740294118212181
         },
         {
          "z": 0.807038992702851
         },
         {
          "z": 9.624709093243984
         },
         {
          "z": 0.3969818103460171
         },
         {
          "z": 4.43330488814719
         },
         {
          "z": 4.1680449309950856
         },
         {
          "z": 3.672319172449072
         },
         {
          "z": 0.0005390099554052992
         },
         {
          "z": 9.742998007104042
         },
         {
          "z": 0.00040629281221253924
         },
         {
          "z": 1.2779629684041793
         },
         {
          "z": 0.02737240290915989
         },
         {
          "z": 0.611627311549999
         },
         {
          "z": 0.0028902021774620664
         },
         {
          "z": 4.204563061795864
         },
         {
          "z": 0.1778050901372808
         },
         {
          "z": 0.22188178866968478
         },
         {
          "z": 6.12562054943108
         },
         {
          "z": 0.18023100824984278
         },
         {
          "z": 0.01589846237430232
         },
         {
          "z": 5.821559402446967
         },
         {
          "z": 5.211732038161201
         },
         {
          "z": 0.39576258841665296
         },
         {
          "z": 9.375168348751473
         },
         {
          "z": 1.8120774657102565
         },
         {
          "z": 0.076496050712723
         },
         {
          "z": 0.06691865146099593
         },
         {
          "z": 8.057786619672603
         },
         {
          "z": 2.6402265997699854
         },
         {
          "z": 5.69594723266402
         },
         {
          "z": 6.826820847957959
         },
         {
          "z": 3.1232377776385087
         },
         {
          "z": 5.635804571056418
         },
         {
          "z": 0.197126563767969
         },
         {
          "z": 4.974367796645733
         },
         {
          "z": 2.3041490146631673
         },
         {
          "z": 6.816515921274843
         },
         {
          "z": 1.6864891824398007
         },
         {
          "z": 2.2701410161416202
         },
         {
          "z": 2.996844755189584
         },
         {
          "z": 0.00020060743296044338
         },
         {
          "z": 2.03676547062478
         },
         {
          "z": 1.6477491221187048
         },
         {
          "z": 8.655473360307225
         },
         {
          "z": 1.3933987273171757
         },
         {
          "z": 4.415080977387886
         },
         {
          "z": 0.8102448820314119
         },
         {
          "z": 1.4946292413928424
         },
         {
          "z": 1.8119092142376758
         },
         {
          "z": 4.994681785380348
         },
         {
          "z": 0.17325169922148487
         },
         {
          "z": 0.009654698554061085
         },
         {
          "z": 8.231410161943279
         },
         {
          "z": 2.1527819153702756
         },
         {
          "z": 3.0332313365592976
         },
         {
          "z": 1.1725583136458988
         },
         {
          "z": 0.10386041429043107
         },
         {
          "z": 1.6677031213950748
         },
         {
          "z": 1.1791433448198494
         },
         {
          "z": 9.838977061146462
         },
         {
          "z": 0.0733225557035502
         },
         {
          "z": 1.3530828873405323
         },
         {
          "z": 6.9922914334079085
         },
         {
          "z": 4.927514959759675
         },
         {
          "z": 5.497806577434769
         },
         {
          "z": 3.991136674548468
         },
         {
          "z": 3.6927407656830087
         },
         {
          "z": 5.521577336322084
         },
         {
          "z": 2.343161744425914
         },
         {
          "z": 9.182712539295872
         },
         {
          "z": 4.933310811092125
         },
         {
          "z": 0.725745554035266
         },
         {
          "z": 3.7176340736184192
         },
         {
          "z": 0.8936185631510265
         },
         {
          "z": 1.5455041588693788
         },
         {
          "z": 0.1438904732508991
         },
         {
          "z": 0.048158868625469343
         },
         {
          "z": 0.4101164997265728
         },
         {
          "z": 1.0957554878939917
         },
         {
          "z": 2.0275486196894126
         },
         {
          "z": 8.917820022232279
         },
         {
          "z": 4.313142734161623
         },
         {
          "z": 1.4974386242234297
         },
         {
          "z": 4.832855128875051
         },
         {
          "z": 1.2291993632466607
         },
         {
          "z": 3.3745379819245884
         },
         {
          "z": 1.058509516733852
         },
         {
          "z": 1.1502355737873586
         },
         {
          "z": 2.253903428004022
         },
         {
          "z": 3.07848039924086
         },
         {
          "z": 2.64620297453863
         },
         {
          "z": 0.09774692452241474
         },
         {
          "z": 1.7228793224216687
         },
         {
          "z": 0.14485199259622394
         },
         {
          "z": 0.31867452634913634
         },
         {
          "z": 6.145422253257578
         },
         {
          "z": 2.66312395147415
         },
         {
          "z": 4.798046462977222
         },
         {
          "z": 1.4913704248187207
         },
         {
          "z": 4.183461264630299
         },
         {
          "z": 6.968351891735285
         },
         {
          "z": 0.4899389518061591
         },
         {
          "z": 0.09596732491323105
         },
         {
          "z": 1.5240583024107153
         },
         {
          "z": 8.943702885270534
         },
         {
          "z": 1.3357657819584303
         },
         {
          "z": 0.5209479048342307
         },
         {
          "z": 7.337191847721644
         },
         {
          "z": 2.5590301937780553
         },
         {
          "z": 4.572620919908818
         },
         {
          "z": 8.696221116441304
         },
         {
          "z": 2.284549849149885
         },
         {
          "z": 2.0307547455628367
         },
         {
          "z": 7.491300517270949
         },
         {
          "z": 0.5461248727342018
         },
         {
          "z": 0.540724003969832
         },
         {
          "z": 1.7021078361165607
         },
         {
          "z": 1.7953563413107676
         },
         {
          "z": 4.4089128720083774
         },
         {
          "z": 0.00013650486344434786
         },
         {
          "z": 1.604377424471326
         },
         {
          "z": 3.468918057419543
         },
         {
          "z": 0.05675885208249832
         },
         {
          "z": 0.00010746881616081201
         },
         {
          "z": 8.153177705569298
         },
         {
          "z": 1.6669820647702802
         },
         {
          "z": 0.29596033263810007
         },
         {
          "z": 1.0481058551172633
         },
         {
          "z": 2.580136465649407
         },
         {
          "z": 7.588111280924256
         },
         {
          "z": 8.94271315370228
         },
         {
          "z": 4.052151449022033
         },
         {
          "z": 9.309690648170616
         },
         {
          "z": 3.6048387964072592
         },
         {
          "z": 7.073277047302668
         },
         {
          "z": 1.857791243390122
         },
         {
          "z": 4.475769798241026
         },
         {
          "z": 3.8931204316285224
         },
         {
          "z": 4.446573040754025
         },
         {
          "z": 6.4619784063763275
         },
         {
          "z": 3.9436182363184598
         },
         {
          "z": 5.2772601079307515
         },
         {
          "z": 4.128214703139143
         },
         {
          "z": 0.6230862950390671
         },
         {
          "z": 9.80646261958407
         },
         {
          "z": 3.977001915915746
         },
         {
          "z": 5.148062997103747
         },
         {
          "z": 7.0545074807956905
         },
         {
          "z": 0.8949265970225146
         },
         {
          "z": 9.3877823210043
         },
         {
          "z": 8.553269578305803
         },
         {
          "z": 1.6459599978999806
         },
         {
          "z": 0.055426072970341536
         },
         {
          "z": 3.5173627200816684
         },
         {
          "z": 2.433309970480266
         },
         {
          "z": 0.6458639921118302
         },
         {
          "z": 3.8158048726031746
         },
         {
          "z": 4.863363074402065
         },
         {
          "z": 3.806378904122631
         },
         {
          "z": 4.669215680643439
         },
         {
          "z": 0.11152278236162307
         },
         {
          "z": 1.0452123489876586
         },
         {
          "z": 9.803755491116611
         },
         {
          "z": 1.5245608569424052
         },
         {
          "z": 2.2988599227003492
         },
         {
          "z": 7.720523150269805
         },
         {
          "z": 3.882422428020188
         },
         {
          "z": 1.097702601740015
         },
         {
          "z": 0.06373983370842598
         },
         {
          "z": 8.700710514202523
         },
         {
          "z": 1.2549242903918756
         },
         {
          "z": 9.73860070572906
         },
         {
          "z": 4.965149676481649
         },
         {
          "z": 6.900201874510158
         },
         {
          "z": 0.08198446044257732
         },
         {
          "z": 4.594487314151065
         },
         {
          "z": 0.8790114007442416
         },
         {
          "z": 1.1008075350157958
         },
         {
          "z": 7.928420865304277
         },
         {
          "z": 4.4744964443127095
         },
         {
          "z": 0.028739778608441194
         },
         {
          "z": 1.244112596462217
         },
         {
          "z": 7.3844041989669895
         },
         {
          "z": 6.487912242206836
         },
         {
          "z": 1.5468936298297433
         },
         {
          "z": 2.915894530477697
         },
         {
          "z": 0.050625934916397525
         },
         {
          "z": 4.217907113418116
         },
         {
          "z": 8.471257814647052
         },
         {
          "z": 1.16286770212203
         },
         {
          "z": 0.03282254547869508
         },
         {
          "z": 7.230239828884746
         },
         {
          "z": 7.235068725722963
         },
         {
          "z": 1.429046536497186
         },
         {
          "z": 4.570412098882286
         },
         {
          "z": 8.79792893692623
         },
         {
          "z": 2.3614368535830503
         },
         {
          "z": 4.027201381603033
         },
         {
          "z": 5.023021538678679
         },
         {
          "z": 1.5574165011728134
         },
         {
          "z": 0.9907655268236395
         },
         {
          "z": 0.862234717795239
         },
         {
          "z": 0.8034609312212628
         },
         {
          "z": 4.332481357011856
         },
         {
          "z": 2.7636908244221474
         },
         {
          "z": 0.9124513524158706
         },
         {
          "z": 3.1193220843267735
         },
         {
          "z": 0.14414528161401516
         },
         {
          "z": 4.018667234111192
         },
         {
          "z": 4.413960171082115
         },
         {
          "z": 0.39539770876605124
         },
         {
          "z": 0.792500051562312
         },
         {
          "z": 0.5966056851675781
         },
         {
          "z": 5.421565251646384
         },
         {
          "z": 6.6323997568265085
         },
         {
          "z": 0.6794219882440239
         },
         {
          "z": 0.14119087611256462
         },
         {
          "z": 0.2170032783255664
         },
         {
          "z": 2.050691721358767
         },
         {
          "z": 0.0988899341854966
         },
         {
          "z": 8.700854685610901
         },
         {
          "z": 7.5504627903655575
         },
         {
          "z": 0.0008149894121920714
         },
         {
          "z": 8.051408024607115
         },
         {
          "z": 0.4354530895104763
         },
         {
          "z": 6.997785833314824
         },
         {
          "z": 8.470274726560467
         },
         {
          "z": 0.4277176903970422
         },
         {
          "z": 0.5067124524185065
         },
         {
          "z": 0.3093281871138941
         },
         {
          "z": 1.405501482234144
         },
         {
          "z": 0.38373068461279514
         },
         {
          "z": 0.002424081765739614
         },
         {
          "z": 0.3333805205998119
         },
         {
          "z": 0.16932927547322119
         },
         {
          "z": 8.230990388374115
         },
         {
          "z": 3.109481957606061
         },
         {
          "z": 1.9201667011643262
         },
         {
          "z": 5.676965540545172
         },
         {
          "z": 7.64659133060098
         },
         {
          "z": 8.782674971484129
         },
         {
          "z": 5.856979623823337
         },
         {
          "z": 0.01547589431733573
         },
         {
          "z": 8.708495333195167
         },
         {
          "z": 1.3174044329722614
         },
         {
          "z": 3.6433509701059785
         },
         {
          "z": 0.02571692421833953
         },
         {
          "z": 8.088725491483778
         },
         {
          "z": 2.1636091819758976
         },
         {
          "z": 0.6113304786378425
         },
         {
          "z": 4.671611891172732
         },
         {
          "z": 0.24150125736403874
         },
         {
          "z": 2.25018054031521
         },
         {
          "z": 0.7904947711403555
         },
         {
          "z": 4.346964321058052
         },
         {
          "z": 7.111242986161528
         },
         {
          "z": 5.391290167390785
         },
         {
          "z": 4.333485586146509
         },
         {
          "z": 7.036741503574038
         },
         {
          "z": 3.190978093928458
         },
         {
          "z": 9.061091421693884
         },
         {
          "z": 8.77019698538433
         },
         {
          "z": 2.025442224113547
         },
         {
          "z": 0.38783803039102394
         },
         {
          "z": 0.12046098134308164
         },
         {
          "z": 7.541945199652877
         },
         {
          "z": 4.081314335684478
         },
         {
          "z": 8.749950950106616
         },
         {
          "z": 2.5625548596273022
         },
         {
          "z": 1.2262609531571191
         },
         {
          "z": 0.19738237399264114
         },
         {
          "z": 7.1584362283203005
         },
         {
          "z": 0.008963212169878143
         },
         {
          "z": 1.1225214391159735
         },
         {
          "z": 3.30261993193759
         },
         {
          "z": 4.115533385874411
         },
         {
          "z": 6.321248710493314
         },
         {
          "z": 0.01934629811168511
         },
         {
          "z": 0.6284931706488774
         },
         {
          "z": 3.02344618445149
         },
         {
          "z": 0.8978055364750719
         },
         {
          "z": 9.876727488741416e-06
         },
         {
          "z": 8.572773489364321
         },
         {
          "z": 4.105020707548388
         },
         {
          "z": 2.2149247242414787
         },
         {
          "z": 6.600676179018152
         },
         {
          "z": 2.5024971134402585
         },
         {
          "z": 8.899555295590888
         },
         {
          "z": 8.739791839376243
         },
         {
          "z": 4.464909936077374
         },
         {
          "z": 5.4566027645778705
         },
         {
          "z": 0.7517471552519938
         },
         {
          "z": 0.2579386297059806
         },
         {
          "z": 2.353138159646694
         },
         {
          "z": 1.494791388080989
         },
         {
          "z": 7.734362383142692
         },
         {
          "z": 9.646651297612653
         },
         {
          "z": 0.3175715526030327
         },
         {
          "z": 0.0025281843030904357
         },
         {
          "z": 0.35580639875555886
         },
         {
          "z": 3.7221236125392765
         },
         {
          "z": 1.201199720242218
         },
         {
          "z": 1.1768190688935192
         },
         {
          "z": 6.669431057725878
         },
         {
          "z": 5.098342888090656
         },
         {
          "z": 0.07261878343906662
         },
         {
          "z": 7.046893541257045
         },
         {
          "z": 1.452454428456521
         },
         {
          "z": 0.7993093212377206
         },
         {
          "z": 0.38364887056821345
         },
         {
          "z": 0.8302946593999485
         },
         {
          "z": 6.797631383283131
         },
         {
          "z": 7.532103599371572
         },
         {
          "z": 1.069636276135702
         },
         {
          "z": 0.6473101357423295
         },
         {
          "z": 9.931602908944868
         },
         {
          "z": 3.4545739884203264
         },
         {
          "z": 7.579650530838039
         },
         {
          "z": 0.34761411745248
         },
         {
          "z": 5.9365609391295475
         },
         {
          "z": 0.4525696483691241
         },
         {
          "z": 4.267595617822188
         },
         {
          "z": 4.04624779701166
         },
         {
          "z": 7.073213335686001
         },
         {
          "z": 6.645075132291316
         },
         {
          "z": 0.0038128428027930238
         },
         {
          "z": 1.6384532369235485
         },
         {
          "z": 0.6572726808705869
         },
         {
          "z": 0.4116515534743659
         },
         {
          "z": 0.004365857281913098
         },
         {
          "z": 0.10272858251551838
         },
         {
          "z": 2.7514066592067827
         },
         {
          "z": 2.2189761400610264
         },
         {
          "z": 0.7414474892286353
         },
         {
          "z": 2.93930782612338
         },
         {
          "z": 0.0033962851386033057
         },
         {
          "z": 0.7961539269954933
         },
         {
          "z": 1.165831381854125
         },
         {
          "z": 3.260420728202855
         },
         {
          "z": 0.34359588724696327
         },
         {
          "z": 0.9720719984663216
         },
         {
          "z": 0.13392306235101475
         },
         {
          "z": 3.4724414375119306
         },
         {
          "z": 5.261213858762954
         },
         {
          "z": 0.1482981393787441
         },
         {
          "z": 1.1756487530564466
         },
         {
          "z": 3.2186453470402676
         },
         {
          "z": 3.6342351230521768
         },
         {
          "z": 5.661556258080372
         },
         {
          "z": 0.14468782488712176
         },
         {
          "z": 0.07287198791967336
         },
         {
          "z": 1.3660920646187167
         },
         {
          "z": 1.863566536993636
         },
         {
          "z": 5.930201295267209
         },
         {
          "z": 0.02023600456479968
         },
         {
          "z": 2.876814914545008
         },
         {
          "z": 2.2637286544629003
         },
         {
          "z": 0.18220434249726725
         },
         {
          "z": 1.9517180073386902
         },
         {
          "z": 1.3532220883959893
         },
         {
          "z": 4.346223748015669
         },
         {
          "z": 8.057785916413133
         },
         {
          "z": 5.340094842311514
         },
         {
          "z": 0.9795945479182369
         },
         {
          "z": 2.539475429420079
         },
         {
          "z": 1.2245424540708103
         },
         {
          "z": 0.5767283912412514
         },
         {
          "z": 0.18048947792832795
         },
         {
          "z": 1.5325627789921574
         },
         {
          "z": 2.820472080973562
         },
         {
          "z": 1.820466709725126
         },
         {
          "z": 0.6457468012086653
         },
         {
          "z": 1.900602223686321
         },
         {
          "z": 5.173729823165072
         },
         {
          "z": 1.5720316649047459
         },
         {
          "z": 9.208274657284312
         },
         {
          "z": 0.4521956025305389
         },
         {
          "z": 1.7049456665804008
         },
         {
          "z": 0.35968577972948235
         },
         {
          "z": 1.2123093804436598
         },
         {
          "z": 0.2764672293398806
         },
         {
          "z": 0.04574988044314708
         },
         {
          "z": 9.248885042037431
         },
         {
          "z": 9.373139171186349
         },
         {
          "z": 4.960785192787291
         },
         {
          "z": 7.16527989389654
         },
         {
          "z": 1.9428743618997413
         },
         {
          "z": 8.898115728417789
         },
         {
          "z": 0.037661632406564165
         },
         {
          "z": 9.839355838559655
         },
         {
          "z": 9.891462435537045
         },
         {
          "z": 9.2057404729318
         },
         {
          "z": 6.620770284600287
         },
         {
          "z": 2.2038438724629446
         },
         {
          "z": 0.14170724133336424
         },
         {
          "z": 7.350979843293702
         },
         {
          "z": 9.726147081863962
         },
         {
          "z": 6.3502442127211545
         },
         {
          "z": 1.5161521428942932
         },
         {
          "z": 1.55152304848605
         },
         {
          "z": 1.0687851725031496
         },
         {
          "z": 4.567060934503444
         },
         {
          "z": 9.521035339004776
         },
         {
          "z": 9.309743940255315
         },
         {
          "z": 4.807832820995844
         },
         {
          "z": 3.762158777347027
         },
         {
          "z": 0.35022950789465357
         },
         {
          "z": 1.0132908958140967
         },
         {
          "z": 8.749453681863693
         },
         {
          "z": 7.085143561599224
         },
         {
          "z": 8.727401192076808
         },
         {
          "z": 2.1225567432394197
         },
         {
          "z": 5.133680888264602
         },
         {
          "z": 9.012439724545501
         },
         {
          "z": 1.0769205202653687
         },
         {
          "z": 5.538008978187733
         },
         {
          "z": 0.9216450068783708
         },
         {
          "z": 0.02453222713142341
         },
         {
          "z": 2.4541291504068554
         },
         {
          "z": 1.0955185045248723
         },
         {
          "z": 0.39885423883645355
         },
         {
          "z": 4.005865979958945
         },
         {
          "z": 1.9340955193129825
         },
         {
          "z": 8.939842127593916
         },
         {
          "z": 0.24990284720602401
         },
         {
          "z": 0.0891757548221335
         },
         {
          "z": 1.4166858934227529
         },
         {
          "z": 0.23966574003987745
         },
         {
          "z": 6.786208385455938
         },
         {
          "z": 4.643110398195132
         },
         {
          "z": 8.942254057176298
         },
         {
          "z": 0.8046433598550797
         },
         {
          "z": 0.7368010437763538
         },
         {
          "z": 0.15509551360339727
         },
         {
          "z": 9.963972760626625
         },
         {
          "z": 7.346950512578716
         },
         {
          "z": 7.540517998741675
         },
         {
          "z": 3.663113658416013
         },
         {
          "z": 0.004744226359240438
         },
         {
          "z": 4.3985454174048195
         },
         {
          "z": 4.079039382895385
         },
         {
          "z": 8.878035182181288
         },
         {
          "z": 0.07875867354219013
         },
         {
          "z": 0.46413331953782855
         },
         {
          "z": 3.960310884793125
         },
         {
          "z": 1.0236874997092171
         },
         {
          "z": 6.031820308144804
         },
         {
          "z": 1.2218446088953918
         },
         {
          "z": 0.008377267654604437
         },
         {
          "z": 0.021050566393722048
         },
         {
          "z": 4.623855385861212
         },
         {
          "z": 2.0111206557367427
         },
         {
          "z": 9.990135980529061
         },
         {
          "z": 0.000435108727425614
         },
         {
          "z": 2.534777665117884
         },
         {
          "z": 0.018692977609311264
         },
         {
          "z": 8.718692312797982
         },
         {
          "z": 1.8859027648574442
         },
         {
          "z": 0.0038101298949694755
         },
         {
          "z": 0.186979943202662
         },
         {
          "z": 7.193689740256683
         },
         {
          "z": 5.400809036371859
         },
         {
          "z": 0.5716578893740594
         },
         {
          "z": 4.879813710130637
         },
         {
          "z": 0.007610855569282816
         },
         {
          "z": 4.425166184816655
         },
         {
          "z": 4.742380746943734
         },
         {
          "z": 9.622031648722771
         },
         {
          "z": 0.020733546838661333
         },
         {
          "z": 6.197383873915471
         },
         {
          "z": 8.42296054055073
         },
         {
          "z": 4.292555172271701
         },
         {
          "z": 1.4737736404655577
         },
         {
          "z": 0.9997262181681333
         },
         {
          "z": 0.7490245557129878
         },
         {
          "z": 0.6762243033908815
         },
         {
          "z": 9.42393628158992
         },
         {
          "z": 0.08841872045059719
         },
         {
          "z": 0.21699876771202714
         },
         {
          "z": 0.049656121014646296
         },
         {
          "z": 1.7214239624973056
         },
         {
          "z": 2.9440005424399835
         },
         {
          "z": 8.820193264143786
         },
         {
          "z": 8.495037989731564
         },
         {
          "z": 0.4019135113171167
         },
         {
          "z": 0.39956878992276657
         },
         {
          "z": 0.9573111873145461
         },
         {
          "z": 1.2869441299528583
         },
         {
          "z": 0.955657463770647
         },
         {
          "z": 5.561890087035862
         },
         {
          "z": 1.2707810774858324
         },
         {
          "z": 4.671796336988331
         },
         {
          "z": 4.943590420737725
         },
         {
          "z": 2.649167735123349
         },
         {
          "z": 6.807429026682073
         },
         {
          "z": 0.7952949362537463
         },
         {
          "z": 8.539173822428456
         },
         {
          "z": 5.407694539061748
         },
         {
          "z": 5.419440517991198
         },
         {
          "z": 0.6747755697940983
         },
         {
          "z": 0.28584310146203784
         },
         {
          "z": 0.9624321986437123
         },
         {
          "z": 6.25789769555891
         },
         {
          "z": 0.16784819884548935
         },
         {
          "z": 5.131583338269909
         },
         {
          "z": 9.26132724006702
         },
         {
          "z": 1.9585619580368858
         },
         {
          "z": 2.8553385793614936
         },
         {
          "z": 1.3070850692349008
         },
         {
          "z": 0.01720907766861051
         },
         {
          "z": 1.156241686334059
         },
         {
          "z": 0.6039241059145962
         },
         {
          "z": 2.7148574270239574
         },
         {
          "z": 0.10304071297186258
         },
         {
          "z": 0.04282600833104255
         },
         {
          "z": 6.910470124363286
         },
         {
          "z": 5.625012789854025
         },
         {
          "z": 9.63855085005365
         },
         {
          "z": 3.934988961114775e-05
         },
         {
          "z": 1.2367610450994941
         },
         {
          "z": 1.9678875621962086
         },
         {
          "z": 0.33378890624748886
         },
         {
          "z": 0.36428784559702104
         },
         {
          "z": 3.5844548491137944
         },
         {
          "z": 9.005749661288643
         },
         {
          "z": 0.3484044945713282
         },
         {
          "z": 1.1099491780970712
         },
         {
          "z": 0.8118052255913009
         },
         {
          "z": 0.5761229842887655
         },
         {
          "z": 8.445785291527452
         },
         {
          "z": 0.7229423422388109
         },
         {
          "z": 0.2112941490761221
         },
         {
          "z": 0.01570933673032132
         },
         {
          "z": 0.6802424601319763
         },
         {
          "z": 7.226838946805914
         },
         {
          "z": 0.154347942834158
         },
         {
          "z": 2.4814509737418344
         },
         {
          "z": 0.7720287714455243
         },
         {
          "z": 0.15923744210382298
         },
         {
          "z": 0.19088915436531007
         },
         {
          "z": 5.829988502976471
         },
         {
          "z": 7.058959777228852
         },
         {
          "z": 5.709889493655425
         },
         {
          "z": 0.47438979371455586
         },
         {
          "z": 2.1340370212395814
         },
         {
          "z": 3.9644836927253873
         },
         {
          "z": 0.05689694227118614
         },
         {
          "z": 2.268957001192718
         },
         {
          "z": 0.005790370257797487
         },
         {
          "z": 1.131647873575182
         },
         {
          "z": 1.880804074413539
         },
         {
          "z": 0.044316849876789216
         },
         {
          "z": 0.7428074811643932
         },
         {
          "z": 5.741222574527477
         },
         {
          "z": 4.809201634936971
         },
         {
          "z": 1.9840901604995977
         },
         {
          "z": 4.356138277538037
         },
         {
          "z": 2.6564046201269473
         },
         {
          "z": 4.252371650645371
         },
         {
          "z": 6.792061914449011
         },
         {
          "z": 9.247411572132796
         },
         {
          "z": 2.4078019876406525
         },
         {
          "z": 2.0441507674343287
         },
         {
          "z": 1.1240083903894764
         },
         {
          "z": 3.4685673990876404
         },
         {
          "z": 0.0044984337370593905
         },
         {
          "z": 2.4608543986978373
         },
         {
          "z": 0.07387617079761573
         },
         {
          "z": 6.834117273006873
         },
         {
          "z": 9.721167416018199
         },
         {
          "z": 0.20363600952279656
         },
         {
          "z": 6.483258556907332
         },
         {
          "z": 1.229483522233839
         },
         {
          "z": 0.3417591222936895
         },
         {
          "z": 2.252489558906037
         },
         {
          "z": 0.4187261276365508
         },
         {
          "z": 0.01071632798958475
         },
         {
          "z": 0.3325451683892434
         },
         {
          "z": 9.588370371507281
         },
         {
          "z": 1.094164989057376
         },
         {
          "z": 7.128015880548374
         },
         {
          "z": 0.40456105304160156
         },
         {
          "z": 4.6213741581103305
         },
         {
          "z": 0.0911933097210982
         },
         {
          "z": 0.3089196520442093
         },
         {
          "z": 5.25807281149268
         },
         {
          "z": 3.7233179690440728
         },
         {
          "z": 1.2701837258799995
         },
         {
          "z": 4.551223793244722
         },
         {
          "z": 5.450211327357842
         },
         {
          "z": 2.894174578480915
         },
         {
          "z": 5.7981433264159845
         },
         {
          "z": 1.2753342978751003
         },
         {
          "z": 4.817864758146711
         },
         {
          "z": 8.733571769281085
         },
         {
          "z": 7.386430352254284
         },
         {
          "z": 1.3989648753357808
         },
         {
          "z": 3.7065893654369098
         },
         {
          "z": 0.9704235464765519
         },
         {
          "z": 9.902986091420804
         },
         {
          "z": 6.435721790500683
         },
         {
          "z": 0.321703003184056
         },
         {
          "z": 0.4062678225036745
         },
         {
          "z": 1.4117355227323238
         },
         {
          "z": 3.715269360119902
         },
         {
          "z": 0.5184479295947109
         },
         {
          "z": 5.137840895012004
         },
         {
          "z": 0.4985191577888884
         },
         {
          "z": 9.564406616890226
         },
         {
          "z": 0.07886329507345517
         },
         {
          "z": 9.874323619366272
         },
         {
          "z": 3.3372238408018786
         },
         {
          "z": 5.72323137475381
         },
         {
          "z": 2.8994015956214025
         },
         {
          "z": 1.1411027220363854
         },
         {
          "z": 0.09686035694969058
         },
         {
          "z": 0.03900336007568929
         },
         {
          "z": 7.020258491110227
         },
         {
          "z": 8.68195012166357
         },
         {
          "z": 5.941279031506335
         },
         {
          "z": 0.2969447798460415
         },
         {
          "z": 7.92991924903959
         },
         {
          "z": 0.24293950582986976
         },
         {
          "z": 3.545129523483697
         },
         {
          "z": 3.7019814843694583
         },
         {
          "z": 2.656603983351572
         },
         {
          "z": 1.7251241418342276
         },
         {
          "z": 5.384531131417632
         },
         {
          "z": 7.079165027426542
         },
         {
          "z": 6.002999725434767
         },
         {
          "z": 5.15346179000706
         },
         {
          "z": 3.1171540270765115
         },
         {
          "z": 0.2057157225846567
         },
         {
          "z": 1.768747330871192
         },
         {
          "z": 6.887470840132885
         },
         {
          "z": 9.540577246088635
         },
         {
          "z": 7.377465226249812
         },
         {
          "z": 5.2495470400024
         },
         {
          "z": 9.399538292166913
         },
         {
          "z": 0.8972226052788229
         },
         {
          "z": 0.48700506487048334
         },
         {
          "z": 7.122031493338358
         },
         {
          "z": 1.7642425990490507
         },
         {
          "z": 7.358825688459742
         },
         {
          "z": 4.275480023393385
         },
         {
          "z": 2.305059134692815
         },
         {
          "z": 1.862329893148107
         },
         {
          "z": 4.981836921418695
         },
         {
          "z": 6.78911540518679
         },
         {
          "z": 0.5244935705214615
         },
         {
          "z": 4.096119735135343
         },
         {
          "z": 2.027230376687471
         },
         {
          "z": 5.019113478176312
         },
         {
          "z": 0.5384377579694348
         },
         {
          "z": 0.7378652313728594
         },
         {
          "z": 0.03919460306231561
         },
         {
          "z": 0.005635639255194592
         },
         {
          "z": 7.9066508944916585
         },
         {
          "z": 0.5567817951475245
         },
         {
          "z": 3.632505647298776
         },
         {
          "z": 4.747198401155607
         },
         {
          "z": 4.05547962870665
         },
         {
          "z": 8.04346693734888
         },
         {
          "z": 5.10746849108121
         },
         {
          "z": 8.242416435535299
         },
         {
          "z": 4.073494263043998
         },
         {
          "z": 0.008319929870350505
         },
         {
          "z": 3.795802808634607
         },
         {
          "z": 6.4255660138670425
         },
         {
          "z": 1.3483166006553753
         },
         {
          "z": 7.606367172812459
         },
         {
          "z": 1.9539245116395423
         },
         {
          "z": 1.9298835598559352
         },
         {
          "z": 0.34063449183924754
         },
         {
          "z": 5.742849326875662
         },
         {
          "z": 6.823586223199312
         },
         {
          "z": 3.307618532044643
         },
         {
          "z": 2.6954315366584582
         },
         {
          "z": 5.707643192124712
         },
         {
          "z": 2.219911161772808
         },
         {
          "z": 0.6306858766471506
         },
         {
          "z": 0.5668719129286232
         },
         {
          "z": 2.6787285587579026
         },
         {
          "z": 1.509681113340831
         },
         {
          "z": 1.4613605079356662
         },
         {
          "z": 5.725756940083583
         },
         {
          "z": 0.5182785647283225
         },
         {
          "z": 0.25897271690541784
         },
         {
          "z": 0.16651630623605254
         },
         {
          "z": 6.309285895046171
         },
         {
          "z": 8.29844342270787
         },
         {
          "z": 9.807229201375403
         },
         {
          "z": 2.209887366919179
         },
         {
          "z": 2.2455578346837473
         },
         {
          "z": 2.75712156233201
         },
         {
          "z": 4.307396188283369
         },
         {
          "z": 3.9172728767219214
         },
         {
          "z": 2.8695645232678473
         },
         {
          "z": 0.07019892426827727
         },
         {
          "z": 3.3312708535408078
         },
         {
          "z": 4.213456158845162
         },
         {
          "z": 0.9507389315285868
         },
         {
          "z": 4.206091162942936
         },
         {
          "z": 9.011927889352801
         },
         {
          "z": 4.364835084195067
         },
         {
          "z": 1.0108579608394757
         },
         {
          "z": 5.596765255253944
         },
         {
          "z": 6.450965840225359
         },
         {
          "z": 0.00028130184572671085
         },
         {
          "z": 8.405186288642438
         },
         {
          "z": 1.3326821975348744
         },
         {
          "z": 0.7722503569486721
         },
         {
          "z": 0.9756457066034075
         },
         {
          "z": 3.2590404175608487
         },
         {
          "z": 0.8861942521768398
         },
         {
          "z": 0.6653056857049902
         },
         {
          "z": 0.20014861813744617
         },
         {
          "z": 2.973092768635782
         },
         {
          "z": 8.696459805926965
         },
         {
          "z": 0.10631656946897079
         },
         {
          "z": 6.167690345765976
         },
         {
          "z": 0.06522673377913235
         },
         {
          "z": 2.3040368926606027
         },
         {
          "z": 2.0190235031707253
         },
         {
          "z": 1.2523808788694053
         },
         {
          "z": 3.4300146157458427
         },
         {
          "z": 7.024550224592234
         },
         {
          "z": 4.643989040809327
         },
         {
          "z": 3.0294627116448423
         },
         {
          "z": 0.06370501077746304
         },
         {
          "z": 0.5236129185225022
         },
         {
          "z": 0.259589854352137
         },
         {
          "z": 5.098844410631913
         },
         {
          "z": 0.3267130286272961
         },
         {
          "z": 6.497566210024772
         },
         {
          "z": 1.1685015469885793
         },
         {
          "z": 0.8804029814753057
         },
         {
          "z": 3.233427554062912
         },
         {
          "z": 8.1612804738655
         },
         {
          "z": 1.9429825244927958
         },
         {
          "z": 9.2426598015849
         },
         {
          "z": 0.8223212016835441
         },
         {
          "z": 0.34950515445889896
         },
         {
          "z": 6.312953409355994
         },
         {
          "z": 1.5724635726930107
         },
         {
          "z": 7.4084647006771025
         },
         {
          "z": 8.953727596807628
         },
         {
          "z": 3.281048589813755
         },
         {
          "z": 4.2057357517833225
         },
         {
          "z": 0.05818428671837051
         },
         {
          "z": 0.03517410713110433
         },
         {
          "z": 9.875140795047077
         },
         {
          "z": 0.22125037106746348
         },
         {
          "z": 1.5598694787195353
         },
         {
          "z": 0.0010269133986339214
         },
         {
          "z": 0.0754844370571438
         },
         {
          "z": 4.185515772569479
         },
         {
          "z": 9.417262282849512
         },
         {
          "z": 7.707804304006565
         },
         {
          "z": 9.69689483778916
         },
         {
          "z": 1.5159674721812242
         },
         {
          "z": 9.581261811883225
         },
         {
          "z": 0.2758373797716323
         },
         {
          "z": 1.562175776518118
         },
         {
          "z": 4.227770749149649
         },
         {
          "z": 0.20562051372905676
         },
         {
          "z": 5.349100343251308
         },
         {
          "z": 4.4651279534037345
         },
         {
          "z": 0.1417425675778154
         },
         {
          "z": 0.037249733356654206
         },
         {
          "z": 9.312229989770486
         },
         {
          "z": 4.205947809437886
         },
         {
          "z": 1.439608457624479
         },
         {
          "z": 0.22728237362762826
         },
         {
          "z": 5.163276393917194
         },
         {
          "z": 8.523788322774813
         },
         {
          "z": 2.2269955896315112
         },
         {
          "z": 3.1197184313244684
         },
         {
          "z": 0.3347787884647699
         }
        ]
       },
       "encoding": {
        "x": {
         "bin": {
          "maxbins": 100
         },
         "field": "z",
         "type": "quantitative"
        },
        "y": {
         "aggregate": "count",
         "type": "quantitative"
        }
       },
       "height": 100,
       "mark": "bar",
       "width": 400
      },
      "image/png": "[encoded data removed]",
      "text/plain": [
       "<VegaLite 3 object>\n",
       "\n",
       "If you see this message, it means the renderer has not been properly enabled\n",
       "for the frontend that you are using. For more information, see\n",
       "https://altair-viz.github.io/user_guide/troubleshooting.html\n"
      ]
     },
     "execution_count": 196,
     "metadata": {},
     "output_type": "execute_result"
    }
   ],
   "source": [
    "z = [realize_cont(Z) for i in range(1000)] # 1000 draws from Z\n",
    "\n",
    "plot_df = pd.DataFrame({'z':z})\n",
    "alt.Chart(plot_df, height=100, width=400).mark_bar().encode(\n",
    "    alt.X('z', bin=alt.Bin(maxbins=100)),\n",
    "    y='count()'\n",
    ")"
   ]
  },
  {
   "cell_type": "markdown",
   "metadata": {},
   "source": [
    "That looks suspicously like our bucketed density plot:"
   ]
  },
  {
   "cell_type": "code",
   "execution_count": 197,
   "metadata": {},
   "outputs": [
    {
     "data": {
      "application/vnd.vegalite.v3+json": {
       "$schema": "https://vega.github.io/schema/vega-lite/v3.4.0.json",
       "config": {
        "mark": {
         "tooltip": null
        },
        "view": {
         "height": 300,
         "width": 400
        }
       },
       "data": {
        "name": "data-87b4328471ec72ce0c0a7b12465363e4"
       },
       "datasets": {
        "data-87b4328471ec72ce0c0a7b12465363e4": [
         {
          "p": 0.1,
          "z": "[0.0,0.1)"
         },
         {
          "p": 0.0414213562373095,
          "z": "[0.1,0.2)"
         },
         {
          "p": 0.031783724519578255,
          "z": "[0.2,0.30000000000000004)"
         },
         {
          "p": 0.026794919243112253,
          "z": "[0.30000000000000004,0.4)"
         },
         {
          "p": 0.023606797749978953,
          "z": "[0.4,0.5)"
         },
         {
          "p": 0.021342176528338835,
          "z": "[0.5,0.6)"
         },
         {
          "p": 0.019626156828141256,
          "z": "[0.6000000000000001,0.7000000000000001)"
         },
         {
          "p": 0.018267581368159924,
          "z": "[0.7000000000000001,0.8)"
         },
         {
          "p": 0.017157287525380982,
          "z": "[0.8,0.9)"
         },
         {
          "p": 0.016227766016837952,
          "z": "[0.9,1.0)"
         },
         {
          "p": 0.015434713018702084,
          "z": "[1.0,1.1)"
         },
         {
          "p": 0.014747682478235491,
          "z": "[1.1,1.2000000000000002)"
         },
         {
          "p": 0.01414496603262344,
          "z": "[1.2000000000000002,1.3000000000000003)"
         },
         {
          "p": 0.01361061113099521,
          "z": "[1.3,1.4000000000000001)"
         },
         {
          "p": 0.013132595943347536,
          "z": "[1.4000000000000001,1.5000000000000002)"
         },
         {
          "p": 0.01270166537925832,
          "z": "[1.5,1.6)"
         },
         {
          "p": 0.012310562561766047,
          "z": "[1.6,1.7000000000000002)"
         },
         {
          "p": 0.011953506150162496,
          "z": "[1.7000000000000002,1.8000000000000003)"
         },
         {
          "p": 0.01162582564213882,
          "z": "[1.8,1.9000000000000001)"
         },
         {
          "p": 0.011323701145890597,
          "z": "[1.9000000000000001,2.0)"
         },
         {
          "p": 0.011043973995626122,
          "z": "[2.0,2.1)"
         },
         {
          "p": 0.010784006486758924,
          "z": "[2.1,2.2)"
         },
         {
          "p": 0.010541576348928994,
          "z": "[2.2,2.3000000000000003)"
         },
         {
          "p": 0.010314796225363687,
          "z": "[2.3000000000000003,2.4000000000000004)"
         },
         {
          "p": 0.010102051443364346,
          "z": "[2.4000000000000004,2.5000000000000004)"
         },
         {
          "p": 0.009901951359278516,
          "z": "[2.5,2.6)"
         },
         {
          "p": 0.009713290911384731,
          "z": "[2.6,2.7)"
         },
         {
          "p": 0.009535019942254919,
          "z": "[2.7,2.8000000000000003)"
         },
         {
          "p": 0.00936621850053232,
          "z": "[2.8000000000000003,2.9000000000000004)"
         },
         {
          "p": 0.0092060767917157,
          "z": "[2.9000000000000004,3.0000000000000004)"
         },
         {
          "p": 0.009053878777836144,
          "z": "[3.0,3.1)"
         },
         {
          "p": 0.008908988666235795,
          "z": "[3.1,3.2)"
         },
         {
          "p": 0.008770839704564826,
          "z": "[3.2,3.3000000000000003)"
         },
         {
          "p": 0.008638924830727257,
          "z": "[3.3000000000000003,3.4000000000000004)"
         },
         {
          "p": 0.008512788825431494,
          "z": "[3.4000000000000004,3.5000000000000004)"
         },
         {
          "p": 0.008392021690038387,
          "z": "[3.5,3.6)"
         },
         {
          "p": 0.008276253029821934,
          "z": "[3.6,3.7)"
         },
         {
          "p": 0.008165147267075734,
          "z": "[3.7,3.8000000000000003)"
         },
         {
          "p": 0.008058399542942185,
          "z": "[3.8000000000000003,3.9000000000000004)"
         },
         {
          "p": 0.007955732193836051,
          "z": "[3.9000000000000004,4.0)"
         },
         {
          "p": 0.007856891709609015,
          "z": "[4.0,4.1)"
         },
         {
          "p": 0.007761646097501185,
          "z": "[4.1000000000000005,4.2)"
         },
         {
          "p": 0.007669782589413976,
          "z": "[4.2,4.3)"
         },
         {
          "p": 0.007581105640879882,
          "z": "[4.3,4.3999999999999995)"
         },
         {
          "p": 0.0074954351788568685,
          "z": "[4.4,4.5)"
         },
         {
          "p": 0.007412605062589894,
          "z": "[4.5,4.6)"
         },
         {
          "p": 0.007332461727577511,
          "z": "[4.6000000000000005,4.7)"
         },
         {
          "p": 0.0072548629874464865,
          "z": "[4.7,4.8)"
         },
         {
          "p": 0.007179676972449034,
          "z": "[4.800000000000001,4.9)"
         },
         {
          "p": 0.007106781186547506,
          "z": "[4.9,5.0)"
         },
         {
          "p": 0.007036061667737403,
          "z": "[5.0,5.1)"
         },
         {
          "p": 0.006967412238512938,
          "z": "[5.1000000000000005,5.2)"
         },
         {
          "p": 0.006900733835253914,
          "z": "[5.2,5.3)"
         },
         {
          "p": 0.006835933906901626,
          "z": "[5.300000000000001,5.4)"
         },
         {
          "p": 0.006772925874612867,
          "z": "[5.4,5.5)"
         },
         {
          "p": 0.006711628645221901,
          "z": "[5.5,5.6)"
         },
         {
          "p": 0.006651966172286694,
          "z": "[5.6000000000000005,5.7)"
         },
         {
          "p": 0.00659386705931575,
          "z": "[5.7,5.8)"
         },
         {
          "p": 0.006537264200469961,
          "z": "[5.800000000000001,5.9)"
         },
         {
          "p": 0.006482094454622556,
          "z": "[5.9,6.0)"
         },
         {
          "p": 0.006428298349182016,
          "z": "[6.0,6.1)"
         },
         {
          "p": 0.006375819810515604,
          "z": "[6.1000000000000005,6.2)"
         },
         {
          "p": 0.006324605918196058,
          "z": "[6.2,6.3)"
         },
         {
          "p": 0.006274606680622741,
          "z": "[6.300000000000001,6.4)"
         },
         {
          "p": 0.00622577482985498,
          "z": "[6.4,6.5)"
         },
         {
          "p": 0.0061780656337410145,
          "z": "[6.5,6.6)"
         },
         {
          "p": 0.00613143672364902,
          "z": "[6.6000000000000005,6.7)"
         },
         {
          "p": 0.00608584793628697,
          "z": "[6.7,6.8)"
         },
         {
          "p": 0.006041261168275414,
          "z": "[6.800000000000001,6.9)"
         },
         {
          "p": 0.00599764024226801,
          "z": "[6.9,7.0)"
         },
         {
          "p": 0.005954950783560231,
          "z": "[7.0,7.1)"
         },
         {
          "p": 0.005913160106221116,
          "z": "[7.1000000000000005,7.2)"
         },
         {
          "p": 0.005872237107896083,
          "z": "[7.2,7.3)"
         },
         {
          "p": 0.0058321521725094305,
          "z": "[7.300000000000001,7.4)"
         },
         {
          "p": 0.005792877080175951,
          "z": "[7.4,7.5)"
         },
         {
          "p": 0.005754384923696065,
          "z": "[7.5,7.6)"
         },
         {
          "p": 0.005716650031077575,
          "z": "[7.6000000000000005,7.7)"
         },
         {
          "p": 0.005679647893572448,
          "z": "[7.7,7.8)"
         },
         {
          "p": 0.005643355098774228,
          "z": "[7.800000000000001,7.9)"
         },
         {
          "p": 0.005607749268356943,
          "z": "[7.9,8.0)"
         },
         {
          "p": 0.005572809000084167,
          "z": "[8.0,8.1)"
         },
         {
          "p": 0.005538513813741597,
          "z": "[8.1,8.2)"
         },
         {
          "p": 0.005504844100688189,
          "z": "[8.200000000000001,8.3)"
         },
         {
          "p": 0.00547178107673818,
          "z": "[8.3,8.4)"
         },
         {
          "p": 0.005439306738120653,
          "z": "[8.4,8.5)"
         },
         {
          "p": 0.005407403820281598,
          "z": "[8.5,8.6)"
         },
         {
          "p": 0.005376055759311105,
          "z": "[8.6,8.7)"
         },
         {
          "p": 0.005345246655804381,
          "z": "[8.700000000000001,8.8)"
         },
         {
          "p": 0.005314961240974414,
          "z": "[8.8,8.9)"
         },
         {
          "p": 0.005285184844853408,
          "z": "[8.9,9.0)"
         },
         {
          "p": 0.005255903366431891,
          "z": "[9.0,9.1)"
         },
         {
          "p": 0.005227103245598164,
          "z": "[9.1,9.2)"
         },
         {
          "p": 0.005198771436751626,
          "z": "[9.200000000000001,9.3)"
         },
         {
          "p": 0.005170895383970309,
          "z": "[9.3,9.4)"
         },
         {
          "p": 0.005143462997630466,
          "z": "[9.4,9.5)"
         },
         {
          "p": 0.005116462632374863,
          "z": "[9.5,9.6)"
         },
         {
          "p": 0.005089883066339174,
          "z": "[9.600000000000001,9.700000000000001)"
         },
         {
          "p": 0.005063713481556098,
          "z": "[9.700000000000001,9.8)"
         },
         {
          "p": 0.005037943445453386,
          "z": "[9.8,9.9)"
         },
         {
          "p": 0.005012562893380035,
          "z": "[9.9,10.0)"
         }
        ]
       },
       "encoding": {
        "x": {
         "axis": null,
         "field": "z",
         "type": "ordinal"
        },
        "y": {
         "field": "p",
         "type": "quantitative"
        }
       },
       "height": 100,
       "mark": "bar",
       "width": 400
      },
      "image/png": "[encoded data removed]",
      "text/plain": [
       "<VegaLite 3 object>\n",
       "\n",
       "If you see this message, it means the renderer has not been properly enabled\n",
       "for the frontend that you are using. For more information, see\n",
       "https://altair-viz.github.io/user_guide/troubleshooting.html\n"
      ]
     },
     "execution_count": 197,
     "metadata": {},
     "output_type": "execute_result"
    }
   ],
   "source": [
    "zs = np.arange(0,10,0.1)\n",
    "ps = [Pz(z,z+0.1) for z in zs]\n",
    "zs_labels = [f'[{z},{z+0.1})' for z in zs]\n",
    "\n",
    "distribution = pd.DataFrame({'z':zs_labels, 'p':ps})\n",
    "alt.Chart(distribution, height=100, width=400).mark_bar().encode(alt.X('z:O',axis=None), y='p')"
   ]
  },
  {
   "cell_type": "markdown",
   "metadata": {},
   "source": [
    "So what's the difference? Think about what it is we're \"stacking up\" in the bars. In the histogram, we're sorting and stacking up a *finite number* $n$ of *observed values* $z_i$ according to what they are. In the density plot, we're sorting and stacking up *all* of the *outcomes* $\\omega$ in the silo according to the values they are destined to become, and we're measuring their relative volume, not absolute counts.\n",
    "\n",
    "In a nutshell, the histogram is what we can actually observe, given outputs from the factory. But the density descibes the inner workings of the factory itself, which we can never actually observe."
   ]
  },
  {
   "cell_type": "markdown",
   "metadata": {},
   "source": [
    "<div class=\"alert alert-block alert-info\">\n",
    "<b>Exercise:</b> \n",
    "\n",
    "What do you expect to happen to the histogram above as the number of observations is increased from $1000$ to larger and larger numbers? Can you provide an intuitive explanation for why this happens?\n",
    "    \n",
    "</div>"
   ]
  },
  {
   "cell_type": "markdown",
   "metadata": {},
   "source": [
    "### Common Distributions"
   ]
  },
  {
   "cell_type": "markdown",
   "metadata": {},
   "source": [
    "We've seen that, for all practical purposes, a random variable is determined by its probability distribution (mass or density function). In reality, the distribution of any particular measurement (e.g. blood pressure) is unknown- it depends on a complex web of causal factors. The true density function is almost certainly so complex it's not even something that we could write down. But, for the purposes of *modeling* that measurement, we can pretend that the density is something we *can* write down. \n",
    "\n",
    "Over the centuries, people have come up with a lot of distributions that are useful as models across various scenarios. Here are a few of them:"
   ]
  },
  {
   "cell_type": "markdown",
   "metadata": {},
   "source": [
    "#### Bernoulli distribution"
   ]
  },
  {
   "cell_type": "markdown",
   "metadata": {},
   "source": [
    "Let's say we're interested in modeling the result of a coin flip. The actual value (heads/tails, which we code as 0/1) of the coin flip is determined by some insanely complicated physics, but we're going to pretend that the value comes out of a little factory called $\\mathbf Z$ that has the following probability mass function:\n",
    "\n",
    "\n",
    "$$\n",
    "P(\\mathbf Z=z) =\n",
    "\\begin{cases}\n",
    "1/2 & \\text{for }z=0 \\\\\n",
    "1/2 & \\text{for }z=1\n",
    "\\end{cases}\n",
    "$$"
   ]
  },
  {
   "cell_type": "markdown",
   "metadata": {},
   "source": [
    "If we want to model a biased coin that comes up heads $(p\\times100)$% of the time, we can use a mass function like:"
   ]
  },
  {
   "cell_type": "markdown",
   "metadata": {},
   "source": [
    "$$\n",
    "P(\\mathbf Z=z) =\n",
    "\\begin{cases}\n",
    "p & \\text{for }z=0 \\\\\n",
    "1-p & \\text{for }z=1\n",
    "\\end{cases}\n",
    "$$"
   ]
  },
  {
   "cell_type": "markdown",
   "metadata": {},
   "source": [
    "This is often written as $\\mathbf Z \\sim \\text{Bernoulli}(p)$ (read: \"$\\mathbf Z$ is Bernoulli-distributed\"). The number $p$ is said to be a *parameter* of the Bernoulli distribution. It would be more accurate to say that a random variable is distributed as a *member* of the Bernoulli *family* of distributions, since, technically, every different value of $p$ encodes a different distribution, or factory, for making data.\n",
    "\n",
    "Another way to think about it is that there's one data factory, but it has a control panel with a knob labeled \"$p$\". If $p$ is set to 0.7, we expect about 70% of the outputs to be 1. If $p$ is set to $0.1$, 10%, and so on. It's a matter of semantics whether or not you want to say that factory is representing two different factories, or merely one factory under two different operating conditions. Both perspectives are useful."
   ]
  },
  {
   "cell_type": "markdown",
   "metadata": {},
   "source": [
    "#### Normal Distribution\n",
    "\n",
    "Let's say we want to model the heights of everyone on Earth. We have an intuition that people are typically a bit shorter than two meters, and taller and shorter people are more and more rare the taller and shorter they get. We can pretend that height measurements come from a *normal* distribution (also called *Gaussian* distribution):"
   ]
  },
  {
   "cell_type": "markdown",
   "metadata": {},
   "source": [
    "$$\n",
    "\\phi(z) = \n",
    "\\frac{1}{\\sqrt{2\\pi\\sigma}} \n",
    "e^{-\\frac{(x-\\mu)^2}{2\\sigma^2}}\n",
    "$$"
   ]
  },
  {
   "cell_type": "markdown",
   "metadata": {},
   "source": [
    "Most often you'll see this written as $\\mathbf Z \\sim \\mathcal N(\\mu, \\sigma)$ (read: \"$\\mathbf Z$ is normally distributed\"). The numbers $\\mu$ and $\\sigma$ are the parameters (control knobs) of the normal distribution. \n",
    "\n",
    "![](https://upload.wikimedia.org/wikipedia/commons/7/74/Normal_Distribution_PDF.svg)"
   ]
  },
  {
   "cell_type": "markdown",
   "metadata": {},
   "source": [
    "As you can see in the picture, $\\mu$ controls where the \"bell curve\" is centered and $\\sigma$ controls how wide or narrow it is."
   ]
  },
  {
   "cell_type": "markdown",
   "metadata": {},
   "source": [
    "#### Others "
   ]
  },
  {
   "cell_type": "markdown",
   "metadata": {},
   "source": [
    "There are [hundreds](https://upload.wikimedia.org/wikipedia/commons/7/74/Normal_Distribution_PDF.svg) of well-studied distributions available to choose from when modeling. The most important thing to know about a distribution is what values random variables that are so-distributed can produce. This is sometimes called the *support* of the distribution. For instance, varaibles that are normally-, Cauchy-, or Laplace-distributed can take values between $-\\infty$ and $\\infty$. The $\\chi^2$ distribution has support on $[0,\\infty)$. The beta and standard uniform distributions have support on $[0,1]$. The Poisson distribution has support on the counting numbers 0, 1, 2..., and the K-categorical distribution has support on a finite number of integers 0, 1, 2, ... K. \n",
    "\n",
    "It's also totally possible to invent your own distribution by defining your own support set $A$ and mass/density function $\\phi$, as long as $\\phi(a) \\ge 0$ for all $a \\in A$ and $\\int_A \\phi(a) da = 1$ (see exercise in previous section).\n",
    "\n",
    "The point of this diversity is that it is possible to model different kinds of data. Apartment rents are always positive numbers, but theoretically unbounded above (a scary thought), so perhaps $\\chi^2$ is a good choice. The number of cars that pass through an intersection in a given day is always an integer, so Poisson is a reasonable choice for that. You don't have to remember any of these specific distributions or examples- just know there are many preconstructed pretend data factories out there to play with. Also know that the real data-generating process is pretty much *never* actually one of these distributions, although, sometimes, it might be well-approximated by one."
   ]
  },
  {
   "cell_type": "markdown",
   "metadata": {},
   "source": [
    "## Multivariate random variables"
   ]
  },
  {
   "cell_type": "markdown",
   "metadata": {},
   "source": [
    "Until now, we've only discussed scalar-valued random variables, which produce a single value at a time. In supervised learning, we need to figure something out about the relationship between a vector of predictors $x_i$ and a label $y_i$, which we imagine are generated in pairs by some data factory. We need language to describe that kind of factory."
   ]
  },
  {
   "cell_type": "code",
   "execution_count": 209,
   "metadata": {},
   "outputs": [],
   "source": [
    "# figure of mapping $\\Omega$ to the number line vs. mapping \\Omega to a 2D or 3D space. \n",
    "# also show regions with their relative probability"
   ]
  },
  {
   "cell_type": "markdown",
   "metadata": {},
   "source": [
    "A multivariate (or vector-valued) random variable is a factory that produces vectors instead of scalars. More formally, it's a mapping between outcomes in the sample space to vectors of numbers. All our old rules still apply: one outcome strictly maps to one vector. We can demonstrate:"
   ]
  },
  {
   "cell_type": "code",
   "execution_count": 199,
   "metadata": {},
   "outputs": [],
   "source": [
    "def Z(ω): \n",
    "    if ω in set([1,8]):\n",
    "        return (0,0)\n",
    "    if ω in set([4,5,9]): \n",
    "        return (1,0)\n",
    "    if ω in set([0,2,3]):\n",
    "        return (0,1)\n",
    "    if ω in set([6,7]):\n",
    "        return (1,1)\n",
    "Z.Ω = set([0,1,2,3,4,5,6,7,8,9]) "
   ]
  },
  {
   "cell_type": "code",
   "execution_count": 200,
   "metadata": {},
   "outputs": [
    {
     "data": {
      "text/plain": [
       "[(1, 0), (0, 1), (0, 1), (0, 0), (0, 1)]"
      ]
     },
     "execution_count": 200,
     "metadata": {},
     "output_type": "execute_result"
    }
   ],
   "source": [
    "[realize(Z) for i in range(5)]"
   ]
  },
  {
   "cell_type": "markdown",
   "metadata": {},
   "source": [
    "This is a discrete multivariate random variable because it can only return four possible values: $(0,0)$, $(1,0)$, $(0,1)$, and $(1,1)$. It's also possible to make continuous multivariate random variables:"
   ]
  },
  {
   "cell_type": "code",
   "execution_count": 207,
   "metadata": {},
   "outputs": [],
   "source": [
    "def Z(ω): \n",
    "    z1 = ω**2\n",
    "    z2 = 1-ω\n",
    "    return (z1, z2)\n",
    "Z.Ω = random.random # returns a single number between 0 and 1 when called"
   ]
  },
  {
   "cell_type": "code",
   "execution_count": 208,
   "metadata": {},
   "outputs": [
    {
     "data": {
      "text/plain": [
       "[(0.6620984625077362, 0.18630567010225751),\n",
       " (0.6785690230195848, 0.1762469890679702),\n",
       " (0.2568492876659411, 0.49319699323510213),\n",
       " (0.019519098615468935, 0.8602892322851637),\n",
       " (0.5283609999197267, 0.2731155525671727)]"
      ]
     },
     "execution_count": 208,
     "metadata": {},
     "output_type": "execute_result"
    }
   ],
   "source": [
    "[realize_cont(Z) for i in range(5)]"
   ]
  },
  {
   "cell_type": "markdown",
   "metadata": {},
   "source": [
    "Probabilities are the same for multivariate random variables as they are for univariate random variables: you grab all of the outcomes in the sample space that are destined to become one of the values you're looking for and you measure their relative volume. The calculations do get a little trickier, but the intuition is the same. \n",
    "\n",
    "For example, with $\\mathbf Z(\\omega) = (\\omega^2, 1-\\omega)$ as it is above, let's find the probability that the output vector $z = (z_1,z_2)$ is in the region corresponding to $z_1<0.5$ and $z_2<0.5$. When we were working with univariate random variables, the sets of interest were usually intervals (i.e. what's the probability that $z$ is between $a$ and $b$?). In the multivariate case, the equivalent of an interval on the number line is a region of the vector space. "
   ]
  },
  {
   "cell_type": "code",
   "execution_count": null,
   "metadata": {},
   "outputs": [],
   "source": []
  },
  {
   "cell_type": "markdown",
   "metadata": {},
   "source": [
    "- conditional probability, conditional density"
   ]
  },
  {
   "cell_type": "markdown",
   "metadata": {},
   "source": [
    "- "
   ]
  }
 ],
 "metadata": {
  "kernelspec": {
   "display_name": "Python 3",
   "language": "python",
   "name": "python3"
  },
  "language_info": {
   "codemirror_mode": {
    "name": "ipython",
    "version": 3
   },
   "file_extension": ".py",
   "mimetype": "text/x-python",
   "name": "python",
   "nbconvert_exporter": "python",
   "pygments_lexer": "ipython3",
   "version": "3.7.3"
  }
 },
 "nbformat": 4,
 "nbformat_minor": 4
}
