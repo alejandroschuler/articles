{
 "cells": [
  {
   "cell_type": "markdown",
   "metadata": {},
   "source": [
    "# Peeling back the curtain"
   ]
  },
  {
   "cell_type": "markdown",
   "metadata": {},
   "source": [
    "Statistics (of which machine learning is one part) is all about being able to make inferences about how the world works, given some data. In essence, trying to peel back the curtain on what is unknown. To be able to do that, we need a way to talk about what data are, and a way to talk about what could be behind that curtain."
   ]
  },
  {
   "cell_type": "markdown",
   "metadata": {},
   "source": [
    "## Talking about data"
   ]
  },
  {
   "cell_type": "markdown",
   "metadata": {},
   "source": [
    "Let's say we observe 1000 patients in a hospital, each of whom has measurements of their pre-treatment blood pressure, heart rate, etc. and also their corresponding blood pressure after taking a drug. For a new patient who walks in the door, given their current vital signs, can we predict their post-treatment blood pressure? \n",
    "\n",
    "We need a way to talk abstractly about the data in these kinds of problems so that we can apply the same methods to different problems without having to completely rethink our approach every time.\n",
    "\n",
    "We're going to use a subscript $i$ to refer to data about the $i$th patient. So, for example, if $z$ were some measurement we made on all patients, $z_i$ would be the value of that measurement for the $i$th patient. The patient in our example is what we call the *unit of observation*. But if we were talking about classifying pictures as having cats or not having cats in them, the unit of observation would be the picture. So, in general, the subscript $i$ refers to the $i$th observation in the dataset, which could be a patient, a photograph, a credit card transaction, etc. \n",
    "\n",
    "The total number of observations is usually called $n$, so $i$ could stand for any number between 1 and $n$. A shorter way to write that is $i \\in \\{1, 2, \\dots n\\}$. You can read $\\in$ as \"in\", so this says \"$i$ is a number in the set of numbers that includes 1, 2, ... all the way up to $n$\". We'll use that notation for other things as well.\n",
    "\n",
    "We usually use the variable $y$ to refer to the measurement we are trying to predict, which is in this case the patient's post-treatment blood pressure. You'll most often see $y$ called the *target*, or *outcome*. Using our observation subscripts, $y_1$ would be the first patient's post-treatment blood pressure, $y_2$ would be the second patient's blood pressure, etc. \n",
    "\n",
    "We can do the same thing for the other measurements, which are called *predictors*, *features*, or *covariates*. We could use different letters for each predictor, e.g. pre-treatment blood pressure would be $z$, pre-treatment heart rate would be $x$, but the standard practice is to call them all \"$x$\", but subscript them with an index $j$ (different than the index $i$ that refers to the unit of observation). So, in our example, we'll say $x_{i1}$ is patient $i$'s pre-treatment blood pressure, $x_{i2}$ is their pre-treatment heart rate, etc. We will use $p$ to refer to the number of predictors we have for each observation, so $j \\in \\{1 \\dots p\\}$. We'll use $x_i$ to refer to a list of all of the features for observation $i$:\n",
    "\n",
    "$$\n",
    "x_i = \n",
    "\\left[\n",
    "\\begin{array}{cccc}\n",
    "x_{i1} & x_{i2} & \\cdots & x_{ip}\n",
    "\\end{array}\n",
    "\\right] \n",
    "$$\n",
    "\n",
    "\n",
    "Now each observation is decribed by its target $y_i$ and its vector of predictors $x_i$. We stack these measurements together into lists of outcomes and predictors so we can refer to all of them at once:\n",
    "\n",
    "$$\n",
    "X = \n",
    "\\left[\n",
    "\\begin{array}{c}\n",
    "x_1 \\\\ x_2 \\\\ \\vdots \\\\ x_n\n",
    "\\end{array}\n",
    "\\right] \n",
    "=\n",
    "\\left[\n",
    "\\begin{array}{cccc}\n",
    "x_{11} & x_{12} & \\cdots & x_{1p} \\\\\n",
    "x_{21} & x_{22} & \\cdots & x_{2p} \\\\\n",
    "\\vdots & & \\ddots & \\vdots \\\\\n",
    "x_{n1} & x_{n2} & \\cdots & x_{np} \n",
    "\\end{array}\n",
    "\\right]\n",
    "\\quad\n",
    "Y = \n",
    "\\left[\n",
    "\\begin{array}{c}\n",
    "y_1 \\\\ y_2 \\\\ \\vdots \\\\ y_n\n",
    "\\end{array}\n",
    "\\right] \n",
    "$$\n",
    "\n",
    "You may recall that ordered lists of numbers are also called *vectors*, and a list of lists of numbers (like $X$) can be written as a *matrix*. These are the terms we'll use going forward. \n",
    "\n",
    "Note that each column of $X$ (which we'll call $x_{:j}$) is a vector that contains every measurement of the $j$th feature."
   ]
  },
  {
   "cell_type": "markdown",
   "metadata": {},
   "source": [
    "Now we can formalize our learning problem in the abstract. All the measurements for the existing patients are contained in the matrix of predictors $X$ and the vector of targets $Y$. A new patient walks in the door (patient #$n+1$), and we measure all their predictors $x_{n+1}$. What we don't observe, but want to estimate, is the value of their target, $y_{n+1}$."
   ]
  },
  {
   "cell_type": "markdown",
   "metadata": {},
   "source": [
    "### Example in Code"
   ]
  },
  {
   "cell_type": "markdown",
   "metadata": {},
   "source": [
    "We'll make some fake data in python to demonstrate. The `numpy` library is used to represent vectors and matrices in python."
   ]
  },
  {
   "cell_type": "markdown",
   "metadata": {},
   "source": [
    "Here are all the predictors and outcomes for $n$ observations (e.g. pre-treatment measurements and post-treatment blood pressure for $n$ patients):"
   ]
  },
  {
   "cell_type": "code",
   "execution_count": 2,
   "metadata": {},
   "outputs": [
    {
     "data": {
      "text/plain": [
       "(array([[0.47153749, 0.86663385],\n",
       "        [0.89570609, 0.73965225],\n",
       "        [0.93524577, 0.15338903],\n",
       "        [0.41001398, 0.72286359],\n",
       "        [0.95299513, 0.23544187]]),\n",
       " array([0.10518195, 0.60146196, 0.09063815, 0.54558473, 0.42226354]))"
      ]
     },
     "execution_count": 2,
     "metadata": {},
     "output_type": "execute_result"
    }
   ],
   "source": [
    "import numpy as np\n",
    "n = 5 # 5 observations\n",
    "p = 2 # 2 features\n",
    "X = np.random.rand(n,p) # a random matrix of numbers between 0 and 1. \n",
    "Y = np.random.rand(n)\n",
    "X, Y"
   ]
  },
  {
   "cell_type": "markdown",
   "metadata": {},
   "source": [
    "And here are the predictors for a new observation (e.g. the pre-treatment measurements for a new patient)"
   ]
  },
  {
   "cell_type": "code",
   "execution_count": 3,
   "metadata": {},
   "outputs": [
    {
     "data": {
      "text/plain": [
       "array([[0.81766611, 0.8542249 ]])"
      ]
     },
     "execution_count": 3,
     "metadata": {},
     "output_type": "execute_result"
    }
   ],
   "source": [
    "x_new = np.random.rand(1,p)\n",
    "x_new"
   ]
  },
  {
   "cell_type": "markdown",
   "metadata": {},
   "source": [
    "What we want is an algorithm that takes any values of `x_new` and uses all the data in `X` and `Y` to output an prediction for what `y_new` should be:"
   ]
  },
  {
   "cell_type": "code",
   "execution_count": 4,
   "metadata": {},
   "outputs": [],
   "source": [
    "def fancy_machine_learning_prediction(x_new):\n",
    "    # ... do some stuff with X and Y\n",
    "    return y_new_estimated"
   ]
  },
  {
   "cell_type": "code",
   "execution_count": 5,
   "metadata": {},
   "outputs": [],
   "source": [
    "### Aside about non-tabular data, feature engineering, and methods for nontabular data"
   ]
  },
  {
   "cell_type": "markdown",
   "metadata": {},
   "source": [
    "## What's behind the curtain?"
   ]
  },
  {
   "cell_type": "markdown",
   "metadata": {},
   "source": [
    "In the example above, we demonstrated some code that generates fake data $X$ and $Y$. On the other hand, real data comes from the real world, not from some python code. For every dataset, there is an immensely complex network of causal interactions that ultimately \"produces\" the data. \n",
    "\n",
    "For example, in our blood pressure example, a patient's pre-treatment vital signs are caused by their physiological state: their genetics, life history, what they ate for breakfast that morning, whether or not they just ran up a flight of stairs, and so on and so forth. Taking a drug influences the levels of certain chemicals in the blood, which are taken up at particular rates in certain organs by certain enzymes, the levels of which are impacted by the patient's genetics and prior physiological state, which was influenced by their life history, etc. Thus the impact of the drug on cellular processes is mediated by these factors. The cells respond by increasing or decreasing their production of some proteins or metabolites, which, in combination with the immediate condition of the patient when the measurement is taken, determines the post-treatment blood pressure. \n",
    "\n",
    "Or, let's say we're trying to determine whether or not there is a cat in a photograph. The cat being in front of the camera when the photo was taken ($y_i$) could be caused by a huge number of factors, and the values of the pixels in the photograph ($x_i$) are caused by the reflection of photons emitted from sources of light off the cat (and other objects) and the mechanics of the detection of light inside the camera.\n",
    "\n",
    "In a nutshell, the world is complicated. There is no way that mere mortals could ever write code accurate enough to perfectly simulate the exact processes that produce data about complex real-world phenomena.\n",
    "\n",
    "But, despite the complexity, you should start thinking about that complex web of causality as \"code\" that's being run in some cosmic simulation. Maybe you can imagine that there are \"data gods\" that write and are running this code. We'll never see their code, and we'll never be able to understand it, but somewhere, out there, that metaphysical code is running, and it's generating the observations that we see in our data."
   ]
  },
  {
   "cell_type": "markdown",
   "metadata": {},
   "source": [
    "You can think of that code as a little \"factory\" that pumps out observations of $x_i$ and $y_i$, one at a time. The factory is behind a curtain that we can't ever look behind, but we can see the pile of $x_i$s and $y_i$s that come out of it, which are our $X$ and $Y$."
   ]
  },
  {
   "cell_type": "code",
   "execution_count": 6,
   "metadata": {},
   "outputs": [],
   "source": [
    "### Figure of factory and curtain and boxes 🏭 📦 📦 "
   ]
  },
  {
   "cell_type": "markdown",
   "metadata": {},
   "source": [
    "If we had that code, we'd be able to reverse engineer it to predict $y_i$ given $x_i$ as accurately as would be \n",
    "possible with those predictors. In practice, however, we can only build a *model* of that code. Our model will never capture the complexities of reality, the same way that a model plane doesn't even begin to approach the complexity of a real aircraft. But, ideally, it will be similar enough in ways that are important for the task at hand: if we're using a model plane just to demonstrate what an aircraft migth look like, we don't need the model to have functioning jet engines. And if all we need to do is predict $y_i$ for a new $x_i$, we don't exactly need to understand the complex web of causality linking the two together."
   ]
  },
  {
   "cell_type": "markdown",
   "metadata": {},
   "source": [
    "We do, however, need a way to talk about the relationship that $x_i$ and $y_i$ might have. And to do that, we need a way to talk abstractly about the \"code\" or \"data factory\" that's behind the curtain, the same way we developed abstract terms to describe our data. Thankfully, the language of probability works perfectly for that."
   ]
  },
  {
   "cell_type": "markdown",
   "metadata": {},
   "source": [
    "## Random variables are factories that generate data"
   ]
  },
  {
   "cell_type": "markdown",
   "metadata": {},
   "source": [
    "The data factories we're interested in are the kind that output $x_i$s and $y_i$s, but to understand how these factories work it's better to consider a simpler factory that produces one number at a time, instead of one vector $x_i$ and one number $y_i$. \n",
    "\n",
    "We'll call our factory $\\mathbf z$. This factory pushes out one value $z_i$ at a time. Furthermore, let's say that half the time you get a $1$ and half the time you get a $0$; those are the only values that the $\\mathbf z$ factory can produce. And the factory is built to reset itself between producing each value, so whatever $z_i$ is has no impact on $z_{i+1}$."
   ]
  },
  {
   "cell_type": "markdown",
   "metadata": {},
   "source": [
    "In the language of probability theory, $z_i$ are *realizations* from the *random variable* $\\mathbf Z$, which has a *distribution*:\n",
    "\n",
    "$$\n",
    "\\begin{array}{rcl}\n",
    "P(\\mathbf Z = 0) &=& 1/2 \\\\ \n",
    "P(\\mathbf Z = 1) &=& 1/2\n",
    "\\end{array}\n",
    "\\quad \\quad \\text{or} \\quad \\quad\n",
    "P(\\mathbf Z=z) =\n",
    "\\begin{cases}\n",
    "1/2 & \\text{for }z=0 \\\\\n",
    "1/2 & \\text{for }z=1\n",
    "\\end{cases}\n",
    "$$"
   ]
  },
  {
   "cell_type": "markdown",
   "metadata": {},
   "source": [
    "What we've been loosely calling a \"factory\" is a *random variable* in the language of probability theory. But that's just a name. You can keep thinking of them as factories, or code, that generate data."
   ]
  },
  {
   "cell_type": "markdown",
   "metadata": {},
   "source": [
    "<div class=\"alert alert-block alert-warning\">\n",
    "<b>Note:</b> \n",
    "Random variables are often written in uppercase, (e.g. Z) and their realizations in lowercase (z). We're going to be using uppercase for matrices (and sets), so I'm going to use boldface in conjunction with uppercase ($\\mathbf Z$) to denote random variables.\n",
    "</div>"
   ]
  },
  {
   "cell_type": "markdown",
   "metadata": {},
   "source": [
    "Ok, so if the random variable is a factory, and the realizations of the random variable are the output of that factory (the data we get to see), then how do we read a statement like $P(\\mathbf Z = 0) = 1/2$? Well, that just means that the value $z$ that $\\mathbf Z$ produces is $0$ half of the time. But what exactly do we mean by \"half the time\"? While we usually don't have to think deeper than this, you'll see later that it is sometimes necessary to have a more rigorous definition of probability."
   ]
  },
  {
   "cell_type": "markdown",
   "metadata": {},
   "source": [
    "<div class=\"alert alert-block alert-info\">\n",
    "<b>Exercise:</b> \n",
    "\n",
    "Remember that the entire purpose of talking about these factories is so that we can imagine what's behind the curtain, producing the data that we observe. Think of a real-world scenario where we collect data that we could imagine that our random variable $\\bf Z$ is producing. In other words, what's something we could measure in the real world that we might model using $\\bf Z$?\n",
    "    \n",
    "</div>"
   ]
  },
  {
   "cell_type": "markdown",
   "metadata": {},
   "source": [
    "Let's build that definition. We'll start with some raw materials. All factories have raw materials that go into them, which end up being turned into the finished product. In a similar way, random variables have inputs which get mapped to realized values. We'll call them \"data ore\": the unrefined precursor that gets transformed by our factory (random variable $\\mathbf Z$)into the data product $z$. The data ore exists in units (data ore nuggets). The factory takes one nugget at a time and transforms it into a value.\n",
    "\n",
    "The nuggets are kept in an big silo called $\\Omega$ before they go to $\\mathbf Z$. This silo is filled to the brim with *all* of the possible nuggets that could be fed into the factory, one of each of them. It's also a magic silo, so when you take out a nugget, another one exactly like it is mined out of the depths of the cosmos to take its place in the silo."
   ]
  },
  {
   "cell_type": "markdown",
   "metadata": {},
   "source": [
    "Each nugget is gets transformed into a value of $z$, but the process isn't random. For instance, if a nugget named \"Karl\" turned into a 1 when fed through $\\mathbf Z$, then we would *always* get a 1 when Karl goes into $\\mathbf Z$. But we know that sometimes $\\mathbf Z$ produces 0s, so there must be other nuggets whose destiny is to become 0s, just like Karl's destiny is to be a 1. The \"randomness\" in $\\mathbf Z$ isn't caused by what's in the factory, it's caused by randomly picking a nugget to throw into it."
   ]
  },
  {
   "cell_type": "markdown",
   "metadata": {},
   "source": [
    "We can even code up our little example, imagining that we have 10 nuggets, boringly named \"0\", \"1\", \"2\"... \"9\":"
   ]
  },
  {
   "cell_type": "code",
   "execution_count": 152,
   "metadata": {},
   "outputs": [],
   "source": [
    "def Z(ω): # factory (random variable)\n",
    "    if ω in set([1,4,5,8,9]): # these are the outcomes (nuggets) that map to the value 1 \n",
    "        return 1\n",
    "    if ω in set([0,2,3,6,7]): # these are the outcomes (nuggets) that map to the value 0 \n",
    "        return 0\n",
    "Z.Ω = set([0,1,2,3,4,5,6,7,8,9]) # sample space (silo) of outcomes (ore nuggets) attached to Z\n",
    "    \n",
    "import random\n",
    "def realize(rand_var): # run the assembly line!\n",
    "    ω = random.sample(rand_var.Ω, 1).pop() # grab a single nugget out of the silo at random\n",
    "    return rand_var(ω) # push it through the factory"
   ]
  },
  {
   "cell_type": "markdown",
   "metadata": {},
   "source": [
    "Here are 20 observations $z=[z_1, z_2, \\dots z_{20}]$, fresh off the assembly line of the $\\mathbf Z$ factory:"
   ]
  },
  {
   "cell_type": "code",
   "execution_count": 153,
   "metadata": {},
   "outputs": [
    {
     "data": {
      "text/plain": [
       "[0, 1, 1, 1, 0, 0, 0, 1, 1, 0, 0, 0, 1, 0, 0, 1, 1, 0, 1, 1]"
      ]
     },
     "execution_count": 153,
     "metadata": {},
     "output_type": "execute_result"
    }
   ],
   "source": [
    "z = [realize(Z) for i in range(20)] \n",
    "z"
   ]
  },
  {
   "cell_type": "markdown",
   "metadata": {},
   "source": [
    "<div class=\"alert alert-block alert-warning\">\n",
    "<b>Note:</b> \n",
    "\n",
    "You may sometimes also see notation like $\\mathbf Z_i \\overset{IID}{\\sim} \\mathbf Z$. This means that $\\mathbf Z_i$ is basically a copy of the factory $\\mathbf Z$ (we say $\\mathbf z_i$ are <i>independent and identically distributed</i>, or IID). \n",
    "    \n",
    "$z_i$ is now the single product of the $i$th factory $\\mathbf Z_i$ instead of the $i$th product of the one factory $\\mathbf Z$. To get our data $z = [z_1, z_2, \\dots z_n]$, we run each factory once, instead of running the prototype factory $\\mathbf Z$ $n$ times. As far as the data you get are concerned, there's no difference between doing it one way or the other, but you should be familiar with the $\\mathbf Z_i \\overset{IID}{\\sim} \\mathbf Z$ notation.\n",
    "   \n",
    "Here's the equivalent code:\n",
    "```\n",
    "Zs = [Z for i in range(5)] # Z_i ~IID~ Z\n",
    "z = [realize(Zi, Ω) for Zi in Zs] # sample once from each Z_i\n",
    "```\n",
    "</div>"
   ]
  },
  {
   "cell_type": "code",
   "execution_count": 154,
   "metadata": {},
   "outputs": [],
   "source": [
    "# another picture of the factory, the silo, data nuggets, z, etc."
   ]
  },
  {
   "cell_type": "markdown",
   "metadata": {},
   "source": [
    "Now we're ready to define probability: the probability of an *event* (a value $z$) is just the proportion of the silo that's taken up by nuggets that are destined to become that value $z$ when fed through $\\mathbf Z$. That's it. We denote that proportion with the notation $P(\\mathbf Z = z)$. In our example above, saying $P(\\mathbf Z = 1) = 1/2$ means that half of all the possible nuggets that could go into $\\mathbf Z$ would produce a 1."
   ]
  },
  {
   "cell_type": "markdown",
   "metadata": {},
   "source": [
    "That's a definition we can code up:"
   ]
  },
  {
   "cell_type": "code",
   "execution_count": 155,
   "metadata": {},
   "outputs": [],
   "source": [
    "def P(rand_var, realization):\n",
    "    A = set(ω for ω in rand_var.Ω if rand_var(ω) in realization) # what are all the nuggets that map to the value(s) in question?\n",
    "    return len(A)/len(rand_var.Ω) # what is the \"volume\" of those nuggets relative to the volume of the silo Ω?"
   ]
  },
  {
   "cell_type": "code",
   "execution_count": 156,
   "metadata": {},
   "outputs": [
    {
     "data": {
      "text/plain": [
       "(0.5, 0.5)"
      ]
     },
     "execution_count": 156,
     "metadata": {},
     "output_type": "execute_result"
    }
   ],
   "source": [
    "P(Z,[0]), P(Z,[1]) # P(z=0), P(z=1)"
   ]
  },
  {
   "cell_type": "markdown",
   "metadata": {},
   "source": [
    "So to build a factory that makes 0s and 1s in even proportions, all I had to do was evenly split up the number of nuggets that are destined to produce each value. It also doesn't matter what I call the nuggets. For example, here is equally good code to implement $\\mathbf Z$:"
   ]
  },
  {
   "cell_type": "code",
   "execution_count": 157,
   "metadata": {},
   "outputs": [
    {
     "data": {
      "text/plain": [
       "[1, 1, 1, 1, 0, 1, 1, 1, 0, 0, 0, 0, 1, 0, 1, 0, 1, 0, 0, 0]"
      ]
     },
     "execution_count": 157,
     "metadata": {},
     "output_type": "execute_result"
    }
   ],
   "source": [
    "def Z(ω): # factory (random variable)\n",
    "    if ω in set([-1234]): # these are the outcomes (nuggets) that map to the value 1 \n",
    "        return 1\n",
    "    if ω in set([980123]): # these are the outcomes (nuggets) that map to the value 0 \n",
    "        return 0\n",
    "Z.Ω = set([980123, -1234]) # sample space (silo) of outcomes (ore nuggets) attached to Z\n",
    "\n",
    "[realize(Z) for i in range(20)] "
   ]
  },
  {
   "cell_type": "markdown",
   "metadata": {},
   "source": [
    "<div class=\"alert alert-block alert-info\">\n",
    "<b>Exercise:</b> \n",
    "\n",
    "Write code for a new random variable $\\mathbf W$ that behaves like this:\n",
    "    \n",
    "$$\n",
    "P(\\mathbf W=w) =\n",
    "\\begin{cases}\n",
    "0.1 \\dots  & \\text{for }w=-1 \\\\\n",
    "0.4 \\dots & \\text{for }w=0 \\\\\n",
    "0.2 & \\text{for }w=1 \\\\\n",
    "0.3 & \\text{for }w=2\n",
    "\\end{cases}\n",
    "$$\n",
    "    \n",
    "You'll need to make your own nugget silo `Ω` and define the function `W(ω)`. Test it out using the `realize()` and `P()` functions we wrote. Use `P()` to calculate $P(\\mathbf W \\in \\{-1,0\\})$.\n",
    "    \n",
    "</div>"
   ]
  },
  {
   "cell_type": "markdown",
   "metadata": {},
   "source": [
    "![](https://encrypted-tbn0.gstatic.com/images?q=tbn:ANd9GcRTCXQ098kIFldwWw8VEPSR_q9Tbk1BFjuhFH8V8NVPskxrtVj7&s)"
   ]
  },
  {
   "cell_type": "markdown",
   "metadata": {},
   "source": [
    "If you're looking at this and thinking that I can't possibly be serious, that the foundations of statistics and machine learning can't possibly be built up from imagining data factories and magical silos... well, you're wrong. Sure, I've concocted a somewhat elaborate metaphor, but it's a metaphor that accurately describes how these otherwise very abstract concepts relate to each other. If you can look at something like $P(\\mathbf Z = z) := P(\\{\\omega \\in \\Omega \\vert \\mathbf Z(w)=z\\})$ and immediately come away with an understanding of what that means, all the more power to you. But I don't. At least not without first building up an intuition for each of the components."
   ]
  },
  {
   "cell_type": "markdown",
   "metadata": {},
   "source": [
    "In probability theory, the silo $\\Omega$ is called a *sample space* and the data ore nuggets are called *outcomes* (not to be confused with what we call the variable we want to predict in machine learning). A random variable $\\mathbf Z$ is defined as a function that maps an element of $\\Omega$ to a realization $z$. The probability of an event $z$ is the *measure* (volume, or proportion of total volume) of the set of outcomes (data ore nuggets) that map to $z$ (are destined to be transformed to $z$ by $\\mathbf Z$). "
   ]
  },
  {
   "cell_type": "markdown",
   "metadata": {},
   "source": [
    "When I talk about these things outside of the context of explaining them, I do call them by their real names (e.g. random variable, sample space, etc.) because that's what people have called them for nearly a century. But when I close my eyes and *reason* about these concepts, I'm thinking about something tangible, like a factory. As we go on I'm going to introduce more mathematical notation as we need it, and I'm going to wean off the factory metaphor, but I encourage you to keep building your intuition about these concepts instead of thinking about them as abstract symbols on a page. The symbols are just a convenient shorthand for the ideas. The only reason to know the standard names and symbols is to be able to read and understand what others have written. If you find yourself skimming over an equation- stop. Read it slowly and think about what each part means.\n",
    "\n",
    "So now that we're here, let's demystify the notation in that equation I dropped up above! Here it is again:\n",
    "\n",
    "$$P(\\mathbf Z = z) := P(\\{\\omega \\in \\Omega \\vert \\mathbf Z(w)=z\\})$$\n",
    "\n",
    "To start, the $:=$ means \"the thing on the left is defined as the thing on the right\". So we're saying that when we write \"$P(\\mathbf Z = z)$\", we really mean whatever \"$P(\\{\\omega \\in \\Omega \\vert \\mathbf Z(w)=z\\})$\" is. Ok, next up is [set-builder notation](https://www.mathsisfun.com/sets/set-builder-notation.html): you can read $\\{a\\in A | f(a) = 1\\}$ as \"the collection of all the elements $a$ in the set $A$ *such that* $f(a)=1$\". So $\\{\\omega \\in \\Omega \\vert \\mathbf Z(w)=z\\}$ is the set of outcomes $\\omega$ that become $z$ when passed through the random variable $\\mathbf Z$. Finally, we have $P()$, which is the [probability measure](https://en.wikipedia.org/wiki/Probability_measure). We won't define this super rigorously, but it is basically defined as the measurement of the proportion of all of the outcomes in $\\Omega$ that are contained in the subset $\\{\\omega \\in \\Omega \\vert \\mathbf Z(w)=z\\}$. If you put all of that together, you'll see that it's exactly the same as the definition we put together using our factory anaology. \n",
    "\n",
    "When we say \"the proportion of all outcomes in $\\Omega$ that are in a subset $A$\", what we mean is that we're literally going to measure the volume of space that the nuggets in $A$ take up in the silo $\\Omega$. By convention, we say that $\\Omega$ has volume 1 so that the volume of $A$ is also the proportion of $A$ in $\\Omega$. "
   ]
  },
  {
   "cell_type": "markdown",
   "metadata": {},
   "source": [
    "<div class=\"alert alert-block alert-warning\">\n",
    "<b>REMEMBER:</b> \n",
    "\n",
    "If your eyes glaze over every time you see mathematical notation, don't worry. Remember, that's normal. Just slow down and read it again. Try and think about what it <i>means</i>.\n",
    "</div>"
   ]
  },
  {
   "cell_type": "markdown",
   "metadata": {},
   "source": [
    "Ok- I promised that it would be useful to define probability in a more rigorous way than \"$z$ happens $x$% of the time\". Now we're going to see why. \n",
    "\n",
    "To start with, let's \"derive\" a relatively simple fact: for a subset $F \\subset \\Omega$, $P(F) \\in [0,1]$. This is a compact way of writing that for any subset of outcomes, the proportion of outcomes in that subset relative to how many are in the whole sample space is a number between 0 and 1 ($A \\subset B$ means that $A$ is a subset of $B$). At this point, that should be obvious to you. If the volume of our silo $\\Omega$ is 1, the volume of any subset of that has to be less than 1."
   ]
  },
  {
   "cell_type": "markdown",
   "metadata": {},
   "source": [
    "Here's a trickier one: for $A,B \\subset \\Omega$, if $A \\cap B = 0$, then $P(A \\cup B) = P(A) + P(B)$. This one has more symbols, but it's also really obvious when you know what they mean. $A \\cap B$ is read as \"the intersection of the sets $A$ and $B$\", which is the set of elements that are in both sets. It's the middle part of a Venn diagram. $A \\cup B$ is read  as \"the union of $A$ and $B$\", which is all of the elements in either set- that's the entirety of the Venn diagram. So what we're saying here is that if A and B don't share any outcomes between them, the probability of the union of the two is the same as the sum of the probabilities of each of them. \n",
    "\n",
    "That also seems cryptic until you think about it in terms of quantities of ore nuggets that produce certain values when fed through the factory. If you take all the ore nuggets that end up becoming the value $a$ (call that set of nuggets $A$), and all the nuggets that end up becoming the value $b$ (call that $B$), then the total volume that end up becoming either $a$ or $b$ (that's $P(A \\cup B)$) is the sum of the volumes that become $a$ (that's $P(A)$) and those that become $b$ (that's $P(B)$). \n",
    "\n",
    "Note that this only holds for sets $A$ and $B$ that don't overlap ($A\\cap B = 0$). For instance, if $A= \\{\\omega \\vert \\mathbf Z(\\omega) \\in \\{0,1\\}\\}$ (all the outcomes that map to either 0 or 1) and $B = \\{\\omega \\vert \\mathbf Z(\\omega) = 0\\}$ (all the outcomes that map to 0), every element of $B$ is also an element of $A$, so the volume of the union $A \\cup B$ is the volume of $A$, which is not the volume of $A$ plus the volume of $B$."
   ]
  },
  {
   "cell_type": "markdown",
   "metadata": {},
   "source": [
    "We can even use our code from before to demonstrate this:"
   ]
  },
  {
   "cell_type": "code",
   "execution_count": 63,
   "metadata": {},
   "outputs": [
    {
     "data": {
      "text/plain": [
       "True"
      ]
     },
     "execution_count": 63,
     "metadata": {},
     "output_type": "execute_result"
    }
   ],
   "source": [
    "A = set([0])\n",
    "B = set([1])\n",
    "P(Z,A) + P(Z,B) == P(Z,A|B) # in python, set union ∪ is written | because an element is in A∪B if it is in A OR B (A|B)"
   ]
  },
  {
   "cell_type": "code",
   "execution_count": 64,
   "metadata": {},
   "outputs": [
    {
     "data": {
      "text/plain": [
       "False"
      ]
     },
     "execution_count": 64,
     "metadata": {},
     "output_type": "execute_result"
    }
   ],
   "source": [
    "A = set([0,1])\n",
    "B = set([0])\n",
    "P(Z,A) + P(Z,B) == P(Z,A|B)"
   ]
  },
  {
   "cell_type": "markdown",
   "metadata": {},
   "source": [
    "This last point brings up the fact that we can also talk about quantities like $P(\\mathbf Z \\in F)$, where $F$ is some set of possible realizations, like $\\{0,1\\}$. That's more general than the probability at a single value $z$: $P(\\mathbf Z = z)$. All we need to do is count up the volume of all the nugets that produce any of the values that's in $F$, instead of just the nuggets that produce $z$. Our code is already set up to do that- we used it to calculate `P(Z, set([0,1]))`."
   ]
  },
  {
   "cell_type": "markdown",
   "metadata": {},
   "source": [
    "<div class=\"alert alert-block alert-warning\">\n",
    "<b>Note:</b> \n",
    "\n",
    "This is as pretty much as rigorous as probability theory gets. The only other wrinkle is that when we start talking about random variables that can produce things like continuous values (of which there are an infinite number), technically we need to consider silos that are filled with infinite numbers of nuggets (that still all together occupy a volume of 1!). And, fun fact, it turns out that in this case there are some sets of nuggets that are distributed in such a messed up way within the silo that it is impossible to measure their volume. But they are of no practical importance and probabilists just ignore these sets and say that their probability is not defined (no joke)!\n",
    "</div>"
   ]
  },
  {
   "cell_type": "markdown",
   "metadata": {},
   "source": [
    "<div class=\"alert alert-block alert-info\">\n",
    "<b>Exercise:</b> \n",
    "\n",
    "We showed already that for $A,B \\subset \\Omega$, if $A \\cap B = 0$, then $P(A \\cup B) = P(A) + P(B)$. The sets $A$ and $B$ here are subsets of the *silo* of ore nuggets. Let $W_A$ be all of the values that get generated when pushing nuggets from $A$ through the factory $\\mathbf W$ and $W_B$ be the same for the set $B$. If $W_A$ and $W_B$ have no values in common, what can we say about $A$ and $B$? \n",
    "    \n",
    "What in turn does this mean about $P(A \\cup B)$?\n",
    "    \n",
    "Finally, what can we say about $P(\\mathbf W \\in W_A \\cup W_B)$ given $P(\\mathbf W \\in W_A)$ and $P(\\mathbf W \\in W_B)$?\n",
    "\n",
    "</div>"
   ]
  },
  {
   "cell_type": "markdown",
   "metadata": {},
   "source": [
    "<div class=\"alert alert-block alert-info\">\n",
    "<b>Exercise:</b> \n",
    "\n",
    "Let $\\mathbf W$ be as it is above. Let $W_A = \\{-1,0\\}$ and $W_B = \\{0, 1\\}$. The union of these two sets is $W_A \\cup W_B = \\{-1,0,1\\}$, but $P(\\mathbf W \\in W_A \\cup W_B) \\ne P(\\mathbf W \\in W_A) + P(\\mathbf W \\in W_B)$. Verify this is the case. Why is this the case? \n",
    "    \n",
    "Can you come up with a formula to calculate $P(\\mathbf W \\in W_A \\cup W_B)$ given $P(\\mathbf W \\in W_A)$, $P(\\mathbf W \\in  W_B)$, and $P(\\mathbf W \\in W_A \\cap W_B)$?\n",
    "\n",
    "</div>"
   ]
  },
  {
   "cell_type": "markdown",
   "metadata": {},
   "source": [
    "## Random variables are described by their probability distributions"
   ]
  },
  {
   "cell_type": "markdown",
   "metadata": {},
   "source": [
    "As perhaps you've noticed, the exact nature of what is in the silo and which of its elements map to which values of the random variable doesn't change the patterns of observable output of the random variable as long as the proportions of outcomes mapping to each value are the same. For example, we looked at two equivalent ways to implement our random variable $\\mathbf Z$:"
   ]
  },
  {
   "cell_type": "code",
   "execution_count": 65,
   "metadata": {},
   "outputs": [],
   "source": [
    "def Z(ω): \n",
    "    if ω in set([1,4,5,8,9]): \n",
    "        return 1\n",
    "    if ω in set([0,2,3,6,7]): \n",
    "        return 0\n",
    "Z.Ω = set([0,1,2,3,4,5,6,7,8,9]) "
   ]
  },
  {
   "cell_type": "code",
   "execution_count": 66,
   "metadata": {},
   "outputs": [],
   "source": [
    "def Z(ω): \n",
    "    if ω in set([-1234]): \n",
    "        return 1\n",
    "    if ω in set([980123]): \n",
    "        return 0\n",
    "Z.Ω = set([980123, -1234]) "
   ]
  },
  {
   "cell_type": "markdown",
   "metadata": {},
   "source": [
    "These are technically two different random variables because they have different sample spaces, but they behave exactly the same, which is the say they have the same *probability distribution*. The distribution of the random variable is nothing more than $P(\\mathbf Z=z)$ as a function of the realization $z$:\n",
    "\n",
    "$$\n",
    "P(\\mathbf Z=z) =\n",
    "\\begin{cases}\n",
    "1/2 & \\text{for }z=0 \\\\\n",
    "1/2 & \\text{for }z=1\n",
    "\\end{cases}\n",
    "$$\n",
    "\n",
    "The probability distribution describes how the factory should *behave* from the perspective of someone who can only see its products $z_i$: half the time you get a 0, half the time you get a 1. There is no need to mention the silo of ore nuggets, give them names, and specify which nuggets are destined to be 0s and which are destined to be 1s. We know they're back there, and we know what *proportion* are destined to be 0s and 1s (since that's what the probability means), but we don't need the details. In fact, unless you're a probability theorist, you will never need to think about $\\Omega$ to solve a problem. The only reason you need to know about it is so that you can understand useful identities, which we will continue to derive as we go along."
   ]
  },
  {
   "cell_type": "markdown",
   "metadata": {},
   "source": [
    "The probability distribution can be thought of as a function of the factory product $z$. For each value of $z$, it tells us the total volume of the nuggets in the silo that map to that outcome. We can visualize that by taking sorting out all the nuggets in the silo into piles according to which value they are destined to become. The relative heights of each pile are proportional to the volume of space that each group of nuggets take up in the silo. Let's demonstrate with a new random variable $\\bf V$:"
   ]
  },
  {
   "cell_type": "code",
   "execution_count": 72,
   "metadata": {},
   "outputs": [],
   "source": [
    "def V(ω): \n",
    "    if ω in set([1]): \n",
    "        return 2\n",
    "    if ω in set([2,3]): \n",
    "        return 0\n",
    "    if ω in set([4,5,6]): \n",
    "        return -1\n",
    "    if ω in set([7,8,9,0]):\n",
    "        return 1\n",
    "V.Ω = set(range(10)) "
   ]
  },
  {
   "cell_type": "code",
   "execution_count": 77,
   "metadata": {},
   "outputs": [
    {
     "data": {
      "application/vnd.vegalite.v3+json": {
       "$schema": "https://vega.github.io/schema/vega-lite/v3.4.0.json",
       "config": {
        "mark": {
         "tooltip": null
        },
        "view": {
         "height": 300,
         "width": 400
        }
       },
       "data": {
        "name": "data-a7992e4d8081495d7eb4705b16985ea6"
       },
       "datasets": {
        "data-a7992e4d8081495d7eb4705b16985ea6": [
         {
          "p": 0.3,
          "v": -1
         },
         {
          "p": 0.2,
          "v": 0
         },
         {
          "p": 0.4,
          "v": 1
         },
         {
          "p": 0.1,
          "v": 2
         }
        ]
       },
       "encoding": {
        "x": {
         "field": "v",
         "type": "ordinal"
        },
        "y": {
         "field": "p",
         "type": "quantitative"
        }
       },
       "height": 100,
       "mark": "bar",
       "width": 400
      },
      "image/png": "[encoded data removed]",
      "text/plain": [
       "<VegaLite 3 object>\n",
       "\n",
       "If you see this message, it means the renderer has not been properly enabled\n",
       "for the frontend that you are using. For more information, see\n",
       "https://altair-viz.github.io/user_guide/troubleshooting.html\n"
      ]
     },
     "execution_count": 77,
     "metadata": {},
     "output_type": "execute_result"
    }
   ],
   "source": [
    "vs = [-1,0,1,2] # all the values v can take\n",
    "ps = [P(V,[v]) for v in vs] # calculate the probability of each\n",
    "import altair as alt # for plotting\n",
    "import pandas as pd # to make dataframes\n",
    "\n",
    "distribution = pd.DataFrame({'v':vs, 'p':ps})\n",
    "alt.Chart(distribution, height=100, width=400).mark_bar().encode(x='v:O', y='p')"
   ]
  },
  {
   "cell_type": "markdown",
   "metadata": {},
   "source": [
    "This is the graphical representation of the probability distribution\n",
    "\n",
    "$$\n",
    "P(\\mathbf V=v) \n",
    "= \n",
    "\\phi(v) \n",
    "= \n",
    "\\begin{cases}\n",
    "0.3 & \\text{for }v=-1 \\\\\n",
    "0.2 & \\text{for }v=0 \\\\\n",
    "0.4 & \\text{for }v=1 \\\\\n",
    "0.1 & \\text{for }v=2\n",
    "\\end{cases}\n",
    "$$"
   ]
  },
  {
   "cell_type": "markdown",
   "metadata": {},
   "source": [
    "$\\phi(v)$ is called a *probability mass function* because it tells us what \"mass\" of the outcomes ends up becoming what value. If we have multiple random variables floating around and we want to distinguish their mass functions, we'll sometimes write $\\phi_{\\mathbf V}(v)$."
   ]
  },
  {
   "cell_type": "markdown",
   "metadata": {},
   "source": [
    "### Continuous random variables and densities"
   ]
  },
  {
   "cell_type": "markdown",
   "metadata": {},
   "source": [
    "So far, all the random variables we've talked about have produced outputs from a finite, discrete set (e.g. $\\{0,1\\}$ or $\\{-1,0,1,2\\}$). If we're imagining a the factory that might produce the data we observe when flipping a coin, a binary output is all we need. Similarly, if we want to imagine the factory that assigns an \"apple\", \"orange\", or \"banana\" label to a photograph of a fruit, it just needs to output a discrete set of three values. But if we want to imagine the kind of factory that could produce the prices of different appartments in New York, we need something that can output a continuous range of values."
   ]
  },
  {
   "cell_type": "markdown",
   "metadata": {},
   "source": [
    "Let's think up a random variable (call it $\\bf Z$ again) that can take any value between 0 and 10. How many numbers are there between 0 and 10? Well, an infinite number: for any two numbers in that interval, you can find a number that's right between them. Since one nugget from the silo always makes the same value when pushed through the factory, there need to be an infinite number of nuggets in the silo to be able to produce an infinite number of values. That means our old code, where we manually enumerated all of the values in $\\Omega$, is not going to work anymore. What we can do instead is imagine that $\\Omega$ is itself an interval, like all the numbers between 0 and 1. So, to pick a random nugget to throw into the factory, we just pick a random number between 0 and 1. Here's an example:"
   ]
  },
  {
   "cell_type": "code",
   "execution_count": 159,
   "metadata": {},
   "outputs": [],
   "source": [
    "def Z(ω): \n",
    "    return 10*(ω**2) # when ω goes into the factory, the factory makes ω^2\n",
    "\n",
    "def realize(cont_rand_var): # run the assembly line!\n",
    "    ω = random.random() # returns a single number between 0 and 1\n",
    "    return cont_rand_var(ω) # push it through the factory"
   ]
  },
  {
   "cell_type": "code",
   "execution_count": 160,
   "metadata": {},
   "outputs": [
    {
     "data": {
      "text/plain": [
       "[1.3712616344211512,\n",
       " 0.0057569566140311815,\n",
       " 1.012740804599116,\n",
       " 2.338355958653244,\n",
       " 1.0924971646951207]"
      ]
     },
     "execution_count": 160,
     "metadata": {},
     "output_type": "execute_result"
    }
   ],
   "source": [
    "[realize(Z) for i in range(5)]"
   ]
  },
  {
   "cell_type": "markdown",
   "metadata": {},
   "source": [
    "So $\\mathbf Z$ is defined by $\\mathbf Z(\\omega) = 10\\omega^2$ with $\\omega \\in [0,1]$. Great. But now what does $P(\\mathbf Z = z)$ mean? We just apply the same old definition of probability: it's the proportion of nuggets in the silo that are destined to become the value $z$. For the random variable $\\bf z$ we've defined above, how many nuggets become the value $2.5$? $\\mathbf Z$ transforms outcomes $\\omega$ into realizations $z$ by applying the function $z=10\\omega^2$, so the answer is just one: $\\omega = \\sqrt{2.5/10} = 0.5$. Thus to know $P(\\mathbf Z = 0.75)$ what we need to know is how much \"volume\" a single point ($\\omega = 0.5$) takes up within the interval $[0,1]$. The answer, which may not surprise you, is 0. If you want a rigorous argument for why that's the case, you have to pick up a real analysis or measure theory textbook. The implication is that for any (strictly) continuously-valued random variable, the probability of it taking any given value in particular is zero: $P(\\mathbf Z = z) = 0$, no matter what $z$ is. "
   ]
  },
  {
   "cell_type": "markdown",
   "metadata": {},
   "source": [
    "<div class=\"alert alert-block alert-warning\">\n",
    "<b>Note:</b> \n",
    "\n",
    "Notation like $[a,b]$ is often used to concisely write intervals- this just means \"all the numbers between $a$ and $b$, including those endpoints\". We use parentheses like $(a,b)$ to indicate that the endpoints should not be included. $(a,b]$ and $[a,b)$ have one of the two endpoints included, with the bracket indicating the endpoint that's included and the parenthesis indicating which isn't.\n",
    "</div>"
   ]
  },
  {
   "cell_type": "markdown",
   "metadata": {},
   "source": [
    "What we're trying to get to is some nice picture that contains all of the information about the random variable that we need in order to make inferences about its output. It was easy to do that for discrete random variables, but if we plot $P(\\mathbf z = z)$ as a function of $z$ for a continuous random variable, we'd just get a flat line at 0.\n"
   ]
  },
  {
   "cell_type": "markdown",
   "metadata": {},
   "source": [
    "But check this out: what if we instead ask the probability that the output value is between two values $a$ and $b$? For instance, what's $P(\\mathbf Z \\in [2.5,9])$? Again looking at the transformation $z = 10\\omega^2$, you can see that only values of $\\omega$ between $0.5$ and $0.3$ produce values between $2.5$ and $9$. The proportion of volume that the interval $[0.3, 0.5]$ takes up within the interval $[0,1]$ is is the length of the interval $[0.3, 0.5]$ (which is $0.2$) as a proportion of the length of the interval $[0,1]$ (which is 1). So $P(\\mathbf Z \\in [2.5,9]) = 0.2$!"
   ]
  },
  {
   "cell_type": "markdown",
   "metadata": {},
   "source": [
    "<div class=\"alert alert-block alert-info\">\n",
    "<b>Exercise:</b> \n",
    "\n",
    "Let $\\mathbf Z$ be as it is above. Find a formula for $P(\\mathbf Z \\in [a,b])$ for any values $a \\le b$ and $a,b \\in [0,10]$.\n",
    "\n",
    "</div>"
   ]
  },
  {
   "cell_type": "markdown",
   "metadata": {},
   "source": [
    "So here's an idea: let's bin $z$ into 10 non-overlapping buckets, like $[0,1)$, $[1,2)$ ... $[9,10]$ and calculate the probability within each of those buckets. This is just like what we did in the discrete case. We're sorting all of the nuggets in the silo into different piles depending which set of values they are destined to become, and then measuring the volume of each pile. Here's what we get when we do that for the example random variable $\\bf z$ defined in the code above:"
   ]
  },
  {
   "cell_type": "code",
   "execution_count": 161,
   "metadata": {},
   "outputs": [
    {
     "data": {
      "application/vnd.vegalite.v3+json": {
       "$schema": "https://vega.github.io/schema/vega-lite/v3.4.0.json",
       "config": {
        "mark": {
         "tooltip": null
        },
        "view": {
         "height": 300,
         "width": 400
        }
       },
       "data": {
        "name": "data-238a944884c03662f4513bfe54e08e54"
       },
       "datasets": {
        "data-238a944884c03662f4513bfe54e08e54": [
         {
          "p": 0.31622776601683794,
          "z": "[0,1)"
         },
         {
          "p": 0.13098582948312,
          "z": "[1,2)"
         },
         {
          "p": 0.10050896200520815,
          "z": "[2,3)"
         },
         {
          "p": 0.08473297452850981,
          "z": "[3,4)"
         },
         {
          "p": 0.07465124915287169,
          "z": "[4,5)"
         },
         {
          "p": 0.06748988805493583,
          "z": "[5,6)"
         },
         {
          "p": 0.06206335729259216,
          "z": "[6,7)"
         },
         {
          "p": 0.05776716446584029,
          "z": "[7,8)"
         },
         {
          "p": 0.05425610705059791,
          "z": "[8,9)"
         },
         {
          "p": 0.05131670194948623,
          "z": "[9,10)"
         }
        ]
       },
       "encoding": {
        "x": {
         "field": "z",
         "type": "ordinal"
        },
        "y": {
         "field": "p",
         "type": "quantitative"
        }
       },
       "height": 100,
       "mark": "bar",
       "width": 400
      },
      "image/png": "[encoded data removed]",
      "text/plain": [
       "<VegaLite 3 object>\n",
       "\n",
       "If you see this message, it means the renderer has not been properly enabled\n",
       "for the frontend that you are using. For more information, see\n",
       "https://altair-viz.github.io/user_guide/troubleshooting.html\n"
      ]
     },
     "execution_count": 161,
     "metadata": {},
     "output_type": "execute_result"
    }
   ],
   "source": [
    "from math import sqrt\n",
    "\n",
    "def Pz(a,b):\n",
    "    return sqrt(b/10) - sqrt(a/10)\n",
    "\n",
    "zs = range(10)\n",
    "ps = [Pz(z,z+1) for z in zs]\n",
    "zs_labels = [f'[{z},{z+1})' for z in zs]\n",
    "\n",
    "distribution = pd.DataFrame({'z':zs_labels, 'p':ps})\n",
    "alt.Chart(distribution, height=100, width=400).mark_bar().encode(x='z:O', y='p')"
   ]
  },
  {
   "cell_type": "markdown",
   "metadata": {},
   "source": [
    "And why stop at 10 buckets? Let's split it up into 100."
   ]
  },
  {
   "cell_type": "code",
   "execution_count": 162,
   "metadata": {},
   "outputs": [
    {
     "data": {
      "application/vnd.vegalite.v3+json": {
       "$schema": "https://vega.github.io/schema/vega-lite/v3.4.0.json",
       "config": {
        "mark": {
         "tooltip": null
        },
        "view": {
         "height": 300,
         "width": 400
        }
       },
       "data": {
        "name": "data-87b4328471ec72ce0c0a7b12465363e4"
       },
       "datasets": {
        "data-87b4328471ec72ce0c0a7b12465363e4": [
         {
          "p": 0.1,
          "z": "[0.0,0.1)"
         },
         {
          "p": 0.0414213562373095,
          "z": "[0.1,0.2)"
         },
         {
          "p": 0.031783724519578255,
          "z": "[0.2,0.30000000000000004)"
         },
         {
          "p": 0.026794919243112253,
          "z": "[0.30000000000000004,0.4)"
         },
         {
          "p": 0.023606797749978953,
          "z": "[0.4,0.5)"
         },
         {
          "p": 0.021342176528338835,
          "z": "[0.5,0.6)"
         },
         {
          "p": 0.019626156828141256,
          "z": "[0.6000000000000001,0.7000000000000001)"
         },
         {
          "p": 0.018267581368159924,
          "z": "[0.7000000000000001,0.8)"
         },
         {
          "p": 0.017157287525380982,
          "z": "[0.8,0.9)"
         },
         {
          "p": 0.016227766016837952,
          "z": "[0.9,1.0)"
         },
         {
          "p": 0.015434713018702084,
          "z": "[1.0,1.1)"
         },
         {
          "p": 0.014747682478235491,
          "z": "[1.1,1.2000000000000002)"
         },
         {
          "p": 0.01414496603262344,
          "z": "[1.2000000000000002,1.3000000000000003)"
         },
         {
          "p": 0.01361061113099521,
          "z": "[1.3,1.4000000000000001)"
         },
         {
          "p": 0.013132595943347536,
          "z": "[1.4000000000000001,1.5000000000000002)"
         },
         {
          "p": 0.01270166537925832,
          "z": "[1.5,1.6)"
         },
         {
          "p": 0.012310562561766047,
          "z": "[1.6,1.7000000000000002)"
         },
         {
          "p": 0.011953506150162496,
          "z": "[1.7000000000000002,1.8000000000000003)"
         },
         {
          "p": 0.01162582564213882,
          "z": "[1.8,1.9000000000000001)"
         },
         {
          "p": 0.011323701145890597,
          "z": "[1.9000000000000001,2.0)"
         },
         {
          "p": 0.011043973995626122,
          "z": "[2.0,2.1)"
         },
         {
          "p": 0.010784006486758924,
          "z": "[2.1,2.2)"
         },
         {
          "p": 0.010541576348928994,
          "z": "[2.2,2.3000000000000003)"
         },
         {
          "p": 0.010314796225363687,
          "z": "[2.3000000000000003,2.4000000000000004)"
         },
         {
          "p": 0.010102051443364346,
          "z": "[2.4000000000000004,2.5000000000000004)"
         },
         {
          "p": 0.009901951359278516,
          "z": "[2.5,2.6)"
         },
         {
          "p": 0.009713290911384731,
          "z": "[2.6,2.7)"
         },
         {
          "p": 0.009535019942254919,
          "z": "[2.7,2.8000000000000003)"
         },
         {
          "p": 0.00936621850053232,
          "z": "[2.8000000000000003,2.9000000000000004)"
         },
         {
          "p": 0.0092060767917157,
          "z": "[2.9000000000000004,3.0000000000000004)"
         },
         {
          "p": 0.009053878777836144,
          "z": "[3.0,3.1)"
         },
         {
          "p": 0.008908988666235795,
          "z": "[3.1,3.2)"
         },
         {
          "p": 0.008770839704564826,
          "z": "[3.2,3.3000000000000003)"
         },
         {
          "p": 0.008638924830727257,
          "z": "[3.3000000000000003,3.4000000000000004)"
         },
         {
          "p": 0.008512788825431494,
          "z": "[3.4000000000000004,3.5000000000000004)"
         },
         {
          "p": 0.008392021690038387,
          "z": "[3.5,3.6)"
         },
         {
          "p": 0.008276253029821934,
          "z": "[3.6,3.7)"
         },
         {
          "p": 0.008165147267075734,
          "z": "[3.7,3.8000000000000003)"
         },
         {
          "p": 0.008058399542942185,
          "z": "[3.8000000000000003,3.9000000000000004)"
         },
         {
          "p": 0.007955732193836051,
          "z": "[3.9000000000000004,4.0)"
         },
         {
          "p": 0.007856891709609015,
          "z": "[4.0,4.1)"
         },
         {
          "p": 0.007761646097501185,
          "z": "[4.1000000000000005,4.2)"
         },
         {
          "p": 0.007669782589413976,
          "z": "[4.2,4.3)"
         },
         {
          "p": 0.007581105640879882,
          "z": "[4.3,4.3999999999999995)"
         },
         {
          "p": 0.0074954351788568685,
          "z": "[4.4,4.5)"
         },
         {
          "p": 0.007412605062589894,
          "z": "[4.5,4.6)"
         },
         {
          "p": 0.007332461727577511,
          "z": "[4.6000000000000005,4.7)"
         },
         {
          "p": 0.0072548629874464865,
          "z": "[4.7,4.8)"
         },
         {
          "p": 0.007179676972449034,
          "z": "[4.800000000000001,4.9)"
         },
         {
          "p": 0.007106781186547506,
          "z": "[4.9,5.0)"
         },
         {
          "p": 0.007036061667737403,
          "z": "[5.0,5.1)"
         },
         {
          "p": 0.006967412238512938,
          "z": "[5.1000000000000005,5.2)"
         },
         {
          "p": 0.006900733835253914,
          "z": "[5.2,5.3)"
         },
         {
          "p": 0.006835933906901626,
          "z": "[5.300000000000001,5.4)"
         },
         {
          "p": 0.006772925874612867,
          "z": "[5.4,5.5)"
         },
         {
          "p": 0.006711628645221901,
          "z": "[5.5,5.6)"
         },
         {
          "p": 0.006651966172286694,
          "z": "[5.6000000000000005,5.7)"
         },
         {
          "p": 0.00659386705931575,
          "z": "[5.7,5.8)"
         },
         {
          "p": 0.006537264200469961,
          "z": "[5.800000000000001,5.9)"
         },
         {
          "p": 0.006482094454622556,
          "z": "[5.9,6.0)"
         },
         {
          "p": 0.006428298349182016,
          "z": "[6.0,6.1)"
         },
         {
          "p": 0.006375819810515604,
          "z": "[6.1000000000000005,6.2)"
         },
         {
          "p": 0.006324605918196058,
          "z": "[6.2,6.3)"
         },
         {
          "p": 0.006274606680622741,
          "z": "[6.300000000000001,6.4)"
         },
         {
          "p": 0.00622577482985498,
          "z": "[6.4,6.5)"
         },
         {
          "p": 0.0061780656337410145,
          "z": "[6.5,6.6)"
         },
         {
          "p": 0.00613143672364902,
          "z": "[6.6000000000000005,6.7)"
         },
         {
          "p": 0.00608584793628697,
          "z": "[6.7,6.8)"
         },
         {
          "p": 0.006041261168275414,
          "z": "[6.800000000000001,6.9)"
         },
         {
          "p": 0.00599764024226801,
          "z": "[6.9,7.0)"
         },
         {
          "p": 0.005954950783560231,
          "z": "[7.0,7.1)"
         },
         {
          "p": 0.005913160106221116,
          "z": "[7.1000000000000005,7.2)"
         },
         {
          "p": 0.005872237107896083,
          "z": "[7.2,7.3)"
         },
         {
          "p": 0.0058321521725094305,
          "z": "[7.300000000000001,7.4)"
         },
         {
          "p": 0.005792877080175951,
          "z": "[7.4,7.5)"
         },
         {
          "p": 0.005754384923696065,
          "z": "[7.5,7.6)"
         },
         {
          "p": 0.005716650031077575,
          "z": "[7.6000000000000005,7.7)"
         },
         {
          "p": 0.005679647893572448,
          "z": "[7.7,7.8)"
         },
         {
          "p": 0.005643355098774228,
          "z": "[7.800000000000001,7.9)"
         },
         {
          "p": 0.005607749268356943,
          "z": "[7.9,8.0)"
         },
         {
          "p": 0.005572809000084167,
          "z": "[8.0,8.1)"
         },
         {
          "p": 0.005538513813741597,
          "z": "[8.1,8.2)"
         },
         {
          "p": 0.005504844100688189,
          "z": "[8.200000000000001,8.3)"
         },
         {
          "p": 0.00547178107673818,
          "z": "[8.3,8.4)"
         },
         {
          "p": 0.005439306738120653,
          "z": "[8.4,8.5)"
         },
         {
          "p": 0.005407403820281598,
          "z": "[8.5,8.6)"
         },
         {
          "p": 0.005376055759311105,
          "z": "[8.6,8.7)"
         },
         {
          "p": 0.005345246655804381,
          "z": "[8.700000000000001,8.8)"
         },
         {
          "p": 0.005314961240974414,
          "z": "[8.8,8.9)"
         },
         {
          "p": 0.005285184844853408,
          "z": "[8.9,9.0)"
         },
         {
          "p": 0.005255903366431891,
          "z": "[9.0,9.1)"
         },
         {
          "p": 0.005227103245598164,
          "z": "[9.1,9.2)"
         },
         {
          "p": 0.005198771436751626,
          "z": "[9.200000000000001,9.3)"
         },
         {
          "p": 0.005170895383970309,
          "z": "[9.3,9.4)"
         },
         {
          "p": 0.005143462997630466,
          "z": "[9.4,9.5)"
         },
         {
          "p": 0.005116462632374863,
          "z": "[9.5,9.6)"
         },
         {
          "p": 0.005089883066339174,
          "z": "[9.600000000000001,9.700000000000001)"
         },
         {
          "p": 0.005063713481556098,
          "z": "[9.700000000000001,9.8)"
         },
         {
          "p": 0.005037943445453386,
          "z": "[9.8,9.9)"
         },
         {
          "p": 0.005012562893380035,
          "z": "[9.9,10.0)"
         }
        ]
       },
       "encoding": {
        "x": {
         "axis": null,
         "field": "z",
         "type": "ordinal"
        },
        "y": {
         "field": "p",
         "type": "quantitative"
        }
       },
       "height": 100,
       "mark": "bar",
       "width": 400
      },
      "image/png": "[encoded data removed]",
      "text/plain": [
       "<VegaLite 3 object>\n",
       "\n",
       "If you see this message, it means the renderer has not been properly enabled\n",
       "for the frontend that you are using. For more information, see\n",
       "https://altair-viz.github.io/user_guide/troubleshooting.html\n"
      ]
     },
     "execution_count": 162,
     "metadata": {},
     "output_type": "execute_result"
    }
   ],
   "source": [
    "zs = np.arange(0,10,0.1)\n",
    "ps = [Pz(z,z+0.1) for z in zs]\n",
    "zs_labels = [f'[{z},{z+0.1})' for z in zs]\n",
    "\n",
    "distribution = pd.DataFrame({'z':zs_labels, 'p':ps})\n",
    "alt.Chart(distribution, height=100, width=400).mark_bar().encode(alt.X('z:O',axis=None), y='p')"
   ]
  },
  {
   "cell_type": "markdown",
   "metadata": {},
   "source": [
    "More buckets gives us more information. If we want to know $P(\\mathbf Z \\in [0,0.5))$, for instance, we can sum up the probabilities for the buckets $[0,0.1)$, $[0.1,0.2)$, ... $[0.4,0.5)$. But we can't get *any* probability. The graph doesn't have enough information to let us calculate probabilities over intervals whose ends are between two cutpoints of the buckets. It only has resolution up to increments of $0.1$ in terms of $z$. It would be nice to have a graph that lets us read off arbitrary probabilities like $P(\\mathbf Z \\in [a,b])$ just by looking at how much \"stuff\" there is between $a$ and $b$. Something like this:"
   ]
  },
  {
   "cell_type": "code",
   "execution_count": 163,
   "metadata": {},
   "outputs": [
    {
     "data": {
      "application/vnd.vegalite.v3+json": {
       "$schema": "https://vega.github.io/schema/vega-lite/v3.4.0.json",
       "config": {
        "mark": {
         "tooltip": null
        },
        "view": {
         "height": 300,
         "width": 400
        }
       },
       "data": {
        "name": "data-c101341a031f7d31f56b8b1aa832611d"
       },
       "datasets": {
        "data-c101341a031f7d31f56b8b1aa832611d": [
         {
          "p": 0.5,
          "z": 0.1
         },
         {
          "p": 0.35355339059327373,
          "z": 0.2
         },
         {
          "p": 0.28867513459481287,
          "z": 0.30000000000000004
         },
         {
          "p": 0.25,
          "z": 0.4
         },
         {
          "p": 0.22360679774997896,
          "z": 0.5
         },
         {
          "p": 0.20412414523193154,
          "z": 0.6
         },
         {
          "p": 0.1889822365046136,
          "z": 0.7000000000000001
         },
         {
          "p": 0.17677669529663687,
          "z": 0.8
         },
         {
          "p": 0.16666666666666666,
          "z": 0.9
         },
         {
          "p": 0.15811388300841897,
          "z": 1
         },
         {
          "p": 0.15075567228888181,
          "z": 1.1
         },
         {
          "p": 0.14433756729740643,
          "z": 1.2000000000000002
         },
         {
          "p": 0.13867504905630726,
          "z": 1.3000000000000003
         },
         {
          "p": 0.13363062095621217,
          "z": 1.4000000000000001
         },
         {
          "p": 0.12909944487358055,
          "z": 1.5000000000000002
         },
         {
          "p": 0.125,
          "z": 1.6
         },
         {
          "p": 0.12126781251816648,
          "z": 1.7000000000000002
         },
         {
          "p": 0.1178511301977579,
          "z": 1.8000000000000003
         },
         {
          "p": 0.11470786693528087,
          "z": 1.9000000000000001
         },
         {
          "p": 0.11180339887498948,
          "z": 2
         },
         {
          "p": 0.1091089451179962,
          "z": 2.1
         },
         {
          "p": 0.10660035817780521,
          "z": 2.2
         },
         {
          "p": 0.10425720702853737,
          "z": 2.3000000000000003
         },
         {
          "p": 0.10206207261596574,
          "z": 2.4000000000000004
         },
         {
          "p": 0.1,
          "z": 2.5000000000000004
         },
         {
          "p": 0.09805806756909202,
          "z": 2.6
         },
         {
          "p": 0.09622504486493763,
          "z": 2.7
         },
         {
          "p": 0.0944911182523068,
          "z": 2.8000000000000003
         },
         {
          "p": 0.09284766908852592,
          "z": 2.9000000000000004
         },
         {
          "p": 0.09128709291752768,
          "z": 3.0000000000000004
         },
         {
          "p": 0.08980265101338746,
          "z": 3.1
         },
         {
          "p": 0.08838834764831843,
          "z": 3.2
         },
         {
          "p": 0.08703882797784893,
          "z": 3.3000000000000003
         },
         {
          "p": 0.08574929257125441,
          "z": 3.4000000000000004
         },
         {
          "p": 0.08451542547285164,
          "z": 3.5000000000000004
         },
         {
          "p": 0.08333333333333333,
          "z": 3.6
         },
         {
          "p": 0.08219949365267865,
          "z": 3.7
         },
         {
          "p": 0.08111071056538127,
          "z": 3.8000000000000003
         },
         {
          "p": 0.08006407690254357,
          "z": 3.9000000000000004
         },
         {
          "p": 0.07905694150420949,
          "z": 4
         },
         {
          "p": 0.07808688094430304,
          "z": 4.1
         },
         {
          "p": 0.07715167498104596,
          "z": 4.2
         },
         {
          "p": 0.07624928516630233,
          "z": 4.3
         },
         {
          "p": 0.07537783614444092,
          "z": 4.3999999999999995
         },
         {
          "p": 0.07453559924999299,
          "z": 4.5
         },
         {
          "p": 0.07372097807744857,
          "z": 4.6
         },
         {
          "p": 0.07293249574894728,
          "z": 4.7
         },
         {
          "p": 0.07216878364870323,
          "z": 4.8
         },
         {
          "p": 0.07142857142857142,
          "z": 4.9
         },
         {
          "p": 0.07071067811865475,
          "z": 5
         },
         {
          "p": 0.07001400420140048,
          "z": 5.1
         },
         {
          "p": 0.06933752452815364,
          "z": 5.2
         },
         {
          "p": 0.06868028197434452,
          "z": 5.3
         },
         {
          "p": 0.06804138174397717,
          "z": 5.4
         },
         {
          "p": 0.06741998624632421,
          "z": 5.5
         },
         {
          "p": 0.0668153104781061,
          "z": 5.6
         },
         {
          "p": 0.06622661785325219,
          "z": 5.7
         },
         {
          "p": 0.06565321642986127,
          "z": 5.8
         },
         {
          "p": 0.06509445549041194,
          "z": 5.9
         },
         {
          "p": 0.06454972243679027,
          "z": 6
         },
         {
          "p": 0.06401843996644799,
          "z": 6.1
         },
         {
          "p": 0.06350006350009525,
          "z": 6.2
         },
         {
          "p": 0.0629940788348712,
          "z": 6.3
         },
         {
          "p": 0.0625,
          "z": 6.4
         },
         {
          "p": 0.062017367294604234,
          "z": 6.5
         },
         {
          "p": 0.06154574548966636,
          "z": 6.6
         },
         {
          "p": 0.06108472217815261,
          "z": 6.7
         },
         {
          "p": 0.06063390625908324,
          "z": 6.8
         },
         {
          "p": 0.0601929265428846,
          "z": 6.9
         },
         {
          "p": 0.05976143046671968,
          "z": 7
         },
         {
          "p": 0.05933908290969266,
          "z": 7.1
         },
         {
          "p": 0.05892556509887897,
          "z": 7.2
         },
         {
          "p": 0.058520573598065284,
          "z": 7.3
         },
         {
          "p": 0.05812381937190964,
          "z": 7.4
         },
         {
          "p": 0.05773502691896257,
          "z": 7.5
         },
         {
          "p": 0.057353933467640436,
          "z": 7.6
         },
         {
          "p": 0.05698028822981897,
          "z": 7.7
         },
         {
          "p": 0.05661385170722978,
          "z": 7.8
         },
         {
          "p": 0.0562543950463012,
          "z": 7.9
         },
         {
          "p": 0.05590169943749474,
          "z": 8
         },
         {
          "p": 0.05555555555555555,
          "z": 8.1
         },
         {
          "p": 0.05521576303742327,
          "z": 8.2
         },
         {
          "p": 0.05488212999484517,
          "z": 8.3
         },
         {
          "p": 0.0545544725589981,
          "z": 8.4
         },
         {
          "p": 0.05423261445466404,
          "z": 8.5
         },
         {
          "p": 0.053916386601719206,
          "z": 8.6
         },
         {
          "p": 0.05360562674188974,
          "z": 8.7
         },
         {
          "p": 0.053300179088902604,
          "z": 8.8
         },
         {
          "p": 0.052999894000318,
          "z": 8.9
         },
         {
          "p": 0.05270462766947299,
          "z": 9
         },
         {
          "p": 0.052414241836095915,
          "z": 9.1
         },
         {
          "p": 0.05212860351426869,
          "z": 9.2
         },
         {
          "p": 0.05184758473652126,
          "z": 9.3
         },
         {
          "p": 0.05157106231293967,
          "z": 9.4
         },
         {
          "p": 0.051298917604257706,
          "z": 9.5
         },
         {
          "p": 0.051031036307982884,
          "z": 9.6
         },
         {
          "p": 0.050767308256680944,
          "z": 9.700000000000001
         },
         {
          "p": 0.050507627227610534,
          "z": 9.8
         },
         {
          "p": 0.050251890762960605,
          "z": 9.9
         }
        ]
       },
       "encoding": {
        "x": {
         "field": "z",
         "type": "quantitative"
        },
        "y": {
         "field": "p",
         "type": "quantitative"
        }
       },
       "height": 100,
       "mark": "area",
       "width": 400
      },
      "image/png": "[encoded data removed]",
      "text/plain": [
       "<VegaLite 3 object>\n",
       "\n",
       "If you see this message, it means the renderer has not been properly enabled\n",
       "for the frontend that you are using. For more information, see\n",
       "https://altair-viz.github.io/user_guide/troubleshooting.html\n"
      ]
     },
     "execution_count": 163,
     "metadata": {},
     "output_type": "execute_result"
    }
   ],
   "source": [
    "zs = np.arange(0.1,10,0.1)\n",
    "ps = [1/(2*sqrt(10*z)) for z in zs] # magic, for now\n",
    "\n",
    "distribution = pd.DataFrame({'z':zs, 'p':ps})\n",
    "alt.Chart(distribution, height=100, width=400).mark_area().encode(x='z', y='p')"
   ]
  },
  {
   "cell_type": "markdown",
   "metadata": {},
   "source": [
    "Before I explain how I managed to make this graph, which is called a *density plot*, I want to establish an intuition for what it means. We've gone from 10 buckets, to 100 buckets, to \"infinite\" buckets. I like to think of these pictures literally: all the outcomes $\\omega$ neatly piled up on top of the labels $z$ for the values they will become. So to get $P(\\mathbf Z \\in [a,b])$ from this picture, which is just the volume of outcomes that map to values between $a$ and $b$, all we need to do is see how much stuff there is piled up between $a$ and $b$ in the picture. "
   ]
  },
  {
   "cell_type": "markdown",
   "metadata": {},
   "source": [
    "To do this, we turn to a useful tool from calculus: the integral. To make the picture above, we need a curve $\\phi(z)$ such that the area under $f$ between $a$ and $b$ is $P(\\mathbf Z \\in [a,b])$ for all values $a$ and $b$. In the previous exercise you should have figured out that $P(\\mathbf Z \\in [a,b]) = \\sqrt{\\frac{b}{10}} - \\sqrt{\\frac{a}{10}}$. So what we need is the curve $\\phi(z)$ that satisfies this equation:\n",
    "\n",
    "$$\\int_a^b \\phi(z) dz = P(\\mathbf Z \\in [a,b]) = \\sqrt{\\frac{b}{10}} - \\sqrt{\\frac{a}{10}}$$"
   ]
  },
  {
   "cell_type": "markdown",
   "metadata": {},
   "source": [
    "Looking at the integral equation, it's clear that $\\Phi(z) = \\sqrt{\\frac{z}{10}}$ is the antiderivative of $\\phi(z)$, so all we need to do to get $\\phi$ is differentiate $\\Phi$:\n",
    "\n",
    "$$\\phi(z) = \\frac{d\\Phi(z)}{dz} = \\frac{d}{dz} \\sqrt{\\frac{z}{10}} = \\frac{1}{2\\sqrt{10z}}$$"
   ]
  },
  {
   "cell_type": "markdown",
   "metadata": {},
   "source": [
    "<div class=\"alert alert-block alert-warning\">\n",
    "<b>Note:</b> \n",
    "\n",
    "If this doesn't make any sense to you, you should stop and go review a friendly calculus book or any of the great online resources on the topic.\n",
    "</div>"
   ]
  },
  {
   "cell_type": "markdown",
   "metadata": {},
   "source": [
    "Now the line `ps = [1/(2*sqrt(10*z)) for z in zs]` in the code above should make sense to you."
   ]
  },
  {
   "cell_type": "markdown",
   "metadata": {},
   "source": [
    "The function $\\phi(z)$ is called a *probability density function*, which is the continuous equivalent of the probability mass function. Its integral $\\Phi(z) = \\int_{-\\infty}^z \\phi(t)dt = P(\\mathbf Z \\le z)$ is called a *cumulative density function*. Either of these functions tell you everything you need to know about probabilities of the random variable $\\mathbf Z$. The probability that $\\mathbf Z$ takes any of the values in an arbitrary set $A$ is \n",
    "\n",
    "$$P(\\mathbf Z \\in A) = \\int_{A} \\phi(z) dz$$"
   ]
  },
  {
   "cell_type": "markdown",
   "metadata": {},
   "source": [
    "<div class=\"alert alert-block alert-info\">\n",
    "<b>Exercise:</b> \n",
    "\n",
    "For our random variable $\\mathbf Z$, what is $P(\\mathbf Z \\in (0, 10))$? Calculate the probability by integrating the density function or using the cumulative density function. Does your answer line up with what you expect based on our original definition of $\\mathbf Z$? \n",
    "    \n",
    "Here is another random variable that, like $\\mathbf Z$, maps outcomes in $\\Omega = [0,1]$ to values in $[0,10]$: $\\mathbf W(\\omega) = 10\\omega$. Calculate $P(\\mathbf W \\in [a,b])$ for some interval $[a,b]$. What is the probability density function for $\\mathbf W$? What is $P(\\mathbf W \\in (0, 10))$?\n",
    "    \n",
    "For <i>any</i> continuous random variable $\\mathbf X$, what is $\\int_{-\\infty}^{\\infty} \\phi(x) dx$? Hint: what probability does this represent?\n",
    "    \n",
    "What is $\\Phi(-\\infty)$? $\\Phi(\\infty)$? \n",
    "    \n",
    "Is it possible to have a random variable $\\mathbf Q$ with $\\phi_{\\mathbf Q}(q) < 0$ for some $q$ that is a possible output value of $\\mathbf Q$? Why does this not make sense?\n",
    "    \n",
    "</div>"
   ]
  },
  {
   "cell_type": "markdown",
   "metadata": {},
   "source": [
    "At this point, talking about the outcomes $\\omega$ is kind of silly. If two random variables have the same probability mass function or the same probability density function, then, for all intents and purposes, they are the same random variable. It doens't matter exactly which outcomes map to which values, as long as the proportions are the same. We already demonstrated this in the discrete case.\n",
    "\n",
    "We can also invent a new continuous random variable $\\mathbf Z'$ whose sample space $\\Omega$ is $[-100, 100]$ instead of $[0,1]$, but which has the same probability density function as $\\mathbf Z$: \n",
    "\n",
    "$$\n",
    "\\mathbf Z'(\\omega) = 10\\left(\\frac{\\omega+100}{200}\\right)^2\n",
    "$$"
   ]
  },
  {
   "cell_type": "markdown",
   "metadata": {},
   "source": [
    "For this we use the notation $\\mathbf Z \\sim \\mathbf Z'$. Technically they are not the same, since the sample spaces are different, but as far as an observer who is outside the curtain is concerned, there is no way to tell them apart. The *distribution* of the random variable is what really matters. "
   ]
  },
  {
   "cell_type": "markdown",
   "metadata": {},
   "source": [
    "### Histograms vs. density functions"
   ]
  },
  {
   "cell_type": "markdown",
   "metadata": {},
   "source": [
    "Many of you are probably already familiar with histograms. Histograms are a way of visualizing observed data. Each observed value is stacked up on top of its approximate label (e.g. any $z$ between 0.5 and 1.5 is labeled \"1\") and the counts are plotted:"
   ]
  },
  {
   "cell_type": "code",
   "execution_count": 164,
   "metadata": {},
   "outputs": [
    {
     "data": {
      "application/vnd.vegalite.v3+json": {
       "$schema": "https://vega.github.io/schema/vega-lite/v3.4.0.json",
       "config": {
        "mark": {
         "tooltip": null
        },
        "view": {
         "height": 300,
         "width": 400
        }
       },
       "data": {
        "name": "data-479b35df6fc24a68477ac8dee500ca35"
       },
       "datasets": {
        "data-479b35df6fc24a68477ac8dee500ca35": [
         {
          "z": 5.819983126519082
         },
         {
          "z": 3.4076944763629076
         },
         {
          "z": 0.0022941955658517194
         },
         {
          "z": 7.843049803290284
         },
         {
          "z": 0.02210919377670716
         },
         {
          "z": 7.590137420028262
         },
         {
          "z": 0.18139532244554935
         },
         {
          "z": 6.592961388623461
         },
         {
          "z": 8.913554756169367
         },
         {
          "z": 2.839741369618256
         },
         {
          "z": 8.694405136054035
         },
         {
          "z": 7.3514993513640245
         },
         {
          "z": 2.8928873826091883
         },
         {
          "z": 4.188045795086211
         },
         {
          "z": 7.781181983783284
         },
         {
          "z": 0.008635838199110584
         },
         {
          "z": 0.8492885177043258
         },
         {
          "z": 7.251645541950071
         },
         {
          "z": 0.9979928653774
         },
         {
          "z": 5.2051013477586
         },
         {
          "z": 7.74071290768077
         },
         {
          "z": 0.4056598903130442
         },
         {
          "z": 0.0011515740585454277
         },
         {
          "z": 4.608648072420612
         },
         {
          "z": 0.08928805833764084
         },
         {
          "z": 2.0903777507989125
         },
         {
          "z": 1.473477776651865
         },
         {
          "z": 0.5634577814104577
         },
         {
          "z": 0.3998439139189705
         },
         {
          "z": 8.521112737985467
         },
         {
          "z": 0.4185089456711385
         },
         {
          "z": 0.16031211461559852
         },
         {
          "z": 2.789781009583552
         },
         {
          "z": 4.030365691692855e-05
         },
         {
          "z": 9.381248131792038
         },
         {
          "z": 1.5678437463858217
         },
         {
          "z": 5.1865216654364135
         },
         {
          "z": 3.8585010308263423
         },
         {
          "z": 7.693331026932714
         },
         {
          "z": 1.3305611173257983
         },
         {
          "z": 1.2603315047613273
         },
         {
          "z": 0.8978423888453718
         },
         {
          "z": 0.2534532115713088
         },
         {
          "z": 0.07049698948989896
         },
         {
          "z": 0.2858202290467475
         },
         {
          "z": 4.517886670242685
         },
         {
          "z": 0.9890401629954626
         },
         {
          "z": 0.3343588754983228
         },
         {
          "z": 4.35690672897264
         },
         {
          "z": 1.630386864602765
         },
         {
          "z": 0.9554744705269812
         },
         {
          "z": 7.441715090135874
         },
         {
          "z": 4.788887375275314
         },
         {
          "z": 8.71312500329781
         },
         {
          "z": 1.240061176349341
         },
         {
          "z": 3.419136494237234
         },
         {
          "z": 9.23411677415854
         },
         {
          "z": 5.227919703598402
         },
         {
          "z": 0.39322309826916807
         },
         {
          "z": 0.2700731502659413
         },
         {
          "z": 0.8954585905546517
         },
         {
          "z": 0.029210259674109805
         },
         {
          "z": 2.4492468963311538
         },
         {
          "z": 0.0022332203484354963
         },
         {
          "z": 5.310360859441412
         },
         {
          "z": 0.039916544421310984
         },
         {
          "z": 5.7460678960540035
         },
         {
          "z": 1.2330171916795842
         },
         {
          "z": 3.644305057328835
         },
         {
          "z": 0.31510271337617257
         },
         {
          "z": 4.016843334429828
         },
         {
          "z": 0.9248105026536737
         },
         {
          "z": 0.2789164524648279
         },
         {
          "z": 4.5371115849430215
         },
         {
          "z": 4.996377311121501
         },
         {
          "z": 3.5170762653931655
         },
         {
          "z": 2.0750285319147053
         },
         {
          "z": 3.7213789981597563
         },
         {
          "z": 0.499314797243252
         },
         {
          "z": 5.192869732928451
         },
         {
          "z": 0.3839315882223476
         },
         {
          "z": 7.941775057130842
         },
         {
          "z": 6.847319822677113
         },
         {
          "z": 9.82519704315255
         },
         {
          "z": 9.50620788960046
         },
         {
          "z": 0.06525022882772108
         },
         {
          "z": 1.2045058090264138
         },
         {
          "z": 1.0569373968600393
         },
         {
          "z": 0.6068116109137841
         },
         {
          "z": 6.829424917137487
         },
         {
          "z": 6.407351352381857
         },
         {
          "z": 1.4284672084086423
         },
         {
          "z": 2.8165787277575065
         },
         {
          "z": 8.418502562488877
         },
         {
          "z": 0.29358557646342326
         },
         {
          "z": 0.0008026645809770696
         },
         {
          "z": 6.147906310748788
         },
         {
          "z": 0.6465852942189866
         },
         {
          "z": 1.4560182866421054
         },
         {
          "z": 4.2546348077481335
         },
         {
          "z": 6.880657739444544
         },
         {
          "z": 1.9191881161459003
         },
         {
          "z": 1.06152067002296
         },
         {
          "z": 4.50040083767443
         },
         {
          "z": 7.951810818803805
         },
         {
          "z": 2.490458067885948
         },
         {
          "z": 0.1340337510794321
         },
         {
          "z": 2.517521946712837
         },
         {
          "z": 0.7828249555639538
         },
         {
          "z": 0.24744203510992413
         },
         {
          "z": 0.26443257660363695
         },
         {
          "z": 0.33368899159495147
         },
         {
          "z": 4.795394628851707
         },
         {
          "z": 0.0214643239320943
         },
         {
          "z": 0.4823024480094038
         },
         {
          "z": 5.207816703884763
         },
         {
          "z": 8.525512470607287
         },
         {
          "z": 1.939060992450984
         },
         {
          "z": 1.5007227329467403
         },
         {
          "z": 4.5987694270965775
         },
         {
          "z": 0.059401307702563945
         },
         {
          "z": 5.559299890088191
         },
         {
          "z": 9.466370485738985
         },
         {
          "z": 2.3404699657263572
         },
         {
          "z": 1.4626331108857622
         },
         {
          "z": 9.677525968204998
         },
         {
          "z": 0.028236831480453355
         },
         {
          "z": 4.627742142839773
         },
         {
          "z": 1.926726371822509
         },
         {
          "z": 0.8450063840597499
         },
         {
          "z": 9.774771962777066
         },
         {
          "z": 0.15034887170426542
         },
         {
          "z": 5.889201249612407
         },
         {
          "z": 5.920623191624491
         },
         {
          "z": 4.561814603676166
         },
         {
          "z": 8.890187910616362
         },
         {
          "z": 1.4433291260647632
         },
         {
          "z": 0.7263040425841143
         },
         {
          "z": 2.0901977383970847
         },
         {
          "z": 7.065671502291187
         },
         {
          "z": 7.806313468188767
         },
         {
          "z": 2.4014050528866533
         },
         {
          "z": 2.0056643972966457
         },
         {
          "z": 4.994161962928668
         },
         {
          "z": 2.610509800779387
         },
         {
          "z": 6.577969698941408
         },
         {
          "z": 0.005458701006210571
         },
         {
          "z": 1.939221032997749
         },
         {
          "z": 0.04264028140600122
         },
         {
          "z": 0.310984648837073
         },
         {
          "z": 2.7528206119945144
         },
         {
          "z": 6.362099561965242
         },
         {
          "z": 4.134693112991922
         },
         {
          "z": 0.8892911875248595
         },
         {
          "z": 5.00990101315333
         },
         {
          "z": 0.4205725353452188
         },
         {
          "z": 0.051486897824647236
         },
         {
          "z": 6.729445792730756
         },
         {
          "z": 1.5542337069665992
         },
         {
          "z": 2.6473184725300776
         },
         {
          "z": 7.6076126443598024
         },
         {
          "z": 3.8551907539200965
         },
         {
          "z": 6.647357840640592
         },
         {
          "z": 8.2929657628837
         },
         {
          "z": 7.492535537119707
         },
         {
          "z": 0.041570473907617575
         },
         {
          "z": 0.5925539461923802
         },
         {
          "z": 8.658593422505696
         },
         {
          "z": 3.4099063266046263
         },
         {
          "z": 3.1023743788465556
         },
         {
          "z": 3.5123653636326946
         },
         {
          "z": 0.0522945247427983
         },
         {
          "z": 1.2182661732038185
         },
         {
          "z": 4.18278013189349
         },
         {
          "z": 1.3016980981084756
         },
         {
          "z": 1.132185901835711
         },
         {
          "z": 0.5232053648605963
         },
         {
          "z": 0.029961160059603496
         },
         {
          "z": 1.4185469232181687
         },
         {
          "z": 7.556189084081099
         },
         {
          "z": 7.0220723918195525
         },
         {
          "z": 0.4047954942185434
         },
         {
          "z": 0.33340512999386185
         },
         {
          "z": 7.09205311590657
         },
         {
          "z": 0.01878402810767997
         },
         {
          "z": 1.8289031417566324
         },
         {
          "z": 0.870569980338709
         },
         {
          "z": 0.06838972486354919
         },
         {
          "z": 0.5338373748603695
         },
         {
          "z": 6.6511629592974515
         },
         {
          "z": 0.2507813214755251
         },
         {
          "z": 4.677613555959231
         },
         {
          "z": 5.233652113066719
         },
         {
          "z": 5.5533635394893865
         },
         {
          "z": 0.15875267223468767
         },
         {
          "z": 6.148837009012803
         },
         {
          "z": 0.04738753747539856
         },
         {
          "z": 1.6744067933106117
         },
         {
          "z": 4.439633715347664
         },
         {
          "z": 0.5423994643456946
         },
         {
          "z": 8.141846425702413
         },
         {
          "z": 0.38495196501947654
         },
         {
          "z": 0.06653819270401423
         },
         {
          "z": 2.0563115798017995
         },
         {
          "z": 0.9277000023577981
         },
         {
          "z": 0.5120423809085806
         },
         {
          "z": 5.234018479939211
         },
         {
          "z": 8.322938663782546
         },
         {
          "z": 3.678118648527941
         },
         {
          "z": 4.649304757256619
         },
         {
          "z": 8.34491991899856
         },
         {
          "z": 1.0306177283853433
         },
         {
          "z": 3.996928172256993
         },
         {
          "z": 0.13995633375468344
         },
         {
          "z": 0.8049954667463853
         },
         {
          "z": 0.9832412810875402
         },
         {
          "z": 6.784857571312029
         },
         {
          "z": 0.017106417168133096
         },
         {
          "z": 4.222249149679575
         },
         {
          "z": 7.153475176607401
         },
         {
          "z": 0.06969681821415942
         },
         {
          "z": 2.941137255923785
         },
         {
          "z": 0.1964858511112773
         },
         {
          "z": 2.58331067949382
         },
         {
          "z": 7.111691806184553
         },
         {
          "z": 9.027113786327904
         },
         {
          "z": 6.151609622622843
         },
         {
          "z": 0.30187166610470384
         },
         {
          "z": 0.04436309252241817
         },
         {
          "z": 9.347935055019153
         },
         {
          "z": 5.485524837220298
         },
         {
          "z": 0.4085601504919488
         },
         {
          "z": 0.08623721732193874
         },
         {
          "z": 0.2546975383645852
         },
         {
          "z": 4.6808819483441555
         },
         {
          "z": 5.558294344638622
         },
         {
          "z": 0.581464672885459
         },
         {
          "z": 0.7797502571873715
         },
         {
          "z": 1.6947101259819866
         },
         {
          "z": 5.100291680095871
         },
         {
          "z": 9.493607776064543
         },
         {
          "z": 9.838725353040136
         },
         {
          "z": 5.554777480660666
         },
         {
          "z": 2.2865469040513005
         },
         {
          "z": 1.9172657394055648
         },
         {
          "z": 3.981873593973208
         },
         {
          "z": 0.6735782454647368
         },
         {
          "z": 2.479598221543258
         },
         {
          "z": 0.7196824050105493
         },
         {
          "z": 9.384927903889809
         },
         {
          "z": 4.1247394318088615
         },
         {
          "z": 1.908601071259404
         },
         {
          "z": 2.8298357349192305
         },
         {
          "z": 0.042452109501155195
         },
         {
          "z": 1.3002979997809416
         },
         {
          "z": 0.9407835216845497
         },
         {
          "z": 5.636236598603808
         },
         {
          "z": 3.4912610419453793
         },
         {
          "z": 5.839395140958147
         },
         {
          "z": 5.043472881015143
         },
         {
          "z": 0.6860877496081248
         },
         {
          "z": 6.4014995996024835
         },
         {
          "z": 3.27504892337986
         },
         {
          "z": 7.606118294099043
         },
         {
          "z": 0.4238155741263361
         },
         {
          "z": 9.30943982881517
         },
         {
          "z": 0.6298412183848799
         },
         {
          "z": 8.33265543879258
         },
         {
          "z": 0.49299600641321795
         },
         {
          "z": 0.07004240368301207
         },
         {
          "z": 2.3396330023162277
         },
         {
          "z": 9.087294971203796
         },
         {
          "z": 5.539608495617188
         },
         {
          "z": 2.4871399829946887
         },
         {
          "z": 9.955034826937977
         },
         {
          "z": 1.097494571814803
         },
         {
          "z": 6.853228266903414
         },
         {
          "z": 2.3232499251331378
         },
         {
          "z": 2.079224444046282
         },
         {
          "z": 0.915308641906186
         },
         {
          "z": 5.928234465271565
         },
         {
          "z": 4.511750138364069
         },
         {
          "z": 0.046099088047771505
         },
         {
          "z": 3.6348983192340523
         },
         {
          "z": 0.6486949184086742
         },
         {
          "z": 0.7055971390601381
         },
         {
          "z": 3.064444151533892
         },
         {
          "z": 2.2396943652976176
         },
         {
          "z": 3.4686620700158914
         },
         {
          "z": 0.9230772463069453
         },
         {
          "z": 0.03204897471623777
         },
         {
          "z": 0.7876141731385227
         },
         {
          "z": 3.8044049710014187
         },
         {
          "z": 4.772580500003085
         },
         {
          "z": 0.001047550153508004
         },
         {
          "z": 9.705626215487431
         },
         {
          "z": 1.7671682415592231
         },
         {
          "z": 4.716080378763564
         },
         {
          "z": 8.681881137653333
         },
         {
          "z": 6.103172271740186
         },
         {
          "z": 6.63661268452792
         },
         {
          "z": 0.5806776479269139
         },
         {
          "z": 0.423889541288898
         },
         {
          "z": 5.142013323428022
         },
         {
          "z": 0.18824106008444413
         },
         {
          "z": 7.784442333524204
         },
         {
          "z": 3.5232139459722465
         },
         {
          "z": 0.0036088888428347926
         },
         {
          "z": 1.695099022934493
         },
         {
          "z": 8.494318190676632
         },
         {
          "z": 7.846264896151417
         },
         {
          "z": 0.7044146618758327
         },
         {
          "z": 3.0061865328422623
         },
         {
          "z": 2.5140872396307827
         },
         {
          "z": 8.680473819562716
         },
         {
          "z": 1.8840321966297418
         },
         {
          "z": 5.1291257485567785
         },
         {
          "z": 0.008893916509150756
         },
         {
          "z": 0.00377129391281328
         },
         {
          "z": 0.4491102935197564
         },
         {
          "z": 1.3150944661734427
         },
         {
          "z": 6.710844640353313
         },
         {
          "z": 0.599555877390761
         },
         {
          "z": 8.560054612309612
         },
         {
          "z": 4.945489894936069
         },
         {
          "z": 9.497142171473417
         },
         {
          "z": 6.378211402451594
         },
         {
          "z": 4.468242943392221
         },
         {
          "z": 4.180701814128267
         },
         {
          "z": 0.15522757928185238
         },
         {
          "z": 5.966820395794198
         },
         {
          "z": 2.258034497388501
         },
         {
          "z": 1.181246062313581
         },
         {
          "z": 7.225674981163554
         },
         {
          "z": 5.229182249255668
         },
         {
          "z": 1.1521756561400214
         },
         {
          "z": 4.254597663318186
         },
         {
          "z": 6.905129238299384
         },
         {
          "z": 8.756399575732846
         },
         {
          "z": 0.04511132063547127
         },
         {
          "z": 1.637157561993926
         },
         {
          "z": 6.378416046384926
         },
         {
          "z": 3.9001729652260138
         },
         {
          "z": 1.5214408703011981
         },
         {
          "z": 2.076125259272588
         },
         {
          "z": 1.7849391126647105
         },
         {
          "z": 2.679848797107031
         },
         {
          "z": 3.4409631220459684
         },
         {
          "z": 3.443095452720415
         },
         {
          "z": 3.9702492536246403
         },
         {
          "z": 7.802443911342108
         },
         {
          "z": 2.594805163385099
         },
         {
          "z": 1.0840885482350038
         },
         {
          "z": 7.795531881056716
         },
         {
          "z": 8.765714110311743
         },
         {
          "z": 0.0024506567112170946
         },
         {
          "z": 7.5972678773979565
         },
         {
          "z": 0.018296252240049025
         },
         {
          "z": 0.38099085143552003
         },
         {
          "z": 3.6124626923815
         },
         {
          "z": 1.869017649695044
         },
         {
          "z": 9.596958099326171
         },
         {
          "z": 0.41704953551072665
         },
         {
          "z": 2.5285424724127448
         },
         {
          "z": 2.2596063582966783
         },
         {
          "z": 5.871924432033735
         },
         {
          "z": 2.6596197173424043
         },
         {
          "z": 3.3001987118015204
         },
         {
          "z": 8.62500065556314
         },
         {
          "z": 3.549933381895543
         },
         {
          "z": 0.5675992785056098
         },
         {
          "z": 3.0360707732292425
         },
         {
          "z": 4.937273863765398
         },
         {
          "z": 0.8439392320311443
         },
         {
          "z": 3.3177864140562097
         },
         {
          "z": 3.2538482458341695
         },
         {
          "z": 0.43670908252521445
         },
         {
          "z": 0.65077291647059
         },
         {
          "z": 1.8056531813483654
         },
         {
          "z": 4.901731719563754
         },
         {
          "z": 0.10443964824350258
         },
         {
          "z": 0.050876873356397595
         },
         {
          "z": 6.956342300038937
         },
         {
          "z": 8.444448279240808
         },
         {
          "z": 0.9772049082914879
         },
         {
          "z": 0.009977901696008647
         },
         {
          "z": 6.721866482572782
         },
         {
          "z": 3.2739092318224152
         },
         {
          "z": 6.52743918241535
         },
         {
          "z": 0.12566541985657623
         },
         {
          "z": 3.95635901592705
         },
         {
          "z": 6.576811806223919
         },
         {
          "z": 4.209504550440957
         },
         {
          "z": 4.905562423800143
         },
         {
          "z": 0.20624925131260968
         },
         {
          "z": 3.3640999864141
         },
         {
          "z": 7.521036251802632
         },
         {
          "z": 0.6446929834459416
         },
         {
          "z": 4.562342951604266
         },
         {
          "z": 1.41695495456556
         },
         {
          "z": 3.9993904161248635
         },
         {
          "z": 0.27186775680775155
         },
         {
          "z": 6.482806802016643
         },
         {
          "z": 0.9970566314384178
         },
         {
          "z": 7.04509427222923
         },
         {
          "z": 4.484232696726854
         },
         {
          "z": 0.014968923988480928
         },
         {
          "z": 0.1866168585045785
         },
         {
          "z": 3.7716339164608534
         },
         {
          "z": 1.0569406133440038
         },
         {
          "z": 0.3292718374083659
         },
         {
          "z": 1.4282475094088976
         },
         {
          "z": 0.07238203814479682
         },
         {
          "z": 3.46067174411572
         },
         {
          "z": 2.0643709233535974
         },
         {
          "z": 0.7377757858023699
         },
         {
          "z": 8.584893573672828
         },
         {
          "z": 1.2986664962073955
         },
         {
          "z": 5.991123576829168
         },
         {
          "z": 3.539778673998826
         },
         {
          "z": 0.029285580226608106
         },
         {
          "z": 1.0010434082777602
         },
         {
          "z": 2.2396529512231638
         },
         {
          "z": 3.475333809730629
         },
         {
          "z": 0.8282042610040763
         },
         {
          "z": 7.887702884260525
         },
         {
          "z": 7.2914568313504935
         },
         {
          "z": 1.3574982427194568
         },
         {
          "z": 4.201001453800654
         },
         {
          "z": 4.671006799050828
         },
         {
          "z": 6.27513619539164
         },
         {
          "z": 0.3047368432394539
         },
         {
          "z": 3.2719056393903094
         },
         {
          "z": 9.289760966469
         },
         {
          "z": 7.124558401380449
         },
         {
          "z": 0.1724565543477466
         },
         {
          "z": 7.1789646051675895
         },
         {
          "z": 2.6805044830263585
         },
         {
          "z": 3.315927665010955
         },
         {
          "z": 0.06227438044103491
         },
         {
          "z": 1.8848751567806312
         },
         {
          "z": 0.1933964345498816
         },
         {
          "z": 4.515810093696535
         },
         {
          "z": 4.766779163340784
         },
         {
          "z": 2.8240780823034077
         },
         {
          "z": 3.096606774702288
         },
         {
          "z": 9.593838550383314
         },
         {
          "z": 1.222968783387879
         },
         {
          "z": 0.006744031351038643
         },
         {
          "z": 3.54150497170786
         },
         {
          "z": 5.624253449456829
         },
         {
          "z": 9.7873445859653
         },
         {
          "z": 0.4071617788192661
         },
         {
          "z": 0.4184900997271028
         },
         {
          "z": 8.745944890060303
         },
         {
          "z": 8.80110845593946
         },
         {
          "z": 8.858126133855823
         },
         {
          "z": 0.03644670579652264
         },
         {
          "z": 3.7419876749924237
         },
         {
          "z": 6.612946089352824
         },
         {
          "z": 7.863909841527122
         },
         {
          "z": 1.4042632538274649
         },
         {
          "z": 2.422689076113455
         },
         {
          "z": 9.019969614826097
         },
         {
          "z": 1.3506348575408862
         },
         {
          "z": 3.9044229927607526
         },
         {
          "z": 0.05292801303431824
         },
         {
          "z": 3.1871377991795438
         },
         {
          "z": 8.277134822498631
         },
         {
          "z": 8.100784226149075
         },
         {
          "z": 0.9929584904254758
         },
         {
          "z": 1.4627268728373068
         },
         {
          "z": 0.9626001500637636
         },
         {
          "z": 8.151300737153823
         },
         {
          "z": 4.954429018591721
         },
         {
          "z": 8.614074766080725
         },
         {
          "z": 0.880577971825171
         },
         {
          "z": 1.6677146775884149
         },
         {
          "z": 9.113776772715674
         },
         {
          "z": 0.029588021471978403
         },
         {
          "z": 3.131767830510758
         },
         {
          "z": 7.697492076365466
         },
         {
          "z": 4.417567312097727
         },
         {
          "z": 2.5985222222387283
         },
         {
          "z": 8.818821901651049
         },
         {
          "z": 0.6610504743226447
         },
         {
          "z": 4.81650105814097
         },
         {
          "z": 6.766373009401923
         },
         {
          "z": 1.37855414734939
         },
         {
          "z": 7.72314900212675
         },
         {
          "z": 7.403002235882713
         },
         {
          "z": 2.7677159399126925
         },
         {
          "z": 1.0520481636121595
         },
         {
          "z": 0.5160754707927252
         },
         {
          "z": 2.075619684287346
         },
         {
          "z": 0.3597850078688085
         },
         {
          "z": 1.4061792290692643
         },
         {
          "z": 4.048508501560056
         },
         {
          "z": 0.6581491192243
         },
         {
          "z": 3.8223429617574647
         },
         {
          "z": 0.029787740792754362
         },
         {
          "z": 0.6923394711375255
         },
         {
          "z": 7.3745764055787255
         },
         {
          "z": 9.345777553278209
         },
         {
          "z": 5.091186196995789
         },
         {
          "z": 2.2443636321304496
         },
         {
          "z": 0.04168702365072287
         },
         {
          "z": 0.9912144470280995
         },
         {
          "z": 3.9799152046104567
         },
         {
          "z": 0.23040544902220977
         },
         {
          "z": 4.359215700879048
         },
         {
          "z": 2.475700224834267
         },
         {
          "z": 2.12768583866931
         },
         {
          "z": 3.9211542771069787
         },
         {
          "z": 0.00024333920138245528
         },
         {
          "z": 2.869463948670904
         },
         {
          "z": 6.9011532714301085
         },
         {
          "z": 1.0063862385529618
         },
         {
          "z": 3.4765290732893206
         },
         {
          "z": 0.22522534587036364
         },
         {
          "z": 1.8924032296323647
         },
         {
          "z": 0.004670844634507478
         },
         {
          "z": 0.03538613447713087
         },
         {
          "z": 1.2499868330863604
         },
         {
          "z": 5.60516415646921
         },
         {
          "z": 3.3748155463111034
         },
         {
          "z": 0.16892721682248762
         },
         {
          "z": 5.017746922417304
         },
         {
          "z": 2.4472331046269242
         },
         {
          "z": 5.899498063158043
         },
         {
          "z": 7.847430769716638
         },
         {
          "z": 0.16989691200421492
         },
         {
          "z": 9.468970242944053
         },
         {
          "z": 0.0029692946865841497
         },
         {
          "z": 7.142823614548478
         },
         {
          "z": 9.921732136556894
         },
         {
          "z": 1.981986178877204
         },
         {
          "z": 2.4322050952433507
         },
         {
          "z": 9.43019991287317
         },
         {
          "z": 0.6183258850379805
         },
         {
          "z": 9.969926949925958
         },
         {
          "z": 0.40348674573539495
         },
         {
          "z": 9.083871287567952
         },
         {
          "z": 0.32838295777081694
         },
         {
          "z": 0.6946388599159341
         },
         {
          "z": 0.0154546484945473
         },
         {
          "z": 1.207151882498078
         },
         {
          "z": 9.233213839457918
         },
         {
          "z": 2.110840605174173
         },
         {
          "z": 1.843085799776899
         },
         {
          "z": 2.109934465460074
         },
         {
          "z": 1.6958696239724904
         },
         {
          "z": 3.719593184920313
         },
         {
          "z": 5.139254361874821
         },
         {
          "z": 0.726281538950808
         },
         {
          "z": 0.12559354430576986
         },
         {
          "z": 6.710748753589172
         },
         {
          "z": 0.13991139108127845
         },
         {
          "z": 0.017645933384796163
         },
         {
          "z": 0.0417721664550138
         },
         {
          "z": 0.004840988373553528
         },
         {
          "z": 0.005923368584227309
         },
         {
          "z": 0.3912740951920147
         },
         {
          "z": 6.754769750731856
         },
         {
          "z": 4.142960898077271
         },
         {
          "z": 0.9486944236261563
         },
         {
          "z": 4.578561136205494
         },
         {
          "z": 1.2088298391201397
         },
         {
          "z": 9.033075168233161
         },
         {
          "z": 2.747458868928281
         },
         {
          "z": 7.449737264615108
         },
         {
          "z": 2.4686300640751844
         },
         {
          "z": 2.763877057383483
         },
         {
          "z": 5.148232446928915
         },
         {
          "z": 9.175572639463528
         },
         {
          "z": 7.155669914768045e-05
         },
         {
          "z": 1.6437975903561841
         },
         {
          "z": 2.1305295015875254
         },
         {
          "z": 7.841639946459585
         },
         {
          "z": 3.95284649898902
         },
         {
          "z": 0.006052537196034164
         },
         {
          "z": 2.3096715058881916
         },
         {
          "z": 2.5897030719046543
         },
         {
          "z": 3.413537090370831
         },
         {
          "z": 5.798905117635265
         },
         {
          "z": 6.112422177119669
         },
         {
          "z": 0.7032740725444704
         },
         {
          "z": 0.059282995540188184
         },
         {
          "z": 1.0239093364033929
         },
         {
          "z": 9.558502391343117
         },
         {
          "z": 0.5486804890286469
         },
         {
          "z": 7.864497203474176
         },
         {
          "z": 5.91367745451905
         },
         {
          "z": 9.406223791625818
         },
         {
          "z": 0.23523158592015664
         },
         {
          "z": 5.991335867002695
         },
         {
          "z": 2.74982579693496
         },
         {
          "z": 0.02400253289716739
         },
         {
          "z": 2.5269067109619336
         },
         {
          "z": 8.668499432037546
         },
         {
          "z": 0.538164174464597
         },
         {
          "z": 3.704984502495053
         },
         {
          "z": 0.004987834376743267
         },
         {
          "z": 0.6987582093328838
         },
         {
          "z": 0.2968958979645487
         },
         {
          "z": 9.141136331647441
         },
         {
          "z": 5.99541386634303
         },
         {
          "z": 1.8250736059464858
         },
         {
          "z": 1.4994326349773726
         },
         {
          "z": 0.9368116601698419
         },
         {
          "z": 8.302854577635264
         },
         {
          "z": 2.562564838584761
         },
         {
          "z": 9.782870034168747
         },
         {
          "z": 0.013187617164053384
         },
         {
          "z": 0.36624085471214346
         },
         {
          "z": 4.050224427894273
         },
         {
          "z": 2.3914944875832864
         },
         {
          "z": 0.4606444097307644
         },
         {
          "z": 8.938326209801831
         },
         {
          "z": 8.243460415409295
         },
         {
          "z": 4.249172625650416
         },
         {
          "z": 5.115003885859756
         },
         {
          "z": 2.940045321495464
         },
         {
          "z": 0.9903840833314298
         },
         {
          "z": 1.5804748192199136
         },
         {
          "z": 3.158813394102087
         },
         {
          "z": 1.8249744285008465
         },
         {
          "z": 1.2520996568713372
         },
         {
          "z": 0.6905078495915036
         },
         {
          "z": 1.3927138008931879
         },
         {
          "z": 1.1581892386538426
         },
         {
          "z": 5.126725823404291
         },
         {
          "z": 8.867479360723927
         },
         {
          "z": 0.04154828972030433
         },
         {
          "z": 0.09836787937439745
         },
         {
          "z": 8.35465748255676
         },
         {
          "z": 1.870895727165551
         },
         {
          "z": 9.298050138519256
         },
         {
          "z": 8.475323094522913
         },
         {
          "z": 5.818547007123858
         },
         {
          "z": 3.2189595817051826
         },
         {
          "z": 5.121027490231728
         },
         {
          "z": 0.0014495382350138675
         },
         {
          "z": 0.057026548482561834
         },
         {
          "z": 4.380993901235756
         },
         {
          "z": 4.670338832494359
         },
         {
          "z": 3.3273261528929026
         },
         {
          "z": 3.1141897340162936
         },
         {
          "z": 8.092862028193966
         },
         {
          "z": 9.153364489913328
         },
         {
          "z": 2.097627919066076
         },
         {
          "z": 3.9631590533786625
         },
         {
          "z": 0.36855401182332825
         },
         {
          "z": 0.4786713282850116
         },
         {
          "z": 2.7282538859378707
         },
         {
          "z": 4.735743670635387
         },
         {
          "z": 1.061610354746751
         },
         {
          "z": 0.022896589583511935
         },
         {
          "z": 5.754802367857867
         },
         {
          "z": 1.5205804351760313
         },
         {
          "z": 1.7081151114234685
         },
         {
          "z": 0.01169844774262421
         },
         {
          "z": 9.944586798327716
         },
         {
          "z": 1.550912833354886
         },
         {
          "z": 6.869867467635519
         },
         {
          "z": 1.9951312161118249
         },
         {
          "z": 8.980396437962316
         },
         {
          "z": 0.22472877696231608
         },
         {
          "z": 7.468909679016803
         },
         {
          "z": 8.32842272541005
         },
         {
          "z": 0.7015687790206675
         },
         {
          "z": 3.3651113610028274
         },
         {
          "z": 0.3984849866005238
         },
         {
          "z": 0.01827470155935862
         },
         {
          "z": 6.960270892731168
         },
         {
          "z": 3.960964210328246
         },
         {
          "z": 1.7801897620844045
         },
         {
          "z": 0.4413210500370871
         },
         {
          "z": 4.279982052449521
         },
         {
          "z": 1.0477691645301066
         },
         {
          "z": 0.2074932364524238
         },
         {
          "z": 2.1941616247845683
         },
         {
          "z": 2.7028232833620134
         },
         {
          "z": 4.183013503496105
         },
         {
          "z": 2.1667957070078367
         },
         {
          "z": 2.6875626632984275
         },
         {
          "z": 6.08218437071399
         },
         {
          "z": 1.540773934523074
         },
         {
          "z": 0.48983414959870514
         },
         {
          "z": 6.447006550382131
         },
         {
          "z": 1.5159477131618784
         },
         {
          "z": 0.7186784934470973
         },
         {
          "z": 1.9994859005468903
         },
         {
          "z": 5.277615997678705
         },
         {
          "z": 0.12791906764985841
         },
         {
          "z": 0.9989301946418574
         },
         {
          "z": 0.9437612490142089
         },
         {
          "z": 1.579379141813744
         },
         {
          "z": 0.1303524934477078
         },
         {
          "z": 0.04433779119436414
         },
         {
          "z": 0.829310738020569
         },
         {
          "z": 8.173070864259188
         },
         {
          "z": 3.7745929291498554
         },
         {
          "z": 0.08891190033701078
         },
         {
          "z": 0.08526721817058087
         },
         {
          "z": 1.1723818982241099
         },
         {
          "z": 9.09643617592054
         },
         {
          "z": 2.8317821877575895
         },
         {
          "z": 0.1506731548138201
         },
         {
          "z": 2.6420696615114654
         },
         {
          "z": 0.3202379027577047
         },
         {
          "z": 1.5939319472164497
         },
         {
          "z": 9.777120115839548
         },
         {
          "z": 0.019146673763701813
         },
         {
          "z": 3.5150882340680596
         },
         {
          "z": 0.9373312503781962
         },
         {
          "z": 0.6093188292516815
         },
         {
          "z": 4.4288568730087015
         },
         {
          "z": 0.16264924813144443
         },
         {
          "z": 2.5659655775262714e-06
         },
         {
          "z": 4.574355168493874
         },
         {
          "z": 0.646178886578731
         },
         {
          "z": 7.914136743692365
         },
         {
          "z": 2.0760701864154143
         },
         {
          "z": 1.000434462471829
         },
         {
          "z": 1.967181203253212
         },
         {
          "z": 9.534316658051159
         },
         {
          "z": 8.259467156830251
         },
         {
          "z": 0.1525931072880599
         },
         {
          "z": 1.3649740672181987
         },
         {
          "z": 0.2791944779666377
         },
         {
          "z": 2.580806761421485
         },
         {
          "z": 3.498494035297734
         },
         {
          "z": 0.6058130086150957
         },
         {
          "z": 8.711872093060878
         },
         {
          "z": 7.4965701949140655
         },
         {
          "z": 4.800422042008954
         },
         {
          "z": 5.512350511341988
         },
         {
          "z": 1.4897807807399608
         },
         {
          "z": 1.7373732993897746
         },
         {
          "z": 1.7931481157089844
         },
         {
          "z": 0.620890307799359
         },
         {
          "z": 0.6072527869000335
         },
         {
          "z": 0.027108996388457027
         },
         {
          "z": 1.6313249286380103
         },
         {
          "z": 1.9282451468310755
         },
         {
          "z": 9.675135512367232
         },
         {
          "z": 0.06410475203472775
         },
         {
          "z": 7.8340577733620265
         },
         {
          "z": 0.15203086337020658
         },
         {
          "z": 4.031502511041184
         },
         {
          "z": 9.956851895485155
         },
         {
          "z": 0.04786713619011737
         },
         {
          "z": 1.7113475130511828
         },
         {
          "z": 0.5572384361279297
         },
         {
          "z": 3.83560834932894
         },
         {
          "z": 0.03296024414324612
         },
         {
          "z": 0.33895099939756257
         },
         {
          "z": 2.2607113799606466
         },
         {
          "z": 0.3786275863297207
         },
         {
          "z": 3.7409542799747135
         },
         {
          "z": 9.02469999219432
         },
         {
          "z": 4.5112669357646675
         },
         {
          "z": 1.9406350459048638
         },
         {
          "z": 6.334505812214026
         },
         {
          "z": 6.62530826380925
         },
         {
          "z": 0.20060467801319676
         },
         {
          "z": 0.010311974487012213
         },
         {
          "z": 9.871376930966749
         },
         {
          "z": 1.8644655669890355
         },
         {
          "z": 4.111736338314101
         },
         {
          "z": 2.0797863307615527
         },
         {
          "z": 5.978360658025981
         },
         {
          "z": 6.891240816164531
         },
         {
          "z": 0.9679430348757535
         },
         {
          "z": 0.5644890777451326
         },
         {
          "z": 0.03999803674458546
         },
         {
          "z": 0.04304347741651471
         },
         {
          "z": 3.017478738776516
         },
         {
          "z": 6.376991795744036
         },
         {
          "z": 2.568953575421168
         },
         {
          "z": 0.2930568593695814
         },
         {
          "z": 4.816523329173118
         },
         {
          "z": 3.0672066890780316
         },
         {
          "z": 0.5274281457097445
         },
         {
          "z": 0.4835142146925753
         },
         {
          "z": 6.157620888434553
         },
         {
          "z": 1.0211765988086443
         },
         {
          "z": 4.649347344201302
         },
         {
          "z": 6.646485533982349
         },
         {
          "z": 0.8702359345045596
         },
         {
          "z": 0.037190642442978955
         },
         {
          "z": 0.19290613340404228
         },
         {
          "z": 2.9795900333402914
         },
         {
          "z": 2.7897878637337827
         },
         {
          "z": 6.917001482030808
         },
         {
          "z": 0.11026883517543162
         },
         {
          "z": 8.587588574119716
         },
         {
          "z": 6.6348951497978215
         },
         {
          "z": 0.6458148588408865
         },
         {
          "z": 7.718863850393425
         },
         {
          "z": 0.00860604423786161
         },
         {
          "z": 5.6226962645722836
         },
         {
          "z": 0.6021670587847173
         },
         {
          "z": 2.8206273775099806
         },
         {
          "z": 1.3358162004992746
         },
         {
          "z": 7.050097352884642
         },
         {
          "z": 0.38568652991722974
         },
         {
          "z": 8.370558077190735
         },
         {
          "z": 0.378579504222344
         },
         {
          "z": 3.5000712653942583
         },
         {
          "z": 8.343066220286481
         },
         {
          "z": 8.269608135503256
         },
         {
          "z": 2.9337268752369616
         },
         {
          "z": 4.440718602000652
         },
         {
          "z": 4.9770967407253215
         },
         {
          "z": 3.85002446305509
         },
         {
          "z": 5.639256029124961
         },
         {
          "z": 5.4646289600361255
         },
         {
          "z": 6.4457153614219385
         },
         {
          "z": 5.478801475651956
         },
         {
          "z": 5.002613315253712
         },
         {
          "z": 6.986124107137036
         },
         {
          "z": 1.9001378532989335
         },
         {
          "z": 0.9670260235805749
         },
         {
          "z": 8.629907132739298
         },
         {
          "z": 1.4607903604849324
         },
         {
          "z": 0.43630112350527117
         },
         {
          "z": 8.00841138050968
         },
         {
          "z": 0.24145007026781687
         },
         {
          "z": 1.5407781643336502
         },
         {
          "z": 4.480466492229498
         },
         {
          "z": 9.672405009435291
         },
         {
          "z": 2.26094515144651
         },
         {
          "z": 5.353779073393881
         },
         {
          "z": 0.6819981538326438
         },
         {
          "z": 0.05018937949369387
         },
         {
          "z": 0.9107233997949539
         },
         {
          "z": 3.1675006110585158
         },
         {
          "z": 1.5800777256734408
         },
         {
          "z": 3.94769642712418
         },
         {
          "z": 3.7343184321414213
         },
         {
          "z": 6.192377039481388
         },
         {
          "z": 2.5353719361178135
         },
         {
          "z": 8.961768263601291
         },
         {
          "z": 0.8279136062885086
         },
         {
          "z": 9.954915615682028
         },
         {
          "z": 4.544102829244158
         },
         {
          "z": 0.22676473989080456
         },
         {
          "z": 4.693166564128576
         },
         {
          "z": 0.24847901995223506
         },
         {
          "z": 2.995032660408114
         },
         {
          "z": 0.7354675107352724
         },
         {
          "z": 0.9287340482882523
         },
         {
          "z": 4.87306932302295
         },
         {
          "z": 0.09042665625116708
         },
         {
          "z": 1.5305272122340388
         },
         {
          "z": 0.13959904946126492
         },
         {
          "z": 1.7359112910521348
         },
         {
          "z": 4.355887773645106
         },
         {
          "z": 0.1968243753558333
         },
         {
          "z": 4.243645816352438
         },
         {
          "z": 5.116938977188648
         },
         {
          "z": 6.265257123792923
         },
         {
          "z": 1.9363140178190625
         },
         {
          "z": 1.0330546944321741
         },
         {
          "z": 6.413927826766316
         },
         {
          "z": 3.117682196331182
         },
         {
          "z": 2.415376017147707
         },
         {
          "z": 0.009750542677899904
         },
         {
          "z": 0.04905928163069867
         },
         {
          "z": 1.6123493542806244
         },
         {
          "z": 2.0162910360627007
         },
         {
          "z": 0.07351210898512117
         },
         {
          "z": 5.60558987753409
         },
         {
          "z": 0.20902209003584898
         },
         {
          "z": 7.944290798583344
         },
         {
          "z": 0.0686597454288081
         },
         {
          "z": 3.9628804563849647
         },
         {
          "z": 0.635624423860244
         },
         {
          "z": 0.01528662579301249
         },
         {
          "z": 3.6273176570881644
         },
         {
          "z": 9.239526074390248
         },
         {
          "z": 2.222939877353525
         },
         {
          "z": 4.631266545174835
         },
         {
          "z": 0.06725825317496974
         },
         {
          "z": 1.9944617310162658
         },
         {
          "z": 5.362992268342655
         },
         {
          "z": 0.007850191303852054
         },
         {
          "z": 5.81505651786134
         },
         {
          "z": 0.08292601923589521
         },
         {
          "z": 8.400311219198745
         },
         {
          "z": 5.438365119936794
         },
         {
          "z": 0.028070790105325025
         },
         {
          "z": 4.235783078946488
         },
         {
          "z": 4.07229996511207
         },
         {
          "z": 4.017313123943057
         },
         {
          "z": 4.82031846970363
         },
         {
          "z": 5.3209104378688945
         },
         {
          "z": 0.6510340023484171
         },
         {
          "z": 3.9171248079585275
         },
         {
          "z": 2.7149694377357485
         },
         {
          "z": 4.5684615046740165
         },
         {
          "z": 2.1015787948040563
         },
         {
          "z": 0.6561885474236385
         },
         {
          "z": 0.03739606588397837
         },
         {
          "z": 1.1412861819179752
         },
         {
          "z": 3.2775300039677866
         },
         {
          "z": 5.171096342345635
         },
         {
          "z": 7.955799513926477
         },
         {
          "z": 7.2735591211082875
         },
         {
          "z": 8.056837192920302
         },
         {
          "z": 0.036117121777943795
         },
         {
          "z": 1.5305097296255756
         },
         {
          "z": 0.015353419681487202
         },
         {
          "z": 1.821763412784709
         },
         {
          "z": 2.3257179635560874
         },
         {
          "z": 4.12995838294876
         },
         {
          "z": 4.16446548865927
         },
         {
          "z": 5.54944739792885
         },
         {
          "z": 0.006913586332914571
         },
         {
          "z": 0.025013003575809982
         },
         {
          "z": 4.26984809543841
         },
         {
          "z": 9.985343171863796
         },
         {
          "z": 0.08549632307422685
         },
         {
          "z": 0.5525947757833878
         },
         {
          "z": 0.049933606189859606
         },
         {
          "z": 3.965210117638889
         },
         {
          "z": 2.3564666819886497
         },
         {
          "z": 0.9965579439126032
         },
         {
          "z": 0.22703429018153842
         },
         {
          "z": 2.8758417255309583
         },
         {
          "z": 7.554427007975157
         },
         {
          "z": 0.12328298854021014
         },
         {
          "z": 0.42106617305270044
         },
         {
          "z": 8.47490068419118
         },
         {
          "z": 1.2058666426835059
         },
         {
          "z": 8.299113608637917
         },
         {
          "z": 3.53661071582319
         },
         {
          "z": 3.06488973862563
         },
         {
          "z": 7.056978057583585
         },
         {
          "z": 9.99935211829136
         },
         {
          "z": 0.06666235821964822
         },
         {
          "z": 2.2559787949399612
         },
         {
          "z": 0.06117790182839925
         },
         {
          "z": 0.9791965853557842
         },
         {
          "z": 6.002862968913707
         },
         {
          "z": 1.9040985866150364
         },
         {
          "z": 1.315566569980819
         },
         {
          "z": 8.3645402059168
         },
         {
          "z": 8.700134655731388
         },
         {
          "z": 0.4391559415547702
         },
         {
          "z": 1.5031274375324664
         },
         {
          "z": 4.131683179031368
         },
         {
          "z": 2.0268170122882716
         },
         {
          "z": 2.6446535914771307
         },
         {
          "z": 1.3075339286942778
         },
         {
          "z": 5.825081894597261
         },
         {
          "z": 6.441934294276321
         },
         {
          "z": 7.074606022534259
         },
         {
          "z": 0.024076512607482774
         },
         {
          "z": 2.3378899925004566
         },
         {
          "z": 2.3280468736296274
         },
         {
          "z": 1.6354851625969002
         },
         {
          "z": 6.04264844838794
         },
         {
          "z": 3.850794100245519
         },
         {
          "z": 8.356369308281465
         },
         {
          "z": 0.0816227564792564
         },
         {
          "z": 1.6200431768691435
         },
         {
          "z": 0.1474874521713496
         },
         {
          "z": 6.497052132497484
         },
         {
          "z": 6.1877101631453035
         },
         {
          "z": 2.4344137182264185
         },
         {
          "z": 1.9238444583143812
         },
         {
          "z": 0.39468710357824366
         },
         {
          "z": 0.8450266807782616
         },
         {
          "z": 1.2653118906302827
         },
         {
          "z": 9.09999282000242
         },
         {
          "z": 5.731594951318527
         },
         {
          "z": 7.246829329762086
         },
         {
          "z": 1.7648122804139295
         },
         {
          "z": 6.177837467954053
         },
         {
          "z": 8.01683035929512
         },
         {
          "z": 0.20460585505745477
         },
         {
          "z": 2.797482084659397
         },
         {
          "z": 0.15523808918185406
         },
         {
          "z": 0.45277387100317834
         },
         {
          "z": 1.0476776193991713
         },
         {
          "z": 1.7938916745487667
         },
         {
          "z": 4.652226297919761
         },
         {
          "z": 5.348786122770574
         },
         {
          "z": 0.6973428371429348
         },
         {
          "z": 0.0016767163469406368
         },
         {
          "z": 0.10535539142040208
         },
         {
          "z": 1.5958033867271366
         },
         {
          "z": 0.9287259067632654
         },
         {
          "z": 0.6322076445865975
         },
         {
          "z": 1.2699909155017268
         },
         {
          "z": 2.295286413360061
         },
         {
          "z": 0.000613860087780007
         }
        ]
       },
       "encoding": {
        "x": {
         "bin": {
          "maxbins": 100
         },
         "field": "z",
         "type": "quantitative"
        },
        "y": {
         "aggregate": "count",
         "type": "quantitative"
        }
       },
       "height": 100,
       "mark": "bar",
       "width": 400
      },
      "image/png": "[encoded data removed]",
      "text/plain": [
       "<VegaLite 3 object>\n",
       "\n",
       "If you see this message, it means the renderer has not been properly enabled\n",
       "for the frontend that you are using. For more information, see\n",
       "https://altair-viz.github.io/user_guide/troubleshooting.html\n"
      ]
     },
     "execution_count": 164,
     "metadata": {},
     "output_type": "execute_result"
    }
   ],
   "source": [
    "z = [realize(Z) for i in range(1000)] # 1000 draws from Z\n",
    "\n",
    "plot_df = pd.DataFrame({'z':z})\n",
    "alt.Chart(plot_df, height=100, width=400).mark_bar().encode(\n",
    "    alt.X('z', bin=alt.Bin(maxbins=100)),\n",
    "    y='count()'\n",
    ")"
   ]
  },
  {
   "cell_type": "markdown",
   "metadata": {},
   "source": [
    "That looks suspicously like our bucketed density plot:"
   ]
  },
  {
   "cell_type": "code",
   "execution_count": 165,
   "metadata": {},
   "outputs": [
    {
     "data": {
      "application/vnd.vegalite.v3+json": {
       "$schema": "https://vega.github.io/schema/vega-lite/v3.4.0.json",
       "config": {
        "mark": {
         "tooltip": null
        },
        "view": {
         "height": 300,
         "width": 400
        }
       },
       "data": {
        "name": "data-87b4328471ec72ce0c0a7b12465363e4"
       },
       "datasets": {
        "data-87b4328471ec72ce0c0a7b12465363e4": [
         {
          "p": 0.1,
          "z": "[0.0,0.1)"
         },
         {
          "p": 0.0414213562373095,
          "z": "[0.1,0.2)"
         },
         {
          "p": 0.031783724519578255,
          "z": "[0.2,0.30000000000000004)"
         },
         {
          "p": 0.026794919243112253,
          "z": "[0.30000000000000004,0.4)"
         },
         {
          "p": 0.023606797749978953,
          "z": "[0.4,0.5)"
         },
         {
          "p": 0.021342176528338835,
          "z": "[0.5,0.6)"
         },
         {
          "p": 0.019626156828141256,
          "z": "[0.6000000000000001,0.7000000000000001)"
         },
         {
          "p": 0.018267581368159924,
          "z": "[0.7000000000000001,0.8)"
         },
         {
          "p": 0.017157287525380982,
          "z": "[0.8,0.9)"
         },
         {
          "p": 0.016227766016837952,
          "z": "[0.9,1.0)"
         },
         {
          "p": 0.015434713018702084,
          "z": "[1.0,1.1)"
         },
         {
          "p": 0.014747682478235491,
          "z": "[1.1,1.2000000000000002)"
         },
         {
          "p": 0.01414496603262344,
          "z": "[1.2000000000000002,1.3000000000000003)"
         },
         {
          "p": 0.01361061113099521,
          "z": "[1.3,1.4000000000000001)"
         },
         {
          "p": 0.013132595943347536,
          "z": "[1.4000000000000001,1.5000000000000002)"
         },
         {
          "p": 0.01270166537925832,
          "z": "[1.5,1.6)"
         },
         {
          "p": 0.012310562561766047,
          "z": "[1.6,1.7000000000000002)"
         },
         {
          "p": 0.011953506150162496,
          "z": "[1.7000000000000002,1.8000000000000003)"
         },
         {
          "p": 0.01162582564213882,
          "z": "[1.8,1.9000000000000001)"
         },
         {
          "p": 0.011323701145890597,
          "z": "[1.9000000000000001,2.0)"
         },
         {
          "p": 0.011043973995626122,
          "z": "[2.0,2.1)"
         },
         {
          "p": 0.010784006486758924,
          "z": "[2.1,2.2)"
         },
         {
          "p": 0.010541576348928994,
          "z": "[2.2,2.3000000000000003)"
         },
         {
          "p": 0.010314796225363687,
          "z": "[2.3000000000000003,2.4000000000000004)"
         },
         {
          "p": 0.010102051443364346,
          "z": "[2.4000000000000004,2.5000000000000004)"
         },
         {
          "p": 0.009901951359278516,
          "z": "[2.5,2.6)"
         },
         {
          "p": 0.009713290911384731,
          "z": "[2.6,2.7)"
         },
         {
          "p": 0.009535019942254919,
          "z": "[2.7,2.8000000000000003)"
         },
         {
          "p": 0.00936621850053232,
          "z": "[2.8000000000000003,2.9000000000000004)"
         },
         {
          "p": 0.0092060767917157,
          "z": "[2.9000000000000004,3.0000000000000004)"
         },
         {
          "p": 0.009053878777836144,
          "z": "[3.0,3.1)"
         },
         {
          "p": 0.008908988666235795,
          "z": "[3.1,3.2)"
         },
         {
          "p": 0.008770839704564826,
          "z": "[3.2,3.3000000000000003)"
         },
         {
          "p": 0.008638924830727257,
          "z": "[3.3000000000000003,3.4000000000000004)"
         },
         {
          "p": 0.008512788825431494,
          "z": "[3.4000000000000004,3.5000000000000004)"
         },
         {
          "p": 0.008392021690038387,
          "z": "[3.5,3.6)"
         },
         {
          "p": 0.008276253029821934,
          "z": "[3.6,3.7)"
         },
         {
          "p": 0.008165147267075734,
          "z": "[3.7,3.8000000000000003)"
         },
         {
          "p": 0.008058399542942185,
          "z": "[3.8000000000000003,3.9000000000000004)"
         },
         {
          "p": 0.007955732193836051,
          "z": "[3.9000000000000004,4.0)"
         },
         {
          "p": 0.007856891709609015,
          "z": "[4.0,4.1)"
         },
         {
          "p": 0.007761646097501185,
          "z": "[4.1000000000000005,4.2)"
         },
         {
          "p": 0.007669782589413976,
          "z": "[4.2,4.3)"
         },
         {
          "p": 0.007581105640879882,
          "z": "[4.3,4.3999999999999995)"
         },
         {
          "p": 0.0074954351788568685,
          "z": "[4.4,4.5)"
         },
         {
          "p": 0.007412605062589894,
          "z": "[4.5,4.6)"
         },
         {
          "p": 0.007332461727577511,
          "z": "[4.6000000000000005,4.7)"
         },
         {
          "p": 0.0072548629874464865,
          "z": "[4.7,4.8)"
         },
         {
          "p": 0.007179676972449034,
          "z": "[4.800000000000001,4.9)"
         },
         {
          "p": 0.007106781186547506,
          "z": "[4.9,5.0)"
         },
         {
          "p": 0.007036061667737403,
          "z": "[5.0,5.1)"
         },
         {
          "p": 0.006967412238512938,
          "z": "[5.1000000000000005,5.2)"
         },
         {
          "p": 0.006900733835253914,
          "z": "[5.2,5.3)"
         },
         {
          "p": 0.006835933906901626,
          "z": "[5.300000000000001,5.4)"
         },
         {
          "p": 0.006772925874612867,
          "z": "[5.4,5.5)"
         },
         {
          "p": 0.006711628645221901,
          "z": "[5.5,5.6)"
         },
         {
          "p": 0.006651966172286694,
          "z": "[5.6000000000000005,5.7)"
         },
         {
          "p": 0.00659386705931575,
          "z": "[5.7,5.8)"
         },
         {
          "p": 0.006537264200469961,
          "z": "[5.800000000000001,5.9)"
         },
         {
          "p": 0.006482094454622556,
          "z": "[5.9,6.0)"
         },
         {
          "p": 0.006428298349182016,
          "z": "[6.0,6.1)"
         },
         {
          "p": 0.006375819810515604,
          "z": "[6.1000000000000005,6.2)"
         },
         {
          "p": 0.006324605918196058,
          "z": "[6.2,6.3)"
         },
         {
          "p": 0.006274606680622741,
          "z": "[6.300000000000001,6.4)"
         },
         {
          "p": 0.00622577482985498,
          "z": "[6.4,6.5)"
         },
         {
          "p": 0.0061780656337410145,
          "z": "[6.5,6.6)"
         },
         {
          "p": 0.00613143672364902,
          "z": "[6.6000000000000005,6.7)"
         },
         {
          "p": 0.00608584793628697,
          "z": "[6.7,6.8)"
         },
         {
          "p": 0.006041261168275414,
          "z": "[6.800000000000001,6.9)"
         },
         {
          "p": 0.00599764024226801,
          "z": "[6.9,7.0)"
         },
         {
          "p": 0.005954950783560231,
          "z": "[7.0,7.1)"
         },
         {
          "p": 0.005913160106221116,
          "z": "[7.1000000000000005,7.2)"
         },
         {
          "p": 0.005872237107896083,
          "z": "[7.2,7.3)"
         },
         {
          "p": 0.0058321521725094305,
          "z": "[7.300000000000001,7.4)"
         },
         {
          "p": 0.005792877080175951,
          "z": "[7.4,7.5)"
         },
         {
          "p": 0.005754384923696065,
          "z": "[7.5,7.6)"
         },
         {
          "p": 0.005716650031077575,
          "z": "[7.6000000000000005,7.7)"
         },
         {
          "p": 0.005679647893572448,
          "z": "[7.7,7.8)"
         },
         {
          "p": 0.005643355098774228,
          "z": "[7.800000000000001,7.9)"
         },
         {
          "p": 0.005607749268356943,
          "z": "[7.9,8.0)"
         },
         {
          "p": 0.005572809000084167,
          "z": "[8.0,8.1)"
         },
         {
          "p": 0.005538513813741597,
          "z": "[8.1,8.2)"
         },
         {
          "p": 0.005504844100688189,
          "z": "[8.200000000000001,8.3)"
         },
         {
          "p": 0.00547178107673818,
          "z": "[8.3,8.4)"
         },
         {
          "p": 0.005439306738120653,
          "z": "[8.4,8.5)"
         },
         {
          "p": 0.005407403820281598,
          "z": "[8.5,8.6)"
         },
         {
          "p": 0.005376055759311105,
          "z": "[8.6,8.7)"
         },
         {
          "p": 0.005345246655804381,
          "z": "[8.700000000000001,8.8)"
         },
         {
          "p": 0.005314961240974414,
          "z": "[8.8,8.9)"
         },
         {
          "p": 0.005285184844853408,
          "z": "[8.9,9.0)"
         },
         {
          "p": 0.005255903366431891,
          "z": "[9.0,9.1)"
         },
         {
          "p": 0.005227103245598164,
          "z": "[9.1,9.2)"
         },
         {
          "p": 0.005198771436751626,
          "z": "[9.200000000000001,9.3)"
         },
         {
          "p": 0.005170895383970309,
          "z": "[9.3,9.4)"
         },
         {
          "p": 0.005143462997630466,
          "z": "[9.4,9.5)"
         },
         {
          "p": 0.005116462632374863,
          "z": "[9.5,9.6)"
         },
         {
          "p": 0.005089883066339174,
          "z": "[9.600000000000001,9.700000000000001)"
         },
         {
          "p": 0.005063713481556098,
          "z": "[9.700000000000001,9.8)"
         },
         {
          "p": 0.005037943445453386,
          "z": "[9.8,9.9)"
         },
         {
          "p": 0.005012562893380035,
          "z": "[9.9,10.0)"
         }
        ]
       },
       "encoding": {
        "x": {
         "axis": null,
         "field": "z",
         "type": "ordinal"
        },
        "y": {
         "field": "p",
         "type": "quantitative"
        }
       },
       "height": 100,
       "mark": "bar",
       "width": 400
      },
      "image/png": "[encoded data removed]",
      "text/plain": [
       "<VegaLite 3 object>\n",
       "\n",
       "If you see this message, it means the renderer has not been properly enabled\n",
       "for the frontend that you are using. For more information, see\n",
       "https://altair-viz.github.io/user_guide/troubleshooting.html\n"
      ]
     },
     "execution_count": 165,
     "metadata": {},
     "output_type": "execute_result"
    }
   ],
   "source": [
    "zs = np.arange(0,10,0.1)\n",
    "ps = [Pz(z,z+0.1) for z in zs]\n",
    "zs_labels = [f'[{z},{z+0.1})' for z in zs]\n",
    "\n",
    "distribution = pd.DataFrame({'z':zs_labels, 'p':ps})\n",
    "alt.Chart(distribution, height=100, width=400).mark_bar().encode(alt.X('z:O',axis=None), y='p')"
   ]
  },
  {
   "cell_type": "markdown",
   "metadata": {},
   "source": [
    "So what's the difference? Think about what it is we're \"stacking up\" in the bars. In the histogram, we're sorting and stacking up a *finite number* $n$ of *observed values* $z_i$ according to what they are. In the density plot, we're sorting and stacking up *all* of the *outcomes* $\\omega$ in the silo according to the values they are destined to become, and we're measuring their relative volume, not absolute counts.\n",
    "\n",
    "In a nutshell, the histogram is what we can actually observe, given outputs from the factory. But the density descibes the inner workings of the factory itself, which we can never actually observe."
   ]
  },
  {
   "cell_type": "markdown",
   "metadata": {},
   "source": [
    "<div class=\"alert alert-block alert-info\">\n",
    "<b>Exercise:</b> \n",
    "\n",
    "What do you expect to happen to the histogram above as the number of observations is increased from $1000$ to larger and larger numbers? Can you provide an intuitive explanation for why this happens?\n",
    "    \n",
    "</div>"
   ]
  },
  {
   "cell_type": "markdown",
   "metadata": {},
   "source": [
    "### Some types of random variables"
   ]
  },
  {
   "cell_type": "markdown",
   "metadata": {},
   "source": [
    "We've seen that, for all practical purposes, a random variable is determined by its probability distribution (mass or density function). In reality, the distribution of any particular measurement (e.g. blood pressure) is unknown- it depends on a complex web of causal factors. The true density function is almost certainly so complex it's not even something that we could write down. But, for the purposes of *modeling* that measurement, we can pretend that the density is something we *can* write down. \n",
    "\n",
    "Over the centuries, people have come up with a lot of distributions that are useful as models across various scenarios. Here are a few of them:"
   ]
  },
  {
   "cell_type": "markdown",
   "metadata": {},
   "source": [
    "### Bernoulli distribution"
   ]
  },
  {
   "cell_type": "markdown",
   "metadata": {},
   "source": [
    "Let's say we're interested in modeling the result of a coin flip. The actual value (heads/tails, which we code as 0/1) of the coin flip is determined by some insanely complicated physics, but we're going to pretend that the value comes out of a little factory called $\\mathbf Z$ that has the following probability mass function:\n",
    "\n",
    "\n",
    "$$\n",
    "P(\\mathbf Z=z) =\n",
    "\\begin{cases}\n",
    "1/2 & \\text{for }z=0 \\\\\n",
    "1/2 & \\text{for }z=1\n",
    "\\end{cases}\n",
    "$$"
   ]
  },
  {
   "cell_type": "markdown",
   "metadata": {},
   "source": [
    "If we want to model a biased coin that comes up heads $(p\\times100)$% of the time, we can use a mass function like:"
   ]
  },
  {
   "cell_type": "markdown",
   "metadata": {},
   "source": [
    "$$\n",
    "P(\\mathbf Z=z) =\n",
    "\\begin{cases}\n",
    "p & \\text{for }z=0 \\\\\n",
    "1-p & \\text{for }z=1\n",
    "\\end{cases}\n",
    "$$"
   ]
  },
  {
   "cell_type": "markdown",
   "metadata": {},
   "source": [
    "This is often written as $\\mathbf Z \\sim \\text{Bernoulli}(p)$ (read: \"$\\mathbf Z$ is Bernoulli-distributed\"). The number $p$ is said to be a *parameter* of the Bernoulli distribution. It would be more accurate to say that a random variable is distributed as a *member* of the Bernoulli *family* of distributions, since, technically, every different value of $p$ encodes a different distribution, or factory, for making data.\n",
    "\n",
    "Another way to think about it is that there's one data factory, but it has a control panel with a knob labeled \"$p$\". If $p$ is set to 0.7, we expect about 70% of the outputs to be 1. If $p$ is set to $0.1$, 10%, and so on. It's a matter of semantics whether or not you want to say that factory is representing two different factories, or merely one factory under two different operating conditions. Both perspectives are useful."
   ]
  },
  {
   "cell_type": "markdown",
   "metadata": {},
   "source": [
    "### Normal Distribution\n",
    "\n",
    "Let's say we want to model the heights of everyone on Earth. We have an intuition that people are typically a bit shorter than two meters, and taller and shorter people are more and more rare the taller and shorter they get. We can pretend that height measurements come from a *normal* distribution (also called *Gaussian* distribution):"
   ]
  },
  {
   "cell_type": "markdown",
   "metadata": {},
   "source": [
    "$$\n",
    "\\phi(z) = \n",
    "\\frac{1}{\\sqrt{2\\pi\\sigma}} \n",
    "e^{-\\frac{(x-\\mu)^2}{2\\sigma^2}}\n",
    "$$"
   ]
  },
  {
   "cell_type": "markdown",
   "metadata": {},
   "source": [
    "Most often you'll see this written as $\\mathbf Z \\sim \\mathcal N(\\mu, \\sigma)$ (read: \"$\\mathbf Z$ is normally distributed\"). The numbers $\\mu$ and $\\sigma$ are the parameters (control knobs) of the normal distribution. \n",
    "\n",
    "![](https://upload.wikimedia.org/wikipedia/commons/7/74/Normal_Distribution_PDF.svg)"
   ]
  },
  {
   "cell_type": "markdown",
   "metadata": {},
   "source": [
    "As you can see in the picture, $\\mu$ controls where the \"bell curve\" is centered and $\\sigma$ controls how wide or narrow it is."
   ]
  },
  {
   "cell_type": "markdown",
   "metadata": {},
   "source": [
    "### Others "
   ]
  },
  {
   "cell_type": "markdown",
   "metadata": {},
   "source": [
    "There are [hundreds](https://upload.wikimedia.org/wikipedia/commons/7/74/Normal_Distribution_PDF.svg) of well-studied distributions available to choose from when modeling. The most important thing to know about a distribution is what values random variables that are so-distributed can produce. This is sometimes called the *support* of the distribution. For instance, varaibles that are normally-, Cauchy-, or Laplace-distributed can take values between $-\\infty$ and $\\infty$. The $\\chi^2$ distribution has support on $[0,\\infty)$. The beta and standard uniform distributions have support on $[0,1]$. The Poisson distribution has support on the counting numbers 0, 1, 2..., and the K-categorical distribution has support on a finite number of integers 0, 1, 2, ... K. \n",
    "\n",
    "It's also totally possible to invent your own distribution by defining your own support set $A$ and mass/density function $\\phi$, as long as $\\phi(a) >= 0$ for all $a \\in A$ and $\\int_A \\phi(a) da = 1$ (see exercise in previous section).\n",
    "\n",
    "The point of this diversity is that it is possible to model different kinds of data. Apartment rents are always positive numbers, but theoretically unbounded above (a scary thought), so perhaps $\\chi^2$ is a good choice. The number of cars that pass through an intersection in a given day is always an integer, so Poisson is a reasonable choice for that. You don't have to remember any of these specific distributions or examples- just know there are many preconstructed pretend data factories out there to play with. Also know that the real data factory is pretty much *never* actually one of these distributions, although, sometimes, it might be well-approximated by one."
   ]
  },
  {
   "cell_type": "markdown",
   "metadata": {},
   "source": [
    "## Multivariate random variables"
   ]
  },
  {
   "cell_type": "markdown",
   "metadata": {},
   "source": [
    "- \"joint\" vs mulitvariate RVs"
   ]
  },
  {
   "cell_type": "markdown",
   "metadata": {},
   "source": [
    "- conditional probability, conditional density"
   ]
  },
  {
   "cell_type": "markdown",
   "metadata": {},
   "source": [
    "- "
   ]
  }
 ],
 "metadata": {
  "kernelspec": {
   "display_name": "Python 3",
   "language": "python",
   "name": "python3"
  },
  "language_info": {
   "codemirror_mode": {
    "name": "ipython",
    "version": 3
   },
   "file_extension": ".py",
   "mimetype": "text/x-python",
   "name": "python",
   "nbconvert_exporter": "python",
   "pygments_lexer": "ipython3",
   "version": "3.7.3"
  }
 },
 "nbformat": 4,
 "nbformat_minor": 4
}
