{
 "cells": [
  {
   "cell_type": "code",
   "execution_count": 72,
   "metadata": {},
   "outputs": [],
   "source": [
    "import random\n",
    "import numpy as np\n",
    "import altair as alt \n",
    "import pandas as pd\n",
    "from itertools import product"
   ]
  },
  {
   "cell_type": "code",
   "execution_count": 138,
   "metadata": {},
   "outputs": [],
   "source": [
    "def density_2d(plot_data, δ, x_name='x', y_name='y', joint_name='ϕ'):\n",
    "    x, y, joint = [np.array(plot_data[v]) for v in (x_name, y_name, joint_name)]\n",
    "    xl, yl = [v-δ/2 for v in (x,y)]\n",
    "    xh, yh = [v+δ/2 for v in (x,y)]\n",
    "    plot_data = pd.DataFrame({'xl':xl,'xh':xh,'yl':yl,'yh':yh,'ϕ':joint})\n",
    "    plot = alt.Chart(plot_data, width=300, height=300).mark_rect().encode(\n",
    "        x=alt.X('xl', title=x_name),\n",
    "        y=alt.Y('yl', title=y_name),\n",
    "        x2=alt.X2('xh'),\n",
    "        y2=alt.Y2('yh'),\n",
    "        color=alt.Color('ϕ', title=joint_name)\n",
    "    )\n",
    "    return plot"
   ]
  },
  {
   "cell_type": "markdown",
   "metadata": {},
   "source": [
    "# Describing random variables"
   ]
  },
  {
   "cell_type": "markdown",
   "metadata": {},
   "source": [
    "No matter how we get to it, all the information we need about a random variable is contained within its mass or density function. But sometimes we don't need to know every detail. Sometimes we just want a summary. Maybe we just want to know how tall the factory is, so we know about what the average size of its products is. Or how wide the factory is, so we can get an idea of how varied the products are."
   ]
  },
  {
   "cell_type": "markdown",
   "metadata": {},
   "source": [
    "## Expectation"
   ]
  },
  {
   "cell_type": "markdown",
   "metadata": {},
   "source": [
    "The **expectation** (or **expected value** or **mean**) of a random variable is often said to describe its \"average\" product. But, as we'll see, that puts the cart before the horse: it's really averages that approximate expectations and not the other way around."
   ]
  },
  {
   "cell_type": "markdown",
   "metadata": {},
   "source": [
    "The expectation of a random variable is given by"
   ]
  },
  {
   "cell_type": "markdown",
   "metadata": {},
   "source": [
    "$$\n",
    "E[\\mathbf Z]\n",
    "=\n",
    "\\int z\\phi_{\\mathbf Z}(z) dz\n",
    "\\quad\\quad\n",
    "E[\\mathbf Z]\n",
    "=\n",
    "\\sum z\\phi_{\\mathbf Z}(z)\n",
    "$$"
   ]
  },
  {
   "cell_type": "markdown",
   "metadata": {},
   "source": [
    "where the integral or sum are taken over the entire support of the random variable $\\mathbf Z$, whatever it may be. The notation $E[\\mathbf Z]$ is read as \"expectation of $\\mathbf Z$. Using brackets isn't strictly necessary but it helps remind us that $E$ is not a normal function that takes a number and gives us back a number- it's a function that takes a *random variable* and crunches it into a single number that somehow describes that random variable. And, remember the random variable $\\mathbf Z$ is a function that takes an element $\\omega$ (whatever it is) and gives us back a number. So the expectation is basically a function that maps functions to numbers (sometimes these are called **functionals**). If that seems weird to you, think of it this way: functionals (like expectation) just measure some quality of the factory itself, like its height. "
   ]
  },
  {
   "cell_type": "markdown",
   "metadata": {},
   "source": [
    "If you look at the formulas for expectation and don't see the connection to an \"average\" value, you're not alone. But let's look a little more closely. The average (or **sample mean**) of $n$ numbers $[z_1, z_2, \\dots z_n]$ that we know from primary school is $\\frac{1}{n} \\sum z_i$: add all the numbers up and divide by how many of them there are. There's another way to compute the same thing, though. First, we find all of the unique values of $[z_1, z_2, \\dots z_n]$. Say those are $[x_1, x_2, \\dots x_m]$ where $m$ is the total number of unique values in $z$ (for instance, maybe $x_1 = z_{2} = z_{3} = z_{5}$, $x_2 = z_{1} = z_{4}$, and so on). Now we count how many elements of $z$ take on each of those unique values and save those numbers in a vector $[n_1, n_2, \\dots n_m]$. That means there are $n_1$ $z$s with the value $x_1$, $n_2$ with the value $x_2$, etc. Now we can group up the elements in the sum:"
   ]
  },
  {
   "cell_type": "markdown",
   "metadata": {},
   "source": [
    "$$\n",
    "\\frac{1}{n} \\sum z_i \n",
    "= \n",
    "\\frac{1}{n} \\left( \\underset{\\text{all }=x_1}{\\underbrace{(z_{2} + z_3 + z_5)}} + \\underset{\\text{all }=x_2}{\\underbrace{(z_{1} + z_4)}} + \\dots \\right)\n",
    "= \n",
    "\\frac{1}{n} (n_1x_1 + n_2x_2 + \\dots n_mx_m)\n",
    "= \n",
    "\\sum x_j \\frac{n_j}{n} \n",
    "=\n",
    "\\sum x_j p_j\n",
    "$$"
   ]
  },
  {
   "cell_type": "markdown",
   "metadata": {},
   "source": [
    "where $p_j = n_j/n$ is the proportion of $z$s that take the value $x_j$. Check it out:"
   ]
  },
  {
   "cell_type": "code",
   "execution_count": 72,
   "metadata": {},
   "outputs": [
    {
     "data": {
      "text/plain": [
       "4.0"
      ]
     },
     "execution_count": 72,
     "metadata": {},
     "output_type": "execute_result"
    }
   ],
   "source": [
    "z = [4,8,6,7,2,8,4,5,1,5,9,4,8,3,1,3,0,0,2,0]\n",
    "np.mean(z) # np.mean() calculates the sample mean"
   ]
  },
  {
   "cell_type": "code",
   "execution_count": 73,
   "metadata": {},
   "outputs": [
    {
     "name": "stdout",
     "output_type": "stream",
     "text": [
      "[0 1 2 3 4 5 6 7 8 9] [3 2 2 2 3 2 1 1 3 1]\n"
     ]
    }
   ],
   "source": [
    "x,n = np.unique(z, return_counts=True)\n",
    "print(x,n)"
   ]
  },
  {
   "cell_type": "code",
   "execution_count": 70,
   "metadata": {},
   "outputs": [
    {
     "data": {
      "text/plain": [
       "4.0"
      ]
     },
     "execution_count": 70,
     "metadata": {},
     "output_type": "execute_result"
    }
   ],
   "source": [
    "p = n/len(z)\n",
    "np.sum(x*p)"
   ]
  },
  {
   "cell_type": "markdown",
   "metadata": {},
   "source": [
    "Compare $\\sum x_j p_j$ to $\\sum z \\phi(z)$. Instead of $\\phi$ we have a $p$, but these are both proportions of some kind since $\\phi(z) = P(Z=z)$ is the proportion of outcomes that lead to the realization $z$. The other difference is that the sum in $\\sum x_j p_j$ is taken over all $x_j$, which are all the unique values of $z$, whereas $\\sum z\\phi_{\\mathbf Z}(z)$ is taken over the support of $\\mathbf Z$. But again, that's basically the same idea: the support of $\\mathbf Z$ is precisely the set of all unique values that $\\mathbf Z$ can take. The extension to the continuous case just replaces the sum with an integral."
   ]
  },
  {
   "cell_type": "markdown",
   "metadata": {},
   "source": [
    "It's important not to confuse analogy or intuition with reality, though: the expectation and sample mean are not the same thing. If $z$ is a set of realizations from $\\mathbf Z$, there is no guarantee that we will collect enough $z$s to span the entire support of $\\mathbf Z$ (in the continuous case, we are guarenteed not to), and there is no guarantee that the $z$s will appear in proportions that are exact to $\\phi$. The expectation is the sample mean of the data we *would* observe *if* we pushed every single outcome $\\omega$ from $\\Omega$ through $\\mathbf Z$ exactly once, weighting each realization by how much volume its antecedent outcome takes up in the sample space. In fact, an alternative but equivalent definition of the expectation (when $\\Omega$ is not continuous) makes this very clear:"
   ]
  },
  {
   "cell_type": "markdown",
   "metadata": {},
   "source": [
    "$$\n",
    "E[\\mathbf Z]\n",
    "=\n",
    "\\sum_\\Omega \\mathbf Z(\\omega) \\mathbb P(\\omega)\n",
    "$$"
   ]
  },
  {
   "cell_type": "markdown",
   "metadata": {},
   "source": [
    "When the sample space is discrete and finite, and if each of the $n$ possible outcomes $\\omega$ takes up the same amount of space in the silo $\\Omega$, we have $ \\mathbb P(\\omega) = 1/n$. That means\n",
    "\n",
    "$$E[\\mathbf Z] = \\frac{1}{n} \\sum_\\Omega \\mathbf Z(\\omega)$$"
   ]
  },
  {
   "cell_type": "markdown",
   "metadata": {},
   "source": [
    "The connection between this and the sample mean should now be apparent to you."
   ]
  },
  {
   "cell_type": "markdown",
   "metadata": {},
   "source": [
    "#### Example"
   ]
  },
  {
   "cell_type": "markdown",
   "metadata": {},
   "source": [
    "We'll demonstrate using our old friend:"
   ]
  },
  {
   "cell_type": "code",
   "execution_count": 75,
   "metadata": {},
   "outputs": [],
   "source": [
    "def Z(ω): # factory (random variable)\n",
    "    if ω in set([1,4,5,8,9]): # these are the outcomes (nuggets) that map to the value 1 \n",
    "        return 1\n",
    "    if ω in set([0,2,3,6,7]): # these are the outcomes (nuggets) that map to the value 0 \n",
    "        return 0\n",
    "Z.Ω = set([0,1,2,3,4,5,6,7,8,9]) # sample space (silo) of outcomes (ore nuggets) attached to Z\n",
    "    \n",
    "def realize(rand_var): # run the assembly line!\n",
    "    ω = random.sample(rand_var.Ω, 1)[0] # grab a single nugget out of the silo at random\n",
    "    return rand_var(ω) # push it through the factory"
   ]
  },
  {
   "cell_type": "markdown",
   "metadata": {},
   "source": [
    "We know the support of this random variable is $\\{0,1\\}$ (these are the only values it can take) and its mass function is $\\phi(0) = 0.5$ and $\\phi(1) = 0.5$. So $E[\\mathbf Z] = \\sum z\\phi_{\\mathbf Z}(z) = 0\\phi(0) + 1\\phi(1) = 0.5$. That's also what we get when we take the sample mean of the data we would see by pushing each element of $\\Omega$ through $\\mathbf Z$ exactly once:"
   ]
  },
  {
   "cell_type": "code",
   "execution_count": 76,
   "metadata": {},
   "outputs": [
    {
     "data": {
      "text/plain": [
       "0.5"
      ]
     },
     "execution_count": 76,
     "metadata": {},
     "output_type": "execute_result"
    }
   ],
   "source": [
    "np.mean([Z(ω) for ω in Z.Ω])"
   ]
  },
  {
   "cell_type": "markdown",
   "metadata": {},
   "source": [
    "But for a generic sample of realizations, we are not guaranteed to get the same answer:"
   ]
  },
  {
   "cell_type": "code",
   "execution_count": 78,
   "metadata": {},
   "outputs": [
    {
     "data": {
      "text/plain": [
       "0.55"
      ]
     },
     "execution_count": 78,
     "metadata": {},
     "output_type": "execute_result"
    }
   ],
   "source": [
    "np.mean([realize(Z) for i in range(20)])"
   ]
  },
  {
   "cell_type": "markdown",
   "metadata": {},
   "source": [
    "Succinctly: the sample mean is a property of a *particular dataset*. Expectation is a property of the *random variable*. The sample mean is like taking a bunch of iphones from a factory and asking what the average iphone is like. The expectation is like looking at the iphone blueprint. But, of course, we never do see the real factory, blueprint, or code, so expectation is ultimately just a (very important) tool to help us imagine what that real thing is like."
   ]
  },
  {
   "cell_type": "markdown",
   "metadata": {},
   "source": [
    "<div class=\"alert alert-block alert-info\">\n",
    "<b>Exercise:</b> \n",
    "\n",
    "In my example above, I took the mean of 20 realizations from $\\mathbf Z$, but I could have just as easily taken the mean of 5 realizations, or of 1000. Repeat what I did for every number between 2 and 100. Make a scatterplot of the mean you calculate vs. how many realizations you took. What do you observe? Why does it make sense?\n",
    "    \n",
    "</div>"
   ]
  },
  {
   "cell_type": "markdown",
   "metadata": {},
   "source": [
    "Expectation is sometimes also called the **first moment**, in analogy to the \"first moment\" of mass (center of mass) from physics. The word \"moment\" apparently used to mean \"importance\", so a \"moment\" is a way to describe an important feature of something. In physics, the first moment is the point at which an object can be balanced. So you can think of the expected value as the point along the x-axis at which you could hold up the distribution plot up with a finger and it wouldn't fall to either side."
   ]
  },
  {
   "cell_type": "markdown",
   "metadata": {},
   "source": [
    "For instance, have a look at the plot for this density I made up:"
   ]
  },
  {
   "cell_type": "code",
   "execution_count": 22,
   "metadata": {},
   "outputs": [],
   "source": [
    "def ϕ(z):\n",
    "    a,b = 1/6, 1/2 # centers of the two triangles below\n",
    "    ha,hb = 9/2, 1/2 # heights of the two triangles below\n",
    "    if z < -2*a:\n",
    "        return 0\n",
    "    elif z < -a:\n",
    "        return z*ha/a + 2*ha\n",
    "    elif z < 0:\n",
    "        return z*(-ha/a)\n",
    "    elif z < b:\n",
    "        return z*(hb/b)\n",
    "    elif z < 2*b:\n",
    "        return z*(-hb/b) + 2*hb\n",
    "    else:\n",
    "        return 0"
   ]
  },
  {
   "cell_type": "code",
   "execution_count": 21,
   "metadata": {},
   "outputs": [
    {
     "data": {
      "application/vnd.vegalite.v3+json": {
       "$schema": "https://vega.github.io/schema/vega-lite/v3.4.0.json",
       "config": {
        "mark": {
         "tooltip": null
        },
        "view": {
         "height": 300,
         "width": 400
        }
       },
       "data": {
        "name": "data-e185946825113208d068a635c61ed71b"
       },
       "datasets": {
        "data-e185946825113208d068a635c61ed71b": [
         {
          "p": 0,
          "z": -0.3333333333333333
         },
         {
          "p": 0.2699999999999996,
          "z": -0.3233333333333333
         },
         {
          "p": 0.5399999999999991,
          "z": -0.3133333333333333
         },
         {
          "p": 0.8100000000000005,
          "z": -0.3033333333333333
         },
         {
          "p": 1.080000000000001,
          "z": -0.2933333333333333
         },
         {
          "p": 1.3500000000000014,
          "z": -0.28333333333333327
         },
         {
          "p": 1.620000000000001,
          "z": -0.27333333333333326
         },
         {
          "p": 1.8900000000000023,
          "z": -0.26333333333333325
         },
         {
          "p": 2.160000000000002,
          "z": -0.25333333333333324
         },
         {
          "p": 2.4300000000000024,
          "z": -0.24333333333333323
         },
         {
          "p": 2.700000000000002,
          "z": -0.23333333333333323
         },
         {
          "p": 2.9700000000000033,
          "z": -0.22333333333333322
         },
         {
          "p": 3.240000000000003,
          "z": -0.2133333333333332
         },
         {
          "p": 3.5100000000000033,
          "z": -0.2033333333333332
         },
         {
          "p": 3.780000000000004,
          "z": -0.1933333333333332
         },
         {
          "p": 4.050000000000004,
          "z": -0.18333333333333318
         },
         {
          "p": 4.320000000000004,
          "z": -0.17333333333333317
         },
         {
          "p": 4.409999999999996,
          "z": -0.16333333333333316
         },
         {
          "p": 4.139999999999995,
          "z": -0.15333333333333315
         },
         {
          "p": 3.8699999999999948,
          "z": -0.14333333333333315
         },
         {
          "p": 3.5999999999999948,
          "z": -0.13333333333333314
         },
         {
          "p": 3.3299999999999943,
          "z": -0.12333333333333313
         },
         {
          "p": 3.0599999999999943,
          "z": -0.11333333333333312
         },
         {
          "p": 2.789999999999994,
          "z": -0.10333333333333311
         },
         {
          "p": 2.519999999999994,
          "z": -0.0933333333333331
         },
         {
          "p": 2.2499999999999933,
          "z": -0.08333333333333309
         },
         {
          "p": 1.9799999999999933,
          "z": -0.07333333333333308
         },
         {
          "p": 1.709999999999993,
          "z": -0.06333333333333308
         },
         {
          "p": 1.4399999999999928,
          "z": -0.053333333333333066
         },
         {
          "p": 1.1699999999999926,
          "z": -0.04333333333333306
         },
         {
          "p": 0.8999999999999924,
          "z": -0.03333333333333305
         },
         {
          "p": 0.6299999999999921,
          "z": -0.02333333333333304
         },
         {
          "p": 0.3599999999999918,
          "z": -0.01333333333333303
         },
         {
          "p": 0.08999999999999159,
          "z": -0.0033333333333330217
         },
         {
          "p": 0.006666666666666987,
          "z": 0.006666666666666987
         },
         {
          "p": 0.016666666666666996,
          "z": 0.016666666666666996
         },
         {
          "p": 0.026666666666667005,
          "z": 0.026666666666667005
         },
         {
          "p": 0.036666666666667014,
          "z": 0.036666666666667014
         },
         {
          "p": 0.04666666666666702,
          "z": 0.04666666666666702
         },
         {
          "p": 0.05666666666666703,
          "z": 0.05666666666666703
         },
         {
          "p": 0.06666666666666704,
          "z": 0.06666666666666704
         },
         {
          "p": 0.07666666666666705,
          "z": 0.07666666666666705
         },
         {
          "p": 0.08666666666666706,
          "z": 0.08666666666666706
         },
         {
          "p": 0.09666666666666707,
          "z": 0.09666666666666707
         },
         {
          "p": 0.10666666666666708,
          "z": 0.10666666666666708
         },
         {
          "p": 0.11666666666666708,
          "z": 0.11666666666666708
         },
         {
          "p": 0.1266666666666671,
          "z": 0.1266666666666671
         },
         {
          "p": 0.1366666666666671,
          "z": 0.1366666666666671
         },
         {
          "p": 0.1466666666666671,
          "z": 0.1466666666666671
         },
         {
          "p": 0.15666666666666712,
          "z": 0.15666666666666712
         },
         {
          "p": 0.16666666666666713,
          "z": 0.16666666666666713
         },
         {
          "p": 0.17666666666666714,
          "z": 0.17666666666666714
         },
         {
          "p": 0.18666666666666715,
          "z": 0.18666666666666715
         },
         {
          "p": 0.19666666666666716,
          "z": 0.19666666666666716
         },
         {
          "p": 0.20666666666666716,
          "z": 0.20666666666666716
         },
         {
          "p": 0.21666666666666717,
          "z": 0.21666666666666717
         },
         {
          "p": 0.22666666666666718,
          "z": 0.22666666666666718
         },
         {
          "p": 0.2366666666666672,
          "z": 0.2366666666666672
         },
         {
          "p": 0.2466666666666672,
          "z": 0.2466666666666672
         },
         {
          "p": 0.2566666666666672,
          "z": 0.2566666666666672
         },
         {
          "p": 0.2666666666666672,
          "z": 0.2666666666666672
         },
         {
          "p": 0.2766666666666672,
          "z": 0.2766666666666672
         },
         {
          "p": 0.28666666666666724,
          "z": 0.28666666666666724
         },
         {
          "p": 0.29666666666666724,
          "z": 0.29666666666666724
         },
         {
          "p": 0.30666666666666725,
          "z": 0.30666666666666725
         },
         {
          "p": 0.31666666666666726,
          "z": 0.31666666666666726
         },
         {
          "p": 0.32666666666666727,
          "z": 0.32666666666666727
         },
         {
          "p": 0.3366666666666673,
          "z": 0.3366666666666673
         },
         {
          "p": 0.3466666666666673,
          "z": 0.3466666666666673
         },
         {
          "p": 0.3566666666666673,
          "z": 0.3566666666666673
         },
         {
          "p": 0.3666666666666673,
          "z": 0.3666666666666673
         },
         {
          "p": 0.3766666666666673,
          "z": 0.3766666666666673
         },
         {
          "p": 0.3866666666666673,
          "z": 0.3866666666666673
         },
         {
          "p": 0.39666666666666733,
          "z": 0.39666666666666733
         },
         {
          "p": 0.40666666666666734,
          "z": 0.40666666666666734
         },
         {
          "p": 0.41666666666666735,
          "z": 0.41666666666666735
         },
         {
          "p": 0.42666666666666736,
          "z": 0.42666666666666736
         },
         {
          "p": 0.43666666666666737,
          "z": 0.43666666666666737
         },
         {
          "p": 0.4466666666666674,
          "z": 0.4466666666666674
         },
         {
          "p": 0.4566666666666674,
          "z": 0.4566666666666674
         },
         {
          "p": 0.4666666666666674,
          "z": 0.4666666666666674
         },
         {
          "p": 0.4766666666666674,
          "z": 0.4766666666666674
         },
         {
          "p": 0.4866666666666674,
          "z": 0.4866666666666674
         },
         {
          "p": 0.4966666666666674,
          "z": 0.4966666666666674
         },
         {
          "p": 0.4933333333333325,
          "z": 0.5066666666666675
         },
         {
          "p": 0.4833333333333325,
          "z": 0.5166666666666675
         },
         {
          "p": 0.4733333333333325,
          "z": 0.5266666666666675
         },
         {
          "p": 0.4633333333333325,
          "z": 0.5366666666666675
         },
         {
          "p": 0.4533333333333325,
          "z": 0.5466666666666675
         },
         {
          "p": 0.44333333333333247,
          "z": 0.5566666666666675
         },
         {
          "p": 0.43333333333333246,
          "z": 0.5666666666666675
         },
         {
          "p": 0.42333333333333245,
          "z": 0.5766666666666675
         },
         {
          "p": 0.41333333333333244,
          "z": 0.5866666666666676
         },
         {
          "p": 0.40333333333333243,
          "z": 0.5966666666666676
         },
         {
          "p": 0.3933333333333324,
          "z": 0.6066666666666676
         },
         {
          "p": 0.3833333333333324,
          "z": 0.6166666666666676
         },
         {
          "p": 0.3733333333333324,
          "z": 0.6266666666666676
         },
         {
          "p": 0.3633333333333324,
          "z": 0.6366666666666676
         },
         {
          "p": 0.3533333333333324,
          "z": 0.6466666666666676
         },
         {
          "p": 0.3433333333333324,
          "z": 0.6566666666666676
         },
         {
          "p": 0.33333333333333237,
          "z": 0.6666666666666676
         },
         {
          "p": 0.32333333333333236,
          "z": 0.6766666666666676
         },
         {
          "p": 0.31333333333333235,
          "z": 0.6866666666666676
         },
         {
          "p": 0.30333333333333234,
          "z": 0.6966666666666677
         },
         {
          "p": 0.29333333333333234,
          "z": 0.7066666666666677
         },
         {
          "p": 0.2833333333333323,
          "z": 0.7166666666666677
         },
         {
          "p": 0.2733333333333323,
          "z": 0.7266666666666677
         },
         {
          "p": 0.2633333333333323,
          "z": 0.7366666666666677
         },
         {
          "p": 0.2533333333333323,
          "z": 0.7466666666666677
         },
         {
          "p": 0.2433333333333323,
          "z": 0.7566666666666677
         },
         {
          "p": 0.23333333333333228,
          "z": 0.7666666666666677
         },
         {
          "p": 0.22333333333333227,
          "z": 0.7766666666666677
         },
         {
          "p": 0.21333333333333226,
          "z": 0.7866666666666677
         },
         {
          "p": 0.20333333333333226,
          "z": 0.7966666666666677
         },
         {
          "p": 0.19333333333333225,
          "z": 0.8066666666666678
         },
         {
          "p": 0.18333333333333224,
          "z": 0.8166666666666678
         },
         {
          "p": 0.17333333333333223,
          "z": 0.8266666666666678
         },
         {
          "p": 0.16333333333333222,
          "z": 0.8366666666666678
         },
         {
          "p": 0.1533333333333322,
          "z": 0.8466666666666678
         },
         {
          "p": 0.1433333333333322,
          "z": 0.8566666666666678
         },
         {
          "p": 0.1333333333333322,
          "z": 0.8666666666666678
         },
         {
          "p": 0.12333333333333218,
          "z": 0.8766666666666678
         },
         {
          "p": 0.11333333333333218,
          "z": 0.8866666666666678
         },
         {
          "p": 0.10333333333333217,
          "z": 0.8966666666666678
         },
         {
          "p": 0.09333333333333216,
          "z": 0.9066666666666678
         },
         {
          "p": 0.08333333333333215,
          "z": 0.9166666666666679
         },
         {
          "p": 0.07333333333333214,
          "z": 0.9266666666666679
         },
         {
          "p": 0.06333333333333213,
          "z": 0.9366666666666679
         },
         {
          "p": 0.05333333333333212,
          "z": 0.9466666666666679
         },
         {
          "p": 0.043333333333332114,
          "z": 0.9566666666666679
         },
         {
          "p": 0.033333333333332105,
          "z": 0.9666666666666679
         },
         {
          "p": 0.023333333333332096,
          "z": 0.9766666666666679
         },
         {
          "p": 0.013333333333332087,
          "z": 0.9866666666666679
         },
         {
          "p": 0.003333333333332078,
          "z": 0.9966666666666679
         },
         {
          "p": 0,
          "z": 1.006666666666668
         },
         {
          "p": 0,
          "z": 1.016666666666668
         },
         {
          "p": 0,
          "z": 1.026666666666668
         },
         {
          "p": 0,
          "z": 1.036666666666668
         },
         {
          "p": 0,
          "z": 1.046666666666668
         },
         {
          "p": 0,
          "z": 1.056666666666668
         },
         {
          "p": 0,
          "z": 1.066666666666668
         },
         {
          "p": 0,
          "z": 1.076666666666668
         },
         {
          "p": 0,
          "z": 1.086666666666668
         },
         {
          "p": 0,
          "z": 1.096666666666668
         },
         {
          "p": 0,
          "z": 1.106666666666668
         },
         {
          "p": 0,
          "z": 1.116666666666668
         },
         {
          "p": 0,
          "z": 1.126666666666668
         },
         {
          "p": 0,
          "z": 1.136666666666668
         },
         {
          "p": 0,
          "z": 1.146666666666668
         },
         {
          "p": 0,
          "z": 1.156666666666668
         }
        ]
       },
       "layer": [
        {
         "encoding": {
          "x": {
           "field": "z",
           "type": "quantitative"
          },
          "y": {
           "field": "p",
           "type": "quantitative"
          }
         },
         "height": 100,
         "mark": "area",
         "width": 400
        },
        {
         "encoding": {
          "x": {
           "field": "mean",
           "type": "quantitative"
          }
         },
         "mark": {
          "color": "red",
          "size": 2,
          "type": "rule"
         },
         "transform": [
          {
           "as": "mean",
           "calculate": "0"
          }
         ]
        }
       ]
      },
      "image/png": "[encoded data removed]",
      "text/plain": [
       "<VegaLite 3 object>\n",
       "\n",
       "If you see this message, it means the renderer has not been properly enabled\n",
       "for the frontend that you are using. For more information, see\n",
       "https://altair-viz.github.io/user_guide/troubleshooting.html\n"
      ]
     },
     "execution_count": 21,
     "metadata": {},
     "output_type": "execute_result"
    }
   ],
   "source": [
    "z = np.arange(-2/6, 1+1/6, 0.01)\n",
    "p = [ϕ(zi) for zi in z]\n",
    "\n",
    "distribution = pd.DataFrame({'z':z, 'p':p})\n",
    "density = alt.Chart(distribution, height=100, width=400).mark_area().encode(x='z', y='p')\n",
    "rule = alt.Chart(distribution).mark_rule(size=2, color='red').encode(x='mean:Q').transform_calculate(mean='0')\n",
    "density + rule"
   ]
  },
  {
   "cell_type": "markdown",
   "metadata": {},
   "source": [
    "The mean of this distribution is $z=0$, which is illustrated with the red line. As you can see, there is actually a lot more mass to the left of the mean than there is to the right, but 0 is the point at which the distribution would be \"balanced\" on your finger (the \"halfway point\" of the mass is called the **median**). This picture also illustrates that the expected value is not value with the highest $\\phi(z)$ (that's called the **mode**). In this case, the probability of getting the expected value relative to any other value is actually 0 because $\\phi(0) = 0$! There is nothing \"expected\" about the expected value here since it's not even a value $\\mathbf Z$ could produce! But the same thing holds for the more-familiar sample average: the average number of children in a US family may be 2.3, but no family actually has 2.3 children. Averages need not be average."
   ]
  },
  {
   "cell_type": "markdown",
   "metadata": {},
   "source": [
    "<div class=\"alert alert-block alert-info\">\n",
    "<b>Exercise:</b> \n",
    "\n",
    "Verify that the mean of the above density is indeed 0. Use WolframAlpha to calculate any annoying integrals.\n",
    "    \n",
    "</div>"
   ]
  },
  {
   "cell_type": "markdown",
   "metadata": {},
   "source": [
    "### Multivariable Expectation"
   ]
  },
  {
   "cell_type": "markdown",
   "metadata": {},
   "source": [
    "Expectation also works in the multivariate setting. If $\\mathbf Z = [\\mathbf Z_1, \\mathbf Z_2]$, then the expected value is"
   ]
  },
  {
   "cell_type": "markdown",
   "metadata": {},
   "source": [
    "$$\n",
    "E[\\mathbf Z]\n",
    "=\n",
    "\\int z\\phi_{\\mathbf Z}(z) dz\n",
    "= \n",
    "\\int \\int \n",
    "\\left[ \n",
    "\\begin{array}{c}\n",
    "z_1 \\\\ z_2\n",
    "\\end{array}\n",
    "\\right]\n",
    "\\phi_{\\mathbf Z_1, \\mathbf Z_2}(z_1, z_2) \n",
    "dz_1 dz_2\n",
    "=\n",
    "\\left[\n",
    "\\begin{array}{c}\n",
    "\\int \\int z_1 \\phi_{\\mathbf Z_1, \\mathbf Z_2}(z_1, z_2) dz_1 dz_2 \\\\\n",
    "\\int \\int z_2 \\phi_{\\mathbf Z_1, \\mathbf Z_2}(z_1, z_2) dz_1 dz_2\n",
    "\\end{array}\n",
    "\\right]\n",
    "=\n",
    "\\left[\n",
    "\\begin{array}{c}\n",
    "\\int z_1 \\int \\phi_{\\mathbf Z_1, \\mathbf Z_2}(z_1, z_2) dz_2 dz_1 \\\\\n",
    "\\int z_2 \\int  \\phi_{\\mathbf Z_1, \\mathbf Z_2}(z_1, z_2) dz_1 dz_2\n",
    "\\end{array}\n",
    "\\right] \n",
    "=\n",
    "\\left[\n",
    "\\begin{array}{c}\n",
    "\\int z_1 \\phi_{\\mathbf Z_1}(z_1) dz_1 \\\\\n",
    "\\int z_2 \\phi_{\\mathbf Z_2}(z_2) dz_2\n",
    "\\end{array}\n",
    "\\right] \n",
    "= \n",
    "\\left[\n",
    "\\begin{array}{c}\n",
    "E[\\mathbf Z_1] \\\\\n",
    "E[\\mathbf Z_2]\n",
    "\\end{array}\n",
    "\\right]\n",
    "$$"
   ]
  },
  {
   "cell_type": "markdown",
   "metadata": {},
   "source": [
    "where the integrals are replaced by the appropriate sums in the discrete case. The derivation is a bit of a mess with all of the notation, but there's nothing too complicated going on. All we did was define integration over vectors, switch the order of integration, and use the definnition of the marginal density. The end result is that the expectation of a vector-valued random variable is the vector of expectations of each component (marginal) random variable."
   ]
  },
  {
   "cell_type": "markdown",
   "metadata": {},
   "source": [
    "#### Example"
   ]
  },
  {
   "cell_type": "markdown",
   "metadata": {},
   "source": [
    "We'll find the mean of the discrete joint variables $\\mathbf V_1$ and $\\mathbf V_2$ that we were working with previously. Here is the joint again:"
   ]
  },
  {
   "cell_type": "code",
   "execution_count": 73,
   "metadata": {},
   "outputs": [],
   "source": [
    "def joint(v1, v2): # v1, v2 in {0,1,2,..9}\n",
    "    P_raw = np.array(\n",
    "      [[ 0.,  0.,  1.,  9., 30., 32., 19.,  5.,  0.,  0.],\n",
    "       [ 0.,  0.,  0.,  2., 12., 28., 30., 12.,  5.,  0.],\n",
    "       [ 0.,  0.,  0.,  0.,  2., 20., 35., 27.,  3.,  4.],\n",
    "       [ 0.,  0.,  0.,  0.,  8., 21., 38., 39., 11.,  2.],\n",
    "       [ 0.,  0.,  0.,  0.,  4., 32., 37., 15.,  4.,  1.],\n",
    "       [ 0.,  0.,  1.,  5., 18., 43., 21.,  8.,  2.,  0.],\n",
    "       [ 0.,  0.,  6., 25., 35., 25.,  8.,  1.,  0.,  0.],\n",
    "       [ 0.,  2., 19., 47., 20., 16.,  1.,  0.,  0.,  0.],\n",
    "       [ 2., 12., 32., 36., 17.,  3.,  0.,  0.,  0.,  0.],\n",
    "       [ 9., 15., 44., 32.,  7.,  0.,  0.,  0.,  0.,  0.]])\n",
    "    return P_raw[v1, v2]/np.sum(P_raw) # need to make it so that Σ p_ij = 1 so that this is a valid mass function"
   ]
  },
  {
   "cell_type": "markdown",
   "metadata": {},
   "source": [
    "Here's the calculation of the mean:"
   ]
  },
  {
   "cell_type": "code",
   "execution_count": 98,
   "metadata": {},
   "outputs": [
    {
     "data": {
      "text/plain": [
       "array([4.604, 4.561])"
      ]
     },
     "execution_count": 98,
     "metadata": {},
     "output_type": "execute_result"
    }
   ],
   "source": [
    "v1, v2 = [np.array(vj) for vj in zip(*product(range(10), range(10)))] # all the possible combinations of (v1, v2)\n",
    "prob = np.array([joint(v1,v2) for v1, v2 in zip(v1, v2)])\n",
    "\n",
    "EV = sum(np.array([v1*prob, v2*prob]) for v1, v2, prob in zip(v1,v2,prob))\n",
    "EV"
   ]
  },
  {
   "cell_type": "markdown",
   "metadata": {},
   "source": [
    "And here's the joint density with the mean plotted on it:"
   ]
  },
  {
   "cell_type": "code",
   "execution_count": 152,
   "metadata": {},
   "outputs": [],
   "source": [
    "plot_data = pd.DataFrame({'v1':v1, 'v2':v2, 'ϕ':prob})\n",
    "density_plot = density_2d(plot_data, 1, x_name='v1', y_name='v2', joint_name='ϕ')"
   ]
  },
  {
   "cell_type": "code",
   "execution_count": 156,
   "metadata": {},
   "outputs": [
    {
     "data": {
      "application/vnd.vegalite.v3+json": {
       "$schema": "https://vega.github.io/schema/vega-lite/v3.4.0.json",
       "config": {
        "mark": {
         "tooltip": null
        },
        "view": {
         "height": 300,
         "width": 400
        }
       },
       "datasets": {
        "data-286a68c9292df08f3ed49fe9a3424b0a": [
         {
          "xh": 0.5,
          "xl": -0.5,
          "yh": 0.5,
          "yl": -0.5,
          "ϕ": 0
         },
         {
          "xh": 0.5,
          "xl": -0.5,
          "yh": 1.5,
          "yl": 0.5,
          "ϕ": 0
         },
         {
          "xh": 0.5,
          "xl": -0.5,
          "yh": 2.5,
          "yl": 1.5,
          "ϕ": 0.001
         },
         {
          "xh": 0.5,
          "xl": -0.5,
          "yh": 3.5,
          "yl": 2.5,
          "ϕ": 0.009
         },
         {
          "xh": 0.5,
          "xl": -0.5,
          "yh": 4.5,
          "yl": 3.5,
          "ϕ": 0.03
         },
         {
          "xh": 0.5,
          "xl": -0.5,
          "yh": 5.5,
          "yl": 4.5,
          "ϕ": 0.032
         },
         {
          "xh": 0.5,
          "xl": -0.5,
          "yh": 6.5,
          "yl": 5.5,
          "ϕ": 0.019
         },
         {
          "xh": 0.5,
          "xl": -0.5,
          "yh": 7.5,
          "yl": 6.5,
          "ϕ": 0.005
         },
         {
          "xh": 0.5,
          "xl": -0.5,
          "yh": 8.5,
          "yl": 7.5,
          "ϕ": 0
         },
         {
          "xh": 0.5,
          "xl": -0.5,
          "yh": 9.5,
          "yl": 8.5,
          "ϕ": 0
         },
         {
          "xh": 1.5,
          "xl": 0.5,
          "yh": 0.5,
          "yl": -0.5,
          "ϕ": 0
         },
         {
          "xh": 1.5,
          "xl": 0.5,
          "yh": 1.5,
          "yl": 0.5,
          "ϕ": 0
         },
         {
          "xh": 1.5,
          "xl": 0.5,
          "yh": 2.5,
          "yl": 1.5,
          "ϕ": 0
         },
         {
          "xh": 1.5,
          "xl": 0.5,
          "yh": 3.5,
          "yl": 2.5,
          "ϕ": 0.002
         },
         {
          "xh": 1.5,
          "xl": 0.5,
          "yh": 4.5,
          "yl": 3.5,
          "ϕ": 0.012
         },
         {
          "xh": 1.5,
          "xl": 0.5,
          "yh": 5.5,
          "yl": 4.5,
          "ϕ": 0.028
         },
         {
          "xh": 1.5,
          "xl": 0.5,
          "yh": 6.5,
          "yl": 5.5,
          "ϕ": 0.03
         },
         {
          "xh": 1.5,
          "xl": 0.5,
          "yh": 7.5,
          "yl": 6.5,
          "ϕ": 0.012
         },
         {
          "xh": 1.5,
          "xl": 0.5,
          "yh": 8.5,
          "yl": 7.5,
          "ϕ": 0.005
         },
         {
          "xh": 1.5,
          "xl": 0.5,
          "yh": 9.5,
          "yl": 8.5,
          "ϕ": 0
         },
         {
          "xh": 2.5,
          "xl": 1.5,
          "yh": 0.5,
          "yl": -0.5,
          "ϕ": 0
         },
         {
          "xh": 2.5,
          "xl": 1.5,
          "yh": 1.5,
          "yl": 0.5,
          "ϕ": 0
         },
         {
          "xh": 2.5,
          "xl": 1.5,
          "yh": 2.5,
          "yl": 1.5,
          "ϕ": 0
         },
         {
          "xh": 2.5,
          "xl": 1.5,
          "yh": 3.5,
          "yl": 2.5,
          "ϕ": 0
         },
         {
          "xh": 2.5,
          "xl": 1.5,
          "yh": 4.5,
          "yl": 3.5,
          "ϕ": 0.002
         },
         {
          "xh": 2.5,
          "xl": 1.5,
          "yh": 5.5,
          "yl": 4.5,
          "ϕ": 0.02
         },
         {
          "xh": 2.5,
          "xl": 1.5,
          "yh": 6.5,
          "yl": 5.5,
          "ϕ": 0.035
         },
         {
          "xh": 2.5,
          "xl": 1.5,
          "yh": 7.5,
          "yl": 6.5,
          "ϕ": 0.027
         },
         {
          "xh": 2.5,
          "xl": 1.5,
          "yh": 8.5,
          "yl": 7.5,
          "ϕ": 0.003
         },
         {
          "xh": 2.5,
          "xl": 1.5,
          "yh": 9.5,
          "yl": 8.5,
          "ϕ": 0.004
         },
         {
          "xh": 3.5,
          "xl": 2.5,
          "yh": 0.5,
          "yl": -0.5,
          "ϕ": 0
         },
         {
          "xh": 3.5,
          "xl": 2.5,
          "yh": 1.5,
          "yl": 0.5,
          "ϕ": 0
         },
         {
          "xh": 3.5,
          "xl": 2.5,
          "yh": 2.5,
          "yl": 1.5,
          "ϕ": 0
         },
         {
          "xh": 3.5,
          "xl": 2.5,
          "yh": 3.5,
          "yl": 2.5,
          "ϕ": 0
         },
         {
          "xh": 3.5,
          "xl": 2.5,
          "yh": 4.5,
          "yl": 3.5,
          "ϕ": 0.008
         },
         {
          "xh": 3.5,
          "xl": 2.5,
          "yh": 5.5,
          "yl": 4.5,
          "ϕ": 0.021
         },
         {
          "xh": 3.5,
          "xl": 2.5,
          "yh": 6.5,
          "yl": 5.5,
          "ϕ": 0.038
         },
         {
          "xh": 3.5,
          "xl": 2.5,
          "yh": 7.5,
          "yl": 6.5,
          "ϕ": 0.039
         },
         {
          "xh": 3.5,
          "xl": 2.5,
          "yh": 8.5,
          "yl": 7.5,
          "ϕ": 0.011
         },
         {
          "xh": 3.5,
          "xl": 2.5,
          "yh": 9.5,
          "yl": 8.5,
          "ϕ": 0.002
         },
         {
          "xh": 4.5,
          "xl": 3.5,
          "yh": 0.5,
          "yl": -0.5,
          "ϕ": 0
         },
         {
          "xh": 4.5,
          "xl": 3.5,
          "yh": 1.5,
          "yl": 0.5,
          "ϕ": 0
         },
         {
          "xh": 4.5,
          "xl": 3.5,
          "yh": 2.5,
          "yl": 1.5,
          "ϕ": 0
         },
         {
          "xh": 4.5,
          "xl": 3.5,
          "yh": 3.5,
          "yl": 2.5,
          "ϕ": 0
         },
         {
          "xh": 4.5,
          "xl": 3.5,
          "yh": 4.5,
          "yl": 3.5,
          "ϕ": 0.004
         },
         {
          "xh": 4.5,
          "xl": 3.5,
          "yh": 5.5,
          "yl": 4.5,
          "ϕ": 0.032
         },
         {
          "xh": 4.5,
          "xl": 3.5,
          "yh": 6.5,
          "yl": 5.5,
          "ϕ": 0.037
         },
         {
          "xh": 4.5,
          "xl": 3.5,
          "yh": 7.5,
          "yl": 6.5,
          "ϕ": 0.015
         },
         {
          "xh": 4.5,
          "xl": 3.5,
          "yh": 8.5,
          "yl": 7.5,
          "ϕ": 0.004
         },
         {
          "xh": 4.5,
          "xl": 3.5,
          "yh": 9.5,
          "yl": 8.5,
          "ϕ": 0.001
         },
         {
          "xh": 5.5,
          "xl": 4.5,
          "yh": 0.5,
          "yl": -0.5,
          "ϕ": 0
         },
         {
          "xh": 5.5,
          "xl": 4.5,
          "yh": 1.5,
          "yl": 0.5,
          "ϕ": 0
         },
         {
          "xh": 5.5,
          "xl": 4.5,
          "yh": 2.5,
          "yl": 1.5,
          "ϕ": 0.001
         },
         {
          "xh": 5.5,
          "xl": 4.5,
          "yh": 3.5,
          "yl": 2.5,
          "ϕ": 0.005
         },
         {
          "xh": 5.5,
          "xl": 4.5,
          "yh": 4.5,
          "yl": 3.5,
          "ϕ": 0.018
         },
         {
          "xh": 5.5,
          "xl": 4.5,
          "yh": 5.5,
          "yl": 4.5,
          "ϕ": 0.043
         },
         {
          "xh": 5.5,
          "xl": 4.5,
          "yh": 6.5,
          "yl": 5.5,
          "ϕ": 0.021
         },
         {
          "xh": 5.5,
          "xl": 4.5,
          "yh": 7.5,
          "yl": 6.5,
          "ϕ": 0.008
         },
         {
          "xh": 5.5,
          "xl": 4.5,
          "yh": 8.5,
          "yl": 7.5,
          "ϕ": 0.002
         },
         {
          "xh": 5.5,
          "xl": 4.5,
          "yh": 9.5,
          "yl": 8.5,
          "ϕ": 0
         },
         {
          "xh": 6.5,
          "xl": 5.5,
          "yh": 0.5,
          "yl": -0.5,
          "ϕ": 0
         },
         {
          "xh": 6.5,
          "xl": 5.5,
          "yh": 1.5,
          "yl": 0.5,
          "ϕ": 0
         },
         {
          "xh": 6.5,
          "xl": 5.5,
          "yh": 2.5,
          "yl": 1.5,
          "ϕ": 0.006
         },
         {
          "xh": 6.5,
          "xl": 5.5,
          "yh": 3.5,
          "yl": 2.5,
          "ϕ": 0.025
         },
         {
          "xh": 6.5,
          "xl": 5.5,
          "yh": 4.5,
          "yl": 3.5,
          "ϕ": 0.035
         },
         {
          "xh": 6.5,
          "xl": 5.5,
          "yh": 5.5,
          "yl": 4.5,
          "ϕ": 0.025
         },
         {
          "xh": 6.5,
          "xl": 5.5,
          "yh": 6.5,
          "yl": 5.5,
          "ϕ": 0.008
         },
         {
          "xh": 6.5,
          "xl": 5.5,
          "yh": 7.5,
          "yl": 6.5,
          "ϕ": 0.001
         },
         {
          "xh": 6.5,
          "xl": 5.5,
          "yh": 8.5,
          "yl": 7.5,
          "ϕ": 0
         },
         {
          "xh": 6.5,
          "xl": 5.5,
          "yh": 9.5,
          "yl": 8.5,
          "ϕ": 0
         },
         {
          "xh": 7.5,
          "xl": 6.5,
          "yh": 0.5,
          "yl": -0.5,
          "ϕ": 0
         },
         {
          "xh": 7.5,
          "xl": 6.5,
          "yh": 1.5,
          "yl": 0.5,
          "ϕ": 0.002
         },
         {
          "xh": 7.5,
          "xl": 6.5,
          "yh": 2.5,
          "yl": 1.5,
          "ϕ": 0.019
         },
         {
          "xh": 7.5,
          "xl": 6.5,
          "yh": 3.5,
          "yl": 2.5,
          "ϕ": 0.047
         },
         {
          "xh": 7.5,
          "xl": 6.5,
          "yh": 4.5,
          "yl": 3.5,
          "ϕ": 0.02
         },
         {
          "xh": 7.5,
          "xl": 6.5,
          "yh": 5.5,
          "yl": 4.5,
          "ϕ": 0.016
         },
         {
          "xh": 7.5,
          "xl": 6.5,
          "yh": 6.5,
          "yl": 5.5,
          "ϕ": 0.001
         },
         {
          "xh": 7.5,
          "xl": 6.5,
          "yh": 7.5,
          "yl": 6.5,
          "ϕ": 0
         },
         {
          "xh": 7.5,
          "xl": 6.5,
          "yh": 8.5,
          "yl": 7.5,
          "ϕ": 0
         },
         {
          "xh": 7.5,
          "xl": 6.5,
          "yh": 9.5,
          "yl": 8.5,
          "ϕ": 0
         },
         {
          "xh": 8.5,
          "xl": 7.5,
          "yh": 0.5,
          "yl": -0.5,
          "ϕ": 0.002
         },
         {
          "xh": 8.5,
          "xl": 7.5,
          "yh": 1.5,
          "yl": 0.5,
          "ϕ": 0.012
         },
         {
          "xh": 8.5,
          "xl": 7.5,
          "yh": 2.5,
          "yl": 1.5,
          "ϕ": 0.032
         },
         {
          "xh": 8.5,
          "xl": 7.5,
          "yh": 3.5,
          "yl": 2.5,
          "ϕ": 0.036
         },
         {
          "xh": 8.5,
          "xl": 7.5,
          "yh": 4.5,
          "yl": 3.5,
          "ϕ": 0.017
         },
         {
          "xh": 8.5,
          "xl": 7.5,
          "yh": 5.5,
          "yl": 4.5,
          "ϕ": 0.003
         },
         {
          "xh": 8.5,
          "xl": 7.5,
          "yh": 6.5,
          "yl": 5.5,
          "ϕ": 0
         },
         {
          "xh": 8.5,
          "xl": 7.5,
          "yh": 7.5,
          "yl": 6.5,
          "ϕ": 0
         },
         {
          "xh": 8.5,
          "xl": 7.5,
          "yh": 8.5,
          "yl": 7.5,
          "ϕ": 0
         },
         {
          "xh": 8.5,
          "xl": 7.5,
          "yh": 9.5,
          "yl": 8.5,
          "ϕ": 0
         },
         {
          "xh": 9.5,
          "xl": 8.5,
          "yh": 0.5,
          "yl": -0.5,
          "ϕ": 0.009
         },
         {
          "xh": 9.5,
          "xl": 8.5,
          "yh": 1.5,
          "yl": 0.5,
          "ϕ": 0.015
         },
         {
          "xh": 9.5,
          "xl": 8.5,
          "yh": 2.5,
          "yl": 1.5,
          "ϕ": 0.044
         },
         {
          "xh": 9.5,
          "xl": 8.5,
          "yh": 3.5,
          "yl": 2.5,
          "ϕ": 0.032
         },
         {
          "xh": 9.5,
          "xl": 8.5,
          "yh": 4.5,
          "yl": 3.5,
          "ϕ": 0.007
         },
         {
          "xh": 9.5,
          "xl": 8.5,
          "yh": 5.5,
          "yl": 4.5,
          "ϕ": 0
         },
         {
          "xh": 9.5,
          "xl": 8.5,
          "yh": 6.5,
          "yl": 5.5,
          "ϕ": 0
         },
         {
          "xh": 9.5,
          "xl": 8.5,
          "yh": 7.5,
          "yl": 6.5,
          "ϕ": 0
         },
         {
          "xh": 9.5,
          "xl": 8.5,
          "yh": 8.5,
          "yl": 7.5,
          "ϕ": 0
         },
         {
          "xh": 9.5,
          "xl": 8.5,
          "yh": 9.5,
          "yl": 8.5,
          "ϕ": 0
         }
        ],
        "data-4562b5aa1fe8e8b64b0eae4ab0d534a8": [
         {
          "EV1": 4.604,
          "EV2": 4.560999999999998
         }
        ]
       },
       "layer": [
        {
         "data": {
          "name": "data-286a68c9292df08f3ed49fe9a3424b0a"
         },
         "encoding": {
          "color": {
           "field": "ϕ",
           "title": "ϕ",
           "type": "quantitative"
          },
          "x": {
           "field": "xl",
           "title": "v1",
           "type": "quantitative"
          },
          "x2": {
           "field": "xh"
          },
          "y": {
           "field": "yl",
           "title": "v2",
           "type": "quantitative"
          },
          "y2": {
           "field": "yh"
          }
         },
         "height": 300,
         "mark": "rect",
         "width": 300
        },
        {
         "data": {
          "name": "data-4562b5aa1fe8e8b64b0eae4ab0d534a8"
         },
         "encoding": {
          "x": {
           "field": "EV1",
           "type": "quantitative"
          },
          "y": {
           "field": "EV2",
           "type": "quantitative"
          }
         },
         "height": 300,
         "mark": {
          "fill": "red",
          "size": 100,
          "type": "point"
         },
         "width": 300
        }
       ]
      },
      "image/png": "[encoded data removed]",
      "text/plain": [
       "<VegaLite 3 object>\n",
       "\n",
       "If you see this message, it means the renderer has not been properly enabled\n",
       "for the frontend that you are using. For more information, see\n",
       "https://altair-viz.github.io/user_guide/troubleshooting.html\n"
      ]
     },
     "execution_count": 156,
     "metadata": {},
     "output_type": "execute_result"
    }
   ],
   "source": [
    "EV_df = pd.DataFrame({'EV1':[EV[0]],'EV2':[EV[1]]})\n",
    "mean_plot = alt.Chart(EV_df, width=300, height=300).mark_point(size=100,fill='red').encode(x='EV1', y='EV2')\n",
    "density_plot + mean_plot"
   ]
  },
  {
   "cell_type": "markdown",
   "metadata": {},
   "source": [
    "### Conditional Expectation"
   ]
  },
  {
   "cell_type": "markdown",
   "metadata": {},
   "source": [
    "You can take the expected value of any random variable, including conditioned random variables. For instance, if we have $\\mathbf Z_1$ and $\\mathbf Z_2$, then $E[\\mathbf Z_1 | \\mathbf Z_2=z_2]$ is the expected value of $\\mathbf Z_1$ when $\\mathbf Z_2$ is $z_2$. That's a single number. "
   ]
  },
  {
   "cell_type": "markdown",
   "metadata": {},
   "source": [
    "<div class=\"alert alert-block alert-info\">\n",
    "<b>Exercise:</b> \n",
    "\n",
    "Using $\\mathbf V_1$ and $\\mathbf V_2$ as in the example above, write code to compute $E[\\mathbf V_2 | \\mathbf V_1 = 7]$. It may help to first compute the necessary marginal and conditional mass functions as I did in the previous section. The value I get is about 3.304.\n",
    "    \n",
    "</div>"
   ]
  },
  {
   "cell_type": "markdown",
   "metadata": {},
   "source": [
    "What's more interesting is when we look at how $E[\\mathbf Z_1 | \\mathbf Z_2=z_2]$ changes as we change $z_2$. We can think of the conditional mean as a function of $z_2$: \n",
    "\n",
    "$$\\mu_{\\mathbf Z_1}(z_2) = E[\\mathbf Z_1 | \\mathbf Z_2=z_2]$$"
   ]
  },
  {
   "cell_type": "markdown",
   "metadata": {},
   "source": [
    "Let's look at an example using the discrete density we've been working with:"
   ]
  },
  {
   "cell_type": "code",
   "execution_count": 162,
   "metadata": {},
   "outputs": [],
   "source": [
    "def marginal_V1(v1):\n",
    "    return sum(joint(v1, v2) for v2 in range(10))\n",
    "    \n",
    "def V2_given_V1_is_v1(v1, v2):\n",
    "    return joint(v1,v2)/marginal_V1(v1)\n",
    "\n",
    "def μ_V2(v1):\n",
    "    return sum(v2*V2_given_V1_is_v1(v1,v2) for v2 in range(10))\n",
    "\n",
    "E_V2_given_V1 = [mu_V2(v1) for v1 in range(10)]"
   ]
  },
  {
   "cell_type": "code",
   "execution_count": 167,
   "metadata": {},
   "outputs": [
    {
     "data": {
      "application/vnd.vegalite.v3+json": {
       "$schema": "https://vega.github.io/schema/vega-lite/v3.4.0.json",
       "config": {
        "mark": {
         "tooltip": null
        },
        "view": {
         "height": 300,
         "width": 400
        }
       },
       "datasets": {
        "data-286a68c9292df08f3ed49fe9a3424b0a": [
         {
          "xh": 0.5,
          "xl": -0.5,
          "yh": 0.5,
          "yl": -0.5,
          "ϕ": 0
         },
         {
          "xh": 0.5,
          "xl": -0.5,
          "yh": 1.5,
          "yl": 0.5,
          "ϕ": 0
         },
         {
          "xh": 0.5,
          "xl": -0.5,
          "yh": 2.5,
          "yl": 1.5,
          "ϕ": 0.001
         },
         {
          "xh": 0.5,
          "xl": -0.5,
          "yh": 3.5,
          "yl": 2.5,
          "ϕ": 0.009
         },
         {
          "xh": 0.5,
          "xl": -0.5,
          "yh": 4.5,
          "yl": 3.5,
          "ϕ": 0.03
         },
         {
          "xh": 0.5,
          "xl": -0.5,
          "yh": 5.5,
          "yl": 4.5,
          "ϕ": 0.032
         },
         {
          "xh": 0.5,
          "xl": -0.5,
          "yh": 6.5,
          "yl": 5.5,
          "ϕ": 0.019
         },
         {
          "xh": 0.5,
          "xl": -0.5,
          "yh": 7.5,
          "yl": 6.5,
          "ϕ": 0.005
         },
         {
          "xh": 0.5,
          "xl": -0.5,
          "yh": 8.5,
          "yl": 7.5,
          "ϕ": 0
         },
         {
          "xh": 0.5,
          "xl": -0.5,
          "yh": 9.5,
          "yl": 8.5,
          "ϕ": 0
         },
         {
          "xh": 1.5,
          "xl": 0.5,
          "yh": 0.5,
          "yl": -0.5,
          "ϕ": 0
         },
         {
          "xh": 1.5,
          "xl": 0.5,
          "yh": 1.5,
          "yl": 0.5,
          "ϕ": 0
         },
         {
          "xh": 1.5,
          "xl": 0.5,
          "yh": 2.5,
          "yl": 1.5,
          "ϕ": 0
         },
         {
          "xh": 1.5,
          "xl": 0.5,
          "yh": 3.5,
          "yl": 2.5,
          "ϕ": 0.002
         },
         {
          "xh": 1.5,
          "xl": 0.5,
          "yh": 4.5,
          "yl": 3.5,
          "ϕ": 0.012
         },
         {
          "xh": 1.5,
          "xl": 0.5,
          "yh": 5.5,
          "yl": 4.5,
          "ϕ": 0.028
         },
         {
          "xh": 1.5,
          "xl": 0.5,
          "yh": 6.5,
          "yl": 5.5,
          "ϕ": 0.03
         },
         {
          "xh": 1.5,
          "xl": 0.5,
          "yh": 7.5,
          "yl": 6.5,
          "ϕ": 0.012
         },
         {
          "xh": 1.5,
          "xl": 0.5,
          "yh": 8.5,
          "yl": 7.5,
          "ϕ": 0.005
         },
         {
          "xh": 1.5,
          "xl": 0.5,
          "yh": 9.5,
          "yl": 8.5,
          "ϕ": 0
         },
         {
          "xh": 2.5,
          "xl": 1.5,
          "yh": 0.5,
          "yl": -0.5,
          "ϕ": 0
         },
         {
          "xh": 2.5,
          "xl": 1.5,
          "yh": 1.5,
          "yl": 0.5,
          "ϕ": 0
         },
         {
          "xh": 2.5,
          "xl": 1.5,
          "yh": 2.5,
          "yl": 1.5,
          "ϕ": 0
         },
         {
          "xh": 2.5,
          "xl": 1.5,
          "yh": 3.5,
          "yl": 2.5,
          "ϕ": 0
         },
         {
          "xh": 2.5,
          "xl": 1.5,
          "yh": 4.5,
          "yl": 3.5,
          "ϕ": 0.002
         },
         {
          "xh": 2.5,
          "xl": 1.5,
          "yh": 5.5,
          "yl": 4.5,
          "ϕ": 0.02
         },
         {
          "xh": 2.5,
          "xl": 1.5,
          "yh": 6.5,
          "yl": 5.5,
          "ϕ": 0.035
         },
         {
          "xh": 2.5,
          "xl": 1.5,
          "yh": 7.5,
          "yl": 6.5,
          "ϕ": 0.027
         },
         {
          "xh": 2.5,
          "xl": 1.5,
          "yh": 8.5,
          "yl": 7.5,
          "ϕ": 0.003
         },
         {
          "xh": 2.5,
          "xl": 1.5,
          "yh": 9.5,
          "yl": 8.5,
          "ϕ": 0.004
         },
         {
          "xh": 3.5,
          "xl": 2.5,
          "yh": 0.5,
          "yl": -0.5,
          "ϕ": 0
         },
         {
          "xh": 3.5,
          "xl": 2.5,
          "yh": 1.5,
          "yl": 0.5,
          "ϕ": 0
         },
         {
          "xh": 3.5,
          "xl": 2.5,
          "yh": 2.5,
          "yl": 1.5,
          "ϕ": 0
         },
         {
          "xh": 3.5,
          "xl": 2.5,
          "yh": 3.5,
          "yl": 2.5,
          "ϕ": 0
         },
         {
          "xh": 3.5,
          "xl": 2.5,
          "yh": 4.5,
          "yl": 3.5,
          "ϕ": 0.008
         },
         {
          "xh": 3.5,
          "xl": 2.5,
          "yh": 5.5,
          "yl": 4.5,
          "ϕ": 0.021
         },
         {
          "xh": 3.5,
          "xl": 2.5,
          "yh": 6.5,
          "yl": 5.5,
          "ϕ": 0.038
         },
         {
          "xh": 3.5,
          "xl": 2.5,
          "yh": 7.5,
          "yl": 6.5,
          "ϕ": 0.039
         },
         {
          "xh": 3.5,
          "xl": 2.5,
          "yh": 8.5,
          "yl": 7.5,
          "ϕ": 0.011
         },
         {
          "xh": 3.5,
          "xl": 2.5,
          "yh": 9.5,
          "yl": 8.5,
          "ϕ": 0.002
         },
         {
          "xh": 4.5,
          "xl": 3.5,
          "yh": 0.5,
          "yl": -0.5,
          "ϕ": 0
         },
         {
          "xh": 4.5,
          "xl": 3.5,
          "yh": 1.5,
          "yl": 0.5,
          "ϕ": 0
         },
         {
          "xh": 4.5,
          "xl": 3.5,
          "yh": 2.5,
          "yl": 1.5,
          "ϕ": 0
         },
         {
          "xh": 4.5,
          "xl": 3.5,
          "yh": 3.5,
          "yl": 2.5,
          "ϕ": 0
         },
         {
          "xh": 4.5,
          "xl": 3.5,
          "yh": 4.5,
          "yl": 3.5,
          "ϕ": 0.004
         },
         {
          "xh": 4.5,
          "xl": 3.5,
          "yh": 5.5,
          "yl": 4.5,
          "ϕ": 0.032
         },
         {
          "xh": 4.5,
          "xl": 3.5,
          "yh": 6.5,
          "yl": 5.5,
          "ϕ": 0.037
         },
         {
          "xh": 4.5,
          "xl": 3.5,
          "yh": 7.5,
          "yl": 6.5,
          "ϕ": 0.015
         },
         {
          "xh": 4.5,
          "xl": 3.5,
          "yh": 8.5,
          "yl": 7.5,
          "ϕ": 0.004
         },
         {
          "xh": 4.5,
          "xl": 3.5,
          "yh": 9.5,
          "yl": 8.5,
          "ϕ": 0.001
         },
         {
          "xh": 5.5,
          "xl": 4.5,
          "yh": 0.5,
          "yl": -0.5,
          "ϕ": 0
         },
         {
          "xh": 5.5,
          "xl": 4.5,
          "yh": 1.5,
          "yl": 0.5,
          "ϕ": 0
         },
         {
          "xh": 5.5,
          "xl": 4.5,
          "yh": 2.5,
          "yl": 1.5,
          "ϕ": 0.001
         },
         {
          "xh": 5.5,
          "xl": 4.5,
          "yh": 3.5,
          "yl": 2.5,
          "ϕ": 0.005
         },
         {
          "xh": 5.5,
          "xl": 4.5,
          "yh": 4.5,
          "yl": 3.5,
          "ϕ": 0.018
         },
         {
          "xh": 5.5,
          "xl": 4.5,
          "yh": 5.5,
          "yl": 4.5,
          "ϕ": 0.043
         },
         {
          "xh": 5.5,
          "xl": 4.5,
          "yh": 6.5,
          "yl": 5.5,
          "ϕ": 0.021
         },
         {
          "xh": 5.5,
          "xl": 4.5,
          "yh": 7.5,
          "yl": 6.5,
          "ϕ": 0.008
         },
         {
          "xh": 5.5,
          "xl": 4.5,
          "yh": 8.5,
          "yl": 7.5,
          "ϕ": 0.002
         },
         {
          "xh": 5.5,
          "xl": 4.5,
          "yh": 9.5,
          "yl": 8.5,
          "ϕ": 0
         },
         {
          "xh": 6.5,
          "xl": 5.5,
          "yh": 0.5,
          "yl": -0.5,
          "ϕ": 0
         },
         {
          "xh": 6.5,
          "xl": 5.5,
          "yh": 1.5,
          "yl": 0.5,
          "ϕ": 0
         },
         {
          "xh": 6.5,
          "xl": 5.5,
          "yh": 2.5,
          "yl": 1.5,
          "ϕ": 0.006
         },
         {
          "xh": 6.5,
          "xl": 5.5,
          "yh": 3.5,
          "yl": 2.5,
          "ϕ": 0.025
         },
         {
          "xh": 6.5,
          "xl": 5.5,
          "yh": 4.5,
          "yl": 3.5,
          "ϕ": 0.035
         },
         {
          "xh": 6.5,
          "xl": 5.5,
          "yh": 5.5,
          "yl": 4.5,
          "ϕ": 0.025
         },
         {
          "xh": 6.5,
          "xl": 5.5,
          "yh": 6.5,
          "yl": 5.5,
          "ϕ": 0.008
         },
         {
          "xh": 6.5,
          "xl": 5.5,
          "yh": 7.5,
          "yl": 6.5,
          "ϕ": 0.001
         },
         {
          "xh": 6.5,
          "xl": 5.5,
          "yh": 8.5,
          "yl": 7.5,
          "ϕ": 0
         },
         {
          "xh": 6.5,
          "xl": 5.5,
          "yh": 9.5,
          "yl": 8.5,
          "ϕ": 0
         },
         {
          "xh": 7.5,
          "xl": 6.5,
          "yh": 0.5,
          "yl": -0.5,
          "ϕ": 0
         },
         {
          "xh": 7.5,
          "xl": 6.5,
          "yh": 1.5,
          "yl": 0.5,
          "ϕ": 0.002
         },
         {
          "xh": 7.5,
          "xl": 6.5,
          "yh": 2.5,
          "yl": 1.5,
          "ϕ": 0.019
         },
         {
          "xh": 7.5,
          "xl": 6.5,
          "yh": 3.5,
          "yl": 2.5,
          "ϕ": 0.047
         },
         {
          "xh": 7.5,
          "xl": 6.5,
          "yh": 4.5,
          "yl": 3.5,
          "ϕ": 0.02
         },
         {
          "xh": 7.5,
          "xl": 6.5,
          "yh": 5.5,
          "yl": 4.5,
          "ϕ": 0.016
         },
         {
          "xh": 7.5,
          "xl": 6.5,
          "yh": 6.5,
          "yl": 5.5,
          "ϕ": 0.001
         },
         {
          "xh": 7.5,
          "xl": 6.5,
          "yh": 7.5,
          "yl": 6.5,
          "ϕ": 0
         },
         {
          "xh": 7.5,
          "xl": 6.5,
          "yh": 8.5,
          "yl": 7.5,
          "ϕ": 0
         },
         {
          "xh": 7.5,
          "xl": 6.5,
          "yh": 9.5,
          "yl": 8.5,
          "ϕ": 0
         },
         {
          "xh": 8.5,
          "xl": 7.5,
          "yh": 0.5,
          "yl": -0.5,
          "ϕ": 0.002
         },
         {
          "xh": 8.5,
          "xl": 7.5,
          "yh": 1.5,
          "yl": 0.5,
          "ϕ": 0.012
         },
         {
          "xh": 8.5,
          "xl": 7.5,
          "yh": 2.5,
          "yl": 1.5,
          "ϕ": 0.032
         },
         {
          "xh": 8.5,
          "xl": 7.5,
          "yh": 3.5,
          "yl": 2.5,
          "ϕ": 0.036
         },
         {
          "xh": 8.5,
          "xl": 7.5,
          "yh": 4.5,
          "yl": 3.5,
          "ϕ": 0.017
         },
         {
          "xh": 8.5,
          "xl": 7.5,
          "yh": 5.5,
          "yl": 4.5,
          "ϕ": 0.003
         },
         {
          "xh": 8.5,
          "xl": 7.5,
          "yh": 6.5,
          "yl": 5.5,
          "ϕ": 0
         },
         {
          "xh": 8.5,
          "xl": 7.5,
          "yh": 7.5,
          "yl": 6.5,
          "ϕ": 0
         },
         {
          "xh": 8.5,
          "xl": 7.5,
          "yh": 8.5,
          "yl": 7.5,
          "ϕ": 0
         },
         {
          "xh": 8.5,
          "xl": 7.5,
          "yh": 9.5,
          "yl": 8.5,
          "ϕ": 0
         },
         {
          "xh": 9.5,
          "xl": 8.5,
          "yh": 0.5,
          "yl": -0.5,
          "ϕ": 0.009
         },
         {
          "xh": 9.5,
          "xl": 8.5,
          "yh": 1.5,
          "yl": 0.5,
          "ϕ": 0.015
         },
         {
          "xh": 9.5,
          "xl": 8.5,
          "yh": 2.5,
          "yl": 1.5,
          "ϕ": 0.044
         },
         {
          "xh": 9.5,
          "xl": 8.5,
          "yh": 3.5,
          "yl": 2.5,
          "ϕ": 0.032
         },
         {
          "xh": 9.5,
          "xl": 8.5,
          "yh": 4.5,
          "yl": 3.5,
          "ϕ": 0.007
         },
         {
          "xh": 9.5,
          "xl": 8.5,
          "yh": 5.5,
          "yl": 4.5,
          "ϕ": 0
         },
         {
          "xh": 9.5,
          "xl": 8.5,
          "yh": 6.5,
          "yl": 5.5,
          "ϕ": 0
         },
         {
          "xh": 9.5,
          "xl": 8.5,
          "yh": 7.5,
          "yl": 6.5,
          "ϕ": 0
         },
         {
          "xh": 9.5,
          "xl": 8.5,
          "yh": 8.5,
          "yl": 7.5,
          "ϕ": 0
         },
         {
          "xh": 9.5,
          "xl": 8.5,
          "yh": 9.5,
          "yl": 8.5,
          "ϕ": 0
         }
        ],
        "data-9e56089beb1dd571a6679b41db58d80a": [
         {
          "v1": 0,
          "μ": 4.770833333333333
         },
         {
          "v1": 1,
          "μ": 5.595505617977527
         },
         {
          "v1": 2,
          "μ": 6.230769230769231
         },
         {
          "v1": 3,
          "μ": 6.2521008403361344
         },
         {
          "v1": 4,
          "μ": 5.849462365591397
         },
         {
          "v1": 5,
          "μ": 5.122448979591836
         },
         {
          "v1": 6,
          "μ": 4.07
         },
         {
          "v1": 7,
          "μ": 3.3047619047619046
         },
         {
          "v1": 8,
          "μ": 2.6176470588235294
         },
         {
          "v1": 9,
          "μ": 2.1214953271028034
         }
        ]
       },
       "layer": [
        {
         "data": {
          "name": "data-286a68c9292df08f3ed49fe9a3424b0a"
         },
         "encoding": {
          "color": {
           "field": "ϕ",
           "title": "ϕ",
           "type": "quantitative"
          },
          "x": {
           "field": "xl",
           "title": "v1",
           "type": "quantitative"
          },
          "x2": {
           "field": "xh"
          },
          "y": {
           "field": "yl",
           "title": "v2",
           "type": "quantitative"
          },
          "y2": {
           "field": "yh"
          }
         },
         "height": 300,
         "mark": "rect",
         "width": 300
        },
        {
         "data": {
          "name": "data-9e56089beb1dd571a6679b41db58d80a"
         },
         "encoding": {
          "x": {
           "field": "v1",
           "type": "quantitative"
          },
          "y": {
           "field": "μ",
           "type": "quantitative"
          }
         },
         "height": 300,
         "mark": {
          "color": "red",
          "size": 5,
          "type": "line"
         },
         "width": 300
        }
       ]
      },
      "image/png": "[encoded data removed]",
      "text/plain": [
       "<VegaLite 3 object>\n",
       "\n",
       "If you see this message, it means the renderer has not been properly enabled\n",
       "for the frontend that you are using. For more information, see\n",
       "https://altair-viz.github.io/user_guide/troubleshooting.html\n"
      ]
     },
     "execution_count": 167,
     "metadata": {},
     "output_type": "execute_result"
    }
   ],
   "source": [
    "E_V2_given_V1_df = pd.DataFrame({'v1':range(10),'μ':E_V2_given_V1})\n",
    "mean_plot = alt.Chart(E_V2_given_V1_df, width=300, height=300).mark_line(size=5, color='red').encode(x='v1', y='μ')\n",
    "density_plot + mean_plot"
   ]
  },
  {
   "cell_type": "markdown",
   "metadata": {},
   "source": [
    "What we've done is take the expected value within each \"column\", plotted it as a red dot, and then connected the dots. That's all the conditional mean is. The idea is the same with continuous densities, except the \"columns\" are replaced with infinitesimal slices of the joint distribution. A little harder to conceptualize, and harder to code clearly, but the idea is exactly the same."
   ]
  },
  {
   "cell_type": "markdown",
   "metadata": {},
   "source": [
    "This is pretty nifty and clearly relevant to our machine learning problem with $\\mathbf X$ and $\\mathbf Y$. If you give me a value that you observed from $\\mathbf X$ (which is $x$), and I have the function $\\mu_{\\mathbf Y}$, then I can give you the value that I \"expect\" that $\\mathbf Y$ had by computing $\\mu_{\\mathbf Y}(x)$. That is a prediction for $y$! Of course, we don't know what the joint distribution of $\\mathbf X$ and $\\mathbf Y$ is, or even just the conditional distribution of $\\mathbf Y|\\mathbf X = x$, so we can't compute $\\mu_{\\mathbf Y}$. But at least we've boiled down the question to figuring out what $\\mu_{\\mathbf Y}$ might be by looking at a bunch of data."
   ]
  },
  {
   "cell_type": "markdown",
   "metadata": {},
   "source": [
    "<div class=\"alert alert-block alert-info\">\n",
    "<b>Exercise:</b> \n",
    "\n",
    "So far we've only considered distributions that are either entirely discrete or entirely continuous, but it's totally possible to have mixed distributions. For instance, we might imagine a fruit-generating factory where the type of fruit is discrete, but the size of the fruit is a continuous value. \n",
    "    \n",
    "Let's say $\\mathbf X$ is a continuous random variable that is uniformly distributed between 0 and 1 and $\\mathbf Y$ is a discrete random variable that can only be 0 or 1. Let's say this is the conditional mass function:\n",
    "    \n",
    "$$\n",
    "\\phi_{\\mathbf Y|\\mathbf X=x}(y) \n",
    "=\n",
    "\\begin{cases}\n",
    "x & \\text{for } y=1 \\\\\n",
    "1-x & \\text{for } y=0\n",
    "\\end{cases}\n",
    "$$\n",
    "    \n",
    "To wrap your head around this, first see if you can use this conditional mass to compute $P(\\mathbf Y=1|\\mathbf X=0.3)$.\n",
    "    \n",
    "What is $E[\\mathbf Y|\\mathbf X = 0.3]$? What is $\\mu_{\\mathbf Y}(x) = E[\\mathbf Y|\\mathbf X = x]$ for an arbitrary value of $x$?\n",
    "    \n",
    "I told you what the marginal density of $\\mathbf X$ was, so in theory you could compute the joint (recall $\\phi_{\\mathbf X, \\mathbf Y} = \\phi_{\\mathbf Y|\\mathbf X} \\phi_{\\mathbf X}$). But does your answer depend on it in any way above and beyond what the conditional distribution tells you?\n",
    "    \n",
    "</div>"
   ]
  },
  {
   "cell_type": "markdown",
   "metadata": {},
   "source": [
    "The upshot of this is that maybe we don't have to care about figuring out what the whole joint density $\\phi_{\\mathbf Y, \\mathbf X}(x,y)$ is to make useful predictions. Maybe all we need is $\\phi_{\\mathbf Y|\\mathbf X=x}(y)$, or, better yet, $\\mu_{\\mathbf Y}(x)$. "
   ]
  },
  {
   "cell_type": "markdown",
   "metadata": {},
   "source": [
    "<div class=\"alert alert-block alert-info\">\n",
    "<b>Exercise:</b> \n",
    "\n",
    "Explain in your own words why guessing the joint density $\\phi_{\\mathbf Y, \\mathbf X}(x,y)$ might be more work than guessing the conditional density $\\phi_{\\mathbf Y|\\mathbf X=x}(y)$, which might be more work than guessing the conditional mean $\\mu_{\\mathbf Y}(x)$. Relative to each other, how much information about the whole data-generating factory is contained in each of these functions? Can two distributions of $\\mathbf X$ and $\\mathbf Y$ with the same conditional mean have different conditional densities, and vice versa? Can two distributions with the same conditional density have different joint densities, and vice versa?  \n",
    "    \n",
    "</div>"
   ]
  },
  {
   "cell_type": "markdown",
   "metadata": {},
   "source": [
    "### Rules for Expectation"
   ]
  },
  {
   "cell_type": "markdown",
   "metadata": {},
   "source": [
    "We can always compute an expectation from a probability distribution. But sometimes it's hard to write out the distriubtion in question if it's some kind of transformation of random variables. Thankfully, though, there are ways to compute the expected value directly from the random variable and the transformation without having to compute the distribution of the transformed random variable."
   ]
  },
  {
   "cell_type": "markdown",
   "metadata": {},
   "source": [
    "#### Sums of random variables"
   ]
  },
  {
   "cell_type": "markdown",
   "metadata": {},
   "source": [
    "One important example of this is with sums of random variables. Let's say $\\mathbf Z = \\mathbf V + \\mathbf U$. It turns out that \n",
    "\n",
    "$$E[\\mathbf Z] = E[\\mathbf V] + E[\\mathbf U]$$\n",
    "\n",
    "Let's see why. The hardest part of this is at the beginning:\n",
    "\n",
    "$$E[\\mathbf Z] = \\int z \\phi_{\\mathbf Z}(z) dz = \\int \\int (u+v) \\phi_{\\mathbf V, \\mathbf U}(u,v) du dv$$"
   ]
  },
  {
   "cell_type": "markdown",
   "metadata": {},
   "source": [
    "I was very confused by this when I first saw it. Don't we need to figure out what $\\phi_{\\mathbf Z}$ is in terms of $\\phi_{\\mathbf U, \\mathbf V}$? We could definitely do that, but it turns out we don't have to. "
   ]
  },
  {
   "cell_type": "markdown",
   "metadata": {},
   "source": [
    "- linearity: sum of RVs, product with scalar\n",
    "- transformation: lazy statistician"
   ]
  },
  {
   "cell_type": "markdown",
   "metadata": {},
   "source": [
    "### Variance"
   ]
  }
 ],
 "metadata": {
  "kernelspec": {
   "display_name": "Python 3",
   "language": "python",
   "name": "python3"
  },
  "language_info": {
   "codemirror_mode": {
    "name": "ipython",
    "version": 3
   },
   "file_extension": ".py",
   "mimetype": "text/x-python",
   "name": "python",
   "nbconvert_exporter": "python",
   "pygments_lexer": "ipython3",
   "version": "3.7.3"
  }
 },
 "nbformat": 4,
 "nbformat_minor": 4
}
