{
 "cells": [
  {
   "cell_type": "markdown",
   "metadata": {},
   "source": [
    "## Where does data come from?"
   ]
  },
  {
   "cell_type": "markdown",
   "metadata": {},
   "source": [
    "In the example above, we demonstrated some code that generates fake data $X$ and $Y$. On the other hand, real data comes from the real world, not from some python code. For every dataset, there is an immensely complex network of causal interactions that ultimately \"produces\" the data. \n",
    "\n",
    "For example, in our blood pressure example, a patient's pre-treatment vital signs are caused by their physiological state: their genetics, life history, what they ate for breakfast that morning, whether or not they just ran up a flight of stairs, and so on and so forth. Taking a drug influences the levels of certain chemicals in the blood, which are taken up at particular rates in certain organs by certain enzymes, the levels of which are impacted by the patient's genetics and prior physiological state, which was influenced by their life history, etc. Thus the impact of the drug on cellular processes is mediated by these factors. The cells respond by increasing or decreasing their production of some proteins or metabolites, which, in combination with the immediate condition of the patient when the measurement is taken, determines the post-treatment blood pressure. \n",
    "\n",
    "Or, let's say we're trying to determine whether or not there is a cat in a photograph. The cat being in front of the camera when the photo was taken ($y_i$) could be caused by a huge number of factors, and the values of the pixels in the photograph ($x_i$) are caused by the reflection of photons emitted from sources of light off the cat (and other objects) and the mechanics of the detection of light inside the camera.\n",
    "\n",
    "In a nutshell, the world is complicated. There is no way that mere mortals could ever write code accurate enough to perfectly simulate the exact processes that produce data about complex real-world phenomena.\n",
    "\n",
    "But, despite the complexity, you should start thinking about that complex web of causality as \"code\" that's being run in some cosmic simulation. Maybe you can imagine that there are \"data gods\" that write and are running this code. We'll never see their code, and we'll never be able to understand it, but somewhere, out there, that metaphysical code is running, and it's generating the observations that we see in our data."
   ]
  },
  {
   "cell_type": "markdown",
   "metadata": {},
   "source": [
    "You can think of that code as a little \"factory\" that pumps out observations of $x_i$ and $y_i$, one at a time. The factory is behind a curtain that we can't ever look behind, but we can see the pile of $x_i$s and $y_i$s that come out of it, which are our $X$ and $Y$."
   ]
  },
  {
   "cell_type": "markdown",
   "metadata": {},
   "source": [
    "![](factory.png)"
   ]
  },
  {
   "cell_type": "markdown",
   "metadata": {},
   "source": [
    "If we had that code, we'd be able to reverse engineer it to find the most likely value of $y_i$ given $x_i$ as accurately as would be possible with those predictors. In practice, however, we can only build a *model* of that code. Our model will never capture the complexities of reality, the same way that a model plane doesn't even begin to approach the complexity of a real aircraft. But, ideally, it will be similar enough in ways that are important for the task at hand: if we're using a model plane just to demonstrate what an aircraft might look like, we don't need the model to have functioning jet engines. And if all we need to do is estimate $y_i$ for a new $x_i$, we don't exactly need to understand the complex web of causality linking the two together."
   ]
  },
  {
   "cell_type": "markdown",
   "metadata": {},
   "source": [
    "We do, however, need a way to talk about the relationship that $x_i$ and $y_i$ might have. And to do that, we need a way to talk abstractly about the \"code\" or \"data factory\" that's behind the curtain, the same way we developed abstract terms to describe our data. Thankfully, the language of probability works perfectly for that."
   ]
  },
  {
   "cell_type": "markdown",
   "metadata": {},
   "source": [
    "## Random variables are factories that generate data"
   ]
  },
  {
   "cell_type": "markdown",
   "metadata": {},
   "source": [
    "The data factories we're interested in are the kind that output $x_i$s and $y_i$s, but to understand how these factories work it's better to consider a simpler factory that produces one number at a time, instead of one vector $x_i$ and one number $y_i$. \n",
    "\n",
    "We'll call our factory $\\mathbf Z$. This factory pushes out one value $z_i$ at a time. Furthermore, let's say that half the time you get a $1$ and half the time you get a $0$; those are the only values that the $\\mathbf Z$ factory can produce. And the factory is built to reset itself between producing each value, so whatever $z_i$ is has no impact on $z_{i+1}$."
   ]
  },
  {
   "cell_type": "markdown",
   "metadata": {},
   "source": [
    "In the language of probability theory, $z_i$ are **realizations** from $\\mathbf Z$, which has a **distribution**:\n",
    "\n",
    "$$\n",
    "\\begin{array}{rcl}\n",
    "P(\\mathbf Z = 0) &=& 1/2 \\\\ \n",
    "P(\\mathbf Z = 1) &=& 1/2\n",
    "\\end{array}\n",
    "\\quad \\quad \\text{or} \\quad \\quad\n",
    "P(\\mathbf Z=z) =\n",
    "\\begin{cases}\n",
    "1/2 & \\text{for }z=0 \\\\\n",
    "1/2 & \\text{for }z=1\n",
    "\\end{cases}\n",
    "$$"
   ]
  },
  {
   "cell_type": "markdown",
   "metadata": {},
   "source": [
    "What we've been loosely calling a \"factory\" is a **random variable** in the language of probability theory. But that's just a name. You can keep thinking of them as factories, or code, that generate data."
   ]
  },
  {
   "cell_type": "markdown",
   "metadata": {},
   "source": [
    "<div class=\"alert alert-block alert-warning\">\n",
    "<b>Note:</b> \n",
    "Random variables are often written in uppercase, (e.g. Z) and their realizations in lowercase (z). We're going to be using uppercase for matrices (and sets), so I'm going to use boldface in conjunction with uppercase ($\\mathbf Z$) to denote random variables.\n",
    "</div>"
   ]
  },
  {
   "cell_type": "markdown",
   "metadata": {},
   "source": [
    "Ok, so if the random variable is a factory, and the realizations of the random variable are the output of that factory (the data we get to see), then how do we read a statement like $P(\\mathbf Z = 0) = 1/2$? Well, that just means that the value $z$ that $\\mathbf Z$ produces is $0$ half of the time. But what exactly do we mean by \"half the time\"? While we usually don't have to think deeper than this, you'll see later that it is sometimes necessary to have a more rigorous definition of probability."
   ]
  },
  {
   "cell_type": "markdown",
   "metadata": {},
   "source": [
    "<div class=\"alert alert-block alert-info\">\n",
    "<b>Exercise:</b> \n",
    "\n",
    "Remember that the entire purpose of talking about these factories is so that we can imagine what's behind the curtain, producing the data that we observe. Think of a real-world scenario where we could pretend that the data we observe was generated by $\\mathbf Z$. In other words, what's something we could measure in the real world that we might model using $\\bf Z$?\n",
    "    \n",
    "</div>"
   ]
  },
  {
   "cell_type": "markdown",
   "metadata": {},
   "source": [
    "Let's build that definition. We'll start with some raw materials. All factories have raw materials that go into them, which end up being turned into the finished product. In a similar way, random variables have inputs which get mapped to realized values. We'll call them \"data ore\": the unrefined precursor that gets transformed by our factory (random variable $\\mathbf Z$) into the data product $z$. The data ore exists in units (data ore nuggets). The factory takes one nugget at a time and transforms it into a realization.\n",
    "\n",
    "The nuggets are kept in an big silo called $\\Omega$ before they go to $\\mathbf Z$. This silo is filled to the brim with *all* of the possible nuggets that could be fed into the factory, one of each of them. It's also a magic silo, so when you take out a nugget, another one exactly like it is mined out of the depths of the cosmos to take its place in the silo."
   ]
  },
  {
   "cell_type": "markdown",
   "metadata": {},
   "source": [
    "![](factory_rv.png)"
   ]
  },
  {
   "cell_type": "markdown",
   "metadata": {},
   "source": [
    "Each nugget is gets transformed into a value of $z$, but the process isn't random. For instance, if a nugget named \"Karl\" turned into a 1 when fed through $\\mathbf Z$, then we would *always* get a 1 when Karl goes into $\\mathbf Z$. But we know that sometimes $\\mathbf Z$ produces 0s, so there must be other nuggets whose destiny is to become 0s, just like Karl's destiny is to be a 1. The \"randomness\" in $\\mathbf Z$ isn't caused by what's in the factory, it's caused by randomly picking a nugget to throw into it."
   ]
  },
  {
   "cell_type": "markdown",
   "metadata": {},
   "source": [
    "We can even code up our little example, imagining that we have 10 nuggets, boringly named \"0\", \"1\", \"2\"... \"9\":"
   ]
  },
  {
   "cell_type": "code",
   "execution_count": 5,
   "metadata": {},
   "outputs": [],
   "source": [
    "def Z(ω): # factory (random variable)\n",
    "    if ω in set([1,4,5,8,9]): # these are the outcomes (nuggets) that map to the value 1 \n",
    "        return 1\n",
    "    if ω in set([0,2,3,6,7]): # these are the outcomes (nuggets) that map to the value 0 \n",
    "        return 0\n",
    "Z.Ω = set([0,1,2,3,4,5,6,7,8,9]) # sample space (silo) of outcomes (ore nuggets) attached to Z\n",
    "    \n",
    "import random\n",
    "def realize(rand_var): # run the assembly line!\n",
    "    ω = random.sample(rand_var.Ω, 1)[0] # grab a single nugget out of the silo at random\n",
    "    return rand_var(ω) # push it through the factory"
   ]
  },
  {
   "cell_type": "markdown",
   "metadata": {},
   "source": [
    "<div class=\"alert alert-block alert-warning\">\n",
    "<b>Python Tip:</b> \n",
    "   \n",
    "`random.sample(x,n)` grabs `n` values at random out of the set `x` and returns them as a list.\n",
    "</div>"
   ]
  },
  {
   "cell_type": "markdown",
   "metadata": {},
   "source": [
    "Here are 20 observations $z=[z_1, z_2, \\dots z_{20}]$, fresh off the assembly line of the $\\mathbf Z$ factory:"
   ]
  },
  {
   "cell_type": "code",
   "execution_count": 6,
   "metadata": {},
   "outputs": [
    {
     "data": {
      "text/plain": [
       "[0, 1, 1, 0, 0, 1, 0, 0, 1, 1, 1, 1, 1, 0, 0, 0, 0, 1, 1, 0]"
      ]
     },
     "execution_count": 6,
     "metadata": {},
     "output_type": "execute_result"
    }
   ],
   "source": [
    "z = [realize(Z) for i in range(20)] \n",
    "z"
   ]
  },
  {
   "cell_type": "markdown",
   "metadata": {},
   "source": [
    "Now we're ready to define probability: the probability of an realization (a particular value $z$) is just the proportion of the silo that's taken up by nuggets that are destined to become that value $z$ when fed through $\\mathbf Z$. That's it. We denote that proportion with the notation $P(\\mathbf Z = z)$. In our example above, saying $P(\\mathbf Z = 1) = 1/2$ means that half of all the possible nuggets that could go into $\\mathbf Z$ would produce a 1."
   ]
  },
  {
   "cell_type": "markdown",
   "metadata": {},
   "source": [
    "That's a definition we can code up:"
   ]
  },
  {
   "cell_type": "code",
   "execution_count": 7,
   "metadata": {},
   "outputs": [],
   "source": [
    "def P(rand_var, realization):\n",
    "    A = set(ω for ω in rand_var.Ω if rand_var(ω) in realization) # what are all the nuggets that map to the value(s) in question?\n",
    "    return len(A)/len(rand_var.Ω) # what is the \"volume\" of those nuggets relative to the volume of the silo Ω?"
   ]
  },
  {
   "cell_type": "code",
   "execution_count": 8,
   "metadata": {},
   "outputs": [
    {
     "data": {
      "text/plain": [
       "(0.5, 0.5)"
      ]
     },
     "execution_count": 8,
     "metadata": {},
     "output_type": "execute_result"
    }
   ],
   "source": [
    "P(Z,[0]), P(Z,[1]) # P(z=0), P(z=1)"
   ]
  },
  {
   "cell_type": "markdown",
   "metadata": {},
   "source": [
    "So to build a factory that makes 0s and 1s in even proportions, all I had to do was evenly split up the number of nuggets that are destined to produce each value. It also doesn't matter what I call the nuggets. For example, here is equally good code to implement $\\mathbf Z$:"
   ]
  },
  {
   "cell_type": "code",
   "execution_count": 9,
   "metadata": {},
   "outputs": [
    {
     "data": {
      "text/plain": [
       "[0, 1, 1, 1, 1, 0, 0, 1, 1, 0, 1, 1, 1, 0, 1, 1, 1, 0, 1, 0]"
      ]
     },
     "execution_count": 9,
     "metadata": {},
     "output_type": "execute_result"
    }
   ],
   "source": [
    "def Z(ω): # factory (random variable)\n",
    "    if ω in set([-1234]): # these are the outcomes (nuggets) that map to the value 1 \n",
    "        return 1\n",
    "    if ω in set([980123]): # these are the outcomes (nuggets) that map to the value 0 \n",
    "        return 0\n",
    "Z.Ω = set([980123, -1234]) # sample space (silo) of outcomes (ore nuggets) attached to Z\n",
    "\n",
    "[realize(Z) for i in range(20)] "
   ]
  },
  {
   "cell_type": "markdown",
   "metadata": {},
   "source": [
    "<div class=\"alert alert-block alert-info\">\n",
    "<b>Exercise:</b> \n",
    "\n",
    "Write code for a new random variable $\\mathbf W$ that behaves like this:\n",
    "    \n",
    "$$\n",
    "P(\\mathbf W=w) =\n",
    "\\begin{cases}\n",
    "0.1 \\dots  & \\text{for }w=-1 \\\\\n",
    "0.4 \\dots & \\text{for }w=0 \\\\\n",
    "0.2 & \\text{for }w=1 \\\\\n",
    "0.3 & \\text{for }w=2\n",
    "\\end{cases}\n",
    "$$\n",
    "    \n",
    "You'll need to make your own nugget silo `Ω` and define the function `W(ω)`. Test it out using the `realize()` and `P()` functions we wrote. Use `P()` to calculate $P(\\mathbf W =0)$.\n",
    "    \n",
    "</div>"
   ]
  },
  {
   "cell_type": "markdown",
   "metadata": {},
   "source": [
    "![](https://encrypted-tbn0.gstatic.com/images?q=tbn:ANd9GcRTCXQ098kIFldwWw8VEPSR_q9Tbk1BFjuhFH8V8NVPskxrtVj7&s)"
   ]
  },
  {
   "cell_type": "markdown",
   "metadata": {},
   "source": [
    "If you're looking at this and thinking that I can't possibly be serious, that the foundations of statistics and machine learning can't possibly be built up from imagining data factories and magical silos... well, you're wrong. Sure, I've concocted a somewhat elaborate metaphor, but it's a metaphor that accurately describes how these otherwise very abstract concepts relate to each other. If you can look at something like $P(\\mathbf Z = z) := \\mathbb P(\\{\\omega \\in \\Omega \\vert \\mathbf Z(w)=z\\})$ and immediately come away with an understanding of what that means, all the more power to you. But I don't. At least not without first building up an intuition for each of the components."
   ]
  },
  {
   "cell_type": "markdown",
   "metadata": {},
   "source": [
    "In probability theory, the silo $\\Omega$ is called a **sample space** and the data ore nuggets $\\omega$ are called **outcomes** (not to be confused with what we call the variable we want to predict in machine learning). A random variable $\\mathbf Z$ is defined as a function that maps an element $\\omega$ of $\\Omega$ to a realization $z$. The probability of a realization $z$ is the **measure** (volume, or proportion of total volume) of the set of outcomes (data ore nuggets) that map to $z$ (are destined to be transformed to $z$ by $\\mathbf Z$). "
   ]
  },
  {
   "cell_type": "markdown",
   "metadata": {},
   "source": [
    "![](prob_preimage.png)"
   ]
  },
  {
   "cell_type": "markdown",
   "metadata": {},
   "source": [
    "When I talk about these things outside of the context of explaining them, I do call them by their real names (e.g. random variable, sample space, etc.) because that's what people have called them for nearly a century. But when I close my eyes and *reason* about these concepts, I'm thinking about something tangible, like a factory. As we go on I'm going to introduce more mathematical notation as we need it, and I'm going to wean off the factory metaphor, but I encourage you to keep building your intuition about these concepts instead of thinking about them as abstract symbols on a page. The symbols are just a convenient shorthand for the ideas. The only reason to know the standard names and symbols is to be able to read and understand what others have written. If you find yourself skimming over an equation- stop. Read it slowly and think about what each part means.\n",
    "\n",
    "So now that we're here, let's demystify the notation in that equation I dropped up above! Here it is again:\n",
    "\n",
    "$$P(\\mathbf Z = z) := \\mathbb P(\\{\\omega \\in \\Omega \\vert \\mathbf Z(w)=z\\})$$\n",
    "\n",
    "To start, the $:=$ means \"the thing on the left is defined as the thing on the right\". So we're saying that when we write \"$P(\\mathbf Z = z)$\", we really mean whatever \"$\\mathbb P(\\{\\omega \\in \\Omega \\vert \\mathbf Z(\\omega)=z\\})$\" is. Ok, next up is [set-builder notation](https://www.mathsisfun.com/sets/set-builder-notation.html): you can read $\\{a\\in A | f(a) = 1\\}$ as \"the collection of all the elements $a$ in the set $A$ *such that* $f(a)=1$\". So $\\{\\omega \\in \\Omega \\vert \\mathbf Z(\\omega)=z\\}$ is the set of outcomes $\\omega$ that become $z$ when passed through the random variable $\\mathbf Z$. There may be many such outcomes, or just one, or none, so the set can be big, small, or nonexistent. We will write the name of that set a little more compactly using the notation $\\mathbf Z^{-1}(z) = \\{\\omega \\in \\Omega \\vert \\mathbf Z(w)=z\\}$ since usually $f^{-1}(y)$ denotes the element $x$ such that $f(x)=y$. We call this the **preimage** of $z$ under $\\mathbf Z$."
   ]
  },
  {
   "cell_type": "markdown",
   "metadata": {},
   "source": [
    "<div class=\"alert alert-block alert-warning\">\n",
    "<b>Note:</b> \n",
    "   \n",
    "Preimages aren't just for random variables- you can define preimages for any function. If the function is $y=f(x)$, the preimage of a set $A$ (denoted $f^{-1}(A)$) is a set of all of the values $x$ that become one of the $y$ values in $A$ when shoved through $f$. The set $A$ is called the image of $f^{-1}(A)$ under $f$.\n",
    "    \n",
    "For example, if $f(x) = x^2$ and $A$ is the set of numbers between 0 and 4, then $f^{-1}(A)$ is the set of numbers between -2 and 2, since every number between -2 and 2, when squared, is between 0 and 4, and these are the only numbers for which that is the case. Another example: if $f(x) = \\cos(x)$ and $A=\\{1\\}$, then $f^{-1}(A) = \\{\\dots, -4\\pi, -2\\pi, 0, 2\\pi, 4\\pi, 6\\pi, \\dots\\}$. Plot or draw a picture of $\\cos(x)$ and mark the points where $\\cos(x) = 1$ to see why.\n",
    "    \n",
    "</div>"
   ]
  },
  {
   "cell_type": "markdown",
   "metadata": {},
   "source": [
    "Finally, we have $\\mathbb P()$, which is the [probability measure](https://en.wikipedia.org/wiki/Probability_measure). We won't define this super rigorously, but think of it as a function that measures the proportion of all of the outcomes in $\\Omega$ that are contained in the subset $\\mathbf Z^{-1}(z)$. This is basically the volume of space that the nuggets in $\\mathbf Z^{-1}(z)$ take up in the silo $\\Omega$. By convention, we say that $\\Omega$ has volume 1 so that the volume of $\\mathbf Z^{-1}(z)$ is also the proportion of volume that $\\mathbf Z^{-1}(z)$ takes up in $\\Omega$. In the figure above, that's represented by the area of the shaded gray region."
   ]
  },
  {
   "cell_type": "markdown",
   "metadata": {},
   "source": [
    "\n",
    "If you put all of that together, you'll see that it's exactly the same as the definition we put together using our factory analogy. "
   ]
  },
  {
   "cell_type": "markdown",
   "metadata": {},
   "source": [
    "We can also talk about the probability of sets of realizations instead of just single realization $z$. For instance, what's the probability that $z$ is 0 *or* 1? We write that like $P(\\mathbf Z \\in A)$, where $A$ is the set of possible realizations, like $\\{0,1\\}$. That's more general than the probability of a single realization $z$: $P(\\mathbf Z = z)$. The definition is the same though: $P(\\mathbf Z \\in A) := \\mathbb P(\\mathbf Z^{-1}(A))$. All we need to do is count up the volume of all the nugets that produce any of the values that are in $A$, instead of just the nuggets that produce $z$."
   ]
  },
  {
   "cell_type": "markdown",
   "metadata": {},
   "source": [
    "<div class=\"alert alert-block alert-warning\">\n",
    "<b>REMEMBER:</b> \n",
    "\n",
    "If your eyes glaze over every time you see mathematical notation, don't worry. Remember, that's normal. Just slow down and read it again. Try and think about what it <i>means</i>.\n",
    "</div>"
   ]
  },
  {
   "cell_type": "markdown",
   "metadata": {},
   "source": [
    "Ok- I promised that it would be useful to define probability in a more rigorous way than \"$z$ happens $x$% of the time\". Now we're going to see why. \n",
    "\n",
    "To start with, let's \"derive\" a relatively simple fact: for any subset of possible realizations $A$, $P(\\mathbf Z \\in A) \\in [0,1]$. This is a compact way of writing that for any subset of realizations, the volume of the subset of outcomes $\\mathbf Z^{-1}(A)$ that map to those realzations is a number between 0 and 1. Why? Well, if the volume of our silo $\\Omega$ is 1, the volume of any subset of that has to be less than or equal to 1. And there is no subset that can occupy negative space, so the volume has to be greater than or equal to 0."
   ]
  },
  {
   "cell_type": "markdown",
   "metadata": {},
   "source": [
    "Here's a trickier one: if two sets of realizations $A$ and $B$ have no realizations in common, then the probability of a realization from either of them is the sum of the probabilities of a realization from each of them. Mathematically:\n",
    "\n",
    "$$A \\cap B = 0 \\rightarrow P(\\mathbf Z \\in A \\cup B) = P(\\mathbf Z \\in A) + P(\\mathbf Z \\in B)$$\n",
    "\n",
    "$A \\cap B$ is read as \"the intersection of the sets $A$ and $B$\", which is the set of elements that are in both sets. It's the middle part of a Venn diagram. $A \\cup B$ is read  as \"the union of $A$ and $B$\", which is all of the elements in either set- that's the entirety of the Venn diagram. \n",
    "\n",
    "That also seems cryptic until you think about it in terms of quantities of ore nuggets that produce certain values when fed through the factory. If you take all the ore nuggets that end up becoming any of the values in $A$ (call that set of nuggets $\\mathbf Z^{-1}(A)$), and all the nuggets that end up becoming values in $B$ (call that $\\mathbf Z^{-1}(B)$), then the total volume that end up becoming values in either $A$ or $B$ is the sum of the volumes that become $A$ and those that become $B$. This is true as long as there are no nuggets that become both a realization in $A$ and a realization in $B$ because we would double-count these. But we've also ensured that these do not exist since each nugget is destined to become only a single value, and we made sure that there is no overlap between $A$ and $B$.\n",
    "\n",
    "If there is overlap, the proposition doesn't hold. For instance, if $A= \\{0,1\\}$ and $B = \\{0\\}$, every element of $B$ is also an element of $A$, so the volume of $Z^{-1}(A \\cup B)$ is the volume of $Z^{-1}(A)$, which is not the volume of $Z^{-1}(A)$ plus the volume of $Z^{-1}(B)$."
   ]
  },
  {
   "cell_type": "markdown",
   "metadata": {},
   "source": [
    "We can even use our code from before to demonstrate this:"
   ]
  },
  {
   "cell_type": "code",
   "execution_count": 10,
   "metadata": {},
   "outputs": [
    {
     "data": {
      "text/plain": [
       "True"
      ]
     },
     "execution_count": 10,
     "metadata": {},
     "output_type": "execute_result"
    }
   ],
   "source": [
    "A = set([0])\n",
    "B = set([1])\n",
    "P(Z,A) + P(Z,B) == P(Z,A|B) # in python, set union ∪ is written | because an element is in A∪B if it is in A OR B (A|B)"
   ]
  },
  {
   "cell_type": "code",
   "execution_count": 11,
   "metadata": {},
   "outputs": [
    {
     "data": {
      "text/plain": [
       "False"
      ]
     },
     "execution_count": 11,
     "metadata": {},
     "output_type": "execute_result"
    }
   ],
   "source": [
    "A = set([0,1])\n",
    "B = set([0])\n",
    "P(Z,A) + P(Z,B) == P(Z,A|B)"
   ]
  },
  {
   "cell_type": "markdown",
   "metadata": {},
   "source": [
    "<div class=\"alert alert-block alert-warning\">\n",
    "<b>Note:</b> \n",
    "\n",
    "This is as pretty much as rigorous as probability theory gets. The only other wrinkle is that when we start talking about random variables that can produce things like continuous values (of which there are an infinite number), technically we need to consider silos that are filled with infinite numbers of nuggets (that still all together occupy a volume of 1!). And, fun fact, it turns out that in this case there are some sets of nuggets that are distributed in such a messed up way within the silo that it is impossible to measure their volume. But they are of no practical importance and probabilists just ignore these sets and say that their probability is not defined (no joke)!\n",
    "</div>"
   ]
  },
  {
   "cell_type": "markdown",
   "metadata": {},
   "source": [
    "<div class=\"alert alert-block alert-info\">\n",
    "<b>Exercise:</b> \n",
    "\n",
    "Draw a picture based on the figure above that helps explain why $A \\cap B = 0 \\rightarrow P(\\mathbf Z \\in A \\cup B) = P(\\mathbf Z \\in A) + P(\\mathbf Z \\in B)$\n",
    "\n",
    "</div>"
   ]
  },
  {
   "cell_type": "markdown",
   "metadata": {},
   "source": [
    "<div class=\"alert alert-block alert-info\">\n",
    "<b>Exercise:</b> \n",
    "\n",
    "Let's say the sets $A$ and $B$ have some overlap. Can you come up with a formula to calculate $P(\\mathbf Z \\in A \\cup B)$ given $P(\\mathbf Z \\in A)$, $P(\\mathbf Z \\in  B)$, and $P(\\mathbf Z \\in A \\cap B)$?\n",
    "\n",
    "</div>"
   ]
  },
  {
   "cell_type": "markdown",
   "metadata": {},
   "source": [
    "## Random variables are described by their probability distributions"
   ]
  },
  {
   "cell_type": "markdown",
   "metadata": {},
   "source": [
    "As perhaps you've noticed, neither the exact nature of what is in the silo nor which of its elements map to which realizations change the behavior of the random variable as long as the proportions of outcomes mapping to each realization are the same. For example, we looked at two equivalent ways to implement our random variable $\\mathbf Z$:"
   ]
  },
  {
   "cell_type": "code",
   "execution_count": 12,
   "metadata": {},
   "outputs": [],
   "source": [
    "def Z(ω): \n",
    "    if ω in set([1,4,5,8,9]): \n",
    "        return 1\n",
    "    if ω in set([0,2,3,6,7]): \n",
    "        return 0\n",
    "Z.Ω = set([0,1,2,3,4,5,6,7,8,9]) "
   ]
  },
  {
   "cell_type": "code",
   "execution_count": 13,
   "metadata": {},
   "outputs": [],
   "source": [
    "def Z(ω): \n",
    "    if ω in set([-1234]): \n",
    "        return 1\n",
    "    if ω in set([980123]): \n",
    "        return 0\n",
    "Z.Ω = set([980123, -1234]) "
   ]
  },
  {
   "cell_type": "markdown",
   "metadata": {},
   "source": [
    "These are technically two different random variables because they have different sample spaces and different mappings to the realizations, but they behave exactly the same, which is the say they have the same probability distribution. The distribution of the random variable is nothing more than $P(\\mathbf Z=z)$ as a function of the realization $z$:\n",
    "\n",
    "$$\n",
    "P(\\mathbf Z=z) =\n",
    "\\begin{cases}\n",
    "1/2 & \\text{for }z=0 \\\\\n",
    "1/2 & \\text{for }z=1\n",
    "\\end{cases}\n",
    "$$\n",
    "\n",
    "The probability distribution describes how the factory should *behave* from the perspective of someone who can only see its products $z_i$: half the time you get a 0, half the time you get a 1. There is no need to mention the silo of ore nuggets, give them names, and specify which nuggets are destined to be 0s and which are destined to be 1s. We know they're back there, and we know what *proportion* are destined to be 0s and 1s (since that's what the probability means), but we don't need the details. In fact, unless you're a probability theorist, you will never need to think about the sample space to solve a problem. The only reason you need to know about it is so that you can understand useful identities, which we will continue to derive as we go along."
   ]
  },
  {
   "cell_type": "markdown",
   "metadata": {},
   "source": [
    "The probability distribution can be thought of as a function of the factory product $z$. For each value of $z$, it tells us the total volume of the nuggets in the silo that map to that outcome. We can visualize that by sorting all the nuggets in the silo into piles according to which value they are destined to become. The relative heights of each pile are proportional to the volume of space that each group of nuggets take up in the silo. Let's demonstrate with a new random variable $\\bf V$:"
   ]
  },
  {
   "cell_type": "code",
   "execution_count": 14,
   "metadata": {},
   "outputs": [],
   "source": [
    "def V(ω): \n",
    "    if ω in set([1]): \n",
    "        return 2\n",
    "    if ω in set([2,3]): \n",
    "        return 0\n",
    "    if ω in set([4,5,6]): \n",
    "        return -1\n",
    "    if ω in set([7,8,9,0]):\n",
    "        return 1\n",
    "V.Ω = set(range(10)) "
   ]
  },
  {
   "cell_type": "code",
   "execution_count": 15,
   "metadata": {},
   "outputs": [
    {
     "data": {
      "application/vnd.vegalite.v3+json": {
       "$schema": "https://vega.github.io/schema/vega-lite/v3.4.0.json",
       "config": {
        "mark": {
         "tooltip": null
        },
        "view": {
         "height": 300,
         "width": 400
        }
       },
       "data": {
        "name": "data-a7992e4d8081495d7eb4705b16985ea6"
       },
       "datasets": {
        "data-a7992e4d8081495d7eb4705b16985ea6": [
         {
          "p": 0.3,
          "v": -1
         },
         {
          "p": 0.2,
          "v": 0
         },
         {
          "p": 0.4,
          "v": 1
         },
         {
          "p": 0.1,
          "v": 2
         }
        ]
       },
       "encoding": {
        "x": {
         "field": "v",
         "type": "ordinal"
        },
        "y": {
         "field": "p",
         "type": "quantitative"
        }
       },
       "height": 100,
       "mark": "bar",
       "width": 400
      },
      "image/png": "[encoded data removed]",
      "text/plain": [
       "<VegaLite 3 object>\n",
       "\n",
       "If you see this message, it means the renderer has not been properly enabled\n",
       "for the frontend that you are using. For more information, see\n",
       "https://altair-viz.github.io/user_guide/troubleshooting.html\n"
      ]
     },
     "execution_count": 15,
     "metadata": {},
     "output_type": "execute_result"
    }
   ],
   "source": [
    "vs = [-1,0,1,2] # all the values v can take\n",
    "ps = [P(V,[v]) for v in vs] # calculate the probability of each\n",
    "import altair as alt # for plotting\n",
    "import pandas as pd # to make dataframes\n",
    "\n",
    "distribution = pd.DataFrame({'v':vs, 'p':ps})\n",
    "alt.Chart(distribution, height=100, width=400).mark_bar().encode(x='v:O', y='p')"
   ]
  },
  {
   "cell_type": "markdown",
   "metadata": {},
   "source": [
    "<div class=\"alert alert-block alert-warning\">\n",
    "<b>Python Tip:</b> \n",
    "\n",
    "`altair` is a useful python package for visualization. It's optimized to work with dataframes from the `pandas` package. Feel free to browse the documentation for these packages, but you don't need to be an expert to continue on in this book.\n",
    "</div>"
   ]
  },
  {
   "cell_type": "markdown",
   "metadata": {},
   "source": [
    "This is the graphical representation of the probability distribution\n",
    "\n",
    "$$\n",
    "P(\\mathbf V=v) \n",
    "= \n",
    "\\phi(v) \n",
    "= \n",
    "\\begin{cases}\n",
    "0.3 & \\text{for }v=-1 \\\\\n",
    "0.2 & \\text{for }v=0 \\\\\n",
    "0.4 & \\text{for }v=1 \\\\\n",
    "0.1 & \\text{for }v=2\n",
    "\\end{cases}\n",
    "$$"
   ]
  },
  {
   "cell_type": "markdown",
   "metadata": {},
   "source": [
    "$\\phi(v)$ is called a **probability mass function**. If we have multiple random variables floating around and we want to distinguish their mass functions, we'll sometimes write $\\phi_{\\mathbf V}(v)$."
   ]
  },
  {
   "cell_type": "markdown",
   "metadata": {},
   "source": [
    "If we want to know the probability of a particular set of realizations, say, $P(\\mathbf V \\in \\{0,1\\})$, it's easy to get using the mass function:\n",
    "\n",
    "$$P(\\mathbf V \\in A) = \\sum_{v \\in A} \\phi(v)$$\n",
    "\n",
    "We simply sum up the probabilities that $\\mathbf V$ is any of the realizations within the set $A$ of interest. This is possible because of the identiy we established in the previous section (see exercise below). The upshot is that we don't have to talk about $\\Omega$ anymore. All of the information we need to calculate any probabilities of $\\mathbf V$ is baked into the mass function $\\phi(v)$."
   ]
  },
  {
   "cell_type": "markdown",
   "metadata": {},
   "source": [
    "<div class=\"alert alert-block alert-info\">\n",
    "<b>Exercise:</b> \n",
    "\n",
    "We showed before that $A \\cap B = 0 \\rightarrow P(\\mathbf Z \\in A \\cup B) = P(\\mathbf Z \\in A) + P(\\mathbf Z \\in B)$. Given that $\\phi(v) = P(\\mathbf V= v) = P(\\mathbf V \\in \\{v\\})$, how does this fact imply that $P(\\mathbf V \\in C) = \\sum_{v \\in C} \\phi(v)$?\n",
    "\n",
    "</div>"
   ]
  },
  {
   "cell_type": "markdown",
   "metadata": {},
   "source": [
    "### Continuous random variables and densities"
   ]
  },
  {
   "cell_type": "markdown",
   "metadata": {},
   "source": [
    "So far, all the random variables we've talked about have produced outputs from a finite, discrete set (e.g. $\\{0,1\\}$ or $\\{-1,0,1,2\\}$). If we're imagining a the factory that might produce the data we observe when flipping a coin, a binary output is all we need. Similarly, if we want to imagine the factory that assigns an \"apple\", \"orange\", or \"banana\" label to a photograph of a fruit, it just needs to output a discrete set of three values. But if we want to imagine the kind of factory that could produce the prices of different apartments in New York, we need something that can output a continuous range of values."
   ]
  },
  {
   "cell_type": "markdown",
   "metadata": {},
   "source": [
    "Let's think up a random variable (call it $\\bf Z$ again) that can take any value between 0 and 10. How many numbers are there between 0 and 10? Well, an infinite number: for any two numbers in that interval, you can find a number that's right between them. Since one nugget from the silo always prodcues the same realization when pushed through the factory, there need to be an infinite number of nuggets in the silo to be able to produce an infinite number of realizations. That means that our old code, where we manually enumerated all of the elements in $\\Omega$, is not going to work anymore. What we can do instead is imagine that $\\Omega$ is itself an interval, like all the numbers between 0 and 1. So, to pick a random nugget to throw into the factory, we just pick a random number between 0 and 1. Here's an example:"
   ]
  },
  {
   "cell_type": "code",
   "execution_count": 16,
   "metadata": {},
   "outputs": [],
   "source": [
    "def Z(ω): \n",
    "    return 10*(ω**2) # when ω goes into the factory, the factory makes ω^2\n",
    "Z.Ω = random.random # returns a single number between 0 and 1 when called\n",
    "\n",
    "def realize_cont(rand_var): # run the assembly line!\n",
    "    ω = Z.Ω() # returns a single number between 0 and 1\n",
    "    return rand_var(ω) # push it through the factory"
   ]
  },
  {
   "cell_type": "code",
   "execution_count": 17,
   "metadata": {},
   "outputs": [
    {
     "data": {
      "text/plain": [
       "[8.777516139713441,\n",
       " 1.0921042048856564,\n",
       " 1.2294991425273554,\n",
       " 0.008935462763956431,\n",
       " 0.021889032757063595]"
      ]
     },
     "execution_count": 17,
     "metadata": {},
     "output_type": "execute_result"
    }
   ],
   "source": [
    "[realize_cont(Z) for i in range(5)]"
   ]
  },
  {
   "cell_type": "markdown",
   "metadata": {},
   "source": [
    "So $\\mathbf Z$ is defined by $\\mathbf Z(\\omega) = 10\\omega^2$ with $\\omega \\in [0,1]$. Great. But now what does $P(\\mathbf Z = z)$ mean? We just apply the same old definition of probability: it's the proportion of nuggets in the silo that are destined to become the value $z$. For the random variable $\\bf Z$ we've defined above, how many nuggets become the value $2.5$? $\\mathbf Z$ transforms outcomes $\\omega$ into realizations $z$ by applying the function $z=10\\omega^2$, so the answer is just one: $\\omega = \\sqrt{2.5/10} = 0.5$. Any other value of $\\omega$ would produce a different value of $z$."
   ]
  },
  {
   "cell_type": "markdown",
   "metadata": {},
   "source": [
    "<div class=\"alert alert-block alert-warning\">\n",
    "<b>Note:</b> \n",
    "\n",
    "Notation like $[a,b]$ is often used to concisely write intervals- this just means \"all the numbers between $a$ and $b$, including those endpoints\". We use parentheses like $(a,b)$ to indicate that the endpoints should not be included. $(a,b]$ and $[a,b)$ have one of the two endpoints included, with the bracket indicating the endpoint that's included and the parenthesis indicating which isn't.\n",
    "</div>"
   ]
  },
  {
   "cell_type": "markdown",
   "metadata": {},
   "source": [
    "Thus to know $P(\\mathbf Z = 0.75)$ what we need to know is how much \"volume\" a single point ($\\omega = 0.5$) takes up within the interval $[0,1]$. The answer, which may not surprise you, is 0. If you want a rigorous argument for why that's the case, you have to pick up a real analysis or measure theory textbook. The implication is that for any (strictly) continuously-valued random variable, the probability of it taking any given value in particular is zero: $P(\\mathbf Z = z) = 0$, no matter what $z$ is. "
   ]
  },
  {
   "cell_type": "markdown",
   "metadata": {},
   "source": [
    "Well, that kind of sucks. It would be great if we had some kind of function that would just tell us what the probability of different subsets of realizations is, like we have in the discrete case with the probability mass function: $P(\\mathbf V \\in A) = \\sum_{v \\in A} \\phi(v) = \\sum_{v \\in A} P(\\mathbf V = v)$. It was easy to do that for discrete random variables, but if we try to do the same for continuous random variables, this is what we get: \n",
    "\n",
    "$$\\sum_{z \\in A} P(\\mathbf Z = z) = \\sum_{z \\in A} 0 = 0$$\n",
    "\n",
    "We get 0 no matter what set $A$ we choose. But that's ridiculous- values do come out of the factory, so there must be some proportion of nuggets in the silo that correspond to subsets of those values. Furthermore, this formula doesn't even make sense unless the set of realizations is discrete and we can sum over them. But what if we want to know the probability that $\\mathbf Z$ is between 4 and 5? There is a continuous infinity of numbers between 4 and 5, so we can't sum over all of them discretely. And even if we could, $P(\\mathbf Z = z)$ would be zero for all of them, so the answser would still be zero no matter what. We need a different tool."
   ]
  },
  {
   "cell_type": "markdown",
   "metadata": {},
   "source": [
    "Let's go back to our example and work forward from the definition of the sample space and $\\mathbf Z$. What's the probability that the realization $z$ is between two values $a$ and $b$? For instance, what's $P(\\mathbf Z \\in [2.5,9])$? Looking at the transformation $z = 10\\omega^2$, you can see that only values of $\\omega$ between $0.5$ and $0.3$ produce values between $2.5$ and $9$. In other words, $\\mathbf Z^{-1}([2.5,9]) = [0.3,0.5]$. The proportion of volume that the interval $[0.3, 0.5]$ takes up within the interval $[0,1]$ is is the length of the interval $[0.3, 0.5]$ (which is $0.2$) as a proportion of the length of the interval $[0,1]$ (which is 1). So $P(\\mathbf Z \\in [2.5,9]) = 0.2$!"
   ]
  },
  {
   "cell_type": "markdown",
   "metadata": {},
   "source": [
    "<div class=\"alert alert-block alert-info\">\n",
    "<b>Exercise:</b> \n",
    "\n",
    "Let $\\mathbf Z$ be as it is above. Find a formula for $P(\\mathbf Z \\in [a,b])$ for any values $a \\le b$ and $a,b \\in [0,10]$.\n",
    "\n",
    "</div>"
   ]
  },
  {
   "cell_type": "markdown",
   "metadata": {},
   "source": [
    "Mission accomplished? Not quite. We managed to calculate a probability given the sample space and random variable, but what we want is some kind of function that we can manipulate to calculate these probabilities without reference to the sample space at all. We don't want to have to think about what $\\Omega$ is or exactly how the different outcomes map to the different realizations."
   ]
  },
  {
   "cell_type": "markdown",
   "metadata": {},
   "source": [
    "So here's an idea: let's bin $z$ into 10 non-overlapping buckets, like $[0,1)$, $[1,2)$ ... $[9,10]$ and calculate the probability within each of those buckets. This is just like what we did in the discrete case. We're sorting all of the nuggets in the silo into different piles depending which set of values they are destined to become, and then measuring the volume of each pile. Here's what we get when we do that for the example random variable $\\bf z$ defined in the code above:"
   ]
  },
  {
   "cell_type": "code",
   "execution_count": 18,
   "metadata": {},
   "outputs": [
    {
     "data": {
      "application/vnd.vegalite.v3+json": {
       "$schema": "https://vega.github.io/schema/vega-lite/v3.4.0.json",
       "config": {
        "mark": {
         "tooltip": null
        },
        "view": {
         "height": 300,
         "width": 400
        }
       },
       "data": {
        "name": "data-238a944884c03662f4513bfe54e08e54"
       },
       "datasets": {
        "data-238a944884c03662f4513bfe54e08e54": [
         {
          "p": 0.31622776601683794,
          "z": "[0,1)"
         },
         {
          "p": 0.13098582948312,
          "z": "[1,2)"
         },
         {
          "p": 0.10050896200520815,
          "z": "[2,3)"
         },
         {
          "p": 0.08473297452850981,
          "z": "[3,4)"
         },
         {
          "p": 0.07465124915287169,
          "z": "[4,5)"
         },
         {
          "p": 0.06748988805493583,
          "z": "[5,6)"
         },
         {
          "p": 0.06206335729259216,
          "z": "[6,7)"
         },
         {
          "p": 0.05776716446584029,
          "z": "[7,8)"
         },
         {
          "p": 0.05425610705059791,
          "z": "[8,9)"
         },
         {
          "p": 0.05131670194948623,
          "z": "[9,10)"
         }
        ]
       },
       "encoding": {
        "x": {
         "field": "z",
         "type": "ordinal"
        },
        "y": {
         "field": "p",
         "type": "quantitative"
        }
       },
       "height": 100,
       "mark": "bar",
       "width": 400
      },
      "image/png": "[encoded data removed]",
      "text/plain": [
       "<VegaLite 3 object>\n",
       "\n",
       "If you see this message, it means the renderer has not been properly enabled\n",
       "for the frontend that you are using. For more information, see\n",
       "https://altair-viz.github.io/user_guide/troubleshooting.html\n"
      ]
     },
     "execution_count": 18,
     "metadata": {},
     "output_type": "execute_result"
    }
   ],
   "source": [
    "from math import sqrt\n",
    "\n",
    "def Pz(a,b):\n",
    "    return sqrt(b/10) - sqrt(a/10)\n",
    "\n",
    "zs = range(10)\n",
    "ps = [Pz(z,z+1) for z in zs]\n",
    "zs_labels = [f'[{z},{z+1})' for z in zs]\n",
    "\n",
    "distribution = pd.DataFrame({'z':zs_labels, 'p':ps})\n",
    "alt.Chart(distribution, height=100, width=400).mark_bar().encode(x='z:O', y='p')"
   ]
  },
  {
   "cell_type": "markdown",
   "metadata": {},
   "source": [
    "And why stop at 10 buckets? Let's split it up into 100."
   ]
  },
  {
   "cell_type": "code",
   "execution_count": 19,
   "metadata": {},
   "outputs": [
    {
     "data": {
      "application/vnd.vegalite.v3+json": {
       "$schema": "https://vega.github.io/schema/vega-lite/v3.4.0.json",
       "config": {
        "mark": {
         "tooltip": null
        },
        "view": {
         "height": 300,
         "width": 400
        }
       },
       "data": {
        "name": "data-87b4328471ec72ce0c0a7b12465363e4"
       },
       "datasets": {
        "data-87b4328471ec72ce0c0a7b12465363e4": [
         {
          "p": 0.1,
          "z": "[0.0,0.1)"
         },
         {
          "p": 0.0414213562373095,
          "z": "[0.1,0.2)"
         },
         {
          "p": 0.031783724519578255,
          "z": "[0.2,0.30000000000000004)"
         },
         {
          "p": 0.026794919243112253,
          "z": "[0.30000000000000004,0.4)"
         },
         {
          "p": 0.023606797749978953,
          "z": "[0.4,0.5)"
         },
         {
          "p": 0.021342176528338835,
          "z": "[0.5,0.6)"
         },
         {
          "p": 0.019626156828141256,
          "z": "[0.6000000000000001,0.7000000000000001)"
         },
         {
          "p": 0.018267581368159924,
          "z": "[0.7000000000000001,0.8)"
         },
         {
          "p": 0.017157287525380982,
          "z": "[0.8,0.9)"
         },
         {
          "p": 0.016227766016837952,
          "z": "[0.9,1.0)"
         },
         {
          "p": 0.015434713018702084,
          "z": "[1.0,1.1)"
         },
         {
          "p": 0.014747682478235491,
          "z": "[1.1,1.2000000000000002)"
         },
         {
          "p": 0.01414496603262344,
          "z": "[1.2000000000000002,1.3000000000000003)"
         },
         {
          "p": 0.01361061113099521,
          "z": "[1.3,1.4000000000000001)"
         },
         {
          "p": 0.013132595943347536,
          "z": "[1.4000000000000001,1.5000000000000002)"
         },
         {
          "p": 0.01270166537925832,
          "z": "[1.5,1.6)"
         },
         {
          "p": 0.012310562561766047,
          "z": "[1.6,1.7000000000000002)"
         },
         {
          "p": 0.011953506150162496,
          "z": "[1.7000000000000002,1.8000000000000003)"
         },
         {
          "p": 0.01162582564213882,
          "z": "[1.8,1.9000000000000001)"
         },
         {
          "p": 0.011323701145890597,
          "z": "[1.9000000000000001,2.0)"
         },
         {
          "p": 0.011043973995626122,
          "z": "[2.0,2.1)"
         },
         {
          "p": 0.010784006486758924,
          "z": "[2.1,2.2)"
         },
         {
          "p": 0.010541576348928994,
          "z": "[2.2,2.3000000000000003)"
         },
         {
          "p": 0.010314796225363687,
          "z": "[2.3000000000000003,2.4000000000000004)"
         },
         {
          "p": 0.010102051443364346,
          "z": "[2.4000000000000004,2.5000000000000004)"
         },
         {
          "p": 0.009901951359278516,
          "z": "[2.5,2.6)"
         },
         {
          "p": 0.009713290911384731,
          "z": "[2.6,2.7)"
         },
         {
          "p": 0.009535019942254919,
          "z": "[2.7,2.8000000000000003)"
         },
         {
          "p": 0.00936621850053232,
          "z": "[2.8000000000000003,2.9000000000000004)"
         },
         {
          "p": 0.0092060767917157,
          "z": "[2.9000000000000004,3.0000000000000004)"
         },
         {
          "p": 0.009053878777836144,
          "z": "[3.0,3.1)"
         },
         {
          "p": 0.008908988666235795,
          "z": "[3.1,3.2)"
         },
         {
          "p": 0.008770839704564826,
          "z": "[3.2,3.3000000000000003)"
         },
         {
          "p": 0.008638924830727257,
          "z": "[3.3000000000000003,3.4000000000000004)"
         },
         {
          "p": 0.008512788825431494,
          "z": "[3.4000000000000004,3.5000000000000004)"
         },
         {
          "p": 0.008392021690038387,
          "z": "[3.5,3.6)"
         },
         {
          "p": 0.008276253029821934,
          "z": "[3.6,3.7)"
         },
         {
          "p": 0.008165147267075734,
          "z": "[3.7,3.8000000000000003)"
         },
         {
          "p": 0.008058399542942185,
          "z": "[3.8000000000000003,3.9000000000000004)"
         },
         {
          "p": 0.007955732193836051,
          "z": "[3.9000000000000004,4.0)"
         },
         {
          "p": 0.007856891709609015,
          "z": "[4.0,4.1)"
         },
         {
          "p": 0.007761646097501185,
          "z": "[4.1000000000000005,4.2)"
         },
         {
          "p": 0.007669782589413976,
          "z": "[4.2,4.3)"
         },
         {
          "p": 0.007581105640879882,
          "z": "[4.3,4.3999999999999995)"
         },
         {
          "p": 0.0074954351788568685,
          "z": "[4.4,4.5)"
         },
         {
          "p": 0.007412605062589894,
          "z": "[4.5,4.6)"
         },
         {
          "p": 0.007332461727577511,
          "z": "[4.6000000000000005,4.7)"
         },
         {
          "p": 0.0072548629874464865,
          "z": "[4.7,4.8)"
         },
         {
          "p": 0.007179676972449034,
          "z": "[4.800000000000001,4.9)"
         },
         {
          "p": 0.007106781186547506,
          "z": "[4.9,5.0)"
         },
         {
          "p": 0.007036061667737403,
          "z": "[5.0,5.1)"
         },
         {
          "p": 0.006967412238512938,
          "z": "[5.1000000000000005,5.2)"
         },
         {
          "p": 0.006900733835253914,
          "z": "[5.2,5.3)"
         },
         {
          "p": 0.006835933906901626,
          "z": "[5.300000000000001,5.4)"
         },
         {
          "p": 0.006772925874612867,
          "z": "[5.4,5.5)"
         },
         {
          "p": 0.006711628645221901,
          "z": "[5.5,5.6)"
         },
         {
          "p": 0.006651966172286694,
          "z": "[5.6000000000000005,5.7)"
         },
         {
          "p": 0.00659386705931575,
          "z": "[5.7,5.8)"
         },
         {
          "p": 0.006537264200469961,
          "z": "[5.800000000000001,5.9)"
         },
         {
          "p": 0.006482094454622556,
          "z": "[5.9,6.0)"
         },
         {
          "p": 0.006428298349182016,
          "z": "[6.0,6.1)"
         },
         {
          "p": 0.006375819810515604,
          "z": "[6.1000000000000005,6.2)"
         },
         {
          "p": 0.006324605918196058,
          "z": "[6.2,6.3)"
         },
         {
          "p": 0.006274606680622741,
          "z": "[6.300000000000001,6.4)"
         },
         {
          "p": 0.00622577482985498,
          "z": "[6.4,6.5)"
         },
         {
          "p": 0.0061780656337410145,
          "z": "[6.5,6.6)"
         },
         {
          "p": 0.00613143672364902,
          "z": "[6.6000000000000005,6.7)"
         },
         {
          "p": 0.00608584793628697,
          "z": "[6.7,6.8)"
         },
         {
          "p": 0.006041261168275414,
          "z": "[6.800000000000001,6.9)"
         },
         {
          "p": 0.00599764024226801,
          "z": "[6.9,7.0)"
         },
         {
          "p": 0.005954950783560231,
          "z": "[7.0,7.1)"
         },
         {
          "p": 0.005913160106221116,
          "z": "[7.1000000000000005,7.2)"
         },
         {
          "p": 0.005872237107896083,
          "z": "[7.2,7.3)"
         },
         {
          "p": 0.0058321521725094305,
          "z": "[7.300000000000001,7.4)"
         },
         {
          "p": 0.005792877080175951,
          "z": "[7.4,7.5)"
         },
         {
          "p": 0.005754384923696065,
          "z": "[7.5,7.6)"
         },
         {
          "p": 0.005716650031077575,
          "z": "[7.6000000000000005,7.7)"
         },
         {
          "p": 0.005679647893572448,
          "z": "[7.7,7.8)"
         },
         {
          "p": 0.005643355098774228,
          "z": "[7.800000000000001,7.9)"
         },
         {
          "p": 0.005607749268356943,
          "z": "[7.9,8.0)"
         },
         {
          "p": 0.005572809000084167,
          "z": "[8.0,8.1)"
         },
         {
          "p": 0.005538513813741597,
          "z": "[8.1,8.2)"
         },
         {
          "p": 0.005504844100688189,
          "z": "[8.200000000000001,8.3)"
         },
         {
          "p": 0.00547178107673818,
          "z": "[8.3,8.4)"
         },
         {
          "p": 0.005439306738120653,
          "z": "[8.4,8.5)"
         },
         {
          "p": 0.005407403820281598,
          "z": "[8.5,8.6)"
         },
         {
          "p": 0.005376055759311105,
          "z": "[8.6,8.7)"
         },
         {
          "p": 0.005345246655804381,
          "z": "[8.700000000000001,8.8)"
         },
         {
          "p": 0.005314961240974414,
          "z": "[8.8,8.9)"
         },
         {
          "p": 0.005285184844853408,
          "z": "[8.9,9.0)"
         },
         {
          "p": 0.005255903366431891,
          "z": "[9.0,9.1)"
         },
         {
          "p": 0.005227103245598164,
          "z": "[9.1,9.2)"
         },
         {
          "p": 0.005198771436751626,
          "z": "[9.200000000000001,9.3)"
         },
         {
          "p": 0.005170895383970309,
          "z": "[9.3,9.4)"
         },
         {
          "p": 0.005143462997630466,
          "z": "[9.4,9.5)"
         },
         {
          "p": 0.005116462632374863,
          "z": "[9.5,9.6)"
         },
         {
          "p": 0.005089883066339174,
          "z": "[9.600000000000001,9.700000000000001)"
         },
         {
          "p": 0.005063713481556098,
          "z": "[9.700000000000001,9.8)"
         },
         {
          "p": 0.005037943445453386,
          "z": "[9.8,9.9)"
         },
         {
          "p": 0.005012562893380035,
          "z": "[9.9,10.0)"
         }
        ]
       },
       "encoding": {
        "x": {
         "axis": null,
         "field": "z",
         "type": "ordinal"
        },
        "y": {
         "field": "p",
         "type": "quantitative"
        }
       },
       "height": 100,
       "mark": "bar",
       "width": 400
      },
      "image/png": "[encoded data removed]",
      "text/plain": [
       "<VegaLite 3 object>\n",
       "\n",
       "If you see this message, it means the renderer has not been properly enabled\n",
       "for the frontend that you are using. For more information, see\n",
       "https://altair-viz.github.io/user_guide/troubleshooting.html\n"
      ]
     },
     "execution_count": 19,
     "metadata": {},
     "output_type": "execute_result"
    }
   ],
   "source": [
    "zs = np.arange(0,10,0.1)\n",
    "ps = [Pz(z,z+0.1) for z in zs]\n",
    "zs_labels = [f'[{z},{z+0.1})' for z in zs]\n",
    "\n",
    "distribution = pd.DataFrame({'z':zs_labels, 'p':ps})\n",
    "alt.Chart(distribution, height=100, width=400).mark_bar().encode(alt.X('z:O',axis=None), y='p')"
   ]
  },
  {
   "cell_type": "markdown",
   "metadata": {},
   "source": [
    "More buckets gives us more information. If we want to know $P(\\mathbf Z \\in [0,0.5))$, for instance, we can sum up the probabilities for the buckets $[0,0.1)$, $[0.1,0.2)$, ... $[0.4,0.5)$. But we can't get *any* probability. The graph doesn't have enough information to let us calculate probabilities over intervals whose ends are between two cutpoints of the buckets. It only has resolution up to increments of $0.1$ in terms of $z$. It would be nice to have a graph that lets us read off arbitrary probabilities like $P(\\mathbf Z \\in [a,b])$ just by looking at how much \"stuff\" there is between $a$ and $b$. Something like this:"
   ]
  },
  {
   "cell_type": "code",
   "execution_count": 20,
   "metadata": {},
   "outputs": [
    {
     "data": {
      "application/vnd.vegalite.v3+json": {
       "$schema": "https://vega.github.io/schema/vega-lite/v3.4.0.json",
       "config": {
        "mark": {
         "tooltip": null
        },
        "view": {
         "height": 300,
         "width": 400
        }
       },
       "data": {
        "name": "data-c101341a031f7d31f56b8b1aa832611d"
       },
       "datasets": {
        "data-c101341a031f7d31f56b8b1aa832611d": [
         {
          "p": 0.5,
          "z": 0.1
         },
         {
          "p": 0.35355339059327373,
          "z": 0.2
         },
         {
          "p": 0.28867513459481287,
          "z": 0.30000000000000004
         },
         {
          "p": 0.25,
          "z": 0.4
         },
         {
          "p": 0.22360679774997896,
          "z": 0.5
         },
         {
          "p": 0.20412414523193154,
          "z": 0.6
         },
         {
          "p": 0.1889822365046136,
          "z": 0.7000000000000001
         },
         {
          "p": 0.17677669529663687,
          "z": 0.8
         },
         {
          "p": 0.16666666666666666,
          "z": 0.9
         },
         {
          "p": 0.15811388300841897,
          "z": 1
         },
         {
          "p": 0.15075567228888181,
          "z": 1.1
         },
         {
          "p": 0.14433756729740643,
          "z": 1.2000000000000002
         },
         {
          "p": 0.13867504905630726,
          "z": 1.3000000000000003
         },
         {
          "p": 0.13363062095621217,
          "z": 1.4000000000000001
         },
         {
          "p": 0.12909944487358055,
          "z": 1.5000000000000002
         },
         {
          "p": 0.125,
          "z": 1.6
         },
         {
          "p": 0.12126781251816648,
          "z": 1.7000000000000002
         },
         {
          "p": 0.1178511301977579,
          "z": 1.8000000000000003
         },
         {
          "p": 0.11470786693528087,
          "z": 1.9000000000000001
         },
         {
          "p": 0.11180339887498948,
          "z": 2
         },
         {
          "p": 0.1091089451179962,
          "z": 2.1
         },
         {
          "p": 0.10660035817780521,
          "z": 2.2
         },
         {
          "p": 0.10425720702853737,
          "z": 2.3000000000000003
         },
         {
          "p": 0.10206207261596574,
          "z": 2.4000000000000004
         },
         {
          "p": 0.1,
          "z": 2.5000000000000004
         },
         {
          "p": 0.09805806756909202,
          "z": 2.6
         },
         {
          "p": 0.09622504486493763,
          "z": 2.7
         },
         {
          "p": 0.0944911182523068,
          "z": 2.8000000000000003
         },
         {
          "p": 0.09284766908852592,
          "z": 2.9000000000000004
         },
         {
          "p": 0.09128709291752768,
          "z": 3.0000000000000004
         },
         {
          "p": 0.08980265101338746,
          "z": 3.1
         },
         {
          "p": 0.08838834764831843,
          "z": 3.2
         },
         {
          "p": 0.08703882797784893,
          "z": 3.3000000000000003
         },
         {
          "p": 0.08574929257125441,
          "z": 3.4000000000000004
         },
         {
          "p": 0.08451542547285164,
          "z": 3.5000000000000004
         },
         {
          "p": 0.08333333333333333,
          "z": 3.6
         },
         {
          "p": 0.08219949365267865,
          "z": 3.7
         },
         {
          "p": 0.08111071056538127,
          "z": 3.8000000000000003
         },
         {
          "p": 0.08006407690254357,
          "z": 3.9000000000000004
         },
         {
          "p": 0.07905694150420949,
          "z": 4
         },
         {
          "p": 0.07808688094430304,
          "z": 4.1
         },
         {
          "p": 0.07715167498104596,
          "z": 4.2
         },
         {
          "p": 0.07624928516630233,
          "z": 4.3
         },
         {
          "p": 0.07537783614444092,
          "z": 4.3999999999999995
         },
         {
          "p": 0.07453559924999299,
          "z": 4.5
         },
         {
          "p": 0.07372097807744857,
          "z": 4.6
         },
         {
          "p": 0.07293249574894728,
          "z": 4.7
         },
         {
          "p": 0.07216878364870323,
          "z": 4.8
         },
         {
          "p": 0.07142857142857142,
          "z": 4.9
         },
         {
          "p": 0.07071067811865475,
          "z": 5
         },
         {
          "p": 0.07001400420140048,
          "z": 5.1
         },
         {
          "p": 0.06933752452815364,
          "z": 5.2
         },
         {
          "p": 0.06868028197434452,
          "z": 5.3
         },
         {
          "p": 0.06804138174397717,
          "z": 5.4
         },
         {
          "p": 0.06741998624632421,
          "z": 5.5
         },
         {
          "p": 0.0668153104781061,
          "z": 5.6
         },
         {
          "p": 0.06622661785325219,
          "z": 5.7
         },
         {
          "p": 0.06565321642986127,
          "z": 5.8
         },
         {
          "p": 0.06509445549041194,
          "z": 5.9
         },
         {
          "p": 0.06454972243679027,
          "z": 6
         },
         {
          "p": 0.06401843996644799,
          "z": 6.1
         },
         {
          "p": 0.06350006350009525,
          "z": 6.2
         },
         {
          "p": 0.0629940788348712,
          "z": 6.3
         },
         {
          "p": 0.0625,
          "z": 6.4
         },
         {
          "p": 0.062017367294604234,
          "z": 6.5
         },
         {
          "p": 0.06154574548966636,
          "z": 6.6
         },
         {
          "p": 0.06108472217815261,
          "z": 6.7
         },
         {
          "p": 0.06063390625908324,
          "z": 6.8
         },
         {
          "p": 0.0601929265428846,
          "z": 6.9
         },
         {
          "p": 0.05976143046671968,
          "z": 7
         },
         {
          "p": 0.05933908290969266,
          "z": 7.1
         },
         {
          "p": 0.05892556509887897,
          "z": 7.2
         },
         {
          "p": 0.058520573598065284,
          "z": 7.3
         },
         {
          "p": 0.05812381937190964,
          "z": 7.4
         },
         {
          "p": 0.05773502691896257,
          "z": 7.5
         },
         {
          "p": 0.057353933467640436,
          "z": 7.6
         },
         {
          "p": 0.05698028822981897,
          "z": 7.7
         },
         {
          "p": 0.05661385170722978,
          "z": 7.8
         },
         {
          "p": 0.0562543950463012,
          "z": 7.9
         },
         {
          "p": 0.05590169943749474,
          "z": 8
         },
         {
          "p": 0.05555555555555555,
          "z": 8.1
         },
         {
          "p": 0.05521576303742327,
          "z": 8.2
         },
         {
          "p": 0.05488212999484517,
          "z": 8.3
         },
         {
          "p": 0.0545544725589981,
          "z": 8.4
         },
         {
          "p": 0.05423261445466404,
          "z": 8.5
         },
         {
          "p": 0.053916386601719206,
          "z": 8.6
         },
         {
          "p": 0.05360562674188974,
          "z": 8.7
         },
         {
          "p": 0.053300179088902604,
          "z": 8.8
         },
         {
          "p": 0.052999894000318,
          "z": 8.9
         },
         {
          "p": 0.05270462766947299,
          "z": 9
         },
         {
          "p": 0.052414241836095915,
          "z": 9.1
         },
         {
          "p": 0.05212860351426869,
          "z": 9.2
         },
         {
          "p": 0.05184758473652126,
          "z": 9.3
         },
         {
          "p": 0.05157106231293967,
          "z": 9.4
         },
         {
          "p": 0.051298917604257706,
          "z": 9.5
         },
         {
          "p": 0.051031036307982884,
          "z": 9.6
         },
         {
          "p": 0.050767308256680944,
          "z": 9.700000000000001
         },
         {
          "p": 0.050507627227610534,
          "z": 9.8
         },
         {
          "p": 0.050251890762960605,
          "z": 9.9
         }
        ]
       },
       "encoding": {
        "x": {
         "field": "z",
         "type": "quantitative"
        },
        "y": {
         "field": "p",
         "type": "quantitative"
        }
       },
       "height": 100,
       "mark": "area",
       "width": 400
      },
      "image/png": "[encoded data removed]",
      "text/plain": [
       "<VegaLite 3 object>\n",
       "\n",
       "If you see this message, it means the renderer has not been properly enabled\n",
       "for the frontend that you are using. For more information, see\n",
       "https://altair-viz.github.io/user_guide/troubleshooting.html\n"
      ]
     },
     "execution_count": 20,
     "metadata": {},
     "output_type": "execute_result"
    }
   ],
   "source": [
    "z = np.arange(0.1,10,0.1)\n",
    "p = 1/(2*np.sqrt(10*z)) # magic, for now...\n",
    "\n",
    "distribution = pd.DataFrame({'z':z, 'p':p})\n",
    "alt.Chart(distribution, height=100, width=400).mark_area().encode(x='z', y='p')"
   ]
  },
  {
   "cell_type": "markdown",
   "metadata": {},
   "source": [
    "Before I explain how I managed to make this graph, which is called a **density plot**, I want to establish an intuition for what it means. We've gone from 10 buckets, to 100 buckets, to \"infinite\" buckets. I like to think of these pictures literally: all the outcomes $\\omega$ neatly piled up on top of the labels $z$ for the values they will become. So to get $P(\\mathbf Z \\in [a,b])$ from this picture, which is just the volume of outcomes that map to values between $a$ and $b$, all we need to do is see how much stuff there is piled up between $a$ and $b$ in the picture. "
   ]
  },
  {
   "cell_type": "markdown",
   "metadata": {},
   "source": [
    "![](https://media.giphy.com/media/xT0xeJpnrWC4XWblEk/giphy-facebook_s.jpg)"
   ]
  },
  {
   "cell_type": "markdown",
   "metadata": {},
   "source": [
    "To do this, we turn to a useful tool from calculus: the integral. To make the picture above, we need a curve $\\phi(z)$ such that the area under $f$ between $a$ and $b$ is $P(\\mathbf Z \\in [a,b])$ for all values $a$ and $b$. In the previous exercise you should have figured out that $P(\\mathbf Z \\in [a,b]) = \\sqrt{\\frac{b}{10}} - \\sqrt{\\frac{a}{10}}$. So what we need is the curve $\\phi(z)$ that satisfies this equation:\n",
    "\n",
    "$$\\int_a^b \\phi(z) dz = P(\\mathbf Z \\in [a,b]) = \\sqrt{\\frac{b}{10}} - \\sqrt{\\frac{a}{10}}$$"
   ]
  },
  {
   "cell_type": "markdown",
   "metadata": {},
   "source": [
    "Looking at the integral equation, it's clear that $\\Phi(z) = \\sqrt{\\frac{z}{10}}$ is the antiderivative of $\\phi(z)$, so all we need to do to get $\\phi$ is differentiate $\\Phi$:\n",
    "\n",
    "$$\\phi(z) = \\frac{d\\Phi(z)}{dz} = \\frac{d}{dz} \\sqrt{\\frac{z}{10}} = \\frac{1}{2\\sqrt{10z}}$$"
   ]
  },
  {
   "cell_type": "markdown",
   "metadata": {},
   "source": [
    "<div class=\"alert alert-block alert-warning\">\n",
    "<b>Note:</b> \n",
    "\n",
    "If this doesn't make any sense to you, you should stop and go review a friendly calculus book or any of the great online resources on the topic.\n",
    "</div>"
   ]
  },
  {
   "cell_type": "markdown",
   "metadata": {},
   "source": [
    "That's why we have `ps = [1/(2*sqrt(10*z)) for z in zs]` in the code above."
   ]
  },
  {
   "cell_type": "markdown",
   "metadata": {},
   "source": [
    "The function $\\phi(z)$ is called a **probability density function** (PDF), which is the continuous equivalent of the probability mass function. Its integral $\\Phi(z) = \\int_{-\\infty}^z \\phi(t)dt = P(\\mathbf Z \\le z)$ is called a **cumulative density function** (CDF). Either of these functions tell you everything you need to know about probabilities of the random variable $\\mathbf Z$. The probability that $\\mathbf Z$ takes any of the values in an arbitrary set $A$ is \n",
    "\n",
    "$$P(\\mathbf Z \\in A) = \\int_{A} \\phi(z) dz$$"
   ]
  },
  {
   "cell_type": "markdown",
   "metadata": {},
   "source": [
    "This works the same way as the probability mass function for a discrete random variable $\\mathbf V$:\n",
    "\n",
    "$$P(\\mathbf V \\in A) = \\sum_{v \\in A} \\phi(v)$$"
   ]
  },
  {
   "cell_type": "code",
   "execution_count": 21,
   "metadata": {},
   "outputs": [
    {
     "data": {
      "application/vnd.vegalite.v3+json": {
       "$schema": "https://vega.github.io/schema/vega-lite/v3.4.0.json",
       "config": {
        "mark": {
         "tooltip": null
        },
        "view": {
         "height": 300,
         "width": 400
        }
       },
       "datasets": {
        "data-38281cf2c0e1505142c3c5058c2c3093": [
         {
          "A": true,
          "p": 0.15811388300841897,
          "z": 1
         },
         {
          "A": true,
          "p": 0.15075567228888181,
          "z": 1.1
         },
         {
          "A": true,
          "p": 0.14433756729740643,
          "z": 1.2000000000000002
         },
         {
          "A": true,
          "p": 0.13867504905630726,
          "z": 1.3000000000000003
         },
         {
          "A": true,
          "p": 0.13363062095621217,
          "z": 1.4000000000000001
         },
         {
          "A": true,
          "p": 0.12909944487358055,
          "z": 1.5000000000000002
         },
         {
          "A": true,
          "p": 0.125,
          "z": 1.6
         },
         {
          "A": true,
          "p": 0.12126781251816648,
          "z": 1.7000000000000002
         },
         {
          "A": true,
          "p": 0.1178511301977579,
          "z": 1.8000000000000003
         },
         {
          "A": true,
          "p": 0.11470786693528087,
          "z": 1.9000000000000001
         },
         {
          "A": true,
          "p": 0.11180339887498948,
          "z": 2
         },
         {
          "A": true,
          "p": 0.1091089451179962,
          "z": 2.1
         },
         {
          "A": true,
          "p": 0.10660035817780521,
          "z": 2.2
         },
         {
          "A": true,
          "p": 0.10425720702853737,
          "z": 2.3000000000000003
         },
         {
          "A": true,
          "p": 0.10206207261596574,
          "z": 2.4000000000000004
         },
         {
          "A": true,
          "p": 0.1,
          "z": 2.5000000000000004
         },
         {
          "A": true,
          "p": 0.09805806756909202,
          "z": 2.6
         },
         {
          "A": true,
          "p": 0.09622504486493763,
          "z": 2.7
         },
         {
          "A": true,
          "p": 0.0944911182523068,
          "z": 2.8000000000000003
         },
         {
          "A": true,
          "p": 0.09284766908852592,
          "z": 2.9000000000000004
         },
         {
          "A": true,
          "p": 0.09128709291752768,
          "z": 3.0000000000000004
         },
         {
          "A": true,
          "p": 0.08980265101338746,
          "z": 3.1
         },
         {
          "A": true,
          "p": 0.08838834764831843,
          "z": 3.2
         },
         {
          "A": true,
          "p": 0.08703882797784893,
          "z": 3.3000000000000003
         },
         {
          "A": true,
          "p": 0.08574929257125441,
          "z": 3.4000000000000004
         },
         {
          "A": true,
          "p": 0.08451542547285164,
          "z": 3.5000000000000004
         },
         {
          "A": true,
          "p": 0.08333333333333333,
          "z": 3.6
         },
         {
          "A": true,
          "p": 0.08219949365267865,
          "z": 3.7
         },
         {
          "A": true,
          "p": 0.08111071056538127,
          "z": 3.8000000000000003
         },
         {
          "A": true,
          "p": 0.08006407690254357,
          "z": 3.9000000000000004
         },
         {
          "A": true,
          "p": 0.07905694150420949,
          "z": 4
         }
        ],
        "data-89a8ddb88ed1bbce5b68460de5942481": [
         {
          "A": false,
          "p": 0.5,
          "z": 0.1
         },
         {
          "A": false,
          "p": 0.35355339059327373,
          "z": 0.2
         },
         {
          "A": false,
          "p": 0.28867513459481287,
          "z": 0.30000000000000004
         },
         {
          "A": false,
          "p": 0.25,
          "z": 0.4
         },
         {
          "A": false,
          "p": 0.22360679774997896,
          "z": 0.5
         },
         {
          "A": false,
          "p": 0.20412414523193154,
          "z": 0.6
         },
         {
          "A": false,
          "p": 0.1889822365046136,
          "z": 0.7000000000000001
         },
         {
          "A": false,
          "p": 0.17677669529663687,
          "z": 0.8
         },
         {
          "A": false,
          "p": 0.16666666666666666,
          "z": 0.9
         },
         {
          "A": true,
          "p": 0.15811388300841897,
          "z": 1
         },
         {
          "A": true,
          "p": 0.15075567228888181,
          "z": 1.1
         },
         {
          "A": true,
          "p": 0.14433756729740643,
          "z": 1.2000000000000002
         },
         {
          "A": true,
          "p": 0.13867504905630726,
          "z": 1.3000000000000003
         },
         {
          "A": true,
          "p": 0.13363062095621217,
          "z": 1.4000000000000001
         },
         {
          "A": true,
          "p": 0.12909944487358055,
          "z": 1.5000000000000002
         },
         {
          "A": true,
          "p": 0.125,
          "z": 1.6
         },
         {
          "A": true,
          "p": 0.12126781251816648,
          "z": 1.7000000000000002
         },
         {
          "A": true,
          "p": 0.1178511301977579,
          "z": 1.8000000000000003
         },
         {
          "A": true,
          "p": 0.11470786693528087,
          "z": 1.9000000000000001
         },
         {
          "A": true,
          "p": 0.11180339887498948,
          "z": 2
         },
         {
          "A": true,
          "p": 0.1091089451179962,
          "z": 2.1
         },
         {
          "A": true,
          "p": 0.10660035817780521,
          "z": 2.2
         },
         {
          "A": true,
          "p": 0.10425720702853737,
          "z": 2.3000000000000003
         },
         {
          "A": true,
          "p": 0.10206207261596574,
          "z": 2.4000000000000004
         },
         {
          "A": true,
          "p": 0.1,
          "z": 2.5000000000000004
         },
         {
          "A": true,
          "p": 0.09805806756909202,
          "z": 2.6
         },
         {
          "A": true,
          "p": 0.09622504486493763,
          "z": 2.7
         },
         {
          "A": true,
          "p": 0.0944911182523068,
          "z": 2.8000000000000003
         },
         {
          "A": true,
          "p": 0.09284766908852592,
          "z": 2.9000000000000004
         },
         {
          "A": true,
          "p": 0.09128709291752768,
          "z": 3.0000000000000004
         },
         {
          "A": true,
          "p": 0.08980265101338746,
          "z": 3.1
         },
         {
          "A": true,
          "p": 0.08838834764831843,
          "z": 3.2
         },
         {
          "A": true,
          "p": 0.08703882797784893,
          "z": 3.3000000000000003
         },
         {
          "A": true,
          "p": 0.08574929257125441,
          "z": 3.4000000000000004
         },
         {
          "A": true,
          "p": 0.08451542547285164,
          "z": 3.5000000000000004
         },
         {
          "A": true,
          "p": 0.08333333333333333,
          "z": 3.6
         },
         {
          "A": true,
          "p": 0.08219949365267865,
          "z": 3.7
         },
         {
          "A": true,
          "p": 0.08111071056538127,
          "z": 3.8000000000000003
         },
         {
          "A": true,
          "p": 0.08006407690254357,
          "z": 3.9000000000000004
         },
         {
          "A": true,
          "p": 0.07905694150420949,
          "z": 4
         },
         {
          "A": false,
          "p": 0.07808688094430304,
          "z": 4.1
         },
         {
          "A": false,
          "p": 0.07715167498104596,
          "z": 4.2
         },
         {
          "A": false,
          "p": 0.07624928516630233,
          "z": 4.3
         },
         {
          "A": false,
          "p": 0.07537783614444092,
          "z": 4.3999999999999995
         },
         {
          "A": false,
          "p": 0.07453559924999299,
          "z": 4.5
         },
         {
          "A": false,
          "p": 0.07372097807744857,
          "z": 4.6
         },
         {
          "A": false,
          "p": 0.07293249574894728,
          "z": 4.7
         },
         {
          "A": false,
          "p": 0.07216878364870323,
          "z": 4.8
         },
         {
          "A": false,
          "p": 0.07142857142857142,
          "z": 4.9
         },
         {
          "A": false,
          "p": 0.07071067811865475,
          "z": 5
         },
         {
          "A": false,
          "p": 0.07001400420140048,
          "z": 5.1
         },
         {
          "A": false,
          "p": 0.06933752452815364,
          "z": 5.2
         },
         {
          "A": false,
          "p": 0.06868028197434452,
          "z": 5.3
         },
         {
          "A": false,
          "p": 0.06804138174397717,
          "z": 5.4
         },
         {
          "A": false,
          "p": 0.06741998624632421,
          "z": 5.5
         },
         {
          "A": false,
          "p": 0.0668153104781061,
          "z": 5.6
         },
         {
          "A": false,
          "p": 0.06622661785325219,
          "z": 5.7
         },
         {
          "A": false,
          "p": 0.06565321642986127,
          "z": 5.8
         },
         {
          "A": false,
          "p": 0.06509445549041194,
          "z": 5.9
         },
         {
          "A": false,
          "p": 0.06454972243679027,
          "z": 6
         },
         {
          "A": false,
          "p": 0.06401843996644799,
          "z": 6.1
         },
         {
          "A": false,
          "p": 0.06350006350009525,
          "z": 6.2
         },
         {
          "A": false,
          "p": 0.0629940788348712,
          "z": 6.3
         },
         {
          "A": false,
          "p": 0.0625,
          "z": 6.4
         },
         {
          "A": false,
          "p": 0.062017367294604234,
          "z": 6.5
         },
         {
          "A": false,
          "p": 0.06154574548966636,
          "z": 6.6
         },
         {
          "A": false,
          "p": 0.06108472217815261,
          "z": 6.7
         },
         {
          "A": false,
          "p": 0.06063390625908324,
          "z": 6.8
         },
         {
          "A": false,
          "p": 0.0601929265428846,
          "z": 6.9
         },
         {
          "A": false,
          "p": 0.05976143046671968,
          "z": 7
         },
         {
          "A": false,
          "p": 0.05933908290969266,
          "z": 7.1
         },
         {
          "A": false,
          "p": 0.05892556509887897,
          "z": 7.2
         },
         {
          "A": false,
          "p": 0.058520573598065284,
          "z": 7.3
         },
         {
          "A": false,
          "p": 0.05812381937190964,
          "z": 7.4
         },
         {
          "A": false,
          "p": 0.05773502691896257,
          "z": 7.5
         },
         {
          "A": false,
          "p": 0.057353933467640436,
          "z": 7.6
         },
         {
          "A": false,
          "p": 0.05698028822981897,
          "z": 7.7
         },
         {
          "A": false,
          "p": 0.05661385170722978,
          "z": 7.8
         },
         {
          "A": false,
          "p": 0.0562543950463012,
          "z": 7.9
         },
         {
          "A": false,
          "p": 0.05590169943749474,
          "z": 8
         },
         {
          "A": false,
          "p": 0.05555555555555555,
          "z": 8.1
         },
         {
          "A": false,
          "p": 0.05521576303742327,
          "z": 8.2
         },
         {
          "A": false,
          "p": 0.05488212999484517,
          "z": 8.3
         },
         {
          "A": false,
          "p": 0.0545544725589981,
          "z": 8.4
         },
         {
          "A": false,
          "p": 0.05423261445466404,
          "z": 8.5
         },
         {
          "A": false,
          "p": 0.053916386601719206,
          "z": 8.6
         },
         {
          "A": false,
          "p": 0.05360562674188974,
          "z": 8.7
         },
         {
          "A": false,
          "p": 0.053300179088902604,
          "z": 8.8
         },
         {
          "A": false,
          "p": 0.052999894000318,
          "z": 8.9
         },
         {
          "A": false,
          "p": 0.05270462766947299,
          "z": 9
         },
         {
          "A": false,
          "p": 0.052414241836095915,
          "z": 9.1
         },
         {
          "A": false,
          "p": 0.05212860351426869,
          "z": 9.2
         },
         {
          "A": false,
          "p": 0.05184758473652126,
          "z": 9.3
         },
         {
          "A": false,
          "p": 0.05157106231293967,
          "z": 9.4
         },
         {
          "A": false,
          "p": 0.051298917604257706,
          "z": 9.5
         },
         {
          "A": false,
          "p": 0.051031036307982884,
          "z": 9.6
         },
         {
          "A": false,
          "p": 0.050767308256680944,
          "z": 9.700000000000001
         },
         {
          "A": false,
          "p": 0.050507627227610534,
          "z": 9.8
         },
         {
          "A": false,
          "p": 0.050251890762960605,
          "z": 9.9
         }
        ]
       },
       "layer": [
        {
         "data": {
          "name": "data-89a8ddb88ed1bbce5b68460de5942481"
         },
         "encoding": {
          "x": {
           "field": "z",
           "type": "quantitative"
          },
          "y": {
           "field": "p",
           "type": "quantitative"
          }
         },
         "height": 100,
         "mark": "area",
         "width": 400
        },
        {
         "data": {
          "name": "data-38281cf2c0e1505142c3c5058c2c3093"
         },
         "encoding": {
          "x": {
           "field": "z",
           "type": "quantitative"
          },
          "y": {
           "field": "p",
           "type": "quantitative"
          }
         },
         "mark": {
          "color": "orange",
          "type": "area"
         }
        }
       ]
      },
      "image/png": "[encoded data removed]",
      "text/plain": [
       "<VegaLite 3 object>\n",
       "\n",
       "If you see this message, it means the renderer has not been properly enabled\n",
       "for the frontend that you are using. For more information, see\n",
       "https://altair-viz.github.io/user_guide/troubleshooting.html\n"
      ]
     },
     "execution_count": 21,
     "metadata": {},
     "output_type": "execute_result"
    }
   ],
   "source": [
    "A = (1<=z) & (z<=4)\n",
    "distribution = pd.DataFrame({'z':z, 'p':p, 'A':A})\n",
    "alt.Chart(distribution, height=100, width=400).mark_area().encode(\n",
    "    x='z',\n",
    "    y='p'\n",
    ") + alt.Chart(distribution.query('A')).mark_area(color='orange').encode(\n",
    "    x='z',\n",
    "    y='p'\n",
    ")"
   ]
  },
  {
   "cell_type": "markdown",
   "metadata": {},
   "source": [
    "For example, the probability that $\\mathbf Z$ is in the set $[1,4]$ is the area shaded in orange above."
   ]
  },
  {
   "cell_type": "markdown",
   "metadata": {},
   "source": [
    "<div class=\"alert alert-block alert-warning\">\n",
    "<b>Note:</b> \n",
    "\n",
    "The notation $\\int_{A} \\phi(z) dz$ just means $\\int_{-\\infty}^\\infty I_A(z)\\phi(z) dz$ where the <b>indicator function</b> $I_A(z)$ is 1 if $z\\in A$ and 0 else. In othe words, all we're doing is summing up the $\\phi(x)dx$s where $x \\in A$. That's analogous to summing up the $\\phi(v)$s where $v \\in A$ in the discrete case.\n",
    "\n",
    "</div>"
   ]
  },
  {
   "cell_type": "markdown",
   "metadata": {},
   "source": [
    "<div class=\"alert alert-block alert-info\">\n",
    "<b>Exercise:</b> \n",
    "\n",
    "For our random variable $\\mathbf Z$ with density $\\phi(z) =\\frac{1}{2\\sqrt{10z}}$, what is $P(\\mathbf Z \\in [0, 10])$? Calculate the probability by integrating the density function. Does your answer line up with what you expect based on our original definition of $\\mathbf Z$? \n",
    "    \n",
    "Here is another random variable that, like $\\mathbf Z$, maps outcomes in $\\Omega = [0,1]$ to values in $[0,10]$: $\\mathbf W(\\omega) = 10\\omega$. Calculate $P(\\mathbf W \\in [a,b])$ for some interval $[a,b]$. What is the probability density function for $\\mathbf W$? What is $P(\\mathbf W \\in [0, 10])$?\n",
    "    \n",
    "For <i>any</i> continuous random variable $\\mathbf X$, what is $\\int_{-\\infty}^{\\infty} \\phi(x) dx$ (<i>hint</i>: what probability does this represent)? What is $\\Phi(-\\infty)$? $\\Phi(\\infty)$? \n",
    "    \n",
    "Is it possible to have a random variable $\\mathbf Q$ with $\\phi_{\\mathbf Q}(q) < 0$ for some $q$ that is a possible realization of $\\mathbf Q$? Why does this not make sense?\n",
    "    \n",
    "For two values $a < b$, is it possible that $\\Phi(a) > \\Phi(b)$? Why nor why not?\n",
    "    \n",
    "</div>"
   ]
  },
  {
   "cell_type": "markdown",
   "metadata": {},
   "source": [
    "At this point, talking about the outcomes $\\omega$ is kind of silly. If two random variables have the same probability mass function or the same probability density function, then, for all intents and purposes, they are the same random variable. It doens't matter exactly which outcomes map to which values, as long as the proportions are the same. We already demonstrated this in the discrete case.\n",
    "\n",
    "To show the same concept for continuous random variables, here is a new random variable $\\mathbf Z'$ whose sample space $\\Omega$ is $[-100, 100]$ instead of $[0,1]$, but which has the same probability density function as our other random variable $\\mathbf Z$: \n",
    "\n",
    "$$\n",
    "\\mathbf Z'(\\omega) = 10\\left(\\frac{\\omega+100}{200}\\right)^2\n",
    "$$"
   ]
  },
  {
   "cell_type": "markdown",
   "metadata": {},
   "source": [
    "<div class=\"alert alert-block alert-info\">\n",
    "<b>Exercise:</b> \n",
    "\n",
    "Prove to yourself that $\\mathbf Z'$ has the same probability density function as $\\mathbf Z$.\n",
    "    \n",
    "</div>"
   ]
  },
  {
   "cell_type": "markdown",
   "metadata": {},
   "source": [
    "For this we use the notation $\\mathbf Z \\sim \\mathbf Z'$. Technically they are not the same since the sample spaces are different, so we shouldn't write $\\mathbf Z = \\mathbf Z'$. But as far as an observer who is outside the curtain is concerned, there is no way to tell them apart. The *distribution* of the random variable is what really matters. "
   ]
  },
  {
   "cell_type": "markdown",
   "metadata": {},
   "source": [
    "I think about mass or density functions as convenient abstraction layers between me and the random variable. If I want to know a probability, I don't have to go to the random variable and count up the volume of something in the sample space, I just \"query\" the mass or density. The \"query engine\" happens to be an integral or sum, and the query itself is the region of space that I want to integrate over. In a nutshell:\n",
    "\n",
    "$$\n",
    "\\mathbb P(\\mathbf Z^{-1}(A)) = \\int_A \\phi_{\\mathbf Z}(z) dz\n",
    "\\quad\n",
    "\\text{or}\n",
    "\\quad\n",
    "\\mathbb P(\\mathbf Z^{-1}(A)) = \\sum_{z \\in A} \\phi_{\\mathbf Z}(z)\n",
    "$$"
   ]
  },
  {
   "cell_type": "markdown",
   "metadata": {},
   "source": [
    "So if we have $\\phi_Z$, we don't need to worry about figuring out what $\\mathbf Z^{-1}(A)$ is or how to do the measurement of that set using $\\mathbb P$. Finding preimages and measuring them is hard. Integrating and summing are easier.\n"
   ]
  },
  {
   "cell_type": "markdown",
   "metadata": {},
   "source": [
    "### Histograms vs. mass and density functions"
   ]
  },
  {
   "cell_type": "markdown",
   "metadata": {},
   "source": [
    "Many of you are probably already familiar with histograms. Histograms are a way of visualizing observed data. Each observed value is stacked up on top of its approximate label (e.g. any $z$ between 0.5 and 1.5 is labeled \"1\") and the counts are plotted:"
   ]
  },
  {
   "cell_type": "code",
   "execution_count": 22,
   "metadata": {},
   "outputs": [
    {
     "data": {
      "application/vnd.vegalite.v3+json": {
       "$schema": "https://vega.github.io/schema/vega-lite/v3.4.0.json",
       "config": {
        "mark": {
         "tooltip": null
        },
        "view": {
         "height": 300,
         "width": 400
        }
       },
       "data": {
        "name": "data-dd5cc3f6f6ec30630d3c7599c5fc6661"
       },
       "datasets": {
        "data-dd5cc3f6f6ec30630d3c7599c5fc6661": [
         {
          "z": 0.08669438945731539
         },
         {
          "z": 0.009891735857651686
         },
         {
          "z": 4.619570553535651
         },
         {
          "z": 9.81868581917855
         },
         {
          "z": 5.390398200646206
         },
         {
          "z": 4.3037358961050325
         },
         {
          "z": 9.60888624305303
         },
         {
          "z": 4.931668157777803
         },
         {
          "z": 0.002252214784628352
         },
         {
          "z": 2.4405502136707256
         },
         {
          "z": 0.9342786386088915
         },
         {
          "z": 9.05998635867435
         },
         {
          "z": 8.773627544898066
         },
         {
          "z": 6.713248170524684
         },
         {
          "z": 2.344347073505841
         },
         {
          "z": 6.513882944218462
         },
         {
          "z": 3.225822991442681
         },
         {
          "z": 0.7902437180906221
         },
         {
          "z": 6.24839967874351
         },
         {
          "z": 4.797617887216293
         },
         {
          "z": 0.00017549922522004793
         },
         {
          "z": 1.5341837261100162
         },
         {
          "z": 2.0482115734301978
         },
         {
          "z": 0.17833473752513396
         },
         {
          "z": 8.053512475287148
         },
         {
          "z": 1.994722074708336
         },
         {
          "z": 2.267093186761246
         },
         {
          "z": 5.068466553491387
         },
         {
          "z": 5.0201397283914515
         },
         {
          "z": 3.530921741994813
         },
         {
          "z": 3.9908801639602953
         },
         {
          "z": 6.642566659109156
         },
         {
          "z": 0.3841275249457421
         },
         {
          "z": 1.1082604382501107
         },
         {
          "z": 9.890677278907061
         },
         {
          "z": 3.925029921743372
         },
         {
          "z": 1.9025116077110176
         },
         {
          "z": 5.5540385835433215
         },
         {
          "z": 9.21720528187716
         },
         {
          "z": 4.834391759512858
         },
         {
          "z": 0.05104420598370122
         },
         {
          "z": 2.862071008587099
         },
         {
          "z": 0.052149169883487806
         },
         {
          "z": 5.700923803743072
         },
         {
          "z": 7.785656865516016
         },
         {
          "z": 3.8259446932769547
         },
         {
          "z": 3.3788709874392224
         },
         {
          "z": 0.8851998724462424
         },
         {
          "z": 0.5600124925195611
         },
         {
          "z": 0.9260867385574001
         },
         {
          "z": 0.3392678357461274
         },
         {
          "z": 8.149384341765773
         },
         {
          "z": 0.37774512528272486
         },
         {
          "z": 0.058485516361281575
         },
         {
          "z": 0.3377055505086811
         },
         {
          "z": 0.004771570131780249
         },
         {
          "z": 3.2719344287486822
         },
         {
          "z": 6.185424362718466
         },
         {
          "z": 0.5073441758525933
         },
         {
          "z": 7.724134739202264
         },
         {
          "z": 0.03962342896088425
         },
         {
          "z": 4.11764181866015
         },
         {
          "z": 2.3409376412485665
         },
         {
          "z": 8.294229539358936
         },
         {
          "z": 4.722462256127074
         },
         {
          "z": 7.218082118039063
         },
         {
          "z": 0.8556705695079383
         },
         {
          "z": 0.5395982784793529
         },
         {
          "z": 0.7776926341316397
         },
         {
          "z": 2.6972242584220707
         },
         {
          "z": 0.1762097192545517
         },
         {
          "z": 0.7984107134080985
         },
         {
          "z": 1.7940252386085027
         },
         {
          "z": 2.9302810468020213
         },
         {
          "z": 2.6401309120235887
         },
         {
          "z": 2.594937359228104
         },
         {
          "z": 0.37607732242225883
         },
         {
          "z": 3.187569212598604
         },
         {
          "z": 2.8255258790523703
         },
         {
          "z": 3.8588001855839966
         },
         {
          "z": 9.409832447334637
         },
         {
          "z": 8.050777850473308
         },
         {
          "z": 0.28780633644030784
         },
         {
          "z": 0.0007874830539535383
         },
         {
          "z": 0.042943986443158756
         },
         {
          "z": 0.008427651871838032
         },
         {
          "z": 0.6806118000048623
         },
         {
          "z": 1.502672032892645
         },
         {
          "z": 2.4944327090615155
         },
         {
          "z": 7.733411962008862
         },
         {
          "z": 6.649076807947621
         },
         {
          "z": 7.426575608217618
         },
         {
          "z": 6.459695008354385
         },
         {
          "z": 4.4755857657752385
         },
         {
          "z": 6.016508417145366
         },
         {
          "z": 0.024161491892500934
         },
         {
          "z": 2.931377089355438
         },
         {
          "z": 0.9628717713332591
         },
         {
          "z": 3.4057303980694136
         },
         {
          "z": 4.989272736055053
         },
         {
          "z": 1.3351888293174075
         },
         {
          "z": 2.209959112502408
         },
         {
          "z": 0.9517381011545354
         },
         {
          "z": 0.29226182721009986
         },
         {
          "z": 0.481003208090927
         },
         {
          "z": 0.05979317055022908
         },
         {
          "z": 7.399935232385589
         },
         {
          "z": 0.016428769974072534
         },
         {
          "z": 2.0882583781977364
         },
         {
          "z": 3.7933165389371104
         },
         {
          "z": 4.126773694670518
         },
         {
          "z": 8.314788415281933
         },
         {
          "z": 2.814176273247892
         },
         {
          "z": 6.000905328760321
         },
         {
          "z": 1.6679311357147253
         },
         {
          "z": 4.172968219044183
         },
         {
          "z": 0.37837826686176856
         },
         {
          "z": 0.5218885628296549
         },
         {
          "z": 8.689110379333924
         },
         {
          "z": 2.5008939126459833
         },
         {
          "z": 2.174641405909272
         },
         {
          "z": 0.057654596211512366
         },
         {
          "z": 0.12826275247730076
         },
         {
          "z": 3.022123274902034
         },
         {
          "z": 8.634400490886659
         },
         {
          "z": 0.24426849128776518
         },
         {
          "z": 4.021270344467787
         },
         {
          "z": 0.5130748550389566
         },
         {
          "z": 0.017000495714048457
         },
         {
          "z": 0.2555505008287776
         },
         {
          "z": 9.258207260246522
         },
         {
          "z": 0.09416323656372315
         },
         {
          "z": 7.751632654200485
         },
         {
          "z": 0.7759189391987141
         },
         {
          "z": 2.4197295939341483
         },
         {
          "z": 0.34467578607236626
         },
         {
          "z": 4.005334530235977
         },
         {
          "z": 0.40256416893873026
         },
         {
          "z": 5.921575704288582
         },
         {
          "z": 9.882506658916807
         },
         {
          "z": 2.1802598370370627
         },
         {
          "z": 0.018166957116360967
         },
         {
          "z": 0.4659108489821122
         },
         {
          "z": 0.011534382074430442
         },
         {
          "z": 0.3436863690743664
         },
         {
          "z": 1.3965518973288191
         },
         {
          "z": 4.492036791482855
         },
         {
          "z": 4.606488274041973
         },
         {
          "z": 8.358653878921396
         },
         {
          "z": 2.1135721189820176
         },
         {
          "z": 3.2670300714132767
         },
         {
          "z": 0.02033179139697753
         },
         {
          "z": 8.050814355515039
         },
         {
          "z": 1.4960866420963645
         },
         {
          "z": 6.862103289362443
         },
         {
          "z": 0.00903389407218387
         },
         {
          "z": 0.19710518580535097
         },
         {
          "z": 7.0397855455895195
         },
         {
          "z": 1.0092066558580277
         },
         {
          "z": 6.028201448164065
         },
         {
          "z": 0.08750449652886919
         },
         {
          "z": 0.502028809054239
         },
         {
          "z": 6.860994681770579
         },
         {
          "z": 2.517968283719787
         },
         {
          "z": 0.2279722724881284
         },
         {
          "z": 2.6737536899258725
         },
         {
          "z": 7.876853486258887
         },
         {
          "z": 8.204202812835085
         },
         {
          "z": 2.8562713940305313
         },
         {
          "z": 0.17748511819500837
         },
         {
          "z": 0.11775080807964354
         },
         {
          "z": 9.708945844188758
         },
         {
          "z": 1.142428589275212
         },
         {
          "z": 1.1908283979933867
         },
         {
          "z": 1.2685794503282553
         },
         {
          "z": 3.9449111154837935
         },
         {
          "z": 7.068264987908339
         },
         {
          "z": 9.473305107511685
         },
         {
          "z": 3.9114624122781825
         },
         {
          "z": 8.483927399362901
         },
         {
          "z": 2.5322735300560533
         },
         {
          "z": 0.00041978293579813457
         },
         {
          "z": 6.3642037314456115
         },
         {
          "z": 6.811627595019365
         },
         {
          "z": 3.9113359198240256
         },
         {
          "z": 8.026364676045432
         },
         {
          "z": 0.2608507185970869
         },
         {
          "z": 1.1553119520832738
         },
         {
          "z": 6.727443097709907
         },
         {
          "z": 4.209167030601795
         },
         {
          "z": 1.2965991439876112
         },
         {
          "z": 0.045486548926531666
         },
         {
          "z": 8.302278184566195
         },
         {
          "z": 4.377228137053638
         },
         {
          "z": 0.48159136534669356
         },
         {
          "z": 6.10949764409047
         },
         {
          "z": 9.504491493494124
         },
         {
          "z": 4.811991187014161
         },
         {
          "z": 6.452050661311054
         },
         {
          "z": 2.0060557232979703
         },
         {
          "z": 2.0637959868445592
         },
         {
          "z": 9.882354308228145
         },
         {
          "z": 6.377762488868411
         },
         {
          "z": 0.46771553643827823
         },
         {
          "z": 0.10904349406440081
         },
         {
          "z": 0.5069189840353615
         },
         {
          "z": 0.005583804120458418
         },
         {
          "z": 7.280020958576852
         },
         {
          "z": 5.518028241613171
         },
         {
          "z": 6.495782555285764
         },
         {
          "z": 4.795089788762303
         },
         {
          "z": 0.17020397166764195
         },
         {
          "z": 3.8121795525305253
         },
         {
          "z": 8.057040332947302
         },
         {
          "z": 2.76614059580106
         },
         {
          "z": 0.0007905424029998273
         },
         {
          "z": 4.904049099892986
         },
         {
          "z": 1.2749375935040526
         },
         {
          "z": 0.5131941840276207
         },
         {
          "z": 5.240325446546155
         },
         {
          "z": 6.339067640013014
         },
         {
          "z": 0.6616877519285731
         },
         {
          "z": 5.504023355183676
         },
         {
          "z": 1.6388342783129606
         },
         {
          "z": 0.5814856914280719
         },
         {
          "z": 0.18607283624189885
         },
         {
          "z": 1.6134608345718746
         },
         {
          "z": 0.9632021851836772
         },
         {
          "z": 0.5763678777165961
         },
         {
          "z": 1.7440614574626436
         },
         {
          "z": 5.382683535032712
         },
         {
          "z": 3.6486537142308957
         },
         {
          "z": 2.1451329754250077
         },
         {
          "z": 3.4718417059340947
         },
         {
          "z": 1.4438413349785284
         },
         {
          "z": 4.197616202407582
         },
         {
          "z": 0.2541720185432463
         },
         {
          "z": 6.403096687589461
         },
         {
          "z": 0.07202830074441961
         },
         {
          "z": 1.4120233634463535
         },
         {
          "z": 0.5470599424227105
         },
         {
          "z": 0.011623102456473598
         },
         {
          "z": 0.4532659021685687
         },
         {
          "z": 0.8782327229327918
         },
         {
          "z": 1.496385425378059
         },
         {
          "z": 0.08928947019658301
         },
         {
          "z": 0.014455723032265489
         },
         {
          "z": 1.950415287408644
         },
         {
          "z": 2.5974780177576444
         },
         {
          "z": 0.024712646967454732
         },
         {
          "z": 0.5190428162574958
         },
         {
          "z": 1.990252344249914
         },
         {
          "z": 8.080534376577935
         },
         {
          "z": 0.4560794955215669
         },
         {
          "z": 2.452268342523437
         },
         {
          "z": 0.8564710182857087
         },
         {
          "z": 0.008648868135558827
         },
         {
          "z": 0.24215297658315033
         },
         {
          "z": 7.97653087738987
         },
         {
          "z": 7.477157739563143
         },
         {
          "z": 0.00013730519252546562
         },
         {
          "z": 1.9745096877393191
         },
         {
          "z": 7.053794553449352
         },
         {
          "z": 0.7774098395677382
         },
         {
          "z": 4.699303161600675
         },
         {
          "z": 4.981471820816536
         },
         {
          "z": 5.867322913566753
         },
         {
          "z": 3.1556570109739255
         },
         {
          "z": 1.28107363966962
         },
         {
          "z": 0.1487679572329809
         },
         {
          "z": 7.93434294872511
         },
         {
          "z": 1.1815557112129418
         },
         {
          "z": 0.05789809474961605
         },
         {
          "z": 3.241969944854774
         },
         {
          "z": 2.212191718853752
         },
         {
          "z": 9.718709867064744
         },
         {
          "z": 0.6812727255452029
         },
         {
          "z": 7.352803026127143
         },
         {
          "z": 6.015349027670379
         },
         {
          "z": 0.2558363217287748
         },
         {
          "z": 0.19020385094202913
         },
         {
          "z": 8.634341674044308
         },
         {
          "z": 0.27257041411515837
         },
         {
          "z": 6.346944051088348
         },
         {
          "z": 5.475626854896232
         },
         {
          "z": 5.50296111841737
         },
         {
          "z": 8.931869798916335
         },
         {
          "z": 0.8296007713923483
         },
         {
          "z": 8.241475801922757
         },
         {
          "z": 0.8488637000384093
         },
         {
          "z": 3.3892443381770554
         },
         {
          "z": 8.268249967894183
         },
         {
          "z": 0.19276212976312793
         },
         {
          "z": 0.006329610240971354
         },
         {
          "z": 6.0987516810946785
         },
         {
          "z": 0.20439613912202653
         },
         {
          "z": 0.026313142765479677
         },
         {
          "z": 4.206527885037118
         },
         {
          "z": 1.232044595440833
         },
         {
          "z": 3.2136329618954114
         },
         {
          "z": 1.3468172872747906
         },
         {
          "z": 0.845848807427042
         },
         {
          "z": 0.887275794869638
         },
         {
          "z": 5.376199491153153
         },
         {
          "z": 7.783987125005214
         },
         {
          "z": 7.830510576019525
         },
         {
          "z": 9.368643891446823
         },
         {
          "z": 2.2550398064989565
         },
         {
          "z": 6.235767104660665
         },
         {
          "z": 2.452188334009086
         },
         {
          "z": 0.1219262208859681
         },
         {
          "z": 1.482231577146087
         },
         {
          "z": 0.8294132588029415
         },
         {
          "z": 0.9242769094134383
         },
         {
          "z": 0.11334094469459198
         },
         {
          "z": 1.3075272730649847
         },
         {
          "z": 6.267583168371351
         },
         {
          "z": 0.29920851687092886
         },
         {
          "z": 2.7856392739579983
         },
         {
          "z": 5.481879867927725
         },
         {
          "z": 0.1877841785677039
         },
         {
          "z": 0.03397494485975038
         },
         {
          "z": 0.13746005888412824
         },
         {
          "z": 5.087354229802602
         },
         {
          "z": 0.4921070073109518
         },
         {
          "z": 9.612538206396158
         },
         {
          "z": 0.10587233020258313
         },
         {
          "z": 1.6231845554516466
         },
         {
          "z": 0.26883874734131036
         },
         {
          "z": 4.68376918852652
         },
         {
          "z": 4.96520258416991
         },
         {
          "z": 6.693374849653918
         },
         {
          "z": 6.864127661755442
         },
         {
          "z": 1.8457297213007948
         },
         {
          "z": 9.199450931532649
         },
         {
          "z": 0.3325474773570377
         },
         {
          "z": 7.828115421687931
         },
         {
          "z": 1.3483639172283415
         },
         {
          "z": 8.191125356802141
         },
         {
          "z": 2.503576808747546
         },
         {
          "z": 0.9705567746592169
         },
         {
          "z": 8.505819664296993
         },
         {
          "z": 2.0235279398265407
         },
         {
          "z": 0.6815925619892165
         },
         {
          "z": 0.022570463417420764
         },
         {
          "z": 4.921118392169958
         },
         {
          "z": 2.2698095375587073
         },
         {
          "z": 0.01399928279103676
         },
         {
          "z": 3.349093996231249
         },
         {
          "z": 2.38459760829324
         },
         {
          "z": 1.7441737532849777
         },
         {
          "z": 1.4313101197501443
         },
         {
          "z": 3.1902964965211185
         },
         {
          "z": 0.4100328476180213
         },
         {
          "z": 1.4885313918101153
         },
         {
          "z": 0.9643076089817358
         },
         {
          "z": 1.816594032336134
         },
         {
          "z": 0.7719259362605168
         },
         {
          "z": 3.8158635370231635
         },
         {
          "z": 8.703614417491305
         },
         {
          "z": 4.227379420263674
         },
         {
          "z": 0.00831675104482035
         },
         {
          "z": 0.6924892808770254
         },
         {
          "z": 6.182192083472486
         },
         {
          "z": 2.321246690576396
         },
         {
          "z": 7.401792052148388
         },
         {
          "z": 4.42999540213051
         },
         {
          "z": 3.917526855399905
         },
         {
          "z": 0.23987455449335932
         },
         {
          "z": 7.9438816560933
         },
         {
          "z": 0.9976690351324455
         },
         {
          "z": 2.6339740787386483
         },
         {
          "z": 0.12375364629347674
         },
         {
          "z": 0.005271869299286799
         },
         {
          "z": 0.49222036124549784
         },
         {
          "z": 1.4754722167948646
         },
         {
          "z": 4.282432128271346
         },
         {
          "z": 2.3726664463646947
         },
         {
          "z": 9.076922833599568
         },
         {
          "z": 6.9144571467325955
         },
         {
          "z": 5.608709088615152
         },
         {
          "z": 0.23066655223703997
         },
         {
          "z": 7.4721799428896665
         },
         {
          "z": 9.410036195893788
         },
         {
          "z": 0.5755290333716864
         },
         {
          "z": 9.101441258208975
         },
         {
          "z": 0.8602902489463153
         },
         {
          "z": 0.6226073531724594
         },
         {
          "z": 1.6494158774742425
         },
         {
          "z": 9.400313374989008
         },
         {
          "z": 1.0052668372622207
         },
         {
          "z": 2.893065584456849
         },
         {
          "z": 2.3027871357129808
         },
         {
          "z": 7.292113288511031
         },
         {
          "z": 1.9760539337253582
         },
         {
          "z": 0.1267102948750154
         },
         {
          "z": 4.432308179172599
         },
         {
          "z": 1.6724177479725815
         },
         {
          "z": 0.5599380891977168
         },
         {
          "z": 1.7804977596622396
         },
         {
          "z": 0.8067282810151633
         },
         {
          "z": 1.1193548530165234
         },
         {
          "z": 0.45557667633085197
         },
         {
          "z": 0.30853448123832106
         },
         {
          "z": 1.5115635939498928
         },
         {
          "z": 8.319479595906623
         },
         {
          "z": 6.131859484886898
         },
         {
          "z": 4.988075571025475
         },
         {
          "z": 9.30846192961444
         },
         {
          "z": 8.031092088267682
         },
         {
          "z": 2.768415639656045
         },
         {
          "z": 0.31284503860540924
         },
         {
          "z": 8.146394552771223
         },
         {
          "z": 3.4774716385103117
         },
         {
          "z": 1.0999989126357952
         },
         {
          "z": 0.174515825353984
         },
         {
          "z": 0.8790713324072913
         },
         {
          "z": 5.427168898319261
         },
         {
          "z": 0.33085890050381894
         },
         {
          "z": 0.0891942549672679
         },
         {
          "z": 0.029860767310515207
         },
         {
          "z": 0.8204904842888603
         },
         {
          "z": 8.289101649525291
         },
         {
          "z": 1.0880196665036066
         },
         {
          "z": 0.6697306775786545
         },
         {
          "z": 7.917680085672606
         },
         {
          "z": 4.687658312669861
         },
         {
          "z": 0.3425946237338812
         },
         {
          "z": 0.8635677067246614
         },
         {
          "z": 1.90822185214924
         },
         {
          "z": 5.662155153323062
         },
         {
          "z": 0.14808357602655636
         },
         {
          "z": 1.2169126382006725
         },
         {
          "z": 2.4186487736911273
         },
         {
          "z": 3.4836758807985895
         },
         {
          "z": 0.21732377397941263
         },
         {
          "z": 3.8375842211692817
         },
         {
          "z": 7.231116347358507
         },
         {
          "z": 3.6188775319031574
         },
         {
          "z": 1.2002034578943737
         },
         {
          "z": 1.5815733750473742
         },
         {
          "z": 1.181953177248098
         },
         {
          "z": 3.0270224103711607
         },
         {
          "z": 1.624555361591725
         },
         {
          "z": 1.142630029011789
         },
         {
          "z": 0.05336050898903505
         },
         {
          "z": 0.5077545303291757
         },
         {
          "z": 0.15646286027283798
         },
         {
          "z": 0.022660597417296684
         },
         {
          "z": 2.6771346706235697
         },
         {
          "z": 0.7324281358228286
         },
         {
          "z": 7.647391490510293
         },
         {
          "z": 4.691343476446608
         },
         {
          "z": 7.456954011360237
         },
         {
          "z": 3.8898697941087064
         },
         {
          "z": 6.034404525969626
         },
         {
          "z": 1.53301775792246
         },
         {
          "z": 8.503675660611203
         },
         {
          "z": 0.17154879858697825
         },
         {
          "z": 0.1422649357218835
         },
         {
          "z": 2.01450285249962
         },
         {
          "z": 6.9785529224791745
         },
         {
          "z": 2.2441613225194996
         },
         {
          "z": 0.9319038659727445
         },
         {
          "z": 3.29928346868713
         },
         {
          "z": 9.205555302619377
         },
         {
          "z": 7.744194604862108
         },
         {
          "z": 7.5903230756089695
         },
         {
          "z": 4.371775196052251
         },
         {
          "z": 8.21055808085853
         },
         {
          "z": 0.06524266160677658
         },
         {
          "z": 3.481411459765109
         },
         {
          "z": 1.3054879181229453
         },
         {
          "z": 3.395803358292449
         },
         {
          "z": 5.3913157024598455
         },
         {
          "z": 4.093635392646251
         },
         {
          "z": 0.23518043057981827
         },
         {
          "z": 2.064880564884122
         },
         {
          "z": 0.012244820765863553
         },
         {
          "z": 1.2738907493217522
         },
         {
          "z": 7.96233502499287
         },
         {
          "z": 9.71744832084227
         },
         {
          "z": 0.005992832196931815
         },
         {
          "z": 8.691531236043007
         },
         {
          "z": 7.74113982523399
         },
         {
          "z": 3.0386274280984154
         },
         {
          "z": 0.17853431565594108
         },
         {
          "z": 1.504261518041194
         },
         {
          "z": 5.417964827855028
         },
         {
          "z": 3.881247144295531
         },
         {
          "z": 4.6436618175297255
         },
         {
          "z": 0.11738737590685458
         },
         {
          "z": 1.7326746106618303
         },
         {
          "z": 4.004858389329506
         },
         {
          "z": 0.14249938222205727
         },
         {
          "z": 7.663878155063166
         },
         {
          "z": 8.189733281185354
         },
         {
          "z": 8.435570856487708
         },
         {
          "z": 9.203364305737088
         },
         {
          "z": 4.468296826236983
         },
         {
          "z": 3.081747369997989
         },
         {
          "z": 1.651475653992741
         },
         {
          "z": 7.531937615009846
         },
         {
          "z": 7.9064101158123865
         },
         {
          "z": 0.47969323241724066
         },
         {
          "z": 2.474165240442021
         },
         {
          "z": 5.908251945822879
         },
         {
          "z": 8.979517723159333
         },
         {
          "z": 0.9170174060778408
         },
         {
          "z": 1.4561959188167988
         },
         {
          "z": 1.6951095103138103
         },
         {
          "z": 1.3400536455010934
         },
         {
          "z": 0.15470531997935297
         },
         {
          "z": 5.2738414839299566
         },
         {
          "z": 5.377361410443334
         },
         {
          "z": 1.855984230372654
         },
         {
          "z": 1.1593882387178227
         },
         {
          "z": 0.3528237864959713
         },
         {
          "z": 9.956169200024013
         },
         {
          "z": 1.6685328563495267
         },
         {
          "z": 0.5678381256121021
         },
         {
          "z": 0.008644116312830326
         },
         {
          "z": 4.187765912202188
         },
         {
          "z": 9.795267452230807
         },
         {
          "z": 9.495310537633472
         },
         {
          "z": 1.6415427327925078
         },
         {
          "z": 6.054891752017592
         },
         {
          "z": 7.56889190908722
         },
         {
          "z": 6.7736458936934785
         },
         {
          "z": 0.04892871147016188
         },
         {
          "z": 7.166009441133429
         },
         {
          "z": 2.9416055498528837
         },
         {
          "z": 1.761357431256148
         },
         {
          "z": 7.169769854465584
         },
         {
          "z": 0.4047540754567141
         },
         {
          "z": 0.6745937680197783
         },
         {
          "z": 4.003722767562154
         },
         {
          "z": 4.198876275582246
         },
         {
          "z": 4.7955334006281705
         },
         {
          "z": 0.03593055666600511
         },
         {
          "z": 8.19461335214336
         },
         {
          "z": 0.27773490861752004
         },
         {
          "z": 0.35526421477226205
         },
         {
          "z": 5.848396818158157
         },
         {
          "z": 4.756156481136415
         },
         {
          "z": 1.3595794901503586
         },
         {
          "z": 2.860777858675176
         },
         {
          "z": 1.1504515082798685
         },
         {
          "z": 6.430250680196421
         },
         {
          "z": 1.9436538600715227
         },
         {
          "z": 4.000328482815729
         },
         {
          "z": 0.048434331369722985
         },
         {
          "z": 2.6258312916689164
         },
         {
          "z": 0.04863162673539968
         },
         {
          "z": 0.05742768950965018
         },
         {
          "z": 0.024166288542057282
         },
         {
          "z": 0.05013142820516813
         },
         {
          "z": 0.24927641948144852
         },
         {
          "z": 0.0260411295616368
         },
         {
          "z": 1.8047859949266285
         },
         {
          "z": 1.168854944008221
         },
         {
          "z": 7.644423880296507
         },
         {
          "z": 7.207307584361981
         },
         {
          "z": 1.7780901065035164
         },
         {
          "z": 0.019777342054898325
         },
         {
          "z": 1.9920222630701578
         },
         {
          "z": 3.348368937112085
         },
         {
          "z": 9.805832522075747
         },
         {
          "z": 9.916261073039866
         },
         {
          "z": 1.8648834524240696
         },
         {
          "z": 0.7344138062680912
         },
         {
          "z": 0.30920340770779536
         },
         {
          "z": 0.06367796007625293
         },
         {
          "z": 9.52278599955559
         },
         {
          "z": 0.7615967293114299
         },
         {
          "z": 1.172655754728888
         },
         {
          "z": 0.2249070655103602
         },
         {
          "z": 0.14320075959927261
         },
         {
          "z": 1.0383682506989855
         },
         {
          "z": 4.664615759342997
         },
         {
          "z": 7.544562079545637
         },
         {
          "z": 6.072937501021758
         },
         {
          "z": 0.00031845534858885883
         },
         {
          "z": 7.9872750397794
         },
         {
          "z": 0.7914310809274278
         },
         {
          "z": 8.503871380793356
         },
         {
          "z": 0.8615706433854688
         },
         {
          "z": 0.06171139008734893
         },
         {
          "z": 3.671585869475988
         },
         {
          "z": 0.8165855740222323
         },
         {
          "z": 0.2713200022036411
         },
         {
          "z": 4.863572616637918
         },
         {
          "z": 3.5006710487857147
         },
         {
          "z": 0.2914790936533202
         },
         {
          "z": 8.051456395217059
         },
         {
          "z": 0.5370636210486117
         },
         {
          "z": 1.2063607289986689
         },
         {
          "z": 8.760626268403264
         },
         {
          "z": 8.59317489981551
         },
         {
          "z": 2.754479777799776
         },
         {
          "z": 0.007303470014983015
         },
         {
          "z": 0.6610665577258368
         },
         {
          "z": 1.2685062988959175
         },
         {
          "z": 0.6920920649079363
         },
         {
          "z": 9.329693367123934
         },
         {
          "z": 0.7082868600271213
         },
         {
          "z": 2.71154723631423
         },
         {
          "z": 2.200001496638753
         },
         {
          "z": 8.68849069689761
         },
         {
          "z": 0.8121677149528073
         },
         {
          "z": 0.0016182841655775523
         },
         {
          "z": 0.7608264494111598
         },
         {
          "z": 2.022801947174072
         },
         {
          "z": 0.9490541899837366
         },
         {
          "z": 1.9711364200563817
         },
         {
          "z": 8.886000730162188
         },
         {
          "z": 1.3561042558661414
         },
         {
          "z": 0.03148688551165842
         },
         {
          "z": 1.7361167153568526
         },
         {
          "z": 0.9698774479238661
         },
         {
          "z": 0.04428525718809782
         },
         {
          "z": 0.3400628592473059
         },
         {
          "z": 1.693795780615038
         },
         {
          "z": 2.0885439178594143
         },
         {
          "z": 2.937099605279456
         },
         {
          "z": 0.8105153850378495
         },
         {
          "z": 7.934544721058763
         },
         {
          "z": 5.074428779354122
         },
         {
          "z": 0.20544408731780925
         },
         {
          "z": 0.02635610782509476
         },
         {
          "z": 6.929137784600581
         },
         {
          "z": 0.7063810496098154
         },
         {
          "z": 1.2314342987919096
         },
         {
          "z": 0.0039009996652069954
         },
         {
          "z": 0.825362695595526
         },
         {
          "z": 1.2934963833682542e-05
         },
         {
          "z": 7.934726724431157
         },
         {
          "z": 0.06511104478978917
         },
         {
          "z": 1.2706868302662633
         },
         {
          "z": 0.0075091789319240996
         },
         {
          "z": 1.8937627308655527
         },
         {
          "z": 3.5816842987846984
         },
         {
          "z": 3.969012774268012
         },
         {
          "z": 2.3997760729521866
         },
         {
          "z": 0.38667178761884435
         },
         {
          "z": 1.2852652136744391
         },
         {
          "z": 3.8029314004427754
         },
         {
          "z": 2.0698912473914737
         },
         {
          "z": 0.671249511807825
         },
         {
          "z": 1.671857563158619
         },
         {
          "z": 0.1498965441623432
         },
         {
          "z": 1.0227993479990352
         },
         {
          "z": 0.761203126503029
         },
         {
          "z": 4.439168131573805
         },
         {
          "z": 1.6062447007630385
         },
         {
          "z": 0.44487828424065057
         },
         {
          "z": 2.6790424815369382
         },
         {
          "z": 0.3712023173107753
         },
         {
          "z": 1.3084300777734366
         },
         {
          "z": 9.515720874686803
         },
         {
          "z": 1.693889858374119
         },
         {
          "z": 0.14258620149444393
         },
         {
          "z": 0.5078070494732766
         },
         {
          "z": 7.334300766413754
         },
         {
          "z": 4.376776968554175
         },
         {
          "z": 0.0832215710527335
         },
         {
          "z": 9.401478371872834
         },
         {
          "z": 2.987724063003641
         },
         {
          "z": 7.472639682454165
         },
         {
          "z": 0.32257671296997725
         },
         {
          "z": 0.28862209463985533
         },
         {
          "z": 0.3246574056919759
         },
         {
          "z": 5.3675523606467035
         },
         {
          "z": 9.572645639448481
         },
         {
          "z": 1.9697021840085227
         },
         {
          "z": 3.686839094535493
         },
         {
          "z": 0.5866464089873781
         },
         {
          "z": 3.3530532913164466
         },
         {
          "z": 8.515697870173152
         },
         {
          "z": 4.82231635161276
         },
         {
          "z": 5.833496148366015
         },
         {
          "z": 5.435661029893506
         },
         {
          "z": 1.568734686579912
         },
         {
          "z": 4.191344972433981
         },
         {
          "z": 0.782606604529431
         },
         {
          "z": 0.3868229249949881
         },
         {
          "z": 9.095957385323013
         },
         {
          "z": 0.6293493770129595
         },
         {
          "z": 0.06252435524553504
         },
         {
          "z": 3.5628034015190795
         },
         {
          "z": 8.995739354595816
         },
         {
          "z": 2.9243637574571157
         },
         {
          "z": 2.7791927290790075
         },
         {
          "z": 0.8356752934679628
         },
         {
          "z": 7.481528022359556
         },
         {
          "z": 2.247170807704217
         },
         {
          "z": 0.06886647224814432
         },
         {
          "z": 8.25617299417602
         },
         {
          "z": 4.38178409968817
         },
         {
          "z": 8.647053808951165
         },
         {
          "z": 7.490616490124883
         },
         {
          "z": 0.466790531462603
         },
         {
          "z": 6.410606078911912
         },
         {
          "z": 4.934418529230257
         },
         {
          "z": 0.7376807204114016
         },
         {
          "z": 1.8673672986137089
         },
         {
          "z": 0.004259054517609886
         },
         {
          "z": 8.022399786163657
         },
         {
          "z": 0.10884615370259644
         },
         {
          "z": 2.358255228213355
         },
         {
          "z": 3.9947317051305293
         },
         {
          "z": 1.2180240664080197
         },
         {
          "z": 2.871300585914294
         },
         {
          "z": 0.2424742031681063
         },
         {
          "z": 2.388254320685019
         },
         {
          "z": 4.321387252466795
         },
         {
          "z": 0.5480012141567573
         },
         {
          "z": 8.398958303254428
         },
         {
          "z": 0.3930803831207683
         },
         {
          "z": 6.500147133397995
         },
         {
          "z": 0.056057036222524094
         },
         {
          "z": 8.260942185013104
         },
         {
          "z": 2.5990060856119164
         },
         {
          "z": 0.36693472647779884
         },
         {
          "z": 0.7200778609714941
         },
         {
          "z": 9.70239060775759
         },
         {
          "z": 5.123880221293481
         },
         {
          "z": 0.9142582725014408
         },
         {
          "z": 0.26946355485874274
         },
         {
          "z": 9.016450841366332
         },
         {
          "z": 4.486169279168891
         },
         {
          "z": 0.10160285544479529
         },
         {
          "z": 3.407117808764803
         },
         {
          "z": 0.45865877118405257
         },
         {
          "z": 0.2399255899359553
         },
         {
          "z": 5.7945272451885375
         },
         {
          "z": 2.0963971288030643
         },
         {
          "z": 0.08273525840424603
         },
         {
          "z": 1.7717909792538653
         },
         {
          "z": 9.604075546523873
         },
         {
          "z": 9.076530987971843
         },
         {
          "z": 4.4647110215946615
         },
         {
          "z": 0.13219389485024377
         },
         {
          "z": 0.10217134904129727
         },
         {
          "z": 6.111500100028383
         },
         {
          "z": 3.8146196307893283
         },
         {
          "z": 2.261607755749049
         },
         {
          "z": 5.745898615974152
         },
         {
          "z": 2.7732852333070386
         },
         {
          "z": 7.4118880633572
         },
         {
          "z": 0.8816131054226412
         },
         {
          "z": 2.8071059737749913
         },
         {
          "z": 8.274691251244993
         },
         {
          "z": 4.878563299789185
         },
         {
          "z": 3.2819992922045054
         },
         {
          "z": 7.192925041567349
         },
         {
          "z": 3.881700366511709
         },
         {
          "z": 7.245158706548743
         },
         {
          "z": 7.758562970168947
         },
         {
          "z": 8.489917060190935
         },
         {
          "z": 0.16032559187681944
         },
         {
          "z": 3.128707698252125
         },
         {
          "z": 1.541279960796618
         },
         {
          "z": 1.2079303792648264
         },
         {
          "z": 3.0104537627670296
         },
         {
          "z": 0.36746362084449924
         },
         {
          "z": 0.17813836628454496
         },
         {
          "z": 5.692435175406061
         },
         {
          "z": 6.903782241306825
         },
         {
          "z": 8.42009563010755
         },
         {
          "z": 2.346333121473375
         },
         {
          "z": 0.15519381979674216
         },
         {
          "z": 8.603827703447472
         },
         {
          "z": 1.4269078481978583
         },
         {
          "z": 0.4176004488433338
         },
         {
          "z": 6.802556669038198
         },
         {
          "z": 0.4289776479671461
         },
         {
          "z": 1.4549996174044453
         },
         {
          "z": 4.19758889877866
         },
         {
          "z": 5.424578807593972
         },
         {
          "z": 7.090701001534593
         },
         {
          "z": 0.9187399474878728
         },
         {
          "z": 0.06034548173665642
         },
         {
          "z": 0.0005617154716875525
         },
         {
          "z": 0.9958036409209838
         },
         {
          "z": 1.6649964429165685
         },
         {
          "z": 8.421571951244616
         },
         {
          "z": 6.855744538373671
         },
         {
          "z": 3.4517344486284074
         },
         {
          "z": 6.311392951830959
         },
         {
          "z": 5.859501023342765
         },
         {
          "z": 2.5836681500709684
         },
         {
          "z": 4.1582593859974795
         },
         {
          "z": 5.550543247301361
         },
         {
          "z": 7.701616214777246
         },
         {
          "z": 0.015423087828562642
         },
         {
          "z": 1.7600809290039652
         },
         {
          "z": 2.2596116114547486
         },
         {
          "z": 7.794738041614908
         },
         {
          "z": 0.13929369659973764
         },
         {
          "z": 7.082760721814819
         },
         {
          "z": 0.33748477167177815
         },
         {
          "z": 7.945608949171417
         },
         {
          "z": 0.2983928677684765
         },
         {
          "z": 9.042691786498011
         },
         {
          "z": 0.4508262432286938
         },
         {
          "z": 0.06523036191832934
         },
         {
          "z": 5.244186578223316
         },
         {
          "z": 3.7357527009262936
         },
         {
          "z": 0.0007743385006764617
         },
         {
          "z": 5.54345877234407
         },
         {
          "z": 9.129887094160022
         },
         {
          "z": 1.0435641496707835
         },
         {
          "z": 3.3511677745393635
         },
         {
          "z": 0.8765270155351668
         },
         {
          "z": 2.324815292330919
         },
         {
          "z": 4.18030516575936
         },
         {
          "z": 8.550582896883906
         },
         {
          "z": 7.6204644395856675
         },
         {
          "z": 2.3923670154106786
         },
         {
          "z": 4.37231646251818
         },
         {
          "z": 0.2568030072316215
         },
         {
          "z": 3.297266043091069
         },
         {
          "z": 0.44521432390868554
         },
         {
          "z": 5.702536256742693
         },
         {
          "z": 5.452343139247224
         },
         {
          "z": 3.8320947051867553
         },
         {
          "z": 1.937391725915461
         },
         {
          "z": 8.622678465818124
         },
         {
          "z": 7.9566096973992835
         },
         {
          "z": 0.23615765141793854
         },
         {
          "z": 2.6414360210013283
         },
         {
          "z": 7.68433341772674
         },
         {
          "z": 2.9696890458756116
         },
         {
          "z": 4.284490918485636
         },
         {
          "z": 4.807474537794281
         },
         {
          "z": 0.07279107817976137
         },
         {
          "z": 3.069054088967926
         },
         {
          "z": 0.24881864948170873
         },
         {
          "z": 8.63801347966241
         },
         {
          "z": 5.709031664274504
         },
         {
          "z": 8.644154210260528
         },
         {
          "z": 0.6547960393286325
         },
         {
          "z": 3.467437297319496
         },
         {
          "z": 0.0005474918219985792
         },
         {
          "z": 2.5855148701293866
         },
         {
          "z": 3.5058686070400475
         },
         {
          "z": 4.24851647141656
         },
         {
          "z": 0.027431698110892626
         },
         {
          "z": 0.6395439279430014
         },
         {
          "z": 1.2263261724202428
         },
         {
          "z": 0.6185044318833963
         },
         {
          "z": 1.7298686835312749
         },
         {
          "z": 8.617983159101572
         },
         {
          "z": 0.013088285730913123
         },
         {
          "z": 7.700001557012519
         },
         {
          "z": 1.6672052111473088
         },
         {
          "z": 2.5953117082174595
         },
         {
          "z": 0.07195866865523609
         },
         {
          "z": 3.1895842341801917
         },
         {
          "z": 0.20390548081670037
         },
         {
          "z": 9.017730624795004
         },
         {
          "z": 9.693439719137373
         },
         {
          "z": 0.016186537990571223
         },
         {
          "z": 0.7243079864866003
         },
         {
          "z": 1.0805752069049628
         },
         {
          "z": 1.5311097026609841
         },
         {
          "z": 1.5648399730585874
         },
         {
          "z": 9.706506671672255
         },
         {
          "z": 2.9261209816598273
         },
         {
          "z": 2.600320064283352
         },
         {
          "z": 2.9440349227202804
         },
         {
          "z": 3.48487503602123
         },
         {
          "z": 3.1536497779202883
         },
         {
          "z": 0.015472219832757825
         },
         {
          "z": 0.5444724743618427
         },
         {
          "z": 0.07393744116403413
         },
         {
          "z": 6.853906802623881
         },
         {
          "z": 3.131818817709718e-05
         },
         {
          "z": 4.630937064849219
         },
         {
          "z": 1.7393397172229665
         },
         {
          "z": 4.843498791476999
         },
         {
          "z": 1.8892691679717686
         },
         {
          "z": 0.2049211699136455
         },
         {
          "z": 2.957849021643545
         },
         {
          "z": 6.448254554964378
         },
         {
          "z": 0.001418070782006561
         },
         {
          "z": 8.780715196357738
         },
         {
          "z": 3.443777680478899
         },
         {
          "z": 1.6526136026664882
         },
         {
          "z": 0.184622671544451
         },
         {
          "z": 4.590284264290134
         },
         {
          "z": 5.756192598864621
         },
         {
          "z": 0.20540960317785822
         },
         {
          "z": 3.358498994411671
         },
         {
          "z": 5.101200695207951
         },
         {
          "z": 7.767985045870798
         },
         {
          "z": 8.129138965133034
         },
         {
          "z": 0.7618767455920405
         },
         {
          "z": 8.062302019960526
         },
         {
          "z": 5.205428614608368
         },
         {
          "z": 1.0729097660419533
         },
         {
          "z": 3.2400995559676153
         },
         {
          "z": 6.682133634084168
         },
         {
          "z": 7.199866553212708
         },
         {
          "z": 0.18256019998271028
         },
         {
          "z": 3.043374434316804
         },
         {
          "z": 0.010414882727336637
         },
         {
          "z": 0.17627758031212495
         },
         {
          "z": 6.500028391501276
         },
         {
          "z": 7.6493077076733975
         },
         {
          "z": 8.091375230797977
         },
         {
          "z": 9.99086560556599
         },
         {
          "z": 2.4882701602495825
         },
         {
          "z": 1.290554159424295
         },
         {
          "z": 7.4496475776784035
         },
         {
          "z": 6.234945004472326
         },
         {
          "z": 3.6530741052063798
         },
         {
          "z": 2.06080493969912
         },
         {
          "z": 5.423912955159409
         },
         {
          "z": 3.3490894822684463
         },
         {
          "z": 0.7105817803987601
         },
         {
          "z": 0.24533514942315443
         },
         {
          "z": 3.511927443444293
         },
         {
          "z": 4.011829171654282
         },
         {
          "z": 0.9522058688783743
         },
         {
          "z": 0.06584833203858413
         },
         {
          "z": 0.46313064467182247
         },
         {
          "z": 0.39815529713649267
         },
         {
          "z": 0.46548794356912593
         },
         {
          "z": 0.002503264811183634
         },
         {
          "z": 2.599005967670097
         },
         {
          "z": 4.725549091373728
         },
         {
          "z": 1.2935214235319312
         },
         {
          "z": 0.17378898059441691
         },
         {
          "z": 3.925148561901321
         },
         {
          "z": 7.951757354152238
         },
         {
          "z": 3.332196214341882
         },
         {
          "z": 0.033758511482045436
         },
         {
          "z": 4.431879834513952
         },
         {
          "z": 5.906953488791818
         },
         {
          "z": 1.9619696469745458
         },
         {
          "z": 0.19664287578340417
         },
         {
          "z": 0.6881966957471892
         },
         {
          "z": 4.810105631894369
         },
         {
          "z": 2.8614854557355303
         },
         {
          "z": 2.256099486347956
         },
         {
          "z": 0.04727025070780066
         },
         {
          "z": 0.7559835144597359
         },
         {
          "z": 0.6275317719877509
         },
         {
          "z": 0.06616265384479926
         },
         {
          "z": 1.5720651962632306
         },
         {
          "z": 6.657294138724998
         },
         {
          "z": 0.003666864992920821
         },
         {
          "z": 7.579839666061833
         },
         {
          "z": 0.29117918817072647
         },
         {
          "z": 0.02928263252268818
         },
         {
          "z": 6.413877309691172
         },
         {
          "z": 5.779861335182991
         },
         {
          "z": 0.5704036264714416
         },
         {
          "z": 7.083322023013404
         },
         {
          "z": 4.55613965829221
         },
         {
          "z": 0.24607664288790665
         },
         {
          "z": 6.927038462625196
         },
         {
          "z": 1.4651808780831614
         },
         {
          "z": 6.443315468027979
         },
         {
          "z": 3.6364978013204836
         },
         {
          "z": 6.628828260331892
         },
         {
          "z": 4.814427362644732
         },
         {
          "z": 4.081928236459622
         },
         {
          "z": 1.959266540321041
         },
         {
          "z": 2.2715075742135196
         },
         {
          "z": 0.37186776887887285
         },
         {
          "z": 3.2671067780825034
         },
         {
          "z": 0.054161771412563245
         },
         {
          "z": 2.5096454754575666
         },
         {
          "z": 2.220062146620701
         },
         {
          "z": 2.1446919782371303
         },
         {
          "z": 0.5260301025186869
         },
         {
          "z": 0.9206873957239979
         },
         {
          "z": 0.8636407919441422
         },
         {
          "z": 0.7832332633130175
         },
         {
          "z": 8.582555084791203
         },
         {
          "z": 9.070670799582974
         },
         {
          "z": 1.4762363583472062
         },
         {
          "z": 6.018361548060813
         },
         {
          "z": 0.0024039101803458103
         },
         {
          "z": 6.438660497651498
         },
         {
          "z": 0.3784423513912164
         },
         {
          "z": 4.51688918778991
         },
         {
          "z": 5.387764899921076
         },
         {
          "z": 1.9777345711002345
         },
         {
          "z": 3.9387338638925193
         },
         {
          "z": 7.372827445411403
         },
         {
          "z": 0.26870386606958835
         },
         {
          "z": 8.428504261688463
         },
         {
          "z": 2.168004584866923
         },
         {
          "z": 4.073019558352447
         },
         {
          "z": 0.15784325756791295
         },
         {
          "z": 0.002841994360163907
         }
        ]
       },
       "encoding": {
        "x": {
         "bin": {
          "maxbins": 100
         },
         "field": "z",
         "type": "quantitative"
        },
        "y": {
         "aggregate": "count",
         "type": "quantitative"
        }
       },
       "height": 100,
       "mark": "bar",
       "width": 400
      },
      "image/png": "[encoded data removed]",
      "text/plain": [
       "<VegaLite 3 object>\n",
       "\n",
       "If you see this message, it means the renderer has not been properly enabled\n",
       "for the frontend that you are using. For more information, see\n",
       "https://altair-viz.github.io/user_guide/troubleshooting.html\n"
      ]
     },
     "execution_count": 22,
     "metadata": {},
     "output_type": "execute_result"
    }
   ],
   "source": [
    "z = [realize_cont(Z) for i in range(1000)] # 1000 draws from Z\n",
    "\n",
    "plot_df = pd.DataFrame({'z':z})\n",
    "alt.Chart(plot_df, height=100, width=400).mark_bar().encode(\n",
    "    alt.X('z', bin=alt.Bin(maxbins=100)),\n",
    "    y='count()'\n",
    ")"
   ]
  },
  {
   "cell_type": "markdown",
   "metadata": {},
   "source": [
    "That looks suspicously like our bucketed density plot:"
   ]
  },
  {
   "cell_type": "code",
   "execution_count": 23,
   "metadata": {},
   "outputs": [
    {
     "data": {
      "application/vnd.vegalite.v3+json": {
       "$schema": "https://vega.github.io/schema/vega-lite/v3.4.0.json",
       "config": {
        "mark": {
         "tooltip": null
        },
        "view": {
         "height": 300,
         "width": 400
        }
       },
       "data": {
        "name": "data-87b4328471ec72ce0c0a7b12465363e4"
       },
       "datasets": {
        "data-87b4328471ec72ce0c0a7b12465363e4": [
         {
          "p": 0.1,
          "z": "[0.0,0.1)"
         },
         {
          "p": 0.0414213562373095,
          "z": "[0.1,0.2)"
         },
         {
          "p": 0.031783724519578255,
          "z": "[0.2,0.30000000000000004)"
         },
         {
          "p": 0.026794919243112253,
          "z": "[0.30000000000000004,0.4)"
         },
         {
          "p": 0.023606797749978953,
          "z": "[0.4,0.5)"
         },
         {
          "p": 0.021342176528338835,
          "z": "[0.5,0.6)"
         },
         {
          "p": 0.019626156828141256,
          "z": "[0.6000000000000001,0.7000000000000001)"
         },
         {
          "p": 0.018267581368159924,
          "z": "[0.7000000000000001,0.8)"
         },
         {
          "p": 0.017157287525380982,
          "z": "[0.8,0.9)"
         },
         {
          "p": 0.016227766016837952,
          "z": "[0.9,1.0)"
         },
         {
          "p": 0.015434713018702084,
          "z": "[1.0,1.1)"
         },
         {
          "p": 0.014747682478235491,
          "z": "[1.1,1.2000000000000002)"
         },
         {
          "p": 0.01414496603262344,
          "z": "[1.2000000000000002,1.3000000000000003)"
         },
         {
          "p": 0.01361061113099521,
          "z": "[1.3,1.4000000000000001)"
         },
         {
          "p": 0.013132595943347536,
          "z": "[1.4000000000000001,1.5000000000000002)"
         },
         {
          "p": 0.01270166537925832,
          "z": "[1.5,1.6)"
         },
         {
          "p": 0.012310562561766047,
          "z": "[1.6,1.7000000000000002)"
         },
         {
          "p": 0.011953506150162496,
          "z": "[1.7000000000000002,1.8000000000000003)"
         },
         {
          "p": 0.01162582564213882,
          "z": "[1.8,1.9000000000000001)"
         },
         {
          "p": 0.011323701145890597,
          "z": "[1.9000000000000001,2.0)"
         },
         {
          "p": 0.011043973995626122,
          "z": "[2.0,2.1)"
         },
         {
          "p": 0.010784006486758924,
          "z": "[2.1,2.2)"
         },
         {
          "p": 0.010541576348928994,
          "z": "[2.2,2.3000000000000003)"
         },
         {
          "p": 0.010314796225363687,
          "z": "[2.3000000000000003,2.4000000000000004)"
         },
         {
          "p": 0.010102051443364346,
          "z": "[2.4000000000000004,2.5000000000000004)"
         },
         {
          "p": 0.009901951359278516,
          "z": "[2.5,2.6)"
         },
         {
          "p": 0.009713290911384731,
          "z": "[2.6,2.7)"
         },
         {
          "p": 0.009535019942254919,
          "z": "[2.7,2.8000000000000003)"
         },
         {
          "p": 0.00936621850053232,
          "z": "[2.8000000000000003,2.9000000000000004)"
         },
         {
          "p": 0.0092060767917157,
          "z": "[2.9000000000000004,3.0000000000000004)"
         },
         {
          "p": 0.009053878777836144,
          "z": "[3.0,3.1)"
         },
         {
          "p": 0.008908988666235795,
          "z": "[3.1,3.2)"
         },
         {
          "p": 0.008770839704564826,
          "z": "[3.2,3.3000000000000003)"
         },
         {
          "p": 0.008638924830727257,
          "z": "[3.3000000000000003,3.4000000000000004)"
         },
         {
          "p": 0.008512788825431494,
          "z": "[3.4000000000000004,3.5000000000000004)"
         },
         {
          "p": 0.008392021690038387,
          "z": "[3.5,3.6)"
         },
         {
          "p": 0.008276253029821934,
          "z": "[3.6,3.7)"
         },
         {
          "p": 0.008165147267075734,
          "z": "[3.7,3.8000000000000003)"
         },
         {
          "p": 0.008058399542942185,
          "z": "[3.8000000000000003,3.9000000000000004)"
         },
         {
          "p": 0.007955732193836051,
          "z": "[3.9000000000000004,4.0)"
         },
         {
          "p": 0.007856891709609015,
          "z": "[4.0,4.1)"
         },
         {
          "p": 0.007761646097501185,
          "z": "[4.1000000000000005,4.2)"
         },
         {
          "p": 0.007669782589413976,
          "z": "[4.2,4.3)"
         },
         {
          "p": 0.007581105640879882,
          "z": "[4.3,4.3999999999999995)"
         },
         {
          "p": 0.0074954351788568685,
          "z": "[4.4,4.5)"
         },
         {
          "p": 0.007412605062589894,
          "z": "[4.5,4.6)"
         },
         {
          "p": 0.007332461727577511,
          "z": "[4.6000000000000005,4.7)"
         },
         {
          "p": 0.0072548629874464865,
          "z": "[4.7,4.8)"
         },
         {
          "p": 0.007179676972449034,
          "z": "[4.800000000000001,4.9)"
         },
         {
          "p": 0.007106781186547506,
          "z": "[4.9,5.0)"
         },
         {
          "p": 0.007036061667737403,
          "z": "[5.0,5.1)"
         },
         {
          "p": 0.006967412238512938,
          "z": "[5.1000000000000005,5.2)"
         },
         {
          "p": 0.006900733835253914,
          "z": "[5.2,5.3)"
         },
         {
          "p": 0.006835933906901626,
          "z": "[5.300000000000001,5.4)"
         },
         {
          "p": 0.006772925874612867,
          "z": "[5.4,5.5)"
         },
         {
          "p": 0.006711628645221901,
          "z": "[5.5,5.6)"
         },
         {
          "p": 0.006651966172286694,
          "z": "[5.6000000000000005,5.7)"
         },
         {
          "p": 0.00659386705931575,
          "z": "[5.7,5.8)"
         },
         {
          "p": 0.006537264200469961,
          "z": "[5.800000000000001,5.9)"
         },
         {
          "p": 0.006482094454622556,
          "z": "[5.9,6.0)"
         },
         {
          "p": 0.006428298349182016,
          "z": "[6.0,6.1)"
         },
         {
          "p": 0.006375819810515604,
          "z": "[6.1000000000000005,6.2)"
         },
         {
          "p": 0.006324605918196058,
          "z": "[6.2,6.3)"
         },
         {
          "p": 0.006274606680622741,
          "z": "[6.300000000000001,6.4)"
         },
         {
          "p": 0.00622577482985498,
          "z": "[6.4,6.5)"
         },
         {
          "p": 0.0061780656337410145,
          "z": "[6.5,6.6)"
         },
         {
          "p": 0.00613143672364902,
          "z": "[6.6000000000000005,6.7)"
         },
         {
          "p": 0.00608584793628697,
          "z": "[6.7,6.8)"
         },
         {
          "p": 0.006041261168275414,
          "z": "[6.800000000000001,6.9)"
         },
         {
          "p": 0.00599764024226801,
          "z": "[6.9,7.0)"
         },
         {
          "p": 0.005954950783560231,
          "z": "[7.0,7.1)"
         },
         {
          "p": 0.005913160106221116,
          "z": "[7.1000000000000005,7.2)"
         },
         {
          "p": 0.005872237107896083,
          "z": "[7.2,7.3)"
         },
         {
          "p": 0.0058321521725094305,
          "z": "[7.300000000000001,7.4)"
         },
         {
          "p": 0.005792877080175951,
          "z": "[7.4,7.5)"
         },
         {
          "p": 0.005754384923696065,
          "z": "[7.5,7.6)"
         },
         {
          "p": 0.005716650031077575,
          "z": "[7.6000000000000005,7.7)"
         },
         {
          "p": 0.005679647893572448,
          "z": "[7.7,7.8)"
         },
         {
          "p": 0.005643355098774228,
          "z": "[7.800000000000001,7.9)"
         },
         {
          "p": 0.005607749268356943,
          "z": "[7.9,8.0)"
         },
         {
          "p": 0.005572809000084167,
          "z": "[8.0,8.1)"
         },
         {
          "p": 0.005538513813741597,
          "z": "[8.1,8.2)"
         },
         {
          "p": 0.005504844100688189,
          "z": "[8.200000000000001,8.3)"
         },
         {
          "p": 0.00547178107673818,
          "z": "[8.3,8.4)"
         },
         {
          "p": 0.005439306738120653,
          "z": "[8.4,8.5)"
         },
         {
          "p": 0.005407403820281598,
          "z": "[8.5,8.6)"
         },
         {
          "p": 0.005376055759311105,
          "z": "[8.6,8.7)"
         },
         {
          "p": 0.005345246655804381,
          "z": "[8.700000000000001,8.8)"
         },
         {
          "p": 0.005314961240974414,
          "z": "[8.8,8.9)"
         },
         {
          "p": 0.005285184844853408,
          "z": "[8.9,9.0)"
         },
         {
          "p": 0.005255903366431891,
          "z": "[9.0,9.1)"
         },
         {
          "p": 0.005227103245598164,
          "z": "[9.1,9.2)"
         },
         {
          "p": 0.005198771436751626,
          "z": "[9.200000000000001,9.3)"
         },
         {
          "p": 0.005170895383970309,
          "z": "[9.3,9.4)"
         },
         {
          "p": 0.005143462997630466,
          "z": "[9.4,9.5)"
         },
         {
          "p": 0.005116462632374863,
          "z": "[9.5,9.6)"
         },
         {
          "p": 0.005089883066339174,
          "z": "[9.600000000000001,9.700000000000001)"
         },
         {
          "p": 0.005063713481556098,
          "z": "[9.700000000000001,9.8)"
         },
         {
          "p": 0.005037943445453386,
          "z": "[9.8,9.9)"
         },
         {
          "p": 0.005012562893380035,
          "z": "[9.9,10.0)"
         }
        ]
       },
       "encoding": {
        "x": {
         "axis": null,
         "field": "z",
         "type": "ordinal"
        },
        "y": {
         "field": "p",
         "type": "quantitative"
        }
       },
       "height": 100,
       "mark": "bar",
       "width": 400
      },
      "image/png": "[encoded data removed]",
      "text/plain": [
       "<VegaLite 3 object>\n",
       "\n",
       "If you see this message, it means the renderer has not been properly enabled\n",
       "for the frontend that you are using. For more information, see\n",
       "https://altair-viz.github.io/user_guide/troubleshooting.html\n"
      ]
     },
     "execution_count": 23,
     "metadata": {},
     "output_type": "execute_result"
    }
   ],
   "source": [
    "zs = np.arange(0,10,0.1)\n",
    "ps = [Pz(z,z+0.1) for z in zs]\n",
    "zs_labels = [f'[{z},{z+0.1})' for z in zs]\n",
    "\n",
    "distribution = pd.DataFrame({'z':zs_labels, 'p':ps})\n",
    "alt.Chart(distribution, height=100, width=400).mark_bar().encode(alt.X('z:O',axis=None), y='p')"
   ]
  },
  {
   "cell_type": "markdown",
   "metadata": {},
   "source": [
    "So what's the difference? Think about what it is we're \"stacking up\" in the bars. In the histogram, we're sorting and stacking up a *finite number* $n$ of *observed values* $z_i$ according to what they are. In the density plot, we're sorting and stacking up *all* of the *outcomes* $\\omega$ in the silo according to the values they are destined to become, and we're measuring their relative volume, not absolute counts.\n",
    "\n",
    "In a nutshell, the histogram is what we can actually observe, given outputs from the factory. But the density descibes the inner workings of the factory itself, which we can never actually observe."
   ]
  },
  {
   "cell_type": "markdown",
   "metadata": {},
   "source": [
    "<div class=\"alert alert-block alert-info\">\n",
    "<b>Exercise:</b> \n",
    "\n",
    "What do you expect to happen to the shape of the histogram above as the number of observations is increased from $1000$ to larger and larger numbers? Can you provide an intuitive explanation for why this happens?\n",
    "    \n",
    "</div>"
   ]
  },
  {
   "cell_type": "markdown",
   "metadata": {},
   "source": [
    "### Common Distributions"
   ]
  },
  {
   "cell_type": "markdown",
   "metadata": {},
   "source": [
    "We've seen that, for all practical purposes, a random variable is determined by its probability distribution (mass or density function). In reality, the distribution of any particular measurement (e.g. blood pressure) is unknown- it depends on a complex web of causal factors. The true density function is almost certainly so complex it's not even something that we could write down. But, for the purposes of *modeling* that measurement, we *pretend* that the density is something we can write down. \n",
    "\n",
    "Over the centuries, people have come up with a lot of distributions that are useful as models across various scenarios. Here are a few of them:"
   ]
  },
  {
   "cell_type": "markdown",
   "metadata": {},
   "source": [
    "#### Bernoulli distribution"
   ]
  },
  {
   "cell_type": "markdown",
   "metadata": {},
   "source": [
    "Let's say we're interested in modeling the result of a coin flip. The actual value (heads/tails, which we code as 0/1) of the coin flip is determined by some insanely complicated physics, but we're going to pretend that the value comes out of a little factory called $\\mathbf Z$ that has the following probability mass function:\n",
    "\n",
    "\n",
    "$$\n",
    "P(\\mathbf Z=z) =\n",
    "\\begin{cases}\n",
    "1/2 & \\text{for }z=0 \\\\\n",
    "1/2 & \\text{for }z=1\n",
    "\\end{cases}\n",
    "$$"
   ]
  },
  {
   "cell_type": "markdown",
   "metadata": {},
   "source": [
    "If we want to model a biased coin that comes up heads $(p\\times100)$% of the time, we can use a mass function like:"
   ]
  },
  {
   "cell_type": "markdown",
   "metadata": {},
   "source": [
    "$$\n",
    "P(\\mathbf Z=z) =\n",
    "\\begin{cases}\n",
    "p & \\text{for }z=0 \\\\\n",
    "1-p & \\text{for }z=1\n",
    "\\end{cases}\n",
    "$$"
   ]
  },
  {
   "cell_type": "markdown",
   "metadata": {},
   "source": [
    "This is often written as $\\mathbf Z \\sim \\text{Bernoulli}(p)$ (read: \"$\\mathbf Z$ is Bernoulli-distributed\"). The number $p$ is said to be a **parameter** of the Bernoulli distribution. It would be more accurate to say that a random variable is distributed as a **member** of the Bernoulli **family** of distributions, since, technically, every different value of $p$ encodes a different distribution, or factory, for making data.\n",
    "\n",
    "Another way to think about it is that there's one data factory, but it has a control panel with a knob labeled \"$p$\". If $p$ is set to 0.7, we expect about 70% of the outputs to be 1. If $p$ is set to $0.1$, 10%, and so on. It's a matter of semantics whether or not you want to say that factory is representing two different factories, or merely one factory under two different operating conditions. Both perspectives are useful."
   ]
  },
  {
   "cell_type": "markdown",
   "metadata": {},
   "source": [
    "#### Normal Distribution\n",
    "\n",
    "Let's say we want to model the heights of everyone on Earth. We have an intuition that people are typically a bit shorter than two meters, and taller and shorter people are more and more rare the taller and shorter they get. We can pretend that height measurements come from a **normal** distribution (also called **Gaussian** distribution):"
   ]
  },
  {
   "cell_type": "markdown",
   "metadata": {},
   "source": [
    "$$\n",
    "\\phi(z) = \n",
    "\\frac{1}{\\sqrt{2\\pi\\sigma}} \n",
    "e^{-\\frac{(x-\\mu)^2}{2\\sigma^2}}\n",
    "$$"
   ]
  },
  {
   "cell_type": "markdown",
   "metadata": {},
   "source": [
    "Most often you'll see this written as $\\mathbf Z \\sim \\mathcal N(\\mu, \\sigma)$ (read: \"$\\mathbf Z$ is normally distributed\"). The numbers $\\mu$ and $\\sigma$ are the parameters (control knobs) of the normal distribution. \n",
    "\n",
    "![](https://upload.wikimedia.org/wikipedia/commons/7/74/Normal_Distribution_PDF.svg)"
   ]
  },
  {
   "cell_type": "markdown",
   "metadata": {},
   "source": [
    "As you can see in the picture, $\\mu$ controls where the \"bell curve\" is centered and $\\sigma$ controls how wide or narrow it is."
   ]
  },
  {
   "cell_type": "markdown",
   "metadata": {},
   "source": [
    "<div class=\"alert alert-block alert-warning\">\n",
    "<b>Note:</b> \n",
    "    \n",
    "Every distribution is defined by its mass or density function $\\phi$. The mass or density is often a complicated function, so instead of saying someting like \"$\\phi(z) = \\frac{1}{\\sqrt{2\\pi\\sigma}} e^{-\\frac{(x-\\mu)^2}{2\\sigma^2}}$\" every time we want a normally-distributed variable, we'll abbreviate that to \"$\\mathbf Z \\sim \\mathcal N (\\mu, \\sigma)$\". But they mean the same thing. \n",
    "    \n",
    "Every time you see something like $\\mathbf Z \\sim \\mathcal D(\\theta_1, \\theta_2, \\dots)$, just know there is some mass or density function that is associated with the name $\\mathcal D$ and which has parameters $\\theta_1, \\theta_2, \\dots$. You can always look it up if you need to know exactly what it is.\n",
    "    \n",
    "</div>"
   ]
  },
  {
   "cell_type": "markdown",
   "metadata": {},
   "source": [
    "#### Others "
   ]
  },
  {
   "cell_type": "markdown",
   "metadata": {},
   "source": [
    "There are [hundreds](https://upload.wikimedia.org/wikipedia/commons/7/74/Normal_Distribution_PDF.svg) of well-studied distributions available to choose from when modeling. The most important thing to know about a distribution is what values it can generate. This is sometimes called the **support** of the distribution, since if you were to make a density or mass plot, the support would be the region of the x-axis that has positive density or mass, so it's the region that appears to be \"supporting\" the curve or mass. \n",
    "\n",
    "For example, varaibles that are normally-, Cauchy-, or Laplace-distributed are supported on $-\\infty$ and $\\infty$. The $\\chi^2$ distribution has support on $[0,\\infty)$. The beta and standard uniform distributions have support on $[0,1]$. The Poisson distribution has support on the counting numbers 0, 1, 2..., and the K-categorical distribution has support on a finite number of integers 0, 1, 2, ... K. \n",
    "\n",
    "It's also totally possible to invent your own distribution by defining your own support set $S$ and mass/density function $\\phi$, as long as $\\phi(s) \\ge 0$ for all $s \\in S$ and $\\int_S \\phi(s) ds = 1$ or $\\sum_{s \\in S} \\phi(s) = 1$. These properties have to be satisfied to have a valid density or mass (see exercise in previous section).\n",
    "\n",
    "The point of this diversity is that it is possible to model different kinds of data. Apartment rents are always positive numbers, but theoretically unbounded above (a scary thought), so perhaps $\\chi^2$ is a good choice. The number of cars that pass through an intersection in a given day is always an integer, so Poisson is a reasonable choice for that. You don't have to remember any of these specific distributions or examples- just know there are many preconstructed pretend data factories out there to play with. Also know that the real data-generating process is pretty much *never* actually one of these distributions, although, sometimes, it might be well-approximated by one."
   ]
  },
  {
   "cell_type": "markdown",
   "metadata": {},
   "source": [
    "<div class=\"alert alert-block alert-info\">\n",
    "<b>Exercise:</b> \n",
    "\n",
    "Define your own density function that has support on $[0,1]$. Make it so that the probability of getting a bigger number is bigger than that of getting a smaller number. Be sure that your function integrates to $1$ and is nonnegative over its support, otherwise it's not a valid density.\n",
    "    \n",
    "</div>"
   ]
  },
  {
   "cell_type": "markdown",
   "metadata": {},
   "source": [
    "# Chapter summary"
   ]
  },
  {
   "cell_type": "markdown",
   "metadata": {},
   "source": [
    "Data in the real world is generated by complex processes that we can't ever hope to replicate. But if we want to uncover relationships between measurements, we at least need a framework for imagining what kinds of processes might be generating our data. Random variables and probability theory do that for us. \n",
    "\n",
    "Random variables are like factories that generate data. We don't observe them directly, but we see the data they output and we can imagine different kinds of random variables that make different kinds of data. We defined a notion of probability that posits that the probability of observing a particular realization is actually just the volume of material in the factory's silo (sample space) that is destined to become that realization. This is a pure abstraction, but it turns out to capture relationships between probabilities that we would intuitively expect to hold.\n",
    "\n",
    "It's easier to work with the probability distribution of a random variable than it is to constantly talk about the sample space and the mapping between that space and realizations. The probability distribution is a function that, when integrated over a region of the space of realizations, gives us the volume of outcomes in the sample space that map to realizations in that region. In other words: the probability that the random variable gives a realization in that region. Random variables can be continuous or discrete, but all have a distribution function that can be integrated or summed to yield probabilities.\n",
    "\n",
    "Random variables are most often talked about in terms of their porbability distributions. Defining a new variable is as easy as choosing a support and a mass or density function over that support. Some distributions are so commonly used that they have their own names and notations so that we don't have to write out their mass or density functions out over and over again to refer to them."
   ]
  },
  {
   "cell_type": "code",
   "execution_count": null,
   "metadata": {},
   "outputs": [],
   "source": []
  }
 ],
 "metadata": {
  "kernelspec": {
   "display_name": "Python 3",
   "language": "python",
   "name": "python3"
  },
  "language_info": {
   "codemirror_mode": {
    "name": "ipython",
    "version": 3
   },
   "file_extension": ".py",
   "mimetype": "text/x-python",
   "name": "python",
   "nbconvert_exporter": "python",
   "pygments_lexer": "ipython3",
   "version": "3.7.3"
  }
 },
 "nbformat": 4,
 "nbformat_minor": 4
}
