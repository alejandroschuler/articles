{
 "cells": [
  {
   "cell_type": "markdown",
   "metadata": {},
   "source": [
    "## Talking about data"
   ]
  },
  {
   "cell_type": "markdown",
   "metadata": {},
   "source": [
    "Let's say we observe 1000 patients in a hospital, each of whom has measurements of their pre-treatment blood pressure, heart rate, etc. and also their corresponding blood pressure after taking a drug. For a new patient who walks in the door, given their current vital signs, can we predict their post-treatment blood pressure? \n",
    "\n",
    "We need a way to talk abstractly about the data in these kinds of problems so that we can apply the same methods to different problems without having to completely rethink our approach every time.\n",
    "\n",
    "We'll use a subscript $i$ to refer to data about the $i$th patient. So, for example, if $z$ were some measurement we made on all patients, $z_i$ would be the value of that measurement for the $i$th patient. The patient in our example is what we call the **unit of observation**. But if we were talking about classifying photographs as having cats or not having cats in them, the unit of observation would be the photographs. So, in general, the subscript $i$ refers to the $i$th observation in the dataset, which could be a patient, a photograph, a credit card transaction, etc. \n",
    "\n",
    "The total number of observations is usually called $n$, so $i$ could stand for any number between 1 and $n$. A shorter way to write that is $i \\in \\{1, 2, \\dots n\\}$. You can read $\\in$ as \"in\", so this says \"$i$ is a number in the set of numbers that includes 1, 2, ... all the way up to $n$\". We'll use that notation for other things as well.\n",
    "\n",
    "We usually use the variable $y$ to refer to the measurement we are trying to predict, which is in this case the patient's post-treatment blood pressure. You'll most often see $y$ called the **target**, **label**, or **outcome**. Using our observation subscripts, $y_1$ would be the first patient's post-treatment blood pressure, $y_2$ would be the second patient's blood pressure, etc. \n",
    "\n",
    "We can do the same thing for the other measurements, which are called **predictors**, **features**, or **covariates**. We could use different letters for each predictor, e.g. pre-treatment blood pressure would be $z$, pre-treatment heart rate would be $x$, but the standard practice is to call them all \"$x$\", but subscript them with an index $j$ (different than the index $i$ that refers to the unit of observation). So, in our example, we'll say $x_{i1}$ is patient $i$'s pre-treatment blood pressure, $x_{i2}$ is their pre-treatment heart rate, etc. We will use $p$ to refer to the number of predictors we have for each observation, so $j \\in \\{1 \\dots p\\}$. We'll use $x_i$ to refer to a list of all of the features for observation $i$:\n",
    "\n",
    "$$\n",
    "x_i = \n",
    "\\left[\n",
    "\\begin{array}{cccc}\n",
    "x_{i1} & x_{i2} & \\cdots & x_{ip}\n",
    "\\end{array}\n",
    "\\right] \n",
    "$$\n",
    "\n",
    "\n",
    "Now each observation is decribed by its target $y_i$ and its vector of predictors $x_i$. We stack these measurements together into lists of outcomes and predictors so we can refer to all of them at once:\n",
    "\n",
    "$$\n",
    "X = \n",
    "\\left[\n",
    "\\begin{array}{c}\n",
    "x_1 \\\\ x_2 \\\\ \\vdots \\\\ x_n\n",
    "\\end{array}\n",
    "\\right] \n",
    "=\n",
    "\\left[\n",
    "\\begin{array}{cccc}\n",
    "x_{11} & x_{12} & \\cdots & x_{1p} \\\\\n",
    "x_{21} & x_{22} & \\cdots & x_{2p} \\\\\n",
    "\\vdots & & \\ddots & \\vdots \\\\\n",
    "x_{n1} & x_{n2} & \\cdots & x_{np} \n",
    "\\end{array}\n",
    "\\right]\n",
    "\\quad\n",
    "Y = \n",
    "\\left[\n",
    "\\begin{array}{c}\n",
    "y_1 \\\\ y_2 \\\\ \\vdots \\\\ y_n\n",
    "\\end{array}\n",
    "\\right] \n",
    "$$\n",
    "\n",
    "You may recall that ordered lists of numbers are also called vectors, and a list of lists of numbers (like $X$) can be written as a matrix. These are the terms we'll use going forward. \n",
    "\n",
    "Note that each column of $X$ (which we'll call $x_{:j}$) is a vector that contains every measurement of the $j$th feature."
   ]
  },
  {
   "cell_type": "markdown",
   "metadata": {},
   "source": [
    "Now we can formalize our learning problem in the abstract. All the measurements for the existing patients are contained in the matrix of predictors $X$ and the vector of targets $Y$. A new patient walks in the door (patient #$n+1$), and we measure all their predictors $x_{n+1}$. What we don't observe, but want to estimate, is the value of their target, $y_{n+1}$."
   ]
  },
  {
   "cell_type": "markdown",
   "metadata": {},
   "source": [
    "### Example in Code"
   ]
  },
  {
   "cell_type": "markdown",
   "metadata": {},
   "source": [
    "We'll make some fake data in python to demonstrate. Here are all the predictors and outcomes for $n$ observations (e.g. pre-treatment measurements and post-treatment blood pressure for $n$ patients):"
   ]
  },
  {
   "cell_type": "code",
   "execution_count": 1,
   "metadata": {},
   "outputs": [
    {
     "data": {
      "text/plain": [
       "(array([[0.7515252 , 0.9968232 ],\n",
       "        [0.97298364, 0.04554365],\n",
       "        [0.92628779, 0.84441101],\n",
       "        [0.72957784, 0.17002554],\n",
       "        [0.83041661, 0.95760275]]),\n",
       " array([0.93516741, 0.59263859, 0.17218096, 0.17944997, 0.30694529]))"
      ]
     },
     "execution_count": 1,
     "metadata": {},
     "output_type": "execute_result"
    }
   ],
   "source": [
    "import numpy as np\n",
    "n = 5 # 5 observations\n",
    "p = 2 # 2 features\n",
    "X = np.random.rand(n,p) # a random matrix of numbers between 0 and 1. \n",
    "Y = np.random.rand(n)\n",
    "X, Y"
   ]
  },
  {
   "cell_type": "markdown",
   "metadata": {},
   "source": [
    "And here are the predictors for a new observation (e.g. the pre-treatment measurements for a new patient)"
   ]
  },
  {
   "cell_type": "code",
   "execution_count": 2,
   "metadata": {},
   "outputs": [
    {
     "data": {
      "text/plain": [
       "array([[0.44409557, 0.56922222]])"
      ]
     },
     "execution_count": 2,
     "metadata": {},
     "output_type": "execute_result"
    }
   ],
   "source": [
    "x_new = np.random.rand(1,p)\n",
    "x_new"
   ]
  },
  {
   "cell_type": "markdown",
   "metadata": {},
   "source": [
    "What we want is an algorithm that takes any values of `x_new` and uses all the data in `X` and `Y` to output an prediction for what `y_new` should be:"
   ]
  },
  {
   "cell_type": "code",
   "execution_count": 3,
   "metadata": {},
   "outputs": [],
   "source": [
    "def fancy_machine_learning_prediction(x_new):\n",
    "    # ... do some stuff with X and Y\n",
    "    return y_new_estimated"
   ]
  }
 ],
 "metadata": {
  "kernelspec": {
   "display_name": "Python 3",
   "language": "python",
   "name": "python3"
  },
  "language_info": {
   "codemirror_mode": {
    "name": "ipython",
    "version": 3
   },
   "file_extension": ".py",
   "mimetype": "text/x-python",
   "name": "python",
   "nbconvert_exporter": "python",
   "pygments_lexer": "ipython3",
   "version": "3.7.3"
  }
 },
 "nbformat": 4,
 "nbformat_minor": 4
}
