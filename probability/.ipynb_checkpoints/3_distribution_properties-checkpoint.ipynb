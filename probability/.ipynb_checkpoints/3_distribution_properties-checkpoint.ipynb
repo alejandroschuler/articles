{
 "cells": [
  {
   "cell_type": "code",
   "execution_count": 72,
   "metadata": {},
   "outputs": [],
   "source": [
    "import random\n",
    "import numpy as np\n",
    "import altair as alt \n",
    "import pandas as pd\n",
    "from itertools import product"
   ]
  },
  {
   "cell_type": "code",
   "execution_count": 138,
   "metadata": {},
   "outputs": [],
   "source": [
    "def density_2d(plot_data, δ, x_name='x', y_name='y', joint_name='ϕ'):\n",
    "    x, y, joint = [np.array(plot_data[v]) for v in (x_name, y_name, joint_name)]\n",
    "    xl, yl = [v-δ/2 for v in (x,y)]\n",
    "    xh, yh = [v+δ/2 for v in (x,y)]\n",
    "    plot_data = pd.DataFrame({'xl':xl,'xh':xh,'yl':yl,'yh':yh,'ϕ':joint})\n",
    "    plot = alt.Chart(plot_data, width=300, height=300).mark_rect().encode(\n",
    "        x=alt.X('xl', title=x_name),\n",
    "        y=alt.Y('yl', title=y_name),\n",
    "        x2=alt.X2('xh'),\n",
    "        y2=alt.Y2('yh'),\n",
    "        color=alt.Color('ϕ', title=joint_name)\n",
    "    )\n",
    "    return plot"
   ]
  },
  {
   "cell_type": "markdown",
   "metadata": {},
   "source": [
    "# Describing random variables"
   ]
  },
  {
   "cell_type": "markdown",
   "metadata": {},
   "source": [
    "No matter how we get to it, all the information we need about a random variable is contained within its mass or density function. But sometimes we don't need to know every detail. Sometimes we just want a summary. Maybe we just want to know how tall the factory is, so we know about what the average size of its products is. Or how wide the factory is, so we can get an idea of how varied the products are."
   ]
  },
  {
   "cell_type": "markdown",
   "metadata": {},
   "source": [
    "## Expectation"
   ]
  },
  {
   "cell_type": "markdown",
   "metadata": {},
   "source": [
    "The **expectation** (or **expected value** or **mean**) of a random variable is often said to describe its \"average\" product. But, as we'll see, that puts the cart before the horse: it's really averages that approximate expectations and not the other way around."
   ]
  },
  {
   "cell_type": "markdown",
   "metadata": {},
   "source": [
    "The expectations of continuous and discrete random variables are given by the quantities:"
   ]
  },
  {
   "cell_type": "markdown",
   "metadata": {},
   "source": [
    "$$\n",
    "E[\\mathbf Z]\n",
    "=\n",
    "\\int z\\phi_{\\mathbf Z}(z) dz\n",
    "\\quad\\quad\n",
    "E[\\mathbf Z]\n",
    "=\n",
    "\\sum z\\phi_{\\mathbf Z}(z)\n",
    "$$"
   ]
  },
  {
   "cell_type": "markdown",
   "metadata": {},
   "source": [
    "where the integral or sum are taken over the entire support of the random variable $\\mathbf Z$, whatever it may be. The notation $E[\\mathbf Z]$ is read as \"expectation of $\\mathbf Z$. Using brackets isn't strictly necessary but it helps remind us that $E$ is not a normal function that takes a number and gives us back a number- it's a function that takes a *random variable* and crunches it into a single number that somehow describes that random variable. And, remember the random variable $\\mathbf Z$ is a function that takes an element $\\omega$ (whatever it is) and gives us back a number. So the expectation is basically a function that maps functions to numbers (sometimes these are called **functionals**). If that seems weird to you, think of it this way: functionals (like expectation) just measure some quality of the factory itself, like its height. "
   ]
  },
  {
   "cell_type": "markdown",
   "metadata": {},
   "source": [
    "If you look at the formulas for expectation and don't see the connection to an \"average\" value, you're not alone. But let's look a little more closely. The average (or **sample mean**) of $n$ numbers $[z_1, z_2, \\dots z_n]$ that we know from primary school is $\\frac{1}{n} \\sum z_i$: add all the numbers up and divide by how many of them there are. There's another way to compute the same thing, though. First, we find all of the unique values of $[z_1, z_2, \\dots z_n]$. Say those are $[x_1, x_2, \\dots x_m]$ where $m$ is the total number of unique values in $z$ (for instance, maybe $x_1 = z_{2} = z_{3} = z_{5}$, $x_2 = z_{1} = z_{4}$, and so on). Now we count how many elements of $z$ take on each of those unique values and save those numbers in a vector $[n_1, n_2, \\dots n_m]$. That means there are $n_1$ $z$s with the value $x_1$, $n_2$ with the value $x_2$, etc. Now we can group up the elements in the sum:"
   ]
  },
  {
   "cell_type": "markdown",
   "metadata": {},
   "source": [
    "$$\n",
    "\\frac{1}{n} \\sum z_i \n",
    "= \n",
    "\\frac{1}{n} \\left( \\underset{\\text{all }=x_1}{\\underbrace{(z_{2} + z_3 + z_5)}} + \\underset{\\text{all }=x_2}{\\underbrace{(z_{1} + z_4)}} + \\dots \\right)\n",
    "= \n",
    "\\frac{1}{n} (n_1x_1 + n_2x_2 + \\dots n_mx_m)\n",
    "= \n",
    "\\sum x_j \\frac{n_j}{n} \n",
    "=\n",
    "\\sum x_j p_j\n",
    "$$"
   ]
  },
  {
   "cell_type": "markdown",
   "metadata": {},
   "source": [
    "where $p_j = n_j/n$ is the proportion of $z$s that take the value $x_j$. Check it out:"
   ]
  },
  {
   "cell_type": "code",
   "execution_count": 72,
   "metadata": {},
   "outputs": [
    {
     "data": {
      "text/plain": [
       "4.0"
      ]
     },
     "execution_count": 72,
     "metadata": {},
     "output_type": "execute_result"
    }
   ],
   "source": [
    "z = [4,8,6,7,2,8,4,5,1,5,9,4,8,3,1,3,0,0,2,0]\n",
    "np.mean(z) # np.mean() calculates the sample mean"
   ]
  },
  {
   "cell_type": "code",
   "execution_count": 73,
   "metadata": {},
   "outputs": [
    {
     "name": "stdout",
     "output_type": "stream",
     "text": [
      "[0 1 2 3 4 5 6 7 8 9] [3 2 2 2 3 2 1 1 3 1]\n"
     ]
    }
   ],
   "source": [
    "x,n = np.unique(z, return_counts=True)\n",
    "print(x,n)"
   ]
  },
  {
   "cell_type": "code",
   "execution_count": 70,
   "metadata": {},
   "outputs": [
    {
     "data": {
      "text/plain": [
       "4.0"
      ]
     },
     "execution_count": 70,
     "metadata": {},
     "output_type": "execute_result"
    }
   ],
   "source": [
    "p = n/len(z)\n",
    "np.sum(x*p)"
   ]
  },
  {
   "cell_type": "markdown",
   "metadata": {},
   "source": [
    "Compare $\\sum x_j p_j$ to $\\sum z \\phi(z)$. Instead of $\\phi$ we have a $p$, but these are both proportions of some kind since $\\phi(z) = P(Z=z)$ is the proportion of outcomes that lead to the realization $z$. The other difference is that the sum in $\\sum x_j p_j$ is taken over all $x_j$, which are all the unique values of $z$, whereas $\\sum z\\phi_{\\mathbf Z}(z)$ is taken over the support of $\\mathbf Z$. But again, that's basically the same idea: the support of $\\mathbf Z$ is precisely the set of all unique values that $\\mathbf Z$ can take. The extension to the continuous case just replaces the sum with an integral."
   ]
  },
  {
   "cell_type": "markdown",
   "metadata": {},
   "source": [
    "It's important not to confuse analogy or intuition with reality, though: the expectation and sample mean are not the same thing. If $z$ is a set of realizations from $\\mathbf Z$, there is no guarantee that we will collect enough $z$s to span the entire support of $\\mathbf Z$ (in the continuous case, we are guarenteed not to), and there is no guarantee that the $z$s will appear in proportions that are exact to $\\phi$. The expectation is the sample mean of the data we *would* observe *if* we pushed every single outcome $\\omega$ from $\\Omega$ through $\\mathbf Z$ exactly once. If $\\Omega$ is infinite, we're talking about an infinite dataset."
   ]
  },
  {
   "cell_type": "markdown",
   "metadata": {},
   "source": [
    "We'll demonstrate using our old friend:"
   ]
  },
  {
   "cell_type": "code",
   "execution_count": 75,
   "metadata": {},
   "outputs": [],
   "source": [
    "def Z(ω): # factory (random variable)\n",
    "    if ω in set([1,4,5,8,9]): # these are the outcomes (nuggets) that map to the value 1 \n",
    "        return 1\n",
    "    if ω in set([0,2,3,6,7]): # these are the outcomes (nuggets) that map to the value 0 \n",
    "        return 0\n",
    "Z.Ω = set([0,1,2,3,4,5,6,7,8,9]) # sample space (silo) of outcomes (ore nuggets) attached to Z\n",
    "    \n",
    "def realize(rand_var): # run the assembly line!\n",
    "    ω = random.sample(rand_var.Ω, 1)[0] # grab a single nugget out of the silo at random\n",
    "    return rand_var(ω) # push it through the factory"
   ]
  },
  {
   "cell_type": "markdown",
   "metadata": {},
   "source": [
    "We know the support of this random variable is $\\{0,1\\}$ (these are the only values it can take) and its mass function is $\\phi(0) = 0.5$ and $\\phi(1) = 0.5$. So $E[\\mathbf Z] = \\sum z\\phi_{\\mathbf Z}(z) = 0\\phi(0) + 1\\phi(1) = 0.5$. That's also what we get when we take the sample mean of the data we would see by pushing each element of $\\Omega$ through $\\mathbf Z$ exactly once:"
   ]
  },
  {
   "cell_type": "code",
   "execution_count": 76,
   "metadata": {},
   "outputs": [
    {
     "data": {
      "text/plain": [
       "0.5"
      ]
     },
     "execution_count": 76,
     "metadata": {},
     "output_type": "execute_result"
    }
   ],
   "source": [
    "np.mean([Z(ω) for ω in Z.Ω])"
   ]
  },
  {
   "cell_type": "markdown",
   "metadata": {},
   "source": [
    "But for a generic sample of realizations, we are not guaranteed to get the same answer:"
   ]
  },
  {
   "cell_type": "code",
   "execution_count": 78,
   "metadata": {},
   "outputs": [
    {
     "data": {
      "text/plain": [
       "0.55"
      ]
     },
     "execution_count": 78,
     "metadata": {},
     "output_type": "execute_result"
    }
   ],
   "source": [
    "np.mean([realize(Z) for i in range(20)])"
   ]
  },
  {
   "cell_type": "markdown",
   "metadata": {},
   "source": [
    "Succinctly: the sample mean is a property of a *particular dataset*. Expectation is a property of the *random variable*. The sample mean is like taking a bunch of iphones from a factory and asking what the average iphone is like. The expectation is like looking at the iphone blueprint. But, of course, we never do see the real factory, blueprint, or code, so expectation is ultimately just a (very important) tool to help us imagine what that real thing is like."
   ]
  },
  {
   "cell_type": "markdown",
   "metadata": {},
   "source": [
    "<div class=\"alert alert-block alert-info\">\n",
    "<b>Exercise:</b> \n",
    "\n",
    "In my example above, I took the mean of 20 realizations from $\\mathbf Z$, but I could have just as easily taken the mean of 5 realizations, or of 1000. Repeat what I did for every number between 2 and 100. Make a scatterplot of the mean you calculate vs. how many realizations you took. What do you observe? Why does it make sense?\n",
    "    \n",
    "</div>"
   ]
  },
  {
   "cell_type": "markdown",
   "metadata": {},
   "source": [
    "Expectation is sometimes also called the **first moment**, in analogy to the \"first moment\" of mass (center of mass) from physics. The word \"moment\" apparently used to mean \"importance\", so a \"moment\" is a way to describe an important feature of something. In physics, the first moment is the point at which an object can be balanced. So you can think of the expected value as the point along the x-axis at which you could hold up the distribution plot up with a finger and it wouldn't fall to either side."
   ]
  },
  {
   "cell_type": "markdown",
   "metadata": {},
   "source": [
    "For instance, have a look at the plot for this density I made up:"
   ]
  },
  {
   "cell_type": "code",
   "execution_count": 22,
   "metadata": {},
   "outputs": [],
   "source": [
    "def ϕ(z):\n",
    "    a,b = 1/6, 1/2 # centers of the two triangles below\n",
    "    ha,hb = 9/2, 1/2 # heights of the two triangles below\n",
    "    if z < -2*a:\n",
    "        return 0\n",
    "    elif z < -a:\n",
    "        return z*ha/a + 2*ha\n",
    "    elif z < 0:\n",
    "        return z*(-ha/a)\n",
    "    elif z < b:\n",
    "        return z*(hb/b)\n",
    "    elif z < 2*b:\n",
    "        return z*(-hb/b) + 2*hb\n",
    "    else:\n",
    "        return 0"
   ]
  },
  {
   "cell_type": "code",
   "execution_count": 21,
   "metadata": {},
   "outputs": [
    {
     "data": {
      "application/vnd.vegalite.v3+json": {
       "$schema": "https://vega.github.io/schema/vega-lite/v3.4.0.json",
       "config": {
        "mark": {
         "tooltip": null
        },
        "view": {
         "height": 300,
         "width": 400
        }
       },
       "data": {
        "name": "data-e185946825113208d068a635c61ed71b"
       },
       "datasets": {
        "data-e185946825113208d068a635c61ed71b": [
         {
          "p": 0,
          "z": -0.3333333333333333
         },
         {
          "p": 0.2699999999999996,
          "z": -0.3233333333333333
         },
         {
          "p": 0.5399999999999991,
          "z": -0.3133333333333333
         },
         {
          "p": 0.8100000000000005,
          "z": -0.3033333333333333
         },
         {
          "p": 1.080000000000001,
          "z": -0.2933333333333333
         },
         {
          "p": 1.3500000000000014,
          "z": -0.28333333333333327
         },
         {
          "p": 1.620000000000001,
          "z": -0.27333333333333326
         },
         {
          "p": 1.8900000000000023,
          "z": -0.26333333333333325
         },
         {
          "p": 2.160000000000002,
          "z": -0.25333333333333324
         },
         {
          "p": 2.4300000000000024,
          "z": -0.24333333333333323
         },
         {
          "p": 2.700000000000002,
          "z": -0.23333333333333323
         },
         {
          "p": 2.9700000000000033,
          "z": -0.22333333333333322
         },
         {
          "p": 3.240000000000003,
          "z": -0.2133333333333332
         },
         {
          "p": 3.5100000000000033,
          "z": -0.2033333333333332
         },
         {
          "p": 3.780000000000004,
          "z": -0.1933333333333332
         },
         {
          "p": 4.050000000000004,
          "z": -0.18333333333333318
         },
         {
          "p": 4.320000000000004,
          "z": -0.17333333333333317
         },
         {
          "p": 4.409999999999996,
          "z": -0.16333333333333316
         },
         {
          "p": 4.139999999999995,
          "z": -0.15333333333333315
         },
         {
          "p": 3.8699999999999948,
          "z": -0.14333333333333315
         },
         {
          "p": 3.5999999999999948,
          "z": -0.13333333333333314
         },
         {
          "p": 3.3299999999999943,
          "z": -0.12333333333333313
         },
         {
          "p": 3.0599999999999943,
          "z": -0.11333333333333312
         },
         {
          "p": 2.789999999999994,
          "z": -0.10333333333333311
         },
         {
          "p": 2.519999999999994,
          "z": -0.0933333333333331
         },
         {
          "p": 2.2499999999999933,
          "z": -0.08333333333333309
         },
         {
          "p": 1.9799999999999933,
          "z": -0.07333333333333308
         },
         {
          "p": 1.709999999999993,
          "z": -0.06333333333333308
         },
         {
          "p": 1.4399999999999928,
          "z": -0.053333333333333066
         },
         {
          "p": 1.1699999999999926,
          "z": -0.04333333333333306
         },
         {
          "p": 0.8999999999999924,
          "z": -0.03333333333333305
         },
         {
          "p": 0.6299999999999921,
          "z": -0.02333333333333304
         },
         {
          "p": 0.3599999999999918,
          "z": -0.01333333333333303
         },
         {
          "p": 0.08999999999999159,
          "z": -0.0033333333333330217
         },
         {
          "p": 0.006666666666666987,
          "z": 0.006666666666666987
         },
         {
          "p": 0.016666666666666996,
          "z": 0.016666666666666996
         },
         {
          "p": 0.026666666666667005,
          "z": 0.026666666666667005
         },
         {
          "p": 0.036666666666667014,
          "z": 0.036666666666667014
         },
         {
          "p": 0.04666666666666702,
          "z": 0.04666666666666702
         },
         {
          "p": 0.05666666666666703,
          "z": 0.05666666666666703
         },
         {
          "p": 0.06666666666666704,
          "z": 0.06666666666666704
         },
         {
          "p": 0.07666666666666705,
          "z": 0.07666666666666705
         },
         {
          "p": 0.08666666666666706,
          "z": 0.08666666666666706
         },
         {
          "p": 0.09666666666666707,
          "z": 0.09666666666666707
         },
         {
          "p": 0.10666666666666708,
          "z": 0.10666666666666708
         },
         {
          "p": 0.11666666666666708,
          "z": 0.11666666666666708
         },
         {
          "p": 0.1266666666666671,
          "z": 0.1266666666666671
         },
         {
          "p": 0.1366666666666671,
          "z": 0.1366666666666671
         },
         {
          "p": 0.1466666666666671,
          "z": 0.1466666666666671
         },
         {
          "p": 0.15666666666666712,
          "z": 0.15666666666666712
         },
         {
          "p": 0.16666666666666713,
          "z": 0.16666666666666713
         },
         {
          "p": 0.17666666666666714,
          "z": 0.17666666666666714
         },
         {
          "p": 0.18666666666666715,
          "z": 0.18666666666666715
         },
         {
          "p": 0.19666666666666716,
          "z": 0.19666666666666716
         },
         {
          "p": 0.20666666666666716,
          "z": 0.20666666666666716
         },
         {
          "p": 0.21666666666666717,
          "z": 0.21666666666666717
         },
         {
          "p": 0.22666666666666718,
          "z": 0.22666666666666718
         },
         {
          "p": 0.2366666666666672,
          "z": 0.2366666666666672
         },
         {
          "p": 0.2466666666666672,
          "z": 0.2466666666666672
         },
         {
          "p": 0.2566666666666672,
          "z": 0.2566666666666672
         },
         {
          "p": 0.2666666666666672,
          "z": 0.2666666666666672
         },
         {
          "p": 0.2766666666666672,
          "z": 0.2766666666666672
         },
         {
          "p": 0.28666666666666724,
          "z": 0.28666666666666724
         },
         {
          "p": 0.29666666666666724,
          "z": 0.29666666666666724
         },
         {
          "p": 0.30666666666666725,
          "z": 0.30666666666666725
         },
         {
          "p": 0.31666666666666726,
          "z": 0.31666666666666726
         },
         {
          "p": 0.32666666666666727,
          "z": 0.32666666666666727
         },
         {
          "p": 0.3366666666666673,
          "z": 0.3366666666666673
         },
         {
          "p": 0.3466666666666673,
          "z": 0.3466666666666673
         },
         {
          "p": 0.3566666666666673,
          "z": 0.3566666666666673
         },
         {
          "p": 0.3666666666666673,
          "z": 0.3666666666666673
         },
         {
          "p": 0.3766666666666673,
          "z": 0.3766666666666673
         },
         {
          "p": 0.3866666666666673,
          "z": 0.3866666666666673
         },
         {
          "p": 0.39666666666666733,
          "z": 0.39666666666666733
         },
         {
          "p": 0.40666666666666734,
          "z": 0.40666666666666734
         },
         {
          "p": 0.41666666666666735,
          "z": 0.41666666666666735
         },
         {
          "p": 0.42666666666666736,
          "z": 0.42666666666666736
         },
         {
          "p": 0.43666666666666737,
          "z": 0.43666666666666737
         },
         {
          "p": 0.4466666666666674,
          "z": 0.4466666666666674
         },
         {
          "p": 0.4566666666666674,
          "z": 0.4566666666666674
         },
         {
          "p": 0.4666666666666674,
          "z": 0.4666666666666674
         },
         {
          "p": 0.4766666666666674,
          "z": 0.4766666666666674
         },
         {
          "p": 0.4866666666666674,
          "z": 0.4866666666666674
         },
         {
          "p": 0.4966666666666674,
          "z": 0.4966666666666674
         },
         {
          "p": 0.4933333333333325,
          "z": 0.5066666666666675
         },
         {
          "p": 0.4833333333333325,
          "z": 0.5166666666666675
         },
         {
          "p": 0.4733333333333325,
          "z": 0.5266666666666675
         },
         {
          "p": 0.4633333333333325,
          "z": 0.5366666666666675
         },
         {
          "p": 0.4533333333333325,
          "z": 0.5466666666666675
         },
         {
          "p": 0.44333333333333247,
          "z": 0.5566666666666675
         },
         {
          "p": 0.43333333333333246,
          "z": 0.5666666666666675
         },
         {
          "p": 0.42333333333333245,
          "z": 0.5766666666666675
         },
         {
          "p": 0.41333333333333244,
          "z": 0.5866666666666676
         },
         {
          "p": 0.40333333333333243,
          "z": 0.5966666666666676
         },
         {
          "p": 0.3933333333333324,
          "z": 0.6066666666666676
         },
         {
          "p": 0.3833333333333324,
          "z": 0.6166666666666676
         },
         {
          "p": 0.3733333333333324,
          "z": 0.6266666666666676
         },
         {
          "p": 0.3633333333333324,
          "z": 0.6366666666666676
         },
         {
          "p": 0.3533333333333324,
          "z": 0.6466666666666676
         },
         {
          "p": 0.3433333333333324,
          "z": 0.6566666666666676
         },
         {
          "p": 0.33333333333333237,
          "z": 0.6666666666666676
         },
         {
          "p": 0.32333333333333236,
          "z": 0.6766666666666676
         },
         {
          "p": 0.31333333333333235,
          "z": 0.6866666666666676
         },
         {
          "p": 0.30333333333333234,
          "z": 0.6966666666666677
         },
         {
          "p": 0.29333333333333234,
          "z": 0.7066666666666677
         },
         {
          "p": 0.2833333333333323,
          "z": 0.7166666666666677
         },
         {
          "p": 0.2733333333333323,
          "z": 0.7266666666666677
         },
         {
          "p": 0.2633333333333323,
          "z": 0.7366666666666677
         },
         {
          "p": 0.2533333333333323,
          "z": 0.7466666666666677
         },
         {
          "p": 0.2433333333333323,
          "z": 0.7566666666666677
         },
         {
          "p": 0.23333333333333228,
          "z": 0.7666666666666677
         },
         {
          "p": 0.22333333333333227,
          "z": 0.7766666666666677
         },
         {
          "p": 0.21333333333333226,
          "z": 0.7866666666666677
         },
         {
          "p": 0.20333333333333226,
          "z": 0.7966666666666677
         },
         {
          "p": 0.19333333333333225,
          "z": 0.8066666666666678
         },
         {
          "p": 0.18333333333333224,
          "z": 0.8166666666666678
         },
         {
          "p": 0.17333333333333223,
          "z": 0.8266666666666678
         },
         {
          "p": 0.16333333333333222,
          "z": 0.8366666666666678
         },
         {
          "p": 0.1533333333333322,
          "z": 0.8466666666666678
         },
         {
          "p": 0.1433333333333322,
          "z": 0.8566666666666678
         },
         {
          "p": 0.1333333333333322,
          "z": 0.8666666666666678
         },
         {
          "p": 0.12333333333333218,
          "z": 0.8766666666666678
         },
         {
          "p": 0.11333333333333218,
          "z": 0.8866666666666678
         },
         {
          "p": 0.10333333333333217,
          "z": 0.8966666666666678
         },
         {
          "p": 0.09333333333333216,
          "z": 0.9066666666666678
         },
         {
          "p": 0.08333333333333215,
          "z": 0.9166666666666679
         },
         {
          "p": 0.07333333333333214,
          "z": 0.9266666666666679
         },
         {
          "p": 0.06333333333333213,
          "z": 0.9366666666666679
         },
         {
          "p": 0.05333333333333212,
          "z": 0.9466666666666679
         },
         {
          "p": 0.043333333333332114,
          "z": 0.9566666666666679
         },
         {
          "p": 0.033333333333332105,
          "z": 0.9666666666666679
         },
         {
          "p": 0.023333333333332096,
          "z": 0.9766666666666679
         },
         {
          "p": 0.013333333333332087,
          "z": 0.9866666666666679
         },
         {
          "p": 0.003333333333332078,
          "z": 0.9966666666666679
         },
         {
          "p": 0,
          "z": 1.006666666666668
         },
         {
          "p": 0,
          "z": 1.016666666666668
         },
         {
          "p": 0,
          "z": 1.026666666666668
         },
         {
          "p": 0,
          "z": 1.036666666666668
         },
         {
          "p": 0,
          "z": 1.046666666666668
         },
         {
          "p": 0,
          "z": 1.056666666666668
         },
         {
          "p": 0,
          "z": 1.066666666666668
         },
         {
          "p": 0,
          "z": 1.076666666666668
         },
         {
          "p": 0,
          "z": 1.086666666666668
         },
         {
          "p": 0,
          "z": 1.096666666666668
         },
         {
          "p": 0,
          "z": 1.106666666666668
         },
         {
          "p": 0,
          "z": 1.116666666666668
         },
         {
          "p": 0,
          "z": 1.126666666666668
         },
         {
          "p": 0,
          "z": 1.136666666666668
         },
         {
          "p": 0,
          "z": 1.146666666666668
         },
         {
          "p": 0,
          "z": 1.156666666666668
         }
        ]
       },
       "layer": [
        {
         "encoding": {
          "x": {
           "field": "z",
           "type": "quantitative"
          },
          "y": {
           "field": "p",
           "type": "quantitative"
          }
         },
         "height": 100,
         "mark": "area",
         "width": 400
        },
        {
         "encoding": {
          "x": {
           "field": "mean",
           "type": "quantitative"
          }
         },
         "mark": {
          "color": "red",
          "size": 2,
          "type": "rule"
         },
         "transform": [
          {
           "as": "mean",
           "calculate": "0"
          }
         ]
        }
       ]
      },
      "image/png": "[encoded data removed]",
      "text/plain": [
       "<VegaLite 3 object>\n",
       "\n",
       "If you see this message, it means the renderer has not been properly enabled\n",
       "for the frontend that you are using. For more information, see\n",
       "https://altair-viz.github.io/user_guide/troubleshooting.html\n"
      ]
     },
     "execution_count": 21,
     "metadata": {},
     "output_type": "execute_result"
    }
   ],
   "source": [
    "z = np.arange(-2/6, 1+1/6, 0.01)\n",
    "p = [ϕ(zi) for zi in z]\n",
    "\n",
    "distribution = pd.DataFrame({'z':z, 'p':p})\n",
    "density = alt.Chart(distribution, height=100, width=400).mark_area().encode(x='z', y='p')\n",
    "rule = alt.Chart(distribution).mark_rule(size=2, color='red').encode(x='mean:Q').transform_calculate(mean='0')\n",
    "density + rule"
   ]
  },
  {
   "cell_type": "markdown",
   "metadata": {},
   "source": [
    "The mean of this distribution is $z=0$, which is illustrated with the red line. As you can see, there is actually a lot more mass to the left of the mean than there is to the right, but 0 is the point at which the distribution would be \"balanced\" on your finger (the \"halfway point\" of the mass is called the **median**). This picture also illustrates that the expected value is not value with the highest $\\phi(z)$ (that's called the **mode**). In this case, the probability of getting the expected value relative to any other value is actually 0 because $\\phi(0) = 0$! There is nothing \"expected\" about the expected value here since it's not even a value $\\mathbf Z$ could produce! But the same thing holds for the more-familiar sample average: the average number of children in a US family may be 2.3, but no family actually has 2.3 children. Averages need not be average."
   ]
  },
  {
   "cell_type": "markdown",
   "metadata": {},
   "source": [
    "<div class=\"alert alert-block alert-info\">\n",
    "<b>Exercise:</b> \n",
    "\n",
    "Verify that the mean of the above density is indeed 0. Use WolframAlpha to calculate any annoying integrals.\n",
    "    \n",
    "</div>"
   ]
  },
  {
   "cell_type": "markdown",
   "metadata": {},
   "source": [
    "### Expected value is the \"best guess\" as judged by mean-squared error"
   ]
  },
  {
   "cell_type": "code",
   "execution_count": 70,
   "metadata": {},
   "outputs": [],
   "source": [
    "# remove this section?? Don't think it's necessary"
   ]
  },
  {
   "cell_type": "markdown",
   "metadata": {},
   "source": [
    "If the expected value isn't necessarily the value we expect to see most frequently, then what's the point of using it to describe an \"average\" realization? What's so \"average\" about averages?"
   ]
  },
  {
   "cell_type": "markdown",
   "metadata": {},
   "source": [
    "Let's play a guessing game. I'm going to draw a single realization $z$ from a distribution of $\\mathbf Z$ and I want you to guess what it is. I'll let you see what the distribution is. But for whatever guess $z^*$ you guess, you have to pay me $(z^* - z)^2$ dollars once I reveal what $z$ actually was. Then we switch sides and *you* draw a realization $z$ from the same distribution and make *me* guess. This time I pay you $(z^* - z)^2$ dollars depending on my guess $z^*$. We go back and forth like this forever. What is the best strategy you can use to win my money?"
   ]
  },
  {
   "cell_type": "markdown",
   "metadata": {},
   "source": [
    "It turns out that your best strategy is to always guess the mean of the distribution: $\\mu(\\mathbf Z)$. We'll simulate the game to demonstrate the point.\n",
    "\n",
    "For no particular reason, we'll play with $\\mathbf Z \\sim \\text{Exp}(1)$ (something called the exponential distribution with parameter $\\lambda = 1$). You can look up the density for this distribution and integrate it in the appropriate way to calculate the expected value. If you do that, you'll see it's $\\mu(\\mathbf Z) = 1$, so that's what you should guess. I'm going to guess a different random number between 0 and 2 each time it's my turn."
   ]
  },
  {
   "cell_type": "code",
   "execution_count": 69,
   "metadata": {},
   "outputs": [
    {
     "data": {
      "application/vnd.vegalite.v3+json": {
       "$schema": "https://vega.github.io/schema/vega-lite/v3.4.0.json",
       "config": {
        "mark": {
         "tooltip": null
        },
        "view": {
         "height": 300,
         "width": 400
        }
       },
       "data": {
        "name": "data-d3327abc622e1b450309d90193f044f3"
       },
       "datasets": {
        "data-d3327abc622e1b450309d90193f044f3": [
         {
          "round": 0,
          "your running profit": 1.2328185294338168
         },
         {
          "round": 1,
          "your running profit": 8.694185137349447
         },
         {
          "round": 2,
          "your running profit": 11.131318391624884
         },
         {
          "round": 3,
          "your running profit": 12.242060601006935
         },
         {
          "round": 4,
          "your running profit": 18.758300014773415
         },
         {
          "round": 5,
          "your running profit": 17.776180710742285
         },
         {
          "round": 6,
          "your running profit": 17.765101084170965
         },
         {
          "round": 7,
          "your running profit": 17.70773191181712
         },
         {
          "round": 8,
          "your running profit": 17.579926041170562
         },
         {
          "round": 9,
          "your running profit": 21.091415608353735
         },
         {
          "round": 10,
          "your running profit": 12.287296503754503
         },
         {
          "round": 11,
          "your running profit": 11.655774299615445
         },
         {
          "round": 12,
          "your running profit": 14.12520182197346
         },
         {
          "round": 13,
          "your running profit": 13.993540815836736
         },
         {
          "round": 14,
          "your running profit": 13.086045290088883
         },
         {
          "round": 15,
          "your running profit": 13.362447193791159
         },
         {
          "round": 16,
          "your running profit": 15.668836973622719
         },
         {
          "round": 17,
          "your running profit": 15.669608011539188
         },
         {
          "round": 18,
          "your running profit": 14.11348740358379
         },
         {
          "round": 19,
          "your running profit": -2.6748188991173194
         },
         {
          "round": 20,
          "your running profit": -1.6058104847727959
         },
         {
          "round": 21,
          "your running profit": -1.9285347496329595
         },
         {
          "round": 22,
          "your running profit": -2.4032867481786075
         },
         {
          "round": 23,
          "your running profit": -2.5945045732224346
         },
         {
          "round": 24,
          "your running profit": -2.981370636737242
         },
         {
          "round": 25,
          "your running profit": -3.423695401646085
         },
         {
          "round": 26,
          "your running profit": -33.33768320730686
         },
         {
          "round": 27,
          "your running profit": -31.786852353051586
         },
         {
          "round": 28,
          "your running profit": -32.29168990153356
         },
         {
          "round": 29,
          "your running profit": -32.08653872037226
         },
         {
          "round": 30,
          "your running profit": -31.953251367549267
         },
         {
          "round": 31,
          "your running profit": -30.7840467567287
         },
         {
          "round": 32,
          "your running profit": -31.204126525556013
         },
         {
          "round": 33,
          "your running profit": -30.666811907367535
         },
         {
          "round": 34,
          "your running profit": -29.31210560601742
         },
         {
          "round": 35,
          "your running profit": -29.198228093507282
         },
         {
          "round": 36,
          "your running profit": -29.791483904352898
         },
         {
          "round": 37,
          "your running profit": -28.78986339901239
         },
         {
          "round": 38,
          "your running profit": -26.733483658296446
         },
         {
          "round": 39,
          "your running profit": -26.717370151571
         },
         {
          "round": 40,
          "your running profit": -24.49145725809488
         },
         {
          "round": 41,
          "your running profit": -24.5997208648971
         },
         {
          "round": 42,
          "your running profit": -23.860536423263326
         },
         {
          "round": 43,
          "your running profit": -24.632773045452815
         },
         {
          "round": 44,
          "your running profit": -24.56030776712819
         },
         {
          "round": 45,
          "your running profit": -22.859538980445887
         },
         {
          "round": 46,
          "your running profit": -20.194505226540763
         },
         {
          "round": 47,
          "your running profit": -20.691735386095722
         },
         {
          "round": 48,
          "your running profit": -18.53205260954603
         },
         {
          "round": 49,
          "your running profit": -18.177404429786748
         },
         {
          "round": 50,
          "your running profit": -18.70510629843499
         },
         {
          "round": 51,
          "your running profit": -18.92871904650703
         },
         {
          "round": 52,
          "your running profit": -17.943825718024417
         },
         {
          "round": 53,
          "your running profit": -9.519190951111383
         },
         {
          "round": 54,
          "your running profit": -9.28535690726981
         },
         {
          "round": 55,
          "your running profit": -8.132940886578966
         },
         {
          "round": 56,
          "your running profit": -8.185566989402622
         },
         {
          "round": 57,
          "your running profit": -9.0084695145076
         },
         {
          "round": 58,
          "your running profit": -8.189205596075091
         },
         {
          "round": 59,
          "your running profit": -8.741298866440141
         },
         {
          "round": 60,
          "your running profit": -6.537016683548824
         },
         {
          "round": 61,
          "your running profit": -6.539300726120436
         },
         {
          "round": 62,
          "your running profit": -6.557032017314955
         },
         {
          "round": 63,
          "your running profit": -6.504029245601176
         },
         {
          "round": 64,
          "your running profit": 1.4819837733773227
         },
         {
          "round": 65,
          "your running profit": 2.5725629303371784
         },
         {
          "round": 66,
          "your running profit": 4.102493677567008
         },
         {
          "round": 67,
          "your running profit": 6.265803864959591
         },
         {
          "round": 68,
          "your running profit": 6.79688906874869
         },
         {
          "round": 69,
          "your running profit": 9.049175348390522
         },
         {
          "round": 70,
          "your running profit": 8.774817750995473
         },
         {
          "round": 71,
          "your running profit": 3.491758510269891
         },
         {
          "round": 72,
          "your running profit": 4.334056139436393
         },
         {
          "round": 73,
          "your running profit": 3.6962364602664484
         },
         {
          "round": 74,
          "your running profit": 3.328854434199396
         },
         {
          "round": 75,
          "your running profit": 3.893406982915911
         },
         {
          "round": 76,
          "your running profit": 4.268096151866546
         },
         {
          "round": 77,
          "your running profit": 4.8621692312043745
         },
         {
          "round": 78,
          "your running profit": 4.760826204807747
         },
         {
          "round": 79,
          "your running profit": 6.477907725582577
         },
         {
          "round": 80,
          "your running profit": 6.466157131996757
         },
         {
          "round": 81,
          "your running profit": 7.3015995975634755
         },
         {
          "round": 82,
          "your running profit": 7.6429505435293335
         },
         {
          "round": 83,
          "your running profit": -15.4552824458722
         },
         {
          "round": 84,
          "your running profit": -15.995368004519573
         },
         {
          "round": 85,
          "your running profit": -15.38642405273286
         },
         {
          "round": 86,
          "your running profit": -14.607835655090721
         },
         {
          "round": 87,
          "your running profit": -15.437914652727335
         },
         {
          "round": 88,
          "your running profit": -15.766648147547956
         },
         {
          "round": 89,
          "your running profit": -16.121174396201027
         },
         {
          "round": 90,
          "your running profit": -15.69790149789919
         },
         {
          "round": 91,
          "your running profit": -14.678333191709042
         },
         {
          "round": 92,
          "your running profit": -12.583201975232502
         },
         {
          "round": 93,
          "your running profit": -12.847210786565773
         },
         {
          "round": 94,
          "your running profit": -11.893345647605289
         },
         {
          "round": 95,
          "your running profit": -10.946425926415625
         },
         {
          "round": 96,
          "your running profit": -10.890653856401462
         },
         {
          "round": 97,
          "your running profit": -11.437503685562547
         },
         {
          "round": 98,
          "your running profit": -9.893847687541998
         },
         {
          "round": 99,
          "your running profit": -9.915162953543874
         },
         {
          "round": 100,
          "your running profit": -10.031309182012123
         },
         {
          "round": 101,
          "your running profit": -9.98954008665989
         },
         {
          "round": 102,
          "your running profit": -9.207665144049319
         },
         {
          "round": 103,
          "your running profit": -9.157398435758923
         },
         {
          "round": 104,
          "your running profit": -3.383579610162389
         },
         {
          "round": 105,
          "your running profit": 18.928072218342287
         },
         {
          "round": 106,
          "your running profit": 21.99944191052733
         },
         {
          "round": 107,
          "your running profit": 24.88665698640795
         },
         {
          "round": 108,
          "your running profit": 25.774923641000644
         },
         {
          "round": 109,
          "your running profit": 26.056520474367368
         },
         {
          "round": 110,
          "your running profit": 25.8075725868061
         },
         {
          "round": 111,
          "your running profit": 26.00913230669928
         },
         {
          "round": 112,
          "your running profit": 25.380946654963488
         },
         {
          "round": 113,
          "your running profit": 28.424433388847596
         },
         {
          "round": 114,
          "your running profit": 28.962027514482305
         },
         {
          "round": 115,
          "your running profit": 29.00079595263557
         },
         {
          "round": 116,
          "your running profit": 30.29058819009178
         },
         {
          "round": 117,
          "your running profit": 30.13733591105888
         },
         {
          "round": 118,
          "your running profit": 25.41218551384747
         },
         {
          "round": 119,
          "your running profit": 27.33127273640875
         },
         {
          "round": 120,
          "your running profit": 26.847401451500925
         },
         {
          "round": 121,
          "your running profit": 28.916291701333748
         },
         {
          "round": 122,
          "your running profit": 25.900585326257236
         },
         {
          "round": 123,
          "your running profit": 25.899441664082477
         },
         {
          "round": 124,
          "your running profit": 24.315849202451172
         },
         {
          "round": 125,
          "your running profit": 24.562343384290603
         },
         {
          "round": 126,
          "your running profit": 24.732751454520972
         },
         {
          "round": 127,
          "your running profit": 24.871498121380313
         },
         {
          "round": 128,
          "your running profit": 24.562052073468102
         },
         {
          "round": 129,
          "your running profit": 26.109701178313813
         },
         {
          "round": 130,
          "your running profit": 25.27994050646526
         },
         {
          "round": 131,
          "your running profit": 25.594984499109458
         },
         {
          "round": 132,
          "your running profit": 25.97006157743995
         },
         {
          "round": 133,
          "your running profit": 24.33483424935293
         },
         {
          "round": 134,
          "your running profit": 26.334726725099166
         },
         {
          "round": 135,
          "your running profit": 26.395218489099555
         },
         {
          "round": 136,
          "your running profit": 24.153080007719467
         },
         {
          "round": 137,
          "your running profit": 23.88125647412917
         },
         {
          "round": 138,
          "your running profit": 23.563898958730235
         },
         {
          "round": 139,
          "your running profit": 23.51632255401675
         },
         {
          "round": 140,
          "your running profit": 23.361484680499668
         },
         {
          "round": 141,
          "your running profit": 23.220805488594692
         },
         {
          "round": 142,
          "your running profit": 22.643496838500308
         },
         {
          "round": 143,
          "your running profit": 24.706660804875362
         },
         {
          "round": 144,
          "your running profit": 27.987688422784167
         },
         {
          "round": 145,
          "your running profit": 11.264366588645565
         },
         {
          "round": 146,
          "your running profit": 11.180124263288754
         },
         {
          "round": 147,
          "your running profit": 11.170075343834409
         },
         {
          "round": 148,
          "your running profit": 11.42840407935377
         },
         {
          "round": 149,
          "your running profit": 11.523593039551088
         },
         {
          "round": 150,
          "your running profit": 13.973645978319775
         },
         {
          "round": 151,
          "your running profit": 14.302579902049558
         },
         {
          "round": 152,
          "your running profit": 14.13504876222138
         },
         {
          "round": 153,
          "your running profit": -35.67280669985329
         },
         {
          "round": 154,
          "your running profit": -31.40307725768846
         },
         {
          "round": 155,
          "your running profit": -31.26486369630566
         },
         {
          "round": 156,
          "your running profit": -30.494438956397726
         },
         {
          "round": 157,
          "your running profit": -30.294572366537082
         },
         {
          "round": 158,
          "your running profit": -30.130141855480197
         },
         {
          "round": 159,
          "your running profit": -29.034174367696526
         },
         {
          "round": 160,
          "your running profit": -27.13297517447091
         },
         {
          "round": 161,
          "your running profit": -26.543211496114626
         },
         {
          "round": 162,
          "your running profit": -26.190918580163846
         },
         {
          "round": 163,
          "your running profit": -25.09538264409045
         },
         {
          "round": 164,
          "your running profit": -26.887686874278828
         },
         {
          "round": 165,
          "your running profit": -24.777891375213038
         },
         {
          "round": 166,
          "your running profit": -24.110447849015237
         },
         {
          "round": 167,
          "your running profit": -22.760349094969083
         },
         {
          "round": 168,
          "your running profit": -23.103565042392777
         },
         {
          "round": 169,
          "your running profit": -21.90985638918449
         },
         {
          "round": 170,
          "your running profit": -19.226230615774526
         },
         {
          "round": 171,
          "your running profit": -18.251443200756793
         },
         {
          "round": 172,
          "your running profit": -16.162444004420365
         },
         {
          "round": 173,
          "your running profit": -16.239032944638453
         },
         {
          "round": 174,
          "your running profit": -15.91547799498924
         },
         {
          "round": 175,
          "your running profit": -14.515725164862278
         },
         {
          "round": 176,
          "your running profit": -19.81745612530085
         },
         {
          "round": 177,
          "your running profit": -19.876368961604133
         },
         {
          "round": 178,
          "your running profit": -19.71768262807429
         },
         {
          "round": 179,
          "your running profit": -20.193305694939426
         },
         {
          "round": 180,
          "your running profit": -18.819084076087897
         },
         {
          "round": 181,
          "your running profit": -16.42504502696385
         },
         {
          "round": 182,
          "your running profit": -16.38656709476657
         },
         {
          "round": 183,
          "your running profit": -16.407349944735046
         },
         {
          "round": 184,
          "your running profit": -17.553717651756482
         },
         {
          "round": 185,
          "your running profit": -17.570810624199773
         },
         {
          "round": 186,
          "your running profit": -17.54306045508039
         },
         {
          "round": 187,
          "your running profit": -15.472126572924726
         },
         {
          "round": 188,
          "your running profit": -15.635976592071543
         },
         {
          "round": 189,
          "your running profit": -20.375243256840154
         },
         {
          "round": 190,
          "your running profit": -8.746482899413694
         },
         {
          "round": 191,
          "your running profit": -7.903905484854289
         },
         {
          "round": 192,
          "your running profit": -7.851512353505209
         },
         {
          "round": 193,
          "your running profit": -8.82355223002732
         },
         {
          "round": 194,
          "your running profit": -8.072241185460662
         },
         {
          "round": 195,
          "your running profit": -8.763269257686401
         },
         {
          "round": 196,
          "your running profit": -9.458361721203229
         },
         {
          "round": 197,
          "your running profit": -10.062450785464724
         },
         {
          "round": 198,
          "your running profit": -10.240751381951828
         },
         {
          "round": 199,
          "your running profit": -10.523827942715378
         },
         {
          "round": 200,
          "your running profit": -10.410449424660031
         },
         {
          "round": 201,
          "your running profit": -9.888849472443038
         },
         {
          "round": 202,
          "your running profit": -8.636977846159287
         },
         {
          "round": 203,
          "your running profit": -7.300195174806081
         },
         {
          "round": 204,
          "your running profit": -7.091106561467497
         },
         {
          "round": 205,
          "your running profit": -7.527782340728285
         },
         {
          "round": 206,
          "your running profit": -8.858939736704503
         },
         {
          "round": 207,
          "your running profit": -9.097942770552487
         },
         {
          "round": 208,
          "your running profit": -8.340714749534943
         },
         {
          "round": 209,
          "your running profit": -6.43667302456738
         },
         {
          "round": 210,
          "your running profit": -6.230893679877602
         },
         {
          "round": 211,
          "your running profit": -3.640763302625974
         },
         {
          "round": 212,
          "your running profit": -4.391683112322313
         },
         {
          "round": 213,
          "your running profit": -4.136868347747428
         },
         {
          "round": 214,
          "your running profit": -4.167966230052342
         },
         {
          "round": 215,
          "your running profit": -4.255082678039323
         },
         {
          "round": 216,
          "your running profit": -3.384747478836494
         },
         {
          "round": 217,
          "your running profit": -6.487875703165341
         },
         {
          "round": 218,
          "your running profit": -4.058465905503759
         },
         {
          "round": 219,
          "your running profit": -4.4765878956204315
         },
         {
          "round": 220,
          "your running profit": -4.656091921641145
         },
         {
          "round": 221,
          "your running profit": -5.476670076669842
         },
         {
          "round": 222,
          "your running profit": -4.483617806916432
         },
         {
          "round": 223,
          "your running profit": -4.486282824968099
         },
         {
          "round": 224,
          "your running profit": -4.4762856014613845
         },
         {
          "round": 225,
          "your running profit": -2.648152086059926
         },
         {
          "round": 226,
          "your running profit": -2.3996388007749725
         },
         {
          "round": 227,
          "your running profit": -1.6886891077291097
         },
         {
          "round": 228,
          "your running profit": -1.489156126500473
         },
         {
          "round": 229,
          "your running profit": -2.0942184630192293
         },
         {
          "round": 230,
          "your running profit": -2.124865229656019
         },
         {
          "round": 231,
          "your running profit": -2.3280556912599257
         },
         {
          "round": 232,
          "your running profit": -2.6079853699631372
         },
         {
          "round": 233,
          "your running profit": -2.5360352111737794
         },
         {
          "round": 234,
          "your running profit": -11.541058261802448
         },
         {
          "round": 235,
          "your running profit": -8.876016800664434
         },
         {
          "round": 236,
          "your running profit": -9.040537163398026
         },
         {
          "round": 237,
          "your running profit": -9.377085974075301
         },
         {
          "round": 238,
          "your running profit": -7.478228006702279
         },
         {
          "round": 239,
          "your running profit": -5.8594325074443026
         },
         {
          "round": 240,
          "your running profit": -5.334679854984849
         },
         {
          "round": 241,
          "your running profit": -5.579888102083074
         },
         {
          "round": 242,
          "your running profit": 8.940316749853025
         },
         {
          "round": 243,
          "your running profit": 10.692240885034622
         },
         {
          "round": 244,
          "your running profit": 11.90648070375784
         },
         {
          "round": 245,
          "your running profit": 12.379672770067152
         },
         {
          "round": 246,
          "your running profit": 12.952073701011827
         },
         {
          "round": 247,
          "your running profit": 18.663275940776757
         },
         {
          "round": 248,
          "your running profit": 18.619613700436975
         },
         {
          "round": 249,
          "your running profit": 18.043917690571032
         },
         {
          "round": 250,
          "your running profit": 21.636827299994128
         },
         {
          "round": 251,
          "your running profit": 22.06741054285605
         },
         {
          "round": 252,
          "your running profit": 21.926743818247036
         },
         {
          "round": 253,
          "your running profit": 19.285875446133314
         },
         {
          "round": 254,
          "your running profit": 18.09247812802551
         },
         {
          "round": 255,
          "your running profit": 27.299239565009902
         },
         {
          "round": 256,
          "your running profit": 30.783794340978652
         },
         {
          "round": 257,
          "your running profit": 31.866874159859357
         },
         {
          "round": 258,
          "your running profit": 26.523059087365866
         },
         {
          "round": 259,
          "your running profit": 26.093782558335562
         },
         {
          "round": 260,
          "your running profit": 28.28120147524375
         },
         {
          "round": 261,
          "your running profit": 28.419144343909576
         },
         {
          "round": 262,
          "your running profit": 24.7886680625942
         },
         {
          "round": 263,
          "your running profit": 34.980852433531595
         },
         {
          "round": 264,
          "your running profit": 42.27498405905228
         },
         {
          "round": 265,
          "your running profit": 29.238713645340077
         },
         {
          "round": 266,
          "your running profit": 29.326644827799523
         },
         {
          "round": 267,
          "your running profit": 31.068669185425918
         },
         {
          "round": 268,
          "your running profit": 31.069311640449545
         },
         {
          "round": 269,
          "your running profit": 30.304825402021446
         },
         {
          "round": 270,
          "your running profit": 30.03555625442425
         },
         {
          "round": 271,
          "your running profit": 29.493414706761858
         },
         {
          "round": 272,
          "your running profit": 29.887599187162614
         },
         {
          "round": 273,
          "your running profit": 29.83773184582568
         },
         {
          "round": 274,
          "your running profit": 29.666416835188354
         },
         {
          "round": 275,
          "your running profit": 23.157709169841883
         },
         {
          "round": 276,
          "your running profit": 24.496970433301826
         },
         {
          "round": 277,
          "your running profit": 23.654214279580998
         },
         {
          "round": 278,
          "your running profit": 23.402781523670953
         },
         {
          "round": 279,
          "your running profit": 22.902307094429926
         },
         {
          "round": 280,
          "your running profit": 22.267590291679863
         },
         {
          "round": 281,
          "your running profit": 25.148388057754833
         },
         {
          "round": 282,
          "your running profit": 5.081419182053395
         },
         {
          "round": 283,
          "your running profit": 5.030286217970211
         },
         {
          "round": 284,
          "your running profit": 13.557387589136816
         },
         {
          "round": 285,
          "your running profit": 13.710667469430108
         },
         {
          "round": 286,
          "your running profit": 13.650148051736462
         },
         {
          "round": 287,
          "your running profit": 11.455465147261888
         },
         {
          "round": 288,
          "your running profit": 14.045814933035988
         },
         {
          "round": 289,
          "your running profit": 13.657546781968641
         },
         {
          "round": 290,
          "your running profit": 12.072616158235911
         },
         {
          "round": 291,
          "your running profit": 11.811995844418698
         },
         {
          "round": 292,
          "your running profit": 12.723453258257688
         },
         {
          "round": 293,
          "your running profit": 15.851509179815602
         },
         {
          "round": 294,
          "your running profit": 14.75273892222015
         },
         {
          "round": 295,
          "your running profit": 15.885816499874492
         },
         {
          "round": 296,
          "your running profit": 15.750711525116504
         },
         {
          "round": 297,
          "your running profit": 15.396931713406993
         },
         {
          "round": 298,
          "your running profit": 46.13446954374719
         },
         {
          "round": 299,
          "your running profit": 43.560255678304756
         },
         {
          "round": 300,
          "your running profit": 43.52037871595241
         },
         {
          "round": 301,
          "your running profit": 45.26212552614545
         },
         {
          "round": 302,
          "your running profit": 44.15782074089875
         },
         {
          "round": 303,
          "your running profit": 44.344696311365354
         },
         {
          "round": 304,
          "your running profit": 45.98286857801176
         },
         {
          "round": 305,
          "your running profit": 46.010650202512196
         },
         {
          "round": 306,
          "your running profit": 49.50597998334529
         },
         {
          "round": 307,
          "your running profit": 49.350660378619146
         },
         {
          "round": 308,
          "your running profit": 49.55645099974537
         },
         {
          "round": 309,
          "your running profit": 49.60913860980918
         },
         {
          "round": 310,
          "your running profit": 49.53942878788259
         },
         {
          "round": 311,
          "your running profit": 49.524381716745516
         },
         {
          "round": 312,
          "your running profit": 50.294773876396675
         },
         {
          "round": 313,
          "your running profit": 48.981699399683485
         },
         {
          "round": 314,
          "your running profit": 49.31957055366741
         },
         {
          "round": 315,
          "your running profit": 49.83626834036236
         },
         {
          "round": 316,
          "your running profit": 50.27168220395663
         },
         {
          "round": 317,
          "your running profit": 50.25071132003043
         },
         {
          "round": 318,
          "your running profit": 51.34612794595681
         },
         {
          "round": 319,
          "your running profit": 51.79629838578692
         },
         {
          "round": 320,
          "your running profit": 51.80506989419451
         },
         {
          "round": 321,
          "your running profit": 85.79629580095907
         },
         {
          "round": 322,
          "your running profit": 85.94496549414987
         },
         {
          "round": 323,
          "your running profit": 85.78347928313042
         },
         {
          "round": 324,
          "your running profit": 86.00591028449668
         },
         {
          "round": 325,
          "your running profit": 85.98224049859228
         },
         {
          "round": 326,
          "your running profit": 85.12757508124321
         },
         {
          "round": 327,
          "your running profit": 88.15741472648779
         },
         {
          "round": 328,
          "your running profit": 88.01666306761255
         },
         {
          "round": 329,
          "your running profit": 87.61665964789533
         },
         {
          "round": 330,
          "your running profit": 88.14680872125766
         },
         {
          "round": 331,
          "your running profit": 88.08958808778075
         },
         {
          "round": 332,
          "your running profit": 87.78287431874982
         },
         {
          "round": 333,
          "your running profit": 87.17599897257824
         },
         {
          "round": 334,
          "your running profit": 88.75761226809851
         },
         {
          "round": 335,
          "your running profit": 88.05667806131208
         },
         {
          "round": 336,
          "your running profit": 87.87908799617801
         },
         {
          "round": 337,
          "your running profit": 91.34931927004452
         },
         {
          "round": 338,
          "your running profit": 92.31778105518934
         },
         {
          "round": 339,
          "your running profit": 91.71771507553287
         },
         {
          "round": 340,
          "your running profit": 92.33262140451622
         },
         {
          "round": 341,
          "your running profit": 91.89254191812837
         },
         {
          "round": 342,
          "your running profit": 91.23328198340441
         },
         {
          "round": 343,
          "your running profit": 91.25908701035537
         },
         {
          "round": 344,
          "your running profit": 90.47681089454491
         },
         {
          "round": 345,
          "your running profit": 84.06465711414201
         },
         {
          "round": 346,
          "your running profit": 83.94902584610863
         },
         {
          "round": 347,
          "your running profit": 83.95316479452062
         },
         {
          "round": 348,
          "your running profit": 83.8943592497217
         },
         {
          "round": 349,
          "your running profit": 93.63952067105234
         },
         {
          "round": 350,
          "your running profit": 94.78570968332528
         },
         {
          "round": 351,
          "your running profit": 95.16448984691498
         },
         {
          "round": 352,
          "your running profit": 94.46387140933814
         },
         {
          "round": 353,
          "your running profit": 95.98093655874357
         },
         {
          "round": 354,
          "your running profit": 99.13227904189574
         },
         {
          "round": 355,
          "your running profit": 99.56849299194504
         },
         {
          "round": 356,
          "your running profit": 127.99527101820907
         },
         {
          "round": 357,
          "your running profit": 128.217524553528
         },
         {
          "round": 358,
          "your running profit": 128.41902486571033
         },
         {
          "round": 359,
          "your running profit": 127.83405846498903
         },
         {
          "round": 360,
          "your running profit": 128.59295551043598
         },
         {
          "round": 361,
          "your running profit": 128.2870483970245
         },
         {
          "round": 362,
          "your running profit": 131.5195843623375
         },
         {
          "round": 363,
          "your running profit": 131.6441224728026
         },
         {
          "round": 364,
          "your running profit": 133.4497636279078
         },
         {
          "round": 365,
          "your running profit": 135.1107681196016
         },
         {
          "round": 366,
          "your running profit": 136.72383513482575
         },
         {
          "round": 367,
          "your running profit": 136.28926695379786
         },
         {
          "round": 368,
          "your running profit": 131.0459026081821
         },
         {
          "round": 369,
          "your running profit": 131.1068841656442
         },
         {
          "round": 370,
          "your running profit": 130.91154490206634
         },
         {
          "round": 371,
          "your running profit": 119.43541201156052
         },
         {
          "round": 372,
          "your running profit": 120.24951592873569
         },
         {
          "round": 373,
          "your running profit": 120.10770466545371
         },
         {
          "round": 374,
          "your running profit": 124.12217933542556
         },
         {
          "round": 375,
          "your running profit": 124.55877748283831
         },
         {
          "round": 376,
          "your running profit": 136.9602363680012
         },
         {
          "round": 377,
          "your running profit": 140.2416545121326
         },
         {
          "round": 378,
          "your running profit": 139.49258610132512
         },
         {
          "round": 379,
          "your running profit": 141.15895769754152
         },
         {
          "round": 380,
          "your running profit": 139.79807831656498
         },
         {
          "round": 381,
          "your running profit": 139.7957928452523
         },
         {
          "round": 382,
          "your running profit": 139.3051525004613
         },
         {
          "round": 383,
          "your running profit": 140.45357988187757
         },
         {
          "round": 384,
          "your running profit": 156.27136532142
         },
         {
          "round": 385,
          "your running profit": 155.67791383511334
         },
         {
          "round": 386,
          "your running profit": 156.94556047387073
         },
         {
          "round": 387,
          "your running profit": 157.4367172648895
         },
         {
          "round": 388,
          "your running profit": 157.51353824264527
         },
         {
          "round": 389,
          "your running profit": 152.76969942656876
         },
         {
          "round": 390,
          "your running profit": 152.29690735947622
         },
         {
          "round": 391,
          "your running profit": 151.7249077953055
         },
         {
          "round": 392,
          "your running profit": 151.28563675918525
         },
         {
          "round": 393,
          "your running profit": 144.3171824429221
         },
         {
          "round": 394,
          "your running profit": 144.16791123317262
         },
         {
          "round": 395,
          "your running profit": 140.79109697444582
         },
         {
          "round": 396,
          "your running profit": 137.70112495731783
         },
         {
          "round": 397,
          "your running profit": 137.2047111945806
         },
         {
          "round": 398,
          "your running profit": 137.28041474081743
         },
         {
          "round": 399,
          "your running profit": 138.5067594470791
         },
         {
          "round": 400,
          "your running profit": 137.42755174918324
         },
         {
          "round": 401,
          "your running profit": 135.15453220582907
         },
         {
          "round": 402,
          "your running profit": 135.29622495322442
         },
         {
          "round": 403,
          "your running profit": 136.34747821503655
         },
         {
          "round": 404,
          "your running profit": 136.02735873908483
         },
         {
          "round": 405,
          "your running profit": 135.3259552603063
         },
         {
          "round": 406,
          "your running profit": 136.78558839664032
         },
         {
          "round": 407,
          "your running profit": 136.93282635098723
         },
         {
          "round": 408,
          "your running profit": 137.34944646248817
         },
         {
          "round": 409,
          "your running profit": 146.35364569625992
         },
         {
          "round": 410,
          "your running profit": 146.37803321351933
         },
         {
          "round": 411,
          "your running profit": 146.59495352336427
         },
         {
          "round": 412,
          "your running profit": 146.48762669198325
         },
         {
          "round": 413,
          "your running profit": 146.59400556425757
         },
         {
          "round": 414,
          "your running profit": 146.19963450236745
         },
         {
          "round": 415,
          "your running profit": 145.96755585005556
         },
         {
          "round": 416,
          "your running profit": 148.13354143802292
         },
         {
          "round": 417,
          "your running profit": 147.19266330736536
         },
         {
          "round": 418,
          "your running profit": 149.82487153521208
         },
         {
          "round": 419,
          "your running profit": 142.30208791458975
         },
         {
          "round": 420,
          "your running profit": 142.83906811326793
         },
         {
          "round": 421,
          "your running profit": 144.9878458391324
         },
         {
          "round": 422,
          "your running profit": 141.07472410950334
         },
         {
          "round": 423,
          "your running profit": 144.131560722257
         },
         {
          "round": 424,
          "your running profit": 143.85695468258865
         },
         {
          "round": 425,
          "your running profit": 143.82298637359506
         },
         {
          "round": 426,
          "your running profit": 143.49571447071025
         },
         {
          "round": 427,
          "your running profit": 143.30087094339058
         },
         {
          "round": 428,
          "your running profit": 142.57475655831936
         },
         {
          "round": 429,
          "your running profit": 143.83833820813797
         },
         {
          "round": 430,
          "your running profit": 142.98356437792762
         },
         {
          "round": 431,
          "your running profit": 142.96796369121745
         },
         {
          "round": 432,
          "your running profit": 143.3361311670894
         },
         {
          "round": 433,
          "your running profit": 146.5497017811331
         },
         {
          "round": 434,
          "your running profit": 147.67685317554097
         },
         {
          "round": 435,
          "your running profit": 148.80854642734934
         },
         {
          "round": 436,
          "your running profit": 151.0224043015042
         },
         {
          "round": 437,
          "your running profit": 153.37116922040502
         },
         {
          "round": 438,
          "your running profit": 152.94124512175023
         },
         {
          "round": 439,
          "your running profit": 155.8642390515355
         },
         {
          "round": 440,
          "your running profit": 155.02925963540164
         },
         {
          "round": 441,
          "your running profit": 146.79659120680532
         },
         {
          "round": 442,
          "your running profit": 133.1115110305585
         },
         {
          "round": 443,
          "your running profit": 134.60930233483276
         },
         {
          "round": 444,
          "your running profit": 133.69737022882057
         },
         {
          "round": 445,
          "your running profit": 133.38283710789554
         },
         {
          "round": 446,
          "your running profit": 133.35871480958235
         },
         {
          "round": 447,
          "your running profit": 134.40729741676068
         },
         {
          "round": 448,
          "your running profit": 134.3176358324864
         },
         {
          "round": 449,
          "your running profit": 133.79423899404998
         },
         {
          "round": 450,
          "your running profit": 137.65873371999353
         },
         {
          "round": 451,
          "your running profit": 136.694366335907
         },
         {
          "round": 452,
          "your running profit": 136.3511343011121
         },
         {
          "round": 453,
          "your running profit": 136.3894816614698
         },
         {
          "round": 454,
          "your running profit": 136.49274266785528
         },
         {
          "round": 455,
          "your running profit": 140.8148181168687
         },
         {
          "round": 456,
          "your running profit": 139.35337826634077
         },
         {
          "round": 457,
          "your running profit": 139.40608132907738
         },
         {
          "round": 458,
          "your running profit": 138.4694071693663
         },
         {
          "round": 459,
          "your running profit": 133.7359604556197
         },
         {
          "round": 460,
          "your running profit": 134.1303331392125
         },
         {
          "round": 461,
          "your running profit": 135.0929747373233
         },
         {
          "round": 462,
          "your running profit": 134.77947327355946
         },
         {
          "round": 463,
          "your running profit": 136.73118388491068
         },
         {
          "round": 464,
          "your running profit": 136.28835620997432
         },
         {
          "round": 465,
          "your running profit": 137.08838076418155
         },
         {
          "round": 466,
          "your running profit": 138.0424675748297
         },
         {
          "round": 467,
          "your running profit": 140.03306331186997
         },
         {
          "round": 468,
          "your running profit": 140.48092075506892
         },
         {
          "round": 469,
          "your running profit": 140.6895692636025
         },
         {
          "round": 470,
          "your running profit": 142.7875092811757
         },
         {
          "round": 471,
          "your running profit": 142.71578880044814
         },
         {
          "round": 472,
          "your running profit": 142.07874435708047
         },
         {
          "round": 473,
          "your running profit": 142.32347589627554
         },
         {
          "round": 474,
          "your running profit": 135.9944166192003
         },
         {
          "round": 475,
          "your running profit": 136.51669753714418
         },
         {
          "round": 476,
          "your running profit": 152.78488245915867
         },
         {
          "round": 477,
          "your running profit": 155.32227726149108
         },
         {
          "round": 478,
          "your running profit": 158.29933964877597
         },
         {
          "round": 479,
          "your running profit": 158.90680526498284
         },
         {
          "round": 480,
          "your running profit": 158.2499089992568
         },
         {
          "round": 481,
          "your running profit": 159.0813539453679
         },
         {
          "round": 482,
          "your running profit": 173.968171096774
         },
         {
          "round": 483,
          "your running profit": 175.8555512976183
         },
         {
          "round": 484,
          "your running profit": 175.95977805316537
         },
         {
          "round": 485,
          "your running profit": 175.76771906471538
         },
         {
          "round": 486,
          "your running profit": 175.8098473575343
         },
         {
          "round": 487,
          "your running profit": 176.32739663688176
         },
         {
          "round": 488,
          "your running profit": 178.1020332606681
         },
         {
          "round": 489,
          "your running profit": 179.1331885854452
         },
         {
          "round": 490,
          "your running profit": 180.08005335359138
         },
         {
          "round": 491,
          "your running profit": 180.7793982047063
         },
         {
          "round": 492,
          "your running profit": 180.393103585144
         },
         {
          "round": 493,
          "your running profit": 182.16930004798587
         },
         {
          "round": 494,
          "your running profit": 194.51256785860443
         },
         {
          "round": 495,
          "your running profit": 194.42877637006146
         },
         {
          "round": 496,
          "your running profit": 197.52585721349314
         },
         {
          "round": 497,
          "your running profit": 209.11329609019603
         },
         {
          "round": 498,
          "your running profit": 205.27333375427656
         },
         {
          "round": 499,
          "your running profit": 205.25412209685607
         },
         {
          "round": 500,
          "your running profit": 204.083534700212
         },
         {
          "round": 501,
          "your running profit": 202.86157815477415
         },
         {
          "round": 502,
          "your running profit": 208.91591596173515
         },
         {
          "round": 503,
          "your running profit": 208.84426824914462
         },
         {
          "round": 504,
          "your running profit": 209.40955300652837
         },
         {
          "round": 505,
          "your running profit": 209.675608093966
         },
         {
          "round": 506,
          "your running profit": 212.3675618532911
         },
         {
          "round": 507,
          "your running profit": 214.77930036880278
         },
         {
          "round": 508,
          "your running profit": 215.93794657151284
         },
         {
          "round": 509,
          "your running profit": 215.36379918083472
         },
         {
          "round": 510,
          "your running profit": 214.8962300160124
         },
         {
          "round": 511,
          "your running profit": 216.22794087056403
         },
         {
          "round": 512,
          "your running profit": 215.59316027284405
         },
         {
          "round": 513,
          "your running profit": 215.79919056060297
         },
         {
          "round": 514,
          "your running profit": 211.1220025280866
         },
         {
          "round": 515,
          "your running profit": 211.7138861727393
         },
         {
          "round": 516,
          "your running profit": 212.13573771214783
         },
         {
          "round": 517,
          "your running profit": 211.8944507819492
         },
         {
          "round": 518,
          "your running profit": 211.98163459070196
         },
         {
          "round": 519,
          "your running profit": 213.28603510124455
         },
         {
          "round": 520,
          "your running profit": 212.97882429042562
         },
         {
          "round": 521,
          "your running profit": 211.76093185640602
         },
         {
          "round": 522,
          "your running profit": 212.01324569975242
         },
         {
          "round": 523,
          "your running profit": 212.26412471748557
         },
         {
          "round": 524,
          "your running profit": 212.56087894937684
         },
         {
          "round": 525,
          "your running profit": 212.889089582626
         },
         {
          "round": 526,
          "your running profit": 212.31205019863214
         },
         {
          "round": 527,
          "your running profit": 212.99135323035807
         },
         {
          "round": 528,
          "your running profit": 214.74247071410082
         },
         {
          "round": 529,
          "your running profit": 214.80972635329834
         },
         {
          "round": 530,
          "your running profit": 215.53587876435333
         },
         {
          "round": 531,
          "your running profit": 214.73071552623747
         },
         {
          "round": 532,
          "your running profit": 214.53996462019973
         },
         {
          "round": 533,
          "your running profit": 213.12861671231184
         },
         {
          "round": 534,
          "your running profit": 211.3121619045937
         },
         {
          "round": 535,
          "your running profit": 208.19442671719776
         },
         {
          "round": 536,
          "your running profit": 209.8556742984717
         },
         {
          "round": 537,
          "your running profit": 210.86098275356784
         },
         {
          "round": 538,
          "your running profit": 211.0263330209616
         },
         {
          "round": 539,
          "your running profit": 211.89427839180243
         },
         {
          "round": 540,
          "your running profit": 211.7265711135026
         },
         {
          "round": 541,
          "your running profit": 209.12296199121477
         },
         {
          "round": 542,
          "your running profit": 208.91058370130602
         },
         {
          "round": 543,
          "your running profit": 220.783945211884
         },
         {
          "round": 544,
          "your running profit": 220.48969718124198
         },
         {
          "round": 545,
          "your running profit": 220.77027022982827
         },
         {
          "round": 546,
          "your running profit": 221.33672708226803
         },
         {
          "round": 547,
          "your running profit": 223.53904400763048
         },
         {
          "round": 548,
          "your running profit": 224.1843136649401
         },
         {
          "round": 549,
          "your running profit": 223.64377091351585
         },
         {
          "round": 550,
          "your running profit": 224.19749401782096
         },
         {
          "round": 551,
          "your running profit": 224.81171302130568
         },
         {
          "round": 552,
          "your running profit": 224.15095044320327
         },
         {
          "round": 553,
          "your running profit": 224.6607656818592
         },
         {
          "round": 554,
          "your running profit": 224.82907313735947
         },
         {
          "round": 555,
          "your running profit": 224.73238768979027
         },
         {
          "round": 556,
          "your running profit": 219.77709457711507
         },
         {
          "round": 557,
          "your running profit": 221.1236918577417
         },
         {
          "round": 558,
          "your running profit": 220.64634358725223
         },
         {
          "round": 559,
          "your running profit": 221.0382149797032
         },
         {
          "round": 560,
          "your running profit": 230.73114321975518
         },
         {
          "round": 561,
          "your running profit": 232.05175228706202
         },
         {
          "round": 562,
          "your running profit": 230.9842859180915
         },
         {
          "round": 563,
          "your running profit": 228.89779758623953
         },
         {
          "round": 564,
          "your running profit": 228.7823168318946
         },
         {
          "round": 565,
          "your running profit": 228.64615855449273
         },
         {
          "round": 566,
          "your running profit": 228.67330760377732
         },
         {
          "round": 567,
          "your running profit": 228.84007078554455
         },
         {
          "round": 568,
          "your running profit": 228.56197729779032
         },
         {
          "round": 569,
          "your running profit": 225.54513753522076
         },
         {
          "round": 570,
          "your running profit": 224.88214885528865
         },
         {
          "round": 571,
          "your running profit": 227.1517916295385
         },
         {
          "round": 572,
          "your running profit": 227.0418018522276
         },
         {
          "round": 573,
          "your running profit": 226.43073437093503
         },
         {
          "round": 574,
          "your running profit": 227.95118118185567
         },
         {
          "round": 575,
          "your running profit": 228.82505668877596
         },
         {
          "round": 576,
          "your running profit": 228.1869300538233
         },
         {
          "round": 577,
          "your running profit": 232.3850337591384
         },
         {
          "round": 578,
          "your running profit": 231.65396932739324
         },
         {
          "round": 579,
          "your running profit": 230.584539360241
         },
         {
          "round": 580,
          "your running profit": 232.37364996535032
         },
         {
          "round": 581,
          "your running profit": 232.8591408690436
         },
         {
          "round": 582,
          "your running profit": 232.65909032391892
         },
         {
          "round": 583,
          "your running profit": 234.05323629370824
         },
         {
          "round": 584,
          "your running profit": 234.02195327402072
         },
         {
          "round": 585,
          "your running profit": 233.8851722944429
         },
         {
          "round": 586,
          "your running profit": 233.47352378285706
         },
         {
          "round": 587,
          "your running profit": 232.9224191750148
         },
         {
          "round": 588,
          "your running profit": 235.4050225626736
         },
         {
          "round": 589,
          "your running profit": 234.83922513067628
         },
         {
          "round": 590,
          "your running profit": 234.86658539280924
         },
         {
          "round": 591,
          "your running profit": 239.63391712822843
         },
         {
          "round": 592,
          "your running profit": 240.07126761172975
         },
         {
          "round": 593,
          "your running profit": 240.12323527992538
         },
         {
          "round": 594,
          "your running profit": 240.07943220142405
         },
         {
          "round": 595,
          "your running profit": 239.74212671480666
         },
         {
          "round": 596,
          "your running profit": 239.94810380312518
         },
         {
          "round": 597,
          "your running profit": 242.31406318202764
         },
         {
          "round": 598,
          "your running profit": 243.2093415196984
         },
         {
          "round": 599,
          "your running profit": 243.17547811617453
         },
         {
          "round": 600,
          "your running profit": 242.75699292100185
         },
         {
          "round": 601,
          "your running profit": 242.71068513506543
         },
         {
          "round": 602,
          "your running profit": 242.6300152660002
         },
         {
          "round": 603,
          "your running profit": 242.61389933364222
         },
         {
          "round": 604,
          "your running profit": 243.8523854524849
         },
         {
          "round": 605,
          "your running profit": 243.77829702983436
         },
         {
          "round": 606,
          "your running profit": 250.60659515658145
         },
         {
          "round": 607,
          "your running profit": 265.656312549043
         },
         {
          "round": 608,
          "your running profit": 275.2582327211188
         },
         {
          "round": 609,
          "your running profit": 280.939272433409
         },
         {
          "round": 610,
          "your running profit": 280.869919762609
         },
         {
          "round": 611,
          "your running profit": 280.5582310376922
         },
         {
          "round": 612,
          "your running profit": 280.25741230344437
         },
         {
          "round": 613,
          "your running profit": 281.7889469226292
         },
         {
          "round": 614,
          "your running profit": 284.0446739635119
         },
         {
          "round": 615,
          "your running profit": 282.98831901116347
         },
         {
          "round": 616,
          "your running profit": 284.0518735051399
         },
         {
          "round": 617,
          "your running profit": 283.4737654790258
         },
         {
          "round": 618,
          "your running profit": 283.2145483356525
         },
         {
          "round": 619,
          "your running profit": 283.82165741942293
         },
         {
          "round": 620,
          "your running profit": 283.81330290471016
         },
         {
          "round": 621,
          "your running profit": 290.02592169072983
         },
         {
          "round": 622,
          "your running profit": 289.8318492679936
         },
         {
          "round": 623,
          "your running profit": 289.08648604493663
         },
         {
          "round": 624,
          "your running profit": 288.76533578429786
         },
         {
          "round": 625,
          "your running profit": 286.5626210600228
         },
         {
          "round": 626,
          "your running profit": 286.2775383438201
         },
         {
          "round": 627,
          "your running profit": 286.1176758725293
         },
         {
          "round": 628,
          "your running profit": 286.1257189351552
         },
         {
          "round": 629,
          "your running profit": 287.3046926303103
         },
         {
          "round": 630,
          "your running profit": 289.4912489548035
         },
         {
          "round": 631,
          "your running profit": 292.3998186638695
         },
         {
          "round": 632,
          "your running profit": 292.22891444047383
         },
         {
          "round": 633,
          "your running profit": 291.89835824908596
         },
         {
          "round": 634,
          "your running profit": 293.13845720001024
         },
         {
          "round": 635,
          "your running profit": 292.41401193942704
         },
         {
          "round": 636,
          "your running profit": 293.33886495262595
         },
         {
          "round": 637,
          "your running profit": 293.53306847178527
         },
         {
          "round": 638,
          "your running profit": 293.53769735431354
         },
         {
          "round": 639,
          "your running profit": 293.4905537170141
         },
         {
          "round": 640,
          "your running profit": 294.4874695542447
         },
         {
          "round": 641,
          "your running profit": 294.42514921085683
         },
         {
          "round": 642,
          "your running profit": 296.7929723456706
         },
         {
          "round": 643,
          "your running profit": 297.3452310862565
         },
         {
          "round": 644,
          "your running profit": 298.4617219736517
         },
         {
          "round": 645,
          "your running profit": 298.0230057230297
         },
         {
          "round": 646,
          "your running profit": 299.2890140064948
         },
         {
          "round": 647,
          "your running profit": 300.4143569536417
         },
         {
          "round": 648,
          "your running profit": 302.18517467202673
         },
         {
          "round": 649,
          "your running profit": 301.89837322030627
         },
         {
          "round": 650,
          "your running profit": 301.5852734056897
         },
         {
          "round": 651,
          "your running profit": 301.6910413033043
         },
         {
          "round": 652,
          "your running profit": 304.65403078733726
         },
         {
          "round": 653,
          "your running profit": 306.51569372161964
         },
         {
          "round": 654,
          "your running profit": 306.76276858123174
         },
         {
          "round": 655,
          "your running profit": 306.3714875180874
         },
         {
          "round": 656,
          "your running profit": 306.82549450039687
         },
         {
          "round": 657,
          "your running profit": 304.24539755059055
         },
         {
          "round": 658,
          "your running profit": 304.54200836102564
         },
         {
          "round": 659,
          "your running profit": 301.9098799557361
         },
         {
          "round": 660,
          "your running profit": 304.60614101604403
         },
         {
          "round": 661,
          "your running profit": 315.94733804837097
         },
         {
          "round": 662,
          "your running profit": 317.22631616301425
         },
         {
          "round": 663,
          "your running profit": 317.2009011936023
         },
         {
          "round": 664,
          "your running profit": 317.2789515463294
         },
         {
          "round": 665,
          "your running profit": 317.38337407132775
         },
         {
          "round": 666,
          "your running profit": 319.5688715752722
         },
         {
          "round": 667,
          "your running profit": 319.9811344682967
         },
         {
          "round": 668,
          "your running profit": 319.96548074444775
         },
         {
          "round": 669,
          "your running profit": 320.2470459384268
         },
         {
          "round": 670,
          "your running profit": 319.49711842292834
         },
         {
          "round": 671,
          "your running profit": 318.0861677518316
         },
         {
          "round": 672,
          "your running profit": 317.20073379468266
         },
         {
          "round": 673,
          "your running profit": 317.39518197934433
         },
         {
          "round": 674,
          "your running profit": 316.7812882804509
         },
         {
          "round": 675,
          "your running profit": 316.5809575806196
         },
         {
          "round": 676,
          "your running profit": 316.7019054152472
         },
         {
          "round": 677,
          "your running profit": 320.8252450394148
         },
         {
          "round": 678,
          "your running profit": 320.46066194670624
         },
         {
          "round": 679,
          "your running profit": 320.8043548852562
         },
         {
          "round": 680,
          "your running profit": 320.5078102119896
         },
         {
          "round": 681,
          "your running profit": 319.75640866519507
         },
         {
          "round": 682,
          "your running profit": 309.51050958101155
         },
         {
          "round": 683,
          "your running profit": 310.3224694654466
         },
         {
          "round": 684,
          "your running profit": 310.52980726694744
         },
         {
          "round": 685,
          "your running profit": 311.3459334881142
         },
         {
          "round": 686,
          "your running profit": 309.1485114168174
         },
         {
          "round": 687,
          "your running profit": 308.8369178666754
         },
         {
          "round": 688,
          "your running profit": 308.4076866532857
         },
         {
          "round": 689,
          "your running profit": 309.00916971914535
         },
         {
          "round": 690,
          "your running profit": 310.7813713915235
         },
         {
          "round": 691,
          "your running profit": 310.9626671535265
         },
         {
          "round": 692,
          "your running profit": 310.7484100118672
         },
         {
          "round": 693,
          "your running profit": 307.1977557929641
         },
         {
          "round": 694,
          "your running profit": 308.9210291407977
         },
         {
          "round": 695,
          "your running profit": 310.0508622327177
         },
         {
          "round": 696,
          "your running profit": 309.60113327277355
         },
         {
          "round": 697,
          "your running profit": 306.43559864226194
         },
         {
          "round": 698,
          "your running profit": 306.36940865884105
         },
         {
          "round": 699,
          "your running profit": 306.7238068841215
         },
         {
          "round": 700,
          "your running profit": 306.54177349214996
         },
         {
          "round": 701,
          "your running profit": 306.0467843478563
         },
         {
          "round": 702,
          "your running profit": 306.174793338156
         },
         {
          "round": 703,
          "your running profit": 313.4539564643122
         },
         {
          "round": 704,
          "your running profit": 314.73908292900126
         },
         {
          "round": 705,
          "your running profit": 314.7131386829824
         },
         {
          "round": 706,
          "your running profit": 315.2550930576817
         },
         {
          "round": 707,
          "your running profit": 312.80953146797657
         },
         {
          "round": 708,
          "your running profit": 312.10180229179167
         },
         {
          "round": 709,
          "your running profit": 311.69161604685644
         },
         {
          "round": 710,
          "your running profit": 311.3333109434971
         },
         {
          "round": 711,
          "your running profit": 314.4993135326977
         },
         {
          "round": 712,
          "your running profit": 310.9959723488029
         },
         {
          "round": 713,
          "your running profit": 311.65787834489095
         },
         {
          "round": 714,
          "your running profit": 312.3520679054427
         },
         {
          "round": 715,
          "your running profit": 312.2619365589918
         },
         {
          "round": 716,
          "your running profit": 312.40061353485584
         },
         {
          "round": 717,
          "your running profit": 322.51627266242883
         },
         {
          "round": 718,
          "your running profit": 324.8321651995833
         },
         {
          "round": 719,
          "your running profit": 324.6175650415373
         },
         {
          "round": 720,
          "your running profit": 324.8903350600736
         },
         {
          "round": 721,
          "your running profit": 328.46499398088133
         },
         {
          "round": 722,
          "your running profit": 328.4303475553915
         },
         {
          "round": 723,
          "your running profit": 329.43902707342545
         },
         {
          "round": 724,
          "your running profit": 329.4931300213296
         },
         {
          "round": 725,
          "your running profit": 331.04444750024254
         },
         {
          "round": 726,
          "your running profit": 330.627337644204
         },
         {
          "round": 727,
          "your running profit": 336.6591209613112
         },
         {
          "round": 728,
          "your running profit": 336.6321429446824
         },
         {
          "round": 729,
          "your running profit": 336.78581307239307
         },
         {
          "round": 730,
          "your running profit": 337.1824884984586
         },
         {
          "round": 731,
          "your running profit": 336.4561410043027
         },
         {
          "round": 732,
          "your running profit": 336.23822854006124
         },
         {
          "round": 733,
          "your running profit": 336.49810699476217
         },
         {
          "round": 734,
          "your running profit": 340.31748777501855
         },
         {
          "round": 735,
          "your running profit": 338.1869069350059
         },
         {
          "round": 736,
          "your running profit": 337.83517651987415
         },
         {
          "round": 737,
          "your running profit": 337.51383321290314
         },
         {
          "round": 738,
          "your running profit": 358.3547353446353
         },
         {
          "round": 739,
          "your running profit": 358.2353143586343
         },
         {
          "round": 740,
          "your running profit": 359.9541446761899
         },
         {
          "round": 741,
          "your running profit": 351.68514663594493
         },
         {
          "round": 742,
          "your running profit": 351.4889929792691
         },
         {
          "round": 743,
          "your running profit": 349.55942618607935
         },
         {
          "round": 744,
          "your running profit": 350.6552918818438
         },
         {
          "round": 745,
          "your running profit": 350.425078079352
         },
         {
          "round": 746,
          "your running profit": 351.5696895997168
         },
         {
          "round": 747,
          "your running profit": 364.0494489710201
         },
         {
          "round": 748,
          "your running profit": 364.25368901655605
         },
         {
          "round": 749,
          "your running profit": 382.0716484174001
         },
         {
          "round": 750,
          "your running profit": 381.6996193653183
         },
         {
          "round": 751,
          "your running profit": 373.7876528066183
         },
         {
          "round": 752,
          "your running profit": 374.56904796124553
         },
         {
          "round": 753,
          "your running profit": 378.29201005107717
         },
         {
          "round": 754,
          "your running profit": 378.29036986938746
         },
         {
          "round": 755,
          "your running profit": 378.08578766223
         },
         {
          "round": 756,
          "your running profit": 380.60035402805255
         },
         {
          "round": 757,
          "your running profit": 380.700961376793
         },
         {
          "round": 758,
          "your running profit": 381.80857228869456
         },
         {
          "round": 759,
          "your running profit": 386.3090305951643
         },
         {
          "round": 760,
          "your running profit": 385.7040346957744
         },
         {
          "round": 761,
          "your running profit": 385.03256198448844
         },
         {
          "round": 762,
          "your running profit": 387.23276468798906
         },
         {
          "round": 763,
          "your running profit": 387.27466264923385
         },
         {
          "round": 764,
          "your running profit": 387.58404654633
         },
         {
          "round": 765,
          "your running profit": 387.22652389545686
         },
         {
          "round": 766,
          "your running profit": 386.72079428220235
         },
         {
          "round": 767,
          "your running profit": 386.9830594837524
         },
         {
          "round": 768,
          "your running profit": 387.8759622757961
         },
         {
          "round": 769,
          "your running profit": 384.3932194891899
         },
         {
          "round": 770,
          "your running profit": 384.6943757381429
         },
         {
          "round": 771,
          "your running profit": 385.0131946584412
         },
         {
          "round": 772,
          "your running profit": 384.576223466761
         },
         {
          "round": 773,
          "your running profit": 384.6059797707551
         },
         {
          "round": 774,
          "your running profit": 386.0640979540365
         },
         {
          "round": 775,
          "your running profit": 387.3312636212834
         },
         {
          "round": 776,
          "your running profit": 387.0774132883554
         },
         {
          "round": 777,
          "your running profit": 387.12835390183267
         },
         {
          "round": 778,
          "your running profit": 386.92947260439234
         },
         {
          "round": 779,
          "your running profit": 386.2913316774324
         },
         {
          "round": 780,
          "your running profit": 385.88821956345225
         },
         {
          "round": 781,
          "your running profit": 386.26722393807177
         },
         {
          "round": 782,
          "your running profit": 385.5691533172742
         },
         {
          "round": 783,
          "your running profit": 386.24533737032533
         },
         {
          "round": 784,
          "your running profit": 386.2457968725188
         },
         {
          "round": 785,
          "your running profit": 386.24106228174355
         },
         {
          "round": 786,
          "your running profit": 379.99634018489013
         },
         {
          "round": 787,
          "your running profit": 383.6041350042355
         },
         {
          "round": 788,
          "your running profit": 383.7119811794001
         },
         {
          "round": 789,
          "your running profit": 385.2259421609023
         },
         {
          "round": 790,
          "your running profit": 386.12032762557516
         },
         {
          "round": 791,
          "your running profit": 387.6511164477679
         },
         {
          "round": 792,
          "your running profit": 388.0556115778819
         },
         {
          "round": 793,
          "your running profit": 387.96441147755723
         },
         {
          "round": 794,
          "your running profit": 389.63555314421467
         },
         {
          "round": 795,
          "your running profit": 389.050402957557
         },
         {
          "round": 796,
          "your running profit": 388.74656945952273
         },
         {
          "round": 797,
          "your running profit": 388.6746991344774
         },
         {
          "round": 798,
          "your running profit": 388.59186139975833
         },
         {
          "round": 799,
          "your running profit": 387.81048843719157
         },
         {
          "round": 800,
          "your running profit": 391.0551012080572
         },
         {
          "round": 801,
          "your running profit": 391.060409039252
         },
         {
          "round": 802,
          "your running profit": 391.49348052460107
         },
         {
          "round": 803,
          "your running profit": 391.77853509773587
         },
         {
          "round": 804,
          "your running profit": 391.66315738568227
         },
         {
          "round": 805,
          "your running profit": 393.075149330386
         },
         {
          "round": 806,
          "your running profit": 392.8660058564067
         },
         {
          "round": 807,
          "your running profit": 392.0848100707151
         },
         {
          "round": 808,
          "your running profit": 392.98313263859353
         },
         {
          "round": 809,
          "your running profit": 392.3058436912066
         },
         {
          "round": 810,
          "your running profit": 392.3614052969403
         },
         {
          "round": 811,
          "your running profit": 391.66617022561377
         },
         {
          "round": 812,
          "your running profit": 392.1426482901655
         },
         {
          "round": 813,
          "your running profit": 393.85233859807437
         },
         {
          "round": 814,
          "your running profit": 395.7531864245902
         },
         {
          "round": 815,
          "your running profit": 392.8085979128741
         },
         {
          "round": 816,
          "your running profit": 391.49818907028373
         },
         {
          "round": 817,
          "your running profit": 393.52979257620575
         },
         {
          "round": 818,
          "your running profit": 393.2815177712617
         },
         {
          "round": 819,
          "your running profit": 392.7197638188557
         },
         {
          "round": 820,
          "your running profit": 392.5403470541381
         },
         {
          "round": 821,
          "your running profit": 387.262380221055
         },
         {
          "round": 822,
          "your running profit": 385.3361750867585
         },
         {
          "round": 823,
          "your running profit": 387.1956022749708
         },
         {
          "round": 824,
          "your running profit": 388.0474907946686
         },
         {
          "round": 825,
          "your running profit": 388.9732428765477
         },
         {
          "round": 826,
          "your running profit": 389.6788733536162
         },
         {
          "round": 827,
          "your running profit": 389.13773639109354
         },
         {
          "round": 828,
          "your running profit": 388.2671460117313
         },
         {
          "round": 829,
          "your running profit": 388.65961427756497
         },
         {
          "round": 830,
          "your running profit": 388.7981213962617
         },
         {
          "round": 831,
          "your running profit": 389.62641054807006
         },
         {
          "round": 832,
          "your running profit": 389.2771398469965
         },
         {
          "round": 833,
          "your running profit": 389.1630815838745
         },
         {
          "round": 834,
          "your running profit": 390.4545009670137
         },
         {
          "round": 835,
          "your running profit": 390.58524346999934
         },
         {
          "round": 836,
          "your running profit": 391.5598635922756
         },
         {
          "round": 837,
          "your running profit": 391.3613260194671
         },
         {
          "round": 838,
          "your running profit": 390.5911318058556
         },
         {
          "round": 839,
          "your running profit": 394.3453408793998
         },
         {
          "round": 840,
          "your running profit": 393.82844451427815
         },
         {
          "round": 841,
          "your running profit": 393.89713456960305
         },
         {
          "round": 842,
          "your running profit": 393.55427488369855
         },
         {
          "round": 843,
          "your running profit": 393.0353434270849
         },
         {
          "round": 844,
          "your running profit": 392.7723612816438
         },
         {
          "round": 845,
          "your running profit": 392.2112864950952
         },
         {
          "round": 846,
          "your running profit": 402.81791354547477
         },
         {
          "round": 847,
          "your running profit": 405.811048522675
         },
         {
          "round": 848,
          "your running profit": 406.8670974354601
         },
         {
          "round": 849,
          "your running profit": 406.92979942826037
         },
         {
          "round": 850,
          "your running profit": 407.1436097473489
         },
         {
          "round": 851,
          "your running profit": 406.41323366790795
         },
         {
          "round": 852,
          "your running profit": 407.3863734318295
         },
         {
          "round": 853,
          "your running profit": 413.5821364571451
         },
         {
          "round": 854,
          "your running profit": 409.5814976026225
         },
         {
          "round": 855,
          "your running profit": 411.8960791852818
         },
         {
          "round": 856,
          "your running profit": 412.32159281432797
         },
         {
          "round": 857,
          "your running profit": 412.52175189949406
         },
         {
          "round": 858,
          "your running profit": 412.794167254167
         },
         {
          "round": 859,
          "your running profit": 412.8893051309124
         },
         {
          "round": 860,
          "your running profit": 412.8821938576109
         },
         {
          "round": 861,
          "your running profit": 412.86541548618663
         },
         {
          "round": 862,
          "your running profit": 411.95832613393964
         },
         {
          "round": 863,
          "your running profit": 413.16201955554493
         },
         {
          "round": 864,
          "your running profit": 412.11719347471785
         },
         {
          "round": 865,
          "your running profit": 413.72730043339425
         },
         {
          "round": 866,
          "your running profit": 414.24129431413104
         },
         {
          "round": 867,
          "your running profit": 413.86207185821985
         },
         {
          "round": 868,
          "your running profit": 413.228639823323
         },
         {
          "round": 869,
          "your running profit": 414.35434146153506
         },
         {
          "round": 870,
          "your running profit": 414.47948775561787
         },
         {
          "round": 871,
          "your running profit": 413.7445347181401
         },
         {
          "round": 872,
          "your running profit": 413.377958124495
         },
         {
          "round": 873,
          "your running profit": 414.559426025907
         },
         {
          "round": 874,
          "your running profit": 415.1219169893902
         },
         {
          "round": 875,
          "your running profit": 414.41186057190913
         },
         {
          "round": 876,
          "your running profit": 415.9952936767251
         },
         {
          "round": 877,
          "your running profit": 415.93512043737496
         },
         {
          "round": 878,
          "your running profit": 406.3783405606042
         },
         {
          "round": 879,
          "your running profit": 406.2267516674097
         },
         {
          "round": 880,
          "your running profit": 406.0951010479722
         },
         {
          "round": 881,
          "your running profit": 406.1530693701297
         },
         {
          "round": 882,
          "your running profit": 404.708727746725
         },
         {
          "round": 883,
          "your running profit": 405.0829904276468
         },
         {
          "round": 884,
          "your running profit": 403.6176201942548
         },
         {
          "round": 885,
          "your running profit": 404.3263849618406
         },
         {
          "round": 886,
          "your running profit": 404.37251520069333
         },
         {
          "round": 887,
          "your running profit": 404.14100959193
         },
         {
          "round": 888,
          "your running profit": 405.32548578559346
         },
         {
          "round": 889,
          "your running profit": 405.25314338999317
         },
         {
          "round": 890,
          "your running profit": 407.954594068428
         },
         {
          "round": 891,
          "your running profit": 407.2515198842342
         },
         {
          "round": 892,
          "your running profit": 407.95474130685034
         },
         {
          "round": 893,
          "your running profit": 408.8492307229808
         },
         {
          "round": 894,
          "your running profit": 410.0126988272022
         },
         {
          "round": 895,
          "your running profit": 410.4387947828828
         },
         {
          "round": 896,
          "your running profit": 410.26781983837134
         },
         {
          "round": 897,
          "your running profit": 409.28034221648994
         },
         {
          "round": 898,
          "your running profit": 411.1559308221124
         },
         {
          "round": 899,
          "your running profit": 411.55334009417504
         },
         {
          "round": 900,
          "your running profit": 405.5530903221018
         },
         {
          "round": 901,
          "your running profit": 415.5380094217817
         },
         {
          "round": 902,
          "your running profit": 415.6466740816849
         },
         {
          "round": 903,
          "your running profit": 415.43871769856673
         },
         {
          "round": 904,
          "your running profit": 414.9757141336047
         },
         {
          "round": 905,
          "your running profit": 414.8974882813653
         },
         {
          "round": 906,
          "your running profit": 414.471569367301
         },
         {
          "round": 907,
          "your running profit": 414.42623666064986
         },
         {
          "round": 908,
          "your running profit": 414.3998271067308
         },
         {
          "round": 909,
          "your running profit": 414.44557750930545
         },
         {
          "round": 910,
          "your running profit": 414.1139277731038
         },
         {
          "round": 911,
          "your running profit": 411.8465166466697
         },
         {
          "round": 912,
          "your running profit": 411.8008052509706
         },
         {
          "round": 913,
          "your running profit": 411.7994816859238
         },
         {
          "round": 914,
          "your running profit": 410.95401139913963
         },
         {
          "round": 915,
          "your running profit": 410.46906944465434
         },
         {
          "round": 916,
          "your running profit": 410.5981122536201
         },
         {
          "round": 917,
          "your running profit": 412.9159897127033
         },
         {
          "round": 918,
          "your running profit": 412.2099334944079
         },
         {
          "round": 919,
          "your running profit": 412.40392080571394
         },
         {
          "round": 920,
          "your running profit": 412.7271456609819
         },
         {
          "round": 921,
          "your running profit": 413.94473413839074
         },
         {
          "round": 922,
          "your running profit": 414.9316990665572
         },
         {
          "round": 923,
          "your running profit": 414.7556894817662
         },
         {
          "round": 924,
          "your running profit": 414.291913824574
         },
         {
          "round": 925,
          "your running profit": 420.708270097869
         },
         {
          "round": 926,
          "your running profit": 421.4726327392588
         },
         {
          "round": 927,
          "your running profit": 422.9496913236246
         },
         {
          "round": 928,
          "your running profit": 427.6066389070998
         },
         {
          "round": 929,
          "your running profit": 427.20315301145865
         },
         {
          "round": 930,
          "your running profit": 427.47379958626505
         },
         {
          "round": 931,
          "your running profit": 427.38953626001285
         },
         {
          "round": 932,
          "your running profit": 426.9548999849988
         },
         {
          "round": 933,
          "your running profit": 428.9450505054009
         },
         {
          "round": 934,
          "your running profit": 428.3596997378838
         },
         {
          "round": 935,
          "your running profit": 427.72945304762294
         },
         {
          "round": 936,
          "your running profit": 426.90949300771354
         },
         {
          "round": 937,
          "your running profit": 427.95491493817804
         },
         {
          "round": 938,
          "your running profit": 429.9770924332702
         },
         {
          "round": 939,
          "your running profit": 429.30439088169953
         },
         {
          "round": 940,
          "your running profit": 429.2365716219701
         },
         {
          "round": 941,
          "your running profit": 426.8256221800626
         },
         {
          "round": 942,
          "your running profit": 426.868638010268
         },
         {
          "round": 943,
          "your running profit": 428.0936348089287
         },
         {
          "round": 944,
          "your running profit": 429.6550812773005
         },
         {
          "round": 945,
          "your running profit": 430.3867918806802
         },
         {
          "round": 946,
          "your running profit": 430.85206796733127
         },
         {
          "round": 947,
          "your running profit": 430.7930319949919
         },
         {
          "round": 948,
          "your running profit": 430.52497737899535
         },
         {
          "round": 949,
          "your running profit": 430.22869244638593
         },
         {
          "round": 950,
          "your running profit": 429.53608548230835
         },
         {
          "round": 951,
          "your running profit": 430.30419141070945
         },
         {
          "round": 952,
          "your running profit": 430.2804418847073
         },
         {
          "round": 953,
          "your running profit": 428.59115250461974
         },
         {
          "round": 954,
          "your running profit": 428.3633947108141
         },
         {
          "round": 955,
          "your running profit": 427.74018386333915
         },
         {
          "round": 956,
          "your running profit": 427.79867337053196
         },
         {
          "round": 957,
          "your running profit": 427.9693778590181
         },
         {
          "round": 958,
          "your running profit": 427.6148318575948
         },
         {
          "round": 959,
          "your running profit": 429.61408048542296
         },
         {
          "round": 960,
          "your running profit": 428.93666774515367
         },
         {
          "round": 961,
          "your running profit": 429.68692178137655
         },
         {
          "round": 962,
          "your running profit": 429.4671393688958
         },
         {
          "round": 963,
          "your running profit": 429.16825944511857
         },
         {
          "round": 964,
          "your running profit": 433.6051553100378
         },
         {
          "round": 965,
          "your running profit": 433.0310044817817
         },
         {
          "round": 966,
          "your running profit": 433.7781463275719
         },
         {
          "round": 967,
          "your running profit": 433.77852224536883
         },
         {
          "round": 968,
          "your running profit": 434.26548787057305
         },
         {
          "round": 969,
          "your running profit": 434.9024225890692
         },
         {
          "round": 970,
          "your running profit": 435.59439435965066
         },
         {
          "round": 971,
          "your running profit": 437.9156153808334
         },
         {
          "round": 972,
          "your running profit": 439.59134162042153
         },
         {
          "round": 973,
          "your running profit": 439.79612847881015
         },
         {
          "round": 974,
          "your running profit": 442.10402312192
         },
         {
          "round": 975,
          "your running profit": 431.3563797100593
         },
         {
          "round": 976,
          "your running profit": 436.4149691160545
         },
         {
          "round": 977,
          "your running profit": 437.17011661677697
         },
         {
          "round": 978,
          "your running profit": 436.7549692489681
         },
         {
          "round": 979,
          "your running profit": 429.90682344506945
         },
         {
          "round": 980,
          "your running profit": 432.1034577146422
         },
         {
          "round": 981,
          "your running profit": 432.59209847041456
         },
         {
          "round": 982,
          "your running profit": 433.83202989503314
         },
         {
          "round": 983,
          "your running profit": 433.49915398070635
         },
         {
          "round": 984,
          "your running profit": 434.403980765844
         },
         {
          "round": 985,
          "your running profit": 434.5424195841463
         },
         {
          "round": 986,
          "your running profit": 438.9164933640024
         },
         {
          "round": 987,
          "your running profit": 439.2746000245829
         },
         {
          "round": 988,
          "your running profit": 438.52207096726437
         },
         {
          "round": 989,
          "your running profit": 438.7743607819357
         },
         {
          "round": 990,
          "your running profit": 438.335522388182
         },
         {
          "round": 991,
          "your running profit": 437.76238295637836
         },
         {
          "round": 992,
          "your running profit": 437.54101902450265
         },
         {
          "round": 993,
          "your running profit": 437.3671703936239
         },
         {
          "round": 994,
          "your running profit": 437.3622571096852
         },
         {
          "round": 995,
          "your running profit": 437.36453870359145
         },
         {
          "round": 996,
          "your running profit": 437.37044367351524
         },
         {
          "round": 997,
          "your running profit": 437.3521727130954
         },
         {
          "round": 998,
          "your running profit": 438.73858899393053
         },
         {
          "round": 999,
          "your running profit": 437.9412587651075
         }
        ]
       },
       "encoding": {
        "x": {
         "field": "round",
         "type": "quantitative"
        },
        "y": {
         "field": "your running profit",
         "type": "quantitative"
        }
       },
       "mark": "line"
      },
      "image/png": "[encoded data removed]",
      "text/plain": [
       "<VegaLite 3 object>\n",
       "\n",
       "If you see this message, it means the renderer has not been properly enabled\n",
       "for the frontend that you are using. For more information, see\n",
       "https://altair-viz.github.io/user_guide/troubleshooting.html\n"
      ]
     },
     "execution_count": 69,
     "metadata": {},
     "output_type": "execute_result"
    }
   ],
   "source": [
    "import scipy.stats as stats\n",
    "Z = stats.expon(scale=1) # Exp(λ=1)\n",
    "\n",
    "def cost(guess, reality): # how much we have to pay each other depending on the guess and reality\n",
    "    return (guess - reality)**2\n",
    "\n",
    "round_profits = []\n",
    "for round in range(1000):\n",
    "    # your turn\n",
    "    z = Z.rvs()\n",
    "    your_guess = 1 # always guess μ(Z), which is 1 in this case\n",
    "    your_loss = cost(your_guess, z)\n",
    "    \n",
    "    # my turn\n",
    "    z = Z.rvs()\n",
    "    my_guess = 2*random.random() # my strategy\n",
    "    your_gain = cost(my_guess, z)\n",
    "    \n",
    "    # net\n",
    "    your_net = your_gain - your_loss\n",
    "    round_profits.append(your_net)\n",
    "\n",
    "running_profit = np.cumsum(round_profits)\n",
    "\n",
    "profits = pd.DataFrame({'your running profit':running_profit, 'round':range(len(running_profit))})\n",
    "alt.Chart(profits).mark_line().encode(x='round', y='your running profit')"
   ]
  },
  {
   "cell_type": "markdown",
   "metadata": {},
   "source": [
    "It looks some rounds you win money and some rounds you lose money, but after 1000 rounds I owe you hundreds of dollars. Your strategy of guessing the mean appears to be better than my \"random number between 0 and 2\" strategy in the long run."
   ]
  },
  {
   "cell_type": "markdown",
   "metadata": {},
   "source": [
    "<div class=\"alert alert-block alert-info\">\n",
    "<b>Exercise:</b> \n",
    "\n",
    "Play around with this simulation! \n",
    "- Repeat the simulation as-is many times. Are the results usually the same? \n",
    "- Increase or decrease the number of rounds we play. How do the results tend to change?\n",
    "- Try changing the distribution to one of your choosing (e.g. normal, uniform). You'll have to calculate or look up the mean of that distribution so you know what to guess.\n",
    "- Try changing my strategy. What if I always guess a particular value that's not the mean? What if I guess a random value from the same distribution? What if I always guess the median of the distribution? Can you find any strategy for me to defeat your mean-guessing strategy?\n",
    "    \n",
    "</div>"
   ]
  },
  {
   "cell_type": "markdown",
   "metadata": {},
   "source": [
    "As you may guess from playing with the simulation, there's no way to consistently beat the mean-guessing strategy. It's simply the best that you can do when playing this game. In that sense, the expected value is the best possible guess for a realization of the random variable, assuming you decide what \"best\" is by using the function $(z^* - z)^2$. This is called the **mean-squared error** of $z$ and $z^*$."
   ]
  },
  {
   "cell_type": "markdown",
   "metadata": {},
   "source": [
    "### Multivariable Expectation"
   ]
  },
  {
   "cell_type": "markdown",
   "metadata": {},
   "source": [
    "Expectation also works in the multivariate setting. If $\\mathbf Z = [\\mathbf Z_1, \\mathbf Z_2]$, then the expected value is"
   ]
  },
  {
   "cell_type": "markdown",
   "metadata": {},
   "source": [
    "$$\n",
    "E[\\mathbf Z]\n",
    "=\n",
    "\\int z\\phi_{\\mathbf Z}(z) dz\n",
    "= \n",
    "\\int \\int \n",
    "\\left[ \n",
    "\\begin{array}{c}\n",
    "z_1 \\\\ z_2\n",
    "\\end{array}\n",
    "\\right]\n",
    "\\phi_{\\mathbf Z_1, \\mathbf Z_2}(z_1, z_2) \n",
    "dz_1 dz_2\n",
    "=\n",
    "\\left[\n",
    "\\begin{array}{c}\n",
    "\\int \\int z_1 \\phi_{\\mathbf Z_1, \\mathbf Z_2}(z_1, z_2) dz_1 dz_2 \\\\\n",
    "\\int \\int z_2 \\phi_{\\mathbf Z_1, \\mathbf Z_2}(z_1, z_2) dz_1 dz_2\n",
    "\\end{array}\n",
    "\\right]\n",
    "$$"
   ]
  },
  {
   "cell_type": "markdown",
   "metadata": {},
   "source": [
    "where the integrals are replaced by the appropriate sums in the discrete case. In this case, $E$ is a function that takes a random variable and gives you back a *vector*. The fully-elaborated formula on the right is a bit of a mess, so you won't ever really see anything that looks like that. Just know that $E[\\mathbf Z]$ is a vector when $\\mathbf Z$ is multivariate.\n",
    "\n",
    "Note that this is *not* the same in general as $[E[\\mathbf Z_1], E[\\mathbf Z_2]]$. The integrals for that would be single integrals taken over the marginal densities of $\\mathbf Z_1$ and $\\mathbf Z_2$, whereas the integrals for the joint mean are taken over the joint density."
   ]
  },
  {
   "cell_type": "markdown",
   "metadata": {},
   "source": [
    "#### Example"
   ]
  },
  {
   "cell_type": "markdown",
   "metadata": {},
   "source": [
    "We'll find the mean of the joint variables $\\mathbf V_1$ and $\\mathbf V_2$ that we were working with previously. Here is the joint again:"
   ]
  },
  {
   "cell_type": "code",
   "execution_count": 73,
   "metadata": {},
   "outputs": [],
   "source": [
    "def joint(v1, v2): # v1, v2 in {0,1,2,..9}\n",
    "    P_raw = np.array(\n",
    "      [[ 0.,  0.,  1.,  9., 30., 32., 19.,  5.,  0.,  0.],\n",
    "       [ 0.,  0.,  0.,  2., 12., 28., 30., 12.,  5.,  0.],\n",
    "       [ 0.,  0.,  0.,  0.,  2., 20., 35., 27.,  3.,  4.],\n",
    "       [ 0.,  0.,  0.,  0.,  8., 21., 38., 39., 11.,  2.],\n",
    "       [ 0.,  0.,  0.,  0.,  4., 32., 37., 15.,  4.,  1.],\n",
    "       [ 0.,  0.,  1.,  5., 18., 43., 21.,  8.,  2.,  0.],\n",
    "       [ 0.,  0.,  6., 25., 35., 25.,  8.,  1.,  0.,  0.],\n",
    "       [ 0.,  2., 19., 47., 20., 16.,  1.,  0.,  0.,  0.],\n",
    "       [ 2., 12., 32., 36., 17.,  3.,  0.,  0.,  0.,  0.],\n",
    "       [ 9., 15., 44., 32.,  7.,  0.,  0.,  0.,  0.,  0.]])\n",
    "    return P_raw[v1, v2]/np.sum(P_raw) # need to make it so that Σ p_ij = 1 so that this is a valid mass function"
   ]
  },
  {
   "cell_type": "markdown",
   "metadata": {},
   "source": [
    "Here's the calculation of the mean:"
   ]
  },
  {
   "cell_type": "code",
   "execution_count": 98,
   "metadata": {},
   "outputs": [
    {
     "data": {
      "text/plain": [
       "array([4.604, 4.561])"
      ]
     },
     "execution_count": 98,
     "metadata": {},
     "output_type": "execute_result"
    }
   ],
   "source": [
    "v1, v2 = [np.array(vj) for vj in zip(*product(range(10), range(10)))] # all the possible combinations of (v1, v2)\n",
    "prob = np.array([joint(v1,v2) for v1, v2 in zip(v1, v2)])\n",
    "\n",
    "EV = sum(np.array([v1*prob, v2*prob]) for v1, v2, prob in zip(v1,v2,prob))\n",
    "EV"
   ]
  },
  {
   "cell_type": "markdown",
   "metadata": {},
   "source": [
    "And here's the joint density with the mean plotted on it:"
   ]
  },
  {
   "cell_type": "code",
   "execution_count": 140,
   "metadata": {},
   "outputs": [],
   "source": [
    "plot_data = pd.DataFrame({'v1':v1, 'v2':v2, 'ϕ':prob})\n",
    "density = density_2d(plot_data, 1, x_name='v1', y_name='v2', joint_name='ϕ')"
   ]
  },
  {
   "cell_type": "code",
   "execution_count": 145,
   "metadata": {},
   "outputs": [
    {
     "data": {
      "application/vnd.vegalite.v3+json": {
       "$schema": "https://vega.github.io/schema/vega-lite/v3.4.0.json",
       "config": {
        "mark": {
         "tooltip": null
        },
        "view": {
         "height": 300,
         "width": 400
        }
       },
       "datasets": {
        "data-286a68c9292df08f3ed49fe9a3424b0a": [
         {
          "xh": 0.5,
          "xl": -0.5,
          "yh": 0.5,
          "yl": -0.5,
          "ϕ": 0
         },
         {
          "xh": 0.5,
          "xl": -0.5,
          "yh": 1.5,
          "yl": 0.5,
          "ϕ": 0
         },
         {
          "xh": 0.5,
          "xl": -0.5,
          "yh": 2.5,
          "yl": 1.5,
          "ϕ": 0.001
         },
         {
          "xh": 0.5,
          "xl": -0.5,
          "yh": 3.5,
          "yl": 2.5,
          "ϕ": 0.009
         },
         {
          "xh": 0.5,
          "xl": -0.5,
          "yh": 4.5,
          "yl": 3.5,
          "ϕ": 0.03
         },
         {
          "xh": 0.5,
          "xl": -0.5,
          "yh": 5.5,
          "yl": 4.5,
          "ϕ": 0.032
         },
         {
          "xh": 0.5,
          "xl": -0.5,
          "yh": 6.5,
          "yl": 5.5,
          "ϕ": 0.019
         },
         {
          "xh": 0.5,
          "xl": -0.5,
          "yh": 7.5,
          "yl": 6.5,
          "ϕ": 0.005
         },
         {
          "xh": 0.5,
          "xl": -0.5,
          "yh": 8.5,
          "yl": 7.5,
          "ϕ": 0
         },
         {
          "xh": 0.5,
          "xl": -0.5,
          "yh": 9.5,
          "yl": 8.5,
          "ϕ": 0
         },
         {
          "xh": 1.5,
          "xl": 0.5,
          "yh": 0.5,
          "yl": -0.5,
          "ϕ": 0
         },
         {
          "xh": 1.5,
          "xl": 0.5,
          "yh": 1.5,
          "yl": 0.5,
          "ϕ": 0
         },
         {
          "xh": 1.5,
          "xl": 0.5,
          "yh": 2.5,
          "yl": 1.5,
          "ϕ": 0
         },
         {
          "xh": 1.5,
          "xl": 0.5,
          "yh": 3.5,
          "yl": 2.5,
          "ϕ": 0.002
         },
         {
          "xh": 1.5,
          "xl": 0.5,
          "yh": 4.5,
          "yl": 3.5,
          "ϕ": 0.012
         },
         {
          "xh": 1.5,
          "xl": 0.5,
          "yh": 5.5,
          "yl": 4.5,
          "ϕ": 0.028
         },
         {
          "xh": 1.5,
          "xl": 0.5,
          "yh": 6.5,
          "yl": 5.5,
          "ϕ": 0.03
         },
         {
          "xh": 1.5,
          "xl": 0.5,
          "yh": 7.5,
          "yl": 6.5,
          "ϕ": 0.012
         },
         {
          "xh": 1.5,
          "xl": 0.5,
          "yh": 8.5,
          "yl": 7.5,
          "ϕ": 0.005
         },
         {
          "xh": 1.5,
          "xl": 0.5,
          "yh": 9.5,
          "yl": 8.5,
          "ϕ": 0
         },
         {
          "xh": 2.5,
          "xl": 1.5,
          "yh": 0.5,
          "yl": -0.5,
          "ϕ": 0
         },
         {
          "xh": 2.5,
          "xl": 1.5,
          "yh": 1.5,
          "yl": 0.5,
          "ϕ": 0
         },
         {
          "xh": 2.5,
          "xl": 1.5,
          "yh": 2.5,
          "yl": 1.5,
          "ϕ": 0
         },
         {
          "xh": 2.5,
          "xl": 1.5,
          "yh": 3.5,
          "yl": 2.5,
          "ϕ": 0
         },
         {
          "xh": 2.5,
          "xl": 1.5,
          "yh": 4.5,
          "yl": 3.5,
          "ϕ": 0.002
         },
         {
          "xh": 2.5,
          "xl": 1.5,
          "yh": 5.5,
          "yl": 4.5,
          "ϕ": 0.02
         },
         {
          "xh": 2.5,
          "xl": 1.5,
          "yh": 6.5,
          "yl": 5.5,
          "ϕ": 0.035
         },
         {
          "xh": 2.5,
          "xl": 1.5,
          "yh": 7.5,
          "yl": 6.5,
          "ϕ": 0.027
         },
         {
          "xh": 2.5,
          "xl": 1.5,
          "yh": 8.5,
          "yl": 7.5,
          "ϕ": 0.003
         },
         {
          "xh": 2.5,
          "xl": 1.5,
          "yh": 9.5,
          "yl": 8.5,
          "ϕ": 0.004
         },
         {
          "xh": 3.5,
          "xl": 2.5,
          "yh": 0.5,
          "yl": -0.5,
          "ϕ": 0
         },
         {
          "xh": 3.5,
          "xl": 2.5,
          "yh": 1.5,
          "yl": 0.5,
          "ϕ": 0
         },
         {
          "xh": 3.5,
          "xl": 2.5,
          "yh": 2.5,
          "yl": 1.5,
          "ϕ": 0
         },
         {
          "xh": 3.5,
          "xl": 2.5,
          "yh": 3.5,
          "yl": 2.5,
          "ϕ": 0
         },
         {
          "xh": 3.5,
          "xl": 2.5,
          "yh": 4.5,
          "yl": 3.5,
          "ϕ": 0.008
         },
         {
          "xh": 3.5,
          "xl": 2.5,
          "yh": 5.5,
          "yl": 4.5,
          "ϕ": 0.021
         },
         {
          "xh": 3.5,
          "xl": 2.5,
          "yh": 6.5,
          "yl": 5.5,
          "ϕ": 0.038
         },
         {
          "xh": 3.5,
          "xl": 2.5,
          "yh": 7.5,
          "yl": 6.5,
          "ϕ": 0.039
         },
         {
          "xh": 3.5,
          "xl": 2.5,
          "yh": 8.5,
          "yl": 7.5,
          "ϕ": 0.011
         },
         {
          "xh": 3.5,
          "xl": 2.5,
          "yh": 9.5,
          "yl": 8.5,
          "ϕ": 0.002
         },
         {
          "xh": 4.5,
          "xl": 3.5,
          "yh": 0.5,
          "yl": -0.5,
          "ϕ": 0
         },
         {
          "xh": 4.5,
          "xl": 3.5,
          "yh": 1.5,
          "yl": 0.5,
          "ϕ": 0
         },
         {
          "xh": 4.5,
          "xl": 3.5,
          "yh": 2.5,
          "yl": 1.5,
          "ϕ": 0
         },
         {
          "xh": 4.5,
          "xl": 3.5,
          "yh": 3.5,
          "yl": 2.5,
          "ϕ": 0
         },
         {
          "xh": 4.5,
          "xl": 3.5,
          "yh": 4.5,
          "yl": 3.5,
          "ϕ": 0.004
         },
         {
          "xh": 4.5,
          "xl": 3.5,
          "yh": 5.5,
          "yl": 4.5,
          "ϕ": 0.032
         },
         {
          "xh": 4.5,
          "xl": 3.5,
          "yh": 6.5,
          "yl": 5.5,
          "ϕ": 0.037
         },
         {
          "xh": 4.5,
          "xl": 3.5,
          "yh": 7.5,
          "yl": 6.5,
          "ϕ": 0.015
         },
         {
          "xh": 4.5,
          "xl": 3.5,
          "yh": 8.5,
          "yl": 7.5,
          "ϕ": 0.004
         },
         {
          "xh": 4.5,
          "xl": 3.5,
          "yh": 9.5,
          "yl": 8.5,
          "ϕ": 0.001
         },
         {
          "xh": 5.5,
          "xl": 4.5,
          "yh": 0.5,
          "yl": -0.5,
          "ϕ": 0
         },
         {
          "xh": 5.5,
          "xl": 4.5,
          "yh": 1.5,
          "yl": 0.5,
          "ϕ": 0
         },
         {
          "xh": 5.5,
          "xl": 4.5,
          "yh": 2.5,
          "yl": 1.5,
          "ϕ": 0.001
         },
         {
          "xh": 5.5,
          "xl": 4.5,
          "yh": 3.5,
          "yl": 2.5,
          "ϕ": 0.005
         },
         {
          "xh": 5.5,
          "xl": 4.5,
          "yh": 4.5,
          "yl": 3.5,
          "ϕ": 0.018
         },
         {
          "xh": 5.5,
          "xl": 4.5,
          "yh": 5.5,
          "yl": 4.5,
          "ϕ": 0.043
         },
         {
          "xh": 5.5,
          "xl": 4.5,
          "yh": 6.5,
          "yl": 5.5,
          "ϕ": 0.021
         },
         {
          "xh": 5.5,
          "xl": 4.5,
          "yh": 7.5,
          "yl": 6.5,
          "ϕ": 0.008
         },
         {
          "xh": 5.5,
          "xl": 4.5,
          "yh": 8.5,
          "yl": 7.5,
          "ϕ": 0.002
         },
         {
          "xh": 5.5,
          "xl": 4.5,
          "yh": 9.5,
          "yl": 8.5,
          "ϕ": 0
         },
         {
          "xh": 6.5,
          "xl": 5.5,
          "yh": 0.5,
          "yl": -0.5,
          "ϕ": 0
         },
         {
          "xh": 6.5,
          "xl": 5.5,
          "yh": 1.5,
          "yl": 0.5,
          "ϕ": 0
         },
         {
          "xh": 6.5,
          "xl": 5.5,
          "yh": 2.5,
          "yl": 1.5,
          "ϕ": 0.006
         },
         {
          "xh": 6.5,
          "xl": 5.5,
          "yh": 3.5,
          "yl": 2.5,
          "ϕ": 0.025
         },
         {
          "xh": 6.5,
          "xl": 5.5,
          "yh": 4.5,
          "yl": 3.5,
          "ϕ": 0.035
         },
         {
          "xh": 6.5,
          "xl": 5.5,
          "yh": 5.5,
          "yl": 4.5,
          "ϕ": 0.025
         },
         {
          "xh": 6.5,
          "xl": 5.5,
          "yh": 6.5,
          "yl": 5.5,
          "ϕ": 0.008
         },
         {
          "xh": 6.5,
          "xl": 5.5,
          "yh": 7.5,
          "yl": 6.5,
          "ϕ": 0.001
         },
         {
          "xh": 6.5,
          "xl": 5.5,
          "yh": 8.5,
          "yl": 7.5,
          "ϕ": 0
         },
         {
          "xh": 6.5,
          "xl": 5.5,
          "yh": 9.5,
          "yl": 8.5,
          "ϕ": 0
         },
         {
          "xh": 7.5,
          "xl": 6.5,
          "yh": 0.5,
          "yl": -0.5,
          "ϕ": 0
         },
         {
          "xh": 7.5,
          "xl": 6.5,
          "yh": 1.5,
          "yl": 0.5,
          "ϕ": 0.002
         },
         {
          "xh": 7.5,
          "xl": 6.5,
          "yh": 2.5,
          "yl": 1.5,
          "ϕ": 0.019
         },
         {
          "xh": 7.5,
          "xl": 6.5,
          "yh": 3.5,
          "yl": 2.5,
          "ϕ": 0.047
         },
         {
          "xh": 7.5,
          "xl": 6.5,
          "yh": 4.5,
          "yl": 3.5,
          "ϕ": 0.02
         },
         {
          "xh": 7.5,
          "xl": 6.5,
          "yh": 5.5,
          "yl": 4.5,
          "ϕ": 0.016
         },
         {
          "xh": 7.5,
          "xl": 6.5,
          "yh": 6.5,
          "yl": 5.5,
          "ϕ": 0.001
         },
         {
          "xh": 7.5,
          "xl": 6.5,
          "yh": 7.5,
          "yl": 6.5,
          "ϕ": 0
         },
         {
          "xh": 7.5,
          "xl": 6.5,
          "yh": 8.5,
          "yl": 7.5,
          "ϕ": 0
         },
         {
          "xh": 7.5,
          "xl": 6.5,
          "yh": 9.5,
          "yl": 8.5,
          "ϕ": 0
         },
         {
          "xh": 8.5,
          "xl": 7.5,
          "yh": 0.5,
          "yl": -0.5,
          "ϕ": 0.002
         },
         {
          "xh": 8.5,
          "xl": 7.5,
          "yh": 1.5,
          "yl": 0.5,
          "ϕ": 0.012
         },
         {
          "xh": 8.5,
          "xl": 7.5,
          "yh": 2.5,
          "yl": 1.5,
          "ϕ": 0.032
         },
         {
          "xh": 8.5,
          "xl": 7.5,
          "yh": 3.5,
          "yl": 2.5,
          "ϕ": 0.036
         },
         {
          "xh": 8.5,
          "xl": 7.5,
          "yh": 4.5,
          "yl": 3.5,
          "ϕ": 0.017
         },
         {
          "xh": 8.5,
          "xl": 7.5,
          "yh": 5.5,
          "yl": 4.5,
          "ϕ": 0.003
         },
         {
          "xh": 8.5,
          "xl": 7.5,
          "yh": 6.5,
          "yl": 5.5,
          "ϕ": 0
         },
         {
          "xh": 8.5,
          "xl": 7.5,
          "yh": 7.5,
          "yl": 6.5,
          "ϕ": 0
         },
         {
          "xh": 8.5,
          "xl": 7.5,
          "yh": 8.5,
          "yl": 7.5,
          "ϕ": 0
         },
         {
          "xh": 8.5,
          "xl": 7.5,
          "yh": 9.5,
          "yl": 8.5,
          "ϕ": 0
         },
         {
          "xh": 9.5,
          "xl": 8.5,
          "yh": 0.5,
          "yl": -0.5,
          "ϕ": 0.009
         },
         {
          "xh": 9.5,
          "xl": 8.5,
          "yh": 1.5,
          "yl": 0.5,
          "ϕ": 0.015
         },
         {
          "xh": 9.5,
          "xl": 8.5,
          "yh": 2.5,
          "yl": 1.5,
          "ϕ": 0.044
         },
         {
          "xh": 9.5,
          "xl": 8.5,
          "yh": 3.5,
          "yl": 2.5,
          "ϕ": 0.032
         },
         {
          "xh": 9.5,
          "xl": 8.5,
          "yh": 4.5,
          "yl": 3.5,
          "ϕ": 0.007
         },
         {
          "xh": 9.5,
          "xl": 8.5,
          "yh": 5.5,
          "yl": 4.5,
          "ϕ": 0
         },
         {
          "xh": 9.5,
          "xl": 8.5,
          "yh": 6.5,
          "yl": 5.5,
          "ϕ": 0
         },
         {
          "xh": 9.5,
          "xl": 8.5,
          "yh": 7.5,
          "yl": 6.5,
          "ϕ": 0
         },
         {
          "xh": 9.5,
          "xl": 8.5,
          "yh": 8.5,
          "yl": 7.5,
          "ϕ": 0
         },
         {
          "xh": 9.5,
          "xl": 8.5,
          "yh": 9.5,
          "yl": 8.5,
          "ϕ": 0
         }
        ],
        "data-397748fb6c135f44ff027f129b5b312e": [
         {
          "v1": 0,
          "v2": 0,
          "ϕ": 0
         },
         {
          "v1": 0,
          "v2": 1,
          "ϕ": 0
         },
         {
          "v1": 0,
          "v2": 2,
          "ϕ": 0.001
         },
         {
          "v1": 0,
          "v2": 3,
          "ϕ": 0.009
         },
         {
          "v1": 0,
          "v2": 4,
          "ϕ": 0.03
         },
         {
          "v1": 0,
          "v2": 5,
          "ϕ": 0.032
         },
         {
          "v1": 0,
          "v2": 6,
          "ϕ": 0.019
         },
         {
          "v1": 0,
          "v2": 7,
          "ϕ": 0.005
         },
         {
          "v1": 0,
          "v2": 8,
          "ϕ": 0
         },
         {
          "v1": 0,
          "v2": 9,
          "ϕ": 0
         },
         {
          "v1": 1,
          "v2": 0,
          "ϕ": 0
         },
         {
          "v1": 1,
          "v2": 1,
          "ϕ": 0
         },
         {
          "v1": 1,
          "v2": 2,
          "ϕ": 0
         },
         {
          "v1": 1,
          "v2": 3,
          "ϕ": 0.002
         },
         {
          "v1": 1,
          "v2": 4,
          "ϕ": 0.012
         },
         {
          "v1": 1,
          "v2": 5,
          "ϕ": 0.028
         },
         {
          "v1": 1,
          "v2": 6,
          "ϕ": 0.03
         },
         {
          "v1": 1,
          "v2": 7,
          "ϕ": 0.012
         },
         {
          "v1": 1,
          "v2": 8,
          "ϕ": 0.005
         },
         {
          "v1": 1,
          "v2": 9,
          "ϕ": 0
         },
         {
          "v1": 2,
          "v2": 0,
          "ϕ": 0
         },
         {
          "v1": 2,
          "v2": 1,
          "ϕ": 0
         },
         {
          "v1": 2,
          "v2": 2,
          "ϕ": 0
         },
         {
          "v1": 2,
          "v2": 3,
          "ϕ": 0
         },
         {
          "v1": 2,
          "v2": 4,
          "ϕ": 0.002
         },
         {
          "v1": 2,
          "v2": 5,
          "ϕ": 0.02
         },
         {
          "v1": 2,
          "v2": 6,
          "ϕ": 0.035
         },
         {
          "v1": 2,
          "v2": 7,
          "ϕ": 0.027
         },
         {
          "v1": 2,
          "v2": 8,
          "ϕ": 0.003
         },
         {
          "v1": 2,
          "v2": 9,
          "ϕ": 0.004
         },
         {
          "v1": 3,
          "v2": 0,
          "ϕ": 0
         },
         {
          "v1": 3,
          "v2": 1,
          "ϕ": 0
         },
         {
          "v1": 3,
          "v2": 2,
          "ϕ": 0
         },
         {
          "v1": 3,
          "v2": 3,
          "ϕ": 0
         },
         {
          "v1": 3,
          "v2": 4,
          "ϕ": 0.008
         },
         {
          "v1": 3,
          "v2": 5,
          "ϕ": 0.021
         },
         {
          "v1": 3,
          "v2": 6,
          "ϕ": 0.038
         },
         {
          "v1": 3,
          "v2": 7,
          "ϕ": 0.039
         },
         {
          "v1": 3,
          "v2": 8,
          "ϕ": 0.011
         },
         {
          "v1": 3,
          "v2": 9,
          "ϕ": 0.002
         },
         {
          "v1": 4,
          "v2": 0,
          "ϕ": 0
         },
         {
          "v1": 4,
          "v2": 1,
          "ϕ": 0
         },
         {
          "v1": 4,
          "v2": 2,
          "ϕ": 0
         },
         {
          "v1": 4,
          "v2": 3,
          "ϕ": 0
         },
         {
          "v1": 4,
          "v2": 4,
          "ϕ": 0.004
         },
         {
          "v1": 4,
          "v2": 5,
          "ϕ": 0.032
         },
         {
          "v1": 4,
          "v2": 6,
          "ϕ": 0.037
         },
         {
          "v1": 4,
          "v2": 7,
          "ϕ": 0.015
         },
         {
          "v1": 4,
          "v2": 8,
          "ϕ": 0.004
         },
         {
          "v1": 4,
          "v2": 9,
          "ϕ": 0.001
         },
         {
          "v1": 5,
          "v2": 0,
          "ϕ": 0
         },
         {
          "v1": 5,
          "v2": 1,
          "ϕ": 0
         },
         {
          "v1": 5,
          "v2": 2,
          "ϕ": 0.001
         },
         {
          "v1": 5,
          "v2": 3,
          "ϕ": 0.005
         },
         {
          "v1": 5,
          "v2": 4,
          "ϕ": 0.018
         },
         {
          "v1": 5,
          "v2": 5,
          "ϕ": 0.043
         },
         {
          "v1": 5,
          "v2": 6,
          "ϕ": 0.021
         },
         {
          "v1": 5,
          "v2": 7,
          "ϕ": 0.008
         },
         {
          "v1": 5,
          "v2": 8,
          "ϕ": 0.002
         },
         {
          "v1": 5,
          "v2": 9,
          "ϕ": 0
         },
         {
          "v1": 6,
          "v2": 0,
          "ϕ": 0
         },
         {
          "v1": 6,
          "v2": 1,
          "ϕ": 0
         },
         {
          "v1": 6,
          "v2": 2,
          "ϕ": 0.006
         },
         {
          "v1": 6,
          "v2": 3,
          "ϕ": 0.025
         },
         {
          "v1": 6,
          "v2": 4,
          "ϕ": 0.035
         },
         {
          "v1": 6,
          "v2": 5,
          "ϕ": 0.025
         },
         {
          "v1": 6,
          "v2": 6,
          "ϕ": 0.008
         },
         {
          "v1": 6,
          "v2": 7,
          "ϕ": 0.001
         },
         {
          "v1": 6,
          "v2": 8,
          "ϕ": 0
         },
         {
          "v1": 6,
          "v2": 9,
          "ϕ": 0
         },
         {
          "v1": 7,
          "v2": 0,
          "ϕ": 0
         },
         {
          "v1": 7,
          "v2": 1,
          "ϕ": 0.002
         },
         {
          "v1": 7,
          "v2": 2,
          "ϕ": 0.019
         },
         {
          "v1": 7,
          "v2": 3,
          "ϕ": 0.047
         },
         {
          "v1": 7,
          "v2": 4,
          "ϕ": 0.02
         },
         {
          "v1": 7,
          "v2": 5,
          "ϕ": 0.016
         },
         {
          "v1": 7,
          "v2": 6,
          "ϕ": 0.001
         },
         {
          "v1": 7,
          "v2": 7,
          "ϕ": 0
         },
         {
          "v1": 7,
          "v2": 8,
          "ϕ": 0
         },
         {
          "v1": 7,
          "v2": 9,
          "ϕ": 0
         },
         {
          "v1": 8,
          "v2": 0,
          "ϕ": 0.002
         },
         {
          "v1": 8,
          "v2": 1,
          "ϕ": 0.012
         },
         {
          "v1": 8,
          "v2": 2,
          "ϕ": 0.032
         },
         {
          "v1": 8,
          "v2": 3,
          "ϕ": 0.036
         },
         {
          "v1": 8,
          "v2": 4,
          "ϕ": 0.017
         },
         {
          "v1": 8,
          "v2": 5,
          "ϕ": 0.003
         },
         {
          "v1": 8,
          "v2": 6,
          "ϕ": 0
         },
         {
          "v1": 8,
          "v2": 7,
          "ϕ": 0
         },
         {
          "v1": 8,
          "v2": 8,
          "ϕ": 0
         },
         {
          "v1": 8,
          "v2": 9,
          "ϕ": 0
         },
         {
          "v1": 9,
          "v2": 0,
          "ϕ": 0.009
         },
         {
          "v1": 9,
          "v2": 1,
          "ϕ": 0.015
         },
         {
          "v1": 9,
          "v2": 2,
          "ϕ": 0.044
         },
         {
          "v1": 9,
          "v2": 3,
          "ϕ": 0.032
         },
         {
          "v1": 9,
          "v2": 4,
          "ϕ": 0.007
         },
         {
          "v1": 9,
          "v2": 5,
          "ϕ": 0
         },
         {
          "v1": 9,
          "v2": 6,
          "ϕ": 0
         },
         {
          "v1": 9,
          "v2": 7,
          "ϕ": 0
         },
         {
          "v1": 9,
          "v2": 8,
          "ϕ": 0
         },
         {
          "v1": 9,
          "v2": 9,
          "ϕ": 0
         }
        ]
       },
       "layer": [
        {
         "data": {
          "name": "data-286a68c9292df08f3ed49fe9a3424b0a"
         },
         "encoding": {
          "color": {
           "field": "ϕ",
           "title": "ϕ",
           "type": "quantitative"
          },
          "x": {
           "field": "xl",
           "title": "v1",
           "type": "quantitative"
          },
          "x2": {
           "field": "xh"
          },
          "y": {
           "field": "yl",
           "title": "v2",
           "type": "quantitative"
          },
          "y2": {
           "field": "yh"
          }
         },
         "height": 300,
         "mark": "rect",
         "width": 300
        },
        {
         "data": {
          "name": "data-397748fb6c135f44ff027f129b5b312e"
         },
         "encoding": {
          "x": {
           "field": "EV1",
           "type": "quantitative"
          },
          "y": {
           "field": "EV2",
           "type": "quantitative"
          }
         },
         "height": 300,
         "mark": {
          "fill": "red",
          "size": 100,
          "type": "point"
         },
         "transform": [
          {
           "as": "EV1",
           "calculate": "4.604"
          },
          {
           "as": "EV2",
           "calculate": "4.560999999999998"
          }
         ],
         "width": 300
        }
       ]
      },
      "image/png": "[encoded data removed]",
      "text/plain": [
       "<VegaLite 3 object>\n",
       "\n",
       "If you see this message, it means the renderer has not been properly enabled\n",
       "for the frontend that you are using. For more information, see\n",
       "https://altair-viz.github.io/user_guide/troubleshooting.html\n"
      ]
     },
     "execution_count": 145,
     "metadata": {},
     "output_type": "execute_result"
    }
   ],
   "source": [
    "mean = alt.Chart(plot_data, width=300, height=300).mark_point(\n",
    "        size=100,fill='red'\n",
    "    ).encode(\n",
    "        x='EV1:Q', y='EV2:Q'\n",
    "    ).transform_calculate(\n",
    "        EV1=f'{EV[0]}', EV2=f'{EV[1]}'\n",
    "    )\n",
    "density + mean"
   ]
  },
  {
   "cell_type": "markdown",
   "metadata": {},
   "source": [
    "### Conditional Expectation"
   ]
  },
  {
   "cell_type": "markdown",
   "metadata": {},
   "source": [
    "### Rules for Expectation"
   ]
  },
  {
   "cell_type": "markdown",
   "metadata": {},
   "source": [
    "- linearity: sum of RVs, product with scalar\n",
    "- transformation: lazy statistician"
   ]
  },
  {
   "cell_type": "markdown",
   "metadata": {},
   "source": [
    "### Variance"
   ]
  }
 ],
 "metadata": {
  "kernelspec": {
   "display_name": "Python 3",
   "language": "python",
   "name": "python3"
  },
  "language_info": {
   "codemirror_mode": {
    "name": "ipython",
    "version": 3
   },
   "file_extension": ".py",
   "mimetype": "text/x-python",
   "name": "python",
   "nbconvert_exporter": "python",
   "pygments_lexer": "ipython3",
   "version": "3.7.3"
  }
 },
 "nbformat": 4,
 "nbformat_minor": 4
}
