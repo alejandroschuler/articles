{
 "cells": [
  {
   "cell_type": "markdown",
   "metadata": {},
   "source": [
    "# Peeling back the curtain"
   ]
  },
  {
   "cell_type": "markdown",
   "metadata": {},
   "source": [
    "Statistics (of which machine learning is one part) is all about being able to make inferences about how the world works, given some data. In essence, trying to peel back the curtain on what is unknown. To be able to do that, we need a way to talk about what data are, and a way to talk about what could be behind that curtain."
   ]
  },
  {
   "cell_type": "markdown",
   "metadata": {},
   "source": [
    "## Talking about data"
   ]
  },
  {
   "cell_type": "markdown",
   "metadata": {},
   "source": [
    "Let's say we observe 1000 patients in a hospital, each of whom has measurements of their pre-treatment blood pressure, heart rate, etc. and also their corresponding blood pressure after taking a drug. For a new patient who walks in the door, given their current vital signs, can we predict their post-treatment blood pressure? \n",
    "\n",
    "We need a way to talk abstractly about the data in these kinds of problems so that we can apply the same methods to different problems without having to completely rethink our approach every time.\n",
    "\n",
    "We're going to use a subscript $i$ to refer to data about the $i$th patient. So, for example, if $z$ were some measurement we made on all patients, $z_i$ would be the value of that measurement for the $i$th patient. The patient in our example is what we call the **unit of observation**. But if we were talking about classifying pictures as having cats or not having cats in them, the unit of observation would be the picture. So, in general, the subscript $i$ refers to the $i$th observation in the dataset, which could be a patient, a photograph, a credit card transaction, etc. \n",
    "\n",
    "The total number of observations is usually called $n$, so $i$ could stand for any number between 1 and $n$. A shorter way to write that is $i \\in \\{1, 2, \\dots n\\}$. You can read $\\in$ as \"in\", so this says \"$i$ is a number in the set of numbers that includes 1, 2, ... all the way up to $n$\". We'll use that notation for other things as well.\n",
    "\n",
    "We usually use the variable $y$ to refer to the measurement we are trying to predict, which is in this case the patient's post-treatment blood pressure. You'll most often see $y$ called the **target**, **label**, or **outcome**. Using our observation subscripts, $y_1$ would be the first patient's post-treatment blood pressure, $y_2$ would be the second patient's blood pressure, etc. \n",
    "\n",
    "We can do the same thing for the other measurements, which are called **predictors**, **features**, or **covariates**. We could use different letters for each predictor, e.g. pre-treatment blood pressure would be $z$, pre-treatment heart rate would be $x$, but the standard practice is to call them all \"$x$\", but subscript them with an index $j$ (different than the index $i$ that refers to the unit of observation). So, in our example, we'll say $x_{i1}$ is patient $i$'s pre-treatment blood pressure, $x_{i2}$ is their pre-treatment heart rate, etc. We will use $p$ to refer to the number of predictors we have for each observation, so $j \\in \\{1 \\dots p\\}$. We'll use $x_i$ to refer to a list of all of the features for observation $i$:\n",
    "\n",
    "$$\n",
    "x_i = \n",
    "\\left[\n",
    "\\begin{array}{cccc}\n",
    "x_{i1} & x_{i2} & \\cdots & x_{ip}\n",
    "\\end{array}\n",
    "\\right] \n",
    "$$\n",
    "\n",
    "\n",
    "Now each observation is decribed by its target $y_i$ and its vector of predictors $x_i$. We stack these measurements together into lists of outcomes and predictors so we can refer to all of them at once:\n",
    "\n",
    "$$\n",
    "X = \n",
    "\\left[\n",
    "\\begin{array}{c}\n",
    "x_1 \\\\ x_2 \\\\ \\vdots \\\\ x_n\n",
    "\\end{array}\n",
    "\\right] \n",
    "=\n",
    "\\left[\n",
    "\\begin{array}{cccc}\n",
    "x_{11} & x_{12} & \\cdots & x_{1p} \\\\\n",
    "x_{21} & x_{22} & \\cdots & x_{2p} \\\\\n",
    "\\vdots & & \\ddots & \\vdots \\\\\n",
    "x_{n1} & x_{n2} & \\cdots & x_{np} \n",
    "\\end{array}\n",
    "\\right]\n",
    "\\quad\n",
    "Y = \n",
    "\\left[\n",
    "\\begin{array}{c}\n",
    "y_1 \\\\ y_2 \\\\ \\vdots \\\\ y_n\n",
    "\\end{array}\n",
    "\\right] \n",
    "$$\n",
    "\n",
    "You may recall that ordered lists of numbers are also called vectors, and a list of lists of numbers (like $X$) can be written as a matrix. These are the terms we'll use going forward. \n",
    "\n",
    "Note that each column of $X$ (which we'll call $x_{:j}$) is a vector that contains every measurement of the $j$th feature."
   ]
  },
  {
   "cell_type": "markdown",
   "metadata": {},
   "source": [
    "Now we can formalize our learning problem in the abstract. All the measurements for the existing patients are contained in the matrix of predictors $X$ and the vector of targets $Y$. A new patient walks in the door (patient #$n+1$), and we measure all their predictors $x_{n+1}$. What we don't observe, but want to estimate, is the value of their target, $y_{n+1}$."
   ]
  },
  {
   "cell_type": "markdown",
   "metadata": {},
   "source": [
    "### Example in Code"
   ]
  },
  {
   "cell_type": "markdown",
   "metadata": {},
   "source": [
    "We'll make some fake data in python to demonstrate. Here are all the predictors and outcomes for $n$ observations (e.g. pre-treatment measurements and post-treatment blood pressure for $n$ patients):"
   ]
  },
  {
   "cell_type": "code",
   "execution_count": 1,
   "metadata": {},
   "outputs": [
    {
     "data": {
      "text/plain": [
       "(array([[0.81094339, 0.96272971],\n",
       "        [0.77415282, 0.52292862],\n",
       "        [0.21573058, 0.3560294 ],\n",
       "        [0.31277915, 0.19894063],\n",
       "        [0.34099537, 0.31323508]]),\n",
       " array([0.65463807, 0.39945426, 0.9418224 , 0.03021903, 0.88351023]))"
      ]
     },
     "execution_count": 1,
     "metadata": {},
     "output_type": "execute_result"
    }
   ],
   "source": [
    "import numpy as np\n",
    "n = 5 # 5 observations\n",
    "p = 2 # 2 features\n",
    "X = np.random.rand(n,p) # a random matrix of numbers between 0 and 1. \n",
    "Y = np.random.rand(n)\n",
    "X, Y"
   ]
  },
  {
   "cell_type": "markdown",
   "metadata": {},
   "source": [
    "And here are the predictors for a new observation (e.g. the pre-treatment measurements for a new patient)"
   ]
  },
  {
   "cell_type": "code",
   "execution_count": 2,
   "metadata": {},
   "outputs": [
    {
     "data": {
      "text/plain": [
       "array([[0.18023264, 0.55885409]])"
      ]
     },
     "execution_count": 2,
     "metadata": {},
     "output_type": "execute_result"
    }
   ],
   "source": [
    "x_new = np.random.rand(1,p)\n",
    "x_new"
   ]
  },
  {
   "cell_type": "markdown",
   "metadata": {},
   "source": [
    "What we want is an algorithm that takes any values of `x_new` and uses all the data in `X` and `Y` to output an prediction for what `y_new` should be:"
   ]
  },
  {
   "cell_type": "code",
   "execution_count": 3,
   "metadata": {},
   "outputs": [],
   "source": [
    "def fancy_machine_learning_prediction(x_new):\n",
    "    # ... do some stuff with X and Y\n",
    "    return y_new_estimated"
   ]
  },
  {
   "cell_type": "code",
   "execution_count": 4,
   "metadata": {},
   "outputs": [],
   "source": [
    "### Aside about non-tabular data, feature engineering, and methods for nontabular data"
   ]
  },
  {
   "cell_type": "markdown",
   "metadata": {},
   "source": [
    "## What's behind the curtain?"
   ]
  },
  {
   "cell_type": "markdown",
   "metadata": {},
   "source": [
    "In the example above, we demonstrated some code that generates fake data $X$ and $Y$. On the other hand, real data comes from the real world, not from some python code. For every dataset, there is an immensely complex network of causal interactions that ultimately \"produces\" the data. \n",
    "\n",
    "For example, in our blood pressure example, a patient's pre-treatment vital signs are caused by their physiological state: their genetics, life history, what they ate for breakfast that morning, whether or not they just ran up a flight of stairs, and so on and so forth. Taking a drug influences the levels of certain chemicals in the blood, which are taken up at particular rates in certain organs by certain enzymes, the levels of which are impacted by the patient's genetics and prior physiological state, which was influenced by their life history, etc. Thus the impact of the drug on cellular processes is mediated by these factors. The cells respond by increasing or decreasing their production of some proteins or metabolites, which, in combination with the immediate condition of the patient when the measurement is taken, determines the post-treatment blood pressure. \n",
    "\n",
    "Or, let's say we're trying to determine whether or not there is a cat in a photograph. The cat being in front of the camera when the photo was taken ($y_i$) could be caused by a huge number of factors, and the values of the pixels in the photograph ($x_i$) are caused by the reflection of photons emitted from sources of light off the cat (and other objects) and the mechanics of the detection of light inside the camera.\n",
    "\n",
    "In a nutshell, the world is complicated. There is no way that mere mortals could ever write code accurate enough to perfectly simulate the exact processes that produce data about complex real-world phenomena.\n",
    "\n",
    "But, despite the complexity, you should start thinking about that complex web of causality as \"code\" that's being run in some cosmic simulation. Maybe you can imagine that there are \"data gods\" that write and are running this code. We'll never see their code, and we'll never be able to understand it, but somewhere, out there, that metaphysical code is running, and it's generating the observations that we see in our data."
   ]
  },
  {
   "cell_type": "markdown",
   "metadata": {},
   "source": [
    "You can think of that code as a little \"factory\" that pumps out observations of $x_i$ and $y_i$, one at a time. The factory is behind a curtain that we can't ever look behind, but we can see the pile of $x_i$s and $y_i$s that come out of it, which are our $X$ and $Y$."
   ]
  },
  {
   "cell_type": "markdown",
   "metadata": {},
   "source": [
    "![](factory.png)"
   ]
  },
  {
   "cell_type": "markdown",
   "metadata": {},
   "source": [
    "If we had that code, we'd be able to reverse engineer it to predict $y_i$ given $x_i$ as accurately as would be \n",
    "possible with those predictors. In practice, however, we can only build a *model* of that code. Our model will never capture the complexities of reality, the same way that a model plane doesn't even begin to approach the complexity of a real aircraft. But, ideally, it will be similar enough in ways that are important for the task at hand: if we're using a model plane just to demonstrate what an aircraft migth look like, we don't need the model to have functioning jet engines. And if all we need to do is predict $y_i$ for a new $x_i$, we don't exactly need to understand the complex web of causality linking the two together."
   ]
  },
  {
   "cell_type": "markdown",
   "metadata": {},
   "source": [
    "We do, however, need a way to talk about the relationship that $x_i$ and $y_i$ might have. And to do that, we need a way to talk abstractly about the \"code\" or \"data factory\" that's behind the curtain, the same way we developed abstract terms to describe our data. Thankfully, the language of probability works perfectly for that."
   ]
  },
  {
   "cell_type": "markdown",
   "metadata": {},
   "source": [
    "## Random variables are factories that generate data"
   ]
  },
  {
   "cell_type": "markdown",
   "metadata": {},
   "source": [
    "The data factories we're interested in are the kind that output $x_i$s and $y_i$s, but to understand how these factories work it's better to consider a simpler factory that produces one number at a time, instead of one vector $x_i$ and one number $y_i$. \n",
    "\n",
    "We'll call our factory $\\mathbf Z$. This factory pushes out one value $z_i$ at a time. Furthermore, let's say that half the time you get a $1$ and half the time you get a $0$; those are the only values that the $\\mathbf Z$ factory can produce. And the factory is built to reset itself between producing each value, so whatever $z_i$ is has no impact on $z_{i+1}$."
   ]
  },
  {
   "cell_type": "markdown",
   "metadata": {},
   "source": [
    "In the language of probability theory, $z_i$ are **realizations** from $\\mathbf Z$, which has a **distribution**:\n",
    "\n",
    "$$\n",
    "\\begin{array}{rcl}\n",
    "P(\\mathbf Z = 0) &=& 1/2 \\\\ \n",
    "P(\\mathbf Z = 1) &=& 1/2\n",
    "\\end{array}\n",
    "\\quad \\quad \\text{or} \\quad \\quad\n",
    "P(\\mathbf Z=z) =\n",
    "\\begin{cases}\n",
    "1/2 & \\text{for }z=0 \\\\\n",
    "1/2 & \\text{for }z=1\n",
    "\\end{cases}\n",
    "$$"
   ]
  },
  {
   "cell_type": "markdown",
   "metadata": {},
   "source": [
    "What we've been loosely calling a \"factory\" is a **random variable** in the language of probability theory. But that's just a name. You can keep thinking of them as factories, or code, that generate data. The different values that can be realized are each called possible **events**."
   ]
  },
  {
   "cell_type": "markdown",
   "metadata": {},
   "source": [
    "<div class=\"alert alert-block alert-warning\">\n",
    "<b>Note:</b> \n",
    "Random variables are often written in uppercase, (e.g. Z) and their realizations in lowercase (z). We're going to be using uppercase for matrices (and sets), so I'm going to use boldface in conjunction with uppercase ($\\mathbf Z$) to denote random variables.\n",
    "</div>"
   ]
  },
  {
   "cell_type": "markdown",
   "metadata": {},
   "source": [
    "Ok, so if the random variable is a factory, and the realizations of the random variable are the output of that factory (the data we get to see), then how do we read a statement like $P(\\mathbf Z = 0) = 1/2$? Well, that just means that the value $z$ that $\\mathbf Z$ produces is $0$ half of the time. But what exactly do we mean by \"half the time\"? While we usually don't have to think deeper than this, you'll see later that it is sometimes necessary to have a more rigorous definition of probability."
   ]
  },
  {
   "cell_type": "markdown",
   "metadata": {},
   "source": [
    "<div class=\"alert alert-block alert-info\">\n",
    "<b>Exercise:</b> \n",
    "\n",
    "Remember that the entire purpose of talking about these factories is so that we can imagine what's behind the curtain, producing the data that we observe. Think of a real-world scenario where we collect data that we could imagine that our random variable $\\bf Z$ is producing. In other words, what's something we could measure in the real world that we might model using $\\bf Z$?\n",
    "    \n",
    "</div>"
   ]
  },
  {
   "cell_type": "markdown",
   "metadata": {},
   "source": [
    "Let's build that definition. We'll start with some raw materials. All factories have raw materials that go into them, which end up being turned into the finished product. In a similar way, random variables have inputs which get mapped to realized values. We'll call them \"data ore\": the unrefined precursor that gets transformed by our factory (random variable $\\mathbf Z$)into the data product $z$. The data ore exists in units (data ore nuggets). The factory takes one nugget at a time and transforms it into a realization.\n",
    "\n",
    "The nuggets are kept in an big silo called $\\Omega$ before they go to $\\mathbf Z$. This silo is filled to the brim with *all* of the possible nuggets that could be fed into the factory, one of each of them. It's also a magic silo, so when you take out a nugget, another one exactly like it is mined out of the depths of the cosmos to take its place in the silo."
   ]
  },
  {
   "cell_type": "markdown",
   "metadata": {},
   "source": [
    "![](factory_rv.png)"
   ]
  },
  {
   "cell_type": "markdown",
   "metadata": {},
   "source": [
    "Each nugget is gets transformed into a value of $z$, but the process isn't random. For instance, if a nugget named \"Karl\" turned into a 1 when fed through $\\mathbf Z$, then we would *always* get a 1 when Karl goes into $\\mathbf Z$. But we know that sometimes $\\mathbf Z$ produces 0s, so there must be other nuggets whose destiny is to become 0s, just like Karl's destiny is to be a 1. The \"randomness\" in $\\mathbf Z$ isn't caused by what's in the factory, it's caused by randomly picking a nugget to throw into it."
   ]
  },
  {
   "cell_type": "markdown",
   "metadata": {},
   "source": [
    "We can even code up our little example, imagining that we have 10 nuggets, boringly named \"0\", \"1\", \"2\"... \"9\":"
   ]
  },
  {
   "cell_type": "code",
   "execution_count": 5,
   "metadata": {},
   "outputs": [],
   "source": [
    "def Z(ω): # factory (random variable)\n",
    "    if ω in set([1,4,5,8,9]): # these are the outcomes (nuggets) that map to the value 1 \n",
    "        return 1\n",
    "    if ω in set([0,2,3,6,7]): # these are the outcomes (nuggets) that map to the value 0 \n",
    "        return 0\n",
    "Z.Ω = set([0,1,2,3,4,5,6,7,8,9]) # sample space (silo) of outcomes (ore nuggets) attached to Z\n",
    "    \n",
    "import random\n",
    "def realize(rand_var): # run the assembly line!\n",
    "    ω = random.sample(rand_var.Ω, 1)[0] # grab a single nugget out of the silo at random\n",
    "    return rand_var(ω) # push it through the factory"
   ]
  },
  {
   "cell_type": "markdown",
   "metadata": {},
   "source": [
    "<div class=\"alert alert-block alert-warning\">\n",
    "<b>Python Tip:</b> \n",
    "`random.sample(x,n)` grabs `n` values at random out of the set `x` and returns them as a list.\n",
    "</div>"
   ]
  },
  {
   "cell_type": "markdown",
   "metadata": {},
   "source": [
    "Here are 20 observations $z=[z_1, z_2, \\dots z_{20}]$, fresh off the assembly line of the $\\mathbf Z$ factory:"
   ]
  },
  {
   "cell_type": "code",
   "execution_count": 6,
   "metadata": {},
   "outputs": [
    {
     "data": {
      "text/plain": [
       "[0, 0, 1, 1, 1, 1, 1, 1, 1, 1, 0, 1, 0, 1, 1, 1, 1, 1, 1, 0]"
      ]
     },
     "execution_count": 6,
     "metadata": {},
     "output_type": "execute_result"
    }
   ],
   "source": [
    "z = [realize(Z) for i in range(20)] \n",
    "z"
   ]
  },
  {
   "cell_type": "markdown",
   "metadata": {},
   "source": [
    "Now we're ready to define probability: the probability of an event (a particular value $z$) is just the proportion of the silo that's taken up by nuggets that are destined to become that value $z$ when fed through $\\mathbf Z$. That's it. We denote that proportion with the notation $P(\\mathbf Z = z)$. In our example above, saying $P(\\mathbf Z = 1) = 1/2$ means that half of all the possible nuggets that could go into $\\mathbf Z$ would produce a 1."
   ]
  },
  {
   "cell_type": "markdown",
   "metadata": {},
   "source": [
    "That's a definition we can code up:"
   ]
  },
  {
   "cell_type": "code",
   "execution_count": 7,
   "metadata": {},
   "outputs": [],
   "source": [
    "def P(rand_var, realization):\n",
    "    A = set(ω for ω in rand_var.Ω if rand_var(ω) in realization) # what are all the nuggets that map to the value(s) in question?\n",
    "    return len(A)/len(rand_var.Ω) # what is the \"volume\" of those nuggets relative to the volume of the silo Ω?"
   ]
  },
  {
   "cell_type": "code",
   "execution_count": 8,
   "metadata": {},
   "outputs": [
    {
     "data": {
      "text/plain": [
       "(0.5, 0.5)"
      ]
     },
     "execution_count": 8,
     "metadata": {},
     "output_type": "execute_result"
    }
   ],
   "source": [
    "P(Z,[0]), P(Z,[1]) # P(z=0), P(z=1)"
   ]
  },
  {
   "cell_type": "markdown",
   "metadata": {},
   "source": [
    "So to build a factory that makes 0s and 1s in even proportions, all I had to do was evenly split up the number of nuggets that are destined to produce each value. It also doesn't matter what I call the nuggets. For example, here is equally good code to implement $\\mathbf Z$:"
   ]
  },
  {
   "cell_type": "code",
   "execution_count": 9,
   "metadata": {},
   "outputs": [
    {
     "data": {
      "text/plain": [
       "[0, 1, 0, 1, 0, 1, 0, 1, 1, 0, 0, 0, 0, 1, 0, 1, 1, 1, 1, 1]"
      ]
     },
     "execution_count": 9,
     "metadata": {},
     "output_type": "execute_result"
    }
   ],
   "source": [
    "def Z(ω): # factory (random variable)\n",
    "    if ω in set([-1234]): # these are the outcomes (nuggets) that map to the value 1 \n",
    "        return 1\n",
    "    if ω in set([980123]): # these are the outcomes (nuggets) that map to the value 0 \n",
    "        return 0\n",
    "Z.Ω = set([980123, -1234]) # sample space (silo) of outcomes (ore nuggets) attached to Z\n",
    "\n",
    "[realize(Z) for i in range(20)] "
   ]
  },
  {
   "cell_type": "markdown",
   "metadata": {},
   "source": [
    "<div class=\"alert alert-block alert-info\">\n",
    "<b>Exercise:</b> \n",
    "\n",
    "Write code for a new random variable $\\mathbf W$ that behaves like this:\n",
    "    \n",
    "$$\n",
    "P(\\mathbf W=w) =\n",
    "\\begin{cases}\n",
    "0.1 \\dots  & \\text{for }w=-1 \\\\\n",
    "0.4 \\dots & \\text{for }w=0 \\\\\n",
    "0.2 & \\text{for }w=1 \\\\\n",
    "0.3 & \\text{for }w=2\n",
    "\\end{cases}\n",
    "$$\n",
    "    \n",
    "You'll need to make your own nugget silo `Ω` and define the function `W(ω)`. Test it out using the `realize()` and `P()` functions we wrote. Use `P()` to calculate $P(\\mathbf W \\in \\{-1,0\\})$.\n",
    "    \n",
    "</div>"
   ]
  },
  {
   "cell_type": "markdown",
   "metadata": {},
   "source": [
    "![](https://encrypted-tbn0.gstatic.com/images?q=tbn:ANd9GcRTCXQ098kIFldwWw8VEPSR_q9Tbk1BFjuhFH8V8NVPskxrtVj7&s)"
   ]
  },
  {
   "cell_type": "markdown",
   "metadata": {},
   "source": [
    "If you're looking at this and thinking that I can't possibly be serious, that the foundations of statistics and machine learning can't possibly be built up from imagining data factories and magical silos... well, you're wrong. Sure, I've concocted a somewhat elaborate metaphor, but it's a metaphor that accurately describes how these otherwise very abstract concepts relate to each other. If you can look at something like $P(\\mathbf Z = z) := P(\\{\\omega \\in \\Omega \\vert \\mathbf Z(w)=z\\})$ and immediately come away with an understanding of what that means, all the more power to you. But I don't. At least not without first building up an intuition for each of the components."
   ]
  },
  {
   "cell_type": "markdown",
   "metadata": {},
   "source": [
    "In probability theory, the silo $\\Omega$ is called a **sample space** and the data ore nuggets are called **outcomes** (not to be confused with what we call the variable we want to predict in machine learning). A random variable $\\mathbf Z$ is defined as a function that maps an element of $\\Omega$ to a realization $z$. The probability of an event $z$ is the *measure* (volume, or proportion of total volume) of the set of outcomes (data ore nuggets) that map to $z$ (are destined to be transformed to $z$ by $\\mathbf Z$). "
   ]
  },
  {
   "cell_type": "markdown",
   "metadata": {},
   "source": [
    "![](prob_preimage.png)"
   ]
  },
  {
   "cell_type": "markdown",
   "metadata": {},
   "source": [
    "When I talk about these things outside of the context of explaining them, I do call them by their real names (e.g. random variable, sample space, etc.) because that's what people have called them for nearly a century. But when I close my eyes and *reason* about these concepts, I'm thinking about something tangible, like a factory. As we go on I'm going to introduce more mathematical notation as we need it, and I'm going to wean off the factory metaphor, but I encourage you to keep building your intuition about these concepts instead of thinking about them as abstract symbols on a page. The symbols are just a convenient shorthand for the ideas. The only reason to know the standard names and symbols is to be able to read and understand what others have written. If you find yourself skimming over an equation- stop. Read it slowly and think about what each part means.\n",
    "\n",
    "So now that we're here, let's demystify the notation in that equation I dropped up above! Here it is again:\n",
    "\n",
    "$$P(\\mathbf Z = z) := P(\\{\\omega \\in \\Omega \\vert \\mathbf Z(w)=z\\})$$\n",
    "\n",
    "To start, the $:=$ means \"the thing on the left is defined as the thing on the right\". So we're saying that when we write \"$P(\\mathbf Z = z)$\", we really mean whatever \"$P(\\{\\omega \\in \\Omega \\vert \\mathbf Z(w)=z\\})$\" is. Ok, next up is [set-builder notation](https://www.mathsisfun.com/sets/set-builder-notation.html): you can read $\\{a\\in A | f(a) = 1\\}$ as \"the collection of all the elements $a$ in the set $A$ *such that* $f(a)=1$\". So $\\{\\omega \\in \\Omega \\vert \\mathbf Z(w)=z\\}$ is the set of outcomes $\\omega$ that become $z$ when passed through the random variable $\\mathbf Z$. Finally, we have $P()$, which is the [probability measure](https://en.wikipedia.org/wiki/Probability_measure). We won't define this super rigorously, but it is basically defined as the measurement of the proportion of all of the outcomes in $\\Omega$ that are contained in the subset $\\{\\omega \\in \\Omega \\vert \\mathbf Z(w)=z\\}$. If you put all of that together, you'll see that it's exactly the same as the definition we put together using our factory analogy. "
   ]
  },
  {
   "cell_type": "markdown",
   "metadata": {},
   "source": [
    "When we say \"the proportion of all outcomes in $\\Omega$ that are in a subset $A$\", what we mean is that we're literally going to measure the volume of space that the nuggets in $A$ take up in the silo $\\Omega$. By convention, we say that $\\Omega$ has volume 1 so that the volume of $A$ is also the proportion of volume that $A$ takes up in $\\Omega$. In the figure above, that's represented by the area of the shaded gray region."
   ]
  },
  {
   "cell_type": "markdown",
   "metadata": {},
   "source": [
    "<div class=\"alert alert-block alert-warning\">\n",
    "<b>REMEMBER:</b> \n",
    "\n",
    "If your eyes glaze over every time you see mathematical notation, don't worry. Remember, that's normal. Just slow down and read it again. Try and think about what it <i>means</i>.\n",
    "</div>"
   ]
  },
  {
   "cell_type": "markdown",
   "metadata": {},
   "source": [
    "Ok- I promised that it would be useful to define probability in a more rigorous way than \"$z$ happens $x$% of the time\". Now we're going to see why. \n",
    "\n",
    "To start with, let's \"derive\" a relatively simple fact: for a subset $F \\subset \\Omega$, $P(F) \\in [0,1]$. This is a compact way of writing that for any subset of outcomes, the proportion of outcomes in that subset relative to how many are in the whole sample space is a number between 0 and 1 ($A \\subset B$ means that $A$ is a subset of $B$). At this point, that should be obvious to you. If the volume of our silo $\\Omega$ is 1, the volume of any subset of that has to be less than 1."
   ]
  },
  {
   "cell_type": "markdown",
   "metadata": {},
   "source": [
    "Here's a trickier one: for $A,B \\subset \\Omega$, if $A \\cap B = 0$, then $P(A \\cup B) = P(A) + P(B)$. This one has more symbols, but it's also really obvious when you know what they mean. $A \\cap B$ is read as \"the intersection of the sets $A$ and $B$\", which is the set of elements that are in both sets. It's the middle part of a Venn diagram. $A \\cup B$ is read  as \"the union of $A$ and $B$\", which is all of the elements in either set- that's the entirety of the Venn diagram. So what we're saying here is that if A and B don't share any outcomes between them, the probability of the union of the two is the same as the sum of the probabilities of each of them. \n",
    "\n",
    "That also seems cryptic until you think about it in terms of quantities of ore nuggets that produce certain values when fed through the factory. If you take all the ore nuggets that end up becoming the value $a$ (call that set of nuggets $A$), and all the nuggets that end up becoming the value $b$ (call that $B$), then the total volume that end up becoming either $a$ or $b$ (that's $P(A \\cup B)$) is the sum of the volumes that become $a$ (that's $P(A)$) and those that become $b$ (that's $P(B)$). \n",
    "\n",
    "Note that this only holds for sets $A$ and $B$ that don't overlap ($A\\cap B = 0$). For instance, if $A= \\{\\omega \\vert \\mathbf Z(\\omega) \\in \\{0,1\\}\\}$ (all the outcomes that map to either 0 or 1) and $B = \\{\\omega \\vert \\mathbf Z(\\omega) = 0\\}$ (all the outcomes that map to 0), every element of $B$ is also an element of $A$, so the volume of the union $A \\cup B$ is the volume of $A$, which is not the volume of $A$ plus the volume of $B$."
   ]
  },
  {
   "cell_type": "markdown",
   "metadata": {},
   "source": [
    "We can even use our code from before to demonstrate this:"
   ]
  },
  {
   "cell_type": "code",
   "execution_count": 10,
   "metadata": {},
   "outputs": [
    {
     "data": {
      "text/plain": [
       "True"
      ]
     },
     "execution_count": 10,
     "metadata": {},
     "output_type": "execute_result"
    }
   ],
   "source": [
    "A = set([0])\n",
    "B = set([1])\n",
    "P(Z,A) + P(Z,B) == P(Z,A|B) # in python, set union ∪ is written | because an element is in A∪B if it is in A OR B (A|B)"
   ]
  },
  {
   "cell_type": "code",
   "execution_count": 11,
   "metadata": {},
   "outputs": [
    {
     "data": {
      "text/plain": [
       "False"
      ]
     },
     "execution_count": 11,
     "metadata": {},
     "output_type": "execute_result"
    }
   ],
   "source": [
    "A = set([0,1])\n",
    "B = set([0])\n",
    "P(Z,A) + P(Z,B) == P(Z,A|B)"
   ]
  },
  {
   "cell_type": "markdown",
   "metadata": {},
   "source": [
    "This last point brings up the fact that we can also talk about quantities like $P(\\mathbf Z \\in F)$, where $F$ is some set of possible events, like $\\{0,1\\}$. That's more general than the probability of a single event $z$: $P(\\mathbf Z = z)$. All we need to do is count up the volume of all the nugets that produce any of the values that are in $F$, instead of just the nuggets that produce $z$. Our code is already set up to do that- we used it to calculate `P(Z, set([0,1]))`."
   ]
  },
  {
   "cell_type": "markdown",
   "metadata": {},
   "source": [
    "<div class=\"alert alert-block alert-warning\">\n",
    "<b>Note:</b> \n",
    "\n",
    "This is as pretty much as rigorous as probability theory gets. The only other wrinkle is that when we start talking about random variables that can produce things like continuous values (of which there are an infinite number), technically we need to consider silos that are filled with infinite numbers of nuggets (that still all together occupy a volume of 1!). And, fun fact, it turns out that in this case there are some sets of nuggets that are distributed in such a messed up way within the silo that it is impossible to measure their volume. But they are of no practical importance and probabilists just ignore these sets and say that their probability is not defined (no joke)!\n",
    "</div>"
   ]
  },
  {
   "cell_type": "markdown",
   "metadata": {},
   "source": [
    "<div class=\"alert alert-block alert-info\">\n",
    "<b>Exercise:</b> \n",
    "\n",
    "We showed already that for $A,B \\subset \\Omega$, if $A \\cap B = 0$, then $P(A \\cup B) = P(A) + P(B)$. The sets $A$ and $B$ here are subsets of the *silo* of ore nuggets. Let $W_A$ be all of the values that get generated when pushing nuggets from $A$ through the factory $\\mathbf W$ and $W_B$ be the same for the set $B$. If $W_A$ and $W_B$ have no values in common, what can we say about $A$ and $B$? \n",
    "    \n",
    "What in turn does this mean about $P(A \\cup B)$?\n",
    "    \n",
    "Finally, what can we say about $P(\\mathbf W \\in W_A \\cup W_B)$ given $P(\\mathbf W \\in W_A)$ and $P(\\mathbf W \\in W_B)$?\n",
    "\n",
    "</div>"
   ]
  },
  {
   "cell_type": "markdown",
   "metadata": {},
   "source": [
    "<div class=\"alert alert-block alert-info\">\n",
    "<b>Exercise:</b> \n",
    "\n",
    "Let $\\mathbf W$ be as it is above. Let $W_A = \\{-1,0\\}$ and $W_B = \\{0, 1\\}$. The union of these two sets is $W_A \\cup W_B = \\{-1,0,1\\}$, but $P(\\mathbf W \\in W_A \\cup W_B) \\ne P(\\mathbf W \\in W_A) + P(\\mathbf W \\in W_B)$. Verify this is the case. Why is this the case? \n",
    "    \n",
    "Can you come up with a formula to calculate $P(\\mathbf W \\in W_A \\cup W_B)$ given $P(\\mathbf W \\in W_A)$, $P(\\mathbf W \\in  W_B)$, and $P(\\mathbf W \\in W_A \\cap W_B)$?\n",
    "\n",
    "</div>"
   ]
  },
  {
   "cell_type": "markdown",
   "metadata": {},
   "source": [
    "## Random variables are described by their probability distributions"
   ]
  },
  {
   "cell_type": "markdown",
   "metadata": {},
   "source": [
    "As perhaps you've noticed, neither the exact nature of what is in the silo nor which of its elements map to which events change the behavior of the random variable as long as the proportions of outcomes mapping to each event are the same. For example, we looked at two equivalent ways to implement our random variable $\\mathbf Z$:"
   ]
  },
  {
   "cell_type": "code",
   "execution_count": 12,
   "metadata": {},
   "outputs": [],
   "source": [
    "def Z(ω): \n",
    "    if ω in set([1,4,5,8,9]): \n",
    "        return 1\n",
    "    if ω in set([0,2,3,6,7]): \n",
    "        return 0\n",
    "Z.Ω = set([0,1,2,3,4,5,6,7,8,9]) "
   ]
  },
  {
   "cell_type": "code",
   "execution_count": 13,
   "metadata": {},
   "outputs": [],
   "source": [
    "def Z(ω): \n",
    "    if ω in set([-1234]): \n",
    "        return 1\n",
    "    if ω in set([980123]): \n",
    "        return 0\n",
    "Z.Ω = set([980123, -1234]) "
   ]
  },
  {
   "cell_type": "markdown",
   "metadata": {},
   "source": [
    "These are technically two different random variables because they have different sample spaces and different mappings to the events, but they behave exactly the same, which is the say they have the same probability distribution. The distribution of the random variable is nothing more than $P(\\mathbf Z=z)$ as a function of the event $z$:\n",
    "\n",
    "$$\n",
    "P(\\mathbf Z=z) =\n",
    "\\begin{cases}\n",
    "1/2 & \\text{for }z=0 \\\\\n",
    "1/2 & \\text{for }z=1\n",
    "\\end{cases}\n",
    "$$\n",
    "\n",
    "The probability distribution describes how the factory should *behave* from the perspective of someone who can only see its products $z_i$: half the time you get a 0, half the time you get a 1. There is no need to mention the silo of ore nuggets, give them names, and specify which nuggets are destined to be 0s and which are destined to be 1s. We know they're back there, and we know what *proportion* are destined to be 0s and 1s (since that's what the probability means), but we don't need the details. In fact, unless you're a probability theorist, you will never need to think about the sample space to solve a problem. The only reason you need to know about it is so that you can understand useful identities, which we will continue to derive as we go along."
   ]
  },
  {
   "cell_type": "markdown",
   "metadata": {},
   "source": [
    "The probability distribution can be thought of as a function of the factory product $z$. For each value of $z$, it tells us the total volume of the nuggets in the silo that map to that outcome. We can visualize that by taking sorting out all the nuggets in the silo into piles according to which value they are destined to become. The relative heights of each pile are proportional to the volume of space that each group of nuggets take up in the silo. Let's demonstrate with a new random variable $\\bf V$:"
   ]
  },
  {
   "cell_type": "code",
   "execution_count": 14,
   "metadata": {},
   "outputs": [],
   "source": [
    "def V(ω): \n",
    "    if ω in set([1]): \n",
    "        return 2\n",
    "    if ω in set([2,3]): \n",
    "        return 0\n",
    "    if ω in set([4,5,6]): \n",
    "        return -1\n",
    "    if ω in set([7,8,9,0]):\n",
    "        return 1\n",
    "V.Ω = set(range(10)) "
   ]
  },
  {
   "cell_type": "code",
   "execution_count": 15,
   "metadata": {},
   "outputs": [
    {
     "data": {
      "application/vnd.vegalite.v3+json": {
       "$schema": "https://vega.github.io/schema/vega-lite/v3.4.0.json",
       "config": {
        "mark": {
         "tooltip": null
        },
        "view": {
         "height": 300,
         "width": 400
        }
       },
       "data": {
        "name": "data-a7992e4d8081495d7eb4705b16985ea6"
       },
       "datasets": {
        "data-a7992e4d8081495d7eb4705b16985ea6": [
         {
          "p": 0.3,
          "v": -1
         },
         {
          "p": 0.2,
          "v": 0
         },
         {
          "p": 0.4,
          "v": 1
         },
         {
          "p": 0.1,
          "v": 2
         }
        ]
       },
       "encoding": {
        "x": {
         "field": "v",
         "type": "ordinal"
        },
        "y": {
         "field": "p",
         "type": "quantitative"
        }
       },
       "height": 100,
       "mark": "bar",
       "width": 400
      },
      "image/png": "[encoded data removed]",
      "text/plain": [
       "<VegaLite 3 object>\n",
       "\n",
       "If you see this message, it means the renderer has not been properly enabled\n",
       "for the frontend that you are using. For more information, see\n",
       "https://altair-viz.github.io/user_guide/troubleshooting.html\n"
      ]
     },
     "execution_count": 15,
     "metadata": {},
     "output_type": "execute_result"
    }
   ],
   "source": [
    "vs = [-1,0,1,2] # all the values v can take\n",
    "ps = [P(V,[v]) for v in vs] # calculate the probability of each\n",
    "import altair as alt # for plotting\n",
    "import pandas as pd # to make dataframes\n",
    "\n",
    "distribution = pd.DataFrame({'v':vs, 'p':ps})\n",
    "alt.Chart(distribution, height=100, width=400).mark_bar().encode(x='v:O', y='p')"
   ]
  },
  {
   "cell_type": "markdown",
   "metadata": {},
   "source": [
    "<div class=\"alert alert-block alert-warning\">\n",
    "<b>Python Tip:</b> \n",
    "\n",
    "`altair` is a useful python package for visualization. It's optimized to work with dataframes from the `pandas` package. Feel free to browse the documentation for these packages, but you don't need to be an expert to continue on in this book.\n",
    "</div>"
   ]
  },
  {
   "cell_type": "markdown",
   "metadata": {},
   "source": [
    "This is the graphical representation of the probability distribution\n",
    "\n",
    "$$\n",
    "P(\\mathbf V=v) \n",
    "= \n",
    "\\phi(v) \n",
    "= \n",
    "\\begin{cases}\n",
    "0.3 & \\text{for }v=-1 \\\\\n",
    "0.2 & \\text{for }v=0 \\\\\n",
    "0.4 & \\text{for }v=1 \\\\\n",
    "0.1 & \\text{for }v=2\n",
    "\\end{cases}\n",
    "$$"
   ]
  },
  {
   "cell_type": "markdown",
   "metadata": {},
   "source": [
    "$\\phi(v)$ is called a **probability mass function**. If we have multiple random variables floating around and we want to distinguish their mass functions, we'll sometimes write $\\phi_{\\mathbf V}(v)$."
   ]
  },
  {
   "cell_type": "markdown",
   "metadata": {},
   "source": [
    "If we want to know the probability of a particular set of events, say, $P(\\mathbf V \\in \\{0,1\\})$, it's easy to get using the density:\n",
    "\n",
    "$$P(\\mathbf V \\in A) = \\sum_{v \\in A} \\phi(v)$$\n",
    "\n",
    "We simply sum up the probabilities that $\\mathbf V$ is any of the events within the set $A$ of interest. The upshot is that we don't have to talk about $\\Omega$ anymore. All of the information we need to calculate any probabilities of $\\mathbf V$ is baked into the mass function $\\phi(v)$."
   ]
  },
  {
   "cell_type": "markdown",
   "metadata": {},
   "source": [
    "### Continuous random variables and densities"
   ]
  },
  {
   "cell_type": "markdown",
   "metadata": {},
   "source": [
    "So far, all the random variables we've talked about have produced outputs from a finite, discrete set (e.g. $\\{0,1\\}$ or $\\{-1,0,1,2\\}$). If we're imagining a the factory that might produce the data we observe when flipping a coin, a binary output is all we need. Similarly, if we want to imagine the factory that assigns an \"apple\", \"orange\", or \"banana\" label to a photograph of a fruit, it just needs to output a discrete set of three values. But if we want to imagine the kind of factory that could produce the prices of different apartments in New York, we need something that can output a continuous range of values."
   ]
  },
  {
   "cell_type": "markdown",
   "metadata": {},
   "source": [
    "Let's think up a random variable (call it $\\bf Z$ again) that can take any value between 0 and 10. How many numbers are there between 0 and 10? Well, an infinite number: for any two numbers in that interval, you can find a number that's right between them. Since one nugget from the silo always prodcues the same event when pushed through the factory, there need to be an infinite number of nuggets in the silo to be able to produce an infinite number of events. That means our old code, where we manually enumerated all of the elements in $\\Omega$, is not going to work anymore. What we can do instead is imagine that $\\Omega$ is itself an interval, like all the numbers between 0 and 1. So, to pick a random nugget to throw into the factory, we just pick a random number between 0 and 1. Here's an example:"
   ]
  },
  {
   "cell_type": "code",
   "execution_count": 16,
   "metadata": {},
   "outputs": [],
   "source": [
    "def Z(ω): \n",
    "    return 10*(ω**2) # when ω goes into the factory, the factory makes ω^2\n",
    "Z.Ω = random.random # returns a single number between 0 and 1 when called\n",
    "\n",
    "def realize_cont(rand_var): # run the assembly line!\n",
    "    ω = Z.Ω() # returns a single number between 0 and 1\n",
    "    return rand_var(ω) # push it through the factory"
   ]
  },
  {
   "cell_type": "code",
   "execution_count": 17,
   "metadata": {},
   "outputs": [
    {
     "data": {
      "text/plain": [
       "[9.686438661914726,\n",
       " 7.249601943411795,\n",
       " 2.92820519514289,\n",
       " 6.601299760715892,\n",
       " 5.996821909933374]"
      ]
     },
     "execution_count": 17,
     "metadata": {},
     "output_type": "execute_result"
    }
   ],
   "source": [
    "[realize_cont(Z) for i in range(5)]"
   ]
  },
  {
   "cell_type": "markdown",
   "metadata": {},
   "source": [
    "So $\\mathbf Z$ is defined by $\\mathbf Z(\\omega) = 10\\omega^2$ with $\\omega \\in [0,1]$. Great. But now what does $P(\\mathbf Z = z)$ mean? We just apply the same old definition of probability: it's the proportion of nuggets in the silo that are destined to become the value $z$. For the random variable $\\bf z$ we've defined above, how many nuggets become the value $2.5$? $\\mathbf Z$ transforms outcomes $\\omega$ into realizations $z$ by applying the function $z=10\\omega^2$, so the answer is just one: $\\omega = \\sqrt{2.5/10} = 0.5$. "
   ]
  },
  {
   "cell_type": "markdown",
   "metadata": {},
   "source": [
    "<div class=\"alert alert-block alert-warning\">\n",
    "<b>Note:</b> \n",
    "\n",
    "Notation like $[a,b]$ is often used to concisely write intervals- this just means \"all the numbers between $a$ and $b$, including those endpoints\". We use parentheses like $(a,b)$ to indicate that the endpoints should not be included. $(a,b]$ and $[a,b)$ have one of the two endpoints included, with the bracket indicating the endpoint that's included and the parenthesis indicating which isn't.\n",
    "</div>"
   ]
  },
  {
   "cell_type": "markdown",
   "metadata": {},
   "source": [
    "Thus to know $P(\\mathbf Z = 0.75)$ what we need to know is how much \"volume\" a single point ($\\omega = 0.5$) takes up within the interval $[0,1]$. The answer, which may not surprise you, is 0. If you want a rigorous argument for why that's the case, you have to pick up a real analysis or measure theory textbook. The implication is that for any (strictly) continuously-valued random variable, the probability of it taking any given value in particular is zero: $P(\\mathbf Z = z) = 0$, no matter what $z$ is. "
   ]
  },
  {
   "cell_type": "markdown",
   "metadata": {},
   "source": [
    "Well that kind of sucks. It would be great if we had some kind of function that would just tell us what the probability of different subsets of events is, like we have in the discrete case with the probability mass function: $P(\\mathbf V \\in A) = \\sum_{v \\in A} \\phi(v) = \\sum_{v \\in A} P(\\mathbf V = v)$. It was easy to do that for discrete random variables, but if we try to do the same for continuous random variables, this is what we get: \n",
    "\n",
    "$$\\sum_{z \\in A} P(\\mathbf Z = z) \\sum_{z \\in A} 0 = 0$$\n",
    "\n",
    "We get 0 no matter what set $A$ we choose. Furthermore, this formula doesn't even make sense unless the set of events is discrete and we can sum over them. But what if we want to know the probability that $\\mathbf Z$ is between 4 and 5? There is a continuous infinity of numbers between 4 and 5, so we can't sum over all of them discretely. And even if we could, $P(\\mathbf Z = z)$ would be zero for all of them, so the answser would still be zero no matter what. We need a different tool."
   ]
  },
  {
   "cell_type": "markdown",
   "metadata": {},
   "source": [
    "Let's go back to our example and work forward from the definition of the sample space and $\\mathbf Z$. What's the probability that the event $z$ is between two values $a$ and $b$? For instance, what's $P(\\mathbf Z \\in [2.5,9])$? Looking at the transformation $z = 10\\omega^2$, you can see that only values of $\\omega$ between $0.5$ and $0.3$ produce values between $2.5$ and $9$. The proportion of volume that the interval $[0.3, 0.5]$ takes up within the interval $[0,1]$ is is the length of the interval $[0.3, 0.5]$ (which is $0.2$) as a proportion of the length of the interval $[0,1]$ (which is 1). So $P(\\mathbf Z \\in [2.5,9]) = 0.2$!"
   ]
  },
  {
   "cell_type": "markdown",
   "metadata": {},
   "source": [
    "<div class=\"alert alert-block alert-info\">\n",
    "<b>Exercise:</b> \n",
    "\n",
    "Let $\\mathbf Z$ be as it is above. Find a formula for $P(\\mathbf Z \\in [a,b])$ for any values $a \\le b$ and $a,b \\in [0,10]$.\n",
    "\n",
    "</div>"
   ]
  },
  {
   "cell_type": "markdown",
   "metadata": {},
   "source": [
    "Mission accomplished? Not quite. We managed to calculate a probability given the sample space and random variable, but what we want is some kind of function that we can manipulate to calculate these probabilities without reference to the sample space at all. We don't want to have to think about what $\\Omega$ is or exactly how the different outcomes map to the different events."
   ]
  },
  {
   "cell_type": "markdown",
   "metadata": {},
   "source": [
    "So here's an idea: let's bin $z$ into 10 non-overlapping buckets, like $[0,1)$, $[1,2)$ ... $[9,10]$ and calculate the probability within each of those buckets. This is just like what we did in the discrete case. We're sorting all of the nuggets in the silo into different piles depending which set of values they are destined to become, and then measuring the volume of each pile. Here's what we get when we do that for the example random variable $\\bf z$ defined in the code above:"
   ]
  },
  {
   "cell_type": "code",
   "execution_count": 18,
   "metadata": {},
   "outputs": [
    {
     "data": {
      "application/vnd.vegalite.v3+json": {
       "$schema": "https://vega.github.io/schema/vega-lite/v3.4.0.json",
       "config": {
        "mark": {
         "tooltip": null
        },
        "view": {
         "height": 300,
         "width": 400
        }
       },
       "data": {
        "name": "data-238a944884c03662f4513bfe54e08e54"
       },
       "datasets": {
        "data-238a944884c03662f4513bfe54e08e54": [
         {
          "p": 0.31622776601683794,
          "z": "[0,1)"
         },
         {
          "p": 0.13098582948312,
          "z": "[1,2)"
         },
         {
          "p": 0.10050896200520815,
          "z": "[2,3)"
         },
         {
          "p": 0.08473297452850981,
          "z": "[3,4)"
         },
         {
          "p": 0.07465124915287169,
          "z": "[4,5)"
         },
         {
          "p": 0.06748988805493583,
          "z": "[5,6)"
         },
         {
          "p": 0.06206335729259216,
          "z": "[6,7)"
         },
         {
          "p": 0.05776716446584029,
          "z": "[7,8)"
         },
         {
          "p": 0.05425610705059791,
          "z": "[8,9)"
         },
         {
          "p": 0.05131670194948623,
          "z": "[9,10)"
         }
        ]
       },
       "encoding": {
        "x": {
         "field": "z",
         "type": "ordinal"
        },
        "y": {
         "field": "p",
         "type": "quantitative"
        }
       },
       "height": 100,
       "mark": "bar",
       "width": 400
      },
      "image/png": "[encoded data removed]",
      "text/plain": [
       "<VegaLite 3 object>\n",
       "\n",
       "If you see this message, it means the renderer has not been properly enabled\n",
       "for the frontend that you are using. For more information, see\n",
       "https://altair-viz.github.io/user_guide/troubleshooting.html\n"
      ]
     },
     "execution_count": 18,
     "metadata": {},
     "output_type": "execute_result"
    }
   ],
   "source": [
    "from math import sqrt\n",
    "\n",
    "def Pz(a,b):\n",
    "    return sqrt(b/10) - sqrt(a/10)\n",
    "\n",
    "zs = range(10)\n",
    "ps = [Pz(z,z+1) for z in zs]\n",
    "zs_labels = [f'[{z},{z+1})' for z in zs]\n",
    "\n",
    "distribution = pd.DataFrame({'z':zs_labels, 'p':ps})\n",
    "alt.Chart(distribution, height=100, width=400).mark_bar().encode(x='z:O', y='p')"
   ]
  },
  {
   "cell_type": "markdown",
   "metadata": {},
   "source": [
    "And why stop at 10 buckets? Let's split it up into 100."
   ]
  },
  {
   "cell_type": "code",
   "execution_count": 19,
   "metadata": {},
   "outputs": [
    {
     "data": {
      "application/vnd.vegalite.v3+json": {
       "$schema": "https://vega.github.io/schema/vega-lite/v3.4.0.json",
       "config": {
        "mark": {
         "tooltip": null
        },
        "view": {
         "height": 300,
         "width": 400
        }
       },
       "data": {
        "name": "data-87b4328471ec72ce0c0a7b12465363e4"
       },
       "datasets": {
        "data-87b4328471ec72ce0c0a7b12465363e4": [
         {
          "p": 0.1,
          "z": "[0.0,0.1)"
         },
         {
          "p": 0.0414213562373095,
          "z": "[0.1,0.2)"
         },
         {
          "p": 0.031783724519578255,
          "z": "[0.2,0.30000000000000004)"
         },
         {
          "p": 0.026794919243112253,
          "z": "[0.30000000000000004,0.4)"
         },
         {
          "p": 0.023606797749978953,
          "z": "[0.4,0.5)"
         },
         {
          "p": 0.021342176528338835,
          "z": "[0.5,0.6)"
         },
         {
          "p": 0.019626156828141256,
          "z": "[0.6000000000000001,0.7000000000000001)"
         },
         {
          "p": 0.018267581368159924,
          "z": "[0.7000000000000001,0.8)"
         },
         {
          "p": 0.017157287525380982,
          "z": "[0.8,0.9)"
         },
         {
          "p": 0.016227766016837952,
          "z": "[0.9,1.0)"
         },
         {
          "p": 0.015434713018702084,
          "z": "[1.0,1.1)"
         },
         {
          "p": 0.014747682478235491,
          "z": "[1.1,1.2000000000000002)"
         },
         {
          "p": 0.01414496603262344,
          "z": "[1.2000000000000002,1.3000000000000003)"
         },
         {
          "p": 0.01361061113099521,
          "z": "[1.3,1.4000000000000001)"
         },
         {
          "p": 0.013132595943347536,
          "z": "[1.4000000000000001,1.5000000000000002)"
         },
         {
          "p": 0.01270166537925832,
          "z": "[1.5,1.6)"
         },
         {
          "p": 0.012310562561766047,
          "z": "[1.6,1.7000000000000002)"
         },
         {
          "p": 0.011953506150162496,
          "z": "[1.7000000000000002,1.8000000000000003)"
         },
         {
          "p": 0.01162582564213882,
          "z": "[1.8,1.9000000000000001)"
         },
         {
          "p": 0.011323701145890597,
          "z": "[1.9000000000000001,2.0)"
         },
         {
          "p": 0.011043973995626122,
          "z": "[2.0,2.1)"
         },
         {
          "p": 0.010784006486758924,
          "z": "[2.1,2.2)"
         },
         {
          "p": 0.010541576348928994,
          "z": "[2.2,2.3000000000000003)"
         },
         {
          "p": 0.010314796225363687,
          "z": "[2.3000000000000003,2.4000000000000004)"
         },
         {
          "p": 0.010102051443364346,
          "z": "[2.4000000000000004,2.5000000000000004)"
         },
         {
          "p": 0.009901951359278516,
          "z": "[2.5,2.6)"
         },
         {
          "p": 0.009713290911384731,
          "z": "[2.6,2.7)"
         },
         {
          "p": 0.009535019942254919,
          "z": "[2.7,2.8000000000000003)"
         },
         {
          "p": 0.00936621850053232,
          "z": "[2.8000000000000003,2.9000000000000004)"
         },
         {
          "p": 0.0092060767917157,
          "z": "[2.9000000000000004,3.0000000000000004)"
         },
         {
          "p": 0.009053878777836144,
          "z": "[3.0,3.1)"
         },
         {
          "p": 0.008908988666235795,
          "z": "[3.1,3.2)"
         },
         {
          "p": 0.008770839704564826,
          "z": "[3.2,3.3000000000000003)"
         },
         {
          "p": 0.008638924830727257,
          "z": "[3.3000000000000003,3.4000000000000004)"
         },
         {
          "p": 0.008512788825431494,
          "z": "[3.4000000000000004,3.5000000000000004)"
         },
         {
          "p": 0.008392021690038387,
          "z": "[3.5,3.6)"
         },
         {
          "p": 0.008276253029821934,
          "z": "[3.6,3.7)"
         },
         {
          "p": 0.008165147267075734,
          "z": "[3.7,3.8000000000000003)"
         },
         {
          "p": 0.008058399542942185,
          "z": "[3.8000000000000003,3.9000000000000004)"
         },
         {
          "p": 0.007955732193836051,
          "z": "[3.9000000000000004,4.0)"
         },
         {
          "p": 0.007856891709609015,
          "z": "[4.0,4.1)"
         },
         {
          "p": 0.007761646097501185,
          "z": "[4.1000000000000005,4.2)"
         },
         {
          "p": 0.007669782589413976,
          "z": "[4.2,4.3)"
         },
         {
          "p": 0.007581105640879882,
          "z": "[4.3,4.3999999999999995)"
         },
         {
          "p": 0.0074954351788568685,
          "z": "[4.4,4.5)"
         },
         {
          "p": 0.007412605062589894,
          "z": "[4.5,4.6)"
         },
         {
          "p": 0.007332461727577511,
          "z": "[4.6000000000000005,4.7)"
         },
         {
          "p": 0.0072548629874464865,
          "z": "[4.7,4.8)"
         },
         {
          "p": 0.007179676972449034,
          "z": "[4.800000000000001,4.9)"
         },
         {
          "p": 0.007106781186547506,
          "z": "[4.9,5.0)"
         },
         {
          "p": 0.007036061667737403,
          "z": "[5.0,5.1)"
         },
         {
          "p": 0.006967412238512938,
          "z": "[5.1000000000000005,5.2)"
         },
         {
          "p": 0.006900733835253914,
          "z": "[5.2,5.3)"
         },
         {
          "p": 0.006835933906901626,
          "z": "[5.300000000000001,5.4)"
         },
         {
          "p": 0.006772925874612867,
          "z": "[5.4,5.5)"
         },
         {
          "p": 0.006711628645221901,
          "z": "[5.5,5.6)"
         },
         {
          "p": 0.006651966172286694,
          "z": "[5.6000000000000005,5.7)"
         },
         {
          "p": 0.00659386705931575,
          "z": "[5.7,5.8)"
         },
         {
          "p": 0.006537264200469961,
          "z": "[5.800000000000001,5.9)"
         },
         {
          "p": 0.006482094454622556,
          "z": "[5.9,6.0)"
         },
         {
          "p": 0.006428298349182016,
          "z": "[6.0,6.1)"
         },
         {
          "p": 0.006375819810515604,
          "z": "[6.1000000000000005,6.2)"
         },
         {
          "p": 0.006324605918196058,
          "z": "[6.2,6.3)"
         },
         {
          "p": 0.006274606680622741,
          "z": "[6.300000000000001,6.4)"
         },
         {
          "p": 0.00622577482985498,
          "z": "[6.4,6.5)"
         },
         {
          "p": 0.0061780656337410145,
          "z": "[6.5,6.6)"
         },
         {
          "p": 0.00613143672364902,
          "z": "[6.6000000000000005,6.7)"
         },
         {
          "p": 0.00608584793628697,
          "z": "[6.7,6.8)"
         },
         {
          "p": 0.006041261168275414,
          "z": "[6.800000000000001,6.9)"
         },
         {
          "p": 0.00599764024226801,
          "z": "[6.9,7.0)"
         },
         {
          "p": 0.005954950783560231,
          "z": "[7.0,7.1)"
         },
         {
          "p": 0.005913160106221116,
          "z": "[7.1000000000000005,7.2)"
         },
         {
          "p": 0.005872237107896083,
          "z": "[7.2,7.3)"
         },
         {
          "p": 0.0058321521725094305,
          "z": "[7.300000000000001,7.4)"
         },
         {
          "p": 0.005792877080175951,
          "z": "[7.4,7.5)"
         },
         {
          "p": 0.005754384923696065,
          "z": "[7.5,7.6)"
         },
         {
          "p": 0.005716650031077575,
          "z": "[7.6000000000000005,7.7)"
         },
         {
          "p": 0.005679647893572448,
          "z": "[7.7,7.8)"
         },
         {
          "p": 0.005643355098774228,
          "z": "[7.800000000000001,7.9)"
         },
         {
          "p": 0.005607749268356943,
          "z": "[7.9,8.0)"
         },
         {
          "p": 0.005572809000084167,
          "z": "[8.0,8.1)"
         },
         {
          "p": 0.005538513813741597,
          "z": "[8.1,8.2)"
         },
         {
          "p": 0.005504844100688189,
          "z": "[8.200000000000001,8.3)"
         },
         {
          "p": 0.00547178107673818,
          "z": "[8.3,8.4)"
         },
         {
          "p": 0.005439306738120653,
          "z": "[8.4,8.5)"
         },
         {
          "p": 0.005407403820281598,
          "z": "[8.5,8.6)"
         },
         {
          "p": 0.005376055759311105,
          "z": "[8.6,8.7)"
         },
         {
          "p": 0.005345246655804381,
          "z": "[8.700000000000001,8.8)"
         },
         {
          "p": 0.005314961240974414,
          "z": "[8.8,8.9)"
         },
         {
          "p": 0.005285184844853408,
          "z": "[8.9,9.0)"
         },
         {
          "p": 0.005255903366431891,
          "z": "[9.0,9.1)"
         },
         {
          "p": 0.005227103245598164,
          "z": "[9.1,9.2)"
         },
         {
          "p": 0.005198771436751626,
          "z": "[9.200000000000001,9.3)"
         },
         {
          "p": 0.005170895383970309,
          "z": "[9.3,9.4)"
         },
         {
          "p": 0.005143462997630466,
          "z": "[9.4,9.5)"
         },
         {
          "p": 0.005116462632374863,
          "z": "[9.5,9.6)"
         },
         {
          "p": 0.005089883066339174,
          "z": "[9.600000000000001,9.700000000000001)"
         },
         {
          "p": 0.005063713481556098,
          "z": "[9.700000000000001,9.8)"
         },
         {
          "p": 0.005037943445453386,
          "z": "[9.8,9.9)"
         },
         {
          "p": 0.005012562893380035,
          "z": "[9.9,10.0)"
         }
        ]
       },
       "encoding": {
        "x": {
         "axis": null,
         "field": "z",
         "type": "ordinal"
        },
        "y": {
         "field": "p",
         "type": "quantitative"
        }
       },
       "height": 100,
       "mark": "bar",
       "width": 400
      },
      "image/png": "[encoded data removed]",
      "text/plain": [
       "<VegaLite 3 object>\n",
       "\n",
       "If you see this message, it means the renderer has not been properly enabled\n",
       "for the frontend that you are using. For more information, see\n",
       "https://altair-viz.github.io/user_guide/troubleshooting.html\n"
      ]
     },
     "execution_count": 19,
     "metadata": {},
     "output_type": "execute_result"
    }
   ],
   "source": [
    "zs = np.arange(0,10,0.1)\n",
    "ps = [Pz(z,z+0.1) for z in zs]\n",
    "zs_labels = [f'[{z},{z+0.1})' for z in zs]\n",
    "\n",
    "distribution = pd.DataFrame({'z':zs_labels, 'p':ps})\n",
    "alt.Chart(distribution, height=100, width=400).mark_bar().encode(alt.X('z:O',axis=None), y='p')"
   ]
  },
  {
   "cell_type": "markdown",
   "metadata": {},
   "source": [
    "More buckets gives us more information. If we want to know $P(\\mathbf Z \\in [0,0.5))$, for instance, we can sum up the probabilities for the buckets $[0,0.1)$, $[0.1,0.2)$, ... $[0.4,0.5)$. But we can't get *any* probability. The graph doesn't have enough information to let us calculate probabilities over intervals whose ends are between two cutpoints of the buckets. It only has resolution up to increments of $0.1$ in terms of $z$. It would be nice to have a graph that lets us read off arbitrary probabilities like $P(\\mathbf Z \\in [a,b])$ just by looking at how much \"stuff\" there is between $a$ and $b$. Something like this:"
   ]
  },
  {
   "cell_type": "code",
   "execution_count": 30,
   "metadata": {},
   "outputs": [
    {
     "data": {
      "application/vnd.vegalite.v3+json": {
       "$schema": "https://vega.github.io/schema/vega-lite/v3.4.0.json",
       "config": {
        "mark": {
         "tooltip": null
        },
        "view": {
         "height": 300,
         "width": 400
        }
       },
       "data": {
        "name": "data-c101341a031f7d31f56b8b1aa832611d"
       },
       "datasets": {
        "data-c101341a031f7d31f56b8b1aa832611d": [
         {
          "p": 0.5,
          "z": 0.1
         },
         {
          "p": 0.35355339059327373,
          "z": 0.2
         },
         {
          "p": 0.28867513459481287,
          "z": 0.30000000000000004
         },
         {
          "p": 0.25,
          "z": 0.4
         },
         {
          "p": 0.22360679774997896,
          "z": 0.5
         },
         {
          "p": 0.20412414523193154,
          "z": 0.6
         },
         {
          "p": 0.1889822365046136,
          "z": 0.7000000000000001
         },
         {
          "p": 0.17677669529663687,
          "z": 0.8
         },
         {
          "p": 0.16666666666666666,
          "z": 0.9
         },
         {
          "p": 0.15811388300841897,
          "z": 1
         },
         {
          "p": 0.15075567228888181,
          "z": 1.1
         },
         {
          "p": 0.14433756729740643,
          "z": 1.2000000000000002
         },
         {
          "p": 0.13867504905630726,
          "z": 1.3000000000000003
         },
         {
          "p": 0.13363062095621217,
          "z": 1.4000000000000001
         },
         {
          "p": 0.12909944487358055,
          "z": 1.5000000000000002
         },
         {
          "p": 0.125,
          "z": 1.6
         },
         {
          "p": 0.12126781251816648,
          "z": 1.7000000000000002
         },
         {
          "p": 0.1178511301977579,
          "z": 1.8000000000000003
         },
         {
          "p": 0.11470786693528087,
          "z": 1.9000000000000001
         },
         {
          "p": 0.11180339887498948,
          "z": 2
         },
         {
          "p": 0.1091089451179962,
          "z": 2.1
         },
         {
          "p": 0.10660035817780521,
          "z": 2.2
         },
         {
          "p": 0.10425720702853737,
          "z": 2.3000000000000003
         },
         {
          "p": 0.10206207261596574,
          "z": 2.4000000000000004
         },
         {
          "p": 0.1,
          "z": 2.5000000000000004
         },
         {
          "p": 0.09805806756909202,
          "z": 2.6
         },
         {
          "p": 0.09622504486493763,
          "z": 2.7
         },
         {
          "p": 0.0944911182523068,
          "z": 2.8000000000000003
         },
         {
          "p": 0.09284766908852592,
          "z": 2.9000000000000004
         },
         {
          "p": 0.09128709291752768,
          "z": 3.0000000000000004
         },
         {
          "p": 0.08980265101338746,
          "z": 3.1
         },
         {
          "p": 0.08838834764831843,
          "z": 3.2
         },
         {
          "p": 0.08703882797784893,
          "z": 3.3000000000000003
         },
         {
          "p": 0.08574929257125441,
          "z": 3.4000000000000004
         },
         {
          "p": 0.08451542547285164,
          "z": 3.5000000000000004
         },
         {
          "p": 0.08333333333333333,
          "z": 3.6
         },
         {
          "p": 0.08219949365267865,
          "z": 3.7
         },
         {
          "p": 0.08111071056538127,
          "z": 3.8000000000000003
         },
         {
          "p": 0.08006407690254357,
          "z": 3.9000000000000004
         },
         {
          "p": 0.07905694150420949,
          "z": 4
         },
         {
          "p": 0.07808688094430304,
          "z": 4.1
         },
         {
          "p": 0.07715167498104596,
          "z": 4.2
         },
         {
          "p": 0.07624928516630233,
          "z": 4.3
         },
         {
          "p": 0.07537783614444092,
          "z": 4.3999999999999995
         },
         {
          "p": 0.07453559924999299,
          "z": 4.5
         },
         {
          "p": 0.07372097807744857,
          "z": 4.6
         },
         {
          "p": 0.07293249574894728,
          "z": 4.7
         },
         {
          "p": 0.07216878364870323,
          "z": 4.8
         },
         {
          "p": 0.07142857142857142,
          "z": 4.9
         },
         {
          "p": 0.07071067811865475,
          "z": 5
         },
         {
          "p": 0.07001400420140048,
          "z": 5.1
         },
         {
          "p": 0.06933752452815364,
          "z": 5.2
         },
         {
          "p": 0.06868028197434452,
          "z": 5.3
         },
         {
          "p": 0.06804138174397717,
          "z": 5.4
         },
         {
          "p": 0.06741998624632421,
          "z": 5.5
         },
         {
          "p": 0.0668153104781061,
          "z": 5.6
         },
         {
          "p": 0.06622661785325219,
          "z": 5.7
         },
         {
          "p": 0.06565321642986127,
          "z": 5.8
         },
         {
          "p": 0.06509445549041194,
          "z": 5.9
         },
         {
          "p": 0.06454972243679027,
          "z": 6
         },
         {
          "p": 0.06401843996644799,
          "z": 6.1
         },
         {
          "p": 0.06350006350009525,
          "z": 6.2
         },
         {
          "p": 0.0629940788348712,
          "z": 6.3
         },
         {
          "p": 0.0625,
          "z": 6.4
         },
         {
          "p": 0.062017367294604234,
          "z": 6.5
         },
         {
          "p": 0.06154574548966636,
          "z": 6.6
         },
         {
          "p": 0.06108472217815261,
          "z": 6.7
         },
         {
          "p": 0.06063390625908324,
          "z": 6.8
         },
         {
          "p": 0.0601929265428846,
          "z": 6.9
         },
         {
          "p": 0.05976143046671968,
          "z": 7
         },
         {
          "p": 0.05933908290969266,
          "z": 7.1
         },
         {
          "p": 0.05892556509887897,
          "z": 7.2
         },
         {
          "p": 0.058520573598065284,
          "z": 7.3
         },
         {
          "p": 0.05812381937190964,
          "z": 7.4
         },
         {
          "p": 0.05773502691896257,
          "z": 7.5
         },
         {
          "p": 0.057353933467640436,
          "z": 7.6
         },
         {
          "p": 0.05698028822981897,
          "z": 7.7
         },
         {
          "p": 0.05661385170722978,
          "z": 7.8
         },
         {
          "p": 0.0562543950463012,
          "z": 7.9
         },
         {
          "p": 0.05590169943749474,
          "z": 8
         },
         {
          "p": 0.05555555555555555,
          "z": 8.1
         },
         {
          "p": 0.05521576303742327,
          "z": 8.2
         },
         {
          "p": 0.05488212999484517,
          "z": 8.3
         },
         {
          "p": 0.0545544725589981,
          "z": 8.4
         },
         {
          "p": 0.05423261445466404,
          "z": 8.5
         },
         {
          "p": 0.053916386601719206,
          "z": 8.6
         },
         {
          "p": 0.05360562674188974,
          "z": 8.7
         },
         {
          "p": 0.053300179088902604,
          "z": 8.8
         },
         {
          "p": 0.052999894000318,
          "z": 8.9
         },
         {
          "p": 0.05270462766947299,
          "z": 9
         },
         {
          "p": 0.052414241836095915,
          "z": 9.1
         },
         {
          "p": 0.05212860351426869,
          "z": 9.2
         },
         {
          "p": 0.05184758473652126,
          "z": 9.3
         },
         {
          "p": 0.05157106231293967,
          "z": 9.4
         },
         {
          "p": 0.051298917604257706,
          "z": 9.5
         },
         {
          "p": 0.051031036307982884,
          "z": 9.6
         },
         {
          "p": 0.050767308256680944,
          "z": 9.700000000000001
         },
         {
          "p": 0.050507627227610534,
          "z": 9.8
         },
         {
          "p": 0.050251890762960605,
          "z": 9.9
         }
        ]
       },
       "encoding": {
        "x": {
         "field": "z",
         "type": "quantitative"
        },
        "y": {
         "field": "p",
         "type": "quantitative"
        }
       },
       "height": 100,
       "mark": "area",
       "width": 400
      },
      "image/png": "[encoded data removed]",
      "text/plain": [
       "<VegaLite 3 object>\n",
       "\n",
       "If you see this message, it means the renderer has not been properly enabled\n",
       "for the frontend that you are using. For more information, see\n",
       "https://altair-viz.github.io/user_guide/troubleshooting.html\n"
      ]
     },
     "execution_count": 30,
     "metadata": {},
     "output_type": "execute_result"
    }
   ],
   "source": [
    "z = np.arange(0.1,10,0.1)\n",
    "p = 1/(2*np.sqrt(10*z)) # magic, for now...\n",
    "\n",
    "distribution = pd.DataFrame({'z':z, 'p':p})\n",
    "alt.Chart(distribution, height=100, width=400).mark_area().encode(x='z', y='p')"
   ]
  },
  {
   "cell_type": "markdown",
   "metadata": {},
   "source": [
    "Before I explain how I managed to make this graph, which is called a **density plot**, I want to establish an intuition for what it means. We've gone from 10 buckets, to 100 buckets, to \"infinite\" buckets. I like to think of these pictures literally: all the outcomes $\\omega$ neatly piled up on top of the labels $z$ for the values they will become. So to get $P(\\mathbf Z \\in [a,b])$ from this picture, which is just the volume of outcomes that map to values between $a$ and $b$, all we need to do is see how much stuff there is piled up between $a$ and $b$ in the picture. "
   ]
  },
  {
   "cell_type": "markdown",
   "metadata": {},
   "source": [
    "To do this, we turn to a useful tool from calculus: the integral. To make the picture above, we need a curve $\\phi(z)$ such that the area under $f$ between $a$ and $b$ is $P(\\mathbf Z \\in [a,b])$ for all values $a$ and $b$. In the previous exercise you should have figured out that $P(\\mathbf Z \\in [a,b]) = \\sqrt{\\frac{b}{10}} - \\sqrt{\\frac{a}{10}}$. So what we need is the curve $\\phi(z)$ that satisfies this equation:\n",
    "\n",
    "$$\\int_a^b \\phi(z) dz = P(\\mathbf Z \\in [a,b]) = \\sqrt{\\frac{b}{10}} - \\sqrt{\\frac{a}{10}}$$"
   ]
  },
  {
   "cell_type": "markdown",
   "metadata": {},
   "source": [
    "Looking at the integral equation, it's clear that $\\Phi(z) = \\sqrt{\\frac{z}{10}}$ is the antiderivative of $\\phi(z)$, so all we need to do to get $\\phi$ is differentiate $\\Phi$:\n",
    "\n",
    "$$\\phi(z) = \\frac{d\\Phi(z)}{dz} = \\frac{d}{dz} \\sqrt{\\frac{z}{10}} = \\frac{1}{2\\sqrt{10z}}$$"
   ]
  },
  {
   "cell_type": "markdown",
   "metadata": {},
   "source": [
    "<div class=\"alert alert-block alert-warning\">\n",
    "<b>Note:</b> \n",
    "\n",
    "If this doesn't make any sense to you, you should stop and go review a friendly calculus book or any of the great online resources on the topic.\n",
    "</div>"
   ]
  },
  {
   "cell_type": "markdown",
   "metadata": {},
   "source": [
    "Now the line `ps = [1/(2*sqrt(10*z)) for z in zs]` in the code above should make sense to you."
   ]
  },
  {
   "cell_type": "markdown",
   "metadata": {},
   "source": [
    "The function $\\phi(z)$ is called a **probability density function** (PDF), which is the continuous equivalent of the probability mass function. Its integral $\\Phi(z) = \\int_{-\\infty}^z \\phi(t)dt = P(\\mathbf Z \\le z)$ is called a **cumulative density function** (CDF). Either of these functions tell you everything you need to know about probabilities of the random variable $\\mathbf Z$. The probability that $\\mathbf Z$ takes any of the values in an arbitrary set $A$ is \n",
    "\n",
    "$$P(\\mathbf Z \\in A) = \\int_{A} \\phi(z) dz$$"
   ]
  },
  {
   "cell_type": "markdown",
   "metadata": {},
   "source": [
    "This works the same way as the probability mass function for a discrete random variable $\\mathbf V$:\n",
    "\n",
    "$$P(\\mathbf V \\in A) = \\sum_{v \\in A} \\phi(v)$$"
   ]
  },
  {
   "cell_type": "code",
   "execution_count": 49,
   "metadata": {},
   "outputs": [
    {
     "data": {
      "application/vnd.vegalite.v3+json": {
       "$schema": "https://vega.github.io/schema/vega-lite/v3.4.0.json",
       "config": {
        "mark": {
         "tooltip": null
        },
        "view": {
         "height": 300,
         "width": 400
        }
       },
       "datasets": {
        "data-38281cf2c0e1505142c3c5058c2c3093": [
         {
          "A": true,
          "p": 0.15811388300841897,
          "z": 1
         },
         {
          "A": true,
          "p": 0.15075567228888181,
          "z": 1.1
         },
         {
          "A": true,
          "p": 0.14433756729740643,
          "z": 1.2000000000000002
         },
         {
          "A": true,
          "p": 0.13867504905630726,
          "z": 1.3000000000000003
         },
         {
          "A": true,
          "p": 0.13363062095621217,
          "z": 1.4000000000000001
         },
         {
          "A": true,
          "p": 0.12909944487358055,
          "z": 1.5000000000000002
         },
         {
          "A": true,
          "p": 0.125,
          "z": 1.6
         },
         {
          "A": true,
          "p": 0.12126781251816648,
          "z": 1.7000000000000002
         },
         {
          "A": true,
          "p": 0.1178511301977579,
          "z": 1.8000000000000003
         },
         {
          "A": true,
          "p": 0.11470786693528087,
          "z": 1.9000000000000001
         },
         {
          "A": true,
          "p": 0.11180339887498948,
          "z": 2
         },
         {
          "A": true,
          "p": 0.1091089451179962,
          "z": 2.1
         },
         {
          "A": true,
          "p": 0.10660035817780521,
          "z": 2.2
         },
         {
          "A": true,
          "p": 0.10425720702853737,
          "z": 2.3000000000000003
         },
         {
          "A": true,
          "p": 0.10206207261596574,
          "z": 2.4000000000000004
         },
         {
          "A": true,
          "p": 0.1,
          "z": 2.5000000000000004
         },
         {
          "A": true,
          "p": 0.09805806756909202,
          "z": 2.6
         },
         {
          "A": true,
          "p": 0.09622504486493763,
          "z": 2.7
         },
         {
          "A": true,
          "p": 0.0944911182523068,
          "z": 2.8000000000000003
         },
         {
          "A": true,
          "p": 0.09284766908852592,
          "z": 2.9000000000000004
         },
         {
          "A": true,
          "p": 0.09128709291752768,
          "z": 3.0000000000000004
         },
         {
          "A": true,
          "p": 0.08980265101338746,
          "z": 3.1
         },
         {
          "A": true,
          "p": 0.08838834764831843,
          "z": 3.2
         },
         {
          "A": true,
          "p": 0.08703882797784893,
          "z": 3.3000000000000003
         },
         {
          "A": true,
          "p": 0.08574929257125441,
          "z": 3.4000000000000004
         },
         {
          "A": true,
          "p": 0.08451542547285164,
          "z": 3.5000000000000004
         },
         {
          "A": true,
          "p": 0.08333333333333333,
          "z": 3.6
         },
         {
          "A": true,
          "p": 0.08219949365267865,
          "z": 3.7
         },
         {
          "A": true,
          "p": 0.08111071056538127,
          "z": 3.8000000000000003
         },
         {
          "A": true,
          "p": 0.08006407690254357,
          "z": 3.9000000000000004
         },
         {
          "A": true,
          "p": 0.07905694150420949,
          "z": 4
         }
        ],
        "data-89a8ddb88ed1bbce5b68460de5942481": [
         {
          "A": false,
          "p": 0.5,
          "z": 0.1
         },
         {
          "A": false,
          "p": 0.35355339059327373,
          "z": 0.2
         },
         {
          "A": false,
          "p": 0.28867513459481287,
          "z": 0.30000000000000004
         },
         {
          "A": false,
          "p": 0.25,
          "z": 0.4
         },
         {
          "A": false,
          "p": 0.22360679774997896,
          "z": 0.5
         },
         {
          "A": false,
          "p": 0.20412414523193154,
          "z": 0.6
         },
         {
          "A": false,
          "p": 0.1889822365046136,
          "z": 0.7000000000000001
         },
         {
          "A": false,
          "p": 0.17677669529663687,
          "z": 0.8
         },
         {
          "A": false,
          "p": 0.16666666666666666,
          "z": 0.9
         },
         {
          "A": true,
          "p": 0.15811388300841897,
          "z": 1
         },
         {
          "A": true,
          "p": 0.15075567228888181,
          "z": 1.1
         },
         {
          "A": true,
          "p": 0.14433756729740643,
          "z": 1.2000000000000002
         },
         {
          "A": true,
          "p": 0.13867504905630726,
          "z": 1.3000000000000003
         },
         {
          "A": true,
          "p": 0.13363062095621217,
          "z": 1.4000000000000001
         },
         {
          "A": true,
          "p": 0.12909944487358055,
          "z": 1.5000000000000002
         },
         {
          "A": true,
          "p": 0.125,
          "z": 1.6
         },
         {
          "A": true,
          "p": 0.12126781251816648,
          "z": 1.7000000000000002
         },
         {
          "A": true,
          "p": 0.1178511301977579,
          "z": 1.8000000000000003
         },
         {
          "A": true,
          "p": 0.11470786693528087,
          "z": 1.9000000000000001
         },
         {
          "A": true,
          "p": 0.11180339887498948,
          "z": 2
         },
         {
          "A": true,
          "p": 0.1091089451179962,
          "z": 2.1
         },
         {
          "A": true,
          "p": 0.10660035817780521,
          "z": 2.2
         },
         {
          "A": true,
          "p": 0.10425720702853737,
          "z": 2.3000000000000003
         },
         {
          "A": true,
          "p": 0.10206207261596574,
          "z": 2.4000000000000004
         },
         {
          "A": true,
          "p": 0.1,
          "z": 2.5000000000000004
         },
         {
          "A": true,
          "p": 0.09805806756909202,
          "z": 2.6
         },
         {
          "A": true,
          "p": 0.09622504486493763,
          "z": 2.7
         },
         {
          "A": true,
          "p": 0.0944911182523068,
          "z": 2.8000000000000003
         },
         {
          "A": true,
          "p": 0.09284766908852592,
          "z": 2.9000000000000004
         },
         {
          "A": true,
          "p": 0.09128709291752768,
          "z": 3.0000000000000004
         },
         {
          "A": true,
          "p": 0.08980265101338746,
          "z": 3.1
         },
         {
          "A": true,
          "p": 0.08838834764831843,
          "z": 3.2
         },
         {
          "A": true,
          "p": 0.08703882797784893,
          "z": 3.3000000000000003
         },
         {
          "A": true,
          "p": 0.08574929257125441,
          "z": 3.4000000000000004
         },
         {
          "A": true,
          "p": 0.08451542547285164,
          "z": 3.5000000000000004
         },
         {
          "A": true,
          "p": 0.08333333333333333,
          "z": 3.6
         },
         {
          "A": true,
          "p": 0.08219949365267865,
          "z": 3.7
         },
         {
          "A": true,
          "p": 0.08111071056538127,
          "z": 3.8000000000000003
         },
         {
          "A": true,
          "p": 0.08006407690254357,
          "z": 3.9000000000000004
         },
         {
          "A": true,
          "p": 0.07905694150420949,
          "z": 4
         },
         {
          "A": false,
          "p": 0.07808688094430304,
          "z": 4.1
         },
         {
          "A": false,
          "p": 0.07715167498104596,
          "z": 4.2
         },
         {
          "A": false,
          "p": 0.07624928516630233,
          "z": 4.3
         },
         {
          "A": false,
          "p": 0.07537783614444092,
          "z": 4.3999999999999995
         },
         {
          "A": false,
          "p": 0.07453559924999299,
          "z": 4.5
         },
         {
          "A": false,
          "p": 0.07372097807744857,
          "z": 4.6
         },
         {
          "A": false,
          "p": 0.07293249574894728,
          "z": 4.7
         },
         {
          "A": false,
          "p": 0.07216878364870323,
          "z": 4.8
         },
         {
          "A": false,
          "p": 0.07142857142857142,
          "z": 4.9
         },
         {
          "A": false,
          "p": 0.07071067811865475,
          "z": 5
         },
         {
          "A": false,
          "p": 0.07001400420140048,
          "z": 5.1
         },
         {
          "A": false,
          "p": 0.06933752452815364,
          "z": 5.2
         },
         {
          "A": false,
          "p": 0.06868028197434452,
          "z": 5.3
         },
         {
          "A": false,
          "p": 0.06804138174397717,
          "z": 5.4
         },
         {
          "A": false,
          "p": 0.06741998624632421,
          "z": 5.5
         },
         {
          "A": false,
          "p": 0.0668153104781061,
          "z": 5.6
         },
         {
          "A": false,
          "p": 0.06622661785325219,
          "z": 5.7
         },
         {
          "A": false,
          "p": 0.06565321642986127,
          "z": 5.8
         },
         {
          "A": false,
          "p": 0.06509445549041194,
          "z": 5.9
         },
         {
          "A": false,
          "p": 0.06454972243679027,
          "z": 6
         },
         {
          "A": false,
          "p": 0.06401843996644799,
          "z": 6.1
         },
         {
          "A": false,
          "p": 0.06350006350009525,
          "z": 6.2
         },
         {
          "A": false,
          "p": 0.0629940788348712,
          "z": 6.3
         },
         {
          "A": false,
          "p": 0.0625,
          "z": 6.4
         },
         {
          "A": false,
          "p": 0.062017367294604234,
          "z": 6.5
         },
         {
          "A": false,
          "p": 0.06154574548966636,
          "z": 6.6
         },
         {
          "A": false,
          "p": 0.06108472217815261,
          "z": 6.7
         },
         {
          "A": false,
          "p": 0.06063390625908324,
          "z": 6.8
         },
         {
          "A": false,
          "p": 0.0601929265428846,
          "z": 6.9
         },
         {
          "A": false,
          "p": 0.05976143046671968,
          "z": 7
         },
         {
          "A": false,
          "p": 0.05933908290969266,
          "z": 7.1
         },
         {
          "A": false,
          "p": 0.05892556509887897,
          "z": 7.2
         },
         {
          "A": false,
          "p": 0.058520573598065284,
          "z": 7.3
         },
         {
          "A": false,
          "p": 0.05812381937190964,
          "z": 7.4
         },
         {
          "A": false,
          "p": 0.05773502691896257,
          "z": 7.5
         },
         {
          "A": false,
          "p": 0.057353933467640436,
          "z": 7.6
         },
         {
          "A": false,
          "p": 0.05698028822981897,
          "z": 7.7
         },
         {
          "A": false,
          "p": 0.05661385170722978,
          "z": 7.8
         },
         {
          "A": false,
          "p": 0.0562543950463012,
          "z": 7.9
         },
         {
          "A": false,
          "p": 0.05590169943749474,
          "z": 8
         },
         {
          "A": false,
          "p": 0.05555555555555555,
          "z": 8.1
         },
         {
          "A": false,
          "p": 0.05521576303742327,
          "z": 8.2
         },
         {
          "A": false,
          "p": 0.05488212999484517,
          "z": 8.3
         },
         {
          "A": false,
          "p": 0.0545544725589981,
          "z": 8.4
         },
         {
          "A": false,
          "p": 0.05423261445466404,
          "z": 8.5
         },
         {
          "A": false,
          "p": 0.053916386601719206,
          "z": 8.6
         },
         {
          "A": false,
          "p": 0.05360562674188974,
          "z": 8.7
         },
         {
          "A": false,
          "p": 0.053300179088902604,
          "z": 8.8
         },
         {
          "A": false,
          "p": 0.052999894000318,
          "z": 8.9
         },
         {
          "A": false,
          "p": 0.05270462766947299,
          "z": 9
         },
         {
          "A": false,
          "p": 0.052414241836095915,
          "z": 9.1
         },
         {
          "A": false,
          "p": 0.05212860351426869,
          "z": 9.2
         },
         {
          "A": false,
          "p": 0.05184758473652126,
          "z": 9.3
         },
         {
          "A": false,
          "p": 0.05157106231293967,
          "z": 9.4
         },
         {
          "A": false,
          "p": 0.051298917604257706,
          "z": 9.5
         },
         {
          "A": false,
          "p": 0.051031036307982884,
          "z": 9.6
         },
         {
          "A": false,
          "p": 0.050767308256680944,
          "z": 9.700000000000001
         },
         {
          "A": false,
          "p": 0.050507627227610534,
          "z": 9.8
         },
         {
          "A": false,
          "p": 0.050251890762960605,
          "z": 9.9
         }
        ]
       },
       "layer": [
        {
         "data": {
          "name": "data-89a8ddb88ed1bbce5b68460de5942481"
         },
         "encoding": {
          "x": {
           "field": "z",
           "type": "quantitative"
          },
          "y": {
           "field": "p",
           "type": "quantitative"
          }
         },
         "height": 100,
         "mark": "area",
         "width": 400
        },
        {
         "data": {
          "name": "data-38281cf2c0e1505142c3c5058c2c3093"
         },
         "encoding": {
          "x": {
           "field": "z",
           "type": "quantitative"
          },
          "y": {
           "field": "p",
           "type": "quantitative"
          }
         },
         "mark": {
          "color": "orange",
          "type": "area"
         }
        }
       ]
      },
      "image/png": "[encoded data removed]",
      "text/plain": [
       "<VegaLite 3 object>\n",
       "\n",
       "If you see this message, it means the renderer has not been properly enabled\n",
       "for the frontend that you are using. For more information, see\n",
       "https://altair-viz.github.io/user_guide/troubleshooting.html\n"
      ]
     },
     "execution_count": 49,
     "metadata": {},
     "output_type": "execute_result"
    }
   ],
   "source": [
    "A = (1<=z) & (z<=4)\n",
    "distribution = pd.DataFrame({'z':z, 'p':p, 'A':A})\n",
    "alt.Chart(distribution, height=100, width=400).mark_area().encode(\n",
    "    x='z',\n",
    "    y='p'\n",
    ") + alt.Chart(distribution.query('A')).mark_area(color='orange').encode(\n",
    "    x='z',\n",
    "    y='p'\n",
    ")"
   ]
  },
  {
   "cell_type": "markdown",
   "metadata": {},
   "source": [
    "For example, the probability that $\\mathbf Z$ is in the set $[1,4]$ is the area shaded in orange above."
   ]
  },
  {
   "cell_type": "markdown",
   "metadata": {},
   "source": [
    "<div class=\"alert alert-block alert-warning\">\n",
    "<b>Note:</b> \n",
    "\n",
    "The notation $\\int_{A} \\phi(z) dz$ just means $\\int_{-\\infty}^\\infty I_A(z)\\phi(z) dz$ where the <b>indicator function</b> $I_A(z)$ is 1 if $z\\in A$ and 0 else. In othe words, all we're doing is summing up the $\\phi(x)dx$s where $x \\in A$. That's analogous to summing up the $\\phi(v)$s where $v \\in A$ in the discrete case.\n",
    "\n",
    "</div>"
   ]
  },
  {
   "cell_type": "markdown",
   "metadata": {},
   "source": [
    "<div class=\"alert alert-block alert-info\">\n",
    "<b>Exercise:</b> \n",
    "\n",
    "For our random variable $\\mathbf Z$ with density $\\phi(z) =\\frac{1}{2\\sqrt{10z}}$, what is $P(\\mathbf Z \\in [0, 10])$? Calculate the probability by integrating the density function. Does your answer line up with what you expect based on our original definition of $\\mathbf Z$? \n",
    "    \n",
    "Here is another random variable that, like $\\mathbf Z$, maps outcomes in $\\Omega = [0,1]$ to values in $[0,10]$: $\\mathbf W(\\omega) = 10\\omega$. Calculate $P(\\mathbf W \\in [a,b])$ for some interval $[a,b]$. What is the probability density function for $\\mathbf W$? What is $P(\\mathbf W \\in [0, 10])$?\n",
    "    \n",
    "For <i>any</i> continuous random variable $\\mathbf X$, what is $\\int_{-\\infty}^{\\infty} \\phi(x) dx$ (<i>hint</i>: what probability does this represent)? What is $\\Phi(-\\infty)$? $\\Phi(\\infty)$? \n",
    "    \n",
    "Is it possible to have a random variable $\\mathbf Q$ with $\\phi_{\\mathbf Q}(q) < 0$ for some $q$ that is a possible event of $\\mathbf Q$? Why does this not make sense?\n",
    "    \n",
    "For two values $a < b$, is it possible that $\\Phi(a) > \\Phi(b)$? Why nor why not?\n",
    "    \n",
    "</div>"
   ]
  },
  {
   "cell_type": "markdown",
   "metadata": {},
   "source": [
    "At this point, talking about the outcomes $\\omega$ is kind of silly. If two random variables have the same probability mass function or the same probability density function, then, for all intents and purposes, they are the same random variable. It doens't matter exactly which outcomes map to which values, as long as the proportions are the same. We already demonstrated this in the discrete case.\n",
    "\n",
    "To show the same concept for continuous random variables, here is a new random variable $\\mathbf Z'$ whose sample space $\\Omega$ is $[-100, 100]$ instead of $[0,1]$, but which has the same probability density function as our other random variable $\\mathbf Z$: \n",
    "\n",
    "$$\n",
    "\\mathbf Z'(\\omega) = 10\\left(\\frac{\\omega+100}{200}\\right)^2\n",
    "$$"
   ]
  },
  {
   "cell_type": "markdown",
   "metadata": {},
   "source": [
    "<div class=\"alert alert-block alert-info\">\n",
    "<b>Exercise:</b> \n",
    "\n",
    "Prove to yourself that $\\mathbf Z'$ has the same probability density function as $\\mathbf Z$.\n",
    "    \n",
    "</div>"
   ]
  },
  {
   "cell_type": "markdown",
   "metadata": {},
   "source": [
    "For this we use the notation $\\mathbf Z \\sim \\mathbf Z'$. Technically they are not the same, since the sample spaces are different, but as far as an observer who is outside the curtain is concerned, there is no way to tell them apart. The *distribution* of the random variable is what really matters. "
   ]
  },
  {
   "cell_type": "markdown",
   "metadata": {},
   "source": [
    "### Histograms vs. mass and density functions"
   ]
  },
  {
   "cell_type": "markdown",
   "metadata": {},
   "source": [
    "Many of you are probably already familiar with histograms. Histograms are a way of visualizing observed data. Each observed value is stacked up on top of its approximate label (e.g. any $z$ between 0.5 and 1.5 is labeled \"1\") and the counts are plotted:"
   ]
  },
  {
   "cell_type": "code",
   "execution_count": 22,
   "metadata": {},
   "outputs": [
    {
     "data": {
      "application/vnd.vegalite.v3+json": {
       "$schema": "https://vega.github.io/schema/vega-lite/v3.4.0.json",
       "config": {
        "mark": {
         "tooltip": null
        },
        "view": {
         "height": 300,
         "width": 400
        }
       },
       "data": {
        "name": "data-7ca95c7d20b8abb2f78d98b0f0933ae9"
       },
       "datasets": {
        "data-7ca95c7d20b8abb2f78d98b0f0933ae9": [
         {
          "z": 1.7709188656629218
         },
         {
          "z": 9.31079809307186
         },
         {
          "z": 3.5672539334446003
         },
         {
          "z": 1.139108792929792
         },
         {
          "z": 5.12348131911846
         },
         {
          "z": 0.19073009322976092
         },
         {
          "z": 1.9814737753803917
         },
         {
          "z": 0.5980346634134649
         },
         {
          "z": 1.02100589539
         },
         {
          "z": 6.333849316786467
         },
         {
          "z": 0.02912782045600268
         },
         {
          "z": 9.189898702201402
         },
         {
          "z": 0.0108227069832838
         },
         {
          "z": 4.768020589674189
         },
         {
          "z": 0.2630615278458497
         },
         {
          "z": 3.932679195309273
         },
         {
          "z": 9.411290890874074
         },
         {
          "z": 4.469240646615168
         },
         {
          "z": 1.0819721032569616
         },
         {
          "z": 0.6710057417343174
         },
         {
          "z": 7.704645596405861
         },
         {
          "z": 2.016467770564658
         },
         {
          "z": 0.31759890029196347
         },
         {
          "z": 0.03520759136880105
         },
         {
          "z": 1.663419149026524
         },
         {
          "z": 2.7599042567143997
         },
         {
          "z": 0.13182776276560174
         },
         {
          "z": 0.9374519983670255
         },
         {
          "z": 4.939164608061648
         },
         {
          "z": 0.026866531016694496
         },
         {
          "z": 5.448337630372821
         },
         {
          "z": 0.3219616612315759
         },
         {
          "z": 3.373495500327693
         },
         {
          "z": 3.3705861523427028
         },
         {
          "z": 4.589558375712358
         },
         {
          "z": 0.03543744330284134
         },
         {
          "z": 1.468276579834735
         },
         {
          "z": 3.5220371958300607
         },
         {
          "z": 3.2145749178749785
         },
         {
          "z": 4.919868196419549
         },
         {
          "z": 0.38212711905652347
         },
         {
          "z": 3.65950105871161
         },
         {
          "z": 0.1875885801644489
         },
         {
          "z": 7.531125952057516
         },
         {
          "z": 6.350120214239211
         },
         {
          "z": 0.03600572425086797
         },
         {
          "z": 4.344032660230918
         },
         {
          "z": 4.536883555522005
         },
         {
          "z": 0.0004996758755311388
         },
         {
          "z": 8.686752874285261
         },
         {
          "z": 1.376404271163505
         },
         {
          "z": 5.911636266599177
         },
         {
          "z": 4.394243726345067
         },
         {
          "z": 8.198379185011998
         },
         {
          "z": 7.99267673013481
         },
         {
          "z": 2.459206186658482
         },
         {
          "z": 9.38580025332899
         },
         {
          "z": 0.12399601771612895
         },
         {
          "z": 0.7437476546234885
         },
         {
          "z": 1.447987169977383
         },
         {
          "z": 5.633617672223368
         },
         {
          "z": 0.12039918174740677
         },
         {
          "z": 0.08614463404245895
         },
         {
          "z": 0.207075802244345
         },
         {
          "z": 0.2739248229613023
         },
         {
          "z": 5.3175277857971945
         },
         {
          "z": 7.049351179301084
         },
         {
          "z": 5.065238454805473
         },
         {
          "z": 6.54926019419137
         },
         {
          "z": 0.6862625393164589
         },
         {
          "z": 5.711875850833147
         },
         {
          "z": 0.0002963537247446279
         },
         {
          "z": 5.959797772108036
         },
         {
          "z": 0.2605051002933392
         },
         {
          "z": 7.285518288318116
         },
         {
          "z": 9.246696643378055
         },
         {
          "z": 0.10327073972494583
         },
         {
          "z": 9.214596659754001
         },
         {
          "z": 3.7648873667998646
         },
         {
          "z": 3.4705145653641285
         },
         {
          "z": 2.313285358646298
         },
         {
          "z": 3.6700353012323212
         },
         {
          "z": 6.671444155099781
         },
         {
          "z": 3.690813657341419
         },
         {
          "z": 4.764686521413671
         },
         {
          "z": 0.03520642237829518
         },
         {
          "z": 4.062414588224056
         },
         {
          "z": 1.903263071112442
         },
         {
          "z": 0.39798809162944765
         },
         {
          "z": 9.186421259105593
         },
         {
          "z": 1.895080923996496
         },
         {
          "z": 1.7529462451528492
         },
         {
          "z": 2.7950403523340865
         },
         {
          "z": 2.0702587375496355
         },
         {
          "z": 1.1470651074931615
         },
         {
          "z": 3.8212863444681626
         },
         {
          "z": 7.0919399692734695
         },
         {
          "z": 0.0468550074643129
         },
         {
          "z": 3.8262504182469965
         },
         {
          "z": 0.44145793527945765
         },
         {
          "z": 0.8207428117668413
         },
         {
          "z": 2.4491279310169984
         },
         {
          "z": 2.2902348760218256
         },
         {
          "z": 1.7992993119533622
         },
         {
          "z": 4.519430822328648
         },
         {
          "z": 4.2085102209836736
         },
         {
          "z": 9.712459753670679
         },
         {
          "z": 0.254144863773514
         },
         {
          "z": 3.5946913469345043
         },
         {
          "z": 1.0803143067307035
         },
         {
          "z": 4.59930358422252
         },
         {
          "z": 0.6643881696097448
         },
         {
          "z": 3.6118813804901824
         },
         {
          "z": 3.7624005258371755
         },
         {
          "z": 0.0059168051560521675
         },
         {
          "z": 0.5756373111127793
         },
         {
          "z": 1.531686667130664
         },
         {
          "z": 1.584608360797686
         },
         {
          "z": 0.7106676355954998
         },
         {
          "z": 1.385264529687031
         },
         {
          "z": 0.826490380052197
         },
         {
          "z": 0.07466446444865575
         },
         {
          "z": 0.1635732897573488
         },
         {
          "z": 1.0174891810472044
         },
         {
          "z": 0.3721393390327019
         },
         {
          "z": 6.549349883867537
         },
         {
          "z": 1.8246501919314837
         },
         {
          "z": 0.060230738013465915
         },
         {
          "z": 6.384752284551627
         },
         {
          "z": 1.9869857166486018
         },
         {
          "z": 0.1920292519280646
         },
         {
          "z": 1.8275846681955565
         },
         {
          "z": 0.9214966750815011
         },
         {
          "z": 7.344146874422299
         },
         {
          "z": 9.943995640666724
         },
         {
          "z": 0.8350101502240654
         },
         {
          "z": 0.19403300806270948
         },
         {
          "z": 1.6670346505483171
         },
         {
          "z": 0.3160403797994033
         },
         {
          "z": 2.333555054961836
         },
         {
          "z": 3.2525883050938518
         },
         {
          "z": 0.7373923879846407
         },
         {
          "z": 7.87083737253682
         },
         {
          "z": 7.570138714558445
         },
         {
          "z": 0.10261184930251771
         },
         {
          "z": 8.088571056954347
         },
         {
          "z": 2.10519773219268
         },
         {
          "z": 7.032391718746983
         },
         {
          "z": 0.08670641340480695
         },
         {
          "z": 4.761185022952251
         },
         {
          "z": 0.06651605391077348
         },
         {
          "z": 0.008702734882732741
         },
         {
          "z": 0.6330759303976237
         },
         {
          "z": 9.730390209925641
         },
         {
          "z": 2.0112380739803033
         },
         {
          "z": 2.87911709572118
         },
         {
          "z": 6.286123476089831
         },
         {
          "z": 4.439044599870442
         },
         {
          "z": 2.6307062583555245
         },
         {
          "z": 2.884852426022235
         },
         {
          "z": 2.5490204292425216
         },
         {
          "z": 0.7481826765333112
         },
         {
          "z": 6.098473137738933
         },
         {
          "z": 6.205219510086395
         },
         {
          "z": 2.599065976900353
         },
         {
          "z": 0.06226621511443307
         },
         {
          "z": 5.953684528215568
         },
         {
          "z": 1.3829495804185963
         },
         {
          "z": 1.9156938215718087
         },
         {
          "z": 0.12529714845237053
         },
         {
          "z": 6.431267687162718
         },
         {
          "z": 4.454348391735707
         },
         {
          "z": 0.05432816899808794
         },
         {
          "z": 1.994942038535207
         },
         {
          "z": 0.8086864569767392
         },
         {
          "z": 3.306697427261562
         },
         {
          "z": 6.5971134524833275
         },
         {
          "z": 0.18139727904947267
         },
         {
          "z": 0.030626205203161876
         },
         {
          "z": 1.892439187579229
         },
         {
          "z": 8.144007691309783
         },
         {
          "z": 8.846455889453965
         },
         {
          "z": 0.0036448008695485427
         },
         {
          "z": 6.540018765790299
         },
         {
          "z": 2.4893939150593165
         },
         {
          "z": 2.797565012058558
         },
         {
          "z": 6.391778915703589
         },
         {
          "z": 0.9594847246944772
         },
         {
          "z": 7.898011163859151
         },
         {
          "z": 2.3260491295489802
         },
         {
          "z": 3.474243297729535
         },
         {
          "z": 7.522553875939128
         },
         {
          "z": 1.0564558397526917
         },
         {
          "z": 3.3576929755482245
         },
         {
          "z": 0.46377340349867213
         },
         {
          "z": 5.2228934605485025
         },
         {
          "z": 0.18593988835572384
         },
         {
          "z": 1.5503658323123894
         },
         {
          "z": 2.8870603114010867
         },
         {
          "z": 5.381736559245892
         },
         {
          "z": 0.6024783055202497
         },
         {
          "z": 0.2912479211652765
         },
         {
          "z": 3.610352660729665
         },
         {
          "z": 1.2039596869820979
         },
         {
          "z": 0.7975195361473942
         },
         {
          "z": 3.3687933838097894
         },
         {
          "z": 0.08560811517960613
         },
         {
          "z": 1.9537199091775423
         },
         {
          "z": 8.006780850224429
         },
         {
          "z": 6.909206093636264
         },
         {
          "z": 1.8978613080088254
         },
         {
          "z": 8.606751460541647
         },
         {
          "z": 5.197845661801821
         },
         {
          "z": 2.3676719408682207
         },
         {
          "z": 3.3385173595334336
         },
         {
          "z": 3.5324226305736968
         },
         {
          "z": 2.558613740546925
         },
         {
          "z": 9.989288350263143
         },
         {
          "z": 0.9662545262299455
         },
         {
          "z": 0.015612618871559429
         },
         {
          "z": 0.03870634570265801
         },
         {
          "z": 2.8799850174111725
         },
         {
          "z": 8.003068569223448
         },
         {
          "z": 5.508203048373234
         },
         {
          "z": 0.05184632150964589
         },
         {
          "z": 6.203948822270128
         },
         {
          "z": 0.17354681997231766
         },
         {
          "z": 1.2939323141451142
         },
         {
          "z": 0.09715652121276575
         },
         {
          "z": 2.3323870751934326
         },
         {
          "z": 0.8722488559902436
         },
         {
          "z": 0.1652113234121766
         },
         {
          "z": 3.6754594341393405
         },
         {
          "z": 0.8899671721547903
         },
         {
          "z": 7.835395158544949
         },
         {
          "z": 0.845454432124107
         },
         {
          "z": 5.555709997673031
         },
         {
          "z": 0.07930280285959962
         },
         {
          "z": 4.679174166046972
         },
         {
          "z": 0.9464233687522718
         },
         {
          "z": 5.42273609534964
         },
         {
          "z": 8.432636487166178
         },
         {
          "z": 0.1235290866737919
         },
         {
          "z": 3.1339805085441585
         },
         {
          "z": 0.3113973992564207
         },
         {
          "z": 0.05771234306314403
         },
         {
          "z": 1.57126956268058
         },
         {
          "z": 8.32085843958838
         },
         {
          "z": 6.214177843620155
         },
         {
          "z": 0.39578687470656426
         },
         {
          "z": 3.711888936833432
         },
         {
          "z": 4.776234965287025
         },
         {
          "z": 0.24744247897904442
         },
         {
          "z": 3.8590303138415862
         },
         {
          "z": 1.3030323635439771
         },
         {
          "z": 0.8607686122300804
         },
         {
          "z": 0.00036363129696492124
         },
         {
          "z": 1.1401320253352678
         },
         {
          "z": 2.3869578824636357
         },
         {
          "z": 0.6637801713993803
         },
         {
          "z": 3.42176930676312
         },
         {
          "z": 2.3616765230502574
         },
         {
          "z": 9.441251918880898
         },
         {
          "z": 3.270280244113893
         },
         {
          "z": 0.7629469932354498
         },
         {
          "z": 1.0137777514299204
         },
         {
          "z": 3.658162282705135
         },
         {
          "z": 3.2326622331492842
         },
         {
          "z": 0.00882656335370093
         },
         {
          "z": 7.832486303901276
         },
         {
          "z": 5.640264569115212
         },
         {
          "z": 1.0343675704037751
         },
         {
          "z": 1.3900057105075172
         },
         {
          "z": 2.7217157138005064
         },
         {
          "z": 9.24420686429619
         },
         {
          "z": 7.6681710085610755
         },
         {
          "z": 6.770515371096378
         },
         {
          "z": 6.890359167029589
         },
         {
          "z": 3.918938565743861
         },
         {
          "z": 7.01768904390497
         },
         {
          "z": 3.7122200156279557
         },
         {
          "z": 5.501752902807229
         },
         {
          "z": 6.283919607009526e-05
         },
         {
          "z": 3.5261705028130894
         },
         {
          "z": 8.850355744119431
         },
         {
          "z": 5.000121555354436
         },
         {
          "z": 0.11317261736245075
         },
         {
          "z": 2.475869577080031
         },
         {
          "z": 8.71466668637668
         },
         {
          "z": 0.6012071473970888
         },
         {
          "z": 1.6683251971431763
         },
         {
          "z": 0.7625463771207825
         },
         {
          "z": 8.356438019172785
         },
         {
          "z": 5.497965482339047
         },
         {
          "z": 0.7525312216465612
         },
         {
          "z": 4.288503865602546
         },
         {
          "z": 4.946303372589013
         },
         {
          "z": 2.3770465825116496
         },
         {
          "z": 6.2063525674212485
         },
         {
          "z": 0.002054315153089427
         },
         {
          "z": 0.08259062940199922
         },
         {
          "z": 6.170066883175236
         },
         {
          "z": 0.16942983988816276
         },
         {
          "z": 3.0020065582690214
         },
         {
          "z": 0.6971979675979638
         },
         {
          "z": 0.6079334158114337
         },
         {
          "z": 0.7855301857560014
         },
         {
          "z": 2.5342263324561176
         },
         {
          "z": 2.6529208502417614
         },
         {
          "z": 3.2148183034993485
         },
         {
          "z": 9.471932405188788
         },
         {
          "z": 0.20014687666049805
         },
         {
          "z": 0.1949287688212525
         },
         {
          "z": 9.549548295870917
         },
         {
          "z": 6.691567481491897
         },
         {
          "z": 8.331832338132353
         },
         {
          "z": 1.8973539379428543
         },
         {
          "z": 3.7699920107952245
         },
         {
          "z": 2.7357853804136276
         },
         {
          "z": 0.8389476141697019
         },
         {
          "z": 1.0859631112677057
         },
         {
          "z": 0.009022001783300022
         },
         {
          "z": 7.249641120641639
         },
         {
          "z": 7.735111214593403
         },
         {
          "z": 6.830648693640182
         },
         {
          "z": 0.03677511308274729
         },
         {
          "z": 3.121201584039179
         },
         {
          "z": 3.9462822574175753
         },
         {
          "z": 8.815315543624903
         },
         {
          "z": 0.00032354006744203176
         },
         {
          "z": 0.057590144352208904
         },
         {
          "z": 0.5821512140805741
         },
         {
          "z": 0.1976377571743321
         },
         {
          "z": 4.22581069056113
         },
         {
          "z": 1.7759759359909557
         },
         {
          "z": 7.555402939441985
         },
         {
          "z": 2.5455492832720354
         },
         {
          "z": 0.9751145600606269
         },
         {
          "z": 6.582457617865974
         },
         {
          "z": 3.2416376906083375
         },
         {
          "z": 0.29706423097753254
         },
         {
          "z": 1.871857281231106
         },
         {
          "z": 1.4526206897950744
         },
         {
          "z": 9.329018365550848
         },
         {
          "z": 3.868388241464925
         },
         {
          "z": 2.5173671695301
         },
         {
          "z": 3.594425441798617
         },
         {
          "z": 0.0007034375245199979
         },
         {
          "z": 2.945564342048685
         },
         {
          "z": 2.399319047369021
         },
         {
          "z": 9.833091548967166
         },
         {
          "z": 9.751357634931189
         },
         {
          "z": 3.381274116224569
         },
         {
          "z": 0.0008563091609008083
         },
         {
          "z": 4.990845151398919
         },
         {
          "z": 1.8214721274045425
         },
         {
          "z": 0.3874907506539941
         },
         {
          "z": 0.04685686764119062
         },
         {
          "z": 0.24865463059696657
         },
         {
          "z": 0.009647605099890957
         },
         {
          "z": 2.8117679923019057
         },
         {
          "z": 3.323335441052025
         },
         {
          "z": 6.25483069435187
         },
         {
          "z": 0.23374033733076804
         },
         {
          "z": 4.1180898502194205
         },
         {
          "z": 6.315192828058303
         },
         {
          "z": 8.380768363367103
         },
         {
          "z": 0.14343605718401178
         },
         {
          "z": 8.198084923988098
         },
         {
          "z": 4.488873230430414
         },
         {
          "z": 5.58483992307667
         },
         {
          "z": 4.419311760472749
         },
         {
          "z": 4.208923882544418
         },
         {
          "z": 0.46900119671385765
         },
         {
          "z": 0.03475568627347576
         },
         {
          "z": 0.0033381979646759947
         },
         {
          "z": 0.5535070319999167
         },
         {
          "z": 7.930173648429875
         },
         {
          "z": 9.705094755674425
         },
         {
          "z": 7.289252774486792
         },
         {
          "z": 4.726277390674907
         },
         {
          "z": 7.028154739994604
         },
         {
          "z": 1.1230416908883767
         },
         {
          "z": 6.89183686809926
         },
         {
          "z": 9.485780013316223
         },
         {
          "z": 8.353320750291287
         },
         {
          "z": 4.7489293720951595
         },
         {
          "z": 4.57371497668834
         },
         {
          "z": 0.8716586098625705
         },
         {
          "z": 4.622050299044771
         },
         {
          "z": 6.351315926515393
         },
         {
          "z": 3.2793736836660035
         },
         {
          "z": 0.0976055802930115
         },
         {
          "z": 1.3453105832447043
         },
         {
          "z": 8.393532736054546
         },
         {
          "z": 1.44898889979366
         },
         {
          "z": 3.9771956307755647
         },
         {
          "z": 6.3355996924564595
         },
         {
          "z": 1.3477502406427866
         },
         {
          "z": 2.9987273651081283
         },
         {
          "z": 0.00941585811379729
         },
         {
          "z": 1.009034644607807
         },
         {
          "z": 9.447547543117174
         },
         {
          "z": 9.181405119092414
         },
         {
          "z": 0.9564162991236305
         },
         {
          "z": 0.07803486116512331
         },
         {
          "z": 7.087319418374877
         },
         {
          "z": 0.6792878320050251
         },
         {
          "z": 2.117440781148334
         },
         {
          "z": 0.7621475255930098
         },
         {
          "z": 3.135780079548629
         },
         {
          "z": 3.6512809958803154
         },
         {
          "z": 6.912986721985286
         },
         {
          "z": 4.036250592289189
         },
         {
          "z": 3.664202128408209
         },
         {
          "z": 0.007610735165099378
         },
         {
          "z": 0.37187661585287857
         },
         {
          "z": 0.6333876512878661
         },
         {
          "z": 4.886833178132294
         },
         {
          "z": 2.6996435707835746
         },
         {
          "z": 6.4857700205087205
         },
         {
          "z": 8.544089489125748
         },
         {
          "z": 0.017045151317217226
         },
         {
          "z": 8.611785874857997
         },
         {
          "z": 5.876875422380548
         },
         {
          "z": 7.968408033985054
         },
         {
          "z": 1.7641589728339089
         },
         {
          "z": 3.986563736398931
         },
         {
          "z": 1.8138024173610034
         },
         {
          "z": 0.3362448539821422
         },
         {
          "z": 0.7764624858386366
         },
         {
          "z": 1.7057377531950204
         },
         {
          "z": 0.77423338572462
         },
         {
          "z": 7.1574613802007505
         },
         {
          "z": 7.941468952081565
         },
         {
          "z": 8.848167370726276
         },
         {
          "z": 5.544325136587735
         },
         {
          "z": 7.8131437472429335
         },
         {
          "z": 0.8463171463560604
         },
         {
          "z": 1.7241300062623934
         },
         {
          "z": 8.57094688388446
         },
         {
          "z": 0.0869488379721291
         },
         {
          "z": 0.006681500640080563
         },
         {
          "z": 0.0007799212559341827
         },
         {
          "z": 8.689880926949382
         },
         {
          "z": 8.83239028425413
         },
         {
          "z": 7.25075515634814
         },
         {
          "z": 0.31947832797761694
         },
         {
          "z": 5.981589275676068
         },
         {
          "z": 0.47817875271523225
         },
         {
          "z": 1.4870417925737263
         },
         {
          "z": 7.650954673235464
         },
         {
          "z": 3.082197410712597
         },
         {
          "z": 0.510559076174772
         },
         {
          "z": 7.473597878058338
         },
         {
          "z": 5.47578032348813
         },
         {
          "z": 0.119214267740486
         },
         {
          "z": 0.0001638224037065403
         },
         {
          "z": 2.2489790766841415
         },
         {
          "z": 6.334118224976391
         },
         {
          "z": 1.315989197390849
         },
         {
          "z": 7.978939167919638
         },
         {
          "z": 0.831753894966112
         },
         {
          "z": 0.01089947216900063
         },
         {
          "z": 3.985910658997521
         },
         {
          "z": 5.6464444117718795
         },
         {
          "z": 0.10261464028976085
         },
         {
          "z": 4.914386891022527
         },
         {
          "z": 0.35415824955536995
         },
         {
          "z": 1.9628328064258924
         },
         {
          "z": 3.1526113442702712
         },
         {
          "z": 1.4497122413716985
         },
         {
          "z": 6.958601236653632
         },
         {
          "z": 4.755463930146488
         },
         {
          "z": 8.273150213526542
         },
         {
          "z": 1.3235446396801946
         },
         {
          "z": 3.0526514063304404
         },
         {
          "z": 6.333327816565179
         },
         {
          "z": 5.667212783989772
         },
         {
          "z": 0.7988454353066103
         },
         {
          "z": 3.201921753425064
         },
         {
          "z": 0.0600937135637568
         },
         {
          "z": 1.1838619490121087
         },
         {
          "z": 0.9124968667507536
         },
         {
          "z": 0.10572835090757732
         },
         {
          "z": 3.329541865747381
         },
         {
          "z": 0.3673337534543169
         },
         {
          "z": 0.00764691854088645
         },
         {
          "z": 4.567559282500471
         },
         {
          "z": 5.643650162563924
         },
         {
          "z": 0.5631541440268971
         },
         {
          "z": 0.7675769321527814
         },
         {
          "z": 3.2739495464386
         },
         {
          "z": 1.0193082726183176
         },
         {
          "z": 2.9025841212934713
         },
         {
          "z": 2.6435332148262565
         },
         {
          "z": 9.542391776607344
         },
         {
          "z": 3.6041533658335667
         },
         {
          "z": 0.9413788377390211
         },
         {
          "z": 1.6274481384004893
         },
         {
          "z": 1.9175341722796782
         },
         {
          "z": 4.522596599247656
         },
         {
          "z": 8.121090491054307
         },
         {
          "z": 0.012344374835285927
         },
         {
          "z": 4.098578357258162
         },
         {
          "z": 0.0047044812376147195
         },
         {
          "z": 4.520479268899816
         },
         {
          "z": 2.0688821040076637
         },
         {
          "z": 5.969913136586731
         },
         {
          "z": 1.8314345831155245
         },
         {
          "z": 9.48587044428111
         },
         {
          "z": 0.7885009150540995
         },
         {
          "z": 4.398717885907457
         },
         {
          "z": 0.12161102823446375
         },
         {
          "z": 6.623716439975828
         },
         {
          "z": 5.0953463728983115
         },
         {
          "z": 2.3013105508162037
         },
         {
          "z": 0.05612169430089981
         },
         {
          "z": 0.5483305080434344
         },
         {
          "z": 5.147240291010386
         },
         {
          "z": 7.41917721504096
         },
         {
          "z": 0.3380153432144444
         },
         {
          "z": 4.358446361541571
         },
         {
          "z": 5.765467594413262
         },
         {
          "z": 4.240628850016371
         },
         {
          "z": 7.516130597047509
         },
         {
          "z": 6.966270738592241
         },
         {
          "z": 5.467849798330164
         },
         {
          "z": 4.3692057184700746
         },
         {
          "z": 3.0775672563345786
         },
         {
          "z": 9.519407849504764
         },
         {
          "z": 2.701620878119394
         },
         {
          "z": 0.70828709664719
         },
         {
          "z": 2.219755279444596
         },
         {
          "z": 0.8623941495516262
         },
         {
          "z": 0.12850645600563457
         },
         {
          "z": 0.12309572970777437
         },
         {
          "z": 6.450617287054986
         },
         {
          "z": 0.00013863170581238416
         },
         {
          "z": 0.12818990194795823
         },
         {
          "z": 0.7106996506756285
         },
         {
          "z": 7.119933545015798
         },
         {
          "z": 4.893889452988585
         },
         {
          "z": 2.023100383427286
         },
         {
          "z": 0.10372260880264739
         },
         {
          "z": 2.74287879153218
         },
         {
          "z": 1.8837641662238802
         },
         {
          "z": 4.396229588054896
         },
         {
          "z": 6.622964322332559
         },
         {
          "z": 6.616866531593329
         },
         {
          "z": 9.630400340793345
         },
         {
          "z": 0.45615499951248795
         },
         {
          "z": 2.849262020775875
         },
         {
          "z": 5.7443358969409175
         },
         {
          "z": 0.2724485799003626
         },
         {
          "z": 4.754569314367665
         },
         {
          "z": 2.934306789294923
         },
         {
          "z": 9.885431409914906
         },
         {
          "z": 0.791293482017688
         },
         {
          "z": 4.101808372494227
         },
         {
          "z": 1.3763052068032522
         },
         {
          "z": 8.224504204451438
         },
         {
          "z": 6.540986618277536
         },
         {
          "z": 6.282167505082022
         },
         {
          "z": 0.1744792747040111
         },
         {
          "z": 5.09497186507588
         },
         {
          "z": 0.235199682135119
         },
         {
          "z": 2.6575520087346067
         },
         {
          "z": 2.7661489978716105
         },
         {
          "z": 7.535831273455643
         },
         {
          "z": 0.0802150544001064
         },
         {
          "z": 9.79666685649011
         },
         {
          "z": 2.6718825077131534
         },
         {
          "z": 4.576787693839799
         },
         {
          "z": 1.562719813609283
         },
         {
          "z": 5.8020037112286
         },
         {
          "z": 0.12468931397619362
         },
         {
          "z": 9.82496446449977
         },
         {
          "z": 1.9375795321130878
         },
         {
          "z": 0.016109962782644538
         },
         {
          "z": 5.5592933511043485
         },
         {
          "z": 1.049629700476221
         },
         {
          "z": 0.46375407340016017
         },
         {
          "z": 1.3603322384780885
         },
         {
          "z": 1.3117497520377073
         },
         {
          "z": 0.2864406130403347
         },
         {
          "z": 0.16066254705720248
         },
         {
          "z": 4.034976631537415
         },
         {
          "z": 2.2250497485757785
         },
         {
          "z": 0.39778342435379954
         },
         {
          "z": 1.454812275284736
         },
         {
          "z": 4.092207721157256
         },
         {
          "z": 2.0101639737161388
         },
         {
          "z": 7.849359321786162
         },
         {
          "z": 5.243601387485447
         },
         {
          "z": 3.9046769632822818
         },
         {
          "z": 1.5279960913708293
         },
         {
          "z": 0.25344903386073786
         },
         {
          "z": 8.236519740060551
         },
         {
          "z": 6.324956481278661
         },
         {
          "z": 0.1677989988019231
         },
         {
          "z": 1.894021291874353
         },
         {
          "z": 7.722881244211731
         },
         {
          "z": 2.0737638015004616
         },
         {
          "z": 2.460356904078574
         },
         {
          "z": 0.04952541744689402
         },
         {
          "z": 6.953737336878724
         },
         {
          "z": 6.049221482060814
         },
         {
          "z": 2.16451633478611
         },
         {
          "z": 1.5180588570577953
         },
         {
          "z": 4.467380630276775
         },
         {
          "z": 8.831451755003085
         },
         {
          "z": 5.12123722460167
         },
         {
          "z": 0.5996775426356209
         },
         {
          "z": 2.723236105732718
         },
         {
          "z": 1.5173401586450188
         },
         {
          "z": 3.2824590609188236
         },
         {
          "z": 0.00023937391415946463
         },
         {
          "z": 2.03556124633724
         },
         {
          "z": 1.6209402711800913
         },
         {
          "z": 4.673302238976705
         },
         {
          "z": 2.3842773660252172
         },
         {
          "z": 0.8613540083173282
         },
         {
          "z": 7.561114580371134
         },
         {
          "z": 5.544267937884025
         },
         {
          "z": 1.1236170429626582
         },
         {
          "z": 8.573214384453676
         },
         {
          "z": 0.9541148774133124
         },
         {
          "z": 5.3967485472631935
         },
         {
          "z": 0.8197122172310869
         },
         {
          "z": 4.072381251339094
         },
         {
          "z": 9.933700870487648
         },
         {
          "z": 1.8183675610360321
         },
         {
          "z": 9.276186882357289
         },
         {
          "z": 9.996909167434005
         },
         {
          "z": 6.084220640493298
         },
         {
          "z": 9.799268743024044
         },
         {
          "z": 0.21272400832997904
         },
         {
          "z": 3.3980014169774715
         },
         {
          "z": 7.250380870233567
         },
         {
          "z": 1.3860800373323507
         },
         {
          "z": 1.6442475901382914
         },
         {
          "z": 1.183737059149434
         },
         {
          "z": 4.32559133129925
         },
         {
          "z": 5.3530045766203
         },
         {
          "z": 6.990349418142628
         },
         {
          "z": 9.667463300192837
         },
         {
          "z": 4.800924163799981
         },
         {
          "z": 4.641812043644492
         },
         {
          "z": 0.04742732101116886
         },
         {
          "z": 6.836267263564377
         },
         {
          "z": 2.472809134528787
         },
         {
          "z": 0.03982932564591604
         },
         {
          "z": 0.1666683783790182
         },
         {
          "z": 8.672137707628037
         },
         {
          "z": 1.456382490078074
         },
         {
          "z": 6.346486756254164
         },
         {
          "z": 2.826136278623814
         },
         {
          "z": 2.580573903997166
         },
         {
          "z": 2.0184865720475726
         },
         {
          "z": 1.0301736505360168
         },
         {
          "z": 0.3780339169798236
         },
         {
          "z": 6.5005365382017555
         },
         {
          "z": 5.906478773318229
         },
         {
          "z": 5.186008376306117
         },
         {
          "z": 3.3966710352412304
         },
         {
          "z": 7.229183355366508
         },
         {
          "z": 6.428828789099227
         },
         {
          "z": 1.7399897378453089
         },
         {
          "z": 3.7345047308900856
         },
         {
          "z": 8.462714972697142
         },
         {
          "z": 9.266898171695745
         },
         {
          "z": 1.0484244227103046
         },
         {
          "z": 1.2149168969759452
         },
         {
          "z": 0.16993899494804582
         },
         {
          "z": 7.3913179843799925
         },
         {
          "z": 1.3408880559897738
         },
         {
          "z": 4.691011333583611
         },
         {
          "z": 0.3297362232901801
         },
         {
          "z": 4.393335384428721
         },
         {
          "z": 4.878233347685849
         },
         {
          "z": 0.24624877785916835
         },
         {
          "z": 3.0813889222521214
         },
         {
          "z": 3.1238560370211954
         },
         {
          "z": 2.969263283223076
         },
         {
          "z": 0.15262860187692165
         },
         {
          "z": 0.016958527704700608
         },
         {
          "z": 0.621006108283476
         },
         {
          "z": 0.11155850201787268
         },
         {
          "z": 0.11744396741788332
         },
         {
          "z": 2.8955784879104467
         },
         {
          "z": 6.912391620594805
         },
         {
          "z": 1.5285247993671458
         },
         {
          "z": 1.0187025268414804
         },
         {
          "z": 0.07370699835113502
         },
         {
          "z": 7.847503384684429
         },
         {
          "z": 1.9525430915219844
         },
         {
          "z": 0.20640915016717587
         },
         {
          "z": 0.2193385992160562
         },
         {
          "z": 1.0706992802552253
         },
         {
          "z": 3.229012542279066
         },
         {
          "z": 7.728843800096824
         },
         {
          "z": 3.4604229971742786
         },
         {
          "z": 0.23012514563250128
         },
         {
          "z": 4.042063482243555
         },
         {
          "z": 1.4488808359139502
         },
         {
          "z": 0.34230866145578864
         },
         {
          "z": 0.048292588936919977
         },
         {
          "z": 3.895861956386905
         },
         {
          "z": 8.012189880241382e-05
         },
         {
          "z": 6.7761572295939025
         },
         {
          "z": 7.2358202496406365
         },
         {
          "z": 5.970160108550628
         },
         {
          "z": 2.605245414404128
         },
         {
          "z": 0.5392554291290033
         },
         {
          "z": 3.358195831496373
         },
         {
          "z": 1.326224205709583
         },
         {
          "z": 0.8112226481319615
         },
         {
          "z": 1.2111256088958933
         },
         {
          "z": 0.572907300915446
         },
         {
          "z": 8.455526110730702
         },
         {
          "z": 1.7242622933021443
         },
         {
          "z": 2.8361290668965116
         },
         {
          "z": 8.938821523350132
         },
         {
          "z": 0.1362174384225813
         },
         {
          "z": 7.43532461221967
         },
         {
          "z": 0.5244863702241975
         },
         {
          "z": 3.20422447047771
         },
         {
          "z": 0.4559576299680274
         },
         {
          "z": 0.06830129338805177
         },
         {
          "z": 0.5053835716615043
         },
         {
          "z": 1.1716368706396973
         },
         {
          "z": 9.619660465712286
         },
         {
          "z": 9.538692161867758
         },
         {
          "z": 0.5522430050236616
         },
         {
          "z": 3.337268361877141
         },
         {
          "z": 3.068074039291022
         },
         {
          "z": 1.6855891018925142
         },
         {
          "z": 5.202686871187325
         },
         {
          "z": 2.1479856912533672
         },
         {
          "z": 1.1041675280967993
         },
         {
          "z": 0.047384997708320484
         },
         {
          "z": 6.085851878609217
         },
         {
          "z": 8.028072702441664
         },
         {
          "z": 7.610619127769374
         },
         {
          "z": 7.583442169162202
         },
         {
          "z": 2.5859745546677315
         },
         {
          "z": 3.7963399146297205
         },
         {
          "z": 0.14897049413168084
         },
         {
          "z": 0.004911159667378126
         },
         {
          "z": 4.349635717412051
         },
         {
          "z": 3.6021428833355733
         },
         {
          "z": 0.4698057828678915
         },
         {
          "z": 6.573258849659499
         },
         {
          "z": 1.3430362372131315
         },
         {
          "z": 1.8376223622066221
         },
         {
          "z": 1.2191329588020525
         },
         {
          "z": 9.347725455623747
         },
         {
          "z": 0.08093120334061106
         },
         {
          "z": 0.02948657855415997
         },
         {
          "z": 7.784292759246419
         },
         {
          "z": 7.0132359363522365
         },
         {
          "z": 9.969138995904324
         },
         {
          "z": 6.069943642548804
         },
         {
          "z": 4.105848752569236
         },
         {
          "z": 0.0004678246157308189
         },
         {
          "z": 7.032210307703119
         },
         {
          "z": 0.019880370732681608
         },
         {
          "z": 4.665065307060007
         },
         {
          "z": 4.50056149922795
         },
         {
          "z": 9.658785261278588
         },
         {
          "z": 1.5657339801073709
         },
         {
          "z": 2.0104832077616366
         },
         {
          "z": 0.34159832942275864
         },
         {
          "z": 6.761480720779133
         },
         {
          "z": 8.312842042283355
         },
         {
          "z": 8.168997926115555
         },
         {
          "z": 4.873102330351735
         },
         {
          "z": 0.13113313423787884
         },
         {
          "z": 0.10948768325639609
         },
         {
          "z": 6.85700693394364
         },
         {
          "z": 3.2134726517325034
         },
         {
          "z": 0.11928771771213109
         },
         {
          "z": 0.08209725921041715
         },
         {
          "z": 6.27621264916678
         },
         {
          "z": 0.5363447999536548
         },
         {
          "z": 3.78676738728612
         },
         {
          "z": 4.883254196593168
         },
         {
          "z": 1.2817403710763517
         },
         {
          "z": 1.0039724566226855
         },
         {
          "z": 0.07715311338888968
         },
         {
          "z": 7.0380778654271445
         },
         {
          "z": 5.763595386989932
         },
         {
          "z": 1.0546490219224398
         },
         {
          "z": 4.0794729316903116
         },
         {
          "z": 6.900518474440674
         },
         {
          "z": 0.44898106208035976
         },
         {
          "z": 8.522892117004412
         },
         {
          "z": 1.4524895817368266
         },
         {
          "z": 0.36178097857999003
         },
         {
          "z": 9.480882942947371
         },
         {
          "z": 0.15856693427100346
         },
         {
          "z": 4.0500226348180215
         },
         {
          "z": 0.015343439115934542
         },
         {
          "z": 1.662975941633221
         },
         {
          "z": 0.14062180713155364
         },
         {
          "z": 4.5896963976325
         },
         {
          "z": 0.20502419188234733
         },
         {
          "z": 8.312860801941667
         },
         {
          "z": 1.639706088603573
         },
         {
          "z": 0.26830184714025407
         },
         {
          "z": 0.2894583848198833
         },
         {
          "z": 1.7564503031636778
         },
         {
          "z": 3.3586800108454655
         },
         {
          "z": 1.6108956192642896
         },
         {
          "z": 7.4611003187603515
         },
         {
          "z": 3.540651677790164
         },
         {
          "z": 0.3603386967725778
         },
         {
          "z": 6.752397571969263
         },
         {
          "z": 9.651833287651705
         },
         {
          "z": 2.542231128879835
         },
         {
          "z": 6.968216166497426
         },
         {
          "z": 3.194654287091635
         },
         {
          "z": 2.1341874215424546
         },
         {
          "z": 0.5326997039110852
         },
         {
          "z": 0.6573854488858134
         },
         {
          "z": 0.21910436744547002
         },
         {
          "z": 0.18859809864494004
         },
         {
          "z": 0.21414578970462947
         },
         {
          "z": 0.6873195075209075
         },
         {
          "z": 1.6977548812791468
         },
         {
          "z": 8.462727415953612
         },
         {
          "z": 7.977537855991966
         },
         {
          "z": 2.7013475400213327
         },
         {
          "z": 5.834353725448722
         },
         {
          "z": 7.300638035622267
         },
         {
          "z": 9.106374581069286
         },
         {
          "z": 0.005124935072884136
         },
         {
          "z": 4.190676234052151
         },
         {
          "z": 4.418768484984295
         },
         {
          "z": 7.011594673408869
         },
         {
          "z": 6.767370076718131
         },
         {
          "z": 0.06095487451584705
         },
         {
          "z": 0.008872519571543789
         },
         {
          "z": 0.6119795979770793
         },
         {
          "z": 1.189683540939829
         },
         {
          "z": 5.325233676825329
         },
         {
          "z": 0.38135967493605755
         },
         {
          "z": 0.1034656548838882
         },
         {
          "z": 0.2642154347498905
         },
         {
          "z": 0.5832812755739709
         },
         {
          "z": 0.4953855088908944
         },
         {
          "z": 1.0923520446791284
         },
         {
          "z": 0.2878111704293839
         },
         {
          "z": 4.699812574347118
         },
         {
          "z": 1.5618159353497703
         },
         {
          "z": 2.944924960926376
         },
         {
          "z": 0.29168964045097195
         },
         {
          "z": 0.415975781048844
         },
         {
          "z": 3.695546655859941
         },
         {
          "z": 3.818567774704485
         },
         {
          "z": 3.018192664296101
         },
         {
          "z": 4.577122780583382
         },
         {
          "z": 4.175166226022175
         },
         {
          "z": 0.12818469716699
         },
         {
          "z": 6.704191865760888
         },
         {
          "z": 9.786100141039439
         },
         {
          "z": 1.8151226676324461
         },
         {
          "z": 8.415037708260943
         },
         {
          "z": 5.668270864572098
         },
         {
          "z": 3.100954378963247
         },
         {
          "z": 3.7633267391662475
         },
         {
          "z": 1.960208701087824
         },
         {
          "z": 2.0054795326268646
         },
         {
          "z": 5.373815675633554
         },
         {
          "z": 5.227372883843586
         },
         {
          "z": 2.5254510456247585
         },
         {
          "z": 3.064982576510929
         },
         {
          "z": 4.813732188626049
         },
         {
          "z": 9.82368658416072
         },
         {
          "z": 1.8120542987188772
         },
         {
          "z": 0.5020063925467962
         },
         {
          "z": 5.689825762502547
         },
         {
          "z": 0.195334788352917
         },
         {
          "z": 6.033488431848495
         },
         {
          "z": 8.454462002787292
         },
         {
          "z": 0.5147960298816493
         },
         {
          "z": 3.366999212846423
         },
         {
          "z": 4.856566953046929
         },
         {
          "z": 2.2266043432401568
         },
         {
          "z": 5.8506797670304245
         },
         {
          "z": 9.533782238620969
         },
         {
          "z": 0.4452142079163673
         },
         {
          "z": 0.45525303938611295
         },
         {
          "z": 0.8247297816077542
         },
         {
          "z": 0.26187207779666816
         },
         {
          "z": 4.743286364712968
         },
         {
          "z": 0.6348286505692503
         },
         {
          "z": 2.460338200983629
         },
         {
          "z": 1.4618007964104995
         },
         {
          "z": 7.525683336087501
         },
         {
          "z": 2.679650188681701
         },
         {
          "z": 0.43504678575274564
         },
         {
          "z": 4.712516844589586
         },
         {
          "z": 3.2500892203000125
         },
         {
          "z": 4.368556292045913
         },
         {
          "z": 0.4586994432828018
         },
         {
          "z": 6.16843691000701
         },
         {
          "z": 3.081191467548188
         },
         {
          "z": 3.283188087210408
         },
         {
          "z": 0.6742244258500842
         },
         {
          "z": 0.3881927779560378
         },
         {
          "z": 4.870834666673848
         },
         {
          "z": 1.9448347821849787
         },
         {
          "z": 0.8529550952744467
         },
         {
          "z": 2.509965305379049
         },
         {
          "z": 1.3285627114042184
         },
         {
          "z": 2.1240552294445934
         },
         {
          "z": 0.3875321035822341
         },
         {
          "z": 0.022884981853251517
         },
         {
          "z": 0.7592094675765116
         },
         {
          "z": 4.90026311164492
         },
         {
          "z": 7.909000889339596
         },
         {
          "z": 0.1432474399749893
         },
         {
          "z": 3.8876161965363734
         },
         {
          "z": 1.7187472292454855
         },
         {
          "z": 7.448711609818535
         },
         {
          "z": 0.3396083812393227
         },
         {
          "z": 4.240674522527432
         },
         {
          "z": 0.8727227598954052
         },
         {
          "z": 7.515888145831733
         },
         {
          "z": 0.5692729800182282
         },
         {
          "z": 0.36000838719153466
         },
         {
          "z": 4.152993557354495
         },
         {
          "z": 9.387530213020694
         },
         {
          "z": 0.8462583756499256
         },
         {
          "z": 1.280331288095894
         },
         {
          "z": 2.1283451574048255
         },
         {
          "z": 0.8324933926986383
         },
         {
          "z": 1.0005355177279658
         },
         {
          "z": 4.748138085709957
         },
         {
          "z": 4.619659284667724
         },
         {
          "z": 1.8942852095350862
         },
         {
          "z": 5.22888047454512
         },
         {
          "z": 1.7073701782190072
         },
         {
          "z": 4.736607033186711
         },
         {
          "z": 9.131975603120953
         },
         {
          "z": 2.2577254242077904
         },
         {
          "z": 2.7280806244195706
         },
         {
          "z": 0.0006969341012626537
         },
         {
          "z": 3.426237289391605
         },
         {
          "z": 0.019616738921901803
         },
         {
          "z": 7.2594921366656875
         },
         {
          "z": 7.537274770202701
         },
         {
          "z": 0.16318595397635766
         },
         {
          "z": 7.886517149424357
         },
         {
          "z": 7.641374193464424
         },
         {
          "z": 0.07333892424025512
         },
         {
          "z": 4.498705207602315
         },
         {
          "z": 5.313819828602943
         },
         {
          "z": 5.466854592324806
         },
         {
          "z": 2.403653152009191
         },
         {
          "z": 0.38609682642363335
         },
         {
          "z": 2.884349124664896
         },
         {
          "z": 7.3688810153479665
         },
         {
          "z": 5.768149404748076
         },
         {
          "z": 8.445989555627035
         },
         {
          "z": 1.1987481046748425
         },
         {
          "z": 5.216225443934932
         },
         {
          "z": 3.7279646626820857
         },
         {
          "z": 4.0852279772220355
         },
         {
          "z": 7.3569704740641795
         },
         {
          "z": 9.647906558623108
         },
         {
          "z": 0.5869537465287936
         },
         {
          "z": 0.1197958875791218
         },
         {
          "z": 0.597474364983682
         },
         {
          "z": 2.8251364286300467
         },
         {
          "z": 0.5795832013678736
         },
         {
          "z": 2.5650341112910486
         },
         {
          "z": 0.12461354044157845
         },
         {
          "z": 0.4283701852173205
         },
         {
          "z": 4.84800490233159
         },
         {
          "z": 0.5286880078713384
         },
         {
          "z": 8.945018415405553
         },
         {
          "z": 2.2843991305738585
         },
         {
          "z": 9.860000202270534
         },
         {
          "z": 4.932902533030732
         },
         {
          "z": 0.24687113716485495
         },
         {
          "z": 3.2888046474196573
         },
         {
          "z": 7.069711098463841
         },
         {
          "z": 1.2506997184017528
         },
         {
          "z": 0.26442302635222953
         },
         {
          "z": 1.1074997473690664
         },
         {
          "z": 4.178994241972444
         },
         {
          "z": 4.188612676237787
         },
         {
          "z": 7.327668656942279
         },
         {
          "z": 0.8311582998930849
         },
         {
          "z": 6.044181382976128
         },
         {
          "z": 9.603278739552977
         },
         {
          "z": 0.4341053047274761
         }
        ]
       },
       "encoding": {
        "x": {
         "bin": {
          "maxbins": 100
         },
         "field": "z",
         "type": "quantitative"
        },
        "y": {
         "aggregate": "count",
         "type": "quantitative"
        }
       },
       "height": 100,
       "mark": "bar",
       "width": 400
      },
      "image/png": "[encoded data removed]",
      "text/plain": [
       "<VegaLite 3 object>\n",
       "\n",
       "If you see this message, it means the renderer has not been properly enabled\n",
       "for the frontend that you are using. For more information, see\n",
       "https://altair-viz.github.io/user_guide/troubleshooting.html\n"
      ]
     },
     "execution_count": 22,
     "metadata": {},
     "output_type": "execute_result"
    }
   ],
   "source": [
    "z = [realize_cont(Z) for i in range(1000)] # 1000 draws from Z\n",
    "\n",
    "plot_df = pd.DataFrame({'z':z})\n",
    "alt.Chart(plot_df, height=100, width=400).mark_bar().encode(\n",
    "    alt.X('z', bin=alt.Bin(maxbins=100)),\n",
    "    y='count()'\n",
    ")"
   ]
  },
  {
   "cell_type": "markdown",
   "metadata": {},
   "source": [
    "That looks suspicously like our bucketed density plot:"
   ]
  },
  {
   "cell_type": "code",
   "execution_count": 23,
   "metadata": {},
   "outputs": [
    {
     "data": {
      "application/vnd.vegalite.v3+json": {
       "$schema": "https://vega.github.io/schema/vega-lite/v3.4.0.json",
       "config": {
        "mark": {
         "tooltip": null
        },
        "view": {
         "height": 300,
         "width": 400
        }
       },
       "data": {
        "name": "data-87b4328471ec72ce0c0a7b12465363e4"
       },
       "datasets": {
        "data-87b4328471ec72ce0c0a7b12465363e4": [
         {
          "p": 0.1,
          "z": "[0.0,0.1)"
         },
         {
          "p": 0.0414213562373095,
          "z": "[0.1,0.2)"
         },
         {
          "p": 0.031783724519578255,
          "z": "[0.2,0.30000000000000004)"
         },
         {
          "p": 0.026794919243112253,
          "z": "[0.30000000000000004,0.4)"
         },
         {
          "p": 0.023606797749978953,
          "z": "[0.4,0.5)"
         },
         {
          "p": 0.021342176528338835,
          "z": "[0.5,0.6)"
         },
         {
          "p": 0.019626156828141256,
          "z": "[0.6000000000000001,0.7000000000000001)"
         },
         {
          "p": 0.018267581368159924,
          "z": "[0.7000000000000001,0.8)"
         },
         {
          "p": 0.017157287525380982,
          "z": "[0.8,0.9)"
         },
         {
          "p": 0.016227766016837952,
          "z": "[0.9,1.0)"
         },
         {
          "p": 0.015434713018702084,
          "z": "[1.0,1.1)"
         },
         {
          "p": 0.014747682478235491,
          "z": "[1.1,1.2000000000000002)"
         },
         {
          "p": 0.01414496603262344,
          "z": "[1.2000000000000002,1.3000000000000003)"
         },
         {
          "p": 0.01361061113099521,
          "z": "[1.3,1.4000000000000001)"
         },
         {
          "p": 0.013132595943347536,
          "z": "[1.4000000000000001,1.5000000000000002)"
         },
         {
          "p": 0.01270166537925832,
          "z": "[1.5,1.6)"
         },
         {
          "p": 0.012310562561766047,
          "z": "[1.6,1.7000000000000002)"
         },
         {
          "p": 0.011953506150162496,
          "z": "[1.7000000000000002,1.8000000000000003)"
         },
         {
          "p": 0.01162582564213882,
          "z": "[1.8,1.9000000000000001)"
         },
         {
          "p": 0.011323701145890597,
          "z": "[1.9000000000000001,2.0)"
         },
         {
          "p": 0.011043973995626122,
          "z": "[2.0,2.1)"
         },
         {
          "p": 0.010784006486758924,
          "z": "[2.1,2.2)"
         },
         {
          "p": 0.010541576348928994,
          "z": "[2.2,2.3000000000000003)"
         },
         {
          "p": 0.010314796225363687,
          "z": "[2.3000000000000003,2.4000000000000004)"
         },
         {
          "p": 0.010102051443364346,
          "z": "[2.4000000000000004,2.5000000000000004)"
         },
         {
          "p": 0.009901951359278516,
          "z": "[2.5,2.6)"
         },
         {
          "p": 0.009713290911384731,
          "z": "[2.6,2.7)"
         },
         {
          "p": 0.009535019942254919,
          "z": "[2.7,2.8000000000000003)"
         },
         {
          "p": 0.00936621850053232,
          "z": "[2.8000000000000003,2.9000000000000004)"
         },
         {
          "p": 0.0092060767917157,
          "z": "[2.9000000000000004,3.0000000000000004)"
         },
         {
          "p": 0.009053878777836144,
          "z": "[3.0,3.1)"
         },
         {
          "p": 0.008908988666235795,
          "z": "[3.1,3.2)"
         },
         {
          "p": 0.008770839704564826,
          "z": "[3.2,3.3000000000000003)"
         },
         {
          "p": 0.008638924830727257,
          "z": "[3.3000000000000003,3.4000000000000004)"
         },
         {
          "p": 0.008512788825431494,
          "z": "[3.4000000000000004,3.5000000000000004)"
         },
         {
          "p": 0.008392021690038387,
          "z": "[3.5,3.6)"
         },
         {
          "p": 0.008276253029821934,
          "z": "[3.6,3.7)"
         },
         {
          "p": 0.008165147267075734,
          "z": "[3.7,3.8000000000000003)"
         },
         {
          "p": 0.008058399542942185,
          "z": "[3.8000000000000003,3.9000000000000004)"
         },
         {
          "p": 0.007955732193836051,
          "z": "[3.9000000000000004,4.0)"
         },
         {
          "p": 0.007856891709609015,
          "z": "[4.0,4.1)"
         },
         {
          "p": 0.007761646097501185,
          "z": "[4.1000000000000005,4.2)"
         },
         {
          "p": 0.007669782589413976,
          "z": "[4.2,4.3)"
         },
         {
          "p": 0.007581105640879882,
          "z": "[4.3,4.3999999999999995)"
         },
         {
          "p": 0.0074954351788568685,
          "z": "[4.4,4.5)"
         },
         {
          "p": 0.007412605062589894,
          "z": "[4.5,4.6)"
         },
         {
          "p": 0.007332461727577511,
          "z": "[4.6000000000000005,4.7)"
         },
         {
          "p": 0.0072548629874464865,
          "z": "[4.7,4.8)"
         },
         {
          "p": 0.007179676972449034,
          "z": "[4.800000000000001,4.9)"
         },
         {
          "p": 0.007106781186547506,
          "z": "[4.9,5.0)"
         },
         {
          "p": 0.007036061667737403,
          "z": "[5.0,5.1)"
         },
         {
          "p": 0.006967412238512938,
          "z": "[5.1000000000000005,5.2)"
         },
         {
          "p": 0.006900733835253914,
          "z": "[5.2,5.3)"
         },
         {
          "p": 0.006835933906901626,
          "z": "[5.300000000000001,5.4)"
         },
         {
          "p": 0.006772925874612867,
          "z": "[5.4,5.5)"
         },
         {
          "p": 0.006711628645221901,
          "z": "[5.5,5.6)"
         },
         {
          "p": 0.006651966172286694,
          "z": "[5.6000000000000005,5.7)"
         },
         {
          "p": 0.00659386705931575,
          "z": "[5.7,5.8)"
         },
         {
          "p": 0.006537264200469961,
          "z": "[5.800000000000001,5.9)"
         },
         {
          "p": 0.006482094454622556,
          "z": "[5.9,6.0)"
         },
         {
          "p": 0.006428298349182016,
          "z": "[6.0,6.1)"
         },
         {
          "p": 0.006375819810515604,
          "z": "[6.1000000000000005,6.2)"
         },
         {
          "p": 0.006324605918196058,
          "z": "[6.2,6.3)"
         },
         {
          "p": 0.006274606680622741,
          "z": "[6.300000000000001,6.4)"
         },
         {
          "p": 0.00622577482985498,
          "z": "[6.4,6.5)"
         },
         {
          "p": 0.0061780656337410145,
          "z": "[6.5,6.6)"
         },
         {
          "p": 0.00613143672364902,
          "z": "[6.6000000000000005,6.7)"
         },
         {
          "p": 0.00608584793628697,
          "z": "[6.7,6.8)"
         },
         {
          "p": 0.006041261168275414,
          "z": "[6.800000000000001,6.9)"
         },
         {
          "p": 0.00599764024226801,
          "z": "[6.9,7.0)"
         },
         {
          "p": 0.005954950783560231,
          "z": "[7.0,7.1)"
         },
         {
          "p": 0.005913160106221116,
          "z": "[7.1000000000000005,7.2)"
         },
         {
          "p": 0.005872237107896083,
          "z": "[7.2,7.3)"
         },
         {
          "p": 0.0058321521725094305,
          "z": "[7.300000000000001,7.4)"
         },
         {
          "p": 0.005792877080175951,
          "z": "[7.4,7.5)"
         },
         {
          "p": 0.005754384923696065,
          "z": "[7.5,7.6)"
         },
         {
          "p": 0.005716650031077575,
          "z": "[7.6000000000000005,7.7)"
         },
         {
          "p": 0.005679647893572448,
          "z": "[7.7,7.8)"
         },
         {
          "p": 0.005643355098774228,
          "z": "[7.800000000000001,7.9)"
         },
         {
          "p": 0.005607749268356943,
          "z": "[7.9,8.0)"
         },
         {
          "p": 0.005572809000084167,
          "z": "[8.0,8.1)"
         },
         {
          "p": 0.005538513813741597,
          "z": "[8.1,8.2)"
         },
         {
          "p": 0.005504844100688189,
          "z": "[8.200000000000001,8.3)"
         },
         {
          "p": 0.00547178107673818,
          "z": "[8.3,8.4)"
         },
         {
          "p": 0.005439306738120653,
          "z": "[8.4,8.5)"
         },
         {
          "p": 0.005407403820281598,
          "z": "[8.5,8.6)"
         },
         {
          "p": 0.005376055759311105,
          "z": "[8.6,8.7)"
         },
         {
          "p": 0.005345246655804381,
          "z": "[8.700000000000001,8.8)"
         },
         {
          "p": 0.005314961240974414,
          "z": "[8.8,8.9)"
         },
         {
          "p": 0.005285184844853408,
          "z": "[8.9,9.0)"
         },
         {
          "p": 0.005255903366431891,
          "z": "[9.0,9.1)"
         },
         {
          "p": 0.005227103245598164,
          "z": "[9.1,9.2)"
         },
         {
          "p": 0.005198771436751626,
          "z": "[9.200000000000001,9.3)"
         },
         {
          "p": 0.005170895383970309,
          "z": "[9.3,9.4)"
         },
         {
          "p": 0.005143462997630466,
          "z": "[9.4,9.5)"
         },
         {
          "p": 0.005116462632374863,
          "z": "[9.5,9.6)"
         },
         {
          "p": 0.005089883066339174,
          "z": "[9.600000000000001,9.700000000000001)"
         },
         {
          "p": 0.005063713481556098,
          "z": "[9.700000000000001,9.8)"
         },
         {
          "p": 0.005037943445453386,
          "z": "[9.8,9.9)"
         },
         {
          "p": 0.005012562893380035,
          "z": "[9.9,10.0)"
         }
        ]
       },
       "encoding": {
        "x": {
         "axis": null,
         "field": "z",
         "type": "ordinal"
        },
        "y": {
         "field": "p",
         "type": "quantitative"
        }
       },
       "height": 100,
       "mark": "bar",
       "width": 400
      },
      "image/png": "[encoded data removed]",
      "text/plain": [
       "<VegaLite 3 object>\n",
       "\n",
       "If you see this message, it means the renderer has not been properly enabled\n",
       "for the frontend that you are using. For more information, see\n",
       "https://altair-viz.github.io/user_guide/troubleshooting.html\n"
      ]
     },
     "execution_count": 23,
     "metadata": {},
     "output_type": "execute_result"
    }
   ],
   "source": [
    "zs = np.arange(0,10,0.1)\n",
    "ps = [Pz(z,z+0.1) for z in zs]\n",
    "zs_labels = [f'[{z},{z+0.1})' for z in zs]\n",
    "\n",
    "distribution = pd.DataFrame({'z':zs_labels, 'p':ps})\n",
    "alt.Chart(distribution, height=100, width=400).mark_bar().encode(alt.X('z:O',axis=None), y='p')"
   ]
  },
  {
   "cell_type": "markdown",
   "metadata": {},
   "source": [
    "So what's the difference? Think about what it is we're \"stacking up\" in the bars. In the histogram, we're sorting and stacking up a *finite number* $n$ of *observed values* $z_i$ according to what they are. In the density plot, we're sorting and stacking up *all* of the *outcomes* $\\omega$ in the silo according to the values they are destined to become, and we're measuring their relative volume, not absolute counts.\n",
    "\n",
    "In a nutshell, the histogram is what we can actually observe, given outputs from the factory. But the density descibes the inner workings of the factory itself, which we can never actually observe."
   ]
  },
  {
   "cell_type": "markdown",
   "metadata": {},
   "source": [
    "<div class=\"alert alert-block alert-info\">\n",
    "<b>Exercise:</b> \n",
    "\n",
    "What do you expect to happen to the histogram above as the number of observations is increased from $1000$ to larger and larger numbers? Can you provide an intuitive explanation for why this happens?\n",
    "    \n",
    "</div>"
   ]
  },
  {
   "cell_type": "markdown",
   "metadata": {},
   "source": [
    "### Common Distributions"
   ]
  },
  {
   "cell_type": "markdown",
   "metadata": {},
   "source": [
    "We've seen that, for all practical purposes, a random variable is determined by its probability distribution (mass or density function). In reality, the distribution of any particular measurement (e.g. blood pressure) is unknown- it depends on a complex web of causal factors. The true density function is almost certainly so complex it's not even something that we could write down. But, for the purposes of *modeling* that measurement, we can pretend that the density is something we *can* write down. \n",
    "\n",
    "Over the centuries, people have come up with a lot of distributions that are useful as models across various scenarios. Here are a few of them:"
   ]
  },
  {
   "cell_type": "markdown",
   "metadata": {},
   "source": [
    "#### Bernoulli distribution"
   ]
  },
  {
   "cell_type": "markdown",
   "metadata": {},
   "source": [
    "Let's say we're interested in modeling the result of a coin flip. The actual value (heads/tails, which we code as 0/1) of the coin flip is determined by some insanely complicated physics, but we're going to pretend that the value comes out of a little factory called $\\mathbf Z$ that has the following probability mass function:\n",
    "\n",
    "\n",
    "$$\n",
    "P(\\mathbf Z=z) =\n",
    "\\begin{cases}\n",
    "1/2 & \\text{for }z=0 \\\\\n",
    "1/2 & \\text{for }z=1\n",
    "\\end{cases}\n",
    "$$"
   ]
  },
  {
   "cell_type": "markdown",
   "metadata": {},
   "source": [
    "If we want to model a biased coin that comes up heads $(p\\times100)$% of the time, we can use a mass function like:"
   ]
  },
  {
   "cell_type": "markdown",
   "metadata": {},
   "source": [
    "$$\n",
    "P(\\mathbf Z=z) =\n",
    "\\begin{cases}\n",
    "p & \\text{for }z=0 \\\\\n",
    "1-p & \\text{for }z=1\n",
    "\\end{cases}\n",
    "$$"
   ]
  },
  {
   "cell_type": "markdown",
   "metadata": {},
   "source": [
    "This is often written as $\\mathbf Z \\sim \\text{Bernoulli}(p)$ (read: \"$\\mathbf Z$ is Bernoulli-distributed\"). The number $p$ is said to be a *parameter* of the Bernoulli distribution. It would be more accurate to say that a random variable is distributed as a *member* of the Bernoulli *family* of distributions, since, technically, every different value of $p$ encodes a different distribution, or factory, for making data.\n",
    "\n",
    "Another way to think about it is that there's one data factory, but it has a control panel with a knob labeled \"$p$\". If $p$ is set to 0.7, we expect about 70% of the outputs to be 1. If $p$ is set to $0.1$, 10%, and so on. It's a matter of semantics whether or not you want to say that factory is representing two different factories, or merely one factory under two different operating conditions. Both perspectives are useful."
   ]
  },
  {
   "cell_type": "markdown",
   "metadata": {},
   "source": [
    "#### Normal Distribution\n",
    "\n",
    "Let's say we want to model the heights of everyone on Earth. We have an intuition that people are typically a bit shorter than two meters, and taller and shorter people are more and more rare the taller and shorter they get. We can pretend that height measurements come from a *normal* distribution (also called *Gaussian* distribution):"
   ]
  },
  {
   "cell_type": "markdown",
   "metadata": {},
   "source": [
    "$$\n",
    "\\phi(z) = \n",
    "\\frac{1}{\\sqrt{2\\pi\\sigma}} \n",
    "e^{-\\frac{(x-\\mu)^2}{2\\sigma^2}}\n",
    "$$"
   ]
  },
  {
   "cell_type": "markdown",
   "metadata": {},
   "source": [
    "Most often you'll see this written as $\\mathbf Z \\sim \\mathcal N(\\mu, \\sigma)$ (read: \"$\\mathbf Z$ is normally distributed\"). The numbers $\\mu$ and $\\sigma$ are the parameters (control knobs) of the normal distribution. \n",
    "\n",
    "![](https://upload.wikimedia.org/wikipedia/commons/7/74/Normal_Distribution_PDF.svg)"
   ]
  },
  {
   "cell_type": "markdown",
   "metadata": {},
   "source": [
    "As you can see in the picture, $\\mu$ controls where the \"bell curve\" is centered and $\\sigma$ controls how wide or narrow it is."
   ]
  },
  {
   "cell_type": "markdown",
   "metadata": {},
   "source": [
    "#### Others "
   ]
  },
  {
   "cell_type": "markdown",
   "metadata": {},
   "source": [
    "There are [hundreds](https://upload.wikimedia.org/wikipedia/commons/7/74/Normal_Distribution_PDF.svg) of well-studied distributions available to choose from when modeling. The most important thing to know about a distribution is what values random variables that are so-distributed can produce. This is sometimes called the *support* of the distribution. For instance, varaibles that are normally-, Cauchy-, or Laplace-distributed can take values between $-\\infty$ and $\\infty$. The $\\chi^2$ distribution has support on $[0,\\infty)$. The beta and standard uniform distributions have support on $[0,1]$. The Poisson distribution has support on the counting numbers 0, 1, 2..., and the K-categorical distribution has support on a finite number of integers 0, 1, 2, ... K. \n",
    "\n",
    "It's also totally possible to invent your own distribution by defining your own support set $A$ and mass/density function $\\phi$, as long as $\\phi(a) \\ge 0$ for all $a \\in A$ and $\\int_A \\phi(a) da = 1$ (see exercise in previous section).\n",
    "\n",
    "The point of this diversity is that it is possible to model different kinds of data. Apartment rents are always positive numbers, but theoretically unbounded above (a scary thought), so perhaps $\\chi^2$ is a good choice. The number of cars that pass through an intersection in a given day is always an integer, so Poisson is a reasonable choice for that. You don't have to remember any of these specific distributions or examples- just know there are many preconstructed pretend data factories out there to play with. Also know that the real data-generating process is pretty much *never* actually one of these distributions, although, sometimes, it might be well-approximated by one."
   ]
  },
  {
   "cell_type": "markdown",
   "metadata": {},
   "source": [
    "## Multivariate random variables"
   ]
  },
  {
   "cell_type": "markdown",
   "metadata": {},
   "source": [
    "Until now, we've only discussed scalar-valued random variables, which produce a single value at a time. In supervised learning, we need to figure something out about the relationship between a vector of predictors $x_i$ and a label $y_i$, which we imagine are generated in pairs by some data factory. We need language to describe that kind of factory."
   ]
  },
  {
   "cell_type": "markdown",
   "metadata": {},
   "source": [
    "A multivariate (or vector-valued) random variable is a factory that produces vectors instead of scalars. More formally, it's a mapping between outcomes in the sample space to vectors of numbers. All our old rules still apply: one outcome strictly maps to one vector. We can demonstrate:"
   ]
  },
  {
   "cell_type": "code",
   "execution_count": 24,
   "metadata": {},
   "outputs": [],
   "source": [
    "def Z(ω): \n",
    "    if ω in set([1,8]):\n",
    "        return (0,0)\n",
    "    if ω in set([4,5,9]): \n",
    "        return (1,0)\n",
    "    if ω in set([0,2,3]):\n",
    "        return (0,1)\n",
    "    if ω in set([6,7]):\n",
    "        return (1,1)\n",
    "Z.Ω = set([0,1,2,3,4,5,6,7,8,9]) "
   ]
  },
  {
   "cell_type": "code",
   "execution_count": 25,
   "metadata": {},
   "outputs": [
    {
     "data": {
      "text/plain": [
       "[(0, 1), (1, 0), (1, 0), (1, 0), (0, 0)]"
      ]
     },
     "execution_count": 25,
     "metadata": {},
     "output_type": "execute_result"
    }
   ],
   "source": [
    "[realize(Z) for i in range(5)]"
   ]
  },
  {
   "cell_type": "markdown",
   "metadata": {},
   "source": [
    "This is a discrete multivariate random variable because it can only return four possible values: $(0,0)$, $(1,0)$, $(0,1)$, and $(1,1)$. It's also possible to make continuous multivariate random variables:"
   ]
  },
  {
   "cell_type": "code",
   "execution_count": 26,
   "metadata": {},
   "outputs": [],
   "source": [
    "def Z(ω): \n",
    "    z1 = ω**2\n",
    "    z2 = 1-ω\n",
    "    return (z1, z2)\n",
    "Z.Ω = random.random # returns a single number between 0 and 1 when called"
   ]
  },
  {
   "cell_type": "code",
   "execution_count": 27,
   "metadata": {},
   "outputs": [
    {
     "data": {
      "text/plain": [
       "[(0.0946863421676289, 0.6922885407274716),\n",
       " (0.008179568731974963, 0.9095590317832954),\n",
       " (0.7032324847497207, 0.16141041936491918),\n",
       " (0.3328748946232098, 0.4230468869802245),\n",
       " (0.0438847722539876, 0.7905130737874375)]"
      ]
     },
     "execution_count": 27,
     "metadata": {},
     "output_type": "execute_result"
    }
   ],
   "source": [
    "[realize_cont(Z) for i in range(5)]"
   ]
  },
  {
   "cell_type": "markdown",
   "metadata": {},
   "source": [
    "Probabilities are the same for multivariate random variables as they are for univariate random variables: you grab all of the outcomes in the sample space that are destined to become one of the values you're looking for and you measure their relative volume. The calculations do get a little trickier, but the intuition is the same. When we were working with univariate random variables, the sets of interest were usually intervals (i.e. what's the probability that $z$ is between $a$ and $b$?). In the multivariate case, the equivalent of an interval on the number line is a region of the vector space. In general, you can think of a picture like this:"
   ]
  },
  {
   "cell_type": "markdown",
   "metadata": {},
   "source": [
    "![](2d_rv_preimage.png)"
   ]
  },
  {
   "cell_type": "markdown",
   "metadata": {},
   "source": [
    "For example, with $\\mathbf Z(\\omega) = (\\omega^2, 1-\\omega)$ as it is in our code, let's find the probability that the output vector $z = (z_1,z_2)$ is in the region corresponding to $z_1<0.5$ and $z_2<0.5$. Let's call that region $A = \\{(z_1,z_2):z_1<0.5, z_2<0.5)\\}$.\n",
    "\n",
    "In mathematical notation, what we're looking for is $P(\\mathbf Z \\in A)$ The first thing to notice is $z_1$ will only be less than $0.5$ if $\\omega$ is less than $\\sqrt{0.5}$, while $z_2$ will only be less than $0.5$ if $\\omega$ is greater than $0.5$. Stop and verify both of these facts. We need both conditions to hold, so the set of $\\omega$s that place $z$ into the region of interest is $[0.5, \\sqrt{0.5}] \\approx [0.5, 0.707]$. The volume of that set relative to the total sample space $[0,1]$ is $0.707-0.5$, so $P(\\mathbf Z \\in A) = 0.207$."
   ]
  },
  {
   "cell_type": "markdown",
   "metadata": {},
   "source": [
    "The outcomes and sample space are important to the definition of probability for multivariate random variables, but as we discussed in the previous section, we never really talk about the outcomes $\\omega$. Usually we define a random variable by directly specifying a probability distribution. That implies there is some sample space that is being mapped to the different realizable values in proportions corresponding to the mass or density function, but we don't actually care what it is. Calculating the probabilities of different events is just a matter of integrating the density over the appropriate set of events."
   ]
  },
  {
   "cell_type": "markdown",
   "metadata": {},
   "source": [
    "A multidimensional mass or density function works the same way as a unidimensional mass or density. For some set of events $A$,\n",
    "\n",
    "$$P(\\mathbf Z \\in A) = \\int_A \\phi(z) dz$$\n",
    "\n",
    "or, if $\\mathbf Z$ is discrete,\n",
    "\n",
    "$$P(\\mathbf Z \\in A) = \\sum_{z \\in A} \\phi(z)$$"
   ]
  },
  {
   "cell_type": "markdown",
   "metadata": {},
   "source": [
    "In other words, add up the total volume of the outcomes that end up mapping to an event in $A$- same as before. Let's say we have a 2-dimensional random variable $\\mathbf Z$ with the following distribution:\n",
    "\n",
    "$$ \n",
    "\\phi(z)\n",
    "= \n",
    "\\phi([z_1, z_2])\n",
    "= \n",
    "\\begin{cases}\n",
    "1 & \\text{for  } z_1, z_2 \\in [0,1] \\\\\n",
    "0 & \\text{else}\n",
    "\\end{cases}\n",
    "$$\n",
    "\n",
    "This is the 2-dimensional **uniform** distribution over $[0,1] \\times [0,1]$, which is often written $\\mathbf Z \\sim \\text{Unif}([0,1]\\times[0,1])$."
   ]
  },
  {
   "cell_type": "markdown",
   "metadata": {},
   "source": [
    "<div class=\"alert alert-block alert-warning\">\n",
    "<b>Note:</b> \n",
    "$[0,1] \\times [0,1]$ is shorthand for the square set $\\{(z_1,z_2) : z_1 \\in [0,1], z_2 \\in [0,1]\\}$.\n",
    "    \n",
    "</div>"
   ]
  },
  {
   "cell_type": "markdown",
   "metadata": {},
   "source": [
    "Let's find the probability that $\\mathbf Z$ takes values in the \"triangle\" $A$ defined by the vertices $[0,0]$, $[1,1]$, and $[1,0]$. Another way to define this is $A = \\{(z_1,z_2) : z_1 \\in [0,1], 0 \\le z_2 \\le z_1\\}$. "
   ]
  },
  {
   "cell_type": "markdown",
   "metadata": {},
   "source": [
    "<div class=\"alert alert-block alert-info\">\n",
    "<b>Exercise:</b> \n",
    "\n",
    "Copy this coordinate system onto a piece of paper:\n",
    "    \n",
    "<img src='axes.png'>\n",
    "    \n",
    "Draw in tick marks for $z_1$ = 1 and $z_2$ = 1. On the $(z_1,z_2)$ plane, lightly shade in the region for which $\\phi(z)$ is 1. Shade in the region $A$ (as defined above) more darkly. \n",
    "    \n",
    "On the vertical axis, use the lightly shaded region to draw in the surface of $\\phi(z)$.\n",
    "    \n",
    "Using geometry, calculate the volume under $\\phi(z)$ that's on top of the darkly shaded region $A$. This is $P(\\mathbf Z \\in A)$.\n",
    "    \n",
    "</div>"
   ]
  },
  {
   "cell_type": "markdown",
   "metadata": {},
   "source": [
    "We can use calculus to get the same answer:"
   ]
  },
  {
   "cell_type": "markdown",
   "metadata": {},
   "source": [
    "$$\n",
    "\\begin{array}{rcl}\n",
    "P(\\mathbf Z \\in A) & = & \\int_A \\phi(z) dz \\\\\n",
    "& = & \\int_{-\\infty}^{\\infty} \\int_{-\\infty}^{\\infty} I_{A}(z) \\phi(z) dz_1 dz_2 \\\\\n",
    "& = & \\int_0^1 \\int_0^{z_2} 1 dz_1 dz_2 \\\\\n",
    "& = & 1/2\n",
    "\\end{array}\n",
    "$$"
   ]
  },
  {
   "cell_type": "markdown",
   "metadata": {},
   "source": [
    "Note that, just as with unidimensional random variables, the density of any multidimensional random variable has to integrate to 1 over its entire support: $\\int_{-\\infty}^{\\infty} \\int_{-\\infty}^{\\infty} \\phi(z) dz_1 dz_2 = 1$. As before, this is so that the answer to \"what is the probability that $z$ is any point in the $(z_1, z_2)$ space at all?\" is the intuitive \"1\". It's also the same as saying that the silo of outcomes has total volume equal to 1."
   ]
  },
  {
   "cell_type": "markdown",
   "metadata": {},
   "source": [
    "### Joint Distributions"
   ]
  },
  {
   "cell_type": "markdown",
   "metadata": {},
   "source": [
    "We often think about multivariate random variables as several different random variables \"glued together\" into one: \n",
    "\n",
    "$$\\mathbf Z = [\\mathbf Z_1, \\mathbf Z_2]$$"
   ]
  },
  {
   "cell_type": "markdown",
   "metadata": {},
   "source": [
    "Now, instead of talking about the distribution of $\\mathbf Z$, we talk about the **joint distribution** of $\\mathbf Z_1$ and $\\mathbf Z_2$. It's the exact same thing, though. The only advantage of doing this is that we don't have to give the joint variable $\\mathbf Z$ a name if we don't care to."
   ]
  },
  {
   "cell_type": "markdown",
   "metadata": {},
   "source": [
    "$$ \n",
    "\\phi_\\mathbf{Z}(z)\n",
    "=\n",
    "\\phi_\\mathbf{Z}([z_1, z_2])\n",
    "=\n",
    "\\phi_{\\mathbf Z_1, \\mathbf Z_2}(z_1, z_2)\n",
    "$$"
   ]
  },
  {
   "cell_type": "markdown",
   "metadata": {},
   "source": [
    "![](2d_joint.png)"
   ]
  },
  {
   "cell_type": "markdown",
   "metadata": {},
   "source": [
    "What's being glued together are two factories- they still share one silo. Our metaphor gets a little tricky here because the same single nugget of ore $\\omega$ now passes simultaneously through both factories to produce the two outputs $z_1$ and $z_2$. As with all metaphors, it can only carry us so far! "
   ]
  },
  {
   "cell_type": "markdown",
   "metadata": {},
   "source": [
    "Let's look at an example of a joint distribution of two discrete random variables $\\mathbf V_1$ and $\\mathbf V_2$ that I made up, each of which take values from $\\{0,1,2,\\dots 9\\}$. "
   ]
  },
  {
   "cell_type": "code",
   "execution_count": 420,
   "metadata": {},
   "outputs": [],
   "source": [
    "def joint(v1, v2): # v1, v2 in {0,1,2,..9}\n",
    "    P_raw = np.array(\n",
    "      [[ 0.,  0.,  1.,  9., 30., 32., 19.,  5.,  0.,  0.],\n",
    "       [ 0.,  0.,  0.,  2., 12., 28., 30., 12.,  5.,  0.],\n",
    "       [ 0.,  0.,  0.,  0.,  2., 20., 35., 27.,  3.,  4.],\n",
    "       [ 0.,  0.,  0.,  0.,  8., 21., 38., 39., 11.,  2.],\n",
    "       [ 0.,  0.,  0.,  0.,  4., 32., 37., 15.,  4.,  1.],\n",
    "       [ 0.,  0.,  1.,  5., 18., 43., 21.,  8.,  2.,  0.],\n",
    "       [ 0.,  0.,  6., 25., 35., 25.,  8.,  1.,  0.,  0.],\n",
    "       [ 0.,  2., 19., 47., 20., 16.,  1.,  0.,  0.,  0.],\n",
    "       [ 2., 12., 32., 36., 17.,  3.,  0.,  0.,  0.,  0.],\n",
    "       [ 9., 15., 44., 32.,  7.,  0.,  0.,  0.,  0.,  0.]])\n",
    "    return P_raw[v1, v2]/np.sum(P_raw) # need to make it so that Σ p_ij = 1 so that this is a valid mass function"
   ]
  },
  {
   "cell_type": "markdown",
   "metadata": {},
   "source": [
    "We can calculate probabilities using the mass function as usual: $P(\\mathbf V_1 =1, \\mathbf V_2 = 5) = \\phi(1,5)$:"
   ]
  },
  {
   "cell_type": "code",
   "execution_count": 421,
   "metadata": {},
   "outputs": [
    {
     "data": {
      "text/plain": [
       "0.028"
      ]
     },
     "execution_count": 421,
     "metadata": {},
     "output_type": "execute_result"
    }
   ],
   "source": [
    "joint(1,5)"
   ]
  },
  {
   "cell_type": "markdown",
   "metadata": {},
   "source": [
    "Let's plot the joint mass function as a heatmap so we can get a better feel for it."
   ]
  },
  {
   "cell_type": "code",
   "execution_count": 422,
   "metadata": {},
   "outputs": [
    {
     "data": {
      "application/vnd.vegalite.v3+json": {
       "$schema": "https://vega.github.io/schema/vega-lite/v3.4.0.json",
       "config": {
        "mark": {
         "tooltip": null
        },
        "view": {
         "height": 300,
         "width": 400
        }
       },
       "data": {
        "name": "data-397748fb6c135f44ff027f129b5b312e"
       },
       "datasets": {
        "data-397748fb6c135f44ff027f129b5b312e": [
         {
          "v1": 0,
          "v2": 0,
          "ϕ": 0
         },
         {
          "v1": 0,
          "v2": 1,
          "ϕ": 0
         },
         {
          "v1": 0,
          "v2": 2,
          "ϕ": 0.001
         },
         {
          "v1": 0,
          "v2": 3,
          "ϕ": 0.009
         },
         {
          "v1": 0,
          "v2": 4,
          "ϕ": 0.03
         },
         {
          "v1": 0,
          "v2": 5,
          "ϕ": 0.032
         },
         {
          "v1": 0,
          "v2": 6,
          "ϕ": 0.019
         },
         {
          "v1": 0,
          "v2": 7,
          "ϕ": 0.005
         },
         {
          "v1": 0,
          "v2": 8,
          "ϕ": 0
         },
         {
          "v1": 0,
          "v2": 9,
          "ϕ": 0
         },
         {
          "v1": 1,
          "v2": 0,
          "ϕ": 0
         },
         {
          "v1": 1,
          "v2": 1,
          "ϕ": 0
         },
         {
          "v1": 1,
          "v2": 2,
          "ϕ": 0
         },
         {
          "v1": 1,
          "v2": 3,
          "ϕ": 0.002
         },
         {
          "v1": 1,
          "v2": 4,
          "ϕ": 0.012
         },
         {
          "v1": 1,
          "v2": 5,
          "ϕ": 0.028
         },
         {
          "v1": 1,
          "v2": 6,
          "ϕ": 0.03
         },
         {
          "v1": 1,
          "v2": 7,
          "ϕ": 0.012
         },
         {
          "v1": 1,
          "v2": 8,
          "ϕ": 0.005
         },
         {
          "v1": 1,
          "v2": 9,
          "ϕ": 0
         },
         {
          "v1": 2,
          "v2": 0,
          "ϕ": 0
         },
         {
          "v1": 2,
          "v2": 1,
          "ϕ": 0
         },
         {
          "v1": 2,
          "v2": 2,
          "ϕ": 0
         },
         {
          "v1": 2,
          "v2": 3,
          "ϕ": 0
         },
         {
          "v1": 2,
          "v2": 4,
          "ϕ": 0.002
         },
         {
          "v1": 2,
          "v2": 5,
          "ϕ": 0.02
         },
         {
          "v1": 2,
          "v2": 6,
          "ϕ": 0.035
         },
         {
          "v1": 2,
          "v2": 7,
          "ϕ": 0.027
         },
         {
          "v1": 2,
          "v2": 8,
          "ϕ": 0.003
         },
         {
          "v1": 2,
          "v2": 9,
          "ϕ": 0.004
         },
         {
          "v1": 3,
          "v2": 0,
          "ϕ": 0
         },
         {
          "v1": 3,
          "v2": 1,
          "ϕ": 0
         },
         {
          "v1": 3,
          "v2": 2,
          "ϕ": 0
         },
         {
          "v1": 3,
          "v2": 3,
          "ϕ": 0
         },
         {
          "v1": 3,
          "v2": 4,
          "ϕ": 0.008
         },
         {
          "v1": 3,
          "v2": 5,
          "ϕ": 0.021
         },
         {
          "v1": 3,
          "v2": 6,
          "ϕ": 0.038
         },
         {
          "v1": 3,
          "v2": 7,
          "ϕ": 0.039
         },
         {
          "v1": 3,
          "v2": 8,
          "ϕ": 0.011
         },
         {
          "v1": 3,
          "v2": 9,
          "ϕ": 0.002
         },
         {
          "v1": 4,
          "v2": 0,
          "ϕ": 0
         },
         {
          "v1": 4,
          "v2": 1,
          "ϕ": 0
         },
         {
          "v1": 4,
          "v2": 2,
          "ϕ": 0
         },
         {
          "v1": 4,
          "v2": 3,
          "ϕ": 0
         },
         {
          "v1": 4,
          "v2": 4,
          "ϕ": 0.004
         },
         {
          "v1": 4,
          "v2": 5,
          "ϕ": 0.032
         },
         {
          "v1": 4,
          "v2": 6,
          "ϕ": 0.037
         },
         {
          "v1": 4,
          "v2": 7,
          "ϕ": 0.015
         },
         {
          "v1": 4,
          "v2": 8,
          "ϕ": 0.004
         },
         {
          "v1": 4,
          "v2": 9,
          "ϕ": 0.001
         },
         {
          "v1": 5,
          "v2": 0,
          "ϕ": 0
         },
         {
          "v1": 5,
          "v2": 1,
          "ϕ": 0
         },
         {
          "v1": 5,
          "v2": 2,
          "ϕ": 0.001
         },
         {
          "v1": 5,
          "v2": 3,
          "ϕ": 0.005
         },
         {
          "v1": 5,
          "v2": 4,
          "ϕ": 0.018
         },
         {
          "v1": 5,
          "v2": 5,
          "ϕ": 0.043
         },
         {
          "v1": 5,
          "v2": 6,
          "ϕ": 0.021
         },
         {
          "v1": 5,
          "v2": 7,
          "ϕ": 0.008
         },
         {
          "v1": 5,
          "v2": 8,
          "ϕ": 0.002
         },
         {
          "v1": 5,
          "v2": 9,
          "ϕ": 0
         },
         {
          "v1": 6,
          "v2": 0,
          "ϕ": 0
         },
         {
          "v1": 6,
          "v2": 1,
          "ϕ": 0
         },
         {
          "v1": 6,
          "v2": 2,
          "ϕ": 0.006
         },
         {
          "v1": 6,
          "v2": 3,
          "ϕ": 0.025
         },
         {
          "v1": 6,
          "v2": 4,
          "ϕ": 0.035
         },
         {
          "v1": 6,
          "v2": 5,
          "ϕ": 0.025
         },
         {
          "v1": 6,
          "v2": 6,
          "ϕ": 0.008
         },
         {
          "v1": 6,
          "v2": 7,
          "ϕ": 0.001
         },
         {
          "v1": 6,
          "v2": 8,
          "ϕ": 0
         },
         {
          "v1": 6,
          "v2": 9,
          "ϕ": 0
         },
         {
          "v1": 7,
          "v2": 0,
          "ϕ": 0
         },
         {
          "v1": 7,
          "v2": 1,
          "ϕ": 0.002
         },
         {
          "v1": 7,
          "v2": 2,
          "ϕ": 0.019
         },
         {
          "v1": 7,
          "v2": 3,
          "ϕ": 0.047
         },
         {
          "v1": 7,
          "v2": 4,
          "ϕ": 0.02
         },
         {
          "v1": 7,
          "v2": 5,
          "ϕ": 0.016
         },
         {
          "v1": 7,
          "v2": 6,
          "ϕ": 0.001
         },
         {
          "v1": 7,
          "v2": 7,
          "ϕ": 0
         },
         {
          "v1": 7,
          "v2": 8,
          "ϕ": 0
         },
         {
          "v1": 7,
          "v2": 9,
          "ϕ": 0
         },
         {
          "v1": 8,
          "v2": 0,
          "ϕ": 0.002
         },
         {
          "v1": 8,
          "v2": 1,
          "ϕ": 0.012
         },
         {
          "v1": 8,
          "v2": 2,
          "ϕ": 0.032
         },
         {
          "v1": 8,
          "v2": 3,
          "ϕ": 0.036
         },
         {
          "v1": 8,
          "v2": 4,
          "ϕ": 0.017
         },
         {
          "v1": 8,
          "v2": 5,
          "ϕ": 0.003
         },
         {
          "v1": 8,
          "v2": 6,
          "ϕ": 0
         },
         {
          "v1": 8,
          "v2": 7,
          "ϕ": 0
         },
         {
          "v1": 8,
          "v2": 8,
          "ϕ": 0
         },
         {
          "v1": 8,
          "v2": 9,
          "ϕ": 0
         },
         {
          "v1": 9,
          "v2": 0,
          "ϕ": 0.009
         },
         {
          "v1": 9,
          "v2": 1,
          "ϕ": 0.015
         },
         {
          "v1": 9,
          "v2": 2,
          "ϕ": 0.044
         },
         {
          "v1": 9,
          "v2": 3,
          "ϕ": 0.032
         },
         {
          "v1": 9,
          "v2": 4,
          "ϕ": 0.007
         },
         {
          "v1": 9,
          "v2": 5,
          "ϕ": 0
         },
         {
          "v1": 9,
          "v2": 6,
          "ϕ": 0
         },
         {
          "v1": 9,
          "v2": 7,
          "ϕ": 0
         },
         {
          "v1": 9,
          "v2": 8,
          "ϕ": 0
         },
         {
          "v1": 9,
          "v2": 9,
          "ϕ": 0
         }
        ]
       },
       "encoding": {
        "color": {
         "field": "ϕ",
         "type": "quantitative"
        },
        "x": {
         "field": "v1",
         "type": "ordinal"
        },
        "y": {
         "field": "v2",
         "type": "ordinal"
        }
       },
       "height": 300,
       "mark": "rect",
       "width": 300
      },
      "image/png": "[encoded data removed]",
      "text/plain": [
       "<VegaLite 3 object>\n",
       "\n",
       "If you see this message, it means the renderer has not been properly enabled\n",
       "for the frontend that you are using. For more information, see\n",
       "https://altair-viz.github.io/user_guide/troubleshooting.html\n"
      ]
     },
     "execution_count": 422,
     "metadata": {},
     "output_type": "execute_result"
    }
   ],
   "source": [
    "from itertools import product\n",
    "vs = list(product(range(10), range(10))) # all the possible combinations of (v1, v2)\n",
    "prob = [joint(v[0],v[1]) for v in vs]\n",
    "v1, v2 = zip(*vs)\n",
    "plot_data = pd.DataFrame({'v1':v1, 'v2':v2, 'ϕ':prob})\n",
    "alt.Chart(plot_data, width=300, height=300).mark_rect().encode(x='v1:O', y='v2:O', color='ϕ')"
   ]
  },
  {
   "cell_type": "markdown",
   "metadata": {},
   "source": [
    "We can also calculate the probability of events that are encoded as \"regions\" in the event space, as we did with our continuous random variable. For example, let's say we're interested in the probability that $\\mathbf V_1$ takes a value that is at least 2 units less than $\\mathbf V_2$. We can write that as $P(\\mathbf V_1 \\le \\mathbf V_2 - 2)$ or as $P([\\mathbf V_1, \\mathbf V_2] \\in A)$ where $A$ is the region that looks like this:"
   ]
  },
  {
   "cell_type": "code",
   "execution_count": 423,
   "metadata": {},
   "outputs": [
    {
     "data": {
      "application/vnd.vegalite.v3+json": {
       "$schema": "https://vega.github.io/schema/vega-lite/v3.4.0.json",
       "config": {
        "mark": {
         "tooltip": null
        },
        "view": {
         "height": 300,
         "width": 400
        }
       },
       "data": {
        "name": "data-35d10cac140f1228482752bf0f4a9197"
       },
       "datasets": {
        "data-35d10cac140f1228482752bf0f4a9197": [
         {
          "A": false,
          "v1": 0,
          "v2": 0
         },
         {
          "A": false,
          "v1": 0,
          "v2": 1
         },
         {
          "A": true,
          "v1": 0,
          "v2": 2
         },
         {
          "A": true,
          "v1": 0,
          "v2": 3
         },
         {
          "A": true,
          "v1": 0,
          "v2": 4
         },
         {
          "A": true,
          "v1": 0,
          "v2": 5
         },
         {
          "A": true,
          "v1": 0,
          "v2": 6
         },
         {
          "A": true,
          "v1": 0,
          "v2": 7
         },
         {
          "A": true,
          "v1": 0,
          "v2": 8
         },
         {
          "A": true,
          "v1": 0,
          "v2": 9
         },
         {
          "A": false,
          "v1": 1,
          "v2": 0
         },
         {
          "A": false,
          "v1": 1,
          "v2": 1
         },
         {
          "A": false,
          "v1": 1,
          "v2": 2
         },
         {
          "A": true,
          "v1": 1,
          "v2": 3
         },
         {
          "A": true,
          "v1": 1,
          "v2": 4
         },
         {
          "A": true,
          "v1": 1,
          "v2": 5
         },
         {
          "A": true,
          "v1": 1,
          "v2": 6
         },
         {
          "A": true,
          "v1": 1,
          "v2": 7
         },
         {
          "A": true,
          "v1": 1,
          "v2": 8
         },
         {
          "A": true,
          "v1": 1,
          "v2": 9
         },
         {
          "A": false,
          "v1": 2,
          "v2": 0
         },
         {
          "A": false,
          "v1": 2,
          "v2": 1
         },
         {
          "A": false,
          "v1": 2,
          "v2": 2
         },
         {
          "A": false,
          "v1": 2,
          "v2": 3
         },
         {
          "A": true,
          "v1": 2,
          "v2": 4
         },
         {
          "A": true,
          "v1": 2,
          "v2": 5
         },
         {
          "A": true,
          "v1": 2,
          "v2": 6
         },
         {
          "A": true,
          "v1": 2,
          "v2": 7
         },
         {
          "A": true,
          "v1": 2,
          "v2": 8
         },
         {
          "A": true,
          "v1": 2,
          "v2": 9
         },
         {
          "A": false,
          "v1": 3,
          "v2": 0
         },
         {
          "A": false,
          "v1": 3,
          "v2": 1
         },
         {
          "A": false,
          "v1": 3,
          "v2": 2
         },
         {
          "A": false,
          "v1": 3,
          "v2": 3
         },
         {
          "A": false,
          "v1": 3,
          "v2": 4
         },
         {
          "A": true,
          "v1": 3,
          "v2": 5
         },
         {
          "A": true,
          "v1": 3,
          "v2": 6
         },
         {
          "A": true,
          "v1": 3,
          "v2": 7
         },
         {
          "A": true,
          "v1": 3,
          "v2": 8
         },
         {
          "A": true,
          "v1": 3,
          "v2": 9
         },
         {
          "A": false,
          "v1": 4,
          "v2": 0
         },
         {
          "A": false,
          "v1": 4,
          "v2": 1
         },
         {
          "A": false,
          "v1": 4,
          "v2": 2
         },
         {
          "A": false,
          "v1": 4,
          "v2": 3
         },
         {
          "A": false,
          "v1": 4,
          "v2": 4
         },
         {
          "A": false,
          "v1": 4,
          "v2": 5
         },
         {
          "A": true,
          "v1": 4,
          "v2": 6
         },
         {
          "A": true,
          "v1": 4,
          "v2": 7
         },
         {
          "A": true,
          "v1": 4,
          "v2": 8
         },
         {
          "A": true,
          "v1": 4,
          "v2": 9
         },
         {
          "A": false,
          "v1": 5,
          "v2": 0
         },
         {
          "A": false,
          "v1": 5,
          "v2": 1
         },
         {
          "A": false,
          "v1": 5,
          "v2": 2
         },
         {
          "A": false,
          "v1": 5,
          "v2": 3
         },
         {
          "A": false,
          "v1": 5,
          "v2": 4
         },
         {
          "A": false,
          "v1": 5,
          "v2": 5
         },
         {
          "A": false,
          "v1": 5,
          "v2": 6
         },
         {
          "A": true,
          "v1": 5,
          "v2": 7
         },
         {
          "A": true,
          "v1": 5,
          "v2": 8
         },
         {
          "A": true,
          "v1": 5,
          "v2": 9
         },
         {
          "A": false,
          "v1": 6,
          "v2": 0
         },
         {
          "A": false,
          "v1": 6,
          "v2": 1
         },
         {
          "A": false,
          "v1": 6,
          "v2": 2
         },
         {
          "A": false,
          "v1": 6,
          "v2": 3
         },
         {
          "A": false,
          "v1": 6,
          "v2": 4
         },
         {
          "A": false,
          "v1": 6,
          "v2": 5
         },
         {
          "A": false,
          "v1": 6,
          "v2": 6
         },
         {
          "A": false,
          "v1": 6,
          "v2": 7
         },
         {
          "A": true,
          "v1": 6,
          "v2": 8
         },
         {
          "A": true,
          "v1": 6,
          "v2": 9
         },
         {
          "A": false,
          "v1": 7,
          "v2": 0
         },
         {
          "A": false,
          "v1": 7,
          "v2": 1
         },
         {
          "A": false,
          "v1": 7,
          "v2": 2
         },
         {
          "A": false,
          "v1": 7,
          "v2": 3
         },
         {
          "A": false,
          "v1": 7,
          "v2": 4
         },
         {
          "A": false,
          "v1": 7,
          "v2": 5
         },
         {
          "A": false,
          "v1": 7,
          "v2": 6
         },
         {
          "A": false,
          "v1": 7,
          "v2": 7
         },
         {
          "A": false,
          "v1": 7,
          "v2": 8
         },
         {
          "A": true,
          "v1": 7,
          "v2": 9
         },
         {
          "A": false,
          "v1": 8,
          "v2": 0
         },
         {
          "A": false,
          "v1": 8,
          "v2": 1
         },
         {
          "A": false,
          "v1": 8,
          "v2": 2
         },
         {
          "A": false,
          "v1": 8,
          "v2": 3
         },
         {
          "A": false,
          "v1": 8,
          "v2": 4
         },
         {
          "A": false,
          "v1": 8,
          "v2": 5
         },
         {
          "A": false,
          "v1": 8,
          "v2": 6
         },
         {
          "A": false,
          "v1": 8,
          "v2": 7
         },
         {
          "A": false,
          "v1": 8,
          "v2": 8
         },
         {
          "A": false,
          "v1": 8,
          "v2": 9
         },
         {
          "A": false,
          "v1": 9,
          "v2": 0
         },
         {
          "A": false,
          "v1": 9,
          "v2": 1
         },
         {
          "A": false,
          "v1": 9,
          "v2": 2
         },
         {
          "A": false,
          "v1": 9,
          "v2": 3
         },
         {
          "A": false,
          "v1": 9,
          "v2": 4
         },
         {
          "A": false,
          "v1": 9,
          "v2": 5
         },
         {
          "A": false,
          "v1": 9,
          "v2": 6
         },
         {
          "A": false,
          "v1": 9,
          "v2": 7
         },
         {
          "A": false,
          "v1": 9,
          "v2": 8
         },
         {
          "A": false,
          "v1": 9,
          "v2": 9
         }
        ]
       },
       "encoding": {
        "color": {
         "field": "A",
         "type": "nominal"
        },
        "x": {
         "field": "v1",
         "type": "ordinal"
        },
        "y": {
         "field": "v2",
         "type": "ordinal"
        }
       },
       "height": 300,
       "mark": "rect",
       "width": 300
      },
      "image/png": "[encoded data removed]",
      "text/plain": [
       "<VegaLite 3 object>\n",
       "\n",
       "If you see this message, it means the renderer has not been properly enabled\n",
       "for the frontend that you are using. For more information, see\n",
       "https://altair-viz.github.io/user_guide/troubleshooting.html\n"
      ]
     },
     "execution_count": 423,
     "metadata": {},
     "output_type": "execute_result"
    }
   ],
   "source": [
    "a = np.array(v1) <= np.array(v2)-2\n",
    "plot_data = pd.DataFrame({'v1':v1, 'v2':v2, 'A':a})\n",
    "alt.Chart(plot_data, width=300, height=300).mark_rect().encode(x='v1:O', y='v2:O', color='A:N')"
   ]
  },
  {
   "cell_type": "markdown",
   "metadata": {},
   "source": [
    "To get the probabiity we want, we just need to sum up all the values of the joint mass function that are over the orange region of interest\n",
    "\n",
    "$$P(\\mathbf V_1 \\le \\mathbf V_2 - 2) = \\sum_{v_1 \\le v_2-2} \\phi(v_1, v_2)$$"
   ]
  },
  {
   "cell_type": "code",
   "execution_count": 441,
   "metadata": {},
   "outputs": [
    {
     "data": {
      "text/plain": [
       "0.454"
      ]
     },
     "execution_count": 441,
     "metadata": {},
     "output_type": "execute_result"
    }
   ],
   "source": [
    "sum(joint(v1,v2) for v1, v2 in vs if v1<=v2-2)"
   ]
  },
  {
   "cell_type": "markdown",
   "metadata": {},
   "source": [
    "### Conditional Probabilities"
   ]
  },
  {
   "cell_type": "markdown",
   "metadata": {},
   "source": [
    "Thinking about combinations of random variables buys us the ability to talk about the relationships between measurements of the different variables. For instance, if we beleive that $[Z_1, Z_2]$ is the factory that generates measurements of people's heights ($z_1$) and weights ($z_2$), can we calculate the probability that someone who is over 2 meters tall weighs more than 80 kilograms? "
   ]
  },
  {
   "cell_type": "markdown",
   "metadata": {},
   "source": [
    "Probabilities like these are called **conditional probabilities**. That's because we're interested in the probability of something, given that some other condition holds. In our example, the condition is that the person must be over 2 meters tall. The notation for this is $P(\\mathbf Z_2 > 80 | \\mathbf Z_1 > 2)$, which is read as \"the probability of $\\mathbf Z_2 > 80$ given $\\mathbf Z_1 > 2$\"."
   ]
  },
  {
   "cell_type": "markdown",
   "metadata": {},
   "source": [
    "How do we calculate that probability, given a joint density or mass? Let's think about it... any probability is just a volume of some subset of the outcomes in the sample space. So what we're really asking for is the volume of the outcomes $\\omega$ that map to values of $z_1$ greater than 2 and also $z_2$ greater than 80, relative to the volume of the outcomes that map to values of $z_1$ greater than 2. "
   ]
  },
  {
   "cell_type": "markdown",
   "metadata": {},
   "source": [
    "![](conditional_rv.png)"
   ]
  },
  {
   "cell_type": "markdown",
   "metadata": {},
   "source": [
    "In the picture above, the conditonal probability we're looking for is the ratio of the volumes of the purple oval and the grey circle, which are subsets of the sample space."
   ]
  },
  {
   "cell_type": "markdown",
   "metadata": {},
   "source": [
    "We can get the volume of outcomes mapping to a particular region of the event space (like $z_1>2$) by integrating the density over that region. Thus what we need to do is first integrate the density over the region where heights are more than 2 meters, then do the same for the region where heights are more than 2 meters *and* weights are over 80kg. Then we should divide the latter by the former to get the proportional volume of the two sets of outcomes: "
   ]
  },
  {
   "cell_type": "markdown",
   "metadata": {},
   "source": [
    "$$\n",
    "P(\\mathbf Z_2 > 80 | \\mathbf Z_1 > 2)\n",
    "= \n",
    "\\frac\n",
    "{P(\\mathbf Z_2 > 80, \\mathbf Z_1 > 2)}\n",
    "{P(\\mathbf Z_1 > 2)}\n",
    "= \n",
    "\\frac\n",
    "{\\int_{z_2 > 80, z_1 > 2} \\phi(z_1, z_2) dz_1 dz_2}\n",
    "{\\int_{z_1 > 2} \\phi(z_1, z_2) dz_1 dz_2}\n",
    "=\n",
    "\\frac\n",
    "{\\int_{80}^{\\infty} \\int_{2}^{\\infty} \\phi(z_1, z_2) dz_1 dz_2}\n",
    "{\\int_{-\\infty}^{\\infty} \\int_{2}^{\\infty} \\phi(z_1, z_2) dz_1 dz_2}\n",
    "$$"
   ]
  },
  {
   "cell_type": "markdown",
   "metadata": {},
   "source": [
    "It works the same way for discrete random variables:"
   ]
  },
  {
   "cell_type": "markdown",
   "metadata": {},
   "source": [
    "$$\n",
    "P(\\mathbf V_1 \\in A_1 | \\mathbf V_2 \\in A_2) \n",
    "= \n",
    "\\frac\n",
    "{P(\\mathbf V_1 \\in A_1, \\mathbf V_2 \\in A_2)}\n",
    "{P(\\mathbf V_2 \\in A_2)}\n",
    "= \n",
    "\\frac\n",
    "{\\sum_{v_1 \\in A_1, v_2 \\in A_2} \\phi(v_1, v_2)}\n",
    "{\\sum_{v_2 \\in A_2} \\phi(v_1, v_2)}\n",
    "$$"
   ]
  },
  {
   "cell_type": "markdown",
   "metadata": {},
   "source": [
    "<div class=\"alert alert-block alert-info\">\n",
    "<b>Exercise:</b> \n",
    "\n",
    "Go back to the code we had in the section above that defined a joint density function for two discrete random variables $\\mathbf V_1$ and $\\mathbf V_2$. Use that density function to calculate $P(V_1 < 4| V_2 > 3)$. The answer you should get is about 0.546.\n",
    "    \n",
    "</div>"
   ]
  },
  {
   "cell_type": "markdown",
   "metadata": {},
   "source": [
    "We can take this idea step further and define the **conditioned random variable** $\\mathbf Z_1 | (\\mathbf Z_2=z_2)$. This is random variable that you get when you take $\\mathbf Z_1$, but subset the sample space $\\Omega$ to include only those outcomes where $\\mathbf Z_2(\\omega) = z_2$. Each different value of $z_2$ defines a different conditioned version of $\\mathbf Z_1 | \\mathbf Z_2$."
   ]
  },
  {
   "cell_type": "markdown",
   "metadata": {},
   "source": [
    "We're getting *really* close to machine learning now. Remember $x_i$ and $y_i$? Let's say we observe $x_i$ but we don't know what $y_i$ is. If those are realizations from some random variables $\\mathbf X_i$ and $\\mathbf Y_i$, though, and we know their joint density, then we can calculate $P(\\mathbf Y_i | \\mathbf X_i = x_i)$. That tells us the probability that $Y_i$ is any value we want to know, given that we know what $x_i$ was! We can then find the value or region of $y$ that has the most probability- this would be the most likely label, our best guess for what the unobserved $y_i$ is! Of course, we can't actually know what the real joint density is (we don't see the real factory). But we'll get to that."
   ]
  },
  {
   "cell_type": "markdown",
   "metadata": {},
   "source": [
    "The distribution of the random variable $\\mathbf Z_1|(\\mathbf Z=z_2)$ is easy to extract from the joint distribution: just hardcode the $z_2$ value in the joint distribution to the desired value: $\\tilde\\phi_{\\mathbf Z_1|\\mathbf Z_2=z_2}(z_1) = \\phi_{\\mathbf Z_1, \\mathbf Z_2}(z_1,z_2)$. The only wrinkle is that the resulting $\\tilde\\phi$ will not be normalized so that its total probability across all $z_1$ is 1 (i.e. the new \"silo\" will not have volume 1). To fix this, we scale the whole function up by dividing by the total area under $\\tilde\\phi$:\n",
    "\n",
    "$$\n",
    "\\phi_{\\mathbf Z_1|\\mathbf Z_2=z_2}(z_1) \n",
    "=\n",
    "\\frac\n",
    "{\\phi_{\\mathbf Z_1, \\mathbf Z_2}(z_1,z_2)}\n",
    "{\\int_{-\\infty}^\\infty \\phi_{\\mathbf Z_1, \\mathbf Z_2}(z_1,z_2) dz_1}\n",
    "$$\n",
    "\n",
    "or, for discrete random variables:\n",
    "\n",
    "$$\n",
    "\\phi_{\\mathbf Z_1|\\mathbf Z_2=z_2}(z_1) \n",
    "=\n",
    "\\frac\n",
    "{\\phi_{\\mathbf Z_1, \\mathbf Z_2}(z_1,z_2)}\n",
    "{\\sum_{z_1} \\phi_{\\mathbf Z_1, \\mathbf Z_2}(z_1,z_2)}\n",
    "$$"
   ]
  },
  {
   "cell_type": "markdown",
   "metadata": {},
   "source": [
    "When I think of conditional density, though, I don't think of a formula. I think of a picture like this:"
   ]
  },
  {
   "cell_type": "markdown",
   "metadata": {},
   "source": [
    "![](bivariate_norm_cond.png)"
   ]
  },
  {
   "cell_type": "markdown",
   "metadata": {},
   "source": [
    "Here you can see two things: \n",
    "\n",
    "1. After conditioning on $\\mathbf Z_2$, the density is now only a function of $z_1$. The old factory $[\\mathbf Z_1, \\mathbf Z_2]$ produces two values at a time ($z_1$ and $z_2$). The conditioned factory $\\mathbf Z_1 | \\mathbf Z_2=z_2$ just produces one: $z_1$. Another way to think about this is that we've taken the original factory and reduced it to the operating conditions under which $z_2$ comes out as a particular value.\n",
    "2. The conditioned density you get back depends on the value $z_2$ that you condition on. As you scan $z_2$ across its range, the shape of the resulting conditioned distribution will change."
   ]
  },
  {
   "cell_type": "markdown",
   "metadata": {},
   "source": [
    "When there more than two dimensions, it's harder to picture this, but the idea is the same. You \"slice\" the multivariate distribution at the specified place on the specified axis. The conditional distribution can itself also be multivariate: if you have four variables and you slice at a place given by two of them, you'll get back a distribution over the remaining two. "
   ]
  },
  {
   "cell_type": "markdown",
   "metadata": {},
   "source": [
    "### Marginal Probabilities"
   ]
  },
  {
   "cell_type": "markdown",
   "metadata": {},
   "source": [
    "The \"scaling factor\" $\\int_{-\\infty}^\\infty \\phi_{\\mathbf Z_1, \\mathbf Z_2}(z_1,z_2) dz_1$ or $\\sum_{z_1} \\phi_{\\mathbf Z_1, \\mathbf Z_2}(z_1,z_2)$ that we need to calculate the conditional distribution only depends on what the value of $z_2$ is. You can think of it as summing up all the variation over $z_1$ at a given level of $z_2$. This quantity is called the **marginal distribution** of $\\mathbf Z_2$ and is usually denoted $\\phi_{\\mathbf Z_2}(z_2)$. "
   ]
  },
  {
   "cell_type": "markdown",
   "metadata": {},
   "source": [
    "<div class=\"alert alert-block alert-info\">\n",
    "<b>Exercise:</b> \n",
    "\n",
    "I just boldly claimed that $\\phi_{\\mathbf Z_2}(z_2) = \\int_{-\\infty}^\\infty \\phi_{\\mathbf Z_1, \\mathbf Z_2}(z_1,z_2) dz_1$ is a density function. But we know density functions have to a) integrate to 1 and b) be nonnegative. Show that this is the case for $\\phi_{\\mathbf Z_2}(z_2)$ as long as $\\phi_{\\mathbf Z_1, \\mathbf Z_2}(z_1,z_2)$ is a valid density (also integates to 1 and is nonnegative). \n",
    "    \n",
    "What about for discrete random variables? What are the equivalent conditions that need to be proved? Can you prove them?\n",
    "    \n",
    "</div>"
   ]
  },
  {
   "cell_type": "markdown",
   "metadata": {},
   "source": [
    "The marginal distribution of $\\mathbf Z_2$ is what you get when you consider the factory $[\\mathbf Z_1, \\mathbf Z_2]$, but completely ignore the outputs $z_1$ and only look at the $z_2$s. You haven't changed the silo $\\Omega$ at all (unlike conditioning). Thinking about it in terms of density plots, the 2D *joint* density plot is what you get when you stack up all of the outcomes on top of the labels of the points $(z_1, z_2)$ that they map to. The *marginal* density plot is what you get when you combine all of the stacks of outcomes that have the same $z_2$ label. "
   ]
  },
  {
   "cell_type": "markdown",
   "metadata": {},
   "source": [
    "The marginal distribution allows for the calculation of things like $P(\\mathbf Z_2 \\in A)$ when a joint distribution is given. For example, what if we wanted to know the outright probability that someone is between 1.9 and 2.3 meters tall, regardless of their weight? If we start out with the joint distribution of height and weight, first we have to find the marginal distribution of height (by integrating out the weight variable), then integrate the resulting distribution between 1.9 and 2.3 to get the final answer."
   ]
  },
  {
   "cell_type": "markdown",
   "metadata": {},
   "source": [
    "The marginal distribution also allows for a simplified formula to compute conditional distributions, which works for both discrete and continuous random variables:"
   ]
  },
  {
   "cell_type": "markdown",
   "metadata": {},
   "source": [
    "$$\n",
    "\\phi_{\\mathbf Z_1|\\mathbf Z_2=z_2}(z_1) \n",
    "=\n",
    "\\frac\n",
    "{\\phi_{\\mathbf Z_1, \\mathbf Z_2}(z_1,z_2)}\n",
    "{\\phi_{\\mathbf Z_2}(z_2)}\n",
    "$$"
   ]
  },
  {
   "cell_type": "markdown",
   "metadata": {},
   "source": [
    "In higher dimensions, it's possible to \"marginalize out\" one or several variables at once, which leaves you with a distribution over the remaining variables. For example, if we had a joint distribution of 5 variables given by $\\phi_{\\mathbf Z_1, \\mathbf Z_2, \\mathbf Z_3, \\mathbf Z_4, \\mathbf Z_5}(z_1, z_2, z_3, z_4, z_5)$, we could marginalize out $\\mathbf Z_2$ and $\\mathbf Z_5$ to get \n",
    "\n",
    "$$\n",
    "\\phi_{\\mathbf Z_1, \\mathbf Z_3, \\mathbf Z_4}(z_1, z_3, z_4)\n",
    "=\n",
    "\\int_{-\\infty}^\\infty \\int_{-\\infty}^\\infty \n",
    "\\phi_{\\mathbf Z_1, \\mathbf Z_2, \\mathbf Z_3, \\mathbf Z_4, \\mathbf Z_5}(z_1, z_2, z_3, z_4, z_5)\n",
    "dz_2 dz_5\n",
    "$$"
   ]
  },
  {
   "cell_type": "markdown",
   "metadata": {},
   "source": [
    "We need to do this to condition on multiple variables at once:"
   ]
  },
  {
   "cell_type": "markdown",
   "metadata": {},
   "source": [
    "$$\n",
    "\\phi_{\\mathbf Z_2, \\mathbf Z_5|\\mathbf Z_1=z_1, \\mathbf Z_3=z_3, \\mathbf Z_4=z_4}(z_2, z_5) \n",
    "=\n",
    "\\frac\n",
    "{\\phi_{\\mathbf Z_1, \\mathbf Z_2, \\mathbf Z_3, \\mathbf Z_4, \\mathbf Z_5}(z_1, z_2, z_3, z_4, z_5)}\n",
    "{\\phi_{\\mathbf Z_1, \\mathbf Z_3, \\mathbf Z_4}(z_1, z_3, z_4)}\n",
    "$$"
   ]
  },
  {
   "cell_type": "markdown",
   "metadata": {},
   "source": [
    "The equations look gross because we're keeping track of all of the individual random variables, but the notation simplifies if use vector-valued (multivariate) random variables to give the different groups of variables their own names:"
   ]
  },
  {
   "cell_type": "markdown",
   "metadata": {},
   "source": [
    "$$\n",
    "\\mathbf X = [\\mathbf Z_1, \\mathbf Z_3, \\mathbf Z_4]\n",
    "\\quad\n",
    "\\mathbf Y = [\\mathbf Z_2, \\mathbf Z_5]\n",
    "$$\n",
    "\n",
    "$$\n",
    "\\phi_{\\mathbf Y|\\mathbf X=x}(y) \n",
    "=\n",
    "\\frac\n",
    "{\\phi_{\\mathbf X, \\mathbf Y}(x,y)}\n",
    "{\\phi_{\\mathbf X}(x)}\n",
    "$$"
   ]
  },
  {
   "cell_type": "markdown",
   "metadata": {},
   "source": [
    "This notation is very common. Just remember that now we are talking about conditioning or marginalizing on a vector-valued random variable instead of a scalar-valued random variable. You can always write it out in the longform notation if you get confused."
   ]
  },
  {
   "cell_type": "markdown",
   "metadata": {},
   "source": [
    "### Conditional and Marginal Probabilities in Code"
   ]
  },
  {
   "cell_type": "markdown",
   "metadata": {},
   "source": [
    "To solidify these ideas, we'll go back to our pair of random variables $\\mathbf V_1$ and $\\mathbf V_2$ with the joint density specified by our function `joint()`."
   ]
  },
  {
   "cell_type": "markdown",
   "metadata": {},
   "source": [
    "We'll start with the marginal distributions since we need those to calculate the conditional distributions. The marginal distributions $\\phi_{\\mathbf V1}$ and $\\phi_{\\mathbf V2}$ are:"
   ]
  },
  {
   "cell_type": "code",
   "execution_count": 378,
   "metadata": {},
   "outputs": [],
   "source": [
    "def marginal_V1(v1):\n",
    "    return sum(joint(v1, v2) for v2 in range(10))\n",
    "    \n",
    "def marginal_V2(v2):\n",
    "    return sum(joint(v1, v2) for v1 in range(10))"
   ]
  },
  {
   "cell_type": "markdown",
   "metadata": {},
   "source": [
    "Now we can calculate marginal probabilities like $P(\\mathbf V_2 = 5)$:"
   ]
  },
  {
   "cell_type": "code",
   "execution_count": 450,
   "metadata": {},
   "outputs": [
    {
     "data": {
      "text/plain": [
       "0.21999999999999997"
      ]
     },
     "execution_count": 450,
     "metadata": {},
     "output_type": "execute_result"
    }
   ],
   "source": [
    "marginal_V2(5)"
   ]
  },
  {
   "cell_type": "markdown",
   "metadata": {},
   "source": [
    "Now let's calculate all of the marginal probabilities for each variable and make mass plots out of them:"
   ]
  },
  {
   "cell_type": "code",
   "execution_count": 397,
   "metadata": {},
   "outputs": [
    {
     "data": {
      "application/vnd.vegalite.v3+json": {
       "$schema": "https://vega.github.io/schema/vega-lite/v3.4.0.json",
       "config": {
        "mark": {
         "tooltip": null
        },
        "view": {
         "height": 300,
         "width": 400
        }
       },
       "datasets": {
        "data-6ae2af4c6f0673e71d0f597aa9b72947": [
         {
          "v1": 0,
          "ϕ": 0.096
         },
         {
          "v1": 1,
          "ϕ": 0.08900000000000001
         },
         {
          "v1": 2,
          "ϕ": 0.09100000000000001
         },
         {
          "v1": 3,
          "ϕ": 0.11900000000000001
         },
         {
          "v1": 4,
          "ϕ": 0.09300000000000001
         },
         {
          "v1": 5,
          "ϕ": 0.098
         },
         {
          "v1": 6,
          "ϕ": 0.1
         },
         {
          "v1": 7,
          "ϕ": 0.10500000000000001
         },
         {
          "v1": 8,
          "ϕ": 0.102
         },
         {
          "v1": 9,
          "ϕ": 0.10700000000000001
         }
        ],
        "data-c8628c953669be432f72d1ac30e99669": [
         {
          "v2": 0,
          "ϕ": 0.011
         },
         {
          "v2": 1,
          "ϕ": 0.028999999999999998
         },
         {
          "v2": 2,
          "ϕ": 0.103
         },
         {
          "v2": 3,
          "ϕ": 0.156
         },
         {
          "v2": 4,
          "ϕ": 0.15300000000000002
         },
         {
          "v2": 5,
          "ϕ": 0.21999999999999997
         },
         {
          "v2": 6,
          "ϕ": 0.189
         },
         {
          "v2": 7,
          "ϕ": 0.10699999999999998
         },
         {
          "v2": 8,
          "ϕ": 0.025
         },
         {
          "v2": 9,
          "ϕ": 0.007
         }
        ]
       },
       "hconcat": [
        {
         "data": {
          "name": "data-6ae2af4c6f0673e71d0f597aa9b72947"
         },
         "encoding": {
          "x": {
           "field": "v1",
           "type": "ordinal"
          },
          "y": {
           "field": "ϕ",
           "type": "quantitative"
          }
         },
         "height": 100,
         "mark": "bar",
         "width": 300
        },
        {
         "data": {
          "name": "data-c8628c953669be432f72d1ac30e99669"
         },
         "encoding": {
          "x": {
           "field": "v2",
           "type": "ordinal"
          },
          "y": {
           "field": "ϕ",
           "type": "quantitative"
          }
         },
         "height": 100,
         "mark": "bar",
         "width": 300
        }
       ]
      },
      "image/png": "[encoded data removed]",
      "text/plain": [
       "<VegaLite 3 object>\n",
       "\n",
       "If you see this message, it means the renderer has not been properly enabled\n",
       "for the frontend that you are using. For more information, see\n",
       "https://altair-viz.github.io/user_guide/troubleshooting.html\n"
      ]
     },
     "execution_count": 397,
     "metadata": {},
     "output_type": "execute_result"
    }
   ],
   "source": [
    "v1, v2 = range(10), range(10)\n",
    "marg_v1 = [marginal_V1(v) for v in v1]\n",
    "marg_v2 = [marginal_V2(v) for v in v2]\n",
    "\n",
    "v1_plot_data = pd.DataFrame({'v1':v1, 'ϕ':marg_v1})\n",
    "v2_plot_data = pd.DataFrame({'v2':v2, 'ϕ':marg_v2})\n",
    "\n",
    "v1_plot = alt.Chart(v1_plot_data, height=100, width=300).mark_bar().encode(x='v1:O', y='ϕ')\n",
    "v2_plot = alt.Chart(v2_plot_data, height=100, width=300).mark_bar().encode(x='v2:O', y='ϕ')\n",
    "\n",
    "v1_plot | v2_plot"
   ]
  },
  {
   "cell_type": "markdown",
   "metadata": {},
   "source": [
    "These are fine as-is, but it helps to understand what they mean when you arrange them alongside the joint distribtion like this:"
   ]
  },
  {
   "cell_type": "markdown",
   "metadata": {},
   "source": [
    "![](marginal_joint.png)"
   ]
  },
  {
   "cell_type": "markdown",
   "metadata": {},
   "source": [
    "Compare the figure to the formula we were looking at before: $\\phi_{V_2}(v_2) =  \\sum_{v_1} \\phi_{\\mathbf V_1, \\mathbf V_2}(v_1,v_2)$ or the code `sum(joint(v1, v2) for v1 in range(10))`. I think the picture is much more intuitive, but, over time, you will be able to imagine the picture when you see the symbols. \n",
    "\n",
    "To transfer your intuition from the discrete case to the continuous case, do what we did before: imagine the buckets shrinking down smaller and smaller to infinitesimals until the sums become integrals and the mass functions become densities."
   ]
  },
  {
   "cell_type": "markdown",
   "metadata": {},
   "source": [
    "With functions to compute marginal and joint probabilities in hand, we can turn our attention to computing any conditional density we like. Let's do $\\phi_{\\mathbf V_2 | \\mathbf V_1 = 7}$ and $\\phi_{\\mathbf V_1 | \\mathbf V_2 = 4}$:"
   ]
  },
  {
   "cell_type": "code",
   "execution_count": 392,
   "metadata": {},
   "outputs": [],
   "source": [
    "def cond_V2_given_V1_is_7(v2):\n",
    "    return joint(7,v2)/marginal_V1(7)\n",
    "\n",
    "def cond_V1_given_V2_is_4(v1):\n",
    "    return joint(v1,4)/marginal_V2(4)"
   ]
  },
  {
   "cell_type": "markdown",
   "metadata": {},
   "source": [
    "So $P(\\mathbf V_2 = 3 | \\mathbf V_1 = 7)$ is... "
   ]
  },
  {
   "cell_type": "code",
   "execution_count": 393,
   "metadata": {},
   "outputs": [
    {
     "data": {
      "text/plain": [
       "0.4476190476190476"
      ]
     },
     "execution_count": 393,
     "metadata": {},
     "output_type": "execute_result"
    }
   ],
   "source": [
    "cond_V2_given_V1_is_7(3)"
   ]
  },
  {
   "cell_type": "markdown",
   "metadata": {},
   "source": [
    "And here are the mass plots"
   ]
  },
  {
   "cell_type": "code",
   "execution_count": 400,
   "metadata": {},
   "outputs": [
    {
     "data": {
      "application/vnd.vegalite.v3+json": {
       "$schema": "https://vega.github.io/schema/vega-lite/v3.4.0.json",
       "config": {
        "mark": {
         "tooltip": null
        },
        "view": {
         "height": 300,
         "width": 400
        }
       },
       "datasets": {
        "data-3fd0c74cd8c58dd14169f33fc6fd215c": [
         {
          "v2": 0,
          "ϕ": 0
         },
         {
          "v2": 1,
          "ϕ": 0.019047619047619046
         },
         {
          "v2": 2,
          "ϕ": 0.18095238095238092
         },
         {
          "v2": 3,
          "ϕ": 0.4476190476190476
         },
         {
          "v2": 4,
          "ϕ": 0.19047619047619047
         },
         {
          "v2": 5,
          "ϕ": 0.15238095238095237
         },
         {
          "v2": 6,
          "ϕ": 0.009523809523809523
         },
         {
          "v2": 7,
          "ϕ": 0
         },
         {
          "v2": 8,
          "ϕ": 0
         },
         {
          "v2": 9,
          "ϕ": 0
         }
        ],
        "data-467cd92cf3aacb75067f6c0cbfba6bc5": [
         {
          "v1": 0,
          "ϕ": 0.196078431372549
         },
         {
          "v1": 1,
          "ϕ": 0.07843137254901959
         },
         {
          "v1": 2,
          "ϕ": 0.0130718954248366
         },
         {
          "v1": 3,
          "ϕ": 0.0522875816993464
         },
         {
          "v1": 4,
          "ϕ": 0.0261437908496732
         },
         {
          "v1": 5,
          "ϕ": 0.11764705882352938
         },
         {
          "v1": 6,
          "ϕ": 0.22875816993464052
         },
         {
          "v1": 7,
          "ϕ": 0.130718954248366
         },
         {
          "v1": 8,
          "ϕ": 0.1111111111111111
         },
         {
          "v1": 9,
          "ϕ": 0.045751633986928095
         }
        ]
       },
       "hconcat": [
        {
         "data": {
          "name": "data-467cd92cf3aacb75067f6c0cbfba6bc5"
         },
         "encoding": {
          "x": {
           "field": "v1",
           "type": "ordinal"
          },
          "y": {
           "field": "ϕ",
           "type": "quantitative"
          }
         },
         "height": 100,
         "mark": "bar",
         "width": 300
        },
        {
         "data": {
          "name": "data-3fd0c74cd8c58dd14169f33fc6fd215c"
         },
         "encoding": {
          "x": {
           "field": "v2",
           "type": "ordinal"
          },
          "y": {
           "field": "ϕ",
           "type": "quantitative"
          }
         },
         "height": 100,
         "mark": "bar",
         "width": 300
        }
       ]
      },
      "image/png": "[encoded data removed]",
      "text/plain": [
       "<VegaLite 3 object>\n",
       "\n",
       "If you see this message, it means the renderer has not been properly enabled\n",
       "for the frontend that you are using. For more information, see\n",
       "https://altair-viz.github.io/user_guide/troubleshooting.html\n"
      ]
     },
     "execution_count": 400,
     "metadata": {},
     "output_type": "execute_result"
    }
   ],
   "source": [
    "cond_v1 = [cond_V1_given_V2_is_4(v) for v in v1]\n",
    "cond_v2 = [cond_V2_given_V1_is_7(v) for v in v2]\n",
    "\n",
    "v1_plot_data = pd.DataFrame({'v1':v1, 'ϕ':cond_v1})\n",
    "v2_plot_data = pd.DataFrame({'v2':v2, 'ϕ':cond_v2})\n",
    "\n",
    "v1_plot = alt.Chart(v1_plot_data, height=100, width=300).mark_bar().encode(x='v1:O', y='ϕ')\n",
    "v2_plot = alt.Chart(v2_plot_data, height=100, width=300).mark_bar().encode(x='v2:O', y='ϕ')\n",
    "\n",
    "v1_plot | v2_plot"
   ]
  },
  {
   "cell_type": "markdown",
   "metadata": {},
   "source": [
    "Again, fine on their own, but more intuitive when you see them in the context of the joint distribution:"
   ]
  },
  {
   "cell_type": "markdown",
   "metadata": {},
   "source": [
    "![](conditional_joint.png)"
   ]
  },
  {
   "cell_type": "markdown",
   "metadata": {},
   "source": [
    "As before, compare this to $\\phi_{\\mathbf V_2|\\mathbf V_1=v_1}(v_2)=\\frac{\\phi_{\\mathbf V_1, \\mathbf V_2}(v_1,v_2)}{\\phi_{\\mathbf V_2}(v_2)}$ or to `joint(7,v2)/marginal_V1(7)`. In this case, I think the math is actually pretty clear once you realize that the denominator is a constant scaling factor that only serves to make sure that the probabilities sum to 1."
   ]
  },
  {
   "cell_type": "markdown",
   "metadata": {},
   "source": [
    "<div class=\"alert alert-block alert-info\">\n",
    "<b>Exercise:</b> \n",
    "\n",
    "Let's pretend that fruits are generated by some probability distribution that specifies their *color* $\\mathbf C$, which can be red, yellow, or green, and their *type* $\\mathbf T$, which can be apple, pear, or banana. Basically, we're imagining that a \"fruit\" is actually a pair of variables $c,t$ which come out of the factory $(\\mathbf C, \\mathbf T)$, which has some joint mass function $\\phi_{\\mathbf C, \\mathbf T}(c,t)$. \n",
    "    \n",
    "Until this point, we've been extracting conditional and marginal distributions from the joint, but now we will see how conditional and marginal distributions can also be used to reconstruct a joint distribution.\n",
    "\n",
    "Let's pretend that we know the following: \n",
    "- 50% of apples are red, 0% are yellow, 50% are green\n",
    "- 20% of pears are red, 40% are yellow, 40% are green\n",
    "- 0% of bananas are red, 90% are yellow, 10% are green\n",
    "    \n",
    "Write out each of these nine facts as conditional probabilities. For instance \"50% of apples are red\" is $P(\\mathbf C = \\text{red} | \\mathbf T = \\text{apple}) = 0.5$. These are also statements about the probability mass function: $\\phi_{C|T=\\text{apple}}(\\text{red}) = 0.5$\n",
    "    \n",
    "Now let's pretend that 50% of all fruits are apples, 20% are pears, and 30% are bananas. Write the probability mass function for the marginal distribution of $\\mathbf T$.\n",
    "\n",
    "Now we're ready to answer some questions. What is the probability that a fruit is a red apple? In other words, what is $P(\\mathbf C = \\text{red}, \\mathbf T = \\text{apple}) = \\phi_{\\mathbf C, \\mathbf T}(\\text{red}, \\text{apple})$? Recall that for two variables $\\mathbf Z_1$ and $\\mathbf Z_2$, we have $\n",
    "\\phi_{\\mathbf Z_1|\\mathbf Z_2=z_2}(z_1) \n",
    "=\n",
    "\\frac\n",
    "{\\phi_{\\mathbf Z_1, \\mathbf Z_2}(z_1,z_2)}\n",
    "{\\phi_{\\mathbf Z_2}(z_2)}\n",
    "$.\n",
    "    \n",
    "Now you can any probability under the joint distribution that you like, which means you can calculate <i>any</i> marginals or conditonals. Give it a try: calculate the probability that a fruit is red: $P(\\mathbf{C}=\\text{red})$.\n",
    "    \n",
    "</div>"
   ]
  },
  {
   "cell_type": "markdown",
   "metadata": {},
   "source": [
    "<div class=\"alert alert-block alert-info\">\n",
    "<b>Exercise:</b> \n",
    "\n",
    "Consider three continuous random variables $\\mathbf X$, $\\mathbf Y$, and $\\mathbf Z$. I've written python functions that implement $\\phi_{\\mathbf Z | \\mathbf X = x, \\mathbf Y = y}(z)$ and $\\phi_{\\mathbf X = x, \\mathbf Y = y}(x,y)$. \n",
    "    \n",
    "```\n",
    "from scipy.stats import norm, multivariate_normal\n",
    "\n",
    "# call this like: conditional_z_xy(0,(2,1)) to get ϕ(Z=0|X=2,Y=1)\n",
    "def conditional_z_xy(z, condition): \n",
    "    x, y = condition\n",
    "    return norm(x+y,1).pdf(z)\n",
    "\n",
    "def marginal_xy(x,y):\n",
    "    return multivariate_normal([0,0], [[1,0.5],[0.5,3]]).pdf((x,y))\n",
    "```\n",
    "\n",
    "Use these two to write a python function `joint_xyz` that implements $\\phi_{\\mathbf X, \\mathbf Y, \\mathbf Z}(x,y,z)$. What is $\\phi_{\\mathbf X, \\mathbf Y, \\mathbf Z}(1,1,2)$? The answer I get is about 0.22.\n",
    "    \n",
    "</div>"
   ]
  },
  {
   "cell_type": "markdown",
   "metadata": {},
   "source": [
    "<div class=\"alert alert-block alert-info\">\n",
    "<b>Exercise:</b> \n",
    "\n",
    "Here is a density function of three variables that I made up: \n",
    "    \n",
    "$$\\phi(z_1, z_2, z_3) \n",
    "=\n",
    "\\begin{cases}\n",
    "8 z_1 z_2 z_3 & \\text{if } z_1,z_2,z_3 \\in [0,1] \\\\\n",
    "0 & \\text{else}\n",
    "\\end{cases}\n",
    "$$\n",
    "    \n",
    "I <a href='https://www.wolframalpha.com/input/?i=int+from+0+to+1%28int+from+0+to+1%28int+from+0+to+1+of+%288*x*y*z%29+dx%29dz%29dy'>verified using WorlframAlpha</a> that the total probability is 1, and obviously it's not negative anywyere, so this is a valid density function.\n",
    " \n",
    "Calculate $P(\\mathbf Z_1 = 0.3)$. Also calculate $P(\\mathbf Z_1 = 0.3| \\mathbf Z_2 = z_2, \\mathbf Z_3=z_3)$ for any values $z_2$ and $z_3$ of your choosing. Again, feel free to use WolframAlpha to evaluate the integrals if you don't feel like doing them. What's interesting about this result?\n",
    "\n",
    "Can you come up with another function $\\phi(z_1, z_2, z_3)$ where this interesting result also holds?\n",
    "    \n",
    "</div>"
   ]
  },
  {
   "cell_type": "markdown",
   "metadata": {},
   "source": [
    "## Transformation of Random Variables"
   ]
  },
  {
   "cell_type": "markdown",
   "metadata": {},
   "source": [
    "We're *almost* ready to start talking about machine learning. The last tool "
   ]
  },
  {
   "cell_type": "markdown",
   "metadata": {},
   "source": [
    "---"
   ]
  },
  {
   "cell_type": "markdown",
   "metadata": {},
   "source": [
    "# ... in progress ..."
   ]
  },
  {
   "cell_type": "markdown",
   "metadata": {},
   "source": [
    "- mixed RVs?"
   ]
  },
  {
   "cell_type": "markdown",
   "metadata": {},
   "source": [
    "<div class=\"alert alert-block alert-warning\">\n",
    "<b>Note:</b> \n",
    "\n",
    "You may sometimes also see notation like $\\mathbf Z_i \\overset{IID}{\\sim} \\mathbf Z$. This means that $\\mathbf Z_i$ is basically a copy of the factory $\\mathbf Z$ (we say $\\mathbf z_i$ are <i>independent and identically distributed</i>, or IID). \n",
    "    \n",
    "$z_i$ is now the single product of the $i$th factory $\\mathbf Z_i$ instead of the $i$th product of the one factory $\\mathbf Z$. To get our data $z = [z_1, z_2, \\dots z_n]$, we run each factory once, instead of running the prototype factory $\\mathbf Z$ $n$ times. As far as the data you get are concerned, there's no difference between doing it one way or the other, but you should be familiar with the $\\mathbf Z_i \\overset{IID}{\\sim} \\mathbf Z$ notation.\n",
    "   \n",
    "Here's the equivalent code:\n",
    "```\n",
    "Zs = [Z for i in range(5)] # Z_i ~IID~ Z\n",
    "z = [realize(Zi, Ω) for Zi in Zs] # sample once from each Z_i\n",
    "```\n",
    "</div>"
   ]
  }
 ],
 "metadata": {
  "kernelspec": {
   "display_name": "Python 3",
   "language": "python",
   "name": "python3"
  },
  "language_info": {
   "codemirror_mode": {
    "name": "ipython",
    "version": 3
   },
   "file_extension": ".py",
   "mimetype": "text/x-python",
   "name": "python",
   "nbconvert_exporter": "python",
   "pygments_lexer": "ipython3",
   "version": "3.7.3"
  }
 },
 "nbformat": 4,
 "nbformat_minor": 4
}
