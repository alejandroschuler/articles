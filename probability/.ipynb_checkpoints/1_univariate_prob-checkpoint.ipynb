{
 "cells": [
  {
   "cell_type": "code",
   "execution_count": 79,
   "metadata": {},
   "outputs": [],
   "source": [
    "import numpy as np"
   ]
  },
  {
   "cell_type": "markdown",
   "metadata": {},
   "source": [
    "# Univariate Probability"
   ]
  },
  {
   "cell_type": "markdown",
   "metadata": {},
   "source": [
    "In the example above, we demonstrated some code that generates fake data $X$ and $Y$. On the other hand, real data comes from the real world, not from some python code. For every dataset, there is an immensely complex network of causal interactions that ultimately \"produces\" the data. \n",
    "\n",
    "For example, in our blood pressure example, a patient's pre-treatment vital signs are caused by their physiological state: their genetics, life history, what they ate for breakfast that morning, whether or not they just ran up a flight of stairs, and so on and so forth. Taking a drug influences the levels of certain chemicals in the blood, which are taken up at particular rates in certain organs by certain enzymes, the levels of which are impacted by the patient's genetics and prior physiological state, which was influenced by their life history, etc. Thus the impact of the drug on cellular processes is mediated by these factors. The cells respond by increasing or decreasing their production of some proteins or metabolites, which, in combination with the immediate condition of the patient when the measurement is taken, determines the post-treatment blood pressure. \n",
    "\n",
    "Or, let's say we're trying to determine whether or not there is a cat in a photograph. The cat being in front of the camera when the photo was taken ($y_i$) could be caused by a huge number of factors, and the values of the pixels in the photograph ($x_i$) are caused by the reflection of photons emitted from sources of light off the cat (and other objects) and the mechanics of the detection of light inside the camera.\n",
    "\n",
    "In a nutshell, the world is complicated. There is no way that mere mortals could ever write code accurate enough to perfectly simulate the exact processes that produce data about complex real-world phenomena.\n",
    "\n",
    "But, despite the complexity, you should start thinking about that complex web of causality as \"code\" that's being run in some cosmic simulation. Maybe you can imagine that there are \"data gods\" that write and are running this code. We'll never see their code, and we'll never be able to understand it, but somewhere, out there, that metaphysical code is running, and it's generating the observations that we see in our data."
   ]
  },
  {
   "cell_type": "markdown",
   "metadata": {},
   "source": [
    "You can think of that code as a little \"factory\" that pumps out observations of $x_i$ and $y_i$, one at a time. The factory is behind a curtain that we can't ever look behind, but we can see the pile of $x_i$s and $y_i$s that come out of it, which are our $X$ and $Y$."
   ]
  },
  {
   "cell_type": "markdown",
   "metadata": {},
   "source": [
    "![](factory.png)"
   ]
  },
  {
   "cell_type": "markdown",
   "metadata": {},
   "source": [
    "If we had that code, we'd be able to reverse engineer it to find the most likely value of $y_i$ given $x_i$ as accurately as would be possible with those predictors. In practice, however, we can only build a *model* of that code. Our model will never capture the complexities of reality, the same way that a model plane doesn't even begin to approach the complexity of a real aircraft. But, ideally, it will be similar enough in ways that are important for the task at hand: if we're using a model plane just to demonstrate what an aircraft might look like, we don't need the model to have functioning jet engines. And if all we need to do is estimate $y_i$ for a new $x_i$, we don't exactly need to understand the complex web of causality linking the two together."
   ]
  },
  {
   "cell_type": "markdown",
   "metadata": {},
   "source": [
    "We do, however, need a way to talk about the relationship that $x_i$ and $y_i$ might have. And to do that, we need a way to talk abstractly about the \"code\" or \"data factory\" that's behind the curtain, the same way we developed abstract terms to describe our data. Thankfully, the language of probability works perfectly for that."
   ]
  },
  {
   "cell_type": "markdown",
   "metadata": {},
   "source": [
    "## Random variables are factories that generate data"
   ]
  },
  {
   "cell_type": "markdown",
   "metadata": {},
   "source": [
    "The data factories we're interested in are the kind that output $x_i$s and $y_i$s, but to understand how these factories work it's better to consider a simpler factory that produces one number at a time, instead of one vector $x_i$ and one number $y_i$. \n",
    "\n",
    "We'll call our factory $\\mathbf Z$. This factory pushes out one value $z_i$ at a time. Furthermore, let's say that half the time you get a $1$ and half the time you get a $0$; those are the only values that the $\\mathbf Z$ factory can produce. And the factory is built to reset itself between producing each value, so whatever $z_i$ is has no impact on $z_{i+1}$."
   ]
  },
  {
   "cell_type": "markdown",
   "metadata": {},
   "source": [
    "In the language of probability theory, $z_i$ are **realizations** from $\\mathbf Z$, which has a **distribution**:\n",
    "\n",
    "$$\n",
    "\\begin{array}{rcl}\n",
    "P(\\mathbf Z = 0) &=& 1/2 \\\\ \n",
    "P(\\mathbf Z = 1) &=& 1/2\n",
    "\\end{array}\n",
    "\\quad \\quad \\text{or} \\quad \\quad\n",
    "P(\\mathbf Z=z) =\n",
    "\\begin{cases}\n",
    "1/2 & \\text{for }z=0 \\\\\n",
    "1/2 & \\text{for }z=1\n",
    "\\end{cases}\n",
    "$$"
   ]
  },
  {
   "cell_type": "markdown",
   "metadata": {},
   "source": [
    "What we've been loosely calling a \"factory\" is a **random variable** in the language of probability theory. But that's just a name. You can keep thinking of them as factories, or code, that generate data."
   ]
  },
  {
   "cell_type": "markdown",
   "metadata": {},
   "source": [
    "<div class=\"alert alert-block alert-warning\">\n",
    "<b>Note:</b> \n",
    "Random variables are often written in uppercase, (e.g. Z) and their realizations in lowercase (z). We're going to be using uppercase for matrices (and sets), so I'm going to use boldface in conjunction with uppercase ($\\mathbf Z$) to denote random variables.\n",
    "</div>"
   ]
  },
  {
   "cell_type": "markdown",
   "metadata": {},
   "source": [
    "Ok, so if the random variable is a factory, and the realizations of the random variable are the output of that factory (the data we get to see), then how do we read a statement like $P(\\mathbf Z = 0) = 1/2$? Well, that just means that the value $z$ that $\\mathbf Z$ produces is $0$ half of the time. But what exactly do we mean by \"half the time\"? While we usually don't have to think deeper than this, you'll see later that it is sometimes necessary to have a more rigorous definition of probability."
   ]
  },
  {
   "cell_type": "markdown",
   "metadata": {},
   "source": [
    "<div class=\"alert alert-block alert-info\">\n",
    "<b>Exercise:</b> \n",
    "\n",
    "Remember that the entire purpose of talking about these factories is so that we can imagine what's behind the curtain, producing the data that we observe. Think of a real-world scenario where we could pretend that the data we observe was generated by $\\mathbf Z$. In other words, what's something we could measure in the real world that we might model using $\\bf Z$?\n",
    "    \n",
    "</div>"
   ]
  },
  {
   "cell_type": "markdown",
   "metadata": {},
   "source": [
    "Let's build that definition. We'll start with some raw materials. All factories have raw materials that go into them, which end up being turned into the finished product. In a similar way, random variables have inputs which get mapped to realized values. We'll call them \"data ore\": the unrefined precursor that gets transformed by our factory (random variable $\\mathbf Z$) into the data product $z$. The data ore exists in units (data ore nuggets). The factory takes one nugget at a time and transforms it into a realization.\n",
    "\n",
    "The nuggets are kept in an big silo called $\\Omega$ before they go to $\\mathbf Z$. This silo is filled to the brim with *all* of the possible nuggets that could be fed into the factory, one of each of them. It's also a magic silo, so when you take out a nugget, another one exactly like it is mined out of the depths of the cosmos to take its place in the silo."
   ]
  },
  {
   "cell_type": "markdown",
   "metadata": {},
   "source": [
    "![](factory_rv.png)"
   ]
  },
  {
   "cell_type": "markdown",
   "metadata": {},
   "source": [
    "Each nugget is gets transformed into a value of $z$, but the process isn't random. For instance, if a nugget named \"Karl\" turned into a 1 when fed through $\\mathbf Z$, then we would *always* get a 1 when Karl goes into $\\mathbf Z$. But we know that sometimes $\\mathbf Z$ produces 0s, so there must be other nuggets whose destiny is to become 0s, just like Karl's destiny is to be a 1. The \"randomness\" in $\\mathbf Z$ isn't caused by what's in the factory, it's caused by randomly picking a nugget to throw into it."
   ]
  },
  {
   "cell_type": "markdown",
   "metadata": {},
   "source": [
    "We can even code up our little example, imagining that we have 10 nuggets, boringly named \"0\", \"1\", \"2\"... \"9\":"
   ]
  },
  {
   "cell_type": "code",
   "execution_count": 81,
   "metadata": {},
   "outputs": [],
   "source": [
    "def Z(ω): # factory (random variable)\n",
    "    if ω in set([1,4,5,8,9]): # these are the outcomes (nuggets) that map to the value 1 \n",
    "        return 1\n",
    "    if ω in set([0,2,3,6,7]): # these are the outcomes (nuggets) that map to the value 0 \n",
    "        return 0\n",
    "Z.Ω = set([0,1,2,3,4,5,6,7,8,9]) # sample space (silo) of outcomes (ore nuggets) attached to Z\n",
    "    \n",
    "import random\n",
    "def realize(rand_var): # run the assembly line!\n",
    "    ω = random.sample(rand_var.Ω, 1)[0] # grab a single nugget out of the silo at random\n",
    "    return rand_var(ω) # push it through the factory"
   ]
  },
  {
   "cell_type": "markdown",
   "metadata": {},
   "source": [
    "<div class=\"alert alert-block alert-warning\">\n",
    "<b>Python Tip:</b> \n",
    "   \n",
    "`random.sample(x,n)` grabs `n` values at random out of the set `x` and returns them as a list.\n",
    "</div>"
   ]
  },
  {
   "cell_type": "markdown",
   "metadata": {},
   "source": [
    "Here are 20 observations $z=[z_1, z_2, \\dots z_{20}]$, fresh off the assembly line of the $\\mathbf Z$ factory:"
   ]
  },
  {
   "cell_type": "code",
   "execution_count": 82,
   "metadata": {},
   "outputs": [
    {
     "data": {
      "text/plain": [
       "[1, 1, 1, 1, 1, 0, 1, 0, 1, 0, 0, 0, 1, 0, 0, 0, 1, 1, 1, 0]"
      ]
     },
     "execution_count": 82,
     "metadata": {},
     "output_type": "execute_result"
    }
   ],
   "source": [
    "z = [realize(Z) for i in range(20)] \n",
    "z"
   ]
  },
  {
   "cell_type": "markdown",
   "metadata": {},
   "source": [
    "Now we're ready to define probability: the probability of an realization (a particular value $z$) is just the proportion of the silo that's taken up by nuggets that are destined to become that value $z$ when fed through $\\mathbf Z$. That's it. We denote that proportion with the notation $P(\\mathbf Z = z)$. In our example above, saying $P(\\mathbf Z = 1) = 1/2$ means that half of all the possible nuggets that could go into $\\mathbf Z$ would produce a 1."
   ]
  },
  {
   "cell_type": "markdown",
   "metadata": {},
   "source": [
    "That's a definition we can code up:"
   ]
  },
  {
   "cell_type": "code",
   "execution_count": 83,
   "metadata": {},
   "outputs": [],
   "source": [
    "def P(rand_var, realization):\n",
    "    A = set(ω for ω in rand_var.Ω if rand_var(ω) in realization) # what are all the nuggets that map to the value(s) in question?\n",
    "    return len(A)/len(rand_var.Ω) # what is the \"volume\" of those nuggets relative to the volume of the silo Ω?"
   ]
  },
  {
   "cell_type": "code",
   "execution_count": 84,
   "metadata": {},
   "outputs": [
    {
     "data": {
      "text/plain": [
       "(0.5, 0.5)"
      ]
     },
     "execution_count": 84,
     "metadata": {},
     "output_type": "execute_result"
    }
   ],
   "source": [
    "P(Z,[0]), P(Z,[1]) # P(z=0), P(z=1)"
   ]
  },
  {
   "cell_type": "markdown",
   "metadata": {},
   "source": [
    "So to build a factory that makes 0s and 1s in even proportions, all I had to do was evenly split up the number of nuggets that are destined to produce each value. It also doesn't matter what I call the nuggets. For example, here is equally good code to implement $\\mathbf Z$:"
   ]
  },
  {
   "cell_type": "code",
   "execution_count": 85,
   "metadata": {},
   "outputs": [
    {
     "data": {
      "text/plain": [
       "[0, 1, 0, 1, 1, 0, 1, 1, 0, 1, 1, 0, 0, 1, 1, 1, 1, 0, 0, 1]"
      ]
     },
     "execution_count": 85,
     "metadata": {},
     "output_type": "execute_result"
    }
   ],
   "source": [
    "def Z(ω): # factory (random variable)\n",
    "    if ω in set([-1234]): # these are the outcomes (nuggets) that map to the value 1 \n",
    "        return 1\n",
    "    if ω in set([980123]): # these are the outcomes (nuggets) that map to the value 0 \n",
    "        return 0\n",
    "Z.Ω = set([980123, -1234]) # sample space (silo) of outcomes (ore nuggets) attached to Z\n",
    "\n",
    "[realize(Z) for i in range(20)] "
   ]
  },
  {
   "cell_type": "markdown",
   "metadata": {},
   "source": [
    "<div class=\"alert alert-block alert-info\">\n",
    "<b>Exercise:</b> \n",
    "\n",
    "Write code for a new random variable $\\mathbf W$ that behaves like this:\n",
    "    \n",
    "$$\n",
    "P(\\mathbf W=w) =\n",
    "\\begin{cases}\n",
    "0.1 \\dots  & \\text{for }w=-1 \\\\\n",
    "0.4 \\dots & \\text{for }w=0 \\\\\n",
    "0.2 & \\text{for }w=1 \\\\\n",
    "0.3 & \\text{for }w=2\n",
    "\\end{cases}\n",
    "$$\n",
    "    \n",
    "You'll need to make your own nugget silo `Ω` and define the function `W(ω)`. Test it out using the `realize()` and `P()` functions we wrote. Use `P()` to calculate $P(\\mathbf W =0)$.\n",
    "    \n",
    "</div>"
   ]
  },
  {
   "cell_type": "markdown",
   "metadata": {},
   "source": [
    "### A mathematical description of random variables"
   ]
  },
  {
   "cell_type": "markdown",
   "metadata": {},
   "source": [
    "![](https://encrypted-tbn0.gstatic.com/images?q=tbn:ANd9GcRTCXQ098kIFldwWw8VEPSR_q9Tbk1BFjuhFH8V8NVPskxrtVj7&s)"
   ]
  },
  {
   "cell_type": "markdown",
   "metadata": {},
   "source": [
    "If you're looking at this and thinking that I can't possibly be serious, that the foundations of statistics and machine learning can't possibly be built up from imagining data factories and magical silos... well, you're wrong. Sure, I've concocted a somewhat elaborate metaphor, but it's a metaphor that accurately describes how these otherwise very abstract concepts relate to each other. If you can look at something like $P(\\mathbf Z = z) := \\mathbb P(\\{\\omega \\in \\Omega \\vert \\mathbf Z(w)=z\\})$ and immediately come away with an understanding of what that means, all the more power to you. But I don't. At least not without first building up an intuition for each of the components."
   ]
  },
  {
   "cell_type": "markdown",
   "metadata": {},
   "source": [
    "In probability theory, the silo $\\Omega$ is called a **sample space** and the data ore nuggets $\\omega$ are called **outcomes** (not to be confused with what we call the variable we want to predict in machine learning). A random variable $\\mathbf Z$ is defined as a function that maps an element $\\omega$ of $\\Omega$ to a realization $z$. The probability of a realization $z$ is the **measure** (volume, or proportion of total volume) of the set of outcomes (data ore nuggets) that map to $z$ (are destined to be transformed to $z$ by $\\mathbf Z$). "
   ]
  },
  {
   "cell_type": "markdown",
   "metadata": {},
   "source": [
    "![](prob_preimage.png)"
   ]
  },
  {
   "cell_type": "markdown",
   "metadata": {},
   "source": [
    "When I talk about these things outside of the context of explaining them, I do call them by their real names (e.g. random variable, sample space, etc.) because that's what people have called them for nearly a century. But when I close my eyes and *reason* about these concepts, I'm thinking about something tangible, like a factory. As we go on I'm going to introduce more mathematical notation as we need it, and I'm going to wean off the factory metaphor, but I encourage you to keep building your intuition about these concepts instead of thinking about them as abstract symbols on a page. The symbols are just a convenient shorthand for the ideas. The only reason to know the standard names and symbols is to be able to read and understand what others have written. If you find yourself skimming over an equation- stop. Read it slowly and think about what each part means.\n",
    "\n",
    "So now that we're here, let's demystify the notation in that equation I dropped up above! Here it is again:\n",
    "\n",
    "$$P(\\mathbf Z = z) := \\mathbb P(\\{\\omega \\in \\Omega \\vert \\mathbf Z(w)=z\\})$$\n",
    "\n",
    "To start, the $:=$ means \"the thing on the left is defined as the thing on the right\". So we're saying that when we write \"$P(\\mathbf Z = z)$\", we really mean whatever \"$\\mathbb P(\\{\\omega \\in \\Omega \\vert \\mathbf Z(\\omega)=z\\})$\" is. Ok, next up is [set-builder notation](https://www.mathsisfun.com/sets/set-builder-notation.html): you can read $\\{a\\in A | f(a) = 1\\}$ as \"the collection of all the elements $a$ in the set $A$ *such that* $f(a)=1$\". So $\\{\\omega \\in \\Omega \\vert \\mathbf Z(\\omega)=z\\}$ is the set of outcomes $\\omega$ that become $z$ when passed through the random variable $\\mathbf Z$. There may be many such outcomes, or just one, or none, so the set can be big, small, or nonexistent. We will write the name of that set a little more compactly using the notation $\\mathbf Z^{-1}(z) = \\{\\omega \\in \\Omega \\vert \\mathbf Z(w)=z\\}$ since usually $f^{-1}(y)$ denotes the element $x$ such that $f(x)=y$. We call this the **preimage** of $z$ under $\\mathbf Z$."
   ]
  },
  {
   "cell_type": "markdown",
   "metadata": {},
   "source": [
    "<div class=\"alert alert-block alert-warning\">\n",
    "<b>Note:</b> \n",
    "   \n",
    "Preimages aren't just for random variables- you can define preimages for any function. If the function is $y=f(x)$, the preimage of a set $A$ (denoted $f^{-1}(A)$) is a set of all of the values $x$ that become one of the $y$ values in $A$ when shoved through $f$. The set $A$ is called the image of $f^{-1}(A)$ under $f$.\n",
    "    \n",
    "For example, if $f(x) = x^2$ and $A$ is the set of numbers between 0 and 4, then $f^{-1}(A)$ is the set of numbers between -2 and 2, since every number between -2 and 2, when squared, is between 0 and 4, and these are the only numbers for which that is the case. Another example: if $f(x) = \\cos(x)$ and $A=\\{1\\}$, then $f^{-1}(A) = \\{\\dots, -4\\pi, -2\\pi, 0, 2\\pi, 4\\pi, 6\\pi, \\dots\\}$. Plot or draw a picture of $\\cos(x)$ and mark the points where $\\cos(x) = 1$ to see why.\n",
    "    \n",
    "</div>"
   ]
  },
  {
   "cell_type": "markdown",
   "metadata": {},
   "source": [
    "Finally, we have $\\mathbb P()$, which is the [probability measure](https://en.wikipedia.org/wiki/Probability_measure). We won't define this super rigorously, but think of it as a function that measures the proportion of all of the outcomes in $\\Omega$ that are contained in the subset $\\mathbf Z^{-1}(z)$. This is basically the volume of space that the nuggets in $\\mathbf Z^{-1}(z)$ take up in the silo $\\Omega$. By convention, we say that $\\Omega$ has volume 1 so that the volume of $\\mathbf Z^{-1}(z)$ is also the proportion of volume that $\\mathbf Z^{-1}(z)$ takes up in $\\Omega$. In the figure above, that's represented by the area of the shaded gray region."
   ]
  },
  {
   "cell_type": "markdown",
   "metadata": {},
   "source": [
    "\n",
    "If you put all of that together, you'll see that it's exactly the same as the definition we put together using our factory analogy. "
   ]
  },
  {
   "cell_type": "markdown",
   "metadata": {},
   "source": [
    "We can also talk about the probability of sets of realizations instead of just single realization $z$. For instance, what's the probability that $z$ is 0 *or* 1? We write that like $P(\\mathbf Z \\in A)$, where $A$ is the set of possible realizations, like $\\{0,1\\}$. That's more general than the probability of a single realization $z$: $P(\\mathbf Z = z)$. The definition is the same though: $P(\\mathbf Z \\in A) := \\mathbb P(\\mathbf Z^{-1}(A))$. All we need to do is count up the volume of all the nugets that produce any of the values that are in $A$, instead of just the nuggets that produce $z$."
   ]
  },
  {
   "cell_type": "markdown",
   "metadata": {},
   "source": [
    "<div class=\"alert alert-block alert-warning\">\n",
    "<b>REMEMBER:</b> \n",
    "\n",
    "If your eyes glaze over every time you see mathematical notation, don't worry. Remember, that's normal. Just slow down and read it again. Try and think about what it <i>means</i>.\n",
    "</div>"
   ]
  },
  {
   "cell_type": "markdown",
   "metadata": {},
   "source": [
    "Ok- I promised that it would be useful to define probability in a more rigorous way than \"$z$ happens $x$% of the time\". Now we're going to see why. \n",
    "\n",
    "To start with, let's \"derive\" a relatively simple fact: for any subset of possible realizations $A$, $P(\\mathbf Z \\in A) \\in [0,1]$. This is a compact way of writing that for any subset of realizations, the volume of the subset of outcomes $\\mathbf Z^{-1}(A)$ that map to those realzations is a number between 0 and 1. Why? Well, if the volume of our silo $\\Omega$ is 1, the volume of any subset of that has to be less than or equal to 1. And there is no subset that can occupy negative space, so the volume has to be greater than or equal to 0."
   ]
  },
  {
   "cell_type": "markdown",
   "metadata": {},
   "source": [
    "Here's a trickier one: if two sets of realizations $A$ and $B$ have no realizations in common, then the probability of a realization from either of them is the sum of the probabilities of a realization from each of them. Mathematically:\n",
    "\n",
    "$$A \\cap B = 0 \\rightarrow P(\\mathbf Z \\in A \\cup B) = P(\\mathbf Z \\in A) + P(\\mathbf Z \\in B)$$\n",
    "\n",
    "$A \\cap B$ is read as \"the intersection of the sets $A$ and $B$\", which is the set of elements that are in both sets. It's the middle part of a Venn diagram. $A \\cup B$ is read  as \"the union of $A$ and $B$\", which is all of the elements in either set- that's the entirety of the Venn diagram. \n",
    "\n",
    "That also seems cryptic until you think about it in terms of quantities of ore nuggets that produce certain values when fed through the factory. If you take all the ore nuggets that end up becoming any of the values in $A$ (call that set of nuggets $\\mathbf Z^{-1}(A)$), and all the nuggets that end up becoming values in $B$ (call that $\\mathbf Z^{-1}(B)$), then the total volume that end up becoming values in either $A$ or $B$ is the sum of the volumes that become $A$ and those that become $B$. This is true as long as there are no nuggets that become both a realization in $A$ and a realization in $B$ because we would double-count these. But we've also ensured that these do not exist since each nugget is destined to become only a single value, and we made sure that there is no overlap between $A$ and $B$.\n",
    "\n",
    "If there is overlap, the proposition doesn't hold. For instance, if $A= \\{0,1\\}$ and $B = \\{0\\}$, every element of $B$ is also an element of $A$, so the volume of $Z^{-1}(A \\cup B)$ is the volume of $Z^{-1}(A)$, which is not the volume of $Z^{-1}(A)$ plus the volume of $Z^{-1}(B)$."
   ]
  },
  {
   "cell_type": "markdown",
   "metadata": {},
   "source": [
    "We can even use our code from before to demonstrate this:"
   ]
  },
  {
   "cell_type": "code",
   "execution_count": 86,
   "metadata": {},
   "outputs": [
    {
     "data": {
      "text/plain": [
       "True"
      ]
     },
     "execution_count": 86,
     "metadata": {},
     "output_type": "execute_result"
    }
   ],
   "source": [
    "A = set([0])\n",
    "B = set([1])\n",
    "P(Z,A) + P(Z,B) == P(Z,A|B) # in python, set union ∪ is written | because an element is in A∪B if it is in A OR B (A|B)"
   ]
  },
  {
   "cell_type": "code",
   "execution_count": 87,
   "metadata": {},
   "outputs": [
    {
     "data": {
      "text/plain": [
       "False"
      ]
     },
     "execution_count": 87,
     "metadata": {},
     "output_type": "execute_result"
    }
   ],
   "source": [
    "A = set([0,1])\n",
    "B = set([0])\n",
    "P(Z,A) + P(Z,B) == P(Z,A|B)"
   ]
  },
  {
   "cell_type": "markdown",
   "metadata": {},
   "source": [
    "<div class=\"alert alert-block alert-warning\">\n",
    "<b>Note:</b> \n",
    "\n",
    "This is as pretty much as rigorous as probability theory gets. The only other wrinkle is that when we start talking about random variables that can produce things like continuous values (of which there are an infinite number), technically we need to consider silos that are filled with infinite numbers of nuggets (that still all together occupy a volume of 1!). And, fun fact, it turns out that in this case there are some sets of nuggets that are distributed in such a messed up way within the silo that it is impossible to measure their volume. But they are of no practical importance and probabilists just ignore these sets and say that their probability is not defined (no joke)!\n",
    "</div>"
   ]
  },
  {
   "cell_type": "markdown",
   "metadata": {},
   "source": [
    "<div class=\"alert alert-block alert-info\">\n",
    "<b>Exercise:</b> \n",
    "\n",
    "Draw a picture based on the figure above that helps explain why $A \\cap B = 0 \\rightarrow P(\\mathbf Z \\in A \\cup B) = P(\\mathbf Z \\in A) + P(\\mathbf Z \\in B)$\n",
    "\n",
    "</div>"
   ]
  },
  {
   "cell_type": "markdown",
   "metadata": {},
   "source": [
    "<div class=\"alert alert-block alert-info\">\n",
    "<b>Exercise:</b> \n",
    "\n",
    "Let's say the sets $A$ and $B$ have some overlap. Can you come up with a formula to calculate $P(\\mathbf Z \\in A \\cup B)$ given $P(\\mathbf Z \\in A)$, $P(\\mathbf Z \\in  B)$, and $P(\\mathbf Z \\in A \\cap B)$?\n",
    "\n",
    "</div>"
   ]
  },
  {
   "cell_type": "markdown",
   "metadata": {},
   "source": [
    "## Random variables are described by their probability distributions"
   ]
  },
  {
   "cell_type": "markdown",
   "metadata": {},
   "source": [
    "As perhaps you've noticed, neither the exact nature of what is in the silo nor which of its elements map to which realizations change the behavior of the random variable as long as the proportions of outcomes mapping to each realization are the same. For example, we looked at two equivalent ways to implement our random variable $\\mathbf Z$:"
   ]
  },
  {
   "cell_type": "code",
   "execution_count": 88,
   "metadata": {},
   "outputs": [],
   "source": [
    "def Z(ω): \n",
    "    if ω in set([1,4,5,8,9]): \n",
    "        return 1\n",
    "    if ω in set([0,2,3,6,7]): \n",
    "        return 0\n",
    "Z.Ω = set([0,1,2,3,4,5,6,7,8,9]) "
   ]
  },
  {
   "cell_type": "code",
   "execution_count": 89,
   "metadata": {},
   "outputs": [],
   "source": [
    "def Z(ω): \n",
    "    if ω in set([-1234]): \n",
    "        return 1\n",
    "    if ω in set([980123]): \n",
    "        return 0\n",
    "Z.Ω = set([980123, -1234]) "
   ]
  },
  {
   "cell_type": "markdown",
   "metadata": {},
   "source": [
    "These are technically two different random variables because they have different sample spaces and different mappings to the realizations, but they behave exactly the same, which is the say they have the same probability distribution. The distribution of the random variable is nothing more than $P(\\mathbf Z=z)$ as a function of the realization $z$:\n",
    "\n",
    "$$\n",
    "P(\\mathbf Z=z) =\n",
    "\\begin{cases}\n",
    "1/2 & \\text{for }z=0 \\\\\n",
    "1/2 & \\text{for }z=1\n",
    "\\end{cases}\n",
    "$$\n",
    "\n",
    "The probability distribution describes how the factory should *behave* from the perspective of someone who can only see its products $z_i$: half the time you get a 0, half the time you get a 1. There is no need to mention the silo of ore nuggets, give them names, and specify which nuggets are destined to be 0s and which are destined to be 1s. We know they're back there, and we know what *proportion* are destined to be 0s and 1s (since that's what the probability means), but we don't need the details. In fact, unless you're a probability theorist, you will never need to think about the sample space to solve a problem. The only reason you need to know about it is so that you can understand useful identities, which we will continue to derive as we go along."
   ]
  },
  {
   "cell_type": "markdown",
   "metadata": {},
   "source": [
    "The probability distribution can be thought of as a function of the factory product $z$. For each value of $z$, it tells us the total volume of the nuggets in the silo that map to that outcome. We can visualize that by sorting all the nuggets in the silo into piles according to which value they are destined to become. The relative heights of each pile are proportional to the volume of space that each group of nuggets take up in the silo. Let's demonstrate with a new random variable $\\bf V$:"
   ]
  },
  {
   "cell_type": "code",
   "execution_count": 90,
   "metadata": {},
   "outputs": [],
   "source": [
    "def V(ω): \n",
    "    if ω in set([1]): \n",
    "        return 2\n",
    "    if ω in set([2,3]): \n",
    "        return 0\n",
    "    if ω in set([4,5,6]): \n",
    "        return -1\n",
    "    if ω in set([7,8,9,0]):\n",
    "        return 1\n",
    "V.Ω = set(range(10)) "
   ]
  },
  {
   "cell_type": "code",
   "execution_count": 92,
   "metadata": {},
   "outputs": [
    {
     "data": {
      "application/vnd.vegalite.v3+json": {
       "$schema": "https://vega.github.io/schema/vega-lite/v3.4.0.json",
       "config": {
        "mark": {
         "tooltip": null
        },
        "view": {
         "height": 300,
         "width": 400
        }
       },
       "data": {
        "name": "data-a7992e4d8081495d7eb4705b16985ea6"
       },
       "datasets": {
        "data-a7992e4d8081495d7eb4705b16985ea6": [
         {
          "p": 0.3,
          "v": -1
         },
         {
          "p": 0.2,
          "v": 0
         },
         {
          "p": 0.4,
          "v": 1
         },
         {
          "p": 0.1,
          "v": 2
         }
        ]
       },
       "encoding": {
        "x": {
         "field": "v",
         "type": "ordinal"
        },
        "y": {
         "field": "p",
         "type": "quantitative"
        }
       },
       "height": 100,
       "mark": "bar",
       "width": 400
      },
      "image/png": "[encoded data removed]",
      "text/plain": [
       "<VegaLite 3 object>\n",
       "\n",
       "If you see this message, it means the renderer has not been properly enabled\n",
       "for the frontend that you are using. For more information, see\n",
       "https://altair-viz.github.io/user_guide/troubleshooting.html\n"
      ]
     },
     "execution_count": 92,
     "metadata": {},
     "output_type": "execute_result"
    }
   ],
   "source": [
    "vs = [-1,0,1,2] # all the values v can take\n",
    "ps = [P(V,[v]) for v in vs] # calculate the probability of each\n",
    "import altair as alt # for plotting\n",
    "import pandas as pd # to make dataframes\n",
    "\n",
    "distribution = pd.DataFrame({'v':vs, 'p':ps})\n",
    "alt.Chart(distribution, height=100, width=400).mark_bar().encode(x='v:O', y='p')"
   ]
  },
  {
   "cell_type": "markdown",
   "metadata": {},
   "source": [
    "<div class=\"alert alert-block alert-warning\">\n",
    "<b>Python Tip:</b> \n",
    "\n",
    "`altair` is a useful python package for visualization. It's optimized to work with dataframes from the `pandas` package. Feel free to browse the documentation for these packages, but you don't need to be an expert to continue on in this book.\n",
    "</div>"
   ]
  },
  {
   "cell_type": "markdown",
   "metadata": {},
   "source": [
    "This is the graphical representation of the probability distribution\n",
    "\n",
    "$$\n",
    "P(\\mathbf V=v) \n",
    "= \n",
    "\\phi(v) \n",
    "= \n",
    "\\begin{cases}\n",
    "0.3 & \\text{for }v=-1 \\\\\n",
    "0.2 & \\text{for }v=0 \\\\\n",
    "0.4 & \\text{for }v=1 \\\\\n",
    "0.1 & \\text{for }v=2\n",
    "\\end{cases}\n",
    "$$"
   ]
  },
  {
   "cell_type": "markdown",
   "metadata": {},
   "source": [
    "$\\phi(v)$ is called a **probability mass function**. If we have multiple random variables floating around and we want to distinguish their mass functions, we'll sometimes write $\\phi_{\\mathbf V}(v)$."
   ]
  },
  {
   "cell_type": "markdown",
   "metadata": {},
   "source": [
    "If we want to know the probability of a particular set of realizations, say, $P(\\mathbf V \\in \\{0,1\\})$, it's easy to get using the mass function:\n",
    "\n",
    "$$P(\\mathbf V \\in A) = \\sum_{v \\in A} \\phi(v)$$\n",
    "\n",
    "We simply sum up the probabilities that $\\mathbf V$ is any of the realizations within the set $A$ of interest. This is possible because of the identiy we established in the previous section (see exercise below). The upshot is that we don't have to talk about $\\Omega$ anymore. All of the information we need to calculate any probabilities of $\\mathbf V$ is baked into the mass function $\\phi(v)$."
   ]
  },
  {
   "cell_type": "markdown",
   "metadata": {},
   "source": [
    "<div class=\"alert alert-block alert-info\">\n",
    "<b>Exercise:</b> \n",
    "\n",
    "We showed before that $A \\cap B = 0 \\rightarrow P(\\mathbf Z \\in A \\cup B) = P(\\mathbf Z \\in A) + P(\\mathbf Z \\in B)$. Given that $\\phi(v) = P(\\mathbf V= v) = P(\\mathbf V \\in \\{v\\})$, how does this fact imply that $P(\\mathbf V \\in C) = \\sum_{v \\in C} \\phi(v)$?\n",
    "\n",
    "</div>"
   ]
  },
  {
   "cell_type": "markdown",
   "metadata": {},
   "source": [
    "### Continuous random variables and densities"
   ]
  },
  {
   "cell_type": "markdown",
   "metadata": {},
   "source": [
    "So far, all the random variables we've talked about have produced outputs from a finite, discrete set (e.g. $\\{0,1\\}$ or $\\{-1,0,1,2\\}$). If we're imagining a the factory that might produce the data we observe when flipping a coin, a binary output is all we need. Similarly, if we want to imagine the factory that assigns an \"apple\", \"orange\", or \"banana\" label to a photograph of a fruit, it just needs to output a discrete set of three values. But if we want to imagine the kind of factory that could produce the prices of different apartments in New York, we need something that can output a continuous range of values."
   ]
  },
  {
   "cell_type": "markdown",
   "metadata": {},
   "source": [
    "Let's think up a random variable (call it $\\bf Z$ again) that can take any value between 0 and 10. How many numbers are there between 0 and 10? Well, an infinite number: for any two numbers in that interval, you can find a number that's right between them. Since one nugget from the silo always prodcues the same realization when pushed through the factory, there need to be an infinite number of nuggets in the silo to be able to produce an infinite number of realizations. That means that our old code, where we manually enumerated all of the elements in $\\Omega$, is not going to work anymore. What we can do instead is imagine that $\\Omega$ is itself an interval, like all the numbers between 0 and 1. So, to pick a random nugget to throw into the factory, we just pick a random number between 0 and 1. Here's an example:"
   ]
  },
  {
   "cell_type": "code",
   "execution_count": 93,
   "metadata": {},
   "outputs": [],
   "source": [
    "def Z(ω): \n",
    "    return 10*(ω**2) # when ω goes into the factory, the factory makes ω^2\n",
    "Z.Ω = random.random # returns a single number between 0 and 1 when called\n",
    "\n",
    "def realize_cont(rand_var): # run the assembly line!\n",
    "    ω = Z.Ω() # returns a single number between 0 and 1\n",
    "    return rand_var(ω) # push it through the factory"
   ]
  },
  {
   "cell_type": "code",
   "execution_count": 94,
   "metadata": {},
   "outputs": [
    {
     "data": {
      "text/plain": [
       "[0.30149949543306703,\n",
       " 9.874458323036366,\n",
       " 0.01737524904612436,\n",
       " 8.07910627462353,\n",
       " 9.481030177582664]"
      ]
     },
     "execution_count": 94,
     "metadata": {},
     "output_type": "execute_result"
    }
   ],
   "source": [
    "[realize_cont(Z) for i in range(5)]"
   ]
  },
  {
   "cell_type": "markdown",
   "metadata": {},
   "source": [
    "So $\\mathbf Z$ is defined by $\\mathbf Z(\\omega) = 10\\omega^2$ with $\\omega \\in [0,1]$. Great. But now what does $P(\\mathbf Z = z)$ mean? We just apply the same old definition of probability: it's the proportion of nuggets in the silo that are destined to become the value $z$. For the random variable $\\bf Z$ we've defined above, how many nuggets become the value $2.5$? $\\mathbf Z$ transforms outcomes $\\omega$ into realizations $z$ by applying the function $z=10\\omega^2$, so the answer is just one: $\\omega = \\sqrt{2.5/10} = 0.5$. Any other value of $\\omega$ would produce a different value of $z$."
   ]
  },
  {
   "cell_type": "markdown",
   "metadata": {},
   "source": [
    "<div class=\"alert alert-block alert-warning\">\n",
    "<b>Note:</b> \n",
    "\n",
    "Notation like $[a,b]$ is often used to concisely write intervals- this just means \"all the numbers between $a$ and $b$, including those endpoints\". We use parentheses like $(a,b)$ to indicate that the endpoints should not be included. $(a,b]$ and $[a,b)$ have one of the two endpoints included, with the bracket indicating the endpoint that's included and the parenthesis indicating which isn't.\n",
    "</div>"
   ]
  },
  {
   "cell_type": "markdown",
   "metadata": {},
   "source": [
    "Thus to know $P(\\mathbf Z = 0.75)$ what we need to know is how much \"volume\" a single point ($\\omega = 0.5$) takes up within the interval $[0,1]$. The answer, which may not surprise you, is 0. If you want a rigorous argument for why that's the case, you have to pick up a real analysis or measure theory textbook. The implication is that for any (strictly) continuously-valued random variable, the probability of it taking any given value in particular is zero: $P(\\mathbf Z = z) = 0$, no matter what $z$ is. "
   ]
  },
  {
   "cell_type": "markdown",
   "metadata": {},
   "source": [
    "Well, that kind of sucks. It would be great if we had some kind of function that would just tell us what the probability of different subsets of realizations is, like we have in the discrete case with the probability mass function: $P(\\mathbf V \\in A) = \\sum_{v \\in A} \\phi(v) = \\sum_{v \\in A} P(\\mathbf V = v)$. It was easy to do that for discrete random variables, but if we try to do the same for continuous random variables, this is what we get: \n",
    "\n",
    "$$\\sum_{z \\in A} P(\\mathbf Z = z) = \\sum_{z \\in A} 0 = 0$$\n",
    "\n",
    "We get 0 no matter what set $A$ we choose. But that's ridiculous- values do come out of the factory, so there must be some proportion of nuggets in the silo that correspond to subsets of those values. Furthermore, this formula doesn't even make sense unless the set of realizations is discrete and we can sum over them. But what if we want to know the probability that $\\mathbf Z$ is between 4 and 5? There is a continuous infinity of numbers between 4 and 5, so we can't sum over all of them discretely. And even if we could, $P(\\mathbf Z = z)$ would be zero for all of them, so the answser would still be zero no matter what. We need a different tool."
   ]
  },
  {
   "cell_type": "markdown",
   "metadata": {},
   "source": [
    "Let's go back to our example and work forward from the definition of the sample space and $\\mathbf Z$. What's the probability that the realization $z$ is between two values $a$ and $b$? For instance, what's $P(\\mathbf Z \\in [2.5,9])$? Looking at the transformation $z = 10\\omega^2$, you can see that only values of $\\omega$ between $0.5$ and $0.3$ produce values between $2.5$ and $9$. In other words, $\\mathbf Z^{-1}([2.5,9]) = [0.3,0.5]$. The proportion of volume that the interval $[0.3, 0.5]$ takes up within the interval $[0,1]$ is is the length of the interval $[0.3, 0.5]$ (which is $0.2$) as a proportion of the length of the interval $[0,1]$ (which is 1). So $P(\\mathbf Z \\in [2.5,9]) = 0.2$!"
   ]
  },
  {
   "cell_type": "markdown",
   "metadata": {},
   "source": [
    "<div class=\"alert alert-block alert-info\">\n",
    "<b>Exercise:</b> \n",
    "\n",
    "Let $\\mathbf Z$ be as it is above. Find a formula for $P(\\mathbf Z \\in [a,b])$ for any values $a \\le b$ and $a,b \\in [0,10]$.\n",
    "\n",
    "</div>"
   ]
  },
  {
   "cell_type": "markdown",
   "metadata": {},
   "source": [
    "Mission accomplished? Not quite. We managed to calculate a probability given the sample space and random variable, but what we want is some kind of function that we can manipulate to calculate these probabilities without reference to the sample space at all. We don't want to have to think about what $\\Omega$ is or exactly how the different outcomes map to the different realizations."
   ]
  },
  {
   "cell_type": "markdown",
   "metadata": {},
   "source": [
    "So here's an idea: let's bin $z$ into 10 non-overlapping buckets, like $[0,1)$, $[1,2)$ ... $[9,10]$ and calculate the probability within each of those buckets. This is just like what we did in the discrete case. We're sorting all of the nuggets in the silo into different piles depending which set of values they are destined to become, and then measuring the volume of each pile. Here's what we get when we do that for the example random variable $\\bf z$ defined in the code above:"
   ]
  },
  {
   "cell_type": "code",
   "execution_count": 95,
   "metadata": {},
   "outputs": [
    {
     "data": {
      "application/vnd.vegalite.v3+json": {
       "$schema": "https://vega.github.io/schema/vega-lite/v3.4.0.json",
       "config": {
        "mark": {
         "tooltip": null
        },
        "view": {
         "height": 300,
         "width": 400
        }
       },
       "data": {
        "name": "data-238a944884c03662f4513bfe54e08e54"
       },
       "datasets": {
        "data-238a944884c03662f4513bfe54e08e54": [
         {
          "p": 0.31622776601683794,
          "z": "[0,1)"
         },
         {
          "p": 0.13098582948312,
          "z": "[1,2)"
         },
         {
          "p": 0.10050896200520815,
          "z": "[2,3)"
         },
         {
          "p": 0.08473297452850981,
          "z": "[3,4)"
         },
         {
          "p": 0.07465124915287169,
          "z": "[4,5)"
         },
         {
          "p": 0.06748988805493583,
          "z": "[5,6)"
         },
         {
          "p": 0.06206335729259216,
          "z": "[6,7)"
         },
         {
          "p": 0.05776716446584029,
          "z": "[7,8)"
         },
         {
          "p": 0.05425610705059791,
          "z": "[8,9)"
         },
         {
          "p": 0.05131670194948623,
          "z": "[9,10)"
         }
        ]
       },
       "encoding": {
        "x": {
         "field": "z",
         "type": "ordinal"
        },
        "y": {
         "field": "p",
         "type": "quantitative"
        }
       },
       "height": 100,
       "mark": "bar",
       "width": 400
      },
      "image/png": "[encoded data removed]",
      "text/plain": [
       "<VegaLite 3 object>\n",
       "\n",
       "If you see this message, it means the renderer has not been properly enabled\n",
       "for the frontend that you are using. For more information, see\n",
       "https://altair-viz.github.io/user_guide/troubleshooting.html\n"
      ]
     },
     "execution_count": 95,
     "metadata": {},
     "output_type": "execute_result"
    }
   ],
   "source": [
    "from math import sqrt\n",
    "\n",
    "def Pz(a,b):\n",
    "    return sqrt(b/10) - sqrt(a/10)\n",
    "\n",
    "zs = range(10)\n",
    "ps = [Pz(z,z+1) for z in zs]\n",
    "zs_labels = [f'[{z},{z+1})' for z in zs]\n",
    "\n",
    "distribution = pd.DataFrame({'z':zs_labels, 'p':ps})\n",
    "alt.Chart(distribution, height=100, width=400).mark_bar().encode(x='z:O', y='p')"
   ]
  },
  {
   "cell_type": "markdown",
   "metadata": {},
   "source": [
    "And why stop at 10 buckets? Let's split it up into 100."
   ]
  },
  {
   "cell_type": "code",
   "execution_count": 96,
   "metadata": {},
   "outputs": [
    {
     "data": {
      "application/vnd.vegalite.v3+json": {
       "$schema": "https://vega.github.io/schema/vega-lite/v3.4.0.json",
       "config": {
        "mark": {
         "tooltip": null
        },
        "view": {
         "height": 300,
         "width": 400
        }
       },
       "data": {
        "name": "data-87b4328471ec72ce0c0a7b12465363e4"
       },
       "datasets": {
        "data-87b4328471ec72ce0c0a7b12465363e4": [
         {
          "p": 0.1,
          "z": "[0.0,0.1)"
         },
         {
          "p": 0.0414213562373095,
          "z": "[0.1,0.2)"
         },
         {
          "p": 0.031783724519578255,
          "z": "[0.2,0.30000000000000004)"
         },
         {
          "p": 0.026794919243112253,
          "z": "[0.30000000000000004,0.4)"
         },
         {
          "p": 0.023606797749978953,
          "z": "[0.4,0.5)"
         },
         {
          "p": 0.021342176528338835,
          "z": "[0.5,0.6)"
         },
         {
          "p": 0.019626156828141256,
          "z": "[0.6000000000000001,0.7000000000000001)"
         },
         {
          "p": 0.018267581368159924,
          "z": "[0.7000000000000001,0.8)"
         },
         {
          "p": 0.017157287525380982,
          "z": "[0.8,0.9)"
         },
         {
          "p": 0.016227766016837952,
          "z": "[0.9,1.0)"
         },
         {
          "p": 0.015434713018702084,
          "z": "[1.0,1.1)"
         },
         {
          "p": 0.014747682478235491,
          "z": "[1.1,1.2000000000000002)"
         },
         {
          "p": 0.01414496603262344,
          "z": "[1.2000000000000002,1.3000000000000003)"
         },
         {
          "p": 0.01361061113099521,
          "z": "[1.3,1.4000000000000001)"
         },
         {
          "p": 0.013132595943347536,
          "z": "[1.4000000000000001,1.5000000000000002)"
         },
         {
          "p": 0.01270166537925832,
          "z": "[1.5,1.6)"
         },
         {
          "p": 0.012310562561766047,
          "z": "[1.6,1.7000000000000002)"
         },
         {
          "p": 0.011953506150162496,
          "z": "[1.7000000000000002,1.8000000000000003)"
         },
         {
          "p": 0.01162582564213882,
          "z": "[1.8,1.9000000000000001)"
         },
         {
          "p": 0.011323701145890597,
          "z": "[1.9000000000000001,2.0)"
         },
         {
          "p": 0.011043973995626122,
          "z": "[2.0,2.1)"
         },
         {
          "p": 0.010784006486758924,
          "z": "[2.1,2.2)"
         },
         {
          "p": 0.010541576348928994,
          "z": "[2.2,2.3000000000000003)"
         },
         {
          "p": 0.010314796225363687,
          "z": "[2.3000000000000003,2.4000000000000004)"
         },
         {
          "p": 0.010102051443364346,
          "z": "[2.4000000000000004,2.5000000000000004)"
         },
         {
          "p": 0.009901951359278516,
          "z": "[2.5,2.6)"
         },
         {
          "p": 0.009713290911384731,
          "z": "[2.6,2.7)"
         },
         {
          "p": 0.009535019942254919,
          "z": "[2.7,2.8000000000000003)"
         },
         {
          "p": 0.00936621850053232,
          "z": "[2.8000000000000003,2.9000000000000004)"
         },
         {
          "p": 0.0092060767917157,
          "z": "[2.9000000000000004,3.0000000000000004)"
         },
         {
          "p": 0.009053878777836144,
          "z": "[3.0,3.1)"
         },
         {
          "p": 0.008908988666235795,
          "z": "[3.1,3.2)"
         },
         {
          "p": 0.008770839704564826,
          "z": "[3.2,3.3000000000000003)"
         },
         {
          "p": 0.008638924830727257,
          "z": "[3.3000000000000003,3.4000000000000004)"
         },
         {
          "p": 0.008512788825431494,
          "z": "[3.4000000000000004,3.5000000000000004)"
         },
         {
          "p": 0.008392021690038387,
          "z": "[3.5,3.6)"
         },
         {
          "p": 0.008276253029821934,
          "z": "[3.6,3.7)"
         },
         {
          "p": 0.008165147267075734,
          "z": "[3.7,3.8000000000000003)"
         },
         {
          "p": 0.008058399542942185,
          "z": "[3.8000000000000003,3.9000000000000004)"
         },
         {
          "p": 0.007955732193836051,
          "z": "[3.9000000000000004,4.0)"
         },
         {
          "p": 0.007856891709609015,
          "z": "[4.0,4.1)"
         },
         {
          "p": 0.007761646097501185,
          "z": "[4.1000000000000005,4.2)"
         },
         {
          "p": 0.007669782589413976,
          "z": "[4.2,4.3)"
         },
         {
          "p": 0.007581105640879882,
          "z": "[4.3,4.3999999999999995)"
         },
         {
          "p": 0.0074954351788568685,
          "z": "[4.4,4.5)"
         },
         {
          "p": 0.007412605062589894,
          "z": "[4.5,4.6)"
         },
         {
          "p": 0.007332461727577511,
          "z": "[4.6000000000000005,4.7)"
         },
         {
          "p": 0.0072548629874464865,
          "z": "[4.7,4.8)"
         },
         {
          "p": 0.007179676972449034,
          "z": "[4.800000000000001,4.9)"
         },
         {
          "p": 0.007106781186547506,
          "z": "[4.9,5.0)"
         },
         {
          "p": 0.007036061667737403,
          "z": "[5.0,5.1)"
         },
         {
          "p": 0.006967412238512938,
          "z": "[5.1000000000000005,5.2)"
         },
         {
          "p": 0.006900733835253914,
          "z": "[5.2,5.3)"
         },
         {
          "p": 0.006835933906901626,
          "z": "[5.300000000000001,5.4)"
         },
         {
          "p": 0.006772925874612867,
          "z": "[5.4,5.5)"
         },
         {
          "p": 0.006711628645221901,
          "z": "[5.5,5.6)"
         },
         {
          "p": 0.006651966172286694,
          "z": "[5.6000000000000005,5.7)"
         },
         {
          "p": 0.00659386705931575,
          "z": "[5.7,5.8)"
         },
         {
          "p": 0.006537264200469961,
          "z": "[5.800000000000001,5.9)"
         },
         {
          "p": 0.006482094454622556,
          "z": "[5.9,6.0)"
         },
         {
          "p": 0.006428298349182016,
          "z": "[6.0,6.1)"
         },
         {
          "p": 0.006375819810515604,
          "z": "[6.1000000000000005,6.2)"
         },
         {
          "p": 0.006324605918196058,
          "z": "[6.2,6.3)"
         },
         {
          "p": 0.006274606680622741,
          "z": "[6.300000000000001,6.4)"
         },
         {
          "p": 0.00622577482985498,
          "z": "[6.4,6.5)"
         },
         {
          "p": 0.0061780656337410145,
          "z": "[6.5,6.6)"
         },
         {
          "p": 0.00613143672364902,
          "z": "[6.6000000000000005,6.7)"
         },
         {
          "p": 0.00608584793628697,
          "z": "[6.7,6.8)"
         },
         {
          "p": 0.006041261168275414,
          "z": "[6.800000000000001,6.9)"
         },
         {
          "p": 0.00599764024226801,
          "z": "[6.9,7.0)"
         },
         {
          "p": 0.005954950783560231,
          "z": "[7.0,7.1)"
         },
         {
          "p": 0.005913160106221116,
          "z": "[7.1000000000000005,7.2)"
         },
         {
          "p": 0.005872237107896083,
          "z": "[7.2,7.3)"
         },
         {
          "p": 0.0058321521725094305,
          "z": "[7.300000000000001,7.4)"
         },
         {
          "p": 0.005792877080175951,
          "z": "[7.4,7.5)"
         },
         {
          "p": 0.005754384923696065,
          "z": "[7.5,7.6)"
         },
         {
          "p": 0.005716650031077575,
          "z": "[7.6000000000000005,7.7)"
         },
         {
          "p": 0.005679647893572448,
          "z": "[7.7,7.8)"
         },
         {
          "p": 0.005643355098774228,
          "z": "[7.800000000000001,7.9)"
         },
         {
          "p": 0.005607749268356943,
          "z": "[7.9,8.0)"
         },
         {
          "p": 0.005572809000084167,
          "z": "[8.0,8.1)"
         },
         {
          "p": 0.005538513813741597,
          "z": "[8.1,8.2)"
         },
         {
          "p": 0.005504844100688189,
          "z": "[8.200000000000001,8.3)"
         },
         {
          "p": 0.00547178107673818,
          "z": "[8.3,8.4)"
         },
         {
          "p": 0.005439306738120653,
          "z": "[8.4,8.5)"
         },
         {
          "p": 0.005407403820281598,
          "z": "[8.5,8.6)"
         },
         {
          "p": 0.005376055759311105,
          "z": "[8.6,8.7)"
         },
         {
          "p": 0.005345246655804381,
          "z": "[8.700000000000001,8.8)"
         },
         {
          "p": 0.005314961240974414,
          "z": "[8.8,8.9)"
         },
         {
          "p": 0.005285184844853408,
          "z": "[8.9,9.0)"
         },
         {
          "p": 0.005255903366431891,
          "z": "[9.0,9.1)"
         },
         {
          "p": 0.005227103245598164,
          "z": "[9.1,9.2)"
         },
         {
          "p": 0.005198771436751626,
          "z": "[9.200000000000001,9.3)"
         },
         {
          "p": 0.005170895383970309,
          "z": "[9.3,9.4)"
         },
         {
          "p": 0.005143462997630466,
          "z": "[9.4,9.5)"
         },
         {
          "p": 0.005116462632374863,
          "z": "[9.5,9.6)"
         },
         {
          "p": 0.005089883066339174,
          "z": "[9.600000000000001,9.700000000000001)"
         },
         {
          "p": 0.005063713481556098,
          "z": "[9.700000000000001,9.8)"
         },
         {
          "p": 0.005037943445453386,
          "z": "[9.8,9.9)"
         },
         {
          "p": 0.005012562893380035,
          "z": "[9.9,10.0)"
         }
        ]
       },
       "encoding": {
        "x": {
         "axis": null,
         "field": "z",
         "type": "ordinal"
        },
        "y": {
         "field": "p",
         "type": "quantitative"
        }
       },
       "height": 100,
       "mark": "bar",
       "width": 400
      },
      "image/png": "[encoded data removed]",
      "text/plain": [
       "<VegaLite 3 object>\n",
       "\n",
       "If you see this message, it means the renderer has not been properly enabled\n",
       "for the frontend that you are using. For more information, see\n",
       "https://altair-viz.github.io/user_guide/troubleshooting.html\n"
      ]
     },
     "execution_count": 96,
     "metadata": {},
     "output_type": "execute_result"
    }
   ],
   "source": [
    "zs = np.arange(0,10,0.1)\n",
    "ps = [Pz(z,z+0.1) for z in zs]\n",
    "zs_labels = [f'[{z},{z+0.1})' for z in zs]\n",
    "\n",
    "distribution = pd.DataFrame({'z':zs_labels, 'p':ps})\n",
    "alt.Chart(distribution, height=100, width=400).mark_bar().encode(alt.X('z:O',axis=None), y='p')"
   ]
  },
  {
   "cell_type": "markdown",
   "metadata": {},
   "source": [
    "More buckets gives us more information. If we want to know $P(\\mathbf Z \\in [0,0.5))$, for instance, we can sum up the probabilities for the buckets $[0,0.1)$, $[0.1,0.2)$, ... $[0.4,0.5)$. But we can't get *any* probability. The graph doesn't have enough information to let us calculate probabilities over intervals whose ends are between two cutpoints of the buckets. It only has resolution up to increments of $0.1$ in terms of $z$. It would be nice to have a graph that lets us read off arbitrary probabilities like $P(\\mathbf Z \\in [a,b])$ just by looking at how much \"stuff\" there is between $a$ and $b$. Something like this:"
   ]
  },
  {
   "cell_type": "code",
   "execution_count": 97,
   "metadata": {},
   "outputs": [
    {
     "data": {
      "application/vnd.vegalite.v3+json": {
       "$schema": "https://vega.github.io/schema/vega-lite/v3.4.0.json",
       "config": {
        "mark": {
         "tooltip": null
        },
        "view": {
         "height": 300,
         "width": 400
        }
       },
       "data": {
        "name": "data-c101341a031f7d31f56b8b1aa832611d"
       },
       "datasets": {
        "data-c101341a031f7d31f56b8b1aa832611d": [
         {
          "p": 0.5,
          "z": 0.1
         },
         {
          "p": 0.35355339059327373,
          "z": 0.2
         },
         {
          "p": 0.28867513459481287,
          "z": 0.30000000000000004
         },
         {
          "p": 0.25,
          "z": 0.4
         },
         {
          "p": 0.22360679774997896,
          "z": 0.5
         },
         {
          "p": 0.20412414523193154,
          "z": 0.6
         },
         {
          "p": 0.1889822365046136,
          "z": 0.7000000000000001
         },
         {
          "p": 0.17677669529663687,
          "z": 0.8
         },
         {
          "p": 0.16666666666666666,
          "z": 0.9
         },
         {
          "p": 0.15811388300841897,
          "z": 1
         },
         {
          "p": 0.15075567228888181,
          "z": 1.1
         },
         {
          "p": 0.14433756729740643,
          "z": 1.2000000000000002
         },
         {
          "p": 0.13867504905630726,
          "z": 1.3000000000000003
         },
         {
          "p": 0.13363062095621217,
          "z": 1.4000000000000001
         },
         {
          "p": 0.12909944487358055,
          "z": 1.5000000000000002
         },
         {
          "p": 0.125,
          "z": 1.6
         },
         {
          "p": 0.12126781251816648,
          "z": 1.7000000000000002
         },
         {
          "p": 0.1178511301977579,
          "z": 1.8000000000000003
         },
         {
          "p": 0.11470786693528087,
          "z": 1.9000000000000001
         },
         {
          "p": 0.11180339887498948,
          "z": 2
         },
         {
          "p": 0.1091089451179962,
          "z": 2.1
         },
         {
          "p": 0.10660035817780521,
          "z": 2.2
         },
         {
          "p": 0.10425720702853737,
          "z": 2.3000000000000003
         },
         {
          "p": 0.10206207261596574,
          "z": 2.4000000000000004
         },
         {
          "p": 0.1,
          "z": 2.5000000000000004
         },
         {
          "p": 0.09805806756909202,
          "z": 2.6
         },
         {
          "p": 0.09622504486493763,
          "z": 2.7
         },
         {
          "p": 0.0944911182523068,
          "z": 2.8000000000000003
         },
         {
          "p": 0.09284766908852592,
          "z": 2.9000000000000004
         },
         {
          "p": 0.09128709291752768,
          "z": 3.0000000000000004
         },
         {
          "p": 0.08980265101338746,
          "z": 3.1
         },
         {
          "p": 0.08838834764831843,
          "z": 3.2
         },
         {
          "p": 0.08703882797784893,
          "z": 3.3000000000000003
         },
         {
          "p": 0.08574929257125441,
          "z": 3.4000000000000004
         },
         {
          "p": 0.08451542547285164,
          "z": 3.5000000000000004
         },
         {
          "p": 0.08333333333333333,
          "z": 3.6
         },
         {
          "p": 0.08219949365267865,
          "z": 3.7
         },
         {
          "p": 0.08111071056538127,
          "z": 3.8000000000000003
         },
         {
          "p": 0.08006407690254357,
          "z": 3.9000000000000004
         },
         {
          "p": 0.07905694150420949,
          "z": 4
         },
         {
          "p": 0.07808688094430304,
          "z": 4.1
         },
         {
          "p": 0.07715167498104596,
          "z": 4.2
         },
         {
          "p": 0.07624928516630233,
          "z": 4.3
         },
         {
          "p": 0.07537783614444092,
          "z": 4.3999999999999995
         },
         {
          "p": 0.07453559924999299,
          "z": 4.5
         },
         {
          "p": 0.07372097807744857,
          "z": 4.6
         },
         {
          "p": 0.07293249574894728,
          "z": 4.7
         },
         {
          "p": 0.07216878364870323,
          "z": 4.8
         },
         {
          "p": 0.07142857142857142,
          "z": 4.9
         },
         {
          "p": 0.07071067811865475,
          "z": 5
         },
         {
          "p": 0.07001400420140048,
          "z": 5.1
         },
         {
          "p": 0.06933752452815364,
          "z": 5.2
         },
         {
          "p": 0.06868028197434452,
          "z": 5.3
         },
         {
          "p": 0.06804138174397717,
          "z": 5.4
         },
         {
          "p": 0.06741998624632421,
          "z": 5.5
         },
         {
          "p": 0.0668153104781061,
          "z": 5.6
         },
         {
          "p": 0.06622661785325219,
          "z": 5.7
         },
         {
          "p": 0.06565321642986127,
          "z": 5.8
         },
         {
          "p": 0.06509445549041194,
          "z": 5.9
         },
         {
          "p": 0.06454972243679027,
          "z": 6
         },
         {
          "p": 0.06401843996644799,
          "z": 6.1
         },
         {
          "p": 0.06350006350009525,
          "z": 6.2
         },
         {
          "p": 0.0629940788348712,
          "z": 6.3
         },
         {
          "p": 0.0625,
          "z": 6.4
         },
         {
          "p": 0.062017367294604234,
          "z": 6.5
         },
         {
          "p": 0.06154574548966636,
          "z": 6.6
         },
         {
          "p": 0.06108472217815261,
          "z": 6.7
         },
         {
          "p": 0.06063390625908324,
          "z": 6.8
         },
         {
          "p": 0.0601929265428846,
          "z": 6.9
         },
         {
          "p": 0.05976143046671968,
          "z": 7
         },
         {
          "p": 0.05933908290969266,
          "z": 7.1
         },
         {
          "p": 0.05892556509887897,
          "z": 7.2
         },
         {
          "p": 0.058520573598065284,
          "z": 7.3
         },
         {
          "p": 0.05812381937190964,
          "z": 7.4
         },
         {
          "p": 0.05773502691896257,
          "z": 7.5
         },
         {
          "p": 0.057353933467640436,
          "z": 7.6
         },
         {
          "p": 0.05698028822981897,
          "z": 7.7
         },
         {
          "p": 0.05661385170722978,
          "z": 7.8
         },
         {
          "p": 0.0562543950463012,
          "z": 7.9
         },
         {
          "p": 0.05590169943749474,
          "z": 8
         },
         {
          "p": 0.05555555555555555,
          "z": 8.1
         },
         {
          "p": 0.05521576303742327,
          "z": 8.2
         },
         {
          "p": 0.05488212999484517,
          "z": 8.3
         },
         {
          "p": 0.0545544725589981,
          "z": 8.4
         },
         {
          "p": 0.05423261445466404,
          "z": 8.5
         },
         {
          "p": 0.053916386601719206,
          "z": 8.6
         },
         {
          "p": 0.05360562674188974,
          "z": 8.7
         },
         {
          "p": 0.053300179088902604,
          "z": 8.8
         },
         {
          "p": 0.052999894000318,
          "z": 8.9
         },
         {
          "p": 0.05270462766947299,
          "z": 9
         },
         {
          "p": 0.052414241836095915,
          "z": 9.1
         },
         {
          "p": 0.05212860351426869,
          "z": 9.2
         },
         {
          "p": 0.05184758473652126,
          "z": 9.3
         },
         {
          "p": 0.05157106231293967,
          "z": 9.4
         },
         {
          "p": 0.051298917604257706,
          "z": 9.5
         },
         {
          "p": 0.051031036307982884,
          "z": 9.6
         },
         {
          "p": 0.050767308256680944,
          "z": 9.700000000000001
         },
         {
          "p": 0.050507627227610534,
          "z": 9.8
         },
         {
          "p": 0.050251890762960605,
          "z": 9.9
         }
        ]
       },
       "encoding": {
        "x": {
         "field": "z",
         "type": "quantitative"
        },
        "y": {
         "field": "p",
         "type": "quantitative"
        }
       },
       "height": 100,
       "mark": "area",
       "width": 400
      },
      "image/png": "[encoded data removed]",
      "text/plain": [
       "<VegaLite 3 object>\n",
       "\n",
       "If you see this message, it means the renderer has not been properly enabled\n",
       "for the frontend that you are using. For more information, see\n",
       "https://altair-viz.github.io/user_guide/troubleshooting.html\n"
      ]
     },
     "execution_count": 97,
     "metadata": {},
     "output_type": "execute_result"
    }
   ],
   "source": [
    "z = np.arange(0.1,10,0.1)\n",
    "p = 1/(2*np.sqrt(10*z)) # magic, for now...\n",
    "\n",
    "distribution = pd.DataFrame({'z':z, 'p':p})\n",
    "alt.Chart(distribution, height=100, width=400).mark_area().encode(x='z', y='p')"
   ]
  },
  {
   "cell_type": "markdown",
   "metadata": {},
   "source": [
    "Before I explain how I managed to make this graph, which is called a **density plot**, I want to establish an intuition for what it means. We've gone from 10 buckets, to 100 buckets, to \"infinite\" buckets. I like to think of these pictures literally: all the outcomes $\\omega$ neatly piled up on top of the labels $z$ for the values they will become. So to get $P(\\mathbf Z \\in [a,b])$ from this picture, which is just the volume of outcomes that map to values between $a$ and $b$, all we need to do is see how much stuff there is piled up between $a$ and $b$ in the picture. "
   ]
  },
  {
   "cell_type": "markdown",
   "metadata": {},
   "source": [
    "![](https://media.giphy.com/media/xT0xeJpnrWC4XWblEk/giphy-facebook_s.jpg)"
   ]
  },
  {
   "cell_type": "markdown",
   "metadata": {},
   "source": [
    "To do this, we turn to a useful tool from calculus: the integral. To make the picture above, we need a curve $\\phi(z)$ such that the area under $f$ between $a$ and $b$ is $P(\\mathbf Z \\in [a,b])$ for all values $a$ and $b$. In the previous exercise you should have figured out that $P(\\mathbf Z \\in [a,b]) = \\sqrt{\\frac{b}{10}} - \\sqrt{\\frac{a}{10}}$. So what we need is the curve $\\phi(z)$ that satisfies this equation:\n",
    "\n",
    "$$\\int_a^b \\phi(z) dz = P(\\mathbf Z \\in [a,b]) = \\sqrt{\\frac{b}{10}} - \\sqrt{\\frac{a}{10}}$$"
   ]
  },
  {
   "cell_type": "markdown",
   "metadata": {},
   "source": [
    "Looking at the integral equation, it's clear that $\\Phi(z) = \\sqrt{\\frac{z}{10}}$ is the antiderivative of $\\phi(z)$, so all we need to do to get $\\phi$ is differentiate $\\Phi$:\n",
    "\n",
    "$$\\phi(z) = \\frac{d\\Phi(z)}{dz} = \\frac{d}{dz} \\sqrt{\\frac{z}{10}} = \\frac{1}{2\\sqrt{10z}}$$"
   ]
  },
  {
   "cell_type": "markdown",
   "metadata": {},
   "source": [
    "<div class=\"alert alert-block alert-warning\">\n",
    "<b>Note:</b> \n",
    "\n",
    "If this doesn't make any sense to you, you should stop and go review a friendly calculus book or any of the great online resources on the topic.\n",
    "</div>"
   ]
  },
  {
   "cell_type": "markdown",
   "metadata": {},
   "source": [
    "That's why we have `ps = [1/(2*sqrt(10*z)) for z in zs]` in the code above."
   ]
  },
  {
   "cell_type": "markdown",
   "metadata": {},
   "source": [
    "The function $\\phi(z)$ is called a **probability density function** (PDF), which is the continuous equivalent of the probability mass function. Its integral $\\Phi(z) = \\int_{-\\infty}^z \\phi(t)dt = P(\\mathbf Z \\le z)$ is called a **cumulative density function** (CDF). Either of these functions tell you everything you need to know about probabilities of the random variable $\\mathbf Z$. The probability that $\\mathbf Z$ takes any of the values in an arbitrary set $A$ is \n",
    "\n",
    "$$P(\\mathbf Z \\in A) = \\int_{A} \\phi(z) dz$$"
   ]
  },
  {
   "cell_type": "markdown",
   "metadata": {},
   "source": [
    "This works the same way as the probability mass function for a discrete random variable $\\mathbf V$:\n",
    "\n",
    "$$P(\\mathbf V \\in A) = \\sum_{v \\in A} \\phi(v)$$"
   ]
  },
  {
   "cell_type": "code",
   "execution_count": 98,
   "metadata": {},
   "outputs": [
    {
     "data": {
      "application/vnd.vegalite.v3+json": {
       "$schema": "https://vega.github.io/schema/vega-lite/v3.4.0.json",
       "config": {
        "mark": {
         "tooltip": null
        },
        "view": {
         "height": 300,
         "width": 400
        }
       },
       "datasets": {
        "data-38281cf2c0e1505142c3c5058c2c3093": [
         {
          "A": true,
          "p": 0.15811388300841897,
          "z": 1
         },
         {
          "A": true,
          "p": 0.15075567228888181,
          "z": 1.1
         },
         {
          "A": true,
          "p": 0.14433756729740643,
          "z": 1.2000000000000002
         },
         {
          "A": true,
          "p": 0.13867504905630726,
          "z": 1.3000000000000003
         },
         {
          "A": true,
          "p": 0.13363062095621217,
          "z": 1.4000000000000001
         },
         {
          "A": true,
          "p": 0.12909944487358055,
          "z": 1.5000000000000002
         },
         {
          "A": true,
          "p": 0.125,
          "z": 1.6
         },
         {
          "A": true,
          "p": 0.12126781251816648,
          "z": 1.7000000000000002
         },
         {
          "A": true,
          "p": 0.1178511301977579,
          "z": 1.8000000000000003
         },
         {
          "A": true,
          "p": 0.11470786693528087,
          "z": 1.9000000000000001
         },
         {
          "A": true,
          "p": 0.11180339887498948,
          "z": 2
         },
         {
          "A": true,
          "p": 0.1091089451179962,
          "z": 2.1
         },
         {
          "A": true,
          "p": 0.10660035817780521,
          "z": 2.2
         },
         {
          "A": true,
          "p": 0.10425720702853737,
          "z": 2.3000000000000003
         },
         {
          "A": true,
          "p": 0.10206207261596574,
          "z": 2.4000000000000004
         },
         {
          "A": true,
          "p": 0.1,
          "z": 2.5000000000000004
         },
         {
          "A": true,
          "p": 0.09805806756909202,
          "z": 2.6
         },
         {
          "A": true,
          "p": 0.09622504486493763,
          "z": 2.7
         },
         {
          "A": true,
          "p": 0.0944911182523068,
          "z": 2.8000000000000003
         },
         {
          "A": true,
          "p": 0.09284766908852592,
          "z": 2.9000000000000004
         },
         {
          "A": true,
          "p": 0.09128709291752768,
          "z": 3.0000000000000004
         },
         {
          "A": true,
          "p": 0.08980265101338746,
          "z": 3.1
         },
         {
          "A": true,
          "p": 0.08838834764831843,
          "z": 3.2
         },
         {
          "A": true,
          "p": 0.08703882797784893,
          "z": 3.3000000000000003
         },
         {
          "A": true,
          "p": 0.08574929257125441,
          "z": 3.4000000000000004
         },
         {
          "A": true,
          "p": 0.08451542547285164,
          "z": 3.5000000000000004
         },
         {
          "A": true,
          "p": 0.08333333333333333,
          "z": 3.6
         },
         {
          "A": true,
          "p": 0.08219949365267865,
          "z": 3.7
         },
         {
          "A": true,
          "p": 0.08111071056538127,
          "z": 3.8000000000000003
         },
         {
          "A": true,
          "p": 0.08006407690254357,
          "z": 3.9000000000000004
         },
         {
          "A": true,
          "p": 0.07905694150420949,
          "z": 4
         }
        ],
        "data-89a8ddb88ed1bbce5b68460de5942481": [
         {
          "A": false,
          "p": 0.5,
          "z": 0.1
         },
         {
          "A": false,
          "p": 0.35355339059327373,
          "z": 0.2
         },
         {
          "A": false,
          "p": 0.28867513459481287,
          "z": 0.30000000000000004
         },
         {
          "A": false,
          "p": 0.25,
          "z": 0.4
         },
         {
          "A": false,
          "p": 0.22360679774997896,
          "z": 0.5
         },
         {
          "A": false,
          "p": 0.20412414523193154,
          "z": 0.6
         },
         {
          "A": false,
          "p": 0.1889822365046136,
          "z": 0.7000000000000001
         },
         {
          "A": false,
          "p": 0.17677669529663687,
          "z": 0.8
         },
         {
          "A": false,
          "p": 0.16666666666666666,
          "z": 0.9
         },
         {
          "A": true,
          "p": 0.15811388300841897,
          "z": 1
         },
         {
          "A": true,
          "p": 0.15075567228888181,
          "z": 1.1
         },
         {
          "A": true,
          "p": 0.14433756729740643,
          "z": 1.2000000000000002
         },
         {
          "A": true,
          "p": 0.13867504905630726,
          "z": 1.3000000000000003
         },
         {
          "A": true,
          "p": 0.13363062095621217,
          "z": 1.4000000000000001
         },
         {
          "A": true,
          "p": 0.12909944487358055,
          "z": 1.5000000000000002
         },
         {
          "A": true,
          "p": 0.125,
          "z": 1.6
         },
         {
          "A": true,
          "p": 0.12126781251816648,
          "z": 1.7000000000000002
         },
         {
          "A": true,
          "p": 0.1178511301977579,
          "z": 1.8000000000000003
         },
         {
          "A": true,
          "p": 0.11470786693528087,
          "z": 1.9000000000000001
         },
         {
          "A": true,
          "p": 0.11180339887498948,
          "z": 2
         },
         {
          "A": true,
          "p": 0.1091089451179962,
          "z": 2.1
         },
         {
          "A": true,
          "p": 0.10660035817780521,
          "z": 2.2
         },
         {
          "A": true,
          "p": 0.10425720702853737,
          "z": 2.3000000000000003
         },
         {
          "A": true,
          "p": 0.10206207261596574,
          "z": 2.4000000000000004
         },
         {
          "A": true,
          "p": 0.1,
          "z": 2.5000000000000004
         },
         {
          "A": true,
          "p": 0.09805806756909202,
          "z": 2.6
         },
         {
          "A": true,
          "p": 0.09622504486493763,
          "z": 2.7
         },
         {
          "A": true,
          "p": 0.0944911182523068,
          "z": 2.8000000000000003
         },
         {
          "A": true,
          "p": 0.09284766908852592,
          "z": 2.9000000000000004
         },
         {
          "A": true,
          "p": 0.09128709291752768,
          "z": 3.0000000000000004
         },
         {
          "A": true,
          "p": 0.08980265101338746,
          "z": 3.1
         },
         {
          "A": true,
          "p": 0.08838834764831843,
          "z": 3.2
         },
         {
          "A": true,
          "p": 0.08703882797784893,
          "z": 3.3000000000000003
         },
         {
          "A": true,
          "p": 0.08574929257125441,
          "z": 3.4000000000000004
         },
         {
          "A": true,
          "p": 0.08451542547285164,
          "z": 3.5000000000000004
         },
         {
          "A": true,
          "p": 0.08333333333333333,
          "z": 3.6
         },
         {
          "A": true,
          "p": 0.08219949365267865,
          "z": 3.7
         },
         {
          "A": true,
          "p": 0.08111071056538127,
          "z": 3.8000000000000003
         },
         {
          "A": true,
          "p": 0.08006407690254357,
          "z": 3.9000000000000004
         },
         {
          "A": true,
          "p": 0.07905694150420949,
          "z": 4
         },
         {
          "A": false,
          "p": 0.07808688094430304,
          "z": 4.1
         },
         {
          "A": false,
          "p": 0.07715167498104596,
          "z": 4.2
         },
         {
          "A": false,
          "p": 0.07624928516630233,
          "z": 4.3
         },
         {
          "A": false,
          "p": 0.07537783614444092,
          "z": 4.3999999999999995
         },
         {
          "A": false,
          "p": 0.07453559924999299,
          "z": 4.5
         },
         {
          "A": false,
          "p": 0.07372097807744857,
          "z": 4.6
         },
         {
          "A": false,
          "p": 0.07293249574894728,
          "z": 4.7
         },
         {
          "A": false,
          "p": 0.07216878364870323,
          "z": 4.8
         },
         {
          "A": false,
          "p": 0.07142857142857142,
          "z": 4.9
         },
         {
          "A": false,
          "p": 0.07071067811865475,
          "z": 5
         },
         {
          "A": false,
          "p": 0.07001400420140048,
          "z": 5.1
         },
         {
          "A": false,
          "p": 0.06933752452815364,
          "z": 5.2
         },
         {
          "A": false,
          "p": 0.06868028197434452,
          "z": 5.3
         },
         {
          "A": false,
          "p": 0.06804138174397717,
          "z": 5.4
         },
         {
          "A": false,
          "p": 0.06741998624632421,
          "z": 5.5
         },
         {
          "A": false,
          "p": 0.0668153104781061,
          "z": 5.6
         },
         {
          "A": false,
          "p": 0.06622661785325219,
          "z": 5.7
         },
         {
          "A": false,
          "p": 0.06565321642986127,
          "z": 5.8
         },
         {
          "A": false,
          "p": 0.06509445549041194,
          "z": 5.9
         },
         {
          "A": false,
          "p": 0.06454972243679027,
          "z": 6
         },
         {
          "A": false,
          "p": 0.06401843996644799,
          "z": 6.1
         },
         {
          "A": false,
          "p": 0.06350006350009525,
          "z": 6.2
         },
         {
          "A": false,
          "p": 0.0629940788348712,
          "z": 6.3
         },
         {
          "A": false,
          "p": 0.0625,
          "z": 6.4
         },
         {
          "A": false,
          "p": 0.062017367294604234,
          "z": 6.5
         },
         {
          "A": false,
          "p": 0.06154574548966636,
          "z": 6.6
         },
         {
          "A": false,
          "p": 0.06108472217815261,
          "z": 6.7
         },
         {
          "A": false,
          "p": 0.06063390625908324,
          "z": 6.8
         },
         {
          "A": false,
          "p": 0.0601929265428846,
          "z": 6.9
         },
         {
          "A": false,
          "p": 0.05976143046671968,
          "z": 7
         },
         {
          "A": false,
          "p": 0.05933908290969266,
          "z": 7.1
         },
         {
          "A": false,
          "p": 0.05892556509887897,
          "z": 7.2
         },
         {
          "A": false,
          "p": 0.058520573598065284,
          "z": 7.3
         },
         {
          "A": false,
          "p": 0.05812381937190964,
          "z": 7.4
         },
         {
          "A": false,
          "p": 0.05773502691896257,
          "z": 7.5
         },
         {
          "A": false,
          "p": 0.057353933467640436,
          "z": 7.6
         },
         {
          "A": false,
          "p": 0.05698028822981897,
          "z": 7.7
         },
         {
          "A": false,
          "p": 0.05661385170722978,
          "z": 7.8
         },
         {
          "A": false,
          "p": 0.0562543950463012,
          "z": 7.9
         },
         {
          "A": false,
          "p": 0.05590169943749474,
          "z": 8
         },
         {
          "A": false,
          "p": 0.05555555555555555,
          "z": 8.1
         },
         {
          "A": false,
          "p": 0.05521576303742327,
          "z": 8.2
         },
         {
          "A": false,
          "p": 0.05488212999484517,
          "z": 8.3
         },
         {
          "A": false,
          "p": 0.0545544725589981,
          "z": 8.4
         },
         {
          "A": false,
          "p": 0.05423261445466404,
          "z": 8.5
         },
         {
          "A": false,
          "p": 0.053916386601719206,
          "z": 8.6
         },
         {
          "A": false,
          "p": 0.05360562674188974,
          "z": 8.7
         },
         {
          "A": false,
          "p": 0.053300179088902604,
          "z": 8.8
         },
         {
          "A": false,
          "p": 0.052999894000318,
          "z": 8.9
         },
         {
          "A": false,
          "p": 0.05270462766947299,
          "z": 9
         },
         {
          "A": false,
          "p": 0.052414241836095915,
          "z": 9.1
         },
         {
          "A": false,
          "p": 0.05212860351426869,
          "z": 9.2
         },
         {
          "A": false,
          "p": 0.05184758473652126,
          "z": 9.3
         },
         {
          "A": false,
          "p": 0.05157106231293967,
          "z": 9.4
         },
         {
          "A": false,
          "p": 0.051298917604257706,
          "z": 9.5
         },
         {
          "A": false,
          "p": 0.051031036307982884,
          "z": 9.6
         },
         {
          "A": false,
          "p": 0.050767308256680944,
          "z": 9.700000000000001
         },
         {
          "A": false,
          "p": 0.050507627227610534,
          "z": 9.8
         },
         {
          "A": false,
          "p": 0.050251890762960605,
          "z": 9.9
         }
        ]
       },
       "layer": [
        {
         "data": {
          "name": "data-89a8ddb88ed1bbce5b68460de5942481"
         },
         "encoding": {
          "x": {
           "field": "z",
           "type": "quantitative"
          },
          "y": {
           "field": "p",
           "type": "quantitative"
          }
         },
         "height": 100,
         "mark": "area",
         "width": 400
        },
        {
         "data": {
          "name": "data-38281cf2c0e1505142c3c5058c2c3093"
         },
         "encoding": {
          "x": {
           "field": "z",
           "type": "quantitative"
          },
          "y": {
           "field": "p",
           "type": "quantitative"
          }
         },
         "mark": {
          "color": "orange",
          "type": "area"
         }
        }
       ]
      },
      "image/png": "[encoded data removed]",
      "text/plain": [
       "<VegaLite 3 object>\n",
       "\n",
       "If you see this message, it means the renderer has not been properly enabled\n",
       "for the frontend that you are using. For more information, see\n",
       "https://altair-viz.github.io/user_guide/troubleshooting.html\n"
      ]
     },
     "execution_count": 98,
     "metadata": {},
     "output_type": "execute_result"
    }
   ],
   "source": [
    "A = (1<=z) & (z<=4)\n",
    "distribution = pd.DataFrame({'z':z, 'p':p, 'A':A})\n",
    "alt.Chart(distribution, height=100, width=400).mark_area().encode(\n",
    "    x='z',\n",
    "    y='p'\n",
    ") + alt.Chart(distribution.query('A')).mark_area(color='orange').encode(\n",
    "    x='z',\n",
    "    y='p'\n",
    ")"
   ]
  },
  {
   "cell_type": "markdown",
   "metadata": {},
   "source": [
    "For example, the probability that $\\mathbf Z$ is in the set $[1,4]$ is the area shaded in orange above."
   ]
  },
  {
   "cell_type": "markdown",
   "metadata": {},
   "source": [
    "<div class=\"alert alert-block alert-warning\">\n",
    "<b>Note:</b> \n",
    "\n",
    "The notation $\\int_{A} \\phi(z) dz$ just means $\\int_{-\\infty}^\\infty I_A(z)\\phi(z) dz$ where the <b>indicator function</b> $I_A(z)$ is 1 if $z\\in A$ and 0 else. In othe words, all we're doing is summing up the $\\phi(x)dx$s where $x \\in A$. That's analogous to summing up the $\\phi(v)$s where $v \\in A$ in the discrete case.\n",
    "\n",
    "</div>"
   ]
  },
  {
   "cell_type": "markdown",
   "metadata": {},
   "source": [
    "<div class=\"alert alert-block alert-info\">\n",
    "<b>Exercise:</b> \n",
    "\n",
    "For our random variable $\\mathbf Z$ with density $\\phi(z) =\\frac{1}{2\\sqrt{10z}}$, what is $P(\\mathbf Z \\in [0, 10])$? Calculate the probability by integrating the density function. Does your answer line up with what you expect based on our original definition of $\\mathbf Z$? \n",
    "    \n",
    "Here is another random variable that, like $\\mathbf Z$, maps outcomes in $\\Omega = [0,1]$ to values in $[0,10]$: $\\mathbf W(\\omega) = 10\\omega$. Calculate $P(\\mathbf W \\in [a,b])$ for some interval $[a,b]$. What is the probability density function for $\\mathbf W$? What is $P(\\mathbf W \\in [0, 10])$?\n",
    "    \n",
    "For <i>any</i> continuous random variable $\\mathbf X$, what is $\\int_{-\\infty}^{\\infty} \\phi(x) dx$ (<i>hint</i>: what probability does this represent)? What is $\\Phi(-\\infty)$? $\\Phi(\\infty)$? \n",
    "    \n",
    "Is it possible to have a random variable $\\mathbf Q$ with $\\phi_{\\mathbf Q}(q) < 0$ for some $q$ that is a possible realization of $\\mathbf Q$? Why does this not make sense?\n",
    "    \n",
    "For two values $a < b$, is it possible that $\\Phi(a) > \\Phi(b)$? Why nor why not?\n",
    "    \n",
    "</div>"
   ]
  },
  {
   "cell_type": "markdown",
   "metadata": {},
   "source": [
    "At this point, talking about the outcomes $\\omega$ is kind of silly. If two random variables have the same probability mass function or the same probability density function, then, for all intents and purposes, they are the same random variable. It doens't matter exactly which outcomes map to which values, as long as the proportions are the same. We already demonstrated this in the discrete case.\n",
    "\n",
    "To show the same concept for continuous random variables, here is a new random variable $\\mathbf Z'$ whose sample space $\\Omega$ is $[-100, 100]$ instead of $[0,1]$, but which has the same probability density function as our other random variable $\\mathbf Z$: \n",
    "\n",
    "$$\n",
    "\\mathbf Z'(\\omega) = 10\\left(\\frac{\\omega+100}{200}\\right)^2\n",
    "$$"
   ]
  },
  {
   "cell_type": "markdown",
   "metadata": {},
   "source": [
    "<div class=\"alert alert-block alert-info\">\n",
    "<b>Exercise:</b> \n",
    "\n",
    "Prove to yourself that $\\mathbf Z'$ has the same probability density function as $\\mathbf Z$.\n",
    "    \n",
    "</div>"
   ]
  },
  {
   "cell_type": "markdown",
   "metadata": {},
   "source": [
    "For this we use the notation $\\mathbf Z \\sim \\mathbf Z'$. Technically they are not the same since the sample spaces are different, so we shouldn't write $\\mathbf Z = \\mathbf Z'$. But as far as an observer who is outside the curtain is concerned, there is no way to tell them apart. The *distribution* of the random variable is what really matters. "
   ]
  },
  {
   "cell_type": "markdown",
   "metadata": {},
   "source": [
    "I think about mass or density functions as convenient abstraction layers between me and the random variable. If I want to know a probability, I don't have to go to the random variable and count up the volume of something in the sample space, I just \"query\" the mass or density. The \"query engine\" happens to be an integral or sum, and the query itself is the region of space that I want to integrate over. In a nutshell:\n",
    "\n",
    "$$\n",
    "\\mathbb P(\\mathbf Z^{-1}(A)) = \\int_A \\phi_{\\mathbf Z}(z) dz\n",
    "\\quad\n",
    "\\text{or}\n",
    "\\quad\n",
    "\\mathbb P(\\mathbf Z^{-1}(A)) = \\sum_{z \\in A} \\phi_{\\mathbf Z}(z)\n",
    "$$"
   ]
  },
  {
   "cell_type": "markdown",
   "metadata": {},
   "source": [
    "So if we have $\\phi_Z$, we don't need to worry about figuring out what $\\mathbf Z^{-1}(A)$ is or how to do the measurement of that set using $\\mathbb P$. Finding preimages and measuring them is hard. Integrating and summing are easier.\n"
   ]
  },
  {
   "cell_type": "markdown",
   "metadata": {},
   "source": [
    "### Histograms vs. mass and density functions"
   ]
  },
  {
   "cell_type": "markdown",
   "metadata": {},
   "source": [
    "Many of you are probably already familiar with histograms. Histograms are a way of visualizing observed data. Each observed value is stacked up on top of its approximate label (e.g. any $z$ between 0.5 and 1.5 is labeled \"1\") and the counts are plotted:"
   ]
  },
  {
   "cell_type": "code",
   "execution_count": 99,
   "metadata": {},
   "outputs": [
    {
     "data": {
      "application/vnd.vegalite.v3+json": {
       "$schema": "https://vega.github.io/schema/vega-lite/v3.4.0.json",
       "config": {
        "mark": {
         "tooltip": null
        },
        "view": {
         "height": 300,
         "width": 400
        }
       },
       "data": {
        "name": "data-585a99b650ca6ef33d978f91734d3f97"
       },
       "datasets": {
        "data-585a99b650ca6ef33d978f91734d3f97": [
         {
          "z": 8.227104023465959
         },
         {
          "z": 0.3561005790150004
         },
         {
          "z": 7.742646503704584
         },
         {
          "z": 0.9123219541775582
         },
         {
          "z": 7.307451211395013
         },
         {
          "z": 6.099318321960865
         },
         {
          "z": 1.1999476925227666
         },
         {
          "z": 0.012278077759905316
         },
         {
          "z": 8.126820480741255
         },
         {
          "z": 4.676897346451984
         },
         {
          "z": 1.3638061279331037
         },
         {
          "z": 9.18328117488399
         },
         {
          "z": 0.027024587996061097
         },
         {
          "z": 4.204973830741633
         },
         {
          "z": 4.538052738123583
         },
         {
          "z": 4.394423994139288
         },
         {
          "z": 5.111710030671786
         },
         {
          "z": 5.731735279396282
         },
         {
          "z": 2.777142036829368
         },
         {
          "z": 8.247503285367916
         },
         {
          "z": 2.6445939400339706
         },
         {
          "z": 4.8913445139792895
         },
         {
          "z": 2.34886499487688
         },
         {
          "z": 1.637055074420477
         },
         {
          "z": 5.2285145467581735
         },
         {
          "z": 0.49365241433011015
         },
         {
          "z": 8.555019447157896
         },
         {
          "z": 1.5274322692540503
         },
         {
          "z": 0.46409822934656925
         },
         {
          "z": 2.950917071812236
         },
         {
          "z": 8.24248592602893
         },
         {
          "z": 0.02250823476347375
         },
         {
          "z": 0.04766535352467813
         },
         {
          "z": 2.5678251817355453
         },
         {
          "z": 0.07516440032827242
         },
         {
          "z": 0.08637969686689334
         },
         {
          "z": 2.8717598398726727
         },
         {
          "z": 2.836710784794416
         },
         {
          "z": 4.601430873708481
         },
         {
          "z": 8.855961499070764
         },
         {
          "z": 4.631111139543459
         },
         {
          "z": 6.690278892022844
         },
         {
          "z": 1.454382655434633
         },
         {
          "z": 9.853790667789692
         },
         {
          "z": 8.639582765812577
         },
         {
          "z": 9.782399131766025
         },
         {
          "z": 9.948401097986443
         },
         {
          "z": 0.8452441689694663
         },
         {
          "z": 1.5157171195184918
         },
         {
          "z": 3.656740470993816
         },
         {
          "z": 9.80651391927717
         },
         {
          "z": 7.7430629670168685
         },
         {
          "z": 7.467355308776652
         },
         {
          "z": 8.019139033924754
         },
         {
          "z": 0.08571065556580411
         },
         {
          "z": 2.3038389170235347
         },
         {
          "z": 3.3557376000096504
         },
         {
          "z": 0.03838771525043225
         },
         {
          "z": 0.796767029569151
         },
         {
          "z": 6.978257101574562
         },
         {
          "z": 0.3112492174180582
         },
         {
          "z": 0.4336888855774028
         },
         {
          "z": 3.432370368441374
         },
         {
          "z": 4.1104348297524655
         },
         {
          "z": 8.910246994392953
         },
         {
          "z": 9.27538074455941
         },
         {
          "z": 3.348924953166408
         },
         {
          "z": 0.5641330390506328
         },
         {
          "z": 0.004893448980676083
         },
         {
          "z": 4.903221512295069
         },
         {
          "z": 7.862172092712965
         },
         {
          "z": 7.719532204530557
         },
         {
          "z": 1.3685025615665671
         },
         {
          "z": 0.9270791151961587
         },
         {
          "z": 6.638318306577542
         },
         {
          "z": 7.880534601104287
         },
         {
          "z": 0.030512979483315886
         },
         {
          "z": 0.10938881614447557
         },
         {
          "z": 4.322969520962542
         },
         {
          "z": 1.1015344403848724
         },
         {
          "z": 1.0598901183513916
         },
         {
          "z": 1.4663753696075439
         },
         {
          "z": 0.0252488749937259
         },
         {
          "z": 2.6026709872193496
         },
         {
          "z": 1.3131458215463914
         },
         {
          "z": 7.809515658736296
         },
         {
          "z": 0.7230705066436807
         },
         {
          "z": 8.131280089669474
         },
         {
          "z": 2.0551109916802845
         },
         {
          "z": 3.2438680496244103
         },
         {
          "z": 0.007870593111911668
         },
         {
          "z": 6.746229755647166
         },
         {
          "z": 0.08669347169523753
         },
         {
          "z": 5.539929865092047
         },
         {
          "z": 4.523307119807249
         },
         {
          "z": 1.2838474527390011
         },
         {
          "z": 1.4331190303457952
         },
         {
          "z": 0.0027239983126335875
         },
         {
          "z": 2.7860761853558307
         },
         {
          "z": 5.794908512580933
         },
         {
          "z": 0.026484353225572594
         },
         {
          "z": 0.05945473892760264
         },
         {
          "z": 2.5657514236076158
         },
         {
          "z": 0.0018933241842624647
         },
         {
          "z": 9.100890945828038
         },
         {
          "z": 2.4851776084404227
         },
         {
          "z": 3.054528305027508
         },
         {
          "z": 0.025862036428960893
         },
         {
          "z": 2.899319935085246
         },
         {
          "z": 0.000285232932622016
         },
         {
          "z": 7.630168302724989
         },
         {
          "z": 1.9409170804951272
         },
         {
          "z": 8.322117575560561
         },
         {
          "z": 3.526832280396995
         },
         {
          "z": 3.5568949224686475
         },
         {
          "z": 1.2187559302195885
         },
         {
          "z": 3.5746120512380015
         },
         {
          "z": 6.462593162241709
         },
         {
          "z": 4.010518541724319
         },
         {
          "z": 1.5659522826567631
         },
         {
          "z": 1.04084694622507
         },
         {
          "z": 0.2741347772055716
         },
         {
          "z": 0.13815123911090557
         },
         {
          "z": 0.20090567471762788
         },
         {
          "z": 1.6348236795227387
         },
         {
          "z": 0.9243052289844539
         },
         {
          "z": 0.49547421610022674
         },
         {
          "z": 3.951267217918268
         },
         {
          "z": 0.8079706487667151
         },
         {
          "z": 1.796543676405752
         },
         {
          "z": 1.7641985907078037
         },
         {
          "z": 4.495123062289284
         },
         {
          "z": 0.7918768792022806
         },
         {
          "z": 6.867473000079961
         },
         {
          "z": 5.486285551535445
         },
         {
          "z": 8.153305304734065
         },
         {
          "z": 1.8538299099994928
         },
         {
          "z": 4.1258551528979694
         },
         {
          "z": 2.999562492271768
         },
         {
          "z": 0.5065592240816836
         },
         {
          "z": 1.7279428080965873
         },
         {
          "z": 4.195402978416917
         },
         {
          "z": 0.07721362561486556
         },
         {
          "z": 9.739708444943203
         },
         {
          "z": 1.8204889034062708
         },
         {
          "z": 4.781864582287344
         },
         {
          "z": 1.2204485186867111
         },
         {
          "z": 9.925600600130535
         },
         {
          "z": 9.871141145105453
         },
         {
          "z": 9.745624337098942
         },
         {
          "z": 0.31873804985831544
         },
         {
          "z": 1.4137636537014426
         },
         {
          "z": 5.903314559894904
         },
         {
          "z": 0.09320234718218068
         },
         {
          "z": 3.1994932273345693
         },
         {
          "z": 1.9711422288890743
         },
         {
          "z": 9.42139488569623
         },
         {
          "z": 0.004688505307155981
         },
         {
          "z": 3.118101698513777
         },
         {
          "z": 1.6837662124281794
         },
         {
          "z": 1.2816047151538723
         },
         {
          "z": 3.359576268265616
         },
         {
          "z": 5.329999840535423
         },
         {
          "z": 3.257766470149211
         },
         {
          "z": 4.779940818171147
         },
         {
          "z": 1.0482932457552887
         },
         {
          "z": 8.493956250097046
         },
         {
          "z": 6.680668345878303
         },
         {
          "z": 7.489532976337675
         },
         {
          "z": 0.06619835344137302
         },
         {
          "z": 0.20522435144711254
         },
         {
          "z": 9.063611165340387
         },
         {
          "z": 0.1826062244267928
         },
         {
          "z": 0.15184285510213055
         },
         {
          "z": 7.837813729713906
         },
         {
          "z": 5.5069805842496375
         },
         {
          "z": 6.822685489404224
         },
         {
          "z": 6.159202498206319
         },
         {
          "z": 5.306630763531991
         },
         {
          "z": 0.8084717655983669
         },
         {
          "z": 0.08464106961034848
         },
         {
          "z": 1.4925487046460657
         },
         {
          "z": 1.0477877776385918
         },
         {
          "z": 9.158947259845075
         },
         {
          "z": 3.4287210003329105
         },
         {
          "z": 3.917971319399871
         },
         {
          "z": 0.159154610677449
         },
         {
          "z": 4.554441621746321
         },
         {
          "z": 0.11397358023738714
         },
         {
          "z": 1.738982591560845
         },
         {
          "z": 3.6021120284770216
         },
         {
          "z": 2.812329238572686
         },
         {
          "z": 0.1465902025873733
         },
         {
          "z": 5.383784476205966
         },
         {
          "z": 0.0009369598825367396
         },
         {
          "z": 2.028628012555964
         },
         {
          "z": 1.524435883408242
         },
         {
          "z": 2.266444638838816
         },
         {
          "z": 5.172271655421699
         },
         {
          "z": 6.307619169766316
         },
         {
          "z": 8.473722172628612
         },
         {
          "z": 0.06901848803244064
         },
         {
          "z": 0.03804311358857881
         },
         {
          "z": 0.29763152568696755
         },
         {
          "z": 4.757716246328171
         },
         {
          "z": 3.8909537209283007
         },
         {
          "z": 0.0008989820115827639
         },
         {
          "z": 0.5241264157773341
         },
         {
          "z": 2.5785139648119166
         },
         {
          "z": 0.5969075454319781
         },
         {
          "z": 9.059999094478474
         },
         {
          "z": 5.863717803415152
         },
         {
          "z": 1.375940569244411
         },
         {
          "z": 0.4830634077493179
         },
         {
          "z": 1.0503750799554334
         },
         {
          "z": 0.1576358926782609
         },
         {
          "z": 0.6503108191914979
         },
         {
          "z": 8.192863544585826
         },
         {
          "z": 1.2838212072701636
         },
         {
          "z": 6.870087294697473
         },
         {
          "z": 8.842067959788775
         },
         {
          "z": 0.5101086510186735
         },
         {
          "z": 2.8395000018908094
         },
         {
          "z": 9.009280960197708
         },
         {
          "z": 0.0057511307332558485
         },
         {
          "z": 8.836344558547468
         },
         {
          "z": 0.27531731825607464
         },
         {
          "z": 5.412337975691871
         },
         {
          "z": 0.5001686213878241
         },
         {
          "z": 1.4086913606163587
         },
         {
          "z": 7.425930721423067
         },
         {
          "z": 1.1136927105594907
         },
         {
          "z": 0.8658001276697531
         },
         {
          "z": 1.3265938729238318
         },
         {
          "z": 6.60319408202187
         },
         {
          "z": 8.687707808948682
         },
         {
          "z": 0.320974752712065
         },
         {
          "z": 4.304207287945553
         },
         {
          "z": 7.305999626079914
         },
         {
          "z": 3.960649601174479
         },
         {
          "z": 1.2463808060779968
         },
         {
          "z": 1.5439449201896918
         },
         {
          "z": 0.8591396488563643
         },
         {
          "z": 0.30033181558867367
         },
         {
          "z": 0.0042095330093920675
         },
         {
          "z": 1.0777541561903334
         },
         {
          "z": 0.2285777793596032
         },
         {
          "z": 4.776575221633685
         },
         {
          "z": 8.085385494691067
         },
         {
          "z": 6.518552095643331
         },
         {
          "z": 1.5542202539521222
         },
         {
          "z": 5.389770402601872
         },
         {
          "z": 0.9428916882315318
         },
         {
          "z": 9.303709246576322
         },
         {
          "z": 8.20532315328497
         },
         {
          "z": 5.050057646998006
         },
         {
          "z": 6.335767710562954
         },
         {
          "z": 0.47448736688909754
         },
         {
          "z": 9.49809886653779
         },
         {
          "z": 0.23017083997889276
         },
         {
          "z": 2.1384259422532175
         },
         {
          "z": 6.355806761275554
         },
         {
          "z": 1.459343625219969
         },
         {
          "z": 0.0004620953921620837
         },
         {
          "z": 3.9976468286737266
         },
         {
          "z": 9.779869698960098
         },
         {
          "z": 1.0636034719905223
         },
         {
          "z": 1.873792324450586
         },
         {
          "z": 0.000817984718728176
         },
         {
          "z": 0.9318512632178642
         },
         {
          "z": 8.721980838010465
         },
         {
          "z": 0.572574342439607
         },
         {
          "z": 5.957403955689453
         },
         {
          "z": 8.519898022875395
         },
         {
          "z": 0.0012150922677300763
         },
         {
          "z": 0.18474399948147352
         },
         {
          "z": 1.0178965837781933
         },
         {
          "z": 4.25197569279808
         },
         {
          "z": 3.4931116661027497
         },
         {
          "z": 0.49681132327663935
         },
         {
          "z": 0.47610905213826943
         },
         {
          "z": 3.069907946893413
         },
         {
          "z": 3.9050919768355925
         },
         {
          "z": 1.3670371206281708
         },
         {
          "z": 0.5454741744001195
         },
         {
          "z": 8.01070253126317e-05
         },
         {
          "z": 0.8475487488178434
         },
         {
          "z": 3.9773781176088012
         },
         {
          "z": 1.2682709966888317
         },
         {
          "z": 4.637049283945966
         },
         {
          "z": 0.7112790718477767
         },
         {
          "z": 3.3212304266045457e-06
         },
         {
          "z": 1.7711781907931747
         },
         {
          "z": 5.2347643441597675
         },
         {
          "z": 0.32852485936421694
         },
         {
          "z": 2.385066515159338
         },
         {
          "z": 3.5785712186195866
         },
         {
          "z": 2.3108215441939683
         },
         {
          "z": 0.00866118012696833
         },
         {
          "z": 1.9198055879629576
         },
         {
          "z": 1.4730494545351682
         },
         {
          "z": 4.441193596586169
         },
         {
          "z": 4.818814114846756
         },
         {
          "z": 0.09313872206940897
         },
         {
          "z": 0.038597991556995795
         },
         {
          "z": 0.17066298570876745
         },
         {
          "z": 9.18620282818839
         },
         {
          "z": 1.0852231576371503
         },
         {
          "z": 1.3599801028342293
         },
         {
          "z": 0.00258638592787288
         },
         {
          "z": 3.8057599257226267
         },
         {
          "z": 1.3773334478279882
         },
         {
          "z": 0.4824197576222248
         },
         {
          "z": 8.442455637277455
         },
         {
          "z": 7.363500647584815
         },
         {
          "z": 0.07035279750635988
         },
         {
          "z": 0.44020082182008846
         },
         {
          "z": 0.8736039286989521
         },
         {
          "z": 6.263686385597574
         },
         {
          "z": 6.504442704341734
         },
         {
          "z": 1.7464470285850866
         },
         {
          "z": 0.03845125172482329
         },
         {
          "z": 1.7110126929464455
         },
         {
          "z": 4.370816338118277
         },
         {
          "z": 3.339651922738473
         },
         {
          "z": 7.340801048818629
         },
         {
          "z": 4.719644389557138
         },
         {
          "z": 0.03863612465304182
         },
         {
          "z": 2.4649478178971447
         },
         {
          "z": 5.332262307287243
         },
         {
          "z": 5.670099311527304
         },
         {
          "z": 3.597544229389973
         },
         {
          "z": 1.5773395023352756
         },
         {
          "z": 5.419101392172112
         },
         {
          "z": 0.1155155985780518
         },
         {
          "z": 6.805494565386136
         },
         {
          "z": 0.018028173227772618
         },
         {
          "z": 6.054982544648101
         },
         {
          "z": 2.2201135547813635
         },
         {
          "z": 0.3595549833037554
         },
         {
          "z": 8.01424931930933
         },
         {
          "z": 2.2047141859820845
         },
         {
          "z": 0.1725913398251946
         },
         {
          "z": 7.833870093721396
         },
         {
          "z": 1.5008260644369664
         },
         {
          "z": 3.036359193408012
         },
         {
          "z": 2.4664718562511587
         },
         {
          "z": 0.8376997129703084
         },
         {
          "z": 0.1269078007101842
         },
         {
          "z": 1.0908706764404288
         },
         {
          "z": 3.656461508333915
         },
         {
          "z": 8.666328177587966
         },
         {
          "z": 9.898204718068785
         },
         {
          "z": 3.2168413247958543
         },
         {
          "z": 0.9851165456631381
         },
         {
          "z": 7.940123077681043
         },
         {
          "z": 7.793502223153423
         },
         {
          "z": 0.14244643045231495
         },
         {
          "z": 1.2910529997120297
         },
         {
          "z": 0.0010525196812916694
         },
         {
          "z": 8.41237033171023
         },
         {
          "z": 0.9212640378873369
         },
         {
          "z": 0.031244183226692493
         },
         {
          "z": 6.376652317294895
         },
         {
          "z": 0.7394005073414445
         },
         {
          "z": 0.32099528575460257
         },
         {
          "z": 2.970547424383864
         },
         {
          "z": 5.74019726505568
         },
         {
          "z": 9.55568040582926
         },
         {
          "z": 0.004564609884368176
         },
         {
          "z": 0.38413397251171877
         },
         {
          "z": 4.859187406341265
         },
         {
          "z": 8.213725350548659
         },
         {
          "z": 9.598856472267856
         },
         {
          "z": 1.313825418150256
         },
         {
          "z": 1.2920580570067361
         },
         {
          "z": 1.6482898531713552
         },
         {
          "z": 0.2725471667788525
         },
         {
          "z": 2.9665659540345315
         },
         {
          "z": 0.15285988643464907
         },
         {
          "z": 5.375283956620174
         },
         {
          "z": 5.310119017777309
         },
         {
          "z": 3.178483715085899
         },
         {
          "z": 4.167288361938062
         },
         {
          "z": 0.022009583884329602
         },
         {
          "z": 0.8239108872294525
         },
         {
          "z": 0.0069441321583394704
         },
         {
          "z": 7.9106761878081855
         },
         {
          "z": 1.849325975590618
         },
         {
          "z": 2.8198044982857846
         },
         {
          "z": 1.1103083509097684
         },
         {
          "z": 1.4270743682075218
         },
         {
          "z": 2.847956242926744
         },
         {
          "z": 0.09661575174782674
         },
         {
          "z": 7.940896644728039
         },
         {
          "z": 4.38919577968262
         },
         {
          "z": 1.2944660717327188
         },
         {
          "z": 2.5950672954934118
         },
         {
          "z": 3.784589968072632
         },
         {
          "z": 0.44973995225424346
         },
         {
          "z": 0.7046806215167656
         },
         {
          "z": 1.9531145066971267
         },
         {
          "z": 6.333135819102634
         },
         {
          "z": 4.546240048455311
         },
         {
          "z": 0.8286134445962927
         },
         {
          "z": 4.8405188171408255
         },
         {
          "z": 8.774008352500799
         },
         {
          "z": 3.232320032939046
         },
         {
          "z": 7.646828944604652
         },
         {
          "z": 0.7297514437643768
         },
         {
          "z": 1.7876227218744765
         },
         {
          "z": 0.19355469869480033
         },
         {
          "z": 1.2367903337883723
         },
         {
          "z": 0.04834388073116967
         },
         {
          "z": 4.489307176451372
         },
         {
          "z": 0.2078991841881926
         },
         {
          "z": 2.6774292469500436
         },
         {
          "z": 4.68700870704329
         },
         {
          "z": 0.1144138171519936
         },
         {
          "z": 6.285699852260377
         },
         {
          "z": 2.802533993600163
         },
         {
          "z": 0.9446400538245369
         },
         {
          "z": 0.18382415625868853
         },
         {
          "z": 6.72256936624743
         },
         {
          "z": 8.17698077502834
         },
         {
          "z": 7.454098275989267
         },
         {
          "z": 0.07052928766930716
         },
         {
          "z": 8.338164238799694
         },
         {
          "z": 2.429710161442954
         },
         {
          "z": 9.922650463249486
         },
         {
          "z": 1.6536745792452132
         },
         {
          "z": 8.98797260053387
         },
         {
          "z": 0.7271625626558308
         },
         {
          "z": 0.8022390882399626
         },
         {
          "z": 3.660887156817832
         },
         {
          "z": 0.48362749576351644
         },
         {
          "z": 7.534263199115378
         },
         {
          "z": 1.5374995655986008
         },
         {
          "z": 0.28383868301672066
         },
         {
          "z": 0.000665395640708223
         },
         {
          "z": 2.475593710056769
         },
         {
          "z": 6.9631342271705465
         },
         {
          "z": 9.43577713709412
         },
         {
          "z": 0.6229140015189182
         },
         {
          "z": 5.134791987638195
         },
         {
          "z": 0.4886676060933848
         },
         {
          "z": 8.763718009095507
         },
         {
          "z": 0.05637434693191333
         },
         {
          "z": 0.821976729672803
         },
         {
          "z": 1.6515113547572944
         },
         {
          "z": 8.830681161207826
         },
         {
          "z": 4.39916180352507
         },
         {
          "z": 0.13808527283688876
         },
         {
          "z": 1.402170768170149
         },
         {
          "z": 0.3773167610810132
         },
         {
          "z": 1.2734757864291981
         },
         {
          "z": 1.4211475296221565
         },
         {
          "z": 0.3291165569695606
         },
         {
          "z": 0.818469987887259
         },
         {
          "z": 2.856182079330593
         },
         {
          "z": 1.9702556992765106
         },
         {
          "z": 3.4954569717685575
         },
         {
          "z": 0.43004763003919316
         },
         {
          "z": 0.320438370751478
         },
         {
          "z": 0.23616092027004149
         },
         {
          "z": 2.816418447323592
         },
         {
          "z": 1.1701286355392158
         },
         {
          "z": 2.834854937851908e-05
         },
         {
          "z": 6.587753604270304
         },
         {
          "z": 9.815519918158271
         },
         {
          "z": 0.0243477444567023
         },
         {
          "z": 0.18660347938926444
         },
         {
          "z": 0.14486389369006178
         },
         {
          "z": 2.409228074588757
         },
         {
          "z": 0.5420432789768526
         },
         {
          "z": 7.9853942138138585
         },
         {
          "z": 0.5242932056586209
         },
         {
          "z": 8.446917172950982
         },
         {
          "z": 0.6795869278951707
         },
         {
          "z": 4.688966315399857
         },
         {
          "z": 6.2471241551041325
         },
         {
          "z": 0.788848384796505
         },
         {
          "z": 6.7739239668034825
         },
         {
          "z": 7.25416330148828
         },
         {
          "z": 7.922901521940428
         },
         {
          "z": 0.33186712345859654
         },
         {
          "z": 1.5064364963349608
         },
         {
          "z": 2.020948163999008
         },
         {
          "z": 0.3102438740579898
         },
         {
          "z": 0.0028912478620813768
         },
         {
          "z": 5.204571149201074
         },
         {
          "z": 3.2133403586958256
         },
         {
          "z": 0.1433690096018786
         },
         {
          "z": 8.419379319905786
         },
         {
          "z": 6.693501379125172
         },
         {
          "z": 0.48302547571419074
         },
         {
          "z": 1.7689548405457198
         },
         {
          "z": 5.573124360686629
         },
         {
          "z": 7.073748169280169
         },
         {
          "z": 7.790137409623927
         },
         {
          "z": 5.62936773074636
         },
         {
          "z": 0.1554583551129578
         },
         {
          "z": 6.17520910571537
         },
         {
          "z": 5.7820518388544215
         },
         {
          "z": 0.49455555202772644
         },
         {
          "z": 9.768377202135607
         },
         {
          "z": 3.7460829028158353
         },
         {
          "z": 0.02059361675623077
         },
         {
          "z": 7.04547493415395
         },
         {
          "z": 0.4212627703102881
         },
         {
          "z": 0.1944432878787175
         },
         {
          "z": 2.053995449397946
         },
         {
          "z": 5.602011816807711
         },
         {
          "z": 6.730214082544079
         },
         {
          "z": 6.834571335037469
         },
         {
          "z": 7.424895267272291
         },
         {
          "z": 9.191327296543294
         },
         {
          "z": 3.157239288693578
         },
         {
          "z": 0.41936785792124337
         },
         {
          "z": 1.4232088710384336
         },
         {
          "z": 2.0220638186985402
         },
         {
          "z": 2.2660915630794074
         },
         {
          "z": 3.3815704178094883
         },
         {
          "z": 3.744429818175699
         },
         {
          "z": 1.8479278670012678
         },
         {
          "z": 2.303853741977441
         },
         {
          "z": 1.8804419297190487
         },
         {
          "z": 2.527746869022678
         },
         {
          "z": 0.8608269042496919
         },
         {
          "z": 1.0664173586947485
         },
         {
          "z": 6.005886996047995
         },
         {
          "z": 0.0010728483761667188
         },
         {
          "z": 3.049506927100043
         },
         {
          "z": 0.18863204334074568
         },
         {
          "z": 2.6962895357721814
         },
         {
          "z": 1.5815383229042235
         },
         {
          "z": 0.21304135883565709
         },
         {
          "z": 0.04301819494297289
         },
         {
          "z": 2.67545298932749
         },
         {
          "z": 4.589641627050193
         },
         {
          "z": 0.01847191945100177
         },
         {
          "z": 2.1845151875036977
         },
         {
          "z": 0.09287466219179406
         },
         {
          "z": 2.0942477398268498
         },
         {
          "z": 4.297882610464918
         },
         {
          "z": 0.3170624854496967
         },
         {
          "z": 4.369587353755102
         },
         {
          "z": 9.143234015087904
         },
         {
          "z": 7.683676065200816
         },
         {
          "z": 0.20189286043728782
         },
         {
          "z": 7.642619620176387
         },
         {
          "z": 4.994914648461231
         },
         {
          "z": 0.8778040319495283
         },
         {
          "z": 3.4757681589308724
         },
         {
          "z": 0.14667865987065504
         },
         {
          "z": 0.1553368987488488
         },
         {
          "z": 1.0374724434428257
         },
         {
          "z": 4.68468038767267
         },
         {
          "z": 3.0337848623214607
         },
         {
          "z": 0.0234070556382813
         },
         {
          "z": 9.448956773980527
         },
         {
          "z": 0.4284767482848548
         },
         {
          "z": 2.6573150881067193
         },
         {
          "z": 6.470094093778993
         },
         {
          "z": 0.7963296307431595
         },
         {
          "z": 8.497843723399614
         },
         {
          "z": 0.055733778313852594
         },
         {
          "z": 3.4344498778629724
         },
         {
          "z": 0.9863286701658757
         },
         {
          "z": 0.0002513763286812413
         },
         {
          "z": 9.328040130192198
         },
         {
          "z": 4.565270996489296
         },
         {
          "z": 1.6138817174459974
         },
         {
          "z": 0.0002111320031546445
         },
         {
          "z": 1.2428827126498485
         },
         {
          "z": 6.616471234503525
         },
         {
          "z": 5.259264102998782
         },
         {
          "z": 0.816799175900404
         },
         {
          "z": 0.702637209547764
         },
         {
          "z": 1.0508957301971207
         },
         {
          "z": 2.690393290998145
         },
         {
          "z": 0.23029833424121932
         },
         {
          "z": 3.370864657163895
         },
         {
          "z": 1.6192482148446077
         },
         {
          "z": 0.047338462384159063
         },
         {
          "z": 0.3461924926555679
         },
         {
          "z": 4.364422624554269
         },
         {
          "z": 0.031886682741148344
         },
         {
          "z": 2.097766332514769
         },
         {
          "z": 0.06228199500855694
         },
         {
          "z": 0.0057184112733811715
         },
         {
          "z": 5.642046246621723
         },
         {
          "z": 0.5210427255699173
         },
         {
          "z": 1.5859077281406562
         },
         {
          "z": 2.8906858252730174
         },
         {
          "z": 5.507965061069047
         },
         {
          "z": 2.4507867709515576
         },
         {
          "z": 7.384258797364031
         },
         {
          "z": 8.325796180621696
         },
         {
          "z": 2.4157240903815898
         },
         {
          "z": 2.6495320920471537
         },
         {
          "z": 1.282265660384466
         },
         {
          "z": 1.9922627299612496
         },
         {
          "z": 4.2099287811804045
         },
         {
          "z": 5.501978439887944
         },
         {
          "z": 0.658260596080211
         },
         {
          "z": 9.426614786255486
         },
         {
          "z": 0.5157629377972451
         },
         {
          "z": 3.9964920405652915
         },
         {
          "z": 9.205784893941372
         },
         {
          "z": 3.07717090792824
         },
         {
          "z": 2.649649895979867
         },
         {
          "z": 1.232710655527839
         },
         {
          "z": 0.43676750505832784
         },
         {
          "z": 8.72340047068099
         },
         {
          "z": 0.005608919119047817
         },
         {
          "z": 0.29385675465068234
         },
         {
          "z": 0.002802617669447186
         },
         {
          "z": 2.3119701813482947
         },
         {
          "z": 0.3195065374730536
         },
         {
          "z": 0.09572960963945311
         },
         {
          "z": 0.4656579456735957
         },
         {
          "z": 0.5005809912380478
         },
         {
          "z": 4.54363415389741
         },
         {
          "z": 0.6540835713576404
         },
         {
          "z": 0.2003494188753019
         },
         {
          "z": 1.8865482882199203
         },
         {
          "z": 2.3513903285764908
         },
         {
          "z": 3.8261554946808607
         },
         {
          "z": 4.558479362353055
         },
         {
          "z": 7.342106427138836
         },
         {
          "z": 0.0025661371643871675
         },
         {
          "z": 7.103065079499559
         },
         {
          "z": 2.4292822484794465
         },
         {
          "z": 2.532827214982125
         },
         {
          "z": 0.5625528088792635
         },
         {
          "z": 2.2157030373479425
         },
         {
          "z": 0.4046900985010277
         },
         {
          "z": 7.3759569131293565
         },
         {
          "z": 0.49783898018577544
         },
         {
          "z": 5.378421874499946
         },
         {
          "z": 3.1443359385907317
         },
         {
          "z": 7.6153372446013
         },
         {
          "z": 6.894556726096277
         },
         {
          "z": 3.8323382620387534
         },
         {
          "z": 0.15636874702500944
         },
         {
          "z": 0.6211839444191479
         },
         {
          "z": 6.128306238234906
         },
         {
          "z": 2.6750690043422165
         },
         {
          "z": 3.754142797714248
         },
         {
          "z": 1.1180500758136627
         },
         {
          "z": 0.1834496433452218
         },
         {
          "z": 1.7357375193589861
         },
         {
          "z": 0.04218689923707538
         },
         {
          "z": 2.196987563806523
         },
         {
          "z": 1.048942762760282
         },
         {
          "z": 0.09280766231115235
         },
         {
          "z": 0.8837544424754504
         },
         {
          "z": 1.2884722759213982
         },
         {
          "z": 1.3445438618490082
         },
         {
          "z": 0.4406753824001042
         },
         {
          "z": 8.777270241631017
         },
         {
          "z": 0.06989704139343064
         },
         {
          "z": 7.23872622054256
         },
         {
          "z": 0.49061987482908553
         },
         {
          "z": 3.2941390336540177
         },
         {
          "z": 1.700861050021841
         },
         {
          "z": 0.9795400466748727
         },
         {
          "z": 4.331476398373882
         },
         {
          "z": 1.496499001611409
         },
         {
          "z": 0.033271181618788996
         },
         {
          "z": 0.013705522375032267
         },
         {
          "z": 8.686709145015014
         },
         {
          "z": 2.112915093548556
         },
         {
          "z": 2.962893708224961
         },
         {
          "z": 7.024940432309763
         },
         {
          "z": 0.028784900996895298
         },
         {
          "z": 9.119284183236932
         },
         {
          "z": 0.5044579041425664
         },
         {
          "z": 2.3204722353306426
         },
         {
          "z": 4.050361314015855
         },
         {
          "z": 8.437648266744054
         },
         {
          "z": 0.26537515412286156
         },
         {
          "z": 1.1052415031719334
         },
         {
          "z": 6.686322409859253
         },
         {
          "z": 0.9797527840189301
         },
         {
          "z": 3.76792405917457
         },
         {
          "z": 0.042658183129596905
         },
         {
          "z": 1.1104385632876104
         },
         {
          "z": 0.4124695474778195
         },
         {
          "z": 0.4835072630530014
         },
         {
          "z": 0.009328618930069511
         },
         {
          "z": 5.543731510829173
         },
         {
          "z": 2.0055815565384334
         },
         {
          "z": 2.2351233447193466
         },
         {
          "z": 7.905762290505497
         },
         {
          "z": 3.911876690519861
         },
         {
          "z": 3.4888246680402304
         },
         {
          "z": 0.7456063525687433
         },
         {
          "z": 1.1076289963508819
         },
         {
          "z": 0.4219522659863043
         },
         {
          "z": 4.841299800799504
         },
         {
          "z": 3.7944417373450934
         },
         {
          "z": 1.9231749844346697
         },
         {
          "z": 8.441661618879419
         },
         {
          "z": 0.023977620431705274
         },
         {
          "z": 1.0035062558603716
         },
         {
          "z": 0.9780224478676536
         },
         {
          "z": 0.15051250129629565
         },
         {
          "z": 2.7632995771450455
         },
         {
          "z": 9.179104820151156
         },
         {
          "z": 4.492999493146568
         },
         {
          "z": 8.859437394663862
         },
         {
          "z": 0.26172439693624266
         },
         {
          "z": 5.143360771487037
         },
         {
          "z": 0.16924514034130828
         },
         {
          "z": 2.037311118958659
         },
         {
          "z": 1.2664449704068026
         },
         {
          "z": 5.683685174716611
         },
         {
          "z": 0.09599249188189966
         },
         {
          "z": 1.0414989668947958
         },
         {
          "z": 1.3356003202710474
         },
         {
          "z": 8.643327430088588
         },
         {
          "z": 7.437239590196532
         },
         {
          "z": 1.8780683079300542
         },
         {
          "z": 3.108085290139072
         },
         {
          "z": 5.756811474994349
         },
         {
          "z": 0.10786537344949046
         },
         {
          "z": 0.037739678674432744
         },
         {
          "z": 1.8945101957212531
         },
         {
          "z": 1.0707567205575501
         },
         {
          "z": 7.879935599484974
         },
         {
          "z": 1.6510889507614626
         },
         {
          "z": 7.643078826178399
         },
         {
          "z": 0.02309179372345801
         },
         {
          "z": 1.285164543756356
         },
         {
          "z": 6.488307055377184
         },
         {
          "z": 3.7636955044829556
         },
         {
          "z": 1.504262242116422
         },
         {
          "z": 8.802157053831063
         },
         {
          "z": 1.8582073702875301
         },
         {
          "z": 0.21962978216308043
         },
         {
          "z": 1.1884364000529888
         },
         {
          "z": 0.7168977043348884
         },
         {
          "z": 0.03875608915493203
         },
         {
          "z": 6.014158355516667
         },
         {
          "z": 3.5538118872897106
         },
         {
          "z": 0.0026150422480914447
         },
         {
          "z": 2.945540275791524
         },
         {
          "z": 4.656629493208291
         },
         {
          "z": 0.3892664532531665
         },
         {
          "z": 7.6083182422899
         },
         {
          "z": 0.5581635554775426
         },
         {
          "z": 1.6967261660860125
         },
         {
          "z": 3.0256745548193282
         },
         {
          "z": 2.7668612206076517
         },
         {
          "z": 4.353307962988156
         },
         {
          "z": 2.123318327441786
         },
         {
          "z": 8.600156935032432
         },
         {
          "z": 9.408007074525951
         },
         {
          "z": 9.119888654425894
         },
         {
          "z": 2.6046006297627273
         },
         {
          "z": 0.5775436938279446
         },
         {
          "z": 0.7275234969219357
         },
         {
          "z": 0.04013028933299107
         },
         {
          "z": 5.312883354818856
         },
         {
          "z": 2.1161238389182744
         },
         {
          "z": 0.5125545165647736
         },
         {
          "z": 8.060990200568373
         },
         {
          "z": 5.323095725350953
         },
         {
          "z": 0.4403426918428057
         },
         {
          "z": 2.2382695851267305
         },
         {
          "z": 2.880518279013029
         },
         {
          "z": 5.538632635429662
         },
         {
          "z": 0.5868402894225949
         },
         {
          "z": 4.073090082420206
         },
         {
          "z": 1.0783974118581738
         },
         {
          "z": 1.4678383612855692
         },
         {
          "z": 0.0076912521472286425
         },
         {
          "z": 1.5281419385954496
         },
         {
          "z": 4.383771445811801
         },
         {
          "z": 0.13673836350623042
         },
         {
          "z": 9.338435814789149
         },
         {
          "z": 7.791097286755306
         },
         {
          "z": 9.272328581964993
         },
         {
          "z": 1.7492893675967216
         },
         {
          "z": 8.462980106010152
         },
         {
          "z": 4.6542897441032345
         },
         {
          "z": 0.018154086873870354
         },
         {
          "z": 0.3296069513117769
         },
         {
          "z": 6.483339395649953
         },
         {
          "z": 0.27519721596955493
         },
         {
          "z": 3.9568213251037543
         },
         {
          "z": 1.2007312267080401
         },
         {
          "z": 7.129709046883472
         },
         {
          "z": 0.35026922320255516
         },
         {
          "z": 1.1287136075643736
         },
         {
          "z": 1.7591619702692243
         },
         {
          "z": 7.589673368773278
         },
         {
          "z": 1.3270608850025198
         },
         {
          "z": 1.0394585414649766
         },
         {
          "z": 2.500789134479036
         },
         {
          "z": 0.05149684620186214
         },
         {
          "z": 3.283693993119723
         },
         {
          "z": 0.5719893586292761
         },
         {
          "z": 0.11663454152478077
         },
         {
          "z": 0.4820298093463403
         },
         {
          "z": 0.5620178380622702
         },
         {
          "z": 2.8740161916124407
         },
         {
          "z": 4.52123920960174
         },
         {
          "z": 2.070277233398272
         },
         {
          "z": 3.3241847492957524
         },
         {
          "z": 0.07254836893167582
         },
         {
          "z": 5.849626613231804
         },
         {
          "z": 1.4249780681172517
         },
         {
          "z": 2.473766428113646
         },
         {
          "z": 1.0236978808863508
         },
         {
          "z": 8.20295054121425
         },
         {
          "z": 9.528362192922064
         },
         {
          "z": 0.7135005119704328
         },
         {
          "z": 7.585820913100857
         },
         {
          "z": 0.2135452796596713
         },
         {
          "z": 7.096854911593659
         },
         {
          "z": 2.706784380061113
         },
         {
          "z": 7.7535118286157
         },
         {
          "z": 5.118364056309311
         },
         {
          "z": 7.045125075730194
         },
         {
          "z": 0.08918634138074788
         },
         {
          "z": 0.1015037419753679
         },
         {
          "z": 5.937099053380236
         },
         {
          "z": 4.180010771240534
         },
         {
          "z": 0.08396105880148788
         },
         {
          "z": 6.508990287719873
         },
         {
          "z": 0.35921114175517127
         },
         {
          "z": 8.383524798266212
         },
         {
          "z": 2.3989849255066846
         },
         {
          "z": 0.9697787496242418
         },
         {
          "z": 4.102722933303303
         },
         {
          "z": 8.438978181371235
         },
         {
          "z": 2.3420407105567715
         },
         {
          "z": 9.587107434740208
         },
         {
          "z": 8.584964881629393
         },
         {
          "z": 1.5055711111700676
         },
         {
          "z": 2.5596869623931844
         },
         {
          "z": 5.695808834980331
         },
         {
          "z": 0.04055452347171429
         },
         {
          "z": 0.49520536005006244
         },
         {
          "z": 5.919136995542608
         },
         {
          "z": 5.117702039012383
         },
         {
          "z": 0.6024739712132636
         },
         {
          "z": 0.35235327146879813
         },
         {
          "z": 0.08284751624284328
         },
         {
          "z": 1.6697393856176115
         },
         {
          "z": 1.5646625983057574
         },
         {
          "z": 5.567963992125921
         },
         {
          "z": 1.8336453263077788
         },
         {
          "z": 0.015475227304504114
         },
         {
          "z": 1.2872806478726866
         },
         {
          "z": 5.714105312210881
         },
         {
          "z": 7.210737099518626
         },
         {
          "z": 8.694678210862294
         },
         {
          "z": 0.19308185313731974
         },
         {
          "z": 2.2624320336521753
         },
         {
          "z": 3.81589490392662
         },
         {
          "z": 0.9008023177334233
         },
         {
          "z": 0.007587716773657748
         },
         {
          "z": 0.4385204870782322
         },
         {
          "z": 0.5398274829544084
         },
         {
          "z": 1.409477033422338
         },
         {
          "z": 0.0034764461234916624
         },
         {
          "z": 7.2894429238973455
         },
         {
          "z": 8.926033075515289
         },
         {
          "z": 4.337967908104075
         },
         {
          "z": 1.6861066636631197
         },
         {
          "z": 0.9370048661618153
         },
         {
          "z": 3.628065498673493
         },
         {
          "z": 1.0862614797269634
         },
         {
          "z": 2.5114918756310693
         },
         {
          "z": 2.240454039850692
         },
         {
          "z": 0.1102166406989829
         },
         {
          "z": 4.488087908091863
         },
         {
          "z": 0.011937012169627184
         },
         {
          "z": 6.9859253177302785
         },
         {
          "z": 0.49922314153184216
         },
         {
          "z": 0.11214358893581176
         },
         {
          "z": 0.8668119918418795
         },
         {
          "z": 2.7091744050565133e-05
         },
         {
          "z": 0.029719004922650713
         },
         {
          "z": 1.6676376784050353
         },
         {
          "z": 2.614296983839048
         },
         {
          "z": 0.9182333562838146
         },
         {
          "z": 3.6825579907376005
         },
         {
          "z": 5.855196722905102
         },
         {
          "z": 9.503304986293681
         },
         {
          "z": 5.091409073730006
         },
         {
          "z": 0.29183554505994497
         },
         {
          "z": 0.1798705580788541
         },
         {
          "z": 4.575437314350088
         },
         {
          "z": 9.249909003032863
         },
         {
          "z": 8.665915080469654
         },
         {
          "z": 4.988683328667174
         },
         {
          "z": 9.058763578703438
         },
         {
          "z": 1.4808629491841612
         },
         {
          "z": 1.965087806429133
         },
         {
          "z": 7.1621727506009805
         },
         {
          "z": 8.82977561083221
         },
         {
          "z": 6.619631148062931
         },
         {
          "z": 9.671821618734748
         },
         {
          "z": 8.680076209374175
         },
         {
          "z": 4.665005459354837
         },
         {
          "z": 3.08004051967942
         },
         {
          "z": 7.772636026552267
         },
         {
          "z": 7.8497268860353095
         },
         {
          "z": 0.00909816745939401
         },
         {
          "z": 0.39261645958110936
         },
         {
          "z": 5.956303651367245
         },
         {
          "z": 0.16509531935383434
         },
         {
          "z": 6.000375463688307
         },
         {
          "z": 8.440449845507187
         },
         {
          "z": 1.178924859101363
         },
         {
          "z": 1.9736137607296662
         },
         {
          "z": 1.6456083999300073
         },
         {
          "z": 0.08451067335452035
         },
         {
          "z": 9.262285870584915
         },
         {
          "z": 5.744766123474587
         },
         {
          "z": 1.0471958961814216
         },
         {
          "z": 4.780321206969887
         },
         {
          "z": 6.281242130291198
         },
         {
          "z": 2.7515489485578257
         },
         {
          "z": 5.310270406288629
         },
         {
          "z": 9.869917561410933
         },
         {
          "z": 0.02566687618623194
         },
         {
          "z": 1.2889763930144378
         },
         {
          "z": 9.372524185876836
         },
         {
          "z": 0.014874699942464872
         },
         {
          "z": 0.4847429707159529
         },
         {
          "z": 0.02191751225948156
         },
         {
          "z": 1.0972014857118335
         },
         {
          "z": 8.37144151264724
         },
         {
          "z": 9.735035654430584
         },
         {
          "z": 1.8689716918658923
         },
         {
          "z": 9.953743615747026
         },
         {
          "z": 1.78212880422107
         },
         {
          "z": 7.130314670349818
         },
         {
          "z": 0.08343111154469496
         },
         {
          "z": 0.5282896354813253
         },
         {
          "z": 5.0250210568812825
         },
         {
          "z": 1.5481828848403971
         },
         {
          "z": 3.9664350122939855
         },
         {
          "z": 2.6744326770889466
         },
         {
          "z": 6.122582968839216
         },
         {
          "z": 2.207498251583702
         },
         {
          "z": 0.19360130265766506
         },
         {
          "z": 2.723946002509903
         },
         {
          "z": 0.3690495254835192
         },
         {
          "z": 4.615125908264245
         },
         {
          "z": 3.123258699911917
         },
         {
          "z": 3.0852754196408916
         },
         {
          "z": 1.0532442600905718
         },
         {
          "z": 3.1545682788756313
         },
         {
          "z": 2.9927244203218395
         },
         {
          "z": 0.6196012457340299
         },
         {
          "z": 0.005277881003858075
         },
         {
          "z": 0.006324817730714133
         },
         {
          "z": 0.1675023699867974
         },
         {
          "z": 0.9283567716689256
         },
         {
          "z": 0.3604434281440939
         },
         {
          "z": 1.3417384751790347
         },
         {
          "z": 4.934698966779822
         },
         {
          "z": 1.4182414268181716
         },
         {
          "z": 6.31034999850442
         },
         {
          "z": 8.663319495791606
         },
         {
          "z": 2.559606538841467
         },
         {
          "z": 0.8810187725334417
         },
         {
          "z": 0.08762417383897964
         },
         {
          "z": 0.06014233229401759
         },
         {
          "z": 0.3332742568859586
         },
         {
          "z": 4.207465668986908
         },
         {
          "z": 1.6848593362960929
         },
         {
          "z": 3.7459332902687175
         },
         {
          "z": 4.88426505638958
         },
         {
          "z": 4.858169382515572
         },
         {
          "z": 1.862015432161406
         },
         {
          "z": 0.1486719217384096
         },
         {
          "z": 4.976298510949515
         },
         {
          "z": 7.1786596646716685
         },
         {
          "z": 8.071371221332797
         },
         {
          "z": 5.093601299634414
         },
         {
          "z": 5.250660727252086
         },
         {
          "z": 9.08745903957661e-07
         },
         {
          "z": 4.344143489979964
         },
         {
          "z": 5.477215582921544
         },
         {
          "z": 7.3066523091811755
         },
         {
          "z": 8.349919324384906
         },
         {
          "z": 1.6448222830783457
         },
         {
          "z": 0.4679128128546797
         },
         {
          "z": 7.047375047810335
         },
         {
          "z": 0.6493927232865305
         },
         {
          "z": 4.639681010917702
         },
         {
          "z": 5.825220249201703
         }
        ]
       },
       "encoding": {
        "x": {
         "bin": {
          "maxbins": 100
         },
         "field": "z",
         "type": "quantitative"
        },
        "y": {
         "aggregate": "count",
         "type": "quantitative"
        }
       },
       "height": 100,
       "mark": "bar",
       "width": 400
      },
      "image/png": "[encoded data removed]",
      "text/plain": [
       "<VegaLite 3 object>\n",
       "\n",
       "If you see this message, it means the renderer has not been properly enabled\n",
       "for the frontend that you are using. For more information, see\n",
       "https://altair-viz.github.io/user_guide/troubleshooting.html\n"
      ]
     },
     "execution_count": 99,
     "metadata": {},
     "output_type": "execute_result"
    }
   ],
   "source": [
    "z = [realize_cont(Z) for i in range(1000)] # 1000 draws from Z\n",
    "\n",
    "plot_df = pd.DataFrame({'z':z})\n",
    "alt.Chart(plot_df, height=100, width=400).mark_bar().encode(\n",
    "    alt.X('z', bin=alt.Bin(maxbins=100)),\n",
    "    y='count()'\n",
    ")"
   ]
  },
  {
   "cell_type": "markdown",
   "metadata": {},
   "source": [
    "That looks suspicously like our bucketed density plot:"
   ]
  },
  {
   "cell_type": "code",
   "execution_count": 100,
   "metadata": {},
   "outputs": [
    {
     "data": {
      "application/vnd.vegalite.v3+json": {
       "$schema": "https://vega.github.io/schema/vega-lite/v3.4.0.json",
       "config": {
        "mark": {
         "tooltip": null
        },
        "view": {
         "height": 300,
         "width": 400
        }
       },
       "data": {
        "name": "data-87b4328471ec72ce0c0a7b12465363e4"
       },
       "datasets": {
        "data-87b4328471ec72ce0c0a7b12465363e4": [
         {
          "p": 0.1,
          "z": "[0.0,0.1)"
         },
         {
          "p": 0.0414213562373095,
          "z": "[0.1,0.2)"
         },
         {
          "p": 0.031783724519578255,
          "z": "[0.2,0.30000000000000004)"
         },
         {
          "p": 0.026794919243112253,
          "z": "[0.30000000000000004,0.4)"
         },
         {
          "p": 0.023606797749978953,
          "z": "[0.4,0.5)"
         },
         {
          "p": 0.021342176528338835,
          "z": "[0.5,0.6)"
         },
         {
          "p": 0.019626156828141256,
          "z": "[0.6000000000000001,0.7000000000000001)"
         },
         {
          "p": 0.018267581368159924,
          "z": "[0.7000000000000001,0.8)"
         },
         {
          "p": 0.017157287525380982,
          "z": "[0.8,0.9)"
         },
         {
          "p": 0.016227766016837952,
          "z": "[0.9,1.0)"
         },
         {
          "p": 0.015434713018702084,
          "z": "[1.0,1.1)"
         },
         {
          "p": 0.014747682478235491,
          "z": "[1.1,1.2000000000000002)"
         },
         {
          "p": 0.01414496603262344,
          "z": "[1.2000000000000002,1.3000000000000003)"
         },
         {
          "p": 0.01361061113099521,
          "z": "[1.3,1.4000000000000001)"
         },
         {
          "p": 0.013132595943347536,
          "z": "[1.4000000000000001,1.5000000000000002)"
         },
         {
          "p": 0.01270166537925832,
          "z": "[1.5,1.6)"
         },
         {
          "p": 0.012310562561766047,
          "z": "[1.6,1.7000000000000002)"
         },
         {
          "p": 0.011953506150162496,
          "z": "[1.7000000000000002,1.8000000000000003)"
         },
         {
          "p": 0.01162582564213882,
          "z": "[1.8,1.9000000000000001)"
         },
         {
          "p": 0.011323701145890597,
          "z": "[1.9000000000000001,2.0)"
         },
         {
          "p": 0.011043973995626122,
          "z": "[2.0,2.1)"
         },
         {
          "p": 0.010784006486758924,
          "z": "[2.1,2.2)"
         },
         {
          "p": 0.010541576348928994,
          "z": "[2.2,2.3000000000000003)"
         },
         {
          "p": 0.010314796225363687,
          "z": "[2.3000000000000003,2.4000000000000004)"
         },
         {
          "p": 0.010102051443364346,
          "z": "[2.4000000000000004,2.5000000000000004)"
         },
         {
          "p": 0.009901951359278516,
          "z": "[2.5,2.6)"
         },
         {
          "p": 0.009713290911384731,
          "z": "[2.6,2.7)"
         },
         {
          "p": 0.009535019942254919,
          "z": "[2.7,2.8000000000000003)"
         },
         {
          "p": 0.00936621850053232,
          "z": "[2.8000000000000003,2.9000000000000004)"
         },
         {
          "p": 0.0092060767917157,
          "z": "[2.9000000000000004,3.0000000000000004)"
         },
         {
          "p": 0.009053878777836144,
          "z": "[3.0,3.1)"
         },
         {
          "p": 0.008908988666235795,
          "z": "[3.1,3.2)"
         },
         {
          "p": 0.008770839704564826,
          "z": "[3.2,3.3000000000000003)"
         },
         {
          "p": 0.008638924830727257,
          "z": "[3.3000000000000003,3.4000000000000004)"
         },
         {
          "p": 0.008512788825431494,
          "z": "[3.4000000000000004,3.5000000000000004)"
         },
         {
          "p": 0.008392021690038387,
          "z": "[3.5,3.6)"
         },
         {
          "p": 0.008276253029821934,
          "z": "[3.6,3.7)"
         },
         {
          "p": 0.008165147267075734,
          "z": "[3.7,3.8000000000000003)"
         },
         {
          "p": 0.008058399542942185,
          "z": "[3.8000000000000003,3.9000000000000004)"
         },
         {
          "p": 0.007955732193836051,
          "z": "[3.9000000000000004,4.0)"
         },
         {
          "p": 0.007856891709609015,
          "z": "[4.0,4.1)"
         },
         {
          "p": 0.007761646097501185,
          "z": "[4.1000000000000005,4.2)"
         },
         {
          "p": 0.007669782589413976,
          "z": "[4.2,4.3)"
         },
         {
          "p": 0.007581105640879882,
          "z": "[4.3,4.3999999999999995)"
         },
         {
          "p": 0.0074954351788568685,
          "z": "[4.4,4.5)"
         },
         {
          "p": 0.007412605062589894,
          "z": "[4.5,4.6)"
         },
         {
          "p": 0.007332461727577511,
          "z": "[4.6000000000000005,4.7)"
         },
         {
          "p": 0.0072548629874464865,
          "z": "[4.7,4.8)"
         },
         {
          "p": 0.007179676972449034,
          "z": "[4.800000000000001,4.9)"
         },
         {
          "p": 0.007106781186547506,
          "z": "[4.9,5.0)"
         },
         {
          "p": 0.007036061667737403,
          "z": "[5.0,5.1)"
         },
         {
          "p": 0.006967412238512938,
          "z": "[5.1000000000000005,5.2)"
         },
         {
          "p": 0.006900733835253914,
          "z": "[5.2,5.3)"
         },
         {
          "p": 0.006835933906901626,
          "z": "[5.300000000000001,5.4)"
         },
         {
          "p": 0.006772925874612867,
          "z": "[5.4,5.5)"
         },
         {
          "p": 0.006711628645221901,
          "z": "[5.5,5.6)"
         },
         {
          "p": 0.006651966172286694,
          "z": "[5.6000000000000005,5.7)"
         },
         {
          "p": 0.00659386705931575,
          "z": "[5.7,5.8)"
         },
         {
          "p": 0.006537264200469961,
          "z": "[5.800000000000001,5.9)"
         },
         {
          "p": 0.006482094454622556,
          "z": "[5.9,6.0)"
         },
         {
          "p": 0.006428298349182016,
          "z": "[6.0,6.1)"
         },
         {
          "p": 0.006375819810515604,
          "z": "[6.1000000000000005,6.2)"
         },
         {
          "p": 0.006324605918196058,
          "z": "[6.2,6.3)"
         },
         {
          "p": 0.006274606680622741,
          "z": "[6.300000000000001,6.4)"
         },
         {
          "p": 0.00622577482985498,
          "z": "[6.4,6.5)"
         },
         {
          "p": 0.0061780656337410145,
          "z": "[6.5,6.6)"
         },
         {
          "p": 0.00613143672364902,
          "z": "[6.6000000000000005,6.7)"
         },
         {
          "p": 0.00608584793628697,
          "z": "[6.7,6.8)"
         },
         {
          "p": 0.006041261168275414,
          "z": "[6.800000000000001,6.9)"
         },
         {
          "p": 0.00599764024226801,
          "z": "[6.9,7.0)"
         },
         {
          "p": 0.005954950783560231,
          "z": "[7.0,7.1)"
         },
         {
          "p": 0.005913160106221116,
          "z": "[7.1000000000000005,7.2)"
         },
         {
          "p": 0.005872237107896083,
          "z": "[7.2,7.3)"
         },
         {
          "p": 0.0058321521725094305,
          "z": "[7.300000000000001,7.4)"
         },
         {
          "p": 0.005792877080175951,
          "z": "[7.4,7.5)"
         },
         {
          "p": 0.005754384923696065,
          "z": "[7.5,7.6)"
         },
         {
          "p": 0.005716650031077575,
          "z": "[7.6000000000000005,7.7)"
         },
         {
          "p": 0.005679647893572448,
          "z": "[7.7,7.8)"
         },
         {
          "p": 0.005643355098774228,
          "z": "[7.800000000000001,7.9)"
         },
         {
          "p": 0.005607749268356943,
          "z": "[7.9,8.0)"
         },
         {
          "p": 0.005572809000084167,
          "z": "[8.0,8.1)"
         },
         {
          "p": 0.005538513813741597,
          "z": "[8.1,8.2)"
         },
         {
          "p": 0.005504844100688189,
          "z": "[8.200000000000001,8.3)"
         },
         {
          "p": 0.00547178107673818,
          "z": "[8.3,8.4)"
         },
         {
          "p": 0.005439306738120653,
          "z": "[8.4,8.5)"
         },
         {
          "p": 0.005407403820281598,
          "z": "[8.5,8.6)"
         },
         {
          "p": 0.005376055759311105,
          "z": "[8.6,8.7)"
         },
         {
          "p": 0.005345246655804381,
          "z": "[8.700000000000001,8.8)"
         },
         {
          "p": 0.005314961240974414,
          "z": "[8.8,8.9)"
         },
         {
          "p": 0.005285184844853408,
          "z": "[8.9,9.0)"
         },
         {
          "p": 0.005255903366431891,
          "z": "[9.0,9.1)"
         },
         {
          "p": 0.005227103245598164,
          "z": "[9.1,9.2)"
         },
         {
          "p": 0.005198771436751626,
          "z": "[9.200000000000001,9.3)"
         },
         {
          "p": 0.005170895383970309,
          "z": "[9.3,9.4)"
         },
         {
          "p": 0.005143462997630466,
          "z": "[9.4,9.5)"
         },
         {
          "p": 0.005116462632374863,
          "z": "[9.5,9.6)"
         },
         {
          "p": 0.005089883066339174,
          "z": "[9.600000000000001,9.700000000000001)"
         },
         {
          "p": 0.005063713481556098,
          "z": "[9.700000000000001,9.8)"
         },
         {
          "p": 0.005037943445453386,
          "z": "[9.8,9.9)"
         },
         {
          "p": 0.005012562893380035,
          "z": "[9.9,10.0)"
         }
        ]
       },
       "encoding": {
        "x": {
         "axis": null,
         "field": "z",
         "type": "ordinal"
        },
        "y": {
         "field": "p",
         "type": "quantitative"
        }
       },
       "height": 100,
       "mark": "bar",
       "width": 400
      },
      "image/png": "[encoded data removed]",
      "text/plain": [
       "<VegaLite 3 object>\n",
       "\n",
       "If you see this message, it means the renderer has not been properly enabled\n",
       "for the frontend that you are using. For more information, see\n",
       "https://altair-viz.github.io/user_guide/troubleshooting.html\n"
      ]
     },
     "execution_count": 100,
     "metadata": {},
     "output_type": "execute_result"
    }
   ],
   "source": [
    "zs = np.arange(0,10,0.1)\n",
    "ps = [Pz(z,z+0.1) for z in zs]\n",
    "zs_labels = [f'[{z},{z+0.1})' for z in zs]\n",
    "\n",
    "distribution = pd.DataFrame({'z':zs_labels, 'p':ps})\n",
    "alt.Chart(distribution, height=100, width=400).mark_bar().encode(alt.X('z:O',axis=None), y='p')"
   ]
  },
  {
   "cell_type": "markdown",
   "metadata": {},
   "source": [
    "So what's the difference? Think about what it is we're \"stacking up\" in the bars. In the histogram, we're sorting and stacking up a *finite number* $n$ of *observed values* $z_i$ according to what they are. In the density plot, we're sorting and stacking up *all* of the *outcomes* $\\omega$ in the silo according to the values they are destined to become, and we're measuring their relative volume, not absolute counts.\n",
    "\n",
    "In a nutshell, the histogram is what we can actually observe, given outputs from the factory. But the density descibes the inner workings of the factory itself, which we can never actually observe."
   ]
  },
  {
   "cell_type": "markdown",
   "metadata": {},
   "source": [
    "<div class=\"alert alert-block alert-info\">\n",
    "<b>Exercise:</b> \n",
    "\n",
    "What do you expect to happen to the shape of the histogram above as the number of observations is increased from $1000$ to larger and larger numbers? Can you provide an intuitive explanation for why this happens?\n",
    "    \n",
    "</div>"
   ]
  },
  {
   "cell_type": "markdown",
   "metadata": {},
   "source": [
    "### Common Distributions"
   ]
  },
  {
   "cell_type": "markdown",
   "metadata": {},
   "source": [
    "We've seen that, for all practical purposes, a random variable is determined by its probability distribution (mass or density function). In reality, the distribution of any particular measurement (e.g. blood pressure) is unknown- it depends on a complex web of causal factors. The true density function is almost certainly so complex it's not even something that we could write down. But, for the purposes of *modeling* that measurement, we *pretend* that the density is something we can write down. \n",
    "\n",
    "Over the centuries, people have come up with a lot of distributions that are useful as models across various scenarios. Here are a few of them:"
   ]
  },
  {
   "cell_type": "markdown",
   "metadata": {},
   "source": [
    "#### Bernoulli distribution"
   ]
  },
  {
   "cell_type": "markdown",
   "metadata": {},
   "source": [
    "Let's say we're interested in modeling the result of a coin flip. The actual value (heads/tails, which we code as 0/1) of the coin flip is determined by some insanely complicated physics, but we're going to pretend that the value comes out of a little factory called $\\mathbf Z$ that has the following probability mass function:\n",
    "\n",
    "\n",
    "$$\n",
    "P(\\mathbf Z=z) =\n",
    "\\begin{cases}\n",
    "1/2 & \\text{for }z=0 \\\\\n",
    "1/2 & \\text{for }z=1\n",
    "\\end{cases}\n",
    "$$"
   ]
  },
  {
   "cell_type": "markdown",
   "metadata": {},
   "source": [
    "If we want to model a biased coin that comes up heads $(p\\times100)$% of the time, we can use a mass function like:"
   ]
  },
  {
   "cell_type": "markdown",
   "metadata": {},
   "source": [
    "$$\n",
    "P(\\mathbf Z=z) =\n",
    "\\begin{cases}\n",
    "p & \\text{for }z=0 \\\\\n",
    "1-p & \\text{for }z=1\n",
    "\\end{cases}\n",
    "$$"
   ]
  },
  {
   "cell_type": "markdown",
   "metadata": {},
   "source": [
    "This is often written as $\\mathbf Z \\sim \\text{Bernoulli}(p)$ (read: \"$\\mathbf Z$ is Bernoulli-distributed\"). The number $p$ is said to be a **parameter** of the Bernoulli distribution. It would be more accurate to say that a random variable is distributed as a **member** of the Bernoulli **family** of distributions, since, technically, every different value of $p$ encodes a different distribution, or factory, for making data.\n",
    "\n",
    "Another way to think about it is that there's one data factory, but it has a control panel with a knob labeled \"$p$\". If $p$ is set to 0.7, we expect about 70% of the outputs to be 1. If $p$ is set to $0.1$, 10%, and so on. It's a matter of semantics whether or not you want to say that factory is representing two different factories, or merely one factory under two different operating conditions. Both perspectives are useful."
   ]
  },
  {
   "cell_type": "markdown",
   "metadata": {},
   "source": [
    "#### Normal Distribution\n",
    "\n",
    "Let's say we want to model the heights of everyone on Earth. We have an intuition that people are typically a bit shorter than two meters, and taller and shorter people are more and more rare the taller and shorter they get. We can pretend that height measurements come from a **normal** distribution (also called **Gaussian** distribution):"
   ]
  },
  {
   "cell_type": "markdown",
   "metadata": {},
   "source": [
    "$$\n",
    "\\phi(z) = \n",
    "\\frac{1}{\\sqrt{2\\pi\\sigma}} \n",
    "e^{-\\frac{(x-\\mu)^2}{2\\sigma^2}}\n",
    "$$"
   ]
  },
  {
   "cell_type": "markdown",
   "metadata": {},
   "source": [
    "Most often you'll see this written as $\\mathbf Z \\sim \\mathcal N(\\mu, \\sigma)$ (read: \"$\\mathbf Z$ is normally distributed\"). The numbers $\\mu$ and $\\sigma$ are the parameters (control knobs) of the normal distribution. \n",
    "\n",
    "![](https://upload.wikimedia.org/wikipedia/commons/7/74/Normal_Distribution_PDF.svg)"
   ]
  },
  {
   "cell_type": "markdown",
   "metadata": {},
   "source": [
    "As you can see in the picture, $\\mu$ controls where the \"bell curve\" is centered and $\\sigma$ controls how wide or narrow it is."
   ]
  },
  {
   "cell_type": "markdown",
   "metadata": {},
   "source": [
    "<div class=\"alert alert-block alert-warning\">\n",
    "<b>Note:</b> \n",
    "    \n",
    "Every distribution is defined by its mass or density function $\\phi$. The mass or density is often a complicated function, so instead of saying someting like \"$\\phi(z) = \\frac{1}{\\sqrt{2\\pi\\sigma}} e^{-\\frac{(x-\\mu)^2}{2\\sigma^2}}$\" every time we want a normally-distributed variable, we'll abbreviate that to \"$\\mathbf Z \\sim \\mathcal N (\\mu, \\sigma)$\". But they mean the same thing. \n",
    "    \n",
    "Every time you see something like $\\mathbf Z \\sim \\mathcal D(\\theta_1, \\theta_2, \\dots)$, just know there is some mass or density function that is associated with the name $\\mathcal D$ and which has parameters $\\theta_1, \\theta_2, \\dots$. You can always look it up if you need to know exactly what it is.\n",
    "    \n",
    "</div>"
   ]
  },
  {
   "cell_type": "markdown",
   "metadata": {},
   "source": [
    "#### Others "
   ]
  },
  {
   "cell_type": "markdown",
   "metadata": {},
   "source": [
    "There are [hundreds](https://upload.wikimedia.org/wikipedia/commons/7/74/Normal_Distribution_PDF.svg) of well-studied distributions available to choose from when modeling. The most important thing to know about a distribution is what values it can generate. This is sometimes called the **support** of the distribution, since if you were to make a density or mass plot, the support would be the region of the x-axis that has positive density or mass, so it's the region that appears to be \"supporting\" the curve or mass. \n",
    "\n",
    "For example, varaibles that are normally-, Cauchy-, or Laplace-distributed are supported on $-\\infty$ and $\\infty$. The $\\chi^2$ distribution has support on $[0,\\infty)$. The beta and standard uniform distributions have support on $[0,1]$. The Poisson distribution has support on the counting numbers 0, 1, 2..., and the K-categorical distribution has support on a finite number of integers 0, 1, 2, ... K. \n",
    "\n",
    "It's also totally possible to invent your own distribution by defining your own support set $S$ and mass/density function $\\phi$, as long as $\\phi(s) \\ge 0$ for all $s \\in S$ and $\\int_S \\phi(s) ds = 1$ or $\\sum_{s \\in S} \\phi(s) = 1$. These properties have to be satisfied to have a valid density or mass (see exercise in previous section).\n",
    "\n",
    "The point of this diversity is that it is possible to model different kinds of data. Apartment rents are always positive numbers, but theoretically unbounded above (a scary thought), so perhaps $\\chi^2$ is a good choice. The number of cars that pass through an intersection in a given day is always an integer, so Poisson is a reasonable choice for that. You don't have to remember any of these specific distributions or examples- just know there are many preconstructed pretend data factories out there to play with. Also know that the real data-generating process is pretty much *never* actually one of these distributions, although, sometimes, it might be well-approximated by one."
   ]
  },
  {
   "cell_type": "markdown",
   "metadata": {},
   "source": [
    "<div class=\"alert alert-block alert-info\">\n",
    "<b>Exercise:</b> \n",
    "\n",
    "Define your own density function that has support on $[0,1]$. Make it so that the probability of getting a bigger number is bigger than that of getting a smaller number. Be sure that your function integrates to $1$ and is nonnegative over its support, otherwise it's not a valid density.\n",
    "    \n",
    "</div>"
   ]
  },
  {
   "cell_type": "markdown",
   "metadata": {},
   "source": [
    "## Chapter summary"
   ]
  },
  {
   "cell_type": "markdown",
   "metadata": {},
   "source": [
    "Data in the real world is generated by complex processes that we can't ever hope to replicate. But if we want to uncover relationships between measurements, we at least need a framework for imagining what kinds of processes might be generating our data. Random variables and probability theory do that for us. \n",
    "\n",
    "Random variables are like factories that generate data. We don't observe them directly, but we see the data they output and we can imagine different kinds of random variables that make different kinds of data. We defined a notion of probability that posits that the probability of observing a particular realization is actually just the volume of material in the factory's silo (sample space) that is destined to become that realization. This is a pure abstraction, but it turns out to capture relationships between probabilities that we would intuitively expect to hold.\n",
    "\n",
    "It's easier to work with the probability distribution of a random variable than it is to constantly talk about the sample space and the mapping between that space and realizations. The probability distribution is a function that, when integrated over a region of the space of realizations, gives us the volume of outcomes in the sample space that map to realizations in that region. In other words: the probability that the random variable gives a realization in that region. Random variables can be continuous or discrete, but all have a distribution function that can be integrated or summed to yield probabilities.\n",
    "\n",
    "Random variables are most often talked about in terms of their porbability distributions. Defining a new variable is as easy as choosing a support and a mass or density function over that support. Some distributions are so commonly used that they have their own names and notations so that we don't have to write out their mass or density functions out over and over again to refer to them."
   ]
  }
 ],
 "metadata": {
  "kernelspec": {
   "display_name": "Python 3",
   "language": "python",
   "name": "python3"
  },
  "language_info": {
   "codemirror_mode": {
    "name": "ipython",
    "version": 3
   },
   "file_extension": ".py",
   "mimetype": "text/x-python",
   "name": "python",
   "nbconvert_exporter": "python",
   "pygments_lexer": "ipython3",
   "version": "3.7.3"
  }
 },
 "nbformat": 4,
 "nbformat_minor": 4
}
