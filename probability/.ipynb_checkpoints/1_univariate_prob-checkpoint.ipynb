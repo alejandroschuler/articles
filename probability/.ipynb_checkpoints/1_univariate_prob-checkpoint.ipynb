{
 "cells": [
  {
   "cell_type": "code",
   "execution_count": 36,
   "metadata": {},
   "outputs": [],
   "source": [
    "import numpy as np"
   ]
  },
  {
   "cell_type": "markdown",
   "metadata": {},
   "source": [
    "# Univariate Probability"
   ]
  },
  {
   "cell_type": "markdown",
   "metadata": {},
   "source": [
    "In the example above, we demonstrated some code that generates fake data $X$ and $Y$. On the other hand, real data comes from the real world, not from some python code. For every dataset, there is an immensely complex network of causal interactions that ultimately \"produces\" the data. \n",
    "\n",
    "For example, in our blood pressure example, a patient's pre-treatment vital signs are caused by their physiological state: their genetics, life history, what they ate for breakfast that morning, whether or not they just ran up a flight of stairs, and so on and so forth. Taking a drug influences the levels of certain chemicals in the blood, which are taken up at particular rates in certain organs by certain enzymes, the levels of which are impacted by the patient's genetics and prior physiological state, which was influenced by their life history, etc. Thus the impact of the drug on cellular processes is mediated by these factors. The cells respond by increasing or decreasing their production of some proteins or metabolites, which, in combination with the immediate condition of the patient when the measurement is taken, determines the post-treatment blood pressure. \n",
    "\n",
    "Or, let's say we're trying to determine whether or not there is a cat in a photograph. The cat being in front of the camera when the photo was taken ($y_i$) could be caused by a huge number of factors, and the values of the pixels in the photograph ($x_i$) are caused by the reflection of photons emitted from sources of light off the cat (and other objects) and the mechanics of the detection of light inside the camera.\n",
    "\n",
    "In a nutshell, the world is complicated. There is no way that mere mortals could ever write code accurate enough to perfectly simulate the exact processes that produce data about complex real-world phenomena.\n",
    "\n",
    "But, despite the complexity, you should start thinking about that complex web of causality as \"code\" that's being run in some cosmic simulation. Maybe you can imagine that there are \"data gods\" that write and are running this code. We'll never see their code, and we'll never be able to understand it, but somewhere, out there, that metaphysical code is running, and it's generating the observations that we see in our data."
   ]
  },
  {
   "cell_type": "markdown",
   "metadata": {},
   "source": [
    "You can think of that code as a little \"factory\" that pumps out observations of $x_i$ and $y_i$, one at a time. The factory is behind a curtain that we can't ever look behind, but we can see the pile of $x_i$s and $y_i$s that come out of it, which are our $X$ and $Y$."
   ]
  },
  {
   "cell_type": "markdown",
   "metadata": {},
   "source": [
    "![](factory.png)"
   ]
  },
  {
   "cell_type": "markdown",
   "metadata": {},
   "source": [
    "If we had that code, we'd be able to reverse engineer it to find the most likely value of $y_i$ given $x_i$ as accurately as would be possible with those predictors. In practice, however, we can only build a *model* of that code. Our model will never capture the complexities of reality, the same way that a model plane doesn't even begin to approach the complexity of a real aircraft. But, ideally, it will be similar enough in ways that are important for the task at hand: if we're using a model plane just to demonstrate what an aircraft might look like, we don't need the model to have functioning jet engines. And if all we need to do is estimate $y_i$ for a new $x_i$, we don't exactly need to understand the complex web of causality linking the two together."
   ]
  },
  {
   "cell_type": "markdown",
   "metadata": {},
   "source": [
    "We do, however, need a way to talk about the relationship that $x_i$ and $y_i$ might have. And to do that, we need a way to talk abstractly about the \"code\" or \"data factory\" that's behind the curtain, the same way we developed abstract terms to describe our data. Thankfully, the language of probability works perfectly for that."
   ]
  },
  {
   "cell_type": "markdown",
   "metadata": {},
   "source": [
    "## Random variables are factories that generate data"
   ]
  },
  {
   "cell_type": "markdown",
   "metadata": {},
   "source": [
    "The data factories we're interested in are the kind that output $x_i$s and $y_i$s, but to understand how these factories work it's better to consider a simpler factory that produces one number at a time, instead of one vector $x_i$ and one number $y_i$. \n",
    "\n",
    "We'll call our factory $\\mathbf Z$. This factory pushes out one value $z_i$ at a time. Furthermore, let's say that half the time you get a $1$ and half the time you get a $0$; those are the only values that the $\\mathbf Z$ factory can produce. And the factory is built to reset itself between producing each value, so whatever $z_i$ is has no impact on $z_{i+1}$."
   ]
  },
  {
   "cell_type": "markdown",
   "metadata": {},
   "source": [
    "In the language of probability theory, $z_i$ are **realizations** from $\\mathbf Z$, which has a **distribution**:\n",
    "\n",
    "$$\n",
    "\\begin{array}{rcl}\n",
    "P(\\mathbf Z = 0) &=& 1/2 \\\\ \n",
    "P(\\mathbf Z = 1) &=& 1/2\n",
    "\\end{array}\n",
    "\\quad \\quad \\text{or} \\quad \\quad\n",
    "P(\\mathbf Z=z) =\n",
    "\\begin{cases}\n",
    "1/2 & \\text{for }z=0 \\\\\n",
    "1/2 & \\text{for }z=1\n",
    "\\end{cases}\n",
    "$$"
   ]
  },
  {
   "cell_type": "markdown",
   "metadata": {},
   "source": [
    "What we've been loosely calling a \"factory\" is a **random variable** in the language of probability theory. But that's just a name. You can keep thinking of them as factories, or code, that generate data."
   ]
  },
  {
   "cell_type": "markdown",
   "metadata": {},
   "source": [
    "<div class=\"alert alert-block alert-warning\">\n",
    "<b>Note:</b> \n",
    "Random variables are often written in uppercase, (e.g. Z) and their realizations in lowercase (z). We're going to be using uppercase for matrices (and sets), so I'm going to use boldface in conjunction with uppercase ($\\mathbf Z$) to denote random variables.\n",
    "</div>"
   ]
  },
  {
   "cell_type": "markdown",
   "metadata": {},
   "source": [
    "Ok, so if the random variable is a factory, and the realizations of the random variable are the output of that factory (the data we get to see), then how do we read a statement like $P(\\mathbf Z = 0) = 1/2$? Well, that just means that the value $z$ that $\\mathbf Z$ produces is $0$ half of the time. But what exactly do we mean by \"half the time\"? While we usually don't have to think deeper than this, you'll see later that it is sometimes necessary to have a more rigorous definition of probability."
   ]
  },
  {
   "cell_type": "markdown",
   "metadata": {},
   "source": [
    "<div class=\"alert alert-block alert-info\">\n",
    "<b>Exercise:</b> \n",
    "\n",
    "Remember that the entire purpose of talking about these factories is so that we can imagine what's behind the curtain, producing the data that we observe. Think of a real-world scenario where we could pretend that the data we observe was generated by $\\mathbf Z$. In other words, what's something we could measure in the real world that we might model using $\\bf Z$?\n",
    "    \n",
    "</div>"
   ]
  },
  {
   "cell_type": "markdown",
   "metadata": {},
   "source": [
    "Let's build that definition. We'll start with some raw materials. All factories have raw materials that go into them, which end up being turned into the finished product. In a similar way, random variables have inputs which get mapped to realized values. We'll call them \"data ore\": the unrefined precursor that gets transformed by our factory (random variable $\\mathbf Z$) into the data product $z$. The data ore exists in units (data ore nuggets). The factory takes one nugget at a time and transforms it into a realization.\n",
    "\n",
    "The nuggets are kept in an big silo called $\\Omega$ before they go to $\\mathbf Z$. This silo is filled to the brim with *all* of the possible nuggets that could be fed into the factory, one of each of them. It's also a magic silo, so when you take out a nugget, another one exactly like it is mined out of the depths of the cosmos to take its place in the silo."
   ]
  },
  {
   "cell_type": "markdown",
   "metadata": {},
   "source": [
    "![](factory_rv.png)"
   ]
  },
  {
   "cell_type": "markdown",
   "metadata": {},
   "source": [
    "Each nugget is gets transformed into a value of $z$, but the process isn't random. For instance, if a nugget named \"Karl\" turned into a 1 when fed through $\\mathbf Z$, then we would *always* get a 1 when Karl goes into $\\mathbf Z$. But we know that sometimes $\\mathbf Z$ produces 0s, so there must be other nuggets whose destiny is to become 0s, just like Karl's destiny is to be a 1. The \"randomness\" in $\\mathbf Z$ isn't caused by what's in the factory, it's caused by randomly picking a nugget to throw into it."
   ]
  },
  {
   "cell_type": "markdown",
   "metadata": {},
   "source": [
    "We can even code up our little example, imagining that we have 10 nuggets, boringly named \"0\", \"1\", \"2\"... \"9\":"
   ]
  },
  {
   "cell_type": "code",
   "execution_count": 37,
   "metadata": {},
   "outputs": [],
   "source": [
    "def Z(ω): # factory (random variable)\n",
    "    if ω in set([1,4,5,8,9]): # these are the outcomes (nuggets) that map to the value 1 \n",
    "        return 1\n",
    "    if ω in set([0,2,3,6,7]): # these are the outcomes (nuggets) that map to the value 0 \n",
    "        return 0\n",
    "Z.Ω = set([0,1,2,3,4,5,6,7,8,9]) # sample space (silo) of outcomes (ore nuggets) attached to Z\n",
    "    \n",
    "import random\n",
    "def realize(rand_var): # run the assembly line!\n",
    "    ω = random.sample(rand_var.Ω, 1)[0] # grab a single nugget out of the silo at random\n",
    "    return rand_var(ω) # push it through the factory"
   ]
  },
  {
   "cell_type": "markdown",
   "metadata": {},
   "source": [
    "<div class=\"alert alert-block alert-warning\">\n",
    "<b>Python Tip:</b> \n",
    "   \n",
    "`random.sample(x,n)` grabs `n` values at random out of the set `x` and returns them as a list.\n",
    "</div>"
   ]
  },
  {
   "cell_type": "markdown",
   "metadata": {},
   "source": [
    "Here are 20 observations $z=[z_1, z_2, \\dots z_{20}]$, fresh off the assembly line of the $\\mathbf Z$ factory:"
   ]
  },
  {
   "cell_type": "code",
   "execution_count": 38,
   "metadata": {},
   "outputs": [
    {
     "data": {
      "text/plain": [
       "[1, 0, 1, 0, 0, 0, 1, 0, 1, 0, 0, 1, 0, 0, 1, 1, 0, 0, 1, 0]"
      ]
     },
     "execution_count": 38,
     "metadata": {},
     "output_type": "execute_result"
    }
   ],
   "source": [
    "z = [realize(Z) for i in range(20)] \n",
    "z"
   ]
  },
  {
   "cell_type": "markdown",
   "metadata": {},
   "source": [
    "Now we're ready to define probability: the probability of an realization (a particular value $z$) is just the proportion of the silo that's taken up by nuggets that are destined to become that value $z$ when fed through $\\mathbf Z$. That's it. We denote that proportion with the notation $P(\\mathbf Z = z)$. In our example above, saying $P(\\mathbf Z = 1) = 1/2$ means that half of all the possible nuggets that could go into $\\mathbf Z$ would produce a 1, assuming each nugget takes up the same amount of space."
   ]
  },
  {
   "cell_type": "markdown",
   "metadata": {},
   "source": [
    "That's a definition we can code up:"
   ]
  },
  {
   "cell_type": "code",
   "execution_count": 39,
   "metadata": {},
   "outputs": [],
   "source": [
    "def P(rand_var, realization):\n",
    "    A = set(ω for ω in rand_var.Ω if rand_var(ω) in realization) # what are all the nuggets that map to the value(s) in question?\n",
    "    return len(A)/len(rand_var.Ω) # what is the \"volume\" of those nuggets relative to the volume of the silo Ω? (assuming each takes up the same amount of space)"
   ]
  },
  {
   "cell_type": "code",
   "execution_count": 40,
   "metadata": {},
   "outputs": [
    {
     "data": {
      "text/plain": [
       "(0.5, 0.5)"
      ]
     },
     "execution_count": 40,
     "metadata": {},
     "output_type": "execute_result"
    }
   ],
   "source": [
    "P(Z,[0]), P(Z,[1]) # P(z=0), P(z=1)"
   ]
  },
  {
   "cell_type": "markdown",
   "metadata": {},
   "source": [
    "So to build a factory that makes 0s and 1s in even proportions, all I had to do was evenly split up the number of nuggets that are destined to produce each value. It also doesn't matter what I call the nuggets. For example, here is equally good code to implement $\\mathbf Z$:"
   ]
  },
  {
   "cell_type": "code",
   "execution_count": 41,
   "metadata": {},
   "outputs": [
    {
     "data": {
      "text/plain": [
       "[0, 1, 0, 0, 0, 1, 1, 0, 0, 1, 1, 1, 0, 1, 0, 1, 0, 0, 0, 1]"
      ]
     },
     "execution_count": 41,
     "metadata": {},
     "output_type": "execute_result"
    }
   ],
   "source": [
    "def Z(ω): # factory (random variable)\n",
    "    if ω in set([-1234]): # these are the outcomes (nuggets) that map to the value 1 \n",
    "        return 1\n",
    "    if ω in set([980123]): # these are the outcomes (nuggets) that map to the value 0 \n",
    "        return 0\n",
    "Z.Ω = set([980123, -1234]) # sample space (silo) of outcomes (ore nuggets) attached to Z\n",
    "\n",
    "[realize(Z) for i in range(20)] "
   ]
  },
  {
   "cell_type": "markdown",
   "metadata": {},
   "source": [
    "<div class=\"alert alert-block alert-info\">\n",
    "<b>Exercise:</b> \n",
    "\n",
    "Write code for a new random variable $\\mathbf W$ that behaves like this:\n",
    "    \n",
    "$$\n",
    "P(\\mathbf W=w) =\n",
    "\\begin{cases}\n",
    "0.1 \\dots  & \\text{for }w=-1 \\\\\n",
    "0.4 \\dots & \\text{for }w=0 \\\\\n",
    "0.2 & \\text{for }w=1 \\\\\n",
    "0.3 & \\text{for }w=2\n",
    "\\end{cases}\n",
    "$$\n",
    "    \n",
    "You'll need to make your own nugget silo `Ω` and define the function `W(ω)`. Test it out using the `realize()` and `P()` functions we wrote. Use `P()` to calculate $P(\\mathbf W =0)$.\n",
    "    \n",
    "</div>"
   ]
  },
  {
   "cell_type": "markdown",
   "metadata": {},
   "source": [
    "### A mathematical description of random variables"
   ]
  },
  {
   "cell_type": "markdown",
   "metadata": {},
   "source": [
    "![](https://encrypted-tbn0.gstatic.com/images?q=tbn:ANd9GcRTCXQ098kIFldwWw8VEPSR_q9Tbk1BFjuhFH8V8NVPskxrtVj7&s)"
   ]
  },
  {
   "cell_type": "markdown",
   "metadata": {},
   "source": [
    "If you're looking at this and thinking that I can't possibly be serious, that the foundations of statistics and machine learning can't possibly be built up from imagining data factories and magical silos... well, you're wrong. Sure, I've concocted a somewhat elaborate metaphor, but it's a metaphor that accurately describes how these otherwise very abstract concepts relate to each other. If you can look at something like $P(\\mathbf Z = z) := \\mathbb P(\\{\\omega \\in \\Omega \\vert \\mathbf Z(w)=z\\})$ and immediately come away with an understanding of what that means, all the more power to you. But I don't. At least not without first building up an intuition for each of the components."
   ]
  },
  {
   "cell_type": "markdown",
   "metadata": {},
   "source": [
    "In probability theory, the silo $\\Omega$ is called a **sample space** and the data ore nuggets $\\omega$ are called **outcomes** (not to be confused with what we call the variable we want to predict in machine learning). A random variable $\\mathbf Z$ is defined as a function that maps an element $\\omega$ of $\\Omega$ to a realization $z$. The probability of a realization $z$ is the **measure** (volume, or proportion of total volume) of the set of outcomes (data ore nuggets) that map to $z$ (are destined to be transformed to $z$ by $\\mathbf Z$). "
   ]
  },
  {
   "cell_type": "markdown",
   "metadata": {},
   "source": [
    "![](prob_preimage.png)"
   ]
  },
  {
   "cell_type": "markdown",
   "metadata": {},
   "source": [
    "When I talk about these things outside of the context of explaining them, I do call them by their real names (e.g. random variable, sample space, etc.) because that's what people have called them for nearly a century. But when I close my eyes and *reason* about these concepts, I'm thinking about something tangible, like a factory. As we go on I'm going to introduce more mathematical notation as we need it, and I'm going to wean off the factory metaphor, but I encourage you to keep building your intuition about these concepts instead of thinking about them as abstract symbols on a page. The symbols are just a convenient shorthand for the ideas. The only reason to know the standard names and symbols is to be able to read and understand what others have written. If you find yourself skimming over an equation- stop. Read it slowly and think about what each part means.\n",
    "\n",
    "So now that we're here, let's demystify the notation in that equation I dropped up above! Here it is again:\n",
    "\n",
    "$$P(\\mathbf Z = z) := \\mathbb P(\\{\\omega \\in \\Omega \\vert \\mathbf Z(w)=z\\})$$\n",
    "\n",
    "To start, the $:=$ means \"the thing on the left is defined as the thing on the right\". So we're saying that when we write \"$P(\\mathbf Z = z)$\", we really mean whatever \"$\\mathbb P(\\{\\omega \\in \\Omega \\vert \\mathbf Z(\\omega)=z\\})$\" is. Ok, next up is [set-builder notation](https://www.mathsisfun.com/sets/set-builder-notation.html): you can read $\\{a\\in A | f(a) = 1\\}$ as \"the collection of all the elements $a$ in the set $A$ *such that* $f(a)=1$\". So $\\{\\omega \\in \\Omega \\vert \\mathbf Z(\\omega)=z\\}$ is the set of outcomes $\\omega$ that become $z$ when passed through the random variable $\\mathbf Z$. There may be many such outcomes, or just one, or none, so the set can be big, small, or nonexistent. We will write the name of that set a little more compactly using the notation $\\mathbf Z^{-1}(z) = \\{\\omega \\in \\Omega \\vert \\mathbf Z(w)=z\\}$ since usually $f^{-1}(y)$ denotes the element $x$ such that $f(x)=y$. We call this the **preimage** of $z$ under $\\mathbf Z$."
   ]
  },
  {
   "cell_type": "markdown",
   "metadata": {},
   "source": [
    "<div class=\"alert alert-block alert-warning\">\n",
    "<b>Note:</b> \n",
    "   \n",
    "Preimages aren't just for random variables- you can define preimages for any function. If the function is $y=f(x)$, the preimage of a set $A$ (denoted $f^{-1}(A)$) is a set of all of the values $x$ that become one of the $y$ values in $A$ when shoved through $f$. The set $A$ is called the image of $f^{-1}(A)$ under $f$.\n",
    "    \n",
    "For example, if $f(x) = x^2$ and $A$ is the set of numbers between 0 and 4, then $f^{-1}(A)$ is the set of numbers between -2 and 2, since every number between -2 and 2, when squared, is between 0 and 4, and these are the only numbers for which that is the case. Another example: if $f(x) = \\cos(x)$ and $A=\\{1\\}$, then $f^{-1}(A) = \\{\\dots, -4\\pi, -2\\pi, 0, 2\\pi, 4\\pi, 6\\pi, \\dots\\}$. Plot or draw a picture of $\\cos(x)$ and mark the points where $\\cos(x) = 1$ to see why.\n",
    "    \n",
    "</div>"
   ]
  },
  {
   "cell_type": "markdown",
   "metadata": {},
   "source": [
    "Finally, we have $\\mathbb P()$, which is the [**probability measure**](https://en.wikipedia.org/wiki/Probability_measure). Think of it as a function that measures the proportion of all of the outcomes in $\\Omega$ that are contained in the subset $\\mathbf Z^{-1}(z)$. This is basically the volume of space that the nuggets in $\\mathbf Z^{-1}(z)$ take up in the silo $\\Omega$. By convention, we say that $\\Omega$ has volume 1 so that the volume of $\\mathbf Z^{-1}(z)$ is also the proportion of volume that $\\mathbf Z^{-1}(z)$ takes up in $\\Omega$. In the figure above, that's represented by the area of the shaded gray region."
   ]
  },
  {
   "cell_type": "markdown",
   "metadata": {},
   "source": [
    "\n",
    "If you put all of that together, you'll see that it's exactly the same as the definition we put together using our factory analogy. "
   ]
  },
  {
   "cell_type": "markdown",
   "metadata": {},
   "source": [
    "We can also talk about the probability of sets of realizations instead of just single realization $z$. For instance, what's the probability that $z$ is 0 *or* 1? We write that like $P(\\mathbf Z \\in A)$, where $A$ is the set of possible realizations, like $\\{0,1\\}$. That's more general than the probability of a single realization $z$: $P(\\mathbf Z = z)$. The definition is the same though: $P(\\mathbf Z \\in A) := \\mathbb P(\\mathbf Z^{-1}(A))$. All we need to do is count up the volume of all the nugets that produce any of the values that are in $A$, instead of just the nuggets that produce $z$."
   ]
  },
  {
   "cell_type": "markdown",
   "metadata": {},
   "source": [
    "<div class=\"alert alert-block alert-warning\">\n",
    "<b>REMEMBER:</b> \n",
    "\n",
    "If your eyes glaze over every time you see mathematical notation, don't worry. Remember, that's normal. Just slow down and read it again. Try and think about what it <i>means</i>.\n",
    "</div>"
   ]
  },
  {
   "cell_type": "markdown",
   "metadata": {},
   "source": [
    "If you look at the code we wrote before, you'll notice it can already calculate probabilities for sets of realizations:"
   ]
  },
  {
   "cell_type": "code",
   "execution_count": 42,
   "metadata": {},
   "outputs": [],
   "source": [
    "def P(rand_var, realization):\n",
    "    A = set(ω for ω in rand_var.Ω if rand_var(ω) in realization) # what are all the nuggets that map to the value(s) in question?\n",
    "    return len(A)/len(rand_var.Ω) # what is the \"volume\" of those nuggets relative to the volume of the silo Ω? (assuming each takes up the same amount of space)"
   ]
  },
  {
   "cell_type": "code",
   "execution_count": 43,
   "metadata": {},
   "outputs": [
    {
     "data": {
      "text/plain": [
       "0.5"
      ]
     },
     "execution_count": 43,
     "metadata": {},
     "output_type": "execute_result"
    }
   ],
   "source": [
    "P(Z, [0])"
   ]
  },
  {
   "cell_type": "code",
   "execution_count": 44,
   "metadata": {},
   "outputs": [
    {
     "data": {
      "text/plain": [
       "1.0"
      ]
     },
     "execution_count": 44,
     "metadata": {},
     "output_type": "execute_result"
    }
   ],
   "source": [
    "P(Z, [0,1])"
   ]
  },
  {
   "cell_type": "markdown",
   "metadata": {},
   "source": [
    "### Properties of probability"
   ]
  },
  {
   "cell_type": "markdown",
   "metadata": {},
   "source": [
    "Ok- I promised that it would be useful to define probability in a more rigorous way than \"$z$ happens $x$% of the time\". Now we're going to see why. \n",
    "\n",
    "To start with, let's \"derive\" a relatively simple fact: for any subset of possible realizations $A$, \n",
    "\n",
    "$$P(\\mathbf Z \\in A) \\in [0,1]$$\n",
    "\n",
    "This is a compact way of writing that for any subset of realizations, the volume of the subset of outcomes $\\mathbf Z^{-1}(A)$ that map to those realzations is a number between 0 and 1. Why? Well, if the volume of our silo $\\Omega$ is 1, the volume of any subset of that has to be less than or equal to 1. And there is no subset that can occupy negative space, so the volume has to be greater than or equal to 0."
   ]
  },
  {
   "cell_type": "markdown",
   "metadata": {},
   "source": [
    "Here's a trickier one: if two sets of realizations $A$ and $B$ have no realizations in common, then the probability of a realization from either of them is the sum of the probabilities of a realization from each of them. Mathematically:\n",
    "\n",
    "$$A \\cap B = 0 \\rightarrow P(\\mathbf Z \\in A \\cup B) = P(\\mathbf Z \\in A) + P(\\mathbf Z \\in B)$$\n",
    "\n",
    "$A \\cap B$ is read as \"the intersection of the sets $A$ and $B$\", which is the set of elements that are in both sets. It's the middle part of a Venn diagram. $A \\cup B$ is read  as \"the union of $A$ and $B$\", which is all of the elements in either set- that's the entirety of the Venn diagram. \n",
    "\n",
    "That also seems cryptic until you think about it in terms of quantities of ore nuggets that produce certain values when fed through the factory. If you take all the ore nuggets that end up becoming any of the values in $A$ (call that set of nuggets $\\mathbf Z^{-1}(A)$), and all the nuggets that end up becoming values in $B$ (call that $\\mathbf Z^{-1}(B)$), then the total volume that end up becoming values in either $A$ or $B$ is the sum of the volumes that become $A$ and those that become $B$. This is true as long as there are no nuggets that become both a realization in $A$ and a realization in $B$ because we would double-count these. But we've also ensured that these do not exist since each nugget is destined to become only a single value, and we made sure that there is no overlap between $A$ and $B$.\n",
    "\n",
    "If there is overlap, the proposition doesn't hold. For instance, if $A= \\{0,1\\}$ and $B = \\{0\\}$, every element of $B$ is also an element of $A$, so the volume of $Z^{-1}(A \\cup B)$ is the volume of $Z^{-1}(A)$, which is not the volume of $Z^{-1}(A)$ plus the volume of $Z^{-1}(B)$."
   ]
  },
  {
   "cell_type": "markdown",
   "metadata": {},
   "source": [
    "We can even use our code from before to demonstrate this:"
   ]
  },
  {
   "cell_type": "code",
   "execution_count": 45,
   "metadata": {},
   "outputs": [
    {
     "data": {
      "text/plain": [
       "True"
      ]
     },
     "execution_count": 45,
     "metadata": {},
     "output_type": "execute_result"
    }
   ],
   "source": [
    "A = set([0])\n",
    "B = set([1])\n",
    "P(Z,A) + P(Z,B) == P(Z,A|B) # in python, set union ∪ is written | because an element is in A∪B if it is in A OR B (A|B)"
   ]
  },
  {
   "cell_type": "code",
   "execution_count": 46,
   "metadata": {},
   "outputs": [
    {
     "data": {
      "text/plain": [
       "False"
      ]
     },
     "execution_count": 46,
     "metadata": {},
     "output_type": "execute_result"
    }
   ],
   "source": [
    "A = set([0,1])\n",
    "B = set([0])\n",
    "P(Z,A) + P(Z,B) == P(Z,A|B)"
   ]
  },
  {
   "cell_type": "markdown",
   "metadata": {},
   "source": [
    "<div class=\"alert alert-block alert-info\">\n",
    "<b>Exercise:</b> \n",
    "\n",
    "Draw a picture based on the figure above that helps explain why $A \\cap B = 0 \\rightarrow P(\\mathbf Z \\in A \\cup B) = P(\\mathbf Z \\in A) + P(\\mathbf Z \\in B)$\n",
    "\n",
    "</div>"
   ]
  },
  {
   "cell_type": "markdown",
   "metadata": {},
   "source": [
    "<div class=\"alert alert-block alert-info\">\n",
    "<b>Exercise:</b> \n",
    "\n",
    "Let's say the sets $A$ and $B$ have some overlap. Can you come up with a formula to calculate $P(\\mathbf Z \\in A \\cup B)$ given $P(\\mathbf Z \\in A)$, $P(\\mathbf Z \\in  B)$, and $P(\\mathbf Z \\in A \\cap B)$?\n",
    "\n",
    "</div>"
   ]
  },
  {
   "cell_type": "markdown",
   "metadata": {},
   "source": [
    "The upshot of this is that the probability of a set of outcomes is the same as the sum of their probabilities:"
   ]
  },
  {
   "cell_type": "markdown",
   "metadata": {},
   "source": [
    "$$\n",
    "P(\\mathbf Z \\in A) \n",
    "=\n",
    "\\mathbb P (\\mathbf Z^{-1}(A))\n",
    "=\n",
    "\\sum_{\\omega \\in Z^{-1}(A)} \\mathbb P(\\omega)\n",
    "= \n",
    "\\sum_{Z^{-1}(A)} \\mathbb P(\\omega)\n",
    "$$"
   ]
  },
  {
   "cell_type": "markdown",
   "metadata": {},
   "source": [
    "<div class=\"alert alert-block alert-info\">\n",
    "<b>Exercise:</b> \n",
    "\n",
    "In all our code so far we've been using a finite sample set with $n$ outcomes and we've chosen to use $\\mathbb P(B)= |B|/n$ where $|B|$ denotes the number of elements in $B$. That's called the <b>counting measure</b> It helps your understanding, however, to know that it isn't the only probability measure we could use. We could instead say that some outcomes take up twice as much space in the silo, or that they all have totally different volumes. As long as whatever $\\mathbb P$ we come up with satisfies $\\mathbb P(\\Omega)=1$ and $\\mathbb P(\\bigcup B_i)= \\sum \\mathbb P(B_i)$ for non-overlapping sets $B_i$ (of outcomes), it's a legitimate choice.\n",
    "    \n",
    "Let's go back to this version of $\\mathbf Z$:\n",
    "    \n",
    "```\n",
    "def Z(ω): # factory (random variable)\n",
    "    if ω in set([1,4,5,8,9]): # these are the outcomes (nuggets) that map to the value 1 \n",
    "        return 1\n",
    "    if ω in set([0,2,3,6,7]): # these are the outcomes (nuggets) that map to the value 0 \n",
    "        return 0\n",
    "Z.Ω = set([0,1,2,3,4,5,6,7,8,9]) # sample space (silo) of outcomes (ore nuggets) attached to Z\n",
    "```\n",
    "    \n",
    "\n",
    "Change the code for `P(rand_var, realization)` so that $\\mathbb P(\\omega) = 0.25$ if $\\omega \\in \\{0,1,2,3\\}$ and 0 otherwise. The idea is that now nuggets 0, 1, 2, and 3 each take up a quarter of the space in the silo, while the other nuggets take up none. What is $P(Z=1)$ now?\n",
    "\n",
    "</div>"
   ]
  },
  {
   "cell_type": "markdown",
   "metadata": {},
   "source": [
    "### Continuous sample spaces"
   ]
  },
  {
   "cell_type": "markdown",
   "metadata": {},
   "source": [
    "So far, all the random variables we've talked about have produced outputs from a finite, discrete set (e.g. $\\{0,1\\}$ or $\\{-1,0,1,2\\}$). If we're imagining a factory that might produce the data we observe when flipping a coin, a binary output is all we need. Similarly, if we want to imagine the factory that assigns an \"apple\", \"orange\", or \"banana\" label to a photograph of a fruit, it just needs to output a discrete set of three values. But if we want to imagine the kind of factory that could produce the prices of different apartments in New York, we need something that can output a continuous range of values."
   ]
  },
  {
   "cell_type": "markdown",
   "metadata": {},
   "source": [
    "Let's think up a random variable (call it $\\bf Z$ again) that can take any value between 0 and 10. How many numbers are there between 0 and 10? Well, an infinite number: for any two numbers in that interval, you can find a number that's right between them. Since one nugget from the silo always prodcues the same realization when pushed through the factory, there need to be an infinite number of nuggets in the silo to be able to produce an infinite number of realizations. That means that our old code, where we manually enumerated all of the elements in $\\Omega$, is not going to work anymore. What we can do instead is imagine that $\\Omega$ is itself an interval, like all the numbers between 0 and 1. So, to pick a random nugget to throw into the factory, we just pick a random number between 0 and 1. Here's an example:"
   ]
  },
  {
   "cell_type": "code",
   "execution_count": 47,
   "metadata": {},
   "outputs": [],
   "source": [
    "def Z(ω): \n",
    "    return 10*(ω**2) # when ω goes into the factory, the factory makes ω^2\n",
    "Z.Ω = random.random # returns a single number between 0 and 1 when called\n",
    "\n",
    "def realize_cont(rand_var): # run the assembly line!\n",
    "    ω = Z.Ω() # returns a single number between 0 and 1\n",
    "    return rand_var(ω) # push it through the factory"
   ]
  },
  {
   "cell_type": "code",
   "execution_count": 48,
   "metadata": {},
   "outputs": [
    {
     "data": {
      "text/plain": [
       "[0.00043633473280647156,\n",
       " 4.7598808426832635,\n",
       " 0.4179755779099658,\n",
       " 9.001908033139621,\n",
       " 3.371737291738859]"
      ]
     },
     "execution_count": 48,
     "metadata": {},
     "output_type": "execute_result"
    }
   ],
   "source": [
    "[realize_cont(Z) for i in range(5)]"
   ]
  },
  {
   "cell_type": "markdown",
   "metadata": {},
   "source": [
    "So $\\mathbf Z$ is defined by $\\mathbf Z(\\omega) = 10\\omega^2$ with $\\omega \\in [0,1]$. Great. But now what does $P(\\mathbf Z = z)$ mean? We just apply the same old definition of probability: it's the proportion of nuggets in the silo that are destined to become the value $z$. In notation: $\\mathbb P(\\mathbf Z^{-1}(z))$. Same as before. "
   ]
  },
  {
   "cell_type": "markdown",
   "metadata": {},
   "source": [
    "<div class=\"alert alert-block alert-warning\">\n",
    "<b>Note:</b> \n",
    "\n",
    "Notation like $[a,b]$ is often used to concisely write intervals- this just means \"all the numbers between $a$ and $b$, including those endpoints\". We use parentheses like $(a,b)$ to indicate that the endpoints should not be included. $(a,b]$ and $[a,b)$ have one of the two endpoints included, with the bracket indicating the endpoint that's included and the parenthesis indicating which isn't.\n",
    "</div>"
   ]
  },
  {
   "cell_type": "markdown",
   "metadata": {},
   "source": [
    "The issue is that now we need a probability measure that works with continuous sets. For example, let's say we're looking for $P(\\mathbf Z = 2.5)$. As $\\mathbf Z(\\omega) = 10\\omega^2$ is defined in the code above, the only value of $\\omega$ that makes $z=2.5$ is $\\omega = \\sqrt{2.5/10} = 0.5$. Any other value of $\\omega$ would produce a different value of $z$. So $\\mathbf Z^{-1}(z) = 0.5$. What \"volume\" does the single number $0.5$ take up in the interval $[0,1]$? In other words, how are we going to define a probability measure to use here?"
   ]
  },
  {
   "cell_type": "markdown",
   "metadata": {},
   "source": [
    "The most commonly used measure in this case is based on the \"length\" of the set relative to the length of $\\Omega$. In our case, the length of $\\Omega$ is 1, so the probability measure of any interval $(a,b)$ or $[a,b]$ is $b-a$. For sets more complicated than an interval, we have to find the smallest collection of intervals, in terms of total length, that contains the set in question. We say the length of that set is the total length of the collection of intervals that covers it. Using length as a notion of measure makes good sense because if two sets don't overlap, then the length of their union is the sum of their lengths. This measure is called the **Lebesgue measure**, but I only mention the name so you can recognize it elsewhere."
   ]
  },
  {
   "cell_type": "markdown",
   "metadata": {},
   "source": [
    "<div class=\"alert alert-block alert-warning\">\n",
    "<b>Note:</b> \n",
    "\n",
    "When you get down to the nitty gritty math, it turns out there actually are <a href=https://en.wikipedia.org/wiki/Vitali_set>some really messed up sets</a> where this notion of \"length\" breaks down, in that the \"length\" of the union of two disjoint sets might not be the sum of their lengths. These are not sets you would ever come across in any real-world context. The technical solution is to only allow random variables where the preimage of any interval is not one of these messed up sets. This really isn't something you should think or worry about. This note is only here to satisfy nosy probabilists or measure theorists who were offended by the above paragraph.\n",
    "\n",
    "</div>"
   ]
  },
  {
   "cell_type": "markdown",
   "metadata": {},
   "source": [
    "Ok, back to our problem: what's $\\mathbb P(0.5)$? Well, $\\{0.5\\} = [0.5, 0.5]$, so its length is $0.5-0.5=0$! In fact, for any single element $\\omega$, $\\mathbb P(\\omega)= 0$ for the same reason. That's a problem if we want to use discrete sums to calculate probabilities over sets:"
   ]
  },
  {
   "cell_type": "markdown",
   "metadata": {},
   "source": [
    "$$\n",
    "P(\\mathbf Z \\in A) \n",
    "\\overset{?}{=}\n",
    "\\sum_{Z^{-1}(A)} \\mathbb P(\\omega)\n",
    "= \n",
    "\\sum_{Z^{-1}(A)} 0\n",
    "=\n",
    "0\n",
    "$$"
   ]
  },
  {
   "cell_type": "markdown",
   "metadata": {},
   "source": [
    "But if $Z^{-1}(A)$ is an interval with finite length, then the probability has to be the length of that interval, not 0!\n",
    "\n",
    "The reason this doesn't make any sense is that we're trying to use a discrete sum to add up a continuous infinity of 0s. Basically, we're trying to break down $\\sum_{Z^{-1}(A)}$ into each of its component $\\omega$s and measuring each of those. Instead of doing that, though, we can *integrate* over infinitesimal units of \"$d \\omega$\":"
   ]
  },
  {
   "cell_type": "markdown",
   "metadata": {},
   "source": [
    "$$\n",
    "P(\\mathbf Z \\in A) \n",
    "=\n",
    "\\int_{Z^{-1}(A)} \\mathbb P(d\\omega)\n",
    "$$"
   ]
  },
  {
   "cell_type": "markdown",
   "metadata": {},
   "source": [
    "This thing is called a **Lebesgue integral**. What we're doing here is adding up all of the infinitesimal lengths $\\mathbb P(d\\omega)$ for all $\\omega$s in the set $\\mathbf Z^{-1}(A)$. We'll write this as $\\int d \\mathbb P$ for short. It has all the same rules as a standard integral (just write $d \\mathbb P$ instead of $dx$), so the integral of a sum is the sum of integrals, etc. And it always agrees with the integrals you're used to from calculus:\n",
    "\n",
    "$$\n",
    "\\int_{[a,b]} f(\\omega) d\\mathbb P = \\int_a^b f(x) dx\n",
    "$$\n",
    "\n",
    "The neat thing is that it actually works no matter what $\\mathbb P$ is, as long as it satisfies all the properties of a measure. In fact, if $\\mathbb P$ is the discrete counting measure that we were using before, then"
   ]
  },
  {
   "cell_type": "markdown",
   "metadata": {},
   "source": [
    "$$\n",
    "\\int_{Z^{-1}(A)} d \\mathbb P\n",
    "= \n",
    "\\sum_{Z^{-1}(A)} \\mathbb P(\\omega)\n",
    "$$"
   ]
  },
  {
   "cell_type": "markdown",
   "metadata": {},
   "source": [
    "If you have no idea why any of this matters, don't worry, just keep going. We're not going to get into the theory of Lebesgue integration. I really went back and forth on whether to include this at all, but I did because having this unifying formalism in your back pocket makes it really easy to prove a lot of things later, even if you don't really understand the theoretical details. You'll be fine if you just think of a Lebesgue integral as a tool to find the volume of outcomes in arbitrary sets that happens to follow all the rules of a normal integral. In other words: no matter how you're measuring stuff, you can use the Lebesgue integral to figure out how much space different sets of outcomes take up."
   ]
  },
  {
   "cell_type": "markdown",
   "metadata": {},
   "source": [
    "## Probability distributions"
   ]
  },
  {
   "cell_type": "markdown",
   "metadata": {},
   "source": [
    "The formal definition of a random variable as a function from a sample space to some set of numbers is really useful for proving useful relationships, but ultimately the sample space is totally imaginary: all we get to see are the realizations. So we're going to build some tools that will let us avoid talking about the sample space so much if we don't need to."
   ]
  },
  {
   "cell_type": "markdown",
   "metadata": {},
   "source": [
    "As perhaps you've noticed, neither the exact nature of what is in the sample space nor which of its elements map to which realizations change the observable behavior of a random variable as long as the total measure of all the outcomes mapping to each realization are the same. For example, we looked at two equivalent ways to implement our random variable $\\mathbf Z$:"
   ]
  },
  {
   "cell_type": "code",
   "execution_count": 49,
   "metadata": {},
   "outputs": [],
   "source": [
    "def Z(ω): \n",
    "    if ω in set([1,4,5,8,9]): \n",
    "        return 1\n",
    "    if ω in set([0,2,3,6,7]): \n",
    "        return 0\n",
    "Z.Ω = set([0,1,2,3,4,5,6,7,8,9]) "
   ]
  },
  {
   "cell_type": "code",
   "execution_count": 50,
   "metadata": {},
   "outputs": [],
   "source": [
    "def Z(ω): \n",
    "    if ω in set([-1234]): \n",
    "        return 1\n",
    "    if ω in set([980123]): \n",
    "        return 0\n",
    "Z.Ω = set([980123, -1234]) "
   ]
  },
  {
   "cell_type": "markdown",
   "metadata": {},
   "source": [
    "These are technically two different random variables because they have different sample spaces and different mappings to the realizations, but they behave exactly the same. When this is the case, we say they have the same **probability distribution**. The probability distribution describes how the factory should *behave* from the perspective of someone who can only see its products $z_i$: half the time you get a 0, half the time you get a 1. There is no need to mention the silo of ore nuggets, give them names, and specify which nuggets are destined to be 0s and which are destined to be 1s. We know they're back there, and we know what total *measure* are destined to be 0s and 1s (since that's what the probability means), but we don't need the details of who is who and what goes where. In fact, unless you're a probability theorist, you will never need to think about the sample space to solve a problem. The only reason you need to know about it is so that you can understand useful identities, which we will continue to derive as we go along."
   ]
  },
  {
   "cell_type": "markdown",
   "metadata": {},
   "source": [
    "The discrete probability distribution is function of the factory product $z$. For each unique value of $z$, it tells us the total volume of the nuggets in the silo that map to that outcome. We can visualize that by sorting all the nuggets in the silo into piles according to which value they are destined to become. The relative heights of each pile are proportional to the volume of space (measure) that each group of nuggets take up in the silo. Let's demonstrate with a new random variable $\\bf V$:"
   ]
  },
  {
   "cell_type": "code",
   "execution_count": 51,
   "metadata": {},
   "outputs": [],
   "source": [
    "def V(ω): \n",
    "    if ω in set([1]): \n",
    "        return 2\n",
    "    if ω in set([2,3]): \n",
    "        return 0\n",
    "    if ω in set([4,5,6]): \n",
    "        return -1\n",
    "    if ω in set([7,8,9,0]):\n",
    "        return 1\n",
    "V.Ω = set(range(10)) "
   ]
  },
  {
   "cell_type": "code",
   "execution_count": 52,
   "metadata": {},
   "outputs": [
    {
     "data": {
      "application/vnd.vegalite.v3+json": {
       "$schema": "https://vega.github.io/schema/vega-lite/v3.4.0.json",
       "config": {
        "mark": {
         "tooltip": null
        },
        "view": {
         "height": 300,
         "width": 400
        }
       },
       "data": {
        "name": "data-a7992e4d8081495d7eb4705b16985ea6"
       },
       "datasets": {
        "data-a7992e4d8081495d7eb4705b16985ea6": [
         {
          "p": 0.3,
          "v": -1
         },
         {
          "p": 0.2,
          "v": 0
         },
         {
          "p": 0.4,
          "v": 1
         },
         {
          "p": 0.1,
          "v": 2
         }
        ]
       },
       "encoding": {
        "x": {
         "field": "v",
         "type": "ordinal"
        },
        "y": {
         "field": "p",
         "type": "quantitative"
        }
       },
       "height": 100,
       "mark": "bar",
       "width": 400
      },
      "image/png": "[encoded data removed]",
      "text/plain": [
       "<VegaLite 3 object>\n",
       "\n",
       "If you see this message, it means the renderer has not been properly enabled\n",
       "for the frontend that you are using. For more information, see\n",
       "https://altair-viz.github.io/user_guide/troubleshooting.html\n"
      ]
     },
     "execution_count": 52,
     "metadata": {},
     "output_type": "execute_result"
    }
   ],
   "source": [
    "vs = [-1,0,1,2] # all the values v can take\n",
    "ps = [P(V,[v]) for v in vs] # calculate the probability of each, assuming the counting measure\n",
    "import altair as alt # for plotting\n",
    "import pandas as pd # to make dataframes\n",
    "\n",
    "distribution = pd.DataFrame({'v':vs, 'p':ps})\n",
    "alt.Chart(distribution, height=100, width=400).mark_bar().encode(x='v:O', y='p')"
   ]
  },
  {
   "cell_type": "markdown",
   "metadata": {},
   "source": [
    "<div class=\"alert alert-block alert-warning\">\n",
    "<b>Python Tip:</b> \n",
    "\n",
    "`altair` is a useful python package for visualization. It's optimized to work with dataframes from the `pandas` package. Feel free to browse the documentation for these packages, but you don't need to be an expert to continue on in this book.\n",
    "</div>"
   ]
  },
  {
   "cell_type": "markdown",
   "metadata": {},
   "source": [
    "This is the graphical representation of the probability distribution\n",
    "\n",
    "$$\n",
    "\\phi(v) \n",
    "=\n",
    "P(V=v)\n",
    "=\n",
    "\\mathbb P(\\mathbf V^{-1}(v))\n",
    "=\n",
    "\\begin{cases}\n",
    "0.3 & \\text{for }v=-1 \\\\\n",
    "0.2 & \\text{for }v=0 \\\\\n",
    "0.4 & \\text{for }v=1 \\\\\n",
    "0.1 & \\text{for }v=2\n",
    "\\end{cases}\n",
    "$$"
   ]
  },
  {
   "cell_type": "markdown",
   "metadata": {},
   "source": [
    "$\\phi(v)$ is called a **probability mass function**. If we have multiple random variables floating around and we want to distinguish their mass functions, we'll sometimes write $\\phi_{\\mathbf V}(v)$."
   ]
  },
  {
   "cell_type": "markdown",
   "metadata": {},
   "source": [
    "If we want to know the probability of a particular set of realizations, say, $P(\\mathbf V \\in \\{0,1\\})$, it's easy to get using the mass function:\n",
    "\n",
    "$$P(\\mathbf V \\in A) = \\sum_{v \\in A} \\phi(v)$$\n",
    "\n",
    "We simply sum up the probabilities that $\\mathbf V$ is any of the realizations within the set $A$ of interest. Compare this to what we had before:\n",
    "\n",
    "$$P(\\mathbf V \\in A) = \\sum_{\\omega \\in \\mathbf V^{-1}(A)} \\mathbb P(\\omega)$$\n",
    "\n",
    "The advantage is that we don't have to talk about outcomes or sample spaces anymore. All of the information we need to calculate any probabilities of $\\mathbf V$ is baked into the mass function $\\phi(v)$."
   ]
  },
  {
   "cell_type": "markdown",
   "metadata": {},
   "source": [
    "<div class=\"alert alert-block alert-info\">\n",
    "<b>Exercise:</b> \n",
    "\n",
    "Let's say $\\mathbf V$ is a random variable that maps outcomes from the interval $[0,1]$ to either 0, 1, or 2 in the following way:\n",
    "    \n",
    "$$\n",
    "\\mathbf V(\\omega)\n",
    "=\n",
    "\\begin{cases}\n",
    "0 & \\text{if } \\omega \\in [0, 0.2) \\cup (0.8,1] \\\\\n",
    "1 & \\text{if } \\omega \\in [0.2, 0.3) \\cup (0.7, 0.8] \\\\\n",
    "2 & \\text{if } \\omega \\in [0.3, 0.7] \\\\\n",
    "\\end{cases}\n",
    "$$\n",
    "    \n",
    "Note that $\\mathbf V$ is discrete, but with a continuous sample space.\n",
    "    \n",
    "Assuming the Lebesgue measure, what is the mass function of $\\mathbf V$? In other words, for each value that $\\mathbf V$ can take, what's the total length of the set that produces each value?\n",
    "\n",
    "Use the mass function to calculate $P(\\mathbf V \\in \\{1,0\\})$. You should get 0.6.\n",
    "    \n",
    "</div>"
   ]
  },
  {
   "cell_type": "markdown",
   "metadata": {},
   "source": [
    "### Continuous random variables and densities"
   ]
  },
  {
   "cell_type": "markdown",
   "metadata": {},
   "source": [
    "Let's say $\\mathbf Z$ is defined by $\\mathbf Z(\\omega) = 10\\omega^2$ with $\\omega \\in [0,1]$. How can we find some kind of function that we can manipulate to calculate probabilities without reference to the sample space or measure? \n",
    "\n",
    "For starters, we do know how to calculate probabilities. For instance, if we want to know $P(\\mathbf Z \\in [0.625, 2.5])$, what we need to do is find $\\mathbb P(\\mathbf Z^{-1}([0.625, 2.5]))$, which is the \"length\" of the set $\\mathbf Z^{-1}([0.625, 2.5])$ if we're using the Lebesgue measure. So what is $\\mathbf Z^{-1}([0.625, 2.5])$? Well, $\\mathbf Z(\\omega) = 10\\omega^2 \\in [0.625, 2.5]$ is the same as saying $0.625 \\le 10\\omega^2 \\le 2.5$. Dividing by 10 and taking square roots, we're left with $0.25 \\le \\omega \\le 0.5$. So $\\mathbf Z^{-1}([0.625, 2.5]) = [0.25, 0.5]$. The length of that set is clearly 0.25, so that's the probability we're looking for."
   ]
  },
  {
   "cell_type": "markdown",
   "metadata": {},
   "source": [
    "<div class=\"alert alert-block alert-info\">\n",
    "<b>Exercise:</b> \n",
    "\n",
    "Let $\\mathbf Z$ be as it is above. Find a formula for $P(\\mathbf Z \\in [a,b])$ for any values $a \\le b$ and $a,b \\in [0,10]$.\n",
    "\n",
    "</div>"
   ]
  },
  {
   "cell_type": "markdown",
   "metadata": {},
   "source": [
    "Mission accomplished? Not quite. We managed to calculate a probability given the sample space and random variable, but what we want is some kind of function that we can manipulate to calculate these probabilities without reference to the sample space at all. We don't want to have to think about what $\\Omega$ is or exactly how the different outcomes map to the different realizations."
   ]
  },
  {
   "cell_type": "markdown",
   "metadata": {},
   "source": [
    "So here's an idea: let's bin $z$ into 10 non-overlapping buckets, like $[0,1)$, $[1,2)$ ... $[9,10]$ and calculate the probability within each of those buckets. This is just like what we did in the discrete case. We're sorting all of the nuggets in the silo into different piles depending which set of values they are destined to become, and then measuring the volume of each pile. Here's what we get when we do that for the example random variable $\\bf z$ defined in the code above:"
   ]
  },
  {
   "cell_type": "code",
   "execution_count": 53,
   "metadata": {},
   "outputs": [
    {
     "data": {
      "application/vnd.vegalite.v3+json": {
       "$schema": "https://vega.github.io/schema/vega-lite/v3.4.0.json",
       "config": {
        "mark": {
         "tooltip": null
        },
        "view": {
         "height": 300,
         "width": 400
        }
       },
       "data": {
        "name": "data-238a944884c03662f4513bfe54e08e54"
       },
       "datasets": {
        "data-238a944884c03662f4513bfe54e08e54": [
         {
          "p": 0.31622776601683794,
          "z": "[0,1)"
         },
         {
          "p": 0.13098582948312,
          "z": "[1,2)"
         },
         {
          "p": 0.10050896200520815,
          "z": "[2,3)"
         },
         {
          "p": 0.08473297452850981,
          "z": "[3,4)"
         },
         {
          "p": 0.07465124915287169,
          "z": "[4,5)"
         },
         {
          "p": 0.06748988805493583,
          "z": "[5,6)"
         },
         {
          "p": 0.06206335729259216,
          "z": "[6,7)"
         },
         {
          "p": 0.05776716446584029,
          "z": "[7,8)"
         },
         {
          "p": 0.05425610705059791,
          "z": "[8,9)"
         },
         {
          "p": 0.05131670194948623,
          "z": "[9,10)"
         }
        ]
       },
       "encoding": {
        "x": {
         "field": "z",
         "type": "ordinal"
        },
        "y": {
         "field": "p",
         "type": "quantitative"
        }
       },
       "height": 100,
       "mark": "bar",
       "width": 400
      },
      "image/png": "[encoded data removed]",
      "text/plain": [
       "<VegaLite 3 object>\n",
       "\n",
       "If you see this message, it means the renderer has not been properly enabled\n",
       "for the frontend that you are using. For more information, see\n",
       "https://altair-viz.github.io/user_guide/troubleshooting.html\n"
      ]
     },
     "execution_count": 53,
     "metadata": {},
     "output_type": "execute_result"
    }
   ],
   "source": [
    "from math import sqrt\n",
    "\n",
    "def Pz(a,b):\n",
    "    return sqrt(b/10) - sqrt(a/10)\n",
    "\n",
    "zs = range(10)\n",
    "ps = [Pz(z,z+1) for z in zs]\n",
    "zs_labels = [f'[{z},{z+1})' for z in zs]\n",
    "\n",
    "distribution = pd.DataFrame({'z':zs_labels, 'p':ps})\n",
    "alt.Chart(distribution, height=100, width=400).mark_bar().encode(x='z:O', y='p')"
   ]
  },
  {
   "cell_type": "markdown",
   "metadata": {},
   "source": [
    "And why stop at 10 buckets? Let's split it up into 100."
   ]
  },
  {
   "cell_type": "code",
   "execution_count": 54,
   "metadata": {},
   "outputs": [
    {
     "data": {
      "application/vnd.vegalite.v3+json": {
       "$schema": "https://vega.github.io/schema/vega-lite/v3.4.0.json",
       "config": {
        "mark": {
         "tooltip": null
        },
        "view": {
         "height": 300,
         "width": 400
        }
       },
       "data": {
        "name": "data-87b4328471ec72ce0c0a7b12465363e4"
       },
       "datasets": {
        "data-87b4328471ec72ce0c0a7b12465363e4": [
         {
          "p": 0.1,
          "z": "[0.0,0.1)"
         },
         {
          "p": 0.0414213562373095,
          "z": "[0.1,0.2)"
         },
         {
          "p": 0.031783724519578255,
          "z": "[0.2,0.30000000000000004)"
         },
         {
          "p": 0.026794919243112253,
          "z": "[0.30000000000000004,0.4)"
         },
         {
          "p": 0.023606797749978953,
          "z": "[0.4,0.5)"
         },
         {
          "p": 0.021342176528338835,
          "z": "[0.5,0.6)"
         },
         {
          "p": 0.019626156828141256,
          "z": "[0.6000000000000001,0.7000000000000001)"
         },
         {
          "p": 0.018267581368159924,
          "z": "[0.7000000000000001,0.8)"
         },
         {
          "p": 0.017157287525380982,
          "z": "[0.8,0.9)"
         },
         {
          "p": 0.016227766016837952,
          "z": "[0.9,1.0)"
         },
         {
          "p": 0.015434713018702084,
          "z": "[1.0,1.1)"
         },
         {
          "p": 0.014747682478235491,
          "z": "[1.1,1.2000000000000002)"
         },
         {
          "p": 0.01414496603262344,
          "z": "[1.2000000000000002,1.3000000000000003)"
         },
         {
          "p": 0.01361061113099521,
          "z": "[1.3,1.4000000000000001)"
         },
         {
          "p": 0.013132595943347536,
          "z": "[1.4000000000000001,1.5000000000000002)"
         },
         {
          "p": 0.01270166537925832,
          "z": "[1.5,1.6)"
         },
         {
          "p": 0.012310562561766047,
          "z": "[1.6,1.7000000000000002)"
         },
         {
          "p": 0.011953506150162496,
          "z": "[1.7000000000000002,1.8000000000000003)"
         },
         {
          "p": 0.01162582564213882,
          "z": "[1.8,1.9000000000000001)"
         },
         {
          "p": 0.011323701145890597,
          "z": "[1.9000000000000001,2.0)"
         },
         {
          "p": 0.011043973995626122,
          "z": "[2.0,2.1)"
         },
         {
          "p": 0.010784006486758924,
          "z": "[2.1,2.2)"
         },
         {
          "p": 0.010541576348928994,
          "z": "[2.2,2.3000000000000003)"
         },
         {
          "p": 0.010314796225363687,
          "z": "[2.3000000000000003,2.4000000000000004)"
         },
         {
          "p": 0.010102051443364346,
          "z": "[2.4000000000000004,2.5000000000000004)"
         },
         {
          "p": 0.009901951359278516,
          "z": "[2.5,2.6)"
         },
         {
          "p": 0.009713290911384731,
          "z": "[2.6,2.7)"
         },
         {
          "p": 0.009535019942254919,
          "z": "[2.7,2.8000000000000003)"
         },
         {
          "p": 0.00936621850053232,
          "z": "[2.8000000000000003,2.9000000000000004)"
         },
         {
          "p": 0.0092060767917157,
          "z": "[2.9000000000000004,3.0000000000000004)"
         },
         {
          "p": 0.009053878777836144,
          "z": "[3.0,3.1)"
         },
         {
          "p": 0.008908988666235795,
          "z": "[3.1,3.2)"
         },
         {
          "p": 0.008770839704564826,
          "z": "[3.2,3.3000000000000003)"
         },
         {
          "p": 0.008638924830727257,
          "z": "[3.3000000000000003,3.4000000000000004)"
         },
         {
          "p": 0.008512788825431494,
          "z": "[3.4000000000000004,3.5000000000000004)"
         },
         {
          "p": 0.008392021690038387,
          "z": "[3.5,3.6)"
         },
         {
          "p": 0.008276253029821934,
          "z": "[3.6,3.7)"
         },
         {
          "p": 0.008165147267075734,
          "z": "[3.7,3.8000000000000003)"
         },
         {
          "p": 0.008058399542942185,
          "z": "[3.8000000000000003,3.9000000000000004)"
         },
         {
          "p": 0.007955732193836051,
          "z": "[3.9000000000000004,4.0)"
         },
         {
          "p": 0.007856891709609015,
          "z": "[4.0,4.1)"
         },
         {
          "p": 0.007761646097501185,
          "z": "[4.1000000000000005,4.2)"
         },
         {
          "p": 0.007669782589413976,
          "z": "[4.2,4.3)"
         },
         {
          "p": 0.007581105640879882,
          "z": "[4.3,4.3999999999999995)"
         },
         {
          "p": 0.0074954351788568685,
          "z": "[4.4,4.5)"
         },
         {
          "p": 0.007412605062589894,
          "z": "[4.5,4.6)"
         },
         {
          "p": 0.007332461727577511,
          "z": "[4.6000000000000005,4.7)"
         },
         {
          "p": 0.0072548629874464865,
          "z": "[4.7,4.8)"
         },
         {
          "p": 0.007179676972449034,
          "z": "[4.800000000000001,4.9)"
         },
         {
          "p": 0.007106781186547506,
          "z": "[4.9,5.0)"
         },
         {
          "p": 0.007036061667737403,
          "z": "[5.0,5.1)"
         },
         {
          "p": 0.006967412238512938,
          "z": "[5.1000000000000005,5.2)"
         },
         {
          "p": 0.006900733835253914,
          "z": "[5.2,5.3)"
         },
         {
          "p": 0.006835933906901626,
          "z": "[5.300000000000001,5.4)"
         },
         {
          "p": 0.006772925874612867,
          "z": "[5.4,5.5)"
         },
         {
          "p": 0.006711628645221901,
          "z": "[5.5,5.6)"
         },
         {
          "p": 0.006651966172286694,
          "z": "[5.6000000000000005,5.7)"
         },
         {
          "p": 0.00659386705931575,
          "z": "[5.7,5.8)"
         },
         {
          "p": 0.006537264200469961,
          "z": "[5.800000000000001,5.9)"
         },
         {
          "p": 0.006482094454622556,
          "z": "[5.9,6.0)"
         },
         {
          "p": 0.006428298349182016,
          "z": "[6.0,6.1)"
         },
         {
          "p": 0.006375819810515604,
          "z": "[6.1000000000000005,6.2)"
         },
         {
          "p": 0.006324605918196058,
          "z": "[6.2,6.3)"
         },
         {
          "p": 0.006274606680622741,
          "z": "[6.300000000000001,6.4)"
         },
         {
          "p": 0.00622577482985498,
          "z": "[6.4,6.5)"
         },
         {
          "p": 0.0061780656337410145,
          "z": "[6.5,6.6)"
         },
         {
          "p": 0.00613143672364902,
          "z": "[6.6000000000000005,6.7)"
         },
         {
          "p": 0.00608584793628697,
          "z": "[6.7,6.8)"
         },
         {
          "p": 0.006041261168275414,
          "z": "[6.800000000000001,6.9)"
         },
         {
          "p": 0.00599764024226801,
          "z": "[6.9,7.0)"
         },
         {
          "p": 0.005954950783560231,
          "z": "[7.0,7.1)"
         },
         {
          "p": 0.005913160106221116,
          "z": "[7.1000000000000005,7.2)"
         },
         {
          "p": 0.005872237107896083,
          "z": "[7.2,7.3)"
         },
         {
          "p": 0.0058321521725094305,
          "z": "[7.300000000000001,7.4)"
         },
         {
          "p": 0.005792877080175951,
          "z": "[7.4,7.5)"
         },
         {
          "p": 0.005754384923696065,
          "z": "[7.5,7.6)"
         },
         {
          "p": 0.005716650031077575,
          "z": "[7.6000000000000005,7.7)"
         },
         {
          "p": 0.005679647893572448,
          "z": "[7.7,7.8)"
         },
         {
          "p": 0.005643355098774228,
          "z": "[7.800000000000001,7.9)"
         },
         {
          "p": 0.005607749268356943,
          "z": "[7.9,8.0)"
         },
         {
          "p": 0.005572809000084167,
          "z": "[8.0,8.1)"
         },
         {
          "p": 0.005538513813741597,
          "z": "[8.1,8.2)"
         },
         {
          "p": 0.005504844100688189,
          "z": "[8.200000000000001,8.3)"
         },
         {
          "p": 0.00547178107673818,
          "z": "[8.3,8.4)"
         },
         {
          "p": 0.005439306738120653,
          "z": "[8.4,8.5)"
         },
         {
          "p": 0.005407403820281598,
          "z": "[8.5,8.6)"
         },
         {
          "p": 0.005376055759311105,
          "z": "[8.6,8.7)"
         },
         {
          "p": 0.005345246655804381,
          "z": "[8.700000000000001,8.8)"
         },
         {
          "p": 0.005314961240974414,
          "z": "[8.8,8.9)"
         },
         {
          "p": 0.005285184844853408,
          "z": "[8.9,9.0)"
         },
         {
          "p": 0.005255903366431891,
          "z": "[9.0,9.1)"
         },
         {
          "p": 0.005227103245598164,
          "z": "[9.1,9.2)"
         },
         {
          "p": 0.005198771436751626,
          "z": "[9.200000000000001,9.3)"
         },
         {
          "p": 0.005170895383970309,
          "z": "[9.3,9.4)"
         },
         {
          "p": 0.005143462997630466,
          "z": "[9.4,9.5)"
         },
         {
          "p": 0.005116462632374863,
          "z": "[9.5,9.6)"
         },
         {
          "p": 0.005089883066339174,
          "z": "[9.600000000000001,9.700000000000001)"
         },
         {
          "p": 0.005063713481556098,
          "z": "[9.700000000000001,9.8)"
         },
         {
          "p": 0.005037943445453386,
          "z": "[9.8,9.9)"
         },
         {
          "p": 0.005012562893380035,
          "z": "[9.9,10.0)"
         }
        ]
       },
       "encoding": {
        "x": {
         "axis": null,
         "field": "z",
         "type": "ordinal"
        },
        "y": {
         "field": "p",
         "type": "quantitative"
        }
       },
       "height": 100,
       "mark": "bar",
       "width": 400
      },
      "image/png": "[encoded data removed]",
      "text/plain": [
       "<VegaLite 3 object>\n",
       "\n",
       "If you see this message, it means the renderer has not been properly enabled\n",
       "for the frontend that you are using. For more information, see\n",
       "https://altair-viz.github.io/user_guide/troubleshooting.html\n"
      ]
     },
     "execution_count": 54,
     "metadata": {},
     "output_type": "execute_result"
    }
   ],
   "source": [
    "zs = np.arange(0,10,0.1)\n",
    "ps = [Pz(z,z+0.1) for z in zs]\n",
    "zs_labels = [f'[{z},{z+0.1})' for z in zs]\n",
    "\n",
    "distribution = pd.DataFrame({'z':zs_labels, 'p':ps})\n",
    "alt.Chart(distribution, height=100, width=400).mark_bar().encode(alt.X('z:O',axis=None), y='p')"
   ]
  },
  {
   "cell_type": "markdown",
   "metadata": {},
   "source": [
    "More buckets gives us more information. If we want to know $P(\\mathbf Z \\in [0,0.5))$, for instance, we can sum up the probabilities for the buckets $[0,0.1)$, $[0.1,0.2)$, ... $[0.4,0.5)$. But we can't get *any* probability. The graph doesn't have enough information to let us calculate probabilities over intervals whose ends are between two cutpoints of the buckets. It only has resolution up to increments of $0.1$ in terms of $z$. It would be nice to have a graph that lets us read off arbitrary probabilities like $P(\\mathbf Z \\in [a,b])$ just by looking at how much \"stuff\" there is between $a$ and $b$. Something like this:"
   ]
  },
  {
   "cell_type": "code",
   "execution_count": 55,
   "metadata": {},
   "outputs": [
    {
     "data": {
      "application/vnd.vegalite.v3+json": {
       "$schema": "https://vega.github.io/schema/vega-lite/v3.4.0.json",
       "config": {
        "mark": {
         "tooltip": null
        },
        "view": {
         "height": 300,
         "width": 400
        }
       },
       "data": {
        "name": "data-c101341a031f7d31f56b8b1aa832611d"
       },
       "datasets": {
        "data-c101341a031f7d31f56b8b1aa832611d": [
         {
          "p": 0.5,
          "z": 0.1
         },
         {
          "p": 0.35355339059327373,
          "z": 0.2
         },
         {
          "p": 0.28867513459481287,
          "z": 0.30000000000000004
         },
         {
          "p": 0.25,
          "z": 0.4
         },
         {
          "p": 0.22360679774997896,
          "z": 0.5
         },
         {
          "p": 0.20412414523193154,
          "z": 0.6
         },
         {
          "p": 0.1889822365046136,
          "z": 0.7000000000000001
         },
         {
          "p": 0.17677669529663687,
          "z": 0.8
         },
         {
          "p": 0.16666666666666666,
          "z": 0.9
         },
         {
          "p": 0.15811388300841897,
          "z": 1
         },
         {
          "p": 0.15075567228888181,
          "z": 1.1
         },
         {
          "p": 0.14433756729740643,
          "z": 1.2000000000000002
         },
         {
          "p": 0.13867504905630726,
          "z": 1.3000000000000003
         },
         {
          "p": 0.13363062095621217,
          "z": 1.4000000000000001
         },
         {
          "p": 0.12909944487358055,
          "z": 1.5000000000000002
         },
         {
          "p": 0.125,
          "z": 1.6
         },
         {
          "p": 0.12126781251816648,
          "z": 1.7000000000000002
         },
         {
          "p": 0.1178511301977579,
          "z": 1.8000000000000003
         },
         {
          "p": 0.11470786693528087,
          "z": 1.9000000000000001
         },
         {
          "p": 0.11180339887498948,
          "z": 2
         },
         {
          "p": 0.1091089451179962,
          "z": 2.1
         },
         {
          "p": 0.10660035817780521,
          "z": 2.2
         },
         {
          "p": 0.10425720702853737,
          "z": 2.3000000000000003
         },
         {
          "p": 0.10206207261596574,
          "z": 2.4000000000000004
         },
         {
          "p": 0.1,
          "z": 2.5000000000000004
         },
         {
          "p": 0.09805806756909202,
          "z": 2.6
         },
         {
          "p": 0.09622504486493763,
          "z": 2.7
         },
         {
          "p": 0.0944911182523068,
          "z": 2.8000000000000003
         },
         {
          "p": 0.09284766908852592,
          "z": 2.9000000000000004
         },
         {
          "p": 0.09128709291752768,
          "z": 3.0000000000000004
         },
         {
          "p": 0.08980265101338746,
          "z": 3.1
         },
         {
          "p": 0.08838834764831843,
          "z": 3.2
         },
         {
          "p": 0.08703882797784893,
          "z": 3.3000000000000003
         },
         {
          "p": 0.08574929257125441,
          "z": 3.4000000000000004
         },
         {
          "p": 0.08451542547285164,
          "z": 3.5000000000000004
         },
         {
          "p": 0.08333333333333333,
          "z": 3.6
         },
         {
          "p": 0.08219949365267865,
          "z": 3.7
         },
         {
          "p": 0.08111071056538127,
          "z": 3.8000000000000003
         },
         {
          "p": 0.08006407690254357,
          "z": 3.9000000000000004
         },
         {
          "p": 0.07905694150420949,
          "z": 4
         },
         {
          "p": 0.07808688094430304,
          "z": 4.1
         },
         {
          "p": 0.07715167498104596,
          "z": 4.2
         },
         {
          "p": 0.07624928516630233,
          "z": 4.3
         },
         {
          "p": 0.07537783614444092,
          "z": 4.3999999999999995
         },
         {
          "p": 0.07453559924999299,
          "z": 4.5
         },
         {
          "p": 0.07372097807744857,
          "z": 4.6
         },
         {
          "p": 0.07293249574894728,
          "z": 4.7
         },
         {
          "p": 0.07216878364870323,
          "z": 4.8
         },
         {
          "p": 0.07142857142857142,
          "z": 4.9
         },
         {
          "p": 0.07071067811865475,
          "z": 5
         },
         {
          "p": 0.07001400420140048,
          "z": 5.1
         },
         {
          "p": 0.06933752452815364,
          "z": 5.2
         },
         {
          "p": 0.06868028197434452,
          "z": 5.3
         },
         {
          "p": 0.06804138174397717,
          "z": 5.4
         },
         {
          "p": 0.06741998624632421,
          "z": 5.5
         },
         {
          "p": 0.0668153104781061,
          "z": 5.6
         },
         {
          "p": 0.06622661785325219,
          "z": 5.7
         },
         {
          "p": 0.06565321642986127,
          "z": 5.8
         },
         {
          "p": 0.06509445549041194,
          "z": 5.9
         },
         {
          "p": 0.06454972243679027,
          "z": 6
         },
         {
          "p": 0.06401843996644799,
          "z": 6.1
         },
         {
          "p": 0.06350006350009525,
          "z": 6.2
         },
         {
          "p": 0.0629940788348712,
          "z": 6.3
         },
         {
          "p": 0.0625,
          "z": 6.4
         },
         {
          "p": 0.062017367294604234,
          "z": 6.5
         },
         {
          "p": 0.06154574548966636,
          "z": 6.6
         },
         {
          "p": 0.06108472217815261,
          "z": 6.7
         },
         {
          "p": 0.06063390625908324,
          "z": 6.8
         },
         {
          "p": 0.0601929265428846,
          "z": 6.9
         },
         {
          "p": 0.05976143046671968,
          "z": 7
         },
         {
          "p": 0.05933908290969266,
          "z": 7.1
         },
         {
          "p": 0.05892556509887897,
          "z": 7.2
         },
         {
          "p": 0.058520573598065284,
          "z": 7.3
         },
         {
          "p": 0.05812381937190964,
          "z": 7.4
         },
         {
          "p": 0.05773502691896257,
          "z": 7.5
         },
         {
          "p": 0.057353933467640436,
          "z": 7.6
         },
         {
          "p": 0.05698028822981897,
          "z": 7.7
         },
         {
          "p": 0.05661385170722978,
          "z": 7.8
         },
         {
          "p": 0.0562543950463012,
          "z": 7.9
         },
         {
          "p": 0.05590169943749474,
          "z": 8
         },
         {
          "p": 0.05555555555555555,
          "z": 8.1
         },
         {
          "p": 0.05521576303742327,
          "z": 8.2
         },
         {
          "p": 0.05488212999484517,
          "z": 8.3
         },
         {
          "p": 0.0545544725589981,
          "z": 8.4
         },
         {
          "p": 0.05423261445466404,
          "z": 8.5
         },
         {
          "p": 0.053916386601719206,
          "z": 8.6
         },
         {
          "p": 0.05360562674188974,
          "z": 8.7
         },
         {
          "p": 0.053300179088902604,
          "z": 8.8
         },
         {
          "p": 0.052999894000318,
          "z": 8.9
         },
         {
          "p": 0.05270462766947299,
          "z": 9
         },
         {
          "p": 0.052414241836095915,
          "z": 9.1
         },
         {
          "p": 0.05212860351426869,
          "z": 9.2
         },
         {
          "p": 0.05184758473652126,
          "z": 9.3
         },
         {
          "p": 0.05157106231293967,
          "z": 9.4
         },
         {
          "p": 0.051298917604257706,
          "z": 9.5
         },
         {
          "p": 0.051031036307982884,
          "z": 9.6
         },
         {
          "p": 0.050767308256680944,
          "z": 9.700000000000001
         },
         {
          "p": 0.050507627227610534,
          "z": 9.8
         },
         {
          "p": 0.050251890762960605,
          "z": 9.9
         }
        ]
       },
       "encoding": {
        "x": {
         "field": "z",
         "type": "quantitative"
        },
        "y": {
         "field": "p",
         "type": "quantitative"
        }
       },
       "height": 100,
       "mark": "area",
       "width": 400
      },
      "image/png": "[encoded data removed]",
      "text/plain": [
       "<VegaLite 3 object>\n",
       "\n",
       "If you see this message, it means the renderer has not been properly enabled\n",
       "for the frontend that you are using. For more information, see\n",
       "https://altair-viz.github.io/user_guide/troubleshooting.html\n"
      ]
     },
     "execution_count": 55,
     "metadata": {},
     "output_type": "execute_result"
    }
   ],
   "source": [
    "z = np.arange(0.1,10,0.1)\n",
    "p = 1/(2*np.sqrt(10*z)) # magic, for now...\n",
    "\n",
    "distribution = pd.DataFrame({'z':z, 'p':p})\n",
    "alt.Chart(distribution, height=100, width=400).mark_area().encode(x='z', y='p')"
   ]
  },
  {
   "cell_type": "markdown",
   "metadata": {},
   "source": [
    "Before I explain how I managed to make this graph, which is called a **density plot**, I want to establish an intuition for what it means. We've gone from 10 buckets, to 100 buckets, to \"infinite\" buckets. I like to think of these pictures literally: all the outcomes $\\omega$ neatly piled up on top of the labels $z$ for the values they will become. So to get $P(\\mathbf Z \\in [a,b])$ from this picture, which is just the volume of outcomes that map to values between $a$ and $b$, all we need to do is see how much stuff there is piled up between $a$ and $b$ in the picture. "
   ]
  },
  {
   "cell_type": "markdown",
   "metadata": {},
   "source": [
    "![](https://media.giphy.com/media/xT0xeJpnrWC4XWblEk/giphy-facebook_s.jpg)"
   ]
  },
  {
   "cell_type": "markdown",
   "metadata": {},
   "source": [
    "To do this, we turn to a useful tool from calculus: the integral. To make the picture above, we need a curve $\\phi(z)$ such that the area under $f$ between $a$ and $b$ is $P(\\mathbf Z \\in [a,b])$ for all values $a$ and $b$. In the previous exercise you should have figured out that $P(\\mathbf Z \\in [a,b]) = \\sqrt{\\frac{b}{10}} - \\sqrt{\\frac{a}{10}}$. So what we need is the curve $\\phi(z)$ that satisfies this equation:\n",
    "\n",
    "$$\\int_a^b \\phi(z) dz = P(\\mathbf Z \\in [a,b]) = \\sqrt{\\frac{b}{10}} - \\sqrt{\\frac{a}{10}}$$"
   ]
  },
  {
   "cell_type": "markdown",
   "metadata": {},
   "source": [
    "Looking at the integral equation, it's clear that $\\Phi(z) = \\sqrt{\\frac{z}{10}}$ is the antiderivative of $\\phi(z)$, so all we need to do to get $\\phi$ is differentiate $\\Phi$:\n",
    "\n",
    "$$\\phi(z) = \\frac{d\\Phi(z)}{dz} = \\frac{d}{dz} \\sqrt{\\frac{z}{10}} = \\frac{1}{2\\sqrt{10z}}$$"
   ]
  },
  {
   "cell_type": "markdown",
   "metadata": {},
   "source": [
    "That's why we have `ps = [1/(2*sqrt(10*z)) for z in zs]` in the code above."
   ]
  },
  {
   "cell_type": "markdown",
   "metadata": {},
   "source": [
    "The function $\\phi(z)$ is called a **probability density function** (PDF), which is the continuous equivalent of the probability mass function. Its integral $\\Phi(z) = \\int_{-\\infty}^z \\phi(t)dt = P(\\mathbf Z \\le z)$ is called a **cumulative density function** (CDF). Either of these functions tell you everything you need to know about probabilities of the random variable $\\mathbf Z$. The probability that $\\mathbf Z$ takes any of the values in an arbitrary set $A$ is \n",
    "\n",
    "$$P(\\mathbf Z \\in A) = \\int_{A} \\phi(z) dz$$"
   ]
  },
  {
   "cell_type": "markdown",
   "metadata": {},
   "source": [
    "This works the same way as the probability mass function for a discrete random variable $\\mathbf V$:\n",
    "\n",
    "$$P(\\mathbf V \\in A) = \\sum_{v \\in A} \\phi(v)$$"
   ]
  },
  {
   "cell_type": "code",
   "execution_count": 56,
   "metadata": {},
   "outputs": [
    {
     "data": {
      "application/vnd.vegalite.v3+json": {
       "$schema": "https://vega.github.io/schema/vega-lite/v3.4.0.json",
       "config": {
        "mark": {
         "tooltip": null
        },
        "view": {
         "height": 300,
         "width": 400
        }
       },
       "datasets": {
        "data-38281cf2c0e1505142c3c5058c2c3093": [
         {
          "A": true,
          "p": 0.15811388300841897,
          "z": 1
         },
         {
          "A": true,
          "p": 0.15075567228888181,
          "z": 1.1
         },
         {
          "A": true,
          "p": 0.14433756729740643,
          "z": 1.2000000000000002
         },
         {
          "A": true,
          "p": 0.13867504905630726,
          "z": 1.3000000000000003
         },
         {
          "A": true,
          "p": 0.13363062095621217,
          "z": 1.4000000000000001
         },
         {
          "A": true,
          "p": 0.12909944487358055,
          "z": 1.5000000000000002
         },
         {
          "A": true,
          "p": 0.125,
          "z": 1.6
         },
         {
          "A": true,
          "p": 0.12126781251816648,
          "z": 1.7000000000000002
         },
         {
          "A": true,
          "p": 0.1178511301977579,
          "z": 1.8000000000000003
         },
         {
          "A": true,
          "p": 0.11470786693528087,
          "z": 1.9000000000000001
         },
         {
          "A": true,
          "p": 0.11180339887498948,
          "z": 2
         },
         {
          "A": true,
          "p": 0.1091089451179962,
          "z": 2.1
         },
         {
          "A": true,
          "p": 0.10660035817780521,
          "z": 2.2
         },
         {
          "A": true,
          "p": 0.10425720702853737,
          "z": 2.3000000000000003
         },
         {
          "A": true,
          "p": 0.10206207261596574,
          "z": 2.4000000000000004
         },
         {
          "A": true,
          "p": 0.1,
          "z": 2.5000000000000004
         },
         {
          "A": true,
          "p": 0.09805806756909202,
          "z": 2.6
         },
         {
          "A": true,
          "p": 0.09622504486493763,
          "z": 2.7
         },
         {
          "A": true,
          "p": 0.0944911182523068,
          "z": 2.8000000000000003
         },
         {
          "A": true,
          "p": 0.09284766908852592,
          "z": 2.9000000000000004
         },
         {
          "A": true,
          "p": 0.09128709291752768,
          "z": 3.0000000000000004
         },
         {
          "A": true,
          "p": 0.08980265101338746,
          "z": 3.1
         },
         {
          "A": true,
          "p": 0.08838834764831843,
          "z": 3.2
         },
         {
          "A": true,
          "p": 0.08703882797784893,
          "z": 3.3000000000000003
         },
         {
          "A": true,
          "p": 0.08574929257125441,
          "z": 3.4000000000000004
         },
         {
          "A": true,
          "p": 0.08451542547285164,
          "z": 3.5000000000000004
         },
         {
          "A": true,
          "p": 0.08333333333333333,
          "z": 3.6
         },
         {
          "A": true,
          "p": 0.08219949365267865,
          "z": 3.7
         },
         {
          "A": true,
          "p": 0.08111071056538127,
          "z": 3.8000000000000003
         },
         {
          "A": true,
          "p": 0.08006407690254357,
          "z": 3.9000000000000004
         },
         {
          "A": true,
          "p": 0.07905694150420949,
          "z": 4
         }
        ],
        "data-89a8ddb88ed1bbce5b68460de5942481": [
         {
          "A": false,
          "p": 0.5,
          "z": 0.1
         },
         {
          "A": false,
          "p": 0.35355339059327373,
          "z": 0.2
         },
         {
          "A": false,
          "p": 0.28867513459481287,
          "z": 0.30000000000000004
         },
         {
          "A": false,
          "p": 0.25,
          "z": 0.4
         },
         {
          "A": false,
          "p": 0.22360679774997896,
          "z": 0.5
         },
         {
          "A": false,
          "p": 0.20412414523193154,
          "z": 0.6
         },
         {
          "A": false,
          "p": 0.1889822365046136,
          "z": 0.7000000000000001
         },
         {
          "A": false,
          "p": 0.17677669529663687,
          "z": 0.8
         },
         {
          "A": false,
          "p": 0.16666666666666666,
          "z": 0.9
         },
         {
          "A": true,
          "p": 0.15811388300841897,
          "z": 1
         },
         {
          "A": true,
          "p": 0.15075567228888181,
          "z": 1.1
         },
         {
          "A": true,
          "p": 0.14433756729740643,
          "z": 1.2000000000000002
         },
         {
          "A": true,
          "p": 0.13867504905630726,
          "z": 1.3000000000000003
         },
         {
          "A": true,
          "p": 0.13363062095621217,
          "z": 1.4000000000000001
         },
         {
          "A": true,
          "p": 0.12909944487358055,
          "z": 1.5000000000000002
         },
         {
          "A": true,
          "p": 0.125,
          "z": 1.6
         },
         {
          "A": true,
          "p": 0.12126781251816648,
          "z": 1.7000000000000002
         },
         {
          "A": true,
          "p": 0.1178511301977579,
          "z": 1.8000000000000003
         },
         {
          "A": true,
          "p": 0.11470786693528087,
          "z": 1.9000000000000001
         },
         {
          "A": true,
          "p": 0.11180339887498948,
          "z": 2
         },
         {
          "A": true,
          "p": 0.1091089451179962,
          "z": 2.1
         },
         {
          "A": true,
          "p": 0.10660035817780521,
          "z": 2.2
         },
         {
          "A": true,
          "p": 0.10425720702853737,
          "z": 2.3000000000000003
         },
         {
          "A": true,
          "p": 0.10206207261596574,
          "z": 2.4000000000000004
         },
         {
          "A": true,
          "p": 0.1,
          "z": 2.5000000000000004
         },
         {
          "A": true,
          "p": 0.09805806756909202,
          "z": 2.6
         },
         {
          "A": true,
          "p": 0.09622504486493763,
          "z": 2.7
         },
         {
          "A": true,
          "p": 0.0944911182523068,
          "z": 2.8000000000000003
         },
         {
          "A": true,
          "p": 0.09284766908852592,
          "z": 2.9000000000000004
         },
         {
          "A": true,
          "p": 0.09128709291752768,
          "z": 3.0000000000000004
         },
         {
          "A": true,
          "p": 0.08980265101338746,
          "z": 3.1
         },
         {
          "A": true,
          "p": 0.08838834764831843,
          "z": 3.2
         },
         {
          "A": true,
          "p": 0.08703882797784893,
          "z": 3.3000000000000003
         },
         {
          "A": true,
          "p": 0.08574929257125441,
          "z": 3.4000000000000004
         },
         {
          "A": true,
          "p": 0.08451542547285164,
          "z": 3.5000000000000004
         },
         {
          "A": true,
          "p": 0.08333333333333333,
          "z": 3.6
         },
         {
          "A": true,
          "p": 0.08219949365267865,
          "z": 3.7
         },
         {
          "A": true,
          "p": 0.08111071056538127,
          "z": 3.8000000000000003
         },
         {
          "A": true,
          "p": 0.08006407690254357,
          "z": 3.9000000000000004
         },
         {
          "A": true,
          "p": 0.07905694150420949,
          "z": 4
         },
         {
          "A": false,
          "p": 0.07808688094430304,
          "z": 4.1
         },
         {
          "A": false,
          "p": 0.07715167498104596,
          "z": 4.2
         },
         {
          "A": false,
          "p": 0.07624928516630233,
          "z": 4.3
         },
         {
          "A": false,
          "p": 0.07537783614444092,
          "z": 4.3999999999999995
         },
         {
          "A": false,
          "p": 0.07453559924999299,
          "z": 4.5
         },
         {
          "A": false,
          "p": 0.07372097807744857,
          "z": 4.6
         },
         {
          "A": false,
          "p": 0.07293249574894728,
          "z": 4.7
         },
         {
          "A": false,
          "p": 0.07216878364870323,
          "z": 4.8
         },
         {
          "A": false,
          "p": 0.07142857142857142,
          "z": 4.9
         },
         {
          "A": false,
          "p": 0.07071067811865475,
          "z": 5
         },
         {
          "A": false,
          "p": 0.07001400420140048,
          "z": 5.1
         },
         {
          "A": false,
          "p": 0.06933752452815364,
          "z": 5.2
         },
         {
          "A": false,
          "p": 0.06868028197434452,
          "z": 5.3
         },
         {
          "A": false,
          "p": 0.06804138174397717,
          "z": 5.4
         },
         {
          "A": false,
          "p": 0.06741998624632421,
          "z": 5.5
         },
         {
          "A": false,
          "p": 0.0668153104781061,
          "z": 5.6
         },
         {
          "A": false,
          "p": 0.06622661785325219,
          "z": 5.7
         },
         {
          "A": false,
          "p": 0.06565321642986127,
          "z": 5.8
         },
         {
          "A": false,
          "p": 0.06509445549041194,
          "z": 5.9
         },
         {
          "A": false,
          "p": 0.06454972243679027,
          "z": 6
         },
         {
          "A": false,
          "p": 0.06401843996644799,
          "z": 6.1
         },
         {
          "A": false,
          "p": 0.06350006350009525,
          "z": 6.2
         },
         {
          "A": false,
          "p": 0.0629940788348712,
          "z": 6.3
         },
         {
          "A": false,
          "p": 0.0625,
          "z": 6.4
         },
         {
          "A": false,
          "p": 0.062017367294604234,
          "z": 6.5
         },
         {
          "A": false,
          "p": 0.06154574548966636,
          "z": 6.6
         },
         {
          "A": false,
          "p": 0.06108472217815261,
          "z": 6.7
         },
         {
          "A": false,
          "p": 0.06063390625908324,
          "z": 6.8
         },
         {
          "A": false,
          "p": 0.0601929265428846,
          "z": 6.9
         },
         {
          "A": false,
          "p": 0.05976143046671968,
          "z": 7
         },
         {
          "A": false,
          "p": 0.05933908290969266,
          "z": 7.1
         },
         {
          "A": false,
          "p": 0.05892556509887897,
          "z": 7.2
         },
         {
          "A": false,
          "p": 0.058520573598065284,
          "z": 7.3
         },
         {
          "A": false,
          "p": 0.05812381937190964,
          "z": 7.4
         },
         {
          "A": false,
          "p": 0.05773502691896257,
          "z": 7.5
         },
         {
          "A": false,
          "p": 0.057353933467640436,
          "z": 7.6
         },
         {
          "A": false,
          "p": 0.05698028822981897,
          "z": 7.7
         },
         {
          "A": false,
          "p": 0.05661385170722978,
          "z": 7.8
         },
         {
          "A": false,
          "p": 0.0562543950463012,
          "z": 7.9
         },
         {
          "A": false,
          "p": 0.05590169943749474,
          "z": 8
         },
         {
          "A": false,
          "p": 0.05555555555555555,
          "z": 8.1
         },
         {
          "A": false,
          "p": 0.05521576303742327,
          "z": 8.2
         },
         {
          "A": false,
          "p": 0.05488212999484517,
          "z": 8.3
         },
         {
          "A": false,
          "p": 0.0545544725589981,
          "z": 8.4
         },
         {
          "A": false,
          "p": 0.05423261445466404,
          "z": 8.5
         },
         {
          "A": false,
          "p": 0.053916386601719206,
          "z": 8.6
         },
         {
          "A": false,
          "p": 0.05360562674188974,
          "z": 8.7
         },
         {
          "A": false,
          "p": 0.053300179088902604,
          "z": 8.8
         },
         {
          "A": false,
          "p": 0.052999894000318,
          "z": 8.9
         },
         {
          "A": false,
          "p": 0.05270462766947299,
          "z": 9
         },
         {
          "A": false,
          "p": 0.052414241836095915,
          "z": 9.1
         },
         {
          "A": false,
          "p": 0.05212860351426869,
          "z": 9.2
         },
         {
          "A": false,
          "p": 0.05184758473652126,
          "z": 9.3
         },
         {
          "A": false,
          "p": 0.05157106231293967,
          "z": 9.4
         },
         {
          "A": false,
          "p": 0.051298917604257706,
          "z": 9.5
         },
         {
          "A": false,
          "p": 0.051031036307982884,
          "z": 9.6
         },
         {
          "A": false,
          "p": 0.050767308256680944,
          "z": 9.700000000000001
         },
         {
          "A": false,
          "p": 0.050507627227610534,
          "z": 9.8
         },
         {
          "A": false,
          "p": 0.050251890762960605,
          "z": 9.9
         }
        ]
       },
       "layer": [
        {
         "data": {
          "name": "data-89a8ddb88ed1bbce5b68460de5942481"
         },
         "encoding": {
          "x": {
           "field": "z",
           "type": "quantitative"
          },
          "y": {
           "field": "p",
           "type": "quantitative"
          }
         },
         "height": 100,
         "mark": "area",
         "width": 400
        },
        {
         "data": {
          "name": "data-38281cf2c0e1505142c3c5058c2c3093"
         },
         "encoding": {
          "x": {
           "field": "z",
           "type": "quantitative"
          },
          "y": {
           "field": "p",
           "type": "quantitative"
          }
         },
         "mark": {
          "color": "orange",
          "type": "area"
         }
        }
       ]
      },
      "image/png": "[encoded data removed]",
      "text/plain": [
       "<VegaLite 3 object>\n",
       "\n",
       "If you see this message, it means the renderer has not been properly enabled\n",
       "for the frontend that you are using. For more information, see\n",
       "https://altair-viz.github.io/user_guide/troubleshooting.html\n"
      ]
     },
     "execution_count": 56,
     "metadata": {},
     "output_type": "execute_result"
    }
   ],
   "source": [
    "A = (1<=z) & (z<=4)\n",
    "distribution = pd.DataFrame({'z':z, 'p':p, 'A':A})\n",
    "alt.Chart(distribution, height=100, width=400).mark_area().encode(\n",
    "    x='z',\n",
    "    y='p'\n",
    ") + alt.Chart(distribution.query('A')).mark_area(color='orange').encode(\n",
    "    x='z',\n",
    "    y='p'\n",
    ")"
   ]
  },
  {
   "cell_type": "markdown",
   "metadata": {},
   "source": [
    "For example, the probability that $\\mathbf Z$ is in the set $[1,4]$ is the area shaded in orange above."
   ]
  },
  {
   "cell_type": "markdown",
   "metadata": {},
   "source": [
    "<div class=\"alert alert-block alert-warning\">\n",
    "<b>Note:</b> \n",
    "\n",
    "The notation $\\int_{A} \\phi(z) dz$ just means $\\int_{-\\infty}^\\infty I_A(z)\\phi(z) dz$ where the <b>indicator function</b> $I_A(z)$ is 1 if $z\\in A$ and 0 else. In othe words, all we're doing is summing up the $\\phi(x)dx$s where $x \\in A$. That's analogous to summing up the $\\phi(v)$s where $v \\in A$ in the discrete case.\n",
    "\n",
    "</div>"
   ]
  },
  {
   "cell_type": "markdown",
   "metadata": {},
   "source": [
    "<div class=\"alert alert-block alert-info\">\n",
    "<b>Exercise:</b> \n",
    "\n",
    "For our random variable $\\mathbf Z$ with density $\\phi(z) =\\frac{1}{2\\sqrt{10z}}$, what is $P(\\mathbf Z \\in [0, 10])$? Calculate the probability by integrating the density function. Does your answer line up with what you expect based on our original definition of $\\mathbf Z$? \n",
    "    \n",
    "Here is another random variable that, like $\\mathbf Z$, maps outcomes in $\\Omega = [0,1]$ to values in $[0,10]$: $\\mathbf W(\\omega) = 10\\omega$. Calculate $P(\\mathbf W \\in [a,b])$ for some interval $[a,b]$. What is the probability density function for $\\mathbf W$? What is $P(\\mathbf W \\in [0, 10])$?\n",
    "    \n",
    "For <i>any</i> continuous random variable $\\mathbf X$, what is $\\int_{-\\infty}^{\\infty} \\phi(x) dx$ (<i>hint</i>: what probability does this represent)? What is $\\Phi(-\\infty)$? $\\Phi(\\infty)$? \n",
    "    \n",
    "Is it possible to have a random variable $\\mathbf Q$ with $\\phi_{\\mathbf Q}(q) < 0$ for some $q$ that is a possible realization of $\\mathbf Q$? Why does this not make sense?\n",
    "    \n",
    "For two values $a < b$, is it possible that $\\Phi(a) > \\Phi(b)$? Why nor why not?\n",
    "    \n",
    "</div>"
   ]
  },
  {
   "cell_type": "markdown",
   "metadata": {},
   "source": [
    "At this point, talking about the outcomes $\\omega$ is kind of silly. If two random variables have the same probability mass function or the same probability density function, then, for all intents and purposes, they are the same random variable. It doens't matter exactly which outcomes map to which values, as long as the proportions are the same. We already demonstrated this in the discrete case.\n",
    "\n",
    "To show the same concept for continuous random variables, here is a new random variable $\\mathbf Z'$ whose sample space $\\Omega$ is $[-100, 100]$ instead of $[0,1]$, but which has the same probability density function as our other random variable $\\mathbf Z$: \n",
    "\n",
    "$$\n",
    "\\mathbf Z'(\\omega) = 10\\left(\\frac{\\omega+100}{200}\\right)^2\n",
    "$$"
   ]
  },
  {
   "cell_type": "markdown",
   "metadata": {},
   "source": [
    "<div class=\"alert alert-block alert-info\">\n",
    "<b>Exercise:</b> \n",
    "\n",
    "Prove to yourself that $\\mathbf Z'$ has the same probability density function as $\\mathbf Z$.\n",
    "    \n",
    "</div>"
   ]
  },
  {
   "cell_type": "markdown",
   "metadata": {},
   "source": [
    "For this we use the notation $\\mathbf Z \\sim \\mathbf Z'$. Technically they are not the same since the sample spaces are different, so we shouldn't write $\\mathbf Z = \\mathbf Z'$. But as far as an observer who is outside the curtain is concerned, there is no way to tell them apart. The *distribution* of the random variable is what really matters. "
   ]
  },
  {
   "cell_type": "markdown",
   "metadata": {},
   "source": [
    "I think about mass or density functions as convenient abstraction layers between me and the random variable. If I want to know a probability, I don't have to go to the random variable and count up the volume of something in the sample space, I just \"query\" the mass or density. The \"query engine\" happens to be an integral or sum, and the query itself is the region of space that I want to integrate over. In a nutshell:\n",
    "\n",
    "$$\n",
    "\\mathbb P(\\mathbf Z^{-1}(A)) = \\int_A \\phi_{\\mathbf Z}(z) dz\n",
    "\\quad\n",
    "\\text{or}\n",
    "\\quad\n",
    "\\mathbb P(\\mathbf Z^{-1}(A)) = \\sum_{z \\in A} \\phi_{\\mathbf Z}(z)\n",
    "$$"
   ]
  },
  {
   "cell_type": "markdown",
   "metadata": {},
   "source": [
    "So if we have $\\phi_Z$, we don't need to worry about figuring out what $\\mathbf Z^{-1}(A)$ is or how to do the measurement of that set using $\\mathbb P$. Finding preimages and measuring them is hard. Integrating or summing distribution functions is easier.\n"
   ]
  },
  {
   "cell_type": "markdown",
   "metadata": {},
   "source": [
    "### Histograms vs. mass and density functions"
   ]
  },
  {
   "cell_type": "markdown",
   "metadata": {},
   "source": [
    "Many of you are probably already familiar with histograms. Histograms are a way of visualizing observed data. Each observed value is stacked up on top of its approximate label (e.g. any $z$ between 0.5 and 1.5 is labeled \"1\") and the counts are plotted:"
   ]
  },
  {
   "cell_type": "code",
   "execution_count": 59,
   "metadata": {},
   "outputs": [],
   "source": [
    "def Z(ω): \n",
    "    return 10*(ω**2) # when ω goes into the factory, the factory makes ω^2\n",
    "Z.Ω = random.random # returns a single number between 0 and 1 when called\n",
    "\n",
    "def realize_cont(rand_var): # run the assembly line!\n",
    "    ω = Z.Ω() # returns a single number between 0 and 1\n",
    "    return rand_var(ω) # push it through the factory"
   ]
  },
  {
   "cell_type": "code",
   "execution_count": 60,
   "metadata": {},
   "outputs": [
    {
     "data": {
      "application/vnd.vegalite.v3+json": {
       "$schema": "https://vega.github.io/schema/vega-lite/v3.4.0.json",
       "config": {
        "mark": {
         "tooltip": null
        },
        "view": {
         "height": 300,
         "width": 400
        }
       },
       "data": {
        "name": "data-f23849413c5fcd8d425cc26f982e1718"
       },
       "datasets": {
        "data-f23849413c5fcd8d425cc26f982e1718": [
         {
          "z": 4.986730603065521
         },
         {
          "z": 3.975487287936261
         },
         {
          "z": 2.293816318009868
         },
         {
          "z": 8.725761727635373
         },
         {
          "z": 4.302249218545301
         },
         {
          "z": 9.802063576757137
         },
         {
          "z": 3.3139575966340846
         },
         {
          "z": 0.570590306101222
         },
         {
          "z": 0.35221715240429935
         },
         {
          "z": 5.062449879135324
         },
         {
          "z": 5.531980194406043
         },
         {
          "z": 2.74275415319728
         },
         {
          "z": 6.904645511764812
         },
         {
          "z": 1.5783825257201034
         },
         {
          "z": 4.3493272055168735
         },
         {
          "z": 2.6260780508900257
         },
         {
          "z": 9.674917716277172
         },
         {
          "z": 0.8401189414075281
         },
         {
          "z": 9.39359700188594
         },
         {
          "z": 4.680573648000844
         },
         {
          "z": 8.247079250465116
         },
         {
          "z": 1.7666842486607357
         },
         {
          "z": 1.2970219520306472
         },
         {
          "z": 4.8345120743851915
         },
         {
          "z": 9.07210223806236
         },
         {
          "z": 2.559945862790194
         },
         {
          "z": 2.8091120311741182
         },
         {
          "z": 5.005863103292208
         },
         {
          "z": 8.132267032766384
         },
         {
          "z": 8.685990691935379
         },
         {
          "z": 0.976771491266641
         },
         {
          "z": 0.03111939231026606
         },
         {
          "z": 1.1364040658919012
         },
         {
          "z": 0.9538133363313878
         },
         {
          "z": 5.55759107942789
         },
         {
          "z": 4.46503929712719
         },
         {
          "z": 3.255255545580889
         },
         {
          "z": 0.08728104234901879
         },
         {
          "z": 2.1286603977964607
         },
         {
          "z": 6.128371592545452
         },
         {
          "z": 9.194635312050266
         },
         {
          "z": 3.4037109392744567
         },
         {
          "z": 4.95876271545997
         },
         {
          "z": 2.453474293144534
         },
         {
          "z": 0.3823247697160723
         },
         {
          "z": 0.8872701240482045
         },
         {
          "z": 6.391473715975581
         },
         {
          "z": 5.459172253756208
         },
         {
          "z": 1.6056751789500001
         },
         {
          "z": 0.8602630610686751
         },
         {
          "z": 0.21861823515486822
         },
         {
          "z": 0.5184789463698503
         },
         {
          "z": 0.006810717352968766
         },
         {
          "z": 2.8620545046063324
         },
         {
          "z": 8.841969503283742
         },
         {
          "z": 7.760446334615429
         },
         {
          "z": 9.280365223612904
         },
         {
          "z": 3.182543016027081
         },
         {
          "z": 2.6303567566832706
         },
         {
          "z": 4.461526279303841
         },
         {
          "z": 4.130835501334576
         },
         {
          "z": 1.3982100785155542
         },
         {
          "z": 0.028709892301752474
         },
         {
          "z": 5.181555074217826
         },
         {
          "z": 0.1509562758631328
         },
         {
          "z": 7.582468310033644
         },
         {
          "z": 1.5487665567436995
         },
         {
          "z": 5.00167052132528
         },
         {
          "z": 4.089302428948071
         },
         {
          "z": 0.5278341539933805
         },
         {
          "z": 0.06928321581407723
         },
         {
          "z": 0.842236215700213
         },
         {
          "z": 1.6864277287659428
         },
         {
          "z": 5.600086562772297
         },
         {
          "z": 7.906175960477579
         },
         {
          "z": 3.034065670254111
         },
         {
          "z": 5.005603359316455
         },
         {
          "z": 0.3129625118286776
         },
         {
          "z": 7.838462282294367
         },
         {
          "z": 5.799884850134013
         },
         {
          "z": 0.7056979996515327
         },
         {
          "z": 3.8422370247864905
         },
         {
          "z": 6.105895881486814
         },
         {
          "z": 1.5393423233998953
         },
         {
          "z": 7.198610542577976
         },
         {
          "z": 1.5067254902239404
         },
         {
          "z": 8.517404323725298
         },
         {
          "z": 1.762074981320716
         },
         {
          "z": 7.423946030953474
         },
         {
          "z": 5.440441483281323
         },
         {
          "z": 6.611294563563234
         },
         {
          "z": 1.1109335218312009
         },
         {
          "z": 2.076984233792507
         },
         {
          "z": 9.192427941775978
         },
         {
          "z": 2.042462408334556
         },
         {
          "z": 0.017371134865299922
         },
         {
          "z": 1.4852908437541734
         },
         {
          "z": 6.584114847259027
         },
         {
          "z": 1.581306090517679
         },
         {
          "z": 4.020136470830083
         },
         {
          "z": 4.42310054192493
         },
         {
          "z": 0.05188952357135852
         },
         {
          "z": 5.762782429596841
         },
         {
          "z": 5.9576795609834035
         },
         {
          "z": 0.31371363833700683
         },
         {
          "z": 0.3965600768916963
         },
         {
          "z": 6.903147751495896
         },
         {
          "z": 1.177532901232526
         },
         {
          "z": 4.390682919635502
         },
         {
          "z": 5.836327392096533
         },
         {
          "z": 0.12773048485964517
         },
         {
          "z": 1.8386570002823501
         },
         {
          "z": 4.941620414544781
         },
         {
          "z": 1.361724986125775
         },
         {
          "z": 1.6017586267447936
         },
         {
          "z": 4.497190500463709
         },
         {
          "z": 0.00042578675508513335
         },
         {
          "z": 1.5949738336809443
         },
         {
          "z": 7.590884552251805
         },
         {
          "z": 0.6371642234703518
         },
         {
          "z": 7.772801483304402
         },
         {
          "z": 9.41490360017746
         },
         {
          "z": 1.373494105980184
         },
         {
          "z": 0.01193869069323986
         },
         {
          "z": 0.6273590646662773
         },
         {
          "z": 7.4409109761429235
         },
         {
          "z": 6.372804440575946
         },
         {
          "z": 3.977001763624774
         },
         {
          "z": 2.42973576486579
         },
         {
          "z": 8.626964306181716
         },
         {
          "z": 0.03581641477628186
         },
         {
          "z": 6.069712487496002
         },
         {
          "z": 3.0895707852235175
         },
         {
          "z": 8.704119347450934
         },
         {
          "z": 0.020947614298176886
         },
         {
          "z": 4.122925436663192
         },
         {
          "z": 8.84722373910371
         },
         {
          "z": 8.293388288815795
         },
         {
          "z": 8.004549282120323
         },
         {
          "z": 3.385692115713196
         },
         {
          "z": 0.019415310305769325
         },
         {
          "z": 4.543250721193877
         },
         {
          "z": 3.1115434352882696
         },
         {
          "z": 0.1849002677942992
         },
         {
          "z": 2.3308129107471536
         },
         {
          "z": 2.40226551471182
         },
         {
          "z": 0.07621255266111708
         },
         {
          "z": 4.69977107085139
         },
         {
          "z": 4.553279562083744
         },
         {
          "z": 0.8766357287254825
         },
         {
          "z": 2.024996100906606
         },
         {
          "z": 3.6964714205891855
         },
         {
          "z": 0.5842012102153725
         },
         {
          "z": 0.17776152175017365
         },
         {
          "z": 0.21411563960121185
         },
         {
          "z": 1.7133937811766797
         },
         {
          "z": 1.163065758677121
         },
         {
          "z": 0.5111374198458091
         },
         {
          "z": 1.2312819657886667
         },
         {
          "z": 8.949033553791727
         },
         {
          "z": 0.8428510378057781
         },
         {
          "z": 8.653727537765599
         },
         {
          "z": 1.1733027162057215
         },
         {
          "z": 4.6979818583055435
         },
         {
          "z": 0.8224110006553176
         },
         {
          "z": 9.752455580619113
         },
         {
          "z": 3.0815770208315945
         },
         {
          "z": 5.434719891377796
         },
         {
          "z": 2.080178839546191
         },
         {
          "z": 0.47203847134092736
         },
         {
          "z": 2.163378923676021
         },
         {
          "z": 4.053478773196036
         },
         {
          "z": 5.302720297111469
         },
         {
          "z": 2.648191020615184
         },
         {
          "z": 5.30694669525002
         },
         {
          "z": 1.5928009941201895
         },
         {
          "z": 0.4114142866169639
         },
         {
          "z": 0.30140240499859855
         },
         {
          "z": 9.502082808483298
         },
         {
          "z": 0.19940547083906485
         },
         {
          "z": 1.300394162922769
         },
         {
          "z": 0.04457341231611922
         },
         {
          "z": 6.45524915436909
         },
         {
          "z": 4.449545927731566
         },
         {
          "z": 2.1078113621768515
         },
         {
          "z": 1.4233807684016921
         },
         {
          "z": 0.7686624389141887
         },
         {
          "z": 0.12878906505320786
         },
         {
          "z": 0.03635976669780862
         },
         {
          "z": 2.379923590544903
         },
         {
          "z": 6.1029242378584385
         },
         {
          "z": 0.5830117678647496
         },
         {
          "z": 0.027546445626436357
         },
         {
          "z": 5.755590156220847
         },
         {
          "z": 4.605993092809858
         },
         {
          "z": 4.158939897655531
         },
         {
          "z": 0.23901125356776218
         },
         {
          "z": 0.6120964668876865
         },
         {
          "z": 8.65375277576311
         },
         {
          "z": 3.3323268648698234
         },
         {
          "z": 1.8317054717739034
         },
         {
          "z": 9.16407663961566
         },
         {
          "z": 0.4953453971676066
         },
         {
          "z": 0.3871659920235051
         },
         {
          "z": 0.039427454290307626
         },
         {
          "z": 1.7899247577794255
         },
         {
          "z": 0.7269216095199007
         },
         {
          "z": 0.04205060278274362
         },
         {
          "z": 0.6359758874086141
         },
         {
          "z": 2.326130724708611
         },
         {
          "z": 0.08261033043954565
         },
         {
          "z": 0.000644655599947669
         },
         {
          "z": 8.419114796323608
         },
         {
          "z": 8.292858860573176
         },
         {
          "z": 9.877344975652406
         },
         {
          "z": 0.06425891367475518
         },
         {
          "z": 2.176337691620102
         },
         {
          "z": 5.373127794468786
         },
         {
          "z": 3.789341016812664
         },
         {
          "z": 3.2719341495939576
         },
         {
          "z": 2.2608718217273576
         },
         {
          "z": 1.1228744233510461
         },
         {
          "z": 4.726401907350684
         },
         {
          "z": 1.7268238377181302
         },
         {
          "z": 7.370978353467594
         },
         {
          "z": 3.4851269717018036
         },
         {
          "z": 0.07763422997482822
         },
         {
          "z": 3.9510699159882856
         },
         {
          "z": 6.4298710889916
         },
         {
          "z": 0.003012107388158454
         },
         {
          "z": 0.02609207656198377
         },
         {
          "z": 3.7818566348100062
         },
         {
          "z": 8.765221909354747
         },
         {
          "z": 5.993247044797602
         },
         {
          "z": 0.2743298948070757
         },
         {
          "z": 0.11851440395323579
         },
         {
          "z": 9.418059306281613
         },
         {
          "z": 8.562337844509804
         },
         {
          "z": 0.24340409554305942
         },
         {
          "z": 9.613881317281676
         },
         {
          "z": 1.8748735416076916
         },
         {
          "z": 6.052762825757521
         },
         {
          "z": 1.6775683219233044
         },
         {
          "z": 0.4373550921787277
         },
         {
          "z": 5.997745332694398
         },
         {
          "z": 0.009807000757207245
         },
         {
          "z": 4.204261817370428
         },
         {
          "z": 1.6911256165389565
         },
         {
          "z": 0.21641235371054166
         },
         {
          "z": 2.515785340764496
         },
         {
          "z": 1.1996610267719117
         },
         {
          "z": 4.73532462418006
         },
         {
          "z": 1.0374444513807886
         },
         {
          "z": 6.401930332780226
         },
         {
          "z": 0.11425779253795224
         },
         {
          "z": 5.030356850605552
         },
         {
          "z": 0.00010032591069143716
         },
         {
          "z": 0.09076041104400677
         },
         {
          "z": 0.011006995407947893
         },
         {
          "z": 0.44795984244508763
         },
         {
          "z": 0.4465835204459656
         },
         {
          "z": 0.0569154363102288
         },
         {
          "z": 8.424491888787735
         },
         {
          "z": 1.2674777376234023
         },
         {
          "z": 1.231114851172394
         },
         {
          "z": 0.36123101349000847
         },
         {
          "z": 2.3889108016073575
         },
         {
          "z": 0.22851888283960384
         },
         {
          "z": 2.228752356456113
         },
         {
          "z": 3.55431001898253
         },
         {
          "z": 2.455281430141301
         },
         {
          "z": 4.385891737066866
         },
         {
          "z": 0.6434952120564872
         },
         {
          "z": 2.634730515826131
         },
         {
          "z": 0.049494000732137826
         },
         {
          "z": 5.244094885078116
         },
         {
          "z": 1.2796945732707021
         },
         {
          "z": 1.330770251149106
         },
         {
          "z": 0.07263426806134274
         },
         {
          "z": 0.03960076592491351
         },
         {
          "z": 8.339773882786524
         },
         {
          "z": 9.122333688915742
         },
         {
          "z": 5.577273697250293
         },
         {
          "z": 2.9607382434094425
         },
         {
          "z": 0.1561787027668126
         },
         {
          "z": 3.3302376307376633
         },
         {
          "z": 0.0035277037228468302
         },
         {
          "z": 7.390768470007119
         },
         {
          "z": 1.5263710048600363
         },
         {
          "z": 7.569459941778942
         },
         {
          "z": 0.836989596255372
         },
         {
          "z": 0.23763857776426808
         },
         {
          "z": 3.2313383070965878
         },
         {
          "z": 7.234127644162516
         },
         {
          "z": 4.41033154013022
         },
         {
          "z": 4.658977586136219
         },
         {
          "z": 7.7520667209105145
         },
         {
          "z": 0.1447240180290085
         },
         {
          "z": 8.297430099909436
         },
         {
          "z": 9.271092491345161
         },
         {
          "z": 9.59771902763917
         },
         {
          "z": 0.292203106115101
         },
         {
          "z": 9.81506625885067
         },
         {
          "z": 1.6963388922282991
         },
         {
          "z": 8.659956403955237
         },
         {
          "z": 2.2683756152260743
         },
         {
          "z": 0.0007072563954896846
         },
         {
          "z": 0.11979061726430136
         },
         {
          "z": 1.6813257973301285
         },
         {
          "z": 9.887151893315556
         },
         {
          "z": 0.39858171804373593
         },
         {
          "z": 0.021054094607699025
         },
         {
          "z": 0.4373334441424129
         },
         {
          "z": 1.61140171212615
         },
         {
          "z": 8.35320127686346
         },
         {
          "z": 0.519222531247001
         },
         {
          "z": 3.4174098459916644
         },
         {
          "z": 0.10435130625023673
         },
         {
          "z": 0.6578761297568979
         },
         {
          "z": 3.895910041154865
         },
         {
          "z": 8.109941412788377
         },
         {
          "z": 7.937564422041678
         },
         {
          "z": 9.798829790151764
         },
         {
          "z": 2.01066298242692
         },
         {
          "z": 2.7565300749646
         },
         {
          "z": 8.449927887881932
         },
         {
          "z": 1.6960415183022821
         },
         {
          "z": 0.8514435649856923
         },
         {
          "z": 3.2450552312414698
         },
         {
          "z": 0.7861239036831501
         },
         {
          "z": 9.236374141512702
         },
         {
          "z": 3.9046897722034517
         },
         {
          "z": 6.8229216917824775
         },
         {
          "z": 6.328884372554623
         },
         {
          "z": 0.05385678757101868
         },
         {
          "z": 2.8754102720222097
         },
         {
          "z": 0.4186287676939838
         },
         {
          "z": 4.455893902815223
         },
         {
          "z": 8.737825755716248
         },
         {
          "z": 6.072570435802889
         },
         {
          "z": 9.24423207799717
         },
         {
          "z": 0.587476256873176
         },
         {
          "z": 5.925779724397517
         },
         {
          "z": 9.136007934889465
         },
         {
          "z": 0.46054008671301655
         },
         {
          "z": 3.713177031279571
         },
         {
          "z": 6.855994648367391
         },
         {
          "z": 9.424866917630478
         },
         {
          "z": 0.5084337619304492
         },
         {
          "z": 7.8128010661986425
         },
         {
          "z": 1.6293743788224202
         },
         {
          "z": 0.38128214125736537
         },
         {
          "z": 8.477922564497485
         },
         {
          "z": 1.4690433608517588
         },
         {
          "z": 1.5416358569854225
         },
         {
          "z": 3.879504023322313
         },
         {
          "z": 0.48354726244847773
         },
         {
          "z": 0.1684973383050721
         },
         {
          "z": 6.137997496874324
         },
         {
          "z": 5.153928225216184
         },
         {
          "z": 9.649045300582435
         },
         {
          "z": 7.664720514133113
         },
         {
          "z": 3.096243652963919
         },
         {
          "z": 9.87246813183753
         },
         {
          "z": 2.3846672173055468
         },
         {
          "z": 2.7724736464336024
         },
         {
          "z": 0.06626610073440901
         },
         {
          "z": 6.495521112561413
         },
         {
          "z": 0.012198953404652439
         },
         {
          "z": 6.369926461681443
         },
         {
          "z": 2.0953972821295213
         },
         {
          "z": 0.4303989574287581
         },
         {
          "z": 1.6679556898888401
         },
         {
          "z": 0.8817383711173783
         },
         {
          "z": 8.444074377449892
         },
         {
          "z": 0.007830698998640945
         },
         {
          "z": 4.297028320510485
         },
         {
          "z": 0.2777011108266457
         },
         {
          "z": 1.216035858938303
         },
         {
          "z": 1.75218541108922
         },
         {
          "z": 2.49967405399776
         },
         {
          "z": 0.22517832456403974
         },
         {
          "z": 1.493205130210993
         },
         {
          "z": 0.11216206975493931
         },
         {
          "z": 1.8394665548437692
         },
         {
          "z": 0.5617257237065078
         },
         {
          "z": 1.9518507491594344
         },
         {
          "z": 3.519573171791874
         },
         {
          "z": 3.8407573148171945
         },
         {
          "z": 1.0406120926641266e-05
         },
         {
          "z": 9.87221456875269
         },
         {
          "z": 0.04747347261446253
         },
         {
          "z": 0.935525115361674
         },
         {
          "z": 5.765157079789502
         },
         {
          "z": 2.1020635393381273
         },
         {
          "z": 0.31975508226986005
         },
         {
          "z": 0.9388021457759081
         },
         {
          "z": 6.255175605925452
         },
         {
          "z": 4.1758432649360095
         },
         {
          "z": 0.9856340886287078
         },
         {
          "z": 1.361563406074819
         },
         {
          "z": 0.7316273087335676
         },
         {
          "z": 1.3452923520698419
         },
         {
          "z": 3.4217770228241955
         },
         {
          "z": 0.5970255649370921
         },
         {
          "z": 2.0626234896997806
         },
         {
          "z": 0.38727499584869407
         },
         {
          "z": 1.194697293075707
         },
         {
          "z": 0.5566149053127387
         },
         {
          "z": 0.5604166476208016
         },
         {
          "z": 1.6528552154234333
         },
         {
          "z": 7.023076671030975
         },
         {
          "z": 2.1892792411850888
         },
         {
          "z": 6.739737090132191
         },
         {
          "z": 9.459366105605996
         },
         {
          "z": 1.7363052710421147
         },
         {
          "z": 0.04586611390201067
         },
         {
          "z": 0.010310048680837874
         },
         {
          "z": 6.748398821578746
         },
         {
          "z": 2.334546485334627
         },
         {
          "z": 8.667492763103072
         },
         {
          "z": 1.8478343118897034
         },
         {
          "z": 2.580755328269026
         },
         {
          "z": 0.008012767282550213
         },
         {
          "z": 5.3433968577545805
         },
         {
          "z": 4.955630339513075
         },
         {
          "z": 2.7262051199488275
         },
         {
          "z": 3.9320232080829247
         },
         {
          "z": 9.918532623074459
         },
         {
          "z": 0.6056809103772561
         },
         {
          "z": 0.017829443013166895
         },
         {
          "z": 2.389470728477841
         },
         {
          "z": 6.322405796688214
         },
         {
          "z": 0.024002022653115542
         },
         {
          "z": 7.005528878012525
         },
         {
          "z": 0.8265932813991759
         },
         {
          "z": 2.528761910597932
         },
         {
          "z": 4.971513551995278
         },
         {
          "z": 0.33273204692460034
         },
         {
          "z": 7.644042430216253e-05
         },
         {
          "z": 0.2475014595089725
         },
         {
          "z": 3.5072336809611566
         },
         {
          "z": 3.45281189605915
         },
         {
          "z": 0.011620711540179787
         },
         {
          "z": 0.23347173417733696
         },
         {
          "z": 7.596531585274033
         },
         {
          "z": 0.9244556259534622
         },
         {
          "z": 4.401645532583938
         },
         {
          "z": 8.62786804069321
         },
         {
          "z": 1.235795588528412
         },
         {
          "z": 2.5275148793144786
         },
         {
          "z": 8.632412033383254
         },
         {
          "z": 9.617389503120412
         },
         {
          "z": 2.7916558216787744
         },
         {
          "z": 0.095539482790881
         },
         {
          "z": 0.08957266284517519
         },
         {
          "z": 5.3658037029906325
         },
         {
          "z": 6.60006377698204
         },
         {
          "z": 2.6118720291843327
         },
         {
          "z": 2.7125807667089052
         },
         {
          "z": 0.36927659998527324
         },
         {
          "z": 7.580387012960835
         },
         {
          "z": 5.1327699811666285
         },
         {
          "z": 7.449305494591739
         },
         {
          "z": 5.457081570389104
         },
         {
          "z": 3.7781312804914897
         },
         {
          "z": 0.8054165428954229
         },
         {
          "z": 0.47303610238735705
         },
         {
          "z": 5.110265055150046
         },
         {
          "z": 0.0009471296657840466
         },
         {
          "z": 4.4868435112161595
         },
         {
          "z": 1.8195447232533157
         },
         {
          "z": 4.305280381805734
         },
         {
          "z": 1.8110997966525324
         },
         {
          "z": 2.459640633911179
         },
         {
          "z": 0.4785203465399918
         },
         {
          "z": 0.6839224760798976
         },
         {
          "z": 0.36001601664051597
         },
         {
          "z": 0.7057441084858858
         },
         {
          "z": 4.377355546717888
         },
         {
          "z": 1.3627455394855312
         },
         {
          "z": 2.569920404484084
         },
         {
          "z": 1.3276281670229817
         },
         {
          "z": 0.24441336093322524
         },
         {
          "z": 0.3697266767684343
         },
         {
          "z": 0.06677300114197958
         },
         {
          "z": 0.001940200326287656
         },
         {
          "z": 1.958960470542013
         },
         {
          "z": 1.9871388425389178
         },
         {
          "z": 6.518568564532656
         },
         {
          "z": 0.82243143529943
         },
         {
          "z": 0.04806823790956287
         },
         {
          "z": 0.4623775542021473
         },
         {
          "z": 4.164449930383643
         },
         {
          "z": 0.05258170753550201
         },
         {
          "z": 8.935366442452557
         },
         {
          "z": 0.8173256906574571
         },
         {
          "z": 5.198703401471074
         },
         {
          "z": 3.4426511358815666
         },
         {
          "z": 3.28909402772821
         },
         {
          "z": 0.023123492834999235
         },
         {
          "z": 0.15120701046374746
         },
         {
          "z": 2.463164967605541
         },
         {
          "z": 0.8705863294342593
         },
         {
          "z": 5.017975025496687
         },
         {
          "z": 9.977034646359701
         },
         {
          "z": 0.006326525183600504
         },
         {
          "z": 0.5354298849277895
         },
         {
          "z": 4.533655039897096
         },
         {
          "z": 2.321614952374376
         },
         {
          "z": 4.605714317908686
         },
         {
          "z": 5.788563252664641
         },
         {
          "z": 5.920561503696441
         },
         {
          "z": 2.079557563545152
         },
         {
          "z": 1.390112813400362
         },
         {
          "z": 3.44574842743394
         },
         {
          "z": 4.830999414166855
         },
         {
          "z": 4.3126027120408015
         },
         {
          "z": 2.4345409938354234
         },
         {
          "z": 0.004934883124198024
         },
         {
          "z": 3.946536805039055
         },
         {
          "z": 0.07961394748241715
         },
         {
          "z": 2.9100119320754474
         },
         {
          "z": 0.005582064608702235
         },
         {
          "z": 2.800281053222917
         },
         {
          "z": 9.647002188365814
         },
         {
          "z": 4.830542544165836
         },
         {
          "z": 3.0873170769883633
         },
         {
          "z": 0.7231994002103903
         },
         {
          "z": 5.5703227512599005
         },
         {
          "z": 6.208027137052786
         },
         {
          "z": 9.440849515734897
         },
         {
          "z": 0.6622218294637952
         },
         {
          "z": 0.40025570251506387
         },
         {
          "z": 0.5048941073823414
         },
         {
          "z": 4.939413460185652
         },
         {
          "z": 0.5032281384627865
         },
         {
          "z": 0.6466347982166581
         },
         {
          "z": 1.254356212381401
         },
         {
          "z": 3.6077351319076687
         },
         {
          "z": 5.773372981518854
         },
         {
          "z": 5.1015802826241075
         },
         {
          "z": 0.10729496950603037
         },
         {
          "z": 0.0161446643296248
         },
         {
          "z": 5.17397342169997
         },
         {
          "z": 3.0279105694041912
         },
         {
          "z": 8.988062513811995
         },
         {
          "z": 1.5139459909684982
         },
         {
          "z": 6.156821291590431
         },
         {
          "z": 1.0096569489513607
         },
         {
          "z": 6.242874389564234
         },
         {
          "z": 9.108698791288056
         },
         {
          "z": 2.8045586684248707
         },
         {
          "z": 9.91365457071905
         },
         {
          "z": 1.2601081954993578
         },
         {
          "z": 0.9324922878182544
         },
         {
          "z": 8.200118038157347
         },
         {
          "z": 5.68131003882269
         },
         {
          "z": 0.022771687398877208
         },
         {
          "z": 7.035867637588531
         },
         {
          "z": 3.1253858187623567
         },
         {
          "z": 3.2782725695557557
         },
         {
          "z": 4.345842015995872
         },
         {
          "z": 6.820025050978666
         },
         {
          "z": 4.66901570736516
         },
         {
          "z": 5.743506366723047e-07
         },
         {
          "z": 0.007916836102851417
         },
         {
          "z": 2.0074829897310593
         },
         {
          "z": 2.857461794881239
         },
         {
          "z": 1.8283550785686762
         },
         {
          "z": 6.373346345615726
         },
         {
          "z": 1.2226287790923733
         },
         {
          "z": 3.6932662560441187
         },
         {
          "z": 2.844080795345856
         },
         {
          "z": 8.117115734198881
         },
         {
          "z": 2.7733423929085363
         },
         {
          "z": 1.0624821270808353
         },
         {
          "z": 0.326368166557863
         },
         {
          "z": 0.052332961202136166
         },
         {
          "z": 2.7123511481838376
         },
         {
          "z": 2.5447975267721734
         },
         {
          "z": 0.3314340816219177
         },
         {
          "z": 6.478490587725796
         },
         {
          "z": 0.6539249283099846
         },
         {
          "z": 3.1095505065595375
         },
         {
          "z": 9.731537077947284
         },
         {
          "z": 1.2121550673596106
         },
         {
          "z": 2.220216788634694
         },
         {
          "z": 0.1337004677159105
         },
         {
          "z": 3.8820950064344033
         },
         {
          "z": 6.706800839694073
         },
         {
          "z": 9.640867925358316
         },
         {
          "z": 7.527741804438339
         },
         {
          "z": 0.009464007555971363
         },
         {
          "z": 9.435148474772717
         },
         {
          "z": 3.782568732070701
         },
         {
          "z": 4.1215715997013715
         },
         {
          "z": 7.899496617957413
         },
         {
          "z": 3.1973002789201828
         },
         {
          "z": 0.07729220660163796
         },
         {
          "z": 2.9720592117233235
         },
         {
          "z": 7.272555970646732
         },
         {
          "z": 9.143162046172167
         },
         {
          "z": 0.5101700188920252
         },
         {
          "z": 3.652504859748291
         },
         {
          "z": 0.49012016183935797
         },
         {
          "z": 4.737261816939562
         },
         {
          "z": 9.38633681978314
         },
         {
          "z": 9.911024853942635
         },
         {
          "z": 0.07290725132998106
         },
         {
          "z": 0.11934726516105672
         },
         {
          "z": 3.4766241054508615
         },
         {
          "z": 3.826048742371583
         },
         {
          "z": 9.232079441468594
         },
         {
          "z": 1.629390544282002
         },
         {
          "z": 3.232084507957153
         },
         {
          "z": 2.2715007649119383
         },
         {
          "z": 0.22495964876121735
         },
         {
          "z": 0.605121379414495
         },
         {
          "z": 2.498304708601409
         },
         {
          "z": 8.51176533431127
         },
         {
          "z": 7.275233634320351
         },
         {
          "z": 9.082580090752659
         },
         {
          "z": 0.4989672485881269
         },
         {
          "z": 5.4885013352312
         },
         {
          "z": 9.527774750715952
         },
         {
          "z": 0.000724156975554903
         },
         {
          "z": 0.7765633085868701
         },
         {
          "z": 0.9950114183593985
         },
         {
          "z": 5.052654779133362
         },
         {
          "z": 5.085234941547774
         },
         {
          "z": 6.529240642502892
         },
         {
          "z": 3.3854352915959387
         },
         {
          "z": 1.0348890210430346
         },
         {
          "z": 0.5885144617622838
         },
         {
          "z": 3.3001064444747685
         },
         {
          "z": 5.785136060231495
         },
         {
          "z": 6.213501094415118
         },
         {
          "z": 7.392636258780103
         },
         {
          "z": 0.022047126157734985
         },
         {
          "z": 4.1691860654653
         },
         {
          "z": 3.673296593288429
         },
         {
          "z": 1.136439257197278
         },
         {
          "z": 8.828533431985408
         },
         {
          "z": 0.3640312587651495
         },
         {
          "z": 2.5497037261040085
         },
         {
          "z": 0.007468301377346673
         },
         {
          "z": 3.2690766930946067
         },
         {
          "z": 4.227648864437923
         },
         {
          "z": 7.493216766016615
         },
         {
          "z": 4.897960890114825
         },
         {
          "z": 9.370283068580655
         },
         {
          "z": 0.0012818664848353032
         },
         {
          "z": 2.222825212967658
         },
         {
          "z": 3.367257703830857
         },
         {
          "z": 0.6829381871763296
         },
         {
          "z": 7.211681628217913
         },
         {
          "z": 1.6114982659411594
         },
         {
          "z": 3.9633763199104415
         },
         {
          "z": 8.38403330168082
         },
         {
          "z": 5.988655991246739
         },
         {
          "z": 1.1435897277945681
         },
         {
          "z": 0.032636884991413574
         },
         {
          "z": 1.749676908688511
         },
         {
          "z": 1.729865086891583
         },
         {
          "z": 1.7074600619748561
         },
         {
          "z": 0.0625720732871864
         },
         {
          "z": 4.557329380882648
         },
         {
          "z": 2.1237004736001754
         },
         {
          "z": 2.680764418409636
         },
         {
          "z": 0.09860753016630991
         },
         {
          "z": 0.551584101023812
         },
         {
          "z": 0.030890896989121668
         },
         {
          "z": 0.11035444241672684
         },
         {
          "z": 2.1785389268830233
         },
         {
          "z": 0.9019301205488138
         },
         {
          "z": 0.030955480006401775
         },
         {
          "z": 6.876035541473215
         },
         {
          "z": 5.316453745100715
         },
         {
          "z": 4.995193945318157
         },
         {
          "z": 1.5569039098030832
         },
         {
          "z": 0.08128281003073697
         },
         {
          "z": 2.8340064524387416
         },
         {
          "z": 5.834603893555757
         },
         {
          "z": 1.6607883570122675
         },
         {
          "z": 8.301998497139667
         },
         {
          "z": 1.428557569293313
         },
         {
          "z": 0.15402099676951825
         },
         {
          "z": 4.93547208834225
         },
         {
          "z": 2.1094414572387015
         },
         {
          "z": 2.612876704004114
         },
         {
          "z": 0.7393274684998927
         },
         {
          "z": 1.244048203340075
         },
         {
          "z": 2.096693288814569
         },
         {
          "z": 6.308763902198654
         },
         {
          "z": 3.9108248653085624
         },
         {
          "z": 0.7380615455008467
         },
         {
          "z": 9.934746407097277
         },
         {
          "z": 1.2481328781262644
         },
         {
          "z": 0.16281144400961667
         },
         {
          "z": 1.3387043613175555
         },
         {
          "z": 0.04787333361869504
         },
         {
          "z": 0.1571614155867043
         },
         {
          "z": 6.572624498393723
         },
         {
          "z": 0.6317132466278398
         },
         {
          "z": 7.682750233199709
         },
         {
          "z": 8.231188477753763
         },
         {
          "z": 7.319142914105586
         },
         {
          "z": 0.3431207963615336
         },
         {
          "z": 2.489141660139661
         },
         {
          "z": 0.2223332488682506
         },
         {
          "z": 0.425651110355751
         },
         {
          "z": 0.06230340761667784
         },
         {
          "z": 0.26040667820817087
         },
         {
          "z": 6.660038567601076
         },
         {
          "z": 9.410517932016278
         },
         {
          "z": 2.6833985268568865
         },
         {
          "z": 3.4740755590312533
         },
         {
          "z": 0.04138440355139679
         },
         {
          "z": 5.130493733489061
         },
         {
          "z": 2.002960317278803
         },
         {
          "z": 0.006820426527869668
         },
         {
          "z": 0.07410197395964913
         },
         {
          "z": 4.4815902874557985
         },
         {
          "z": 0.37842297841456046
         },
         {
          "z": 9.000287760197773
         },
         {
          "z": 7.221007394942676
         },
         {
          "z": 3.304269290174386
         },
         {
          "z": 8.959879055924148
         },
         {
          "z": 0.42412017888279746
         },
         {
          "z": 7.913268142993805
         },
         {
          "z": 1.7580534895373887
         },
         {
          "z": 1.2462248241354936
         },
         {
          "z": 2.5275338814162502
         },
         {
          "z": 0.9138636399790717
         },
         {
          "z": 0.5686634195430008
         },
         {
          "z": 3.1513494546150533
         },
         {
          "z": 2.216589712389668
         },
         {
          "z": 0.6862886106352128
         },
         {
          "z": 6.266759521915501
         },
         {
          "z": 0.22232618407312077
         },
         {
          "z": 1.5160204715558392
         },
         {
          "z": 9.428572368110226
         },
         {
          "z": 0.022196212586871596
         },
         {
          "z": 6.624558372576127
         },
         {
          "z": 5.7084764566024155
         },
         {
          "z": 3.297475658715783
         },
         {
          "z": 0.007113952373840498
         },
         {
          "z": 0.47570924641693046
         },
         {
          "z": 3.6408012973174655
         },
         {
          "z": 0.32481126604401933
         },
         {
          "z": 0.5080668475117917
         },
         {
          "z": 1.382489243734716
         },
         {
          "z": 6.217166090911749
         },
         {
          "z": 2.946941725057655
         },
         {
          "z": 0.9140773897679217
         },
         {
          "z": 0.003990692611681234
         },
         {
          "z": 2.5690121334167055
         },
         {
          "z": 8.13976715762775
         },
         {
          "z": 1.684089432309557
         },
         {
          "z": 0.4072951406101805
         },
         {
          "z": 1.3512534742040219
         },
         {
          "z": 1.5222644015484053
         },
         {
          "z": 1.3567019834732474
         },
         {
          "z": 1.3610204950334173
         },
         {
          "z": 0.8939596559517671
         },
         {
          "z": 0.2580240319626066
         },
         {
          "z": 0.005884698319917138
         },
         {
          "z": 5.105117545406033
         },
         {
          "z": 1.917835562418135
         },
         {
          "z": 0.8525528953016214
         },
         {
          "z": 1.4731966585033283
         },
         {
          "z": 9.419412503242517
         },
         {
          "z": 0.7618378162605086
         },
         {
          "z": 7.361865324187723
         },
         {
          "z": 0.8029672625788399
         },
         {
          "z": 0.6879472515391791
         },
         {
          "z": 9.077890363281599
         },
         {
          "z": 1.8967530009339681
         },
         {
          "z": 1.4450195100331973
         },
         {
          "z": 5.112588559631411
         },
         {
          "z": 1.4337282773645459
         },
         {
          "z": 0.4174909880219577
         },
         {
          "z": 2.8753771264920474
         },
         {
          "z": 0.019256432184159622
         },
         {
          "z": 1.4478125557716595
         },
         {
          "z": 5.922195546817736
         },
         {
          "z": 3.9251531578333014
         },
         {
          "z": 7.636449788644736
         },
         {
          "z": 1.0131559816692053
         },
         {
          "z": 6.343189183951346
         },
         {
          "z": 4.932463525446967
         },
         {
          "z": 0.1105140263861841
         },
         {
          "z": 5.794794888957657
         },
         {
          "z": 1.0365087505118191
         },
         {
          "z": 0.5433149164120028
         },
         {
          "z": 6.164655480100634
         },
         {
          "z": 3.0885365350411167
         },
         {
          "z": 0.5486183840187268
         },
         {
          "z": 5.396112119401232
         },
         {
          "z": 8.125849530051667
         },
         {
          "z": 4.164451548863961
         },
         {
          "z": 0.2817510143744539
         },
         {
          "z": 0.06627607266363732
         },
         {
          "z": 7.627954993451368
         },
         {
          "z": 1.2771860906990966
         },
         {
          "z": 6.996781107774543
         },
         {
          "z": 1.2374808025276804
         },
         {
          "z": 3.472764241902733
         },
         {
          "z": 5.838867147031191
         },
         {
          "z": 0.20869645932447664
         },
         {
          "z": 1.6548891951665043
         },
         {
          "z": 1.7797421241682077
         },
         {
          "z": 3.033816088859468
         },
         {
          "z": 2.3164342986452198
         },
         {
          "z": 7.226285261667067
         },
         {
          "z": 4.839625354055847
         },
         {
          "z": 4.805522757018141
         },
         {
          "z": 3.69127562876572
         },
         {
          "z": 0.4305943970804129
         },
         {
          "z": 1.2512484252158707
         },
         {
          "z": 1.0961796142370948
         },
         {
          "z": 2.663790706882643
         },
         {
          "z": 6.51390909558832
         },
         {
          "z": 8.689438708446222
         },
         {
          "z": 6.010590638470371
         },
         {
          "z": 6.296957825141827
         },
         {
          "z": 0.002718791859665914
         },
         {
          "z": 1.1963123872224786
         },
         {
          "z": 3.221083899454142
         },
         {
          "z": 1.0334179455827928
         },
         {
          "z": 9.050477586866782
         },
         {
          "z": 1.5349209564378754
         },
         {
          "z": 3.8045919081898676
         },
         {
          "z": 0.1737330269870295
         },
         {
          "z": 3.0247842847899173
         },
         {
          "z": 0.04622102348458016
         },
         {
          "z": 0.6395392923586213
         },
         {
          "z": 0.0010422071721352222
         },
         {
          "z": 0.3981852195321908
         },
         {
          "z": 3.588234293678388
         },
         {
          "z": 0.913837810747232
         },
         {
          "z": 2.1397566570300626
         },
         {
          "z": 4.637522118514023
         },
         {
          "z": 0.12589039634799765
         },
         {
          "z": 2.8796955301236156
         },
         {
          "z": 1.6991085099775787
         },
         {
          "z": 1.3607620057270493
         },
         {
          "z": 0.45134699889173985
         },
         {
          "z": 4.97107786149411
         },
         {
          "z": 5.38972363134366
         },
         {
          "z": 3.513116550813991
         },
         {
          "z": 3.841574612838643
         },
         {
          "z": 1.8783897583121183
         },
         {
          "z": 3.7275799379712904
         },
         {
          "z": 8.124297825275969
         },
         {
          "z": 0.24379354898345706
         },
         {
          "z": 5.345129361208121
         },
         {
          "z": 0.3326333235802654
         },
         {
          "z": 0.9860823150500163
         },
         {
          "z": 0.39320669862529267
         },
         {
          "z": 4.309658057341395
         },
         {
          "z": 7.519186156480754
         },
         {
          "z": 5.478464106042736
         },
         {
          "z": 0.12009822122102609
         },
         {
          "z": 7.597011458305795
         },
         {
          "z": 1.2426289360771694
         },
         {
          "z": 0.7590239637479873
         },
         {
          "z": 0.2568226249358529
         },
         {
          "z": 7.2371510201842195
         },
         {
          "z": 0.2458883443467103
         },
         {
          "z": 6.603884222656992
         },
         {
          "z": 9.171573547531178
         },
         {
          "z": 8.382183230674002
         },
         {
          "z": 3.2086208886849708
         },
         {
          "z": 5.280899848911452
         },
         {
          "z": 0.2249002998460087
         },
         {
          "z": 2.5353976900760506
         },
         {
          "z": 0.15314157683906263
         },
         {
          "z": 0.19641802231850788
         },
         {
          "z": 0.2371235836244407
         },
         {
          "z": 0.2401851929635226
         },
         {
          "z": 5.771398229870165
         },
         {
          "z": 3.529966038984435
         },
         {
          "z": 9.861563418792572
         },
         {
          "z": 8.008750620815194
         },
         {
          "z": 3.817910087661866
         },
         {
          "z": 6.929762621726229
         },
         {
          "z": 0.013268616193951182
         },
         {
          "z": 5.169296102936808
         },
         {
          "z": 0.010075636995347264
         },
         {
          "z": 9.995094618133525
         },
         {
          "z": 2.408674802606204
         },
         {
          "z": 5.750045313746513
         },
         {
          "z": 9.76100933633265
         },
         {
          "z": 1.4497110071019077
         },
         {
          "z": 2.446554731837528
         },
         {
          "z": 2.71350769276192
         },
         {
          "z": 0.16614326406026236
         },
         {
          "z": 0.014761928655482105
         },
         {
          "z": 6.2680390489466
         },
         {
          "z": 1.9566890941067219
         },
         {
          "z": 0.38244049024192417
         },
         {
          "z": 6.742941440788092
         },
         {
          "z": 0.18513323667476705
         },
         {
          "z": 0.18075730655136812
         },
         {
          "z": 4.705521232723526
         },
         {
          "z": 1.94871685442837
         },
         {
          "z": 1.9857086404871365
         },
         {
          "z": 0.22428709705072597
         },
         {
          "z": 0.002643573521108884
         },
         {
          "z": 0.29547426028143736
         },
         {
          "z": 8.007258555161599
         },
         {
          "z": 6.04360377414455
         },
         {
          "z": 5.476050790608964
         },
         {
          "z": 0.6742626994530903
         },
         {
          "z": 8.294150179184847
         },
         {
          "z": 9.188887567074289
         },
         {
          "z": 0.5831827859051555
         },
         {
          "z": 1.1849509948132677
         },
         {
          "z": 3.8883025042067034
         },
         {
          "z": 2.0834171602411455
         },
         {
          "z": 3.1873031766863424
         },
         {
          "z": 0.8760894073003734
         },
         {
          "z": 1.2220056289114136
         },
         {
          "z": 2.6425248617995054
         },
         {
          "z": 0.5502202518543235
         },
         {
          "z": 9.465939933983684
         },
         {
          "z": 3.587222066751913
         },
         {
          "z": 0.43845781791135346
         },
         {
          "z": 5.010882326446202
         },
         {
          "z": 9.122466377199759
         },
         {
          "z": 4.483342409690467
         },
         {
          "z": 4.749769949604175
         },
         {
          "z": 7.202952065108333
         },
         {
          "z": 1.4845384751196942
         },
         {
          "z": 2.4148137162353103
         },
         {
          "z": 8.302004233019264
         },
         {
          "z": 1.004244845278614
         },
         {
          "z": 1.0886805550369758
         },
         {
          "z": 0.9105982185174465
         },
         {
          "z": 8.809850545843185
         },
         {
          "z": 7.441339668657458
         },
         {
          "z": 7.217091655362722
         },
         {
          "z": 0.7304474799572092
         },
         {
          "z": 9.997885383590093
         },
         {
          "z": 0.4618591049800622
         },
         {
          "z": 0.1656619375204984
         },
         {
          "z": 0.03125108007203898
         },
         {
          "z": 1.5173828823830147
         },
         {
          "z": 4.831689805514178
         },
         {
          "z": 1.6355323311055963
         },
         {
          "z": 1.1900201995614925
         },
         {
          "z": 3.4111728833900696
         },
         {
          "z": 1.252350174214264
         },
         {
          "z": 3.073337000283795
         },
         {
          "z": 2.933761691727424
         },
         {
          "z": 8.851466865749092
         },
         {
          "z": 1.6201830759105629
         },
         {
          "z": 0.3145141964629434
         },
         {
          "z": 0.03815497143675484
         },
         {
          "z": 4.081333479568935
         },
         {
          "z": 0.05124605264091101
         },
         {
          "z": 0.1376780673167856
         },
         {
          "z": 0.6526068858836493
         },
         {
          "z": 3.737811364793459
         },
         {
          "z": 8.993469410692253
         },
         {
          "z": 6.911691873731172
         },
         {
          "z": 0.12490346200031692
         },
         {
          "z": 8.207372999011222
         },
         {
          "z": 0.157716355768078
         },
         {
          "z": 5.077489103159025
         },
         {
          "z": 1.3990395322791964
         },
         {
          "z": 3.9851534829711777
         },
         {
          "z": 5.617433035752119
         },
         {
          "z": 0.10298992398471443
         },
         {
          "z": 4.083288407652188
         },
         {
          "z": 8.371887663060598
         },
         {
          "z": 7.2247796770932196
         },
         {
          "z": 6.480568819038629
         },
         {
          "z": 2.2170317257708
         },
         {
          "z": 3.3895489305968107
         },
         {
          "z": 6.584029177610583
         },
         {
          "z": 4.375635931473061
         },
         {
          "z": 1.019310237510165
         },
         {
          "z": 6.157970776024993
         },
         {
          "z": 8.056191475801857
         },
         {
          "z": 3.2890160746985675
         },
         {
          "z": 0.19537089015655126
         },
         {
          "z": 2.245818082399828
         },
         {
          "z": 0.7052637966240048
         },
         {
          "z": 6.722374443536311
         },
         {
          "z": 2.097525757115459
         },
         {
          "z": 9.6653988206067
         },
         {
          "z": 4.318952346505122
         },
         {
          "z": 5.581434930742657
         },
         {
          "z": 6.330020165236406
         },
         {
          "z": 4.21468828256652
         },
         {
          "z": 1.463002692544427
         },
         {
          "z": 0.20590664630047795
         }
        ]
       },
       "encoding": {
        "x": {
         "bin": {
          "maxbins": 100
         },
         "field": "z",
         "type": "quantitative"
        },
        "y": {
         "aggregate": "count",
         "type": "quantitative"
        }
       },
       "height": 100,
       "mark": "bar",
       "width": 400
      },
      "image/png": "[encoded data removed]",
      "text/plain": [
       "<VegaLite 3 object>\n",
       "\n",
       "If you see this message, it means the renderer has not been properly enabled\n",
       "for the frontend that you are using. For more information, see\n",
       "https://altair-viz.github.io/user_guide/troubleshooting.html\n"
      ]
     },
     "execution_count": 60,
     "metadata": {},
     "output_type": "execute_result"
    }
   ],
   "source": [
    "z = [realize_cont(Z) for i in range(1000)] # 1000 draws from Z\n",
    "\n",
    "plot_df = pd.DataFrame({'z':z})\n",
    "alt.Chart(plot_df, height=100, width=400).mark_bar().encode(\n",
    "    alt.X('z', bin=alt.Bin(maxbins=100)),\n",
    "    y='count()'\n",
    ")"
   ]
  },
  {
   "cell_type": "markdown",
   "metadata": {},
   "source": [
    "That looks suspicously like our bucketed density plot:"
   ]
  },
  {
   "cell_type": "code",
   "execution_count": 61,
   "metadata": {},
   "outputs": [
    {
     "data": {
      "application/vnd.vegalite.v3+json": {
       "$schema": "https://vega.github.io/schema/vega-lite/v3.4.0.json",
       "config": {
        "mark": {
         "tooltip": null
        },
        "view": {
         "height": 300,
         "width": 400
        }
       },
       "data": {
        "name": "data-87b4328471ec72ce0c0a7b12465363e4"
       },
       "datasets": {
        "data-87b4328471ec72ce0c0a7b12465363e4": [
         {
          "p": 0.1,
          "z": "[0.0,0.1)"
         },
         {
          "p": 0.0414213562373095,
          "z": "[0.1,0.2)"
         },
         {
          "p": 0.031783724519578255,
          "z": "[0.2,0.30000000000000004)"
         },
         {
          "p": 0.026794919243112253,
          "z": "[0.30000000000000004,0.4)"
         },
         {
          "p": 0.023606797749978953,
          "z": "[0.4,0.5)"
         },
         {
          "p": 0.021342176528338835,
          "z": "[0.5,0.6)"
         },
         {
          "p": 0.019626156828141256,
          "z": "[0.6000000000000001,0.7000000000000001)"
         },
         {
          "p": 0.018267581368159924,
          "z": "[0.7000000000000001,0.8)"
         },
         {
          "p": 0.017157287525380982,
          "z": "[0.8,0.9)"
         },
         {
          "p": 0.016227766016837952,
          "z": "[0.9,1.0)"
         },
         {
          "p": 0.015434713018702084,
          "z": "[1.0,1.1)"
         },
         {
          "p": 0.014747682478235491,
          "z": "[1.1,1.2000000000000002)"
         },
         {
          "p": 0.01414496603262344,
          "z": "[1.2000000000000002,1.3000000000000003)"
         },
         {
          "p": 0.01361061113099521,
          "z": "[1.3,1.4000000000000001)"
         },
         {
          "p": 0.013132595943347536,
          "z": "[1.4000000000000001,1.5000000000000002)"
         },
         {
          "p": 0.01270166537925832,
          "z": "[1.5,1.6)"
         },
         {
          "p": 0.012310562561766047,
          "z": "[1.6,1.7000000000000002)"
         },
         {
          "p": 0.011953506150162496,
          "z": "[1.7000000000000002,1.8000000000000003)"
         },
         {
          "p": 0.01162582564213882,
          "z": "[1.8,1.9000000000000001)"
         },
         {
          "p": 0.011323701145890597,
          "z": "[1.9000000000000001,2.0)"
         },
         {
          "p": 0.011043973995626122,
          "z": "[2.0,2.1)"
         },
         {
          "p": 0.010784006486758924,
          "z": "[2.1,2.2)"
         },
         {
          "p": 0.010541576348928994,
          "z": "[2.2,2.3000000000000003)"
         },
         {
          "p": 0.010314796225363687,
          "z": "[2.3000000000000003,2.4000000000000004)"
         },
         {
          "p": 0.010102051443364346,
          "z": "[2.4000000000000004,2.5000000000000004)"
         },
         {
          "p": 0.009901951359278516,
          "z": "[2.5,2.6)"
         },
         {
          "p": 0.009713290911384731,
          "z": "[2.6,2.7)"
         },
         {
          "p": 0.009535019942254919,
          "z": "[2.7,2.8000000000000003)"
         },
         {
          "p": 0.00936621850053232,
          "z": "[2.8000000000000003,2.9000000000000004)"
         },
         {
          "p": 0.0092060767917157,
          "z": "[2.9000000000000004,3.0000000000000004)"
         },
         {
          "p": 0.009053878777836144,
          "z": "[3.0,3.1)"
         },
         {
          "p": 0.008908988666235795,
          "z": "[3.1,3.2)"
         },
         {
          "p": 0.008770839704564826,
          "z": "[3.2,3.3000000000000003)"
         },
         {
          "p": 0.008638924830727257,
          "z": "[3.3000000000000003,3.4000000000000004)"
         },
         {
          "p": 0.008512788825431494,
          "z": "[3.4000000000000004,3.5000000000000004)"
         },
         {
          "p": 0.008392021690038387,
          "z": "[3.5,3.6)"
         },
         {
          "p": 0.008276253029821934,
          "z": "[3.6,3.7)"
         },
         {
          "p": 0.008165147267075734,
          "z": "[3.7,3.8000000000000003)"
         },
         {
          "p": 0.008058399542942185,
          "z": "[3.8000000000000003,3.9000000000000004)"
         },
         {
          "p": 0.007955732193836051,
          "z": "[3.9000000000000004,4.0)"
         },
         {
          "p": 0.007856891709609015,
          "z": "[4.0,4.1)"
         },
         {
          "p": 0.007761646097501185,
          "z": "[4.1000000000000005,4.2)"
         },
         {
          "p": 0.007669782589413976,
          "z": "[4.2,4.3)"
         },
         {
          "p": 0.007581105640879882,
          "z": "[4.3,4.3999999999999995)"
         },
         {
          "p": 0.0074954351788568685,
          "z": "[4.4,4.5)"
         },
         {
          "p": 0.007412605062589894,
          "z": "[4.5,4.6)"
         },
         {
          "p": 0.007332461727577511,
          "z": "[4.6000000000000005,4.7)"
         },
         {
          "p": 0.0072548629874464865,
          "z": "[4.7,4.8)"
         },
         {
          "p": 0.007179676972449034,
          "z": "[4.800000000000001,4.9)"
         },
         {
          "p": 0.007106781186547506,
          "z": "[4.9,5.0)"
         },
         {
          "p": 0.007036061667737403,
          "z": "[5.0,5.1)"
         },
         {
          "p": 0.006967412238512938,
          "z": "[5.1000000000000005,5.2)"
         },
         {
          "p": 0.006900733835253914,
          "z": "[5.2,5.3)"
         },
         {
          "p": 0.006835933906901626,
          "z": "[5.300000000000001,5.4)"
         },
         {
          "p": 0.006772925874612867,
          "z": "[5.4,5.5)"
         },
         {
          "p": 0.006711628645221901,
          "z": "[5.5,5.6)"
         },
         {
          "p": 0.006651966172286694,
          "z": "[5.6000000000000005,5.7)"
         },
         {
          "p": 0.00659386705931575,
          "z": "[5.7,5.8)"
         },
         {
          "p": 0.006537264200469961,
          "z": "[5.800000000000001,5.9)"
         },
         {
          "p": 0.006482094454622556,
          "z": "[5.9,6.0)"
         },
         {
          "p": 0.006428298349182016,
          "z": "[6.0,6.1)"
         },
         {
          "p": 0.006375819810515604,
          "z": "[6.1000000000000005,6.2)"
         },
         {
          "p": 0.006324605918196058,
          "z": "[6.2,6.3)"
         },
         {
          "p": 0.006274606680622741,
          "z": "[6.300000000000001,6.4)"
         },
         {
          "p": 0.00622577482985498,
          "z": "[6.4,6.5)"
         },
         {
          "p": 0.0061780656337410145,
          "z": "[6.5,6.6)"
         },
         {
          "p": 0.00613143672364902,
          "z": "[6.6000000000000005,6.7)"
         },
         {
          "p": 0.00608584793628697,
          "z": "[6.7,6.8)"
         },
         {
          "p": 0.006041261168275414,
          "z": "[6.800000000000001,6.9)"
         },
         {
          "p": 0.00599764024226801,
          "z": "[6.9,7.0)"
         },
         {
          "p": 0.005954950783560231,
          "z": "[7.0,7.1)"
         },
         {
          "p": 0.005913160106221116,
          "z": "[7.1000000000000005,7.2)"
         },
         {
          "p": 0.005872237107896083,
          "z": "[7.2,7.3)"
         },
         {
          "p": 0.0058321521725094305,
          "z": "[7.300000000000001,7.4)"
         },
         {
          "p": 0.005792877080175951,
          "z": "[7.4,7.5)"
         },
         {
          "p": 0.005754384923696065,
          "z": "[7.5,7.6)"
         },
         {
          "p": 0.005716650031077575,
          "z": "[7.6000000000000005,7.7)"
         },
         {
          "p": 0.005679647893572448,
          "z": "[7.7,7.8)"
         },
         {
          "p": 0.005643355098774228,
          "z": "[7.800000000000001,7.9)"
         },
         {
          "p": 0.005607749268356943,
          "z": "[7.9,8.0)"
         },
         {
          "p": 0.005572809000084167,
          "z": "[8.0,8.1)"
         },
         {
          "p": 0.005538513813741597,
          "z": "[8.1,8.2)"
         },
         {
          "p": 0.005504844100688189,
          "z": "[8.200000000000001,8.3)"
         },
         {
          "p": 0.00547178107673818,
          "z": "[8.3,8.4)"
         },
         {
          "p": 0.005439306738120653,
          "z": "[8.4,8.5)"
         },
         {
          "p": 0.005407403820281598,
          "z": "[8.5,8.6)"
         },
         {
          "p": 0.005376055759311105,
          "z": "[8.6,8.7)"
         },
         {
          "p": 0.005345246655804381,
          "z": "[8.700000000000001,8.8)"
         },
         {
          "p": 0.005314961240974414,
          "z": "[8.8,8.9)"
         },
         {
          "p": 0.005285184844853408,
          "z": "[8.9,9.0)"
         },
         {
          "p": 0.005255903366431891,
          "z": "[9.0,9.1)"
         },
         {
          "p": 0.005227103245598164,
          "z": "[9.1,9.2)"
         },
         {
          "p": 0.005198771436751626,
          "z": "[9.200000000000001,9.3)"
         },
         {
          "p": 0.005170895383970309,
          "z": "[9.3,9.4)"
         },
         {
          "p": 0.005143462997630466,
          "z": "[9.4,9.5)"
         },
         {
          "p": 0.005116462632374863,
          "z": "[9.5,9.6)"
         },
         {
          "p": 0.005089883066339174,
          "z": "[9.600000000000001,9.700000000000001)"
         },
         {
          "p": 0.005063713481556098,
          "z": "[9.700000000000001,9.8)"
         },
         {
          "p": 0.005037943445453386,
          "z": "[9.8,9.9)"
         },
         {
          "p": 0.005012562893380035,
          "z": "[9.9,10.0)"
         }
        ]
       },
       "encoding": {
        "x": {
         "axis": null,
         "field": "z",
         "type": "ordinal"
        },
        "y": {
         "field": "p",
         "type": "quantitative"
        }
       },
       "height": 100,
       "mark": "bar",
       "width": 400
      },
      "image/png": "[encoded data removed]",
      "text/plain": [
       "<VegaLite 3 object>\n",
       "\n",
       "If you see this message, it means the renderer has not been properly enabled\n",
       "for the frontend that you are using. For more information, see\n",
       "https://altair-viz.github.io/user_guide/troubleshooting.html\n"
      ]
     },
     "execution_count": 61,
     "metadata": {},
     "output_type": "execute_result"
    }
   ],
   "source": [
    "zs = np.arange(0,10,0.1)\n",
    "ps = [Pz(z,z+0.1) for z in zs]\n",
    "zs_labels = [f'[{z},{z+0.1})' for z in zs]\n",
    "\n",
    "distribution = pd.DataFrame({'z':zs_labels, 'p':ps})\n",
    "alt.Chart(distribution, height=100, width=400).mark_bar().encode(alt.X('z:O',axis=None), y='p')"
   ]
  },
  {
   "cell_type": "markdown",
   "metadata": {},
   "source": [
    "So what's the difference? Think about what it is we're \"stacking up\" in the bars. In the histogram, we're sorting and stacking up a *finite number* $n$ of *observed values* $z_i$ according to what they are. In the density plot, we're sorting and stacking up *all* of the *outcomes* $\\omega$ in the silo according to the values they are destined to become, and we're measuring their relative volume, not absolute counts.\n",
    "\n",
    "In a nutshell, the histogram is what we can actually observe, given outputs from the factory. But the density descibes the inner workings of the factory itself, which we can never actually observe."
   ]
  },
  {
   "cell_type": "markdown",
   "metadata": {},
   "source": [
    "<div class=\"alert alert-block alert-info\">\n",
    "<b>Exercise:</b> \n",
    "\n",
    "What do you expect to happen to the shape of the histogram above as the number of observations is increased from $1000$ to larger and larger numbers? Can you provide an intuitive explanation for why this happens?\n",
    "    \n",
    "</div>"
   ]
  },
  {
   "cell_type": "markdown",
   "metadata": {},
   "source": [
    "### Common Distributions"
   ]
  },
  {
   "cell_type": "markdown",
   "metadata": {},
   "source": [
    "We've seen that, for all practical purposes, a random variable is determined by its probability distribution (mass or density function). In reality, the distribution of any particular measurement (e.g. blood pressure) is unknown- it depends on a complex web of causal factors. The true density function is almost certainly so complex it's not even something that we could write down. But, for the purposes of *modeling* that measurement, we *pretend* that the density is something we can write down. \n",
    "\n",
    "Over the centuries, people have come up with a lot of distributions that are useful as models across various scenarios. Here are a few of them:"
   ]
  },
  {
   "cell_type": "markdown",
   "metadata": {},
   "source": [
    "#### Bernoulli distribution"
   ]
  },
  {
   "cell_type": "markdown",
   "metadata": {},
   "source": [
    "Let's say we're interested in modeling the result of a coin flip. The actual value (heads/tails, which we code as 0/1) of the coin flip is determined by some insanely complicated physics, but we're going to pretend that the value comes out of a little factory called $\\mathbf Z$ that has the following probability mass function:\n",
    "\n",
    "\n",
    "$$\n",
    "P(\\mathbf Z=z) =\n",
    "\\begin{cases}\n",
    "1/2 & \\text{for }z=0 \\\\\n",
    "1/2 & \\text{for }z=1\n",
    "\\end{cases}\n",
    "$$"
   ]
  },
  {
   "cell_type": "markdown",
   "metadata": {},
   "source": [
    "If we want to model a biased coin that comes up heads $(p\\times100)$% of the time, we can use a mass function like:"
   ]
  },
  {
   "cell_type": "markdown",
   "metadata": {},
   "source": [
    "$$\n",
    "P(\\mathbf Z=z) =\n",
    "\\begin{cases}\n",
    "p & \\text{for }z=0 \\\\\n",
    "1-p & \\text{for }z=1\n",
    "\\end{cases}\n",
    "$$"
   ]
  },
  {
   "cell_type": "markdown",
   "metadata": {},
   "source": [
    "This is often written as $\\mathbf Z \\sim \\text{Bernoulli}(p)$ (read: \"$\\mathbf Z$ is Bernoulli-distributed\"). The number $p$ is said to be a **parameter** of the Bernoulli distribution. It would be more accurate to say that a random variable is distributed as a **member** of the Bernoulli **family** of distributions, since, technically, every different value of $p$ encodes a different distribution, or factory, for making data.\n",
    "\n",
    "Another way to think about it is that there's one data factory, but it has a control panel with a knob labeled \"$p$\". If $p$ is set to 0.7, we expect about 70% of the outputs to be 1. If $p$ is set to $0.1$, 10%, and so on. It's a matter of semantics whether or not you want to say that factory is representing two different factories, or merely one factory under two different operating conditions. Both perspectives are useful."
   ]
  },
  {
   "cell_type": "markdown",
   "metadata": {},
   "source": [
    "#### Normal Distribution\n",
    "\n",
    "Let's say we want to model the heights of everyone on Earth. We have an intuition that people are typically a bit shorter than two meters, and taller and shorter people are more and more rare the taller and shorter they get. We can pretend that height measurements come from a **normal** distribution (also called **Gaussian** distribution):"
   ]
  },
  {
   "cell_type": "markdown",
   "metadata": {},
   "source": [
    "$$\n",
    "\\phi(z) = \n",
    "\\frac{1}{\\sqrt{2\\pi\\sigma}} \n",
    "e^{-\\frac{(x-\\mu)^2}{2\\sigma^2}}\n",
    "$$"
   ]
  },
  {
   "cell_type": "markdown",
   "metadata": {},
   "source": [
    "Most often you'll see this written as $\\mathbf Z \\sim \\mathcal N(\\mu, \\sigma)$ (read: \"$\\mathbf Z$ is normally distributed\"). The numbers $\\mu$ and $\\sigma$ are the parameters (control knobs) of the normal distribution. \n",
    "\n",
    "![](https://upload.wikimedia.org/wikipedia/commons/7/74/Normal_Distribution_PDF.svg)"
   ]
  },
  {
   "cell_type": "markdown",
   "metadata": {},
   "source": [
    "As you can see in the picture, $\\mu$ controls where the \"bell curve\" is centered and $\\sigma$ controls how wide or narrow it is."
   ]
  },
  {
   "cell_type": "markdown",
   "metadata": {},
   "source": [
    "<div class=\"alert alert-block alert-warning\">\n",
    "<b>Note:</b> \n",
    "    \n",
    "Every distribution is defined by its mass or density function $\\phi$. The mass or density is often a complicated function, so instead of saying someting like \"$\\phi(z) = \\frac{1}{\\sqrt{2\\pi\\sigma}} e^{-\\frac{(x-\\mu)^2}{2\\sigma^2}}$\" every time we want a normally-distributed variable, we'll abbreviate that to \"$\\mathbf Z \\sim \\mathcal N (\\mu, \\sigma)$\". But they mean the same thing. \n",
    "    \n",
    "Every time you see something like $\\mathbf Z \\sim \\mathcal D(\\theta_1, \\theta_2, \\dots)$, just know there is some mass or density function that is associated with the name $\\mathcal D$ and which has parameters $\\theta_1, \\theta_2, \\dots$. You can always look it up if you need to know exactly what it is.\n",
    "    \n",
    "</div>"
   ]
  },
  {
   "cell_type": "markdown",
   "metadata": {},
   "source": [
    "#### Others "
   ]
  },
  {
   "cell_type": "markdown",
   "metadata": {},
   "source": [
    "There are [hundreds](https://upload.wikimedia.org/wikipedia/commons/7/74/Normal_Distribution_PDF.svg) of well-studied distributions available to choose from when modeling. The most important thing to know about a distribution is what values it can generate. This is sometimes called the **support** of the distribution, since if you were to make a density or mass plot, the support would be the region of the x-axis that has positive density or mass, so it's the region that appears to be \"supporting\" the curve or mass. \n",
    "\n",
    "For example, varaibles that are normally-, Cauchy-, or Laplace-distributed are supported on $-\\infty$ and $\\infty$. The $\\chi^2$ distribution has support on $[0,\\infty)$. The beta and standard uniform distributions have support on $[0,1]$. The Poisson distribution has support on the counting numbers 0, 1, 2..., and the K-categorical distribution has support on a finite number of integers 0, 1, 2, ... K. \n",
    "\n",
    "It's also totally possible to invent your own distribution by defining your own support set $S$ and mass/density function $\\phi$, as long as $\\phi(s) \\ge 0$ for all $s \\in S$ and $\\int_S \\phi(s) ds = 1$ or $\\sum_{s \\in S} \\phi(s) = 1$. These properties have to be satisfied to have a valid density or mass (see exercise in previous section).\n",
    "\n",
    "The point of this diversity is that it is possible to model different kinds of data. Apartment rents are always positive numbers, but theoretically unbounded above (a scary thought), so perhaps $\\chi^2$ is a good choice. The number of cars that pass through an intersection in a given day is always an integer, so Poisson is a reasonable choice for that. You don't have to remember any of these specific distributions or examples- just know there are many preconstructed pretend data factories out there to play with. Also know that the real data-generating process is pretty much *never* actually one of these distributions, although, sometimes, it might be well-approximated by one."
   ]
  },
  {
   "cell_type": "markdown",
   "metadata": {},
   "source": [
    "<div class=\"alert alert-block alert-info\">\n",
    "<b>Exercise:</b> \n",
    "\n",
    "Define your own density function that has support on $[0,1]$. Make it so that the probability of getting a bigger number is bigger than that of getting a smaller number. Be sure that your function integrates to $1$ and is nonnegative over its support, otherwise it's not a valid density.\n",
    "    \n",
    "</div>"
   ]
  },
  {
   "cell_type": "markdown",
   "metadata": {},
   "source": [
    "## Chapter summary"
   ]
  },
  {
   "cell_type": "markdown",
   "metadata": {},
   "source": [
    "Data in the real world is generated by complex processes that we can't ever hope to replicate. But if we want to uncover relationships between measurements, we at least need a framework for imagining what kinds of processes might be generating our data. Random variables and probability theory do that for us. \n",
    "\n",
    "Random variables are like factories that generate data. We don't observe them directly, but we see the data they output and we can imagine different kinds of random variables that make different kinds of data. We defined a notion of probability that posits that the probability of observing a particular realization is actually just the volume of material in the factory's silo (sample space) that is destined to become that realization. This is a pure abstraction, but it turns out to capture relationships between probabilities that we would intuitively expect to hold.\n",
    "\n",
    "It's easier to work with the probability distribution of a random variable than it is to constantly talk about the sample space and the mapping between that space and realizations. The probability distribution is a function that, when integrated over a region of the space of realizations, gives us the volume of outcomes in the sample space that map to realizations in that region. In other words: the probability that the random variable gives a realization in that region. Random variables can be continuous or discrete, but all have a distribution function that can be integrated or summed to yield probabilities.\n",
    "\n",
    "Random variables are most often talked about in terms of their porbability distributions. Defining a new variable is as easy as choosing a support and a mass or density function over that support. Some distributions are so commonly used that they have their own names and notations so that we don't have to write out their mass or density functions out over and over again to refer to them."
   ]
  }
 ],
 "metadata": {
  "kernelspec": {
   "display_name": "Python 3",
   "language": "python",
   "name": "python3"
  },
  "language_info": {
   "codemirror_mode": {
    "name": "ipython",
    "version": 3
   },
   "file_extension": ".py",
   "mimetype": "text/x-python",
   "name": "python",
   "nbconvert_exporter": "python",
   "pygments_lexer": "ipython3",
   "version": "3.7.3"
  }
 },
 "nbformat": 4,
 "nbformat_minor": 4
}
