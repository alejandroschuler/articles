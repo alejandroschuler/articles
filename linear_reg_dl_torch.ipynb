{
 "cells": [
  {
   "cell_type": "markdown",
   "metadata": {},
   "source": [
    "# From Linear Regression to Deep Learning in Pytorch"
   ]
  },
  {
   "cell_type": "markdown",
   "metadata": {},
   "source": [
    "---\n",
    "---"
   ]
  },
  {
   "cell_type": "markdown",
   "metadata": {},
   "source": [
    "# Linear Regression"
   ]
  },
  {
   "cell_type": "markdown",
   "metadata": {},
   "source": [
    "Let's implement a simple linear regression using torch"
   ]
  },
  {
   "cell_type": "code",
   "execution_count": 1,
   "metadata": {},
   "outputs": [],
   "source": [
    "import torch"
   ]
  },
  {
   "cell_type": "markdown",
   "metadata": {},
   "source": [
    "To start with, we'll create some random data and store it as torch tensors. "
   ]
  },
  {
   "cell_type": "code",
   "execution_count": 254,
   "metadata": {},
   "outputs": [],
   "source": [
    "n = 100\n",
    "p = 5\n",
    "x = torch.randn(n, p) # predictors (100 observations, 5 features)\n",
    "y = torch.randn(n, 1) # outcomes (100 observations)"
   ]
  },
  {
   "cell_type": "markdown",
   "metadata": {},
   "source": [
    "We're looking for coefficients $\\beta$ so that $y_i \\approx x_i\\beta = x_{i1}\\beta_1 +x_{i2}\\beta_2 \\dots$. To quantify what we mean by a \"good\" approximation, we'll use the mean-squared-error loss. So for a given guess $\\beta$ we'll give it the \"grade\" $\\frac{1}{n}\\sum_i (y_i - \\hat y_i)^2$ where $\\hat y_i  = x_i\\beta$ and $n$ is the number of observations (rows) in the data. We're looking for the $\\beta$ that gives us the best (lowest) grade.  This combination of model (linear) and loss (mean-squared-error) is called linear regression."
   ]
  },
  {
   "cell_type": "markdown",
   "metadata": {},
   "source": [
    "To start, we'll initialize the coefficients $\\beta$ with random numbers. That's our first guess. We'll update these random numbers using gradient descent to iteratively find better values that make the loss smaller."
   ]
  },
  {
   "cell_type": "code",
   "execution_count": 255,
   "metadata": {},
   "outputs": [
    {
     "data": {
      "text/plain": [
       "tensor([[-1.3404],\n",
       "        [ 0.5450],\n",
       "        [ 0.6492],\n",
       "        [-0.5383],\n",
       "        [ 0.7197]], requires_grad=True)"
      ]
     },
     "execution_count": 255,
     "metadata": {},
     "output_type": "execute_result"
    }
   ],
   "source": [
    "β = torch.randn(p, 1) # 5 coefficients (one per feature)\n",
    "β.requires_grad_() # tell torch that β is going to have to save the gradient of something with respect to itself at some point"
   ]
  },
  {
   "cell_type": "markdown",
   "metadata": {},
   "source": [
    "### Autograd"
   ]
  },
  {
   "cell_type": "markdown",
   "metadata": {},
   "source": [
    "Using our current (random) coefficients we'll compute the current predictions and use those to compute the loss. That will be a relatively high number because our predictions won't be very good at this point. Once have the loss, we can use the torch autodifferentiation features to compute each of $\\frac{\\delta L}{\\delta \\beta_j}$, the gradients of the loss with respect to each coefficient, and use those to update the coefficients with gradient descent."
   ]
  },
  {
   "cell_type": "code",
   "execution_count": 256,
   "metadata": {},
   "outputs": [],
   "source": [
    "ŷ = torch.matmul(x, β) # ŷ = xβ"
   ]
  },
  {
   "cell_type": "code",
   "execution_count": 258,
   "metadata": {},
   "outputs": [],
   "source": [
    "L = torch.sum((y-ŷ)**2)/n # L = Σ(yᵢ-ŷᵢ)²"
   ]
  },
  {
   "cell_type": "code",
   "execution_count": 259,
   "metadata": {},
   "outputs": [
    {
     "data": {
      "text/plain": [
       "tensor(4.2161, grad_fn=<DivBackward0>)"
      ]
     },
     "execution_count": 259,
     "metadata": {},
     "output_type": "execute_result"
    }
   ],
   "source": [
    "L"
   ]
  },
  {
   "cell_type": "code",
   "execution_count": 260,
   "metadata": {},
   "outputs": [],
   "source": [
    "L.backward() # compute the gradients of the loss with respect to any tensors that went into the loss with requires_grad=true"
   ]
  },
  {
   "cell_type": "code",
   "execution_count": 261,
   "metadata": {},
   "outputs": [
    {
     "data": {
      "text/plain": [
       "tensor([[-2.7066],\n",
       "        [ 0.8172],\n",
       "        [ 1.6938],\n",
       "        [-1.1461],\n",
       "        [ 1.0480]])"
      ]
     },
     "execution_count": 261,
     "metadata": {},
     "output_type": "execute_result"
    }
   ],
   "source": [
    "β.grad"
   ]
  },
  {
   "cell_type": "markdown",
   "metadata": {},
   "source": [
    "what we see here is a vector containing all of the derivatives we want. The first element is $\\frac{\\delta L}{\\delta \\beta_1}$, the second element is $\\frac{\\delta L}{\\delta \\beta_2}$, and so on. Note that this object is part of $\\beta$ and not $L$."
   ]
  },
  {
   "cell_type": "markdown",
   "metadata": {},
   "source": [
    "Let's calculate the gradient manually and make sure it matches up. We have:\n",
    "\n",
    "$$\n",
    "\\begin{array}{rcl}\n",
    "\\hat y_i &=& x_i\\beta\\\\\n",
    "L(y,\\hat y) &=& \\frac{1}{n}\\sum_i (y_i - \\hat y_i)^2\n",
    "\\end{array}\n",
    "$$"
   ]
  },
  {
   "cell_type": "markdown",
   "metadata": {},
   "source": [
    "So the derivative is\n",
    "\n",
    "$$\n",
    "\\begin{array}{rcl}\n",
    "\\frac{\\partial L}{\\partial \\beta_j} &=& \n",
    "\\frac{1}{n}\n",
    "\\sum_i \n",
    "\\frac{\\partial L}{\\partial y_i} \n",
    "\\frac{\\partial y_i}{\\partial \\beta_j}\n",
    "\\\\\n",
    "&=&\n",
    "\\frac{1}{n}\n",
    "\\sum_i\n",
    "-2(y_i-\\hat y_i)\n",
    "x_{ij}\n",
    "\\\\\n",
    "&=&\n",
    "-\\frac{2}{n}\n",
    "x_j^T(y-\\hat y)\n",
    "\\end{array}\n",
    "$$\n",
    "\n",
    "which means we can calculate the whole gradient as $-\\frac{2}{n}x^T(y-x\\beta)$"
   ]
  },
  {
   "cell_type": "code",
   "execution_count": 265,
   "metadata": {},
   "outputs": [],
   "source": [
    "def beta_grad(β):\n",
    "    return -2*torch.matmul(x.transpose(0,1), y-torch.matmul(x,β))/n"
   ]
  },
  {
   "cell_type": "code",
   "execution_count": 266,
   "metadata": {},
   "outputs": [
    {
     "data": {
      "text/plain": [
       "tensor([[-2.7066],\n",
       "        [ 0.8172],\n",
       "        [ 1.6938],\n",
       "        [-1.1461],\n",
       "        [ 1.0480]], grad_fn=<DivBackward0>)"
      ]
     },
     "execution_count": 266,
     "metadata": {},
     "output_type": "execute_result"
    }
   ],
   "source": [
    "beta_grad(β)"
   ]
  },
  {
   "cell_type": "markdown",
   "metadata": {},
   "source": [
    "which is exactly the same as the result in `β.grad`!"
   ]
  },
  {
   "cell_type": "markdown",
   "metadata": {},
   "source": [
    "How does pytorch do this? It turns out that every pytorch tensor records not only its own value, but also what functions were called to produce it and which tensors went into those functions. The `torchvis` package lets us see this:"
   ]
  },
  {
   "cell_type": "code",
   "execution_count": 267,
   "metadata": {},
   "outputs": [
    {
     "data": {
      "image/svg+xml": [
       "<?xml version=\"1.0\" encoding=\"UTF-8\" standalone=\"no\"?>\n",
       "<!DOCTYPE svg PUBLIC \"-//W3C//DTD SVG 1.1//EN\"\n",
       " \"http://www.w3.org/Graphics/SVG/1.1/DTD/svg11.dtd\">\n",
       "<!-- Generated by graphviz version 2.43.0 (0)\n",
       " -->\n",
       "<!-- Title: %3 Pages: 1 -->\n",
       "<svg width=\"101pt\" height=\"320pt\"\n",
       " viewBox=\"0.00 0.00 100.65 320.00\" xmlns=\"http://www.w3.org/2000/svg\" xmlns:xlink=\"http://www.w3.org/1999/xlink\">\n",
       "<g id=\"graph0\" class=\"graph\" transform=\"scale(1 1) rotate(0) translate(4 316)\">\n",
       "<title>%3</title>\n",
       "<polygon fill=\"white\" stroke=\"transparent\" points=\"-4,4 -4,-316 96.65,-316 96.65,4 -4,4\"/>\n",
       "<!-- 5005716112 -->\n",
       "<g id=\"node1\" class=\"node\">\n",
       "<title>5005716112</title>\n",
       "<polygon fill=\"#caff70\" stroke=\"black\" points=\"90.47,-20 2.18,-20 2.18,0 90.47,0 90.47,-20\"/>\n",
       "<text text-anchor=\"middle\" x=\"46.33\" y=\"-6.4\" font-family=\"Times,serif\" font-size=\"12.00\">DivBackward0</text>\n",
       "</g>\n",
       "<!-- 5005715984 -->\n",
       "<g id=\"node2\" class=\"node\">\n",
       "<title>5005715984</title>\n",
       "<polygon fill=\"lightgrey\" stroke=\"black\" points=\"92.48,-76 0.17,-76 0.17,-56 92.48,-56 92.48,-76\"/>\n",
       "<text text-anchor=\"middle\" x=\"46.33\" y=\"-62.4\" font-family=\"Times,serif\" font-size=\"12.00\">SumBackward0</text>\n",
       "</g>\n",
       "<!-- 5005715984&#45;&gt;5005716112 -->\n",
       "<g id=\"edge1\" class=\"edge\">\n",
       "<title>5005715984&#45;&gt;5005716112</title>\n",
       "<path fill=\"none\" stroke=\"black\" d=\"M46.33,-55.59C46.33,-48.7 46.33,-39.1 46.33,-30.57\"/>\n",
       "<polygon fill=\"black\" stroke=\"black\" points=\"49.83,-30.3 46.33,-20.3 42.83,-30.3 49.83,-30.3\"/>\n",
       "</g>\n",
       "<!-- 5005715728 -->\n",
       "<g id=\"node3\" class=\"node\">\n",
       "<title>5005715728</title>\n",
       "<polygon fill=\"lightgrey\" stroke=\"black\" points=\"92.31,-132 0.34,-132 0.34,-112 92.31,-112 92.31,-132\"/>\n",
       "<text text-anchor=\"middle\" x=\"46.33\" y=\"-118.4\" font-family=\"Times,serif\" font-size=\"12.00\">PowBackward0</text>\n",
       "</g>\n",
       "<!-- 5005715728&#45;&gt;5005715984 -->\n",
       "<g id=\"edge2\" class=\"edge\">\n",
       "<title>5005715728&#45;&gt;5005715984</title>\n",
       "<path fill=\"none\" stroke=\"black\" d=\"M46.33,-111.59C46.33,-104.7 46.33,-95.1 46.33,-86.57\"/>\n",
       "<polygon fill=\"black\" stroke=\"black\" points=\"49.83,-86.3 46.33,-76.3 42.83,-86.3 49.83,-86.3\"/>\n",
       "</g>\n",
       "<!-- 5005715472 -->\n",
       "<g id=\"node4\" class=\"node\">\n",
       "<title>5005715472</title>\n",
       "<polygon fill=\"lightgrey\" stroke=\"black\" points=\"91.15,-188 1.51,-188 1.51,-168 91.15,-168 91.15,-188\"/>\n",
       "<text text-anchor=\"middle\" x=\"46.33\" y=\"-174.4\" font-family=\"Times,serif\" font-size=\"12.00\">SubBackward0</text>\n",
       "</g>\n",
       "<!-- 5005715472&#45;&gt;5005715728 -->\n",
       "<g id=\"edge3\" class=\"edge\">\n",
       "<title>5005715472&#45;&gt;5005715728</title>\n",
       "<path fill=\"none\" stroke=\"black\" d=\"M46.33,-167.59C46.33,-160.7 46.33,-151.1 46.33,-142.57\"/>\n",
       "<polygon fill=\"black\" stroke=\"black\" points=\"49.83,-142.3 46.33,-132.3 42.83,-142.3 49.83,-142.3\"/>\n",
       "</g>\n",
       "<!-- 5005715088 -->\n",
       "<g id=\"node5\" class=\"node\">\n",
       "<title>5005715088</title>\n",
       "<polygon fill=\"lightgrey\" stroke=\"black\" points=\"88.48,-244 4.18,-244 4.18,-224 88.48,-224 88.48,-244\"/>\n",
       "<text text-anchor=\"middle\" x=\"46.33\" y=\"-230.4\" font-family=\"Times,serif\" font-size=\"12.00\">MmBackward</text>\n",
       "</g>\n",
       "<!-- 5005715088&#45;&gt;5005715472 -->\n",
       "<g id=\"edge4\" class=\"edge\">\n",
       "<title>5005715088&#45;&gt;5005715472</title>\n",
       "<path fill=\"none\" stroke=\"black\" d=\"M46.33,-223.59C46.33,-216.7 46.33,-207.1 46.33,-198.57\"/>\n",
       "<polygon fill=\"black\" stroke=\"black\" points=\"49.83,-198.3 46.33,-188.3 42.83,-198.3 49.83,-198.3\"/>\n",
       "</g>\n",
       "<!-- 5005714832 -->\n",
       "<g id=\"node6\" class=\"node\">\n",
       "<title>5005714832</title>\n",
       "<polygon fill=\"lightblue\" stroke=\"black\" points=\"73.33,-312 19.33,-312 19.33,-280 73.33,-280 73.33,-312\"/>\n",
       "<text text-anchor=\"middle\" x=\"46.33\" y=\"-298.4\" font-family=\"Times,serif\" font-size=\"12.00\">β</text>\n",
       "<text text-anchor=\"middle\" x=\"46.33\" y=\"-286.4\" font-family=\"Times,serif\" font-size=\"12.00\"> (5, 1)</text>\n",
       "</g>\n",
       "<!-- 5005714832&#45;&gt;5005715088 -->\n",
       "<g id=\"edge5\" class=\"edge\">\n",
       "<title>5005714832&#45;&gt;5005715088</title>\n",
       "<path fill=\"none\" stroke=\"black\" d=\"M46.33,-279.86C46.33,-272.13 46.33,-262.63 46.33,-254.37\"/>\n",
       "<polygon fill=\"black\" stroke=\"black\" points=\"49.83,-254.15 46.33,-244.15 42.83,-254.15 49.83,-254.15\"/>\n",
       "</g>\n",
       "</g>\n",
       "</svg>\n"
      ],
      "text/plain": [
       "<graphviz.dot.Digraph at 0x12a5d2b90>"
      ]
     },
     "execution_count": 267,
     "metadata": {},
     "output_type": "execute_result"
    }
   ],
   "source": [
    "from torchviz import make_dot\n",
    "make_dot(L, {'β':β})"
   ]
  },
  {
   "cell_type": "markdown",
   "metadata": {},
   "source": [
    "To calculate the gradient of $L$ with respect to $\\beta$, pytorch takes the gradients of each of these functions in turn (which are simple and built-in to pytorch), evaluates them at their current value using the input tensors, and multiplies them together to arrive at the answer you would get via the chain rule. You can learn more about this process [here](https://towardsdatascience.com/pytorch-autograd-understanding-the-heart-of-pytorchs-magic-2686cd94ec95) and elsewhere."
   ]
  },
  {
   "cell_type": "markdown",
   "metadata": {},
   "source": [
    "### Doing Gradient Descent"
   ]
  },
  {
   "cell_type": "markdown",
   "metadata": {},
   "source": [
    "To update the weights, we need to subtract the gradient (times a small learning rate) from the current value of the weights. \n",
    "\n",
    "We do this from inside a `no_grad():` \"context\" so that $\\beta$ doesn't store the history of the update (try the update without the `with torch.no_grad():` and see what happens). We also clear out `β.grad`. "
   ]
  },
  {
   "cell_type": "code",
   "execution_count": 268,
   "metadata": {},
   "outputs": [],
   "source": [
    "with torch.no_grad():\n",
    "    β -= 10e-5 * β.grad # β = β - 10e-5 * β.grad\n",
    "    β.grad.zero_()"
   ]
  },
  {
   "cell_type": "code",
   "execution_count": 269,
   "metadata": {},
   "outputs": [
    {
     "data": {
      "text/plain": [
       "tensor([[-1.3401],\n",
       "        [ 0.5449],\n",
       "        [ 0.6491],\n",
       "        [-0.5382],\n",
       "        [ 0.7195]], requires_grad=True)"
      ]
     },
     "execution_count": 269,
     "metadata": {},
     "output_type": "execute_result"
    }
   ],
   "source": [
    "β"
   ]
  },
  {
   "cell_type": "markdown",
   "metadata": {},
   "source": [
    "As you can see, our new value of $\\beta$ is slightly different than what we started with because we've taken a single gradient step."
   ]
  },
  {
   "cell_type": "markdown",
   "metadata": {},
   "source": [
    "----"
   ]
  },
  {
   "cell_type": "markdown",
   "metadata": {},
   "source": [
    "#### Zeroing Gradients"
   ]
  },
  {
   "cell_type": "markdown",
   "metadata": {},
   "source": [
    "Let's take a quick second to diverge from our main story to explain why we need to zero the gradient. If we don't zero the gradient, the next time we calculate the gradient of something with respect to $\\beta$, the new gradient will be added to whatever was stored there instead of overwriting it. That's just the way torch was made to work. To demonstrate:"
   ]
  },
  {
   "cell_type": "code",
   "execution_count": 270,
   "metadata": {},
   "outputs": [
    {
     "data": {
      "text/plain": [
       "tensor(10.)"
      ]
     },
     "execution_count": 270,
     "metadata": {},
     "output_type": "execute_result"
    }
   ],
   "source": [
    "t = torch.tensor(5., requires_grad=True)\n",
    "z = t**2 # z = t^2\n",
    "z.backward() # dz/dt = 2t, and t =5 right now\n",
    "t.grad # so dz/dt = 2*5 = 10"
   ]
  },
  {
   "cell_type": "markdown",
   "metadata": {},
   "source": [
    "all good so far... Now let's make another variable based on $t$"
   ]
  },
  {
   "cell_type": "code",
   "execution_count": 271,
   "metadata": {},
   "outputs": [
    {
     "data": {
      "text/plain": [
       "tensor(85.)"
      ]
     },
     "execution_count": 271,
     "metadata": {},
     "output_type": "execute_result"
    }
   ],
   "source": [
    "q = t**3 # q = t^3\n",
    "q.backward() # dq/dt = 3t^2, and t=5 right now\n",
    "t.grad # so dq/dt = 3*5^2 = 75"
   ]
  },
  {
   "cell_type": "markdown",
   "metadata": {},
   "source": [
    "Here we should have gotten 75, but we got 85, which is 75 + 10. What happened was that 10 was previously stored in `t.grad`, so it got added to the new number that came in when we called `q.backward()`."
   ]
  },
  {
   "cell_type": "markdown",
   "metadata": {},
   "source": [
    "----"
   ]
  },
  {
   "cell_type": "markdown",
   "metadata": {},
   "source": [
    "Ok, back to our main story. Let's repeat what we have so far but now add a little loop to train our model for 500 gradient descent iterations instead of going slowly though a single iteration:"
   ]
  },
  {
   "cell_type": "code",
   "execution_count": 281,
   "metadata": {},
   "outputs": [
    {
     "data": {
      "text/plain": [
       "tensor([[-0.3821],\n",
       "        [ 0.9374],\n",
       "        [-1.8131],\n",
       "        [ 0.7774],\n",
       "        [-0.7328]], requires_grad=True)"
      ]
     },
     "execution_count": 281,
     "metadata": {},
     "output_type": "execute_result"
    }
   ],
   "source": [
    "x = torch.randn(100, 5) # predictors (10 observations, 5 features)\n",
    "y = torch.randn(100, 1) # outcomes (10 observations)\n",
    "\n",
    "loss_record = [] # to kep track of the loss over the iterations\n",
    "β = torch.randn(5,1) # 5 coefficients (one per feature)\n",
    "β.requires_grad_() # tell torch that β is going to have to save the gradient of something with respect to itself at some point"
   ]
  },
  {
   "cell_type": "code",
   "execution_count": 282,
   "metadata": {},
   "outputs": [],
   "source": [
    "for e in range(500):\n",
    "    ŷ = torch.matmul(x, β) # ŷ = xβ (calculate predictions)\n",
    "    L = torch.sum((y-ŷ)**2)/n # L = Σ(yᵢ-ŷᵢ)² (use predictions to calculate loss)\n",
    "    \n",
    "    L.backward() # compute gradients (in this case δL/δβ, δL/δW)\n",
    "    loss_record.append(L.item())\n",
    "    \n",
    "    with torch.no_grad(): # take the gradient descent step \n",
    "        β -= 10e-3 * β.grad\n",
    "        β.grad.zero_()"
   ]
  },
  {
   "cell_type": "markdown",
   "metadata": {},
   "source": [
    "And we can see how the loss changes over the iterations:"
   ]
  },
  {
   "cell_type": "code",
   "execution_count": 283,
   "metadata": {},
   "outputs": [
    {
     "data": {
      "application/vnd.vegalite.v3+json": {
       "$schema": "https://vega.github.io/schema/vega-lite/v3.4.0.json",
       "config": {
        "mark": {
         "tooltip": null
        },
        "view": {
         "height": 300,
         "width": 400
        }
       },
       "data": {
        "name": "data-a8b568c19e6d31635d68b9f924c7f730"
       },
       "datasets": {
        "data-a8b568c19e6d31635d68b9f924c7f730": [
         {
          "i": 0,
          "loss": 7.305422306060791
         },
         {
          "i": 1,
          "loss": 7.007678985595703
         },
         {
          "i": 2,
          "loss": 6.723917007446289
         },
         {
          "i": 3,
          "loss": 6.453478813171387
         },
         {
          "i": 4,
          "loss": 6.195733070373535
         },
         {
          "i": 5,
          "loss": 5.9500813484191895
         },
         {
          "i": 6,
          "loss": 5.715951919555664
         },
         {
          "i": 7,
          "loss": 5.492800712585449
         },
         {
          "i": 8,
          "loss": 5.2801103591918945
         },
         {
          "i": 9,
          "loss": 5.077386856079102
         },
         {
          "i": 10,
          "loss": 4.884159088134766
         },
         {
          "i": 11,
          "loss": 4.699981212615967
         },
         {
          "i": 12,
          "loss": 4.524425029754639
         },
         {
          "i": 13,
          "loss": 4.357085704803467
         },
         {
          "i": 14,
          "loss": 4.197574615478516
         },
         {
          "i": 15,
          "loss": 4.045523166656494
         },
         {
          "i": 16,
          "loss": 3.900580644607544
         },
         {
          "i": 17,
          "loss": 3.7624130249023438
         },
         {
          "i": 18,
          "loss": 3.630699872970581
         },
         {
          "i": 19,
          "loss": 3.5051393508911133
         },
         {
          "i": 20,
          "loss": 3.3854410648345947
         },
         {
          "i": 21,
          "loss": 3.271329402923584
         },
         {
          "i": 22,
          "loss": 3.1625418663024902
         },
         {
          "i": 23,
          "loss": 3.0588278770446777
         },
         {
          "i": 24,
          "loss": 2.9599497318267822
         },
         {
          "i": 25,
          "loss": 2.86568021774292
         },
         {
          "i": 26,
          "loss": 2.775803565979004
         },
         {
          "i": 27,
          "loss": 2.6901116371154785
         },
         {
          "i": 28,
          "loss": 2.608410120010376
         },
         {
          "i": 29,
          "loss": 2.530510902404785
         },
         {
          "i": 30,
          "loss": 2.4562361240386963
         },
         {
          "i": 31,
          "loss": 2.38541579246521
         },
         {
          "i": 32,
          "loss": 2.317887783050537
         },
         {
          "i": 33,
          "loss": 2.253498077392578
         },
         {
          "i": 34,
          "loss": 2.1920995712280273
         },
         {
          "i": 35,
          "loss": 2.1335527896881104
         },
         {
          "i": 36,
          "loss": 2.077723264694214
         },
         {
          "i": 37,
          "loss": 2.024484634399414
         },
         {
          "i": 38,
          "loss": 1.9737157821655273
         },
         {
          "i": 39,
          "loss": 1.9253010749816895
         },
         {
          "i": 40,
          "loss": 1.879130244255066
         },
         {
          "i": 41,
          "loss": 1.8350986242294312
         },
         {
          "i": 42,
          "loss": 1.7931064367294312
         },
         {
          "i": 43,
          "loss": 1.7530587911605835
         },
         {
          "i": 44,
          "loss": 1.7148637771606445
         },
         {
          "i": 45,
          "loss": 1.6784363985061646
         },
         {
          "i": 46,
          "loss": 1.643692970275879
         },
         {
          "i": 47,
          "loss": 1.6105557680130005
         },
         {
          "i": 48,
          "loss": 1.5789494514465332
         },
         {
          "i": 49,
          "loss": 1.5488030910491943
         },
         {
          "i": 50,
          "loss": 1.5200484991073608
         },
         {
          "i": 51,
          "loss": 1.4926209449768066
         },
         {
          "i": 52,
          "loss": 1.4664589166641235
         },
         {
          "i": 53,
          "loss": 1.4415028095245361
         },
         {
          "i": 54,
          "loss": 1.4176969528198242
         },
         {
          "i": 55,
          "loss": 1.3949882984161377
         },
         {
          "i": 56,
          "loss": 1.373324990272522
         },
         {
          "i": 57,
          "loss": 1.3526593446731567
         },
         {
          "i": 58,
          "loss": 1.332944393157959
         },
         {
          "i": 59,
          "loss": 1.3141361474990845
         },
         {
          "i": 60,
          "loss": 1.2961928844451904
         },
         {
          "i": 61,
          "loss": 1.2790740728378296
         },
         {
          "i": 62,
          "loss": 1.2627415657043457
         },
         {
          "i": 63,
          "loss": 1.2471591234207153
         },
         {
          "i": 64,
          "loss": 1.232291579246521
         },
         {
          "i": 65,
          "loss": 1.2181061506271362
         },
         {
          "i": 66,
          "loss": 1.20457124710083
         },
         {
          "i": 67,
          "loss": 1.1916567087173462
         },
         {
          "i": 68,
          "loss": 1.1793336868286133
         },
         {
          "i": 69,
          "loss": 1.1675752401351929
         },
         {
          "i": 70,
          "loss": 1.1563549041748047
         },
         {
          "i": 71,
          "loss": 1.145647644996643
         },
         {
          "i": 72,
          "loss": 1.1354303359985352
         },
         {
          "i": 73,
          "loss": 1.1256799697875977
         },
         {
          "i": 74,
          "loss": 1.1163749694824219
         },
         {
          "i": 75,
          "loss": 1.107494831085205
         },
         {
          "i": 76,
          "loss": 1.0990203619003296
         },
         {
          "i": 77,
          "loss": 1.0909323692321777
         },
         {
          "i": 78,
          "loss": 1.083212971687317
         },
         {
          "i": 79,
          "loss": 1.0758455991744995
         },
         {
          "i": 80,
          "loss": 1.0688138008117676
         },
         {
          "i": 81,
          "loss": 1.0621023178100586
         },
         {
          "i": 82,
          "loss": 1.0556961297988892
         },
         {
          "i": 83,
          "loss": 1.049581527709961
         },
         {
          "i": 84,
          "loss": 1.043744683265686
         },
         {
          "i": 85,
          "loss": 1.0381735563278198
         },
         {
          "i": 86,
          "loss": 1.0328551530838013
         },
         {
          "i": 87,
          "loss": 1.0277782678604126
         },
         {
          "i": 88,
          "loss": 1.022931694984436
         },
         {
          "i": 89,
          "loss": 1.0183049440383911
         },
         {
          "i": 90,
          "loss": 1.0138881206512451
         },
         {
          "i": 91,
          "loss": 1.0096713304519653
         },
         {
          "i": 92,
          "loss": 1.0056453943252563
         },
         {
          "i": 93,
          "loss": 1.0018017292022705
         },
         {
          "i": 94,
          "loss": 0.9981319308280945
         },
         {
          "i": 95,
          "loss": 0.9946280717849731
         },
         {
          "i": 96,
          "loss": 0.9912827014923096
         },
         {
          "i": 97,
          "loss": 0.9880882501602173
         },
         {
          "i": 98,
          "loss": 0.9850380420684814
         },
         {
          "i": 99,
          "loss": 0.982125461101532
         },
         {
          "i": 100,
          "loss": 0.9793442487716675
         },
         {
          "i": 101,
          "loss": 0.9766884446144104
         },
         {
          "i": 102,
          "loss": 0.974152147769928
         },
         {
          "i": 103,
          "loss": 0.9717300534248352
         },
         {
          "i": 104,
          "loss": 0.9694170355796814
         },
         {
          "i": 105,
          "loss": 0.9672079682350159
         },
         {
          "i": 106,
          "loss": 0.9650982618331909
         },
         {
          "i": 107,
          "loss": 0.9630832672119141
         },
         {
          "i": 108,
          "loss": 0.9611586928367615
         },
         {
          "i": 109,
          "loss": 0.959320604801178
         },
         {
          "i": 110,
          "loss": 0.9575648307800293
         },
         {
          "i": 111,
          "loss": 0.9558877348899841
         },
         {
          "i": 112,
          "loss": 0.9542858004570007
         },
         {
          "i": 113,
          "loss": 0.9527556896209717
         },
         {
          "i": 114,
          "loss": 0.9512940049171448
         },
         {
          "i": 115,
          "loss": 0.9498974680900574
         },
         {
          "i": 116,
          "loss": 0.9485636949539185
         },
         {
          "i": 117,
          "loss": 0.9472891092300415
         },
         {
          "i": 118,
          "loss": 0.9460718035697937
         },
         {
          "i": 119,
          "loss": 0.9449084401130676
         },
         {
          "i": 120,
          "loss": 0.9437971711158752
         },
         {
          "i": 121,
          "loss": 0.9427353143692017
         },
         {
          "i": 122,
          "loss": 0.9417206645011902
         },
         {
          "i": 123,
          "loss": 0.940751314163208
         },
         {
          "i": 124,
          "loss": 0.9398250579833984
         },
         {
          "i": 125,
          "loss": 0.9389399886131287
         },
         {
          "i": 126,
          "loss": 0.9380940198898315
         },
         {
          "i": 127,
          "loss": 0.9372859001159668
         },
         {
          "i": 128,
          "loss": 0.936513364315033
         },
         {
          "i": 129,
          "loss": 0.9357753992080688
         },
         {
          "i": 130,
          "loss": 0.9350699782371521
         },
         {
          "i": 131,
          "loss": 0.9343957304954529
         },
         {
          "i": 132,
          "loss": 0.9337513446807861
         },
         {
          "i": 133,
          "loss": 0.9331353902816772
         },
         {
          "i": 134,
          "loss": 0.932546854019165
         },
         {
          "i": 135,
          "loss": 0.931984007358551
         },
         {
          "i": 136,
          "loss": 0.9314463138580322
         },
         {
          "i": 137,
          "loss": 0.9309321641921997
         },
         {
          "i": 138,
          "loss": 0.9304406642913818
         },
         {
          "i": 139,
          "loss": 0.9299709796905518
         },
         {
          "i": 140,
          "loss": 0.9295217394828796
         },
         {
          "i": 141,
          "loss": 0.9290924668312073
         },
         {
          "i": 142,
          "loss": 0.9286819696426392
         },
         {
          "i": 143,
          "loss": 0.9282894730567932
         },
         {
          "i": 144,
          "loss": 0.9279142022132874
         },
         {
          "i": 145,
          "loss": 0.9275554418563843
         },
         {
          "i": 146,
          "loss": 0.9272123575210571
         },
         {
          "i": 147,
          "loss": 0.9268844723701477
         },
         {
          "i": 148,
          "loss": 0.9265708327293396
         },
         {
          "i": 149,
          "loss": 0.9262707233428955
         },
         {
          "i": 150,
          "loss": 0.9259840250015259
         },
         {
          "i": 151,
          "loss": 0.9257096648216248
         },
         {
          "i": 152,
          "loss": 0.9254472851753235
         },
         {
          "i": 153,
          "loss": 0.9251965284347534
         },
         {
          "i": 154,
          "loss": 0.9249565005302429
         },
         {
          "i": 155,
          "loss": 0.9247270822525024
         },
         {
          "i": 156,
          "loss": 0.9245074987411499
         },
         {
          "i": 157,
          "loss": 0.9242976307868958
         },
         {
          "i": 158,
          "loss": 0.9240967035293579
         },
         {
          "i": 159,
          "loss": 0.9239045977592468
         },
         {
          "i": 160,
          "loss": 0.9237207770347595
         },
         {
          "i": 161,
          "loss": 0.9235450029373169
         },
         {
          "i": 162,
          "loss": 0.9233768582344055
         },
         {
          "i": 163,
          "loss": 0.923215925693512
         },
         {
          "i": 164,
          "loss": 0.9230619072914124
         },
         {
          "i": 165,
          "loss": 0.9229147434234619
         },
         {
          "i": 166,
          "loss": 0.9227736592292786
         },
         {
          "i": 167,
          "loss": 0.9226388335227966
         },
         {
          "i": 168,
          "loss": 0.9225099086761475
         },
         {
          "i": 169,
          "loss": 0.9223864078521729
         },
         {
          "i": 170,
          "loss": 0.9222681522369385
         },
         {
          "i": 171,
          "loss": 0.9221550822257996
         },
         {
          "i": 172,
          "loss": 0.9220468997955322
         },
         {
          "i": 173,
          "loss": 0.9219433069229126
         },
         {
          "i": 174,
          "loss": 0.9218441843986511
         },
         {
          "i": 175,
          "loss": 0.9217494130134583
         },
         {
          "i": 176,
          "loss": 0.9216586351394653
         },
         {
          "i": 177,
          "loss": 0.9215715527534485
         },
         {
          "i": 178,
          "loss": 0.9214885234832764
         },
         {
          "i": 179,
          "loss": 0.9214088320732117
         },
         {
          "i": 180,
          "loss": 0.9213325381278992
         },
         {
          "i": 181,
          "loss": 0.9212594032287598
         },
         {
          "i": 182,
          "loss": 0.9211896657943726
         },
         {
          "i": 183,
          "loss": 0.9211227297782898
         },
         {
          "i": 184,
          "loss": 0.9210586547851562
         },
         {
          "i": 185,
          "loss": 0.9209974408149719
         },
         {
          "i": 186,
          "loss": 0.9209386706352234
         },
         {
          "i": 187,
          "loss": 0.9208824634552002
         },
         {
          "i": 188,
          "loss": 0.9208284616470337
         },
         {
          "i": 189,
          "loss": 0.9207770824432373
         },
         {
          "i": 190,
          "loss": 0.9207276701927185
         },
         {
          "i": 191,
          "loss": 0.9206802845001221
         },
         {
          "i": 192,
          "loss": 0.9206350445747375
         },
         {
          "i": 193,
          "loss": 0.9205916523933411
         },
         {
          "i": 194,
          "loss": 0.9205501079559326
         },
         {
          "i": 195,
          "loss": 0.9205104112625122
         },
         {
          "i": 196,
          "loss": 0.920472264289856
         },
         {
          "i": 197,
          "loss": 0.9204354882240295
         },
         {
          "i": 198,
          "loss": 0.9204006195068359
         },
         {
          "i": 199,
          "loss": 0.9203671216964722
         },
         {
          "i": 200,
          "loss": 0.9203349947929382
         },
         {
          "i": 201,
          "loss": 0.9203042387962341
         },
         {
          "i": 202,
          "loss": 0.9202747941017151
         },
         {
          "i": 203,
          "loss": 0.9202466011047363
         },
         {
          "i": 204,
          "loss": 0.9202194213867188
         },
         {
          "i": 205,
          "loss": 0.9201934337615967
         },
         {
          "i": 206,
          "loss": 0.9201686382293701
         },
         {
          "i": 207,
          "loss": 0.92014479637146
         },
         {
          "i": 208,
          "loss": 0.9201219081878662
         },
         {
          "i": 209,
          "loss": 0.9201001524925232
         },
         {
          "i": 210,
          "loss": 0.9200791120529175
         },
         {
          "i": 211,
          "loss": 0.9200589656829834
         },
         {
          "i": 212,
          "loss": 0.9200397729873657
         },
         {
          "i": 213,
          "loss": 0.9200212955474854
         },
         {
          "i": 214,
          "loss": 0.9200035333633423
         },
         {
          "i": 215,
          "loss": 0.9199866652488708
         },
         {
          "i": 216,
          "loss": 0.9199703931808472
         },
         {
          "i": 217,
          "loss": 0.9199548363685608
         },
         {
          "i": 218,
          "loss": 0.9199398159980774
         },
         {
          "i": 219,
          "loss": 0.9199254512786865
         },
         {
          "i": 220,
          "loss": 0.919911801815033
         },
         {
          "i": 221,
          "loss": 0.9198984503746033
         },
         {
          "i": 222,
          "loss": 0.9198859930038452
         },
         {
          "i": 223,
          "loss": 0.919873833656311
         },
         {
          "i": 224,
          "loss": 0.9198622107505798
         },
         {
          "i": 225,
          "loss": 0.9198510050773621
         },
         {
          "i": 226,
          "loss": 0.9198402166366577
         },
         {
          "i": 227,
          "loss": 0.9198300242424011
         },
         {
          "i": 228,
          "loss": 0.919820249080658
         },
         {
          "i": 229,
          "loss": 0.9198107719421387
         },
         {
          "i": 230,
          "loss": 0.9198017120361328
         },
         {
          "i": 231,
          "loss": 0.9197929501533508
         },
         {
          "i": 232,
          "loss": 0.9197845458984375
         },
         {
          "i": 233,
          "loss": 0.9197766184806824
         },
         {
          "i": 234,
          "loss": 0.9197689890861511
         },
         {
          "i": 235,
          "loss": 0.9197614789009094
         },
         {
          "i": 236,
          "loss": 0.9197545647621155
         },
         {
          "i": 237,
          "loss": 0.9197477102279663
         },
         {
          "i": 238,
          "loss": 0.9197412133216858
         },
         {
          "i": 239,
          "loss": 0.9197350144386292
         },
         {
          "i": 240,
          "loss": 0.9197289347648621
         },
         {
          "i": 241,
          "loss": 0.9197232127189636
         },
         {
          "i": 242,
          "loss": 0.9197177290916443
         },
         {
          "i": 243,
          "loss": 0.9197123646736145
         },
         {
          "i": 244,
          "loss": 0.9197074174880981
         },
         {
          "i": 245,
          "loss": 0.9197024703025818
         },
         {
          "i": 246,
          "loss": 0.9196978211402893
         },
         {
          "i": 247,
          "loss": 0.9196932911872864
         },
         {
          "i": 248,
          "loss": 0.9196889400482178
         },
         {
          "i": 249,
          "loss": 0.9196847677230835
         },
         {
          "i": 250,
          "loss": 0.9196807146072388
         },
         {
          "i": 251,
          "loss": 0.9196768999099731
         },
         {
          "i": 252,
          "loss": 0.9196732044219971
         },
         {
          "i": 253,
          "loss": 0.9196696281433105
         },
         {
          "i": 254,
          "loss": 0.9196662306785583
         },
         {
          "i": 255,
          "loss": 0.9196630716323853
         },
         {
          "i": 256,
          "loss": 0.9196599721908569
         },
         {
          "i": 257,
          "loss": 0.9196569323539734
         },
         {
          "i": 258,
          "loss": 0.9196540117263794
         },
         {
          "i": 259,
          "loss": 0.9196513295173645
         },
         {
          "i": 260,
          "loss": 0.9196485877037048
         },
         {
          "i": 261,
          "loss": 0.9196460843086243
         },
         {
          "i": 262,
          "loss": 0.9196435809135437
         },
         {
          "i": 263,
          "loss": 0.9196411967277527
         },
         {
          "i": 264,
          "loss": 0.9196388721466064
         },
         {
          "i": 265,
          "loss": 0.9196367859840393
         },
         {
          "i": 266,
          "loss": 0.9196346402168274
         },
         {
          "i": 267,
          "loss": 0.9196326732635498
         },
         {
          "i": 268,
          "loss": 0.919630765914917
         },
         {
          "i": 269,
          "loss": 0.9196287393569946
         },
         {
          "i": 270,
          "loss": 0.9196270108222961
         },
         {
          "i": 271,
          "loss": 0.9196253418922424
         },
         {
          "i": 272,
          "loss": 0.9196237325668335
         },
         {
          "i": 273,
          "loss": 0.9196220636367798
         },
         {
          "i": 274,
          "loss": 0.9196205735206604
         },
         {
          "i": 275,
          "loss": 0.919619083404541
         },
         {
          "i": 276,
          "loss": 0.9196177124977112
         },
         {
          "i": 277,
          "loss": 0.919616162776947
         },
         {
          "i": 278,
          "loss": 0.9196150302886963
         },
         {
          "i": 279,
          "loss": 0.9196135997772217
         },
         {
          "i": 280,
          "loss": 0.9196125864982605
         },
         {
          "i": 281,
          "loss": 0.9196112751960754
         },
         {
          "i": 282,
          "loss": 0.9196102619171143
         },
         {
          "i": 283,
          "loss": 0.9196092486381531
         },
         {
          "i": 284,
          "loss": 0.9196080565452576
         },
         {
          "i": 285,
          "loss": 0.9196071028709412
         },
         {
          "i": 286,
          "loss": 0.91960608959198
         },
         {
          "i": 287,
          "loss": 0.9196052551269531
         },
         {
          "i": 288,
          "loss": 0.9196043610572815
         },
         {
          "i": 289,
          "loss": 0.9196034073829651
         },
         {
          "i": 290,
          "loss": 0.919602632522583
         },
         {
          "i": 291,
          "loss": 0.9196017980575562
         },
         {
          "i": 292,
          "loss": 0.9196010828018188
         },
         {
          "i": 293,
          "loss": 0.9196003079414368
         },
         {
          "i": 294,
          "loss": 0.9195995926856995
         },
         {
          "i": 295,
          "loss": 0.9195989966392517
         },
         {
          "i": 296,
          "loss": 0.9195983409881592
         },
         {
          "i": 297,
          "loss": 0.9195976853370667
         },
         {
          "i": 298,
          "loss": 0.9195970892906189
         },
         {
          "i": 299,
          "loss": 0.9195964932441711
         },
         {
          "i": 300,
          "loss": 0.9195958971977234
         },
         {
          "i": 301,
          "loss": 0.9195954203605652
         },
         {
          "i": 302,
          "loss": 0.9195948243141174
         },
         {
          "i": 303,
          "loss": 0.9195945262908936
         },
         {
          "i": 304,
          "loss": 0.9195939898490906
         },
         {
          "i": 305,
          "loss": 0.9195934534072876
         },
         {
          "i": 306,
          "loss": 0.9195929765701294
         },
         {
          "i": 307,
          "loss": 0.9195924997329712
         },
         {
          "i": 308,
          "loss": 0.9195921421051025
         },
         {
          "i": 309,
          "loss": 0.9195916652679443
         },
         {
          "i": 310,
          "loss": 0.9195913672447205
         },
         {
          "i": 311,
          "loss": 0.9195910096168518
         },
         {
          "i": 312,
          "loss": 0.9195905327796936
         },
         {
          "i": 313,
          "loss": 0.9195902943611145
         },
         {
          "i": 314,
          "loss": 0.9195898175239563
         },
         {
          "i": 315,
          "loss": 0.9195895195007324
         },
         {
          "i": 316,
          "loss": 0.9195894002914429
         },
         {
          "i": 317,
          "loss": 0.9195889234542847
         },
         {
          "i": 318,
          "loss": 0.9195888042449951
         },
         {
          "i": 319,
          "loss": 0.9195883870124817
         },
         {
          "i": 320,
          "loss": 0.9195881485939026
         },
         {
          "i": 321,
          "loss": 0.9195879101753235
         },
         {
          "i": 322,
          "loss": 0.9195876121520996
         },
         {
          "i": 323,
          "loss": 0.9195873737335205
         },
         {
          "i": 324,
          "loss": 0.919587254524231
         },
         {
          "i": 325,
          "loss": 0.9195870161056519
         },
         {
          "i": 326,
          "loss": 0.9195866584777832
         },
         {
          "i": 327,
          "loss": 0.9195865392684937
         },
         {
          "i": 328,
          "loss": 0.9195864200592041
         },
         {
          "i": 329,
          "loss": 0.9195861220359802
         },
         {
          "i": 330,
          "loss": 0.9195859432220459
         },
         {
          "i": 331,
          "loss": 0.9195857048034668
         },
         {
          "i": 332,
          "loss": 0.919585645198822
         },
         {
          "i": 333,
          "loss": 0.9195854663848877
         },
         {
          "i": 334,
          "loss": 0.9195852875709534
         },
         {
          "i": 335,
          "loss": 0.9195851683616638
         },
         {
          "i": 336,
          "loss": 0.9195850491523743
         },
         {
          "i": 337,
          "loss": 0.9195848107337952
         },
         {
          "i": 338,
          "loss": 0.9195847511291504
         },
         {
          "i": 339,
          "loss": 0.9195846319198608
         },
         {
          "i": 340,
          "loss": 0.9195844531059265
         },
         {
          "i": 341,
          "loss": 0.9195842742919922
         },
         {
          "i": 342,
          "loss": 0.9195840954780579
         },
         {
          "i": 343,
          "loss": 0.9195839762687683
         },
         {
          "i": 344,
          "loss": 0.9195839762687683
         },
         {
          "i": 345,
          "loss": 0.9195840358734131
         },
         {
          "i": 346,
          "loss": 0.9195836782455444
         },
         {
          "i": 347,
          "loss": 0.9195835590362549
         },
         {
          "i": 348,
          "loss": 0.9195835590362549
         },
         {
          "i": 349,
          "loss": 0.9195834994316101
         },
         {
          "i": 350,
          "loss": 0.919583261013031
         },
         {
          "i": 351,
          "loss": 0.919583261013031
         },
         {
          "i": 352,
          "loss": 0.919583261013031
         },
         {
          "i": 353,
          "loss": 0.9195831418037415
         },
         {
          "i": 354,
          "loss": 0.9195831418037415
         },
         {
          "i": 355,
          "loss": 0.9195829629898071
         },
         {
          "i": 356,
          "loss": 0.9195829033851624
         },
         {
          "i": 357,
          "loss": 0.919582724571228
         },
         {
          "i": 358,
          "loss": 0.9195828437805176
         },
         {
          "i": 359,
          "loss": 0.9195826649665833
         },
         {
          "i": 360,
          "loss": 0.9195826053619385
         },
         {
          "i": 361,
          "loss": 0.9195826053619385
         },
         {
          "i": 362,
          "loss": 0.9195825457572937
         },
         {
          "i": 363,
          "loss": 0.9195824265480042
         },
         {
          "i": 364,
          "loss": 0.9195823669433594
         },
         {
          "i": 365,
          "loss": 0.9195823073387146
         },
         {
          "i": 366,
          "loss": 0.9195823669433594
         },
         {
          "i": 367,
          "loss": 0.919582188129425
         },
         {
          "i": 368,
          "loss": 0.919582188129425
         },
         {
          "i": 369,
          "loss": 0.9195821285247803
         },
         {
          "i": 370,
          "loss": 0.9195820689201355
         },
         {
          "i": 371,
          "loss": 0.9195820689201355
         },
         {
          "i": 372,
          "loss": 0.9195820093154907
         },
         {
          "i": 373,
          "loss": 0.9195820093154907
         },
         {
          "i": 374,
          "loss": 0.9195818901062012
         },
         {
          "i": 375,
          "loss": 0.9195818305015564
         },
         {
          "i": 376,
          "loss": 0.9195818305015564
         },
         {
          "i": 377,
          "loss": 0.9195816516876221
         },
         {
          "i": 378,
          "loss": 0.9195818305015564
         },
         {
          "i": 379,
          "loss": 0.9195817708969116
         },
         {
          "i": 380,
          "loss": 0.9195816516876221
         },
         {
          "i": 381,
          "loss": 0.9195817708969116
         },
         {
          "i": 382,
          "loss": 0.9195815920829773
         },
         {
          "i": 383,
          "loss": 0.9195815920829773
         },
         {
          "i": 384,
          "loss": 0.9195815324783325
         },
         {
          "i": 385,
          "loss": 0.9195815324783325
         },
         {
          "i": 386,
          "loss": 0.9195814728736877
         },
         {
          "i": 387,
          "loss": 0.9195815920829773
         },
         {
          "i": 388,
          "loss": 0.9195814728736877
         },
         {
          "i": 389,
          "loss": 0.9195814728736877
         },
         {
          "i": 390,
          "loss": 0.9195813536643982
         },
         {
          "i": 391,
          "loss": 0.9195813536643982
         },
         {
          "i": 392,
          "loss": 0.9195813536643982
         },
         {
          "i": 393,
          "loss": 0.9195813536643982
         },
         {
          "i": 394,
          "loss": 0.9195812940597534
         },
         {
          "i": 395,
          "loss": 0.9195812940597534
         },
         {
          "i": 396,
          "loss": 0.9195812344551086
         },
         {
          "i": 397,
          "loss": 0.9195813536643982
         },
         {
          "i": 398,
          "loss": 0.9195812344551086
         },
         {
          "i": 399,
          "loss": 0.9195812344551086
         },
         {
          "i": 400,
          "loss": 0.9195812344551086
         },
         {
          "i": 401,
          "loss": 0.9195811748504639
         },
         {
          "i": 402,
          "loss": 0.9195810556411743
         },
         {
          "i": 403,
          "loss": 0.9195811748504639
         },
         {
          "i": 404,
          "loss": 0.9195811748504639
         },
         {
          "i": 405,
          "loss": 0.9195810556411743
         },
         {
          "i": 406,
          "loss": 0.9195811748504639
         },
         {
          "i": 407,
          "loss": 0.9195811748504639
         },
         {
          "i": 408,
          "loss": 0.9195811748504639
         },
         {
          "i": 409,
          "loss": 0.9195811748504639
         },
         {
          "i": 410,
          "loss": 0.9195811748504639
         },
         {
          "i": 411,
          "loss": 0.9195809960365295
         },
         {
          "i": 412,
          "loss": 0.9195809960365295
         },
         {
          "i": 413,
          "loss": 0.9195812344551086
         },
         {
          "i": 414,
          "loss": 0.9195810556411743
         },
         {
          "i": 415,
          "loss": 0.9195810556411743
         },
         {
          "i": 416,
          "loss": 0.9195810556411743
         },
         {
          "i": 417,
          "loss": 0.9195810556411743
         },
         {
          "i": 418,
          "loss": 0.9195809960365295
         },
         {
          "i": 419,
          "loss": 0.9195809960365295
         },
         {
          "i": 420,
          "loss": 0.9195809960365295
         },
         {
          "i": 421,
          "loss": 0.9195809364318848
         },
         {
          "i": 422,
          "loss": 0.9195810556411743
         },
         {
          "i": 423,
          "loss": 0.9195809364318848
         },
         {
          "i": 424,
          "loss": 0.9195809364318848
         },
         {
          "i": 425,
          "loss": 0.9195810556411743
         },
         {
          "i": 426,
          "loss": 0.9195809364318848
         },
         {
          "i": 427,
          "loss": 0.9195809364318848
         },
         {
          "i": 428,
          "loss": 0.9195809364318848
         },
         {
          "i": 429,
          "loss": 0.9195808172225952
         },
         {
          "i": 430,
          "loss": 0.9195810556411743
         },
         {
          "i": 431,
          "loss": 0.9195809364318848
         },
         {
          "i": 432,
          "loss": 0.9195809364318848
         },
         {
          "i": 433,
          "loss": 0.9195808172225952
         },
         {
          "i": 434,
          "loss": 0.9195808172225952
         },
         {
          "i": 435,
          "loss": 0.9195809364318848
         },
         {
          "i": 436,
          "loss": 0.9195808172225952
         },
         {
          "i": 437,
          "loss": 0.9195808172225952
         },
         {
          "i": 438,
          "loss": 0.9195808172225952
         },
         {
          "i": 439,
          "loss": 0.9195807576179504
         },
         {
          "i": 440,
          "loss": 0.9195809364318848
         },
         {
          "i": 441,
          "loss": 0.9195808172225952
         },
         {
          "i": 442,
          "loss": 0.9195806980133057
         },
         {
          "i": 443,
          "loss": 0.9195807576179504
         },
         {
          "i": 444,
          "loss": 0.9195808172225952
         },
         {
          "i": 445,
          "loss": 0.9195807576179504
         },
         {
          "i": 446,
          "loss": 0.9195809364318848
         },
         {
          "i": 447,
          "loss": 0.9195808172225952
         },
         {
          "i": 448,
          "loss": 0.9195807576179504
         },
         {
          "i": 449,
          "loss": 0.9195808172225952
         },
         {
          "i": 450,
          "loss": 0.9195807576179504
         },
         {
          "i": 451,
          "loss": 0.9195808172225952
         },
         {
          "i": 452,
          "loss": 0.9195809364318848
         },
         {
          "i": 453,
          "loss": 0.9195807576179504
         },
         {
          "i": 454,
          "loss": 0.9195809364318848
         },
         {
          "i": 455,
          "loss": 0.9195807576179504
         },
         {
          "i": 456,
          "loss": 0.9195808172225952
         },
         {
          "i": 457,
          "loss": 0.9195807576179504
         },
         {
          "i": 458,
          "loss": 0.9195807576179504
         },
         {
          "i": 459,
          "loss": 0.9195808172225952
         },
         {
          "i": 460,
          "loss": 0.9195807576179504
         },
         {
          "i": 461,
          "loss": 0.9195807576179504
         },
         {
          "i": 462,
          "loss": 0.9195807576179504
         },
         {
          "i": 463,
          "loss": 0.9195807576179504
         },
         {
          "i": 464,
          "loss": 0.9195808172225952
         },
         {
          "i": 465,
          "loss": 0.9195806980133057
         },
         {
          "i": 466,
          "loss": 0.9195806980133057
         },
         {
          "i": 467,
          "loss": 0.9195807576179504
         },
         {
          "i": 468,
          "loss": 0.9195807576179504
         },
         {
          "i": 469,
          "loss": 0.9195808172225952
         },
         {
          "i": 470,
          "loss": 0.9195808172225952
         },
         {
          "i": 471,
          "loss": 0.9195806980133057
         },
         {
          "i": 472,
          "loss": 0.9195806980133057
         },
         {
          "i": 473,
          "loss": 0.9195807576179504
         },
         {
          "i": 474,
          "loss": 0.9195807576179504
         },
         {
          "i": 475,
          "loss": 0.9195806980133057
         },
         {
          "i": 476,
          "loss": 0.9195807576179504
         },
         {
          "i": 477,
          "loss": 0.9195809364318848
         },
         {
          "i": 478,
          "loss": 0.9195807576179504
         },
         {
          "i": 479,
          "loss": 0.9195807576179504
         },
         {
          "i": 480,
          "loss": 0.9195808172225952
         },
         {
          "i": 481,
          "loss": 0.9195806980133057
         },
         {
          "i": 482,
          "loss": 0.9195806980133057
         },
         {
          "i": 483,
          "loss": 0.9195806980133057
         },
         {
          "i": 484,
          "loss": 0.9195807576179504
         },
         {
          "i": 485,
          "loss": 0.9195806980133057
         },
         {
          "i": 486,
          "loss": 0.9195808172225952
         },
         {
          "i": 487,
          "loss": 0.9195807576179504
         },
         {
          "i": 488,
          "loss": 0.9195807576179504
         },
         {
          "i": 489,
          "loss": 0.9195807576179504
         },
         {
          "i": 490,
          "loss": 0.9195808172225952
         },
         {
          "i": 491,
          "loss": 0.9195807576179504
         },
         {
          "i": 492,
          "loss": 0.9195808172225952
         },
         {
          "i": 493,
          "loss": 0.9195806980133057
         },
         {
          "i": 494,
          "loss": 0.9195806980133057
         },
         {
          "i": 495,
          "loss": 0.9195806980133057
         },
         {
          "i": 496,
          "loss": 0.9195806980133057
         },
         {
          "i": 497,
          "loss": 0.9195806980133057
         },
         {
          "i": 498,
          "loss": 0.9195806384086609
         },
         {
          "i": 499,
          "loss": 0.9195806980133057
         }
        ]
       },
       "encoding": {
        "x": {
         "field": "i",
         "type": "quantitative"
        },
        "y": {
         "field": "loss",
         "type": "quantitative"
        }
       },
       "mark": "line"
      },
      "image/png": "[encoded data removed]",
      "text/plain": [
       "<VegaLite 3 object>\n",
       "\n",
       "If you see this message, it means the renderer has not been properly enabled\n",
       "for the frontend that you are using. For more information, see\n",
       "https://altair-viz.github.io/user_guide/troubleshooting.html\n"
      ]
     },
     "execution_count": 283,
     "metadata": {},
     "output_type": "execute_result"
    }
   ],
   "source": [
    "import altair as alt\n",
    "import pandas as pd\n",
    "\n",
    "loss_df = pd.DataFrame({'i':range(500), 'loss':loss_record})\n",
    "alt.Chart(loss_df).mark_line().encode(x='i', y='loss')"
   ]
  },
  {
   "cell_type": "markdown",
   "metadata": {},
   "source": [
    "We see training loss goes down."
   ]
  },
  {
   "cell_type": "markdown",
   "metadata": {},
   "source": [
    "And here's the value of $\\beta$ after 500 iterations:"
   ]
  },
  {
   "cell_type": "code",
   "execution_count": 284,
   "metadata": {},
   "outputs": [
    {
     "data": {
      "text/plain": [
       "tensor([[ 0.0900],\n",
       "        [-0.0986],\n",
       "        [-0.1356],\n",
       "        [-0.0855],\n",
       "        [ 0.0450]], requires_grad=True)"
      ]
     },
     "execution_count": 284,
     "metadata": {},
     "output_type": "execute_result"
    }
   ],
   "source": [
    "β"
   ]
  },
  {
   "cell_type": "markdown",
   "metadata": {},
   "source": [
    "Remember our original data is totally random and there is no relationship between the predictors and outcomes. So the \"right\" answer for what $\\beta$ should be in this case is $\\beta=0$. As we see above, all the values are near 0, so our algorithm appears to be converging to the right answer."
   ]
  },
  {
   "cell_type": "markdown",
   "metadata": {},
   "source": [
    "To predict for a new observation, all we have to do is multiply by $\\beta$:"
   ]
  },
  {
   "cell_type": "code",
   "execution_count": 285,
   "metadata": {},
   "outputs": [
    {
     "data": {
      "text/plain": [
       "tensor([[-0.0175],\n",
       "        [ 0.0421],\n",
       "        [ 0.2226],\n",
       "        [ 0.1352],\n",
       "        [-0.3951],\n",
       "        [-0.1273],\n",
       "        [-0.0518],\n",
       "        [ 0.0392],\n",
       "        [-0.1468],\n",
       "        [-0.1083]], grad_fn=<MmBackward>)"
      ]
     },
     "execution_count": 285,
     "metadata": {},
     "output_type": "execute_result"
    }
   ],
   "source": [
    "new_x = torch.randn(10, 5) # 10 new observations\n",
    "torch.matmul(new_x, β) # predictions"
   ]
  },
  {
   "cell_type": "markdown",
   "metadata": {},
   "source": [
    "### Conclusion"
   ]
  },
  {
   "cell_type": "markdown",
   "metadata": {},
   "source": [
    "We just developed a machine learning method out of these three components:\n",
    "* linear model (model)\n",
    "* MSE loss (loss)\n",
    "* gradient descent (search algorithm)\n",
    "\n",
    "These components are like interchangable parts. We're going to see how we can use a different model and loss to fit data of a different kind without fundamentally changing our search strategy."
   ]
  },
  {
   "cell_type": "markdown",
   "metadata": {},
   "source": [
    "# Logistic Regression"
   ]
  },
  {
   "cell_type": "markdown",
   "metadata": {},
   "source": [
    "Now that we've seen how this works for linear regression, we can try and implement a model that predicts probabilities for a two-class outcome instead of a prediction for a continuous outcome. Now our data look like this:"
   ]
  },
  {
   "cell_type": "code",
   "execution_count": 286,
   "metadata": {},
   "outputs": [],
   "source": [
    "n,p = 100,5\n",
    "x = torch.randn(n,5) # predictors (10 observations, 5 features)\n",
    "y = torch.randint(0,2,(n,), dtype=torch.float) # outcomes (10 observations)"
   ]
  },
  {
   "cell_type": "code",
   "execution_count": 287,
   "metadata": {},
   "outputs": [
    {
     "data": {
      "text/plain": [
       "tensor([0., 0., 0., 1., 1.])"
      ]
     },
     "execution_count": 287,
     "metadata": {},
     "output_type": "execute_result"
    }
   ],
   "source": [
    "y[0:5]"
   ]
  },
  {
   "cell_type": "markdown",
   "metadata": {},
   "source": [
    "## Changing the model"
   ]
  },
  {
   "cell_type": "markdown",
   "metadata": {},
   "source": [
    "To do this, we have to change two things: firstly, our model can't be $\\hat y_i  = x_i\\beta$ anymore because $\\hat y_i$ will come out as a number between plus and minus infinity, wheras we now want it to be a number between 0 and 1 (a probability). To fix this, we'll apply a function that takes $x_i\\beta$ and squishes it down to a number between 0 and 1. The function we'll use is $\\sigma(z) = \\frac{1}{1+e^{-z}}$, which is called the *sigmoid* or *logistic* function. "
   ]
  },
  {
   "cell_type": "markdown",
   "metadata": {},
   "source": [
    "![](https://upload.wikimedia.org/wikipedia/commons/thumb/8/88/Logistic-curve.svg/600px-Logistic-curve.svg.png)"
   ]
  },
  {
   "cell_type": "markdown",
   "metadata": {},
   "source": [
    "So our model will be $\\hat p_i  = \\sigma(x_i\\beta)$. The parameters are still $\\beta$, but now there is an additional (fixed) squishing function that makes sure the output is a probability. In accordance, I've called the output $\\hat p_i$ instead of $\\hat y_i$."
   ]
  },
  {
   "cell_type": "markdown",
   "metadata": {},
   "source": [
    "## Changing the loss"
   ]
  },
  {
   "cell_type": "markdown",
   "metadata": {},
   "source": [
    "Our loss function from before was MSE: $\\sum (\\hat y_i - y_i)^2$, which compares a predicted outcome to the true outcome. One option is to replace the predicted outcome with a predicted probability to get $\\sum (\\hat p_i - y_i)^2$ (the _Brier Score_). Here's what that looks like (for a single observation $i$):"
   ]
  },
  {
   "cell_type": "markdown",
   "metadata": {},
   "source": [
    "![](http://journal.sjdm.org/16/16218/jdm16218001.png)"
   ]
  },
  {
   "cell_type": "markdown",
   "metadata": {},
   "source": [
    "This is ok, but many people don't like that there is a maximum penalty under this loss: if the true outcome was $y_i =0$ but the model predicts $p_j = P(Y_i=1) = 1$ (i.e. $y_i =1$ with absolute certainty), then the penalty should be infinitely high to strongly discrourage this kind of overconfident (wrong) prediction. Under the Brier score, however, you can see that this kind of prediction only incurrs a loss of 1, not infinity. Furthermore, when the outcome is 1 and the prediction gets closer and closer to 1, we see that the loss \"flattens out\", which means that we're not encouraged to be more and more confident when we're right."
   ]
  },
  {
   "cell_type": "markdown",
   "metadata": {},
   "source": [
    "What we want is a loss function that looks like this:"
   ]
  },
  {
   "cell_type": "markdown",
   "metadata": {},
   "source": [
    "![](https://conorsdatablog.files.wordpress.com/2018/03/log_loss.png?w=615&h=597)"
   ]
  },
  {
   "cell_type": "markdown",
   "metadata": {},
   "source": [
    "This is called the _log-loss_ (or _cross-entropy loss_ or _binomial deviance_). It is expressed as \n",
    "\n",
    "$$\n",
    "L(\\hat p, y) = \n",
    "\\frac{1}{n}\n",
    "\\sum_i \n",
    "\\begin{cases}\n",
    "-\\log(P(Y_i = 1)) & \\text{if}\\ y_i=1 \\\\\n",
    "-\\log(P(Y_i = 0)) & \\text{if}\\ y_i=0\n",
    "\\end{cases}\n",
    "$$"
   ]
  },
  {
   "cell_type": "markdown",
   "metadata": {},
   "source": [
    "which is the same as "
   ]
  },
  {
   "cell_type": "markdown",
   "metadata": {},
   "source": [
    "$$\n",
    "=\n",
    "\\frac{1}{n}\n",
    "\\sum_i \n",
    "\\begin{cases}\n",
    "-\\log(\\hat p_i) & \\text{if}\\ y_i=1 \\\\\n",
    "-\\log(1-\\hat p_i) & \\text{if}\\ y_i=0\n",
    "\\end{cases}\n",
    "\\\\\n",
    "= \n",
    "-\\frac{1}{n}\n",
    "\\sum_i \n",
    "y_i \\log(\\hat p_i) + (1-y_i) \\log (1-\\hat p_i)\n",
    "$$"
   ]
  },
  {
   "cell_type": "markdown",
   "metadata": {},
   "source": [
    "## Search strategy is still gradient descent"
   ]
  },
  {
   "cell_type": "markdown",
   "metadata": {},
   "source": [
    "This combination of logistic-linear model and log-loss is called _logistic regression_ (although this is a misnomer because we're actually doing classification, not regression). The amazing thing about gradient descent is that, as long as you can differentiate through the loss and to the model parameters, it just works. Compare this code to what we did to fit our linear regression model."
   ]
  },
  {
   "cell_type": "code",
   "execution_count": 294,
   "metadata": {},
   "outputs": [
    {
     "data": {
      "text/plain": [
       "tensor([[ 0.0201],\n",
       "        [-0.5079],\n",
       "        [-1.4797],\n",
       "        [-0.1254],\n",
       "        [ 1.5459]], requires_grad=True)"
      ]
     },
     "execution_count": 294,
     "metadata": {},
     "output_type": "execute_result"
    }
   ],
   "source": [
    "x = torch.randn(100, 5) # predictors (10 observations, 5 features)\n",
    "y = torch.randint(0,2,(n,), dtype=torch.float) # outcomes (10 observations)\n",
    "\n",
    "loss_record = [] # to kep track of the loss over the iterations\n",
    "β = torch.randn(5,1) # 5 coefficients (one per feature)\n",
    "β.requires_grad_() # tell torch that β is going to have to save the gradient of something with respect to itself at some point"
   ]
  },
  {
   "cell_type": "code",
   "execution_count": 295,
   "metadata": {},
   "outputs": [],
   "source": [
    "for e in range(500):\n",
    "    z = torch.matmul(x, β) \n",
    "    p̂ = torch.exp(-z)/(1+torch.exp(-z))\n",
    "    L = -torch.sum(torch.log(p̂)*y + torch.log(1-p̂)*(1-y))/n # log loss\n",
    "    \n",
    "    L.backward() # compute gradients (in this case δL/δβ, δL/δW)\n",
    "    loss_record.append(L.item())\n",
    "    \n",
    "    with torch.no_grad(): # take the gradient descent step \n",
    "        β -= 10e-4 * β.grad\n",
    "        β.grad.zero_()"
   ]
  },
  {
   "cell_type": "code",
   "execution_count": 296,
   "metadata": {},
   "outputs": [
    {
     "data": {
      "application/vnd.vegalite.v3+json": {
       "$schema": "https://vega.github.io/schema/vega-lite/v3.4.0.json",
       "config": {
        "mark": {
         "tooltip": null
        },
        "view": {
         "height": 300,
         "width": 400
        }
       },
       "data": {
        "name": "data-568636c7fea620a9c899a2c49afb19ce"
       },
       "datasets": {
        "data-568636c7fea620a9c899a2c49afb19ce": [
         {
          "i": 0,
          "loss": 122.47544860839844
         },
         {
          "i": 1,
          "loss": 121.11802673339844
         },
         {
          "i": 2,
          "loss": 119.7752456665039
         },
         {
          "i": 3,
          "loss": 118.4474868774414
         },
         {
          "i": 4,
          "loss": 117.135009765625
         },
         {
          "i": 5,
          "loss": 115.83808898925781
         },
         {
          "i": 6,
          "loss": 114.55705261230469
         },
         {
          "i": 7,
          "loss": 113.29216766357422
         },
         {
          "i": 8,
          "loss": 112.04387664794922
         },
         {
          "i": 9,
          "loss": 110.81233215332031
         },
         {
          "i": 10,
          "loss": 109.5978775024414
         },
         {
          "i": 11,
          "loss": 108.40088653564453
         },
         {
          "i": 12,
          "loss": 107.22154235839844
         },
         {
          "i": 13,
          "loss": 106.06019592285156
         },
         {
          "i": 14,
          "loss": 104.91716003417969
         },
         {
          "i": 15,
          "loss": 103.79261016845703
         },
         {
          "i": 16,
          "loss": 102.68689727783203
         },
         {
          "i": 17,
          "loss": 101.60026550292969
         },
         {
          "i": 18,
          "loss": 100.53296661376953
         },
         {
          "i": 19,
          "loss": 99.48535919189453
         },
         {
          "i": 20,
          "loss": 98.4574203491211
         },
         {
          "i": 21,
          "loss": 97.4496841430664
         },
         {
          "i": 22,
          "loss": 96.46218872070312
         },
         {
          "i": 23,
          "loss": 95.49512481689453
         },
         {
          "i": 24,
          "loss": 94.54873657226562
         },
         {
          "i": 25,
          "loss": 93.62318420410156
         },
         {
          "i": 26,
          "loss": 92.71855163574219
         },
         {
          "i": 27,
          "loss": 91.83502197265625
         },
         {
          "i": 28,
          "loss": 90.97266387939453
         },
         {
          "i": 29,
          "loss": 90.13182830810547
         },
         {
          "i": 30,
          "loss": 89.31214904785156
         },
         {
          "i": 31,
          "loss": 88.5140609741211
         },
         {
          "i": 32,
          "loss": 87.73741912841797
         },
         {
          "i": 33,
          "loss": 86.98220825195312
         },
         {
          "i": 34,
          "loss": 86.24842071533203
         },
         {
          "i": 35,
          "loss": 85.5361557006836
         },
         {
          "i": 36,
          "loss": 84.84516906738281
         },
         {
          "i": 37,
          "loss": 84.17539978027344
         },
         {
          "i": 38,
          "loss": 83.52679443359375
         },
         {
          "i": 39,
          "loss": 82.8991928100586
         },
         {
          "i": 40,
          "loss": 82.29224395751953
         },
         {
          "i": 41,
          "loss": 81.70604705810547
         },
         {
          "i": 42,
          "loss": 81.1401596069336
         },
         {
          "i": 43,
          "loss": 80.59431457519531
         },
         {
          "i": 44,
          "loss": 80.06832885742188
         },
         {
          "i": 45,
          "loss": 79.56189727783203
         },
         {
          "i": 46,
          "loss": 79.07461547851562
         },
         {
          "i": 47,
          "loss": 78.60621643066406
         },
         {
          "i": 48,
          "loss": 78.15625
         },
         {
          "i": 49,
          "loss": 77.72445678710938
         },
         {
          "i": 50,
          "loss": 77.31026458740234
         },
         {
          "i": 51,
          "loss": 76.91327667236328
         },
         {
          "i": 52,
          "loss": 76.53329467773438
         },
         {
          "i": 53,
          "loss": 76.16960144042969
         },
         {
          "i": 54,
          "loss": 75.82190704345703
         },
         {
          "i": 55,
          "loss": 75.48957824707031
         },
         {
          "i": 56,
          "loss": 75.17235565185547
         },
         {
          "i": 57,
          "loss": 74.86963653564453
         },
         {
          "i": 58,
          "loss": 74.58087921142578
         },
         {
          "i": 59,
          "loss": 74.3058090209961
         },
         {
          "i": 60,
          "loss": 74.04376983642578
         },
         {
          "i": 61,
          "loss": 73.79439544677734
         },
         {
          "i": 62,
          "loss": 73.55708312988281
         },
         {
          "i": 63,
          "loss": 73.33147430419922
         },
         {
          "i": 64,
          "loss": 73.1170425415039
         },
         {
          "i": 65,
          "loss": 72.91346740722656
         },
         {
          "i": 66,
          "loss": 72.72006225585938
         },
         {
          "i": 67,
          "loss": 72.53661346435547
         },
         {
          "i": 68,
          "loss": 72.36254119873047
         },
         {
          "i": 69,
          "loss": 72.19744873046875
         },
         {
          "i": 70,
          "loss": 72.04108428955078
         },
         {
          "i": 71,
          "loss": 71.89286804199219
         },
         {
          "i": 72,
          "loss": 71.75248718261719
         },
         {
          "i": 73,
          "loss": 71.61954498291016
         },
         {
          "i": 74,
          "loss": 71.49378967285156
         },
         {
          "i": 75,
          "loss": 71.37469482421875
         },
         {
          "i": 76,
          "loss": 71.26199340820312
         },
         {
          "i": 77,
          "loss": 71.15548706054688
         },
         {
          "i": 78,
          "loss": 71.05469512939453
         },
         {
          "i": 79,
          "loss": 70.95942687988281
         },
         {
          "i": 80,
          "loss": 70.86932373046875
         },
         {
          "i": 81,
          "loss": 70.78422546386719
         },
         {
          "i": 82,
          "loss": 70.70378112792969
         },
         {
          "i": 83,
          "loss": 70.62777709960938
         },
         {
          "i": 84,
          "loss": 70.55592346191406
         },
         {
          "i": 85,
          "loss": 70.48806762695312
         },
         {
          "i": 86,
          "loss": 70.4239273071289
         },
         {
          "i": 87,
          "loss": 70.36336517333984
         },
         {
          "i": 88,
          "loss": 70.30618286132812
         },
         {
          "i": 89,
          "loss": 70.25212097167969
         },
         {
          "i": 90,
          "loss": 70.20111083984375
         },
         {
          "i": 91,
          "loss": 70.15290069580078
         },
         {
          "i": 92,
          "loss": 70.1073989868164
         },
         {
          "i": 93,
          "loss": 70.06441497802734
         },
         {
          "i": 94,
          "loss": 70.02377319335938
         },
         {
          "i": 95,
          "loss": 69.98539733886719
         },
         {
          "i": 96,
          "loss": 69.94918823242188
         },
         {
          "i": 97,
          "loss": 69.91497802734375
         },
         {
          "i": 98,
          "loss": 69.88259887695312
         },
         {
          "i": 99,
          "loss": 69.85202026367188
         },
         {
          "i": 100,
          "loss": 69.82315063476562
         },
         {
          "i": 101,
          "loss": 69.7958984375
         },
         {
          "i": 102,
          "loss": 69.77014923095703
         },
         {
          "i": 103,
          "loss": 69.74580383300781
         },
         {
          "i": 104,
          "loss": 69.72273254394531
         },
         {
          "i": 105,
          "loss": 69.70100402832031
         },
         {
          "i": 106,
          "loss": 69.68038940429688
         },
         {
          "i": 107,
          "loss": 69.66094207763672
         },
         {
          "i": 108,
          "loss": 69.64257049560547
         },
         {
          "i": 109,
          "loss": 69.62517547607422
         },
         {
          "i": 110,
          "loss": 69.6086654663086
         },
         {
          "i": 111,
          "loss": 69.59309387207031
         },
         {
          "i": 112,
          "loss": 69.57839965820312
         },
         {
          "i": 113,
          "loss": 69.5644760131836
         },
         {
          "i": 114,
          "loss": 69.55131530761719
         },
         {
          "i": 115,
          "loss": 69.53884887695312
         },
         {
          "i": 116,
          "loss": 69.52702331542969
         },
         {
          "i": 117,
          "loss": 69.51582336425781
         },
         {
          "i": 118,
          "loss": 69.50529479980469
         },
         {
          "i": 119,
          "loss": 69.49520111083984
         },
         {
          "i": 120,
          "loss": 69.48568725585938
         },
         {
          "i": 121,
          "loss": 69.47669219970703
         },
         {
          "i": 122,
          "loss": 69.46818542480469
         },
         {
          "i": 123,
          "loss": 69.46012115478516
         },
         {
          "i": 124,
          "loss": 69.4524917602539
         },
         {
          "i": 125,
          "loss": 69.44523620605469
         },
         {
          "i": 126,
          "loss": 69.43839263916016
         },
         {
          "i": 127,
          "loss": 69.43184661865234
         },
         {
          "i": 128,
          "loss": 69.42565155029297
         },
         {
          "i": 129,
          "loss": 69.41983032226562
         },
         {
          "i": 130,
          "loss": 69.41423034667969
         },
         {
          "i": 131,
          "loss": 69.40901184082031
         },
         {
          "i": 132,
          "loss": 69.40404510498047
         },
         {
          "i": 133,
          "loss": 69.3993148803711
         },
         {
          "i": 134,
          "loss": 69.39474487304688
         },
         {
          "i": 135,
          "loss": 69.3905258178711
         },
         {
          "i": 136,
          "loss": 69.3864517211914
         },
         {
          "i": 137,
          "loss": 69.38262176513672
         },
         {
          "i": 138,
          "loss": 69.37896728515625
         },
         {
          "i": 139,
          "loss": 69.37548065185547
         },
         {
          "i": 140,
          "loss": 69.37218475341797
         },
         {
          "i": 141,
          "loss": 69.36904907226562
         },
         {
          "i": 142,
          "loss": 69.3660659790039
         },
         {
          "i": 143,
          "loss": 69.36325073242188
         },
         {
          "i": 144,
          "loss": 69.36060333251953
         },
         {
          "i": 145,
          "loss": 69.3580551147461
         },
         {
          "i": 146,
          "loss": 69.3556900024414
         },
         {
          "i": 147,
          "loss": 69.35334014892578
         },
         {
          "i": 148,
          "loss": 69.35118103027344
         },
         {
          "i": 149,
          "loss": 69.34906005859375
         },
         {
          "i": 150,
          "loss": 69.34710693359375
         },
         {
          "i": 151,
          "loss": 69.34524536132812
         },
         {
          "i": 152,
          "loss": 69.3434066772461
         },
         {
          "i": 153,
          "loss": 69.34172058105469
         },
         {
          "i": 154,
          "loss": 69.3401107788086
         },
         {
          "i": 155,
          "loss": 69.33856201171875
         },
         {
          "i": 156,
          "loss": 69.33711242675781
         },
         {
          "i": 157,
          "loss": 69.33572387695312
         },
         {
          "i": 158,
          "loss": 69.33440399169922
         },
         {
          "i": 159,
          "loss": 69.33313751220703
         },
         {
          "i": 160,
          "loss": 69.33192443847656
         },
         {
          "i": 161,
          "loss": 69.33078002929688
         },
         {
          "i": 162,
          "loss": 69.3296890258789
         },
         {
          "i": 163,
          "loss": 69.3286361694336
         },
         {
          "i": 164,
          "loss": 69.32767486572266
         },
         {
          "i": 165,
          "loss": 69.3267593383789
         },
         {
          "i": 166,
          "loss": 69.32585144042969
         },
         {
          "i": 167,
          "loss": 69.32498168945312
         },
         {
          "i": 168,
          "loss": 69.32418060302734
         },
         {
          "i": 169,
          "loss": 69.32339477539062
         },
         {
          "i": 170,
          "loss": 69.32269287109375
         },
         {
          "i": 171,
          "loss": 69.32194519042969
         },
         {
          "i": 172,
          "loss": 69.32131958007812
         },
         {
          "i": 173,
          "loss": 69.32068634033203
         },
         {
          "i": 174,
          "loss": 69.32007598876953
         },
         {
          "i": 175,
          "loss": 69.3194808959961
         },
         {
          "i": 176,
          "loss": 69.31890869140625
         },
         {
          "i": 177,
          "loss": 69.31838989257812
         },
         {
          "i": 178,
          "loss": 69.31795501708984
         },
         {
          "i": 179,
          "loss": 69.31745910644531
         },
         {
          "i": 180,
          "loss": 69.31694030761719
         },
         {
          "i": 181,
          "loss": 69.31657409667969
         },
         {
          "i": 182,
          "loss": 69.31611633300781
         },
         {
          "i": 183,
          "loss": 69.31566619873047
         },
         {
          "i": 184,
          "loss": 69.31533813476562
         },
         {
          "i": 185,
          "loss": 69.31503295898438
         },
         {
          "i": 186,
          "loss": 69.31468200683594
         },
         {
          "i": 187,
          "loss": 69.31432342529297
         },
         {
          "i": 188,
          "loss": 69.31403350830078
         },
         {
          "i": 189,
          "loss": 69.31378173828125
         },
         {
          "i": 190,
          "loss": 69.31344604492188
         },
         {
          "i": 191,
          "loss": 69.3132095336914
         },
         {
          "i": 192,
          "loss": 69.3128890991211
         },
         {
          "i": 193,
          "loss": 69.31266784667969
         },
         {
          "i": 194,
          "loss": 69.31243896484375
         },
         {
          "i": 195,
          "loss": 69.31219482421875
         },
         {
          "i": 196,
          "loss": 69.31202697753906
         },
         {
          "i": 197,
          "loss": 69.31177520751953
         },
         {
          "i": 198,
          "loss": 69.3116226196289
         },
         {
          "i": 199,
          "loss": 69.31140899658203
         },
         {
          "i": 200,
          "loss": 69.31127166748047
         },
         {
          "i": 201,
          "loss": 69.3110580444336
         },
         {
          "i": 202,
          "loss": 69.31088256835938
         },
         {
          "i": 203,
          "loss": 69.31071472167969
         },
         {
          "i": 204,
          "loss": 69.31062316894531
         },
         {
          "i": 205,
          "loss": 69.31047821044922
         },
         {
          "i": 206,
          "loss": 69.31034851074219
         },
         {
          "i": 207,
          "loss": 69.31025695800781
         },
         {
          "i": 208,
          "loss": 69.31008911132812
         },
         {
          "i": 209,
          "loss": 69.30996704101562
         },
         {
          "i": 210,
          "loss": 69.3098373413086
         },
         {
          "i": 211,
          "loss": 69.30978393554688
         },
         {
          "i": 212,
          "loss": 69.30967712402344
         },
         {
          "i": 213,
          "loss": 69.30957794189453
         },
         {
          "i": 214,
          "loss": 69.30947875976562
         },
         {
          "i": 215,
          "loss": 69.3093490600586
         },
         {
          "i": 216,
          "loss": 69.30929565429688
         },
         {
          "i": 217,
          "loss": 69.30921173095703
         },
         {
          "i": 218,
          "loss": 69.30915832519531
         },
         {
          "i": 219,
          "loss": 69.30905151367188
         },
         {
          "i": 220,
          "loss": 69.30901336669922
         },
         {
          "i": 221,
          "loss": 69.30895233154297
         },
         {
          "i": 222,
          "loss": 69.30890655517578
         },
         {
          "i": 223,
          "loss": 69.3088150024414
         },
         {
          "i": 224,
          "loss": 69.3087387084961
         },
         {
          "i": 225,
          "loss": 69.30865478515625
         },
         {
          "i": 226,
          "loss": 69.3086166381836
         },
         {
          "i": 227,
          "loss": 69.30859375
         },
         {
          "i": 228,
          "loss": 69.30850982666016
         },
         {
          "i": 229,
          "loss": 69.30851745605469
         },
         {
          "i": 230,
          "loss": 69.30845642089844
         },
         {
          "i": 231,
          "loss": 69.30834197998047
         },
         {
          "i": 232,
          "loss": 69.3083267211914
         },
         {
          "i": 233,
          "loss": 69.30827331542969
         },
         {
          "i": 234,
          "loss": 69.30826568603516
         },
         {
          "i": 235,
          "loss": 69.30824279785156
         },
         {
          "i": 236,
          "loss": 69.3082046508789
         },
         {
          "i": 237,
          "loss": 69.30815124511719
         },
         {
          "i": 238,
          "loss": 69.30819702148438
         },
         {
          "i": 239,
          "loss": 69.3080825805664
         },
         {
          "i": 240,
          "loss": 69.30806732177734
         },
         {
          "i": 241,
          "loss": 69.30806732177734
         },
         {
          "i": 242,
          "loss": 69.30805206298828
         },
         {
          "i": 243,
          "loss": 69.30799102783203
         },
         {
          "i": 244,
          "loss": 69.30793762207031
         },
         {
          "i": 245,
          "loss": 69.30799865722656
         },
         {
          "i": 246,
          "loss": 69.30793762207031
         },
         {
          "i": 247,
          "loss": 69.30786895751953
         },
         {
          "i": 248,
          "loss": 69.30789184570312
         },
         {
          "i": 249,
          "loss": 69.30792236328125
         },
         {
          "i": 250,
          "loss": 69.30781555175781
         },
         {
          "i": 251,
          "loss": 69.30783081054688
         },
         {
          "i": 252,
          "loss": 69.30784606933594
         },
         {
          "i": 253,
          "loss": 69.30783081054688
         },
         {
          "i": 254,
          "loss": 69.30780029296875
         },
         {
          "i": 255,
          "loss": 69.3077621459961
         },
         {
          "i": 256,
          "loss": 69.30773162841797
         },
         {
          "i": 257,
          "loss": 69.3077621459961
         },
         {
          "i": 258,
          "loss": 69.30770111083984
         },
         {
          "i": 259,
          "loss": 69.3077163696289
         },
         {
          "i": 260,
          "loss": 69.30768585205078
         },
         {
          "i": 261,
          "loss": 69.30770874023438
         },
         {
          "i": 262,
          "loss": 69.30773162841797
         },
         {
          "i": 263,
          "loss": 69.30767822265625
         },
         {
          "i": 264,
          "loss": 69.30762481689453
         },
         {
          "i": 265,
          "loss": 69.30764770507812
         },
         {
          "i": 266,
          "loss": 69.30767059326172
         },
         {
          "i": 267,
          "loss": 69.30769348144531
         },
         {
          "i": 268,
          "loss": 69.30763244628906
         },
         {
          "i": 269,
          "loss": 69.3075942993164
         },
         {
          "i": 270,
          "loss": 69.30762481689453
         },
         {
          "i": 271,
          "loss": 69.30758666992188
         },
         {
          "i": 272,
          "loss": 69.30755615234375
         },
         {
          "i": 273,
          "loss": 69.30760955810547
         },
         {
          "i": 274,
          "loss": 69.30762481689453
         },
         {
          "i": 275,
          "loss": 69.30762481689453
         },
         {
          "i": 276,
          "loss": 69.30755615234375
         },
         {
          "i": 277,
          "loss": 69.30755615234375
         },
         {
          "i": 278,
          "loss": 69.30754852294922
         },
         {
          "i": 279,
          "loss": 69.30754852294922
         },
         {
          "i": 280,
          "loss": 69.30758666992188
         },
         {
          "i": 281,
          "loss": 69.30760955810547
         },
         {
          "i": 282,
          "loss": 69.30755615234375
         },
         {
          "i": 283,
          "loss": 69.30757141113281
         },
         {
          "i": 284,
          "loss": 69.30754089355469
         },
         {
          "i": 285,
          "loss": 69.30754852294922
         },
         {
          "i": 286,
          "loss": 69.3075180053711
         },
         {
          "i": 287,
          "loss": 69.30751037597656
         },
         {
          "i": 288,
          "loss": 69.30752563476562
         },
         {
          "i": 289,
          "loss": 69.30752563476562
         },
         {
          "i": 290,
          "loss": 69.30752563476562
         },
         {
          "i": 291,
          "loss": 69.30747985839844
         },
         {
          "i": 292,
          "loss": 69.30750274658203
         },
         {
          "i": 293,
          "loss": 69.30752563476562
         },
         {
          "i": 294,
          "loss": 69.30750274658203
         },
         {
          "i": 295,
          "loss": 69.30750274658203
         },
         {
          "i": 296,
          "loss": 69.3074722290039
         },
         {
          "i": 297,
          "loss": 69.3075180053711
         },
         {
          "i": 298,
          "loss": 69.30751037597656
         },
         {
          "i": 299,
          "loss": 69.30750274658203
         },
         {
          "i": 300,
          "loss": 69.30756378173828
         },
         {
          "i": 301,
          "loss": 69.3074722290039
         },
         {
          "i": 302,
          "loss": 69.30747985839844
         },
         {
          "i": 303,
          "loss": 69.30744934082031
         },
         {
          "i": 304,
          "loss": 69.30746459960938
         },
         {
          "i": 305,
          "loss": 69.3075180053711
         },
         {
          "i": 306,
          "loss": 69.3074951171875
         },
         {
          "i": 307,
          "loss": 69.30750274658203
         },
         {
          "i": 308,
          "loss": 69.30746459960938
         },
         {
          "i": 309,
          "loss": 69.30741882324219
         },
         {
          "i": 310,
          "loss": 69.30747985839844
         },
         {
          "i": 311,
          "loss": 69.30748748779297
         },
         {
          "i": 312,
          "loss": 69.3075180053711
         },
         {
          "i": 313,
          "loss": 69.30747985839844
         },
         {
          "i": 314,
          "loss": 69.30744934082031
         },
         {
          "i": 315,
          "loss": 69.30745697021484
         },
         {
          "i": 316,
          "loss": 69.3074722290039
         },
         {
          "i": 317,
          "loss": 69.30748748779297
         },
         {
          "i": 318,
          "loss": 69.30748748779297
         },
         {
          "i": 319,
          "loss": 69.30745697021484
         },
         {
          "i": 320,
          "loss": 69.3074722290039
         },
         {
          "i": 321,
          "loss": 69.30744934082031
         },
         {
          "i": 322,
          "loss": 69.30750274658203
         },
         {
          "i": 323,
          "loss": 69.30745697021484
         },
         {
          "i": 324,
          "loss": 69.30746459960938
         },
         {
          "i": 325,
          "loss": 69.30747985839844
         },
         {
          "i": 326,
          "loss": 69.30744171142578
         },
         {
          "i": 327,
          "loss": 69.30742645263672
         },
         {
          "i": 328,
          "loss": 69.3074722290039
         },
         {
          "i": 329,
          "loss": 69.30748748779297
         },
         {
          "i": 330,
          "loss": 69.3075180053711
         },
         {
          "i": 331,
          "loss": 69.3074951171875
         },
         {
          "i": 332,
          "loss": 69.3074722290039
         },
         {
          "i": 333,
          "loss": 69.3074951171875
         },
         {
          "i": 334,
          "loss": 69.3074722290039
         },
         {
          "i": 335,
          "loss": 69.30745697021484
         },
         {
          "i": 336,
          "loss": 69.30743408203125
         },
         {
          "i": 337,
          "loss": 69.30744171142578
         },
         {
          "i": 338,
          "loss": 69.30744934082031
         },
         {
          "i": 339,
          "loss": 69.3074722290039
         },
         {
          "i": 340,
          "loss": 69.30744171142578
         },
         {
          "i": 341,
          "loss": 69.30751037597656
         },
         {
          "i": 342,
          "loss": 69.30746459960938
         },
         {
          "i": 343,
          "loss": 69.30744171142578
         },
         {
          "i": 344,
          "loss": 69.3074722290039
         },
         {
          "i": 345,
          "loss": 69.30745697021484
         },
         {
          "i": 346,
          "loss": 69.30744934082031
         },
         {
          "i": 347,
          "loss": 69.30741882324219
         },
         {
          "i": 348,
          "loss": 69.30742645263672
         },
         {
          "i": 349,
          "loss": 69.30740356445312
         },
         {
          "i": 350,
          "loss": 69.30742645263672
         },
         {
          "i": 351,
          "loss": 69.30740356445312
         },
         {
          "i": 352,
          "loss": 69.30743408203125
         },
         {
          "i": 353,
          "loss": 69.3074951171875
         },
         {
          "i": 354,
          "loss": 69.30747985839844
         },
         {
          "i": 355,
          "loss": 69.30747985839844
         },
         {
          "i": 356,
          "loss": 69.30750274658203
         },
         {
          "i": 357,
          "loss": 69.3075180053711
         },
         {
          "i": 358,
          "loss": 69.30746459960938
         },
         {
          "i": 359,
          "loss": 69.30747985839844
         },
         {
          "i": 360,
          "loss": 69.30744171142578
         },
         {
          "i": 361,
          "loss": 69.30747985839844
         },
         {
          "i": 362,
          "loss": 69.30743408203125
         },
         {
          "i": 363,
          "loss": 69.30743408203125
         },
         {
          "i": 364,
          "loss": 69.30746459960938
         },
         {
          "i": 365,
          "loss": 69.3074722290039
         },
         {
          "i": 366,
          "loss": 69.30744934082031
         },
         {
          "i": 367,
          "loss": 69.30743408203125
         },
         {
          "i": 368,
          "loss": 69.30743408203125
         },
         {
          "i": 369,
          "loss": 69.30743408203125
         },
         {
          "i": 370,
          "loss": 69.30746459960938
         },
         {
          "i": 371,
          "loss": 69.30744934082031
         },
         {
          "i": 372,
          "loss": 69.30745697021484
         },
         {
          "i": 373,
          "loss": 69.30744171142578
         },
         {
          "i": 374,
          "loss": 69.30747985839844
         },
         {
          "i": 375,
          "loss": 69.30740356445312
         },
         {
          "i": 376,
          "loss": 69.30744934082031
         },
         {
          "i": 377,
          "loss": 69.30743408203125
         },
         {
          "i": 378,
          "loss": 69.30744934082031
         },
         {
          "i": 379,
          "loss": 69.30747985839844
         },
         {
          "i": 380,
          "loss": 69.3074722290039
         },
         {
          "i": 381,
          "loss": 69.30738830566406
         },
         {
          "i": 382,
          "loss": 69.30742645263672
         },
         {
          "i": 383,
          "loss": 69.30746459960938
         },
         {
          "i": 384,
          "loss": 69.30741882324219
         },
         {
          "i": 385,
          "loss": 69.30746459960938
         },
         {
          "i": 386,
          "loss": 69.30745697021484
         },
         {
          "i": 387,
          "loss": 69.30744171142578
         },
         {
          "i": 388,
          "loss": 69.30741119384766
         },
         {
          "i": 389,
          "loss": 69.30738067626953
         },
         {
          "i": 390,
          "loss": 69.3073959350586
         },
         {
          "i": 391,
          "loss": 69.30741882324219
         },
         {
          "i": 392,
          "loss": 69.30743408203125
         },
         {
          "i": 393,
          "loss": 69.30741882324219
         },
         {
          "i": 394,
          "loss": 69.30744934082031
         },
         {
          "i": 395,
          "loss": 69.30744934082031
         },
         {
          "i": 396,
          "loss": 69.30741882324219
         },
         {
          "i": 397,
          "loss": 69.30740356445312
         },
         {
          "i": 398,
          "loss": 69.30744171142578
         },
         {
          "i": 399,
          "loss": 69.30743408203125
         },
         {
          "i": 400,
          "loss": 69.30744171142578
         },
         {
          "i": 401,
          "loss": 69.30742645263672
         },
         {
          "i": 402,
          "loss": 69.30743408203125
         },
         {
          "i": 403,
          "loss": 69.30743408203125
         },
         {
          "i": 404,
          "loss": 69.30741882324219
         },
         {
          "i": 405,
          "loss": 69.30746459960938
         },
         {
          "i": 406,
          "loss": 69.3074722290039
         },
         {
          "i": 407,
          "loss": 69.3075180053711
         },
         {
          "i": 408,
          "loss": 69.30752563476562
         },
         {
          "i": 409,
          "loss": 69.30750274658203
         },
         {
          "i": 410,
          "loss": 69.30746459960938
         },
         {
          "i": 411,
          "loss": 69.30748748779297
         },
         {
          "i": 412,
          "loss": 69.30746459960938
         },
         {
          "i": 413,
          "loss": 69.30744934082031
         },
         {
          "i": 414,
          "loss": 69.30747985839844
         },
         {
          "i": 415,
          "loss": 69.30747985839844
         },
         {
          "i": 416,
          "loss": 69.3074951171875
         },
         {
          "i": 417,
          "loss": 69.30748748779297
         },
         {
          "i": 418,
          "loss": 69.30744934082031
         },
         {
          "i": 419,
          "loss": 69.30746459960938
         },
         {
          "i": 420,
          "loss": 69.30745697021484
         },
         {
          "i": 421,
          "loss": 69.3074722290039
         },
         {
          "i": 422,
          "loss": 69.30747985839844
         },
         {
          "i": 423,
          "loss": 69.3074722290039
         },
         {
          "i": 424,
          "loss": 69.30748748779297
         },
         {
          "i": 425,
          "loss": 69.30748748779297
         },
         {
          "i": 426,
          "loss": 69.30747985839844
         },
         {
          "i": 427,
          "loss": 69.30744934082031
         },
         {
          "i": 428,
          "loss": 69.30744934082031
         },
         {
          "i": 429,
          "loss": 69.30741119384766
         },
         {
          "i": 430,
          "loss": 69.30742645263672
         },
         {
          "i": 431,
          "loss": 69.30744171142578
         },
         {
          "i": 432,
          "loss": 69.30744934082031
         },
         {
          "i": 433,
          "loss": 69.3074722290039
         },
         {
          "i": 434,
          "loss": 69.30744934082031
         },
         {
          "i": 435,
          "loss": 69.30746459960938
         },
         {
          "i": 436,
          "loss": 69.30744934082031
         },
         {
          "i": 437,
          "loss": 69.30744934082031
         },
         {
          "i": 438,
          "loss": 69.30745697021484
         },
         {
          "i": 439,
          "loss": 69.3074722290039
         },
         {
          "i": 440,
          "loss": 69.30742645263672
         },
         {
          "i": 441,
          "loss": 69.30741882324219
         },
         {
          "i": 442,
          "loss": 69.30743408203125
         },
         {
          "i": 443,
          "loss": 69.30746459960938
         },
         {
          "i": 444,
          "loss": 69.30744934082031
         },
         {
          "i": 445,
          "loss": 69.30744934082031
         },
         {
          "i": 446,
          "loss": 69.30745697021484
         },
         {
          "i": 447,
          "loss": 69.3074722290039
         },
         {
          "i": 448,
          "loss": 69.30746459960938
         },
         {
          "i": 449,
          "loss": 69.30744934082031
         },
         {
          "i": 450,
          "loss": 69.30744934082031
         },
         {
          "i": 451,
          "loss": 69.30744171142578
         },
         {
          "i": 452,
          "loss": 69.30741882324219
         },
         {
          "i": 453,
          "loss": 69.30740356445312
         },
         {
          "i": 454,
          "loss": 69.3073959350586
         },
         {
          "i": 455,
          "loss": 69.3073959350586
         },
         {
          "i": 456,
          "loss": 69.30742645263672
         },
         {
          "i": 457,
          "loss": 69.30743408203125
         },
         {
          "i": 458,
          "loss": 69.30744171142578
         },
         {
          "i": 459,
          "loss": 69.30742645263672
         },
         {
          "i": 460,
          "loss": 69.30743408203125
         },
         {
          "i": 461,
          "loss": 69.30744934082031
         },
         {
          "i": 462,
          "loss": 69.30746459960938
         },
         {
          "i": 463,
          "loss": 69.30744934082031
         },
         {
          "i": 464,
          "loss": 69.30743408203125
         },
         {
          "i": 465,
          "loss": 69.30744934082031
         },
         {
          "i": 466,
          "loss": 69.30746459960938
         },
         {
          "i": 467,
          "loss": 69.3074722290039
         },
         {
          "i": 468,
          "loss": 69.3074722290039
         },
         {
          "i": 469,
          "loss": 69.3074722290039
         },
         {
          "i": 470,
          "loss": 69.30745697021484
         },
         {
          "i": 471,
          "loss": 69.30745697021484
         },
         {
          "i": 472,
          "loss": 69.30744934082031
         },
         {
          "i": 473,
          "loss": 69.30744934082031
         },
         {
          "i": 474,
          "loss": 69.30744171142578
         },
         {
          "i": 475,
          "loss": 69.30743408203125
         },
         {
          "i": 476,
          "loss": 69.30744934082031
         },
         {
          "i": 477,
          "loss": 69.30743408203125
         },
         {
          "i": 478,
          "loss": 69.30744171142578
         },
         {
          "i": 479,
          "loss": 69.30741882324219
         },
         {
          "i": 480,
          "loss": 69.30743408203125
         },
         {
          "i": 481,
          "loss": 69.30745697021484
         },
         {
          "i": 482,
          "loss": 69.30746459960938
         },
         {
          "i": 483,
          "loss": 69.30746459960938
         },
         {
          "i": 484,
          "loss": 69.30746459960938
         },
         {
          "i": 485,
          "loss": 69.30746459960938
         },
         {
          "i": 486,
          "loss": 69.30744934082031
         },
         {
          "i": 487,
          "loss": 69.30744934082031
         },
         {
          "i": 488,
          "loss": 69.30746459960938
         },
         {
          "i": 489,
          "loss": 69.30746459960938
         },
         {
          "i": 490,
          "loss": 69.30746459960938
         },
         {
          "i": 491,
          "loss": 69.30746459960938
         },
         {
          "i": 492,
          "loss": 69.30746459960938
         },
         {
          "i": 493,
          "loss": 69.30744934082031
         },
         {
          "i": 494,
          "loss": 69.30744934082031
         },
         {
          "i": 495,
          "loss": 69.30744934082031
         },
         {
          "i": 496,
          "loss": 69.30744934082031
         },
         {
          "i": 497,
          "loss": 69.30744171142578
         },
         {
          "i": 498,
          "loss": 69.30744171142578
         },
         {
          "i": 499,
          "loss": 69.30744934082031
         }
        ]
       },
       "encoding": {
        "x": {
         "field": "i",
         "type": "quantitative"
        },
        "y": {
         "field": "loss",
         "type": "quantitative"
        }
       },
       "mark": "line"
      },
      "image/png": "[encoded data removed]",
      "text/plain": [
       "<VegaLite 3 object>\n",
       "\n",
       "If you see this message, it means the renderer has not been properly enabled\n",
       "for the frontend that you are using. For more information, see\n",
       "https://altair-viz.github.io/user_guide/troubleshooting.html\n"
      ]
     },
     "execution_count": 296,
     "metadata": {},
     "output_type": "execute_result"
    }
   ],
   "source": [
    "loss_df = pd.DataFrame({'i':range(500), 'loss':loss_record})\n",
    "alt.Chart(loss_df).mark_line().encode(x='i', y='loss')"
   ]
  },
  {
   "cell_type": "markdown",
   "metadata": {},
   "source": [
    "Although the code looks pretty much the same, save the changes to the model and loss, the computation that pytorch needs to do to compute the gradient of $L$ with respect to each $\\beta$ is now much more involved, which you too will see if you try to compute it by hand:"
   ]
  },
  {
   "cell_type": "code",
   "execution_count": 297,
   "metadata": {},
   "outputs": [
    {
     "data": {
      "image/svg+xml": [
       "<?xml version=\"1.0\" encoding=\"UTF-8\" standalone=\"no\"?>\n",
       "<!DOCTYPE svg PUBLIC \"-//W3C//DTD SVG 1.1//EN\"\n",
       " \"http://www.w3.org/Graphics/SVG/1.1/DTD/svg11.dtd\">\n",
       "<!-- Generated by graphviz version 2.43.0 (0)\n",
       " -->\n",
       "<!-- Title: %3 Pages: 1 -->\n",
       "<svg width=\"209pt\" height=\"712pt\"\n",
       " viewBox=\"0.00 0.00 208.98 712.00\" xmlns=\"http://www.w3.org/2000/svg\" xmlns:xlink=\"http://www.w3.org/1999/xlink\">\n",
       "<g id=\"graph0\" class=\"graph\" transform=\"scale(1 1) rotate(0) translate(4 708)\">\n",
       "<title>%3</title>\n",
       "<polygon fill=\"white\" stroke=\"transparent\" points=\"-4,4 -4,-708 204.98,-708 204.98,4 -4,4\"/>\n",
       "<!-- 5005553872 -->\n",
       "<g id=\"node1\" class=\"node\">\n",
       "<title>5005553872</title>\n",
       "<polygon fill=\"#caff70\" stroke=\"black\" points=\"143.47,-20 55.18,-20 55.18,0 143.47,0 143.47,-20\"/>\n",
       "<text text-anchor=\"middle\" x=\"99.32\" y=\"-6.4\" font-family=\"Times,serif\" font-size=\"12.00\">DivBackward0</text>\n",
       "</g>\n",
       "<!-- 5005553744 -->\n",
       "<g id=\"node2\" class=\"node\">\n",
       "<title>5005553744</title>\n",
       "<polygon fill=\"lightgrey\" stroke=\"black\" points=\"141.46,-76 57.19,-76 57.19,-56 141.46,-56 141.46,-76\"/>\n",
       "<text text-anchor=\"middle\" x=\"99.32\" y=\"-62.4\" font-family=\"Times,serif\" font-size=\"12.00\">NegBackward</text>\n",
       "</g>\n",
       "<!-- 5005553744&#45;&gt;5005553872 -->\n",
       "<g id=\"edge1\" class=\"edge\">\n",
       "<title>5005553744&#45;&gt;5005553872</title>\n",
       "<path fill=\"none\" stroke=\"black\" d=\"M99.32,-55.59C99.32,-48.7 99.32,-39.1 99.32,-30.57\"/>\n",
       "<polygon fill=\"black\" stroke=\"black\" points=\"102.82,-30.3 99.32,-20.3 95.82,-30.3 102.82,-30.3\"/>\n",
       "</g>\n",
       "<!-- 5005737360 -->\n",
       "<g id=\"node3\" class=\"node\">\n",
       "<title>5005737360</title>\n",
       "<polygon fill=\"lightgrey\" stroke=\"black\" points=\"145.48,-132 53.17,-132 53.17,-112 145.48,-112 145.48,-132\"/>\n",
       "<text text-anchor=\"middle\" x=\"99.32\" y=\"-118.4\" font-family=\"Times,serif\" font-size=\"12.00\">SumBackward0</text>\n",
       "</g>\n",
       "<!-- 5005737360&#45;&gt;5005553744 -->\n",
       "<g id=\"edge2\" class=\"edge\">\n",
       "<title>5005737360&#45;&gt;5005553744</title>\n",
       "<path fill=\"none\" stroke=\"black\" d=\"M99.32,-111.59C99.32,-104.7 99.32,-95.1 99.32,-86.57\"/>\n",
       "<polygon fill=\"black\" stroke=\"black\" points=\"102.82,-86.3 99.32,-76.3 95.82,-86.3 102.82,-86.3\"/>\n",
       "</g>\n",
       "<!-- 5005736464 -->\n",
       "<g id=\"node4\" class=\"node\">\n",
       "<title>5005736464</title>\n",
       "<polygon fill=\"lightgrey\" stroke=\"black\" points=\"145.14,-188 53.51,-188 53.51,-168 145.14,-168 145.14,-188\"/>\n",
       "<text text-anchor=\"middle\" x=\"99.32\" y=\"-174.4\" font-family=\"Times,serif\" font-size=\"12.00\">AddBackward0</text>\n",
       "</g>\n",
       "<!-- 5005736464&#45;&gt;5005737360 -->\n",
       "<g id=\"edge3\" class=\"edge\">\n",
       "<title>5005736464&#45;&gt;5005737360</title>\n",
       "<path fill=\"none\" stroke=\"black\" d=\"M99.32,-167.59C99.32,-160.7 99.32,-151.1 99.32,-142.57\"/>\n",
       "<polygon fill=\"black\" stroke=\"black\" points=\"102.82,-142.3 99.32,-132.3 95.82,-142.3 102.82,-142.3\"/>\n",
       "</g>\n",
       "<!-- 5005736784 -->\n",
       "<g id=\"node5\" class=\"node\">\n",
       "<title>5005736784</title>\n",
       "<polygon fill=\"lightgrey\" stroke=\"black\" points=\"90.47,-244 0.18,-244 0.18,-224 90.47,-224 90.47,-244\"/>\n",
       "<text text-anchor=\"middle\" x=\"45.32\" y=\"-230.4\" font-family=\"Times,serif\" font-size=\"12.00\">MulBackward0</text>\n",
       "</g>\n",
       "<!-- 5005736784&#45;&gt;5005736464 -->\n",
       "<g id=\"edge4\" class=\"edge\">\n",
       "<title>5005736784&#45;&gt;5005736464</title>\n",
       "<path fill=\"none\" stroke=\"black\" d=\"M54.73,-223.59C62.47,-215.85 73.64,-204.69 82.86,-195.47\"/>\n",
       "<polygon fill=\"black\" stroke=\"black\" points=\"85.43,-197.84 90.03,-188.3 80.48,-192.89 85.43,-197.84\"/>\n",
       "</g>\n",
       "<!-- 5005736656 -->\n",
       "<g id=\"node6\" class=\"node\">\n",
       "<title>5005736656</title>\n",
       "<polygon fill=\"lightgrey\" stroke=\"black\" points=\"87.3,-356 3.35,-356 3.35,-336 87.3,-336 87.3,-356\"/>\n",
       "<text text-anchor=\"middle\" x=\"45.32\" y=\"-342.4\" font-family=\"Times,serif\" font-size=\"12.00\">LogBackward</text>\n",
       "</g>\n",
       "<!-- 5005736656&#45;&gt;5005736784 -->\n",
       "<g id=\"edge5\" class=\"edge\">\n",
       "<title>5005736656&#45;&gt;5005736784</title>\n",
       "<path fill=\"none\" stroke=\"black\" d=\"M45.32,-336C45.32,-318.19 45.32,-278.12 45.32,-254.15\"/>\n",
       "<polygon fill=\"black\" stroke=\"black\" points=\"48.82,-254.13 45.32,-244.13 41.82,-254.13 48.82,-254.13\"/>\n",
       "</g>\n",
       "<!-- 5005735632 -->\n",
       "<g id=\"node7\" class=\"node\">\n",
       "<title>5005735632</title>\n",
       "<polygon fill=\"lightgrey\" stroke=\"black\" points=\"143.47,-412 55.18,-412 55.18,-392 143.47,-392 143.47,-412\"/>\n",
       "<text text-anchor=\"middle\" x=\"99.32\" y=\"-398.4\" font-family=\"Times,serif\" font-size=\"12.00\">DivBackward0</text>\n",
       "</g>\n",
       "<!-- 5005735632&#45;&gt;5005736656 -->\n",
       "<g id=\"edge6\" class=\"edge\">\n",
       "<title>5005735632&#45;&gt;5005736656</title>\n",
       "<path fill=\"none\" stroke=\"black\" d=\"M89.92,-391.59C82.17,-383.85 71.01,-372.69 61.79,-363.47\"/>\n",
       "<polygon fill=\"black\" stroke=\"black\" points=\"64.17,-360.89 54.62,-356.3 59.22,-365.84 64.17,-360.89\"/>\n",
       "</g>\n",
       "<!-- 5005735184 -->\n",
       "<g id=\"node17\" class=\"node\">\n",
       "<title>5005735184</title>\n",
       "<polygon fill=\"lightgrey\" stroke=\"black\" points=\"201.14,-356 105.51,-356 105.51,-336 201.14,-336 201.14,-356\"/>\n",
       "<text text-anchor=\"middle\" x=\"153.32\" y=\"-342.4\" font-family=\"Times,serif\" font-size=\"12.00\">RsubBackward1</text>\n",
       "</g>\n",
       "<!-- 5005735632&#45;&gt;5005735184 -->\n",
       "<g id=\"edge18\" class=\"edge\">\n",
       "<title>5005735632&#45;&gt;5005735184</title>\n",
       "<path fill=\"none\" stroke=\"black\" d=\"M108.73,-391.59C116.47,-383.85 127.64,-372.69 136.86,-363.47\"/>\n",
       "<polygon fill=\"black\" stroke=\"black\" points=\"139.43,-365.84 144.03,-356.3 134.48,-360.89 139.43,-365.84\"/>\n",
       "</g>\n",
       "<!-- 5005736976 -->\n",
       "<g id=\"node8\" class=\"node\">\n",
       "<title>5005736976</title>\n",
       "<polygon fill=\"lightgrey\" stroke=\"black\" points=\"88.3,-468 4.35,-468 4.35,-448 88.3,-448 88.3,-468\"/>\n",
       "<text text-anchor=\"middle\" x=\"46.32\" y=\"-454.4\" font-family=\"Times,serif\" font-size=\"12.00\">ExpBackward</text>\n",
       "</g>\n",
       "<!-- 5005736976&#45;&gt;5005735632 -->\n",
       "<g id=\"edge7\" class=\"edge\">\n",
       "<title>5005736976&#45;&gt;5005735632</title>\n",
       "<path fill=\"none\" stroke=\"black\" d=\"M55.56,-447.59C63.16,-439.85 74.11,-428.69 83.16,-419.47\"/>\n",
       "<polygon fill=\"black\" stroke=\"black\" points=\"85.69,-421.89 90.2,-412.3 80.7,-416.98 85.69,-421.89\"/>\n",
       "</g>\n",
       "<!-- 5005736528 -->\n",
       "<g id=\"node9\" class=\"node\">\n",
       "<title>5005736528</title>\n",
       "<polygon fill=\"lightgrey\" stroke=\"black\" points=\"90.46,-580 6.19,-580 6.19,-560 90.46,-560 90.46,-580\"/>\n",
       "<text text-anchor=\"middle\" x=\"48.32\" y=\"-566.4\" font-family=\"Times,serif\" font-size=\"12.00\">NegBackward</text>\n",
       "</g>\n",
       "<!-- 5005736528&#45;&gt;5005736976 -->\n",
       "<g id=\"edge8\" class=\"edge\">\n",
       "<title>5005736528&#45;&gt;5005736976</title>\n",
       "<path fill=\"none\" stroke=\"black\" d=\"M48.16,-560C47.84,-542.19 47.11,-502.12 46.67,-478.15\"/>\n",
       "<polygon fill=\"black\" stroke=\"black\" points=\"50.17,-478.06 46.49,-468.13 43.17,-478.19 50.17,-478.06\"/>\n",
       "</g>\n",
       "<!-- 5005734544 -->\n",
       "<g id=\"node10\" class=\"node\">\n",
       "<title>5005734544</title>\n",
       "<polygon fill=\"lightgrey\" stroke=\"black\" points=\"141.47,-636 57.18,-636 57.18,-616 141.47,-616 141.47,-636\"/>\n",
       "<text text-anchor=\"middle\" x=\"99.32\" y=\"-622.4\" font-family=\"Times,serif\" font-size=\"12.00\">MmBackward</text>\n",
       "</g>\n",
       "<!-- 5005734544&#45;&gt;5005736528 -->\n",
       "<g id=\"edge9\" class=\"edge\">\n",
       "<title>5005734544&#45;&gt;5005736528</title>\n",
       "<path fill=\"none\" stroke=\"black\" d=\"M90.44,-615.59C83.2,-607.93 72.8,-596.91 64.14,-587.75\"/>\n",
       "<polygon fill=\"black\" stroke=\"black\" points=\"66.52,-585.17 57.11,-580.3 61.43,-589.97 66.52,-585.17\"/>\n",
       "</g>\n",
       "<!-- 5042930320 -->\n",
       "<g id=\"node14\" class=\"node\">\n",
       "<title>5042930320</title>\n",
       "<polygon fill=\"lightgrey\" stroke=\"black\" points=\"193.46,-580 109.19,-580 109.19,-560 193.46,-560 193.46,-580\"/>\n",
       "<text text-anchor=\"middle\" x=\"151.32\" y=\"-566.4\" font-family=\"Times,serif\" font-size=\"12.00\">NegBackward</text>\n",
       "</g>\n",
       "<!-- 5005734544&#45;&gt;5042930320 -->\n",
       "<g id=\"edge14\" class=\"edge\">\n",
       "<title>5005734544&#45;&gt;5042930320</title>\n",
       "<path fill=\"none\" stroke=\"black\" d=\"M108.38,-615.59C115.76,-607.93 126.37,-596.91 135.2,-587.75\"/>\n",
       "<polygon fill=\"black\" stroke=\"black\" points=\"137.95,-589.93 142.37,-580.3 132.91,-585.07 137.95,-589.93\"/>\n",
       "</g>\n",
       "<!-- 5005734096 -->\n",
       "<g id=\"node11\" class=\"node\">\n",
       "<title>5005734096</title>\n",
       "<polygon fill=\"lightblue\" stroke=\"black\" points=\"126.32,-704 72.32,-704 72.32,-672 126.32,-672 126.32,-704\"/>\n",
       "<text text-anchor=\"middle\" x=\"99.32\" y=\"-690.4\" font-family=\"Times,serif\" font-size=\"12.00\">β</text>\n",
       "<text text-anchor=\"middle\" x=\"99.32\" y=\"-678.4\" font-family=\"Times,serif\" font-size=\"12.00\"> (5, 1)</text>\n",
       "</g>\n",
       "<!-- 5005734096&#45;&gt;5005734544 -->\n",
       "<g id=\"edge10\" class=\"edge\">\n",
       "<title>5005734096&#45;&gt;5005734544</title>\n",
       "<path fill=\"none\" stroke=\"black\" d=\"M99.32,-671.86C99.32,-664.13 99.32,-654.63 99.32,-646.37\"/>\n",
       "<polygon fill=\"black\" stroke=\"black\" points=\"102.82,-646.15 99.32,-636.15 95.82,-646.15 102.82,-646.15\"/>\n",
       "</g>\n",
       "<!-- 5005736336 -->\n",
       "<g id=\"node12\" class=\"node\">\n",
       "<title>5005736336</title>\n",
       "<polygon fill=\"lightgrey\" stroke=\"black\" points=\"198.14,-468 106.51,-468 106.51,-448 198.14,-448 198.14,-468\"/>\n",
       "<text text-anchor=\"middle\" x=\"152.32\" y=\"-454.4\" font-family=\"Times,serif\" font-size=\"12.00\">AddBackward0</text>\n",
       "</g>\n",
       "<!-- 5005736336&#45;&gt;5005735632 -->\n",
       "<g id=\"edge11\" class=\"edge\">\n",
       "<title>5005736336&#45;&gt;5005735632</title>\n",
       "<path fill=\"none\" stroke=\"black\" d=\"M143.09,-447.59C135.49,-439.85 124.54,-428.69 115.49,-419.47\"/>\n",
       "<polygon fill=\"black\" stroke=\"black\" points=\"117.95,-416.98 108.45,-412.3 112.96,-421.89 117.95,-416.98\"/>\n",
       "</g>\n",
       "<!-- 5005736400 -->\n",
       "<g id=\"node13\" class=\"node\">\n",
       "<title>5005736400</title>\n",
       "<polygon fill=\"lightgrey\" stroke=\"black\" points=\"193.3,-524 109.35,-524 109.35,-504 193.3,-504 193.3,-524\"/>\n",
       "<text text-anchor=\"middle\" x=\"151.32\" y=\"-510.4\" font-family=\"Times,serif\" font-size=\"12.00\">ExpBackward</text>\n",
       "</g>\n",
       "<!-- 5005736400&#45;&gt;5005736336 -->\n",
       "<g id=\"edge12\" class=\"edge\">\n",
       "<title>5005736400&#45;&gt;5005736336</title>\n",
       "<path fill=\"none\" stroke=\"black\" d=\"M151.5,-503.59C151.63,-496.7 151.8,-487.1 151.96,-478.57\"/>\n",
       "<polygon fill=\"black\" stroke=\"black\" points=\"155.47,-478.36 152.15,-468.3 148.47,-478.23 155.47,-478.36\"/>\n",
       "</g>\n",
       "<!-- 5042930320&#45;&gt;5005736400 -->\n",
       "<g id=\"edge13\" class=\"edge\">\n",
       "<title>5042930320&#45;&gt;5005736400</title>\n",
       "<path fill=\"none\" stroke=\"black\" d=\"M151.32,-559.59C151.32,-552.7 151.32,-543.1 151.32,-534.57\"/>\n",
       "<polygon fill=\"black\" stroke=\"black\" points=\"154.82,-534.3 151.32,-524.3 147.82,-534.3 154.82,-534.3\"/>\n",
       "</g>\n",
       "<!-- 5005734736 -->\n",
       "<g id=\"node15\" class=\"node\">\n",
       "<title>5005734736</title>\n",
       "<polygon fill=\"lightgrey\" stroke=\"black\" points=\"199.47,-244 109.18,-244 109.18,-224 199.47,-224 199.47,-244\"/>\n",
       "<text text-anchor=\"middle\" x=\"154.32\" y=\"-230.4\" font-family=\"Times,serif\" font-size=\"12.00\">MulBackward0</text>\n",
       "</g>\n",
       "<!-- 5005734736&#45;&gt;5005736464 -->\n",
       "<g id=\"edge15\" class=\"edge\">\n",
       "<title>5005734736&#45;&gt;5005736464</title>\n",
       "<path fill=\"none\" stroke=\"black\" d=\"M144.74,-223.59C136.86,-215.85 125.49,-204.69 116.1,-195.47\"/>\n",
       "<polygon fill=\"black\" stroke=\"black\" points=\"118.38,-192.81 108.79,-188.3 113.48,-197.8 118.38,-192.81\"/>\n",
       "</g>\n",
       "<!-- 5005736144 -->\n",
       "<g id=\"node16\" class=\"node\">\n",
       "<title>5005736144</title>\n",
       "<polygon fill=\"lightgrey\" stroke=\"black\" points=\"195.3,-300 111.35,-300 111.35,-280 195.3,-280 195.3,-300\"/>\n",
       "<text text-anchor=\"middle\" x=\"153.32\" y=\"-286.4\" font-family=\"Times,serif\" font-size=\"12.00\">LogBackward</text>\n",
       "</g>\n",
       "<!-- 5005736144&#45;&gt;5005734736 -->\n",
       "<g id=\"edge16\" class=\"edge\">\n",
       "<title>5005736144&#45;&gt;5005734736</title>\n",
       "<path fill=\"none\" stroke=\"black\" d=\"M153.5,-279.59C153.63,-272.7 153.8,-263.1 153.96,-254.57\"/>\n",
       "<polygon fill=\"black\" stroke=\"black\" points=\"157.47,-254.36 154.15,-244.3 150.47,-254.23 157.47,-254.36\"/>\n",
       "</g>\n",
       "<!-- 5005735184&#45;&gt;5005736144 -->\n",
       "<g id=\"edge17\" class=\"edge\">\n",
       "<title>5005735184&#45;&gt;5005736144</title>\n",
       "<path fill=\"none\" stroke=\"black\" d=\"M153.32,-335.59C153.32,-328.7 153.32,-319.1 153.32,-310.57\"/>\n",
       "<polygon fill=\"black\" stroke=\"black\" points=\"156.82,-310.3 153.32,-300.3 149.82,-310.3 156.82,-310.3\"/>\n",
       "</g>\n",
       "</g>\n",
       "</svg>\n"
      ],
      "text/plain": [
       "<graphviz.dot.Digraph at 0x12a5abe10>"
      ]
     },
     "execution_count": 297,
     "metadata": {},
     "output_type": "execute_result"
    }
   ],
   "source": [
    "make_dot(L, {'β':β})"
   ]
  },
  {
   "cell_type": "markdown",
   "metadata": {},
   "source": [
    "The amazing thing is that pytorch just handles it and you don't have to."
   ]
  },
  {
   "cell_type": "markdown",
   "metadata": {},
   "source": [
    "<div class=\"alert alert-block alert-info\">\n",
    "<b>Exercise:</b> \n",
    "\n",
    "Why don't we use *accuracy* as a loss? In other words,\n",
    "    \n",
    "$$\n",
    "L(y, \\hat p) = \\sum_i\n",
    "\\begin{cases}\n",
    "1 & \\text{if}\\ y_i = 1 \\ \\text{and} \\ \\hat p_i > 0.5 \\\\\n",
    "1 & \\text{if}\\ y_i = 0 \\ \\text{and} \\ \\hat p_i \\le 0.5 \\\\\n",
    "0 & \\text{else}\n",
    "\\end{cases}\n",
    "$$\n",
    "    \n",
    "*Hint*: what is the derivative of this loss with respect to any prediction $\\hat p_i$?\n",
    "</div>"
   ]
  },
  {
   "cell_type": "markdown",
   "metadata": {},
   "source": [
    "To predict for a new observation, all we have to do is multiply by $\\beta$ and pass through $\\sigma$:"
   ]
  },
  {
   "cell_type": "code",
   "execution_count": 298,
   "metadata": {},
   "outputs": [
    {
     "data": {
      "text/plain": [
       "tensor([[0.5041],\n",
       "        [0.5064],\n",
       "        [0.4986],\n",
       "        [0.4825],\n",
       "        [0.5130],\n",
       "        [0.5108],\n",
       "        [0.5080],\n",
       "        [0.4913],\n",
       "        [0.5045],\n",
       "        [0.4944]], grad_fn=<DivBackward0>)"
      ]
     },
     "execution_count": 298,
     "metadata": {},
     "output_type": "execute_result"
    }
   ],
   "source": [
    "new_x = torch.randn(10, 5) # 10 new observations\n",
    "z = torch.matmul(new_x, β) \n",
    "torch.exp(-z)/(1+torch.exp(-z)) # probability predictions"
   ]
  },
  {
   "cell_type": "markdown",
   "metadata": {},
   "source": [
    "### Conclusion"
   ]
  },
  {
   "cell_type": "markdown",
   "metadata": {},
   "source": [
    "We just developed a machine learning method out of these three components:\n",
    "* linear-logistic model (model)\n",
    "* log loss (loss)\n",
    "* gradient descent (search algorithm)\n",
    "\n",
    "This should make it clear to you that gradient descent is a widely-applicable strategy that will work with any loss or model, as long as you can define derivatives of the loss with respect to the model parameters. We will now go back to our linear regression example, but augment the model with more parameters and a more complex structure in order to capture nonlinear relationships. "
   ]
  },
  {
   "cell_type": "markdown",
   "metadata": {},
   "source": [
    "# Adding complexity to our linear model"
   ]
  },
  {
   "cell_type": "markdown",
   "metadata": {},
   "source": [
    "Let's go back to our regression example."
   ]
  },
  {
   "cell_type": "code",
   "execution_count": 301,
   "metadata": {},
   "outputs": [],
   "source": [
    "p = 5 \n",
    "n = 100\n",
    "\n",
    "x = torch.randn(n, p) # predictors (n observations, p features)\n",
    "y = torch.randn(n, 1) # outcomes (n observations)"
   ]
  },
  {
   "cell_type": "code",
   "execution_count": 302,
   "metadata": {},
   "outputs": [],
   "source": [
    "loss_record = [] \n",
    "β = torch.randn(5,1) \n",
    "β.requires_grad_() \n",
    "\n",
    "for e in range(500):\n",
    "    ŷ = torch.matmul(x, β) \n",
    "    L = torch.sum((y-ŷ)**2)/n \n",
    "    \n",
    "    L.backward() # compute gradients (in this case δL/δβ, δL/δW)\n",
    "    loss_record.append(L.item())\n",
    "    \n",
    "    with torch.no_grad(): # take the gradient descent step \n",
    "        β -= 10e-5 * β.grad\n",
    "        β.grad.zero_()"
   ]
  },
  {
   "cell_type": "markdown",
   "metadata": {},
   "source": [
    "Remember that the linear model is $\\hat y =x\\beta$. Let's say we want to add some complexity to this model by figuring out if there are some other predictors we can build (call them $z$) that are a transformation of the predictors $x$ that are better for predicting $y$ in a linear model than $x$ is. To do that, we'll first let $z = g(xW)$ with $W$ being a $p \\times h$ matrix so each row of $z$ ends up with $h$ columns and $g$ is an element-wise ReLU function. The purpose of $W$ is to make $h$ predictors out of our original $p$ using a linear transformation. The purpose of $g$ is to add complexity to the model.\n",
    "\n",
    "Now our final model is a linear model done on the new predictors $z$. That model is $\\hat y =z\\alpha$. I'm calling the coefficient vector $\\alpha$ because now this needs $h$ coefficients for each of the $h$ new features, whereas $\\beta$ was a $p$-length vector. So, in full, our model is now $\\hat y = g(xW)\\alpha$. We decided that $g$ should be the ReLU function, but instead of us deciding what the values of $W$ should be to create our new predictors $z$, we'll use gradient descent so that the model can build the predictors that it finds the most useful at the same time that it is using gradient descent to find the coefficients $\\alpha$ that maximize the utility of these predictors. Thus this model has $h\\times p + h$ total parameters (the values of $W_{ij}$ and $\\beta_j$) to be fit, whereas our original linear model only had $p$ parameters.  \n",
    "\n",
    "Without the ReLU (or some nonlinear function), there is always a vector $\\beta$ such that $x\\beta = xW\\alpha$ for every $W$ and $\\alpha$ (in fact, it's the vector $\\beta = W\\alpha$). In effect, adding the transformation $W$ doesn't actually add anything to the model- we're expanding the number of parameters to fit without actually expanding the expressivity of the model because there is always a model  with fewer parameters ($x\\beta$) that perfectly captures the predictions of the over-parametrized model ($xW\\alpha$). That is why the nonlinearity $g$ is necessary."
   ]
  },
  {
   "cell_type": "markdown",
   "metadata": {},
   "source": [
    "Let's dig into this, one step at a time. First we'll investigate the transformation $xW$. As we said, we're trying to build new features from our old features, so let's look at just one of these new features, $z_1$:"
   ]
  },
  {
   "cell_type": "markdown",
   "metadata": {},
   "source": [
    "$$ \n",
    "z_1 \n",
    "=\n",
    "\\left[\n",
    "\\begin{array}{c}\n",
    "z_{11} \\\\ z_{12} \\\\ \\vdots \\\\ z_{1n}\n",
    "\\end{array}\n",
    "\\right]\n",
    "=\n",
    "g\\left(\n",
    "\\left[\n",
    "\\begin{array}{c}\n",
    "x_{11} & x_{21} & \\cdots & x_{p1} \\\\\n",
    "x_{12} & x_{22} & \\cdots & x_{p2} \\\\\n",
    "\\vdots & \\vdots & \\ddots & \\vdots \\\\\n",
    "x_{1n} & x_{2n} & \\cdots & x_{pn}\n",
    "\\end{array}\n",
    "\\right]\n",
    "\\left[\n",
    "\\begin{array}{c}\n",
    "w_{11} \\\\ w_{12} \\\\ \\vdots \\\\ w_{1p}\n",
    "\\end{array}\n",
    "\\right]\n",
    "\\right)\n",
    "$$"
   ]
  },
  {
   "cell_type": "markdown",
   "metadata": {},
   "source": [
    "Or, concisely, $z_1 = g(xw_1)$. Without $g$, this looks just like a linear model of $z_1$ based on predictors $x$ and coefficients $w_1$. The other transformed features will be the same: $z_j = g(xw_j)$. So one way to look at this is that we're doing $h$ \"$g$-linear\" regressions (assuming we have $W$) and getting their predictions. The matrix equation $z = g(xW)$ expresses all of these \"regressions\" simultaneously."
   ]
  },
  {
   "cell_type": "code",
   "execution_count": 303,
   "metadata": {},
   "outputs": [],
   "source": [
    "from torch.nn.functional import relu as g\n",
    "h = 10\n",
    "W = torch.randn(5, h).requires_grad_()"
   ]
  },
  {
   "cell_type": "code",
   "execution_count": 304,
   "metadata": {},
   "outputs": [
    {
     "data": {
      "text/plain": [
       "torch.Size([100, 10])"
      ]
     },
     "execution_count": 304,
     "metadata": {},
     "output_type": "execute_result"
    }
   ],
   "source": [
    "z = g(torch.matmul(x,W))\n",
    "z.shape"
   ]
  },
  {
   "cell_type": "markdown",
   "metadata": {},
   "source": [
    "As you see, we're getting 100 observations of 10 \"features\". Let's look at one of them:"
   ]
  },
  {
   "cell_type": "code",
   "execution_count": 305,
   "metadata": {},
   "outputs": [
    {
     "data": {
      "text/plain": [
       "tensor([0.0000, 0.5713, 4.2586, 2.7537, 2.3508, 4.2390, 5.8705, 2.0447, 0.1807,\n",
       "        0.0000], grad_fn=<SelectBackward>)"
      ]
     },
     "execution_count": 305,
     "metadata": {},
     "output_type": "execute_result"
    }
   ],
   "source": [
    "z[0:10,1]"
   ]
  },
  {
   "cell_type": "markdown",
   "metadata": {},
   "source": [
    "We could also have done them one-at-a-time:"
   ]
  },
  {
   "cell_type": "code",
   "execution_count": 306,
   "metadata": {},
   "outputs": [],
   "source": [
    "w1 = W[:,1]\n",
    "z1 = g(torch.matmul(x,w1))"
   ]
  },
  {
   "cell_type": "code",
   "execution_count": 307,
   "metadata": {},
   "outputs": [
    {
     "data": {
      "text/plain": [
       "tensor([0.0000, 0.5713, 4.2586, 2.7537, 2.3508, 4.2390, 5.8705, 2.0447, 0.1807,\n",
       "        0.0000], grad_fn=<SliceBackward>)"
      ]
     },
     "execution_count": 307,
     "metadata": {},
     "output_type": "execute_result"
    }
   ],
   "source": [
    "z1[0:10]"
   ]
  },
  {
   "cell_type": "markdown",
   "metadata": {},
   "source": [
    "Same thing. "
   ]
  },
  {
   "cell_type": "markdown",
   "metadata": {},
   "source": [
    "The outputs of those regressions ($z$) are our new predictors in the next stage of the model, which is a single linear regression $\\hat y = z\\alpha$."
   ]
  },
  {
   "cell_type": "code",
   "execution_count": 308,
   "metadata": {},
   "outputs": [],
   "source": [
    "α = torch.randn(h,1).requires_grad_()\n",
    "ŷ = torch.matmul(z,α)"
   ]
  },
  {
   "cell_type": "markdown",
   "metadata": {},
   "source": [
    "And, finally, we can compute our MSE loss:"
   ]
  },
  {
   "cell_type": "code",
   "execution_count": 309,
   "metadata": {},
   "outputs": [
    {
     "data": {
      "text/plain": [
       "tensor(2.9444, grad_fn=<DivBackward0>)"
      ]
     },
     "execution_count": 309,
     "metadata": {},
     "output_type": "execute_result"
    }
   ],
   "source": [
    "L = torch.sum((y-ŷ)**2)/n\n",
    "L"
   ]
  },
  {
   "cell_type": "markdown",
   "metadata": {},
   "source": [
    "Let's look at the compuational graph we've built:"
   ]
  },
  {
   "cell_type": "code",
   "execution_count": 310,
   "metadata": {},
   "outputs": [
    {
     "data": {
      "image/svg+xml": [
       "<?xml version=\"1.0\" encoding=\"UTF-8\" standalone=\"no\"?>\n",
       "<!DOCTYPE svg PUBLIC \"-//W3C//DTD SVG 1.1//EN\"\n",
       " \"http://www.w3.org/Graphics/SVG/1.1/DTD/svg11.dtd\">\n",
       "<!-- Generated by graphviz version 2.43.0 (0)\n",
       " -->\n",
       "<!-- Title: %3 Pages: 1 -->\n",
       "<svg width=\"174pt\" height=\"444pt\"\n",
       " viewBox=\"0.00 0.00 173.65 444.00\" xmlns=\"http://www.w3.org/2000/svg\" xmlns:xlink=\"http://www.w3.org/1999/xlink\">\n",
       "<g id=\"graph0\" class=\"graph\" transform=\"scale(1 1) rotate(0) translate(4 440)\">\n",
       "<title>%3</title>\n",
       "<polygon fill=\"white\" stroke=\"transparent\" points=\"-4,4 -4,-440 169.65,-440 169.65,4 -4,4\"/>\n",
       "<!-- 5005737168 -->\n",
       "<g id=\"node1\" class=\"node\">\n",
       "<title>5005737168</title>\n",
       "<polygon fill=\"#caff70\" stroke=\"black\" points=\"136.8,-20 48.51,-20 48.51,0 136.8,0 136.8,-20\"/>\n",
       "<text text-anchor=\"middle\" x=\"92.65\" y=\"-6.4\" font-family=\"Times,serif\" font-size=\"12.00\">DivBackward0</text>\n",
       "</g>\n",
       "<!-- 5000066448 -->\n",
       "<g id=\"node2\" class=\"node\">\n",
       "<title>5000066448</title>\n",
       "<polygon fill=\"lightgrey\" stroke=\"black\" points=\"138.81,-76 46.5,-76 46.5,-56 138.81,-56 138.81,-76\"/>\n",
       "<text text-anchor=\"middle\" x=\"92.65\" y=\"-62.4\" font-family=\"Times,serif\" font-size=\"12.00\">SumBackward0</text>\n",
       "</g>\n",
       "<!-- 5000066448&#45;&gt;5005737168 -->\n",
       "<g id=\"edge1\" class=\"edge\">\n",
       "<title>5000066448&#45;&gt;5005737168</title>\n",
       "<path fill=\"none\" stroke=\"black\" d=\"M92.65,-55.59C92.65,-48.7 92.65,-39.1 92.65,-30.57\"/>\n",
       "<polygon fill=\"black\" stroke=\"black\" points=\"96.15,-30.3 92.65,-20.3 89.15,-30.3 96.15,-30.3\"/>\n",
       "</g>\n",
       "<!-- 5000065680 -->\n",
       "<g id=\"node3\" class=\"node\">\n",
       "<title>5000065680</title>\n",
       "<polygon fill=\"lightgrey\" stroke=\"black\" points=\"138.64,-132 46.67,-132 46.67,-112 138.64,-112 138.64,-132\"/>\n",
       "<text text-anchor=\"middle\" x=\"92.65\" y=\"-118.4\" font-family=\"Times,serif\" font-size=\"12.00\">PowBackward0</text>\n",
       "</g>\n",
       "<!-- 5000065680&#45;&gt;5000066448 -->\n",
       "<g id=\"edge2\" class=\"edge\">\n",
       "<title>5000065680&#45;&gt;5000066448</title>\n",
       "<path fill=\"none\" stroke=\"black\" d=\"M92.65,-111.59C92.65,-104.7 92.65,-95.1 92.65,-86.57\"/>\n",
       "<polygon fill=\"black\" stroke=\"black\" points=\"96.15,-86.3 92.65,-76.3 89.15,-86.3 96.15,-86.3\"/>\n",
       "</g>\n",
       "<!-- 5001561424 -->\n",
       "<g id=\"node4\" class=\"node\">\n",
       "<title>5001561424</title>\n",
       "<polygon fill=\"lightgrey\" stroke=\"black\" points=\"137.47,-188 47.84,-188 47.84,-168 137.47,-168 137.47,-188\"/>\n",
       "<text text-anchor=\"middle\" x=\"92.65\" y=\"-174.4\" font-family=\"Times,serif\" font-size=\"12.00\">SubBackward0</text>\n",
       "</g>\n",
       "<!-- 5001561424&#45;&gt;5000065680 -->\n",
       "<g id=\"edge3\" class=\"edge\">\n",
       "<title>5001561424&#45;&gt;5000065680</title>\n",
       "<path fill=\"none\" stroke=\"black\" d=\"M92.65,-167.59C92.65,-160.7 92.65,-151.1 92.65,-142.57\"/>\n",
       "<polygon fill=\"black\" stroke=\"black\" points=\"96.15,-142.3 92.65,-132.3 89.15,-142.3 96.15,-142.3\"/>\n",
       "</g>\n",
       "<!-- 5001560656 -->\n",
       "<g id=\"node5\" class=\"node\">\n",
       "<title>5001560656</title>\n",
       "<polygon fill=\"lightgrey\" stroke=\"black\" points=\"134.8,-244 50.51,-244 50.51,-224 134.8,-224 134.8,-244\"/>\n",
       "<text text-anchor=\"middle\" x=\"92.65\" y=\"-230.4\" font-family=\"Times,serif\" font-size=\"12.00\">MmBackward</text>\n",
       "</g>\n",
       "<!-- 5001560656&#45;&gt;5001561424 -->\n",
       "<g id=\"edge4\" class=\"edge\">\n",
       "<title>5001560656&#45;&gt;5001561424</title>\n",
       "<path fill=\"none\" stroke=\"black\" d=\"M92.65,-223.59C92.65,-216.7 92.65,-207.1 92.65,-198.57\"/>\n",
       "<polygon fill=\"black\" stroke=\"black\" points=\"96.15,-198.3 92.65,-188.3 89.15,-198.3 96.15,-198.3\"/>\n",
       "</g>\n",
       "<!-- 5001560848 -->\n",
       "<g id=\"node6\" class=\"node\">\n",
       "<title>5001560848</title>\n",
       "<polygon fill=\"lightgrey\" stroke=\"black\" points=\"93.46,-306 -0.15,-306 -0.15,-286 93.46,-286 93.46,-306\"/>\n",
       "<text text-anchor=\"middle\" x=\"46.65\" y=\"-292.4\" font-family=\"Times,serif\" font-size=\"12.00\">ReluBackward0</text>\n",
       "</g>\n",
       "<!-- 5001560848&#45;&gt;5001560656 -->\n",
       "<g id=\"edge5\" class=\"edge\">\n",
       "<title>5001560848&#45;&gt;5001560656</title>\n",
       "<path fill=\"none\" stroke=\"black\" d=\"M53.64,-285.89C60.46,-276.99 71.02,-263.22 79.43,-252.25\"/>\n",
       "<polygon fill=\"black\" stroke=\"black\" points=\"82.3,-254.26 85.6,-244.2 76.74,-250.01 82.3,-254.26\"/>\n",
       "</g>\n",
       "<!-- 5000476368 -->\n",
       "<g id=\"node7\" class=\"node\">\n",
       "<title>5000476368</title>\n",
       "<polygon fill=\"lightgrey\" stroke=\"black\" points=\"88.8,-368 4.51,-368 4.51,-348 88.8,-348 88.8,-368\"/>\n",
       "<text text-anchor=\"middle\" x=\"46.65\" y=\"-354.4\" font-family=\"Times,serif\" font-size=\"12.00\">MmBackward</text>\n",
       "</g>\n",
       "<!-- 5000476368&#45;&gt;5001560848 -->\n",
       "<g id=\"edge6\" class=\"edge\">\n",
       "<title>5000476368&#45;&gt;5001560848</title>\n",
       "<path fill=\"none\" stroke=\"black\" d=\"M46.65,-347.89C46.65,-339.52 46.65,-326.84 46.65,-316.23\"/>\n",
       "<polygon fill=\"black\" stroke=\"black\" points=\"50.15,-316.2 46.65,-306.2 43.15,-316.2 50.15,-316.2\"/>\n",
       "</g>\n",
       "<!-- 5000476560 -->\n",
       "<g id=\"node8\" class=\"node\">\n",
       "<title>5000476560</title>\n",
       "<polygon fill=\"lightblue\" stroke=\"black\" points=\"73.65,-436 19.65,-436 19.65,-404 73.65,-404 73.65,-436\"/>\n",
       "<text text-anchor=\"middle\" x=\"46.65\" y=\"-422.4\" font-family=\"Times,serif\" font-size=\"12.00\">W</text>\n",
       "<text text-anchor=\"middle\" x=\"46.65\" y=\"-410.4\" font-family=\"Times,serif\" font-size=\"12.00\"> (5, 10)</text>\n",
       "</g>\n",
       "<!-- 5000476560&#45;&gt;5000476368 -->\n",
       "<g id=\"edge7\" class=\"edge\">\n",
       "<title>5000476560&#45;&gt;5000476368</title>\n",
       "<path fill=\"none\" stroke=\"black\" d=\"M46.65,-403.86C46.65,-396.13 46.65,-386.63 46.65,-378.37\"/>\n",
       "<polygon fill=\"black\" stroke=\"black\" points=\"50.15,-378.15 46.65,-368.15 43.15,-378.15 50.15,-378.15\"/>\n",
       "</g>\n",
       "<!-- 5001561104 -->\n",
       "<g id=\"node9\" class=\"node\">\n",
       "<title>5001561104</title>\n",
       "<polygon fill=\"lightblue\" stroke=\"black\" points=\"165.65,-312 111.65,-312 111.65,-280 165.65,-280 165.65,-312\"/>\n",
       "<text text-anchor=\"middle\" x=\"138.65\" y=\"-298.4\" font-family=\"Times,serif\" font-size=\"12.00\">α</text>\n",
       "<text text-anchor=\"middle\" x=\"138.65\" y=\"-286.4\" font-family=\"Times,serif\" font-size=\"12.00\"> (10, 1)</text>\n",
       "</g>\n",
       "<!-- 5001561104&#45;&gt;5001560656 -->\n",
       "<g id=\"edge8\" class=\"edge\">\n",
       "<title>5001561104&#45;&gt;5001560656</title>\n",
       "<path fill=\"none\" stroke=\"black\" d=\"M127.05,-279.86C120.58,-271.42 112.5,-260.89 105.8,-252.15\"/>\n",
       "<polygon fill=\"black\" stroke=\"black\" points=\"108.53,-249.96 99.67,-244.15 102.98,-254.22 108.53,-249.96\"/>\n",
       "</g>\n",
       "</g>\n",
       "</svg>\n"
      ],
      "text/plain": [
       "<graphviz.dot.Digraph at 0x12a417950>"
      ]
     },
     "execution_count": 310,
     "metadata": {},
     "output_type": "execute_result"
    }
   ],
   "source": [
    "make_dot(L, {'W':W, 'α':α})"
   ]
  },
  {
   "cell_type": "markdown",
   "metadata": {},
   "source": [
    "Now $L$ depends both on what $W$ is and on what $\\alpha$ is. In other words, both of these sets of coefficients are parameters of the model that we can tweak and optimize. $W$ determines what kinds of \"new predictors\" we get out $x$, while $\\alpha$ puts those new features together into the final prediction. What's amazing is that we can fit all of these parameters simultaneously using gradient descent: just update both sets of parameters using the negative gradient at each step. \n",
    "\n",
    "Furthermore, this poses no problem for pytorch:"
   ]
  },
  {
   "cell_type": "code",
   "execution_count": 311,
   "metadata": {},
   "outputs": [],
   "source": [
    "L.backward()"
   ]
  },
  {
   "cell_type": "code",
   "execution_count": 312,
   "metadata": {},
   "outputs": [
    {
     "data": {
      "text/plain": [
       "tensor([[ 0.7680],\n",
       "        [ 0.3139],\n",
       "        [-1.2842],\n",
       "        [-1.0303],\n",
       "        [ 1.1569],\n",
       "        [ 0.5958],\n",
       "        [-0.5456],\n",
       "        [-1.0524],\n",
       "        [ 2.0063],\n",
       "        [ 1.8544]])"
      ]
     },
     "execution_count": 312,
     "metadata": {},
     "output_type": "execute_result"
    }
   ],
   "source": [
    "α.grad"
   ]
  },
  {
   "cell_type": "code",
   "execution_count": 313,
   "metadata": {},
   "outputs": [
    {
     "data": {
      "text/plain": [
       "tensor([[ 1.1687e-01, -5.0605e-03,  6.3030e-02, -1.3480e-01,  1.5509e-02,\n",
       "         -3.1528e-01,  2.3328e-01,  7.2360e-02, -4.0134e-01,  3.0114e-02],\n",
       "        [ 1.3495e-01, -1.5010e-01,  6.9610e-04, -3.2520e-01,  1.1567e-01,\n",
       "         -2.7157e-01,  2.3883e-01,  3.3559e-01, -6.6528e-01,  1.4963e-01],\n",
       "        [-1.5859e-01,  2.5824e-01, -1.0168e-01,  5.8844e-01, -1.6707e-01,\n",
       "          6.8210e-01, -2.7112e-01, -9.8352e-01,  1.1354e+00, -2.1367e-01],\n",
       "        [-7.8774e-02,  1.4069e-02, -4.2660e-02,  4.4790e-03,  1.0199e-02,\n",
       "          7.2061e-02, -2.0986e-01, -4.9705e-02,  1.5812e-01,  3.6534e-02],\n",
       "        [-3.3333e-01,  1.1583e-01, -1.2916e-01,  2.1420e-01, -9.2675e-02,\n",
       "          1.5991e-01, -5.8191e-01, -1.9934e-01,  1.2363e+00, -1.2004e-01]])"
      ]
     },
     "execution_count": 313,
     "metadata": {},
     "output_type": "execute_result"
    }
   ],
   "source": [
    "W.grad"
   ]
  },
  {
   "cell_type": "markdown",
   "metadata": {},
   "source": [
    "### Looping"
   ]
  },
  {
   "cell_type": "markdown",
   "metadata": {},
   "source": [
    "As before, now that we have gone through this once, we can put it all together into a loop:"
   ]
  },
  {
   "cell_type": "code",
   "execution_count": 320,
   "metadata": {},
   "outputs": [],
   "source": [
    "p = 5 \n",
    "n = 100\n",
    "\n",
    "x = torch.randn(n, p) # predictors (n observations, p features)\n",
    "y = torch.randn(n, 1) # outcomes (n observations)"
   ]
  },
  {
   "cell_type": "code",
   "execution_count": 321,
   "metadata": {},
   "outputs": [],
   "source": [
    "h = 10\n",
    "W = torch.randn(5, h).requires_grad_()\n",
    "α = torch.randn(h, 1).requires_grad_()\n",
    "loss_record = []\n",
    "\n",
    "for e in range(500):\n",
    "    z = g(torch.matmul(x,W))\n",
    "    ŷ = torch.matmul(z,α)\n",
    "    L = torch.sum((y-ŷ)**2)/n\n",
    "    \n",
    "    L.backward() # compute gradients (in this case δL/δα, δL/δW)\n",
    "    loss_record.append(L.item())\n",
    "    \n",
    "    with torch.no_grad(): # take the gradient descent step \n",
    "        α -= 10e-3 * α.grad\n",
    "        α.grad.zero_()\n",
    "        W -= 10e-3 * W.grad\n",
    "        W.grad.zero_()"
   ]
  },
  {
   "cell_type": "code",
   "execution_count": 322,
   "metadata": {},
   "outputs": [
    {
     "data": {
      "application/vnd.vegalite.v3+json": {
       "$schema": "https://vega.github.io/schema/vega-lite/v3.4.0.json",
       "config": {
        "mark": {
         "tooltip": null
        },
        "view": {
         "height": 300,
         "width": 400
        }
       },
       "data": {
        "name": "data-a5a43b52ae2a57f9a685fd7a7db85eca"
       },
       "datasets": {
        "data-a5a43b52ae2a57f9a685fd7a7db85eca": [
         {
          "i": 0,
          "loss": 2.1820671558380127
         },
         {
          "i": 1,
          "loss": 2.116712808609009
         },
         {
          "i": 2,
          "loss": 2.057729959487915
         },
         {
          "i": 3,
          "loss": 2.003985643386841
         },
         {
          "i": 4,
          "loss": 1.9539662599563599
         },
         {
          "i": 5,
          "loss": 1.9088478088378906
         },
         {
          "i": 6,
          "loss": 1.8688615560531616
         },
         {
          "i": 7,
          "loss": 1.831878662109375
         },
         {
          "i": 8,
          "loss": 1.7982133626937866
         },
         {
          "i": 9,
          "loss": 1.7675526142120361
         },
         {
          "i": 10,
          "loss": 1.7391871213912964
         },
         {
          "i": 11,
          "loss": 1.7130992412567139
         },
         {
          "i": 12,
          "loss": 1.6890265941619873
         },
         {
          "i": 13,
          "loss": 1.6667966842651367
         },
         {
          "i": 14,
          "loss": 1.6461869478225708
         },
         {
          "i": 15,
          "loss": 1.6270369291305542
         },
         {
          "i": 16,
          "loss": 1.609204888343811
         },
         {
          "i": 17,
          "loss": 1.592565894126892
         },
         {
          "i": 18,
          "loss": 1.5770083665847778
         },
         {
          "i": 19,
          "loss": 1.5624334812164307
         },
         {
          "i": 20,
          "loss": 1.5487544536590576
         },
         {
          "i": 21,
          "loss": 1.5358914136886597
         },
         {
          "i": 22,
          "loss": 1.5237758159637451
         },
         {
          "i": 23,
          "loss": 1.5123313665390015
         },
         {
          "i": 24,
          "loss": 1.5014883279800415
         },
         {
          "i": 25,
          "loss": 1.4912216663360596
         },
         {
          "i": 26,
          "loss": 1.4814329147338867
         },
         {
          "i": 27,
          "loss": 1.4721530675888062
         },
         {
          "i": 28,
          "loss": 1.4633418321609497
         },
         {
          "i": 29,
          "loss": 1.4549640417099
         },
         {
          "i": 30,
          "loss": 1.446987509727478
         },
         {
          "i": 31,
          "loss": 1.439244270324707
         },
         {
          "i": 32,
          "loss": 1.4310710430145264
         },
         {
          "i": 33,
          "loss": 1.4233062267303467
         },
         {
          "i": 34,
          "loss": 1.4159190654754639
         },
         {
          "i": 35,
          "loss": 1.408881425857544
         },
         {
          "i": 36,
          "loss": 1.4021676778793335
         },
         {
          "i": 37,
          "loss": 1.3957561254501343
         },
         {
          "i": 38,
          "loss": 1.3896245956420898
         },
         {
          "i": 39,
          "loss": 1.383841872215271
         },
         {
          "i": 40,
          "loss": 1.3782780170440674
         },
         {
          "i": 41,
          "loss": 1.3727469444274902
         },
         {
          "i": 42,
          "loss": 1.3674389123916626
         },
         {
          "i": 43,
          "loss": 1.3623396158218384
         },
         {
          "i": 44,
          "loss": 1.3574364185333252
         },
         {
          "i": 45,
          "loss": 1.3527169227600098
         },
         {
          "i": 46,
          "loss": 1.3481706380844116
         },
         {
          "i": 47,
          "loss": 1.3437869548797607
         },
         {
          "i": 48,
          "loss": 1.3395562171936035
         },
         {
          "i": 49,
          "loss": 1.33547043800354
         },
         {
          "i": 50,
          "loss": 1.3315211534500122
         },
         {
          "i": 51,
          "loss": 1.3277010917663574
         },
         {
          "i": 52,
          "loss": 1.3240033388137817
         },
         {
          "i": 53,
          "loss": 1.3204213380813599
         },
         {
          "i": 54,
          "loss": 1.3169490098953247
         },
         {
          "i": 55,
          "loss": 1.313581109046936
         },
         {
          "i": 56,
          "loss": 1.310312032699585
         },
         {
          "i": 57,
          "loss": 1.3071377277374268
         },
         {
          "i": 58,
          "loss": 1.304052472114563
         },
         {
          "i": 59,
          "loss": 1.3010530471801758
         },
         {
          "i": 60,
          "loss": 1.2981348037719727
         },
         {
          "i": 61,
          "loss": 1.2952940464019775
         },
         {
          "i": 62,
          "loss": 1.292526364326477
         },
         {
          "i": 63,
          "loss": 1.2898329496383667
         },
         {
          "i": 64,
          "loss": 1.2872073650360107
         },
         {
          "i": 65,
          "loss": 1.2846466302871704
         },
         {
          "i": 66,
          "loss": 1.2821484804153442
         },
         {
          "i": 67,
          "loss": 1.2797093391418457
         },
         {
          "i": 68,
          "loss": 1.2773280143737793
         },
         {
          "i": 69,
          "loss": 1.2750037908554077
         },
         {
          "i": 70,
          "loss": 1.2727458477020264
         },
         {
          "i": 71,
          "loss": 1.270538330078125
         },
         {
          "i": 72,
          "loss": 1.2683777809143066
         },
         {
          "i": 73,
          "loss": 1.266255259513855
         },
         {
          "i": 74,
          "loss": 1.2641775608062744
         },
         {
          "i": 75,
          "loss": 1.2621442079544067
         },
         {
          "i": 76,
          "loss": 1.2602218389511108
         },
         {
          "i": 77,
          "loss": 1.2583388090133667
         },
         {
          "i": 78,
          "loss": 1.256494164466858
         },
         {
          "i": 79,
          "loss": 1.2546743154525757
         },
         {
          "i": 80,
          "loss": 1.25285804271698
         },
         {
          "i": 81,
          "loss": 1.2510807514190674
         },
         {
          "i": 82,
          "loss": 1.2493501901626587
         },
         {
          "i": 83,
          "loss": 1.2476515769958496
         },
         {
          "i": 84,
          "loss": 1.2459747791290283
         },
         {
          "i": 85,
          "loss": 1.2443097829818726
         },
         {
          "i": 86,
          "loss": 1.2426745891571045
         },
         {
          "i": 87,
          "loss": 1.2410680055618286
         },
         {
          "i": 88,
          "loss": 1.2394883632659912
         },
         {
          "i": 89,
          "loss": 1.2379356622695923
         },
         {
          "i": 90,
          "loss": 1.2364089488983154
         },
         {
          "i": 91,
          "loss": 1.234907627105713
         },
         {
          "i": 92,
          "loss": 1.2334303855895996
         },
         {
          "i": 93,
          "loss": 1.231977105140686
         },
         {
          "i": 94,
          "loss": 1.2305470705032349
         },
         {
          "i": 95,
          "loss": 1.2291392087936401
         },
         {
          "i": 96,
          "loss": 1.2277534008026123
         },
         {
          "i": 97,
          "loss": 1.2263885736465454
         },
         {
          "i": 98,
          "loss": 1.225044846534729
         },
         {
          "i": 99,
          "loss": 1.223720908164978
         },
         {
          "i": 100,
          "loss": 1.2224167585372925
         },
         {
          "i": 101,
          "loss": 1.2211318016052246
         },
         {
          "i": 102,
          "loss": 1.2198652029037476
         },
         {
          "i": 103,
          "loss": 1.2186169624328613
         },
         {
          "i": 104,
          "loss": 1.2173863649368286
         },
         {
          "i": 105,
          "loss": 1.2161750793457031
         },
         {
          "i": 106,
          "loss": 1.2149837017059326
         },
         {
          "i": 107,
          "loss": 1.2138087749481201
         },
         {
          "i": 108,
          "loss": 1.2126497030258179
         },
         {
          "i": 109,
          "loss": 1.2115062475204468
         },
         {
          "i": 110,
          "loss": 1.2103779315948486
         },
         {
          "i": 111,
          "loss": 1.2092645168304443
         },
         {
          "i": 112,
          "loss": 1.2081656455993652
         },
         {
          "i": 113,
          "loss": 1.2070809602737427
         },
         {
          "i": 114,
          "loss": 1.2060099840164185
         },
         {
          "i": 115,
          "loss": 1.204952597618103
         },
         {
          "i": 116,
          "loss": 1.2039085626602173
         },
         {
          "i": 117,
          "loss": 1.202877402305603
         },
         {
          "i": 118,
          "loss": 1.2018591165542603
         },
         {
          "i": 119,
          "loss": 1.2008531093597412
         },
         {
          "i": 120,
          "loss": 1.1998584270477295
         },
         {
          "i": 121,
          "loss": 1.1988755464553833
         },
         {
          "i": 122,
          "loss": 1.1979045867919922
         },
         {
          "i": 123,
          "loss": 1.196945071220398
         },
         {
          "i": 124,
          "loss": 1.1959967613220215
         },
         {
          "i": 125,
          "loss": 1.1950592994689941
         },
         {
          "i": 126,
          "loss": 1.1941324472427368
         },
         {
          "i": 127,
          "loss": 1.1932164430618286
         },
         {
          "i": 128,
          "loss": 1.1923106908798218
         },
         {
          "i": 129,
          "loss": 1.1914151906967163
         },
         {
          "i": 130,
          "loss": 1.190529227256775
         },
         {
          "i": 131,
          "loss": 1.1896528005599976
         },
         {
          "i": 132,
          "loss": 1.1887860298156738
         },
         {
          "i": 133,
          "loss": 1.1879286766052246
         },
         {
          "i": 134,
          "loss": 1.1870803833007812
         },
         {
          "i": 135,
          "loss": 1.1862412691116333
         },
         {
          "i": 136,
          "loss": 1.185410976409912
         },
         {
          "i": 137,
          "loss": 1.1845890283584595
         },
         {
          "i": 138,
          "loss": 1.183775782585144
         },
         {
          "i": 139,
          "loss": 1.1829710006713867
         },
         {
          "i": 140,
          "loss": 1.1821743249893188
         },
         {
          "i": 141,
          "loss": 1.1813857555389404
         },
         {
          "i": 142,
          "loss": 1.1806052923202515
         },
         {
          "i": 143,
          "loss": 1.1798322200775146
         },
         {
          "i": 144,
          "loss": 1.1790670156478882
         },
         {
          "i": 145,
          "loss": 1.1783093214035034
         },
         {
          "i": 146,
          "loss": 1.1775588989257812
         },
         {
          "i": 147,
          "loss": 1.1768158674240112
         },
         {
          "i": 148,
          "loss": 1.1760798692703247
         },
         {
          "i": 149,
          "loss": 1.1753507852554321
         },
         {
          "i": 150,
          "loss": 1.174628734588623
         },
         {
          "i": 151,
          "loss": 1.1739133596420288
         },
         {
          "i": 152,
          "loss": 1.173204779624939
         },
         {
          "i": 153,
          "loss": 1.1725023984909058
         },
         {
          "i": 154,
          "loss": 1.171806812286377
         },
         {
          "i": 155,
          "loss": 1.1711173057556152
         },
         {
          "i": 156,
          "loss": 1.1704341173171997
         },
         {
          "i": 157,
          "loss": 1.1697572469711304
         },
         {
          "i": 158,
          "loss": 1.1690860986709595
         },
         {
          "i": 159,
          "loss": 1.1684209108352661
         },
         {
          "i": 160,
          "loss": 1.1677616834640503
         },
         {
          "i": 161,
          "loss": 1.167108178138733
         },
         {
          "i": 162,
          "loss": 1.1664601564407349
         },
         {
          "i": 163,
          "loss": 1.1658179759979248
         },
         {
          "i": 164,
          "loss": 1.1651811599731445
         },
         {
          "i": 165,
          "loss": 1.164549708366394
         },
         {
          "i": 166,
          "loss": 1.1639235019683838
         },
         {
          "i": 167,
          "loss": 1.1633026599884033
         },
         {
          "i": 168,
          "loss": 1.1626869440078735
         },
         {
          "i": 169,
          "loss": 1.1620759963989258
         },
         {
          "i": 170,
          "loss": 1.1614702939987183
         },
         {
          "i": 171,
          "loss": 1.1608694791793823
         },
         {
          "i": 172,
          "loss": 1.1602736711502075
         },
         {
          "i": 173,
          "loss": 1.159682273864746
         },
         {
          "i": 174,
          "loss": 1.1590957641601562
         },
         {
          "i": 175,
          "loss": 1.158514142036438
         },
         {
          "i": 176,
          "loss": 1.1579368114471436
         },
         {
          "i": 177,
          "loss": 1.157364010810852
         },
         {
          "i": 178,
          "loss": 1.156795620918274
         },
         {
          "i": 179,
          "loss": 1.156233310699463
         },
         {
          "i": 180,
          "loss": 1.155680775642395
         },
         {
          "i": 181,
          "loss": 1.1551326513290405
         },
         {
          "i": 182,
          "loss": 1.1545886993408203
         },
         {
          "i": 183,
          "loss": 1.1541191339492798
         },
         {
          "i": 184,
          "loss": 1.1536864042282104
         },
         {
          "i": 185,
          "loss": 1.1532570123672485
         },
         {
          "i": 186,
          "loss": 1.1528311967849731
         },
         {
          "i": 187,
          "loss": 1.152408480644226
         },
         {
          "i": 188,
          "loss": 1.1519888639450073
         },
         {
          "i": 189,
          "loss": 1.151572585105896
         },
         {
          "i": 190,
          "loss": 1.1511590480804443
         },
         {
          "i": 191,
          "loss": 1.1507487297058105
         },
         {
          "i": 192,
          "loss": 1.150341272354126
         },
         {
          "i": 193,
          "loss": 1.1499367952346802
         },
         {
          "i": 194,
          "loss": 1.1495351791381836
         },
         {
          "i": 195,
          "loss": 1.1491363048553467
         },
         {
          "i": 196,
          "loss": 1.1487436294555664
         },
         {
          "i": 197,
          "loss": 1.1483585834503174
         },
         {
          "i": 198,
          "loss": 1.1479758024215698
         },
         {
          "i": 199,
          "loss": 1.1475958824157715
         },
         {
          "i": 200,
          "loss": 1.1472183465957642
         },
         {
          "i": 201,
          "loss": 1.146843433380127
         },
         {
          "i": 202,
          "loss": 1.1464710235595703
         },
         {
          "i": 203,
          "loss": 1.1461012363433838
         },
         {
          "i": 204,
          "loss": 1.1457335948944092
         },
         {
          "i": 205,
          "loss": 1.1453684568405151
         },
         {
          "i": 206,
          "loss": 1.145005702972412
         },
         {
          "i": 207,
          "loss": 1.144645094871521
         },
         {
          "i": 208,
          "loss": 1.1442869901657104
         },
         {
          "i": 209,
          "loss": 1.1439309120178223
         },
         {
          "i": 210,
          "loss": 1.1435773372650146
         },
         {
          "i": 211,
          "loss": 1.143225908279419
         },
         {
          "i": 212,
          "loss": 1.1428765058517456
         },
         {
          "i": 213,
          "loss": 1.1425294876098633
         },
         {
          "i": 214,
          "loss": 1.1421843767166138
         },
         {
          "i": 215,
          "loss": 1.1418415307998657
         },
         {
          "i": 216,
          "loss": 1.1415005922317505
         },
         {
          "i": 217,
          "loss": 1.1411617994308472
         },
         {
          "i": 218,
          "loss": 1.1408249139785767
         },
         {
          "i": 219,
          "loss": 1.1404900550842285
         },
         {
          "i": 220,
          "loss": 1.1401572227478027
         },
         {
          "i": 221,
          "loss": 1.1398261785507202
         },
         {
          "i": 222,
          "loss": 1.1394965648651123
         },
         {
          "i": 223,
          "loss": 1.1391687393188477
         },
         {
          "i": 224,
          "loss": 1.1388428211212158
         },
         {
          "i": 225,
          "loss": 1.1385188102722168
         },
         {
          "i": 226,
          "loss": 1.1381968259811401
         },
         {
          "i": 227,
          "loss": 1.1378765106201172
         },
         {
          "i": 228,
          "loss": 1.1375582218170166
         },
         {
          "i": 229,
          "loss": 1.1372417211532593
         },
         {
          "i": 230,
          "loss": 1.1369267702102661
         },
         {
          "i": 231,
          "loss": 1.1366138458251953
         },
         {
          "i": 232,
          "loss": 1.1363024711608887
         },
         {
          "i": 233,
          "loss": 1.1359927654266357
         },
         {
          "i": 234,
          "loss": 1.135684847831726
         },
         {
          "i": 235,
          "loss": 1.1353787183761597
         },
         {
          "i": 236,
          "loss": 1.1350740194320679
         },
         {
          "i": 237,
          "loss": 1.1347709894180298
         },
         {
          "i": 238,
          "loss": 1.134469747543335
         },
         {
          "i": 239,
          "loss": 1.1341699361801147
         },
         {
          "i": 240,
          "loss": 1.1338717937469482
         },
         {
          "i": 241,
          "loss": 1.133575201034546
         },
         {
          "i": 242,
          "loss": 1.1332800388336182
         },
         {
          "i": 243,
          "loss": 1.1329867839813232
         },
         {
          "i": 244,
          "loss": 1.1326946020126343
         },
         {
          "i": 245,
          "loss": 1.1324043273925781
         },
         {
          "i": 246,
          "loss": 1.1321152448654175
         },
         {
          "i": 247,
          "loss": 1.131827712059021
         },
         {
          "i": 248,
          "loss": 1.1315417289733887
         },
         {
          "i": 249,
          "loss": 1.1312570571899414
         },
         {
          "i": 250,
          "loss": 1.1309738159179688
         },
         {
          "i": 251,
          "loss": 1.1306920051574707
         },
         {
          "i": 252,
          "loss": 1.1304118633270264
         },
         {
          "i": 253,
          "loss": 1.130132794380188
         },
         {
          "i": 254,
          "loss": 1.1298552751541138
         },
         {
          "i": 255,
          "loss": 1.1295790672302246
         },
         {
          "i": 256,
          "loss": 1.12930428981781
         },
         {
          "i": 257,
          "loss": 1.129030704498291
         },
         {
          "i": 258,
          "loss": 1.128758430480957
         },
         {
          "i": 259,
          "loss": 1.1284875869750977
         },
         {
          "i": 260,
          "loss": 1.1282180547714233
         },
         {
          "i": 261,
          "loss": 1.127949595451355
         },
         {
          "i": 262,
          "loss": 1.1276826858520508
         },
         {
          "i": 263,
          "loss": 1.1274168491363525
         },
         {
          "i": 264,
          "loss": 1.1271523237228394
         },
         {
          "i": 265,
          "loss": 1.1268943548202515
         },
         {
          "i": 266,
          "loss": 1.1266406774520874
         },
         {
          "i": 267,
          "loss": 1.1263878345489502
         },
         {
          "i": 268,
          "loss": 1.1261365413665771
         },
         {
          "i": 269,
          "loss": 1.125884771347046
         },
         {
          "i": 270,
          "loss": 1.1256341934204102
         },
         {
          "i": 271,
          "loss": 1.1253846883773804
         },
         {
          "i": 272,
          "loss": 1.125136137008667
         },
         {
          "i": 273,
          "loss": 1.1248888969421387
         },
         {
          "i": 274,
          "loss": 1.1246428489685059
         },
         {
          "i": 275,
          "loss": 1.1243973970413208
         },
         {
          "i": 276,
          "loss": 1.1241534948349
         },
         {
          "i": 277,
          "loss": 1.1239120960235596
         },
         {
          "i": 278,
          "loss": 1.1236727237701416
         },
         {
          "i": 279,
          "loss": 1.1234345436096191
         },
         {
          "i": 280,
          "loss": 1.123197317123413
         },
         {
          "i": 281,
          "loss": 1.122961163520813
         },
         {
          "i": 282,
          "loss": 1.1227262020111084
         },
         {
          "i": 283,
          "loss": 1.1224918365478516
         },
         {
          "i": 284,
          "loss": 1.1222587823867798
         },
         {
          "i": 285,
          "loss": 1.122026801109314
         },
         {
          "i": 286,
          "loss": 1.1217957735061646
         },
         {
          "i": 287,
          "loss": 1.121565580368042
         },
         {
          "i": 288,
          "loss": 1.1213364601135254
         },
         {
          "i": 289,
          "loss": 1.1211084127426147
         },
         {
          "i": 290,
          "loss": 1.1208810806274414
         },
         {
          "i": 291,
          "loss": 1.120654821395874
         },
         {
          "i": 292,
          "loss": 1.120429515838623
         },
         {
          "i": 293,
          "loss": 1.1202051639556885
         },
         {
          "i": 294,
          "loss": 1.1199815273284912
         },
         {
          "i": 295,
          "loss": 1.119759202003479
         },
         {
          "i": 296,
          "loss": 1.119537353515625
         },
         {
          "i": 297,
          "loss": 1.119316816329956
         },
         {
          "i": 298,
          "loss": 1.1190967559814453
         },
         {
          "i": 299,
          "loss": 1.1188777685165405
         },
         {
          "i": 300,
          "loss": 1.1186596155166626
         },
         {
          "i": 301,
          "loss": 1.1184425354003906
         },
         {
          "i": 302,
          "loss": 1.1182260513305664
         },
         {
          "i": 303,
          "loss": 1.118010401725769
         },
         {
          "i": 304,
          "loss": 1.117795705795288
         },
         {
          "i": 305,
          "loss": 1.117581844329834
         },
         {
          "i": 306,
          "loss": 1.1173689365386963
         },
         {
          "i": 307,
          "loss": 1.1171565055847168
         },
         {
          "i": 308,
          "loss": 1.1169451475143433
         },
         {
          "i": 309,
          "loss": 1.116734504699707
         },
         {
          "i": 310,
          "loss": 1.1165246963500977
         },
         {
          "i": 311,
          "loss": 1.1163158416748047
         },
         {
          "i": 312,
          "loss": 1.11610746383667
         },
         {
          "i": 313,
          "loss": 1.115899920463562
         },
         {
          "i": 314,
          "loss": 1.1156935691833496
         },
         {
          "i": 315,
          "loss": 1.1154876947402954
         },
         {
          "i": 316,
          "loss": 1.1152825355529785
         },
         {
          "i": 317,
          "loss": 1.1150779724121094
         },
         {
          "i": 318,
          "loss": 1.1148746013641357
         },
         {
          "i": 319,
          "loss": 1.1146713495254517
         },
         {
          "i": 320,
          "loss": 1.1144694089889526
         },
         {
          "i": 321,
          "loss": 1.1142678260803223
         },
         {
          "i": 322,
          "loss": 1.1140674352645874
         },
         {
          "i": 323,
          "loss": 1.1138666868209839
         },
         {
          "i": 324,
          "loss": 1.113662838935852
         },
         {
          "i": 325,
          "loss": 1.113459825515747
         },
         {
          "i": 326,
          "loss": 1.113257646560669
         },
         {
          "i": 327,
          "loss": 1.1130560636520386
         },
         {
          "i": 328,
          "loss": 1.1128554344177246
         },
         {
          "i": 329,
          "loss": 1.1126552820205688
         },
         {
          "i": 330,
          "loss": 1.1124557256698608
         },
         {
          "i": 331,
          "loss": 1.1122572422027588
         },
         {
          "i": 332,
          "loss": 1.1120593547821045
         },
         {
          "i": 333,
          "loss": 1.111862063407898
         },
         {
          "i": 334,
          "loss": 1.1116657257080078
         },
         {
          "i": 335,
          "loss": 1.1114697456359863
         },
         {
          "i": 336,
          "loss": 1.1112746000289917
         },
         {
          "i": 337,
          "loss": 1.1110801696777344
         },
         {
          "i": 338,
          "loss": 1.1108863353729248
         },
         {
          "i": 339,
          "loss": 1.1106932163238525
         },
         {
          "i": 340,
          "loss": 1.110500693321228
         },
         {
          "i": 341,
          "loss": 1.1103088855743408
         },
         {
          "i": 342,
          "loss": 1.1101175546646118
         },
         {
          "i": 343,
          "loss": 1.1099271774291992
         },
         {
          "i": 344,
          "loss": 1.1097372770309448
         },
         {
          "i": 345,
          "loss": 1.1095482110977173
         },
         {
          "i": 346,
          "loss": 1.109359622001648
         },
         {
          "i": 347,
          "loss": 1.1091715097427368
         },
         {
          "i": 348,
          "loss": 1.1089842319488525
         },
         {
          "i": 349,
          "loss": 1.1087976694107056
         },
         {
          "i": 350,
          "loss": 1.1086115837097168
         },
         {
          "i": 351,
          "loss": 1.1084260940551758
         },
         {
          "i": 352,
          "loss": 1.108241319656372
         },
         {
          "i": 353,
          "loss": 1.1080570220947266
         },
         {
          "i": 354,
          "loss": 1.1078734397888184
         },
         {
          "i": 355,
          "loss": 1.1076903343200684
         },
         {
          "i": 356,
          "loss": 1.1075078248977661
         },
         {
          "i": 357,
          "loss": 1.107325792312622
         },
         {
          "i": 358,
          "loss": 1.1071447134017944
         },
         {
          "i": 359,
          "loss": 1.1069639921188354
         },
         {
          "i": 360,
          "loss": 1.1067837476730347
         },
         {
          "i": 361,
          "loss": 1.1066040992736816
         },
         {
          "i": 362,
          "loss": 1.106425166130066
         },
         {
          "i": 363,
          "loss": 1.1062465906143188
         },
         {
          "i": 364,
          "loss": 1.1060688495635986
         },
         {
          "i": 365,
          "loss": 1.105891466140747
         },
         {
          "i": 366,
          "loss": 1.1057146787643433
         },
         {
          "i": 367,
          "loss": 1.1055383682250977
         },
         {
          "i": 368,
          "loss": 1.1053627729415894
         },
         {
          "i": 369,
          "loss": 1.1051875352859497
         },
         {
          "i": 370,
          "loss": 1.1050128936767578
         },
         {
          "i": 371,
          "loss": 1.1048387289047241
         },
         {
          "i": 372,
          "loss": 1.1046653985977173
         },
         {
          "i": 373,
          "loss": 1.1044938564300537
         },
         {
          "i": 374,
          "loss": 1.1043227910995483
         },
         {
          "i": 375,
          "loss": 1.1041522026062012
         },
         {
          "i": 376,
          "loss": 1.1039822101593018
         },
         {
          "i": 377,
          "loss": 1.1038126945495605
         },
         {
          "i": 378,
          "loss": 1.103643536567688
         },
         {
          "i": 379,
          "loss": 1.1034749746322632
         },
         {
          "i": 380,
          "loss": 1.103306770324707
         },
         {
          "i": 381,
          "loss": 1.1031394004821777
         },
         {
          "i": 382,
          "loss": 1.102972388267517
         },
         {
          "i": 383,
          "loss": 1.102805733680725
         },
         {
          "i": 384,
          "loss": 1.1026395559310913
         },
         {
          "i": 385,
          "loss": 1.1024739742279053
         },
         {
          "i": 386,
          "loss": 1.102308750152588
         },
         {
          "i": 387,
          "loss": 1.1021441221237183
         },
         {
          "i": 388,
          "loss": 1.101979374885559
         },
         {
          "i": 389,
          "loss": 1.1018146276474
         },
         {
          "i": 390,
          "loss": 1.1016501188278198
         },
         {
          "i": 391,
          "loss": 1.101486086845398
         },
         {
          "i": 392,
          "loss": 1.1013225317001343
         },
         {
          "i": 393,
          "loss": 1.1011643409729004
         },
         {
          "i": 394,
          "loss": 1.1010103225708008
         },
         {
          "i": 395,
          "loss": 1.100854516029358
         },
         {
          "i": 396,
          "loss": 1.1007024049758911
         },
         {
          "i": 397,
          "loss": 1.1005470752716064
         },
         {
          "i": 398,
          "loss": 1.1003962755203247
         },
         {
          "i": 399,
          "loss": 1.1002413034439087
         },
         {
          "i": 400,
          "loss": 1.100091576576233
         },
         {
          "i": 401,
          "loss": 1.0999343395233154
         },
         {
          "i": 402,
          "loss": 1.0997834205627441
         },
         {
          "i": 403,
          "loss": 1.0996274948120117
         },
         {
          "i": 404,
          "loss": 1.0994774103164673
         },
         {
          "i": 405,
          "loss": 1.0993199348449707
         },
         {
          "i": 406,
          "loss": 1.0991684198379517
         },
         {
          "i": 407,
          "loss": 1.0990138053894043
         },
         {
          "i": 408,
          "loss": 1.0988662242889404
         },
         {
          "i": 409,
          "loss": 1.0987153053283691
         },
         {
          "i": 410,
          "loss": 1.0985678434371948
         },
         {
          "i": 411,
          "loss": 1.0984185934066772
         },
         {
          "i": 412,
          "loss": 1.098271131515503
         },
         {
          "i": 413,
          "loss": 1.0981236696243286
         },
         {
          "i": 414,
          "loss": 1.0979762077331543
         },
         {
          "i": 415,
          "loss": 1.0978305339813232
         },
         {
          "i": 416,
          "loss": 1.0976828336715698
         },
         {
          "i": 417,
          "loss": 1.0975394248962402
         },
         {
          "i": 418,
          "loss": 1.0973910093307495
         },
         {
          "i": 419,
          "loss": 1.0972498655319214
         },
         {
          "i": 420,
          "loss": 1.0971016883850098
         },
         {
          "i": 421,
          "loss": 1.096961498260498
         },
         {
          "i": 422,
          "loss": 1.0968148708343506
         },
         {
          "i": 423,
          "loss": 1.096673846244812
         },
         {
          "i": 424,
          "loss": 1.0965297222137451
         },
         {
          "i": 425,
          "loss": 1.096387505531311
         },
         {
          "i": 426,
          "loss": 1.0962464809417725
         },
         {
          "i": 427,
          "loss": 1.096103310585022
         },
         {
          "i": 428,
          "loss": 1.0959649085998535
         },
         {
          "i": 429,
          "loss": 1.0958209037780762
         },
         {
          "i": 430,
          "loss": 1.0956847667694092
         },
         {
          "i": 431,
          "loss": 1.0955419540405273
         },
         {
          "i": 432,
          "loss": 1.0954041481018066
         },
         {
          "i": 433,
          "loss": 1.0952646732330322
         },
         {
          "i": 434,
          "loss": 1.0951251983642578
         },
         {
          "i": 435,
          "loss": 1.0949889421463013
         },
         {
          "i": 436,
          "loss": 1.0948477983474731
         },
         {
          "i": 437,
          "loss": 1.0947142839431763
         },
         {
          "i": 438,
          "loss": 1.0945743322372437
         },
         {
          "i": 439,
          "loss": 1.0944387912750244
         },
         {
          "i": 440,
          "loss": 1.0943025350570679
         },
         {
          "i": 441,
          "loss": 1.094164490699768
         },
         {
          "i": 442,
          "loss": 1.0940319299697876
         },
         {
          "i": 443,
          "loss": 1.0938935279846191
         },
         {
          "i": 444,
          "loss": 1.0937610864639282
         },
         {
          "i": 445,
          "loss": 1.093625545501709
         },
         {
          "i": 446,
          "loss": 1.0934903621673584
         },
         {
          "i": 447,
          "loss": 1.0933587551116943
         },
         {
          "i": 448,
          "loss": 1.0932223796844482
         },
         {
          "i": 449,
          "loss": 1.0930919647216797
         },
         {
          "i": 450,
          "loss": 1.092957854270935
         },
         {
          "i": 451,
          "loss": 1.0928244590759277
         },
         {
          "i": 452,
          "loss": 1.0926947593688965
         },
         {
          "i": 453,
          "loss": 1.0925601720809937
         },
         {
          "i": 454,
          "loss": 1.092430830001831
         },
         {
          "i": 455,
          "loss": 1.0922991037368774
         },
         {
          "i": 456,
          "loss": 1.0921666622161865
         },
         {
          "i": 457,
          "loss": 1.0920394659042358
         },
         {
          "i": 458,
          "loss": 1.0919067859649658
         },
         {
          "i": 459,
          "loss": 1.0917779207229614
         },
         {
          "i": 460,
          "loss": 1.091649055480957
         },
         {
          "i": 461,
          "loss": 1.091517448425293
         },
         {
          "i": 462,
          "loss": 1.0913918018341064
         },
         {
          "i": 463,
          "loss": 1.091261625289917
         },
         {
          "i": 464,
          "loss": 1.0911322832107544
         },
         {
          "i": 465,
          "loss": 1.0910072326660156
         },
         {
          "i": 466,
          "loss": 1.0908771753311157
         },
         {
          "i": 467,
          "loss": 1.0907506942749023
         },
         {
          "i": 468,
          "loss": 1.0906246900558472
         },
         {
          "i": 469,
          "loss": 1.0904955863952637
         },
         {
          "i": 470,
          "loss": 1.0903717279434204
         },
         {
          "i": 471,
          "loss": 1.0902413129806519
         },
         {
          "i": 472,
          "loss": 1.0901097059249878
         },
         {
          "i": 473,
          "loss": 1.0899842977523804
         },
         {
          "i": 474,
          "loss": 1.0898536443710327
         },
         {
          "i": 475,
          "loss": 1.0897207260131836
         },
         {
          "i": 476,
          "loss": 1.0895925760269165
         },
         {
          "i": 477,
          "loss": 1.0894598960876465
         },
         {
          "i": 478,
          "loss": 1.0893282890319824
         },
         {
          "i": 479,
          "loss": 1.0891990661621094
         },
         {
          "i": 480,
          "loss": 1.089065432548523
         },
         {
          "i": 481,
          "loss": 1.0889344215393066
         },
         {
          "i": 482,
          "loss": 1.0888055562973022
         },
         {
          "i": 483,
          "loss": 1.0886731147766113
         },
         {
          "i": 484,
          "loss": 1.0885435342788696
         },
         {
          "i": 485,
          "loss": 1.088415503501892
         },
         {
          "i": 486,
          "loss": 1.0882841348648071
         },
         {
          "i": 487,
          "loss": 1.0881577730178833
         },
         {
          "i": 488,
          "loss": 1.0880329608917236
         },
         {
          "i": 489,
          "loss": 1.087904930114746
         },
         {
          "i": 490,
          "loss": 1.08777916431427
         },
         {
          "i": 491,
          "loss": 1.0876555442810059
         },
         {
          "i": 492,
          "loss": 1.0875284671783447
         },
         {
          "i": 493,
          "loss": 1.0874030590057373
         },
         {
          "i": 494,
          "loss": 1.0872809886932373
         },
         {
          "i": 495,
          "loss": 1.0871548652648926
         },
         {
          "i": 496,
          "loss": 1.087029218673706
         },
         {
          "i": 497,
          "loss": 1.0869090557098389
         },
         {
          "i": 498,
          "loss": 1.0867838859558105
         },
         {
          "i": 499,
          "loss": 1.0866600275039673
         }
        ]
       },
       "encoding": {
        "x": {
         "field": "i",
         "type": "quantitative"
        },
        "y": {
         "field": "loss",
         "type": "quantitative"
        }
       },
       "mark": "line"
      },
      "image/png": "[encoded data removed]",
      "text/plain": [
       "<VegaLite 3 object>\n",
       "\n",
       "If you see this message, it means the renderer has not been properly enabled\n",
       "for the frontend that you are using. For more information, see\n",
       "https://altair-viz.github.io/user_guide/troubleshooting.html\n"
      ]
     },
     "execution_count": 322,
     "metadata": {},
     "output_type": "execute_result"
    }
   ],
   "source": [
    "loss_df = pd.DataFrame({'i':range(500), 'loss':loss_record})\n",
    "alt.Chart(loss_df).mark_line().encode(x='i', y='loss')"
   ]
  },
  {
   "cell_type": "markdown",
   "metadata": {},
   "source": [
    "And here are our predictions for a new $x$:"
   ]
  },
  {
   "cell_type": "code",
   "execution_count": 323,
   "metadata": {},
   "outputs": [
    {
     "data": {
      "text/plain": [
       "tensor([[ 0.3409],\n",
       "        [-0.3684],\n",
       "        [-0.2525],\n",
       "        [ 0.6195],\n",
       "        [-0.0507],\n",
       "        [-1.0138],\n",
       "        [-0.0835],\n",
       "        [-0.2314],\n",
       "        [-0.0812],\n",
       "        [-0.2056]], grad_fn=<MmBackward>)"
      ]
     },
     "execution_count": 323,
     "metadata": {},
     "output_type": "execute_result"
    }
   ],
   "source": [
    "new_x = torch.randn(10, 5) # 10 new observations\n",
    "z = g(torch.matmul(new_x,W))\n",
    "torch.matmul(z,α)"
   ]
  },
  {
   "cell_type": "markdown",
   "metadata": {},
   "source": [
    "<div class=\"alert alert-block alert-info\">\n",
    "<b>Exercise:</b> \n",
    "\n",
    "Apply this strategy to our logistic regression to make a more complex **classification** model. In other words, implement the machine learning algorithm with these characteristics:\n",
    "* Model: $\\hat p_i = \\sigma(g(x_i W))\\alpha)$, with $\\sigma$, $g$, $W$, and $\\alpha$ as previously described\n",
    "* Loss: log-loss\n",
    "* Search Algorithm: gradient descent\n",
    "</div>"
   ]
  },
  {
   "cell_type": "markdown",
   "metadata": {},
   "source": [
    "### Conclusion"
   ]
  },
  {
   "cell_type": "markdown",
   "metadata": {},
   "source": [
    "We just developed a machine learning method out of these three components:\n",
    "* \"linear-relu\" $\\times$ 10 + linear model (model)\n",
    "* MSE loss (loss)\n",
    "* gradient descent (search algorithm)\n",
    "\n",
    "This is a neural network. The 10 \"new predictors\" are together a _hidden layer_ (hidden because we don't see them at the end of the day, just the output $\\hat y$) and each of them individually is called a _hidden unit_. The function $g$ is called an _activation function_, so in total what we've built is a neural network with a single size-10 hidden layer and a ReLU activation function. We then fit that model using gradient descent and an MSE loss."
   ]
  },
  {
   "cell_type": "markdown",
   "metadata": {},
   "source": [
    "## How does this help?"
   ]
  },
  {
   "cell_type": "markdown",
   "metadata": {},
   "source": [
    "While we could define ever-more complex interactions of parameters and data, it turns out that simply stacking linear regressions with nonlinear activation functions on top of each other (e.g. \"linear-relu\" regressions) gets us enough complexity to model practically any relationship we want. Let's have a look at an example where $y = x^2$ in reality:"
   ]
  },
  {
   "cell_type": "code",
   "execution_count": 391,
   "metadata": {},
   "outputs": [],
   "source": [
    "p = 1\n",
    "n = 100\n",
    "\n",
    "x = torch.randn(n, p) # predictors (n observations, p features)\n",
    "y = x[:,0]**2 # outcomes (n observations)"
   ]
  },
  {
   "cell_type": "markdown",
   "metadata": {},
   "source": [
    "If we fit a linear model, we don't do very well:"
   ]
  },
  {
   "cell_type": "code",
   "execution_count": 385,
   "metadata": {},
   "outputs": [],
   "source": [
    "loss_record = [] \n",
    "β = torch.randn(p,1).requires_grad_()\n",
    "\n",
    "for e in range(500):\n",
    "    ŷ = torch.matmul(x, β) # ŷ = xβ (calculate predictions)\n",
    "    L = torch.sum((y-ŷ)**2)/n # L = Σ(yᵢ-ŷᵢ)² (use predictions to calculate loss)\n",
    "    \n",
    "    L.backward() # compute gradients (in this case δL/δβ, δL/δW)\n",
    "    loss_record.append(L.item())\n",
    "\n",
    "    with torch.no_grad(): # take the gradient descent step \n",
    "        β -= 10e-5 * β.grad\n",
    "        β.grad.zero_()"
   ]
  },
  {
   "cell_type": "markdown",
   "metadata": {},
   "source": [
    "The loss does go down, but overall it's still really high:"
   ]
  },
  {
   "cell_type": "code",
   "execution_count": 386,
   "metadata": {},
   "outputs": [
    {
     "data": {
      "application/vnd.vegalite.v3+json": {
       "$schema": "https://vega.github.io/schema/vega-lite/v3.4.0.json",
       "config": {
        "mark": {
         "tooltip": null
        },
        "view": {
         "height": 300,
         "width": 400
        }
       },
       "data": {
        "name": "data-c6ff3be2e7f44161b560aed6747536be"
       },
       "datasets": {
        "data-c6ff3be2e7f44161b560aed6747536be": [
         {
          "i": 0,
          "loss": 500.53460693359375
         },
         {
          "i": 1,
          "loss": 497.64434814453125
         },
         {
          "i": 2,
          "loss": 494.90264892578125
         },
         {
          "i": 3,
          "loss": 492.3018493652344
         },
         {
          "i": 4,
          "loss": 489.8345947265625
         },
         {
          "i": 5,
          "loss": 487.494384765625
         },
         {
          "i": 6,
          "loss": 485.2741394042969
         },
         {
          "i": 7,
          "loss": 483.1680908203125
         },
         {
          "i": 8,
          "loss": 481.1701965332031
         },
         {
          "i": 9,
          "loss": 479.275146484375
         },
         {
          "i": 10,
          "loss": 477.477294921875
         },
         {
          "i": 11,
          "loss": 475.7719421386719
         },
         {
          "i": 12,
          "loss": 474.1541748046875
         },
         {
          "i": 13,
          "loss": 472.6195373535156
         },
         {
          "i": 14,
          "loss": 471.1636962890625
         },
         {
          "i": 15,
          "loss": 469.7828063964844
         },
         {
          "i": 16,
          "loss": 468.4727478027344
         },
         {
          "i": 17,
          "loss": 467.23004150390625
         },
         {
          "i": 18,
          "loss": 466.0511474609375
         },
         {
          "i": 19,
          "loss": 464.93280029296875
         },
         {
          "i": 20,
          "loss": 463.8721618652344
         },
         {
          "i": 21,
          "loss": 462.8657531738281
         },
         {
          "i": 22,
          "loss": 461.91131591796875
         },
         {
          "i": 23,
          "loss": 461.0057067871094
         },
         {
          "i": 24,
          "loss": 460.14678955078125
         },
         {
          "i": 25,
          "loss": 459.33184814453125
         },
         {
          "i": 26,
          "loss": 458.55889892578125
         },
         {
          "i": 27,
          "loss": 457.8256530761719
         },
         {
          "i": 28,
          "loss": 457.130126953125
         },
         {
          "i": 29,
          "loss": 456.4701843261719
         },
         {
          "i": 30,
          "loss": 455.84429931640625
         },
         {
          "i": 31,
          "loss": 455.2505187988281
         },
         {
          "i": 32,
          "loss": 454.6872253417969
         },
         {
          "i": 33,
          "loss": 454.1529541015625
         },
         {
          "i": 34,
          "loss": 453.6461181640625
         },
         {
          "i": 35,
          "loss": 453.165283203125
         },
         {
          "i": 36,
          "loss": 452.709228515625
         },
         {
          "i": 37,
          "loss": 452.2764892578125
         },
         {
          "i": 38,
          "loss": 451.8660583496094
         },
         {
          "i": 39,
          "loss": 451.4766845703125
         },
         {
          "i": 40,
          "loss": 451.1073303222656
         },
         {
          "i": 41,
          "loss": 450.7569580078125
         },
         {
          "i": 42,
          "loss": 450.4246826171875
         },
         {
          "i": 43,
          "loss": 450.1092834472656
         },
         {
          "i": 44,
          "loss": 449.810302734375
         },
         {
          "i": 45,
          "loss": 449.52655029296875
         },
         {
          "i": 46,
          "loss": 449.257568359375
         },
         {
          "i": 47,
          "loss": 449.0021057128906
         },
         {
          "i": 48,
          "loss": 448.7600402832031
         },
         {
          "i": 49,
          "loss": 448.5301818847656
         },
         {
          "i": 50,
          "loss": 448.3122253417969
         },
         {
          "i": 51,
          "loss": 448.1056213378906
         },
         {
          "i": 52,
          "loss": 447.9094543457031
         },
         {
          "i": 53,
          "loss": 447.72344970703125
         },
         {
          "i": 54,
          "loss": 447.546875
         },
         {
          "i": 55,
          "loss": 447.3796081542969
         },
         {
          "i": 56,
          "loss": 447.220703125
         },
         {
          "i": 57,
          "loss": 447.070068359375
         },
         {
          "i": 58,
          "loss": 446.9271545410156
         },
         {
          "i": 59,
          "loss": 446.7916259765625
         },
         {
          "i": 60,
          "loss": 446.6629943847656
         },
         {
          "i": 61,
          "loss": 446.541015625
         },
         {
          "i": 62,
          "loss": 446.4252014160156
         },
         {
          "i": 63,
          "loss": 446.3155212402344
         },
         {
          "i": 64,
          "loss": 446.2113037109375
         },
         {
          "i": 65,
          "loss": 446.11248779296875
         },
         {
          "i": 66,
          "loss": 446.01873779296875
         },
         {
          "i": 67,
          "loss": 445.92987060546875
         },
         {
          "i": 68,
          "loss": 445.8456115722656
         },
         {
          "i": 69,
          "loss": 445.7656555175781
         },
         {
          "i": 70,
          "loss": 445.6897277832031
         },
         {
          "i": 71,
          "loss": 445.6177978515625
         },
         {
          "i": 72,
          "loss": 445.54949951171875
         },
         {
          "i": 73,
          "loss": 445.4847717285156
         },
         {
          "i": 74,
          "loss": 445.42327880859375
         },
         {
          "i": 75,
          "loss": 445.364990234375
         },
         {
          "i": 76,
          "loss": 445.30975341796875
         },
         {
          "i": 77,
          "loss": 445.25726318359375
         },
         {
          "i": 78,
          "loss": 445.20758056640625
         },
         {
          "i": 79,
          "loss": 445.1602783203125
         },
         {
          "i": 80,
          "loss": 445.11566162109375
         },
         {
          "i": 81,
          "loss": 445.0731506347656
         },
         {
          "i": 82,
          "loss": 445.0328369140625
         },
         {
          "i": 83,
          "loss": 444.9945983886719
         },
         {
          "i": 84,
          "loss": 444.9583740234375
         },
         {
          "i": 85,
          "loss": 444.9239501953125
         },
         {
          "i": 86,
          "loss": 444.8913269042969
         },
         {
          "i": 87,
          "loss": 444.8603820800781
         },
         {
          "i": 88,
          "loss": 444.8310241699219
         },
         {
          "i": 89,
          "loss": 444.80316162109375
         },
         {
          "i": 90,
          "loss": 444.7767639160156
         },
         {
          "i": 91,
          "loss": 444.7516784667969
         },
         {
          "i": 92,
          "loss": 444.7279357910156
         },
         {
          "i": 93,
          "loss": 444.7053527832031
         },
         {
          "i": 94,
          "loss": 444.68389892578125
         },
         {
          "i": 95,
          "loss": 444.6636047363281
         },
         {
          "i": 96,
          "loss": 444.6444396972656
         },
         {
          "i": 97,
          "loss": 444.626220703125
         },
         {
          "i": 98,
          "loss": 444.6089172363281
         },
         {
          "i": 99,
          "loss": 444.5923156738281
         },
         {
          "i": 100,
          "loss": 444.57684326171875
         },
         {
          "i": 101,
          "loss": 444.5619201660156
         },
         {
          "i": 102,
          "loss": 444.5479736328125
         },
         {
          "i": 103,
          "loss": 444.53472900390625
         },
         {
          "i": 104,
          "loss": 444.5220947265625
         },
         {
          "i": 105,
          "loss": 444.5101623535156
         },
         {
          "i": 106,
          "loss": 444.4987487792969
         },
         {
          "i": 107,
          "loss": 444.48797607421875
         },
         {
          "i": 108,
          "loss": 444.47772216796875
         },
         {
          "i": 109,
          "loss": 444.4680480957031
         },
         {
          "i": 110,
          "loss": 444.4589538574219
         },
         {
          "i": 111,
          "loss": 444.4500732421875
         },
         {
          "i": 112,
          "loss": 444.4418640136719
         },
         {
          "i": 113,
          "loss": 444.43402099609375
         },
         {
          "i": 114,
          "loss": 444.426513671875
         },
         {
          "i": 115,
          "loss": 444.4194641113281
         },
         {
          "i": 116,
          "loss": 444.4128112792969
         },
         {
          "i": 117,
          "loss": 444.4063415527344
         },
         {
          "i": 118,
          "loss": 444.400390625
         },
         {
          "i": 119,
          "loss": 444.3946838378906
         },
         {
          "i": 120,
          "loss": 444.38922119140625
         },
         {
          "i": 121,
          "loss": 444.384033203125
         },
         {
          "i": 122,
          "loss": 444.37921142578125
         },
         {
          "i": 123,
          "loss": 444.3746337890625
         },
         {
          "i": 124,
          "loss": 444.3701171875
         },
         {
          "i": 125,
          "loss": 444.36602783203125
         },
         {
          "i": 126,
          "loss": 444.36212158203125
         },
         {
          "i": 127,
          "loss": 444.3584289550781
         },
         {
          "i": 128,
          "loss": 444.3548889160156
         },
         {
          "i": 129,
          "loss": 444.3515319824219
         },
         {
          "i": 130,
          "loss": 444.34808349609375
         },
         {
          "i": 131,
          "loss": 444.3451232910156
         },
         {
          "i": 132,
          "loss": 444.34222412109375
         },
         {
          "i": 133,
          "loss": 444.3394470214844
         },
         {
          "i": 134,
          "loss": 444.3368225097656
         },
         {
          "i": 135,
          "loss": 444.33441162109375
         },
         {
          "i": 136,
          "loss": 444.3320617675781
         },
         {
          "i": 137,
          "loss": 444.32989501953125
         },
         {
          "i": 138,
          "loss": 444.3277587890625
         },
         {
          "i": 139,
          "loss": 444.3258056640625
         },
         {
          "i": 140,
          "loss": 444.3239440917969
         },
         {
          "i": 141,
          "loss": 444.3221740722656
         },
         {
          "i": 142,
          "loss": 444.32049560546875
         },
         {
          "i": 143,
          "loss": 444.3188781738281
         },
         {
          "i": 144,
          "loss": 444.3172607421875
         },
         {
          "i": 145,
          "loss": 444.3158264160156
         },
         {
          "i": 146,
          "loss": 444.3144836425781
         },
         {
          "i": 147,
          "loss": 444.31317138671875
         },
         {
          "i": 148,
          "loss": 444.3119201660156
         },
         {
          "i": 149,
          "loss": 444.3108215332031
         },
         {
          "i": 150,
          "loss": 444.3096618652344
         },
         {
          "i": 151,
          "loss": 444.3086853027344
         },
         {
          "i": 152,
          "loss": 444.3076171875
         },
         {
          "i": 153,
          "loss": 444.3067321777344
         },
         {
          "i": 154,
          "loss": 444.3058166503906
         },
         {
          "i": 155,
          "loss": 444.304931640625
         },
         {
          "i": 156,
          "loss": 444.3040771484375
         },
         {
          "i": 157,
          "loss": 444.30328369140625
         },
         {
          "i": 158,
          "loss": 444.3025817871094
         },
         {
          "i": 159,
          "loss": 444.3019104003906
         },
         {
          "i": 160,
          "loss": 444.30120849609375
         },
         {
          "i": 161,
          "loss": 444.30059814453125
         },
         {
          "i": 162,
          "loss": 444.3000793457031
         },
         {
          "i": 163,
          "loss": 444.29949951171875
         },
         {
          "i": 164,
          "loss": 444.2989501953125
         },
         {
          "i": 165,
          "loss": 444.2983703613281
         },
         {
          "i": 166,
          "loss": 444.2979431152344
         },
         {
          "i": 167,
          "loss": 444.2974548339844
         },
         {
          "i": 168,
          "loss": 444.2969665527344
         },
         {
          "i": 169,
          "loss": 444.29656982421875
         },
         {
          "i": 170,
          "loss": 444.296142578125
         },
         {
          "i": 171,
          "loss": 444.2958068847656
         },
         {
          "i": 172,
          "loss": 444.2953796386719
         },
         {
          "i": 173,
          "loss": 444.2951965332031
         },
         {
          "i": 174,
          "loss": 444.2947998046875
         },
         {
          "i": 175,
          "loss": 444.2944641113281
         },
         {
          "i": 176,
          "loss": 444.294189453125
         },
         {
          "i": 177,
          "loss": 444.2939758300781
         },
         {
          "i": 178,
          "loss": 444.29376220703125
         },
         {
          "i": 179,
          "loss": 444.2934875488281
         },
         {
          "i": 180,
          "loss": 444.2933349609375
         },
         {
          "i": 181,
          "loss": 444.2931213378906
         },
         {
          "i": 182,
          "loss": 444.2928466796875
         },
         {
          "i": 183,
          "loss": 444.29266357421875
         },
         {
          "i": 184,
          "loss": 444.2925109863281
         },
         {
          "i": 185,
          "loss": 444.29229736328125
         },
         {
          "i": 186,
          "loss": 444.2921142578125
         },
         {
          "i": 187,
          "loss": 444.2919006347656
         },
         {
          "i": 188,
          "loss": 444.2918395996094
         },
         {
          "i": 189,
          "loss": 444.29168701171875
         },
         {
          "i": 190,
          "loss": 444.29156494140625
         },
         {
          "i": 191,
          "loss": 444.29144287109375
         },
         {
          "i": 192,
          "loss": 444.291259765625
         },
         {
          "i": 193,
          "loss": 444.2911376953125
         },
         {
          "i": 194,
          "loss": 444.291015625
         },
         {
          "i": 195,
          "loss": 444.2908935546875
         },
         {
          "i": 196,
          "loss": 444.2908630371094
         },
         {
          "i": 197,
          "loss": 444.2907409667969
         },
         {
          "i": 198,
          "loss": 444.2906188964844
         },
         {
          "i": 199,
          "loss": 444.29058837890625
         },
         {
          "i": 200,
          "loss": 444.2904357910156
         },
         {
          "i": 201,
          "loss": 444.2904968261719
         },
         {
          "i": 202,
          "loss": 444.29034423828125
         },
         {
          "i": 203,
          "loss": 444.29034423828125
         },
         {
          "i": 204,
          "loss": 444.290283203125
         },
         {
          "i": 205,
          "loss": 444.2901916503906
         },
         {
          "i": 206,
          "loss": 444.2901916503906
         },
         {
          "i": 207,
          "loss": 444.2900390625
         },
         {
          "i": 208,
          "loss": 444.2900695800781
         },
         {
          "i": 209,
          "loss": 444.2900085449219
         },
         {
          "i": 210,
          "loss": 444.2900085449219
         },
         {
          "i": 211,
          "loss": 444.2899475097656
         },
         {
          "i": 212,
          "loss": 444.2899169921875
         },
         {
          "i": 213,
          "loss": 444.289794921875
         },
         {
          "i": 214,
          "loss": 444.289794921875
         },
         {
          "i": 215,
          "loss": 444.2896728515625
         },
         {
          "i": 216,
          "loss": 444.28973388671875
         },
         {
          "i": 217,
          "loss": 444.2896423339844
         },
         {
          "i": 218,
          "loss": 444.2896423339844
         },
         {
          "i": 219,
          "loss": 444.28961181640625
         },
         {
          "i": 220,
          "loss": 444.28961181640625
         },
         {
          "i": 221,
          "loss": 444.28961181640625
         },
         {
          "i": 222,
          "loss": 444.2895202636719
         },
         {
          "i": 223,
          "loss": 444.28948974609375
         },
         {
          "i": 224,
          "loss": 444.2895202636719
         },
         {
          "i": 225,
          "loss": 444.2894592285156
         },
         {
          "i": 226,
          "loss": 444.2895202636719
         },
         {
          "i": 227,
          "loss": 444.28948974609375
         },
         {
          "i": 228,
          "loss": 444.2894287109375
         },
         {
          "i": 229,
          "loss": 444.28936767578125
         },
         {
          "i": 230,
          "loss": 444.2894592285156
         },
         {
          "i": 231,
          "loss": 444.28936767578125
         },
         {
          "i": 232,
          "loss": 444.28924560546875
         },
         {
          "i": 233,
          "loss": 444.289306640625
         },
         {
          "i": 234,
          "loss": 444.289306640625
         },
         {
          "i": 235,
          "loss": 444.289306640625
         },
         {
          "i": 236,
          "loss": 444.289306640625
         },
         {
          "i": 237,
          "loss": 444.289306640625
         },
         {
          "i": 238,
          "loss": 444.289306640625
         },
         {
          "i": 239,
          "loss": 444.289306640625
         },
         {
          "i": 240,
          "loss": 444.2891845703125
         },
         {
          "i": 241,
          "loss": 444.2892150878906
         },
         {
          "i": 242,
          "loss": 444.2891845703125
         },
         {
          "i": 243,
          "loss": 444.2891845703125
         },
         {
          "i": 244,
          "loss": 444.2891845703125
         },
         {
          "i": 245,
          "loss": 444.2892150878906
         },
         {
          "i": 246,
          "loss": 444.2892150878906
         },
         {
          "i": 247,
          "loss": 444.2892150878906
         },
         {
          "i": 248,
          "loss": 444.2891845703125
         },
         {
          "i": 249,
          "loss": 444.2891845703125
         },
         {
          "i": 250,
          "loss": 444.2890930175781
         },
         {
          "i": 251,
          "loss": 444.2891845703125
         },
         {
          "i": 252,
          "loss": 444.2892150878906
         },
         {
          "i": 253,
          "loss": 444.2891845703125
         },
         {
          "i": 254,
          "loss": 444.2891540527344
         },
         {
          "i": 255,
          "loss": 444.2891540527344
         },
         {
          "i": 256,
          "loss": 444.2891845703125
         },
         {
          "i": 257,
          "loss": 444.2890930175781
         },
         {
          "i": 258,
          "loss": 444.2890930175781
         },
         {
          "i": 259,
          "loss": 444.2890930175781
         },
         {
          "i": 260,
          "loss": 444.2891845703125
         },
         {
          "i": 261,
          "loss": 444.2891540527344
         },
         {
          "i": 262,
          "loss": 444.2891540527344
         },
         {
          "i": 263,
          "loss": 444.2890930175781
         },
         {
          "i": 264,
          "loss": 444.2891845703125
         },
         {
          "i": 265,
          "loss": 444.2890930175781
         },
         {
          "i": 266,
          "loss": 444.2890625
         },
         {
          "i": 267,
          "loss": 444.2890625
         },
         {
          "i": 268,
          "loss": 444.2890625
         },
         {
          "i": 269,
          "loss": 444.2890930175781
         },
         {
          "i": 270,
          "loss": 444.2890930175781
         },
         {
          "i": 271,
          "loss": 444.2890930175781
         },
         {
          "i": 272,
          "loss": 444.2890930175781
         },
         {
          "i": 273,
          "loss": 444.2890319824219
         },
         {
          "i": 274,
          "loss": 444.2890625
         },
         {
          "i": 275,
          "loss": 444.2890319824219
         },
         {
          "i": 276,
          "loss": 444.2890625
         },
         {
          "i": 277,
          "loss": 444.2890625
         },
         {
          "i": 278,
          "loss": 444.2890625
         },
         {
          "i": 279,
          "loss": 444.2890625
         },
         {
          "i": 280,
          "loss": 444.2890625
         },
         {
          "i": 281,
          "loss": 444.2890625
         },
         {
          "i": 282,
          "loss": 444.2890625
         },
         {
          "i": 283,
          "loss": 444.2890319824219
         },
         {
          "i": 284,
          "loss": 444.2890625
         },
         {
          "i": 285,
          "loss": 444.2890625
         },
         {
          "i": 286,
          "loss": 444.2890930175781
         },
         {
          "i": 287,
          "loss": 444.2890930175781
         },
         {
          "i": 288,
          "loss": 444.2890625
         },
         {
          "i": 289,
          "loss": 444.2890930175781
         },
         {
          "i": 290,
          "loss": 444.2890625
         },
         {
          "i": 291,
          "loss": 444.2890930175781
         },
         {
          "i": 292,
          "loss": 444.2890625
         },
         {
          "i": 293,
          "loss": 444.2890625
         },
         {
          "i": 294,
          "loss": 444.2890625
         },
         {
          "i": 295,
          "loss": 444.2890625
         },
         {
          "i": 296,
          "loss": 444.2890625
         },
         {
          "i": 297,
          "loss": 444.2890625
         },
         {
          "i": 298,
          "loss": 444.2890625
         },
         {
          "i": 299,
          "loss": 444.2890625
         },
         {
          "i": 300,
          "loss": 444.2890625
         },
         {
          "i": 301,
          "loss": 444.2890625
         },
         {
          "i": 302,
          "loss": 444.2890625
         },
         {
          "i": 303,
          "loss": 444.2890930175781
         },
         {
          "i": 304,
          "loss": 444.2889709472656
         },
         {
          "i": 305,
          "loss": 444.2890625
         },
         {
          "i": 306,
          "loss": 444.2890625
         },
         {
          "i": 307,
          "loss": 444.2890319824219
         },
         {
          "i": 308,
          "loss": 444.2890625
         },
         {
          "i": 309,
          "loss": 444.2890319824219
         },
         {
          "i": 310,
          "loss": 444.2890319824219
         },
         {
          "i": 311,
          "loss": 444.2890319824219
         },
         {
          "i": 312,
          "loss": 444.2890625
         },
         {
          "i": 313,
          "loss": 444.2890319824219
         },
         {
          "i": 314,
          "loss": 444.2890319824219
         },
         {
          "i": 315,
          "loss": 444.2890319824219
         },
         {
          "i": 316,
          "loss": 444.2890319824219
         },
         {
          "i": 317,
          "loss": 444.2890319824219
         },
         {
          "i": 318,
          "loss": 444.2890625
         },
         {
          "i": 319,
          "loss": 444.2890319824219
         },
         {
          "i": 320,
          "loss": 444.2889709472656
         },
         {
          "i": 321,
          "loss": 444.2889709472656
         },
         {
          "i": 322,
          "loss": 444.2889709472656
         },
         {
          "i": 323,
          "loss": 444.2890625
         },
         {
          "i": 324,
          "loss": 444.2890625
         },
         {
          "i": 325,
          "loss": 444.2890625
         },
         {
          "i": 326,
          "loss": 444.2890625
         },
         {
          "i": 327,
          "loss": 444.2890625
         },
         {
          "i": 328,
          "loss": 444.2890625
         },
         {
          "i": 329,
          "loss": 444.2890625
         },
         {
          "i": 330,
          "loss": 444.2890625
         },
         {
          "i": 331,
          "loss": 444.2890319824219
         },
         {
          "i": 332,
          "loss": 444.2890625
         },
         {
          "i": 333,
          "loss": 444.2890625
         },
         {
          "i": 334,
          "loss": 444.2890319824219
         },
         {
          "i": 335,
          "loss": 444.2890319824219
         },
         {
          "i": 336,
          "loss": 444.2890319824219
         },
         {
          "i": 337,
          "loss": 444.2890319824219
         },
         {
          "i": 338,
          "loss": 444.2890625
         },
         {
          "i": 339,
          "loss": 444.2890625
         },
         {
          "i": 340,
          "loss": 444.2890625
         },
         {
          "i": 341,
          "loss": 444.2890625
         },
         {
          "i": 342,
          "loss": 444.2890625
         },
         {
          "i": 343,
          "loss": 444.2890625
         },
         {
          "i": 344,
          "loss": 444.2889709472656
         },
         {
          "i": 345,
          "loss": 444.2889709472656
         },
         {
          "i": 346,
          "loss": 444.2889709472656
         },
         {
          "i": 347,
          "loss": 444.2890319824219
         },
         {
          "i": 348,
          "loss": 444.2890625
         },
         {
          "i": 349,
          "loss": 444.2889709472656
         },
         {
          "i": 350,
          "loss": 444.2890319824219
         },
         {
          "i": 351,
          "loss": 444.2890625
         },
         {
          "i": 352,
          "loss": 444.2890319824219
         },
         {
          "i": 353,
          "loss": 444.2890319824219
         },
         {
          "i": 354,
          "loss": 444.2889709472656
         },
         {
          "i": 355,
          "loss": 444.2889709472656
         },
         {
          "i": 356,
          "loss": 444.2890319824219
         },
         {
          "i": 357,
          "loss": 444.2889709472656
         },
         {
          "i": 358,
          "loss": 444.2889709472656
         },
         {
          "i": 359,
          "loss": 444.2890319824219
         },
         {
          "i": 360,
          "loss": 444.2890319824219
         },
         {
          "i": 361,
          "loss": 444.2889709472656
         },
         {
          "i": 362,
          "loss": 444.2889709472656
         },
         {
          "i": 363,
          "loss": 444.2889709472656
         },
         {
          "i": 364,
          "loss": 444.2889709472656
         },
         {
          "i": 365,
          "loss": 444.2889709472656
         },
         {
          "i": 366,
          "loss": 444.2889709472656
         },
         {
          "i": 367,
          "loss": 444.2890319824219
         },
         {
          "i": 368,
          "loss": 444.2890319824219
         },
         {
          "i": 369,
          "loss": 444.2890319824219
         },
         {
          "i": 370,
          "loss": 444.2890625
         },
         {
          "i": 371,
          "loss": 444.2890625
         },
         {
          "i": 372,
          "loss": 444.2890319824219
         },
         {
          "i": 373,
          "loss": 444.2890625
         },
         {
          "i": 374,
          "loss": 444.2890625
         },
         {
          "i": 375,
          "loss": 444.2890319824219
         },
         {
          "i": 376,
          "loss": 444.2890625
         },
         {
          "i": 377,
          "loss": 444.2890625
         },
         {
          "i": 378,
          "loss": 444.2890930175781
         },
         {
          "i": 379,
          "loss": 444.2890625
         },
         {
          "i": 380,
          "loss": 444.2890319824219
         },
         {
          "i": 381,
          "loss": 444.2890930175781
         },
         {
          "i": 382,
          "loss": 444.2890625
         },
         {
          "i": 383,
          "loss": 444.2890319824219
         },
         {
          "i": 384,
          "loss": 444.2890319824219
         },
         {
          "i": 385,
          "loss": 444.2890319824219
         },
         {
          "i": 386,
          "loss": 444.2890319824219
         },
         {
          "i": 387,
          "loss": 444.2890319824219
         },
         {
          "i": 388,
          "loss": 444.2890319824219
         },
         {
          "i": 389,
          "loss": 444.2890319824219
         },
         {
          "i": 390,
          "loss": 444.2890319824219
         },
         {
          "i": 391,
          "loss": 444.2890319824219
         },
         {
          "i": 392,
          "loss": 444.2890319824219
         },
         {
          "i": 393,
          "loss": 444.2890319824219
         },
         {
          "i": 394,
          "loss": 444.2890319824219
         },
         {
          "i": 395,
          "loss": 444.2890319824219
         },
         {
          "i": 396,
          "loss": 444.2889709472656
         },
         {
          "i": 397,
          "loss": 444.2890319824219
         },
         {
          "i": 398,
          "loss": 444.2890319824219
         },
         {
          "i": 399,
          "loss": 444.2890319824219
         },
         {
          "i": 400,
          "loss": 444.2890319824219
         },
         {
          "i": 401,
          "loss": 444.2890319824219
         },
         {
          "i": 402,
          "loss": 444.2890625
         },
         {
          "i": 403,
          "loss": 444.2890625
         },
         {
          "i": 404,
          "loss": 444.2890625
         },
         {
          "i": 405,
          "loss": 444.2890625
         },
         {
          "i": 406,
          "loss": 444.2890625
         },
         {
          "i": 407,
          "loss": 444.2890319824219
         },
         {
          "i": 408,
          "loss": 444.2890625
         },
         {
          "i": 409,
          "loss": 444.2890319824219
         },
         {
          "i": 410,
          "loss": 444.2890319824219
         },
         {
          "i": 411,
          "loss": 444.2890319824219
         },
         {
          "i": 412,
          "loss": 444.2890319824219
         },
         {
          "i": 413,
          "loss": 444.2890319824219
         },
         {
          "i": 414,
          "loss": 444.2890625
         },
         {
          "i": 415,
          "loss": 444.2890319824219
         },
         {
          "i": 416,
          "loss": 444.2890319824219
         },
         {
          "i": 417,
          "loss": 444.2890319824219
         },
         {
          "i": 418,
          "loss": 444.2890319824219
         },
         {
          "i": 419,
          "loss": 444.2890319824219
         },
         {
          "i": 420,
          "loss": 444.2890319824219
         },
         {
          "i": 421,
          "loss": 444.2890319824219
         },
         {
          "i": 422,
          "loss": 444.2890319824219
         },
         {
          "i": 423,
          "loss": 444.2890319824219
         },
         {
          "i": 424,
          "loss": 444.2890319824219
         },
         {
          "i": 425,
          "loss": 444.2890319824219
         },
         {
          "i": 426,
          "loss": 444.2890319824219
         },
         {
          "i": 427,
          "loss": 444.2890625
         },
         {
          "i": 428,
          "loss": 444.2890319824219
         },
         {
          "i": 429,
          "loss": 444.2890319824219
         },
         {
          "i": 430,
          "loss": 444.2890625
         },
         {
          "i": 431,
          "loss": 444.2890625
         },
         {
          "i": 432,
          "loss": 444.2890625
         },
         {
          "i": 433,
          "loss": 444.2890319824219
         },
         {
          "i": 434,
          "loss": 444.2890319824219
         },
         {
          "i": 435,
          "loss": 444.2890625
         },
         {
          "i": 436,
          "loss": 444.2890625
         },
         {
          "i": 437,
          "loss": 444.2890625
         },
         {
          "i": 438,
          "loss": 444.2890625
         },
         {
          "i": 439,
          "loss": 444.2890625
         },
         {
          "i": 440,
          "loss": 444.2890625
         },
         {
          "i": 441,
          "loss": 444.2890625
         },
         {
          "i": 442,
          "loss": 444.2890625
         },
         {
          "i": 443,
          "loss": 444.2890319824219
         },
         {
          "i": 444,
          "loss": 444.2890319824219
         },
         {
          "i": 445,
          "loss": 444.2890319824219
         },
         {
          "i": 446,
          "loss": 444.2890625
         },
         {
          "i": 447,
          "loss": 444.2890625
         },
         {
          "i": 448,
          "loss": 444.2890319824219
         },
         {
          "i": 449,
          "loss": 444.2890319824219
         },
         {
          "i": 450,
          "loss": 444.2890625
         },
         {
          "i": 451,
          "loss": 444.2890625
         },
         {
          "i": 452,
          "loss": 444.2890625
         },
         {
          "i": 453,
          "loss": 444.2890625
         },
         {
          "i": 454,
          "loss": 444.2890625
         },
         {
          "i": 455,
          "loss": 444.2890625
         },
         {
          "i": 456,
          "loss": 444.2890319824219
         },
         {
          "i": 457,
          "loss": 444.2890625
         },
         {
          "i": 458,
          "loss": 444.2890319824219
         },
         {
          "i": 459,
          "loss": 444.2890625
         },
         {
          "i": 460,
          "loss": 444.2890319824219
         },
         {
          "i": 461,
          "loss": 444.2890319824219
         },
         {
          "i": 462,
          "loss": 444.2890319824219
         },
         {
          "i": 463,
          "loss": 444.2890319824219
         },
         {
          "i": 464,
          "loss": 444.2890319824219
         },
         {
          "i": 465,
          "loss": 444.2890319824219
         },
         {
          "i": 466,
          "loss": 444.2890625
         },
         {
          "i": 467,
          "loss": 444.2890319824219
         },
         {
          "i": 468,
          "loss": 444.2890625
         },
         {
          "i": 469,
          "loss": 444.2890625
         },
         {
          "i": 470,
          "loss": 444.2890625
         },
         {
          "i": 471,
          "loss": 444.2890625
         },
         {
          "i": 472,
          "loss": 444.2890625
         },
         {
          "i": 473,
          "loss": 444.2890625
         },
         {
          "i": 474,
          "loss": 444.2890625
         },
         {
          "i": 475,
          "loss": 444.2890625
         },
         {
          "i": 476,
          "loss": 444.2890625
         },
         {
          "i": 477,
          "loss": 444.2890625
         },
         {
          "i": 478,
          "loss": 444.2890625
         },
         {
          "i": 479,
          "loss": 444.2890625
         },
         {
          "i": 480,
          "loss": 444.2890625
         },
         {
          "i": 481,
          "loss": 444.2890625
         },
         {
          "i": 482,
          "loss": 444.2890625
         },
         {
          "i": 483,
          "loss": 444.2890625
         },
         {
          "i": 484,
          "loss": 444.2890625
         },
         {
          "i": 485,
          "loss": 444.2890319824219
         },
         {
          "i": 486,
          "loss": 444.2890625
         },
         {
          "i": 487,
          "loss": 444.2890625
         },
         {
          "i": 488,
          "loss": 444.2890625
         },
         {
          "i": 489,
          "loss": 444.2890625
         },
         {
          "i": 490,
          "loss": 444.2890625
         },
         {
          "i": 491,
          "loss": 444.2890625
         },
         {
          "i": 492,
          "loss": 444.2890625
         },
         {
          "i": 493,
          "loss": 444.2890625
         },
         {
          "i": 494,
          "loss": 444.2890625
         },
         {
          "i": 495,
          "loss": 444.2890625
         },
         {
          "i": 496,
          "loss": 444.2890625
         },
         {
          "i": 497,
          "loss": 444.2890625
         },
         {
          "i": 498,
          "loss": 444.2890625
         },
         {
          "i": 499,
          "loss": 444.2890625
         }
        ]
       },
       "encoding": {
        "x": {
         "field": "i",
         "type": "quantitative"
        },
        "y": {
         "field": "loss",
         "type": "quantitative"
        }
       },
       "mark": "line"
      },
      "image/png": "[encoded data removed]",
      "text/plain": [
       "<VegaLite 3 object>\n",
       "\n",
       "If you see this message, it means the renderer has not been properly enabled\n",
       "for the frontend that you are using. For more information, see\n",
       "https://altair-viz.github.io/user_guide/troubleshooting.html\n"
      ]
     },
     "execution_count": 386,
     "metadata": {},
     "output_type": "execute_result"
    }
   ],
   "source": [
    "loss_df = pd.DataFrame({'i':range(500), 'loss':loss_record})\n",
    "alt.Chart(loss_df).mark_line().encode(x='i', y='loss')"
   ]
  },
  {
   "cell_type": "markdown",
   "metadata": {},
   "source": [
    "And when we plot the model predictions against reality we see how bad it is:"
   ]
  },
  {
   "cell_type": "code",
   "execution_count": 387,
   "metadata": {},
   "outputs": [
    {
     "data": {
      "application/vnd.vegalite.v3+json": {
       "$schema": "https://vega.github.io/schema/vega-lite/v3.4.0.json",
       "config": {
        "mark": {
         "tooltip": null
        },
        "view": {
         "height": 300,
         "width": 400
        }
       },
       "data": {
        "name": "data-171e5bf73b8b2bd4d7d0921ea735f6be"
       },
       "datasets": {
        "data-171e5bf73b8b2bd4d7d0921ea735f6be": [
         {
          "x1": -1.4377211332321167,
          "y": 2.067042112350464,
          "ŷ": -0.03795745223760605
         },
         {
          "x1": -1.253203272819519,
          "y": 1.5705184936523438,
          "ŷ": -0.03308597207069397
         },
         {
          "x1": 1.343112826347351,
          "y": 1.8039520978927612,
          "ŷ": 0.03545968607068062
         },
         {
          "x1": -1.2483934164047241,
          "y": 1.5584861040115356,
          "ŷ": -0.0329589881002903
         },
         {
          "x1": -0.44212648272514343,
          "y": 0.19547583162784576,
          "ŷ": -0.011672635562717915
         },
         {
          "x1": 2.529345989227295,
          "y": 6.3975911140441895,
          "ŷ": 0.06677757203578949
         },
         {
          "x1": 0.2209865152835846,
          "y": 0.048835039138793945,
          "ŷ": 0.005834292154759169
         },
         {
          "x1": 0.8171800374984741,
          "y": 0.6677832007408142,
          "ŷ": 0.0215744711458683
         },
         {
          "x1": 0.6570907235145569,
          "y": 0.4317682087421417,
          "ŷ": 0.01734793372452259
         },
         {
          "x1": -0.26289260387420654,
          "y": 0.06911252439022064,
          "ŷ": -0.0069406600669026375
         },
         {
          "x1": 1.6829944849014282,
          "y": 2.832470417022705,
          "ŷ": 0.04443294554948807
         },
         {
          "x1": 1.646002173423767,
          "y": 2.7093231678009033,
          "ŷ": 0.0434563048183918
         },
         {
          "x1": -0.48206350207328796,
          "y": 0.23238521814346313,
          "ŷ": -0.012727017514407635
         },
         {
          "x1": -0.028869688510894775,
          "y": 0.0008334589074365795,
          "ŷ": -0.0007621921831741929
         },
         {
          "x1": 0.6695125102996826,
          "y": 0.4482470154762268,
          "ŷ": 0.01767588220536709
         },
         {
          "x1": -0.6368265748023987,
          "y": 0.405548095703125,
          "ŷ": -0.016812937334179878
         },
         {
          "x1": 0.42480921745300293,
          "y": 0.18046286702156067,
          "ŷ": 0.01121543999761343
         },
         {
          "x1": -0.6002581119537354,
          "y": 0.36030980944633484,
          "ŷ": -0.01584748737514019
         },
         {
          "x1": 2.105926275253296,
          "y": 4.434925556182861,
          "ŷ": 0.05559881776571274
         },
         {
          "x1": 0.8450913429260254,
          "y": 0.7141793966293335,
          "ŷ": 0.022311359643936157
         },
         {
          "x1": 1.1324305534362793,
          "y": 1.2823989391326904,
          "ŷ": 0.02989743836224079
         },
         {
          "x1": 0.4879966974258423,
          "y": 0.2381407767534256,
          "ŷ": 0.01288366038352251
         },
         {
          "x1": 1.2984154224395752,
          "y": 1.685882568359375,
          "ŷ": 0.03427962586283684
         },
         {
          "x1": 1.505493402481079,
          "y": 2.266510486602783,
          "ŷ": 0.0397467166185379
         },
         {
          "x1": -0.14827074110507965,
          "y": 0.02198421210050583,
          "ŷ": -0.0039145140908658504
         },
         {
          "x1": 0.5195462703704834,
          "y": 0.26992833614349365,
          "ŷ": 0.013716604560613632
         },
         {
          "x1": -1.4314666986465454,
          "y": 2.0490968227386475,
          "ŷ": -0.037792328745126724
         },
         {
          "x1": 0.003959351684898138,
          "y": 1.56764654093422e-05,
          "ŷ": 0.0001045313329086639
         },
         {
          "x1": -0.8407121300697327,
          "y": 0.7067968845367432,
          "ŷ": -0.02219574525952339
         },
         {
          "x1": 0.23186373710632324,
          "y": 0.053760793060064316,
          "ŷ": 0.006121463142335415
         },
         {
          "x1": 0.6620215177536011,
          "y": 0.43827247619628906,
          "ŷ": 0.017478112131357193
         },
         {
          "x1": -0.4489328861236572,
          "y": 0.2015407383441925,
          "ŷ": -0.011852332390844822
         },
         {
          "x1": 0.0670425295829773,
          "y": 0.004494700580835342,
          "ŷ": 0.0017699981108307838
         },
         {
          "x1": 0.5076525211334229,
          "y": 0.2577110826969147,
          "ŷ": 0.013402597047388554
         },
         {
          "x1": 1.6500990390777588,
          "y": 2.7228269577026367,
          "ŷ": 0.04356446862220764
         },
         {
          "x1": 1.6451269388198853,
          "y": 2.7064425945281982,
          "ŷ": 0.04343320056796074
         },
         {
          "x1": 0.5877599716186523,
          "y": 0.34546178579330444,
          "ŷ": 0.015517523512244225
         },
         {
          "x1": -0.15154506266117096,
          "y": 0.02296590618789196,
          "ŷ": -0.0040009599179029465
         },
         {
          "x1": 0.6504806876182556,
          "y": 0.42312511801719666,
          "ŷ": 0.017173420637845993
         },
         {
          "x1": -1.1460309028625488,
          "y": 1.3133867979049683,
          "ŷ": -0.030256502330303192
         },
         {
          "x1": 0.15962260961532593,
          "y": 0.025479378178715706,
          "ŷ": 0.004214216023683548
         },
         {
          "x1": -1.7117959260940552,
          "y": 2.9302453994750977,
          "ŷ": -0.04519333317875862
         },
         {
          "x1": -0.926445484161377,
          "y": 0.8583012223243713,
          "ŷ": -0.024459201842546463
         },
         {
          "x1": -0.6525543928146362,
          "y": 0.4258272349834442,
          "ŷ": -0.01722816936671734
         },
         {
          "x1": 0.403594434261322,
          "y": 0.16288846731185913,
          "ŷ": 0.01065534632652998
         },
         {
          "x1": 1.0227789878845215,
          "y": 1.0460768938064575,
          "ŷ": 0.02700251340866089
         },
         {
          "x1": -2.6676061153411865,
          "y": 7.116122245788574,
          "ŷ": -0.0704277977347374
         },
         {
          "x1": -0.379452645778656,
          "y": 0.14398431777954102,
          "ŷ": -0.01001797616481781
         },
         {
          "x1": -1.3153127431869507,
          "y": 1.730047583580017,
          "ŷ": -0.03472573310136795
         },
         {
          "x1": 0.1079200878739357,
          "y": 0.011646745726466179,
          "ŷ": 0.002849211450666189
         },
         {
          "x1": -0.08987772464752197,
          "y": 0.008078005164861679,
          "ŷ": -0.002372872782871127
         },
         {
          "x1": -1.5516339540481567,
          "y": 2.4075679779052734,
          "ŷ": -0.04096487909555435
         },
         {
          "x1": 1.550310492515564,
          "y": 2.4034626483917236,
          "ŷ": 0.04092993959784508
         },
         {
          "x1": 0.27458831667900085,
          "y": 0.07539874315261841,
          "ŷ": 0.007249440066516399
         },
         {
          "x1": -0.9538122415542603,
          "y": 0.9097577929496765,
          "ŷ": -0.025181714445352554
         },
         {
          "x1": -0.062944196164608,
          "y": 0.003961971960961819,
          "ŷ": -0.0016617975197732449
         },
         {
          "x1": -2.1286373138427734,
          "y": 4.531096935272217,
          "ŷ": -0.05619841441512108
         },
         {
          "x1": -0.37379857897758484,
          "y": 0.13972537219524384,
          "ŷ": -0.009868701919913292
         },
         {
          "x1": 2.1506545543670654,
          "y": 4.625315189361572,
          "ŷ": 0.05677969381213188
         },
         {
          "x1": 0.8079510927200317,
          "y": 0.6527849435806274,
          "ŷ": 0.02133081667125225
         },
         {
          "x1": 0.44094303250312805,
          "y": 0.19443075358867645,
          "ŷ": 0.011641391552984715
         },
         {
          "x1": -1.556755781173706,
          "y": 2.4234886169433594,
          "ŷ": -0.04110009968280792
         },
         {
          "x1": -0.7425331473350525,
          "y": 0.5513554811477661,
          "ŷ": -0.019603708758950233
         },
         {
          "x1": 0.8750039339065552,
          "y": 0.765631914138794,
          "ŷ": 0.023101085796952248
         },
         {
          "x1": 0.3356788754463196,
          "y": 0.11268030852079391,
          "ŷ": 0.008862298913300037
         },
         {
          "x1": -2.0898256301879883,
          "y": 4.367371082305908,
          "ŷ": -0.05517374351620674
         },
         {
          "x1": 0.33965957164764404,
          "y": 0.11536862701177597,
          "ŷ": 0.008967394009232521
         },
         {
          "x1": 0.7695735692977905,
          "y": 0.592243492603302,
          "ŷ": 0.02031760662794113
         },
         {
          "x1": -0.48080140352249146,
          "y": 0.23116998374462128,
          "ŷ": -0.012693696655333042
         },
         {
          "x1": -0.15480369329452515,
          "y": 0.023964183405041695,
          "ŷ": -0.004086991306394339
         },
         {
          "x1": -0.945270836353302,
          "y": 0.8935369253158569,
          "ŷ": -0.02495621144771576
         },
         {
          "x1": 0.4200892746448517,
          "y": 0.17647500336170197,
          "ŷ": 0.011090829037129879
         },
         {
          "x1": 0.46601223945617676,
          "y": 0.21716740727424622,
          "ŷ": 0.012303246185183525
         },
         {
          "x1": 1.442052960395813,
          "y": 2.079516649246216,
          "ŷ": 0.03807181864976883
         },
         {
          "x1": -0.07396895438432693,
          "y": 0.005471406038850546,
          "ŷ": -0.0019528634147718549
         },
         {
          "x1": 0.8891776204109192,
          "y": 0.7906368374824524,
          "ŷ": 0.02347528748214245
         },
         {
          "x1": 0.4962422549724579,
          "y": 0.24625638127326965,
          "ŷ": 0.013101352378726006
         },
         {
          "x1": 0.6505319476127625,
          "y": 0.4231918156147003,
          "ŷ": 0.017174774780869484
         },
         {
          "x1": 0.8581146001815796,
          "y": 0.7363606691360474,
          "ŷ": 0.022655189037322998
         },
         {
          "x1": -2.151831865310669,
          "y": 4.630380153656006,
          "ŷ": -0.05681077763438225
         },
         {
          "x1": -1.28677499294281,
          "y": 1.655789852142334,
          "ŷ": -0.033972304314374924
         },
         {
          "x1": -0.1454513520002365,
          "y": 0.02115609496831894,
          "ŷ": -0.003840079065412283
         },
         {
          "x1": -1.5961525440216064,
          "y": 2.5477030277252197,
          "ŷ": -0.04214021936058998
         },
         {
          "x1": -2.3506381511688232,
          "y": 5.5254998207092285,
          "ŷ": -0.06205948814749718
         },
         {
          "x1": 1.232187032699585,
          "y": 1.5182849168777466,
          "ŷ": 0.032531119883060455
         },
         {
          "x1": -1.1282997131347656,
          "y": 1.2730602025985718,
          "ŷ": -0.02978837862610817
         },
         {
          "x1": -0.6888222694396973,
          "y": 0.4744761288166046,
          "ŷ": -0.018185680732131004
         },
         {
          "x1": -1.373834252357483,
          "y": 1.8874205350875854,
          "ŷ": -0.03627076745033264
         },
         {
          "x1": 1.5462002754211426,
          "y": 2.390735387802124,
          "ŷ": 0.04082142189145088
         },
         {
          "x1": -0.17518456280231476,
          "y": 0.030689630657434464,
          "ŷ": -0.004625068977475166
         },
         {
          "x1": -2.4323787689208984,
          "y": 5.91646671295166,
          "ŷ": -0.06421753019094467
         },
         {
          "x1": 0.1552698165178299,
          "y": 0.02410871535539627,
          "ŷ": 0.00409929733723402
         },
         {
          "x1": 0.1719130277633667,
          "y": 0.029554089531302452,
          "ŷ": 0.004538697190582752
         },
         {
          "x1": -0.9297853112220764,
          "y": 0.8645007014274597,
          "ŷ": -0.024547375738620758
         },
         {
          "x1": 2.4760234355926514,
          "y": 6.130692005157471,
          "ŷ": 0.06536979973316193
         },
         {
          "x1": 0.9376041293144226,
          "y": 0.8791015148162842,
          "ŷ": 0.02475380152463913
         },
         {
          "x1": 2.163609504699707,
          "y": 4.681206226348877,
          "ŷ": 0.05712172016501427
         },
         {
          "x1": -0.3250857889652252,
          "y": 0.10568077117204666,
          "ŷ": -0.008582630194723606
         },
         {
          "x1": -0.5134274959564209,
          "y": 0.26360780000686646,
          "ŷ": -0.013555062934756279
         },
         {
          "x1": 0.1198006123304367,
          "y": 0.01435218658298254,
          "ŷ": 0.0031628706492483616
         }
        ]
       },
       "layer": [
        {
         "encoding": {
          "x": {
           "field": "x1",
           "type": "quantitative"
          },
          "y": {
           "field": "ŷ",
           "type": "quantitative"
          }
         },
         "mark": "line"
        },
        {
         "encoding": {
          "x": {
           "field": "x1",
           "type": "quantitative"
          },
          "y": {
           "field": "y",
           "type": "quantitative"
          }
         },
         "mark": "point"
        }
       ]
      },
      "image/png": "[encoded data removed]",
      "text/plain": [
       "<VegaLite 3 object>\n",
       "\n",
       "If you see this message, it means the renderer has not been properly enabled\n",
       "for the frontend that you are using. For more information, see\n",
       "https://altair-viz.github.io/user_guide/troubleshooting.html\n"
      ]
     },
     "execution_count": 387,
     "metadata": {},
     "output_type": "execute_result"
    }
   ],
   "source": [
    "preds = pd.DataFrame({'ŷ':ŷ.detach().numpy()[:,0], 'y':y, 'x1':x[:,0]})\n",
    "(alt.Chart(preds).mark_line().encode(x='x1', y='ŷ') + \n",
    "alt.Chart(preds).mark_point().encode(x='x1', y='y'))"
   ]
  },
  {
   "cell_type": "markdown",
   "metadata": {},
   "source": [
    "However, we can introduce a hidden layer (of size 10):"
   ]
  },
  {
   "cell_type": "code",
   "execution_count": 401,
   "metadata": {},
   "outputs": [],
   "source": [
    "h = 10\n",
    "W = torch.randn(p, h).requires_grad_()\n",
    "α = torch.randn(h, 1).requires_grad_()\n",
    "loss_record = []\n",
    "\n",
    "for e in range(500):\n",
    "    z = g(torch.matmul(x,W))\n",
    "    ŷ = torch.matmul(z,α)\n",
    "    L = torch.sum((y-ŷ)**2)/n # L = Σ(yᵢ-ŷᵢ)² (use predictions to calculate loss)\n",
    "    \n",
    "    L.backward() # compute gradients (in this case δL/δα, δL/δW)\n",
    "    loss_record.append(L.item())\n",
    "    \n",
    "    with torch.no_grad(): # take the gradient descent step \n",
    "        α -= 10e-5 * α.grad\n",
    "        α.grad.zero_()\n",
    "        W -= 10e-5 * W.grad\n",
    "        W.grad.zero_()"
   ]
  },
  {
   "cell_type": "code",
   "execution_count": 402,
   "metadata": {},
   "outputs": [
    {
     "data": {
      "application/vnd.vegalite.v3+json": {
       "$schema": "https://vega.github.io/schema/vega-lite/v3.4.0.json",
       "config": {
        "mark": {
         "tooltip": null
        },
        "view": {
         "height": 300,
         "width": 400
        }
       },
       "data": {
        "name": "data-6215aef0366b0e50b4f51a8a83b71cfc"
       },
       "datasets": {
        "data-6215aef0366b0e50b4f51a8a83b71cfc": [
         {
          "i": 0,
          "loss": 1002.2390747070312
         },
         {
          "i": 1,
          "loss": 825.0429077148438
         },
         {
          "i": 2,
          "loss": 693.1422729492188
         },
         {
          "i": 3,
          "loss": 593.141845703125
         },
         {
          "i": 4,
          "loss": 516.25048828125
         },
         {
          "i": 5,
          "loss": 456.4766845703125
         },
         {
          "i": 6,
          "loss": 409.60626220703125
         },
         {
          "i": 7,
          "loss": 372.598876953125
         },
         {
          "i": 8,
          "loss": 343.2129821777344
         },
         {
          "i": 9,
          "loss": 319.7675476074219
         },
         {
          "i": 10,
          "loss": 300.9839172363281
         },
         {
          "i": 11,
          "loss": 285.8788146972656
         },
         {
          "i": 12,
          "loss": 273.6889953613281
         },
         {
          "i": 13,
          "loss": 263.8176574707031
         },
         {
          "i": 14,
          "loss": 255.79598999023438
         },
         {
          "i": 15,
          "loss": 249.25357055664062
         },
         {
          "i": 16,
          "loss": 243.8970184326172
         },
         {
          "i": 17,
          "loss": 239.49334716796875
         },
         {
          "i": 18,
          "loss": 235.85675048828125
         },
         {
          "i": 19,
          "loss": 232.83944702148438
         },
         {
          "i": 20,
          "loss": 230.32296752929688
         },
         {
          "i": 21,
          "loss": 228.21287536621094
         },
         {
          "i": 22,
          "loss": 226.43341064453125
         },
         {
          "i": 23,
          "loss": 224.92373657226562
         },
         {
          "i": 24,
          "loss": 223.63511657714844
         },
         {
          "i": 25,
          "loss": 222.5282440185547
         },
         {
          "i": 26,
          "loss": 221.5714111328125
         },
         {
          "i": 27,
          "loss": 220.73927307128906
         },
         {
          "i": 28,
          "loss": 220.01095581054688
         },
         {
          "i": 29,
          "loss": 219.36996459960938
         },
         {
          "i": 30,
          "loss": 218.8025360107422
         },
         {
          "i": 31,
          "loss": 218.29750061035156
         },
         {
          "i": 32,
          "loss": 217.84585571289062
         },
         {
          "i": 33,
          "loss": 217.44007873535156
         },
         {
          "i": 34,
          "loss": 217.0740203857422
         },
         {
          "i": 35,
          "loss": 216.74252319335938
         },
         {
          "i": 36,
          "loss": 216.44131469726562
         },
         {
          "i": 37,
          "loss": 216.16671752929688
         },
         {
          "i": 38,
          "loss": 215.9158172607422
         },
         {
          "i": 39,
          "loss": 215.6859893798828
         },
         {
          "i": 40,
          "loss": 215.47503662109375
         },
         {
          "i": 41,
          "loss": 215.28106689453125
         },
         {
          "i": 42,
          "loss": 215.1024932861328
         },
         {
          "i": 43,
          "loss": 214.9377899169922
         },
         {
          "i": 44,
          "loss": 214.78570556640625
         },
         {
          "i": 45,
          "loss": 214.64517211914062
         },
         {
          "i": 46,
          "loss": 214.5152587890625
         },
         {
          "i": 47,
          "loss": 214.39501953125
         },
         {
          "i": 48,
          "loss": 214.2836456298828
         },
         {
          "i": 49,
          "loss": 214.18051147460938
         },
         {
          "i": 50,
          "loss": 214.0848846435547
         },
         {
          "i": 51,
          "loss": 213.9962158203125
         },
         {
          "i": 52,
          "loss": 213.9139404296875
         },
         {
          "i": 53,
          "loss": 213.83767700195312
         },
         {
          "i": 54,
          "loss": 213.76690673828125
         },
         {
          "i": 55,
          "loss": 213.70123291015625
         },
         {
          "i": 56,
          "loss": 213.64027404785156
         },
         {
          "i": 57,
          "loss": 213.5837860107422
         },
         {
          "i": 58,
          "loss": 213.5312957763672
         },
         {
          "i": 59,
          "loss": 213.48257446289062
         },
         {
          "i": 60,
          "loss": 213.43734741210938
         },
         {
          "i": 61,
          "loss": 213.3953857421875
         },
         {
          "i": 62,
          "loss": 213.3563995361328
         },
         {
          "i": 63,
          "loss": 213.3202362060547
         },
         {
          "i": 64,
          "loss": 213.28663635253906
         },
         {
          "i": 65,
          "loss": 213.25555419921875
         },
         {
          "i": 66,
          "loss": 213.2266082763672
         },
         {
          "i": 67,
          "loss": 213.19976806640625
         },
         {
          "i": 68,
          "loss": 213.17486572265625
         },
         {
          "i": 69,
          "loss": 213.1517791748047
         },
         {
          "i": 70,
          "loss": 213.1303253173828
         },
         {
          "i": 71,
          "loss": 213.11041259765625
         },
         {
          "i": 72,
          "loss": 213.09193420410156
         },
         {
          "i": 73,
          "loss": 213.0747833251953
         },
         {
          "i": 74,
          "loss": 213.0588836669922
         },
         {
          "i": 75,
          "loss": 213.0441436767578
         },
         {
          "i": 76,
          "loss": 213.03042602539062
         },
         {
          "i": 77,
          "loss": 213.01776123046875
         },
         {
          "i": 78,
          "loss": 213.0059814453125
         },
         {
          "i": 79,
          "loss": 212.99502563476562
         },
         {
          "i": 80,
          "loss": 212.98486328125
         },
         {
          "i": 81,
          "loss": 212.97549438476562
         },
         {
          "i": 82,
          "loss": 212.96678161621094
         },
         {
          "i": 83,
          "loss": 212.95870971679688
         },
         {
          "i": 84,
          "loss": 212.95118713378906
         },
         {
          "i": 85,
          "loss": 212.94419860839844
         },
         {
          "i": 86,
          "loss": 212.93772888183594
         },
         {
          "i": 87,
          "loss": 212.93177795410156
         },
         {
          "i": 88,
          "loss": 212.92620849609375
         },
         {
          "i": 89,
          "loss": 212.92108154296875
         },
         {
          "i": 90,
          "loss": 212.91629028320312
         },
         {
          "i": 91,
          "loss": 212.91188049316406
         },
         {
          "i": 92,
          "loss": 212.90777587890625
         },
         {
          "i": 93,
          "loss": 212.90394592285156
         },
         {
          "i": 94,
          "loss": 212.9004364013672
         },
         {
          "i": 95,
          "loss": 212.8971710205078
         },
         {
          "i": 96,
          "loss": 212.89413452148438
         },
         {
          "i": 97,
          "loss": 212.89132690429688
         },
         {
          "i": 98,
          "loss": 212.88873291015625
         },
         {
          "i": 99,
          "loss": 212.88632202148438
         },
         {
          "i": 100,
          "loss": 212.88406372070312
         },
         {
          "i": 101,
          "loss": 212.88198852539062
         },
         {
          "i": 102,
          "loss": 212.88011169433594
         },
         {
          "i": 103,
          "loss": 212.87832641601562
         },
         {
          "i": 104,
          "loss": 212.8766632080078
         },
         {
          "i": 105,
          "loss": 212.8751220703125
         },
         {
          "i": 106,
          "loss": 212.87368774414062
         },
         {
          "i": 107,
          "loss": 212.8723602294922
         },
         {
          "i": 108,
          "loss": 212.87115478515625
         },
         {
          "i": 109,
          "loss": 212.8699951171875
         },
         {
          "i": 110,
          "loss": 212.86895751953125
         },
         {
          "i": 111,
          "loss": 212.8679656982422
         },
         {
          "i": 112,
          "loss": 212.8670654296875
         },
         {
          "i": 113,
          "loss": 212.8662567138672
         },
         {
          "i": 114,
          "loss": 212.86546325683594
         },
         {
          "i": 115,
          "loss": 212.86473083496094
         },
         {
          "i": 116,
          "loss": 212.86404418945312
         },
         {
          "i": 117,
          "loss": 212.86346435546875
         },
         {
          "i": 118,
          "loss": 212.8628692626953
         },
         {
          "i": 119,
          "loss": 212.86231994628906
         },
         {
          "i": 120,
          "loss": 212.86183166503906
         },
         {
          "i": 121,
          "loss": 212.8614044189453
         },
         {
          "i": 122,
          "loss": 212.86097717285156
         },
         {
          "i": 123,
          "loss": 212.86061096191406
         },
         {
          "i": 124,
          "loss": 212.86026000976562
         },
         {
          "i": 125,
          "loss": 212.85992431640625
         },
         {
          "i": 126,
          "loss": 212.8595733642578
         },
         {
          "i": 127,
          "loss": 212.85931396484375
         },
         {
          "i": 128,
          "loss": 212.85902404785156
         },
         {
          "i": 129,
          "loss": 212.85879516601562
         },
         {
          "i": 130,
          "loss": 212.8585205078125
         },
         {
          "i": 131,
          "loss": 212.85830688476562
         },
         {
          "i": 132,
          "loss": 212.8581085205078
         },
         {
          "i": 133,
          "loss": 212.85792541503906
         },
         {
          "i": 134,
          "loss": 212.85775756835938
         },
         {
          "i": 135,
          "loss": 212.85755920410156
         },
         {
          "i": 136,
          "loss": 212.8574676513672
         },
         {
          "i": 137,
          "loss": 212.85733032226562
         },
         {
          "i": 138,
          "loss": 212.85719299316406
         },
         {
          "i": 139,
          "loss": 212.85711669921875
         },
         {
          "i": 140,
          "loss": 212.85699462890625
         },
         {
          "i": 141,
          "loss": 212.8568878173828
         },
         {
          "i": 142,
          "loss": 212.85678100585938
         },
         {
          "i": 143,
          "loss": 212.85670471191406
         },
         {
          "i": 144,
          "loss": 212.85665893554688
         },
         {
          "i": 145,
          "loss": 212.85653686523438
         },
         {
          "i": 146,
          "loss": 212.8564910888672
         },
         {
          "i": 147,
          "loss": 212.8563995361328
         },
         {
          "i": 148,
          "loss": 212.85630798339844
         },
         {
          "i": 149,
          "loss": 212.85626220703125
         },
         {
          "i": 150,
          "loss": 212.85623168945312
         },
         {
          "i": 151,
          "loss": 212.85618591308594
         },
         {
          "i": 152,
          "loss": 212.85610961914062
         },
         {
          "i": 153,
          "loss": 212.85609436035156
         },
         {
          "i": 154,
          "loss": 212.85604858398438
         },
         {
          "i": 155,
          "loss": 212.85601806640625
         },
         {
          "i": 156,
          "loss": 212.8560028076172
         },
         {
          "i": 157,
          "loss": 212.8560028076172
         },
         {
          "i": 158,
          "loss": 212.85595703125
         },
         {
          "i": 159,
          "loss": 212.85594177246094
         },
         {
          "i": 160,
          "loss": 212.85589599609375
         },
         {
          "i": 161,
          "loss": 212.85586547851562
         },
         {
          "i": 162,
          "loss": 212.8558349609375
         },
         {
          "i": 163,
          "loss": 212.8558349609375
         },
         {
          "i": 164,
          "loss": 212.8558349609375
         },
         {
          "i": 165,
          "loss": 212.85580444335938
         },
         {
          "i": 166,
          "loss": 212.85577392578125
         },
         {
          "i": 167,
          "loss": 212.8557586669922
         },
         {
          "i": 168,
          "loss": 212.8557586669922
         },
         {
          "i": 169,
          "loss": 212.85572814941406
         },
         {
          "i": 170,
          "loss": 212.85572814941406
         },
         {
          "i": 171,
          "loss": 212.85574340820312
         },
         {
          "i": 172,
          "loss": 212.85572814941406
         },
         {
          "i": 173,
          "loss": 212.85572814941406
         },
         {
          "i": 174,
          "loss": 212.85572814941406
         },
         {
          "i": 175,
          "loss": 212.85572814941406
         },
         {
          "i": 176,
          "loss": 212.85569763183594
         },
         {
          "i": 177,
          "loss": 212.8556671142578
         },
         {
          "i": 178,
          "loss": 212.85568237304688
         },
         {
          "i": 179,
          "loss": 212.85568237304688
         },
         {
          "i": 180,
          "loss": 212.8556671142578
         },
         {
          "i": 181,
          "loss": 212.85565185546875
         },
         {
          "i": 182,
          "loss": 212.85568237304688
         },
         {
          "i": 183,
          "loss": 212.85565185546875
         },
         {
          "i": 184,
          "loss": 212.85562133789062
         },
         {
          "i": 185,
          "loss": 212.85565185546875
         },
         {
          "i": 186,
          "loss": 212.85565185546875
         },
         {
          "i": 187,
          "loss": 212.85565185546875
         },
         {
          "i": 188,
          "loss": 212.85562133789062
         },
         {
          "i": 189,
          "loss": 212.85562133789062
         },
         {
          "i": 190,
          "loss": 212.85565185546875
         },
         {
          "i": 191,
          "loss": 212.85560607910156
         },
         {
          "i": 192,
          "loss": 212.85560607910156
         },
         {
          "i": 193,
          "loss": 212.85562133789062
         },
         {
          "i": 194,
          "loss": 212.85560607910156
         },
         {
          "i": 195,
          "loss": 212.85562133789062
         },
         {
          "i": 196,
          "loss": 212.85565185546875
         },
         {
          "i": 197,
          "loss": 212.85562133789062
         },
         {
          "i": 198,
          "loss": 212.85562133789062
         },
         {
          "i": 199,
          "loss": 212.85562133789062
         },
         {
          "i": 200,
          "loss": 212.85562133789062
         },
         {
          "i": 201,
          "loss": 212.85560607910156
         },
         {
          "i": 202,
          "loss": 212.85565185546875
         },
         {
          "i": 203,
          "loss": 212.85560607910156
         },
         {
          "i": 204,
          "loss": 212.8555908203125
         },
         {
          "i": 205,
          "loss": 212.85560607910156
         },
         {
          "i": 206,
          "loss": 212.85562133789062
         },
         {
          "i": 207,
          "loss": 212.85560607910156
         },
         {
          "i": 208,
          "loss": 212.85560607910156
         },
         {
          "i": 209,
          "loss": 212.85562133789062
         },
         {
          "i": 210,
          "loss": 212.85560607910156
         },
         {
          "i": 211,
          "loss": 212.85560607910156
         },
         {
          "i": 212,
          "loss": 212.85560607910156
         },
         {
          "i": 213,
          "loss": 212.85560607910156
         },
         {
          "i": 214,
          "loss": 212.8555908203125
         },
         {
          "i": 215,
          "loss": 212.85562133789062
         },
         {
          "i": 216,
          "loss": 212.85560607910156
         },
         {
          "i": 217,
          "loss": 212.85560607910156
         },
         {
          "i": 218,
          "loss": 212.85562133789062
         },
         {
          "i": 219,
          "loss": 212.85560607910156
         },
         {
          "i": 220,
          "loss": 212.85562133789062
         },
         {
          "i": 221,
          "loss": 212.85560607910156
         },
         {
          "i": 222,
          "loss": 212.8555908203125
         },
         {
          "i": 223,
          "loss": 212.8555908203125
         },
         {
          "i": 224,
          "loss": 212.85560607910156
         },
         {
          "i": 225,
          "loss": 212.85560607910156
         },
         {
          "i": 226,
          "loss": 212.8555908203125
         },
         {
          "i": 227,
          "loss": 212.8555908203125
         },
         {
          "i": 228,
          "loss": 212.8555908203125
         },
         {
          "i": 229,
          "loss": 212.85560607910156
         },
         {
          "i": 230,
          "loss": 212.8555908203125
         },
         {
          "i": 231,
          "loss": 212.85556030273438
         },
         {
          "i": 232,
          "loss": 212.85560607910156
         },
         {
          "i": 233,
          "loss": 212.85560607910156
         },
         {
          "i": 234,
          "loss": 212.85560607910156
         },
         {
          "i": 235,
          "loss": 212.85560607910156
         },
         {
          "i": 236,
          "loss": 212.85560607910156
         },
         {
          "i": 237,
          "loss": 212.85556030273438
         },
         {
          "i": 238,
          "loss": 212.85560607910156
         },
         {
          "i": 239,
          "loss": 212.85560607910156
         },
         {
          "i": 240,
          "loss": 212.85560607910156
         },
         {
          "i": 241,
          "loss": 212.85560607910156
         },
         {
          "i": 242,
          "loss": 212.85560607910156
         },
         {
          "i": 243,
          "loss": 212.85560607910156
         },
         {
          "i": 244,
          "loss": 212.85560607910156
         },
         {
          "i": 245,
          "loss": 212.85560607910156
         },
         {
          "i": 246,
          "loss": 212.85560607910156
         },
         {
          "i": 247,
          "loss": 212.8555908203125
         },
         {
          "i": 248,
          "loss": 212.8555908203125
         },
         {
          "i": 249,
          "loss": 212.8555908203125
         },
         {
          "i": 250,
          "loss": 212.8555908203125
         },
         {
          "i": 251,
          "loss": 212.8555908203125
         },
         {
          "i": 252,
          "loss": 212.8555908203125
         },
         {
          "i": 253,
          "loss": 212.85556030273438
         },
         {
          "i": 254,
          "loss": 212.8555908203125
         },
         {
          "i": 255,
          "loss": 212.8555908203125
         },
         {
          "i": 256,
          "loss": 212.8555908203125
         },
         {
          "i": 257,
          "loss": 212.8555908203125
         },
         {
          "i": 258,
          "loss": 212.8555908203125
         },
         {
          "i": 259,
          "loss": 212.8555908203125
         },
         {
          "i": 260,
          "loss": 212.8555908203125
         },
         {
          "i": 261,
          "loss": 212.8555908203125
         },
         {
          "i": 262,
          "loss": 212.8555908203125
         },
         {
          "i": 263,
          "loss": 212.8555908203125
         },
         {
          "i": 264,
          "loss": 212.8555908203125
         },
         {
          "i": 265,
          "loss": 212.8555908203125
         },
         {
          "i": 266,
          "loss": 212.8555908203125
         },
         {
          "i": 267,
          "loss": 212.8555908203125
         },
         {
          "i": 268,
          "loss": 212.8555908203125
         },
         {
          "i": 269,
          "loss": 212.8555908203125
         },
         {
          "i": 270,
          "loss": 212.8555908203125
         },
         {
          "i": 271,
          "loss": 212.8555908203125
         },
         {
          "i": 272,
          "loss": 212.8555908203125
         },
         {
          "i": 273,
          "loss": 212.8555908203125
         },
         {
          "i": 274,
          "loss": 212.85562133789062
         },
         {
          "i": 275,
          "loss": 212.85560607910156
         },
         {
          "i": 276,
          "loss": 212.85560607910156
         },
         {
          "i": 277,
          "loss": 212.85560607910156
         },
         {
          "i": 278,
          "loss": 212.8555908203125
         },
         {
          "i": 279,
          "loss": 212.8555908203125
         },
         {
          "i": 280,
          "loss": 212.8555908203125
         },
         {
          "i": 281,
          "loss": 212.8555908203125
         },
         {
          "i": 282,
          "loss": 212.8555908203125
         },
         {
          "i": 283,
          "loss": 212.8555908203125
         },
         {
          "i": 284,
          "loss": 212.8555908203125
         },
         {
          "i": 285,
          "loss": 212.8555908203125
         },
         {
          "i": 286,
          "loss": 212.85556030273438
         },
         {
          "i": 287,
          "loss": 212.8555908203125
         },
         {
          "i": 288,
          "loss": 212.8555908203125
         },
         {
          "i": 289,
          "loss": 212.8555908203125
         },
         {
          "i": 290,
          "loss": 212.8555908203125
         },
         {
          "i": 291,
          "loss": 212.8555908203125
         },
         {
          "i": 292,
          "loss": 212.8555908203125
         },
         {
          "i": 293,
          "loss": 212.8555450439453
         },
         {
          "i": 294,
          "loss": 212.8555908203125
         },
         {
          "i": 295,
          "loss": 212.8555908203125
         },
         {
          "i": 296,
          "loss": 212.8555908203125
         },
         {
          "i": 297,
          "loss": 212.8555908203125
         },
         {
          "i": 298,
          "loss": 212.8555908203125
         },
         {
          "i": 299,
          "loss": 212.8555908203125
         },
         {
          "i": 300,
          "loss": 212.8555908203125
         },
         {
          "i": 301,
          "loss": 212.8555908203125
         },
         {
          "i": 302,
          "loss": 212.85556030273438
         },
         {
          "i": 303,
          "loss": 212.85556030273438
         },
         {
          "i": 304,
          "loss": 212.85556030273438
         },
         {
          "i": 305,
          "loss": 212.8555908203125
         },
         {
          "i": 306,
          "loss": 212.8555908203125
         },
         {
          "i": 307,
          "loss": 212.8555908203125
         },
         {
          "i": 308,
          "loss": 212.8555908203125
         },
         {
          "i": 309,
          "loss": 212.8555908203125
         },
         {
          "i": 310,
          "loss": 212.85556030273438
         },
         {
          "i": 311,
          "loss": 212.8555908203125
         },
         {
          "i": 312,
          "loss": 212.85556030273438
         },
         {
          "i": 313,
          "loss": 212.85556030273438
         },
         {
          "i": 314,
          "loss": 212.85556030273438
         },
         {
          "i": 315,
          "loss": 212.85556030273438
         },
         {
          "i": 316,
          "loss": 212.85556030273438
         },
         {
          "i": 317,
          "loss": 212.85556030273438
         },
         {
          "i": 318,
          "loss": 212.85556030273438
         },
         {
          "i": 319,
          "loss": 212.85556030273438
         },
         {
          "i": 320,
          "loss": 212.85556030273438
         },
         {
          "i": 321,
          "loss": 212.85556030273438
         },
         {
          "i": 322,
          "loss": 212.85556030273438
         },
         {
          "i": 323,
          "loss": 212.85556030273438
         },
         {
          "i": 324,
          "loss": 212.85556030273438
         },
         {
          "i": 325,
          "loss": 212.85556030273438
         },
         {
          "i": 326,
          "loss": 212.85556030273438
         },
         {
          "i": 327,
          "loss": 212.85556030273438
         },
         {
          "i": 328,
          "loss": 212.85556030273438
         },
         {
          "i": 329,
          "loss": 212.85556030273438
         },
         {
          "i": 330,
          "loss": 212.85556030273438
         },
         {
          "i": 331,
          "loss": 212.8555450439453
         },
         {
          "i": 332,
          "loss": 212.8555908203125
         },
         {
          "i": 333,
          "loss": 212.8555908203125
         },
         {
          "i": 334,
          "loss": 212.8555908203125
         },
         {
          "i": 335,
          "loss": 212.8555908203125
         },
         {
          "i": 336,
          "loss": 212.8555908203125
         },
         {
          "i": 337,
          "loss": 212.8555908203125
         },
         {
          "i": 338,
          "loss": 212.8555908203125
         },
         {
          "i": 339,
          "loss": 212.8555908203125
         },
         {
          "i": 340,
          "loss": 212.8555908203125
         },
         {
          "i": 341,
          "loss": 212.8555908203125
         },
         {
          "i": 342,
          "loss": 212.8555908203125
         },
         {
          "i": 343,
          "loss": 212.8555908203125
         },
         {
          "i": 344,
          "loss": 212.8555908203125
         },
         {
          "i": 345,
          "loss": 212.8555908203125
         },
         {
          "i": 346,
          "loss": 212.8555908203125
         },
         {
          "i": 347,
          "loss": 212.8555908203125
         },
         {
          "i": 348,
          "loss": 212.8555908203125
         },
         {
          "i": 349,
          "loss": 212.85556030273438
         },
         {
          "i": 350,
          "loss": 212.85556030273438
         },
         {
          "i": 351,
          "loss": 212.85556030273438
         },
         {
          "i": 352,
          "loss": 212.85556030273438
         },
         {
          "i": 353,
          "loss": 212.85556030273438
         },
         {
          "i": 354,
          "loss": 212.85556030273438
         },
         {
          "i": 355,
          "loss": 212.8555450439453
         },
         {
          "i": 356,
          "loss": 212.8555450439453
         },
         {
          "i": 357,
          "loss": 212.8555908203125
         },
         {
          "i": 358,
          "loss": 212.8555908203125
         },
         {
          "i": 359,
          "loss": 212.85556030273438
         },
         {
          "i": 360,
          "loss": 212.85556030273438
         },
         {
          "i": 361,
          "loss": 212.85556030273438
         },
         {
          "i": 362,
          "loss": 212.85556030273438
         },
         {
          "i": 363,
          "loss": 212.85556030273438
         },
         {
          "i": 364,
          "loss": 212.85556030273438
         },
         {
          "i": 365,
          "loss": 212.85556030273438
         },
         {
          "i": 366,
          "loss": 212.85556030273438
         },
         {
          "i": 367,
          "loss": 212.85556030273438
         },
         {
          "i": 368,
          "loss": 212.85556030273438
         },
         {
          "i": 369,
          "loss": 212.85556030273438
         },
         {
          "i": 370,
          "loss": 212.8555450439453
         },
         {
          "i": 371,
          "loss": 212.8555450439453
         },
         {
          "i": 372,
          "loss": 212.8555450439453
         },
         {
          "i": 373,
          "loss": 212.85556030273438
         },
         {
          "i": 374,
          "loss": 212.85556030273438
         },
         {
          "i": 375,
          "loss": 212.85556030273438
         },
         {
          "i": 376,
          "loss": 212.85556030273438
         },
         {
          "i": 377,
          "loss": 212.85556030273438
         },
         {
          "i": 378,
          "loss": 212.85556030273438
         },
         {
          "i": 379,
          "loss": 212.85556030273438
         },
         {
          "i": 380,
          "loss": 212.85556030273438
         },
         {
          "i": 381,
          "loss": 212.85556030273438
         },
         {
          "i": 382,
          "loss": 212.85556030273438
         },
         {
          "i": 383,
          "loss": 212.85556030273438
         },
         {
          "i": 384,
          "loss": 212.85556030273438
         },
         {
          "i": 385,
          "loss": 212.85556030273438
         },
         {
          "i": 386,
          "loss": 212.85556030273438
         },
         {
          "i": 387,
          "loss": 212.85556030273438
         },
         {
          "i": 388,
          "loss": 212.85556030273438
         },
         {
          "i": 389,
          "loss": 212.85556030273438
         },
         {
          "i": 390,
          "loss": 212.85556030273438
         },
         {
          "i": 391,
          "loss": 212.85556030273438
         },
         {
          "i": 392,
          "loss": 212.85556030273438
         },
         {
          "i": 393,
          "loss": 212.85556030273438
         },
         {
          "i": 394,
          "loss": 212.85556030273438
         },
         {
          "i": 395,
          "loss": 212.85556030273438
         },
         {
          "i": 396,
          "loss": 212.85556030273438
         },
         {
          "i": 397,
          "loss": 212.85556030273438
         },
         {
          "i": 398,
          "loss": 212.85556030273438
         },
         {
          "i": 399,
          "loss": 212.85556030273438
         },
         {
          "i": 400,
          "loss": 212.85556030273438
         },
         {
          "i": 401,
          "loss": 212.85556030273438
         },
         {
          "i": 402,
          "loss": 212.85556030273438
         },
         {
          "i": 403,
          "loss": 212.85556030273438
         },
         {
          "i": 404,
          "loss": 212.85556030273438
         },
         {
          "i": 405,
          "loss": 212.85556030273438
         },
         {
          "i": 406,
          "loss": 212.85556030273438
         },
         {
          "i": 407,
          "loss": 212.85556030273438
         },
         {
          "i": 408,
          "loss": 212.85556030273438
         },
         {
          "i": 409,
          "loss": 212.85556030273438
         },
         {
          "i": 410,
          "loss": 212.85556030273438
         },
         {
          "i": 411,
          "loss": 212.85556030273438
         },
         {
          "i": 412,
          "loss": 212.85556030273438
         },
         {
          "i": 413,
          "loss": 212.85556030273438
         },
         {
          "i": 414,
          "loss": 212.85556030273438
         },
         {
          "i": 415,
          "loss": 212.85556030273438
         },
         {
          "i": 416,
          "loss": 212.85556030273438
         },
         {
          "i": 417,
          "loss": 212.85556030273438
         },
         {
          "i": 418,
          "loss": 212.85556030273438
         },
         {
          "i": 419,
          "loss": 212.85556030273438
         },
         {
          "i": 420,
          "loss": 212.85556030273438
         },
         {
          "i": 421,
          "loss": 212.85556030273438
         },
         {
          "i": 422,
          "loss": 212.85556030273438
         },
         {
          "i": 423,
          "loss": 212.85556030273438
         },
         {
          "i": 424,
          "loss": 212.85556030273438
         },
         {
          "i": 425,
          "loss": 212.85556030273438
         },
         {
          "i": 426,
          "loss": 212.85556030273438
         },
         {
          "i": 427,
          "loss": 212.85556030273438
         },
         {
          "i": 428,
          "loss": 212.85556030273438
         },
         {
          "i": 429,
          "loss": 212.85556030273438
         },
         {
          "i": 430,
          "loss": 212.85556030273438
         },
         {
          "i": 431,
          "loss": 212.85556030273438
         },
         {
          "i": 432,
          "loss": 212.85556030273438
         },
         {
          "i": 433,
          "loss": 212.85556030273438
         },
         {
          "i": 434,
          "loss": 212.85556030273438
         },
         {
          "i": 435,
          "loss": 212.85556030273438
         },
         {
          "i": 436,
          "loss": 212.85556030273438
         },
         {
          "i": 437,
          "loss": 212.85556030273438
         },
         {
          "i": 438,
          "loss": 212.85556030273438
         },
         {
          "i": 439,
          "loss": 212.85556030273438
         },
         {
          "i": 440,
          "loss": 212.85556030273438
         },
         {
          "i": 441,
          "loss": 212.85556030273438
         },
         {
          "i": 442,
          "loss": 212.85556030273438
         },
         {
          "i": 443,
          "loss": 212.85556030273438
         },
         {
          "i": 444,
          "loss": 212.85556030273438
         },
         {
          "i": 445,
          "loss": 212.85556030273438
         },
         {
          "i": 446,
          "loss": 212.85556030273438
         },
         {
          "i": 447,
          "loss": 212.85556030273438
         },
         {
          "i": 448,
          "loss": 212.85556030273438
         },
         {
          "i": 449,
          "loss": 212.85556030273438
         },
         {
          "i": 450,
          "loss": 212.85556030273438
         },
         {
          "i": 451,
          "loss": 212.85556030273438
         },
         {
          "i": 452,
          "loss": 212.85556030273438
         },
         {
          "i": 453,
          "loss": 212.85556030273438
         },
         {
          "i": 454,
          "loss": 212.85556030273438
         },
         {
          "i": 455,
          "loss": 212.85556030273438
         },
         {
          "i": 456,
          "loss": 212.85556030273438
         },
         {
          "i": 457,
          "loss": 212.85556030273438
         },
         {
          "i": 458,
          "loss": 212.85556030273438
         },
         {
          "i": 459,
          "loss": 212.85556030273438
         },
         {
          "i": 460,
          "loss": 212.85556030273438
         },
         {
          "i": 461,
          "loss": 212.85556030273438
         },
         {
          "i": 462,
          "loss": 212.85556030273438
         },
         {
          "i": 463,
          "loss": 212.85556030273438
         },
         {
          "i": 464,
          "loss": 212.85556030273438
         },
         {
          "i": 465,
          "loss": 212.85556030273438
         },
         {
          "i": 466,
          "loss": 212.85556030273438
         },
         {
          "i": 467,
          "loss": 212.85556030273438
         },
         {
          "i": 468,
          "loss": 212.85556030273438
         },
         {
          "i": 469,
          "loss": 212.85556030273438
         },
         {
          "i": 470,
          "loss": 212.85556030273438
         },
         {
          "i": 471,
          "loss": 212.85556030273438
         },
         {
          "i": 472,
          "loss": 212.85556030273438
         },
         {
          "i": 473,
          "loss": 212.85556030273438
         },
         {
          "i": 474,
          "loss": 212.85556030273438
         },
         {
          "i": 475,
          "loss": 212.85556030273438
         },
         {
          "i": 476,
          "loss": 212.85556030273438
         },
         {
          "i": 477,
          "loss": 212.85556030273438
         },
         {
          "i": 478,
          "loss": 212.85556030273438
         },
         {
          "i": 479,
          "loss": 212.85556030273438
         },
         {
          "i": 480,
          "loss": 212.85556030273438
         },
         {
          "i": 481,
          "loss": 212.85556030273438
         },
         {
          "i": 482,
          "loss": 212.85556030273438
         },
         {
          "i": 483,
          "loss": 212.85556030273438
         },
         {
          "i": 484,
          "loss": 212.85556030273438
         },
         {
          "i": 485,
          "loss": 212.85556030273438
         },
         {
          "i": 486,
          "loss": 212.85556030273438
         },
         {
          "i": 487,
          "loss": 212.85556030273438
         },
         {
          "i": 488,
          "loss": 212.85556030273438
         },
         {
          "i": 489,
          "loss": 212.85556030273438
         },
         {
          "i": 490,
          "loss": 212.85556030273438
         },
         {
          "i": 491,
          "loss": 212.85556030273438
         },
         {
          "i": 492,
          "loss": 212.85556030273438
         },
         {
          "i": 493,
          "loss": 212.85556030273438
         },
         {
          "i": 494,
          "loss": 212.85556030273438
         },
         {
          "i": 495,
          "loss": 212.85556030273438
         },
         {
          "i": 496,
          "loss": 212.85556030273438
         },
         {
          "i": 497,
          "loss": 212.85556030273438
         },
         {
          "i": 498,
          "loss": 212.85556030273438
         },
         {
          "i": 499,
          "loss": 212.85556030273438
         }
        ]
       },
       "encoding": {
        "x": {
         "field": "i",
         "type": "quantitative"
        },
        "y": {
         "field": "loss",
         "type": "quantitative"
        }
       },
       "mark": "line"
      },
      "image/png": "[encoded data removed]",
      "text/plain": [
       "<VegaLite 3 object>\n",
       "\n",
       "If you see this message, it means the renderer has not been properly enabled\n",
       "for the frontend that you are using. For more information, see\n",
       "https://altair-viz.github.io/user_guide/troubleshooting.html\n"
      ]
     },
     "execution_count": 402,
     "metadata": {},
     "output_type": "execute_result"
    }
   ],
   "source": [
    "loss_df = pd.DataFrame({'i':range(500), 'loss':loss_record})\n",
    "alt.Chart(loss_df).mark_line().encode(x='i', y='loss')"
   ]
  },
  {
   "cell_type": "code",
   "execution_count": 403,
   "metadata": {},
   "outputs": [
    {
     "data": {
      "application/vnd.vegalite.v3+json": {
       "$schema": "https://vega.github.io/schema/vega-lite/v3.4.0.json",
       "config": {
        "mark": {
         "tooltip": null
        },
        "view": {
         "height": 300,
         "width": 400
        }
       },
       "data": {
        "name": "data-7a6d66eb2b658499922614371d0e5e08"
       },
       "datasets": {
        "data-7a6d66eb2b658499922614371d0e5e08": [
         {
          "x1": 0.16743335127830505,
          "y": 0.028033927083015442,
          "ŷ": 0.12447695434093475
         },
         {
          "x1": -0.3738703429698944,
          "y": 0.13977903127670288,
          "ŷ": 0.3022616505622864
         },
         {
          "x1": 1.6041618585586548,
          "y": 2.5733351707458496,
          "ŷ": 1.1926010847091675
         },
         {
          "x1": -0.27194321155548096,
          "y": 0.07395310699939728,
          "ŷ": 0.21985699236392975
         },
         {
          "x1": 0.26868170499801636,
          "y": 0.07218986004590988,
          "ŷ": 0.19974926114082336
         },
         {
          "x1": 0.3797684609889984,
          "y": 0.14422407746315002,
          "ŷ": 0.2823358178138733
         },
         {
          "x1": 1.7195055484771729,
          "y": 2.9566993713378906,
          "ŷ": 1.2783524990081787
         },
         {
          "x1": 1.5001097917556763,
          "y": 2.2503294944763184,
          "ŷ": 1.1152442693710327
         },
         {
          "x1": -0.8250862956047058,
          "y": 0.6807674169540405,
          "ŷ": 0.6670546531677246
         },
         {
          "x1": 0.23989304900169373,
          "y": 0.05754867568612099,
          "ŷ": 0.17834657430648804
         },
         {
          "x1": -0.2796217203140259,
          "y": 0.07818830758333206,
          "ŷ": 0.2260648012161255
         },
         {
          "x1": 0.9036068320274353,
          "y": 0.8165053129196167,
          "ŷ": 0.6717792749404907
         },
         {
          "x1": -0.19653190672397614,
          "y": 0.03862478956580162,
          "ŷ": 0.15888945758342743
         },
         {
          "x1": -0.11704137176275253,
          "y": 0.013698683120310307,
          "ŷ": 0.09462403506040573
         },
         {
          "x1": -1.4379019737243652,
          "y": 2.0675621032714844,
          "ŷ": 1.1624956130981445
         },
         {
          "x1": 0.647977888584137,
          "y": 0.4198753535747528,
          "ŷ": 0.481734037399292
         },
         {
          "x1": -0.5280821919441223,
          "y": 0.2788707911968231,
          "ŷ": 0.4269367754459381
         },
         {
          "x1": -1.4413268566131592,
          "y": 2.077423095703125,
          "ŷ": 1.16526460647583
         },
         {
          "x1": -0.6558904647827148,
          "y": 0.4301922917366028,
          "ŷ": 0.5302655100822449
         },
         {
          "x1": -0.4976310133934021,
          "y": 0.24763663113117218,
          "ŷ": 0.40231800079345703
         },
         {
          "x1": -1.0534992218017578,
          "y": 1.1098606586456299,
          "ŷ": 0.8517188429832458
         },
         {
          "x1": 0.19869187474250793,
          "y": 0.03947846218943596,
          "ŷ": 0.14771588146686554
         },
         {
          "x1": 0.007452572230249643,
          "y": 5.554083327297121e-05,
          "ŷ": 0.005540553480386734
         },
         {
          "x1": 1.1134003400802612,
          "y": 1.2396602630615234,
          "ŷ": 0.8277487754821777
         },
         {
          "x1": 1.007494568824768,
          "y": 1.0150452852249146,
          "ŷ": 0.7490136623382568
         },
         {
          "x1": -1.5963839292526245,
          "y": 2.5484416484832764,
          "ŷ": 1.2906229496002197
         },
         {
          "x1": 0.35041019320487976,
          "y": 0.12278730422258377,
          "ŷ": 0.2605096399784088
         },
         {
          "x1": -1.5804874897003174,
          "y": 2.4979407787323,
          "ŷ": 1.277771234512329
         },
         {
          "x1": -0.40683886408805847,
          "y": 0.1655178666114807,
          "ŷ": 0.3289155960083008
         },
         {
          "x1": -0.5655403733253479,
          "y": 0.319835901260376,
          "ŷ": 0.4572204351425171
         },
         {
          "x1": 1.0986249446868896,
          "y": 1.2069767713546753,
          "ŷ": 0.8167638778686523
         },
         {
          "x1": 1.7567956447601318,
          "y": 3.0863308906555176,
          "ŷ": 1.3060758113861084
         },
         {
          "x1": 0.6386845111846924,
          "y": 0.40791791677474976,
          "ŷ": 0.4748246669769287
         },
         {
          "x1": -1.5064529180526733,
          "y": 2.2694003582000732,
          "ŷ": 1.2179168462753296
         },
         {
          "x1": -0.8965437412261963,
          "y": 0.8037906885147095,
          "ŷ": 0.7248256206512451
         },
         {
          "x1": 1.0151593685150146,
          "y": 1.0305485725402832,
          "ŷ": 0.7547118663787842
         },
         {
          "x1": 1.1060293912887573,
          "y": 1.2233010530471802,
          "ŷ": 0.8222686052322388
         },
         {
          "x1": -0.38185662031173706,
          "y": 0.14581447839736938,
          "ŷ": 0.3087182939052582
         },
         {
          "x1": -2.249908685684204,
          "y": 5.062088966369629,
          "ŷ": 1.8189756870269775
         },
         {
          "x1": -0.22053968906402588,
          "y": 0.048637755215168,
          "ŷ": 0.1782989650964737
         },
         {
          "x1": 0.887210488319397,
          "y": 0.7871424555778503,
          "ŷ": 0.6595896482467651
         },
         {
          "x1": -0.530894935131073,
          "y": 0.2818494439125061,
          "ŷ": 0.4292107820510864
         },
         {
          "x1": -1.3413591384887695,
          "y": 1.7992442846298218,
          "ŷ": 1.0844439268112183
         },
         {
          "x1": 1.2179474830627441,
          "y": 1.483396053314209,
          "ŷ": 0.9054731130599976
         },
         {
          "x1": -0.010927804745733738,
          "y": 0.00011941691627725959,
          "ŷ": 0.00883476436138153
         },
         {
          "x1": 0.061165615916252136,
          "y": 0.003741232678294182,
          "ŷ": 0.045473091304302216
         },
         {
          "x1": 1.26063072681427,
          "y": 1.589189887046814,
          "ŷ": 0.9372057914733887
         },
         {
          "x1": 2.8296027183532715,
          "y": 8.006651878356934,
          "ŷ": 2.1036453247070312
         },
         {
          "x1": -0.25821948051452637,
          "y": 0.06667730212211609,
          "ŷ": 0.2087618112564087
         },
         {
          "x1": -0.10473756492137909,
          "y": 0.010969957336783409,
          "ŷ": 0.0846768170595169
         },
         {
          "x1": 1.1573774814605713,
          "y": 1.3395226001739502,
          "ŷ": 0.8604428768157959
         },
         {
          "x1": -0.5478091239929199,
          "y": 0.3000948429107666,
          "ŷ": 0.4428853392601013
         },
         {
          "x1": -0.38618263602256775,
          "y": 0.14913703501224518,
          "ŷ": 0.31221574544906616
         },
         {
          "x1": 0.13335786759853363,
          "y": 0.017784321680665016,
          "ŷ": 0.09914380311965942
         },
         {
          "x1": 0.23456545174121857,
          "y": 0.055020950734615326,
          "ŷ": 0.17438578605651855
         },
         {
          "x1": 1.7153860330581665,
          "y": 2.942549228668213,
          "ŷ": 1.2752898931503296
         },
         {
          "x1": -0.633513331413269,
          "y": 0.4013391435146332,
          "ŷ": 0.5121743679046631
         },
         {
          "x1": 0.7341846227645874,
          "y": 0.5390270352363586,
          "ŷ": 0.5458235144615173
         },
         {
          "x1": -0.08497660607099533,
          "y": 0.007221023552119732,
          "ŷ": 0.06870074570178986
         },
         {
          "x1": -0.18173660337924957,
          "y": 0.033028192818164825,
          "ŷ": 0.14692795276641846
         },
         {
          "x1": -0.6898453235626221,
          "y": 0.47588658332824707,
          "ŷ": 0.5577168464660645
         },
         {
          "x1": 0.31427082419395447,
          "y": 0.09876614809036255,
          "ŷ": 0.23364213109016418
         },
         {
          "x1": -0.15766525268554688,
          "y": 0.02485833130776882,
          "ŷ": 0.127467080950737
         },
         {
          "x1": 0.13682346045970917,
          "y": 0.018720658496022224,
          "ŷ": 0.10172027349472046
         },
         {
          "x1": 0.8167964816093445,
          "y": 0.6671565175056458,
          "ŷ": 0.6072407960891724
         },
         {
          "x1": -0.5287996530532837,
          "y": 0.27962908148765564,
          "ŷ": 0.4275168180465698
         },
         {
          "x1": 1.4604790210723877,
          "y": 2.1329989433288574,
          "ŷ": 1.085781455039978
         },
         {
          "x1": -1.5237083435058594,
          "y": 2.3216872215270996,
          "ŷ": 1.2318673133850098
         },
         {
          "x1": 1.7855685949325562,
          "y": 3.1882553100585938,
          "ŷ": 1.3274662494659424
         },
         {
          "x1": 0.8950671553611755,
          "y": 0.8011451959609985,
          "ŷ": 0.6654304265975952
         },
         {
          "x1": -0.16995196044445038,
          "y": 0.028883669525384903,
          "ŷ": 0.13740047812461853
         },
         {
          "x1": -0.17811492085456848,
          "y": 0.031724926084280014,
          "ŷ": 0.14399994909763336
         },
         {
          "x1": -0.44351592659950256,
          "y": 0.1967063844203949,
          "ŷ": 0.3585678040981293
         },
         {
          "x1": 1.6038261651992798,
          "y": 2.572258472442627,
          "ŷ": 1.1923516988754272
         },
         {
          "x1": -2.5501084327697754,
          "y": 6.503053188323975,
          "ŷ": 2.0616774559020996
         },
         {
          "x1": -0.08092086017131805,
          "y": 0.006548185832798481,
          "ŷ": 0.06542180478572845
         },
         {
          "x1": 1.15129816532135,
          "y": 1.325487494468689,
          "ŷ": 0.8559232950210571
         },
         {
          "x1": -0.2734087109565735,
          "y": 0.0747523233294487,
          "ŷ": 0.22104179859161377
         },
         {
          "x1": -0.04081684350967407,
          "y": 0.0016660146648064256,
          "ŷ": 0.03299904987215996
         },
         {
          "x1": -0.2563785910606384,
          "y": 0.06572998315095901,
          "ŷ": 0.20727351307868958
         },
         {
          "x1": -0.20829270780086517,
          "y": 0.04338585212826729,
          "ŷ": 0.1683976948261261
         },
         {
          "x1": -1.2078346014022827,
          "y": 1.458864450454712,
          "ŷ": 0.9764938950538635
         },
         {
          "x1": -1.4937684535980225,
          "y": 2.231344223022461,
          "ŷ": 1.207661747932434
         },
         {
          "x1": -0.9578824639320374,
          "y": 0.9175388216972351,
          "ŷ": 0.774415910243988
         },
         {
          "x1": 0.6265141367912292,
          "y": 0.3925199508666992,
          "ŷ": 0.4657769203186035
         },
         {
          "x1": -0.641947329044342,
          "y": 0.41209638118743896,
          "ŷ": 0.5189929008483887
         },
         {
          "x1": 0.7026286125183105,
          "y": 0.4936869740486145,
          "ŷ": 0.522363543510437
         },
         {
          "x1": 1.1269183158874512,
          "y": 1.2699449062347412,
          "ŷ": 0.8377983570098877
         },
         {
          "x1": -1.2248600721359253,
          "y": 1.5002821683883667,
          "ŷ": 0.9902584552764893
         },
         {
          "x1": 0.566120982170105,
          "y": 0.3204929530620575,
          "ŷ": 0.4208780527114868
         },
         {
          "x1": -0.33533406257629395,
          "y": 0.11244893074035645,
          "ŷ": 0.2711063623428345
         },
         {
          "x1": -1.073354959487915,
          "y": 1.1520909070968628,
          "ŷ": 0.8677716255187988
         },
         {
          "x1": -0.21025966107845306,
          "y": 0.04420912638306618,
          "ŷ": 0.16998790204524994
         },
         {
          "x1": -0.783938467502594,
          "y": 0.614559531211853,
          "ŷ": 0.633787989616394
         },
         {
          "x1": 0.2189248651266098,
          "y": 0.0479280948638916,
          "ŷ": 0.16275793313980103
         },
         {
          "x1": -0.36724597215652466,
          "y": 0.13486960530281067,
          "ŷ": 0.296906054019928
         },
         {
          "x1": 1.0222171545028687,
          "y": 1.044927954673767,
          "ŷ": 0.7599589824676514
         },
         {
          "x1": 0.891188383102417,
          "y": 0.7942167520523071,
          "ŷ": 0.6625468730926514
         },
         {
          "x1": -1.5569252967834473,
          "y": 2.4240164756774902,
          "ŷ": 1.258721947669983
         },
         {
          "x1": -0.019468875601887703,
          "y": 0.00037903711199760437,
          "ŷ": 0.015739934518933296
         }
        ]
       },
       "layer": [
        {
         "encoding": {
          "x": {
           "field": "x1",
           "type": "quantitative"
          },
          "y": {
           "field": "ŷ",
           "type": "quantitative"
          }
         },
         "mark": "line"
        },
        {
         "encoding": {
          "x": {
           "field": "x1",
           "type": "quantitative"
          },
          "y": {
           "field": "y",
           "type": "quantitative"
          }
         },
         "mark": "point"
        }
       ]
      },
      "image/png": "[encoded data removed]",
      "text/plain": [
       "<VegaLite 3 object>\n",
       "\n",
       "If you see this message, it means the renderer has not been properly enabled\n",
       "for the frontend that you are using. For more information, see\n",
       "https://altair-viz.github.io/user_guide/troubleshooting.html\n"
      ]
     },
     "execution_count": 403,
     "metadata": {},
     "output_type": "execute_result"
    }
   ],
   "source": [
    "preds = pd.DataFrame({'ŷ':ŷ.detach().numpy()[:,0], 'y':y, 'x1':x[:,0]})\n",
    "(alt.Chart(preds).mark_line().encode(x='x1', y='ŷ') + \n",
    "alt.Chart(preds).mark_point().encode(x='x1', y='y'))"
   ]
  },
  {
   "cell_type": "markdown",
   "metadata": {},
   "source": [
    "And now the loss is lower and the fit is clearly much improved. "
   ]
  },
  {
   "cell_type": "markdown",
   "metadata": {},
   "source": [
    "### Conclusion"
   ]
  },
  {
   "cell_type": "markdown",
   "metadata": {},
   "source": [
    "We saw how we can get a nonlinear fit out of stacking linear models and nonlinear activation functions together."
   ]
  },
  {
   "cell_type": "markdown",
   "metadata": {},
   "source": [
    "# Abstracting the \"Layer\""
   ]
  },
  {
   "cell_type": "markdown",
   "metadata": {},
   "source": [
    "Since we'll be stacking layers of arbitrary size arbitrarily deep, we might as well abstract away some of the code we need so we don't have to keep track of all the parameters in the model."
   ]
  },
  {
   "cell_type": "markdown",
   "metadata": {},
   "source": [
    "We'll first define a `LinearLayer` class that transforms a representation of size `h1` to one of size `h2`."
   ]
  },
  {
   "cell_type": "code",
   "execution_count": 488,
   "metadata": {},
   "outputs": [],
   "source": [
    "class LinearLayer():\n",
    "    def __init__(self, h1, h2):\n",
    "        self.W = torch.randn(h1,h2).requires_grad_()\n",
    "    \n",
    "    def __call__(self, x):\n",
    "        return torch.matmul(x, self.W)"
   ]
  },
  {
   "cell_type": "markdown",
   "metadata": {},
   "source": [
    "And now we can stack up as many of these as we want"
   ]
  },
  {
   "cell_type": "code",
   "execution_count": 489,
   "metadata": {},
   "outputs": [],
   "source": [
    "from torch import sigmoid"
   ]
  },
  {
   "cell_type": "code",
   "execution_count": 496,
   "metadata": {},
   "outputs": [
    {
     "data": {
      "text/plain": [
       "[1, 10]"
      ]
     },
     "execution_count": 496,
     "metadata": {},
     "output_type": "execute_result"
    }
   ],
   "source": [
    "s[:-1]"
   ]
  },
  {
   "cell_type": "code",
   "execution_count": 497,
   "metadata": {},
   "outputs": [],
   "source": [
    "from torch.nn.functional import relu\n",
    "\n",
    "class Model():\n",
    "    def __init__(self, sizes):\n",
    "        sizes_shifted = sizes[1:] + [1]\n",
    "        self.layers = [LinearLayer(h1,h2) for h1, h2 in zip(sizes, sizes_shifted)]\n",
    "        self.activation = relu\n",
    "    \n",
    "    def __call__(self,x):\n",
    "        for layer in self.layers[:-1]:\n",
    "            x = self.activation(layer(x)) # 5 relu regressions\n",
    "        return self.layers[-1](x)"
   ]
  },
  {
   "cell_type": "markdown",
   "metadata": {},
   "source": [
    "check it out:"
   ]
  },
  {
   "cell_type": "code",
   "execution_count": 516,
   "metadata": {},
   "outputs": [],
   "source": [
    "n= 100\n",
    "p = 1\n",
    "\n",
    "x = torch.randn(n, p) # predictors (n observations, p features)\n",
    "y = x[:,0]**2 # outcomes (n observations)\n",
    "\n",
    "my_model = Model([1,10,5,10,100])\n",
    "L = torch.sum((y - my_model(x))**2)/n"
   ]
  },
  {
   "cell_type": "code",
   "execution_count": 517,
   "metadata": {},
   "outputs": [
    {
     "data": {
      "image/svg+xml": [
       "<?xml version=\"1.0\" encoding=\"UTF-8\" standalone=\"no\"?>\n",
       "<!DOCTYPE svg PUBLIC \"-//W3C//DTD SVG 1.1//EN\"\n",
       " \"http://www.w3.org/Graphics/SVG/1.1/DTD/svg11.dtd\">\n",
       "<!-- Generated by graphviz version 2.43.0 (0)\n",
       " -->\n",
       "<!-- Title: %3 Pages: 1 -->\n",
       "<svg width=\"316pt\" height=\"816pt\"\n",
       " viewBox=\"0.00 0.00 316.15 816.00\" xmlns=\"http://www.w3.org/2000/svg\" xmlns:xlink=\"http://www.w3.org/1999/xlink\">\n",
       "<g id=\"graph0\" class=\"graph\" transform=\"scale(1 1) rotate(0) translate(4 812)\">\n",
       "<title>%3</title>\n",
       "<polygon fill=\"white\" stroke=\"transparent\" points=\"-4,4 -4,-812 312.15,-812 312.15,4 -4,4\"/>\n",
       "<!-- 5036759184 -->\n",
       "<g id=\"node1\" class=\"node\">\n",
       "<title>5036759184</title>\n",
       "<polygon fill=\"#caff70\" stroke=\"black\" points=\"276.8,-20 188.51,-20 188.51,0 276.8,0 276.8,-20\"/>\n",
       "<text text-anchor=\"middle\" x=\"232.65\" y=\"-6.4\" font-family=\"Times,serif\" font-size=\"12.00\">DivBackward0</text>\n",
       "</g>\n",
       "<!-- 5006012624 -->\n",
       "<g id=\"node2\" class=\"node\">\n",
       "<title>5006012624</title>\n",
       "<polygon fill=\"lightgrey\" stroke=\"black\" points=\"278.81,-76 186.5,-76 186.5,-56 278.81,-56 278.81,-76\"/>\n",
       "<text text-anchor=\"middle\" x=\"232.65\" y=\"-62.4\" font-family=\"Times,serif\" font-size=\"12.00\">SumBackward0</text>\n",
       "</g>\n",
       "<!-- 5006012624&#45;&gt;5036759184 -->\n",
       "<g id=\"edge1\" class=\"edge\">\n",
       "<title>5006012624&#45;&gt;5036759184</title>\n",
       "<path fill=\"none\" stroke=\"black\" d=\"M232.65,-55.59C232.65,-48.7 232.65,-39.1 232.65,-30.57\"/>\n",
       "<polygon fill=\"black\" stroke=\"black\" points=\"236.15,-30.3 232.65,-20.3 229.15,-30.3 236.15,-30.3\"/>\n",
       "</g>\n",
       "<!-- 4998824528 -->\n",
       "<g id=\"node3\" class=\"node\">\n",
       "<title>4998824528</title>\n",
       "<polygon fill=\"lightgrey\" stroke=\"black\" points=\"278.64,-132 186.67,-132 186.67,-112 278.64,-112 278.64,-132\"/>\n",
       "<text text-anchor=\"middle\" x=\"232.65\" y=\"-118.4\" font-family=\"Times,serif\" font-size=\"12.00\">PowBackward0</text>\n",
       "</g>\n",
       "<!-- 4998824528&#45;&gt;5006012624 -->\n",
       "<g id=\"edge2\" class=\"edge\">\n",
       "<title>4998824528&#45;&gt;5006012624</title>\n",
       "<path fill=\"none\" stroke=\"black\" d=\"M232.65,-111.59C232.65,-104.7 232.65,-95.1 232.65,-86.57\"/>\n",
       "<polygon fill=\"black\" stroke=\"black\" points=\"236.15,-86.3 232.65,-76.3 229.15,-86.3 236.15,-86.3\"/>\n",
       "</g>\n",
       "<!-- 4998826320 -->\n",
       "<g id=\"node4\" class=\"node\">\n",
       "<title>4998826320</title>\n",
       "<polygon fill=\"lightgrey\" stroke=\"black\" points=\"277.47,-188 187.84,-188 187.84,-168 277.47,-168 277.47,-188\"/>\n",
       "<text text-anchor=\"middle\" x=\"232.65\" y=\"-174.4\" font-family=\"Times,serif\" font-size=\"12.00\">SubBackward0</text>\n",
       "</g>\n",
       "<!-- 4998826320&#45;&gt;4998824528 -->\n",
       "<g id=\"edge3\" class=\"edge\">\n",
       "<title>4998826320&#45;&gt;4998824528</title>\n",
       "<path fill=\"none\" stroke=\"black\" d=\"M232.65,-167.59C232.65,-160.7 232.65,-151.1 232.65,-142.57\"/>\n",
       "<polygon fill=\"black\" stroke=\"black\" points=\"236.15,-142.3 232.65,-132.3 229.15,-142.3 236.15,-142.3\"/>\n",
       "</g>\n",
       "<!-- 4998825744 -->\n",
       "<g id=\"node5\" class=\"node\">\n",
       "<title>4998825744</title>\n",
       "<polygon fill=\"lightgrey\" stroke=\"black\" points=\"274.8,-244 190.51,-244 190.51,-224 274.8,-224 274.8,-244\"/>\n",
       "<text text-anchor=\"middle\" x=\"232.65\" y=\"-230.4\" font-family=\"Times,serif\" font-size=\"12.00\">MmBackward</text>\n",
       "</g>\n",
       "<!-- 4998825744&#45;&gt;4998826320 -->\n",
       "<g id=\"edge4\" class=\"edge\">\n",
       "<title>4998825744&#45;&gt;4998826320</title>\n",
       "<path fill=\"none\" stroke=\"black\" d=\"M232.65,-223.59C232.65,-216.7 232.65,-207.1 232.65,-198.57\"/>\n",
       "<polygon fill=\"black\" stroke=\"black\" points=\"236.15,-198.3 232.65,-188.3 229.15,-198.3 236.15,-198.3\"/>\n",
       "</g>\n",
       "<!-- 4998827408 -->\n",
       "<g id=\"node6\" class=\"node\">\n",
       "<title>4998827408</title>\n",
       "<polygon fill=\"lightgrey\" stroke=\"black\" points=\"233.46,-306 139.85,-306 139.85,-286 233.46,-286 233.46,-306\"/>\n",
       "<text text-anchor=\"middle\" x=\"186.65\" y=\"-292.4\" font-family=\"Times,serif\" font-size=\"12.00\">ReluBackward0</text>\n",
       "</g>\n",
       "<!-- 4998827408&#45;&gt;4998825744 -->\n",
       "<g id=\"edge5\" class=\"edge\">\n",
       "<title>4998827408&#45;&gt;4998825744</title>\n",
       "<path fill=\"none\" stroke=\"black\" d=\"M193.64,-285.89C200.46,-276.99 211.02,-263.22 219.43,-252.25\"/>\n",
       "<polygon fill=\"black\" stroke=\"black\" points=\"222.3,-254.26 225.6,-244.2 216.74,-250.01 222.3,-254.26\"/>\n",
       "</g>\n",
       "<!-- 4998825680 -->\n",
       "<g id=\"node7\" class=\"node\">\n",
       "<title>4998825680</title>\n",
       "<polygon fill=\"lightgrey\" stroke=\"black\" points=\"228.8,-368 144.51,-368 144.51,-348 228.8,-348 228.8,-368\"/>\n",
       "<text text-anchor=\"middle\" x=\"186.65\" y=\"-354.4\" font-family=\"Times,serif\" font-size=\"12.00\">MmBackward</text>\n",
       "</g>\n",
       "<!-- 4998825680&#45;&gt;4998827408 -->\n",
       "<g id=\"edge6\" class=\"edge\">\n",
       "<title>4998825680&#45;&gt;4998827408</title>\n",
       "<path fill=\"none\" stroke=\"black\" d=\"M186.65,-347.89C186.65,-339.52 186.65,-326.84 186.65,-316.23\"/>\n",
       "<polygon fill=\"black\" stroke=\"black\" points=\"190.15,-316.2 186.65,-306.2 183.15,-316.2 190.15,-316.2\"/>\n",
       "</g>\n",
       "<!-- 4998826000 -->\n",
       "<g id=\"node8\" class=\"node\">\n",
       "<title>4998826000</title>\n",
       "<polygon fill=\"lightgrey\" stroke=\"black\" points=\"185.46,-430 91.85,-430 91.85,-410 185.46,-410 185.46,-430\"/>\n",
       "<text text-anchor=\"middle\" x=\"138.65\" y=\"-416.4\" font-family=\"Times,serif\" font-size=\"12.00\">ReluBackward0</text>\n",
       "</g>\n",
       "<!-- 4998826000&#45;&gt;4998825680 -->\n",
       "<g id=\"edge7\" class=\"edge\">\n",
       "<title>4998826000&#45;&gt;4998825680</title>\n",
       "<path fill=\"none\" stroke=\"black\" d=\"M145.94,-409.89C153.06,-400.99 164.08,-387.22 172.85,-376.25\"/>\n",
       "<polygon fill=\"black\" stroke=\"black\" points=\"175.78,-378.19 179.3,-368.2 170.32,-373.82 175.78,-378.19\"/>\n",
       "</g>\n",
       "<!-- 4998826832 -->\n",
       "<g id=\"node9\" class=\"node\">\n",
       "<title>4998826832</title>\n",
       "<polygon fill=\"lightgrey\" stroke=\"black\" points=\"180.8,-492 96.51,-492 96.51,-472 180.8,-472 180.8,-492\"/>\n",
       "<text text-anchor=\"middle\" x=\"138.65\" y=\"-478.4\" font-family=\"Times,serif\" font-size=\"12.00\">MmBackward</text>\n",
       "</g>\n",
       "<!-- 4998826832&#45;&gt;4998826000 -->\n",
       "<g id=\"edge8\" class=\"edge\">\n",
       "<title>4998826832&#45;&gt;4998826000</title>\n",
       "<path fill=\"none\" stroke=\"black\" d=\"M138.65,-471.89C138.65,-463.52 138.65,-450.84 138.65,-440.23\"/>\n",
       "<polygon fill=\"black\" stroke=\"black\" points=\"142.15,-440.2 138.65,-430.2 135.15,-440.2 142.15,-440.2\"/>\n",
       "</g>\n",
       "<!-- 4998826576 -->\n",
       "<g id=\"node10\" class=\"node\">\n",
       "<title>4998826576</title>\n",
       "<polygon fill=\"lightgrey\" stroke=\"black\" points=\"139.46,-554 45.85,-554 45.85,-534 139.46,-534 139.46,-554\"/>\n",
       "<text text-anchor=\"middle\" x=\"92.65\" y=\"-540.4\" font-family=\"Times,serif\" font-size=\"12.00\">ReluBackward0</text>\n",
       "</g>\n",
       "<!-- 4998826576&#45;&gt;4998826832 -->\n",
       "<g id=\"edge9\" class=\"edge\">\n",
       "<title>4998826576&#45;&gt;4998826832</title>\n",
       "<path fill=\"none\" stroke=\"black\" d=\"M99.64,-533.89C106.46,-524.99 117.02,-511.22 125.43,-500.25\"/>\n",
       "<polygon fill=\"black\" stroke=\"black\" points=\"128.3,-502.26 131.6,-492.2 122.74,-498.01 128.3,-502.26\"/>\n",
       "</g>\n",
       "<!-- 4998827152 -->\n",
       "<g id=\"node11\" class=\"node\">\n",
       "<title>4998827152</title>\n",
       "<polygon fill=\"lightgrey\" stroke=\"black\" points=\"134.8,-616 50.51,-616 50.51,-596 134.8,-596 134.8,-616\"/>\n",
       "<text text-anchor=\"middle\" x=\"92.65\" y=\"-602.4\" font-family=\"Times,serif\" font-size=\"12.00\">MmBackward</text>\n",
       "</g>\n",
       "<!-- 4998827152&#45;&gt;4998826576 -->\n",
       "<g id=\"edge10\" class=\"edge\">\n",
       "<title>4998827152&#45;&gt;4998826576</title>\n",
       "<path fill=\"none\" stroke=\"black\" d=\"M92.65,-595.89C92.65,-587.52 92.65,-574.84 92.65,-564.23\"/>\n",
       "<polygon fill=\"black\" stroke=\"black\" points=\"96.15,-564.2 92.65,-554.2 89.15,-564.2 96.15,-564.2\"/>\n",
       "</g>\n",
       "<!-- 4998826384 -->\n",
       "<g id=\"node12\" class=\"node\">\n",
       "<title>4998826384</title>\n",
       "<polygon fill=\"lightgrey\" stroke=\"black\" points=\"93.46,-678 -0.15,-678 -0.15,-658 93.46,-658 93.46,-678\"/>\n",
       "<text text-anchor=\"middle\" x=\"46.65\" y=\"-664.4\" font-family=\"Times,serif\" font-size=\"12.00\">ReluBackward0</text>\n",
       "</g>\n",
       "<!-- 4998826384&#45;&gt;4998827152 -->\n",
       "<g id=\"edge11\" class=\"edge\">\n",
       "<title>4998826384&#45;&gt;4998827152</title>\n",
       "<path fill=\"none\" stroke=\"black\" d=\"M53.64,-657.89C60.46,-648.99 71.02,-635.22 79.43,-624.25\"/>\n",
       "<polygon fill=\"black\" stroke=\"black\" points=\"82.3,-626.26 85.6,-616.2 76.74,-622.01 82.3,-626.26\"/>\n",
       "</g>\n",
       "<!-- 4998827088 -->\n",
       "<g id=\"node13\" class=\"node\">\n",
       "<title>4998827088</title>\n",
       "<polygon fill=\"lightgrey\" stroke=\"black\" points=\"88.8,-740 4.51,-740 4.51,-720 88.8,-720 88.8,-740\"/>\n",
       "<text text-anchor=\"middle\" x=\"46.65\" y=\"-726.4\" font-family=\"Times,serif\" font-size=\"12.00\">MmBackward</text>\n",
       "</g>\n",
       "<!-- 4998827088&#45;&gt;4998826384 -->\n",
       "<g id=\"edge12\" class=\"edge\">\n",
       "<title>4998827088&#45;&gt;4998826384</title>\n",
       "<path fill=\"none\" stroke=\"black\" d=\"M46.65,-719.89C46.65,-711.52 46.65,-698.84 46.65,-688.23\"/>\n",
       "<polygon fill=\"black\" stroke=\"black\" points=\"50.15,-688.2 46.65,-678.2 43.15,-688.2 50.15,-688.2\"/>\n",
       "</g>\n",
       "<!-- 5009832848 -->\n",
       "<g id=\"node14\" class=\"node\">\n",
       "<title>5009832848</title>\n",
       "<polygon fill=\"lightblue\" stroke=\"black\" points=\"73.65,-808 19.65,-808 19.65,-776 73.65,-776 73.65,-808\"/>\n",
       "<text text-anchor=\"middle\" x=\"46.65\" y=\"-794.4\" font-family=\"Times,serif\" font-size=\"12.00\">W0</text>\n",
       "<text text-anchor=\"middle\" x=\"46.65\" y=\"-782.4\" font-family=\"Times,serif\" font-size=\"12.00\"> (1, 10)</text>\n",
       "</g>\n",
       "<!-- 5009832848&#45;&gt;4998827088 -->\n",
       "<g id=\"edge13\" class=\"edge\">\n",
       "<title>5009832848&#45;&gt;4998827088</title>\n",
       "<path fill=\"none\" stroke=\"black\" d=\"M46.65,-775.86C46.65,-768.13 46.65,-758.63 46.65,-750.37\"/>\n",
       "<polygon fill=\"black\" stroke=\"black\" points=\"50.15,-750.15 46.65,-740.15 43.15,-750.15 50.15,-750.15\"/>\n",
       "</g>\n",
       "<!-- 4998826896 -->\n",
       "<g id=\"node15\" class=\"node\">\n",
       "<title>4998826896</title>\n",
       "<polygon fill=\"lightblue\" stroke=\"black\" points=\"165.65,-684 111.65,-684 111.65,-652 165.65,-652 165.65,-684\"/>\n",
       "<text text-anchor=\"middle\" x=\"138.65\" y=\"-670.4\" font-family=\"Times,serif\" font-size=\"12.00\">W1</text>\n",
       "<text text-anchor=\"middle\" x=\"138.65\" y=\"-658.4\" font-family=\"Times,serif\" font-size=\"12.00\"> (10, 5)</text>\n",
       "</g>\n",
       "<!-- 4998826896&#45;&gt;4998827152 -->\n",
       "<g id=\"edge14\" class=\"edge\">\n",
       "<title>4998826896&#45;&gt;4998827152</title>\n",
       "<path fill=\"none\" stroke=\"black\" d=\"M127.05,-651.86C120.58,-643.42 112.5,-632.89 105.8,-624.15\"/>\n",
       "<polygon fill=\"black\" stroke=\"black\" points=\"108.53,-621.96 99.67,-616.15 102.98,-626.22 108.53,-621.96\"/>\n",
       "</g>\n",
       "<!-- 4998825296 -->\n",
       "<g id=\"node16\" class=\"node\">\n",
       "<title>4998825296</title>\n",
       "<polygon fill=\"lightblue\" stroke=\"black\" points=\"211.65,-560 157.65,-560 157.65,-528 211.65,-528 211.65,-560\"/>\n",
       "<text text-anchor=\"middle\" x=\"184.65\" y=\"-546.4\" font-family=\"Times,serif\" font-size=\"12.00\">W2</text>\n",
       "<text text-anchor=\"middle\" x=\"184.65\" y=\"-534.4\" font-family=\"Times,serif\" font-size=\"12.00\"> (5, 10)</text>\n",
       "</g>\n",
       "<!-- 4998825296&#45;&gt;4998826832 -->\n",
       "<g id=\"edge15\" class=\"edge\">\n",
       "<title>4998825296&#45;&gt;4998826832</title>\n",
       "<path fill=\"none\" stroke=\"black\" d=\"M173.05,-527.86C166.58,-519.42 158.5,-508.89 151.8,-500.15\"/>\n",
       "<polygon fill=\"black\" stroke=\"black\" points=\"154.53,-497.96 145.67,-492.15 148.98,-502.22 154.53,-497.96\"/>\n",
       "</g>\n",
       "<!-- 4998824080 -->\n",
       "<g id=\"node17\" class=\"node\">\n",
       "<title>4998824080</title>\n",
       "<polygon fill=\"lightblue\" stroke=\"black\" points=\"266.15,-436 203.16,-436 203.16,-404 266.15,-404 266.15,-436\"/>\n",
       "<text text-anchor=\"middle\" x=\"234.65\" y=\"-422.4\" font-family=\"Times,serif\" font-size=\"12.00\">W3</text>\n",
       "<text text-anchor=\"middle\" x=\"234.65\" y=\"-410.4\" font-family=\"Times,serif\" font-size=\"12.00\"> (10, 100)</text>\n",
       "</g>\n",
       "<!-- 4998824080&#45;&gt;4998825680 -->\n",
       "<g id=\"edge16\" class=\"edge\">\n",
       "<title>4998824080&#45;&gt;4998825680</title>\n",
       "<path fill=\"none\" stroke=\"black\" d=\"M222.54,-403.86C215.79,-395.42 207.37,-384.89 200.38,-376.15\"/>\n",
       "<polygon fill=\"black\" stroke=\"black\" points=\"202.96,-373.78 193.98,-368.15 197.49,-378.15 202.96,-373.78\"/>\n",
       "</g>\n",
       "<!-- 4998825168 -->\n",
       "<g id=\"node18\" class=\"node\">\n",
       "<title>4998825168</title>\n",
       "<polygon fill=\"lightblue\" stroke=\"black\" points=\"308.15,-312 251.16,-312 251.16,-280 308.15,-280 308.15,-312\"/>\n",
       "<text text-anchor=\"middle\" x=\"279.65\" y=\"-298.4\" font-family=\"Times,serif\" font-size=\"12.00\">W4</text>\n",
       "<text text-anchor=\"middle\" x=\"279.65\" y=\"-286.4\" font-family=\"Times,serif\" font-size=\"12.00\"> (100, 1)</text>\n",
       "</g>\n",
       "<!-- 4998825168&#45;&gt;4998825744 -->\n",
       "<g id=\"edge17\" class=\"edge\">\n",
       "<title>4998825168&#45;&gt;4998825744</title>\n",
       "<path fill=\"none\" stroke=\"black\" d=\"M267.79,-279.86C261.19,-271.42 252.94,-260.89 246.09,-252.15\"/>\n",
       "<polygon fill=\"black\" stroke=\"black\" points=\"248.75,-249.87 239.82,-244.15 243.24,-254.18 248.75,-249.87\"/>\n",
       "</g>\n",
       "</g>\n",
       "</svg>\n"
      ],
      "text/plain": [
       "<graphviz.dot.Digraph at 0x129f33910>"
      ]
     },
     "execution_count": 517,
     "metadata": {},
     "output_type": "execute_result"
    }
   ],
   "source": [
    "params = {f'W{k}':layer.W for k,layer in enumerate(my_model.layers)}\n",
    "make_dot(L, params)"
   ]
  },
  {
   "cell_type": "code",
   "execution_count": 500,
   "metadata": {},
   "outputs": [],
   "source": [
    "import numpy as np"
   ]
  },
  {
   "cell_type": "code",
   "execution_count": 556,
   "metadata": {},
   "outputs": [],
   "source": [
    "my_model = Model([1,100,10,1])\n",
    "\n",
    "n_steps = 1000\n",
    "ϵ = 0.2*10e-7\n",
    "loss_record = []\n",
    "\n",
    "for e in range(n_steps):\n",
    "#     index = np.random.choice(n, int(np.floor(n/2)), replace=False)\n",
    "#     xx, yy = x[index,:], y[index]\n",
    "    ŷ = my_model(x) \n",
    "    L = torch.sum((y-ŷ)**2)/len(ŷ)\n",
    "    \n",
    "    loss_record.append(L.item())\n",
    "    L.backward()\n",
    "    \n",
    "    with torch.no_grad(): # take the gradient descent step \n",
    "        for layer in my_model.layers:\n",
    "            layer.W -= ϵ * layer.W.grad\n",
    "            layer.W.grad.zero_()        "
   ]
  },
  {
   "cell_type": "code",
   "execution_count": 552,
   "metadata": {},
   "outputs": [
    {
     "data": {
      "application/vnd.vegalite.v3+json": {
       "$schema": "https://vega.github.io/schema/vega-lite/v3.4.0.json",
       "config": {
        "mark": {
         "tooltip": null
        },
        "view": {
         "height": 300,
         "width": 400
        }
       },
       "data": {
        "name": "data-e5e548301315e22c6a031d2901facabf"
       },
       "datasets": {
        "data-e5e548301315e22c6a031d2901facabf": [
         {
          "i": 0,
          "loss": 358.27899169921875
         },
         {
          "i": 1,
          "loss": 358.02569580078125
         },
         {
          "i": 2,
          "loss": 357.7730407714844
         },
         {
          "i": 3,
          "loss": 357.5211181640625
         },
         {
          "i": 4,
          "loss": 357.2699279785156
         },
         {
          "i": 5,
          "loss": 357.0193786621094
         },
         {
          "i": 6,
          "loss": 356.7693786621094
         },
         {
          "i": 7,
          "loss": 356.5201110839844
         },
         {
          "i": 8,
          "loss": 356.2713928222656
         },
         {
          "i": 9,
          "loss": 356.0234069824219
         },
         {
          "i": 10,
          "loss": 355.77593994140625
         },
         {
          "i": 11,
          "loss": 355.5291748046875
         },
         {
          "i": 12,
          "loss": 355.28302001953125
         },
         {
          "i": 13,
          "loss": 355.03753662109375
         },
         {
          "i": 14,
          "loss": 354.79266357421875
         },
         {
          "i": 15,
          "loss": 354.5484619140625
         },
         {
          "i": 16,
          "loss": 354.3048400878906
         },
         {
          "i": 17,
          "loss": 354.0618896484375
         },
         {
          "i": 18,
          "loss": 353.8194580078125
         },
         {
          "i": 19,
          "loss": 353.5777587890625
         },
         {
          "i": 20,
          "loss": 353.33660888671875
         },
         {
          "i": 21,
          "loss": 353.0960998535156
         },
         {
          "i": 22,
          "loss": 352.85614013671875
         },
         {
          "i": 23,
          "loss": 352.61688232421875
         },
         {
          "i": 24,
          "loss": 352.3782043457031
         },
         {
          "i": 25,
          "loss": 352.14007568359375
         },
         {
          "i": 26,
          "loss": 351.9026184082031
         },
         {
          "i": 27,
          "loss": 351.66571044921875
         },
         {
          "i": 28,
          "loss": 351.429443359375
         },
         {
          "i": 29,
          "loss": 351.1937561035156
         },
         {
          "i": 30,
          "loss": 350.9586181640625
         },
         {
          "i": 31,
          "loss": 350.72418212890625
         },
         {
          "i": 32,
          "loss": 350.4902648925781
         },
         {
          "i": 33,
          "loss": 350.2569885253906
         },
         {
          "i": 34,
          "loss": 350.02423095703125
         },
         {
          "i": 35,
          "loss": 349.7920837402344
         },
         {
          "i": 36,
          "loss": 349.560546875
         },
         {
          "i": 37,
          "loss": 349.32952880859375
         },
         {
          "i": 38,
          "loss": 349.09918212890625
         },
         {
          "i": 39,
          "loss": 348.8694152832031
         },
         {
          "i": 40,
          "loss": 348.6401062011719
         },
         {
          "i": 41,
          "loss": 348.41143798828125
         },
         {
          "i": 42,
          "loss": 348.1833190917969
         },
         {
          "i": 43,
          "loss": 347.95574951171875
         },
         {
          "i": 44,
          "loss": 347.72882080078125
         },
         {
          "i": 45,
          "loss": 347.5024108886719
         },
         {
          "i": 46,
          "loss": 347.27655029296875
         },
         {
          "i": 47,
          "loss": 347.05133056640625
         },
         {
          "i": 48,
          "loss": 346.8265380859375
         },
         {
          "i": 49,
          "loss": 346.6023864746094
         },
         {
          "i": 50,
          "loss": 346.3787536621094
         },
         {
          "i": 51,
          "loss": 346.1557312011719
         },
         {
          "i": 52,
          "loss": 345.93316650390625
         },
         {
          "i": 53,
          "loss": 345.7112121582031
         },
         {
          "i": 54,
          "loss": 345.4898376464844
         },
         {
          "i": 55,
          "loss": 345.2689514160156
         },
         {
          "i": 56,
          "loss": 345.0487060546875
         },
         {
          "i": 57,
          "loss": 344.8289489746094
         },
         {
          "i": 58,
          "loss": 344.60968017578125
         },
         {
          "i": 59,
          "loss": 344.3909912109375
         },
         {
          "i": 60,
          "loss": 344.1728515625
         },
         {
          "i": 61,
          "loss": 343.9552001953125
         },
         {
          "i": 62,
          "loss": 343.73809814453125
         },
         {
          "i": 63,
          "loss": 343.5215148925781
         },
         {
          "i": 64,
          "loss": 343.30548095703125
         },
         {
          "i": 65,
          "loss": 343.0899658203125
         },
         {
          "i": 66,
          "loss": 342.875
         },
         {
          "i": 67,
          "loss": 342.66058349609375
         },
         {
          "i": 68,
          "loss": 342.4466857910156
         },
         {
          "i": 69,
          "loss": 342.23321533203125
         },
         {
          "i": 70,
          "loss": 342.02032470703125
         },
         {
          "i": 71,
          "loss": 341.80792236328125
         },
         {
          "i": 72,
          "loss": 341.5960693359375
         },
         {
          "i": 73,
          "loss": 341.3847351074219
         },
         {
          "i": 74,
          "loss": 341.1739196777344
         },
         {
          "i": 75,
          "loss": 340.96356201171875
         },
         {
          "i": 76,
          "loss": 340.7537536621094
         },
         {
          "i": 77,
          "loss": 340.5445251464844
         },
         {
          "i": 78,
          "loss": 340.33575439453125
         },
         {
          "i": 79,
          "loss": 340.1274719238281
         },
         {
          "i": 80,
          "loss": 339.9196472167969
         },
         {
          "i": 81,
          "loss": 339.7123718261719
         },
         {
          "i": 82,
          "loss": 339.505615234375
         },
         {
          "i": 83,
          "loss": 339.2992858886719
         },
         {
          "i": 84,
          "loss": 339.0935974121094
         },
         {
          "i": 85,
          "loss": 338.88824462890625
         },
         {
          "i": 86,
          "loss": 338.6834411621094
         },
         {
          "i": 87,
          "loss": 338.4790954589844
         },
         {
          "i": 88,
          "loss": 338.2752380371094
         },
         {
          "i": 89,
          "loss": 338.0718994140625
         },
         {
          "i": 90,
          "loss": 337.8690490722656
         },
         {
          "i": 91,
          "loss": 337.66668701171875
         },
         {
          "i": 92,
          "loss": 337.4647521972656
         },
         {
          "i": 93,
          "loss": 337.26336669921875
         },
         {
          "i": 94,
          "loss": 337.0624084472656
         },
         {
          "i": 95,
          "loss": 336.8620300292969
         },
         {
          "i": 96,
          "loss": 336.6620178222656
         },
         {
          "i": 97,
          "loss": 336.4624938964844
         },
         {
          "i": 98,
          "loss": 336.26348876953125
         },
         {
          "i": 99,
          "loss": 336.0649719238281
         },
         {
          "i": 100,
          "loss": 335.8667907714844
         },
         {
          "i": 101,
          "loss": 335.6692199707031
         },
         {
          "i": 102,
          "loss": 335.4721374511719
         },
         {
          "i": 103,
          "loss": 335.2754211425781
         },
         {
          "i": 104,
          "loss": 335.0791931152344
         },
         {
          "i": 105,
          "loss": 334.8833923339844
         },
         {
          "i": 106,
          "loss": 334.6881103515625
         },
         {
          "i": 107,
          "loss": 334.4932556152344
         },
         {
          "i": 108,
          "loss": 334.2988586425781
         },
         {
          "i": 109,
          "loss": 334.1049499511719
         },
         {
          "i": 110,
          "loss": 333.9114990234375
         },
         {
          "i": 111,
          "loss": 333.7184753417969
         },
         {
          "i": 112,
          "loss": 333.52593994140625
         },
         {
          "i": 113,
          "loss": 333.33380126953125
         },
         {
          "i": 114,
          "loss": 333.14215087890625
         },
         {
          "i": 115,
          "loss": 332.9508972167969
         },
         {
          "i": 116,
          "loss": 332.7601318359375
         },
         {
          "i": 117,
          "loss": 332.5698547363281
         },
         {
          "i": 118,
          "loss": 332.3799743652344
         },
         {
          "i": 119,
          "loss": 332.1905517578125
         },
         {
          "i": 120,
          "loss": 332.0015563964844
         },
         {
          "i": 121,
          "loss": 331.8129577636719
         },
         {
          "i": 122,
          "loss": 331.62481689453125
         },
         {
          "i": 123,
          "loss": 331.4371337890625
         },
         {
          "i": 124,
          "loss": 331.2498779296875
         },
         {
          "i": 125,
          "loss": 331.06304931640625
         },
         {
          "i": 126,
          "loss": 330.876708984375
         },
         {
          "i": 127,
          "loss": 330.69073486328125
         },
         {
          "i": 128,
          "loss": 330.5051574707031
         },
         {
          "i": 129,
          "loss": 330.3200378417969
         },
         {
          "i": 130,
          "loss": 330.1353454589844
         },
         {
          "i": 131,
          "loss": 329.9511413574219
         },
         {
          "i": 132,
          "loss": 329.767333984375
         },
         {
          "i": 133,
          "loss": 329.5838928222656
         },
         {
          "i": 134,
          "loss": 329.4009704589844
         },
         {
          "i": 135,
          "loss": 329.2183532714844
         },
         {
          "i": 136,
          "loss": 329.0362548828125
         },
         {
          "i": 137,
          "loss": 328.8545227050781
         },
         {
          "i": 138,
          "loss": 328.6732482910156
         },
         {
          "i": 139,
          "loss": 328.4923400878906
         },
         {
          "i": 140,
          "loss": 328.3118896484375
         },
         {
          "i": 141,
          "loss": 328.1318054199219
         },
         {
          "i": 142,
          "loss": 327.9521484375
         },
         {
          "i": 143,
          "loss": 327.77288818359375
         },
         {
          "i": 144,
          "loss": 327.593994140625
         },
         {
          "i": 145,
          "loss": 327.4156188964844
         },
         {
          "i": 146,
          "loss": 327.2375183105469
         },
         {
          "i": 147,
          "loss": 327.05987548828125
         },
         {
          "i": 148,
          "loss": 326.8827209472656
         },
         {
          "i": 149,
          "loss": 326.70587158203125
         },
         {
          "i": 150,
          "loss": 326.52947998046875
         },
         {
          "i": 151,
          "loss": 326.3534240722656
         },
         {
          "i": 152,
          "loss": 326.1778259277344
         },
         {
          "i": 153,
          "loss": 326.00262451171875
         },
         {
          "i": 154,
          "loss": 325.8277587890625
         },
         {
          "i": 155,
          "loss": 325.6534118652344
         },
         {
          "i": 156,
          "loss": 325.4793395996094
         },
         {
          "i": 157,
          "loss": 325.3056945800781
         },
         {
          "i": 158,
          "loss": 325.1324157714844
         },
         {
          "i": 159,
          "loss": 324.95953369140625
         },
         {
          "i": 160,
          "loss": 324.78704833984375
         },
         {
          "i": 161,
          "loss": 324.614990234375
         },
         {
          "i": 162,
          "loss": 324.4432678222656
         },
         {
          "i": 163,
          "loss": 324.2719421386719
         },
         {
          "i": 164,
          "loss": 324.1009826660156
         },
         {
          "i": 165,
          "loss": 323.930419921875
         },
         {
          "i": 166,
          "loss": 323.76025390625
         },
         {
          "i": 167,
          "loss": 323.59039306640625
         },
         {
          "i": 168,
          "loss": 323.4209289550781
         },
         {
          "i": 169,
          "loss": 323.2518615722656
         },
         {
          "i": 170,
          "loss": 323.08319091796875
         },
         {
          "i": 171,
          "loss": 322.9149169921875
         },
         {
          "i": 172,
          "loss": 322.7469787597656
         },
         {
          "i": 173,
          "loss": 322.5794372558594
         },
         {
          "i": 174,
          "loss": 322.4122009277344
         },
         {
          "i": 175,
          "loss": 322.2454528808594
         },
         {
          "i": 176,
          "loss": 322.0789794921875
         },
         {
          "i": 177,
          "loss": 321.91290283203125
         },
         {
          "i": 178,
          "loss": 321.7471618652344
         },
         {
          "i": 179,
          "loss": 321.5818786621094
         },
         {
          "i": 180,
          "loss": 321.4169006347656
         },
         {
          "i": 181,
          "loss": 321.2523193359375
         },
         {
          "i": 182,
          "loss": 321.08807373046875
         },
         {
          "i": 183,
          "loss": 320.9241943359375
         },
         {
          "i": 184,
          "loss": 320.76068115234375
         },
         {
          "i": 185,
          "loss": 320.59747314453125
         },
         {
          "i": 186,
          "loss": 320.4347229003906
         },
         {
          "i": 187,
          "loss": 320.27227783203125
         },
         {
          "i": 188,
          "loss": 320.110107421875
         },
         {
          "i": 189,
          "loss": 319.9484558105469
         },
         {
          "i": 190,
          "loss": 319.7870178222656
         },
         {
          "i": 191,
          "loss": 319.6259765625
         },
         {
          "i": 192,
          "loss": 319.4653015136719
         },
         {
          "i": 193,
          "loss": 319.3050231933594
         },
         {
          "i": 194,
          "loss": 319.1450500488281
         },
         {
          "i": 195,
          "loss": 318.9854431152344
         },
         {
          "i": 196,
          "loss": 318.82611083984375
         },
         {
          "i": 197,
          "loss": 318.66717529296875
         },
         {
          "i": 198,
          "loss": 318.5085754394531
         },
         {
          "i": 199,
          "loss": 318.350341796875
         },
         {
          "i": 200,
          "loss": 318.1924743652344
         },
         {
          "i": 201,
          "loss": 318.0349426269531
         },
         {
          "i": 202,
          "loss": 317.8777160644531
         },
         {
          "i": 203,
          "loss": 317.7207946777344
         },
         {
          "i": 204,
          "loss": 317.56427001953125
         },
         {
          "i": 205,
          "loss": 317.4080810546875
         },
         {
          "i": 206,
          "loss": 317.252197265625
         },
         {
          "i": 207,
          "loss": 317.0967102050781
         },
         {
          "i": 208,
          "loss": 316.9415283203125
         },
         {
          "i": 209,
          "loss": 316.78668212890625
         },
         {
          "i": 210,
          "loss": 316.63214111328125
         },
         {
          "i": 211,
          "loss": 316.4779968261719
         },
         {
          "i": 212,
          "loss": 316.3241271972656
         },
         {
          "i": 213,
          "loss": 316.1706237792969
         },
         {
          "i": 214,
          "loss": 316.0174560546875
         },
         {
          "i": 215,
          "loss": 315.86456298828125
         },
         {
          "i": 216,
          "loss": 315.7120056152344
         },
         {
          "i": 217,
          "loss": 315.5598449707031
         },
         {
          "i": 218,
          "loss": 315.407958984375
         },
         {
          "i": 219,
          "loss": 315.2563781738281
         },
         {
          "i": 220,
          "loss": 315.10516357421875
         },
         {
          "i": 221,
          "loss": 314.9542236328125
         },
         {
          "i": 222,
          "loss": 314.8036193847656
         },
         {
          "i": 223,
          "loss": 314.6533508300781
         },
         {
          "i": 224,
          "loss": 314.5033874511719
         },
         {
          "i": 225,
          "loss": 314.353759765625
         },
         {
          "i": 226,
          "loss": 314.2044677734375
         },
         {
          "i": 227,
          "loss": 314.05548095703125
         },
         {
          "i": 228,
          "loss": 313.9067687988281
         },
         {
          "i": 229,
          "loss": 313.7583923339844
         },
         {
          "i": 230,
          "loss": 313.6103515625
         },
         {
          "i": 231,
          "loss": 313.462646484375
         },
         {
          "i": 232,
          "loss": 313.3152160644531
         },
         {
          "i": 233,
          "loss": 313.1680908203125
         },
         {
          "i": 234,
          "loss": 313.02130126953125
         },
         {
          "i": 235,
          "loss": 312.8747863769531
         },
         {
          "i": 236,
          "loss": 312.7286071777344
         },
         {
          "i": 237,
          "loss": 312.58270263671875
         },
         {
          "i": 238,
          "loss": 312.4371032714844
         },
         {
          "i": 239,
          "loss": 312.2918701171875
         },
         {
          "i": 240,
          "loss": 312.1468811035156
         },
         {
          "i": 241,
          "loss": 312.0022277832031
         },
         {
          "i": 242,
          "loss": 311.85791015625
         },
         {
          "i": 243,
          "loss": 311.7138366699219
         },
         {
          "i": 244,
          "loss": 311.570068359375
         },
         {
          "i": 245,
          "loss": 311.4266052246094
         },
         {
          "i": 246,
          "loss": 311.2834777832031
         },
         {
          "i": 247,
          "loss": 311.1405944824219
         },
         {
          "i": 248,
          "loss": 310.9980163574219
         },
         {
          "i": 249,
          "loss": 310.8558349609375
         },
         {
          "i": 250,
          "loss": 310.7138366699219
         },
         {
          "i": 251,
          "loss": 310.5722351074219
         },
         {
          "i": 252,
          "loss": 310.43084716796875
         },
         {
          "i": 253,
          "loss": 310.289794921875
         },
         {
          "i": 254,
          "loss": 310.14898681640625
         },
         {
          "i": 255,
          "loss": 310.00848388671875
         },
         {
          "i": 256,
          "loss": 309.8682861328125
         },
         {
          "i": 257,
          "loss": 309.7283935546875
         },
         {
          "i": 258,
          "loss": 309.5887756347656
         },
         {
          "i": 259,
          "loss": 309.44940185546875
         },
         {
          "i": 260,
          "loss": 309.310302734375
         },
         {
          "i": 261,
          "loss": 309.17156982421875
         },
         {
          "i": 262,
          "loss": 309.03314208984375
         },
         {
          "i": 263,
          "loss": 308.8949279785156
         },
         {
          "i": 264,
          "loss": 308.757080078125
         },
         {
          "i": 265,
          "loss": 308.6194152832031
         },
         {
          "i": 266,
          "loss": 308.48211669921875
         },
         {
          "i": 267,
          "loss": 308.34503173828125
         },
         {
          "i": 268,
          "loss": 308.208251953125
         },
         {
          "i": 269,
          "loss": 308.07177734375
         },
         {
          "i": 270,
          "loss": 307.9355773925781
         },
         {
          "i": 271,
          "loss": 307.79962158203125
         },
         {
          "i": 272,
          "loss": 307.6639404296875
         },
         {
          "i": 273,
          "loss": 307.52862548828125
         },
         {
          "i": 274,
          "loss": 307.3935241699219
         },
         {
          "i": 275,
          "loss": 307.2586975097656
         },
         {
          "i": 276,
          "loss": 307.1241760253906
         },
         {
          "i": 277,
          "loss": 306.9898681640625
         },
         {
          "i": 278,
          "loss": 306.8559265136719
         },
         {
          "i": 279,
          "loss": 306.72222900390625
         },
         {
          "i": 280,
          "loss": 306.5887756347656
         },
         {
          "i": 281,
          "loss": 306.4555969238281
         },
         {
          "i": 282,
          "loss": 306.3227233886719
         },
         {
          "i": 283,
          "loss": 306.1900634765625
         },
         {
          "i": 284,
          "loss": 306.0577087402344
         },
         {
          "i": 285,
          "loss": 305.92559814453125
         },
         {
          "i": 286,
          "loss": 305.79376220703125
         },
         {
          "i": 287,
          "loss": 305.6622009277344
         },
         {
          "i": 288,
          "loss": 305.5308837890625
         },
         {
          "i": 289,
          "loss": 305.39984130859375
         },
         {
          "i": 290,
          "loss": 305.2690734863281
         },
         {
          "i": 291,
          "loss": 305.1385803222656
         },
         {
          "i": 292,
          "loss": 305.00836181640625
         },
         {
          "i": 293,
          "loss": 304.8783874511719
         },
         {
          "i": 294,
          "loss": 304.7486267089844
         },
         {
          "i": 295,
          "loss": 304.6191101074219
         },
         {
          "i": 296,
          "loss": 304.48992919921875
         },
         {
          "i": 297,
          "loss": 304.3609619140625
         },
         {
          "i": 298,
          "loss": 304.2322998046875
         },
         {
          "i": 299,
          "loss": 304.1037902832031
         },
         {
          "i": 300,
          "loss": 303.9756774902344
         },
         {
          "i": 301,
          "loss": 303.8477783203125
         },
         {
          "i": 302,
          "loss": 303.72015380859375
         },
         {
          "i": 303,
          "loss": 303.5927429199219
         },
         {
          "i": 304,
          "loss": 303.465576171875
         },
         {
          "i": 305,
          "loss": 303.3387451171875
         },
         {
          "i": 306,
          "loss": 303.2121276855469
         },
         {
          "i": 307,
          "loss": 303.08575439453125
         },
         {
          "i": 308,
          "loss": 302.9596252441406
         },
         {
          "i": 309,
          "loss": 302.83367919921875
         },
         {
          "i": 310,
          "loss": 302.7080993652344
         },
         {
          "i": 311,
          "loss": 302.5826721191406
         },
         {
          "i": 312,
          "loss": 302.45758056640625
         },
         {
          "i": 313,
          "loss": 302.33270263671875
         },
         {
          "i": 314,
          "loss": 302.2080383300781
         },
         {
          "i": 315,
          "loss": 302.0836181640625
         },
         {
          "i": 316,
          "loss": 301.9595031738281
         },
         {
          "i": 317,
          "loss": 301.8355712890625
         },
         {
          "i": 318,
          "loss": 301.71185302734375
         },
         {
          "i": 319,
          "loss": 301.5885009765625
         },
         {
          "i": 320,
          "loss": 301.4653625488281
         },
         {
          "i": 321,
          "loss": 301.34246826171875
         },
         {
          "i": 322,
          "loss": 301.2197570800781
         },
         {
          "i": 323,
          "loss": 301.09735107421875
         },
         {
          "i": 324,
          "loss": 300.9751281738281
         },
         {
          "i": 325,
          "loss": 300.8531799316406
         },
         {
          "i": 326,
          "loss": 300.73150634765625
         },
         {
          "i": 327,
          "loss": 300.6100158691406
         },
         {
          "i": 328,
          "loss": 300.48876953125
         },
         {
          "i": 329,
          "loss": 300.3677673339844
         },
         {
          "i": 330,
          "loss": 300.2470397949219
         },
         {
          "i": 331,
          "loss": 300.12646484375
         },
         {
          "i": 332,
          "loss": 300.00616455078125
         },
         {
          "i": 333,
          "loss": 299.8861389160156
         },
         {
          "i": 334,
          "loss": 299.7663269042969
         },
         {
          "i": 335,
          "loss": 299.646728515625
         },
         {
          "i": 336,
          "loss": 299.5274353027344
         },
         {
          "i": 337,
          "loss": 299.4083251953125
         },
         {
          "i": 338,
          "loss": 299.2894287109375
         },
         {
          "i": 339,
          "loss": 299.1707458496094
         },
         {
          "i": 340,
          "loss": 299.0523681640625
         },
         {
          "i": 341,
          "loss": 298.9341125488281
         },
         {
          "i": 342,
          "loss": 298.8161926269531
         },
         {
          "i": 343,
          "loss": 298.6984558105469
         },
         {
          "i": 344,
          "loss": 298.5809326171875
         },
         {
          "i": 345,
          "loss": 298.4636535644531
         },
         {
          "i": 346,
          "loss": 298.3465881347656
         },
         {
          "i": 347,
          "loss": 298.2297668457031
         },
         {
          "i": 348,
          "loss": 298.1131591796875
         },
         {
          "i": 349,
          "loss": 297.99676513671875
         },
         {
          "i": 350,
          "loss": 297.880615234375
         },
         {
          "i": 351,
          "loss": 297.76470947265625
         },
         {
          "i": 352,
          "loss": 297.64898681640625
         },
         {
          "i": 353,
          "loss": 297.5334777832031
         },
         {
          "i": 354,
          "loss": 297.41815185546875
         },
         {
          "i": 355,
          "loss": 297.30316162109375
         },
         {
          "i": 356,
          "loss": 297.1883544921875
         },
         {
          "i": 357,
          "loss": 297.07373046875
         },
         {
          "i": 358,
          "loss": 296.95928955078125
         },
         {
          "i": 359,
          "loss": 296.8450927734375
         },
         {
          "i": 360,
          "loss": 296.73114013671875
         },
         {
          "i": 361,
          "loss": 296.6174011230469
         },
         {
          "i": 362,
          "loss": 296.5038757324219
         },
         {
          "i": 363,
          "loss": 296.390625
         },
         {
          "i": 364,
          "loss": 296.277587890625
         },
         {
          "i": 365,
          "loss": 296.16473388671875
         },
         {
          "i": 366,
          "loss": 296.05206298828125
         },
         {
          "i": 367,
          "loss": 295.93963623046875
         },
         {
          "i": 368,
          "loss": 295.82745361328125
         },
         {
          "i": 369,
          "loss": 295.7154846191406
         },
         {
          "i": 370,
          "loss": 295.6036682128906
         },
         {
          "i": 371,
          "loss": 295.49212646484375
         },
         {
          "i": 372,
          "loss": 295.3807678222656
         },
         {
          "i": 373,
          "loss": 295.2695617675781
         },
         {
          "i": 374,
          "loss": 295.1585998535156
         },
         {
          "i": 375,
          "loss": 295.04791259765625
         },
         {
          "i": 376,
          "loss": 294.9373779296875
         },
         {
          "i": 377,
          "loss": 294.8270568847656
         },
         {
          "i": 378,
          "loss": 294.7169189453125
         },
         {
          "i": 379,
          "loss": 294.6070251464844
         },
         {
          "i": 380,
          "loss": 294.4972839355469
         },
         {
          "i": 381,
          "loss": 294.3878173828125
         },
         {
          "i": 382,
          "loss": 294.2785339355469
         },
         {
          "i": 383,
          "loss": 294.1694641113281
         },
         {
          "i": 384,
          "loss": 294.0605773925781
         },
         {
          "i": 385,
          "loss": 293.9519348144531
         },
         {
          "i": 386,
          "loss": 293.84344482421875
         },
         {
          "i": 387,
          "loss": 293.7352600097656
         },
         {
          "i": 388,
          "loss": 293.627197265625
         },
         {
          "i": 389,
          "loss": 293.5193176269531
         },
         {
          "i": 390,
          "loss": 293.4116516113281
         },
         {
          "i": 391,
          "loss": 293.30426025390625
         },
         {
          "i": 392,
          "loss": 293.1969909667969
         },
         {
          "i": 393,
          "loss": 293.0898742675781
         },
         {
          "i": 394,
          "loss": 292.9830322265625
         },
         {
          "i": 395,
          "loss": 292.8764343261719
         },
         {
          "i": 396,
          "loss": 292.7699890136719
         },
         {
          "i": 397,
          "loss": 292.66375732421875
         },
         {
          "i": 398,
          "loss": 292.55767822265625
         },
         {
          "i": 399,
          "loss": 292.45184326171875
         },
         {
          "i": 400,
          "loss": 292.34619140625
         },
         {
          "i": 401,
          "loss": 292.24072265625
         },
         {
          "i": 402,
          "loss": 292.13543701171875
         },
         {
          "i": 403,
          "loss": 292.0303649902344
         },
         {
          "i": 404,
          "loss": 291.92547607421875
         },
         {
          "i": 405,
          "loss": 291.82086181640625
         },
         {
          "i": 406,
          "loss": 291.7163391113281
         },
         {
          "i": 407,
          "loss": 291.6120300292969
         },
         {
          "i": 408,
          "loss": 291.5079345703125
         },
         {
          "i": 409,
          "loss": 291.4040222167969
         },
         {
          "i": 410,
          "loss": 291.30029296875
         },
         {
          "i": 411,
          "loss": 291.1968078613281
         },
         {
          "i": 412,
          "loss": 291.09344482421875
         },
         {
          "i": 413,
          "loss": 290.99029541015625
         },
         {
          "i": 414,
          "loss": 290.8873291015625
         },
         {
          "i": 415,
          "loss": 290.78460693359375
         },
         {
          "i": 416,
          "loss": 290.6820068359375
         },
         {
          "i": 417,
          "loss": 290.5796203613281
         },
         {
          "i": 418,
          "loss": 290.4774475097656
         },
         {
          "i": 419,
          "loss": 290.3753662109375
         },
         {
          "i": 420,
          "loss": 290.2735290527344
         },
         {
          "i": 421,
          "loss": 290.1719055175781
         },
         {
          "i": 422,
          "loss": 290.0704040527344
         },
         {
          "i": 423,
          "loss": 289.9691162109375
         },
         {
          "i": 424,
          "loss": 289.8680725097656
         },
         {
          "i": 425,
          "loss": 289.76715087890625
         },
         {
          "i": 426,
          "loss": 289.6664123535156
         },
         {
          "i": 427,
          "loss": 289.5658874511719
         },
         {
          "i": 428,
          "loss": 289.46551513671875
         },
         {
          "i": 429,
          "loss": 289.3653564453125
         },
         {
          "i": 430,
          "loss": 289.2654113769531
         },
         {
          "i": 431,
          "loss": 289.1656188964844
         },
         {
          "i": 432,
          "loss": 289.0660095214844
         },
         {
          "i": 433,
          "loss": 288.966552734375
         },
         {
          "i": 434,
          "loss": 288.8672180175781
         },
         {
          "i": 435,
          "loss": 288.7681884765625
         },
         {
          "i": 436,
          "loss": 288.6693420410156
         },
         {
          "i": 437,
          "loss": 288.57061767578125
         },
         {
          "i": 438,
          "loss": 288.4720764160156
         },
         {
          "i": 439,
          "loss": 288.3737487792969
         },
         {
          "i": 440,
          "loss": 288.27557373046875
         },
         {
          "i": 441,
          "loss": 288.17755126953125
         },
         {
          "i": 442,
          "loss": 288.0797119140625
         },
         {
          "i": 443,
          "loss": 287.9820556640625
         },
         {
          "i": 444,
          "loss": 287.88458251953125
         },
         {
          "i": 445,
          "loss": 287.78729248046875
         },
         {
          "i": 446,
          "loss": 287.6901550292969
         },
         {
          "i": 447,
          "loss": 287.5932312011719
         },
         {
          "i": 448,
          "loss": 287.4964294433594
         },
         {
          "i": 449,
          "loss": 287.3998107910156
         },
         {
          "i": 450,
          "loss": 287.3033752441406
         },
         {
          "i": 451,
          "loss": 287.2071228027344
         },
         {
          "i": 452,
          "loss": 287.11102294921875
         },
         {
          "i": 453,
          "loss": 287.0151062011719
         },
         {
          "i": 454,
          "loss": 286.9194030761719
         },
         {
          "i": 455,
          "loss": 286.8237609863281
         },
         {
          "i": 456,
          "loss": 286.7283935546875
         },
         {
          "i": 457,
          "loss": 286.63311767578125
         },
         {
          "i": 458,
          "loss": 286.5380554199219
         },
         {
          "i": 459,
          "loss": 286.443115234375
         },
         {
          "i": 460,
          "loss": 286.3484191894531
         },
         {
          "i": 461,
          "loss": 286.2538757324219
         },
         {
          "i": 462,
          "loss": 286.15948486328125
         },
         {
          "i": 463,
          "loss": 286.0653076171875
         },
         {
          "i": 464,
          "loss": 285.9712829589844
         },
         {
          "i": 465,
          "loss": 285.87738037109375
         },
         {
          "i": 466,
          "loss": 285.78363037109375
         },
         {
          "i": 467,
          "loss": 285.6900634765625
         },
         {
          "i": 468,
          "loss": 285.5967102050781
         },
         {
          "i": 469,
          "loss": 285.50347900390625
         },
         {
          "i": 470,
          "loss": 285.41046142578125
         },
         {
          "i": 471,
          "loss": 285.3175964355469
         },
         {
          "i": 472,
          "loss": 285.224853515625
         },
         {
          "i": 473,
          "loss": 285.1322937011719
         },
         {
          "i": 474,
          "loss": 285.0398864746094
         },
         {
          "i": 475,
          "loss": 284.9476318359375
         },
         {
          "i": 476,
          "loss": 284.8555603027344
         },
         {
          "i": 477,
          "loss": 284.76361083984375
         },
         {
          "i": 478,
          "loss": 284.6718444824219
         },
         {
          "i": 479,
          "loss": 284.58026123046875
         },
         {
          "i": 480,
          "loss": 284.4888610839844
         },
         {
          "i": 481,
          "loss": 284.3975830078125
         },
         {
          "i": 482,
          "loss": 284.3064880371094
         },
         {
          "i": 483,
          "loss": 284.21551513671875
         },
         {
          "i": 484,
          "loss": 284.1247253417969
         },
         {
          "i": 485,
          "loss": 284.0340881347656
         },
         {
          "i": 486,
          "loss": 283.94366455078125
         },
         {
          "i": 487,
          "loss": 283.85333251953125
         },
         {
          "i": 488,
          "loss": 283.76318359375
         },
         {
          "i": 489,
          "loss": 283.67315673828125
         },
         {
          "i": 490,
          "loss": 283.5832824707031
         },
         {
          "i": 491,
          "loss": 283.4936218261719
         },
         {
          "i": 492,
          "loss": 283.404052734375
         },
         {
          "i": 493,
          "loss": 283.314697265625
         },
         {
          "i": 494,
          "loss": 283.2254638671875
         },
         {
          "i": 495,
          "loss": 283.13641357421875
         },
         {
          "i": 496,
          "loss": 283.0475158691406
         },
         {
          "i": 497,
          "loss": 282.9587707519531
         },
         {
          "i": 498,
          "loss": 282.8702087402344
         },
         {
          "i": 499,
          "loss": 282.7817687988281
         },
         {
          "i": 500,
          "loss": 282.6934509277344
         },
         {
          "i": 501,
          "loss": 282.6053466796875
         },
         {
          "i": 502,
          "loss": 282.51739501953125
         },
         {
          "i": 503,
          "loss": 282.4295349121094
         },
         {
          "i": 504,
          "loss": 282.3418273925781
         },
         {
          "i": 505,
          "loss": 282.2543640136719
         },
         {
          "i": 506,
          "loss": 282.1669616699219
         },
         {
          "i": 507,
          "loss": 282.0797424316406
         },
         {
          "i": 508,
          "loss": 281.9926452636719
         },
         {
          "i": 509,
          "loss": 281.9057312011719
         },
         {
          "i": 510,
          "loss": 281.8189392089844
         },
         {
          "i": 511,
          "loss": 281.7323303222656
         },
         {
          "i": 512,
          "loss": 281.6457824707031
         },
         {
          "i": 513,
          "loss": 281.5594787597656
         },
         {
          "i": 514,
          "loss": 281.4732971191406
         },
         {
          "i": 515,
          "loss": 281.3872985839844
         },
         {
          "i": 516,
          "loss": 281.3013916015625
         },
         {
          "i": 517,
          "loss": 281.21563720703125
         },
         {
          "i": 518,
          "loss": 281.13006591796875
         },
         {
          "i": 519,
          "loss": 281.04461669921875
         },
         {
          "i": 520,
          "loss": 280.9593505859375
         },
         {
          "i": 521,
          "loss": 280.87420654296875
         },
         {
          "i": 522,
          "loss": 280.7891845703125
         },
         {
          "i": 523,
          "loss": 280.7043151855469
         },
         {
          "i": 524,
          "loss": 280.6195983886719
         },
         {
          "i": 525,
          "loss": 280.53497314453125
         },
         {
          "i": 526,
          "loss": 280.4505920410156
         },
         {
          "i": 527,
          "loss": 280.3663024902344
         },
         {
          "i": 528,
          "loss": 280.2821960449219
         },
         {
          "i": 529,
          "loss": 280.1981201171875
         },
         {
          "i": 530,
          "loss": 280.1142883300781
         },
         {
          "i": 531,
          "loss": 280.03057861328125
         },
         {
          "i": 532,
          "loss": 279.94696044921875
         },
         {
          "i": 533,
          "loss": 279.8634948730469
         },
         {
          "i": 534,
          "loss": 279.7802429199219
         },
         {
          "i": 535,
          "loss": 279.6970520019531
         },
         {
          "i": 536,
          "loss": 279.614013671875
         },
         {
          "i": 537,
          "loss": 279.5311584472656
         },
         {
          "i": 538,
          "loss": 279.44842529296875
         },
         {
          "i": 539,
          "loss": 279.3658142089844
         },
         {
          "i": 540,
          "loss": 279.2832946777344
         },
         {
          "i": 541,
          "loss": 279.2009582519531
         },
         {
          "i": 542,
          "loss": 279.1188049316406
         },
         {
          "i": 543,
          "loss": 279.0367736816406
         },
         {
          "i": 544,
          "loss": 278.95489501953125
         },
         {
          "i": 545,
          "loss": 278.8731689453125
         },
         {
          "i": 546,
          "loss": 278.79150390625
         },
         {
          "i": 547,
          "loss": 278.7100524902344
         },
         {
          "i": 548,
          "loss": 278.6286926269531
         },
         {
          "i": 549,
          "loss": 278.5474853515625
         },
         {
          "i": 550,
          "loss": 278.4664001464844
         },
         {
          "i": 551,
          "loss": 278.385498046875
         },
         {
          "i": 552,
          "loss": 278.3047180175781
         },
         {
          "i": 553,
          "loss": 278.2239990234375
         },
         {
          "i": 554,
          "loss": 278.1434631347656
         },
         {
          "i": 555,
          "loss": 278.0630798339844
         },
         {
          "i": 556,
          "loss": 277.9827880859375
         },
         {
          "i": 557,
          "loss": 277.9026184082031
         },
         {
          "i": 558,
          "loss": 277.8226623535156
         },
         {
          "i": 559,
          "loss": 277.7427673339844
         },
         {
          "i": 560,
          "loss": 277.6630859375
         },
         {
          "i": 561,
          "loss": 277.58349609375
         },
         {
          "i": 562,
          "loss": 277.5040283203125
         },
         {
          "i": 563,
          "loss": 277.4246826171875
         },
         {
          "i": 564,
          "loss": 277.345458984375
         },
         {
          "i": 565,
          "loss": 277.2663879394531
         },
         {
          "i": 566,
          "loss": 277.18743896484375
         },
         {
          "i": 567,
          "loss": 277.10858154296875
         },
         {
          "i": 568,
          "loss": 277.0299377441406
         },
         {
          "i": 569,
          "loss": 276.95135498046875
         },
         {
          "i": 570,
          "loss": 276.8729553222656
         },
         {
          "i": 571,
          "loss": 276.79461669921875
         },
         {
          "i": 572,
          "loss": 276.71649169921875
         },
         {
          "i": 573,
          "loss": 276.638427734375
         },
         {
          "i": 574,
          "loss": 276.560546875
         },
         {
          "i": 575,
          "loss": 276.4827880859375
         },
         {
          "i": 576,
          "loss": 276.4051513671875
         },
         {
          "i": 577,
          "loss": 276.3276062011719
         },
         {
          "i": 578,
          "loss": 276.2502136230469
         },
         {
          "i": 579,
          "loss": 276.1729736328125
         },
         {
          "i": 580,
          "loss": 276.0958251953125
         },
         {
          "i": 581,
          "loss": 276.01885986328125
         },
         {
          "i": 582,
          "loss": 275.9419250488281
         },
         {
          "i": 583,
          "loss": 275.8651428222656
         },
         {
          "i": 584,
          "loss": 275.78851318359375
         },
         {
          "i": 585,
          "loss": 275.7120056152344
         },
         {
          "i": 586,
          "loss": 275.6356506347656
         },
         {
          "i": 587,
          "loss": 275.55938720703125
         },
         {
          "i": 588,
          "loss": 275.48321533203125
         },
         {
          "i": 589,
          "loss": 275.4071960449219
         },
         {
          "i": 590,
          "loss": 275.33135986328125
         },
         {
          "i": 591,
          "loss": 275.255615234375
         },
         {
          "i": 592,
          "loss": 275.17999267578125
         },
         {
          "i": 593,
          "loss": 275.1044616699219
         },
         {
          "i": 594,
          "loss": 275.029052734375
         },
         {
          "i": 595,
          "loss": 274.9537658691406
         },
         {
          "i": 596,
          "loss": 274.878662109375
         },
         {
          "i": 597,
          "loss": 274.8035888671875
         },
         {
          "i": 598,
          "loss": 274.7286376953125
         },
         {
          "i": 599,
          "loss": 274.6539001464844
         },
         {
          "i": 600,
          "loss": 274.5792236328125
         },
         {
          "i": 601,
          "loss": 274.5046691894531
         },
         {
          "i": 602,
          "loss": 274.4302673339844
         },
         {
          "i": 603,
          "loss": 274.35601806640625
         },
         {
          "i": 604,
          "loss": 274.28179931640625
         },
         {
          "i": 605,
          "loss": 274.207763671875
         },
         {
          "i": 606,
          "loss": 274.1338195800781
         },
         {
          "i": 607,
          "loss": 274.05999755859375
         },
         {
          "i": 608,
          "loss": 273.9862976074219
         },
         {
          "i": 609,
          "loss": 273.9127502441406
         },
         {
          "i": 610,
          "loss": 273.8392639160156
         },
         {
          "i": 611,
          "loss": 273.76593017578125
         },
         {
          "i": 612,
          "loss": 273.6927490234375
         },
         {
          "i": 613,
          "loss": 273.6196594238281
         },
         {
          "i": 614,
          "loss": 273.54669189453125
         },
         {
          "i": 615,
          "loss": 273.4737548828125
         },
         {
          "i": 616,
          "loss": 273.4010314941406
         },
         {
          "i": 617,
          "loss": 273.32843017578125
         },
         {
          "i": 618,
          "loss": 273.255859375
         },
         {
          "i": 619,
          "loss": 273.1834716796875
         },
         {
          "i": 620,
          "loss": 273.11114501953125
         },
         {
          "i": 621,
          "loss": 273.0389709472656
         },
         {
          "i": 622,
          "loss": 272.9668884277344
         },
         {
          "i": 623,
          "loss": 272.8949279785156
         },
         {
          "i": 624,
          "loss": 272.8231201171875
         },
         {
          "i": 625,
          "loss": 272.75140380859375
         },
         {
          "i": 626,
          "loss": 272.6797790527344
         },
         {
          "i": 627,
          "loss": 272.6083068847656
         },
         {
          "i": 628,
          "loss": 272.53692626953125
         },
         {
          "i": 629,
          "loss": 272.46563720703125
         },
         {
          "i": 630,
          "loss": 272.3945007324219
         },
         {
          "i": 631,
          "loss": 272.323486328125
         },
         {
          "i": 632,
          "loss": 272.2525329589844
         },
         {
          "i": 633,
          "loss": 272.1817321777344
         },
         {
          "i": 634,
          "loss": 272.11102294921875
         },
         {
          "i": 635,
          "loss": 272.04046630859375
         },
         {
          "i": 636,
          "loss": 271.969970703125
         },
         {
          "i": 637,
          "loss": 271.8996276855469
         },
         {
          "i": 638,
          "loss": 271.829345703125
         },
         {
          "i": 639,
          "loss": 271.7592468261719
         },
         {
          "i": 640,
          "loss": 271.6892395019531
         },
         {
          "i": 641,
          "loss": 271.61932373046875
         },
         {
          "i": 642,
          "loss": 271.54949951171875
         },
         {
          "i": 643,
          "loss": 271.4798278808594
         },
         {
          "i": 644,
          "loss": 271.4102478027344
         },
         {
          "i": 645,
          "loss": 271.3407897949219
         },
         {
          "i": 646,
          "loss": 271.27142333984375
         },
         {
          "i": 647,
          "loss": 271.2021484375
         },
         {
          "i": 648,
          "loss": 271.133056640625
         },
         {
          "i": 649,
          "loss": 271.06402587890625
         },
         {
          "i": 650,
          "loss": 270.9950866699219
         },
         {
          "i": 651,
          "loss": 270.9263000488281
         },
         {
          "i": 652,
          "loss": 270.85760498046875
         },
         {
          "i": 653,
          "loss": 270.7889709472656
         },
         {
          "i": 654,
          "loss": 270.7204895019531
         },
         {
          "i": 655,
          "loss": 270.6520690917969
         },
         {
          "i": 656,
          "loss": 270.5838623046875
         },
         {
          "i": 657,
          "loss": 270.515625
         },
         {
          "i": 658,
          "loss": 270.44757080078125
         },
         {
          "i": 659,
          "loss": 270.37957763671875
         },
         {
          "i": 660,
          "loss": 270.311767578125
         },
         {
          "i": 661,
          "loss": 270.2440185546875
         },
         {
          "i": 662,
          "loss": 270.1763610839844
         },
         {
          "i": 663,
          "loss": 270.1087951660156
         },
         {
          "i": 664,
          "loss": 270.0413818359375
         },
         {
          "i": 665,
          "loss": 269.9739685058594
         },
         {
          "i": 666,
          "loss": 269.9067687988281
         },
         {
          "i": 667,
          "loss": 269.8396301269531
         },
         {
          "i": 668,
          "loss": 269.77264404296875
         },
         {
          "i": 669,
          "loss": 269.70574951171875
         },
         {
          "i": 670,
          "loss": 269.6389465332031
         },
         {
          "i": 671,
          "loss": 269.5722351074219
         },
         {
          "i": 672,
          "loss": 269.5056457519531
         },
         {
          "i": 673,
          "loss": 269.43914794921875
         },
         {
          "i": 674,
          "loss": 269.37274169921875
         },
         {
          "i": 675,
          "loss": 269.3064880371094
         },
         {
          "i": 676,
          "loss": 269.2402648925781
         },
         {
          "i": 677,
          "loss": 269.1741943359375
         },
         {
          "i": 678,
          "loss": 269.10821533203125
         },
         {
          "i": 679,
          "loss": 269.0423278808594
         },
         {
          "i": 680,
          "loss": 268.9765625
         },
         {
          "i": 681,
          "loss": 268.910888671875
         },
         {
          "i": 682,
          "loss": 268.8453063964844
         },
         {
          "i": 683,
          "loss": 268.7798156738281
         },
         {
          "i": 684,
          "loss": 268.7143859863281
         },
         {
          "i": 685,
          "loss": 268.649169921875
         },
         {
          "i": 686,
          "loss": 268.5840148925781
         },
         {
          "i": 687,
          "loss": 268.5189208984375
         },
         {
          "i": 688,
          "loss": 268.45391845703125
         },
         {
          "i": 689,
          "loss": 268.3890686035156
         },
         {
          "i": 690,
          "loss": 268.3243103027344
         },
         {
          "i": 691,
          "loss": 268.2596435546875
         },
         {
          "i": 692,
          "loss": 268.195068359375
         },
         {
          "i": 693,
          "loss": 268.130615234375
         },
         {
          "i": 694,
          "loss": 268.0662536621094
         },
         {
          "i": 695,
          "loss": 268.0019226074219
         },
         {
          "i": 696,
          "loss": 267.937744140625
         },
         {
          "i": 697,
          "loss": 267.8736267089844
         },
         {
          "i": 698,
          "loss": 267.80963134765625
         },
         {
          "i": 699,
          "loss": 267.7457580566406
         },
         {
          "i": 700,
          "loss": 267.68194580078125
         },
         {
          "i": 701,
          "loss": 267.6182861328125
         },
         {
          "i": 702,
          "loss": 267.5546875
         },
         {
          "i": 703,
          "loss": 267.4911193847656
         },
         {
          "i": 704,
          "loss": 267.427734375
         },
         {
          "i": 705,
          "loss": 267.36444091796875
         },
         {
          "i": 706,
          "loss": 267.3011779785156
         },
         {
          "i": 707,
          "loss": 267.2381286621094
         },
         {
          "i": 708,
          "loss": 267.1750793457031
         },
         {
          "i": 709,
          "loss": 267.1121826171875
         },
         {
          "i": 710,
          "loss": 267.04931640625
         },
         {
          "i": 711,
          "loss": 266.986572265625
         },
         {
          "i": 712,
          "loss": 266.9239196777344
         },
         {
          "i": 713,
          "loss": 266.8613586425781
         },
         {
          "i": 714,
          "loss": 266.7989196777344
         },
         {
          "i": 715,
          "loss": 266.73651123046875
         },
         {
          "i": 716,
          "loss": 266.6742858886719
         },
         {
          "i": 717,
          "loss": 266.612060546875
         },
         {
          "i": 718,
          "loss": 266.54998779296875
         },
         {
          "i": 719,
          "loss": 266.4880065917969
         },
         {
          "i": 720,
          "loss": 266.4261474609375
         },
         {
          "i": 721,
          "loss": 266.3643493652344
         },
         {
          "i": 722,
          "loss": 266.3026123046875
         },
         {
          "i": 723,
          "loss": 266.2410888671875
         },
         {
          "i": 724,
          "loss": 266.1795349121094
         },
         {
          "i": 725,
          "loss": 266.1180725097656
         },
         {
          "i": 726,
          "loss": 266.0567626953125
         },
         {
          "i": 727,
          "loss": 265.9955139160156
         },
         {
          "i": 728,
          "loss": 265.93438720703125
         },
         {
          "i": 729,
          "loss": 265.873291015625
         },
         {
          "i": 730,
          "loss": 265.81231689453125
         },
         {
          "i": 731,
          "loss": 265.7514953613281
         },
         {
          "i": 732,
          "loss": 265.6906433105469
         },
         {
          "i": 733,
          "loss": 265.62994384765625
         },
         {
          "i": 734,
          "loss": 265.5693359375
         },
         {
          "i": 735,
          "loss": 265.5088806152344
         },
         {
          "i": 736,
          "loss": 265.44842529296875
         },
         {
          "i": 737,
          "loss": 265.3880920410156
         },
         {
          "i": 738,
          "loss": 265.32781982421875
         },
         {
          "i": 739,
          "loss": 265.2676696777344
         },
         {
          "i": 740,
          "loss": 265.2076416015625
         },
         {
          "i": 741,
          "loss": 265.14764404296875
         },
         {
          "i": 742,
          "loss": 265.0877685546875
         },
         {
          "i": 743,
          "loss": 265.02801513671875
         },
         {
          "i": 744,
          "loss": 264.96826171875
         },
         {
          "i": 745,
          "loss": 264.9086608886719
         },
         {
          "i": 746,
          "loss": 264.8491516113281
         },
         {
          "i": 747,
          "loss": 264.7896728515625
         },
         {
          "i": 748,
          "loss": 264.73028564453125
         },
         {
          "i": 749,
          "loss": 264.6710205078125
         },
         {
          "i": 750,
          "loss": 264.61187744140625
         },
         {
          "i": 751,
          "loss": 264.5527648925781
         },
         {
          "i": 752,
          "loss": 264.4938049316406
         },
         {
          "i": 753,
          "loss": 264.4349365234375
         },
         {
          "i": 754,
          "loss": 264.37603759765625
         },
         {
          "i": 755,
          "loss": 264.3172912597656
         },
         {
          "i": 756,
          "loss": 264.2586669921875
         },
         {
          "i": 757,
          "loss": 264.2000732421875
         },
         {
          "i": 758,
          "loss": 264.1416015625
         },
         {
          "i": 759,
          "loss": 264.0832214355469
         },
         {
          "i": 760,
          "loss": 264.0248718261719
         },
         {
          "i": 761,
          "loss": 263.9666748046875
         },
         {
          "i": 762,
          "loss": 263.90850830078125
         },
         {
          "i": 763,
          "loss": 263.8504638671875
         },
         {
          "i": 764,
          "loss": 263.79248046875
         },
         {
          "i": 765,
          "loss": 263.7345886230469
         },
         {
          "i": 766,
          "loss": 263.6768493652344
         },
         {
          "i": 767,
          "loss": 263.61907958984375
         },
         {
          "i": 768,
          "loss": 263.56146240234375
         },
         {
          "i": 769,
          "loss": 263.5039367675781
         },
         {
          "i": 770,
          "loss": 263.4464111328125
         },
         {
          "i": 771,
          "loss": 263.3890380859375
         },
         {
          "i": 772,
          "loss": 263.33172607421875
         },
         {
          "i": 773,
          "loss": 263.2745361328125
         },
         {
          "i": 774,
          "loss": 263.21734619140625
         },
         {
          "i": 775,
          "loss": 263.1602783203125
         },
         {
          "i": 776,
          "loss": 263.10333251953125
         },
         {
          "i": 777,
          "loss": 263.0464782714844
         },
         {
          "i": 778,
          "loss": 262.9896545410156
         },
         {
          "i": 779,
          "loss": 262.9329833984375
         },
         {
          "i": 780,
          "loss": 262.8763427734375
         },
         {
          "i": 781,
          "loss": 262.81976318359375
         },
         {
          "i": 782,
          "loss": 262.7633056640625
         },
         {
          "i": 783,
          "loss": 262.7069091796875
         },
         {
          "i": 784,
          "loss": 262.6506042480469
         },
         {
          "i": 785,
          "loss": 262.5943603515625
         },
         {
          "i": 786,
          "loss": 262.5381774902344
         },
         {
          "i": 787,
          "loss": 262.48211669921875
         },
         {
          "i": 788,
          "loss": 262.4261779785156
         },
         {
          "i": 789,
          "loss": 262.3702392578125
         },
         {
          "i": 790,
          "loss": 262.3144226074219
         },
         {
          "i": 791,
          "loss": 262.2586669921875
         },
         {
          "i": 792,
          "loss": 262.2030334472656
         },
         {
          "i": 793,
          "loss": 262.1474304199219
         },
         {
          "i": 794,
          "loss": 262.0919189453125
         },
         {
          "i": 795,
          "loss": 262.0365295410156
         },
         {
          "i": 796,
          "loss": 261.981201171875
         },
         {
          "i": 797,
          "loss": 261.92596435546875
         },
         {
          "i": 798,
          "loss": 261.8707275390625
         },
         {
          "i": 799,
          "loss": 261.8156433105469
         },
         {
          "i": 800,
          "loss": 261.7606506347656
         },
         {
          "i": 801,
          "loss": 261.7056884765625
         },
         {
          "i": 802,
          "loss": 261.6508483886719
         },
         {
          "i": 803,
          "loss": 261.5960998535156
         },
         {
          "i": 804,
          "loss": 261.5413818359375
         },
         {
          "i": 805,
          "loss": 261.4867858886719
         },
         {
          "i": 806,
          "loss": 261.4322204589844
         },
         {
          "i": 807,
          "loss": 261.37774658203125
         },
         {
          "i": 808,
          "loss": 261.3233337402344
         },
         {
          "i": 809,
          "loss": 261.2690124511719
         },
         {
          "i": 810,
          "loss": 261.21478271484375
         },
         {
          "i": 811,
          "loss": 261.1606140136719
         },
         {
          "i": 812,
          "loss": 261.1065368652344
         },
         {
          "i": 813,
          "loss": 261.0525207519531
         },
         {
          "i": 814,
          "loss": 260.9985656738281
         },
         {
          "i": 815,
          "loss": 260.9447326660156
         },
         {
          "i": 816,
          "loss": 260.89093017578125
         },
         {
          "i": 817,
          "loss": 260.8372802734375
         },
         {
          "i": 818,
          "loss": 260.7835998535156
         },
         {
          "i": 819,
          "loss": 260.7300720214844
         },
         {
          "i": 820,
          "loss": 260.67657470703125
         },
         {
          "i": 821,
          "loss": 260.6231994628906
         },
         {
          "i": 822,
          "loss": 260.5698547363281
         },
         {
          "i": 823,
          "loss": 260.5166320800781
         },
         {
          "i": 824,
          "loss": 260.4634704589844
         },
         {
          "i": 825,
          "loss": 260.410400390625
         },
         {
          "i": 826,
          "loss": 260.3573303222656
         },
         {
          "i": 827,
          "loss": 260.30438232421875
         },
         {
          "i": 828,
          "loss": 260.2514953613281
         },
         {
          "i": 829,
          "loss": 260.19873046875
         },
         {
          "i": 830,
          "loss": 260.1459655761719
         },
         {
          "i": 831,
          "loss": 260.0933532714844
         },
         {
          "i": 832,
          "loss": 260.040771484375
         },
         {
          "i": 833,
          "loss": 259.9882507324219
         },
         {
          "i": 834,
          "loss": 259.9358215332031
         },
         {
          "i": 835,
          "loss": 259.88348388671875
         },
         {
          "i": 836,
          "loss": 259.8311767578125
         },
         {
          "i": 837,
          "loss": 259.77899169921875
         },
         {
          "i": 838,
          "loss": 259.7268981933594
         },
         {
          "i": 839,
          "loss": 259.6748352050781
         },
         {
          "i": 840,
          "loss": 259.62286376953125
         },
         {
          "i": 841,
          "loss": 259.5709533691406
         },
         {
          "i": 842,
          "loss": 259.5190734863281
         },
         {
          "i": 843,
          "loss": 259.46734619140625
         },
         {
          "i": 844,
          "loss": 259.41558837890625
         },
         {
          "i": 845,
          "loss": 259.36395263671875
         },
         {
          "i": 846,
          "loss": 259.31243896484375
         },
         {
          "i": 847,
          "loss": 259.26092529296875
         },
         {
          "i": 848,
          "loss": 259.2095642089844
         },
         {
          "i": 849,
          "loss": 259.1581726074219
         },
         {
          "i": 850,
          "loss": 259.1069030761719
         },
         {
          "i": 851,
          "loss": 259.0556945800781
         },
         {
          "i": 852,
          "loss": 259.00457763671875
         },
         {
          "i": 853,
          "loss": 258.9535217285156
         },
         {
          "i": 854,
          "loss": 258.90252685546875
         },
         {
          "i": 855,
          "loss": 258.8515930175781
         },
         {
          "i": 856,
          "loss": 258.8007507324219
         },
         {
          "i": 857,
          "loss": 258.7499694824219
         },
         {
          "i": 858,
          "loss": 258.69927978515625
         },
         {
          "i": 859,
          "loss": 258.648681640625
         },
         {
          "i": 860,
          "loss": 258.5981140136719
         },
         {
          "i": 861,
          "loss": 258.5476379394531
         },
         {
          "i": 862,
          "loss": 258.49725341796875
         },
         {
          "i": 863,
          "loss": 258.4469299316406
         },
         {
          "i": 864,
          "loss": 258.39666748046875
         },
         {
          "i": 865,
          "loss": 258.346435546875
         },
         {
          "i": 866,
          "loss": 258.29632568359375
         },
         {
          "i": 867,
          "loss": 258.24627685546875
         },
         {
          "i": 868,
          "loss": 258.1962585449219
         },
         {
          "i": 869,
          "loss": 258.1463623046875
         },
         {
          "i": 870,
          "loss": 258.0964660644531
         },
         {
          "i": 871,
          "loss": 258.046630859375
         },
         {
          "i": 872,
          "loss": 257.99688720703125
         },
         {
          "i": 873,
          "loss": 257.94720458984375
         },
         {
          "i": 874,
          "loss": 257.89764404296875
         },
         {
          "i": 875,
          "loss": 257.8481140136719
         },
         {
          "i": 876,
          "loss": 257.79864501953125
         },
         {
          "i": 877,
          "loss": 257.749267578125
         },
         {
          "i": 878,
          "loss": 257.6999816894531
         },
         {
          "i": 879,
          "loss": 257.6507568359375
         },
         {
          "i": 880,
          "loss": 257.6015930175781
         },
         {
          "i": 881,
          "loss": 257.5524597167969
         },
         {
          "i": 882,
          "loss": 257.50341796875
         },
         {
          "i": 883,
          "loss": 257.4544677734375
         },
         {
          "i": 884,
          "loss": 257.405517578125
         },
         {
          "i": 885,
          "loss": 257.3567199707031
         },
         {
          "i": 886,
          "loss": 257.3079528808594
         },
         {
          "i": 887,
          "loss": 257.2591857910156
         },
         {
          "i": 888,
          "loss": 257.2105712890625
         },
         {
          "i": 889,
          "loss": 257.1619873046875
         },
         {
          "i": 890,
          "loss": 257.11346435546875
         },
         {
          "i": 891,
          "loss": 257.0650329589844
         },
         {
          "i": 892,
          "loss": 257.0166320800781
         },
         {
          "i": 893,
          "loss": 256.96832275390625
         },
         {
          "i": 894,
          "loss": 256.9200744628906
         },
         {
          "i": 895,
          "loss": 256.8719482421875
         },
         {
          "i": 896,
          "loss": 256.8237609863281
         },
         {
          "i": 897,
          "loss": 256.7757568359375
         },
         {
          "i": 898,
          "loss": 256.727783203125
         },
         {
          "i": 899,
          "loss": 256.6798400878906
         },
         {
          "i": 900,
          "loss": 256.6319885253906
         },
         {
          "i": 901,
          "loss": 256.5841979980469
         },
         {
          "i": 902,
          "loss": 256.5364990234375
         },
         {
          "i": 903,
          "loss": 256.4888610839844
         },
         {
          "i": 904,
          "loss": 256.4412536621094
         },
         {
          "i": 905,
          "loss": 256.39373779296875
         },
         {
          "i": 906,
          "loss": 256.34625244140625
         },
         {
          "i": 907,
          "loss": 256.2988586425781
         },
         {
          "i": 908,
          "loss": 256.2514953613281
         },
         {
          "i": 909,
          "loss": 256.2042541503906
         },
         {
          "i": 910,
          "loss": 256.156982421875
         },
         {
          "i": 911,
          "loss": 256.10986328125
         },
         {
          "i": 912,
          "loss": 256.062744140625
         },
         {
          "i": 913,
          "loss": 256.01568603515625
         },
         {
          "i": 914,
          "loss": 255.96875
         },
         {
          "i": 915,
          "loss": 255.92181396484375
         },
         {
          "i": 916,
          "loss": 255.87501525878906
         },
         {
          "i": 917,
          "loss": 255.8282470703125
         },
         {
          "i": 918,
          "loss": 255.78150939941406
         },
         {
          "i": 919,
          "loss": 255.73486328125
         },
         {
          "i": 920,
          "loss": 255.68826293945312
         },
         {
          "i": 921,
          "loss": 255.64175415039062
         },
         {
          "i": 922,
          "loss": 255.59530639648438
         },
         {
          "i": 923,
          "loss": 255.54891967773438
         },
         {
          "i": 924,
          "loss": 255.50257873535156
         },
         {
          "i": 925,
          "loss": 255.45632934570312
         },
         {
          "i": 926,
          "loss": 255.4101104736328
         },
         {
          "i": 927,
          "loss": 255.3639678955078
         },
         {
          "i": 928,
          "loss": 255.31787109375
         },
         {
          "i": 929,
          "loss": 255.2718505859375
         },
         {
          "i": 930,
          "loss": 255.22592163085938
         },
         {
          "i": 931,
          "loss": 255.18002319335938
         },
         {
          "i": 932,
          "loss": 255.13418579101562
         },
         {
          "i": 933,
          "loss": 255.08836364746094
         },
         {
          "i": 934,
          "loss": 255.0426788330078
         },
         {
          "i": 935,
          "loss": 254.9970245361328
         },
         {
          "i": 936,
          "loss": 254.95140075683594
         },
         {
          "i": 937,
          "loss": 254.9058837890625
         },
         {
          "i": 938,
          "loss": 254.86041259765625
         },
         {
          "i": 939,
          "loss": 254.81500244140625
         },
         {
          "i": 940,
          "loss": 254.7696533203125
         },
         {
          "i": 941,
          "loss": 254.7243194580078
         },
         {
          "i": 942,
          "loss": 254.6791229248047
         },
         {
          "i": 943,
          "loss": 254.63397216796875
         },
         {
          "i": 944,
          "loss": 254.58885192871094
         },
         {
          "i": 945,
          "loss": 254.54379272460938
         },
         {
          "i": 946,
          "loss": 254.4988250732422
         },
         {
          "i": 947,
          "loss": 254.45384216308594
         },
         {
          "i": 948,
          "loss": 254.4089813232422
         },
         {
          "i": 949,
          "loss": 254.36416625976562
         },
         {
          "i": 950,
          "loss": 254.31939697265625
         },
         {
          "i": 951,
          "loss": 254.27468872070312
         },
         {
          "i": 952,
          "loss": 254.2300567626953
         },
         {
          "i": 953,
          "loss": 254.1854705810547
         },
         {
          "i": 954,
          "loss": 254.14096069335938
         },
         {
          "i": 955,
          "loss": 254.0964813232422
         },
         {
          "i": 956,
          "loss": 254.05209350585938
         },
         {
          "i": 957,
          "loss": 254.00772094726562
         },
         {
          "i": 958,
          "loss": 253.9634246826172
         },
         {
          "i": 959,
          "loss": 253.9192352294922
         },
         {
          "i": 960,
          "loss": 253.87506103515625
         },
         {
          "i": 961,
          "loss": 253.83096313476562
         },
         {
          "i": 962,
          "loss": 253.78684997558594
         },
         {
          "i": 963,
          "loss": 253.74285888671875
         },
         {
          "i": 964,
          "loss": 253.69888305664062
         },
         {
          "i": 965,
          "loss": 253.65504455566406
         },
         {
          "i": 966,
          "loss": 253.61119079589844
         },
         {
          "i": 967,
          "loss": 253.5673828125
         },
         {
          "i": 968,
          "loss": 253.52365112304688
         },
         {
          "i": 969,
          "loss": 253.47999572753906
         },
         {
          "i": 970,
          "loss": 253.43634033203125
         },
         {
          "i": 971,
          "loss": 253.39280700683594
         },
         {
          "i": 972,
          "loss": 253.34933471679688
         },
         {
          "i": 973,
          "loss": 253.30587768554688
         },
         {
          "i": 974,
          "loss": 253.26254272460938
         },
         {
          "i": 975,
          "loss": 253.2191925048828
         },
         {
          "i": 976,
          "loss": 253.17596435546875
         },
         {
          "i": 977,
          "loss": 253.13275146484375
         },
         {
          "i": 978,
          "loss": 253.08958435058594
         },
         {
          "i": 979,
          "loss": 253.0464630126953
         },
         {
          "i": 980,
          "loss": 253.00343322753906
         },
         {
          "i": 981,
          "loss": 252.96043395996094
         },
         {
          "i": 982,
          "loss": 252.91754150390625
         },
         {
          "i": 983,
          "loss": 252.87460327148438
         },
         {
          "i": 984,
          "loss": 252.83181762695312
         },
         {
          "i": 985,
          "loss": 252.78904724121094
         },
         {
          "i": 986,
          "loss": 252.74635314941406
         },
         {
          "i": 987,
          "loss": 252.7036895751953
         },
         {
          "i": 988,
          "loss": 252.66111755371094
         },
         {
          "i": 989,
          "loss": 252.6185760498047
         },
         {
          "i": 990,
          "loss": 252.5760498046875
         },
         {
          "i": 991,
          "loss": 252.53369140625
         },
         {
          "i": 992,
          "loss": 252.49130249023438
         },
         {
          "i": 993,
          "loss": 252.44895935058594
         },
         {
          "i": 994,
          "loss": 252.4066925048828
         },
         {
          "i": 995,
          "loss": 252.36447143554688
         },
         {
          "i": 996,
          "loss": 252.3223876953125
         },
         {
          "i": 997,
          "loss": 252.28025817871094
         },
         {
          "i": 998,
          "loss": 252.23818969726562
         },
         {
          "i": 999,
          "loss": 252.19622802734375
         },
         {
          "i": 1000,
          "loss": 252.1542510986328
         },
         {
          "i": 1001,
          "loss": 252.11236572265625
         },
         {
          "i": 1002,
          "loss": 252.07057189941406
         },
         {
          "i": 1003,
          "loss": 252.02880859375
         },
         {
          "i": 1004,
          "loss": 251.98709106445312
         },
         {
          "i": 1005,
          "loss": 251.94540405273438
         },
         {
          "i": 1006,
          "loss": 251.90379333496094
         },
         {
          "i": 1007,
          "loss": 251.86224365234375
         },
         {
          "i": 1008,
          "loss": 251.82073974609375
         },
         {
          "i": 1009,
          "loss": 251.77931213378906
         },
         {
          "i": 1010,
          "loss": 251.73788452148438
         },
         {
          "i": 1011,
          "loss": 251.69656372070312
         },
         {
          "i": 1012,
          "loss": 251.65525817871094
         },
         {
          "i": 1013,
          "loss": 251.61399841308594
         },
         {
          "i": 1014,
          "loss": 251.5728302001953
         },
         {
          "i": 1015,
          "loss": 251.53167724609375
         },
         {
          "i": 1016,
          "loss": 251.49058532714844
         },
         {
          "i": 1017,
          "loss": 251.44955444335938
         },
         {
          "i": 1018,
          "loss": 251.4085693359375
         },
         {
          "i": 1019,
          "loss": 251.36761474609375
         },
         {
          "i": 1020,
          "loss": 251.3267059326172
         },
         {
          "i": 1021,
          "loss": 251.28587341308594
         },
         {
          "i": 1022,
          "loss": 251.24510192871094
         },
         {
          "i": 1023,
          "loss": 251.20433044433594
         },
         {
          "i": 1024,
          "loss": 251.1636505126953
         },
         {
          "i": 1025,
          "loss": 251.1230010986328
         },
         {
          "i": 1026,
          "loss": 251.0824432373047
         },
         {
          "i": 1027,
          "loss": 251.04190063476562
         },
         {
          "i": 1028,
          "loss": 251.00144958496094
         },
         {
          "i": 1029,
          "loss": 250.96102905273438
         },
         {
          "i": 1030,
          "loss": 250.92063903808594
         },
         {
          "i": 1031,
          "loss": 250.8803253173828
         },
         {
          "i": 1032,
          "loss": 250.8400421142578
         },
         {
          "i": 1033,
          "loss": 250.7998504638672
         },
         {
          "i": 1034,
          "loss": 250.75967407226562
         },
         {
          "i": 1035,
          "loss": 250.71954345703125
         },
         {
          "i": 1036,
          "loss": 250.67947387695312
         },
         {
          "i": 1037,
          "loss": 250.63946533203125
         },
         {
          "i": 1038,
          "loss": 250.5995635986328
         },
         {
          "i": 1039,
          "loss": 250.55963134765625
         },
         {
          "i": 1040,
          "loss": 250.51976013183594
         },
         {
          "i": 1041,
          "loss": 250.47996520996094
         },
         {
          "i": 1042,
          "loss": 250.44020080566406
         },
         {
          "i": 1043,
          "loss": 250.40048217773438
         },
         {
          "i": 1044,
          "loss": 250.36085510253906
         },
         {
          "i": 1045,
          "loss": 250.3212432861328
         },
         {
          "i": 1046,
          "loss": 250.2816619873047
         },
         {
          "i": 1047,
          "loss": 250.2421417236328
         },
         {
          "i": 1048,
          "loss": 250.2027130126953
         },
         {
          "i": 1049,
          "loss": 250.1632843017578
         },
         {
          "i": 1050,
          "loss": 250.1239471435547
         },
         {
          "i": 1051,
          "loss": 250.08465576171875
         },
         {
          "i": 1052,
          "loss": 250.04534912109375
         },
         {
          "i": 1053,
          "loss": 250.00608825683594
         },
         {
          "i": 1054,
          "loss": 249.96693420410156
         },
         {
          "i": 1055,
          "loss": 249.9278106689453
         },
         {
          "i": 1056,
          "loss": 249.8887481689453
         },
         {
          "i": 1057,
          "loss": 249.84974670410156
         },
         {
          "i": 1058,
          "loss": 249.81072998046875
         },
         {
          "i": 1059,
          "loss": 249.77182006835938
         },
         {
          "i": 1060,
          "loss": 249.7329559326172
         },
         {
          "i": 1061,
          "loss": 249.69412231445312
         },
         {
          "i": 1062,
          "loss": 249.6553192138672
         },
         {
          "i": 1063,
          "loss": 249.6165771484375
         },
         {
          "i": 1064,
          "loss": 249.57789611816406
         },
         {
          "i": 1065,
          "loss": 249.53927612304688
         },
         {
          "i": 1066,
          "loss": 249.5006866455078
         },
         {
          "i": 1067,
          "loss": 249.46214294433594
         },
         {
          "i": 1068,
          "loss": 249.4236297607422
         },
         {
          "i": 1069,
          "loss": 249.38516235351562
         },
         {
          "i": 1070,
          "loss": 249.3467559814453
         },
         {
          "i": 1071,
          "loss": 249.30841064453125
         },
         {
          "i": 1072,
          "loss": 249.27008056640625
         },
         {
          "i": 1073,
          "loss": 249.2318572998047
         },
         {
          "i": 1074,
          "loss": 249.1936492919922
         },
         {
          "i": 1075,
          "loss": 249.15548706054688
         },
         {
          "i": 1076,
          "loss": 249.11737060546875
         },
         {
          "i": 1077,
          "loss": 249.0792999267578
         },
         {
          "i": 1078,
          "loss": 249.04129028320312
         },
         {
          "i": 1079,
          "loss": 249.0033416748047
         },
         {
          "i": 1080,
          "loss": 248.9654083251953
         },
         {
          "i": 1081,
          "loss": 248.92752075195312
         },
         {
          "i": 1082,
          "loss": 248.88970947265625
         },
         {
          "i": 1083,
          "loss": 248.8519287109375
         },
         {
          "i": 1084,
          "loss": 248.81417846679688
         },
         {
          "i": 1085,
          "loss": 248.77650451660156
         },
         {
          "i": 1086,
          "loss": 248.73886108398438
         },
         {
          "i": 1087,
          "loss": 248.7012939453125
         },
         {
          "i": 1088,
          "loss": 248.6637725830078
         },
         {
          "i": 1089,
          "loss": 248.62623596191406
         },
         {
          "i": 1090,
          "loss": 248.5887451171875
         },
         {
          "i": 1091,
          "loss": 248.5513458251953
         },
         {
          "i": 1092,
          "loss": 248.51394653320312
         },
         {
          "i": 1093,
          "loss": 248.47665405273438
         },
         {
          "i": 1094,
          "loss": 248.4393310546875
         },
         {
          "i": 1095,
          "loss": 248.40206909179688
         },
         {
          "i": 1096,
          "loss": 248.36488342285156
         },
         {
          "i": 1097,
          "loss": 248.32772827148438
         },
         {
          "i": 1098,
          "loss": 248.29067993164062
         },
         {
          "i": 1099,
          "loss": 248.25360107421875
         },
         {
          "i": 1100,
          "loss": 248.21661376953125
         },
         {
          "i": 1101,
          "loss": 248.17967224121094
         },
         {
          "i": 1102,
          "loss": 248.14273071289062
         },
         {
          "i": 1103,
          "loss": 248.10586547851562
         },
         {
          "i": 1104,
          "loss": 248.0690460205078
         },
         {
          "i": 1105,
          "loss": 248.0322723388672
         },
         {
          "i": 1106,
          "loss": 247.9954833984375
         },
         {
          "i": 1107,
          "loss": 247.95880126953125
         },
         {
          "i": 1108,
          "loss": 247.92213439941406
         },
         {
          "i": 1109,
          "loss": 247.8855438232422
         },
         {
          "i": 1110,
          "loss": 247.8489990234375
         },
         {
          "i": 1111,
          "loss": 247.81248474121094
         },
         {
          "i": 1112,
          "loss": 247.7759552001953
         },
         {
          "i": 1113,
          "loss": 247.73959350585938
         },
         {
          "i": 1114,
          "loss": 247.70318603515625
         },
         {
          "i": 1115,
          "loss": 247.66680908203125
         },
         {
          "i": 1116,
          "loss": 247.63055419921875
         },
         {
          "i": 1117,
          "loss": 247.5942840576172
         },
         {
          "i": 1118,
          "loss": 247.55810546875
         },
         {
          "i": 1119,
          "loss": 247.52191162109375
         },
         {
          "i": 1120,
          "loss": 247.48577880859375
         },
         {
          "i": 1121,
          "loss": 247.44970703125
         },
         {
          "i": 1122,
          "loss": 247.4136962890625
         },
         {
          "i": 1123,
          "loss": 247.37767028808594
         },
         {
          "i": 1124,
          "loss": 247.34173583984375
         },
         {
          "i": 1125,
          "loss": 247.30581665039062
         },
         {
          "i": 1126,
          "loss": 247.2699737548828
         },
         {
          "i": 1127,
          "loss": 247.23411560058594
         },
         {
          "i": 1128,
          "loss": 247.1983184814453
         },
         {
          "i": 1129,
          "loss": 247.16261291503906
         },
         {
          "i": 1130,
          "loss": 247.12689208984375
         },
         {
          "i": 1131,
          "loss": 247.09124755859375
         },
         {
          "i": 1132,
          "loss": 247.05560302734375
         },
         {
          "i": 1133,
          "loss": 247.0200653076172
         },
         {
          "i": 1134,
          "loss": 246.9844970703125
         },
         {
          "i": 1135,
          "loss": 246.94900512695312
         },
         {
          "i": 1136,
          "loss": 246.91358947753906
         },
         {
          "i": 1137,
          "loss": 246.87818908691406
         },
         {
          "i": 1138,
          "loss": 246.8428497314453
         },
         {
          "i": 1139,
          "loss": 246.80752563476562
         },
         {
          "i": 1140,
          "loss": 246.77230834960938
         },
         {
          "i": 1141,
          "loss": 246.73707580566406
         },
         {
          "i": 1142,
          "loss": 246.7018585205078
         },
         {
          "i": 1143,
          "loss": 246.66668701171875
         },
         {
          "i": 1144,
          "loss": 246.63160705566406
         },
         {
          "i": 1145,
          "loss": 246.59654235839844
         },
         {
          "i": 1146,
          "loss": 246.56150817871094
         },
         {
          "i": 1147,
          "loss": 246.52655029296875
         },
         {
          "i": 1148,
          "loss": 246.4915771484375
         },
         {
          "i": 1149,
          "loss": 246.45669555664062
         },
         {
          "i": 1150,
          "loss": 246.42185974121094
         },
         {
          "i": 1151,
          "loss": 246.38702392578125
         },
         {
          "i": 1152,
          "loss": 246.35226440429688
         },
         {
          "i": 1153,
          "loss": 246.31756591796875
         },
         {
          "i": 1154,
          "loss": 246.28286743164062
         },
         {
          "i": 1155,
          "loss": 246.24819946289062
         },
         {
          "i": 1156,
          "loss": 246.21363830566406
         },
         {
          "i": 1157,
          "loss": 246.17906188964844
         },
         {
          "i": 1158,
          "loss": 246.14453125
         },
         {
          "i": 1159,
          "loss": 246.11007690429688
         },
         {
          "i": 1160,
          "loss": 246.0756072998047
         },
         {
          "i": 1161,
          "loss": 246.0412139892578
         },
         {
          "i": 1162,
          "loss": 246.00685119628906
         },
         {
          "i": 1163,
          "loss": 245.9725341796875
         },
         {
          "i": 1164,
          "loss": 245.93826293945312
         },
         {
          "i": 1165,
          "loss": 245.9040069580078
         },
         {
          "i": 1166,
          "loss": 245.86981201171875
         },
         {
          "i": 1167,
          "loss": 245.83567810058594
         },
         {
          "i": 1168,
          "loss": 245.8015594482422
         },
         {
          "i": 1169,
          "loss": 245.7675018310547
         },
         {
          "i": 1170,
          "loss": 245.7334747314453
         },
         {
          "i": 1171,
          "loss": 245.69944763183594
         },
         {
          "i": 1172,
          "loss": 245.66551208496094
         },
         {
          "i": 1173,
          "loss": 245.63157653808594
         },
         {
          "i": 1174,
          "loss": 245.59771728515625
         },
         {
          "i": 1175,
          "loss": 245.5638885498047
         },
         {
          "i": 1176,
          "loss": 245.53009033203125
         },
         {
          "i": 1177,
          "loss": 245.4963836669922
         },
         {
          "i": 1178,
          "loss": 245.46263122558594
         },
         {
          "i": 1179,
          "loss": 245.42893981933594
         },
         {
          "i": 1180,
          "loss": 245.39532470703125
         },
         {
          "i": 1181,
          "loss": 245.36172485351562
         },
         {
          "i": 1182,
          "loss": 245.3281707763672
         },
         {
          "i": 1183,
          "loss": 245.2946319580078
         },
         {
          "i": 1184,
          "loss": 245.26113891601562
         },
         {
          "i": 1185,
          "loss": 245.2277374267578
         },
         {
          "i": 1186,
          "loss": 245.1942901611328
         },
         {
          "i": 1187,
          "loss": 245.1609344482422
         },
         {
          "i": 1188,
          "loss": 245.1275634765625
         },
         {
          "i": 1189,
          "loss": 245.0942840576172
         },
         {
          "i": 1190,
          "loss": 245.06105041503906
         },
         {
          "i": 1191,
          "loss": 245.0278778076172
         },
         {
          "i": 1192,
          "loss": 244.99472045898438
         },
         {
          "i": 1193,
          "loss": 244.96157836914062
         },
         {
          "i": 1194,
          "loss": 244.92848205566406
         },
         {
          "i": 1195,
          "loss": 244.89537048339844
         },
         {
          "i": 1196,
          "loss": 244.8623809814453
         },
         {
          "i": 1197,
          "loss": 244.82937622070312
         },
         {
          "i": 1198,
          "loss": 244.7964324951172
         },
         {
          "i": 1199,
          "loss": 244.76348876953125
         },
         {
          "i": 1200,
          "loss": 244.73065185546875
         },
         {
          "i": 1201,
          "loss": 244.6977996826172
         },
         {
          "i": 1202,
          "loss": 244.66502380371094
         },
         {
          "i": 1203,
          "loss": 244.6322784423828
         },
         {
          "i": 1204,
          "loss": 244.59959411621094
         },
         {
          "i": 1205,
          "loss": 244.56690979003906
         },
         {
          "i": 1206,
          "loss": 244.53427124023438
         },
         {
          "i": 1207,
          "loss": 244.5016632080078
         },
         {
          "i": 1208,
          "loss": 244.4691162109375
         },
         {
          "i": 1209,
          "loss": 244.4365692138672
         },
         {
          "i": 1210,
          "loss": 244.4040985107422
         },
         {
          "i": 1211,
          "loss": 244.37164306640625
         },
         {
          "i": 1212,
          "loss": 244.3392791748047
         },
         {
          "i": 1213,
          "loss": 244.30690002441406
         },
         {
          "i": 1214,
          "loss": 244.27450561523438
         },
         {
          "i": 1215,
          "loss": 244.24224853515625
         },
         {
          "i": 1216,
          "loss": 244.2099609375
         },
         {
          "i": 1217,
          "loss": 244.17774963378906
         },
         {
          "i": 1218,
          "loss": 244.1455078125
         },
         {
          "i": 1219,
          "loss": 244.11337280273438
         },
         {
          "i": 1220,
          "loss": 244.08123779296875
         },
         {
          "i": 1221,
          "loss": 244.04913330078125
         },
         {
          "i": 1222,
          "loss": 244.01707458496094
         },
         {
          "i": 1223,
          "loss": 243.9850616455078
         },
         {
          "i": 1224,
          "loss": 243.95306396484375
         },
         {
          "i": 1225,
          "loss": 243.92112731933594
         },
         {
          "i": 1226,
          "loss": 243.8892364501953
         },
         {
          "i": 1227,
          "loss": 243.85736083984375
         },
         {
          "i": 1228,
          "loss": 243.82553100585938
         },
         {
          "i": 1229,
          "loss": 243.7937469482422
         },
         {
          "i": 1230,
          "loss": 243.7620086669922
         },
         {
          "i": 1231,
          "loss": 243.73031616210938
         },
         {
          "i": 1232,
          "loss": 243.69863891601562
         },
         {
          "i": 1233,
          "loss": 243.66697692871094
         },
         {
          "i": 1234,
          "loss": 243.63539123535156
         },
         {
          "i": 1235,
          "loss": 243.60379028320312
         },
         {
          "i": 1236,
          "loss": 243.57228088378906
         },
         {
          "i": 1237,
          "loss": 243.54078674316406
         },
         {
          "i": 1238,
          "loss": 243.50929260253906
         },
         {
          "i": 1239,
          "loss": 243.47784423828125
         },
         {
          "i": 1240,
          "loss": 243.44647216796875
         },
         {
          "i": 1241,
          "loss": 243.4151153564453
         },
         {
          "i": 1242,
          "loss": 243.38380432128906
         },
         {
          "i": 1243,
          "loss": 243.3524932861328
         },
         {
          "i": 1244,
          "loss": 243.32127380371094
         },
         {
          "i": 1245,
          "loss": 243.2900390625
         },
         {
          "i": 1246,
          "loss": 243.25885009765625
         },
         {
          "i": 1247,
          "loss": 243.22769165039062
         },
         {
          "i": 1248,
          "loss": 243.1965789794922
         },
         {
          "i": 1249,
          "loss": 243.16554260253906
         },
         {
          "i": 1250,
          "loss": 243.1344757080078
         },
         {
          "i": 1251,
          "loss": 243.10350036621094
         },
         {
          "i": 1252,
          "loss": 243.07252502441406
         },
         {
          "i": 1253,
          "loss": 243.0415802001953
         },
         {
          "i": 1254,
          "loss": 243.0106964111328
         },
         {
          "i": 1255,
          "loss": 242.97979736328125
         },
         {
          "i": 1256,
          "loss": 242.94900512695312
         },
         {
          "i": 1257,
          "loss": 242.91822814941406
         },
         {
          "i": 1258,
          "loss": 242.88742065429688
         },
         {
          "i": 1259,
          "loss": 242.85667419433594
         },
         {
          "i": 1260,
          "loss": 242.82598876953125
         },
         {
          "i": 1261,
          "loss": 242.7953338623047
         },
         {
          "i": 1262,
          "loss": 242.7647247314453
         },
         {
          "i": 1263,
          "loss": 242.73411560058594
         },
         {
          "i": 1264,
          "loss": 242.7035369873047
         },
         {
          "i": 1265,
          "loss": 242.67303466796875
         },
         {
          "i": 1266,
          "loss": 242.6425323486328
         },
         {
          "i": 1267,
          "loss": 242.61207580566406
         },
         {
          "i": 1268,
          "loss": 242.5816650390625
         },
         {
          "i": 1269,
          "loss": 242.55126953125
         },
         {
          "i": 1270,
          "loss": 242.52093505859375
         },
         {
          "i": 1271,
          "loss": 242.49063110351562
         },
         {
          "i": 1272,
          "loss": 242.46035766601562
         },
         {
          "i": 1273,
          "loss": 242.4300994873047
         },
         {
          "i": 1274,
          "loss": 242.39990234375
         },
         {
          "i": 1275,
          "loss": 242.3697052001953
         },
         {
          "i": 1276,
          "loss": 242.3395538330078
         },
         {
          "i": 1277,
          "loss": 242.3094940185547
         },
         {
          "i": 1278,
          "loss": 242.27943420410156
         },
         {
          "i": 1279,
          "loss": 242.24937438964844
         },
         {
          "i": 1280,
          "loss": 242.21932983398438
         },
         {
          "i": 1281,
          "loss": 242.18939208984375
         },
         {
          "i": 1282,
          "loss": 242.15945434570312
         },
         {
          "i": 1283,
          "loss": 242.12953186035156
         },
         {
          "i": 1284,
          "loss": 242.09962463378906
         },
         {
          "i": 1285,
          "loss": 242.0697479248047
         },
         {
          "i": 1286,
          "loss": 242.03997802734375
         },
         {
          "i": 1287,
          "loss": 242.0101776123047
         },
         {
          "i": 1288,
          "loss": 241.98040771484375
         },
         {
          "i": 1289,
          "loss": 241.9507293701172
         },
         {
          "i": 1290,
          "loss": 241.9210205078125
         },
         {
          "i": 1291,
          "loss": 241.89137268066406
         },
         {
          "i": 1292,
          "loss": 241.8617706298828
         },
         {
          "i": 1293,
          "loss": 241.83218383789062
         },
         {
          "i": 1294,
          "loss": 241.80264282226562
         },
         {
          "i": 1295,
          "loss": 241.7731475830078
         },
         {
          "i": 1296,
          "loss": 241.74366760253906
         },
         {
          "i": 1297,
          "loss": 241.71420288085938
         },
         {
          "i": 1298,
          "loss": 241.68478393554688
         },
         {
          "i": 1299,
          "loss": 241.65541076660156
         },
         {
          "i": 1300,
          "loss": 241.6260528564453
         },
         {
          "i": 1301,
          "loss": 241.59674072265625
         },
         {
          "i": 1302,
          "loss": 241.56744384765625
         },
         {
          "i": 1303,
          "loss": 241.53817749023438
         },
         {
          "i": 1304,
          "loss": 241.50897216796875
         },
         {
          "i": 1305,
          "loss": 241.47975158691406
         },
         {
          "i": 1306,
          "loss": 241.45059204101562
         },
         {
          "i": 1307,
          "loss": 241.4214630126953
         },
         {
          "i": 1308,
          "loss": 241.39234924316406
         },
         {
          "i": 1309,
          "loss": 241.36329650878906
         },
         {
          "i": 1310,
          "loss": 241.33424377441406
         },
         {
          "i": 1311,
          "loss": 241.3052520751953
         },
         {
          "i": 1312,
          "loss": 241.2762908935547
         },
         {
          "i": 1313,
          "loss": 241.24732971191406
         },
         {
          "i": 1314,
          "loss": 241.21841430664062
         },
         {
          "i": 1315,
          "loss": 241.18954467773438
         },
         {
          "i": 1316,
          "loss": 241.16073608398438
         },
         {
          "i": 1317,
          "loss": 241.13192749023438
         },
         {
          "i": 1318,
          "loss": 241.10317993164062
         },
         {
          "i": 1319,
          "loss": 241.07440185546875
         },
         {
          "i": 1320,
          "loss": 241.04571533203125
         },
         {
          "i": 1321,
          "loss": 241.0170135498047
         },
         {
          "i": 1322,
          "loss": 240.98837280273438
         },
         {
          "i": 1323,
          "loss": 240.95974731445312
         },
         {
          "i": 1324,
          "loss": 240.93115234375
         },
         {
          "i": 1325,
          "loss": 240.90260314941406
         },
         {
          "i": 1326,
          "loss": 240.87408447265625
         },
         {
          "i": 1327,
          "loss": 240.84561157226562
         },
         {
          "i": 1328,
          "loss": 240.8170928955078
         },
         {
          "i": 1329,
          "loss": 240.78866577148438
         },
         {
          "i": 1330,
          "loss": 240.76025390625
         },
         {
          "i": 1331,
          "loss": 240.7318572998047
         },
         {
          "i": 1332,
          "loss": 240.70347595214844
         },
         {
          "i": 1333,
          "loss": 240.6752166748047
         },
         {
          "i": 1334,
          "loss": 240.6469268798828
         },
         {
          "i": 1335,
          "loss": 240.6186981201172
         },
         {
          "i": 1336,
          "loss": 240.59051513671875
         },
         {
          "i": 1337,
          "loss": 240.5623016357422
         },
         {
          "i": 1338,
          "loss": 240.5341796875
         },
         {
          "i": 1339,
          "loss": 240.50604248046875
         },
         {
          "i": 1340,
          "loss": 240.4779510498047
         },
         {
          "i": 1341,
          "loss": 240.44989013671875
         },
         {
          "i": 1342,
          "loss": 240.4218292236328
         },
         {
          "i": 1343,
          "loss": 240.3938446044922
         },
         {
          "i": 1344,
          "loss": 240.36581420898438
         },
         {
          "i": 1345,
          "loss": 240.33790588378906
         },
         {
          "i": 1346,
          "loss": 240.30999755859375
         },
         {
          "i": 1347,
          "loss": 240.28213500976562
         },
         {
          "i": 1348,
          "loss": 240.25424194335938
         },
         {
          "i": 1349,
          "loss": 240.22642517089844
         },
         {
          "i": 1350,
          "loss": 240.19859313964844
         },
         {
          "i": 1351,
          "loss": 240.1708526611328
         },
         {
          "i": 1352,
          "loss": 240.1431121826172
         },
         {
          "i": 1353,
          "loss": 240.1153564453125
         },
         {
          "i": 1354,
          "loss": 240.08767700195312
         },
         {
          "i": 1355,
          "loss": 240.0600128173828
         },
         {
          "i": 1356,
          "loss": 240.03240966796875
         },
         {
          "i": 1357,
          "loss": 240.0048370361328
         },
         {
          "i": 1358,
          "loss": 239.9772491455078
         },
         {
          "i": 1359,
          "loss": 239.94976806640625
         },
         {
          "i": 1360,
          "loss": 239.92222595214844
         },
         {
          "i": 1361,
          "loss": 239.89479064941406
         },
         {
          "i": 1362,
          "loss": 239.86732482910156
         },
         {
          "i": 1363,
          "loss": 239.8399200439453
         },
         {
          "i": 1364,
          "loss": 239.81251525878906
         },
         {
          "i": 1365,
          "loss": 239.78515625
         },
         {
          "i": 1366,
          "loss": 239.7578125
         },
         {
          "i": 1367,
          "loss": 239.73052978515625
         },
         {
          "i": 1368,
          "loss": 239.70326232910156
         },
         {
          "i": 1369,
          "loss": 239.67601013183594
         },
         {
          "i": 1370,
          "loss": 239.64877319335938
         },
         {
          "i": 1371,
          "loss": 239.62164306640625
         },
         {
          "i": 1372,
          "loss": 239.59446716308594
         },
         {
          "i": 1373,
          "loss": 239.56736755371094
         },
         {
          "i": 1374,
          "loss": 239.54025268554688
         },
         {
          "i": 1375,
          "loss": 239.51318359375
         },
         {
          "i": 1376,
          "loss": 239.48614501953125
         },
         {
          "i": 1377,
          "loss": 239.4591064453125
         },
         {
          "i": 1378,
          "loss": 239.43212890625
         },
         {
          "i": 1379,
          "loss": 239.40521240234375
         },
         {
          "i": 1380,
          "loss": 239.37826538085938
         },
         {
          "i": 1381,
          "loss": 239.35134887695312
         },
         {
          "i": 1382,
          "loss": 239.3245086669922
         },
         {
          "i": 1383,
          "loss": 239.2976531982422
         },
         {
          "i": 1384,
          "loss": 239.2709197998047
         },
         {
          "i": 1385,
          "loss": 239.2440948486328
         },
         {
          "i": 1386,
          "loss": 239.2173614501953
         },
         {
          "i": 1387,
          "loss": 239.19065856933594
         },
         {
          "i": 1388,
          "loss": 239.16397094726562
         },
         {
          "i": 1389,
          "loss": 239.1372833251953
         },
         {
          "i": 1390,
          "loss": 239.1106414794922
         },
         {
          "i": 1391,
          "loss": 239.08404541015625
         },
         {
          "i": 1392,
          "loss": 239.05743408203125
         },
         {
          "i": 1393,
          "loss": 239.0308837890625
         },
         {
          "i": 1394,
          "loss": 239.0043487548828
         },
         {
          "i": 1395,
          "loss": 238.97789001464844
         },
         {
          "i": 1396,
          "loss": 238.95138549804688
         },
         {
          "i": 1397,
          "loss": 238.92494201660156
         },
         {
          "i": 1398,
          "loss": 238.8985137939453
         },
         {
          "i": 1399,
          "loss": 238.87216186523438
         },
         {
          "i": 1400,
          "loss": 238.8457794189453
         },
         {
          "i": 1401,
          "loss": 238.8194580078125
         },
         {
          "i": 1402,
          "loss": 238.79318237304688
         },
         {
          "i": 1403,
          "loss": 238.76687622070312
         },
         {
          "i": 1404,
          "loss": 238.7406463623047
         },
         {
          "i": 1405,
          "loss": 238.7144317626953
         },
         {
          "i": 1406,
          "loss": 238.68821716308594
         },
         {
          "i": 1407,
          "loss": 238.6620635986328
         },
         {
          "i": 1408,
          "loss": 238.63595581054688
         },
         {
          "i": 1409,
          "loss": 238.60984802246094
         },
         {
          "i": 1410,
          "loss": 238.58375549316406
         },
         {
          "i": 1411,
          "loss": 238.5576934814453
         },
         {
          "i": 1412,
          "loss": 238.53167724609375
         },
         {
          "i": 1413,
          "loss": 238.5056610107422
         },
         {
          "i": 1414,
          "loss": 238.47964477539062
         },
         {
          "i": 1415,
          "loss": 238.45370483398438
         },
         {
          "i": 1416,
          "loss": 238.42779541015625
         },
         {
          "i": 1417,
          "loss": 238.40191650390625
         },
         {
          "i": 1418,
          "loss": 238.37603759765625
         },
         {
          "i": 1419,
          "loss": 238.35018920898438
         },
         {
          "i": 1420,
          "loss": 238.32440185546875
         },
         {
          "i": 1421,
          "loss": 238.29859924316406
         },
         {
          "i": 1422,
          "loss": 238.27285766601562
         },
         {
          "i": 1423,
          "loss": 238.2471160888672
         },
         {
          "i": 1424,
          "loss": 238.2213897705078
         },
         {
          "i": 1425,
          "loss": 238.1957244873047
         },
         {
          "i": 1426,
          "loss": 238.1701202392578
         },
         {
          "i": 1427,
          "loss": 238.1444549560547
         },
         {
          "i": 1428,
          "loss": 238.1188507080078
         },
         {
          "i": 1429,
          "loss": 238.09327697753906
         },
         {
          "i": 1430,
          "loss": 238.06771850585938
         },
         {
          "i": 1431,
          "loss": 238.04222106933594
         },
         {
          "i": 1432,
          "loss": 238.01673889160156
         },
         {
          "i": 1433,
          "loss": 237.99127197265625
         },
         {
          "i": 1434,
          "loss": 237.96583557128906
         },
         {
          "i": 1435,
          "loss": 237.94041442871094
         },
         {
          "i": 1436,
          "loss": 237.9150390625
         },
         {
          "i": 1437,
          "loss": 237.8896484375
         },
         {
          "i": 1438,
          "loss": 237.8643035888672
         },
         {
          "i": 1439,
          "loss": 237.83900451660156
         },
         {
          "i": 1440,
          "loss": 237.81370544433594
         },
         {
          "i": 1441,
          "loss": 237.78842163085938
         },
         {
          "i": 1442,
          "loss": 237.76319885253906
         },
         {
          "i": 1443,
          "loss": 237.7379913330078
         },
         {
          "i": 1444,
          "loss": 237.71279907226562
         },
         {
          "i": 1445,
          "loss": 237.6876220703125
         },
         {
          "i": 1446,
          "loss": 237.6624755859375
         },
         {
          "i": 1447,
          "loss": 237.63735961914062
         },
         {
          "i": 1448,
          "loss": 237.61228942871094
         },
         {
          "i": 1449,
          "loss": 237.58724975585938
         },
         {
          "i": 1450,
          "loss": 237.5622100830078
         },
         {
          "i": 1451,
          "loss": 237.53720092773438
         },
         {
          "i": 1452,
          "loss": 237.5122528076172
         },
         {
          "i": 1453,
          "loss": 237.48728942871094
         },
         {
          "i": 1454,
          "loss": 237.4623565673828
         },
         {
          "i": 1455,
          "loss": 237.4374542236328
         },
         {
          "i": 1456,
          "loss": 237.4125518798828
         },
         {
          "i": 1457,
          "loss": 237.38775634765625
         },
         {
          "i": 1458,
          "loss": 237.36293029785156
         },
         {
          "i": 1459,
          "loss": 237.33811950683594
         },
         {
          "i": 1460,
          "loss": 237.3133544921875
         },
         {
          "i": 1461,
          "loss": 237.2886199951172
         },
         {
          "i": 1462,
          "loss": 237.26388549804688
         },
         {
          "i": 1463,
          "loss": 237.23919677734375
         },
         {
          "i": 1464,
          "loss": 237.21450805664062
         },
         {
          "i": 1465,
          "loss": 237.1898651123047
         },
         {
          "i": 1466,
          "loss": 237.16525268554688
         },
         {
          "i": 1467,
          "loss": 237.14068603515625
         },
         {
          "i": 1468,
          "loss": 237.1160888671875
         },
         {
          "i": 1469,
          "loss": 237.09153747558594
         },
         {
          "i": 1470,
          "loss": 237.06703186035156
         },
         {
          "i": 1471,
          "loss": 237.04254150390625
         },
         {
          "i": 1472,
          "loss": 237.01808166503906
         },
         {
          "i": 1473,
          "loss": 236.9936065673828
         },
         {
          "i": 1474,
          "loss": 236.9691925048828
         },
         {
          "i": 1475,
          "loss": 236.94480895996094
         },
         {
          "i": 1476,
          "loss": 236.92042541503906
         },
         {
          "i": 1477,
          "loss": 236.89605712890625
         },
         {
          "i": 1478,
          "loss": 236.8717803955078
         },
         {
          "i": 1479,
          "loss": 236.84744262695312
         },
         {
          "i": 1480,
          "loss": 236.82322692871094
         },
         {
          "i": 1481,
          "loss": 236.79898071289062
         },
         {
          "i": 1482,
          "loss": 236.77474975585938
         },
         {
          "i": 1483,
          "loss": 236.75057983398438
         },
         {
          "i": 1484,
          "loss": 236.72642517089844
         },
         {
          "i": 1485,
          "loss": 236.7022705078125
         },
         {
          "i": 1486,
          "loss": 236.67816162109375
         },
         {
          "i": 1487,
          "loss": 236.65406799316406
         },
         {
          "i": 1488,
          "loss": 236.63003540039062
         },
         {
          "i": 1489,
          "loss": 236.60594177246094
         },
         {
          "i": 1490,
          "loss": 236.58193969726562
         },
         {
          "i": 1491,
          "loss": 236.55795288085938
         },
         {
          "i": 1492,
          "loss": 236.53396606445312
         },
         {
          "i": 1493,
          "loss": 236.51002502441406
         },
         {
          "i": 1494,
          "loss": 236.48611450195312
         },
         {
          "i": 1495,
          "loss": 236.46217346191406
         },
         {
          "i": 1496,
          "loss": 236.43833923339844
         },
         {
          "i": 1497,
          "loss": 236.41445922851562
         },
         {
          "i": 1498,
          "loss": 236.3905792236328
         },
         {
          "i": 1499,
          "loss": 236.3667755126953
         },
         {
          "i": 1500,
          "loss": 236.34300231933594
         },
         {
          "i": 1501,
          "loss": 236.3192138671875
         },
         {
          "i": 1502,
          "loss": 236.2954864501953
         },
         {
          "i": 1503,
          "loss": 236.27178955078125
         },
         {
          "i": 1504,
          "loss": 236.24806213378906
         },
         {
          "i": 1505,
          "loss": 236.2244110107422
         },
         {
          "i": 1506,
          "loss": 236.2008056640625
         },
         {
          "i": 1507,
          "loss": 236.1771240234375
         },
         {
          "i": 1508,
          "loss": 236.15357971191406
         },
         {
          "i": 1509,
          "loss": 236.13002014160156
         },
         {
          "i": 1510,
          "loss": 236.1064910888672
         },
         {
          "i": 1511,
          "loss": 236.08294677734375
         },
         {
          "i": 1512,
          "loss": 236.0594482421875
         },
         {
          "i": 1513,
          "loss": 236.03599548339844
         },
         {
          "i": 1514,
          "loss": 236.01254272460938
         },
         {
          "i": 1515,
          "loss": 235.98910522460938
         },
         {
          "i": 1516,
          "loss": 235.96568298339844
         },
         {
          "i": 1517,
          "loss": 235.94229125976562
         },
         {
          "i": 1518,
          "loss": 235.91893005371094
         },
         {
          "i": 1519,
          "loss": 235.89559936523438
         },
         {
          "i": 1520,
          "loss": 235.87228393554688
         },
         {
          "i": 1521,
          "loss": 235.84896850585938
         },
         {
          "i": 1522,
          "loss": 235.82569885253906
         },
         {
          "i": 1523,
          "loss": 235.8024444580078
         },
         {
          "i": 1524,
          "loss": 235.77923583984375
         },
         {
          "i": 1525,
          "loss": 235.75601196289062
         },
         {
          "i": 1526,
          "loss": 235.73284912109375
         },
         {
          "i": 1527,
          "loss": 235.70970153808594
         },
         {
          "i": 1528,
          "loss": 235.68658447265625
         },
         {
          "i": 1529,
          "loss": 235.66348266601562
         },
         {
          "i": 1530,
          "loss": 235.64036560058594
         },
         {
          "i": 1531,
          "loss": 235.61732482910156
         },
         {
          "i": 1532,
          "loss": 235.59423828125
         },
         {
          "i": 1533,
          "loss": 235.5712890625
         },
         {
          "i": 1534,
          "loss": 235.54827880859375
         },
         {
          "i": 1535,
          "loss": 235.52525329589844
         },
         {
          "i": 1536,
          "loss": 235.50234985351562
         },
         {
          "i": 1537,
          "loss": 235.47940063476562
         },
         {
          "i": 1538,
          "loss": 235.4564971923828
         },
         {
          "i": 1539,
          "loss": 235.4336395263672
         },
         {
          "i": 1540,
          "loss": 235.41078186035156
         },
         {
          "i": 1541,
          "loss": 235.38795471191406
         },
         {
          "i": 1542,
          "loss": 235.3651580810547
         },
         {
          "i": 1543,
          "loss": 235.34234619140625
         },
         {
          "i": 1544,
          "loss": 235.31959533691406
         },
         {
          "i": 1545,
          "loss": 235.2968292236328
         },
         {
          "i": 1546,
          "loss": 235.27410888671875
         },
         {
          "i": 1547,
          "loss": 235.2513885498047
         },
         {
          "i": 1548,
          "loss": 235.22869873046875
         },
         {
          "i": 1549,
          "loss": 235.20603942871094
         },
         {
          "i": 1550,
          "loss": 235.1833953857422
         },
         {
          "i": 1551,
          "loss": 235.16079711914062
         },
         {
          "i": 1552,
          "loss": 235.13816833496094
         },
         {
          "i": 1553,
          "loss": 235.11557006835938
         },
         {
          "i": 1554,
          "loss": 235.09303283691406
         },
         {
          "i": 1555,
          "loss": 235.07049560546875
         },
         {
          "i": 1556,
          "loss": 235.0479736328125
         },
         {
          "i": 1557,
          "loss": 235.0254669189453
         },
         {
          "i": 1558,
          "loss": 235.0030059814453
         },
         {
          "i": 1559,
          "loss": 234.98056030273438
         },
         {
          "i": 1560,
          "loss": 234.95814514160156
         },
         {
          "i": 1561,
          "loss": 234.9357452392578
         },
         {
          "i": 1562,
          "loss": 234.91331481933594
         },
         {
          "i": 1563,
          "loss": 234.89102172851562
         },
         {
          "i": 1564,
          "loss": 234.86865234375
         },
         {
          "i": 1565,
          "loss": 234.8463897705078
         },
         {
          "i": 1566,
          "loss": 234.82408142089844
         },
         {
          "i": 1567,
          "loss": 234.80181884765625
         },
         {
          "i": 1568,
          "loss": 234.77952575683594
         },
         {
          "i": 1569,
          "loss": 234.75730895996094
         },
         {
          "i": 1570,
          "loss": 234.73509216308594
         },
         {
          "i": 1571,
          "loss": 234.71295166015625
         },
         {
          "i": 1572,
          "loss": 234.6907958984375
         },
         {
          "i": 1573,
          "loss": 234.6686553955078
         },
         {
          "i": 1574,
          "loss": 234.64654541015625
         },
         {
          "i": 1575,
          "loss": 234.62445068359375
         },
         {
          "i": 1576,
          "loss": 234.60240173339844
         },
         {
          "i": 1577,
          "loss": 234.58033752441406
         },
         {
          "i": 1578,
          "loss": 234.5583038330078
         },
         {
          "i": 1579,
          "loss": 234.53631591796875
         },
         {
          "i": 1580,
          "loss": 234.51434326171875
         },
         {
          "i": 1581,
          "loss": 234.49234008789062
         },
         {
          "i": 1582,
          "loss": 234.4704132080078
         },
         {
          "i": 1583,
          "loss": 234.44851684570312
         },
         {
          "i": 1584,
          "loss": 234.42657470703125
         },
         {
          "i": 1585,
          "loss": 234.40472412109375
         },
         {
          "i": 1586,
          "loss": 234.3828582763672
         },
         {
          "i": 1587,
          "loss": 234.36102294921875
         },
         {
          "i": 1588,
          "loss": 234.33917236328125
         },
         {
          "i": 1589,
          "loss": 234.3173828125
         },
         {
          "i": 1590,
          "loss": 234.2956085205078
         },
         {
          "i": 1591,
          "loss": 234.2738494873047
         },
         {
          "i": 1592,
          "loss": 234.25209045410156
         },
         {
          "i": 1593,
          "loss": 234.23037719726562
         },
         {
          "i": 1594,
          "loss": 234.20864868164062
         },
         {
          "i": 1595,
          "loss": 234.1869659423828
         },
         {
          "i": 1596,
          "loss": 234.16534423828125
         },
         {
          "i": 1597,
          "loss": 234.14369201660156
         },
         {
          "i": 1598,
          "loss": 234.12208557128906
         },
         {
          "i": 1599,
          "loss": 234.10044860839844
         },
         {
          "i": 1600,
          "loss": 234.07888793945312
         },
         {
          "i": 1601,
          "loss": 234.0573272705078
         },
         {
          "i": 1602,
          "loss": 234.03579711914062
         },
         {
          "i": 1603,
          "loss": 234.01429748535156
         },
         {
          "i": 1604,
          "loss": 233.99281311035156
         },
         {
          "i": 1605,
          "loss": 233.97134399414062
         },
         {
          "i": 1606,
          "loss": 233.9499053955078
         },
         {
          "i": 1607,
          "loss": 233.92848205566406
         },
         {
          "i": 1608,
          "loss": 233.90708923339844
         },
         {
          "i": 1609,
          "loss": 233.88568115234375
         },
         {
          "i": 1610,
          "loss": 233.86431884765625
         },
         {
          "i": 1611,
          "loss": 233.84300231933594
         },
         {
          "i": 1612,
          "loss": 233.8216552734375
         },
         {
          "i": 1613,
          "loss": 233.8004150390625
         },
         {
          "i": 1614,
          "loss": 233.7790985107422
         },
         {
          "i": 1615,
          "loss": 233.75787353515625
         },
         {
          "i": 1616,
          "loss": 233.73663330078125
         },
         {
          "i": 1617,
          "loss": 233.71542358398438
         },
         {
          "i": 1618,
          "loss": 233.6942596435547
         },
         {
          "i": 1619,
          "loss": 233.67306518554688
         },
         {
          "i": 1620,
          "loss": 233.6519317626953
         },
         {
          "i": 1621,
          "loss": 233.6307830810547
         },
         {
          "i": 1622,
          "loss": 233.6096649169922
         },
         {
          "i": 1623,
          "loss": 233.58859252929688
         },
         {
          "i": 1624,
          "loss": 233.56752014160156
         },
         {
          "i": 1625,
          "loss": 233.5464324951172
         },
         {
          "i": 1626,
          "loss": 233.5254364013672
         },
         {
          "i": 1627,
          "loss": 233.50437927246094
         },
         {
          "i": 1628,
          "loss": 233.48338317871094
         },
         {
          "i": 1629,
          "loss": 233.46240234375
         },
         {
          "i": 1630,
          "loss": 233.44146728515625
         },
         {
          "i": 1631,
          "loss": 233.42050170898438
         },
         {
          "i": 1632,
          "loss": 233.39956665039062
         },
         {
          "i": 1633,
          "loss": 233.37867736816406
         },
         {
          "i": 1634,
          "loss": 233.3577880859375
         },
         {
          "i": 1635,
          "loss": 233.33692932128906
         },
         {
          "i": 1636,
          "loss": 233.31605529785156
         },
         {
          "i": 1637,
          "loss": 233.29522705078125
         },
         {
          "i": 1638,
          "loss": 233.2744598388672
         },
         {
          "i": 1639,
          "loss": 233.25364685058594
         },
         {
          "i": 1640,
          "loss": 233.2328643798828
         },
         {
          "i": 1641,
          "loss": 233.21217346191406
         },
         {
          "i": 1642,
          "loss": 233.1914520263672
         },
         {
          "i": 1643,
          "loss": 233.17071533203125
         },
         {
          "i": 1644,
          "loss": 233.15003967285156
         },
         {
          "i": 1645,
          "loss": 233.12937927246094
         },
         {
          "i": 1646,
          "loss": 233.10873413085938
         },
         {
          "i": 1647,
          "loss": 233.08810424804688
         },
         {
          "i": 1648,
          "loss": 233.0675048828125
         },
         {
          "i": 1649,
          "loss": 233.04689025878906
         },
         {
          "i": 1650,
          "loss": 233.0263214111328
         },
         {
          "i": 1651,
          "loss": 233.00576782226562
         },
         {
          "i": 1652,
          "loss": 232.9852294921875
         },
         {
          "i": 1653,
          "loss": 232.96475219726562
         },
         {
          "i": 1654,
          "loss": 232.94424438476562
         },
         {
          "i": 1655,
          "loss": 232.92376708984375
         },
         {
          "i": 1656,
          "loss": 232.9033203125
         },
         {
          "i": 1657,
          "loss": 232.88287353515625
         },
         {
          "i": 1658,
          "loss": 232.86245727539062
         },
         {
          "i": 1659,
          "loss": 232.84207153320312
         },
         {
          "i": 1660,
          "loss": 232.8216552734375
         },
         {
          "i": 1661,
          "loss": 232.8013153076172
         },
         {
          "i": 1662,
          "loss": 232.78099060058594
         },
         {
          "i": 1663,
          "loss": 232.76068115234375
         },
         {
          "i": 1664,
          "loss": 232.74037170410156
         },
         {
          "i": 1665,
          "loss": 232.72007751464844
         },
         {
          "i": 1666,
          "loss": 232.6998291015625
         },
         {
          "i": 1667,
          "loss": 232.67959594726562
         },
         {
          "i": 1668,
          "loss": 232.65936279296875
         },
         {
          "i": 1669,
          "loss": 232.63916015625
         },
         {
          "i": 1670,
          "loss": 232.61900329589844
         },
         {
          "i": 1671,
          "loss": 232.5988311767578
         },
         {
          "i": 1672,
          "loss": 232.57870483398438
         },
         {
          "i": 1673,
          "loss": 232.5585479736328
         },
         {
          "i": 1674,
          "loss": 232.5384521484375
         },
         {
          "i": 1675,
          "loss": 232.51834106445312
         },
         {
          "i": 1676,
          "loss": 232.49830627441406
         },
         {
          "i": 1677,
          "loss": 232.4782257080078
         },
         {
          "i": 1678,
          "loss": 232.45819091796875
         },
         {
          "i": 1679,
          "loss": 232.43814086914062
         },
         {
          "i": 1680,
          "loss": 232.41815185546875
         },
         {
          "i": 1681,
          "loss": 232.39817810058594
         },
         {
          "i": 1682,
          "loss": 232.37820434570312
         },
         {
          "i": 1683,
          "loss": 232.35824584960938
         },
         {
          "i": 1684,
          "loss": 232.3383026123047
         },
         {
          "i": 1685,
          "loss": 232.3184356689453
         },
         {
          "i": 1686,
          "loss": 232.2985382080078
         },
         {
          "i": 1687,
          "loss": 232.27862548828125
         },
         {
          "i": 1688,
          "loss": 232.25877380371094
         },
         {
          "i": 1689,
          "loss": 232.23895263671875
         },
         {
          "i": 1690,
          "loss": 232.2191162109375
         },
         {
          "i": 1691,
          "loss": 232.19931030273438
         },
         {
          "i": 1692,
          "loss": 232.17950439453125
         },
         {
          "i": 1693,
          "loss": 232.1597442626953
         },
         {
          "i": 1694,
          "loss": 232.13998413085938
         },
         {
          "i": 1695,
          "loss": 232.1202392578125
         },
         {
          "i": 1696,
          "loss": 232.1005401611328
         },
         {
          "i": 1697,
          "loss": 232.08084106445312
         },
         {
          "i": 1698,
          "loss": 232.06117248535156
         },
         {
          "i": 1699,
          "loss": 232.04150390625
         },
         {
          "i": 1700,
          "loss": 232.0218505859375
         },
         {
          "i": 1701,
          "loss": 232.00225830078125
         },
         {
          "i": 1702,
          "loss": 231.98263549804688
         },
         {
          "i": 1703,
          "loss": 231.96304321289062
         },
         {
          "i": 1704,
          "loss": 231.94351196289062
         },
         {
          "i": 1705,
          "loss": 231.92396545410156
         },
         {
          "i": 1706,
          "loss": 231.90444946289062
         },
         {
          "i": 1707,
          "loss": 231.88491821289062
         },
         {
          "i": 1708,
          "loss": 231.8654327392578
         },
         {
          "i": 1709,
          "loss": 231.84596252441406
         },
         {
          "i": 1710,
          "loss": 231.8265380859375
         },
         {
          "i": 1711,
          "loss": 231.8070831298828
         },
         {
          "i": 1712,
          "loss": 231.7876434326172
         },
         {
          "i": 1713,
          "loss": 231.76828002929688
         },
         {
          "i": 1714,
          "loss": 231.74887084960938
         },
         {
          "i": 1715,
          "loss": 231.72950744628906
         },
         {
          "i": 1716,
          "loss": 231.7101593017578
         },
         {
          "i": 1717,
          "loss": 231.69082641601562
         },
         {
          "i": 1718,
          "loss": 231.67156982421875
         },
         {
          "i": 1719,
          "loss": 231.6522674560547
         },
         {
          "i": 1720,
          "loss": 231.63296508789062
         },
         {
          "i": 1721,
          "loss": 231.6136932373047
         },
         {
          "i": 1722,
          "loss": 231.59449768066406
         },
         {
          "i": 1723,
          "loss": 231.57525634765625
         },
         {
          "i": 1724,
          "loss": 231.5560302734375
         },
         {
          "i": 1725,
          "loss": 231.53683471679688
         },
         {
          "i": 1726,
          "loss": 231.51766967773438
         },
         {
          "i": 1727,
          "loss": 231.4984893798828
         },
         {
          "i": 1728,
          "loss": 231.47935485839844
         },
         {
          "i": 1729,
          "loss": 231.46022033691406
         },
         {
          "i": 1730,
          "loss": 231.4411163330078
         },
         {
          "i": 1731,
          "loss": 231.4219970703125
         },
         {
          "i": 1732,
          "loss": 231.40292358398438
         },
         {
          "i": 1733,
          "loss": 231.3839111328125
         },
         {
          "i": 1734,
          "loss": 231.36483764648438
         },
         {
          "i": 1735,
          "loss": 231.34584045410156
         },
         {
          "i": 1736,
          "loss": 231.32681274414062
         },
         {
          "i": 1737,
          "loss": 231.30784606933594
         },
         {
          "i": 1738,
          "loss": 231.2888641357422
         },
         {
          "i": 1739,
          "loss": 231.2698974609375
         },
         {
          "i": 1740,
          "loss": 231.2509765625
         },
         {
          "i": 1741,
          "loss": 231.23202514648438
         },
         {
          "i": 1742,
          "loss": 231.21315002441406
         },
         {
          "i": 1743,
          "loss": 231.1942596435547
         },
         {
          "i": 1744,
          "loss": 231.17535400390625
         },
         {
          "i": 1745,
          "loss": 231.15652465820312
         },
         {
          "i": 1746,
          "loss": 231.13768005371094
         },
         {
          "i": 1747,
          "loss": 231.11883544921875
         },
         {
          "i": 1748,
          "loss": 231.10000610351562
         },
         {
          "i": 1749,
          "loss": 231.08120727539062
         },
         {
          "i": 1750,
          "loss": 231.06243896484375
         },
         {
          "i": 1751,
          "loss": 231.04368591308594
         },
         {
          "i": 1752,
          "loss": 231.0249481201172
         },
         {
          "i": 1753,
          "loss": 231.0062255859375
         },
         {
          "i": 1754,
          "loss": 230.98756408691406
         },
         {
          "i": 1755,
          "loss": 230.96884155273438
         },
         {
          "i": 1756,
          "loss": 230.95018005371094
         },
         {
          "i": 1757,
          "loss": 230.9315185546875
         },
         {
          "i": 1758,
          "loss": 230.91290283203125
         },
         {
          "i": 1759,
          "loss": 230.89427185058594
         },
         {
          "i": 1760,
          "loss": 230.87567138671875
         },
         {
          "i": 1761,
          "loss": 230.85708618164062
         },
         {
          "i": 1762,
          "loss": 230.83853149414062
         },
         {
          "i": 1763,
          "loss": 230.81997680664062
         },
         {
          "i": 1764,
          "loss": 230.80142211914062
         },
         {
          "i": 1765,
          "loss": 230.7829132080078
         },
         {
          "i": 1766,
          "loss": 230.76443481445312
         },
         {
          "i": 1767,
          "loss": 230.74594116210938
         },
         {
          "i": 1768,
          "loss": 230.72747802734375
         },
         {
          "i": 1769,
          "loss": 230.7090301513672
         },
         {
          "i": 1770,
          "loss": 230.69056701660156
         },
         {
          "i": 1771,
          "loss": 230.6721649169922
         },
         {
          "i": 1772,
          "loss": 230.6537322998047
         },
         {
          "i": 1773,
          "loss": 230.6353759765625
         },
         {
          "i": 1774,
          "loss": 230.6169891357422
         },
         {
          "i": 1775,
          "loss": 230.5986328125
         },
         {
          "i": 1776,
          "loss": 230.58029174804688
         },
         {
          "i": 1777,
          "loss": 230.5619659423828
         },
         {
          "i": 1778,
          "loss": 230.54367065429688
         },
         {
          "i": 1779,
          "loss": 230.52540588378906
         },
         {
          "i": 1780,
          "loss": 230.5071258544922
         },
         {
          "i": 1781,
          "loss": 230.48886108398438
         },
         {
          "i": 1782,
          "loss": 230.4706268310547
         },
         {
          "i": 1783,
          "loss": 230.45242309570312
         },
         {
          "i": 1784,
          "loss": 230.4342041015625
         },
         {
          "i": 1785,
          "loss": 230.41600036621094
         },
         {
          "i": 1786,
          "loss": 230.3978271484375
         },
         {
          "i": 1787,
          "loss": 230.37966918945312
         },
         {
          "i": 1788,
          "loss": 230.36154174804688
         },
         {
          "i": 1789,
          "loss": 230.3433837890625
         },
         {
          "i": 1790,
          "loss": 230.3252716064453
         },
         {
          "i": 1791,
          "loss": 230.3071746826172
         },
         {
          "i": 1792,
          "loss": 230.28912353515625
         },
         {
          "i": 1793,
          "loss": 230.2710418701172
         },
         {
          "i": 1794,
          "loss": 230.25299072265625
         },
         {
          "i": 1795,
          "loss": 230.23495483398438
         },
         {
          "i": 1796,
          "loss": 230.21693420410156
         },
         {
          "i": 1797,
          "loss": 230.19891357421875
         },
         {
          "i": 1798,
          "loss": 230.1809539794922
         },
         {
          "i": 1799,
          "loss": 230.1629638671875
         },
         {
          "i": 1800,
          "loss": 230.14501953125
         },
         {
          "i": 1801,
          "loss": 230.12710571289062
         },
         {
          "i": 1802,
          "loss": 230.10922241210938
         },
         {
          "i": 1803,
          "loss": 230.0912628173828
         },
         {
          "i": 1804,
          "loss": 230.07337951660156
         },
         {
          "i": 1805,
          "loss": 230.05552673339844
         },
         {
          "i": 1806,
          "loss": 230.03765869140625
         },
         {
          "i": 1807,
          "loss": 230.01980590820312
         },
         {
          "i": 1808,
          "loss": 230.0019989013672
         },
         {
          "i": 1809,
          "loss": 229.98416137695312
         },
         {
          "i": 1810,
          "loss": 229.96636962890625
         },
         {
          "i": 1811,
          "loss": 229.94857788085938
         },
         {
          "i": 1812,
          "loss": 229.93081665039062
         },
         {
          "i": 1813,
          "loss": 229.9130401611328
         },
         {
          "i": 1814,
          "loss": 229.8953094482422
         },
         {
          "i": 1815,
          "loss": 229.87759399414062
         },
         {
          "i": 1816,
          "loss": 229.8599090576172
         },
         {
          "i": 1817,
          "loss": 229.84219360351562
         },
         {
          "i": 1818,
          "loss": 229.82452392578125
         },
         {
          "i": 1819,
          "loss": 229.80690002441406
         },
         {
          "i": 1820,
          "loss": 229.78924560546875
         },
         {
          "i": 1821,
          "loss": 229.77163696289062
         },
         {
          "i": 1822,
          "loss": 229.7540283203125
         },
         {
          "i": 1823,
          "loss": 229.73641967773438
         },
         {
          "i": 1824,
          "loss": 229.71884155273438
         },
         {
          "i": 1825,
          "loss": 229.70126342773438
         },
         {
          "i": 1826,
          "loss": 229.6837158203125
         },
         {
          "i": 1827,
          "loss": 229.6662139892578
         },
         {
          "i": 1828,
          "loss": 229.6486358642578
         },
         {
          "i": 1829,
          "loss": 229.63113403320312
         },
         {
          "i": 1830,
          "loss": 229.6136474609375
         },
         {
          "i": 1831,
          "loss": 229.59617614746094
         },
         {
          "i": 1832,
          "loss": 229.57870483398438
         },
         {
          "i": 1833,
          "loss": 229.5612335205078
         },
         {
          "i": 1834,
          "loss": 229.54380798339844
         },
         {
          "i": 1835,
          "loss": 229.52638244628906
         },
         {
          "i": 1836,
          "loss": 229.50897216796875
         },
         {
          "i": 1837,
          "loss": 229.4915771484375
         },
         {
          "i": 1838,
          "loss": 229.47421264648438
         },
         {
          "i": 1839,
          "loss": 229.45687866210938
         },
         {
          "i": 1840,
          "loss": 229.4394989013672
         },
         {
          "i": 1841,
          "loss": 229.42221069335938
         },
         {
          "i": 1842,
          "loss": 229.4048614501953
         },
         {
          "i": 1843,
          "loss": 229.38755798339844
         },
         {
          "i": 1844,
          "loss": 229.3703155517578
         },
         {
          "i": 1845,
          "loss": 229.35302734375
         },
         {
          "i": 1846,
          "loss": 229.33570861816406
         },
         {
          "i": 1847,
          "loss": 229.31849670410156
         },
         {
          "i": 1848,
          "loss": 229.30128479003906
         },
         {
          "i": 1849,
          "loss": 229.28408813476562
         },
         {
          "i": 1850,
          "loss": 229.26686096191406
         },
         {
          "i": 1851,
          "loss": 229.24966430664062
         },
         {
          "i": 1852,
          "loss": 229.2325439453125
         },
         {
          "i": 1853,
          "loss": 229.21534729003906
         },
         {
          "i": 1854,
          "loss": 229.19822692871094
         },
         {
          "i": 1855,
          "loss": 229.1811065673828
         },
         {
          "i": 1856,
          "loss": 229.1640167236328
         },
         {
          "i": 1857,
          "loss": 229.1469268798828
         },
         {
          "i": 1858,
          "loss": 229.1298370361328
         },
         {
          "i": 1859,
          "loss": 229.11280822753906
         },
         {
          "i": 1860,
          "loss": 229.09576416015625
         },
         {
          "i": 1861,
          "loss": 229.07870483398438
         },
         {
          "i": 1862,
          "loss": 229.06167602539062
         },
         {
          "i": 1863,
          "loss": 229.04470825195312
         },
         {
          "i": 1864,
          "loss": 229.02767944335938
         },
         {
          "i": 1865,
          "loss": 229.01072692871094
         },
         {
          "i": 1866,
          "loss": 228.99380493164062
         },
         {
          "i": 1867,
          "loss": 228.97686767578125
         },
         {
          "i": 1868,
          "loss": 228.95986938476562
         },
         {
          "i": 1869,
          "loss": 228.9429931640625
         },
         {
          "i": 1870,
          "loss": 228.92605590820312
         },
         {
          "i": 1871,
          "loss": 228.9091796875
         },
         {
          "i": 1872,
          "loss": 228.89231872558594
         },
         {
          "i": 1873,
          "loss": 228.87542724609375
         },
         {
          "i": 1874,
          "loss": 228.8585968017578
         },
         {
          "i": 1875,
          "loss": 228.8417510986328
         },
         {
          "i": 1876,
          "loss": 228.82498168945312
         },
         {
          "i": 1877,
          "loss": 228.80816650390625
         },
         {
          "i": 1878,
          "loss": 228.7913818359375
         },
         {
          "i": 1879,
          "loss": 228.7746124267578
         },
         {
          "i": 1880,
          "loss": 228.75782775878906
         },
         {
          "i": 1881,
          "loss": 228.7410888671875
         },
         {
          "i": 1882,
          "loss": 228.72433471679688
         },
         {
          "i": 1883,
          "loss": 228.70761108398438
         },
         {
          "i": 1884,
          "loss": 228.69091796875
         },
         {
          "i": 1885,
          "loss": 228.6741943359375
         },
         {
          "i": 1886,
          "loss": 228.65753173828125
         },
         {
          "i": 1887,
          "loss": 228.64083862304688
         },
         {
          "i": 1888,
          "loss": 228.62417602539062
         },
         {
          "i": 1889,
          "loss": 228.60757446289062
         },
         {
          "i": 1890,
          "loss": 228.5909423828125
         },
         {
          "i": 1891,
          "loss": 228.57431030273438
         },
         {
          "i": 1892,
          "loss": 228.5577392578125
         },
         {
          "i": 1893,
          "loss": 228.54116821289062
         },
         {
          "i": 1894,
          "loss": 228.52459716796875
         },
         {
          "i": 1895,
          "loss": 228.5080108642578
         },
         {
          "i": 1896,
          "loss": 228.49151611328125
         },
         {
          "i": 1897,
          "loss": 228.4749755859375
         },
         {
          "i": 1898,
          "loss": 228.45848083496094
         },
         {
          "i": 1899,
          "loss": 228.44195556640625
         },
         {
          "i": 1900,
          "loss": 228.4254913330078
         },
         {
          "i": 1901,
          "loss": 228.40899658203125
         },
         {
          "i": 1902,
          "loss": 228.39256286621094
         },
         {
          "i": 1903,
          "loss": 228.37606811523438
         },
         {
          "i": 1904,
          "loss": 228.3596649169922
         },
         {
          "i": 1905,
          "loss": 228.34326171875
         },
         {
          "i": 1906,
          "loss": 228.32687377929688
         },
         {
          "i": 1907,
          "loss": 228.3105010986328
         },
         {
          "i": 1908,
          "loss": 228.2941436767578
         },
         {
          "i": 1909,
          "loss": 228.2777557373047
         },
         {
          "i": 1910,
          "loss": 228.2614288330078
         },
         {
          "i": 1911,
          "loss": 228.2451171875
         },
         {
          "i": 1912,
          "loss": 228.22882080078125
         },
         {
          "i": 1913,
          "loss": 228.21249389648438
         },
         {
          "i": 1914,
          "loss": 228.1962127685547
         },
         {
          "i": 1915,
          "loss": 228.17994689941406
         },
         {
          "i": 1916,
          "loss": 228.1636962890625
         },
         {
          "i": 1917,
          "loss": 228.1474151611328
         },
         {
          "i": 1918,
          "loss": 228.13116455078125
         },
         {
          "i": 1919,
          "loss": 228.1149444580078
         },
         {
          "i": 1920,
          "loss": 228.09877014160156
         },
         {
          "i": 1921,
          "loss": 228.08253479003906
         },
         {
          "i": 1922,
          "loss": 228.06639099121094
         },
         {
          "i": 1923,
          "loss": 228.0502166748047
         },
         {
          "i": 1924,
          "loss": 228.03402709960938
         },
         {
          "i": 1925,
          "loss": 228.01788330078125
         },
         {
          "i": 1926,
          "loss": 228.00177001953125
         },
         {
          "i": 1927,
          "loss": 227.98562622070312
         },
         {
          "i": 1928,
          "loss": 227.96954345703125
         },
         {
          "i": 1929,
          "loss": 227.95347595214844
         },
         {
          "i": 1930,
          "loss": 227.9373779296875
         },
         {
          "i": 1931,
          "loss": 227.9213409423828
         },
         {
          "i": 1932,
          "loss": 227.90528869628906
         },
         {
          "i": 1933,
          "loss": 227.8892364501953
         },
         {
          "i": 1934,
          "loss": 227.8732452392578
         },
         {
          "i": 1935,
          "loss": 227.85720825195312
         },
         {
          "i": 1936,
          "loss": 227.84124755859375
         },
         {
          "i": 1937,
          "loss": 227.8252716064453
         },
         {
          "i": 1938,
          "loss": 227.8092803955078
         },
         {
          "i": 1939,
          "loss": 227.7933349609375
         },
         {
          "i": 1940,
          "loss": 227.7774200439453
         },
         {
          "i": 1941,
          "loss": 227.76148986816406
         },
         {
          "i": 1942,
          "loss": 227.7455596923828
         },
         {
          "i": 1943,
          "loss": 227.7296905517578
         },
         {
          "i": 1944,
          "loss": 227.71377563476562
         },
         {
          "i": 1945,
          "loss": 227.69793701171875
         },
         {
          "i": 1946,
          "loss": 227.6820831298828
         },
         {
          "i": 1947,
          "loss": 227.66622924804688
         },
         {
          "i": 1948,
          "loss": 227.650390625
         },
         {
          "i": 1949,
          "loss": 227.63458251953125
         },
         {
          "i": 1950,
          "loss": 227.6187744140625
         },
         {
          "i": 1951,
          "loss": 227.6029815673828
         },
         {
          "i": 1952,
          "loss": 227.5872039794922
         },
         {
          "i": 1953,
          "loss": 227.57147216796875
         },
         {
          "i": 1954,
          "loss": 227.55567932128906
         },
         {
          "i": 1955,
          "loss": 227.5399627685547
         },
         {
          "i": 1956,
          "loss": 227.52420043945312
         },
         {
          "i": 1957,
          "loss": 227.5084991455078
         },
         {
          "i": 1958,
          "loss": 227.4927978515625
         },
         {
          "i": 1959,
          "loss": 227.4770965576172
         },
         {
          "i": 1960,
          "loss": 227.4613800048828
         },
         {
          "i": 1961,
          "loss": 227.44573974609375
         },
         {
          "i": 1962,
          "loss": 227.43011474609375
         },
         {
          "i": 1963,
          "loss": 227.4144744873047
         },
         {
          "i": 1964,
          "loss": 227.3988494873047
         },
         {
          "i": 1965,
          "loss": 227.38320922851562
         },
         {
          "i": 1966,
          "loss": 227.3676300048828
         },
         {
          "i": 1967,
          "loss": 227.35203552246094
         },
         {
          "i": 1968,
          "loss": 227.3364715576172
         },
         {
          "i": 1969,
          "loss": 227.3208770751953
         },
         {
          "i": 1970,
          "loss": 227.30535888671875
         },
         {
          "i": 1971,
          "loss": 227.28981018066406
         },
         {
          "i": 1972,
          "loss": 227.2742919921875
         },
         {
          "i": 1973,
          "loss": 227.25877380371094
         },
         {
          "i": 1974,
          "loss": 227.24330139160156
         },
         {
          "i": 1975,
          "loss": 227.22781372070312
         },
         {
          "i": 1976,
          "loss": 227.2123565673828
         },
         {
          "i": 1977,
          "loss": 227.1968994140625
         },
         {
          "i": 1978,
          "loss": 227.1814422607422
         },
         {
          "i": 1979,
          "loss": 227.1660614013672
         },
         {
          "i": 1980,
          "loss": 227.15060424804688
         },
         {
          "i": 1981,
          "loss": 227.13519287109375
         },
         {
          "i": 1982,
          "loss": 227.11978149414062
         },
         {
          "i": 1983,
          "loss": 227.1044158935547
         },
         {
          "i": 1984,
          "loss": 227.0890655517578
         },
         {
          "i": 1985,
          "loss": 227.07366943359375
         },
         {
          "i": 1986,
          "loss": 227.05833435058594
         },
         {
          "i": 1987,
          "loss": 227.04298400878906
         },
         {
          "i": 1988,
          "loss": 227.02767944335938
         },
         {
          "i": 1989,
          "loss": 227.01239013671875
         },
         {
          "i": 1990,
          "loss": 226.9970703125
         },
         {
          "i": 1991,
          "loss": 226.9818115234375
         },
         {
          "i": 1992,
          "loss": 226.96652221679688
         },
         {
          "i": 1993,
          "loss": 226.9512939453125
         },
         {
          "i": 1994,
          "loss": 226.93603515625
         },
         {
          "i": 1995,
          "loss": 226.92076110839844
         },
         {
          "i": 1996,
          "loss": 226.9055633544922
         },
         {
          "i": 1997,
          "loss": 226.89035034179688
         },
         {
          "i": 1998,
          "loss": 226.87513732910156
         },
         {
          "i": 1999,
          "loss": 226.85995483398438
         },
         {
          "i": 2000,
          "loss": 226.84474182128906
         },
         {
          "i": 2001,
          "loss": 226.82957458496094
         },
         {
          "i": 2002,
          "loss": 226.8144073486328
         },
         {
          "i": 2003,
          "loss": 226.79925537109375
         },
         {
          "i": 2004,
          "loss": 226.78408813476562
         },
         {
          "i": 2005,
          "loss": 226.76898193359375
         },
         {
          "i": 2006,
          "loss": 226.75389099121094
         },
         {
          "i": 2007,
          "loss": 226.73876953125
         },
         {
          "i": 2008,
          "loss": 226.72369384765625
         },
         {
          "i": 2009,
          "loss": 226.7086181640625
         },
         {
          "i": 2010,
          "loss": 226.69351196289062
         },
         {
          "i": 2011,
          "loss": 226.67852783203125
         },
         {
          "i": 2012,
          "loss": 226.6634979248047
         },
         {
          "i": 2013,
          "loss": 226.6484375
         },
         {
          "i": 2014,
          "loss": 226.63345336914062
         },
         {
          "i": 2015,
          "loss": 226.6184539794922
         },
         {
          "i": 2016,
          "loss": 226.6034393310547
         },
         {
          "i": 2017,
          "loss": 226.5885009765625
         },
         {
          "i": 2018,
          "loss": 226.57354736328125
         },
         {
          "i": 2019,
          "loss": 226.55859375
         },
         {
          "i": 2020,
          "loss": 226.5436553955078
         },
         {
          "i": 2021,
          "loss": 226.5287322998047
         },
         {
          "i": 2022,
          "loss": 226.51382446289062
         },
         {
          "i": 2023,
          "loss": 226.49893188476562
         },
         {
          "i": 2024,
          "loss": 226.48402404785156
         },
         {
          "i": 2025,
          "loss": 226.4691162109375
         },
         {
          "i": 2026,
          "loss": 226.45425415039062
         },
         {
          "i": 2027,
          "loss": 226.43943786621094
         },
         {
          "i": 2028,
          "loss": 226.42457580566406
         },
         {
          "i": 2029,
          "loss": 226.40975952148438
         },
         {
          "i": 2030,
          "loss": 226.39495849609375
         },
         {
          "i": 2031,
          "loss": 226.38014221191406
         },
         {
          "i": 2032,
          "loss": 226.3653564453125
         },
         {
          "i": 2033,
          "loss": 226.35057067871094
         },
         {
          "i": 2034,
          "loss": 226.33578491210938
         },
         {
          "i": 2035,
          "loss": 226.32102966308594
         },
         {
          "i": 2036,
          "loss": 226.3062744140625
         },
         {
          "i": 2037,
          "loss": 226.29156494140625
         },
         {
          "i": 2038,
          "loss": 226.2768096923828
         },
         {
          "i": 2039,
          "loss": 226.26211547851562
         },
         {
          "i": 2040,
          "loss": 226.24742126464844
         },
         {
          "i": 2041,
          "loss": 226.2327117919922
         },
         {
          "i": 2042,
          "loss": 226.2180633544922
         },
         {
          "i": 2043,
          "loss": 226.20335388183594
         },
         {
          "i": 2044,
          "loss": 226.18870544433594
         },
         {
          "i": 2045,
          "loss": 226.17405700683594
         },
         {
          "i": 2046,
          "loss": 226.1593780517578
         },
         {
          "i": 2047,
          "loss": 226.14479064941406
         },
         {
          "i": 2048,
          "loss": 226.1301727294922
         },
         {
          "i": 2049,
          "loss": 226.11558532714844
         },
         {
          "i": 2050,
          "loss": 226.10098266601562
         },
         {
          "i": 2051,
          "loss": 226.0863800048828
         },
         {
          "i": 2052,
          "loss": 226.0718536376953
         },
         {
          "i": 2053,
          "loss": 226.05726623535156
         },
         {
          "i": 2054,
          "loss": 226.04275512695312
         },
         {
          "i": 2055,
          "loss": 226.0281982421875
         },
         {
          "i": 2056,
          "loss": 226.0137176513672
         },
         {
          "i": 2057,
          "loss": 225.99916076660156
         },
         {
          "i": 2058,
          "loss": 225.98471069335938
         },
         {
          "i": 2059,
          "loss": 225.97019958496094
         },
         {
          "i": 2060,
          "loss": 225.95570373535156
         },
         {
          "i": 2061,
          "loss": 225.94126892089844
         },
         {
          "i": 2062,
          "loss": 225.9268341064453
         },
         {
          "i": 2063,
          "loss": 225.91236877441406
         },
         {
          "i": 2064,
          "loss": 225.89796447753906
         },
         {
          "i": 2065,
          "loss": 225.8834991455078
         },
         {
          "i": 2066,
          "loss": 225.86907958984375
         },
         {
          "i": 2067,
          "loss": 225.85470581054688
         },
         {
          "i": 2068,
          "loss": 225.84031677246094
         },
         {
          "i": 2069,
          "loss": 225.8259735107422
         },
         {
          "i": 2070,
          "loss": 225.8115997314453
         },
         {
          "i": 2071,
          "loss": 225.7972412109375
         },
         {
          "i": 2072,
          "loss": 225.78292846679688
         },
         {
          "i": 2073,
          "loss": 225.76856994628906
         },
         {
          "i": 2074,
          "loss": 225.7542724609375
         },
         {
          "i": 2075,
          "loss": 225.73997497558594
         },
         {
          "i": 2076,
          "loss": 225.72567749023438
         },
         {
          "i": 2077,
          "loss": 225.71142578125
         },
         {
          "i": 2078,
          "loss": 225.69717407226562
         },
         {
          "i": 2079,
          "loss": 225.68292236328125
         },
         {
          "i": 2080,
          "loss": 225.66868591308594
         },
         {
          "i": 2081,
          "loss": 225.65447998046875
         },
         {
          "i": 2082,
          "loss": 225.6402130126953
         },
         {
          "i": 2083,
          "loss": 225.62603759765625
         },
         {
          "i": 2084,
          "loss": 225.61180114746094
         },
         {
          "i": 2085,
          "loss": 225.59765625
         },
         {
          "i": 2086,
          "loss": 225.5834503173828
         },
         {
          "i": 2087,
          "loss": 225.56927490234375
         },
         {
          "i": 2088,
          "loss": 225.5551300048828
         },
         {
          "i": 2089,
          "loss": 225.5409698486328
         },
         {
          "i": 2090,
          "loss": 225.52684020996094
         },
         {
          "i": 2091,
          "loss": 225.51271057128906
         },
         {
          "i": 2092,
          "loss": 225.49862670898438
         },
         {
          "i": 2093,
          "loss": 225.4844970703125
         },
         {
          "i": 2094,
          "loss": 225.47039794921875
         },
         {
          "i": 2095,
          "loss": 225.45631408691406
         },
         {
          "i": 2096,
          "loss": 225.44224548339844
         },
         {
          "i": 2097,
          "loss": 225.4281768798828
         },
         {
          "i": 2098,
          "loss": 225.41412353515625
         },
         {
          "i": 2099,
          "loss": 225.40005493164062
         },
         {
          "i": 2100,
          "loss": 225.38604736328125
         },
         {
          "i": 2101,
          "loss": 225.3720245361328
         },
         {
          "i": 2102,
          "loss": 225.3580322265625
         },
         {
          "i": 2103,
          "loss": 225.34400939941406
         },
         {
          "i": 2104,
          "loss": 225.33006286621094
         },
         {
          "i": 2105,
          "loss": 225.31605529785156
         },
         {
          "i": 2106,
          "loss": 225.30203247070312
         },
         {
          "i": 2107,
          "loss": 225.28814697265625
         },
         {
          "i": 2108,
          "loss": 225.27420043945312
         },
         {
          "i": 2109,
          "loss": 225.26026916503906
         },
         {
          "i": 2110,
          "loss": 225.24632263183594
         },
         {
          "i": 2111,
          "loss": 225.23240661621094
         },
         {
          "i": 2112,
          "loss": 225.21853637695312
         },
         {
          "i": 2113,
          "loss": 225.20465087890625
         },
         {
          "i": 2114,
          "loss": 225.19076538085938
         },
         {
          "i": 2115,
          "loss": 225.17689514160156
         },
         {
          "i": 2116,
          "loss": 225.1630401611328
         },
         {
          "i": 2117,
          "loss": 225.1492156982422
         },
         {
          "i": 2118,
          "loss": 225.1353302001953
         },
         {
          "i": 2119,
          "loss": 225.12149047851562
         },
         {
          "i": 2120,
          "loss": 225.10769653320312
         },
         {
          "i": 2121,
          "loss": 225.09390258789062
         },
         {
          "i": 2122,
          "loss": 225.080078125
         },
         {
          "i": 2123,
          "loss": 225.06626892089844
         },
         {
          "i": 2124,
          "loss": 225.05247497558594
         },
         {
          "i": 2125,
          "loss": 225.03875732421875
         },
         {
          "i": 2126,
          "loss": 225.0249786376953
         },
         {
          "i": 2127,
          "loss": 225.01124572753906
         },
         {
          "i": 2128,
          "loss": 224.9975128173828
         },
         {
          "i": 2129,
          "loss": 224.9837646484375
         },
         {
          "i": 2130,
          "loss": 224.9700164794922
         },
         {
          "i": 2131,
          "loss": 224.9563446044922
         },
         {
          "i": 2132,
          "loss": 224.94264221191406
         },
         {
          "i": 2133,
          "loss": 224.92897033691406
         },
         {
          "i": 2134,
          "loss": 224.91529846191406
         },
         {
          "i": 2135,
          "loss": 224.90162658691406
         },
         {
          "i": 2136,
          "loss": 224.8879852294922
         },
         {
          "i": 2137,
          "loss": 224.8743133544922
         },
         {
          "i": 2138,
          "loss": 224.86065673828125
         },
         {
          "i": 2139,
          "loss": 224.84707641601562
         },
         {
          "i": 2140,
          "loss": 224.83349609375
         },
         {
          "i": 2141,
          "loss": 224.81982421875
         },
         {
          "i": 2142,
          "loss": 224.80624389648438
         },
         {
          "i": 2143,
          "loss": 224.79269409179688
         },
         {
          "i": 2144,
          "loss": 224.77915954589844
         },
         {
          "i": 2145,
          "loss": 224.76556396484375
         },
         {
          "i": 2146,
          "loss": 224.75204467773438
         },
         {
          "i": 2147,
          "loss": 224.73851013183594
         },
         {
          "i": 2148,
          "loss": 224.7249755859375
         },
         {
          "i": 2149,
          "loss": 224.71148681640625
         },
         {
          "i": 2150,
          "loss": 224.69796752929688
         },
         {
          "i": 2151,
          "loss": 224.68450927734375
         },
         {
          "i": 2152,
          "loss": 224.67103576660156
         },
         {
          "i": 2153,
          "loss": 224.65757751464844
         },
         {
          "i": 2154,
          "loss": 224.6441192626953
         },
         {
          "i": 2155,
          "loss": 224.6306610107422
         },
         {
          "i": 2156,
          "loss": 224.61720275878906
         },
         {
          "i": 2157,
          "loss": 224.60382080078125
         },
         {
          "i": 2158,
          "loss": 224.59039306640625
         },
         {
          "i": 2159,
          "loss": 224.57696533203125
         },
         {
          "i": 2160,
          "loss": 224.56361389160156
         },
         {
          "i": 2161,
          "loss": 224.55020141601562
         },
         {
          "i": 2162,
          "loss": 224.53683471679688
         },
         {
          "i": 2163,
          "loss": 224.52345275878906
         },
         {
          "i": 2164,
          "loss": 224.51010131835938
         },
         {
          "i": 2165,
          "loss": 224.49671936035156
         },
         {
          "i": 2166,
          "loss": 224.48338317871094
         },
         {
          "i": 2167,
          "loss": 224.47006225585938
         },
         {
          "i": 2168,
          "loss": 224.45672607421875
         },
         {
          "i": 2169,
          "loss": 224.4434051513672
         },
         {
          "i": 2170,
          "loss": 224.43011474609375
         },
         {
          "i": 2171,
          "loss": 224.4167938232422
         },
         {
          "i": 2172,
          "loss": 224.4035186767578
         },
         {
          "i": 2173,
          "loss": 224.39022827148438
         },
         {
          "i": 2174,
          "loss": 224.3769989013672
         },
         {
          "i": 2175,
          "loss": 224.36375427246094
         },
         {
          "i": 2176,
          "loss": 224.35049438476562
         },
         {
          "i": 2177,
          "loss": 224.33726501464844
         },
         {
          "i": 2178,
          "loss": 224.32400512695312
         },
         {
          "i": 2179,
          "loss": 224.3108367919922
         },
         {
          "i": 2180,
          "loss": 224.29759216308594
         },
         {
          "i": 2181,
          "loss": 224.28440856933594
         },
         {
          "i": 2182,
          "loss": 224.27122497558594
         },
         {
          "i": 2183,
          "loss": 224.25804138183594
         },
         {
          "i": 2184,
          "loss": 224.24484252929688
         },
         {
          "i": 2185,
          "loss": 224.23170471191406
         },
         {
          "i": 2186,
          "loss": 224.2185516357422
         },
         {
          "i": 2187,
          "loss": 224.20541381835938
         },
         {
          "i": 2188,
          "loss": 224.19224548339844
         },
         {
          "i": 2189,
          "loss": 224.1791229248047
         },
         {
          "i": 2190,
          "loss": 224.16600036621094
         },
         {
          "i": 2191,
          "loss": 224.1529083251953
         },
         {
          "i": 2192,
          "loss": 224.13983154296875
         },
         {
          "i": 2193,
          "loss": 224.12672424316406
         },
         {
          "i": 2194,
          "loss": 224.11363220214844
         },
         {
          "i": 2195,
          "loss": 224.10057067871094
         },
         {
          "i": 2196,
          "loss": 224.08749389648438
         },
         {
          "i": 2197,
          "loss": 224.07449340820312
         },
         {
          "i": 2198,
          "loss": 224.0614471435547
         },
         {
          "i": 2199,
          "loss": 224.0484161376953
         },
         {
          "i": 2200,
          "loss": 224.03538513183594
         },
         {
          "i": 2201,
          "loss": 224.02239990234375
         },
         {
          "i": 2202,
          "loss": 224.00941467285156
         },
         {
          "i": 2203,
          "loss": 223.99642944335938
         },
         {
          "i": 2204,
          "loss": 223.98345947265625
         },
         {
          "i": 2205,
          "loss": 223.97048950195312
         },
         {
          "i": 2206,
          "loss": 223.95751953125
         },
         {
          "i": 2207,
          "loss": 223.94456481933594
         },
         {
          "i": 2208,
          "loss": 223.9316864013672
         },
         {
          "i": 2209,
          "loss": 223.9187469482422
         },
         {
          "i": 2210,
          "loss": 223.90585327148438
         },
         {
          "i": 2211,
          "loss": 223.89292907714844
         },
         {
          "i": 2212,
          "loss": 223.88003540039062
         },
         {
          "i": 2213,
          "loss": 223.86717224121094
         },
         {
          "i": 2214,
          "loss": 223.85427856445312
         },
         {
          "i": 2215,
          "loss": 223.84140014648438
         },
         {
          "i": 2216,
          "loss": 223.82855224609375
         },
         {
          "i": 2217,
          "loss": 223.8157196044922
         },
         {
          "i": 2218,
          "loss": 223.8028564453125
         },
         {
          "i": 2219,
          "loss": 223.79002380371094
         },
         {
          "i": 2220,
          "loss": 223.77720642089844
         },
         {
          "i": 2221,
          "loss": 223.76441955566406
         },
         {
          "i": 2222,
          "loss": 223.7515869140625
         },
         {
          "i": 2223,
          "loss": 223.7388153076172
         },
         {
          "i": 2224,
          "loss": 223.7259979248047
         },
         {
          "i": 2225,
          "loss": 223.7132568359375
         },
         {
          "i": 2226,
          "loss": 223.7004852294922
         },
         {
          "i": 2227,
          "loss": 223.68771362304688
         },
         {
          "i": 2228,
          "loss": 223.67498779296875
         },
         {
          "i": 2229,
          "loss": 223.6622314453125
         },
         {
          "i": 2230,
          "loss": 223.6494903564453
         },
         {
          "i": 2231,
          "loss": 223.63681030273438
         },
         {
          "i": 2232,
          "loss": 223.62408447265625
         },
         {
          "i": 2233,
          "loss": 223.61138916015625
         },
         {
          "i": 2234,
          "loss": 223.59872436523438
         },
         {
          "i": 2235,
          "loss": 223.58602905273438
         },
         {
          "i": 2236,
          "loss": 223.57337951660156
         },
         {
          "i": 2237,
          "loss": 223.56068420410156
         },
         {
          "i": 2238,
          "loss": 223.54806518554688
         },
         {
          "i": 2239,
          "loss": 223.53541564941406
         },
         {
          "i": 2240,
          "loss": 223.52281188964844
         },
         {
          "i": 2241,
          "loss": 223.51019287109375
         },
         {
          "i": 2242,
          "loss": 223.49757385253906
         },
         {
          "i": 2243,
          "loss": 223.48495483398438
         },
         {
          "i": 2244,
          "loss": 223.47238159179688
         },
         {
          "i": 2245,
          "loss": 223.45980834960938
         },
         {
          "i": 2246,
          "loss": 223.4472198486328
         },
         {
          "i": 2247,
          "loss": 223.43463134765625
         },
         {
          "i": 2248,
          "loss": 223.42208862304688
         },
         {
          "i": 2249,
          "loss": 223.4095458984375
         },
         {
          "i": 2250,
          "loss": 223.39697265625
         },
         {
          "i": 2251,
          "loss": 223.38442993164062
         },
         {
          "i": 2252,
          "loss": 223.37191772460938
         },
         {
          "i": 2253,
          "loss": 223.35939025878906
         },
         {
          "i": 2254,
          "loss": 223.34693908691406
         },
         {
          "i": 2255,
          "loss": 223.3344268798828
         },
         {
          "i": 2256,
          "loss": 223.32191467285156
         },
         {
          "i": 2257,
          "loss": 223.30943298339844
         },
         {
          "i": 2258,
          "loss": 223.2969512939453
         },
         {
          "i": 2259,
          "loss": 223.28448486328125
         },
         {
          "i": 2260,
          "loss": 223.27203369140625
         },
         {
          "i": 2261,
          "loss": 223.25958251953125
         },
         {
          "i": 2262,
          "loss": 223.24713134765625
         },
         {
          "i": 2263,
          "loss": 223.23468017578125
         },
         {
          "i": 2264,
          "loss": 223.22225952148438
         },
         {
          "i": 2265,
          "loss": 223.20986938476562
         },
         {
          "i": 2266,
          "loss": 223.19744873046875
         },
         {
          "i": 2267,
          "loss": 223.1850128173828
         },
         {
          "i": 2268,
          "loss": 223.17263793945312
         },
         {
          "i": 2269,
          "loss": 223.1602783203125
         },
         {
          "i": 2270,
          "loss": 223.1479034423828
         },
         {
          "i": 2271,
          "loss": 223.1355438232422
         },
         {
          "i": 2272,
          "loss": 223.12313842773438
         },
         {
          "i": 2273,
          "loss": 223.11083984375
         },
         {
          "i": 2274,
          "loss": 223.09844970703125
         },
         {
          "i": 2275,
          "loss": 223.0861358642578
         },
         {
          "i": 2276,
          "loss": 223.0738067626953
         },
         {
          "i": 2277,
          "loss": 223.0614776611328
         },
         {
          "i": 2278,
          "loss": 223.0492401123047
         },
         {
          "i": 2279,
          "loss": 223.0369110107422
         },
         {
          "i": 2280,
          "loss": 223.02462768554688
         },
         {
          "i": 2281,
          "loss": 223.01234436035156
         },
         {
          "i": 2282,
          "loss": 223.00009155273438
         },
         {
          "i": 2283,
          "loss": 222.9878387451172
         },
         {
          "i": 2284,
          "loss": 222.97557067871094
         },
         {
          "i": 2285,
          "loss": 222.96331787109375
         },
         {
          "i": 2286,
          "loss": 222.9510955810547
         },
         {
          "i": 2287,
          "loss": 222.9388885498047
         },
         {
          "i": 2288,
          "loss": 222.9266815185547
         },
         {
          "i": 2289,
          "loss": 222.91445922851562
         },
         {
          "i": 2290,
          "loss": 222.9022674560547
         },
         {
          "i": 2291,
          "loss": 222.89007568359375
         },
         {
          "i": 2292,
          "loss": 222.8779296875
         },
         {
          "i": 2293,
          "loss": 222.8657684326172
         },
         {
          "i": 2294,
          "loss": 222.8536376953125
         },
         {
          "i": 2295,
          "loss": 222.84146118164062
         },
         {
          "i": 2296,
          "loss": 222.82936096191406
         },
         {
          "i": 2297,
          "loss": 222.81723022460938
         },
         {
          "i": 2298,
          "loss": 222.80508422851562
         },
         {
          "i": 2299,
          "loss": 222.79296875
         },
         {
          "i": 2300,
          "loss": 222.78085327148438
         },
         {
          "i": 2301,
          "loss": 222.76876831054688
         },
         {
          "i": 2302,
          "loss": 222.75669860839844
         },
         {
          "i": 2303,
          "loss": 222.74464416503906
         },
         {
          "i": 2304,
          "loss": 222.73260498046875
         },
         {
          "i": 2305,
          "loss": 222.72052001953125
         },
         {
          "i": 2306,
          "loss": 222.70848083496094
         },
         {
          "i": 2307,
          "loss": 222.69644165039062
         },
         {
          "i": 2308,
          "loss": 222.68443298339844
         },
         {
          "i": 2309,
          "loss": 222.6724090576172
         },
         {
          "i": 2310,
          "loss": 222.6603546142578
         },
         {
          "i": 2311,
          "loss": 222.6483612060547
         },
         {
          "i": 2312,
          "loss": 222.63638305664062
         },
         {
          "i": 2313,
          "loss": 222.6243896484375
         },
         {
          "i": 2314,
          "loss": 222.61239624023438
         },
         {
          "i": 2315,
          "loss": 222.60043334960938
         },
         {
          "i": 2316,
          "loss": 222.5884552001953
         },
         {
          "i": 2317,
          "loss": 222.57650756835938
         },
         {
          "i": 2318,
          "loss": 222.56459045410156
         },
         {
          "i": 2319,
          "loss": 222.55259704589844
         },
         {
          "i": 2320,
          "loss": 222.54071044921875
         },
         {
          "i": 2321,
          "loss": 222.52874755859375
         },
         {
          "i": 2322,
          "loss": 222.51681518554688
         },
         {
          "i": 2323,
          "loss": 222.50494384765625
         },
         {
          "i": 2324,
          "loss": 222.49302673339844
         },
         {
          "i": 2325,
          "loss": 222.48110961914062
         },
         {
          "i": 2326,
          "loss": 222.46922302246094
         },
         {
          "i": 2327,
          "loss": 222.45736694335938
         },
         {
          "i": 2328,
          "loss": 222.44549560546875
         },
         {
          "i": 2329,
          "loss": 222.43360900878906
         },
         {
          "i": 2330,
          "loss": 222.4217529296875
         },
         {
          "i": 2331,
          "loss": 222.40992736816406
         },
         {
          "i": 2332,
          "loss": 222.39804077148438
         },
         {
          "i": 2333,
          "loss": 222.38621520996094
         },
         {
          "i": 2334,
          "loss": 222.3743896484375
         },
         {
          "i": 2335,
          "loss": 222.36257934570312
         },
         {
          "i": 2336,
          "loss": 222.35076904296875
         },
         {
          "i": 2337,
          "loss": 222.33895874023438
         },
         {
          "i": 2338,
          "loss": 222.3271484375
         },
         {
          "i": 2339,
          "loss": 222.3153533935547
         },
         {
          "i": 2340,
          "loss": 222.30355834960938
         },
         {
          "i": 2341,
          "loss": 222.2917938232422
         },
         {
          "i": 2342,
          "loss": 222.28004455566406
         },
         {
          "i": 2343,
          "loss": 222.2682647705078
         },
         {
          "i": 2344,
          "loss": 222.2565460205078
         },
         {
          "i": 2345,
          "loss": 222.24478149414062
         },
         {
          "i": 2346,
          "loss": 222.23309326171875
         },
         {
          "i": 2347,
          "loss": 222.2213897705078
         },
         {
          "i": 2348,
          "loss": 222.2096710205078
         },
         {
          "i": 2349,
          "loss": 222.1979522705078
         },
         {
          "i": 2350,
          "loss": 222.18629455566406
         },
         {
          "i": 2351,
          "loss": 222.17459106445312
         },
         {
          "i": 2352,
          "loss": 222.16293334960938
         },
         {
          "i": 2353,
          "loss": 222.1512451171875
         },
         {
          "i": 2354,
          "loss": 222.1396026611328
         },
         {
          "i": 2355,
          "loss": 222.12794494628906
         },
         {
          "i": 2356,
          "loss": 222.11630249023438
         },
         {
          "i": 2357,
          "loss": 222.10467529296875
         },
         {
          "i": 2358,
          "loss": 222.0930633544922
         },
         {
          "i": 2359,
          "loss": 222.0814208984375
         },
         {
          "i": 2360,
          "loss": 222.06982421875
         },
         {
          "i": 2361,
          "loss": 222.0582275390625
         },
         {
          "i": 2362,
          "loss": 222.04660034179688
         },
         {
          "i": 2363,
          "loss": 222.03500366210938
         },
         {
          "i": 2364,
          "loss": 222.0234832763672
         },
         {
          "i": 2365,
          "loss": 222.01190185546875
         },
         {
          "i": 2366,
          "loss": 222.00033569335938
         },
         {
          "i": 2367,
          "loss": 221.98875427246094
         },
         {
          "i": 2368,
          "loss": 221.97718811035156
         },
         {
          "i": 2369,
          "loss": 221.96563720703125
         },
         {
          "i": 2370,
          "loss": 221.95411682128906
         },
         {
          "i": 2371,
          "loss": 221.94261169433594
         },
         {
          "i": 2372,
          "loss": 221.93109130859375
         },
         {
          "i": 2373,
          "loss": 221.91958618164062
         },
         {
          "i": 2374,
          "loss": 221.90806579589844
         },
         {
          "i": 2375,
          "loss": 221.8965606689453
         },
         {
          "i": 2376,
          "loss": 221.88510131835938
         },
         {
          "i": 2377,
          "loss": 221.87362670898438
         },
         {
          "i": 2378,
          "loss": 221.86215209960938
         },
         {
          "i": 2379,
          "loss": 221.8507080078125
         },
         {
          "i": 2380,
          "loss": 221.83920288085938
         },
         {
          "i": 2381,
          "loss": 221.8277587890625
         },
         {
          "i": 2382,
          "loss": 221.81631469726562
         },
         {
          "i": 2383,
          "loss": 221.80487060546875
         },
         {
          "i": 2384,
          "loss": 221.79347229003906
         },
         {
          "i": 2385,
          "loss": 221.7820281982422
         },
         {
          "i": 2386,
          "loss": 221.77064514160156
         },
         {
          "i": 2387,
          "loss": 221.7592315673828
         },
         {
          "i": 2388,
          "loss": 221.74783325195312
         },
         {
          "i": 2389,
          "loss": 221.73646545410156
         },
         {
          "i": 2390,
          "loss": 221.72508239746094
         },
         {
          "i": 2391,
          "loss": 221.71371459960938
         },
         {
          "i": 2392,
          "loss": 221.70236206054688
         },
         {
          "i": 2393,
          "loss": 221.69100952148438
         },
         {
          "i": 2394,
          "loss": 221.6796417236328
         },
         {
          "i": 2395,
          "loss": 221.66831970214844
         },
         {
          "i": 2396,
          "loss": 221.65699768066406
         },
         {
          "i": 2397,
          "loss": 221.64569091796875
         },
         {
          "i": 2398,
          "loss": 221.6343536376953
         },
         {
          "i": 2399,
          "loss": 221.62306213378906
         },
         {
          "i": 2400,
          "loss": 221.61175537109375
         },
         {
          "i": 2401,
          "loss": 221.60049438476562
         },
         {
          "i": 2402,
          "loss": 221.58920288085938
         },
         {
          "i": 2403,
          "loss": 221.57797241210938
         },
         {
          "i": 2404,
          "loss": 221.56668090820312
         },
         {
          "i": 2405,
          "loss": 221.55545043945312
         },
         {
          "i": 2406,
          "loss": 221.54420471191406
         },
         {
          "i": 2407,
          "loss": 221.53294372558594
         },
         {
          "i": 2408,
          "loss": 221.52174377441406
         },
         {
          "i": 2409,
          "loss": 221.51051330566406
         },
         {
          "i": 2410,
          "loss": 221.49928283691406
         },
         {
          "i": 2411,
          "loss": 221.4880828857422
         },
         {
          "i": 2412,
          "loss": 221.47689819335938
         },
         {
          "i": 2413,
          "loss": 221.4656982421875
         },
         {
          "i": 2414,
          "loss": 221.4545135498047
         },
         {
          "i": 2415,
          "loss": 221.4433135986328
         },
         {
          "i": 2416,
          "loss": 221.43214416503906
         },
         {
          "i": 2417,
          "loss": 221.42098999023438
         },
         {
          "i": 2418,
          "loss": 221.40980529785156
         },
         {
          "i": 2419,
          "loss": 221.3986358642578
         },
         {
          "i": 2420,
          "loss": 221.3874969482422
         },
         {
          "i": 2421,
          "loss": 221.3763885498047
         },
         {
          "i": 2422,
          "loss": 221.3652801513672
         },
         {
          "i": 2423,
          "loss": 221.35415649414062
         },
         {
          "i": 2424,
          "loss": 221.34303283691406
         },
         {
          "i": 2425,
          "loss": 221.3319549560547
         },
         {
          "i": 2426,
          "loss": 221.32080078125
         },
         {
          "i": 2427,
          "loss": 221.30975341796875
         },
         {
          "i": 2428,
          "loss": 221.29864501953125
         },
         {
          "i": 2429,
          "loss": 221.28758239746094
         },
         {
          "i": 2430,
          "loss": 221.27655029296875
         },
         {
          "i": 2431,
          "loss": 221.26547241210938
         },
         {
          "i": 2432,
          "loss": 221.25439453125
         },
         {
          "i": 2433,
          "loss": 221.24337768554688
         },
         {
          "i": 2434,
          "loss": 221.23236083984375
         },
         {
          "i": 2435,
          "loss": 221.2213134765625
         },
         {
          "i": 2436,
          "loss": 221.21029663085938
         },
         {
          "i": 2437,
          "loss": 221.1992645263672
         },
         {
          "i": 2438,
          "loss": 221.1882781982422
         },
         {
          "i": 2439,
          "loss": 221.17724609375
         },
         {
          "i": 2440,
          "loss": 221.16627502441406
         },
         {
          "i": 2441,
          "loss": 221.1552734375
         },
         {
          "i": 2442,
          "loss": 221.14430236816406
         },
         {
          "i": 2443,
          "loss": 221.13331604003906
         },
         {
          "i": 2444,
          "loss": 221.1223602294922
         },
         {
          "i": 2445,
          "loss": 221.1113739013672
         },
         {
          "i": 2446,
          "loss": 221.10044860839844
         },
         {
          "i": 2447,
          "loss": 221.08949279785156
         },
         {
          "i": 2448,
          "loss": 221.07852172851562
         },
         {
          "i": 2449,
          "loss": 221.06761169433594
         },
         {
          "i": 2450,
          "loss": 221.05665588378906
         },
         {
          "i": 2451,
          "loss": 221.04574584960938
         },
         {
          "i": 2452,
          "loss": 221.03485107421875
         },
         {
          "i": 2453,
          "loss": 221.0239715576172
         },
         {
          "i": 2454,
          "loss": 221.01303100585938
         },
         {
          "i": 2455,
          "loss": 221.00216674804688
         },
         {
          "i": 2456,
          "loss": 220.9912872314453
         },
         {
          "i": 2457,
          "loss": 220.98046875
         },
         {
          "i": 2458,
          "loss": 220.96954345703125
         },
         {
          "i": 2459,
          "loss": 220.95870971679688
         },
         {
          "i": 2460,
          "loss": 220.94790649414062
         },
         {
          "i": 2461,
          "loss": 220.9370574951172
         },
         {
          "i": 2462,
          "loss": 220.9262237548828
         },
         {
          "i": 2463,
          "loss": 220.91539001464844
         },
         {
          "i": 2464,
          "loss": 220.9045867919922
         },
         {
          "i": 2465,
          "loss": 220.89376831054688
         },
         {
          "i": 2466,
          "loss": 220.88296508789062
         },
         {
          "i": 2467,
          "loss": 220.8721466064453
         },
         {
          "i": 2468,
          "loss": 220.86138916015625
         },
         {
          "i": 2469,
          "loss": 220.85060119628906
         },
         {
          "i": 2470,
          "loss": 220.83982849121094
         },
         {
          "i": 2471,
          "loss": 220.8290557861328
         },
         {
          "i": 2472,
          "loss": 220.8183135986328
         },
         {
          "i": 2473,
          "loss": 220.8075408935547
         },
         {
          "i": 2474,
          "loss": 220.7967987060547
         },
         {
          "i": 2475,
          "loss": 220.78607177734375
         },
         {
          "i": 2476,
          "loss": 220.7753143310547
         },
         {
          "i": 2477,
          "loss": 220.7646026611328
         },
         {
          "i": 2478,
          "loss": 220.7538604736328
         },
         {
          "i": 2479,
          "loss": 220.7431640625
         },
         {
          "i": 2480,
          "loss": 220.7324676513672
         },
         {
          "i": 2481,
          "loss": 220.72174072265625
         },
         {
          "i": 2482,
          "loss": 220.71102905273438
         },
         {
          "i": 2483,
          "loss": 220.70034790039062
         },
         {
          "i": 2484,
          "loss": 220.68966674804688
         },
         {
          "i": 2485,
          "loss": 220.6790008544922
         },
         {
          "i": 2486,
          "loss": 220.6683349609375
         },
         {
          "i": 2487,
          "loss": 220.6576690673828
         },
         {
          "i": 2488,
          "loss": 220.6470184326172
         },
         {
          "i": 2489,
          "loss": 220.63638305664062
         },
         {
          "i": 2490,
          "loss": 220.62571716308594
         },
         {
          "i": 2491,
          "loss": 220.6151123046875
         },
         {
          "i": 2492,
          "loss": 220.6044464111328
         },
         {
          "i": 2493,
          "loss": 220.5938262939453
         },
         {
          "i": 2494,
          "loss": 220.58322143554688
         },
         {
          "i": 2495,
          "loss": 220.57261657714844
         },
         {
          "i": 2496,
          "loss": 220.56199645996094
         },
         {
          "i": 2497,
          "loss": 220.55140686035156
         },
         {
          "i": 2498,
          "loss": 220.5408172607422
         },
         {
          "i": 2499,
          "loss": 220.53025817871094
         },
         {
          "i": 2500,
          "loss": 220.51966857910156
         },
         {
          "i": 2501,
          "loss": 220.50909423828125
         },
         {
          "i": 2502,
          "loss": 220.49855041503906
         },
         {
          "i": 2503,
          "loss": 220.4879913330078
         },
         {
          "i": 2504,
          "loss": 220.4774627685547
         },
         {
          "i": 2505,
          "loss": 220.4669189453125
         },
         {
          "i": 2506,
          "loss": 220.45635986328125
         },
         {
          "i": 2507,
          "loss": 220.4458465576172
         },
         {
          "i": 2508,
          "loss": 220.43528747558594
         },
         {
          "i": 2509,
          "loss": 220.42481994628906
         },
         {
          "i": 2510,
          "loss": 220.41429138183594
         },
         {
          "i": 2511,
          "loss": 220.40379333496094
         },
         {
          "i": 2512,
          "loss": 220.39329528808594
         },
         {
          "i": 2513,
          "loss": 220.3828125
         },
         {
          "i": 2514,
          "loss": 220.3723602294922
         },
         {
          "i": 2515,
          "loss": 220.3618927001953
         },
         {
          "i": 2516,
          "loss": 220.3514404296875
         },
         {
          "i": 2517,
          "loss": 220.34100341796875
         },
         {
          "i": 2518,
          "loss": 220.33055114746094
         },
         {
          "i": 2519,
          "loss": 220.32012939453125
         },
         {
          "i": 2520,
          "loss": 220.30970764160156
         },
         {
          "i": 2521,
          "loss": 220.2992706298828
         },
         {
          "i": 2522,
          "loss": 220.2888641357422
         },
         {
          "i": 2523,
          "loss": 220.27847290039062
         },
         {
          "i": 2524,
          "loss": 220.2680206298828
         },
         {
          "i": 2525,
          "loss": 220.25762939453125
         },
         {
          "i": 2526,
          "loss": 220.24722290039062
         },
         {
          "i": 2527,
          "loss": 220.2368621826172
         },
         {
          "i": 2528,
          "loss": 220.22650146484375
         },
         {
          "i": 2529,
          "loss": 220.2161102294922
         },
         {
          "i": 2530,
          "loss": 220.20574951171875
         },
         {
          "i": 2531,
          "loss": 220.1953887939453
         },
         {
          "i": 2532,
          "loss": 220.1850128173828
         },
         {
          "i": 2533,
          "loss": 220.17466735839844
         },
         {
          "i": 2534,
          "loss": 220.16432189941406
         },
         {
          "i": 2535,
          "loss": 220.15399169921875
         },
         {
          "i": 2536,
          "loss": 220.1436767578125
         },
         {
          "i": 2537,
          "loss": 220.13331604003906
         },
         {
          "i": 2538,
          "loss": 220.12303161621094
         },
         {
          "i": 2539,
          "loss": 220.11273193359375
         },
         {
          "i": 2540,
          "loss": 220.10244750976562
         },
         {
          "i": 2541,
          "loss": 220.09210205078125
         },
         {
          "i": 2542,
          "loss": 220.08184814453125
         },
         {
          "i": 2543,
          "loss": 220.0715789794922
         },
         {
          "i": 2544,
          "loss": 220.06126403808594
         },
         {
          "i": 2545,
          "loss": 220.05101013183594
         },
         {
          "i": 2546,
          "loss": 220.04078674316406
         },
         {
          "i": 2547,
          "loss": 220.03050231933594
         },
         {
          "i": 2548,
          "loss": 220.02024841308594
         },
         {
          "i": 2549,
          "loss": 220.00997924804688
         },
         {
          "i": 2550,
          "loss": 219.99977111816406
         },
         {
          "i": 2551,
          "loss": 219.98956298828125
         },
         {
          "i": 2552,
          "loss": 219.97930908203125
         },
         {
          "i": 2553,
          "loss": 219.96910095214844
         },
         {
          "i": 2554,
          "loss": 219.95892333984375
         },
         {
          "i": 2555,
          "loss": 219.94871520996094
         },
         {
          "i": 2556,
          "loss": 219.93849182128906
         },
         {
          "i": 2557,
          "loss": 219.9282989501953
         },
         {
          "i": 2558,
          "loss": 219.91810607910156
         },
         {
          "i": 2559,
          "loss": 219.90797424316406
         },
         {
          "i": 2560,
          "loss": 219.89776611328125
         },
         {
          "i": 2561,
          "loss": 219.8875732421875
         },
         {
          "i": 2562,
          "loss": 219.87744140625
         },
         {
          "i": 2563,
          "loss": 219.8672637939453
         },
         {
          "i": 2564,
          "loss": 219.85708618164062
         },
         {
          "i": 2565,
          "loss": 219.84698486328125
         },
         {
          "i": 2566,
          "loss": 219.8368377685547
         },
         {
          "i": 2567,
          "loss": 219.82667541503906
         },
         {
          "i": 2568,
          "loss": 219.8166046142578
         },
         {
          "i": 2569,
          "loss": 219.8064422607422
         },
         {
          "i": 2570,
          "loss": 219.79632568359375
         },
         {
          "i": 2571,
          "loss": 219.78622436523438
         },
         {
          "i": 2572,
          "loss": 219.77609252929688
         },
         {
          "i": 2573,
          "loss": 219.7659912109375
         },
         {
          "i": 2574,
          "loss": 219.75592041015625
         },
         {
          "i": 2575,
          "loss": 219.74583435058594
         },
         {
          "i": 2576,
          "loss": 219.7357635498047
         },
         {
          "i": 2577,
          "loss": 219.7257080078125
         },
         {
          "i": 2578,
          "loss": 219.71563720703125
         },
         {
          "i": 2579,
          "loss": 219.70558166503906
         },
         {
          "i": 2580,
          "loss": 219.69557189941406
         },
         {
          "i": 2581,
          "loss": 219.6855010986328
         },
         {
          "i": 2582,
          "loss": 219.6754913330078
         },
         {
          "i": 2583,
          "loss": 219.66543579101562
         },
         {
          "i": 2584,
          "loss": 219.65542602539062
         },
         {
          "i": 2585,
          "loss": 219.6453857421875
         },
         {
          "i": 2586,
          "loss": 219.63539123535156
         },
         {
          "i": 2587,
          "loss": 219.6253662109375
         },
         {
          "i": 2588,
          "loss": 219.61537170410156
         },
         {
          "i": 2589,
          "loss": 219.60537719726562
         },
         {
          "i": 2590,
          "loss": 219.5954132080078
         },
         {
          "i": 2591,
          "loss": 219.5854034423828
         },
         {
          "i": 2592,
          "loss": 219.57545471191406
         },
         {
          "i": 2593,
          "loss": 219.56549072265625
         },
         {
          "i": 2594,
          "loss": 219.55551147460938
         },
         {
          "i": 2595,
          "loss": 219.54556274414062
         },
         {
          "i": 2596,
          "loss": 219.5355682373047
         },
         {
          "i": 2597,
          "loss": 219.52561950683594
         },
         {
          "i": 2598,
          "loss": 219.5157012939453
         },
         {
          "i": 2599,
          "loss": 219.50576782226562
         },
         {
          "i": 2600,
          "loss": 219.49583435058594
         },
         {
          "i": 2601,
          "loss": 219.48590087890625
         },
         {
          "i": 2602,
          "loss": 219.47598266601562
         },
         {
          "i": 2603,
          "loss": 219.46607971191406
         },
         {
          "i": 2604,
          "loss": 219.4561767578125
         },
         {
          "i": 2605,
          "loss": 219.4462890625
         },
         {
          "i": 2606,
          "loss": 219.4364013671875
         },
         {
          "i": 2607,
          "loss": 219.42652893066406
         },
         {
          "i": 2608,
          "loss": 219.4166259765625
         },
         {
          "i": 2609,
          "loss": 219.40675354003906
         },
         {
          "i": 2610,
          "loss": 219.3968963623047
         },
         {
          "i": 2611,
          "loss": 219.38706970214844
         },
         {
          "i": 2612,
          "loss": 219.37721252441406
         },
         {
          "i": 2613,
          "loss": 219.3673858642578
         },
         {
          "i": 2614,
          "loss": 219.3575439453125
         },
         {
          "i": 2615,
          "loss": 219.3477020263672
         },
         {
          "i": 2616,
          "loss": 219.33787536621094
         },
         {
          "i": 2617,
          "loss": 219.32803344726562
         },
         {
          "i": 2618,
          "loss": 219.3182373046875
         },
         {
          "i": 2619,
          "loss": 219.30841064453125
         },
         {
          "i": 2620,
          "loss": 219.29864501953125
         },
         {
          "i": 2621,
          "loss": 219.28884887695312
         },
         {
          "i": 2622,
          "loss": 219.27908325195312
         },
         {
          "i": 2623,
          "loss": 219.26925659179688
         },
         {
          "i": 2624,
          "loss": 219.25950622558594
         },
         {
          "i": 2625,
          "loss": 219.2497100830078
         },
         {
          "i": 2626,
          "loss": 219.23992919921875
         },
         {
          "i": 2627,
          "loss": 219.23019409179688
         },
         {
          "i": 2628,
          "loss": 219.2204132080078
         },
         {
          "i": 2629,
          "loss": 219.21067810058594
         },
         {
          "i": 2630,
          "loss": 219.20095825195312
         },
         {
          "i": 2631,
          "loss": 219.19119262695312
         },
         {
          "i": 2632,
          "loss": 219.1814422607422
         },
         {
          "i": 2633,
          "loss": 219.1717529296875
         },
         {
          "i": 2634,
          "loss": 219.16201782226562
         },
         {
          "i": 2635,
          "loss": 219.15232849121094
         },
         {
          "i": 2636,
          "loss": 219.142578125
         },
         {
          "i": 2637,
          "loss": 219.13287353515625
         },
         {
          "i": 2638,
          "loss": 219.12319946289062
         },
         {
          "i": 2639,
          "loss": 219.11349487304688
         },
         {
          "i": 2640,
          "loss": 219.10385131835938
         },
         {
          "i": 2641,
          "loss": 219.0941925048828
         },
         {
          "i": 2642,
          "loss": 219.08453369140625
         },
         {
          "i": 2643,
          "loss": 219.07485961914062
         },
         {
          "i": 2644,
          "loss": 219.06517028808594
         },
         {
          "i": 2645,
          "loss": 219.0555419921875
         },
         {
          "i": 2646,
          "loss": 219.04591369628906
         },
         {
          "i": 2647,
          "loss": 219.03627014160156
         },
         {
          "i": 2648,
          "loss": 219.02662658691406
         },
         {
          "i": 2649,
          "loss": 219.0170135498047
         },
         {
          "i": 2650,
          "loss": 219.00738525390625
         },
         {
          "i": 2651,
          "loss": 218.99778747558594
         },
         {
          "i": 2652,
          "loss": 218.98818969726562
         },
         {
          "i": 2653,
          "loss": 218.97860717773438
         },
         {
          "i": 2654,
          "loss": 218.96900939941406
         },
         {
          "i": 2655,
          "loss": 218.95941162109375
         },
         {
          "i": 2656,
          "loss": 218.94984436035156
         },
         {
          "i": 2657,
          "loss": 218.94027709960938
         },
         {
          "i": 2658,
          "loss": 218.9307098388672
         },
         {
          "i": 2659,
          "loss": 218.92111206054688
         },
         {
          "i": 2660,
          "loss": 218.91160583496094
         },
         {
          "i": 2661,
          "loss": 218.90203857421875
         },
         {
          "i": 2662,
          "loss": 218.8924560546875
         },
         {
          "i": 2663,
          "loss": 218.88294982910156
         },
         {
          "i": 2664,
          "loss": 218.87338256835938
         },
         {
          "i": 2665,
          "loss": 218.8638458251953
         },
         {
          "i": 2666,
          "loss": 218.85433959960938
         },
         {
          "i": 2667,
          "loss": 218.8448028564453
         },
         {
          "i": 2668,
          "loss": 218.83529663085938
         },
         {
          "i": 2669,
          "loss": 218.8258056640625
         },
         {
          "i": 2670,
          "loss": 218.8162841796875
         },
         {
          "i": 2671,
          "loss": 218.80682373046875
         },
         {
          "i": 2672,
          "loss": 218.79730224609375
         },
         {
          "i": 2673,
          "loss": 218.78781127929688
         },
         {
          "i": 2674,
          "loss": 218.77830505371094
         },
         {
          "i": 2675,
          "loss": 218.76882934570312
         },
         {
          "i": 2676,
          "loss": 218.7593536376953
         },
         {
          "i": 2677,
          "loss": 218.74990844726562
         },
         {
          "i": 2678,
          "loss": 218.7404327392578
         },
         {
          "i": 2679,
          "loss": 218.7310028076172
         },
         {
          "i": 2680,
          "loss": 218.72152709960938
         },
         {
          "i": 2681,
          "loss": 218.71212768554688
         },
         {
          "i": 2682,
          "loss": 218.7026824951172
         },
         {
          "i": 2683,
          "loss": 218.6932373046875
         },
         {
          "i": 2684,
          "loss": 218.68382263183594
         },
         {
          "i": 2685,
          "loss": 218.6743927001953
         },
         {
          "i": 2686,
          "loss": 218.66497802734375
         },
         {
          "i": 2687,
          "loss": 218.65557861328125
         },
         {
          "i": 2688,
          "loss": 218.64620971679688
         },
         {
          "i": 2689,
          "loss": 218.6367950439453
         },
         {
          "i": 2690,
          "loss": 218.62738037109375
         },
         {
          "i": 2691,
          "loss": 218.61801147460938
         },
         {
          "i": 2692,
          "loss": 218.60862731933594
         },
         {
          "i": 2693,
          "loss": 218.5992431640625
         },
         {
          "i": 2694,
          "loss": 218.58990478515625
         },
         {
          "i": 2695,
          "loss": 218.5805206298828
         },
         {
          "i": 2696,
          "loss": 218.57115173339844
         },
         {
          "i": 2697,
          "loss": 218.5618133544922
         },
         {
          "i": 2698,
          "loss": 218.55245971679688
         },
         {
          "i": 2699,
          "loss": 218.54312133789062
         },
         {
          "i": 2700,
          "loss": 218.5338134765625
         },
         {
          "i": 2701,
          "loss": 218.5244598388672
         },
         {
          "i": 2702,
          "loss": 218.5150909423828
         },
         {
          "i": 2703,
          "loss": 218.50579833984375
         },
         {
          "i": 2704,
          "loss": 218.49649047851562
         },
         {
          "i": 2705,
          "loss": 218.4871826171875
         },
         {
          "i": 2706,
          "loss": 218.4779052734375
         },
         {
          "i": 2707,
          "loss": 218.46861267089844
         },
         {
          "i": 2708,
          "loss": 218.45932006835938
         },
         {
          "i": 2709,
          "loss": 218.45004272460938
         },
         {
          "i": 2710,
          "loss": 218.44076538085938
         },
         {
          "i": 2711,
          "loss": 218.43150329589844
         },
         {
          "i": 2712,
          "loss": 218.42221069335938
         },
         {
          "i": 2713,
          "loss": 218.4129638671875
         },
         {
          "i": 2714,
          "loss": 218.4037322998047
         },
         {
          "i": 2715,
          "loss": 218.39447021484375
         },
         {
          "i": 2716,
          "loss": 218.38523864746094
         },
         {
          "i": 2717,
          "loss": 218.37599182128906
         },
         {
          "i": 2718,
          "loss": 218.36676025390625
         },
         {
          "i": 2719,
          "loss": 218.3575439453125
         },
         {
          "i": 2720,
          "loss": 218.34829711914062
         },
         {
          "i": 2721,
          "loss": 218.33908081054688
         },
         {
          "i": 2722,
          "loss": 218.3298797607422
         },
         {
          "i": 2723,
          "loss": 218.32070922851562
         },
         {
          "i": 2724,
          "loss": 218.31150817871094
         },
         {
          "i": 2725,
          "loss": 218.30230712890625
         },
         {
          "i": 2726,
          "loss": 218.29310607910156
         },
         {
          "i": 2727,
          "loss": 218.28395080566406
         },
         {
          "i": 2728,
          "loss": 218.27474975585938
         },
         {
          "i": 2729,
          "loss": 218.26556396484375
         },
         {
          "i": 2730,
          "loss": 218.2564239501953
         },
         {
          "i": 2731,
          "loss": 218.24728393554688
         },
         {
          "i": 2732,
          "loss": 218.23809814453125
         },
         {
          "i": 2733,
          "loss": 218.22894287109375
         },
         {
          "i": 2734,
          "loss": 218.2198486328125
         },
         {
          "i": 2735,
          "loss": 218.21066284179688
         },
         {
          "i": 2736,
          "loss": 218.2015380859375
         },
         {
          "i": 2737,
          "loss": 218.19244384765625
         },
         {
          "i": 2738,
          "loss": 218.18328857421875
         },
         {
          "i": 2739,
          "loss": 218.17417907714844
         },
         {
          "i": 2740,
          "loss": 218.1650390625
         },
         {
          "i": 2741,
          "loss": 218.1559600830078
         },
         {
          "i": 2742,
          "loss": 218.14683532714844
         },
         {
          "i": 2743,
          "loss": 218.1377410888672
         },
         {
          "i": 2744,
          "loss": 218.12863159179688
         },
         {
          "i": 2745,
          "loss": 218.1195526123047
         },
         {
          "i": 2746,
          "loss": 218.11044311523438
         },
         {
          "i": 2747,
          "loss": 218.10137939453125
         },
         {
          "i": 2748,
          "loss": 218.09228515625
         },
         {
          "i": 2749,
          "loss": 218.08322143554688
         },
         {
          "i": 2750,
          "loss": 218.0741729736328
         },
         {
          "i": 2751,
          "loss": 218.06509399414062
         },
         {
          "i": 2752,
          "loss": 218.05606079101562
         },
         {
          "i": 2753,
          "loss": 218.04701232910156
         },
         {
          "i": 2754,
          "loss": 218.0379638671875
         },
         {
          "i": 2755,
          "loss": 218.02890014648438
         },
         {
          "i": 2756,
          "loss": 218.01988220214844
         },
         {
          "i": 2757,
          "loss": 218.01087951660156
         },
         {
          "i": 2758,
          "loss": 218.00186157226562
         },
         {
          "i": 2759,
          "loss": 217.99285888671875
         },
         {
          "i": 2760,
          "loss": 217.9838104248047
         },
         {
          "i": 2761,
          "loss": 217.9748077392578
         },
         {
          "i": 2762,
          "loss": 217.9658203125
         },
         {
          "i": 2763,
          "loss": 217.95681762695312
         },
         {
          "i": 2764,
          "loss": 217.9478302001953
         },
         {
          "i": 2765,
          "loss": 217.93882751464844
         },
         {
          "i": 2766,
          "loss": 217.9298858642578
         },
         {
          "i": 2767,
          "loss": 217.92088317871094
         },
         {
          "i": 2768,
          "loss": 217.91189575195312
         },
         {
          "i": 2769,
          "loss": 217.9029541015625
         },
         {
          "i": 2770,
          "loss": 217.89398193359375
         },
         {
          "i": 2771,
          "loss": 217.88504028320312
         },
         {
          "i": 2772,
          "loss": 217.87606811523438
         },
         {
          "i": 2773,
          "loss": 217.86717224121094
         },
         {
          "i": 2774,
          "loss": 217.85818481445312
         },
         {
          "i": 2775,
          "loss": 217.84927368164062
         },
         {
          "i": 2776,
          "loss": 217.84033203125
         },
         {
          "i": 2777,
          "loss": 217.8314208984375
         },
         {
          "i": 2778,
          "loss": 217.82252502441406
         },
         {
          "i": 2779,
          "loss": 217.81361389160156
         },
         {
          "i": 2780,
          "loss": 217.80470275878906
         },
         {
          "i": 2781,
          "loss": 217.7957763671875
         },
         {
          "i": 2782,
          "loss": 217.78689575195312
         },
         {
          "i": 2783,
          "loss": 217.7780303955078
         },
         {
          "i": 2784,
          "loss": 217.7691650390625
         },
         {
          "i": 2785,
          "loss": 217.7602081298828
         },
         {
          "i": 2786,
          "loss": 217.75137329101562
         },
         {
          "i": 2787,
          "loss": 217.74249267578125
         },
         {
          "i": 2788,
          "loss": 217.73362731933594
         },
         {
          "i": 2789,
          "loss": 217.72476196289062
         },
         {
          "i": 2790,
          "loss": 217.7158966064453
         },
         {
          "i": 2791,
          "loss": 217.7070770263672
         },
         {
          "i": 2792,
          "loss": 217.6981964111328
         },
         {
          "i": 2793,
          "loss": 217.6893768310547
         },
         {
          "i": 2794,
          "loss": 217.68052673339844
         },
         {
          "i": 2795,
          "loss": 217.6716766357422
         },
         {
          "i": 2796,
          "loss": 217.66285705566406
         },
         {
          "i": 2797,
          "loss": 217.65406799316406
         },
         {
          "i": 2798,
          "loss": 217.64524841308594
         },
         {
          "i": 2799,
          "loss": 217.6364288330078
         },
         {
          "i": 2800,
          "loss": 217.62759399414062
         },
         {
          "i": 2801,
          "loss": 217.61880493164062
         },
         {
          "i": 2802,
          "loss": 217.61000061035156
         },
         {
          "i": 2803,
          "loss": 217.6011962890625
         },
         {
          "i": 2804,
          "loss": 217.59237670898438
         },
         {
          "i": 2805,
          "loss": 217.58363342285156
         },
         {
          "i": 2806,
          "loss": 217.5748291015625
         },
         {
          "i": 2807,
          "loss": 217.56605529785156
         },
         {
          "i": 2808,
          "loss": 217.55726623535156
         },
         {
          "i": 2809,
          "loss": 217.54852294921875
         },
         {
          "i": 2810,
          "loss": 217.5397491455078
         },
         {
          "i": 2811,
          "loss": 217.53099060058594
         },
         {
          "i": 2812,
          "loss": 217.52223205566406
         },
         {
          "i": 2813,
          "loss": 217.51348876953125
         },
         {
          "i": 2814,
          "loss": 217.5047607421875
         },
         {
          "i": 2815,
          "loss": 217.49600219726562
         },
         {
          "i": 2816,
          "loss": 217.48728942871094
         },
         {
          "i": 2817,
          "loss": 217.47853088378906
         },
         {
          "i": 2818,
          "loss": 217.4698028564453
         },
         {
          "i": 2819,
          "loss": 217.46109008789062
         },
         {
          "i": 2820,
          "loss": 217.45237731933594
         },
         {
          "i": 2821,
          "loss": 217.44366455078125
         },
         {
          "i": 2822,
          "loss": 217.43496704101562
         },
         {
          "i": 2823,
          "loss": 217.42628479003906
         },
         {
          "i": 2824,
          "loss": 217.41757202148438
         },
         {
          "i": 2825,
          "loss": 217.4088897705078
         },
         {
          "i": 2826,
          "loss": 217.40020751953125
         },
         {
          "i": 2827,
          "loss": 217.39154052734375
         },
         {
          "i": 2828,
          "loss": 217.3828887939453
         },
         {
          "i": 2829,
          "loss": 217.37420654296875
         },
         {
          "i": 2830,
          "loss": 217.3655242919922
         },
         {
          "i": 2831,
          "loss": 217.3568878173828
         },
         {
          "i": 2832,
          "loss": 217.34823608398438
         },
         {
          "i": 2833,
          "loss": 217.33956909179688
         },
         {
          "i": 2834,
          "loss": 217.33096313476562
         },
         {
          "i": 2835,
          "loss": 217.3223114013672
         },
         {
          "i": 2836,
          "loss": 217.31369018554688
         },
         {
          "i": 2837,
          "loss": 217.30508422851562
         },
         {
          "i": 2838,
          "loss": 217.2964324951172
         },
         {
          "i": 2839,
          "loss": 217.28782653808594
         },
         {
          "i": 2840,
          "loss": 217.27920532226562
         },
         {
          "i": 2841,
          "loss": 217.27059936523438
         },
         {
          "i": 2842,
          "loss": 217.26199340820312
         },
         {
          "i": 2843,
          "loss": 217.25340270996094
         },
         {
          "i": 2844,
          "loss": 217.2448272705078
         },
         {
          "i": 2845,
          "loss": 217.2362060546875
         },
         {
          "i": 2846,
          "loss": 217.22763061523438
         },
         {
          "i": 2847,
          "loss": 217.21905517578125
         },
         {
          "i": 2848,
          "loss": 217.2104949951172
         },
         {
          "i": 2849,
          "loss": 217.20188903808594
         },
         {
          "i": 2850,
          "loss": 217.19334411621094
         },
         {
          "i": 2851,
          "loss": 217.18479919433594
         },
         {
          "i": 2852,
          "loss": 217.1762237548828
         },
         {
          "i": 2853,
          "loss": 217.16770935058594
         },
         {
          "i": 2854,
          "loss": 217.15916442871094
         },
         {
          "i": 2855,
          "loss": 217.15060424804688
         },
         {
          "i": 2856,
          "loss": 217.14207458496094
         },
         {
          "i": 2857,
          "loss": 217.13357543945312
         },
         {
          "i": 2858,
          "loss": 217.1250457763672
         },
         {
          "i": 2859,
          "loss": 217.11648559570312
         },
         {
          "i": 2860,
          "loss": 217.1079864501953
         },
         {
          "i": 2861,
          "loss": 217.09951782226562
         },
         {
          "i": 2862,
          "loss": 217.09100341796875
         },
         {
          "i": 2863,
          "loss": 217.08250427246094
         },
         {
          "i": 2864,
          "loss": 217.07400512695312
         },
         {
          "i": 2865,
          "loss": 217.06552124023438
         },
         {
          "i": 2866,
          "loss": 217.05703735351562
         },
         {
          "i": 2867,
          "loss": 217.04855346679688
         },
         {
          "i": 2868,
          "loss": 217.04005432128906
         },
         {
          "i": 2869,
          "loss": 217.03160095214844
         },
         {
          "i": 2870,
          "loss": 217.02313232421875
         },
         {
          "i": 2871,
          "loss": 217.01470947265625
         },
         {
          "i": 2872,
          "loss": 217.00621032714844
         },
         {
          "i": 2873,
          "loss": 216.99777221679688
         },
         {
          "i": 2874,
          "loss": 216.98934936523438
         },
         {
          "i": 2875,
          "loss": 216.9809112548828
         },
         {
          "i": 2876,
          "loss": 216.97250366210938
         },
         {
          "i": 2877,
          "loss": 216.96400451660156
         },
         {
          "i": 2878,
          "loss": 216.9556121826172
         },
         {
          "i": 2879,
          "loss": 216.94720458984375
         },
         {
          "i": 2880,
          "loss": 216.9387664794922
         },
         {
          "i": 2881,
          "loss": 216.9303741455078
         },
         {
          "i": 2882,
          "loss": 216.92196655273438
         },
         {
          "i": 2883,
          "loss": 216.91357421875
         },
         {
          "i": 2884,
          "loss": 216.9051971435547
         },
         {
          "i": 2885,
          "loss": 216.89675903320312
         },
         {
          "i": 2886,
          "loss": 216.8883819580078
         },
         {
          "i": 2887,
          "loss": 216.87997436523438
         },
         {
          "i": 2888,
          "loss": 216.8716278076172
         },
         {
          "i": 2889,
          "loss": 216.86322021484375
         },
         {
          "i": 2890,
          "loss": 216.85488891601562
         },
         {
          "i": 2891,
          "loss": 216.8464813232422
         },
         {
          "i": 2892,
          "loss": 216.83811950683594
         },
         {
          "i": 2893,
          "loss": 216.82977294921875
         },
         {
          "i": 2894,
          "loss": 216.82138061523438
         },
         {
          "i": 2895,
          "loss": 216.81304931640625
         },
         {
          "i": 2896,
          "loss": 216.80470275878906
         },
         {
          "i": 2897,
          "loss": 216.79637145996094
         },
         {
          "i": 2898,
          "loss": 216.78802490234375
         },
         {
          "i": 2899,
          "loss": 216.7797088623047
         },
         {
          "i": 2900,
          "loss": 216.7713623046875
         },
         {
          "i": 2901,
          "loss": 216.7630615234375
         },
         {
          "i": 2902,
          "loss": 216.75469970703125
         },
         {
          "i": 2903,
          "loss": 216.7463836669922
         },
         {
          "i": 2904,
          "loss": 216.7380828857422
         },
         {
          "i": 2905,
          "loss": 216.7297821044922
         },
         {
          "i": 2906,
          "loss": 216.72149658203125
         },
         {
          "i": 2907,
          "loss": 216.71319580078125
         },
         {
          "i": 2908,
          "loss": 216.7048797607422
         },
         {
          "i": 2909,
          "loss": 216.6965789794922
         },
         {
          "i": 2910,
          "loss": 216.68832397460938
         },
         {
          "i": 2911,
          "loss": 216.68002319335938
         },
         {
          "i": 2912,
          "loss": 216.67172241210938
         },
         {
          "i": 2913,
          "loss": 216.6634521484375
         },
         {
          "i": 2914,
          "loss": 216.65521240234375
         },
         {
          "i": 2915,
          "loss": 216.6469268798828
         },
         {
          "i": 2916,
          "loss": 216.638671875
         },
         {
          "i": 2917,
          "loss": 216.63043212890625
         },
         {
          "i": 2918,
          "loss": 216.6221466064453
         },
         {
          "i": 2919,
          "loss": 216.6138916015625
         },
         {
          "i": 2920,
          "loss": 216.60568237304688
         },
         {
          "i": 2921,
          "loss": 216.59744262695312
         },
         {
          "i": 2922,
          "loss": 216.58920288085938
         },
         {
          "i": 2923,
          "loss": 216.5809783935547
         },
         {
          "i": 2924,
          "loss": 216.57275390625
         },
         {
          "i": 2925,
          "loss": 216.5645751953125
         },
         {
          "i": 2926,
          "loss": 216.55633544921875
         },
         {
          "i": 2927,
          "loss": 216.54812622070312
         },
         {
          "i": 2928,
          "loss": 216.53990173339844
         },
         {
          "i": 2929,
          "loss": 216.53173828125
         },
         {
          "i": 2930,
          "loss": 216.5235137939453
         },
         {
          "i": 2931,
          "loss": 216.51536560058594
         },
         {
          "i": 2932,
          "loss": 216.50718688964844
         },
         {
          "i": 2933,
          "loss": 216.49903869628906
         },
         {
          "i": 2934,
          "loss": 216.49081420898438
         },
         {
          "i": 2935,
          "loss": 216.48265075683594
         },
         {
          "i": 2936,
          "loss": 216.47451782226562
         },
         {
          "i": 2937,
          "loss": 216.4663543701172
         },
         {
          "i": 2938,
          "loss": 216.45819091796875
         },
         {
          "i": 2939,
          "loss": 216.45001220703125
         },
         {
          "i": 2940,
          "loss": 216.44187927246094
         },
         {
          "i": 2941,
          "loss": 216.43373107910156
         },
         {
          "i": 2942,
          "loss": 216.42559814453125
         },
         {
          "i": 2943,
          "loss": 216.41746520996094
         },
         {
          "i": 2944,
          "loss": 216.40931701660156
         },
         {
          "i": 2945,
          "loss": 216.40121459960938
         },
         {
          "i": 2946,
          "loss": 216.39308166503906
         },
         {
          "i": 2947,
          "loss": 216.3849639892578
         },
         {
          "i": 2948,
          "loss": 216.3768310546875
         },
         {
          "i": 2949,
          "loss": 216.3687286376953
         },
         {
          "i": 2950,
          "loss": 216.36062622070312
         },
         {
          "i": 2951,
          "loss": 216.35252380371094
         },
         {
          "i": 2952,
          "loss": 216.3444366455078
         },
         {
          "i": 2953,
          "loss": 216.33633422851562
         },
         {
          "i": 2954,
          "loss": 216.3282470703125
         },
         {
          "i": 2955,
          "loss": 216.32015991210938
         },
         {
          "i": 2956,
          "loss": 216.3120880126953
         },
         {
          "i": 2957,
          "loss": 216.3040008544922
         },
         {
          "i": 2958,
          "loss": 216.2959442138672
         },
         {
          "i": 2959,
          "loss": 216.28787231445312
         },
         {
          "i": 2960,
          "loss": 216.27980041503906
         },
         {
          "i": 2961,
          "loss": 216.27174377441406
         },
         {
          "i": 2962,
          "loss": 216.263671875
         },
         {
          "i": 2963,
          "loss": 216.25564575195312
         },
         {
          "i": 2964,
          "loss": 216.2476043701172
         },
         {
          "i": 2965,
          "loss": 216.23956298828125
         },
         {
          "i": 2966,
          "loss": 216.23150634765625
         },
         {
          "i": 2967,
          "loss": 216.22348022460938
         },
         {
          "i": 2968,
          "loss": 216.21542358398438
         },
         {
          "i": 2969,
          "loss": 216.20742797851562
         },
         {
          "i": 2970,
          "loss": 216.1993408203125
         },
         {
          "i": 2971,
          "loss": 216.19134521484375
         },
         {
          "i": 2972,
          "loss": 216.18338012695312
         },
         {
          "i": 2973,
          "loss": 216.1753387451172
         },
         {
          "i": 2974,
          "loss": 216.16732788085938
         },
         {
          "i": 2975,
          "loss": 216.15933227539062
         },
         {
          "i": 2976,
          "loss": 216.15130615234375
         },
         {
          "i": 2977,
          "loss": 216.14334106445312
         },
         {
          "i": 2978,
          "loss": 216.13531494140625
         },
         {
          "i": 2979,
          "loss": 216.12734985351562
         },
         {
          "i": 2980,
          "loss": 216.11935424804688
         },
         {
          "i": 2981,
          "loss": 216.11138916015625
         },
         {
          "i": 2982,
          "loss": 216.1033935546875
         },
         {
          "i": 2983,
          "loss": 216.09542846679688
         },
         {
          "i": 2984,
          "loss": 216.0874481201172
         },
         {
          "i": 2985,
          "loss": 216.0794677734375
         },
         {
          "i": 2986,
          "loss": 216.07154846191406
         },
         {
          "i": 2987,
          "loss": 216.0635986328125
         },
         {
          "i": 2988,
          "loss": 216.0556182861328
         },
         {
          "i": 2989,
          "loss": 216.04769897460938
         },
         {
          "i": 2990,
          "loss": 216.0397491455078
         },
         {
          "i": 2991,
          "loss": 216.03179931640625
         },
         {
          "i": 2992,
          "loss": 216.02391052246094
         },
         {
          "i": 2993,
          "loss": 216.01596069335938
         },
         {
          "i": 2994,
          "loss": 216.00804138183594
         },
         {
          "i": 2995,
          "loss": 216.0001220703125
         },
         {
          "i": 2996,
          "loss": 215.99217224121094
         },
         {
          "i": 2997,
          "loss": 215.98428344726562
         },
         {
          "i": 2998,
          "loss": 215.97637939453125
         },
         {
          "i": 2999,
          "loss": 215.96847534179688
         },
         {
          "i": 3000,
          "loss": 215.96058654785156
         },
         {
          "i": 3001,
          "loss": 215.95269775390625
         },
         {
          "i": 3002,
          "loss": 215.94482421875
         },
         {
          "i": 3003,
          "loss": 215.9369354248047
         },
         {
          "i": 3004,
          "loss": 215.9290771484375
         },
         {
          "i": 3005,
          "loss": 215.92117309570312
         },
         {
          "i": 3006,
          "loss": 215.91331481933594
         },
         {
          "i": 3007,
          "loss": 215.9054718017578
         },
         {
          "i": 3008,
          "loss": 215.89761352539062
         },
         {
          "i": 3009,
          "loss": 215.8897705078125
         },
         {
          "i": 3010,
          "loss": 215.8819122314453
         },
         {
          "i": 3011,
          "loss": 215.87403869628906
         },
         {
          "i": 3012,
          "loss": 215.86622619628906
         },
         {
          "i": 3013,
          "loss": 215.8584442138672
         },
         {
          "i": 3014,
          "loss": 215.85060119628906
         },
         {
          "i": 3015,
          "loss": 215.8427734375
         },
         {
          "i": 3016,
          "loss": 215.83494567871094
         },
         {
          "i": 3017,
          "loss": 215.8271484375
         },
         {
          "i": 3018,
          "loss": 215.8193359375
         },
         {
          "i": 3019,
          "loss": 215.8115692138672
         },
         {
          "i": 3020,
          "loss": 215.80372619628906
         },
         {
          "i": 3021,
          "loss": 215.7959442138672
         },
         {
          "i": 3022,
          "loss": 215.7881317138672
         },
         {
          "i": 3023,
          "loss": 215.78033447265625
         },
         {
          "i": 3024,
          "loss": 215.77255249023438
         },
         {
          "i": 3025,
          "loss": 215.76478576660156
         },
         {
          "i": 3026,
          "loss": 215.75701904296875
         },
         {
          "i": 3027,
          "loss": 215.74923706054688
         },
         {
          "i": 3028,
          "loss": 215.74147033691406
         },
         {
          "i": 3029,
          "loss": 215.7336883544922
         },
         {
          "i": 3030,
          "loss": 215.72592163085938
         },
         {
          "i": 3031,
          "loss": 215.7181396484375
         },
         {
          "i": 3032,
          "loss": 215.71038818359375
         },
         {
          "i": 3033,
          "loss": 215.70263671875
         },
         {
          "i": 3034,
          "loss": 215.69488525390625
         },
         {
          "i": 3035,
          "loss": 215.68714904785156
         },
         {
          "i": 3036,
          "loss": 215.67941284179688
         },
         {
          "i": 3037,
          "loss": 215.67166137695312
         },
         {
          "i": 3038,
          "loss": 215.66392517089844
         },
         {
          "i": 3039,
          "loss": 215.65618896484375
         },
         {
          "i": 3040,
          "loss": 215.64845275878906
         },
         {
          "i": 3041,
          "loss": 215.64076232910156
         },
         {
          "i": 3042,
          "loss": 215.63302612304688
         },
         {
          "i": 3043,
          "loss": 215.62530517578125
         },
         {
          "i": 3044,
          "loss": 215.6176300048828
         },
         {
          "i": 3045,
          "loss": 215.6099090576172
         },
         {
          "i": 3046,
          "loss": 215.60220336914062
         },
         {
          "i": 3047,
          "loss": 215.59451293945312
         },
         {
          "i": 3048,
          "loss": 215.58682250976562
         },
         {
          "i": 3049,
          "loss": 215.5791473388672
         },
         {
          "i": 3050,
          "loss": 215.57147216796875
         },
         {
          "i": 3051,
          "loss": 215.5637664794922
         },
         {
          "i": 3052,
          "loss": 215.55609130859375
         },
         {
          "i": 3053,
          "loss": 215.5484161376953
         },
         {
          "i": 3054,
          "loss": 215.5407257080078
         },
         {
          "i": 3055,
          "loss": 215.5330810546875
         },
         {
          "i": 3056,
          "loss": 215.52540588378906
         },
         {
          "i": 3057,
          "loss": 215.51773071289062
         },
         {
          "i": 3058,
          "loss": 215.5100555419922
         },
         {
          "i": 3059,
          "loss": 215.50242614746094
         },
         {
          "i": 3060,
          "loss": 215.49476623535156
         },
         {
          "i": 3061,
          "loss": 215.4871063232422
         },
         {
          "i": 3062,
          "loss": 215.47947692871094
         },
         {
          "i": 3063,
          "loss": 215.47181701660156
         },
         {
          "i": 3064,
          "loss": 215.46420288085938
         },
         {
          "i": 3065,
          "loss": 215.45654296875
         },
         {
          "i": 3066,
          "loss": 215.4489288330078
         },
         {
          "i": 3067,
          "loss": 215.4412841796875
         },
         {
          "i": 3068,
          "loss": 215.43368530273438
         },
         {
          "i": 3069,
          "loss": 215.42601013183594
         },
         {
          "i": 3070,
          "loss": 215.4184112548828
         },
         {
          "i": 3071,
          "loss": 215.41079711914062
         },
         {
          "i": 3072,
          "loss": 215.4031982421875
         },
         {
          "i": 3073,
          "loss": 215.3955841064453
         },
         {
          "i": 3074,
          "loss": 215.3879852294922
         },
         {
          "i": 3075,
          "loss": 215.38038635253906
         },
         {
          "i": 3076,
          "loss": 215.37283325195312
         },
         {
          "i": 3077,
          "loss": 215.36517333984375
         },
         {
          "i": 3078,
          "loss": 215.3576202392578
         },
         {
          "i": 3079,
          "loss": 215.35003662109375
         },
         {
          "i": 3080,
          "loss": 215.34246826171875
         },
         {
          "i": 3081,
          "loss": 215.33486938476562
         },
         {
          "i": 3082,
          "loss": 215.32728576660156
         },
         {
          "i": 3083,
          "loss": 215.31973266601562
         },
         {
          "i": 3084,
          "loss": 215.31216430664062
         },
         {
          "i": 3085,
          "loss": 215.3045654296875
         },
         {
          "i": 3086,
          "loss": 215.29702758789062
         },
         {
          "i": 3087,
          "loss": 215.2894744873047
         },
         {
          "i": 3088,
          "loss": 215.2819366455078
         },
         {
          "i": 3089,
          "loss": 215.27435302734375
         },
         {
          "i": 3090,
          "loss": 215.26683044433594
         },
         {
          "i": 3091,
          "loss": 215.25929260253906
         },
         {
          "i": 3092,
          "loss": 215.2517547607422
         },
         {
          "i": 3093,
          "loss": 215.2442169189453
         },
         {
          "i": 3094,
          "loss": 215.23667907714844
         },
         {
          "i": 3095,
          "loss": 215.2292022705078
         },
         {
          "i": 3096,
          "loss": 215.2216796875
         },
         {
          "i": 3097,
          "loss": 215.21414184570312
         },
         {
          "i": 3098,
          "loss": 215.2066650390625
         },
         {
          "i": 3099,
          "loss": 215.1991424560547
         },
         {
          "i": 3100,
          "loss": 215.19163513183594
         },
         {
          "i": 3101,
          "loss": 215.18414306640625
         },
         {
          "i": 3102,
          "loss": 215.17662048339844
         },
         {
          "i": 3103,
          "loss": 215.16915893554688
         },
         {
          "i": 3104,
          "loss": 215.16163635253906
         },
         {
          "i": 3105,
          "loss": 215.1541748046875
         },
         {
          "i": 3106,
          "loss": 215.14669799804688
         },
         {
          "i": 3107,
          "loss": 215.13922119140625
         },
         {
          "i": 3108,
          "loss": 215.13177490234375
         },
         {
          "i": 3109,
          "loss": 215.1243133544922
         },
         {
          "i": 3110,
          "loss": 215.11683654785156
         },
         {
          "i": 3111,
          "loss": 215.109375
         },
         {
          "i": 3112,
          "loss": 215.1019287109375
         },
         {
          "i": 3113,
          "loss": 215.09446716308594
         },
         {
          "i": 3114,
          "loss": 215.08705139160156
         },
         {
          "i": 3115,
          "loss": 215.07960510253906
         },
         {
          "i": 3116,
          "loss": 215.07217407226562
         },
         {
          "i": 3117,
          "loss": 215.06472778320312
         },
         {
          "i": 3118,
          "loss": 215.05731201171875
         },
         {
          "i": 3119,
          "loss": 215.0498809814453
         },
         {
          "i": 3120,
          "loss": 215.0424346923828
         },
         {
          "i": 3121,
          "loss": 215.03501892089844
         },
         {
          "i": 3122,
          "loss": 215.02760314941406
         },
         {
          "i": 3123,
          "loss": 215.02017211914062
         },
         {
          "i": 3124,
          "loss": 215.0127716064453
         },
         {
          "i": 3125,
          "loss": 215.00537109375
         },
         {
          "i": 3126,
          "loss": 214.99798583984375
         },
         {
          "i": 3127,
          "loss": 214.99057006835938
         },
         {
          "i": 3128,
          "loss": 214.98316955566406
         },
         {
          "i": 3129,
          "loss": 214.97579956054688
         },
         {
          "i": 3130,
          "loss": 214.9683837890625
         },
         {
          "i": 3131,
          "loss": 214.96099853515625
         },
         {
          "i": 3132,
          "loss": 214.95362854003906
         },
         {
          "i": 3133,
          "loss": 214.9462432861328
         },
         {
          "i": 3134,
          "loss": 214.93887329101562
         },
         {
          "i": 3135,
          "loss": 214.93150329589844
         },
         {
          "i": 3136,
          "loss": 214.9241180419922
         },
         {
          "i": 3137,
          "loss": 214.91676330566406
         },
         {
          "i": 3138,
          "loss": 214.90939331054688
         },
         {
          "i": 3139,
          "loss": 214.9020538330078
         },
         {
          "i": 3140,
          "loss": 214.89466857910156
         },
         {
          "i": 3141,
          "loss": 214.88734436035156
         },
         {
          "i": 3142,
          "loss": 214.8800048828125
         },
         {
          "i": 3143,
          "loss": 214.87265014648438
         },
         {
          "i": 3144,
          "loss": 214.8653106689453
         },
         {
          "i": 3145,
          "loss": 214.85800170898438
         },
         {
          "i": 3146,
          "loss": 214.85064697265625
         },
         {
          "i": 3147,
          "loss": 214.8433074951172
         },
         {
          "i": 3148,
          "loss": 214.83599853515625
         },
         {
          "i": 3149,
          "loss": 214.82867431640625
         },
         {
          "i": 3150,
          "loss": 214.82135009765625
         },
         {
          "i": 3151,
          "loss": 214.8140411376953
         },
         {
          "i": 3152,
          "loss": 214.8067169189453
         },
         {
          "i": 3153,
          "loss": 214.7994384765625
         },
         {
          "i": 3154,
          "loss": 214.79208374023438
         },
         {
          "i": 3155,
          "loss": 214.78482055664062
         },
         {
          "i": 3156,
          "loss": 214.77749633789062
         },
         {
          "i": 3157,
          "loss": 214.7702178955078
         },
         {
          "i": 3158,
          "loss": 214.76290893554688
         },
         {
          "i": 3159,
          "loss": 214.75559997558594
         },
         {
          "i": 3160,
          "loss": 214.7483367919922
         },
         {
          "i": 3161,
          "loss": 214.74105834960938
         },
         {
          "i": 3162,
          "loss": 214.7337646484375
         },
         {
          "i": 3163,
          "loss": 214.72650146484375
         },
         {
          "i": 3164,
          "loss": 214.71923828125
         },
         {
          "i": 3165,
          "loss": 214.7119903564453
         },
         {
          "i": 3166,
          "loss": 214.7047119140625
         },
         {
          "i": 3167,
          "loss": 214.69744873046875
         },
         {
          "i": 3168,
          "loss": 214.69021606445312
         },
         {
          "i": 3169,
          "loss": 214.68296813964844
         },
         {
          "i": 3170,
          "loss": 214.67568969726562
         },
         {
          "i": 3171,
          "loss": 214.66845703125
         },
         {
          "i": 3172,
          "loss": 214.66122436523438
         },
         {
          "i": 3173,
          "loss": 214.6540069580078
         },
         {
          "i": 3174,
          "loss": 214.64675903320312
         },
         {
          "i": 3175,
          "loss": 214.6395263671875
         },
         {
          "i": 3176,
          "loss": 214.63230895996094
         },
         {
          "i": 3177,
          "loss": 214.6250762939453
         },
         {
          "i": 3178,
          "loss": 214.61785888671875
         },
         {
          "i": 3179,
          "loss": 214.6106414794922
         },
         {
          "i": 3180,
          "loss": 214.6034393310547
         },
         {
          "i": 3181,
          "loss": 214.5962371826172
         },
         {
          "i": 3182,
          "loss": 214.58900451660156
         },
         {
          "i": 3183,
          "loss": 214.5818328857422
         },
         {
          "i": 3184,
          "loss": 214.5746307373047
         },
         {
          "i": 3185,
          "loss": 214.5673828125
         },
         {
          "i": 3186,
          "loss": 214.5602569580078
         },
         {
          "i": 3187,
          "loss": 214.55307006835938
         },
         {
          "i": 3188,
          "loss": 214.5458526611328
         },
         {
          "i": 3189,
          "loss": 214.5386962890625
         },
         {
          "i": 3190,
          "loss": 214.53150939941406
         },
         {
          "i": 3191,
          "loss": 214.5243377685547
         },
         {
          "i": 3192,
          "loss": 214.5171661376953
         },
         {
          "i": 3193,
          "loss": 214.51002502441406
         },
         {
          "i": 3194,
          "loss": 214.5028533935547
         },
         {
          "i": 3195,
          "loss": 214.49566650390625
         },
         {
          "i": 3196,
          "loss": 214.48854064941406
         },
         {
          "i": 3197,
          "loss": 214.4813995361328
         },
         {
          "i": 3198,
          "loss": 214.4742431640625
         },
         {
          "i": 3199,
          "loss": 214.4670867919922
         },
         {
          "i": 3200,
          "loss": 214.4599151611328
         },
         {
          "i": 3201,
          "loss": 214.45278930664062
         },
         {
          "i": 3202,
          "loss": 214.4456787109375
         },
         {
          "i": 3203,
          "loss": 214.43853759765625
         },
         {
          "i": 3204,
          "loss": 214.43141174316406
         },
         {
          "i": 3205,
          "loss": 214.42431640625
         },
         {
          "i": 3206,
          "loss": 214.41714477539062
         },
         {
          "i": 3207,
          "loss": 214.41006469726562
         },
         {
          "i": 3208,
          "loss": 214.4029541015625
         },
         {
          "i": 3209,
          "loss": 214.39584350585938
         },
         {
          "i": 3210,
          "loss": 214.38873291015625
         },
         {
          "i": 3211,
          "loss": 214.3816375732422
         },
         {
          "i": 3212,
          "loss": 214.37452697753906
         },
         {
          "i": 3213,
          "loss": 214.36741638183594
         },
         {
          "i": 3214,
          "loss": 214.3603515625
         },
         {
          "i": 3215,
          "loss": 214.35325622558594
         },
         {
          "i": 3216,
          "loss": 214.3461456298828
         },
         {
          "i": 3217,
          "loss": 214.33908081054688
         },
         {
          "i": 3218,
          "loss": 214.33203125
         },
         {
          "i": 3219,
          "loss": 214.32492065429688
         },
         {
          "i": 3220,
          "loss": 214.31787109375
         },
         {
          "i": 3221,
          "loss": 214.31077575683594
         },
         {
          "i": 3222,
          "loss": 214.30372619628906
         },
         {
          "i": 3223,
          "loss": 214.29661560058594
         },
         {
          "i": 3224,
          "loss": 214.2895965576172
         },
         {
          "i": 3225,
          "loss": 214.28250122070312
         },
         {
          "i": 3226,
          "loss": 214.27545166015625
         },
         {
          "i": 3227,
          "loss": 214.26841735839844
         },
         {
          "i": 3228,
          "loss": 214.2613525390625
         },
         {
          "i": 3229,
          "loss": 214.25430297851562
         },
         {
          "i": 3230,
          "loss": 214.2472686767578
         },
         {
          "i": 3231,
          "loss": 214.24021911621094
         },
         {
          "i": 3232,
          "loss": 214.2332000732422
         },
         {
          "i": 3233,
          "loss": 214.2261505126953
         },
         {
          "i": 3234,
          "loss": 214.2191162109375
         },
         {
          "i": 3235,
          "loss": 214.21209716796875
         },
         {
          "i": 3236,
          "loss": 214.20506286621094
         },
         {
          "i": 3237,
          "loss": 214.1980438232422
         },
         {
          "i": 3238,
          "loss": 214.1910400390625
         },
         {
          "i": 3239,
          "loss": 214.1840362548828
         },
         {
          "i": 3240,
          "loss": 214.1770477294922
         },
         {
          "i": 3241,
          "loss": 214.1699981689453
         },
         {
          "i": 3242,
          "loss": 214.1630096435547
         },
         {
          "i": 3243,
          "loss": 214.15599060058594
         },
         {
          "i": 3244,
          "loss": 214.1490020751953
         },
         {
          "i": 3245,
          "loss": 214.1420440673828
         },
         {
          "i": 3246,
          "loss": 214.13504028320312
         },
         {
          "i": 3247,
          "loss": 214.12802124023438
         },
         {
          "i": 3248,
          "loss": 214.12107849121094
         },
         {
          "i": 3249,
          "loss": 214.11407470703125
         },
         {
          "i": 3250,
          "loss": 214.1071319580078
         },
         {
          "i": 3251,
          "loss": 214.10011291503906
         },
         {
          "i": 3252,
          "loss": 214.09317016601562
         },
         {
          "i": 3253,
          "loss": 214.0862274169922
         },
         {
          "i": 3254,
          "loss": 214.07928466796875
         },
         {
          "i": 3255,
          "loss": 214.07228088378906
         },
         {
          "i": 3256,
          "loss": 214.0653076171875
         },
         {
          "i": 3257,
          "loss": 214.05836486816406
         },
         {
          "i": 3258,
          "loss": 214.05142211914062
         },
         {
          "i": 3259,
          "loss": 214.0445098876953
         },
         {
          "i": 3260,
          "loss": 214.03750610351562
         },
         {
          "i": 3261,
          "loss": 214.03057861328125
         },
         {
          "i": 3262,
          "loss": 214.02366638183594
         },
         {
          "i": 3263,
          "loss": 214.01673889160156
         },
         {
          "i": 3264,
          "loss": 214.00982666015625
         },
         {
          "i": 3265,
          "loss": 214.00286865234375
         },
         {
          "i": 3266,
          "loss": 213.99595642089844
         },
         {
          "i": 3267,
          "loss": 213.98904418945312
         },
         {
          "i": 3268,
          "loss": 213.9821319580078
         },
         {
          "i": 3269,
          "loss": 213.9752197265625
         },
         {
          "i": 3270,
          "loss": 213.9683074951172
         },
         {
          "i": 3271,
          "loss": 213.9613800048828
         },
         {
          "i": 3272,
          "loss": 213.9544677734375
         },
         {
          "i": 3273,
          "loss": 213.94757080078125
         },
         {
          "i": 3274,
          "loss": 213.94068908691406
         },
         {
          "i": 3275,
          "loss": 213.93380737304688
         },
         {
          "i": 3276,
          "loss": 213.92691040039062
         },
         {
          "i": 3277,
          "loss": 213.9200439453125
         },
         {
          "i": 3278,
          "loss": 213.91314697265625
         },
         {
          "i": 3279,
          "loss": 213.90625
         },
         {
          "i": 3280,
          "loss": 213.8993682861328
         },
         {
          "i": 3281,
          "loss": 213.8925018310547
         },
         {
          "i": 3282,
          "loss": 213.8856201171875
         },
         {
          "i": 3283,
          "loss": 213.87876892089844
         },
         {
          "i": 3284,
          "loss": 213.87188720703125
         },
         {
          "i": 3285,
          "loss": 213.8650360107422
         },
         {
          "i": 3286,
          "loss": 213.85818481445312
         },
         {
          "i": 3287,
          "loss": 213.85130310058594
         },
         {
          "i": 3288,
          "loss": 213.84446716308594
         },
         {
          "i": 3289,
          "loss": 213.83763122558594
         },
         {
          "i": 3290,
          "loss": 213.83078002929688
         },
         {
          "i": 3291,
          "loss": 213.8239288330078
         },
         {
          "i": 3292,
          "loss": 213.81707763671875
         },
         {
          "i": 3293,
          "loss": 213.81021118164062
         },
         {
          "i": 3294,
          "loss": 213.80340576171875
         },
         {
          "i": 3295,
          "loss": 213.79656982421875
         },
         {
          "i": 3296,
          "loss": 213.78976440429688
         },
         {
          "i": 3297,
          "loss": 213.78292846679688
         },
         {
          "i": 3298,
          "loss": 213.77609252929688
         },
         {
          "i": 3299,
          "loss": 213.76930236816406
         },
         {
          "i": 3300,
          "loss": 213.76246643066406
         },
         {
          "i": 3301,
          "loss": 213.7556610107422
         },
         {
          "i": 3302,
          "loss": 213.74887084960938
         },
         {
          "i": 3303,
          "loss": 213.74205017089844
         },
         {
          "i": 3304,
          "loss": 213.73526000976562
         },
         {
          "i": 3305,
          "loss": 213.72845458984375
         },
         {
          "i": 3306,
          "loss": 213.7216339111328
         },
         {
          "i": 3307,
          "loss": 213.7148895263672
         },
         {
          "i": 3308,
          "loss": 213.70806884765625
         },
         {
          "i": 3309,
          "loss": 213.7012939453125
         },
         {
          "i": 3310,
          "loss": 213.6945343017578
         },
         {
          "i": 3311,
          "loss": 213.68772888183594
         },
         {
          "i": 3312,
          "loss": 213.68096923828125
         },
         {
          "i": 3313,
          "loss": 213.6741943359375
         },
         {
          "i": 3314,
          "loss": 213.66746520996094
         },
         {
          "i": 3315,
          "loss": 213.66064453125
         },
         {
          "i": 3316,
          "loss": 213.65390014648438
         },
         {
          "i": 3317,
          "loss": 213.64715576171875
         },
         {
          "i": 3318,
          "loss": 213.64041137695312
         },
         {
          "i": 3319,
          "loss": 213.63363647460938
         },
         {
          "i": 3320,
          "loss": 213.6268768310547
         },
         {
          "i": 3321,
          "loss": 213.62013244628906
         },
         {
          "i": 3322,
          "loss": 213.61337280273438
         },
         {
          "i": 3323,
          "loss": 213.60665893554688
         },
         {
          "i": 3324,
          "loss": 213.59991455078125
         },
         {
          "i": 3325,
          "loss": 213.59317016601562
         },
         {
          "i": 3326,
          "loss": 213.58644104003906
         },
         {
          "i": 3327,
          "loss": 213.5797119140625
         },
         {
          "i": 3328,
          "loss": 213.57296752929688
         },
         {
          "i": 3329,
          "loss": 213.56622314453125
         },
         {
          "i": 3330,
          "loss": 213.55950927734375
         },
         {
          "i": 3331,
          "loss": 213.55279541015625
         },
         {
          "i": 3332,
          "loss": 213.54608154296875
         },
         {
          "i": 3333,
          "loss": 213.5393524169922
         },
         {
          "i": 3334,
          "loss": 213.5326385498047
         },
         {
          "i": 3335,
          "loss": 213.5259552001953
         },
         {
          "i": 3336,
          "loss": 213.51922607421875
         },
         {
          "i": 3337,
          "loss": 213.5124969482422
         },
         {
          "i": 3338,
          "loss": 213.50579833984375
         },
         {
          "i": 3339,
          "loss": 213.4990997314453
         },
         {
          "i": 3340,
          "loss": 213.49241638183594
         },
         {
          "i": 3341,
          "loss": 213.4857635498047
         },
         {
          "i": 3342,
          "loss": 213.4790496826172
         },
         {
          "i": 3343,
          "loss": 213.4723663330078
         },
         {
          "i": 3344,
          "loss": 213.46563720703125
         },
         {
          "i": 3345,
          "loss": 213.45896911621094
         },
         {
          "i": 3346,
          "loss": 213.45228576660156
         },
         {
          "i": 3347,
          "loss": 213.44561767578125
         },
         {
          "i": 3348,
          "loss": 213.4389190673828
         },
         {
          "i": 3349,
          "loss": 213.43222045898438
         },
         {
          "i": 3350,
          "loss": 213.42556762695312
         },
         {
          "i": 3351,
          "loss": 213.41893005371094
         },
         {
          "i": 3352,
          "loss": 213.41224670410156
         },
         {
          "i": 3353,
          "loss": 213.40557861328125
         },
         {
          "i": 3354,
          "loss": 213.39892578125
         },
         {
          "i": 3355,
          "loss": 213.39222717285156
         },
         {
          "i": 3356,
          "loss": 213.38565063476562
         },
         {
          "i": 3357,
          "loss": 213.3789520263672
         },
         {
          "i": 3358,
          "loss": 213.37232971191406
         },
         {
          "i": 3359,
          "loss": 213.3656463623047
         },
         {
          "i": 3360,
          "loss": 213.35906982421875
         },
         {
          "i": 3361,
          "loss": 213.35240173339844
         },
         {
          "i": 3362,
          "loss": 213.34579467773438
         },
         {
          "i": 3363,
          "loss": 213.33914184570312
         },
         {
          "i": 3364,
          "loss": 213.33251953125
         },
         {
          "i": 3365,
          "loss": 213.32589721679688
         },
         {
          "i": 3366,
          "loss": 213.3192596435547
         },
         {
          "i": 3367,
          "loss": 213.31268310546875
         },
         {
          "i": 3368,
          "loss": 213.3060302734375
         },
         {
          "i": 3369,
          "loss": 213.2994384765625
         },
         {
          "i": 3370,
          "loss": 213.29283142089844
         },
         {
          "i": 3371,
          "loss": 213.28622436523438
         },
         {
          "i": 3372,
          "loss": 213.27960205078125
         },
         {
          "i": 3373,
          "loss": 213.27304077148438
         },
         {
          "i": 3374,
          "loss": 213.26644897460938
         },
         {
          "i": 3375,
          "loss": 213.25985717773438
         },
         {
          "i": 3376,
          "loss": 213.25326538085938
         },
         {
          "i": 3377,
          "loss": 213.2467041015625
         },
         {
          "i": 3378,
          "loss": 213.24008178710938
         },
         {
          "i": 3379,
          "loss": 213.23348999023438
         },
         {
          "i": 3380,
          "loss": 213.2269287109375
         },
         {
          "i": 3381,
          "loss": 213.22036743164062
         },
         {
          "i": 3382,
          "loss": 213.21380615234375
         },
         {
          "i": 3383,
          "loss": 213.2072296142578
         },
         {
          "i": 3384,
          "loss": 213.2006378173828
         },
         {
          "i": 3385,
          "loss": 213.19412231445312
         },
         {
          "i": 3386,
          "loss": 213.18751525878906
         },
         {
          "i": 3387,
          "loss": 213.18101501464844
         },
         {
          "i": 3388,
          "loss": 213.1744384765625
         },
         {
          "i": 3389,
          "loss": 213.1678924560547
         },
         {
          "i": 3390,
          "loss": 213.16134643554688
         },
         {
          "i": 3391,
          "loss": 213.15478515625
         },
         {
          "i": 3392,
          "loss": 213.14825439453125
         },
         {
          "i": 3393,
          "loss": 213.14169311523438
         },
         {
          "i": 3394,
          "loss": 213.1351776123047
         },
         {
          "i": 3395,
          "loss": 213.12863159179688
         },
         {
          "i": 3396,
          "loss": 213.12213134765625
         },
         {
          "i": 3397,
          "loss": 213.11558532714844
         },
         {
          "i": 3398,
          "loss": 213.10906982421875
         },
         {
          "i": 3399,
          "loss": 213.10252380371094
         },
         {
          "i": 3400,
          "loss": 213.0959930419922
         },
         {
          "i": 3401,
          "loss": 213.08949279785156
         },
         {
          "i": 3402,
          "loss": 213.0829620361328
         },
         {
          "i": 3403,
          "loss": 213.07643127441406
         },
         {
          "i": 3404,
          "loss": 213.06991577148438
         },
         {
          "i": 3405,
          "loss": 213.06341552734375
         },
         {
          "i": 3406,
          "loss": 213.05694580078125
         },
         {
          "i": 3407,
          "loss": 213.05043029785156
         },
         {
          "i": 3408,
          "loss": 213.0439453125
         },
         {
          "i": 3409,
          "loss": 213.03746032714844
         },
         {
          "i": 3410,
          "loss": 213.0309600830078
         },
         {
          "i": 3411,
          "loss": 213.02447509765625
         },
         {
          "i": 3412,
          "loss": 213.0179443359375
         },
         {
          "i": 3413,
          "loss": 213.0115203857422
         },
         {
          "i": 3414,
          "loss": 213.00502014160156
         },
         {
          "i": 3415,
          "loss": 212.99853515625
         },
         {
          "i": 3416,
          "loss": 212.9920654296875
         },
         {
          "i": 3417,
          "loss": 212.98562622070312
         },
         {
          "i": 3418,
          "loss": 212.97909545898438
         },
         {
          "i": 3419,
          "loss": 212.97264099121094
         },
         {
          "i": 3420,
          "loss": 212.96617126464844
         },
         {
          "i": 3421,
          "loss": 212.95974731445312
         },
         {
          "i": 3422,
          "loss": 212.95326232910156
         },
         {
          "i": 3423,
          "loss": 212.94677734375
         },
         {
          "i": 3424,
          "loss": 212.94036865234375
         },
         {
          "i": 3425,
          "loss": 212.93386840820312
         },
         {
          "i": 3426,
          "loss": 212.9274444580078
         },
         {
          "i": 3427,
          "loss": 212.9209747314453
         },
         {
          "i": 3428,
          "loss": 212.91455078125
         },
         {
          "i": 3429,
          "loss": 212.90811157226562
         },
         {
          "i": 3430,
          "loss": 212.9016571044922
         },
         {
          "i": 3431,
          "loss": 212.89524841308594
         },
         {
          "i": 3432,
          "loss": 212.88880920410156
         },
         {
          "i": 3433,
          "loss": 212.8824005126953
         },
         {
          "i": 3434,
          "loss": 212.87596130371094
         },
         {
          "i": 3435,
          "loss": 212.86953735351562
         },
         {
          "i": 3436,
          "loss": 212.86309814453125
         },
         {
          "i": 3437,
          "loss": 212.85670471191406
         },
         {
          "i": 3438,
          "loss": 212.8502960205078
         },
         {
          "i": 3439,
          "loss": 212.84388732910156
         },
         {
          "i": 3440,
          "loss": 212.8374786376953
         },
         {
          "i": 3441,
          "loss": 212.83103942871094
         },
         {
          "i": 3442,
          "loss": 212.8246307373047
         },
         {
          "i": 3443,
          "loss": 212.81826782226562
         },
         {
          "i": 3444,
          "loss": 212.81185913085938
         },
         {
          "i": 3445,
          "loss": 212.80545043945312
         },
         {
          "i": 3446,
          "loss": 212.79904174804688
         },
         {
          "i": 3447,
          "loss": 212.7926788330078
         },
         {
          "i": 3448,
          "loss": 212.78627014160156
         },
         {
          "i": 3449,
          "loss": 212.7799072265625
         },
         {
          "i": 3450,
          "loss": 212.7735137939453
         },
         {
          "i": 3451,
          "loss": 212.7671356201172
         },
         {
          "i": 3452,
          "loss": 212.7607421875
         },
         {
          "i": 3453,
          "loss": 212.75437927246094
         },
         {
          "i": 3454,
          "loss": 212.74798583984375
         },
         {
          "i": 3455,
          "loss": 212.7416534423828
         },
         {
          "i": 3456,
          "loss": 212.7352752685547
         },
         {
          "i": 3457,
          "loss": 212.72891235351562
         },
         {
          "i": 3458,
          "loss": 212.7225341796875
         },
         {
          "i": 3459,
          "loss": 212.7162322998047
         },
         {
          "i": 3460,
          "loss": 212.70986938476562
         },
         {
          "i": 3461,
          "loss": 212.7034912109375
         },
         {
          "i": 3462,
          "loss": 212.69717407226562
         },
         {
          "i": 3463,
          "loss": 212.6907958984375
         },
         {
          "i": 3464,
          "loss": 212.68447875976562
         },
         {
          "i": 3465,
          "loss": 212.67813110351562
         },
         {
          "i": 3466,
          "loss": 212.67178344726562
         },
         {
          "i": 3467,
          "loss": 212.6654815673828
         },
         {
          "i": 3468,
          "loss": 212.65911865234375
         },
         {
          "i": 3469,
          "loss": 212.6527862548828
         },
         {
          "i": 3470,
          "loss": 212.6464385986328
         },
         {
          "i": 3471,
          "loss": 212.64012145996094
         },
         {
          "i": 3472,
          "loss": 212.63385009765625
         },
         {
          "i": 3473,
          "loss": 212.62750244140625
         },
         {
          "i": 3474,
          "loss": 212.62118530273438
         },
         {
          "i": 3475,
          "loss": 212.6148681640625
         },
         {
          "i": 3476,
          "loss": 212.60855102539062
         },
         {
          "i": 3477,
          "loss": 212.60223388671875
         },
         {
          "i": 3478,
          "loss": 212.59596252441406
         },
         {
          "i": 3479,
          "loss": 212.58961486816406
         },
         {
          "i": 3480,
          "loss": 212.58331298828125
         },
         {
          "i": 3481,
          "loss": 212.5770263671875
         },
         {
          "i": 3482,
          "loss": 212.57070922851562
         },
         {
          "i": 3483,
          "loss": 212.56443786621094
         },
         {
          "i": 3484,
          "loss": 212.55812072753906
         },
         {
          "i": 3485,
          "loss": 212.5518341064453
         },
         {
          "i": 3486,
          "loss": 212.54554748535156
         },
         {
          "i": 3487,
          "loss": 212.5392608642578
         },
         {
          "i": 3488,
          "loss": 212.53298950195312
         },
         {
          "i": 3489,
          "loss": 212.52670288085938
         },
         {
          "i": 3490,
          "loss": 212.52041625976562
         },
         {
          "i": 3491,
          "loss": 212.51414489746094
         },
         {
          "i": 3492,
          "loss": 212.5078582763672
         },
         {
          "i": 3493,
          "loss": 212.5015869140625
         },
         {
          "i": 3494,
          "loss": 212.49533081054688
         },
         {
          "i": 3495,
          "loss": 212.4890594482422
         },
         {
          "i": 3496,
          "loss": 212.4827880859375
         },
         {
          "i": 3497,
          "loss": 212.47654724121094
         },
         {
          "i": 3498,
          "loss": 212.4702911376953
         },
         {
          "i": 3499,
          "loss": 212.46405029296875
         },
         {
          "i": 3500,
          "loss": 212.4578094482422
         },
         {
          "i": 3501,
          "loss": 212.45156860351562
         },
         {
          "i": 3502,
          "loss": 212.44532775878906
         },
         {
          "i": 3503,
          "loss": 212.4390869140625
         },
         {
          "i": 3504,
          "loss": 212.43283081054688
         },
         {
          "i": 3505,
          "loss": 212.42662048339844
         },
         {
          "i": 3506,
          "loss": 212.4203643798828
         },
         {
          "i": 3507,
          "loss": 212.41412353515625
         },
         {
          "i": 3508,
          "loss": 212.40789794921875
         },
         {
          "i": 3509,
          "loss": 212.40167236328125
         },
         {
          "i": 3510,
          "loss": 212.39544677734375
         },
         {
          "i": 3511,
          "loss": 212.3892059326172
         },
         {
          "i": 3512,
          "loss": 212.3830108642578
         },
         {
          "i": 3513,
          "loss": 212.37680053710938
         },
         {
          "i": 3514,
          "loss": 212.37059020996094
         },
         {
          "i": 3515,
          "loss": 212.3643798828125
         },
         {
          "i": 3516,
          "loss": 212.35816955566406
         },
         {
          "i": 3517,
          "loss": 212.35195922851562
         },
         {
          "i": 3518,
          "loss": 212.34576416015625
         },
         {
          "i": 3519,
          "loss": 212.3395538330078
         },
         {
          "i": 3520,
          "loss": 212.3333740234375
         },
         {
          "i": 3521,
          "loss": 212.3271942138672
         },
         {
          "i": 3522,
          "loss": 212.32098388671875
         },
         {
          "i": 3523,
          "loss": 212.31478881835938
         },
         {
          "i": 3524,
          "loss": 212.30860900878906
         },
         {
          "i": 3525,
          "loss": 212.30242919921875
         },
         {
          "i": 3526,
          "loss": 212.29624938964844
         },
         {
          "i": 3527,
          "loss": 212.2900390625
         },
         {
          "i": 3528,
          "loss": 212.28390502929688
         },
         {
          "i": 3529,
          "loss": 212.2777099609375
         },
         {
          "i": 3530,
          "loss": 212.27154541015625
         },
         {
          "i": 3531,
          "loss": 212.26536560058594
         },
         {
          "i": 3532,
          "loss": 212.25918579101562
         },
         {
          "i": 3533,
          "loss": 212.25302124023438
         },
         {
          "i": 3534,
          "loss": 212.2468719482422
         },
         {
          "i": 3535,
          "loss": 212.24073791503906
         },
         {
          "i": 3536,
          "loss": 212.2345733642578
         },
         {
          "i": 3537,
          "loss": 212.2283935546875
         },
         {
          "i": 3538,
          "loss": 212.2222442626953
         },
         {
          "i": 3539,
          "loss": 212.21607971191406
         },
         {
          "i": 3540,
          "loss": 212.2099151611328
         },
         {
          "i": 3541,
          "loss": 212.20379638671875
         },
         {
          "i": 3542,
          "loss": 212.1976318359375
         },
         {
          "i": 3543,
          "loss": 212.1914825439453
         },
         {
          "i": 3544,
          "loss": 212.1853485107422
         },
         {
          "i": 3545,
          "loss": 212.17921447753906
         },
         {
          "i": 3546,
          "loss": 212.17306518554688
         },
         {
          "i": 3547,
          "loss": 212.16693115234375
         },
         {
          "i": 3548,
          "loss": 212.16082763671875
         },
         {
          "i": 3549,
          "loss": 212.1546630859375
         },
         {
          "i": 3550,
          "loss": 212.1485595703125
         },
         {
          "i": 3551,
          "loss": 212.14244079589844
         },
         {
          "i": 3552,
          "loss": 212.13629150390625
         },
         {
          "i": 3553,
          "loss": 212.13018798828125
         },
         {
          "i": 3554,
          "loss": 212.1240997314453
         },
         {
          "i": 3555,
          "loss": 212.11795043945312
         },
         {
          "i": 3556,
          "loss": 212.11183166503906
         },
         {
          "i": 3557,
          "loss": 212.10574340820312
         },
         {
          "i": 3558,
          "loss": 212.09962463378906
         },
         {
          "i": 3559,
          "loss": 212.09353637695312
         },
         {
          "i": 3560,
          "loss": 212.0874481201172
         },
         {
          "i": 3561,
          "loss": 212.0813446044922
         },
         {
          "i": 3562,
          "loss": 212.07525634765625
         },
         {
          "i": 3563,
          "loss": 212.06918334960938
         },
         {
          "i": 3564,
          "loss": 212.06307983398438
         },
         {
          "i": 3565,
          "loss": 212.05699157714844
         },
         {
          "i": 3566,
          "loss": 212.0509033203125
         },
         {
          "i": 3567,
          "loss": 212.0447998046875
         },
         {
          "i": 3568,
          "loss": 212.03875732421875
         },
         {
          "i": 3569,
          "loss": 212.03269958496094
         },
         {
          "i": 3570,
          "loss": 212.02659606933594
         },
         {
          "i": 3571,
          "loss": 212.0205535888672
         },
         {
          "i": 3572,
          "loss": 212.01446533203125
         },
         {
          "i": 3573,
          "loss": 212.0084228515625
         },
         {
          "i": 3574,
          "loss": 212.00234985351562
         },
         {
          "i": 3575,
          "loss": 211.99627685546875
         },
         {
          "i": 3576,
          "loss": 211.9902801513672
         },
         {
          "i": 3577,
          "loss": 211.98422241210938
         },
         {
          "i": 3578,
          "loss": 211.97816467285156
         },
         {
          "i": 3579,
          "loss": 211.97210693359375
         },
         {
          "i": 3580,
          "loss": 211.96607971191406
         },
         {
          "i": 3581,
          "loss": 211.9600067138672
         },
         {
          "i": 3582,
          "loss": 211.95394897460938
         },
         {
          "i": 3583,
          "loss": 211.9479522705078
         },
         {
          "i": 3584,
          "loss": 211.94189453125
         },
         {
          "i": 3585,
          "loss": 211.93588256835938
         },
         {
          "i": 3586,
          "loss": 211.92984008789062
         },
         {
          "i": 3587,
          "loss": 211.923828125
         },
         {
          "i": 3588,
          "loss": 211.91781616210938
         },
         {
          "i": 3589,
          "loss": 211.91180419921875
         },
         {
          "i": 3590,
          "loss": 211.90577697753906
         },
         {
          "i": 3591,
          "loss": 211.89971923828125
         },
         {
          "i": 3592,
          "loss": 211.89373779296875
         },
         {
          "i": 3593,
          "loss": 211.88771057128906
         },
         {
          "i": 3594,
          "loss": 211.8817138671875
         },
         {
          "i": 3595,
          "loss": 211.87571716308594
         },
         {
          "i": 3596,
          "loss": 211.8697052001953
         },
         {
          "i": 3597,
          "loss": 211.8636932373047
         },
         {
          "i": 3598,
          "loss": 211.85768127441406
         },
         {
          "i": 3599,
          "loss": 211.85171508789062
         },
         {
          "i": 3600,
          "loss": 211.8457489013672
         },
         {
          "i": 3601,
          "loss": 211.83970642089844
         },
         {
          "i": 3602,
          "loss": 211.83375549316406
         },
         {
          "i": 3603,
          "loss": 211.82772827148438
         },
         {
          "i": 3604,
          "loss": 211.8217315673828
         },
         {
          "i": 3605,
          "loss": 211.81578063964844
         },
         {
          "i": 3606,
          "loss": 211.80978393554688
         },
         {
          "i": 3607,
          "loss": 211.80380249023438
         },
         {
          "i": 3608,
          "loss": 211.7978515625
         },
         {
          "i": 3609,
          "loss": 211.79185485839844
         },
         {
          "i": 3610,
          "loss": 211.78590393066406
         },
         {
          "i": 3611,
          "loss": 211.77992248535156
         },
         {
          "i": 3612,
          "loss": 211.7739715576172
         },
         {
          "i": 3613,
          "loss": 211.7679901123047
         },
         {
          "i": 3614,
          "loss": 211.76202392578125
         },
         {
          "i": 3615,
          "loss": 211.75607299804688
         },
         {
          "i": 3616,
          "loss": 211.75009155273438
         },
         {
          "i": 3617,
          "loss": 211.74415588378906
         },
         {
          "i": 3618,
          "loss": 211.7382049560547
         },
         {
          "i": 3619,
          "loss": 211.73226928710938
         },
         {
          "i": 3620,
          "loss": 211.72630310058594
         },
         {
          "i": 3621,
          "loss": 211.72035217285156
         },
         {
          "i": 3622,
          "loss": 211.7144317626953
         },
         {
          "i": 3623,
          "loss": 211.7084503173828
         },
         {
          "i": 3624,
          "loss": 211.70254516601562
         },
         {
          "i": 3625,
          "loss": 211.69662475585938
         },
         {
          "i": 3626,
          "loss": 211.69068908691406
         },
         {
          "i": 3627,
          "loss": 211.6847686767578
         },
         {
          "i": 3628,
          "loss": 211.67880249023438
         },
         {
          "i": 3629,
          "loss": 211.6728973388672
         },
         {
          "i": 3630,
          "loss": 211.6669921875
         },
         {
          "i": 3631,
          "loss": 211.6610565185547
         },
         {
          "i": 3632,
          "loss": 211.65513610839844
         },
         {
          "i": 3633,
          "loss": 211.64920043945312
         },
         {
          "i": 3634,
          "loss": 211.64328002929688
         },
         {
          "i": 3635,
          "loss": 211.63739013671875
         },
         {
          "i": 3636,
          "loss": 211.6314697265625
         },
         {
          "i": 3637,
          "loss": 211.6255645751953
         },
         {
          "i": 3638,
          "loss": 211.61964416503906
         },
         {
          "i": 3639,
          "loss": 211.61375427246094
         },
         {
          "i": 3640,
          "loss": 211.6078643798828
         },
         {
          "i": 3641,
          "loss": 211.6019287109375
         },
         {
          "i": 3642,
          "loss": 211.59605407714844
         },
         {
          "i": 3643,
          "loss": 211.59019470214844
         },
         {
          "i": 3644,
          "loss": 211.5842742919922
         },
         {
          "i": 3645,
          "loss": 211.57838439941406
         },
         {
          "i": 3646,
          "loss": 211.57249450683594
         },
         {
          "i": 3647,
          "loss": 211.56661987304688
         },
         {
          "i": 3648,
          "loss": 211.56072998046875
         },
         {
          "i": 3649,
          "loss": 211.55487060546875
         },
         {
          "i": 3650,
          "loss": 211.54896545410156
         },
         {
          "i": 3651,
          "loss": 211.54310607910156
         },
         {
          "i": 3652,
          "loss": 211.53724670410156
         },
         {
          "i": 3653,
          "loss": 211.53134155273438
         },
         {
          "i": 3654,
          "loss": 211.52548217773438
         },
         {
          "i": 3655,
          "loss": 211.51959228515625
         },
         {
          "i": 3656,
          "loss": 211.51376342773438
         },
         {
          "i": 3657,
          "loss": 211.50787353515625
         },
         {
          "i": 3658,
          "loss": 211.5020294189453
         },
         {
          "i": 3659,
          "loss": 211.4961395263672
         },
         {
          "i": 3660,
          "loss": 211.49029541015625
         },
         {
          "i": 3661,
          "loss": 211.48443603515625
         },
         {
          "i": 3662,
          "loss": 211.47857666015625
         },
         {
          "i": 3663,
          "loss": 211.47271728515625
         },
         {
          "i": 3664,
          "loss": 211.46688842773438
         },
         {
          "i": 3665,
          "loss": 211.46102905273438
         },
         {
          "i": 3666,
          "loss": 211.4551544189453
         },
         {
          "i": 3667,
          "loss": 211.44931030273438
         },
         {
          "i": 3668,
          "loss": 211.44349670410156
         },
         {
          "i": 3669,
          "loss": 211.43765258789062
         },
         {
          "i": 3670,
          "loss": 211.43179321289062
         },
         {
          "i": 3671,
          "loss": 211.42599487304688
         },
         {
          "i": 3672,
          "loss": 211.42013549804688
         },
         {
          "i": 3673,
          "loss": 211.41432189941406
         },
         {
          "i": 3674,
          "loss": 211.40847778320312
         },
         {
          "i": 3675,
          "loss": 211.40267944335938
         },
         {
          "i": 3676,
          "loss": 211.39683532714844
         },
         {
          "i": 3677,
          "loss": 211.39097595214844
         },
         {
          "i": 3678,
          "loss": 211.38519287109375
         },
         {
          "i": 3679,
          "loss": 211.37937927246094
         },
         {
          "i": 3680,
          "loss": 211.37353515625
         },
         {
          "i": 3681,
          "loss": 211.3677215576172
         },
         {
          "i": 3682,
          "loss": 211.3619384765625
         },
         {
          "i": 3683,
          "loss": 211.35610961914062
         },
         {
          "i": 3684,
          "loss": 211.3502960205078
         },
         {
          "i": 3685,
          "loss": 211.34446716308594
         },
         {
          "i": 3686,
          "loss": 211.33865356445312
         },
         {
          "i": 3687,
          "loss": 211.33291625976562
         },
         {
          "i": 3688,
          "loss": 211.32708740234375
         },
         {
          "i": 3689,
          "loss": 211.32130432128906
         },
         {
          "i": 3690,
          "loss": 211.3155059814453
         },
         {
          "i": 3691,
          "loss": 211.30970764160156
         },
         {
          "i": 3692,
          "loss": 211.30393981933594
         },
         {
          "i": 3693,
          "loss": 211.2981414794922
         },
         {
          "i": 3694,
          "loss": 211.29234313964844
         },
         {
          "i": 3695,
          "loss": 211.28660583496094
         },
         {
          "i": 3696,
          "loss": 211.2808074951172
         },
         {
          "i": 3697,
          "loss": 211.2750244140625
         },
         {
          "i": 3698,
          "loss": 211.2692413330078
         },
         {
          "i": 3699,
          "loss": 211.2634735107422
         },
         {
          "i": 3700,
          "loss": 211.2576904296875
         },
         {
          "i": 3701,
          "loss": 211.251953125
         },
         {
          "i": 3702,
          "loss": 211.2461700439453
         },
         {
          "i": 3703,
          "loss": 211.2404327392578
         },
         {
          "i": 3704,
          "loss": 211.23464965820312
         },
         {
          "i": 3705,
          "loss": 211.22891235351562
         },
         {
          "i": 3706,
          "loss": 211.22315979003906
         },
         {
          "i": 3707,
          "loss": 211.2173614501953
         },
         {
          "i": 3708,
          "loss": 211.2116241455078
         },
         {
          "i": 3709,
          "loss": 211.20587158203125
         },
         {
          "i": 3710,
          "loss": 211.20013427734375
         },
         {
          "i": 3711,
          "loss": 211.1944122314453
         },
         {
          "i": 3712,
          "loss": 211.18865966796875
         },
         {
          "i": 3713,
          "loss": 211.18292236328125
         },
         {
          "i": 3714,
          "loss": 211.1771697998047
         },
         {
          "i": 3715,
          "loss": 211.17144775390625
         },
         {
          "i": 3716,
          "loss": 211.16567993164062
         },
         {
          "i": 3717,
          "loss": 211.1599578857422
         },
         {
          "i": 3718,
          "loss": 211.15423583984375
         },
         {
          "i": 3719,
          "loss": 211.14849853515625
         },
         {
          "i": 3720,
          "loss": 211.1427764892578
         },
         {
          "i": 3721,
          "loss": 211.1370849609375
         },
         {
          "i": 3722,
          "loss": 211.13134765625
         },
         {
          "i": 3723,
          "loss": 211.12562561035156
         },
         {
          "i": 3724,
          "loss": 211.11990356445312
         },
         {
          "i": 3725,
          "loss": 211.11416625976562
         },
         {
          "i": 3726,
          "loss": 211.1085205078125
         },
         {
          "i": 3727,
          "loss": 211.10276794433594
         },
         {
          "i": 3728,
          "loss": 211.0970916748047
         },
         {
          "i": 3729,
          "loss": 211.09136962890625
         },
         {
          "i": 3730,
          "loss": 211.0856475830078
         },
         {
          "i": 3731,
          "loss": 211.07994079589844
         },
         {
          "i": 3732,
          "loss": 211.0742645263672
         },
         {
          "i": 3733,
          "loss": 211.06857299804688
         },
         {
          "i": 3734,
          "loss": 211.0628662109375
         },
         {
          "i": 3735,
          "loss": 211.0571746826172
         },
         {
          "i": 3736,
          "loss": 211.05148315429688
         },
         {
          "i": 3737,
          "loss": 211.04580688476562
         },
         {
          "i": 3738,
          "loss": 211.04010009765625
         },
         {
          "i": 3739,
          "loss": 211.03439331054688
         },
         {
          "i": 3740,
          "loss": 211.02874755859375
         },
         {
          "i": 3741,
          "loss": 211.0230712890625
         },
         {
          "i": 3742,
          "loss": 211.01739501953125
         },
         {
          "i": 3743,
          "loss": 211.01171875
         },
         {
          "i": 3744,
          "loss": 211.00601196289062
         },
         {
          "i": 3745,
          "loss": 211.00030517578125
         },
         {
          "i": 3746,
          "loss": 210.99468994140625
         },
         {
          "i": 3747,
          "loss": 210.98899841308594
         },
         {
          "i": 3748,
          "loss": 210.98333740234375
         },
         {
          "i": 3749,
          "loss": 210.9776611328125
         },
         {
          "i": 3750,
          "loss": 210.97198486328125
         },
         {
          "i": 3751,
          "loss": 210.9663543701172
         },
         {
          "i": 3752,
          "loss": 210.96066284179688
         },
         {
          "i": 3753,
          "loss": 210.95501708984375
         },
         {
          "i": 3754,
          "loss": 210.94937133789062
         },
         {
          "i": 3755,
          "loss": 210.9437255859375
         },
         {
          "i": 3756,
          "loss": 210.93804931640625
         },
         {
          "i": 3757,
          "loss": 210.93240356445312
         },
         {
          "i": 3758,
          "loss": 210.92669677734375
         },
         {
          "i": 3759,
          "loss": 210.9210968017578
         },
         {
          "i": 3760,
          "loss": 210.91543579101562
         },
         {
          "i": 3761,
          "loss": 210.9097900390625
         },
         {
          "i": 3762,
          "loss": 210.90414428710938
         },
         {
          "i": 3763,
          "loss": 210.8985137939453
         },
         {
          "i": 3764,
          "loss": 210.8928680419922
         },
         {
          "i": 3765,
          "loss": 210.88722229003906
         },
         {
          "i": 3766,
          "loss": 210.88157653808594
         },
         {
          "i": 3767,
          "loss": 210.87596130371094
         },
         {
          "i": 3768,
          "loss": 210.87033081054688
         },
         {
          "i": 3769,
          "loss": 210.8647003173828
         },
         {
          "i": 3770,
          "loss": 210.8590850830078
         },
         {
          "i": 3771,
          "loss": 210.85350036621094
         },
         {
          "i": 3772,
          "loss": 210.84783935546875
         },
         {
          "i": 3773,
          "loss": 210.8422393798828
         },
         {
          "i": 3774,
          "loss": 210.83663940429688
         },
         {
          "i": 3775,
          "loss": 210.83099365234375
         },
         {
          "i": 3776,
          "loss": 210.8253936767578
         },
         {
          "i": 3777,
          "loss": 210.81980895996094
         },
         {
          "i": 3778,
          "loss": 210.81417846679688
         },
         {
          "i": 3779,
          "loss": 210.80857849121094
         },
         {
          "i": 3780,
          "loss": 210.80299377441406
         },
         {
          "i": 3781,
          "loss": 210.79736328125
         },
         {
          "i": 3782,
          "loss": 210.79176330566406
         },
         {
          "i": 3783,
          "loss": 210.7861785888672
         },
         {
          "i": 3784,
          "loss": 210.7805633544922
         },
         {
          "i": 3785,
          "loss": 210.7749481201172
         },
         {
          "i": 3786,
          "loss": 210.76939392089844
         },
         {
          "i": 3787,
          "loss": 210.7637939453125
         },
         {
          "i": 3788,
          "loss": 210.7581787109375
         },
         {
          "i": 3789,
          "loss": 210.75262451171875
         },
         {
          "i": 3790,
          "loss": 210.7470245361328
         },
         {
          "i": 3791,
          "loss": 210.74143981933594
         },
         {
          "i": 3792,
          "loss": 210.7358856201172
         },
         {
          "i": 3793,
          "loss": 210.73028564453125
         },
         {
          "i": 3794,
          "loss": 210.7247314453125
         },
         {
          "i": 3795,
          "loss": 210.7191162109375
         },
         {
          "i": 3796,
          "loss": 210.71356201171875
         },
         {
          "i": 3797,
          "loss": 210.70799255371094
         },
         {
          "i": 3798,
          "loss": 210.7024383544922
         },
         {
          "i": 3799,
          "loss": 210.69683837890625
         },
         {
          "i": 3800,
          "loss": 210.69131469726562
         },
         {
          "i": 3801,
          "loss": 210.68572998046875
         },
         {
          "i": 3802,
          "loss": 210.68017578125
         },
         {
          "i": 3803,
          "loss": 210.6746063232422
         },
         {
          "i": 3804,
          "loss": 210.6690673828125
         },
         {
          "i": 3805,
          "loss": 210.66351318359375
         },
         {
          "i": 3806,
          "loss": 210.65794372558594
         },
         {
          "i": 3807,
          "loss": 210.65240478515625
         },
         {
          "i": 3808,
          "loss": 210.6468505859375
         },
         {
          "i": 3809,
          "loss": 210.64132690429688
         },
         {
          "i": 3810,
          "loss": 210.63575744628906
         },
         {
          "i": 3811,
          "loss": 210.63023376464844
         },
         {
          "i": 3812,
          "loss": 210.62469482421875
         },
         {
          "i": 3813,
          "loss": 210.61915588378906
         },
         {
          "i": 3814,
          "loss": 210.61363220214844
         },
         {
          "i": 3815,
          "loss": 210.6081085205078
         },
         {
          "i": 3816,
          "loss": 210.60255432128906
         },
         {
          "i": 3817,
          "loss": 210.59703063964844
         },
         {
          "i": 3818,
          "loss": 210.5915069580078
         },
         {
          "i": 3819,
          "loss": 210.58595275878906
         },
         {
          "i": 3820,
          "loss": 210.58047485351562
         },
         {
          "i": 3821,
          "loss": 210.57493591308594
         },
         {
          "i": 3822,
          "loss": 210.56939697265625
         },
         {
          "i": 3823,
          "loss": 210.56390380859375
         },
         {
          "i": 3824,
          "loss": 210.5583953857422
         },
         {
          "i": 3825,
          "loss": 210.55287170410156
         },
         {
          "i": 3826,
          "loss": 210.54737854003906
         },
         {
          "i": 3827,
          "loss": 210.54185485839844
         },
         {
          "i": 3828,
          "loss": 210.53639221191406
         },
         {
          "i": 3829,
          "loss": 210.53085327148438
         },
         {
          "i": 3830,
          "loss": 210.52532958984375
         },
         {
          "i": 3831,
          "loss": 210.51986694335938
         },
         {
          "i": 3832,
          "loss": 210.5143585205078
         },
         {
          "i": 3833,
          "loss": 210.5088653564453
         },
         {
          "i": 3834,
          "loss": 210.5033721923828
         },
         {
          "i": 3835,
          "loss": 210.49790954589844
         },
         {
          "i": 3836,
          "loss": 210.49241638183594
         },
         {
          "i": 3837,
          "loss": 210.4869384765625
         },
         {
          "i": 3838,
          "loss": 210.48143005371094
         },
         {
          "i": 3839,
          "loss": 210.47593688964844
         },
         {
          "i": 3840,
          "loss": 210.47047424316406
         },
         {
          "i": 3841,
          "loss": 210.46502685546875
         },
         {
          "i": 3842,
          "loss": 210.4595184326172
         },
         {
          "i": 3843,
          "loss": 210.45404052734375
         },
         {
          "i": 3844,
          "loss": 210.44857788085938
         },
         {
          "i": 3845,
          "loss": 210.44309997558594
         },
         {
          "i": 3846,
          "loss": 210.43763732910156
         },
         {
          "i": 3847,
          "loss": 210.4321746826172
         },
         {
          "i": 3848,
          "loss": 210.42669677734375
         },
         {
          "i": 3849,
          "loss": 210.4212646484375
         },
         {
          "i": 3850,
          "loss": 210.41580200195312
         },
         {
          "i": 3851,
          "loss": 210.41030883789062
         },
         {
          "i": 3852,
          "loss": 210.40487670898438
         },
         {
          "i": 3853,
          "loss": 210.3994140625
         },
         {
          "i": 3854,
          "loss": 210.39398193359375
         },
         {
          "i": 3855,
          "loss": 210.38853454589844
         },
         {
          "i": 3856,
          "loss": 210.38307189941406
         },
         {
          "i": 3857,
          "loss": 210.3776397705078
         },
         {
          "i": 3858,
          "loss": 210.3721923828125
         },
         {
          "i": 3859,
          "loss": 210.3667449951172
         },
         {
          "i": 3860,
          "loss": 210.3612823486328
         },
         {
          "i": 3861,
          "loss": 210.35586547851562
         },
         {
          "i": 3862,
          "loss": 210.35043334960938
         },
         {
          "i": 3863,
          "loss": 210.34498596191406
         },
         {
          "i": 3864,
          "loss": 210.3395538330078
         },
         {
          "i": 3865,
          "loss": 210.33413696289062
         },
         {
          "i": 3866,
          "loss": 210.3286895751953
         },
         {
          "i": 3867,
          "loss": 210.3232879638672
         },
         {
          "i": 3868,
          "loss": 210.31785583496094
         },
         {
          "i": 3869,
          "loss": 210.3124237060547
         },
         {
          "i": 3870,
          "loss": 210.30699157714844
         },
         {
          "i": 3871,
          "loss": 210.30157470703125
         },
         {
          "i": 3872,
          "loss": 210.29617309570312
         },
         {
          "i": 3873,
          "loss": 210.29078674316406
         },
         {
          "i": 3874,
          "loss": 210.28533935546875
         },
         {
          "i": 3875,
          "loss": 210.2799072265625
         },
         {
          "i": 3876,
          "loss": 210.2744903564453
         },
         {
          "i": 3877,
          "loss": 210.2690887451172
         },
         {
          "i": 3878,
          "loss": 210.26365661621094
         },
         {
          "i": 3879,
          "loss": 210.25828552246094
         },
         {
          "i": 3880,
          "loss": 210.25286865234375
         },
         {
          "i": 3881,
          "loss": 210.24746704101562
         },
         {
          "i": 3882,
          "loss": 210.24205017089844
         },
         {
          "i": 3883,
          "loss": 210.23667907714844
         },
         {
          "i": 3884,
          "loss": 210.23126220703125
         },
         {
          "i": 3885,
          "loss": 210.22586059570312
         },
         {
          "i": 3886,
          "loss": 210.22042846679688
         },
         {
          "i": 3887,
          "loss": 210.21505737304688
         },
         {
          "i": 3888,
          "loss": 210.20968627929688
         },
         {
          "i": 3889,
          "loss": 210.20428466796875
         },
         {
          "i": 3890,
          "loss": 210.19891357421875
         },
         {
          "i": 3891,
          "loss": 210.19354248046875
         },
         {
          "i": 3892,
          "loss": 210.18807983398438
         },
         {
          "i": 3893,
          "loss": 210.1827392578125
         },
         {
          "i": 3894,
          "loss": 210.17733764648438
         },
         {
          "i": 3895,
          "loss": 210.1719512939453
         },
         {
          "i": 3896,
          "loss": 210.16659545898438
         },
         {
          "i": 3897,
          "loss": 210.1612091064453
         },
         {
          "i": 3898,
          "loss": 210.1558380126953
         },
         {
          "i": 3899,
          "loss": 210.1504669189453
         },
         {
          "i": 3900,
          "loss": 210.1450958251953
         },
         {
          "i": 3901,
          "loss": 210.13970947265625
         },
         {
          "i": 3902,
          "loss": 210.13433837890625
         },
         {
          "i": 3903,
          "loss": 210.1289825439453
         },
         {
          "i": 3904,
          "loss": 210.12362670898438
         },
         {
          "i": 3905,
          "loss": 210.1182403564453
         },
         {
          "i": 3906,
          "loss": 210.1129150390625
         },
         {
          "i": 3907,
          "loss": 210.1075439453125
         },
         {
          "i": 3908,
          "loss": 210.1021728515625
         },
         {
          "i": 3909,
          "loss": 210.09686279296875
         },
         {
          "i": 3910,
          "loss": 210.09149169921875
         },
         {
          "i": 3911,
          "loss": 210.08612060546875
         },
         {
          "i": 3912,
          "loss": 210.0807647705078
         },
         {
          "i": 3913,
          "loss": 210.07546997070312
         },
         {
          "i": 3914,
          "loss": 210.07008361816406
         },
         {
          "i": 3915,
          "loss": 210.0647430419922
         },
         {
          "i": 3916,
          "loss": 210.05941772460938
         },
         {
          "i": 3917,
          "loss": 210.05406188964844
         },
         {
          "i": 3918,
          "loss": 210.04873657226562
         },
         {
          "i": 3919,
          "loss": 210.04339599609375
         },
         {
          "i": 3920,
          "loss": 210.03807067871094
         },
         {
          "i": 3921,
          "loss": 210.03271484375
         },
         {
          "i": 3922,
          "loss": 210.0273895263672
         },
         {
          "i": 3923,
          "loss": 210.02206420898438
         },
         {
          "i": 3924,
          "loss": 210.01673889160156
         },
         {
          "i": 3925,
          "loss": 210.01141357421875
         },
         {
          "i": 3926,
          "loss": 210.00607299804688
         },
         {
          "i": 3927,
          "loss": 210.00076293945312
         },
         {
          "i": 3928,
          "loss": 209.99542236328125
         },
         {
          "i": 3929,
          "loss": 209.99014282226562
         },
         {
          "i": 3930,
          "loss": 209.98480224609375
         },
         {
          "i": 3931,
          "loss": 209.97947692871094
         },
         {
          "i": 3932,
          "loss": 209.9741668701172
         },
         {
          "i": 3933,
          "loss": 209.96888732910156
         },
         {
          "i": 3934,
          "loss": 209.96356201171875
         },
         {
          "i": 3935,
          "loss": 209.95822143554688
         },
         {
          "i": 3936,
          "loss": 209.95291137695312
         },
         {
          "i": 3937,
          "loss": 209.94761657714844
         },
         {
          "i": 3938,
          "loss": 209.94232177734375
         },
         {
          "i": 3939,
          "loss": 209.93701171875
         },
         {
          "i": 3940,
          "loss": 209.9317169189453
         },
         {
          "i": 3941,
          "loss": 209.92642211914062
         },
         {
          "i": 3942,
          "loss": 209.92111206054688
         },
         {
          "i": 3943,
          "loss": 209.9158172607422
         },
         {
          "i": 3944,
          "loss": 209.91049194335938
         },
         {
          "i": 3945,
          "loss": 209.9052276611328
         },
         {
          "i": 3946,
          "loss": 209.8999481201172
         },
         {
          "i": 3947,
          "loss": 209.89466857910156
         },
         {
          "i": 3948,
          "loss": 209.8893585205078
         },
         {
          "i": 3949,
          "loss": 209.8840789794922
         },
         {
          "i": 3950,
          "loss": 209.87881469726562
         },
         {
          "i": 3951,
          "loss": 209.87353515625
         },
         {
          "i": 3952,
          "loss": 209.8682403564453
         },
         {
          "i": 3953,
          "loss": 209.86297607421875
         },
         {
          "i": 3954,
          "loss": 209.85769653320312
         },
         {
          "i": 3955,
          "loss": 209.85244750976562
         },
         {
          "i": 3956,
          "loss": 209.84716796875
         },
         {
          "i": 3957,
          "loss": 209.8418731689453
         },
         {
          "i": 3958,
          "loss": 209.8366241455078
         },
         {
          "i": 3959,
          "loss": 209.8313446044922
         },
         {
          "i": 3960,
          "loss": 209.8260955810547
         },
         {
          "i": 3961,
          "loss": 209.82081604003906
         },
         {
          "i": 3962,
          "loss": 209.81556701660156
         },
         {
          "i": 3963,
          "loss": 209.81028747558594
         },
         {
          "i": 3964,
          "loss": 209.80503845214844
         },
         {
          "i": 3965,
          "loss": 209.79978942871094
         },
         {
          "i": 3966,
          "loss": 209.79452514648438
         },
         {
          "i": 3967,
          "loss": 209.78927612304688
         },
         {
          "i": 3968,
          "loss": 209.78402709960938
         },
         {
          "i": 3969,
          "loss": 209.77879333496094
         },
         {
          "i": 3970,
          "loss": 209.77352905273438
         },
         {
          "i": 3971,
          "loss": 209.76829528808594
         },
         {
          "i": 3972,
          "loss": 209.76304626464844
         },
         {
          "i": 3973,
          "loss": 209.7578125
         },
         {
          "i": 3974,
          "loss": 209.75257873535156
         },
         {
          "i": 3975,
          "loss": 209.74734497070312
         },
         {
          "i": 3976,
          "loss": 209.74209594726562
         },
         {
          "i": 3977,
          "loss": 209.7368927001953
         },
         {
          "i": 3978,
          "loss": 209.73162841796875
         },
         {
          "i": 3979,
          "loss": 209.72640991210938
         },
         {
          "i": 3980,
          "loss": 209.72117614746094
         },
         {
          "i": 3981,
          "loss": 209.71595764160156
         },
         {
          "i": 3982,
          "loss": 209.7107391357422
         },
         {
          "i": 3983,
          "loss": 209.7054901123047
         },
         {
          "i": 3984,
          "loss": 209.7002716064453
         },
         {
          "i": 3985,
          "loss": 209.69508361816406
         },
         {
          "i": 3986,
          "loss": 209.68984985351562
         },
         {
          "i": 3987,
          "loss": 209.6846466064453
         },
         {
          "i": 3988,
          "loss": 209.67941284179688
         },
         {
          "i": 3989,
          "loss": 209.6741943359375
         },
         {
          "i": 3990,
          "loss": 209.66896057128906
         },
         {
          "i": 3991,
          "loss": 209.66378784179688
         },
         {
          "i": 3992,
          "loss": 209.65859985351562
         },
         {
          "i": 3993,
          "loss": 209.65338134765625
         },
         {
          "i": 3994,
          "loss": 209.64816284179688
         },
         {
          "i": 3995,
          "loss": 209.6429901123047
         },
         {
          "i": 3996,
          "loss": 209.63775634765625
         },
         {
          "i": 3997,
          "loss": 209.63258361816406
         },
         {
          "i": 3998,
          "loss": 209.62738037109375
         },
         {
          "i": 3999,
          "loss": 209.6221923828125
         },
         {
          "i": 4000,
          "loss": 209.61700439453125
         },
         {
          "i": 4001,
          "loss": 209.61180114746094
         },
         {
          "i": 4002,
          "loss": 209.60659790039062
         },
         {
          "i": 4003,
          "loss": 209.6014404296875
         },
         {
          "i": 4004,
          "loss": 209.5962371826172
         },
         {
          "i": 4005,
          "loss": 209.59104919433594
         },
         {
          "i": 4006,
          "loss": 209.58587646484375
         },
         {
          "i": 4007,
          "loss": 209.5806884765625
         },
         {
          "i": 4008,
          "loss": 209.57554626464844
         },
         {
          "i": 4009,
          "loss": 209.5703582763672
         },
         {
          "i": 4010,
          "loss": 209.56517028808594
         },
         {
          "i": 4011,
          "loss": 209.5599822998047
         },
         {
          "i": 4012,
          "loss": 209.55484008789062
         },
         {
          "i": 4013,
          "loss": 209.54966735839844
         },
         {
          "i": 4014,
          "loss": 209.54449462890625
         },
         {
          "i": 4015,
          "loss": 209.53932189941406
         },
         {
          "i": 4016,
          "loss": 209.5341796875
         },
         {
          "i": 4017,
          "loss": 209.5290069580078
         },
         {
          "i": 4018,
          "loss": 209.5238494873047
         },
         {
          "i": 4019,
          "loss": 209.51869201660156
         },
         {
          "i": 4020,
          "loss": 209.51353454589844
         },
         {
          "i": 4021,
          "loss": 209.50836181640625
         },
         {
          "i": 4022,
          "loss": 209.5032196044922
         },
         {
          "i": 4023,
          "loss": 209.498046875
         },
         {
          "i": 4024,
          "loss": 209.49293518066406
         },
         {
          "i": 4025,
          "loss": 209.4877471923828
         },
         {
          "i": 4026,
          "loss": 209.48263549804688
         },
         {
          "i": 4027,
          "loss": 209.47747802734375
         },
         {
          "i": 4028,
          "loss": 209.47235107421875
         },
         {
          "i": 4029,
          "loss": 209.4672088623047
         },
         {
          "i": 4030,
          "loss": 209.46205139160156
         },
         {
          "i": 4031,
          "loss": 209.45693969726562
         },
         {
          "i": 4032,
          "loss": 209.45179748535156
         },
         {
          "i": 4033,
          "loss": 209.44664001464844
         },
         {
          "i": 4034,
          "loss": 209.44149780273438
         },
         {
          "i": 4035,
          "loss": 209.43638610839844
         },
         {
          "i": 4036,
          "loss": 209.43124389648438
         },
         {
          "i": 4037,
          "loss": 209.42611694335938
         },
         {
          "i": 4038,
          "loss": 209.4209747314453
         },
         {
          "i": 4039,
          "loss": 209.41586303710938
         },
         {
          "i": 4040,
          "loss": 209.4107666015625
         },
         {
          "i": 4041,
          "loss": 209.40560913085938
         },
         {
          "i": 4042,
          "loss": 209.4005126953125
         },
         {
          "i": 4043,
          "loss": 209.39541625976562
         },
         {
          "i": 4044,
          "loss": 209.3902587890625
         },
         {
          "i": 4045,
          "loss": 209.3851318359375
         },
         {
          "i": 4046,
          "loss": 209.38003540039062
         },
         {
          "i": 4047,
          "loss": 209.3749542236328
         },
         {
          "i": 4048,
          "loss": 209.3698272705078
         },
         {
          "i": 4049,
          "loss": 209.3647003173828
         },
         {
          "i": 4050,
          "loss": 209.35960388183594
         },
         {
          "i": 4051,
          "loss": 209.35450744628906
         },
         {
          "i": 4052,
          "loss": 209.34939575195312
         },
         {
          "i": 4053,
          "loss": 209.34429931640625
         },
         {
          "i": 4054,
          "loss": 209.33920288085938
         },
         {
          "i": 4055,
          "loss": 209.3340606689453
         },
         {
          "i": 4056,
          "loss": 209.3289794921875
         },
         {
          "i": 4057,
          "loss": 209.32391357421875
         },
         {
          "i": 4058,
          "loss": 209.3188018798828
         },
         {
          "i": 4059,
          "loss": 209.31370544433594
         },
         {
          "i": 4060,
          "loss": 209.3086395263672
         },
         {
          "i": 4061,
          "loss": 209.30355834960938
         },
         {
          "i": 4062,
          "loss": 209.2984619140625
         },
         {
          "i": 4063,
          "loss": 209.29336547851562
         },
         {
          "i": 4064,
          "loss": 209.2882843017578
         },
         {
          "i": 4065,
          "loss": 209.28318786621094
         },
         {
          "i": 4066,
          "loss": 209.27809143066406
         },
         {
          "i": 4067,
          "loss": 209.27301025390625
         },
         {
          "i": 4068,
          "loss": 209.26791381835938
         },
         {
          "i": 4069,
          "loss": 209.26287841796875
         },
         {
          "i": 4070,
          "loss": 209.2577667236328
         },
         {
          "i": 4071,
          "loss": 209.25270080566406
         },
         {
          "i": 4072,
          "loss": 209.24761962890625
         },
         {
          "i": 4073,
          "loss": 209.24253845214844
         },
         {
          "i": 4074,
          "loss": 209.23745727539062
         },
         {
          "i": 4075,
          "loss": 209.23240661621094
         },
         {
          "i": 4076,
          "loss": 209.2273406982422
         },
         {
          "i": 4077,
          "loss": 209.2222442626953
         },
         {
          "i": 4078,
          "loss": 209.2171630859375
         },
         {
          "i": 4079,
          "loss": 209.21214294433594
         },
         {
          "i": 4080,
          "loss": 209.20709228515625
         },
         {
          "i": 4081,
          "loss": 209.20201110839844
         },
         {
          "i": 4082,
          "loss": 209.19696044921875
         },
         {
          "i": 4083,
          "loss": 209.19187927246094
         },
         {
          "i": 4084,
          "loss": 209.18682861328125
         },
         {
          "i": 4085,
          "loss": 209.1817626953125
         },
         {
          "i": 4086,
          "loss": 209.1767578125
         },
         {
          "i": 4087,
          "loss": 209.1716766357422
         },
         {
          "i": 4088,
          "loss": 209.16664123535156
         },
         {
          "i": 4089,
          "loss": 209.1615753173828
         },
         {
          "i": 4090,
          "loss": 209.1565399169922
         },
         {
          "i": 4091,
          "loss": 209.15150451660156
         },
         {
          "i": 4092,
          "loss": 209.14646911621094
         },
         {
          "i": 4093,
          "loss": 209.14146423339844
         },
         {
          "i": 4094,
          "loss": 209.13641357421875
         },
         {
          "i": 4095,
          "loss": 209.13133239746094
         },
         {
          "i": 4096,
          "loss": 209.12632751464844
         },
         {
          "i": 4097,
          "loss": 209.1212921142578
         },
         {
          "i": 4098,
          "loss": 209.11627197265625
         },
         {
          "i": 4099,
          "loss": 209.11123657226562
         },
         {
          "i": 4100,
          "loss": 209.10618591308594
         },
         {
          "i": 4101,
          "loss": 209.10116577148438
         },
         {
          "i": 4102,
          "loss": 209.09613037109375
         },
         {
          "i": 4103,
          "loss": 209.09112548828125
         },
         {
          "i": 4104,
          "loss": 209.08609008789062
         },
         {
          "i": 4105,
          "loss": 209.08106994628906
         },
         {
          "i": 4106,
          "loss": 209.0760498046875
         },
         {
          "i": 4107,
          "loss": 209.07102966308594
         },
         {
          "i": 4108,
          "loss": 209.06600952148438
         },
         {
          "i": 4109,
          "loss": 209.0609893798828
         },
         {
          "i": 4110,
          "loss": 209.05601501464844
         },
         {
          "i": 4111,
          "loss": 209.05099487304688
         },
         {
          "i": 4112,
          "loss": 209.0459747314453
         },
         {
          "i": 4113,
          "loss": 209.0409698486328
         },
         {
          "i": 4114,
          "loss": 209.03594970703125
         },
         {
          "i": 4115,
          "loss": 209.03099060058594
         },
         {
          "i": 4116,
          "loss": 209.0259552001953
         },
         {
          "i": 4117,
          "loss": 209.0209503173828
         },
         {
          "i": 4118,
          "loss": 209.01597595214844
         },
         {
          "i": 4119,
          "loss": 209.01095581054688
         },
         {
          "i": 4120,
          "loss": 209.00599670410156
         },
         {
          "i": 4121,
          "loss": 209.0009307861328
         },
         {
          "i": 4122,
          "loss": 208.99595642089844
         },
         {
          "i": 4123,
          "loss": 208.99098205566406
         },
         {
          "i": 4124,
          "loss": 208.98599243164062
         },
         {
          "i": 4125,
          "loss": 208.98101806640625
         },
         {
          "i": 4126,
          "loss": 208.97601318359375
         },
         {
          "i": 4127,
          "loss": 208.9709930419922
         },
         {
          "i": 4128,
          "loss": 208.96604919433594
         },
         {
          "i": 4129,
          "loss": 208.9610595703125
         },
         {
          "i": 4130,
          "loss": 208.95606994628906
         },
         {
          "i": 4131,
          "loss": 208.95111083984375
         },
         {
          "i": 4132,
          "loss": 208.94613647460938
         },
         {
          "i": 4133,
          "loss": 208.94117736816406
         },
         {
          "i": 4134,
          "loss": 208.93618774414062
         },
         {
          "i": 4135,
          "loss": 208.9312286376953
         },
         {
          "i": 4136,
          "loss": 208.92626953125
         },
         {
          "i": 4137,
          "loss": 208.92129516601562
         },
         {
          "i": 4138,
          "loss": 208.91632080078125
         },
         {
          "i": 4139,
          "loss": 208.91136169433594
         },
         {
          "i": 4140,
          "loss": 208.90640258789062
         },
         {
          "i": 4141,
          "loss": 208.9014434814453
         },
         {
          "i": 4142,
          "loss": 208.896484375
         },
         {
          "i": 4143,
          "loss": 208.89154052734375
         },
         {
          "i": 4144,
          "loss": 208.88656616210938
         },
         {
          "i": 4145,
          "loss": 208.8816375732422
         },
         {
          "i": 4146,
          "loss": 208.87667846679688
         },
         {
          "i": 4147,
          "loss": 208.8717041015625
         },
         {
          "i": 4148,
          "loss": 208.8667755126953
         },
         {
          "i": 4149,
          "loss": 208.86181640625
         },
         {
          "i": 4150,
          "loss": 208.85687255859375
         },
         {
          "i": 4151,
          "loss": 208.85195922851562
         },
         {
          "i": 4152,
          "loss": 208.84698486328125
         },
         {
          "i": 4153,
          "loss": 208.84205627441406
         },
         {
          "i": 4154,
          "loss": 208.8371124267578
         },
         {
          "i": 4155,
          "loss": 208.83216857910156
         },
         {
          "i": 4156,
          "loss": 208.8272247314453
         },
         {
          "i": 4157,
          "loss": 208.8223114013672
         },
         {
          "i": 4158,
          "loss": 208.81736755371094
         },
         {
          "i": 4159,
          "loss": 208.81240844726562
         },
         {
          "i": 4160,
          "loss": 208.80747985839844
         },
         {
          "i": 4161,
          "loss": 208.80255126953125
         },
         {
          "i": 4162,
          "loss": 208.79763793945312
         },
         {
          "i": 4163,
          "loss": 208.79269409179688
         },
         {
          "i": 4164,
          "loss": 208.78778076171875
         },
         {
          "i": 4165,
          "loss": 208.78285217285156
         },
         {
          "i": 4166,
          "loss": 208.7779083251953
         },
         {
          "i": 4167,
          "loss": 208.77296447753906
         },
         {
          "i": 4168,
          "loss": 208.76806640625
         },
         {
          "i": 4169,
          "loss": 208.7631378173828
         },
         {
          "i": 4170,
          "loss": 208.7582244873047
         },
         {
          "i": 4171,
          "loss": 208.75332641601562
         },
         {
          "i": 4172,
          "loss": 208.74838256835938
         },
         {
          "i": 4173,
          "loss": 208.74346923828125
         },
         {
          "i": 4174,
          "loss": 208.73855590820312
         },
         {
          "i": 4175,
          "loss": 208.73362731933594
         },
         {
          "i": 4176,
          "loss": 208.72872924804688
         },
         {
          "i": 4177,
          "loss": 208.7238311767578
         },
         {
          "i": 4178,
          "loss": 208.71893310546875
         },
         {
          "i": 4179,
          "loss": 208.71401977539062
         },
         {
          "i": 4180,
          "loss": 208.70907592773438
         },
         {
          "i": 4181,
          "loss": 208.7041778564453
         },
         {
          "i": 4182,
          "loss": 208.69927978515625
         },
         {
          "i": 4183,
          "loss": 208.69439697265625
         },
         {
          "i": 4184,
          "loss": 208.68946838378906
         },
         {
          "i": 4185,
          "loss": 208.6845703125
         },
         {
          "i": 4186,
          "loss": 208.67967224121094
         },
         {
          "i": 4187,
          "loss": 208.6748046875
         },
         {
          "i": 4188,
          "loss": 208.66990661621094
         },
         {
          "i": 4189,
          "loss": 208.66497802734375
         },
         {
          "i": 4190,
          "loss": 208.6601104736328
         },
         {
          "i": 4191,
          "loss": 208.65521240234375
         },
         {
          "i": 4192,
          "loss": 208.6503143310547
         },
         {
          "i": 4193,
          "loss": 208.6454315185547
         },
         {
          "i": 4194,
          "loss": 208.64053344726562
         },
         {
          "i": 4195,
          "loss": 208.63565063476562
         },
         {
          "i": 4196,
          "loss": 208.6307373046875
         },
         {
          "i": 4197,
          "loss": 208.62588500976562
         },
         {
          "i": 4198,
          "loss": 208.6209716796875
         },
         {
          "i": 4199,
          "loss": 208.61611938476562
         },
         {
          "i": 4200,
          "loss": 208.6112518310547
         },
         {
          "i": 4201,
          "loss": 208.60635375976562
         },
         {
          "i": 4202,
          "loss": 208.60150146484375
         },
         {
          "i": 4203,
          "loss": 208.59661865234375
         },
         {
          "i": 4204,
          "loss": 208.5917510986328
         },
         {
          "i": 4205,
          "loss": 208.58685302734375
         },
         {
          "i": 4206,
          "loss": 208.58201599121094
         },
         {
          "i": 4207,
          "loss": 208.5771484375
         },
         {
          "i": 4208,
          "loss": 208.57228088378906
         },
         {
          "i": 4209,
          "loss": 208.56739807128906
         },
         {
          "i": 4210,
          "loss": 208.56256103515625
         },
         {
          "i": 4211,
          "loss": 208.55770874023438
         },
         {
          "i": 4212,
          "loss": 208.5528564453125
         },
         {
          "i": 4213,
          "loss": 208.54798889160156
         },
         {
          "i": 4214,
          "loss": 208.54312133789062
         },
         {
          "i": 4215,
          "loss": 208.53826904296875
         },
         {
          "i": 4216,
          "loss": 208.53338623046875
         },
         {
          "i": 4217,
          "loss": 208.52853393554688
         },
         {
          "i": 4218,
          "loss": 208.52371215820312
         },
         {
          "i": 4219,
          "loss": 208.5188446044922
         },
         {
          "i": 4220,
          "loss": 208.51400756835938
         },
         {
          "i": 4221,
          "loss": 208.50918579101562
         },
         {
          "i": 4222,
          "loss": 208.5043182373047
         },
         {
          "i": 4223,
          "loss": 208.4994659423828
         },
         {
          "i": 4224,
          "loss": 208.49462890625
         },
         {
          "i": 4225,
          "loss": 208.4897918701172
         },
         {
          "i": 4226,
          "loss": 208.4849395751953
         },
         {
          "i": 4227,
          "loss": 208.48011779785156
         },
         {
          "i": 4228,
          "loss": 208.47528076171875
         },
         {
          "i": 4229,
          "loss": 208.47047424316406
         },
         {
          "i": 4230,
          "loss": 208.46560668945312
         },
         {
          "i": 4231,
          "loss": 208.46078491210938
         },
         {
          "i": 4232,
          "loss": 208.45591735839844
         },
         {
          "i": 4233,
          "loss": 208.4511260986328
         },
         {
          "i": 4234,
          "loss": 208.4462890625
         },
         {
          "i": 4235,
          "loss": 208.4414825439453
         },
         {
          "i": 4236,
          "loss": 208.4366455078125
         },
         {
          "i": 4237,
          "loss": 208.4318389892578
         },
         {
          "i": 4238,
          "loss": 208.42698669433594
         },
         {
          "i": 4239,
          "loss": 208.42222595214844
         },
         {
          "i": 4240,
          "loss": 208.41738891601562
         },
         {
          "i": 4241,
          "loss": 208.41258239746094
         },
         {
          "i": 4242,
          "loss": 208.4077606201172
         },
         {
          "i": 4243,
          "loss": 208.40292358398438
         },
         {
          "i": 4244,
          "loss": 208.39813232421875
         },
         {
          "i": 4245,
          "loss": 208.39329528808594
         },
         {
          "i": 4246,
          "loss": 208.38851928710938
         },
         {
          "i": 4247,
          "loss": 208.3837127685547
         },
         {
          "i": 4248,
          "loss": 208.37889099121094
         },
         {
          "i": 4249,
          "loss": 208.37408447265625
         },
         {
          "i": 4250,
          "loss": 208.3692626953125
         },
         {
          "i": 4251,
          "loss": 208.36447143554688
         },
         {
          "i": 4252,
          "loss": 208.35971069335938
         },
         {
          "i": 4253,
          "loss": 208.3548583984375
         },
         {
          "i": 4254,
          "loss": 208.35009765625
         },
         {
          "i": 4255,
          "loss": 208.3452606201172
         },
         {
          "i": 4256,
          "loss": 208.34048461914062
         },
         {
          "i": 4257,
          "loss": 208.33567810058594
         },
         {
          "i": 4258,
          "loss": 208.33090209960938
         },
         {
          "i": 4259,
          "loss": 208.3260955810547
         },
         {
          "i": 4260,
          "loss": 208.3212890625
         },
         {
          "i": 4261,
          "loss": 208.31649780273438
         },
         {
          "i": 4262,
          "loss": 208.3117218017578
         },
         {
          "i": 4263,
          "loss": 208.30694580078125
         },
         {
          "i": 4264,
          "loss": 208.30215454101562
         },
         {
          "i": 4265,
          "loss": 208.29737854003906
         },
         {
          "i": 4266,
          "loss": 208.2926025390625
         },
         {
          "i": 4267,
          "loss": 208.28781127929688
         },
         {
          "i": 4268,
          "loss": 208.28302001953125
         },
         {
          "i": 4269,
          "loss": 208.27825927734375
         },
         {
          "i": 4270,
          "loss": 208.27345275878906
         },
         {
          "i": 4271,
          "loss": 208.26869201660156
         },
         {
          "i": 4272,
          "loss": 208.26393127441406
         },
         {
          "i": 4273,
          "loss": 208.2591552734375
         },
         {
          "i": 4274,
          "loss": 208.25437927246094
         },
         {
          "i": 4275,
          "loss": 208.2495880126953
         },
         {
          "i": 4276,
          "loss": 208.2448272705078
         },
         {
          "i": 4277,
          "loss": 208.24005126953125
         },
         {
          "i": 4278,
          "loss": 208.23529052734375
         },
         {
          "i": 4279,
          "loss": 208.23052978515625
         },
         {
          "i": 4280,
          "loss": 208.22573852539062
         },
         {
          "i": 4281,
          "loss": 208.2209930419922
         },
         {
          "i": 4282,
          "loss": 208.2162322998047
         },
         {
          "i": 4283,
          "loss": 208.2115020751953
         },
         {
          "i": 4284,
          "loss": 208.20669555664062
         },
         {
          "i": 4285,
          "loss": 208.2019500732422
         },
         {
          "i": 4286,
          "loss": 208.19720458984375
         },
         {
          "i": 4287,
          "loss": 208.19244384765625
         },
         {
          "i": 4288,
          "loss": 208.1876983642578
         },
         {
          "i": 4289,
          "loss": 208.18295288085938
         },
         {
          "i": 4290,
          "loss": 208.1781768798828
         },
         {
          "i": 4291,
          "loss": 208.1734161376953
         },
         {
          "i": 4292,
          "loss": 208.16867065429688
         },
         {
          "i": 4293,
          "loss": 208.1639404296875
         },
         {
          "i": 4294,
          "loss": 208.1592254638672
         },
         {
          "i": 4295,
          "loss": 208.15444946289062
         },
         {
          "i": 4296,
          "loss": 208.14971923828125
         },
         {
          "i": 4297,
          "loss": 208.14495849609375
         },
         {
          "i": 4298,
          "loss": 208.1402130126953
         },
         {
          "i": 4299,
          "loss": 208.13548278808594
         },
         {
          "i": 4300,
          "loss": 208.1307373046875
         },
         {
          "i": 4301,
          "loss": 208.1260223388672
         },
         {
          "i": 4302,
          "loss": 208.1212921142578
         },
         {
          "i": 4303,
          "loss": 208.11656188964844
         },
         {
          "i": 4304,
          "loss": 208.11181640625
         },
         {
          "i": 4305,
          "loss": 208.10708618164062
         },
         {
          "i": 4306,
          "loss": 208.10235595703125
         },
         {
          "i": 4307,
          "loss": 208.09765625
         },
         {
          "i": 4308,
          "loss": 208.09291076660156
         },
         {
          "i": 4309,
          "loss": 208.08819580078125
         },
         {
          "i": 4310,
          "loss": 208.08348083496094
         },
         {
          "i": 4311,
          "loss": 208.07875061035156
         },
         {
          "i": 4312,
          "loss": 208.07403564453125
         },
         {
          "i": 4313,
          "loss": 208.0693359375
         },
         {
          "i": 4314,
          "loss": 208.06463623046875
         },
         {
          "i": 4315,
          "loss": 208.05990600585938
         },
         {
          "i": 4316,
          "loss": 208.05517578125
         },
         {
          "i": 4317,
          "loss": 208.05044555664062
         },
         {
          "i": 4318,
          "loss": 208.04571533203125
         },
         {
          "i": 4319,
          "loss": 208.04103088378906
         },
         {
          "i": 4320,
          "loss": 208.0363311767578
         },
         {
          "i": 4321,
          "loss": 208.0316162109375
         },
         {
          "i": 4322,
          "loss": 208.0269012451172
         },
         {
          "i": 4323,
          "loss": 208.02220153808594
         },
         {
          "i": 4324,
          "loss": 208.01751708984375
         },
         {
          "i": 4325,
          "loss": 208.01278686523438
         },
         {
          "i": 4326,
          "loss": 208.00808715820312
         },
         {
          "i": 4327,
          "loss": 208.00340270996094
         },
         {
          "i": 4328,
          "loss": 207.99871826171875
         },
         {
          "i": 4329,
          "loss": 207.99398803710938
         },
         {
          "i": 4330,
          "loss": 207.98931884765625
         },
         {
          "i": 4331,
          "loss": 207.98460388183594
         },
         {
          "i": 4332,
          "loss": 207.97991943359375
         },
         {
          "i": 4333,
          "loss": 207.9752197265625
         },
         {
          "i": 4334,
          "loss": 207.97055053710938
         },
         {
          "i": 4335,
          "loss": 207.9658660888672
         },
         {
          "i": 4336,
          "loss": 207.96119689941406
         },
         {
          "i": 4337,
          "loss": 207.9564971923828
         },
         {
          "i": 4338,
          "loss": 207.9517822265625
         },
         {
          "i": 4339,
          "loss": 207.94708251953125
         },
         {
          "i": 4340,
          "loss": 207.9424285888672
         },
         {
          "i": 4341,
          "loss": 207.93771362304688
         },
         {
          "i": 4342,
          "loss": 207.9330596923828
         },
         {
          "i": 4343,
          "loss": 207.92835998535156
         },
         {
          "i": 4344,
          "loss": 207.92369079589844
         },
         {
          "i": 4345,
          "loss": 207.9190216064453
         },
         {
          "i": 4346,
          "loss": 207.91433715820312
         },
         {
          "i": 4347,
          "loss": 207.90966796875
         },
         {
          "i": 4348,
          "loss": 207.9049835205078
         },
         {
          "i": 4349,
          "loss": 207.90032958984375
         },
         {
          "i": 4350,
          "loss": 207.89566040039062
         },
         {
          "i": 4351,
          "loss": 207.8909912109375
         },
         {
          "i": 4352,
          "loss": 207.8863067626953
         },
         {
          "i": 4353,
          "loss": 207.88165283203125
         },
         {
          "i": 4354,
          "loss": 207.8769989013672
         },
         {
          "i": 4355,
          "loss": 207.87232971191406
         },
         {
          "i": 4356,
          "loss": 207.86766052246094
         },
         {
          "i": 4357,
          "loss": 207.8629913330078
         },
         {
          "i": 4358,
          "loss": 207.85833740234375
         },
         {
          "i": 4359,
          "loss": 207.85369873046875
         },
         {
          "i": 4360,
          "loss": 207.84902954101562
         },
         {
          "i": 4361,
          "loss": 207.84437561035156
         },
         {
          "i": 4362,
          "loss": 207.83970642089844
         },
         {
          "i": 4363,
          "loss": 207.8350830078125
         },
         {
          "i": 4364,
          "loss": 207.83041381835938
         },
         {
          "i": 4365,
          "loss": 207.82577514648438
         },
         {
          "i": 4366,
          "loss": 207.82113647460938
         },
         {
          "i": 4367,
          "loss": 207.81646728515625
         },
         {
          "i": 4368,
          "loss": 207.8118133544922
         },
         {
          "i": 4369,
          "loss": 207.8071746826172
         },
         {
          "i": 4370,
          "loss": 207.80252075195312
         },
         {
          "i": 4371,
          "loss": 207.7978973388672
         },
         {
          "i": 4372,
          "loss": 207.79324340820312
         },
         {
          "i": 4373,
          "loss": 207.7886199951172
         },
         {
          "i": 4374,
          "loss": 207.7839813232422
         },
         {
          "i": 4375,
          "loss": 207.7793426513672
         },
         {
          "i": 4376,
          "loss": 207.77468872070312
         },
         {
          "i": 4377,
          "loss": 207.77008056640625
         },
         {
          "i": 4378,
          "loss": 207.76541137695312
         },
         {
          "i": 4379,
          "loss": 207.7607879638672
         },
         {
          "i": 4380,
          "loss": 207.75616455078125
         },
         {
          "i": 4381,
          "loss": 207.75152587890625
         },
         {
          "i": 4382,
          "loss": 207.74688720703125
         },
         {
          "i": 4383,
          "loss": 207.7422637939453
         },
         {
          "i": 4384,
          "loss": 207.73764038085938
         },
         {
          "i": 4385,
          "loss": 207.73300170898438
         },
         {
          "i": 4386,
          "loss": 207.72837829589844
         },
         {
          "i": 4387,
          "loss": 207.72377014160156
         },
         {
          "i": 4388,
          "loss": 207.71914672851562
         },
         {
          "i": 4389,
          "loss": 207.71450805664062
         },
         {
          "i": 4390,
          "loss": 207.70989990234375
         },
         {
          "i": 4391,
          "loss": 207.70529174804688
         },
         {
          "i": 4392,
          "loss": 207.7006378173828
         },
         {
          "i": 4393,
          "loss": 207.69602966308594
         },
         {
          "i": 4394,
          "loss": 207.69142150878906
         },
         {
          "i": 4395,
          "loss": 207.6868133544922
         },
         {
          "i": 4396,
          "loss": 207.6822052001953
         },
         {
          "i": 4397,
          "loss": 207.67764282226562
         },
         {
          "i": 4398,
          "loss": 207.67298889160156
         },
         {
          "i": 4399,
          "loss": 207.6683807373047
         },
         {
          "i": 4400,
          "loss": 207.6637725830078
         },
         {
          "i": 4401,
          "loss": 207.6591796875
         },
         {
          "i": 4402,
          "loss": 207.65457153320312
         },
         {
          "i": 4403,
          "loss": 207.6499481201172
         },
         {
          "i": 4404,
          "loss": 207.64537048339844
         },
         {
          "i": 4405,
          "loss": 207.64071655273438
         },
         {
          "i": 4406,
          "loss": 207.63613891601562
         },
         {
          "i": 4407,
          "loss": 207.6315460205078
         },
         {
          "i": 4408,
          "loss": 207.62693786621094
         },
         {
          "i": 4409,
          "loss": 207.6223602294922
         },
         {
          "i": 4410,
          "loss": 207.6177520751953
         },
         {
          "i": 4411,
          "loss": 207.61314392089844
         },
         {
          "i": 4412,
          "loss": 207.60858154296875
         },
         {
          "i": 4413,
          "loss": 207.6039581298828
         },
         {
          "i": 4414,
          "loss": 207.59934997558594
         },
         {
          "i": 4415,
          "loss": 207.59478759765625
         },
         {
          "i": 4416,
          "loss": 207.59019470214844
         },
         {
          "i": 4417,
          "loss": 207.58560180664062
         },
         {
          "i": 4418,
          "loss": 207.58099365234375
         },
         {
          "i": 4419,
          "loss": 207.57640075683594
         },
         {
          "i": 4420,
          "loss": 207.57183837890625
         },
         {
          "i": 4421,
          "loss": 207.5672607421875
         },
         {
          "i": 4422,
          "loss": 207.56268310546875
         },
         {
          "i": 4423,
          "loss": 207.55809020996094
         },
         {
          "i": 4424,
          "loss": 207.55349731445312
         },
         {
          "i": 4425,
          "loss": 207.5489044189453
         },
         {
          "i": 4426,
          "loss": 207.54434204101562
         },
         {
          "i": 4427,
          "loss": 207.5397491455078
         },
         {
          "i": 4428,
          "loss": 207.53517150878906
         },
         {
          "i": 4429,
          "loss": 207.53060913085938
         },
         {
          "i": 4430,
          "loss": 207.52601623535156
         },
         {
          "i": 4431,
          "loss": 207.5214385986328
         },
         {
          "i": 4432,
          "loss": 207.51686096191406
         },
         {
          "i": 4433,
          "loss": 207.5122833251953
         },
         {
          "i": 4434,
          "loss": 207.5076904296875
         },
         {
          "i": 4435,
          "loss": 207.50314331054688
         },
         {
          "i": 4436,
          "loss": 207.49859619140625
         },
         {
          "i": 4437,
          "loss": 207.49400329589844
         },
         {
          "i": 4438,
          "loss": 207.48947143554688
         },
         {
          "i": 4439,
          "loss": 207.48487854003906
         },
         {
          "i": 4440,
          "loss": 207.48033142089844
         },
         {
          "i": 4441,
          "loss": 207.47576904296875
         },
         {
          "i": 4442,
          "loss": 207.47119140625
         },
         {
          "i": 4443,
          "loss": 207.46661376953125
         },
         {
          "i": 4444,
          "loss": 207.46206665039062
         },
         {
          "i": 4445,
          "loss": 207.45751953125
         },
         {
          "i": 4446,
          "loss": 207.45294189453125
         },
         {
          "i": 4447,
          "loss": 207.44842529296875
         },
         {
          "i": 4448,
          "loss": 207.44384765625
         },
         {
          "i": 4449,
          "loss": 207.43930053710938
         },
         {
          "i": 4450,
          "loss": 207.43472290039062
         },
         {
          "i": 4451,
          "loss": 207.43017578125
         },
         {
          "i": 4452,
          "loss": 207.42559814453125
         },
         {
          "i": 4453,
          "loss": 207.42108154296875
         },
         {
          "i": 4454,
          "loss": 207.41651916503906
         },
         {
          "i": 4455,
          "loss": 207.41197204589844
         },
         {
          "i": 4456,
          "loss": 207.40745544433594
         },
         {
          "i": 4457,
          "loss": 207.4029083251953
         },
         {
          "i": 4458,
          "loss": 207.3983612060547
         },
         {
          "i": 4459,
          "loss": 207.39378356933594
         },
         {
          "i": 4460,
          "loss": 207.3892822265625
         },
         {
          "i": 4461,
          "loss": 207.38475036621094
         },
         {
          "i": 4462,
          "loss": 207.38018798828125
         },
         {
          "i": 4463,
          "loss": 207.37567138671875
         },
         {
          "i": 4464,
          "loss": 207.37115478515625
         },
         {
          "i": 4465,
          "loss": 207.36660766601562
         },
         {
          "i": 4466,
          "loss": 207.36209106445312
         },
         {
          "i": 4467,
          "loss": 207.35755920410156
         },
         {
          "i": 4468,
          "loss": 207.35301208496094
         },
         {
          "i": 4469,
          "loss": 207.34849548339844
         },
         {
          "i": 4470,
          "loss": 207.34396362304688
         },
         {
          "i": 4471,
          "loss": 207.3394317626953
         },
         {
          "i": 4472,
          "loss": 207.33489990234375
         },
         {
          "i": 4473,
          "loss": 207.33041381835938
         },
         {
          "i": 4474,
          "loss": 207.32589721679688
         },
         {
          "i": 4475,
          "loss": 207.3213653564453
         },
         {
          "i": 4476,
          "loss": 207.31687927246094
         },
         {
          "i": 4477,
          "loss": 207.31234741210938
         },
         {
          "i": 4478,
          "loss": 207.30783081054688
         },
         {
          "i": 4479,
          "loss": 207.3032989501953
         },
         {
          "i": 4480,
          "loss": 207.2987823486328
         },
         {
          "i": 4481,
          "loss": 207.29429626464844
         },
         {
          "i": 4482,
          "loss": 207.28977966308594
         },
         {
          "i": 4483,
          "loss": 207.28524780273438
         },
         {
          "i": 4484,
          "loss": 207.28076171875
         },
         {
          "i": 4485,
          "loss": 207.27622985839844
         },
         {
          "i": 4486,
          "loss": 207.27174377441406
         },
         {
          "i": 4487,
          "loss": 207.26722717285156
         },
         {
          "i": 4488,
          "loss": 207.26271057128906
         },
         {
          "i": 4489,
          "loss": 207.2582244873047
         },
         {
          "i": 4490,
          "loss": 207.25372314453125
         },
         {
          "i": 4491,
          "loss": 207.2492218017578
         },
         {
          "i": 4492,
          "loss": 207.24472045898438
         },
         {
          "i": 4493,
          "loss": 207.24021911621094
         },
         {
          "i": 4494,
          "loss": 207.23574829101562
         },
         {
          "i": 4495,
          "loss": 207.23123168945312
         },
         {
          "i": 4496,
          "loss": 207.2267608642578
         },
         {
          "i": 4497,
          "loss": 207.2222900390625
         },
         {
          "i": 4498,
          "loss": 207.21775817871094
         },
         {
          "i": 4499,
          "loss": 207.2133026123047
         },
         {
          "i": 4500,
          "loss": 207.2087860107422
         },
         {
          "i": 4501,
          "loss": 207.20431518554688
         },
         {
          "i": 4502,
          "loss": 207.1998291015625
         },
         {
          "i": 4503,
          "loss": 207.1953582763672
         },
         {
          "i": 4504,
          "loss": 207.19085693359375
         },
         {
          "i": 4505,
          "loss": 207.18637084960938
         },
         {
          "i": 4506,
          "loss": 207.18190002441406
         },
         {
          "i": 4507,
          "loss": 207.17739868164062
         },
         {
          "i": 4508,
          "loss": 207.17294311523438
         },
         {
          "i": 4509,
          "loss": 207.16845703125
         },
         {
          "i": 4510,
          "loss": 207.1683349609375
         },
         {
          "i": 4511,
          "loss": 207.1683349609375
         },
         {
          "i": 4512,
          "loss": 207.1683349609375
         },
         {
          "i": 4513,
          "loss": 207.1683349609375
         },
         {
          "i": 4514,
          "loss": 207.1683349609375
         },
         {
          "i": 4515,
          "loss": 207.1683349609375
         },
         {
          "i": 4516,
          "loss": 207.1683349609375
         },
         {
          "i": 4517,
          "loss": 207.1683349609375
         },
         {
          "i": 4518,
          "loss": 207.1683349609375
         },
         {
          "i": 4519,
          "loss": 207.1683349609375
         },
         {
          "i": 4520,
          "loss": 207.1683349609375
         },
         {
          "i": 4521,
          "loss": 207.1683349609375
         },
         {
          "i": 4522,
          "loss": 207.1683349609375
         },
         {
          "i": 4523,
          "loss": 207.1683349609375
         },
         {
          "i": 4524,
          "loss": 207.1683349609375
         },
         {
          "i": 4525,
          "loss": 207.1683349609375
         },
         {
          "i": 4526,
          "loss": 207.1683349609375
         },
         {
          "i": 4527,
          "loss": 207.1683349609375
         },
         {
          "i": 4528,
          "loss": 207.1683349609375
         },
         {
          "i": 4529,
          "loss": 207.1683349609375
         },
         {
          "i": 4530,
          "loss": 207.1683349609375
         },
         {
          "i": 4531,
          "loss": 207.1683349609375
         },
         {
          "i": 4532,
          "loss": 207.1683349609375
         },
         {
          "i": 4533,
          "loss": 207.1683349609375
         },
         {
          "i": 4534,
          "loss": 207.1683349609375
         },
         {
          "i": 4535,
          "loss": 207.1683349609375
         },
         {
          "i": 4536,
          "loss": 207.1683349609375
         },
         {
          "i": 4537,
          "loss": 207.1683349609375
         },
         {
          "i": 4538,
          "loss": 207.1683349609375
         },
         {
          "i": 4539,
          "loss": 207.1683349609375
         },
         {
          "i": 4540,
          "loss": 207.1683349609375
         },
         {
          "i": 4541,
          "loss": 207.1683349609375
         },
         {
          "i": 4542,
          "loss": 207.1683349609375
         },
         {
          "i": 4543,
          "loss": 207.1683349609375
         },
         {
          "i": 4544,
          "loss": 207.1683349609375
         },
         {
          "i": 4545,
          "loss": 207.1683349609375
         },
         {
          "i": 4546,
          "loss": 207.1683349609375
         },
         {
          "i": 4547,
          "loss": 207.1683349609375
         },
         {
          "i": 4548,
          "loss": 207.1683349609375
         },
         {
          "i": 4549,
          "loss": 207.1683349609375
         },
         {
          "i": 4550,
          "loss": 207.1683349609375
         },
         {
          "i": 4551,
          "loss": 207.1683349609375
         },
         {
          "i": 4552,
          "loss": 207.1683349609375
         },
         {
          "i": 4553,
          "loss": 207.1683349609375
         },
         {
          "i": 4554,
          "loss": 207.1683349609375
         },
         {
          "i": 4555,
          "loss": 207.1683349609375
         },
         {
          "i": 4556,
          "loss": 207.1683349609375
         },
         {
          "i": 4557,
          "loss": 207.1683349609375
         },
         {
          "i": 4558,
          "loss": 207.1683349609375
         },
         {
          "i": 4559,
          "loss": 207.1683349609375
         },
         {
          "i": 4560,
          "loss": 207.1683349609375
         },
         {
          "i": 4561,
          "loss": 207.1683349609375
         },
         {
          "i": 4562,
          "loss": 207.1683349609375
         },
         {
          "i": 4563,
          "loss": 207.1683349609375
         },
         {
          "i": 4564,
          "loss": 207.1683349609375
         },
         {
          "i": 4565,
          "loss": 207.1683349609375
         },
         {
          "i": 4566,
          "loss": 207.1683349609375
         },
         {
          "i": 4567,
          "loss": 207.1683349609375
         },
         {
          "i": 4568,
          "loss": 207.1683349609375
         },
         {
          "i": 4569,
          "loss": 207.1683349609375
         },
         {
          "i": 4570,
          "loss": 207.1683349609375
         },
         {
          "i": 4571,
          "loss": 207.1683349609375
         },
         {
          "i": 4572,
          "loss": 207.1683349609375
         },
         {
          "i": 4573,
          "loss": 207.1683349609375
         },
         {
          "i": 4574,
          "loss": 207.1683349609375
         },
         {
          "i": 4575,
          "loss": 207.1683349609375
         },
         {
          "i": 4576,
          "loss": 207.1683349609375
         },
         {
          "i": 4577,
          "loss": 207.1683349609375
         },
         {
          "i": 4578,
          "loss": 207.1683349609375
         },
         {
          "i": 4579,
          "loss": 207.1683349609375
         },
         {
          "i": 4580,
          "loss": 207.1683349609375
         },
         {
          "i": 4581,
          "loss": 207.1683349609375
         },
         {
          "i": 4582,
          "loss": 207.1683349609375
         },
         {
          "i": 4583,
          "loss": 207.1683349609375
         },
         {
          "i": 4584,
          "loss": 207.1683349609375
         },
         {
          "i": 4585,
          "loss": 207.1683349609375
         },
         {
          "i": 4586,
          "loss": 207.1683349609375
         },
         {
          "i": 4587,
          "loss": 207.1683349609375
         },
         {
          "i": 4588,
          "loss": 207.1683349609375
         },
         {
          "i": 4589,
          "loss": 207.1683349609375
         },
         {
          "i": 4590,
          "loss": 207.1683349609375
         },
         {
          "i": 4591,
          "loss": 207.1683349609375
         },
         {
          "i": 4592,
          "loss": 207.1683349609375
         },
         {
          "i": 4593,
          "loss": 207.1683349609375
         },
         {
          "i": 4594,
          "loss": 207.1683349609375
         },
         {
          "i": 4595,
          "loss": 207.1683349609375
         },
         {
          "i": 4596,
          "loss": 207.1683349609375
         },
         {
          "i": 4597,
          "loss": 207.1683349609375
         },
         {
          "i": 4598,
          "loss": 207.1683349609375
         },
         {
          "i": 4599,
          "loss": 207.1683349609375
         },
         {
          "i": 4600,
          "loss": 207.1683349609375
         },
         {
          "i": 4601,
          "loss": 207.1683349609375
         },
         {
          "i": 4602,
          "loss": 207.1683349609375
         },
         {
          "i": 4603,
          "loss": 207.1683349609375
         },
         {
          "i": 4604,
          "loss": 207.1683349609375
         },
         {
          "i": 4605,
          "loss": 207.1683349609375
         },
         {
          "i": 4606,
          "loss": 207.1683349609375
         },
         {
          "i": 4607,
          "loss": 207.1683349609375
         },
         {
          "i": 4608,
          "loss": 207.1683349609375
         },
         {
          "i": 4609,
          "loss": 207.1683349609375
         },
         {
          "i": 4610,
          "loss": 207.1683349609375
         },
         {
          "i": 4611,
          "loss": 207.1683349609375
         },
         {
          "i": 4612,
          "loss": 207.1683349609375
         },
         {
          "i": 4613,
          "loss": 207.1683349609375
         },
         {
          "i": 4614,
          "loss": 207.1683349609375
         },
         {
          "i": 4615,
          "loss": 207.1683349609375
         },
         {
          "i": 4616,
          "loss": 207.1683349609375
         },
         {
          "i": 4617,
          "loss": 207.1683349609375
         },
         {
          "i": 4618,
          "loss": 207.1683349609375
         },
         {
          "i": 4619,
          "loss": 207.1683349609375
         },
         {
          "i": 4620,
          "loss": 207.1683349609375
         },
         {
          "i": 4621,
          "loss": 207.1683349609375
         },
         {
          "i": 4622,
          "loss": 207.1683349609375
         },
         {
          "i": 4623,
          "loss": 207.1683349609375
         },
         {
          "i": 4624,
          "loss": 207.1683349609375
         },
         {
          "i": 4625,
          "loss": 207.1683349609375
         },
         {
          "i": 4626,
          "loss": 207.1683349609375
         },
         {
          "i": 4627,
          "loss": 207.1683349609375
         },
         {
          "i": 4628,
          "loss": 207.1683349609375
         },
         {
          "i": 4629,
          "loss": 207.1683349609375
         },
         {
          "i": 4630,
          "loss": 207.1683349609375
         },
         {
          "i": 4631,
          "loss": 207.1683349609375
         },
         {
          "i": 4632,
          "loss": 207.1683349609375
         },
         {
          "i": 4633,
          "loss": 207.1683349609375
         },
         {
          "i": 4634,
          "loss": 207.1683349609375
         },
         {
          "i": 4635,
          "loss": 207.1683349609375
         },
         {
          "i": 4636,
          "loss": 207.1683349609375
         },
         {
          "i": 4637,
          "loss": 207.1683349609375
         },
         {
          "i": 4638,
          "loss": 207.1683349609375
         },
         {
          "i": 4639,
          "loss": 207.1683349609375
         },
         {
          "i": 4640,
          "loss": 207.1683349609375
         },
         {
          "i": 4641,
          "loss": 207.1683349609375
         },
         {
          "i": 4642,
          "loss": 207.1683349609375
         },
         {
          "i": 4643,
          "loss": 207.1683349609375
         },
         {
          "i": 4644,
          "loss": 207.1683349609375
         },
         {
          "i": 4645,
          "loss": 207.1683349609375
         },
         {
          "i": 4646,
          "loss": 207.1683349609375
         },
         {
          "i": 4647,
          "loss": 207.1683349609375
         },
         {
          "i": 4648,
          "loss": 207.1683349609375
         },
         {
          "i": 4649,
          "loss": 207.1683349609375
         },
         {
          "i": 4650,
          "loss": 207.1683349609375
         },
         {
          "i": 4651,
          "loss": 207.1683349609375
         },
         {
          "i": 4652,
          "loss": 207.1683349609375
         },
         {
          "i": 4653,
          "loss": 207.1683349609375
         },
         {
          "i": 4654,
          "loss": 207.1683349609375
         },
         {
          "i": 4655,
          "loss": 207.1683349609375
         },
         {
          "i": 4656,
          "loss": 207.1683349609375
         },
         {
          "i": 4657,
          "loss": 207.1683349609375
         },
         {
          "i": 4658,
          "loss": 207.1683349609375
         },
         {
          "i": 4659,
          "loss": 207.1683349609375
         },
         {
          "i": 4660,
          "loss": 207.1683349609375
         },
         {
          "i": 4661,
          "loss": 207.1683349609375
         },
         {
          "i": 4662,
          "loss": 207.1683349609375
         },
         {
          "i": 4663,
          "loss": 207.1683349609375
         },
         {
          "i": 4664,
          "loss": 207.1683349609375
         },
         {
          "i": 4665,
          "loss": 207.1683349609375
         },
         {
          "i": 4666,
          "loss": 207.1683349609375
         },
         {
          "i": 4667,
          "loss": 207.1683349609375
         },
         {
          "i": 4668,
          "loss": 207.1683349609375
         },
         {
          "i": 4669,
          "loss": 207.1683349609375
         },
         {
          "i": 4670,
          "loss": 207.1683349609375
         },
         {
          "i": 4671,
          "loss": 207.1683349609375
         },
         {
          "i": 4672,
          "loss": 207.1683349609375
         },
         {
          "i": 4673,
          "loss": 207.1683349609375
         },
         {
          "i": 4674,
          "loss": 207.1683349609375
         },
         {
          "i": 4675,
          "loss": 207.1683349609375
         },
         {
          "i": 4676,
          "loss": 207.1683349609375
         },
         {
          "i": 4677,
          "loss": 207.1683349609375
         },
         {
          "i": 4678,
          "loss": 207.1683349609375
         },
         {
          "i": 4679,
          "loss": 207.1683349609375
         },
         {
          "i": 4680,
          "loss": 207.1683349609375
         },
         {
          "i": 4681,
          "loss": 207.1683349609375
         },
         {
          "i": 4682,
          "loss": 207.1683349609375
         },
         {
          "i": 4683,
          "loss": 207.1683349609375
         },
         {
          "i": 4684,
          "loss": 207.1683349609375
         },
         {
          "i": 4685,
          "loss": 207.1683349609375
         },
         {
          "i": 4686,
          "loss": 207.1683349609375
         },
         {
          "i": 4687,
          "loss": 207.1683349609375
         },
         {
          "i": 4688,
          "loss": 207.1683349609375
         },
         {
          "i": 4689,
          "loss": 207.1683349609375
         },
         {
          "i": 4690,
          "loss": 207.1683349609375
         },
         {
          "i": 4691,
          "loss": 207.1683349609375
         },
         {
          "i": 4692,
          "loss": 207.1683349609375
         },
         {
          "i": 4693,
          "loss": 207.1683349609375
         },
         {
          "i": 4694,
          "loss": 207.1683349609375
         },
         {
          "i": 4695,
          "loss": 207.1683349609375
         },
         {
          "i": 4696,
          "loss": 207.1683349609375
         },
         {
          "i": 4697,
          "loss": 207.1683349609375
         },
         {
          "i": 4698,
          "loss": 207.1683349609375
         },
         {
          "i": 4699,
          "loss": 207.1683349609375
         },
         {
          "i": 4700,
          "loss": 207.1683349609375
         },
         {
          "i": 4701,
          "loss": 207.1683349609375
         },
         {
          "i": 4702,
          "loss": 207.1683349609375
         },
         {
          "i": 4703,
          "loss": 207.1683349609375
         },
         {
          "i": 4704,
          "loss": 207.1683349609375
         },
         {
          "i": 4705,
          "loss": 207.1683349609375
         },
         {
          "i": 4706,
          "loss": 207.1683349609375
         },
         {
          "i": 4707,
          "loss": 207.1683349609375
         },
         {
          "i": 4708,
          "loss": 207.1683349609375
         },
         {
          "i": 4709,
          "loss": 207.1683349609375
         },
         {
          "i": 4710,
          "loss": 207.1683349609375
         },
         {
          "i": 4711,
          "loss": 207.1683349609375
         },
         {
          "i": 4712,
          "loss": 207.1683349609375
         },
         {
          "i": 4713,
          "loss": 207.1683349609375
         },
         {
          "i": 4714,
          "loss": 207.1683349609375
         },
         {
          "i": 4715,
          "loss": 207.1683349609375
         },
         {
          "i": 4716,
          "loss": 207.1683349609375
         },
         {
          "i": 4717,
          "loss": 207.1683349609375
         },
         {
          "i": 4718,
          "loss": 207.1683349609375
         },
         {
          "i": 4719,
          "loss": 207.1683349609375
         },
         {
          "i": 4720,
          "loss": 207.1683349609375
         },
         {
          "i": 4721,
          "loss": 207.1683349609375
         },
         {
          "i": 4722,
          "loss": 207.1683349609375
         },
         {
          "i": 4723,
          "loss": 207.1683349609375
         },
         {
          "i": 4724,
          "loss": 207.1683349609375
         },
         {
          "i": 4725,
          "loss": 207.1683349609375
         },
         {
          "i": 4726,
          "loss": 207.1683349609375
         },
         {
          "i": 4727,
          "loss": 207.1683349609375
         },
         {
          "i": 4728,
          "loss": 207.1683349609375
         },
         {
          "i": 4729,
          "loss": 207.1683349609375
         },
         {
          "i": 4730,
          "loss": 207.1683349609375
         },
         {
          "i": 4731,
          "loss": 207.1683349609375
         },
         {
          "i": 4732,
          "loss": 207.1683349609375
         },
         {
          "i": 4733,
          "loss": 207.1683349609375
         },
         {
          "i": 4734,
          "loss": 207.1683349609375
         },
         {
          "i": 4735,
          "loss": 207.1683349609375
         },
         {
          "i": 4736,
          "loss": 207.1683349609375
         },
         {
          "i": 4737,
          "loss": 207.1683349609375
         },
         {
          "i": 4738,
          "loss": 207.1683349609375
         },
         {
          "i": 4739,
          "loss": 207.1683349609375
         },
         {
          "i": 4740,
          "loss": 207.1683349609375
         },
         {
          "i": 4741,
          "loss": 207.1683349609375
         },
         {
          "i": 4742,
          "loss": 207.1683349609375
         },
         {
          "i": 4743,
          "loss": 207.1683349609375
         },
         {
          "i": 4744,
          "loss": 207.1683349609375
         },
         {
          "i": 4745,
          "loss": 207.1683349609375
         },
         {
          "i": 4746,
          "loss": 207.1683349609375
         },
         {
          "i": 4747,
          "loss": 207.1683349609375
         },
         {
          "i": 4748,
          "loss": 207.1683349609375
         },
         {
          "i": 4749,
          "loss": 207.1683349609375
         },
         {
          "i": 4750,
          "loss": 207.1683349609375
         },
         {
          "i": 4751,
          "loss": 207.1683349609375
         },
         {
          "i": 4752,
          "loss": 207.1683349609375
         },
         {
          "i": 4753,
          "loss": 207.1683349609375
         },
         {
          "i": 4754,
          "loss": 207.1683349609375
         },
         {
          "i": 4755,
          "loss": 207.1683349609375
         },
         {
          "i": 4756,
          "loss": 207.1683349609375
         },
         {
          "i": 4757,
          "loss": 207.1683349609375
         },
         {
          "i": 4758,
          "loss": 207.1683349609375
         },
         {
          "i": 4759,
          "loss": 207.1683349609375
         },
         {
          "i": 4760,
          "loss": 207.1683349609375
         },
         {
          "i": 4761,
          "loss": 207.1683349609375
         },
         {
          "i": 4762,
          "loss": 207.1683349609375
         },
         {
          "i": 4763,
          "loss": 207.1683349609375
         },
         {
          "i": 4764,
          "loss": 207.1683349609375
         },
         {
          "i": 4765,
          "loss": 207.1683349609375
         },
         {
          "i": 4766,
          "loss": 207.1683349609375
         },
         {
          "i": 4767,
          "loss": 207.1683349609375
         },
         {
          "i": 4768,
          "loss": 207.1683349609375
         },
         {
          "i": 4769,
          "loss": 207.1683349609375
         },
         {
          "i": 4770,
          "loss": 207.1683349609375
         },
         {
          "i": 4771,
          "loss": 207.1683349609375
         },
         {
          "i": 4772,
          "loss": 207.1683349609375
         },
         {
          "i": 4773,
          "loss": 207.1683349609375
         },
         {
          "i": 4774,
          "loss": 207.1683349609375
         },
         {
          "i": 4775,
          "loss": 207.1683349609375
         },
         {
          "i": 4776,
          "loss": 207.1683349609375
         },
         {
          "i": 4777,
          "loss": 207.1683349609375
         },
         {
          "i": 4778,
          "loss": 207.1683349609375
         },
         {
          "i": 4779,
          "loss": 207.1683349609375
         },
         {
          "i": 4780,
          "loss": 207.1683349609375
         },
         {
          "i": 4781,
          "loss": 207.1683349609375
         },
         {
          "i": 4782,
          "loss": 207.1683349609375
         },
         {
          "i": 4783,
          "loss": 207.1683349609375
         },
         {
          "i": 4784,
          "loss": 207.1683349609375
         },
         {
          "i": 4785,
          "loss": 207.1683349609375
         },
         {
          "i": 4786,
          "loss": 207.1683349609375
         },
         {
          "i": 4787,
          "loss": 207.1683349609375
         },
         {
          "i": 4788,
          "loss": 207.1683349609375
         },
         {
          "i": 4789,
          "loss": 207.1683349609375
         },
         {
          "i": 4790,
          "loss": 207.1683349609375
         },
         {
          "i": 4791,
          "loss": 207.1683349609375
         },
         {
          "i": 4792,
          "loss": 207.1683349609375
         },
         {
          "i": 4793,
          "loss": 207.1683349609375
         },
         {
          "i": 4794,
          "loss": 207.1683349609375
         },
         {
          "i": 4795,
          "loss": 207.1683349609375
         },
         {
          "i": 4796,
          "loss": 207.1683349609375
         },
         {
          "i": 4797,
          "loss": 207.1683349609375
         },
         {
          "i": 4798,
          "loss": 207.1683349609375
         },
         {
          "i": 4799,
          "loss": 207.1683349609375
         },
         {
          "i": 4800,
          "loss": 207.1683349609375
         },
         {
          "i": 4801,
          "loss": 207.1683349609375
         },
         {
          "i": 4802,
          "loss": 207.1683349609375
         },
         {
          "i": 4803,
          "loss": 207.1683349609375
         },
         {
          "i": 4804,
          "loss": 207.1683349609375
         },
         {
          "i": 4805,
          "loss": 207.1683349609375
         },
         {
          "i": 4806,
          "loss": 207.1683349609375
         },
         {
          "i": 4807,
          "loss": 207.1683349609375
         },
         {
          "i": 4808,
          "loss": 207.1683349609375
         },
         {
          "i": 4809,
          "loss": 207.1683349609375
         },
         {
          "i": 4810,
          "loss": 207.1683349609375
         },
         {
          "i": 4811,
          "loss": 207.1683349609375
         },
         {
          "i": 4812,
          "loss": 207.1683349609375
         },
         {
          "i": 4813,
          "loss": 207.1683349609375
         },
         {
          "i": 4814,
          "loss": 207.1683349609375
         },
         {
          "i": 4815,
          "loss": 207.1683349609375
         },
         {
          "i": 4816,
          "loss": 207.1683349609375
         },
         {
          "i": 4817,
          "loss": 207.1683349609375
         },
         {
          "i": 4818,
          "loss": 207.1683349609375
         },
         {
          "i": 4819,
          "loss": 207.1683349609375
         },
         {
          "i": 4820,
          "loss": 207.1683349609375
         },
         {
          "i": 4821,
          "loss": 207.1683349609375
         },
         {
          "i": 4822,
          "loss": 207.1683349609375
         },
         {
          "i": 4823,
          "loss": 207.1683349609375
         },
         {
          "i": 4824,
          "loss": 207.1683349609375
         },
         {
          "i": 4825,
          "loss": 207.1683349609375
         },
         {
          "i": 4826,
          "loss": 207.1683349609375
         },
         {
          "i": 4827,
          "loss": 207.1683349609375
         },
         {
          "i": 4828,
          "loss": 207.1683349609375
         },
         {
          "i": 4829,
          "loss": 207.1683349609375
         },
         {
          "i": 4830,
          "loss": 207.1683349609375
         },
         {
          "i": 4831,
          "loss": 207.1683349609375
         },
         {
          "i": 4832,
          "loss": 207.1683349609375
         },
         {
          "i": 4833,
          "loss": 207.1683349609375
         },
         {
          "i": 4834,
          "loss": 207.1683349609375
         },
         {
          "i": 4835,
          "loss": 207.1683349609375
         },
         {
          "i": 4836,
          "loss": 207.1683349609375
         },
         {
          "i": 4837,
          "loss": 207.1683349609375
         },
         {
          "i": 4838,
          "loss": 207.1683349609375
         },
         {
          "i": 4839,
          "loss": 207.1683349609375
         },
         {
          "i": 4840,
          "loss": 207.1683349609375
         },
         {
          "i": 4841,
          "loss": 207.1683349609375
         },
         {
          "i": 4842,
          "loss": 207.1683349609375
         },
         {
          "i": 4843,
          "loss": 207.1683349609375
         },
         {
          "i": 4844,
          "loss": 207.1683349609375
         },
         {
          "i": 4845,
          "loss": 207.1683349609375
         },
         {
          "i": 4846,
          "loss": 207.1683349609375
         },
         {
          "i": 4847,
          "loss": 207.1683349609375
         },
         {
          "i": 4848,
          "loss": 207.1683349609375
         },
         {
          "i": 4849,
          "loss": 207.1683349609375
         },
         {
          "i": 4850,
          "loss": 207.1683349609375
         },
         {
          "i": 4851,
          "loss": 207.1683349609375
         },
         {
          "i": 4852,
          "loss": 207.1683349609375
         },
         {
          "i": 4853,
          "loss": 207.1683349609375
         },
         {
          "i": 4854,
          "loss": 207.1683349609375
         },
         {
          "i": 4855,
          "loss": 207.1683349609375
         },
         {
          "i": 4856,
          "loss": 207.1683349609375
         },
         {
          "i": 4857,
          "loss": 207.1683349609375
         },
         {
          "i": 4858,
          "loss": 207.1683349609375
         },
         {
          "i": 4859,
          "loss": 207.1683349609375
         },
         {
          "i": 4860,
          "loss": 207.1683349609375
         },
         {
          "i": 4861,
          "loss": 207.1683349609375
         },
         {
          "i": 4862,
          "loss": 207.1683349609375
         },
         {
          "i": 4863,
          "loss": 207.1683349609375
         },
         {
          "i": 4864,
          "loss": 207.1683349609375
         },
         {
          "i": 4865,
          "loss": 207.1683349609375
         },
         {
          "i": 4866,
          "loss": 207.1683349609375
         },
         {
          "i": 4867,
          "loss": 207.1683349609375
         },
         {
          "i": 4868,
          "loss": 207.1683349609375
         },
         {
          "i": 4869,
          "loss": 207.1683349609375
         },
         {
          "i": 4870,
          "loss": 207.1683349609375
         },
         {
          "i": 4871,
          "loss": 207.1683349609375
         },
         {
          "i": 4872,
          "loss": 207.1683349609375
         },
         {
          "i": 4873,
          "loss": 207.1683349609375
         },
         {
          "i": 4874,
          "loss": 207.1683349609375
         },
         {
          "i": 4875,
          "loss": 207.1683349609375
         },
         {
          "i": 4876,
          "loss": 207.1683349609375
         },
         {
          "i": 4877,
          "loss": 207.1683349609375
         },
         {
          "i": 4878,
          "loss": 207.1683349609375
         },
         {
          "i": 4879,
          "loss": 207.1683349609375
         },
         {
          "i": 4880,
          "loss": 207.1683349609375
         },
         {
          "i": 4881,
          "loss": 207.1683349609375
         },
         {
          "i": 4882,
          "loss": 207.1683349609375
         },
         {
          "i": 4883,
          "loss": 207.1683349609375
         },
         {
          "i": 4884,
          "loss": 207.1683349609375
         },
         {
          "i": 4885,
          "loss": 207.1683349609375
         },
         {
          "i": 4886,
          "loss": 207.1683349609375
         },
         {
          "i": 4887,
          "loss": 207.1683349609375
         },
         {
          "i": 4888,
          "loss": 207.1683349609375
         },
         {
          "i": 4889,
          "loss": 207.1683349609375
         },
         {
          "i": 4890,
          "loss": 207.1683349609375
         },
         {
          "i": 4891,
          "loss": 207.1683349609375
         },
         {
          "i": 4892,
          "loss": 207.1683349609375
         },
         {
          "i": 4893,
          "loss": 207.1683349609375
         },
         {
          "i": 4894,
          "loss": 207.1683349609375
         },
         {
          "i": 4895,
          "loss": 207.1683349609375
         },
         {
          "i": 4896,
          "loss": 207.1683349609375
         },
         {
          "i": 4897,
          "loss": 207.1683349609375
         },
         {
          "i": 4898,
          "loss": 207.1683349609375
         },
         {
          "i": 4899,
          "loss": 207.1683349609375
         },
         {
          "i": 4900,
          "loss": 207.1683349609375
         },
         {
          "i": 4901,
          "loss": 207.1683349609375
         },
         {
          "i": 4902,
          "loss": 207.1683349609375
         },
         {
          "i": 4903,
          "loss": 207.1683349609375
         },
         {
          "i": 4904,
          "loss": 207.1683349609375
         },
         {
          "i": 4905,
          "loss": 207.1683349609375
         },
         {
          "i": 4906,
          "loss": 207.1683349609375
         },
         {
          "i": 4907,
          "loss": 207.1683349609375
         },
         {
          "i": 4908,
          "loss": 207.1683349609375
         },
         {
          "i": 4909,
          "loss": 207.1683349609375
         },
         {
          "i": 4910,
          "loss": 207.1683349609375
         },
         {
          "i": 4911,
          "loss": 207.1683349609375
         },
         {
          "i": 4912,
          "loss": 207.1683349609375
         },
         {
          "i": 4913,
          "loss": 207.1683349609375
         },
         {
          "i": 4914,
          "loss": 207.1683349609375
         },
         {
          "i": 4915,
          "loss": 207.1683349609375
         },
         {
          "i": 4916,
          "loss": 207.1683349609375
         },
         {
          "i": 4917,
          "loss": 207.1683349609375
         },
         {
          "i": 4918,
          "loss": 207.1683349609375
         },
         {
          "i": 4919,
          "loss": 207.1683349609375
         },
         {
          "i": 4920,
          "loss": 207.1683349609375
         },
         {
          "i": 4921,
          "loss": 207.1683349609375
         },
         {
          "i": 4922,
          "loss": 207.1683349609375
         },
         {
          "i": 4923,
          "loss": 207.1683349609375
         },
         {
          "i": 4924,
          "loss": 207.1683349609375
         },
         {
          "i": 4925,
          "loss": 207.1683349609375
         },
         {
          "i": 4926,
          "loss": 207.1683349609375
         },
         {
          "i": 4927,
          "loss": 207.1683349609375
         },
         {
          "i": 4928,
          "loss": 207.1683349609375
         },
         {
          "i": 4929,
          "loss": 207.1683349609375
         },
         {
          "i": 4930,
          "loss": 207.1683349609375
         },
         {
          "i": 4931,
          "loss": 207.1683349609375
         },
         {
          "i": 4932,
          "loss": 207.1683349609375
         },
         {
          "i": 4933,
          "loss": 207.1683349609375
         },
         {
          "i": 4934,
          "loss": 207.1683349609375
         },
         {
          "i": 4935,
          "loss": 207.1683349609375
         },
         {
          "i": 4936,
          "loss": 207.1683349609375
         },
         {
          "i": 4937,
          "loss": 207.1683349609375
         },
         {
          "i": 4938,
          "loss": 207.1683349609375
         },
         {
          "i": 4939,
          "loss": 207.1683349609375
         },
         {
          "i": 4940,
          "loss": 207.1683349609375
         },
         {
          "i": 4941,
          "loss": 207.1683349609375
         },
         {
          "i": 4942,
          "loss": 207.1683349609375
         },
         {
          "i": 4943,
          "loss": 207.1683349609375
         },
         {
          "i": 4944,
          "loss": 207.1683349609375
         },
         {
          "i": 4945,
          "loss": 207.1683349609375
         },
         {
          "i": 4946,
          "loss": 207.1683349609375
         },
         {
          "i": 4947,
          "loss": 207.1683349609375
         },
         {
          "i": 4948,
          "loss": 207.1683349609375
         },
         {
          "i": 4949,
          "loss": 207.1683349609375
         },
         {
          "i": 4950,
          "loss": 207.1683349609375
         },
         {
          "i": 4951,
          "loss": 207.1683349609375
         },
         {
          "i": 4952,
          "loss": 207.1683349609375
         },
         {
          "i": 4953,
          "loss": 207.1683349609375
         },
         {
          "i": 4954,
          "loss": 207.1683349609375
         },
         {
          "i": 4955,
          "loss": 207.1683349609375
         },
         {
          "i": 4956,
          "loss": 207.1683349609375
         },
         {
          "i": 4957,
          "loss": 207.1683349609375
         },
         {
          "i": 4958,
          "loss": 207.1683349609375
         },
         {
          "i": 4959,
          "loss": 207.1683349609375
         },
         {
          "i": 4960,
          "loss": 207.1683349609375
         },
         {
          "i": 4961,
          "loss": 207.1683349609375
         },
         {
          "i": 4962,
          "loss": 207.1683349609375
         },
         {
          "i": 4963,
          "loss": 207.1683349609375
         },
         {
          "i": 4964,
          "loss": 207.1683349609375
         },
         {
          "i": 4965,
          "loss": 207.1683349609375
         },
         {
          "i": 4966,
          "loss": 207.1683349609375
         },
         {
          "i": 4967,
          "loss": 207.1683349609375
         },
         {
          "i": 4968,
          "loss": 207.1683349609375
         },
         {
          "i": 4969,
          "loss": 207.1683349609375
         },
         {
          "i": 4970,
          "loss": 207.1683349609375
         },
         {
          "i": 4971,
          "loss": 207.1683349609375
         },
         {
          "i": 4972,
          "loss": 207.1683349609375
         },
         {
          "i": 4973,
          "loss": 207.1683349609375
         },
         {
          "i": 4974,
          "loss": 207.1683349609375
         },
         {
          "i": 4975,
          "loss": 207.1683349609375
         },
         {
          "i": 4976,
          "loss": 207.1683349609375
         },
         {
          "i": 4977,
          "loss": 207.1683349609375
         },
         {
          "i": 4978,
          "loss": 207.1683349609375
         },
         {
          "i": 4979,
          "loss": 207.1683349609375
         },
         {
          "i": 4980,
          "loss": 207.1683349609375
         },
         {
          "i": 4981,
          "loss": 207.1683349609375
         },
         {
          "i": 4982,
          "loss": 207.1683349609375
         },
         {
          "i": 4983,
          "loss": 207.1683349609375
         },
         {
          "i": 4984,
          "loss": 207.1683349609375
         },
         {
          "i": 4985,
          "loss": 207.1683349609375
         },
         {
          "i": 4986,
          "loss": 207.1683349609375
         },
         {
          "i": 4987,
          "loss": 207.1683349609375
         },
         {
          "i": 4988,
          "loss": 207.1683349609375
         },
         {
          "i": 4989,
          "loss": 207.1683349609375
         },
         {
          "i": 4990,
          "loss": 207.1683349609375
         },
         {
          "i": 4991,
          "loss": 207.1683349609375
         },
         {
          "i": 4992,
          "loss": 207.1683349609375
         },
         {
          "i": 4993,
          "loss": 207.1683349609375
         },
         {
          "i": 4994,
          "loss": 207.1683349609375
         },
         {
          "i": 4995,
          "loss": 207.1683349609375
         },
         {
          "i": 4996,
          "loss": 207.1683349609375
         },
         {
          "i": 4997,
          "loss": 207.1683349609375
         },
         {
          "i": 4998,
          "loss": 207.1683349609375
         },
         {
          "i": 4999,
          "loss": 207.1683349609375
         }
        ]
       },
       "encoding": {
        "x": {
         "field": "i",
         "type": "quantitative"
        },
        "y": {
         "field": "loss",
         "type": "quantitative"
        }
       },
       "mark": "line"
      },
      "image/png": "[encoded data removed]",
      "text/plain": [
       "<VegaLite 3 object>\n",
       "\n",
       "If you see this message, it means the renderer has not been properly enabled\n",
       "for the frontend that you are using. For more information, see\n",
       "https://altair-viz.github.io/user_guide/troubleshooting.html\n"
      ]
     },
     "execution_count": 552,
     "metadata": {},
     "output_type": "execute_result"
    }
   ],
   "source": [
    "loss_df = pd.DataFrame({'i':range(n_steps), 'loss':loss_record})\n",
    "alt.Chart(loss_df).mark_line().encode(x='i', y='loss')"
   ]
  },
  {
   "cell_type": "code",
   "execution_count": 557,
   "metadata": {},
   "outputs": [
    {
     "data": {
      "application/vnd.vegalite.v3+json": {
       "$schema": "https://vega.github.io/schema/vega-lite/v3.4.0.json",
       "config": {
        "mark": {
         "tooltip": null
        },
        "view": {
         "height": 300,
         "width": 400
        }
       },
       "data": {
        "name": "data-bdfc3f6e22b91060feec197d9f8cbd8f"
       },
       "datasets": {
        "data-bdfc3f6e22b91060feec197d9f8cbd8f": [
         {
          "x1": -0.11217225342988968,
          "y": 0.012582614086568356,
          "ŷ": 0
         },
         {
          "x1": -0.4608195126056671,
          "y": 0.2123546302318573,
          "ŷ": 0
         },
         {
          "x1": 2.001068592071533,
          "y": 4.004275321960449,
          "ŷ": 1.6561635732650757
         },
         {
          "x1": 0.9964570999145508,
          "y": 0.9929267764091492,
          "ŷ": 0.8247072696685791
         },
         {
          "x1": 0.34937000274658203,
          "y": 0.1220593973994255,
          "ŷ": 0.28915244340896606
         },
         {
          "x1": -1.0138063430786133,
          "y": 1.0278033018112183,
          "ŷ": 0
         },
         {
          "x1": -0.3608241081237793,
          "y": 0.1301940381526947,
          "ŷ": 0
         },
         {
          "x1": -1.4094330072402954,
          "y": 1.9865014553070068,
          "ŷ": 0
         },
         {
          "x1": 0.2628556191921234,
          "y": 0.06909307837486267,
          "ŷ": 0.21754971146583557
         },
         {
          "x1": 0.27526819705963135,
          "y": 0.07577258348464966,
          "ŷ": 0.2278228998184204
         },
         {
          "x1": -1.6922626495361328,
          "y": 2.863752841949463,
          "ŷ": 0
         },
         {
          "x1": 1.0171849727630615,
          "y": 1.0346652269363403,
          "ŷ": 0.8418625593185425
         },
         {
          "x1": 0.06370030343532562,
          "y": 0.004057728685438633,
          "ŷ": 0.05272088944911957
         },
         {
          "x1": 0.09996684640645981,
          "y": 0.009993370622396469,
          "ŷ": 0.08273650705814362
         },
         {
          "x1": 0.6320671439170837,
          "y": 0.39950886368751526,
          "ŷ": 0.5231237411499023
         },
         {
          "x1": -1.3160761594772339,
          "y": 1.7320564985275269,
          "ŷ": 0
         },
         {
          "x1": -0.5212435126304626,
          "y": 0.2716948091983795,
          "ŷ": 0
         },
         {
          "x1": 0.7998284697532654,
          "y": 0.6397255659103394,
          "ŷ": 0.6619697213172913
         },
         {
          "x1": 0.48542317748069763,
          "y": 0.2356356680393219,
          "ŷ": 0.4017554521560669
         },
         {
          "x1": 1.0587780475616455,
          "y": 1.1210108995437622,
          "ŷ": 0.876286506652832
         },
         {
          "x1": 1.2445673942565918,
          "y": 1.548948049545288,
          "ŷ": 1.0300531387329102
         },
         {
          "x1": -0.5970028638839722,
          "y": 0.356412410736084,
          "ŷ": 0
         },
         {
          "x1": 0.6876744627952576,
          "y": 0.47289615869522095,
          "ŷ": 0.5691465139389038
         },
         {
          "x1": -1.0849007368087769,
          "y": 1.1770095825195312,
          "ŷ": 0
         },
         {
          "x1": -2.8754324913024902,
          "y": 8.268112182617188,
          "ŷ": 0
         },
         {
          "x1": -0.7529717087745667,
          "y": 0.5669664144515991,
          "ŷ": 0
         },
         {
          "x1": -0.6494144201278687,
          "y": 0.4217391014099121,
          "ŷ": 0
         },
         {
          "x1": 0.6079124808311462,
          "y": 0.36955758929252625,
          "ŷ": 0.5031324028968811
         },
         {
          "x1": -1.371833086013794,
          "y": 1.8819260597229004,
          "ŷ": 0
         },
         {
          "x1": -0.25093507766723633,
          "y": 0.062968410551548,
          "ŷ": 0
         },
         {
          "x1": -0.40765857696533203,
          "y": 0.16618551313877106,
          "ŷ": 0
         },
         {
          "x1": -0.6454721093177795,
          "y": 0.4166342318058014,
          "ŷ": 0
         },
         {
          "x1": 1.8776732683181763,
          "y": 3.5256569385528564,
          "ŷ": 1.5540363788604736
         },
         {
          "x1": -0.7407894730567932,
          "y": 0.5487690567970276,
          "ŷ": 0
         },
         {
          "x1": -1.5169732570648193,
          "y": 2.3012077808380127,
          "ŷ": 0
         },
         {
          "x1": -1.2892552614212036,
          "y": 1.6621791124343872,
          "ŷ": 0
         },
         {
          "x1": 1.252880334854126,
          "y": 1.5697091817855835,
          "ŷ": 1.0369333028793335
         },
         {
          "x1": -1.1196410655975342,
          "y": 1.2535960674285889,
          "ŷ": 0
         },
         {
          "x1": 0.7275103330612183,
          "y": 0.5292713046073914,
          "ŷ": 0.6021162271499634
         },
         {
          "x1": -1.3125743865966797,
          "y": 1.7228515148162842,
          "ŷ": 0
         },
         {
          "x1": 0.26573076844215393,
          "y": 0.0706128403544426,
          "ŷ": 0.2199292629957199
         },
         {
          "x1": -0.14275217056274414,
          "y": 0.02037818171083927,
          "ŷ": 0
         },
         {
          "x1": -1.5038347244262695,
          "y": 2.261518955230713,
          "ŷ": 0
         },
         {
          "x1": 0.10770537704229355,
          "y": 0.011600447818636894,
          "ŷ": 0.08914121240377426
         },
         {
          "x1": -0.5870918035507202,
          "y": 0.34467679262161255,
          "ŷ": 0
         },
         {
          "x1": 1.3935420513153076,
          "y": 1.9419595003128052,
          "ŷ": 1.1533504724502563
         },
         {
          "x1": -1.060335636138916,
          "y": 1.1243116855621338,
          "ŷ": 0
         },
         {
          "x1": 0.10542527586221695,
          "y": 0.01111448835581541,
          "ŷ": 0.08725414425134659
         },
         {
          "x1": 1.2119159698486328,
          "y": 1.4687403440475464,
          "ŷ": 1.0030295848846436
         },
         {
          "x1": -0.9634400010108948,
          "y": 0.9282166361808777,
          "ŷ": 0
         },
         {
          "x1": 0.20561833679676056,
          "y": 0.04227890074253082,
          "ŷ": 0.1701778620481491
         },
         {
          "x1": -1.7732146978378296,
          "y": 3.1442904472351074,
          "ŷ": 0
         },
         {
          "x1": -0.6831590533256531,
          "y": 0.4667063057422638,
          "ŷ": 0
         },
         {
          "x1": -0.5549538731575012,
          "y": 0.30797380208969116,
          "ŷ": 0
         },
         {
          "x1": -0.24082110822200775,
          "y": 0.05799480527639389,
          "ŷ": 0
         },
         {
          "x1": -0.39596492052078247,
          "y": 0.15678821504116058,
          "ŷ": 0
         },
         {
          "x1": -0.22228285670280457,
          "y": 0.049409668892621994,
          "ŷ": 0
         },
         {
          "x1": -0.33774811029434204,
          "y": 0.11407378315925598,
          "ŷ": 0
         },
         {
          "x1": -0.6727280020713806,
          "y": 0.45256295800209045,
          "ŷ": 0
         },
         {
          "x1": -0.3113402724266052,
          "y": 0.09693276882171631,
          "ŷ": 0
         },
         {
          "x1": -0.2843509614467621,
          "y": 0.08085546642541885,
          "ŷ": 0
         },
         {
          "x1": 0.18115752935409546,
          "y": 0.03281804919242859,
          "ŷ": 0.1499331146478653
         },
         {
          "x1": 0.21163490414619446,
          "y": 0.044789332896471024,
          "ŷ": 0.17515739798545837
         },
         {
          "x1": -0.30238234996795654,
          "y": 0.09143508225679398,
          "ŷ": 0
         },
         {
          "x1": 0.627772331237793,
          "y": 0.39409810304641724,
          "ŷ": 0.5195691585540771
         },
         {
          "x1": -0.5518140196800232,
          "y": 0.30449870228767395,
          "ŷ": 0
         },
         {
          "x1": -1.7077187299728394,
          "y": 2.9163031578063965,
          "ŷ": 0
         },
         {
          "x1": -1.6215187311172485,
          "y": 2.6293230056762695,
          "ŷ": 0
         },
         {
          "x1": 0.9898726344108582,
          "y": 0.9798478484153748,
          "ŷ": 0.8192576169967651
         },
         {
          "x1": 0.46187594532966614,
          "y": 0.21332938969135284,
          "ŷ": 0.3822668194770813
         },
         {
          "x1": -0.1807945966720581,
          "y": 0.032686688005924225,
          "ŷ": 0
         },
         {
          "x1": 0.12807846069335938,
          "y": 0.01640409231185913,
          "ŷ": 0.1060028001666069
         },
         {
          "x1": -0.03299020603299141,
          "y": 0.0010883536888286471,
          "ŷ": 0
         },
         {
          "x1": -0.26246073842048645,
          "y": 0.06888563930988312,
          "ŷ": 0
         },
         {
          "x1": -0.830220103263855,
          "y": 0.6892654299736023,
          "ŷ": 0
         },
         {
          "x1": -0.3836580514907837,
          "y": 0.14719350636005402,
          "ŷ": 0
         },
         {
          "x1": 0.8863919377326965,
          "y": 0.7856906652450562,
          "ŷ": 0.7336130142211914
         },
         {
          "x1": 0.7006953954696655,
          "y": 0.4909740388393402,
          "ŷ": 0.5799232721328735
         },
         {
          "x1": -0.29194673895835876,
          "y": 0.08523289859294891,
          "ŷ": 0
         },
         {
          "x1": -0.012438919395208359,
          "y": 0.00015472671657335013,
          "ŷ": 0
         },
         {
          "x1": 0.3752630650997162,
          "y": 0.1408223658800125,
          "ŷ": 0.31058260798454285
         },
         {
          "x1": -0.8639330863952637,
          "y": 0.7463803887367249,
          "ŷ": 0
         },
         {
          "x1": 0.6656767129898071,
          "y": 0.44312548637390137,
          "ŷ": 0.5509403347969055
         },
         {
          "x1": 0.32704371213912964,
          "y": 0.10695759207010269,
          "ŷ": 0.2706742584705353
         },
         {
          "x1": -1.5875086784362793,
          "y": 2.520183801651001,
          "ŷ": 0
         },
         {
          "x1": 1.0567034482955933,
          "y": 1.1166222095489502,
          "ŷ": 0.8745694756507874
         },
         {
          "x1": 0.20110581815242767,
          "y": 0.040443550795316696,
          "ŷ": 0.1664431393146515
         },
         {
          "x1": -0.4840986430644989,
          "y": 0.2343515008687973,
          "ŷ": 0
         },
         {
          "x1": -0.35262352228164673,
          "y": 0.12434335052967072,
          "ŷ": 0
         },
         {
          "x1": 0.07722972333431244,
          "y": 0.005964430049061775,
          "ŷ": 0.06391838192939758
         },
         {
          "x1": -1.5472263097763062,
          "y": 2.393909215927124,
          "ŷ": 0
         },
         {
          "x1": -0.7180348634719849,
          "y": 0.515574038028717,
          "ŷ": 0
         },
         {
          "x1": -0.3203732669353485,
          "y": 0.10263902693986893,
          "ŷ": 0
         },
         {
          "x1": 0.27027255296707153,
          "y": 0.07304725050926208,
          "ŷ": 0.22368822991847992
         },
         {
          "x1": -0.22848692536354065,
          "y": 0.05220627412199974,
          "ŷ": 0
         },
         {
          "x1": 0.5705799460411072,
          "y": 0.3255614638328552,
          "ŷ": 0.47223448753356934
         },
         {
          "x1": 0.3663382828235626,
          "y": 0.1342037320137024,
          "ŷ": 0.3031960725784302
         },
         {
          "x1": -1.6488630771636963,
          "y": 2.718749523162842,
          "ŷ": 0
         },
         {
          "x1": -1.2012945413589478,
          "y": 1.4431085586547852,
          "ŷ": 0
         },
         {
          "x1": -0.006710333283990622,
          "y": 4.5028573367744684e-05,
          "ŷ": 0
         }
        ]
       },
       "layer": [
        {
         "encoding": {
          "x": {
           "field": "x1",
           "type": "quantitative"
          },
          "y": {
           "field": "ŷ",
           "type": "quantitative"
          }
         },
         "mark": "line"
        },
        {
         "encoding": {
          "x": {
           "field": "x1",
           "type": "quantitative"
          },
          "y": {
           "field": "y",
           "type": "quantitative"
          }
         },
         "mark": "point"
        }
       ]
      },
      "image/png": "[encoded data removed]",
      "text/plain": [
       "<VegaLite 3 object>\n",
       "\n",
       "If you see this message, it means the renderer has not been properly enabled\n",
       "for the frontend that you are using. For more information, see\n",
       "https://altair-viz.github.io/user_guide/troubleshooting.html\n"
      ]
     },
     "execution_count": 557,
     "metadata": {},
     "output_type": "execute_result"
    }
   ],
   "source": [
    "preds = pd.DataFrame({'ŷ':my_model(x).detach().numpy()[:,0], 'y':y, 'x1':x[:,0]})\n",
    "(alt.Chart(preds).mark_line().encode(x='x1', y='ŷ') + \n",
    "alt.Chart(preds).mark_point().encode(x='x1', y='y'))"
   ]
  },
  {
   "cell_type": "code",
   "execution_count": null,
   "metadata": {},
   "outputs": [],
   "source": []
  },
  {
   "cell_type": "code",
   "execution_count": null,
   "metadata": {},
   "outputs": [],
   "source": []
  }
 ],
 "metadata": {
  "kernelspec": {
   "display_name": "Python 3",
   "language": "python",
   "name": "python3"
  },
  "language_info": {
   "codemirror_mode": {
    "name": "ipython",
    "version": 3
   },
   "file_extension": ".py",
   "mimetype": "text/x-python",
   "name": "python",
   "nbconvert_exporter": "python",
   "pygments_lexer": "ipython3",
   "version": "3.7.6"
  }
 },
 "nbformat": 4,
 "nbformat_minor": 4
}
